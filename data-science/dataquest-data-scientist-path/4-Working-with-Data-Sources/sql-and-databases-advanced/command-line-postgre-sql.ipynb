{
 "cells": [
  {
   "cell_type": "markdown",
   "metadata": {},
   "source": [
    "# Command line PostgreSQL\n",
    "\n",
    "### The psql tool\n",
    "\n",
    "In the last mission, we worked with PostgreSQL, or Postgres, databases and tables. In this mission, we'll learn how to work with the PostgreSQL command line tool, called [psql](http://www.postgresql.org/docs/9.4/static/app-psql.html). <br>\n",
    "\n",
    "[psql]((http://www.postgresql.org/docs/9.4/static/app-psql.html)) is similar to the [sqlite3](https://www.sqlite.org/cli.html) command line tool in that it allows you to connect to and manage databases. psql connects to a running PostgreSQL server process, then enables you to:\n",
    "\n",
    "* Run queries.\n",
    "* Manage users and permissions.\n",
    "* Manage databases.\n",
    "* See PostgreSQL system information.\n",
    "\n",
    "By default, psql will connect to a PostgreSQL server running on the current computer, using port `5432`. \n",
    "* If you don't specify a user and database to connect to, it will use the defaults. \n",
    "* By default, the name of the currently logged in system user will be used as both the PostgreSQL user name and database name.\n",
    "\n",
    "If you're logged in to a computer as the system user `dq`, then type `psql`, you will connect to the `dq` database as a PostgreSQL user called dq. We'll learn later on how to connect to different databases using different PostgreSQL users. <br>\n",
    "\n",
    "After you're finished working with [psql](http://www.postgresql.org/docs/9.4/static/app-psql.html), you can exit using the `\\q` command."
   ]
  },
  {
   "cell_type": "code",
   "execution_count": null,
   "metadata": {},
   "outputs": [],
   "source": []
  },
  {
   "cell_type": "markdown",
   "metadata": {},
   "source": [
    "### Running SQL queries"
   ]
  },
  {
   "cell_type": "markdown",
   "metadata": {},
   "source": [
    "```bash\n",
    "psql\n",
    "\n",
    "psql (9.4.15)\n",
    "Type \"help\" for help.\n",
    "\n",
    "create database bank_accounts;\n",
    "CREATE DATABASE\n",
    "\n",
    "\\q\n",
    "```"
   ]
  },
  {
   "cell_type": "code",
   "execution_count": null,
   "metadata": {},
   "outputs": [],
   "source": []
  },
  {
   "cell_type": "markdown",
   "metadata": {},
   "source": [
    "### Special PostgreSQL commands"
   ]
  },
  {
   "cell_type": "markdown",
   "metadata": {},
   "source": [
    "We can run several special commands using psql. These commands start with a backslash (`\\`), and can perform a variety of functions, including:\n",
    "\n",
    "* Listing databases\n",
    "* Listing tables\n",
    "* Managing users\n",
    "\n",
    "You can see a full list of all of the special functions by running `\\?` after starting psql. You'll need to type `q` to exit the resulting help interface. You can also find the full list [here](http://www.postgresql.org/docs/9.4/static/app-psql.html).\n",
    "\n",
    "Two common functions to run are:\n",
    "\n",
    "* `\\l` -- list all available databases.\n",
    "* `\\dt` -- list all tables in the current database.\n",
    "* `\\du` -- list users.\n"
   ]
  },
  {
   "cell_type": "code",
   "execution_count": null,
   "metadata": {},
   "outputs": [],
   "source": []
  },
  {
   "cell_type": "markdown",
   "metadata": {},
   "source": [
    "### Switching databases"
   ]
  },
  {
   "cell_type": "markdown",
   "metadata": {},
   "source": [
    "When we're connected to a **specific SQL database, we can only create tables within that database**, and run queries on tables in that database. In the past few screens, we've been connected to the `dq` database. This prevents us from manipulating tables in the `bank_accounts` database. <br>\n",
    "\n",
    "You can **connect to a different database using the `-d` option** of psql. If you wanted to connect to a database called `dataquest`, you could use the following command:\n",
    "\n",
    "```psql -d dataquest```\n",
    "\n",
    "```sql\n",
    "\n",
    "psql\n",
    "create table deposits(id integer primary key, name text, amount float);\n",
    "\\dt\n",
    "\\q\n",
    "\n",
    "```"
   ]
  },
  {
   "cell_type": "code",
   "execution_count": null,
   "metadata": {},
   "outputs": [],
   "source": []
  },
  {
   "cell_type": "markdown",
   "metadata": {},
   "source": [
    "### Creating users"
   ]
  },
  {
   "cell_type": "markdown",
   "metadata": {},
   "source": [
    "In order to manage access to different databases, you can also create users. Users will be able to log into a PostgreSQL database and run queries. You can create a user with the [CREATE ROLE](http://www.postgresql.org/docs/9.4/static/sql-createrole.html) statement. Here's how the statement looks:\n",
    "\n",
    "`CREATE ROLE userName;`\n",
    "\n",
    "By default, the user isn't allowed to login to PostgreSQL and run queries. You can fix this by adding the `WITH` and `LOGIN` statements:\n",
    "\n",
    "`CREATE ROLE userName with LOGIN;`\n",
    "\n",
    "If you run the pseudo-code above with a real username, you may be unable to login as that user. Depending on the configuration of your PostgreSQL instance, you may either be unable to login entirely, or will only be able to login when your system user name is the same as the PostgreSQL user name you want to login as. You can get around this by creating a password -- you'll then be able to login using the password. We'll cover PostgreSQL authentication and login methods in more depth in a later mission. <br>\n",
    "\n",
    "You can create a password using the `WITH PASSWORD` statement like this:\n",
    "\n",
    "`CREATE ROLE userName WITH LOGIN PASSWORD 'password';`\n",
    "\n",
    "If the user needs to be able to create databases, you can add that ability in with the `CREATEDB` statement:\n",
    "\n",
    "`CREATE ROLE userName WITH CREATEDB LOGIN PASSWORD 'password';`\n",
    "\n",
    "As you may be able to tell from above, we can keep modifying how the user is created by adding statements after the WITH statement. Some other statements we can add are:\n",
    "\n",
    "* `CREATEROLE` -- allows the user to create other users.\n",
    "* `SUPERUSER` -- makes the user a superuser. We'll cover what a superuser is later on.\n",
    "\n",
    "For a full list of statements that can be added, see [here](http://www.postgresql.org/docs/9.4/static/sql-createrole.html).\n",
    "\n"
   ]
  },
  {
   "cell_type": "code",
   "execution_count": null,
   "metadata": {},
   "outputs": [],
   "source": []
  },
  {
   "cell_type": "markdown",
   "metadata": {},
   "source": [
    "* Practice\n",
    "\n",
    "```\n",
    "psql\n",
    "\n",
    "create role sec with createdb login password 'test';\n",
    "\n",
    "\\du\n",
    "\\q\n",
    "\n",
    "```"
   ]
  },
  {
   "cell_type": "code",
   "execution_count": null,
   "metadata": {},
   "outputs": [],
   "source": []
  },
  {
   "cell_type": "markdown",
   "metadata": {},
   "source": [
    "### Adding permissions"
   ]
  },
  {
   "cell_type": "markdown",
   "metadata": {},
   "source": [
    "When users are created, they don't have any ability, or permissions, to access tables in existing databases. This is done for security reasons, so that all permissions are issued explicitly instead of being unexpected. You can issue permissions to a user using the GRANT statement. The [GRANT](http://www.postgresql.org/docs/9.4/static/sql-grant.html) statement will issue permissions to access certain tables in a database to a certain user. You can allow a user to perform `SELECT` queries on a given table like this:\n",
    "\n",
    "`GRANT SELECT ON tableName TO userName;`\n",
    "\n",
    "If you want to grant different types of permissions, you can separate them with commas. The below query will allow a given user to query data from a table, update rows in the table, insert rows into the table, and delete rows from the table:\n",
    "\n",
    "`GRANT SELECT, INSERT, UPDATE, DELETE ON tableName TO userName;`\n",
    "\n",
    "A shortcut for this is to use the ALL PRIVILEGES statement:\n",
    "\n",
    "`GRANT ALL PRIVILEGES ON tableName TO userName;`\n",
    "\n",
    "You can use the psql `\\dp` command to find out what privileges have been granted to users for a specific table:\n",
    "\n",
    "`\\dp tableName`"
   ]
  },
  {
   "cell_type": "code",
   "execution_count": null,
   "metadata": {},
   "outputs": [],
   "source": []
  },
  {
   "cell_type": "markdown",
   "metadata": {},
   "source": [
    "* **Practice**\n",
    "\n",
    "```bash\n",
    "psql -d bank_accounts\n",
    "\n",
    "> grant all privileges on deposits to sec;\n",
    "GRANT\n",
    "> \\dp\n",
    "> \\q\n",
    "\n",
    "\n",
    "```"
   ]
  },
  {
   "cell_type": "code",
   "execution_count": null,
   "metadata": {},
   "outputs": [],
   "source": []
  },
  {
   "cell_type": "markdown",
   "metadata": {},
   "source": [
    "### Removing permissions"
   ]
  },
  {
   "cell_type": "markdown",
   "metadata": {},
   "source": [
    "There are times when you'll want to remove permissions that you granted to a user previously. \n",
    "### Permissions can be removed using the [`REVOKE`](http://www.postgresql.org/docs/9.4/static/sql-revoke.html) statement. \n",
    "The REVOKE statement enables you to take back any permissions given via the GRANT statement. You can revoke the ability for a user to run queries:\n",
    "\n",
    "`REVOKE SELECT ON tableName FROM userName;`\n",
    "\n",
    "If you want to revoke different types of permissions, you can separate them with commas. The below query will revoke permissions for a given user to query data from a table, update rows in the table, insert rows into the table, and delete rows from the table:\n",
    "\n",
    "`REVOKE SELECT, INSERT, UPDATE, DELETE ON tableName FROM userName;`\n",
    "\n",
    "A shortcut for this is to use the ALL PRIVILEGES statement:\n",
    "\n",
    "`REVOKE ALL PRIVILEGES ON tableName FROM userName;`\n",
    "\n",
    "The above syntax likely looks very similar to the GRANT syntax from the last screen. This is by design, and both are as similar as possible to make adding and removing permissions straightforward."
   ]
  },
  {
   "cell_type": "code",
   "execution_count": null,
   "metadata": {},
   "outputs": [],
   "source": []
  },
  {
   "cell_type": "markdown",
   "metadata": {},
   "source": [
    "```bash\n",
    "psql -d bank_accounts\n",
    "\n",
    "> revoke all privileges on deposits from sec;\n",
    "REVOKE\n",
    "> \\dp\n",
    "> \\q\n",
    "```\n"
   ]
  },
  {
   "cell_type": "code",
   "execution_count": null,
   "metadata": {},
   "outputs": [],
   "source": []
  },
  {
   "cell_type": "markdown",
   "metadata": {},
   "source": [
    "### Superusers\n",
    "\n",
    "A superuser is a special type of user that overrides all access restrictions. Superusers can perform any function in a database, and a user should only be made a superuser in special cases. Adding the SUPERUSER statement to a CREATE ROLE statement will make a user a superuser:\n",
    "\n",
    "`CREATE ROLE userName WITH SUPERUSER;`\n",
    "\n",
    "You can also setup login and a password for the superuser:\n",
    "\n",
    "`CREATE ROLE userName WITH LOGIN PASSWORD 'password' SUPERUSER;`"
   ]
  },
  {
   "cell_type": "code",
   "execution_count": null,
   "metadata": {},
   "outputs": [],
   "source": []
  },
  {
   "cell_type": "markdown",
   "metadata": {},
   "source": [
    "```bash\n",
    "\n",
    "psql\n",
    "\n",
    "> create role aig with login password 'test' superuser;\n",
    "CREATE ROLE\n",
    "> \\du\n",
    "> \\q\n",
    "\n",
    "```"
   ]
  },
  {
   "cell_type": "code",
   "execution_count": null,
   "metadata": {},
   "outputs": [],
   "source": []
  },
  {
   "cell_type": "code",
   "execution_count": null,
   "metadata": {},
   "outputs": [],
   "source": []
  }
 ],
 "metadata": {
  "kernelspec": {
   "display_name": "Python 3",
   "language": "python",
   "name": "python3"
  },
  "language_info": {
   "codemirror_mode": {
    "name": "ipython",
    "version": 3
   },
   "file_extension": ".py",
   "mimetype": "text/x-python",
   "name": "python",
   "nbconvert_exporter": "python",
   "pygments_lexer": "ipython3",
   "version": "3.6.2"
  }
 },
 "nbformat": 4,
 "nbformat_minor": 2
}
