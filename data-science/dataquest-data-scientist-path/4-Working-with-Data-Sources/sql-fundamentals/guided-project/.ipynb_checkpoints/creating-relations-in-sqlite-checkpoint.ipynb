{
 "cells": [
  {
   "cell_type": "markdown",
   "metadata": {},
   "source": [
    "# Guided Project\n",
    "# Creating Relations in SQLite"
   ]
  },
  {
   "cell_type": "markdown",
   "metadata": {},
   "source": [
    "As a quick refresher, the Academy Awards, also known as the Oscars, is an annual awards ceremony hosted to recognize the achievements in the film industry. There are many different awards categories and the members of the academy vote every year to decide which artist or film should get the award. Each row in our data represents a nomination for an award. Recall that our database file, `nominations.db`, contains just the `nominations` table. This table has the following schema:\n",
    "\n",
    "* `Year` - the year of the awards ceremony, integer type.\n",
    "* `Category` - the category of award the nominee was nominated for, text type.\n",
    "* `Nominee` - the person nominated for the award, text type.\n",
    "* `Movie` - the movie the nominee participated in, text type.\n",
    "* `Character` - the name of the character the nominee played, text type.\n",
    "* `Won` - if this nominee won the award, integer type.\n",
    "\n",
    "Let's now set up our enviroment and spend some time getting familiar with the data before we start normalizing it."
   ]
  },
  {
   "cell_type": "code",
   "execution_count": 1,
   "metadata": {
    "collapsed": true
   },
   "outputs": [],
   "source": [
    "import sqlite3\n",
    "import pandas as pd"
   ]
  },
  {
   "cell_type": "code",
   "execution_count": 2,
   "metadata": {
    "collapsed": true
   },
   "outputs": [],
   "source": [
    "conn = sqlite3.connect('nominations.db')"
   ]
  },
  {
   "cell_type": "code",
   "execution_count": 3,
   "metadata": {},
   "outputs": [
    {
     "data": {
      "text/html": [
       "<div>\n",
       "<table border=\"1\" class=\"dataframe\">\n",
       "  <thead>\n",
       "    <tr style=\"text-align: right;\">\n",
       "      <th></th>\n",
       "      <th>Year</th>\n",
       "      <th>Category</th>\n",
       "      <th>Nominee</th>\n",
       "      <th>Won</th>\n",
       "      <th>Movie</th>\n",
       "      <th>Character</th>\n",
       "    </tr>\n",
       "  </thead>\n",
       "  <tbody>\n",
       "    <tr>\n",
       "      <th>0</th>\n",
       "      <td>2010</td>\n",
       "      <td>Actor -- Leading Role</td>\n",
       "      <td>Javier Bardem</td>\n",
       "      <td>0</td>\n",
       "      <td>Biutiful</td>\n",
       "      <td>Uxbal</td>\n",
       "    </tr>\n",
       "    <tr>\n",
       "      <th>1</th>\n",
       "      <td>2010</td>\n",
       "      <td>Actor -- Leading Role</td>\n",
       "      <td>Jeff Bridges</td>\n",
       "      <td>0</td>\n",
       "      <td>True Grit</td>\n",
       "      <td>Rooster Cogburn</td>\n",
       "    </tr>\n",
       "    <tr>\n",
       "      <th>2</th>\n",
       "      <td>2010</td>\n",
       "      <td>Actor -- Leading Role</td>\n",
       "      <td>Jesse Eisenberg</td>\n",
       "      <td>0</td>\n",
       "      <td>The Social Network</td>\n",
       "      <td>Mark Zuckerberg</td>\n",
       "    </tr>\n",
       "    <tr>\n",
       "      <th>3</th>\n",
       "      <td>2010</td>\n",
       "      <td>Actor -- Leading Role</td>\n",
       "      <td>Colin Firth</td>\n",
       "      <td>1</td>\n",
       "      <td>The King's Speech</td>\n",
       "      <td>King George VI</td>\n",
       "    </tr>\n",
       "    <tr>\n",
       "      <th>4</th>\n",
       "      <td>2010</td>\n",
       "      <td>Actor -- Leading Role</td>\n",
       "      <td>James Franco</td>\n",
       "      <td>0</td>\n",
       "      <td>127 Hours</td>\n",
       "      <td>Aron Ralston</td>\n",
       "    </tr>\n",
       "    <tr>\n",
       "      <th>5</th>\n",
       "      <td>2010</td>\n",
       "      <td>Actor -- Supporting Role</td>\n",
       "      <td>Christian Bale</td>\n",
       "      <td>1</td>\n",
       "      <td>The Fighter</td>\n",
       "      <td>Dicky Eklund</td>\n",
       "    </tr>\n",
       "    <tr>\n",
       "      <th>6</th>\n",
       "      <td>2010</td>\n",
       "      <td>Actor -- Supporting Role</td>\n",
       "      <td>John Hawkes</td>\n",
       "      <td>0</td>\n",
       "      <td>Winter's Bone</td>\n",
       "      <td>Teardrop</td>\n",
       "    </tr>\n",
       "    <tr>\n",
       "      <th>7</th>\n",
       "      <td>2010</td>\n",
       "      <td>Actor -- Supporting Role</td>\n",
       "      <td>Jeremy Renner</td>\n",
       "      <td>0</td>\n",
       "      <td>The Town</td>\n",
       "      <td>James Coughlin</td>\n",
       "    </tr>\n",
       "    <tr>\n",
       "      <th>8</th>\n",
       "      <td>2010</td>\n",
       "      <td>Actor -- Supporting Role</td>\n",
       "      <td>Mark Ruffalo</td>\n",
       "      <td>0</td>\n",
       "      <td>The Kids Are All Right</td>\n",
       "      <td>Paul</td>\n",
       "    </tr>\n",
       "    <tr>\n",
       "      <th>9</th>\n",
       "      <td>2010</td>\n",
       "      <td>Actor -- Supporting Role</td>\n",
       "      <td>Geoffrey Rush</td>\n",
       "      <td>0</td>\n",
       "      <td>The King's Speech</td>\n",
       "      <td>Lionel Logue</td>\n",
       "    </tr>\n",
       "  </tbody>\n",
       "</table>\n",
       "</div>"
      ],
      "text/plain": [
       "   Year                  Category          Nominee  Won  \\\n",
       "0  2010     Actor -- Leading Role    Javier Bardem    0   \n",
       "1  2010     Actor -- Leading Role     Jeff Bridges    0   \n",
       "2  2010     Actor -- Leading Role  Jesse Eisenberg    0   \n",
       "3  2010     Actor -- Leading Role      Colin Firth    1   \n",
       "4  2010     Actor -- Leading Role     James Franco    0   \n",
       "5  2010  Actor -- Supporting Role   Christian Bale    1   \n",
       "6  2010  Actor -- Supporting Role      John Hawkes    0   \n",
       "7  2010  Actor -- Supporting Role    Jeremy Renner    0   \n",
       "8  2010  Actor -- Supporting Role     Mark Ruffalo    0   \n",
       "9  2010  Actor -- Supporting Role    Geoffrey Rush    0   \n",
       "\n",
       "                    Movie        Character  \n",
       "0                Biutiful            Uxbal  \n",
       "1               True Grit  Rooster Cogburn  \n",
       "2      The Social Network  Mark Zuckerberg  \n",
       "3       The King's Speech   King George VI  \n",
       "4               127 Hours     Aron Ralston  \n",
       "5             The Fighter     Dicky Eklund  \n",
       "6           Winter's Bone         Teardrop  \n",
       "7                The Town   James Coughlin  \n",
       "8  The Kids Are All Right             Paul  \n",
       "9       The King's Speech     Lionel Logue  "
      ]
     },
     "execution_count": 3,
     "metadata": {},
     "output_type": "execute_result"
    }
   ],
   "source": [
    "pd.read_sql('select * from nominations limit 10', conn)"
   ]
  },
  {
   "cell_type": "code",
   "execution_count": 4,
   "metadata": {},
   "outputs": [
    {
     "data": {
      "text/plain": [
       "[(0, 'Year', 'INTEGER', 0, None, 0),\n",
       " (1, 'Category', 'TEXT', 0, None, 0),\n",
       " (2, 'Nominee', 'TEXT', 0, None, 0),\n",
       " (3, 'Won', 'INTEGER', 0, None, 0),\n",
       " (4, 'Movie', 'TEXT', 0, None, 0),\n",
       " (5, 'Character', 'TEXT', 0, None, 0)]"
      ]
     },
     "execution_count": 4,
     "metadata": {},
     "output_type": "execute_result"
    }
   ],
   "source": [
    "schema = conn.cursor().execute('pragma table_info(nominations)').fetchall()\n",
    "schema"
   ]
  },
  {
   "cell_type": "code",
   "execution_count": 5,
   "metadata": {
    "scrolled": true
   },
   "outputs": [],
   "source": [
    "first_ten = conn.cursor().execute('select * from nominations limit 10').fetchall()\n",
    "#first_ten"
   ]
  },
  {
   "cell_type": "code",
   "execution_count": 6,
   "metadata": {
    "scrolled": true
   },
   "outputs": [
    {
     "name": "stdout",
     "output_type": "stream",
     "text": [
      "(0, 'Year', 'INTEGER', 0, None, 0)\n",
      "(1, 'Category', 'TEXT', 0, None, 0)\n",
      "(2, 'Nominee', 'TEXT', 0, None, 0)\n",
      "(3, 'Won', 'INTEGER', 0, None, 0)\n",
      "(4, 'Movie', 'TEXT', 0, None, 0)\n",
      "(5, 'Character', 'TEXT', 0, None, 0)\n"
     ]
    }
   ],
   "source": [
    "for sc in schema:\n",
    "    print(sc)"
   ]
  },
  {
   "cell_type": "code",
   "execution_count": 7,
   "metadata": {
    "scrolled": true
   },
   "outputs": [
    {
     "name": "stdout",
     "output_type": "stream",
     "text": [
      "(2010, 'Actor -- Leading Role', 'Javier Bardem', 0, 'Biutiful', 'Uxbal')\n",
      "(2010, 'Actor -- Leading Role', 'Jeff Bridges', 0, 'True Grit', 'Rooster Cogburn')\n",
      "(2010, 'Actor -- Leading Role', 'Jesse Eisenberg', 0, 'The Social Network', 'Mark Zuckerberg')\n",
      "(2010, 'Actor -- Leading Role', 'Colin Firth', 1, \"The King's Speech\", 'King George VI')\n",
      "(2010, 'Actor -- Leading Role', 'James Franco', 0, '127 Hours', 'Aron Ralston')\n",
      "(2010, 'Actor -- Supporting Role', 'Christian Bale', 1, 'The Fighter', 'Dicky Eklund')\n",
      "(2010, 'Actor -- Supporting Role', 'John Hawkes', 0, \"Winter's Bone\", 'Teardrop')\n",
      "(2010, 'Actor -- Supporting Role', 'Jeremy Renner', 0, 'The Town', 'James Coughlin')\n",
      "(2010, 'Actor -- Supporting Role', 'Mark Ruffalo', 0, 'The Kids Are All Right', 'Paul')\n",
      "(2010, 'Actor -- Supporting Role', 'Geoffrey Rush', 0, \"The King's Speech\", 'Lionel Logue')\n"
     ]
    }
   ],
   "source": [
    "for row in first_ten:\n",
    "    print(row)"
   ]
  },
  {
   "cell_type": "code",
   "execution_count": null,
   "metadata": {
    "collapsed": true
   },
   "outputs": [],
   "source": []
  },
  {
   "cell_type": "markdown",
   "metadata": {},
   "source": [
    "Let's now add information on the host for each awards ceremony. Instead of adding a `Host` column to the `nominations` table and having lots of redundant data, we'll create **a separate table called `ceremonies`** which contains data specific to the ceremony itself. <br>\n",
    "\n",
    "Let's create a `ceremonies` table that contains the `Year` and `Host` for each ceremony and then set up a **one-to-many relationship** between `ceremonies` and `nominations`. In this screen, we'll focus on creating the ceremonies table and inserting the data we need and in the next guided step, we'll focus on setting up the one-to-many relationship."
   ]
  },
  {
   "cell_type": "markdown",
   "metadata": {},
   "source": [
    "The `ceremonies` table will contain 3 fields:\n",
    "\n",
    "* `id` - unique identifier for each row, integer type.\n",
    "* `Year` - the year of the awards ceremony, integer type.\n",
    "* `Host` - the host of the awards ceremony, text type.\n",
    "\n",
    "Before we can create and insert into the `ceremonies` table, we need to look up the host for each ceremony from 2000 to 2010. While we could represent each row as a tuple and write a SQL query with an `INSERT` statement to add each row to the `ceremonies` table, this is incredibly cumbersome. <br>\n",
    "\n",
    "The Python sqlite3 library comes with an [`executemany` method](https://docs.python.org/3/library/sqlite3.html#sqlite3.Cursor.executemany) that let's us easily mass insert records into a table. The `executemany` method requires the records we want to insert to be represented as **a list of tuples**. We then just need to write a single `INSERT` query with **placeholder** elements and specify that we want the list of tuples to be dropped into the query. <br>\n",
    "\n",
    "Let's first create the list of tuples representing the data we want inserted and then we'll walk through the placeholder query we need to write. We'll skip over creating the `ceremonies` table for now since we've explored how to create a table earlier in the course.\n",
    "\n",
    "[Wikipedia](https://en.wikipedia.org/wiki/List_of_Academy_Awards_ceremonies#Ceremonies) lists the host(s) for each awards ceremony. Even though the 2010 ceremony had 2 hosts, we selected just the first host, `Steve Martin`, to keep things simple. Here's what the list of tuples looks like:\n",
    "\n",
    "```python\n",
    "years_hosts = [(2010, \"Steve Martin\"),\n",
    "               (2009, \"Hugh Jackman\"),\n",
    "               (2008, \"Jon Stewart\"),\n",
    "               (2007, \"Ellen DeGeneres\"),\n",
    "               (2006, \"Jon Stewart\"),\n",
    "               (2005, \"Chris Rock\"),\n",
    "               (2004, \"Billy Crystal\"),\n",
    "               (2003, \"Steve Martin\"),\n",
    "               (2002, \"Whoopi Goldberg\"),\n",
    "               (2001, \"Steve Martin\"),\n",
    "               (2000, \"Billy Crystal\"),\n",
    "            ]\n",
    "```\n",
    "\n",
    "We then need to write the `INSERT` query with placeholder values. Instead of having specific values in the query string, we use a question mark (`?`) to act as a placeholder in the `values` section of the query:\n",
    "\n",
    "```python\n",
    "insert_query = \"INSERT INTO ceremonies (Year, Host) VALUES (?,?);\"\n",
    "```\n",
    "\n",
    "Since the **placeholder elements** (`?`) will be replaced by the values in years_hosts, you need to make sure the number of question marks matches the length of each tuple in years_hosts. Since each tuple has 2 elements, we need to have 2 question marks as the placeholder elements. We don't need to specify values for the id column since it's a primary key column. **When inserting values, recall that SQLite automatically creates a unique primary key for each row**. <br>\n",
    "\n",
    "We then call the `executemany` method and pass in `insert_query` as the first parameter and `years_hosts` as the second parameter:\n",
    "\n",
    "```sql\n",
    "conn.executemany(insert_query, years_hosts)\n",
    "```\n",
    "\n",
    "Python will **iterate through years_hosts** and **replace the placeholder elements with the values in years_hosts** to generate and execute the following query:\n",
    "\n",
    "```python\n",
    "INSERT INTO ceremonies (Year, Host) VALUES\n",
    "(2010, \"Steve Martin\"),\n",
    "(2009, \"Hugh Jackman\"),\n",
    "(2008, \"Jon Stewart\"),\n",
    "(2007, \"Ellen DeGeneres\"),\n",
    "(2006, \"Jon Stewart\"),\n",
    "(2005, \"Chris Rock\"),\n",
    "(2004, \"Billy Crystal\"),\n",
    "(2003, \"Steve Martin\"),\n",
    "(2002, \"Whoopi Goldberg\"),\n",
    "(2001, \"Steve Martin\"),\n",
    "(2000, \"Billy Crystal\")\n",
    ";\n",
    "```\n",
    "\n",
    "Let's now create the ceremonies table and populate the table with the data on ceremonies."
   ]
  },
  {
   "cell_type": "code",
   "execution_count": null,
   "metadata": {
    "collapsed": true
   },
   "outputs": [],
   "source": []
  },
  {
   "cell_type": "code",
   "execution_count": 8,
   "metadata": {
    "collapsed": true
   },
   "outputs": [],
   "source": [
    "conn.cursor().execute('drop table if exists ceremonies'); conn.commit()"
   ]
  },
  {
   "cell_type": "code",
   "execution_count": 9,
   "metadata": {},
   "outputs": [],
   "source": [
    "create_table_query = '''\n",
    "        create table ceremonies (\n",
    "                id integer primary key,\n",
    "                year integer,\n",
    "                host varchar\n",
    "        )\n",
    "        \n",
    "'''\n",
    "\n",
    "conn.cursor().execute(create_table_query)\n",
    "conn.commit()"
   ]
  },
  {
   "cell_type": "code",
   "execution_count": null,
   "metadata": {
    "collapsed": true
   },
   "outputs": [],
   "source": []
  },
  {
   "cell_type": "markdown",
   "metadata": {},
   "source": [
    "* Create the `ceremonies` table with the following schema:\n",
    "  * `id`: integer, primary key.\n",
    "  * `Year`: integer.\n",
    "  * `Host`: text.\n",
    "* Create the list of tuples, `years_hosts`, that contains the values for the rows we want to insert into the `ceremonies` table.\n",
    "\n",
    "* Use the Connection method `executemany` to insert the values into the `ceremonies` table.\n",
    "\n",
    "* To verify that the `ceremonies` table was created and populated correctly, run the following queries:\n",
    "  * Return the first 10 rows using the `SELECT` and `LIMIT` statements.\n",
    "  * Return the schema using `pragma table_info()`.\n",
    "  "
   ]
  },
  {
   "cell_type": "code",
   "execution_count": null,
   "metadata": {
    "collapsed": true
   },
   "outputs": [],
   "source": []
  },
  {
   "cell_type": "code",
   "execution_count": 10,
   "metadata": {
    "collapsed": true
   },
   "outputs": [],
   "source": [
    "years_hosts = [(2010, \"Steve Martin\"),\n",
    "                (2009, \"Hugh Jackman\"),\n",
    "                (2008, \"Jon Stewart\"),\n",
    "                (2007, \"Ellen DeGeneres\"),\n",
    "                (2006, \"Jon Stewart\"),\n",
    "                (2005, \"Chris Rock\"),\n",
    "                (2004, \"Billy Crystal\"),\n",
    "                (2003, \"Steve Martin\"),\n",
    "                (2002, \"Whoopi Goldberg\"),\n",
    "                (2001, \"Steve Martin\"),\n",
    "                (2000, \"Billy Crystal\")]"
   ]
  },
  {
   "cell_type": "code",
   "execution_count": 11,
   "metadata": {
    "collapsed": true
   },
   "outputs": [],
   "source": [
    "insert_query = \"insert into ceremonies (Year, Host) VALUES (?,?);\""
   ]
  },
  {
   "cell_type": "code",
   "execution_count": 12,
   "metadata": {
    "collapsed": true
   },
   "outputs": [],
   "source": [
    "conn.executemany(insert_query, years_hosts)\n",
    "conn.commit()"
   ]
  },
  {
   "cell_type": "code",
   "execution_count": 13,
   "metadata": {},
   "outputs": [
    {
     "data": {
      "text/html": [
       "<div>\n",
       "<table border=\"1\" class=\"dataframe\">\n",
       "  <thead>\n",
       "    <tr style=\"text-align: right;\">\n",
       "      <th></th>\n",
       "      <th>id</th>\n",
       "      <th>year</th>\n",
       "      <th>host</th>\n",
       "    </tr>\n",
       "  </thead>\n",
       "  <tbody>\n",
       "    <tr>\n",
       "      <th>0</th>\n",
       "      <td>1</td>\n",
       "      <td>2010</td>\n",
       "      <td>Steve Martin</td>\n",
       "    </tr>\n",
       "    <tr>\n",
       "      <th>1</th>\n",
       "      <td>2</td>\n",
       "      <td>2009</td>\n",
       "      <td>Hugh Jackman</td>\n",
       "    </tr>\n",
       "    <tr>\n",
       "      <th>2</th>\n",
       "      <td>3</td>\n",
       "      <td>2008</td>\n",
       "      <td>Jon Stewart</td>\n",
       "    </tr>\n",
       "    <tr>\n",
       "      <th>3</th>\n",
       "      <td>4</td>\n",
       "      <td>2007</td>\n",
       "      <td>Ellen DeGeneres</td>\n",
       "    </tr>\n",
       "    <tr>\n",
       "      <th>4</th>\n",
       "      <td>5</td>\n",
       "      <td>2006</td>\n",
       "      <td>Jon Stewart</td>\n",
       "    </tr>\n",
       "  </tbody>\n",
       "</table>\n",
       "</div>"
      ],
      "text/plain": [
       "   id  year             host\n",
       "0   1  2010     Steve Martin\n",
       "1   2  2009     Hugh Jackman\n",
       "2   3  2008      Jon Stewart\n",
       "3   4  2007  Ellen DeGeneres\n",
       "4   5  2006      Jon Stewart"
      ]
     },
     "execution_count": 13,
     "metadata": {},
     "output_type": "execute_result"
    }
   ],
   "source": [
    "pd.read_sql('select * from ceremonies limit 5', conn)"
   ]
  },
  {
   "cell_type": "code",
   "execution_count": 14,
   "metadata": {},
   "outputs": [
    {
     "data": {
      "text/html": [
       "<div>\n",
       "<table border=\"1\" class=\"dataframe\">\n",
       "  <thead>\n",
       "    <tr style=\"text-align: right;\">\n",
       "      <th></th>\n",
       "      <th>cid</th>\n",
       "      <th>name</th>\n",
       "      <th>type</th>\n",
       "      <th>notnull</th>\n",
       "      <th>dflt_value</th>\n",
       "      <th>pk</th>\n",
       "    </tr>\n",
       "  </thead>\n",
       "  <tbody>\n",
       "    <tr>\n",
       "      <th>0</th>\n",
       "      <td>0</td>\n",
       "      <td>id</td>\n",
       "      <td>integer</td>\n",
       "      <td>0</td>\n",
       "      <td>None</td>\n",
       "      <td>1</td>\n",
       "    </tr>\n",
       "    <tr>\n",
       "      <th>1</th>\n",
       "      <td>1</td>\n",
       "      <td>year</td>\n",
       "      <td>integer</td>\n",
       "      <td>0</td>\n",
       "      <td>None</td>\n",
       "      <td>0</td>\n",
       "    </tr>\n",
       "    <tr>\n",
       "      <th>2</th>\n",
       "      <td>2</td>\n",
       "      <td>host</td>\n",
       "      <td>varchar</td>\n",
       "      <td>0</td>\n",
       "      <td>None</td>\n",
       "      <td>0</td>\n",
       "    </tr>\n",
       "  </tbody>\n",
       "</table>\n",
       "</div>"
      ],
      "text/plain": [
       "   cid  name     type  notnull dflt_value  pk\n",
       "0    0    id  integer        0       None   1\n",
       "1    1  year  integer        0       None   0\n",
       "2    2  host  varchar        0       None   0"
      ]
     },
     "execution_count": 14,
     "metadata": {},
     "output_type": "execute_result"
    }
   ],
   "source": [
    "pd.read_sql('pragma table_info(ceremonies)', conn)"
   ]
  },
  {
   "cell_type": "code",
   "execution_count": null,
   "metadata": {
    "collapsed": true
   },
   "outputs": [],
   "source": []
  },
  {
   "cell_type": "markdown",
   "metadata": {},
   "source": [
    "Since we'll be creating relations using **foreign keys**, we need to turn on foreign key **constraints**. By default, if you insert a row into a table that contains one or multiple foreign key columns, the record will be successfully inserted even if the foreign key reference is incorrect. <br>\n",
    "\n",
    "For example, since the `ceremonies` table only contains the `id` values `1` to `10`, inserting a row into `nominations` while specifying that the `ceremony_id` value be `11` will work and no error will be returned. This is problematic because if we try to actually join that row with the `ceremonies` table, the results set will be empty since the `id` value `11` doesn't map to any row in the `ceremonies` table. To prevent us from inserting rows with nonexisting foreign key values, we need to turn on foreign key constraints by running the following query:"
   ]
  },
  {
   "cell_type": "markdown",
   "metadata": {},
   "source": [
    "```\n",
    "PRAGMA foreign_keys = ON;\n",
    "```"
   ]
  },
  {
   "cell_type": "markdown",
   "metadata": {},
   "source": [
    "### **The above query needs to be run every time you connect to a database where you'll be inserting foreign keys.** \n",
    "Whenever you try inserting a row into a table containing foreign key(s), SQLite will query the linked table to make sure that foreign key value exists. If it does, the transaction will continue as expected. If it doesn't, then an error will be returned and the transaction won't go through."
   ]
  },
  {
   "cell_type": "code",
   "execution_count": null,
   "metadata": {
    "collapsed": true
   },
   "outputs": [],
   "source": []
  },
  {
   "cell_type": "code",
   "execution_count": 15,
   "metadata": {
    "collapsed": true
   },
   "outputs": [],
   "source": [
    "conn.cursor().execute('pragma foreign_keys = ON'); conn.commit()"
   ]
  },
  {
   "cell_type": "code",
   "execution_count": null,
   "metadata": {
    "collapsed": true
   },
   "outputs": [],
   "source": []
  },
  {
   "cell_type": "markdown",
   "metadata": {},
   "source": [
    "The next step is to remove the `Year` column from `nominations` and add a new column, `ceremony_id`, that contains the foreign key reference to the id column in the `ceremonies` table. Unfortunately, we can't remove columns from an existing table in SQLite or change its schema. [The goal of SQLite](https://en.wikipedia.org/wiki/SQLite#History) is to create an incredibly lightweight, open source database that contains a common, but reduced, set of features. While this has allowed SQLite to [become the most popular database in the world](https://www.sqlite.org/mostdeployed.html), SQLite doesn't have the ability to heavily modify an existing table to keep the code base lightweight.<br>\n",
    "\n",
    "The only alterations we can make to an existing table are renaming it or adding a new column. This means that we can't just remove the `Year` column from `nominations` and add the `ceremony_id` column. We need to instead:\n",
    "\n",
    "* create a new table nominations_two with the schema we want,\n",
    "* populate nominations_two with the records we want,\n",
    "* delete the original nominations table,\n",
    "* rename nominations_two to nominations.\n",
    "\n",
    "For nominations_two, we want the following schema:\n",
    "\n",
    "* `id`: primary key, integer,\n",
    "* `category`: text,\n",
    "* `nominee`: text,\n",
    "* `movie`: text,\n",
    "* `character`: text,\n",
    "* `won`: integer,\n",
    "* `ceremony_id`: foreign key reference to `id` column from `ceremonies`.\n",
    "\n",
    "First, we need to select all the records from the original `nominations` table with the columns we want and use an `INNER JOIN` to add the `id` field from `ceremonies` for each row:\n",
    "\n",
    "```sql\n",
    "SELECT nominations.category, nominations.nominee, nominations.movie, nominations.character, nominations.won, ceremonies.id\n",
    "FROM nominations\n",
    "INNER JOIN ceremonies ON\n",
    "nominations.year == ceremonies.year\n",
    ";\n",
    "```\n",
    "\n",
    "Then we can write the placeholder insert query we need to insert these records into `nominations_two`. Let's create and populate the `nominations_two` table in this screen and we'll work through the rest in the next screen."
   ]
  },
  {
   "cell_type": "code",
   "execution_count": null,
   "metadata": {
    "collapsed": true
   },
   "outputs": [],
   "source": []
  },
  {
   "cell_type": "markdown",
   "metadata": {},
   "source": [
    "* Write and run the query to create the `nominations_two` table with the schema specified above.\n",
    "* Write and run the query we discussed above that returns the records from the `nominations` table and assign the results set to `joined_nominations`.\n",
    "* Write a placeholder insert query that can insert values into `nominations_two` and assign this query to `insert_nominations_two`. Make sure the ordering of the columns matches the ordering from `joined_nominations`.\n",
    "* Use the Connection method `executemany` to insert the records in `joined_nominations` using the placeholder insert query `insert_nominations_two`.\n",
    "* Verify your work by returning the first 5 rows from `nominations_two`."
   ]
  },
  {
   "cell_type": "code",
   "execution_count": 49,
   "metadata": {
    "collapsed": true
   },
   "outputs": [],
   "source": [
    "conn.cursor().execute('drop table if exists nominations_two'); conn.commit()"
   ]
  },
  {
   "cell_type": "code",
   "execution_count": 50,
   "metadata": {
    "collapsed": true
   },
   "outputs": [],
   "source": [
    "create_nomination_two = '''\n",
    "        create table nominations_two \n",
    "            (\n",
    "            id integer primary key, \n",
    "            category text, \n",
    "            nominee text, \n",
    "            movie text, \n",
    "            character text, \n",
    "            won integer,\n",
    "            ceremony_id integer,\n",
    "            foreign key(ceremony_id) references ceremonies(id)\n",
    "            );\n",
    "'''"
   ]
  },
  {
   "cell_type": "code",
   "execution_count": 51,
   "metadata": {},
   "outputs": [],
   "source": [
    "conn.cursor().execute(create_nomination_two); conn.commit()"
   ]
  },
  {
   "cell_type": "code",
   "execution_count": 52,
   "metadata": {},
   "outputs": [],
   "source": [
    "join_nominations = '''\n",
    "        select N.category, N.nominee, N.movie, N.character,\n",
    "                N.won, C.id as ceremony_id\n",
    "        from nominations N\n",
    "        inner join ceremonies C\n",
    "        on N.year == C.year;\n",
    "'''\n",
    "\n",
    "joined_nominations = conn.cursor().execute(join_nominations).fetchall()\n",
    "#joined_nominations"
   ]
  },
  {
   "cell_type": "code",
   "execution_count": 53,
   "metadata": {
    "scrolled": true
   },
   "outputs": [
    {
     "data": {
      "text/html": [
       "<div>\n",
       "<table border=\"1\" class=\"dataframe\">\n",
       "  <thead>\n",
       "    <tr style=\"text-align: right;\">\n",
       "      <th></th>\n",
       "      <th>Category</th>\n",
       "      <th>Nominee</th>\n",
       "      <th>Movie</th>\n",
       "      <th>Character</th>\n",
       "      <th>Won</th>\n",
       "      <th>ceremony_id</th>\n",
       "    </tr>\n",
       "  </thead>\n",
       "  <tbody>\n",
       "    <tr>\n",
       "      <th>0</th>\n",
       "      <td>Actor -- Leading Role</td>\n",
       "      <td>Javier Bardem</td>\n",
       "      <td>Biutiful</td>\n",
       "      <td>Uxbal</td>\n",
       "      <td>0</td>\n",
       "      <td>1</td>\n",
       "    </tr>\n",
       "    <tr>\n",
       "      <th>1</th>\n",
       "      <td>Actor -- Leading Role</td>\n",
       "      <td>Jeff Bridges</td>\n",
       "      <td>True Grit</td>\n",
       "      <td>Rooster Cogburn</td>\n",
       "      <td>0</td>\n",
       "      <td>1</td>\n",
       "    </tr>\n",
       "    <tr>\n",
       "      <th>2</th>\n",
       "      <td>Actor -- Leading Role</td>\n",
       "      <td>Jesse Eisenberg</td>\n",
       "      <td>The Social Network</td>\n",
       "      <td>Mark Zuckerberg</td>\n",
       "      <td>0</td>\n",
       "      <td>1</td>\n",
       "    </tr>\n",
       "    <tr>\n",
       "      <th>3</th>\n",
       "      <td>Actor -- Leading Role</td>\n",
       "      <td>Colin Firth</td>\n",
       "      <td>The King's Speech</td>\n",
       "      <td>King George VI</td>\n",
       "      <td>1</td>\n",
       "      <td>1</td>\n",
       "    </tr>\n",
       "    <tr>\n",
       "      <th>4</th>\n",
       "      <td>Actor -- Leading Role</td>\n",
       "      <td>James Franco</td>\n",
       "      <td>127 Hours</td>\n",
       "      <td>Aron Ralston</td>\n",
       "      <td>0</td>\n",
       "      <td>1</td>\n",
       "    </tr>\n",
       "  </tbody>\n",
       "</table>\n",
       "</div>"
      ],
      "text/plain": [
       "                Category          Nominee               Movie  \\\n",
       "0  Actor -- Leading Role    Javier Bardem            Biutiful   \n",
       "1  Actor -- Leading Role     Jeff Bridges           True Grit   \n",
       "2  Actor -- Leading Role  Jesse Eisenberg  The Social Network   \n",
       "3  Actor -- Leading Role      Colin Firth   The King's Speech   \n",
       "4  Actor -- Leading Role     James Franco           127 Hours   \n",
       "\n",
       "         Character  Won  ceremony_id  \n",
       "0            Uxbal    0            1  \n",
       "1  Rooster Cogburn    0            1  \n",
       "2  Mark Zuckerberg    0            1  \n",
       "3   King George VI    1            1  \n",
       "4     Aron Ralston    0            1  "
      ]
     },
     "execution_count": 53,
     "metadata": {},
     "output_type": "execute_result"
    }
   ],
   "source": [
    "pd.read_sql(join_nominations, conn).head()"
   ]
  },
  {
   "cell_type": "code",
   "execution_count": 54,
   "metadata": {},
   "outputs": [
    {
     "data": {
      "text/plain": [
       "<sqlite3.Cursor at 0x7f612538d8f0>"
      ]
     },
     "execution_count": 54,
     "metadata": {},
     "output_type": "execute_result"
    }
   ],
   "source": [
    "insert_nominations_two = '''\n",
    "        insert into nominations_two (Category, Nominee, Movie, Character,\n",
    "                                    Won, ceremony_id)\n",
    "                                    values (?, ?, ?, ?, ?, ?);\n",
    "'''\n",
    "conn.cursor().executemany(insert_nominations_two,\\\n",
    "                         joined_nominations)"
   ]
  },
  {
   "cell_type": "code",
   "execution_count": 55,
   "metadata": {},
   "outputs": [
    {
     "data": {
      "text/html": [
       "<div>\n",
       "<table border=\"1\" class=\"dataframe\">\n",
       "  <thead>\n",
       "    <tr style=\"text-align: right;\">\n",
       "      <th></th>\n",
       "      <th>id</th>\n",
       "      <th>category</th>\n",
       "      <th>nominee</th>\n",
       "      <th>movie</th>\n",
       "      <th>character</th>\n",
       "      <th>won</th>\n",
       "      <th>ceremony_id</th>\n",
       "    </tr>\n",
       "  </thead>\n",
       "  <tbody>\n",
       "    <tr>\n",
       "      <th>0</th>\n",
       "      <td>1</td>\n",
       "      <td>Actor -- Leading Role</td>\n",
       "      <td>Javier Bardem</td>\n",
       "      <td>Biutiful</td>\n",
       "      <td>Uxbal</td>\n",
       "      <td>0</td>\n",
       "      <td>1</td>\n",
       "    </tr>\n",
       "    <tr>\n",
       "      <th>1</th>\n",
       "      <td>2</td>\n",
       "      <td>Actor -- Leading Role</td>\n",
       "      <td>Jeff Bridges</td>\n",
       "      <td>True Grit</td>\n",
       "      <td>Rooster Cogburn</td>\n",
       "      <td>0</td>\n",
       "      <td>1</td>\n",
       "    </tr>\n",
       "    <tr>\n",
       "      <th>2</th>\n",
       "      <td>3</td>\n",
       "      <td>Actor -- Leading Role</td>\n",
       "      <td>Jesse Eisenberg</td>\n",
       "      <td>The Social Network</td>\n",
       "      <td>Mark Zuckerberg</td>\n",
       "      <td>0</td>\n",
       "      <td>1</td>\n",
       "    </tr>\n",
       "    <tr>\n",
       "      <th>3</th>\n",
       "      <td>4</td>\n",
       "      <td>Actor -- Leading Role</td>\n",
       "      <td>Colin Firth</td>\n",
       "      <td>The King's Speech</td>\n",
       "      <td>King George VI</td>\n",
       "      <td>1</td>\n",
       "      <td>1</td>\n",
       "    </tr>\n",
       "    <tr>\n",
       "      <th>4</th>\n",
       "      <td>5</td>\n",
       "      <td>Actor -- Leading Role</td>\n",
       "      <td>James Franco</td>\n",
       "      <td>127 Hours</td>\n",
       "      <td>Aron Ralston</td>\n",
       "      <td>0</td>\n",
       "      <td>1</td>\n",
       "    </tr>\n",
       "  </tbody>\n",
       "</table>\n",
       "</div>"
      ],
      "text/plain": [
       "   id               category          nominee               movie  \\\n",
       "0   1  Actor -- Leading Role    Javier Bardem            Biutiful   \n",
       "1   2  Actor -- Leading Role     Jeff Bridges           True Grit   \n",
       "2   3  Actor -- Leading Role  Jesse Eisenberg  The Social Network   \n",
       "3   4  Actor -- Leading Role      Colin Firth   The King's Speech   \n",
       "4   5  Actor -- Leading Role     James Franco           127 Hours   \n",
       "\n",
       "         character  won  ceremony_id  \n",
       "0            Uxbal    0            1  \n",
       "1  Rooster Cogburn    0            1  \n",
       "2  Mark Zuckerberg    0            1  \n",
       "3   King George VI    1            1  \n",
       "4     Aron Ralston    0            1  "
      ]
     },
     "execution_count": 55,
     "metadata": {},
     "output_type": "execute_result"
    }
   ],
   "source": [
    "pd.read_sql('select * from nominations_two limit 5', conn)"
   ]
  },
  {
   "cell_type": "code",
   "execution_count": null,
   "metadata": {
    "collapsed": true
   },
   "outputs": [],
   "source": []
  },
  {
   "cell_type": "markdown",
   "metadata": {},
   "source": [
    "We now need to delete the `nominations` table since we'll be using the `nominations_two` table moving forward. We can use the `DROP TABLE` statement to drop the original `nominations` table. <br>\n",
    "\n",
    "Once we drop this table, we can use the `ALTER TABLE` statement to rename `nominations_two` to `nominations`. Here's what the syntax looks like for that statement:\n",
    "\n",
    "```\n",
    "ALTER TABLE [current_table_name]\n",
    "RENAME TO [future_table_name]\n",
    "```"
   ]
  },
  {
   "cell_type": "code",
   "execution_count": 56,
   "metadata": {
    "collapsed": true
   },
   "outputs": [],
   "source": [
    "conn.cursor().execute('drop table nominations')\n",
    "conn.cursor().execute('alter table nominations_two\\\n",
    "                      rename to nominations')\n",
    "conn.commit()"
   ]
  },
  {
   "cell_type": "code",
   "execution_count": 57,
   "metadata": {},
   "outputs": [
    {
     "data": {
      "text/html": [
       "<div>\n",
       "<table border=\"1\" class=\"dataframe\">\n",
       "  <thead>\n",
       "    <tr style=\"text-align: right;\">\n",
       "      <th></th>\n",
       "      <th>id</th>\n",
       "      <th>category</th>\n",
       "      <th>nominee</th>\n",
       "      <th>movie</th>\n",
       "      <th>character</th>\n",
       "      <th>won</th>\n",
       "      <th>ceremony_id</th>\n",
       "    </tr>\n",
       "  </thead>\n",
       "  <tbody>\n",
       "    <tr>\n",
       "      <th>0</th>\n",
       "      <td>1</td>\n",
       "      <td>Actor -- Leading Role</td>\n",
       "      <td>Javier Bardem</td>\n",
       "      <td>Biutiful</td>\n",
       "      <td>Uxbal</td>\n",
       "      <td>0</td>\n",
       "      <td>1</td>\n",
       "    </tr>\n",
       "    <tr>\n",
       "      <th>1</th>\n",
       "      <td>2</td>\n",
       "      <td>Actor -- Leading Role</td>\n",
       "      <td>Jeff Bridges</td>\n",
       "      <td>True Grit</td>\n",
       "      <td>Rooster Cogburn</td>\n",
       "      <td>0</td>\n",
       "      <td>1</td>\n",
       "    </tr>\n",
       "    <tr>\n",
       "      <th>2</th>\n",
       "      <td>3</td>\n",
       "      <td>Actor -- Leading Role</td>\n",
       "      <td>Jesse Eisenberg</td>\n",
       "      <td>The Social Network</td>\n",
       "      <td>Mark Zuckerberg</td>\n",
       "      <td>0</td>\n",
       "      <td>1</td>\n",
       "    </tr>\n",
       "    <tr>\n",
       "      <th>3</th>\n",
       "      <td>4</td>\n",
       "      <td>Actor -- Leading Role</td>\n",
       "      <td>Colin Firth</td>\n",
       "      <td>The King's Speech</td>\n",
       "      <td>King George VI</td>\n",
       "      <td>1</td>\n",
       "      <td>1</td>\n",
       "    </tr>\n",
       "    <tr>\n",
       "      <th>4</th>\n",
       "      <td>5</td>\n",
       "      <td>Actor -- Leading Role</td>\n",
       "      <td>James Franco</td>\n",
       "      <td>127 Hours</td>\n",
       "      <td>Aron Ralston</td>\n",
       "      <td>0</td>\n",
       "      <td>1</td>\n",
       "    </tr>\n",
       "  </tbody>\n",
       "</table>\n",
       "</div>"
      ],
      "text/plain": [
       "   id               category          nominee               movie  \\\n",
       "0   1  Actor -- Leading Role    Javier Bardem            Biutiful   \n",
       "1   2  Actor -- Leading Role     Jeff Bridges           True Grit   \n",
       "2   3  Actor -- Leading Role  Jesse Eisenberg  The Social Network   \n",
       "3   4  Actor -- Leading Role      Colin Firth   The King's Speech   \n",
       "4   5  Actor -- Leading Role     James Franco           127 Hours   \n",
       "\n",
       "         character  won  ceremony_id  \n",
       "0            Uxbal    0            1  \n",
       "1  Rooster Cogburn    0            1  \n",
       "2  Mark Zuckerberg    0            1  \n",
       "3   King George VI    1            1  \n",
       "4     Aron Ralston    0            1  "
      ]
     },
     "execution_count": 57,
     "metadata": {},
     "output_type": "execute_result"
    }
   ],
   "source": [
    "pd.read_sql('select * from nominations limit 5', conn)"
   ]
  },
  {
   "cell_type": "code",
   "execution_count": null,
   "metadata": {
    "collapsed": true
   },
   "outputs": [],
   "source": []
  },
  {
   "cell_type": "markdown",
   "metadata": {},
   "source": [
    "In the [Database Normalization and Relations mission](https://www.dataquest.io/mission/181/database-normalization-and-relations), we learned how to query the tables involved in the many-to-many relation between movies and actors.\n",
    "\n",
    "Here's a preview of what those tables look like:\n",
    "![](img/1.png)\n",
    "\n",
    "Creating a join table is no different than creating a regular one. To create the `movies_actors` join table we need to declare both of the foreign key references when specifying the schema:\n",
    "\n",
    "```sql\n",
    "CREATE TABLE movies_actors (\n",
    "id INTEGER PRIMARY KEY,\n",
    "movie_id INTEGER REFERENCES movies(id),\n",
    "actor_id INTEGER REFERENCES actors(id)\n",
    ");\n",
    "```\n",
    "\n",
    "In this screen, you'll create the 3 tables we need."
   ]
  },
  {
   "cell_type": "code",
   "execution_count": null,
   "metadata": {
    "collapsed": true
   },
   "outputs": [],
   "source": []
  },
  {
   "cell_type": "markdown",
   "metadata": {},
   "source": [
    "#### instructions\n",
    "\n",
    "* Create the 3 tables we need to model the relationship between movies and actors. You need to create the movies and actors tables before creating the movies_actors table for the foreign key references to work.\n",
    "* Create the movies table using the following schema:\n",
    "  * id: primary key, integer type.\n",
    "  * movie: movie name, text type.\n",
    "* Create the actors table using the following schema:\n",
    "  * id: primary key, integer type.\n",
    "  * actor: actor's full name, text type.\n",
    "* Create the movies_actors join table using the following schema:\n",
    "  * id: primary key, integer type.\n",
    "  * movie_id: foreign key reference to movies.id column.\n",
    "  * actor_id: foreign key reference to actors.id column."
   ]
  },
  {
   "cell_type": "code",
   "execution_count": 62,
   "metadata": {
    "collapsed": true
   },
   "outputs": [],
   "source": [
    "create_movies = '''create table movies(\n",
    "        id integer primary key,\n",
    "        movie text\n",
    ");\n",
    "'''\n",
    "\n",
    "create_actors = '''create table actors(\n",
    "        id integer primary key,\n",
    "        actor text\n",
    ");\n",
    "'''\n",
    "\n",
    "create_movies_actors = '''create table movies_actors(\n",
    "        id integer primary key,\n",
    "        movie_id integer,\n",
    "        actor_id integer,\n",
    "        foreign key(movie_id) references movies(id),\n",
    "        foreign key(actor_id) references actors(id)\n",
    ");\n",
    "'''"
   ]
  },
  {
   "cell_type": "code",
   "execution_count": 64,
   "metadata": {},
   "outputs": [],
   "source": [
    "conn.cursor().execute(create_movies)\n",
    "conn.cursor().execute(create_actors)\n",
    "conn.cursor().execute(create_movies_actors)\n",
    "conn.commit()"
   ]
  },
  {
   "cell_type": "code",
   "execution_count": null,
   "metadata": {
    "collapsed": true
   },
   "outputs": [],
   "source": []
  },
  {
   "cell_type": "markdown",
   "metadata": {},
   "source": [
    "# Populating 'movies' & 'actors' tables"
   ]
  },
  {
   "cell_type": "code",
   "execution_count": 67,
   "metadata": {},
   "outputs": [
    {
     "name": "stdout",
     "output_type": "stream",
     "text": [
      "[(1, 'Biutiful'), (2, 'True Grit'), (3, 'The Social Network'), (4, \"The King's Speech\"), (5, '127 Hours')]\n",
      "[(1, 'Javier Bardem'), (2, 'Jeff Bridges'), (3, 'Jesse Eisenberg'), (4, 'Colin Firth'), (5, 'James Franco')]\n"
     ]
    }
   ],
   "source": [
    "pop_movies = 'insert into movies (movie) select distinct movie from nominations'\n",
    "pop_actors = 'insert into actors (actor) select distinct nominee from nominations'\n",
    "conn.execute(pop_movies)\n",
    "conn.execute(pop_actors)\n",
    "\n",
    "print(conn.execute(\"select * from movies limit 5;\").fetchall())\n",
    "print(conn.execute(\"select * from actors limit 5;\").fetchall())"
   ]
  },
  {
   "cell_type": "code",
   "execution_count": 69,
   "metadata": {},
   "outputs": [
    {
     "data": {
      "text/html": [
       "<div>\n",
       "<table border=\"1\" class=\"dataframe\">\n",
       "  <thead>\n",
       "    <tr style=\"text-align: right;\">\n",
       "      <th></th>\n",
       "      <th>id</th>\n",
       "      <th>movie</th>\n",
       "    </tr>\n",
       "  </thead>\n",
       "  <tbody>\n",
       "    <tr>\n",
       "      <th>0</th>\n",
       "      <td>1</td>\n",
       "      <td>Biutiful</td>\n",
       "    </tr>\n",
       "    <tr>\n",
       "      <th>1</th>\n",
       "      <td>2</td>\n",
       "      <td>True Grit</td>\n",
       "    </tr>\n",
       "    <tr>\n",
       "      <th>2</th>\n",
       "      <td>3</td>\n",
       "      <td>The Social Network</td>\n",
       "    </tr>\n",
       "    <tr>\n",
       "      <th>3</th>\n",
       "      <td>4</td>\n",
       "      <td>The King's Speech</td>\n",
       "    </tr>\n",
       "    <tr>\n",
       "      <th>4</th>\n",
       "      <td>5</td>\n",
       "      <td>127 Hours</td>\n",
       "    </tr>\n",
       "  </tbody>\n",
       "</table>\n",
       "</div>"
      ],
      "text/plain": [
       "   id               movie\n",
       "0   1            Biutiful\n",
       "1   2           True Grit\n",
       "2   3  The Social Network\n",
       "3   4   The King's Speech\n",
       "4   5           127 Hours"
      ]
     },
     "execution_count": 69,
     "metadata": {},
     "output_type": "execute_result"
    }
   ],
   "source": [
    "pd.read_sql('select * from movies limit 5', conn)"
   ]
  },
  {
   "cell_type": "code",
   "execution_count": 70,
   "metadata": {},
   "outputs": [
    {
     "data": {
      "text/html": [
       "<div>\n",
       "<table border=\"1\" class=\"dataframe\">\n",
       "  <thead>\n",
       "    <tr style=\"text-align: right;\">\n",
       "      <th></th>\n",
       "      <th>id</th>\n",
       "      <th>actor</th>\n",
       "    </tr>\n",
       "  </thead>\n",
       "  <tbody>\n",
       "    <tr>\n",
       "      <th>0</th>\n",
       "      <td>1</td>\n",
       "      <td>Javier Bardem</td>\n",
       "    </tr>\n",
       "    <tr>\n",
       "      <th>1</th>\n",
       "      <td>2</td>\n",
       "      <td>Jeff Bridges</td>\n",
       "    </tr>\n",
       "    <tr>\n",
       "      <th>2</th>\n",
       "      <td>3</td>\n",
       "      <td>Jesse Eisenberg</td>\n",
       "    </tr>\n",
       "    <tr>\n",
       "      <th>3</th>\n",
       "      <td>4</td>\n",
       "      <td>Colin Firth</td>\n",
       "    </tr>\n",
       "    <tr>\n",
       "      <th>4</th>\n",
       "      <td>5</td>\n",
       "      <td>James Franco</td>\n",
       "    </tr>\n",
       "  </tbody>\n",
       "</table>\n",
       "</div>"
      ],
      "text/plain": [
       "   id            actor\n",
       "0   1    Javier Bardem\n",
       "1   2     Jeff Bridges\n",
       "2   3  Jesse Eisenberg\n",
       "3   4      Colin Firth\n",
       "4   5     James Franco"
      ]
     },
     "execution_count": 70,
     "metadata": {},
     "output_type": "execute_result"
    }
   ],
   "source": [
    "pd.read_sql('select * from actors limit 5', conn)"
   ]
  },
  {
   "cell_type": "code",
   "execution_count": null,
   "metadata": {
    "collapsed": true
   },
   "outputs": [],
   "source": []
  },
  {
   "cell_type": "markdown",
   "metadata": {},
   "source": [
    "# Populating 'movies_actors' join table"
   ]
  },
  {
   "cell_type": "code",
   "execution_count": 68,
   "metadata": {},
   "outputs": [
    {
     "data": {
      "text/html": [
       "<div>\n",
       "<table border=\"1\" class=\"dataframe\">\n",
       "  <thead>\n",
       "    <tr style=\"text-align: right;\">\n",
       "      <th></th>\n",
       "      <th>id</th>\n",
       "      <th>movie_id</th>\n",
       "      <th>actor_id</th>\n",
       "    </tr>\n",
       "  </thead>\n",
       "  <tbody>\n",
       "  </tbody>\n",
       "</table>\n",
       "</div>"
      ],
      "text/plain": [
       "Empty DataFrame\n",
       "Columns: [id, movie_id, actor_id]\n",
       "Index: []"
      ]
     },
     "execution_count": 68,
     "metadata": {},
     "output_type": "execute_result"
    }
   ],
   "source": [
    "pd.read_sql('select * from movies_actors limit 5', conn)"
   ]
  },
  {
   "cell_type": "code",
   "execution_count": 72,
   "metadata": {
    "collapsed": true
   },
   "outputs": [],
   "source": [
    "pairs_query = 'select movie, nominee from nominations;'\n",
    "movie_actor_pairs = conn.execute(pairs_query).fetchall()"
   ]
  },
  {
   "cell_type": "code",
   "execution_count": 75,
   "metadata": {
    "collapsed": true
   },
   "outputs": [],
   "source": [
    "join_table_insert = '''\n",
    "        insert into movies_actors (movie_id, actor_id)\n",
    "                    values((select id from movies where movie == ?),\n",
    "                             (select id from actors where actor == ?)\n",
    "                            );\n",
    "'''"
   ]
  },
  {
   "cell_type": "code",
   "execution_count": 76,
   "metadata": {},
   "outputs": [
    {
     "name": "stdout",
     "output_type": "stream",
     "text": [
      "[(1, 1, 1), (2, 2, 2), (3, 3, 3), (4, 4, 4), (5, 5, 5)]\n"
     ]
    }
   ],
   "source": [
    "conn.executemany(join_table_insert, movie_actor_pairs)\n",
    "\n",
    "print(conn.execute('select * from movies_actors limit 5').fetchall())"
   ]
  },
  {
   "cell_type": "code",
   "execution_count": null,
   "metadata": {
    "collapsed": true
   },
   "outputs": [],
   "source": []
  },
  {
   "cell_type": "code",
   "execution_count": null,
   "metadata": {
    "collapsed": true
   },
   "outputs": [],
   "source": []
  }
 ],
 "metadata": {
  "kernelspec": {
   "display_name": "Python 3",
   "language": "python",
   "name": "python3"
  },
  "language_info": {
   "codemirror_mode": {
    "name": "ipython",
    "version": 3
   },
   "file_extension": ".py",
   "mimetype": "text/x-python",
   "name": "python",
   "nbconvert_exporter": "python",
   "pygments_lexer": "ipython3",
   "version": "3.6.2"
  }
 },
 "nbformat": 4,
 "nbformat_minor": 1
}
