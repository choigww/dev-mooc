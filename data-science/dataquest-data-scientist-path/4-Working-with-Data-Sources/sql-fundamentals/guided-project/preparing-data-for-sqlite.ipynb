{
 "cells": [
  {
   "cell_type": "markdown",
   "metadata": {},
   "source": [
    "# Guided Project: Preparing data for SQLite\n",
    "\n",
    "So far, we've learned how to write SQL queries to interact with existing databases. In this guided project, you'll learn how to clean a CSV dataset and add it to a SQLite database. If you're new to either our guided projects or Jupyter notebook in general, you can learn more [here](https://www.dataquest.io/mission/162/guided-project-using-jupyter-notebook). You can find the solutions to this guided project [here](https://github.com/dataquestio/solutions/blob/master/Mission215Solutions.ipynb).\n",
    "<br>\n",
    "\n",
    "We'll work with data on Academy Award nominations, which can be downloaded [here](https://www.aggdata.com/awards/oscar). The Academy Awards, also known as the Oscars, is an annual awards ceremony hosted to recognize the achievements in the film industry. There are many different awards categories and the members of the academy vote every year to decide which artist or film should get the award. The awards categories have changed over the years, and you can learn more about when categories were added on [Wikipedia](http://bit.ly/1Rig7Gs)."
   ]
  },
  {
   "cell_type": "markdown",
   "metadata": {},
   "source": [
    "Here are the columns in the dataset, `academy_awards.csv`:\n",
    "\n",
    "* `Year` - the year of the awards ceremony.\n",
    "* `Category` - the category of award the nominee was nominated for.\n",
    "* `Nominee` - the person nominated for the award.\n",
    "* `Additional Info` - this column contains additional info like:\n",
    "  * the movie the nominee participated in.\n",
    "  * the character the nominee played (for acting awards).\n",
    "* `Won?` - this column contains either `YES` or `NO` depending on if the nominee won the award."
   ]
  },
  {
   "cell_type": "code",
   "execution_count": 1,
   "metadata": {},
   "outputs": [
    {
     "data": {
      "text/html": [
       "<div>\n",
       "<style scoped>\n",
       "    .dataframe tbody tr th:only-of-type {\n",
       "        vertical-align: middle;\n",
       "    }\n",
       "\n",
       "    .dataframe tbody tr th {\n",
       "        vertical-align: top;\n",
       "    }\n",
       "\n",
       "    .dataframe thead th {\n",
       "        text-align: right;\n",
       "    }\n",
       "</style>\n",
       "<table border=\"1\" class=\"dataframe\">\n",
       "  <thead>\n",
       "    <tr style=\"text-align: right;\">\n",
       "      <th></th>\n",
       "      <th>Year</th>\n",
       "      <th>Category</th>\n",
       "      <th>Nominee</th>\n",
       "      <th>Additional Info</th>\n",
       "      <th>Won?</th>\n",
       "      <th>Unnamed: 5</th>\n",
       "      <th>Unnamed: 6</th>\n",
       "      <th>Unnamed: 7</th>\n",
       "      <th>Unnamed: 8</th>\n",
       "      <th>Unnamed: 9</th>\n",
       "      <th>Unnamed: 10</th>\n",
       "    </tr>\n",
       "  </thead>\n",
       "  <tbody>\n",
       "    <tr>\n",
       "      <th>0</th>\n",
       "      <td>2010 (83rd)</td>\n",
       "      <td>Actor -- Leading Role</td>\n",
       "      <td>Javier Bardem</td>\n",
       "      <td>Biutiful {'Uxbal'}</td>\n",
       "      <td>NO</td>\n",
       "      <td>NaN</td>\n",
       "      <td>NaN</td>\n",
       "      <td>NaN</td>\n",
       "      <td>NaN</td>\n",
       "      <td>NaN</td>\n",
       "      <td>NaN</td>\n",
       "    </tr>\n",
       "    <tr>\n",
       "      <th>1</th>\n",
       "      <td>2010 (83rd)</td>\n",
       "      <td>Actor -- Leading Role</td>\n",
       "      <td>Jeff Bridges</td>\n",
       "      <td>True Grit {'Rooster Cogburn'}</td>\n",
       "      <td>NO</td>\n",
       "      <td>NaN</td>\n",
       "      <td>NaN</td>\n",
       "      <td>NaN</td>\n",
       "      <td>NaN</td>\n",
       "      <td>NaN</td>\n",
       "      <td>NaN</td>\n",
       "    </tr>\n",
       "    <tr>\n",
       "      <th>2</th>\n",
       "      <td>2010 (83rd)</td>\n",
       "      <td>Actor -- Leading Role</td>\n",
       "      <td>Jesse Eisenberg</td>\n",
       "      <td>The Social Network {'Mark Zuckerberg'}</td>\n",
       "      <td>NO</td>\n",
       "      <td>NaN</td>\n",
       "      <td>NaN</td>\n",
       "      <td>NaN</td>\n",
       "      <td>NaN</td>\n",
       "      <td>NaN</td>\n",
       "      <td>NaN</td>\n",
       "    </tr>\n",
       "    <tr>\n",
       "      <th>3</th>\n",
       "      <td>2010 (83rd)</td>\n",
       "      <td>Actor -- Leading Role</td>\n",
       "      <td>Colin Firth</td>\n",
       "      <td>The King's Speech {'King George VI'}</td>\n",
       "      <td>YES</td>\n",
       "      <td>NaN</td>\n",
       "      <td>NaN</td>\n",
       "      <td>NaN</td>\n",
       "      <td>NaN</td>\n",
       "      <td>NaN</td>\n",
       "      <td>NaN</td>\n",
       "    </tr>\n",
       "    <tr>\n",
       "      <th>4</th>\n",
       "      <td>2010 (83rd)</td>\n",
       "      <td>Actor -- Leading Role</td>\n",
       "      <td>James Franco</td>\n",
       "      <td>127 Hours {'Aron Ralston'}</td>\n",
       "      <td>NO</td>\n",
       "      <td>NaN</td>\n",
       "      <td>NaN</td>\n",
       "      <td>NaN</td>\n",
       "      <td>NaN</td>\n",
       "      <td>NaN</td>\n",
       "      <td>NaN</td>\n",
       "    </tr>\n",
       "  </tbody>\n",
       "</table>\n",
       "</div>"
      ],
      "text/plain": [
       "          Year               Category          Nominee  \\\n",
       "0  2010 (83rd)  Actor -- Leading Role    Javier Bardem   \n",
       "1  2010 (83rd)  Actor -- Leading Role     Jeff Bridges   \n",
       "2  2010 (83rd)  Actor -- Leading Role  Jesse Eisenberg   \n",
       "3  2010 (83rd)  Actor -- Leading Role      Colin Firth   \n",
       "4  2010 (83rd)  Actor -- Leading Role     James Franco   \n",
       "\n",
       "                          Additional Info Won? Unnamed: 5 Unnamed: 6  \\\n",
       "0                      Biutiful {'Uxbal'}   NO        NaN        NaN   \n",
       "1           True Grit {'Rooster Cogburn'}   NO        NaN        NaN   \n",
       "2  The Social Network {'Mark Zuckerberg'}   NO        NaN        NaN   \n",
       "3    The King's Speech {'King George VI'}  YES        NaN        NaN   \n",
       "4              127 Hours {'Aron Ralston'}   NO        NaN        NaN   \n",
       "\n",
       "  Unnamed: 7 Unnamed: 8 Unnamed: 9 Unnamed: 10  \n",
       "0        NaN        NaN        NaN         NaN  \n",
       "1        NaN        NaN        NaN         NaN  \n",
       "2        NaN        NaN        NaN         NaN  \n",
       "3        NaN        NaN        NaN         NaN  \n",
       "4        NaN        NaN        NaN         NaN  "
      ]
     },
     "execution_count": 1,
     "metadata": {},
     "output_type": "execute_result"
    }
   ],
   "source": [
    "import pandas as pd\n",
    "\n",
    "academy = pd.read_csv('academy_awards.csv', \n",
    "                      encoding='ISO-8859-1')\n",
    "\n",
    "academy.head()"
   ]
  },
  {
   "cell_type": "code",
   "execution_count": 2,
   "metadata": {},
   "outputs": [
    {
     "name": "stdout",
     "output_type": "stream",
     "text": [
      "Unnamed: 5\n",
      "*                                                                                                               7\n",
      " D.B. \"Don\" Keele and Mark E. Engebretson has resulted in the over 20-year dominance of constant-directivity    1\n",
      " error-prone measurements on sets. [Digital Imaging Technology]\"                                                1\n",
      " resilience                                                                                                     1\n",
      " discoverer of stars                                                                                            1\n",
      "Name: Unnamed: 5, dtype: int64\n",
      "############################## \n",
      "\n",
      "Unnamed: 6\n",
      "*                                                                   9\n",
      " sympathetic                                                        1\n",
      " direct radiator bass style cinema loudspeaker systems. [Sound]\"    1\n",
      " flexibility and water resistance                                   1\n",
      "Name: Unnamed: 6, dtype: int64\n",
      "############################## \n",
      "\n",
      "Unnamed: 7\n",
      " while requiring no dangerous solvents. [Systems]\"    1\n",
      "*                                                     1\n",
      " kindly                                               1\n",
      "Name: Unnamed: 7, dtype: int64\n",
      "############################## \n",
      "\n",
      "Unnamed: 8\n",
      " understanding comedy genius - Mack Sennett.\"\"    1\n",
      "*                                                 1\n",
      "Name: Unnamed: 8, dtype: int64\n",
      "############################## \n",
      "\n",
      "Unnamed: 9\n",
      "*    1\n",
      "Name: Unnamed: 9, dtype: int64\n",
      "############################## \n",
      "\n",
      "Unnamed: 10\n",
      "*    1\n",
      "Name: Unnamed: 10, dtype: int64\n",
      "############################## \n",
      "\n"
     ]
    }
   ],
   "source": [
    "# There are 6 unnamed columns at the end. \n",
    "# Use the value_counts method to explore if any of them have valid values that we need.\n",
    "\n",
    "for i in range(5, 11):\n",
    "    colname = 'Unnamed: '+str(i)\n",
    "    \n",
    "    print(colname)\n",
    "    print(academy[colname].value_counts())\n",
    "    print('#'*30, '\\n')"
   ]
  },
  {
   "cell_type": "code",
   "execution_count": null,
   "metadata": {},
   "outputs": [],
   "source": []
  },
  {
   "cell_type": "code",
   "execution_count": 3,
   "metadata": {},
   "outputs": [
    {
     "data": {
      "text/plain": [
       "Metro-Goldwyn-Mayer              60\n",
       "Walt Disney, Producer            57\n",
       "Warner Bros.                     42\n",
       "John Williams                    37\n",
       "France                           35\n",
       "Alfred Newman                    34\n",
       "Italy                            26\n",
       "Paramount                        24\n",
       "Gordon Hollingshead, Producer    22\n",
       "Edith Head                       22\n",
       "Name: Additional Info, dtype: int64"
      ]
     },
     "execution_count": 3,
     "metadata": {},
     "output_type": "execute_result"
    }
   ],
   "source": [
    "# You'll notice that the Additional Info column contains a few different formatting styles.\n",
    "# Start brainstorming ways to clean this column up.\n",
    "\n",
    "academy['Additional Info'].value_counts().iloc[:10]"
   ]
  },
  {
   "cell_type": "code",
   "execution_count": null,
   "metadata": {},
   "outputs": [],
   "source": []
  },
  {
   "cell_type": "markdown",
   "metadata": {},
   "source": [
    "The dataset is incredibly messy and you may have noticed many inconsistencies that make it hard to work with. Most columns don't have consistent formatting, which is incredibly important when we use SQL to query the data later on. Other columns vary in the information they convey based on the type of awards category that row corresponds to. <br>\n",
    "\n",
    "In the SQL and Databases: Intermediate course, we worked with a subset of the same dataset. This subset contained only the nominations from years 2001 to 2010 and only the following awards categories:\n",
    "\n",
    "* `Actor -- Leading Role`\n",
    "* `Actor -- Supporting Role`\n",
    "* `Actress -- Leading Role`\n",
    "* `Actress -- Supporting Role`\n",
    "\n",
    "Let's filter our Dataframe to the same subset so it's more manageable."
   ]
  },
  {
   "cell_type": "markdown",
   "metadata": {},
   "source": [
    "#### instructions\n",
    "\n",
    "Before we filter the data, let's clean up the `Year` column by selecting just the first 4 digits in each value in the column, therefore excluding the value in parentheses:\n",
    "\n",
    "* Use Pandas vectorized string methods to select just the first 4 elements in each string.\n",
    "  * E.g. df[\"Year\"].str[0:2] returns a Series containing just the first 2 characters for each element in the Year column.\n",
    "\n",
    "* Assign this new Series to the Year column to overwrite the original column.\n",
    "* Convert the Year column to the int64 data type using astype. Make sure to reassign the integer Series object back to the Year column in the Dataframe or the changes won't be reflected.\n",
    "\n",
    "Use conditional filtering to select only the rows from the Dataframe where the Year column is larger than 2000. Assign the new filtered Dataframe to later_than_2000.<br>\n",
    "\n",
    "Use conditional filtering to select only the rows from later_than_2000 where the Category matches one of the 4 awards we're interested in.\n",
    "\n",
    "* Create a list of strings named award_categories with the following strings:\n",
    "  * Actor -- Leading Role\n",
    "  * Actor -- Supporting Role\n",
    "  * Actress -- Leading Role\n",
    "  * Actress -- Supporting Role\n",
    "\n",
    "Use the isin method in the conditional filter to return all rows in a column that match any of the values in a list of strings.\n",
    "\n",
    "* Pass in award_categories to the isin method to return all rows : later_than_2000[later_than_2000[\"Category\"].isin(award_categories)]\n",
    "* Assign the resulting Dataframe to nominations."
   ]
  },
  {
   "cell_type": "code",
   "execution_count": 4,
   "metadata": {},
   "outputs": [],
   "source": [
    "# inst. 1\n",
    "academy['Year'] = academy['Year'].str[0:2].astype(int)"
   ]
  },
  {
   "cell_type": "code",
   "execution_count": 5,
   "metadata": {},
   "outputs": [
    {
     "data": {
      "text/plain": [
       "dtype('int64')"
      ]
     },
     "execution_count": 5,
     "metadata": {},
     "output_type": "execute_result"
    }
   ],
   "source": [
    "academy.Year.dtype"
   ]
  },
  {
   "cell_type": "code",
   "execution_count": 6,
   "metadata": {},
   "outputs": [
    {
     "data": {
      "text/plain": [
       "array([20, 19])"
      ]
     },
     "execution_count": 6,
     "metadata": {},
     "output_type": "execute_result"
    }
   ],
   "source": [
    "academy.Year.unique()"
   ]
  },
  {
   "cell_type": "code",
   "execution_count": 7,
   "metadata": {},
   "outputs": [],
   "source": [
    "# inst. 2, 3\n",
    "\n",
    "later_than_2000 = academy[academy['Year'] > 19]\n",
    "\n",
    "award_categories = ['Actor -- Leading Role',\n",
    "                   'Actor -- Supporting Role',\n",
    "                   'Actress -- Leading Role',\n",
    "                   'Actress -- Supporting Role']\n",
    "\n",
    "nominations = later_than_2000[later_than_2000[\"Category\"]\\\n",
    "                              .isin(award_categories)]"
   ]
  },
  {
   "cell_type": "code",
   "execution_count": 8,
   "metadata": {},
   "outputs": [
    {
     "data": {
      "text/html": [
       "<div>\n",
       "<style scoped>\n",
       "    .dataframe tbody tr th:only-of-type {\n",
       "        vertical-align: middle;\n",
       "    }\n",
       "\n",
       "    .dataframe tbody tr th {\n",
       "        vertical-align: top;\n",
       "    }\n",
       "\n",
       "    .dataframe thead th {\n",
       "        text-align: right;\n",
       "    }\n",
       "</style>\n",
       "<table border=\"1\" class=\"dataframe\">\n",
       "  <thead>\n",
       "    <tr style=\"text-align: right;\">\n",
       "      <th></th>\n",
       "      <th>Year</th>\n",
       "      <th>Category</th>\n",
       "      <th>Nominee</th>\n",
       "      <th>Additional Info</th>\n",
       "      <th>Won?</th>\n",
       "      <th>Unnamed: 5</th>\n",
       "      <th>Unnamed: 6</th>\n",
       "      <th>Unnamed: 7</th>\n",
       "      <th>Unnamed: 8</th>\n",
       "      <th>Unnamed: 9</th>\n",
       "      <th>Unnamed: 10</th>\n",
       "    </tr>\n",
       "  </thead>\n",
       "  <tbody>\n",
       "    <tr>\n",
       "      <th>0</th>\n",
       "      <td>20</td>\n",
       "      <td>Actor -- Leading Role</td>\n",
       "      <td>Javier Bardem</td>\n",
       "      <td>Biutiful {'Uxbal'}</td>\n",
       "      <td>NO</td>\n",
       "      <td>NaN</td>\n",
       "      <td>NaN</td>\n",
       "      <td>NaN</td>\n",
       "      <td>NaN</td>\n",
       "      <td>NaN</td>\n",
       "      <td>NaN</td>\n",
       "    </tr>\n",
       "    <tr>\n",
       "      <th>1</th>\n",
       "      <td>20</td>\n",
       "      <td>Actor -- Leading Role</td>\n",
       "      <td>Jeff Bridges</td>\n",
       "      <td>True Grit {'Rooster Cogburn'}</td>\n",
       "      <td>NO</td>\n",
       "      <td>NaN</td>\n",
       "      <td>NaN</td>\n",
       "      <td>NaN</td>\n",
       "      <td>NaN</td>\n",
       "      <td>NaN</td>\n",
       "      <td>NaN</td>\n",
       "    </tr>\n",
       "    <tr>\n",
       "      <th>2</th>\n",
       "      <td>20</td>\n",
       "      <td>Actor -- Leading Role</td>\n",
       "      <td>Jesse Eisenberg</td>\n",
       "      <td>The Social Network {'Mark Zuckerberg'}</td>\n",
       "      <td>NO</td>\n",
       "      <td>NaN</td>\n",
       "      <td>NaN</td>\n",
       "      <td>NaN</td>\n",
       "      <td>NaN</td>\n",
       "      <td>NaN</td>\n",
       "      <td>NaN</td>\n",
       "    </tr>\n",
       "    <tr>\n",
       "      <th>3</th>\n",
       "      <td>20</td>\n",
       "      <td>Actor -- Leading Role</td>\n",
       "      <td>Colin Firth</td>\n",
       "      <td>The King's Speech {'King George VI'}</td>\n",
       "      <td>YES</td>\n",
       "      <td>NaN</td>\n",
       "      <td>NaN</td>\n",
       "      <td>NaN</td>\n",
       "      <td>NaN</td>\n",
       "      <td>NaN</td>\n",
       "      <td>NaN</td>\n",
       "    </tr>\n",
       "    <tr>\n",
       "      <th>4</th>\n",
       "      <td>20</td>\n",
       "      <td>Actor -- Leading Role</td>\n",
       "      <td>James Franco</td>\n",
       "      <td>127 Hours {'Aron Ralston'}</td>\n",
       "      <td>NO</td>\n",
       "      <td>NaN</td>\n",
       "      <td>NaN</td>\n",
       "      <td>NaN</td>\n",
       "      <td>NaN</td>\n",
       "      <td>NaN</td>\n",
       "      <td>NaN</td>\n",
       "    </tr>\n",
       "  </tbody>\n",
       "</table>\n",
       "</div>"
      ],
      "text/plain": [
       "   Year               Category          Nominee  \\\n",
       "0    20  Actor -- Leading Role    Javier Bardem   \n",
       "1    20  Actor -- Leading Role     Jeff Bridges   \n",
       "2    20  Actor -- Leading Role  Jesse Eisenberg   \n",
       "3    20  Actor -- Leading Role      Colin Firth   \n",
       "4    20  Actor -- Leading Role     James Franco   \n",
       "\n",
       "                          Additional Info Won? Unnamed: 5 Unnamed: 6  \\\n",
       "0                      Biutiful {'Uxbal'}   NO        NaN        NaN   \n",
       "1           True Grit {'Rooster Cogburn'}   NO        NaN        NaN   \n",
       "2  The Social Network {'Mark Zuckerberg'}   NO        NaN        NaN   \n",
       "3    The King's Speech {'King George VI'}  YES        NaN        NaN   \n",
       "4              127 Hours {'Aron Ralston'}   NO        NaN        NaN   \n",
       "\n",
       "  Unnamed: 7 Unnamed: 8 Unnamed: 9 Unnamed: 10  \n",
       "0        NaN        NaN        NaN         NaN  \n",
       "1        NaN        NaN        NaN         NaN  \n",
       "2        NaN        NaN        NaN         NaN  \n",
       "3        NaN        NaN        NaN         NaN  \n",
       "4        NaN        NaN        NaN         NaN  "
      ]
     },
     "execution_count": 8,
     "metadata": {},
     "output_type": "execute_result"
    }
   ],
   "source": [
    "nominations.head()"
   ]
  },
  {
   "cell_type": "code",
   "execution_count": null,
   "metadata": {},
   "outputs": [],
   "source": []
  },
  {
   "cell_type": "markdown",
   "metadata": {},
   "source": [
    "#### instructions\n",
    "\n",
    "Use the [Series method map](http://pandas.pydata.org/pandas-docs/stable/generated/pandas.Series.map.html) to replace all NO values with 0 and all YES values with 1.\n",
    "\n",
    "* Select the Won? column from nominations.\n",
    "* Then create a dictionary where each key is a value we want to replace and each value is the corresponding replacement value.\n",
    "  * The following dictionary replace_dict = { True: 1, False: 0 } would replace all True values with 1 and all False values with 0.\n",
    "* Call the map function on the Series object and pass in the dictionary you created.\n",
    "* Finally, reassign the new Series object to the Won? column in nominations.\n",
    "\n",
    "Create a new column Won that contains the values from the Won? column.\n",
    "\n",
    "* Select the Won? column and assign it to the Won column. Both columns should be in the Dataframe still.\n",
    "\n",
    "Use the drop method to remove the extraneous columns.\n",
    "As the required parameter, pass in a list of strings containing the following values:\n",
    "\n",
    "* Won?\n",
    "* Unnamed: 5\n",
    "* Unnamed: 6\n",
    "* Unnamed: 7\n",
    "* Unnamed: 8\n",
    "* Unnamed: 9\n",
    "* Unnamed: 10\n",
    "\n",
    "Set the axis parameter to 1 when calling the drop method.\n",
    "<br>\n",
    "Assign the resulting Dataframe to final_nominations."
   ]
  },
  {
   "cell_type": "code",
   "execution_count": 9,
   "metadata": {},
   "outputs": [
    {
     "name": "stderr",
     "output_type": "stream",
     "text": [
      "/usr/local/lib/python3.6/site-packages/ipykernel_launcher.py:1: SettingWithCopyWarning: \n",
      "A value is trying to be set on a copy of a slice from a DataFrame.\n",
      "Try using .loc[row_indexer,col_indexer] = value instead\n",
      "\n",
      "See the caveats in the documentation: http://pandas.pydata.org/pandas-docs/stable/indexing.html#indexing-view-versus-copy\n",
      "  \"\"\"Entry point for launching an IPython kernel.\n"
     ]
    }
   ],
   "source": [
    "nominations['Won?'] = nominations['Won?'].map({'NO':0, 'YES':1})"
   ]
  },
  {
   "cell_type": "code",
   "execution_count": 10,
   "metadata": {},
   "outputs": [
    {
     "name": "stderr",
     "output_type": "stream",
     "text": [
      "/usr/local/lib/python3.6/site-packages/ipykernel_launcher.py:1: SettingWithCopyWarning: \n",
      "A value is trying to be set on a copy of a slice from a DataFrame.\n",
      "Try using .loc[row_indexer,col_indexer] = value instead\n",
      "\n",
      "See the caveats in the documentation: http://pandas.pydata.org/pandas-docs/stable/indexing.html#indexing-view-versus-copy\n",
      "  \"\"\"Entry point for launching an IPython kernel.\n"
     ]
    }
   ],
   "source": [
    "nominations['Won'] = nominations['Won?']"
   ]
  },
  {
   "cell_type": "code",
   "execution_count": 11,
   "metadata": {},
   "outputs": [
    {
     "data": {
      "text/plain": [
       "0    0\n",
       "1    0\n",
       "2    0\n",
       "3    1\n",
       "4    0\n",
       "Name: Won, dtype: int64"
      ]
     },
     "execution_count": 11,
     "metadata": {},
     "output_type": "execute_result"
    }
   ],
   "source": [
    "nominations.Won.head()"
   ]
  },
  {
   "cell_type": "code",
   "execution_count": 12,
   "metadata": {},
   "outputs": [],
   "source": [
    "final_nominations = nominations.drop(['Won?',\n",
    "                                     'Unnamed: 5',\n",
    "                                     'Unnamed: 6',\n",
    "                                     'Unnamed: 7',\n",
    "                                     'Unnamed: 8',\n",
    "                                     'Unnamed: 9',\n",
    "                                     'Unnamed: 10'],\n",
    "                                    axis = 1)"
   ]
  },
  {
   "cell_type": "code",
   "execution_count": 13,
   "metadata": {},
   "outputs": [
    {
     "data": {
      "text/html": [
       "<div>\n",
       "<style scoped>\n",
       "    .dataframe tbody tr th:only-of-type {\n",
       "        vertical-align: middle;\n",
       "    }\n",
       "\n",
       "    .dataframe tbody tr th {\n",
       "        vertical-align: top;\n",
       "    }\n",
       "\n",
       "    .dataframe thead th {\n",
       "        text-align: right;\n",
       "    }\n",
       "</style>\n",
       "<table border=\"1\" class=\"dataframe\">\n",
       "  <thead>\n",
       "    <tr style=\"text-align: right;\">\n",
       "      <th></th>\n",
       "      <th>Year</th>\n",
       "      <th>Category</th>\n",
       "      <th>Nominee</th>\n",
       "      <th>Additional Info</th>\n",
       "      <th>Won</th>\n",
       "    </tr>\n",
       "  </thead>\n",
       "  <tbody>\n",
       "    <tr>\n",
       "      <th>0</th>\n",
       "      <td>20</td>\n",
       "      <td>Actor -- Leading Role</td>\n",
       "      <td>Javier Bardem</td>\n",
       "      <td>Biutiful {'Uxbal'}</td>\n",
       "      <td>0</td>\n",
       "    </tr>\n",
       "    <tr>\n",
       "      <th>1</th>\n",
       "      <td>20</td>\n",
       "      <td>Actor -- Leading Role</td>\n",
       "      <td>Jeff Bridges</td>\n",
       "      <td>True Grit {'Rooster Cogburn'}</td>\n",
       "      <td>0</td>\n",
       "    </tr>\n",
       "    <tr>\n",
       "      <th>2</th>\n",
       "      <td>20</td>\n",
       "      <td>Actor -- Leading Role</td>\n",
       "      <td>Jesse Eisenberg</td>\n",
       "      <td>The Social Network {'Mark Zuckerberg'}</td>\n",
       "      <td>0</td>\n",
       "    </tr>\n",
       "    <tr>\n",
       "      <th>3</th>\n",
       "      <td>20</td>\n",
       "      <td>Actor -- Leading Role</td>\n",
       "      <td>Colin Firth</td>\n",
       "      <td>The King's Speech {'King George VI'}</td>\n",
       "      <td>1</td>\n",
       "    </tr>\n",
       "    <tr>\n",
       "      <th>4</th>\n",
       "      <td>20</td>\n",
       "      <td>Actor -- Leading Role</td>\n",
       "      <td>James Franco</td>\n",
       "      <td>127 Hours {'Aron Ralston'}</td>\n",
       "      <td>0</td>\n",
       "    </tr>\n",
       "  </tbody>\n",
       "</table>\n",
       "</div>"
      ],
      "text/plain": [
       "   Year               Category          Nominee  \\\n",
       "0    20  Actor -- Leading Role    Javier Bardem   \n",
       "1    20  Actor -- Leading Role     Jeff Bridges   \n",
       "2    20  Actor -- Leading Role  Jesse Eisenberg   \n",
       "3    20  Actor -- Leading Role      Colin Firth   \n",
       "4    20  Actor -- Leading Role     James Franco   \n",
       "\n",
       "                          Additional Info  Won  \n",
       "0                      Biutiful {'Uxbal'}    0  \n",
       "1           True Grit {'Rooster Cogburn'}    0  \n",
       "2  The Social Network {'Mark Zuckerberg'}    0  \n",
       "3    The King's Speech {'King George VI'}    1  \n",
       "4              127 Hours {'Aron Ralston'}    0  "
      ]
     },
     "execution_count": 13,
     "metadata": {},
     "output_type": "execute_result"
    }
   ],
   "source": [
    "final_nominations.head()"
   ]
  },
  {
   "cell_type": "code",
   "execution_count": null,
   "metadata": {},
   "outputs": [],
   "source": []
  },
  {
   "cell_type": "markdown",
   "metadata": {},
   "source": [
    "Use [vectorized string methods](http://pandas.pydata.org/pandas-docs/stable/basics.html#vectorized-string-methods) to clean up the `Additional Info` column:\n",
    "\n",
    "* Select the Additional Info column and strip the single quote and closing brace (\"'}\") using the rstrip method. Assign the resulting Series object to additional_info_one.\n",
    "* Split additional_info_one on the string, \" {', using the split method and assign to additional_info_two. Each value in this Series object should be a list containing the movie name first then the character name.\n",
    "* Access the first element from each list in additional_info_two using vectorized string methods and assign to movie_names. Here's what the code looks like: additional_info_two.str[0]\n",
    "* Access the second element from each list in additional_info_two using vectorized string methods and assign to characters.\n",
    "\n",
    "Assign the Series movie_names to the Movie column in the final_nominations Dataframe.<br>\n",
    "\n",
    "Assign the Series characters to the Character column in the final_nominations Dataframe.<br>\n",
    "\n",
    "Use the head method to preview the first few rows to make sure the values in the Character and Movie columns resemble the Additional Info column.<br>\n",
    "\n",
    "Drop the Additional Info column using the drop method.\n",
    "\n"
   ]
  },
  {
   "cell_type": "code",
   "execution_count": null,
   "metadata": {
    "collapsed": true
   },
   "outputs": [],
   "source": []
  },
  {
   "cell_type": "code",
   "execution_count": 14,
   "metadata": {},
   "outputs": [
    {
     "data": {
      "text/plain": [
       "\"Biutiful {'Uxbal\""
      ]
     },
     "execution_count": 14,
     "metadata": {},
     "output_type": "execute_result"
    }
   ],
   "source": [
    "\"Biutiful {'Uxbal'}\".rstrip(\"'}\")"
   ]
  },
  {
   "cell_type": "code",
   "execution_count": 15,
   "metadata": {},
   "outputs": [
    {
     "data": {
      "text/plain": [
       "0                        Biutiful {'Uxbal'}\n",
       "1             True Grit {'Rooster Cogburn'}\n",
       "2    The Social Network {'Mark Zuckerberg'}\n",
       "3      The King's Speech {'King George VI'}\n",
       "4                127 Hours {'Aron Ralston'}\n",
       "Name: Additional Info, dtype: object"
      ]
     },
     "execution_count": 15,
     "metadata": {},
     "output_type": "execute_result"
    }
   ],
   "source": [
    "final_nominations['Additional Info'].head()"
   ]
  },
  {
   "cell_type": "code",
   "execution_count": 16,
   "metadata": {
    "scrolled": true
   },
   "outputs": [],
   "source": [
    "additional_info_one =\\\n",
    "    final_nominations['Additional Info'].\\\n",
    "                    apply(lambda x : x.rstrip(\"'}\"))"
   ]
  },
  {
   "cell_type": "code",
   "execution_count": 44,
   "metadata": {
    "collapsed": true
   },
   "outputs": [
    {
     "data": {
      "text/plain": [
       "0                                      Biutiful {'Uxbal\n",
       "1                           True Grit {'Rooster Cogburn\n",
       "2                  The Social Network {'Mark Zuckerberg\n",
       "3                    The King's Speech {'King George VI\n",
       "4                              127 Hours {'Aron Ralston\n",
       "5                            The Fighter {'Dicky Eklund\n",
       "6                              Winter's Bone {'Teardrop\n",
       "7                             The Town {'James Coughlin\n",
       "8                         The Kids Are All Right {'Paul\n",
       "9                      The King's Speech {'Lionel Logue\n",
       "10                         The Kids Are All Right {'Nic\n",
       "11                                  Rabbit Hole {'Becca\n",
       "12                                  Winter's Bone {'Ree\n",
       "13              Black Swan {'Nina Sayers/The Swan Queen\n",
       "14                               Blue Valentine {'Cindy\n",
       "15                       The Fighter {'Charlene Fleming\n",
       "16                  The King's Speech {'Queen Elizabeth\n",
       "17                             The Fighter {'Alice Ward\n",
       "18                              True Grit {'Mattie Ross\n",
       "19                 Animal Kingdom {'Janine 'Smurf' Cody\n",
       "135                             Crazy Heart {'Bad Blake\n",
       "136                        Up in the Air {'Ryan Bingham\n",
       "137                               A Single Man {'George\n",
       "138                           Invictus {'Nelson Mandela\n",
       "139      The Hurt Locker {'Staff Sergeant William James\n",
       "140                         Invictus {'Francois Pienaar\n",
       "141                  The Messenger {'Captain Tony Stone\n",
       "142                          The Last Station {'Tolstoy\n",
       "143                    The Lovely Bones {'George Harvey\n",
       "144              Inglourious Basterds {'Col. Hans Landa\n",
       "                             ...                       \n",
       "1167                  Monster's Ball {'Leticia Musgrove\n",
       "1168                                Iris {'Iris Murdoch\n",
       "1169                              Moulin Rouge {'Satine\n",
       "1170                       In the Bedroom {'Ruth Fowler\n",
       "1171              Bridget Jones's Diary {'Bridget Jones\n",
       "1172                     A Beautiful Mind {'Alicia Nash\n",
       "1173                         Gosford Park {'Mrs. Wilson\n",
       "1174     Gosford Park {'Constance, Countess of Trentham\n",
       "1175                    In the Bedroom {'Natalie Strout\n",
       "1176                          Iris {'Young Iris Murdoch\n",
       "1294               Before Night Falls {'Reinaldo Arenas\n",
       "1295               Gladiator {'Maximus Decimus Meridius\n",
       "1296                           Cast Away {'Chuck Noland\n",
       "1297                          Pollock {'Jackson Pollock\n",
       "1298                       Quills {'The Marquis de Sade\n",
       "1299            The Contender {'President Jackson Evans\n",
       "1300                Shadow of the Vampire {'Max Schreck\n",
       "1301                         Traffic {'Javier Rodriguez\n",
       "1302                         Erin Brockovich {'Ed Masry\n",
       "1303                               Gladiator {'Commodus\n",
       "1304                       The Contender {'Laine Hanson\n",
       "1305                           Chocolat {'Vianne Rocher\n",
       "1306                Requiem for a Dream {'Sara Goldfarb\n",
       "1307    You Can Count on Me {'Samantha 'Sammy' Prescott\n",
       "1308                  Erin Brockovich {'Erin Brockovich\n",
       "1309                          Chocolat {'Armande Voizin\n",
       "1310                              Pollock {'Lee Krasner\n",
       "1311                         Almost Famous {'Penny Lane\n",
       "1312                      Almost Famous {'Elaine Miller\n",
       "1313                      Billy Elliot {'Mrs. Wilkinson\n",
       "Name: Additional Info, dtype: object"
      ]
     },
     "execution_count": 44,
     "metadata": {},
     "output_type": "execute_result"
    }
   ],
   "source": [
    "additional_info_one"
   ]
  },
  {
   "cell_type": "code",
   "execution_count": 17,
   "metadata": {},
   "outputs": [],
   "source": [
    "movie_names = additional_info_one.apply(lambda x: x.split(\" {'\")[0])\n",
    "characters = additional_info_one.apply(lambda x: x.split(\" {'\")[1])"
   ]
  },
  {
   "cell_type": "code",
   "execution_count": 48,
   "metadata": {
    "collapsed": true
   },
   "outputs": [],
   "source": []
  },
  {
   "cell_type": "code",
   "execution_count": 18,
   "metadata": {},
   "outputs": [
    {
     "data": {
      "text/html": [
       "<div>\n",
       "<style scoped>\n",
       "    .dataframe tbody tr th:only-of-type {\n",
       "        vertical-align: middle;\n",
       "    }\n",
       "\n",
       "    .dataframe tbody tr th {\n",
       "        vertical-align: top;\n",
       "    }\n",
       "\n",
       "    .dataframe thead th {\n",
       "        text-align: right;\n",
       "    }\n",
       "</style>\n",
       "<table border=\"1\" class=\"dataframe\">\n",
       "  <thead>\n",
       "    <tr style=\"text-align: right;\">\n",
       "      <th></th>\n",
       "      <th>Year</th>\n",
       "      <th>Category</th>\n",
       "      <th>Nominee</th>\n",
       "      <th>Additional Info</th>\n",
       "      <th>Won</th>\n",
       "      <th>Movie</th>\n",
       "      <th>Character</th>\n",
       "    </tr>\n",
       "  </thead>\n",
       "  <tbody>\n",
       "    <tr>\n",
       "      <th>0</th>\n",
       "      <td>20</td>\n",
       "      <td>Actor -- Leading Role</td>\n",
       "      <td>Javier Bardem</td>\n",
       "      <td>Biutiful {'Uxbal'}</td>\n",
       "      <td>0</td>\n",
       "      <td>Biutiful</td>\n",
       "      <td>Uxbal</td>\n",
       "    </tr>\n",
       "    <tr>\n",
       "      <th>1</th>\n",
       "      <td>20</td>\n",
       "      <td>Actor -- Leading Role</td>\n",
       "      <td>Jeff Bridges</td>\n",
       "      <td>True Grit {'Rooster Cogburn'}</td>\n",
       "      <td>0</td>\n",
       "      <td>True Grit</td>\n",
       "      <td>Rooster Cogburn</td>\n",
       "    </tr>\n",
       "    <tr>\n",
       "      <th>2</th>\n",
       "      <td>20</td>\n",
       "      <td>Actor -- Leading Role</td>\n",
       "      <td>Jesse Eisenberg</td>\n",
       "      <td>The Social Network {'Mark Zuckerberg'}</td>\n",
       "      <td>0</td>\n",
       "      <td>The Social Network</td>\n",
       "      <td>Mark Zuckerberg</td>\n",
       "    </tr>\n",
       "    <tr>\n",
       "      <th>3</th>\n",
       "      <td>20</td>\n",
       "      <td>Actor -- Leading Role</td>\n",
       "      <td>Colin Firth</td>\n",
       "      <td>The King's Speech {'King George VI'}</td>\n",
       "      <td>1</td>\n",
       "      <td>The King's Speech</td>\n",
       "      <td>King George VI</td>\n",
       "    </tr>\n",
       "    <tr>\n",
       "      <th>4</th>\n",
       "      <td>20</td>\n",
       "      <td>Actor -- Leading Role</td>\n",
       "      <td>James Franco</td>\n",
       "      <td>127 Hours {'Aron Ralston'}</td>\n",
       "      <td>0</td>\n",
       "      <td>127 Hours</td>\n",
       "      <td>Aron Ralston</td>\n",
       "    </tr>\n",
       "  </tbody>\n",
       "</table>\n",
       "</div>"
      ],
      "text/plain": [
       "   Year               Category          Nominee  \\\n",
       "0    20  Actor -- Leading Role    Javier Bardem   \n",
       "1    20  Actor -- Leading Role     Jeff Bridges   \n",
       "2    20  Actor -- Leading Role  Jesse Eisenberg   \n",
       "3    20  Actor -- Leading Role      Colin Firth   \n",
       "4    20  Actor -- Leading Role     James Franco   \n",
       "\n",
       "                          Additional Info  Won               Movie  \\\n",
       "0                      Biutiful {'Uxbal'}    0            Biutiful   \n",
       "1           True Grit {'Rooster Cogburn'}    0           True Grit   \n",
       "2  The Social Network {'Mark Zuckerberg'}    0  The Social Network   \n",
       "3    The King's Speech {'King George VI'}    1   The King's Speech   \n",
       "4              127 Hours {'Aron Ralston'}    0           127 Hours   \n",
       "\n",
       "         Character  \n",
       "0            Uxbal  \n",
       "1  Rooster Cogburn  \n",
       "2  Mark Zuckerberg  \n",
       "3   King George VI  \n",
       "4     Aron Ralston  "
      ]
     },
     "execution_count": 18,
     "metadata": {},
     "output_type": "execute_result"
    }
   ],
   "source": [
    "final_nominations['Movie'] = movie_names\n",
    "final_nominations['Character'] = characters\n",
    "\n",
    "final_nominations.head()"
   ]
  },
  {
   "cell_type": "code",
   "execution_count": 19,
   "metadata": {},
   "outputs": [],
   "source": [
    "final_nominations.drop(['Additional Info'], axis=1, inplace=True)"
   ]
  },
  {
   "cell_type": "code",
   "execution_count": null,
   "metadata": {
    "collapsed": true
   },
   "outputs": [],
   "source": []
  },
  {
   "cell_type": "markdown",
   "metadata": {},
   "source": [
    "### Cleaning completed"
   ]
  },
  {
   "cell_type": "code",
   "execution_count": null,
   "metadata": {
    "collapsed": true
   },
   "outputs": [],
   "source": []
  },
  {
   "cell_type": "markdown",
   "metadata": {},
   "source": [
    "Now that our Dataframe is cleaned up, let's write these records to a SQL database. We can use the Pandas Dataframe method `to_sql` to create a new table in a database we specify. This method has 2 required parameters:\n",
    "\n",
    "* `name` - string corresponding to the name of the table we want created. The rows from our Dataframe will be added to this table after it's created.\n",
    "* `conn`: the Connection instance representing the database we want to add to.\n",
    "\n",
    "Behind the scenes, Pandas creates a table and uses the first parameter to name it. Pandas uses the data types of each of the columns in the Dataframe to create a SQLite schema for this table. Since SQLite uses integer values to represent Booleans, it was important to convert the Won column to the integer values 0 and 1. We also converted the Year column to the integer data type, so that this column will have the appropriate type in our table. Here's the mapping for our columns from the Pandas data type to the SQLite data type:\n",
    "\n",
    "column|Pandas data type|SQLite data type\n",
    ":---:|:---:|:---:\n",
    "Year|int64|integer\n",
    "Won|int64|integer\n",
    "Category|object|text\n",
    "Nominee|object|text\n",
    "Movie|object|text\n",
    "Character|object|text\n",
    "\n",
    "\n",
    "After creating the table, Pandas creates a large `INSERT` query and runs it to insert the values into the table. We can customize the behavior of the to_sql method using its parameters. For example, if we wanted to append rows to an existing SQLite table instead of creating a new one, we can set the `if_exists` parameter to `\"append\"`. By default, if_exists is set to \"fail\" and no rows will be inserted if we specify a table name that already exists. \n",
    "### If we're inserting a large number of records into SQLite and we want to break up the inserting of records into chunks, we can use the chunksize parameter to set the number of rows we want inserted each time.\n",
    "\n",
    "Since we're creating a database from scratch, **we need to create a database file first so we can connect to it and export our data**. To create a new database file, we use the sqlite3 library to connect to a file path that doesn't exist yet. **If Python can't find the file we specified, it will create it for us and treat it as a SQLite database file**. <br>\n",
    "\n",
    "SQLite doesn't have a [special file format](http://stackoverflow.com/questions/808499/what-is-the-best-extension-name-sqlite-database-files) and you can use any file extension you'd like when creating a SQLite database. We generally use the .db extension, which isn't a file extension that's generally used for other applications."
   ]
  },
  {
   "cell_type": "markdown",
   "metadata": {},
   "source": [
    "#### instructions\n",
    "\n",
    "Create the SQLite database nominations.db and connect to it.\n",
    "\n",
    "* Import sqlite3 into the environment.\n",
    "* Use the sqlite3 method connect to connect to the database file nominations.db.\n",
    "  * Since it doesn't exist in our current directory, it will be automatically created.\n",
    "  * Assign the returned Connection instance to conn.\n",
    "\n",
    "Use the Dataframe method to_sql to export final_nominations to nominations.db.\n",
    "\n",
    "* For the first parameter, set the table name to \"nominations\".\n",
    "* For the second parameter, pass in the Connection instance.\n",
    "* Set the index parameter to False."
   ]
  },
  {
   "cell_type": "code",
   "execution_count": 20,
   "metadata": {},
   "outputs": [],
   "source": [
    "import sqlite3\n",
    "\n",
    "conn = sqlite3.connect('nominations_to_prepare.db')\n",
    "final_nominations.to_sql('nominations_to_prepare', conn, index=False)"
   ]
  },
  {
   "cell_type": "code",
   "execution_count": null,
   "metadata": {
    "collapsed": true
   },
   "outputs": [],
   "source": []
  },
  {
   "cell_type": "markdown",
   "metadata": {},
   "source": [
    "* Import sqlite3 into the environment.\n",
    "* Create a Connection instance using the sqlite3 method connect to connect to your database file.\n",
    "* Explore the database to make sure the nominations table matches our Dataframe.\n",
    "  * Return and print the schema using pragma table_info(). The following schema should be returned:\n",
    "    * Year: Integer.\n",
    "    * Category: Text.\n",
    "    * Nominee: Text.\n",
    "    * Won: Text.\n",
    "    * Movie: Text.\n",
    "    * Character: Text.\n",
    "\n",
    "  * Return and print the first 10 rows using the SELECT and LIMIT statements.\n",
    "\n",
    "* Once you're done, use the Connection method close to close the connection to the database."
   ]
  },
  {
   "cell_type": "code",
   "execution_count": 21,
   "metadata": {},
   "outputs": [
    {
     "data": {
      "text/html": [
       "<div>\n",
       "<style scoped>\n",
       "    .dataframe tbody tr th:only-of-type {\n",
       "        vertical-align: middle;\n",
       "    }\n",
       "\n",
       "    .dataframe tbody tr th {\n",
       "        vertical-align: top;\n",
       "    }\n",
       "\n",
       "    .dataframe thead th {\n",
       "        text-align: right;\n",
       "    }\n",
       "</style>\n",
       "<table border=\"1\" class=\"dataframe\">\n",
       "  <thead>\n",
       "    <tr style=\"text-align: right;\">\n",
       "      <th></th>\n",
       "      <th>Year</th>\n",
       "      <th>Category</th>\n",
       "      <th>Nominee</th>\n",
       "      <th>Won</th>\n",
       "      <th>Movie</th>\n",
       "      <th>Character</th>\n",
       "    </tr>\n",
       "  </thead>\n",
       "  <tbody>\n",
       "    <tr>\n",
       "      <th>0</th>\n",
       "      <td>20</td>\n",
       "      <td>Actor -- Leading Role</td>\n",
       "      <td>Javier Bardem</td>\n",
       "      <td>0</td>\n",
       "      <td>Biutiful</td>\n",
       "      <td>Uxbal</td>\n",
       "    </tr>\n",
       "    <tr>\n",
       "      <th>1</th>\n",
       "      <td>20</td>\n",
       "      <td>Actor -- Leading Role</td>\n",
       "      <td>Jeff Bridges</td>\n",
       "      <td>0</td>\n",
       "      <td>True Grit</td>\n",
       "      <td>Rooster Cogburn</td>\n",
       "    </tr>\n",
       "    <tr>\n",
       "      <th>2</th>\n",
       "      <td>20</td>\n",
       "      <td>Actor -- Leading Role</td>\n",
       "      <td>Jesse Eisenberg</td>\n",
       "      <td>0</td>\n",
       "      <td>The Social Network</td>\n",
       "      <td>Mark Zuckerberg</td>\n",
       "    </tr>\n",
       "    <tr>\n",
       "      <th>3</th>\n",
       "      <td>20</td>\n",
       "      <td>Actor -- Leading Role</td>\n",
       "      <td>Colin Firth</td>\n",
       "      <td>1</td>\n",
       "      <td>The King's Speech</td>\n",
       "      <td>King George VI</td>\n",
       "    </tr>\n",
       "    <tr>\n",
       "      <th>4</th>\n",
       "      <td>20</td>\n",
       "      <td>Actor -- Leading Role</td>\n",
       "      <td>James Franco</td>\n",
       "      <td>0</td>\n",
       "      <td>127 Hours</td>\n",
       "      <td>Aron Ralston</td>\n",
       "    </tr>\n",
       "  </tbody>\n",
       "</table>\n",
       "</div>"
      ],
      "text/plain": [
       "   Year               Category          Nominee  Won               Movie  \\\n",
       "0    20  Actor -- Leading Role    Javier Bardem    0            Biutiful   \n",
       "1    20  Actor -- Leading Role     Jeff Bridges    0           True Grit   \n",
       "2    20  Actor -- Leading Role  Jesse Eisenberg    0  The Social Network   \n",
       "3    20  Actor -- Leading Role      Colin Firth    1   The King's Speech   \n",
       "4    20  Actor -- Leading Role     James Franco    0           127 Hours   \n",
       "\n",
       "         Character  \n",
       "0            Uxbal  \n",
       "1  Rooster Cogburn  \n",
       "2  Mark Zuckerberg  \n",
       "3   King George VI  \n",
       "4     Aron Ralston  "
      ]
     },
     "execution_count": 21,
     "metadata": {},
     "output_type": "execute_result"
    }
   ],
   "source": [
    "pd.read_sql('select * from nominations_to_prepare limit 5', conn)"
   ]
  },
  {
   "cell_type": "code",
   "execution_count": 22,
   "metadata": {
    "scrolled": true
   },
   "outputs": [
    {
     "data": {
      "text/html": [
       "<div>\n",
       "<style scoped>\n",
       "    .dataframe tbody tr th:only-of-type {\n",
       "        vertical-align: middle;\n",
       "    }\n",
       "\n",
       "    .dataframe tbody tr th {\n",
       "        vertical-align: top;\n",
       "    }\n",
       "\n",
       "    .dataframe thead th {\n",
       "        text-align: right;\n",
       "    }\n",
       "</style>\n",
       "<table border=\"1\" class=\"dataframe\">\n",
       "  <thead>\n",
       "    <tr style=\"text-align: right;\">\n",
       "      <th></th>\n",
       "      <th>cid</th>\n",
       "      <th>name</th>\n",
       "      <th>type</th>\n",
       "      <th>notnull</th>\n",
       "      <th>dflt_value</th>\n",
       "      <th>pk</th>\n",
       "    </tr>\n",
       "  </thead>\n",
       "  <tbody>\n",
       "    <tr>\n",
       "      <th>0</th>\n",
       "      <td>0</td>\n",
       "      <td>Year</td>\n",
       "      <td>INTEGER</td>\n",
       "      <td>0</td>\n",
       "      <td>None</td>\n",
       "      <td>0</td>\n",
       "    </tr>\n",
       "    <tr>\n",
       "      <th>1</th>\n",
       "      <td>1</td>\n",
       "      <td>Category</td>\n",
       "      <td>TEXT</td>\n",
       "      <td>0</td>\n",
       "      <td>None</td>\n",
       "      <td>0</td>\n",
       "    </tr>\n",
       "    <tr>\n",
       "      <th>2</th>\n",
       "      <td>2</td>\n",
       "      <td>Nominee</td>\n",
       "      <td>TEXT</td>\n",
       "      <td>0</td>\n",
       "      <td>None</td>\n",
       "      <td>0</td>\n",
       "    </tr>\n",
       "    <tr>\n",
       "      <th>3</th>\n",
       "      <td>3</td>\n",
       "      <td>Won</td>\n",
       "      <td>INTEGER</td>\n",
       "      <td>0</td>\n",
       "      <td>None</td>\n",
       "      <td>0</td>\n",
       "    </tr>\n",
       "    <tr>\n",
       "      <th>4</th>\n",
       "      <td>4</td>\n",
       "      <td>Movie</td>\n",
       "      <td>TEXT</td>\n",
       "      <td>0</td>\n",
       "      <td>None</td>\n",
       "      <td>0</td>\n",
       "    </tr>\n",
       "    <tr>\n",
       "      <th>5</th>\n",
       "      <td>5</td>\n",
       "      <td>Character</td>\n",
       "      <td>TEXT</td>\n",
       "      <td>0</td>\n",
       "      <td>None</td>\n",
       "      <td>0</td>\n",
       "    </tr>\n",
       "  </tbody>\n",
       "</table>\n",
       "</div>"
      ],
      "text/plain": [
       "   cid       name     type  notnull dflt_value  pk\n",
       "0    0       Year  INTEGER        0       None   0\n",
       "1    1   Category     TEXT        0       None   0\n",
       "2    2    Nominee     TEXT        0       None   0\n",
       "3    3        Won  INTEGER        0       None   0\n",
       "4    4      Movie     TEXT        0       None   0\n",
       "5    5  Character     TEXT        0       None   0"
      ]
     },
     "execution_count": 22,
     "metadata": {},
     "output_type": "execute_result"
    }
   ],
   "source": [
    "pd.read_sql('pragma table_info(nominations_to_prepare)', conn)"
   ]
  },
  {
   "cell_type": "code",
   "execution_count": 23,
   "metadata": {},
   "outputs": [],
   "source": [
    "conn.close()"
   ]
  },
  {
   "cell_type": "code",
   "execution_count": null,
   "metadata": {
    "collapsed": true
   },
   "outputs": [],
   "source": []
  },
  {
   "cell_type": "markdown",
   "metadata": {},
   "source": [
    "For next steps, explore the rest of our original dataset `academy_awards.csv` and brainstorm how to fix the rest of the dataset:\n",
    "\n",
    "* The awards categories in older ceremonies were different than the ones we have today. What relevant information should we keep from older ceremonies?\n",
    "* What are all the different formatting styles that the `Additional Info` column contains. Can we use tools like regular expressions to capture these patterns and clean them up?\n",
    "  * The nominations for the `Art Direction` category have lengthy values for Additional Info. What information is useful and how do we extract it?\n",
    "  * Many values in Additional Info don't contain the character name the actor or actress played. Should we toss out character name altogether as we expand our data? What tradeoffs do we make by doing so?\n",
    "* What's the best way to handle awards ceremonies that included movies from 2 years?\n",
    "  * E.g. see 1927/28 (1st) in the Year column."
   ]
  },
  {
   "cell_type": "code",
   "execution_count": null,
   "metadata": {
    "collapsed": true
   },
   "outputs": [],
   "source": []
  },
  {
   "cell_type": "markdown",
   "metadata": {},
   "source": [
    "### The awards categories in older ceremonies were different than the ones we have today. What relevant information should we keep from older ceremonies?"
   ]
  },
  {
   "cell_type": "code",
   "execution_count": 19,
   "metadata": {},
   "outputs": [],
   "source": [
    "academy = pd.read_csv('academy_awards.csv', \n",
    "                      encoding='ISO-8859-1')\n",
    "\n",
    "#academy.head()"
   ]
  },
  {
   "cell_type": "markdown",
   "metadata": {},
   "source": [
    "* We can keep 'Acting (other)' label for actors categorization\n",
    "  * Even though we can not use additional info (sex / role weight), it seems worth information keeping.\n",
    "  \n",
    "* Likewise 'Acting (other)' - For non-actor categorization in Category column, there seems the following pattern:\n",
    "  * {main part} ({additional info})\n",
    "  * We can keep the first 'main part' text except additional info in parenthesis."
   ]
  },
  {
   "cell_type": "code",
   "execution_count": 9,
   "metadata": {},
   "outputs": [
    {
     "data": {
      "text/plain": [
       "array(['Actor -- Leading Role', 'Actor -- Supporting Role',\n",
       "       'Actress -- Leading Role', 'Actress -- Supporting Role',\n",
       "       'Animated Feature Film', 'Art Direction', 'Cinematography',\n",
       "       'Costume Design', 'Directing', 'Documentary (Feature)',\n",
       "       'Documentary (Short Subject)', 'Film Editing',\n",
       "       'Foreign Language Film', 'Makeup', 'Music (Scoring)',\n",
       "       'Music (Song)', 'Best Picture', 'Short Film (Animated)',\n",
       "       'Short Film (Live Action)', 'Sound', 'Sound Editing',\n",
       "       'Visual Effects', 'Writing', 'Honorary Award',\n",
       "       'Irving G. Thalberg Memorial Award',\n",
       "       'Scientific and Technical (Scientific and Engineering Award)',\n",
       "       'Scientific and Technical (Technical Achievement Award)',\n",
       "       'Scientific and Technical (Bonner Medal)',\n",
       "       'Jean Hersholt Humanitarian Award',\n",
       "       'Scientific and Technical (Gordon E. Sawyer Award)',\n",
       "       'Scientific and Technical (Academy Award of Merit)',\n",
       "       'Scientific and Technical (Special Awards)',\n",
       "       'Special Achievement Award', 'Special Effects (archaic category)',\n",
       "       'Acting (other)', 'Documentary (other)',\n",
       "       'Assistant Director (archaic category)',\n",
       "       'Dance Direction (archaic category)',\n",
       "       'Engineering Effects (archaic category)',\n",
       "       'Unique and Artistic Picture (archaic category)'], dtype=object)"
      ]
     },
     "execution_count": 9,
     "metadata": {},
     "output_type": "execute_result"
    }
   ],
   "source": [
    "academy.Category.unique()"
   ]
  },
  {
   "cell_type": "code",
   "execution_count": null,
   "metadata": {
    "collapsed": true
   },
   "outputs": [],
   "source": []
  },
  {
   "cell_type": "markdown",
   "metadata": {},
   "source": [
    "### What are all the different formatting styles that the Additional Info column contains. Can we use tools like regular expressions to capture these patterns and clean them up?\n",
    "* The nominations for the Art Direction category have lengthy values for Additional Info. What information is useful and how do we extract it?\n",
    "* Many values in Additional Info don't contain the character name the actor or actress played. Should we toss out character name altogether as we expand our data? What tradeoffs do we make by doing so?"
   ]
  },
  {
   "cell_type": "markdown",
   "metadata": {},
   "source": [
    "### Formats in 'Additional Info' column\n",
    "[] represents kinds for sole strings, brackets not included.\n",
    "\n",
    "* ACTOR category\n",
    "  * [moviename] {[charactername]}\n",
    "  * [moviename]\n",
    "\n",
    "* NON-ACTOR category\n",
    "  * one person\n",
    "    * [realname]\n",
    "      * real-name\n",
    "      * real, name\n",
    "    * [realname], [role]\n",
    "    * [realname[, [corporation]\n",
    "    * [role] by [realname]\n",
    "  \n",
    "  * people\n",
    "    * [role1] by [realname1]; [role2] by [realname2]\n",
    "    * [realname1] and [realname2], [role]\n",
    "    * [role1]: [realname1], [realname2]; [role2]: [realname3]\n",
    "\n",
    "* NON-PERSON category\n",
    "  * Country\n",
    "  * Corporation\n",
    "\n",
    "\n"
   ]
  },
  {
   "cell_type": "code",
   "execution_count": null,
   "metadata": {
    "collapsed": true
   },
   "outputs": [],
   "source": []
  },
  {
   "cell_type": "markdown",
   "metadata": {},
   "source": [
    "#### 1. What information is useful and how do we extract it?\n",
    "* We can keep 'NON-ACTOR' category patterns above, using regular expressions to filter out.\n",
    "\n",
    "#### 2. Many values in Additional Info don't contain the character name the actor or actress played. Should we toss out character name altogether as we expand our data? What tradeoffs do we make by doing so?\n",
    "* Considering it seems better to get limited information than get nothing, we can take the tradeoffs to take Additional Info without character name."
   ]
  },
  {
   "cell_type": "code",
   "execution_count": null,
   "metadata": {
    "collapsed": true
   },
   "outputs": [],
   "source": []
  },
  {
   "cell_type": "markdown",
   "metadata": {},
   "source": [
    "### What's the best way to handle awards ceremonies that included movies from 2 years?"
   ]
  },
  {
   "cell_type": "markdown",
   "metadata": {},
   "source": [
    "* For further use of 'Year' column as INTEGER type, specify the prior year (e.g. 1927/28 --> 1927)\n",
    "  * Add 'Order' which shows the num order of ceremonies to supplement the 'Year' column.\n",
    "  * e.g. Year = 1927, Order = 1\n",
    "  * e.g. Year = 1929, ORder = 2\n",
    "  * etc ..."
   ]
  },
  {
   "cell_type": "code",
   "execution_count": 22,
   "metadata": {
    "scrolled": false
   },
   "outputs": [
    {
     "data": {
      "text/html": [
       "<div>\n",
       "<table border=\"1\" class=\"dataframe\">\n",
       "  <thead>\n",
       "    <tr style=\"text-align: right;\">\n",
       "      <th></th>\n",
       "      <th>Year</th>\n",
       "      <th>Category</th>\n",
       "      <th>Nominee</th>\n",
       "      <th>Additional Info</th>\n",
       "      <th>Won?</th>\n",
       "      <th>Unnamed: 5</th>\n",
       "      <th>Unnamed: 6</th>\n",
       "      <th>Unnamed: 7</th>\n",
       "      <th>Unnamed: 8</th>\n",
       "      <th>Unnamed: 9</th>\n",
       "      <th>Unnamed: 10</th>\n",
       "    </tr>\n",
       "  </thead>\n",
       "  <tbody>\n",
       "    <tr>\n",
       "      <th>10127</th>\n",
       "      <td>1927/28 (1st)</td>\n",
       "      <td>Writing</td>\n",
       "      <td>George Marion, Jr.[NOTE: This nomination was n...</td>\n",
       "      <td>NaN</td>\n",
       "      <td>NO</td>\n",
       "      <td>NaN</td>\n",
       "      <td>NaN</td>\n",
       "      <td>NaN</td>\n",
       "      <td>NaN</td>\n",
       "      <td>NaN</td>\n",
       "      <td>NaN</td>\n",
       "    </tr>\n",
       "    <tr>\n",
       "      <th>10128</th>\n",
       "      <td>1927/28 (1st)</td>\n",
       "      <td>Writing</td>\n",
       "      <td>To Charles Chaplin, for acting, writing, direc...</td>\n",
       "      <td>NaN</td>\n",
       "      <td>YES</td>\n",
       "      <td>NaN</td>\n",
       "      <td>NaN</td>\n",
       "      <td>NaN</td>\n",
       "      <td>NaN</td>\n",
       "      <td>NaN</td>\n",
       "      <td>NaN</td>\n",
       "    </tr>\n",
       "    <tr>\n",
       "      <th>10129</th>\n",
       "      <td>1927/28 (1st)</td>\n",
       "      <td>Honorary Award</td>\n",
       "      <td>To Warner Bros., for producing The Jazz Singer...</td>\n",
       "      <td>NaN</td>\n",
       "      <td>YES</td>\n",
       "      <td>NaN</td>\n",
       "      <td>NaN</td>\n",
       "      <td>NaN</td>\n",
       "      <td>NaN</td>\n",
       "      <td>NaN</td>\n",
       "      <td>NaN</td>\n",
       "    </tr>\n",
       "    <tr>\n",
       "      <th>10130</th>\n",
       "      <td>1927/28 (1st)</td>\n",
       "      <td>Honorary Award</td>\n",
       "      <td>To Charles Chaplin, for acting, writing, direc...</td>\n",
       "      <td>NaN</td>\n",
       "      <td>YES</td>\n",
       "      <td>NaN</td>\n",
       "      <td>NaN</td>\n",
       "      <td>NaN</td>\n",
       "      <td>NaN</td>\n",
       "      <td>NaN</td>\n",
       "      <td>NaN</td>\n",
       "    </tr>\n",
       "    <tr>\n",
       "      <th>10131</th>\n",
       "      <td>1927/28 (1st)</td>\n",
       "      <td>Engineering Effects (archaic category)</td>\n",
       "      <td>Ralph Hammeras [NOTE: This nomination was not ...</td>\n",
       "      <td>NaN</td>\n",
       "      <td>NO</td>\n",
       "      <td>NaN</td>\n",
       "      <td>NaN</td>\n",
       "      <td>NaN</td>\n",
       "      <td>NaN</td>\n",
       "      <td>NaN</td>\n",
       "      <td>NaN</td>\n",
       "    </tr>\n",
       "    <tr>\n",
       "      <th>10132</th>\n",
       "      <td>1927/28 (1st)</td>\n",
       "      <td>Engineering Effects (archaic category)</td>\n",
       "      <td>Roy Pomeroy</td>\n",
       "      <td>Wings</td>\n",
       "      <td>YES</td>\n",
       "      <td>NaN</td>\n",
       "      <td>NaN</td>\n",
       "      <td>NaN</td>\n",
       "      <td>NaN</td>\n",
       "      <td>NaN</td>\n",
       "      <td>NaN</td>\n",
       "    </tr>\n",
       "    <tr>\n",
       "      <th>10133</th>\n",
       "      <td>1927/28 (1st)</td>\n",
       "      <td>Engineering Effects (archaic category)</td>\n",
       "      <td>Nugent Slaughter [NOTE: Though no specific tit...</td>\n",
       "      <td>NaN</td>\n",
       "      <td>NO</td>\n",
       "      <td>NaN</td>\n",
       "      <td>NaN</td>\n",
       "      <td>NaN</td>\n",
       "      <td>NaN</td>\n",
       "      <td>NaN</td>\n",
       "      <td>NaN</td>\n",
       "    </tr>\n",
       "    <tr>\n",
       "      <th>10134</th>\n",
       "      <td>1927/28 (1st)</td>\n",
       "      <td>Unique and Artistic Picture (archaic category)</td>\n",
       "      <td>Fox</td>\n",
       "      <td>Sunrise</td>\n",
       "      <td>YES</td>\n",
       "      <td>NaN</td>\n",
       "      <td>NaN</td>\n",
       "      <td>NaN</td>\n",
       "      <td>NaN</td>\n",
       "      <td>NaN</td>\n",
       "      <td>NaN</td>\n",
       "    </tr>\n",
       "    <tr>\n",
       "      <th>10135</th>\n",
       "      <td>1927/28 (1st)</td>\n",
       "      <td>Unique and Artistic Picture (archaic category)</td>\n",
       "      <td>Metro-Goldwyn-Mayer</td>\n",
       "      <td>The Crowd</td>\n",
       "      <td>NO</td>\n",
       "      <td>NaN</td>\n",
       "      <td>NaN</td>\n",
       "      <td>NaN</td>\n",
       "      <td>NaN</td>\n",
       "      <td>NaN</td>\n",
       "      <td>NaN</td>\n",
       "    </tr>\n",
       "    <tr>\n",
       "      <th>10136</th>\n",
       "      <td>1927/28 (1st)</td>\n",
       "      <td>Unique and Artistic Picture (archaic category)</td>\n",
       "      <td>Paramount Famous Lasky</td>\n",
       "      <td>Chang</td>\n",
       "      <td>NO</td>\n",
       "      <td>NaN</td>\n",
       "      <td>NaN</td>\n",
       "      <td>NaN</td>\n",
       "      <td>NaN</td>\n",
       "      <td>NaN</td>\n",
       "      <td>NaN</td>\n",
       "    </tr>\n",
       "  </tbody>\n",
       "</table>\n",
       "</div>"
      ],
      "text/plain": [
       "                Year                                        Category  \\\n",
       "10127  1927/28 (1st)                                         Writing   \n",
       "10128  1927/28 (1st)                                         Writing   \n",
       "10129  1927/28 (1st)                                  Honorary Award   \n",
       "10130  1927/28 (1st)                                  Honorary Award   \n",
       "10131  1927/28 (1st)          Engineering Effects (archaic category)   \n",
       "10132  1927/28 (1st)          Engineering Effects (archaic category)   \n",
       "10133  1927/28 (1st)          Engineering Effects (archaic category)   \n",
       "10134  1927/28 (1st)  Unique and Artistic Picture (archaic category)   \n",
       "10135  1927/28 (1st)  Unique and Artistic Picture (archaic category)   \n",
       "10136  1927/28 (1st)  Unique and Artistic Picture (archaic category)   \n",
       "\n",
       "                                                 Nominee Additional Info Won?  \\\n",
       "10127  George Marion, Jr.[NOTE: This nomination was n...             NaN   NO   \n",
       "10128  To Charles Chaplin, for acting, writing, direc...             NaN  YES   \n",
       "10129  To Warner Bros., for producing The Jazz Singer...             NaN  YES   \n",
       "10130  To Charles Chaplin, for acting, writing, direc...             NaN  YES   \n",
       "10131  Ralph Hammeras [NOTE: This nomination was not ...             NaN   NO   \n",
       "10132                                        Roy Pomeroy           Wings  YES   \n",
       "10133  Nugent Slaughter [NOTE: Though no specific tit...             NaN   NO   \n",
       "10134                                                Fox         Sunrise  YES   \n",
       "10135                                Metro-Goldwyn-Mayer       The Crowd   NO   \n",
       "10136                             Paramount Famous Lasky           Chang   NO   \n",
       "\n",
       "      Unnamed: 5 Unnamed: 6 Unnamed: 7 Unnamed: 8 Unnamed: 9 Unnamed: 10  \n",
       "10127        NaN        NaN        NaN        NaN        NaN         NaN  \n",
       "10128        NaN        NaN        NaN        NaN        NaN         NaN  \n",
       "10129        NaN        NaN        NaN        NaN        NaN         NaN  \n",
       "10130        NaN        NaN        NaN        NaN        NaN         NaN  \n",
       "10131        NaN        NaN        NaN        NaN        NaN         NaN  \n",
       "10132        NaN        NaN        NaN        NaN        NaN         NaN  \n",
       "10133        NaN        NaN        NaN        NaN        NaN         NaN  \n",
       "10134        NaN        NaN        NaN        NaN        NaN         NaN  \n",
       "10135        NaN        NaN        NaN        NaN        NaN         NaN  \n",
       "10136        NaN        NaN        NaN        NaN        NaN         NaN  "
      ]
     },
     "execution_count": 22,
     "metadata": {},
     "output_type": "execute_result"
    }
   ],
   "source": [
    "academy.tail(10)"
   ]
  },
  {
   "cell_type": "code",
   "execution_count": null,
   "metadata": {
    "collapsed": true
   },
   "outputs": [],
   "source": []
  }
 ],
 "metadata": {
  "kernelspec": {
   "display_name": "Python 3",
   "language": "python",
   "name": "python3"
  },
  "language_info": {
   "codemirror_mode": {
    "name": "ipython",
    "version": 3
   },
   "file_extension": ".py",
   "mimetype": "text/x-python",
   "name": "python",
   "nbconvert_exporter": "python",
   "pygments_lexer": "ipython3",
   "version": "3.6.2"
  }
 },
 "nbformat": 4,
 "nbformat_minor": 1
}
