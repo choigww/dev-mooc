{
 "cells": [
  {
   "cell_type": "markdown",
   "metadata": {},
   "source": [
    "# Summary Statistics\n",
    "Learn how to calculate summary statistics in SQL.\n",
    "\n",
    "* A key idea in SQL is that everything is a table. One advantage of this simplification is that it's a common, visual representation that makes SQL approachable for a much wider audience. The disadvantage is that datasets and calculations that aren't well suited for this representation must be converted to be used in a SQL database environment."
   ]
  },
  {
   "cell_type": "code",
   "execution_count": 1,
   "metadata": {
    "collapsed": true
   },
   "outputs": [],
   "source": [
    "import pandas as pd\n",
    "import pymysql"
   ]
  },
  {
   "cell_type": "code",
   "execution_count": null,
   "metadata": {
    "collapsed": true
   },
   "outputs": [],
   "source": [
    "host_name = \"\"\n",
    "username = \"\"\n",
    "password = \"\"\n",
    "database_name = \"dataquest\""
   ]
  },
  {
   "cell_type": "code",
   "execution_count": 2,
   "metadata": {
    "collapsed": true
   },
   "outputs": [],
   "source": [
    "db = pymysql.connect(\n",
    "    host=host_name,  # DATABASE_HOST\n",
    "    port=3306,\n",
    "    user=username,  # DATABASE_USERNAME\n",
    "    passwd=password,  # DATABASE_PASSWORD\n",
    "    db=database_name,  # DATABASE_NAME\n",
    "    charset='utf8'\n",
    ")\n",
    "cursor = db.cursor()\n",
    "cursor.execute(\"set names utf8\")\n",
    "db.commit()"
   ]
  },
  {
   "cell_type": "code",
   "execution_count": null,
   "metadata": {
    "collapsed": true
   },
   "outputs": [],
   "source": []
  },
  {
   "cell_type": "markdown",
   "metadata": {},
   "source": [
    "Write a query that returns the number of majors with mostly male students.\n",
    "* Use all caps in the SELECT clause so our answer checking will match - COUNT(Major)."
   ]
  },
  {
   "cell_type": "code",
   "execution_count": 3,
   "metadata": {},
   "outputs": [
    {
     "data": {
      "text/html": [
       "<div>\n",
       "<table border=\"1\" class=\"dataframe\">\n",
       "  <thead>\n",
       "    <tr style=\"text-align: right;\">\n",
       "      <th></th>\n",
       "      <th>count(major)</th>\n",
       "    </tr>\n",
       "  </thead>\n",
       "  <tbody>\n",
       "    <tr>\n",
       "      <th>0</th>\n",
       "      <td>76</td>\n",
       "    </tr>\n",
       "  </tbody>\n",
       "</table>\n",
       "</div>"
      ],
      "text/plain": [
       "   count(major)\n",
       "0            76"
      ]
     },
     "execution_count": 3,
     "metadata": {},
     "output_type": "execute_result"
    }
   ],
   "source": [
    "sql = '''\n",
    "    select count(major) from recent_grads where sharewomen < 0.5 \n",
    "'''\n",
    "pd.read_sql(sql, db)"
   ]
  },
  {
   "cell_type": "code",
   "execution_count": null,
   "metadata": {
    "collapsed": true
   },
   "outputs": [],
   "source": []
  },
  {
   "cell_type": "markdown",
   "metadata": {},
   "source": [
    "Functions like `COUNT()` are known as [`aggregate functions`](https://sqlite.org/lang_aggfunc.html). Aggregate functions are applied over columns of values and return a single value. [MIN()](https://sqlite.org/lang_corefunc.html#minoreunc) and [MAX()](https://sqlite.org/lang_corefunc.html#maxoreunc), for example, calculate and return the minimum and maximum values in a column.\n",
    "\n",
    "```sql\n",
    "SELECT MIN(ShareWomen) \n",
    "FROM recent_grads;\n",
    "```\n",
    "\n",
    "It's interesting that there's a major with 0 women in the dataset. What if we wanted to which major that was or access other columns for that row? We just need to add the additional columns we want returned in the `SELECT` clause:\n",
    "\n",
    "```sql\n",
    "SELECT Major, MIN(ShareWomen) FROM recent_grads\n",
    "```\n",
    "\n",
    "#### instructions\n",
    "Write a query that returns the Engineering major with the lowest median salary.\n",
    "* We only want the Major, Major_category, and MIN(Median) columns in the result."
   ]
  },
  {
   "cell_type": "code",
   "execution_count": 5,
   "metadata": {},
   "outputs": [
    {
     "data": {
      "text/html": [
       "<div>\n",
       "<table border=\"1\" class=\"dataframe\">\n",
       "  <thead>\n",
       "    <tr style=\"text-align: right;\">\n",
       "      <th></th>\n",
       "      <th>major</th>\n",
       "      <th>major_category</th>\n",
       "      <th>min(median)</th>\n",
       "    </tr>\n",
       "  </thead>\n",
       "  <tbody>\n",
       "    <tr>\n",
       "      <th>0</th>\n",
       "      <td>PETROLEUM ENGINEERING</td>\n",
       "      <td>Engineering</td>\n",
       "      <td>40000</td>\n",
       "    </tr>\n",
       "  </tbody>\n",
       "</table>\n",
       "</div>"
      ],
      "text/plain": [
       "                   major major_category  min(median)\n",
       "0  PETROLEUM ENGINEERING    Engineering        40000"
      ]
     },
     "execution_count": 5,
     "metadata": {},
     "output_type": "execute_result"
    }
   ],
   "source": [
    "sql = '''\n",
    "    select major, major_category, min(median)\n",
    "    from recent_grads\n",
    "    where major_category = \"Engineering\"\n",
    "'''\n",
    "pd.read_sql(sql, db)"
   ]
  },
  {
   "cell_type": "code",
   "execution_count": null,
   "metadata": {
    "collapsed": true
   },
   "outputs": [],
   "source": []
  },
  {
   "cell_type": "markdown",
   "metadata": {},
   "source": [
    "The final two aggregation functions we'll look at are `SUM()` and `AVG()`. Applying the SUM() function will add all of the values in a column while AVG() will compute the average. Lastly, the TOTAL() function also returns the sum as a floating point value (even if the column contains integers). **The `TOTAL()` function should be used when working with a column containing floating point values**. [You can read more here](https://sqlite.org/lang_aggfunc.html).\n",
    "\n",
    "* This time around, we're going to skip showing sample code since these functions are used the same way as `COUNT()`, `MIN()`, and `MAX()`. This is good practice working with new functions, as SQL contains many functions that you'll end up using down the road that you haven't been taught explicitly.\n",
    "\n",
    "Write a query that computes the sum of the Total column. - Return only the total number of students integer value."
   ]
  },
  {
   "cell_type": "code",
   "execution_count": 4,
   "metadata": {},
   "outputs": [
    {
     "data": {
      "text/html": [
       "<div>\n",
       "<table border=\"1\" class=\"dataframe\">\n",
       "  <thead>\n",
       "    <tr style=\"text-align: right;\">\n",
       "      <th></th>\n",
       "      <th>SUM(Total)</th>\n",
       "    </tr>\n",
       "  </thead>\n",
       "  <tbody>\n",
       "    <tr>\n",
       "      <th>0</th>\n",
       "      <td>6771654.0</td>\n",
       "    </tr>\n",
       "  </tbody>\n",
       "</table>\n",
       "</div>"
      ],
      "text/plain": [
       "   SUM(Total)\n",
       "0   6771654.0"
      ]
     },
     "execution_count": 4,
     "metadata": {},
     "output_type": "execute_result"
    }
   ],
   "source": [
    "sql = '''\n",
    "        select SUM(Total) from recent_grads\n",
    "'''\n",
    "pd.read_sql(sql, db)"
   ]
  },
  {
   "cell_type": "code",
   "execution_count": null,
   "metadata": {
    "collapsed": true
   },
   "outputs": [],
   "source": []
  },
  {
   "cell_type": "markdown",
   "metadata": {},
   "source": [
    "Instead of writing an individual query for each specific question we want to answer, we can actually write queries that answer multiple questions at once. Let's take the following questions:\n",
    "\n",
    "* What's the lowest median salary?\n",
    "* What's the highest median salary?\n",
    "* What's the total number of students?\n",
    "\n",
    "Recall that we can select multiple columns by including their names with commas, like so:\n",
    "\n",
    "```\n",
    "SELECT Major, Major_category FROM recent_grads\n",
    "```\n",
    "We can apply the sample principle to combine multiple aggregation functions into a single query:\n",
    "\n",
    "```\n",
    "SELECT MIN(Median), MAX(Median), SUM(Total)\n",
    "FROM recent_grads\n",
    "```\n",
    "\n",
    "#### instructions\n",
    "Write a query that computes the average of the Total column, the minimum of the Men column, and the maximum of the Women column, in that specific order.\n",
    "* Make sure that all of the aggregate functions are capitalized (SUM() not sum(), etc), so our results match yours."
   ]
  },
  {
   "cell_type": "code",
   "execution_count": 5,
   "metadata": {},
   "outputs": [
    {
     "data": {
      "text/html": [
       "<div>\n",
       "<table border=\"1\" class=\"dataframe\">\n",
       "  <thead>\n",
       "    <tr style=\"text-align: right;\">\n",
       "      <th></th>\n",
       "      <th>AVG(Total)</th>\n",
       "      <th>MIN(Men)</th>\n",
       "      <th>MAX(Women)</th>\n",
       "    </tr>\n",
       "  </thead>\n",
       "  <tbody>\n",
       "    <tr>\n",
       "      <th>0</th>\n",
       "      <td>39370.081395</td>\n",
       "      <td>119.0</td>\n",
       "      <td>307087.0</td>\n",
       "    </tr>\n",
       "  </tbody>\n",
       "</table>\n",
       "</div>"
      ],
      "text/plain": [
       "     AVG(Total)  MIN(Men)  MAX(Women)\n",
       "0  39370.081395     119.0    307087.0"
      ]
     },
     "execution_count": 5,
     "metadata": {},
     "output_type": "execute_result"
    }
   ],
   "source": [
    "sql = '''\n",
    "        select AVG(Total), MIN(Men), MAX(Women)\n",
    "        from recent_grads\n",
    "'''\n",
    "pd.read_sql(sql, db)"
   ]
  },
  {
   "cell_type": "code",
   "execution_count": null,
   "metadata": {
    "collapsed": true
   },
   "outputs": [],
   "source": []
  },
  {
   "cell_type": "markdown",
   "metadata": {},
   "source": [
    "## AS operator\n",
    "\n",
    "All of the queries we've written so far have had somewhat unpleasant column names in the results, like `AVG(SUM)` and `MIN(Men)`. Many companies use SQL environments and tools that can run your query, turn the results into a plot of your choosing, and then create a PDF report containing multiple plots (and some additional explanation from the user). Given that others may interpret and understand the results of your SQL queries, it's helpful to be able to specify custom names for the columns in our results.\n",
    "\n",
    "We can do just that using the `AS` operator:\n",
    "```sql\n",
    "SELECT COUNT(*) as num_students FROM recent_grads\n",
    "```\n",
    "\n",
    "This is known as an alias and the [`alias`](https://www.tutorialspoint.com/sqlite/sqlite_alias_syntax.htm) is restricted to just our results table (the table in the database won't be renamed). We can specify an arbitrary phrase as a string using quotation marks:\n",
    "\n",
    "```sql\n",
    "SELECT COUNT(*) as \"Total Students\" FROM recent_grads\n",
    "```\n",
    "\n",
    "Even better, we can drop `AS` entirely and just add the name next to the original column:\n",
    "```sql\n",
    "SElECT COUNT(*) \"Total Students\" FROM recent_grads\n",
    "```\n",
    "Lastly, we can reference renamed columns when writing longer queries to make our code more compact:\n",
    "```sql\n",
    "SELECT Major m, Major_category mc, Unemployment_rate ur\n",
    "FROM recent_grads\n",
    "WHERE (mc = 'Engineering') AND (ur > 0.04 and ur < 0.08)\n",
    "ORDER BY ur DESC\n",
    "```\n",
    "\n",
    "Write a query that returns, in the following order:\n",
    "* the number of rows as Number of Students\n",
    "* the maximum value of Unemployment_rate as Highest Unemployment Rate"
   ]
  },
  {
   "cell_type": "code",
   "execution_count": 6,
   "metadata": {},
   "outputs": [
    {
     "data": {
      "text/html": [
       "<div>\n",
       "<table border=\"1\" class=\"dataframe\">\n",
       "  <thead>\n",
       "    <tr style=\"text-align: right;\">\n",
       "      <th></th>\n",
       "      <th>Rank</th>\n",
       "      <th>Major_code</th>\n",
       "      <th>Major</th>\n",
       "      <th>Total</th>\n",
       "      <th>Men</th>\n",
       "      <th>Women</th>\n",
       "      <th>Major_category</th>\n",
       "      <th>ShareWomen</th>\n",
       "      <th>Sample_size</th>\n",
       "      <th>Employed</th>\n",
       "      <th>...</th>\n",
       "      <th>Part_time</th>\n",
       "      <th>Full_time_year_round</th>\n",
       "      <th>Unemployed</th>\n",
       "      <th>Unemployment_rate</th>\n",
       "      <th>Median</th>\n",
       "      <th>P25th</th>\n",
       "      <th>P75th</th>\n",
       "      <th>College_jobs</th>\n",
       "      <th>Non_college_jobs</th>\n",
       "      <th>Low_wage_jobs</th>\n",
       "    </tr>\n",
       "  </thead>\n",
       "  <tbody>\n",
       "    <tr>\n",
       "      <th>0</th>\n",
       "      <td>1</td>\n",
       "      <td>2419</td>\n",
       "      <td>PETROLEUM ENGINEERING</td>\n",
       "      <td>2339.0</td>\n",
       "      <td>2057.0</td>\n",
       "      <td>282.0</td>\n",
       "      <td>Engineering</td>\n",
       "      <td>0.120564</td>\n",
       "      <td>36</td>\n",
       "      <td>1976</td>\n",
       "      <td>...</td>\n",
       "      <td>270</td>\n",
       "      <td>1207</td>\n",
       "      <td>37</td>\n",
       "      <td>0.018381</td>\n",
       "      <td>110000</td>\n",
       "      <td>95000</td>\n",
       "      <td>125000</td>\n",
       "      <td>1534</td>\n",
       "      <td>364</td>\n",
       "      <td>193</td>\n",
       "    </tr>\n",
       "  </tbody>\n",
       "</table>\n",
       "<p>1 rows × 21 columns</p>\n",
       "</div>"
      ],
      "text/plain": [
       "   Rank  Major_code                  Major   Total     Men  Women  \\\n",
       "0     1        2419  PETROLEUM ENGINEERING  2339.0  2057.0  282.0   \n",
       "\n",
       "  Major_category  ShareWomen  Sample_size  Employed      ...        Part_time  \\\n",
       "0    Engineering    0.120564           36      1976      ...              270   \n",
       "\n",
       "   Full_time_year_round  Unemployed  Unemployment_rate  Median  P25th   P75th  \\\n",
       "0                  1207          37           0.018381  110000  95000  125000   \n",
       "\n",
       "   College_jobs  Non_college_jobs  Low_wage_jobs  \n",
       "0          1534               364            193  \n",
       "\n",
       "[1 rows x 21 columns]"
      ]
     },
     "execution_count": 6,
     "metadata": {},
     "output_type": "execute_result"
    }
   ],
   "source": [
    "sql = '''\n",
    "        select * from recent_grads limit 1\n",
    "'''\n",
    "pd.read_sql(sql, db)"
   ]
  },
  {
   "cell_type": "code",
   "execution_count": 10,
   "metadata": {},
   "outputs": [
    {
     "data": {
      "text/html": [
       "<div>\n",
       "<table border=\"1\" class=\"dataframe\">\n",
       "  <thead>\n",
       "    <tr style=\"text-align: right;\">\n",
       "      <th></th>\n",
       "      <th>Number of Students</th>\n",
       "      <th>Highest Unemployment Rate</th>\n",
       "    </tr>\n",
       "  </thead>\n",
       "  <tbody>\n",
       "    <tr>\n",
       "      <th>0</th>\n",
       "      <td>172</td>\n",
       "      <td>0.177226</td>\n",
       "    </tr>\n",
       "  </tbody>\n",
       "</table>\n",
       "</div>"
      ],
      "text/plain": [
       "   Number of Students  Highest Unemployment Rate\n",
       "0                 172                   0.177226"
      ]
     },
     "execution_count": 10,
     "metadata": {},
     "output_type": "execute_result"
    }
   ],
   "source": [
    "sql = '''\n",
    "        select COUNT(*) \"Number of Students\", \n",
    "                         MAX(Unemployment_rate) \"Highest Unemployment Rate\"\n",
    "        from recent_grads\n",
    "'''\n",
    "pd.read_sql(sql, db)"
   ]
  },
  {
   "cell_type": "code",
   "execution_count": null,
   "metadata": {
    "collapsed": true
   },
   "outputs": [],
   "source": []
  },
  {
   "cell_type": "markdown",
   "metadata": {},
   "source": [
    "We've been working with the Major_category column a decent amount in our queries and it's a column with only few unique values. What if we want to return just the unique values in this column? Or the number of unique values in this column?\n",
    "\n",
    "* We can return all of the unique values in a column using the DISTINCT statement.\n",
    "\n",
    "```sql\n",
    "SELECT DISTINCT Major_category FROM recent_grads\n",
    "```\n",
    "\n",
    "As with the other SQL clauses we've learned, we can use the `DISTINCT` statement with multiple columns to return unique pairings of those columns:\n",
    "\n",
    "```sql\n",
    "SELECT DISTINCT Major, Major_category FROM recent_grads limit 5\n",
    "```\n",
    "\n",
    "In this case, the Major_category column is much more unique (only 16 unique values fopr Major_category compared to 173 for Major), so the corresponding value is repeated for every unique value in Major.<br>\n",
    "\n",
    "Lastly, we can count the number of unique values in a column by nesting the COUNT() function with the DISTINCT() function (note the nesting of parentheses as well):\n",
    "\n",
    "```sql\n",
    "SELECT COUNT(DISTINCT(Major_category)) unique_major_categories FROM recent_grads\n",
    "```\n",
    "\n",
    "Write a query that returns the number of unique values in the Major, Major_category, and Major_code columns. Use the following aliases in the following order:\n",
    "* For the unique value count of the Major column, use the alias unique_majors.\n",
    "* For the unique value count of the Major_category column, use the alias unique_major_categories.\n",
    "* For the unique value count of the Major_code column, use the alias unique_major_codes."
   ]
  },
  {
   "cell_type": "code",
   "execution_count": 15,
   "metadata": {},
   "outputs": [
    {
     "data": {
      "text/html": [
       "<div>\n",
       "<table border=\"1\" class=\"dataframe\">\n",
       "  <thead>\n",
       "    <tr style=\"text-align: right;\">\n",
       "      <th></th>\n",
       "      <th>unique_majors</th>\n",
       "      <th>unique_major_categories</th>\n",
       "      <th>unique_major_codes</th>\n",
       "    </tr>\n",
       "  </thead>\n",
       "  <tbody>\n",
       "    <tr>\n",
       "      <th>0</th>\n",
       "      <td>172</td>\n",
       "      <td>16</td>\n",
       "      <td>172</td>\n",
       "    </tr>\n",
       "  </tbody>\n",
       "</table>\n",
       "</div>"
      ],
      "text/plain": [
       "   unique_majors  unique_major_categories  unique_major_codes\n",
       "0            172                       16                 172"
      ]
     },
     "execution_count": 15,
     "metadata": {},
     "output_type": "execute_result"
    }
   ],
   "source": [
    "sql = '''\n",
    "        select COUNT(DISTINCT(Major)) unique_majors, \n",
    "               COUNT(DISTINCT(Major_category)) as unique_major_categories, \n",
    "               COUNT(DISTINCT(Major_code)) as unique_major_codes\n",
    "        from recent_grads\n",
    "'''\n",
    "pd.read_sql(sql, db)"
   ]
  },
  {
   "cell_type": "code",
   "execution_count": null,
   "metadata": {
    "collapsed": true
   },
   "outputs": [],
   "source": []
  },
  {
   "cell_type": "markdown",
   "metadata": {
    "collapsed": true
   },
   "source": [
    "Let's revisit one of the questions from the beginning of the mission:\n",
    "\n",
    "* Which majors had the largest spread (difference) between the 25th and 75th percentile starting salaries?\n",
    "\n",
    "To answer this question, we need to be able to perform arithmetic on the columns in a table to compute the difference. SQL supports the standard arithmetic operators: `*`, `+`, `-`, and `\\`, and we can use them like any other operator:\n",
    "\n",
    "```sql\n",
    "SELECT P75th - P25th quartile_spread FROM recent_grads LIMIT 10\n",
    "```\n",
    "You can also add, subtract, multiple, or divide columns by individual values:\n",
    "\n",
    "```sql\n",
    "SELECT ShareWomen * 100 percent_female FROM recent_grads LIMIT 10\n",
    "```\n",
    "One thing to note is that multiplying or dividing columns with a floating point value (or a column with floating point values) will result in floating point values:\n",
    "\n",
    "* Two floats - Returns a float.\n",
    "  * SELECT 100.0 / 100.0 returns 1.0.\n",
    "* A float and an integer - Returns a float\n",
    "  * SELECT 100 / 1.0 returns 1.0.\n",
    "* Two integers - Returns an integer\n",
    "  * SELECT 100 / 10 returns 10\n",
    "  \n",
    "Write a query that computes the difference between the 25th and 75th percentile of salaries for all majors.\n",
    "* Return the `Major` column first, using the default column name.\n",
    "* Return the `Major_category` column second, using the default column name.\n",
    "* Return the compute difference between the 25th and 75th percentile third, using the alias `quartile_spread`.\n",
    "* Order the results from lowest to highest and only return the first 20 results."
   ]
  },
  {
   "cell_type": "code",
   "execution_count": 17,
   "metadata": {},
   "outputs": [
    {
     "data": {
      "text/html": [
       "<div>\n",
       "<table border=\"1\" class=\"dataframe\">\n",
       "  <thead>\n",
       "    <tr style=\"text-align: right;\">\n",
       "      <th></th>\n",
       "      <th>Major</th>\n",
       "      <th>Major_category</th>\n",
       "      <th>quartile_spread</th>\n",
       "    </tr>\n",
       "  </thead>\n",
       "  <tbody>\n",
       "    <tr>\n",
       "      <th>0</th>\n",
       "      <td>MILITARY TECHNOLOGIES</td>\n",
       "      <td>Industrial Arts &amp; Consumer Services</td>\n",
       "      <td>0</td>\n",
       "    </tr>\n",
       "    <tr>\n",
       "      <th>1</th>\n",
       "      <td>LIBRARY SCIENCE</td>\n",
       "      <td>Education</td>\n",
       "      <td>2000</td>\n",
       "    </tr>\n",
       "    <tr>\n",
       "      <th>2</th>\n",
       "      <td>SCHOOL STUDENT COUNSELING</td>\n",
       "      <td>Education</td>\n",
       "      <td>2000</td>\n",
       "    </tr>\n",
       "    <tr>\n",
       "      <th>3</th>\n",
       "      <td>COURT REPORTING</td>\n",
       "      <td>Law &amp; Public Policy</td>\n",
       "      <td>4000</td>\n",
       "    </tr>\n",
       "    <tr>\n",
       "      <th>4</th>\n",
       "      <td>PHARMACOLOGY</td>\n",
       "      <td>Biology &amp; Life Science</td>\n",
       "      <td>5000</td>\n",
       "    </tr>\n",
       "    <tr>\n",
       "      <th>5</th>\n",
       "      <td>EDUCATIONAL ADMINISTRATION AND SUPERVISION</td>\n",
       "      <td>Education</td>\n",
       "      <td>6000</td>\n",
       "    </tr>\n",
       "    <tr>\n",
       "      <th>6</th>\n",
       "      <td>COUNSELING PSYCHOLOGY</td>\n",
       "      <td>Psychology &amp; Social Work</td>\n",
       "      <td>6800</td>\n",
       "    </tr>\n",
       "    <tr>\n",
       "      <th>7</th>\n",
       "      <td>SPECIAL NEEDS EDUCATION</td>\n",
       "      <td>Education</td>\n",
       "      <td>10000</td>\n",
       "    </tr>\n",
       "    <tr>\n",
       "      <th>8</th>\n",
       "      <td>MATHEMATICS TEACHER EDUCATION</td>\n",
       "      <td>Education</td>\n",
       "      <td>10000</td>\n",
       "    </tr>\n",
       "    <tr>\n",
       "      <th>9</th>\n",
       "      <td>EDUCATIONAL PSYCHOLOGY</td>\n",
       "      <td>Psychology &amp; Social Work</td>\n",
       "      <td>10000</td>\n",
       "    </tr>\n",
       "    <tr>\n",
       "      <th>10</th>\n",
       "      <td>SOCIAL WORK</td>\n",
       "      <td>Psychology &amp; Social Work</td>\n",
       "      <td>10000</td>\n",
       "    </tr>\n",
       "    <tr>\n",
       "      <th>11</th>\n",
       "      <td>HUMAN SERVICES AND COMMUNITY ORGANIZATION</td>\n",
       "      <td>Psychology &amp; Social Work</td>\n",
       "      <td>11000</td>\n",
       "    </tr>\n",
       "    <tr>\n",
       "      <th>12</th>\n",
       "      <td>GENETICS</td>\n",
       "      <td>Biology &amp; Life Science</td>\n",
       "      <td>11000</td>\n",
       "    </tr>\n",
       "    <tr>\n",
       "      <th>13</th>\n",
       "      <td>SOCIAL PSYCHOLOGY</td>\n",
       "      <td>Psychology &amp; Social Work</td>\n",
       "      <td>11000</td>\n",
       "    </tr>\n",
       "    <tr>\n",
       "      <th>14</th>\n",
       "      <td>SCIENCE AND COMPUTER TEACHER EDUCATION</td>\n",
       "      <td>Education</td>\n",
       "      <td>11000</td>\n",
       "    </tr>\n",
       "    <tr>\n",
       "      <th>15</th>\n",
       "      <td>UNITED STATES HISTORY</td>\n",
       "      <td>Humanities &amp; Liberal Arts</td>\n",
       "      <td>12000</td>\n",
       "    </tr>\n",
       "    <tr>\n",
       "      <th>16</th>\n",
       "      <td>SECONDARY TEACHER EDUCATION</td>\n",
       "      <td>Education</td>\n",
       "      <td>13000</td>\n",
       "    </tr>\n",
       "    <tr>\n",
       "      <th>17</th>\n",
       "      <td>TEACHER EDUCATION: MULTIPLE LEVELS</td>\n",
       "      <td>Education</td>\n",
       "      <td>13000</td>\n",
       "    </tr>\n",
       "    <tr>\n",
       "      <th>18</th>\n",
       "      <td>MEDICAL TECHNOLOGIES TECHNICIANS</td>\n",
       "      <td>Health</td>\n",
       "      <td>14000</td>\n",
       "    </tr>\n",
       "    <tr>\n",
       "      <th>19</th>\n",
       "      <td>ENVIRONMENTAL ENGINEERING</td>\n",
       "      <td>Engineering</td>\n",
       "      <td>14000</td>\n",
       "    </tr>\n",
       "  </tbody>\n",
       "</table>\n",
       "</div>"
      ],
      "text/plain": [
       "                                         Major  \\\n",
       "0                        MILITARY TECHNOLOGIES   \n",
       "1                              LIBRARY SCIENCE   \n",
       "2                    SCHOOL STUDENT COUNSELING   \n",
       "3                              COURT REPORTING   \n",
       "4                                 PHARMACOLOGY   \n",
       "5   EDUCATIONAL ADMINISTRATION AND SUPERVISION   \n",
       "6                        COUNSELING PSYCHOLOGY   \n",
       "7                      SPECIAL NEEDS EDUCATION   \n",
       "8                MATHEMATICS TEACHER EDUCATION   \n",
       "9                       EDUCATIONAL PSYCHOLOGY   \n",
       "10                                 SOCIAL WORK   \n",
       "11   HUMAN SERVICES AND COMMUNITY ORGANIZATION   \n",
       "12                                    GENETICS   \n",
       "13                           SOCIAL PSYCHOLOGY   \n",
       "14      SCIENCE AND COMPUTER TEACHER EDUCATION   \n",
       "15                       UNITED STATES HISTORY   \n",
       "16                 SECONDARY TEACHER EDUCATION   \n",
       "17          TEACHER EDUCATION: MULTIPLE LEVELS   \n",
       "18            MEDICAL TECHNOLOGIES TECHNICIANS   \n",
       "19                   ENVIRONMENTAL ENGINEERING   \n",
       "\n",
       "                         Major_category  quartile_spread  \n",
       "0   Industrial Arts & Consumer Services                0  \n",
       "1                             Education             2000  \n",
       "2                             Education             2000  \n",
       "3                   Law & Public Policy             4000  \n",
       "4                Biology & Life Science             5000  \n",
       "5                             Education             6000  \n",
       "6              Psychology & Social Work             6800  \n",
       "7                             Education            10000  \n",
       "8                             Education            10000  \n",
       "9              Psychology & Social Work            10000  \n",
       "10             Psychology & Social Work            10000  \n",
       "11             Psychology & Social Work            11000  \n",
       "12               Biology & Life Science            11000  \n",
       "13             Psychology & Social Work            11000  \n",
       "14                            Education            11000  \n",
       "15            Humanities & Liberal Arts            12000  \n",
       "16                            Education            13000  \n",
       "17                            Education            13000  \n",
       "18                               Health            14000  \n",
       "19                          Engineering            14000  "
      ]
     },
     "execution_count": 17,
     "metadata": {},
     "output_type": "execute_result"
    }
   ],
   "source": [
    "sql = '''\n",
    "        select Major, Major_category, P75th-P25th quartile_spread\n",
    "        from recent_grads\n",
    "        order by quartile_spread\n",
    "        limit 20\n",
    "'''\n",
    "pd.read_sql(sql, db)"
   ]
  },
  {
   "cell_type": "code",
   "execution_count": null,
   "metadata": {
    "collapsed": true
   },
   "outputs": [],
   "source": []
  },
  {
   "cell_type": "code",
   "execution_count": null,
   "metadata": {
    "collapsed": true
   },
   "outputs": [],
   "source": [
    "db.close()"
   ]
  },
  {
   "cell_type": "code",
   "execution_count": null,
   "metadata": {
    "collapsed": true
   },
   "outputs": [],
   "source": []
  }
 ],
 "metadata": {
  "kernelspec": {
   "display_name": "Python 3",
   "language": "python",
   "name": "python3"
  },
  "language_info": {
   "codemirror_mode": {
    "name": "ipython",
    "version": 3
   },
   "file_extension": ".py",
   "mimetype": "text/x-python",
   "name": "python",
   "nbconvert_exporter": "python",
   "pygments_lexer": "ipython3",
   "version": "3.6.2"
  }
 },
 "nbformat": 4,
 "nbformat_minor": 2
}
