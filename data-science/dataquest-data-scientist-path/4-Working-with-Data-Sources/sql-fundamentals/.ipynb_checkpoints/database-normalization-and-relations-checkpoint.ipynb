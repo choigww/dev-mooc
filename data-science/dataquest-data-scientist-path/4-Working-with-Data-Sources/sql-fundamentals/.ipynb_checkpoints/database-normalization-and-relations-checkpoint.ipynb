{
 "cells": [
  {
   "cell_type": "markdown",
   "metadata": {},
   "source": [
    "# database-normalization-and-relations\n",
    "\n",
    "* [Go direct to summary note](#summary)"
   ]
  },
  {
   "cell_type": "markdown",
   "metadata": {},
   "source": [
    "In the previous mission, we learned how to create a foreign key to reference a table in another record and how to use joins to query across tables using the foreign key. In this mission, we'll dive more deeply into relations between tables, learn about data normalization, and how we can take advantage of them to perform more complex joins.\n",
    "\n",
    "* In this mission, we'll work with data on Academy Award nominations from 2001 to 2010 for just the lead and supporting acting roles. The Academy Awards, also known as the Oscars, is an annual awards ceremony hosted to recognize the achievements in the film industry. There are many different awards categories and the members of the academy vote every year to decide which artist or film should get the award. The full dataset, containing data on all award categories from years 1927 to 2010, can be found [here](https://www.aggdata.com/awards/oscar). We've cleaned and transformed the data and created `academy_awards.db`.\n",
    "\n",
    "The database file academy_awards.db contains 2 tables:\n",
    "\n",
    "* `nominations`, where each row describes an individual actor's nomination.\n",
    "* `ceremonies`, where each row describes an individual Academy Awards ceremony.\n",
    "\n",
    "The `nominations` table has the following schema:\n",
    "\n",
    "* `id` - integer field, primary key for uniquely identifying rows.\n",
    "* `ceremony_id` - integer field, foreign key reference to the id column from the ceremonies table.\n",
    "* `category`: text field, award category. Can only be one of the following 4 values:\n",
    "    * `Actor -- Leading Role`.\n",
    "    * `Actor -- Supporting Role`.\n",
    "    * `Actress -- Leading Role`.\n",
    "    * `Actress -- Supporting Role`.\n",
    "* `nominee`: text field, name of the actor or actress.\n",
    "* `movie`: text field, name of the movie the actor or actresses was nominated for.\n",
    "* `character`: text field, name of the character this actor or actress played.\n",
    "* `won`: Boolean field, if the actor or actress won the award (either 0 or 1).\n",
    "\n",
    "The won column is specified as Boolean in the schema but since **SQLite doesn't have a Boolean type**, SQLite uses the integer data type instead. `The integer 0 represents False while the integer 1 represents True`."
   ]
  },
  {
   "cell_type": "code",
   "execution_count": 104,
   "metadata": {},
   "outputs": [],
   "source": [
    "import pandas as pd\n",
    "import numpy as np\n",
    "import re"
   ]
  },
  {
   "cell_type": "code",
   "execution_count": 137,
   "metadata": {},
   "outputs": [],
   "source": [
    "academy_awards = pd.read_csv('data/academy_awards.csv',\n",
    "                            encoding='latin1')"
   ]
  },
  {
   "cell_type": "code",
   "execution_count": 138,
   "metadata": {},
   "outputs": [
    {
     "data": {
      "text/html": [
       "<div>\n",
       "<style scoped>\n",
       "    .dataframe tbody tr th:only-of-type {\n",
       "        vertical-align: middle;\n",
       "    }\n",
       "\n",
       "    .dataframe tbody tr th {\n",
       "        vertical-align: top;\n",
       "    }\n",
       "\n",
       "    .dataframe thead th {\n",
       "        text-align: right;\n",
       "    }\n",
       "</style>\n",
       "<table border=\"1\" class=\"dataframe\">\n",
       "  <thead>\n",
       "    <tr style=\"text-align: right;\">\n",
       "      <th></th>\n",
       "      <th>Year</th>\n",
       "      <th>Category</th>\n",
       "      <th>Nominee</th>\n",
       "      <th>Additional Info</th>\n",
       "      <th>Won?</th>\n",
       "      <th>Unnamed: 5</th>\n",
       "      <th>Unnamed: 6</th>\n",
       "      <th>Unnamed: 7</th>\n",
       "      <th>Unnamed: 8</th>\n",
       "      <th>Unnamed: 9</th>\n",
       "      <th>Unnamed: 10</th>\n",
       "    </tr>\n",
       "  </thead>\n",
       "  <tbody>\n",
       "    <tr>\n",
       "      <th>0</th>\n",
       "      <td>2010 (83rd)</td>\n",
       "      <td>Actor -- Leading Role</td>\n",
       "      <td>Javier Bardem</td>\n",
       "      <td>Biutiful {'Uxbal'}</td>\n",
       "      <td>NO</td>\n",
       "      <td>NaN</td>\n",
       "      <td>NaN</td>\n",
       "      <td>NaN</td>\n",
       "      <td>NaN</td>\n",
       "      <td>NaN</td>\n",
       "      <td>NaN</td>\n",
       "    </tr>\n",
       "    <tr>\n",
       "      <th>1</th>\n",
       "      <td>2010 (83rd)</td>\n",
       "      <td>Actor -- Leading Role</td>\n",
       "      <td>Jeff Bridges</td>\n",
       "      <td>True Grit {'Rooster Cogburn'}</td>\n",
       "      <td>NO</td>\n",
       "      <td>NaN</td>\n",
       "      <td>NaN</td>\n",
       "      <td>NaN</td>\n",
       "      <td>NaN</td>\n",
       "      <td>NaN</td>\n",
       "      <td>NaN</td>\n",
       "    </tr>\n",
       "    <tr>\n",
       "      <th>2</th>\n",
       "      <td>2010 (83rd)</td>\n",
       "      <td>Actor -- Leading Role</td>\n",
       "      <td>Jesse Eisenberg</td>\n",
       "      <td>The Social Network {'Mark Zuckerberg'}</td>\n",
       "      <td>NO</td>\n",
       "      <td>NaN</td>\n",
       "      <td>NaN</td>\n",
       "      <td>NaN</td>\n",
       "      <td>NaN</td>\n",
       "      <td>NaN</td>\n",
       "      <td>NaN</td>\n",
       "    </tr>\n",
       "  </tbody>\n",
       "</table>\n",
       "</div>"
      ],
      "text/plain": [
       "          Year               Category          Nominee  \\\n",
       "0  2010 (83rd)  Actor -- Leading Role    Javier Bardem   \n",
       "1  2010 (83rd)  Actor -- Leading Role     Jeff Bridges   \n",
       "2  2010 (83rd)  Actor -- Leading Role  Jesse Eisenberg   \n",
       "\n",
       "                          Additional Info Won? Unnamed: 5 Unnamed: 6  \\\n",
       "0                      Biutiful {'Uxbal'}   NO        NaN        NaN   \n",
       "1           True Grit {'Rooster Cogburn'}   NO        NaN        NaN   \n",
       "2  The Social Network {'Mark Zuckerberg'}   NO        NaN        NaN   \n",
       "\n",
       "  Unnamed: 7 Unnamed: 8 Unnamed: 9 Unnamed: 10  \n",
       "0        NaN        NaN        NaN         NaN  \n",
       "1        NaN        NaN        NaN         NaN  \n",
       "2        NaN        NaN        NaN         NaN  "
      ]
     },
     "execution_count": 138,
     "metadata": {},
     "output_type": "execute_result"
    }
   ],
   "source": [
    "academy_awards.head(3)"
   ]
  },
  {
   "cell_type": "code",
   "execution_count": null,
   "metadata": {},
   "outputs": [],
   "source": []
  },
  {
   "cell_type": "markdown",
   "metadata": {},
   "source": [
    "### Ceremonies\n",
    "\n",
    "Since awards are only given to one winner, 4 nominees for each award lose and 1 nominee wins. You'll notice that among the nominees for each award, there was 1 nominee with a value of 1 for won and 4 nominees with a value of 0 for won. You may have also noticed that the movie `The King's Speech` shows up twice. This is because separate actors were nominated for different roles in the same movie.<br>\n",
    "\n",
    "The `ceremonies` table has the following schema:\n",
    "\n",
    "* `id` - integer field, primary key for uniquely identify rows.\n",
    "* `year` - integer field, the year of the ceremony.\n",
    "  * year ranges limited from 2000 to 2010.\n",
    "* `host` - text field, the host for that ceremony.\n"
   ]
  },
  {
   "cell_type": "code",
   "execution_count": 139,
   "metadata": {},
   "outputs": [],
   "source": [
    "year = range(2000, 2011)\n",
    "host = ['Billy Crystal', 'Steve Martin', 'Whoopi Goldberg',\n",
    "       'Steve Martin', 'Billy Crystal', 'Chris Rock',\n",
    "       'Jon Stewart', 'Ellen DeGeneres', 'Jon Stewart',\n",
    "       'Hugh Jackman', 'Steve Martin']\n",
    "\n",
    "ceremonies = pd.DataFrame(columns=['id','year', 'host'])\n",
    "ceremonies['year'] = year\n",
    "ceremonies['host'] = host\n",
    "ceremonies['id'] = ceremonies.index + 1"
   ]
  },
  {
   "cell_type": "markdown",
   "metadata": {},
   "source": [
    "Here's what the entire `ceremonies` table, which only contains 11 rows, looks like:"
   ]
  },
  {
   "cell_type": "code",
   "execution_count": 140,
   "metadata": {},
   "outputs": [
    {
     "data": {
      "text/html": [
       "<div>\n",
       "<style scoped>\n",
       "    .dataframe tbody tr th:only-of-type {\n",
       "        vertical-align: middle;\n",
       "    }\n",
       "\n",
       "    .dataframe tbody tr th {\n",
       "        vertical-align: top;\n",
       "    }\n",
       "\n",
       "    .dataframe thead th {\n",
       "        text-align: right;\n",
       "    }\n",
       "</style>\n",
       "<table border=\"1\" class=\"dataframe\">\n",
       "  <thead>\n",
       "    <tr style=\"text-align: right;\">\n",
       "      <th></th>\n",
       "      <th>id</th>\n",
       "      <th>year</th>\n",
       "      <th>host</th>\n",
       "    </tr>\n",
       "  </thead>\n",
       "  <tbody>\n",
       "    <tr>\n",
       "      <th>0</th>\n",
       "      <td>1</td>\n",
       "      <td>2000</td>\n",
       "      <td>Billy Crystal</td>\n",
       "    </tr>\n",
       "    <tr>\n",
       "      <th>1</th>\n",
       "      <td>2</td>\n",
       "      <td>2001</td>\n",
       "      <td>Steve Martin</td>\n",
       "    </tr>\n",
       "    <tr>\n",
       "      <th>2</th>\n",
       "      <td>3</td>\n",
       "      <td>2002</td>\n",
       "      <td>Whoopi Goldberg</td>\n",
       "    </tr>\n",
       "  </tbody>\n",
       "</table>\n",
       "</div>"
      ],
      "text/plain": [
       "   id  year             host\n",
       "0   1  2000    Billy Crystal\n",
       "1   2  2001     Steve Martin\n",
       "2   3  2002  Whoopi Goldberg"
      ]
     },
     "execution_count": 140,
     "metadata": {},
     "output_type": "execute_result"
    }
   ],
   "source": [
    "ceremonies.head(3)"
   ]
  },
  {
   "cell_type": "code",
   "execution_count": null,
   "metadata": {},
   "outputs": [],
   "source": []
  },
  {
   "cell_type": "markdown",
   "metadata": {},
   "source": [
    "### Clean and re-format data\n"
   ]
  },
  {
   "cell_type": "code",
   "execution_count": 141,
   "metadata": {},
   "outputs": [],
   "source": [
    "academy_awards = \\\n",
    "    academy_awards.rename(columns={\n",
    "            'Year':'year',\n",
    "            'Category':'category',\n",
    "            'Nominee':'nominee',\n",
    "            'Additional Info':'movie',\n",
    "            'Won?':'won',\n",
    "            'Unnamed: 5':'character'\n",
    "        })"
   ]
  },
  {
   "cell_type": "code",
   "execution_count": 142,
   "metadata": {},
   "outputs": [],
   "source": [
    "academy_awards.drop(['Unnamed: 6',\n",
    "                    'Unnamed: 7',\n",
    "                    'Unnamed: 8',\n",
    "                    'Unnamed: 9',\n",
    "                    'Unnamed: 10'],\n",
    "                    axis=1,\n",
    "                   inplace=True)"
   ]
  },
  {
   "cell_type": "code",
   "execution_count": 143,
   "metadata": {
    "scrolled": true
   },
   "outputs": [
    {
     "data": {
      "text/plain": [
       "[\"Biutiful {'Uxbal'}\",\n",
       " \"True Grit {'Rooster Cogburn'}\",\n",
       " \"The Social Network {'Mark Zuckerberg'}\",\n",
       " \"The King's Speech {'King George VI'}\",\n",
       " \"127 Hours {'Aron Ralston'}\",\n",
       " \"The Fighter {'Dicky Eklund'}\",\n",
       " \"Winter's Bone {'Teardrop'}\",\n",
       " \"The Town {'James Coughlin'}\",\n",
       " \"The Kids Are All Right {'Paul'}\",\n",
       " \"The King's Speech {'Lionel Logue'}\"]"
      ]
     },
     "execution_count": 143,
     "metadata": {},
     "output_type": "execute_result"
    }
   ],
   "source": [
    "academy_awards.movie.unique().tolist()[:10]"
   ]
  },
  {
   "cell_type": "code",
   "execution_count": 144,
   "metadata": {},
   "outputs": [],
   "source": [
    "academy_awards['is_actor'] = academy_awards.category.map(lambda x: 1 if x.startswith('Act') else 0)"
   ]
  },
  {
   "cell_type": "code",
   "execution_count": 145,
   "metadata": {},
   "outputs": [],
   "source": [
    "academy_awards = academy_awards[academy_awards.is_actor==1]"
   ]
  },
  {
   "cell_type": "code",
   "execution_count": 146,
   "metadata": {},
   "outputs": [
    {
     "data": {
      "text/plain": [
       "1    1568\n",
       "0      15\n",
       "Name: movie, dtype: int64"
      ]
     },
     "execution_count": 146,
     "metadata": {},
     "output_type": "execute_result"
    }
   ],
   "source": [
    "academy_awards['movie'].apply(lambda x: 1 if type(x) == str else 0).value_counts()"
   ]
  },
  {
   "cell_type": "code",
   "execution_count": 147,
   "metadata": {},
   "outputs": [],
   "source": [
    "academy_awards['is_movie'] = academy_awards['movie'].apply(lambda x: 1 if type(x) == str else 0)"
   ]
  },
  {
   "cell_type": "code",
   "execution_count": 148,
   "metadata": {},
   "outputs": [],
   "source": [
    "academy_awards = academy_awards[academy_awards.is_movie == 1]"
   ]
  },
  {
   "cell_type": "code",
   "execution_count": 149,
   "metadata": {},
   "outputs": [
    {
     "name": "stdout",
     "output_type": "stream",
     "text": [
      "Non float.\n"
     ]
    }
   ],
   "source": [
    "for mov in academy_awards.movie:\n",
    "    if type(mov) == float:\n",
    "        print(mov, type(mov))\n",
    "else:\n",
    "    print('Non float.')"
   ]
  },
  {
   "cell_type": "code",
   "execution_count": 150,
   "metadata": {},
   "outputs": [
    {
     "data": {
      "text/html": [
       "<div>\n",
       "<style scoped>\n",
       "    .dataframe tbody tr th:only-of-type {\n",
       "        vertical-align: middle;\n",
       "    }\n",
       "\n",
       "    .dataframe tbody tr th {\n",
       "        vertical-align: top;\n",
       "    }\n",
       "\n",
       "    .dataframe thead th {\n",
       "        text-align: right;\n",
       "    }\n",
       "</style>\n",
       "<table border=\"1\" class=\"dataframe\">\n",
       "  <thead>\n",
       "    <tr style=\"text-align: right;\">\n",
       "      <th></th>\n",
       "      <th>year</th>\n",
       "      <th>category</th>\n",
       "      <th>nominee</th>\n",
       "      <th>movie</th>\n",
       "      <th>won</th>\n",
       "      <th>character</th>\n",
       "      <th>is_actor</th>\n",
       "      <th>is_movie</th>\n",
       "    </tr>\n",
       "  </thead>\n",
       "  <tbody>\n",
       "    <tr>\n",
       "      <th>0</th>\n",
       "      <td>2010 (83rd)</td>\n",
       "      <td>Actor -- Leading Role</td>\n",
       "      <td>Javier Bardem</td>\n",
       "      <td>Biutiful {'Uxbal'}</td>\n",
       "      <td>NO</td>\n",
       "      <td>NaN</td>\n",
       "      <td>1</td>\n",
       "      <td>1</td>\n",
       "    </tr>\n",
       "    <tr>\n",
       "      <th>1</th>\n",
       "      <td>2010 (83rd)</td>\n",
       "      <td>Actor -- Leading Role</td>\n",
       "      <td>Jeff Bridges</td>\n",
       "      <td>True Grit {'Rooster Cogburn'}</td>\n",
       "      <td>NO</td>\n",
       "      <td>NaN</td>\n",
       "      <td>1</td>\n",
       "      <td>1</td>\n",
       "    </tr>\n",
       "    <tr>\n",
       "      <th>2</th>\n",
       "      <td>2010 (83rd)</td>\n",
       "      <td>Actor -- Leading Role</td>\n",
       "      <td>Jesse Eisenberg</td>\n",
       "      <td>The Social Network {'Mark Zuckerberg'}</td>\n",
       "      <td>NO</td>\n",
       "      <td>NaN</td>\n",
       "      <td>1</td>\n",
       "      <td>1</td>\n",
       "    </tr>\n",
       "  </tbody>\n",
       "</table>\n",
       "</div>"
      ],
      "text/plain": [
       "          year               category          nominee  \\\n",
       "0  2010 (83rd)  Actor -- Leading Role    Javier Bardem   \n",
       "1  2010 (83rd)  Actor -- Leading Role     Jeff Bridges   \n",
       "2  2010 (83rd)  Actor -- Leading Role  Jesse Eisenberg   \n",
       "\n",
       "                                    movie won character  is_actor  is_movie  \n",
       "0                      Biutiful {'Uxbal'}  NO       NaN         1         1  \n",
       "1           True Grit {'Rooster Cogburn'}  NO       NaN         1         1  \n",
       "2  The Social Network {'Mark Zuckerberg'}  NO       NaN         1         1  "
      ]
     },
     "execution_count": 150,
     "metadata": {},
     "output_type": "execute_result"
    }
   ],
   "source": [
    "academy_awards.head(3)"
   ]
  },
  {
   "cell_type": "code",
   "execution_count": 151,
   "metadata": {},
   "outputs": [],
   "source": [
    "academy_awards['year'] = academy_awards['year'].apply(lambda x: x[:4]).astype(int)"
   ]
  },
  {
   "cell_type": "code",
   "execution_count": 152,
   "metadata": {},
   "outputs": [],
   "source": [
    "academy_awards = academy_awards[academy_awards['year'] >= 2000]"
   ]
  },
  {
   "cell_type": "code",
   "execution_count": null,
   "metadata": {},
   "outputs": [],
   "source": []
  },
  {
   "cell_type": "code",
   "execution_count": 153,
   "metadata": {},
   "outputs": [],
   "source": [
    "academy_awards['character'] = academy_awards['movie'].apply(lambda x: re.findall(r'\\{.*\\}', x)[0][2:-2])"
   ]
  },
  {
   "cell_type": "code",
   "execution_count": 154,
   "metadata": {},
   "outputs": [],
   "source": [
    "academy_awards['movie'] = academy_awards['movie'].apply(lambda x: x.split('{')[0][:-1])"
   ]
  },
  {
   "cell_type": "code",
   "execution_count": 155,
   "metadata": {},
   "outputs": [],
   "source": [
    "nominations = academy_awards.copy()"
   ]
  },
  {
   "cell_type": "code",
   "execution_count": 156,
   "metadata": {},
   "outputs": [],
   "source": [
    "#nominations['ceremony_id'] = nominations.ceremony_id.astype(int)"
   ]
  },
  {
   "cell_type": "code",
   "execution_count": 157,
   "metadata": {},
   "outputs": [
    {
     "data": {
      "text/plain": [
       "array([2010, 2009, 2008, 2007, 2006, 2005, 2004, 2003, 2002, 2001, 2000])"
      ]
     },
     "execution_count": 157,
     "metadata": {},
     "output_type": "execute_result"
    }
   ],
   "source": [
    "nominations['year'].unique()"
   ]
  },
  {
   "cell_type": "code",
   "execution_count": 158,
   "metadata": {
    "scrolled": true
   },
   "outputs": [
    {
     "data": {
      "text/plain": [
       "array(['NO', 'YES'], dtype=object)"
      ]
     },
     "execution_count": 158,
     "metadata": {},
     "output_type": "execute_result"
    }
   ],
   "source": [
    "nominations['won'].unique()"
   ]
  },
  {
   "cell_type": "code",
   "execution_count": 159,
   "metadata": {},
   "outputs": [],
   "source": [
    "nominations['won'] = nominations['won'].map({'YES':1, 'NO':0})"
   ]
  },
  {
   "cell_type": "code",
   "execution_count": 160,
   "metadata": {},
   "outputs": [],
   "source": [
    "nominations['id'] = nominations.index+1"
   ]
  },
  {
   "cell_type": "code",
   "execution_count": 161,
   "metadata": {},
   "outputs": [],
   "source": [
    "# re-select & order the columns of dataframe\n",
    "nominations = nominations[['id', 'year', 'category',\n",
    "                          'nominee', 'movie', 'character', 'won']]"
   ]
  },
  {
   "cell_type": "markdown",
   "metadata": {},
   "source": [
    "### nominations dataframe preprocess done.\n",
    "\n",
    "Here's what the first 10 rows in the `nominations` table look like:"
   ]
  },
  {
   "cell_type": "code",
   "execution_count": 162,
   "metadata": {},
   "outputs": [
    {
     "data": {
      "text/html": [
       "<div>\n",
       "<style scoped>\n",
       "    .dataframe tbody tr th:only-of-type {\n",
       "        vertical-align: middle;\n",
       "    }\n",
       "\n",
       "    .dataframe tbody tr th {\n",
       "        vertical-align: top;\n",
       "    }\n",
       "\n",
       "    .dataframe thead th {\n",
       "        text-align: right;\n",
       "    }\n",
       "</style>\n",
       "<table border=\"1\" class=\"dataframe\">\n",
       "  <thead>\n",
       "    <tr style=\"text-align: right;\">\n",
       "      <th></th>\n",
       "      <th>id</th>\n",
       "      <th>year</th>\n",
       "      <th>category</th>\n",
       "      <th>nominee</th>\n",
       "      <th>movie</th>\n",
       "      <th>character</th>\n",
       "      <th>won</th>\n",
       "    </tr>\n",
       "  </thead>\n",
       "  <tbody>\n",
       "    <tr>\n",
       "      <th>0</th>\n",
       "      <td>1</td>\n",
       "      <td>2010</td>\n",
       "      <td>Actor -- Leading Role</td>\n",
       "      <td>Javier Bardem</td>\n",
       "      <td>Biutiful</td>\n",
       "      <td>Uxbal</td>\n",
       "      <td>0</td>\n",
       "    </tr>\n",
       "    <tr>\n",
       "      <th>1</th>\n",
       "      <td>2</td>\n",
       "      <td>2010</td>\n",
       "      <td>Actor -- Leading Role</td>\n",
       "      <td>Jeff Bridges</td>\n",
       "      <td>True Grit</td>\n",
       "      <td>Rooster Cogburn</td>\n",
       "      <td>0</td>\n",
       "    </tr>\n",
       "    <tr>\n",
       "      <th>2</th>\n",
       "      <td>3</td>\n",
       "      <td>2010</td>\n",
       "      <td>Actor -- Leading Role</td>\n",
       "      <td>Jesse Eisenberg</td>\n",
       "      <td>The Social Network</td>\n",
       "      <td>Mark Zuckerberg</td>\n",
       "      <td>0</td>\n",
       "    </tr>\n",
       "  </tbody>\n",
       "</table>\n",
       "</div>"
      ],
      "text/plain": [
       "   id  year               category          nominee               movie  \\\n",
       "0   1  2010  Actor -- Leading Role    Javier Bardem            Biutiful   \n",
       "1   2  2010  Actor -- Leading Role     Jeff Bridges           True Grit   \n",
       "2   3  2010  Actor -- Leading Role  Jesse Eisenberg  The Social Network   \n",
       "\n",
       "         character  won  \n",
       "0            Uxbal    0  \n",
       "1  Rooster Cogburn    0  \n",
       "2  Mark Zuckerberg    0  "
      ]
     },
     "execution_count": 162,
     "metadata": {},
     "output_type": "execute_result"
    }
   ],
   "source": [
    "nominations.head(3)"
   ]
  },
  {
   "cell_type": "code",
   "execution_count": null,
   "metadata": {},
   "outputs": [],
   "source": []
  },
  {
   "cell_type": "markdown",
   "metadata": {},
   "source": [
    "### check if there is any nan value in dataframe."
   ]
  },
  {
   "cell_type": "code",
   "execution_count": 163,
   "metadata": {},
   "outputs": [
    {
     "name": "stdout",
     "output_type": "stream",
     "text": [
      "No nan value\n"
     ]
    }
   ],
   "source": [
    "for col in nominations.columns:\n",
    "    if nominations[col].isnull().sum():\n",
    "        print(col)\n",
    "else:\n",
    "    print('No nan value')"
   ]
  },
  {
   "cell_type": "code",
   "execution_count": 164,
   "metadata": {},
   "outputs": [
    {
     "name": "stdout",
     "output_type": "stream",
     "text": [
      "No nan value\n"
     ]
    }
   ],
   "source": [
    "for col in ceremonies.columns:\n",
    "    if ceremonies[col].isnull().sum():\n",
    "        print(col)\n",
    "else:\n",
    "    print('No nan value')"
   ]
  },
  {
   "cell_type": "code",
   "execution_count": null,
   "metadata": {},
   "outputs": [],
   "source": []
  },
  {
   "cell_type": "markdown",
   "metadata": {},
   "source": [
    "### Input DataFrame data into sqlite db file."
   ]
  },
  {
   "cell_type": "code",
   "execution_count": 182,
   "metadata": {},
   "outputs": [],
   "source": [
    "import sqlite3\n",
    "\n",
    "# input two dataframe into aws database as two tables."
   ]
  },
  {
   "cell_type": "code",
   "execution_count": 183,
   "metadata": {},
   "outputs": [],
   "source": [
    "# access empty sqlite db, already created via local cmd.\n",
    "conn = sqlite3.connect('data/academy.db')\n",
    "cursor = conn.cursor()"
   ]
  },
  {
   "cell_type": "code",
   "execution_count": 184,
   "metadata": {},
   "outputs": [],
   "source": [
    "sql = 'drop table if exists ceremonies;'\n",
    "cursor.execute(sql); conn.commit()"
   ]
  },
  {
   "cell_type": "code",
   "execution_count": 185,
   "metadata": {},
   "outputs": [],
   "source": [
    "sql = '''\n",
    "        create table ceremonies (\n",
    "            id int,\n",
    "            year int,\n",
    "            host varchar,\n",
    "            primary key(id)\n",
    "        );\n",
    "'''\n",
    "\n",
    "cursor.execute(sql)\n",
    "conn.commit()"
   ]
  },
  {
   "cell_type": "code",
   "execution_count": null,
   "metadata": {},
   "outputs": [],
   "source": []
  },
  {
   "cell_type": "code",
   "execution_count": 186,
   "metadata": {},
   "outputs": [],
   "source": [
    "sql = 'drop table if exists nominations;'\n",
    "cursor.execute(sql); conn.commit()"
   ]
  },
  {
   "cell_type": "code",
   "execution_count": 187,
   "metadata": {},
   "outputs": [],
   "source": [
    "sql = '''\n",
    "        create table nominations (\n",
    "            id int,\n",
    "            year int,\n",
    "            category varchar,\n",
    "            nominee varchar,\n",
    "            movie varchar,\n",
    "            character varchar,\n",
    "            won int,\n",
    "            primary key(id)\n",
    "        );\n",
    "'''\n",
    "\n",
    "cursor.execute(sql)\n",
    "conn.commit()"
   ]
  },
  {
   "cell_type": "code",
   "execution_count": 77,
   "metadata": {},
   "outputs": [],
   "source": []
  },
  {
   "cell_type": "code",
   "execution_count": 191,
   "metadata": {},
   "outputs": [],
   "source": [
    "# insert data into table 'ceremonies' in academy.db\n",
    "\n",
    "for i in range(ceremonies.shape[0]):\n",
    "    \n",
    "    row = ceremonies.iloc[i]\n",
    "    \n",
    "    sql = '''\n",
    "            insert into ceremonies\n",
    "            values (%d, %d, \"%s\")\n",
    "    ''' % (row['id'], row['year'], row['host'])\n",
    "    \n",
    "    cursor.execute(sql)\n",
    "    conn.commit()"
   ]
  },
  {
   "cell_type": "code",
   "execution_count": 188,
   "metadata": {},
   "outputs": [],
   "source": [
    "# insert data into table 'nominations' in academy.db\n",
    "\n",
    "for i in range(nominations.shape[0]):\n",
    "    \n",
    "    row = nominations.iloc[i]\n",
    "    \n",
    "    sql = '''\n",
    "            insert into nominations\n",
    "            values (%d, %d, \"%s\", \"%s\", \"%s\", \"%s\", %d)\n",
    "    ''' % (row['id'], row['year'], row['category'],\n",
    "          row['nominee'], row['movie'], row['character'],\n",
    "          row['won'])\n",
    "    \n",
    "    cursor.execute(sql)\n",
    "    conn.commit()"
   ]
  },
  {
   "cell_type": "code",
   "execution_count": 189,
   "metadata": {
    "scrolled": true
   },
   "outputs": [
    {
     "data": {
      "text/html": [
       "<div>\n",
       "<style scoped>\n",
       "    .dataframe tbody tr th:only-of-type {\n",
       "        vertical-align: middle;\n",
       "    }\n",
       "\n",
       "    .dataframe tbody tr th {\n",
       "        vertical-align: top;\n",
       "    }\n",
       "\n",
       "    .dataframe thead th {\n",
       "        text-align: right;\n",
       "    }\n",
       "</style>\n",
       "<table border=\"1\" class=\"dataframe\">\n",
       "  <thead>\n",
       "    <tr style=\"text-align: right;\">\n",
       "      <th></th>\n",
       "      <th>cid</th>\n",
       "      <th>name</th>\n",
       "      <th>type</th>\n",
       "      <th>notnull</th>\n",
       "      <th>dflt_value</th>\n",
       "      <th>pk</th>\n",
       "    </tr>\n",
       "  </thead>\n",
       "  <tbody>\n",
       "    <tr>\n",
       "      <th>0</th>\n",
       "      <td>0</td>\n",
       "      <td>id</td>\n",
       "      <td>int</td>\n",
       "      <td>0</td>\n",
       "      <td>None</td>\n",
       "      <td>1</td>\n",
       "    </tr>\n",
       "    <tr>\n",
       "      <th>1</th>\n",
       "      <td>1</td>\n",
       "      <td>year</td>\n",
       "      <td>int</td>\n",
       "      <td>0</td>\n",
       "      <td>None</td>\n",
       "      <td>0</td>\n",
       "    </tr>\n",
       "    <tr>\n",
       "      <th>2</th>\n",
       "      <td>2</td>\n",
       "      <td>category</td>\n",
       "      <td>varchar</td>\n",
       "      <td>0</td>\n",
       "      <td>None</td>\n",
       "      <td>0</td>\n",
       "    </tr>\n",
       "    <tr>\n",
       "      <th>3</th>\n",
       "      <td>3</td>\n",
       "      <td>nominee</td>\n",
       "      <td>varchar</td>\n",
       "      <td>0</td>\n",
       "      <td>None</td>\n",
       "      <td>0</td>\n",
       "    </tr>\n",
       "    <tr>\n",
       "      <th>4</th>\n",
       "      <td>4</td>\n",
       "      <td>movie</td>\n",
       "      <td>varchar</td>\n",
       "      <td>0</td>\n",
       "      <td>None</td>\n",
       "      <td>0</td>\n",
       "    </tr>\n",
       "    <tr>\n",
       "      <th>5</th>\n",
       "      <td>5</td>\n",
       "      <td>character</td>\n",
       "      <td>varchar</td>\n",
       "      <td>0</td>\n",
       "      <td>None</td>\n",
       "      <td>0</td>\n",
       "    </tr>\n",
       "    <tr>\n",
       "      <th>6</th>\n",
       "      <td>6</td>\n",
       "      <td>won</td>\n",
       "      <td>int</td>\n",
       "      <td>0</td>\n",
       "      <td>None</td>\n",
       "      <td>0</td>\n",
       "    </tr>\n",
       "  </tbody>\n",
       "</table>\n",
       "</div>"
      ],
      "text/plain": [
       "   cid       name     type  notnull dflt_value  pk\n",
       "0    0         id      int        0       None   1\n",
       "1    1       year      int        0       None   0\n",
       "2    2   category  varchar        0       None   0\n",
       "3    3    nominee  varchar        0       None   0\n",
       "4    4      movie  varchar        0       None   0\n",
       "5    5  character  varchar        0       None   0\n",
       "6    6        won      int        0       None   0"
      ]
     },
     "execution_count": 189,
     "metadata": {},
     "output_type": "execute_result"
    }
   ],
   "source": [
    "sql = 'pragma table_info(nominations);'\n",
    "pd.read_sql(sql, conn)"
   ]
  },
  {
   "cell_type": "code",
   "execution_count": 192,
   "metadata": {},
   "outputs": [
    {
     "data": {
      "text/html": [
       "<div>\n",
       "<style scoped>\n",
       "    .dataframe tbody tr th:only-of-type {\n",
       "        vertical-align: middle;\n",
       "    }\n",
       "\n",
       "    .dataframe tbody tr th {\n",
       "        vertical-align: top;\n",
       "    }\n",
       "\n",
       "    .dataframe thead th {\n",
       "        text-align: right;\n",
       "    }\n",
       "</style>\n",
       "<table border=\"1\" class=\"dataframe\">\n",
       "  <thead>\n",
       "    <tr style=\"text-align: right;\">\n",
       "      <th></th>\n",
       "      <th>cid</th>\n",
       "      <th>name</th>\n",
       "      <th>type</th>\n",
       "      <th>notnull</th>\n",
       "      <th>dflt_value</th>\n",
       "      <th>pk</th>\n",
       "    </tr>\n",
       "  </thead>\n",
       "  <tbody>\n",
       "    <tr>\n",
       "      <th>0</th>\n",
       "      <td>0</td>\n",
       "      <td>id</td>\n",
       "      <td>int</td>\n",
       "      <td>0</td>\n",
       "      <td>None</td>\n",
       "      <td>1</td>\n",
       "    </tr>\n",
       "    <tr>\n",
       "      <th>1</th>\n",
       "      <td>1</td>\n",
       "      <td>year</td>\n",
       "      <td>int</td>\n",
       "      <td>0</td>\n",
       "      <td>None</td>\n",
       "      <td>0</td>\n",
       "    </tr>\n",
       "    <tr>\n",
       "      <th>2</th>\n",
       "      <td>2</td>\n",
       "      <td>host</td>\n",
       "      <td>varchar</td>\n",
       "      <td>0</td>\n",
       "      <td>None</td>\n",
       "      <td>0</td>\n",
       "    </tr>\n",
       "  </tbody>\n",
       "</table>\n",
       "</div>"
      ],
      "text/plain": [
       "   cid  name     type  notnull dflt_value  pk\n",
       "0    0    id      int        0       None   1\n",
       "1    1  year      int        0       None   0\n",
       "2    2  host  varchar        0       None   0"
      ]
     },
     "execution_count": 192,
     "metadata": {},
     "output_type": "execute_result"
    }
   ],
   "source": [
    "sql = 'pragma table_info(ceremonies);'\n",
    "pd.read_sql(sql, conn)"
   ]
  },
  {
   "cell_type": "code",
   "execution_count": 193,
   "metadata": {},
   "outputs": [
    {
     "data": {
      "text/html": [
       "<div>\n",
       "<style scoped>\n",
       "    .dataframe tbody tr th:only-of-type {\n",
       "        vertical-align: middle;\n",
       "    }\n",
       "\n",
       "    .dataframe tbody tr th {\n",
       "        vertical-align: top;\n",
       "    }\n",
       "\n",
       "    .dataframe thead th {\n",
       "        text-align: right;\n",
       "    }\n",
       "</style>\n",
       "<table border=\"1\" class=\"dataframe\">\n",
       "  <thead>\n",
       "    <tr style=\"text-align: right;\">\n",
       "      <th></th>\n",
       "      <th>id</th>\n",
       "      <th>year</th>\n",
       "      <th>category</th>\n",
       "      <th>nominee</th>\n",
       "      <th>movie</th>\n",
       "      <th>character</th>\n",
       "      <th>won</th>\n",
       "    </tr>\n",
       "  </thead>\n",
       "  <tbody>\n",
       "    <tr>\n",
       "      <th>0</th>\n",
       "      <td>1</td>\n",
       "      <td>2010</td>\n",
       "      <td>Actor -- Leading Role</td>\n",
       "      <td>Javier Bardem</td>\n",
       "      <td>Biutiful</td>\n",
       "      <td>Uxbal</td>\n",
       "      <td>0</td>\n",
       "    </tr>\n",
       "    <tr>\n",
       "      <th>1</th>\n",
       "      <td>2</td>\n",
       "      <td>2010</td>\n",
       "      <td>Actor -- Leading Role</td>\n",
       "      <td>Jeff Bridges</td>\n",
       "      <td>True Grit</td>\n",
       "      <td>Rooster Cogburn</td>\n",
       "      <td>0</td>\n",
       "    </tr>\n",
       "    <tr>\n",
       "      <th>2</th>\n",
       "      <td>3</td>\n",
       "      <td>2010</td>\n",
       "      <td>Actor -- Leading Role</td>\n",
       "      <td>Jesse Eisenberg</td>\n",
       "      <td>The Social Network</td>\n",
       "      <td>Mark Zuckerberg</td>\n",
       "      <td>0</td>\n",
       "    </tr>\n",
       "  </tbody>\n",
       "</table>\n",
       "</div>"
      ],
      "text/plain": [
       "   id  year               category          nominee               movie  \\\n",
       "0   1  2010  Actor -- Leading Role    Javier Bardem            Biutiful   \n",
       "1   2  2010  Actor -- Leading Role     Jeff Bridges           True Grit   \n",
       "2   3  2010  Actor -- Leading Role  Jesse Eisenberg  The Social Network   \n",
       "\n",
       "         character  won  \n",
       "0            Uxbal    0  \n",
       "1  Rooster Cogburn    0  \n",
       "2  Mark Zuckerberg    0  "
      ]
     },
     "execution_count": 193,
     "metadata": {},
     "output_type": "execute_result"
    }
   ],
   "source": [
    "sql = 'select * from nominations limit 3'\n",
    "pd.read_sql(sql, conn)"
   ]
  },
  {
   "cell_type": "code",
   "execution_count": 194,
   "metadata": {
    "scrolled": true
   },
   "outputs": [
    {
     "data": {
      "text/html": [
       "<div>\n",
       "<style scoped>\n",
       "    .dataframe tbody tr th:only-of-type {\n",
       "        vertical-align: middle;\n",
       "    }\n",
       "\n",
       "    .dataframe tbody tr th {\n",
       "        vertical-align: top;\n",
       "    }\n",
       "\n",
       "    .dataframe thead th {\n",
       "        text-align: right;\n",
       "    }\n",
       "</style>\n",
       "<table border=\"1\" class=\"dataframe\">\n",
       "  <thead>\n",
       "    <tr style=\"text-align: right;\">\n",
       "      <th></th>\n",
       "      <th>id</th>\n",
       "      <th>year</th>\n",
       "      <th>host</th>\n",
       "    </tr>\n",
       "  </thead>\n",
       "  <tbody>\n",
       "    <tr>\n",
       "      <th>0</th>\n",
       "      <td>1</td>\n",
       "      <td>2000</td>\n",
       "      <td>Billy Crystal</td>\n",
       "    </tr>\n",
       "    <tr>\n",
       "      <th>1</th>\n",
       "      <td>2</td>\n",
       "      <td>2001</td>\n",
       "      <td>Steve Martin</td>\n",
       "    </tr>\n",
       "    <tr>\n",
       "      <th>2</th>\n",
       "      <td>3</td>\n",
       "      <td>2002</td>\n",
       "      <td>Whoopi Goldberg</td>\n",
       "    </tr>\n",
       "  </tbody>\n",
       "</table>\n",
       "</div>"
      ],
      "text/plain": [
       "   id  year             host\n",
       "0   1  2000    Billy Crystal\n",
       "1   2  2001     Steve Martin\n",
       "2   3  2002  Whoopi Goldberg"
      ]
     },
     "execution_count": 194,
     "metadata": {},
     "output_type": "execute_result"
    }
   ],
   "source": [
    "sql = 'select * from ceremonies limit 3'\n",
    "pd.read_sql(sql, conn)"
   ]
  },
  {
   "cell_type": "markdown",
   "metadata": {},
   "source": [
    "### Data transporting done.\n",
    "### Now we return to dataquest and continue the course."
   ]
  },
  {
   "cell_type": "code",
   "execution_count": null,
   "metadata": {},
   "outputs": [],
   "source": []
  },
  {
   "cell_type": "markdown",
   "metadata": {},
   "source": [
    "The `ceremonies` table contains just the information on the actual awards ceremony while the `nominations` table contains just the information on individual nominations. If we had instead stored the `year` and `host` values as columns within the `nominations` table and avoided using a `ceremonies` table altogether, our `nominations` table would look like this:"
   ]
  },
  {
   "cell_type": "code",
   "execution_count": 196,
   "metadata": {
    "scrolled": true
   },
   "outputs": [
    {
     "data": {
      "text/html": [
       "<div>\n",
       "<style scoped>\n",
       "    .dataframe tbody tr th:only-of-type {\n",
       "        vertical-align: middle;\n",
       "    }\n",
       "\n",
       "    .dataframe tbody tr th {\n",
       "        vertical-align: top;\n",
       "    }\n",
       "\n",
       "    .dataframe thead th {\n",
       "        text-align: right;\n",
       "    }\n",
       "</style>\n",
       "<table border=\"1\" class=\"dataframe\">\n",
       "  <thead>\n",
       "    <tr style=\"text-align: right;\">\n",
       "      <th></th>\n",
       "      <th>id</th>\n",
       "      <th>year</th>\n",
       "      <th>category</th>\n",
       "      <th>nominee</th>\n",
       "      <th>movie</th>\n",
       "      <th>character</th>\n",
       "      <th>won</th>\n",
       "      <th>id</th>\n",
       "      <th>year</th>\n",
       "      <th>host</th>\n",
       "    </tr>\n",
       "  </thead>\n",
       "  <tbody>\n",
       "    <tr>\n",
       "      <th>0</th>\n",
       "      <td>1</td>\n",
       "      <td>2010</td>\n",
       "      <td>Actor -- Leading Role</td>\n",
       "      <td>Javier Bardem</td>\n",
       "      <td>Biutiful</td>\n",
       "      <td>Uxbal</td>\n",
       "      <td>0</td>\n",
       "      <td>11</td>\n",
       "      <td>2010</td>\n",
       "      <td>Steve Martin</td>\n",
       "    </tr>\n",
       "    <tr>\n",
       "      <th>1</th>\n",
       "      <td>2</td>\n",
       "      <td>2010</td>\n",
       "      <td>Actor -- Leading Role</td>\n",
       "      <td>Jeff Bridges</td>\n",
       "      <td>True Grit</td>\n",
       "      <td>Rooster Cogburn</td>\n",
       "      <td>0</td>\n",
       "      <td>11</td>\n",
       "      <td>2010</td>\n",
       "      <td>Steve Martin</td>\n",
       "    </tr>\n",
       "    <tr>\n",
       "      <th>2</th>\n",
       "      <td>3</td>\n",
       "      <td>2010</td>\n",
       "      <td>Actor -- Leading Role</td>\n",
       "      <td>Jesse Eisenberg</td>\n",
       "      <td>The Social Network</td>\n",
       "      <td>Mark Zuckerberg</td>\n",
       "      <td>0</td>\n",
       "      <td>11</td>\n",
       "      <td>2010</td>\n",
       "      <td>Steve Martin</td>\n",
       "    </tr>\n",
       "  </tbody>\n",
       "</table>\n",
       "</div>"
      ],
      "text/plain": [
       "   id  year               category          nominee               movie  \\\n",
       "0   1  2010  Actor -- Leading Role    Javier Bardem            Biutiful   \n",
       "1   2  2010  Actor -- Leading Role     Jeff Bridges           True Grit   \n",
       "2   3  2010  Actor -- Leading Role  Jesse Eisenberg  The Social Network   \n",
       "\n",
       "         character  won  id  year          host  \n",
       "0            Uxbal    0  11  2010  Steve Martin  \n",
       "1  Rooster Cogburn    0  11  2010  Steve Martin  \n",
       "2  Mark Zuckerberg    0  11  2010  Steve Martin  "
      ]
     },
     "execution_count": 196,
     "metadata": {},
     "output_type": "execute_result"
    }
   ],
   "source": [
    "sql = '''\n",
    "        select * from nominations N\n",
    "        inner join ceremonies C\n",
    "        on N.year == C.year\n",
    "        limit 3\n",
    "'''\n",
    "pd.read_sql(sql, conn)"
   ]
  },
  {
   "cell_type": "markdown",
   "metadata": {},
   "source": [
    "While this representation is easier to query, since you don't have to do a join each time you want to get the `year` or `host` information, \n",
    "### it has a few problems:\n",
    "\n",
    "* it contains a lot of redundant data, which means the database will take up more disk space and cost more to store.\n",
    "* if we want to update or remove a value in the `year` or `host` columns, we need to update every row that contains that same value. This is cumbersome to remember and can cause human error.\n",
    "* updating or removing many rows can be slow for larger databases. As your data grows bigger, which is often the case with databases used in production, the update and removal speeds become significantly worse.\n",
    "\n",
    "### We instead chose to normalize the data, \n",
    "which involves \n",
    "1. separating data into smaller tables with less redundant information and\n",
    "2. creating relations between the appropriate tables. \n",
    "\n",
    "By having the `year` and `host` columns in a separate `ceremonies` table, we get the following benefits:\n",
    "\n",
    "* much less data redundancy since the actual values for `year` and `host` are only stored in 1 row in `ceremonies`, instead of replicated for each relevant row in nominations.\n",
    "* separation of concerns and ease of updating.\n",
    "\n",
    "You can read more about the benefits of database normalization [here](https://en.wikipedia.org/wiki/Database_normalization#Objectives)."
   ]
  },
  {
   "cell_type": "code",
   "execution_count": null,
   "metadata": {},
   "outputs": [],
   "source": []
  },
  {
   "cell_type": "markdown",
   "metadata": {},
   "source": [
    "There are many types of relations you can create between tables to represent the links between columns. In this mission, we'll focus on the 2 most common relations:\n",
    "\n",
    "* one-to-many.\n",
    "* many-to-many.\n",
    "\n",
    "### A one-to-many relation \n",
    "exists whenever many rows in one table need to relate to one row in the other table. The relation between `ceremonies` and `nominations` is a one-to-many relation since many rows in the `nominations` table can be linked to an individual row in the `ceremonies` table. A row in the `ceremonies` table contains no reference to the `nominations` table. However, many rows in the `nominations` table contain a reference to the `ceremonies` table using the `ceremony_id` **foreign key**.<br>\n",
    "\n",
    "Below is a diagram that demonstrates how multiple rows in the `nominations` table, that share the same `ceremony_id` of `10`, relate to the row in the `ceremonies` table whose id is `10`:\n",
    "\n",
    "![](img/2.png)"
   ]
  },
  {
   "cell_type": "markdown",
   "metadata": {},
   "source": [
    "An important thing to remember in a one-to-many relation is that the reference is one-sided. The `nominations` table contains a foreign key reference to the `id` column in ceremonies but the `ceremonies` table contains no references to values in the `nominations` table.<br>\n",
    "\n",
    "Here are some other examples of one-to-many relations:\n",
    "\n",
    "* a car insurance policy can have multiple people on it, but each person can only belong to one policy.\n",
    "* a mother can have many children, but each child can only have one birth mother.\n",
    "* a reporter can have many articles but each article can only have one associated reporter."
   ]
  },
  {
   "cell_type": "code",
   "execution_count": null,
   "metadata": {},
   "outputs": [],
   "source": []
  },
  {
   "cell_type": "markdown",
   "metadata": {},
   "source": [
    "### As with many things in software development, there is a tradeoff to database normalization.\n",
    "We need to write **longer queries** sometimes and **use joins more often** to grab information from multiple tables. Many companies have databases with hundreds or thousands of tables with many relations in between, so **this can get complicated quickly!** As you become more familiar with querying normalized databases, you'll be able to overcome the added complexity much more easily.<br>\n",
    "\n",
    "To write a query that involves 2 tables that are in a one-to-many relation, **you need to join on the foreign key column that the \"many\" side uses to reference the \"one\" side**. When using the `WHERE` statement to express filtering criteria, we can use columns from both tables. For example, to return all of the movies that won an award in 2010, we'd need to write the following query:\n"
   ]
  },
  {
   "cell_type": "code",
   "execution_count": 198,
   "metadata": {},
   "outputs": [
    {
     "data": {
      "text/html": [
       "<div>\n",
       "<style scoped>\n",
       "    .dataframe tbody tr th:only-of-type {\n",
       "        vertical-align: middle;\n",
       "    }\n",
       "\n",
       "    .dataframe tbody tr th {\n",
       "        vertical-align: top;\n",
       "    }\n",
       "\n",
       "    .dataframe thead th {\n",
       "        text-align: right;\n",
       "    }\n",
       "</style>\n",
       "<table border=\"1\" class=\"dataframe\">\n",
       "  <thead>\n",
       "    <tr style=\"text-align: right;\">\n",
       "      <th></th>\n",
       "      <th>movie</th>\n",
       "    </tr>\n",
       "  </thead>\n",
       "  <tbody>\n",
       "    <tr>\n",
       "      <th>0</th>\n",
       "      <td>Black Swan</td>\n",
       "    </tr>\n",
       "    <tr>\n",
       "      <th>1</th>\n",
       "      <td>The Fighter</td>\n",
       "    </tr>\n",
       "    <tr>\n",
       "      <th>2</th>\n",
       "      <td>The Fighter</td>\n",
       "    </tr>\n",
       "    <tr>\n",
       "      <th>3</th>\n",
       "      <td>The King's Speech</td>\n",
       "    </tr>\n",
       "  </tbody>\n",
       "</table>\n",
       "</div>"
      ],
      "text/plain": [
       "               movie\n",
       "0         Black Swan\n",
       "1        The Fighter\n",
       "2        The Fighter\n",
       "3  The King's Speech"
      ]
     },
     "execution_count": 198,
     "metadata": {},
     "output_type": "execute_result"
    }
   ],
   "source": [
    "sql = '''\n",
    "        select movie from nominations\n",
    "        inner join ceremonies\n",
    "        on nominations.year == ceremonies.year\n",
    "        where ceremonies.year == 2010\n",
    "        and nominations.won == 1;\n",
    "'''\n",
    "pd.read_sql(sql, conn)"
   ]
  },
  {
   "cell_type": "code",
   "execution_count": null,
   "metadata": {},
   "outputs": [],
   "source": []
  },
  {
   "cell_type": "markdown",
   "metadata": {},
   "source": [
    "In the `WHERE` statement, we expressed that we were only interested in rows where the `year` value was `2010` from the `ceremonies` table and where the `won` value was `1` from the `nominations` table. <br>\n",
    "\n",
    "When joining 2 tables, you can be more explicit about which columns you want returned from which tables using dot notation -- e.g. `nominations.movie`. In the following query, we modified the earlier query to select the `year` and `host` columns from `ceremonies` and the `movie` and `nominee` columns from `nominations`:"
   ]
  },
  {
   "cell_type": "code",
   "execution_count": 199,
   "metadata": {},
   "outputs": [
    {
     "data": {
      "text/html": [
       "<div>\n",
       "<style scoped>\n",
       "    .dataframe tbody tr th:only-of-type {\n",
       "        vertical-align: middle;\n",
       "    }\n",
       "\n",
       "    .dataframe tbody tr th {\n",
       "        vertical-align: top;\n",
       "    }\n",
       "\n",
       "    .dataframe thead th {\n",
       "        text-align: right;\n",
       "    }\n",
       "</style>\n",
       "<table border=\"1\" class=\"dataframe\">\n",
       "  <thead>\n",
       "    <tr style=\"text-align: right;\">\n",
       "      <th></th>\n",
       "      <th>year</th>\n",
       "      <th>host</th>\n",
       "      <th>movie</th>\n",
       "      <th>nominee</th>\n",
       "    </tr>\n",
       "  </thead>\n",
       "  <tbody>\n",
       "    <tr>\n",
       "      <th>0</th>\n",
       "      <td>2010</td>\n",
       "      <td>Steve Martin</td>\n",
       "      <td>The Fighter</td>\n",
       "      <td>Amy Adams</td>\n",
       "    </tr>\n",
       "    <tr>\n",
       "      <th>1</th>\n",
       "      <td>2010</td>\n",
       "      <td>Steve Martin</td>\n",
       "      <td>The Kids Are All Right</td>\n",
       "      <td>Annette Bening</td>\n",
       "    </tr>\n",
       "    <tr>\n",
       "      <th>2</th>\n",
       "      <td>2010</td>\n",
       "      <td>Steve Martin</td>\n",
       "      <td>The Fighter</td>\n",
       "      <td>Christian Bale</td>\n",
       "    </tr>\n",
       "  </tbody>\n",
       "</table>\n",
       "</div>"
      ],
      "text/plain": [
       "   year          host                   movie         nominee\n",
       "0  2010  Steve Martin             The Fighter       Amy Adams\n",
       "1  2010  Steve Martin  The Kids Are All Right  Annette Bening\n",
       "2  2010  Steve Martin             The Fighter  Christian Bale"
      ]
     },
     "execution_count": 199,
     "metadata": {},
     "output_type": "execute_result"
    }
   ],
   "source": [
    "sql = '''\n",
    "        select ceremonies.year,\n",
    "            ceremonies.host,\n",
    "            nominations.movie,\n",
    "            nominations.nominee\n",
    "        from nominations\n",
    "        inner join ceremonies\n",
    "        on nominations.year ==\n",
    "            ceremonies.year\n",
    "        where ceremonies.year == 2010\n",
    "        limit 3;\n",
    "'''\n",
    "pd.read_sql(sql, conn)"
   ]
  },
  {
   "cell_type": "code",
   "execution_count": null,
   "metadata": {},
   "outputs": [],
   "source": []
  },
  {
   "cell_type": "markdown",
   "metadata": {},
   "source": [
    "In the denormalized schema, which had the `year` and `host` columns in `nominations` itself, we'd only need to write the following query to accomplish the same result:\n",
    "\n",
    "```sql\n",
    "        select movie from nominations\n",
    "        where nominations.year == 2010\n",
    "        limit 3;\n",
    "```"
   ]
  },
  {
   "cell_type": "code",
   "execution_count": null,
   "metadata": {},
   "outputs": [],
   "source": []
  },
  {
   "cell_type": "markdown",
   "metadata": {},
   "source": [
    "#### instructions\n",
    "* We've imported the `sqlite3` library for you already and connected to the `academy_awards.db` database. The Connection instance is named `conn`. <br>\n",
    "* Write a query that returns all of the years that the actress `Natalie Portman` was nominated for an award.\n",
    "  * Only return the `year` column from `ceremonies` and the `movie` column from `nominations`.\n",
    "  * Run the query and assign the full results list to the variable `portman_movies`.\n",
    "  * Then display `portman_movies` using the `print` function."
   ]
  },
  {
   "cell_type": "code",
   "execution_count": 200,
   "metadata": {},
   "outputs": [
    {
     "name": "stdout",
     "output_type": "stream",
     "text": [
      "(2010, 'Black Swan')\n",
      "(2004, 'Closer')\n"
     ]
    }
   ],
   "source": [
    "sql = '''\n",
    "        select C.year, N.movie\n",
    "        from ceremonies C\n",
    "        inner join nominations N\n",
    "        on C.year == N.year\n",
    "        where N.nominee == \"Natalie Portman\"\n",
    "'''\n",
    "\n",
    "portman_movies = conn.execute(sql).fetchall()\n",
    "\n",
    "for mov in portman_movies:\n",
    "    print(mov)"
   ]
  },
  {
   "cell_type": "code",
   "execution_count": null,
   "metadata": {},
   "outputs": [],
   "source": []
  },
  {
   "cell_type": "markdown",
   "metadata": {},
   "source": [
    "If we wanted to extend our analysis to study how Academy Awards affect a nominee's career, we'd need to first add more data on which movies each actor starred in. We need a way to represent the relation between `actors` and `movies`. Our first instinct might be to use a movies table, an `actors` table, and specify a one-to-many relationship between them. The `movies` table could contain an `actor_id` field that acts as a **foreign key** reference to the `id` column from the `actors` table. <br>\n",
    "\n",
    "We immediately run into a road block. Each movie contains many `actors` and since the `actor_id` column would be an integer field, we have no way to reference multiple rows from the `actors` table. We could have a separate row in movies where each row contains a different value for `actor_id` and cover all the `actors` in the movie that way. This unfortunately means a large amount of data duplication, since the rest of the columns describing that movie probably won't be different.\n",
    "\n",
    "What if we had a list data type where we could store multiple values:\n",
    "\n",
    "id|movie|actors\n",
    "---|---|---\n",
    "1|The Fighter|Christian Bale, Amy Adams, ...\n",
    "2|Doubt|Meryl Streep, Amy Adams, ...\n",
    "3|Junebug|Embeth Davidtz, Amy Adams, ..."
   ]
  },
  {
   "cell_type": "markdown",
   "metadata": {},
   "source": [
    "SQLite unfortunately doesn't contain a list data type, so we can't simply store the list of actor names. While some other databases do contain a list data type, this is still a poor design for our data. While searching for a movie by name would be a simple `SELECT` query, searching by actors would be incredibly cumbersome and slow.<br>\n",
    "\n",
    "You may have noticed that the actress **Amy Adams** stars in all 3 of the movies above. If we wanted to write a query that searched every element in the `actors` list for every row in `movies`, the query would take a long time to return as our table starts to hold more than a few thousand movies. We can't use a one-to-many relation since SQLite, and many databases, don't contain a list data type and it would be inefficient to query."
   ]
  },
  {
   "cell_type": "markdown",
   "metadata": {},
   "source": [
    "The right way to model actors and movies is to use a many-to-many relation. A **many-to-many** relation allows us to flexibly represent both:\n",
    "\n",
    "* the actors in a movie and\n",
    "* the movies an actor has starred in.\n",
    "\n",
    "### To represent a many-to-many relation, we need to use an intermediate table called a **join table**, which we'll learn more about in the next screen."
   ]
  },
  {
   "cell_type": "code",
   "execution_count": null,
   "metadata": {},
   "outputs": [],
   "source": []
  },
  {
   "cell_type": "markdown",
   "metadata": {},
   "source": [
    "# Many-to-many relation\n",
    "\n",
    "To model a many-to-many relationship, we need to create a separate table that contains the foreign keys to each of the tables that we're creating a many-to-many relationship between. This table is called a **join table**, but is often referenced by [many other names](https://en.wikipedia.org/wiki/Associative_entity). The rows in the join table contain the foreign keys to the 2 other tables. Here's what a join table representing the many-to-many relationship between movies and actors would look:\n",
    "\n",
    "![](img/3.png)"
   ]
  },
  {
   "cell_type": "code",
   "execution_count": null,
   "metadata": {},
   "outputs": [],
   "source": []
  },
  {
   "cell_type": "markdown",
   "metadata": {},
   "source": [
    "In a many-to-many relation, we separate the data contained within the rows with the actual relation between the rows. This means we can, for example, edit a movie's name without touching the many actor records that are related to that movie. Each table above has it's own `id` column:\n",
    "\n",
    "* the `movies.id` column is used as a foreign key reference by the `movies_actors.movie_id` column.\n",
    "* the `actors.id` column is used as a foreign key reference by the `movies_actors.actor_id` column.\n",
    "* the `movies_actors.id` column is used just to uniquely identify each row in `movies_actors`.\n",
    "\n",
    "The `movies_actors` table is no different than any other table in our database and \n",
    "### it's role as a join table between `movies` and `actors` is a design pattern. \n",
    "\n",
    "For example, we can add more columns to the `movies_actors` table just like with any other table. We could take advantage of this to add attributes that are specific to that movie-actor combination (e.g. `Salary` or `Awards Nominated`). <br>\n",
    "\n",
    "Creating a join table is similar to creating a regular table except that \n",
    "### there need to be 2 foreign columns that reference the 2 tables in the many-to-many relationship:"
   ]
  },
  {
   "cell_type": "code",
   "execution_count": null,
   "metadata": {},
   "outputs": [],
   "source": []
  },
  {
   "cell_type": "markdown",
   "metadata": {},
   "source": [
    "### 1. Create many-to-many join table using pandas."
   ]
  },
  {
   "cell_type": "code",
   "execution_count": 201,
   "metadata": {},
   "outputs": [],
   "source": [
    "sql = 'drop table if exists movies_actors;'\n",
    "conn.execute(sql); conn.commit()"
   ]
  },
  {
   "cell_type": "code",
   "execution_count": 202,
   "metadata": {
    "collapsed": true
   },
   "outputs": [
    {
     "data": {
      "text/plain": [
       "Cate Blanchett            4\n",
       "Judi Dench                4\n",
       "Meryl Streep              4\n",
       "Kate Winslet              4\n",
       "Javier Bardem             3\n",
       "Renée Zellweger           3\n",
       "Helen Mirren              3\n",
       "Sean Penn                 3\n",
       "Laura Linney              3\n",
       "Johnny Depp               3\n",
       "Philip Seymour Hoffman    3\n",
       "Jeff Bridges              3\n",
       "George Clooney            3\n",
       "Amy Adams                 3\n",
       "Penélope Cruz             3\n",
       "Nicole Kidman             3\n",
       "Colin Firth               2\n",
       "Benicio Del Toro          2\n",
       "Djimon Hounsou            2\n",
       "Tom Wilkinson             2\n",
       "Jeremy Renner             2\n",
       "Geoffrey Rush             2\n",
       "Marcia Gay Harden         2\n",
       "Melissa Leo               2\n",
       "Marisa Tomei              2\n",
       "Ed Harris                 2\n",
       "Frances McDormand         2\n",
       "Heath Ledger              2\n",
       "Michelle Williams         2\n",
       "Natalie Portman           2\n",
       "                         ..\n",
       "Casey Affleck             1\n",
       "Mo'Nique                  1\n",
       "Eddie Murphy              1\n",
       "Saoirse Ronan             1\n",
       "Denzel Washington         1\n",
       "Sandra Bullock            1\n",
       "Albert Finney             1\n",
       "Kathy Bates               1\n",
       "Christian Bale            1\n",
       "Viola Davis               1\n",
       "Marion Cotillard          1\n",
       "Ryan Gosling              1\n",
       "Ken Watanabe              1\n",
       "Clive Owen                1\n",
       "Adrien Brody              1\n",
       "Mickey Rourke             1\n",
       "Ethan Hawke               1\n",
       "Jackie Earle Haley        1\n",
       "Felicity Huffman          1\n",
       "Alec Baldwin              1\n",
       "Julie Walters             1\n",
       "Maggie Gyllenhaal         1\n",
       "Maggie Smith              1\n",
       "John C. Reilly            1\n",
       "Jacki Weaver              1\n",
       "Keisha Castle-Hughes      1\n",
       "Woody Harrelson           1\n",
       "Christoph Waltz           1\n",
       "Viggo Mortensen           1\n",
       "Chris Cooper              1\n",
       "Name: nominee, Length: 159, dtype: int64"
      ]
     },
     "execution_count": 202,
     "metadata": {},
     "output_type": "execute_result"
    }
   ],
   "source": [
    "nominations.nominee.value_counts()"
   ]
  },
  {
   "cell_type": "code",
   "execution_count": 118,
   "metadata": {
    "collapsed": true
   },
   "outputs": [
    {
     "data": {
      "text/plain": [
       "From Here to Eternity              5\n",
       "Bonnie and Clyde                   5\n",
       "Tom Jones                          5\n",
       "Peyton Place                       5\n",
       "Network                            5\n",
       "All about Eve                      5\n",
       "On the Waterfront                  5\n",
       "Mrs. Miniver                       5\n",
       "The Godfather Part II              5\n",
       "Who's Afraid of Virginia Woolf?    4\n",
       "My Man Godfrey                     4\n",
       "Terms of Endearment                4\n",
       "Coming Home                        4\n",
       "The Defiant Ones                   4\n",
       "Chicago                            4\n",
       "A Star Is Born                     4\n",
       "The Last Picture Show              4\n",
       "The Turning Point                  4\n",
       "Guess Who's Coming to Dinner       4\n",
       "Othello                            4\n",
       "Gentleman's Agreement              4\n",
       "The Song of Bernadette             4\n",
       "For Whom the Bell Tolls            4\n",
       "Judgment at Nuremberg              4\n",
       "The Godfather                      4\n",
       "Kramer vs. Kramer                  4\n",
       "Johnny Belinda                     4\n",
       "Reds                               4\n",
       "Gone with the Wind                 4\n",
       "A Streetcar Named Desire           4\n",
       "                                  ..\n",
       "Holiday                            1\n",
       "Vicky Cristina Barcelona           1\n",
       "Saving Private Ryan                1\n",
       "Sarah and Son                      1\n",
       "Music Box                          1\n",
       "The Thin Man                       1\n",
       "The Lovely Bones                   1\n",
       "Little Voice                       1\n",
       "One True Thing                     1\n",
       "Frost/Nixon                        1\n",
       "The Day of the Locust              1\n",
       "When My Baby Smiles at Me          1\n",
       "Lonelyhearts                       1\n",
       "The Reader                         1\n",
       "Irma La Douce                      1\n",
       "The Picture of Dorian Gray         1\n",
       "Something's Gotta Give             1\n",
       "Crimes and Misdemeanors            1\n",
       "Blue Sky                           1\n",
       "The Keys of the Kingdom            1\n",
       "Sweet Dreams                       1\n",
       "Pride & Prejudice                  1\n",
       "A Medal for Benny                  1\n",
       "Cavalcade                          1\n",
       "Rosemary's Baby                    1\n",
       "Min and Bill                       1\n",
       "The Black Stallion                 1\n",
       "The Way We Were                    1\n",
       "Black Swan                         1\n",
       "The Citadel                        1\n",
       "Name: movie, Length: 1041, dtype: int64"
      ]
     },
     "execution_count": 118,
     "metadata": {},
     "output_type": "execute_result"
    }
   ],
   "source": [
    "nominations.movie.value_counts()"
   ]
  },
  {
   "cell_type": "code",
   "execution_count": 203,
   "metadata": {},
   "outputs": [
    {
     "data": {
      "text/html": [
       "<div>\n",
       "<style scoped>\n",
       "    .dataframe tbody tr th:only-of-type {\n",
       "        vertical-align: middle;\n",
       "    }\n",
       "\n",
       "    .dataframe tbody tr th {\n",
       "        vertical-align: top;\n",
       "    }\n",
       "\n",
       "    .dataframe thead th {\n",
       "        text-align: right;\n",
       "    }\n",
       "</style>\n",
       "<table border=\"1\" class=\"dataframe\">\n",
       "  <thead>\n",
       "    <tr style=\"text-align: right;\">\n",
       "      <th></th>\n",
       "      <th>id</th>\n",
       "      <th>movie</th>\n",
       "    </tr>\n",
       "  </thead>\n",
       "  <tbody>\n",
       "    <tr>\n",
       "      <th>0</th>\n",
       "      <td>1</td>\n",
       "      <td>Biutiful</td>\n",
       "    </tr>\n",
       "    <tr>\n",
       "      <th>1</th>\n",
       "      <td>2</td>\n",
       "      <td>True Grit</td>\n",
       "    </tr>\n",
       "    <tr>\n",
       "      <th>2</th>\n",
       "      <td>3</td>\n",
       "      <td>The Social Network</td>\n",
       "    </tr>\n",
       "    <tr>\n",
       "      <th>3</th>\n",
       "      <td>4</td>\n",
       "      <td>The King's Speech</td>\n",
       "    </tr>\n",
       "    <tr>\n",
       "      <th>4</th>\n",
       "      <td>5</td>\n",
       "      <td>127 Hours</td>\n",
       "    </tr>\n",
       "  </tbody>\n",
       "</table>\n",
       "</div>"
      ],
      "text/plain": [
       "   id               movie\n",
       "0   1            Biutiful\n",
       "1   2           True Grit\n",
       "2   3  The Social Network\n",
       "3   4   The King's Speech\n",
       "4   5           127 Hours"
      ]
     },
     "execution_count": 203,
     "metadata": {},
     "output_type": "execute_result"
    }
   ],
   "source": [
    "# create movies dataframe\n",
    "\n",
    "movies = pd.DataFrame(nominations['movie'].unique(),\\\n",
    "                      columns=['movie'])\n",
    "movies['id'] = movies.index + 1\n",
    "movies = movies[['id', 'movie']]\n",
    "\n",
    "movies.head()"
   ]
  },
  {
   "cell_type": "code",
   "execution_count": 209,
   "metadata": {},
   "outputs": [
    {
     "data": {
      "text/plain": [
       "dtype('int64')"
      ]
     },
     "execution_count": 209,
     "metadata": {},
     "output_type": "execute_result"
    }
   ],
   "source": [
    "movies.id.dtype"
   ]
  },
  {
   "cell_type": "code",
   "execution_count": null,
   "metadata": {},
   "outputs": [],
   "source": []
  },
  {
   "cell_type": "code",
   "execution_count": 204,
   "metadata": {},
   "outputs": [
    {
     "data": {
      "text/html": [
       "<div>\n",
       "<style scoped>\n",
       "    .dataframe tbody tr th:only-of-type {\n",
       "        vertical-align: middle;\n",
       "    }\n",
       "\n",
       "    .dataframe tbody tr th {\n",
       "        vertical-align: top;\n",
       "    }\n",
       "\n",
       "    .dataframe thead th {\n",
       "        text-align: right;\n",
       "    }\n",
       "</style>\n",
       "<table border=\"1\" class=\"dataframe\">\n",
       "  <thead>\n",
       "    <tr style=\"text-align: right;\">\n",
       "      <th></th>\n",
       "      <th>id</th>\n",
       "      <th>actor</th>\n",
       "    </tr>\n",
       "  </thead>\n",
       "  <tbody>\n",
       "    <tr>\n",
       "      <th>0</th>\n",
       "      <td>1</td>\n",
       "      <td>Javier Bardem</td>\n",
       "    </tr>\n",
       "    <tr>\n",
       "      <th>1</th>\n",
       "      <td>2</td>\n",
       "      <td>Jeff Bridges</td>\n",
       "    </tr>\n",
       "    <tr>\n",
       "      <th>2</th>\n",
       "      <td>3</td>\n",
       "      <td>Jesse Eisenberg</td>\n",
       "    </tr>\n",
       "    <tr>\n",
       "      <th>3</th>\n",
       "      <td>4</td>\n",
       "      <td>Colin Firth</td>\n",
       "    </tr>\n",
       "    <tr>\n",
       "      <th>4</th>\n",
       "      <td>5</td>\n",
       "      <td>James Franco</td>\n",
       "    </tr>\n",
       "  </tbody>\n",
       "</table>\n",
       "</div>"
      ],
      "text/plain": [
       "   id            actor\n",
       "0   1    Javier Bardem\n",
       "1   2     Jeff Bridges\n",
       "2   3  Jesse Eisenberg\n",
       "3   4      Colin Firth\n",
       "4   5     James Franco"
      ]
     },
     "execution_count": 204,
     "metadata": {},
     "output_type": "execute_result"
    }
   ],
   "source": [
    "# create actors dataframe\n",
    "\n",
    "actors = pd.DataFrame(nominations['nominee'].unique(),\\\n",
    "                     columns=['actor'])\n",
    "actors['id'] = actors.index + 1\n",
    "actors = actors[['id', 'actor']]\n",
    "\n",
    "actors.head()"
   ]
  },
  {
   "cell_type": "code",
   "execution_count": 211,
   "metadata": {},
   "outputs": [
    {
     "data": {
      "text/plain": [
       "dtype('int64')"
      ]
     },
     "execution_count": 211,
     "metadata": {},
     "output_type": "execute_result"
    }
   ],
   "source": [
    "actors.id.dtype"
   ]
  },
  {
   "cell_type": "code",
   "execution_count": null,
   "metadata": {},
   "outputs": [],
   "source": []
  },
  {
   "cell_type": "code",
   "execution_count": 219,
   "metadata": {},
   "outputs": [
    {
     "data": {
      "text/html": [
       "<div>\n",
       "<style scoped>\n",
       "    .dataframe tbody tr th:only-of-type {\n",
       "        vertical-align: middle;\n",
       "    }\n",
       "\n",
       "    .dataframe tbody tr th {\n",
       "        vertical-align: top;\n",
       "    }\n",
       "\n",
       "    .dataframe thead th {\n",
       "        text-align: right;\n",
       "    }\n",
       "</style>\n",
       "<table border=\"1\" class=\"dataframe\">\n",
       "  <thead>\n",
       "    <tr style=\"text-align: right;\">\n",
       "      <th></th>\n",
       "      <th>movie_id</th>\n",
       "      <th>actor_id</th>\n",
       "    </tr>\n",
       "  </thead>\n",
       "  <tbody>\n",
       "  </tbody>\n",
       "</table>\n",
       "</div>"
      ],
      "text/plain": [
       "Empty DataFrame\n",
       "Columns: [movie_id, actor_id]\n",
       "Index: []"
      ]
     },
     "execution_count": 219,
     "metadata": {},
     "output_type": "execute_result"
    }
   ],
   "source": [
    "# create empty dataframe to stack movies.id and actors.id matched.\n",
    "\n",
    "movies_actors = pd.DataFrame(columns=['movie_id', 'actor_id'])\n",
    "movies_actors"
   ]
  },
  {
   "cell_type": "code",
   "execution_count": 220,
   "metadata": {},
   "outputs": [
    {
     "data": {
      "text/html": [
       "<div>\n",
       "<style scoped>\n",
       "    .dataframe tbody tr th:only-of-type {\n",
       "        vertical-align: middle;\n",
       "    }\n",
       "\n",
       "    .dataframe tbody tr th {\n",
       "        vertical-align: top;\n",
       "    }\n",
       "\n",
       "    .dataframe thead th {\n",
       "        text-align: right;\n",
       "    }\n",
       "</style>\n",
       "<table border=\"1\" class=\"dataframe\">\n",
       "  <thead>\n",
       "    <tr style=\"text-align: right;\">\n",
       "      <th></th>\n",
       "      <th>movie</th>\n",
       "      <th>nominee</th>\n",
       "    </tr>\n",
       "  </thead>\n",
       "  <tbody>\n",
       "    <tr>\n",
       "      <th>0</th>\n",
       "      <td>Biutiful</td>\n",
       "      <td>Javier Bardem</td>\n",
       "    </tr>\n",
       "    <tr>\n",
       "      <th>1</th>\n",
       "      <td>True Grit</td>\n",
       "      <td>Jeff Bridges</td>\n",
       "    </tr>\n",
       "    <tr>\n",
       "      <th>2</th>\n",
       "      <td>The Social Network</td>\n",
       "      <td>Jesse Eisenberg</td>\n",
       "    </tr>\n",
       "    <tr>\n",
       "      <th>3</th>\n",
       "      <td>The King's Speech</td>\n",
       "      <td>Colin Firth</td>\n",
       "    </tr>\n",
       "    <tr>\n",
       "      <th>4</th>\n",
       "      <td>127 Hours</td>\n",
       "      <td>James Franco</td>\n",
       "    </tr>\n",
       "  </tbody>\n",
       "</table>\n",
       "</div>"
      ],
      "text/plain": [
       "                movie          nominee\n",
       "0            Biutiful    Javier Bardem\n",
       "1           True Grit     Jeff Bridges\n",
       "2  The Social Network  Jesse Eisenberg\n",
       "3   The King's Speech      Colin Firth\n",
       "4           127 Hours     James Franco"
      ]
     },
     "execution_count": 220,
     "metadata": {},
     "output_type": "execute_result"
    }
   ],
   "source": [
    "# match many-to-many relationship between movies - actors.\n",
    "# matching standard = nominations (dataframe)\n",
    "\n",
    "pairs_df = nominations[['movie', 'nominee']]\n",
    "pairs_df.head()"
   ]
  },
  {
   "cell_type": "code",
   "execution_count": 221,
   "metadata": {},
   "outputs": [],
   "source": [
    "actors_ids, movies_ids = [], []\n",
    "\n",
    "for i in range(pairs_df.shape[0]):\n",
    "    \n",
    "    row = pairs_df.iloc[i]\n",
    "    \n",
    "    row_actor = row['nominee']\n",
    "    row_movie = row['movie']\n",
    "    \n",
    "    row_actor_id = actors[actors.actor==row_actor].id.values[0]\n",
    "    row_movie_id = movies[movies.movie==row_movie].id.values[0]\n",
    "    \n",
    "    actors_ids.append(row_actor_id)\n",
    "    movies_ids.append(row_movie_id)\n",
    "    "
   ]
  },
  {
   "cell_type": "code",
   "execution_count": 224,
   "metadata": {
    "scrolled": true
   },
   "outputs": [
    {
     "data": {
      "text/html": [
       "<div>\n",
       "<style scoped>\n",
       "    .dataframe tbody tr th:only-of-type {\n",
       "        vertical-align: middle;\n",
       "    }\n",
       "\n",
       "    .dataframe tbody tr th {\n",
       "        vertical-align: top;\n",
       "    }\n",
       "\n",
       "    .dataframe thead th {\n",
       "        text-align: right;\n",
       "    }\n",
       "</style>\n",
       "<table border=\"1\" class=\"dataframe\">\n",
       "  <thead>\n",
       "    <tr style=\"text-align: right;\">\n",
       "      <th></th>\n",
       "      <th>movie_id</th>\n",
       "      <th>id</th>\n",
       "      <th>actor_id</th>\n",
       "    </tr>\n",
       "  </thead>\n",
       "  <tbody>\n",
       "    <tr>\n",
       "      <th>0</th>\n",
       "      <td>1</td>\n",
       "      <td>1</td>\n",
       "      <td>1</td>\n",
       "    </tr>\n",
       "    <tr>\n",
       "      <th>1</th>\n",
       "      <td>2</td>\n",
       "      <td>2</td>\n",
       "      <td>2</td>\n",
       "    </tr>\n",
       "    <tr>\n",
       "      <th>2</th>\n",
       "      <td>3</td>\n",
       "      <td>3</td>\n",
       "      <td>3</td>\n",
       "    </tr>\n",
       "    <tr>\n",
       "      <th>3</th>\n",
       "      <td>4</td>\n",
       "      <td>4</td>\n",
       "      <td>4</td>\n",
       "    </tr>\n",
       "    <tr>\n",
       "      <th>4</th>\n",
       "      <td>5</td>\n",
       "      <td>5</td>\n",
       "      <td>5</td>\n",
       "    </tr>\n",
       "  </tbody>\n",
       "</table>\n",
       "</div>"
      ],
      "text/plain": [
       "   movie_id  id  actor_id\n",
       "0         1   1         1\n",
       "1         2   2         2\n",
       "2         3   3         3\n",
       "3         4   4         4\n",
       "4         5   5         5"
      ]
     },
     "execution_count": 224,
     "metadata": {},
     "output_type": "execute_result"
    }
   ],
   "source": [
    "movies_actors['movie_id'] = movies_ids\n",
    "movies_actors['actor_id'] = actors_ids\n",
    "movies_actors['id'] = movies_actors.index + 1\n",
    "\n",
    "movies_actors = movies_actors[['movie_id', 'id', 'actor_id']]\n",
    "movies_actors.head()"
   ]
  },
  {
   "cell_type": "code",
   "execution_count": null,
   "metadata": {},
   "outputs": [],
   "source": []
  },
  {
   "cell_type": "markdown",
   "metadata": {},
   "source": [
    "### Input 3 dataframes to sql tables."
   ]
  },
  {
   "cell_type": "code",
   "execution_count": 225,
   "metadata": {},
   "outputs": [],
   "source": [
    "conn.execute('drop table if exists movies'); conn.commit()\n",
    "conn.execute('drop table if exists actors'); conn.commit()\n",
    "conn.execute('drop table if exists movies_actors'); conn.commit()"
   ]
  },
  {
   "cell_type": "code",
   "execution_count": 226,
   "metadata": {},
   "outputs": [],
   "source": [
    "sql = '''\n",
    "        create table movies (\n",
    "            id integer primary key,\n",
    "            movie varchar\n",
    "        );\n",
    "'''\n",
    "\n",
    "conn.execute(sql); conn.commit()\n",
    "\n",
    "sql = '''\n",
    "        create table actors (\n",
    "            id integer primary key,\n",
    "            actor varchar\n",
    "        );\n",
    "'''\n",
    "conn.execute(sql); conn.commit()"
   ]
  },
  {
   "cell_type": "code",
   "execution_count": 227,
   "metadata": {},
   "outputs": [],
   "source": [
    "# insert data into table 'movies'\n",
    "\n",
    "for i in range(movies.shape[0]):\n",
    "    \n",
    "    row = movies.iloc[i]\n",
    "    \n",
    "    sql = '''\n",
    "            insert into movies\n",
    "            values (%d, \"%s\")\n",
    "    ''' % (row['id'], row['movie'])\n",
    "    \n",
    "    cursor.execute(sql)\n",
    "    conn.commit()"
   ]
  },
  {
   "cell_type": "code",
   "execution_count": 228,
   "metadata": {},
   "outputs": [],
   "source": [
    "# insert data into table 'actors'\n",
    "\n",
    "for i in range(actors.shape[0]):\n",
    "    \n",
    "    row = actors.iloc[i]\n",
    "    \n",
    "    sql = '''\n",
    "            insert into actors\n",
    "            values (%d, \"%s\")\n",
    "    ''' % (row['id'], row['actor'])\n",
    "    \n",
    "    cursor.execute(sql)\n",
    "    conn.commit()"
   ]
  },
  {
   "cell_type": "code",
   "execution_count": 229,
   "metadata": {},
   "outputs": [],
   "source": [
    "sql = '''\n",
    "        create table movies_actors (\n",
    "            id integer primary key,\n",
    "            movie_id integer,\n",
    "            actor_id integer,\n",
    "            foreign key(movie_id) references movies(id)\n",
    "            foreign key(actor_id) references actors(id)\n",
    "        );\n",
    "'''\n",
    "\n",
    "conn.execute(sql); conn.commit()"
   ]
  },
  {
   "cell_type": "code",
   "execution_count": 230,
   "metadata": {
    "scrolled": true
   },
   "outputs": [],
   "source": [
    "# insert data into table 'movies_actors'\n",
    "\n",
    "for i in range(movies_actors.shape[0]):\n",
    "    \n",
    "    row = movies_actors.iloc[i]\n",
    "    \n",
    "    sql = '''\n",
    "            insert into movies_actors \n",
    "            values (%d, %d, %d)\n",
    "    ''' % (row['id'], row['movie_id'], row['actor_id'])\n",
    "    \n",
    "    cursor.execute(sql)\n",
    "    conn.commit()\n"
   ]
  },
  {
   "cell_type": "code",
   "execution_count": null,
   "metadata": {},
   "outputs": [],
   "source": []
  },
  {
   "cell_type": "markdown",
   "metadata": {},
   "source": [
    "Let's explore the data in these tables we just discussed a bit further. We've added information about all of the actors and movies from the `nominations` table to the `movies`, `actors`, and `movies_actors` tables. This will enable us to practice using many-to-many relations"
   ]
  },
  {
   "cell_type": "code",
   "execution_count": null,
   "metadata": {},
   "outputs": [],
   "source": []
  },
  {
   "cell_type": "markdown",
   "metadata": {},
   "source": [
    "#### instructions\n",
    "* Write a query that returns the first 5 rows in `movies_actors` and assign the results to `five_join_table`.\n",
    "* Write a query that returns the first 5 rows in `actors` and assign the results to `five_actors`.\n",
    "* Write a query that returns the first 5 rows in `movies` and assign the results to `five_movies`.\n",
    "* Then use the print function to display `five_join_table`, `five_actors`, and `five_movies`."
   ]
  },
  {
   "cell_type": "code",
   "execution_count": 231,
   "metadata": {
    "scrolled": true
   },
   "outputs": [
    {
     "name": "stdout",
     "output_type": "stream",
     "text": [
      "five_join_table : (1, 1, 1)\n",
      "five_actors : (1, 'Javier Bardem')\n",
      "five_movies : (1, 'Biutiful')\n",
      "five_join_table : (2, 2, 2)\n",
      "five_actors : (2, 'Jeff Bridges')\n",
      "five_movies : (2, 'True Grit')\n",
      "five_join_table : (3, 3, 3)\n",
      "five_actors : (3, 'Jesse Eisenberg')\n",
      "five_movies : (3, 'The Social Network')\n",
      "five_join_table : (4, 4, 4)\n",
      "five_actors : (4, 'Colin Firth')\n",
      "five_movies : (4, \"The King's Speech\")\n",
      "five_join_table : (5, 5, 5)\n",
      "five_actors : (5, 'James Franco')\n",
      "five_movies : (5, '127 Hours')\n"
     ]
    }
   ],
   "source": [
    "# first 5 rows in movies_actors and assign the results\n",
    "sql = '''\n",
    "        select * from movies_actors limit 5\n",
    "'''\n",
    "five_join_table = conn.execute(sql).fetchall()\n",
    "\n",
    "\n",
    "# first 5 rows in actors and assign the results\n",
    "sql = '''\n",
    "        select * from actors limit 5\n",
    "'''\n",
    "five_actors = conn.execute(sql).fetchall()\n",
    "\n",
    "\n",
    "# first 5 rows in movies and assign the results\n",
    "sql = '''\n",
    "        select * from movies limit 5\n",
    "'''\n",
    "five_movies = conn.execute(sql).fetchall()\n",
    "\n",
    "\n",
    "# display five_join_table, five_actors, five_movies.\n",
    "\n",
    "for j, a, m in zip(five_join_table, five_actors, five_movies):\n",
    "    \n",
    "    print('five_join_table :', j)\n",
    "    print('five_actors :', a)\n",
    "    print('five_movies :', m)"
   ]
  },
  {
   "cell_type": "code",
   "execution_count": null,
   "metadata": {},
   "outputs": [],
   "source": []
  },
  {
   "cell_type": "markdown",
   "metadata": {},
   "source": [
    "Recall that the values in our join table, `movies_actors`, are all just *integer* id values that refer to different rows in the `movies` and `actors` tables. If we wanted to know the actors who starred in `The Fighter` that were nominated for an Academy Award between 2001 and 2010, we'd have to use multiple joins in our query across all 3 tables.<br>\n",
    "\n",
    "Let's first join the `movies` table with the `movies_actors` table:\n"
   ]
  },
  {
   "cell_type": "code",
   "execution_count": 239,
   "metadata": {},
   "outputs": [
    {
     "data": {
      "text/html": [
       "<div>\n",
       "<style scoped>\n",
       "    .dataframe tbody tr th:only-of-type {\n",
       "        vertical-align: middle;\n",
       "    }\n",
       "\n",
       "    .dataframe tbody tr th {\n",
       "        vertical-align: top;\n",
       "    }\n",
       "\n",
       "    .dataframe thead th {\n",
       "        text-align: right;\n",
       "    }\n",
       "</style>\n",
       "<table border=\"1\" class=\"dataframe\">\n",
       "  <thead>\n",
       "    <tr style=\"text-align: right;\">\n",
       "      <th></th>\n",
       "      <th>movies.id</th>\n",
       "      <th>movies.movie</th>\n",
       "      <th>movies_actors.id</th>\n",
       "      <th>movies_actors.movie_id</th>\n",
       "      <th>movies_actors.actor_id</th>\n",
       "    </tr>\n",
       "  </thead>\n",
       "  <tbody>\n",
       "    <tr>\n",
       "      <th>0</th>\n",
       "      <td>1</td>\n",
       "      <td>Biutiful</td>\n",
       "      <td>1</td>\n",
       "      <td>1</td>\n",
       "      <td>1</td>\n",
       "    </tr>\n",
       "    <tr>\n",
       "      <th>1</th>\n",
       "      <td>2</td>\n",
       "      <td>True Grit</td>\n",
       "      <td>2</td>\n",
       "      <td>2</td>\n",
       "      <td>2</td>\n",
       "    </tr>\n",
       "    <tr>\n",
       "      <th>2</th>\n",
       "      <td>3</td>\n",
       "      <td>The Social Network</td>\n",
       "      <td>3</td>\n",
       "      <td>3</td>\n",
       "      <td>3</td>\n",
       "    </tr>\n",
       "    <tr>\n",
       "      <th>3</th>\n",
       "      <td>4</td>\n",
       "      <td>The King's Speech</td>\n",
       "      <td>4</td>\n",
       "      <td>4</td>\n",
       "      <td>4</td>\n",
       "    </tr>\n",
       "    <tr>\n",
       "      <th>4</th>\n",
       "      <td>5</td>\n",
       "      <td>127 Hours</td>\n",
       "      <td>5</td>\n",
       "      <td>5</td>\n",
       "      <td>5</td>\n",
       "    </tr>\n",
       "    <tr>\n",
       "      <th>5</th>\n",
       "      <td>6</td>\n",
       "      <td>The Fighter</td>\n",
       "      <td>6</td>\n",
       "      <td>6</td>\n",
       "      <td>6</td>\n",
       "    </tr>\n",
       "    <tr>\n",
       "      <th>6</th>\n",
       "      <td>7</td>\n",
       "      <td>Winter's Bone</td>\n",
       "      <td>7</td>\n",
       "      <td>7</td>\n",
       "      <td>7</td>\n",
       "    </tr>\n",
       "    <tr>\n",
       "      <th>7</th>\n",
       "      <td>8</td>\n",
       "      <td>The Town</td>\n",
       "      <td>8</td>\n",
       "      <td>8</td>\n",
       "      <td>8</td>\n",
       "    </tr>\n",
       "    <tr>\n",
       "      <th>8</th>\n",
       "      <td>9</td>\n",
       "      <td>The Kids Are All Right</td>\n",
       "      <td>9</td>\n",
       "      <td>9</td>\n",
       "      <td>9</td>\n",
       "    </tr>\n",
       "    <tr>\n",
       "      <th>9</th>\n",
       "      <td>4</td>\n",
       "      <td>The King's Speech</td>\n",
       "      <td>10</td>\n",
       "      <td>4</td>\n",
       "      <td>10</td>\n",
       "    </tr>\n",
       "  </tbody>\n",
       "</table>\n",
       "</div>"
      ],
      "text/plain": [
       "   movies.id            movies.movie  movies_actors.id  \\\n",
       "0          1                Biutiful                 1   \n",
       "1          2               True Grit                 2   \n",
       "2          3      The Social Network                 3   \n",
       "3          4       The King's Speech                 4   \n",
       "4          5               127 Hours                 5   \n",
       "5          6             The Fighter                 6   \n",
       "6          7           Winter's Bone                 7   \n",
       "7          8                The Town                 8   \n",
       "8          9  The Kids Are All Right                 9   \n",
       "9          4       The King's Speech                10   \n",
       "\n",
       "   movies_actors.movie_id  movies_actors.actor_id  \n",
       "0                       1                       1  \n",
       "1                       2                       2  \n",
       "2                       3                       3  \n",
       "3                       4                       4  \n",
       "4                       5                       5  \n",
       "5                       6                       6  \n",
       "6                       7                       7  \n",
       "7                       8                       8  \n",
       "8                       9                       9  \n",
       "9                       4                      10  "
      ]
     },
     "execution_count": 239,
     "metadata": {},
     "output_type": "execute_result"
    }
   ],
   "source": [
    "query = '''\n",
    "    SELECT \n",
    "        movies.id 'movies.id', \n",
    "        movies.movie 'movies.movie',\n",
    "        movies_actors.id 'movies_actors.id',\n",
    "        movies_actors.movie_id 'movies_actors.movie_id',\n",
    "        movies_actors.actor_id 'movies_actors.actor_id'\n",
    "    FROM movies\n",
    "    INNER JOIN movies_actors\n",
    "    ON movies.id == movies_actors.movie_id\n",
    "    LIMIT 10\n",
    "'''\n",
    "pd.read_sql(query, conn)"
   ]
  },
  {
   "cell_type": "markdown",
   "metadata": {},
   "source": [
    "```sql\n",
    "SELECT * FROM movies\n",
    "INNER JOIN movies_actors ON movies.id == movies_actors.movie_id\n",
    "```\n",
    "\n",
    "![](img/4.png)\n",
    "\n",
    "### You may have noticed that the `movies_actors.id` column skips from `5` to `10`. \n",
    "We wanted to demonstrate that there's not just one row in the result for each movie in `movies` since the movie, `The King's Speech` shows up twice in the sample results. The results of the query so far are really just the cross join of all the rows in the `movies` table with all the rows in the `movies_actors` table. <br>\n",
    "\n",
    "We then need to join these results with the `actors` columns. To do this, add another `JOIN` statement in our query:\n"
   ]
  },
  {
   "cell_type": "code",
   "execution_count": 240,
   "metadata": {},
   "outputs": [
    {
     "data": {
      "text/html": [
       "<div>\n",
       "<style scoped>\n",
       "    .dataframe tbody tr th:only-of-type {\n",
       "        vertical-align: middle;\n",
       "    }\n",
       "\n",
       "    .dataframe tbody tr th {\n",
       "        vertical-align: top;\n",
       "    }\n",
       "\n",
       "    .dataframe thead th {\n",
       "        text-align: right;\n",
       "    }\n",
       "</style>\n",
       "<table border=\"1\" class=\"dataframe\">\n",
       "  <thead>\n",
       "    <tr style=\"text-align: right;\">\n",
       "      <th></th>\n",
       "      <th>movies.id</th>\n",
       "      <th>movies.movie</th>\n",
       "      <th>movies_actors.id</th>\n",
       "      <th>movies_actors.movie_id</th>\n",
       "      <th>movies_actors.actor_id</th>\n",
       "      <th>actors.id</th>\n",
       "      <th>actors.actor</th>\n",
       "    </tr>\n",
       "  </thead>\n",
       "  <tbody>\n",
       "    <tr>\n",
       "      <th>0</th>\n",
       "      <td>1</td>\n",
       "      <td>Biutiful</td>\n",
       "      <td>1</td>\n",
       "      <td>1</td>\n",
       "      <td>1</td>\n",
       "      <td>1</td>\n",
       "      <td>Javier Bardem</td>\n",
       "    </tr>\n",
       "    <tr>\n",
       "      <th>1</th>\n",
       "      <td>2</td>\n",
       "      <td>True Grit</td>\n",
       "      <td>2</td>\n",
       "      <td>2</td>\n",
       "      <td>2</td>\n",
       "      <td>2</td>\n",
       "      <td>Jeff Bridges</td>\n",
       "    </tr>\n",
       "    <tr>\n",
       "      <th>2</th>\n",
       "      <td>3</td>\n",
       "      <td>The Social Network</td>\n",
       "      <td>3</td>\n",
       "      <td>3</td>\n",
       "      <td>3</td>\n",
       "      <td>3</td>\n",
       "      <td>Jesse Eisenberg</td>\n",
       "    </tr>\n",
       "    <tr>\n",
       "      <th>3</th>\n",
       "      <td>4</td>\n",
       "      <td>The King's Speech</td>\n",
       "      <td>4</td>\n",
       "      <td>4</td>\n",
       "      <td>4</td>\n",
       "      <td>4</td>\n",
       "      <td>Colin Firth</td>\n",
       "    </tr>\n",
       "    <tr>\n",
       "      <th>4</th>\n",
       "      <td>5</td>\n",
       "      <td>127 Hours</td>\n",
       "      <td>5</td>\n",
       "      <td>5</td>\n",
       "      <td>5</td>\n",
       "      <td>5</td>\n",
       "      <td>James Franco</td>\n",
       "    </tr>\n",
       "    <tr>\n",
       "      <th>5</th>\n",
       "      <td>6</td>\n",
       "      <td>The Fighter</td>\n",
       "      <td>6</td>\n",
       "      <td>6</td>\n",
       "      <td>6</td>\n",
       "      <td>6</td>\n",
       "      <td>Christian Bale</td>\n",
       "    </tr>\n",
       "    <tr>\n",
       "      <th>6</th>\n",
       "      <td>7</td>\n",
       "      <td>Winter's Bone</td>\n",
       "      <td>7</td>\n",
       "      <td>7</td>\n",
       "      <td>7</td>\n",
       "      <td>7</td>\n",
       "      <td>John Hawkes</td>\n",
       "    </tr>\n",
       "    <tr>\n",
       "      <th>7</th>\n",
       "      <td>8</td>\n",
       "      <td>The Town</td>\n",
       "      <td>8</td>\n",
       "      <td>8</td>\n",
       "      <td>8</td>\n",
       "      <td>8</td>\n",
       "      <td>Jeremy Renner</td>\n",
       "    </tr>\n",
       "    <tr>\n",
       "      <th>8</th>\n",
       "      <td>9</td>\n",
       "      <td>The Kids Are All Right</td>\n",
       "      <td>9</td>\n",
       "      <td>9</td>\n",
       "      <td>9</td>\n",
       "      <td>9</td>\n",
       "      <td>Mark Ruffalo</td>\n",
       "    </tr>\n",
       "    <tr>\n",
       "      <th>9</th>\n",
       "      <td>4</td>\n",
       "      <td>The King's Speech</td>\n",
       "      <td>10</td>\n",
       "      <td>4</td>\n",
       "      <td>10</td>\n",
       "      <td>10</td>\n",
       "      <td>Geoffrey Rush</td>\n",
       "    </tr>\n",
       "  </tbody>\n",
       "</table>\n",
       "</div>"
      ],
      "text/plain": [
       "   movies.id            movies.movie  movies_actors.id  \\\n",
       "0          1                Biutiful                 1   \n",
       "1          2               True Grit                 2   \n",
       "2          3      The Social Network                 3   \n",
       "3          4       The King's Speech                 4   \n",
       "4          5               127 Hours                 5   \n",
       "5          6             The Fighter                 6   \n",
       "6          7           Winter's Bone                 7   \n",
       "7          8                The Town                 8   \n",
       "8          9  The Kids Are All Right                 9   \n",
       "9          4       The King's Speech                10   \n",
       "\n",
       "   movies_actors.movie_id  movies_actors.actor_id  actors.id     actors.actor  \n",
       "0                       1                       1          1    Javier Bardem  \n",
       "1                       2                       2          2     Jeff Bridges  \n",
       "2                       3                       3          3  Jesse Eisenberg  \n",
       "3                       4                       4          4      Colin Firth  \n",
       "4                       5                       5          5     James Franco  \n",
       "5                       6                       6          6   Christian Bale  \n",
       "6                       7                       7          7      John Hawkes  \n",
       "7                       8                       8          8    Jeremy Renner  \n",
       "8                       9                       9          9     Mark Ruffalo  \n",
       "9                       4                      10         10    Geoffrey Rush  "
      ]
     },
     "execution_count": 240,
     "metadata": {},
     "output_type": "execute_result"
    }
   ],
   "source": [
    "query = '''\n",
    "    SELECT \n",
    "        movies.id 'movies.id', \n",
    "        movies.movie 'movies.movie',\n",
    "        movies_actors.id 'movies_actors.id',\n",
    "        movies_actors.movie_id 'movies_actors.movie_id',\n",
    "        movies_actors.actor_id 'movies_actors.actor_id',\n",
    "        actors.id 'actors.id',\n",
    "        actors.actor 'actors.actor'\n",
    "    \n",
    "    FROM movies\n",
    "    \n",
    "    INNER JOIN movies_actors\n",
    "    ON movies.id == movies_actors.movie_id\n",
    "    \n",
    "    INNER JOIN actors\n",
    "    ON movies_actors.actor_id == actors.id\n",
    "    \n",
    "    LIMIT 10\n",
    "'''\n",
    "pd.read_sql(query, conn)"
   ]
  },
  {
   "cell_type": "markdown",
   "metadata": {},
   "source": [
    "![](img/5.png)"
   ]
  },
  {
   "cell_type": "code",
   "execution_count": null,
   "metadata": {},
   "outputs": [],
   "source": []
  },
  {
   "cell_type": "markdown",
   "metadata": {},
   "source": [
    "We now have a row for each actor in `actors` that played in each movie in `movies`. However, if you go back to the original problem, you'll notice that we were only interested in actors that starred in `The Fighter`. To accomplish this, we can modify the columns returned in the `SELECT` statement and add filtering criteria using the `WHERE` statement:\n",
    "\n",
    "```sql\n",
    "SELECT actors.actor FROM movies\n",
    "INNER JOIN movies_actors ON movies.id == movies_actors.movie_id\n",
    "INNER JOIN actors ON movies_actors.actor_id == actors.id\n",
    "WHERE movies.movie == \"The Fighter\";\n",
    "```"
   ]
  },
  {
   "cell_type": "code",
   "execution_count": 241,
   "metadata": {},
   "outputs": [
    {
     "data": {
      "text/html": [
       "<div>\n",
       "<style scoped>\n",
       "    .dataframe tbody tr th:only-of-type {\n",
       "        vertical-align: middle;\n",
       "    }\n",
       "\n",
       "    .dataframe tbody tr th {\n",
       "        vertical-align: top;\n",
       "    }\n",
       "\n",
       "    .dataframe thead th {\n",
       "        text-align: right;\n",
       "    }\n",
       "</style>\n",
       "<table border=\"1\" class=\"dataframe\">\n",
       "  <thead>\n",
       "    <tr style=\"text-align: right;\">\n",
       "      <th></th>\n",
       "      <th>actor</th>\n",
       "    </tr>\n",
       "  </thead>\n",
       "  <tbody>\n",
       "    <tr>\n",
       "      <th>0</th>\n",
       "      <td>Christian Bale</td>\n",
       "    </tr>\n",
       "    <tr>\n",
       "      <th>1</th>\n",
       "      <td>Amy Adams</td>\n",
       "    </tr>\n",
       "    <tr>\n",
       "      <th>2</th>\n",
       "      <td>Melissa Leo</td>\n",
       "    </tr>\n",
       "  </tbody>\n",
       "</table>\n",
       "</div>"
      ],
      "text/plain": [
       "            actor\n",
       "0  Christian Bale\n",
       "1       Amy Adams\n",
       "2     Melissa Leo"
      ]
     },
     "execution_count": 241,
     "metadata": {},
     "output_type": "execute_result"
    }
   ],
   "source": [
    "query = '''\n",
    "    SELECT actors.actor FROM movies\n",
    "    INNER JOIN movies_actors ON movies.id == movies_actors.movie_id\n",
    "    INNER JOIN actors ON movies_actors.actor_id == actors.id\n",
    "    WHERE movies.movie == \"The Fighter\";\n",
    "'''\n",
    "pd.read_sql(query, conn)"
   ]
  },
  {
   "cell_type": "markdown",
   "metadata": {},
   "source": [
    "We'll get back just the 3 actors in our database that starred in The `Fighter`:\n",
    "\n",
    "![](img/6.png)\n",
    "\n",
    "You may have noticed that we used **dot notation to specify the column name** in the query above:\n",
    "\n",
    "* `movies.movie` in the `WHERE` statement.\n",
    "* `actors.actor` in the `SELECT` statement.\n",
    "\n",
    "**While this dot notation is required in the `JOIN` statement, it's optional in the `SELECT` and `WHERE` statements.** \n",
    "\n",
    "### It's a good habit, however, to write out the full name (instead of just `movie` or `actor`) of the column using dot notation. \n",
    "\n",
    "Besides the `id` column, you'll often work with multiple tables that contain the same column names and using dot notation helps us and the database system know what exactly we're referring to.\n",
    "\n",
    "In the query above,\n",
    "\n",
    "* we started with the `movies` table (in our `select`),\n",
    "* joined with the `movies_actors` table,\n",
    "* and then finally joined with the `actors` table.\n",
    "\n",
    "We could have actually accomplished the same thing by:\n",
    "\n",
    "* starting with the `actors` table,\n",
    "* joining with the movies_actors table, and then joining with the movies table\n",
    "\n",
    "since the filtering criteria is still the same (`WHERE movies.movie == \"The Fighter\"`). <br>\n"
   ]
  },
  {
   "cell_type": "code",
   "execution_count": null,
   "metadata": {},
   "outputs": [],
   "source": []
  },
  {
   "cell_type": "markdown",
   "metadata": {},
   "source": [
    "### Here's a good summary of the steps you need to do when querying tables that are in a many-to-many relation:\n",
    "\n",
    "* first, state the question you want answered:\n",
    "  * we want all of the actors that starred in `The Fighter`. Information on `The Fighter` is in the `movies` table and there's a join table we'll need to use to get the related information from the `actors` table.\n",
    "* then, understand what joins you need and the filtering criteria you need:\n",
    "  * we need to join the `movies` table with the `movies_actors` table, then join the results with the `actors` table.\n",
    "  * our filtering criteria is that we only want the row from `movies` corresponding to `The Fighter`.\n",
    "* finally, write the query you need based on the joins, columns, and filtering criteria you need.\n",
    "\n",
    "Writing multiple joins to query tables in a many-to-many relation can be overwhelming at first but it's nothing that practice can't help you overcome. As you practice more, you'll find yourself skipping right to writing the query itself as this kind of querying becomes second nature to you."
   ]
  },
  {
   "cell_type": "code",
   "execution_count": null,
   "metadata": {},
   "outputs": [],
   "source": []
  },
  {
   "cell_type": "markdown",
   "metadata": {},
   "source": [
    "#### instructions\n",
    "* Modify the query we wrote earlier to instead return all the actors that starred in `The King's Speech`.\n",
    "  * We're interested in both the actor name as well as the movie name this time (in that order).\n",
    "* Run the query and assign the results list to `kings_actors`.\n",
    "* Then, use the `print` function to display `kings_actors`."
   ]
  },
  {
   "cell_type": "code",
   "execution_count": 234,
   "metadata": {},
   "outputs": [
    {
     "name": "stdout",
     "output_type": "stream",
     "text": [
      "('Colin Firth', \"The King's Speech\")\n",
      "('Geoffrey Rush', \"The King's Speech\")\n",
      "('Helena Bonham Carter', \"The King's Speech\")\n"
     ]
    }
   ],
   "source": [
    "query = '''\n",
    "    SELECT actors.actor, movies.movie\n",
    "    FROM movies\n",
    "    INNER JOIN movies_actors ON movies.id\n",
    "                == movies_actors.movie_id\n",
    "    INNER JOIN actors ON movies_actors.actor_id == actors.id\n",
    "    WHERE movies.movie == \"The King's Speech\";\n",
    "'''\n",
    "\n",
    "kings_actors = conn.execute(query).fetchall()\n",
    "\n",
    "for actmov in kings_actors:\n",
    "    print(actmov)"
   ]
  },
  {
   "cell_type": "code",
   "execution_count": null,
   "metadata": {},
   "outputs": [],
   "source": []
  },
  {
   "cell_type": "markdown",
   "metadata": {},
   "source": [
    "#### instructions\n",
    "\n",
    "* Write a query that returns all of the movies that `\"Natalie Portman\"` played in.\n",
    "  * We want to return only the `movie` name (from the `movies` table) and the `actor` name (from the `actors` table).\n",
    "  * You need to first join the `movies` table with the `movies_actors` table.\n",
    "  * Then, you need to join the `movies_actors` table with the `actors` table.\n",
    "  * Finally, you need to add a `where` statement that limits the results to just where `actors.actor` is equal to `Natalie Portman`.\n",
    "* Run the query and assign the full results list to `portman_joins`.\n",
    "* Use the print function to display `portman_joins`."
   ]
  },
  {
   "cell_type": "code",
   "execution_count": 235,
   "metadata": {},
   "outputs": [
    {
     "name": "stdout",
     "output_type": "stream",
     "text": [
      "('Black Swan', 'Natalie Portman')\n",
      "('Closer', 'Natalie Portman')\n"
     ]
    }
   ],
   "source": [
    "query = '''\n",
    "    SELECT movies.movie, actors.actor\n",
    "    FROM movies\n",
    "    INNER JOIN movies_actors ON movies.id\n",
    "                == movies_actors.movie_id\n",
    "    INNER JOIN actors ON movies_actors.actor_id == actors.id\n",
    "    WHERE actors.actor == \"Natalie Portman\";\n",
    "'''\n",
    "\n",
    "portman_joins = conn.execute(query).fetchall()\n",
    "\n",
    "for movact in portman_joins:\n",
    "    print(movact)"
   ]
  },
  {
   "cell_type": "code",
   "execution_count": null,
   "metadata": {},
   "outputs": [],
   "source": []
  },
  {
   "cell_type": "markdown",
   "metadata": {},
   "source": [
    "# <a name='summary'></a>Summary Note."
   ]
  },
  {
   "cell_type": "markdown",
   "metadata": {},
   "source": [
    "### While normalization helps reduce data redundancy and allows us to decouple related columns into separate tables, \n",
    "too much normalization can do more harm than good. A highly normalized database means that even some basic queries can involve joining multiple tables together. <br>\n",
    "\n",
    "You may have wondered why we didn't try to separate out the actors (`nominee` column) and the movie names (`movie` column) in the `nominations` table. We could have replaced these columns with foreign key references to the `actors` and `movies` tables instead. **This is because we probably wouldn't have realized the gains of normalization by replacing the actual values with foreign key references.** <br>\n",
    "\n",
    "If we think that we'll almost always be accessing the movies and actors names when we're querying the `nominations` table, then forcing the user to do multiple joins to get the relevant information is quite cumbersome. In addition, we know that **once an awards ceremony has finished, the movies and nominees are not going to change**. \n",
    "\n",
    "### This means that another benefit of normalization, easy updating and editing of related values, probably won't be realized. <br>\n",
    "\n",
    "When we represented the `year` and `host` columns in a separate table from the nominations table, **we made the assumption that we don't always need to access both columns every single time when querying the `nominations` table**. \n",
    "### We preferred having less data redundancy and writing a join when we needed to. <br>\n",
    "\n",
    "### Lastly, it's important to remember that the schema isn't set in stone. \n",
    "In many cases, it's best to start out with a denormalized representation of your data with one, or a few, giant tables. As your data grows and your use cases change, you can rethink your schema and restructure your data accordingly. **When structuring your data and writing a schema, it's important to remember the tradeoffs that come with normalization**."
   ]
  },
  {
   "cell_type": "code",
   "execution_count": null,
   "metadata": {},
   "outputs": [],
   "source": []
  },
  {
   "cell_type": "code",
   "execution_count": 323,
   "metadata": {},
   "outputs": [],
   "source": [
    "conn.close()"
   ]
  }
 ],
 "metadata": {
  "kernelspec": {
   "display_name": "Python 3",
   "language": "python",
   "name": "python3"
  },
  "language_info": {
   "codemirror_mode": {
    "name": "ipython",
    "version": 3
   },
   "file_extension": ".py",
   "mimetype": "text/x-python",
   "name": "python",
   "nbconvert_exporter": "python",
   "pygments_lexer": "ipython3",
   "version": "3.6.2"
  }
 },
 "nbformat": 4,
 "nbformat_minor": 2
}
