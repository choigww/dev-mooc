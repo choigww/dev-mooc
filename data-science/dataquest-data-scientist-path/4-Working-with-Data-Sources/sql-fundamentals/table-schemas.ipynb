{
 "cells": [
  {
   "cell_type": "code",
   "execution_count": 1,
   "metadata": {},
   "outputs": [],
   "source": [
    "import sqlite3\n",
    "import pandas as pd\n",
    "from matplotlib import pyplot as plt\n",
    "%matplotlib inline\n",
    "\n",
    "conn = sqlite3.connect(\"data/factbook.db\")"
   ]
  },
  {
   "cell_type": "markdown",
   "metadata": {},
   "source": [
    "In the last mission, we looked at a database called `factbook.db`, which contained information on each country in the world.\n",
    "\n",
    "* We looked at the facts table inside factbook.db. Here are the first few rows of facts:"
   ]
  },
  {
   "cell_type": "code",
   "execution_count": 2,
   "metadata": {},
   "outputs": [
    {
     "data": {
      "text/html": [
       "<div>\n",
       "<style scoped>\n",
       "    .dataframe tbody tr th:only-of-type {\n",
       "        vertical-align: middle;\n",
       "    }\n",
       "\n",
       "    .dataframe tbody tr th {\n",
       "        vertical-align: top;\n",
       "    }\n",
       "\n",
       "    .dataframe thead th {\n",
       "        text-align: right;\n",
       "    }\n",
       "</style>\n",
       "<table border=\"1\" class=\"dataframe\">\n",
       "  <thead>\n",
       "    <tr style=\"text-align: right;\">\n",
       "      <th></th>\n",
       "      <th>id</th>\n",
       "      <th>code</th>\n",
       "      <th>name</th>\n",
       "      <th>area</th>\n",
       "      <th>area_land</th>\n",
       "      <th>area_water</th>\n",
       "      <th>population</th>\n",
       "      <th>population_growth</th>\n",
       "      <th>birth_rate</th>\n",
       "      <th>death_rate</th>\n",
       "      <th>migration_rate</th>\n",
       "      <th>created_at</th>\n",
       "      <th>updated_at</th>\n",
       "    </tr>\n",
       "  </thead>\n",
       "  <tbody>\n",
       "    <tr>\n",
       "      <th>0</th>\n",
       "      <td>1</td>\n",
       "      <td>af</td>\n",
       "      <td>Afghanistan</td>\n",
       "      <td>652230</td>\n",
       "      <td>652230</td>\n",
       "      <td>0</td>\n",
       "      <td>32564342</td>\n",
       "      <td>2.32</td>\n",
       "      <td>38.57</td>\n",
       "      <td>13.89</td>\n",
       "      <td>1.51</td>\n",
       "      <td>2015-11-01 13:19:49.461734</td>\n",
       "      <td>2015-11-01 13:19:49.461734</td>\n",
       "    </tr>\n",
       "    <tr>\n",
       "      <th>1</th>\n",
       "      <td>2</td>\n",
       "      <td>al</td>\n",
       "      <td>Albania</td>\n",
       "      <td>28748</td>\n",
       "      <td>27398</td>\n",
       "      <td>1350</td>\n",
       "      <td>3029278</td>\n",
       "      <td>0.30</td>\n",
       "      <td>12.92</td>\n",
       "      <td>6.58</td>\n",
       "      <td>3.30</td>\n",
       "      <td>2015-11-01 13:19:54.431082</td>\n",
       "      <td>2015-11-01 13:19:54.431082</td>\n",
       "    </tr>\n",
       "    <tr>\n",
       "      <th>2</th>\n",
       "      <td>3</td>\n",
       "      <td>ag</td>\n",
       "      <td>Algeria</td>\n",
       "      <td>2381741</td>\n",
       "      <td>2381741</td>\n",
       "      <td>0</td>\n",
       "      <td>39542166</td>\n",
       "      <td>1.84</td>\n",
       "      <td>23.67</td>\n",
       "      <td>4.31</td>\n",
       "      <td>0.92</td>\n",
       "      <td>2015-11-01 13:19:59.961286</td>\n",
       "      <td>2015-11-01 13:19:59.961286</td>\n",
       "    </tr>\n",
       "  </tbody>\n",
       "</table>\n",
       "</div>"
      ],
      "text/plain": [
       "   id code         name     area  area_land  area_water  population  \\\n",
       "0   1   af  Afghanistan   652230     652230           0    32564342   \n",
       "1   2   al      Albania    28748      27398        1350     3029278   \n",
       "2   3   ag      Algeria  2381741    2381741           0    39542166   \n",
       "\n",
       "   population_growth  birth_rate  death_rate  migration_rate  \\\n",
       "0               2.32       38.57       13.89            1.51   \n",
       "1               0.30       12.92        6.58            3.30   \n",
       "2               1.84       23.67        4.31            0.92   \n",
       "\n",
       "                   created_at                  updated_at  \n",
       "0  2015-11-01 13:19:49.461734  2015-11-01 13:19:49.461734  \n",
       "1  2015-11-01 13:19:54.431082  2015-11-01 13:19:54.431082  \n",
       "2  2015-11-01 13:19:59.961286  2015-11-01 13:19:59.961286  "
      ]
     },
     "execution_count": 2,
     "metadata": {},
     "output_type": "execute_result"
    }
   ],
   "source": [
    "pd.read_sql('select * from facts limit 3', conn)"
   ]
  },
  {
   "cell_type": "code",
   "execution_count": null,
   "metadata": {},
   "outputs": [],
   "source": []
  },
  {
   "cell_type": "markdown",
   "metadata": {},
   "source": [
    "In the last mission, we also looked at the columns for facts, and the corresponding datatypes. Here's an excerpt:"
   ]
  },
  {
   "cell_type": "code",
   "execution_count": 7,
   "metadata": {},
   "outputs": [
    {
     "data": {
      "text/html": [
       "<div>\n",
       "<style scoped>\n",
       "    .dataframe tbody tr th:only-of-type {\n",
       "        vertical-align: middle;\n",
       "    }\n",
       "\n",
       "    .dataframe tbody tr th {\n",
       "        vertical-align: top;\n",
       "    }\n",
       "\n",
       "    .dataframe thead th {\n",
       "        text-align: right;\n",
       "    }\n",
       "</style>\n",
       "<table border=\"1\" class=\"dataframe\">\n",
       "  <thead>\n",
       "    <tr style=\"text-align: right;\">\n",
       "      <th></th>\n",
       "      <th>cid</th>\n",
       "      <th>name</th>\n",
       "      <th>type</th>\n",
       "      <th>notnull</th>\n",
       "      <th>dflt_value</th>\n",
       "      <th>pk</th>\n",
       "    </tr>\n",
       "  </thead>\n",
       "  <tbody>\n",
       "    <tr>\n",
       "      <th>0</th>\n",
       "      <td>0</td>\n",
       "      <td>id</td>\n",
       "      <td>INTEGER</td>\n",
       "      <td>1</td>\n",
       "      <td>None</td>\n",
       "      <td>1</td>\n",
       "    </tr>\n",
       "    <tr>\n",
       "      <th>1</th>\n",
       "      <td>1</td>\n",
       "      <td>code</td>\n",
       "      <td>varchar(255)</td>\n",
       "      <td>1</td>\n",
       "      <td>None</td>\n",
       "      <td>0</td>\n",
       "    </tr>\n",
       "    <tr>\n",
       "      <th>2</th>\n",
       "      <td>2</td>\n",
       "      <td>name</td>\n",
       "      <td>varchar(255)</td>\n",
       "      <td>1</td>\n",
       "      <td>None</td>\n",
       "      <td>0</td>\n",
       "    </tr>\n",
       "    <tr>\n",
       "      <th>3</th>\n",
       "      <td>3</td>\n",
       "      <td>area</td>\n",
       "      <td>integer</td>\n",
       "      <td>0</td>\n",
       "      <td>None</td>\n",
       "      <td>0</td>\n",
       "    </tr>\n",
       "    <tr>\n",
       "      <th>4</th>\n",
       "      <td>4</td>\n",
       "      <td>area_land</td>\n",
       "      <td>integer</td>\n",
       "      <td>0</td>\n",
       "      <td>None</td>\n",
       "      <td>0</td>\n",
       "    </tr>\n",
       "    <tr>\n",
       "      <th>5</th>\n",
       "      <td>5</td>\n",
       "      <td>area_water</td>\n",
       "      <td>integer</td>\n",
       "      <td>0</td>\n",
       "      <td>None</td>\n",
       "      <td>0</td>\n",
       "    </tr>\n",
       "    <tr>\n",
       "      <th>6</th>\n",
       "      <td>6</td>\n",
       "      <td>population</td>\n",
       "      <td>integer</td>\n",
       "      <td>0</td>\n",
       "      <td>None</td>\n",
       "      <td>0</td>\n",
       "    </tr>\n",
       "    <tr>\n",
       "      <th>7</th>\n",
       "      <td>7</td>\n",
       "      <td>population_growth</td>\n",
       "      <td>float</td>\n",
       "      <td>0</td>\n",
       "      <td>None</td>\n",
       "      <td>0</td>\n",
       "    </tr>\n",
       "    <tr>\n",
       "      <th>8</th>\n",
       "      <td>8</td>\n",
       "      <td>birth_rate</td>\n",
       "      <td>float</td>\n",
       "      <td>0</td>\n",
       "      <td>None</td>\n",
       "      <td>0</td>\n",
       "    </tr>\n",
       "    <tr>\n",
       "      <th>9</th>\n",
       "      <td>9</td>\n",
       "      <td>death_rate</td>\n",
       "      <td>float</td>\n",
       "      <td>0</td>\n",
       "      <td>None</td>\n",
       "      <td>0</td>\n",
       "    </tr>\n",
       "    <tr>\n",
       "      <th>10</th>\n",
       "      <td>10</td>\n",
       "      <td>migration_rate</td>\n",
       "      <td>float</td>\n",
       "      <td>0</td>\n",
       "      <td>None</td>\n",
       "      <td>0</td>\n",
       "    </tr>\n",
       "    <tr>\n",
       "      <th>11</th>\n",
       "      <td>11</td>\n",
       "      <td>created_at</td>\n",
       "      <td>datetime</td>\n",
       "      <td>0</td>\n",
       "      <td>None</td>\n",
       "      <td>0</td>\n",
       "    </tr>\n",
       "    <tr>\n",
       "      <th>12</th>\n",
       "      <td>12</td>\n",
       "      <td>updated_at</td>\n",
       "      <td>datetime</td>\n",
       "      <td>0</td>\n",
       "      <td>None</td>\n",
       "      <td>0</td>\n",
       "    </tr>\n",
       "  </tbody>\n",
       "</table>\n",
       "</div>"
      ],
      "text/plain": [
       "    cid               name          type  notnull dflt_value  pk\n",
       "0     0                 id       INTEGER        1       None   1\n",
       "1     1               code  varchar(255)        1       None   0\n",
       "2     2               name  varchar(255)        1       None   0\n",
       "3     3               area       integer        0       None   0\n",
       "4     4          area_land       integer        0       None   0\n",
       "5     5         area_water       integer        0       None   0\n",
       "6     6         population       integer        0       None   0\n",
       "7     7  population_growth         float        0       None   0\n",
       "8     8         birth_rate         float        0       None   0\n",
       "9     9         death_rate         float        0       None   0\n",
       "10   10     migration_rate         float        0       None   0\n",
       "11   11         created_at      datetime        0       None   0\n",
       "12   12         updated_at      datetime        0       None   0"
      ]
     },
     "execution_count": 7,
     "metadata": {},
     "output_type": "execute_result"
    }
   ],
   "source": [
    "pd.read_sql('pragma table_info(facts)', conn)"
   ]
  },
  {
   "cell_type": "code",
   "execution_count": null,
   "metadata": {},
   "outputs": [],
   "source": []
  },
  {
   "cell_type": "markdown",
   "metadata": {},
   "source": [
    "This definition, which contains information like column names, data types, and which column is the primary key, is called a table schema.\n",
    "\n",
    "* **Table schemas** let us create new tables to store data. What we store may change over time, so SQL also allows us to modify the schema of a table over time."
   ]
  },
  {
   "cell_type": "code",
   "execution_count": null,
   "metadata": {},
   "outputs": [],
   "source": []
  },
  {
   "cell_type": "markdown",
   "metadata": {},
   "source": [
    "Let's say we want to add a column called `awesomeness` to track how awesome all the countries in the `facts` table are. We would need to add a column to `facts` to track this. <br>\n",
    "\n",
    "We can add a column with the `ALTER TABLE` statement:\n",
    "\n",
    "```sql\n",
    "ALTER TABLE tableName\n",
    "ADD columnName dataType;\n",
    "\n",
    "ALTER TABLE facts\n",
    "ADD awesomeness integer;\n",
    "```\n",
    "\n",
    "The above code will add a column called awesomeness to the facts table. Let's break down what's happening:\n",
    "\n",
    "* `ALTER TABLE` -- indicates that we're making a change to the table schema.\n",
    "* `facts` -- the table we're altering.\n",
    "* `ADD` -- indicates that we're adding a column.\n",
    "* `awesomeness` -- the name of the column we're adding.\n",
    "* `integer` -- the data type of the column we're adding. We talked about data types in the last mission, and [here](https://www.sqlite.org/datatype3.html)'s a full list.\n",
    "\n",
    "When you add a column, all the values associated with it will be `NULL` to begin with."
   ]
  },
  {
   "cell_type": "code",
   "execution_count": 3,
   "metadata": {},
   "outputs": [],
   "source": [
    "# Write a SQL query that adds a column called leader to the facts table, \n",
    "# with the data type text.\n",
    "\n",
    "sql = '''\n",
    "        alter table facts add leader text;\n",
    "'''\n",
    "conn.cursor().execute(sql)\n",
    "conn.commit()"
   ]
  },
  {
   "cell_type": "code",
   "execution_count": null,
   "metadata": {},
   "outputs": [],
   "source": []
  },
  {
   "cell_type": "markdown",
   "metadata": {},
   "source": [
    "You can also use the ALTER TABLE statement to remove columns that are no longer needed:\n",
    "\n",
    "```sql\n",
    "ALTER TABLE tableName\n",
    "DROP COLUMN columnName;\n",
    "\n",
    "ALTER TABLE facts\n",
    "DROP COLUMN awesomeness;\n",
    "```\n",
    "\n",
    "The above query would remove the column `awesomeness` from the table `facts`. This command is only possible in certain SQL versions, and isn't possible with the SQLite database engine, so we won't practice it right now."
   ]
  },
  {
   "cell_type": "code",
   "execution_count": null,
   "metadata": {},
   "outputs": [],
   "source": []
  },
  {
   "cell_type": "markdown",
   "metadata": {},
   "source": [
    "## Create Table to DB\n",
    "We can create a new table in `factbook.db` using a new table schema. Let's say that we want to create a table that keeps track of leaders of countries. We would use the `CREATE TABLE` statement to do this:\n",
    "\n",
    "```sql\n",
    "CREATE TABLE dbName.tableName(\n",
    "   column1 dataType1 PRIMARY KEY,\n",
    "   column2 dataType2,\n",
    "   column3 dataType3,\n",
    "   ...\n",
    ");\n",
    "\n",
    "CREATE TABLE factbook.leaders(\n",
    "   id integer PRIMARY KEY,\n",
    "   name text,\n",
    "   country text\n",
    ");\n",
    "```\n",
    "\n",
    "Let's break down each piece of this example:\n",
    "\n",
    "* `CREATE TABLE` -- indicates that we want to create a table.\n",
    "* `factbook.leaders` -- we're creating a table called `leaders` in the `factbook` database. The `.` separates the two.\n",
    "* `(` -- indicates that we're specifying the columns and data types inside.\n",
    "* `id integer PRIMARY KEY` -- we're creating a column called id that has the data type `integer`, and is the primary key for the table. As we mentioned in the last mission, every table needs a primary key, and it's typical to make an `integer` column called `id` the primary key.\n",
    "* `name text` -- we're creating a second column called `name` with the data type text.\n",
    "* `country text` -- we're creating a third column called `country` with the data type text.\n",
    "* `)` -- indicates that we're done specifying columns.\n",
    "\n",
    "When we run the above query, we'll end up with a new table called `leaders` that has three columns, `id`, `name`, and `country`. The columns will be in the order they are specified in the query."
   ]
  },
  {
   "cell_type": "code",
   "execution_count": 34,
   "metadata": {},
   "outputs": [],
   "source": [
    "sql_ = 'drop table if exists leaders'\n",
    "sql = '''\n",
    "        CREATE TABLE leaders(\n",
    "           id integer PRIMARY KEY,\n",
    "           name text,\n",
    "           country text,\n",
    "           worth float\n",
    ");\n",
    "'''\n",
    "conn.cursor().execute(sql_)\n",
    "conn.cursor().execute(sql)\n",
    "conn.commit()"
   ]
  },
  {
   "cell_type": "code",
   "execution_count": null,
   "metadata": {},
   "outputs": [],
   "source": []
  },
  {
   "cell_type": "markdown",
   "metadata": {},
   "source": [
    "In the past screen, we created a table called `leaders`. Instead of directly referring to the row in the `facts` table that contained the country the leader was from, we had to create a `country` column in `leaders` that contains the full name of the `country`. Here's how the `leaders` table might look:\n"
   ]
  },
  {
   "cell_type": "code",
   "execution_count": 35,
   "metadata": {},
   "outputs": [
    {
     "data": {
      "text/html": [
       "<div>\n",
       "<style scoped>\n",
       "    .dataframe tbody tr th:only-of-type {\n",
       "        vertical-align: middle;\n",
       "    }\n",
       "\n",
       "    .dataframe tbody tr th {\n",
       "        vertical-align: top;\n",
       "    }\n",
       "\n",
       "    .dataframe thead th {\n",
       "        text-align: right;\n",
       "    }\n",
       "</style>\n",
       "<table border=\"1\" class=\"dataframe\">\n",
       "  <thead>\n",
       "    <tr style=\"text-align: right;\">\n",
       "      <th></th>\n",
       "      <th>id</th>\n",
       "      <th>name</th>\n",
       "      <th>country</th>\n",
       "      <th>worth</th>\n",
       "    </tr>\n",
       "  </thead>\n",
       "  <tbody>\n",
       "  </tbody>\n",
       "</table>\n",
       "</div>"
      ],
      "text/plain": [
       "Empty DataFrame\n",
       "Columns: [id, name, country, worth]\n",
       "Index: []"
      ]
     },
     "execution_count": 35,
     "metadata": {},
     "output_type": "execute_result"
    }
   ],
   "source": [
    "pd.read_sql('select * from leaders limit 1', conn)"
   ]
  },
  {
   "cell_type": "code",
   "execution_count": 37,
   "metadata": {},
   "outputs": [
    {
     "data": {
      "text/plain": [
       "<function Connection.commit>"
      ]
     },
     "execution_count": 37,
     "metadata": {},
     "output_type": "execute_result"
    }
   ],
   "source": [
    "sql = '''\n",
    "        insert into leaders\n",
    "        values (\n",
    "                1, 'Barack Obama', 'United States', 7000000.0\n",
    "                )  \n",
    "'''\n",
    "conn.cursor().execute(sql)\n",
    "conn.commit"
   ]
  },
  {
   "cell_type": "code",
   "execution_count": 38,
   "metadata": {},
   "outputs": [
    {
     "data": {
      "text/html": [
       "<div>\n",
       "<style scoped>\n",
       "    .dataframe tbody tr th:only-of-type {\n",
       "        vertical-align: middle;\n",
       "    }\n",
       "\n",
       "    .dataframe tbody tr th {\n",
       "        vertical-align: top;\n",
       "    }\n",
       "\n",
       "    .dataframe thead th {\n",
       "        text-align: right;\n",
       "    }\n",
       "</style>\n",
       "<table border=\"1\" class=\"dataframe\">\n",
       "  <thead>\n",
       "    <tr style=\"text-align: right;\">\n",
       "      <th></th>\n",
       "      <th>id</th>\n",
       "      <th>name</th>\n",
       "      <th>country</th>\n",
       "      <th>worth</th>\n",
       "    </tr>\n",
       "  </thead>\n",
       "  <tbody>\n",
       "    <tr>\n",
       "      <th>0</th>\n",
       "      <td>1</td>\n",
       "      <td>Barack Obama</td>\n",
       "      <td>United States</td>\n",
       "      <td>7000000.0</td>\n",
       "    </tr>\n",
       "  </tbody>\n",
       "</table>\n",
       "</div>"
      ],
      "text/plain": [
       "   id          name        country      worth\n",
       "0   1  Barack Obama  United States  7000000.0"
      ]
     },
     "execution_count": 38,
     "metadata": {},
     "output_type": "execute_result"
    }
   ],
   "source": [
    "pd.read_sql('select * from leaders limit 1', conn)"
   ]
  },
  {
   "cell_type": "code",
   "execution_count": null,
   "metadata": {},
   "outputs": [],
   "source": []
  },
  {
   "cell_type": "markdown",
   "metadata": {},
   "source": [
    "As you can see, the `country` is just a string. Querying any `leaders` associated with a `country` requires us to specify the country name as a string:"
   ]
  },
  {
   "cell_type": "code",
   "execution_count": 43,
   "metadata": {},
   "outputs": [
    {
     "data": {
      "text/html": [
       "<div>\n",
       "<style scoped>\n",
       "    .dataframe tbody tr th:only-of-type {\n",
       "        vertical-align: middle;\n",
       "    }\n",
       "\n",
       "    .dataframe tbody tr th {\n",
       "        vertical-align: top;\n",
       "    }\n",
       "\n",
       "    .dataframe thead th {\n",
       "        text-align: right;\n",
       "    }\n",
       "</style>\n",
       "<table border=\"1\" class=\"dataframe\">\n",
       "  <thead>\n",
       "    <tr style=\"text-align: right;\">\n",
       "      <th></th>\n",
       "      <th>id</th>\n",
       "      <th>name</th>\n",
       "      <th>country</th>\n",
       "      <th>worth</th>\n",
       "    </tr>\n",
       "  </thead>\n",
       "  <tbody>\n",
       "    <tr>\n",
       "      <th>0</th>\n",
       "      <td>1</td>\n",
       "      <td>Barack Obama</td>\n",
       "      <td>United States</td>\n",
       "      <td>7000000.0</td>\n",
       "    </tr>\n",
       "  </tbody>\n",
       "</table>\n",
       "</div>"
      ],
      "text/plain": [
       "   id          name        country      worth\n",
       "0   1  Barack Obama  United States  7000000.0"
      ]
     },
     "execution_count": 43,
     "metadata": {},
     "output_type": "execute_result"
    }
   ],
   "source": [
    "sql = 'select * from leaders where country=\"United States\";'\n",
    "pd.read_sql(sql, conn)"
   ]
  },
  {
   "cell_type": "code",
   "execution_count": null,
   "metadata": {},
   "outputs": [],
   "source": []
  },
  {
   "cell_type": "markdown",
   "metadata": {},
   "source": [
    "It also makes querying the country associated with a particular leader difficult. We first need to extract the `country` column as a string from the `leaders` table, then we need to query the `facts` table with the string:"
   ]
  },
  {
   "cell_type": "code",
   "execution_count": 44,
   "metadata": {},
   "outputs": [
    {
     "data": {
      "text/html": [
       "<div>\n",
       "<style scoped>\n",
       "    .dataframe tbody tr th:only-of-type {\n",
       "        vertical-align: middle;\n",
       "    }\n",
       "\n",
       "    .dataframe tbody tr th {\n",
       "        vertical-align: top;\n",
       "    }\n",
       "\n",
       "    .dataframe thead th {\n",
       "        text-align: right;\n",
       "    }\n",
       "</style>\n",
       "<table border=\"1\" class=\"dataframe\">\n",
       "  <thead>\n",
       "    <tr style=\"text-align: right;\">\n",
       "      <th></th>\n",
       "      <th>id</th>\n",
       "      <th>code</th>\n",
       "      <th>name</th>\n",
       "      <th>area</th>\n",
       "      <th>area_land</th>\n",
       "      <th>area_water</th>\n",
       "      <th>population</th>\n",
       "      <th>population_growth</th>\n",
       "      <th>birth_rate</th>\n",
       "      <th>death_rate</th>\n",
       "      <th>migration_rate</th>\n",
       "      <th>created_at</th>\n",
       "      <th>updated_at</th>\n",
       "      <th>leader</th>\n",
       "    </tr>\n",
       "  </thead>\n",
       "  <tbody>\n",
       "  </tbody>\n",
       "</table>\n",
       "</div>"
      ],
      "text/plain": [
       "Empty DataFrame\n",
       "Columns: [id, code, name, area, area_land, area_water, population, population_growth, birth_rate, death_rate, migration_rate, created_at, updated_at, leader]\n",
       "Index: []"
      ]
     },
     "execution_count": 44,
     "metadata": {},
     "output_type": "execute_result"
    }
   ],
   "source": [
    "sql = 'SELECT * from facts WHERE name=\"United States\";'\n",
    "pd.read_sql(sql, conn)"
   ]
  },
  {
   "cell_type": "code",
   "execution_count": null,
   "metadata": {},
   "outputs": [],
   "source": []
  },
  {
   "cell_type": "markdown",
   "metadata": {},
   "source": [
    "There's no way to combine both sets of records with this table schema, or query them more efficiently.<br>\n",
    "\n",
    "Fortunately, SQL databases are commonly known as **relational databases** because they support relations between tables. These relations enable us to efficiently query across multiple tables.<br>\n",
    "\n",
    "The most common type of relation is known as a foreign key. A SQL foreign key points from a record in one table to a record in another table. Here's an example of creating a table that contains a **foreign key**:"
   ]
  },
  {
   "cell_type": "code",
   "execution_count": 46,
   "metadata": {},
   "outputs": [],
   "source": [
    "sql_ = 'drop table if exists leaders'\n",
    "sql = '''\n",
    "        CREATE TABLE leaders(\n",
    "           id integer PRIMARY KEY,\n",
    "           name text,\n",
    "           country integer,\n",
    "           worth float,\n",
    "           FOREIGN KEY(country) REFERENCES facts(id)\n",
    ");\n",
    "'''\n",
    "conn.cursor().execute(sql_)\n",
    "conn.cursor().execute(sql)\n",
    "conn.commit()"
   ]
  },
  {
   "cell_type": "code",
   "execution_count": null,
   "metadata": {},
   "outputs": [],
   "source": []
  },
  {
   "cell_type": "markdown",
   "metadata": {},
   "source": [
    "We've seen the `CREATE TABLE` statement before, but here are the main changes:\n",
    "\n",
    "* `country` is now an integer column, because it \"points\" to the id column of the `facts` table.\n",
    "* `FOREIGN KEY` -- specifies that we're setting one column in our table schema to be a foreign key to another table.\n",
    "* `(country)` -- specifies the column that is a foreign key.\n",
    "* `REFERENCES` -- indicates the table and column we're referencing with the foreign key.\n",
    "* `facts` -- the table that we're referencing with the foreign key.\n",
    "* `(id)` -- the column in facts that we're referencing with our foreign key."
   ]
  },
  {
   "cell_type": "markdown",
   "metadata": {},
   "source": [
    "After setting up this table, the `country` column of `leaders` can only be assigned integer values that exist in the `id` column of `facts`. This will point to a row in the `facts` table, and indicate that a particular leader represents a particular country.<br>\n",
    "\n",
    "Here's a diagram that may help you visualize what's happening:"
   ]
  },
  {
   "cell_type": "markdown",
   "metadata": {},
   "source": [
    "![](img/1.png)"
   ]
  },
  {
   "cell_type": "markdown",
   "metadata": {},
   "source": [
    "The above diagram shows how the integer value in the `country` column of `leaders` \"points\" to the corresponding value in the `id` column of `facts`, and thus associates a row in `leaders` with a row in `facts`."
   ]
  },
  {
   "cell_type": "code",
   "execution_count": null,
   "metadata": {},
   "outputs": [],
   "source": []
  },
  {
   "cell_type": "markdown",
   "metadata": {},
   "source": [
    "#### instructions\n",
    "Write a SQL query that creates a table called states in the factbook database that will contain information on each state in a country. It should have the following columns:\n",
    "* `id` -- `integer` data type, should be a primary key.\n",
    "* `name` -- `text` data type.\n",
    "* `area` -- `integer` data type.\n",
    "* `country` -- `integer foreign key` to the `id` column of the `facts` table."
   ]
  },
  {
   "cell_type": "code",
   "execution_count": 47,
   "metadata": {},
   "outputs": [],
   "source": [
    "sql = '''\n",
    "        create table states(\n",
    "            id int primary key,\n",
    "            name text,\n",
    "            area int,\n",
    "            country int,\n",
    "            foreign key(country) references fact(id)\n",
    "        );\n",
    "'''\n",
    "conn.cursor().execute(sql)\n",
    "conn.commit()"
   ]
  },
  {
   "cell_type": "code",
   "execution_count": 48,
   "metadata": {},
   "outputs": [
    {
     "data": {
      "text/html": [
       "<div>\n",
       "<style scoped>\n",
       "    .dataframe tbody tr th:only-of-type {\n",
       "        vertical-align: middle;\n",
       "    }\n",
       "\n",
       "    .dataframe tbody tr th {\n",
       "        vertical-align: top;\n",
       "    }\n",
       "\n",
       "    .dataframe thead th {\n",
       "        text-align: right;\n",
       "    }\n",
       "</style>\n",
       "<table border=\"1\" class=\"dataframe\">\n",
       "  <thead>\n",
       "    <tr style=\"text-align: right;\">\n",
       "      <th></th>\n",
       "      <th>id</th>\n",
       "      <th>name</th>\n",
       "      <th>area</th>\n",
       "      <th>country</th>\n",
       "    </tr>\n",
       "  </thead>\n",
       "  <tbody>\n",
       "  </tbody>\n",
       "</table>\n",
       "</div>"
      ],
      "text/plain": [
       "Empty DataFrame\n",
       "Columns: [id, name, area, country]\n",
       "Index: []"
      ]
     },
     "execution_count": 48,
     "metadata": {},
     "output_type": "execute_result"
    }
   ],
   "source": [
    "pd.read_sql('select * from states', conn)"
   ]
  },
  {
   "cell_type": "code",
   "execution_count": null,
   "metadata": {},
   "outputs": [],
   "source": []
  },
  {
   "cell_type": "markdown",
   "metadata": {},
   "source": [
    "## Join\n",
    "We can use the INNER JOIN statement to make querying across foreign key relationships easier:\n",
    "\n",
    "```sql\n",
    "SELECT [column1, column2, ...] from tableName1\n",
    "INNER JOIN tableName2\n",
    "ON tableName1.column3 == tableName2.column4;\n",
    "\n",
    "SELECT * from states\n",
    "INNER JOIN facts\n",
    "ON states.country == facts.id;\n",
    "```\n",
    "\n",
    "We've seen the basic SELECT statement before, so here's what's new:\n",
    "\n",
    "* `INNER JOIN` -- indicates that we're combining data from two tables into one query.\n",
    "* `facts` -- specifies the table we're joining with states.\n",
    "* `ON` -- indicate how SQL matches a record in states with a record in facts.\n",
    "* `facts.id` -- specifies that the id column in the facts table will be used to join.\n",
    "* `states.country` -- specifies that the country column in the states table will be used to join.\n",
    "\n",
    "You may recall from a previous screen that the country column of states \"points\" to the id column of facts. Therefore, we're saying that we're finding the associated row in facts for each row in states.<br>\n",
    "\n",
    "We'll get back each row of states, but with information from facts added in. This enables us to get all the information we need in one place, without having to resort to multiple queries."
   ]
  },
  {
   "cell_type": "code",
   "execution_count": 49,
   "metadata": {},
   "outputs": [
    {
     "data": {
      "text/html": [
       "<div>\n",
       "<style scoped>\n",
       "    .dataframe tbody tr th:only-of-type {\n",
       "        vertical-align: middle;\n",
       "    }\n",
       "\n",
       "    .dataframe tbody tr th {\n",
       "        vertical-align: top;\n",
       "    }\n",
       "\n",
       "    .dataframe thead th {\n",
       "        text-align: right;\n",
       "    }\n",
       "</style>\n",
       "<table border=\"1\" class=\"dataframe\">\n",
       "  <thead>\n",
       "    <tr style=\"text-align: right;\">\n",
       "      <th></th>\n",
       "      <th>id</th>\n",
       "      <th>name</th>\n",
       "      <th>area</th>\n",
       "      <th>country</th>\n",
       "      <th>id</th>\n",
       "      <th>code</th>\n",
       "      <th>name</th>\n",
       "      <th>area</th>\n",
       "      <th>area_land</th>\n",
       "      <th>area_water</th>\n",
       "      <th>population</th>\n",
       "      <th>population_growth</th>\n",
       "      <th>birth_rate</th>\n",
       "      <th>death_rate</th>\n",
       "      <th>migration_rate</th>\n",
       "      <th>created_at</th>\n",
       "      <th>updated_at</th>\n",
       "      <th>leader</th>\n",
       "    </tr>\n",
       "  </thead>\n",
       "  <tbody>\n",
       "  </tbody>\n",
       "</table>\n",
       "</div>"
      ],
      "text/plain": [
       "Empty DataFrame\n",
       "Columns: [id, name, area, country, id, code, name, area, area_land, area_water, population, population_growth, birth_rate, death_rate, migration_rate, created_at, updated_at, leader]\n",
       "Index: []"
      ]
     },
     "execution_count": 49,
     "metadata": {},
     "output_type": "execute_result"
    }
   ],
   "source": [
    "sql = '''\n",
    "        SELECT * from states\n",
    "        INNER JOIN facts\n",
    "        ON states.country == facts.id;\n",
    "'''\n",
    "pd.read_sql(sql, conn)"
   ]
  },
  {
   "cell_type": "markdown",
   "metadata": {},
   "source": [
    "#### instructions\n",
    "\n",
    "Write a SQL query that:\n",
    "* Uses the SELECT statement to query all the columns of the landmarks table.\n",
    "* Uses INNER JOIN to combine data from the landmarks table with data from the facts table.\n",
    "  * Uses the id column from facts and the country column of landmarks to perform the join."
   ]
  },
  {
   "cell_type": "code",
   "execution_count": null,
   "metadata": {},
   "outputs": [],
   "source": [
    "sql = '''\n",
    "        select * from landmarks\n",
    "        inner join facts\n",
    "        on landmarks.counry == facts.id;\n",
    "'''\n",
    "pd.read_sql(sql, conn)"
   ]
  },
  {
   "cell_type": "code",
   "execution_count": null,
   "metadata": {},
   "outputs": [],
   "source": []
  },
  {
   "cell_type": "markdown",
   "metadata": {},
   "source": [
    "There are a few different types of joins. Before diving into them, it's helpful to know that each table in a JOIN statement has a side:\n",
    "\n",
    "```sql\n",
    "SELECT * from landmarks\n",
    "INNER JOIN facts\n",
    "ON landmarks.country == facts.id;\n",
    "```\n",
    "\n",
    "In the above `JOIN` statement, `landmarks` is the left side table, and `facts` is the right side table. The table that is specified first is the left table, and the second is the right side table. Values come from the left and right sides when the `JOIN` is performed:"
   ]
  },
  {
   "cell_type": "code",
   "execution_count": null,
   "metadata": {},
   "outputs": [],
   "source": []
  },
  {
   "cell_type": "markdown",
   "metadata": {},
   "source": [
    "In the above table, id, name, and country come from landmarks. id_1, code, name_1, area, and the rest of the columns come from facts. The _1 suffixes are because some columns from the tables have the same names, so the suffixes are to disambiguate. The records are combined via the JOIN when country from the landmarks table matches id_1 from the facts table.\n",
    "\n",
    "Given that, here are the types of joins:\n",
    "\n",
    "* `INNER JOIN` -- only displays rows where there is a match for the ON condition in both tables. Any rows that aren't matched are excluded.\n",
    "* `LEFT OUTER JOIN` -- if there is no match for a row from the table on the left side of the ON condition, it is shown with NULL values for all the right side values.\n",
    "* `RIGHT OUTER JOIN` -- if there is no match for a row from the table on the right side of the ON condition, it is shown with NULL values for all the left side values.\n",
    "\n",
    "`INNER JOIN` is the most common type of join, but LEFT OUTER JOIN is also occassionally used. It's very uncommon to use RIGHT OUTER JOIN, and SQLite doesn't support it.\n",
    "\n",
    "From a syntax points of view, using the statements is the exact same, you just swap out `INNER JOIN` for `LEFT OUTER JOIN`.\n"
   ]
  },
  {
   "cell_type": "code",
   "execution_count": null,
   "metadata": {},
   "outputs": [],
   "source": []
  },
  {
   "cell_type": "markdown",
   "metadata": {},
   "source": [
    "#### instructions\n",
    "Write a SQL query that:\n",
    "* Uses the SELECT statement to query all the columns of the landmarks table.\n",
    "* Uses LEFT OUTER JOIN to combine data from the landmarks table with data from the facts table.\n",
    "  * Uses the id column from facts and the country column of landmarks to perform the join."
   ]
  },
  {
   "cell_type": "code",
   "execution_count": null,
   "metadata": {},
   "outputs": [],
   "source": [
    "sql = '''\n",
    "        select * from landmarks\n",
    "        left outer join facts\n",
    "        on landmarks.country == facts.id\n",
    "'''\n",
    "pd.read_sql(sql, conn)"
   ]
  },
  {
   "cell_type": "code",
   "execution_count": null,
   "metadata": {},
   "outputs": [],
   "source": []
  },
  {
   "cell_type": "code",
   "execution_count": 52,
   "metadata": {},
   "outputs": [],
   "source": [
    "conn.close()"
   ]
  }
 ],
 "metadata": {
  "kernelspec": {
   "display_name": "Python 3",
   "language": "python",
   "name": "python3"
  },
  "language_info": {
   "codemirror_mode": {
    "name": "ipython",
    "version": 3
   },
   "file_extension": ".py",
   "mimetype": "text/x-python",
   "name": "python",
   "nbconvert_exporter": "python",
   "pygments_lexer": "ipython3",
   "version": "3.6.2"
  }
 },
 "nbformat": 4,
 "nbformat_minor": 2
}
