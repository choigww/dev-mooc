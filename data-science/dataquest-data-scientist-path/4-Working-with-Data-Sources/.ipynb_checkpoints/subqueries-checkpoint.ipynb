{
 "cells": [
  {
   "cell_type": "markdown",
   "metadata": {},
   "source": [
    "# Subqueries\n",
    "\n",
    "* Which rows are above the average for the ShareWomen column?\n",
    "\n",
    "Using the SQL we've learned so far, there's no way to write a query that answers these questions. Aggregate functions, like `AVG()` can only be used in the `SELECT` clause. The following query:\n",
    "\n",
    "```sql\n",
    "SELECT * FROM recent_grads\n",
    "WHERE ShareWomen > AVG(ShareWomen)\n",
    "```\n",
    "\n",
    "will return an error:\n",
    "```sql\n",
    "(sqlite3.OperationalError) misuse of aggregate function AVG() [SQL: 'SELECT * FROM recent_grads WHERE ShareWomen > AVG(ShareWomen)']\n",
    "```\n",
    "\n",
    "We need to instead learn **how to break up a question we want to answer into a series of queries that can be combined**."
   ]
  },
  {
   "cell_type": "code",
   "execution_count": 1,
   "metadata": {},
   "outputs": [],
   "source": [
    "import pandas as pd\n",
    "import pymysql\n",
    "\n",
    "host_name = \"choigww-freedb\"\n",
    "username = \"\"\n",
    "password = \"\"\n",
    "database_name = \"dataquest\"\n",
    "\n",
    "db = pymysql.connect(\n",
    "    host=host_name,  # DATABASE_HOST\n",
    "    port=3306,\n",
    "    user=username,  # DATABASE_USERNAME\n",
    "    passwd=password,  # DATABASE_PASSWORD\n",
    "    db=database_name,  # DATABASE_NAME\n",
    "    charset='utf8'\n",
    ")\n",
    "cursor = db.cursor()\n",
    "cursor.execute(\"set names utf8\")\n",
    "db.commit()"
   ]
  },
  {
   "cell_type": "code",
   "execution_count": null,
   "metadata": {},
   "outputs": [],
   "source": []
  },
  {
   "cell_type": "markdown",
   "metadata": {},
   "source": [
    "To determine which majors are above the average for the `ShareWomen` column, we need to:\n",
    "\n",
    "* first determine the average value for the `ShareWomen` column\n",
    "* then select and filter the rows that are greater than the average value\n",
    "\n",
    "If we had to do this using Python and pandas, we would compute and store the average value in `ShareWomen` as a variable and then use the variable in a table filter. While variables dominate how we express logic object oriented programming languages like Python and Java, SQL doesn't have support for variables. The designers of SQL, a [declarative programming language](https://en.wikipedia.org/wiki/Declarative_programming), want it's users to focus on expressing computations over explicitly defining, setting, and juggling variables.\n",
    "\n",
    "* What would the query look like if we already knew the average value for the `ShareWomen` column?\n",
    "\n",
    "```sql\n",
    "SELECT Major, ShareWomen FROM recent_grads\n",
    "WHERE ShareWomen > 0.5225502029537575\n",
    "```\n",
    "\n",
    "Now, how do we make the computed average value, 0.5225502029537575, dynamic?\n",
    "\n",
    "* Let's introduce the SQL way to solve this problem -- **subqueries**. A subquery is a query nested within another query. Here's a template for a SQL statement where the subquery resides in the `WHERE` clause:\n",
    "\n",
    "```sql\n",
    "SELECT Major, ShareWomen FROM recent_grads\n",
    "WHERE ShareWomen > (subquery that returns the average value for ShareWomen)\n",
    "```\n",
    "\n",
    "The subquery is run first and returns the average value for the `ShareWomen` column (which happens to be `0.5225502029537575`). Based on the result of the subquery, SQL will replace the subquery with this value dynamically. Note that SQL will ignore the column name (`AVG(ShareWomen)`) and is smart enough to just use the actual row value. Here's a diagram that makes the flow clearer:\n",
    "\n",
    "![](https://s3.amazonaws.com/dq-content/255/subquery_one.svg)\n",
    "\n",
    "The query that replaces the placeholder `subquery` needs to be a **full query (contain `SELECT` and `FROM` clauses, etc)**, that works even if it's run separately. In addition, the inner query should only return a table with a single row and column because of where it fits in the outer query (`... WHERE > ?`). If you instead try to return a table with multiple columns, for example, the following error will be returned:\n",
    "\n",
    "```sql\n",
    "(sqlite3.OperationalError) only a single result allowed for a SELECT that is part of an expression [SQL: 'SELECT Major, ShareWomen FROM recent_grads WHERE ShareWomen > (SELECT Major, AVG(ShareWomen) FROM recent_grads)']\n",
    "```\n",
    "\n",
    "Lastly, **a subquery must always be contained within parentheses ()**, or the following error will be returned."
   ]
  },
  {
   "cell_type": "code",
   "execution_count": null,
   "metadata": {},
   "outputs": [],
   "source": []
  },
  {
   "cell_type": "markdown",
   "metadata": {},
   "source": [
    "Write a query that returns the majors that are below the average for Unemployment_rate. The results should:\n",
    "* only contain the Major and Unemployment_rate columns\n",
    "* be sorted in ascending order by Unemployment_rate"
   ]
  },
  {
   "cell_type": "code",
   "execution_count": 5,
   "metadata": {},
   "outputs": [
    {
     "data": {
      "text/html": [
       "<div>\n",
       "<style scoped>\n",
       "    .dataframe tbody tr th:only-of-type {\n",
       "        vertical-align: middle;\n",
       "    }\n",
       "\n",
       "    .dataframe tbody tr th {\n",
       "        vertical-align: top;\n",
       "    }\n",
       "\n",
       "    .dataframe thead th {\n",
       "        text-align: right;\n",
       "    }\n",
       "</style>\n",
       "<table border=\"1\" class=\"dataframe\">\n",
       "  <thead>\n",
       "    <tr style=\"text-align: right;\">\n",
       "      <th></th>\n",
       "      <th>Major</th>\n",
       "      <th>Unemployment_rate</th>\n",
       "    </tr>\n",
       "  </thead>\n",
       "  <tbody>\n",
       "    <tr>\n",
       "      <th>0</th>\n",
       "      <td>MILITARY TECHNOLOGIES</td>\n",
       "      <td>0.000000</td>\n",
       "    </tr>\n",
       "    <tr>\n",
       "      <th>1</th>\n",
       "      <td>SOIL SCIENCE</td>\n",
       "      <td>0.000000</td>\n",
       "    </tr>\n",
       "    <tr>\n",
       "      <th>2</th>\n",
       "      <td>BOTANY</td>\n",
       "      <td>0.000000</td>\n",
       "    </tr>\n",
       "    <tr>\n",
       "      <th>3</th>\n",
       "      <td>EDUCATIONAL ADMINISTRATION AND SUPERVISION</td>\n",
       "      <td>0.000000</td>\n",
       "    </tr>\n",
       "    <tr>\n",
       "      <th>4</th>\n",
       "      <td>MATHEMATICS AND COMPUTER SCIENCE</td>\n",
       "      <td>0.000000</td>\n",
       "    </tr>\n",
       "    <tr>\n",
       "      <th>5</th>\n",
       "      <td>ENGINEERING MECHANICS PHYSICS AND SCIENCE</td>\n",
       "      <td>0.006334</td>\n",
       "    </tr>\n",
       "    <tr>\n",
       "      <th>6</th>\n",
       "      <td>COURT REPORTING</td>\n",
       "      <td>0.011690</td>\n",
       "    </tr>\n",
       "    <tr>\n",
       "      <th>7</th>\n",
       "      <td>MATHEMATICS TEACHER EDUCATION</td>\n",
       "      <td>0.016203</td>\n",
       "    </tr>\n",
       "    <tr>\n",
       "      <th>8</th>\n",
       "      <td>PETROLEUM ENGINEERING</td>\n",
       "      <td>0.018381</td>\n",
       "    </tr>\n",
       "    <tr>\n",
       "      <th>9</th>\n",
       "      <td>GENERAL AGRICULTURE</td>\n",
       "      <td>0.019642</td>\n",
       "    </tr>\n",
       "  </tbody>\n",
       "</table>\n",
       "</div>"
      ],
      "text/plain": [
       "                                        Major  Unemployment_rate\n",
       "0                       MILITARY TECHNOLOGIES           0.000000\n",
       "1                                SOIL SCIENCE           0.000000\n",
       "2                                      BOTANY           0.000000\n",
       "3  EDUCATIONAL ADMINISTRATION AND SUPERVISION           0.000000\n",
       "4            MATHEMATICS AND COMPUTER SCIENCE           0.000000\n",
       "5   ENGINEERING MECHANICS PHYSICS AND SCIENCE           0.006334\n",
       "6                             COURT REPORTING           0.011690\n",
       "7               MATHEMATICS TEACHER EDUCATION           0.016203\n",
       "8                       PETROLEUM ENGINEERING           0.018381\n",
       "9                         GENERAL AGRICULTURE           0.019642"
      ]
     },
     "execution_count": 5,
     "metadata": {},
     "output_type": "execute_result"
    }
   ],
   "source": [
    "sql = '''\n",
    "        select Major, Unemployment_rate\n",
    "        from recent_grads\n",
    "        where Unemployment_rate <\n",
    "                    (select AVG(Unemployment_rate)\n",
    "                    from recent_grads\n",
    "                    )\n",
    "        order by Unemployment_rate\n",
    "        limit 10\n",
    "'''\n",
    "pd.read_sql(sql, db)"
   ]
  },
  {
   "cell_type": "code",
   "execution_count": null,
   "metadata": {},
   "outputs": [],
   "source": []
  },
  {
   "cell_type": "markdown",
   "metadata": {},
   "source": [
    "In the last screen, we wrote SQL statements that used a subquery to express dynamic filter criteria in the WHERE clause. Specifically, we were interested in rows that were above or below the average value in a specific column. What if we wanted to understand the proportion of majors are above the average for a given column? We'd need to divide the number of rows that met the filter criteria with the total number of rows in the table.\n",
    "\n",
    "* Let's focus on the query from the last screen:"
   ]
  },
  {
   "cell_type": "code",
   "execution_count": 3,
   "metadata": {},
   "outputs": [
    {
     "data": {
      "text/html": [
       "<div>\n",
       "<style scoped>\n",
       "    .dataframe tbody tr th:only-of-type {\n",
       "        vertical-align: middle;\n",
       "    }\n",
       "\n",
       "    .dataframe tbody tr th {\n",
       "        vertical-align: top;\n",
       "    }\n",
       "\n",
       "    .dataframe thead th {\n",
       "        text-align: right;\n",
       "    }\n",
       "</style>\n",
       "<table border=\"1\" class=\"dataframe\">\n",
       "  <thead>\n",
       "    <tr style=\"text-align: right;\">\n",
       "      <th></th>\n",
       "      <th>Major</th>\n",
       "      <th>ShareWomen</th>\n",
       "    </tr>\n",
       "  </thead>\n",
       "  <tbody>\n",
       "    <tr>\n",
       "      <th>0</th>\n",
       "      <td>ASTRONOMY AND ASTROPHYSICS</td>\n",
       "      <td>0.535714</td>\n",
       "    </tr>\n",
       "    <tr>\n",
       "      <th>1</th>\n",
       "      <td>PUBLIC POLICY</td>\n",
       "      <td>0.558548</td>\n",
       "    </tr>\n",
       "    <tr>\n",
       "      <th>2</th>\n",
       "      <td>NURSING</td>\n",
       "      <td>0.896019</td>\n",
       "    </tr>\n",
       "    <tr>\n",
       "      <th>3</th>\n",
       "      <td>NUCLEAR, INDUSTRIAL RADIOLOGY, AND BIOLOGICAL ...</td>\n",
       "      <td>0.750473</td>\n",
       "    </tr>\n",
       "    <tr>\n",
       "      <th>4</th>\n",
       "      <td>ACCOUNTING</td>\n",
       "      <td>0.524153</td>\n",
       "    </tr>\n",
       "    <tr>\n",
       "      <th>5</th>\n",
       "      <td>MEDICAL TECHNOLOGIES TECHNICIANS</td>\n",
       "      <td>0.753927</td>\n",
       "    </tr>\n",
       "    <tr>\n",
       "      <th>6</th>\n",
       "      <td>STATISTICS AND DECISION SCIENCE</td>\n",
       "      <td>0.526476</td>\n",
       "    </tr>\n",
       "    <tr>\n",
       "      <th>7</th>\n",
       "      <td>PHARMACOLOGY</td>\n",
       "      <td>0.707719</td>\n",
       "    </tr>\n",
       "    <tr>\n",
       "      <th>8</th>\n",
       "      <td>OCEANOGRAPHY</td>\n",
       "      <td>0.688999</td>\n",
       "    </tr>\n",
       "    <tr>\n",
       "      <th>9</th>\n",
       "      <td>MEDICAL ASSISTING SERVICES</td>\n",
       "      <td>0.927807</td>\n",
       "    </tr>\n",
       "  </tbody>\n",
       "</table>\n",
       "</div>"
      ],
      "text/plain": [
       "                                               Major  ShareWomen\n",
       "0                         ASTRONOMY AND ASTROPHYSICS    0.535714\n",
       "1                                      PUBLIC POLICY    0.558548\n",
       "2                                            NURSING    0.896019\n",
       "3  NUCLEAR, INDUSTRIAL RADIOLOGY, AND BIOLOGICAL ...    0.750473\n",
       "4                                         ACCOUNTING    0.524153\n",
       "5                   MEDICAL TECHNOLOGIES TECHNICIANS    0.753927\n",
       "6                    STATISTICS AND DECISION SCIENCE    0.526476\n",
       "7                                       PHARMACOLOGY    0.707719\n",
       "8                                       OCEANOGRAPHY    0.688999\n",
       "9                         MEDICAL ASSISTING SERVICES    0.927807"
      ]
     },
     "execution_count": 3,
     "metadata": {},
     "output_type": "execute_result"
    }
   ],
   "source": [
    "sql = '''\n",
    "        SELECT Major, ShareWomen FROM recent_grads\n",
    "        WHERE ShareWomen > (SELECT AVG(ShareWomen) FROM recent_grads)\n",
    "        limit 10\n",
    "'''\n",
    "pd.read_sql(sql, db)"
   ]
  },
  {
   "cell_type": "markdown",
   "metadata": {},
   "source": [
    "Using the COUNT() aggregate function, we can return the number of rows the results set contains:"
   ]
  },
  {
   "cell_type": "code",
   "execution_count": 4,
   "metadata": {},
   "outputs": [
    {
     "data": {
      "text/html": [
       "<div>\n",
       "<style scoped>\n",
       "    .dataframe tbody tr th:only-of-type {\n",
       "        vertical-align: middle;\n",
       "    }\n",
       "\n",
       "    .dataframe tbody tr th {\n",
       "        vertical-align: top;\n",
       "    }\n",
       "\n",
       "    .dataframe thead th {\n",
       "        text-align: right;\n",
       "    }\n",
       "</style>\n",
       "<table border=\"1\" class=\"dataframe\">\n",
       "  <thead>\n",
       "    <tr style=\"text-align: right;\">\n",
       "      <th></th>\n",
       "      <th>COUNT(*)</th>\n",
       "    </tr>\n",
       "  </thead>\n",
       "  <tbody>\n",
       "    <tr>\n",
       "      <th>0</th>\n",
       "      <td>90</td>\n",
       "    </tr>\n",
       "  </tbody>\n",
       "</table>\n",
       "</div>"
      ],
      "text/plain": [
       "   COUNT(*)\n",
       "0        90"
      ]
     },
     "execution_count": 4,
     "metadata": {},
     "output_type": "execute_result"
    }
   ],
   "source": [
    "sql = '''\n",
    "        SELECT COUNT(*) FROM recent_grads\n",
    "        WHERE ShareWomen > (SELECT AVG(ShareWomen)\n",
    "        FROM recent_grads)\n",
    "'''\n",
    "pd.read_sql(sql, db)"
   ]
  },
  {
   "cell_type": "markdown",
   "metadata": {},
   "source": [
    "To return the proportion, we need to divide this value with the total number of rows in recent_grads. The challenge, however, is that the we don't know the total number of rows (or want to be reliant on an out of date calculation anyway that we could potentially hard code).\n",
    "\n",
    "* To dynamically calculate the number of total rows in recent_grads and be able to use it in another SQL statement, we can use a subquery in the SELECT clause:"
   ]
  },
  {
   "cell_type": "code",
   "execution_count": 5,
   "metadata": {},
   "outputs": [
    {
     "data": {
      "text/html": [
       "<div>\n",
       "<style scoped>\n",
       "    .dataframe tbody tr th:only-of-type {\n",
       "        vertical-align: middle;\n",
       "    }\n",
       "\n",
       "    .dataframe tbody tr th {\n",
       "        vertical-align: top;\n",
       "    }\n",
       "\n",
       "    .dataframe thead th {\n",
       "        text-align: right;\n",
       "    }\n",
       "</style>\n",
       "<table border=\"1\" class=\"dataframe\">\n",
       "  <thead>\n",
       "    <tr style=\"text-align: right;\">\n",
       "      <th></th>\n",
       "      <th>COUNT(*)</th>\n",
       "      <th>(SELECT COUNT(*) \n",
       "                          FROM recent_grads)</th>\n",
       "    </tr>\n",
       "  </thead>\n",
       "  <tbody>\n",
       "    <tr>\n",
       "      <th>0</th>\n",
       "      <td>90</td>\n",
       "      <td>172</td>\n",
       "    </tr>\n",
       "  </tbody>\n",
       "</table>\n",
       "</div>"
      ],
      "text/plain": [
       "   COUNT(*)  (SELECT COUNT(*) \\n                          FROM recent_grads)\n",
       "0        90                                                172              "
      ]
     },
     "execution_count": 5,
     "metadata": {},
     "output_type": "execute_result"
    }
   ],
   "source": [
    "sql = '''\n",
    "        SELECT COUNT(*), (SELECT COUNT(*) \n",
    "                          FROM recent_grads) \n",
    "        FROM recent_grads\n",
    "        WHERE ShareWomen > (SELECT AVG(ShareWomen) \n",
    "                            FROM recent_grads)\n",
    "'''\n",
    "pd.read_sql(sql, db)"
   ]
  },
  {
   "cell_type": "markdown",
   "metadata": {},
   "source": [
    "#### instructions\n",
    "* Write a SQL statement that computes the proportion (as a float value) of rows that contain above average values for the `ShareWomen`.\n",
    "* The results should only return the proportion, aliased as `proportion_abv_avg`, like so (with a different value):"
   ]
  },
  {
   "cell_type": "code",
   "execution_count": 9,
   "metadata": {},
   "outputs": [
    {
     "data": {
      "text/html": [
       "<div>\n",
       "<style scoped>\n",
       "    .dataframe tbody tr th:only-of-type {\n",
       "        vertical-align: middle;\n",
       "    }\n",
       "\n",
       "    .dataframe tbody tr th {\n",
       "        vertical-align: top;\n",
       "    }\n",
       "\n",
       "    .dataframe thead th {\n",
       "        text-align: right;\n",
       "    }\n",
       "</style>\n",
       "<table border=\"1\" class=\"dataframe\">\n",
       "  <thead>\n",
       "    <tr style=\"text-align: right;\">\n",
       "      <th></th>\n",
       "      <th>COUNT(*) / (SELECT COUNT(*) \n",
       "                           FROM recent_grads)</th>\n",
       "    </tr>\n",
       "  </thead>\n",
       "  <tbody>\n",
       "    <tr>\n",
       "      <th>0</th>\n",
       "      <td>0.5233</td>\n",
       "    </tr>\n",
       "  </tbody>\n",
       "</table>\n",
       "</div>"
      ],
      "text/plain": [
       "   COUNT(*) / (SELECT COUNT(*) \\n                           FROM recent_grads)\n",
       "0                                             0.5233                          "
      ]
     },
     "execution_count": 9,
     "metadata": {},
     "output_type": "execute_result"
    }
   ],
   "source": [
    "sql = '''\n",
    "        SELECT COUNT(*) / (SELECT COUNT(*) \n",
    "                           FROM recent_grads) \n",
    "        FROM recent_grads\n",
    "        WHERE ShareWomen > (SELECT AVG(ShareWomen) \n",
    "                            FROM recent_grads)\n",
    "'''\n",
    "pd.read_sql(sql, db)"
   ]
  },
  {
   "cell_type": "code",
   "execution_count": null,
   "metadata": {},
   "outputs": [],
   "source": [
    "sql = '''\n",
    "        SELECT CAST(COUNT(*) as float) \n",
    "                / \n",
    "                cast((SELECT COUNT(*) \n",
    "                      FROM recent_grads) \n",
    "                      as float) \n",
    "                proportion_abv_avg\n",
    "        \n",
    "        FROM recent_grads\n",
    "        \n",
    "        WHERE ShareWomen > (SELECT AVG(ShareWomen) \n",
    "                            FROM recent_grads)\n",
    "\n",
    "'''\n",
    "\n",
    "pd.read_sql(sql, db)"
   ]
  },
  {
   "cell_type": "code",
   "execution_count": 11,
   "metadata": {},
   "outputs": [
    {
     "data": {
      "text/html": [
       "<div>\n",
       "<style scoped>\n",
       "    .dataframe tbody tr th:only-of-type {\n",
       "        vertical-align: middle;\n",
       "    }\n",
       "\n",
       "    .dataframe tbody tr th {\n",
       "        vertical-align: top;\n",
       "    }\n",
       "\n",
       "    .dataframe thead th {\n",
       "        text-align: right;\n",
       "    }\n",
       "</style>\n",
       "<table border=\"1\" class=\"dataframe\">\n",
       "  <thead>\n",
       "    <tr style=\"text-align: right;\">\n",
       "      <th></th>\n",
       "      <th>proportion_abv_avg</th>\n",
       "    </tr>\n",
       "  </thead>\n",
       "  <tbody>\n",
       "    <tr>\n",
       "      <th>0</th>\n",
       "      <td>0.5233</td>\n",
       "    </tr>\n",
       "  </tbody>\n",
       "</table>\n",
       "</div>"
      ],
      "text/plain": [
       "   proportion_abv_avg\n",
       "0              0.5233"
      ]
     },
     "execution_count": 11,
     "metadata": {},
     "output_type": "execute_result"
    }
   ],
   "source": [
    "# pymysql applies cast to float by default.\n",
    "\n",
    "sql = '''\n",
    "        SELECT COUNT(*) \n",
    "                / \n",
    "                (SELECT COUNT(*) \n",
    "                 FROM recent_grads) \n",
    "                proportion_abv_avg\n",
    "        \n",
    "        FROM recent_grads\n",
    "        \n",
    "        WHERE ShareWomen > (SELECT AVG(ShareWomen) \n",
    "                            FROM recent_grads)\n",
    "\n",
    "'''\n",
    "\n",
    "pd.read_sql(sql, db)"
   ]
  },
  {
   "cell_type": "code",
   "execution_count": null,
   "metadata": {},
   "outputs": [],
   "source": []
  },
  {
   "cell_type": "markdown",
   "metadata": {},
   "source": [
    "So far, the subqueries we've used have computed an aggregate value of some kind and returned that value to the outer query to use for filtering. This is because we only worked with the `<` and `>` operators, which, by definition, expect a single value to compare against in a filter. As we learned earlier in this course [from the documentation](https://sqlite.org/lang_expr.html), SQLite contains all of the following operators:\n",
    "\n",
    "![](https://s3.amazonaws.com/dq-content/255/sqlite_operators.png)\n",
    "\n",
    "Using the `IN` operator, we can specify a list of values that we want to match against in the `WHERE` clause. All rows that match exactly will be returned. The following query returns the rows where `Major_category` equals either `Business` or `Engineering`:\n"
   ]
  },
  {
   "cell_type": "code",
   "execution_count": 12,
   "metadata": {},
   "outputs": [
    {
     "data": {
      "text/html": [
       "<div>\n",
       "<style scoped>\n",
       "    .dataframe tbody tr th:only-of-type {\n",
       "        vertical-align: middle;\n",
       "    }\n",
       "\n",
       "    .dataframe tbody tr th {\n",
       "        vertical-align: top;\n",
       "    }\n",
       "\n",
       "    .dataframe thead th {\n",
       "        text-align: right;\n",
       "    }\n",
       "</style>\n",
       "<table border=\"1\" class=\"dataframe\">\n",
       "  <thead>\n",
       "    <tr style=\"text-align: right;\">\n",
       "      <th></th>\n",
       "      <th>Major</th>\n",
       "      <th>Major_category</th>\n",
       "    </tr>\n",
       "  </thead>\n",
       "  <tbody>\n",
       "    <tr>\n",
       "      <th>0</th>\n",
       "      <td>PETROLEUM ENGINEERING</td>\n",
       "      <td>Engineering</td>\n",
       "    </tr>\n",
       "    <tr>\n",
       "      <th>1</th>\n",
       "      <td>MINING AND MINERAL ENGINEERING</td>\n",
       "      <td>Engineering</td>\n",
       "    </tr>\n",
       "    <tr>\n",
       "      <th>2</th>\n",
       "      <td>METALLURGICAL ENGINEERING</td>\n",
       "      <td>Engineering</td>\n",
       "    </tr>\n",
       "    <tr>\n",
       "      <th>3</th>\n",
       "      <td>NAVAL ARCHITECTURE AND MARINE ENGINEERING</td>\n",
       "      <td>Engineering</td>\n",
       "    </tr>\n",
       "    <tr>\n",
       "      <th>4</th>\n",
       "      <td>CHEMICAL ENGINEERING</td>\n",
       "      <td>Engineering</td>\n",
       "    </tr>\n",
       "    <tr>\n",
       "      <th>5</th>\n",
       "      <td>NUCLEAR ENGINEERING</td>\n",
       "      <td>Engineering</td>\n",
       "    </tr>\n",
       "    <tr>\n",
       "      <th>6</th>\n",
       "      <td>ACTUARIAL SCIENCE</td>\n",
       "      <td>Business</td>\n",
       "    </tr>\n",
       "  </tbody>\n",
       "</table>\n",
       "</div>"
      ],
      "text/plain": [
       "                                       Major Major_category\n",
       "0                      PETROLEUM ENGINEERING    Engineering\n",
       "1             MINING AND MINERAL ENGINEERING    Engineering\n",
       "2                  METALLURGICAL ENGINEERING    Engineering\n",
       "3  NAVAL ARCHITECTURE AND MARINE ENGINEERING    Engineering\n",
       "4                       CHEMICAL ENGINEERING    Engineering\n",
       "5                        NUCLEAR ENGINEERING    Engineering\n",
       "6                          ACTUARIAL SCIENCE       Business"
      ]
     },
     "execution_count": 12,
     "metadata": {},
     "output_type": "execute_result"
    }
   ],
   "source": [
    "sql = '''\n",
    "        select Major, Major_category\n",
    "        from recent_grads\n",
    "        where Major_category in\n",
    "            ('Business', 'Engineering')\n",
    "        limit 7\n",
    "'''\n",
    "pd.read_sql(sql, db)"
   ]
  },
  {
   "cell_type": "code",
   "execution_count": null,
   "metadata": {},
   "outputs": [],
   "source": []
  },
  {
   "cell_type": "markdown",
   "metadata": {},
   "source": [
    "Opportunities like this, where we've hard coded values, are usually good candidates for converting to a subquery. Instead of returning the rows where `Major_category` equals one of 2 specific values, we can write a subquery that returns the `Major_category` with the 5 highest group level sums for the `Total` column:"
   ]
  },
  {
   "cell_type": "code",
   "execution_count": 15,
   "metadata": {},
   "outputs": [
    {
     "data": {
      "text/html": [
       "<div>\n",
       "<style scoped>\n",
       "    .dataframe tbody tr th:only-of-type {\n",
       "        vertical-align: middle;\n",
       "    }\n",
       "\n",
       "    .dataframe tbody tr th {\n",
       "        vertical-align: top;\n",
       "    }\n",
       "\n",
       "    .dataframe thead th {\n",
       "        text-align: right;\n",
       "    }\n",
       "</style>\n",
       "<table border=\"1\" class=\"dataframe\">\n",
       "  <thead>\n",
       "    <tr style=\"text-align: right;\">\n",
       "      <th></th>\n",
       "      <th>Major_category</th>\n",
       "      <th>sum(Total)</th>\n",
       "    </tr>\n",
       "  </thead>\n",
       "  <tbody>\n",
       "    <tr>\n",
       "      <th>0</th>\n",
       "      <td>Business</td>\n",
       "      <td>1302376.0</td>\n",
       "    </tr>\n",
       "    <tr>\n",
       "      <th>1</th>\n",
       "      <td>Humanities &amp; Liberal Arts</td>\n",
       "      <td>713468.0</td>\n",
       "    </tr>\n",
       "    <tr>\n",
       "      <th>2</th>\n",
       "      <td>Education</td>\n",
       "      <td>559129.0</td>\n",
       "    </tr>\n",
       "    <tr>\n",
       "      <th>3</th>\n",
       "      <td>Engineering</td>\n",
       "      <td>537583.0</td>\n",
       "    </tr>\n",
       "    <tr>\n",
       "      <th>4</th>\n",
       "      <td>Social Science</td>\n",
       "      <td>529966.0</td>\n",
       "    </tr>\n",
       "  </tbody>\n",
       "</table>\n",
       "</div>"
      ],
      "text/plain": [
       "              Major_category  sum(Total)\n",
       "0                   Business   1302376.0\n",
       "1  Humanities & Liberal Arts    713468.0\n",
       "2                  Education    559129.0\n",
       "3                Engineering    537583.0\n",
       "4             Social Science    529966.0"
      ]
     },
     "execution_count": 15,
     "metadata": {},
     "output_type": "execute_result"
    }
   ],
   "source": [
    "sql = '''\n",
    "        select Major_category, sum(Total)\n",
    "        from recent_grads\n",
    "        group by Major_category\n",
    "        order by sum(Total) desc\n",
    "        limit 5\n",
    "'''\n",
    "pd.read_sql(sql, db)"
   ]
  },
  {
   "cell_type": "markdown",
   "metadata": {},
   "source": [
    "#### instructions\n",
    "Write a query that returns the Major and Major_category columns for the rows where:\n",
    "* Major_category is one of the 5 highest group level sums for the Total column"
   ]
  },
  {
   "cell_type": "code",
   "execution_count": null,
   "metadata": {},
   "outputs": [],
   "source": [
    "sql = '''\n",
    "       select Major, Major_category\n",
    "       from recent_grads\n",
    "       where Major_category\n",
    "       in (select Major_category\n",
    "           from recent_grads\n",
    "           group by Major_category\n",
    "           order by sum(Total) desc\n",
    "           limit 5)\n",
    "'''\n",
    "pd.read_sql(sql, db) \n",
    "# \"This version of MySQL doesn't yet support \n",
    "# 'LIMIT & IN/ALL/ANY/SOME subquery'\""
   ]
  },
  {
   "cell_type": "code",
   "execution_count": null,
   "metadata": {},
   "outputs": [],
   "source": []
  },
  {
   "cell_type": "markdown",
   "metadata": {},
   "source": [
    "When you have a SQL statement you want to write that will end up using many subqueries, it can be overwhelming at first to know how to start. In general, you want to start with the inner queries first and work your way outwards. Let's say we're interested in understanding the ratio of the `Sample_size` column to the `Total` column. You can read the [dataset documentation](https://github.com/fivethirtyeight/data/tree/master/college-majors) if you need a reminder for what these columns represent.\n",
    "\n",
    "Specifically, let's say we're interested in:\n",
    "\n",
    "* computing this ratio for every major\n",
    "* understanding which majors are above the average for this ratio\n",
    "* understanding how many majors are above the average for this ratio\n",
    "\n",
    "We'll start by writing a query that computes the ratio for every major and then the average of all of these ratios."
   ]
  },
  {
   "cell_type": "code",
   "execution_count": null,
   "metadata": {},
   "outputs": [],
   "source": []
  },
  {
   "cell_type": "markdown",
   "metadata": {},
   "source": [
    "#### instructions\n",
    "Write a query that returns the average ratio (Sample_size/Total)) for all of the majors.\n",
    "* You'll need to cast both columns to the float type.\n",
    "Use the alias avg_ratio for the average ratio."
   ]
  },
  {
   "cell_type": "code",
   "execution_count": 37,
   "metadata": {},
   "outputs": [
    {
     "data": {
      "text/html": [
       "<div>\n",
       "<style scoped>\n",
       "    .dataframe tbody tr th:only-of-type {\n",
       "        vertical-align: middle;\n",
       "    }\n",
       "\n",
       "    .dataframe tbody tr th {\n",
       "        vertical-align: top;\n",
       "    }\n",
       "\n",
       "    .dataframe thead th {\n",
       "        text-align: right;\n",
       "    }\n",
       "</style>\n",
       "<table border=\"1\" class=\"dataframe\">\n",
       "  <thead>\n",
       "    <tr style=\"text-align: right;\">\n",
       "      <th></th>\n",
       "      <th>ratios</th>\n",
       "    </tr>\n",
       "  </thead>\n",
       "  <tbody>\n",
       "    <tr>\n",
       "      <th>0</th>\n",
       "      <td>0.029333</td>\n",
       "    </tr>\n",
       "    <tr>\n",
       "      <th>1</th>\n",
       "      <td>0.000558</td>\n",
       "    </tr>\n",
       "    <tr>\n",
       "      <th>2</th>\n",
       "      <td>0.007851</td>\n",
       "    </tr>\n",
       "    <tr>\n",
       "      <th>3</th>\n",
       "      <td>0.002224</td>\n",
       "    </tr>\n",
       "    <tr>\n",
       "      <th>4</th>\n",
       "      <td>0.000360</td>\n",
       "    </tr>\n",
       "    <tr>\n",
       "      <th>5</th>\n",
       "      <td>0.002103</td>\n",
       "    </tr>\n",
       "    <tr>\n",
       "      <th>6</th>\n",
       "      <td>0.003186</td>\n",
       "    </tr>\n",
       "    <tr>\n",
       "      <th>7</th>\n",
       "      <td>0.005736</td>\n",
       "    </tr>\n",
       "    <tr>\n",
       "      <th>8</th>\n",
       "      <td>0.000729</td>\n",
       "    </tr>\n",
       "    <tr>\n",
       "      <th>9</th>\n",
       "      <td>0.000417</td>\n",
       "    </tr>\n",
       "  </tbody>\n",
       "</table>\n",
       "</div>"
      ],
      "text/plain": [
       "     ratios\n",
       "0  0.029333\n",
       "1  0.000558\n",
       "2  0.007851\n",
       "3  0.002224\n",
       "4  0.000360\n",
       "5  0.002103\n",
       "6  0.003186\n",
       "7  0.005736\n",
       "8  0.000729\n",
       "9  0.000417"
      ]
     },
     "execution_count": 37,
     "metadata": {},
     "output_type": "execute_result"
    }
   ],
   "source": [
    "sql = '''\n",
    "        select Total\n",
    "                    /\n",
    "                    (select sum(Total) \n",
    "                    from recent_grads)\n",
    "                    ratios\n",
    "                    \n",
    "        from recent_grads\n",
    "        group by Major\n",
    "        limit 10\n",
    "'''\n",
    "pd.read_sql(sql, db)"
   ]
  },
  {
   "cell_type": "code",
   "execution_count": 44,
   "metadata": {
    "scrolled": true
   },
   "outputs": [
    {
     "data": {
      "text/html": [
       "<div>\n",
       "<style scoped>\n",
       "    .dataframe tbody tr th:only-of-type {\n",
       "        vertical-align: middle;\n",
       "    }\n",
       "\n",
       "    .dataframe tbody tr th {\n",
       "        vertical-align: top;\n",
       "    }\n",
       "\n",
       "    .dataframe thead th {\n",
       "        text-align: right;\n",
       "    }\n",
       "</style>\n",
       "<table border=\"1\" class=\"dataframe\">\n",
       "  <thead>\n",
       "    <tr style=\"text-align: right;\">\n",
       "      <th></th>\n",
       "      <th>avg_ratio</th>\n",
       "    </tr>\n",
       "  </thead>\n",
       "  <tbody>\n",
       "    <tr>\n",
       "      <th>0</th>\n",
       "      <td>0.009091</td>\n",
       "    </tr>\n",
       "  </tbody>\n",
       "</table>\n",
       "</div>"
      ],
      "text/plain": [
       "   avg_ratio\n",
       "0   0.009091"
      ]
     },
     "execution_count": 44,
     "metadata": {},
     "output_type": "execute_result"
    }
   ],
   "source": [
    "sql = '''\n",
    "        select AVG(\n",
    "                Sample_size\n",
    "                /\n",
    "                Total)\n",
    "                avg_ratio \n",
    "        from recent_grads\n",
    "'''\n",
    "pd.read_sql(sql, db)"
   ]
  },
  {
   "cell_type": "code",
   "execution_count": null,
   "metadata": {},
   "outputs": [],
   "source": []
  },
  {
   "cell_type": "markdown",
   "metadata": {},
   "source": [
    "Write a query that:\n",
    "* selects the Major, Major_category, and the computed ratio columns\n",
    "* filters to just the rows where `ratio` is greater than `avg_ratio`:\n",
    "  * recall that this value is the result of the subquery from the last screen: `select AVG(cast(Sample_size as float)/cast(Total as float)) avg_ratio from recent_grads`\n"
   ]
  },
  {
   "cell_type": "code",
   "execution_count": null,
   "metadata": {},
   "outputs": [],
   "source": [
    "sql = '''\n",
    "        select \n",
    "            Major, \n",
    "            Major_category, \n",
    "            Sample_size/Total as ratio\n",
    "            \n",
    "        \n",
    "        where ratio > (select avg(Sample_size/Total)\n",
    "                              avg_ratio\n",
    "                        from recent_grads) \n",
    "                        \n",
    "        from recent_grads\n",
    "'''\n",
    "pd.read_sql(sql, db)\n",
    "# seems like right query (working in dataquest website)\n",
    "# "
   ]
  },
  {
   "cell_type": "code",
   "execution_count": null,
   "metadata": {},
   "outputs": [],
   "source": [
    "# dataquest answer\n",
    "sql = '''\n",
    "        select Major, Major_category, cast(Sample_size as float)/cast(Total as float) ratio from recent_grads\n",
    "where ratio > (select AVG(cast(Sample_size as float)/cast(Total as float)) avgratio from recent_grads)\n",
    "'''"
   ]
  },
  {
   "cell_type": "code",
   "execution_count": null,
   "metadata": {},
   "outputs": [],
   "source": []
  }
 ],
 "metadata": {
  "kernelspec": {
   "display_name": "Python 3",
   "language": "python",
   "name": "python3"
  },
  "language_info": {
   "codemirror_mode": {
    "name": "ipython",
    "version": 3
   },
   "file_extension": ".py",
   "mimetype": "text/x-python",
   "name": "python",
   "nbconvert_exporter": "python",
   "pygments_lexer": "ipython3",
   "version": "3.6.2"
  }
 },
 "nbformat": 4,
 "nbformat_minor": 2
}
