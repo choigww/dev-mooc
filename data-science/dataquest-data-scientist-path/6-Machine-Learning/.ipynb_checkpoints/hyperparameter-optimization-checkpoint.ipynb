{
 "cells": [
  {
   "cell_type": "markdown",
   "metadata": {},
   "source": [
    "# Hyperparameter Optimization\n",
    "\n",
    "## Recap\n",
    "\n",
    "In the last mission, we focused on increasing the number of attributes the model uses. We saw how, in general, adding more attributes generally lowered the error of the model. This is because the model is able to do a better job identifying the living spaces from the training set that are the most similar to the ones from the test set. However, we also observed how using all of the available features didn't actually improve the model's accuracy automatically and that some of the features were probably not relevant for similarity ranking. We learned that selecting relevant features was the right lever when improving a model's accuracy, not just increasing the features used in the absolute.<br>\n",
    "\n",
    "**In this mission, we'll focus on the impact of increasing `k`, the number of nearby neighbors the model uses to make predictions**. We exported both the training (`train_df`) and test sets (`test_df`) from the last missions to CSV files, dc_airbnb_train.csv and dc_airbnb_test.csv respectively. Let's read both these CSV's into Dataframes."
   ]
  },
  {
   "cell_type": "code",
   "execution_count": 1,
   "metadata": {
    "collapsed": true
   },
   "outputs": [],
   "source": [
    "import pandas as pd\n",
    "import numpy as np\n",
    "from sklearn.neighbors import KNeighborsRegressor\n",
    "from sklearn.metrics import mean_squared_error"
   ]
  },
  {
   "cell_type": "code",
   "execution_count": 8,
   "metadata": {
    "collapsed": true
   },
   "outputs": [],
   "source": [
    "from matplotlib import pyplot as plt\n",
    "%matplotlib inline"
   ]
  },
  {
   "cell_type": "code",
   "execution_count": 2,
   "metadata": {
    "collapsed": true
   },
   "outputs": [],
   "source": [
    "train_df = pd.read_csv('data/dc_airbnb_train.csv')\n",
    "test_df = pd.read_csv('data/dc_airbnb_test.csv')\n"
   ]
  },
  {
   "cell_type": "code",
   "execution_count": null,
   "metadata": {
    "collapsed": true
   },
   "outputs": [],
   "source": []
  },
  {
   "cell_type": "markdown",
   "metadata": {},
   "source": [
    "## Hyperparameter optimization\n",
    "\n",
    "When we vary the features that are used in the model, we're affecting the data that the model uses. On the other hand, varying the k value affects the behavior of the model independently of the actual data that's used when making predictions. In other words, we're impacting how the model performs without trying to change the data that's used.<br>\n",
    "\n",
    "Values that affect the behavior and performance of a model that are unrelated to the data that's used are referred to as **hyperparameters**. The process of finding the optimal hyperparameter value is known as [hyperparameter optimization](https://en.wikipedia.org/wiki/Hyperparameter_optimization). A simple but common hyperparameter optimization technique is known as grid search, which involves:\n",
    "\n",
    "* selecting a subset of the possible hyperparameter values,\n",
    "* training a model using each of these hyperparameter values,\n",
    "* evaluating each model's performance,\n",
    "* selecting the hyperparameter value that resulted in the lowest error value.\n",
    "\n",
    "Grid search essentially boils down to evaluating the model performance at different k values and selecting the k value that resulted in the lowest error. While grid search can take a long time when working with large datasets, the data we're working with in this mission is small and this process is relatively quick.<br>\n",
    "\n",
    "Let's confirm that grid search will work quickly for the dataset we're working with by first observing how the model performance changes as we increase the k value from 1 to 5. If you recall, we set 5 as the k value for the last 2 missions. Let's use the features from the last mission that resulted in the best model accuracy:<br>\n",
    "\n",
    "* `accommodates`\n",
    "* `bedrooms`\n",
    "* `bathrooms`\n",
    "* `number_of_reviews`"
   ]
  },
  {
   "cell_type": "code",
   "execution_count": null,
   "metadata": {
    "collapsed": true
   },
   "outputs": [],
   "source": []
  },
  {
   "cell_type": "markdown",
   "metadata": {},
   "source": [
    "* Create a list containing the integer values 1, 2, 3, 4, and 5, in that order, and assign to hyper_params.\n",
    "* Create an empty list and assign to `mse_values`.\n",
    "* Use a for loop to iterate over hyper_params and in each iteration:\n",
    "  * Instantiate a KNeighborsRegressor object with the following parameters:\n",
    "    * n_neighbors: the current value for the iterator variable,\n",
    "    * algorithm: brute\n",
    "  * Fit the instantiated k-nearest neighbors model to the following columns from `train_df`:\n",
    "    * `accommodates`\n",
    "    * `bedrooms`\n",
    "    * `bathrooms`\n",
    "    * `number_of_reviews`\n",
    "  * Use the trained model to make predictions on the same columns from test_df and assign to predictions.\n",
    "  * Use the mean_squared_error function to calculate the MSE value between predictions and the price column from test_df.\n",
    "  * Append the MSE value to `mse_values`.\n",
    "* Display `mse_values` using the `print()` function."
   ]
  },
  {
   "cell_type": "code",
   "execution_count": 4,
   "metadata": {
    "collapsed": true
   },
   "outputs": [],
   "source": [
    "hyper_params = [1,2,3,4,5]\n",
    "mse_values = []\n",
    "\n",
    "for param in hyper_params:\n",
    "    \n",
    "    knn = KNeighborsRegressor(n_neighbors=param, algorithm='brute')\n",
    "    features = ['accommodates', 'bedrooms', 'bathrooms', 'number_of_reviews']\n",
    "    knn.fit(train_df[features], train_df['price'])\n",
    "    pred = knn.predict(test_df[features])\n",
    "    \n",
    "    mse = mean_squared_error(test_df['price'], pred)\n",
    "    mse_values.append(mse)"
   ]
  },
  {
   "cell_type": "code",
   "execution_count": 5,
   "metadata": {
    "collapsed": false
   },
   "outputs": [
    {
     "data": {
      "text/plain": [
       "[26364.928327645051,\n",
       " 15100.522468714449,\n",
       " 14579.597901655923,\n",
       " 16212.300767918088,\n",
       " 14090.011649601822]"
      ]
     },
     "execution_count": 5,
     "metadata": {},
     "output_type": "execute_result"
    }
   ],
   "source": [
    "mse_values"
   ]
  },
  {
   "cell_type": "code",
   "execution_count": null,
   "metadata": {
    "collapsed": true
   },
   "outputs": [],
   "source": []
  },
  {
   "cell_type": "markdown",
   "metadata": {},
   "source": [
    "## Expanding grid search\n",
    "\n",
    "Since our dataset is small and scikit-learn has been developed with performance in mind, the code ran quickly. As we increased the k value from 1 to 5, the MSE value fell from approximately 26364 to approximately 14090:\n",
    "\n",
    "K|MSE\n",
    "---|---\n",
    "1|26364.928327645051\n",
    "2|15100.522468714449\n",
    "3|14579.597901655923\n",
    "4|16212.300767918088\n",
    "5|14090.011649601822\n",
    "\n",
    "Let's expand grid search all the way to a k value of `20`. While `20` may seem like an arbitrary ending point for our grid search, we can always expand the values we try if we're unconvinced that the lowest MSE value is associated with one of the hyperparamter values we tried so far."
   ]
  },
  {
   "cell_type": "code",
   "execution_count": null,
   "metadata": {
    "collapsed": true
   },
   "outputs": [],
   "source": []
  },
  {
   "cell_type": "markdown",
   "metadata": {},
   "source": [
    "* Change the list of hyperparameter values, hyper_params, so it ranges from 1 to 20.\n",
    "* Create an empty list and assign to mse_values.\n",
    "* Use a for loop to iterate over hyper_params and in each iteration:\n",
    "  * Instantiate a KNeighborsRegressor object with the following parameters:\n",
    "    * n_neighbors: the current value for the iterator variable,\n",
    "    * algorithm: brute\n",
    "  * Fit the instantiated k-nearest neighbors model to the following columns from train_df:\n",
    "    * accommodates\n",
    "    * bedrooms\n",
    "    * bathrooms\n",
    "    * number_of_reviews\n",
    "  * Use the trained model to make predictions on the same columns from test_df and assign to predictions.\n",
    "  * Use the mean_squared_error function to calculate the MSE value between predictions and the price column from test_df.\n",
    "  * Append the MSE value to mse_values.\n",
    "* Display mse_values using the print() function."
   ]
  },
  {
   "cell_type": "code",
   "execution_count": 6,
   "metadata": {
    "collapsed": true
   },
   "outputs": [],
   "source": [
    "hyper_params = list(range(1,21))\n",
    "mse_values = []\n",
    "\n",
    "for param in hyper_params:\n",
    "    \n",
    "    knn = KNeighborsRegressor(n_neighbors=param, algorithm='brute')\n",
    "    features = ['accommodates', 'bedrooms', 'bathrooms', 'number_of_reviews']\n",
    "    knn.fit(train_df[features], train_df['price'])\n",
    "    pred = knn.predict(test_df[features])\n",
    "    \n",
    "    mse = mean_squared_error(test_df['price'], pred)\n",
    "    mse_values.append(mse)"
   ]
  },
  {
   "cell_type": "code",
   "execution_count": 7,
   "metadata": {
    "collapsed": false
   },
   "outputs": [
    {
     "data": {
      "text/plain": [
       "[26364.928327645051,\n",
       " 15100.522468714449,\n",
       " 14579.597901655923,\n",
       " 16212.300767918088,\n",
       " 14090.011649601822,\n",
       " 13657.45250284414,\n",
       " 14288.273896589353,\n",
       " 14853.448183304892,\n",
       " 14670.831907751512,\n",
       " 14642.451478953355,\n",
       " 14734.071380889252,\n",
       " 14854.802332195677,\n",
       " 14733.16190399257,\n",
       " 14777.975894453346,\n",
       " 14771.171543420554,\n",
       " 14870.178509847838,\n",
       " 14830.550728060751,\n",
       " 14782.595763283192,\n",
       " 14773.558705907935,\n",
       " 14676.544189419797]"
      ]
     },
     "execution_count": 7,
     "metadata": {},
     "output_type": "execute_result"
    }
   ],
   "source": [
    "mse_values"
   ]
  },
  {
   "cell_type": "code",
   "execution_count": null,
   "metadata": {
    "collapsed": true
   },
   "outputs": [],
   "source": []
  },
  {
   "cell_type": "markdown",
   "metadata": {},
   "source": [
    "## Visualizing hyperparameter values\n",
    "\n",
    "As we increased the k value from 1 to 6, the MSE value decreased from approximately 26364 to approximately 13657. However, as we increased the k value from 7 to 20, the MSE value didn't decrease further but instead hovered between approximately 14288 and 14870. This means that the optimal k value is 6, since it resulted in the lowest MSE value.<br>\n",
    "\n",
    "This pattern is something you'll notice while performing grid search across other models as well. As you increase k at first, the error rate decreases until a certain point, but then rebounds and increases again. Let's confirm this behavior visually using a scatter plot."
   ]
  },
  {
   "cell_type": "code",
   "execution_count": null,
   "metadata": {
    "collapsed": true
   },
   "outputs": [],
   "source": []
  },
  {
   "cell_type": "markdown",
   "metadata": {},
   "source": [
    "* Use the scatter() method from matplotlib.pyplot to generate a line plot with:\n",
    "  * hyper_params on the x-axis,\n",
    "  * mse_values on the y-axis.\n",
    "* Use plt.show() to display the line plot."
   ]
  },
  {
   "cell_type": "code",
   "execution_count": 12,
   "metadata": {
    "collapsed": false
   },
   "outputs": [
    {
     "data": {
      "image/png": "[encoded data removed]",
      "text/plain": [
       "<matplotlib.figure.Figure at 0x1a4ec2813c8>"
      ]
     },
     "metadata": {},
     "output_type": "display_data"
    }
   ],
   "source": [
    "plt.plot(hyper_params, mse_values)\n",
    "plt.show()"
   ]
  },
  {
   "cell_type": "code",
   "execution_count": 13,
   "metadata": {
    "collapsed": false
   },
   "outputs": [
    {
     "data": {
      "image/png": "[encoded data removed]",
      "text/plain": [
       "<matplotlib.figure.Figure at 0x1a4ec2f8550>"
      ]
     },
     "metadata": {},
     "output_type": "display_data"
    }
   ],
   "source": [
    "plt.scatter(hyper_params, mse_values)\n",
    "plt.show()"
   ]
  },
  {
   "cell_type": "code",
   "execution_count": null,
   "metadata": {
    "collapsed": true
   },
   "outputs": [],
   "source": []
  },
  {
   "cell_type": "markdown",
   "metadata": {},
   "source": [
    "## Varying features and hyperparameters\n",
    "\n",
    "From the scatter plot, you can tell that the lowest MSE value was achieved at the k value of `6`. As we increased k past `6`, the MSE actually increased and hovered but never decreased below 13657 (the approximate MSE value when k was `6`).<br>\n",
    "\n",
    "Since varying the k value decreased the MSE value for this model, you may be wondering if repeating the grid search process for one of the models from the last mission that performed poorly when we fixed k to `5` would result in a lower MSE value. Let's try it out!"
   ]
  },
  {
   "cell_type": "code",
   "execution_count": null,
   "metadata": {
    "collapsed": true
   },
   "outputs": [],
   "source": []
  },
  {
   "cell_type": "markdown",
   "metadata": {},
   "source": [
    "* Use a for loop to iterate over hyper_params and in each iteration:\n",
    "  * Instantiate a KNeighborsRegressor object with the following parameters:\n",
    "    * n_neighbors: the current value for the iterator variable,\n",
    "    * algorithm: brute\n",
    "  * Fit the instantiated k-nearest neighbors model to all of the columns, except for the price column, from train_df\n",
    "  * Use the trained model to make predictions on the same columns from test_df and assign to predictions.\n",
    "  * Use the mean_squared_error function to calculate the MSE value between predictions and the price column from test_df.\n",
    "  * Append the MSE value to mse_values.\n",
    "* Use the scatter() method from matplotlib.pyplot to generate a line plot with:\n",
    "  * hyper_params on the x-axis,\n",
    "  * mse_values on the y-axis.\n",
    "* Use `plt.show()` to display the line plot."
   ]
  },
  {
   "cell_type": "code",
   "execution_count": 18,
   "metadata": {
    "collapsed": true
   },
   "outputs": [],
   "source": [
    "mse_values = []"
   ]
  },
  {
   "cell_type": "code",
   "execution_count": 19,
   "metadata": {
    "collapsed": false
   },
   "outputs": [
    {
     "data": {
      "image/png": "[encoded data removed]",
      "text/plain": [
       "<matplotlib.figure.Figure at 0x1a4ec2d3e10>"
      ]
     },
     "metadata": {},
     "output_type": "display_data"
    }
   ],
   "source": [
    "for param in hyper_params:\n",
    "    \n",
    "    knn = KNeighborsRegressor(n_neighbors=param, algorithm='brute')\n",
    "    knn.fit(train_df.drop(['price'],axis=1), train_df['price'])\n",
    "    \n",
    "    predictions = knn.predict(test_df.drop(['price'], axis=1))\n",
    "    mse = mean_squared_error(test_df['price'], predictions)\n",
    "    mse_values.append(mse)\n",
    "    \n",
    "plt.scatter(hyper_params, mse_values)\n",
    "plt.show()\n",
    "   "
   ]
  },
  {
   "cell_type": "code",
   "execution_count": null,
   "metadata": {
    "collapsed": true
   },
   "outputs": [],
   "source": []
  },
  {
   "cell_type": "markdown",
   "metadata": {},
   "source": [
    "## Practice the workflow\n",
    "\n",
    "You may have noticed that the general workflow for finding the best model is:\n",
    "\n",
    "* select relevant features to use for predicting the target column.\n",
    "* use grid search to find the optimal hyperparameter value for the selected features.\n",
    "* evaluate the model's accuracy and repeat the process.\n",
    "\n",
    "Let's now practice this workflow."
   ]
  },
  {
   "cell_type": "code",
   "execution_count": null,
   "metadata": {
    "collapsed": true
   },
   "outputs": [],
   "source": []
  },
  {
   "cell_type": "markdown",
   "metadata": {},
   "source": [
    "\n",
    "While using only the accommodates and bathrooms columns:\n",
    "\n",
    "* Train a model for each k value between 1 and 20 using the training data.\n",
    "* Use each model to make predictions on the test set (using just the accommodates and bathrooms columns).\n",
    "* Calculate each model's MSE value by comparing each set of predictions to the true price values.\n",
    "* Find the k value that obtained the lowest MSE value.\n",
    "* Create a dictionary named two_hyp_mse that contains 1 key-value pair:\n",
    "  * key: k value that resulted in lowest MSE value.\n",
    "  * value: corresponding MSE value.\n",
    "\n",
    "Repeat this process while using only the accommodates, bathrooms, and bedrooms columns:\n",
    "\n",
    "* Create a dictionary named three_hyp_mse that contains 1 key-value pair:\n",
    "  * key: k value that resulted in lowest MSE value.\n",
    "  * value: corresponding MSE value.\n",
    "\n",
    "Display both two_hyp_mse and three_hyp_mse using the print() function."
   ]
  },
  {
   "cell_type": "code",
   "execution_count": 20,
   "metadata": {
    "collapsed": false
   },
   "outputs": [
    {
     "data": {
      "text/plain": [
       "{5: 14790.314266211606}"
      ]
     },
     "execution_count": 20,
     "metadata": {},
     "output_type": "execute_result"
    }
   ],
   "source": [
    "two_hyp_mse = {}\n",
    "lowest_mse = 10**10\n",
    "lowest_param = 0\n",
    "\n",
    "for param in hyper_params:\n",
    "    \n",
    "    knn = KNeighborsRegressor(n_neighbors=param, algorithm='brute')\n",
    "    features = ['accommodates', 'bathrooms']\n",
    "    knn.fit(train_df[features], train_df['price'])\n",
    "    \n",
    "    predictions = knn.predict(test_df[features])\n",
    "    mse = mean_squared_error(test_df['price'], predictions)\n",
    "    \n",
    "    if mse < lowest_mse:\n",
    "        lowest_mse = mse\n",
    "        lowest_param = param\n",
    "    \n",
    "two_hyp_mse[lowest_param] = lowest_mse\n",
    "print(two_hyp_mse)"
   ]
  },
  {
   "cell_type": "code",
   "execution_count": 21,
   "metadata": {
    "collapsed": false
   },
   "outputs": [
    {
     "name": "stdout",
     "output_type": "stream",
     "text": [
      "{5: 13522.893333333333}\n"
     ]
    }
   ],
   "source": [
    "three_hyp_mse = {}\n",
    "lowest_mse = 10**10\n",
    "lowest_param = 0\n",
    "\n",
    "for param in hyper_params:\n",
    "    \n",
    "    knn = KNeighborsRegressor(n_neighbors=param, algorithm='brute')\n",
    "    features = ['accommodates', 'bathrooms', 'bedrooms']\n",
    "    knn.fit(train_df[features], train_df['price'])\n",
    "    \n",
    "    predictions = knn.predict(test_df[features])\n",
    "    mse = mean_squared_error(test_df['price'], predictions)\n",
    "    \n",
    "    if mse < lowest_mse:\n",
    "        lowest_mse = mse\n",
    "        lowest_param = param\n",
    "    \n",
    "three_hyp_mse[lowest_param] = lowest_mse\n",
    "print(three_hyp_mse)"
   ]
  },
  {
   "cell_type": "code",
   "execution_count": null,
   "metadata": {
    "collapsed": true
   },
   "outputs": [],
   "source": []
  }
 ],
 "metadata": {
  "kernelspec": {
   "display_name": "Python [default]",
   "language": "python",
   "name": "python3"
  },
  "language_info": {
   "codemirror_mode": {
    "name": "ipython",
    "version": 3
   },
   "file_extension": ".py",
   "mimetype": "text/x-python",
   "name": "python",
   "nbconvert_exporter": "python",
   "pygments_lexer": "ipython3",
   "version": "3.5.4"
  }
 },
 "nbformat": 4,
 "nbformat_minor": 2
}
