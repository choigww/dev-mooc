{
 "cells": [
  {
   "cell_type": "markdown",
   "metadata": {},
   "source": [
    "# Logistic Regression\n",
    "## Classification\n",
    "\n",
    "In the previous course, we explored a supervised machine learning technique called linear regression. **Linear regression works well when the target column we're trying to predict, the dependent variable, is `ordered` and `continuous`**. If the target column instead contains discrete values, then linear regression isn't a good fit.<br>\n",
    "\n",
    "In this mission, we'll explore how to build a predictive model for these types of problems, which are known as **classification** problems. In classification, our target column has a finite set of possible values which represent different categories a row can belong to. We use integers to represent the different categories so we can continue to use mathematical functions to describe how the independent variables map to the dependent variable. Here are a few examples of classification problems:\n",
    "\n",
    "\n",
    "Problem|Sample Features|Type|Categories|Numerical Categories\n",
    "---|---|---|---|---\n",
    "Shouold we accept this student based on their graduate school application?|College GPA, SAT Score, Quality of Recommendations|Binary|Don't Accept, Accept|0, 1\n",
    "What is the most likely blood type of 2 parent's offspring?|Parent 1's blood type, Parent 2's blood type|Multi-class|A, B, AB, O|1,2,3,4\n",
    "\n",
    "We'll focus on **binary classification** for now, where the only 2 options for values are:\n",
    "\n",
    "* `0` for the False condition,\n",
    "* `1` for the True condition.\n",
    "\n",
    "Before we dive into classification, let's understand the data we'll be working with.\n"
   ]
  },
  {
   "cell_type": "code",
   "execution_count": null,
   "metadata": {},
   "outputs": [],
   "source": []
  },
  {
   "cell_type": "markdown",
   "metadata": {},
   "source": [
    "## Introduction to the data\n",
    "\n",
    "Every year high school student and college students apply to various universities and programs. Each student has a unique set of test scores, grades, and backgrounds. Somehow, the admission commitees must decide which applicants to accept or reject from their program. In this case a binary classification algorithm can be used to accept or reject applicants. To grasp the concepts of classification, we'll try to predict whether an applicant will be admitted to a graduate program in a U.S. university.<br>\n",
    "\n",
    "We'll be working with a dataset containing data on 644 applicants with the following columns:\n",
    "\n",
    "* `gre` - applicant's score on the Graduate Record Exam, a generalized test for prospective graduate students.\n",
    "  * Score ranges from 200 to 800.\n",
    "* `gpa` - college grade point average.\n",
    "  * Continuous between 0.0 and 4.0.\n",
    "* `admit` - binary value\n",
    "  * Binary value, 0 or 1, where 1 means the applicant was admitted to the program and 0 means the applicant was rejected.\n",
    "\n",
    "Here's a preview of the dataset:"
   ]
  },
  {
   "cell_type": "code",
   "execution_count": 1,
   "metadata": {},
   "outputs": [],
   "source": [
    "import pandas as pd\n",
    "import numpy as np\n",
    "from matplotlib import pyplot as plt\n",
    "%matplotlib inline"
   ]
  },
  {
   "cell_type": "code",
   "execution_count": 2,
   "metadata": {},
   "outputs": [
    {
     "data": {
      "text/html": [
       "<div>\n",
       "<style scoped>\n",
       "    .dataframe tbody tr th:only-of-type {\n",
       "        vertical-align: middle;\n",
       "    }\n",
       "\n",
       "    .dataframe tbody tr th {\n",
       "        vertical-align: top;\n",
       "    }\n",
       "\n",
       "    .dataframe thead th {\n",
       "        text-align: right;\n",
       "    }\n",
       "</style>\n",
       "<table border=\"1\" class=\"dataframe\">\n",
       "  <thead>\n",
       "    <tr style=\"text-align: right;\">\n",
       "      <th></th>\n",
       "      <th>admit</th>\n",
       "      <th>gpa</th>\n",
       "      <th>gre</th>\n",
       "    </tr>\n",
       "  </thead>\n",
       "  <tbody>\n",
       "    <tr>\n",
       "      <th>0</th>\n",
       "      <td>0</td>\n",
       "      <td>3.177277</td>\n",
       "      <td>594.102992</td>\n",
       "    </tr>\n",
       "    <tr>\n",
       "      <th>1</th>\n",
       "      <td>0</td>\n",
       "      <td>3.412655</td>\n",
       "      <td>631.528607</td>\n",
       "    </tr>\n",
       "    <tr>\n",
       "      <th>2</th>\n",
       "      <td>0</td>\n",
       "      <td>2.728097</td>\n",
       "      <td>553.714399</td>\n",
       "    </tr>\n",
       "    <tr>\n",
       "      <th>3</th>\n",
       "      <td>0</td>\n",
       "      <td>3.093559</td>\n",
       "      <td>551.089985</td>\n",
       "    </tr>\n",
       "    <tr>\n",
       "      <th>4</th>\n",
       "      <td>0</td>\n",
       "      <td>3.141923</td>\n",
       "      <td>537.184894</td>\n",
       "    </tr>\n",
       "  </tbody>\n",
       "</table>\n",
       "</div>"
      ],
      "text/plain": [
       "   admit       gpa         gre\n",
       "0      0  3.177277  594.102992\n",
       "1      0  3.412655  631.528607\n",
       "2      0  2.728097  553.714399\n",
       "3      0  3.093559  551.089985\n",
       "4      0  3.141923  537.184894"
      ]
     },
     "execution_count": 2,
     "metadata": {},
     "output_type": "execute_result"
    }
   ],
   "source": [
    "admissions = pd.read_csv('data/admissions.csv')\n",
    "admissions.head()"
   ]
  },
  {
   "cell_type": "markdown",
   "metadata": {},
   "source": [
    "While we can use both the `gpa` and `gre` columns to predict the `admit` column, we'll focus on using just the `gpa` column to keep things simple. Let's read the data into Pandas and visualize the relationship between `gpa` and `admit`."
   ]
  },
  {
   "cell_type": "code",
   "execution_count": null,
   "metadata": {},
   "outputs": [],
   "source": []
  },
  {
   "cell_type": "markdown",
   "metadata": {},
   "source": [
    "* Read `admissions.csv` into a Dataframe named `admissions`.\n",
    "* Use the Matplotlib method scatter to generate a scatter plot with the:\n",
    "  * `gpa` column on the x-axis.\n",
    "  * `admit` column on the y-axis.\n",
    "* Use `plt.show()` to display the scatter plot."
   ]
  },
  {
   "cell_type": "code",
   "execution_count": 3,
   "metadata": {},
   "outputs": [
    {
     "data": {
      "image/png": "[encoded data removed]",
      "text/plain": [
       "<matplotlib.figure.Figure at 0x10727c908>"
      ]
     },
     "metadata": {},
     "output_type": "display_data"
    }
   ],
   "source": [
    "plt.scatter(admissions['gpa'], admissions['admit'])\n",
    "plt.show()"
   ]
  },
  {
   "cell_type": "code",
   "execution_count": null,
   "metadata": {},
   "outputs": [],
   "source": []
  },
  {
   "cell_type": "markdown",
   "metadata": {},
   "source": [
    "## Logistic Regression\n",
    "\n",
    "In the previous scatter plot, you'll notice that the `gpa` column and the `admit` column do not have a clear linear relationship. Recall that the admit column only contains the values `0` and `1` and are used to represent binary values and the numbers themselves don't carry any weight. When numbers are used to represent different options or categories, they are referred to as **categorical values**. Classification focuses on estimating the relationship between the independent variables and the dependent, **categorical variable**.<br>\n",
    "\n",
    "In this mission, we'll focus on a classification technique called **logistic regression**. While a linear regression model outputs a real number as the label, **a logistic regression model outputs a probability value**. In binary classification, if the probability value is larger than a certain threshold probability, we assign the label for that row to `1` or `0` otherwise.<br>\n",
    "\n",
    "This threshold probability is something we select, and we'll learn about how to select a good threshold probability in later missions. For now, let's dive more into how logistic regression works."
   ]
  },
  {
   "cell_type": "code",
   "execution_count": null,
   "metadata": {},
   "outputs": [],
   "source": []
  },
  {
   "cell_type": "markdown",
   "metadata": {},
   "source": [
    "## Logistic function\n",
    "\n",
    "In linear regression, we used the linear function `y = mx + b` to represent the relationship between the independent variables and the dependent variable. In logistic regression, we use the **logistic function**, which is a version of the linear function that is adapted for classification.<br>\n",
    "\n",
    "Let's explore some of the logistic function's properties to better understand why it's useful for classification tasks. Unlike in linear regression, where the output can be any real value, in logistic regression the output has to be a real value between `0` and `1`, since the output represents a probability value. Note that the model can't output a negative value or it would violate this criteria.<br>\n",
    "\n",
    "Here's the mathematical representation of the **logistic function**:\n",
    "\n",
    "$$\\sigma(t)=\\dfrac{e^t}{1+e^t}$$\n",
    "\n",
    "The logistic function is broken up into 2 key parts:\n",
    "\n",
    "* The exponential transformation, transforming all values to be positive:\n",
    "\n",
    "$$e^{t}$$\n",
    "\n",
    "* The normalization transformation, transforming all values to range between `0` and `1`:\n",
    "\n",
    "$$\\dfrac{t}{1+t}$$\n",
    "\n",
    "The exponential transformation and the normalization forces the output values to be squeezed between `0` and `1`. If you plot just the exponential part, the output values won't be limited to the range of `0` to `1`:\n",
    "\n",
    "![](https://dq-content.s3.amazonaws.com/4esqrpy.png)\n",
    "\n",
    "The normalization part alone unfortunately isn't sufficient since it struggles at constraining negative values:\n",
    "\n",
    "![](https://dq-content.s3.amazonaws.com/qbpTcrr.png)\n",
    "\n",
    "Together, both of these pieces work well to constrain the output to the range of values that probabilities are in. In the following code cell, we plot the logistic function to visualize its properties. Specifically, we:\n",
    "\n",
    "* define the `logistic()` function using the NumPy `exp` function,\n",
    "* generate equally spaced values, between `-6` and `6` to represent the x-axis,\n",
    "* calculate the y-axis values by feeding each value in `x` to the `logistic()` function,\n",
    "* creating a line plot to visualize `x` and `y`.\n",
    "\n",
    "The generated plot will demonstrate that the y-axis values are constrained to range from `0` to `1`. We encourage you to plot more x-values to confirm that this holds true for all potential `x` values.\n"
   ]
  },
  {
   "cell_type": "code",
   "execution_count": 6,
   "metadata": {},
   "outputs": [
    {
     "data": {
      "image/png": "[encoded data removed]",
      "text/plain": [
       "<matplotlib.figure.Figure at 0x106ab9470>"
      ]
     },
     "metadata": {},
     "output_type": "display_data"
    }
   ],
   "source": [
    "# Logistic Function\n",
    "def logistic(x):\n",
    "    # np.exp(x) raises x to the exponential power, ie e^x. e ~= 2.71828\n",
    "    return np.exp(x)  / (1 + np.exp(x)) \n",
    "    \n",
    "# Generate 50 real values, evenly spaced, between -6 and 6.\n",
    "x = np.linspace(-6,6,50, dtype=float)\n",
    "\n",
    "# Transform each number in t using the logistic function.\n",
    "y = logistic(x)\n",
    "\n",
    "# Plot the resulting data.\n",
    "plt.plot(x, y)\n",
    "plt.ylabel(\"Probability\")\n",
    "plt.show()"
   ]
  },
  {
   "cell_type": "code",
   "execution_count": null,
   "metadata": {},
   "outputs": [],
   "source": []
  },
  {
   "cell_type": "markdown",
   "metadata": {},
   "source": [
    "## Training a logistic regression model\n",
    "\n",
    "Let's now move onto training the logistic regression model using our dataset. We won't dive into the math and the steps required to fit a logistic regression model to the training data in this mission. We'll instead focus on using the scikit-learn library to fit a model between the `gpa` and `admit` columns. Recall that the `gpa` column contains the GPA of each applicant as a real value between `0.0` and `4.0` and the `admit` column specifies if that applicant was admitted (`0` if not admitted and `1` if admitted). Since we're only working with one feature, `gpa`, this is referred to as a univariate model.<br>\n",
    "\n",
    "Training a logistic regression model in scikit-learn is similar to training a linear regression model, with the key difference that we use the **LogisticRegression** class instead of the **LinearRegression** class. Scikit-learn was designed to make it easy to swap out models by keeping the syntax and notation as consistent as possible across it's different classes.\n"
   ]
  },
  {
   "cell_type": "code",
   "execution_count": null,
   "metadata": {},
   "outputs": [],
   "source": []
  },
  {
   "cell_type": "markdown",
   "metadata": {},
   "source": [
    "* Import the **LogisticRegression** class and instantiate a model named `logistic_model`.\n",
    "* Use the **LogisticRegression** method fit to `fit` the model to the data. We're only interested in constructing a model that uses `gpa` values to predict `admit` values.\n",
    "* View the [documentation for the LogisticRegression class](http://scikit-learn.org/stable/modules/generated/sklearn.linear_model.LogisticRegression.html) if you get stuck."
   ]
  },
  {
   "cell_type": "code",
   "execution_count": 4,
   "metadata": {},
   "outputs": [],
   "source": [
    "from sklearn.linear_model import LinearRegression"
   ]
  },
  {
   "cell_type": "code",
   "execution_count": 5,
   "metadata": {},
   "outputs": [
    {
     "data": {
      "text/plain": [
       "LogisticRegression(C=1.0, class_weight=None, dual=False, fit_intercept=True,\n",
       "          intercept_scaling=1, max_iter=100, multi_class='ovr', n_jobs=1,\n",
       "          penalty='l2', random_state=None, solver='liblinear', tol=0.0001,\n",
       "          verbose=0, warm_start=False)"
      ]
     },
     "execution_count": 5,
     "metadata": {},
     "output_type": "execute_result"
    }
   ],
   "source": [
    "from sklearn.linear_model import LogisticRegression\n",
    "\n",
    "logistic_model = LogisticRegression()\n",
    "logistic_model.fit(admissions[[\"gpa\"]], admissions[\"admit\"])"
   ]
  },
  {
   "cell_type": "code",
   "execution_count": null,
   "metadata": {},
   "outputs": [],
   "source": []
  },
  {
   "cell_type": "markdown",
   "metadata": {},
   "source": [
    "## Plotting probabilities\n",
    "\n",
    "We mentioned earlier that the output of a logistic regression model is the probability that the row should be labelled as True, or in our case 1. We can use the trained model to return the predicted probability for each row in the training data.<br>\n",
    "\n",
    "To return the predicted probability, use [the `predict_proba` method](http://scikit-learn.org/stable/modules/generated/sklearn.linear_model.LogisticRegression.html#sklearn.linear_model.LogisticRegression.predict_proba). The only required parameter for this method is the `num_features` by `num_sample` matrix of observations we want scikit-learn to return predicted probabilities for. For each input row, scikit-learn will return a NumPy array with 2 probability values:\n",
    "\n",
    "* the probability that the row should be labelled `0`,\n",
    "* the probability that the row should be labelled `1`.\n",
    "\n",
    "Since `0` and `1` are the only 2 possible categories and represent the entire outcome space, these 2 probabilities will always add upto `1`.\n",
    "\n",
    "```python\n",
    "probabilities = logistic_model.predict_proba(admissions[[\"gpa\"]])\n",
    "# Probability that the row belongs to label `0`.\n",
    "probabilities[:,0]\n",
    "# Probabililty that the row belongs to label `1`.\n",
    "probabilities[:,1]\n",
    "```\n",
    "\n",
    "Let's use this method to return the probability for each student that they would be admitted and then visualize the results on a scatter plot."
   ]
  },
  {
   "cell_type": "code",
   "execution_count": null,
   "metadata": {},
   "outputs": [],
   "source": []
  },
  {
   "cell_type": "markdown",
   "metadata": {},
   "source": [
    "* Use the LogisticRegression method `predict_proba` to return the predicted probabilities for the data in the `gpa` column. Assign the returned probabilities to `pred_probs`.\n",
    "* Create and display a scatter plot using the [Matplotlib scatter function](http://matplotlib.org/api/pyplot_api.html#matplotlib.pyplot.scatter) where:\n",
    "  * the x-axis is the values in the `gpa` column,\n",
    "  * the y-axis is the probability of being classified as label `1`."
   ]
  },
  {
   "cell_type": "code",
   "execution_count": 7,
   "metadata": {},
   "outputs": [
    {
     "data": {
      "text/plain": [
       "array([[ 0.63387918,  0.36612082],\n",
       "       [ 0.57129471,  0.42870529],\n",
       "       [ 0.74047131,  0.25952869],\n",
       "       ..., \n",
       "       [ 0.64994531,  0.35005469],\n",
       "       [ 0.53382227,  0.46617773],\n",
       "       [ 0.53831911,  0.46168089]])"
      ]
     },
     "execution_count": 7,
     "metadata": {},
     "output_type": "execute_result"
    }
   ],
   "source": [
    "pred_probs = logistic_model.predict_proba(admissions[['gpa']])\n",
    "pred_probs"
   ]
  },
  {
   "cell_type": "code",
   "execution_count": 10,
   "metadata": {},
   "outputs": [
    {
     "data": {
      "image/png": "[encoded data removed]",
      "text/plain": [
       "<matplotlib.figure.Figure at 0x1097a9f28>"
      ]
     },
     "metadata": {},
     "output_type": "display_data"
    }
   ],
   "source": [
    "plt.scatter(admissions['gpa'], pred_probs[:, 1])\n",
    "plt.show()"
   ]
  },
  {
   "cell_type": "code",
   "execution_count": null,
   "metadata": {},
   "outputs": [],
   "source": []
  },
  {
   "cell_type": "markdown",
   "metadata": {},
   "source": [
    "## Predict Labels\n",
    "\n",
    "You'll notice that the scatter plot suggests a linear relationship between the `gpa` values and the probability of being admitted. This is because logistic regression is really just an adapted version of linear regression for classification problems. Both logistic and linear regression are used to capture linear relationships between the independent variables and the dependent variable.<br>\n",
    "\n",
    "Let's now use the `predict` method to return the label predictions for each row in our training dataset."
   ]
  },
  {
   "cell_type": "markdown",
   "metadata": {},
   "source": [
    "* Use the [LogisticRegression method `predict`](http://scikit-learn.org/stable/modules/generated/sklearn.linear_model.LogisticRegression.html#sklearn.linear_model.LogisticRegression.predict) to return the predicted for each label in the training set.\n",
    "  * The parameter for the `predict` method matches that of the `predict_proba` method:\n",
    "    * `X` : rows of data to use for prediction.\n",
    "  * Assign the result to `fitted_labels`.\n",
    "* Use the `print` function to display the first 10 values in `fitted_labels`."
   ]
  },
  {
   "cell_type": "code",
   "execution_count": 14,
   "metadata": {},
   "outputs": [
    {
     "data": {
      "image/png": "[encoded data removed]",
      "text/plain": [
       "<matplotlib.figure.Figure at 0x109968080>"
      ]
     },
     "metadata": {},
     "output_type": "display_data"
    }
   ],
   "source": [
    "fitted_labels = logistic_model.predict(admissions[['gpa']])\n",
    "plt.scatter(admissions['gpa'], fitted_labels)\n",
    "plt.show()"
   ]
  },
  {
   "cell_type": "code",
   "execution_count": null,
   "metadata": {},
   "outputs": [],
   "source": []
  }
 ],
 "metadata": {
  "kernelspec": {
   "display_name": "Python 3",
   "language": "python",
   "name": "python3"
  },
  "language_info": {
   "codemirror_mode": {
    "name": "ipython",
    "version": 3
   },
   "file_extension": ".py",
   "mimetype": "text/x-python",
   "name": "python",
   "nbconvert_exporter": "python",
   "pygments_lexer": "ipython3",
   "version": "3.6.2"
  }
 },
 "nbformat": 4,
 "nbformat_minor": 2
}
