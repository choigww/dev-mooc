{
 "cells": [
  {
   "cell_type": "markdown",
   "metadata": {},
   "source": [
    "# Overfitting"
   ]
  },
  {
   "cell_type": "markdown",
   "metadata": {},
   "source": [
    "## Introduction\n",
    "\n",
    "While exploring regression, we've briefly mentioned overfitting and the problems it can cause. In this mission, we'll explore how to identify overfitting and what you can do to avoid it. To explore overfitting, we'll use a dataset on cars which dataset contains 7 numerical features that could have an effect on a car's fuel efficiency:\n",
    "\n",
    "* `cylinders` -- the number of [cylinders](http://bit.ly/29zLo9A) in the engine.\n",
    "* `displacement` -- the [displacement](https://en.wikipedia.org/wiki/Engine_displacement) of the engine.\n",
    "* `horsepower` -- the [horsepower](http://bit.ly/29sDwVU) of the engine.\n",
    "* `weight` -- the weight of the car.\n",
    "* `acceleration` -- the acceleration of the car.\n",
    "* `model year` -- the year that car model was released (e.g. `70` corresponds to `1970`).\n",
    "* `origin` -- where the car was manufactured (`0` if North America, `1` if Europe, `2` if Asia).\n",
    "\n",
    "The `mpg` column is our target column and is the one we want to predict using the other features.\n",
    "\n",
    "* The dataset is hosted by the University of California Irvine on [their machine learning repository](https://archive.ics.uci.edu/ml/datasets/Auto+MPG)."
   ]
  },
  {
   "cell_type": "code",
   "execution_count": 3,
   "metadata": {
    "scrolled": true
   },
   "outputs": [
    {
     "name": "stderr",
     "output_type": "stream",
     "text": [
      "/usr/local/lib/python3.6/site-packages/ipykernel_launcher.py:6: SettingWithCopyWarning: \n",
      "A value is trying to be set on a copy of a slice from a DataFrame.\n",
      "Try using .loc[row_indexer,col_indexer] = value instead\n",
      "\n",
      "See the caveats in the documentation: http://pandas.pydata.org/pandas-docs/stable/indexing.html#indexing-view-versus-copy\n",
      "  \n"
     ]
    }
   ],
   "source": [
    "import pandas as pd\n",
    "columns = [\"mpg\", \"cylinders\", \"displacement\", \"horsepower\", \"weight\", \"acceleration\", \"model year\", \"origin\", \"car name\"]\n",
    "cars = pd.read_table(\"data/auto-mpg.data\", delim_whitespace=True, names=columns)\n",
    "\n",
    "filtered_cars = cars[cars['horsepower'] != '?']\n",
    "filtered_cars['horsepower'] = filtered_cars['horsepower'].astype('float')"
   ]
  },
  {
   "cell_type": "code",
   "execution_count": null,
   "metadata": {},
   "outputs": [],
   "source": []
  },
  {
   "cell_type": "markdown",
   "metadata": {},
   "source": [
    "## Bias and Variance\n",
    "\n",
    "### At the heart of understanding overfitting is understanding bias and variance. \n",
    "Bias and variance make up the 2 observable sources of error in a model that we can indirectly control.<br>\n",
    "\n",
    "**Bias** describes error that results in bad assumptions about the learning algorithm. \n",
    "* For example, assuming that only one feature, like a car's weight, relates to a car's fuel efficiency will lead you to fit a simple, univariate regression model that will result in high bias.\n",
    "* The error rate will be high since a car's fuel efficiency is affected by many other factors besides just its weight.\n",
    "\n",
    "**Variance** describes error that occurs because of the variability of a model's predicted values.\n",
    "* If we were given a dataset with 1000 features on each car and used every single feature to train an incredibly complicated multivariate regression model, we will have low bias but high variance.\n",
    "\n",
    "In an ideal world, we want low bias and low variance but in reality, there's always a tradeoff."
   ]
  },
  {
   "cell_type": "code",
   "execution_count": null,
   "metadata": {},
   "outputs": [],
   "source": []
  },
  {
   "cell_type": "markdown",
   "metadata": {},
   "source": [
    "## Bias-variance tradeoff\n",
    "\n",
    "We've discussed before how overfitting generally happens when a model performs well on a training set but doesn't generalize well to new data. A key nuance here is that you should think of overfitting as a relative term. Between any 2 models, one will overfit more than the other one.<br>\n",
    "\n",
    "Understanding the [bias variance tradeoff](https://en.wikipedia.org/wiki/Bias%E2%80%93variance_tradeoff) is critical to understanding overfitting. Every process has some amount of inherent noise that's unobservable. Overfit models tend to capture the noise as well as the signal in a dataset.<br>\n",
    "\n",
    "Scott Fortman Roe's [blog post on the bias-variance tradeoff](http://scott.fortmann-roe.com/docs/BiasVariance.html) has a wonderful image that describes this tradeoff:\n",
    "\n",
    "![http://i.imgur.com/2xqTu46.png](http://i.imgur.com/2xqTu46.png)\n",
    "\n",
    "We can approximate the bias of a model by training a few different models from the same class (linear regression in this case) using different features on the same dataset and calculating their error scores. For regression, we can use mean absolute error, mean squared error, or R-squared.<br>\n",
    "\n",
    "We can calculate the variance of the predicted values for each model we train and we'll observe an increase in variance as we build more complex, multivariate models.<br>\n",
    "\n",
    "While an extremely simple, univariate linear regression model will underfit, an extremely complicated, multivariate linear regression model will overfit. Depending on the problem you're working on, there's a happy middle ground that will help you construct reliable and useful predictive models.<br>\n",
    "\n",
    "Let's first create a function that we can use for training the model and computing the bias and variance values and use it to train some simple, univariate models."
   ]
  },
  {
   "cell_type": "code",
   "execution_count": null,
   "metadata": {},
   "outputs": [],
   "source": []
  },
  {
   "cell_type": "markdown",
   "metadata": {},
   "source": [
    "Create a function named `train_and_test` that:\n",
    "\n",
    "* Takes in a list of column names in `filtered_cars` as the sole parameter (`cols`),\n",
    "  * Trains a linear regression model using:\n",
    "    * The columns in `cols` as the features,\n",
    "    * The `mpg` column as the target variable.\n",
    "* Uses the trained model to make predictions using the same input it was trained on,\n",
    "* Computes the variance of the predicted values and the mean squared error between the predicted values and the actual label (`mpg` column).\n",
    "* Returns the mean squared error value followed by the variance (e.g. `return(mse, variance)`).\n",
    "\n",
    "Use the `train_and_test` function to train a model using only the `cylinders` column. Assign the resulting mean squared error value and variance to `cyl_mse` and `cyl_var`.<br>\n",
    "\n",
    "Use the `train_and_test` function to train a model using only the `weight` column. Assign the resulting mean squared error value and variance to `weight_mse` and `weight_var`."
   ]
  },
  {
   "cell_type": "code",
   "execution_count": null,
   "metadata": {},
   "outputs": [],
   "source": []
  },
  {
   "cell_type": "code",
   "execution_count": 4,
   "metadata": {},
   "outputs": [],
   "source": [
    "from sklearn.linear_model import LinearRegression\n",
    "from sklearn.metrics import mean_squared_error\n",
    "import numpy as np\n",
    "import matplotlib.pyplot as plt"
   ]
  },
  {
   "cell_type": "code",
   "execution_count": 7,
   "metadata": {},
   "outputs": [
    {
     "data": {
      "text/plain": [
       "0      18.0\n",
       "1      15.0\n",
       "2      18.0\n",
       "3      16.0\n",
       "4      17.0\n",
       "5      15.0\n",
       "6      14.0\n",
       "7      14.0\n",
       "8      14.0\n",
       "9      15.0\n",
       "10     15.0\n",
       "11     14.0\n",
       "12     15.0\n",
       "13     14.0\n",
       "14     24.0\n",
       "15     22.0\n",
       "16     18.0\n",
       "17     21.0\n",
       "18     27.0\n",
       "19     26.0\n",
       "20     25.0\n",
       "21     24.0\n",
       "22     25.0\n",
       "23     26.0\n",
       "24     21.0\n",
       "25     10.0\n",
       "26     10.0\n",
       "27     11.0\n",
       "28      9.0\n",
       "29     27.0\n",
       "       ... \n",
       "367    28.0\n",
       "368    27.0\n",
       "369    34.0\n",
       "370    31.0\n",
       "371    29.0\n",
       "372    27.0\n",
       "373    24.0\n",
       "375    36.0\n",
       "376    37.0\n",
       "377    31.0\n",
       "378    38.0\n",
       "379    36.0\n",
       "380    36.0\n",
       "381    36.0\n",
       "382    34.0\n",
       "383    38.0\n",
       "384    32.0\n",
       "385    38.0\n",
       "386    25.0\n",
       "387    38.0\n",
       "388    26.0\n",
       "389    22.0\n",
       "390    32.0\n",
       "391    36.0\n",
       "392    27.0\n",
       "393    27.0\n",
       "394    44.0\n",
       "395    32.0\n",
       "396    28.0\n",
       "397    31.0\n",
       "Name: mpg, Length: 392, dtype: float64"
      ]
     },
     "execution_count": 7,
     "metadata": {},
     "output_type": "execute_result"
    }
   ],
   "source": [
    "filtered_cars['mpg']"
   ]
  },
  {
   "cell_type": "code",
   "execution_count": 8,
   "metadata": {},
   "outputs": [],
   "source": [
    "def train_and_test(cols):\n",
    "    \n",
    "    X = filtered_cars[cols]\n",
    "    y = filtered_cars['mpg']\n",
    "    \n",
    "    model = LinearRegression()\n",
    "    model.fit(X, y)\n",
    "    \n",
    "    var = model.predict(X).var()\n",
    "    mse = mean_squared_error(model.predict(X), y)\n",
    "    \n",
    "    return (mse, var)"
   ]
  },
  {
   "cell_type": "code",
   "execution_count": 9,
   "metadata": {},
   "outputs": [
    {
     "name": "stderr",
     "output_type": "stream",
     "text": [
      "/usr/local/lib/python3.6/site-packages/scipy/linalg/basic.py:1226: RuntimeWarning: internal gelsd driver lwork query error, required iwork dimension not returned. This is likely the result of LAPACK bug 0038, fixed in LAPACK 3.2.2 (released July 21, 2010). Falling back to 'gelss' driver.\n",
      "  warnings.warn(mesg, RuntimeWarning)\n"
     ]
    }
   ],
   "source": [
    "cyl_mse, cyl_var = train_and_test(['cylinders'])\n",
    "weight_mse, weight_var = train_and_test(['weight'])"
   ]
  },
  {
   "cell_type": "code",
   "execution_count": null,
   "metadata": {},
   "outputs": [],
   "source": []
  },
  {
   "cell_type": "markdown",
   "metadata": {},
   "source": [
    "## Multivariate models\n",
    "\n",
    "Now that we have a function for training a regression model and calculating the mean squared error and variance, let's use it to train and understand more complex models.\n",
    "\n"
   ]
  },
  {
   "cell_type": "code",
   "execution_count": null,
   "metadata": {},
   "outputs": [],
   "source": []
  },
  {
   "cell_type": "markdown",
   "metadata": {},
   "source": [
    "Use the train_and_test function to train linear regression models using the following columns as the features:\n",
    "\n",
    "* columns: cylinders, displacement.\n",
    "  * MSE: two_mse, variance: two_var.\n",
    "* columns: cylinders, displacement, horsepower.\n",
    "  * MSE: three_mse, variance: three_var.\n",
    "* columns: cylinders, displacement, horsepower, weight.\n",
    "  * MSE: four_mse, variance: four_var.\n",
    "* columns: cylinders, displacement, horsepower, weight, acceleration.\n",
    "  * MSE: five_mse, variance: five_var.\n",
    "* columns: cylinders, displacement, horsepower, weight, acceleration, model year\n",
    "  * MSE: six_mse, variance: six_var.\n",
    "* columns: cylinders, displacement, horsepower, weight, acceleration, model year, origin\n",
    "  * MSE: seven_mse, variance: seven_var.\n",
    "\n",
    "Use `print` statements or the variable inspector to display each value."
   ]
  },
  {
   "cell_type": "code",
   "execution_count": 15,
   "metadata": {},
   "outputs": [],
   "source": [
    "one_mse, one_var = train_and_test([\"cylinders\"])"
   ]
  },
  {
   "cell_type": "code",
   "execution_count": 12,
   "metadata": {},
   "outputs": [],
   "source": [
    "cols_two = ['cylinders', 'displacement']\n",
    "cols_three = cols_two+['horsepower']\n",
    "cols_four = cols_three+['weight']\n",
    "cols_five = cols_four+['acceleration']\n",
    "cols_six = cols_five+['model year']\n",
    "cols_seven = cols_six+['origin']"
   ]
  },
  {
   "cell_type": "code",
   "execution_count": 16,
   "metadata": {},
   "outputs": [],
   "source": [
    "two_mse, two_var = train_and_test(cols_two)\n",
    "three_mse, three_var = train_and_test(cols_three)\n",
    "four_mse, four_var = train_and_test(cols_four)\n",
    "five_mse, five_var = train_and_test(cols_five)\n",
    "six_mse, six_var = train_and_test(cols_six)\n",
    "seven_mse, seven_var = train_and_test(cols_seven)"
   ]
  },
  {
   "cell_type": "code",
   "execution_count": 14,
   "metadata": {},
   "outputs": [
    {
     "name": "stdout",
     "output_type": "stream",
     "text": [
      "21.2820570556 39.4806813867\n",
      "20.2529548397 40.5097836026\n",
      "17.7638605718 42.9988778705\n",
      "17.7613961054 43.0013423369\n",
      "11.5901709814 49.1725674609\n",
      "10.847480945 49.9152574973\n"
     ]
    }
   ],
   "source": [
    "print(two_mse, two_var)\n",
    "print(three_mse, three_var)\n",
    "print(four_mse, four_var)\n",
    "print(five_mse, five_var)\n",
    "print(six_mse, six_var)\n",
    "print(seven_mse, seven_var)"
   ]
  },
  {
   "cell_type": "code",
   "execution_count": null,
   "metadata": {},
   "outputs": [],
   "source": []
  },
  {
   "cell_type": "markdown",
   "metadata": {},
   "source": [
    "## Cross validation\n",
    "\n",
    "The multivariate regression models you trained got progressively better at reducing the amount of error.<br>\n",
    "\n",
    "A good way to detect if your model is overfitting is to compare the **in-sample error** and the **out-of-sample error**, or the training error with the test error. So far, we calculated the in sample error by testing the model over the same data it was trained on. To calculate the out-of-sample error, we need to test the data on a test set of data. We unfortunately don't have a separate test dataset and we'll instead use cross validation.<br>\n",
    "\n",
    "If a model's cross validation error (out-of-sample error) is much higher than the in sample error, then your data science senses should start to tingle. This is the first line of defense against overfitting and is a clear indicator that the trained model doesn't generalize well outside of the training set.<br>\n",
    "\n",
    "Let's create a new function to handle performing the cross validation and computing the cross validation error."
   ]
  },
  {
   "cell_type": "code",
   "execution_count": null,
   "metadata": {},
   "outputs": [],
   "source": []
  },
  {
   "cell_type": "markdown",
   "metadata": {},
   "source": [
    "Create a function named `train_and_cross_val` that:\n",
    "\n",
    "* takes in a single parameter (list of column names),\n",
    "* trains a linear regression model using the features specified in the parameter,\n",
    "* uses the KFold class to perform 10-fold validation using a random seed of 3 (we use this seed to answer check your code),\n",
    "* calculates the mean squared error across all folds and the mean variance across all folds.\n",
    "* returns the mean squared error value then the variance using a multiple return statement (e.g. return(avg_mse, avg_var)).\n",
    "\n",
    "Use the train_and_cross_val function to train linear regression models using the following columns as the features:\n",
    "\n",
    "* the cylinders and displacement columns. Assign the resulting mean squared error value to two_mse and the resulting variance value to two_var.\n",
    "* the cylinders, displacement, and horsepower columns. Assign the resulting mean squared error value to three_mse and the resulting variance value to three_var.\n",
    "* the cylinders, displacement, horsepower, and weight columns. Assign the resulting mean squared error value to four_mse and the resulting variance value to four_var.\n",
    "* the cylinders, displacement, horsepower, weight, acceleration columns. Assign the resulting mean squared error value to five_mse and the resulting variance value to five_var.\n",
    "* the cylinders, displacement, horsepower, weight, acceleration, and model year columns. Assign the resulting mean squared error value to six_mse and the resulting variance value to six_var.\n",
    "* the cylinders, displacement, horsepower, weight, acceleration, model year, and origin columns. Assign the resulting mean squared error value to seven_mse and the resulting variance value to seven_var.\n",
    "\n",
    "Use the variable display to inspect each value."
   ]
  },
  {
   "cell_type": "code",
   "execution_count": null,
   "metadata": {},
   "outputs": [],
   "source": []
  },
  {
   "cell_type": "code",
   "execution_count": 17,
   "metadata": {},
   "outputs": [
    {
     "name": "stderr",
     "output_type": "stream",
     "text": [
      "/usr/local/lib/python3.6/site-packages/sklearn/cross_validation.py:41: DeprecationWarning: This module was deprecated in version 0.18 in favor of the model_selection module into which all the refactored classes and functions are moved. Also note that the interface of the new CV iterators are different from that of this module. This module will be removed in 0.20.\n",
      "  \"This module will be removed in 0.20.\", DeprecationWarning)\n"
     ]
    }
   ],
   "source": [
    "from sklearn.cross_validation import KFold\n",
    "from sklearn.metrics import mean_squared_error\n",
    "import numpy as np"
   ]
  },
  {
   "cell_type": "code",
   "execution_count": null,
   "metadata": {},
   "outputs": [],
   "source": []
  },
  {
   "cell_type": "code",
   "execution_count": 36,
   "metadata": {},
   "outputs": [],
   "source": [
    "def train_and_cross_val(cols):\n",
    "    \n",
    "    X = filtered_cars[cols]\n",
    "    y = filtered_cars['mpg']\n",
    "    kf = KFold(n=filtered_cars.shape[0], n_folds=10,\\\n",
    "                     shuffle=True, random_state=3)\n",
    "    \n",
    "    mses, variances = [], []\n",
    "    for train_idx, test_idx in kf:\n",
    "        X_train, X_test = X.iloc[train_idx], X.iloc[test_idx]\n",
    "        y_train, y_test = y.iloc[train_idx], y.iloc[test_idx]\n",
    "        \n",
    "        model = LinearRegression()\n",
    "        model.fit(X_train, y_train)\n",
    "        pred = model.predict(X_test)\n",
    "        \n",
    "        mses.append(mean_squared_error(pred, y_test))\n",
    "        variances.append(pred.var())\n",
    "    \n",
    "    return np.mean(mses), np.mean(variances)\n",
    "    "
   ]
  },
  {
   "cell_type": "code",
   "execution_count": 37,
   "metadata": {},
   "outputs": [],
   "source": [
    "two_mse, two_var = train_and_cross_val(cols_two)\n",
    "three_mse, three_var = train_and_cross_val(cols_three)\n",
    "four_mse, four_var = train_and_cross_val(cols_four)\n",
    "five_mse, five_var = train_and_cross_val(cols_five)\n",
    "six_mse, six_var = train_and_cross_val(cols_six)\n",
    "seven_mse, seven_var = train_and_cross_val(cols_seven)"
   ]
  },
  {
   "cell_type": "code",
   "execution_count": 38,
   "metadata": {},
   "outputs": [
    {
     "name": "stdout",
     "output_type": "stream",
     "text": [
      "21.584370275 38.9025253138\n",
      "20.6556221939 40.0912879566\n",
      "18.1696832391 42.5076436436\n",
      "18.2830385172 42.5987363001\n",
      "12.0996854255 48.9282469677\n",
      "11.4181319718 49.904313731\n"
     ]
    }
   ],
   "source": [
    "print(two_mse, two_var)\n",
    "print(three_mse, three_var)\n",
    "print(four_mse, four_var)\n",
    "print(five_mse, five_var)\n",
    "print(six_mse, six_var)\n",
    "print(seven_mse, seven_var)"
   ]
  },
  {
   "cell_type": "code",
   "execution_count": null,
   "metadata": {},
   "outputs": [],
   "source": []
  },
  {
   "cell_type": "markdown",
   "metadata": {},
   "source": [
    "## Plotting cross-validation error vs. cross-validation variance\n",
    "\n",
    "During cross validation, the more features we added to the model, the lower the mean squared error got. This is a good sign and indicates that the model generalizes well to new data it wasn't trained on. As the mean squared error value went down, however, the variance of the predictions went up. This is to be expected, since the models with lower squared error values had higher model complexity, which tends to be more sensitive to small variations in input values (or high variance).<br>\n",
    "\n",
    "For each model, let's plot the error and variance to get a better idea of the tradeoff as the number of features increased."
   ]
  },
  {
   "cell_type": "code",
   "execution_count": null,
   "metadata": {},
   "outputs": [],
   "source": []
  },
  {
   "cell_type": "markdown",
   "metadata": {},
   "source": [
    "On the same Axes instance:\n",
    "\n",
    "* Generate a scatter plot with the model's number of features on the x-axis and the model's overall, cross-validation mean squared error on the y-axis. Use `red` for the scatter dot color.\n",
    "* Generate a scatter plot with the model's number of features on the x-axis and the model's overall, cross-validation variance on the y-axis. Use `blue` for the scatter dot color.\n",
    "Use `plt.show()` to display the scatter plot."
   ]
  },
  {
   "cell_type": "code",
   "execution_count": 44,
   "metadata": {},
   "outputs": [],
   "source": [
    "mses = [two_mse, three_mse, four_mse, five_mse, six_mse, seven_mse]\n",
    "variances = [two_var, three_var, four_var, five_var, six_var, seven_var]"
   ]
  },
  {
   "cell_type": "code",
   "execution_count": 46,
   "metadata": {},
   "outputs": [
    {
     "data": {
      "image/png": "[encoded data removed]",
      "text/plain": [
       "<matplotlib.figure.Figure at 0x10ead4fd0>"
      ]
     },
     "metadata": {},
     "output_type": "display_data"
    }
   ],
   "source": [
    "fig, ax = plt.subplots()\n",
    "\n",
    "for i, (mse, var) in enumerate(zip(mses, variances)):\n",
    "    \n",
    "    ax.scatter(i+2, mse, c='r')\n",
    "    ax.scatter(i+2, var, c='b')\n",
    "\n",
    "plt.show()"
   ]
  },
  {
   "cell_type": "code",
   "execution_count": null,
   "metadata": {},
   "outputs": [],
   "source": []
  },
  {
   "cell_type": "markdown",
   "metadata": {},
   "source": [
    "## Conclusion\n",
    "\n",
    "While the higher order multivariate models overfit in relation to the lower order multivariate models, the in-sample error and out-of-sample didn't deviate by much. The best model was around **50%** more accurate than the simplest model. On the other hand, the overall variance increased around **25%** as we increased the model complexity. This is a really good starting point, but your work is not done! The increased variance with the increased model complexity means that your model will have more unpredictable performance on truly new, unseen data.<br>\n",
    "\n",
    "If you were working on this problem on a data science team, you'd need to confirm the predictive accuracy of the model using completely new, unobserved data (e.g. maybe from cars from later years). Since often you can't wait until a model is deployed in the wild to know how well it works, the exploration we did in this mission helps you approximate a model's real world performance."
   ]
  },
  {
   "cell_type": "code",
   "execution_count": null,
   "metadata": {},
   "outputs": [],
   "source": []
  },
  {
   "cell_type": "markdown",
   "metadata": {},
   "source": [
    "## Next Steps\n",
    "In this mission, we explored overfitting at a deeper level and introduced related terminology that you'll see in other literature as well. So far, we've mostly dealt with supvervised machine learning models to solve regression and classification problems. In the next mission, we'll explore an **unsupervised machine learning** technique called **k-means clustering**."
   ]
  },
  {
   "cell_type": "code",
   "execution_count": null,
   "metadata": {},
   "outputs": [],
   "source": []
  }
 ],
 "metadata": {
  "kernelspec": {
   "display_name": "Python 3",
   "language": "python",
   "name": "python3"
  },
  "language_info": {
   "codemirror_mode": {
    "name": "ipython",
    "version": 3
   },
   "file_extension": ".py",
   "mimetype": "text/x-python",
   "name": "python",
   "nbconvert_exporter": "python",
   "pygments_lexer": "ipython3",
   "version": "3.6.2"
  }
 },
 "nbformat": 4,
 "nbformat_minor": 2
}
