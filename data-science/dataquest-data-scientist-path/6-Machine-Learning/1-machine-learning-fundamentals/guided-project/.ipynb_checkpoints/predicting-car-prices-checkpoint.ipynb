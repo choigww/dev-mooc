{
 "cells": [
  {
   "cell_type": "markdown",
   "metadata": {},
   "source": [
    "# Guided Project:\n",
    "# Predicting Car Prices"
   ]
  },
  {
   "cell_type": "code",
   "execution_count": null,
   "metadata": {
    "collapsed": true
   },
   "outputs": [],
   "source": []
  },
  {
   "cell_type": "markdown",
   "metadata": {},
   "source": [
    "## Introduction to the data set\n",
    "\n",
    "In this course, we explored the fundamentals of machine learning using the k-nearest neighbors algorithm. In this guided project, you'll practice the machine learning workflow you've learned so far to predict a car's market price using its attributes. The data set we will be working with contains information on various cars. For each car we have information about the technical aspects of the vehicle such as the motor's displacement, the weight of the car, the miles per gallon, how fast the car accelerates, and more. You can read more about the data set [here](https://archive.ics.uci.edu/ml/datasets/automobile) and can download it directly from [here](https://archive.ics.uci.edu/ml/machine-learning-databases/autos/imports-85.data). "
   ]
  },
  {
   "cell_type": "code",
   "execution_count": null,
   "metadata": {
    "collapsed": true
   },
   "outputs": [],
   "source": []
  },
  {
   "cell_type": "code",
   "execution_count": 103,
   "metadata": {
    "collapsed": true
   },
   "outputs": [],
   "source": [
    "import pandas as pd\n",
    "import numpy as np\n",
    "\n",
    "from sklearn.neighbors import KNeighborsRegressor\n",
    "from sklearn.metrics import mean_squared_error\n",
    "from sklearn.model_selection import cross_val_score, KFold\n",
    "\n",
    "from matplotlib import pyplot as plt\n",
    "%matplotlib inline"
   ]
  },
  {
   "cell_type": "code",
   "execution_count": 104,
   "metadata": {
    "collapsed": true
   },
   "outputs": [],
   "source": [
    "headers=['symboling', 'normalized_losses', 'make', 'fuel_type', 'aspiration',\n",
    "        'num_doors', 'body_styles', 'drive_wheels', 'engine_location',\n",
    "        'wheel_base', 'length', 'width', 'height', 'curb_weight', 'engine_type',\n",
    "        'num_cylinders', 'engine_size', 'fuel_system', 'bore', 'stroke',\n",
    "        'compression_ratio', 'horsepower', 'peak_rpm', 'city_mpg', 'highway_mpg',\n",
    "        'price']\n",
    "\n",
    "cars = pd.read_csv('data/imports-85.data', sep=',', names=headers)"
   ]
  },
  {
   "cell_type": "code",
   "execution_count": 105,
   "metadata": {
    "collapsed": false
   },
   "outputs": [
    {
     "data": {
      "text/html": [
       "<div>\n",
       "<table border=\"1\" class=\"dataframe\">\n",
       "  <thead>\n",
       "    <tr style=\"text-align: right;\">\n",
       "      <th></th>\n",
       "      <th>symboling</th>\n",
       "      <th>normalized_losses</th>\n",
       "      <th>make</th>\n",
       "      <th>fuel_type</th>\n",
       "      <th>aspiration</th>\n",
       "      <th>num_doors</th>\n",
       "      <th>body_styles</th>\n",
       "      <th>drive_wheels</th>\n",
       "      <th>engine_location</th>\n",
       "      <th>wheel_base</th>\n",
       "      <th>...</th>\n",
       "      <th>engine_size</th>\n",
       "      <th>fuel_system</th>\n",
       "      <th>bore</th>\n",
       "      <th>stroke</th>\n",
       "      <th>compression_ratio</th>\n",
       "      <th>horsepower</th>\n",
       "      <th>peak_rpm</th>\n",
       "      <th>city_mpg</th>\n",
       "      <th>highway_mpg</th>\n",
       "      <th>price</th>\n",
       "    </tr>\n",
       "  </thead>\n",
       "  <tbody>\n",
       "    <tr>\n",
       "      <th>0</th>\n",
       "      <td>3</td>\n",
       "      <td>?</td>\n",
       "      <td>alfa-romero</td>\n",
       "      <td>gas</td>\n",
       "      <td>std</td>\n",
       "      <td>two</td>\n",
       "      <td>convertible</td>\n",
       "      <td>rwd</td>\n",
       "      <td>front</td>\n",
       "      <td>88.6</td>\n",
       "      <td>...</td>\n",
       "      <td>130</td>\n",
       "      <td>mpfi</td>\n",
       "      <td>3.47</td>\n",
       "      <td>2.68</td>\n",
       "      <td>9.0</td>\n",
       "      <td>111</td>\n",
       "      <td>5000</td>\n",
       "      <td>21</td>\n",
       "      <td>27</td>\n",
       "      <td>13495</td>\n",
       "    </tr>\n",
       "    <tr>\n",
       "      <th>1</th>\n",
       "      <td>3</td>\n",
       "      <td>?</td>\n",
       "      <td>alfa-romero</td>\n",
       "      <td>gas</td>\n",
       "      <td>std</td>\n",
       "      <td>two</td>\n",
       "      <td>convertible</td>\n",
       "      <td>rwd</td>\n",
       "      <td>front</td>\n",
       "      <td>88.6</td>\n",
       "      <td>...</td>\n",
       "      <td>130</td>\n",
       "      <td>mpfi</td>\n",
       "      <td>3.47</td>\n",
       "      <td>2.68</td>\n",
       "      <td>9.0</td>\n",
       "      <td>111</td>\n",
       "      <td>5000</td>\n",
       "      <td>21</td>\n",
       "      <td>27</td>\n",
       "      <td>16500</td>\n",
       "    </tr>\n",
       "    <tr>\n",
       "      <th>2</th>\n",
       "      <td>1</td>\n",
       "      <td>?</td>\n",
       "      <td>alfa-romero</td>\n",
       "      <td>gas</td>\n",
       "      <td>std</td>\n",
       "      <td>two</td>\n",
       "      <td>hatchback</td>\n",
       "      <td>rwd</td>\n",
       "      <td>front</td>\n",
       "      <td>94.5</td>\n",
       "      <td>...</td>\n",
       "      <td>152</td>\n",
       "      <td>mpfi</td>\n",
       "      <td>2.68</td>\n",
       "      <td>3.47</td>\n",
       "      <td>9.0</td>\n",
       "      <td>154</td>\n",
       "      <td>5000</td>\n",
       "      <td>19</td>\n",
       "      <td>26</td>\n",
       "      <td>16500</td>\n",
       "    </tr>\n",
       "    <tr>\n",
       "      <th>3</th>\n",
       "      <td>2</td>\n",
       "      <td>164</td>\n",
       "      <td>audi</td>\n",
       "      <td>gas</td>\n",
       "      <td>std</td>\n",
       "      <td>four</td>\n",
       "      <td>sedan</td>\n",
       "      <td>fwd</td>\n",
       "      <td>front</td>\n",
       "      <td>99.8</td>\n",
       "      <td>...</td>\n",
       "      <td>109</td>\n",
       "      <td>mpfi</td>\n",
       "      <td>3.19</td>\n",
       "      <td>3.40</td>\n",
       "      <td>10.0</td>\n",
       "      <td>102</td>\n",
       "      <td>5500</td>\n",
       "      <td>24</td>\n",
       "      <td>30</td>\n",
       "      <td>13950</td>\n",
       "    </tr>\n",
       "    <tr>\n",
       "      <th>4</th>\n",
       "      <td>2</td>\n",
       "      <td>164</td>\n",
       "      <td>audi</td>\n",
       "      <td>gas</td>\n",
       "      <td>std</td>\n",
       "      <td>four</td>\n",
       "      <td>sedan</td>\n",
       "      <td>4wd</td>\n",
       "      <td>front</td>\n",
       "      <td>99.4</td>\n",
       "      <td>...</td>\n",
       "      <td>136</td>\n",
       "      <td>mpfi</td>\n",
       "      <td>3.19</td>\n",
       "      <td>3.40</td>\n",
       "      <td>8.0</td>\n",
       "      <td>115</td>\n",
       "      <td>5500</td>\n",
       "      <td>18</td>\n",
       "      <td>22</td>\n",
       "      <td>17450</td>\n",
       "    </tr>\n",
       "  </tbody>\n",
       "</table>\n",
       "<p>5 rows × 26 columns</p>\n",
       "</div>"
      ],
      "text/plain": [
       "   symboling normalized_losses         make fuel_type aspiration num_doors  \\\n",
       "0          3                 ?  alfa-romero       gas        std       two   \n",
       "1          3                 ?  alfa-romero       gas        std       two   \n",
       "2          1                 ?  alfa-romero       gas        std       two   \n",
       "3          2               164         audi       gas        std      four   \n",
       "4          2               164         audi       gas        std      four   \n",
       "\n",
       "   body_styles drive_wheels engine_location  wheel_base  ...    engine_size  \\\n",
       "0  convertible          rwd           front        88.6  ...            130   \n",
       "1  convertible          rwd           front        88.6  ...            130   \n",
       "2    hatchback          rwd           front        94.5  ...            152   \n",
       "3        sedan          fwd           front        99.8  ...            109   \n",
       "4        sedan          4wd           front        99.4  ...            136   \n",
       "\n",
       "   fuel_system  bore  stroke compression_ratio horsepower  peak_rpm city_mpg  \\\n",
       "0         mpfi  3.47    2.68               9.0        111      5000       21   \n",
       "1         mpfi  3.47    2.68               9.0        111      5000       21   \n",
       "2         mpfi  2.68    3.47               9.0        154      5000       19   \n",
       "3         mpfi  3.19    3.40              10.0        102      5500       24   \n",
       "4         mpfi  3.19    3.40               8.0        115      5500       18   \n",
       "\n",
       "  highway_mpg  price  \n",
       "0          27  13495  \n",
       "1          27  16500  \n",
       "2          26  16500  \n",
       "3          30  13950  \n",
       "4          22  17450  \n",
       "\n",
       "[5 rows x 26 columns]"
      ]
     },
     "execution_count": 105,
     "metadata": {},
     "output_type": "execute_result"
    }
   ],
   "source": [
    "cars.head()"
   ]
  },
  {
   "cell_type": "code",
   "execution_count": null,
   "metadata": {
    "collapsed": true
   },
   "outputs": [],
   "source": []
  },
  {
   "cell_type": "markdown",
   "metadata": {},
   "source": [
    "## Data Cleaning\n",
    "\n",
    "As we learned in this course, we usually can't have any missing values if we want to use them for predictive modeling. Based on the data set preview from the last step, we can tell that the `normalized-losses` column contains missing values represented using `\"?\"`. Let's replace these values and look for the presence of missing values in other numeric columns. Let's also normalize the values in all numeric columns."
   ]
  },
  {
   "cell_type": "code",
   "execution_count": 106,
   "metadata": {
    "collapsed": false
   },
   "outputs": [],
   "source": [
    "cars = cars.replace(\"?\", np.nan)"
   ]
  },
  {
   "cell_type": "code",
   "execution_count": 107,
   "metadata": {
    "collapsed": false
   },
   "outputs": [
    {
     "name": "stdout",
     "output_type": "stream",
     "text": [
      "26\n"
     ]
    },
    {
     "data": {
      "text/plain": [
       "Index(['symboling', 'normalized_losses', 'make', 'fuel_type', 'aspiration',\n",
       "       'num_doors', 'body_styles', 'drive_wheels', 'engine_location',\n",
       "       'wheel_base', 'length', 'width', 'height', 'curb_weight', 'engine_type',\n",
       "       'num_cylinders', 'engine_size', 'fuel_system', 'bore', 'stroke',\n",
       "       'compression_ratio', 'horsepower', 'peak_rpm', 'city_mpg',\n",
       "       'highway_mpg', 'price'],\n",
       "      dtype='object')"
      ]
     },
     "execution_count": 107,
     "metadata": {},
     "output_type": "execute_result"
    }
   ],
   "source": [
    "print(len(cars.columns))\n",
    "cars.columns"
   ]
  },
  {
   "cell_type": "code",
   "execution_count": 108,
   "metadata": {
    "collapsed": false
   },
   "outputs": [
    {
     "data": {
      "text/html": [
       "<div>\n",
       "<table border=\"1\" class=\"dataframe\">\n",
       "  <thead>\n",
       "    <tr style=\"text-align: right;\">\n",
       "      <th></th>\n",
       "      <th>symboling</th>\n",
       "      <th>normalized_losses</th>\n",
       "      <th>make</th>\n",
       "      <th>fuel_type</th>\n",
       "      <th>aspiration</th>\n",
       "      <th>num_doors</th>\n",
       "      <th>body_styles</th>\n",
       "      <th>drive_wheels</th>\n",
       "      <th>engine_location</th>\n",
       "      <th>wheel_base</th>\n",
       "      <th>length</th>\n",
       "      <th>width</th>\n",
       "      <th>height</th>\n",
       "    </tr>\n",
       "  </thead>\n",
       "  <tbody>\n",
       "    <tr>\n",
       "      <th>0</th>\n",
       "      <td>3</td>\n",
       "      <td>NaN</td>\n",
       "      <td>alfa-romero</td>\n",
       "      <td>gas</td>\n",
       "      <td>std</td>\n",
       "      <td>two</td>\n",
       "      <td>convertible</td>\n",
       "      <td>rwd</td>\n",
       "      <td>front</td>\n",
       "      <td>88.6</td>\n",
       "      <td>168.8</td>\n",
       "      <td>64.1</td>\n",
       "      <td>48.8</td>\n",
       "    </tr>\n",
       "    <tr>\n",
       "      <th>1</th>\n",
       "      <td>3</td>\n",
       "      <td>NaN</td>\n",
       "      <td>alfa-romero</td>\n",
       "      <td>gas</td>\n",
       "      <td>std</td>\n",
       "      <td>two</td>\n",
       "      <td>convertible</td>\n",
       "      <td>rwd</td>\n",
       "      <td>front</td>\n",
       "      <td>88.6</td>\n",
       "      <td>168.8</td>\n",
       "      <td>64.1</td>\n",
       "      <td>48.8</td>\n",
       "    </tr>\n",
       "    <tr>\n",
       "      <th>2</th>\n",
       "      <td>1</td>\n",
       "      <td>NaN</td>\n",
       "      <td>alfa-romero</td>\n",
       "      <td>gas</td>\n",
       "      <td>std</td>\n",
       "      <td>two</td>\n",
       "      <td>hatchback</td>\n",
       "      <td>rwd</td>\n",
       "      <td>front</td>\n",
       "      <td>94.5</td>\n",
       "      <td>171.2</td>\n",
       "      <td>65.5</td>\n",
       "      <td>52.4</td>\n",
       "    </tr>\n",
       "    <tr>\n",
       "      <th>3</th>\n",
       "      <td>2</td>\n",
       "      <td>164</td>\n",
       "      <td>audi</td>\n",
       "      <td>gas</td>\n",
       "      <td>std</td>\n",
       "      <td>four</td>\n",
       "      <td>sedan</td>\n",
       "      <td>fwd</td>\n",
       "      <td>front</td>\n",
       "      <td>99.8</td>\n",
       "      <td>176.6</td>\n",
       "      <td>66.2</td>\n",
       "      <td>54.3</td>\n",
       "    </tr>\n",
       "    <tr>\n",
       "      <th>4</th>\n",
       "      <td>2</td>\n",
       "      <td>164</td>\n",
       "      <td>audi</td>\n",
       "      <td>gas</td>\n",
       "      <td>std</td>\n",
       "      <td>four</td>\n",
       "      <td>sedan</td>\n",
       "      <td>4wd</td>\n",
       "      <td>front</td>\n",
       "      <td>99.4</td>\n",
       "      <td>176.6</td>\n",
       "      <td>66.4</td>\n",
       "      <td>54.3</td>\n",
       "    </tr>\n",
       "    <tr>\n",
       "      <th>5</th>\n",
       "      <td>2</td>\n",
       "      <td>NaN</td>\n",
       "      <td>audi</td>\n",
       "      <td>gas</td>\n",
       "      <td>std</td>\n",
       "      <td>two</td>\n",
       "      <td>sedan</td>\n",
       "      <td>fwd</td>\n",
       "      <td>front</td>\n",
       "      <td>99.8</td>\n",
       "      <td>177.3</td>\n",
       "      <td>66.3</td>\n",
       "      <td>53.1</td>\n",
       "    </tr>\n",
       "    <tr>\n",
       "      <th>6</th>\n",
       "      <td>1</td>\n",
       "      <td>158</td>\n",
       "      <td>audi</td>\n",
       "      <td>gas</td>\n",
       "      <td>std</td>\n",
       "      <td>four</td>\n",
       "      <td>sedan</td>\n",
       "      <td>fwd</td>\n",
       "      <td>front</td>\n",
       "      <td>105.8</td>\n",
       "      <td>192.7</td>\n",
       "      <td>71.4</td>\n",
       "      <td>55.7</td>\n",
       "    </tr>\n",
       "    <tr>\n",
       "      <th>7</th>\n",
       "      <td>1</td>\n",
       "      <td>NaN</td>\n",
       "      <td>audi</td>\n",
       "      <td>gas</td>\n",
       "      <td>std</td>\n",
       "      <td>four</td>\n",
       "      <td>wagon</td>\n",
       "      <td>fwd</td>\n",
       "      <td>front</td>\n",
       "      <td>105.8</td>\n",
       "      <td>192.7</td>\n",
       "      <td>71.4</td>\n",
       "      <td>55.7</td>\n",
       "    </tr>\n",
       "    <tr>\n",
       "      <th>8</th>\n",
       "      <td>1</td>\n",
       "      <td>158</td>\n",
       "      <td>audi</td>\n",
       "      <td>gas</td>\n",
       "      <td>turbo</td>\n",
       "      <td>four</td>\n",
       "      <td>sedan</td>\n",
       "      <td>fwd</td>\n",
       "      <td>front</td>\n",
       "      <td>105.8</td>\n",
       "      <td>192.7</td>\n",
       "      <td>71.4</td>\n",
       "      <td>55.9</td>\n",
       "    </tr>\n",
       "    <tr>\n",
       "      <th>9</th>\n",
       "      <td>0</td>\n",
       "      <td>NaN</td>\n",
       "      <td>audi</td>\n",
       "      <td>gas</td>\n",
       "      <td>turbo</td>\n",
       "      <td>two</td>\n",
       "      <td>hatchback</td>\n",
       "      <td>4wd</td>\n",
       "      <td>front</td>\n",
       "      <td>99.5</td>\n",
       "      <td>178.2</td>\n",
       "      <td>67.9</td>\n",
       "      <td>52.0</td>\n",
       "    </tr>\n",
       "  </tbody>\n",
       "</table>\n",
       "</div>"
      ],
      "text/plain": [
       "   symboling normalized_losses         make fuel_type aspiration num_doors  \\\n",
       "0          3               NaN  alfa-romero       gas        std       two   \n",
       "1          3               NaN  alfa-romero       gas        std       two   \n",
       "2          1               NaN  alfa-romero       gas        std       two   \n",
       "3          2               164         audi       gas        std      four   \n",
       "4          2               164         audi       gas        std      four   \n",
       "5          2               NaN         audi       gas        std       two   \n",
       "6          1               158         audi       gas        std      four   \n",
       "7          1               NaN         audi       gas        std      four   \n",
       "8          1               158         audi       gas      turbo      four   \n",
       "9          0               NaN         audi       gas      turbo       two   \n",
       "\n",
       "   body_styles drive_wheels engine_location  wheel_base  length  width  height  \n",
       "0  convertible          rwd           front        88.6   168.8   64.1    48.8  \n",
       "1  convertible          rwd           front        88.6   168.8   64.1    48.8  \n",
       "2    hatchback          rwd           front        94.5   171.2   65.5    52.4  \n",
       "3        sedan          fwd           front        99.8   176.6   66.2    54.3  \n",
       "4        sedan          4wd           front        99.4   176.6   66.4    54.3  \n",
       "5        sedan          fwd           front        99.8   177.3   66.3    53.1  \n",
       "6        sedan          fwd           front       105.8   192.7   71.4    55.7  \n",
       "7        wagon          fwd           front       105.8   192.7   71.4    55.7  \n",
       "8        sedan          fwd           front       105.8   192.7   71.4    55.9  \n",
       "9    hatchback          4wd           front        99.5   178.2   67.9    52.0  "
      ]
     },
     "execution_count": 108,
     "metadata": {},
     "output_type": "execute_result"
    }
   ],
   "source": [
    "cars[cars.columns[:13]].head(10)"
   ]
  },
  {
   "cell_type": "code",
   "execution_count": 109,
   "metadata": {
    "collapsed": false
   },
   "outputs": [
    {
     "data": {
      "text/html": [
       "<div>\n",
       "<table border=\"1\" class=\"dataframe\">\n",
       "  <thead>\n",
       "    <tr style=\"text-align: right;\">\n",
       "      <th></th>\n",
       "      <th>curb_weight</th>\n",
       "      <th>engine_type</th>\n",
       "      <th>num_cylinders</th>\n",
       "      <th>engine_size</th>\n",
       "      <th>fuel_system</th>\n",
       "      <th>bore</th>\n",
       "      <th>stroke</th>\n",
       "      <th>compression_ratio</th>\n",
       "      <th>horsepower</th>\n",
       "      <th>peak_rpm</th>\n",
       "      <th>city_mpg</th>\n",
       "      <th>highway_mpg</th>\n",
       "      <th>price</th>\n",
       "    </tr>\n",
       "  </thead>\n",
       "  <tbody>\n",
       "    <tr>\n",
       "      <th>0</th>\n",
       "      <td>2548</td>\n",
       "      <td>dohc</td>\n",
       "      <td>four</td>\n",
       "      <td>130</td>\n",
       "      <td>mpfi</td>\n",
       "      <td>3.47</td>\n",
       "      <td>2.68</td>\n",
       "      <td>9.0</td>\n",
       "      <td>111</td>\n",
       "      <td>5000</td>\n",
       "      <td>21</td>\n",
       "      <td>27</td>\n",
       "      <td>13495</td>\n",
       "    </tr>\n",
       "    <tr>\n",
       "      <th>1</th>\n",
       "      <td>2548</td>\n",
       "      <td>dohc</td>\n",
       "      <td>four</td>\n",
       "      <td>130</td>\n",
       "      <td>mpfi</td>\n",
       "      <td>3.47</td>\n",
       "      <td>2.68</td>\n",
       "      <td>9.0</td>\n",
       "      <td>111</td>\n",
       "      <td>5000</td>\n",
       "      <td>21</td>\n",
       "      <td>27</td>\n",
       "      <td>16500</td>\n",
       "    </tr>\n",
       "    <tr>\n",
       "      <th>2</th>\n",
       "      <td>2823</td>\n",
       "      <td>ohcv</td>\n",
       "      <td>six</td>\n",
       "      <td>152</td>\n",
       "      <td>mpfi</td>\n",
       "      <td>2.68</td>\n",
       "      <td>3.47</td>\n",
       "      <td>9.0</td>\n",
       "      <td>154</td>\n",
       "      <td>5000</td>\n",
       "      <td>19</td>\n",
       "      <td>26</td>\n",
       "      <td>16500</td>\n",
       "    </tr>\n",
       "    <tr>\n",
       "      <th>3</th>\n",
       "      <td>2337</td>\n",
       "      <td>ohc</td>\n",
       "      <td>four</td>\n",
       "      <td>109</td>\n",
       "      <td>mpfi</td>\n",
       "      <td>3.19</td>\n",
       "      <td>3.40</td>\n",
       "      <td>10.0</td>\n",
       "      <td>102</td>\n",
       "      <td>5500</td>\n",
       "      <td>24</td>\n",
       "      <td>30</td>\n",
       "      <td>13950</td>\n",
       "    </tr>\n",
       "    <tr>\n",
       "      <th>4</th>\n",
       "      <td>2824</td>\n",
       "      <td>ohc</td>\n",
       "      <td>five</td>\n",
       "      <td>136</td>\n",
       "      <td>mpfi</td>\n",
       "      <td>3.19</td>\n",
       "      <td>3.40</td>\n",
       "      <td>8.0</td>\n",
       "      <td>115</td>\n",
       "      <td>5500</td>\n",
       "      <td>18</td>\n",
       "      <td>22</td>\n",
       "      <td>17450</td>\n",
       "    </tr>\n",
       "    <tr>\n",
       "      <th>5</th>\n",
       "      <td>2507</td>\n",
       "      <td>ohc</td>\n",
       "      <td>five</td>\n",
       "      <td>136</td>\n",
       "      <td>mpfi</td>\n",
       "      <td>3.19</td>\n",
       "      <td>3.40</td>\n",
       "      <td>8.5</td>\n",
       "      <td>110</td>\n",
       "      <td>5500</td>\n",
       "      <td>19</td>\n",
       "      <td>25</td>\n",
       "      <td>15250</td>\n",
       "    </tr>\n",
       "    <tr>\n",
       "      <th>6</th>\n",
       "      <td>2844</td>\n",
       "      <td>ohc</td>\n",
       "      <td>five</td>\n",
       "      <td>136</td>\n",
       "      <td>mpfi</td>\n",
       "      <td>3.19</td>\n",
       "      <td>3.40</td>\n",
       "      <td>8.5</td>\n",
       "      <td>110</td>\n",
       "      <td>5500</td>\n",
       "      <td>19</td>\n",
       "      <td>25</td>\n",
       "      <td>17710</td>\n",
       "    </tr>\n",
       "    <tr>\n",
       "      <th>7</th>\n",
       "      <td>2954</td>\n",
       "      <td>ohc</td>\n",
       "      <td>five</td>\n",
       "      <td>136</td>\n",
       "      <td>mpfi</td>\n",
       "      <td>3.19</td>\n",
       "      <td>3.40</td>\n",
       "      <td>8.5</td>\n",
       "      <td>110</td>\n",
       "      <td>5500</td>\n",
       "      <td>19</td>\n",
       "      <td>25</td>\n",
       "      <td>18920</td>\n",
       "    </tr>\n",
       "    <tr>\n",
       "      <th>8</th>\n",
       "      <td>3086</td>\n",
       "      <td>ohc</td>\n",
       "      <td>five</td>\n",
       "      <td>131</td>\n",
       "      <td>mpfi</td>\n",
       "      <td>3.13</td>\n",
       "      <td>3.40</td>\n",
       "      <td>8.3</td>\n",
       "      <td>140</td>\n",
       "      <td>5500</td>\n",
       "      <td>17</td>\n",
       "      <td>20</td>\n",
       "      <td>23875</td>\n",
       "    </tr>\n",
       "    <tr>\n",
       "      <th>9</th>\n",
       "      <td>3053</td>\n",
       "      <td>ohc</td>\n",
       "      <td>five</td>\n",
       "      <td>131</td>\n",
       "      <td>mpfi</td>\n",
       "      <td>3.13</td>\n",
       "      <td>3.40</td>\n",
       "      <td>7.0</td>\n",
       "      <td>160</td>\n",
       "      <td>5500</td>\n",
       "      <td>16</td>\n",
       "      <td>22</td>\n",
       "      <td>NaN</td>\n",
       "    </tr>\n",
       "  </tbody>\n",
       "</table>\n",
       "</div>"
      ],
      "text/plain": [
       "   curb_weight engine_type num_cylinders  engine_size fuel_system  bore  \\\n",
       "0         2548        dohc          four          130        mpfi  3.47   \n",
       "1         2548        dohc          four          130        mpfi  3.47   \n",
       "2         2823        ohcv           six          152        mpfi  2.68   \n",
       "3         2337         ohc          four          109        mpfi  3.19   \n",
       "4         2824         ohc          five          136        mpfi  3.19   \n",
       "5         2507         ohc          five          136        mpfi  3.19   \n",
       "6         2844         ohc          five          136        mpfi  3.19   \n",
       "7         2954         ohc          five          136        mpfi  3.19   \n",
       "8         3086         ohc          five          131        mpfi  3.13   \n",
       "9         3053         ohc          five          131        mpfi  3.13   \n",
       "\n",
       "  stroke  compression_ratio horsepower peak_rpm  city_mpg  highway_mpg  price  \n",
       "0   2.68                9.0        111     5000        21           27  13495  \n",
       "1   2.68                9.0        111     5000        21           27  16500  \n",
       "2   3.47                9.0        154     5000        19           26  16500  \n",
       "3   3.40               10.0        102     5500        24           30  13950  \n",
       "4   3.40                8.0        115     5500        18           22  17450  \n",
       "5   3.40                8.5        110     5500        19           25  15250  \n",
       "6   3.40                8.5        110     5500        19           25  17710  \n",
       "7   3.40                8.5        110     5500        19           25  18920  \n",
       "8   3.40                8.3        140     5500        17           20  23875  \n",
       "9   3.40                7.0        160     5500        16           22    NaN  "
      ]
     },
     "execution_count": 109,
     "metadata": {},
     "output_type": "execute_result"
    }
   ],
   "source": [
    "cars[cars.columns[13:]].head(10)"
   ]
  },
  {
   "cell_type": "code",
   "execution_count": 110,
   "metadata": {
    "collapsed": false
   },
   "outputs": [
    {
     "name": "stdout",
     "output_type": "stream",
     "text": [
      "<class 'pandas.core.frame.DataFrame'>\n",
      "RangeIndex: 205 entries, 0 to 204\n",
      "Data columns (total 26 columns):\n",
      "symboling            205 non-null int64\n",
      "normalized_losses    164 non-null object\n",
      "make                 205 non-null object\n",
      "fuel_type            205 non-null object\n",
      "aspiration           205 non-null object\n",
      "num_doors            203 non-null object\n",
      "body_styles          205 non-null object\n",
      "drive_wheels         205 non-null object\n",
      "engine_location      205 non-null object\n",
      "wheel_base           205 non-null float64\n",
      "length               205 non-null float64\n",
      "width                205 non-null float64\n",
      "height               205 non-null float64\n",
      "curb_weight          205 non-null int64\n",
      "engine_type          205 non-null object\n",
      "num_cylinders        205 non-null object\n",
      "engine_size          205 non-null int64\n",
      "fuel_system          205 non-null object\n",
      "bore                 201 non-null object\n",
      "stroke               201 non-null object\n",
      "compression_ratio    205 non-null float64\n",
      "horsepower           203 non-null object\n",
      "peak_rpm             203 non-null object\n",
      "city_mpg             205 non-null int64\n",
      "highway_mpg          205 non-null int64\n",
      "price                201 non-null object\n",
      "dtypes: float64(5), int64(5), object(16)\n",
      "memory usage: 41.7+ KB\n"
     ]
    }
   ],
   "source": [
    "cars.info()"
   ]
  },
  {
   "cell_type": "code",
   "execution_count": 111,
   "metadata": {
    "collapsed": false
   },
   "outputs": [],
   "source": [
    "features_to_cast_numeric = ['normalized_losses', 'bore', 'stroke',\n",
    "                            'horsepower', 'peak_rpm', 'price']\n",
    "\n",
    "cars[features_to_cast_numeric] = cars[features_to_cast_numeric].astype('float')"
   ]
  },
  {
   "cell_type": "code",
   "execution_count": 112,
   "metadata": {
    "collapsed": false,
    "scrolled": true
   },
   "outputs": [
    {
     "name": "stdout",
     "output_type": "stream",
     "text": [
      "<class 'pandas.core.frame.DataFrame'>\n",
      "RangeIndex: 205 entries, 0 to 204\n",
      "Data columns (total 26 columns):\n",
      "symboling            205 non-null int64\n",
      "normalized_losses    164 non-null float64\n",
      "make                 205 non-null object\n",
      "fuel_type            205 non-null object\n",
      "aspiration           205 non-null object\n",
      "num_doors            203 non-null object\n",
      "body_styles          205 non-null object\n",
      "drive_wheels         205 non-null object\n",
      "engine_location      205 non-null object\n",
      "wheel_base           205 non-null float64\n",
      "length               205 non-null float64\n",
      "width                205 non-null float64\n",
      "height               205 non-null float64\n",
      "curb_weight          205 non-null int64\n",
      "engine_type          205 non-null object\n",
      "num_cylinders        205 non-null object\n",
      "engine_size          205 non-null int64\n",
      "fuel_system          205 non-null object\n",
      "bore                 201 non-null float64\n",
      "stroke               201 non-null float64\n",
      "compression_ratio    205 non-null float64\n",
      "horsepower           203 non-null float64\n",
      "peak_rpm             203 non-null float64\n",
      "city_mpg             205 non-null int64\n",
      "highway_mpg          205 non-null int64\n",
      "price                201 non-null float64\n",
      "dtypes: float64(11), int64(5), object(10)\n",
      "memory usage: 41.7+ KB\n"
     ]
    }
   ],
   "source": [
    "cars.info()"
   ]
  },
  {
   "cell_type": "code",
   "execution_count": null,
   "metadata": {
    "collapsed": true
   },
   "outputs": [],
   "source": []
  },
  {
   "cell_type": "code",
   "execution_count": 113,
   "metadata": {
    "collapsed": false
   },
   "outputs": [
    {
     "data": {
      "text/plain": [
       "41"
      ]
     },
     "execution_count": 113,
     "metadata": {},
     "output_type": "execute_result"
    }
   ],
   "source": [
    "# num of null rows in 'normalized_losses' column\n",
    "\n",
    "cars['normalized_losses'].isnull().sum()"
   ]
  },
  {
   "cell_type": "code",
   "execution_count": 116,
   "metadata": {
    "collapsed": false
   },
   "outputs": [
    {
     "data": {
      "text/plain": [
       "['symboling',\n",
       " 'normalized_losses',\n",
       " 'wheel_base',\n",
       " 'length',\n",
       " 'width',\n",
       " 'height',\n",
       " 'curb_weight',\n",
       " 'engine_size',\n",
       " 'bore',\n",
       " 'stroke',\n",
       " 'compression_ratio',\n",
       " 'horsepower',\n",
       " 'peak_rpm',\n",
       " 'city_mpg',\n",
       " 'highway_mpg',\n",
       " 'price']"
      ]
     },
     "execution_count": 116,
     "metadata": {},
     "output_type": "execute_result"
    }
   ],
   "source": [
    "numeric_features = []\n",
    "\n",
    "for col in cars.columns:\n",
    "    \n",
    "    if cars[col].dtype != 'object':\n",
    "        numeric_features.append(col)\n",
    "    \n",
    "numeric_features"
   ]
  },
  {
   "cell_type": "code",
   "execution_count": 123,
   "metadata": {
    "collapsed": false
   },
   "outputs": [
    {
     "data": {
      "text/plain": [
       " 0    67\n",
       " 1    54\n",
       " 2    32\n",
       " 3    27\n",
       "-1    22\n",
       "-2     3\n",
       "Name: symboling, dtype: int64"
      ]
     },
     "execution_count": 123,
     "metadata": {},
     "output_type": "execute_result"
    }
   ],
   "source": [
    "cars['symboling'].value_counts()"
   ]
  },
  {
   "cell_type": "code",
   "execution_count": 124,
   "metadata": {
    "collapsed": true
   },
   "outputs": [],
   "source": [
    "numeric_features.remove('symboling')"
   ]
  },
  {
   "cell_type": "code",
   "execution_count": null,
   "metadata": {
    "collapsed": true
   },
   "outputs": [],
   "source": []
  },
  {
   "cell_type": "code",
   "execution_count": 125,
   "metadata": {
    "collapsed": false,
    "scrolled": false
   },
   "outputs": [
    {
     "name": "stdout",
     "output_type": "stream",
     "text": [
      "205\n",
      "normalized_losses : 41\n",
      "bore : 4\n",
      "stroke : 4\n",
      "horsepower : 2\n",
      "peak_rpm : 2\n",
      "price : 4\n"
     ]
    }
   ],
   "source": [
    "numeric_features_withnull = []\n",
    "\n",
    "# total samples\n",
    "print(cars.shape[0])\n",
    "\n",
    "for numcol in numeric_features:\n",
    "\n",
    "    if cars[numcol].isnull().sum() > 0:\n",
    "        print(numcol, ':', cars[numcol].isnull().sum())\n",
    "        numeric_features_withnull.append(numcol)\n"
   ]
  },
  {
   "cell_type": "code",
   "execution_count": 126,
   "metadata": {
    "collapsed": false,
    "scrolled": false
   },
   "outputs": [
    {
     "data": {
      "text/plain": [
       "['normalized_losses', 'bore', 'stroke', 'horsepower', 'peak_rpm', 'price']"
      ]
     },
     "execution_count": 126,
     "metadata": {},
     "output_type": "execute_result"
    }
   ],
   "source": [
    "numeric_features_withnull"
   ]
  },
  {
   "cell_type": "code",
   "execution_count": null,
   "metadata": {
    "collapsed": true
   },
   "outputs": [],
   "source": []
  },
  {
   "cell_type": "code",
   "execution_count": 127,
   "metadata": {
    "collapsed": false
   },
   "outputs": [
    {
     "name": "stderr",
     "output_type": "stream",
     "text": [
      "/dataquest/system/env/python3/lib/python3.4/site-packages/ipykernel/__main__.py:7: SettingWithCopyWarning: \n",
      "A value is trying to be set on a copy of a slice from a DataFrame\n",
      "\n",
      "See the caveats in the documentation: http://pandas.pydata.org/pandas-docs/stable/indexing.html#indexing-view-versus-copy\n"
     ]
    }
   ],
   "source": [
    "# Null handling -> replace with average\n",
    "# exception --- rows with 'price' null value -> drop.\n",
    "\n",
    "for numcol in numeric_features_withnull:\n",
    "    if numcol != 'price':\n",
    "       \n",
    "        cars[numcol][cars[numcol].isnull()] = cars[numcol].mean()\n"
   ]
  },
  {
   "cell_type": "code",
   "execution_count": null,
   "metadata": {
    "collapsed": true
   },
   "outputs": [],
   "source": []
  },
  {
   "cell_type": "code",
   "execution_count": 128,
   "metadata": {
    "collapsed": false
   },
   "outputs": [
    {
     "name": "stdout",
     "output_type": "stream",
     "text": [
      "205\n",
      "price : 4\n"
     ]
    }
   ],
   "source": [
    "# total samples\n",
    "print(cars.shape[0])\n",
    "\n",
    "for numcol in numeric_features:\n",
    "\n",
    "    if cars[numcol].isnull().sum() > 0:\n",
    "        numeric_features_withnull.append(numcol)\n",
    "        print(numcol, ':', cars[numcol].isnull().sum())"
   ]
  },
  {
   "cell_type": "code",
   "execution_count": 129,
   "metadata": {
    "collapsed": false
   },
   "outputs": [],
   "source": [
    "cars = cars.dropna(axis=0, how='any', subset=['price'])"
   ]
  },
  {
   "cell_type": "code",
   "execution_count": 130,
   "metadata": {
    "collapsed": false
   },
   "outputs": [
    {
     "name": "stdout",
     "output_type": "stream",
     "text": [
      "201\n"
     ]
    }
   ],
   "source": [
    "# total samples\n",
    "print(cars.shape[0])\n",
    "\n",
    "for numcol in numeric_features:\n",
    "\n",
    "    if cars[numcol].isnull().sum() > 0:\n",
    "        numeric_features_withnull.append(numcol)\n",
    "        print(numcol, ':', cars[numcol].isnull().sum())"
   ]
  },
  {
   "cell_type": "code",
   "execution_count": null,
   "metadata": {
    "collapsed": true
   },
   "outputs": [],
   "source": []
  },
  {
   "cell_type": "code",
   "execution_count": 131,
   "metadata": {
    "collapsed": false
   },
   "outputs": [],
   "source": [
    "# normalize\n",
    "\n",
    "def normalize_num_cols(df, cols):\n",
    "    \n",
    "    df_ = df.copy()\n",
    "    \n",
    "    for col in cols:\n",
    "        \n",
    "        if col != 'price':\n",
    "        \n",
    "            mean = np.mean(df_[col])\n",
    "            std = np.std(df_[col])\n",
    "\n",
    "            df_[col] = df_[col].apply(lambda x: (x - mean)/std)\n",
    "        \n",
    "    return df_\n",
    "\n",
    "\n",
    "cars = normalize_num_cols(cars, numeric_features)"
   ]
  },
  {
   "cell_type": "code",
   "execution_count": 132,
   "metadata": {
    "collapsed": false
   },
   "outputs": [
    {
     "data": {
      "text/html": [
       "<div>\n",
       "<table border=\"1\" class=\"dataframe\">\n",
       "  <thead>\n",
       "    <tr style=\"text-align: right;\">\n",
       "      <th></th>\n",
       "      <th>symboling</th>\n",
       "      <th>normalized_losses</th>\n",
       "      <th>make</th>\n",
       "      <th>fuel_type</th>\n",
       "      <th>aspiration</th>\n",
       "      <th>num_doors</th>\n",
       "      <th>body_styles</th>\n",
       "      <th>drive_wheels</th>\n",
       "      <th>engine_location</th>\n",
       "      <th>wheel_base</th>\n",
       "      <th>...</th>\n",
       "      <th>engine_size</th>\n",
       "      <th>fuel_system</th>\n",
       "      <th>bore</th>\n",
       "      <th>stroke</th>\n",
       "      <th>compression_ratio</th>\n",
       "      <th>horsepower</th>\n",
       "      <th>peak_rpm</th>\n",
       "      <th>city_mpg</th>\n",
       "      <th>highway_mpg</th>\n",
       "      <th>price</th>\n",
       "    </tr>\n",
       "  </thead>\n",
       "  <tbody>\n",
       "    <tr>\n",
       "      <th>0</th>\n",
       "      <td>3</td>\n",
       "      <td>0.000000</td>\n",
       "      <td>alfa-romero</td>\n",
       "      <td>gas</td>\n",
       "      <td>std</td>\n",
       "      <td>two</td>\n",
       "      <td>convertible</td>\n",
       "      <td>rwd</td>\n",
       "      <td>front</td>\n",
       "      <td>-1.685107</td>\n",
       "      <td>...</td>\n",
       "      <td>0.075389</td>\n",
       "      <td>mpfi</td>\n",
       "      <td>0.520966</td>\n",
       "      <td>-1.829833</td>\n",
       "      <td>-0.291435</td>\n",
       "      <td>0.203754</td>\n",
       "      <td>-0.246718</td>\n",
       "      <td>-0.652249</td>\n",
       "      <td>-0.542288</td>\n",
       "      <td>13495.0</td>\n",
       "    </tr>\n",
       "    <tr>\n",
       "      <th>1</th>\n",
       "      <td>3</td>\n",
       "      <td>0.000000</td>\n",
       "      <td>alfa-romero</td>\n",
       "      <td>gas</td>\n",
       "      <td>std</td>\n",
       "      <td>two</td>\n",
       "      <td>convertible</td>\n",
       "      <td>rwd</td>\n",
       "      <td>front</td>\n",
       "      <td>-1.685107</td>\n",
       "      <td>...</td>\n",
       "      <td>0.075389</td>\n",
       "      <td>mpfi</td>\n",
       "      <td>0.520966</td>\n",
       "      <td>-1.829833</td>\n",
       "      <td>-0.291435</td>\n",
       "      <td>0.203754</td>\n",
       "      <td>-0.246718</td>\n",
       "      <td>-0.652249</td>\n",
       "      <td>-0.542288</td>\n",
       "      <td>16500.0</td>\n",
       "    </tr>\n",
       "    <tr>\n",
       "      <th>2</th>\n",
       "      <td>1</td>\n",
       "      <td>0.000000</td>\n",
       "      <td>alfa-romero</td>\n",
       "      <td>gas</td>\n",
       "      <td>std</td>\n",
       "      <td>two</td>\n",
       "      <td>hatchback</td>\n",
       "      <td>rwd</td>\n",
       "      <td>front</td>\n",
       "      <td>-0.710103</td>\n",
       "      <td>...</td>\n",
       "      <td>0.606234</td>\n",
       "      <td>mpfi</td>\n",
       "      <td>-2.433363</td>\n",
       "      <td>0.676031</td>\n",
       "      <td>-0.291435</td>\n",
       "      <td>1.357416</td>\n",
       "      <td>-0.246718</td>\n",
       "      <td>-0.964397</td>\n",
       "      <td>-0.689386</td>\n",
       "      <td>16500.0</td>\n",
       "    </tr>\n",
       "    <tr>\n",
       "      <th>3</th>\n",
       "      <td>2</td>\n",
       "      <td>1.315931</td>\n",
       "      <td>audi</td>\n",
       "      <td>gas</td>\n",
       "      <td>std</td>\n",
       "      <td>four</td>\n",
       "      <td>sedan</td>\n",
       "      <td>fwd</td>\n",
       "      <td>front</td>\n",
       "      <td>0.165748</td>\n",
       "      <td>...</td>\n",
       "      <td>-0.431327</td>\n",
       "      <td>mpfi</td>\n",
       "      <td>-0.526138</td>\n",
       "      <td>0.453993</td>\n",
       "      <td>-0.041121</td>\n",
       "      <td>-0.037710</td>\n",
       "      <td>0.801670</td>\n",
       "      <td>-0.184027</td>\n",
       "      <td>-0.100993</td>\n",
       "      <td>13950.0</td>\n",
       "    </tr>\n",
       "    <tr>\n",
       "      <th>4</th>\n",
       "      <td>2</td>\n",
       "      <td>1.315931</td>\n",
       "      <td>audi</td>\n",
       "      <td>gas</td>\n",
       "      <td>std</td>\n",
       "      <td>four</td>\n",
       "      <td>sedan</td>\n",
       "      <td>4wd</td>\n",
       "      <td>front</td>\n",
       "      <td>0.099646</td>\n",
       "      <td>...</td>\n",
       "      <td>0.220165</td>\n",
       "      <td>mpfi</td>\n",
       "      <td>-0.526138</td>\n",
       "      <td>0.453993</td>\n",
       "      <td>-0.541748</td>\n",
       "      <td>0.311072</td>\n",
       "      <td>0.801670</td>\n",
       "      <td>-1.120471</td>\n",
       "      <td>-1.277779</td>\n",
       "      <td>17450.0</td>\n",
       "    </tr>\n",
       "  </tbody>\n",
       "</table>\n",
       "<p>5 rows × 26 columns</p>\n",
       "</div>"
      ],
      "text/plain": [
       "   symboling  normalized_losses         make fuel_type aspiration num_doors  \\\n",
       "0          3           0.000000  alfa-romero       gas        std       two   \n",
       "1          3           0.000000  alfa-romero       gas        std       two   \n",
       "2          1           0.000000  alfa-romero       gas        std       two   \n",
       "3          2           1.315931         audi       gas        std      four   \n",
       "4          2           1.315931         audi       gas        std      four   \n",
       "\n",
       "   body_styles drive_wheels engine_location  wheel_base   ...     engine_size  \\\n",
       "0  convertible          rwd           front   -1.685107   ...        0.075389   \n",
       "1  convertible          rwd           front   -1.685107   ...        0.075389   \n",
       "2    hatchback          rwd           front   -0.710103   ...        0.606234   \n",
       "3        sedan          fwd           front    0.165748   ...       -0.431327   \n",
       "4        sedan          4wd           front    0.099646   ...        0.220165   \n",
       "\n",
       "   fuel_system      bore    stroke compression_ratio horsepower  peak_rpm  \\\n",
       "0         mpfi  0.520966 -1.829833         -0.291435   0.203754 -0.246718   \n",
       "1         mpfi  0.520966 -1.829833         -0.291435   0.203754 -0.246718   \n",
       "2         mpfi -2.433363  0.676031         -0.291435   1.357416 -0.246718   \n",
       "3         mpfi -0.526138  0.453993         -0.041121  -0.037710  0.801670   \n",
       "4         mpfi -0.526138  0.453993         -0.541748   0.311072  0.801670   \n",
       "\n",
       "   city_mpg  highway_mpg    price  \n",
       "0 -0.652249    -0.542288  13495.0  \n",
       "1 -0.652249    -0.542288  16500.0  \n",
       "2 -0.964397    -0.689386  16500.0  \n",
       "3 -0.184027    -0.100993  13950.0  \n",
       "4 -1.120471    -1.277779  17450.0  \n",
       "\n",
       "[5 rows x 26 columns]"
      ]
     },
     "execution_count": 132,
     "metadata": {},
     "output_type": "execute_result"
    }
   ],
   "source": [
    "cars.head()"
   ]
  },
  {
   "cell_type": "code",
   "execution_count": null,
   "metadata": {
    "collapsed": true
   },
   "outputs": [],
   "source": []
  },
  {
   "cell_type": "markdown",
   "metadata": {},
   "source": [
    "## Univariate Model\n",
    "\n",
    "Let's start with some univariate k-nearest neighbors models. Starting with simple models before moving to more complex models helps us structure your code workflow and understand the features better."
   ]
  },
  {
   "cell_type": "code",
   "execution_count": null,
   "metadata": {
    "collapsed": true
   },
   "outputs": [],
   "source": []
  },
  {
   "cell_type": "code",
   "execution_count": 133,
   "metadata": {
    "collapsed": true
   },
   "outputs": [],
   "source": [
    "def knn_train_test(train_col, target_col, df):\n",
    "    \n",
    "    np.random.seed(0)\n",
    "    df = df.reindex(np.random.permutation(df.index))\n",
    "    \n",
    "    train_set = df.iloc[:180]\n",
    "    test_set = df.iloc[180:]\n",
    "    \n",
    "    knn = KNeighborsRegressor()\n",
    "    knn.fit(train_set[train_col], train_set[target_col])\n",
    "    \n",
    "    rmse = np.sqrt(mean_squared_error(test_set['price'],\n",
    "                                      knn.predict(test_set[train_col])))\n",
    "    \n",
    "    return rmse\n",
    "    "
   ]
  },
  {
   "cell_type": "code",
   "execution_count": 143,
   "metadata": {
    "collapsed": false,
    "scrolled": true
   },
   "outputs": [
    {
     "name": "stdout",
     "output_type": "stream",
     "text": [
      "normalized_losses : 6828.23496416\n",
      "wheel_base : 5893.30931901\n",
      "length : 3248.94321661\n",
      "width : 3868.06816309\n",
      "height : 6874.07829693\n",
      "curb_weight : 2834.15390986\n",
      "engine_size : 3551.20556914\n",
      "bore : 5270.30864769\n",
      "stroke : 6494.56294171\n",
      "compression_ratio : 5566.49842181\n",
      "horsepower : 2604.27369054\n",
      "peak_rpm : 7801.77218341\n",
      "city_mpg : 3880.19314271\n",
      "highway_mpg : 5072.51505384\n"
     ]
    }
   ],
   "source": [
    "num_features_ordered = []\n",
    "rmse_ordered = []\n",
    "\n",
    "for numf in numeric_features:\n",
    "    if numf != 'price':\n",
    "        \n",
    "        numf_rmse = knn_train_test([numf], ['price'], cars)\n",
    "        \n",
    "        print(numf, ':', numf_rmse)\n",
    "        \n",
    "        num_features_ordered.append(numf)\n",
    "        rmse_ordered.append(numf_rmse)\n",
    "    "
   ]
  },
  {
   "cell_type": "code",
   "execution_count": 144,
   "metadata": {
    "collapsed": false
   },
   "outputs": [
    {
     "data": {
      "text/plain": [
       "horsepower           2604.273691\n",
       "curb_weight          2834.153910\n",
       "length               3248.943217\n",
       "engine_size          3551.205569\n",
       "width                3868.068163\n",
       "city_mpg             3880.193143\n",
       "highway_mpg          5072.515054\n",
       "bore                 5270.308648\n",
       "compression_ratio    5566.498422\n",
       "wheel_base           5893.309319\n",
       "stroke               6494.562942\n",
       "normalized_losses    6828.234964\n",
       "height               6874.078297\n",
       "peak_rpm             7801.772183\n",
       "dtype: float64"
      ]
     },
     "execution_count": 144,
     "metadata": {},
     "output_type": "execute_result"
    }
   ],
   "source": [
    "univariate_model_test = pd.Series(data=rmse_ordered, index=num_features_ordered)\n",
    "univariate_model_test = univariate_model_test.sort_values()\n",
    "univariate_model_test"
   ]
  },
  {
   "cell_type": "code",
   "execution_count": null,
   "metadata": {
    "collapsed": true
   },
   "outputs": [],
   "source": []
  },
  {
   "cell_type": "code",
   "execution_count": 135,
   "metadata": {
    "collapsed": false
   },
   "outputs": [],
   "source": [
    "def knn_train_test(train_col, target_col, df):\n",
    "    \n",
    "    np.random.seed(0)\n",
    "    df = df.reindex(np.random.permutation(df.index))\n",
    "    \n",
    "    train_set = df.iloc[:180]\n",
    "    test_set = df.iloc[180:]\n",
    "    \n",
    "    k_vals = [1,3,5,7,9]\n",
    "    k_rmses = {}\n",
    "        \n",
    "    for k in k_vals:\n",
    "        \n",
    "        knn = KNeighborsRegressor(n_neighbors=k)\n",
    "        knn.fit(train_set[train_col], train_set[target_col])\n",
    "\n",
    "        rmse = np.sqrt(mean_squared_error(test_set['price'],\n",
    "                                          knn.predict(test_set[train_col])))\n",
    "        \n",
    "        k_rmses[k] = rmse\n",
    "    \n",
    "    plt.title(str(train_col))\n",
    "    plt.scatter(list(k_rmses.keys()), list(k_rmses.values()))\n",
    "    plt.show()\n",
    "    \n",
    "    return k_rmses\n"
   ]
  },
  {
   "cell_type": "code",
   "execution_count": 136,
   "metadata": {
    "collapsed": false,
    "scrolled": false
   },
   "outputs": [
    {
     "data": {
      "image/png": "[encoded data removed]",
      "text/plain": [
       "<matplotlib.figure.Figure at 0x7f1d6762a4a8>"
      ]
     },
     "metadata": {},
     "output_type": "display_data"
    },
    {
     "name": "stdout",
     "output_type": "stream",
     "text": [
      "normalized_losses \n",
      " {1: 9013.4844934845096, 3: 5983.7238529320648, 9: 7145.7958522985946, 5: 6828.2349641553992, 7: 7456.7934197586737}\n"
     ]
    },
    {
     "data": {
      "image/png": "[encoded data removed]",
      "text/plain": [
       "<matplotlib.figure.Figure at 0x7f1d59b4a198>"
      ]
     },
     "metadata": {},
     "output_type": "display_data"
    },
    {
     "name": "stdout",
     "output_type": "stream",
     "text": [
      "wheel_base \n",
      " {1: 2597.7823876016505, 3: 5160.6387145196431, 9: 4563.9427072089193, 5: 5893.309319009466, 7: 4990.9096776145834}\n"
     ]
    },
    {
     "data": {
      "image/png": "[encoded data removed]",
      "text/plain": [
       "<matplotlib.figure.Figure at 0x7f1d6161d4e0>"
      ]
     },
     "metadata": {},
     "output_type": "display_data"
    },
    {
     "name": "stdout",
     "output_type": "stream",
     "text": [
      "length \n",
      " {1: 3698.1391459566721, 3: 3022.6499630195026, 9: 4148.7102798916367, 5: 3248.9432166108877, 7: 4025.3262138961964}\n"
     ]
    },
    {
     "data": {
      "image/png": "[encoded data removed]",
      "text/plain": [
       "<matplotlib.figure.Figure at 0x7f1d617f8240>"
      ]
     },
     "metadata": {},
     "output_type": "display_data"
    },
    {
     "name": "stdout",
     "output_type": "stream",
     "text": [
      "width \n",
      " {1: 3543.9470126641891, 3: 4857.5618266236097, 9: 3219.6632088959868, 5: 3868.068163086803, 7: 3526.7838632217649}\n"
     ]
    },
    {
     "data": {
      "image/png": "[encoded data removed]",
      "text/plain": [
       "<matplotlib.figure.Figure at 0x7f1d617f0208>"
      ]
     },
     "metadata": {},
     "output_type": "display_data"
    },
    {
     "name": "stdout",
     "output_type": "stream",
     "text": [
      "height \n",
      " {1: 6251.4538842309848, 3: 7169.2584361152394, 9: 6442.4622530391453, 5: 6874.078296934139, 7: 7085.5041420177049}\n"
     ]
    },
    {
     "data": {
      "image/png": "[encoded data removed]",
      "text/plain": [
       "<matplotlib.figure.Figure at 0x7f1d59ce0390>"
      ]
     },
     "metadata": {},
     "output_type": "display_data"
    },
    {
     "name": "stdout",
     "output_type": "stream",
     "text": [
      "curb_weight \n",
      " {1: 2217.536997060778, 3: 2678.7664607656179, 9: 2457.1945429192033, 5: 2834.1539098577382, 7: 2493.9515327715199}\n"
     ]
    },
    {
     "data": {
      "image/png": "[encoded data removed]",
      "text/plain": [
       "<matplotlib.figure.Figure at 0x7f1d5992e390>"
      ]
     },
     "metadata": {},
     "output_type": "display_data"
    },
    {
     "name": "stdout",
     "output_type": "stream",
     "text": [
      "engine_size \n",
      " {1: 3145.7219929839407, 3: 3115.1145672664697, 9: 4008.4762250359458, 5: 3551.2055691392629, 7: 3931.6908691273034}\n"
     ]
    },
    {
     "data": {
      "image/png": "[encoded data removed]",
      "text/plain": [
       "<matplotlib.figure.Figure at 0x7f1d599b2c88>"
      ]
     },
     "metadata": {},
     "output_type": "display_data"
    },
    {
     "name": "stdout",
     "output_type": "stream",
     "text": [
      "bore \n",
      " {1: 5260.5226655044189, 3: 5154.8670467667025, 9: 6321.0346284182433, 5: 5270.3086476889339, 7: 6293.3357940689621}\n"
     ]
    },
    {
     "data": {
      "image/png": "[encoded data removed]",
      "text/plain": [
       "<matplotlib.figure.Figure at 0x7f1d59aa1b70>"
      ]
     },
     "metadata": {},
     "output_type": "display_data"
    },
    {
     "name": "stdout",
     "output_type": "stream",
     "text": [
      "stroke \n",
      " {1: 8566.4130683234544, 3: 7357.2019587187951, 9: 7435.3890850427561, 5: 6494.5629417082046, 7: 7167.5526501188306}\n"
     ]
    },
    {
     "data": {
      "image/png": "[encoded data removed]",
      "text/plain": [
       "<matplotlib.figure.Figure at 0x7f1d59bc9588>"
      ]
     },
     "metadata": {},
     "output_type": "display_data"
    },
    {
     "name": "stdout",
     "output_type": "stream",
     "text": [
      "compression_ratio \n",
      " {1: 10381.77075454857, 3: 5849.3689452966682, 9: 5414.676511019733, 5: 5566.4984218088121, 7: 5456.7682034729523}\n"
     ]
    },
    {
     "data": {
      "image/png": "[encoded data removed]",
      "text/plain": [
       "<matplotlib.figure.Figure at 0x7f1d59a52a20>"
      ]
     },
     "metadata": {},
     "output_type": "display_data"
    },
    {
     "name": "stdout",
     "output_type": "stream",
     "text": [
      "horsepower \n",
      " {1: 2598.7011224474286, 3: 2236.1725792596608, 9: 3813.9847313360074, 5: 2604.2736905398588, 7: 3093.1154789912262}\n"
     ]
    },
    {
     "data": {
      "image/png": "[encoded data removed]",
      "text/plain": [
       "<matplotlib.figure.Figure at 0x7f1d59a238d0>"
      ]
     },
     "metadata": {},
     "output_type": "display_data"
    },
    {
     "name": "stdout",
     "output_type": "stream",
     "text": [
      "peak_rpm \n",
      " {1: 8507.137291989704, 3: 8710.0028547732836, 9: 8703.7732730868174, 5: 7801.7721834147897, 7: 9161.0510524087604}\n"
     ]
    },
    {
     "data": {
      "image/png": "[encoded data removed]",
      "text/plain": [
       "<matplotlib.figure.Figure at 0x7f1d5995abe0>"
      ]
     },
     "metadata": {},
     "output_type": "display_data"
    },
    {
     "name": "stdout",
     "output_type": "stream",
     "text": [
      "city_mpg \n",
      " {1: 3903.8818593072933, 3: 3344.339039102586, 9: 3884.7880360766112, 5: 3880.1931427136333, 7: 3945.567100113316}\n"
     ]
    },
    {
     "data": {
      "image/png": "[encoded data removed]",
      "text/plain": [
       "<matplotlib.figure.Figure at 0x7f1d599b07f0>"
      ]
     },
     "metadata": {},
     "output_type": "display_data"
    },
    {
     "name": "stdout",
     "output_type": "stream",
     "text": [
      "highway_mpg \n",
      " {1: 5630.2587143466317, 3: 6271.7600822337372, 9: 4834.3107445708838, 5: 5072.5150538395219, 7: 4769.4695250151863}\n"
     ]
    }
   ],
   "source": [
    "for numf in numeric_features:\n",
    "    if numf != 'price':\n",
    "        print(numf, '\\n', knn_train_test([numf], ['price'], cars))"
   ]
  },
  {
   "cell_type": "code",
   "execution_count": null,
   "metadata": {
    "collapsed": true
   },
   "outputs": [],
   "source": []
  },
  {
   "cell_type": "markdown",
   "metadata": {},
   "source": [
    "## Multivariate Model\n",
    "\n",
    "Let's modify the `knn_train_test()` function we wrote in the last step to work with multiple columns."
   ]
  },
  {
   "cell_type": "code",
   "execution_count": 137,
   "metadata": {
    "collapsed": true
   },
   "outputs": [],
   "source": [
    "def knn_train_test(train_col, target_col, df):\n",
    "    \n",
    "    np.random.seed(0)\n",
    "    df = df.reindex(np.random.permutation(df.index))\n",
    "    \n",
    "    train_set = df.iloc[:180]\n",
    "    test_set = df.iloc[180:]\n",
    "\n",
    "    knn = KNeighborsRegressor()\n",
    "    knn.fit(train_set[train_col], train_set[target_col])\n",
    "\n",
    "    rmse = np.sqrt(mean_squared_error(test_set['price'],\n",
    "                                      knn.predict(test_set[train_col])))\n",
    "\n",
    "    return rmse\n"
   ]
  },
  {
   "cell_type": "markdown",
   "metadata": {},
   "source": [
    "### Test result from 'Univariate Model' test\n",
    "\n",
    "[**rmse for each column** (univariate model)]"
   ]
  },
  {
   "cell_type": "code",
   "execution_count": 146,
   "metadata": {
    "collapsed": false
   },
   "outputs": [
    {
     "data": {
      "text/plain": [
       "horsepower           2604.273691\n",
       "curb_weight          2834.153910\n",
       "length               3248.943217\n",
       "engine_size          3551.205569\n",
       "width                3868.068163\n",
       "city_mpg             3880.193143\n",
       "highway_mpg          5072.515054\n",
       "bore                 5270.308648\n",
       "compression_ratio    5566.498422\n",
       "wheel_base           5893.309319\n",
       "stroke               6494.562942\n",
       "normalized_losses    6828.234964\n",
       "height               6874.078297\n",
       "peak_rpm             7801.772183\n",
       "dtype: float64"
      ]
     },
     "execution_count": 146,
     "metadata": {},
     "output_type": "execute_result"
    }
   ],
   "source": [
    "univariate_model_test"
   ]
  },
  {
   "cell_type": "code",
   "execution_count": null,
   "metadata": {
    "collapsed": true
   },
   "outputs": [],
   "source": []
  },
  {
   "cell_type": "code",
   "execution_count": 145,
   "metadata": {
    "collapsed": false
   },
   "outputs": [
    {
     "data": {
      "text/plain": [
       "1906.4060507867125"
      ]
     },
     "execution_count": 145,
     "metadata": {},
     "output_type": "execute_result"
    }
   ],
   "source": [
    "# use the best 2 features from the previous step.\n",
    "\n",
    "best_two_rmse = knn_train_test(univariate_model_test.index[:2], ['price'], cars)\n",
    "best_two_rmse"
   ]
  },
  {
   "cell_type": "code",
   "execution_count": 147,
   "metadata": {
    "collapsed": false
   },
   "outputs": [
    {
     "data": {
      "text/plain": [
       "2857.0399420512463"
      ]
     },
     "execution_count": 147,
     "metadata": {},
     "output_type": "execute_result"
    }
   ],
   "source": [
    "# use the best 3 features from the previous step.\n",
    "\n",
    "best_three_rmse = knn_train_test(univariate_model_test.index[:3], ['price'], cars)\n",
    "best_three_rmse"
   ]
  },
  {
   "cell_type": "code",
   "execution_count": 148,
   "metadata": {
    "collapsed": false
   },
   "outputs": [
    {
     "data": {
      "text/plain": [
       "2914.4957309480287"
      ]
     },
     "execution_count": 148,
     "metadata": {},
     "output_type": "execute_result"
    }
   ],
   "source": [
    "# use the best 4 features from the previous step.\n",
    "\n",
    "best_four_rmse = knn_train_test(univariate_model_test.index[:4], ['price'], cars)\n",
    "best_four_rmse"
   ]
  },
  {
   "cell_type": "code",
   "execution_count": 149,
   "metadata": {
    "collapsed": false
   },
   "outputs": [
    {
     "data": {
      "text/plain": [
       "2138.8205766374181"
      ]
     },
     "execution_count": 149,
     "metadata": {},
     "output_type": "execute_result"
    }
   ],
   "source": [
    "# use the best 5features from the previous step.\n",
    "\n",
    "best_five_rmse = knn_train_test(univariate_model_test.index[:5], ['price'], cars)\n",
    "best_five_rmse"
   ]
  },
  {
   "cell_type": "code",
   "execution_count": null,
   "metadata": {
    "collapsed": true
   },
   "outputs": [],
   "source": []
  },
  {
   "cell_type": "markdown",
   "metadata": {},
   "source": [
    "## Hyperparameter Tuning"
   ]
  },
  {
   "cell_type": "code",
   "execution_count": 150,
   "metadata": {
    "collapsed": true
   },
   "outputs": [],
   "source": [
    "def knn_train_test(train_col, target_col, df):\n",
    "    \n",
    "    np.random.seed(0)\n",
    "    df = df.reindex(np.random.permutation(df.index))\n",
    "    \n",
    "    train_set = df.iloc[:180]\n",
    "    test_set = df.iloc[180:]\n",
    "    \n",
    "    k_vals = range(1,26)\n",
    "    k_rmses = {}\n",
    "        \n",
    "    for k in k_vals:\n",
    "        \n",
    "        knn = KNeighborsRegressor(n_neighbors=k)\n",
    "        knn.fit(train_set[train_col], train_set[target_col])\n",
    "\n",
    "        rmse = np.sqrt(mean_squared_error(test_set['price'],\n",
    "                                          knn.predict(test_set[train_col])))\n",
    "        \n",
    "        k_rmses[k] = rmse\n",
    "    \n",
    "    plt.title(str(train_col))\n",
    "    plt.scatter(list(k_rmses.keys()), list(k_rmses.values()))\n",
    "    plt.show()\n",
    "    \n",
    "    return k_rmses\n"
   ]
  },
  {
   "cell_type": "code",
   "execution_count": null,
   "metadata": {
    "collapsed": true
   },
   "outputs": [],
   "source": []
  },
  {
   "cell_type": "markdown",
   "metadata": {},
   "source": [
    "### Model using 2 features \n",
    "* best k value = 5 (rmse 1906)"
   ]
  },
  {
   "cell_type": "code",
   "execution_count": 151,
   "metadata": {
    "collapsed": false
   },
   "outputs": [
    {
     "data": {
      "image/png": "[encoded data removed]",
      "text/plain": [
       "<matplotlib.figure.Figure at 0x7f1d59b61b00>"
      ]
     },
     "metadata": {},
     "output_type": "display_data"
    },
    {
     "data": {
      "text/plain": [
       "{1: 2133.040519339203,\n",
       " 2: 1970.9343988986302,\n",
       " 3: 2044.7406026865929,\n",
       " 4: 1929.5688413970818,\n",
       " 5: 1906.4060507867125,\n",
       " 6: 2062.1503429762429,\n",
       " 7: 2251.8265962183559,\n",
       " 8: 2558.282560764992,\n",
       " 9: 3007.4860659364463,\n",
       " 10: 3330.772227277032,\n",
       " 11: 3586.8039613042729,\n",
       " 12: 3621.1238256350766,\n",
       " 13: 3864.2387112358051,\n",
       " 14: 4042.6512126947619,\n",
       " 15: 4171.0368061812305,\n",
       " 16: 4218.3600648276506,\n",
       " 17: 4326.6376379307303,\n",
       " 18: 4315.0759958136614,\n",
       " 19: 4316.4409573077401,\n",
       " 20: 4460.4815945142063,\n",
       " 21: 4601.33110274316,\n",
       " 22: 4654.2986675626262,\n",
       " 23: 4772.2897850707477,\n",
       " 24: 4816.2776461528201,\n",
       " 25: 4786.9998665831044}"
      ]
     },
     "execution_count": 151,
     "metadata": {},
     "output_type": "execute_result"
    }
   ],
   "source": [
    "knn_train_test(univariate_model_test.index[:2], ['price'], cars)"
   ]
  },
  {
   "cell_type": "code",
   "execution_count": null,
   "metadata": {
    "collapsed": true
   },
   "outputs": [],
   "source": []
  },
  {
   "cell_type": "markdown",
   "metadata": {},
   "source": [
    "### Model using 3 features \n",
    "* best k value = 3 (rmse 2023)"
   ]
  },
  {
   "cell_type": "code",
   "execution_count": 152,
   "metadata": {
    "collapsed": false
   },
   "outputs": [
    {
     "data": {
      "image/png": "[encoded data removed]",
      "text/plain": [
       "<matplotlib.figure.Figure at 0x7f1d61806ac8>"
      ]
     },
     "metadata": {},
     "output_type": "display_data"
    },
    {
     "data": {
      "text/plain": [
       "{1: 2726.1208354590244,\n",
       " 2: 2250.1605498275007,\n",
       " 3: 2023.2562235247776,\n",
       " 4: 2627.7225342988372,\n",
       " 5: 2857.0399420512463,\n",
       " 6: 2987.798639741342,\n",
       " 7: 3261.8631226797597,\n",
       " 8: 3197.0668433802985,\n",
       " 9: 3053.8322081919805,\n",
       " 10: 3069.0906732249191,\n",
       " 11: 3200.4895142239134,\n",
       " 12: 3373.2473823375435,\n",
       " 13: 3406.6290228375651,\n",
       " 14: 3475.1147639948363,\n",
       " 15: 3679.142138335249,\n",
       " 16: 3661.7336731804471,\n",
       " 17: 3695.5754115797176,\n",
       " 18: 3689.290687761888,\n",
       " 19: 3787.5800706324767,\n",
       " 20: 3926.7637742863544,\n",
       " 21: 4093.0109170813294,\n",
       " 22: 4236.7960965817356,\n",
       " 23: 4276.9804429871829,\n",
       " 24: 4367.5832901951999,\n",
       " 25: 4350.3488753191377}"
      ]
     },
     "execution_count": 152,
     "metadata": {},
     "output_type": "execute_result"
    }
   ],
   "source": [
    "knn_train_test(univariate_model_test.index[:3], ['price'], cars)"
   ]
  },
  {
   "cell_type": "code",
   "execution_count": null,
   "metadata": {
    "collapsed": true
   },
   "outputs": [],
   "source": []
  },
  {
   "cell_type": "markdown",
   "metadata": {},
   "source": [
    "### Model using 4 features \n",
    "* best k value = 2 (rmse 1778)"
   ]
  },
  {
   "cell_type": "code",
   "execution_count": 153,
   "metadata": {
    "collapsed": false
   },
   "outputs": [
    {
     "data": {
      "image/png": "[encoded data removed]",
      "text/plain": [
       "<matplotlib.figure.Figure at 0x7f1d61805e10>"
      ]
     },
     "metadata": {},
     "output_type": "display_data"
    },
    {
     "data": {
      "text/plain": [
       "{1: 2128.2318616971361,\n",
       " 2: 1778.0667303616722,\n",
       " 3: 2480.5566739541373,\n",
       " 4: 3100.5084226891991,\n",
       " 5: 2914.4957309480287,\n",
       " 6: 2679.691891542363,\n",
       " 7: 2648.3418875134694,\n",
       " 8: 2555.5664097908298,\n",
       " 9: 2860.5404627407515,\n",
       " 10: 2990.4604787955473,\n",
       " 11: 3194.1948766282248,\n",
       " 12: 3377.5537929600209,\n",
       " 13: 3414.2106641629925,\n",
       " 14: 3630.4749711346294,\n",
       " 15: 3811.636464452356,\n",
       " 16: 3978.0644808221587,\n",
       " 17: 3907.3681828053195,\n",
       " 18: 4056.8665274212549,\n",
       " 19: 4203.2346262972278,\n",
       " 20: 4193.0211555858477,\n",
       " 21: 4216.3027989470856,\n",
       " 22: 4294.1958172220084,\n",
       " 23: 4430.805685187941,\n",
       " 24: 4511.2639621793733,\n",
       " 25: 4595.0865535472212}"
      ]
     },
     "execution_count": 153,
     "metadata": {},
     "output_type": "execute_result"
    }
   ],
   "source": [
    "knn_train_test(univariate_model_test.index[:4], ['price'], cars)"
   ]
  },
  {
   "cell_type": "code",
   "execution_count": null,
   "metadata": {
    "collapsed": true
   },
   "outputs": [],
   "source": []
  },
  {
   "cell_type": "markdown",
   "metadata": {},
   "source": [
    "### Model using 5 features \n",
    "* best k value = 2 (rmse 1680)"
   ]
  },
  {
   "cell_type": "code",
   "execution_count": 154,
   "metadata": {
    "collapsed": false
   },
   "outputs": [
    {
     "data": {
      "image/png": "[encoded data removed]",
      "text/plain": [
       "<matplotlib.figure.Figure at 0x7f1d599ac668>"
      ]
     },
     "metadata": {},
     "output_type": "display_data"
    },
    {
     "data": {
      "text/plain": [
       "{1: 1926.3966980077696,\n",
       " 2: 1680.2271494680485,\n",
       " 3: 2258.3769842908432,\n",
       " 4: 2169.0685699879396,\n",
       " 5: 2138.8205766374181,\n",
       " 6: 2247.6953423121768,\n",
       " 7: 2518.0670606757576,\n",
       " 8: 2449.5361772447764,\n",
       " 9: 2708.287529879949,\n",
       " 10: 2874.2442842796581,\n",
       " 11: 2958.1701810662526,\n",
       " 12: 2998.8440205061347,\n",
       " 13: 3074.3749231241504,\n",
       " 14: 3225.001971206485,\n",
       " 15: 3376.6865679853527,\n",
       " 16: 3582.3832631274968,\n",
       " 17: 3748.6282972210838,\n",
       " 18: 3961.5006344872531,\n",
       " 19: 4118.8490216673154,\n",
       " 20: 4161.9636044065501,\n",
       " 21: 4212.759277768705,\n",
       " 22: 4229.98912718879,\n",
       " 23: 4327.3374587246508,\n",
       " 24: 4300.8111252206172,\n",
       " 25: 4398.5773127401517}"
      ]
     },
     "execution_count": 154,
     "metadata": {},
     "output_type": "execute_result"
    }
   ],
   "source": [
    "knn_train_test(univariate_model_test.index[:5], ['price'], cars)"
   ]
  },
  {
   "cell_type": "code",
   "execution_count": null,
   "metadata": {
    "collapsed": true
   },
   "outputs": [],
   "source": []
  },
  {
   "cell_type": "markdown",
   "metadata": {},
   "source": [
    "## Next Steps"
   ]
  },
  {
   "cell_type": "code",
   "execution_count": 168,
   "metadata": {
    "collapsed": false
   },
   "outputs": [],
   "source": [
    "def knn_train_test(train_col, target_col, df, k_vals, num_folds):\n",
    "    \n",
    "    nums_folds = []\n",
    "    ks_vals = []\n",
    "    avg_rmses = []\n",
    "    std_rmses = []\n",
    "    \n",
    "    for fold in num_folds:\n",
    "    \n",
    "        kf = KFold(n_splits=fold, shuffle=True, random_state=1)\n",
    "        \n",
    "        for k in k_vals:\n",
    "            model = KNeighborsRegressor(n_neighbors=k)\n",
    "            mses = cross_val_score(model,\n",
    "                                  df[train_col],\n",
    "                                  df[target_col],\n",
    "                                  scoring='neg_mean_squared_error')\n",
    "            \n",
    "            rmses = np.sqrt(np.absolute(mses))\n",
    "            avg_rmse = np.mean(rmses)\n",
    "            std_rmse = np.std(rmses)\n",
    "            \n",
    "            nums_folds.append(fold)\n",
    "            ks_vals.append(k)\n",
    "            avg_rmses.append(avg_rmse)\n",
    "            std_rmses.append(std_rmse)\n",
    "            \n",
    "    result_df = pd.DataFrame(columns=['fold', 'k', 'avg_rmse', 'std_rmse'])\n",
    "    result_df['fold'] = nums_folds\n",
    "    result_df['k'] = ks_vals\n",
    "    result_df['avg_rmse'] = avg_rmses\n",
    "    result_df['std_rmse'] = std_rmses\n",
    "\n",
    "    return result_df\n",
    "\n"
   ]
  },
  {
   "cell_type": "code",
   "execution_count": null,
   "metadata": {
    "collapsed": true
   },
   "outputs": [],
   "source": []
  },
  {
   "cell_type": "markdown",
   "metadata": {},
   "source": [
    "### Grid Search\n",
    "* Variate n_neighbors parameter in KNeighborRegressor() model\n",
    "* K-Fold Cross validation using 2/3/4/5 features"
   ]
  },
  {
   "cell_type": "code",
   "execution_count": 169,
   "metadata": {
    "collapsed": false
   },
   "outputs": [
    {
     "data": {
      "text/html": [
       "<div>\n",
       "<table border=\"1\" class=\"dataframe\">\n",
       "  <thead>\n",
       "    <tr style=\"text-align: right;\">\n",
       "      <th></th>\n",
       "      <th>fold</th>\n",
       "      <th>k</th>\n",
       "      <th>avg_rmse</th>\n",
       "      <th>std_rmse</th>\n",
       "    </tr>\n",
       "  </thead>\n",
       "  <tbody>\n",
       "    <tr>\n",
       "      <th>4</th>\n",
       "      <td>5</td>\n",
       "      <td>5</td>\n",
       "      <td>3659.608660</td>\n",
       "      <td>841.914974</td>\n",
       "    </tr>\n",
       "    <tr>\n",
       "      <th>24</th>\n",
       "      <td>10</td>\n",
       "      <td>5</td>\n",
       "      <td>3659.608660</td>\n",
       "      <td>841.914974</td>\n",
       "    </tr>\n",
       "    <tr>\n",
       "      <th>25</th>\n",
       "      <td>10</td>\n",
       "      <td>6</td>\n",
       "      <td>3749.416531</td>\n",
       "      <td>855.924564</td>\n",
       "    </tr>\n",
       "    <tr>\n",
       "      <th>5</th>\n",
       "      <td>5</td>\n",
       "      <td>6</td>\n",
       "      <td>3749.416531</td>\n",
       "      <td>855.924564</td>\n",
       "    </tr>\n",
       "    <tr>\n",
       "      <th>0</th>\n",
       "      <td>5</td>\n",
       "      <td>1</td>\n",
       "      <td>3787.998204</td>\n",
       "      <td>264.370371</td>\n",
       "    </tr>\n",
       "    <tr>\n",
       "      <th>20</th>\n",
       "      <td>10</td>\n",
       "      <td>1</td>\n",
       "      <td>3787.998204</td>\n",
       "      <td>264.370371</td>\n",
       "    </tr>\n",
       "    <tr>\n",
       "      <th>6</th>\n",
       "      <td>5</td>\n",
       "      <td>7</td>\n",
       "      <td>3842.929998</td>\n",
       "      <td>1005.220883</td>\n",
       "    </tr>\n",
       "    <tr>\n",
       "      <th>26</th>\n",
       "      <td>10</td>\n",
       "      <td>7</td>\n",
       "      <td>3842.929998</td>\n",
       "      <td>1005.220883</td>\n",
       "    </tr>\n",
       "    <tr>\n",
       "      <th>3</th>\n",
       "      <td>5</td>\n",
       "      <td>4</td>\n",
       "      <td>3891.485523</td>\n",
       "      <td>897.190272</td>\n",
       "    </tr>\n",
       "    <tr>\n",
       "      <th>23</th>\n",
       "      <td>10</td>\n",
       "      <td>4</td>\n",
       "      <td>3891.485523</td>\n",
       "      <td>897.190272</td>\n",
       "    </tr>\n",
       "  </tbody>\n",
       "</table>\n",
       "</div>"
      ],
      "text/plain": [
       "    fold  k     avg_rmse     std_rmse\n",
       "4      5  5  3659.608660   841.914974\n",
       "24    10  5  3659.608660   841.914974\n",
       "25    10  6  3749.416531   855.924564\n",
       "5      5  6  3749.416531   855.924564\n",
       "0      5  1  3787.998204   264.370371\n",
       "20    10  1  3787.998204   264.370371\n",
       "6      5  7  3842.929998  1005.220883\n",
       "26    10  7  3842.929998  1005.220883\n",
       "3      5  4  3891.485523   897.190272\n",
       "23    10  4  3891.485523   897.190272"
      ]
     },
     "execution_count": 169,
     "metadata": {},
     "output_type": "execute_result"
    }
   ],
   "source": [
    "knn_train_test(univariate_model_test.index[:2], ['price'],\n",
    "              cars, range(1, 21), [5, 10]).sort_values(by='avg_rmse')[:10]"
   ]
  },
  {
   "cell_type": "code",
   "execution_count": null,
   "metadata": {
    "collapsed": true
   },
   "outputs": [],
   "source": []
  },
  {
   "cell_type": "code",
   "execution_count": 170,
   "metadata": {
    "collapsed": false
   },
   "outputs": [
    {
     "data": {
      "text/html": [
       "<div>\n",
       "<table border=\"1\" class=\"dataframe\">\n",
       "  <thead>\n",
       "    <tr style=\"text-align: right;\">\n",
       "      <th></th>\n",
       "      <th>fold</th>\n",
       "      <th>k</th>\n",
       "      <th>avg_rmse</th>\n",
       "      <th>std_rmse</th>\n",
       "    </tr>\n",
       "  </thead>\n",
       "  <tbody>\n",
       "    <tr>\n",
       "      <th>5</th>\n",
       "      <td>5</td>\n",
       "      <td>6</td>\n",
       "      <td>4044.825028</td>\n",
       "      <td>1182.152670</td>\n",
       "    </tr>\n",
       "    <tr>\n",
       "      <th>25</th>\n",
       "      <td>10</td>\n",
       "      <td>6</td>\n",
       "      <td>4044.825028</td>\n",
       "      <td>1182.152670</td>\n",
       "    </tr>\n",
       "    <tr>\n",
       "      <th>26</th>\n",
       "      <td>10</td>\n",
       "      <td>7</td>\n",
       "      <td>4051.437676</td>\n",
       "      <td>1369.221211</td>\n",
       "    </tr>\n",
       "    <tr>\n",
       "      <th>6</th>\n",
       "      <td>5</td>\n",
       "      <td>7</td>\n",
       "      <td>4051.437676</td>\n",
       "      <td>1369.221211</td>\n",
       "    </tr>\n",
       "    <tr>\n",
       "      <th>24</th>\n",
       "      <td>10</td>\n",
       "      <td>5</td>\n",
       "      <td>4058.088021</td>\n",
       "      <td>1011.900866</td>\n",
       "    </tr>\n",
       "    <tr>\n",
       "      <th>4</th>\n",
       "      <td>5</td>\n",
       "      <td>5</td>\n",
       "      <td>4058.088021</td>\n",
       "      <td>1011.900866</td>\n",
       "    </tr>\n",
       "    <tr>\n",
       "      <th>27</th>\n",
       "      <td>10</td>\n",
       "      <td>8</td>\n",
       "      <td>4113.230111</td>\n",
       "      <td>1407.490635</td>\n",
       "    </tr>\n",
       "    <tr>\n",
       "      <th>7</th>\n",
       "      <td>5</td>\n",
       "      <td>8</td>\n",
       "      <td>4113.230111</td>\n",
       "      <td>1407.490635</td>\n",
       "    </tr>\n",
       "    <tr>\n",
       "      <th>8</th>\n",
       "      <td>5</td>\n",
       "      <td>9</td>\n",
       "      <td>4187.734453</td>\n",
       "      <td>1465.366445</td>\n",
       "    </tr>\n",
       "    <tr>\n",
       "      <th>28</th>\n",
       "      <td>10</td>\n",
       "      <td>9</td>\n",
       "      <td>4187.734453</td>\n",
       "      <td>1465.366445</td>\n",
       "    </tr>\n",
       "  </tbody>\n",
       "</table>\n",
       "</div>"
      ],
      "text/plain": [
       "    fold  k     avg_rmse     std_rmse\n",
       "5      5  6  4044.825028  1182.152670\n",
       "25    10  6  4044.825028  1182.152670\n",
       "26    10  7  4051.437676  1369.221211\n",
       "6      5  7  4051.437676  1369.221211\n",
       "24    10  5  4058.088021  1011.900866\n",
       "4      5  5  4058.088021  1011.900866\n",
       "27    10  8  4113.230111  1407.490635\n",
       "7      5  8  4113.230111  1407.490635\n",
       "8      5  9  4187.734453  1465.366445\n",
       "28    10  9  4187.734453  1465.366445"
      ]
     },
     "execution_count": 170,
     "metadata": {},
     "output_type": "execute_result"
    }
   ],
   "source": [
    "knn_train_test(univariate_model_test.index[:3], ['price'],\n",
    "              cars, range(1, 21), [5, 10]).sort_values(by='avg_rmse')[:10]"
   ]
  },
  {
   "cell_type": "code",
   "execution_count": null,
   "metadata": {
    "collapsed": true
   },
   "outputs": [],
   "source": []
  },
  {
   "cell_type": "code",
   "execution_count": 171,
   "metadata": {
    "collapsed": false
   },
   "outputs": [
    {
     "data": {
      "text/html": [
       "<div>\n",
       "<table border=\"1\" class=\"dataframe\">\n",
       "  <thead>\n",
       "    <tr style=\"text-align: right;\">\n",
       "      <th></th>\n",
       "      <th>fold</th>\n",
       "      <th>k</th>\n",
       "      <th>avg_rmse</th>\n",
       "      <th>std_rmse</th>\n",
       "    </tr>\n",
       "  </thead>\n",
       "  <tbody>\n",
       "    <tr>\n",
       "      <th>27</th>\n",
       "      <td>10</td>\n",
       "      <td>8</td>\n",
       "      <td>4026.795947</td>\n",
       "      <td>1272.615420</td>\n",
       "    </tr>\n",
       "    <tr>\n",
       "      <th>7</th>\n",
       "      <td>5</td>\n",
       "      <td>8</td>\n",
       "      <td>4026.795947</td>\n",
       "      <td>1272.615420</td>\n",
       "    </tr>\n",
       "    <tr>\n",
       "      <th>24</th>\n",
       "      <td>10</td>\n",
       "      <td>5</td>\n",
       "      <td>4093.002616</td>\n",
       "      <td>1129.235648</td>\n",
       "    </tr>\n",
       "    <tr>\n",
       "      <th>4</th>\n",
       "      <td>5</td>\n",
       "      <td>5</td>\n",
       "      <td>4093.002616</td>\n",
       "      <td>1129.235648</td>\n",
       "    </tr>\n",
       "    <tr>\n",
       "      <th>25</th>\n",
       "      <td>10</td>\n",
       "      <td>6</td>\n",
       "      <td>4094.720910</td>\n",
       "      <td>1186.585352</td>\n",
       "    </tr>\n",
       "    <tr>\n",
       "      <th>5</th>\n",
       "      <td>5</td>\n",
       "      <td>6</td>\n",
       "      <td>4094.720910</td>\n",
       "      <td>1186.585352</td>\n",
       "    </tr>\n",
       "    <tr>\n",
       "      <th>28</th>\n",
       "      <td>10</td>\n",
       "      <td>9</td>\n",
       "      <td>4095.231273</td>\n",
       "      <td>1297.128978</td>\n",
       "    </tr>\n",
       "    <tr>\n",
       "      <th>8</th>\n",
       "      <td>5</td>\n",
       "      <td>9</td>\n",
       "      <td>4095.231273</td>\n",
       "      <td>1297.128978</td>\n",
       "    </tr>\n",
       "    <tr>\n",
       "      <th>26</th>\n",
       "      <td>10</td>\n",
       "      <td>7</td>\n",
       "      <td>4118.039240</td>\n",
       "      <td>1355.729741</td>\n",
       "    </tr>\n",
       "    <tr>\n",
       "      <th>6</th>\n",
       "      <td>5</td>\n",
       "      <td>7</td>\n",
       "      <td>4118.039240</td>\n",
       "      <td>1355.729741</td>\n",
       "    </tr>\n",
       "  </tbody>\n",
       "</table>\n",
       "</div>"
      ],
      "text/plain": [
       "    fold  k     avg_rmse     std_rmse\n",
       "27    10  8  4026.795947  1272.615420\n",
       "7      5  8  4026.795947  1272.615420\n",
       "24    10  5  4093.002616  1129.235648\n",
       "4      5  5  4093.002616  1129.235648\n",
       "25    10  6  4094.720910  1186.585352\n",
       "5      5  6  4094.720910  1186.585352\n",
       "28    10  9  4095.231273  1297.128978\n",
       "8      5  9  4095.231273  1297.128978\n",
       "26    10  7  4118.039240  1355.729741\n",
       "6      5  7  4118.039240  1355.729741"
      ]
     },
     "execution_count": 171,
     "metadata": {},
     "output_type": "execute_result"
    }
   ],
   "source": [
    "knn_train_test(univariate_model_test.index[:4], ['price'],\n",
    "              cars, range(1, 21), [5, 10]).sort_values(by='avg_rmse')[:10]"
   ]
  },
  {
   "cell_type": "code",
   "execution_count": null,
   "metadata": {
    "collapsed": true
   },
   "outputs": [],
   "source": []
  },
  {
   "cell_type": "code",
   "execution_count": 172,
   "metadata": {
    "collapsed": false
   },
   "outputs": [
    {
     "data": {
      "text/html": [
       "<div>\n",
       "<table border=\"1\" class=\"dataframe\">\n",
       "  <thead>\n",
       "    <tr style=\"text-align: right;\">\n",
       "      <th></th>\n",
       "      <th>fold</th>\n",
       "      <th>k</th>\n",
       "      <th>avg_rmse</th>\n",
       "      <th>std_rmse</th>\n",
       "    </tr>\n",
       "  </thead>\n",
       "  <tbody>\n",
       "    <tr>\n",
       "      <th>8</th>\n",
       "      <td>5</td>\n",
       "      <td>9</td>\n",
       "      <td>4059.441505</td>\n",
       "      <td>1411.295385</td>\n",
       "    </tr>\n",
       "    <tr>\n",
       "      <th>28</th>\n",
       "      <td>10</td>\n",
       "      <td>9</td>\n",
       "      <td>4059.441505</td>\n",
       "      <td>1411.295385</td>\n",
       "    </tr>\n",
       "    <tr>\n",
       "      <th>23</th>\n",
       "      <td>10</td>\n",
       "      <td>4</td>\n",
       "      <td>4073.743202</td>\n",
       "      <td>1121.952003</td>\n",
       "    </tr>\n",
       "    <tr>\n",
       "      <th>3</th>\n",
       "      <td>5</td>\n",
       "      <td>4</td>\n",
       "      <td>4073.743202</td>\n",
       "      <td>1121.952003</td>\n",
       "    </tr>\n",
       "    <tr>\n",
       "      <th>4</th>\n",
       "      <td>5</td>\n",
       "      <td>5</td>\n",
       "      <td>4080.269866</td>\n",
       "      <td>1116.616984</td>\n",
       "    </tr>\n",
       "    <tr>\n",
       "      <th>24</th>\n",
       "      <td>10</td>\n",
       "      <td>5</td>\n",
       "      <td>4080.269866</td>\n",
       "      <td>1116.616984</td>\n",
       "    </tr>\n",
       "    <tr>\n",
       "      <th>27</th>\n",
       "      <td>10</td>\n",
       "      <td>8</td>\n",
       "      <td>4085.578538</td>\n",
       "      <td>1349.207479</td>\n",
       "    </tr>\n",
       "    <tr>\n",
       "      <th>7</th>\n",
       "      <td>5</td>\n",
       "      <td>8</td>\n",
       "      <td>4085.578538</td>\n",
       "      <td>1349.207479</td>\n",
       "    </tr>\n",
       "    <tr>\n",
       "      <th>29</th>\n",
       "      <td>10</td>\n",
       "      <td>10</td>\n",
       "      <td>4129.847370</td>\n",
       "      <td>1476.060360</td>\n",
       "    </tr>\n",
       "    <tr>\n",
       "      <th>9</th>\n",
       "      <td>5</td>\n",
       "      <td>10</td>\n",
       "      <td>4129.847370</td>\n",
       "      <td>1476.060360</td>\n",
       "    </tr>\n",
       "  </tbody>\n",
       "</table>\n",
       "</div>"
      ],
      "text/plain": [
       "    fold   k     avg_rmse     std_rmse\n",
       "8      5   9  4059.441505  1411.295385\n",
       "28    10   9  4059.441505  1411.295385\n",
       "23    10   4  4073.743202  1121.952003\n",
       "3      5   4  4073.743202  1121.952003\n",
       "4      5   5  4080.269866  1116.616984\n",
       "24    10   5  4080.269866  1116.616984\n",
       "27    10   8  4085.578538  1349.207479\n",
       "7      5   8  4085.578538  1349.207479\n",
       "29    10  10  4129.847370  1476.060360\n",
       "9      5  10  4129.847370  1476.060360"
      ]
     },
     "execution_count": 172,
     "metadata": {},
     "output_type": "execute_result"
    }
   ],
   "source": [
    "knn_train_test(univariate_model_test.index[:5], ['price'],\n",
    "              cars, range(1, 21), [5, 10]).sort_values(by='avg_rmse')[:10]"
   ]
  },
  {
   "cell_type": "code",
   "execution_count": null,
   "metadata": {
    "collapsed": true
   },
   "outputs": [],
   "source": []
  },
  {
   "cell_type": "code",
   "execution_count": null,
   "metadata": {
    "collapsed": true
   },
   "outputs": [],
   "source": []
  }
 ],
 "metadata": {
  "kernelspec": {
   "display_name": "Python [default]",
   "language": "python",
   "name": "python3"
  },
  "language_info": {
   "codemirror_mode": {
    "name": "ipython",
    "version": 3
   },
   "file_extension": ".py",
   "mimetype": "text/x-python",
   "name": "python",
   "nbconvert_exporter": "python",
   "pygments_lexer": "ipython3",
   "version": "3.5.4"
  }
 },
 "nbformat": 4,
 "nbformat_minor": 2
}
