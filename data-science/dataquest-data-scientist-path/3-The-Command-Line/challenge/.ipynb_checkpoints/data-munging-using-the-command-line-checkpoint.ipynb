{
 "cells": [
  {
   "cell_type": "markdown",
   "metadata": {},
   "source": [
    "# Challenge: Data Munging Using the Command Line\n",
    "\n",
    "In this challenge, you'll practice the command line concepts you've learned so far by munging datasets using just the command line. [Data munging](https://en.wikipedia.org/wiki/Data_wrangling) involves **transforming datasets to make them easier to work with**. Some datasets are too large to load into Python, so looking at them or transforming them beforehand can be useful. Even for smaller datasets, **simple exploration on the command line is faster than exploration in Python, and file-based tasks like unifying datasets can be faster on the command line**.<br>\n",
    "\n",
    "You'll be interacting with datasets on U.S. housing affordability from the [U.S. Department of Housing & Urban Development](http://www.huduser.org/portal/datasets/hads/hads.html) in this challenge. To start things off, let's explore the datasets in the first few steps."
   ]
  },
  {
   "cell_type": "code",
   "execution_count": null,
   "metadata": {
    "collapsed": true
   },
   "outputs": [],
   "source": []
  },
  {
   "cell_type": "markdown",
   "metadata": {
    "collapsed": true
   },
   "source": [
    "* Create the file combined_hud.csv and append the header row from one of the datasets.\n",
    "* Select all non-header rows from Hud_2005.csv and append to combined_hud.csv.\n",
    "* Display the first 10 rows in combined_hud.csv to verify your work."
   ]
  },
  {
   "cell_type": "markdown",
   "metadata": {},
   "source": [
    "```bash\n",
    "/home/dq$ ls -la\n",
    "/home/dq$ head -n 10 Hud_2005.csv\n",
    "/home/dq$ head -n 10 Hud_2007.csv\n",
    "/home/dq$ head -n 10 Hud_2013.csv\n",
    "/home/dq$ wc -l Hud_2005.csv\n",
    "46854 Hud_2005.csv\n",
    "/home/dq$ touch combined_hud.csv\n",
    "/home/dq$ head -n 1 Hud_2005.csv > combined_hud.csv\n",
    "/home/dq$ tail -n 46853 Hud_2005.csv >> combined_hud.csv\n",
    "/home/dq$ head -n 10 combined_hud.csv\n",
    "```"
   ]
  },
  {
   "cell_type": "code",
   "execution_count": null,
   "metadata": {
    "collapsed": true
   },
   "outputs": [],
   "source": []
  },
  {
   "cell_type": "markdown",
   "metadata": {},
   "source": [
    "* Append the remaining datasets in the order of the years they describe.\n",
    "  * Select all non-header rows from Hud_2007.csv and append to combined_hud.csv.\n",
    "  * Select all non-header rows from Hud_2013.csv and append to combined_hud.csv.\n",
    "* Display the last 10 rows of combined_hud.csv and verify that they match the last 10 rows of Hud_2013.csv."
   ]
  },
  {
   "cell_type": "markdown",
   "metadata": {},
   "source": [
    "```bash\n",
    "/home/dq$ wc -l Hud_2007.csv\n",
    "42730 Hud_2007.csv\n",
    "/home/dq$ wc -l Hud_2013.csv\n",
    "64536 Hud_2013.csv\n",
    "/home/dq$ tail -n 42729 Hud_2007.csv >> combined_hud.csv\n",
    "/home/dq$ tail -n 64535 Hud_2013.csv >> combined_hud.csv\n",
    "\n",
    "/home/dq$ tail -n 10 combined_hud.csv\n",
    "-9,-9.0,1430,'3 3BR','1940-1959',-9                                   \n",
    "58,0.1714816491,973,'1 1BR','1960-1979',42000                         \n",
    "54,0.17504740870000002,702,'1 1BR','1940-1959',48000                  \n",
    "71,0.44792626729999996,652,'2 2BR','1960-1979',0                      \n",
    "32,0.4738463158,1285,'1 1BR','-5',38000                               \n",
    "55,1.1845714286,556,'1 1BR','-5',0                                    \n",
    "37,0.0,966,'2 2BR','1940-1959',75000                                  \n",
    "23,0.6649322059,2701,'3 3BR','1940-1959',40000                        \n",
    "57,0.0834180739,770,'1 1BR','-5',60000                                \n",
    "66,0.0,542,'1 1BR','After 2010',0 \n",
    "\n",
    "/home/dq$ tail -n 10 Hud_2013.csv\n",
    "-9,-9.0,1430,'3 3BR','1940-1959',-9                                   \n",
    "58,0.1714816491,973,'1 1BR','1960-1979',42000                         \n",
    "54,0.17504740870000002,702,'1 1BR','1940-1959',48000                  \n",
    "71,0.44792626729999996,652,'2 2BR','1960-1979',0                      \n",
    "32,0.4738463158,1285,'1 1BR','-5',38000                               \n",
    "55,1.1845714286,556,'1 1BR','-5',0                                    \n",
    "37,0.0,966,'2 2BR','1940-1959',75000                                  \n",
    "23,0.6649322059,2701,'3 3BR','1940-1959',40000                        \n",
    "57,0.0834180739,770,'1 1BR','-5',60000                                \n",
    "66,0.0,542,'1 1BR','After 2010',0       \n",
    "```"
   ]
  },
  {
   "cell_type": "code",
   "execution_count": null,
   "metadata": {
    "collapsed": true
   },
   "outputs": [],
   "source": []
  },
  {
   "cell_type": "markdown",
   "metadata": {},
   "source": [
    "Count and display the number of lines in combined_hud.csv containing 1980-1989."
   ]
  },
  {
   "cell_type": "markdown",
   "metadata": {},
   "source": [
    "```bash\n",
    "/home/dq$ grep '1980-1989' combined_hud.csv | wc -l\n",
    "19711\n",
    "```"
   ]
  },
  {
   "cell_type": "code",
   "execution_count": null,
   "metadata": {
    "collapsed": true
   },
   "outputs": [],
   "source": []
  },
  {
   "cell_type": "code",
   "execution_count": null,
   "metadata": {
    "collapsed": true
   },
   "outputs": [],
   "source": []
  },
  {
   "cell_type": "code",
   "execution_count": null,
   "metadata": {
    "collapsed": true
   },
   "outputs": [],
   "source": []
  },
  {
   "cell_type": "code",
   "execution_count": null,
   "metadata": {
    "collapsed": true
   },
   "outputs": [],
   "source": []
  }
 ],
 "metadata": {
  "kernelspec": {
   "display_name": "Python [default]",
   "language": "python",
   "name": "python3"
  },
  "language_info": {
   "codemirror_mode": {
    "name": "ipython",
    "version": 3
   },
   "file_extension": ".py",
   "mimetype": "text/x-python",
   "name": "python",
   "nbconvert_exporter": "python",
   "pygments_lexer": "ipython3",
   "version": "3.5.4"
  }
 },
 "nbformat": 4,
 "nbformat_minor": 2
}
