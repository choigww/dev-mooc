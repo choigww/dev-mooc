{
 "cells": [
  {
   "cell_type": "markdown",
   "metadata": {},
   "source": [
    "# Challenge: Working with the Command Line\n",
    "In this challenge, you'll pull all of the concepts from the past few missions together to create and run a Python script on the command line. Here's a rough outline of the steps in this exercise:\n",
    "\n",
    "* Create a Python script.\n",
    "* Create a virtual environment.\n",
    "* Change file permissions.\n",
    "* Execute a Python script from the command line."
   ]
  },
  {
   "cell_type": "code",
   "execution_count": null,
   "metadata": {
    "collapsed": true
   },
   "outputs": [],
   "source": []
  },
  {
   "cell_type": "markdown",
   "metadata": {},
   "source": [
    "```bash\n",
    "/home/dq$ cd ..\n",
    "/home$ cd dq\n",
    "/home/dq$ pwd\n",
    "/home/dq\n",
    "/home/dq$ touch script.py\n",
    "/home/dq$ nano script.py\n",
    "\n",
    "...\n",
    "\n",
    "import sys\n",
    "\n",
    "if __name__ == \"__main__\":\n",
    "    print(sys.argv[1])\n",
    "\n",
    "...\n",
    "\n",
    "/home/dq$ stat script.py\n",
    "/home/dq$ chmod 0700 script.py\n",
    "/home/dq$ which python3\n",
    "/usr/bin/python3\n",
    "/home/dq$ virtualenv -p /usr/bin/python3 script\n",
    "/home/dq$ source script/bin/activate script\n",
    "(script) /home/dq$ mkdir printer\n",
    "(script) /home/dq$ move script.py printer/\n",
    "(script) /home/dq$ mv script.py printer/\n",
    "(script) /home/dq$ cd printer\n",
    "(script) /home/dq$ python3 script.py \"I'm so good at challenges!\"\n",
    "I'm so good at challenges!\n",
    "(script) /home/dq$\n",
    "```"
   ]
  },
  {
   "cell_type": "code",
   "execution_count": null,
   "metadata": {
    "collapsed": true
   },
   "outputs": [],
   "source": []
  },
  {
   "cell_type": "code",
   "execution_count": null,
   "metadata": {
    "collapsed": true
   },
   "outputs": [],
   "source": []
  }
 ],
 "metadata": {
  "kernelspec": {
   "display_name": "Python [default]",
   "language": "python",
   "name": "python3"
  },
  "language_info": {
   "codemirror_mode": {
    "name": "ipython",
    "version": 3
   },
   "file_extension": ".py",
   "mimetype": "text/x-python",
   "name": "python",
   "nbconvert_exporter": "python",
   "pygments_lexer": "ipython3",
   "version": "3.5.4"
  }
 },
 "nbformat": 4,
 "nbformat_minor": 2
}
