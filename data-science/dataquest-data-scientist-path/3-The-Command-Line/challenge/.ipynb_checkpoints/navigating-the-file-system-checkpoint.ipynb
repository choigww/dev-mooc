{
 "cells": [
  {
   "cell_type": "markdown",
   "metadata": {},
   "source": [
    "# Challenge: Navigating the File System\n",
    "In this challenge, you'll practice the basics of using the command line by working with files in the filesystem. Working in a command line environment is often faster than using a GUI or writing a Python program to accomplish a specific task. In this challenge, you'll be interacting with a directory of data sets used in other Dataquest missions."
   ]
  },
  {
   "cell_type": "markdown",
   "metadata": {},
   "source": [
    "Move all of the files that don't have .csv as the file extension to a new folder called problematic."
   ]
  },
  {
   "cell_type": "markdown",
   "metadata": {},
   "source": [
    "\n",
    "```bash\n",
    "mkdir /home/dq/problematic\n",
    "mv /home/dq/crime_rates.json /home/dq/problematic/crime_rates.json\n",
    "mv /home/dq/forest_fires.cssv /home/dq/problematic/forest_fires.cssv\n",
    "mv /home/dq/legislators /home/dq/problematic/legislators\n",
    "```\n",
    "\n"
   ]
  },
  {
   "cell_type": "markdown",
   "metadata": {},
   "source": [
    "* Change all of the extensions for the files in the problematic folder to .csv.\n",
    "* Display the files in problematic to confirm."
   ]
  },
  {
   "cell_type": "markdown",
   "metadata": {},
   "source": [
    "```shell\n",
    "cd problematic/\n",
    "mv crime_rates.json crime_rates.csv\n",
    "mv forest_fires.cssv forest_fires.csv\n",
    "mv legislators legislators.csv\n",
    "ls -l\n",
    "```"
   ]
  },
  {
   "cell_type": "markdown",
   "metadata": {},
   "source": [
    "* Move the remaining files into the problematic folder.\n",
    "* Rename the problematic folder to csv_datasets."
   ]
  },
  {
   "cell_type": "markdown",
   "metadata": {},
   "source": [
    "```bash\n",
    "cd /home/dq/\n",
    "mv nfl.csv problematic/nfl.csv\n",
    "mv titanic_survival.csv problematic/titanic_survival.csv\n",
    "mv problematic/ csv_datasets/\n",
    "```"
   ]
  },
  {
   "cell_type": "markdown",
   "metadata": {},
   "source": [
    "Change the file permissions for all of the CSV files in the csv_datasets folder to:\n",
    "* Owner - Read, write, and execute\n",
    "* Group - Read\n",
    "* Everyone - No permissions\n",
    "Display the list of files in the csv_datasets directory to confirm the permissions."
   ]
  },
  {
   "cell_type": "markdown",
   "metadata": {},
   "source": [
    "combinations|digits|meaning\n",
    ":---:|:---:|:---:\n",
    "---|0|No permissions; corresponds to 0\n",
    "--x|1|Execute only permission; corresponds to 1\n",
    "-w-|2|Write only permissions; corresponds to 2\n",
    "-wx|3|Write and execute permissions; corresponds to 3\n",
    "r--|4|Read only permissions; corresponds to 4\n",
    "r-x|5|Read and execute permissions; corresponds to 5\n",
    "rw-|6|Read and write permissions; corresponds to 6\n",
    "rwx|7|Read, write, and execute permissions; corresponds to 7"
   ]
  },
  {
   "cell_type": "markdown",
   "metadata": {},
   "source": [
    "```bash\n",
    "cd /home/dq/csv_datasets\n",
    "chmod 0740 nfl.csv\n",
    "chmod 0740 titanic_survival.csv\n",
    "chmod 0740 crime_rates.csv\n",
    "chmod 0740 forest_fires.csv\n",
    "chmod 0740 legislators.csv\n",
    "ls -l\n",
    "```\n"
   ]
  }
 ],
 "metadata": {
  "kernelspec": {
   "display_name": "Python [default]",
   "language": "python",
   "name": "python3"
  },
  "language_info": {
   "codemirror_mode": {
    "name": "ipython",
    "version": 3
   },
   "file_extension": ".py",
   "mimetype": "text/x-python",
   "name": "python",
   "nbconvert_exporter": "python",
   "pygments_lexer": "ipython3",
   "version": "3.5.4"
  }
 },
 "nbformat": 4,
 "nbformat_minor": 2
}
