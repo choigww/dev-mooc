{
 "cells": [
  {
   "cell_type": "markdown",
   "metadata": {},
   "source": [
    "# Introduction to Statistics\n",
    "\n",
    "**Equal Interval Scales**\n",
    "* Equal interval scales are always consistent.\n",
    "\n",
    "Think of the speed of a car. No matter what speed you're traveling at, a difference of five miles per hour is always five miles per hour. <br>\n",
    "\n",
    "The difference between 60 and 55 miles per hour will always be equal to the difference between 10 and five miles per hour\n",
    "\n",
    "**Logarithmic Scales**\n",
    "Each step on a logarithmic scale represents a different order of magnitude. The Richter scale that measures the strength of earthquakes, for example, is a logarithmic scale. <br>\n",
    "\n",
    "The difference between a 5 and a 6 on the Richter scale is more than the difference between a 4 and 5. This is because each number on the Richter scale represents 10 times the shaking amplitude of the previous number."
   ]
  },
  {
   "cell_type": "code",
   "execution_count": null,
   "metadata": {},
   "outputs": [],
   "source": [
    "car_speeds = [10,20,30,50,20]\n",
    "earthquake_intensities = [2,7,4,5,8]\n",
    "\n",
    "mean_car_speed = sum(car_speeds)/5\n",
    "mean_earthquake_intensities = sum(earthquake_intensities)/5"
   ]
  },
  {
   "cell_type": "code",
   "execution_count": null,
   "metadata": {},
   "outputs": [],
   "source": []
  },
  {
   "cell_type": "markdown",
   "metadata": {},
   "source": [
    "### Discrete and Continuous Scales\n",
    "Scales can be either discrete or continuous.\n",
    "\n",
    "* Think of someone marking down the number of inches a snail crawls every day. The snail could crawl 1 inch, 2 inches, 1.5 inches, 1.51 inches, or any other number, and it would be a valid observation. This is because inches are on a continuous scale, and even fractions of an inch are possible.\n",
    "\n",
    "* Now think of someone counting the number of cars in a parking lot each day. 1 car, 2 cars, and 10 cars are valid measurements, but 1.5 cars isn't valid.\n"
   ]
  },
  {
   "cell_type": "code",
   "execution_count": 1,
   "metadata": {},
   "outputs": [
    {
     "data": {
      "image/png": "[encoded data removed]",
      "text/plain": [
       "<matplotlib.figure.Figure at 0x10c3b6f60>"
      ]
     },
     "metadata": {},
     "output_type": "display_data"
    }
   ],
   "source": [
    "day_numbers = [1,2,3,4,5,6,7]\n",
    "snail_crawl_length = [.5,2,5,10,1,.25,4]\n",
    "cars_in_parking_lot = [5,6,4,2,1,7,8]\n",
    "\n",
    "import matplotlib.pyplot as plt\n",
    "\n",
    "plt.plot(day_numbers, snail_crawl_length)\n",
    "plt.plot(day_numbers, cars_in_parking_lot)\n",
    "plt.show()"
   ]
  },
  {
   "cell_type": "code",
   "execution_count": null,
   "metadata": {},
   "outputs": [],
   "source": []
  },
  {
   "cell_type": "markdown",
   "metadata": {},
   "source": [
    "### Understanding Scale Starting Points\n",
    "\n",
    "Some scales use the zero value in different ways. Think of the number of cars in a parking lot.\n",
    "\n",
    "* Zero cars in the lot means that there are absolutely no cars at all, so absolute zero is at 0 cars. You can't have negative cars.\n",
    "\n",
    "Now, think of degrees Fahrenheit.\n",
    "\n",
    "* Zero degrees doesn't mean that there isn't any warmth; the degree scale can also be negative, and absolute zero (when there is no warmth at all) is at -459.67 degrees.\n",
    "\n",
    "* Scales with absolute zero points that aren't at 0 don't enable us to take meaningful ratios. For example, if four cars parked in the lot yesterday and eight park today, I can safely say that twice as many cars are in the lot today.\n",
    "\n",
    "* However, if it was 32 degrees Fahrenheit yesterday, and it's 64 degrees today, I can't say that it's twice as warm today as yesterday."
   ]
  },
  {
   "cell_type": "code",
   "execution_count": 22,
   "metadata": {},
   "outputs": [],
   "source": [
    "fahrenheit_degrees = [32, 64, 78, 102]\n",
    "degrees_zero = [f + 459.67 for f in fahrenheit_degrees]\n",
    "\n",
    "yearly_town_population = [100,102,103,110,105,120]\n",
    "population_zero = yearly_town_population"
   ]
  },
  {
   "cell_type": "code",
   "execution_count": null,
   "metadata": {},
   "outputs": [],
   "source": []
  },
  {
   "cell_type": "markdown",
   "metadata": {},
   "source": [
    "### Working With Ordinal Scales"
   ]
  },
  {
   "cell_type": "code",
   "execution_count": 2,
   "metadata": {},
   "outputs": [
    {
     "data": {
      "text/plain": [
       "0.8571428571428571"
      ]
     },
     "execution_count": 2,
     "metadata": {},
     "output_type": "execute_result"
    }
   ],
   "source": [
    "# Results from our survey on how many cigarettes people smoke per day\n",
    "survey_responses = [\"none\", \"some\", \"a lot\", \"none\", \"a few\", \"none\", \"none\"]\n",
    "\n",
    "score_map = {\"none\":0, \"a few\":1, \"some\":2, \"a lot\":3}\n",
    "\n",
    "import pandas as pd\n",
    "\n",
    "average_smoking = pd.Series(survey_responses).replace(score_map).mean()\n",
    "average_smoking"
   ]
  },
  {
   "cell_type": "code",
   "execution_count": null,
   "metadata": {},
   "outputs": [],
   "source": []
  },
  {
   "cell_type": "markdown",
   "metadata": {},
   "source": [
    "### Grouping Values with Categorical Scales\n",
    "\n",
    "We can also have categorical scales, which group values into general categories.\n",
    "\n",
    "* One example is gender, which can be male or female.\n",
    "\n",
    "* Unlike ordinal scales, categorical scales don't have an order. In our gender example, for instance, one category isn't greater than or less than the other."
   ]
  },
  {
   "cell_type": "code",
   "execution_count": 3,
   "metadata": {},
   "outputs": [
    {
     "name": "stdout",
     "output_type": "stream",
     "text": [
      "2133.33333333 4166.66666667\n"
     ]
    }
   ],
   "source": [
    "# Let's say that these lists are both columns in a matrix.  Index 0 is the first row in both, and so on.\n",
    "import numpy as np\n",
    "\n",
    "gender = [\"male\", \"female\", \"female\", \"male\", \"male\", \"female\"]\n",
    "savings = [1200, 5000, 3400, 2400, 2800, 4100]\n",
    "\n",
    "male_savings = [sav for i, sav in enumerate(savings)\\\n",
    "                if gender[i]=='male']\n",
    "female_savings = [sav for i, sav in enumerate(savings)\\\n",
    "                 if gender[i]=='female']\n",
    "\n",
    "male_savings = np.mean(male_savings)\n",
    "female_savings = np.mean(female_savings)\n",
    "\n",
    "print(male_savings, female_savings)"
   ]
  },
  {
   "cell_type": "code",
   "execution_count": null,
   "metadata": {},
   "outputs": [],
   "source": []
  },
  {
   "cell_type": "markdown",
   "metadata": {},
   "source": [
    "### Visualizing Counts with Frequency Histograms\n",
    "\n",
    "Remember how statistics is all about counting? A frequency histogram is a type of plot that helps us visualize counts of data.<br>\n",
    "\n",
    "These plots tally how many times each value occurs in a list, then graph the values on the x-axis and the counts on the y-axis.<br>\n",
    "\n",
    "Frequency histograms give us a better understanding of where values fall within a data set."
   ]
  },
  {
   "cell_type": "code",
   "execution_count": 9,
   "metadata": {},
   "outputs": [
    {
     "data": {
      "image/png": "[encoded data removed]",
      "text/plain": [
       "<matplotlib.figure.Figure at 0x1111f7438>"
      ]
     },
     "metadata": {},
     "output_type": "display_data"
    },
    {
     "data": {
      "image/png": "[encoded data removed]",
      "text/plain": [
       "<matplotlib.figure.Figure at 0x111209860>"
      ]
     },
     "metadata": {},
     "output_type": "display_data"
    }
   ],
   "source": [
    "# Let's say that we watch cars drive by and calculate average speed in miles per hour\n",
    "average_speed = [10, 20, 25, 27, 28, 22, 15, 18, 17]\n",
    "import matplotlib.pyplot as plt\n",
    "plt.hist(average_speed)\n",
    "plt.show()\n",
    "\n",
    "# Let's say we measure student test scores from 0-100\n",
    "student_scores = [15, 80, 95, 100, 45, 75, 65]\n",
    "plt.hist(student_scores, color='g')\n",
    "plt.show()"
   ]
  },
  {
   "cell_type": "code",
   "execution_count": null,
   "metadata": {},
   "outputs": [],
   "source": []
  },
  {
   "cell_type": "markdown",
   "metadata": {},
   "source": [
    "### Aggregating Values with Histogram Bins\n",
    "\n",
    "In contrast, histograms use bins to count values. Bins aggregate values into predefined \"buckets.\"\n",
    "\n",
    "* Here's how they work. If the x-axis ranges from 0 to 10 and we have 10 bins, the first bin would be for values between 0-1, the second would be for values between 1-2, and so on.\n",
    "* If we have five bins, the first bin would be for values between 0-2, the second would be for values between 2-4, and so on."
   ]
  },
  {
   "cell_type": "code",
   "execution_count": 5,
   "metadata": {},
   "outputs": [
    {
     "data": {
      "image/png": "[encoded data removed]",
      "text/plain": [
       "<matplotlib.figure.Figure at 0x10f523c50>"
      ]
     },
     "metadata": {},
     "output_type": "display_data"
    },
    {
     "data": {
      "image/png": "[encoded data removed]",
      "text/plain": [
       "<matplotlib.figure.Figure at 0x10f58a518>"
      ]
     },
     "metadata": {},
     "output_type": "display_data"
    },
    {
     "data": {
      "image/png": "[encoded data removed]",
      "text/plain": [
       "<matplotlib.figure.Figure at 0x10f6476a0>"
      ]
     },
     "metadata": {},
     "output_type": "display_data"
    }
   ],
   "source": [
    "average_speed = [10, 20, 25, 27, 28, 22, 15, 18, 17]\n",
    "import matplotlib.pyplot as plt\n",
    "plt.hist(average_speed, bins=6)\n",
    "plt.show()\n",
    "\n",
    "# As you can see, matplotlib groups the values in the list into the nearest bins.\n",
    "# If we have fewer bins, each bin will have a higher count (because there will be fewer bins to group all of the values into).\n",
    "# If there are more bins, the total for each one will decrease, because each one will contain fewer values.\n",
    "plt.hist(average_speed, bins=4, color='r')\n",
    "plt.show()\n",
    "\n",
    "plt.hist(average_speed, bins=2, color='g')\n",
    "plt.show()"
   ]
  },
  {
   "cell_type": "code",
   "execution_count": null,
   "metadata": {},
   "outputs": [],
   "source": []
  },
  {
   "cell_type": "markdown",
   "metadata": {},
   "source": [
    "### Measuring Data Skew\n",
    "\n",
    "Now that you know how to make histograms, did you notice how the plots have \"shapes?\" <br>\n",
    "\n",
    "These shapes are important because they can show us the distributional characteristics of the data. The first characteristic we'll look at is `skew`.\n",
    "\n",
    "> Skew refers to **asymmetry in the data**. When data is concentrated on the right side of the histogram, for example, we say it has a negative skew. When the data is concentrated on the left, we say it has a positive skew.\n",
    "* We can measure the level of skew with the skew function. A positive value indicates a positive skew, a negative value indicates a negative skew, and a value close to zero indicates no skew."
   ]
  },
  {
   "cell_type": "code",
   "execution_count": 6,
   "metadata": {},
   "outputs": [
    {
     "data": {
      "text/plain": [
       "-0.2300757426675269"
      ]
     },
     "execution_count": 6,
     "metadata": {},
     "output_type": "execute_result"
    }
   ],
   "source": [
    "from scipy.stats import skew\n",
    "\n",
    "skew(average_speed)"
   ]
  },
  {
   "cell_type": "code",
   "execution_count": null,
   "metadata": {},
   "outputs": [],
   "source": []
  },
  {
   "cell_type": "markdown",
   "metadata": {},
   "source": [
    "SKEW = -0.6093247474592195 \n",
    "![](img/skew1.png)\n",
    "\n",
    "SKEW = 0.5376950498203763 \n",
    "![](img/skew2.png)\n",
    "\n",
    "SKEW = 0.0223645171350847\n",
    "![](img/skew3.png)"
   ]
  },
  {
   "cell_type": "code",
   "execution_count": null,
   "metadata": {},
   "outputs": [],
   "source": []
  },
  {
   "cell_type": "code",
   "execution_count": null,
   "metadata": {},
   "outputs": [],
   "source": []
  },
  {
   "cell_type": "markdown",
   "metadata": {},
   "source": [
    "### Checking for Outliers with Kurtosis\n",
    "\n",
    "*Kurtosis* is another characteristic of distributions. \n",
    "> Kurtosis measures whether the distribution is short and flat, or tall and skinny. \n",
    "In other words, it assesses **the shape of the peak**. <br>\n",
    "\n",
    "\"Shorter\" distributions have a lower maximum frequency, but higher subsequent frequencies. **A high kurtosis may indicate problems with outliers (very large or very small values that skew the data)**."
   ]
  },
  {
   "cell_type": "code",
   "execution_count": 8,
   "metadata": {},
   "outputs": [],
   "source": [
    "from scipy.stats import kurtosis"
   ]
  },
  {
   "cell_type": "markdown",
   "metadata": {},
   "source": [
    "KURTOSIS = -0.9283967256161696 \n",
    "* Plot is short and platy: values varied widely.\n",
    "![](img/kurt1.png)\n",
    "\n",
    "KURTOSIS = 0.023335026722224317 \n",
    "* Plot is tall and lepto: values similar.\n",
    "![](img/kurt2.png)\n",
    "\n",
    "KURTOSIS = -0.042791859857727044\n",
    "* Plot is neither short nor tall: meso.\n",
    "![](img/kurt3.png)"
   ]
  },
  {
   "cell_type": "code",
   "execution_count": null,
   "metadata": {},
   "outputs": [],
   "source": []
  },
  {
   "cell_type": "markdown",
   "metadata": {},
   "source": [
    "### Modality\n",
    "\n",
    "Modality is another characteristic of distributions. Modality refers to the number of modes, or peaks, in a distribution.\n",
    "* Real-world data is often unimodal (it has only one mode).\n",
    "\n",
    "Unimodal\n",
    "![](img/unimodal.png)\n",
    "\n",
    "Bimodal\n",
    "![](img/bimodal.png)\n",
    "\n",
    "Multimodal\n",
    "![](img/multimodal.png)"
   ]
  },
  {
   "cell_type": "code",
   "execution_count": null,
   "metadata": {},
   "outputs": [],
   "source": []
  },
  {
   "cell_type": "markdown",
   "metadata": {},
   "source": [
    "### Measures of Central Tendency\n",
    "1. **Mean**\n",
    "2. **Median**\n",
    "   * To calculate the median, we need to sort the array, then take the value in the middle. If there are two values in the middle (because there are an even number of items in the array), then we take the mean of the two middle values.\n",
    "   * The median is less sensitive to very large or very small values (which we call outliers), and is a more realistic center of the distribution."
   ]
  },
  {
   "cell_type": "markdown",
   "metadata": {},
   "source": [
    "* test code / visualization.\n",
    "\n",
    "```python\n",
    "plt.hist(test_scores_positive)\n",
    "plt.axvline(test_scores_positive.mean(), color='r')\n",
    "plt.axvline(numpy.median(test_scores_positive), color='g')\n",
    "plt.show()\n",
    "```\n",
    "\n",
    "![](img/meanmedian.png)"
   ]
  },
  {
   "cell_type": "code",
   "execution_count": null,
   "metadata": {},
   "outputs": [],
   "source": []
  },
  {
   "cell_type": "markdown",
   "metadata": {},
   "source": [
    "### Overview of the Titanic Data\n",
    "\n",
    "* [download source link](https://www.google.co.kr/url?sa=t&rct=j&q=&esrc=s&source=web&cd=4&ved=0ahUKEwiBgverxOXXAhVBEbwKHX3pAKUQFghDMAM&url=http%3A%2F%2Fbiostat.mc.vanderbilt.edu%2Fwiki%2Fpub%2FMain%2FDataSets%2Ftitanic3.xls&usg=AOvVaw1j63KEb1daRf8kqotv9b7B)\n",
    "\n",
    "On the next few screens, we'll work on cleaning up and analyzing data on passenger survival from the Titanic. Each row represents a passenger on the Titanic, complete with personal details and information on their survival. <br>\n",
    "\n",
    "Here are some of the relevant columns:\n",
    "\n",
    "* `name` - The passenger's name\n",
    "* `sex` - The passenger's gender\n",
    "* `age` - the passenger's age\n",
    "\n",
    "Several of the columns have **missing values**, such as the `age` and `sex` columns. Before we can analyze the data, we'll need to deal with these values first."
   ]
  },
  {
   "cell_type": "code",
   "execution_count": null,
   "metadata": {},
   "outputs": [],
   "source": []
  },
  {
   "cell_type": "code",
   "execution_count": 16,
   "metadata": {},
   "outputs": [
    {
     "name": "stdout",
     "output_type": "stream",
     "text": [
      "(1310, 14)\n"
     ]
    }
   ],
   "source": [
    "import pandas\n",
    "f = \"data/titanic_survival.csv\"\n",
    "titanic_survival = pandas.read_csv(f)\n",
    "\n",
    "# Luckily, pandas DataFrames have a method that can drop rows that have missing data\n",
    "# Let's look at how large the DataFrame is first\n",
    "print(titanic_survival.shape)"
   ]
  },
  {
   "cell_type": "code",
   "execution_count": 17,
   "metadata": {},
   "outputs": [
    {
     "name": "stdout",
     "output_type": "stream",
     "text": [
      "(1046, 14)\n"
     ]
    }
   ],
   "source": [
    "new_titanic_survival = titanic_survival.dropna(subset=[\"age\", \"sex\"])\n",
    "print(new_titanic_survival.shape)"
   ]
  },
  {
   "cell_type": "code",
   "execution_count": 19,
   "metadata": {},
   "outputs": [
    {
     "data": {
      "image/png": "[encoded data removed]",
      "text/plain": [
       "<matplotlib.figure.Figure at 0x10bc7edd8>"
      ]
     },
     "metadata": {},
     "output_type": "display_data"
    }
   ],
   "source": [
    "plt.hist(new_titanic_survival.age)\n",
    "plt.axvline(np.median(new_titanic_survival.age), color='g')\n",
    "plt.axvline(np.mean(new_titanic_survival.age), color='r')\n",
    "plt.show()"
   ]
  },
  {
   "cell_type": "code",
   "execution_count": null,
   "metadata": {},
   "outputs": [],
   "source": []
  },
  {
   "cell_type": "code",
   "execution_count": 20,
   "metadata": {},
   "outputs": [],
   "source": [
    "mean_age = new_titanic_survival.age.mean()\n",
    "median_age = np.median(new_titanic_survival.age)\n",
    "skew_age = skew(new_titanic_survival.age)\n",
    "kurtosis_age = kurtosis(new_titanic_survival.age)"
   ]
  },
  {
   "cell_type": "code",
   "execution_count": 21,
   "metadata": {},
   "outputs": [
    {
     "name": "stdout",
     "output_type": "stream",
     "text": [
      "mean:29.8811345124283\n",
      "median:28.0\n",
      "skew:0.4070870379484177\n",
      "kurtosis:0.14051780299368888\n"
     ]
    }
   ],
   "source": [
    "print('mean:{}\\nmedian:{}\\nskew:{}\\nkurtosis:{}'\\\n",
    "     .format(mean_age, median_age, skew_age, kurtosis_age))"
   ]
  },
  {
   "cell_type": "markdown",
   "metadata": {},
   "source": [
    "### Rough analysis from mean/med/skew/kurt.\n",
    "\n",
    "* Distribution shape : left-skewed (positive skewness)\n",
    "* Kurtosis = 0.14, leptokurtic\n",
    "  * outliers may exist\n",
    "* Modal = unimodal or weak-bimodal  \n"
   ]
  },
  {
   "cell_type": "code",
   "execution_count": null,
   "metadata": {},
   "outputs": [],
   "source": []
  }
 ],
 "metadata": {
  "kernelspec": {
   "display_name": "Python 3",
   "language": "python",
   "name": "python3"
  },
  "language_info": {
   "codemirror_mode": {
    "name": "ipython",
    "version": 3
   },
   "file_extension": ".py",
   "mimetype": "text/x-python",
   "name": "python",
   "nbconvert_exporter": "python",
   "pygments_lexer": "ipython3",
   "version": "3.6.2"
  }
 },
 "nbformat": 4,
 "nbformat_minor": 2
}
