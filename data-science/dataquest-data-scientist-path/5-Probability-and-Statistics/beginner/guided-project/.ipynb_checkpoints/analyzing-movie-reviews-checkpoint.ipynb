{
 "cells": [
  {
   "cell_type": "markdown",
   "metadata": {},
   "source": [
    "### Guided Project:\n",
    "# Analyzing Movie Reviews\n",
    "\n",
    "In this project, you'll be working with Jupyter notebook, and analyzing data on movie review scores. By the end, you'll have a notebook that you can add to your portfolio or build on top of on your own. If you need help at any point, you can consult our solution notebook [here](https://github.com/dataquestio/solutions/blob/master/Mission209Solution.ipynb).<br>\n",
    "\n",
    "The dataset is stored in the `fandango_score_comparison.csv` file. It contains information on how major movie review services rated movies. The data originally came from [FiveThirtyEight](http://fivethirtyeight.com/features/fandango-movies-ratings/).\n",
    "\n",
    "Here are the first few rows of the data, in CSV format:"
   ]
  },
  {
   "cell_type": "code",
   "execution_count": 1,
   "metadata": {
    "collapsed": true
   },
   "outputs": [],
   "source": [
    "import pandas as pd\n",
    "import numpy as np\n",
    "from matplotlib import pyplot as plt\n",
    "\n",
    "%matplotlib inline"
   ]
  },
  {
   "cell_type": "code",
   "execution_count": 2,
   "metadata": {
    "collapsed": false
   },
   "outputs": [
    {
     "data": {
      "text/html": [
       "<div>\n",
       "<table border=\"1\" class=\"dataframe\">\n",
       "  <thead>\n",
       "    <tr style=\"text-align: right;\">\n",
       "      <th></th>\n",
       "      <th>FILM</th>\n",
       "      <th>RottenTomatoes</th>\n",
       "      <th>RottenTomatoes_User</th>\n",
       "      <th>Metacritic</th>\n",
       "      <th>Metacritic_User</th>\n",
       "      <th>IMDB</th>\n",
       "      <th>Fandango_Stars</th>\n",
       "      <th>Fandango_Ratingvalue</th>\n",
       "      <th>RT_norm</th>\n",
       "      <th>RT_user_norm</th>\n",
       "      <th>...</th>\n",
       "      <th>IMDB_norm</th>\n",
       "      <th>RT_norm_round</th>\n",
       "      <th>RT_user_norm_round</th>\n",
       "      <th>Metacritic_norm_round</th>\n",
       "      <th>Metacritic_user_norm_round</th>\n",
       "      <th>IMDB_norm_round</th>\n",
       "      <th>Metacritic_user_vote_count</th>\n",
       "      <th>IMDB_user_vote_count</th>\n",
       "      <th>Fandango_votes</th>\n",
       "      <th>Fandango_Difference</th>\n",
       "    </tr>\n",
       "  </thead>\n",
       "  <tbody>\n",
       "    <tr>\n",
       "      <th>0</th>\n",
       "      <td>Avengers: Age of Ultron (2015)</td>\n",
       "      <td>74</td>\n",
       "      <td>86</td>\n",
       "      <td>66</td>\n",
       "      <td>7.1</td>\n",
       "      <td>7.8</td>\n",
       "      <td>5.0</td>\n",
       "      <td>4.5</td>\n",
       "      <td>3.70</td>\n",
       "      <td>4.3</td>\n",
       "      <td>...</td>\n",
       "      <td>3.90</td>\n",
       "      <td>3.5</td>\n",
       "      <td>4.5</td>\n",
       "      <td>3.5</td>\n",
       "      <td>3.5</td>\n",
       "      <td>4.0</td>\n",
       "      <td>1330</td>\n",
       "      <td>271107</td>\n",
       "      <td>14846</td>\n",
       "      <td>0.5</td>\n",
       "    </tr>\n",
       "    <tr>\n",
       "      <th>1</th>\n",
       "      <td>Cinderella (2015)</td>\n",
       "      <td>85</td>\n",
       "      <td>80</td>\n",
       "      <td>67</td>\n",
       "      <td>7.5</td>\n",
       "      <td>7.1</td>\n",
       "      <td>5.0</td>\n",
       "      <td>4.5</td>\n",
       "      <td>4.25</td>\n",
       "      <td>4.0</td>\n",
       "      <td>...</td>\n",
       "      <td>3.55</td>\n",
       "      <td>4.5</td>\n",
       "      <td>4.0</td>\n",
       "      <td>3.5</td>\n",
       "      <td>4.0</td>\n",
       "      <td>3.5</td>\n",
       "      <td>249</td>\n",
       "      <td>65709</td>\n",
       "      <td>12640</td>\n",
       "      <td>0.5</td>\n",
       "    </tr>\n",
       "    <tr>\n",
       "      <th>2</th>\n",
       "      <td>Ant-Man (2015)</td>\n",
       "      <td>80</td>\n",
       "      <td>90</td>\n",
       "      <td>64</td>\n",
       "      <td>8.1</td>\n",
       "      <td>7.8</td>\n",
       "      <td>5.0</td>\n",
       "      <td>4.5</td>\n",
       "      <td>4.00</td>\n",
       "      <td>4.5</td>\n",
       "      <td>...</td>\n",
       "      <td>3.90</td>\n",
       "      <td>4.0</td>\n",
       "      <td>4.5</td>\n",
       "      <td>3.0</td>\n",
       "      <td>4.0</td>\n",
       "      <td>4.0</td>\n",
       "      <td>627</td>\n",
       "      <td>103660</td>\n",
       "      <td>12055</td>\n",
       "      <td>0.5</td>\n",
       "    </tr>\n",
       "    <tr>\n",
       "      <th>3</th>\n",
       "      <td>Do You Believe? (2015)</td>\n",
       "      <td>18</td>\n",
       "      <td>84</td>\n",
       "      <td>22</td>\n",
       "      <td>4.7</td>\n",
       "      <td>5.4</td>\n",
       "      <td>5.0</td>\n",
       "      <td>4.5</td>\n",
       "      <td>0.90</td>\n",
       "      <td>4.2</td>\n",
       "      <td>...</td>\n",
       "      <td>2.70</td>\n",
       "      <td>1.0</td>\n",
       "      <td>4.0</td>\n",
       "      <td>1.0</td>\n",
       "      <td>2.5</td>\n",
       "      <td>2.5</td>\n",
       "      <td>31</td>\n",
       "      <td>3136</td>\n",
       "      <td>1793</td>\n",
       "      <td>0.5</td>\n",
       "    </tr>\n",
       "    <tr>\n",
       "      <th>4</th>\n",
       "      <td>Hot Tub Time Machine 2 (2015)</td>\n",
       "      <td>14</td>\n",
       "      <td>28</td>\n",
       "      <td>29</td>\n",
       "      <td>3.4</td>\n",
       "      <td>5.1</td>\n",
       "      <td>3.5</td>\n",
       "      <td>3.0</td>\n",
       "      <td>0.70</td>\n",
       "      <td>1.4</td>\n",
       "      <td>...</td>\n",
       "      <td>2.55</td>\n",
       "      <td>0.5</td>\n",
       "      <td>1.5</td>\n",
       "      <td>1.5</td>\n",
       "      <td>1.5</td>\n",
       "      <td>2.5</td>\n",
       "      <td>88</td>\n",
       "      <td>19560</td>\n",
       "      <td>1021</td>\n",
       "      <td>0.5</td>\n",
       "    </tr>\n",
       "  </tbody>\n",
       "</table>\n",
       "<p>5 rows × 22 columns</p>\n",
       "</div>"
      ],
      "text/plain": [
       "                             FILM  RottenTomatoes  RottenTomatoes_User  \\\n",
       "0  Avengers: Age of Ultron (2015)              74                   86   \n",
       "1               Cinderella (2015)              85                   80   \n",
       "2                  Ant-Man (2015)              80                   90   \n",
       "3          Do You Believe? (2015)              18                   84   \n",
       "4   Hot Tub Time Machine 2 (2015)              14                   28   \n",
       "\n",
       "   Metacritic  Metacritic_User  IMDB  Fandango_Stars  Fandango_Ratingvalue  \\\n",
       "0          66              7.1   7.8             5.0                   4.5   \n",
       "1          67              7.5   7.1             5.0                   4.5   \n",
       "2          64              8.1   7.8             5.0                   4.5   \n",
       "3          22              4.7   5.4             5.0                   4.5   \n",
       "4          29              3.4   5.1             3.5                   3.0   \n",
       "\n",
       "   RT_norm  RT_user_norm         ...           IMDB_norm  RT_norm_round  \\\n",
       "0     3.70           4.3         ...                3.90            3.5   \n",
       "1     4.25           4.0         ...                3.55            4.5   \n",
       "2     4.00           4.5         ...                3.90            4.0   \n",
       "3     0.90           4.2         ...                2.70            1.0   \n",
       "4     0.70           1.4         ...                2.55            0.5   \n",
       "\n",
       "   RT_user_norm_round  Metacritic_norm_round  Metacritic_user_norm_round  \\\n",
       "0                 4.5                    3.5                         3.5   \n",
       "1                 4.0                    3.5                         4.0   \n",
       "2                 4.5                    3.0                         4.0   \n",
       "3                 4.0                    1.0                         2.5   \n",
       "4                 1.5                    1.5                         1.5   \n",
       "\n",
       "   IMDB_norm_round  Metacritic_user_vote_count  IMDB_user_vote_count  \\\n",
       "0              4.0                        1330                271107   \n",
       "1              3.5                         249                 65709   \n",
       "2              4.0                         627                103660   \n",
       "3              2.5                          31                  3136   \n",
       "4              2.5                          88                 19560   \n",
       "\n",
       "   Fandango_votes  Fandango_Difference  \n",
       "0           14846                  0.5  \n",
       "1           12640                  0.5  \n",
       "2           12055                  0.5  \n",
       "3            1793                  0.5  \n",
       "4            1021                  0.5  \n",
       "\n",
       "[5 rows x 22 columns]"
      ]
     },
     "execution_count": 2,
     "metadata": {},
     "output_type": "execute_result"
    }
   ],
   "source": [
    "movies = pd.read_csv('data/fandango_score_comparison.csv')\n",
    "movies.head()"
   ]
  },
  {
   "cell_type": "markdown",
   "metadata": {},
   "source": [
    "Each row represents a single movie. Each column contains information about how the online moview review services [RottenTomatoes](http://rottentomatoes.com/), [Metacritic](http://metacritic.com/), [IMDB](http://www.imdb.com/), and [Fandango](http://www.fandango.com/) rated the movie. The dataset was put together to help detect bias in the movie review sites. Each of these sites has 2 types of score -- `User` scores, which aggregate user reviews, and `Critic` score, which aggregate professional critical reviews of the movie. Each service puts their ratings on a different scale:\n",
    "\n",
    "* RottenTomatoes - `0-100`, in increments of `1`.\n",
    "* Metacritic - `0-100`, in increments of `1`.\n",
    "* IMDB - `0-10`, in increments of `.1`.\n",
    "* Fandango - `0-5`, in increments of `.5`.\n",
    "\n",
    "Typically, the primary score shown by the sites will be the `Critic` score. Here are descriptions of some of the relevant columns in the dataset:\n",
    "\n",
    "* `FILM` -- the name of the movie.\n",
    "* `RottenTomatoes` -- the RottenTomatoes (RT) critic score.\n",
    "* `RottenTomatoes_User` -- the RT user score.\n",
    "* `Metacritic` -- the Metacritic critic score.\n",
    "* `Metacritic_User` -- the Metacritic user score.\n",
    "* `IMDB` -- the IMDB score given to the movie.\n",
    "* `Fandango_Stars` -- the number of stars Fandango gave the movie.\n",
    "\n",
    "To make it easier to compare scores across services, the columns were **normalized** so their scale and rounding matched the Fandango ratings. Any column with the suffix `_norm` is the corresponding column changed to a `0-5` scale. For example, `RT_norm` takes the `RottenTomatoes` column and turns it into a `0-5` scale from a `0-100` scale. Any column with the suffix `_round` is the rounded version of another column. For example, `RT_user_norm_round` rounds the `RT_user_norm` column to the nearest `.5`."
   ]
  },
  {
   "cell_type": "code",
   "execution_count": null,
   "metadata": {
    "collapsed": true
   },
   "outputs": [],
   "source": []
  },
  {
   "cell_type": "markdown",
   "metadata": {},
   "source": [
    "## Histograms"
   ]
  },
  {
   "cell_type": "code",
   "execution_count": 3,
   "metadata": {
    "collapsed": false,
    "scrolled": false
   },
   "outputs": [
    {
     "name": "stdout",
     "output_type": "stream",
     "text": [
      "3.0    27\n",
      "4.0    25\n",
      "2.5    22\n",
      "1.5    20\n",
      "3.5    20\n",
      "4.5    15\n",
      "2.0    14\n",
      "1.0     2\n",
      "0.5     1\n",
      "Name: Metacritic_norm_round, dtype: int64\n"
     ]
    },
    {
     "data": {
      "text/plain": [
       "<matplotlib.axes._subplots.AxesSubplot at 0x26cf7daf518>"
      ]
     },
     "execution_count": 3,
     "metadata": {},
     "output_type": "execute_result"
    },
    {
     "data": {
      "image/png": "[encoded data removed]",
      "text/plain": [
       "<matplotlib.figure.Figure at 0x26cf51c03c8>"
      ]
     },
     "metadata": {},
     "output_type": "display_data"
    }
   ],
   "source": [
    "print(movies['Metacritic_norm_round'].value_counts())\n",
    "movies['Metacritic_norm_round'].plot(kind='hist', bins=9)"
   ]
  },
  {
   "cell_type": "code",
   "execution_count": 17,
   "metadata": {
    "collapsed": false,
    "scrolled": false
   },
   "outputs": [
    {
     "name": "stdout",
     "output_type": "stream",
     "text": [
      "4.5    55\n",
      "4.0    41\n",
      "3.5    27\n",
      "3.0    12\n",
      "5.0    11\n",
      "Name: Fandango_Stars, dtype: int64\n"
     ]
    },
    {
     "data": {
      "text/plain": [
       "<matplotlib.axes._subplots.AxesSubplot at 0x7f6ebcb04240>"
      ]
     },
     "execution_count": 17,
     "metadata": {},
     "output_type": "execute_result"
    },
    {
     "data": {
      "image/png": "[encoded data removed]",
      "text/plain": [
       "<matplotlib.figure.Figure at 0x7f6ebcb15f98>"
      ]
     },
     "metadata": {},
     "output_type": "display_data"
    }
   ],
   "source": [
    "print(movies['Fandango_Stars'].value_counts())\n",
    "movies['Fandango_Stars'].plot(kind='hist', bins=5)"
   ]
  },
  {
   "cell_type": "markdown",
   "metadata": {},
   "source": [
    "## Note 1.\n",
    "### Differences between Metacritic and Fandango ratings\n",
    "\n",
    "[**Metacritic_norm_round**]\n",
    "> Relatively close to uniform distribution (except for 0.5-1.0 bound) \n",
    "* otherwise we can say that distribution is multi-modal\n",
    "* There is no ratings higher than 4.5\n",
    "* Balanced rating distribution in overall.\n",
    "\n",
    "[**Fandango_stars**]\n",
    "> Skewed to right (negative skew)\n",
    "* There is no ratings lower than 3 stars.\n",
    "* Fandango seems to have positive rating tendency more or less.\n"
   ]
  },
  {
   "cell_type": "code",
   "execution_count": null,
   "metadata": {
    "collapsed": true
   },
   "outputs": [],
   "source": []
  },
  {
   "cell_type": "markdown",
   "metadata": {},
   "source": [
    "## Mean, median, and standard deviation"
   ]
  },
  {
   "cell_type": "code",
   "execution_count": 18,
   "metadata": {
    "collapsed": false,
    "scrolled": false
   },
   "outputs": [
    {
     "name": "stdout",
     "output_type": "stream",
     "text": [
      "4.08904109589 4.0 0.53853216127\n"
     ]
    }
   ],
   "source": [
    "fs_mean = movies['Fandango_Stars'].mean()\n",
    "fs_median = np.median(movies['Fandango_Stars'])\n",
    "fs_std = np.std(movies['Fandango_Stars'])\n",
    "\n",
    "print(fs_mean, fs_median, fs_std)"
   ]
  },
  {
   "cell_type": "code",
   "execution_count": 19,
   "metadata": {
    "collapsed": false
   },
   "outputs": [
    {
     "name": "stdout",
     "output_type": "stream",
     "text": [
      "2.97260273973 3.0 0.987561029704\n"
     ]
    }
   ],
   "source": [
    "mc_mean = movies['Metacritic_norm_round'].mean()\n",
    "mc_median = np.median(movies['Metacritic_norm_round'])\n",
    "mc_std = np.std(movies['Metacritic_norm_round'])\n",
    "\n",
    "print(mc_mean, mc_median, mc_std)"
   ]
  },
  {
   "cell_type": "code",
   "execution_count": null,
   "metadata": {
    "collapsed": true
   },
   "outputs": [],
   "source": []
  },
  {
   "cell_type": "markdown",
   "metadata": {},
   "source": [
    "## Review methodology\n",
    "\n",
    "source article : https://fivethirtyeight.com/features/fandango-movies-ratings/\n",
    "\n",
    "![](https://espnfivethirtyeight.files.wordpress.com/2015/10/hickey-datalab-fandango-2.png?w=575&quality=90&strip=info)\n",
    "\n",
    "\n",
    "[Ars Technica notes](http://arstechnica.com/business/2015/10/fivethirtyeight-analysis-finds-inflated-rounded-up-reviews-at-fandango/) **one reason for this inflation is that the star ratings on Fandango are rounded up to the nearest half**, meaning some films got a 0.3, 0.4, and even a 0.5 boost from their original score. A Fandango spokesperson told FiveThirtyEight this was the result of a \"software glitch\" that would soon be fixed."
   ]
  },
  {
   "cell_type": "code",
   "execution_count": null,
   "metadata": {
    "collapsed": true
   },
   "outputs": [],
   "source": []
  },
  {
   "cell_type": "markdown",
   "metadata": {},
   "source": [
    "## Note 2.\n",
    "\n",
    "Why would the median for Metacritic_norm_round be lower than the mean, but the median for Fandango_Stars is higher than the mean? Recall that the mean is usually larger than the median when there are a few large values in the data, and lower when there are a few small values.\n",
    "> Fandango stars distribution is skewed to right - that means there are a few small values. Metacritic points have much less bias / degree of skewness.\n",
    "\n",
    "Why would the standard deviation for Fandango_Stars be much lower than the standard deviation for Metacritic_norm_round?\n",
    "> Fandango stars start from 3.0 to 5.0 with 0.5 stepsize while metacritic ranges from 0.5 to 4.5 with 0.5 stepsize (much wider range than Fandango)\n",
    "\n",
    "Why would the mean for Fandango_Stars be much higher than the mean for Metacritic_norm_round?\n",
    "> Possibly because Fandango always rounds up the point to the nearest half.\n"
   ]
  },
  {
   "cell_type": "code",
   "execution_count": null,
   "metadata": {
    "collapsed": true
   },
   "outputs": [],
   "source": []
  },
  {
   "cell_type": "markdown",
   "metadata": {},
   "source": [
    "## Scatter plots"
   ]
  },
  {
   "cell_type": "code",
   "execution_count": 20,
   "metadata": {
    "collapsed": false
   },
   "outputs": [
    {
     "data": {
      "text/plain": [
       "<matplotlib.collections.PathCollection at 0x7f6ebca250f0>"
      ]
     },
     "execution_count": 20,
     "metadata": {},
     "output_type": "execute_result"
    },
    {
     "data": {
      "image/png": "[encoded data removed]",
      "text/plain": [
       "<matplotlib.figure.Figure at 0x7f6ebca4cba8>"
      ]
     },
     "metadata": {},
     "output_type": "display_data"
    }
   ],
   "source": [
    "plt.scatter(movies['Fandango_Stars'], movies['Metacritic_norm_round'])"
   ]
  },
  {
   "cell_type": "markdown",
   "metadata": {},
   "source": [
    "* Top5 movies with the biggest differences between Fandango_Stars and Metacritic_norm_round"
   ]
  },
  {
   "cell_type": "code",
   "execution_count": 23,
   "metadata": {
    "collapsed": false
   },
   "outputs": [
    {
     "data": {
      "text/html": [
       "<div>\n",
       "<table border=\"1\" class=\"dataframe\">\n",
       "  <thead>\n",
       "    <tr style=\"text-align: right;\">\n",
       "      <th></th>\n",
       "      <th>FILM</th>\n",
       "      <th>RottenTomatoes</th>\n",
       "      <th>RottenTomatoes_User</th>\n",
       "      <th>Metacritic</th>\n",
       "      <th>Metacritic_User</th>\n",
       "      <th>IMDB</th>\n",
       "      <th>Fandango_Stars</th>\n",
       "      <th>Fandango_Ratingvalue</th>\n",
       "      <th>RT_norm</th>\n",
       "      <th>RT_user_norm</th>\n",
       "      <th>...</th>\n",
       "      <th>RT_norm_round</th>\n",
       "      <th>RT_user_norm_round</th>\n",
       "      <th>Metacritic_norm_round</th>\n",
       "      <th>Metacritic_user_norm_round</th>\n",
       "      <th>IMDB_norm_round</th>\n",
       "      <th>Metacritic_user_vote_count</th>\n",
       "      <th>IMDB_user_vote_count</th>\n",
       "      <th>Fandango_votes</th>\n",
       "      <th>Fandango_Difference</th>\n",
       "      <th>fm_diff</th>\n",
       "    </tr>\n",
       "  </thead>\n",
       "  <tbody>\n",
       "    <tr>\n",
       "      <th>3</th>\n",
       "      <td>Do You Believe? (2015)</td>\n",
       "      <td>18</td>\n",
       "      <td>84</td>\n",
       "      <td>22</td>\n",
       "      <td>4.7</td>\n",
       "      <td>5.4</td>\n",
       "      <td>5.0</td>\n",
       "      <td>4.5</td>\n",
       "      <td>0.90</td>\n",
       "      <td>4.20</td>\n",
       "      <td>...</td>\n",
       "      <td>1.0</td>\n",
       "      <td>4.0</td>\n",
       "      <td>1.0</td>\n",
       "      <td>2.5</td>\n",
       "      <td>2.5</td>\n",
       "      <td>31</td>\n",
       "      <td>3136</td>\n",
       "      <td>1793</td>\n",
       "      <td>0.5</td>\n",
       "      <td>4.0</td>\n",
       "    </tr>\n",
       "    <tr>\n",
       "      <th>85</th>\n",
       "      <td>Little Boy (2015)</td>\n",
       "      <td>20</td>\n",
       "      <td>81</td>\n",
       "      <td>30</td>\n",
       "      <td>5.9</td>\n",
       "      <td>7.4</td>\n",
       "      <td>4.5</td>\n",
       "      <td>4.3</td>\n",
       "      <td>1.00</td>\n",
       "      <td>4.05</td>\n",
       "      <td>...</td>\n",
       "      <td>1.0</td>\n",
       "      <td>4.0</td>\n",
       "      <td>1.5</td>\n",
       "      <td>3.0</td>\n",
       "      <td>3.5</td>\n",
       "      <td>38</td>\n",
       "      <td>5927</td>\n",
       "      <td>811</td>\n",
       "      <td>0.2</td>\n",
       "      <td>3.0</td>\n",
       "    </tr>\n",
       "    <tr>\n",
       "      <th>47</th>\n",
       "      <td>Annie (2014)</td>\n",
       "      <td>27</td>\n",
       "      <td>61</td>\n",
       "      <td>33</td>\n",
       "      <td>4.8</td>\n",
       "      <td>5.2</td>\n",
       "      <td>4.5</td>\n",
       "      <td>4.2</td>\n",
       "      <td>1.35</td>\n",
       "      <td>3.05</td>\n",
       "      <td>...</td>\n",
       "      <td>1.5</td>\n",
       "      <td>3.0</td>\n",
       "      <td>1.5</td>\n",
       "      <td>2.5</td>\n",
       "      <td>2.5</td>\n",
       "      <td>108</td>\n",
       "      <td>19222</td>\n",
       "      <td>6835</td>\n",
       "      <td>0.3</td>\n",
       "      <td>3.0</td>\n",
       "    </tr>\n",
       "    <tr>\n",
       "      <th>19</th>\n",
       "      <td>Pixels (2015)</td>\n",
       "      <td>17</td>\n",
       "      <td>54</td>\n",
       "      <td>27</td>\n",
       "      <td>5.3</td>\n",
       "      <td>5.6</td>\n",
       "      <td>4.5</td>\n",
       "      <td>4.1</td>\n",
       "      <td>0.85</td>\n",
       "      <td>2.70</td>\n",
       "      <td>...</td>\n",
       "      <td>1.0</td>\n",
       "      <td>2.5</td>\n",
       "      <td>1.5</td>\n",
       "      <td>2.5</td>\n",
       "      <td>3.0</td>\n",
       "      <td>246</td>\n",
       "      <td>19521</td>\n",
       "      <td>3886</td>\n",
       "      <td>0.4</td>\n",
       "      <td>3.0</td>\n",
       "    </tr>\n",
       "    <tr>\n",
       "      <th>134</th>\n",
       "      <td>The Longest Ride (2015)</td>\n",
       "      <td>31</td>\n",
       "      <td>73</td>\n",
       "      <td>33</td>\n",
       "      <td>4.8</td>\n",
       "      <td>7.2</td>\n",
       "      <td>4.5</td>\n",
       "      <td>4.5</td>\n",
       "      <td>1.55</td>\n",
       "      <td>3.65</td>\n",
       "      <td>...</td>\n",
       "      <td>1.5</td>\n",
       "      <td>3.5</td>\n",
       "      <td>1.5</td>\n",
       "      <td>2.5</td>\n",
       "      <td>3.5</td>\n",
       "      <td>49</td>\n",
       "      <td>25214</td>\n",
       "      <td>2603</td>\n",
       "      <td>0.0</td>\n",
       "      <td>3.0</td>\n",
       "    </tr>\n",
       "  </tbody>\n",
       "</table>\n",
       "<p>5 rows × 23 columns</p>\n",
       "</div>"
      ],
      "text/plain": [
       "                        FILM  RottenTomatoes  RottenTomatoes_User  Metacritic  \\\n",
       "3     Do You Believe? (2015)              18                   84          22   \n",
       "85         Little Boy (2015)              20                   81          30   \n",
       "47              Annie (2014)              27                   61          33   \n",
       "19             Pixels (2015)              17                   54          27   \n",
       "134  The Longest Ride (2015)              31                   73          33   \n",
       "\n",
       "     Metacritic_User  IMDB  Fandango_Stars  Fandango_Ratingvalue  RT_norm  \\\n",
       "3                4.7   5.4             5.0                   4.5     0.90   \n",
       "85               5.9   7.4             4.5                   4.3     1.00   \n",
       "47               4.8   5.2             4.5                   4.2     1.35   \n",
       "19               5.3   5.6             4.5                   4.1     0.85   \n",
       "134              4.8   7.2             4.5                   4.5     1.55   \n",
       "\n",
       "     RT_user_norm   ...     RT_norm_round  RT_user_norm_round  \\\n",
       "3            4.20   ...               1.0                 4.0   \n",
       "85           4.05   ...               1.0                 4.0   \n",
       "47           3.05   ...               1.5                 3.0   \n",
       "19           2.70   ...               1.0                 2.5   \n",
       "134          3.65   ...               1.5                 3.5   \n",
       "\n",
       "     Metacritic_norm_round  Metacritic_user_norm_round  IMDB_norm_round  \\\n",
       "3                      1.0                         2.5              2.5   \n",
       "85                     1.5                         3.0              3.5   \n",
       "47                     1.5                         2.5              2.5   \n",
       "19                     1.5                         2.5              3.0   \n",
       "134                    1.5                         2.5              3.5   \n",
       "\n",
       "     Metacritic_user_vote_count  IMDB_user_vote_count  Fandango_votes  \\\n",
       "3                            31                  3136            1793   \n",
       "85                           38                  5927             811   \n",
       "47                          108                 19222            6835   \n",
       "19                          246                 19521            3886   \n",
       "134                          49                 25214            2603   \n",
       "\n",
       "     Fandango_Difference  fm_diff  \n",
       "3                    0.5      4.0  \n",
       "85                   0.2      3.0  \n",
       "47                   0.3      3.0  \n",
       "19                   0.4      3.0  \n",
       "134                  0.0      3.0  \n",
       "\n",
       "[5 rows x 23 columns]"
      ]
     },
     "execution_count": 23,
     "metadata": {},
     "output_type": "execute_result"
    }
   ],
   "source": [
    "movies['fm_diff'] = abs(movies['Metacritic_norm_round'] - movies['Fandango_Stars'])\n",
    "movies.sort_values(by='fm_diff', ascending=False)[:5]"
   ]
  },
  {
   "cell_type": "code",
   "execution_count": null,
   "metadata": {
    "collapsed": true
   },
   "outputs": [],
   "source": []
  },
  {
   "cell_type": "markdown",
   "metadata": {},
   "source": [
    "## Correlations"
   ]
  },
  {
   "cell_type": "code",
   "execution_count": 27,
   "metadata": {
    "collapsed": false
   },
   "outputs": [
    {
     "data": {
      "text/plain": [
       "0.32359058199626706"
      ]
     },
     "execution_count": 27,
     "metadata": {},
     "output_type": "execute_result"
    }
   ],
   "source": [
    "from scipy.stats import pearsonr\n",
    "\n",
    "fm_pearsonr, pval = pearsonr(movies['Fandango_Stars'], movies['Metacritic_user_norm_round'])\n",
    "fm_pearsonr"
   ]
  },
  {
   "cell_type": "markdown",
   "metadata": {},
   "source": [
    "### The correlation is actually fairly low. Why?\n",
    "\n",
    "* It means two values possibly follow different score standards with each other."
   ]
  },
  {
   "cell_type": "code",
   "execution_count": null,
   "metadata": {
    "collapsed": true
   },
   "outputs": [],
   "source": []
  },
  {
   "cell_type": "code",
   "execution_count": 30,
   "metadata": {
    "collapsed": false
   },
   "outputs": [
    {
     "data": {
      "text/plain": [
       "4.0917071528212041"
      ]
     },
     "execution_count": 30,
     "metadata": {},
     "output_type": "execute_result"
    }
   ],
   "source": [
    "from scipy.stats import linregress\n",
    "\n",
    "slope, intercept, rval, pval, std = linregress(movies['Metacritic_norm_round'], movies['Fandango_Stars'])\n",
    "\n",
    "# predict what a movie that a 3.0 in Metacritic would get on Fandango\n",
    "pred_3 = 3 * slope + intercept\n",
    "\n",
    "pred_3"
   ]
  },
  {
   "cell_type": "code",
   "execution_count": null,
   "metadata": {
    "collapsed": true
   },
   "outputs": [],
   "source": []
  },
  {
   "cell_type": "markdown",
   "metadata": {},
   "source": [
    "## Finding residuals"
   ]
  },
  {
   "cell_type": "code",
   "execution_count": 31,
   "metadata": {
    "collapsed": false
   },
   "outputs": [
    {
     "data": {
      "text/plain": [
       "3.897084996873347"
      ]
     },
     "execution_count": 31,
     "metadata": {},
     "output_type": "execute_result"
    }
   ],
   "source": [
    "# predict what a movie that a 1.0 in Metacritic would get on Fandango\n",
    "\n",
    "pred_1 = slope + intercept\n",
    "pred_1"
   ]
  },
  {
   "cell_type": "code",
   "execution_count": 32,
   "metadata": {
    "collapsed": false
   },
   "outputs": [
    {
     "data": {
      "text/plain": [
       "4.2863293087690604"
      ]
     },
     "execution_count": 32,
     "metadata": {},
     "output_type": "execute_result"
    }
   ],
   "source": [
    "# predict what a movie that a 5.0 in Metacritic would get on Fandango\n",
    "pred_5 = 5*slope + intercept\n",
    "pred_5"
   ]
  },
  {
   "cell_type": "code",
   "execution_count": null,
   "metadata": {
    "collapsed": true
   },
   "outputs": [],
   "source": []
  },
  {
   "cell_type": "code",
   "execution_count": 35,
   "metadata": {
    "collapsed": false
   },
   "outputs": [
    {
     "data": {
      "text/plain": [
       "0    0.859637\n",
       "1    0.859637\n",
       "2    0.908293\n",
       "3    1.102915\n",
       "4   -0.445741\n",
       "dtype: float64"
      ]
     },
     "execution_count": 35,
     "metadata": {},
     "output_type": "execute_result"
    }
   ],
   "source": [
    "y_hat = slope*movies['Metacritic_norm_round']+intercept\n",
    "resid = movies['Fandango_Stars'] - y_hat\n",
    "resid[:5]"
   ]
  },
  {
   "cell_type": "code",
   "execution_count": 51,
   "metadata": {
    "collapsed": false,
    "scrolled": true
   },
   "outputs": [
    {
     "data": {
      "image/png": "[encoded data removed]",
      "text/plain": [
       "<matplotlib.figure.Figure at 0x7f6e7a2ace48>"
      ]
     },
     "metadata": {},
     "output_type": "display_data"
    }
   ],
   "source": [
    "plt.scatter(movies['Metacritic_norm_round'], movies['Fandango_Stars'], color='r')\n",
    "plt.scatter(movies['Metacritic_norm_round'], y_hat)\n",
    "plt.plot([1.0, 5.0], [slope+intercept, 5*slope+intercept])\n",
    "plt.xlim(1, 5); plt.show()"
   ]
  },
  {
   "cell_type": "code",
   "execution_count": null,
   "metadata": {
    "collapsed": true
   },
   "outputs": [],
   "source": []
  }
 ],
 "metadata": {
  "kernelspec": {
   "display_name": "Python [default]",
   "language": "python",
   "name": "python3"
  },
  "language_info": {
   "codemirror_mode": {
    "name": "ipython",
    "version": 3
   },
   "file_extension": ".py",
   "mimetype": "text/x-python",
   "name": "python",
   "nbconvert_exporter": "python",
   "pygments_lexer": "ipython3",
   "version": "3.5.4"
  }
 },
 "nbformat": 4,
 "nbformat_minor": 0
}
