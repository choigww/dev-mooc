{
 "cells": [
  {
   "cell_type": "markdown",
   "metadata": {},
   "source": [
    "#파일"
   ]
  },
  {
   "cell_type": "markdown",
   "metadata": {},
   "source": [
    "##저장"
   ]
  },
  {
   "cell_type": "code",
   "execution_count": 1,
   "metadata": {},
   "outputs": [],
   "source": [
    "import pandas as pd"
   ]
  },
  {
   "cell_type": "code",
   "execution_count": 2,
   "metadata": {},
   "outputs": [
    {
     "name": "stdout",
     "output_type": "stream",
     "text": [
      "      algol python SQL\n",
      "name                  \n",
      "Jerry     A      A   A\n",
      "Riah     A+     A+  A+\n",
      "Paul      B      B   B\n"
     ]
    }
   ],
   "source": [
    "data = {'name':['Jerry', 'Riah', 'Paul'],\n",
    "       'algol':['A', 'A+', 'B'],\n",
    "       'python':['A', 'A+', 'B'],\n",
    "       'SQL':['A', 'A+', 'B']}\n",
    "df = pd.DataFrame(data)\n",
    "df.set_index('name', inplace=True)\n",
    "print(df)"
   ]
  },
  {
   "cell_type": "code",
   "execution_count": 3,
   "metadata": {},
   "outputs": [
    {
     "name": "stdout",
     "output_type": "stream",
     "text": [
      "    c1  c2  c3  c4\n",
      "c0                \n",
      "1    4   7  10  13\n",
      "2    5   8  11  14\n",
      "3    6   9  12  15\n"
     ]
    }
   ],
   "source": [
    "data2 = {'c0':[1,2,3],\n",
    "        'c1':[4,5,6],\n",
    "        'c2':[7,8,9],\n",
    "        'c3':[10,11,12],\n",
    "        'c4':[13,14,15]}\n",
    "df2 = pd.DataFrame(data2)\n",
    "df2.set_index('c0', inplace=True)\n",
    "print(df2)"
   ]
  },
  {
   "cell_type": "code",
   "execution_count": 4,
   "metadata": {},
   "outputs": [],
   "source": [
    "df.to_csv('./df_sample.csv')"
   ]
  },
  {
   "cell_type": "code",
   "execution_count": 5,
   "metadata": {},
   "outputs": [],
   "source": [
    "df.to_json('../df_sample.json')"
   ]
  },
  {
   "cell_type": "code",
   "execution_count": 6,
   "metadata": {},
   "outputs": [],
   "source": [
    "df.to_excel('./df_sample.xlsx')"
   ]
  },
  {
   "cell_type": "code",
   "execution_count": 7,
   "metadata": {},
   "outputs": [],
   "source": [
    "writer = pd.ExcelWriter('df_excel_writer.xlsx')\n",
    "df.to_excel(writer, sheet_name='sheet1')\n",
    "df2.to_excel(writer, sheet_name='sheet2')\n",
    "writer.save()"
   ]
  },
  {
   "cell_type": "code",
   "execution_count": 8,
   "metadata": {},
   "outputs": [
    {
     "name": "stdout",
     "output_type": "stream",
     "text": [
      "    name algol python SQL\n",
      "0  Jerry     A      A   A\n",
      "1   Riah    A+     A+  A+\n",
      "2   Paul     B      B   B\n"
     ]
    }
   ],
   "source": [
    "df_read_csv = pd.read_csv('./df_sample.csv')\n",
    "print(df_read_csv)"
   ]
  },
  {
   "cell_type": "code",
   "execution_count": 9,
   "metadata": {},
   "outputs": [
    {
     "name": "stdout",
     "output_type": "stream",
     "text": [
      "       0      1       2    3\n",
      "0   name  algol  python  SQL\n",
      "1  Jerry      A       A    A\n",
      "2   Riah     A+      A+   A+\n",
      "3   Paul      B       B    B\n"
     ]
    }
   ],
   "source": [
    "df_read_csv2 = pd.read_csv('./df_sample.csv', header=None)\n",
    "print(df_read_csv2)"
   ]
  },
  {
   "cell_type": "code",
   "execution_count": 10,
   "metadata": {},
   "outputs": [
    {
     "name": "stdout",
     "output_type": "stream",
     "text": [
      "      algol python SQL\n",
      "name                  \n",
      "Jerry     A      A   A\n",
      "Riah     A+     A+  A+\n",
      "Paul      B      B   B\n"
     ]
    }
   ],
   "source": [
    "#df_read_csv3 = pd.read_csv('./df_sample.csv',\n",
    "#                           index_col=None)\n",
    "df_read_csv3 = pd.read_csv('./df_sample.csv',\n",
    "                           index_col='name')\n",
    "#df_read_csv3 = pd.read_csv('./df_sample.csv')\n",
    "#df_read_csv3.set_index('name', inplace=True)\n",
    "print(df_read_csv3)"
   ]
  },
  {
   "cell_type": "code",
   "execution_count": 11,
   "metadata": {},
   "outputs": [
    {
     "name": "stdout",
     "output_type": "stream",
     "text": [
      "    name algol python SQL\n",
      "0  Jerry     A      A   A\n",
      "1   Riah    A+     A+  A+\n",
      "2   Paul     B      B   B\n"
     ]
    }
   ],
   "source": [
    "df = pd.DataFrame(data)\n",
    "print(df)\n",
    "df.to_csv('./df_sample2.csv')"
   ]
  },
  {
   "cell_type": "code",
   "execution_count": 12,
   "metadata": {},
   "outputs": [
    {
     "data": {
      "text/html": [
       "<div>\n",
       "<style scoped>\n",
       "    .dataframe tbody tr th:only-of-type {\n",
       "        vertical-align: middle;\n",
       "    }\n",
       "\n",
       "    .dataframe tbody tr th {\n",
       "        vertical-align: top;\n",
       "    }\n",
       "\n",
       "    .dataframe thead th {\n",
       "        text-align: right;\n",
       "    }\n",
       "</style>\n",
       "<table border=\"1\" class=\"dataframe\">\n",
       "  <thead>\n",
       "    <tr style=\"text-align: right;\">\n",
       "      <th></th>\n",
       "      <th>Unnamed: 0</th>\n",
       "      <th>name</th>\n",
       "      <th>algol</th>\n",
       "      <th>python</th>\n",
       "      <th>SQL</th>\n",
       "    </tr>\n",
       "  </thead>\n",
       "  <tbody>\n",
       "    <tr>\n",
       "      <th>0</th>\n",
       "      <td>0</td>\n",
       "      <td>Jerry</td>\n",
       "      <td>A</td>\n",
       "      <td>A</td>\n",
       "      <td>A</td>\n",
       "    </tr>\n",
       "    <tr>\n",
       "      <th>1</th>\n",
       "      <td>1</td>\n",
       "      <td>Riah</td>\n",
       "      <td>A+</td>\n",
       "      <td>A+</td>\n",
       "      <td>A+</td>\n",
       "    </tr>\n",
       "    <tr>\n",
       "      <th>2</th>\n",
       "      <td>2</td>\n",
       "      <td>Paul</td>\n",
       "      <td>B</td>\n",
       "      <td>B</td>\n",
       "      <td>B</td>\n",
       "    </tr>\n",
       "  </tbody>\n",
       "</table>\n",
       "</div>"
      ],
      "text/plain": [
       "   Unnamed: 0   name algol python SQL\n",
       "0           0  Jerry     A      A   A\n",
       "1           1   Riah    A+     A+  A+\n",
       "2           2   Paul     B      B   B"
      ]
     },
     "execution_count": 12,
     "metadata": {},
     "output_type": "execute_result"
    }
   ],
   "source": [
    "df = pd.read_csv('./df_sample2.csv')\n",
    "df"
   ]
  },
  {
   "cell_type": "code",
   "execution_count": 13,
   "metadata": {},
   "outputs": [
    {
     "data": {
      "text/html": [
       "<div>\n",
       "<style scoped>\n",
       "    .dataframe tbody tr th:only-of-type {\n",
       "        vertical-align: middle;\n",
       "    }\n",
       "\n",
       "    .dataframe tbody tr th {\n",
       "        vertical-align: top;\n",
       "    }\n",
       "\n",
       "    .dataframe thead th {\n",
       "        text-align: right;\n",
       "    }\n",
       "</style>\n",
       "<table border=\"1\" class=\"dataframe\">\n",
       "  <thead>\n",
       "    <tr style=\"text-align: right;\">\n",
       "      <th></th>\n",
       "      <th>name</th>\n",
       "      <th>algol</th>\n",
       "      <th>python</th>\n",
       "      <th>SQL</th>\n",
       "    </tr>\n",
       "  </thead>\n",
       "  <tbody>\n",
       "    <tr>\n",
       "      <th>0</th>\n",
       "      <td>Jerry</td>\n",
       "      <td>A</td>\n",
       "      <td>A</td>\n",
       "      <td>A</td>\n",
       "    </tr>\n",
       "    <tr>\n",
       "      <th>1</th>\n",
       "      <td>Riah</td>\n",
       "      <td>A+</td>\n",
       "      <td>A+</td>\n",
       "      <td>A+</td>\n",
       "    </tr>\n",
       "    <tr>\n",
       "      <th>2</th>\n",
       "      <td>Paul</td>\n",
       "      <td>B</td>\n",
       "      <td>B</td>\n",
       "      <td>B</td>\n",
       "    </tr>\n",
       "  </tbody>\n",
       "</table>\n",
       "</div>"
      ],
      "text/plain": [
       "    name algol python SQL\n",
       "0  Jerry     A      A   A\n",
       "1   Riah    A+     A+  A+\n",
       "2   Paul     B      B   B"
      ]
     },
     "execution_count": 13,
     "metadata": {},
     "output_type": "execute_result"
    }
   ],
   "source": [
    "df = pd.read_csv('./df_sample2.csv', index_col=0)\n",
    "df"
   ]
  },
  {
   "cell_type": "code",
   "execution_count": 14,
   "metadata": {},
   "outputs": [
    {
     "name": "stdout",
     "output_type": "stream",
     "text": [
      "    name algol python SQL\n",
      "0  Jerry     A      A   A\n",
      "1   Riah    A+     A+  A+\n",
      "2   Paul     B      B   B\n"
     ]
    }
   ],
   "source": [
    "df_excel1 = pd.read_excel('./df_sample.xlsx',\n",
    "                          engine='openpyxl')\n",
    "print(df_excel1)"
   ]
  },
  {
   "cell_type": "code",
   "execution_count": 15,
   "metadata": {},
   "outputs": [
    {
     "name": "stdout",
     "output_type": "stream",
     "text": [
      "       0      1       2    3\n",
      "0   name  algol  python  SQL\n",
      "1  Jerry      A       A    A\n",
      "2   Riah     A+      A+   A+\n",
      "3   Paul      B       B    B\n"
     ]
    }
   ],
   "source": [
    "df_excel1 = pd.read_excel('./df_sample.xlsx',\n",
    "                          engine='openpyxl',\n",
    "                         header=None)\n",
    "print(df_excel1)"
   ]
  },
  {
   "cell_type": "code",
   "execution_count": 16,
   "metadata": {},
   "outputs": [
    {
     "name": "stdout",
     "output_type": "stream",
     "text": [
      "      algol python SQL\n",
      "name                  \n",
      "Jerry     A      A   A\n",
      "Riah     A+     A+  A+\n",
      "Paul      B      B   B\n"
     ]
    }
   ],
   "source": [
    "df_excel1 = pd.read_excel('./df_sample.xlsx',\n",
    "                          engine='openpyxl',\n",
    "                         index_col='name')\n",
    "print(df_excel1)"
   ]
  },
  {
   "cell_type": "code",
   "execution_count": 17,
   "metadata": {},
   "outputs": [
    {
     "name": "stdout",
     "output_type": "stream",
     "text": [
      "      algol python SQL\n",
      "Jerry     A      A   A\n",
      "Riah     A+     A+  A+\n",
      "Paul      B      B   B\n"
     ]
    }
   ],
   "source": [
    "df_json1 = pd.read_json('../df_sample.json')\n",
    "print(df_json1)"
   ]
  },
  {
   "cell_type": "code",
   "execution_count": 20,
   "metadata": {},
   "outputs": [
    {
     "name": "stdout",
     "output_type": "stream",
     "text": [
      "2\n"
     ]
    }
   ],
   "source": [
    "tabels1 = pd.read_html('./sample.html')\n",
    "print(len(tabels1))"
   ]
  },
  {
   "cell_type": "code",
   "execution_count": 21,
   "metadata": {},
   "outputs": [
    {
     "name": "stdout",
     "output_type": "stream",
     "text": [
      "   Unnamed: 0  c0  c1  c2  c3\n",
      "0           0   0   1   4   7\n",
      "1           1   1   2   5   8\n",
      "2           2   2   3   6   9\n",
      "         name  year        developer  opensource\n",
      "0       NumPy  2006  Travis Oliphant        True\n",
      "1  matplotlib  2003   John D. Hunter        True\n",
      "2      pandas  2008    Wes Mckinneye        True\n"
     ]
    }
   ],
   "source": [
    "for i in range(len(tabels1)):\n",
    "    print(tabels1[i])"
   ]
  },
  {
   "cell_type": "code",
   "execution_count": 25,
   "metadata": {},
   "outputs": [
    {
     "name": "stdout",
     "output_type": "stream",
     "text": [
      "<class 'list'>\n",
      "<class 'pandas.core.frame.DataFrame'>\n"
     ]
    }
   ],
   "source": [
    "print(type(tabels1))\n",
    "print(type(tabels1[0]))"
   ]
  },
  {
   "cell_type": "code",
   "execution_count": 27,
   "metadata": {},
   "outputs": [
    {
     "name": "stdout",
     "output_type": "stream",
     "text": [
      "2\n"
     ]
    }
   ],
   "source": [
    "tabels2 = pd.read_html(\n",
    "'https://www.w3schools.com/html/html_tables.asp')\n",
    "print(len(tabels2))"
   ]
  },
  {
   "cell_type": "code",
   "execution_count": 28,
   "metadata": {},
   "outputs": [
    {
     "name": "stdout",
     "output_type": "stream",
     "text": [
      "                        Company           Contact  Country\n",
      "0           Alfreds Futterkiste      Maria Anders  Germany\n",
      "1    Centro comercial Moctezuma   Francisco Chang   Mexico\n",
      "2                  Ernst Handel     Roland Mendel  Austria\n",
      "3                Island Trading     Helen Bennett       UK\n",
      "4  Laughing Bacchus Winecellars   Yoshi Tannamuri   Canada\n",
      "5  Magazzini Alimentari Riuniti  Giovanni Rovelli    Italy\n"
     ]
    }
   ],
   "source": [
    "print(tabels2[0])"
   ]
  },
  {
   "cell_type": "code",
   "execution_count": 29,
   "metadata": {},
   "outputs": [
    {
     "name": "stdout",
     "output_type": "stream",
     "text": [
      "          Tag                                        Description\n",
      "0     <table>                                    Defines a table\n",
      "1        <th>                   Defines a header cell in a table\n",
      "2        <tr>                           Defines a row in a table\n",
      "3        <td>                          Defines a cell in a table\n",
      "4   <caption>                            Defines a table caption\n",
      "5  <colgroup>  Specifies a group of one or more columns in a ...\n",
      "6       <col>  Specifies column properties for each column wi...\n",
      "7     <thead>               Groups the header content in a table\n",
      "8     <tbody>                 Groups the body content in a table\n",
      "9     <tfoot>               Groups the footer content in a table\n"
     ]
    }
   ],
   "source": [
    "print(tabels2[1])"
   ]
  },
  {
   "cell_type": "code",
   "execution_count": 59,
   "metadata": {},
   "outputs": [
    {
     "name": "stdout",
     "output_type": "stream",
     "text": [
      "            날짜      종가    전일비      시가      고가      저가         거래량\n",
      "0          NaN     NaN    NaN     NaN     NaN     NaN         NaN\n",
      "1   2021.01.07  2160.0  495.0  1665.0  2160.0  1635.0  18034441.0\n",
      "2   2021.01.06  1665.0   75.0  1590.0  1665.0  1580.0    505419.0\n",
      "3   2021.01.05  1590.0   15.0  1575.0  1590.0  1560.0    209960.0\n",
      "4   2021.01.04  1575.0   10.0  1595.0  1595.0  1565.0    151031.0\n",
      "5   2020.12.30  1565.0   50.0  1535.0  1575.0  1530.0    234397.0\n",
      "6          NaN     NaN    NaN     NaN     NaN     NaN         NaN\n",
      "7          NaN     NaN    NaN     NaN     NaN     NaN         NaN\n",
      "8          NaN     NaN    NaN     NaN     NaN     NaN         NaN\n",
      "9   2020.12.29  1515.0    5.0  1515.0  1560.0  1500.0    116080.0\n",
      "10  2020.12.28  1510.0   55.0  1560.0  1590.0  1495.0    200256.0\n",
      "11  2020.12.24  1565.0   35.0  1540.0  1580.0  1520.0    205661.0\n",
      "12  2020.12.23  1530.0    0.0  1530.0  1555.0  1510.0    142346.0\n",
      "13  2020.12.22  1530.0   50.0  1580.0  1590.0  1530.0    219925.0\n",
      "14         NaN     NaN    NaN     NaN     NaN     NaN         NaN\n"
     ]
    }
   ],
   "source": [
    "tabels3 = pd.read_html(\n",
    "    'https://finance.naver.com/item/sise_day.nhn?code=040610',\n",
    "    encoding='euc-kr')\n",
    "print(tabels3[-2])"
   ]
  },
  {
   "cell_type": "code",
   "execution_count": 38,
   "metadata": {},
   "outputs": [],
   "source": [
    "from bs4 import BeautifulSoup\n",
    "import requests\n",
    "import re"
   ]
  },
  {
   "cell_type": "code",
   "execution_count": 100,
   "metadata": {},
   "outputs": [
    {
     "name": "stdout",
     "output_type": "stream",
     "text": [
      "467\n",
      "<li>iShares Core S&amp;P Total US Stock Mkt (NYSE Arca|ITOT)</li>\n"
     ]
    }
   ],
   "source": [
    "url_list_tag = 'https://en.wikipedia.org/wiki/List_of_American_exchange-traded_funds'\n",
    "resp = requests.get(url_list_tag)\n",
    "soup = BeautifulSoup(resp.text, 'lxml')\n",
    "#print(soup)\n",
    "rows = soup.select('div > ul > li')\n",
    "#print(rows)\n",
    "print(len(rows))\n",
    "print(rows[10])"
   ]
  },
  {
   "cell_type": "code",
   "execution_count": 104,
   "metadata": {},
   "outputs": [
    {
     "name": "stdout",
     "output_type": "stream",
     "text": [
      "['iShares Core S&P Total US Stock Mkt']\n",
      "['NYSE Arca']\n",
      "ITOT\n"
     ]
    }
   ],
   "source": [
    "etf_name = re.findall('^(.*) \\(NYSE', rows[10].text)\n",
    "print(etf_name)\n",
    "etf_market = re.findall('\\((.*)\\|', rows[10].text)\n",
    "print(etf_market)\n",
    "etf_ticker = re.findall('NYSE Arca\\|(.*)\\)', rows[10].text)\n",
    "print(etf_ticker)"
   ]
  },
  {
   "cell_type": "code",
   "execution_count": 109,
   "metadata": {},
   "outputs": [
    {
     "name": "stdout",
     "output_type": "stream",
     "text": [
      "<class 'str'>\n"
     ]
    }
   ],
   "source": [
    "print(type(etf_ticker[0]))"
   ]
  },
  {
   "cell_type": "code",
   "execution_count": 97,
   "metadata": {},
   "outputs": [
    {
     "name": "stdout",
     "output_type": "stream",
     "text": [
      "|\n"
     ]
    }
   ],
   "source": [
    "print('|')"
   ]
  },
  {
   "cell_type": "code",
   "execution_count": 103,
   "metadata": {},
   "outputs": [
    {
     "ename": "TypeError",
     "evalue": "unhashable type: 'list'",
     "output_type": "error",
     "traceback": [
      "\u001b[1;31m---------------------------------------------------------------------------\u001b[0m",
      "\u001b[1;31mTypeError\u001b[0m                                 Traceback (most recent call last)",
      "\u001b[1;32m<ipython-input-103-f1dbe27833e0>\u001b[0m in \u001b[0;36m<module>\u001b[1;34m\u001b[0m\n\u001b[0;32m      7\u001b[0m                             row.text)\n\u001b[0;32m      8\u001b[0m     \u001b[1;32mif\u001b[0m \u001b[1;33m(\u001b[0m\u001b[0mlen\u001b[0m\u001b[1;33m(\u001b[0m\u001b[0metf_name\u001b[0m\u001b[1;33m)\u001b[0m \u001b[1;33m>\u001b[0m \u001b[1;36m0\u001b[0m\u001b[1;33m)\u001b[0m \u001b[1;33m&\u001b[0m \u001b[1;33m(\u001b[0m\u001b[0mlen\u001b[0m\u001b[1;33m(\u001b[0m\u001b[0metf_market\u001b[0m\u001b[1;33m)\u001b[0m \u001b[1;33m>\u001b[0m \u001b[1;36m0\u001b[0m\u001b[1;33m)\u001b[0m \u001b[1;33m&\u001b[0m \u001b[1;33m(\u001b[0m\u001b[0mlen\u001b[0m\u001b[1;33m(\u001b[0m\u001b[0metf_ticker\u001b[0m\u001b[1;33m)\u001b[0m \u001b[1;33m>\u001b[0m \u001b[1;36m0\u001b[0m\u001b[1;33m)\u001b[0m\u001b[1;33m:\u001b[0m\u001b[1;33m\u001b[0m\u001b[1;33m\u001b[0m\u001b[0m\n\u001b[1;32m----> 9\u001b[1;33m         \u001b[0metfs\u001b[0m\u001b[1;33m[\u001b[0m\u001b[0metf_ticker\u001b[0m\u001b[1;33m]\u001b[0m \u001b[1;33m=\u001b[0m \u001b[1;33m[\u001b[0m\u001b[0metf_market\u001b[0m\u001b[1;33m[\u001b[0m\u001b[1;36m0\u001b[0m\u001b[1;33m]\u001b[0m\u001b[1;33m,\u001b[0m \u001b[0metf_name\u001b[0m\u001b[1;33m[\u001b[0m\u001b[1;36m0\u001b[0m\u001b[1;33m]\u001b[0m\u001b[1;33m]\u001b[0m\u001b[1;33m\u001b[0m\u001b[1;33m\u001b[0m\u001b[0m\n\u001b[0m\u001b[0;32m     10\u001b[0m \u001b[0mprint\u001b[0m\u001b[1;33m(\u001b[0m\u001b[0metfs\u001b[0m\u001b[1;33m)\u001b[0m\u001b[1;33m\u001b[0m\u001b[1;33m\u001b[0m\u001b[0m\n",
      "\u001b[1;31mTypeError\u001b[0m: unhashable type: 'list'"
     ]
    }
   ],
   "source": [
    "etfs = {}\n",
    "etf_names = []\n",
    "for row in rows:\n",
    "    etf_name = re.findall('^(.*) \\(NYSE', row.text)\n",
    "    etf_market = re.findall('\\((.*)\\|', row.text)\n",
    "    etf_ticker = re.findall('NYSE Arca\\|(.*)\\)', \n",
    "                            row.text)\n",
    "    if (len(etf_name) > 0) & (len(etf_market) > 0) & (len(etf_ticker) > 0):\n",
    "        etfs[etf_ticker[0]] = [etf_market[0], etf_name[0]]\n",
    "print(etfs)"
   ]
  },
  {
   "cell_type": "code",
   "execution_count": 102,
   "metadata": {},
   "outputs": [
    {
     "name": "stdout",
     "output_type": "stream",
     "text": [
      "         market                                            name\n",
      "ITOT  NYSE Arca             iShares Core S&P Total US Stock Mkt\n",
      "IWV   NYSE Arca                      iShares Russell 3000 Index\n",
      "SCHB  NYSE Arca                      Schwab US Broad Market ETF\n",
      "FNDB  NYSE Arca  Schwab Fundamental U.S. Broad Market Index ETF\n",
      "VT    NYSE Arca                      Vanguard Total World Stock\n",
      "...         ...                                             ...\n",
      "EU    NYSE Arca                       WisdomTree Euro Debt Fund\n",
      "ICB   NYSE Arca                 WisdomTree Dreyfus Indian Rupee\n",
      "RRF   NYSE Arca                   WisdomTree Global Real Return\n",
      "USDU  NYSE Arca   WisdomTree Bloomberg U.S. Dollar Bullish Fund\n",
      "WDTI  NYSE Arca        WisdomTree Managed Futures Strategy Fund\n",
      "\n",
      "[382 rows x 2 columns]\n"
     ]
    }
   ],
   "source": [
    "df_li = pd.DataFrame(etfs, index=['market', 'name'])\n",
    "print(df_li.T)"
   ]
  },
  {
   "cell_type": "code",
   "execution_count": null,
   "metadata": {},
   "outputs": [],
   "source": []
  }
 ],
 "metadata": {
  "kernelspec": {
   "display_name": "Python 3",
   "language": "python",
   "name": "python3"
  },
  "language_info": {
   "codemirror_mode": {
    "name": "ipython",
    "version": 3
   },
   "file_extension": ".py",
   "mimetype": "text/x-python",
   "name": "python",
   "nbconvert_exporter": "python",
   "pygments_lexer": "ipython3",
   "version": "3.8.5"
  }
 },
 "nbformat": 4,
 "nbformat_minor": 4
}
