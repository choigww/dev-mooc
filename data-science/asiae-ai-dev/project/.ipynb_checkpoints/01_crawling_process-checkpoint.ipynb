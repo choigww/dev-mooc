{
 "cells": [
  {
   "cell_type": "code",
   "execution_count": 24,
   "metadata": {},
   "outputs": [],
   "source": [
    "import pandas as pd\n",
    "import numpy as np\n",
    "import matplotlib.pyplot as plt\n",
    "from selenium import webdriver\n",
    "import time\n",
    "import math"
   ]
  },
  {
   "cell_type": "markdown",
   "metadata": {},
   "source": [
    "# 크롬드라이버\n",
    "* Headless\n",
    "    - 홈페이지 운영 측에서는 크롤러가 웹사이트 트래픽을 소모하는 것을 싫어함\n",
    "    - headless 브라우저로 웹사이트 접근 시 IP 차단 등 접근 불가될 수 있음\n",
    "    - headless임을 숨기기 위해 UserAgent 값을 숨길 수 있음\n",
    "        - (코드) https://blog.naver.com/baek2sm/221425659595\n",
    "        - 그러나 탐지될 수 있음을 염두에 둘 것"
   ]
  },
  {
   "cell_type": "code",
   "execution_count": 60,
   "metadata": {},
   "outputs": [],
   "source": [
    "def chromedriver_ready():\n",
    "    chrome_options = webdriver.ChromeOptions()\n",
    "    #chrome_options.add_argument('headless')\n",
    "    chrome_options.add_argument('--disable-gpu')\n",
    "    chrome_options.add_argument('lang=ko_KR')\n",
    "    return webdriver.Chrome('/usr/local/bin/chromedriver', options=chrome_options)"
   ]
  },
  {
   "cell_type": "code",
   "execution_count": null,
   "metadata": {},
   "outputs": [],
   "source": [
    "driver = chromedriver_ready()"
   ]
  },
  {
   "cell_type": "code",
   "execution_count": 41,
   "metadata": {},
   "outputs": [],
   "source": [
    "url = 'https://movie.naver.com/movie/sdb/browsing/bmovie.nhn?year=2019'\n",
    "driver.get(url)\n",
    "titles = [driver.find_element_by_xpath(f'//*[@id=\"old_content\"]/ul/li[{i}]/a').text\n",
    "          for i in range(1, 21)]"
   ]
  },
  {
   "cell_type": "code",
   "execution_count": 42,
   "metadata": {},
   "outputs": [
    {
     "data": {
      "text/plain": [
       "['1 아웃 오브 30 (1 out of 30)',\n",
       " '10 마일즈 아웃 (10 Miles Out)',\n",
       " '10 미니츠 곤 (10 Minutes Gone)',\n",
       " '10 미니츠 포 어 파운드 (10 MINUTES FOR A POUND)',\n",
       " '100 이어스 프롬 홈 (100 Years from Home)',\n",
       " '1000 드림스: 젠티 디 인빈서블 (1000 Dreams: Zenti the Invincible)',\n",
       " '108명의 여자와 섹스하는 방법 (108: REVENGE AND ADVENTURE OF GORO KAIBA)',\n",
       " '110% 어니스트 (110% Honest)',\n",
       " '11:50',\n",
       " '12 K. 막스 스트리트 (12 K. Marx Street)',\n",
       " '12명의 죽고 싶은 아이들 (12 Suicidal Teens)',\n",
       " '13 그레이브스 (13 Graves)',\n",
       " '13+',\n",
       " '13,000 피트의 앤 (Anne at 13,000 ft)',\n",
       " '13살 병관이 (13 Year Old Byeong-guan)',\n",
       " '13일의 금요일 : 음모론의 시작 (Friday the 13th : The Conspiracy Begins)',\n",
       " '14 데이즈, 12 나이츠 (14 Days 12 Nights)',\n",
       " '143 사하라 스트리트 (143 sahara street)',\n",
       " '143.89 - 0Km',\n",
       " '16 디셈버 (16 December)']"
      ]
     },
     "execution_count": 42,
     "metadata": {},
     "output_type": "execute_result"
    }
   ],
   "source": [
    "titles"
   ]
  },
  {
   "cell_type": "code",
   "execution_count": 43,
   "metadata": {},
   "outputs": [],
   "source": [
    "driver.find_element_by_xpath(\n",
    "    '//*[@id=\"old_content\"]/ul/li['+str(3)+']/a'\n",
    ").click() # 영화제목 클릭"
   ]
  },
  {
   "cell_type": "code",
   "execution_count": 44,
   "metadata": {},
   "outputs": [],
   "source": [
    "driver.find_element_by_xpath(\n",
    "    '//*[@id=\"movieEndTabMenu\"]/li[6]/a/em'\n",
    ").click() # 리뷰버튼 클릭"
   ]
  },
  {
   "cell_type": "code",
   "execution_count": 45,
   "metadata": {},
   "outputs": [
    {
     "name": "stdout",
     "output_type": "stream",
     "text": [
      "2 1\n"
     ]
    }
   ],
   "source": [
    "# 리뷰 갯수\n",
    "review_len = driver.find_element_by_xpath('//*[@id=\"reviewTab\"]/div/div/div[2]/span/em').text\n",
    "review_len = int(review_len.replace(',', ''))\n",
    "page_len = math.ceil(review_len / 10)\n",
    "\n",
    "print(review_len, page_len)"
   ]
  },
  {
   "cell_type": "code",
   "execution_count": 39,
   "metadata": {},
   "outputs": [
    {
     "data": {
      "text/plain": [
       "('10 미니츠 곤 ,10 Minutes Gone, 2019 ☆', '10 미니츠 곤 10 Minutes Gone, 2019')"
      ]
     },
     "execution_count": 39,
     "metadata": {},
     "output_type": "execute_result"
    }
   ],
   "source": [
    "# 리뷰 타이틀 가져오기\n",
    "review_title1 = driver.find_element_by_xpath('//*[@id=\"reviewTab\"]/div/div/ul/li[1]/a/strong').text\n",
    "review_title2 = driver.find_element_by_xpath('//*[@id=\"reviewTab\"]/div/div/ul/li[2]/a/strong').text\n",
    "\n",
    "review_title1, review_title2"
   ]
  },
  {
   "cell_type": "code",
   "execution_count": null,
   "metadata": {},
   "outputs": [],
   "source": []
  },
  {
   "cell_type": "markdown",
   "metadata": {},
   "source": [
    "# 기생충"
   ]
  },
  {
   "cell_type": "code",
   "execution_count": 79,
   "metadata": {
    "scrolled": true
   },
   "outputs": [],
   "source": [
    "driver = chromedriver_ready()\n",
    "url = 'https://movie.naver.com/movie/bi/mi/basic.nhn?code=161967'\n",
    "driver.get(url)"
   ]
  },
  {
   "cell_type": "code",
   "execution_count": 80,
   "metadata": {},
   "outputs": [],
   "source": [
    "review_btn = '//*[@id=\"movieEndTabMenu\"]/li[6]/a/em'\n",
    "driver.find_element_by_xpath(review_btn).click()"
   ]
  },
  {
   "cell_type": "code",
   "execution_count": 76,
   "metadata": {},
   "outputs": [],
   "source": [
    "review_post_format = '//*[@id=\"reviewTab\"]/div/div/ul/li[1]/a/strong'.split('1')"
   ]
  },
  {
   "cell_type": "code",
   "execution_count": 123,
   "metadata": {},
   "outputs": [],
   "source": [
    "def get_naver_movie_reviews_1p():\n",
    "    reviews = []\n",
    "    for i in range(1, 11):\n",
    "        \n",
    "        try:\n",
    "            post_title_xpath = review_post_format[0] + str(i) + review_post_format[1]\n",
    "            driver.find_element_by_xpath(post_title_xpath).click()\n",
    "            \n",
    "            time.sleep(1)\n",
    "            \n",
    "            print(str(i)+'s', end=' ')\n",
    "\n",
    "            post_text_xpath = '//*[@id=\"content\"]/div[1]/div[4]/div[1]/div[4]'\n",
    "            txt = driver.find_element_by_xpath(post_text_xpath).text\n",
    "            reviews.append(txt)\n",
    "        \n",
    "        except:\n",
    "            print(str(i)+'f', end=' ')\n",
    "            pass\n",
    "        \n",
    "        driver.back()\n",
    "        time.sleep(1)\n",
    "    \n",
    "    print('\\n')\n",
    "    return reviews"
   ]
  },
  {
   "cell_type": "code",
   "execution_count": 83,
   "metadata": {},
   "outputs": [
    {
     "name": "stdout",
     "output_type": "stream",
     "text": [
      "//*[@id=\"reviewTab\"]/div/div/ul/li[1]/a/strong\n",
      "//*[@id=\"reviewTab\"]/div/div/ul/li[2]/a/strong\n",
      "//*[@id=\"reviewTab\"]/div/div/ul/li[3]/a/strong\n",
      "//*[@id=\"reviewTab\"]/div/div/ul/li[4]/a/strong\n",
      "//*[@id=\"reviewTab\"]/div/div/ul/li[5]/a/strong\n",
      "//*[@id=\"reviewTab\"]/div/div/ul/li[6]/a/strong\n",
      "//*[@id=\"reviewTab\"]/div/div/ul/li[7]/a/strong\n",
      "//*[@id=\"reviewTab\"]/div/div/ul/li[8]/a/strong\n",
      "//*[@id=\"reviewTab\"]/div/div/ul/li[9]/a/strong\n",
      "//*[@id=\"reviewTab\"]/div/div/ul/li[10]/a/strong\n"
     ]
    }
   ],
   "source": [
    "reviews = get_naver_movie_reviews_1p()"
   ]
  },
  {
   "cell_type": "code",
   "execution_count": null,
   "metadata": {},
   "outputs": [],
   "source": []
  },
  {
   "cell_type": "markdown",
   "metadata": {},
   "source": [
    "### 페이지 버튼으로 접근하기"
   ]
  },
  {
   "cell_type": "code",
   "execution_count": 98,
   "metadata": {},
   "outputs": [],
   "source": [
    "def get_naver_movie_reviews_10p():\n",
    "    reviews_10p = []\n",
    "    \n",
    "    for i in range(1, 11):\n",
    "        \n",
    "        # click page button\n",
    "        pg_btn_xpath = '//*[@id=\"pagerTagAnchor1\"]'.split('1')\n",
    "        driver.find_element_by_xpath(pg_btn_xpath[0] + str(i) + pg_btn_xpath[1]).click()        \n",
    "        print('click success')\n",
    "        \n",
    "        # get all review texts in current page\n",
    "        reviews_10p.append(get_naver_movie_reviews_1p())\n",
    "        \n",
    "    # return 10p reviews\n",
    "    return reviews_10p"
   ]
  },
  {
   "cell_type": "code",
   "execution_count": 99,
   "metadata": {},
   "outputs": [
    {
     "name": "stdout",
     "output_type": "stream",
     "text": [
      "click success\n",
      "click success\n",
      "click success\n",
      "click success\n",
      "click success\n",
      "click success\n",
      "click success\n",
      "click success\n",
      "click success\n",
      "click success\n"
     ]
    }
   ],
   "source": [
    "reviews_10p = get_naver_movie_reviews_10p()"
   ]
  },
  {
   "cell_type": "code",
   "execution_count": null,
   "metadata": {},
   "outputs": [],
   "source": []
  },
  {
   "cell_type": "markdown",
   "metadata": {},
   "source": [
    "### 페이지 주소로 접근하기"
   ]
  },
  {
   "cell_type": "code",
   "execution_count": 124,
   "metadata": {},
   "outputs": [],
   "source": [
    "def get_naver_movie_reviews_10p_2():\n",
    "    reviews_10p = []\n",
    "    review_webp_url = 'https://movie.naver.com/movie/bi/mi/review.nhn?code=161967&page='\n",
    "    \n",
    "    for i in range(1, 11):\n",
    "        \n",
    "        # go to review webpage\n",
    "        driver.get(review_webp_url + str(i))\n",
    "        print('page', i)\n",
    "        \n",
    "        time.sleep(1)\n",
    "        \n",
    "        # get all review texts in current page\n",
    "        reviews_10p.append(get_naver_movie_reviews_1p())\n",
    "        \n",
    "    # return 10p reviews\n",
    "    return reviews_10p"
   ]
  },
  {
   "cell_type": "code",
   "execution_count": 125,
   "metadata": {
    "scrolled": false
   },
   "outputs": [
    {
     "name": "stdout",
     "output_type": "stream",
     "text": [
      "page 1\n",
      "1s 2s 3s 4s 5s 6s 7s 8s 9s 10s \n",
      "\n",
      "page 2\n",
      "1s 2s 3s 4s 5s 6s 7s 8s 9s 10s \n",
      "\n",
      "page 3\n",
      "1s 2s 3s 4s 5s 6s 7s 8s 9s 10s \n",
      "\n",
      "page 4\n",
      "1s 2s 3s 4s 5s 6s 7s 8s 9s 10s \n",
      "\n",
      "page 5\n",
      "1s 2s 3s 4s 5s 6s 6f 7s 8s 9s 10s \n",
      "\n",
      "page 6\n",
      "1s 2s 3s 4s 5s 6s 7s 8s 9s 10s \n",
      "\n",
      "page 7\n",
      "1s 2s 3s 4s 5s 6s 7s 7f 8s 9s 10s \n",
      "\n",
      "page 8\n",
      "1s 2s 3s 4s 5s 6s 7s 8s 9s 10s \n",
      "\n",
      "page 9\n",
      "1s 2s 3s 4s 4f 5s 6s 7s 8s 9s 10s \n",
      "\n",
      "page 10\n",
      "1s 2s 3s 4s 5s 6s 7s 8s 9s 10s \n",
      "\n"
     ]
    }
   ],
   "source": [
    "reviews_10p_2 = get_naver_movie_reviews_10p_2()"
   ]
  },
  {
   "cell_type": "code",
   "execution_count": 127,
   "metadata": {},
   "outputs": [
    {
     "data": {
      "text/plain": [
       "\"송강호 사투리 쓰는 가난한 아이 아빠로 나와서 \\n부자집 가족한테 '너희는 사회를 좀먹는 기생충이야!' 뭐 이런식으로\\n치욕받다가 '우리도 사람입니다! 같은 사람이라구요!'\\n이러면서 감성팔이 한번해주고\\n돈보다는 가족의 사랑이 먼저다~ 이런 개똥 교훈 주면서 끝내겠네.\\n송강호는 연기를 잘한다고하는데 연기 스펙트럼이 너무 좁음.\\n맨날 똑같은 연기. 할리우드 영화는 배우가 역할에 맞춰 자신을 바꾸고 연기를 하는데\\n한국은 유명한 배우 몇명에 맞는 배역을 만들어줌.\\n기득권 적폐란게 따로있는게 아니지.\""
      ]
     },
     "execution_count": 127,
     "metadata": {},
     "output_type": "execute_result"
    }
   ],
   "source": [
    "reviews_10p_2[0][0]"
   ]
  },
  {
   "cell_type": "code",
   "execution_count": null,
   "metadata": {},
   "outputs": [],
   "source": []
  },
  {
   "cell_type": "code",
   "execution_count": null,
   "metadata": {},
   "outputs": [],
   "source": []
  },
  {
   "cell_type": "code",
   "execution_count": null,
   "metadata": {},
   "outputs": [],
   "source": []
  },
  {
   "cell_type": "code",
   "execution_count": null,
   "metadata": {},
   "outputs": [],
   "source": []
  },
  {
   "cell_type": "code",
   "execution_count": null,
   "metadata": {},
   "outputs": [],
   "source": []
  },
  {
   "cell_type": "code",
   "execution_count": null,
   "metadata": {},
   "outputs": [],
   "source": []
  },
  {
   "cell_type": "code",
   "execution_count": null,
   "metadata": {},
   "outputs": [],
   "source": []
  },
  {
   "cell_type": "code",
   "execution_count": null,
   "metadata": {},
   "outputs": [],
   "source": []
  }
 ],
 "metadata": {
  "kernelspec": {
   "display_name": "Python 3",
   "language": "python",
   "name": "python3"
  },
  "language_info": {
   "codemirror_mode": {
    "name": "ipython",
    "version": 3
   },
   "file_extension": ".py",
   "mimetype": "text/x-python",
   "name": "python",
   "nbconvert_exporter": "python",
   "pygments_lexer": "ipython3",
   "version": "3.7.9"
  }
 },
 "nbformat": 4,
 "nbformat_minor": 4
}
