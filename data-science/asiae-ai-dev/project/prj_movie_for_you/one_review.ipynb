{
 "cells": [
  {
   "cell_type": "code",
   "execution_count": 1,
   "metadata": {},
   "outputs": [],
   "source": [
    "import pandas as pd"
   ]
  },
  {
   "cell_type": "code",
   "execution_count": 2,
   "metadata": {},
   "outputs": [],
   "source": [
    "df = pd.read_csv('./csv/cleaned_movie_review_2019_3.csv', index_col=0)"
   ]
  },
  {
   "cell_type": "code",
   "execution_count": 7,
   "metadata": {},
   "outputs": [
    {
     "data": {
      "text/plain": [
       "1917 (1917)                                                     183\n",
       "21 브릿지: 테러 셧다운 (21 Bridges)                                      30\n",
       "1919 유관순                                                         28\n",
       "12명의 죽고 싶은 아이들 (12 Suicidal Teens)                                6\n",
       "1918: 크루티 대전투 (Kruty 1918)                                        5\n",
       "1942: 언노운 배틀 (Unknown Battle)                                     5\n",
       "16세의 사운드트랙 (Soundtrack to Sixteen)                                4\n",
       "10 미니츠 곤 (10 Minutes Gone)                                        2\n",
       "1945: 포인트 오브 노 리턴 (The Eastern Front: Point of No Return)         2\n",
       "13일의 금요일 : 음모론의 시작 (Friday the 13th : The Conspiracy Begins)      1\n",
       "108명의 여자와 섹스하는 방법 (108: REVENGE AND ADVENTURE OF GORO KAIBA)      1\n",
       "Name: title, dtype: int64"
      ]
     },
     "execution_count": 7,
     "metadata": {},
     "output_type": "execute_result"
    }
   ],
   "source": [
    "df['title'].value_counts()"
   ]
  },
  {
   "cell_type": "code",
   "execution_count": 11,
   "metadata": {},
   "outputs": [
    {
     "data": {
      "text/html": [
       "<div>\n",
       "<style scoped>\n",
       "    .dataframe tbody tr th:only-of-type {\n",
       "        vertical-align: middle;\n",
       "    }\n",
       "\n",
       "    .dataframe tbody tr th {\n",
       "        vertical-align: top;\n",
       "    }\n",
       "\n",
       "    .dataframe thead th {\n",
       "        text-align: right;\n",
       "    }\n",
       "</style>\n",
       "<table border=\"1\" class=\"dataframe\">\n",
       "  <thead>\n",
       "    <tr style=\"text-align: right;\">\n",
       "      <th></th>\n",
       "      <th>title</th>\n",
       "      <th>review</th>\n",
       "    </tr>\n",
       "  </thead>\n",
       "  <tbody>\n",
       "    <tr>\n",
       "      <th>0</th>\n",
       "      <td>10 미니츠 곤 (10 Minutes Gone)</td>\n",
       "      <td>미니 감독 브라이언 밀러 출연 브루스 윌리스 마이클 리스 개봉 캐나다 미국 평점 리...</td>\n",
       "    </tr>\n",
       "    <tr>\n",
       "      <th>1</th>\n",
       "      <td>108명의 여자와 섹스하는 방법 (108: REVENGE AND ADVENTURE ...</td>\n",
       "      <td>헥헥 생각 면도 기대하지 거짓말 영화 정통 드라마 실망 실망 포르노 정도 아니지만 ...</td>\n",
       "    </tr>\n",
       "    <tr>\n",
       "      <th>2</th>\n",
       "      <td>12명의 죽고 싶은 아이들 (12 Suicidal Teens)</td>\n",
       "      <td>우울한가요 자살 정말 있었는데요 생각 순간 방식 높은 아프지 아프게 방법 없을까 방...</td>\n",
       "    </tr>\n",
       "    <tr>\n",
       "      <th>3</th>\n",
       "      <td>13일의 금요일 : 음모론의 시작 (Friday the 13th : The Cons...</td>\n",
       "      <td>인천 감독 편의 영화 사실 부족 연출 노력 모습 항상 영화 재미 있던가 뭔가 있어야...</td>\n",
       "    </tr>\n",
       "    <tr>\n",
       "      <th>4</th>\n",
       "      <td>16세의 사운드트랙 (Soundtrack to Sixteen)</td>\n",
       "      <td>사운드트랙 감독 힐러리 셰익스피어 출연 스칼렛 마샬 제임스 콜로 웨이 개봉 영국 평...</td>\n",
       "    </tr>\n",
       "    <tr>\n",
       "      <th>5</th>\n",
       "      <td>1917 (1917)</td>\n",
       "      <td>감독 데스 출연 조지 맥케이 찰스 채프먼 개봉 미국 평점 리뷰 보기 스포일러 포함 ...</td>\n",
       "    </tr>\n",
       "    <tr>\n",
       "      <th>6</th>\n",
       "      <td>1918: 크루티 대전투 (Kruty 1918)</td>\n",
       "      <td>크루 전투 감독 알렉세이 샤파 레바 개봉 우크라이나 평점 리뷰 보기 우크라이나 독립...</td>\n",
       "    </tr>\n",
       "    <tr>\n",
       "      <th>7</th>\n",
       "      <td>1919 유관순</td>\n",
       "      <td>항거 보고 일본 입장 대변 항거 영화 이야기 전달 방식 입니다 일본 한국 변명 방식...</td>\n",
       "    </tr>\n",
       "    <tr>\n",
       "      <th>8</th>\n",
       "      <td>1942: 언노운 배틀 (Unknown Battle)</td>\n",
       "      <td>언노운 배틀 감독 카피 출연 세르게이 자코 이반 바타 레프 알렉산드르 버카 로프 표...</td>\n",
       "    </tr>\n",
       "    <tr>\n",
       "      <th>9</th>\n",
       "      <td>1945: 포인트 오브 노 리턴 (The Eastern Front: Point of...</td>\n",
       "      <td>영화 포인트 오브 리턴 있을까 영화 포인트 오브 리턴 독일군 중위 비롯 병사 진지 ...</td>\n",
       "    </tr>\n",
       "    <tr>\n",
       "      <th>10</th>\n",
       "      <td>21 브릿지: 테러 셧다운 (21 Bridges)</td>\n",
       "      <td>와칸 포레버 블랙 팬서 채디윅 보스 주연 범죄 액션영화 브릿지 테러 셧다운 롯데 시...</td>\n",
       "    </tr>\n",
       "  </tbody>\n",
       "</table>\n",
       "</div>"
      ],
      "text/plain": [
       "                                                title  \\\n",
       "0                          10 미니츠 곤 (10 Minutes Gone)   \n",
       "1   108명의 여자와 섹스하는 방법 (108: REVENGE AND ADVENTURE ...   \n",
       "2                  12명의 죽고 싶은 아이들 (12 Suicidal Teens)   \n",
       "3   13일의 금요일 : 음모론의 시작 (Friday the 13th : The Cons...   \n",
       "4                  16세의 사운드트랙 (Soundtrack to Sixteen)   \n",
       "5                                         1917 (1917)   \n",
       "6                          1918: 크루티 대전투 (Kruty 1918)   \n",
       "7                                            1919 유관순   \n",
       "8                       1942: 언노운 배틀 (Unknown Battle)   \n",
       "9   1945: 포인트 오브 노 리턴 (The Eastern Front: Point of...   \n",
       "10                        21 브릿지: 테러 셧다운 (21 Bridges)   \n",
       "\n",
       "                                               review  \n",
       "0   미니 감독 브라이언 밀러 출연 브루스 윌리스 마이클 리스 개봉 캐나다 미국 평점 리...  \n",
       "1   헥헥 생각 면도 기대하지 거짓말 영화 정통 드라마 실망 실망 포르노 정도 아니지만 ...  \n",
       "2   우울한가요 자살 정말 있었는데요 생각 순간 방식 높은 아프지 아프게 방법 없을까 방...  \n",
       "3   인천 감독 편의 영화 사실 부족 연출 노력 모습 항상 영화 재미 있던가 뭔가 있어야...  \n",
       "4   사운드트랙 감독 힐러리 셰익스피어 출연 스칼렛 마샬 제임스 콜로 웨이 개봉 영국 평...  \n",
       "5   감독 데스 출연 조지 맥케이 찰스 채프먼 개봉 미국 평점 리뷰 보기 스포일러 포함 ...  \n",
       "6   크루 전투 감독 알렉세이 샤파 레바 개봉 우크라이나 평점 리뷰 보기 우크라이나 독립...  \n",
       "7   항거 보고 일본 입장 대변 항거 영화 이야기 전달 방식 입니다 일본 한국 변명 방식...  \n",
       "8   언노운 배틀 감독 카피 출연 세르게이 자코 이반 바타 레프 알렉산드르 버카 로프 표...  \n",
       "9   영화 포인트 오브 리턴 있을까 영화 포인트 오브 리턴 독일군 중위 비롯 병사 진지 ...  \n",
       "10  와칸 포레버 블랙 팬서 채디윅 보스 주연 범죄 액션영화 브릿지 테러 셧다운 롯데 시...  "
      ]
     },
     "execution_count": 11,
     "metadata": {},
     "output_type": "execute_result"
    }
   ],
   "source": [
    "one_sentences = []\n",
    "\n",
    "for title in df['title'].unique():\n",
    "    temp = df[df['title']==title]['cleaned_review']\n",
    "\n",
    "    one_sentence = ' '.join(list(temp))\n",
    "    one_sentences.append(one_sentence)\n",
    "\n",
    "df_one_sentences = pd.DataFrame({'title':df['title'].unique(),\n",
    "                                           'review':one_sentences})\n",
    "\n",
    "df_one_sentences"
   ]
  },
  {
   "cell_type": "code",
   "execution_count": null,
   "metadata": {},
   "outputs": [],
   "source": []
  },
  {
   "cell_type": "code",
   "execution_count": null,
   "metadata": {},
   "outputs": [],
   "source": []
  },
  {
   "cell_type": "code",
   "execution_count": null,
   "metadata": {},
   "outputs": [],
   "source": []
  },
  {
   "cell_type": "code",
   "execution_count": null,
   "metadata": {},
   "outputs": [],
   "source": []
  }
 ],
 "metadata": {
  "kernelspec": {
   "display_name": "Python 3",
   "language": "python",
   "name": "python3"
  },
  "language_info": {
   "codemirror_mode": {
    "name": "ipython",
    "version": 3
   },
   "file_extension": ".py",
   "mimetype": "text/x-python",
   "name": "python",
   "nbconvert_exporter": "python",
   "pygments_lexer": "ipython3",
   "version": "3.7.9"
  }
 },
 "nbformat": 4,
 "nbformat_minor": 4
}
