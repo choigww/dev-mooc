{
 "cells": [
  {
   "cell_type": "code",
   "execution_count": 1,
   "metadata": {
    "scrolled": true
   },
   "outputs": [],
   "source": [
    "import pandas as pd\n",
    "from gensim.models import Word2Vec"
   ]
  },
  {
   "cell_type": "code",
   "execution_count": 3,
   "metadata": {},
   "outputs": [],
   "source": [
    "review_words = pd.read_csv('./csv/cleaned_movie_review_2019_concat.csv', index_col = 0)\n",
    "clean_token_review = list(review_words['review'])"
   ]
  },
  {
   "cell_type": "code",
   "execution_count": 4,
   "metadata": {},
   "outputs": [
    {
     "name": "stdout",
     "output_type": "stream",
     "text": [
      "['무적', '잠수함', '장르', '액션', '모험', '전쟁', '줄거리', '세계대전', '나치', '독일', '게릴라', '반군', '이름', '떨치던', '특별한', '지령', '떨어진다', '벨기에', '정부', '구입', '우라늄', '미국', '운송', '작전', '포한', '독일', '잠수함', '작전', '수행', '하게', '된다', '전시', '포로', '독일', '선장', '잠수함', '운용', '방법', '배우게', '되는데', '평점', '잠수함', '영화', '전투씬', '상황', '등장', '인물', '스토리', '영화', '이루어져', '전체', '스토리', '진행', '인한', '긴장감', '다가오는', '상황', '연기', '실망하지', '않을', '정도', '될것', '잠수함', '영화', '스릴러', '긴장감', '기대할', '없는', '영화', '무적', '잠수함', '세계', '대전', '당시', '나치', '공포', '떨게', '전설', '반군', '가장', '위험하고', '비밀스런', '임무', '지령', '받는']\n"
     ]
    }
   ],
   "source": [
    "cleaned_tokens = []\n",
    "\n",
    "for sentence in clean_token_review:\n",
    "    token = sentence.split(' ')\n",
    "    cleaned_tokens.append(token)\n",
    "    \n",
    "print(cleaned_tokens[0])\n",
    "\n",
    "embedding_model = Word2Vec(cleaned_tokens, size=100,\n",
    "                          window=4, min_count=20,\n",
    "                          workers=4, iter=100, sg=1)"
   ]
  },
  {
   "cell_type": "code",
   "execution_count": 5,
   "metadata": {},
   "outputs": [],
   "source": [
    "embedding_model.save('./model/word2VecModel_2019.model')"
   ]
  },
  {
   "cell_type": "code",
   "execution_count": 6,
   "metadata": {
    "scrolled": true
   },
   "outputs": [
    {
     "name": "stdout",
     "output_type": "stream",
     "text": [
      "Word2Vec(vocab=6037, size=100, alpha=0.025)\n"
     ]
    }
   ],
   "source": [
    "print(embedding_model)"
   ]
  },
  {
   "cell_type": "code",
   "execution_count": null,
   "metadata": {},
   "outputs": [],
   "source": []
  },
  {
   "cell_type": "code",
   "execution_count": 13,
   "metadata": {},
   "outputs": [],
   "source": [
    "### Codes for Quiz1\n",
    "import pandas as pd\n",
    "from gensim.models import Word2Vec\n",
    "\n",
    "review_words = pd.read_csv('./csv/cleaned_movie_review_2019_105.csv', index_col = 0)\n",
    "clean_token_review = list(review_words['review'])\n",
    "cleared_tokens = [sentence.split(' ') for sentence in clean_token_review]\n",
    "\n",
    "model = Word2Vec(cleared_tokens, size=100,\n",
    "                          window=4, min_count=20,\n",
    "                          workers=4, iter=100, sg=1)"
   ]
  },
  {
   "cell_type": "code",
   "execution_count": 14,
   "metadata": {},
   "outputs": [
    {
     "data": {
      "text/plain": [
       "(140, 100)"
      ]
     },
     "execution_count": 14,
     "metadata": {},
     "output_type": "execute_result"
    }
   ],
   "source": [
    "model.wv.vectors.shape"
   ]
  },
  {
   "cell_type": "code",
   "execution_count": 22,
   "metadata": {},
   "outputs": [
    {
     "data": {
      "text/plain": [
       "dict_keys(['라이트', '하우스', '감독', '로버트', '출연', '줄거리', '후반', '등대', '소재', '작품', '영화', '가장', '개봉', '위해', '이유', '사람', '없는', '시작', '갈매기', '느낌', '입니다', '정말', '사실', '생각', '스타', '연출', '표현', '있는', '있습니다', '서로', '현실', '사이', '모든', '주인공', '배우', '연기', '보고', '시리즈', '지금', '세계', '처음', '이야기', '관객', '그냥', '이해', '장면', '때문', '대한', '장르', '추천', '미국', '평점', '리뷰', '보기', '부분', '라면', '이미지', '인간', '아닌', '설정', '가족', '등대지기', '결혼', '사랑', '관계', '친구', '아버지', '있을', '등장', '분노', '마지막', '제목', '캐릭터', '순간', '정도', '상황', '슬로우', '토머스', '남자', '마음', '세상', '모습', '원래', '무기', '개인', '진짜', '감정', '역시', '상태', '나이', '그녀', '오페라', '루치아', '관람', '결말', '내용', '람보', '소녀', '납치', '아내', '라스트', '전쟁', '이제', '액션', '기억', '있던', '멕시코', '카르텔', '실베스터', '스탤론', '록키', '본인', '트라우마', '가브리엘', '도움', '복수', '스토리', '애드리언', '버그', '테이큰', '시사회', '블러드', '소설', '작가', '러브', '괴한', '프랑스', '피아니스트', '위고', '젤랭', '프랑수아', '시빌', '조세핀', '자피', '벨기에', '라파엘', '피아노', '올리비아', '펠릭스', '평행'])"
      ]
     },
     "execution_count": 22,
     "metadata": {},
     "output_type": "execute_result"
    }
   ],
   "source": [
    "model.wv.vocab.keys()"
   ]
  },
  {
   "cell_type": "code",
   "execution_count": 19,
   "metadata": {},
   "outputs": [
    {
     "data": {
      "text/plain": [
       "{'라이트': 36,\n",
       " '하우스': 31,\n",
       " '감독': 129,\n",
       " '로버트': 36,\n",
       " '출연': 88,\n",
       " '줄거리': 20,\n",
       " '후반': 21,\n",
       " '등대': 39,\n",
       " '소재': 20,\n",
       " '작품': 87,\n",
       " '영화': 534,\n",
       " '가장': 30,\n",
       " '개봉': 128,\n",
       " '위해': 68,\n",
       " '이유': 20,\n",
       " '사람': 115,\n",
       " '없는': 43,\n",
       " '시작': 58,\n",
       " '갈매기': 20,\n",
       " '느낌': 49,\n",
       " '입니다': 84,\n",
       " '정말': 46,\n",
       " '사실': 49,\n",
       " '생각': 140,\n",
       " '스타': 26,\n",
       " '연출': 22,\n",
       " '표현': 26,\n",
       " '있는': 112,\n",
       " '있습니다': 34,\n",
       " '서로': 26,\n",
       " '현실': 32,\n",
       " '사이': 21,\n",
       " '모든': 39,\n",
       " '주인공': 75,\n",
       " '배우': 38,\n",
       " '연기': 38,\n",
       " '보고': 38,\n",
       " '시리즈': 104,\n",
       " '지금': 20,\n",
       " '세계': 115,\n",
       " '처음': 23,\n",
       " '이야기': 70,\n",
       " '관객': 30,\n",
       " '그냥': 23,\n",
       " '이해': 20,\n",
       " '장면': 90,\n",
       " '때문': 56,\n",
       " '대한': 45,\n",
       " '장르': 20,\n",
       " '추천': 22,\n",
       " '미국': 52,\n",
       " '평점': 63,\n",
       " '리뷰': 77,\n",
       " '보기': 90,\n",
       " '부분': 29,\n",
       " '라면': 24,\n",
       " '이미지': 23,\n",
       " '인간': 20,\n",
       " '아닌': 26,\n",
       " '설정': 20,\n",
       " '가족': 26,\n",
       " '등대지기': 24,\n",
       " '결혼': 24,\n",
       " '사랑': 151,\n",
       " '관계': 29,\n",
       " '친구': 56,\n",
       " '아버지': 23,\n",
       " '있을': 23,\n",
       " '등장': 21,\n",
       " '분노': 22,\n",
       " '마지막': 100,\n",
       " '제목': 33,\n",
       " '캐릭터': 47,\n",
       " '순간': 23,\n",
       " '정도': 55,\n",
       " '상황': 27,\n",
       " '슬로우': 45,\n",
       " '토머스': 26,\n",
       " '남자': 31,\n",
       " '마음': 51,\n",
       " '세상': 39,\n",
       " '모습': 59,\n",
       " '원래': 21,\n",
       " '무기': 22,\n",
       " '개인': 25,\n",
       " '진짜': 27,\n",
       " '감정': 21,\n",
       " '역시': 28,\n",
       " '상태': 20,\n",
       " '나이': 26,\n",
       " '그녀': 112,\n",
       " '오페라': 31,\n",
       " '루치아': 36,\n",
       " '관람': 48,\n",
       " '결말': 39,\n",
       " '내용': 34,\n",
       " '람보': 585,\n",
       " '소녀': 35,\n",
       " '납치': 33,\n",
       " '아내': 41,\n",
       " '라스트': 162,\n",
       " '전쟁': 76,\n",
       " '이제': 29,\n",
       " '액션': 123,\n",
       " '기억': 32,\n",
       " '있던': 22,\n",
       " '멕시코': 57,\n",
       " '카르텔': 35,\n",
       " '실베스터': 75,\n",
       " '스탤론': 91,\n",
       " '록키': 25,\n",
       " '본인': 22,\n",
       " '트라우마': 21,\n",
       " '가브리엘': 37,\n",
       " '도움': 21,\n",
       " '복수': 44,\n",
       " '스토리': 46,\n",
       " '애드리언': 40,\n",
       " '버그': 40,\n",
       " '테이큰': 20,\n",
       " '시사회': 29,\n",
       " '블러드': 34,\n",
       " '소설': 41,\n",
       " '작가': 36,\n",
       " '러브': 68,\n",
       " '괴한': 26,\n",
       " '프랑스': 65,\n",
       " '피아니스트': 32,\n",
       " '위고': 35,\n",
       " '젤랭': 33,\n",
       " '프랑수아': 47,\n",
       " '시빌': 47,\n",
       " '조세핀': 54,\n",
       " '자피': 52,\n",
       " '벨기에': 27,\n",
       " '라파엘': 141,\n",
       " '피아노': 27,\n",
       " '올리비아': 156,\n",
       " '펠릭스': 43,\n",
       " '평행': 62}"
      ]
     },
     "execution_count": 19,
     "metadata": {},
     "output_type": "execute_result"
    }
   ],
   "source": [
    "w2c = dict()\n",
    "for item in model.wv.vocab:\n",
    "    w2c[item]=model.wv.vocab[item].count\n",
    "w2c"
   ]
  },
  {
   "cell_type": "code",
   "execution_count": 25,
   "metadata": {},
   "outputs": [
    {
     "data": {
      "text/plain": [
       "[('하우스', 0.8443225622177124),\n",
       " ('로버트', 0.7514940500259399),\n",
       " ('연기', 0.5880367159843445),\n",
       " ('등대', 0.5772093534469604),\n",
       " ('이미지', 0.5245624780654907),\n",
       " ('갈매기', 0.4758867621421814),\n",
       " ('작품', 0.46194350719451904),\n",
       " ('인간', 0.4361976981163025),\n",
       " ('표현', 0.43474698066711426),\n",
       " ('루치아', 0.43190798163414),\n",
       " ('토머스', 0.41990774869918823),\n",
       " ('등대지기', 0.40895289182662964),\n",
       " ('소재', 0.399365097284317),\n",
       " ('오페라', 0.3954814672470093),\n",
       " ('배우', 0.3739791512489319),\n",
       " ('연출', 0.36851704120635986),\n",
       " ('있습니다', 0.36088475584983826),\n",
       " ('슬로우', 0.33973264694213867),\n",
       " ('후반', 0.3368546962738037),\n",
       " ('입니다', 0.334220290184021)]"
      ]
     },
     "execution_count": 25,
     "metadata": {},
     "output_type": "execute_result"
    }
   ],
   "source": [
    "model.wv.most_similar('라이트', topn=20)"
   ]
  },
  {
   "cell_type": "code",
   "execution_count": null,
   "metadata": {},
   "outputs": [],
   "source": []
  },
  {
   "cell_type": "code",
   "execution_count": null,
   "metadata": {},
   "outputs": [],
   "source": []
  },
  {
   "cell_type": "code",
   "execution_count": null,
   "metadata": {},
   "outputs": [],
   "source": []
  },
  {
   "cell_type": "code",
   "execution_count": null,
   "metadata": {},
   "outputs": [],
   "source": []
  },
  {
   "cell_type": "code",
   "execution_count": null,
   "metadata": {},
   "outputs": [],
   "source": []
  },
  {
   "cell_type": "code",
   "execution_count": null,
   "metadata": {},
   "outputs": [],
   "source": []
  }
 ],
 "metadata": {
  "kernelspec": {
   "display_name": "Python 3",
   "language": "python",
   "name": "python3"
  },
  "language_info": {
   "codemirror_mode": {
    "name": "ipython",
    "version": 3
   },
   "file_extension": ".py",
   "mimetype": "text/x-python",
   "name": "python",
   "nbconvert_exporter": "python",
   "pygments_lexer": "ipython3",
   "version": "3.7.9"
  }
 },
 "nbformat": 4,
 "nbformat_minor": 4
}
