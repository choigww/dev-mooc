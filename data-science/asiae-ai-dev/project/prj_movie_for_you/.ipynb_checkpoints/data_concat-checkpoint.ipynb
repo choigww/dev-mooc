{
 "cells": [
  {
   "cell_type": "code",
   "execution_count": 2,
   "id": "thermal-moderator",
   "metadata": {},
   "outputs": [],
   "source": [
    "import pandas as pd\n",
    "datapath1 = './csv/clean_reviews/cleaned_movie_review_2019_'\n",
    "datapath2 = '.csv'"
   ]
  },
  {
   "cell_type": "code",
   "execution_count": 10,
   "id": "rolled-credits",
   "metadata": {},
   "outputs": [
    {
     "data": {
      "text/plain": [
       "'./csv/clean_reviews/cleaned_movie_review_2019_4.csv'"
      ]
     },
     "execution_count": 10,
     "metadata": {},
     "output_type": "execute_result"
    }
   ],
   "source": [
    "datapath1+str(4)+datapath2"
   ]
  },
  {
   "cell_type": "code",
   "execution_count": 16,
   "id": "cognitive-album",
   "metadata": {},
   "outputs": [],
   "source": [
    "base_df = pd.read_csv('./csv/clean_reviews/cleaned_movie_review_2019_14.csv', index_col=0)"
   ]
  },
  {
   "cell_type": "code",
   "execution_count": 18,
   "id": "human-binding",
   "metadata": {},
   "outputs": [],
   "source": [
    "for i in range(21, 141, 7):\n",
    "    df = pd.read_csv(datapath1 + str(i) + datapath2, index_col=0)\n",
    "    if 'reveiw' in df.columns:\n",
    "        df.columns = ['title', 'review']\n",
    "    base_df = pd.concat([base_df, df], ignore_index=True)"
   ]
  },
  {
   "cell_type": "code",
   "execution_count": 19,
   "id": "charming-continent",
   "metadata": {},
   "outputs": [
    {
     "data": {
      "text/html": [
       "<div>\n",
       "<style scoped>\n",
       "    .dataframe tbody tr th:only-of-type {\n",
       "        vertical-align: middle;\n",
       "    }\n",
       "\n",
       "    .dataframe tbody tr th {\n",
       "        vertical-align: top;\n",
       "    }\n",
       "\n",
       "    .dataframe thead th {\n",
       "        text-align: right;\n",
       "    }\n",
       "</style>\n",
       "<table border=\"1\" class=\"dataframe\">\n",
       "  <thead>\n",
       "    <tr style=\"text-align: right;\">\n",
       "      <th></th>\n",
       "      <th>title</th>\n",
       "      <th>review</th>\n",
       "    </tr>\n",
       "  </thead>\n",
       "  <tbody>\n",
       "    <tr>\n",
       "      <th>0</th>\n",
       "      <td>U-235: 무적의 잠수함 (Torpedo)</td>\n",
       "      <td>무적 잠수함 장르 액션 모험 전쟁 줄거리 세계대전 나치 독일 게릴라 반군 이름 떨치...</td>\n",
       "    </tr>\n",
       "    <tr>\n",
       "      <th>1</th>\n",
       "      <td>#아이엠히어 (#Iamhere)</td>\n",
       "      <td>영화 아이엠 국내 메인 예고편 배두나 알랭 샤바 여기있어요 대포 대책 눈치 프렌치 ...</td>\n",
       "    </tr>\n",
       "    <tr>\n",
       "      <th>2</th>\n",
       "      <td>가베: 그녀의 숲 (Ghabe)</td>\n",
       "      <td>영화 그녀 예고편 나탈리 윌리엄스 아델 다르 위시 로맨스 소녀 찾은 평화 전쟁 인해...</td>\n",
       "    </tr>\n",
       "    <tr>\n",
       "      <th>3</th>\n",
       "      <td>가슴 큰 태희</td>\n",
       "      <td>가슴 태희 감독 이동준 개봉 대한민국 평점 리뷰 보기 남자 끼리 아내 서로 돌려 먹...</td>\n",
       "    </tr>\n",
       "    <tr>\n",
       "      <th>4</th>\n",
       "      <td>가을의 마티네 (At the End of the Matinee)</td>\n",
       "      <td>가을 마티 감독 시타 히로시 출연 후쿠야마 마사 하루 유리 개봉 일본 리뷰 보기 히...</td>\n",
       "    </tr>\n",
       "    <tr>\n",
       "      <th>...</th>\n",
       "      <td>...</td>\n",
       "      <td>...</td>\n",
       "    </tr>\n",
       "    <tr>\n",
       "      <th>184</th>\n",
       "      <td>메모리즈 (MEMORIES)</td>\n",
       "      <td>현실 자각 있는 이유 일까 출근길 우산 챙기는 이유 비가오기 때문 이유 지금 있는 ...</td>\n",
       "    </tr>\n",
       "    <tr>\n",
       "      <th>185</th>\n",
       "      <td>메피스토</td>\n",
       "      <td>메피스 감독 출연 이상보 초인 개봉 대한민국 평점 리뷰 보기 컬트 였다 컬트 미가 ...</td>\n",
       "    </tr>\n",
       "    <tr>\n",
       "      <th>186</th>\n",
       "      <td>명탐정 코난: 감청의 권 (Detective Conan: The Fist of Bl...</td>\n",
       "      <td>보고싶지만 불매 하겠어요 지금 저걸 보낸 내내 불편한 마음 들것 같아서 유쾌하지 않...</td>\n",
       "    </tr>\n",
       "    <tr>\n",
       "      <th>187</th>\n",
       "      <td>명탐정 피카츄 (Pokemon Detective Pikachu)</td>\n",
       "      <td>전체 내용 전개 진짜 진지 이야기 하자면 정신 산만하기만 내용 이해도 내용 훅훅 지...</td>\n",
       "    </tr>\n",
       "    <tr>\n",
       "      <th>188</th>\n",
       "      <td>모든 것을 벗어던진 특별한 여행 (The naked wanderer)</td>\n",
       "      <td>여친 까이고 직장 해고 물러설 없는 인생 나락 봉착 제이크 자선 기금 모금 가장 킬...</td>\n",
       "    </tr>\n",
       "  </tbody>\n",
       "</table>\n",
       "<p>189 rows × 2 columns</p>\n",
       "</div>"
      ],
      "text/plain": [
       "                                                 title  \\\n",
       "0                             U-235: 무적의 잠수함 (Torpedo)   \n",
       "1                                    #아이엠히어 (#Iamhere)   \n",
       "2                                    가베: 그녀의 숲 (Ghabe)   \n",
       "3                                              가슴 큰 태희   \n",
       "4                  가을의 마티네 (At the End of the Matinee)   \n",
       "..                                                 ...   \n",
       "184                                    메모리즈 (MEMORIES)   \n",
       "185                                               메피스토   \n",
       "186  명탐정 코난: 감청의 권 (Detective Conan: The Fist of Bl...   \n",
       "187                명탐정 피카츄 (Pokemon Detective Pikachu)   \n",
       "188             모든 것을 벗어던진 특별한 여행 (The naked wanderer)   \n",
       "\n",
       "                                                review  \n",
       "0    무적 잠수함 장르 액션 모험 전쟁 줄거리 세계대전 나치 독일 게릴라 반군 이름 떨치...  \n",
       "1    영화 아이엠 국내 메인 예고편 배두나 알랭 샤바 여기있어요 대포 대책 눈치 프렌치 ...  \n",
       "2    영화 그녀 예고편 나탈리 윌리엄스 아델 다르 위시 로맨스 소녀 찾은 평화 전쟁 인해...  \n",
       "3    가슴 태희 감독 이동준 개봉 대한민국 평점 리뷰 보기 남자 끼리 아내 서로 돌려 먹...  \n",
       "4    가을 마티 감독 시타 히로시 출연 후쿠야마 마사 하루 유리 개봉 일본 리뷰 보기 히...  \n",
       "..                                                 ...  \n",
       "184  현실 자각 있는 이유 일까 출근길 우산 챙기는 이유 비가오기 때문 이유 지금 있는 ...  \n",
       "185  메피스 감독 출연 이상보 초인 개봉 대한민국 평점 리뷰 보기 컬트 였다 컬트 미가 ...  \n",
       "186  보고싶지만 불매 하겠어요 지금 저걸 보낸 내내 불편한 마음 들것 같아서 유쾌하지 않...  \n",
       "187  전체 내용 전개 진짜 진지 이야기 하자면 정신 산만하기만 내용 이해도 내용 훅훅 지...  \n",
       "188  여친 까이고 직장 해고 물러설 없는 인생 나락 봉착 제이크 자선 기금 모금 가장 킬...  \n",
       "\n",
       "[189 rows x 2 columns]"
      ]
     },
     "execution_count": 19,
     "metadata": {},
     "output_type": "execute_result"
    }
   ],
   "source": [
    "base_df"
   ]
  },
  {
   "cell_type": "code",
   "execution_count": 20,
   "id": "continuing-exhibition",
   "metadata": {},
   "outputs": [],
   "source": [
    "base_df.to_csv('./csv/cleaned_movie_review_2019_concat.csv')"
   ]
  },
  {
   "cell_type": "code",
   "execution_count": null,
   "id": "approximate-louis",
   "metadata": {},
   "outputs": [],
   "source": []
  }
 ],
 "metadata": {
  "kernelspec": {
   "display_name": "Python 3",
   "language": "python",
   "name": "python3"
  },
  "language_info": {
   "codemirror_mode": {
    "name": "ipython",
    "version": 3
   },
   "file_extension": ".py",
   "mimetype": "text/x-python",
   "name": "python",
   "nbconvert_exporter": "python",
   "pygments_lexer": "ipython3",
   "version": "3.7.9"
  }
 },
 "nbformat": 4,
 "nbformat_minor": 5
}
