{
 "cells": [
  {
   "cell_type": "code",
   "execution_count": 10,
   "metadata": {},
   "outputs": [],
   "source": [
    "import pandas as pd\n",
    "import matplotlib.pyplot as plt\n",
    "from gensim.models import Word2Vec\n",
    "from sklearn.manifold import TSNE\n",
    "from matplotlib import font_manager, rc\n",
    "import matplotlib as mpl\n",
    "\n",
    "model_path = './model/word2VecModel_2019.model'\n",
    "font_path = './font/AppleGothic.ttf'\n",
    "\n",
    "font = mpl.font_manager.FontProperties(fname=font_path).get_name()\n",
    "mpl.rc('font', family=font)\n",
    "mpl.font_manager._rebuild()"
   ]
  },
  {
   "cell_type": "code",
   "execution_count": 34,
   "metadata": {
    "scrolled": true
   },
   "outputs": [
    {
     "name": "stdout",
     "output_type": "stream",
     "text": [
      "[('있을까', 0.4678438901901245), ('서로', 0.46171921491622925), ('성난', 0.460071325302124), ('애틋한', 0.44703322649002075), ('진심', 0.4460796117782593), ('이별', 0.4432290196418762), ('아내', 0.4412192404270172), ('상처', 0.44109463691711426), ('행복한', 0.4370765686035156), ('우정', 0.4343918561935425)]\n"
     ]
    }
   ],
   "source": [
    "embedding_model = Word2Vec.load(model_path)\n",
    "key_word = '사랑'\n",
    "sim_word = embedding_model.wv.most_similar(key_word, topn=10)\n",
    "print(sim_word)"
   ]
  },
  {
   "cell_type": "code",
   "execution_count": 35,
   "metadata": {},
   "outputs": [
    {
     "name": "stderr",
     "output_type": "stream",
     "text": [
      "/opt/anaconda3/envs/AI_dev/lib/python3.7/site-packages/ipykernel_launcher.py:1: DeprecationWarning: Call to deprecated `__getitem__` (Method will be removed in 4.0.0, use self.wv.__getitem__() instead).\n",
      "  \"\"\"Entry point for launching an IPython kernel.\n"
     ]
    }
   ],
   "source": [
    "vectors = [embedding_model[key] for key, _ in sim_word]\n",
    "labels = [element[0] for element in sim_word]"
   ]
  },
  {
   "cell_type": "code",
   "execution_count": 36,
   "metadata": {},
   "outputs": [
    {
     "data": {
      "text/plain": [
       "['있을까', '서로', '성난', '애틋한', '진심', '이별', '아내', '상처', '행복한', '우정']"
      ]
     },
     "execution_count": 36,
     "metadata": {},
     "output_type": "execute_result"
    }
   ],
   "source": [
    "labels"
   ]
  },
  {
   "cell_type": "code",
   "execution_count": 37,
   "metadata": {},
   "outputs": [
    {
     "data": {
      "text/plain": [
       "array([ 0.18049252,  0.01324796,  0.26439765,  0.59161663,  0.37404582,\n",
       "        0.21108693,  0.7885642 ,  0.14223468,  0.44826248,  0.420054  ,\n",
       "        0.05386857,  0.4408463 ,  0.0616128 , -0.2092389 , -0.25852805,\n",
       "       -0.15731555, -0.10062189,  0.45201895,  0.07147653,  0.3945596 ,\n",
       "        0.53315043, -0.57409984, -0.36040565,  0.07918946, -0.10761821,\n",
       "       -0.2480421 , -0.21424696, -0.14911124, -0.4303276 , -0.03858661,\n",
       "        0.05375253, -0.2552689 , -0.14509563, -0.3556349 ,  0.37886706,\n",
       "       -0.00803135,  0.16911651, -0.47566018, -0.01321923,  0.3795896 ,\n",
       "        0.07824136,  0.27858564, -0.12905541, -0.16745833,  0.57393223,\n",
       "        0.15589726,  0.04786978, -0.4533788 , -0.20454381,  0.415345  ,\n",
       "       -0.5256815 , -0.5643045 , -0.21657293,  0.26437467,  0.14736761,\n",
       "        0.20097153, -0.14440009,  0.30785906,  0.4290976 , -0.06926749,\n",
       "        0.19382915,  0.16968735, -0.03772204,  0.48709175, -0.4483822 ,\n",
       "        0.47854504,  0.23187011,  0.08082304,  0.06890796,  0.3160782 ,\n",
       "        0.5347245 ,  0.02595138,  0.18941985, -0.18342003,  0.25534925,\n",
       "       -0.25328884, -0.0305702 ,  0.7859452 , -0.2043458 ,  0.19937946,\n",
       "       -0.13139051, -0.57325435, -0.07828987, -0.19650266,  0.4558297 ,\n",
       "        0.28369495, -0.37977165, -0.15151918, -0.75255656,  0.41829556,\n",
       "       -0.3800416 ,  0.2933597 ,  0.23052835, -0.33496943, -0.34564674,\n",
       "        0.28189448,  0.20233588, -0.38469842,  0.41896546, -0.08365131],\n",
       "      dtype=float32)"
      ]
     },
     "execution_count": 37,
     "metadata": {},
     "output_type": "execute_result"
    }
   ],
   "source": [
    "vectors[0]"
   ]
  },
  {
   "cell_type": "code",
   "execution_count": 38,
   "metadata": {},
   "outputs": [
    {
     "data": {
      "text/html": [
       "<div>\n",
       "<style scoped>\n",
       "    .dataframe tbody tr th:only-of-type {\n",
       "        vertical-align: middle;\n",
       "    }\n",
       "\n",
       "    .dataframe tbody tr th {\n",
       "        vertical-align: top;\n",
       "    }\n",
       "\n",
       "    .dataframe thead th {\n",
       "        text-align: right;\n",
       "    }\n",
       "</style>\n",
       "<table border=\"1\" class=\"dataframe\">\n",
       "  <thead>\n",
       "    <tr style=\"text-align: right;\">\n",
       "      <th></th>\n",
       "      <th>0</th>\n",
       "      <th>1</th>\n",
       "      <th>2</th>\n",
       "      <th>3</th>\n",
       "      <th>4</th>\n",
       "      <th>5</th>\n",
       "      <th>6</th>\n",
       "      <th>7</th>\n",
       "      <th>8</th>\n",
       "      <th>9</th>\n",
       "      <th>...</th>\n",
       "      <th>90</th>\n",
       "      <th>91</th>\n",
       "      <th>92</th>\n",
       "      <th>93</th>\n",
       "      <th>94</th>\n",
       "      <th>95</th>\n",
       "      <th>96</th>\n",
       "      <th>97</th>\n",
       "      <th>98</th>\n",
       "      <th>99</th>\n",
       "    </tr>\n",
       "  </thead>\n",
       "  <tbody>\n",
       "    <tr>\n",
       "      <th>0</th>\n",
       "      <td>0.180493</td>\n",
       "      <td>0.013248</td>\n",
       "      <td>0.264398</td>\n",
       "      <td>0.591617</td>\n",
       "      <td>0.374046</td>\n",
       "      <td>0.211087</td>\n",
       "      <td>0.788564</td>\n",
       "      <td>0.142235</td>\n",
       "      <td>0.448262</td>\n",
       "      <td>0.420054</td>\n",
       "      <td>...</td>\n",
       "      <td>-0.380042</td>\n",
       "      <td>0.293360</td>\n",
       "      <td>0.230528</td>\n",
       "      <td>-0.334969</td>\n",
       "      <td>-0.345647</td>\n",
       "      <td>0.281894</td>\n",
       "      <td>0.202336</td>\n",
       "      <td>-0.384698</td>\n",
       "      <td>0.418965</td>\n",
       "      <td>-0.083651</td>\n",
       "    </tr>\n",
       "    <tr>\n",
       "      <th>1</th>\n",
       "      <td>-0.230828</td>\n",
       "      <td>-0.029496</td>\n",
       "      <td>0.003539</td>\n",
       "      <td>0.052135</td>\n",
       "      <td>0.326191</td>\n",
       "      <td>-0.496001</td>\n",
       "      <td>0.363914</td>\n",
       "      <td>0.092620</td>\n",
       "      <td>0.265980</td>\n",
       "      <td>0.063830</td>\n",
       "      <td>...</td>\n",
       "      <td>-0.119148</td>\n",
       "      <td>0.333672</td>\n",
       "      <td>0.318901</td>\n",
       "      <td>0.398167</td>\n",
       "      <td>-0.070310</td>\n",
       "      <td>-0.032731</td>\n",
       "      <td>0.341828</td>\n",
       "      <td>-0.472935</td>\n",
       "      <td>0.330987</td>\n",
       "      <td>0.199000</td>\n",
       "    </tr>\n",
       "    <tr>\n",
       "      <th>2</th>\n",
       "      <td>-0.551792</td>\n",
       "      <td>-0.394092</td>\n",
       "      <td>1.552285</td>\n",
       "      <td>0.421789</td>\n",
       "      <td>1.382311</td>\n",
       "      <td>-0.669036</td>\n",
       "      <td>0.360182</td>\n",
       "      <td>-0.110028</td>\n",
       "      <td>-0.127169</td>\n",
       "      <td>1.198335</td>\n",
       "      <td>...</td>\n",
       "      <td>-0.797265</td>\n",
       "      <td>0.495260</td>\n",
       "      <td>-0.065571</td>\n",
       "      <td>-1.030591</td>\n",
       "      <td>-0.205358</td>\n",
       "      <td>-0.335214</td>\n",
       "      <td>-0.563448</td>\n",
       "      <td>-0.521167</td>\n",
       "      <td>1.158416</td>\n",
       "      <td>-0.250429</td>\n",
       "    </tr>\n",
       "    <tr>\n",
       "      <th>3</th>\n",
       "      <td>-0.253608</td>\n",
       "      <td>0.296929</td>\n",
       "      <td>0.186764</td>\n",
       "      <td>0.972965</td>\n",
       "      <td>0.895031</td>\n",
       "      <td>-0.514732</td>\n",
       "      <td>0.458597</td>\n",
       "      <td>-0.409478</td>\n",
       "      <td>-0.561032</td>\n",
       "      <td>0.061312</td>\n",
       "      <td>...</td>\n",
       "      <td>-0.567014</td>\n",
       "      <td>0.602406</td>\n",
       "      <td>-0.567583</td>\n",
       "      <td>0.413614</td>\n",
       "      <td>-0.252699</td>\n",
       "      <td>0.963113</td>\n",
       "      <td>-0.022826</td>\n",
       "      <td>-0.669442</td>\n",
       "      <td>0.831867</td>\n",
       "      <td>-0.191806</td>\n",
       "    </tr>\n",
       "    <tr>\n",
       "      <th>4</th>\n",
       "      <td>0.152250</td>\n",
       "      <td>-0.348906</td>\n",
       "      <td>-0.163466</td>\n",
       "      <td>0.513368</td>\n",
       "      <td>0.190281</td>\n",
       "      <td>0.086054</td>\n",
       "      <td>0.047976</td>\n",
       "      <td>-0.304214</td>\n",
       "      <td>-0.368262</td>\n",
       "      <td>-0.027806</td>\n",
       "      <td>...</td>\n",
       "      <td>-0.285749</td>\n",
       "      <td>-0.045646</td>\n",
       "      <td>0.005176</td>\n",
       "      <td>-0.475276</td>\n",
       "      <td>-0.137457</td>\n",
       "      <td>0.147749</td>\n",
       "      <td>-0.159693</td>\n",
       "      <td>-0.803974</td>\n",
       "      <td>-0.160698</td>\n",
       "      <td>-0.133598</td>\n",
       "    </tr>\n",
       "  </tbody>\n",
       "</table>\n",
       "<p>5 rows × 100 columns</p>\n",
       "</div>"
      ],
      "text/plain": [
       "         0         1         2         3         4         5         6   \\\n",
       "0  0.180493  0.013248  0.264398  0.591617  0.374046  0.211087  0.788564   \n",
       "1 -0.230828 -0.029496  0.003539  0.052135  0.326191 -0.496001  0.363914   \n",
       "2 -0.551792 -0.394092  1.552285  0.421789  1.382311 -0.669036  0.360182   \n",
       "3 -0.253608  0.296929  0.186764  0.972965  0.895031 -0.514732  0.458597   \n",
       "4  0.152250 -0.348906 -0.163466  0.513368  0.190281  0.086054  0.047976   \n",
       "\n",
       "         7         8         9   ...        90        91        92        93  \\\n",
       "0  0.142235  0.448262  0.420054  ... -0.380042  0.293360  0.230528 -0.334969   \n",
       "1  0.092620  0.265980  0.063830  ... -0.119148  0.333672  0.318901  0.398167   \n",
       "2 -0.110028 -0.127169  1.198335  ... -0.797265  0.495260 -0.065571 -1.030591   \n",
       "3 -0.409478 -0.561032  0.061312  ... -0.567014  0.602406 -0.567583  0.413614   \n",
       "4 -0.304214 -0.368262 -0.027806  ... -0.285749 -0.045646  0.005176 -0.475276   \n",
       "\n",
       "         94        95        96        97        98        99  \n",
       "0 -0.345647  0.281894  0.202336 -0.384698  0.418965 -0.083651  \n",
       "1 -0.070310 -0.032731  0.341828 -0.472935  0.330987  0.199000  \n",
       "2 -0.205358 -0.335214 -0.563448 -0.521167  1.158416 -0.250429  \n",
       "3 -0.252699  0.963113 -0.022826 -0.669442  0.831867 -0.191806  \n",
       "4 -0.137457  0.147749 -0.159693 -0.803974 -0.160698 -0.133598  \n",
       "\n",
       "[5 rows x 100 columns]"
      ]
     },
     "execution_count": 38,
     "metadata": {},
     "output_type": "execute_result"
    }
   ],
   "source": [
    "df_vectors = pd.DataFrame(vectors)\n",
    "df_vectors.head()"
   ]
  },
  {
   "cell_type": "code",
   "execution_count": 39,
   "metadata": {},
   "outputs": [],
   "source": [
    "tsne_model = TSNE(perplexity=40, n_components=2, init='pca', n_iter=2500, random_state=23)"
   ]
  },
  {
   "cell_type": "code",
   "execution_count": 40,
   "metadata": {},
   "outputs": [
    {
     "data": {
      "text/plain": [
       "array([[-167.3023   , -177.59357  ],\n",
       "       [-146.78111  ,  -17.486578 ],\n",
       "       [-295.04993  ,  -30.176077 ],\n",
       "       [-196.28595  ,  137.09958  ],\n",
       "       [ -34.972687 ,  218.84232  ],\n",
       "       [ -27.46907  ,   68.50461  ],\n",
       "       [ 123.68976  ,   94.99899  ],\n",
       "       [   5.7058654, -227.39442  ],\n",
       "       [ -12.626166 ,  -77.78992  ],\n",
       "       [ 140.60152  ,  -78.04971  ]], dtype=float32)"
      ]
     },
     "execution_count": 40,
     "metadata": {},
     "output_type": "execute_result"
    }
   ],
   "source": [
    "new_value = tsne_model.fit_transform(df_vectors)\n",
    "new_value"
   ]
  },
  {
   "cell_type": "code",
   "execution_count": 41,
   "metadata": {},
   "outputs": [
    {
     "data": {
      "text/html": [
       "<div>\n",
       "<style scoped>\n",
       "    .dataframe tbody tr th:only-of-type {\n",
       "        vertical-align: middle;\n",
       "    }\n",
       "\n",
       "    .dataframe tbody tr th {\n",
       "        vertical-align: top;\n",
       "    }\n",
       "\n",
       "    .dataframe thead th {\n",
       "        text-align: right;\n",
       "    }\n",
       "</style>\n",
       "<table border=\"1\" class=\"dataframe\">\n",
       "  <thead>\n",
       "    <tr style=\"text-align: right;\">\n",
       "      <th></th>\n",
       "      <th>words</th>\n",
       "      <th>x</th>\n",
       "      <th>y</th>\n",
       "    </tr>\n",
       "  </thead>\n",
       "  <tbody>\n",
       "    <tr>\n",
       "      <th>0</th>\n",
       "      <td>있을까</td>\n",
       "      <td>-167.302307</td>\n",
       "      <td>-177.593567</td>\n",
       "    </tr>\n",
       "    <tr>\n",
       "      <th>1</th>\n",
       "      <td>서로</td>\n",
       "      <td>-146.781113</td>\n",
       "      <td>-17.486578</td>\n",
       "    </tr>\n",
       "    <tr>\n",
       "      <th>2</th>\n",
       "      <td>성난</td>\n",
       "      <td>-295.049927</td>\n",
       "      <td>-30.176077</td>\n",
       "    </tr>\n",
       "    <tr>\n",
       "      <th>3</th>\n",
       "      <td>애틋한</td>\n",
       "      <td>-196.285950</td>\n",
       "      <td>137.099579</td>\n",
       "    </tr>\n",
       "    <tr>\n",
       "      <th>4</th>\n",
       "      <td>진심</td>\n",
       "      <td>-34.972687</td>\n",
       "      <td>218.842316</td>\n",
       "    </tr>\n",
       "    <tr>\n",
       "      <th>5</th>\n",
       "      <td>이별</td>\n",
       "      <td>-27.469070</td>\n",
       "      <td>68.504608</td>\n",
       "    </tr>\n",
       "    <tr>\n",
       "      <th>6</th>\n",
       "      <td>아내</td>\n",
       "      <td>123.689758</td>\n",
       "      <td>94.998993</td>\n",
       "    </tr>\n",
       "    <tr>\n",
       "      <th>7</th>\n",
       "      <td>상처</td>\n",
       "      <td>5.705865</td>\n",
       "      <td>-227.394424</td>\n",
       "    </tr>\n",
       "    <tr>\n",
       "      <th>8</th>\n",
       "      <td>행복한</td>\n",
       "      <td>-12.626166</td>\n",
       "      <td>-77.789917</td>\n",
       "    </tr>\n",
       "    <tr>\n",
       "      <th>9</th>\n",
       "      <td>우정</td>\n",
       "      <td>140.601517</td>\n",
       "      <td>-78.049713</td>\n",
       "    </tr>\n",
       "  </tbody>\n",
       "</table>\n",
       "</div>"
      ],
      "text/plain": [
       "  words           x           y\n",
       "0   있을까 -167.302307 -177.593567\n",
       "1    서로 -146.781113  -17.486578\n",
       "2    성난 -295.049927  -30.176077\n",
       "3   애틋한 -196.285950  137.099579\n",
       "4    진심  -34.972687  218.842316\n",
       "5    이별  -27.469070   68.504608\n",
       "6    아내  123.689758   94.998993\n",
       "7    상처    5.705865 -227.394424\n",
       "8   행복한  -12.626166  -77.789917\n",
       "9    우정  140.601517  -78.049713"
      ]
     },
     "execution_count": 41,
     "metadata": {},
     "output_type": "execute_result"
    }
   ],
   "source": [
    "df_xy = pd.DataFrame({'words' : labels,\n",
    "                    'x' : new_value[:, 0],\n",
    "                    'y' : new_value[:, 1]})\n",
    "df_xy"
   ]
  },
  {
   "cell_type": "code",
   "execution_count": 43,
   "metadata": {},
   "outputs": [
    {
     "data": {
      "text/plain": [
       "(10, 3)"
      ]
     },
     "execution_count": 43,
     "metadata": {},
     "output_type": "execute_result"
    }
   ],
   "source": [
    "df_xy.shape"
   ]
  },
  {
   "cell_type": "code",
   "execution_count": 32,
   "metadata": {},
   "outputs": [
    {
     "name": "stderr",
     "output_type": "stream",
     "text": [
      "/opt/anaconda3/envs/AI_dev/lib/python3.7/site-packages/matplotlib/backends/backend_agg.py:238: RuntimeWarning: Glyph 8722 missing from current font.\n",
      "  font.set_text(s, 0.0, flags=flags)\n",
      "/opt/anaconda3/envs/AI_dev/lib/python3.7/site-packages/matplotlib/backends/backend_agg.py:201: RuntimeWarning: Glyph 8722 missing from current font.\n",
      "  font.set_text(s, 0, flags=flags)\n"
     ]
    },
    {
     "data": {
      "image/png": "[encoded data removed]",
      "text/plain": [
       "<Figure size 576x576 with 1 Axes>"
      ]
     },
     "metadata": {
      "needs_background": "light"
     },
     "output_type": "display_data"
    }
   ],
   "source": [
    "df_xy.loc[df_xy.shape[0]] = (key_word, 0, 0) # 키워드 이름만 가진 emptry row를 새 row로 추가\n",
    "\n",
    "plt.figure(figsize=(8,8))\n",
    "plt.scatter(0,0,s=1000, marker='*')  # 별 그리기\n",
    "\n",
    "for i in range(len(df_xy.x)): # keyword row를 제외한 모든 row에 대하여:\n",
    "    a = df_xy.loc[[i, 10], :]\n",
    "    \n",
    "    plt.plot(a.x, a.y, '-D', linewidth=2) # 선 그려주기\n",
    "    \n",
    "    plt.scatter(df_xy.x[i], df_xy.y[i])  # 해당 row 키워드의 x, y좌표 위치 표시\n",
    "    \n",
    "    plt.annotate(df_xy.words[i], xytext=(5,2),  \n",
    "                xy=(df_xy.x[i], df_xy.y[i]),\n",
    "                textcoords='offset points',\n",
    "                ha='right', va='bottom')\n",
    "plt.show()"
   ]
  },
  {
   "cell_type": "code",
   "execution_count": null,
   "metadata": {},
   "outputs": [],
   "source": []
  },
  {
   "cell_type": "code",
   "execution_count": null,
   "metadata": {},
   "outputs": [],
   "source": []
  },
  {
   "cell_type": "code",
   "execution_count": null,
   "metadata": {},
   "outputs": [],
   "source": []
  },
  {
   "cell_type": "code",
   "execution_count": null,
   "metadata": {},
   "outputs": [],
   "source": []
  },
  {
   "cell_type": "code",
   "execution_count": null,
   "metadata": {},
   "outputs": [],
   "source": []
  }
 ],
 "metadata": {
  "kernelspec": {
   "display_name": "Python 3",
   "language": "python",
   "name": "python3"
  },
  "language_info": {
   "codemirror_mode": {
    "name": "ipython",
    "version": 3
   },
   "file_extension": ".py",
   "mimetype": "text/x-python",
   "name": "python",
   "nbconvert_exporter": "python",
   "pygments_lexer": "ipython3",
   "version": "3.7.9"
  }
 },
 "nbformat": 4,
 "nbformat_minor": 4
}
