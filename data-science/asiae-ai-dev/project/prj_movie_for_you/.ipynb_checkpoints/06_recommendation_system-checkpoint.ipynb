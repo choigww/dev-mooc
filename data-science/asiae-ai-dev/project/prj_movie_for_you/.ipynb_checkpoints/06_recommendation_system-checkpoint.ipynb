{
 "cells": [
  {
   "cell_type": "code",
   "execution_count": null,
   "id": "affected-tulsa",
   "metadata": {},
   "outputs": [],
   "source": [
    "import pandas as pd\n",
    "from sklearn.feature_extraction.text import TfidVectorizer\n",
    "from sklearn.metrics"
   ]
  },
  {
   "cell_type": "code",
   "execution_count": null,
   "id": "metallic-money",
   "metadata": {},
   "outputs": [],
   "source": []
  },
  {
   "cell_type": "code",
   "execution_count": null,
   "id": "fifty-applicant",
   "metadata": {},
   "outputs": [],
   "source": [
    "simScores = simScores[1:31]\n",
    "movieidx = [i[0] for i in simScores]\n",
    "RecMovielist = df_review_one"
   ]
  },
  {
   "cell_type": "code",
   "execution_count": null,
   "id": "developing-workplace",
   "metadata": {},
   "outputs": [],
   "source": [
    "movie_idx = df_review_one_sentence[\n",
    "    df_review_one_sentence['title'] == '기생충 (PARASITE)'].index[0]\n",
    "Tfidf = TfidVectorizer(sublinear_tf=True)\n",
    "Tfidf_"
   ]
  },
  {
   "cell_type": "code",
   "execution_count": null,
   "id": "adequate-remark",
   "metadata": {},
   "outputs": [],
   "source": []
  },
  {
   "cell_type": "code",
   "execution_count": null,
   "id": "northern-rings",
   "metadata": {},
   "outputs": [],
   "source": []
  },
  {
   "cell_type": "code",
   "execution_count": null,
   "id": "polish-commander",
   "metadata": {},
   "outputs": [],
   "source": []
  },
  {
   "cell_type": "code",
   "execution_count": null,
   "id": "shared-estonia",
   "metadata": {},
   "outputs": [],
   "source": []
  }
 ],
 "metadata": {
  "kernelspec": {
   "display_name": "Python 3",
   "language": "python",
   "name": "python3"
  },
  "language_info": {
   "codemirror_mode": {
    "name": "ipython",
    "version": 3
   },
   "file_extension": ".py",
   "mimetype": "text/x-python",
   "name": "python",
   "nbconvert_exporter": "python",
   "pygments_lexer": "ipython3",
   "version": "3.7.9"
  }
 },
 "nbformat": 4,
 "nbformat_minor": 5
}
