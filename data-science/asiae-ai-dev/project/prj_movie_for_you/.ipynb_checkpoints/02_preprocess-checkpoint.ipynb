{
 "cells": [
  {
   "cell_type": "code",
   "execution_count": 92,
   "metadata": {},
   "outputs": [],
   "source": [
    "import pandas as pd\n",
    "import numpy as np\n",
    "import re\n",
    "from konlpy.tag import Okt"
   ]
  },
  {
   "cell_type": "code",
   "execution_count": 94,
   "metadata": {},
   "outputs": [
    {
     "data": {
      "text/html": [
       "<div>\n",
       "<style scoped>\n",
       "    .dataframe tbody tr th:only-of-type {\n",
       "        vertical-align: middle;\n",
       "    }\n",
       "\n",
       "    .dataframe tbody tr th {\n",
       "        vertical-align: top;\n",
       "    }\n",
       "\n",
       "    .dataframe thead th {\n",
       "        text-align: right;\n",
       "    }\n",
       "</style>\n",
       "<table border=\"1\" class=\"dataframe\">\n",
       "  <thead>\n",
       "    <tr style=\"text-align: right;\">\n",
       "      <th></th>\n",
       "      <th>title</th>\n",
       "      <th>review</th>\n",
       "    </tr>\n",
       "  </thead>\n",
       "  <tbody>\n",
       "    <tr>\n",
       "      <th>0</th>\n",
       "      <td>10 미니츠 곤 (10 Minutes Gone)</td>\n",
       "      <td>10 미니츠 곤\\n감독\\n브라이언 A 밀러\\n출연\\n브루스 윌리스, 마이클 치클리스...</td>\n",
       "    </tr>\n",
       "    <tr>\n",
       "      <th>1</th>\n",
       "      <td>10 미니츠 곤 (10 Minutes Gone)</td>\n",
       "      <td>\\n10 미니츠 곤 \\n10 Minutes Gone, 2019\\n\\n장르 : 액션...</td>\n",
       "    </tr>\n",
       "    <tr>\n",
       "      <th>2</th>\n",
       "      <td>108명의 여자와 섹스하는 방법 (108: REVENGE AND ADVENTURE ...</td>\n",
       "      <td>\\n난 헥헥이라고는 생각하진 않았다.\\n그래도 그런 면도 기대하지 않았다고 하면 ...</td>\n",
       "    </tr>\n",
       "    <tr>\n",
       "      <th>3</th>\n",
       "      <td>12명의 죽고 싶은 아이들 (12 Suicidal Teens)</td>\n",
       "      <td>혹시 우울한가요? 자살하고 싶나요?\\n저도 정말 죽고 싶었던 적이 있었는데요\\n\"죽...</td>\n",
       "    </tr>\n",
       "    <tr>\n",
       "      <th>4</th>\n",
       "      <td>12명의 죽고 싶은 아이들 (12 Suicidal Teens)</td>\n",
       "      <td>12명의 죽고 싶은 아이들\\n감독\\n츠츠미 유키히코\\n출연\\n스기사키 하나, 아라타...</td>\n",
       "    </tr>\n",
       "  </tbody>\n",
       "</table>\n",
       "</div>"
      ],
      "text/plain": [
       "                                               title  \\\n",
       "0                         10 미니츠 곤 (10 Minutes Gone)   \n",
       "1                         10 미니츠 곤 (10 Minutes Gone)   \n",
       "2  108명의 여자와 섹스하는 방법 (108: REVENGE AND ADVENTURE ...   \n",
       "3                 12명의 죽고 싶은 아이들 (12 Suicidal Teens)   \n",
       "4                 12명의 죽고 싶은 아이들 (12 Suicidal Teens)   \n",
       "\n",
       "                                              review  \n",
       "0  10 미니츠 곤\\n감독\\n브라이언 A 밀러\\n출연\\n브루스 윌리스, 마이클 치클리스...  \n",
       "1   \\n10 미니츠 곤 \\n10 Minutes Gone, 2019\\n\\n장르 : 액션...  \n",
       "2   \\n난 헥헥이라고는 생각하진 않았다.\\n그래도 그런 면도 기대하지 않았다고 하면 ...  \n",
       "3  혹시 우울한가요? 자살하고 싶나요?\\n저도 정말 죽고 싶었던 적이 있었는데요\\n\"죽...  \n",
       "4  12명의 죽고 싶은 아이들\\n감독\\n츠츠미 유키히코\\n출연\\n스기사키 하나, 아라타...  "
      ]
     },
     "execution_count": 94,
     "metadata": {},
     "output_type": "execute_result"
    }
   ],
   "source": [
    "reviews = pd.read_csv('./csv/movie_review_2019_3.csv', index_col=0)\n",
    "reviews.head()"
   ]
  },
  {
   "cell_type": "code",
   "execution_count": 4,
   "metadata": {},
   "outputs": [
    {
     "data": {
      "text/plain": [
       "'   미니츠 곤 감독 브라이언   밀러 출연 브루스 윌리스  마이클 치클리스 개봉             캐나다  미국 평점 리뷰보기 동영상이 첨부되었습니다  원본보기 예고편           리프라이즐                   리프라이즐 감독 브라이언    밀러 출연 브루스 윌리스  프랭크 그릴로 개봉 미국 평점 리뷰보기 예고편                     리프라이즐에서도 이야기했지만 감독이 제작자출신 돈많은   그러므로 브루스 윌리스에게 돈좀 쥐어주거나 둘이 친구거나    도대체 왜이런영화에 출연하는지  류 급 부활을 노리는건지   영화도 영화지만 캐스팅 참 밉상들만나옴     동영상이 첨부되었습니다  원본보기 상어가죽의 선택 한 장면           평점   점 만점에  점       '"
      ]
     },
     "execution_count": 4,
     "metadata": {},
     "output_type": "execute_result"
    }
   ],
   "source": [
    "sentence = re.sub(r'[^가-힣]', ' ', reviews.iloc[0,1])\n",
    "sentence"
   ]
  },
  {
   "cell_type": "code",
   "execution_count": 5,
   "metadata": {},
   "outputs": [],
   "source": [
    "okt = Okt()\n",
    "token = okt.pos(sentence)"
   ]
  },
  {
   "cell_type": "code",
   "execution_count": 7,
   "metadata": {},
   "outputs": [
    {
     "data": {
      "text/html": [
       "<div>\n",
       "<style scoped>\n",
       "    .dataframe tbody tr th:only-of-type {\n",
       "        vertical-align: middle;\n",
       "    }\n",
       "\n",
       "    .dataframe tbody tr th {\n",
       "        vertical-align: top;\n",
       "    }\n",
       "\n",
       "    .dataframe thead th {\n",
       "        text-align: right;\n",
       "    }\n",
       "</style>\n",
       "<table border=\"1\" class=\"dataframe\">\n",
       "  <thead>\n",
       "    <tr style=\"text-align: right;\">\n",
       "      <th></th>\n",
       "      <th>word</th>\n",
       "      <th>class</th>\n",
       "    </tr>\n",
       "  </thead>\n",
       "  <tbody>\n",
       "    <tr>\n",
       "      <th>0</th>\n",
       "      <td>미니</td>\n",
       "      <td>Noun</td>\n",
       "    </tr>\n",
       "    <tr>\n",
       "      <th>1</th>\n",
       "      <td>츠</td>\n",
       "      <td>Noun</td>\n",
       "    </tr>\n",
       "    <tr>\n",
       "      <th>2</th>\n",
       "      <td>곤</td>\n",
       "      <td>Noun</td>\n",
       "    </tr>\n",
       "    <tr>\n",
       "      <th>3</th>\n",
       "      <td>감독</td>\n",
       "      <td>Noun</td>\n",
       "    </tr>\n",
       "    <tr>\n",
       "      <th>4</th>\n",
       "      <td>브라이언</td>\n",
       "      <td>Noun</td>\n",
       "    </tr>\n",
       "    <tr>\n",
       "      <th>...</th>\n",
       "      <td>...</td>\n",
       "      <td>...</td>\n",
       "    </tr>\n",
       "    <tr>\n",
       "      <th>108</th>\n",
       "      <td>평점</td>\n",
       "      <td>Noun</td>\n",
       "    </tr>\n",
       "    <tr>\n",
       "      <th>109</th>\n",
       "      <td>점</td>\n",
       "      <td>Noun</td>\n",
       "    </tr>\n",
       "    <tr>\n",
       "      <th>110</th>\n",
       "      <td>만점</td>\n",
       "      <td>Noun</td>\n",
       "    </tr>\n",
       "    <tr>\n",
       "      <th>111</th>\n",
       "      <td>에</td>\n",
       "      <td>Josa</td>\n",
       "    </tr>\n",
       "    <tr>\n",
       "      <th>112</th>\n",
       "      <td>점</td>\n",
       "      <td>Noun</td>\n",
       "    </tr>\n",
       "  </tbody>\n",
       "</table>\n",
       "<p>113 rows × 2 columns</p>\n",
       "</div>"
      ],
      "text/plain": [
       "     word class\n",
       "0      미니  Noun\n",
       "1       츠  Noun\n",
       "2       곤  Noun\n",
       "3      감독  Noun\n",
       "4    브라이언  Noun\n",
       "..    ...   ...\n",
       "108    평점  Noun\n",
       "109     점  Noun\n",
       "110    만점  Noun\n",
       "111     에  Josa\n",
       "112     점  Noun\n",
       "\n",
       "[113 rows x 2 columns]"
      ]
     },
     "execution_count": 7,
     "metadata": {},
     "output_type": "execute_result"
    }
   ],
   "source": [
    "df_token = pd.DataFrame(token, columns = ['word',  'class'])\n",
    "df_token"
   ]
  },
  {
   "cell_type": "code",
   "execution_count": 9,
   "metadata": {},
   "outputs": [
    {
     "data": {
      "text/html": [
       "<div>\n",
       "<style scoped>\n",
       "    .dataframe tbody tr th:only-of-type {\n",
       "        vertical-align: middle;\n",
       "    }\n",
       "\n",
       "    .dataframe tbody tr th {\n",
       "        vertical-align: top;\n",
       "    }\n",
       "\n",
       "    .dataframe thead th {\n",
       "        text-align: right;\n",
       "    }\n",
       "</style>\n",
       "<table border=\"1\" class=\"dataframe\">\n",
       "  <thead>\n",
       "    <tr style=\"text-align: right;\">\n",
       "      <th></th>\n",
       "      <th>word</th>\n",
       "      <th>class</th>\n",
       "    </tr>\n",
       "  </thead>\n",
       "  <tbody>\n",
       "    <tr>\n",
       "      <th>0</th>\n",
       "      <td>미니</td>\n",
       "      <td>Noun</td>\n",
       "    </tr>\n",
       "    <tr>\n",
       "      <th>1</th>\n",
       "      <td>츠</td>\n",
       "      <td>Noun</td>\n",
       "    </tr>\n",
       "    <tr>\n",
       "      <th>2</th>\n",
       "      <td>곤</td>\n",
       "      <td>Noun</td>\n",
       "    </tr>\n",
       "    <tr>\n",
       "      <th>3</th>\n",
       "      <td>감독</td>\n",
       "      <td>Noun</td>\n",
       "    </tr>\n",
       "    <tr>\n",
       "      <th>4</th>\n",
       "      <td>브라이언</td>\n",
       "      <td>Noun</td>\n",
       "    </tr>\n",
       "    <tr>\n",
       "      <th>...</th>\n",
       "      <td>...</td>\n",
       "      <td>...</td>\n",
       "    </tr>\n",
       "    <tr>\n",
       "      <th>107</th>\n",
       "      <td>장면</td>\n",
       "      <td>Noun</td>\n",
       "    </tr>\n",
       "    <tr>\n",
       "      <th>108</th>\n",
       "      <td>평점</td>\n",
       "      <td>Noun</td>\n",
       "    </tr>\n",
       "    <tr>\n",
       "      <th>109</th>\n",
       "      <td>점</td>\n",
       "      <td>Noun</td>\n",
       "    </tr>\n",
       "    <tr>\n",
       "      <th>110</th>\n",
       "      <td>만점</td>\n",
       "      <td>Noun</td>\n",
       "    </tr>\n",
       "    <tr>\n",
       "      <th>112</th>\n",
       "      <td>점</td>\n",
       "      <td>Noun</td>\n",
       "    </tr>\n",
       "  </tbody>\n",
       "</table>\n",
       "<p>77 rows × 2 columns</p>\n",
       "</div>"
      ],
      "text/plain": [
       "     word class\n",
       "0      미니  Noun\n",
       "1       츠  Noun\n",
       "2       곤  Noun\n",
       "3      감독  Noun\n",
       "4    브라이언  Noun\n",
       "..    ...   ...\n",
       "107    장면  Noun\n",
       "108    평점  Noun\n",
       "109     점  Noun\n",
       "110    만점  Noun\n",
       "112     점  Noun\n",
       "\n",
       "[77 rows x 2 columns]"
      ]
     },
     "execution_count": 9,
     "metadata": {},
     "output_type": "execute_result"
    }
   ],
   "source": [
    "df_cleaned_token = df_token[(df_token['class']=='Noun')|\n",
    "                           (df_token['class']=='Verbe')|\n",
    "                           (df_token['class']=='Adjective')]\n",
    "df_cleaned_token"
   ]
  },
  {
   "cell_type": "code",
   "execution_count": 72,
   "metadata": {},
   "outputs": [
    {
     "data": {
      "text/plain": [
       "['아', '휴', '아이구', '아이쿠', '아이고']"
      ]
     },
     "execution_count": 72,
     "metadata": {},
     "output_type": "execute_result"
    }
   ],
   "source": [
    "stopwords = pd.read_csv('./csv/stopwords.csv', index_col=0)\n",
    "stopwords = list(stopwords['stopword'])\n",
    "stopwords[:5]"
   ]
  },
  {
   "cell_type": "code",
   "execution_count": 46,
   "metadata": {},
   "outputs": [],
   "source": [
    "cleaned_sentences = []\n",
    "for word in df_cleaned_token['word']:\n",
    "    #print(word)\n",
    "    if len(word) > 1:\n",
    "        if word not in stopwords:\n",
    "            cleaned_sentences.append(word)"
   ]
  },
  {
   "cell_type": "code",
   "execution_count": 47,
   "metadata": {},
   "outputs": [
    {
     "data": {
      "text/plain": [
       "'영화 브릿지 테러 셧다운 마블 히어로 블랙 팬서 이름 널리 채드윅 보스 연작 입니다 지난 갑작스럽게 비보 마지막 개봉 국내 개봉 직후 코로나 신종 바이러스 세상 전파 시작 흥행 통치 다운로드 생각 괜찮아서 형사물 좋아하시는 위해 집콕 연말 영화 소개 야심한 뉴욕 중심지 맨해튼 와인 가게 복면 인조 무장 강도 침입 목표 와인 가게 지하 창고 코카인 상치 뉴욕 경찰 순찰 당황 순경 모두 살해 심각한 중범죄 무장강 도의 정체 레이 마이클 빈민가 형제 사고 사회 적응 유혹 사건 현장 출동 안드레 데이비드 형사 범인 맨해튼 남아 있다 판단 외부 도주 스물 모든 다리 봉쇄 요청 시간 봉쇄 동안 범인 검거 사건 관할 부서 멕케 경감 마약 부서 프랭키 번스 형사 파트너 안드레 지휘 부고 다음 그런지 채드윅 보스 얼굴 잠깐 잠깐 병색 같아 안타까웠습니다 시에나 밀러 연기 프랭키 안드레 처음 의견 대립 조금 있다 손발 영화 블록버스터 스케일 아니고 극장 정통 형사물 있었습니다 액션 두뇌 게임 높은 비중 있어요 범죄자 추적 갈수록 단순 강도 살인 아니라는 안드레 악한 정은 아니었지만 환경 지배 아래 범죄 나락 마이클 대결 과연 어떻게 직접 채드윅 보스 사망 소식 국내 언론 이런 제목 기사 전세계 언론 신뢰 꼴찌 국내 기레기 천한 인성 더욱 적나라하게 대형 포털 클릭 유도 있으면 무슨 아무런 죄책감 사회 인격장애 있는 소위 기자 있습니다 채드윅 보스 자신 알리 성실히 작품 활동 오히려 투병 중인 어린이 희망 용기 고귀한 영혼 배우 마지막 모습 있었던 영화 브릿지 브릿지 테러 셧다운 감독 브라이언 커크 출연 채드윅 보스 시몬 시에나 밀러 테일러 키취 개봉 미국 리뷰 보기'"
      ]
     },
     "execution_count": 47,
     "metadata": {},
     "output_type": "execute_result"
    }
   ],
   "source": [
    "cleaned_sentence = ' '.join(stop_words)\n",
    "cleaned_sentence"
   ]
  },
  {
   "cell_type": "code",
   "execution_count": 95,
   "metadata": {},
   "outputs": [],
   "source": [
    "def clean_review(df, stopwords):\n",
    "    okt = Okt()\n",
    "    cleaned_sentences = []\n",
    "\n",
    "    for s in df['review']:\n",
    "\n",
    "        sentence = re.sub(r'[^가-힣]', ' ', s)\n",
    "\n",
    "        token = okt.pos(sentence)\n",
    "        df_token = pd.DataFrame(token, columns = ['word',  'class'])\n",
    "\n",
    "        df_cleaned_token = df_token[(df_token['class']=='Noun')|\n",
    "                               (df_token['class']=='Verbe')|\n",
    "                               (df_token['class']=='Adjective')]\n",
    "\n",
    "        words = []\n",
    "        \n",
    "        for word in df_cleaned_token['word']:\n",
    "            \n",
    "            if len(word) > 1:\n",
    "                if word not in stopwords:\n",
    "                    words.append(word)\n",
    "\n",
    "        cleaned_sentence = ' '.join(words)\n",
    "        cleaned_sentences.append(cleaned_sentence)\n",
    "        \n",
    "    return cleaned_sentences"
   ]
  },
  {
   "cell_type": "code",
   "execution_count": 96,
   "metadata": {},
   "outputs": [],
   "source": [
    "reviews['cleaned_review'] = clean_review(reviews, stopwords)\n",
    "df = reviews[['title', 'cleaned_review']]"
   ]
  },
  {
   "cell_type": "code",
   "execution_count": 97,
   "metadata": {},
   "outputs": [],
   "source": [
    "def sum_strings_by_movie_name(df):\n",
    "    one_sentences = []\n",
    "\n",
    "    for title in df['title'].unique():\n",
    "        temp = df[df['title']==title]['cleaned_review']\n",
    "\n",
    "        one_sentence = ' '.join(list(temp))\n",
    "        one_sentences.append(one_sentence)\n",
    "\n",
    "    return pd.DataFrame({'title':df['title'].unique(), 'review':one_sentences})"
   ]
  },
  {
   "cell_type": "code",
   "execution_count": 98,
   "metadata": {},
   "outputs": [],
   "source": [
    "df_one_sentences = sum_strings_by_movie_name(df)"
   ]
  },
  {
   "cell_type": "code",
   "execution_count": 99,
   "metadata": {},
   "outputs": [
    {
     "data": {
      "text/html": [
       "<div>\n",
       "<style scoped>\n",
       "    .dataframe tbody tr th:only-of-type {\n",
       "        vertical-align: middle;\n",
       "    }\n",
       "\n",
       "    .dataframe tbody tr th {\n",
       "        vertical-align: top;\n",
       "    }\n",
       "\n",
       "    .dataframe thead th {\n",
       "        text-align: right;\n",
       "    }\n",
       "</style>\n",
       "<table border=\"1\" class=\"dataframe\">\n",
       "  <thead>\n",
       "    <tr style=\"text-align: right;\">\n",
       "      <th></th>\n",
       "      <th>title</th>\n",
       "      <th>review</th>\n",
       "    </tr>\n",
       "  </thead>\n",
       "  <tbody>\n",
       "    <tr>\n",
       "      <th>0</th>\n",
       "      <td>10 미니츠 곤 (10 Minutes Gone)</td>\n",
       "      <td>미니 감독 브라이언 밀러 출연 브루스 윌리스 마이클 리스 개봉 캐나다 미국 평점 리...</td>\n",
       "    </tr>\n",
       "    <tr>\n",
       "      <th>1</th>\n",
       "      <td>108명의 여자와 섹스하는 방법 (108: REVENGE AND ADVENTURE ...</td>\n",
       "      <td>헥헥 생각 면도 기대하지 거짓말 영화 정통 드라마 실망 실망 포르노 정도 아니지만 ...</td>\n",
       "    </tr>\n",
       "    <tr>\n",
       "      <th>2</th>\n",
       "      <td>12명의 죽고 싶은 아이들 (12 Suicidal Teens)</td>\n",
       "      <td>우울한가요 자살 정말 있었는데요 생각 순간 방식 높은 아프지 아프게 방법 없을까 방...</td>\n",
       "    </tr>\n",
       "    <tr>\n",
       "      <th>3</th>\n",
       "      <td>13일의 금요일 : 음모론의 시작 (Friday the 13th : The Cons...</td>\n",
       "      <td>인천 감독 편의 영화 사실 부족 연출 노력 모습 항상 영화 재미 있던가 뭔가 있어야...</td>\n",
       "    </tr>\n",
       "    <tr>\n",
       "      <th>4</th>\n",
       "      <td>16세의 사운드트랙 (Soundtrack to Sixteen)</td>\n",
       "      <td>사운드트랙 감독 힐러리 셰익스피어 출연 스칼렛 마샬 제임스 콜로 웨이 개봉 영국 평...</td>\n",
       "    </tr>\n",
       "    <tr>\n",
       "      <th>5</th>\n",
       "      <td>1917 (1917)</td>\n",
       "      <td>감독 데스 출연 조지 맥케이 찰스 채프먼 개봉 미국 평점 리뷰 보기 스포일러 포함 ...</td>\n",
       "    </tr>\n",
       "    <tr>\n",
       "      <th>6</th>\n",
       "      <td>1918: 크루티 대전투 (Kruty 1918)</td>\n",
       "      <td>크루 전투 감독 알렉세이 샤파 레바 개봉 우크라이나 평점 리뷰 보기 우크라이나 독립...</td>\n",
       "    </tr>\n",
       "    <tr>\n",
       "      <th>7</th>\n",
       "      <td>1919 유관순</td>\n",
       "      <td>항거 보고 일본 입장 대변 항거 영화 이야기 전달 방식 입니다 일본 한국 변명 방식...</td>\n",
       "    </tr>\n",
       "    <tr>\n",
       "      <th>8</th>\n",
       "      <td>1942: 언노운 배틀 (Unknown Battle)</td>\n",
       "      <td>언노운 배틀 감독 카피 출연 세르게이 자코 이반 바타 레프 알렉산드르 버카 로프 표...</td>\n",
       "    </tr>\n",
       "    <tr>\n",
       "      <th>9</th>\n",
       "      <td>1945: 포인트 오브 노 리턴 (The Eastern Front: Point of...</td>\n",
       "      <td>영화 포인트 오브 리턴 있을까 영화 포인트 오브 리턴 독일군 중위 비롯 병사 진지 ...</td>\n",
       "    </tr>\n",
       "    <tr>\n",
       "      <th>10</th>\n",
       "      <td>21 브릿지: 테러 셧다운 (21 Bridges)</td>\n",
       "      <td>와칸 포레버 블랙 팬서 채디윅 보스 주연 범죄 액션영화 브릿지 테러 셧다운 롯데 시...</td>\n",
       "    </tr>\n",
       "  </tbody>\n",
       "</table>\n",
       "</div>"
      ],
      "text/plain": [
       "                                                title  \\\n",
       "0                          10 미니츠 곤 (10 Minutes Gone)   \n",
       "1   108명의 여자와 섹스하는 방법 (108: REVENGE AND ADVENTURE ...   \n",
       "2                  12명의 죽고 싶은 아이들 (12 Suicidal Teens)   \n",
       "3   13일의 금요일 : 음모론의 시작 (Friday the 13th : The Cons...   \n",
       "4                  16세의 사운드트랙 (Soundtrack to Sixteen)   \n",
       "5                                         1917 (1917)   \n",
       "6                          1918: 크루티 대전투 (Kruty 1918)   \n",
       "7                                            1919 유관순   \n",
       "8                       1942: 언노운 배틀 (Unknown Battle)   \n",
       "9   1945: 포인트 오브 노 리턴 (The Eastern Front: Point of...   \n",
       "10                        21 브릿지: 테러 셧다운 (21 Bridges)   \n",
       "\n",
       "                                               review  \n",
       "0   미니 감독 브라이언 밀러 출연 브루스 윌리스 마이클 리스 개봉 캐나다 미국 평점 리...  \n",
       "1   헥헥 생각 면도 기대하지 거짓말 영화 정통 드라마 실망 실망 포르노 정도 아니지만 ...  \n",
       "2   우울한가요 자살 정말 있었는데요 생각 순간 방식 높은 아프지 아프게 방법 없을까 방...  \n",
       "3   인천 감독 편의 영화 사실 부족 연출 노력 모습 항상 영화 재미 있던가 뭔가 있어야...  \n",
       "4   사운드트랙 감독 힐러리 셰익스피어 출연 스칼렛 마샬 제임스 콜로 웨이 개봉 영국 평...  \n",
       "5   감독 데스 출연 조지 맥케이 찰스 채프먼 개봉 미국 평점 리뷰 보기 스포일러 포함 ...  \n",
       "6   크루 전투 감독 알렉세이 샤파 레바 개봉 우크라이나 평점 리뷰 보기 우크라이나 독립...  \n",
       "7   항거 보고 일본 입장 대변 항거 영화 이야기 전달 방식 입니다 일본 한국 변명 방식...  \n",
       "8   언노운 배틀 감독 카피 출연 세르게이 자코 이반 바타 레프 알렉산드르 버카 로프 표...  \n",
       "9   영화 포인트 오브 리턴 있을까 영화 포인트 오브 리턴 독일군 중위 비롯 병사 진지 ...  \n",
       "10  와칸 포레버 블랙 팬서 채디윅 보스 주연 범죄 액션영화 브릿지 테러 셧다운 롯데 시...  "
      ]
     },
     "execution_count": 99,
     "metadata": {},
     "output_type": "execute_result"
    }
   ],
   "source": [
    "df_one_sentences"
   ]
  },
  {
   "cell_type": "code",
   "execution_count": 90,
   "metadata": {},
   "outputs": [],
   "source": [
    "\n",
    "df.to_csv('./csv/cleaned_movie_review_2019_3.csv', encoding='utf-8-sig')"
   ]
  },
  {
   "cell_type": "code",
   "execution_count": null,
   "metadata": {},
   "outputs": [],
   "source": []
  }
 ],
 "metadata": {
  "kernelspec": {
   "display_name": "Python 3",
   "language": "python",
   "name": "python3"
  },
  "language_info": {
   "codemirror_mode": {
    "name": "ipython",
    "version": 3
   },
   "file_extension": ".py",
   "mimetype": "text/x-python",
   "name": "python",
   "nbconvert_exporter": "python",
   "pygments_lexer": "ipython3",
   "version": "3.7.9"
  }
 },
 "nbformat": 4,
 "nbformat_minor": 4
}
