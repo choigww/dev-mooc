{
 "cells": [
  {
   "cell_type": "code",
   "execution_count": 1,
   "metadata": {},
   "outputs": [],
   "source": [
    "import pandas as pd\n",
    "import matplotlib.pyplot as plt\n",
    "import numpy as np\n",
    "from selenium import webdriver\n",
    "import time"
   ]
  },
  {
   "cell_type": "code",
   "execution_count": 78,
   "metadata": {},
   "outputs": [],
   "source": [
    "options = webdriver.ChromeOptions()\n",
    "#options.add_argument('headless')\n",
    "options.add_argument('disable-gpu')\n",
    "options.add_argument('lang=ko_KR')\n",
    "driver = webdriver.Chrome(\n",
    "    '../chromedriver', options=options)"
   ]
  },
  {
   "cell_type": "code",
   "execution_count": 79,
   "metadata": {},
   "outputs": [],
   "source": [
    "url = 'https://movie.naver.com/movie/sdb/browsing/bmovie.nhn?year=2019'\n",
    "driver.get(url)"
   ]
  },
  {
   "cell_type": "code",
   "execution_count": 80,
   "metadata": {},
   "outputs": [
    {
     "name": "stdout",
     "output_type": "stream",
     "text": [
      "1 아웃 오브 30 (1 out of 30)\n"
     ]
    }
   ],
   "source": [
    "title = driver.find_element_by_xpath(\n",
    "'//*[@id=\"old_content\"]/ul/li[1]/a').text\n",
    "print(title)"
   ]
  },
  {
   "cell_type": "code",
   "execution_count": 81,
   "metadata": {},
   "outputs": [
    {
     "name": "stdout",
     "output_type": "stream",
     "text": [
      "10 미니츠 곤 (10 Minutes Gone)\n",
      "debug1\n",
      "2\n",
      "10 미니츠 포 어 파운드 (10 MINUTES FOR A POUND)\n",
      "debug1\n",
      "except4\n",
      "100 이어스 프롬 홈 (100 Years from Home)\n",
      "debug1\n",
      "except4\n",
      "1000 드림스: 젠티 디 인빈서블 (1000 Dreams: Zenti the Invincible)\n",
      "except3\n",
      "108명의 여자와 섹스하는 방법 (108: REVENGE AND ADVENTURE OF GORO KAIBA)\n",
      "debug1\n",
      "1\n",
      "110% 어니스트 (110% Honest)\n",
      "debug1\n",
      "except4\n",
      "11:50\n",
      "debug1\n",
      "except4\n",
      "12 K. 막스 스트리트 (12 K. Marx Street)\n",
      "debug1\n",
      "except4\n",
      "12명의 죽고 싶은 아이들 (12 Suicidal Teens)\n",
      "debug1\n",
      "6\n",
      "13 그레이브스 (13 Graves)\n",
      "debug1\n",
      "except4\n",
      "13+\n",
      "except2\n",
      "13,000 피트의 앤 (Anne at 13,000 ft)\n",
      "debug1\n",
      "except4\n",
      "13살 병관이 (13 Year Old Byeong-guan)\n",
      "debug1\n",
      "except4\n",
      "13일의 금요일 : 음모론의 시작 (Friday the 13th : The Conspiracy Begins)\n",
      "debug1\n",
      "1\n",
      "14 데이즈, 12 나이츠 (14 Days 12 Nights)\n",
      "debug1\n",
      "except4\n",
      "143 사하라 스트리트 (143 sahara street)\n",
      "debug1\n",
      "except4\n",
      "143.89 - 0Km\n",
      "debug1\n",
      "except4\n",
      "16 디셈버 (16 December)\n",
      "debug1\n",
      "except4\n",
      "['10 미니츠 곤 (10 Minutes Gone)', '108명의 여자와 섹스하는 방법 (108: REVENGE AND ADVENTURE OF GORO KAIBA)', '12명의 죽고 싶은 아이들 (12 Suicidal Teens)', '13일의 금요일 : 음모론의 시작 (Friday the 13th : The Conspiracy Begins)']\n"
     ]
    }
   ],
   "source": [
    "titles = []\n",
    "try:\n",
    "    for i in range(1,21):\n",
    "        try:\n",
    "            xpath = '//*[@id=\"old_content\"]/ul/li['+ str(i) \\\n",
    "            + ']/a'\n",
    "            title = driver.find_element_by_xpath(xpath).text\n",
    "            print(title)\n",
    "            driver.find_element_by_xpath(xpath).click()\n",
    "            try:\n",
    "                driver.find_element_by_xpath(\n",
    "                    '//*[@id=\"movieEndTabMenu\"]/li[6]/a/em'\n",
    "                ).click()\n",
    "                print('debug1')\n",
    "                try:\n",
    "                    review_len = driver.find_element_by_xpath(\n",
    "                        '//*[@id=\"reviewTab\"]/div/div/div[2]/span/em'\n",
    "                    ).text\n",
    "                    \n",
    "                    review_len = review_len.replace(',', '')\n",
    "                    review_len = int(review_len)\n",
    "                    print(review_len)\n",
    "                    for j in range(1,11):\n",
    "                        pass\n",
    "                    titles.append(title)\n",
    "                    driver.back()\n",
    "                    driver.back()\n",
    "                except:\n",
    "                    driver.back()\n",
    "                    driver.back()\n",
    "                    print('except4')\n",
    "            except:\n",
    "                print('except3')\n",
    "        except:\n",
    "            print('except2')\n",
    "            \n",
    "    print(titles)\n",
    "except:\n",
    "    print('except1')\n",
    "finally:\n",
    "    driver.close()\n",
    "    \n"
   ]
  },
  {
   "cell_type": "markdown",
   "metadata": {},
   "source": [
    "//*[@id=\"old_content\"]/ul/li[1]/a\n",
    "//*[@id=\"old_content\"]/ul/li[2]/a\n",
    "//*[@id=\"old_content\"]/ul/li[3]/a\n",
    "\n",
    "//*[@id=\"old_content\"]/ul/li[20]/a\n",
    "\n",
    "/html/body/div/div[4]/div[2]/div[1]/div[4]/div/div/div/div/ul/li[1]/a/strong\n"
   ]
  },
  {
   "cell_type": "code",
   "execution_count": 36,
   "metadata": {},
   "outputs": [],
   "source": [
    "driver.find_element_by_xpath(\n",
    "        '//*[@id=\"old_content\"]/ul/li['+ str(3) + ']/a'\n",
    "    ).click()\n",
    "driver.find_element_by_xpath(\n",
    "    '//*[@id=\"movieEndTabMenu\"]/li[6]/a/em').click()\n",
    "driver.find_element_by_xpath(\n",
    "'//*[@id=\"reviewTab\"]/div/div/ul/li[1]/a/strong').click()"
   ]
  },
  {
   "cell_type": "code",
   "execution_count": null,
   "metadata": {},
   "outputs": [],
   "source": []
  },
  {
   "cell_type": "code",
   "execution_count": 106,
   "metadata": {},
   "outputs": [
    {
     "name": "stdout",
     "output_type": "stream",
     "text": [
      "1450\n"
     ]
    }
   ],
   "source": [
    "review_len = driver.find_element_by_xpath(\n",
    "    '//*[@id=\"reviewTab\"]/div/div/div[2]/span/em').text\n",
    "review_len = review_len.replace(',', '')\n",
    "review_len = int(review_len)\n",
    "print(review_len)"
   ]
  },
  {
   "cell_type": "code",
   "execution_count": 87,
   "metadata": {},
   "outputs": [],
   "source": [
    "driver = webdriver.Chrome(\n",
    "    '../chromedriver', options=options)\n",
    "url = 'https://movie.naver.com/movie/bi/mi/review.nhn?code=161967&page=1'\n",
    "driver.get(url)"
   ]
  },
  {
   "cell_type": "code",
   "execution_count": 107,
   "metadata": {},
   "outputs": [
    {
     "name": "stdout",
     "output_type": "stream",
     "text": [
      "debug1\n",
      "debug2\n",
      "debug3\n",
      "0\n",
      "debug2\n",
      "debug3\n",
      "1\n",
      "debug2\n",
      "debug3\n",
      "2\n",
      "debug2\n",
      "debug3\n",
      "3\n",
      "debug2\n",
      "debug3\n",
      "4\n",
      "debug2\n",
      "debug3\n",
      "5\n",
      "debug2\n",
      "debug3\n",
      "6\n",
      "debug2\n",
      "debug3\n",
      "7\n",
      "debug2\n",
      "debug3\n",
      "8\n",
      "debug2\n",
      "debug3\n",
      "9\n",
      "debug1\n",
      "debug2\n",
      "debug3\n",
      "10\n",
      "debug2\n",
      "debug3\n",
      "11\n",
      "debug2\n",
      "debug3\n",
      "12\n",
      "debug2\n",
      "debug3\n",
      "13\n",
      "debug2\n",
      "debug3\n",
      "14\n",
      "debug2\n",
      "debug3\n",
      "15\n",
      "debug2\n",
      "debug3\n",
      "16\n",
      "debug2\n",
      "debug3\n",
      "17\n",
      "debug2\n",
      "debug3\n",
      "18\n",
      "debug2\n",
      "debug3\n",
      "19\n",
      "debug1\n",
      "debug2\n",
      "debug3\n",
      "20\n",
      "debug2\n",
      "debug3\n",
      "except2\n",
      "debug2\n",
      "debug3\n",
      "22\n",
      "debug2\n",
      "debug3\n",
      "23\n",
      "debug2\n",
      "debug3\n",
      "24\n",
      "debug2\n",
      "debug3\n",
      "25\n",
      "debug2\n",
      "debug3\n",
      "26\n",
      "debug2\n",
      "debug3\n",
      "27\n",
      "debug2\n",
      "debug3\n",
      "28\n",
      "debug2\n",
      "debug3\n",
      "29\n",
      "debug1\n",
      "debug2\n",
      "debug3\n",
      "30\n",
      "debug2\n",
      "debug3\n",
      "31\n",
      "debug2\n",
      "debug3\n",
      "32\n",
      "debug2\n",
      "debug3\n",
      "33\n",
      "debug2\n",
      "debug3\n",
      "34\n",
      "debug2\n",
      "debug3\n",
      "35\n",
      "debug2\n",
      "debug3\n",
      "36\n",
      "debug2\n",
      "debug3\n",
      "37\n",
      "debug2\n",
      "debug3\n",
      "38\n",
      "debug2\n",
      "debug3\n",
      "39\n"
     ]
    },
    {
     "ename": "KeyboardInterrupt",
     "evalue": "",
     "output_type": "error",
     "traceback": [
      "\u001b[1;31m---------------------------------------------------------------------------\u001b[0m",
      "\u001b[1;31mKeyboardInterrupt\u001b[0m                         Traceback (most recent call last)",
      "\u001b[1;32m<ipython-input-107-e6059c077db6>\u001b[0m in \u001b[0;36m<module>\u001b[1;34m\u001b[0m\n\u001b[0;32m     27\u001b[0m     \u001b[0mprint\u001b[0m\u001b[1;33m(\u001b[0m\u001b[0mlen\u001b[0m\u001b[1;33m(\u001b[0m\u001b[0mreviews\u001b[0m\u001b[1;33m)\u001b[0m\u001b[1;33m)\u001b[0m\u001b[1;33m\u001b[0m\u001b[1;33m\u001b[0m\u001b[0m\n\u001b[0;32m     28\u001b[0m \u001b[1;32mexcept\u001b[0m\u001b[1;33m:\u001b[0m\u001b[1;33m\u001b[0m\u001b[1;33m\u001b[0m\u001b[0m\n\u001b[1;32m---> 29\u001b[1;33m     \u001b[0mdriver\u001b[0m\u001b[1;33m.\u001b[0m\u001b[0mback\u001b[0m\u001b[1;33m(\u001b[0m\u001b[1;33m)\u001b[0m\u001b[1;33m\u001b[0m\u001b[1;33m\u001b[0m\u001b[0m\n\u001b[0m\u001b[0;32m     30\u001b[0m     \u001b[0mprint\u001b[0m\u001b[1;33m(\u001b[0m\u001b[1;34m'except1'\u001b[0m\u001b[1;33m)\u001b[0m\u001b[1;33m\u001b[0m\u001b[1;33m\u001b[0m\u001b[0m\n",
      "\u001b[1;32mC:\\ProgramData\\Anaconda37\\envs\\AI_dev_env\\lib\\site-packages\\selenium\\webdriver\\remote\\webdriver.py\u001b[0m in \u001b[0;36mback\u001b[1;34m(self)\u001b[0m\n\u001b[0;32m    811\u001b[0m             \u001b[0mdriver\u001b[0m\u001b[1;33m.\u001b[0m\u001b[0mback\u001b[0m\u001b[1;33m(\u001b[0m\u001b[1;33m)\u001b[0m\u001b[1;33m\u001b[0m\u001b[1;33m\u001b[0m\u001b[0m\n\u001b[0;32m    812\u001b[0m         \"\"\"\n\u001b[1;32m--> 813\u001b[1;33m         \u001b[0mself\u001b[0m\u001b[1;33m.\u001b[0m\u001b[0mexecute\u001b[0m\u001b[1;33m(\u001b[0m\u001b[0mCommand\u001b[0m\u001b[1;33m.\u001b[0m\u001b[0mGO_BACK\u001b[0m\u001b[1;33m)\u001b[0m\u001b[1;33m\u001b[0m\u001b[1;33m\u001b[0m\u001b[0m\n\u001b[0m\u001b[0;32m    814\u001b[0m \u001b[1;33m\u001b[0m\u001b[0m\n\u001b[0;32m    815\u001b[0m     \u001b[1;32mdef\u001b[0m \u001b[0mforward\u001b[0m\u001b[1;33m(\u001b[0m\u001b[0mself\u001b[0m\u001b[1;33m)\u001b[0m\u001b[1;33m:\u001b[0m\u001b[1;33m\u001b[0m\u001b[1;33m\u001b[0m\u001b[0m\n",
      "\u001b[1;32mC:\\ProgramData\\Anaconda37\\envs\\AI_dev_env\\lib\\site-packages\\selenium\\webdriver\\remote\\webdriver.py\u001b[0m in \u001b[0;36mexecute\u001b[1;34m(self, driver_command, params)\u001b[0m\n\u001b[0;32m    317\u001b[0m \u001b[1;33m\u001b[0m\u001b[0m\n\u001b[0;32m    318\u001b[0m         \u001b[0mparams\u001b[0m \u001b[1;33m=\u001b[0m \u001b[0mself\u001b[0m\u001b[1;33m.\u001b[0m\u001b[0m_wrap_value\u001b[0m\u001b[1;33m(\u001b[0m\u001b[0mparams\u001b[0m\u001b[1;33m)\u001b[0m\u001b[1;33m\u001b[0m\u001b[1;33m\u001b[0m\u001b[0m\n\u001b[1;32m--> 319\u001b[1;33m         \u001b[0mresponse\u001b[0m \u001b[1;33m=\u001b[0m \u001b[0mself\u001b[0m\u001b[1;33m.\u001b[0m\u001b[0mcommand_executor\u001b[0m\u001b[1;33m.\u001b[0m\u001b[0mexecute\u001b[0m\u001b[1;33m(\u001b[0m\u001b[0mdriver_command\u001b[0m\u001b[1;33m,\u001b[0m \u001b[0mparams\u001b[0m\u001b[1;33m)\u001b[0m\u001b[1;33m\u001b[0m\u001b[1;33m\u001b[0m\u001b[0m\n\u001b[0m\u001b[0;32m    320\u001b[0m         \u001b[1;32mif\u001b[0m \u001b[0mresponse\u001b[0m\u001b[1;33m:\u001b[0m\u001b[1;33m\u001b[0m\u001b[1;33m\u001b[0m\u001b[0m\n\u001b[0;32m    321\u001b[0m             \u001b[0mself\u001b[0m\u001b[1;33m.\u001b[0m\u001b[0merror_handler\u001b[0m\u001b[1;33m.\u001b[0m\u001b[0mcheck_response\u001b[0m\u001b[1;33m(\u001b[0m\u001b[0mresponse\u001b[0m\u001b[1;33m)\u001b[0m\u001b[1;33m\u001b[0m\u001b[1;33m\u001b[0m\u001b[0m\n",
      "\u001b[1;32mC:\\ProgramData\\Anaconda37\\envs\\AI_dev_env\\lib\\site-packages\\selenium\\webdriver\\remote\\remote_connection.py\u001b[0m in \u001b[0;36mexecute\u001b[1;34m(self, command, params)\u001b[0m\n\u001b[0;32m    372\u001b[0m         \u001b[0mdata\u001b[0m \u001b[1;33m=\u001b[0m \u001b[0mutils\u001b[0m\u001b[1;33m.\u001b[0m\u001b[0mdump_json\u001b[0m\u001b[1;33m(\u001b[0m\u001b[0mparams\u001b[0m\u001b[1;33m)\u001b[0m\u001b[1;33m\u001b[0m\u001b[1;33m\u001b[0m\u001b[0m\n\u001b[0;32m    373\u001b[0m         \u001b[0murl\u001b[0m \u001b[1;33m=\u001b[0m \u001b[1;34m'%s%s'\u001b[0m \u001b[1;33m%\u001b[0m \u001b[1;33m(\u001b[0m\u001b[0mself\u001b[0m\u001b[1;33m.\u001b[0m\u001b[0m_url\u001b[0m\u001b[1;33m,\u001b[0m \u001b[0mpath\u001b[0m\u001b[1;33m)\u001b[0m\u001b[1;33m\u001b[0m\u001b[1;33m\u001b[0m\u001b[0m\n\u001b[1;32m--> 374\u001b[1;33m         \u001b[1;32mreturn\u001b[0m \u001b[0mself\u001b[0m\u001b[1;33m.\u001b[0m\u001b[0m_request\u001b[0m\u001b[1;33m(\u001b[0m\u001b[0mcommand_info\u001b[0m\u001b[1;33m[\u001b[0m\u001b[1;36m0\u001b[0m\u001b[1;33m]\u001b[0m\u001b[1;33m,\u001b[0m \u001b[0murl\u001b[0m\u001b[1;33m,\u001b[0m \u001b[0mbody\u001b[0m\u001b[1;33m=\u001b[0m\u001b[0mdata\u001b[0m\u001b[1;33m)\u001b[0m\u001b[1;33m\u001b[0m\u001b[1;33m\u001b[0m\u001b[0m\n\u001b[0m\u001b[0;32m    375\u001b[0m \u001b[1;33m\u001b[0m\u001b[0m\n\u001b[0;32m    376\u001b[0m     \u001b[1;32mdef\u001b[0m \u001b[0m_request\u001b[0m\u001b[1;33m(\u001b[0m\u001b[0mself\u001b[0m\u001b[1;33m,\u001b[0m \u001b[0mmethod\u001b[0m\u001b[1;33m,\u001b[0m \u001b[0murl\u001b[0m\u001b[1;33m,\u001b[0m \u001b[0mbody\u001b[0m\u001b[1;33m=\u001b[0m\u001b[1;32mNone\u001b[0m\u001b[1;33m)\u001b[0m\u001b[1;33m:\u001b[0m\u001b[1;33m\u001b[0m\u001b[1;33m\u001b[0m\u001b[0m\n",
      "\u001b[1;32mC:\\ProgramData\\Anaconda37\\envs\\AI_dev_env\\lib\\site-packages\\selenium\\webdriver\\remote\\remote_connection.py\u001b[0m in \u001b[0;36m_request\u001b[1;34m(self, method, url, body)\u001b[0m\n\u001b[0;32m    395\u001b[0m \u001b[1;33m\u001b[0m\u001b[0m\n\u001b[0;32m    396\u001b[0m         \u001b[1;32mif\u001b[0m \u001b[0mself\u001b[0m\u001b[1;33m.\u001b[0m\u001b[0mkeep_alive\u001b[0m\u001b[1;33m:\u001b[0m\u001b[1;33m\u001b[0m\u001b[1;33m\u001b[0m\u001b[0m\n\u001b[1;32m--> 397\u001b[1;33m             \u001b[0mresp\u001b[0m \u001b[1;33m=\u001b[0m \u001b[0mself\u001b[0m\u001b[1;33m.\u001b[0m\u001b[0m_conn\u001b[0m\u001b[1;33m.\u001b[0m\u001b[0mrequest\u001b[0m\u001b[1;33m(\u001b[0m\u001b[0mmethod\u001b[0m\u001b[1;33m,\u001b[0m \u001b[0murl\u001b[0m\u001b[1;33m,\u001b[0m \u001b[0mbody\u001b[0m\u001b[1;33m=\u001b[0m\u001b[0mbody\u001b[0m\u001b[1;33m,\u001b[0m \u001b[0mheaders\u001b[0m\u001b[1;33m=\u001b[0m\u001b[0mheaders\u001b[0m\u001b[1;33m)\u001b[0m\u001b[1;33m\u001b[0m\u001b[1;33m\u001b[0m\u001b[0m\n\u001b[0m\u001b[0;32m    398\u001b[0m \u001b[1;33m\u001b[0m\u001b[0m\n\u001b[0;32m    399\u001b[0m             \u001b[0mstatuscode\u001b[0m \u001b[1;33m=\u001b[0m \u001b[0mresp\u001b[0m\u001b[1;33m.\u001b[0m\u001b[0mstatus\u001b[0m\u001b[1;33m\u001b[0m\u001b[1;33m\u001b[0m\u001b[0m\n",
      "\u001b[1;32mC:\\ProgramData\\Anaconda37\\envs\\AI_dev_env\\lib\\site-packages\\urllib3\\request.py\u001b[0m in \u001b[0;36mrequest\u001b[1;34m(self, method, url, fields, headers, **urlopen_kw)\u001b[0m\n\u001b[0;32m     77\u001b[0m         \u001b[1;32melse\u001b[0m\u001b[1;33m:\u001b[0m\u001b[1;33m\u001b[0m\u001b[1;33m\u001b[0m\u001b[0m\n\u001b[0;32m     78\u001b[0m             return self.request_encode_body(\n\u001b[1;32m---> 79\u001b[1;33m                 \u001b[0mmethod\u001b[0m\u001b[1;33m,\u001b[0m \u001b[0murl\u001b[0m\u001b[1;33m,\u001b[0m \u001b[0mfields\u001b[0m\u001b[1;33m=\u001b[0m\u001b[0mfields\u001b[0m\u001b[1;33m,\u001b[0m \u001b[0mheaders\u001b[0m\u001b[1;33m=\u001b[0m\u001b[0mheaders\u001b[0m\u001b[1;33m,\u001b[0m \u001b[1;33m**\u001b[0m\u001b[0murlopen_kw\u001b[0m\u001b[1;33m\u001b[0m\u001b[1;33m\u001b[0m\u001b[0m\n\u001b[0m\u001b[0;32m     80\u001b[0m             )\n\u001b[0;32m     81\u001b[0m \u001b[1;33m\u001b[0m\u001b[0m\n",
      "\u001b[1;32mC:\\ProgramData\\Anaconda37\\envs\\AI_dev_env\\lib\\site-packages\\urllib3\\request.py\u001b[0m in \u001b[0;36mrequest_encode_body\u001b[1;34m(self, method, url, fields, headers, encode_multipart, multipart_boundary, **urlopen_kw)\u001b[0m\n\u001b[0;32m    168\u001b[0m         \u001b[0mextra_kw\u001b[0m\u001b[1;33m.\u001b[0m\u001b[0mupdate\u001b[0m\u001b[1;33m(\u001b[0m\u001b[0murlopen_kw\u001b[0m\u001b[1;33m)\u001b[0m\u001b[1;33m\u001b[0m\u001b[1;33m\u001b[0m\u001b[0m\n\u001b[0;32m    169\u001b[0m \u001b[1;33m\u001b[0m\u001b[0m\n\u001b[1;32m--> 170\u001b[1;33m         \u001b[1;32mreturn\u001b[0m \u001b[0mself\u001b[0m\u001b[1;33m.\u001b[0m\u001b[0murlopen\u001b[0m\u001b[1;33m(\u001b[0m\u001b[0mmethod\u001b[0m\u001b[1;33m,\u001b[0m \u001b[0murl\u001b[0m\u001b[1;33m,\u001b[0m \u001b[1;33m**\u001b[0m\u001b[0mextra_kw\u001b[0m\u001b[1;33m)\u001b[0m\u001b[1;33m\u001b[0m\u001b[1;33m\u001b[0m\u001b[0m\n\u001b[0m",
      "\u001b[1;32mC:\\ProgramData\\Anaconda37\\envs\\AI_dev_env\\lib\\site-packages\\urllib3\\poolmanager.py\u001b[0m in \u001b[0;36murlopen\u001b[1;34m(self, method, url, redirect, **kw)\u001b[0m\n\u001b[0;32m    373\u001b[0m             \u001b[0mresponse\u001b[0m \u001b[1;33m=\u001b[0m \u001b[0mconn\u001b[0m\u001b[1;33m.\u001b[0m\u001b[0murlopen\u001b[0m\u001b[1;33m(\u001b[0m\u001b[0mmethod\u001b[0m\u001b[1;33m,\u001b[0m \u001b[0murl\u001b[0m\u001b[1;33m,\u001b[0m \u001b[1;33m**\u001b[0m\u001b[0mkw\u001b[0m\u001b[1;33m)\u001b[0m\u001b[1;33m\u001b[0m\u001b[1;33m\u001b[0m\u001b[0m\n\u001b[0;32m    374\u001b[0m         \u001b[1;32melse\u001b[0m\u001b[1;33m:\u001b[0m\u001b[1;33m\u001b[0m\u001b[1;33m\u001b[0m\u001b[0m\n\u001b[1;32m--> 375\u001b[1;33m             \u001b[0mresponse\u001b[0m \u001b[1;33m=\u001b[0m \u001b[0mconn\u001b[0m\u001b[1;33m.\u001b[0m\u001b[0murlopen\u001b[0m\u001b[1;33m(\u001b[0m\u001b[0mmethod\u001b[0m\u001b[1;33m,\u001b[0m \u001b[0mu\u001b[0m\u001b[1;33m.\u001b[0m\u001b[0mrequest_uri\u001b[0m\u001b[1;33m,\u001b[0m \u001b[1;33m**\u001b[0m\u001b[0mkw\u001b[0m\u001b[1;33m)\u001b[0m\u001b[1;33m\u001b[0m\u001b[1;33m\u001b[0m\u001b[0m\n\u001b[0m\u001b[0;32m    376\u001b[0m \u001b[1;33m\u001b[0m\u001b[0m\n\u001b[0;32m    377\u001b[0m         \u001b[0mredirect_location\u001b[0m \u001b[1;33m=\u001b[0m \u001b[0mredirect\u001b[0m \u001b[1;32mand\u001b[0m \u001b[0mresponse\u001b[0m\u001b[1;33m.\u001b[0m\u001b[0mget_redirect_location\u001b[0m\u001b[1;33m(\u001b[0m\u001b[1;33m)\u001b[0m\u001b[1;33m\u001b[0m\u001b[1;33m\u001b[0m\u001b[0m\n",
      "\u001b[1;32mC:\\ProgramData\\Anaconda37\\envs\\AI_dev_env\\lib\\site-packages\\urllib3\\connectionpool.py\u001b[0m in \u001b[0;36murlopen\u001b[1;34m(self, method, url, body, headers, retries, redirect, assert_same_host, timeout, pool_timeout, release_conn, chunked, body_pos, **response_kw)\u001b[0m\n\u001b[0;32m    704\u001b[0m                 \u001b[0mbody\u001b[0m\u001b[1;33m=\u001b[0m\u001b[0mbody\u001b[0m\u001b[1;33m,\u001b[0m\u001b[1;33m\u001b[0m\u001b[1;33m\u001b[0m\u001b[0m\n\u001b[0;32m    705\u001b[0m                 \u001b[0mheaders\u001b[0m\u001b[1;33m=\u001b[0m\u001b[0mheaders\u001b[0m\u001b[1;33m,\u001b[0m\u001b[1;33m\u001b[0m\u001b[1;33m\u001b[0m\u001b[0m\n\u001b[1;32m--> 706\u001b[1;33m                 \u001b[0mchunked\u001b[0m\u001b[1;33m=\u001b[0m\u001b[0mchunked\u001b[0m\u001b[1;33m,\u001b[0m\u001b[1;33m\u001b[0m\u001b[1;33m\u001b[0m\u001b[0m\n\u001b[0m\u001b[0;32m    707\u001b[0m             )\n\u001b[0;32m    708\u001b[0m \u001b[1;33m\u001b[0m\u001b[0m\n",
      "\u001b[1;32mC:\\ProgramData\\Anaconda37\\envs\\AI_dev_env\\lib\\site-packages\\urllib3\\connectionpool.py\u001b[0m in \u001b[0;36m_make_request\u001b[1;34m(self, conn, method, url, timeout, chunked, **httplib_request_kw)\u001b[0m\n\u001b[0;32m    443\u001b[0m                     \u001b[1;31m# Python 3 (including for exceptions like SystemExit).\u001b[0m\u001b[1;33m\u001b[0m\u001b[1;33m\u001b[0m\u001b[1;33m\u001b[0m\u001b[0m\n\u001b[0;32m    444\u001b[0m                     \u001b[1;31m# Otherwise it looks like a bug in the code.\u001b[0m\u001b[1;33m\u001b[0m\u001b[1;33m\u001b[0m\u001b[1;33m\u001b[0m\u001b[0m\n\u001b[1;32m--> 445\u001b[1;33m                     \u001b[0msix\u001b[0m\u001b[1;33m.\u001b[0m\u001b[0mraise_from\u001b[0m\u001b[1;33m(\u001b[0m\u001b[0me\u001b[0m\u001b[1;33m,\u001b[0m \u001b[1;32mNone\u001b[0m\u001b[1;33m)\u001b[0m\u001b[1;33m\u001b[0m\u001b[1;33m\u001b[0m\u001b[0m\n\u001b[0m\u001b[0;32m    446\u001b[0m         \u001b[1;32mexcept\u001b[0m \u001b[1;33m(\u001b[0m\u001b[0mSocketTimeout\u001b[0m\u001b[1;33m,\u001b[0m \u001b[0mBaseSSLError\u001b[0m\u001b[1;33m,\u001b[0m \u001b[0mSocketError\u001b[0m\u001b[1;33m)\u001b[0m \u001b[1;32mas\u001b[0m \u001b[0me\u001b[0m\u001b[1;33m:\u001b[0m\u001b[1;33m\u001b[0m\u001b[1;33m\u001b[0m\u001b[0m\n\u001b[0;32m    447\u001b[0m             \u001b[0mself\u001b[0m\u001b[1;33m.\u001b[0m\u001b[0m_raise_timeout\u001b[0m\u001b[1;33m(\u001b[0m\u001b[0merr\u001b[0m\u001b[1;33m=\u001b[0m\u001b[0me\u001b[0m\u001b[1;33m,\u001b[0m \u001b[0murl\u001b[0m\u001b[1;33m=\u001b[0m\u001b[0murl\u001b[0m\u001b[1;33m,\u001b[0m \u001b[0mtimeout_value\u001b[0m\u001b[1;33m=\u001b[0m\u001b[0mread_timeout\u001b[0m\u001b[1;33m)\u001b[0m\u001b[1;33m\u001b[0m\u001b[1;33m\u001b[0m\u001b[0m\n",
      "\u001b[1;32mC:\\ProgramData\\Anaconda37\\envs\\AI_dev_env\\lib\\site-packages\\urllib3\\packages\\six.py\u001b[0m in \u001b[0;36mraise_from\u001b[1;34m(value, from_value)\u001b[0m\n",
      "\u001b[1;32mC:\\ProgramData\\Anaconda37\\envs\\AI_dev_env\\lib\\site-packages\\urllib3\\connectionpool.py\u001b[0m in \u001b[0;36m_make_request\u001b[1;34m(self, conn, method, url, timeout, chunked, **httplib_request_kw)\u001b[0m\n\u001b[0;32m    438\u001b[0m                 \u001b[1;31m# Python 3\u001b[0m\u001b[1;33m\u001b[0m\u001b[1;33m\u001b[0m\u001b[1;33m\u001b[0m\u001b[0m\n\u001b[0;32m    439\u001b[0m                 \u001b[1;32mtry\u001b[0m\u001b[1;33m:\u001b[0m\u001b[1;33m\u001b[0m\u001b[1;33m\u001b[0m\u001b[0m\n\u001b[1;32m--> 440\u001b[1;33m                     \u001b[0mhttplib_response\u001b[0m \u001b[1;33m=\u001b[0m \u001b[0mconn\u001b[0m\u001b[1;33m.\u001b[0m\u001b[0mgetresponse\u001b[0m\u001b[1;33m(\u001b[0m\u001b[1;33m)\u001b[0m\u001b[1;33m\u001b[0m\u001b[1;33m\u001b[0m\u001b[0m\n\u001b[0m\u001b[0;32m    441\u001b[0m                 \u001b[1;32mexcept\u001b[0m \u001b[0mBaseException\u001b[0m \u001b[1;32mas\u001b[0m \u001b[0me\u001b[0m\u001b[1;33m:\u001b[0m\u001b[1;33m\u001b[0m\u001b[1;33m\u001b[0m\u001b[0m\n\u001b[0;32m    442\u001b[0m                     \u001b[1;31m# Remove the TypeError from the exception chain in\u001b[0m\u001b[1;33m\u001b[0m\u001b[1;33m\u001b[0m\u001b[1;33m\u001b[0m\u001b[0m\n",
      "\u001b[1;32mC:\\ProgramData\\Anaconda37\\envs\\AI_dev_env\\lib\\http\\client.py\u001b[0m in \u001b[0;36mgetresponse\u001b[1;34m(self)\u001b[0m\n\u001b[0;32m   1367\u001b[0m         \u001b[1;32mtry\u001b[0m\u001b[1;33m:\u001b[0m\u001b[1;33m\u001b[0m\u001b[1;33m\u001b[0m\u001b[0m\n\u001b[0;32m   1368\u001b[0m             \u001b[1;32mtry\u001b[0m\u001b[1;33m:\u001b[0m\u001b[1;33m\u001b[0m\u001b[1;33m\u001b[0m\u001b[0m\n\u001b[1;32m-> 1369\u001b[1;33m                 \u001b[0mresponse\u001b[0m\u001b[1;33m.\u001b[0m\u001b[0mbegin\u001b[0m\u001b[1;33m(\u001b[0m\u001b[1;33m)\u001b[0m\u001b[1;33m\u001b[0m\u001b[1;33m\u001b[0m\u001b[0m\n\u001b[0m\u001b[0;32m   1370\u001b[0m             \u001b[1;32mexcept\u001b[0m \u001b[0mConnectionError\u001b[0m\u001b[1;33m:\u001b[0m\u001b[1;33m\u001b[0m\u001b[1;33m\u001b[0m\u001b[0m\n\u001b[0;32m   1371\u001b[0m                 \u001b[0mself\u001b[0m\u001b[1;33m.\u001b[0m\u001b[0mclose\u001b[0m\u001b[1;33m(\u001b[0m\u001b[1;33m)\u001b[0m\u001b[1;33m\u001b[0m\u001b[1;33m\u001b[0m\u001b[0m\n",
      "\u001b[1;32mC:\\ProgramData\\Anaconda37\\envs\\AI_dev_env\\lib\\http\\client.py\u001b[0m in \u001b[0;36mbegin\u001b[1;34m(self)\u001b[0m\n\u001b[0;32m    308\u001b[0m         \u001b[1;31m# read until we get a non-100 response\u001b[0m\u001b[1;33m\u001b[0m\u001b[1;33m\u001b[0m\u001b[1;33m\u001b[0m\u001b[0m\n\u001b[0;32m    309\u001b[0m         \u001b[1;32mwhile\u001b[0m \u001b[1;32mTrue\u001b[0m\u001b[1;33m:\u001b[0m\u001b[1;33m\u001b[0m\u001b[1;33m\u001b[0m\u001b[0m\n\u001b[1;32m--> 310\u001b[1;33m             \u001b[0mversion\u001b[0m\u001b[1;33m,\u001b[0m \u001b[0mstatus\u001b[0m\u001b[1;33m,\u001b[0m \u001b[0mreason\u001b[0m \u001b[1;33m=\u001b[0m \u001b[0mself\u001b[0m\u001b[1;33m.\u001b[0m\u001b[0m_read_status\u001b[0m\u001b[1;33m(\u001b[0m\u001b[1;33m)\u001b[0m\u001b[1;33m\u001b[0m\u001b[1;33m\u001b[0m\u001b[0m\n\u001b[0m\u001b[0;32m    311\u001b[0m             \u001b[1;32mif\u001b[0m \u001b[0mstatus\u001b[0m \u001b[1;33m!=\u001b[0m \u001b[0mCONTINUE\u001b[0m\u001b[1;33m:\u001b[0m\u001b[1;33m\u001b[0m\u001b[1;33m\u001b[0m\u001b[0m\n\u001b[0;32m    312\u001b[0m                 \u001b[1;32mbreak\u001b[0m\u001b[1;33m\u001b[0m\u001b[1;33m\u001b[0m\u001b[0m\n",
      "\u001b[1;32mC:\\ProgramData\\Anaconda37\\envs\\AI_dev_env\\lib\\http\\client.py\u001b[0m in \u001b[0;36m_read_status\u001b[1;34m(self)\u001b[0m\n\u001b[0;32m    269\u001b[0m \u001b[1;33m\u001b[0m\u001b[0m\n\u001b[0;32m    270\u001b[0m     \u001b[1;32mdef\u001b[0m \u001b[0m_read_status\u001b[0m\u001b[1;33m(\u001b[0m\u001b[0mself\u001b[0m\u001b[1;33m)\u001b[0m\u001b[1;33m:\u001b[0m\u001b[1;33m\u001b[0m\u001b[1;33m\u001b[0m\u001b[0m\n\u001b[1;32m--> 271\u001b[1;33m         \u001b[0mline\u001b[0m \u001b[1;33m=\u001b[0m \u001b[0mstr\u001b[0m\u001b[1;33m(\u001b[0m\u001b[0mself\u001b[0m\u001b[1;33m.\u001b[0m\u001b[0mfp\u001b[0m\u001b[1;33m.\u001b[0m\u001b[0mreadline\u001b[0m\u001b[1;33m(\u001b[0m\u001b[0m_MAXLINE\u001b[0m \u001b[1;33m+\u001b[0m \u001b[1;36m1\u001b[0m\u001b[1;33m)\u001b[0m\u001b[1;33m,\u001b[0m \u001b[1;34m\"iso-8859-1\"\u001b[0m\u001b[1;33m)\u001b[0m\u001b[1;33m\u001b[0m\u001b[1;33m\u001b[0m\u001b[0m\n\u001b[0m\u001b[0;32m    272\u001b[0m         \u001b[1;32mif\u001b[0m \u001b[0mlen\u001b[0m\u001b[1;33m(\u001b[0m\u001b[0mline\u001b[0m\u001b[1;33m)\u001b[0m \u001b[1;33m>\u001b[0m \u001b[0m_MAXLINE\u001b[0m\u001b[1;33m:\u001b[0m\u001b[1;33m\u001b[0m\u001b[1;33m\u001b[0m\u001b[0m\n\u001b[0;32m    273\u001b[0m             \u001b[1;32mraise\u001b[0m \u001b[0mLineTooLong\u001b[0m\u001b[1;33m(\u001b[0m\u001b[1;34m\"status line\"\u001b[0m\u001b[1;33m)\u001b[0m\u001b[1;33m\u001b[0m\u001b[1;33m\u001b[0m\u001b[0m\n",
      "\u001b[1;32mC:\\ProgramData\\Anaconda37\\envs\\AI_dev_env\\lib\\socket.py\u001b[0m in \u001b[0;36mreadinto\u001b[1;34m(self, b)\u001b[0m\n\u001b[0;32m    587\u001b[0m         \u001b[1;32mwhile\u001b[0m \u001b[1;32mTrue\u001b[0m\u001b[1;33m:\u001b[0m\u001b[1;33m\u001b[0m\u001b[1;33m\u001b[0m\u001b[0m\n\u001b[0;32m    588\u001b[0m             \u001b[1;32mtry\u001b[0m\u001b[1;33m:\u001b[0m\u001b[1;33m\u001b[0m\u001b[1;33m\u001b[0m\u001b[0m\n\u001b[1;32m--> 589\u001b[1;33m                 \u001b[1;32mreturn\u001b[0m \u001b[0mself\u001b[0m\u001b[1;33m.\u001b[0m\u001b[0m_sock\u001b[0m\u001b[1;33m.\u001b[0m\u001b[0mrecv_into\u001b[0m\u001b[1;33m(\u001b[0m\u001b[0mb\u001b[0m\u001b[1;33m)\u001b[0m\u001b[1;33m\u001b[0m\u001b[1;33m\u001b[0m\u001b[0m\n\u001b[0m\u001b[0;32m    590\u001b[0m             \u001b[1;32mexcept\u001b[0m \u001b[0mtimeout\u001b[0m\u001b[1;33m:\u001b[0m\u001b[1;33m\u001b[0m\u001b[1;33m\u001b[0m\u001b[0m\n\u001b[0;32m    591\u001b[0m                 \u001b[0mself\u001b[0m\u001b[1;33m.\u001b[0m\u001b[0m_timeout_occurred\u001b[0m \u001b[1;33m=\u001b[0m \u001b[1;32mTrue\u001b[0m\u001b[1;33m\u001b[0m\u001b[1;33m\u001b[0m\u001b[0m\n",
      "\u001b[1;31mKeyboardInterrupt\u001b[0m: "
     ]
    }
   ],
   "source": [
    "reviews = []\n",
    "try:\n",
    "    for j in range(1,(review_len-1)//10+2):\n",
    "        review_page_xpath = '//*[@id=\"pagerTagAnchor{}\"]'.format(j)\n",
    "        driver.find_element_by_xpath(review_page_xpath).click()\n",
    "        for i in range(1,11):\n",
    "            review_title_xpath = \\\n",
    "            '//*[@id=\"reviewTab\"]/div/div/ul/li[{}]/a/strong'.format(i)\n",
    "            try:\n",
    "                driver.find_element_by_xpath(\n",
    "                    review_title_xpath).click()\n",
    "                \n",
    "            except:\n",
    "                print('except3')\n",
    "            try:\n",
    "                review = driver.find_element_by_xpath(\n",
    "        '//*[@id=\"content\"]/div[1]/div[4]/div[1]/div[4]').text\n",
    "                reviews.append(review)\n",
    "                print((j-1) * 10 + i - 1)\n",
    "                driver.back()\n",
    "            except:\n",
    "                driver.back()\n",
    "                print('except2')\n",
    "    print(len(reviews))\n",
    "except:\n",
    "    driver.back()\n",
    "    print('except1')"
   ]
  },
  {
   "cell_type": "code",
   "execution_count": 96,
   "metadata": {},
   "outputs": [
    {
     "data": {
      "text/plain": [
       "'세상엔 부자보다 부자가 아닌 사람들이 더 많지.\\n\\n설탕발린 달달한 말로 위로해주면\\n\\n본인이 만든 상업영화가 잘 팔린다는것을 아는게지.\\n\\n비판정신 투철한 의식있는 감독 칭호는 덤이고.\\n\\n설국열차도 그렇고 기생충도 그렇고\\n\\n자본주의 시스템 내의 계급,계층에 대해서 왜 이리  경기를 일으킬까?\\n\\n펜대 굴리는 집안에서 유복하게 자랐을테니 피해의식 때문은 아닐테고\\n\\n중년의 나이에 철없는 유토피아 타령은 더더욱 아닐테고\\n\\n전략적 이용??\\n\\n물론 빈과 부로 계층이 나뉘는 것이 좋은 것은 아니나\\n\\n어쩔 수 없는 노릇 아닌가?\\n\\n모두가 부자면 빵은 누가 굽고 택시는 누가 운전하나?\\n\\n부지런히 적금 부어서 사다리 타고 이층 집으로 이사 가라고 응원은 못해 줄 망정\\n\\n공생이 아니라 기생이라니???\\n\\n필요에 방점을 찍을 필요는 없지만 유독 악만 부각시키는 것은 선동 그 이상 그 이하도 아닌 것 가터.\\n\\n설국열차에서 기어코 기차를 탈선시킨 커티스보다  윌포드에게\\n\\n논리적 설득을 당하도록 방치한것도 봉감독일텐데\\n\\n참 알다가도 모를 음흉한 사람같으니라구.\\n\\n그래도 황금종려상 받았다고 하니 개봉일에 챙겨 봐야지.\\n\\n\\n\\n영화후기\\n역시나 예상에서 크게 벗어나지 않은 봉준호식 메타포\\n결국 봉준호 감독이 말하고자 하는 바는 무엇인가?\\n계층이동의 사다리는 걷어차여 끊어진지 오래라\\n계층이동의 유일한 방법은 , 선을 넘을 수 있는 유일한 방법은\\n꼬리칸 사람들이 기차를 탈선시키고 기생충이 되려 숙주마저 잡아먹는\\n급진적인 사회전복? 그들에겐 혁명? 봉준호식 파국장르?\\n\"아버지는 계단만 올라 오시면 되요\"(30년 후에 , 아니 평생 못...)\\n아버지를 구하기위해 대저택을 구입하겠다는 기우의 마지막 계획을 들으며\\n관객들은 최종학력 고졸 백수의 허무맹랑한 꿈에 실소를 머금을 것이다\\n그것이 봉감독의 의도\\n극단적인 설정을 통해 실현가능성에 의문부호를 달아\\n그 비판의 화살을 관객들의 현실로 , 사회 체제로 향하게 하는 세련되고 음흉한 봉테일\\n\\n\\n+추가\\nㄱ.계층간의 갈등만 있을 뿐  그 누구도 악하지 않다\\n으레 악할거라 예상되던 부잣집 가족은 기대와 달리 순하다 못해 순진해 빠졌고\\n엄연한 범죄를 일삼는 반지하 가족이지만  \\n악한 의도는 없음을 블랙코메디라는 장치를 통해 친절하게 부각시켜준다\\n영화에서  유일하게 악한 것은 사람이 아니라 계층갈등뿐이고\\n어쩔 수 없이 계층이 생겨날 수 밖에 없는, 그래서 갈등할 수 밖에 없는 이 사회시스템을 향해\\n감독은 관객들로 하여금 그 불만의 촛불을 들라고 말하고 싶은가보다\\n\\nㄴ.이념의 모순에 기생하는 사람들\\n자본주의의 달콤한 열매를 따먹으면서 나무를 뿌리 채 뽑자며 흔드는 사람들\\n비판만 존재하고 대안은 없다\\n경제적 계층을 부각시켜 이념적 계층을 만드는 사람들\\n빈부격차보다 이념격차의 간극이 오히려 더 갈등을 야기하는 시대\\n봉준호같은 재능있는 감독이 편향된 주제의식에서 벗어나\\n다양한 시선으로 사회를 바라볼 수 있는 영화를 내놓기를...\\n\\n\\n짜야 왠지 있어보이던 기자 평론가 평점이 네티즌 평점보다 높은 기이할 정도로 극찬 일색의 영화에 별점 테러와 삐딱한 어그로성 고언이 아니었다면 표현이 거칠고 논리적 비약이 다소 섞인 이런 리뷰가 이 정도 조회수를 받지는 못했을 것이다\\n좌편향 일색의 예술계 또한 이런 전략적 접근과 다를 바 없다\\n이기적이고 불완전한 인간이 오늘날처럼 다양성을 담보해주는 사회를 이룩할 수 있었던것도 궁극적으로는 자본주의 시장경제의 산물이다  부정할 수 없다 그렇다고 해서 자본주의 찬양일색이면 맥빠지고 재미없다 더욱이 지적허영으로 관념유희하길 즐기는 예술가들의 알량한 자존심을 세우고 동시에 영약한 밥벌이 계산이 완벽히 들어맞는 최고의 먹잇감을 놓칠리 없지않은가 \\n무능을 권위로 얼버무린 공권력을 신랄하게 까대던 그의 출세작 살인의 추억은 최고의 영화중 하나라고 생각한다 딱 거기까지다 봉준호 감독의 paradox에 박수칠 수 있는 영화는. 끝.'"
      ]
     },
     "execution_count": 96,
     "metadata": {},
     "output_type": "execute_result"
    }
   ],
   "source": [
    "reviews[2]"
   ]
  },
  {
   "cell_type": "code",
   "execution_count": null,
   "metadata": {},
   "outputs": [],
   "source": [
    "https://movie.naver.com/movie/sdb/browsing/bmovie.nhn?\n",
    "    year=2019&page=2\n",
    "https://movie.naver.com/movie/sdb/browsing/bmovie.nhn?\n",
    "    year=2019&page=3"
   ]
  },
  {
   "cell_type": "code",
   "execution_count": null,
   "metadata": {},
   "outputs": [],
   "source": [
    "https://movie.naver.com/movie/bi/mi/review.nhn?code=161967&page=2\n",
    "https://movie.naver.com/movie/bi/mi/review.nhn?code=161967&page=3"
   ]
  },
  {
   "cell_type": "code",
   "execution_count": 115,
   "metadata": {},
   "outputs": [
    {
     "name": "stdout",
     "output_type": "stream",
     "text": [
      "4.0\n",
      "finally\n",
      "end\n"
     ]
    }
   ],
   "source": [
    "try:\n",
    "    a = 4\n",
    "    b = 1\n",
    "    c = a / b\n",
    "    print(c)\n",
    "except:\n",
    "    print('error')\n",
    "finally:\n",
    "    print('finally')\n",
    "    \n",
    "print('end')"
   ]
  },
  {
   "cell_type": "code",
   "execution_count": null,
   "metadata": {},
   "outputs": [],
   "source": []
  }
 ],
 "metadata": {
  "kernelspec": {
   "display_name": "Python 3",
   "language": "python",
   "name": "python3"
  },
  "language_info": {
   "codemirror_mode": {
    "name": "ipython",
    "version": 3
   },
   "file_extension": ".py",
   "mimetype": "text/x-python",
   "name": "python",
   "nbconvert_exporter": "python",
   "pygments_lexer": "ipython3",
   "version": "3.7.9"
  }
 },
 "nbformat": 4,
 "nbformat_minor": 4
}
