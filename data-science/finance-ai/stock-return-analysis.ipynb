{
 "cells": [
  {
   "cell_type": "markdown",
   "metadata": {},
   "source": [
    "# Stock Return Analysis"
   ]
  },
  {
   "cell_type": "markdown",
   "metadata": {},
   "source": [
    "## Stock return pricing 모델\n",
    "capital asset pricing model (CAPM)\n",
    "- 시장요인 하나만을 가지고 설명\n",
    "- 설명력 부족함\n",
    "\n",
    "1993년 Fama-French, 2개 요인 추가 > 3요인 모형\n",
    "- 규모요인, 가치요인\n",
    "\n",
    "2015년, 다시 2개 요인 추가 > 5요인 모형\n",
    "- 수익성요인, 투자요인\n",
    "\n",
    "> Stock return과 관련된 asset pricing 벤치마크 모형\n",
    "\n",
    "### CAPM\n",
    "feature = market factor\n",
    "- market factor = 시장의 index 수익률에서 risk free asset return을 뺀 요인\n",
    "\n",
    "$$ E(R_i)-r_f=\\beta_i(E(r_m)-r_f)$$\n",
    "\n",
    "$$\\beta_i = \\frac{\\sigma1M}{\\sigma_M^2}$$\n",
    "\n",
    "$$\\beta = \\text{개별주식 i와 market return과의 normalized covariance}$$\n",
    "$$E(r_i) = \\text{주식 i의 기대수익률}$$\n",
    "$$r_i = \\text{무위험자산수익률 ex. US treasury bills rates(3개월 만기)}$$\n",
    "$$E(r_m) = \\text{시장기대수익률}$$\n",
    "\n",
    "### Model Specification for empirical analysis\n",
    "$$r_i-r_f=\\alpha_i+\\beta_i(r_m-r_f)+\\varepsilon_i$$\n",
    "\n",
    "$$\\varepsilon_i > \\text{expectation operator 없애면서 residual term 생성}$$\n",
    "$$\\text{y절편 } \\alpha_i\\text{ 추가한 이유} > \\text{만약 모형이 맞다면 }\\alpha_i\\text{ 는 0이 되어야 함을 테스트하기 위해 설정}$$\n",
    "\n",
    "### 규모요인\n",
    "규모요인 (SMB, Small Minus Big)\n",
    "- small cap = 시가총액 작은 기업들의 portfolio return\n",
    "- big cap = 시가총액 큰 기업들의 portfolio return\n",
    "\n",
    "$$ return(small \\ cap) - return(large \\ cap)$$\n",
    "\n",
    "\n",
    "### 가치요인\n",
    "가치요인 (HML, High Minus Low)\n",
    "- book to market ratio (BM ratio)\n",
    "    - book value와 market value의 비율 의미\n",
    "    - high book value = low market value = 가치기업\n",
    "    - low book value = high market value = 상장기업\n",
    "    \n",
    "$$return(high \\ B/M) - return(low \\ B/M)$$"
   ]
  },
  {
   "cell_type": "code",
   "execution_count": null,
   "metadata": {},
   "outputs": [],
   "source": []
  },
  {
   "cell_type": "code",
   "execution_count": null,
   "metadata": {},
   "outputs": [],
   "source": []
  },
  {
   "cell_type": "code",
   "execution_count": null,
   "metadata": {},
   "outputs": [],
   "source": []
  },
  {
   "cell_type": "code",
   "execution_count": null,
   "metadata": {},
   "outputs": [],
   "source": []
  },
  {
   "cell_type": "code",
   "execution_count": null,
   "metadata": {},
   "outputs": [],
   "source": []
  },
  {
   "cell_type": "code",
   "execution_count": null,
   "metadata": {},
   "outputs": [],
   "source": []
  },
  {
   "cell_type": "code",
   "execution_count": null,
   "metadata": {},
   "outputs": [],
   "source": []
  }
 ],
 "metadata": {
  "kernelspec": {
   "display_name": "Python 3",
   "language": "python",
   "name": "python3"
  },
  "language_info": {
   "codemirror_mode": {
    "name": "ipython",
    "version": 3
   },
   "file_extension": ".py",
   "mimetype": "text/x-python",
   "name": "python",
   "nbconvert_exporter": "python",
   "pygments_lexer": "ipython3",
   "version": "3.8.5"
  }
 },
 "nbformat": 4,
 "nbformat_minor": 4
}
