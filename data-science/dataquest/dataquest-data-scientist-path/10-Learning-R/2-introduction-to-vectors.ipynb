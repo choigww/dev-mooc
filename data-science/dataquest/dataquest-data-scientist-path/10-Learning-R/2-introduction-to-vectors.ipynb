{
 "cells": [
  {
   "cell_type": "markdown",
   "metadata": {},
   "source": [
    "# Introduction to Vectors"
   ]
  },
  {
   "cell_type": "code",
   "execution_count": null,
   "metadata": {
    "collapsed": true
   },
   "outputs": [],
   "source": []
  },
  {
   "cell_type": "markdown",
   "metadata": {},
   "source": [
    "## Indexing a Vector By Position\n",
    "\n",
    "From the previous mission, you learned the `min()` function. Let's try applying the `min()` function to our `final_scores` vector:\n",
    "\n",
    "```r\n",
    "print(min_final_scores))\n",
    "\n",
    "[1] 84\n",
    "```\n",
    "\n",
    "Calling a `min()` on our `final_scores` vector doesn't provide us with the name of the class like `math` or `chemistry`. It still prints our score. We'd like the R interpreter to print both `name` and `score`. Like this:\n",
    "\n",
    "```r\n",
    "math\n",
    "88\n",
    "```\n",
    "\n",
    "Only using `min()` won't work as our final solution. We'll return to `min()` later on in this mission. In the meantime, let's find another method that can print both name and the score.<br>\n",
    "\n",
    "One method, is to use **indexing**. Indexing means to select a subset of values for use. Within a vector, every value has a position in the vector. R is a **1-indexed** programming language. \n",
    "\n",
    "### This means, that the first value has a position of 1.\n",
    "\n",
    "![r-1-indexing-lang](https://s3.amazonaws.com/dq-content/181/position_v3.svg)\n",
    "\n",
    "We'll go over what `names()` is in a later screen. Let's use our `math_chemistry` vector and return the value in the second position. In order to return a specific value from our vector, follow these steps:\n",
    "\n",
    "![](https://s3.amazonaws.com/dq-content/181/vector_index.svg)\n",
    "\n",
    "When you index into a vector, the interpreter will display both the value and the name."
   ]
  },
  {
   "cell_type": "code",
   "execution_count": null,
   "metadata": {
    "collapsed": true
   },
   "outputs": [],
   "source": []
  },
  {
   "cell_type": "code",
   "execution_count": 1,
   "metadata": {},
   "outputs": [
    {
     "name": "stdout",
     "output_type": "stream",
     "text": [
      "[1] 86\n"
     ]
    }
   ],
   "source": [
    "final_scores <- c(88, 87.66667, 86, 91.33333, 84, 91, 89.33333)\n",
    "print(final_scores[3])\n",
    "\n",
    "third = final_scores[3]"
   ]
  },
  {
   "cell_type": "code",
   "execution_count": null,
   "metadata": {
    "collapsed": true
   },
   "outputs": [],
   "source": []
  },
  {
   "cell_type": "markdown",
   "metadata": {},
   "source": [
    "## Understanding Numeric Data Types\n",
    "\n",
    "Whenever you store a number or return a number, this value is a **numeric** data type. Numeric types are both whole numbers & decimal numbers(`88`, `87.666667`). However, not all values stored in R are of the numeric data type. We'll introduce a different data type later on in this mission, called the character type. First, let's figure out how check our data type.<br>\n",
    "\n",
    "To display the data type of a vector, you'll use the `class()` function. The `class()` function operates similar to the `mean()` function. Just place the vector in between the parentheses.<br>\n",
    "\n",
    "Let's display the data type of math_chemistry.\n",
    "\n",
    "```r\n",
    "math_chemistry <- c(88,87.66667)\n",
    "class(math_chemistry)\n",
    "\n",
    "[1] \"numeric\"\n",
    "```\n",
    "\n",
    "The displayed result is `\"numeric\"`. We'll go over what the quotations(`\" \"`) are in the next screen. Within the numeric data type, there is more complexity between different types of numbers, which you can read about [here](http://uc-r.github.io/integer_double/) if you'd like. Let's put the `class()` function to use!"
   ]
  },
  {
   "cell_type": "code",
   "execution_count": 2,
   "metadata": {},
   "outputs": [
    {
     "data": {
      "text/html": [
       "'numeric'"
      ],
      "text/latex": [
       "'numeric'"
      ],
      "text/markdown": [
       "'numeric'"
      ],
      "text/plain": [
       "[1] \"numeric\""
      ]
     },
     "metadata": {},
     "output_type": "display_data"
    }
   ],
   "source": [
    "class(final_scores)"
   ]
  },
  {
   "cell_type": "code",
   "execution_count": null,
   "metadata": {
    "collapsed": true
   },
   "outputs": [],
   "source": []
  },
  {
   "cell_type": "markdown",
   "metadata": {},
   "source": [
    "## Understanding Character Data Types\n",
    "\n",
    "In the previous screen, we introduced numeric data types. However, we're not looking to return a number `86`, we're looking to return a class name (`math`, `chemistry` etc). In addition, asking a question like \"what was my score in position 3?\", doesn't have much real-world utility.<br>\n",
    "\n",
    "As a result, there are a few more steps we need to take to return both a final score and class name. To return a name, let's learn about the `character` data type. The `character` data type is a common non-numerical data type. To represent the `character` data type, we'll surround our text with double quotes (`\"`). `\"math\"` would be an example of a `character` data type.\n",
    "\n",
    "```r\n",
    ">>> print(\"math\")\n",
    "math\n",
    "```\n",
    "\n",
    "Unlike variable names, you can include special characters within character types. Similar to assigning a number to a variable, you can also assign a character to a variable:\n",
    "\n",
    "```r\n",
    "class_name <- \"math\"\n",
    "print(clasS_name)\n",
    "\n",
    "[1] \"math\"\n",
    "```\n",
    "\n",
    "Let's return to our `math_chemistry` vector. Within this vector, we have our math score `88` and our chemistry score `87.66667`:\n",
    "\n",
    "```r\n",
    "math_chemistry <- c(88,87.66667)\n",
    "class_names <- c(\"math\",\"chemistry\")\n",
    "class(class_names)\n",
    "\n",
    "[1] \"character\"\n",
    "```\n",
    "\n",
    "A common mistake is to forget to include the `\" \"`. Let's see what happens when we forget to use `\" \"`. Let's try creating a vector of text with `math` and `chemistry`, without the quotation wrapper(`\" \"`):\n",
    "\n",
    "```r\n",
    "class_names <- c(math, chemistry)\n",
    "```\n",
    "\n",
    "This will return an error:\n",
    "\n",
    "```\n",
    "Error: object 'math' not found\n",
    "```\n",
    "\n",
    "Without quotes surrounding math and chemistry, the R interpreter will treat these two values as variables. **This will return an error because we didn't create these variables in this program**."
   ]
  },
  {
   "cell_type": "code",
   "execution_count": 3,
   "metadata": {},
   "outputs": [
    {
     "name": "stdout",
     "output_type": "stream",
     "text": [
      "[1] \"character\"\n"
     ]
    }
   ],
   "source": [
    "class_names <- c(\"math\", \"chemistry\", \"writing\", \"art\", \"history\", \"music\", \"physical_education\")\n",
    "print(class(class_names))"
   ]
  },
  {
   "cell_type": "code",
   "execution_count": null,
   "metadata": {
    "collapsed": true
   },
   "outputs": [],
   "source": []
  },
  {
   "cell_type": "markdown",
   "metadata": {},
   "source": [
    "## Naming Values\n",
    "\n",
    "To allow our program to return `math`, `chemistry` etc, let's find a way to label our scores in `final_scores` with our `class_names`. That way, when you display the classes we're struggling with, it'll **return both the score and the class name**.<br>\n",
    "\n",
    "Vectors have a feature where you can name the values within the vector. You'll use the `name()` function to assign these values. However, the `name()` function works differently than the `mean()` and other functions we've used.<br>\n",
    "\n",
    "When you look at a vector, you'll only see its values. Let's take `math_chemistry <- c(88,87.66667)`. However, **vectors have an additional feature that can store the names of every value**. This feature is called an `attribute`. Attributes are labeled values we can attach to our vector.<br>\n",
    "\n",
    "To access an attribute, use the `names()` function on your vector: `names(math_chemistry)`. This function that accesses the attribute of a vector is called an **accessor** function. By default, attributes are empty, so calling `names(math_chemistry)` will return an NA:\n",
    "\n",
    "![vector-attr-names](https://s3.amazonaws.com/dq-content/181/names_v2.svg)\n",
    "\n",
    "While functions like `mean()` and `min()` accept input values and return a new, computed value, functions like `print()` and `names()` return information about the value that's passed in.<br>\n",
    "\n",
    "To name our values in a vector, there are three steps: \n",
    "1. Create a vector of names. \n",
    "2. Call the `names()` function on the original vector (not the vector of names). \n",
    "3. Store the vector of names in `names()`."
   ]
  },
  {
   "cell_type": "code",
   "execution_count": 5,
   "metadata": {},
   "outputs": [
    {
     "name": "stdout",
     "output_type": "stream",
     "text": [
      "              math          chemistry            writing                art \n",
      "          88.00000           87.66667           86.00000           91.33333 \n",
      "           history              music physical_education \n",
      "          84.00000           91.00000           89.33333 \n"
     ]
    }
   ],
   "source": [
    "class_names <- c(\"math\", \"chemistry\", \"writing\", \"art\", \"history\", \"music\", \"physical_education\")\n",
    "final_scores <- c(88, 87.66667, 86, 91.33333, 84, 91, 89.33333)\n",
    "\n",
    "names(final_scores) <- class_names\n",
    "named_final_scores <- final_scores\n",
    "\n",
    "print(named_final_scores)"
   ]
  },
  {
   "cell_type": "code",
   "execution_count": null,
   "metadata": {
    "collapsed": true
   },
   "outputs": [],
   "source": []
  },
  {
   "cell_type": "markdown",
   "metadata": {},
   "source": [
    "## Indexing Vectors using Names\n",
    "\n",
    "Now that we've named our `final_scores` vector, we can use a **named index** to answer the question \"what was my score in math class?\"<br>\n",
    "\n",
    "Before we use a named index, there is one key requirement when indexing by name:\n",
    "\n",
    "#### To index by name, you must have already named the values in your vector using the `names()` function.\n",
    "\n",
    "By default, attributes are empty, so calling `names(vector)` will be `NA`. You cannot index a vector by name, if the name is `NA`. This is why you need to name your values first.<br>\n",
    "\n",
    "Indexing by name is similar to indexing by position, except we're accessing the value by name. To answer our question, \"what was my score in math class?\", indexing `\"math\"` into your vector will answer your question!\n",
    "\n",
    "![indexing-vectors-using-names](https://s3.amazonaws.com/dq-content/181/named_indexing.svg)\n",
    "\n",
    "Let's index our final scores vector by name!"
   ]
  },
  {
   "cell_type": "code",
   "execution_count": 6,
   "metadata": {
    "collapsed": true
   },
   "outputs": [],
   "source": [
    "class_names <- c(\"math\", \"chemistry\", \"writing\", \"art\", \"history\", \"music\", \"physical_education\")\n",
    "final_scores <- c(88, 87.66667, 86, 91.33333, 84, 91, 89.33333)\n",
    "names(final_scores) <- class_names"
   ]
  },
  {
   "cell_type": "code",
   "execution_count": 7,
   "metadata": {},
   "outputs": [
    {
     "name": "stdout",
     "output_type": "stream",
     "text": [
      "history \n",
      "     84 \n",
      "     art \n",
      "91.33333 \n",
      "music \n",
      "   91 \n"
     ]
    }
   ],
   "source": [
    "history <- final_scores['history']\n",
    "print(history)\n",
    "\n",
    "art <- final_scores['art']\n",
    "print(art)\n",
    "\n",
    "music <- final_scores['music']\n",
    "print(music)"
   ]
  },
  {
   "cell_type": "code",
   "execution_count": null,
   "metadata": {
    "collapsed": true
   },
   "outputs": [],
   "source": []
  },
  {
   "cell_type": "markdown",
   "metadata": {},
   "source": [
    "## Comparing Values and Logical Data Types\n",
    "\n",
    "While you could answer this question by indexing with math and chemistry, `final_scores[\"math\"]` and `final_scores[\"chemistry\"]`, and then visually comparing the result of `88` and `87.6667`, **this method is not robust if we had thousands of data points**.<br>\n",
    "\n",
    "Rather than eyeball the comparison, you can represent this comparison in code by using a comparison operator. A comparison operator compares two values based on a specific condition. A comparison operator will create a condition that compares `88` against `87.6667`. There are multiple conditions you can use, such as `greater than` or `less than`. See table below for most common conditions.<br>\n",
    "\n",
    "After you use a comparison operator, if the the values satisfy the condition, the R interpreter will return `TRUE`. If the values do not satisfy the condition, the R interpreter will return `FALSE`. `TRUE` and `FALSE` are not numeric or character data types, they're called **boolean** or **logical** data types. The logical data type can only take on two values, `TRUE` or `FALSE`.<br>\n",
    "\n",
    "Let's compare `88` against `87.6667` using all the comparison operators:\n",
    "\n",
    "![r-boolean-logical](https://s3.amazonaws.com/dq-content/181/comparison_v3.svg)\n",
    "\n",
    "\n"
   ]
  },
  {
   "cell_type": "code",
   "execution_count": null,
   "metadata": {
    "collapsed": true
   },
   "outputs": [],
   "source": []
  },
  {
   "cell_type": "code",
   "execution_count": 8,
   "metadata": {
    "collapsed": true
   },
   "outputs": [],
   "source": [
    "class_names <- c(\"math\", \"chemistry\", \"writing\", \"art\", \"history\", \"music\", \"physical_education\")\n",
    "final_scores <- c(88, 87.66667, 86, 91.33333, 84, 91, 89.33333)\n",
    "names(final_scores) <- class_names"
   ]
  },
  {
   "cell_type": "code",
   "execution_count": 9,
   "metadata": {
    "collapsed": true
   },
   "outputs": [],
   "source": [
    "history_math <- (final_scores['history'] > final_scores['math'])\n",
    "writing_art <- (final_scores['writing'] < final_scores['art'])\n",
    "music_chem <- (final_scores['music'] == final_scores['chemistry'])"
   ]
  },
  {
   "cell_type": "code",
   "execution_count": 10,
   "metadata": {},
   "outputs": [
    {
     "name": "stdout",
     "output_type": "stream",
     "text": [
      "history \n",
      "  FALSE \n",
      "writing \n",
      "   TRUE \n",
      "music \n",
      "FALSE \n"
     ]
    }
   ],
   "source": [
    "print(history_math)\n",
    "print(writing_art)\n",
    "print(music_chem)"
   ]
  },
  {
   "cell_type": "code",
   "execution_count": null,
   "metadata": {
    "collapsed": true
   },
   "outputs": [],
   "source": []
  },
  {
   "cell_type": "markdown",
   "metadata": {},
   "source": [
    "## Comparing Single Values against Vectors\n",
    "\n",
    "In the previous section, we compared `88` against `87.6667`. In this scenario, we're comparing a single value against another single value. Returning to our original question, if we wanted to display the class you're struggling in, one method would be to compare every value against each other:\n",
    "\n",
    "```r\n",
    "final_scores[\"math\"] > final_scores[\"chemistry\"]\n",
    "\n",
    "final_scores[\"math\"] > final_scores[\"writing\"]\n",
    "\n",
    "final_scores[\"math\"] > final_scores[\"art\"]\n",
    "\n",
    "final_scores[\"math\"] > final_scores[\"history\"]\n",
    ".............\n",
    "```\n",
    "\n",
    "Going through each class you took and comparing every value against each other can work. However, you're going to have to write `21` different expressions to make this calculation.<br>\n",
    "\n",
    "Luckily, comparison operators do not limit you to comparing single values against single values. In fact, you can compare a single value against an entire vector. Let's compare your math score against your `final_scores` vector and see which classes math scored higher than.<br>\n",
    "\n",
    "Writing this comparison, would look like this:\n",
    "\n",
    "```r\n",
    "final_scores['math`] > final_scores \n",
    "```\n",
    "\n",
    "This displays:\n",
    "\n",
    "```r\n",
    "math   chemistry    writing     art      history     music\n",
    "    FALSE  TRUE         TRUE        FALSE    TRUE        FALSE          physical_education \n",
    "   FALSE\n",
    "```\n",
    "\n",
    "Let's dig into how this comparison works. Here's the comparison in visual form:\n",
    "\n",
    "![comparing-single-vals-against-vectors](https://s3.amazonaws.com/dq-content/181/single_val_vector_v4.svg)\n",
    "\n",
    "The single value will then be compared against every value in the vector. The reason behind this is the recycling rule, which we'll dive into, later in this mission.<br>\n",
    "\n",
    "Let's look at a visual diagram to better solidify this concept.\n",
    "\n",
    "![comparing-single-vals-against-vectors-2](https://s3.amazonaws.com/dq-content/181/single_value_vec_comp_v2.svg)\n",
    "\n",
    "Let's store this expression in a vector:\n",
    "\n",
    "```r\n",
    "logical_vector <- (final_scores[\"math\"] > final_scores)\n",
    "```\n",
    "Recall, the operations within the parentheses will be performed first. In this case, this is the comparison. The logical_vector then, would be a vector of boolean values:\n",
    "\n",
    "```r\n",
    "logical_vector <- c(FALSE, TRUE, TRUE, FALSE, TRUE, FALSE, FALSE)\n",
    "```"
   ]
  },
  {
   "cell_type": "code",
   "execution_count": 11,
   "metadata": {
    "collapsed": true
   },
   "outputs": [],
   "source": [
    "class_names <- c(\"math\", \"chemistry\", \"writing\", \"art\", \"history\", \"music\", \"physical_education\")\n",
    "final_scores <- c(88, 87.66667, 86, 91.33333, 84, 91, 89.33333)\n",
    "names(final_scores) <- class_names"
   ]
  },
  {
   "cell_type": "code",
   "execution_count": 12,
   "metadata": {},
   "outputs": [
    {
     "name": "stdout",
     "output_type": "stream",
     "text": [
      "              math          chemistry            writing                art \n",
      "             FALSE              FALSE              FALSE              FALSE \n",
      "           history              music physical_education \n",
      "              TRUE              FALSE              FALSE \n"
     ]
    }
   ],
   "source": [
    "lowest_score <- min(final_scores)\n",
    "lowest_logical <- (lowest_score == final_scores)\n",
    "\n",
    "print(lowest_logical)"
   ]
  },
  {
   "cell_type": "code",
   "execution_count": null,
   "metadata": {
    "collapsed": true
   },
   "outputs": [],
   "source": []
  },
  {
   "cell_type": "markdown",
   "metadata": {},
   "source": [
    "## Indexing using Logical Data Types\n",
    "\n",
    "Now that we've created a vector that tells us whether each value is the lowest score, the problem we have is that this is in `logical` form. A vector of `TRUE` or `FALSE` values doesn't explicitly tell us which classes we're struggling with.<br>\n",
    "\n",
    "In the previous exercises, you learned how to index by position and by name. Let's introduce a new type of indexing called **logical indexing**. Logical indexing will help us figure out which classes you're struggling with.<br>\n",
    "\n",
    "Logical indexing will check each value of your target vector, against the corresponding value in the logical vector. If the corresponding value is `TRUE`, then the resulting slice will contain that value. If the corresponding value is `FALSE`, the resulting slice will not contain that value.<br>\n",
    "\n",
    "In the previous section, we wanted to compare our math score against our score vector using the greater than operator. We made the following comparison `final_scores[\"math\"] > final_scores` to create the logical vector: `c(FALSE, TRUE, TRUE, FALSE, TRUE, FALSE, FALSE)`.<br>\n",
    "\n",
    "If we were to index into `final_scores` using our logical vector, this would tell us explicitly the classes and the scores that are lower than math:\n",
    "\n",
    "![indexing-using-logical-data-types](https://s3.amazonaws.com/dq-content/181/logical_index_v4.svg)\n",
    "\n",
    "In review, here are the steps we took over the last two screens to display the classes math scored higher than:\n",
    "\n",
    "![indexing-using-logical-data-types2](https://s3.amazonaws.com/dq-content/181/logical_index_v2.svg)\n",
    "\n"
   ]
  },
  {
   "cell_type": "code",
   "execution_count": 13,
   "metadata": {
    "collapsed": true
   },
   "outputs": [],
   "source": [
    "class_names <- c(\"math\", \"chemistry\", \"writing\", \"art\", \"history\", \"music\", \"physical_education\")\n",
    "final_scores <- c(88, 87.66667, 86, 91.33333, 84, 91, 89.33333)\n",
    "names(final_scores) <- class_names\n",
    "\n",
    "lowest_score <- min(final_scores)\n",
    "lowest_logical <- lowest_score == final_scores"
   ]
  },
  {
   "cell_type": "code",
   "execution_count": 14,
   "metadata": {},
   "outputs": [
    {
     "name": "stdout",
     "output_type": "stream",
     "text": [
      "history \n",
      "     84 \n"
     ]
    }
   ],
   "source": [
    "# Use lowest_logical to index into final_scores. \n",
    "# Store this in lowest_class.\n",
    "\n",
    "lowest_class <- final_scores[lowest_logical]\n",
    "print(lowest_class)"
   ]
  },
  {
   "cell_type": "code",
   "execution_count": null,
   "metadata": {
    "collapsed": true
   },
   "outputs": [],
   "source": []
  },
  {
   "cell_type": "markdown",
   "metadata": {},
   "source": [
    "## Performing Arithmetic with a Vector\n",
    "\n",
    "You've figured out the class you're struggling with! As you've been writing this program, your friends have expressed interest in using your program to calculate their grades.<br>\n",
    "\n",
    "Your friend Johnny, has given you all his exam, homework and project scores for the same seven courses. However, Johnny is a bit disorganized, so you'll need to re-organize the scores to make the calculation. Here are Johnny's scores:\n",
    "\n",
    "```r\n",
    "tests <- c(76, 89, 78, 88, 79, 93, 89)\n",
    "homework <- c(85, 90, 88, 79, 88, 95, 74)\n",
    "projects <- c(77, 93, 87, 90, 77, 82, 80)\n",
    "```\n",
    "\n",
    "Johnny first, wants you to calculate the final scores for each class. Assuming that each value corresponds to the same class, we'll use **vector arithmetic** to make these calculations.<br>\n",
    "\n",
    "Vector arithmetic is similar to arithmetic in your first mission. However, we're now performing these operations on vectors. Vector arithmetic is performed member-by-member. This means, that the operation will be performed between each values, *by position*.<br>\n",
    "\n",
    "If we took Johnny's tests & homework scores vectors, added them together and stored them in `sum`:\n",
    "\n",
    "```r\n",
    "tests <- c(76, 89, 78, 88, 79, 93, 89)\n",
    "homework <- c(85, 90, 88, 79, 88, 95, 74)\n",
    "sum <- tests + homework\n",
    "```\n",
    "\n",
    "The operation and the resulting vector would look like:\n",
    "\n",
    "![vector-arithmetic](https://s3.amazonaws.com/dq-content/181/vector_arithmetic_v4.svg)\n",
    "\n",
    "\n",
    "\n",
    "\n"
   ]
  },
  {
   "cell_type": "code",
   "execution_count": 16,
   "metadata": {
    "collapsed": true
   },
   "outputs": [],
   "source": [
    "tests <- c(76, 89, 78, 88, 79, 93, 89)\n",
    "homework <- c(85, 90, 88, 79, 88, 95, 74)\n",
    "sum <- tests + homework\n",
    "\n",
    "projects <- c(77, 93, 87, 90, 77, 82, 80)"
   ]
  },
  {
   "cell_type": "code",
   "execution_count": null,
   "metadata": {
    "collapsed": true
   },
   "outputs": [],
   "source": [
    "# Create a johnny_scores vector by adding the projects vector to sum\n",
    "# and dividing the resulting vector by 3.\n",
    "\n",
    "johnny_scores <- (sum + projects)/3"
   ]
  },
  {
   "cell_type": "code",
   "execution_count": null,
   "metadata": {
    "collapsed": true
   },
   "outputs": [],
   "source": [
    "# Use the mean() function on johnny_scores to calculate Johnny's overall score. \n",
    "# Store this in johnny_overall.\n",
    "\n",
    "johnny_overall <- mean(johnny_scores)"
   ]
  },
  {
   "cell_type": "code",
   "execution_count": null,
   "metadata": {
    "collapsed": true
   },
   "outputs": [],
   "source": []
  },
  {
   "cell_type": "markdown",
   "metadata": {},
   "source": [
    "## Vector Recycling Rule\n",
    "\n",
    "In the previous screen, you calculated Johnny's scores by performing vector arithmetic between his scores. In that scenario, all the vectors had the same length. However, what happens if Johnny forgets to give us a value. So instead of:\n",
    "\n",
    "![vector-recycle1](https://s3.amazonaws.com/dq-content/181/vector_arithmetic_v4.svg)\n",
    "\n",
    "He forgets to give us a homework value:\n",
    "\n",
    "![vector-recycle2](https://s3.amazonaws.com/dq-content/181/vector_recycle3.svg)\n",
    "\n",
    "Earlier in this mission, we learned when comparing a single value with an entire vector, the R interpreter compares the single value against every value in the vector. Whenever there's a mismatch in the length of 2 objects that are compared, the shorter object is recycled (or repeated) until it matches the longer one.<br>\n",
    "\n",
    "When we perform an arithmetic operation on two vectors that have different lengths, the R interpreter will also reuse the values of the shorter vector.<br>\n",
    "\n",
    "This recycling behavior is called the **recycling rule**. The recycling rule states that when performing an operation between two vectors of unequal length, the R interpreter will automatically recycle the shorter one, until it's long enough to match the longer one.<br>\n",
    "\n",
    "Here's what happening when we employ the recycling rule. Let's shorten our homework vector to only two values:\n",
    "\n",
    "```r\n",
    "tests <- c(76, 89, 78, 88, 79, 93, 89)\n",
    "homework <- c(85, 90)\n",
    "```\n",
    "\n",
    "And then we'll add `tests` with `homework` to see the recycling rule in action. In the diagram, we've color coded the values in homework to show how the values recycle:\n",
    "\n",
    "![vector-recycle3](https://s3.amazonaws.com/dq-content/181/vector_r_1_v5.svg)\n",
    "\n",
    "The R interpreter will see that the homework vector is shorter than the tests vector. As a result, it'll automatically recycle the homework values, starting with the first element:\n",
    "\n",
    "![vector-recycle4](https://s3.amazonaws.com/dq-content/181/vector_r_2_v3.svg)\n",
    "\n",
    "Once the first value is used, the interpreter will look at the next value:\n",
    "\n",
    "![vector-recycle5](https://s3.amazonaws.com/dq-content/181/vector_r_3_v4.svg)\n",
    "\n",
    "And then, it'll keep recycling the values, in this pattern, until it matches the length of the longer vector:\n",
    "\n",
    "![vector-recycle6](https://s3.amazonaws.com/dq-content/181/vector_r_4_v4.svg)\n",
    "\n",
    "Once the vector lengths match, the R interpreter will perform the specified arithmetic operation.<br>\n",
    "\n",
    "In the section where you compared `final_scores[\"math\"] > final_scores`, you compared a single value (math) against the entire vector. In this scenario, the R interpreter used the recycling rule by re-using the single value, **until it matched the length of `final_scores`**.\n"
   ]
  },
  {
   "cell_type": "code",
   "execution_count": null,
   "metadata": {
    "collapsed": true
   },
   "outputs": [],
   "source": []
  },
  {
   "cell_type": "code",
   "execution_count": 17,
   "metadata": {
    "collapsed": true
   },
   "outputs": [],
   "source": [
    "tests <- c(76, 89, 78)\n",
    "homework <- c(85, 90, 88, 79, 88, 95, 74)"
   ]
  },
  {
   "cell_type": "code",
   "execution_count": 18,
   "metadata": {},
   "outputs": [
    {
     "name": "stderr",
     "output_type": "stream",
     "text": [
      "Warning message in tests + homework:\n",
      "“두 객체의 길이가 서로 배수관계에 있지 않습니다”"
     ]
    },
    {
     "name": "stdout",
     "output_type": "stream",
     "text": [
      "[1] 161 179 166 155 177 173 150\n"
     ]
    }
   ],
   "source": [
    "recycling <- tests + homework\n",
    "print(recycling)"
   ]
  },
  {
   "cell_type": "code",
   "execution_count": null,
   "metadata": {
    "collapsed": true
   },
   "outputs": [],
   "source": []
  },
  {
   "cell_type": "markdown",
   "metadata": {},
   "source": [
    "## Appending Data to a Vector\n",
    "\n",
    "In the previous section, you learned about the vector recycling rule by adding `tests` and `homework` together. Recycling the three test scores(`76`, `89`, `78`) to look like c(`76`, `89`, `78`, `76`, `89`, `78`, `76`) would allow us to perform an operation. However, for Johnny, recycling his scores for three classes, won't give him an accurate score for each class. Johnny didn't score `76, 89, 78, 76` in his last four classes. To fix this, let's append Johnny's real scores to our shorter vector.<br>\n",
    "\n",
    "To append data points to our shorter vector, let's look at the steps to appending by appending one value to `tests`:\n",
    "\n",
    "![append-data-to-vec](https://s3.amazonaws.com/dq-content/181/append_data.svg)\n",
    "\n",
    "In addition, you could use the same method to append multiple values. To append another value, follow the same steps, except, add another value to the expression:\n",
    "\n",
    "![append-data-to-vec2](https://s3.amazonaws.com/dq-content/181/append_multiple_data.svg)\n",
    "\n",
    "We've added two values to the test vector. Let's finish adding the rest of Johnny's scores!\n",
    "\n"
   ]
  },
  {
   "cell_type": "code",
   "execution_count": null,
   "metadata": {
    "collapsed": true
   },
   "outputs": [],
   "source": []
  },
  {
   "cell_type": "code",
   "execution_count": 19,
   "metadata": {
    "collapsed": true
   },
   "outputs": [],
   "source": [
    "tests <- c(76, 89, 78)"
   ]
  },
  {
   "cell_type": "code",
   "execution_count": 20,
   "metadata": {},
   "outputs": [
    {
     "name": "stdout",
     "output_type": "stream",
     "text": [
      "[1] 76 89 78 88 79 93 89\n"
     ]
    }
   ],
   "source": [
    "tests <- c(tests, 88, 79, 93, 89)\n",
    "print(tests)"
   ]
  },
  {
   "cell_type": "code",
   "execution_count": null,
   "metadata": {
    "collapsed": true
   },
   "outputs": [],
   "source": []
  },
  {
   "cell_type": "markdown",
   "metadata": {},
   "source": [
    "## Next Steps\n",
    "\n",
    "In the next mission, we'll dive into a real-world university rankings dataset. We'll expand our R capabilities by introducing the two-dimensional version of a vector, matrices:\n",
    "\n",
    "world_rank|quality_of_education|influence|broad_impact|patents\n",
    "---|---|---|---|---\n",
    "Harvard|1|1|1|1|3\n",
    "Stanford|2|9|3|4\n",
    "MIT|3|3|2|2\n",
    "Cambridge|4|2|6|13\n",
    "Oxford|5|7|12|9\n",
    "Columnbia|6|13|13|12\n",
    "\n",
    "\n",
    "Click the Finish button below to continue to this mission."
   ]
  },
  {
   "cell_type": "code",
   "execution_count": null,
   "metadata": {
    "collapsed": true
   },
   "outputs": [],
   "source": []
  }
 ],
 "metadata": {
  "kernelspec": {
   "display_name": "R",
   "language": "R",
   "name": "ir"
  },
  "language_info": {
   "codemirror_mode": "r",
   "file_extension": ".r",
   "mimetype": "text/x-r-source",
   "name": "R",
   "pygments_lexer": "r",
   "version": "3.4.1"
  }
 },
 "nbformat": 4,
 "nbformat_minor": 2
}
