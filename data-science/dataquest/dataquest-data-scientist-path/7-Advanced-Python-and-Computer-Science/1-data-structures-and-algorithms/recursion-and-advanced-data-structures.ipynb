{
 "cells": [
  {
   "cell_type": "markdown",
   "metadata": {},
   "source": [
    "# Recursion and Advanced Data Structures"
   ]
  },
  {
   "cell_type": "markdown",
   "metadata": {},
   "source": [
    "## Recursion\n",
    "\n",
    "Recursion can be a difficult concept to grasp at first, but it's a very rewarding and fun tool once you understand it. Recursion is a method of repeating code without using loops. It usually takes the form of a function that calls itself during its execution.<br>\n",
    "\n",
    "The basic mechanism has given rise to many interesting algorithms. Recursive algorithms often seem lazy when we write them, and can appear magical when they work. It's important to understand recursion so you can think about problems in new ways and write satisfying code that performs logic succinctly.<br>\n",
    "\n",
    "The best way to understand recursion is through an example. One example is the **factorial** function that exists in mathematics. Here are some examples of the factorial function:\n",
    "\n",
    "```python\n",
    "3! = 3 * 2 * 1\n",
    "5! = 5 * 4 * 3 * 2 * 1\n",
    "```\n",
    "\n",
    "We denote a factorial using the `!` sign. For example, `n!` denotes multiplying `n` by `n - 1`, then `n - 2`, and so on until `n-1` equals `1`. It stops when `n-1` equals `0`."
   ]
  },
  {
   "cell_type": "code",
   "execution_count": null,
   "metadata": {},
   "outputs": [],
   "source": []
  },
  {
   "cell_type": "markdown",
   "metadata": {},
   "source": [
    "## A Recursive look at Factorials\n",
    "\n",
    "Upon inspection, we can see a pattern in the factorial function. Let's break down the evaluation of `5!`.\n",
    "\n",
    "```python\n",
    "5! = 5 * 4 * 3 * 2 * 1 = 5 * (4 * 3 * 2 * 1) = 5 * (4!)\n",
    "```\n",
    "\n",
    "We can see that `5!` is really `5 * (4!)`. Let's pretend we already know how to evaluate `4!`. Then suddenly, `5!` becomes a very easy thing to calculate.<br>\n",
    "\n",
    "But how do we know how to calculate `4!`? Well, it's just `4 * (3!)`.<br>\n",
    "\n",
    "How about `3!`? That's just `3 * (2!)`.<br>\n",
    "\n",
    "This pattern of evaluation continues, and we're never really doing much difficult computation. Notice that with each step of the calculation, we're actually using the factorial function to help us compute a factorial. All we need to know now is where to stop.\n",
    "\n"
   ]
  },
  {
   "cell_type": "code",
   "execution_count": null,
   "metadata": {},
   "outputs": [],
   "source": []
  },
  {
   "cell_type": "markdown",
   "metadata": {},
   "source": [
    "## Base Cases\n",
    "\n",
    "The last component we need to define for our recursive function is a \"base case\" that tells it when to stop; otherwise it will keep calling itself forever. In the case of our `factorial` function, we want to stop at `0`, so we'll make that our base case.<br>\n",
    "\n",
    "When we call `factorial` with `0` as its input, we want to simply return `1`. This may seem a bit odd, but mathematically, `0!` is defined as `1`. We don't have to worry much about why this is; we'll just accept the definition and use it in our recursion. `1!` still evaluates to `1 * (0!)`, which is `1`.<br>\n",
    "\n",
    "When our input isn't `0`, we want to recursively call our function, performing whatever operations are necessary to execute our recursive algorithm properly."
   ]
  },
  {
   "cell_type": "code",
   "execution_count": null,
   "metadata": {},
   "outputs": [],
   "source": []
  },
  {
   "cell_type": "markdown",
   "metadata": {},
   "source": [
    "* Read the recursive implementation of `factorial` below. It's nearly complete, but will run forever in its current form. Add our base case to ensure that the function stops.\n",
    "* Store the result of calling `factorial` on `1` in `factorial1`.\n",
    "* Store the result of calling `factorial` on `5` in `factorial5`.\n",
    "* Store the result of calling `factorial` on `25` in `factorial25`."
   ]
  },
  {
   "cell_type": "code",
   "execution_count": 1,
   "metadata": {},
   "outputs": [],
   "source": [
    "# Recursive factorial function\n",
    "def factorial(n):\n",
    "    # Check the base case\n",
    "    if n == 1:\n",
    "        return n\n",
    "    \n",
    "    # Recursive case\n",
    "    return n * factorial(n - 1)"
   ]
  },
  {
   "cell_type": "code",
   "execution_count": 2,
   "metadata": {},
   "outputs": [],
   "source": [
    "factorial1 = factorial(1)\n",
    "factorial5 = factorial(5)\n",
    "factorial25 = factorial(25)"
   ]
  },
  {
   "cell_type": "code",
   "execution_count": null,
   "metadata": {},
   "outputs": [],
   "source": []
  },
  {
   "cell_type": "markdown",
   "metadata": {},
   "source": [
    "## Visualization of Recursion\n",
    "\n",
    "So recursion works, but you may not be entirely convinced of how and why it works. To illustrate, we'll use **a real-life example of a recursive algorithm**.<br>\n",
    "\n",
    "Suppose you're sitting in an auditorium and would like to know which row you're in (let's assume the rows aren't labelled).<br>\n",
    "\n",
    "You could count all of the rows in front of you, but that would take quite a while. This strategy is analogous to the iterative approach (using a loop). You're doing a lot of work. However, you realize there's a way to delegate that work to other people.<br>\n",
    "\n",
    "You ask the person in front of you what row she's in. When she responds, you can simply add one to that row number. That person does the same thing. She asks the person in front of her, and that person asks the person in front of him, and so on.<br>\n",
    "\n",
    "Each of these requests represents a function call. You're the first function call, and the woman in front of you is the next. However, none of the function calls have finished executing yet, since they're still waiting for responses. When the man in the front row is finally asked what row he's in, we've reached our base case. There's nobody ahead of him, so he knows that he's in row one.<br>\n",
    "\n",
    "He responds with that information. The person behind him knows she's in row two, and this information bubbles back up to you, with each person in the chain adding one to the response they receive. This bubbling-up is analogous to reaching the base case, and then each recursive call resolving itself one by one, with the most recently called functions ending first.<br>\n",
    "\n",
    "Finally, the man in front of you tells you his row number, you add one, and you've found your answer! Each function call did very little work, and you still achieved a correct answer."
   ]
  },
  {
   "cell_type": "code",
   "execution_count": null,
   "metadata": {},
   "outputs": [],
   "source": []
  },
  {
   "cell_type": "markdown",
   "metadata": {},
   "source": [
    "## Fibonacci\n",
    "\n",
    "The Fibonacci sequence is a famous series of numbers that starts out as follows:\n",
    "\n",
    "```python\n",
    "1, 1, 2, 3, 5, 8, 13, 21, 34, 55, ...\n",
    "```\n",
    "\n",
    "Each number in the Fibonacci sequence is the sum of the previous two numbers. For instance, `34` in the above sequence is the sum of `13` and `21`.<br>\n",
    "\n",
    "The only exceptions are the first two numbers. Because the sequence is too short to calculate them, the first two numbers of the sequence are ones by definition. These two numbers are the base cases for the Fibonacci sequence.\n"
   ]
  },
  {
   "cell_type": "code",
   "execution_count": null,
   "metadata": {},
   "outputs": [],
   "source": []
  },
  {
   "cell_type": "markdown",
   "metadata": {},
   "source": [
    "* Recursively implement the function `fib`, which takes `n` as an argument and returns the *nth* Fibonacci number. Check our base case by determining whether `n` is `0` or `1` (the indexes of the first two Fibonacci numbers, which should both be 1).\n",
    "* Use recursive function calls that match the Fibonacci definition when `n` is not a base case.\n",
    "* Store the result of calling `fib` on `1` in `fib1`.\n",
    "* Store the result of calling `fib` on `5` in `fib5`.\n",
    "* Store the result of calling `fib` on `25` in `fib25`."
   ]
  },
  {
   "cell_type": "code",
   "execution_count": 15,
   "metadata": {},
   "outputs": [],
   "source": [
    "def fib(n):\n",
    "    \n",
    "    if (n == 0) or (n == 1):\n",
    "        return n\n",
    "    \n",
    "    return fib(n-1)+fib(n-2)\n",
    "    "
   ]
  },
  {
   "cell_type": "code",
   "execution_count": 16,
   "metadata": {},
   "outputs": [],
   "source": [
    "fib1 = fib(1)\n",
    "fib5 = fib(5)\n",
    "fib25 = fib(25)"
   ]
  },
  {
   "cell_type": "code",
   "execution_count": null,
   "metadata": {},
   "outputs": [],
   "source": []
  },
  {
   "cell_type": "markdown",
   "metadata": {},
   "source": [
    "## Linked Lists - A Recursive Data Structure\n",
    "\n",
    "Linked lists are very similar to arrays, but they differ in how we implement them. A linked list is made up of many **nodes**, each of which contains a few pieces of information. This information depends on the type of linked list we're using. For this mission, we'll implement a **singly linked list**.<br>\n",
    "\n",
    "In a singly linked list, each node contains its *data*, as well as *the next node*. Let's think about how this works. \n",
    "* Suppose we want to access the data in the third node. \n",
    "* From the first node, we can access its next node, which is the second. \n",
    "* From that node, we can access its next node, which is the third node. \n",
    "* We now have access to the data we're looking for. \n",
    "\n",
    "Each node is like an element in an array, except that it has some extra information (the next node) in addition to the data itself.<br>\n",
    "\n",
    "Linked lists are a **recursive data structure**. Each node contains the data, and then points to another linked list (the next node). The base case is our empty linked list, which we'll represent with the Python `None` value.<br>\n",
    "\n",
    "Because linked lists are recursive, we can write a lot of interesting algorithms to work with them. While looping through a linked list is awkward, we'll see that recursing on them feels more natural."
   ]
  },
  {
   "cell_type": "code",
   "execution_count": null,
   "metadata": {},
   "outputs": [],
   "source": []
  },
  {
   "cell_type": "markdown",
   "metadata": {},
   "source": [
    "## Exercise: Find the Length of a Linked List\n",
    "\n",
    "We just learned that linked lists are recursive data structures. These structures often allow us to take advantage of recursion to perform operations.<br>\n",
    "\n",
    "For example, we can find the length of any linked list by adding `1` to the length of its `tail` list (the list after the first element). By recursing in this fashion and only stopping when we reach the empty, or `None`, linked list, we can write a simple function without loops that calculates the length of a linked list.<br>\n",
    "\n",
    "We've loaded a linked list called `people` for you; it contains some names for you to work with. In our implementation, \n",
    "* we can access the first node of a linked list with `people.head()`, \n",
    "* and the rest of the linked list with `people.tail()`. \n",
    "\n",
    "We've also provided a helpful `is_empty` method for linked lists. `people.is_empty()` returns a Boolean value."
   ]
  },
  {
   "cell_type": "code",
   "execution_count": null,
   "metadata": {},
   "outputs": [],
   "source": []
  },
  {
   "cell_type": "code",
   "execution_count": 73,
   "metadata": {},
   "outputs": [],
   "source": [
    "class LinkedList: \n",
    "    def __init__(self, cargo=None): \n",
    "        self.car = cargo\n",
    "    \n",
    "    def __str__(self): \n",
    "        return str(self.car)\n",
    "    \n",
    "    def is_empty(self):\n",
    "        if len(self.car):\n",
    "            return False\n",
    "        else:\n",
    "            return True\n",
    "    \n",
    "    def head(self):\n",
    "        if self.is_empty():\n",
    "            return Node([])\n",
    "        else:\n",
    "            return Node([self.car[0]])\n",
    "        \n",
    "    def tail(self):\n",
    "        if self.is_empty():\n",
    "            return Node([])\n",
    "        else:\n",
    "            return Node(self.car[1:])\n",
    "    \n",
    "    def get_data(self):\n",
    "        return self.car"
   ]
  },
  {
   "cell_type": "code",
   "execution_count": 74,
   "metadata": {},
   "outputs": [],
   "source": [
    "people_list = ['Peter', 'Paul', 'Alice', 'Brown', 'Kelly', 'Ali']\n",
    "people = LinkedList(people_list)"
   ]
  },
  {
   "cell_type": "code",
   "execution_count": null,
   "metadata": {},
   "outputs": [],
   "source": []
  },
  {
   "cell_type": "code",
   "execution_count": 75,
   "metadata": {},
   "outputs": [],
   "source": [
    "# First person's name\n",
    "first_item = people.head().get_data()\n",
    "\n",
    "# Getting the length of the linked list using iteration\n",
    "def length_iterative(ls):\n",
    "    count = 0\n",
    "    while not ls.is_empty():\n",
    "        count = count + 1\n",
    "        ls = ls.tail()\n",
    "    return count\n",
    "\n",
    "# Getting the length of the linked list using recursion\n",
    "def length_recursive(ls):\n",
    "    if ls.is_empty():\n",
    "        return 0\n",
    "    return 1 + length_recursive(ls.tail())\n",
    "\n",
    "people_length = length_recursive(people)"
   ]
  },
  {
   "cell_type": "code",
   "execution_count": 76,
   "metadata": {},
   "outputs": [
    {
     "data": {
      "text/plain": [
       "['Peter']"
      ]
     },
     "execution_count": 76,
     "metadata": {},
     "output_type": "execute_result"
    }
   ],
   "source": [
    "first_item"
   ]
  },
  {
   "cell_type": "code",
   "execution_count": 77,
   "metadata": {},
   "outputs": [
    {
     "data": {
      "text/plain": [
       "6"
      ]
     },
     "execution_count": 77,
     "metadata": {},
     "output_type": "execute_result"
    }
   ],
   "source": [
    "people_length"
   ]
  },
  {
   "cell_type": "code",
   "execution_count": null,
   "metadata": {},
   "outputs": [],
   "source": []
  },
  {
   "cell_type": "markdown",
   "metadata": {},
   "source": [
    "## Linked List Insertion and Deletion\n",
    "\n",
    "Because linked lists don't maintain a central index of any kind, searching for a specific node means starting from the first node and accessing the next one until our code either finds what we're looking for or returns the Boolean value false. This is inefficient, **but linked lists do have some advantages**.<br>\n",
    "\n",
    "One is that we need to modify very few nodes when inserting or deleting, because the update only requires a constant number of changes.<br>\n",
    "\n",
    "To understand linked list insertion and deletion, imagine a line of people in which each person has his or her hands on the back of the person in front of them. To add someone to this line, only one person would need to remove his or her hands and place them on the new person's shoulders. The new person would then put his hands on the shoulders of the person in front of him. Nobody else would need to detach from their neighbors.<br>\n",
    "\n",
    "Similarly, if we want to remove someone from the line, the person behind him or her must let go, and then hold the shoulders of the next person. However, no one else needs to do anything.<br>\n",
    "\n",
    "In a linked list, very few other nodes need to change when we insert or delete one. Because these processes only require a constant number of changes, they're very quick. In contrast, arrays have to shift many elements around when we perform insertions or deletions.<br>\n",
    "\n",
    "It's important to note that when we're discussing the time complexity of insertion and deletion, we already have immediate access to the node we're working with. Searching for a node to delete, however, or for the location where we'd like to insert one would require more time, because we'd first need to find the node."
   ]
  },
  {
   "cell_type": "code",
   "execution_count": null,
   "metadata": {},
   "outputs": [],
   "source": []
  },
  {
   "cell_type": "markdown",
   "metadata": {},
   "source": [
    "## Exercise: Linked List Time Complexity\n",
    "\n",
    "To test your understanding, we'll ask you to determine the time complexity of common linked list operations."
   ]
  },
  {
   "cell_type": "code",
   "execution_count": null,
   "metadata": {},
   "outputs": [],
   "source": []
  },
  {
   "cell_type": "markdown",
   "metadata": {},
   "source": [
    "* Read the comments about linked list operations.\n",
    "* Based on the description and your knowledge of time complexity, set the variable below to `\"constant\"`, `\"logarithmic\"`, or `\"linear\"`, depending on the complexity you believe the operation has."
   ]
  },
  {
   "cell_type": "code",
   "execution_count": null,
   "metadata": {},
   "outputs": [],
   "source": [
    "# Retrieving an item in the linked list by index\n",
    "retrieval_by_index = \"linear\"\n",
    "\n",
    "# Retrieving an item in the linked list by value\n",
    "retrieval_by_value = \"linear\"\n",
    "\n",
    "# Deleting an item from the linked list,\n",
    "# with access to the item and the item before it\n",
    "deletion = \"constant\"\n",
    "\n",
    "# Inserting an item into the linked list, \n",
    "# with access to the location where we are inserting\n",
    "insertion = \"constant\"\n",
    "\n",
    "# Calculating the length of a linked list using a loop\n",
    "length_iterative = \"linear\"\n",
    "\n",
    "# Calculating the length of a linked list using recursion\n",
    "length_recursive = \"linear\""
   ]
  },
  {
   "cell_type": "code",
   "execution_count": null,
   "metadata": {},
   "outputs": [],
   "source": []
  },
  {
   "cell_type": "markdown",
   "metadata": {},
   "source": [
    "## Summing up\n",
    "\n",
    "-|array|linked list\n",
    "---|---|---\n",
    "**retrieval_by_index**|const|linear\n",
    "**retrieval_by_value**|linear|linear\n",
    "**deletion**|linear<br>(edit the entire relationships)|const<br>(edit only one relationship)\n",
    "**insertion**|linear<br>(edit the entire relationships)|const<br>(edit only one relationship)\n",
    "\n",
    "### Array\n",
    "* advantages: searching data\n",
    "* disadvantages: del/insert data\n",
    "\n",
    "### Linked list\n",
    "* advantages: del/insert data\n",
    "* disadvantages: searching data"
   ]
  },
  {
   "cell_type": "code",
   "execution_count": null,
   "metadata": {},
   "outputs": [],
   "source": []
  }
 ],
 "metadata": {
  "kernelspec": {
   "display_name": "Python 3",
   "language": "python",
   "name": "python3"
  },
  "language_info": {
   "codemirror_mode": {
    "name": "ipython",
    "version": 3
   },
   "file_extension": ".py",
   "mimetype": "text/x-python",
   "name": "python",
   "nbconvert_exporter": "python",
   "pygments_lexer": "ipython3",
   "version": "3.6.2"
  }
 },
 "nbformat": 4,
 "nbformat_minor": 2
}
