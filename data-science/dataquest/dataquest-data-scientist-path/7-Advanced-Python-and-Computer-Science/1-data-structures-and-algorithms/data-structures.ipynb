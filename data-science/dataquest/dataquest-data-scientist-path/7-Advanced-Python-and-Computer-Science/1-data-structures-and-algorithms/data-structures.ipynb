{
 "cells": [
  {
   "cell_type": "markdown",
   "metadata": {},
   "source": [
    "# Data Structures"
   ]
  },
  {
   "cell_type": "markdown",
   "metadata": {},
   "source": [
    "## What is a Data Structure?\n",
    "\n",
    "A data structure is a way of organizing data. Lists and dictionaries are examples of data structures we've already seen, but there are many more. Specifically, data structures are concerned with organization of data within a program, rather than the raw data we read into a program.<br>\n",
    "\n",
    "The choice of data structure depends on a few factors. \n",
    "* The first and most important consideration is **the structure of the data we're storing**. \n",
    "  * If we want to store a batch of strings with no other related data, we would just use a list.\n",
    "* Another factor to weigh when choosing a data structure is **time efficiency**.\n",
    "  * Inserting, deleting, or finding items in data structures may take different amounts of time for different data structures, which is important to consider when we want to process data efficiently."
   ]
  },
  {
   "cell_type": "code",
   "execution_count": null,
   "metadata": {},
   "outputs": [],
   "source": []
  },
  {
   "cell_type": "markdown",
   "metadata": {},
   "source": [
    "## An Overview of Arrays\n",
    "\n",
    "### The most basic data structure is an array. \n",
    "An array is a list that contains items.<br>\n",
    "\n",
    "We can think of computer memory as a long chain of memory slots. Computers store arrays in memory in a very intuitive way. They store the first element of an array right next to the second element, which is next to the third, and so on. Each element in an array occupies a slot in that array. So, in an array of 10 elements, we can say definitively which item is in the first slot, the second slot, etc.<br>\n",
    "\n",
    "* Because this storage pattern is very predictable, it's very easy to access a given element by its index. \n",
    "\n",
    "### However, \n",
    "* elements all have to be shifted when we delete or add an element to the middle of the list, which can make those operations quite costly.\n",
    "* We typically can't expand an array beyond its initial size. So, if we create an array of size 10, it can only hold 10 elements."
   ]
  },
  {
   "cell_type": "code",
   "execution_count": null,
   "metadata": {},
   "outputs": [],
   "source": []
  },
  {
   "cell_type": "markdown",
   "metadata": {},
   "source": [
    "## Exercise: Dynamic Arrays\n",
    "\n",
    "Many languages have built-in **primitive** arrays. We can use a primitive data structure without having to implement it manually or include any external libraries.<br>\n",
    "\n",
    "Python doesn't have a primitive, fixed-size array implementation built into the language. However, the Python **list** primitive is really just a dynamic array, so we'll be using lists to become familiar with array operations.<br>\n",
    "\n",
    "**Dynamic arrays** are a flavor of array that we can expand to fit as many elements as we'd like. These are much more useful in data science than fixed-size arrays."
   ]
  },
  {
   "cell_type": "code",
   "execution_count": null,
   "metadata": {},
   "outputs": [],
   "source": []
  },
  {
   "cell_type": "markdown",
   "metadata": {},
   "source": [
    "* Read the code comments that describe array operations.\n",
    "* Based on the description and your knowledge of time complexity, set the variable below to `\"constant\"`, `\"logarithmic\"`, or `\"linear\"`, depending on the complexity you believe the operation has."
   ]
  },
  {
   "cell_type": "code",
   "execution_count": null,
   "metadata": {},
   "outputs": [],
   "source": [
    "# Retrieving an item in an array by index\n",
    "retrieval_by_index = \"constant\"\n",
    "\n",
    "# Searching for a value in an unordered array\n",
    "search = \"linear\"\n",
    "\n",
    "# Deleting an item from an array, and filling the gap\n",
    "#     by shifting all later items back by one\n",
    "deletion = \"linear\"\n",
    "\n",
    "# Inserting an item into the array, and shifting forward\n",
    "#     every item that comes after it\n",
    "insertion = \"linear\""
   ]
  },
  {
   "cell_type": "code",
   "execution_count": null,
   "metadata": {},
   "outputs": [],
   "source": []
  },
  {
   "cell_type": "markdown",
   "metadata": {},
   "source": [
    "## Exercise: Practice Inserting Into an Array\n",
    "\n",
    "Let's practice inserting values into arrays."
   ]
  },
  {
   "cell_type": "code",
   "execution_count": null,
   "metadata": {},
   "outputs": [],
   "source": []
  },
  {
   "cell_type": "markdown",
   "metadata": {},
   "source": [
    "Use the list `insert` function to insert `\"Evan Turner\"` and `\"Quincy Acy\"` into `players` so that `players` is in alphabetical order by last name.\n",
    "* The first argument to `insert` is the index at which we want to insert the value, and the second is the value itself. For instance, `players.insert(1, \"C.J. Watson\")` inserts `\"C.J. Watson\"` at index `1` of `players`.\n",
    "* The items in `players` that come after index `0` must shift over to make room for `\"C.J. Watson\"`.\n",
    "\n",
    "Print the list after you perform each operation so you can visualize how the operation affects it."
   ]
  },
  {
   "cell_type": "code",
   "execution_count": 1,
   "metadata": {},
   "outputs": [
    {
     "name": "stdout",
     "output_type": "stream",
     "text": [
      "['Reggie Jackson']\n",
      "['Reggie Jackson', 'C.J. Watson']\n",
      "['Jeff Adrien', 'Reggie Jackson', 'C.J. Watson']\n",
      "['Jeff Adrien', 'C.J. Watson']\n"
     ]
    }
   ],
   "source": [
    "players = [\"Reggie Jackson\"]\n",
    "print(players)\n",
    "\n",
    "players.insert(1, \"C.J. Watson\")\n",
    "print(players)\n",
    "\n",
    "players.insert(0, \"Jeff Adrien\")\n",
    "print(players)\n",
    "\n",
    "players.remove(\"Reggie Jackson\")\n",
    "print(players)"
   ]
  },
  {
   "cell_type": "code",
   "execution_count": 2,
   "metadata": {},
   "outputs": [
    {
     "name": "stdout",
     "output_type": "stream",
     "text": [
      "['Quincy Acy', 'Jeff Adrien', 'C.J. Watson']\n",
      "['Quincy Acy', 'Jeff Adrien', 'Evan Turner', 'C.J. Watson']\n"
     ]
    }
   ],
   "source": [
    "players.insert(0, \"Quincy Acy\")\n",
    "print(players)\n",
    "\n",
    "players.insert(2, \"Evan Turner\")\n",
    "print(players)"
   ]
  },
  {
   "cell_type": "code",
   "execution_count": null,
   "metadata": {},
   "outputs": [],
   "source": []
  },
  {
   "cell_type": "markdown",
   "metadata": {},
   "source": [
    "## Two-Dimensional Arrays\n",
    "\n",
    "So far we've been working with one-dimensional arrays. They're one-dimensional because they're lists that only go in one direction. A 1D array only has a length, and no other dimension.<br>\n",
    "\n",
    "On the other hand, a two-dimensional array has a height and a width. Consequently, it also has two indexes. The element in the third row and fourth column of the array arr can be accessed like so:\n",
    "\n",
    "```python\n",
    "arr[2][3]\n",
    "```\n",
    "\n",
    "The indexing still follows familiar conventions like 0-indexing, but there are more indices now.<br>\n",
    "\n",
    "Imagine a stack of checkers. The stack has a height, which is the only significant dimension. It has a bottom and a top, and a number of black and red checkers in between. This checker tower is like a 1D array.<br>\n",
    "\n",
    "However, when we play checkers we're moving the pieces around on a 2D board. There's both a height and a width, which makes two dimensions. Checkers can move forwards, backwards, left, or right. We refer to a space by row and column, yet each space still stores one piece of data (the checker). This is analogous to a 2D array.<br>\n",
    "\n",
    "In data science, we call 1D arrays `vectors` and 2D arrays `matrices`. You may already be familiar with these terms from previous missions."
   ]
  },
  {
   "cell_type": "code",
   "execution_count": null,
   "metadata": {},
   "outputs": [],
   "source": []
  },
  {
   "cell_type": "markdown",
   "metadata": {},
   "source": [
    "## 2D Array Implementation\n",
    "\n",
    "We can implement a 2D array in a number of ways. One implementation involves an array full of arrays. This may be difficult to visualize at first, but a few guided examples may help you picture it.<br>\n",
    "\n",
    "Imagine we're trying to access the element at row two and column five. What we're really doing is accessing the fifth element of the second row. To accomplish this, we access the second row first. Then we access the fifth element in that row. In other words, our 2D array is really just a 1D array of rows. For example, we could write:\n",
    "\n",
    "```python\n",
    "arr[1][4]\n",
    "```\n",
    "\n",
    "We can view this equivalently as:\n",
    "\n",
    "```python\n",
    "(arr[1])[4]\n",
    "```"
   ]
  },
  {
   "cell_type": "code",
   "execution_count": null,
   "metadata": {},
   "outputs": [],
   "source": []
  },
  {
   "cell_type": "markdown",
   "metadata": {},
   "source": [
    "* We've loaded a `checker_board` variable filled with `\"red\"` and `\"black\"` pieces, as well as `\"blank\"` spaces. Each slot contains the string `\"red\"`, `\"black\"`, or `\"blank\"`.\n",
    "* Store the number of `red pieces` in red_pieces, and the number of black pieces in `black_pieces`.\n",
    "* You'll have to use two `for` loops - one within the other."
   ]
  },
  {
   "cell_type": "code",
   "execution_count": 3,
   "metadata": {},
   "outputs": [],
   "source": [
    "checker_board = [['blank', 'blank', 'blank', 'blank', 'blank', 'black', 'blank', 'blank'],\n",
    " ['blank', 'blank', 'red', 'blank', 'blank', 'blank', 'blank', 'blank'],\n",
    " ['blank', 'blank', 'blank', 'black', 'blank', 'red', 'blank', 'blank'],\n",
    " ['red', 'blank', 'black', 'blank', 'blank', 'blank', 'red', 'blank'],\n",
    " ['blank', 'blank', 'blank', 'black', 'blank', 'red', 'blank', 'blank'],\n",
    " ['blank', 'blank', 'black', 'blank', 'blank', 'blank', 'blank', 'blank'],\n",
    " ['blank', 'blank', 'blank', 'black', 'blank', 'blank', 'blank', 'blank'],\n",
    " ['blank', 'blank', 'red', 'blank', 'red', 'blank', 'red', 'blank']]\n",
    "\n",
    "red_pieces = 0\n",
    "black_pieces = 0"
   ]
  },
  {
   "cell_type": "code",
   "execution_count": 4,
   "metadata": {},
   "outputs": [],
   "source": [
    "# Find how many red and black pieces there are\n",
    "for outer in checker_board:\n",
    "    \n",
    "    for inner in outer:\n",
    "        \n",
    "        if inner == 'red':\n",
    "            red_pieces += 1\n",
    "        elif inner == 'black':\n",
    "            black_pieces += 1    "
   ]
  },
  {
   "cell_type": "code",
   "execution_count": null,
   "metadata": {},
   "outputs": [],
   "source": []
  },
  {
   "cell_type": "markdown",
   "metadata": {},
   "source": [
    "## 2D Array Time Complexity\n",
    "\n",
    "We can't fully understand a data structure without first analyzing its time complexity. 2D arrays are tricky though. We haven't really discussed whether we can expand our 2D array, and even if we could, the process would be awkward.<br>\n",
    "\n",
    "For the sake of simplicity, let's make a few assumptions about the 2D arrays we're using. \n",
    "* First and foremost, let's assume they're **static**. In other words, **their size does not change**. \n",
    "* Another simplifying assumption that follows is that insertion into our 2D arrays simply replaces whatever element was there, and that **deletion leaves an \"empty\" slot in the array**.\n",
    "\n",
    "The only interesting complexity analysis involves accessing elements of a 2D array. Since deletion and insertion replace elements, their complexities will be the same as array access because we always have to find the element we're dealing with first.<br>\n",
    "\n",
    "Accessing by index is constant time because we're really dealing with an array of arrays. Accessing the row is constant time because the row is just an element in a regular array. Then, accessing the element within that row is constant time again. Nothing depends on the size of the array, so it's constant time.<br>\n",
    "\n",
    "Now let's consider searching for an element (accessing by value). Let's call the height of our array `m`, and the width `n`. Behind the scenes, we're really working with an array of size `m`, where each element in the array is an array of size `n`. This is simply the array-of-arrays implementation we discussed earlier.<br>\n",
    "\n",
    "Let's say we're searching for an element. Under the worst case scenario, we have to touch every slot in the array once to find what we're looking for. Because the array is `m` rows by `n` columns, there are `m * n` total slots. We touch each slot once, so our time complexity is **O(m * n)**.<br>\n",
    "\n",
    "This looks a bit different than the time complexities we've seen before, but we need to remember what time complexity represents. Our input size has both height and width, and the time our search takes increases as either `m` or `n` grows. Thus, **O(m * n)** makes sense for the time complexity of a 2D array traversal."
   ]
  },
  {
   "cell_type": "code",
   "execution_count": null,
   "metadata": {},
   "outputs": [],
   "source": []
  },
  {
   "cell_type": "markdown",
   "metadata": {},
   "source": [
    "## An Overview of Hash Tables/Dictionaries\n",
    "\n",
    "A **hash table** is a useful data structure that stores data based on **key-value** pairs. With a hash table, we use the **key** to locate the **data** in the table.<br>\n",
    "\n",
    "One of the most common forms of a hash table is a **dictionary**, where the keys are almost always strings. Let's say we're storing the populations of cities around the world. We choose to store them in a dictionary called `city_populations`. To find the population of `\"Boston\"`, we would write:\n",
    "\n",
    "```python\n",
    "city_populations[\"Boston\"]\n",
    "```\n",
    "\n",
    "We access the population quickly in one operation, and don't need to worry about searching for the city. The hash table takes care of that for us."
   ]
  },
  {
   "cell_type": "code",
   "execution_count": null,
   "metadata": {},
   "outputs": [],
   "source": []
  },
  {
   "cell_type": "markdown",
   "metadata": {},
   "source": [
    "## Dictionary Access\n",
    "\n",
    "We'll focus on dictionaries that use strings for the keys, and any data type for the values. We access a dictionary value using square brackets:\n",
    "\n",
    "```python\n",
    "myDict[\"key\"]\n",
    "```\n",
    "\n",
    "We can set dictionary values in a very similar way:\n",
    "\n",
    "```python\n",
    "myDict[\"key\"] = myValue\n",
    "```"
   ]
  },
  {
   "cell_type": "code",
   "execution_count": 5,
   "metadata": {},
   "outputs": [],
   "source": [
    "city_populations = {'Beijing': 11510000,\n",
    "                     'Boston': 645966,\n",
    "                     'Paris': 2244000,\n",
    "                     'Rio de Janeiro': 6320000}"
   ]
  },
  {
   "cell_type": "code",
   "execution_count": 6,
   "metadata": {},
   "outputs": [],
   "source": [
    "# Population of Rio de Janeiro\n",
    "rio_population = city_populations[\"Rio de Janeiro\"]"
   ]
  },
  {
   "cell_type": "code",
   "execution_count": 7,
   "metadata": {},
   "outputs": [],
   "source": [
    "boston_population = city_populations[\"Boston\"]\n",
    "paris_population = city_populations[\"Paris\"]"
   ]
  },
  {
   "cell_type": "code",
   "execution_count": 8,
   "metadata": {},
   "outputs": [
    {
     "data": {
      "text/plain": [
       "{'Beijing': 11510001,\n",
       " 'Boston': 645965,\n",
       " 'Paris': 2244000,\n",
       " 'Rio de Janeiro': 6320000}"
      ]
     },
     "execution_count": 8,
     "metadata": {},
     "output_type": "execute_result"
    }
   ],
   "source": [
    "city_populations[\"Boston\"] -= 1\n",
    "city_populations[\"Beijing\"] += 1\n",
    "\n",
    "city_populations"
   ]
  },
  {
   "cell_type": "code",
   "execution_count": null,
   "metadata": {},
   "outputs": [],
   "source": []
  },
  {
   "cell_type": "markdown",
   "metadata": {},
   "source": [
    "## Hash Table Implementation\n",
    "\n",
    "### Behind the scenes, a hash table is just a large array. \n",
    "Recall that accessing the elements in an array by index is very quick. A hash table is a clever construct that takes advantage of this property by converting keys to indexes using a **hash function**. A hash function accepts a key as input and converts it to an integer index. This way, we can find the appropriate index for any key.<br>\n",
    "\n",
    "Let's say our `city_populations` dictionary contains 10 cities. We could write a hash function that converts the city names to the indexes between 0 and 9, but it's very likely that it would convert multiple cities to the same index. When two keys map to the same index, we have a **collision**. We want to avoid collisions.<br>\n",
    "\n",
    "Instead, let's implement our hash table using an array with a size of 10000. It seems excessive, but we can add plenty of cities to our hash table without having to worry much about collisions.<br>\n",
    "\n",
    "Imagine we want to store the population of `\"New York\"`. Our hash function takes the string `\"New York\"`, performs some fancy operations on it, and returns an index - let's assume `4955`. It then stores the population of New York in slot 4955. When we want to access the population of New York later on, it does exactly the same thing: computes the index, and retrieves the population.<br>\n",
    "\n",
    "Even when we use large arrays, collisions can still occur. While there are ways to resolve these collisions, the details aren't really important. Just know that collisions are inefficient and undesirable, and larger arrays lead to fewer collisions."
   ]
  },
  {
   "cell_type": "code",
   "execution_count": null,
   "metadata": {},
   "outputs": [],
   "source": []
  },
  {
   "cell_type": "markdown",
   "metadata": {},
   "source": [
    "## Hash Table Analysis\n",
    "\n",
    "### Accessing and storing data in hash tables is very quick, so what's the trade-off? \n",
    "Hash tables need to be very large in order to minimize collisions and maximize time efficiency. However, maximizing time efficiency in this case hurts **space efficiency**. In other words, using a **hash table eats up a lot of memory**.<br>\n",
    "\n",
    "Imagine that a group of about 30 people in an auditorium are organizing themselves by birthday, for some reason. There's a seat in the auditorium for every day of the year. Each person sits in his/her appropriate seat, and they all fit in the auditorium.<br>\n",
    "\n",
    "Somebody with a clipboard of birthdays and names can now easily find any person by going to the seat corresponding to his or her birthday, even if that person is a total stranger.<br>\n",
    "\n",
    "However, these 30 people are wasting a lot of space in the auditorium so they can play their silly game. If somebody else needs to use the room, they're confined to using less space.<br>\n",
    "\n",
    "This is analogous to the space efficiency trade-off of a hash table. There's a lot of empty space in most hash tables, and empty space is wasted space in computer memory. \n",
    "* If that memory is precious to us, we may want to consider another data structure. \n",
    "* However, if we have plenty of space to spare and would rather optimize for time, hash tables are a good candidate because they access items quickly.\n",
    "\n",
    "Hash tables are the perfect example of a trade-off in computer science. \n",
    "\n",
    "### By using a hash table, we're increasing time efficiency at the expense of space efficiency."
   ]
  },
  {
   "cell_type": "code",
   "execution_count": null,
   "metadata": {},
   "outputs": [],
   "source": []
  },
  {
   "cell_type": "markdown",
   "metadata": {},
   "source": [
    "## Exercise: Choosing a Data Structure\n",
    "\n",
    "Now that we've seen a few data structures, it's important to be able to choose the best one for a given situation. Having many data structures to choose from is only helpful if we use them well.<br>\n",
    "\n",
    "Deciding which data structure is the best fit for a particular problem is rarely an easy choice. There are a lot of trade-offs to consider. You want to optimize the time your program takes to run while also choosing structures that represent your data well.<br>\n",
    "\n",
    "For this exercise, you'll need to choose an appropriate data structure for the given scenarios. We've provided full descriptions for each scenario. There's a clear best option among the data structures we've learned in this mission for each one. Though these decisions are rarely open-and-shut in real life, this exercise will help you remember and weigh the trade-offs for each data structure."
   ]
  },
  {
   "cell_type": "code",
   "execution_count": null,
   "metadata": {},
   "outputs": [],
   "source": []
  },
  {
   "cell_type": "markdown",
   "metadata": {},
   "source": [
    "* After each scenario, set the appropriate variable to the value `\"static array\"`, `\"dynamic array\"`, `\"2d array\"`, or `\"hash table\"`, depending on which data structure you feel is most appropriate.\n",
    "* Because each data structure is very different, we focus primarily on the nature of the data in this exercise."
   ]
  },
  {
   "cell_type": "code",
   "execution_count": null,
   "metadata": {},
   "outputs": [],
   "source": []
  },
  {
   "cell_type": "markdown",
   "metadata": {},
   "source": [
    "Scenario A\n",
    "* You need to keep track of people sitting in an auditorium for a play. You'll have to identify which seats are empty, and sell tickets until the auditorium is completely full. How will you store the names of who's sitting where?"
   ]
  },
  {
   "cell_type": "code",
   "execution_count": null,
   "metadata": {},
   "outputs": [],
   "source": [
    "scenario_A_data_structure = \"2d array\""
   ]
  },
  {
   "cell_type": "code",
   "execution_count": null,
   "metadata": {},
   "outputs": [],
   "source": []
  },
  {
   "cell_type": "markdown",
   "metadata": {},
   "source": [
    "Scenario B\n",
    "* You're in charge of maintaining a guest list for a wedding. You're only concerned with a list of who's coming to the party. You have to add someone's name whenever they RSVP that they'll be attending the wedding."
   ]
  },
  {
   "cell_type": "code",
   "execution_count": null,
   "metadata": {},
   "outputs": [],
   "source": [
    "scenario_B_data_structure = \"dynamic array\""
   ]
  },
  {
   "cell_type": "code",
   "execution_count": null,
   "metadata": {},
   "outputs": [],
   "source": []
  },
  {
   "cell_type": "markdown",
   "metadata": {},
   "source": [
    "Scenario C\n",
    "* Now every person who RSVPs for the wedding indicates which meal they want. You have to keep track of both the person and the meal order. You need to be able to find out what meal a particular person ordered quickly, so the waiters don't delay too long when it comes time to eat.\n"
   ]
  },
  {
   "cell_type": "code",
   "execution_count": null,
   "metadata": {},
   "outputs": [],
   "source": [
    "cenario_C_data_structure = \"hash table\""
   ]
  },
  {
   "cell_type": "code",
   "execution_count": null,
   "metadata": {},
   "outputs": [],
   "source": []
  }
 ],
 "metadata": {
  "kernelspec": {
   "display_name": "Python 3",
   "language": "python",
   "name": "python3"
  },
  "language_info": {
   "codemirror_mode": {
    "name": "ipython",
    "version": 3
   },
   "file_extension": ".py",
   "mimetype": "text/x-python",
   "name": "python",
   "nbconvert_exporter": "python",
   "pygments_lexer": "ipython3",
   "version": "3.6.2"
  }
 },
 "nbformat": 4,
 "nbformat_minor": 2
}
