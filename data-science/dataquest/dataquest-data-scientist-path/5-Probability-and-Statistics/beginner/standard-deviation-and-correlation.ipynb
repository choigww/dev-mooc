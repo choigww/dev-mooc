{
 "cells": [
  {
   "cell_type": "markdown",
   "metadata": {},
   "source": [
    "# Standard Deviation and Correlation\n",
    "\n",
    "\n",
    "> 2013/14 NBA player stats: totals\n",
    "source : https://www.basketball-reference.com/leagues/NBA_2014_totals.html\n",
    "\n",
    "\n",
    "Here are some of the interesting columns:\n",
    "\n",
    "* `player` - The player's name\n",
    "* `pts` - The total number of points the player scored\n",
    "* `ast` - The player's total number of assists\n",
    "* `fg.` - The player's field goal percentage for the season\n",
    "\n",
    "On the next few screens, we'll explore this data set by calculating a few summary statistics.\n",
    "\n",
    "\n"
   ]
  },
  {
   "cell_type": "code",
   "execution_count": 13,
   "metadata": {},
   "outputs": [],
   "source": [
    "import pandas as pd"
   ]
  },
  {
   "cell_type": "code",
   "execution_count": 14,
   "metadata": {},
   "outputs": [],
   "source": [
    "nba_stats = pd.read_csv('data/201314-nba-playerstats-totals.csv', sep=',')"
   ]
  },
  {
   "cell_type": "code",
   "execution_count": 15,
   "metadata": {
    "scrolled": true
   },
   "outputs": [
    {
     "data": {
      "text/html": [
       "<div>\n",
       "<style scoped>\n",
       "    .dataframe tbody tr th:only-of-type {\n",
       "        vertical-align: middle;\n",
       "    }\n",
       "\n",
       "    .dataframe tbody tr th {\n",
       "        vertical-align: top;\n",
       "    }\n",
       "\n",
       "    .dataframe thead th {\n",
       "        text-align: right;\n",
       "    }\n",
       "</style>\n",
       "<table border=\"1\" class=\"dataframe\">\n",
       "  <thead>\n",
       "    <tr style=\"text-align: right;\">\n",
       "      <th></th>\n",
       "      <th>Rk</th>\n",
       "      <th>Player</th>\n",
       "      <th>Pos</th>\n",
       "      <th>Age</th>\n",
       "      <th>Tm</th>\n",
       "      <th>G</th>\n",
       "      <th>GS</th>\n",
       "      <th>MP</th>\n",
       "      <th>FG</th>\n",
       "      <th>FGA</th>\n",
       "      <th>...</th>\n",
       "      <th>FT%</th>\n",
       "      <th>ORB</th>\n",
       "      <th>DRB</th>\n",
       "      <th>TRB</th>\n",
       "      <th>AST</th>\n",
       "      <th>STL</th>\n",
       "      <th>BLK</th>\n",
       "      <th>TOV</th>\n",
       "      <th>PF</th>\n",
       "      <th>PTS</th>\n",
       "    </tr>\n",
       "  </thead>\n",
       "  <tbody>\n",
       "    <tr>\n",
       "      <th>0</th>\n",
       "      <td>1</td>\n",
       "      <td>Quincy Acy\\acyqu01</td>\n",
       "      <td>SF</td>\n",
       "      <td>23</td>\n",
       "      <td>TOT</td>\n",
       "      <td>63</td>\n",
       "      <td>0</td>\n",
       "      <td>847</td>\n",
       "      <td>66</td>\n",
       "      <td>141</td>\n",
       "      <td>...</td>\n",
       "      <td>0.660</td>\n",
       "      <td>72</td>\n",
       "      <td>144</td>\n",
       "      <td>216</td>\n",
       "      <td>28</td>\n",
       "      <td>23</td>\n",
       "      <td>26</td>\n",
       "      <td>30</td>\n",
       "      <td>122</td>\n",
       "      <td>171</td>\n",
       "    </tr>\n",
       "    <tr>\n",
       "      <th>1</th>\n",
       "      <td>1</td>\n",
       "      <td>Quincy Acy\\acyqu01</td>\n",
       "      <td>SF</td>\n",
       "      <td>23</td>\n",
       "      <td>TOR</td>\n",
       "      <td>7</td>\n",
       "      <td>0</td>\n",
       "      <td>61</td>\n",
       "      <td>6</td>\n",
       "      <td>14</td>\n",
       "      <td>...</td>\n",
       "      <td>0.625</td>\n",
       "      <td>5</td>\n",
       "      <td>10</td>\n",
       "      <td>15</td>\n",
       "      <td>4</td>\n",
       "      <td>4</td>\n",
       "      <td>3</td>\n",
       "      <td>2</td>\n",
       "      <td>8</td>\n",
       "      <td>19</td>\n",
       "    </tr>\n",
       "    <tr>\n",
       "      <th>2</th>\n",
       "      <td>1</td>\n",
       "      <td>Quincy Acy\\acyqu01</td>\n",
       "      <td>SF</td>\n",
       "      <td>23</td>\n",
       "      <td>SAC</td>\n",
       "      <td>56</td>\n",
       "      <td>0</td>\n",
       "      <td>786</td>\n",
       "      <td>60</td>\n",
       "      <td>127</td>\n",
       "      <td>...</td>\n",
       "      <td>0.667</td>\n",
       "      <td>67</td>\n",
       "      <td>134</td>\n",
       "      <td>201</td>\n",
       "      <td>24</td>\n",
       "      <td>19</td>\n",
       "      <td>23</td>\n",
       "      <td>28</td>\n",
       "      <td>114</td>\n",
       "      <td>152</td>\n",
       "    </tr>\n",
       "    <tr>\n",
       "      <th>3</th>\n",
       "      <td>2</td>\n",
       "      <td>Steven Adams\\adamsst01</td>\n",
       "      <td>C</td>\n",
       "      <td>20</td>\n",
       "      <td>OKC</td>\n",
       "      <td>81</td>\n",
       "      <td>20</td>\n",
       "      <td>1197</td>\n",
       "      <td>93</td>\n",
       "      <td>185</td>\n",
       "      <td>...</td>\n",
       "      <td>0.581</td>\n",
       "      <td>142</td>\n",
       "      <td>190</td>\n",
       "      <td>332</td>\n",
       "      <td>43</td>\n",
       "      <td>40</td>\n",
       "      <td>57</td>\n",
       "      <td>71</td>\n",
       "      <td>203</td>\n",
       "      <td>265</td>\n",
       "    </tr>\n",
       "    <tr>\n",
       "      <th>4</th>\n",
       "      <td>3</td>\n",
       "      <td>Jeff Adrien\\adrieje01</td>\n",
       "      <td>PF</td>\n",
       "      <td>27</td>\n",
       "      <td>TOT</td>\n",
       "      <td>53</td>\n",
       "      <td>12</td>\n",
       "      <td>961</td>\n",
       "      <td>143</td>\n",
       "      <td>275</td>\n",
       "      <td>...</td>\n",
       "      <td>0.639</td>\n",
       "      <td>102</td>\n",
       "      <td>204</td>\n",
       "      <td>306</td>\n",
       "      <td>38</td>\n",
       "      <td>24</td>\n",
       "      <td>36</td>\n",
       "      <td>39</td>\n",
       "      <td>108</td>\n",
       "      <td>362</td>\n",
       "    </tr>\n",
       "  </tbody>\n",
       "</table>\n",
       "<p>5 rows × 30 columns</p>\n",
       "</div>"
      ],
      "text/plain": [
       "   Rk                  Player Pos  Age   Tm   G  GS    MP   FG  FGA ...   \\\n",
       "0   1      Quincy Acy\\acyqu01  SF   23  TOT  63   0   847   66  141 ...    \n",
       "1   1      Quincy Acy\\acyqu01  SF   23  TOR   7   0    61    6   14 ...    \n",
       "2   1      Quincy Acy\\acyqu01  SF   23  SAC  56   0   786   60  127 ...    \n",
       "3   2  Steven Adams\\adamsst01   C   20  OKC  81  20  1197   93  185 ...    \n",
       "4   3   Jeff Adrien\\adrieje01  PF   27  TOT  53  12   961  143  275 ...    \n",
       "\n",
       "     FT%  ORB  DRB  TRB  AST  STL  BLK  TOV   PF  PTS  \n",
       "0  0.660   72  144  216   28   23   26   30  122  171  \n",
       "1  0.625    5   10   15    4    4    3    2    8   19  \n",
       "2  0.667   67  134  201   24   19   23   28  114  152  \n",
       "3  0.581  142  190  332   43   40   57   71  203  265  \n",
       "4  0.639  102  204  306   38   24   36   39  108  362  \n",
       "\n",
       "[5 rows x 30 columns]"
      ]
     },
     "execution_count": 15,
     "metadata": {},
     "output_type": "execute_result"
    }
   ],
   "source": [
    "nba_stats.head()"
   ]
  },
  {
   "cell_type": "code",
   "execution_count": 16,
   "metadata": {},
   "outputs": [
    {
     "data": {
      "text/plain": [
       "Index(['Rk', 'Player', 'Pos', 'Age', 'Tm', 'G', 'GS', 'MP', 'FG', 'FGA', 'FG%',\n",
       "       '3P', '3PA', '3P%', '2P', '2PA', '2P%', 'eFG%', 'FT', 'FTA', 'FT%',\n",
       "       'ORB', 'DRB', 'TRB', 'AST', 'STL', 'BLK', 'TOV', 'PF', 'PTS'],\n",
       "      dtype='object')"
      ]
     },
     "execution_count": 16,
     "metadata": {},
     "output_type": "execute_result"
    }
   ],
   "source": [
    "nba_stats.columns"
   ]
  },
  {
   "cell_type": "code",
   "execution_count": null,
   "metadata": {},
   "outputs": [],
   "source": []
  },
  {
   "cell_type": "markdown",
   "metadata": {},
   "source": [
    "### Finding Variance\n",
    "\n",
    "Let's look at variance in the data. Variance tells us how concentrated or \"spread out\" the data is around the mean.<br>\n",
    "\n",
    "We looked at kurtosis earlier, which measures the shape of a distribution. Variance directly measures how far the average data point is from the mean.<br>\n",
    "\n",
    "We calculate variance by subtracting every value from the mean, squaring the results, and then averaging them. Mathemically, this looks like this:\n",
    "\n",
    "$$ \n",
    "\\sigma^2 =\n",
    "\\frac{\\displaystyle\\sum_{i=1}^{n}(x_i - \\mu _x)^2} {n}\n",
    "$$"
   ]
  },
  {
   "cell_type": "code",
   "execution_count": 18,
   "metadata": {},
   "outputs": [],
   "source": [
    "import matplotlib.pyplot as plt\n",
    "import pandas as pd\n",
    "\n",
    "# We've already loaded the NBA data into the nba_stats variable.\n",
    "# Find the mean value of the column.\n",
    "PF_mean = nba_stats[\"PF\"].mean()\n",
    "\n",
    "# Initialize variance at zero.\n",
    "variance = 0\n",
    "\n",
    "# Loop through each item in the \"PF\" column.\n",
    "for p in nba_stats[\"PF\"]:\n",
    "    \n",
    "    # Calculate the difference between the mean and the value.\n",
    "    difference = p - PF_mean\n",
    "    \n",
    "    # Square the difference. This ensures that the result isn't negative.\n",
    "    # If we didn't square the difference, the total variance would be zero.\n",
    "    # ** in python means \"raise whatever comes before this to the power of whatever number is after this.\"\n",
    "    square_difference = difference ** 2\n",
    "    \n",
    "    # Add the difference to the total.\n",
    "    variance += square_difference\n",
    "\n",
    "# Average the total to find the final variance.\n",
    "pf_variance = variance / len(nba_stats[\"PF\"])"
   ]
  },
  {
   "cell_type": "code",
   "execution_count": 19,
   "metadata": {
    "scrolled": true
   },
   "outputs": [
    {
     "data": {
      "text/plain": [
       "5043.3537036491389"
      ]
     },
     "execution_count": 19,
     "metadata": {},
     "output_type": "execute_result"
    }
   ],
   "source": [
    "pf_variance"
   ]
  },
  {
   "cell_type": "code",
   "execution_count": null,
   "metadata": {},
   "outputs": [],
   "source": []
  },
  {
   "cell_type": "code",
   "execution_count": 20,
   "metadata": {},
   "outputs": [],
   "source": [
    "PTS_mean = nba_stats[\"PTS\"].mean()\n",
    "\n",
    "variance = 0\n",
    "\n",
    "for p in nba_stats[\"PTS\"]:\n",
    "    \n",
    "    difference = p - PTS_mean\n",
    "    square_difference = difference ** 2\n",
    "    variance += square_difference\n",
    "\n",
    "point_variance = variance / len(nba_stats[\"PTS\"])"
   ]
  },
  {
   "cell_type": "code",
   "execution_count": 21,
   "metadata": {},
   "outputs": [
    {
     "data": {
      "text/plain": [
       "203512.38304836844"
      ]
     },
     "execution_count": 21,
     "metadata": {},
     "output_type": "execute_result"
    }
   ],
   "source": [
    "point_variance"
   ]
  },
  {
   "cell_type": "code",
   "execution_count": null,
   "metadata": {},
   "outputs": [],
   "source": []
  },
  {
   "cell_type": "markdown",
   "metadata": {},
   "source": [
    "### Calculating Standard Deviation\n",
    "\n",
    "**Standard deviation** is the most common way to refer to the distance between data points and the mean. It's a very useful concept and a great way to measure the density of a data set.\n",
    "\n",
    "$$\\sigma =\n",
    "\\sqrt{\\frac{\\displaystyle\\sum_{i=1}^{n}(x_i - \\mu _x)^2} {n}}$$"
   ]
  },
  {
   "cell_type": "code",
   "execution_count": 24,
   "metadata": {},
   "outputs": [],
   "source": [
    "def cal_std(df, col):\n",
    "    \n",
    "    col_mean = df[col].mean()\n",
    "    var = 0\n",
    "    \n",
    "    for p in df[col]:\n",
    "        \n",
    "        diff = p - col_mean\n",
    "        sqrd_diff = diff ** 2\n",
    "        var += sqrd_diff\n",
    "    \n",
    "    return (var / len(df[col]))**(1/2)\n",
    "    "
   ]
  },
  {
   "cell_type": "code",
   "execution_count": 26,
   "metadata": {},
   "outputs": [],
   "source": [
    "mp_dev = cal_std(nba_stats, 'MP')\n",
    "ast_dev = cal_std(nba_stats, 'AST')"
   ]
  },
  {
   "cell_type": "code",
   "execution_count": 27,
   "metadata": {},
   "outputs": [
    {
     "name": "stdout",
     "output_type": "stream",
     "text": [
      "885.510773619 122.682937146\n"
     ]
    }
   ],
   "source": [
    "print(mp_dev, ast_dev)"
   ]
  },
  {
   "cell_type": "code",
   "execution_count": null,
   "metadata": {},
   "outputs": [],
   "source": []
  },
  {
   "cell_type": "markdown",
   "metadata": {},
   "source": [
    "### Finding Standard Deviation Distance\n",
    "\n",
    "The standard deviation is very useful because it lets us compare the points in a distribution to the mean.\n",
    "\n",
    "* We can say that a certain point is **\"two standard deviations away from the mean,\"** for example. This gives us a way to compare data density across different charts."
   ]
  },
  {
   "cell_type": "code",
   "execution_count": 28,
   "metadata": {},
   "outputs": [
    {
     "data": {
      "image/png": "[encoded data removed]",
      "text/plain": [
       "<matplotlib.figure.Figure at 0x1138d8978>"
      ]
     },
     "metadata": {},
     "output_type": "display_data"
    }
   ],
   "source": [
    "import matplotlib.pyplot as plt\n",
    "\n",
    "plt.hist(nba_stats[\"PF\"])\n",
    "mean = nba_stats[\"PF\"].mean()\n",
    "plt.axvline(mean, color=\"r\")\n",
    "# We can calculate standard deviation by using the std() method on a pandas series.\n",
    "std_dev = nba_stats[\"PF\"].std()\n",
    "# Plot a line one standard deviation below the mean.\n",
    "plt.axvline(mean - std_dev, color=\"g\")\n",
    "# Plot a line one standard deviation above the mean.\n",
    "plt.axvline(mean + std_dev, color=\"g\")\n",
    "\n",
    "# We can see how many of the data points fall within one standard deviation of the mean.\n",
    "# The more that fall into this range, the more dense the data is.\n",
    "plt.show()\n",
    "\n",
    "# We can calculate how many standard deviations a data point is from the mean by doing some subtraction and division.\n",
    "# First, we find the total distance by subtracting the mean.\n",
    "total_distance = nba_stats[\"PF\"][0] - mean\n",
    "# Then we divide by standard deviation to find how many standard deviations away the point is.\n",
    "standard_deviation_distance = total_distance / std_dev\n",
    "\n",
    "point_10 = nba_stats[\"PF\"][9]\n",
    "point_100 = nba_stats[\"PF\"][99]"
   ]
  },
  {
   "cell_type": "code",
   "execution_count": 30,
   "metadata": {},
   "outputs": [
    {
     "data": {
      "text/plain": [
       "-0.72091629433534377"
      ]
     },
     "execution_count": 30,
     "metadata": {},
     "output_type": "execute_result"
    }
   ],
   "source": [
    "point_10_std = (point_10 - nba_stats['PF'].mean()) / std_dev\n",
    "point_10_std"
   ]
  },
  {
   "cell_type": "code",
   "execution_count": 31,
   "metadata": {},
   "outputs": [
    {
     "data": {
      "text/plain": [
       "1.3895375458867869"
      ]
     },
     "execution_count": 31,
     "metadata": {},
     "output_type": "execute_result"
    }
   ],
   "source": [
    "point_100_std = (point_100 - nba_stats['PF'].mean()) / std_dev\n",
    "point_100_std"
   ]
  },
  {
   "cell_type": "code",
   "execution_count": null,
   "metadata": {},
   "outputs": [],
   "source": []
  },
  {
   "cell_type": "markdown",
   "metadata": {},
   "source": [
    "### Working with the Normal Distribution\n",
    "\n",
    "The normal distribution is a special kind of distribution. You might recognize it more commonly as a bell curve. <br>\n",
    "\n",
    "The normal distribution is found in a variety of natural phenomena. If we made a histogram of the heights of everyone on the planet, for example, it would be more or less a normal distribution. <br>\n",
    "\n",
    "We can generate a normal distribution by using a probability density function."
   ]
  },
  {
   "cell_type": "code",
   "execution_count": 32,
   "metadata": {},
   "outputs": [
    {
     "data": {
      "image/png": "[encoded data removed]",
      "text/plain": [
       "<matplotlib.figure.Figure at 0x1138d8390>"
      ]
     },
     "metadata": {},
     "output_type": "display_data"
    }
   ],
   "source": [
    "import numpy as np\n",
    "import matplotlib.pyplot as plt\n",
    "# The norm module has a pdf function (pdf stands for probability density function)\n",
    "from scipy.stats import norm\n",
    "\n",
    "# The arange function generates a numpy vector\n",
    "# The vector below will start at -1, and go up to, but not including 1\n",
    "# It will proceed in \"steps\" of .01.  So the first element will be -1, the second -.99, the third -.98, all the way up to .99.\n",
    "points = np.arange(-1, 1, 0.01)\n",
    "\n",
    "# The norm.pdf function will take the points vector and convert it into a probability vector\n",
    "# Each element in the vector will correspond to the normal distribution (earlier elements and later element smaller, peak in the center)\n",
    "# The distribution will be centered on 0, and will have a standard devation of .3\n",
    "probabilities = norm.pdf(points, 0, .3)\n",
    "\n",
    "# Plot the points values on the x-axis and the corresponding probabilities on the y-axis\n",
    "# See the bell curve?\n",
    "plt.plot(points, probabilities)\n",
    "plt.show()"
   ]
  },
  {
   "cell_type": "code",
   "execution_count": 33,
   "metadata": {},
   "outputs": [
    {
     "data": {
      "image/png": "[encoded data removed]",
      "text/plain": [
       "<matplotlib.figure.Figure at 0x1138d8f98>"
      ]
     },
     "metadata": {},
     "output_type": "display_data"
    }
   ],
   "source": [
    "# (0, 2) normal distribution\n",
    "\n",
    "pts = np.arange(-10, 10, .1)\n",
    "probs = norm.pdf(pts, 0, 2)\n",
    "plt.plot(pts, probs)\n",
    "plt.show()"
   ]
  },
  {
   "cell_type": "code",
   "execution_count": null,
   "metadata": {},
   "outputs": [],
   "source": []
  },
  {
   "cell_type": "markdown",
   "metadata": {},
   "source": [
    "### Normal Distribution Deviation\n",
    "\n",
    "One cool thing about normal distributions is that for every single one, the same percentage of the data is within one standard deviation of the mean, the same percentage is within two standard deviations of the mean, and so on.\n",
    "\n",
    "* About 68% of the data is within one standard deviation, roughly 95% is within two standard deviations, and about 99% is within three standard deviations."
   ]
  },
  {
   "cell_type": "code",
   "execution_count": 34,
   "metadata": {},
   "outputs": [],
   "source": [
    "# Housefly wing lengths in millimeters\n",
    "wing_lengths = [36, 37, 38, 38, 39, 39, 40, 40, 40, \n",
    "                40, 41, 41, 41, 41, 41, 41, 42, 42, \n",
    "                42, 42, 42, 42, 42, 43, 43, 43, 43, \n",
    "                43, 43, 43, 43, 44, 44, 44, 44, 44, \n",
    "                44, 44, 44, 44, 45, 45, 45, 45, 45, \n",
    "                45, 45, 45, 45, 45, 46, 46, 46, 46, \n",
    "                46, 46, 46, 46, 46, 46, 47, 47, 47, \n",
    "                47, 47, 47, 47, 47, 47, 48, 48, 48, \n",
    "                48, 48, 48, 48, 48, 49, 49, 49, 49, \n",
    "                49, 49, 49, 50, 50, 50, 50, 50, 50, \n",
    "                51, 51, 51, 51, 52, 52, 53, 53, 54, \n",
    "                55]"
   ]
  },
  {
   "cell_type": "code",
   "execution_count": 35,
   "metadata": {},
   "outputs": [],
   "source": [
    "wing_lengths = pd.Series(wing_lengths)\n",
    "\n",
    "mean_wing_lengths = wing_lengths.mean()\n",
    "std_wing_lengths = wing_lengths.std()\n",
    "\n",
    "dist_from_mean_wing_lengths = (wing_lengths - mean_wing_lengths) / std_wing_lengths\n",
    "\n",
    "within_one_percentage = dist_from_mean_wing_lengths\\\n",
    "                        [abs(dist_from_mean_wing_lengths) <= 1]\n",
    "    \n",
    "within_two_percentage = dist_from_mean_wing_lengths\\\n",
    "                        [abs(dist_from_mean_wing_lengths) <= 2]\n",
    "    \n",
    "within_three_percentage = dist_from_mean_wing_lengths\\\n",
    "                        [abs(dist_from_mean_wing_lengths) <= 3]\n"
   ]
  },
  {
   "cell_type": "code",
   "execution_count": null,
   "metadata": {},
   "outputs": [],
   "source": []
  },
  {
   "cell_type": "markdown",
   "metadata": {},
   "source": [
    "### Using Scatterplots to Plot Correlations\n",
    "\n",
    "Much of statistics deals with analyzing how variables impact each other, and the first step is to graph them out with a scatterplot. <br>\n",
    "\n",
    "While graphing them out, we can look at correlation. If two variables change together (ie, when one goes up, the other goes up), we know that they are correlated."
   ]
  },
  {
   "cell_type": "code",
   "execution_count": 37,
   "metadata": {},
   "outputs": [
    {
     "data": {
      "image/png": "[encoded data removed]",
      "text/plain": [
       "<matplotlib.figure.Figure at 0x111f11668>"
      ]
     },
     "metadata": {},
     "output_type": "display_data"
    },
    {
     "data": {
      "image/png": "[encoded data removed]",
      "text/plain": [
       "<matplotlib.figure.Figure at 0x11398d668>"
      ]
     },
     "metadata": {},
     "output_type": "display_data"
    },
    {
     "data": {
      "image/png": "[encoded data removed]",
      "text/plain": [
       "<matplotlib.figure.Figure at 0x11209e668>"
      ]
     },
     "metadata": {},
     "output_type": "display_data"
    }
   ],
   "source": [
    "import matplotlib.pyplot as plt\n",
    "\n",
    "# Plot field goals attempted (number of shots someone takes in a season) vs. point scored in a season.\n",
    "# Field goals attempted is on the x-axis, and points is on the y-axis.\n",
    "# As you can tell, they are very strongly correlated. The plot is close to a straight line.\n",
    "# The plot also slopes upward, which means that as field goal attempts go up, so do points.\n",
    "# That means that the plot is positively correlated.\n",
    "plt.scatter(nba_stats[\"FGA\"], nba_stats[\"PTS\"])\n",
    "plt.show()\n",
    "\n",
    "# If we make points negative (so the people who scored the most points now score the least, because 3000 becomes -3000), we can change the direction of the correlation.\n",
    "# Field goals are negatively correlated with our new \"negative\" points column -- the more free throws you attempt, the less negative points you score.\n",
    "# We can see this because the correlation line slopes downward.\n",
    "plt.scatter(nba_stats[\"FGA\"], -nba_stats[\"PTS\"])\n",
    "plt.show()\n",
    "\n",
    "# Now, we can plot total rebounds (number of times someone got the ball back for their team after someone shot) vs total assists (number of times someone helped another person score).\n",
    "# These are uncorrelated, so you don't see the same nice line as you see with the plot above.\n",
    "plt.scatter(nba_stats[\"TRB\"], nba_stats[\"AST\"])\n",
    "plt.show()"
   ]
  },
  {
   "cell_type": "code",
   "execution_count": null,
   "metadata": {},
   "outputs": [],
   "source": []
  },
  {
   "cell_type": "code",
   "execution_count": 38,
   "metadata": {},
   "outputs": [
    {
     "data": {
      "image/png": "[encoded data removed]",
      "text/plain": [
       "<matplotlib.figure.Figure at 0x115799e80>"
      ]
     },
     "metadata": {},
     "output_type": "display_data"
    }
   ],
   "source": [
    "plt.scatter(nba_stats['FTA'], nba_stats['PTS'])\n",
    "plt.show()"
   ]
  },
  {
   "cell_type": "code",
   "execution_count": 39,
   "metadata": {},
   "outputs": [
    {
     "data": {
      "image/png": "[encoded data removed]",
      "text/plain": [
       "<matplotlib.figure.Figure at 0x115725eb8>"
      ]
     },
     "metadata": {},
     "output_type": "display_data"
    }
   ],
   "source": [
    "plt.scatter(nba_stats['STL'], nba_stats['PF'])\n",
    "plt.show()"
   ]
  },
  {
   "cell_type": "code",
   "execution_count": null,
   "metadata": {},
   "outputs": [],
   "source": []
  },
  {
   "cell_type": "markdown",
   "metadata": {},
   "source": [
    "### Measuring Correlation with Pearson's r\n",
    "\n",
    "Measuring correlation can be a big help when we need to analyze a lot of variables. This spares us from having to eyeball everything. <br>\n",
    "\n",
    "The most common way to measure correlation is to use **Pearson's r**, which we also call an **r-value**.<br>\n",
    "\n",
    "We'll explore how the calculations work later. For now, though, we'll focus on the values. <br>\n",
    "\n",
    "* An r-value ranges from -1 to 1, and indicates how strongly two variables are correlated.\n",
    "  * A 1 indicates a perfect positive correlation. This would appear as a straight, upward-sloping line on our plots.\n",
    "  * A 0 indicates no correlation. We'd see a scatterplot with points that appear random.\n",
    "  * A -1 indicates a perfect negative correlation. This would appear as a straight, downward-sloping line.\n",
    "\n",
    "Any correlation between -1 and 0 will show up as a scattering of points. The same is true of correlations falling between 0 and 1. The closer the value is to 0, the more random the points will appear. The closer it is to -1 or 1, the more \"line-like\" the points will appear. <br>\n",
    "\n",
    "We can use a function from scipy to calculate Pearson's r."
   ]
  },
  {
   "cell_type": "code",
   "execution_count": 41,
   "metadata": {},
   "outputs": [
    {
     "name": "stdout",
     "output_type": "stream",
     "text": [
      "0.990412723627\n",
      "0.424278516292\n"
     ]
    }
   ],
   "source": [
    "from scipy.stats.stats import pearsonr\n",
    "\n",
    "# The pearsonr function will find the correlation between two columns of data.\n",
    "# It returns the r value and the p value.  We'll learn more about p values later on.\n",
    "r, p_value = pearsonr(nba_stats[\"FGA\"], nba_stats[\"PTS\"])\n",
    "# As we can see, this is a very high positive r value - it's close to 1.\n",
    "print(r)\n",
    "\n",
    "# These two columns are much less correlated.\n",
    "r, p_value = pearsonr(nba_stats[\"TRB\"], nba_stats[\"AST\"])\n",
    "# We get a much lower, but still positive, r value.\n",
    "print(r)"
   ]
  },
  {
   "cell_type": "code",
   "execution_count": 42,
   "metadata": {},
   "outputs": [],
   "source": [
    "r_fta_pts, p_value = pearsonr(nba_stats['FTA'], nba_stats['PTS'])\n",
    "r_stl_pf, p_value = pearsonr(nba_stats['STL'], nba_stats['PF'])"
   ]
  },
  {
   "cell_type": "code",
   "execution_count": 43,
   "metadata": {
    "scrolled": true
   },
   "outputs": [
    {
     "name": "stdout",
     "output_type": "stream",
     "text": [
      "0.9247142802 0.77382931075\n"
     ]
    }
   ],
   "source": [
    "print(r_fta_pts, r_stl_pf)"
   ]
  },
  {
   "cell_type": "code",
   "execution_count": null,
   "metadata": {},
   "outputs": [],
   "source": []
  },
  {
   "cell_type": "markdown",
   "metadata": {},
   "source": [
    "### Calculate Covariance\n",
    "\n",
    "Another way to think of correlation is in terms of variance.<br>\n",
    "\n",
    "Two variables are correlated when they both vary individually, but in similar ways. For example, correlation occurs when if one variable goes up, another variable also goes up.<br>\n",
    "\n",
    "This is called covariance. Covariance refers to how different numbers vary jointly.<br>\n",
    "\n",
    "There's **a limit to how much two variables can co-vary. This is because each variable has its own variance.** These individual variances set a maximum theoretical limit on the covariance between two variables. In other words, a set of variables can't co-vary more from the mean than the two variables individually vary from the mean. <br>\n",
    "\n",
    "* Two variables reach the maximum possible covariance when they vary in an identical way (ie, you see a straight line on the plot).\n",
    "\n",
    "* The r-value is a ratio between the actual covariance and the maximum possible positive covariance.\n",
    "\n",
    "Let's look at actual covariance first. Mathematically speaking, covariance between two variables looks like this:\n",
    "\n",
    "$$cov(\\mathbf{x},\\mathbf{y})=\n",
    "\\frac{\\sum_{i=1}^{n}(x_i-\\mu _x)(y_i-\\mu _y)}{n}$$\n",
    "\n",
    "For each element in the vectors x and y, we:\n",
    "\n",
    "* Take the value at each position from 1 to the length of the vectors.\n",
    "* Subtract the mean of the vector from those values.\n",
    "* Multiply them together at each position, and all of the resulting values together."
   ]
  },
  {
   "cell_type": "code",
   "execution_count": 44,
   "metadata": {},
   "outputs": [],
   "source": [
    "def calc_covariance(df, col1, col2):\n",
    "    \n",
    "    return (df[col1]-df[col1].mean())*\\\n",
    "            (df[col2]-df[col2].mean()).sum()\\\n",
    "            / len(df[col1])\n",
    "    \n",
    "cov_stl_pf = calc_covariance(nba_stats, 'STL', 'PF')\n",
    "cov_fta_pts = calc_covariance(nba_stats, 'FTA', 'PTS')"
   ]
  },
  {
   "cell_type": "code",
   "execution_count": null,
   "metadata": {},
   "outputs": [],
   "source": []
  },
  {
   "cell_type": "markdown",
   "metadata": {},
   "source": [
    "### Calculate Correlation With the std() method\n",
    "\n",
    "Now that we know how to calculate covariance, we can get the **correlation coefficient** using the following formula:\n",
    "\n",
    "$\\frac{cov(\\mathbf{x},\\mathbf{y})}{\\sigma_{x}\\sigma_{y}}$\n",
    "\n",
    "For the denominator, we need to multiply the standard deviations for x and y. This is the maximum possible positive covariance, which is just both of the standard deviation values multiplied. If we divide our actual covariance by this, we get the r-value. <br>\n",
    "\n",
    "We can use the `std` method on any pandas DataFrame or Series to calculate the standard deviation. The following code returns the standard deviation for the `pf` column:\n",
    "\n",
    "`nba_stats['PF'].std()`\n",
    "\n",
    "We can use the `cov` function from NumPy to compute covariance, returning a 2x2 matrix. The following code returns the covariance between the `pf` and `stl` columns:\n",
    "\n",
    "```python\n",
    "cov(nba_stats['PF'], nba_stats['STL'])[0,1]\n",
    "```"
   ]
  },
  {
   "cell_type": "code",
   "execution_count": 47,
   "metadata": {},
   "outputs": [],
   "source": [
    "from numpy import cov\n",
    "\n",
    "r_fta_blk = cov(nba_stats['FTA'], nba_stats['BLK'])[0,1]\\\n",
    "            /(nba_stats['FTA'].std() * nba_stats['BLK'].std())\n",
    "r_ast_stl = cov(nba_stats['AST'], nba_stats['STL'])[0,1]\\\n",
    "            /(nba_stats['AST'].std() * nba_stats['STL'].std())"
   ]
  },
  {
   "cell_type": "code",
   "execution_count": 48,
   "metadata": {},
   "outputs": [
    {
     "name": "stdout",
     "output_type": "stream",
     "text": [
      "0.491784538478 0.784482863176\n"
     ]
    }
   ],
   "source": [
    "print(r_fta_blk, r_ast_stl)"
   ]
  },
  {
   "cell_type": "code",
   "execution_count": null,
   "metadata": {},
   "outputs": [],
   "source": []
  }
 ],
 "metadata": {
  "kernelspec": {
   "display_name": "Python 3",
   "language": "python",
   "name": "python3"
  },
  "language_info": {
   "codemirror_mode": {
    "name": "ipython",
    "version": 3
   },
   "file_extension": ".py",
   "mimetype": "text/x-python",
   "name": "python",
   "nbconvert_exporter": "python",
   "pygments_lexer": "ipython3",
   "version": "3.6.2"
  }
 },
 "nbformat": 4,
 "nbformat_minor": 2
}
