{
 "cells": [
  {
   "cell_type": "markdown",
   "metadata": {},
   "source": [
    "# Significance Testing\n",
    "\n",
    "In this mission, we'll learn about hypothesis testing and statistical significance. A hypothesis is a pattern or rule about a process in the world that can be tested. We use hypothesis testing to determine if a change we made had a meaningful impact or not. <br>\n",
    "\n",
    "You can use hypothesis testing to help you determine:\n",
    "\n",
    "* **if a new banner ad on a website caused a meaningful drop in the user engagement**,\n",
    "* **if raising the price of a product caused a meaningful drop in sales**,\n",
    "* **if a new weight loss pill helped people lose more weight.**\n",
    "\n",
    "Observing a decrease in user engagement or sales after instituting a change doesn't automatically imply that the change was the cause. Hypothesis testing allows us to calculate the probability that random chance was actually responsible for the difference in outcome. Every process has some inherent amount of randomness that we can't measure and understanding the role of chance helps us reach a conclusion that's more likely to be correct.<br>\n",
    "\n",
    "We first set up a **null hypothesis** that describes the status quo. We then state an **alternative hypothesis**, which we used to compare with the null hypothesis to decide which describes the data better. In the end, we either need to:<br>\n",
    "\n",
    "* reject the null hypothesis and accept the alternative hypothesis or\n",
    "* accept the null hypothesis and reject the alternative hypothesis.\n",
    "\n",
    "We can frame each of the studies above as these rival pairs of hypotheses:\n",
    "\n",
    "* if a new banner ad on a website caused a meaningful drop in the user engagement:\n",
    "\n",
    "hypothesis|desc\n",
    "---|---\n",
    "null|users who were exposed to the banner ad spent the same amount of time on the website than those who weren't.\n",
    "alternative|users who were exposed to the banner ad spent less time on the website than those who weren't.\n",
    "\n",
    "* if raising the price of a product caused a meaningful drop in sales:\n",
    "\n",
    "hypothesis|desc\n",
    "---|---\n",
    "null|the number of purchases of the product was the same at the lower price than it was at the higher price.\n",
    "alternative|the number of purchases of the product was lower at the higher price than it was at the lower price.\n",
    "\n",
    "* if a new weight loss pill helped people lose more weight:\n",
    "\n",
    "hypothesis|desc\n",
    "---|---\n",
    "null|patients who went on the weight loss pill lost no more weight than those who didn't.\n",
    "alternative|patients who went on the weight loss pill lost more weight than those who didn't.\n",
    "\n",
    "In the rest of this mission, we'll focus on the third scenario and use data to determine if a weight loss pill helped people lose weight."
   ]
  },
  {
   "cell_type": "code",
   "execution_count": null,
   "metadata": {},
   "outputs": [],
   "source": []
  },
  {
   "cell_type": "markdown",
   "metadata": {},
   "source": [
    "## Research design\n",
    "\n",
    "To help us determine if the weight loss pill was effective, we conducted a study where we invited 100 volunteers and split them into 2 even groups randomly:\n",
    "\n",
    "* Group A was given a placebo, or fake, pill and instructed to consume it on a daily basis.\n",
    "* Group B was given the actual weight loss pill and instructed to consume it on a daily basis.\n",
    "\n",
    "Both groups were instructed to change nothing else about their diets. Group A is referred to as the control group while group B is referred to as the treatment group. This type of study is called a [blind experiment](https://en.wikipedia.org/wiki/Blind_experiment) since the participants didn't know which pill they were receiving. This helps us reduce the potential bias that is introduced when participants know which pill they were given. For example, participants who are aware they were given the weight loss pill may try to add healthier foods to their diet to help them lose more weight. Both groups were weighed before the study began and a month later, after the study ended.<br>\n",
    "\n",
    "Understanding the **research design** for a study is an important first step that informs the rest of your analysis. It helps us uncover potential flaws in the study that we need to keep in mind as we dive deeper. The weight loss pill study we conducted is known as an experimental study. Experimental studies usually involve bringing in participants, instructing them to perform some tasks, and observing them. A key part of running an experimental study is random assignment, which involves assigning participants in the study to random groups without revealing which group each participant is in. Before exploring and analyzing a dataset, it's important to understand how the study was conducted. Flaws in how the study was run can lead you to reach the wrong conclusions."
   ]
  },
  {
   "cell_type": "code",
   "execution_count": null,
   "metadata": {},
   "outputs": [],
   "source": []
  },
  {
   "cell_type": "markdown",
   "metadata": {},
   "source": [
    "## Statistical significance\n",
    "\n",
    "Statistics helps us determine if the difference in the weight lost between the 2 groups is because of random chance or because of an actual difference in the outcomes. If there is a meaningful difference, we say that the results are **statistically significant**. We'll dive into what this means exactly over the course of this mission.<br>\n",
    "\n",
    "Now that we're familiar with the study, let's state our null and alternative hypotheses more precisely. Our null hypothesis should describe the default position of skepticism, which is that there's no statistically significant difference between the outcomes of the 2 groups. Put another way, it should state that any difference is due to random chance. Our alternative hypothesis should state that there is in fact a statistically significant difference between the outcomes of the 2 groups.<br>\n",
    "\n",
    "* **Null hypothesis**: participants who consumed the weight loss pills lost the same amount of weight as those who didn't take the pill.\n",
    "* **Alternative hypothesis**: participants who consumed the weight loss pills lost more weight than those who didn't take the pill.\n",
    "\n",
    "The lists `weight_lost_a` and `weight_lost_b` contain the amount of weight (in pounds) that the participants in each group lost. Let's now explore the data to become more familiar with it."
   ]
  },
  {
   "cell_type": "markdown",
   "metadata": {},
   "source": [
    "* Use the [NumPy function mean()](http://docs.scipy.org/doc/numpy-1.10.0/reference/generated/numpy.mean.html) to calculate:\n",
    "  * The mean of the weight lost by participants in group A. Assign to `mean_group_a` and display it using the `print()` function.\n",
    "  * The mean of the weight lost by participants in group B. Assign to `mean_group_b` and display it using the `print()` function.\n",
    "* Use the [Matplotlib function hist()](http://matplotlib.org/api/pyplot_api.html#matplotlib.pyplot.hist) to plot histograms for both `weight_lost_a` and `weight_lost_b`."
   ]
  },
  {
   "cell_type": "code",
   "execution_count": 3,
   "metadata": {},
   "outputs": [],
   "source": [
    "import pandas as pd\n",
    "import numpy as np\n",
    "import matplotlib.pyplot as plt"
   ]
  },
  {
   "cell_type": "code",
   "execution_count": 4,
   "metadata": {},
   "outputs": [
    {
     "data": {
      "text/html": [
       "<div>\n",
       "<style scoped>\n",
       "    .dataframe tbody tr th:only-of-type {\n",
       "        vertical-align: middle;\n",
       "    }\n",
       "\n",
       "    .dataframe tbody tr th {\n",
       "        vertical-align: top;\n",
       "    }\n",
       "\n",
       "    .dataframe thead th {\n",
       "        text-align: right;\n",
       "    }\n",
       "</style>\n",
       "<table border=\"1\" class=\"dataframe\">\n",
       "  <thead>\n",
       "    <tr style=\"text-align: right;\">\n",
       "      <th></th>\n",
       "      <th>3</th>\n",
       "      <th>5</th>\n",
       "    </tr>\n",
       "  </thead>\n",
       "  <tbody>\n",
       "    <tr>\n",
       "      <th>0</th>\n",
       "      <td>2</td>\n",
       "      <td>4</td>\n",
       "    </tr>\n",
       "    <tr>\n",
       "      <th>1</th>\n",
       "      <td>3</td>\n",
       "      <td>5</td>\n",
       "    </tr>\n",
       "    <tr>\n",
       "      <th>2</th>\n",
       "      <td>4</td>\n",
       "      <td>5</td>\n",
       "    </tr>\n",
       "    <tr>\n",
       "      <th>3</th>\n",
       "      <td>3</td>\n",
       "      <td>4</td>\n",
       "    </tr>\n",
       "    <tr>\n",
       "      <th>4</th>\n",
       "      <td>2</td>\n",
       "      <td>5</td>\n",
       "    </tr>\n",
       "  </tbody>\n",
       "</table>\n",
       "</div>"
      ],
      "text/plain": [
       "   3  5\n",
       "0  2  4\n",
       "1  3  5\n",
       "2  4  5\n",
       "3  3  4\n",
       "4  2  5"
      ]
     },
     "execution_count": 4,
     "metadata": {},
     "output_type": "execute_result"
    }
   ],
   "source": [
    "weight_loss = pd.read_csv('data/weight_loss.csv')\n",
    "weight_loss.head()"
   ]
  },
  {
   "cell_type": "code",
   "execution_count": 5,
   "metadata": {},
   "outputs": [],
   "source": [
    "weight_lost_a = list(weight_loss.iloc[:,0])\n",
    "weight_lost_b = list(weight_loss.iloc[:, 1])"
   ]
  },
  {
   "cell_type": "code",
   "execution_count": 6,
   "metadata": {
    "scrolled": true
   },
   "outputs": [
    {
     "name": "stdout",
     "output_type": "stream",
     "text": [
      "2.81632653061\n",
      "5.34693877551\n"
     ]
    }
   ],
   "source": [
    "mean_group_a = np.mean(weight_lost_a)\n",
    "mean_group_b = np.mean(weight_lost_b)\n",
    "\n",
    "print(mean_group_a)\n",
    "print(mean_group_b)"
   ]
  },
  {
   "cell_type": "code",
   "execution_count": 10,
   "metadata": {},
   "outputs": [
    {
     "data": {
      "image/png": "[encoded data removed]",
      "text/plain": [
       "<matplotlib.figure.Figure at 0x113b2e2b0>"
      ]
     },
     "metadata": {},
     "output_type": "display_data"
    },
    {
     "data": {
      "image/png": "[encoded data removed]",
      "text/plain": [
       "<matplotlib.figure.Figure at 0x113c03ef0>"
      ]
     },
     "metadata": {},
     "output_type": "display_data"
    }
   ],
   "source": [
    "plt.hist(weight_lost_a); plt.show()\n",
    "plt.hist(weight_lost_b, color='r'); plt.show()"
   ]
  },
  {
   "cell_type": "code",
   "execution_count": null,
   "metadata": {},
   "outputs": [],
   "source": []
  },
  {
   "cell_type": "markdown",
   "metadata": {},
   "source": [
    "## Test statistic\n",
    "\n",
    "To decide which hypothesis more accurately describes the data, we need to frame the hypotheses more quantitatively. \n",
    "### The first step is to decide on a test statistic, \n",
    "which is a numerical value that summarizes the data and we can use in statistical formulas. We use this test statistic to run a statistical test that will determine how likely the difference between the groups were due to random chance.<br>\n",
    "\n",
    "Since we want to know if the amount of weight lost between the groups is meaningfully different, we will use the difference in the means, also known as the mean difference, of the amount of weight lost for each group as the test statistic.<br>\n",
    " \n",
    "The following symbol is used to represent the sample mean in statistics:\n",
    "\n",
    "$$\\bar{x}$$\n",
    "\n",
    "We'll use:\n",
    "\n",
    "$$\\bar{x_a}$$\n",
    "\n",
    "to denote the mean of group A and\n",
    "\n",
    "$$\\bar{x_b}$$\n",
    "\n",
    "to denote the mean of group B. For the mean difference, we'll subtract the mean of group A from group B:\n",
    "\n",
    "$$\\bar{x_b}-\\bar{x_a}$$\n",
    "\n",
    "Now that we have decided on a test statistic, we can rewrite our hypotheses to be more precise:\n",
    "\n",
    "* Null hypothesis: $\\bar{x_b}-\\bar{x_a}=0$\n",
    "* Alternative hypothesis: $\\bar{x_b}-\\bar{x_a}>0$\n",
    "\n",
    "Note that while we've stated our hypotheses as equations, we're not simply calculating the difference and matching the result to hypothesis. We're instead using a statistical test to determine which of these statements better describes the data."
   ]
  },
  {
   "cell_type": "markdown",
   "metadata": {},
   "source": [
    "* Calculate the observed test statistic by subtracting mean_group_a from mean_group_b and assign to mean_difference.\n",
    "* Display mean_difference using the print() function."
   ]
  },
  {
   "cell_type": "code",
   "execution_count": 11,
   "metadata": {
    "scrolled": true
   },
   "outputs": [
    {
     "name": "stdout",
     "output_type": "stream",
     "text": [
      "2.5306122449\n"
     ]
    }
   ],
   "source": [
    "mean_difference = np.mean(mean_group_b - mean_group_a)\n",
    "print(mean_difference)"
   ]
  },
  {
   "cell_type": "code",
   "execution_count": null,
   "metadata": {},
   "outputs": [],
   "source": []
  },
  {
   "cell_type": "markdown",
   "metadata": {},
   "source": [
    "## Permutation test\n",
    "\n",
    "Now that we have a test statistic, we need to decide on a statistical test. **The purpose of a statistical test is to work out the likelihood that the result we achieved was due to random chance.**<br>\n",
    "\n",
    "The **permutation test** is a statistical test that involves:\n",
    "* simulating rerunning the study many times and \n",
    "* recalculating the test statistic for each iteration. \n",
    "\n",
    "The goal is to calculate a distribution of the test statistics over these many iterations. **This distribution is called the sampling distribution.**\n",
    "* it approximates the full range of possible test statistics *under the null hypothesis*.\n",
    "* We can then benchmark the test statistic we observed in the data (a mean difference of `2.52`) to determine how likely it is to observe this mean difference under the null hypothesis. \n",
    "\n",
    "If the null hypothesis is true, that the weight loss pill doesn't help people lose more weight, than the observed mean difference of `2.52` should be quite common in the **sampling distribution**. If it's instead extremely rare, then we accept the alternative hypothesis instead.<br>\n",
    "\n",
    "To simulate rerunning the study, we randomly reassign each data point (weight lost) to either group A or group B. We keep track of the recalculated test statistics as a separate list. By re-randomizing the groups that the weight loss values belong to, we're simulating what randomly generated groupings of these weight loss values would look like. We then use these randomly generated groupings to understand how rare the groupings in our actual data were.<br>\n",
    "\n",
    "Ideally, the number of times we re-randomize the groups that each data point belongs to matches the total number of possible permutations. **Usually, the number of total permutations is too high for even powerful supercomputers to calculate within a reasonable time frame**. While we'll use 1000 iterations for now since we'll get the results back quickly, \n",
    "* in later missions we'll learn **how to quantify the tradeoff we make between accuracy and speed to determine the optimal number of iterations**.\n",
    "\n",
    "Since we'll be randomizing the groups each value belongs to, we created a list named all_values that contains just the weight loss values."
   ]
  },
  {
   "cell_type": "markdown",
   "metadata": {},
   "source": [
    "* Create an empty list named mean_differences.\n",
    "* Inside a for loop that repeats 1000 times:\n",
    "  * Assign empty lists to the variables group_a and group_b.\n",
    "  * Inside a for loop that iterates over all_values:\n",
    "    * Use the numpy.random.rand() function to generate a value between 0 and 1.\n",
    "    * If the random value is larger than or equal to 0.5, assign that weight loss value to group A by using the append() method to append it to group_a.\n",
    "    * If the random value is less than 0.5, assign that weight loss value to group B by using the append() method to append it to group_b.\n",
    "* Outside the for loop that iterates over all_values:\n",
    "  * Use the numpy.mean() function to calculate the means of group_a and group_b.\n",
    "  * Subtract the mean of group A from group B and assign the result to iteration_mean_difference.\n",
    "  * Append iteration_mean_difference to mean_differences using the append() method.\n",
    "* Use plt.hist() to generate a histogram of mean_differences."
   ]
  },
  {
   "cell_type": "code",
   "execution_count": 17,
   "metadata": {},
   "outputs": [],
   "source": [
    "all_values = [3, 5, 2, 4, 3, 5, 4, 5, 3, 4, 2, 5, 2,\n",
    "              7, 2, 5, 1, 4, 3, 3, 2, 3, 3, 5, 1, 10,\n",
    "              3, 3, 4, 4, 1, 9, 3, 7, 2, 6, 1, 9, 3, 4,\n",
    "              4, 2, 3, 5, 2, 7, 3, 7, 7, 7, 2, 5, 3, 4,\n",
    "              2, 8, 5, 9, 1, 6, 1, 7, 1, 6, 3, 7, 2, 6,\n",
    "              4, 3, 10, 5, 2, 5, 3, 4, 2, 2, 5, 3, 6, 3,\n",
    "              2, 5, 3, 6, 2, 9, 3, 7, 4, 6, 1, 4, 3, 5,\n",
    "              3, 4, 1, 3]"
   ]
  },
  {
   "cell_type": "code",
   "execution_count": 18,
   "metadata": {},
   "outputs": [
    {
     "data": {
      "image/png": "[encoded data removed]",
      "text/plain": [
       "<matplotlib.figure.Figure at 0x113cdeba8>"
      ]
     },
     "metadata": {},
     "output_type": "display_data"
    }
   ],
   "source": [
    "mean_differences = []\n",
    "\n",
    "for i in range(1000):\n",
    "    group_a, group_b = [], []\n",
    "    \n",
    "    for val in all_values:\n",
    "        check = np.random.rand()\n",
    "        \n",
    "        if check >= .5:\n",
    "            group_a.append(val)\n",
    "        else:\n",
    "            group_b.append(val)\n",
    "    \n",
    "    iteration_mean_difference = np.mean(group_b) - np.mean(group_a)\n",
    "    mean_differences.append(iteration_mean_difference)\n",
    "    \n",
    "\n",
    "plt.hist(mean_differences); plt.show()"
   ]
  },
  {
   "cell_type": "code",
   "execution_count": null,
   "metadata": {},
   "outputs": [],
   "source": []
  },
  {
   "cell_type": "markdown",
   "metadata": {},
   "source": [
    "## Sampling distribution\n",
    "\n",
    "By randomly assigning participants to group A or group B, we account for the effect of random chance. Someone in group B who just happened to lose more weight (but not because of the pills) makes the results look better than they were. By creating many permutations, we're able to see all possible configurations of this error. Creating a histogram enables us to see how likely different values of our test statistic are if we repeated our experiment many times.<br>\n",
    "\n",
    "The histogram we generated in the previous step using Matplotlib is a visual representation of the sampling distribution. Let's now create a dictionary that contains the values in the sampling distribution so we can benchmark our observed test statistic against it.<br>\n",
    "\n",
    "The keys in the dictionary should be the test statistic and the values should be their frequency:\n",
    "\n",
    "```python\n",
    "{\n",
    "    0.34943639291465356: 3,\n",
    "    -0.55702280912364888: 2, \n",
    "    -0.14942528735632177: 1\n",
    "    ....\n",
    "}\n",
    "```\n",
    "\n",
    "We need to first count up how frequently each value in the list, `mean_differences`, occurs. As we loop over `mean_differences`, we need a way to check if the test statistic is already in our dictionary:\n",
    "\n",
    "* If it is, we look up the value at that key, add `1` to it, and assign the new value to the key.\n",
    "* If it isn't, we add the key to the dictionary and assign the value `1` to it.\n",
    "\n",
    "We'll dive more into how to accomplish this in the next step."
   ]
  },
  {
   "cell_type": "code",
   "execution_count": null,
   "metadata": {},
   "outputs": [],
   "source": []
  },
  {
   "cell_type": "markdown",
   "metadata": {},
   "source": [
    "## Dictionary representation of a distribution\n",
    "\n",
    "To check if a key exists in a dictionary, we need to use the [`get()` method](https://docs.python.org/3/library/stdtypes.html#dict.get) to:\n",
    "\n",
    "* return the value at the specified key if it exists in the dictionary or\n",
    "* return another value we specify instead.\n",
    "\n",
    "Here are the parameters the method takes in:\n",
    "\n",
    "* the required parameter is the key we want to look up,\n",
    "* the optional parameter is the default value we want returned if the key is not found.\n",
    "\n",
    "In the following code block, we use the get method and set the default value to False:\n",
    "\n",
    "```python\n",
    "empty = {}\n",
    "\n",
    "# Since \"a\" isn't a key in empty, the value False is returned.\n",
    "key_a = empty.get(\"a\", False):\n",
    "\n",
    "empty[\"b\"] = \"boat\"\n",
    "\n",
    "# key_b is the value for the key \"b\" in empty.\n",
    "key_b = empty.get(\"b\", False):\n",
    "# \"boat\" is assigned to key_b.\n",
    "```\n",
    "\n",
    "We can use the value returned from the `get()` method in an `if` statement to express our logic:\n",
    "\n",
    "```python\n",
    "empty = {\"c\": 1}\n",
    "if empty.get(\"c\", False):\n",
    "    # If in the dictionary, grab the value, increment by 1, reassign.\n",
    "    val = empty.get(\"c\")\n",
    "    inc = val + 1\n",
    "    empty[\"c\"] = inc\n",
    "else:\n",
    "    # If not in the dictionary, assign `1` as the value to that key.\n",
    "    empty[\"c\"] = 1\n",
    "```"
   ]
  },
  {
   "cell_type": "markdown",
   "metadata": {},
   "source": [
    "* Create an empty dictionary called `sampling_distribution` whose keys will be the test statistics and whose values are the frequencies of the test statistics.\n",
    "  * Inside a `for` loop that iterates over `mean_differences`, check if each value exists as a key in sampling_distribution:\n",
    "    * Use the dictionary method `get()` with a default condition of False to check if the current iteration's value is already in sampling_distribution.\n",
    "      * If it is, increment the existing value in sampling_distribution for that key by `1`.\n",
    "      * If it isn't, add it to sampling_distribution as a key and assign `1` as the value."
   ]
  },
  {
   "cell_type": "code",
   "execution_count": 19,
   "metadata": {},
   "outputs": [],
   "source": [
    "sampling_distribution = {}\n",
    "\n",
    "for md in mean_differences:\n",
    "    \n",
    "    if sampling_distribution.get(md, False):\n",
    "        sampling_distribution[md] += 1\n",
    "        \n",
    "    else:\n",
    "        sampling_distribution[md] = 1    "
   ]
  },
  {
   "cell_type": "code",
   "execution_count": null,
   "metadata": {},
   "outputs": [],
   "source": []
  },
  {
   "cell_type": "markdown",
   "metadata": {},
   "source": [
    "## P value\n",
    "\n",
    "In the sampling distribution we generated, **most of the values are closely centered around the mean difference of 0**. \n",
    "* This means that if it were purely up to chance, both groups would have lost the same amount of weight (the null hypothesis). \n",
    "\n",
    "But since the observed test statistic is not near 0, it could mean that the weight loss pills could be responsible for the mean difference in the study.<br>\n",
    "\n",
    "We can now use the sampling distribution to determine the number of times a value of `2.52` or higher appeared in our simulations. If we then divide that frequency by `1000`, we'll have the probability of observing a mean difference of `2.52` or higher purely due to random chance.<br>\n",
    "\n",
    "This probability is called the **p value**. If this value is high, it means that the difference in the amount of weight both groups lost could have easily happened randomly and the weight loss pills probably didn't play a role. On the other hand, a low p value implies that there's an incredibly small probability that the mean difference we observed was because of random chance.<br>\n",
    "\n",
    "In general, it's good practice to set the **p value threshold** before conducting the study:\n",
    "\n",
    "* if the p value is less than the threshold, we:\n",
    "  * reject the null hypothesis that there's no difference in mean amount of weight lost by participants in both groups,\n",
    "  * accept the alternative hypothesis that the people who consumed the weight loss pill lost more weight,\n",
    "  * conclude that the weight loss pill does affect the amount of weight people lost.\n",
    "\n",
    "* if the p value is greater than the threshold, we:\n",
    "  * accept the null hypothesis that there's no difference in the mean amount of weight lost by participants in both groups,\n",
    "  * reject the alternative hypothesis that the people who consumed the weight loss pill lost more weight,\n",
    "  * conclude that the weight loss pill doesn't seem to be effective in helping people lose more weight.\n",
    "\n",
    "The most common p value threshold is `0.05` or 5%, which is what we'll use in this mission. Although .05 is an arbitrary threshold, it means that there's only a 5% chance that the results are due to random chance, which most researchers are comfortable with."
   ]
  },
  {
   "cell_type": "markdown",
   "metadata": {},
   "source": [
    "* Create an empty list named `frequencies`.\n",
    "* Inside a `for` loop that iterates over the keys in `sampling_distribution`:\n",
    "  * If the key is `2.52` or larger, add its value to `frequencies` (and do nothing if it isn't).\n",
    "* Outside the `for` loop, use the NumPy function `sum()` to calculate the sum of the values in frequencies.\n",
    "* Divide the sum by `1000` and assign to `p_value`."
   ]
  },
  {
   "cell_type": "code",
   "execution_count": 21,
   "metadata": {},
   "outputs": [
    {
     "data": {
      "text/plain": [
       "0.0"
      ]
     },
     "execution_count": 21,
     "metadata": {},
     "output_type": "execute_result"
    }
   ],
   "source": [
    "frequencies = []\n",
    "\n",
    "for sd_key, sd_val in sampling_distribution.items():\n",
    "    \n",
    "    if sd_key >= 2.52:\n",
    "        frequencies.append(sd_val)\n",
    "\n",
    "p_value = sum(frequencies) / 1000\n",
    "p_value"
   ]
  },
  {
   "cell_type": "code",
   "execution_count": null,
   "metadata": {},
   "outputs": [],
   "source": []
  },
  {
   "cell_type": "markdown",
   "metadata": {},
   "source": [
    "## Caveats\n",
    "\n",
    "Since the p value of `0` is less than the threshold we set of `0.05`, we conclude that the difference in weight lost can't be attributed to random chance alone. We therefore reject the null hypothesis and accept the alternative hypothesis. A few caveats:\n",
    "\n",
    "* Research design is incredibly important and can bias your results. For example, if the participants in group A realized they were given placebo sugar pills, they may modify their behavior and affect the outcome.\n",
    "* The p value threshold you set can also affect the conclusion you reach.\n",
    "  * If you set too high of a p value threshold, you may accept the alternative hypothesis incorrectly and reject the null hypothesis. This is known as a [type I error](https://en.wikipedia.org/wiki/Type_I_and_type_II_errors).\n",
    "  * If you set too low of a p value threshold, you may reject the alternative hypothesis incorrectly in favor of accepting the null hypothesis. This is known as a [type II error](https://en.wikipedia.org/wiki/Type_I_and_type_II_errors)."
   ]
  },
  {
   "cell_type": "code",
   "execution_count": null,
   "metadata": {},
   "outputs": [],
   "source": []
  }
 ],
 "metadata": {
  "kernelspec": {
   "display_name": "Python 3",
   "language": "python",
   "name": "python3"
  },
  "language_info": {
   "codemirror_mode": {
    "name": "ipython",
    "version": 3
   },
   "file_extension": ".py",
   "mimetype": "text/x-python",
   "name": "python",
   "nbconvert_exporter": "python",
   "pygments_lexer": "ipython3",
   "version": "3.6.2"
  }
 },
 "nbformat": 4,
 "nbformat_minor": 2
}
