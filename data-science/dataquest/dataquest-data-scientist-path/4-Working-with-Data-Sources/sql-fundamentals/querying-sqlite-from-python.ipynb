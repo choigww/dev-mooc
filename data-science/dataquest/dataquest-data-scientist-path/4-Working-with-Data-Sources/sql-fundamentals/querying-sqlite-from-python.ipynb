{
 "cells": [
  {
   "cell_type": "markdown",
   "metadata": {},
   "source": [
    "In past missions, we focused on exploring the SQL syntax for retrieving data from a database. In this mission, we'll explore **how to interact with a SQLite database in Python** so you can start to incorporate databases into your data science workflow.\n",
    "<br>\n",
    "\n",
    "**SQLite is a database that doesn't require a standalone server**; it stores the entire database as a file on disk. This makes it **ideal for working with larger data sets that can fit on disk but not in memory.**<br>\n",
    "\n",
    "The pandas library loads the entire data set we're working with into memory, **making SQLite a compelling alternative for working with data sets larger than 8 gigabytes** (which is roughly the amount of memory modern computers contain). The fact that we can contain an entire database in a single file makes them easy to share; **some data sets are available online as SQLite database files** (using the extension `.db`).\n",
    "<br>\n",
    "\n",
    "We can interact with a SQLite database in two main ways:\n",
    "\n",
    "* Through the [sqlite3 Python module](https://docs.python.org/3/library/sqlite3.html)\n",
    "* Through the [SQLite shell](https://sqlite.org/cli.html)\n",
    "\n",
    "In this mission, we'll focus on learning how to use the sqlite3 module to interact with the database."
   ]
  },
  {
   "cell_type": "markdown",
   "metadata": {},
   "source": [
    "We've loaded a subset of the data into a table named `recent_grads` in a database. The subset contains the 2010-2012 data for recent college grads only. \n",
    "### The database file we'll be working with is called jobs.db."
   ]
  },
  {
   "cell_type": "markdown",
   "metadata": {},
   "source": [
    "Python 2.5 and up come with the sqlite module, which means we don't need to install any separate libraries to get started. Specifically, we'll be working with the sqlite3 Python module, which was developed to work with [SQLite version 3](https://www.sqlite.org/version3.html).\n",
    "\n",
    "We can import it into our environment using this command:"
   ]
  },
  {
   "cell_type": "code",
   "execution_count": 1,
   "metadata": {},
   "outputs": [],
   "source": [
    "import sqlite3"
   ]
  },
  {
   "cell_type": "markdown",
   "metadata": {},
   "source": [
    "Once we've imported the module, we connect to the database we want to query using the `connect()` function. This function requires a single parameter, which is the database we want to connect to. Because the database we're working with exists as a file on disk, we need to pass in the file name\n",
    "<br>\n",
    "\n",
    "The `connect()` function returns a [Connection instance](https://docs.python.org/3/library/sqlite3.html#sqlite3.Connection), which maintains the connection to the database we want to work with. When we're connected to a database, SQLite locks the database file and prevents any other processes from connecting to the database simultaneously. The SQLite team made this design decision to keep the database lightweight, and avoid the complexity that arises when multiple processes interact with the same database.\n",
    "\n",
    "#### instructions\n",
    "* Import the sqlite3 library into the environment.\n",
    "* Then, use the `sqlite3.connect()` function to connect to `jobs.db`, and assign the Connection instance it returns to `conn`."
   ]
  },
  {
   "cell_type": "markdown",
   "metadata": {},
   "source": [
    "```sqlite3\n",
    "import sqlite3\n",
    "conn = sqlite3.connect(\"jobs.db\")\n",
    "```"
   ]
  },
  {
   "cell_type": "code",
   "execution_count": null,
   "metadata": {},
   "outputs": [],
   "source": []
  },
  {
   "cell_type": "markdown",
   "metadata": {},
   "source": [
    "Before we can execute a query, we need to express our SQL query as a string. While we use the Connection class to represent the database we're working with, we use the [Cursor class](https://docs.python.org/3/library/sqlite3.html#cursor-objects) to:\n",
    "\n",
    "* Run a query against the database\n",
    "* Parse the results from the database\n",
    "* Convert the results to native Python objects\n",
    "* Store the results within the Cursor instance as a local variable\n",
    "\n",
    "After running a query and converting the results to **a list of tuples, the Cursor instance stores the list as a local variable**. Before diving into the syntax of querying the database, let's learn more about tuples."
   ]
  },
  {
   "cell_type": "code",
   "execution_count": null,
   "metadata": {},
   "outputs": [],
   "source": []
  },
  {
   "cell_type": "markdown",
   "metadata": {},
   "source": [
    "A [tuple](https://docs.python.org/3/tutorial/datastructures.html#tuples-and-sequences) is a core data structure that Python uses to represent a sequence of values, similar to a list. Unlike lists, tuples are **immutable**, which means we can't modify existing ones. Python represents each row in the results set as a tuple.\n",
    "\n",
    "To create an empty tuple, assign a pair of empty parentheses to a variable:\n",
    "```python\n",
    "t = ()\n",
    "```\n",
    "\n",
    "Python indexes Tuples from 0 to n-1, just like it does with lists. We access the values in a tuple using bracket notation.\n",
    "\n",
    "```python\n",
    "t = ('Apple', 'Banana')\n",
    "apple = t[0]\n",
    "banana = t[1]\n",
    "```\n",
    "\n",
    "### Tuples are faster than lists\n",
    "* so they'are helpful with larger databases and larger results sets.\n",
    "\n"
   ]
  },
  {
   "cell_type": "code",
   "execution_count": null,
   "metadata": {},
   "outputs": [],
   "source": []
  },
  {
   "cell_type": "markdown",
   "metadata": {},
   "source": [
    "We need to use the Connection instance method `cursor()` to return a Cursor instance corresponding to the database we want to query.\n",
    "\n",
    "```python\n",
    "cursor = conn.cursor()\n",
    "```\n",
    "\n",
    "In the following code block, we:\n",
    "\n",
    "* Write a basic `select` query that will return all of the values from the `recent_grads` table, and store this query as a string named `query`\n",
    "* Use the Cursor method `execute()` to run the query against our database\n",
    "* Return the full results set and store it as `results`\n",
    "* Print the first three tuples in the list `results`\n",
    "\n",
    "```python\n",
    "# SQL Query as a string\n",
    "query = \"select * from recent_grads;\"\n",
    "\n",
    "# Execute the query, convert the results to tuples, and store as a local variable\n",
    "cursor.execute(query)\n",
    "\n",
    "# Fetch the full results set as a list of tuples\n",
    "results = cursor.fetchall()\n",
    "\n",
    "# Display the first three results\n",
    "print(results[0:3])\n",
    "```\n",
    "\n",
    "#### instructions\n",
    "* Write a query that returns all of the values in the Major column from the recent_grads table.\n",
    "* Store the full results set (a list of tuples) in majors.\n",
    "* Then, print the first three tuples in majors.\n"
   ]
  },
  {
   "cell_type": "markdown",
   "metadata": {},
   "source": [
    "```python\n",
    "import sqlite3\n",
    "conn = sqlite3.connect(\"jobs.db\")\n",
    "cursor = conn.cursor()\n",
    "\n",
    "query = \"select * from recent_grads;\"\n",
    "cursor.execute(query)\n",
    "results = cursor.fetchall()\n",
    "print(results[0:2])\n",
    "\n",
    "query = \"select Major from recent_grads;\"\n",
    "cursor.execute(query)\n",
    "majors = cursor.fetchall()\n",
    "print(majors[:3])\n",
    "\n",
    "'''output\n",
    "[('PETROLEUM ENGINEERING',), ('MINING AND MINERAL ENGINEERING',), ('METALLURGICAL ENGINEERING',)]\n",
    "'''\n",
    "```"
   ]
  },
  {
   "cell_type": "code",
   "execution_count": null,
   "metadata": {},
   "outputs": [],
   "source": []
  },
  {
   "cell_type": "markdown",
   "metadata": {},
   "source": [
    "So far, we've been running queries by creating a Cursor instance, and then calling the `execute` method on the instance. The SQLite library actually allows us to skip creating a Cursor altogether by using the [`execute` method](https://docs.python.org/3/library/sqlite3.html#sqlite3.Connection.execute) within the Connection object itself. SQLite will create a Cursor instance for us under the hood and our query run against the database, but this shortcut allows us to skip a step. Here's what the code looks like:\n",
    "\n",
    "```python\n",
    "conn = sqlite3.connect(\"jobs.db\")\n",
    "query = \"select * from recent_grads;\"\n",
    "conn.execute(query).fetchall()\n",
    "```\n",
    "Notice that we didn't explicitly create a separate Cursor instance ourselves in this code example.\n",
    "<br>\n",
    "\n",
    "Now let's learn how to fetch a specific number of results after we run a query."
   ]
  },
  {
   "cell_type": "code",
   "execution_count": null,
   "metadata": {},
   "outputs": [],
   "source": []
  },
  {
   "cell_type": "markdown",
   "metadata": {},
   "source": [
    "### To make it easier to work with large results sets, \n",
    "the Cursor class allows us to control the number of results we want to retrieve at any given time. To return a single result (as a tuple), we use the [Cursor method fetchone()](https://docs.python.org/3/library/sqlite3.html#sqlite3.Cursor.fetchone). To return `n` results, we use the [Cursor method fetchmany()](https://docs.python.org/3/library/sqlite3.html#sqlite3.Cursor.fetchmany).\n",
    "<br>\n",
    "\n",
    "Each Cursor instance contains an internal counter that updates every time we retrieve results. When we call the `fetchone()` method, the Cursor instance will return a single result, and then increment its internal counter by 1. This means that if we call `fetchone()` again, the Cursor instance will actually return the second tuple in the results set (and increment by 1 again).\n",
    "<br>\n",
    "\n",
    "The `fetchmany()` method takes in an integer (`n`) and returns the corresponding results, starting from the current position. It then increments the Cursor instance's counter by `n`. In the following code, we return the first two results using the `fetchone()` method, then the next five results using the `fetchmany()` method.\n",
    "\n",
    "```python\n",
    "first_result = cursor.fetchone()\n",
    "second_result = cursor.fetchone()\n",
    "next_five_results = cursor.fetchmany(5)\n",
    "```"
   ]
  },
  {
   "cell_type": "markdown",
   "metadata": {},
   "source": [
    "* Write and run a query that returns the Major and Major_category columns from recent_grads.\n",
    "* Then, fetch the first five results and store them as five_results.\n",
    "\n",
    "```python\n",
    "import sqlite3\n",
    "conn = sqlite3.connect(\"jobs.db\")\n",
    "cursor = conn.cursor()\n",
    "\n",
    "five_results = cursor.execute(\"\"\"\n",
    "        select Major, Major_category\n",
    "        from recent_grads\"\"\").fetchmany(5)\n",
    "```"
   ]
  },
  {
   "cell_type": "code",
   "execution_count": null,
   "metadata": {},
   "outputs": [],
   "source": []
  },
  {
   "cell_type": "markdown",
   "metadata": {},
   "source": [
    "* Close the connection to the database using the Connection instance method close().\n",
    "\n",
    "```python\n",
    "conn.close()\n",
    "```\n",
    "\n",
    "* Connect to the database jobs2.db, which contains the same data as jobs.db.\n",
    "* Write and execute a query that returns all of the majors (Major) in reverse alphabetical order (Z to A).\n",
    "* Assign the full result set to reverse_alphabetical.\n",
    "\n",
    "Finally, close the connection to the database."
   ]
  },
  {
   "cell_type": "code",
   "execution_count": null,
   "metadata": {},
   "outputs": [],
   "source": [
    "import sqlite3\n",
    "\n",
    "conn = sqlite3.connect(\"jobs2.db\")\n",
    "\n",
    "query = \"\"\"\n",
    "        select Major from recent_grads order by Major desc;\n",
    "\"\"\"\n",
    "\n",
    "reverse_alphabetical = conn.cursor().execute(query).fetchall()\n",
    "\n",
    "conn.close()"
   ]
  },
  {
   "cell_type": "code",
   "execution_count": null,
   "metadata": {},
   "outputs": [],
   "source": []
  },
  {
   "cell_type": "code",
   "execution_count": null,
   "metadata": {},
   "outputs": [],
   "source": []
  },
  {
   "cell_type": "code",
   "execution_count": null,
   "metadata": {},
   "outputs": [],
   "source": []
  }
 ],
 "metadata": {
  "kernelspec": {
   "display_name": "Python 3",
   "language": "python",
   "name": "python3"
  },
  "language_info": {
   "codemirror_mode": {
    "name": "ipython",
    "version": 3
   },
   "file_extension": ".py",
   "mimetype": "text/x-python",
   "name": "python",
   "nbconvert_exporter": "python",
   "pygments_lexer": "ipython3",
   "version": "3.6.2"
  }
 },
 "nbformat": 4,
 "nbformat_minor": 2
}
