{
 "cells": [
  {
   "cell_type": "markdown",
   "id": "worth-nutrition",
   "metadata": {},
   "source": [
    "# Explanation of logistic regression cost function"
   ]
  },
  {
   "cell_type": "code",
   "execution_count": null,
   "id": "speaking-demographic",
   "metadata": {},
   "outputs": [],
   "source": []
  },
  {
   "cell_type": "markdown",
   "id": "educated-dallas",
   "metadata": {},
   "source": [
    "$$\n",
    "\\hat{y} = \\sigma (w_{x}+b) \\text{  where  } \\sigma (z) = \\frac{1}{1+e^{-z}}\n",
    "\\\\\n",
    "\\text{interpret } \\hat{y} = p(y=1 | x)\n",
    "$$"
   ]
  },
  {
   "cell_type": "markdown",
   "id": "persistent-ocean",
   "metadata": {},
   "source": [
    "$$\\text{if y = 1} \\longrightarrow p(y|x) = \\hat{y}\n",
    "\\\\\n",
    "\\text{if y = 0} \\longrightarrow p(y|x) = 1 - \\hat{y}\n",
    "$$"
   ]
  },
  {
   "cell_type": "markdown",
   "id": "gothic-indication",
   "metadata": {},
   "source": [
    "$$\n",
    "\\text{two formulae above can be summarized as:}\n",
    "\\\\\n",
    "p(y|x) = \\hat{y}^y \\cdot (1 - \\hat{y})^{1-y}\n",
    "$$"
   ]
  },
  {
   "cell_type": "markdown",
   "id": "wireless-expansion",
   "metadata": {},
   "source": [
    "$$\n",
    "\\text{minimize }\\log p(y|x) = \\log \\hat{y}^y (1 - \\hat{y})^{1-y} = y \\log \\hat{y} - (1 - y) \\log (1 - \\hat{y}) = - L(\\hat{y}, y)\n",
    "\\\\[15pt]\n",
    "\\text{(minimize loss = maximize log of probability = minmize minus of log of probability)}\n",
    "$$"
   ]
  },
  {
   "cell_type": "code",
   "execution_count": null,
   "id": "mental-revolution",
   "metadata": {},
   "outputs": [],
   "source": []
  },
  {
   "cell_type": "code",
   "execution_count": null,
   "id": "likely-catalog",
   "metadata": {},
   "outputs": [],
   "source": []
  },
  {
   "cell_type": "markdown",
   "id": "animated-specification",
   "metadata": {},
   "source": [
    "## Cost on $m$ samples"
   ]
  },
  {
   "cell_type": "code",
   "execution_count": null,
   "id": "color-adoption",
   "metadata": {},
   "outputs": [],
   "source": []
  },
  {
   "cell_type": "markdown",
   "id": "affiliated-package",
   "metadata": {},
   "source": [
    "$$\n",
    "\\log p(\\text{labels in training set}) = \\log \\prod_{i=1}^m p(y^{i} | x^{i}) = \\sum_{i=1}^m \\log p(y^{i} | x^{i}) = \\sum_{i=1}^m -L(\\hat{y}^i, y^i) = - \\sum_{i=1}^m L(\\hat{y}^i, y^i)\n",
    "\\\\[20pt]\n",
    "\\text{For calculating cost-minimizing probability, remove -(minus)}\n",
    "\\\\\n",
    "\\text{Cost: } J(w, b) = \\sum_{i=1}^m L(\\hat{y}^i, y^i)\n",
    "\\\\[20pt]\n",
    "\\text{Adding quantity scaling factor } m,\n",
    "\\\\\n",
    "J(w, b) = \\frac{1}{m} \\sum_{i=1}^m L(\\hat{y}^i, y^i)\n",
    "\\\\[20pt]\n",
    "\\text{Using this cost function, operate maximum likelyhood estiation}\n",
    "\\\\\n",
    "\\text{*under assumptions of our training example = IID (identically independently distributed}\n",
    "$$"
   ]
  },
  {
   "cell_type": "code",
   "execution_count": null,
   "id": "academic-bridges",
   "metadata": {},
   "outputs": [],
   "source": []
  },
  {
   "cell_type": "code",
   "execution_count": null,
   "id": "cheap-huntington",
   "metadata": {},
   "outputs": [],
   "source": []
  }
 ],
 "metadata": {
  "kernelspec": {
   "display_name": "Python 3",
   "language": "python",
   "name": "python3"
  },
  "language_info": {
   "codemirror_mode": {
    "name": "ipython",
    "version": 3
   },
   "file_extension": ".py",
   "mimetype": "text/x-python",
   "name": "python",
   "nbconvert_exporter": "python",
   "pygments_lexer": "ipython3",
   "version": "3.7.9"
  }
 },
 "nbformat": 4,
 "nbformat_minor": 5
}
