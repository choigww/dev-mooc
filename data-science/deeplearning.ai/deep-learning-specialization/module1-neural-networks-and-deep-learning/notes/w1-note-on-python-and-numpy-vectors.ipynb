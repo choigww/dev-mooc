{
 "cells": [
  {
   "cell_type": "code",
   "execution_count": 2,
   "id": "characteristic-harvey",
   "metadata": {},
   "outputs": [],
   "source": [
    "import numpy as np"
   ]
  },
  {
   "cell_type": "markdown",
   "id": "perceived-catholic",
   "metadata": {},
   "source": [
    "# Takeways\n",
    "- Do not use rank-1 array\n",
    "- Use `(n, 1)` column vector or `(1, n)`row vector\n",
    "- Double check your matrix dimension / array size using `assert (a.shape==(n, m))`\n",
    "- Use `a.reshape(n, m)` to make matrices you want"
   ]
  },
  {
   "cell_type": "code",
   "execution_count": null,
   "id": "danish-sugar",
   "metadata": {},
   "outputs": [],
   "source": []
  },
  {
   "cell_type": "markdown",
   "id": "crucial-design",
   "metadata": {},
   "source": [
    "## Avoid `(n,)` shape\n",
    "- `np.random.rand(5)`\n",
    "    - rank 1 array"
   ]
  },
  {
   "cell_type": "code",
   "execution_count": 5,
   "id": "angry-wallpaper",
   "metadata": {},
   "outputs": [],
   "source": [
    " a = np.random.randn(5) # don't use!"
   ]
  },
  {
   "cell_type": "code",
   "execution_count": 6,
   "id": "south-student",
   "metadata": {},
   "outputs": [
    {
     "data": {
      "text/plain": [
       "array([ 0.56176502, -1.42423893,  0.02103884,  0.76900328,  0.29266928])"
      ]
     },
     "execution_count": 6,
     "metadata": {},
     "output_type": "execute_result"
    }
   ],
   "source": [
    "a"
   ]
  },
  {
   "cell_type": "code",
   "execution_count": 7,
   "id": "apart-offset",
   "metadata": {},
   "outputs": [
    {
     "data": {
      "text/plain": [
       "(5,)"
      ]
     },
     "execution_count": 7,
     "metadata": {},
     "output_type": "execute_result"
    }
   ],
   "source": [
    "a.shape"
   ]
  },
  {
   "cell_type": "code",
   "execution_count": 10,
   "id": "excess-grenada",
   "metadata": {},
   "outputs": [
    {
     "data": {
      "text/plain": [
       "array([ 0.56176502, -1.42423893,  0.02103884,  0.76900328,  0.29266928])"
      ]
     },
     "execution_count": 10,
     "metadata": {},
     "output_type": "execute_result"
    }
   ],
   "source": [
    "a.T"
   ]
  },
  {
   "cell_type": "code",
   "execution_count": 8,
   "id": "engaged-contrary",
   "metadata": {},
   "outputs": [
    {
     "data": {
      "text/plain": [
       "(5,)"
      ]
     },
     "execution_count": 8,
     "metadata": {},
     "output_type": "execute_result"
    }
   ],
   "source": [
    "a.T.shape"
   ]
  },
  {
   "cell_type": "code",
   "execution_count": 9,
   "id": "european-isolation",
   "metadata": {},
   "outputs": [
    {
     "data": {
      "text/plain": [
       "3.0215004534243435"
      ]
     },
     "execution_count": 9,
     "metadata": {},
     "output_type": "execute_result"
    }
   ],
   "source": [
    "np.dot(a, a.T) # inner product"
   ]
  },
  {
   "cell_type": "code",
   "execution_count": null,
   "id": "western-registration",
   "metadata": {},
   "outputs": [],
   "source": []
  },
  {
   "cell_type": "markdown",
   "id": "infrared-association",
   "metadata": {},
   "source": [
    "## Create `(n, m)` shape\n",
    "- `np.random.rand(5, 1)`\n",
    "- `np.random.rand(1, 5`"
   ]
  },
  {
   "cell_type": "code",
   "execution_count": 11,
   "id": "established-printing",
   "metadata": {},
   "outputs": [],
   "source": [
    "a = np.random.rand(5, 1)"
   ]
  },
  {
   "cell_type": "code",
   "execution_count": 12,
   "id": "aggregate-actress",
   "metadata": {},
   "outputs": [
    {
     "data": {
      "text/plain": [
       "array([[0.80514962],\n",
       "       [0.15746987],\n",
       "       [0.15545572],\n",
       "       [0.22063326],\n",
       "       [0.11265457]])"
      ]
     },
     "execution_count": 12,
     "metadata": {},
     "output_type": "execute_result"
    }
   ],
   "source": [
    "a # column vector 5 by 1"
   ]
  },
  {
   "cell_type": "code",
   "execution_count": 17,
   "id": "powered-skirt",
   "metadata": {},
   "outputs": [
    {
     "data": {
      "text/plain": [
       "(5, 1)"
      ]
     },
     "execution_count": 17,
     "metadata": {},
     "output_type": "execute_result"
    }
   ],
   "source": [
    "a.shape"
   ]
  },
  {
   "cell_type": "code",
   "execution_count": 15,
   "id": "running-thousand",
   "metadata": {},
   "outputs": [
    {
     "data": {
      "text/plain": [
       "array([[0.80514962, 0.15746987, 0.15545572, 0.22063326, 0.11265457]])"
      ]
     },
     "execution_count": 15,
     "metadata": {},
     "output_type": "execute_result"
    }
   ],
   "source": [
    "a.T  # row vector 1 by 5"
   ]
  },
  {
   "cell_type": "code",
   "execution_count": 18,
   "id": "effective-thousand",
   "metadata": {},
   "outputs": [
    {
     "data": {
      "text/plain": [
       "(1, 5)"
      ]
     },
     "execution_count": 18,
     "metadata": {},
     "output_type": "execute_result"
    }
   ],
   "source": [
    "a.T.shape"
   ]
  },
  {
   "cell_type": "code",
   "execution_count": 16,
   "id": "infectious-verification",
   "metadata": {},
   "outputs": [
    {
     "data": {
      "text/plain": [
       "array([[0.64826591, 0.12678681, 0.12516512, 0.17764278, 0.09070378],\n",
       "       [0.12678681, 0.02479676, 0.02447959, 0.03474309, 0.0177397 ],\n",
       "       [0.12516512, 0.02447959, 0.02416648, 0.0342987 , 0.0175128 ],\n",
       "       [0.17764278, 0.03474309, 0.0342987 , 0.04867903, 0.02485534],\n",
       "       [0.09070378, 0.0177397 , 0.0175128 , 0.02485534, 0.01269105]])"
      ]
     },
     "execution_count": 16,
     "metadata": {},
     "output_type": "execute_result"
    }
   ],
   "source": [
    "np.dot(a, a.T) #outer product"
   ]
  },
  {
   "cell_type": "code",
   "execution_count": null,
   "id": "conceptual-pharmaceutical",
   "metadata": {},
   "outputs": [],
   "source": []
  },
  {
   "cell_type": "markdown",
   "id": "rational-consortium",
   "metadata": {},
   "source": [
    "## small trick: check matrix shape\n",
    "- `assert (a.shape == (5, 11))`\n",
    "- convert 'rank 1 arrray' into 'col/row vector'!"
   ]
  },
  {
   "cell_type": "code",
   "execution_count": 19,
   "id": "republican-indianapolis",
   "metadata": {},
   "outputs": [
    {
     "data": {
      "text/plain": [
       "array([[0.21199879, 0.77527993, 0.5153232 , 0.91681189, 0.14074119]])"
      ]
     },
     "execution_count": 19,
     "metadata": {},
     "output_type": "execute_result"
    }
   ],
   "source": [
    "# convert rank 1 array to legit vector\n",
    "np.random.rand(5).reshape(1, 5) # rank1 array to column vector"
   ]
  },
  {
   "cell_type": "code",
   "execution_count": 20,
   "id": "seeing-cambridge",
   "metadata": {},
   "outputs": [
    {
     "data": {
      "text/plain": [
       "array([[0.85643637],\n",
       "       [0.62192009],\n",
       "       [0.07277455],\n",
       "       [0.49335896],\n",
       "       [0.96619533]])"
      ]
     },
     "execution_count": 20,
     "metadata": {},
     "output_type": "execute_result"
    }
   ],
   "source": [
    "np.random.rand(5).reshape(5, 1) # rank1 array to row vector"
   ]
  },
  {
   "cell_type": "code",
   "execution_count": null,
   "id": "automated-concrete",
   "metadata": {},
   "outputs": [],
   "source": []
  },
  {
   "cell_type": "markdown",
   "id": "square-census",
   "metadata": {},
   "source": [
    "### Test Operation"
   ]
  },
  {
   "cell_type": "code",
   "execution_count": 3,
   "id": "returning-breeding",
   "metadata": {
    "scrolled": true
   },
   "outputs": [],
   "source": [
    "a = np.random.randn(2, 3) # a.shape = (2, 3)\n",
    "b = np.random.randn(2, 1) # b.shape = (2, 1)\n",
    "c = a + b"
   ]
  },
  {
   "cell_type": "code",
   "execution_count": 6,
   "id": "victorian-ferry",
   "metadata": {},
   "outputs": [
    {
     "data": {
      "text/plain": [
       "array([[-0.73393972, -1.04008438, -0.8958126 ],\n",
       "       [ 1.09484727, -1.44660096, -1.10801904]])"
      ]
     },
     "execution_count": 6,
     "metadata": {},
     "output_type": "execute_result"
    }
   ],
   "source": [
    "a"
   ]
  },
  {
   "cell_type": "code",
   "execution_count": null,
   "id": "collective-rough",
   "metadata": {},
   "outputs": [],
   "source": []
  },
  {
   "cell_type": "code",
   "execution_count": 7,
   "id": "disturbed-pregnancy",
   "metadata": {},
   "outputs": [
    {
     "data": {
      "text/plain": [
       "array([[ 0.52628708],\n",
       "       [-0.5203336 ]])"
      ]
     },
     "execution_count": 7,
     "metadata": {},
     "output_type": "execute_result"
    }
   ],
   "source": [
    "b"
   ]
  },
  {
   "cell_type": "code",
   "execution_count": 4,
   "id": "pleased-nicholas",
   "metadata": {},
   "outputs": [
    {
     "data": {
      "text/plain": [
       "array([[-0.20765264, -0.5137973 , -0.36952552],\n",
       "       [ 0.57451367, -1.96693455, -1.62835263]])"
      ]
     },
     "execution_count": 4,
     "metadata": {},
     "output_type": "execute_result"
    }
   ],
   "source": [
    "c"
   ]
  },
  {
   "cell_type": "code",
   "execution_count": 5,
   "id": "sophisticated-exclusive",
   "metadata": {},
   "outputs": [
    {
     "data": {
      "text/plain": [
       "(2, 3)"
      ]
     },
     "execution_count": 5,
     "metadata": {},
     "output_type": "execute_result"
    }
   ],
   "source": [
    "c.shape"
   ]
  },
  {
   "cell_type": "code",
   "execution_count": null,
   "id": "southern-whale",
   "metadata": {},
   "outputs": [],
   "source": []
  },
  {
   "cell_type": "code",
   "execution_count": 28,
   "id": "fewer-origin",
   "metadata": {},
   "outputs": [],
   "source": [
    "a = np.random.randn(3, 4) \n",
    "b = np.random.randn(4, 1)\n",
    "c = a.T + b"
   ]
  },
  {
   "cell_type": "code",
   "execution_count": 29,
   "id": "quality-palmer",
   "metadata": {},
   "outputs": [
    {
     "data": {
      "text/plain": [
       "array([[-0.4509939 , -0.35674227, -0.15687675,  0.28746718],\n",
       "       [-0.86369472, -0.82923299, -0.45947909,  1.19271903],\n",
       "       [ 0.75445521,  0.1925518 , -0.65509743,  1.19074704]])"
      ]
     },
     "execution_count": 29,
     "metadata": {},
     "output_type": "execute_result"
    }
   ],
   "source": [
    "a"
   ]
  },
  {
   "cell_type": "code",
   "execution_count": 30,
   "id": "external-portsmouth",
   "metadata": {},
   "outputs": [
    {
     "data": {
      "text/plain": [
       "array([[-0.4509939 , -0.86369472,  0.75445521],\n",
       "       [-0.35674227, -0.82923299,  0.1925518 ],\n",
       "       [-0.15687675, -0.45947909, -0.65509743],\n",
       "       [ 0.28746718,  1.19271903,  1.19074704]])"
      ]
     },
     "execution_count": 30,
     "metadata": {},
     "output_type": "execute_result"
    }
   ],
   "source": [
    "a.T"
   ]
  },
  {
   "cell_type": "code",
   "execution_count": 31,
   "id": "applied-roommate",
   "metadata": {},
   "outputs": [
    {
     "data": {
      "text/plain": [
       "array([[ 0.26830204],\n",
       "       [-0.17234481],\n",
       "       [-0.42500818],\n",
       "       [ 0.43382217]])"
      ]
     },
     "execution_count": 31,
     "metadata": {},
     "output_type": "execute_result"
    }
   ],
   "source": [
    "b"
   ]
  },
  {
   "cell_type": "code",
   "execution_count": 32,
   "id": "statistical-piano",
   "metadata": {},
   "outputs": [
    {
     "data": {
      "text/plain": [
       "array([[-0.18269186, -0.59539268,  1.02275724],\n",
       "       [-0.52908708, -1.00157779,  0.02020699],\n",
       "       [-0.58188493, -0.88448727, -1.08010561],\n",
       "       [ 0.72128936,  1.6265412 ,  1.62456921]])"
      ]
     },
     "execution_count": 32,
     "metadata": {},
     "output_type": "execute_result"
    }
   ],
   "source": [
    "c"
   ]
  },
  {
   "cell_type": "code",
   "execution_count": 33,
   "id": "fourth-strip",
   "metadata": {},
   "outputs": [
    {
     "data": {
      "text/plain": [
       "array([[-0.18269186, -0.52908708, -0.58188493,  0.72128936],\n",
       "       [-0.59539268, -1.00157779, -0.88448727,  1.6265412 ],\n",
       "       [ 1.02275724,  0.02020699, -1.08010561,  1.62456921]])"
      ]
     },
     "execution_count": 33,
     "metadata": {},
     "output_type": "execute_result"
    }
   ],
   "source": [
    "a + b.T"
   ]
  },
  {
   "cell_type": "code",
   "execution_count": null,
   "id": "numerical-uzbekistan",
   "metadata": {},
   "outputs": [],
   "source": []
  },
  {
   "cell_type": "code",
   "execution_count": null,
   "id": "under-porcelain",
   "metadata": {},
   "outputs": [],
   "source": []
  },
  {
   "cell_type": "code",
   "execution_count": null,
   "id": "armed-dinner",
   "metadata": {},
   "outputs": [],
   "source": []
  },
  {
   "cell_type": "markdown",
   "id": "million-truth",
   "metadata": {},
   "source": [
    "### Element-wise multiplication"
   ]
  },
  {
   "cell_type": "code",
   "execution_count": 15,
   "id": "clean-radical",
   "metadata": {},
   "outputs": [
    {
     "data": {
      "text/plain": [
       "(3, 3)"
      ]
     },
     "execution_count": 15,
     "metadata": {},
     "output_type": "execute_result"
    }
   ],
   "source": [
    "a = np.random.randn(3, 3)\n",
    "b = np.random.randn(3, 1)\n",
    "c = a*b\n",
    "c.shape"
   ]
  },
  {
   "cell_type": "code",
   "execution_count": 16,
   "id": "cubic-guarantee",
   "metadata": {},
   "outputs": [
    {
     "data": {
      "text/plain": [
       "array([[ 2.17756881,  0.407583  ,  1.50983384],\n",
       "       [ 0.74558522, -0.32790774,  1.04873381],\n",
       "       [-0.73434531, -0.04113262,  0.27134036]])"
      ]
     },
     "execution_count": 16,
     "metadata": {},
     "output_type": "execute_result"
    }
   ],
   "source": [
    "a"
   ]
  },
  {
   "cell_type": "code",
   "execution_count": 17,
   "id": "fixed-stretch",
   "metadata": {},
   "outputs": [
    {
     "data": {
      "text/plain": [
       "array([[-1.4855246 ],\n",
       "       [-0.89116198],\n",
       "       [-0.85991653]])"
      ]
     },
     "execution_count": 17,
     "metadata": {},
     "output_type": "execute_result"
    }
   ],
   "source": [
    "b"
   ]
  },
  {
   "cell_type": "code",
   "execution_count": 23,
   "id": "adaptive-ethernet",
   "metadata": {},
   "outputs": [
    {
     "data": {
      "text/plain": [
       "array([[-1.4855246 , -1.4855246 , -1.4855246 ],\n",
       "       [-0.89116198, -0.89116198, -0.89116198],\n",
       "       [-0.85991653, -0.85991653, -0.85991653]])"
      ]
     },
     "execution_count": 23,
     "metadata": {},
     "output_type": "execute_result"
    }
   ],
   "source": [
    "np.hstack([b,b,b])"
   ]
  },
  {
   "cell_type": "code",
   "execution_count": 21,
   "id": "congressional-sierra",
   "metadata": {},
   "outputs": [
    {
     "data": {
      "text/plain": [
       "array([[-3.23483203, -0.60547457, -2.24289531],\n",
       "       [-0.66443721,  0.29221891, -0.9345917 ],\n",
       "       [ 0.63147567,  0.03537062, -0.23333006]])"
      ]
     },
     "execution_count": 21,
     "metadata": {},
     "output_type": "execute_result"
    }
   ],
   "source": [
    "a * np.hstack([b,b,b])"
   ]
  },
  {
   "cell_type": "code",
   "execution_count": 22,
   "id": "emotional-gentleman",
   "metadata": {},
   "outputs": [
    {
     "data": {
      "text/plain": [
       "array([[-3.23483203, -0.60547457, -2.24289531],\n",
       "       [-0.66443721,  0.29221891, -0.9345917 ],\n",
       "       [ 0.63147567,  0.03537062, -0.23333006]])"
      ]
     },
     "execution_count": 22,
     "metadata": {},
     "output_type": "execute_result"
    }
   ],
   "source": [
    "c"
   ]
  },
  {
   "cell_type": "code",
   "execution_count": 25,
   "id": "announced-class",
   "metadata": {},
   "outputs": [
    {
     "data": {
      "text/plain": [
       "True"
      ]
     },
     "execution_count": 25,
     "metadata": {},
     "output_type": "execute_result"
    }
   ],
   "source": [
    "a[1][1] * np.hstack([b,b,b])[1][1] == c[1][1]"
   ]
  },
  {
   "cell_type": "code",
   "execution_count": 26,
   "id": "labeled-karaoke",
   "metadata": {},
   "outputs": [
    {
     "data": {
      "text/plain": [
       "True"
      ]
     },
     "execution_count": 26,
     "metadata": {},
     "output_type": "execute_result"
    }
   ],
   "source": [
    "a[2][2] * np.hstack([b,b,b])[2][2] == c[2][2]"
   ]
  },
  {
   "cell_type": "code",
   "execution_count": null,
   "id": "iraqi-apparatus",
   "metadata": {},
   "outputs": [],
   "source": []
  },
  {
   "cell_type": "code",
   "execution_count": 27,
   "id": "electric-recipe",
   "metadata": {},
   "outputs": [
    {
     "ename": "ValueError",
     "evalue": "operands could not be broadcast together with shapes (4,3) (3,2) ",
     "output_type": "error",
     "traceback": [
      "\u001b[0;31m---------------------------------------------------------------------------\u001b[0m",
      "\u001b[0;31mValueError\u001b[0m                                Traceback (most recent call last)",
      "\u001b[0;32m<ipython-input-27-802f13914d79>\u001b[0m in \u001b[0;36m<module>\u001b[0;34m\u001b[0m\n\u001b[1;32m      1\u001b[0m \u001b[0ma\u001b[0m \u001b[0;34m=\u001b[0m \u001b[0mnp\u001b[0m\u001b[0;34m.\u001b[0m\u001b[0mrandom\u001b[0m\u001b[0;34m.\u001b[0m\u001b[0mrandn\u001b[0m\u001b[0;34m(\u001b[0m\u001b[0;36m4\u001b[0m\u001b[0;34m,\u001b[0m \u001b[0;36m3\u001b[0m\u001b[0;34m)\u001b[0m \u001b[0;31m# a.shape = (4, 3)\u001b[0m\u001b[0;34m\u001b[0m\u001b[0;34m\u001b[0m\u001b[0m\n\u001b[1;32m      2\u001b[0m \u001b[0mb\u001b[0m \u001b[0;34m=\u001b[0m \u001b[0mnp\u001b[0m\u001b[0;34m.\u001b[0m\u001b[0mrandom\u001b[0m\u001b[0;34m.\u001b[0m\u001b[0mrandn\u001b[0m\u001b[0;34m(\u001b[0m\u001b[0;36m3\u001b[0m\u001b[0;34m,\u001b[0m \u001b[0;36m2\u001b[0m\u001b[0;34m)\u001b[0m \u001b[0;31m# b.shape = (3, 2)\u001b[0m\u001b[0;34m\u001b[0m\u001b[0;34m\u001b[0m\u001b[0m\n\u001b[0;32m----> 3\u001b[0;31m \u001b[0mc\u001b[0m \u001b[0;34m=\u001b[0m \u001b[0ma\u001b[0m\u001b[0;34m*\u001b[0m\u001b[0mb\u001b[0m\u001b[0;34m\u001b[0m\u001b[0;34m\u001b[0m\u001b[0m\n\u001b[0m\u001b[1;32m      4\u001b[0m \u001b[0mc\u001b[0m\u001b[0;34m.\u001b[0m\u001b[0mshape\u001b[0m\u001b[0;34m\u001b[0m\u001b[0;34m\u001b[0m\u001b[0m\n",
      "\u001b[0;31mValueError\u001b[0m: operands could not be broadcast together with shapes (4,3) (3,2) "
     ]
    }
   ],
   "source": [
    "a = np.random.randn(4, 3) # a.shape = (4, 3)\n",
    "b = np.random.randn(3, 2) # b.shape = (3, 2)\n",
    "c = a*b\n",
    "c.shape"
   ]
  },
  {
   "cell_type": "code",
   "execution_count": null,
   "id": "official-repeat",
   "metadata": {},
   "outputs": [],
   "source": []
  },
  {
   "cell_type": "code",
   "execution_count": null,
   "id": "adult-hobby",
   "metadata": {},
   "outputs": [],
   "source": []
  }
 ],
 "metadata": {
  "kernelspec": {
   "display_name": "Python 3",
   "language": "python",
   "name": "python3"
  },
  "language_info": {
   "codemirror_mode": {
    "name": "ipython",
    "version": 3
   },
   "file_extension": ".py",
   "mimetype": "text/x-python",
   "name": "python",
   "nbconvert_exporter": "python",
   "pygments_lexer": "ipython3",
   "version": "3.7.9"
  }
 },
 "nbformat": 4,
 "nbformat_minor": 5
}
