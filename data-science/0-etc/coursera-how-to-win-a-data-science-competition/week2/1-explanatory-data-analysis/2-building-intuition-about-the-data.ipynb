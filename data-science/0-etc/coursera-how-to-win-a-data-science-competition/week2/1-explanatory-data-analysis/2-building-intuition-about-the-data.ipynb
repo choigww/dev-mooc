{
 "cells": [
  {
   "cell_type": "markdown",
   "metadata": {},
   "source": [
    "## Building intuition about the data\n",
    "\n",
    "#### Overview\n",
    "\n",
    "1. Getting domain knowledge\n",
    "2. Checking if the data is intuitive\n",
    "3. Understanding how the data was generated"
   ]
  },
  {
   "cell_type": "code",
   "execution_count": null,
   "metadata": {},
   "outputs": [],
   "source": []
  },
  {
   "cell_type": "markdown",
   "metadata": {},
   "source": [
    "## Get domain knowledge, example\n",
    "\n",
    "Task : Predict advertiser's cost\n",
    "\n",
    "![pred-adver-cost](img/pred-adver-cost.png)\n",
    "\n",
    "#### data exported from Google adWords system\n",
    "* After searching, we can get the meaning of each column name."
   ]
  },
  {
   "cell_type": "code",
   "execution_count": null,
   "metadata": {},
   "outputs": [],
   "source": []
  },
  {
   "cell_type": "markdown",
   "metadata": {},
   "source": [
    "## Check if the data is intuitive\n",
    "\n",
    "* Is `336` a typo?\n",
    "* Maybe `33` or `36`?\n",
    "* Maybe the data is correct!\n",
    "\n",
    "...|Age|...\n",
    "---|---|---\n",
    "...|21|...\n",
    "...|45|...\n",
    "...|336|...\n",
    "...|19|..."
   ]
  },
  {
   "cell_type": "code",
   "execution_count": null,
   "metadata": {},
   "outputs": [],
   "source": []
  },
  {
   "cell_type": "markdown",
   "metadata": {},
   "source": [
    "## Building intuition about the data\n",
    "\n",
    "![checking-data-intuitive](img/check-data-intuitive.png)\n",
    "\n",
    "* `3` Clicks but `0` Impressions\n",
    "  * may be a regular error made by data exporting script or another kind of algorithm!\n",
    "    * maybe error not occurred by random - there is some kind of logic why there is an error in that particular place!\n",
    "    * If then, we can use these mistakes to get a better score.\n",
    "    \n",
    "![checking-data-intuitive](img/check-data-intuitive2.png)"
   ]
  },
  {
   "cell_type": "code",
   "execution_count": null,
   "metadata": {},
   "outputs": [],
   "source": []
  },
  {
   "cell_type": "markdown",
   "metadata": {},
   "source": [
    "## Understand how the data was generated\n",
    "\n",
    "### <center>It is crucial to understand the generation process to set up a proper validation scheme</center>\n",
    "    \n",
    "#### For example...\n",
    "* If the train set and test set were generated from different algorithms, and if the test set is different to the train set, we cannot use part of the train set as a validation set\n",
    "  * Because the part in the train set will not be representative of test set, we cannot evaluate our models using the part.\n",
    "  \n",
    "![diff-train-test](img/diff-train-test.png)"
   ]
  },
  {
   "cell_type": "code",
   "execution_count": null,
   "metadata": {},
   "outputs": [],
   "source": []
  },
  {
   "cell_type": "markdown",
   "metadata": {},
   "source": [
    "## Conclusion\n",
    "\n",
    "#### Get domain knowledge\n",
    "- It helps to deeper understand the problem\n",
    "\n",
    "#### Check if the data is intuitive\n",
    "- And agrees with domain knowledge\n",
    "\n",
    "#### Understand how the data was generated\n",
    "- As it is crucial to set up a proper validation"
   ]
  },
  {
   "cell_type": "code",
   "execution_count": null,
   "metadata": {},
   "outputs": [],
   "source": []
  }
 ],
 "metadata": {
  "kernelspec": {
   "display_name": "Python 3",
   "language": "python",
   "name": "python3"
  },
  "language_info": {
   "codemirror_mode": {
    "name": "ipython",
    "version": 3
   },
   "file_extension": ".py",
   "mimetype": "text/x-python",
   "name": "python",
   "nbconvert_exporter": "python",
   "pygments_lexer": "ipython3",
   "version": "3.6.2"
  }
 },
 "nbformat": 4,
 "nbformat_minor": 2
}
