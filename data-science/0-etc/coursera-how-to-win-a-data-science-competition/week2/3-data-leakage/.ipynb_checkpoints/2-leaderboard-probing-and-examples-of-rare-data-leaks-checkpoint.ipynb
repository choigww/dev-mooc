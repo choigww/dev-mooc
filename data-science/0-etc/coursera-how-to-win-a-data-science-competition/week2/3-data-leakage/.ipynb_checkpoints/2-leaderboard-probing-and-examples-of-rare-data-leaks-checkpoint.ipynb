{
 "cells": [
  {
   "cell_type": "markdown",
   "metadata": {},
   "source": [
    "# Leaderboard probing and examples of rare data leaks"
   ]
  },
  {
   "cell_type": "code",
   "execution_count": null,
   "metadata": {},
   "outputs": [],
   "source": []
  },
  {
   "cell_type": "markdown",
   "metadata": {},
   "source": [
    "## Leaderboard probing\n",
    "\n",
    "* Types of LB probing\n",
    "* **Categories tightly connected with 'id'** are vulnerable to LB probing\n",
    "  - Company of user in RedHat competition\n",
    "  - Year, Month, Week in WestNile competition\n",
    "  \n",
    "### `Categories with high certainty to have the same label`"
   ]
  },
  {
   "cell_type": "code",
   "execution_count": null,
   "metadata": {},
   "outputs": [],
   "source": []
  },
  {
   "cell_type": "markdown",
   "metadata": {},
   "source": [
    "## Example : Truly Native\n",
    "\n",
    "* Predict whether the content in an HTML file is sponsored or not\n",
    "* Data leak in archive dates\n",
    "  - We can assume that sponsored non-sponsored HTML files were gotten during different periods of time\n",
    "* But is it all?\n",
    "  - Data Collection / Data proxies\n",
    "    - Even without meta-information, **machine learning algorithms will focus on actually useless features**.\n",
    "    - The features that only act as `proxies for the data`\n",
    "  \n",
    "  "
   ]
  },
  {
   "cell_type": "code",
   "execution_count": null,
   "metadata": {},
   "outputs": [],
   "source": []
  },
  {
   "cell_type": "markdown",
   "metadata": {},
   "source": [
    "## Example : Expedia\n",
    "\n",
    "Participatns worked with logs of customer behavior. These include what customers searched for, how they interacted with search results, clicks or books, and whether or not the search result was a travel package.\n",
    "\n",
    "* Predict hotel group a user is going to book\n",
    "* Data leak in \n",
    "  * distance feature (distance from users seeking hotels to hotel)\n",
    "  * **Using this distance, it was possible to reverse engineer two coordinates and simply map ground truths from train set to the test set.**\n",
    "* Reverse engineering true coordinates"
   ]
  },
  {
   "cell_type": "code",
   "execution_count": null,
   "metadata": {},
   "outputs": [],
   "source": []
  },
  {
   "cell_type": "markdown",
   "metadata": {},
   "source": [
    "## Example : Flavours of physics\n",
    "\n",
    "* Machine learning problem for something that has never been observed\n",
    "* Signal events were simulated\n",
    "  * `signal was artificially simulated` -- reverse-engineering available\n",
    "* Special statistical tests in order to punish the models that exploit simulation flaws\n",
    "* However, one could by-pass the tests, fully exploit simulation flaws and get a perfect score on the leaderboard"
   ]
  },
  {
   "cell_type": "code",
   "execution_count": null,
   "metadata": {},
   "outputs": [],
   "source": []
  },
  {
   "cell_type": "markdown",
   "metadata": {},
   "source": [
    "## Pairwise tasks\n",
    "\n",
    "Where one needs to predict whether the given pair of items are duplicates or not\n",
    "\n",
    "* Data leakage in item frequencies\n",
    "* Similarities from connectivity matrix\n",
    "  * When two items have similar sets of neighbors, they have a high possibility of being duplicates"
   ]
  },
  {
   "cell_type": "code",
   "execution_count": null,
   "metadata": {},
   "outputs": [],
   "source": []
  },
  {
   "cell_type": "code",
   "execution_count": null,
   "metadata": {},
   "outputs": [],
   "source": []
  }
 ],
 "metadata": {
  "kernelspec": {
   "display_name": "Python 3",
   "language": "python",
   "name": "python3"
  },
  "language_info": {
   "codemirror_mode": {
    "name": "ipython",
    "version": 3
   },
   "file_extension": ".py",
   "mimetype": "text/x-python",
   "name": "python",
   "nbconvert_exporter": "python",
   "pygments_lexer": "ipython3",
   "version": "3.6.2"
  }
 },
 "nbformat": 4,
 "nbformat_minor": 2
}
