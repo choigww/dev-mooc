{
 "cells": [
  {
   "cell_type": "markdown",
   "metadata": {},
   "source": [
    "# Regression Metrics Review I"
   ]
  },
  {
   "cell_type": "code",
   "execution_count": null,
   "metadata": {},
   "outputs": [],
   "source": []
  },
  {
   "cell_type": "markdown",
   "metadata": {},
   "source": [
    "#### Plan for the video\n",
    "\n",
    "#### 1) Regression\n",
    "\n",
    "* **MSE, RMSE, R-squared**\n",
    "* **MAE**\n",
    "* (R)MSPE, MAPE\n",
    "* (R)MSLE\n",
    "\n",
    "\n",
    "2) Classification\n",
    "* Accuracy, LogLoss, AUC\n",
    "* Cohen's (Quadratic weighted) Kappa"
   ]
  },
  {
   "cell_type": "code",
   "execution_count": null,
   "metadata": {},
   "outputs": [],
   "source": []
  },
  {
   "cell_type": "markdown",
   "metadata": {},
   "source": [
    "### Notation\n",
    "\n",
    "![reg-metric-notation](../img/regression-metric-notation.png)"
   ]
  },
  {
   "cell_type": "code",
   "execution_count": null,
   "metadata": {},
   "outputs": [],
   "source": []
  },
  {
   "cell_type": "markdown",
   "metadata": {},
   "source": [
    "### MSE : Mean Square Error\n",
    "\n",
    "$$MSE = \\frac{1}{N}\\sum^{N}_{i=1}(y_{i} - \\hat{y_i})^2$$\n",
    "#### Optimizing value = mean of the target values\n",
    "![mse1](../img/mse1.png)\n",
    "\n"
   ]
  },
  {
   "cell_type": "code",
   "execution_count": null,
   "metadata": {},
   "outputs": [],
   "source": []
  },
  {
   "cell_type": "markdown",
   "metadata": {},
   "source": [
    "### MSE notes: RMSE\n",
    "\n",
    "`RMSE` = Root mean square error\n",
    "\n",
    "$$RMSE = \\sqrt{\\frac{1}{N}\\sum^{N}_{i=1}(y_{i} - \\hat{y_i})^2} = \\sqrt{MSE}$$\n",
    "$$MSE(a) > MSE(b) \\Leftrightarrow RMSE(a) > RMSE(b)$$\n",
    "\n",
    "* Gradient of MSE multiplied by certain value\n",
    "<br/>\n",
    "\n",
    "$$\\frac{\\partial{RMSE}}{\\partial{\\hat{y_i}}} = \\frac{1}{2\\sqrt{MSE}}\\frac{\\partial{MSE}}{\\partial{\\hat{y_i}}}$$\n",
    "\n",
    "#### Even though they are very similar metrics, they can not be immediately interchangeable for `gradient based methods`.\n",
    "* We will probably need to adjust some parameters like the `learning rate`."
   ]
  },
  {
   "cell_type": "code",
   "execution_count": null,
   "metadata": {},
   "outputs": [],
   "source": []
  },
  {
   "cell_type": "markdown",
   "metadata": {},
   "source": [
    "#### R-squared\n",
    "* Score ranges from `0` to `1`\n",
    "* Optimize R-squared = Optimize MSE\n",
    "\n",
    "$$\n",
    "R^2 = 1 - \\frac{\\frac{1}{N}\\sum^{N}_{i=1}(y_{i} - \\hat{y_i})^2}{\\frac{1}{N}\\sum^{N}_{i=1}(y_{i} - \\bar{y_i})^2} = 1 - \\frac{MSE}{\\frac{1}{N}\\sum^{N}_{i=1}(y_{i} - \\bar{y_i})^2}\n",
    "$$\n",
    "\n",
    "$$\n",
    "\\hat{y} = \\frac{1}{N}\\sum^{N}_{i=1}y_{i}\n",
    "$$"
   ]
  },
  {
   "cell_type": "code",
   "execution_count": null,
   "metadata": {},
   "outputs": [],
   "source": []
  },
  {
   "cell_type": "markdown",
   "metadata": {},
   "source": [
    "### MAE : Mean Absolute Error\n",
    "* This metric **penalizes huge errors that not as that badly as MSE does**\n",
    "  * Thus it's not that sensitive to outliers as mean square error\n",
    "* It also has a little bit different applications than MSE\n",
    "  * **`MAE` is widely used in finance sector where `$10` error is usually exactly two times worse than `$5` error.**\n",
    "  * On the other hand, **`MSE`** metric thinks that `$10` error is **`four times`** worse than `$5` error.\n",
    "  * If you use `RMSE`, it would become really hard to explain to your boss how you evaluated your model.\n",
    "\n",
    "#### Optimizing value = median of the target values\n",
    "#### `MAE` is more robust than `MSE`\n",
    "* Less outlier influence \n",
    "\n",
    "$$MAE = \\frac{1}{N}\\sum^N_{i=1}{|y_i - \\hat{y_i}|}$$\n",
    "\n",
    "![mae](../img/mae1.png)"
   ]
  },
  {
   "cell_type": "code",
   "execution_count": null,
   "metadata": {},
   "outputs": [],
   "source": []
  },
  {
   "attachments": {},
   "cell_type": "markdown",
   "metadata": {},
   "source": [
    "### MAE : derivatives\n",
    "Another important thing about `MAE`\n",
    "* Its gradients with respect to the predictions\n",
    "  * `+1` when Y hat is larger than the target\n",
    "  * `-1` when Y hat is smaller than the target\n",
    "  * Gradient not defined when the prediction is perfect\n",
    "    * So formerly **MAE is not differentiable**\n",
    "  * But we can deal with the case `your predictions perfectly measure the target` as returning `0`.\n",
    "  * Also notice that second derivative is zero everywhere and not defined in the point of zero\n",
    "\n",
    "$$MAE = \\frac{1}{N}\\sum^N_{i=1}{|y_i - \\hat{y_i}|}$$\n",
    "![mae2](../img/mae2.png)\n",
    "\n"
   ]
  },
  {
   "cell_type": "code",
   "execution_count": null,
   "metadata": {},
   "outputs": [],
   "source": []
  },
  {
   "cell_type": "markdown",
   "metadata": {},
   "source": [
    "### `MAE` vs `MSE`\n",
    "\n",
    "#### Do you have outliers in the data / Are you sure they are outliers?\n",
    "* They are exactly outliers which are to be excluded in training models.\n",
    "* USE `MAE`\n",
    "\n",
    "#### Or they are just unexpected values we should still care about?\n",
    "* They are not outliers, just rare samples.\n",
    "* USE `MSE`"
   ]
  },
  {
   "cell_type": "code",
   "execution_count": null,
   "metadata": {},
   "outputs": [],
   "source": []
  },
  {
   "cell_type": "markdown",
   "metadata": {},
   "source": [
    "### Conclusion\n",
    "\n",
    "* Discussed the following metrics:\n",
    "  - **MSE, RMSE, R-squared**\n",
    "    * They are about the same from optimization perspective\n",
    "  - **MAE**\n",
    "    * Robust to outliers"
   ]
  },
  {
   "cell_type": "code",
   "execution_count": null,
   "metadata": {},
   "outputs": [],
   "source": []
  }
 ],
 "metadata": {
  "kernelspec": {
   "display_name": "Python 3",
   "language": "python",
   "name": "python3"
  },
  "language_info": {
   "codemirror_mode": {
    "name": "ipython",
    "version": 3
   },
   "file_extension": ".py",
   "mimetype": "text/x-python",
   "name": "python",
   "nbconvert_exporter": "python",
   "pygments_lexer": "ipython3",
   "version": "3.6.2"
  }
 },
 "nbformat": 4,
 "nbformat_minor": 2
}
