{
 "cells": [
  {
   "cell_type": "markdown",
   "metadata": {},
   "source": [
    "# Datetime and Coordinates"
   ]
  },
  {
   "cell_type": "code",
   "execution_count": null,
   "metadata": {},
   "outputs": [],
   "source": []
  },
  {
   "cell_type": "markdown",
   "metadata": {},
   "source": [
    "## Summary.\n",
    "\n",
    "#### 1. Datetime\n",
    "* Periodicity\n",
    "* Time since row-independent / dependent event\n",
    "* Difference between dates\n",
    "\n",
    "#### 2. Coordinates\n",
    "* Interesting places from train/test data or additional data\n",
    "* Centers of clusters\n",
    "* Aggregated statistics\n"
   ]
  },
  {
   "cell_type": "code",
   "execution_count": null,
   "metadata": {},
   "outputs": [],
   "source": []
  },
  {
   "cell_type": "markdown",
   "metadata": {},
   "source": [
    "## Date and Time\n",
    "\n",
    "#### Periodicity\n",
    "Day number in week, month, season, year, second, minute, hour.\n",
    "\n",
    "#### Time since\n",
    "![time-since](img/time-since.png)\n",
    "* Row-independent moment\n",
    "  * e.g. Since 00:00:00 UTC, 1 Jan 1970;\n",
    "* Row-dependent important moment\n",
    "  * e.g. Number of days left until next holiday\n",
    "  * e.g. Time passed after last holiday\n",
    "\n",
    "#### Difference between dates\n",
    "```datetime_feature_1 - datetime_feature_2```\n",
    "![churn-rate](img/churn-rate.png)\n",
    "![churn-rate2](img/churn-rate2.png)"
   ]
  },
  {
   "cell_type": "code",
   "execution_count": null,
   "metadata": {},
   "outputs": [],
   "source": []
  },
  {
   "cell_type": "markdown",
   "metadata": {},
   "source": [
    "## Coodinates (location)\n",
    "#### Competitions with coordinates\n",
    "* Predicting real estimate price, ...\n",
    "\n",
    "\n",
    "![coordinate-ex](img/coordinate-ex1.png)\n",
    "\n",
    "<br>\n",
    "<center><b>Additional Data</b></center>\n",
    "\n",
    "#### Add as a feature\n",
    "* to the nearest shop\n",
    "* to the second by distance hospital \n",
    "* to the best school in the neighborhood\n",
    "* and so on\n",
    "\n",
    "<br>\n",
    "<center><b>Train Samples / Centers of Clusters</b></center>\n",
    "\n",
    "#### You can do a new map to squares with a grid\n",
    "* within each square, find the most expensive flat\n",
    "* add the distance to the flat for every other object in this square\n",
    "\n",
    "#### You can organize your data points into clusters and\n",
    "* use centers of clusters as such important points\n",
    "\n",
    "#### You can find some special areas like the area with very old buildings and\n",
    "* add distnace to the (center of) the area.\n",
    "\n",
    "<br>\n",
    "<center><b>Aggregated Stats</b></center>\n",
    "\n",
    "#### This can include \n",
    "* number of outlets around this particular point\n",
    "  * which can be interpreted as areas or polarity\n",
    "\n",
    "#### We can add mean realty price\n",
    "* which will indicate how expensive area around selected point is\n"
   ]
  },
  {
   "cell_type": "code",
   "execution_count": null,
   "metadata": {},
   "outputs": [],
   "source": []
  },
  {
   "cell_type": "markdown",
   "metadata": {},
   "source": [
    "## One More Trick.\n",
    "\n",
    "![rotated-coordinates](img/rotated-coordinates.png)\n",
    "The high priced district above the street, and the low priced district below it. IF the street is slightly rotated, trees will try to make a lot of space here.\n",
    "<br>\n",
    "But if we add **new coordinates in which these two districts can be divided `BY A SINGLE SPLIT`, this will hugely faciliate the rebuilding process.** \n",
    "\n",
    "<br>\n",
    "If you train decision trees from the coordinates data, \n",
    "* you can add slightly rotated coordinates as new features\n",
    "\n",
    "#### This will help a model make more precise selections on the map\n",
    "* It can be hard to know what exact rotation we should make\n",
    "* **So we may want to add all rotations to `45` or `22.5` degrees.**"
   ]
  },
  {
   "cell_type": "code",
   "execution_count": null,
   "metadata": {},
   "outputs": [],
   "source": []
  },
  {
   "cell_type": "code",
   "execution_count": null,
   "metadata": {},
   "outputs": [],
   "source": []
  }
 ],
 "metadata": {
  "kernelspec": {
   "display_name": "Python 3",
   "language": "python",
   "name": "python3"
  },
  "language_info": {
   "codemirror_mode": {
    "name": "ipython",
    "version": 3
   },
   "file_extension": ".py",
   "mimetype": "text/x-python",
   "name": "python",
   "nbconvert_exporter": "python",
   "pygments_lexer": "ipython3",
   "version": "3.6.2"
  }
 },
 "nbformat": 4,
 "nbformat_minor": 2
}
