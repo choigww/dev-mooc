{
 "cells": [
  {
   "cell_type": "markdown",
   "metadata": {},
   "source": [
    "# Handling Missing Values"
   ]
  },
  {
   "cell_type": "code",
   "execution_count": null,
   "metadata": {},
   "outputs": [],
   "source": []
  },
  {
   "cell_type": "markdown",
   "metadata": {},
   "source": [
    "## Summary.\n",
    "\n",
    "#### Treating values which do not present in train data\n",
    "1. The choice of method to fill `NaN` depends on the situation\n",
    "2. Usual way to deal with missing values is to replace them with `-999`, `mean` or `median`\n",
    "3. Missing values already can be replaced with something by organizers\n",
    "4. Binary feature `isnull` indicating what rows have missing values can be beneficial\n",
    "5. In general, avoid replacing `NaN`s with real values before feature generation\n",
    "6. XGBost can handle `NaN`"
   ]
  },
  {
   "cell_type": "code",
   "execution_count": null,
   "metadata": {},
   "outputs": [],
   "source": []
  },
  {
   "cell_type": "markdown",
   "metadata": {},
   "source": [
    "## Missing data, numeric\n",
    "example data from `Springfield competition`\n",
    "\n",
    "#### `Hidden NaN` - Replaced `NaN` with some actual num, string, etc.\n",
    "* How to find ? --- **Drawing histogram**\n",
    "\n",
    "![hidden-nan](img/hidden-nan.png)"
   ]
  },
  {
   "cell_type": "code",
   "execution_count": null,
   "metadata": {},
   "outputs": [],
   "source": []
  },
  {
   "cell_type": "markdown",
   "metadata": {},
   "source": [
    "## `Fillna` approaches\n",
    "\n",
    "1. -999, -1, etc.\n",
    "2. mean, median\n",
    "  * can be useful for linear model with numeric features\n",
    "3. reconstruct value"
   ]
  },
  {
   "cell_type": "code",
   "execution_count": null,
   "metadata": {},
   "outputs": [],
   "source": []
  },
  {
   "cell_type": "markdown",
   "metadata": {},
   "source": [
    "## `Isnull` feature\n",
    "\n",
    "feature|isnull\n",
    "---|---\n",
    ".1|False\n",
    ".95|False\n",
    "NaN|True\n",
    "-3|False\n",
    "NaN|True\n",
    "\n",
    "* indicating which rows have missing values.\n",
    "* **This can solve problems with trees and neural networks while computing mean or median.**"
   ]
  },
  {
   "cell_type": "code",
   "execution_count": null,
   "metadata": {},
   "outputs": [],
   "source": []
  },
  {
   "cell_type": "markdown",
   "metadata": {},
   "source": [
    "## Missing values reconstruction\n",
    "\n",
    "![mvts1](img/missing-value-time-series1.png)\n",
    "\n",
    "* one example : `having missing values in time series`\n",
    "  * we can approximate the missing values from nearby values, but usually features in data are independent - so this is somewhat rare case.\n",
    "  \n",
    "  \n",
    "#### dealing with feature generation\n",
    "* `isnull` feature indicates which rows contain non-numbers."
   ]
  },
  {
   "cell_type": "code",
   "execution_count": null,
   "metadata": {},
   "outputs": [],
   "source": []
  },
  {
   "cell_type": "markdown",
   "metadata": {},
   "source": [
    "## Feature generation with missing values\n",
    "\n",
    "![mvts2](img/missing-value-time-series2.png)\n",
    "\n",
    "* IF we generate new features from original features including missing values - the model can have massive, unwanted impacts.\n",
    "* We already know that we can approximate missing values sometimes from nearby points - but it's very rare. \n",
    "\n",
    "**Another example!**\n",
    "* What happens if we fill non-numbers in the `numeric_feature` with some value outside of the feature range like `-999`?\n",
    "* All values are diven closer to `-999`.\n",
    "* The more the row's corresponding to particular category will have missing values, the closer mean value will be to `-999`.\n",
    "* **The same is true when filling missing values with mean or median**\n",
    "\n",
    "categorical_feature|numeric_feature|numeric_feature_filled|categorical_encoded\n",
    "---|---|---|---\n",
    "A|1|1|1.5\n",
    "A|4|4|1.5\n",
    "A|2|2|1.5\n",
    "A|-1|-1|1.5\n",
    "B|9|9|-495\n",
    "B|NaN|-999|-495\n",
    "\n",
    "### This kind of missing value imputation definitely can screw the feature we are constructing.\n",
    "<br>\n",
    "### The way to handle this particular case is to simply ignore missing values while calculating means for each category.\n",
    "<br>\n",
    "### You should be very careful with early data not imputed if you want to generate new features."
   ]
  },
  {
   "cell_type": "code",
   "execution_count": null,
   "metadata": {},
   "outputs": [],
   "source": []
  },
  {
   "cell_type": "markdown",
   "metadata": {},
   "source": [
    "### XGBoost can handle missing values!\n",
    "* Sometimes using this approach with XGBoost can change score drastically.\n",
    "\n",
    "### Treating outliers as missing values\n",
    "* When the value of outlier is something impossible to be included in the feature"
   ]
  },
  {
   "cell_type": "code",
   "execution_count": null,
   "metadata": {},
   "outputs": [],
   "source": []
  },
  {
   "attachments": {},
   "cell_type": "markdown",
   "metadata": {},
   "source": [
    "## Treating values which do not present in train data\n",
    "\n",
    "![do-not-present-in-train](img/do-not-present-in-train.png)\n",
    "\n",
    "If we have categorical features, sometimes **it can beneficial to change the missing values or categories which present in the test data but do not present in the train data.**\n",
    "\n",
    "![do-not-present-in-train2](img/do-not-present-in-train2.png)\n",
    "* New features' (`_encoded` by occurrence) values related to D and C are equal to each other\n",
    "* If there is some dependency in between target and number of occurrences for each category, our model will be able to successfully utilize that."
   ]
  },
  {
   "cell_type": "code",
   "execution_count": null,
   "metadata": {},
   "outputs": [],
   "source": []
  },
  {
   "cell_type": "code",
   "execution_count": null,
   "metadata": {},
   "outputs": [],
   "source": []
  }
 ],
 "metadata": {
  "kernelspec": {
   "display_name": "Python 3",
   "language": "python",
   "name": "python3"
  },
  "language_info": {
   "codemirror_mode": {
    "name": "ipython",
    "version": 3
   },
   "file_extension": ".py",
   "mimetype": "text/x-python",
   "name": "python",
   "nbconvert_exporter": "python",
   "pygments_lexer": "ipython3",
   "version": "3.6.2"
  }
 },
 "nbformat": 4,
 "nbformat_minor": 2
}
