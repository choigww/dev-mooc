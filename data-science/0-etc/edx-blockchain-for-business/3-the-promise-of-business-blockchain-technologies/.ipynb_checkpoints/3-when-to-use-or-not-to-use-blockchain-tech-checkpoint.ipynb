{
 "cells": [
  {
   "cell_type": "markdown",
   "metadata": {},
   "source": [
    "# When to Use or Not to Use Blockchain Technologies"
   ]
  },
  {
   "cell_type": "code",
   "execution_count": null,
   "metadata": {},
   "outputs": [],
   "source": []
  },
  {
   "cell_type": "markdown",
   "metadata": {},
   "source": [
    "## What Enterprises Look for When Evaluating Whether or Not to Use Hyperledger (Brian Behlendorf)\n",
    "\n",
    "https://youtu.be/xzFz88bHOLs\n",
    "\n",
    "### Q. What should an enterprise look for when evaluating whether or not to use Hyperledger?\n",
    "\n",
    "> \"where is there an opportunity to take a decentralized ledger approach, and a smart contract approach to solving those issues?\"<br><br>\n",
    "Once you've identified like that kind of opportunity, you should start to ask yourself what are the characteristics of that need, ... <br><br>\n",
    "As the business side of the house is trying to understand the use cases, you should really let your technology teams explore this technology,"
   ]
  },
  {
   "cell_type": "code",
   "execution_count": null,
   "metadata": {},
   "outputs": [],
   "source": []
  },
  {
   "cell_type": "markdown",
   "metadata": {},
   "source": [
    "## When to Use Blockchain\n",
    "\n",
    "There are certain factors to consider when evaluating blockchain distributed ledger technology for your business. How many participants are in your system? What is the geographical distribution of the participants? What sort of performance requirements do you have? Defining the rules, risks, and responsibilities of each party in your blockchain system is useful as you consider transferring a database to a decentralized environment such as one of the Hyperledger frameworks. Blockchain is best suited for business applications where one or more of the following conditions apply:\n",
    "\n",
    "* There is a **need for a shared common database**\n",
    "* The parties involved with the process have conflicting incentives, or **do not have trust among participants**\n",
    "* There are **multiple parties involved or writers to a database**\n",
    "* There are **currently trusted third parties involved in the process** that facilitate interactions between multiple parties who must trust the third party. This could include *escrow services, data feed providers, licensing authorities, or a notary public*\n",
    "* Cryptography is currently being used or should be used. Cryptography facilitates \n",
    "  * data confidentiality, \n",
    "  * data integrity, \n",
    "  * authentication, \n",
    "  * non-repudiation\n",
    "* Data for a business process is being entered into many different databases along the lifecycle of the process. **It is important that this data is consistent across all entities, and/or digitization of such a process is desired**\n",
    "* There are **uniform rules governing participants in the system**\n",
    "* Decision making of the parties is transparent, rather than confidential\n",
    "* There is a need for an **objective, immutable history or log of facts** for parties’ reference\n",
    "* <font color='blue'>**Transaction frequency does not exceed 10,000 transactions per second.**</font>"
   ]
  },
  {
   "cell_type": "code",
   "execution_count": null,
   "metadata": {},
   "outputs": [],
   "source": []
  },
  {
   "cell_type": "markdown",
   "metadata": {},
   "source": [
    "## When Not to Use Blockchain\n",
    "\n",
    "Blockchain technology is a powerful tool, but it is not always the right tool for the job at hand. If you are contemplating using blockchain technology, be sure to evaluate the problem fully. **The following conditions are not currently well suited to blockchain-based solutions**:\n",
    "\n",
    "* The process involves **confidential data**\n",
    "* The process **stores a lot of static data**, or the data is quite large\n",
    "* **Rules** of transactions **change frequently**\n",
    "* **The use of external services** to gather/store data"
   ]
  },
  {
   "cell_type": "code",
   "execution_count": null,
   "metadata": {},
   "outputs": [],
   "source": []
  },
  {
   "cell_type": "markdown",
   "metadata": {},
   "source": [
    "## I. The Process Involves Confidential Data\n",
    "\n",
    "**The biggest advantage and challenge in deploying blockchains is the radical transparency** which they provide. Methods are being developed to hide confidential data on the blockchain, while sharing it only to relevant parties. **Regulations for data privacy often do not allow for blockchain solutions**. \n",
    "\n",
    "### A thorough review of the relevant privacy rules governing your business case should be examined to see whether blockchain is appropriate. \n",
    "\n",
    "For example, is leaking data in encrypted form allowed? What level of encryption is required when transmitting data?"
   ]
  },
  {
   "cell_type": "code",
   "execution_count": null,
   "metadata": {},
   "outputs": [],
   "source": []
  },
  {
   "cell_type": "markdown",
   "metadata": {},
   "source": [
    "## II. The Process Stores a Lot of Static Data/Data Is Quite Large\n",
    "\n",
    "With blockchain technology, **the entire database is stored across many nodes in a blockchain system**. Because the replication factor of these systems is so high, they are **best suited to databases that have many state changes, or store only the minimum necessary amount of information**. If the data is relatively static, or if the files to be stored are quite large, a different technical solution may be more appropriate."
   ]
  },
  {
   "cell_type": "code",
   "execution_count": null,
   "metadata": {},
   "outputs": [],
   "source": []
  },
  {
   "cell_type": "markdown",
   "metadata": {},
   "source": [
    "## Rules of Transactions Change Frequently\n",
    "\n",
    "If the rules around how your business processes are conducted change frequently, or change in unexpected ways, then blockchain may not be well suited for your use case. The rules of transactions in blockchain are often pre-set, and *smart contracts do not change execution paths once they have been initiated*. \n",
    "\n",
    "### Everything that takes place on a blockchain must be completely deterministic. \n",
    "\n",
    "* Additionally, blockchains are **append-only databases**. \n",
    "* A **relational database** may be more suitable if you need to make **many changes** to your data as the rules of your transactions change."
   ]
  },
  {
   "cell_type": "code",
   "execution_count": null,
   "metadata": {},
   "outputs": [],
   "source": []
  },
  {
   "cell_type": "markdown",
   "metadata": {},
   "source": [
    "## The Use of External Services to Gather/Store Data\n",
    "\n",
    "### A blockchain smart contract does not currently initiate the retrieval of external data. \n",
    "\n",
    "Instead, one or more trusted parties ('oracles') must create a transaction which embeds that data in the chain. This data is often gathered and stored in a traditional database by the oracle. Any interaction between a blockchain and the outside world is restricted to regular database operations.<br>\n",
    "\n",
    "In other words, an oracle pushes data onto the blockchain, rather than a smart contract pulling it in. Once the oracle pushes the data, every node will have an identical copy of this data. This allows for the data to be safely used in a smart contract computation. <br>\n",
    "\n",
    "While oracles allow for blockchain interface with external data, they undermine the goal of a decentralized system. Examine when such a trusted authority should be retained. When the trusted authority would or should be retained, efficiencies in the blockchain are not as high as in other applications."
   ]
  },
  {
   "cell_type": "code",
   "execution_count": null,
   "metadata": {},
   "outputs": [],
   "source": []
  },
  {
   "cell_type": "markdown",
   "metadata": {},
   "source": [
    "## Simpler Alternatives\n",
    "\n",
    "For some applications, other options are simply more efficient. When evaluating blockchain technology, consider whether \n",
    "* regular file storage, \n",
    "* a centralized database, \n",
    "* or database replication with master/slave relationship between the original and copies \n",
    "\n",
    "is suitable. <br>\n",
    "\n",
    "If those structures are suitable, then you can deploy your application with reduced complexity. Do you need a smart contract or are stored procedures written in an extension of SQL sufficient? Similarly, some applications can simply utilize cryptographic methods common in blockchains, without the database replication mechanisms of a blockchain."
   ]
  },
  {
   "cell_type": "code",
   "execution_count": null,
   "metadata": {},
   "outputs": [],
   "source": []
  },
  {
   "cell_type": "markdown",
   "metadata": {},
   "source": [
    "## Blockchain Decision Path\n",
    "\n",
    "The following diagram provides generalized, high-level decision points about when to use or not to use blockchain technology for your business.\n",
    "\n",
    "![blockchain-decision-path](https://prod-edxapp.edx-cdn.org/assets/courseware/v1/66ec31bc544413fd8d830ba39d355e4f/asset-v1:LinuxFoundationX+LFS171x+3T2017+type@asset+block/Blockchain_Decision_Flowchart.png)"
   ]
  },
  {
   "cell_type": "code",
   "execution_count": null,
   "metadata": {},
   "outputs": [],
   "source": []
  },
  {
   "cell_type": "code",
   "execution_count": null,
   "metadata": {},
   "outputs": [],
   "source": []
  }
 ],
 "metadata": {
  "kernelspec": {
   "display_name": "Python 3",
   "language": "python",
   "name": "python3"
  },
  "language_info": {
   "codemirror_mode": {
    "name": "ipython",
    "version": 3
   },
   "file_extension": ".py",
   "mimetype": "text/x-python",
   "name": "python",
   "nbconvert_exporter": "python",
   "pygments_lexer": "ipython3",
   "version": "3.6.2"
  }
 },
 "nbformat": 4,
 "nbformat_minor": 2
}
