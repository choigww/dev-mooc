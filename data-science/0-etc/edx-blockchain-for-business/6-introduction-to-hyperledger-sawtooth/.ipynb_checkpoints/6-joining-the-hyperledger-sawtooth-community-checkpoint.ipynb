{
 "cells": [
  {
   "cell_type": "markdown",
   "metadata": {},
   "source": [
    "# Joining the Hyperledger Sawtooth Community"
   ]
  },
  {
   "cell_type": "code",
   "execution_count": null,
   "metadata": {},
   "outputs": [],
   "source": []
  },
  {
   "cell_type": "markdown",
   "metadata": {},
   "source": [
    "## Becoming Involved with the Hyperledger Sawtooth Project\n",
    "\n",
    "Hyperledger Sawtooth is an open source project, where ideas and code can be publicly discussed, created, and reviewed. There are many ways to join the Hyperledger Sawtooth community, and in the next few pages we are highlighting some of the ways to get involved, either from a technical standpoint, or from an ideas/issues creation perspective."
   ]
  },
  {
   "cell_type": "code",
   "execution_count": null,
   "metadata": {},
   "outputs": [],
   "source": []
  },
  {
   "cell_type": "markdown",
   "metadata": {},
   "source": [
    "## Community Meetings and Mailing Lists\n",
    "\n",
    "You can join the online meetings on Sawtooth Sprint planning and Tech Forums. Check the Hyperledger Community Meetings Calendar for the timing of these meetings: https://calendar.google.com/calendar/embed?src=linuxfoundation.org_nf9u64g9k9rvd9f8vp4vur23b0%40group.calendar.google.com&ctz=America/SanFrancisco.<br>\n",
    "\n",
    "Some of the recordings of previous virtual tech forums on Hyperledger Sawtooth can be found here: https://drive.google.com/drive/folders/0B_NJV6eJXAA1VnFUakRzaG1raXc.<br>\n",
    "\n",
    "You can also join the mailing list(s) for technical discussions and announcements: https://lists.hyperledger.org/mailman/listinfo/hyperledger-stl."
   ]
  },
  {
   "cell_type": "code",
   "execution_count": null,
   "metadata": {},
   "outputs": [],
   "source": []
  },
  {
   "cell_type": "markdown",
   "metadata": {},
   "source": [
    "## GitHub and Rocket.Chat\n",
    "\n",
    "You can also get involved with the Hyperledger Sawtooth community on GitHub and Rocket.Chat. All code available on GitHub is forkable and viewable:\n",
    "\n",
    "* https://github.com/hyperledger/sawtooth-core\n",
    "* https://github.com/hyperledger/sawtooth-supply-chain.\n",
    "\n",
    "You can also join the live conversations on Rocket.Chat (which is an alternative to Slack), using your Linux Foundation ID:\n",
    "\n",
    "* https://chat.hyperledger.org/channel/sawtooth\n",
    "* https://chat.hyperledger.org/channel/sawtooth-consensus\n",
    "* https://chat.hyperledger.org/channel/sawtooth-burrow."
   ]
  },
  {
   "cell_type": "code",
   "execution_count": null,
   "metadata": {},
   "outputs": [],
   "source": []
  }
 ],
 "metadata": {
  "kernelspec": {
   "display_name": "Python 3",
   "language": "python",
   "name": "python3"
  },
  "language_info": {
   "codemirror_mode": {
    "name": "ipython",
    "version": 3
   },
   "file_extension": ".py",
   "mimetype": "text/x-python",
   "name": "python",
   "nbconvert_exporter": "python",
   "pygments_lexer": "ipython3",
   "version": "3.6.2"
  }
 },
 "nbformat": 4,
 "nbformat_minor": 2
}
