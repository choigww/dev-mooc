{
 "cells": [
  {
   "cell_type": "markdown",
   "metadata": {},
   "source": [
    "# Joining the Hyperledger Community"
   ]
  },
  {
   "cell_type": "code",
   "execution_count": null,
   "metadata": {},
   "outputs": [],
   "source": []
  },
  {
   "cell_type": "markdown",
   "metadata": {},
   "source": [
    "## Joining the Hyperledger Iroha Community on Github\n",
    "\n",
    "Hyperledger Iroha is an open source project where ideas and code can be publicly discussed, created, and reviewed. There are many ways to join the Hyperledger Iroha community, and we will share with you some of the ways to get involved, either from a technical standpoint, or from an ideas/issues creation perspective.<br>\n",
    "\n",
    "You can get involved with the Hyperledger Iroha community on GitHub. All code available on GitHub is forkable and viewable:\n",
    "\n",
    "* https://github.com/hyperledger/iroha\n",
    "* https://github.com/hyperledger/iroha-ios\n",
    "* https://github.com/hyperledger/iroha-android\n",
    "* https://github.com/hyperledger/iroha-javascript\n",
    "* https://github.com/hyperledger/iroha-python\n",
    "* https://github.com/hyperledger/iroha-scala\n",
    "* https://github.com/hyperledger/iroha-dotnet\n",
    "* https://github.com/hyperledger/iroha-api."
   ]
  },
  {
   "cell_type": "code",
   "execution_count": null,
   "metadata": {},
   "outputs": [],
   "source": []
  },
  {
   "cell_type": "markdown",
   "metadata": {},
   "source": [
    "## Joining the Hyperledger Iroha Community via Rocket.Chat and Mailing Lists\n",
    "\n",
    "You can join the live conversations on Rocket.Chat (which is an alternative to Slack), using your Linux Foundation ID:\n",
    "* https://chat.hyperledger.org/channel/iroha\n",
    "* https://chat.hyperledger.org/channel/iroha-smartcontracts.\n",
    "\n",
    "Another option is to join the mailing list(s) for technical discussions and announcements: \n",
    "* https://lists.hyperledger.org/mailman/listinfo/hyperledger-iroha."
   ]
  },
  {
   "cell_type": "code",
   "execution_count": null,
   "metadata": {},
   "outputs": [],
   "source": []
  },
  {
   "cell_type": "code",
   "execution_count": null,
   "metadata": {},
   "outputs": [],
   "source": []
  }
 ],
 "metadata": {
  "kernelspec": {
   "display_name": "Python 3",
   "language": "python",
   "name": "python3"
  },
  "language_info": {
   "codemirror_mode": {
    "name": "ipython",
    "version": 3
   },
   "file_extension": ".py",
   "mimetype": "text/x-python",
   "name": "python",
   "nbconvert_exporter": "python",
   "pygments_lexer": "ipython3",
   "version": "3.6.2"
  }
 },
 "nbformat": 4,
 "nbformat_minor": 2
}
