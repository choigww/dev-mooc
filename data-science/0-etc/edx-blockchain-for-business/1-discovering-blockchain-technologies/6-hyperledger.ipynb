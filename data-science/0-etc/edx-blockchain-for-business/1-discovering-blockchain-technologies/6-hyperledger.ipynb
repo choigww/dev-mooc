{
 "cells": [
  {
   "cell_type": "markdown",
   "metadata": {},
   "source": [
    "# Hyperledger"
   ]
  },
  {
   "cell_type": "code",
   "execution_count": null,
   "metadata": {
    "collapsed": true
   },
   "outputs": [],
   "source": []
  },
  {
   "cell_type": "markdown",
   "metadata": {},
   "source": [
    "## Hyperledger\n",
    "\n",
    "### Hyperledger is an open source effort created to advance cross-industry blockchain technologies. \n",
    "\n",
    "* Hosted by The Linux Foundation, it is a global collaboration of members from various industries and organizations. Hyperledger boasts a host of enterprise-ready solutions. \n",
    "* Hyperledger is about communities of software developers building blockchain frameworks and platforms. We will take a closer look at some of the current Hyperledger projects in the coming chapters."
   ]
  },
  {
   "cell_type": "code",
   "execution_count": null,
   "metadata": {
    "collapsed": true
   },
   "outputs": [],
   "source": []
  },
  {
   "cell_type": "markdown",
   "metadata": {},
   "source": [
    "## Hyperledger (Robert Schwentker)\n",
    "\n",
    "https://youtu.be/EW272QItIE8"
   ]
  },
  {
   "cell_type": "code",
   "execution_count": null,
   "metadata": {
    "collapsed": true
   },
   "outputs": [],
   "source": []
  },
  {
   "cell_type": "markdown",
   "metadata": {},
   "source": [
    "## Hyperledger Blockchains: Permissioned or Permissionless?\n",
    "\n",
    "Hyperledger blockchains are **generally permissioned** blockchains, which means that the **parties that join the network are authenticated and authorized to participate on the network**. <br>\n",
    "\n",
    "Hyperledger’s main goal is to create enterprise grade, open source, distributed ledger frameworks and code bases to **support business use cases**."
   ]
  },
  {
   "cell_type": "code",
   "execution_count": null,
   "metadata": {
    "collapsed": true
   },
   "outputs": [],
   "source": []
  },
  {
   "cell_type": "markdown",
   "metadata": {},
   "source": [
    "## Advantages of Using a Permissioned Blockchain over a Permissionless Blockchain\n",
    "\n",
    "If you look at **permissionless blockchains**, like the Bitcoin blockchain or the Ethereum blockchain, **anyone can join the network**, as well as write and read transactions. The actors in the system are not known, which means **there could be some malicious actors within the network**.<br>\n",
    "\n",
    "Hyperledger reduces these security risks and ensures that only the parties that want to transact are the ones that are part of the transaction and, rather than displaying the record of the transactions to the whole network, they remain visible only to the parties involved. So, Hyperledger provides all the capabilities of the blockchain architecture - **data privacy, information sharing, immutability, with a full stack of security protocols** - all for the enterprise."
   ]
  },
  {
   "cell_type": "code",
   "execution_count": null,
   "metadata": {
    "collapsed": true
   },
   "outputs": [],
   "source": []
  },
  {
   "cell_type": "markdown",
   "metadata": {},
   "source": [
    "## Hyperledger vs. Other Permissioned Ledgers (Brian Behlendorf)\n",
    "\n",
    "https://youtu.be/GQJDsEd8DcU"
   ]
  },
  {
   "cell_type": "code",
   "execution_count": null,
   "metadata": {
    "collapsed": true
   },
   "outputs": [],
   "source": []
  }
 ],
 "metadata": {
  "kernelspec": {
   "display_name": "Python [default]",
   "language": "python",
   "name": "python3"
  },
  "language_info": {
   "codemirror_mode": {
    "name": "ipython",
    "version": 3
   },
   "file_extension": ".py",
   "mimetype": "text/x-python",
   "name": "python",
   "nbconvert_exporter": "python",
   "pygments_lexer": "ipython3",
   "version": "3.5.4"
  }
 },
 "nbformat": 4,
 "nbformat_minor": 2
}
