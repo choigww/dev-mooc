{
 "cells": [
  {
   "cell_type": "markdown",
   "metadata": {},
   "source": [
    "# Hyperledger Frameworks"
   ]
  },
  {
   "cell_type": "code",
   "execution_count": null,
   "metadata": {
    "collapsed": true
   },
   "outputs": [],
   "source": []
  },
  {
   "cell_type": "markdown",
   "metadata": {},
   "source": [
    "## Incubated Hyperledger Projects\n",
    "\n",
    "In the following video, Brian Behlendorf covers the projects that are part of Hyperledger (as of October 2017). These include the Hyperledger frameworks, which are detailed in this section, as well as the Hyperledger modules, which are covered in the next section.\n",
    "\n",
    "https://youtu.be/eeZzxcdYNh8"
   ]
  },
  {
   "cell_type": "code",
   "execution_count": null,
   "metadata": {
    "collapsed": true
   },
   "outputs": [],
   "source": []
  },
  {
   "cell_type": "markdown",
   "metadata": {},
   "source": [
    "## Components of Hyperledger Frameworks\n",
    "\n",
    "Hyperledger business blockchain frameworks are used to build enterprise blockchains for a consortium of organizations. They are different than public ledgers like the Bitcoin blockchain and Ethereum. The Hyperledger frameworks include:\n",
    "\n",
    "* An append-only distributed **ledger**\n",
    "* A **consensus** algorithm for agreeing to changes in the ledger\n",
    "* **Privacy** of transactions through permissioned access\n",
    "* **Smart contracts** to process transaction requests.\n",
    "\n",
    "![https://prod-edxapp.edx-cdn.org/assets/courseware/v1/0747265232da64643d21679294cbbe19/asset-v1:LinuxFoundationX+LFS171x+3T2017+type@asset+block/Components_of_blockchain.jpg](https://prod-edxapp.edx-cdn.org/assets/courseware/v1/0747265232da64643d21679294cbbe19/asset-v1:LinuxFoundationX+LFS171x+3T2017+type@asset+block/Components_of_blockchain.jpg)\n",
    "\n",
    "Now, let's explore the five Hyperledger frameworks (as of October 2017)!"
   ]
  },
  {
   "cell_type": "code",
   "execution_count": null,
   "metadata": {
    "collapsed": true
   },
   "outputs": [],
   "source": []
  },
  {
   "cell_type": "markdown",
   "metadata": {},
   "source": [
    "## Hyperledger Iroha v0.95\n",
    "\n",
    "[Hyperledger Iroha](https://hyperledger.org/projects/iroha) is a blockchain framework contributed by Soramitsu, Hitachi, NTT Data, and Colu. Hyperledger Iroha is designed to be simple and easy to incorporate into infrastructure projects requiring distributed ledger technology. \n",
    "* Hyperledger Iroha emphasizes **mobile application development** with client libraries for Android and iOS, making it distinct from other Hyperledger frameworks. \n",
    "* Inspired by Hyperledger Fabric, Hyperledger Iroha seeks to complement Hyperledger Fabric and Hyperledger Sawtooth, while providing a **development environment for C++ developers** to contribute to Hyperledger.<br>\n",
    "\n",
    "In conclusion, Hyperledger Iroha features a simple construction, modern, domain-driven C++ design, along with the consensus algorithm [YAC](https://www.overleaf.com/read/wzhwjzbjvrzn#/40115559/)."
   ]
  },
  {
   "cell_type": "code",
   "execution_count": null,
   "metadata": {
    "collapsed": true
   },
   "outputs": [],
   "source": []
  },
  {
   "cell_type": "markdown",
   "metadata": {},
   "source": [
    "## Introduction to Hyperledger Sawtooth (Courtesy of Sawtooth)\n",
    "\n",
    "https://youtu.be/Buw3g8oNG74"
   ]
  },
  {
   "cell_type": "markdown",
   "metadata": {},
   "source": [
    "## Hyperledge Sawtooth v0.8\n",
    "\n",
    "[Hyperledger Sawtooth](https://www.hyperledger.org/projects/sawtooth), contributed by Intel, is a blockchain framework that utilizes a modular platform for building, deploying, and running distributed ledgers. Distributed ledger solutions built with Hyperledger Sawtooth can utilize various consensus algorithms based on the size of the network. By default, it uses the Proof of Elapsed Time (PoET) consensus algorithm, which provides the scalability of the Bitcoin blockchain without the high energy consumption. PoET allows for a highly scalable network of validator nodes. Hyperledger Sawtooth is designed for versatility, with support for both permissioned and permissionless deployments."
   ]
  },
  {
   "cell_type": "code",
   "execution_count": null,
   "metadata": {
    "collapsed": true
   },
   "outputs": [],
   "source": []
  },
  {
   "cell_type": "markdown",
   "metadata": {},
   "source": [
    "## Unique Characteristics of Hyperledger Sawtooth\n",
    "https://youtu.be/v4iotcvhdc8\n",
    "\n",
    "\n",
    "## Hyperledger Sawtooth Characteristics Relative to Use Cases\n",
    "https://youtu.be/fFFjAt3Ct3c\n",
    "\n",
    "> \"Sawtooth is designed so that you can grow the size of the network,\n",
    "you can actually change the consensus mechanism on the fly...\n",
    "I think this is a unique characteristic of Sawtooth amongst all of the other ledgers...\""
   ]
  },
  {
   "cell_type": "code",
   "execution_count": null,
   "metadata": {
    "collapsed": true
   },
   "outputs": [],
   "source": []
  },
  {
   "cell_type": "markdown",
   "metadata": {},
   "source": [
    "## Hyperledger Fabric v1.0\n",
    "\n",
    "[Hyperledger Fabric](https://www.hyperledger.org/projects/fabric) was the first proposal for a codebase, combining previous work done by Digital Asset Holdings, Blockstream's libconsensus, and IBM's OpenBlockchain. Hyperledger Fabric provides a modular architecture, which allows components such as consensus and membership services to be plug-and-play. Hyperledger Fabric is revolutionary in allowing entities to conduct confidential transactions without passing information through a central authority. This is accomplished through different channels that run within the network, as well as the division of labor that characterizes the different nodes within the network. Lastly, it is important to remember that, unlike Bitcoin, which is a public chain, Hyperledger Fabric supports permissioned deployments.<br>\n",
    "\n",
    "> \"If you have a large blockchain network and you want to share data with only certain parties, **you can create a private channel with just those participants**. It is the most distinctive thing about Fabric right now.\"\n",
    "\\- Brian Behlendorf, Executive Director of Hyperledger, The Linux Foundation"
   ]
  },
  {
   "cell_type": "code",
   "execution_count": null,
   "metadata": {
    "collapsed": true
   },
   "outputs": [],
   "source": []
  },
  {
   "cell_type": "markdown",
   "metadata": {},
   "source": [
    "## What Is Unique about Hyperledger Fabric? (Chris Ferris)\n",
    "\n",
    "https://youtu.be/WqwrrE0_JXo\n",
    "\n",
    "> \"Well, I think, again, the primary distinction that we have with Hyperledger Fabric is that it is an implementation of a permissioned blockchain distributed ledger technology.\"\n",
    "\n",
    "> \"And this is independent, or distinguished from implementations such as Bitcoin and Ethereum\""
   ]
  },
  {
   "cell_type": "code",
   "execution_count": null,
   "metadata": {
    "collapsed": true
   },
   "outputs": [],
   "source": []
  },
  {
   "cell_type": "markdown",
   "metadata": {},
   "source": [
    "## Hyperledger Indy (Nathan George)\n",
    "\n",
    "https://youtu.be/nNo5MzgkWxE\n",
    "\n",
    "> \"Hyperledger Indy is a distributed ledger purpose-built for doing distributed identity,\n",
    "and what that means is, it allows you to have a route of trust to manage the keys, schemas, proofs, and other information that you need to,\n",
    "in order to enable trusted peer interactions between different identities, as stored on a Hyperledger Indy blockchain instance.\""
   ]
  },
  {
   "cell_type": "markdown",
   "metadata": {},
   "source": [
    "## Hyperledger Indy\n",
    "\n",
    "[Hyperledger Indy](https://www.hyperledger.org/projects) is a distributed ledger purpose-built for decentralized identity. Hyperledger Indy's goal is to achieve this by developing a set of\n",
    "\n",
    "> \"(...) decentralized identity specs and artifacts that are independent of any particular ledger and will enable interoperability across any DLT that supports them.\"\n",
    "\n",
    "Contributed by the Sovrin Foundation, Hyperledger Indy allows individuals to manage and control their digital identities. Rather than having businesses store huge amounts of personal data of individuals, Hyperledger Indy allows businesses to store pointers to identity. Once the company verifies the other party's identity, it throws it away.<br>\n",
    "\n",
    "According to Brian Behlendorf,\n",
    "\n",
    "> \"(...) identity is a toxic asset that could present a liability to organizations.\"\n",
    "\n",
    "Indeed, since 2013, over 9 billion data records were lost or stolen. What is striking is that, out of these, only 4% were encrypted, and hence, rendered useless after being stolen (also called 'secure breaches'). You can find detailed statistics at http://breachlevelindex.com/.<br>\n",
    "\n",
    "One of the key principles of Hyperledger Indy is its ['Privacy by Design'](https://en.wikipedia.org/wiki/Privacy_by_design) approach. Given the immutable nature of the DLT, it is all the more important that digital identities be handled with the utmost care, keeping human values front and center.\n",
    "\n",
    "> \"Hyperledger Indy lets users authenticate identity based on the attributes they are willing to store and share themselves. This can reduce the amount of liability contained within a business because the data can be kept with the user and presented to you again in a way that you can trust and validate that what has been said really was said and is trusted by the other parties you do business with.\" - Nathan George, Maintainer, Hyperledger Indy\n",
    "\n",
    "Further information about the history of the project can be found at https://sovrin.org/."
   ]
  },
  {
   "cell_type": "code",
   "execution_count": null,
   "metadata": {
    "collapsed": true
   },
   "outputs": [],
   "source": []
  },
  {
   "cell_type": "markdown",
   "metadata": {},
   "source": [
    "## Hyperledger Burrow v0.16.1\n",
    "\n",
    "Formally known as eris-db, [Hyperledger](https://www.hyperledger.org/projects/hyperledger-burrow) Burrow was released in December 2014. Currently under incubation, \n",
    "### Hyperledger Burrow is a permissionable smart contract machine \n",
    "that provides a modular blockchain client with a permissioned smart contract interpreter built- in part to the specification of the Ethereum Virtual Machine (EVM). It is the only available Apache-licensed EVM implementation.<br>\n",
    "\n",
    "Following are the major components of Burrow:\n",
    "\n",
    "* The **Gateway** provides interfaces for systems integration and user interfaces\n",
    "* The **Smart contract application engine** facilitates integration of complex business logic\n",
    "* The **Consensus Engine** serves the dual purpose of: \n",
    "  1. Maintaining the networking stack between the nodes, and,\n",
    "  2. Ordering transactions\n",
    "* The **Application Blockchain Interface** (ABCI) provides interface specification for the consensus engine and smart contract application engine to connect.\n",
    "\n",
    "You can learn more about Hyperledger Burrow at https://monax.io/platform/db/."
   ]
  },
  {
   "cell_type": "code",
   "execution_count": null,
   "metadata": {},
   "outputs": [],
   "source": []
  }
 ],
 "metadata": {
  "kernelspec": {
   "display_name": "Python 3",
   "language": "python",
   "name": "python3"
  },
  "language_info": {
   "codemirror_mode": {
    "name": "ipython",
    "version": 3
   },
   "file_extension": ".py",
   "mimetype": "text/x-python",
   "name": "python",
   "nbconvert_exporter": "python",
   "pygments_lexer": "ipython3",
   "version": "3.6.2"
  }
 },
 "nbformat": 4,
 "nbformat_minor": 2
}
