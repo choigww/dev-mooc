{
  "cells": [
    {
      "metadata": {
        "_cell_guid": "7554f8ad-e926-4cf9-b818-b65ca3e1e767",
        "_uuid": "0c2c1282439b4546d1106e7cc7bb41f9de331318"
      },
      "cell_type": "markdown",
      "source": "Welcome to the SQL Scavenger Hunt! Each day over the next five days we're going to be focusing on using different SQL commands to help us find the data we need to answer a specific question. I've put together this handbook to help you out by introducing you to SQL and BigQuery. In this handbook, I'll help you hit the ground running by covering the following topics: \n\n* [What are SQL & BigQuery and why you should learn them?](#What-are-SQL-&-BigQuery-and-why-you-should-learn-them?)\n* [How to use BigQuery datasets in kernels](#How-to-use-BigQuery-datasets-in-kernels)\n* [How to avoid common mistakes when querying big datasets](#How-to-avoid-common-mistakes-when-querying-big-datasets)\n\nAnd I'll wrap up by collecting some links to useful or interesting BigQuery kernels. Let's get to it!"
    },
    {
      "metadata": {
        "_cell_guid": "5f8e6310-8788-4e5e-a1f4-28a7c96ef8e1",
        "_uuid": "02e72e2c4539916bd2efaf3ce26d055624dabd99"
      },
      "cell_type": "markdown",
      "source": "# What are SQL & BigQuery and why you should learn them?\n____\n\nSQL (short for “Structured Query Language”, and said like either \"see-quill\" or \"S-Q-L\" ) is a programming language that allows you to interact with databases. For many databases out there, SQL is the *only* way to access the information in them and, as a result, it's an important skill for any data scientist or aspiring data scientist. (You don't need to take my word on this one: in our survey of data scientists we found that SQL was [the third most popular software tool for data science](https://www.kaggle.com/surveys/2017), right after Python and R.)\n\n> **Why learn SQL?**: If you're currently looking for a data science job, being able to show that you're comfortable with SQL will open up more job opportunities for you. If you're currently *doing* data science, brushing up on your SQL skills will help you access more data sources and make it easier to get a subset of a database to work with locally. Plus, it's fun! :)\n\n[BigQuery](https://cloud.google.com/bigquery/) is a Google Cloud product for storing and accessing very large databases very quickly. We've recently started making [some BigQuery datasets](https://www.kaggle.com/datasets?filetype=bigQuery) accessible via Kaggle. Since SQL is the easiest way to access these data in these datasets they make the perfect playground to help you get comfortable with this language.\n\n>  Because the datasets on BigQuery can be very large, there are some restrictions on how much data you can access. The good news is that **each Kaggle user can scan 5TB every 30 days for free.** The bad news is that If you go over your quota you're going to have to wait for it to reset. \n\nDon't worry, though: in this handbook we'll teach you how to be careful when looking at BigQuery data to make sure you don't accidentally go over your quota."
    },
    {
      "metadata": {
        "_cell_guid": "644250cf-5b27-4ca6-9502-bc6ee21c5eea",
        "_uuid": "60b8852ab5bbb0f2fa2b6763a55af3df9ef34fc4"
      },
      "cell_type": "markdown",
      "source": "# How to use BigQuery datasets in kernels\n____\n\nIn this section, we're going to go through how to get your first BigQuery notebook up and running and how to actually run a query. I'm going to cover:\n\n* Getting your notebook set up\n* Checking the structure of the dataset (to help you when you want to write queries)\n* How to check the size of a query before you run it (to avoid accidentally asking for waaaay more data than you wanted)\n* How to run your first query! \n* How to save the data from your query as a .csv to use later\n\nI'm *not* going to cover all the intricacies of SQL. That's what the next five days of the Scavenger Hunt are for!\n\n## Getting set up\n___\nThe first step is to start a kernel using one of the BigQuery datasets as the data source. You can find these datasets by going to the [Datasets page](https://www.kaggle.com/datasets) and selecting \"BigQuery\" from the \"File Types\" drop down menu at the top of the list of datasets. (Alternatively, you can follow [this link](https://www.kaggle.com/datasets?filetype=bigQuery).) \n\nOnce you've picked a BigQuery dataset, head to the dataset page for it and start a new kernel on it by hitting the \"New Kernel\" button, just as you would with any other dataset. Right now, you can only use BigQuery databases with Python kernels.\n\n> **Can you work with BigQuery in R kernels?** Right now, you can only work with BigQuery in Python kernels, so make sure you don't accidentally start an R kernel instead. If you want to do your analysis in R (which is my personal preference) you can save the data you query as an output file and then add that to a new kernel. We'll go over how to do that later in this notebook. :)\n\nIn order to make your life easier, we've put together a Python package called `bq_helper` and pre-loaded it into kernels. It has some helper functions for getting data out of BigQuery that will simplify the process of getting data. If you're curious, you can check out [example kernels with more in-depth information at the end of this notebook](#Additional-information-and-resources).\n\nYou can use `bq_helper` in your kernel by importing it, like so:"
    },
    {
      "metadata": {
        "_cell_guid": "0077123a-0f36-4f70-a935-fd058ce7f549",
        "_uuid": "40c48abc24d59a32b0a2156e60dfb7a808081926",
        "collapsed": true,
        "trusted": false
      },
      "cell_type": "code",
      "source": "# import our bq_helper package\nimport bq_helper ",
      "execution_count": null,
      "outputs": []
    },
    {
      "metadata": {
        "_cell_guid": "cd0dd08a-232d-4b3c-bf12-813ee652f5de",
        "_uuid": "c29680f779f0bdb6985c3c63af4d71ef7451d6c2"
      },
      "cell_type": "markdown",
      "source": "Now that we've added a BigQuery package to our kernel and imported the helper package, the next step is to create a BigQueryHelper object that points to a specific dataset. \n\nThe first thing we need to do this is to know is what our specific dataset is called. You can find this by checking out the dataset listing for your dataset and then navigating to the \"Data\" tab. For example, [here's a link to the Data tab of the Hacker News dataset](https://www.kaggle.com/hacker-news/hacker-news/data), which is what we're going to be using in this kernel.\n\nIf you go to the link I provided, you'll notice a blue rectangle with rounded edges near the top of the page that has the following text in it: \"bigquery-public-data.hacker_news.comments\". This tells you that you're looking of a summary of the \"comments\" table in the \"hacker_news\" dataset. The addresses of BigQuery datasets look like this:\n\n![](https://i.imgur.com/l11gdKx.png)\n\nWe will need to pass this information to BigQueryHelper in order to create our helper object. The active_project argument takes the BigQuery info, which is currently \"bigquery-public-data\" for all the BigQuery datasets on Kaggle. The dataset_name argument takes the name of the dataset we've added to our query. In this case it's \"hacker_news\". So we can create our BigQueryHelper object like so:"
    },
    {
      "metadata": {
        "_cell_guid": "60c2e1ef-d1e3-4ecc-8cea-2da877d512ce",
        "_uuid": "e7d84b6de5be06e3b998cb32e2f2f7874989d831",
        "collapsed": true,
        "trusted": false
      },
      "cell_type": "code",
      "source": "# create a helper object for our bigquery dataset\nhacker_news = bq_helper.BigQueryHelper(active_project= \"bigquery-public-data\", \n                                       dataset_name = \"hacker_news\")",
      "execution_count": null,
      "outputs": []
    },
    {
      "metadata": {
        "_cell_guid": "f7e92d06-83fb-4e94-8ee3-9fd20b11c358",
        "_uuid": "b2f71f3c6a124f892619297c725599e9407c2702"
      },
      "cell_type": "markdown",
      "source": "Now that we've created our helper object, we can get started actually interacting with the dataset!"
    },
    {
      "metadata": {
        "_cell_guid": "b0003f12-af08-4cd1-882d-94108660fd69",
        "_uuid": "69550067f8ecba7d1bb659fd10fad71301d5e354"
      },
      "cell_type": "markdown",
      "source": "## Check out the structure of your dataset\n____\n\nThe first thing you're going to want to do, like with any new dataset, is check out the way that data is structured. We're going to do that by looking at the schema.\n\n> **Schema**: A description of how data is organized within a dataset.\n\nBeing able to access the information in the schema will be very helpful to us later on as we start to put together queries, so we're going to quickly go over how to do this and how to interpret the schemas once we get them. First, we can use the `BigQueryHelper.list_tables()` method to list all the files in the hacker_news dataset."
    },
    {
      "metadata": {
        "_cell_guid": "b87c4444-d7ab-467e-9680-e9d1ae3b6797",
        "scrolled": true,
        "_uuid": "7b3a5dadc9e24b3796078b88baf72af33b45c8e5",
        "trusted": false,
        "collapsed": true
      },
      "cell_type": "code",
      "source": "# print a list of all the tables in the hacker_news dataset\nhacker_news.list_tables()",
      "execution_count": null,
      "outputs": []
    },
    {
      "metadata": {
        "_cell_guid": "88d9c4d5-c939-4ba2-9972-68c4f1f4e77f",
        "_uuid": "8eff2777188cc3ed121859e290c0a3ed6219f090"
      },
      "cell_type": "markdown",
      "source": "Now that we know what tables are in this dataset, we can get information on the columns in a specific table. In this example, we're looking at the information on the \"full\" table. "
    },
    {
      "metadata": {
        "_cell_guid": "0c631861-f6f7-4cf0-8592-d829b683fb10",
        "_uuid": "8134167a576edb9658c99fc82fb0d76a3744456c",
        "trusted": false,
        "collapsed": true
      },
      "cell_type": "code",
      "source": "# print information on all the columns in the \"full\" table\n# in the hacker_news dataset\nhacker_news.table_schema(\"full\")",
      "execution_count": null,
      "outputs": []
    },
    {
      "metadata": {
        "_cell_guid": "57bac598-5271-49a4-a00d-391811ef609b",
        "_uuid": "d414f775228a83b48100a9b18529bdfaa85d4170"
      },
      "cell_type": "markdown",
      "source": "Each SchemaField tells us about a specific column. In order, the information is:\n\n* The name of the column\n* The datatype in the column\n* [The mode of the column](https://cloud.google.com/bigquery/docs/reference/rest/v2/tables#schema.fields.mode) (NULLABLE means that a column allows NULL values, and is the default)\n* A description of the data in that column\n\nSo, for the first column, we have the following schema field:\n\n`SchemaField('by', 'string', 'NULLABLE', \"The username of the item's author.\",())`\n\nThis tells us that the column is called \"by\", that is has strings in it but that NULL values are allowed, and that it contains the username of the item's author.\n\nWe can use the `BigQueryHelper.head()` method to check just the first couple of lines of of the \"full\" table to make sure this is right. (Sometimes you'll run into databases out there where the schema isn't an accurate description of the data anymore, so it's good to check. This shouldn't be a problem with any of the BigQuery databases on Kaggle, though!)"
    },
    {
      "metadata": {
        "_cell_guid": "860f3be0-5fc2-4a1f-bdb3-b63836334cf7",
        "_uuid": "878b039cb2666fa961f6291b841b62a5d9aa917f",
        "trusted": false,
        "collapsed": true
      },
      "cell_type": "code",
      "source": "# preview the first couple lines of the \"full\" table\nhacker_news.head(\"full\")",
      "execution_count": null,
      "outputs": []
    },
    {
      "metadata": {
        "_cell_guid": "52288cfb-46b1-41c9-af8f-88e262d3b173",
        "_uuid": "b2b56773cefef3dabcab836efee6b2a432aaf3df"
      },
      "cell_type": "markdown",
      "source": "The `BigQueryHelper.head()` method will also let us look at just the information in a specific column. If we want to see the first ten entries in the \"by\" column, for example, we can do that!"
    },
    {
      "metadata": {
        "_cell_guid": "306faae0-e67e-478c-8a13-423a8774bdfe",
        "_uuid": "c251d14e019b7356ac98f3055b6406272522f41d",
        "trusted": false,
        "collapsed": true
      },
      "cell_type": "code",
      "source": "# preview the first ten entries in the by column of the full table\nhacker_news.head(\"full\", selected_columns=\"by\", num_rows=10)",
      "execution_count": null,
      "outputs": []
    },
    {
      "metadata": {
        "_cell_guid": "f792a67e-48b2-421d-b814-0f7cdb38f396",
        "_uuid": "27b2d77d18a14fc40770af786b1a86534bcdb2ae"
      },
      "cell_type": "markdown",
      "source": "Now that we know how to familiarize ourself with our datset, let's see how to check how big our queries are before we actually run them."
    },
    {
      "metadata": {
        "_cell_guid": "6dad16d1-1562-4aa0-ad1e-4eed2148dccf",
        "_uuid": "2022e8ad2767b4c59a586c6dc004cc0f4c63e8a3"
      },
      "cell_type": "markdown",
      "source": "## Check the size of your query before you run it\n____\n\nBigQuery datasets are, true to their name, BIG. The [biggest dataset we've got on Kaggle so far](https://www.kaggle.com/github/github-repos) is 3 terabytes. Since the monthly quota for BigQuery queries is 5 terabytes, you can easily go past your 30-day quota by running just a couple of queries!\n\n> **What's a query?** A query is small piece of SQL code that specifies what data would you like to scan from a databases, and how much of that data you would like returned. (Note that your quota is on data *scanned*, not the amount of data returned.)\n\nOne way to help avoid this is to estimate how big your query will be before you actually execute it. You can do this with the `BigQueryHelper.estimate_query_size()` method. For the rest of this notebook, I'll be using an example query that finding the scores for every Hacker News post of the type \"job\". Let's see how much data it will scan if we actually ran it."
    },
    {
      "metadata": {
        "_cell_guid": "ec2a0f0b-d845-45ef-bf6f-b1fa24735ec9",
        "_uuid": "1fb5e0b2c2024659c57dbba5566093e1d9bcd1d8",
        "trusted": false,
        "collapsed": true
      },
      "cell_type": "code",
      "source": "# this query looks in the full table in the hacker_news\n# dataset, then gets the score column from every row where \n# the type column has \"job\" in it.\nquery = \"\"\"SELECT score\n            FROM `bigquery-public-data.hacker_news.full`\n            WHERE type = \"job\" \"\"\"\n\n# check how big this query will be\nhacker_news.estimate_query_size(query)",
      "execution_count": null,
      "outputs": []
    },
    {
      "metadata": {
        "_cell_guid": "7c69fc73-647c-4988-9bf6-6827b8b39d98",
        "_uuid": "b035348041a39a2c32f734e0050348bbcb809e59"
      },
      "cell_type": "markdown",
      "source": "Running this query will take around 150 MB. (The query size is returned in gigabytes.)"
    },
    {
      "metadata": {
        "_cell_guid": "bc4cb789-cd9f-4cbe-9def-e2ff3865b26d",
        "_uuid": "9bf300ec5b25578120516934a7592699b79cc41a"
      },
      "cell_type": "markdown",
      "source": "## Actually run a query\n___\n\nNow that we know how to check the size of the query (and make sure we're not scanning several terabytes of data!) we're ready to actually run our first query. You have two methods available to help you do this:\n\n* *`BigQueryHelper.query_to_pandas(query)`*: This method takes a query and returns a Pandas dataframe.\n* *`BigQueryHelper.query_to_pandas_safe(query, max_gb_scanned=1)`*: This method takes a query and returns a Pandas dataframe only if the size of the query is less than the upperSizeLimit (1 gigabyte by default). \n\nHere's an example of a query that is larger than the specified upper limit."
    },
    {
      "metadata": {
        "_cell_guid": "23771d04-cb96-492e-b4a5-3a713d6076ad",
        "_uuid": "30faf75b761ebb4f1537200821a79f2b0c7e472d",
        "trusted": false,
        "collapsed": true
      },
      "cell_type": "code",
      "source": "# only run this query if it's less than 100 MB\nhacker_news.query_to_pandas_safe(query, max_gb_scanned=0.1)",
      "execution_count": null,
      "outputs": []
    },
    {
      "metadata": {
        "_cell_guid": "bc6598e2-c4b8-4042-bd57-b8a417bb3704",
        "_uuid": "689118533cabf0a449f97a2c6a51fa5628454403"
      },
      "cell_type": "markdown",
      "source": "And here's an example where the same query returns a dataframe. "
    },
    {
      "metadata": {
        "_cell_guid": "974eb426-fa65-42a1-affe-48c2b0519fa1",
        "_uuid": "c1b339b21ffb79a2cfc0011a200fdb01ea0f636b",
        "trusted": false,
        "collapsed": true
      },
      "cell_type": "code",
      "source": "# check out the scores of job postings (if the \n# query is smaller than 1 gig)\njob_post_scores = hacker_news.query_to_pandas_safe(query)",
      "execution_count": null,
      "outputs": []
    },
    {
      "metadata": {
        "_cell_guid": "a003f0b0-c9e5-4b12-b840-f620874bd0b9",
        "_uuid": "b8736a930ea650430ea72d7c9f5bdff4302132cc"
      },
      "cell_type": "markdown",
      "source": "Since this has returned a dataframe, we can work with it as we would any other dataframe. For example, we can get the mean of the column:"
    },
    {
      "metadata": {
        "_uuid": "aa2f2ee2724538f9638c6b34868c982064adbffd",
        "_cell_guid": "f569f1cb-bdf9-4835-a1c4-f4b9d9eeca35",
        "collapsed": true,
        "trusted": false
      },
      "cell_type": "code",
      "source": "# average score for job posts\njob_post_scores.score.mean()",
      "execution_count": null,
      "outputs": []
    },
    {
      "metadata": {
        "_cell_guid": "d4124384-baf4-4e8c-874d-3a9f80656899",
        "_uuid": "f5dd42f9d75cf1771762d2a6328763f3a4b8673a"
      },
      "cell_type": "markdown",
      "source": "## How to save the data from your query as a .csv\n___\n\nNow that we've got a dataframe, we might want to save it out as a .csv to use later or in a different kernel. To do this, we can use the following code, which will write our dataframe to a file called \"job_post_scores.csv\" in the output directory. "
    },
    {
      "metadata": {
        "_cell_guid": "754bc942-a9ba-48af-bbcd-e46dbcb99f5a",
        "_uuid": "b95247c6fd7a1e34b15c752679d4007379b4b61e",
        "collapsed": true,
        "trusted": false
      },
      "cell_type": "code",
      "source": "# save our dataframe as a .csv \njob_post_scores.to_csv(\"job_post_scores.csv\")",
      "execution_count": null,
      "outputs": []
    },
    {
      "metadata": {
        "_cell_guid": "00442da8-062d-4ff8-b6ca-4ae97542bd74",
        "_uuid": "a84af20c011277ab8a9c56c237c25e1f8cbf9087"
      },
      "cell_type": "markdown",
      "source": "In order to access this file later, you'll need to compile your notebook. You can do this using the \"Publish\" button (if you have the old editor) or the \"New Snapshot\" button (if you have the new editor). Both are in the upper right hand corner of the editor.\n\nOnce your notebook has compiled and your file is ready, it will show up under the \"Output\" tab of your notebook. (You should see an Output tab for this notebook with the file we just wrote to a .csv in it.) From there you can download it, or you can add the notebook with the output file as a data source to a new kernel and import the file to your notebook as you would any other .csv file. \n\n> *It can take a couple minutes for the Output tab to show up as your notebook compiles, especially if your file was very large. If you don't see it right away, give it a little bit and it should show up.*\n\nAnd that's all you need to get started getting data from BigQuery datasets on Kaggle! During the scavenger hunt we'll learn more about how to use SQL to improve the power and flexibility of your queries. "
    },
    {
      "metadata": {
        "_cell_guid": "841d14bd-1276-4a1f-b3f7-ff2aeba5dc63",
        "_uuid": "28656aa1f70c2fadb96f7c97e056ed95d8fb89ba"
      },
      "cell_type": "markdown",
      "source": "# How to avoid common mistakes when querying big datasets\n____\n\nBig data is great! Until working at a bigger scale suddenly it makes your problems bigger too, like [this poor professor whose experiment racked up an unexpected $1000 bill](https://www.wired.com/2012/04/aws-bill-in-minutes/). Although Kaggle isn't charging for accessing BigQuery datasets, following these best practices can help you avoid trouble down the line. If you'd like to learn more, you can check out [all the BigQuery best practices here](https://cloud.google.com/bigquery/docs/best-practices).\n\n* *Avoid using the asterisk *(**) in your queries.* As you might have seen before in regular expressions, the asterisk means “everything”. While this may be okay with smaller datasets, if you send a query to a 4 terabyte dataset and ask for “everything” you're going to scan waaaaay more than you bargained for (or that a kernel can handle).\n* *For initial exploration, look at just part of the table instead of the whole thing.* If you're just curious to see what data's in a table, preview it instead of scanning the whole table. We've included a method, `BigQueryHelper.head()`, in our helper package to help with this. Like `head()` in Pandas or R, it will just return the first few rows for you to look at.\n* *Double-check the size of complex queries.* If you're planning on running what might be a large query, either estimate the size first or run it using the `BigQueryHelper.query_to_pandas_safe()` method.\n* *Be cautious about joining tables.* In particular, avoid joining a table with itself (i.e. a self-join) and try to avoid joins that return a table that's larger than the ones you're joining together. (If you want to double-check yourself, you can try the join on just the heads of the tables involved.)\n* *Don't rely on LIMIT*: One of the things that can be confusing when working with BigQuery datasets is the difference between the data you *scan* and the data you actually *get back* especially since it's the first one that actually counts against your quota. When you do something like select a column with LIMIT = 10, you'll only get 10 results back... but you'll actually be scanning the whole column. It's not a big deal if your table has 1000 rows, but it's a much bigger deal if it has 10,000,000 rows!"
    },
    {
      "metadata": {
        "_cell_guid": "2ca13a48-913e-41ca-92a3-aef4ae9966f2",
        "_uuid": "a266f77a6003408ea50a2bf0baf0a7dfce883b77"
      },
      "cell_type": "markdown",
      "source": "# Additional information and resources\n_____\n\n### Develop a deeper understanding\nIf you're interested in learning more about BigQuery specifically, Sohier has put together a number of useful kernels to help you learn about the ins and outs. A lot of the things discussed in these kernels have been integrated into our package, so these will let you see under the hood and gain a deeper understanding of what's going on.\n\n* [A getting started guide that walks you through using the BigQuery package directly (this is a lot of what our package does for you)](https://www.kaggle.com/sohier/getting-started-with-big-query)\n* [A discussion of how to efficiently use resources in BigQuery](https://www.kaggle.com/sohier/efficient-resource-use-in-bigquery/)\n* [A more in-depth dicussion of the BigQuery API](https://www.kaggle.com/sohier/beyond-queries-exploring-the-bigquery-api)\n* [Converting BigQuery results to a Pandas dataframe](https://www.kaggle.com/sohier/how-to-integrate-bigquery-pandas)\n\n### Get inspired!\n\nHere are a couple of interesting analysis to show you what sort of things are possible with BigQuery datasets.\n\n* [What's the most common number of spaces to indent in Python code?](https://www.kaggle.com/hayatoy/most-common-indentation-space-count-in-python-code)\n* [In what contexts does Kaggle get mentioned in Hacker News?](https://www.kaggle.com/mrisdal/mentions-of-kaggle-on-hacker-news)\n\n### Learn more about BigQuery\n\nThe best place to learn more is in BigQuery documentation, which [you can find here](https://cloud.google.com/bigquery/docs/)."
    }
  ],
  "metadata": {
    "kernelspec": {
      "display_name": "Python 3",
      "language": "python",
      "name": "python3"
    },
    "language_info": {
      "nbconvert_exporter": "python",
      "version": "3.6.4",
      "pygments_lexer": "ipython3",
      "codemirror_mode": {
        "version": 3,
        "name": "ipython"
      },
      "mimetype": "text/x-python",
      "name": "python",
      "file_extension": ".py"
    }
  },
  "nbformat": 4,
  "nbformat_minor": 1
}