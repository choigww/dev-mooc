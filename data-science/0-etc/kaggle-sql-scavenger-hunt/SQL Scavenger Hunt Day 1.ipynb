{
  "cells": [
    {
      "metadata": {
        "_uuid": "56f92656487e77f60088d9afe9969a878ac1ead5",
        "_cell_guid": "aac1eb7a-6eb0-4239-bf0c-7edf5dd242a1"
      },
      "cell_type": "markdown",
      "source": "<table>\n    <tr>\n        <td>\n        <center>\n        <font size=\"+1\">If you haven't used BigQuery datasets on Kaggle previously, check out the <a href = \"https://www.kaggle.com/rtatman/sql-scavenger-hunt-handbook/\">Scavenger Hunt Handbook</a> kernel to get started.</font>\n        </center>\n        </td>\n    </tr>\n</table>"
    },
    {
      "metadata": {
        "_uuid": "8710f8a626efbd27c8e53b723e97813fdd388822",
        "_cell_guid": "2fc58cbb-15ec-42e5-8f81-ca4cba5db07c"
      },
      "cell_type": "markdown",
      "source": "# SELECT, FROM & WHERE\n\nToday, we're going to learn how to use SELECT, FROM and WHERE to get data from a specific column based on the value of another column. For the purposes of this explanation, we'll be using this imaginary database, `pet_records` which has just one table in it, called `pets`, which looks like this:\n\n![](https://i.imgur.com/Ef4Puo3.png)\n\n### SELECT ... FROM\n___\n\nThe most basic SQL query is to select a single column from a specific table. To do this, you need to tell SELECT which column to select and then specify what table that column is from using from. \n\n> **Do you need to capitalize SELECT and FROM?** No, SQL doesn't care about capitalization. However, it's customary to capitalize your SQL commands and it makes your queries a bit easier to read.\n\nSo, if we wanted to select the \"Name\" column from the pets table of the pet_records database (if that database were accessible as a BigQuery dataset on Kaggle , which it is not, because I made it up), we would do this:\n\n    SELECT Name\n    FROM `bigquery-public-data.pet_records.pets`\n\nWhich would return the highlighted data from this figure.\n\n![](https://i.imgur.com/8FdVyFP.png)\n\n### WHERE ...\n___\n\nWhen you're working with BigQuery datasets, you're almost always going to want to return only certain rows, usually based on the value of a different column. You can do this using the WHERE clause, which will only return the rows where the WHERE clause evaluates to true.\n\nLet's look at an example:\n\n    SELECT Name\n    FROM `bigquery-public-data.pet_records.pets`\n    WHERE Animal = \"Cat\"\n\nThis query will only return the entries from the \"Name\" column that are in rows where the \"Animal\" column has the text \"Cat\" in it. Those are the cells highlighted in blue in this figure:\n\n![](https://i.imgur.com/Va52Qdl.png)\n"
    },
    {
      "metadata": {
        "_uuid": "0482e52934a735a43d562fe7beeabb85fe70e338",
        "_cell_guid": "2e2563a2-5b9d-42a4-8fa3-da4d4150b24d"
      },
      "cell_type": "markdown",
      "source": "## Example: What are all the U.S. cities in the OpenAQ dataset?\n___\n\nNow that you've got the basics down, let's work through an example with a real dataset. Today we're going to be working with the OpenAQ dataset, which has information on air quality around the world. (The data in it should be current: it's updated weekly.)\n\nTo help get you situated, I'm going to run through a complete query first. Then it will be your turn to get started running your queries!\n\nFirst, I'm going to set up everything we need to run queries and take a quick peek at what tables are in our database."
    },
    {
      "metadata": {
        "_uuid": "ab40ebc98c64c78df9a11d922bbc23573a43aefe",
        "_cell_guid": "9a26e7db-812d-4fbb-b457-e09d323af127",
        "trusted": true
      },
      "cell_type": "code",
      "source": "# import package with helper functions \nimport bq_helper\n\n# create a helper object for this dataset\nopen_aq = bq_helper.BigQueryHelper(active_project=\"bigquery-public-data\",\n                                   dataset_name=\"openaq\")\n\n# print all the tables in this dataset (there's only one!)\nopen_aq.list_tables()",
      "execution_count": 1,
      "outputs": [
        {
          "output_type": "execute_result",
          "execution_count": 1,
          "data": {
            "text/plain": "['global_air_quality']"
          },
          "metadata": {}
        }
      ]
    },
    {
      "metadata": {
        "_uuid": "0f5207bb8a05b44d1af2e002fde6260fb01baa1d",
        "_cell_guid": "cf3f3bd4-ef30-45d1-bdb3-5c8e7d3ec194"
      },
      "cell_type": "markdown",
      "source": "I'm going to take a peek at the first couple of rows to help me see what sort of data is in this dataset."
    },
    {
      "metadata": {
        "_uuid": "dad17f046aac83f2c219452e032fd72227ea3e7a",
        "_cell_guid": "d85ed84b-58b3-48c1-8ea6-4c89ad254bd8",
        "trusted": true
      },
      "cell_type": "code",
      "source": "# print the first couple rows of the \"global_air_quality\" dataset\nopen_aq.head(\"global_air_quality\")",
      "execution_count": 2,
      "outputs": [
        {
          "output_type": "execute_result",
          "execution_count": 2,
          "data": {
            "text/plain": "             location city country pollutant  value                 timestamp  \\\n0     Mobile_Cle Elum  037      US      pm25   0.00 2017-09-26 20:00:00+00:00   \n1  Mobile_WhiteSalmon  039      US      pm25   0.00 2017-09-26 20:00:00+00:00   \n2      Mobile_Newport  051      US      pm25   0.00 2017-09-21 18:00:00+00:00   \n3             FR20047  Ain      FR        o3  37.90 2018-02-12 21:00:00+00:00   \n4             FR20047  Ain      FR      pm10  12.38 2018-02-12 22:00:00+00:00   \n\n    unit source_name   latitude   longitude  averaged_over_in_hours  \n0  µg/m³      AirNow  47.197630 -120.958230                     1.0  \n1  µg/m³      AirNow  45.732414 -121.492330                     1.0  \n2  µg/m³      AirNow  48.186485 -117.049160                     1.0  \n3  µg/m³  EEA France  45.823223    4.953958                     1.0  \n4  µg/m³  EEA France  45.823223    4.953958                     1.0  ",
            "text/html": "<div>\n<style>\n    .dataframe thead tr:only-child th {\n        text-align: right;\n    }\n\n    .dataframe thead th {\n        text-align: left;\n    }\n\n    .dataframe tbody tr th {\n        vertical-align: top;\n    }\n</style>\n<table border=\"1\" class=\"dataframe\">\n  <thead>\n    <tr style=\"text-align: right;\">\n      <th></th>\n      <th>location</th>\n      <th>city</th>\n      <th>country</th>\n      <th>pollutant</th>\n      <th>value</th>\n      <th>timestamp</th>\n      <th>unit</th>\n      <th>source_name</th>\n      <th>latitude</th>\n      <th>longitude</th>\n      <th>averaged_over_in_hours</th>\n    </tr>\n  </thead>\n  <tbody>\n    <tr>\n      <th>0</th>\n      <td>Mobile_Cle Elum</td>\n      <td>037</td>\n      <td>US</td>\n      <td>pm25</td>\n      <td>0.00</td>\n      <td>2017-09-26 20:00:00+00:00</td>\n      <td>µg/m³</td>\n      <td>AirNow</td>\n      <td>47.197630</td>\n      <td>-120.958230</td>\n      <td>1.0</td>\n    </tr>\n    <tr>\n      <th>1</th>\n      <td>Mobile_WhiteSalmon</td>\n      <td>039</td>\n      <td>US</td>\n      <td>pm25</td>\n      <td>0.00</td>\n      <td>2017-09-26 20:00:00+00:00</td>\n      <td>µg/m³</td>\n      <td>AirNow</td>\n      <td>45.732414</td>\n      <td>-121.492330</td>\n      <td>1.0</td>\n    </tr>\n    <tr>\n      <th>2</th>\n      <td>Mobile_Newport</td>\n      <td>051</td>\n      <td>US</td>\n      <td>pm25</td>\n      <td>0.00</td>\n      <td>2017-09-21 18:00:00+00:00</td>\n      <td>µg/m³</td>\n      <td>AirNow</td>\n      <td>48.186485</td>\n      <td>-117.049160</td>\n      <td>1.0</td>\n    </tr>\n    <tr>\n      <th>3</th>\n      <td>FR20047</td>\n      <td>Ain</td>\n      <td>FR</td>\n      <td>o3</td>\n      <td>37.90</td>\n      <td>2018-02-12 21:00:00+00:00</td>\n      <td>µg/m³</td>\n      <td>EEA France</td>\n      <td>45.823223</td>\n      <td>4.953958</td>\n      <td>1.0</td>\n    </tr>\n    <tr>\n      <th>4</th>\n      <td>FR20047</td>\n      <td>Ain</td>\n      <td>FR</td>\n      <td>pm10</td>\n      <td>12.38</td>\n      <td>2018-02-12 22:00:00+00:00</td>\n      <td>µg/m³</td>\n      <td>EEA France</td>\n      <td>45.823223</td>\n      <td>4.953958</td>\n      <td>1.0</td>\n    </tr>\n  </tbody>\n</table>\n</div>"
          },
          "metadata": {}
        }
      ]
    },
    {
      "metadata": {
        "_uuid": "e70b02fc205ca45859a8520c211e11e3f46a3811",
        "_cell_guid": "c4cf499d-a495-4717-a390-523107b3e1b2"
      },
      "cell_type": "markdown",
      "source": "Great, everything looks good! Now that I'm set up, I'm going to put together a query. I want to select all the values from the \"city\" column for the rows there the \"country\" column is \"us\" (for \"United States\"). \n\n> **What's up with the triple quotation marks (\"\"\")?** These tell Python that everything inside them is a single string, even though we have line breaks in it. The line breaks aren't necessary, but they do make it much easier to read your query."
    },
    {
      "metadata": {
        "_uuid": "42f5bfb36cba82ccf9250a9c71077ce4154b4a32",
        "collapsed": true,
        "_cell_guid": "787efd2f-8f1e-4804-982c-4cd86888c56f",
        "trusted": true
      },
      "cell_type": "code",
      "source": "# query to select all the items from the \"city\" column where the\n# \"country\" column is \"us\"\nquery = \"\"\"SELECT city\n            FROM `bigquery-public-data.openaq.global_air_quality`\n            WHERE country = 'US'\n        \"\"\"",
      "execution_count": 3,
      "outputs": []
    },
    {
      "metadata": {
        "_uuid": "b16b54b3e2d1b478f9179d6e73f0660c6aa973d4",
        "_cell_guid": "baf936ce-7334-4038-9c6a-d2a8d2d4d8e4"
      },
      "cell_type": "markdown",
      "source": "> **Important:**  Note that the argument we pass to FROM is *not* in single or double quotation marks (' or \"). It is in backticks (\\`). If you use quotation marks instead of backticks, you'll get this error when you try to run the query: `Syntax error: Unexpected string literal` \n\nNow I can use this query to get information from our open_aq dataset. I'm using the `BigQueryHelper.query_to_pandas_safe()` method here because it won't run a query if it's larger than 1 gigabyte, which helps me avoid accidentally running a very large query. See the [Scavenger Hunt Handbook ](https://www.kaggle.com/rtatman/sql-scavenger-hunt-handbook/)for more details. "
    },
    {
      "metadata": {
        "_uuid": "ecde0a65fad06ef5d22d896484d8cbe05f874e12",
        "collapsed": true,
        "_cell_guid": "b37cf4b8-1d54-456b-9e52-8e139b166a6e",
        "trusted": true
      },
      "cell_type": "code",
      "source": "# the query_to_pandas_safe will only return a result if it's less\n# than one gigabyte (by default)\nus_cities = open_aq.query_to_pandas_safe(query)",
      "execution_count": 4,
      "outputs": []
    },
    {
      "metadata": {
        "_uuid": "5f3ff35c822b8809cf07180d15ad651bcad4eb46",
        "_cell_guid": "9f642ae3-1b06-479a-9e31-a0f21423ecaf"
      },
      "cell_type": "markdown",
      "source": "Now I've got a dataframe called us_cities, which I can use like I would any other dataframe:"
    },
    {
      "metadata": {
        "_uuid": "2d6b6cca96280cd1a4c4568c723fd35edff7fffa",
        "_cell_guid": "3bc9736e-9b18-44c2-9444-e0946cad8b79",
        "trusted": true
      },
      "cell_type": "code",
      "source": "# What five cities have the most measurements taken there?\nus_cities.city.value_counts().head()",
      "execution_count": 5,
      "outputs": [
        {
          "output_type": "execute_result",
          "execution_count": 5,
          "data": {
            "text/plain": "Phoenix-Mesa-Scottsdale                     85\nHouston                                     81\nLos Angeles-Long Beach-Santa Ana            60\nNew York-Northern New Jersey-Long Island    57\nRiverside-San Bernardino-Ontario            56\nName: city, dtype: int64"
          },
          "metadata": {}
        }
      ]
    },
    {
      "metadata": {
        "_uuid": "654d2baeecb8757e10d02a63ec6cc63fe2df2339",
        "_cell_guid": "fda0a223-5fd5-4524-a402-ecaef2905fa0",
        "_kg_hide-output": true
      },
      "cell_type": "markdown",
      "source": "# Scavenger hunt\n___\n\nNow it's your turn! Here's the questions I would like you to get the data to answer:\n\n* Which countries use a unit other than ppm to measure any type of pollution? (Hint: to get rows where the value *isn't* something, use \"!=\")\n* Which pollutants have a value of exactly 0?\n\nIn order to answer these questions, you can fork this notebook by hitting the blue \"Fork Notebook\" at the very top of this page (you may have to scroll up).  \"Forking\" something is making a copy of it that you can edit on your own without changing the original."
    },
    {
      "metadata": {
        "trusted": true,
        "collapsed": true,
        "_uuid": "0954a0d2c7bf8bdd2be02728f57c7760542b8b19"
      },
      "cell_type": "code",
      "source": "",
      "execution_count": null,
      "outputs": []
    },
    {
      "metadata": {
        "_uuid": "f3a0e42ed73a631441cb32802b9246d1adc6197f"
      },
      "cell_type": "markdown",
      "source": "### Q1. Which countries use a unit other than ppm to measure any type of pollution?"
    },
    {
      "metadata": {
        "trusted": true,
        "_uuid": "a36474a882970e9e8ca7f79dcd1d329f9d077731"
      },
      "cell_type": "code",
      "source": "# Your code goes here :)\n# Countries using a unit other than ppm to measure any type of pollution\n\n# check all the pollutant types using pm standard\nquery = \"\"\"\n        SELECT DISTINCT pollutant\n        FROM `bigquery-public-data.openaq.global_air_quality`;\n\"\"\"\nunique_pollutant_types = open_aq.query_to_pandas_safe(query)\nunique_pollutant_types",
      "execution_count": 7,
      "outputs": [
        {
          "output_type": "execute_result",
          "execution_count": 7,
          "data": {
            "text/plain": "  pollutant\n0      pm25\n1        o3\n2      pm10\n3       no2\n4       so2\n5        co\n6        bc",
            "text/html": "<div>\n<style>\n    .dataframe thead tr:only-child th {\n        text-align: right;\n    }\n\n    .dataframe thead th {\n        text-align: left;\n    }\n\n    .dataframe tbody tr th {\n        vertical-align: top;\n    }\n</style>\n<table border=\"1\" class=\"dataframe\">\n  <thead>\n    <tr style=\"text-align: right;\">\n      <th></th>\n      <th>pollutant</th>\n    </tr>\n  </thead>\n  <tbody>\n    <tr>\n      <th>0</th>\n      <td>pm25</td>\n    </tr>\n    <tr>\n      <th>1</th>\n      <td>o3</td>\n    </tr>\n    <tr>\n      <th>2</th>\n      <td>pm10</td>\n    </tr>\n    <tr>\n      <th>3</th>\n      <td>no2</td>\n    </tr>\n    <tr>\n      <th>4</th>\n      <td>so2</td>\n    </tr>\n    <tr>\n      <th>5</th>\n      <td>co</td>\n    </tr>\n    <tr>\n      <th>6</th>\n      <td>bc</td>\n    </tr>\n  </tbody>\n</table>\n</div>"
          },
          "metadata": {}
        }
      ]
    },
    {
      "metadata": {
        "trusted": true,
        "_uuid": "58a516fc72e79a40f83f2cba2b00897b4e452840"
      },
      "cell_type": "code",
      "source": "# Since each country can use multiple units for air quality, \n# we query using DISTINCT.\nquery = \"\"\"\n        SELECT DISTINCT country\n        FROM `bigquery-public-data.openaq.global_air_quality`\n        WHERE pollutant != 'pm25' OR pollutant != 'pm10';\n\"\"\"\n\n# estimate query size\nopen_aq.estimate_query_size(query)",
      "execution_count": 25,
      "outputs": [
        {
          "output_type": "execute_result",
          "execution_count": 25,
          "data": {
            "text/plain": "0.00014383532106876373"
          },
          "metadata": {}
        }
      ]
    },
    {
      "metadata": {
        "_kg_hide-output": true,
        "trusted": true,
        "_uuid": "d6b0a8b10978db1fd6287f0a83c766178ced7492"
      },
      "cell_type": "code",
      "source": "# run the query and get the result as pandas dataframe\ncountries_using_other_unit = open_aq.query_to_pandas_safe(query)",
      "execution_count": 26,
      "outputs": [
        {
          "output_type": "execute_result",
          "execution_count": 26,
          "data": {
            "text/plain": "   country\n0       US\n1       FR\n2       TH\n3       CL\n4       IN\n5       NL\n6       GB\n7       CH\n8       PT\n9       ES\n10      BR\n11      TR\n12      PE\n13      NO\n14      HK\n15      LV\n16      IT\n17      CN\n18      GH\n19      PL\n20      SI\n21      BD\n22      MT\n23      VN\n24      BA\n25      BE\n26      TW\n27      LT\n28      DE\n29      CO\n..     ...\n34      BH\n35      PH\n36      RU\n37      CA\n38      AD\n39      IE\n40      AT\n41      ID\n42      HU\n43      LK\n44      UG\n45      FI\n46      IL\n47      LU\n48      HR\n49      XK\n50      AE\n51      NP\n52      SG\n53      CZ\n54      MX\n55      DK\n56      ET\n57      KW\n58      MN\n59      AR\n60      RS\n61      ZA\n62      SK\n63      GI\n\n[64 rows x 1 columns]",
            "text/html": "<div>\n<style>\n    .dataframe thead tr:only-child th {\n        text-align: right;\n    }\n\n    .dataframe thead th {\n        text-align: left;\n    }\n\n    .dataframe tbody tr th {\n        vertical-align: top;\n    }\n</style>\n<table border=\"1\" class=\"dataframe\">\n  <thead>\n    <tr style=\"text-align: right;\">\n      <th></th>\n      <th>country</th>\n    </tr>\n  </thead>\n  <tbody>\n    <tr>\n      <th>0</th>\n      <td>US</td>\n    </tr>\n    <tr>\n      <th>1</th>\n      <td>FR</td>\n    </tr>\n    <tr>\n      <th>2</th>\n      <td>TH</td>\n    </tr>\n    <tr>\n      <th>3</th>\n      <td>CL</td>\n    </tr>\n    <tr>\n      <th>4</th>\n      <td>IN</td>\n    </tr>\n    <tr>\n      <th>5</th>\n      <td>NL</td>\n    </tr>\n    <tr>\n      <th>6</th>\n      <td>GB</td>\n    </tr>\n    <tr>\n      <th>7</th>\n      <td>CH</td>\n    </tr>\n    <tr>\n      <th>8</th>\n      <td>PT</td>\n    </tr>\n    <tr>\n      <th>9</th>\n      <td>ES</td>\n    </tr>\n    <tr>\n      <th>10</th>\n      <td>BR</td>\n    </tr>\n    <tr>\n      <th>11</th>\n      <td>TR</td>\n    </tr>\n    <tr>\n      <th>12</th>\n      <td>PE</td>\n    </tr>\n    <tr>\n      <th>13</th>\n      <td>NO</td>\n    </tr>\n    <tr>\n      <th>14</th>\n      <td>HK</td>\n    </tr>\n    <tr>\n      <th>15</th>\n      <td>LV</td>\n    </tr>\n    <tr>\n      <th>16</th>\n      <td>IT</td>\n    </tr>\n    <tr>\n      <th>17</th>\n      <td>CN</td>\n    </tr>\n    <tr>\n      <th>18</th>\n      <td>GH</td>\n    </tr>\n    <tr>\n      <th>19</th>\n      <td>PL</td>\n    </tr>\n    <tr>\n      <th>20</th>\n      <td>SI</td>\n    </tr>\n    <tr>\n      <th>21</th>\n      <td>BD</td>\n    </tr>\n    <tr>\n      <th>22</th>\n      <td>MT</td>\n    </tr>\n    <tr>\n      <th>23</th>\n      <td>VN</td>\n    </tr>\n    <tr>\n      <th>24</th>\n      <td>BA</td>\n    </tr>\n    <tr>\n      <th>25</th>\n      <td>BE</td>\n    </tr>\n    <tr>\n      <th>26</th>\n      <td>TW</td>\n    </tr>\n    <tr>\n      <th>27</th>\n      <td>LT</td>\n    </tr>\n    <tr>\n      <th>28</th>\n      <td>DE</td>\n    </tr>\n    <tr>\n      <th>29</th>\n      <td>CO</td>\n    </tr>\n    <tr>\n      <th>...</th>\n      <td>...</td>\n    </tr>\n    <tr>\n      <th>34</th>\n      <td>BH</td>\n    </tr>\n    <tr>\n      <th>35</th>\n      <td>PH</td>\n    </tr>\n    <tr>\n      <th>36</th>\n      <td>RU</td>\n    </tr>\n    <tr>\n      <th>37</th>\n      <td>CA</td>\n    </tr>\n    <tr>\n      <th>38</th>\n      <td>AD</td>\n    </tr>\n    <tr>\n      <th>39</th>\n      <td>IE</td>\n    </tr>\n    <tr>\n      <th>40</th>\n      <td>AT</td>\n    </tr>\n    <tr>\n      <th>41</th>\n      <td>ID</td>\n    </tr>\n    <tr>\n      <th>42</th>\n      <td>HU</td>\n    </tr>\n    <tr>\n      <th>43</th>\n      <td>LK</td>\n    </tr>\n    <tr>\n      <th>44</th>\n      <td>UG</td>\n    </tr>\n    <tr>\n      <th>45</th>\n      <td>FI</td>\n    </tr>\n    <tr>\n      <th>46</th>\n      <td>IL</td>\n    </tr>\n    <tr>\n      <th>47</th>\n      <td>LU</td>\n    </tr>\n    <tr>\n      <th>48</th>\n      <td>HR</td>\n    </tr>\n    <tr>\n      <th>49</th>\n      <td>XK</td>\n    </tr>\n    <tr>\n      <th>50</th>\n      <td>AE</td>\n    </tr>\n    <tr>\n      <th>51</th>\n      <td>NP</td>\n    </tr>\n    <tr>\n      <th>52</th>\n      <td>SG</td>\n    </tr>\n    <tr>\n      <th>53</th>\n      <td>CZ</td>\n    </tr>\n    <tr>\n      <th>54</th>\n      <td>MX</td>\n    </tr>\n    <tr>\n      <th>55</th>\n      <td>DK</td>\n    </tr>\n    <tr>\n      <th>56</th>\n      <td>ET</td>\n    </tr>\n    <tr>\n      <th>57</th>\n      <td>KW</td>\n    </tr>\n    <tr>\n      <th>58</th>\n      <td>MN</td>\n    </tr>\n    <tr>\n      <th>59</th>\n      <td>AR</td>\n    </tr>\n    <tr>\n      <th>60</th>\n      <td>RS</td>\n    </tr>\n    <tr>\n      <th>61</th>\n      <td>ZA</td>\n    </tr>\n    <tr>\n      <th>62</th>\n      <td>SK</td>\n    </tr>\n    <tr>\n      <th>63</th>\n      <td>GI</td>\n    </tr>\n  </tbody>\n</table>\n<p>64 rows × 1 columns</p>\n</div>"
          },
          "metadata": {}
        }
      ]
    },
    {
      "metadata": {
        "trusted": true,
        "_uuid": "fa44a19730ba9c48ec200be814bdf2c12a712cc8"
      },
      "cell_type": "code",
      "source": "# Store the related information into dataframe and do some more analysis.\nquery = \"\"\"\n        SELECT country, pollutant\n        FROM `bigquery-public-data.openaq.global_air_quality`;\n\"\"\"\n\n# estimate query size\nopen_aq.estimate_query_size(query)",
      "execution_count": 27,
      "outputs": [
        {
          "output_type": "execute_result",
          "execution_count": 27,
          "data": {
            "text/plain": "0.00014383532106876373"
          },
          "metadata": {}
        }
      ]
    },
    {
      "metadata": {
        "trusted": true,
        "_uuid": "8cfe78c97178ce6b5e55217ed1cde2e9562bf2c9"
      },
      "cell_type": "code",
      "source": "country_pollutant = open_aq.query_to_pandas_safe(query)\ncountry_pollutant.head()",
      "execution_count": 28,
      "outputs": [
        {
          "output_type": "execute_result",
          "execution_count": 28,
          "data": {
            "text/plain": "  country pollutant\n0      AD        co\n1      AD        o3\n2      AD        o3\n3      AD        o3\n4      AD       no2",
            "text/html": "<div>\n<style>\n    .dataframe thead tr:only-child th {\n        text-align: right;\n    }\n\n    .dataframe thead th {\n        text-align: left;\n    }\n\n    .dataframe tbody tr th {\n        vertical-align: top;\n    }\n</style>\n<table border=\"1\" class=\"dataframe\">\n  <thead>\n    <tr style=\"text-align: right;\">\n      <th></th>\n      <th>country</th>\n      <th>pollutant</th>\n    </tr>\n  </thead>\n  <tbody>\n    <tr>\n      <th>0</th>\n      <td>AD</td>\n      <td>co</td>\n    </tr>\n    <tr>\n      <th>1</th>\n      <td>AD</td>\n      <td>o3</td>\n    </tr>\n    <tr>\n      <th>2</th>\n      <td>AD</td>\n      <td>o3</td>\n    </tr>\n    <tr>\n      <th>3</th>\n      <td>AD</td>\n      <td>o3</td>\n    </tr>\n    <tr>\n      <th>4</th>\n      <td>AD</td>\n      <td>no2</td>\n    </tr>\n  </tbody>\n</table>\n</div>"
          },
          "metadata": {}
        }
      ]
    },
    {
      "metadata": {
        "trusted": true,
        "_uuid": "c0e432a3e4e9528539d616140b908986f39765f2"
      },
      "cell_type": "code",
      "source": "# total countries in dataset\nprint(len(country_pollutant.country.unique()))\ncountry_pollutant.country.unique()",
      "execution_count": 87,
      "outputs": [
        {
          "output_type": "stream",
          "text": "64\n",
          "name": "stdout"
        },
        {
          "output_type": "execute_result",
          "execution_count": 87,
          "data": {
            "text/plain": "array(['AD', 'AE', 'AR', 'AT', 'AU', 'BA', 'BD', 'BE', 'BH', 'BR', 'CA',\n       'CH', 'CL', 'CN', 'CO', 'CZ', 'DE', 'DK', 'ES', 'ET', 'FI', 'FR',\n       'GB', 'GH', 'GI', 'HK', 'HR', 'HU', 'ID', 'IE', 'IL', 'IN', 'IT',\n       'KW', 'LK', 'LT', 'LU', 'LV', 'MK', 'MN', 'MT', 'MX', 'NG', 'NL',\n       'NO', 'NP', 'PE', 'PH', 'PL', 'PT', 'RS', 'RU', 'SE', 'SG', 'SI',\n       'SK', 'TH', 'TR', 'TW', 'UG', 'US', 'VN', 'XK', 'ZA'], dtype=object)"
          },
          "metadata": {}
        }
      ]
    },
    {
      "metadata": {
        "trusted": true,
        "_uuid": "ccee54760e11ebbf7bcc4f3b1d086865f7b7cd32"
      },
      "cell_type": "code",
      "source": "# total types of pollutant in dataset\ncountry_pollutant.pollutant.unique()",
      "execution_count": 31,
      "outputs": [
        {
          "output_type": "execute_result",
          "execution_count": 31,
          "data": {
            "text/plain": "array(['co', 'o3', 'no2', 'so2', 'pm10', 'pm25', 'bc'], dtype=object)"
          },
          "metadata": {}
        }
      ]
    },
    {
      "metadata": {
        "trusted": true,
        "_uuid": "84c50ce75f8e494b180bdea2037d9dbbb228cd3c"
      },
      "cell_type": "code",
      "source": "# drop the duplicates except for the first occurred row\ncountry_pollutant_nodup = country_pollutant.drop_duplicates()\ncountry_pollutant_nodup.head(10)",
      "execution_count": 33,
      "outputs": [
        {
          "output_type": "execute_result",
          "execution_count": 33,
          "data": {
            "text/plain": "   country pollutant\n0       AD        co\n1       AD        o3\n4       AD       no2\n5       AD       so2\n6       AD      pm10\n7       AE        o3\n8       AE      pm25\n9       AR        co\n12      AR       no2\n15      AR      pm10",
            "text/html": "<div>\n<style>\n    .dataframe thead tr:only-child th {\n        text-align: right;\n    }\n\n    .dataframe thead th {\n        text-align: left;\n    }\n\n    .dataframe tbody tr th {\n        vertical-align: top;\n    }\n</style>\n<table border=\"1\" class=\"dataframe\">\n  <thead>\n    <tr style=\"text-align: right;\">\n      <th></th>\n      <th>country</th>\n      <th>pollutant</th>\n    </tr>\n  </thead>\n  <tbody>\n    <tr>\n      <th>0</th>\n      <td>AD</td>\n      <td>co</td>\n    </tr>\n    <tr>\n      <th>1</th>\n      <td>AD</td>\n      <td>o3</td>\n    </tr>\n    <tr>\n      <th>4</th>\n      <td>AD</td>\n      <td>no2</td>\n    </tr>\n    <tr>\n      <th>5</th>\n      <td>AD</td>\n      <td>so2</td>\n    </tr>\n    <tr>\n      <th>6</th>\n      <td>AD</td>\n      <td>pm10</td>\n    </tr>\n    <tr>\n      <th>7</th>\n      <td>AE</td>\n      <td>o3</td>\n    </tr>\n    <tr>\n      <th>8</th>\n      <td>AE</td>\n      <td>pm25</td>\n    </tr>\n    <tr>\n      <th>9</th>\n      <td>AR</td>\n      <td>co</td>\n    </tr>\n    <tr>\n      <th>12</th>\n      <td>AR</td>\n      <td>no2</td>\n    </tr>\n    <tr>\n      <th>15</th>\n      <td>AR</td>\n      <td>pm10</td>\n    </tr>\n  </tbody>\n</table>\n</div>"
          },
          "metadata": {}
        }
      ]
    },
    {
      "metadata": {
        "trusted": true,
        "_uuid": "b811882469a76388b4516fc10c212887bb4c92fa"
      },
      "cell_type": "code",
      "source": "country_pollutant_nodup[country_pollutant_nodup.country=='AD']",
      "execution_count": 34,
      "outputs": [
        {
          "output_type": "execute_result",
          "execution_count": 34,
          "data": {
            "text/plain": "  country pollutant\n0      AD        co\n1      AD        o3\n4      AD       no2\n5      AD       so2\n6      AD      pm10",
            "text/html": "<div>\n<style>\n    .dataframe thead tr:only-child th {\n        text-align: right;\n    }\n\n    .dataframe thead th {\n        text-align: left;\n    }\n\n    .dataframe tbody tr th {\n        vertical-align: top;\n    }\n</style>\n<table border=\"1\" class=\"dataframe\">\n  <thead>\n    <tr style=\"text-align: right;\">\n      <th></th>\n      <th>country</th>\n      <th>pollutant</th>\n    </tr>\n  </thead>\n  <tbody>\n    <tr>\n      <th>0</th>\n      <td>AD</td>\n      <td>co</td>\n    </tr>\n    <tr>\n      <th>1</th>\n      <td>AD</td>\n      <td>o3</td>\n    </tr>\n    <tr>\n      <th>4</th>\n      <td>AD</td>\n      <td>no2</td>\n    </tr>\n    <tr>\n      <th>5</th>\n      <td>AD</td>\n      <td>so2</td>\n    </tr>\n    <tr>\n      <th>6</th>\n      <td>AD</td>\n      <td>pm10</td>\n    </tr>\n  </tbody>\n</table>\n</div>"
          },
          "metadata": {}
        }
      ]
    },
    {
      "metadata": {
        "trusted": true,
        "_uuid": "6d1e9b44742180a269dfb06718ce7fbb9570ec96"
      },
      "cell_type": "code",
      "source": "country_pollutant_nodup[country_pollutant_nodup.country=='AR']",
      "execution_count": 36,
      "outputs": [
        {
          "output_type": "execute_result",
          "execution_count": 36,
          "data": {
            "text/plain": "   country pollutant\n9       AR        co\n12      AR       no2\n15      AR      pm10\n18      AR      pm25",
            "text/html": "<div>\n<style>\n    .dataframe thead tr:only-child th {\n        text-align: right;\n    }\n\n    .dataframe thead th {\n        text-align: left;\n    }\n\n    .dataframe tbody tr th {\n        vertical-align: top;\n    }\n</style>\n<table border=\"1\" class=\"dataframe\">\n  <thead>\n    <tr style=\"text-align: right;\">\n      <th></th>\n      <th>country</th>\n      <th>pollutant</th>\n    </tr>\n  </thead>\n  <tbody>\n    <tr>\n      <th>9</th>\n      <td>AR</td>\n      <td>co</td>\n    </tr>\n    <tr>\n      <th>12</th>\n      <td>AR</td>\n      <td>no2</td>\n    </tr>\n    <tr>\n      <th>15</th>\n      <td>AR</td>\n      <td>pm10</td>\n    </tr>\n    <tr>\n      <th>18</th>\n      <td>AR</td>\n      <td>pm25</td>\n    </tr>\n  </tbody>\n</table>\n</div>"
          },
          "metadata": {}
        }
      ]
    },
    {
      "metadata": {
        "trusted": true,
        "_uuid": "6662f6b675a5df47fe48a08d5c279cea598b7ece"
      },
      "cell_type": "code",
      "source": "# create new dataframe to represent new information \nimport pandas as pd\n\nnum_of_pollutant_types = country_pollutant_nodup.groupby('country').pollutant.count()\ntypes_of_pollutant_types = country_pollutant_nodup.groupby('country').pollutant.apply(lambda x: '/'.join(x))\n\n\nnum_of_pollutant_types = num_of_pollutant_types.rename('pollutant_nums')\ntypes_of_pollutant_types = types_of_pollutant_types.rename('pollutant_names')\n\npollutant_details_by_country = pd.concat([num_of_pollutant_types, types_of_pollutant_types], axis=1).reset_index()\npollutant_details_by_country.head()",
      "execution_count": 72,
      "outputs": [
        {
          "output_type": "execute_result",
          "execution_count": 72,
          "data": {
            "text/plain": "  country  pollutant_nums          pollutant_names\n0      AD               5       co/o3/no2/so2/pm10\n1      AE               2                  o3/pm25\n2      AR               4         co/no2/pm10/pm25\n3      AT               5       co/o3/no2/so2/pm10\n4      AU               6  co/o3/no2/so2/pm10/pm25",
            "text/html": "<div>\n<style>\n    .dataframe thead tr:only-child th {\n        text-align: right;\n    }\n\n    .dataframe thead th {\n        text-align: left;\n    }\n\n    .dataframe tbody tr th {\n        vertical-align: top;\n    }\n</style>\n<table border=\"1\" class=\"dataframe\">\n  <thead>\n    <tr style=\"text-align: right;\">\n      <th></th>\n      <th>country</th>\n      <th>pollutant_nums</th>\n      <th>pollutant_names</th>\n    </tr>\n  </thead>\n  <tbody>\n    <tr>\n      <th>0</th>\n      <td>AD</td>\n      <td>5</td>\n      <td>co/o3/no2/so2/pm10</td>\n    </tr>\n    <tr>\n      <th>1</th>\n      <td>AE</td>\n      <td>2</td>\n      <td>o3/pm25</td>\n    </tr>\n    <tr>\n      <th>2</th>\n      <td>AR</td>\n      <td>4</td>\n      <td>co/no2/pm10/pm25</td>\n    </tr>\n    <tr>\n      <th>3</th>\n      <td>AT</td>\n      <td>5</td>\n      <td>co/o3/no2/so2/pm10</td>\n    </tr>\n    <tr>\n      <th>4</th>\n      <td>AU</td>\n      <td>6</td>\n      <td>co/o3/no2/so2/pm10/pm25</td>\n    </tr>\n  </tbody>\n</table>\n</div>"
          },
          "metadata": {}
        }
      ]
    },
    {
      "metadata": {
        "trusted": true,
        "collapsed": true,
        "_uuid": "329f674c62ae4cc3146ac710a1e5a996254fae6e"
      },
      "cell_type": "code",
      "source": "import re",
      "execution_count": 84,
      "outputs": []
    },
    {
      "metadata": {
        "trusted": true,
        "_uuid": "f3bce5330d382039323ef209f28e4a99cf726d9a"
      },
      "cell_type": "code",
      "source": "# create new column indicating whether the country has used 'pm' type unit or not\npollutant_details_by_country['has_used_pm'] = pollutant_details_by_country['pollutant_names'].apply(\n                                                    lambda x: 1 if re.findall('pm[0-9]+', x) else 0)\npollutant_details_by_country.head()",
      "execution_count": 85,
      "outputs": [
        {
          "output_type": "execute_result",
          "execution_count": 85,
          "data": {
            "text/plain": "  country  pollutant_nums          pollutant_names  has_used_pm\n0      AD               5       co/o3/no2/so2/pm10            1\n1      AE               2                  o3/pm25            1\n2      AR               4         co/no2/pm10/pm25            1\n3      AT               5       co/o3/no2/so2/pm10            1\n4      AU               6  co/o3/no2/so2/pm10/pm25            1",
            "text/html": "<div>\n<style>\n    .dataframe thead tr:only-child th {\n        text-align: right;\n    }\n\n    .dataframe thead th {\n        text-align: left;\n    }\n\n    .dataframe tbody tr th {\n        vertical-align: top;\n    }\n</style>\n<table border=\"1\" class=\"dataframe\">\n  <thead>\n    <tr style=\"text-align: right;\">\n      <th></th>\n      <th>country</th>\n      <th>pollutant_nums</th>\n      <th>pollutant_names</th>\n      <th>has_used_pm</th>\n    </tr>\n  </thead>\n  <tbody>\n    <tr>\n      <th>0</th>\n      <td>AD</td>\n      <td>5</td>\n      <td>co/o3/no2/so2/pm10</td>\n      <td>1</td>\n    </tr>\n    <tr>\n      <th>1</th>\n      <td>AE</td>\n      <td>2</td>\n      <td>o3/pm25</td>\n      <td>1</td>\n    </tr>\n    <tr>\n      <th>2</th>\n      <td>AR</td>\n      <td>4</td>\n      <td>co/no2/pm10/pm25</td>\n      <td>1</td>\n    </tr>\n    <tr>\n      <th>3</th>\n      <td>AT</td>\n      <td>5</td>\n      <td>co/o3/no2/so2/pm10</td>\n      <td>1</td>\n    </tr>\n    <tr>\n      <th>4</th>\n      <td>AU</td>\n      <td>6</td>\n      <td>co/o3/no2/so2/pm10/pm25</td>\n      <td>1</td>\n    </tr>\n  </tbody>\n</table>\n</div>"
          },
          "metadata": {}
        }
      ]
    },
    {
      "metadata": {
        "trusted": true,
        "_uuid": "0be0d3d77834f86b1add6ae5d2886f3eb4d05785"
      },
      "cell_type": "code",
      "source": "# countries which has not used pm types\n# only 3 countries out of 64 countries in dataset have not used pm types.\npollutant_details_by_country[pollutant_details_by_country.has_used_pm == 0].country",
      "execution_count": 89,
      "outputs": [
        {
          "output_type": "execute_result",
          "execution_count": 89,
          "data": {
            "text/plain": "17    DK\n24    GI\n37    LV\nName: country, dtype: object"
          },
          "metadata": {}
        }
      ]
    },
    {
      "metadata": {
        "trusted": true,
        "collapsed": true,
        "_uuid": "23bf642cc28742d250633dcff3770e0f7cc58bf7"
      },
      "cell_type": "code",
      "source": "",
      "execution_count": null,
      "outputs": []
    },
    {
      "metadata": {
        "_uuid": "db6e8df253df44ef56b39dfaabe020c54497e88f"
      },
      "cell_type": "markdown",
      "source": "### Q2. Which pollutants have a value of exactly 0?"
    },
    {
      "metadata": {
        "trusted": true,
        "collapsed": true,
        "_uuid": "b7ce2ee875e312632f5f9839fe27fde320f31ea1"
      },
      "cell_type": "code",
      "source": "query = \"\"\"\n        SELECT DISTINCT pollutant, value\n        FROM `bigquery-public-data.openaq.global_air_quality`\n        WHERE value = 0.0\n\"\"\"\n\nzero_pollutants = open_aq.query_to_pandas_safe(query)",
      "execution_count": 92,
      "outputs": []
    },
    {
      "metadata": {
        "trusted": true,
        "_uuid": "203f263b27d74681ae93cd0cfa8eec75649d6bd0"
      },
      "cell_type": "code",
      "source": "# all kinds of pollutants has been recorded as 0.0 at least one time.\nzero_pollutants",
      "execution_count": 93,
      "outputs": [
        {
          "output_type": "execute_result",
          "execution_count": 93,
          "data": {
            "text/plain": "  pollutant  value\n0        co    0.0\n1       no2    0.0\n2       so2    0.0\n3      pm25    0.0\n4      pm10    0.0\n5        bc    0.0\n6        o3    0.0",
            "text/html": "<div>\n<style>\n    .dataframe thead tr:only-child th {\n        text-align: right;\n    }\n\n    .dataframe thead th {\n        text-align: left;\n    }\n\n    .dataframe tbody tr th {\n        vertical-align: top;\n    }\n</style>\n<table border=\"1\" class=\"dataframe\">\n  <thead>\n    <tr style=\"text-align: right;\">\n      <th></th>\n      <th>pollutant</th>\n      <th>value</th>\n    </tr>\n  </thead>\n  <tbody>\n    <tr>\n      <th>0</th>\n      <td>co</td>\n      <td>0.0</td>\n    </tr>\n    <tr>\n      <th>1</th>\n      <td>no2</td>\n      <td>0.0</td>\n    </tr>\n    <tr>\n      <th>2</th>\n      <td>so2</td>\n      <td>0.0</td>\n    </tr>\n    <tr>\n      <th>3</th>\n      <td>pm25</td>\n      <td>0.0</td>\n    </tr>\n    <tr>\n      <th>4</th>\n      <td>pm10</td>\n      <td>0.0</td>\n    </tr>\n    <tr>\n      <th>5</th>\n      <td>bc</td>\n      <td>0.0</td>\n    </tr>\n    <tr>\n      <th>6</th>\n      <td>o3</td>\n      <td>0.0</td>\n    </tr>\n  </tbody>\n</table>\n</div>"
          },
          "metadata": {}
        }
      ]
    },
    {
      "metadata": {
        "trusted": true,
        "scrolled": true,
        "_uuid": "4ddbc4269e6f7189c8996faef106bd5fa55ea10c"
      },
      "cell_type": "code",
      "source": "# gather some more information that we're interested with.\nquery = \"\"\"\n        SELECT country, city, pollutant, value, timestamp, latitude, longitude\n        FROM `bigquery-public-data.openaq.global_air_quality`\n        WHERE value = 0.0\n\"\"\"\n\nzero_pollutant_info = open_aq.query_to_pandas_safe(query)\nzero_pollutant_info.head()",
      "execution_count": 116,
      "outputs": [
        {
          "output_type": "execute_result",
          "execution_count": 116,
          "data": {
            "text/plain": "  country    city pollutant  value                 timestamp   latitude  \\\n0      PE    Lima       so2    0.0 2017-07-20 06:00:00+00:00 -12.026111   \n1      PE    Lima       so2    0.0 2017-07-20 06:00:00+00:00 -12.108628   \n2      MT   Msida        co    0.0 2018-01-31 13:00:00+00:00  35.895836   \n3      NO  Bergen      pm10    0.0 2018-01-04 12:00:00+00:00  60.392130   \n4      RU  Moscow        co    0.0 2017-09-11 08:00:00+00:00  55.803337   \n\n   longitude  \n0 -76.918610  \n1 -77.007770  \n2  14.489986  \n3   5.328050  \n4  37.524990  ",
            "text/html": "<div>\n<style>\n    .dataframe thead tr:only-child th {\n        text-align: right;\n    }\n\n    .dataframe thead th {\n        text-align: left;\n    }\n\n    .dataframe tbody tr th {\n        vertical-align: top;\n    }\n</style>\n<table border=\"1\" class=\"dataframe\">\n  <thead>\n    <tr style=\"text-align: right;\">\n      <th></th>\n      <th>country</th>\n      <th>city</th>\n      <th>pollutant</th>\n      <th>value</th>\n      <th>timestamp</th>\n      <th>latitude</th>\n      <th>longitude</th>\n    </tr>\n  </thead>\n  <tbody>\n    <tr>\n      <th>0</th>\n      <td>PE</td>\n      <td>Lima</td>\n      <td>so2</td>\n      <td>0.0</td>\n      <td>2017-07-20 06:00:00+00:00</td>\n      <td>-12.026111</td>\n      <td>-76.918610</td>\n    </tr>\n    <tr>\n      <th>1</th>\n      <td>PE</td>\n      <td>Lima</td>\n      <td>so2</td>\n      <td>0.0</td>\n      <td>2017-07-20 06:00:00+00:00</td>\n      <td>-12.108628</td>\n      <td>-77.007770</td>\n    </tr>\n    <tr>\n      <th>2</th>\n      <td>MT</td>\n      <td>Msida</td>\n      <td>co</td>\n      <td>0.0</td>\n      <td>2018-01-31 13:00:00+00:00</td>\n      <td>35.895836</td>\n      <td>14.489986</td>\n    </tr>\n    <tr>\n      <th>3</th>\n      <td>NO</td>\n      <td>Bergen</td>\n      <td>pm10</td>\n      <td>0.0</td>\n      <td>2018-01-04 12:00:00+00:00</td>\n      <td>60.392130</td>\n      <td>5.328050</td>\n    </tr>\n    <tr>\n      <th>4</th>\n      <td>RU</td>\n      <td>Moscow</td>\n      <td>co</td>\n      <td>0.0</td>\n      <td>2017-09-11 08:00:00+00:00</td>\n      <td>55.803337</td>\n      <td>37.524990</td>\n    </tr>\n  </tbody>\n</table>\n</div>"
          },
          "metadata": {}
        }
      ]
    },
    {
      "metadata": {
        "trusted": true,
        "_uuid": "1e657e7da3b3562cdccae147a5c8ce7030916823"
      },
      "cell_type": "code",
      "source": "# US is the country with the largest records of zero-pollution\n# Does it say that US is the city with the cleanest air in the world?\nzero_pollutant_info.groupby('country').value.count().sort_values(ascending=False).head()",
      "execution_count": 111,
      "outputs": [
        {
          "output_type": "execute_result",
          "execution_count": 111,
          "data": {
            "text/plain": "country\nUS    272\nCL    170\nAT     70\nLT     65\nFR     55\nName: value, dtype: int64"
          },
          "metadata": {}
        }
      ]
    },
    {
      "metadata": {
        "trusted": true,
        "_uuid": "483f4768a73f5ef5ce41cac7966b1e1651d625a0"
      },
      "cell_type": "code",
      "source": "# If we the group extracted dataframe by city,\n# the result seems more trustable in terms of 'the cleanest air'\nzero_pollutant_info.groupby('city').value.count().sort_values(ascending=False).head()",
      "execution_count": 112,
      "outputs": [
        {
          "output_type": "execute_result",
          "execution_count": 112,
          "data": {
            "text/plain": "city\nKaunas                                      19\nNew York-Northern New Jersey-Long Island    15\nVilnius                                     15\nAmt der Steierm�rkischen Landesregierung    12\nDanish Air Quality Monitoring Programme     12\nName: value, dtype: int64"
          },
          "metadata": {}
        }
      ]
    },
    {
      "metadata": {
        "trusted": true,
        "_uuid": "eb7c107db8378ad38fa42db8c27d1588aeb96c2c"
      },
      "cell_type": "code",
      "source": "# now let's discover US in detail.\n\nzero_pollutant_info_US = zero_pollutant_info[zero_pollutant_info.country == 'US']\nzero_pollutant_info_US.head()",
      "execution_count": 117,
      "outputs": [
        {
          "output_type": "execute_result",
          "execution_count": 117,
          "data": {
            "text/plain": "    country  city pollutant  value                 timestamp   latitude  \\\n144      US   037      pm25    0.0 2017-09-26 20:00:00+00:00  47.197630   \n145      US   039      pm25    0.0 2017-09-26 20:00:00+00:00  45.732414   \n146      US   051      pm25    0.0 2017-09-21 18:00:00+00:00  48.186485   \n147      US   MT1      pm25    0.0 2017-10-13 18:00:00+00:00  48.607407   \n148      US  GILA       so2    0.0 2017-12-18 14:00:00+00:00  33.397434   \n\n     longitude  \n144 -120.95823  \n145 -121.49233  \n146 -117.04916  \n147 -112.36384  \n148 -110.87445  ",
            "text/html": "<div>\n<style>\n    .dataframe thead tr:only-child th {\n        text-align: right;\n    }\n\n    .dataframe thead th {\n        text-align: left;\n    }\n\n    .dataframe tbody tr th {\n        vertical-align: top;\n    }\n</style>\n<table border=\"1\" class=\"dataframe\">\n  <thead>\n    <tr style=\"text-align: right;\">\n      <th></th>\n      <th>country</th>\n      <th>city</th>\n      <th>pollutant</th>\n      <th>value</th>\n      <th>timestamp</th>\n      <th>latitude</th>\n      <th>longitude</th>\n    </tr>\n  </thead>\n  <tbody>\n    <tr>\n      <th>144</th>\n      <td>US</td>\n      <td>037</td>\n      <td>pm25</td>\n      <td>0.0</td>\n      <td>2017-09-26 20:00:00+00:00</td>\n      <td>47.197630</td>\n      <td>-120.95823</td>\n    </tr>\n    <tr>\n      <th>145</th>\n      <td>US</td>\n      <td>039</td>\n      <td>pm25</td>\n      <td>0.0</td>\n      <td>2017-09-26 20:00:00+00:00</td>\n      <td>45.732414</td>\n      <td>-121.49233</td>\n    </tr>\n    <tr>\n      <th>146</th>\n      <td>US</td>\n      <td>051</td>\n      <td>pm25</td>\n      <td>0.0</td>\n      <td>2017-09-21 18:00:00+00:00</td>\n      <td>48.186485</td>\n      <td>-117.04916</td>\n    </tr>\n    <tr>\n      <th>147</th>\n      <td>US</td>\n      <td>MT1</td>\n      <td>pm25</td>\n      <td>0.0</td>\n      <td>2017-10-13 18:00:00+00:00</td>\n      <td>48.607407</td>\n      <td>-112.36384</td>\n    </tr>\n    <tr>\n      <th>148</th>\n      <td>US</td>\n      <td>GILA</td>\n      <td>so2</td>\n      <td>0.0</td>\n      <td>2017-12-18 14:00:00+00:00</td>\n      <td>33.397434</td>\n      <td>-110.87445</td>\n    </tr>\n  </tbody>\n</table>\n</div>"
          },
          "metadata": {}
        }
      ]
    },
    {
      "metadata": {
        "trusted": true,
        "_uuid": "b80630c782df6474639c684759c1c74da64a30f4"
      },
      "cell_type": "code",
      "source": "zero_pollutant_info_US.city.value_counts().head()",
      "execution_count": 115,
      "outputs": [
        {
          "output_type": "execute_result",
          "execution_count": 115,
          "data": {
            "text/plain": "New York-Northern New Jersey-Long Island    15\nWashington-Arlington-Alexandria              8\nLos Angeles-Long Beach-Santa Ana             6\nAtlanta-Sandy Springs-Marietta               6\nBridgeport-Stamford-Norwalk                  4\nName: city, dtype: int64"
          },
          "metadata": {}
        }
      ]
    },
    {
      "metadata": {
        "trusted": true,
        "scrolled": true,
        "_uuid": "b0cdf01c9aa66abda2c64933accbd203339562e7"
      },
      "cell_type": "code",
      "source": "# Top 5 US cities with the cleanest air.\ntop5_cleanest_cities_US = zero_pollutant_info_US.city.value_counts().head().index.tolist()\ntop5_cleanest_cities_US",
      "execution_count": 121,
      "outputs": [
        {
          "output_type": "execute_result",
          "execution_count": 121,
          "data": {
            "text/plain": "['New York-Northern New Jersey-Long Island',\n 'Washington-Arlington-Alexandria',\n 'Los Angeles-Long Beach-Santa Ana',\n 'Atlanta-Sandy Springs-Marietta',\n 'Bridgeport-Stamford-Norwalk']"
          },
          "metadata": {}
        }
      ]
    },
    {
      "metadata": {
        "trusted": true,
        "_uuid": "9082e37884592bdbc054bfe7a626c3eb0774b279"
      },
      "cell_type": "code",
      "source": "top5_cleanest_cities_US[0]",
      "execution_count": 131,
      "outputs": [
        {
          "output_type": "execute_result",
          "execution_count": 131,
          "data": {
            "text/plain": "'New York-Northern New Jersey-Long Island'"
          },
          "metadata": {}
        }
      ]
    },
    {
      "metadata": {
        "trusted": true,
        "collapsed": true,
        "_uuid": "a95576c467e3b27d44bb2ec869bc72500ee00d7f"
      },
      "cell_type": "code",
      "source": "",
      "execution_count": null,
      "outputs": []
    },
    {
      "metadata": {
        "trusted": true,
        "_uuid": "0aafe0d1f555848b6823cf0d5615d667f9bd06a7"
      },
      "cell_type": "code",
      "source": "zero_pollutant_info_US_top5 = zero_pollutant_info_US[(zero_pollutant_info_US.city == top5_cleanest_cities_US[0])\n                                                             | (zero_pollutant_info_US.city == top5_cleanest_cities_US[1])\n                                                             | (zero_pollutant_info_US.city == top5_cleanest_cities_US[2])\n                                                             | (zero_pollutant_info_US.city == top5_cleanest_cities_US[3])\n                                                             | (zero_pollutant_info_US.city == top5_cleanest_cities_US[4])\n                                                         ]",
      "execution_count": 133,
      "outputs": []
    },
    {
      "metadata": {
        "trusted": true,
        "_uuid": "f119ecf2d46b96827aab03041787b1359b31932f"
      },
      "cell_type": "code",
      "source": "zero_pollutant_info_US_top5",
      "execution_count": 135,
      "outputs": [
        {
          "output_type": "execute_result",
          "execution_count": 135,
          "data": {
            "text/plain": "    country                                      city pollutant  value  \\\n187      US            Atlanta-Sandy Springs-Marietta        o3    0.0   \n188      US            Atlanta-Sandy Springs-Marietta        o3    0.0   \n191      US           Washington-Arlington-Alexandria       so2    0.0   \n192      US          Los Angeles-Long Beach-Santa Ana        co    0.0   \n193      US          Los Angeles-Long Beach-Santa Ana       so2    0.0   \n197      US  New York-Northern New Jersey-Long Island        co    0.0   \n198      US  New York-Northern New Jersey-Long Island       no2    0.0   \n227      US            Atlanta-Sandy Springs-Marietta        o3    0.0   \n330      US           Washington-Arlington-Alexandria        o3    0.0   \n331      US           Washington-Arlington-Alexandria        o3    0.0   \n683      US               Bridgeport-Stamford-Norwalk        o3    0.0   \n684      US               Bridgeport-Stamford-Norwalk        o3    0.0   \n685      US               Bridgeport-Stamford-Norwalk        o3    0.0   \n686      US               Bridgeport-Stamford-Norwalk       so2    0.0   \n694      US            Atlanta-Sandy Springs-Marietta       so2    0.0   \n695      US            Atlanta-Sandy Springs-Marietta       no2    0.0   \n696      US            Atlanta-Sandy Springs-Marietta       so2    0.0   \n698      US           Washington-Arlington-Alexandria       so2    0.0   \n699      US           Washington-Arlington-Alexandria       so2    0.0   \n700      US           Washington-Arlington-Alexandria        o3    0.0   \n701      US           Washington-Arlington-Alexandria       so2    0.0   \n702      US           Washington-Arlington-Alexandria      pm25    0.0   \n703      US          Los Angeles-Long Beach-Santa Ana        o3    0.0   \n704      US          Los Angeles-Long Beach-Santa Ana        o3    0.0   \n705      US          Los Angeles-Long Beach-Santa Ana       so2    0.0   \n706      US          Los Angeles-Long Beach-Santa Ana       so2    0.0   \n717      US  New York-Northern New Jersey-Long Island        o3    0.0   \n718      US  New York-Northern New Jersey-Long Island        o3    0.0   \n719      US  New York-Northern New Jersey-Long Island        o3    0.0   \n720      US  New York-Northern New Jersey-Long Island        o3    0.0   \n721      US  New York-Northern New Jersey-Long Island        o3    0.0   \n722      US  New York-Northern New Jersey-Long Island       so2    0.0   \n723      US  New York-Northern New Jersey-Long Island       so2    0.0   \n724      US  New York-Northern New Jersey-Long Island        o3    0.0   \n725      US  New York-Northern New Jersey-Long Island        o3    0.0   \n726      US  New York-Northern New Jersey-Long Island       so2    0.0   \n727      US  New York-Northern New Jersey-Long Island        o3    0.0   \n728      US  New York-Northern New Jersey-Long Island       so2    0.0   \n729      US  New York-Northern New Jersey-Long Island        o3    0.0   \n\n                    timestamp   latitude   longitude  \n187 2017-11-01 11:00:00+00:00  33.403900  -84.746100  \n188 2017-11-01 11:00:00+00:00  33.743300  -84.778900  \n191 2017-05-26 04:00:00+00:00  39.028400  -76.817200  \n192 2017-12-07 16:00:00+00:00  33.629990 -117.675870  \n193 2017-07-01 18:00:00+00:00  33.674540 -117.925590  \n197 2016-07-24 07:00:00+00:00  40.757500  -74.200500  \n198 2018-02-09 13:00:00+00:00  40.853550  -73.966100  \n227 2017-11-03 09:00:00+00:00  34.014400  -84.607500  \n330 2017-11-15 10:00:00+00:00  39.024400  -77.490000  \n331 2017-11-15 10:00:00+00:00  38.859400  -77.058900  \n683 2018-02-11 11:00:00+00:00  41.401400  -73.444700  \n684 2018-02-11 11:00:00+00:00  41.118900  -73.336900  \n685 2018-02-11 11:00:00+00:00  41.003600  -73.585300  \n686 2018-02-11 11:00:00+00:00  41.171400  -73.195300  \n694 2018-02-11 11:00:00+00:00  33.690600  -84.273100  \n695 2018-02-11 11:00:00+00:00  33.690600  -84.273100  \n696 2018-02-11 11:00:00+00:00  33.720600  -84.357800  \n698 2018-02-11 11:00:00+00:00  38.771700  -77.108900  \n699 2018-02-11 11:00:00+00:00  39.055300  -76.878300  \n700 2018-02-11 11:00:00+00:00  39.055300  -76.878300  \n701 2018-02-11 11:00:00+00:00  38.895683  -76.958090  \n702 2018-02-11 11:00:00+00:00  38.921850  -77.013176  \n703 2018-02-11 11:00:00+00:00  33.830585 -117.938510  \n704 2018-02-11 11:00:00+00:00  33.925060 -117.952580  \n705 2018-02-11 11:00:00+00:00  33.802418 -118.219930  \n706 2018-02-11 11:00:00+00:00  34.066430 -118.226750  \n717 2018-02-11 11:00:00+00:00  40.819700  -73.948100  \n718 2018-02-11 11:00:00+00:00  40.816100  -73.902200  \n719 2018-02-11 11:00:00+00:00  40.737500  -73.824400  \n720 2018-02-11 11:00:00+00:00  40.735600  -73.406100  \n721 2018-02-11 11:00:00+00:00  40.670250  -74.126080  \n722 2018-02-11 11:00:00+00:00  40.670250  -74.126080  \n723 2018-02-11 11:00:00+00:00  40.787630  -74.676300  \n724 2018-02-11 11:00:00+00:00  40.515250  -74.806755  \n725 2018-02-11 11:00:00+00:00  40.868000  -73.878200  \n726 2018-02-11 11:00:00+00:00  40.720990  -74.192894  \n727 2018-02-11 11:00:00+00:00  40.720990  -74.192894  \n728 2018-02-11 11:00:00+00:00  40.641440  -74.208370  \n729 2018-02-11 11:00:00+00:00  40.462180  -74.429436  ",
            "text/html": "<div>\n<style>\n    .dataframe thead tr:only-child th {\n        text-align: right;\n    }\n\n    .dataframe thead th {\n        text-align: left;\n    }\n\n    .dataframe tbody tr th {\n        vertical-align: top;\n    }\n</style>\n<table border=\"1\" class=\"dataframe\">\n  <thead>\n    <tr style=\"text-align: right;\">\n      <th></th>\n      <th>country</th>\n      <th>city</th>\n      <th>pollutant</th>\n      <th>value</th>\n      <th>timestamp</th>\n      <th>latitude</th>\n      <th>longitude</th>\n    </tr>\n  </thead>\n  <tbody>\n    <tr>\n      <th>187</th>\n      <td>US</td>\n      <td>Atlanta-Sandy Springs-Marietta</td>\n      <td>o3</td>\n      <td>0.0</td>\n      <td>2017-11-01 11:00:00+00:00</td>\n      <td>33.403900</td>\n      <td>-84.746100</td>\n    </tr>\n    <tr>\n      <th>188</th>\n      <td>US</td>\n      <td>Atlanta-Sandy Springs-Marietta</td>\n      <td>o3</td>\n      <td>0.0</td>\n      <td>2017-11-01 11:00:00+00:00</td>\n      <td>33.743300</td>\n      <td>-84.778900</td>\n    </tr>\n    <tr>\n      <th>191</th>\n      <td>US</td>\n      <td>Washington-Arlington-Alexandria</td>\n      <td>so2</td>\n      <td>0.0</td>\n      <td>2017-05-26 04:00:00+00:00</td>\n      <td>39.028400</td>\n      <td>-76.817200</td>\n    </tr>\n    <tr>\n      <th>192</th>\n      <td>US</td>\n      <td>Los Angeles-Long Beach-Santa Ana</td>\n      <td>co</td>\n      <td>0.0</td>\n      <td>2017-12-07 16:00:00+00:00</td>\n      <td>33.629990</td>\n      <td>-117.675870</td>\n    </tr>\n    <tr>\n      <th>193</th>\n      <td>US</td>\n      <td>Los Angeles-Long Beach-Santa Ana</td>\n      <td>so2</td>\n      <td>0.0</td>\n      <td>2017-07-01 18:00:00+00:00</td>\n      <td>33.674540</td>\n      <td>-117.925590</td>\n    </tr>\n    <tr>\n      <th>197</th>\n      <td>US</td>\n      <td>New York-Northern New Jersey-Long Island</td>\n      <td>co</td>\n      <td>0.0</td>\n      <td>2016-07-24 07:00:00+00:00</td>\n      <td>40.757500</td>\n      <td>-74.200500</td>\n    </tr>\n    <tr>\n      <th>198</th>\n      <td>US</td>\n      <td>New York-Northern New Jersey-Long Island</td>\n      <td>no2</td>\n      <td>0.0</td>\n      <td>2018-02-09 13:00:00+00:00</td>\n      <td>40.853550</td>\n      <td>-73.966100</td>\n    </tr>\n    <tr>\n      <th>227</th>\n      <td>US</td>\n      <td>Atlanta-Sandy Springs-Marietta</td>\n      <td>o3</td>\n      <td>0.0</td>\n      <td>2017-11-03 09:00:00+00:00</td>\n      <td>34.014400</td>\n      <td>-84.607500</td>\n    </tr>\n    <tr>\n      <th>330</th>\n      <td>US</td>\n      <td>Washington-Arlington-Alexandria</td>\n      <td>o3</td>\n      <td>0.0</td>\n      <td>2017-11-15 10:00:00+00:00</td>\n      <td>39.024400</td>\n      <td>-77.490000</td>\n    </tr>\n    <tr>\n      <th>331</th>\n      <td>US</td>\n      <td>Washington-Arlington-Alexandria</td>\n      <td>o3</td>\n      <td>0.0</td>\n      <td>2017-11-15 10:00:00+00:00</td>\n      <td>38.859400</td>\n      <td>-77.058900</td>\n    </tr>\n    <tr>\n      <th>683</th>\n      <td>US</td>\n      <td>Bridgeport-Stamford-Norwalk</td>\n      <td>o3</td>\n      <td>0.0</td>\n      <td>2018-02-11 11:00:00+00:00</td>\n      <td>41.401400</td>\n      <td>-73.444700</td>\n    </tr>\n    <tr>\n      <th>684</th>\n      <td>US</td>\n      <td>Bridgeport-Stamford-Norwalk</td>\n      <td>o3</td>\n      <td>0.0</td>\n      <td>2018-02-11 11:00:00+00:00</td>\n      <td>41.118900</td>\n      <td>-73.336900</td>\n    </tr>\n    <tr>\n      <th>685</th>\n      <td>US</td>\n      <td>Bridgeport-Stamford-Norwalk</td>\n      <td>o3</td>\n      <td>0.0</td>\n      <td>2018-02-11 11:00:00+00:00</td>\n      <td>41.003600</td>\n      <td>-73.585300</td>\n    </tr>\n    <tr>\n      <th>686</th>\n      <td>US</td>\n      <td>Bridgeport-Stamford-Norwalk</td>\n      <td>so2</td>\n      <td>0.0</td>\n      <td>2018-02-11 11:00:00+00:00</td>\n      <td>41.171400</td>\n      <td>-73.195300</td>\n    </tr>\n    <tr>\n      <th>694</th>\n      <td>US</td>\n      <td>Atlanta-Sandy Springs-Marietta</td>\n      <td>so2</td>\n      <td>0.0</td>\n      <td>2018-02-11 11:00:00+00:00</td>\n      <td>33.690600</td>\n      <td>-84.273100</td>\n    </tr>\n    <tr>\n      <th>695</th>\n      <td>US</td>\n      <td>Atlanta-Sandy Springs-Marietta</td>\n      <td>no2</td>\n      <td>0.0</td>\n      <td>2018-02-11 11:00:00+00:00</td>\n      <td>33.690600</td>\n      <td>-84.273100</td>\n    </tr>\n    <tr>\n      <th>696</th>\n      <td>US</td>\n      <td>Atlanta-Sandy Springs-Marietta</td>\n      <td>so2</td>\n      <td>0.0</td>\n      <td>2018-02-11 11:00:00+00:00</td>\n      <td>33.720600</td>\n      <td>-84.357800</td>\n    </tr>\n    <tr>\n      <th>698</th>\n      <td>US</td>\n      <td>Washington-Arlington-Alexandria</td>\n      <td>so2</td>\n      <td>0.0</td>\n      <td>2018-02-11 11:00:00+00:00</td>\n      <td>38.771700</td>\n      <td>-77.108900</td>\n    </tr>\n    <tr>\n      <th>699</th>\n      <td>US</td>\n      <td>Washington-Arlington-Alexandria</td>\n      <td>so2</td>\n      <td>0.0</td>\n      <td>2018-02-11 11:00:00+00:00</td>\n      <td>39.055300</td>\n      <td>-76.878300</td>\n    </tr>\n    <tr>\n      <th>700</th>\n      <td>US</td>\n      <td>Washington-Arlington-Alexandria</td>\n      <td>o3</td>\n      <td>0.0</td>\n      <td>2018-02-11 11:00:00+00:00</td>\n      <td>39.055300</td>\n      <td>-76.878300</td>\n    </tr>\n    <tr>\n      <th>701</th>\n      <td>US</td>\n      <td>Washington-Arlington-Alexandria</td>\n      <td>so2</td>\n      <td>0.0</td>\n      <td>2018-02-11 11:00:00+00:00</td>\n      <td>38.895683</td>\n      <td>-76.958090</td>\n    </tr>\n    <tr>\n      <th>702</th>\n      <td>US</td>\n      <td>Washington-Arlington-Alexandria</td>\n      <td>pm25</td>\n      <td>0.0</td>\n      <td>2018-02-11 11:00:00+00:00</td>\n      <td>38.921850</td>\n      <td>-77.013176</td>\n    </tr>\n    <tr>\n      <th>703</th>\n      <td>US</td>\n      <td>Los Angeles-Long Beach-Santa Ana</td>\n      <td>o3</td>\n      <td>0.0</td>\n      <td>2018-02-11 11:00:00+00:00</td>\n      <td>33.830585</td>\n      <td>-117.938510</td>\n    </tr>\n    <tr>\n      <th>704</th>\n      <td>US</td>\n      <td>Los Angeles-Long Beach-Santa Ana</td>\n      <td>o3</td>\n      <td>0.0</td>\n      <td>2018-02-11 11:00:00+00:00</td>\n      <td>33.925060</td>\n      <td>-117.952580</td>\n    </tr>\n    <tr>\n      <th>705</th>\n      <td>US</td>\n      <td>Los Angeles-Long Beach-Santa Ana</td>\n      <td>so2</td>\n      <td>0.0</td>\n      <td>2018-02-11 11:00:00+00:00</td>\n      <td>33.802418</td>\n      <td>-118.219930</td>\n    </tr>\n    <tr>\n      <th>706</th>\n      <td>US</td>\n      <td>Los Angeles-Long Beach-Santa Ana</td>\n      <td>so2</td>\n      <td>0.0</td>\n      <td>2018-02-11 11:00:00+00:00</td>\n      <td>34.066430</td>\n      <td>-118.226750</td>\n    </tr>\n    <tr>\n      <th>717</th>\n      <td>US</td>\n      <td>New York-Northern New Jersey-Long Island</td>\n      <td>o3</td>\n      <td>0.0</td>\n      <td>2018-02-11 11:00:00+00:00</td>\n      <td>40.819700</td>\n      <td>-73.948100</td>\n    </tr>\n    <tr>\n      <th>718</th>\n      <td>US</td>\n      <td>New York-Northern New Jersey-Long Island</td>\n      <td>o3</td>\n      <td>0.0</td>\n      <td>2018-02-11 11:00:00+00:00</td>\n      <td>40.816100</td>\n      <td>-73.902200</td>\n    </tr>\n    <tr>\n      <th>719</th>\n      <td>US</td>\n      <td>New York-Northern New Jersey-Long Island</td>\n      <td>o3</td>\n      <td>0.0</td>\n      <td>2018-02-11 11:00:00+00:00</td>\n      <td>40.737500</td>\n      <td>-73.824400</td>\n    </tr>\n    <tr>\n      <th>720</th>\n      <td>US</td>\n      <td>New York-Northern New Jersey-Long Island</td>\n      <td>o3</td>\n      <td>0.0</td>\n      <td>2018-02-11 11:00:00+00:00</td>\n      <td>40.735600</td>\n      <td>-73.406100</td>\n    </tr>\n    <tr>\n      <th>721</th>\n      <td>US</td>\n      <td>New York-Northern New Jersey-Long Island</td>\n      <td>o3</td>\n      <td>0.0</td>\n      <td>2018-02-11 11:00:00+00:00</td>\n      <td>40.670250</td>\n      <td>-74.126080</td>\n    </tr>\n    <tr>\n      <th>722</th>\n      <td>US</td>\n      <td>New York-Northern New Jersey-Long Island</td>\n      <td>so2</td>\n      <td>0.0</td>\n      <td>2018-02-11 11:00:00+00:00</td>\n      <td>40.670250</td>\n      <td>-74.126080</td>\n    </tr>\n    <tr>\n      <th>723</th>\n      <td>US</td>\n      <td>New York-Northern New Jersey-Long Island</td>\n      <td>so2</td>\n      <td>0.0</td>\n      <td>2018-02-11 11:00:00+00:00</td>\n      <td>40.787630</td>\n      <td>-74.676300</td>\n    </tr>\n    <tr>\n      <th>724</th>\n      <td>US</td>\n      <td>New York-Northern New Jersey-Long Island</td>\n      <td>o3</td>\n      <td>0.0</td>\n      <td>2018-02-11 11:00:00+00:00</td>\n      <td>40.515250</td>\n      <td>-74.806755</td>\n    </tr>\n    <tr>\n      <th>725</th>\n      <td>US</td>\n      <td>New York-Northern New Jersey-Long Island</td>\n      <td>o3</td>\n      <td>0.0</td>\n      <td>2018-02-11 11:00:00+00:00</td>\n      <td>40.868000</td>\n      <td>-73.878200</td>\n    </tr>\n    <tr>\n      <th>726</th>\n      <td>US</td>\n      <td>New York-Northern New Jersey-Long Island</td>\n      <td>so2</td>\n      <td>0.0</td>\n      <td>2018-02-11 11:00:00+00:00</td>\n      <td>40.720990</td>\n      <td>-74.192894</td>\n    </tr>\n    <tr>\n      <th>727</th>\n      <td>US</td>\n      <td>New York-Northern New Jersey-Long Island</td>\n      <td>o3</td>\n      <td>0.0</td>\n      <td>2018-02-11 11:00:00+00:00</td>\n      <td>40.720990</td>\n      <td>-74.192894</td>\n    </tr>\n    <tr>\n      <th>728</th>\n      <td>US</td>\n      <td>New York-Northern New Jersey-Long Island</td>\n      <td>so2</td>\n      <td>0.0</td>\n      <td>2018-02-11 11:00:00+00:00</td>\n      <td>40.641440</td>\n      <td>-74.208370</td>\n    </tr>\n    <tr>\n      <th>729</th>\n      <td>US</td>\n      <td>New York-Northern New Jersey-Long Island</td>\n      <td>o3</td>\n      <td>0.0</td>\n      <td>2018-02-11 11:00:00+00:00</td>\n      <td>40.462180</td>\n      <td>-74.429436</td>\n    </tr>\n  </tbody>\n</table>\n</div>"
          },
          "metadata": {}
        }
      ]
    },
    {
      "metadata": {
        "trusted": true,
        "_uuid": "475d1b81179e3d8799c2b32caec397066f74070c"
      },
      "cell_type": "code",
      "source": "# check how the dataframe above without duplicates\nzero_pollutant_info_US_top5.drop_duplicates(subset='city')",
      "execution_count": 168,
      "outputs": [
        {
          "output_type": "execute_result",
          "execution_count": 168,
          "data": {
            "text/plain": "    country                                      city pollutant  value  \\\n187      US            Atlanta-Sandy Springs-Marietta        o3    0.0   \n191      US           Washington-Arlington-Alexandria       so2    0.0   \n192      US          Los Angeles-Long Beach-Santa Ana        co    0.0   \n197      US  New York-Northern New Jersey-Long Island        co    0.0   \n683      US               Bridgeport-Stamford-Norwalk        o3    0.0   \n\n                    timestamp  latitude  longitude  \n187 2017-11-01 11:00:00+00:00  33.40390  -84.74610  \n191 2017-05-26 04:00:00+00:00  39.02840  -76.81720  \n192 2017-12-07 16:00:00+00:00  33.62999 -117.67587  \n197 2016-07-24 07:00:00+00:00  40.75750  -74.20050  \n683 2018-02-11 11:00:00+00:00  41.40140  -73.44470  ",
            "text/html": "<div>\n<style>\n    .dataframe thead tr:only-child th {\n        text-align: right;\n    }\n\n    .dataframe thead th {\n        text-align: left;\n    }\n\n    .dataframe tbody tr th {\n        vertical-align: top;\n    }\n</style>\n<table border=\"1\" class=\"dataframe\">\n  <thead>\n    <tr style=\"text-align: right;\">\n      <th></th>\n      <th>country</th>\n      <th>city</th>\n      <th>pollutant</th>\n      <th>value</th>\n      <th>timestamp</th>\n      <th>latitude</th>\n      <th>longitude</th>\n    </tr>\n  </thead>\n  <tbody>\n    <tr>\n      <th>187</th>\n      <td>US</td>\n      <td>Atlanta-Sandy Springs-Marietta</td>\n      <td>o3</td>\n      <td>0.0</td>\n      <td>2017-11-01 11:00:00+00:00</td>\n      <td>33.40390</td>\n      <td>-84.74610</td>\n    </tr>\n    <tr>\n      <th>191</th>\n      <td>US</td>\n      <td>Washington-Arlington-Alexandria</td>\n      <td>so2</td>\n      <td>0.0</td>\n      <td>2017-05-26 04:00:00+00:00</td>\n      <td>39.02840</td>\n      <td>-76.81720</td>\n    </tr>\n    <tr>\n      <th>192</th>\n      <td>US</td>\n      <td>Los Angeles-Long Beach-Santa Ana</td>\n      <td>co</td>\n      <td>0.0</td>\n      <td>2017-12-07 16:00:00+00:00</td>\n      <td>33.62999</td>\n      <td>-117.67587</td>\n    </tr>\n    <tr>\n      <th>197</th>\n      <td>US</td>\n      <td>New York-Northern New Jersey-Long Island</td>\n      <td>co</td>\n      <td>0.0</td>\n      <td>2016-07-24 07:00:00+00:00</td>\n      <td>40.75750</td>\n      <td>-74.20050</td>\n    </tr>\n    <tr>\n      <th>683</th>\n      <td>US</td>\n      <td>Bridgeport-Stamford-Norwalk</td>\n      <td>o3</td>\n      <td>0.0</td>\n      <td>2018-02-11 11:00:00+00:00</td>\n      <td>41.40140</td>\n      <td>-73.44470</td>\n    </tr>\n  </tbody>\n</table>\n</div>"
          },
          "metadata": {}
        }
      ]
    },
    {
      "metadata": {
        "trusted": true,
        "_uuid": "26de104d2371e565c1acebffbe3cd63fe6bda220"
      },
      "cell_type": "code",
      "source": "from matplotlib import pyplot as plt\n%matplotlib inline\n\n# Is there any geometric similarity among those 5 cities?\n# we can check roughly using 2D simple graph.\n\nfig, ax = plt.subplots(figsize=(10, 5))\n\nax.scatter(zero_pollutant_info_US.drop_duplicates(subset='city').longitude, \n            zero_pollutant_info_US.drop_duplicates(subset='city').latitude, \n            c='blue', s=3)\n\nax.scatter(zero_pollutant_info_US_top5.drop_duplicates(subset='city').longitude,\n           zero_pollutant_info_US_top5.drop_duplicates(subset='city').latitude,\n           c='red', s=10)\n\nfor i, city in enumerate(zero_pollutant_info_US_top5.drop_duplicates(subset='city').city.tolist()):\n    ax.annotate(city,\n               (zero_pollutant_info_US_top5.drop_duplicates(subset='city').longitude.tolist()[i],\n               zero_pollutant_info_US_top5.drop_duplicates(subset='city').latitude.tolist()[i]\n               )\n               )\n\nplt.show()",
      "execution_count": 176,
      "outputs": [
        {
          "output_type": "display_data",
          "data": {
            "text/plain": "<matplotlib.figure.Figure at 0x7f802f47c978>",
            "image/png": "[encoded data removed]"
          },
          "metadata": {}
        }
      ]
    },
    {
      "metadata": {
        "trusted": true,
        "collapsed": true,
        "_uuid": "dc61f400ddf5409a703641601a987ae7f2c06944"
      },
      "cell_type": "code",
      "source": "# Except for Los-Angeles and Atlanta, \n# there seems little relationship among top5 cities with clean air in US.\n# As we checked the dataframe except duplicates, there seems little relationship among them\n# in aspect with period / time.",
      "execution_count": null,
      "outputs": []
    },
    {
      "metadata": {
        "trusted": true,
        "_uuid": "16d550999ea19849a66ec232660c2aca2cd3b413"
      },
      "cell_type": "code",
      "source": "# For further step, we will check the changes of air pollution by time in Los Angeles.\n\nquery = \"\"\"\n        SELECT pollutant, value, timestamp\n        FROM `bigquery-public-data.openaq.global_air_quality`\n        WHERE country = 'US' AND city = 'Los Angeles-Long Beach-Santa Ana';\n\"\"\"\n\nair_pollution_la = open_aq.query_to_pandas_safe(query)\nair_pollution_la.head()",
      "execution_count": 169,
      "outputs": [
        {
          "output_type": "execute_result",
          "execution_count": 169,
          "data": {
            "text/plain": "  pollutant  value                 timestamp\n0        co  0.030 2017-07-01 18:00:00+00:00\n1        o3  0.049 2017-07-01 18:00:00+00:00\n2       no2  0.002 2017-07-01 18:00:00+00:00\n3       so2  0.000 2017-07-01 18:00:00+00:00\n4        co  0.000 2017-12-07 16:00:00+00:00",
            "text/html": "<div>\n<style>\n    .dataframe thead tr:only-child th {\n        text-align: right;\n    }\n\n    .dataframe thead th {\n        text-align: left;\n    }\n\n    .dataframe tbody tr th {\n        vertical-align: top;\n    }\n</style>\n<table border=\"1\" class=\"dataframe\">\n  <thead>\n    <tr style=\"text-align: right;\">\n      <th></th>\n      <th>pollutant</th>\n      <th>value</th>\n      <th>timestamp</th>\n    </tr>\n  </thead>\n  <tbody>\n    <tr>\n      <th>0</th>\n      <td>co</td>\n      <td>0.030</td>\n      <td>2017-07-01 18:00:00+00:00</td>\n    </tr>\n    <tr>\n      <th>1</th>\n      <td>o3</td>\n      <td>0.049</td>\n      <td>2017-07-01 18:00:00+00:00</td>\n    </tr>\n    <tr>\n      <th>2</th>\n      <td>no2</td>\n      <td>0.002</td>\n      <td>2017-07-01 18:00:00+00:00</td>\n    </tr>\n    <tr>\n      <th>3</th>\n      <td>so2</td>\n      <td>0.000</td>\n      <td>2017-07-01 18:00:00+00:00</td>\n    </tr>\n    <tr>\n      <th>4</th>\n      <td>co</td>\n      <td>0.000</td>\n      <td>2017-12-07 16:00:00+00:00</td>\n    </tr>\n  </tbody>\n</table>\n</div>"
          },
          "metadata": {}
        }
      ]
    },
    {
      "metadata": {
        "trusted": true,
        "_uuid": "d199248b8bc4f5a63c79d1b51ad91f679dd4b2fb"
      },
      "cell_type": "code",
      "source": "air_pollution_la['timestamp'].dtype",
      "execution_count": 174,
      "outputs": [
        {
          "output_type": "execute_result",
          "execution_count": 174,
          "data": {
            "text/plain": "datetime64[ns, UTC]"
          },
          "metadata": {}
        }
      ]
    },
    {
      "metadata": {
        "trusted": true,
        "scrolled": false,
        "_uuid": "faf7db4da06adafa6b039d404fe30ce7ab3f6b95"
      },
      "cell_type": "code",
      "source": "air_pollution_la.sort_values(by='timestamp')",
      "execution_count": 175,
      "outputs": [
        {
          "output_type": "execute_result",
          "execution_count": 175,
          "data": {
            "text/plain": "   pollutant   value                 timestamp\n0         co   0.030 2017-07-01 18:00:00+00:00\n1         o3   0.049 2017-07-01 18:00:00+00:00\n2        no2   0.002 2017-07-01 18:00:00+00:00\n3        so2   0.000 2017-07-01 18:00:00+00:00\n4         co   0.000 2017-12-07 16:00:00+00:00\n57        co   0.320 2018-02-10 21:00:00+00:00\n58        o3   0.042 2018-02-10 21:00:00+00:00\n59       no2   0.011 2018-02-10 21:00:00+00:00\n8         co   0.490 2018-02-11 11:00:00+00:00\n36       no2   0.016 2018-02-11 11:00:00+00:00\n37       no2   0.014 2018-02-11 11:00:00+00:00\n38       no2   0.024 2018-02-11 11:00:00+00:00\n39       no2   0.001 2018-02-11 11:00:00+00:00\n40       no2   0.003 2018-02-11 11:00:00+00:00\n41       no2   0.023 2018-02-11 11:00:00+00:00\n42       no2   0.023 2018-02-11 11:00:00+00:00\n43       so2   0.001 2018-02-11 11:00:00+00:00\n44       so2   0.000 2018-02-11 11:00:00+00:00\n45       so2   0.000 2018-02-11 11:00:00+00:00\n35       no2   0.021 2018-02-11 11:00:00+00:00\n46      pm10  25.000 2018-02-11 11:00:00+00:00\n48      pm10  67.000 2018-02-11 11:00:00+00:00\n49      pm10  40.000 2018-02-11 11:00:00+00:00\n50      pm25  25.600 2018-02-11 11:00:00+00:00\n51      pm25  18.100 2018-02-11 11:00:00+00:00\n52      pm25   9.400 2018-02-11 11:00:00+00:00\n53      pm25  14.900 2018-02-11 11:00:00+00:00\n54      pm25   9.600 2018-02-11 11:00:00+00:00\n55      pm25  10.200 2018-02-11 11:00:00+00:00\n56      pm25  24.000 2018-02-11 11:00:00+00:00\n5         co   0.290 2018-02-11 11:00:00+00:00\n47      pm10  25.000 2018-02-11 11:00:00+00:00\n34       no2   0.024 2018-02-11 11:00:00+00:00\n33       no2   0.021 2018-02-11 11:00:00+00:00\n32       no2   0.022 2018-02-11 11:00:00+00:00\n9         co   1.990 2018-02-11 11:00:00+00:00\n10        co   0.410 2018-02-11 11:00:00+00:00\n11        co   0.390 2018-02-11 11:00:00+00:00\n12        co   0.530 2018-02-11 11:00:00+00:00\n13        co   0.130 2018-02-11 11:00:00+00:00\n14        co   0.150 2018-02-11 11:00:00+00:00\n15        co   1.130 2018-02-11 11:00:00+00:00\n16        co   0.670 2018-02-11 11:00:00+00:00\n17        o3   0.019 2018-02-11 11:00:00+00:00\n18        o3   0.004 2018-02-11 11:00:00+00:00\n19        o3   0.005 2018-02-11 11:00:00+00:00\n20        o3   0.000 2018-02-11 11:00:00+00:00\n21        o3   0.001 2018-02-11 11:00:00+00:00\n22        o3   0.000 2018-02-11 11:00:00+00:00\n23        o3   0.012 2018-02-11 11:00:00+00:00\n24        o3   0.006 2018-02-11 11:00:00+00:00\n25        o3   0.019 2018-02-11 11:00:00+00:00\n26        o3   0.050 2018-02-11 11:00:00+00:00\n27        o3   0.020 2018-02-11 11:00:00+00:00\n28        o3   0.042 2018-02-11 11:00:00+00:00\n6         co   0.570 2018-02-11 11:00:00+00:00\n30        o3   0.001 2018-02-11 11:00:00+00:00\n31       no2   0.008 2018-02-11 11:00:00+00:00\n7         co   0.240 2018-02-11 11:00:00+00:00\n29        o3   0.001 2018-02-11 11:00:00+00:00",
            "text/html": "<div>\n<style>\n    .dataframe thead tr:only-child th {\n        text-align: right;\n    }\n\n    .dataframe thead th {\n        text-align: left;\n    }\n\n    .dataframe tbody tr th {\n        vertical-align: top;\n    }\n</style>\n<table border=\"1\" class=\"dataframe\">\n  <thead>\n    <tr style=\"text-align: right;\">\n      <th></th>\n      <th>pollutant</th>\n      <th>value</th>\n      <th>timestamp</th>\n    </tr>\n  </thead>\n  <tbody>\n    <tr>\n      <th>0</th>\n      <td>co</td>\n      <td>0.030</td>\n      <td>2017-07-01 18:00:00+00:00</td>\n    </tr>\n    <tr>\n      <th>1</th>\n      <td>o3</td>\n      <td>0.049</td>\n      <td>2017-07-01 18:00:00+00:00</td>\n    </tr>\n    <tr>\n      <th>2</th>\n      <td>no2</td>\n      <td>0.002</td>\n      <td>2017-07-01 18:00:00+00:00</td>\n    </tr>\n    <tr>\n      <th>3</th>\n      <td>so2</td>\n      <td>0.000</td>\n      <td>2017-07-01 18:00:00+00:00</td>\n    </tr>\n    <tr>\n      <th>4</th>\n      <td>co</td>\n      <td>0.000</td>\n      <td>2017-12-07 16:00:00+00:00</td>\n    </tr>\n    <tr>\n      <th>57</th>\n      <td>co</td>\n      <td>0.320</td>\n      <td>2018-02-10 21:00:00+00:00</td>\n    </tr>\n    <tr>\n      <th>58</th>\n      <td>o3</td>\n      <td>0.042</td>\n      <td>2018-02-10 21:00:00+00:00</td>\n    </tr>\n    <tr>\n      <th>59</th>\n      <td>no2</td>\n      <td>0.011</td>\n      <td>2018-02-10 21:00:00+00:00</td>\n    </tr>\n    <tr>\n      <th>8</th>\n      <td>co</td>\n      <td>0.490</td>\n      <td>2018-02-11 11:00:00+00:00</td>\n    </tr>\n    <tr>\n      <th>36</th>\n      <td>no2</td>\n      <td>0.016</td>\n      <td>2018-02-11 11:00:00+00:00</td>\n    </tr>\n    <tr>\n      <th>37</th>\n      <td>no2</td>\n      <td>0.014</td>\n      <td>2018-02-11 11:00:00+00:00</td>\n    </tr>\n    <tr>\n      <th>38</th>\n      <td>no2</td>\n      <td>0.024</td>\n      <td>2018-02-11 11:00:00+00:00</td>\n    </tr>\n    <tr>\n      <th>39</th>\n      <td>no2</td>\n      <td>0.001</td>\n      <td>2018-02-11 11:00:00+00:00</td>\n    </tr>\n    <tr>\n      <th>40</th>\n      <td>no2</td>\n      <td>0.003</td>\n      <td>2018-02-11 11:00:00+00:00</td>\n    </tr>\n    <tr>\n      <th>41</th>\n      <td>no2</td>\n      <td>0.023</td>\n      <td>2018-02-11 11:00:00+00:00</td>\n    </tr>\n    <tr>\n      <th>42</th>\n      <td>no2</td>\n      <td>0.023</td>\n      <td>2018-02-11 11:00:00+00:00</td>\n    </tr>\n    <tr>\n      <th>43</th>\n      <td>so2</td>\n      <td>0.001</td>\n      <td>2018-02-11 11:00:00+00:00</td>\n    </tr>\n    <tr>\n      <th>44</th>\n      <td>so2</td>\n      <td>0.000</td>\n      <td>2018-02-11 11:00:00+00:00</td>\n    </tr>\n    <tr>\n      <th>45</th>\n      <td>so2</td>\n      <td>0.000</td>\n      <td>2018-02-11 11:00:00+00:00</td>\n    </tr>\n    <tr>\n      <th>35</th>\n      <td>no2</td>\n      <td>0.021</td>\n      <td>2018-02-11 11:00:00+00:00</td>\n    </tr>\n    <tr>\n      <th>46</th>\n      <td>pm10</td>\n      <td>25.000</td>\n      <td>2018-02-11 11:00:00+00:00</td>\n    </tr>\n    <tr>\n      <th>48</th>\n      <td>pm10</td>\n      <td>67.000</td>\n      <td>2018-02-11 11:00:00+00:00</td>\n    </tr>\n    <tr>\n      <th>49</th>\n      <td>pm10</td>\n      <td>40.000</td>\n      <td>2018-02-11 11:00:00+00:00</td>\n    </tr>\n    <tr>\n      <th>50</th>\n      <td>pm25</td>\n      <td>25.600</td>\n      <td>2018-02-11 11:00:00+00:00</td>\n    </tr>\n    <tr>\n      <th>51</th>\n      <td>pm25</td>\n      <td>18.100</td>\n      <td>2018-02-11 11:00:00+00:00</td>\n    </tr>\n    <tr>\n      <th>52</th>\n      <td>pm25</td>\n      <td>9.400</td>\n      <td>2018-02-11 11:00:00+00:00</td>\n    </tr>\n    <tr>\n      <th>53</th>\n      <td>pm25</td>\n      <td>14.900</td>\n      <td>2018-02-11 11:00:00+00:00</td>\n    </tr>\n    <tr>\n      <th>54</th>\n      <td>pm25</td>\n      <td>9.600</td>\n      <td>2018-02-11 11:00:00+00:00</td>\n    </tr>\n    <tr>\n      <th>55</th>\n      <td>pm25</td>\n      <td>10.200</td>\n      <td>2018-02-11 11:00:00+00:00</td>\n    </tr>\n    <tr>\n      <th>56</th>\n      <td>pm25</td>\n      <td>24.000</td>\n      <td>2018-02-11 11:00:00+00:00</td>\n    </tr>\n    <tr>\n      <th>5</th>\n      <td>co</td>\n      <td>0.290</td>\n      <td>2018-02-11 11:00:00+00:00</td>\n    </tr>\n    <tr>\n      <th>47</th>\n      <td>pm10</td>\n      <td>25.000</td>\n      <td>2018-02-11 11:00:00+00:00</td>\n    </tr>\n    <tr>\n      <th>34</th>\n      <td>no2</td>\n      <td>0.024</td>\n      <td>2018-02-11 11:00:00+00:00</td>\n    </tr>\n    <tr>\n      <th>33</th>\n      <td>no2</td>\n      <td>0.021</td>\n      <td>2018-02-11 11:00:00+00:00</td>\n    </tr>\n    <tr>\n      <th>32</th>\n      <td>no2</td>\n      <td>0.022</td>\n      <td>2018-02-11 11:00:00+00:00</td>\n    </tr>\n    <tr>\n      <th>9</th>\n      <td>co</td>\n      <td>1.990</td>\n      <td>2018-02-11 11:00:00+00:00</td>\n    </tr>\n    <tr>\n      <th>10</th>\n      <td>co</td>\n      <td>0.410</td>\n      <td>2018-02-11 11:00:00+00:00</td>\n    </tr>\n    <tr>\n      <th>11</th>\n      <td>co</td>\n      <td>0.390</td>\n      <td>2018-02-11 11:00:00+00:00</td>\n    </tr>\n    <tr>\n      <th>12</th>\n      <td>co</td>\n      <td>0.530</td>\n      <td>2018-02-11 11:00:00+00:00</td>\n    </tr>\n    <tr>\n      <th>13</th>\n      <td>co</td>\n      <td>0.130</td>\n      <td>2018-02-11 11:00:00+00:00</td>\n    </tr>\n    <tr>\n      <th>14</th>\n      <td>co</td>\n      <td>0.150</td>\n      <td>2018-02-11 11:00:00+00:00</td>\n    </tr>\n    <tr>\n      <th>15</th>\n      <td>co</td>\n      <td>1.130</td>\n      <td>2018-02-11 11:00:00+00:00</td>\n    </tr>\n    <tr>\n      <th>16</th>\n      <td>co</td>\n      <td>0.670</td>\n      <td>2018-02-11 11:00:00+00:00</td>\n    </tr>\n    <tr>\n      <th>17</th>\n      <td>o3</td>\n      <td>0.019</td>\n      <td>2018-02-11 11:00:00+00:00</td>\n    </tr>\n    <tr>\n      <th>18</th>\n      <td>o3</td>\n      <td>0.004</td>\n      <td>2018-02-11 11:00:00+00:00</td>\n    </tr>\n    <tr>\n      <th>19</th>\n      <td>o3</td>\n      <td>0.005</td>\n      <td>2018-02-11 11:00:00+00:00</td>\n    </tr>\n    <tr>\n      <th>20</th>\n      <td>o3</td>\n      <td>0.000</td>\n      <td>2018-02-11 11:00:00+00:00</td>\n    </tr>\n    <tr>\n      <th>21</th>\n      <td>o3</td>\n      <td>0.001</td>\n      <td>2018-02-11 11:00:00+00:00</td>\n    </tr>\n    <tr>\n      <th>22</th>\n      <td>o3</td>\n      <td>0.000</td>\n      <td>2018-02-11 11:00:00+00:00</td>\n    </tr>\n    <tr>\n      <th>23</th>\n      <td>o3</td>\n      <td>0.012</td>\n      <td>2018-02-11 11:00:00+00:00</td>\n    </tr>\n    <tr>\n      <th>24</th>\n      <td>o3</td>\n      <td>0.006</td>\n      <td>2018-02-11 11:00:00+00:00</td>\n    </tr>\n    <tr>\n      <th>25</th>\n      <td>o3</td>\n      <td>0.019</td>\n      <td>2018-02-11 11:00:00+00:00</td>\n    </tr>\n    <tr>\n      <th>26</th>\n      <td>o3</td>\n      <td>0.050</td>\n      <td>2018-02-11 11:00:00+00:00</td>\n    </tr>\n    <tr>\n      <th>27</th>\n      <td>o3</td>\n      <td>0.020</td>\n      <td>2018-02-11 11:00:00+00:00</td>\n    </tr>\n    <tr>\n      <th>28</th>\n      <td>o3</td>\n      <td>0.042</td>\n      <td>2018-02-11 11:00:00+00:00</td>\n    </tr>\n    <tr>\n      <th>6</th>\n      <td>co</td>\n      <td>0.570</td>\n      <td>2018-02-11 11:00:00+00:00</td>\n    </tr>\n    <tr>\n      <th>30</th>\n      <td>o3</td>\n      <td>0.001</td>\n      <td>2018-02-11 11:00:00+00:00</td>\n    </tr>\n    <tr>\n      <th>31</th>\n      <td>no2</td>\n      <td>0.008</td>\n      <td>2018-02-11 11:00:00+00:00</td>\n    </tr>\n    <tr>\n      <th>7</th>\n      <td>co</td>\n      <td>0.240</td>\n      <td>2018-02-11 11:00:00+00:00</td>\n    </tr>\n    <tr>\n      <th>29</th>\n      <td>o3</td>\n      <td>0.001</td>\n      <td>2018-02-11 11:00:00+00:00</td>\n    </tr>\n  </tbody>\n</table>\n</div>"
          },
          "metadata": {}
        }
      ]
    },
    {
      "metadata": {
        "trusted": true,
        "collapsed": true,
        "_uuid": "a595b4b2a4029563282d9f2c19338a112345cf72"
      },
      "cell_type": "code",
      "source": "# In the given dataset, we can see the air pollution data from 2017-07 to 2018-02\n# It is quite difficult to visualize the flowchart of air pollution in LA - \n# since it has different types of air pollution observation and they have not been used consistently.\n# And - most of the observation for air pollution range over 2018-02 period at slightly different spots in LA.\n\n# To graph the air pollution flowchart, we need some domain-related knowledge \n# regarding air pollution metrics and etc.\n\n# SQL Scavenger Hunt: Day 1 notebook closing.",
      "execution_count": null,
      "outputs": []
    },
    {
      "metadata": {
        "trusted": true,
        "collapsed": true,
        "_uuid": "f02731586f97c1de669ef1175850f5727c8a5f5a"
      },
      "cell_type": "code",
      "source": "",
      "execution_count": null,
      "outputs": []
    }
  ],
  "metadata": {
    "kernelspec": {
      "display_name": "Python 3",
      "language": "python",
      "name": "python3"
    },
    "language_info": {
      "name": "python",
      "version": "3.6.4",
      "mimetype": "text/x-python",
      "codemirror_mode": {
        "name": "ipython",
        "version": 3
      },
      "pygments_lexer": "ipython3",
      "nbconvert_exporter": "python",
      "file_extension": ".py"
    }
  },
  "nbformat": 4,
  "nbformat_minor": 1
}