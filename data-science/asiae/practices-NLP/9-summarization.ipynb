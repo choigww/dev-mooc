{
 "cells": [
  {
   "cell_type": "markdown",
   "id": "coral-privacy",
   "metadata": {},
   "source": [
    "# Summarization\n",
    "1. 토큰화\n",
    "2. 중요도 결정\n",
    "3. "
   ]
  },
  {
   "cell_type": "code",
   "execution_count": 11,
   "id": "parliamentary-rouge",
   "metadata": {},
   "outputs": [],
   "source": [
    "min_ratio = 0.001\n",
    "max_ratio = 0.5\n",
    "word_list = ['바나나', '사과', '바나나', '바나나', '포도']"
   ]
  },
  {
   "cell_type": "code",
   "execution_count": 12,
   "id": "patient-procurement",
   "metadata": {},
   "outputs": [],
   "source": [
    "def get_keywords(word_list, min_ratio=0.001, max_ratio=0.5):\n",
    "    count_dict = {}\n",
    "    for word in word_list:\n",
    "        count_dict.setdefault(word, 0)\n",
    "        count_dict[word] += 1\n",
    "    keywords = set()\n",
    "    for word, cnt in count_dict.items():\n",
    "        word_percentage = count_dict[word] / len(word_list)\n",
    "        if word_percentage <= max_ratio and word_percentage >= min_ratio:\n",
    "            keywords.add(word)\n",
    "    return keywords\n",
    "\n",
    "keywords = get_keywords(word_list)\n"
   ]
  },
  {
   "cell_type": "code",
   "execution_count": 13,
   "id": "smart-concord",
   "metadata": {},
   "outputs": [
    {
     "data": {
      "text/plain": [
       "{'사과', '포도'}"
      ]
     },
     "execution_count": 13,
     "metadata": {},
     "output_type": "execute_result"
    }
   ],
   "source": [
    "keywords"
   ]
  },
  {
   "cell_type": "code",
   "execution_count": 14,
   "id": "environmental-afghanistan",
   "metadata": {},
   "outputs": [],
   "source": [
    "sentence = \"바나나 사과 바나나 바나나 포도\""
   ]
  },
  {
   "cell_type": "code",
   "execution_count": 15,
   "id": "rational-slope",
   "metadata": {},
   "outputs": [],
   "source": [
    "def get_window(sentence, keywords):\n",
    "    tokens = sentence.split()\n",
    "    start_idx = 0\n",
    "    end_idx = 0\n",
    "    #print(tokens)\n",
    "    for i, tk in enumerate(tokens):\n",
    "        if tk in keywords:\n",
    "            if not start_idx:\n",
    "                start_idx = i\n",
    "            else:\n",
    "                end_idx = i\n",
    "    #print(start_idx, end_idx)\n",
    "    return tokens[start_idx:end_idx+1]"
   ]
  },
  {
   "cell_type": "code",
   "execution_count": 16,
   "id": "digital-trace",
   "metadata": {},
   "outputs": [
    {
     "data": {
      "text/plain": [
       "array([list(['k ooo aa']), list(['o aaa', 'kkk']), list(['g'])],\n",
       "      dtype=object)"
      ]
     },
     "execution_count": 16,
     "metadata": {},
     "output_type": "execute_result"
    }
   ],
   "source": [
    "import numpy as np\n",
    "np.array([['k ooo aa'], ['o aaa', 'kkk'], ['g']], dtype=object).flatten()"
   ]
  },
  {
   "cell_type": "code",
   "execution_count": 17,
   "id": "interesting-transcription",
   "metadata": {},
   "outputs": [],
   "source": [
    "def compute_sentence_weight(sentence_list):\n",
    "    \n",
    "    total_words = ' '.join(sentence_list)\n",
    "    keywords = get_keywords(total_words.split())\n",
    "#     print(total_words)\n",
    "#     print(keywords)\n",
    "    \n",
    "    score_list = []\n",
    "\n",
    "    for sentence in sentence_list:\n",
    "        window_tokens = get_window(sentence, keywords)\n",
    "        #print('window tokens', window_tokens)\n",
    "        words_num_in_window = len(window_tokens)\n",
    "        keywords_num_in_window = len([1 for word in window_tokens\n",
    "                                 if word in keywords])\n",
    "        \n",
    "        if words_num_in_window == 0:\n",
    "            print(words_num_in_window, keywords_num_in_window)\n",
    "        score = keywords_num_in_window**2 / words_num_in_window\n",
    "        score_list.append(score)\n",
    "    \n",
    "    return [(idx,score) for (idx, score) in enumerate(score_list)]"
   ]
  },
  {
   "cell_type": "code",
   "execution_count": 18,
   "id": "intensive-blair",
   "metadata": {},
   "outputs": [],
   "source": [
    "sentences = [\n",
    "    \"바나나 사과 바나나 바나나 포도 연시 바나나 바나나\",\n",
    "    \"바나나 사과 바나나 바나나 포도 바나나 바나나 바나나 바나나 포도 포도 바나나\",\n",
    "    \"사과 바나나 포도 바나나 사과 바나나 바나나 연시 사과 포도 바나나 연시 연시\"\n",
    "]"
   ]
  },
  {
   "cell_type": "code",
   "execution_count": 20,
   "id": "statewide-marketplace",
   "metadata": {},
   "outputs": [
    {
     "data": {
      "text/plain": [
       "[(0, 1.8), (1, 1.6), (2, 4.454545454545454)]"
      ]
     },
     "execution_count": 20,
     "metadata": {},
     "output_type": "execute_result"
    }
   ],
   "source": [
    "compute_sentence_weight(sentences)"
   ]
  },
  {
   "cell_type": "code",
   "execution_count": 21,
   "id": "level-carroll",
   "metadata": {},
   "outputs": [
    {
     "data": {
      "text/plain": [
       "[(0, 0.8), (1, 2.25)]"
      ]
     },
     "execution_count": 21,
     "metadata": {},
     "output_type": "execute_result"
    }
   ],
   "source": [
    "sentences2 = [\n",
    "'바나나 사과 바나나 바나나 바나나 포도',\n",
    "'바나나 원숭이 바나나 정글 정글'\n",
    "]\n",
    "compute_sentence_weight(sentences2)"
   ]
  },
  {
   "cell_type": "code",
   "execution_count": null,
   "id": "exceptional-recommendation",
   "metadata": {},
   "outputs": [],
   "source": []
  },
  {
   "cell_type": "markdown",
   "id": "pregnant-heating",
   "metadata": {},
   "source": [
    "# 숙제\n",
    "- 네이버 기사 (끝자리 30108) 크롤링\n",
    "    - https://news.naver.com/main/read.nhn?mode=LSD&mid=sec&sid1=105&oid=018&aid=0004430108\n",
    "- 전처리\n",
    "    - 문장을 나중에 나누어야 하므로 문장 구분자 남겨둘 것\n",
    "    - 아니면 문장부터 일단 구분하고 전처리\n",
    "- 키워드 생성 (명사)\n",
    "    - tokenized된 스트링 1개짜리에 대해서 생성\n",
    "- 문장 나누기\n",
    "- 문장 중요도 계산하기\n",
    "- 중요도 높은순 문장 3개 출력"
   ]
  },
  {
   "cell_type": "code",
   "execution_count": null,
   "id": "driven-plymouth",
   "metadata": {},
   "outputs": [],
   "source": []
  },
  {
   "cell_type": "code",
   "execution_count": null,
   "id": "norman-facing",
   "metadata": {},
   "outputs": [],
   "source": []
  },
  {
   "cell_type": "code",
   "execution_count": null,
   "id": "specialized-documentary",
   "metadata": {},
   "outputs": [],
   "source": []
  },
  {
   "cell_type": "code",
   "execution_count": null,
   "id": "institutional-reputation",
   "metadata": {},
   "outputs": [],
   "source": []
  },
  {
   "cell_type": "markdown",
   "id": "charming-experiment",
   "metadata": {},
   "source": [
    "### Test"
   ]
  },
  {
   "cell_type": "code",
   "execution_count": 40,
   "id": "quality-classroom",
   "metadata": {},
   "outputs": [
    {
     "name": "stderr",
     "output_type": "stream",
     "text": [
      "[nltk_data] Downloading package stopwords to\n",
      "[nltk_data]     /Users/choigww/nltk_data...\n",
      "[nltk_data]   Package stopwords is already up-to-date!\n"
     ]
    }
   ],
   "source": [
    "import re\n",
    "import nltk\n",
    "nltk.download('stopwords')\n",
    "stopwords = set(nltk.corpus.stopwords.words('english'))"
   ]
  },
  {
   "cell_type": "code",
   "execution_count": 23,
   "id": "simplified-astrology",
   "metadata": {
    "scrolled": true
   },
   "outputs": [
    {
     "data": {
      "text/plain": [
       "['\\nGraph-based ranking algorithms like Kleinberg’s HITS algorithm (Kleinberg, 1999) or Google’s PageRank (Brin and Page, 1998) have been success- fully used in citation analysis, social networks, and the analysis of the link-structure of the World Wide Web',\n",
       " ' Arguably, these algorithms can be singled out as key elements of the paradigm-shift triggered in the field of Web search technology, by providing a Web page ranking mechanism that relies on the col- lective knowledge of Web architects rather than in- dividual content analysis of Web pages',\n",
       " ' In short, a graph-based ranking algorithm is a way of deciding on the importance of a vertex within a graph, by tak- ing into account global information recursively com- puted from the entire graph, rather than relying only on local vertex-specific information',\n",
       " '\\n']"
      ]
     },
     "execution_count": 23,
     "metadata": {},
     "output_type": "execute_result"
    }
   ],
   "source": [
    "test_text = '''\n",
    "Graph-based ranking algorithms like Kleinberg’s HITS algorithm (Kleinberg, 1999) or Google’s PageRank (Brin and Page, 1998) have been success- fully used in citation analysis, social networks, and the analysis of the link-structure of the World Wide Web. Arguably, these algorithms can be singled out as key elements of the paradigm-shift triggered in the field of Web search technology, by providing a Web page ranking mechanism that relies on the col- lective knowledge of Web architects rather than in- dividual content analysis of Web pages. In short, a graph-based ranking algorithm is a way of deciding on the importance of a vertex within a graph, by tak- ing into account global information recursively com- puted from the entire graph, rather than relying only on local vertex-specific information.\n",
    "'''\n",
    "test_text_split = test_text.split('.')\n",
    "test_text_split"
   ]
  },
  {
   "cell_type": "code",
   "execution_count": 35,
   "id": "respective-gentleman",
   "metadata": {},
   "outputs": [
    {
     "data": {
      "text/plain": [
       "' Graph-based ranking algorithms like Kleinberg s HITS algorithm  Kleinberg  1999  or Google s PageRank  Brin and Page  1998  have been successfully used in citation analysis  social networks  and the analysis of the link-structure of the World Wide Web'"
      ]
     },
     "execution_count": 35,
     "metadata": {},
     "output_type": "execute_result"
    }
   ],
   "source": [
    "re.sub('[^a-zA-Z1-9-]', ' ', test_text_split[0]).replace('- ', \"\")"
   ]
  },
  {
   "cell_type": "code",
   "execution_count": null,
   "id": "experimental-beaver",
   "metadata": {},
   "outputs": [],
   "source": [
    "'''\n",
    "Graph-based ranking algorithms like Kleinberg’s HITS algorithm (Kleinberg, 1999) or Google’s PageRank (Brin and Page, 1998) have been success- fully used in citation analysis, social networks, and the analysis of the link-structure of the World Wide Web. Arguably, these algorithms can be singled out as key elements of the paradigm-shift triggered in the field of Web search technology, by providing a Web page ranking mechanism that relies on the col- lective knowledge of Web architects rather than in- dividual content analysis of Web pages. In short, a graph-based ranking algorithm is a way of deciding on the importance of a vertex within a graph, by tak- ing into account global information recursively com- puted from the entire graph, rather than relying only on local vertex-specific information.\n",
    "Applying a similar line of thinking to lexical or semantic graphs extracted from natural language documents, results in a graph-based ranking model that can be applied to a variety of natural language processing applications, where knowledge drawn from an entire text is used in making local rank- ing/selection decisions. Such text-oriented ranking methods can be applied to tasks ranging from auto- mated extraction of keyphrases, to extractive summa- rization and word sense disambiguation (Mihalcea et al., 2004).\n",
    "\n",
    "Graph-based ranking algorithms like Kleinberg’s HITS algorithm (Kleinberg, 1999) or Google’s PageRank (Brin and Page, 1998) have been success- fully used in citation analysis, social networks, and the analysis of the link-structure of the World Wide Web. Arguably, these algorithms can be singled out as key elements of the paradigm-shift triggered in the field of Web search technology, by providing a Web page ranking mechanism that relies on the col- lective knowledge of Web architects rather than in- dividual content analysis of Web pages. In short, a graph-based ranking algorithm is a way of deciding on the importance of a vertex within a graph, by tak- ing into account global information recursively com- puted from the entire graph, rather than relying only on local vertex-specific information.\n",
    "Applying a similar line of thinking to lexical or semantic graphs extracted from natural language documents, results in a graph-based ranking model that can be applied to a variety of natural language processing applications, where knowledge drawn from an entire text is used in making local rank- ing/selection decisions. Such text-oriented ranking methods can be applied to tasks ranging from auto- mated extraction of keyphrases, to extractive summa- rization and word sense disambiguation (Mihalcea et al., 2004).\n",
    "'''"
   ]
  },
  {
   "cell_type": "code",
   "execution_count": 45,
   "id": "thrown-vanilla",
   "metadata": {},
   "outputs": [
    {
     "data": {
      "text/plain": [
       "[' In this paper, we introduce TextRank – a graph-based ranking model for text processing, and show how this model can be successfully used in natural language applications',\n",
       " ' In particular, we propose two innovative unsupervised methods for keyword and sentence extraction, and show that the results obtained compare favorably with previously published results on established benchmarks',\n",
       " ' ']"
      ]
     },
     "execution_count": 45,
     "metadata": {},
     "output_type": "execute_result"
    }
   ],
   "source": [
    "tt = '''\n",
    "In this paper, we introduce TextRank – a graph-based\n",
    "ranking model for text processing, and show how this\n",
    "model can be successfully used in natural language\n",
    "applications. In particular, we propose two innovative unsupervised methods for keyword and sentence\n",
    "extraction, and show that the results obtained compare favorably with previously published results on\n",
    "established benchmarks.\n",
    "'''\n",
    "\n",
    "' '.join(tt.split('\\n')).split('.')"
   ]
  },
  {
   "cell_type": "code",
   "execution_count": 41,
   "id": "floral-lover",
   "metadata": {
    "collapsed": true
   },
   "outputs": [
    {
     "data": {
      "text/plain": [
       "['Graph-based',\n",
       " 'ranking',\n",
       " 'algorithms',\n",
       " 'like',\n",
       " 'Kleinberg',\n",
       " 'HITS',\n",
       " 'algorithm',\n",
       " 'Kleinberg',\n",
       " '1999',\n",
       " 'Google',\n",
       " 'PageRank',\n",
       " 'Brin',\n",
       " 'Page',\n",
       " '1998',\n",
       " 'successfully',\n",
       " 'used',\n",
       " 'citation',\n",
       " 'analysis',\n",
       " 'social',\n",
       " 'networks',\n",
       " 'analysis',\n",
       " 'link-structure',\n",
       " 'World',\n",
       " 'Wide',\n",
       " 'Web',\n",
       " 'Arguably',\n",
       " 'algorithms',\n",
       " 'singled',\n",
       " 'key',\n",
       " 'elements',\n",
       " 'paradigm-shift',\n",
       " 'triggered',\n",
       " 'field',\n",
       " 'Web',\n",
       " 'search',\n",
       " 'technology',\n",
       " 'providing',\n",
       " 'Web',\n",
       " 'page',\n",
       " 'ranking',\n",
       " 'mechanism',\n",
       " 'relies',\n",
       " 'collective',\n",
       " 'knowledge',\n",
       " 'Web',\n",
       " 'architects',\n",
       " 'rather',\n",
       " 'individual',\n",
       " 'content',\n",
       " 'analysis',\n",
       " 'Web',\n",
       " 'pages',\n",
       " 'In',\n",
       " 'short',\n",
       " 'graph-based',\n",
       " 'ranking',\n",
       " 'algorithm',\n",
       " 'way',\n",
       " 'deciding',\n",
       " 'importance',\n",
       " 'vertex',\n",
       " 'within',\n",
       " 'graph',\n",
       " 'taking',\n",
       " 'account',\n",
       " 'global',\n",
       " 'information',\n",
       " 'recursively',\n",
       " 'computed',\n",
       " 'entire',\n",
       " 'graph',\n",
       " 'rather',\n",
       " 'relying',\n",
       " 'local',\n",
       " 'vertex-specific',\n",
       " 'information']"
      ]
     },
     "execution_count": 41,
     "metadata": {},
     "output_type": "execute_result"
    }
   ],
   "source": [
    "[token for split in test_text_split\\\n",
    "    for token in re.sub('[^a-zA-Z1-9-]', ' ', split).replace('- ', \"\").split()\n",
    "    if token not in stopwords]"
   ]
  },
  {
   "cell_type": "code",
   "execution_count": null,
   "id": "federal-thermal",
   "metadata": {},
   "outputs": [],
   "source": [
    "'''\n",
    "\n",
    "Graph-based ranking algorithms like Kleinberg’s\n",
    "HITS algorithm (Kleinberg, 1999) or Google’s\n",
    "PageRank (Brin and Page, 1998) have been successfully used in citation analysis, social networks, and\n",
    "the analysis of the link-structure of the World Wide\n",
    "Web. Arguably, these algorithms can be singled out\n",
    "as key elements of the paradigm-shift triggered in\n",
    "the field of Web search technology, by providing a\n",
    "Web page ranking mechanism that relies on the collective knowledge of Web architects rather than individual content analysis of Web pages. In short, a\n",
    "graph-based ranking algorithm is a way of deciding\n",
    "on the importance of a vertex within a graph, by taking into account global information recursively computed from the entire graph, rather than relying only\n",
    "on local vertex-specific information\n",
    "'''"
   ]
  },
  {
   "cell_type": "code",
   "execution_count": null,
   "id": "documentary-raise",
   "metadata": {},
   "outputs": [],
   "source": [
    "'''\n",
    "Graph-based ranking algorithms like Kleinberg’s HITS algorithm (Kleinberg, 1999) or Google’s PageRank (Brin and Page, 1998) have been success- fully used in citation analysis, social networks, and the analysis of the link-structure of the World Wide Web. Arguably, these algorithms can be singled out as key elements of the paradigm-shift triggered in the field of Web search technology, by providing a Web page ranking mechanism that relies on the col- lective knowledge of Web architects rather than in- dividual content analysis of Web pages. In short, a graph-based ranking algorithm is a way of deciding on the importance of a vertex within a graph, by tak- ing into account global information recursively com- puted from the entire graph, rather than relying only on local vertex-specific information.\n",
    "Applying a similar line of thinking to lexical or semantic graphs extracted from natural language documents, results in a graph-based ranking model that can be applied to a variety of natural language processing applications, where knowledge drawn from an entire text is used in making local rank- ing/selection decisions. Such text-oriented ranking methods can be applied to tasks ranging from auto- mated extraction of keyphrases, to extractive summa- rization and word sense disambiguation (Mihalcea et al., 2004).\n",
    "In this paper, we introduce the TextRank graph- based ranking model for graphs extracted from nat- ural language texts. We investigate and evaluate the application of TextRank to two language processing tasks consisting of unsupervised keyword and sen-\n",
    "tence extraction, and show that the results obtained with TextRank are competitive with state-of-the-art systems developed in these areas.\n",
    "2 The TextRank Model\n",
    "Graph-based ranking algorithms are essentially a way of deciding the importance of a vertex within a graph, based on global information recursively drawn from the entire graph. The basic idea im- plemented by a graph-based ranking model is that of “voting” or “recommendation”. When one ver- tex links to another one, it is basically casting a vote for that other vertex. The higher the number of votes that are cast for a vertex, the higher the importance of the vertex. Moreover, the importance of the vertex casting the vote determines how important the vote itself is, and this information is also taken into ac- count by the ranking model. Hence, the score asso- ciated with a vertex is determined based on the votes that are cast for it, and the score of the vertices cast- ing these votes.\n",
    "Formally, let be a directed graph with the set of vertices and set of edges , where is a subset of . For a given vertex , let be the set of vertices that point to it (predecessors), and let be the set of vertices that vertex points\n",
    "TextRank: Bringing Order into Texts\n",
    "Rada Mihalcea and Paul Tarau\n",
    "Department of Computer Science University of North Texas\n",
    "rada,tarau @cs.unt.edu\n",
    "'''"
   ]
  },
  {
   "cell_type": "code",
   "execution_count": null,
   "id": "arbitrary-mambo",
   "metadata": {},
   "outputs": [],
   "source": []
  },
  {
   "cell_type": "code",
   "execution_count": null,
   "id": "canadian-barrel",
   "metadata": {},
   "outputs": [],
   "source": []
  },
  {
   "cell_type": "code",
   "execution_count": null,
   "id": "alternative-stranger",
   "metadata": {},
   "outputs": [],
   "source": []
  },
  {
   "cell_type": "code",
   "execution_count": null,
   "id": "unnecessary-treasury",
   "metadata": {},
   "outputs": [],
   "source": []
  }
 ],
 "metadata": {
  "kernelspec": {
   "display_name": "Python 3",
   "language": "python",
   "name": "python3"
  },
  "language_info": {
   "codemirror_mode": {
    "name": "ipython",
    "version": 3
   },
   "file_extension": ".py",
   "mimetype": "text/x-python",
   "name": "python",
   "nbconvert_exporter": "python",
   "pygments_lexer": "ipython3",
   "version": "3.7.9"
  }
 },
 "nbformat": 4,
 "nbformat_minor": 5
}
