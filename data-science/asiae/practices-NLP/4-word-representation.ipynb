{
 "cells": [
  {
   "cell_type": "code",
   "execution_count": 4,
   "id": "opposite-efficiency",
   "metadata": {},
   "outputs": [],
   "source": [
    "import numpy as np"
   ]
  },
  {
   "cell_type": "code",
   "execution_count": 5,
   "id": "median-windsor",
   "metadata": {},
   "outputs": [],
   "source": [
    "word_ls = ['monkey', 'banana', 'apple', 'apple']"
   ]
  },
  {
   "cell_type": "code",
   "execution_count": 6,
   "id": "attractive-kidney",
   "metadata": {},
   "outputs": [],
   "source": [
    "def one_hot_encode(word_ls):\n",
    "    unique_num = len(set(word_ls))\n",
    "    container = [[] for _ in range(len(word_ls))]\n",
    "    \n",
    "    \n",
    "    dictionary = {}\n",
    "    \n",
    "    for i, word in enumerate(word_ls):\n",
    "        vector = [0 for _ in range(unique_num)]\n",
    "        if word not in dictionary.keys():\n",
    "            vector[i] = 1\n",
    "            container[i] = vector\n",
    "            dictionary[word] = i\n",
    "        else:\n",
    "            vector[dictionary[word]] = 1\n",
    "            container[i] = vector\n",
    "            \n",
    "    return container"
   ]
  },
  {
   "cell_type": "code",
   "execution_count": 7,
   "id": "structural-genesis",
   "metadata": {},
   "outputs": [],
   "source": [
    "one_hot_vectors = one_hot_encode(word_ls)"
   ]
  },
  {
   "cell_type": "code",
   "execution_count": 8,
   "id": "contained-mills",
   "metadata": {},
   "outputs": [
    {
     "data": {
      "text/plain": [
       "[[1, 0, 0], [0, 1, 0], [0, 0, 1], [0, 0, 1]]"
      ]
     },
     "execution_count": 8,
     "metadata": {},
     "output_type": "execute_result"
    }
   ],
   "source": [
    "one_hot_vectors"
   ]
  },
  {
   "cell_type": "code",
   "execution_count": null,
   "id": "divine-comfort",
   "metadata": {},
   "outputs": [],
   "source": []
  },
  {
   "cell_type": "code",
   "execution_count": 9,
   "id": "nonprofit-saturday",
   "metadata": {},
   "outputs": [],
   "source": [
    "class A():\n",
    "    def __init__(self, name):\n",
    "        self.name = name\n",
    "    def __str__(self):\n",
    "        return \"I am {}\".format(self.name)"
   ]
  },
  {
   "cell_type": "code",
   "execution_count": 10,
   "id": "hindu-concrete",
   "metadata": {},
   "outputs": [],
   "source": [
    "class B():\n",
    "    def fit_transform(self, name):\n",
    "        return A(name)"
   ]
  },
  {
   "cell_type": "code",
   "execution_count": 11,
   "id": "resistant-belief",
   "metadata": {},
   "outputs": [
    {
     "name": "stdout",
     "output_type": "stream",
     "text": [
      "I am A\n"
     ]
    }
   ],
   "source": [
    "b = B()\n",
    "a = b.fit_transform('A')\n",
    "print(a)"
   ]
  },
  {
   "cell_type": "code",
   "execution_count": null,
   "id": "induced-summit",
   "metadata": {},
   "outputs": [],
   "source": []
  },
  {
   "cell_type": "markdown",
   "id": "capable-blood",
   "metadata": {},
   "source": [
    "## 거리 / 유사도"
   ]
  },
  {
   "cell_type": "code",
   "execution_count": 12,
   "id": "detailed-senator",
   "metadata": {},
   "outputs": [],
   "source": [
    "word_embedding_dic = {\n",
    "    '사과' : [1.0, 0.5],\n",
    "    '바나나' : [0.9, 1.2],\n",
    "    '원숭이' : [0.5, 1.5]\n",
    "}"
   ]
  },
  {
   "cell_type": "code",
   "execution_count": 24,
   "id": "extreme-doctrine",
   "metadata": {},
   "outputs": [],
   "source": [
    "def euclidean_dist(x, y):\n",
    "    #return np.sqrt(np.sum([(x[i]-y[i])**2 for i in range(len(x)) if len(x) == len(y)]))\n",
    "    return np.sqrt(np.sum((np.array(x)-np.array(y))**2))"
   ]
  },
  {
   "cell_type": "code",
   "execution_count": 25,
   "id": "fatal-vertical",
   "metadata": {},
   "outputs": [
    {
     "data": {
      "text/plain": [
       "0.7071067811865475"
      ]
     },
     "execution_count": 25,
     "metadata": {},
     "output_type": "execute_result"
    }
   ],
   "source": [
    "euclidean_dist(word_embedding_dic['사과'],\n",
    "              word_embedding_dic['바나나'])"
   ]
  },
  {
   "cell_type": "code",
   "execution_count": null,
   "id": "alleged-sensitivity",
   "metadata": {},
   "outputs": [],
   "source": []
  },
  {
   "cell_type": "code",
   "execution_count": 26,
   "id": "mechanical-veteran",
   "metadata": {},
   "outputs": [],
   "source": [
    "def cosine_sim(x, y):\n",
    "    return (np.dot(x,y))/(np.linalg.norm(x)*np.linalg.norm(y))"
   ]
  },
  {
   "cell_type": "code",
   "execution_count": 27,
   "id": "linear-sucking",
   "metadata": {},
   "outputs": [
    {
     "data": {
      "text/plain": [
       "0.8944271909999159"
      ]
     },
     "execution_count": 27,
     "metadata": {},
     "output_type": "execute_result"
    }
   ],
   "source": [
    "cosine_sim(word_embedding_dic['사과'],\n",
    "          word_embedding_dic['바나나'])"
   ]
  },
  {
   "cell_type": "code",
   "execution_count": null,
   "id": "aquatic-contractor",
   "metadata": {},
   "outputs": [],
   "source": []
  },
  {
   "cell_type": "code",
   "execution_count": 28,
   "id": "imported-cycle",
   "metadata": {},
   "outputs": [],
   "source": [
    "s1 = \"대부분 원숭이는 바나나를 좋아합니다.\"\n",
    "s2 = \"대부분 원숭이는 바나나를 싫어합니다.\""
   ]
  },
  {
   "cell_type": "code",
   "execution_count": 29,
   "id": "human-syndrome",
   "metadata": {},
   "outputs": [],
   "source": [
    "def jaccard_sim(x, y):\n",
    "    s1_sp = s1.split(' ')\n",
    "    s2_sp = s2.split(' ')\n",
    "    \n",
    "    inter = set(s1_sp).intersection(set(s2_sp))\n",
    "    union = set(s1_sp).union(set(s2_sp))\n",
    "    return len(inter)/len(union)"
   ]
  },
  {
   "cell_type": "code",
   "execution_count": 30,
   "id": "african-bundle",
   "metadata": {},
   "outputs": [
    {
     "data": {
      "text/plain": [
       "0.6"
      ]
     },
     "execution_count": 30,
     "metadata": {},
     "output_type": "execute_result"
    }
   ],
   "source": [
    "jaccard_sim(s1, s2)"
   ]
  },
  {
   "cell_type": "code",
   "execution_count": null,
   "id": "purple-mystery",
   "metadata": {},
   "outputs": [],
   "source": []
  },
  {
   "cell_type": "code",
   "execution_count": null,
   "id": "perfect-playback",
   "metadata": {},
   "outputs": [],
   "source": []
  }
 ],
 "metadata": {
  "kernelspec": {
   "display_name": "Python 3",
   "language": "python",
   "name": "python3"
  },
  "language_info": {
   "codemirror_mode": {
    "name": "ipython",
    "version": 3
   },
   "file_extension": ".py",
   "mimetype": "text/x-python",
   "name": "python",
   "nbconvert_exporter": "python",
   "pygments_lexer": "ipython3",
   "version": "3.7.9"
  }
 },
 "nbformat": 4,
 "nbformat_minor": 5
}
