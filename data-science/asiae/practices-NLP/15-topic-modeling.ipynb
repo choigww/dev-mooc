{
 "cells": [
  {
   "cell_type": "markdown",
   "id": "reasonable-voice",
   "metadata": {},
   "source": [
    "# LSA\n",
    "Latent Semantic Analysis\n",
    "\n",
    "TDM\n",
    "- (단어-주제행렬)\\*특잇값\\*(주제-문서행렬)\n",
    "    - U = (단어-주제)\n",
    "    - s = 특잇값\n",
    "    - Vt = (주제-문서)\n",
    "- **단어주제 - 주제문서**"
   ]
  },
  {
   "cell_type": "code",
   "execution_count": 5,
   "id": "decreased-thinking",
   "metadata": {},
   "outputs": [
    {
     "name": "stderr",
     "output_type": "stream",
     "text": [
      "/opt/anaconda3/envs/AI_dev/lib/python3.7/importlib/_bootstrap.py:219: RuntimeWarning: numpy.ufunc size changed, may indicate binary incompatibility. Expected 192 from C header, got 216 from PyObject\n",
      "  return f(*args, **kwds)\n"
     ]
    }
   ],
   "source": [
    "import numpy as np\n",
    "from collections import defaultdict\n",
    "from sklearn.metrics.pairwise import cosine_similarity\n",
    "from sklearn.decomposition import randomized_svd\n",
    "from sklearn.feature_extraction.text import CountVectorizer"
   ]
  },
  {
   "cell_type": "code",
   "execution_count": 311,
   "id": "weird-divide",
   "metadata": {},
   "outputs": [],
   "source": [
    "class LSA:\n",
    "    def __init__(self, doc_ls, topic_num, verbose=True):\n",
    "        self.doc_ls = doc_ls\n",
    "        self.k = topic_num\n",
    "        self.term2idx, self.idx2term = self.toIdxDict(self.doc_ls, split=True)\n",
    "        self.doc2idx, self.idx2doc = self.toIdxDict(self.doc_ls, split=False)\n",
    "        \n",
    "        self.tdm = self.TDM(doc_ls)        \n",
    "        self.U, self.s, self.Vt = self.SVD(self.tdm)\n",
    "        \n",
    "        if verbose:\n",
    "            print('TDM\\n', self.tdm, '\\n===')\n",
    "            print('U - 단어-주제 행렬\\n', self.U, '\\n===')\n",
    "            print('s\\n', self.s, '\\n===')\n",
    "            print('Vt - 주제-문서 행렬 \\n', self.Vt, '\\n===')\n",
    "            \n",
    "#         self.term_mat = self.TermVectorMatrix(self.U)\n",
    "#         self.doc_mat = self.DocVectorMatrix(self.Vt)\n",
    "        \n",
    "    def toIdxDict(self, ls, split):\n",
    "        comp2id = defaultdict(lambda : len(comp2id))\n",
    "        \n",
    "        if split:\n",
    "            ls_split = [ls_.split() for ls_ in ls]\n",
    "            [comp2id[token] for sp in ls_split for token in sp]\n",
    "        \n",
    "        else:\n",
    "            [comp2id[doc] for doc in ls]\n",
    "        \n",
    "        id2comp = {v:k for (k,v) in comp2id.items()}\n",
    "        #print(comp2id, id2comp)\n",
    "        return comp2id, id2comp\n",
    "    \n",
    "    def TDM(self, doc_ls):\n",
    "        tdm = np.zeros((len(self.term2idx), len(self.doc2idx)))\n",
    "        dtm = tdm.T\n",
    "        \n",
    "        for i, doc in enumerate(doc_ls):\n",
    "            term_ls = doc.split()\n",
    "            count = [0] * len(self.term2idx)\n",
    "            for term in term_ls:\n",
    "                if term in self.term2idx.keys():\n",
    "                    count[self.term2idx[term]] += 1\n",
    "            dtm[i] = np.array(count)\n",
    "        \n",
    "        return dtm.T\n",
    "        \n",
    "    \n",
    "    def SVD(self, tdm):\n",
    "        return randomized_svd(tdm, n_components = self.k)\n",
    "    \n",
    "    def topicModeling(self):\n",
    "        \n",
    "        topic_idx_dict = {topic_idx:0 for topic_idx in range(self.k)}\n",
    "        topic_idx_by_keywords = self.U.argmax(axis=1) \n",
    "        #print(topic_idx_by_keywords)\n",
    "        #print(self.term2idx.keys())\n",
    "#         term2topic = {term:topic_idx for (term, topic_idx) in zip(self.term2idx.keys(),\n",
    "#                                                                    topic_idx_by_keywords)}\n",
    "        \n",
    "        term2topic = {term:topic_idx for term, topic_idx in zip(self.term2idx.keys(),\n",
    "                                                                topic_idx_by_keywords)}\n",
    "        #print(term2topic)\n",
    "        #print(term2topic)\n",
    "        \n",
    "        topic2term = {topic_idx:[] for topic_idx in term2topic.values()}\n",
    "        [topic2term[topic_idx].append(term) for term, topic_idx in term2topic.items()]\n",
    "        print('주제별 키워드\\n', topic2term, '\\n')\n",
    "                \n",
    "        # 주제별 Top 5 keywords\n",
    "        top=5\n",
    "        for idx, topic in enumerate(self.U.T):\n",
    "            print(f\"Topic {idx+1} - Top {top} keywords\")\n",
    "            idx = np.argsort(-topic)[:n]\n",
    "            for i in idx:\n",
    "                print(vocab[i], topic[i], end=' ')\n",
    "            print('\\n')\n",
    "        print('===')\n",
    "        \n",
    "        doc2topic = {self.idx2doc[i]:arr.argmax() for i, arr in enumerate(self.Vt.T)}\n",
    "        print('문서별 주제\\n', doc2topic)\n",
    "        \n",
    "    \n",
    "    # 입력받은 단어의 인덱스에 대응하는 주제 가중치 벡터를 리턴\n",
    "    def getTermVector(self, term):\n",
    "        vect = self.U[self.term2idx[term]]\n",
    "        return vect\n",
    "    \n",
    "    # 입력받은 문서의 인덱스에 대응하는 주제 가중치 벡터를 리턴\n",
    "    def getDocVector(self, doc):\n",
    "        vect = self.Vt.T[self.doc2idx[doc]]\n",
    "        return vect\n",
    "    \n",
    "    def getTermSimilarity(self, term1, term2):\n",
    "        #print(self.getTermVector(term1), self.getTermVector(term2))\n",
    "        return cosine_similarity([self.getTermVector(term1)], [self.getTermVector(term2)])\n",
    "    \n",
    "    def getDocSimilarity(self, doc1, doc2):\n",
    "        #print([self.getDocVector(doc1)], [self.getDocVector(doc2)])\n",
    "        return cosine_similarity([self.getDocVector(doc1)], [self.getDocVector(doc2)])"
   ]
  },
  {
   "cell_type": "code",
   "execution_count": 312,
   "id": "legendary-marina",
   "metadata": {},
   "outputs": [],
   "source": [
    "doc_ls = ['바나나 사과 포도 포도 짜장면',\n",
    "         '사과 포도',\n",
    "         '포도 바나나',\n",
    "         '짜장면 짬뽕 탕수육',\n",
    "         '볶음밥 탕수육',\n",
    "         '짜장면 짬뽕',\n",
    "         '라면 스시',\n",
    "         '스시 짜장면',\n",
    "         '가츠동 스시 소바',\n",
    "         '된장찌개 김치찌개 김치',\n",
    "         '김치 된장 짜장면',\n",
    "         '비빔밥 김치'\n",
    "         ]"
   ]
  },
  {
   "cell_type": "code",
   "execution_count": 313,
   "id": "fresh-single",
   "metadata": {},
   "outputs": [
    {
     "name": "stdout",
     "output_type": "stream",
     "text": [
      "TDM\n",
      " [[1. 0. 1. 0. 0. 0. 0. 0. 0. 0. 0. 0.]\n",
      " [1. 1. 0. 0. 0. 0. 0. 0. 0. 0. 0. 0.]\n",
      " [2. 1. 1. 0. 0. 0. 0. 0. 0. 0. 0. 0.]\n",
      " [1. 0. 0. 1. 0. 1. 0. 1. 0. 0. 1. 0.]\n",
      " [0. 0. 0. 1. 0. 1. 0. 0. 0. 0. 0. 0.]\n",
      " [0. 0. 0. 1. 1. 0. 0. 0. 0. 0. 0. 0.]\n",
      " [0. 0. 0. 0. 1. 0. 0. 0. 0. 0. 0. 0.]\n",
      " [0. 0. 0. 0. 0. 0. 1. 0. 0. 0. 0. 0.]\n",
      " [0. 0. 0. 0. 0. 0. 1. 1. 1. 0. 0. 0.]\n",
      " [0. 0. 0. 0. 0. 0. 0. 0. 1. 0. 0. 0.]\n",
      " [0. 0. 0. 0. 0. 0. 0. 0. 1. 0. 0. 0.]\n",
      " [0. 0. 0. 0. 0. 0. 0. 0. 0. 1. 0. 0.]\n",
      " [0. 0. 0. 0. 0. 0. 0. 0. 0. 1. 0. 0.]\n",
      " [0. 0. 0. 0. 0. 0. 0. 0. 0. 1. 1. 1.]\n",
      " [0. 0. 0. 0. 0. 0. 0. 0. 0. 0. 1. 0.]\n",
      " [0. 0. 0. 0. 0. 0. 0. 0. 0. 0. 0. 1.]] \n",
      "===\n",
      "U - 단어-주제 행렬\n",
      " [[ 0.34843127 -0.19370961  0.01592593  0.03744775]\n",
      " [ 0.34843127 -0.19370961  0.01592593  0.03744775]\n",
      " [ 0.69686254 -0.38741921  0.03185185  0.07489549]\n",
      " [ 0.48563449  0.58415588 -0.07468389 -0.18737521]\n",
      " [ 0.12448389  0.3555557  -0.10291629 -0.34945274]\n",
      " [ 0.0736207   0.24835482 -0.0884251  -0.3228814 ]\n",
      " [ 0.00783718  0.04982669 -0.02671012 -0.10775805]\n",
      " [ 0.00733397  0.05136218 -0.15788435  0.18435345]\n",
      " [ 0.06889362  0.25600828 -0.52268348  0.55238845]\n",
      " [ 0.0082077   0.06425309 -0.22621639  0.27669846]\n",
      " [ 0.0082077   0.06425309 -0.22621639  0.27669846]\n",
      " [ 0.00922069  0.0845808   0.26439785  0.1860217 ]\n",
      " [ 0.00922069  0.0845808   0.26439785  0.1860217 ]\n",
      " [ 0.07739641  0.33700147  0.61090353  0.37136542]\n",
      " [ 0.0599366   0.18480907  0.16197315  0.06140467]\n",
      " [ 0.00823912  0.06761161  0.18453253  0.12393905]] \n",
      "===\n",
      "s\n",
      " [3.22393767 2.44629785 2.07618557 1.99908862] \n",
      "===\n",
      "Vt - 주제-문서 행렬 \n",
      " [[ 0.79909178  0.32422891  0.32422891  0.21208198  0.02526658  0.18924633\n",
      "   0.02364425  0.17200336  0.02646113  0.02972694  0.19323187  0.0265624 ]\n",
      " [-0.23631699 -0.2375544  -0.2375544   0.48565893  0.12189092  0.38413621\n",
      "   0.12564719  0.34344312  0.15718219  0.20690983  0.45209802  0.16539812]\n",
      " [ 0.01005289  0.02301229  0.02301229 -0.12813175 -0.05545517 -0.08554157\n",
      "  -0.32779721 -0.2877235  -0.46966719  0.548939    0.33628631  0.38312378]\n",
      " [ 0.01866414  0.05619723  0.05619723 -0.43005064 -0.21541789 -0.26853634\n",
      "   0.36853889  0.18258982  0.55314475  0.37187387  0.12275337  0.24776514]] \n",
      "===\n"
     ]
    }
   ],
   "source": [
    "# topics = 과일, 한식, 중식, 일식\n",
    "lsa = LSA(doc_ls, 4)"
   ]
  },
  {
   "cell_type": "code",
   "execution_count": 306,
   "id": "respected-royal",
   "metadata": {},
   "outputs": [
    {
     "name": "stdout",
     "output_type": "stream",
     "text": [
      "주제별 키워드\n",
      " {0: ['바나나', '사과', '포도'], 1: ['짜장면', '짬뽕', '탕수육', '볶음밥', '된장'], 3: ['라면', '스시', '가츠동', '소바'], 2: ['된장찌개', '김치찌개', '김치', '비빔밥']} \n",
      "\n",
      "Topic 1 - Top 5 keywords\n",
      "김치찌개 0.6968625387988912 된장 0.4856344888220906 김치 0.3484312693994458 가츠동 0.34843126939944546 된장찌개 0.12448389316882004 \n",
      "\n",
      "Topic 2 - Top 5 keywords\n",
      "된장 0.5841558837852067 된장찌개 0.3555556968187593 짬뽕 0.337001471912978 비빔밥 0.2560082778375643 라면 0.2483548163330755 \n",
      "\n",
      "Topic 3 - Top 5 keywords\n",
      "짬뽕 0.6109035277294098 스시 0.2643978491951772 짜장면 0.2643978491951772 포도 0.18453253137212702 탕수육 0.16197314716210576 \n",
      "\n",
      "Topic 4 - Top 5 keywords\n",
      "비빔밥 0.552388449634671 짬뽕 0.37136541740505935 사과 0.27669846418415417 소바 0.27669846418415417 스시 0.18602170395678433 \n",
      "\n",
      "===\n",
      "문서별 주제\n",
      " {'바나나 사과 포도 포도 짜장면': 0, '사과 포도': 0, '포도 바나나': 0, '짜장면 짬뽕 탕수육': 1, '볶음밥 탕수육': 1, '짜장면 짬뽕': 1, '라면 스시': 3, '스시 짜장면': 1, '가츠동 스시 소바': 3, '된장찌개 김치찌개 김치': 2, '김치 된장 짜장면': 1, '비빔밥 김치': 2}\n"
     ]
    }
   ],
   "source": [
    "lsa.topicModeling()"
   ]
  },
  {
   "cell_type": "code",
   "execution_count": null,
   "id": "architectural-tennessee",
   "metadata": {},
   "outputs": [],
   "source": []
  },
  {
   "cell_type": "markdown",
   "id": "senior-identification",
   "metadata": {},
   "source": [
    "# Test"
   ]
  },
  {
   "cell_type": "code",
   "execution_count": 270,
   "id": "congressional-contact",
   "metadata": {},
   "outputs": [
    {
     "data": {
      "text/plain": [
       "array([[0.82866275]])"
      ]
     },
     "execution_count": 270,
     "metadata": {},
     "output_type": "execute_result"
    }
   ],
   "source": [
    "lsa.getTermSimilarity('짜장면', '짬뽕')"
   ]
  },
  {
   "cell_type": "code",
   "execution_count": 271,
   "id": "going-engine",
   "metadata": {},
   "outputs": [
    {
     "data": {
      "text/plain": [
       "array([[1.]])"
      ]
     },
     "execution_count": 271,
     "metadata": {},
     "output_type": "execute_result"
    }
   ],
   "source": [
    "lsa.getTermSimilarity('사과', '포도')"
   ]
  },
  {
   "cell_type": "code",
   "execution_count": 272,
   "id": "retained-princeton",
   "metadata": {},
   "outputs": [
    {
     "data": {
      "text/plain": [
       "array([[0.92822084]])"
      ]
     },
     "execution_count": 272,
     "metadata": {},
     "output_type": "execute_result"
    }
   ],
   "source": [
    "lsa.getDocSimilarity('짜장면 짬뽕 탕수육', '볶음밥 탕수육')"
   ]
  },
  {
   "cell_type": "code",
   "execution_count": 273,
   "id": "removable-independence",
   "metadata": {},
   "outputs": [
    {
     "data": {
      "text/plain": [
       "array([[0.45326471]])"
      ]
     },
     "execution_count": 273,
     "metadata": {},
     "output_type": "execute_result"
    }
   ],
   "source": [
    "lsa.getDocSimilarity('짜장면 짬뽕 탕수육', '스시 짜장면')"
   ]
  },
  {
   "cell_type": "code",
   "execution_count": 274,
   "id": "anticipated-minute",
   "metadata": {},
   "outputs": [
    {
     "data": {
      "text/plain": [
       "array([[0.38990299]])"
      ]
     },
     "execution_count": 274,
     "metadata": {},
     "output_type": "execute_result"
    }
   ],
   "source": [
    "lsa.getDocSimilarity('짜장면 짬뽕 탕수육', '김치 된장 짜장면')"
   ]
  },
  {
   "cell_type": "code",
   "execution_count": 275,
   "id": "united-prize",
   "metadata": {},
   "outputs": [
    {
     "data": {
      "text/plain": [
       "array([[-0.02188511]])"
      ]
     },
     "execution_count": 275,
     "metadata": {},
     "output_type": "execute_result"
    }
   ],
   "source": [
    "lsa.getDocSimilarity('바나나 사과 포도 포도 짜장면',\n",
    "                    '된장찌개 김치찌개 김치')"
   ]
  },
  {
   "cell_type": "code",
   "execution_count": null,
   "id": "aging-peninsula",
   "metadata": {},
   "outputs": [],
   "source": []
  },
  {
   "cell_type": "code",
   "execution_count": null,
   "id": "scenic-wrong",
   "metadata": {},
   "outputs": [],
   "source": []
  },
  {
   "cell_type": "markdown",
   "id": "temporal-journey",
   "metadata": {},
   "source": [
    "## Scikit-learn SVD\n",
    "- TfidfVectorizer는 DTM 행렬을 반환\n",
    "- 따라서, SVD로 추출되는 행렬 순서가 바뀜\n",
    "    - TDM -> (단어-주제행렬)\\*특잇값\\*(주제-문서행렬)\n",
    "    - DTM -> (문서-주제행렬)\\*특잇값\\*(주제-단어행렬)"
   ]
  },
  {
   "cell_type": "code",
   "execution_count": 263,
   "id": "regional-player",
   "metadata": {},
   "outputs": [],
   "source": [
    "from sklearn.feature_extraction.text import TfidfVectorizer\n",
    "from sklearn.decomposition import TruncatedSVD\n",
    "\n",
    "n_topic = 4\n",
    "tfidf_vect = TfidfVectorizer(max_features=1000,\n",
    "                            max_df=0.5,\n",
    "                            smooth_idf=True)\n",
    "\n",
    "tfidf = tfidf_vect.fit_transform(doc_ls) # DTM (Document Term Matrix) 반환."
   ]
  },
  {
   "cell_type": "code",
   "execution_count": 309,
   "id": "necessary-indicator",
   "metadata": {},
   "outputs": [
    {
     "data": {
      "text/plain": [
       "array([[ 8.62256757e-01, -4.91447821e-01,  4.52944480e-03,\n",
       "         7.49424232e-04],\n",
       "       [ 6.32751317e-01, -5.55810945e-01,  2.35286540e-02,\n",
       "         7.78388631e-03],\n",
       "       [ 6.32751317e-01, -5.55810945e-01,  2.35286540e-02,\n",
       "         7.78388631e-03],\n",
       "       [ 5.18573477e-01,  5.96770860e-01, -3.79277778e-01,\n",
       "        -3.60649674e-01],\n",
       "       [ 1.38317485e-01,  2.12568849e-01, -2.62268267e-01,\n",
       "        -2.86967310e-01],\n",
       "       [ 5.34670591e-01,  5.74617388e-01, -2.79726466e-01,\n",
       "        -2.42689257e-01],\n",
       "       [ 1.74373883e-01,  2.69930957e-01,  7.05824909e-01,\n",
       "         7.82416162e-02],\n",
       "       [ 4.82931107e-01,  5.21967333e-01,  4.99381568e-01,\n",
       "         4.16950646e-02],\n",
       "       [ 1.47354498e-01,  2.32876931e-01,  6.47843111e-01,\n",
       "         7.29309504e-02],\n",
       "       [ 7.47549948e-02,  1.13485365e-01, -1.98909307e-01,\n",
       "         6.60904680e-01],\n",
       "       [ 3.50370733e-01,  3.63766364e-01, -2.19272209e-01,\n",
       "         5.40352829e-01],\n",
       "       [ 8.84623061e-02,  1.31542498e-01, -2.16711641e-01,\n",
       "         7.09030254e-01]])"
      ]
     },
     "execution_count": 309,
     "metadata": {},
     "output_type": "execute_result"
    }
   ],
   "source": [
    "svd = TruncatedSVD(n_components = n_topic,\n",
    "                  n_iter = 50)\n",
    "# 문서-주제 행렬\n",
    "U = svd.fit_transform(tfidf)\n",
    "U"
   ]
  },
  {
   "cell_type": "code",
   "execution_count": 310,
   "id": "incorporate-clinic",
   "metadata": {},
   "outputs": [
    {
     "data": {
      "text/plain": [
       "array([[ 0.03615365,  0.10978603,  0.01834125,  0.09862335,  0.01834125,\n",
       "         0.05470036,  0.3297113 ,  0.04131708,  0.02775026,  0.3297113 ,\n",
       "         0.03615365,  0.21640648,  0.4991573 ,  0.29964085,  0.1641898 ,\n",
       "         0.58250527],\n",
       "       [ 0.06740048,  0.15347979,  0.03284554,  0.12078756,  0.03284554,\n",
       "         0.09988705, -0.28961955,  0.07490311,  0.04867686, -0.28961955,\n",
       "         0.06740048,  0.31494725,  0.43992407,  0.39142644,  0.23904844,\n",
       "        -0.51167464],\n",
       "       [ 0.25326653, -0.21577691, -0.07776122, -0.09834554, -0.07776122,\n",
       "         0.35279702,  0.01226021, -0.12482955, -0.10832038,  0.01226021,\n",
       "         0.25326653,  0.70278052, -0.07237264, -0.29248516, -0.25719626,\n",
       "         0.02166027],\n",
       "       [ 0.02997407,  0.68200798,  0.27162684,  0.25478532,  0.27162684,\n",
       "         0.04111418,  0.00405599, -0.14359192,  0.37257919,  0.00405599,\n",
       "         0.02997407,  0.0752597 , -0.02641656, -0.27990967, -0.2732592 ,\n",
       "         0.00716578]])"
      ]
     },
     "execution_count": 310,
     "metadata": {},
     "output_type": "execute_result"
    }
   ],
   "source": [
    "# 주제-단어 행렬\n",
    "Vt = svd.components_\n",
    "Vt"
   ]
  },
  {
   "cell_type": "code",
   "execution_count": 288,
   "id": "banner-elements",
   "metadata": {},
   "outputs": [
    {
     "name": "stdout",
     "output_type": "stream",
     "text": [
      "Topic 1\n",
      "포도 0.5825052697793935 짜장면 0.4991573043017831 사과 0.3297112994110668 바나나 0.3297112994110666 짬뽕 0.29964084900746235 \n",
      "\n",
      "\n",
      "Topic 2\n",
      "짜장면 0.4399240681700938 짬뽕 0.39142644330523046 스시 0.3149472457003219 탕수육 0.23904843954296148 김치 0.15347979325355154 \n",
      "\n",
      "\n",
      "Topic 3\n",
      "스시 0.7027805168888092 라면 0.3527970198022138 소바 0.25326652887506307 가츠동 0.253266528875063 포도 0.02166027091602387 \n",
      "\n",
      "\n",
      "Topic 4\n",
      "김치 0.6820079774477787 비빔밥 0.372579187602383 김치찌개 0.27162683779561864 된장찌개 0.2716268377956186 된장 0.25478532366259343 \n",
      "\n",
      "\n"
     ]
    }
   ],
   "source": [
    "vocab = tfidf_vect.get_feature_names()\n",
    "n = 5\n",
    "\n",
    "for idx, topic in enumerate(U):\n",
    "    print(\"Topic {}\".format(idx + 1))\n",
    "    idx = np.argsort(-topic)[:n]\n",
    "    for i in idx:\n",
    "        print(vocab[i], topic[i], end=' ')\n",
    "    print('\\n\\n')"
   ]
  },
  {
   "cell_type": "code",
   "execution_count": 308,
   "id": "funded-guest",
   "metadata": {},
   "outputs": [
    {
     "name": "stdout",
     "output_type": "stream",
     "text": [
      "주제별 키워드\n",
      " {0: ['바나나', '사과', '포도'], 1: ['짜장면', '짬뽕', '탕수육', '볶음밥', '된장'], 3: ['라면', '스시', '가츠동', '소바'], 2: ['된장찌개', '김치찌개', '김치', '비빔밥']} \n",
      "\n",
      "Topic 1 - Top 5 keywords\n",
      "김치찌개 0.6968625387988912 된장 0.4856344888220906 김치 0.3484312693994458 가츠동 0.34843126939944546 된장찌개 0.12448389316882004 \n",
      "\n",
      "Topic 2 - Top 5 keywords\n",
      "된장 0.5841558837852067 된장찌개 0.3555556968187593 짬뽕 0.337001471912978 비빔밥 0.2560082778375643 라면 0.2483548163330755 \n",
      "\n",
      "Topic 3 - Top 5 keywords\n",
      "짬뽕 0.6109035277294098 스시 0.2643978491951772 짜장면 0.2643978491951772 포도 0.18453253137212702 탕수육 0.16197314716210576 \n",
      "\n",
      "Topic 4 - Top 5 keywords\n",
      "비빔밥 0.552388449634671 짬뽕 0.37136541740505935 사과 0.27669846418415417 소바 0.27669846418415417 스시 0.18602170395678433 \n",
      "\n",
      "===\n",
      "문서별 주제\n",
      " {'바나나 사과 포도 포도 짜장면': 0, '사과 포도': 0, '포도 바나나': 0, '짜장면 짬뽕 탕수육': 1, '볶음밥 탕수육': 1, '짜장면 짬뽕': 1, '라면 스시': 3, '스시 짜장면': 1, '가츠동 스시 소바': 3, '된장찌개 김치찌개 김치': 2, '김치 된장 짜장면': 1, '비빔밥 김치': 2}\n"
     ]
    }
   ],
   "source": [
    "# custom model과 비교\n",
    "lsa.topicModeling()"
   ]
  },
  {
   "cell_type": "code",
   "execution_count": null,
   "id": "editorial-upper",
   "metadata": {},
   "outputs": [],
   "source": []
  },
  {
   "cell_type": "markdown",
   "id": "cleared-overall",
   "metadata": {},
   "source": [
    "## 시각화?"
   ]
  },
  {
   "cell_type": "code",
   "execution_count": 358,
   "id": "unlimited-absolute",
   "metadata": {},
   "outputs": [],
   "source": [
    "def calc_similarity_matrix(vectors):\n",
    "    n_word = len(vectors)\n",
    "    similarity_matrix = np.zeros((n_word, n_word))\n",
    "    \n",
    "    for i in range(n_word):\n",
    "        for j in range(i, n_word):\n",
    "            similarity_matrix[j, i] = cosine_similarity(vectors[i],\n",
    "                                                       vectors[j]).round(4)\n",
    "            \n",
    "    return similarity_matrix"
   ]
  },
  {
   "cell_type": "code",
   "execution_count": 359,
   "id": "egyptian-transaction",
   "metadata": {},
   "outputs": [],
   "source": [
    "import matplotlib.pyplot as plt\n",
    "import seaborn as sns\n",
    "\n",
    "def visualize_similarity(similarity_matrix, vocab):\n",
    "    mask = np.triu(np.ones_like(similarity_matrix, dtype=np.bool))\n",
    "    plt.rcParams['figure.figsize'] = [8, 6]\n",
    "    ax = sns.heatmap(similarity_matrix, mask = mask,\n",
    "                     xticklabels=vocab,\n",
    "                     yticklabels=vocab,\n",
    "                    annot=True,\n",
    "                    fmt=\".2f\",\n",
    "                    annot_kws={'size':8})  "
   ]
  },
  {
   "cell_type": "code",
   "execution_count": 360,
   "id": "prerequisite-reunion",
   "metadata": {},
   "outputs": [],
   "source": [
    "vocab_eng = ['katsudon', 'kimchi', 'kimchijjige', 'doenjang', 'doenjangjjige', 'ramen',\n",
    "'banana', 'fried rice', 'bibimbap', 'apple', 'soba', 'sushi','jjajangmen',\n",
    "'jjambbong', 'tangsooyook', 'grape']"
   ]
  },
  {
   "cell_type": "code",
   "execution_count": 361,
   "id": "grand-cocktail",
   "metadata": {},
   "outputs": [
    {
     "data": {
      "text/plain": [
       "[array([[0.03615365, 0.06740048, 0.25326653, 0.02997407]]),\n",
       " array([[ 0.10978603,  0.15347979, -0.21577691,  0.68200798]]),\n",
       " array([[ 0.01834125,  0.03284554, -0.07776122,  0.27162684]]),\n",
       " array([[ 0.09862335,  0.12078756, -0.09834554,  0.25478532]]),\n",
       " array([[ 0.01834125,  0.03284554, -0.07776122,  0.27162684]]),\n",
       " array([[0.05470036, 0.09988705, 0.35279702, 0.04111418]]),\n",
       " array([[ 0.3297113 , -0.28961955,  0.01226021,  0.00405599]]),\n",
       " array([[ 0.04131708,  0.07490311, -0.12482955, -0.14359192]]),\n",
       " array([[ 0.02775026,  0.04867686, -0.10832038,  0.37257919]]),\n",
       " array([[ 0.3297113 , -0.28961955,  0.01226021,  0.00405599]]),\n",
       " array([[0.03615365, 0.06740048, 0.25326653, 0.02997407]]),\n",
       " array([[0.21640648, 0.31494725, 0.70278052, 0.0752597 ]]),\n",
       " array([[ 0.4991573 ,  0.43992407, -0.07237264, -0.02641656]]),\n",
       " array([[ 0.29964085,  0.39142644, -0.29248516, -0.27990967]]),\n",
       " array([[ 0.1641898 ,  0.23904844, -0.25719626, -0.2732592 ]]),\n",
       " array([[ 0.58250527, -0.51167464,  0.02166027,  0.00716578]])]"
      ]
     },
     "execution_count": 361,
     "metadata": {},
     "output_type": "execute_result"
    }
   ],
   "source": [
    "# 단어 - 주제 행렬\n",
    "# 각 행렬을 1차원에서 2차원으로 변환\n",
    "svd_comp_2d = [np.array([comp]) for comp in svd.components_.T]\n",
    "svd_comp_2d"
   ]
  },
  {
   "cell_type": "code",
   "execution_count": 365,
   "id": "meaning-weather",
   "metadata": {
    "scrolled": false
   },
   "outputs": [
    {
     "data": {
      "image/png": "[encoded data removed]",
      "text/plain": [
       "<Figure size 720x720 with 2 Axes>"
      ]
     },
     "metadata": {
      "needs_background": "light"
     },
     "output_type": "display_data"
    }
   ],
   "source": [
    "f = plt.figure(figsize=(10,10))\n",
    "visualize_similarity(calc_similarity_matrix(svd_comp_2d),\n",
    "                    vocab_eng)"
   ]
  },
  {
   "cell_type": "code",
   "execution_count": null,
   "id": "insured-guyana",
   "metadata": {},
   "outputs": [],
   "source": []
  }
 ],
 "metadata": {
  "kernelspec": {
   "display_name": "Python 3",
   "language": "python",
   "name": "python3"
  },
  "language_info": {
   "codemirror_mode": {
    "name": "ipython",
    "version": 3
   },
   "file_extension": ".py",
   "mimetype": "text/x-python",
   "name": "python",
   "nbconvert_exporter": "python",
   "pygments_lexer": "ipython3",
   "version": "3.7.9"
  }
 },
 "nbformat": 4,
 "nbformat_minor": 5
}
