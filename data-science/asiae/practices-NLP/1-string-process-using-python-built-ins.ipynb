{
 "cells": [
  {
   "cell_type": "markdown",
   "id": "animal-premium",
   "metadata": {},
   "source": [
    "# 문자열 전처리 기초\n",
    "- python built-in methods"
   ]
  },
  {
   "cell_type": "code",
   "execution_count": null,
   "id": "valued-fiber",
   "metadata": {},
   "outputs": [],
   "source": []
  },
  {
   "cell_type": "markdown",
   "id": "hungarian-navigator",
   "metadata": {},
   "source": [
    "### `string.split()`"
   ]
  },
  {
   "cell_type": "code",
   "execution_count": 9,
   "id": "arctic-cooling",
   "metadata": {},
   "outputs": [
    {
     "data": {
      "text/plain": [
       "['에스프레소', ' 아메리카노', ' 카페라떼', ' 카푸치노']"
      ]
     },
     "execution_count": 9,
     "metadata": {},
     "output_type": "execute_result"
    }
   ],
   "source": [
    "coffee1 = \"에스프레소, 아메리카노, 카페라떼, 카푸치노\"\n",
    "coffee1.split(',')"
   ]
  },
  {
   "cell_type": "code",
   "execution_count": 10,
   "id": "wireless-relevance",
   "metadata": {},
   "outputs": [
    {
     "name": "stdout",
     "output_type": "stream",
     "text": [
      "에스프레소, 아메리카노, 카페라떼, 카푸치노\n"
     ]
    }
   ],
   "source": [
    "coffee2 = \"   에스프레소   \\n\\n 아메리카노 \\t\\n카페라떼\\n   카푸치노\"\n",
    "print(coffee1)"
   ]
  },
  {
   "cell_type": "code",
   "execution_count": 11,
   "id": "elementary-elements",
   "metadata": {},
   "outputs": [
    {
     "data": {
      "text/plain": [
       "['에스프레소', '아메리카노', '카페라떼', '카푸치노']"
      ]
     },
     "execution_count": 11,
     "metadata": {},
     "output_type": "execute_result"
    }
   ],
   "source": [
    "coffee2.split() # 문자가 아닌 것으로 모두 나눈다"
   ]
  },
  {
   "cell_type": "code",
   "execution_count": 12,
   "id": "impressive-nylon",
   "metadata": {},
   "outputs": [
    {
     "data": {
      "text/plain": [
       "['에스프레소,', '아메리카노,', '카페라떼, 카푸치노']"
      ]
     },
     "execution_count": 12,
     "metadata": {},
     "output_type": "execute_result"
    }
   ],
   "source": [
    "coffee1.split(maxsplit=2)"
   ]
  },
  {
   "cell_type": "code",
   "execution_count": null,
   "id": "broadband-consortium",
   "metadata": {},
   "outputs": [],
   "source": []
  },
  {
   "cell_type": "code",
   "execution_count": 13,
   "id": "center-watson",
   "metadata": {},
   "outputs": [
    {
     "data": {
      "text/plain": [
       "['82+', '010-1234-5678']"
      ]
     },
     "execution_count": 13,
     "metadata": {},
     "output_type": "execute_result"
    }
   ],
   "source": [
    "phone_number = '82+-010-1234-5678'\n",
    "phone_number.split('-', 1)"
   ]
  },
  {
   "cell_type": "code",
   "execution_count": null,
   "id": "piano-microwave",
   "metadata": {},
   "outputs": [],
   "source": []
  },
  {
   "cell_type": "markdown",
   "id": "familiar-marble",
   "metadata": {},
   "source": [
    "### `string.strip()`\n",
    "- `lstrip()`\n",
    "- `rstrip()`"
   ]
  },
  {
   "cell_type": "code",
   "execution_count": 14,
   "id": "capable-harvard",
   "metadata": {},
   "outputs": [
    {
     "data": {
      "text/plain": [
       "'Python'"
      ]
     },
     "execution_count": 14,
     "metadata": {},
     "output_type": "execute_result"
    }
   ],
   "source": [
    "aaa = 'aaaaaPythonaaaaa'\n",
    "aaa.strip('a')"
   ]
  },
  {
   "cell_type": "code",
   "execution_count": 18,
   "id": "changed-cocktail",
   "metadata": {},
   "outputs": [
    {
     "name": "stdout",
     "output_type": "stream",
     "text": [
      "Python is great\n",
      "Python is great######...!!!!\n",
      "...!!!###Python is great\n"
     ]
    }
   ],
   "source": [
    "bbb = '...!!!###Python is great######...!!!!'\n",
    "print(bbb.strip('.!#'))\n",
    "print(bbb.lstrip('.!#'))\n",
    "print(bbb.rstrip('.!#'))"
   ]
  },
  {
   "cell_type": "code",
   "execution_count": 17,
   "id": "potential-consent",
   "metadata": {},
   "outputs": [
    {
     "data": {
      "text/plain": [
       "'Python'"
      ]
     },
     "execution_count": 17,
     "metadata": {},
     "output_type": "execute_result"
    }
   ],
   "source": [
    "'  \\n\\rPython\\n\\n\\n\\t'.strip() # \\r = newline 옛날버전"
   ]
  },
  {
   "cell_type": "code",
   "execution_count": null,
   "id": "fewer-relations",
   "metadata": {},
   "outputs": [],
   "source": []
  },
  {
   "cell_type": "markdown",
   "id": "fluid-interstate",
   "metadata": {},
   "source": [
    "### 연습문제\n"
   ]
  },
  {
   "cell_type": "code",
   "execution_count": 24,
   "id": "seventh-airfare",
   "metadata": {},
   "outputs": [
    {
     "data": {
      "text/plain": [
       "['에스프레소,', '아메리카노,', '', '', '', '카페라떼,', '', '', '카푸치노']"
      ]
     },
     "execution_count": 24,
     "metadata": {},
     "output_type": "execute_result"
    }
   ],
   "source": [
    "coffee_ = '  에스프레소, 아메리카노,    카페라떼,   카푸치노'\n",
    "coffee_.strip().split(' ')"
   ]
  },
  {
   "cell_type": "code",
   "execution_count": null,
   "id": "spiritual-bullet",
   "metadata": {},
   "outputs": [],
   "source": []
  },
  {
   "cell_type": "markdown",
   "id": "korean-going",
   "metadata": {},
   "source": [
    "### `string.join`\n",
    "### `string.find`"
   ]
  },
  {
   "cell_type": "code",
   "execution_count": 27,
   "id": "sitting-sailing",
   "metadata": {},
   "outputs": [
    {
     "data": {
      "text/plain": [
       "'에스프레소,-아메리카노,----카페라떼,---카푸치노'"
      ]
     },
     "execution_count": 27,
     "metadata": {},
     "output_type": "execute_result"
    }
   ],
   "source": [
    "'-'.join(coffee_.strip().split(' '))"
   ]
  },
  {
   "cell_type": "code",
   "execution_count": 25,
   "id": "dangerous-funeral",
   "metadata": {},
   "outputs": [
    {
     "data": {
      "text/plain": [
       "'에스프레소,...아메리카노,............카페라떼,.........카푸치노'"
      ]
     },
     "execution_count": 25,
     "metadata": {},
     "output_type": "execute_result"
    }
   ],
   "source": [
    "'...'.join(coffee_.strip().split(' '))"
   ]
  },
  {
   "cell_type": "code",
   "execution_count": 28,
   "id": "invalid-safety",
   "metadata": {},
   "outputs": [
    {
     "data": {
      "text/plain": [
       "0"
      ]
     },
     "execution_count": 28,
     "metadata": {},
     "output_type": "execute_result"
    }
   ],
   "source": [
    "sentence = 'Regular expression.'\n",
    "sentence.find('Regular')"
   ]
  },
  {
   "cell_type": "code",
   "execution_count": 29,
   "id": "interstate-species",
   "metadata": {},
   "outputs": [
    {
     "data": {
      "text/plain": [
       "8"
      ]
     },
     "execution_count": 29,
     "metadata": {},
     "output_type": "execute_result"
    }
   ],
   "source": [
    "sentence.find('exp')"
   ]
  },
  {
   "cell_type": "code",
   "execution_count": 30,
   "id": "manual-kansas",
   "metadata": {},
   "outputs": [
    {
     "data": {
      "text/plain": [
       "-1"
      ]
     },
     "execution_count": 30,
     "metadata": {},
     "output_type": "execute_result"
    }
   ],
   "source": [
    "sentence.find('easy')"
   ]
  },
  {
   "cell_type": "code",
   "execution_count": 32,
   "id": "internal-bottom",
   "metadata": {},
   "outputs": [
    {
     "data": {
      "text/plain": [
       "-1"
      ]
     },
     "execution_count": 32,
     "metadata": {},
     "output_type": "execute_result"
    }
   ],
   "source": [
    "sentence = 'Life is venture or nothing'\n",
    "sentence.find(\"Life\", 5, -1)"
   ]
  },
  {
   "cell_type": "code",
   "execution_count": 33,
   "id": "latest-wells",
   "metadata": {},
   "outputs": [
    {
     "data": {
      "text/plain": [
       "-1"
      ]
     },
     "execution_count": 33,
     "metadata": {},
     "output_type": "execute_result"
    }
   ],
   "source": [
    "sentence.find(\"Life\", 0, 3)"
   ]
  },
  {
   "cell_type": "code",
   "execution_count": 34,
   "id": "inside-cartridge",
   "metadata": {},
   "outputs": [
    {
     "data": {
      "text/plain": [
       "0"
      ]
     },
     "execution_count": 34,
     "metadata": {},
     "output_type": "execute_result"
    }
   ],
   "source": [
    "sentence.find(\"Life\", 0, -1)"
   ]
  },
  {
   "cell_type": "code",
   "execution_count": null,
   "id": "japanese-pressing",
   "metadata": {},
   "outputs": [],
   "source": []
  },
  {
   "cell_type": "markdown",
   "id": "ultimate-tracy",
   "metadata": {},
   "source": [
    "### `string.count()`"
   ]
  },
  {
   "cell_type": "code",
   "execution_count": 35,
   "id": "architectural-ownership",
   "metadata": {},
   "outputs": [
    {
     "data": {
      "text/plain": [
       "3"
      ]
     },
     "execution_count": 35,
     "metadata": {},
     "output_type": "execute_result"
    }
   ],
   "source": [
    "sentence = '5 is 4 is 3 is 3.'\n",
    "sentence.count('is')"
   ]
  },
  {
   "cell_type": "code",
   "execution_count": null,
   "id": "impressive-soccer",
   "metadata": {},
   "outputs": [],
   "source": []
  },
  {
   "cell_type": "markdown",
   "id": "regular-bailey",
   "metadata": {},
   "source": [
    "### `string.startswith()`\n",
    "### `string.endswith()`\n"
   ]
  },
  {
   "cell_type": "code",
   "execution_count": 36,
   "id": "sealed-negative",
   "metadata": {},
   "outputs": [
    {
     "data": {
      "text/plain": [
       "True"
      ]
     },
     "execution_count": 36,
     "metadata": {},
     "output_type": "execute_result"
    }
   ],
   "source": [
    "'kakao'.startswith('k')"
   ]
  },
  {
   "cell_type": "code",
   "execution_count": 37,
   "id": "pregnant-constant",
   "metadata": {},
   "outputs": [
    {
     "data": {
      "text/plain": [
       "False"
      ]
     },
     "execution_count": 37,
     "metadata": {},
     "output_type": "execute_result"
    }
   ],
   "source": [
    "'kakao'.endswith('u')"
   ]
  },
  {
   "cell_type": "code",
   "execution_count": null,
   "id": "intended-aging",
   "metadata": {},
   "outputs": [],
   "source": []
  },
  {
   "cell_type": "markdown",
   "id": "divided-bottom",
   "metadata": {},
   "source": [
    "### `string.replace()`"
   ]
  },
  {
   "cell_type": "code",
   "execution_count": 38,
   "id": "quick-terror",
   "metadata": {},
   "outputs": [
    {
     "data": {
      "text/plain": [
       "'let it oh, let it oh, let it be be be'"
      ]
     },
     "execution_count": 38,
     "metadata": {},
     "output_type": "execute_result"
    }
   ],
   "source": [
    "song = 'let it be, let it be, let it be be be'\n",
    "song.replace('be', 'oh', 2) # 두번만 교체함"
   ]
  },
  {
   "cell_type": "code",
   "execution_count": null,
   "id": "right-romania",
   "metadata": {},
   "outputs": [],
   "source": []
  },
  {
   "cell_type": "markdown",
   "id": "accepting-symposium",
   "metadata": {},
   "source": [
    "### 기타\n",
    "- `isdigit()`\n",
    "- `isupper()`\n",
    "- `islower()`"
   ]
  },
  {
   "cell_type": "code",
   "execution_count": null,
   "id": "convinced-result",
   "metadata": {},
   "outputs": [],
   "source": []
  },
  {
   "cell_type": "code",
   "execution_count": null,
   "id": "excess-constraint",
   "metadata": {},
   "outputs": [],
   "source": []
  }
 ],
 "metadata": {
  "kernelspec": {
   "display_name": "Python 3",
   "language": "python",
   "name": "python3"
  },
  "language_info": {
   "codemirror_mode": {
    "name": "ipython",
    "version": 3
   },
   "file_extension": ".py",
   "mimetype": "text/x-python",
   "name": "python",
   "nbconvert_exporter": "python",
   "pygments_lexer": "ipython3",
   "version": "3.7.9"
  }
 },
 "nbformat": 4,
 "nbformat_minor": 5
}
