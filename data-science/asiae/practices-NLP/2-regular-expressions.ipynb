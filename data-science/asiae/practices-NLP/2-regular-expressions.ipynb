{
 "cells": [
  {
   "cell_type": "markdown",
   "id": "opponent-census",
   "metadata": {},
   "source": [
    "# 정규표현식\n",
    "실습 사이트\n",
    "- https://regexr.com/4gntf"
   ]
  },
  {
   "cell_type": "code",
   "execution_count": 1,
   "id": "every-ebony",
   "metadata": {},
   "outputs": [],
   "source": [
    "import re"
   ]
  },
  {
   "cell_type": "code",
   "execution_count": 5,
   "id": "immune-shade",
   "metadata": {},
   "outputs": [],
   "source": [
    "text = \"I like orange! I love orange!\"\n",
    "result = re.match(\"orange\", text)"
   ]
  },
  {
   "cell_type": "code",
   "execution_count": 7,
   "id": "banner-championship",
   "metadata": {},
   "outputs": [
    {
     "name": "stdout",
     "output_type": "stream",
     "text": [
      "None\n"
     ]
    }
   ],
   "source": [
    "print(result)"
   ]
  },
  {
   "cell_type": "code",
   "execution_count": 11,
   "id": "electrical-ecuador",
   "metadata": {},
   "outputs": [
    {
     "name": "stdout",
     "output_type": "stream",
     "text": [
      "orange\n",
      "0\n",
      "6\n",
      "(0, 6)\n"
     ]
    }
   ],
   "source": [
    "text = \"orange! I love orange!\"\n",
    "result = re.match(\"orange\", text)\n",
    "\n",
    "print(result.group())\n",
    "print(result.start())\n",
    "print(result.end())\n",
    "print(result.span())"
   ]
  },
  {
   "cell_type": "code",
   "execution_count": 14,
   "id": "domestic-transcription",
   "metadata": {},
   "outputs": [
    {
     "name": "stdout",
     "output_type": "stream",
     "text": [
      "orange\n",
      "7\n",
      "13\n",
      "(7, 13)\n"
     ]
    }
   ],
   "source": [
    "text2 = \"I like orange! I love orange!\"\n",
    "result2 = re.search('orange', text2)\n",
    "\n",
    "print(result2.group())\n",
    "print(result2.start())\n",
    "print(result2.end())\n",
    "print(result2.span())"
   ]
  },
  {
   "cell_type": "code",
   "execution_count": 16,
   "id": "foreign-minister",
   "metadata": {},
   "outputs": [
    {
     "name": "stdout",
     "output_type": "stream",
     "text": [
      "['orange', 'orange']\n"
     ]
    }
   ],
   "source": [
    "text2 = \"I like orange! I love orange!\"\n",
    "result3 = re.findall('orange', text2)\n",
    "print(result3)"
   ]
  },
  {
   "cell_type": "code",
   "execution_count": null,
   "id": "coastal-tablet",
   "metadata": {},
   "outputs": [],
   "source": []
  },
  {
   "cell_type": "markdown",
   "id": "alleged-cooling",
   "metadata": {},
   "source": [
    "### 연습문제\n",
    "- 주어진 텍스트에서 \"네이버\"라는 단어는 몇 번 등장할까?"
   ]
  },
  {
   "cell_type": "code",
   "execution_count": 17,
   "id": "concrete-girlfriend",
   "metadata": {},
   "outputs": [],
   "source": [
    "text = \"\"\"\n",
    "전국 언론 노동자들이 시민사회단체와 함께 네이버의 지역 차별을 규탄하고 개선을 촉구하는 무기한 릴레이 시위에 돌입했다.\n",
    "\n",
    "전국언론노조와 전국 민주언론시민연합(민언련)은 1일 오전 11시 30분 경기도 성남시의 네이버 본사(그린팩토리) 앞에서 1인 시위를 시작했다. 이날 시위에는 오정훈 전국언론노동조합위원장, 전대식 지역신문노동조합협의회 의장(부산일보 지부장), 김명래 경인일보지부장, 민진영 경기민주언론시민연합 사무처장 등이 참여했다.\n",
    "\n",
    "이들은 1인 시위를 통해 ‘네이버 뉴스 서비스 지역 언론 배제 개선’을 요구하고 ‘지역 공론장 형성을 위한 네이버의 공적 책임’을 촉구했다. 전국언론노조와 민언련은 매주 월요일마다 네이버 본사 앞 시위를 진행할 예정이다.\n",
    "\n",
    "네이버는 최근 뉴스 서비스에 인공지능 에어스(AiRS) 알고리즘을 적용하는 방식으로 뉴스 편집 기능을 개편했다. 이후 지역 언론사 뉴스의 노출이 현격하게 줄어들었다. 아울러 100여 개 모바일 콘텐츠 제휴 언론사 중 독자가 구독을 선택할 수 있는 ‘채널’ 제휴사 44곳을 선정했는데 이 과정에서 지역 언론을 철저하게 배제했다. 이에 반발해 전국언론노조뿐 아니라 한국지방신문협회, 대한민국지방신문협의회 등 지역 신문 단체도 공동 성명을 발표하며 개선을 요구하고 나섰다. 전국시도의회의장협의회는 최근 총회에서 ‘네이버 지역 언론 배제 반대 성명’을 채택하기도 했다. 하지만 이 같은 반발에도 네이버는 뚜렷한 해결책을 내지 않고 있다.\n",
    "\n",
    "오정훈 위원장은 1인 시위에서 “네이버는 해결책을 내놓기는커녕 뉴스제휴평가위원회에만 책임을 떠넘기고 있다”며 “지역 언론 배제 문제의 해결을 위한 대화 요구에 즉각 응답해 뉴스 유통사업자로서의 사회적 역할을 수행해야 한다”고 촉구했다.\n",
    "\n",
    "전대식 의장은 “2005년 당시 네이버는 모든 언론사에 뉴스 유통망을 제공하는 우군이었지만 15년 만에 갑질하고 횡포하는 기업으로 전락했다”며 “지역 언론 종사자들이 만든 콘텐츠가 네이버에서 사라진 현실을 놓고 대화하고 상생적으로 풀어야 한다”면서 협의 창구 개설을 요구했다.\n",
    "\n",
    "민언련은 국내 1위 포털 네이버가 지역 공론장을 만드는 사회적 책임을 외면하는 것은 현 정부의 지방분권 강화 정책에 위배되는 것이라고 지적했다.\n",
    "\n",
    "민진영 사무처장은 “네이버가 지역신문에 대한 보도를 배제하고 시민들과의 소통 창구를 차단하는 것은 현 정부 정책인 지방분권 강화, 민주주의 정착이라는 큰 의제를 거역하는 것”이라며 “이런 행태는 반드시 중단돼야 하고 다양한 소식들이 소비자와 시민에게 전달돼야 한다”고 강조했다.\n",
    "\n",
    "출처 : 제주新보(http://www.jejunews.com)\n",
    "\"\"\""
   ]
  },
  {
   "cell_type": "code",
   "execution_count": 18,
   "id": "ranging-initial",
   "metadata": {},
   "outputs": [
    {
     "data": {
      "text/plain": [
       "13"
      ]
     },
     "execution_count": 18,
     "metadata": {},
     "output_type": "execute_result"
    }
   ],
   "source": [
    "len(re.findall('네이버', text))"
   ]
  },
  {
   "cell_type": "code",
   "execution_count": null,
   "id": "statistical-jungle",
   "metadata": {},
   "outputs": [],
   "source": []
  },
  {
   "cell_type": "markdown",
   "id": "broadband-chess",
   "metadata": {},
   "source": [
    "### []\n",
    "- OR의 의미\n",
    "- 대괄호 안에 들어가는 글자들 중, 한 글자씩 찾겠다\n",
    "\n",
    "### [][]\n",
    "- OR 대괄호 두개\n",
    "- 각각의 대괄호 안에 들어가는 글자를 \"연속으로\" 만족하는 2글자씩 찾겠다\n",
    "\n",
    "#### 괄호 안에 들어갈 수 있는 표현들\n",
    "- [0-9]\n",
    "- [가-힣]\n",
    "- [a-zA-Z]\n",
    "- [orn][orn]\n",
    "- [A-Z][a-z]\n",
    "\n",
    "#### 대괄호 안에서 `^` = NOT, EXCLUDE\n",
    "- [^0-9]\n",
    "- [^A-Za-z]\n"
   ]
  },
  {
   "cell_type": "code",
   "execution_count": 21,
   "id": "objective-package",
   "metadata": {},
   "outputs": [
    {
     "data": {
      "text/plain": [
       "['$', '%', '$', '#']"
      ]
     },
     "execution_count": 21,
     "metadata": {},
     "output_type": "execute_result"
    }
   ],
   "source": [
    "pattern = r'[^A-Za-z\\s]' # 영어 대문자, 영어 소문자, 공백 제외\n",
    "re.findall(pattern, 'i like oran oran oran $%$#')"
   ]
  },
  {
   "cell_type": "code",
   "execution_count": null,
   "id": "caroline-belarus",
   "metadata": {},
   "outputs": [],
   "source": []
  },
  {
   "cell_type": "markdown",
   "id": "funded-virus",
   "metadata": {},
   "source": [
    "### `|` = OR"
   ]
  },
  {
   "cell_type": "code",
   "execution_count": 22,
   "id": "professional-accent",
   "metadata": {},
   "outputs": [
    {
     "data": {
      "text/plain": [
       "['like', 'orange', 'like', 'orange']"
      ]
     },
     "execution_count": 22,
     "metadata": {},
     "output_type": "execute_result"
    }
   ],
   "source": [
    "pattern = r'orange|like'\n",
    "re.findall(pattern, 'i like orange like orange oran $%$#')"
   ]
  },
  {
   "cell_type": "code",
   "execution_count": null,
   "id": "allied-impact",
   "metadata": {},
   "outputs": [],
   "source": []
  },
  {
   "cell_type": "markdown",
   "id": "thrown-estimate",
   "metadata": {},
   "source": [
    "### 정규표현식 응용\n",
    "- `.`\n",
    "    - `a.b` -> a로 시작하고, 아무 문자 **1개**가 가운데 있고, b로 끝나는 문자열의 패턴\n",
    "- `?`\n",
    "    - `a.?b` -> a로 시작하고, 아무 문자 **1개**가 다음에 오고, 다음에 아무 문자 한 글자가 있거나 없거나, 그리고 b로 끝나는 문자열의 패턴\n",
    "- `*`\n",
    "- `+`\n",
    "    - 1개 이상"
   ]
  },
  {
   "cell_type": "code",
   "execution_count": 26,
   "id": "simplified-craps",
   "metadata": {},
   "outputs": [
    {
     "data": {
      "text/plain": [
       "['a*b', 'a-b', 'a;b']"
      ]
     },
     "execution_count": 26,
     "metadata": {},
     "output_type": "execute_result"
    }
   ],
   "source": [
    "pattern = r'a.b'\n",
    "re.findall(pattern, 'ab a*b a**b akc a-b a;b')"
   ]
  },
  {
   "cell_type": "code",
   "execution_count": 27,
   "id": "colonial-manhattan",
   "metadata": {},
   "outputs": [
    {
     "data": {
      "text/plain": [
       "['ab', 'a*b', 'a-b', 'a;b']"
      ]
     },
     "execution_count": 27,
     "metadata": {},
     "output_type": "execute_result"
    }
   ],
   "source": [
    "pattern = r'a.?b'\n",
    "re.findall(pattern, 'ab a*b a**b akc a-b a;b')"
   ]
  },
  {
   "cell_type": "code",
   "execution_count": 30,
   "id": "focused-consciousness",
   "metadata": {},
   "outputs": [
    {
     "data": {
      "text/plain": [
       "['abc', 'abbbc', 'ac', 'ac']"
      ]
     },
     "execution_count": 30,
     "metadata": {},
     "output_type": "execute_result"
    }
   ],
   "source": [
    "pattern = r'ab*c' # b가 있어도 되고 없어도 되고\n",
    "re.findall(pattern, 'abc abbbc acb acccb')"
   ]
  },
  {
   "cell_type": "code",
   "execution_count": 32,
   "id": "lovely-integration",
   "metadata": {},
   "outputs": [
    {
     "data": {
      "text/plain": [
       "['abc', 'abbbc']"
      ]
     },
     "execution_count": 32,
     "metadata": {},
     "output_type": "execute_result"
    }
   ],
   "source": [
    "pattern = r'ab+c' # b가 무조건 1개 이상\n",
    "re.findall(pattern, 'abc abbbc acb acccb')"
   ]
  },
  {
   "cell_type": "code",
   "execution_count": 35,
   "id": "minimal-darkness",
   "metadata": {},
   "outputs": [
    {
     "data": {
      "text/plain": [
       "['ac', 'abdc', 'abbbbbcccc', 'ac']"
      ]
     },
     "execution_count": 35,
     "metadata": {},
     "output_type": "execute_result"
    }
   ],
   "source": [
    "# a로 시작\n",
    "# b 또는 d인 1글자가 0개 이상\n",
    "# 1개 이상의 c로 끝남\n",
    "pattern = r'a[bd]*c+'\n",
    "re.findall(pattern, 'ac abdc abbbbbcccc aaaac ad')"
   ]
  },
  {
   "cell_type": "code",
   "execution_count": null,
   "id": "vertical-madness",
   "metadata": {},
   "outputs": [],
   "source": []
  },
  {
   "cell_type": "markdown",
   "id": "asian-mapping",
   "metadata": {},
   "source": [
    "### `{}` - 갯수의 표현"
   ]
  },
  {
   "cell_type": "code",
   "execution_count": 37,
   "id": "liquid-england",
   "metadata": {},
   "outputs": [
    {
     "data": {
      "text/plain": [
       "['ac ab', 'dc ab', 'bbbbc', 'ccc a', 'aaac ']"
      ]
     },
     "execution_count": 37,
     "metadata": {},
     "output_type": "execute_result"
    }
   ],
   "source": [
    "pattern = r'.{5}' #아무 문자나 5개씩\n",
    "re.findall(pattern, 'ac abdc abbbbbcccc aaaac ad')"
   ]
  },
  {
   "cell_type": "code",
   "execution_count": 39,
   "id": "taken-equilibrium",
   "metadata": {},
   "outputs": [
    {
     "data": {
      "text/plain": [
       "['ab', 'ab', 'bb', 'bb', 'aa', 'aa']"
      ]
     },
     "execution_count": 39,
     "metadata": {},
     "output_type": "execute_result"
    }
   ],
   "source": [
    "pattern = r'[ab]{2}' # (a 또는 b)인 문자열 2개짜리를 2개씩\n",
    "re.findall(pattern, 'ac abdc abbbbbcccc aaaac ad')"
   ]
  },
  {
   "cell_type": "code",
   "execution_count": null,
   "id": "ancient-academy",
   "metadata": {},
   "outputs": [],
   "source": []
  },
  {
   "cell_type": "markdown",
   "id": "outstanding-delta",
   "metadata": {},
   "source": [
    "### 축약형 표현\n",
    "- \\d = [0-9]\n",
    "- \\D = [^0-9]\n",
    "- \\w = [a-zA-Z0-9_]\n",
    "- \\W = [^a-zA-Z0-9_]\n",
    "- \\s = [\\t\\n\\r\\f\\v] # 공백, 탭, 라인피드, 캐리지리턴, 폼피드, 수직탭\n",
    "- \\S = [^\\t\\n\\r\\f\\v]"
   ]
  },
  {
   "cell_type": "code",
   "execution_count": 41,
   "id": "linear-announcement",
   "metadata": {},
   "outputs": [],
   "source": [
    "numbers = \"\"\"\n",
    "010-2323-2323\n",
    "02-302-4380\n",
    "010-2388-9994\n",
    "02-112-2323\n",
    "\"\"\"\n",
    "\n",
    "emails = \"\"\"\n",
    "kailee@gmail.com\n",
    "kttrends@naver.com\n",
    "overover@daum.net\n",
    "\"\"\""
   ]
  },
  {
   "cell_type": "code",
   "execution_count": null,
   "id": "exact-equation",
   "metadata": {},
   "outputs": [],
   "source": []
  },
  {
   "cell_type": "markdown",
   "id": "honey-transfer",
   "metadata": {},
   "source": [
    "### 긍정형 전방/후방탐색\n",
    "- `?=`\n",
    "    - 긍정형 전방탐색\n",
    "    - `(?=ora)nge`\n",
    "- `?<=`\n",
    "    - 긍정형 후방탐색\n",
    "    - `(?<=ora)nge`\n",
    "- `?!`\n",
    "    - 부정형 전방탐색\n",
    "    - (?!~!)\n",
    "- `?<!`\n",
    "    - 부정형 후방탐색\n",
    "    - (?<!~!)"
   ]
  },
  {
   "cell_type": "code",
   "execution_count": 44,
   "id": "ignored-drawing",
   "metadata": {},
   "outputs": [
    {
     "data": {
      "text/plain": [
       "['ora', 'ora']"
      ]
     },
     "execution_count": 44,
     "metadata": {},
     "output_type": "execute_result"
    }
   ],
   "source": [
    "txt = 'i love oranges i like oranges'\n",
    "ptn = 'ora(?=nge)'\n",
    "re.findall(ptn, txt)"
   ]
  },
  {
   "cell_type": "code",
   "execution_count": 43,
   "id": "cordless-architect",
   "metadata": {},
   "outputs": [
    {
     "data": {
      "text/plain": [
       "['nge', 'nge']"
      ]
     },
     "execution_count": 43,
     "metadata": {},
     "output_type": "execute_result"
    }
   ],
   "source": [
    "txt = 'i love oranges i like oranges'\n",
    "ptn = '(?<=ora)nge'\n",
    "re.findall(ptn, txt)"
   ]
  },
  {
   "cell_type": "code",
   "execution_count": 47,
   "id": "tired-lewis",
   "metadata": {},
   "outputs": [
    {
     "data": {
      "text/plain": [
       "[]"
      ]
     },
     "execution_count": 47,
     "metadata": {},
     "output_type": "execute_result"
    }
   ],
   "source": [
    "txt = 'i love oranges i like oranges'\n",
    "ptn = 'ora(?!nge)'\n",
    "re.findall(ptn, txt)"
   ]
  },
  {
   "cell_type": "code",
   "execution_count": 50,
   "id": "dramatic-pharmacy",
   "metadata": {},
   "outputs": [
    {
     "data": {
      "text/plain": [
       "[]"
      ]
     },
     "execution_count": 50,
     "metadata": {},
     "output_type": "execute_result"
    }
   ],
   "source": [
    "txt = 'i love oranges i like oranges'\n",
    "ptn = '(?<!ora)nge!'\n",
    "re.findall(ptn, txt)"
   ]
  },
  {
   "cell_type": "code",
   "execution_count": null,
   "id": "vulnerable-validation",
   "metadata": {},
   "outputs": [],
   "source": []
  },
  {
   "cell_type": "markdown",
   "id": "radio-referral",
   "metadata": {},
   "source": [
    "## Practices\n"
   ]
  },
  {
   "cell_type": "code",
   "execution_count": 54,
   "id": "bigger-submission",
   "metadata": {},
   "outputs": [],
   "source": [
    "# 1.정상 핸드폰 번호 추출하기\n",
    "numbers = \"\"\"\n",
    "010-2334-3234\n",
    "02-302-3033\n",
    "010-1321-4043\n",
    "02-01-32\n",
    "33-3303-3033\n",
    "016-444-3042\n",
    "\"\"\""
   ]
  },
  {
   "cell_type": "code",
   "execution_count": 90,
   "id": "raising-cowboy",
   "metadata": {},
   "outputs": [
    {
     "data": {
      "text/plain": [
       "['010-2334-3234', '010-1321-4043', '016-444-3042']"
      ]
     },
     "execution_count": 90,
     "metadata": {},
     "output_type": "execute_result"
    }
   ],
   "source": [
    "pattern = r'[0-6]{3,4}-[0-9]{3,4}-[0-9]{4}'\n",
    "re.findall(pattern, numbers)"
   ]
  },
  {
   "cell_type": "code",
   "execution_count": null,
   "id": "biological-capture",
   "metadata": {},
   "outputs": [],
   "source": []
  },
  {
   "cell_type": "code",
   "execution_count": 85,
   "id": "blessed-bankruptcy",
   "metadata": {},
   "outputs": [],
   "source": [
    "# 2.\n",
    "# 정상 이메일 주소만 추출하기\n",
    "emails = '''jkilee@gmail.com\n",
    "kttredef@naver.com\n",
    "akdef!aa.com\n",
    "adekik@best.kr\n",
    "abkereff@aacde\n",
    "adefgree@korea.co.kr\n",
    "adf@korea..co.kr\n",
    "'''"
   ]
  },
  {
   "cell_type": "code",
   "execution_count": 83,
   "id": "measured-guest",
   "metadata": {},
   "outputs": [
    {
     "data": {
      "text/plain": [
       "['jkilee@gmail.com',\n",
       " 'kttredef@naver.com',\n",
       " 'adekik@best.kr',\n",
       " 'abkereff@aacde',\n",
       " 'adefgree@korea.co.kr']"
      ]
     },
     "execution_count": 83,
     "metadata": {},
     "output_type": "execute_result"
    }
   ],
   "source": [
    "pattern = r'[a-zA-Z1-9._]+@[a-z1-9.]+[.a-z]+[.a-z]*'\n",
    "re.findall(pattern, emails)"
   ]
  },
  {
   "cell_type": "code",
   "execution_count": 86,
   "id": "consolidated-button",
   "metadata": {},
   "outputs": [
    {
     "data": {
      "text/plain": [
       "['jkilee@gmail.com',\n",
       " 'kttredef@naver.com',\n",
       " 'adekik@best.kr',\n",
       " 'adefgree@korea.co.kr',\n",
       " 'adf@korea..co.kr']"
      ]
     },
     "execution_count": 86,
     "metadata": {},
     "output_type": "execute_result"
    }
   ],
   "source": [
    "ptn = '[a-zA-Z0-9_\\-.]+@[a-z]+[a-z.]*\\.[a-z]+'\n",
    "re.findall(ptn, emails)"
   ]
  },
  {
   "cell_type": "code",
   "execution_count": 88,
   "id": "square-detail",
   "metadata": {},
   "outputs": [
    {
     "data": {
      "text/plain": [
       "['jkilee@gmail.com',\n",
       " 'kttredef@naver.com',\n",
       " 'adekik@best.kr',\n",
       " 'adefgree@korea.co.kr']"
      ]
     },
     "execution_count": 88,
     "metadata": {},
     "output_type": "execute_result"
    }
   ],
   "source": [
    "ptn = '[a-zA-Z0-9_\\-.]+@[a-z]+(?:\\.[a-z]+)+'\n",
    "re.findall(ptn, emails)"
   ]
  },
  {
   "cell_type": "code",
   "execution_count": null,
   "id": "turkish-pleasure",
   "metadata": {},
   "outputs": [],
   "source": []
  },
  {
   "cell_type": "code",
   "execution_count": 92,
   "id": "similar-bunny",
   "metadata": {},
   "outputs": [],
   "source": [
    "# 3. \n",
    "# 텍스트만 추출하기\n",
    "html = '안녕하세요 저는 <em>홍길동</em> 입니다. 나이는 24살 세계 최고의 <a href=\"aa.aa.com\">데이터 분석가</a>가 되고싶습니다.'"
   ]
  },
  {
   "cell_type": "code",
   "execution_count": 101,
   "id": "stainless-armenia",
   "metadata": {},
   "outputs": [
    {
     "data": {
      "text/plain": [
       "['안녕하세요',\n",
       " '저는',\n",
       " '홍길동',\n",
       " '입니다',\n",
       " '나이는',\n",
       " '24살',\n",
       " '세계',\n",
       " '최고의',\n",
       " '데이터',\n",
       " '분석가',\n",
       " '가',\n",
       " '되고싶습니다']"
      ]
     },
     "execution_count": 101,
     "metadata": {},
     "output_type": "execute_result"
    }
   ],
   "source": [
    "re.findall(r'[가-힣0-9]+', html)"
   ]
  },
  {
   "cell_type": "code",
   "execution_count": 117,
   "id": "academic-ancient",
   "metadata": {},
   "outputs": [
    {
     "data": {
      "text/plain": [
       "['<em>', '</em>', '<a href=\"aa.aa.com\">', '</a>']"
      ]
     },
     "execution_count": 117,
     "metadata": {},
     "output_type": "execute_result"
    }
   ],
   "source": [
    "re.findall(r'<[a-z\\/\".\\s=]+>', html)"
   ]
  },
  {
   "cell_type": "code",
   "execution_count": 121,
   "id": "juvenile-stanley",
   "metadata": {},
   "outputs": [
    {
     "data": {
      "text/plain": [
       "'안녕하세요 저는 홍길동 입니다. 나이는 24살 세계 최고의 데이터 분석가가 되고싶습니다.'"
      ]
     },
     "execution_count": 121,
     "metadata": {},
     "output_type": "execute_result"
    }
   ],
   "source": [
    "re.sub('<[a-z\\/\".\\s=]+>', \"\", html)"
   ]
  },
  {
   "cell_type": "code",
   "execution_count": 123,
   "id": "utility-surname",
   "metadata": {},
   "outputs": [
    {
     "data": {
      "text/plain": [
       "'안녕하세요 저는 홍길동 입니다. 나이는 24살 세계 최고의 데이터 분석가가 되고싶습니다.'"
      ]
     },
     "execution_count": 123,
     "metadata": {},
     "output_type": "execute_result"
    }
   ],
   "source": [
    "re.sub(\"<[^<]*>\", \"\", html)"
   ]
  },
  {
   "cell_type": "code",
   "execution_count": null,
   "id": "accessory-billion",
   "metadata": {},
   "outputs": [],
   "source": []
  },
  {
   "cell_type": "markdown",
   "id": "limiting-reserve",
   "metadata": {},
   "source": [
    "### `re.split()`"
   ]
  },
  {
   "cell_type": "code",
   "execution_count": 3,
   "id": "round-virus",
   "metadata": {},
   "outputs": [
    {
     "data": {
      "text/plain": [
       "['apple', 'orange', 'pineapple', 'banana']"
      ]
     },
     "execution_count": 3,
     "metadata": {},
     "output_type": "execute_result"
    }
   ],
   "source": [
    "text = 'apple, orange! pineapple! banana'\n",
    "result = re.split('[,!\\s]+', text)\n",
    "result"
   ]
  },
  {
   "cell_type": "code",
   "execution_count": null,
   "id": "comparable-drill",
   "metadata": {},
   "outputs": [],
   "source": []
  },
  {
   "cell_type": "markdown",
   "id": "appreciated-fisher",
   "metadata": {},
   "source": [
    "### greedy vs. lazy\n",
    "\n",
    "greedy|lazy\n",
    "-|-\n",
    "* | *?\n",
    "+ | +?\n",
    "{n,} | {n,}?"
   ]
  },
  {
   "cell_type": "code",
   "execution_count": 4,
   "id": "intensive-burton",
   "metadata": {},
   "outputs": [],
   "source": [
    "html = '안녕하세요 저는 <em>홍길동</em> 입니다. 나이는 24살 세계 최고의 <a href=\"aa.aa.com\">데이터 분석가</a>가 되고싶습니다.'"
   ]
  },
  {
   "cell_type": "code",
   "execution_count": 6,
   "id": "interesting-secondary",
   "metadata": {},
   "outputs": [
    {
     "data": {
      "text/plain": [
       "'안녕하세요 저는 가 되고싶습니다.'"
      ]
     },
     "execution_count": 6,
     "metadata": {},
     "output_type": "execute_result"
    }
   ],
   "source": [
    "# '<'를 발견하면, 정규표현식이 성립하는 최장거리를 매칭시킨다\n",
    "re.sub(\"<.*>\", \"\", html)"
   ]
  },
  {
   "cell_type": "code",
   "execution_count": 7,
   "id": "fitting-logic",
   "metadata": {},
   "outputs": [
    {
     "data": {
      "text/plain": [
       "'안녕하세요 저는 홍길동 입니다. 나이는 24살 세계 최고의 데이터 분석가가 되고싶습니다.'"
      ]
     },
     "execution_count": 7,
     "metadata": {},
     "output_type": "execute_result"
    }
   ],
   "source": [
    "# '<'를 발견하면, 최단거리를 매칭시킨다\n",
    "re.sub(\"<.*?>\", \"\", html)"
   ]
  },
  {
   "cell_type": "code",
   "execution_count": null,
   "id": "certain-turtle",
   "metadata": {},
   "outputs": [],
   "source": []
  },
  {
   "cell_type": "code",
   "execution_count": 8,
   "id": "failing-antenna",
   "metadata": {},
   "outputs": [],
   "source": []
  }
 ],
 "metadata": {
  "kernelspec": {
   "display_name": "Python 3",
   "language": "python",
   "name": "python3"
  },
  "language_info": {
   "codemirror_mode": {
    "name": "ipython",
    "version": 3
   },
   "file_extension": ".py",
   "mimetype": "text/x-python",
   "name": "python",
   "nbconvert_exporter": "python",
   "pygments_lexer": "ipython3",
   "version": "3.7.9"
  }
 },
 "nbformat": 4,
 "nbformat_minor": 5
}
