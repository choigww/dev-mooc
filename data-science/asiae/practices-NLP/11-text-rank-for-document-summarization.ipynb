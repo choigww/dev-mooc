{
 "cells": [
  {
   "cell_type": "markdown",
   "id": "buried-offer",
   "metadata": {},
   "source": [
    "# TextRank for Document Summarization"
   ]
  },
  {
   "cell_type": "code",
   "execution_count": 19,
   "id": "descending-transportation",
   "metadata": {},
   "outputs": [],
   "source": [
    "import pandas as pd\n",
    "import numpy as np\n",
    "\n",
    "from konlpy.tag import Mecab\n",
    "from nltk import sent_tokenize\n",
    "import kss"
   ]
  },
  {
   "cell_type": "code",
   "execution_count": 2,
   "id": "returning-biography",
   "metadata": {},
   "outputs": [],
   "source": [
    "text = \"딸기 바나나 사과 파인애플 수박. 바나나 사과 딸기 포도. 복숭아 수박. 파인애플 사과 딸기 바나나.\""
   ]
  },
  {
   "cell_type": "code",
   "execution_count": null,
   "id": "negative-yellow",
   "metadata": {},
   "outputs": [],
   "source": []
  },
  {
   "cell_type": "markdown",
   "id": "allied-league",
   "metadata": {},
   "source": [
    "## 문장 유사도 계산"
   ]
  },
  {
   "cell_type": "code",
   "execution_count": 9,
   "id": "minor-questionnaire",
   "metadata": {},
   "outputs": [],
   "source": [
    "mecab = Mecab()\n",
    "def sentence_sim(s1, s2):\n",
    "    s1_tokens = {token for token in mecab.pos(s1)\n",
    "                    if token[1][0] in ['N', 'V']}\n",
    "    s2_tokens = {token for token in mecab.pos(s2)\n",
    "                    if token[1][0] in ['N', 'V']}\n",
    "\n",
    "    union = s1_tokens.union(s2_tokens)\n",
    "    inter = s1_tokens.intersection(s2_tokens)    \n",
    "    return len(inter)/len(union)"
   ]
  },
  {
   "cell_type": "code",
   "execution_count": 12,
   "id": "hungry-florida",
   "metadata": {},
   "outputs": [
    {
     "data": {
      "text/plain": [
       "0.6"
      ]
     },
     "execution_count": 12,
     "metadata": {},
     "output_type": "execute_result"
    }
   ],
   "source": [
    "sentence_sim('나는 치킨 좋아라 해', '나는 피자 좋아 해')"
   ]
  },
  {
   "cell_type": "code",
   "execution_count": 14,
   "id": "hidden-street",
   "metadata": {},
   "outputs": [
    {
     "data": {
      "text/plain": [
       "['딸기 바나나 사과 파인애플 수박', ' 바나나 사과 딸기 포도', ' 복숭아 수박', ' 파인애플 사과 딸기 바나나']"
      ]
     },
     "execution_count": 14,
     "metadata": {},
     "output_type": "execute_result"
    }
   ],
   "source": [
    "text_split = text.split('.')[:-1]\n",
    "text_split"
   ]
  },
  {
   "cell_type": "code",
   "execution_count": 21,
   "id": "organized-spouse",
   "metadata": {},
   "outputs": [
    {
     "data": {
      "text/plain": [
       "['딸기 바나나 사과 파인애플 수박. 바나나 사과 딸기 포도. 복숭아 수박. 파인애플 사과 딸기 바나나.']"
      ]
     },
     "execution_count": 21,
     "metadata": {},
     "output_type": "execute_result"
    }
   ],
   "source": [
    "kss.split_sentences(text)"
   ]
  },
  {
   "cell_type": "code",
   "execution_count": 22,
   "id": "former-cabin",
   "metadata": {},
   "outputs": [
    {
     "data": {
      "text/plain": [
       "['딸기 바나나 사과 파인애플 수박.', '바나나 사과 딸기 포도.', '복숭아 수박.', '파인애플 사과 딸기 바나나.']"
      ]
     },
     "execution_count": 22,
     "metadata": {},
     "output_type": "execute_result"
    }
   ],
   "source": [
    "sent_tokenize(text)"
   ]
  },
  {
   "cell_type": "code",
   "execution_count": null,
   "id": "cheap-aspect",
   "metadata": {},
   "outputs": [],
   "source": []
  },
  {
   "cell_type": "markdown",
   "id": "christian-grove",
   "metadata": {},
   "source": [
    "## buildMatrix 함수"
   ]
  },
  {
   "cell_type": "code",
   "execution_count": 23,
   "id": "reported-pendant",
   "metadata": {},
   "outputs": [],
   "source": [
    "def buildMatrix(sentences):\n",
    "    leng = len(sentences)\n",
    "    score = np.ones(leng, dtype=np.float32)\n",
    "    weighted_edge = np.zeros((leng, leng), dtype=np.float32)\n",
    "    \n",
    "    for i in range(leng):\n",
    "        for j in range(leng):\n",
    "            if i==j:\n",
    "                # 자기 자신은 0이므로 계산하지 않고 넘어감\n",
    "                continue\n",
    "            weighted_edge[i][j] = sentence_sim(sentences[i],\n",
    "                                              sentences[j])\n",
    "    #return weighted_edge\n",
    "    for i in range(len(weighted_edge)):\n",
    "        score[i] = weighted_edge[i].sum()\n",
    "        weighted_edge[i] /= score[i]\n",
    "        \n",
    "    return score, weighted_edge"
   ]
  },
  {
   "cell_type": "code",
   "execution_count": 16,
   "id": "complicated-sudan",
   "metadata": {},
   "outputs": [
    {
     "data": {
      "text/plain": [
       "array([[0.        , 0.5       , 0.16666667, 0.8       ],\n",
       "       [0.5       , 0.        , 0.        , 0.6       ],\n",
       "       [0.16666667, 0.        , 0.        , 0.        ],\n",
       "       [0.8       , 0.6       , 0.        , 0.        ]], dtype=float32)"
      ]
     },
     "execution_count": 16,
     "metadata": {},
     "output_type": "execute_result"
    }
   ],
   "source": [
    "buildMatrix(text_split)"
   ]
  },
  {
   "cell_type": "code",
   "execution_count": 24,
   "id": "stunning-newfoundland",
   "metadata": {},
   "outputs": [
    {
     "data": {
      "text/plain": [
       "(array([1.4666667 , 1.1       , 0.16666667, 1.4000001 ], dtype=float32),\n",
       " array([[0.        , 0.3409091 , 0.11363637, 0.54545456],\n",
       "        [0.45454544, 0.        , 0.        , 0.54545456],\n",
       "        [1.        , 0.        , 0.        , 0.        ],\n",
       "        [0.57142854, 0.4285714 , 0.        , 0.        ]], dtype=float32))"
      ]
     },
     "execution_count": 24,
     "metadata": {},
     "output_type": "execute_result"
    }
   ],
   "source": [
    "buildMatrix(text_split)"
   ]
  },
  {
   "cell_type": "code",
   "execution_count": null,
   "id": "sharing-massage",
   "metadata": {},
   "outputs": [],
   "source": []
  },
  {
   "cell_type": "markdown",
   "id": "adjusted-distinction",
   "metadata": {},
   "source": [
    "## Scoring"
   ]
  },
  {
   "cell_type": "code",
   "execution_count": 25,
   "id": "civil-empire",
   "metadata": {},
   "outputs": [],
   "source": [
    "def scoring(W, S, eps = 0.0001, d=0.85, max_iter=50):\n",
    "    \n",
    "    for iter_ in range(max_iter):\n",
    "        new_S = (1 - d) + d * np.dot(W.T, S)\n",
    "        \n",
    "        if (abs(new_S - S) < eps).all():\n",
    "            return new_S\n",
    "        \n",
    "        S = new_S\n",
    "    \n",
    "    return new_S"
   ]
  },
  {
   "cell_type": "code",
   "execution_count": 94,
   "id": "upset-injury",
   "metadata": {},
   "outputs": [],
   "source": [
    "def summarize(text, n=10):\n",
    "    sentences = list(set(sent_tokenize(text)))\n",
    "    score, weighted_edge = buildMatrix(sentences)\n",
    "    score = scoring(weighted_edge, score)\n",
    "    \n",
    "    return [(sentences[idx], score)\n",
    "                  for idx, score in sorted(enumerate(score),\n",
    "                  key=lambda x: x[1],\n",
    "                  reverse=True)]"
   ]
  },
  {
   "cell_type": "code",
   "execution_count": 95,
   "id": "inner-lighter",
   "metadata": {},
   "outputs": [
    {
     "data": {
      "text/plain": [
       "[('딸기 바나나 사과 파인애플 수박.', 1.4108208),\n",
       " ('파인애플 사과 딸기 바나나.', 1.2793751),\n",
       " ('바나나 사과 딸기 포도.', 1.0249318),\n",
       " ('복숭아 수박.', 0.286281)]"
      ]
     },
     "execution_count": 95,
     "metadata": {},
     "output_type": "execute_result"
    }
   ],
   "source": [
    "summarize(text)"
   ]
  },
  {
   "cell_type": "code",
   "execution_count": null,
   "id": "governing-marble",
   "metadata": {},
   "outputs": [],
   "source": []
  },
  {
   "cell_type": "markdown",
   "id": "short-papua",
   "metadata": {},
   "source": [
    "## Graph Tfidf"
   ]
  },
  {
   "cell_type": "code",
   "execution_count": 40,
   "id": "military-reality",
   "metadata": {},
   "outputs": [],
   "source": [
    "import networkx as nx"
   ]
  },
  {
   "cell_type": "code",
   "execution_count": 75,
   "id": "cutting-geneva",
   "metadata": {},
   "outputs": [],
   "source": [
    "def rank(nodes, edges):\n",
    "    graph = nx.diamond_graph()\n",
    "    graph.clear()\n",
    "    graph.add_nodes_from(nodes)\n",
    "    graph.add_weighted_edges_from(edges)\n",
    "    return nx.pagerank(graph)"
   ]
  },
  {
   "cell_type": "code",
   "execution_count": 76,
   "id": "overall-swaziland",
   "metadata": {},
   "outputs": [],
   "source": [
    "def connect(nodes):\n",
    "    return [(start, end, sentence_sim(start, end)) for start in nodes for end in nodes\n",
    "            if start != end]"
   ]
  },
  {
   "cell_type": "code",
   "execution_count": 87,
   "id": "impressive-popularity",
   "metadata": {},
   "outputs": [],
   "source": [
    "def summarize_nx(text, n=10):\n",
    "    nodes = set(sent_tokenize(text))\n",
    "    edges = connect(nodes)\n",
    "    scores = rank(nodes, edges)\n",
    "    return sorted(scores.items(), key=lambda x: x[1],\n",
    "                 reverse=True)[:n]"
   ]
  },
  {
   "cell_type": "code",
   "execution_count": 88,
   "id": "broken-spending",
   "metadata": {},
   "outputs": [
    {
     "data": {
      "text/plain": [
       "[('딸기 바나나 사과 파인애플 수박.', 0.35258089874833043),\n",
       " ('파인애플 사과 딸기 바나나.', 0.31972392073355704),\n",
       " ('바나나 사과 딸기 포도.', 0.2561392427214696)]"
      ]
     },
     "execution_count": 88,
     "metadata": {},
     "output_type": "execute_result"
    }
   ],
   "source": [
    "summarize_nx(text, 3)"
   ]
  },
  {
   "cell_type": "code",
   "execution_count": null,
   "id": "secondary-spectrum",
   "metadata": {},
   "outputs": [],
   "source": []
  },
  {
   "cell_type": "markdown",
   "id": "charming-windsor",
   "metadata": {},
   "source": [
    "## 중복된 문장?\n"
   ]
  },
  {
   "cell_type": "code",
   "execution_count": 89,
   "id": "italic-immigration",
   "metadata": {},
   "outputs": [],
   "source": [
    "text2 = \"딸기 바나나 사과 파인애플 수박. 바나나 사과 딸기 포도. 복숭아 수박. 복숭아 수박. 파인애플 사과 딸기 바나나. 파인애플 사과 딸기 바나나.\""
   ]
  },
  {
   "cell_type": "code",
   "execution_count": 96,
   "id": "adult-barcelona",
   "metadata": {},
   "outputs": [
    {
     "data": {
      "text/plain": [
       "[('딸기 바나나 사과 파인애플 수박.', 1.4108208),\n",
       " ('파인애플 사과 딸기 바나나.', 1.2793751),\n",
       " ('바나나 사과 딸기 포도.', 1.0249318),\n",
       " ('복숭아 수박.', 0.286281)]"
      ]
     },
     "execution_count": 96,
     "metadata": {},
     "output_type": "execute_result"
    }
   ],
   "source": [
    "summarize(text2)"
   ]
  },
  {
   "cell_type": "code",
   "execution_count": 91,
   "id": "actual-provider",
   "metadata": {},
   "outputs": [
    {
     "data": {
      "text/plain": [
       "[('딸기 바나나 사과 파인애플 수박.', 0.35258089874833043),\n",
       " ('파인애플 사과 딸기 바나나.', 0.31972392073355704),\n",
       " ('바나나 사과 딸기 포도.', 0.2561392427214696),\n",
       " ('복숭아 수박.', 0.07155593779664282)]"
      ]
     },
     "execution_count": 91,
     "metadata": {},
     "output_type": "execute_result"
    }
   ],
   "source": [
    "summarize_nx(text2)"
   ]
  },
  {
   "cell_type": "code",
   "execution_count": null,
   "id": "western-corporation",
   "metadata": {},
   "outputs": [],
   "source": []
  },
  {
   "cell_type": "markdown",
   "id": "weighted-marijuana",
   "metadata": {},
   "source": [
    "## gensim.summarization.summarizer"
   ]
  },
  {
   "cell_type": "code",
   "execution_count": 98,
   "id": "approximate-enclosure",
   "metadata": {},
   "outputs": [],
   "source": [
    "from gensim.summarization.summarizer import summarize"
   ]
  },
  {
   "cell_type": "code",
   "execution_count": 102,
   "id": "mineral-combining",
   "metadata": {},
   "outputs": [
    {
     "data": {
      "text/plain": [
       "''"
      ]
     },
     "execution_count": 102,
     "metadata": {},
     "output_type": "execute_result"
    }
   ],
   "source": [
    "summarize(text)"
   ]
  },
  {
   "cell_type": "code",
   "execution_count": null,
   "id": "round-calendar",
   "metadata": {},
   "outputs": [],
   "source": []
  },
  {
   "cell_type": "code",
   "execution_count": null,
   "id": "complimentary-landscape",
   "metadata": {},
   "outputs": [],
   "source": []
  },
  {
   "cell_type": "code",
   "execution_count": null,
   "id": "living-royalty",
   "metadata": {},
   "outputs": [],
   "source": []
  }
 ],
 "metadata": {
  "kernelspec": {
   "display_name": "Python 3",
   "language": "python",
   "name": "python3"
  },
  "language_info": {
   "codemirror_mode": {
    "name": "ipython",
    "version": 3
   },
   "file_extension": ".py",
   "mimetype": "text/x-python",
   "name": "python",
   "nbconvert_exporter": "python",
   "pygments_lexer": "ipython3",
   "version": "3.7.9"
  }
 },
 "nbformat": 4,
 "nbformat_minor": 5
}
