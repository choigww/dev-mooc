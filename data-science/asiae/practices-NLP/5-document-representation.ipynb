{
 "cells": [
  {
   "cell_type": "markdown",
   "id": "burning-transportation",
   "metadata": {},
   "source": [
    "# BoW"
   ]
  },
  {
   "cell_type": "code",
   "execution_count": 80,
   "id": "consistent-beauty",
   "metadata": {},
   "outputs": [],
   "source": [
    "import numpy as np\n",
    "import pandas as pd\n",
    "from collections import defaultdict"
   ]
  },
  {
   "cell_type": "code",
   "execution_count": 76,
   "id": "traditional-purpose",
   "metadata": {},
   "outputs": [],
   "source": [
    "docs = ['오늘 동물원에서 원숭이를 봤어',\n",
    "       '오늘 동물원에서 코끼리를 봤어 봤어',\n",
    "       '동물원에서 원숭이에게 바나나를 줬어 바나나를']"
   ]
  },
  {
   "cell_type": "code",
   "execution_count": 77,
   "id": "unauthorized-quarter",
   "metadata": {},
   "outputs": [
    {
     "name": "stdout",
     "output_type": "stream",
     "text": [
      "defaultdict(<function <lambda> at 0x115581c20>, {'오늘': 0, '동물원에서': 1, '원숭이를': 2, '봤어': 3, '코끼리를': 4, '원숭이에게': 5, '바나나를': 6, '줬어': 7})\n"
     ]
    }
   ],
   "source": [
    "doc_ls = [doc.split() for doc in docs]\n",
    "word2id = defaultdict(lambda : len(word2id))\n",
    "[word2id[token] for doc in doc_ls for token in doc]\n",
    "\n",
    "print(word2id)\n",
    "\n",
    "BoW = []\n",
    "for i, doc in enumerate(doc_ls):\n",
    "    bow = np.zeros(len(word2id), dtype=int)\n",
    "    for token in doc:\n",
    "        bow[word2id[token]] += 1\n",
    "    BoW.append(bow)"
   ]
  },
  {
   "cell_type": "code",
   "execution_count": 78,
   "id": "literary-arabic",
   "metadata": {},
   "outputs": [
    {
     "data": {
      "text/plain": [
       "[array([1, 1, 1, 1, 0, 0, 0, 0]),\n",
       " array([1, 1, 0, 2, 1, 0, 0, 0]),\n",
       " array([0, 1, 0, 0, 0, 1, 2, 1])]"
      ]
     },
     "execution_count": 78,
     "metadata": {},
     "output_type": "execute_result"
    }
   ],
   "source": [
    "BoW"
   ]
  },
  {
   "cell_type": "code",
   "execution_count": 86,
   "id": "suitable-howard",
   "metadata": {},
   "outputs": [
    {
     "name": "stdout",
     "output_type": "stream",
     "text": [
      "   오늘  동물원에서  원숭이를  봤어  코끼리를  원숭이에게  바나나를  줬어\n",
      "0   1      1     1   1     0      0     0   0\n",
      "   오늘  동물원에서  원숭이를  봤어  코끼리를  원숭이에게  바나나를  줬어\n",
      "0   1      1     0   2     1      0     0   0\n",
      "   오늘  동물원에서  원숭이를  봤어  코끼리를  원숭이에게  바나나를  줬어\n",
      "0   0      1     0   0     0      1     2   1\n"
     ]
    }
   ],
   "source": [
    "sorted_vocab = sorted((value, key) for key, value in word2id.items())\n",
    "vocab = [v[1] for v in sorted_vocab]\n",
    "\n",
    "for i in range(len(docs)):\n",
    "    print(pd.DataFrame([BoW[i]], columns=vocab))"
   ]
  },
  {
   "cell_type": "code",
   "execution_count": null,
   "id": "enabling-embassy",
   "metadata": {},
   "outputs": [],
   "source": []
  },
  {
   "cell_type": "markdown",
   "id": "artificial-future",
   "metadata": {},
   "source": [
    "# Scikit-Learn CountVectorizer"
   ]
  },
  {
   "cell_type": "code",
   "execution_count": 87,
   "id": "controversial-cleaner",
   "metadata": {},
   "outputs": [],
   "source": [
    "from sklearn.feature_extraction.text import CountVectorizer"
   ]
  },
  {
   "cell_type": "code",
   "execution_count": 92,
   "id": "after-republican",
   "metadata": {},
   "outputs": [],
   "source": [
    "cv = CountVectorizer()\n",
    "BoW_cv = cv.fit_transform(docs)"
   ]
  },
  {
   "cell_type": "code",
   "execution_count": 102,
   "id": "surprised-syntax",
   "metadata": {},
   "outputs": [],
   "source": [
    "colnames = cv.get_feature_names()\n",
    "data = BoW_cv.toarray()"
   ]
  },
  {
   "cell_type": "code",
   "execution_count": 103,
   "id": "unavailable-forward",
   "metadata": {},
   "outputs": [
    {
     "data": {
      "text/plain": [
       "array([[1, 0, 1, 1, 1, 0, 0, 0],\n",
       "       [1, 0, 2, 1, 0, 0, 0, 1],\n",
       "       [1, 2, 0, 0, 0, 1, 1, 0]])"
      ]
     },
     "execution_count": 103,
     "metadata": {},
     "output_type": "execute_result"
    }
   ],
   "source": [
    "data"
   ]
  },
  {
   "cell_type": "code",
   "execution_count": 104,
   "id": "suitable-borough",
   "metadata": {},
   "outputs": [
    {
     "data": {
      "text/plain": [
       "['동물원에서', '바나나를', '봤어', '오늘', '원숭이를', '원숭이에게', '줬어', '코끼리를']"
      ]
     },
     "execution_count": 104,
     "metadata": {},
     "output_type": "execute_result"
    }
   ],
   "source": [
    "colnames"
   ]
  },
  {
   "cell_type": "markdown",
   "id": "surprising-hartford",
   "metadata": {},
   "source": [
    "### DTM = Document Term Matrix"
   ]
  },
  {
   "cell_type": "code",
   "execution_count": 107,
   "id": "piano-count",
   "metadata": {},
   "outputs": [
    {
     "data": {
      "text/html": [
       "<div>\n",
       "<style scoped>\n",
       "    .dataframe tbody tr th:only-of-type {\n",
       "        vertical-align: middle;\n",
       "    }\n",
       "\n",
       "    .dataframe tbody tr th {\n",
       "        vertical-align: top;\n",
       "    }\n",
       "\n",
       "    .dataframe thead th {\n",
       "        text-align: right;\n",
       "    }\n",
       "</style>\n",
       "<table border=\"1\" class=\"dataframe\">\n",
       "  <thead>\n",
       "    <tr style=\"text-align: right;\">\n",
       "      <th></th>\n",
       "      <th>동물원에서</th>\n",
       "      <th>바나나를</th>\n",
       "      <th>봤어</th>\n",
       "      <th>오늘</th>\n",
       "      <th>원숭이를</th>\n",
       "      <th>원숭이에게</th>\n",
       "      <th>줬어</th>\n",
       "      <th>코끼리를</th>\n",
       "    </tr>\n",
       "  </thead>\n",
       "  <tbody>\n",
       "    <tr>\n",
       "      <th>0</th>\n",
       "      <td>1</td>\n",
       "      <td>0</td>\n",
       "      <td>1</td>\n",
       "      <td>1</td>\n",
       "      <td>1</td>\n",
       "      <td>0</td>\n",
       "      <td>0</td>\n",
       "      <td>0</td>\n",
       "    </tr>\n",
       "    <tr>\n",
       "      <th>1</th>\n",
       "      <td>1</td>\n",
       "      <td>0</td>\n",
       "      <td>2</td>\n",
       "      <td>1</td>\n",
       "      <td>0</td>\n",
       "      <td>0</td>\n",
       "      <td>0</td>\n",
       "      <td>1</td>\n",
       "    </tr>\n",
       "    <tr>\n",
       "      <th>2</th>\n",
       "      <td>1</td>\n",
       "      <td>2</td>\n",
       "      <td>0</td>\n",
       "      <td>0</td>\n",
       "      <td>0</td>\n",
       "      <td>1</td>\n",
       "      <td>1</td>\n",
       "      <td>0</td>\n",
       "    </tr>\n",
       "  </tbody>\n",
       "</table>\n",
       "</div>"
      ],
      "text/plain": [
       "   동물원에서  바나나를  봤어  오늘  원숭이를  원숭이에게  줬어  코끼리를\n",
       "0      1     0   1   1     1      0   0     0\n",
       "1      1     0   2   1     0      0   0     1\n",
       "2      1     2   0   0     0      1   1     0"
      ]
     },
     "execution_count": 107,
     "metadata": {},
     "output_type": "execute_result"
    }
   ],
   "source": [
    "# DTM\n",
    "pd.DataFrame(data.T, colnames).T"
   ]
  },
  {
   "cell_type": "markdown",
   "id": "promotional-marsh",
   "metadata": {},
   "source": [
    "### TDM = Term Document Matrix"
   ]
  },
  {
   "cell_type": "code",
   "execution_count": 151,
   "id": "royal-maldives",
   "metadata": {},
   "outputs": [
    {
     "data": {
      "text/html": [
       "<div>\n",
       "<style scoped>\n",
       "    .dataframe tbody tr th:only-of-type {\n",
       "        vertical-align: middle;\n",
       "    }\n",
       "\n",
       "    .dataframe tbody tr th {\n",
       "        vertical-align: top;\n",
       "    }\n",
       "\n",
       "    .dataframe thead th {\n",
       "        text-align: right;\n",
       "    }\n",
       "</style>\n",
       "<table border=\"1\" class=\"dataframe\">\n",
       "  <thead>\n",
       "    <tr style=\"text-align: right;\">\n",
       "      <th></th>\n",
       "      <th>0</th>\n",
       "      <th>1</th>\n",
       "      <th>2</th>\n",
       "    </tr>\n",
       "  </thead>\n",
       "  <tbody>\n",
       "    <tr>\n",
       "      <th>동물원에서</th>\n",
       "      <td>1</td>\n",
       "      <td>1</td>\n",
       "      <td>1</td>\n",
       "    </tr>\n",
       "    <tr>\n",
       "      <th>바나나를</th>\n",
       "      <td>0</td>\n",
       "      <td>0</td>\n",
       "      <td>2</td>\n",
       "    </tr>\n",
       "    <tr>\n",
       "      <th>봤어</th>\n",
       "      <td>1</td>\n",
       "      <td>2</td>\n",
       "      <td>0</td>\n",
       "    </tr>\n",
       "    <tr>\n",
       "      <th>오늘</th>\n",
       "      <td>1</td>\n",
       "      <td>1</td>\n",
       "      <td>0</td>\n",
       "    </tr>\n",
       "    <tr>\n",
       "      <th>원숭이를</th>\n",
       "      <td>1</td>\n",
       "      <td>0</td>\n",
       "      <td>0</td>\n",
       "    </tr>\n",
       "    <tr>\n",
       "      <th>원숭이에게</th>\n",
       "      <td>0</td>\n",
       "      <td>0</td>\n",
       "      <td>1</td>\n",
       "    </tr>\n",
       "    <tr>\n",
       "      <th>줬어</th>\n",
       "      <td>0</td>\n",
       "      <td>0</td>\n",
       "      <td>1</td>\n",
       "    </tr>\n",
       "    <tr>\n",
       "      <th>코끼리를</th>\n",
       "      <td>0</td>\n",
       "      <td>1</td>\n",
       "      <td>0</td>\n",
       "    </tr>\n",
       "  </tbody>\n",
       "</table>\n",
       "</div>"
      ],
      "text/plain": [
       "       0  1  2\n",
       "동물원에서  1  1  1\n",
       "바나나를   0  0  2\n",
       "봤어     1  2  0\n",
       "오늘     1  1  0\n",
       "원숭이를   1  0  0\n",
       "원숭이에게  0  0  1\n",
       "줬어     0  0  1\n",
       "코끼리를   0  1  0"
      ]
     },
     "execution_count": 151,
     "metadata": {},
     "output_type": "execute_result"
    }
   ],
   "source": [
    "# DTM\n",
    "pd.DataFrame(data.T, colnames)"
   ]
  },
  {
   "cell_type": "code",
   "execution_count": null,
   "id": "collected-porcelain",
   "metadata": {},
   "outputs": [],
   "source": []
  },
  {
   "cell_type": "markdown",
   "id": "hybrid-enterprise",
   "metadata": {},
   "source": [
    "# gensim corpora"
   ]
  },
  {
   "cell_type": "code",
   "execution_count": 116,
   "id": "spanish-ancient",
   "metadata": {},
   "outputs": [
    {
     "data": {
      "text/plain": [
       "[[(0, 1), (1, 1), (2, 1), (3, 1)],\n",
       " [(0, 1), (1, 2), (2, 1), (4, 1)],\n",
       " [(0, 1), (5, 2), (6, 1), (7, 1)]]"
      ]
     },
     "execution_count": 116,
     "metadata": {},
     "output_type": "execute_result"
    }
   ],
   "source": [
    "import gensim\n",
    "from gensim import corpora\n",
    "\n",
    "doc_ls = [doc.split() for doc in docs]\n",
    "id2word = corpora.Dictionary(doc_ls)\n",
    "\n",
    "[id2word.doc2bow(doc) for doc in doc_ls]"
   ]
  },
  {
   "cell_type": "code",
   "execution_count": 117,
   "id": "developed-sunday",
   "metadata": {},
   "outputs": [
    {
     "data": {
      "text/plain": [
       "[[(0, 1), (1, 1), (2, 1), (3, 1)],\n",
       " [(0, 1), (1, 2), (2, 1), (4, 1)],\n",
       " [(0, 1), (5, 2), (6, 1), (7, 1)]]"
      ]
     },
     "execution_count": 117,
     "metadata": {},
     "output_type": "execute_result"
    }
   ],
   "source": [
    "doc_ls = [doc.split() for doc in docs]\n",
    "id2word = corpora.Dictionary(doc_ls)\n",
    "BoW_corpora = [id2word.doc2bow(doc) for doc in doc_ls]\n",
    "\n",
    "BoW_corpora"
   ]
  },
  {
   "cell_type": "code",
   "execution_count": 124,
   "id": "declared-training",
   "metadata": {},
   "outputs": [
    {
     "name": "stdout",
     "output_type": "stream",
     "text": [
      "[0, 1, 2, 3, 4, 5, 6, 7] ['동물원에서', '봤어', '오늘', '원숭이를', '코끼리를', '바나나를', '원숭이에게', '줬어']\n"
     ]
    }
   ],
   "source": [
    "print(list(id2word.keys()), list(id2word.values()))"
   ]
  },
  {
   "cell_type": "code",
   "execution_count": 129,
   "id": "ordered-month",
   "metadata": {},
   "outputs": [
    {
     "data": {
      "text/plain": [
       "array([1, 1, 1, 1, 0, 0, 0, 0])"
      ]
     },
     "execution_count": 129,
     "metadata": {},
     "output_type": "execute_result"
    }
   ],
   "source": [
    "BoW[0]"
   ]
  },
  {
   "cell_type": "code",
   "execution_count": 130,
   "id": "romance-currency",
   "metadata": {},
   "outputs": [
    {
     "data": {
      "text/plain": [
       "['오늘', '동물원에서', '원숭이를', '봤어', '코끼리를', '원숭이에게', '바나나를', '줬어']"
      ]
     },
     "execution_count": 130,
     "metadata": {},
     "output_type": "execute_result"
    }
   ],
   "source": [
    "vocab"
   ]
  },
  {
   "cell_type": "code",
   "execution_count": null,
   "id": "isolated-validation",
   "metadata": {},
   "outputs": [],
   "source": []
  },
  {
   "cell_type": "code",
   "execution_count": 150,
   "id": "respected-expense",
   "metadata": {
    "collapsed": true
   },
   "outputs": [
    {
     "ename": "TypeError",
     "evalue": "cannot unpack non-iterable numpy.int64 object",
     "output_type": "error",
     "traceback": [
      "\u001b[0;31m---------------------------------------------------------------------------\u001b[0m",
      "\u001b[0;31mTypeError\u001b[0m                                 Traceback (most recent call last)",
      "\u001b[0;32m<ipython-input-150-df27d481e053>\u001b[0m in \u001b[0;36m<module>\u001b[0;34m\u001b[0m\n\u001b[1;32m      1\u001b[0m \u001b[0;32mfrom\u001b[0m \u001b[0mgensim\u001b[0m\u001b[0;34m.\u001b[0m\u001b[0mmatutils\u001b[0m \u001b[0;32mimport\u001b[0m \u001b[0msparse2full\u001b[0m\u001b[0;34m\u001b[0m\u001b[0;34m\u001b[0m\u001b[0m\n\u001b[0;32m----> 2\u001b[0;31m \u001b[0msparse2full\u001b[0m\u001b[0;34m(\u001b[0m\u001b[0mBoW\u001b[0m\u001b[0;34m[\u001b[0m\u001b[0;36m0\u001b[0m\u001b[0;34m]\u001b[0m\u001b[0;34m,\u001b[0m \u001b[0mlength\u001b[0m\u001b[0;34m=\u001b[0m\u001b[0mlen\u001b[0m\u001b[0;34m(\u001b[0m\u001b[0mvocab\u001b[0m\u001b[0;34m)\u001b[0m\u001b[0;34m)\u001b[0m\u001b[0;34m\u001b[0m\u001b[0;34m\u001b[0m\u001b[0m\n\u001b[0m",
      "\u001b[0;32m/opt/anaconda3/envs/AI_dev/lib/python3.7/site-packages/gensim/matutils.py\u001b[0m in \u001b[0;36msparse2full\u001b[0;34m(doc, length)\u001b[0m\n\u001b[1;32m    399\u001b[0m     \u001b[0mdoc\u001b[0m \u001b[0;34m=\u001b[0m \u001b[0;34m(\u001b[0m\u001b[0;34m(\u001b[0m\u001b[0mint\u001b[0m\u001b[0;34m(\u001b[0m\u001b[0mid_\u001b[0m\u001b[0;34m)\u001b[0m\u001b[0;34m,\u001b[0m \u001b[0mfloat\u001b[0m\u001b[0;34m(\u001b[0m\u001b[0mval_\u001b[0m\u001b[0;34m)\u001b[0m\u001b[0;34m)\u001b[0m \u001b[0;32mfor\u001b[0m \u001b[0;34m(\u001b[0m\u001b[0mid_\u001b[0m\u001b[0;34m,\u001b[0m \u001b[0mval_\u001b[0m\u001b[0;34m)\u001b[0m \u001b[0;32min\u001b[0m \u001b[0mdoc\u001b[0m\u001b[0;34m)\u001b[0m\u001b[0;34m\u001b[0m\u001b[0;34m\u001b[0m\u001b[0m\n\u001b[1;32m    400\u001b[0m \u001b[0;34m\u001b[0m\u001b[0m\n\u001b[0;32m--> 401\u001b[0;31m     \u001b[0mdoc\u001b[0m \u001b[0;34m=\u001b[0m \u001b[0mdict\u001b[0m\u001b[0;34m(\u001b[0m\u001b[0mdoc\u001b[0m\u001b[0;34m)\u001b[0m\u001b[0;34m\u001b[0m\u001b[0;34m\u001b[0m\u001b[0m\n\u001b[0m\u001b[1;32m    402\u001b[0m     \u001b[0;31m# overwrite some of the zeroes with explicit values\u001b[0m\u001b[0;34m\u001b[0m\u001b[0;34m\u001b[0m\u001b[0;34m\u001b[0m\u001b[0m\n\u001b[1;32m    403\u001b[0m     \u001b[0mresult\u001b[0m\u001b[0;34m[\u001b[0m\u001b[0mlist\u001b[0m\u001b[0;34m(\u001b[0m\u001b[0mdoc\u001b[0m\u001b[0;34m)\u001b[0m\u001b[0;34m]\u001b[0m \u001b[0;34m=\u001b[0m \u001b[0mlist\u001b[0m\u001b[0;34m(\u001b[0m\u001b[0mitervalues\u001b[0m\u001b[0;34m(\u001b[0m\u001b[0mdoc\u001b[0m\u001b[0;34m)\u001b[0m\u001b[0;34m)\u001b[0m\u001b[0;34m\u001b[0m\u001b[0;34m\u001b[0m\u001b[0m\n",
      "\u001b[0;32m/opt/anaconda3/envs/AI_dev/lib/python3.7/site-packages/gensim/matutils.py\u001b[0m in \u001b[0;36m<genexpr>\u001b[0;34m(.0)\u001b[0m\n\u001b[1;32m    397\u001b[0m     \u001b[0mresult\u001b[0m \u001b[0;34m=\u001b[0m \u001b[0mnp\u001b[0m\u001b[0;34m.\u001b[0m\u001b[0mzeros\u001b[0m\u001b[0;34m(\u001b[0m\u001b[0mlength\u001b[0m\u001b[0;34m,\u001b[0m \u001b[0mdtype\u001b[0m\u001b[0;34m=\u001b[0m\u001b[0mnp\u001b[0m\u001b[0;34m.\u001b[0m\u001b[0mfloat32\u001b[0m\u001b[0;34m)\u001b[0m  \u001b[0;31m# fill with zeroes (default value)\u001b[0m\u001b[0;34m\u001b[0m\u001b[0;34m\u001b[0m\u001b[0m\n\u001b[1;32m    398\u001b[0m     \u001b[0;31m# convert indices to int as numpy 1.12 no longer indexes by floats\u001b[0m\u001b[0;34m\u001b[0m\u001b[0;34m\u001b[0m\u001b[0;34m\u001b[0m\u001b[0m\n\u001b[0;32m--> 399\u001b[0;31m     \u001b[0mdoc\u001b[0m \u001b[0;34m=\u001b[0m \u001b[0;34m(\u001b[0m\u001b[0;34m(\u001b[0m\u001b[0mint\u001b[0m\u001b[0;34m(\u001b[0m\u001b[0mid_\u001b[0m\u001b[0;34m)\u001b[0m\u001b[0;34m,\u001b[0m \u001b[0mfloat\u001b[0m\u001b[0;34m(\u001b[0m\u001b[0mval_\u001b[0m\u001b[0;34m)\u001b[0m\u001b[0;34m)\u001b[0m \u001b[0;32mfor\u001b[0m \u001b[0;34m(\u001b[0m\u001b[0mid_\u001b[0m\u001b[0;34m,\u001b[0m \u001b[0mval_\u001b[0m\u001b[0;34m)\u001b[0m \u001b[0;32min\u001b[0m \u001b[0mdoc\u001b[0m\u001b[0;34m)\u001b[0m\u001b[0;34m\u001b[0m\u001b[0;34m\u001b[0m\u001b[0m\n\u001b[0m\u001b[1;32m    400\u001b[0m \u001b[0;34m\u001b[0m\u001b[0m\n\u001b[1;32m    401\u001b[0m     \u001b[0mdoc\u001b[0m \u001b[0;34m=\u001b[0m \u001b[0mdict\u001b[0m\u001b[0;34m(\u001b[0m\u001b[0mdoc\u001b[0m\u001b[0;34m)\u001b[0m\u001b[0;34m\u001b[0m\u001b[0;34m\u001b[0m\u001b[0m\n",
      "\u001b[0;31mTypeError\u001b[0m: cannot unpack non-iterable numpy.int64 object"
     ]
    }
   ],
   "source": [
    "from gensim.matutils import sparse2full\n",
    "sparse2full(BoW[0], length=len(vocab))"
   ]
  },
  {
   "cell_type": "code",
   "execution_count": null,
   "id": "floral-clause",
   "metadata": {},
   "outputs": [],
   "source": []
  },
  {
   "cell_type": "markdown",
   "id": "unlikely-bacon",
   "metadata": {},
   "source": [
    "# Practice\n",
    "TF-IDF 구하기"
   ]
  },
  {
   "cell_type": "code",
   "execution_count": 228,
   "id": "improving-technology",
   "metadata": {},
   "outputs": [
    {
     "data": {
      "text/plain": [
       "defaultdict(<function __main__.create_word2id.<locals>.<lambda>()>,\n",
       "            {'오늘': 0,\n",
       "             '동물원에서': 1,\n",
       "             '원숭이를': 2,\n",
       "             '봤어': 3,\n",
       "             '코끼리를': 4,\n",
       "             '원숭이에게': 5,\n",
       "             '바나나를': 6,\n",
       "             '줬어': 7})"
      ]
     },
     "execution_count": 228,
     "metadata": {},
     "output_type": "execute_result"
    }
   ],
   "source": [
    "# 사전 생성\n",
    "\n",
    "docs = ['오늘 동물원에서 원숭이를 봤어',\n",
    "       '오늘 동물원에서 코끼리를 봤어 봤어',\n",
    "       '동물원에서 원숭이에게 바나나를 줬어 바나나를']\n",
    "\n",
    "def create_word2id(docs):\n",
    "    doc_ls = [doc.split() for doc in docs]\n",
    "    word2id = defaultdict(lambda : len(word2id))\n",
    "    [word2id[token] for doc in doc_ls for token in doc]\n",
    "    return word2id\n",
    "\n",
    "word2id = create_word2id(docs)\n",
    "word2id"
   ]
  },
  {
   "cell_type": "code",
   "execution_count": null,
   "id": "endless-possession",
   "metadata": {},
   "outputs": [],
   "source": []
  },
  {
   "cell_type": "code",
   "execution_count": 196,
   "id": "dirty-package",
   "metadata": {},
   "outputs": [],
   "source": [
    "# TF 계산하기\n",
    "# 개별 빈도수 / 문서내 전체 빈도수\n",
    "def calc_tf(doc, word2id, log_norm = False, double_norm=False, double_norm_K=0.5):\n",
    "    doc_sp = doc.split()\n",
    "    tot_freq = len(doc_sp)\n",
    "    container = np.zeros(len(word2id))\n",
    "    \n",
    "    for token in doc_sp:\n",
    "        container[word2id[token]] += 1\n",
    "        \n",
    "    if double_norm:\n",
    "        container = double_norm_K + (double_norm_K * container / max(container))\n",
    "    if log_norm:\n",
    "        container = np.log(1+container)\n",
    "    else:\n",
    "        container /= tot_freq\n",
    "        \n",
    "    return container"
   ]
  },
  {
   "cell_type": "code",
   "execution_count": 190,
   "id": "plastic-wallace",
   "metadata": {
    "scrolled": true
   },
   "outputs": [
    {
     "data": {
      "text/plain": [
       "[array([0.25, 0.25, 0.25, 0.25, 0.  , 0.  , 0.  , 0.  ]),\n",
       " array([0.2, 0.2, 0. , 0.4, 0.2, 0. , 0. , 0. ]),\n",
       " array([0. , 0.2, 0. , 0. , 0. , 0.2, 0.4, 0.2])]"
      ]
     },
     "execution_count": 190,
     "metadata": {},
     "output_type": "execute_result"
    }
   ],
   "source": [
    "[calc_tf(doc, word2id) for doc in docs]"
   ]
  },
  {
   "cell_type": "code",
   "execution_count": 192,
   "id": "innovative-riverside",
   "metadata": {},
   "outputs": [
    {
     "data": {
      "text/plain": [
       "[array([1. , 1. , 1. , 1. , 0.5, 0.5, 0.5, 0.5]),\n",
       " array([0.75, 0.75, 0.5 , 1.  , 0.75, 0.5 , 0.5 , 0.5 ]),\n",
       " array([0.5 , 0.75, 0.5 , 0.5 , 0.5 , 0.75, 1.  , 0.75])]"
      ]
     },
     "execution_count": 192,
     "metadata": {},
     "output_type": "execute_result"
    }
   ],
   "source": [
    "[calc_tf(doc, word2id, double_norm=1) for doc in docs]"
   ]
  },
  {
   "cell_type": "code",
   "execution_count": 193,
   "id": "united-coordinate",
   "metadata": {},
   "outputs": [
    {
     "data": {
      "text/plain": [
       "[array([0.6, 0.6, 0.6, 0.6, 0.3, 0.3, 0.3, 0.3]),\n",
       " array([0.45, 0.45, 0.3 , 0.6 , 0.45, 0.3 , 0.3 , 0.3 ]),\n",
       " array([0.3 , 0.45, 0.3 , 0.3 , 0.3 , 0.45, 0.6 , 0.45])]"
      ]
     },
     "execution_count": 193,
     "metadata": {},
     "output_type": "execute_result"
    }
   ],
   "source": [
    "[calc_tf(doc, word2id, double_norm=1, double_norm_K=0.3) for doc in docs]"
   ]
  },
  {
   "cell_type": "code",
   "execution_count": 195,
   "id": "interpreted-execution",
   "metadata": {},
   "outputs": [
    {
     "data": {
      "text/plain": [
       "[array([0.69314718, 0.69314718, 0.69314718, 0.69314718, 0.        ,\n",
       "        0.        , 0.        , 0.        ]),\n",
       " array([0.69314718, 0.69314718, 0.        , 1.09861229, 0.69314718,\n",
       "        0.        , 0.        , 0.        ]),\n",
       " array([0.        , 0.69314718, 0.        , 0.        , 0.        ,\n",
       "        0.69314718, 1.09861229, 0.69314718])]"
      ]
     },
     "execution_count": 195,
     "metadata": {},
     "output_type": "execute_result"
    }
   ],
   "source": [
    "[calc_tf(doc, word2id, log_norm=1) for doc in docs]"
   ]
  },
  {
   "cell_type": "code",
   "execution_count": null,
   "id": "reported-valuation",
   "metadata": {},
   "outputs": [],
   "source": []
  },
  {
   "cell_type": "code",
   "execution_count": 161,
   "id": "strong-philadelphia",
   "metadata": {},
   "outputs": [
    {
     "data": {
      "text/plain": [
       "defaultdict(<function __main__.<lambda>()>,\n",
       "            {'오늘': 0,\n",
       "             '동물원에서': 1,\n",
       "             '원숭이를': 2,\n",
       "             '봤어': 3,\n",
       "             '코끼리를': 4,\n",
       "             '원숭이에게': 5,\n",
       "             '바나나를': 6,\n",
       "             '줬어': 7})"
      ]
     },
     "execution_count": 161,
     "metadata": {},
     "output_type": "execute_result"
    }
   ],
   "source": [
    "word2id"
   ]
  },
  {
   "cell_type": "code",
   "execution_count": 160,
   "id": "norwegian-disability",
   "metadata": {},
   "outputs": [
    {
     "data": {
      "text/plain": [
       "['오늘', '동물원에서', '원숭이를', '봤어', '코끼리를', '원숭이에게', '바나나를', '줬어']"
      ]
     },
     "execution_count": 160,
     "metadata": {},
     "output_type": "execute_result"
    }
   ],
   "source": [
    "list(word2id.keys())"
   ]
  },
  {
   "cell_type": "code",
   "execution_count": 234,
   "id": "white-christian",
   "metadata": {},
   "outputs": [],
   "source": [
    "# IDF 계산하기\n",
    "# log(문서 수/토큰이 등장한 문서 수)\n",
    "\n",
    "def calc_idf(docs, word2id, idf_smooth=False, idf_max=False, prob_idf=False):\n",
    "    assert (idf_smooth + idf_max + prob_idf) <= 1, \"invalid parameter\"\n",
    "    \n",
    "    num_docs = len(docs)\n",
    "    tokens = list(word2id.keys())\n",
    "    container = np.zeros(len(word2id))\n",
    "    \n",
    "    for token in tokens:\n",
    "        count = 0\n",
    "        for doc in docs:\n",
    "            if token in doc:\n",
    "                count += 1\n",
    "        container[word2id[token]] = count\n",
    "    \n",
    "#     print([(w, n) for (w, n) in zip(tokens, container)])\n",
    "        \n",
    "    if idf_smooth:\n",
    "        container = -1 * np.log((1 + container) / num_docs)\n",
    "    elif idf_max:\n",
    "        container = -1 * np.log((1 + container) / max(container))\n",
    "    elif prob_idf:\n",
    "        container = np.log((num_docs - container)/container)\n",
    "    else:\n",
    "        container = -1*np.log(container/num_docs)\n",
    "\n",
    "    return container     "
   ]
  },
  {
   "cell_type": "code",
   "execution_count": 226,
   "id": "public-firewall",
   "metadata": {},
   "outputs": [
    {
     "data": {
      "text/plain": [
       "['오늘 동물원에서 원숭이를 봤어', '오늘 동물원에서 코끼리를 봤어 봤어', '동물원에서 원숭이에게 바나나를 줬어 바나나를']"
      ]
     },
     "execution_count": 226,
     "metadata": {},
     "output_type": "execute_result"
    }
   ],
   "source": [
    "docs"
   ]
  },
  {
   "cell_type": "code",
   "execution_count": 227,
   "id": "liable-advertiser",
   "metadata": {},
   "outputs": [
    {
     "name": "stdout",
     "output_type": "stream",
     "text": [
      "[('오늘', 2.0), ('동물원에서', 3.0), ('원숭이를', 1.0), ('봤어', 2.0), ('코끼리를', 1.0), ('원숭이에게', 1.0), ('바나나를', 1.0), ('줬어', 1.0)]\n"
     ]
    },
    {
     "data": {
      "text/plain": [
       "array([ 0.40546511, -0.        ,  1.09861229,  0.40546511,  1.09861229,\n",
       "        1.09861229,  1.09861229,  1.09861229])"
      ]
     },
     "execution_count": 227,
     "metadata": {},
     "output_type": "execute_result"
    }
   ],
   "source": [
    "calc_idf(docs, word2id)"
   ]
  },
  {
   "cell_type": "code",
   "execution_count": 213,
   "id": "ethical-resort",
   "metadata": {},
   "outputs": [
    {
     "data": {
      "text/plain": [
       "array([-0.        , -0.28768207,  0.40546511, -0.        ,  0.40546511,\n",
       "        0.40546511,  0.40546511,  0.40546511])"
      ]
     },
     "execution_count": 213,
     "metadata": {},
     "output_type": "execute_result"
    }
   ],
   "source": [
    "calc_idf(docs, word2id, idf_smooth=True)"
   ]
  },
  {
   "cell_type": "code",
   "execution_count": 214,
   "id": "veterinary-acrobat",
   "metadata": {},
   "outputs": [
    {
     "data": {
      "text/plain": [
       "array([-0.        , -0.28768207,  0.40546511, -0.        ,  0.40546511,\n",
       "        0.40546511,  0.40546511,  0.40546511])"
      ]
     },
     "execution_count": 214,
     "metadata": {},
     "output_type": "execute_result"
    }
   ],
   "source": [
    "calc_idf(docs, word2id, idf_max=True)"
   ]
  },
  {
   "cell_type": "code",
   "execution_count": 216,
   "id": "social-realtor",
   "metadata": {},
   "outputs": [
    {
     "name": "stderr",
     "output_type": "stream",
     "text": [
      "/opt/anaconda3/envs/AI_dev/lib/python3.7/site-packages/ipykernel_launcher.py:23: RuntimeWarning: divide by zero encountered in log\n"
     ]
    },
    {
     "data": {
      "text/plain": [
       "array([-0.69314718,        -inf,  0.69314718, -0.69314718,  0.69314718,\n",
       "        0.69314718,  0.69314718,  0.69314718])"
      ]
     },
     "execution_count": 216,
     "metadata": {},
     "output_type": "execute_result"
    }
   ],
   "source": [
    "calc_idf(docs, word2id, prob_idf=True)"
   ]
  },
  {
   "cell_type": "code",
   "execution_count": null,
   "id": "subtle-bleeding",
   "metadata": {},
   "outputs": [],
   "source": []
  },
  {
   "cell_type": "code",
   "execution_count": 171,
   "id": "mathematical-willow",
   "metadata": {},
   "outputs": [],
   "source": [
    "tfs = [calc_tf(doc, word2id) for doc in docs]\n",
    "idf = calc_idf(docs, word2id)"
   ]
  },
  {
   "cell_type": "code",
   "execution_count": 186,
   "id": "sitting-celtic",
   "metadata": {},
   "outputs": [],
   "source": [
    "def calc_tfidf(tfs, idf):\n",
    "    return [tf*idf for tf in tfs]"
   ]
  },
  {
   "cell_type": "code",
   "execution_count": 188,
   "id": "loose-combine",
   "metadata": {},
   "outputs": [
    {
     "data": {
      "text/plain": [
       "[array([0.10136628, 0.        , 0.27465307, 0.10136628, 0.        ,\n",
       "        0.        , 0.        , 0.        ]),\n",
       " array([0.08109302, 0.        , 0.        , 0.16218604, 0.21972246,\n",
       "        0.        , 0.        , 0.        ]),\n",
       " array([0.        , 0.        , 0.        , 0.        , 0.        ,\n",
       "        0.21972246, 0.43944492, 0.21972246])]"
      ]
     },
     "execution_count": 188,
     "metadata": {},
     "output_type": "execute_result"
    }
   ],
   "source": [
    "tfidf = calc_tfidf(tfs, idf)\n",
    "tfidf"
   ]
  },
  {
   "cell_type": "code",
   "execution_count": 175,
   "id": "stopped-logistics",
   "metadata": {},
   "outputs": [
    {
     "data": {
      "text/plain": [
       "array([[0.10136628, 0.        , 0.27465307, 0.10136628, 0.        ,\n",
       "        0.        , 0.        , 0.        ],\n",
       "       [0.08109302, 0.        , 0.        , 0.16218604, 0.21972246,\n",
       "        0.        , 0.        , 0.        ],\n",
       "       [0.        , 0.        , 0.        , 0.        , 0.        ,\n",
       "        0.21972246, 0.43944492, 0.21972246]])"
      ]
     },
     "execution_count": 175,
     "metadata": {},
     "output_type": "execute_result"
    }
   ],
   "source": [
    "np.array(tfidf)"
   ]
  },
  {
   "cell_type": "code",
   "execution_count": 180,
   "id": "numeric-funeral",
   "metadata": {},
   "outputs": [
    {
     "data": {
      "text/html": [
       "<div>\n",
       "<style scoped>\n",
       "    .dataframe tbody tr th:only-of-type {\n",
       "        vertical-align: middle;\n",
       "    }\n",
       "\n",
       "    .dataframe tbody tr th {\n",
       "        vertical-align: top;\n",
       "    }\n",
       "\n",
       "    .dataframe thead th {\n",
       "        text-align: right;\n",
       "    }\n",
       "</style>\n",
       "<table border=\"1\" class=\"dataframe\">\n",
       "  <thead>\n",
       "    <tr style=\"text-align: right;\">\n",
       "      <th></th>\n",
       "      <th>오늘</th>\n",
       "      <th>동물원에서</th>\n",
       "      <th>원숭이를</th>\n",
       "      <th>봤어</th>\n",
       "      <th>코끼리를</th>\n",
       "      <th>원숭이에게</th>\n",
       "      <th>바나나를</th>\n",
       "      <th>줬어</th>\n",
       "    </tr>\n",
       "  </thead>\n",
       "  <tbody>\n",
       "    <tr>\n",
       "      <th>0</th>\n",
       "      <td>0.101366</td>\n",
       "      <td>0.0</td>\n",
       "      <td>0.274653</td>\n",
       "      <td>0.101366</td>\n",
       "      <td>0.000000</td>\n",
       "      <td>0.000000</td>\n",
       "      <td>0.000000</td>\n",
       "      <td>0.000000</td>\n",
       "    </tr>\n",
       "    <tr>\n",
       "      <th>1</th>\n",
       "      <td>0.081093</td>\n",
       "      <td>0.0</td>\n",
       "      <td>0.000000</td>\n",
       "      <td>0.162186</td>\n",
       "      <td>0.219722</td>\n",
       "      <td>0.000000</td>\n",
       "      <td>0.000000</td>\n",
       "      <td>0.000000</td>\n",
       "    </tr>\n",
       "    <tr>\n",
       "      <th>2</th>\n",
       "      <td>0.000000</td>\n",
       "      <td>0.0</td>\n",
       "      <td>0.000000</td>\n",
       "      <td>0.000000</td>\n",
       "      <td>0.000000</td>\n",
       "      <td>0.219722</td>\n",
       "      <td>0.439445</td>\n",
       "      <td>0.219722</td>\n",
       "    </tr>\n",
       "  </tbody>\n",
       "</table>\n",
       "</div>"
      ],
      "text/plain": [
       "         오늘  동물원에서      원숭이를        봤어      코끼리를     원숭이에게      바나나를        줬어\n",
       "0  0.101366    0.0  0.274653  0.101366  0.000000  0.000000  0.000000  0.000000\n",
       "1  0.081093    0.0  0.000000  0.162186  0.219722  0.000000  0.000000  0.000000\n",
       "2  0.000000    0.0  0.000000  0.000000  0.000000  0.219722  0.439445  0.219722"
      ]
     },
     "execution_count": 180,
     "metadata": {},
     "output_type": "execute_result"
    }
   ],
   "source": [
    "res_df = pd.DataFrame(np.array(tfidf).T, list(word2id.keys())).T\n",
    "res_df"
   ]
  },
  {
   "cell_type": "code",
   "execution_count": null,
   "id": "furnished-guyana",
   "metadata": {},
   "outputs": [],
   "source": []
  },
  {
   "cell_type": "markdown",
   "id": "realistic-foster",
   "metadata": {},
   "source": [
    "### Summary!"
   ]
  },
  {
   "cell_type": "code",
   "execution_count": 235,
   "id": "herbal-feeding",
   "metadata": {},
   "outputs": [
    {
     "name": "stdout",
     "output_type": "stream",
     "text": [
      "   The       cat  sat   on   my      face    I      hate    a       dog  \\\n",
      "0 -0.0  0.138629 -0.0 -0.0 -0.0  0.069315 -0.0  0.069315 -0.0  0.000000   \n",
      "1 -0.0  0.000000 -0.0 -0.0 -0.0  0.000000 -0.0  0.000000 -0.0  0.138629   \n",
      "\n",
      "        bed      love  \n",
      "0  0.000000  0.000000  \n",
      "1  0.069315  0.069315  \n"
     ]
    },
    {
     "data": {
      "text/plain": [
       "[array([-0.        ,  0.13862944, -0.        , -0.        , -0.        ,\n",
       "         0.06931472, -0.        ,  0.06931472, -0.        ,  0.        ,\n",
       "         0.        ,  0.        ]),\n",
       " array([-0.        ,  0.        , -0.        , -0.        , -0.        ,\n",
       "         0.        , -0.        ,  0.        , -0.        ,  0.13862944,\n",
       "         0.06931472,  0.06931472])]"
      ]
     },
     "execution_count": 235,
     "metadata": {},
     "output_type": "execute_result"
    }
   ],
   "source": [
    "docs2 = [\"The cat sat on my face I hate a cat\",\n",
    "        \"The dog sat on my bed I love a dog\"]\n",
    "\n",
    "def get_tfidf_from_docs(docs, verbose=0):\n",
    "    word2id = create_word2id(docs)\n",
    "    tfs = [calc_tf(doc, word2id) for doc in docs]\n",
    "    idf = calc_idf(docs, word2id)\n",
    "    tfidf = calc_tfidf(tfs, idf)\n",
    "    \n",
    "    if verbose:\n",
    "        print(pd.DataFrame(np.array(tfidf).T, list(word2id.keys())).T)\n",
    "    \n",
    "    return tfidf\n",
    "\n",
    "tfdif2 = get_tfidf_from_docs(docs2, verbose=1)\n",
    "tfdif2"
   ]
  },
  {
   "cell_type": "code",
   "execution_count": 230,
   "id": "incoming-appeal",
   "metadata": {},
   "outputs": [
    {
     "data": {
      "text/html": [
       "<div>\n",
       "<style scoped>\n",
       "    .dataframe tbody tr th:only-of-type {\n",
       "        vertical-align: middle;\n",
       "    }\n",
       "\n",
       "    .dataframe tbody tr th {\n",
       "        vertical-align: top;\n",
       "    }\n",
       "\n",
       "    .dataframe thead th {\n",
       "        text-align: right;\n",
       "    }\n",
       "</style>\n",
       "<table border=\"1\" class=\"dataframe\">\n",
       "  <thead>\n",
       "    <tr style=\"text-align: right;\">\n",
       "      <th></th>\n",
       "      <th>The</th>\n",
       "      <th>cat</th>\n",
       "      <th>sat</th>\n",
       "      <th>on</th>\n",
       "      <th>my</th>\n",
       "      <th>face</th>\n",
       "      <th>I</th>\n",
       "      <th>hate</th>\n",
       "      <th>a</th>\n",
       "      <th>dog</th>\n",
       "      <th>bed</th>\n",
       "      <th>love</th>\n",
       "    </tr>\n",
       "  </thead>\n",
       "  <tbody>\n",
       "    <tr>\n",
       "      <th>0</th>\n",
       "      <td>-0.0</td>\n",
       "      <td>0.138629</td>\n",
       "      <td>-0.0</td>\n",
       "      <td>-0.0</td>\n",
       "      <td>-0.0</td>\n",
       "      <td>0.069315</td>\n",
       "      <td>-0.0</td>\n",
       "      <td>0.069315</td>\n",
       "      <td>-0.0</td>\n",
       "      <td>0.000000</td>\n",
       "      <td>0.000000</td>\n",
       "      <td>0.000000</td>\n",
       "    </tr>\n",
       "    <tr>\n",
       "      <th>1</th>\n",
       "      <td>-0.0</td>\n",
       "      <td>0.000000</td>\n",
       "      <td>-0.0</td>\n",
       "      <td>-0.0</td>\n",
       "      <td>-0.0</td>\n",
       "      <td>0.000000</td>\n",
       "      <td>-0.0</td>\n",
       "      <td>0.000000</td>\n",
       "      <td>-0.0</td>\n",
       "      <td>0.138629</td>\n",
       "      <td>0.069315</td>\n",
       "      <td>0.069315</td>\n",
       "    </tr>\n",
       "  </tbody>\n",
       "</table>\n",
       "</div>"
      ],
      "text/plain": [
       "   The       cat  sat   on   my      face    I      hate    a       dog  \\\n",
       "0 -0.0  0.138629 -0.0 -0.0 -0.0  0.069315 -0.0  0.069315 -0.0  0.000000   \n",
       "1 -0.0  0.000000 -0.0 -0.0 -0.0  0.000000 -0.0  0.000000 -0.0  0.138629   \n",
       "\n",
       "        bed      love  \n",
       "0  0.000000  0.000000  \n",
       "1  0.069315  0.069315  "
      ]
     },
     "execution_count": 230,
     "metadata": {},
     "output_type": "execute_result"
    }
   ],
   "source": [
    "res_df2 = pd.DataFrame(np.array(tfidf2).T, list(word2id_2.keys())).T\n",
    "res_df2"
   ]
  },
  {
   "cell_type": "code",
   "execution_count": 242,
   "id": "innocent-logan",
   "metadata": {},
   "outputs": [
    {
     "data": {
      "text/html": [
       "<div>\n",
       "<style scoped>\n",
       "    .dataframe tbody tr th:only-of-type {\n",
       "        vertical-align: middle;\n",
       "    }\n",
       "\n",
       "    .dataframe tbody tr th {\n",
       "        vertical-align: top;\n",
       "    }\n",
       "\n",
       "    .dataframe thead th {\n",
       "        text-align: right;\n",
       "    }\n",
       "</style>\n",
       "<table border=\"1\" class=\"dataframe\">\n",
       "  <thead>\n",
       "    <tr style=\"text-align: right;\">\n",
       "      <th></th>\n",
       "      <th>cat</th>\n",
       "      <th>dog</th>\n",
       "    </tr>\n",
       "  </thead>\n",
       "  <tbody>\n",
       "    <tr>\n",
       "      <th>0</th>\n",
       "      <td>0.138629</td>\n",
       "      <td>0.000000</td>\n",
       "    </tr>\n",
       "    <tr>\n",
       "      <th>1</th>\n",
       "      <td>0.000000</td>\n",
       "      <td>0.138629</td>\n",
       "    </tr>\n",
       "  </tbody>\n",
       "</table>\n",
       "</div>"
      ],
      "text/plain": [
       "        cat       dog\n",
       "0  0.138629  0.000000\n",
       "1  0.000000  0.138629"
      ]
     },
     "execution_count": 242,
     "metadata": {},
     "output_type": "execute_result"
    }
   ],
   "source": [
    "best_tfidf_index = np.array(tfdif2).argmax(axis=1)\n",
    "res_df2.iloc[:, best_tfidf_index]"
   ]
  },
  {
   "cell_type": "code",
   "execution_count": null,
   "id": "aging-evaluation",
   "metadata": {},
   "outputs": [],
   "source": []
  }
 ],
 "metadata": {
  "kernelspec": {
   "display_name": "Python 3",
   "language": "python",
   "name": "python3"
  },
  "language_info": {
   "codemirror_mode": {
    "name": "ipython",
    "version": 3
   },
   "file_extension": ".py",
   "mimetype": "text/x-python",
   "name": "python",
   "nbconvert_exporter": "python",
   "pygments_lexer": "ipython3",
   "version": "3.7.9"
  }
 },
 "nbformat": 4,
 "nbformat_minor": 5
}
