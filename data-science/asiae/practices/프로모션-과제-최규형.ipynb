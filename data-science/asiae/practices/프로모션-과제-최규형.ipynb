{
 "cells": [
  {
   "cell_type": "markdown",
   "metadata": {
    "id": "dlJ2cJHMJ9oG"
   },
   "source": [
    "과제 \n",
    "1. RandomForest 파라미터 조정\n",
    "2. StratifiedKFold 적용\n",
    "3. XGBoost\n",
    "4. Cost-sensitive learning 적용 (https://dining-developer.tistory.com/27)"
   ]
  },
  {
   "cell_type": "markdown",
   "metadata": {},
   "source": [
    "# 1. Random Forest 파라미터 조정"
   ]
  },
  {
   "cell_type": "code",
   "execution_count": null,
   "metadata": {},
   "outputs": [],
   "source": [
    "from sklearn.model_selection import GridSearchCV\n",
    "\n",
    "params = {\n",
    "    'n_estimators':[50, 100, 150],\n",
    "    'criterion':['gini', 'entropy'],\n",
    "    'max_depth':[6, 8, 10, 12],\n",
    "    'min_samples_leaf':[8, 12, 18],\n",
    "    'min_samples_split':[8, 16, 20]\n",
    "}\n",
    "\n",
    "rf_clf = RandomForestClassifier(random_state=0, n_jobs=-1)\n",
    "grid_cv = GridSearchCV(rf_clf, param_grid=params, cv=2, n_jobs=-1)\n",
    "grid_cv.fit(X_train, y_train)"
   ]
  },
  {
   "cell_type": "code",
   "execution_count": 39,
   "metadata": {},
   "outputs": [
    {
     "data": {
      "text/plain": [
       "0.87265625"
      ]
     },
     "execution_count": 39,
     "metadata": {},
     "output_type": "execute_result"
    }
   ],
   "source": [
    "pred = grid_cv.best_estimator_.predict(X_test)\n",
    "accuracy_score(y_test, pred)"
   ]
  },
  {
   "cell_type": "code",
   "execution_count": 98,
   "metadata": {},
   "outputs": [
    {
     "data": {
      "text/plain": [
       "{'criterion': 'entropy',\n",
       " 'max_depth': 12,\n",
       " 'min_samples_leaf': 8,\n",
       " 'min_samples_split': 20,\n",
       " 'n_estimators': 50}"
      ]
     },
     "execution_count": 98,
     "metadata": {},
     "output_type": "execute_result"
    }
   ],
   "source": [
    "grid_cv.best_params_"
   ]
  },
  {
   "cell_type": "code",
   "execution_count": 53,
   "metadata": {},
   "outputs": [
    {
     "data": {
      "text/plain": [
       "array([[10879,    60],\n",
       "       [ 1570,   291]])"
      ]
     },
     "execution_count": 53,
     "metadata": {},
     "output_type": "execute_result"
    }
   ],
   "source": [
    "rf_cfm = confusion_matrix(y_test, pred)\n",
    "rf_cfm"
   ]
  },
  {
   "cell_type": "code",
   "execution_count": 112,
   "metadata": {},
   "outputs": [
    {
     "name": "stdout",
     "output_type": "stream",
     "text": [
      "              precision    recall  f1-score   support\n",
      "\n",
      "           0       0.87      0.99      0.93     10939\n",
      "           1       0.83      0.16      0.26      1861\n",
      "\n",
      "    accuracy                           0.87     12800\n",
      "   macro avg       0.85      0.58      0.60     12800\n",
      "weighted avg       0.87      0.87      0.83     12800\n",
      "\n"
     ]
    }
   ],
   "source": [
    "from sklearn.metrics import classification_report\n",
    "print(classification_report(y_test, pred))"
   ]
  },
  {
   "cell_type": "code",
   "execution_count": null,
   "metadata": {},
   "outputs": [],
   "source": []
  },
  {
   "cell_type": "markdown",
   "metadata": {},
   "source": [
    "# 2. StratifiedKFold 적용"
   ]
  },
  {
   "cell_type": "code",
   "execution_count": 40,
   "metadata": {},
   "outputs": [
    {
     "data": {
      "text/plain": [
       "0.873515625"
      ]
     },
     "execution_count": 40,
     "metadata": {},
     "output_type": "execute_result"
    }
   ],
   "source": [
    "from sklearn.model_selection import StratifiedKFold\n",
    "\n",
    "rf_clf = RandomForestClassifier(random_state=0, n_jobs=-1)\n",
    "grid_cv_skf = GridSearchCV(rf_clf, param_grid=params,\n",
    "                              cv=StratifiedKFold(n_splits=5),\n",
    "                              n_jobs=-1)\n",
    "grid_cv_skf.fit(X_train, y_train)\n",
    "pred_skf = grid_cv_skf.best_estimator_.predict(X_test)\n",
    "accuracy_score(y_test, pred_skf)"
   ]
  },
  {
   "cell_type": "code",
   "execution_count": 54,
   "metadata": {},
   "outputs": [
    {
     "data": {
      "text/plain": [
       "array([[10881,    58],\n",
       "       [ 1561,   300]])"
      ]
     },
     "execution_count": 54,
     "metadata": {},
     "output_type": "execute_result"
    }
   ],
   "source": [
    "rf_skf_cfm = confusion_matrix(y_test, pred_skf)\n",
    "rf_skf_cfm"
   ]
  },
  {
   "cell_type": "code",
   "execution_count": 114,
   "metadata": {},
   "outputs": [
    {
     "name": "stdout",
     "output_type": "stream",
     "text": [
      "              precision    recall  f1-score   support\n",
      "\n",
      "           0       0.87      0.99      0.93     10939\n",
      "           1       0.84      0.16      0.27      1861\n",
      "\n",
      "    accuracy                           0.87     12800\n",
      "   macro avg       0.86      0.58      0.60     12800\n",
      "weighted avg       0.87      0.87      0.83     12800\n",
      "\n"
     ]
    }
   ],
   "source": [
    "print(classification_report(y_test, pred_skf))"
   ]
  },
  {
   "cell_type": "code",
   "execution_count": null,
   "metadata": {},
   "outputs": [],
   "source": []
  },
  {
   "cell_type": "markdown",
   "metadata": {},
   "source": [
    "# 3. XGBoost"
   ]
  },
  {
   "cell_type": "code",
   "execution_count": 47,
   "metadata": {
    "collapsed": true
   },
   "outputs": [
    {
     "name": "stdout",
     "output_type": "stream",
     "text": [
      "[0]\tvalidation_0-logloss:0.64053\n",
      "[1]\tvalidation_0-logloss:0.59756\n",
      "[2]\tvalidation_0-logloss:0.56163\n",
      "[3]\tvalidation_0-logloss:0.53150\n",
      "[4]\tvalidation_0-logloss:0.50620\n",
      "[5]\tvalidation_0-logloss:0.48457\n",
      "[6]\tvalidation_0-logloss:0.46616\n",
      "[7]\tvalidation_0-logloss:0.45050\n",
      "[8]\tvalidation_0-logloss:0.43694\n",
      "[9]\tvalidation_0-logloss:0.42528\n",
      "[10]\tvalidation_0-logloss:0.41516\n",
      "[11]\tvalidation_0-logloss:0.40642\n",
      "[12]\tvalidation_0-logloss:0.39867\n",
      "[13]\tvalidation_0-logloss:0.39195\n",
      "[14]\tvalidation_0-logloss:0.38618\n",
      "[15]\tvalidation_0-logloss:0.38111\n",
      "[16]\tvalidation_0-logloss:0.37652\n",
      "[17]\tvalidation_0-logloss:0.37260\n",
      "[18]\tvalidation_0-logloss:0.36902\n",
      "[19]\tvalidation_0-logloss:0.36589\n",
      "[20]\tvalidation_0-logloss:0.36306\n",
      "[21]\tvalidation_0-logloss:0.36075\n",
      "[22]\tvalidation_0-logloss:0.35853\n",
      "[23]\tvalidation_0-logloss:0.35679\n",
      "[24]\tvalidation_0-logloss:0.35499\n",
      "[25]\tvalidation_0-logloss:0.35348\n",
      "[26]\tvalidation_0-logloss:0.35218\n",
      "[27]\tvalidation_0-logloss:0.35069\n",
      "[28]\tvalidation_0-logloss:0.34940\n",
      "[29]\tvalidation_0-logloss:0.34834\n",
      "[30]\tvalidation_0-logloss:0.34725\n",
      "[31]\tvalidation_0-logloss:0.34638\n",
      "[32]\tvalidation_0-logloss:0.34547\n",
      "[33]\tvalidation_0-logloss:0.34472\n",
      "[34]\tvalidation_0-logloss:0.34404\n",
      "[35]\tvalidation_0-logloss:0.34327\n",
      "[36]\tvalidation_0-logloss:0.34255\n",
      "[37]\tvalidation_0-logloss:0.34193\n",
      "[38]\tvalidation_0-logloss:0.34137\n",
      "[39]\tvalidation_0-logloss:0.34084\n",
      "[40]\tvalidation_0-logloss:0.34034\n",
      "[41]\tvalidation_0-logloss:0.33985\n",
      "[42]\tvalidation_0-logloss:0.33941\n",
      "[43]\tvalidation_0-logloss:0.33909\n",
      "[44]\tvalidation_0-logloss:0.33871\n",
      "[45]\tvalidation_0-logloss:0.33838\n",
      "[46]\tvalidation_0-logloss:0.33798\n",
      "[47]\tvalidation_0-logloss:0.33766\n",
      "[48]\tvalidation_0-logloss:0.33726\n",
      "[49]\tvalidation_0-logloss:0.33688\n",
      "[50]\tvalidation_0-logloss:0.33659\n",
      "[51]\tvalidation_0-logloss:0.33634\n",
      "[52]\tvalidation_0-logloss:0.33614\n",
      "[53]\tvalidation_0-logloss:0.33563\n",
      "[54]\tvalidation_0-logloss:0.33539\n",
      "[55]\tvalidation_0-logloss:0.33520\n",
      "[56]\tvalidation_0-logloss:0.33496\n",
      "[57]\tvalidation_0-logloss:0.33478\n",
      "[58]\tvalidation_0-logloss:0.33456\n",
      "[59]\tvalidation_0-logloss:0.33437\n",
      "[60]\tvalidation_0-logloss:0.33419\n",
      "[61]\tvalidation_0-logloss:0.33396\n",
      "[62]\tvalidation_0-logloss:0.33382\n",
      "[63]\tvalidation_0-logloss:0.33326\n",
      "[64]\tvalidation_0-logloss:0.33311\n",
      "[65]\tvalidation_0-logloss:0.33293\n",
      "[66]\tvalidation_0-logloss:0.33277\n",
      "[67]\tvalidation_0-logloss:0.33259\n",
      "[68]\tvalidation_0-logloss:0.33245\n",
      "[69]\tvalidation_0-logloss:0.33234\n",
      "[70]\tvalidation_0-logloss:0.33220\n",
      "[71]\tvalidation_0-logloss:0.33211\n",
      "[72]\tvalidation_0-logloss:0.33190\n",
      "[73]\tvalidation_0-logloss:0.33178\n",
      "[74]\tvalidation_0-logloss:0.33167\n",
      "[75]\tvalidation_0-logloss:0.33145\n",
      "[76]\tvalidation_0-logloss:0.33139\n",
      "[77]\tvalidation_0-logloss:0.33100\n",
      "[78]\tvalidation_0-logloss:0.33087\n",
      "[79]\tvalidation_0-logloss:0.33078\n",
      "[80]\tvalidation_0-logloss:0.33067\n",
      "[81]\tvalidation_0-logloss:0.33060\n",
      "[82]\tvalidation_0-logloss:0.33054\n",
      "[83]\tvalidation_0-logloss:0.33037\n",
      "[84]\tvalidation_0-logloss:0.33029\n",
      "[85]\tvalidation_0-logloss:0.33024\n",
      "[86]\tvalidation_0-logloss:0.33004\n",
      "[87]\tvalidation_0-logloss:0.32997\n",
      "[88]\tvalidation_0-logloss:0.32986\n",
      "[89]\tvalidation_0-logloss:0.32959\n",
      "[90]\tvalidation_0-logloss:0.32948\n",
      "[91]\tvalidation_0-logloss:0.32943\n",
      "[92]\tvalidation_0-logloss:0.32932\n",
      "[93]\tvalidation_0-logloss:0.32932\n",
      "[94]\tvalidation_0-logloss:0.32918\n",
      "[95]\tvalidation_0-logloss:0.32893\n",
      "[96]\tvalidation_0-logloss:0.32887\n",
      "[97]\tvalidation_0-logloss:0.32873\n",
      "[98]\tvalidation_0-logloss:0.32866\n",
      "[99]\tvalidation_0-logloss:0.32855\n",
      "[100]\tvalidation_0-logloss:0.32849\n",
      "[101]\tvalidation_0-logloss:0.32844\n",
      "[102]\tvalidation_0-logloss:0.32837\n",
      "[103]\tvalidation_0-logloss:0.32833\n",
      "[104]\tvalidation_0-logloss:0.32831\n",
      "[105]\tvalidation_0-logloss:0.32829\n",
      "[106]\tvalidation_0-logloss:0.32827\n",
      "[107]\tvalidation_0-logloss:0.32811\n",
      "[108]\tvalidation_0-logloss:0.32789\n",
      "[109]\tvalidation_0-logloss:0.32786\n",
      "[110]\tvalidation_0-logloss:0.32776\n",
      "[111]\tvalidation_0-logloss:0.32763\n",
      "[112]\tvalidation_0-logloss:0.32763\n",
      "[113]\tvalidation_0-logloss:0.32761\n",
      "[114]\tvalidation_0-logloss:0.32762\n",
      "[115]\tvalidation_0-logloss:0.32737\n",
      "[116]\tvalidation_0-logloss:0.32719\n",
      "[117]\tvalidation_0-logloss:0.32714\n",
      "[118]\tvalidation_0-logloss:0.32712\n",
      "[119]\tvalidation_0-logloss:0.32710\n",
      "[120]\tvalidation_0-logloss:0.32699\n",
      "[121]\tvalidation_0-logloss:0.32689\n",
      "[122]\tvalidation_0-logloss:0.32664\n",
      "[123]\tvalidation_0-logloss:0.32648\n",
      "[124]\tvalidation_0-logloss:0.32645\n",
      "[125]\tvalidation_0-logloss:0.32638\n",
      "[126]\tvalidation_0-logloss:0.32631\n",
      "[127]\tvalidation_0-logloss:0.32634\n",
      "[128]\tvalidation_0-logloss:0.32629\n",
      "[129]\tvalidation_0-logloss:0.32622\n",
      "[130]\tvalidation_0-logloss:0.32595\n",
      "[131]\tvalidation_0-logloss:0.32579\n",
      "[132]\tvalidation_0-logloss:0.32569\n",
      "[133]\tvalidation_0-logloss:0.32565\n",
      "[134]\tvalidation_0-logloss:0.32565\n",
      "[135]\tvalidation_0-logloss:0.32557\n",
      "[136]\tvalidation_0-logloss:0.32547\n",
      "[137]\tvalidation_0-logloss:0.32531\n",
      "[138]\tvalidation_0-logloss:0.32510\n",
      "[139]\tvalidation_0-logloss:0.32508\n",
      "[140]\tvalidation_0-logloss:0.32501\n",
      "[141]\tvalidation_0-logloss:0.32499\n",
      "[142]\tvalidation_0-logloss:0.32496\n",
      "[143]\tvalidation_0-logloss:0.32492\n",
      "[144]\tvalidation_0-logloss:0.32490\n",
      "[145]\tvalidation_0-logloss:0.32476\n",
      "[146]\tvalidation_0-logloss:0.32471\n",
      "[147]\tvalidation_0-logloss:0.32455\n",
      "[148]\tvalidation_0-logloss:0.32442\n",
      "[149]\tvalidation_0-logloss:0.32434\n",
      "[150]\tvalidation_0-logloss:0.32434\n",
      "[151]\tvalidation_0-logloss:0.32433\n",
      "[152]\tvalidation_0-logloss:0.32435\n",
      "[153]\tvalidation_0-logloss:0.32433\n",
      "[154]\tvalidation_0-logloss:0.32427\n",
      "[155]\tvalidation_0-logloss:0.32425\n",
      "[156]\tvalidation_0-logloss:0.32422\n",
      "[157]\tvalidation_0-logloss:0.32419\n",
      "[158]\tvalidation_0-logloss:0.32415\n",
      "[159]\tvalidation_0-logloss:0.32410\n",
      "[160]\tvalidation_0-logloss:0.32411\n",
      "[161]\tvalidation_0-logloss:0.32403\n",
      "[162]\tvalidation_0-logloss:0.32391\n",
      "[163]\tvalidation_0-logloss:0.32389\n",
      "[164]\tvalidation_0-logloss:0.32381\n",
      "[165]\tvalidation_0-logloss:0.32379\n",
      "[166]\tvalidation_0-logloss:0.32378\n",
      "[167]\tvalidation_0-logloss:0.32365\n",
      "[168]\tvalidation_0-logloss:0.32349\n",
      "[169]\tvalidation_0-logloss:0.32340\n",
      "[170]\tvalidation_0-logloss:0.32340\n",
      "[171]\tvalidation_0-logloss:0.32337\n",
      "[172]\tvalidation_0-logloss:0.32337\n",
      "[173]\tvalidation_0-logloss:0.32336\n",
      "[174]\tvalidation_0-logloss:0.32319\n",
      "[175]\tvalidation_0-logloss:0.32308\n",
      "[176]\tvalidation_0-logloss:0.32307\n",
      "[177]\tvalidation_0-logloss:0.32304\n",
      "[178]\tvalidation_0-logloss:0.32304\n",
      "[179]\tvalidation_0-logloss:0.32296\n",
      "[180]\tvalidation_0-logloss:0.32290\n",
      "[181]\tvalidation_0-logloss:0.32288\n",
      "[182]\tvalidation_0-logloss:0.32292\n",
      "[183]\tvalidation_0-logloss:0.32290\n",
      "[184]\tvalidation_0-logloss:0.32284\n",
      "[185]\tvalidation_0-logloss:0.32283\n",
      "[186]\tvalidation_0-logloss:0.32281\n",
      "[187]\tvalidation_0-logloss:0.32279\n",
      "[188]\tvalidation_0-logloss:0.32271\n",
      "[189]\tvalidation_0-logloss:0.32261\n",
      "[190]\tvalidation_0-logloss:0.32249\n",
      "[191]\tvalidation_0-logloss:0.32237\n",
      "[192]\tvalidation_0-logloss:0.32234\n",
      "[193]\tvalidation_0-logloss:0.32232\n",
      "[194]\tvalidation_0-logloss:0.32229\n",
      "[195]\tvalidation_0-logloss:0.32226\n",
      "[196]\tvalidation_0-logloss:0.32225\n",
      "[197]\tvalidation_0-logloss:0.32223\n",
      "[198]\tvalidation_0-logloss:0.32223\n",
      "[199]\tvalidation_0-logloss:0.32218\n",
      "[200]\tvalidation_0-logloss:0.32218\n",
      "[201]\tvalidation_0-logloss:0.32214\n",
      "[202]\tvalidation_0-logloss:0.32211\n",
      "[203]\tvalidation_0-logloss:0.32207\n",
      "[204]\tvalidation_0-logloss:0.32204\n",
      "[205]\tvalidation_0-logloss:0.32203\n",
      "[206]\tvalidation_0-logloss:0.32199\n",
      "[207]\tvalidation_0-logloss:0.32199\n",
      "[208]\tvalidation_0-logloss:0.32200\n",
      "[209]\tvalidation_0-logloss:0.32188\n",
      "[210]\tvalidation_0-logloss:0.32183\n",
      "[211]\tvalidation_0-logloss:0.32183\n",
      "[212]\tvalidation_0-logloss:0.32184\n",
      "[213]\tvalidation_0-logloss:0.32174\n",
      "[214]\tvalidation_0-logloss:0.32173\n",
      "[215]\tvalidation_0-logloss:0.32166\n",
      "[216]\tvalidation_0-logloss:0.32164\n",
      "[217]\tvalidation_0-logloss:0.32164\n",
      "[218]\tvalidation_0-logloss:0.32164\n",
      "[219]\tvalidation_0-logloss:0.32164\n",
      "[220]\tvalidation_0-logloss:0.32166\n",
      "[221]\tvalidation_0-logloss:0.32161\n",
      "[222]\tvalidation_0-logloss:0.32158\n",
      "[223]\tvalidation_0-logloss:0.32158\n",
      "[224]\tvalidation_0-logloss:0.32157\n",
      "[225]\tvalidation_0-logloss:0.32155\n",
      "[226]\tvalidation_0-logloss:0.32153\n",
      "[227]\tvalidation_0-logloss:0.32153\n",
      "[228]\tvalidation_0-logloss:0.32149\n",
      "[229]\tvalidation_0-logloss:0.32139\n",
      "[230]\tvalidation_0-logloss:0.32138\n",
      "[231]\tvalidation_0-logloss:0.32134\n",
      "[232]\tvalidation_0-logloss:0.32134\n",
      "[233]\tvalidation_0-logloss:0.32133\n",
      "[234]\tvalidation_0-logloss:0.32131\n",
      "[235]\tvalidation_0-logloss:0.32133\n",
      "[236]\tvalidation_0-logloss:0.32132\n",
      "[237]\tvalidation_0-logloss:0.32124\n"
     ]
    },
    {
     "name": "stdout",
     "output_type": "stream",
     "text": [
      "[238]\tvalidation_0-logloss:0.32124\n",
      "[239]\tvalidation_0-logloss:0.32115\n",
      "[240]\tvalidation_0-logloss:0.32110\n",
      "[241]\tvalidation_0-logloss:0.32107\n",
      "[242]\tvalidation_0-logloss:0.32106\n",
      "[243]\tvalidation_0-logloss:0.32105\n",
      "[244]\tvalidation_0-logloss:0.32103\n",
      "[245]\tvalidation_0-logloss:0.32102\n",
      "[246]\tvalidation_0-logloss:0.32099\n",
      "[247]\tvalidation_0-logloss:0.32100\n",
      "[248]\tvalidation_0-logloss:0.32099\n",
      "[249]\tvalidation_0-logloss:0.32090\n",
      "[250]\tvalidation_0-logloss:0.32080\n",
      "[251]\tvalidation_0-logloss:0.32080\n",
      "[252]\tvalidation_0-logloss:0.32079\n",
      "[253]\tvalidation_0-logloss:0.32079\n",
      "[254]\tvalidation_0-logloss:0.32068\n",
      "[255]\tvalidation_0-logloss:0.32064\n",
      "[256]\tvalidation_0-logloss:0.32063\n",
      "[257]\tvalidation_0-logloss:0.32062\n",
      "[258]\tvalidation_0-logloss:0.32064\n",
      "[259]\tvalidation_0-logloss:0.32065\n",
      "[260]\tvalidation_0-logloss:0.32066\n",
      "[261]\tvalidation_0-logloss:0.32065\n",
      "[262]\tvalidation_0-logloss:0.32062\n",
      "[263]\tvalidation_0-logloss:0.32056\n",
      "[264]\tvalidation_0-logloss:0.32056\n",
      "[265]\tvalidation_0-logloss:0.32054\n",
      "[266]\tvalidation_0-logloss:0.32054\n",
      "[267]\tvalidation_0-logloss:0.32052\n",
      "[268]\tvalidation_0-logloss:0.32051\n",
      "[269]\tvalidation_0-logloss:0.32048\n",
      "[270]\tvalidation_0-logloss:0.32050\n",
      "[271]\tvalidation_0-logloss:0.32049\n",
      "[272]\tvalidation_0-logloss:0.32048\n",
      "[273]\tvalidation_0-logloss:0.32047\n",
      "[274]\tvalidation_0-logloss:0.32045\n",
      "[275]\tvalidation_0-logloss:0.32043\n",
      "[276]\tvalidation_0-logloss:0.32043\n",
      "[277]\tvalidation_0-logloss:0.32042\n",
      "[278]\tvalidation_0-logloss:0.32037\n",
      "[279]\tvalidation_0-logloss:0.32035\n",
      "[280]\tvalidation_0-logloss:0.32031\n",
      "[281]\tvalidation_0-logloss:0.32031\n",
      "[282]\tvalidation_0-logloss:0.32027\n",
      "[283]\tvalidation_0-logloss:0.32027\n",
      "[284]\tvalidation_0-logloss:0.32030\n",
      "[285]\tvalidation_0-logloss:0.32028\n",
      "[286]\tvalidation_0-logloss:0.32028\n",
      "[287]\tvalidation_0-logloss:0.32029\n",
      "[288]\tvalidation_0-logloss:0.32027\n",
      "[289]\tvalidation_0-logloss:0.32027\n",
      "[290]\tvalidation_0-logloss:0.32027\n",
      "[291]\tvalidation_0-logloss:0.32023\n",
      "[292]\tvalidation_0-logloss:0.32023\n",
      "[293]\tvalidation_0-logloss:0.32022\n",
      "[294]\tvalidation_0-logloss:0.32021\n",
      "[295]\tvalidation_0-logloss:0.32019\n",
      "[296]\tvalidation_0-logloss:0.32022\n",
      "[297]\tvalidation_0-logloss:0.32021\n",
      "[298]\tvalidation_0-logloss:0.32021\n",
      "[299]\tvalidation_0-logloss:0.32017\n",
      "[300]\tvalidation_0-logloss:0.32017\n",
      "[301]\tvalidation_0-logloss:0.32017\n",
      "[302]\tvalidation_0-logloss:0.32018\n",
      "[303]\tvalidation_0-logloss:0.32017\n",
      "[304]\tvalidation_0-logloss:0.32017\n",
      "[305]\tvalidation_0-logloss:0.32012\n",
      "[306]\tvalidation_0-logloss:0.32005\n",
      "[307]\tvalidation_0-logloss:0.31999\n",
      "[308]\tvalidation_0-logloss:0.31996\n",
      "[309]\tvalidation_0-logloss:0.31996\n",
      "[310]\tvalidation_0-logloss:0.31995\n",
      "[311]\tvalidation_0-logloss:0.31995\n",
      "[312]\tvalidation_0-logloss:0.31989\n",
      "[313]\tvalidation_0-logloss:0.31989\n",
      "[314]\tvalidation_0-logloss:0.31988\n",
      "[315]\tvalidation_0-logloss:0.31988\n",
      "[316]\tvalidation_0-logloss:0.31987\n",
      "[317]\tvalidation_0-logloss:0.31986\n",
      "[318]\tvalidation_0-logloss:0.31988\n",
      "[319]\tvalidation_0-logloss:0.31987\n",
      "[320]\tvalidation_0-logloss:0.31987\n",
      "[321]\tvalidation_0-logloss:0.31986\n",
      "[322]\tvalidation_0-logloss:0.31983\n",
      "[323]\tvalidation_0-logloss:0.31976\n",
      "[324]\tvalidation_0-logloss:0.31976\n",
      "[325]\tvalidation_0-logloss:0.31975\n",
      "[326]\tvalidation_0-logloss:0.31976\n",
      "[327]\tvalidation_0-logloss:0.31977\n",
      "[328]\tvalidation_0-logloss:0.31974\n",
      "[329]\tvalidation_0-logloss:0.31975\n",
      "[330]\tvalidation_0-logloss:0.31975\n",
      "[331]\tvalidation_0-logloss:0.31975\n",
      "[332]\tvalidation_0-logloss:0.31972\n",
      "[333]\tvalidation_0-logloss:0.31972\n",
      "[334]\tvalidation_0-logloss:0.31971\n",
      "[335]\tvalidation_0-logloss:0.31968\n",
      "[336]\tvalidation_0-logloss:0.31961\n",
      "[337]\tvalidation_0-logloss:0.31961\n",
      "[338]\tvalidation_0-logloss:0.31955\n",
      "[339]\tvalidation_0-logloss:0.31953\n",
      "[340]\tvalidation_0-logloss:0.31953\n",
      "[341]\tvalidation_0-logloss:0.31948\n",
      "[342]\tvalidation_0-logloss:0.31948\n",
      "[343]\tvalidation_0-logloss:0.31946\n",
      "[344]\tvalidation_0-logloss:0.31940\n",
      "[345]\tvalidation_0-logloss:0.31941\n",
      "[346]\tvalidation_0-logloss:0.31935\n",
      "[347]\tvalidation_0-logloss:0.31936\n",
      "[348]\tvalidation_0-logloss:0.31933\n",
      "[349]\tvalidation_0-logloss:0.31935\n",
      "[350]\tvalidation_0-logloss:0.31934\n",
      "[351]\tvalidation_0-logloss:0.31933\n",
      "[352]\tvalidation_0-logloss:0.31933\n",
      "[353]\tvalidation_0-logloss:0.31933\n",
      "[354]\tvalidation_0-logloss:0.31928\n",
      "[355]\tvalidation_0-logloss:0.31922\n",
      "[356]\tvalidation_0-logloss:0.31922\n",
      "[357]\tvalidation_0-logloss:0.31920\n",
      "[358]\tvalidation_0-logloss:0.31921\n",
      "[359]\tvalidation_0-logloss:0.31920\n",
      "[360]\tvalidation_0-logloss:0.31921\n",
      "[361]\tvalidation_0-logloss:0.31919\n",
      "[362]\tvalidation_0-logloss:0.31920\n",
      "[363]\tvalidation_0-logloss:0.31920\n",
      "[364]\tvalidation_0-logloss:0.31922\n",
      "[365]\tvalidation_0-logloss:0.31921\n",
      "[366]\tvalidation_0-logloss:0.31921\n",
      "[367]\tvalidation_0-logloss:0.31920\n",
      "[368]\tvalidation_0-logloss:0.31919\n",
      "[369]\tvalidation_0-logloss:0.31920\n",
      "[370]\tvalidation_0-logloss:0.31912\n",
      "[371]\tvalidation_0-logloss:0.31911\n",
      "[372]\tvalidation_0-logloss:0.31910\n",
      "[373]\tvalidation_0-logloss:0.31909\n",
      "[374]\tvalidation_0-logloss:0.31905\n",
      "[375]\tvalidation_0-logloss:0.31904\n",
      "[376]\tvalidation_0-logloss:0.31903\n",
      "[377]\tvalidation_0-logloss:0.31900\n",
      "[378]\tvalidation_0-logloss:0.31900\n",
      "[379]\tvalidation_0-logloss:0.31896\n",
      "[380]\tvalidation_0-logloss:0.31891\n",
      "[381]\tvalidation_0-logloss:0.31890\n",
      "[382]\tvalidation_0-logloss:0.31888\n",
      "[383]\tvalidation_0-logloss:0.31889\n",
      "[384]\tvalidation_0-logloss:0.31889\n",
      "[385]\tvalidation_0-logloss:0.31891\n",
      "[386]\tvalidation_0-logloss:0.31891\n",
      "[387]\tvalidation_0-logloss:0.31890\n",
      "[388]\tvalidation_0-logloss:0.31889\n",
      "[389]\tvalidation_0-logloss:0.31888\n",
      "[390]\tvalidation_0-logloss:0.31889\n",
      "[391]\tvalidation_0-logloss:0.31889\n",
      "[392]\tvalidation_0-logloss:0.31889\n",
      "[393]\tvalidation_0-logloss:0.31890\n",
      "[394]\tvalidation_0-logloss:0.31887\n",
      "[395]\tvalidation_0-logloss:0.31885\n",
      "[396]\tvalidation_0-logloss:0.31884\n",
      "[397]\tvalidation_0-logloss:0.31888\n",
      "[398]\tvalidation_0-logloss:0.31887\n",
      "[399]\tvalidation_0-logloss:0.31886\n"
     ]
    },
    {
     "data": {
      "text/plain": [
       "0.8803125"
      ]
     },
     "execution_count": 47,
     "metadata": {},
     "output_type": "execute_result"
    }
   ],
   "source": [
    "from xgboost import XGBClassifier\n",
    "\n",
    "xgb_clf = XGBClassifier(n_estimators=400, learning_rate=0.1, max_depth=3)\n",
    "evals = [(X_test, y_test)]\n",
    "\n",
    "xgb_clf.fit(X_train, y_train, early_stopping_rounds=400, eval_set=evals,\n",
    "           eval_metric=\"logloss\", verbose=True)\n",
    "\n",
    "xgb_pred = xgb_clf.predict(X_test)\n",
    "xgb_pred_proba = xgb_clf.predict_proba(X_test)[:, 1]\n",
    "xgb_accuracy = accuracy_score(y_test, xgb_pred)\n",
    "xgb_accuracy"
   ]
  },
  {
   "cell_type": "code",
   "execution_count": 49,
   "metadata": {},
   "outputs": [
    {
     "data": {
      "text/plain": [
       "0.8803125"
      ]
     },
     "execution_count": 49,
     "metadata": {},
     "output_type": "execute_result"
    }
   ],
   "source": [
    "xgb_accuracy"
   ]
  },
  {
   "cell_type": "code",
   "execution_count": 66,
   "metadata": {},
   "outputs": [
    {
     "data": {
      "text/plain": [
       "array([[10848,    91],\n",
       "       [ 1441,   420]])"
      ]
     },
     "execution_count": 66,
     "metadata": {},
     "output_type": "execute_result"
    }
   ],
   "source": [
    "xgb_cfm = confusion_matrix(y_test, xgb_pred)\n",
    "xgb_cfm"
   ]
  },
  {
   "cell_type": "code",
   "execution_count": 115,
   "metadata": {},
   "outputs": [
    {
     "name": "stdout",
     "output_type": "stream",
     "text": [
      "              precision    recall  f1-score   support\n",
      "\n",
      "           0       0.88      0.99      0.93     10939\n",
      "           1       0.82      0.23      0.35      1861\n",
      "\n",
      "    accuracy                           0.88     12800\n",
      "   macro avg       0.85      0.61      0.64     12800\n",
      "weighted avg       0.87      0.88      0.85     12800\n",
      "\n"
     ]
    }
   ],
   "source": [
    "print(classification_report(y_test, xgb_pred))"
   ]
  },
  {
   "cell_type": "code",
   "execution_count": null,
   "metadata": {},
   "outputs": [],
   "source": []
  },
  {
   "cell_type": "markdown",
   "metadata": {},
   "source": [
    "# 4. Cost-sensitive learning"
   ]
  },
  {
   "cell_type": "markdown",
   "metadata": {},
   "source": [
    "### Weight 1\n",
    "from `y_test`"
   ]
  },
  {
   "cell_type": "code",
   "execution_count": 71,
   "metadata": {},
   "outputs": [
    {
     "data": {
      "text/plain": [
       "{0: 0.17012523996709022, 1: 5.878022568511553}"
      ]
     },
     "execution_count": 71,
     "metadata": {},
     "output_type": "execute_result"
    }
   ],
   "source": [
    "weight1 = {0: y_test.value_counts()[1]/y_test.value_counts()[0],\n",
    "          1: y_test.value_counts()[0]/y_test.value_counts()[1]}\n",
    "weight1"
   ]
  },
  {
   "cell_type": "markdown",
   "metadata": {},
   "source": [
    "### Weight 2\n",
    "from confusion matrix\n",
    "- 1을 더 잘 맞추도록\n",
    "- 0은 덜 신경쓰도록"
   ]
  },
  {
   "cell_type": "code",
   "execution_count": 59,
   "metadata": {},
   "outputs": [
    {
     "data": {
      "text/plain": [
       "array([[32608,   209],\n",
       "       [ 4572,  1011]])"
      ]
     },
     "execution_count": 59,
     "metadata": {},
     "output_type": "execute_result"
    }
   ],
   "source": [
    "total_cfm = rf_cfm + rf_skf_cfm + xgb_cfm\n",
    "total_cfm"
   ]
  },
  {
   "cell_type": "code",
   "execution_count": 61,
   "metadata": {},
   "outputs": [],
   "source": [
    "t_tn, t_fp, t_fn, t_tp = total_cfm.ravel()"
   ]
  },
  {
   "cell_type": "code",
   "execution_count": 72,
   "metadata": {},
   "outputs": [
    {
     "data": {
      "text/plain": [
       "(32608, 209, 4572, 1011)"
      ]
     },
     "execution_count": 72,
     "metadata": {},
     "output_type": "execute_result"
    }
   ],
   "source": [
    "t_tn, t_fp, t_fn, t_tp"
   ]
  },
  {
   "cell_type": "code",
   "execution_count": 73,
   "metadata": {},
   "outputs": [
    {
     "data": {
      "text/plain": [
       "{0: 0.045713035870516186, 1: 21.875598086124402}"
      ]
     },
     "execution_count": 73,
     "metadata": {},
     "output_type": "execute_result"
    }
   ],
   "source": [
    "weight2 = {0: t_fp/t_fn,\n",
    "          1: t_fn/t_fp}\n",
    "weight2"
   ]
  },
  {
   "cell_type": "code",
   "execution_count": null,
   "metadata": {},
   "outputs": [],
   "source": []
  },
  {
   "cell_type": "markdown",
   "metadata": {},
   "source": [
    "### Weight3\n",
    "weight1 + weight2"
   ]
  },
  {
   "cell_type": "code",
   "execution_count": 82,
   "metadata": {},
   "outputs": [
    {
     "data": {
      "text/plain": [
       "{0: 0.2158382758376064, 1: 27.753620654635956}"
      ]
     },
     "execution_count": 82,
     "metadata": {},
     "output_type": "execute_result"
    }
   ],
   "source": [
    "weight3 = {i: v1+v2 for i, (v1,v2) in enumerate(zip(weight1.values(), weight2.values()))}\n",
    "weight3"
   ]
  },
  {
   "cell_type": "code",
   "execution_count": null,
   "metadata": {},
   "outputs": [],
   "source": []
  },
  {
   "cell_type": "markdown",
   "metadata": {},
   "source": [
    "### Weight4\n",
    "weight1 * weight2"
   ]
  },
  {
   "cell_type": "code",
   "execution_count": 83,
   "metadata": {},
   "outputs": [
    {
     "data": {
      "text/plain": [
       "{0: 0.007776941197095769, 1: 128.58525924992736}"
      ]
     },
     "execution_count": 83,
     "metadata": {},
     "output_type": "execute_result"
    }
   ],
   "source": [
    "weight4 = {i: v1*v2 for i, (v1,v2) in enumerate(zip(weight1.values(), weight2.values()))}\n",
    "weight4"
   ]
  },
  {
   "cell_type": "code",
   "execution_count": 88,
   "metadata": {},
   "outputs": [],
   "source": [
    "weights = [weight1, weight2, weight3, weight4]"
   ]
  },
  {
   "cell_type": "code",
   "execution_count": null,
   "metadata": {},
   "outputs": [],
   "source": []
  },
  {
   "cell_type": "markdown",
   "metadata": {},
   "source": [
    "### RandomForest GridSearch + weights"
   ]
  },
  {
   "cell_type": "code",
   "execution_count": 93,
   "metadata": {},
   "outputs": [
    {
     "data": {
      "text/plain": [
       "0.374921875"
      ]
     },
     "execution_count": 93,
     "metadata": {},
     "output_type": "execute_result"
    }
   ],
   "source": [
    "#from sklearn.model_selection import StratifiedKFold\n",
    "\n",
    "params = {\n",
    "    'n_estimators':[50, 100, 150],\n",
    "    'criterion':['gini', 'entropy'],\n",
    "    'max_depth':[6, 8, 10, 12],\n",
    "    'min_samples_leaf':[8, 12, 18],\n",
    "    'min_samples_split':[8, 16, 20],\n",
    "    'class_weight':weights\n",
    "}\n",
    "\n",
    "rf_clf = RandomForestClassifier(random_state=0, n_jobs=-1)\n",
    "grid_cv_skf_w = GridSearchCV(rf_clf, param_grid=params,\n",
    "                              cv=StratifiedKFold(n_splits=5),\n",
    "                              n_jobs=-1)\n",
    "grid_cv_skf_w.fit(X_train, y_train)\n",
    "pred_skf_w = grid_cv_skf_w.best_estimator_.predict(X_test)\n",
    "accuracy_score(y_test, pred_skf_w)"
   ]
  },
  {
   "cell_type": "code",
   "execution_count": 95,
   "metadata": {},
   "outputs": [
    {
     "data": {
      "text/plain": [
       "{'class_weight': {0: 0.17012523996709022, 1: 5.878022568511553},\n",
       " 'criterion': 'gini',\n",
       " 'max_depth': 12,\n",
       " 'min_samples_leaf': 8,\n",
       " 'min_samples_split': 8,\n",
       " 'n_estimators': 100}"
      ]
     },
     "execution_count": 95,
     "metadata": {},
     "output_type": "execute_result"
    }
   ],
   "source": [
    "grid_cv_skf_w.best_params_"
   ]
  },
  {
   "cell_type": "code",
   "execution_count": 94,
   "metadata": {},
   "outputs": [
    {
     "data": {
      "text/plain": [
       "array([[2975, 7964],\n",
       "       [  37, 1824]])"
      ]
     },
     "execution_count": 94,
     "metadata": {},
     "output_type": "execute_result"
    }
   ],
   "source": [
    "rf_skf_w_cfm = confusion_matrix(y_test, pred_skf_w)\n",
    "rf_skf_w_cfm"
   ]
  },
  {
   "cell_type": "code",
   "execution_count": 116,
   "metadata": {},
   "outputs": [
    {
     "name": "stdout",
     "output_type": "stream",
     "text": [
      "              precision    recall  f1-score   support\n",
      "\n",
      "           0       0.99      0.27      0.43     10939\n",
      "           1       0.19      0.98      0.31      1861\n",
      "\n",
      "    accuracy                           0.37     12800\n",
      "   macro avg       0.59      0.63      0.37     12800\n",
      "weighted avg       0.87      0.37      0.41     12800\n",
      "\n"
     ]
    }
   ],
   "source": [
    "print(classification_report(y_test, pred_skf_w))"
   ]
  },
  {
   "cell_type": "code",
   "execution_count": null,
   "metadata": {},
   "outputs": [],
   "source": []
  },
  {
   "cell_type": "markdown",
   "metadata": {},
   "source": [
    "### 2차"
   ]
  },
  {
   "cell_type": "code",
   "execution_count": 102,
   "metadata": {},
   "outputs": [
    {
     "data": {
      "text/plain": [
       "0.794375"
      ]
     },
     "execution_count": 102,
     "metadata": {},
     "output_type": "execute_result"
    }
   ],
   "source": [
    "#from sklearn.model_selection import StratifiedKFold\n",
    "\n",
    "params = {\n",
    "    'n_estimators':[50, 100, 150],\n",
    "    'criterion':['gini', 'entropy'],\n",
    "    'max_depth':[6, 8, 10, 12],\n",
    "    'min_samples_leaf':[8, 12, 18],\n",
    "    'min_samples_split':[8, 16, 20],\n",
    "    'class_weight':[{0:1, 1:5},\n",
    "                   {0:1, 1:10},\n",
    "                   {0:1, 1:15}]\n",
    "}\n",
    "\n",
    "rf_clf = RandomForestClassifier(random_state=0, n_jobs=-1)\n",
    "grid_cv_skf_w2 = GridSearchCV(rf_clf, param_grid=params,\n",
    "                              cv=StratifiedKFold(n_splits=5),\n",
    "                              n_jobs=-1)\n",
    "grid_cv_skf_w2.fit(X_train, y_train)\n",
    "pred_skf_w2 = grid_cv_skf_w2.best_estimator_.predict(X_test)\n",
    "accuracy_score(y_test, pred_skf_w2)"
   ]
  },
  {
   "cell_type": "code",
   "execution_count": 104,
   "metadata": {},
   "outputs": [
    {
     "data": {
      "text/plain": [
       "{'class_weight': {0: 1, 1: 5},\n",
       " 'criterion': 'gini',\n",
       " 'max_depth': 12,\n",
       " 'min_samples_leaf': 8,\n",
       " 'min_samples_split': 8,\n",
       " 'n_estimators': 150}"
      ]
     },
     "execution_count": 104,
     "metadata": {},
     "output_type": "execute_result"
    }
   ],
   "source": [
    "grid_cv_skf_w2.best_params_"
   ]
  },
  {
   "cell_type": "code",
   "execution_count": 105,
   "metadata": {},
   "outputs": [
    {
     "data": {
      "text/plain": [
       "array([[9186, 1753],\n",
       "       [ 879,  982]])"
      ]
     },
     "execution_count": 105,
     "metadata": {},
     "output_type": "execute_result"
    }
   ],
   "source": [
    "rf_skf_w_cfm2 = confusion_matrix(y_test, pred_skf_w2)\n",
    "rf_skf_w_cfm2"
   ]
  },
  {
   "cell_type": "code",
   "execution_count": 118,
   "metadata": {},
   "outputs": [
    {
     "name": "stdout",
     "output_type": "stream",
     "text": [
      "              precision    recall  f1-score   support\n",
      "\n",
      "           0       0.91      0.84      0.87     10939\n",
      "           1       0.36      0.53      0.43      1861\n",
      "\n",
      "    accuracy                           0.79     12800\n",
      "   macro avg       0.64      0.68      0.65     12800\n",
      "weighted avg       0.83      0.79      0.81     12800\n",
      "\n"
     ]
    }
   ],
   "source": [
    "print(classification_report(y_test, pred_skf_w2))"
   ]
  },
  {
   "cell_type": "code",
   "execution_count": null,
   "metadata": {},
   "outputs": [],
   "source": []
  },
  {
   "cell_type": "markdown",
   "metadata": {},
   "source": [
    "### 3차"
   ]
  },
  {
   "cell_type": "code",
   "execution_count": 106,
   "metadata": {},
   "outputs": [
    {
     "data": {
      "text/plain": [
       "0.875859375"
      ]
     },
     "execution_count": 106,
     "metadata": {},
     "output_type": "execute_result"
    }
   ],
   "source": [
    "#from sklearn.model_selection import StratifiedKFold\n",
    "\n",
    "params = {\n",
    "    'n_estimators':[50, 100, 150],\n",
    "    'criterion':['gini', 'entropy'],\n",
    "    'max_depth':[6, 8, 10, 12],\n",
    "    'min_samples_leaf':[8, 12, 18],\n",
    "    'min_samples_split':[8, 16, 20],\n",
    "    'class_weight':[{0:1, 1:1.5},\n",
    "                   {0:1, 1:3},\n",
    "                   {0:1, 1:4.5}]\n",
    "}\n",
    "\n",
    "rf_clf = RandomForestClassifier(random_state=0, n_jobs=-1)\n",
    "grid_cv_skf_w3 = GridSearchCV(rf_clf, param_grid=params,\n",
    "                              cv=StratifiedKFold(n_splits=5),\n",
    "                              n_jobs=-1)\n",
    "grid_cv_skf_w3.fit(X_train, y_train)\n",
    "pred_skf_w3 = grid_cv_skf_w3.best_estimator_.predict(X_test)\n",
    "accuracy_score(y_test, pred_skf_w3)"
   ]
  },
  {
   "cell_type": "code",
   "execution_count": 111,
   "metadata": {},
   "outputs": [
    {
     "data": {
      "text/plain": [
       "{'class_weight': {0: 1, 1: 1.5},\n",
       " 'criterion': 'gini',\n",
       " 'max_depth': 12,\n",
       " 'min_samples_leaf': 8,\n",
       " 'min_samples_split': 20,\n",
       " 'n_estimators': 100}"
      ]
     },
     "execution_count": 111,
     "metadata": {},
     "output_type": "execute_result"
    }
   ],
   "source": [
    "grid_cv_skf_w3.best_params_"
   ]
  },
  {
   "cell_type": "code",
   "execution_count": 107,
   "metadata": {},
   "outputs": [
    {
     "data": {
      "text/plain": [
       "array([[10784,   155],\n",
       "       [ 1434,   427]])"
      ]
     },
     "execution_count": 107,
     "metadata": {},
     "output_type": "execute_result"
    }
   ],
   "source": [
    "rf_skf_w_cfm3 = confusion_matrix(y_test, pred_skf_w3)\n",
    "rf_skf_w_cfm3"
   ]
  },
  {
   "cell_type": "code",
   "execution_count": 108,
   "metadata": {},
   "outputs": [
    {
     "data": {
      "text/plain": [
       "array([[10879,    60],\n",
       "       [ 1570,   291]])"
      ]
     },
     "execution_count": 108,
     "metadata": {},
     "output_type": "execute_result"
    }
   ],
   "source": [
    "rf_cfm"
   ]
  },
  {
   "cell_type": "code",
   "execution_count": 119,
   "metadata": {},
   "outputs": [
    {
     "name": "stdout",
     "output_type": "stream",
     "text": [
      "              precision    recall  f1-score   support\n",
      "\n",
      "           0       0.88      0.99      0.93     10939\n",
      "           1       0.73      0.23      0.35      1861\n",
      "\n",
      "    accuracy                           0.88     12800\n",
      "   macro avg       0.81      0.61      0.64     12800\n",
      "weighted avg       0.86      0.88      0.85     12800\n",
      "\n"
     ]
    }
   ],
   "source": [
    "print(classification_report(y_test, pred_skf_w3))"
   ]
  },
  {
   "cell_type": "code",
   "execution_count": null,
   "metadata": {},
   "outputs": [],
   "source": []
  },
  {
   "cell_type": "markdown",
   "metadata": {},
   "source": [
    "# Cost-sensitive learning 적용 결과\n",
    "> 모델 일반화 성능과 세부 편향성(ex. f1-score) 간의 트레이드 오프 발생"
   ]
  },
  {
   "cell_type": "code",
   "execution_count": null,
   "metadata": {
    "id": "QoLZJIElJ9oJ"
   },
   "outputs": [],
   "source": []
  }
 ],
 "metadata": {
  "colab": {
   "name": "프로모션.ipynb",
   "provenance": []
  },
  "kernelspec": {
   "display_name": "Python 3",
   "language": "python",
   "name": "python3"
  },
  "language_info": {
   "codemirror_mode": {
    "name": "ipython",
    "version": 3
   },
   "file_extension": ".py",
   "mimetype": "text/x-python",
   "name": "python",
   "nbconvert_exporter": "python",
   "pygments_lexer": "ipython3",
   "version": "3.7.9"
  }
 },
 "nbformat": 4,
 "nbformat_minor": 1
}
