{
 "cells": [
  {
   "cell_type": "code",
   "execution_count": 62,
   "id": "painted-engineer",
   "metadata": {},
   "outputs": [],
   "source": [
    "import numpy as np\n",
    "import matplotlib.pyplot as plt\n",
    "import pandas as pd\n",
    "import seaborn as sns\n",
    "from scipy import stats\n",
    "from sklearn.datasets import load_boston\n",
    "from sklearn.model_selection import train_test_split\n",
    "from sklearn.linear_model import LinearRegression\n",
    "from sklearn.linear_model import Ridge\n",
    "from sklearn.metrics import mean_squared_error, r2_score\n",
    "\n",
    "from sklearn.model_selection import KFold, StratifiedKFold, cross_val_score, GridSearchCV, train_test_split\n",
    "\n",
    "%matplotlib inline"
   ]
  },
  {
   "cell_type": "code",
   "execution_count": 46,
   "id": "significant-joining",
   "metadata": {},
   "outputs": [],
   "source": [
    "ecommerce = pd.read_csv('../pandas-numpy-practices/ecommerce.csv')"
   ]
  },
  {
   "cell_type": "code",
   "execution_count": 47,
   "id": "terminal-suffering",
   "metadata": {},
   "outputs": [
    {
     "data": {
      "text/html": [
       "<div>\n",
       "<style scoped>\n",
       "    .dataframe tbody tr th:only-of-type {\n",
       "        vertical-align: middle;\n",
       "    }\n",
       "\n",
       "    .dataframe tbody tr th {\n",
       "        vertical-align: top;\n",
       "    }\n",
       "\n",
       "    .dataframe thead th {\n",
       "        text-align: right;\n",
       "    }\n",
       "</style>\n",
       "<table border=\"1\" class=\"dataframe\">\n",
       "  <thead>\n",
       "    <tr style=\"text-align: right;\">\n",
       "      <th></th>\n",
       "      <th>Email</th>\n",
       "      <th>Address</th>\n",
       "      <th>Avatar</th>\n",
       "      <th>Avg. Session Length</th>\n",
       "      <th>Time on App</th>\n",
       "      <th>Time on Website</th>\n",
       "      <th>Length of Membership</th>\n",
       "      <th>Yearly Amount Spent</th>\n",
       "    </tr>\n",
       "  </thead>\n",
       "  <tbody>\n",
       "    <tr>\n",
       "      <th>0</th>\n",
       "      <td>mstephenson@fernandez.com</td>\n",
       "      <td>835 Frank Tunnel\\nWrightmouth, MI 82180-9605</td>\n",
       "      <td>Violet</td>\n",
       "      <td>34.497268</td>\n",
       "      <td>12.655651</td>\n",
       "      <td>39.577668</td>\n",
       "      <td>4.082621</td>\n",
       "      <td>587.951054</td>\n",
       "    </tr>\n",
       "    <tr>\n",
       "      <th>1</th>\n",
       "      <td>hduke@hotmail.com</td>\n",
       "      <td>4547 Archer Common\\nDiazchester, CA 06566-8576</td>\n",
       "      <td>DarkGreen</td>\n",
       "      <td>31.926272</td>\n",
       "      <td>11.109461</td>\n",
       "      <td>37.268959</td>\n",
       "      <td>2.664034</td>\n",
       "      <td>392.204933</td>\n",
       "    </tr>\n",
       "    <tr>\n",
       "      <th>2</th>\n",
       "      <td>pallen@yahoo.com</td>\n",
       "      <td>24645 Valerie Unions Suite 582\\nCobbborough, D...</td>\n",
       "      <td>Bisque</td>\n",
       "      <td>33.000915</td>\n",
       "      <td>11.330278</td>\n",
       "      <td>37.110597</td>\n",
       "      <td>4.104543</td>\n",
       "      <td>487.547505</td>\n",
       "    </tr>\n",
       "    <tr>\n",
       "      <th>3</th>\n",
       "      <td>riverarebecca@gmail.com</td>\n",
       "      <td>1414 David Throughway\\nPort Jason, OH 22070-1220</td>\n",
       "      <td>SaddleBrown</td>\n",
       "      <td>34.305557</td>\n",
       "      <td>13.717514</td>\n",
       "      <td>36.721283</td>\n",
       "      <td>3.120179</td>\n",
       "      <td>581.852344</td>\n",
       "    </tr>\n",
       "    <tr>\n",
       "      <th>4</th>\n",
       "      <td>mstephens@davidson-herman.com</td>\n",
       "      <td>14023 Rodriguez Passage\\nPort Jacobville, PR 3...</td>\n",
       "      <td>MediumAquaMarine</td>\n",
       "      <td>33.330673</td>\n",
       "      <td>12.795189</td>\n",
       "      <td>37.536653</td>\n",
       "      <td>4.446308</td>\n",
       "      <td>599.406092</td>\n",
       "    </tr>\n",
       "  </tbody>\n",
       "</table>\n",
       "</div>"
      ],
      "text/plain": [
       "                           Email  \\\n",
       "0      mstephenson@fernandez.com   \n",
       "1              hduke@hotmail.com   \n",
       "2               pallen@yahoo.com   \n",
       "3        riverarebecca@gmail.com   \n",
       "4  mstephens@davidson-herman.com   \n",
       "\n",
       "                                             Address            Avatar  \\\n",
       "0       835 Frank Tunnel\\nWrightmouth, MI 82180-9605            Violet   \n",
       "1     4547 Archer Common\\nDiazchester, CA 06566-8576         DarkGreen   \n",
       "2  24645 Valerie Unions Suite 582\\nCobbborough, D...            Bisque   \n",
       "3   1414 David Throughway\\nPort Jason, OH 22070-1220       SaddleBrown   \n",
       "4  14023 Rodriguez Passage\\nPort Jacobville, PR 3...  MediumAquaMarine   \n",
       "\n",
       "   Avg. Session Length  Time on App  Time on Website  Length of Membership  \\\n",
       "0            34.497268    12.655651        39.577668              4.082621   \n",
       "1            31.926272    11.109461        37.268959              2.664034   \n",
       "2            33.000915    11.330278        37.110597              4.104543   \n",
       "3            34.305557    13.717514        36.721283              3.120179   \n",
       "4            33.330673    12.795189        37.536653              4.446308   \n",
       "\n",
       "   Yearly Amount Spent  \n",
       "0           587.951054  \n",
       "1           392.204933  \n",
       "2           487.547505  \n",
       "3           581.852344  \n",
       "4           599.406092  "
      ]
     },
     "execution_count": 47,
     "metadata": {},
     "output_type": "execute_result"
    }
   ],
   "source": [
    "ecommerce.head()"
   ]
  },
  {
   "cell_type": "code",
   "execution_count": 48,
   "id": "intelligent-packaging",
   "metadata": {},
   "outputs": [],
   "source": [
    "ecommerce = ecommerce.drop(['Email', 'Address', 'Avatar'], axis=1)"
   ]
  },
  {
   "cell_type": "code",
   "execution_count": 49,
   "id": "necessary-discrimination",
   "metadata": {},
   "outputs": [
    {
     "data": {
      "text/html": [
       "<div>\n",
       "<style scoped>\n",
       "    .dataframe tbody tr th:only-of-type {\n",
       "        vertical-align: middle;\n",
       "    }\n",
       "\n",
       "    .dataframe tbody tr th {\n",
       "        vertical-align: top;\n",
       "    }\n",
       "\n",
       "    .dataframe thead th {\n",
       "        text-align: right;\n",
       "    }\n",
       "</style>\n",
       "<table border=\"1\" class=\"dataframe\">\n",
       "  <thead>\n",
       "    <tr style=\"text-align: right;\">\n",
       "      <th></th>\n",
       "      <th>Avg. Session Length</th>\n",
       "      <th>Time on App</th>\n",
       "      <th>Time on Website</th>\n",
       "      <th>Length of Membership</th>\n",
       "      <th>Yearly Amount Spent</th>\n",
       "    </tr>\n",
       "  </thead>\n",
       "  <tbody>\n",
       "    <tr>\n",
       "      <th>0</th>\n",
       "      <td>34.497268</td>\n",
       "      <td>12.655651</td>\n",
       "      <td>39.577668</td>\n",
       "      <td>4.082621</td>\n",
       "      <td>587.951054</td>\n",
       "    </tr>\n",
       "    <tr>\n",
       "      <th>1</th>\n",
       "      <td>31.926272</td>\n",
       "      <td>11.109461</td>\n",
       "      <td>37.268959</td>\n",
       "      <td>2.664034</td>\n",
       "      <td>392.204933</td>\n",
       "    </tr>\n",
       "    <tr>\n",
       "      <th>2</th>\n",
       "      <td>33.000915</td>\n",
       "      <td>11.330278</td>\n",
       "      <td>37.110597</td>\n",
       "      <td>4.104543</td>\n",
       "      <td>487.547505</td>\n",
       "    </tr>\n",
       "    <tr>\n",
       "      <th>3</th>\n",
       "      <td>34.305557</td>\n",
       "      <td>13.717514</td>\n",
       "      <td>36.721283</td>\n",
       "      <td>3.120179</td>\n",
       "      <td>581.852344</td>\n",
       "    </tr>\n",
       "    <tr>\n",
       "      <th>4</th>\n",
       "      <td>33.330673</td>\n",
       "      <td>12.795189</td>\n",
       "      <td>37.536653</td>\n",
       "      <td>4.446308</td>\n",
       "      <td>599.406092</td>\n",
       "    </tr>\n",
       "  </tbody>\n",
       "</table>\n",
       "</div>"
      ],
      "text/plain": [
       "   Avg. Session Length  Time on App  Time on Website  Length of Membership  \\\n",
       "0            34.497268    12.655651        39.577668              4.082621   \n",
       "1            31.926272    11.109461        37.268959              2.664034   \n",
       "2            33.000915    11.330278        37.110597              4.104543   \n",
       "3            34.305557    13.717514        36.721283              3.120179   \n",
       "4            33.330673    12.795189        37.536653              4.446308   \n",
       "\n",
       "   Yearly Amount Spent  \n",
       "0           587.951054  \n",
       "1           392.204933  \n",
       "2           487.547505  \n",
       "3           581.852344  \n",
       "4           599.406092  "
      ]
     },
     "execution_count": 49,
     "metadata": {},
     "output_type": "execute_result"
    }
   ],
   "source": [
    "ecommerce.head()"
   ]
  },
  {
   "cell_type": "code",
   "execution_count": 12,
   "id": "instant-infrastructure",
   "metadata": {},
   "outputs": [],
   "source": [
    "X_data = ecommerce.loc[:, :\"Length of Membership\"]\n",
    "y_target = ecommerce['Yearly Amount Spent']"
   ]
  },
  {
   "cell_type": "code",
   "execution_count": 51,
   "id": "criminal-cassette",
   "metadata": {},
   "outputs": [],
   "source": [
    "X_train, X_test, y_train, y_test = train_test_split(X_data, y_target,\n",
    "                                                    test_size=0.25, random_state=156)"
   ]
  },
  {
   "cell_type": "code",
   "execution_count": 54,
   "id": "variable-navigation",
   "metadata": {},
   "outputs": [
    {
     "data": {
      "text/plain": [
       "((375, 4), (375,))"
      ]
     },
     "execution_count": 54,
     "metadata": {},
     "output_type": "execute_result"
    }
   ],
   "source": [
    "X_train.shape, y_train.shape"
   ]
  },
  {
   "cell_type": "code",
   "execution_count": 56,
   "id": "short-budapest",
   "metadata": {},
   "outputs": [
    {
     "data": {
      "text/plain": [
       "((125, 4), (125,))"
      ]
     },
     "execution_count": 56,
     "metadata": {},
     "output_type": "execute_result"
    }
   ],
   "source": [
    "X_test.shape, y_test.shape"
   ]
  },
  {
   "cell_type": "code",
   "execution_count": 90,
   "id": "single-throat",
   "metadata": {},
   "outputs": [
    {
     "data": {
      "text/plain": [
       "(106.71220615117356, 10.330160025438792)"
      ]
     },
     "execution_count": 90,
     "metadata": {},
     "output_type": "execute_result"
    }
   ],
   "source": [
    "lr = LinearRegression() # 선형회귀 모델 생성\n",
    "lr.fit(X_train, y_train) # 훈련용 데이터로 모델 학습\n",
    "y_pred = lr.predict(X_test) # 테스트 데이터로 모델 예측\n",
    "mse = mean_squared_error(y_test, y_pred) # 모델 성능 평가 - mse\n",
    "rmse = np.sqrt(mse) # 모델 성능 평가 - rmse\n",
    "\n",
    "mse, rmse"
   ]
  },
  {
   "cell_type": "code",
   "execution_count": 93,
   "id": "saved-thanksgiving",
   "metadata": {},
   "outputs": [
    {
     "data": {
      "text/plain": [
       "array([25.43111192, 38.56299836,  0.44094951, 61.86205426])"
      ]
     },
     "execution_count": 93,
     "metadata": {},
     "output_type": "execute_result"
    }
   ],
   "source": [
    "lr.coef_"
   ]
  },
  {
   "cell_type": "code",
   "execution_count": 94,
   "id": "composed-sunrise",
   "metadata": {},
   "outputs": [
    {
     "data": {
      "text/plain": [
       "(106.7122061511738, 10.330160025438802)"
      ]
     },
     "execution_count": 94,
     "metadata": {},
     "output_type": "execute_result"
    }
   ],
   "source": [
    "lr = LinearRegression(normalize=True) # 선형회귀 모델 생성\n",
    "lr.fit(X_train, y_train) # 훈련용 데이터로 모델 학습\n",
    "y_pred = lr.predict(X_test) # 테스트 데이터로 모델 예측\n",
    "mse = mean_squared_error(y_test, y_pred) # 모델 성능 평가 - mse\n",
    "rmse = np.sqrt(mse) # 모델 성능 평가 - rmse\n",
    "\n",
    "mse, rmse"
   ]
  },
  {
   "cell_type": "code",
   "execution_count": 137,
   "id": "empty-terrace",
   "metadata": {},
   "outputs": [
    {
     "data": {
      "text/plain": [
       "(106.71220615117292, 10.33016002543876)"
      ]
     },
     "execution_count": 137,
     "metadata": {},
     "output_type": "execute_result"
    }
   ],
   "source": [
    "ridge_best = Ridge(alpha=0.0)\n",
    "ridge_best.fit(X_train, y_train)\n",
    "\n",
    "y_pred = ridge_best.predict(X_test)\n",
    "mse = mean_squared_error(y_test, y_pred)\n",
    "rmse = np.sqrt(mse)\n",
    "mse, rmse"
   ]
  },
  {
   "cell_type": "code",
   "execution_count": 115,
   "id": "amateur-residence",
   "metadata": {},
   "outputs": [
    {
     "data": {
      "text/plain": [
       "array([0.        , 0.00010101, 0.00020202, 0.00030303, 0.00040404,\n",
       "       0.00050505, 0.00060606, 0.00070707, 0.00080808, 0.00090909,\n",
       "       0.0010101 , 0.00111111, 0.00121212, 0.00131313, 0.00141414,\n",
       "       0.00151515, 0.00161616, 0.00171717, 0.00181818, 0.00191919,\n",
       "       0.0020202 , 0.00212121, 0.00222222, 0.00232323, 0.00242424,\n",
       "       0.00252525, 0.00262626, 0.00272727, 0.00282828, 0.00292929,\n",
       "       0.0030303 , 0.00313131, 0.00323232, 0.00333333, 0.00343434,\n",
       "       0.00353535, 0.00363636, 0.00373737, 0.00383838, 0.00393939,\n",
       "       0.0040404 , 0.00414141, 0.00424242, 0.00434343, 0.00444444,\n",
       "       0.00454545, 0.00464646, 0.00474747, 0.00484848, 0.00494949,\n",
       "       0.00505051, 0.00515152, 0.00525253, 0.00535354, 0.00545455,\n",
       "       0.00555556, 0.00565657, 0.00575758, 0.00585859, 0.0059596 ,\n",
       "       0.00606061, 0.00616162, 0.00626263, 0.00636364, 0.00646465,\n",
       "       0.00656566, 0.00666667, 0.00676768, 0.00686869, 0.0069697 ,\n",
       "       0.00707071, 0.00717172, 0.00727273, 0.00737374, 0.00747475,\n",
       "       0.00757576, 0.00767677, 0.00777778, 0.00787879, 0.0079798 ,\n",
       "       0.00808081, 0.00818182, 0.00828283, 0.00838384, 0.00848485,\n",
       "       0.00858586, 0.00868687, 0.00878788, 0.00888889, 0.0089899 ,\n",
       "       0.00909091, 0.00919192, 0.00929293, 0.00939394, 0.00949495,\n",
       "       0.00959596, 0.00969697, 0.00979798, 0.00989899, 0.01      ])"
      ]
     },
     "execution_count": 115,
     "metadata": {},
     "output_type": "execute_result"
    }
   ],
   "source": [
    "np.linspace(0, 0.01, 100)"
   ]
  },
  {
   "cell_type": "code",
   "execution_count": 129,
   "id": "affecting-struggle",
   "metadata": {},
   "outputs": [],
   "source": [
    "parameters = {'alpha':np.linspace(0, 0.01, 100)}\n",
    "ridge_base = Ridge()\n",
    "grid_dtree = GridSearchCV(ridge_base, param_grid=parameters, cv=5,\n",
    "                          scoring=\"neg_root_mean_squared_error\",\n",
    "                          refit=True, return_train_score=True)"
   ]
  },
  {
   "cell_type": "code",
   "execution_count": 138,
   "id": "split-regression",
   "metadata": {},
   "outputs": [
    {
     "data": {
      "text/plain": [
       "GridSearchCV(cv=5, estimator=Ridge(),\n",
       "             param_grid={'alpha': array([0.        , 0.00010101, 0.00020202, 0.00030303, 0.00040404,\n",
       "       0.00050505, 0.00060606, 0.00070707, 0.00080808, 0.00090909,\n",
       "       0.0010101 , 0.00111111, 0.00121212, 0.00131313, 0.00141414,\n",
       "       0.00151515, 0.00161616, 0.00171717, 0.00181818, 0.00191919,\n",
       "       0.0020202 , 0.00212121, 0.00222222, 0.00232323, 0.00242424,\n",
       "       0.00252525, 0.00262626,...\n",
       "       0.00707071, 0.00717172, 0.00727273, 0.00737374, 0.00747475,\n",
       "       0.00757576, 0.00767677, 0.00777778, 0.00787879, 0.0079798 ,\n",
       "       0.00808081, 0.00818182, 0.00828283, 0.00838384, 0.00848485,\n",
       "       0.00858586, 0.00868687, 0.00878788, 0.00888889, 0.0089899 ,\n",
       "       0.00909091, 0.00919192, 0.00929293, 0.00939394, 0.00949495,\n",
       "       0.00959596, 0.00969697, 0.00979798, 0.00989899, 0.01      ])},\n",
       "             return_train_score=True, scoring='neg_root_mean_squared_error')"
      ]
     },
     "execution_count": 138,
     "metadata": {},
     "output_type": "execute_result"
    }
   ],
   "source": [
    "grid_dtree.fit(X_train, y_train)"
   ]
  },
  {
   "cell_type": "code",
   "execution_count": 139,
   "id": "naughty-phone",
   "metadata": {},
   "outputs": [
    {
     "data": {
      "text/plain": [
       "{'alpha': 0.0}"
      ]
     },
     "execution_count": 139,
     "metadata": {},
     "output_type": "execute_result"
    }
   ],
   "source": [
    "grid_dtree.best_params_"
   ]
  },
  {
   "cell_type": "code",
   "execution_count": 140,
   "id": "loving-brooks",
   "metadata": {},
   "outputs": [
    {
     "data": {
      "text/plain": [
       "-9.95109835552399"
      ]
     },
     "execution_count": 140,
     "metadata": {},
     "output_type": "execute_result"
    }
   ],
   "source": [
    "grid_dtree.best_score_"
   ]
  },
  {
   "cell_type": "code",
   "execution_count": null,
   "id": "stuck-shirt",
   "metadata": {},
   "outputs": [],
   "source": []
  },
  {
   "cell_type": "markdown",
   "id": "accessory-boring",
   "metadata": {},
   "source": [
    "# cross_val_score\n",
    "scoring parameter\n",
    "https://scikit-learn.org/stable/modules/model_evaluation.html#scoring-parameter"
   ]
  },
  {
   "cell_type": "code",
   "execution_count": 64,
   "id": "human-breed",
   "metadata": {},
   "outputs": [
    {
     "name": "stdout",
     "output_type": "stream",
     "text": [
      "[0.98554349 0.98271562 0.97820541 0.98642628 0.98364344]\n",
      "0.9833068484342375\n"
     ]
    }
   ],
   "source": [
    "lr = LinearRegression()\n",
    "scores = cross_val_score(lr, X_train, y_train, scoring=\"r2\", cv=5)\n",
    "print(scores)\n",
    "print(np.mean(scores))"
   ]
  },
  {
   "cell_type": "code",
   "execution_count": 73,
   "id": "fixed-cycle",
   "metadata": {},
   "outputs": [
    {
     "name": "stdout",
     "output_type": "stream",
     "text": [
      "[ 97.90333916 101.73093382  86.33728373 102.00177897 107.81345764]\n",
      "99.15735866590276\n"
     ]
    }
   ],
   "source": [
    "lr = LinearRegression()\n",
    "scores = cross_val_score(lr, X_train, y_train, scoring=\"neg_mean_squared_error\", cv=5)\n",
    "print(scores*-1) # 양수로 만들기 위해 -1 곱함\n",
    "print(np.mean(scores)*-1) # 양수"
   ]
  },
  {
   "cell_type": "code",
   "execution_count": 74,
   "id": "induced-genome",
   "metadata": {},
   "outputs": [
    {
     "name": "stdout",
     "output_type": "stream",
     "text": [
      "[ 9.89461162 10.08617538  9.29178582 10.09959301 10.38332594]\n",
      "9.951098355523987\n"
     ]
    }
   ],
   "source": [
    "lr = LinearRegression()\n",
    "scores = cross_val_score(lr, X_train, y_train, scoring=\"neg_root_mean_squared_error\", cv=5)\n",
    "print(scores*-1)\n",
    "print(np.mean(scores)*-1)"
   ]
  },
  {
   "cell_type": "code",
   "execution_count": null,
   "id": "smaller-hello",
   "metadata": {},
   "outputs": [],
   "source": []
  }
 ],
 "metadata": {
  "kernelspec": {
   "display_name": "Python 3",
   "language": "python",
   "name": "python3"
  },
  "language_info": {
   "codemirror_mode": {
    "name": "ipython",
    "version": 3
   },
   "file_extension": ".py",
   "mimetype": "text/x-python",
   "name": "python",
   "nbconvert_exporter": "python",
   "pygments_lexer": "ipython3",
   "version": "3.7.9"
  }
 },
 "nbformat": 4,
 "nbformat_minor": 5
}
