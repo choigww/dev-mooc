{
 "cells": [
  {
   "cell_type": "code",
   "execution_count": 1,
   "id": "fleet-bread",
   "metadata": {},
   "outputs": [],
   "source": [
    "import numpy as np\n",
    "import matplotlib.pyplot as plt\n",
    "%matplotlib inline"
   ]
  },
  {
   "cell_type": "code",
   "execution_count": 2,
   "id": "designing-drive",
   "metadata": {},
   "outputs": [],
   "source": [
    "np.random.seed(0)"
   ]
  },
  {
   "cell_type": "code",
   "execution_count": 4,
   "id": "twenty-chapter",
   "metadata": {},
   "outputs": [
    {
     "data": {
      "image/png": "[encoded data removed]",
      "text/plain": [
       "<Figure size 432x288 with 1 Axes>"
      ]
     },
     "metadata": {
      "needs_background": "light"
     },
     "output_type": "display_data"
    }
   ],
   "source": [
    "X = 2 * np.random.rand(100, 1)\n",
    "y = 6 + 4 * X + np.random.randn(100, 1)\n",
    "plt.scatter(X, y);plt.show()"
   ]
  },
  {
   "cell_type": "code",
   "execution_count": 6,
   "id": "industrial-academy",
   "metadata": {},
   "outputs": [
    {
     "data": {
      "text/plain": [
       "(100, 1)"
      ]
     },
     "execution_count": 6,
     "metadata": {},
     "output_type": "execute_result"
    }
   ],
   "source": [
    "y.shape"
   ]
  },
  {
   "cell_type": "code",
   "execution_count": 20,
   "id": "unsigned-denver",
   "metadata": {},
   "outputs": [
    {
     "data": {
      "text/plain": [
       "100"
      ]
     },
     "execution_count": 20,
     "metadata": {},
     "output_type": "execute_result"
    }
   ],
   "source": [
    "X.shape[0]"
   ]
  },
  {
   "cell_type": "code",
   "execution_count": 7,
   "id": "formal-export",
   "metadata": {},
   "outputs": [],
   "source": [
    "w0 = np.zeros((1,1))\n",
    "w1 = np.zeros((1,1))"
   ]
  },
  {
   "cell_type": "code",
   "execution_count": 9,
   "id": "further-guard",
   "metadata": {},
   "outputs": [],
   "source": [
    "y_pred = np.dot(X, w1.T) + w0"
   ]
  },
  {
   "cell_type": "code",
   "execution_count": 12,
   "id": "liberal-guitar",
   "metadata": {},
   "outputs": [],
   "source": [
    "diff = y - y_pred\n",
    "w1_update = - (2/100)*0.01*(np.dot(X.T, diff))"
   ]
  },
  {
   "cell_type": "code",
   "execution_count": 13,
   "id": "historical-drinking",
   "metadata": {},
   "outputs": [
    {
     "data": {
      "text/plain": [
       "array([[-0.21359491]])"
      ]
     },
     "execution_count": 13,
     "metadata": {},
     "output_type": "execute_result"
    }
   ],
   "source": [
    "w1_update"
   ]
  },
  {
   "cell_type": "code",
   "execution_count": 18,
   "id": "circular-breeding",
   "metadata": {},
   "outputs": [
    {
     "data": {
      "text/plain": [
       "array([[-0.19441663]])"
      ]
     },
     "execution_count": 18,
     "metadata": {},
     "output_type": "execute_result"
    }
   ],
   "source": [
    "w0_factors = np.ones((100,1))\n",
    "w0_update = - (2/100) * 0.01 * (np.dot(w0_factors.T, diff))\n",
    "w0_update"
   ]
  },
  {
   "cell_type": "code",
   "execution_count": 24,
   "id": "acknowledged-suicide",
   "metadata": {},
   "outputs": [
    {
     "data": {
      "text/plain": [
       "100"
      ]
     },
     "execution_count": 24,
     "metadata": {},
     "output_type": "execute_result"
    }
   ],
   "source": [
    "X.shape[0]"
   ]
  },
  {
   "cell_type": "code",
   "execution_count": 43,
   "id": "declared-congress",
   "metadata": {},
   "outputs": [],
   "source": [
    "def get_weight_updates(X, y, learning_rate = 0.01):\n",
    "    m = X.shape[0] #m=100\n",
    "    # w1, w0을 임의의 값으로 설정\n",
    "    w0 = np.zeros((1,1))\n",
    "    w1 = np.zeros((1,1))\n",
    "    \n",
    "    # 첫 비용함수의 값을 계산\n",
    "    y_pred = np.dot(X, w1.T) + w0\n",
    "    diff = y - y_pred\n",
    "    rss = 1/m*np.sum((y - y_pred)**2)\n",
    "    \n",
    "    # 바로 직전의 rss값 저장\n",
    "    prev_rss = rss\n",
    "\n",
    "    for i in range(10000):\n",
    "        # w1, w0을 업데이트\n",
    "        w1_update = - (2/m) * learning_rate * (np.dot(X.T, diff))\n",
    "        w0_factors = np.ones((m,1))\n",
    "        w0_update = - (2/m) * learning_rate * (np.dot(w0_factors.T, diff))\n",
    "        w1 = w1 - w1_update\n",
    "        w0 = w0 - w0_update\n",
    "    \n",
    "        # 다시 비용함수의 값을 계산\n",
    "        y_pred = np.dot(X, w1.T) + w0\n",
    "        diff = y - y_pred\n",
    "        \n",
    "        # 새로 구한 rss 값\n",
    "        rss = 1/m*np.sum((y - y_pred)**2)\n",
    "        \n",
    "        # 새로 구한 rss 값을 prev_rss와 비교\n",
    "        if rss < prev_rss:\n",
    "            # 감소했다면 prev_rss 업데이트하고 다음 loop 진행\n",
    "            prev_rss = rss\n",
    "        else:\n",
    "            #감소하지 않았다면 반복 loop 종료하고 w1, w0 반환\n",
    "            print(i, 'rss가 감소하지 않았습니다.')\n",
    "            return w1, w0\n",
    "            "
   ]
  },
  {
   "cell_type": "code",
   "execution_count": 45,
   "id": "realistic-checklist",
   "metadata": {},
   "outputs": [
    {
     "name": "stdout",
     "output_type": "stream",
     "text": [
      "4389 rss가 감소하지 않았습니다.\n"
     ]
    }
   ],
   "source": [
    "w1, w0 = get_weight_updates(X, y)"
   ]
  },
  {
   "cell_type": "code",
   "execution_count": 54,
   "id": "individual-intermediate",
   "metadata": {},
   "outputs": [
    {
     "data": {
      "text/plain": [
       "array([[ 7.67036451],\n",
       "       [ 9.31250597],\n",
       "       [ 8.93061049],\n",
       "       [ 9.6065128 ],\n",
       "       [ 8.20076153],\n",
       "       [10.53796834],\n",
       "       [12.63261825],\n",
       "       [ 6.99043443],\n",
       "       [10.01326693],\n",
       "       [ 7.10032802]])"
      ]
     },
     "execution_count": 54,
     "metadata": {},
     "output_type": "execute_result"
    }
   ],
   "source": [
    "y_pred = w1 * X + w0\n",
    "y_pred[:10]"
   ]
  },
  {
   "cell_type": "code",
   "execution_count": 55,
   "id": "valuable-apollo",
   "metadata": {},
   "outputs": [
    {
     "data": {
      "text/plain": [
       "0.987"
      ]
     },
     "execution_count": 55,
     "metadata": {},
     "output_type": "execute_result"
    }
   ],
   "source": [
    "round(np.mean((y - y_pred)**2), 3)"
   ]
  },
  {
   "cell_type": "code",
   "execution_count": 58,
   "id": "controlled-marketing",
   "metadata": {},
   "outputs": [
    {
     "data": {
      "image/png": "[encoded data removed]",
      "text/plain": [
       "<Figure size 432x288 with 1 Axes>"
      ]
     },
     "metadata": {
      "needs_background": "light"
     },
     "output_type": "display_data"
    }
   ],
   "source": [
    "plt.scatter(X, y)\n",
    "plt.plot(X, y_pred, color='r')\n",
    "plt.show()"
   ]
  },
  {
   "cell_type": "code",
   "execution_count": null,
   "id": "binding-dubai",
   "metadata": {},
   "outputs": [],
   "source": []
  },
  {
   "cell_type": "code",
   "execution_count": null,
   "id": "sophisticated-detective",
   "metadata": {},
   "outputs": [],
   "source": []
  },
  {
   "cell_type": "code",
   "execution_count": null,
   "id": "toxic-range",
   "metadata": {},
   "outputs": [],
   "source": []
  }
 ],
 "metadata": {
  "kernelspec": {
   "display_name": "Python 3",
   "language": "python",
   "name": "python3"
  },
  "language_info": {
   "codemirror_mode": {
    "name": "ipython",
    "version": 3
   },
   "file_extension": ".py",
   "mimetype": "text/x-python",
   "name": "python",
   "nbconvert_exporter": "python",
   "pygments_lexer": "ipython3",
   "version": "3.7.9"
  }
 },
 "nbformat": 4,
 "nbformat_minor": 5
}
