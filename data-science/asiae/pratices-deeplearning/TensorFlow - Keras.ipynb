{
 "cells": [
  {
   "cell_type": "code",
   "execution_count": 17,
   "id": "white-genome",
   "metadata": {},
   "outputs": [],
   "source": [
    "import numpy as np\n",
    "import matplotlib.pyplot as plt\n",
    "\n",
    "import tensorflow as tf\n",
    "from tensorflow.keras.layers import Dense\n",
    "from tensorflow.keras.models import Sequential\n",
    "from tensorflow.keras import optimizers"
   ]
  },
  {
   "cell_type": "code",
   "execution_count": null,
   "id": "racial-certificate",
   "metadata": {},
   "outputs": [],
   "source": []
  },
  {
   "cell_type": "markdown",
   "id": "congressional-adventure",
   "metadata": {},
   "source": [
    "# Keras Sequential"
   ]
  },
  {
   "cell_type": "code",
   "execution_count": 3,
   "id": "bright-status",
   "metadata": {},
   "outputs": [],
   "source": [
    "x = np.array(np.arange(-5, 5, 0.1))\n",
    "y = 2*x*x + 3*x + 5\n",
    "dataX = np.stack([x*x, x]).T"
   ]
  },
  {
   "cell_type": "markdown",
   "id": "flush-spider",
   "metadata": {},
   "source": [
    "$$y = 2x^2 + 3x + 5$$"
   ]
  },
  {
   "cell_type": "code",
   "execution_count": 7,
   "id": "faced-flower",
   "metadata": {},
   "outputs": [
    {
     "name": "stdout",
     "output_type": "stream",
     "text": [
      "fit complete\n"
     ]
    }
   ],
   "source": [
    "model = Sequential()\n",
    "model.add(Dense(1, input_dim=2)) # Bias는 자동으로 설정\n",
    "model.compile(loss='mse',\n",
    "             optimizer=optimizers.Adam(lr=0.05))\n",
    "\n",
    "h = model.fit(dataX, y, batch_size=10, epochs=300, verbose=0)\n",
    "print('fit complete')"
   ]
  },
  {
   "cell_type": "code",
   "execution_count": 8,
   "id": "hindu-liquid",
   "metadata": {},
   "outputs": [
    {
     "data": {
      "text/plain": [
       "{'verbose': 0, 'epochs': 300, 'steps': 10}"
      ]
     },
     "execution_count": 8,
     "metadata": {},
     "output_type": "execute_result"
    }
   ],
   "source": [
    "h.params"
   ]
  },
  {
   "cell_type": "code",
   "execution_count": 13,
   "id": "seven-interview",
   "metadata": {},
   "outputs": [
    {
     "name": "stdout",
     "output_type": "stream",
     "text": [
      "Model: \"sequential_3\"\n",
      "_________________________________________________________________\n",
      "Layer (type)                 Output Shape              Param #   \n",
      "=================================================================\n",
      "dense_3 (Dense)              (None, 1)                 3         \n",
      "=================================================================\n",
      "Total params: 3\n",
      "Trainable params: 3\n",
      "Non-trainable params: 0\n",
      "_________________________________________________________________\n"
     ]
    }
   ],
   "source": [
    "model.summary()"
   ]
  },
  {
   "cell_type": "markdown",
   "id": "saving-tournament",
   "metadata": {},
   "source": [
    "### Real Model (coef)\n",
    "$y = 2x^2 + 3x + 5$\n",
    "\n",
    "### Hypothesis Model (coef)\n",
    "$y = 2.0000005x^2+3.0000002x+4.999994$"
   ]
  },
  {
   "cell_type": "code",
   "execution_count": 15,
   "id": "genuine-badge",
   "metadata": {},
   "outputs": [
    {
     "data": {
      "text/plain": [
       "[array([[2.0000005],\n",
       "        [3.0000002]], dtype=float32),\n",
       " array([4.999994], dtype=float32)]"
      ]
     },
     "execution_count": 15,
     "metadata": {},
     "output_type": "execute_result"
    }
   ],
   "source": [
    "parameters = model.layers[0].get_weights()\n",
    "parameters"
   ]
  },
  {
   "cell_type": "code",
   "execution_count": null,
   "id": "vital-barbados",
   "metadata": {},
   "outputs": [],
   "source": []
  },
  {
   "cell_type": "code",
   "execution_count": 21,
   "id": "imposed-taiwan",
   "metadata": {},
   "outputs": [
    {
     "data": {
      "image/png": "[encoded data removed]",
      "text/plain": [
       "<Figure size 432x288 with 1 Axes>"
      ]
     },
     "metadata": {
      "needs_background": "light"
     },
     "output_type": "display_data"
    }
   ],
   "source": [
    "plt.plot(h.history['loss'])\n",
    "plt.title('loss func')\n",
    "plt.ylabel('loss')\n",
    "plt.xlabel('epoch')\n",
    "plt.show()"
   ]
  },
  {
   "cell_type": "code",
   "execution_count": null,
   "id": "assigned-record",
   "metadata": {},
   "outputs": [],
   "source": []
  },
  {
   "cell_type": "code",
   "execution_count": null,
   "id": "swiss-orbit",
   "metadata": {},
   "outputs": [],
   "source": []
  },
  {
   "cell_type": "markdown",
   "id": "colonial-species",
   "metadata": {},
   "source": [
    "# Keras Functional"
   ]
  },
  {
   "cell_type": "code",
   "execution_count": 23,
   "id": "joint-above",
   "metadata": {},
   "outputs": [
    {
     "name": "stdout",
     "output_type": "stream",
     "text": [
      "Fit complete\n"
     ]
    }
   ],
   "source": [
    "from tensorflow.keras.layers import Input\n",
    "from tensorflow.keras.models import Model\n",
    "\n",
    "xInput = Input(batch_shape=(None, dataX.shape[1])) # None = 몇 개가 들어올지 모름\n",
    "yOutput = Dense(1)(xInput)\n",
    "model = Model(xInput, yOutput)\n",
    "model.compile(loss='mse', optimizer=optimizers.Adam(lr=0.01))\n",
    "\n",
    "h = model.fit(dataX, y, batch_size=10, epochs=300, verbose=0)\n",
    "print('Fit complete')"
   ]
  },
  {
   "cell_type": "code",
   "execution_count": 24,
   "id": "signal-decline",
   "metadata": {},
   "outputs": [
    {
     "data": {
      "image/png": "[encoded data removed]",
      "text/plain": [
       "<Figure size 432x288 with 1 Axes>"
      ]
     },
     "metadata": {
      "needs_background": "light"
     },
     "output_type": "display_data"
    }
   ],
   "source": [
    "plt.plot(h.history['loss'])\n",
    "plt.title('loss func')\n",
    "plt.ylabel('loss')\n",
    "plt.xlabel('epoch')\n",
    "plt.show()"
   ]
  },
  {
   "cell_type": "code",
   "execution_count": 28,
   "id": "changed-nitrogen",
   "metadata": {
    "scrolled": true
   },
   "outputs": [
    {
     "data": {
      "text/plain": [
       "[]"
      ]
     },
     "execution_count": 28,
     "metadata": {},
     "output_type": "execute_result"
    }
   ],
   "source": [
    "model.layers[0].get_weights()"
   ]
  },
  {
   "cell_type": "code",
   "execution_count": null,
   "id": "seasonal-clarity",
   "metadata": {},
   "outputs": [],
   "source": []
  },
  {
   "cell_type": "code",
   "execution_count": null,
   "id": "harmful-retailer",
   "metadata": {},
   "outputs": [],
   "source": []
  }
 ],
 "metadata": {
  "kernelspec": {
   "display_name": "Python 3",
   "language": "python",
   "name": "python3"
  },
  "language_info": {
   "codemirror_mode": {
    "name": "ipython",
    "version": 3
   },
   "file_extension": ".py",
   "mimetype": "text/x-python",
   "name": "python",
   "nbconvert_exporter": "python",
   "pygments_lexer": "ipython3",
   "version": "3.7.9"
  }
 },
 "nbformat": 4,
 "nbformat_minor": 5
}
