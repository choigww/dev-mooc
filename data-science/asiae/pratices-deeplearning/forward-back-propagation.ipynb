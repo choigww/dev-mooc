{
 "cells": [
  {
   "cell_type": "code",
   "execution_count": 1,
   "id": "sexual-france",
   "metadata": {},
   "outputs": [],
   "source": [
    "import numpy as np"
   ]
  },
  {
   "cell_type": "code",
   "execution_count": 2,
   "id": "intended-disclaimer",
   "metadata": {},
   "outputs": [],
   "source": [
    "class MulLayer:\n",
    "    def __init__(self):\n",
    "        self.x = None\n",
    "        self.y = None\n",
    "        \n",
    "    def forward(self, x, y):\n",
    "        self.x = x\n",
    "        self.y = y\n",
    "        out = x * y\n",
    "        return out\n",
    "    \n",
    "    def backward(self, dout):\n",
    "        dx = dout * self.y # x <-> y 바꿈\n",
    "        dy = dout * self.x # y <-> x 바꿈\n",
    "        return dx, dy"
   ]
  },
  {
   "cell_type": "code",
   "execution_count": 3,
   "id": "material-instrument",
   "metadata": {},
   "outputs": [
    {
     "name": "stdout",
     "output_type": "stream",
     "text": [
      "220.00000000000003\n"
     ]
    }
   ],
   "source": [
    "apple = 100\n",
    "apple_num = 2\n",
    "tax = 1.1\n",
    "\n",
    "# layers\n",
    "mul_apple_layer = MulLayer()\n",
    "mul_tax_layer = MulLayer()\n",
    "\n",
    "# forward propagation\n",
    "apple_price = mul_apple_layer.forward(apple, apple_num)\n",
    "price = mul_tax_layer.forward(apple_price, tax)\n",
    "\n",
    "print(price) # 220"
   ]
  },
  {
   "cell_type": "code",
   "execution_count": 4,
   "id": "metallic-asian",
   "metadata": {},
   "outputs": [
    {
     "name": "stdout",
     "output_type": "stream",
     "text": [
      "2.2 110.00000000000001 200\n"
     ]
    }
   ],
   "source": [
    "# 역전파\n",
    "# .backward()가 받는 인수 = 순전파의 출력에 대한 미분값 (ex. dprice)\n",
    "dprice = 1\n",
    "dapple_price, dtax = mul_tax_layer.backward(dprice)\n",
    "dapple, dapple_num = mul_apple_layer.backward(dapple_price)\n",
    "\n",
    "print(dapple, dapple_num, dtax)"
   ]
  },
  {
   "cell_type": "code",
   "execution_count": null,
   "id": "superior-enzyme",
   "metadata": {},
   "outputs": [],
   "source": []
  },
  {
   "cell_type": "code",
   "execution_count": 5,
   "id": "surface-white",
   "metadata": {},
   "outputs": [],
   "source": [
    "class AddLayer:\n",
    "    def __init__(self):\n",
    "        pass\n",
    "    \n",
    "    def forward(self, x, y):\n",
    "        out = x + y\n",
    "        return out\n",
    "    \n",
    "    def backward(self, dout):\n",
    "        dx = dout * 1\n",
    "        dy = dout * 1\n",
    "        return dx, dy"
   ]
  },
  {
   "cell_type": "code",
   "execution_count": 6,
   "id": "indirect-invite",
   "metadata": {},
   "outputs": [
    {
     "name": "stdout",
     "output_type": "stream",
     "text": [
      "715.0000000000001\n",
      "1.1 650\n",
      "110.00000000000001 2.2 3.3000000000000003 165.0 650\n"
     ]
    }
   ],
   "source": [
    "apple = 100\n",
    "apple_num = 2\n",
    "orange = 150\n",
    "orange_num = 3\n",
    "tax = 1.1\n",
    "\n",
    "# 계층들\n",
    "mul_apple_layer = MulLayer()\n",
    "mul_orange_layer = MulLayer()\n",
    "add_apple_orange_layer = AddLayer()\n",
    "mul_tax_layer = MulLayer()\n",
    "\n",
    "# 순전파\n",
    "apple_price = mul_apple_layer.forward(apple, apple_num) # (1)\n",
    "orange_price = mul_orange_layer.forward(orange, orange_num) # (2)\n",
    "all_price = add_apple_orange_layer.forward(apple_price, orange_price) # (3)\n",
    "price = mul_tax_layer.forward(all_price, tax) # (4)\n",
    "\n",
    "# 역전파\n",
    "dprice = 1\n",
    "dall_price, dtax = mul_tax_layer.backward(dprice) # (4)\n",
    "dapple_price, dorange_price = add_apple_orange_layer.backward(dall_price) # (3)\n",
    "dorange, dorange_num = mul_orange_layer.backward(dorange_price) # (2)\n",
    "dapple, dapple_num = mul_apple_layer.backward(dapple_price) # (1)\n",
    "\n",
    "print(price)\n",
    "print(dall_price, dtax)\n",
    "print(dapple_num, dapple, dorange, dorange_num, dtax)"
   ]
  },
  {
   "cell_type": "code",
   "execution_count": null,
   "id": "permanent-masters",
   "metadata": {},
   "outputs": [],
   "source": []
  },
  {
   "cell_type": "code",
   "execution_count": 7,
   "id": "accredited-center",
   "metadata": {},
   "outputs": [],
   "source": [
    "class Relu():\n",
    "    def __init__(self):\n",
    "        self.mask = None\n",
    "\n",
    "    def forward(self, x):\n",
    "        self.mask = (x <= 0)\n",
    "        out = x.copy()\n",
    "        out[self.mask] = 0\n",
    "        return out\n",
    "    \n",
    "    def backward(self, dout):\n",
    "        dout[self.mask] = 0 # 0 이하인 값들은 0으로 흘려보내고\n",
    "        dx = dout # 0보다 큰 값들은 dout 그대로 돌린다\n",
    "        return dx\n",
    "        "
   ]
  },
  {
   "cell_type": "code",
   "execution_count": 8,
   "id": "valuable-currency",
   "metadata": {},
   "outputs": [],
   "source": [
    "class Sigmoid():\n",
    "    \n",
    "    def __init__(self):\n",
    "        self.out = None\n",
    "        \n",
    "    def forward(self, x):\n",
    "        out = 1 / (1 + np.exp(-1*x))\n",
    "        self.out = out\n",
    "        return out\n",
    "    \n",
    "    def backward(self, dout):\n",
    "        dx = dout * (1 - dout)\n",
    "        return dx\n",
    "    "
   ]
  },
  {
   "cell_type": "code",
   "execution_count": null,
   "id": "increased-minneapolis",
   "metadata": {},
   "outputs": [],
   "source": []
  },
  {
   "cell_type": "markdown",
   "id": "funny-attempt",
   "metadata": {},
   "source": [
    "# Affine Layer"
   ]
  },
  {
   "cell_type": "code",
   "execution_count": 13,
   "id": "elder-corporation",
   "metadata": {},
   "outputs": [
    {
     "name": "stdout",
     "output_type": "stream",
     "text": [
      "[[ 1  2  3]\n",
      " [11 12 13]]\n",
      "(3,)\n"
     ]
    }
   ],
   "source": [
    "# 순전파 때의 편향 덧셈 (편향) = element-wise\n",
    "X_dot_W = np.array([[0,0,0], [10,10,10]])\n",
    "B = np.array([1,2,3])\n",
    "\n",
    "print(X_dot_W + B)\n",
    "print(B.shape)"
   ]
  },
  {
   "cell_type": "code",
   "execution_count": 14,
   "id": "serial-stand",
   "metadata": {},
   "outputs": [
    {
     "name": "stdout",
     "output_type": "stream",
     "text": [
      "[5 7 9]\n",
      "(3,)\n"
     ]
    }
   ],
   "source": [
    "# 역전파 때는, 각 데이터의 역전파 값들이 편향 원소에 모여야 함\n",
    "# 최초 순전파 당시 더해졌던 형상대로 돌아가야 함 = shape(3,)\n",
    "dY = np.array([[1,2,3], [4,5,6]])\n",
    "dB = np.sum(dY, axis=0)\n",
    "print(dB)\n",
    "print(dB.shape)"
   ]
  },
  {
   "cell_type": "code",
   "execution_count": 15,
   "id": "illegal-movement",
   "metadata": {},
   "outputs": [],
   "source": [
    "class Affine:\n",
    "    def __init__(self, W, b):\n",
    "        self.W = W\n",
    "        self.b = b\n",
    "        self.x = None\n",
    "        self.dW = None\n",
    "        self.db = None\n",
    "    \n",
    "    def forward(self, x):\n",
    "        self.x = x\n",
    "        return np.dot(x, self.W) + self.b\n",
    "    \n",
    "    def backward(self, dout):\n",
    "        dx = np.dot(dout, self.W.T)\n",
    "        self.dW = np.dot(self.x.T, dout)\n",
    "        self.db = np.sum(dout, axis=0)\n",
    "        return dx"
   ]
  },
  {
   "cell_type": "code",
   "execution_count": null,
   "id": "incorporate-literacy",
   "metadata": {},
   "outputs": [],
   "source": []
  },
  {
   "cell_type": "code",
   "execution_count": 17,
   "id": "steady-projection",
   "metadata": {},
   "outputs": [],
   "source": [
    "class SoftmaxWithLoss:\n",
    "    def __init__(self):\n",
    "        self.loss = None\n",
    "        self.y = None\n",
    "        self.t = None\n",
    "    \n",
    "    def forward(self, x, t):\n",
    "        self.t = t\n",
    "        self.y = softmax(x)\n",
    "        self.loss = cross_entropy_error(self.y, self.t)\n",
    "        return self.loss\n",
    "    \n",
    "    def backward(self, dout=1):\n",
    "        batch_size = self.t.shape[0]\n",
    "        dx = (self.y - self.t) / batch_size\n",
    "        return dx"
   ]
  },
  {
   "cell_type": "code",
   "execution_count": null,
   "id": "composite-coordinate",
   "metadata": {},
   "outputs": [],
   "source": []
  },
  {
   "cell_type": "markdown",
   "id": "compact-rough",
   "metadata": {},
   "source": [
    "# TwoLayerNet\n",
    "오차역전파법 구현"
   ]
  },
  {
   "cell_type": "code",
   "execution_count": 32,
   "id": "instrumental-leader",
   "metadata": {},
   "outputs": [],
   "source": [
    "def cross_entropy_error(y, t):\n",
    "    if y.ndim == 1:\n",
    "        t = t.reshape(1, t.size)\n",
    "        y = y.reshape(1, y.size)\n",
    "    \n",
    "    batch_size = y.shape[0]\n",
    "    \n",
    "    delta = 1e-7\n",
    "    return -np.sum(np.log(y + delta))/batch_size"
   ]
  },
  {
   "cell_type": "code",
   "execution_count": 30,
   "id": "running-index",
   "metadata": {},
   "outputs": [],
   "source": [
    "def softmax(x):\n",
    "    exp_x = np.exp(x)\n",
    "    sum_exp_x = np.sum(exp_x, axis=-1).reshape(-1, 1)\n",
    "    y = exp_x/sum_exp_x\n",
    "    return y"
   ]
  },
  {
   "cell_type": "code",
   "execution_count": 22,
   "id": "continental-facial",
   "metadata": {},
   "outputs": [],
   "source": [
    "def numerical_gradient_no_batch(f, x):\n",
    "    h = 1e-4 # 0.0001\n",
    "    grad = np.zeros_like(x) # x와 형상이 같은 배열을 생성\n",
    "    \n",
    "    for idx in range(x.size):\n",
    "        tmp_val = x[idx]\n",
    "        \n",
    "        # f(x+h) 계산\n",
    "        x[idx] = tmp_val + h\n",
    "        fxh1 = f(x)\n",
    "        \n",
    "        # f(x-h) 계산\n",
    "        x[idx] = tmp_val - h \n",
    "        fxh2 = f(x) \n",
    "        \n",
    "        grad[idx] = (fxh1 - fxh2) / (2*h)\n",
    "        x[idx] = tmp_val # 값 복원\n",
    "        \n",
    "    return grad\n",
    "        \n",
    "\n",
    "def numerical_gradient(f, X):\n",
    "    if X.ndim == 1:\n",
    "        return numerical_gradient_no_batch(f, X)\n",
    "    else:\n",
    "        grad = np.zeros_like(X)\n",
    "        \n",
    "        for idx, x in enumerate(X):\n",
    "            grad[idx] = numerical_gradient_no_batch(f, x)\n",
    "            \n",
    "        return grad"
   ]
  },
  {
   "cell_type": "code",
   "execution_count": 38,
   "id": "united-instrument",
   "metadata": {},
   "outputs": [],
   "source": [
    "#from common.layers import *\n",
    "#from common.gradient import numerical_gradient\n",
    "from collections import OrderedDict\n",
    "\n",
    "class TwoLayerNet:\n",
    "    \n",
    "    def __init__(self, input_size, hidden_size, output_size,\n",
    "                weight_init_std=0.01):\n",
    "        \n",
    "        # 가중치 초기화\n",
    "        self.params = {}\n",
    "        self.params['W1'] = weight_init_std * \\\n",
    "                            np.random.randn(input_size, hidden_size)\n",
    "        self.params['b1'] = np.zeros(hidden_size)\n",
    "        self.params['W2'] = weight_init_std * \\\n",
    "                            np.random.randn(hidden_size, output_size)\n",
    "        self.params['b2'] = np.zeros(output_size)\n",
    "        \n",
    "        # 계층 생성\n",
    "        self.layers = OrderedDict()\n",
    "        \n",
    "        self.layers['Affine1'] = \\\n",
    "            Affine(self.params['W1'], self.params['b1'])\n",
    "        self.layers['Relu1'] = Relu()\n",
    "        self.layers['Affine2'] = \\\n",
    "            Affine(self.params['W2'], self.params['b2'])\n",
    "        self.lastLayer = SoftmaxWithLoss()\n",
    "        \n",
    "    def predict(self, x):\n",
    "        # self.layers는 순서가 있는 dictionary\n",
    "        # for loop으로 호출하면 선언한 순서대로 튀어나온다\n",
    "        for layer in self.layers.values():\n",
    "            x = layer.forward(x)\n",
    "        return x\n",
    "        \n",
    "    # x: 입력 데이터, t: 정답 레이블\n",
    "    def loss(self, x, t):\n",
    "        y = self.predict(x)\n",
    "        return self.lastLayer.forward(y, t) # softmax layer forward -> cross entropy return\n",
    "    \n",
    "    def accuracy(self, x, t):\n",
    "        y = self.predict(x)\n",
    "        y = np.argmax(y, axis=1) # 최대 probability가 위치한 column index (0, 1, 2, ... = target labels)\n",
    "        if t.ndim != 1:\n",
    "            t = np.argmax(t, axis=1)\n",
    "            \n",
    "        accuracy = np.sum(y==t) / float(x.shape[0])\n",
    "        return accuracy\n",
    "    \n",
    "    # x: 입력 데이터, t: 정답 레이블\n",
    "    def numerical_gradient(self, x, t):\n",
    "        loss_W = lambda W: self.loss(x, t)\n",
    "        \n",
    "        grads = {}\n",
    "        grads['W1'] = numerical_gradient(loss_W, self.params['W1'])\n",
    "        grads['b1'] = numerical_gradient(loss_W, self.params['b1'])\n",
    "        grads['W2'] = numerical_gradient(loss_W, self.params['W2'])\n",
    "        grads['b2'] = numerical_gradient(loss_W, self.params['b2'])\n",
    "        return grads\n",
    "    \n",
    "    def gradient(self, x, t):\n",
    "        # forward\n",
    "        self.loss(x, t)\n",
    "        \n",
    "        # backward\n",
    "        dout = 1\n",
    "        dout = self.lastLayer.backward(dout)\n",
    "        \n",
    "        layers = list(self.layers.values())\n",
    "        layers.reverse()\n",
    "        for layer in layers:\n",
    "            # reversed order\n",
    "            dout = layer.backward(dout)\n",
    "            \n",
    "        # result\n",
    "        grads = {}\n",
    "        grads['W1'] = self.layers['Affine1'].dW\n",
    "        grads['b1'] = self.layers['Affine1'].db\n",
    "        grads['W2'] = self.layers['Affine2'].dW\n",
    "        grads['b2'] = self.layers['Affine2'].db\n",
    "        \n",
    "        return grads\n",
    "    "
   ]
  },
  {
   "cell_type": "code",
   "execution_count": null,
   "id": "found-background",
   "metadata": {},
   "outputs": [],
   "source": []
  },
  {
   "cell_type": "markdown",
   "id": "electric-screw",
   "metadata": {},
   "source": [
    "### load MNIST data"
   ]
  },
  {
   "cell_type": "code",
   "execution_count": 25,
   "id": "painted-multimedia",
   "metadata": {},
   "outputs": [],
   "source": [
    "import pickle\n",
    "\n",
    "def load_mnist(normalize=True, flatten=True, one_hot_label=False):\n",
    "    def _change_one_hot_label(X):\n",
    "        T = np.zeros((X.size, 10))\n",
    "        for idx, row in enumerate(T):\n",
    "            row[X[idx]] = 1\n",
    "\n",
    "        return T\n",
    "\n",
    "    with open('mnist.pkl', 'rb') as f:\n",
    "        dataset = pickle.load(f)\n",
    "        \n",
    "    if normalize:\n",
    "        for key in ('train_img', 'test_img'):\n",
    "            dataset[key] = dataset[key].astype(np.float32)\n",
    "            dataset[key] /= 255.0\n",
    "            \n",
    "    if one_hot_label:\n",
    "        dataset['train_label'] = _change_one_hot_label(dataset['train_label'])\n",
    "        dataset['test_label'] = _change_one_hot_label(dataset['test_label'])    \n",
    "    \n",
    "    if not flatten:\n",
    "         for key in ('train_img', 'test_img'):\n",
    "            dataset[key] = dataset[key].reshape(-1, 1, 28, 28)\n",
    "\n",
    "    return (dataset['train_img'], dataset['train_label']), (dataset['test_img'], dataset['test_label']) \n"
   ]
  },
  {
   "cell_type": "code",
   "execution_count": 26,
   "id": "renewable-rhythm",
   "metadata": {},
   "outputs": [],
   "source": [
    "def sigmoid(x):\n",
    "    return 1/(1 + np.exp(-x))"
   ]
  },
  {
   "cell_type": "code",
   "execution_count": 27,
   "id": "dangerous-fifty",
   "metadata": {},
   "outputs": [
    {
     "name": "stdout",
     "output_type": "stream",
     "text": [
      "[[0. 0. 0. ... 0. 0. 0.]\n",
      " [1. 0. 0. ... 0. 0. 0.]\n",
      " [0. 0. 0. ... 0. 0. 0.]\n",
      " ...\n",
      " [0. 0. 0. ... 0. 0. 0.]\n",
      " [0. 0. 0. ... 0. 0. 0.]\n",
      " [0. 0. 0. ... 0. 1. 0.]] 2\n"
     ]
    }
   ],
   "source": [
    "# one-hot encoded\n",
    "(x_train, t_train), (x_test, t_test) = load_mnist(normalize=True, flatten=True, \n",
    "                                                  one_hot_label=True)\n",
    "\n",
    "# target(y) = 2차원 어레이, one-hot encoded\n",
    "print(t_train, t_train.ndim)\n",
    "\n",
    "iter_num = 1000\n",
    "train_size = x_train.shape[0]\n",
    "batch_size = 100\n",
    "learning_rate = 0.1\n",
    "\n",
    "train_loss_list = []\n",
    "train_acc_list = []\n",
    "test_acc_list = []\n",
    "\n",
    "iter_per_epoch = max(train_size/batch_size, 1)\n",
    "\n",
    "# model 생성\n",
    "network = TwoLayerNet(input_size=784, hidden_size=50, output_size=10)"
   ]
  },
  {
   "cell_type": "code",
   "execution_count": 36,
   "id": "antique-white",
   "metadata": {},
   "outputs": [
    {
     "name": "stdout",
     "output_type": "stream",
     "text": [
      "0 / train acc:0.0817 / test acc:0.0812\n",
      "1 / train acc:0.08238333333333334 / test acc:0.0819\n",
      "2 / train acc:0.08366666666666667 / test acc:0.0834\n",
      "3 / train acc:0.08401666666666667 / test acc:0.0836\n",
      "4 / train acc:0.08525 / test acc:0.084\n"
     ]
    },
    {
     "ename": "AssertionError",
     "evalue": "test finished",
     "output_type": "error",
     "traceback": [
      "\u001b[0;31m---------------------------------------------------------------------------\u001b[0m",
      "\u001b[0;31mAssertionError\u001b[0m                            Traceback (most recent call last)",
      "\u001b[0;32m<ipython-input-36-bc25cf1c0861>\u001b[0m in \u001b[0;36m<module>\u001b[0;34m\u001b[0m\n\u001b[1;32m     19\u001b[0m     \u001b[0mprint\u001b[0m\u001b[0;34m(\u001b[0m\u001b[0;34mf\"{i} / train acc:{train_acc} / test acc:{test_acc}\"\u001b[0m\u001b[0;34m)\u001b[0m\u001b[0;34m\u001b[0m\u001b[0;34m\u001b[0m\u001b[0m\n\u001b[1;32m     20\u001b[0m \u001b[0;34m\u001b[0m\u001b[0m\n\u001b[0;32m---> 21\u001b[0;31m     \u001b[0;32massert\u001b[0m \u001b[0mi\u001b[0m \u001b[0;34m!=\u001b[0m \u001b[0;36m4\u001b[0m\u001b[0;34m,\u001b[0m \u001b[0;34m\"test finished\"\u001b[0m\u001b[0;34m\u001b[0m\u001b[0;34m\u001b[0m\u001b[0m\n\u001b[0m",
      "\u001b[0;31mAssertionError\u001b[0m: test finished"
     ]
    }
   ],
   "source": [
    "for i in range(iter_num):\n",
    "    batch_mask = np.random.choice(train_size, batch_size)\n",
    "    x_batch = x_train[batch_mask]\n",
    "    t_batch = t_train[batch_mask]\n",
    "    \n",
    "    grad = network.numerical_gradient(x_batch, t_batch)\n",
    "    \n",
    "    for key in (\"W1\", \"b1\", \"W2\", \"b2\"):\n",
    "        network.params[key] -= learning_rate * grad[key]\n",
    "\n",
    "    loss = network.loss(x_batch, t_batch)\n",
    "    train_loss_list.append(loss)\n",
    "    \n",
    "    train_acc = network.accuracy(x_train, t_train)\n",
    "    test_acc = network.accuracy(x_test, t_test)\n",
    "    \n",
    "    train_acc_list.append(train_acc)\n",
    "    test_acc_list.append(test_acc)\n",
    "    print(f\"{i} / train acc:{train_acc} / test acc:{test_acc}\")\n",
    "    \n",
    "    assert i != 4, \"test finished\""
   ]
  },
  {
   "cell_type": "code",
   "execution_count": null,
   "id": "naked-origin",
   "metadata": {},
   "outputs": [],
   "source": []
  },
  {
   "cell_type": "markdown",
   "id": "satellite-accessory",
   "metadata": {},
   "source": [
    "# 수치 미분과 오차역전파법으로 구한 기울기 비교하기"
   ]
  },
  {
   "cell_type": "code",
   "execution_count": 39,
   "id": "killing-detection",
   "metadata": {},
   "outputs": [
    {
     "data": {
      "text/plain": [
       "[0.0004012244757606656,\n",
       " 0.0028917560652828066,\n",
       " 0.005763962639086577,\n",
       " 0.14095289149098872]"
      ]
     },
     "execution_count": 39,
     "metadata": {},
     "output_type": "execute_result"
    }
   ],
   "source": [
    "(x_train, t_train), (x_test, t_test) = load_mnist(normalize=True, flatten=True, \n",
    "                                                  one_hot_label=True)\n",
    "\n",
    "# model 생성\n",
    "network = TwoLayerNet(input_size=784, hidden_size=50, output_size=10)\n",
    "\n",
    "x_batch = x_train[:3]\n",
    "t_batch = t_train[:3]\n",
    "\n",
    "grad_numerical = network.numerical_gradient(x_batch, t_batch)\n",
    "grad_backprop = network.gradient(x_batch, t_batch)\n",
    "\n",
    "# 각 가중치 차이의 절대값을 구한 다음 평균\n",
    "[np.average(np.abs(grad_backprop[key] - grad_numerical[key])) for key in grad_numerical.keys()]"
   ]
  },
  {
   "cell_type": "code",
   "execution_count": null,
   "id": "powered-replica",
   "metadata": {},
   "outputs": [],
   "source": []
  },
  {
   "cell_type": "markdown",
   "id": "agricultural-warren",
   "metadata": {},
   "source": [
    "### 연산속도 차이 비교"
   ]
  },
  {
   "cell_type": "code",
   "execution_count": 55,
   "id": "governing-clothing",
   "metadata": {
    "collapsed": true
   },
   "outputs": [
    {
     "name": "stdout",
     "output_type": "stream",
     "text": [
      "CPU times: user 2 µs, sys: 1e+03 ns, total: 3 µs\n",
      "Wall time: 5.25 µs\n"
     ]
    },
    {
     "ename": "KeyboardInterrupt",
     "evalue": "",
     "output_type": "error",
     "traceback": [
      "\u001b[0;31m---------------------------------------------------------------------------\u001b[0m",
      "\u001b[0;31mKeyboardInterrupt\u001b[0m                         Traceback (most recent call last)",
      "\u001b[0;32m<ipython-input-55-a70bf54b8137>\u001b[0m in \u001b[0;36m<module>\u001b[0;34m\u001b[0m\n\u001b[1;32m      1\u001b[0m \u001b[0;31m# 수치미분\u001b[0m\u001b[0;34m\u001b[0m\u001b[0;34m\u001b[0m\u001b[0;34m\u001b[0m\u001b[0m\n\u001b[1;32m      2\u001b[0m \u001b[0mget_ipython\u001b[0m\u001b[0;34m(\u001b[0m\u001b[0;34m)\u001b[0m\u001b[0;34m.\u001b[0m\u001b[0mrun_line_magic\u001b[0m\u001b[0;34m(\u001b[0m\u001b[0;34m'time'\u001b[0m\u001b[0;34m,\u001b[0m \u001b[0;34m''\u001b[0m\u001b[0;34m)\u001b[0m\u001b[0;34m\u001b[0m\u001b[0;34m\u001b[0m\u001b[0m\n\u001b[0;32m----> 3\u001b[0;31m \u001b[0mnetwork\u001b[0m\u001b[0;34m.\u001b[0m\u001b[0mnumerical_gradient\u001b[0m\u001b[0;34m(\u001b[0m\u001b[0mx_batch\u001b[0m\u001b[0;34m,\u001b[0m \u001b[0mt_batch\u001b[0m\u001b[0;34m)\u001b[0m\u001b[0;34m\u001b[0m\u001b[0;34m\u001b[0m\u001b[0m\n\u001b[0m",
      "\u001b[0;32m<ipython-input-38-952c1ae7cce0>\u001b[0m in \u001b[0;36mnumerical_gradient\u001b[0;34m(self, x, t)\u001b[0m\n\u001b[1;32m     53\u001b[0m \u001b[0;34m\u001b[0m\u001b[0m\n\u001b[1;32m     54\u001b[0m         \u001b[0mgrads\u001b[0m \u001b[0;34m=\u001b[0m \u001b[0;34m{\u001b[0m\u001b[0;34m}\u001b[0m\u001b[0;34m\u001b[0m\u001b[0;34m\u001b[0m\u001b[0m\n\u001b[0;32m---> 55\u001b[0;31m         \u001b[0mgrads\u001b[0m\u001b[0;34m[\u001b[0m\u001b[0;34m'W1'\u001b[0m\u001b[0;34m]\u001b[0m \u001b[0;34m=\u001b[0m \u001b[0mnumerical_gradient\u001b[0m\u001b[0;34m(\u001b[0m\u001b[0mloss_W\u001b[0m\u001b[0;34m,\u001b[0m \u001b[0mself\u001b[0m\u001b[0;34m.\u001b[0m\u001b[0mparams\u001b[0m\u001b[0;34m[\u001b[0m\u001b[0;34m'W1'\u001b[0m\u001b[0;34m]\u001b[0m\u001b[0;34m)\u001b[0m\u001b[0;34m\u001b[0m\u001b[0;34m\u001b[0m\u001b[0m\n\u001b[0m\u001b[1;32m     56\u001b[0m         \u001b[0mgrads\u001b[0m\u001b[0;34m[\u001b[0m\u001b[0;34m'b1'\u001b[0m\u001b[0;34m]\u001b[0m \u001b[0;34m=\u001b[0m \u001b[0mnumerical_gradient\u001b[0m\u001b[0;34m(\u001b[0m\u001b[0mloss_W\u001b[0m\u001b[0;34m,\u001b[0m \u001b[0mself\u001b[0m\u001b[0;34m.\u001b[0m\u001b[0mparams\u001b[0m\u001b[0;34m[\u001b[0m\u001b[0;34m'b1'\u001b[0m\u001b[0;34m]\u001b[0m\u001b[0;34m)\u001b[0m\u001b[0;34m\u001b[0m\u001b[0;34m\u001b[0m\u001b[0m\n\u001b[1;32m     57\u001b[0m         \u001b[0mgrads\u001b[0m\u001b[0;34m[\u001b[0m\u001b[0;34m'W2'\u001b[0m\u001b[0;34m]\u001b[0m \u001b[0;34m=\u001b[0m \u001b[0mnumerical_gradient\u001b[0m\u001b[0;34m(\u001b[0m\u001b[0mloss_W\u001b[0m\u001b[0;34m,\u001b[0m \u001b[0mself\u001b[0m\u001b[0;34m.\u001b[0m\u001b[0mparams\u001b[0m\u001b[0;34m[\u001b[0m\u001b[0;34m'W2'\u001b[0m\u001b[0;34m]\u001b[0m\u001b[0;34m)\u001b[0m\u001b[0;34m\u001b[0m\u001b[0;34m\u001b[0m\u001b[0m\n",
      "\u001b[0;32m<ipython-input-22-186ade47abe3>\u001b[0m in \u001b[0;36mnumerical_gradient\u001b[0;34m(f, X)\u001b[0m\n\u001b[1;32m     27\u001b[0m \u001b[0;34m\u001b[0m\u001b[0m\n\u001b[1;32m     28\u001b[0m         \u001b[0;32mfor\u001b[0m \u001b[0midx\u001b[0m\u001b[0;34m,\u001b[0m \u001b[0mx\u001b[0m \u001b[0;32min\u001b[0m \u001b[0menumerate\u001b[0m\u001b[0;34m(\u001b[0m\u001b[0mX\u001b[0m\u001b[0;34m)\u001b[0m\u001b[0;34m:\u001b[0m\u001b[0;34m\u001b[0m\u001b[0;34m\u001b[0m\u001b[0m\n\u001b[0;32m---> 29\u001b[0;31m             \u001b[0mgrad\u001b[0m\u001b[0;34m[\u001b[0m\u001b[0midx\u001b[0m\u001b[0;34m]\u001b[0m \u001b[0;34m=\u001b[0m \u001b[0mnumerical_gradient_no_batch\u001b[0m\u001b[0;34m(\u001b[0m\u001b[0mf\u001b[0m\u001b[0;34m,\u001b[0m \u001b[0mx\u001b[0m\u001b[0;34m)\u001b[0m\u001b[0;34m\u001b[0m\u001b[0;34m\u001b[0m\u001b[0m\n\u001b[0m\u001b[1;32m     30\u001b[0m \u001b[0;34m\u001b[0m\u001b[0m\n\u001b[1;32m     31\u001b[0m         \u001b[0;32mreturn\u001b[0m \u001b[0mgrad\u001b[0m\u001b[0;34m\u001b[0m\u001b[0;34m\u001b[0m\u001b[0m\n",
      "\u001b[0;32m<ipython-input-22-186ade47abe3>\u001b[0m in \u001b[0;36mnumerical_gradient_no_batch\u001b[0;34m(f, x)\u001b[0m\n\u001b[1;32m      8\u001b[0m         \u001b[0;31m# f(x+h) 계산\u001b[0m\u001b[0;34m\u001b[0m\u001b[0;34m\u001b[0m\u001b[0;34m\u001b[0m\u001b[0m\n\u001b[1;32m      9\u001b[0m         \u001b[0mx\u001b[0m\u001b[0;34m[\u001b[0m\u001b[0midx\u001b[0m\u001b[0;34m]\u001b[0m \u001b[0;34m=\u001b[0m \u001b[0mtmp_val\u001b[0m \u001b[0;34m+\u001b[0m \u001b[0mh\u001b[0m\u001b[0;34m\u001b[0m\u001b[0;34m\u001b[0m\u001b[0m\n\u001b[0;32m---> 10\u001b[0;31m         \u001b[0mfxh1\u001b[0m \u001b[0;34m=\u001b[0m \u001b[0mf\u001b[0m\u001b[0;34m(\u001b[0m\u001b[0mx\u001b[0m\u001b[0;34m)\u001b[0m\u001b[0;34m\u001b[0m\u001b[0;34m\u001b[0m\u001b[0m\n\u001b[0m\u001b[1;32m     11\u001b[0m \u001b[0;34m\u001b[0m\u001b[0m\n\u001b[1;32m     12\u001b[0m         \u001b[0;31m# f(x-h) 계산\u001b[0m\u001b[0;34m\u001b[0m\u001b[0;34m\u001b[0m\u001b[0;34m\u001b[0m\u001b[0m\n",
      "\u001b[0;32m<ipython-input-38-952c1ae7cce0>\u001b[0m in \u001b[0;36m<lambda>\u001b[0;34m(W)\u001b[0m\n\u001b[1;32m     50\u001b[0m     \u001b[0;31m# x: 입력 데이터, t: 정답 레이블\u001b[0m\u001b[0;34m\u001b[0m\u001b[0;34m\u001b[0m\u001b[0;34m\u001b[0m\u001b[0m\n\u001b[1;32m     51\u001b[0m     \u001b[0;32mdef\u001b[0m \u001b[0mnumerical_gradient\u001b[0m\u001b[0;34m(\u001b[0m\u001b[0mself\u001b[0m\u001b[0;34m,\u001b[0m \u001b[0mx\u001b[0m\u001b[0;34m,\u001b[0m \u001b[0mt\u001b[0m\u001b[0;34m)\u001b[0m\u001b[0;34m:\u001b[0m\u001b[0;34m\u001b[0m\u001b[0;34m\u001b[0m\u001b[0m\n\u001b[0;32m---> 52\u001b[0;31m         \u001b[0mloss_W\u001b[0m \u001b[0;34m=\u001b[0m \u001b[0;32mlambda\u001b[0m \u001b[0mW\u001b[0m\u001b[0;34m:\u001b[0m \u001b[0mself\u001b[0m\u001b[0;34m.\u001b[0m\u001b[0mloss\u001b[0m\u001b[0;34m(\u001b[0m\u001b[0mx\u001b[0m\u001b[0;34m,\u001b[0m \u001b[0mt\u001b[0m\u001b[0;34m)\u001b[0m\u001b[0;34m\u001b[0m\u001b[0;34m\u001b[0m\u001b[0m\n\u001b[0m\u001b[1;32m     53\u001b[0m \u001b[0;34m\u001b[0m\u001b[0m\n\u001b[1;32m     54\u001b[0m         \u001b[0mgrads\u001b[0m \u001b[0;34m=\u001b[0m \u001b[0;34m{\u001b[0m\u001b[0;34m}\u001b[0m\u001b[0;34m\u001b[0m\u001b[0;34m\u001b[0m\u001b[0m\n",
      "\u001b[0;32m<ipython-input-38-952c1ae7cce0>\u001b[0m in \u001b[0;36mloss\u001b[0;34m(self, x, t)\u001b[0m\n\u001b[1;32m     36\u001b[0m     \u001b[0;31m# x: 입력 데이터, t: 정답 레이블\u001b[0m\u001b[0;34m\u001b[0m\u001b[0;34m\u001b[0m\u001b[0;34m\u001b[0m\u001b[0m\n\u001b[1;32m     37\u001b[0m     \u001b[0;32mdef\u001b[0m \u001b[0mloss\u001b[0m\u001b[0;34m(\u001b[0m\u001b[0mself\u001b[0m\u001b[0;34m,\u001b[0m \u001b[0mx\u001b[0m\u001b[0;34m,\u001b[0m \u001b[0mt\u001b[0m\u001b[0;34m)\u001b[0m\u001b[0;34m:\u001b[0m\u001b[0;34m\u001b[0m\u001b[0;34m\u001b[0m\u001b[0m\n\u001b[0;32m---> 38\u001b[0;31m         \u001b[0my\u001b[0m \u001b[0;34m=\u001b[0m \u001b[0mself\u001b[0m\u001b[0;34m.\u001b[0m\u001b[0mpredict\u001b[0m\u001b[0;34m(\u001b[0m\u001b[0mx\u001b[0m\u001b[0;34m)\u001b[0m\u001b[0;34m\u001b[0m\u001b[0;34m\u001b[0m\u001b[0m\n\u001b[0m\u001b[1;32m     39\u001b[0m         \u001b[0;32mreturn\u001b[0m \u001b[0mself\u001b[0m\u001b[0;34m.\u001b[0m\u001b[0mlastLayer\u001b[0m\u001b[0;34m.\u001b[0m\u001b[0mforward\u001b[0m\u001b[0;34m(\u001b[0m\u001b[0my\u001b[0m\u001b[0;34m,\u001b[0m \u001b[0mt\u001b[0m\u001b[0;34m)\u001b[0m \u001b[0;31m# softmax layer forward -> cross entropy return\u001b[0m\u001b[0;34m\u001b[0m\u001b[0;34m\u001b[0m\u001b[0m\n\u001b[1;32m     40\u001b[0m \u001b[0;34m\u001b[0m\u001b[0m\n",
      "\u001b[0;32m<ipython-input-38-952c1ae7cce0>\u001b[0m in \u001b[0;36mpredict\u001b[0;34m(self, x)\u001b[0m\n\u001b[1;32m     31\u001b[0m         \u001b[0;31m# for loop으로 호출하면 선언한 순서대로 튀어나온다\u001b[0m\u001b[0;34m\u001b[0m\u001b[0;34m\u001b[0m\u001b[0;34m\u001b[0m\u001b[0m\n\u001b[1;32m     32\u001b[0m         \u001b[0;32mfor\u001b[0m \u001b[0mlayer\u001b[0m \u001b[0;32min\u001b[0m \u001b[0mself\u001b[0m\u001b[0;34m.\u001b[0m\u001b[0mlayers\u001b[0m\u001b[0;34m.\u001b[0m\u001b[0mvalues\u001b[0m\u001b[0;34m(\u001b[0m\u001b[0;34m)\u001b[0m\u001b[0;34m:\u001b[0m\u001b[0;34m\u001b[0m\u001b[0;34m\u001b[0m\u001b[0m\n\u001b[0;32m---> 33\u001b[0;31m             \u001b[0mx\u001b[0m \u001b[0;34m=\u001b[0m \u001b[0mlayer\u001b[0m\u001b[0;34m.\u001b[0m\u001b[0mforward\u001b[0m\u001b[0;34m(\u001b[0m\u001b[0mx\u001b[0m\u001b[0;34m)\u001b[0m\u001b[0;34m\u001b[0m\u001b[0;34m\u001b[0m\u001b[0m\n\u001b[0m\u001b[1;32m     34\u001b[0m         \u001b[0;32mreturn\u001b[0m \u001b[0mx\u001b[0m\u001b[0;34m\u001b[0m\u001b[0;34m\u001b[0m\u001b[0m\n\u001b[1;32m     35\u001b[0m \u001b[0;34m\u001b[0m\u001b[0m\n",
      "\u001b[0;32m<ipython-input-15-7bfb908f95c8>\u001b[0m in \u001b[0;36mforward\u001b[0;34m(self, x)\u001b[0m\n\u001b[1;32m      9\u001b[0m     \u001b[0;32mdef\u001b[0m \u001b[0mforward\u001b[0m\u001b[0;34m(\u001b[0m\u001b[0mself\u001b[0m\u001b[0;34m,\u001b[0m \u001b[0mx\u001b[0m\u001b[0;34m)\u001b[0m\u001b[0;34m:\u001b[0m\u001b[0;34m\u001b[0m\u001b[0;34m\u001b[0m\u001b[0m\n\u001b[1;32m     10\u001b[0m         \u001b[0mself\u001b[0m\u001b[0;34m.\u001b[0m\u001b[0mx\u001b[0m \u001b[0;34m=\u001b[0m \u001b[0mx\u001b[0m\u001b[0;34m\u001b[0m\u001b[0;34m\u001b[0m\u001b[0m\n\u001b[0;32m---> 11\u001b[0;31m         \u001b[0;32mreturn\u001b[0m \u001b[0mnp\u001b[0m\u001b[0;34m.\u001b[0m\u001b[0mdot\u001b[0m\u001b[0;34m(\u001b[0m\u001b[0mx\u001b[0m\u001b[0;34m,\u001b[0m \u001b[0mself\u001b[0m\u001b[0;34m.\u001b[0m\u001b[0mW\u001b[0m\u001b[0;34m)\u001b[0m \u001b[0;34m+\u001b[0m \u001b[0mself\u001b[0m\u001b[0;34m.\u001b[0m\u001b[0mb\u001b[0m\u001b[0;34m\u001b[0m\u001b[0;34m\u001b[0m\u001b[0m\n\u001b[0m\u001b[1;32m     12\u001b[0m \u001b[0;34m\u001b[0m\u001b[0m\n\u001b[1;32m     13\u001b[0m     \u001b[0;32mdef\u001b[0m \u001b[0mbackward\u001b[0m\u001b[0;34m(\u001b[0m\u001b[0mself\u001b[0m\u001b[0;34m,\u001b[0m \u001b[0mdout\u001b[0m\u001b[0;34m)\u001b[0m\u001b[0;34m:\u001b[0m\u001b[0;34m\u001b[0m\u001b[0;34m\u001b[0m\u001b[0m\n",
      "\u001b[0;32m<__array_function__ internals>\u001b[0m in \u001b[0;36mdot\u001b[0;34m(*args, **kwargs)\u001b[0m\n",
      "\u001b[0;31mKeyboardInterrupt\u001b[0m: "
     ]
    }
   ],
   "source": [
    "# 수치미분\n",
    "%time\n",
    "network.numerical_gradient(x_batch, t_batch)"
   ]
  },
  {
   "cell_type": "code",
   "execution_count": 54,
   "id": "fabulous-gender",
   "metadata": {},
   "outputs": [
    {
     "name": "stdout",
     "output_type": "stream",
     "text": [
      "CPU times: user 3 µs, sys: 0 ns, total: 3 µs\n",
      "Wall time: 5.01 µs\n"
     ]
    },
    {
     "data": {
      "text/plain": [
       "{'W1': array([[0., 0., 0., ..., 0., 0., 0.],\n",
       "        [0., 0., 0., ..., 0., 0., 0.],\n",
       "        [0., 0., 0., ..., 0., 0., 0.],\n",
       "        ...,\n",
       "        [0., 0., 0., ..., 0., 0., 0.],\n",
       "        [0., 0., 0., ..., 0., 0., 0.],\n",
       "        [0., 0., 0., ..., 0., 0., 0.]]),\n",
       " 'b1': array([-1.67886250e-04, -3.68743963e-03, -4.20856262e-04, -2.56916930e-03,\n",
       "         3.49523768e-04, -4.01858413e-03, -2.27692384e-03,  1.25058204e-03,\n",
       "        -2.64706792e-04,  7.02420727e-04, -3.95671804e-04,  1.70496759e-03,\n",
       "        -1.84736181e-03,  7.60534417e-05,  7.46392967e-04, -2.06933849e-03,\n",
       "        -2.59758117e-03, -2.39086902e-03, -1.25058240e-03, -4.60239973e-03,\n",
       "        -1.84078793e-04, -2.25814821e-04, -3.68330883e-03, -1.94489372e-03,\n",
       "        -1.30879116e-05, -3.70103018e-03, -2.50005122e-04,  1.94883145e-04,\n",
       "        -6.18794075e-04, -1.16671033e-04,  3.93069261e-06, -3.22482111e-03,\n",
       "        -1.76743270e-03,  1.46932567e-05, -3.00168264e-04, -2.53749780e-04,\n",
       "         1.09447702e-03,  9.84235278e-04,  7.47908826e-05, -3.90005968e-04,\n",
       "        -3.58998071e-04, -2.51727005e-03, -1.97789683e-03,  2.84157294e-03,\n",
       "         3.18318590e-05, -4.74417373e-03, -2.86299744e-03,  1.87634464e-03,\n",
       "        -2.67757469e-03,  1.40283059e-03]),\n",
       " 'W2': array([[ 8.17523230e-04,  4.32427255e-04,  1.12393181e-04,\n",
       "          6.32279978e-04,  3.37241413e-05,  4.20047045e-04,\n",
       "         -3.71022450e-03,  2.88910283e-05,  4.49091487e-04,\n",
       "          7.83847156e-04],\n",
       "        [ 1.35396017e-02,  2.17107068e-02,  1.11562040e-02,\n",
       "         -1.68422882e-02, -8.40738401e-03,  2.89385217e-04,\n",
       "         -1.23399062e-02, -1.75003235e-02,  6.19584363e-03,\n",
       "          2.19816054e-03],\n",
       "        [-2.64001989e-03,  2.94679067e-03,  5.04454747e-04,\n",
       "         -5.23043558e-03,  1.60146796e-03,  6.35097536e-04,\n",
       "          2.91422543e-03, -2.66325338e-03, -2.53148484e-04,\n",
       "          2.18482100e-03],\n",
       "        [ 6.19799817e-03,  3.51256098e-03, -1.79747280e-03,\n",
       "         -5.69533053e-03,  1.38421931e-03, -1.26780529e-03,\n",
       "         -7.26010015e-03,  1.11251035e-03,  1.60115985e-04,\n",
       "          3.65330396e-03],\n",
       "        [-4.30791625e-04,  5.00737688e-03, -3.11128241e-03,\n",
       "         -4.93983757e-03,  2.90057559e-03,  2.83440455e-03,\n",
       "         -7.92134851e-03, -5.59554695e-03,  6.70789057e-03,\n",
       "          4.54855947e-03],\n",
       "        [ 4.91245694e-03,  1.50609618e-03,  1.71853812e-05,\n",
       "         -1.65611606e-02,  8.06334808e-03, -3.17672160e-04,\n",
       "         -9.62079751e-03,  7.93833160e-03, -1.82991725e-03,\n",
       "          5.89212936e-03],\n",
       "        [ 1.82329119e-03,  4.55210589e-03, -4.87881508e-04,\n",
       "          7.19990948e-04,  1.67061257e-03,  1.34135055e-03,\n",
       "         -1.68688528e-02, -6.21059194e-04,  2.25188950e-03,\n",
       "          5.61855281e-03],\n",
       "        [-8.24278191e-03,  1.11088866e-02,  4.50531326e-04,\n",
       "         -9.68140505e-03,  1.15704457e-02, -1.65519380e-03,\n",
       "         -1.93537988e-02,  4.38585210e-03,  6.28401484e-04,\n",
       "          1.07890623e-02],\n",
       "        [ 1.53099619e-03,  1.30624409e-03,  7.56027834e-04,\n",
       "         -1.36351302e-03, -2.98789966e-04,  7.17171403e-04,\n",
       "         -5.12827372e-04, -2.54007871e-03,  8.03427544e-04,\n",
       "         -3.98657987e-04],\n",
       "        [-3.17710024e-03,  1.26599881e-02,  9.67872169e-03,\n",
       "         -2.28007331e-02,  7.93156815e-03, -6.20732504e-03,\n",
       "          3.70408893e-03, -8.97305043e-03, -1.33844218e-03,\n",
       "          8.52228407e-03],\n",
       "        [ 6.52551353e-04,  5.11532137e-04, -4.92677198e-04,\n",
       "         -5.16522730e-05, -8.00274988e-04, -1.67592238e-04,\n",
       "          5.29300505e-04, -1.67656784e-04,  1.77311705e-04,\n",
       "         -1.90842219e-04],\n",
       "        [-1.93156320e-03,  7.33681386e-03,  1.87846499e-03,\n",
       "         -1.21418179e-03,  2.70119665e-03, -1.12104330e-02,\n",
       "          1.00197942e-03, -4.02087778e-03,  7.31901783e-04,\n",
       "          4.72669911e-03],\n",
       "        [ 3.79194175e-03,  6.57192699e-03,  6.41130619e-03,\n",
       "         -6.94552915e-03,  1.42299873e-03, -6.27741605e-03,\n",
       "         -4.20723312e-03,  1.13341183e-03, -5.56562508e-03,\n",
       "          3.66421790e-03],\n",
       "        [ 4.37799943e-03,  9.17280065e-04,  5.30655425e-03,\n",
       "         -2.99147340e-03,  4.17687404e-04, -1.47113847e-03,\n",
       "          1.13442967e-03, -1.33406522e-02,  5.39221481e-03,\n",
       "          2.57098463e-04],\n",
       "        [ 6.03824915e-03,  9.64755011e-03,  6.31459364e-03,\n",
       "          1.33922191e-04, -1.09533481e-02,  8.81420157e-04,\n",
       "          6.75389818e-04, -1.32471919e-02,  3.03295262e-03,\n",
       "         -2.52353764e-03],\n",
       "        [ 6.56434372e-03,  5.16876056e-03,  6.72428353e-03,\n",
       "         -1.31738791e-03, -4.18537722e-03,  1.93463612e-03,\n",
       "          6.36012284e-03, -2.34172042e-02,  4.99949768e-03,\n",
       "         -2.83167515e-03],\n",
       "        [-2.33504752e-03,  1.08431798e-02, -1.36789628e-03,\n",
       "         -1.17913956e-02,  6.39762436e-03, -4.10981560e-03,\n",
       "         -1.46650047e-02,  4.17667013e-03,  5.22015622e-03,\n",
       "          7.63152911e-03],\n",
       "        [ 1.85990098e-02, -2.20691763e-03,  5.99954796e-03,\n",
       "         -1.02107139e-02, -4.84523319e-03,  2.27327881e-03,\n",
       "          1.16442799e-02, -1.56207849e-02, -7.29600410e-03,\n",
       "          1.66353725e-03],\n",
       "        [ 5.59754964e-03, -1.67150210e-03,  3.55910689e-03,\n",
       "         -1.19831610e-02,  2.35751777e-03,  5.33481937e-03,\n",
       "          4.58037672e-03, -6.61289728e-03, -3.10027395e-03,\n",
       "          1.93846390e-03],\n",
       "        [ 1.50807304e-02,  1.86480184e-03,  2.58105882e-03,\n",
       "         -3.93044567e-02, -1.00496878e-03,  4.55705094e-03,\n",
       "         -1.40441087e-03,  1.51983078e-03,  3.20002491e-03,\n",
       "          1.29103386e-02],\n",
       "        [ 2.30722567e-05, -7.17026966e-05,  1.18411699e-04,\n",
       "          1.07995475e-04,  1.65784556e-04,  1.52835068e-04,\n",
       "         -9.09375674e-05, -7.39967374e-04,  1.65018443e-04,\n",
       "          1.69490139e-04],\n",
       "        [ 1.20698389e-04,  8.54950701e-05, -6.89781247e-04,\n",
       "          1.09383010e-04,  1.05520519e-04, -1.39928990e-04,\n",
       "          9.88707101e-05,  9.66638896e-05,  1.08454818e-04,\n",
       "          1.04623832e-04],\n",
       "        [ 1.03339504e-02,  3.34699163e-03,  6.42727339e-03,\n",
       "         -3.46763022e-02,  1.02190893e-03, -1.16765403e-03,\n",
       "          4.82253233e-03,  5.67893388e-03, -5.20244456e-03,\n",
       "          9.41481018e-03],\n",
       "        [ 3.25392525e-03, -2.96313471e-03,  1.54931828e-03,\n",
       "         -2.84091511e-03, -1.10969180e-03,  1.66213108e-03,\n",
       "          2.07794838e-03, -3.69535395e-03,  9.51590379e-04,\n",
       "          1.11418221e-03],\n",
       "        [ 2.21131943e-03,  1.57698890e-02,  1.00912771e-02,\n",
       "         -1.65342296e-02, -2.81274179e-03, -8.53085464e-03,\n",
       "         -1.16187603e-03, -6.40394923e-03,  1.09586237e-03,\n",
       "          6.27530332e-03],\n",
       "        [ 1.37479813e-02,  1.38205233e-02,  9.33092596e-03,\n",
       "         -2.93682541e-02, -2.78461593e-03, -4.98248226e-03,\n",
       "          1.00648859e-03, -5.70606573e-03, -2.45738453e-04,\n",
       "          5.18123737e-03],\n",
       "        [ 1.54019790e-02,  8.53466635e-03,  2.68329844e-03,\n",
       "         -1.73402597e-02,  7.77806879e-04, -2.18346181e-03,\n",
       "         -6.86353723e-03,  1.39968884e-03, -6.82554465e-03,\n",
       "          4.41536384e-03],\n",
       "        [ 3.37211592e-03, -3.59817272e-03,  2.47986907e-04,\n",
       "         -1.62715660e-03, -2.02744930e-03, -1.26380245e-04,\n",
       "          6.12516230e-04,  2.35591303e-03, -1.11384719e-03,\n",
       "          1.90447396e-03],\n",
       "        [ 4.43118511e-03,  8.49194656e-03,  3.91474039e-03,\n",
       "         -5.57006570e-03, -1.20889144e-03, -3.10570869e-04,\n",
       "         -2.11237756e-03, -6.52083857e-03, -4.32006494e-03,\n",
       "          3.20493701e-03],\n",
       "        [-1.07691143e-03,  2.53730951e-02,  8.40213807e-03,\n",
       "         -7.69865447e-03,  9.74337249e-03, -8.66719436e-05,\n",
       "         -5.38125224e-02,  4.55897515e-03,  3.47949708e-04,\n",
       "          1.42492298e-02],\n",
       "        [ 3.31248251e-04,  2.46108410e-04,  2.60051866e-04,\n",
       "         -2.09870944e-03,  3.20572415e-04, -9.47105672e-05,\n",
       "          2.94550452e-04,  3.06676539e-04,  3.24377593e-04,\n",
       "          1.09834478e-04],\n",
       "        [ 4.45937225e-03,  7.14506048e-03,  5.19695697e-03,\n",
       "          3.23616821e-04, -4.23685722e-03, -6.93833497e-04,\n",
       "          2.91035726e-03, -1.91716410e-02,  4.53262915e-03,\n",
       "         -4.65661260e-04],\n",
       "        [ 1.02106504e-02,  1.85649119e-02, -6.96391075e-03,\n",
       "         -3.95000263e-02,  1.33668055e-02,  3.01008562e-03,\n",
       "         -2.34426412e-02,  1.05933929e-02, -4.75039955e-03,\n",
       "          1.89111314e-02],\n",
       "        [ 7.41754030e-04, -1.00733342e-04, -6.45647953e-04,\n",
       "          7.29249611e-04, -4.23119654e-04,  4.86456124e-05,\n",
       "         -5.18804313e-04, -5.29977320e-04,  1.70037154e-05,\n",
       "          6.81629614e-04],\n",
       "        [ 2.93735814e-04, -9.84612082e-05,  9.67005293e-06,\n",
       "          3.32781352e-04,  3.24072259e-04, -6.73135859e-04,\n",
       "          5.75561326e-05,  3.10529286e-04,  3.30137282e-04,\n",
       "         -8.86885112e-04],\n",
       "        [ 1.22536176e-04,  1.04453542e-04,  1.13333127e-04,\n",
       "          7.09760909e-05,  1.21066453e-04, -5.89659846e-04,\n",
       "          1.07522470e-04, -8.84227752e-05,  1.17912497e-04,\n",
       "         -7.97177348e-05],\n",
       "        [ 9.17988263e-03,  2.73578327e-02,  6.40662325e-03,\n",
       "         -2.11048247e-02,  5.87057049e-03, -1.42013237e-04,\n",
       "         -3.81874874e-02,  6.30211985e-04, -1.41537045e-03,\n",
       "          1.14045747e-02],\n",
       "        [ 1.12311933e-03,  1.64492956e-02,  6.84008928e-04,\n",
       "         -2.91745142e-02,  1.25797120e-02, -6.60335041e-03,\n",
       "         -5.37365315e-03, -4.71887710e-03,  4.92528012e-04,\n",
       "          1.45417310e-02],\n",
       "        [ 1.50879269e-04, -2.25087134e-04,  1.38778398e-04,\n",
       "          1.46168146e-04,  1.42944304e-04,  1.31818161e-04,\n",
       "          1.29609825e-04, -9.03442553e-04,  1.41320758e-04,\n",
       "          1.47010827e-04],\n",
       "        [ 5.32037566e-04,  4.51146749e-04,  4.91500227e-04,\n",
       "         -1.34013690e-05,  5.08116273e-04,  4.59045521e-04,\n",
       "         -8.12126418e-04, -1.41363511e-03,  1.90765725e-04,\n",
       "         -3.93449168e-04],\n",
       "        [ 1.21257465e-02,  4.51331916e-03,  7.40668935e-03,\n",
       "         -2.97774193e-03, -8.31474714e-03,  1.12127187e-03,\n",
       "         -9.04892159e-03, -5.24035503e-03,  1.82182464e-03,\n",
       "         -1.40708577e-03],\n",
       "        [ 1.49666835e-02,  4.11286512e-03, -2.38202204e-03,\n",
       "         -2.64111037e-02,  6.77445297e-03,  1.47431973e-04,\n",
       "          5.22675243e-04,  1.78902372e-03, -9.13566933e-03,\n",
       "          9.61566257e-03],\n",
       "        [ 1.82539916e-02, -1.01021478e-03,  1.92358343e-03,\n",
       "         -2.80493030e-02,  5.77714193e-03, -2.59017231e-03,\n",
       "          2.05282992e-04,  8.15666876e-03, -1.14991872e-02,\n",
       "          8.83220849e-03],\n",
       "        [ 2.47730160e-03,  3.64708055e-02,  7.66505847e-03,\n",
       "         -3.47616516e-02,  1.48619977e-02, -9.32875713e-03,\n",
       "         -3.69772320e-02,  6.77798546e-03, -8.44493895e-03,\n",
       "          2.12594310e-02],\n",
       "        [ 4.57468645e-05,  3.96982100e-05,  4.29657285e-05,\n",
       "         -3.79927057e-04,  4.34806685e-05,  3.94963136e-05,\n",
       "          4.02931376e-05,  4.12894850e-05,  4.35652177e-05,\n",
       "          4.33914320e-05],\n",
       "        [ 2.16990618e-02,  1.49924523e-03,  1.90892542e-03,\n",
       "         -1.64491494e-02,  3.39280975e-03,  2.53439571e-03,\n",
       "         -1.93443833e-02,  5.61076419e-03, -8.60855174e-03,\n",
       "          7.75688238e-03],\n",
       "        [ 1.42291502e-02,  8.03539303e-03,  1.17443107e-02,\n",
       "          2.59520984e-03, -1.39071277e-02, -1.22435096e-03,\n",
       "          2.36834650e-03, -2.25362747e-02,  2.50316919e-03,\n",
       "         -3.80782624e-03],\n",
       "        [-5.53205979e-03,  1.89142119e-02, -3.95842244e-04,\n",
       "         -1.28393983e-02,  1.26480289e-02, -2.93627743e-03,\n",
       "         -2.82596510e-02,  3.13384955e-03,  8.17999559e-04,\n",
       "          1.44491389e-02],\n",
       "        [ 3.28569158e-03,  2.65376574e-03, -2.19916863e-04,\n",
       "         -3.68349090e-03,  1.87842385e-03,  2.01016597e-03,\n",
       "         -1.15796549e-02,  1.99872413e-04,  2.27479656e-03,\n",
       "          3.18034659e-03],\n",
       "        [ 4.15168255e-03, -3.98614937e-04,  2.42016034e-03,\n",
       "         -9.48575492e-04, -6.43059353e-04, -3.50633094e-04,\n",
       "         -3.00319840e-04,  4.15137616e-05, -2.76896081e-03,\n",
       "         -1.20319313e-03]]),\n",
       " 'b2': array([ 0.05768524,  0.02182418,  0.03071034, -0.0845041 ,  0.01209222,\n",
       "         0.00282178, -0.05551311, -0.02244024,  0.00364285,  0.03368083])}"
      ]
     },
     "execution_count": 54,
     "metadata": {},
     "output_type": "execute_result"
    }
   ],
   "source": [
    "# 오차역전파법\n",
    "%time\n",
    "network.gradient(x_batch, t_batch)"
   ]
  },
  {
   "cell_type": "code",
   "execution_count": null,
   "id": "stainless-kentucky",
   "metadata": {},
   "outputs": [],
   "source": []
  },
  {
   "cell_type": "code",
   "execution_count": 44,
   "id": "governmental-plasma",
   "metadata": {},
   "outputs": [
    {
     "name": "stdout",
     "output_type": "stream",
     "text": [
      "0 / train acc:0.30296666666666666 / test acc:0.3058\n",
      "1 / train acc:0.29481666666666667 / test acc:0.296\n",
      "2 / train acc:0.21598333333333333 / test acc:0.2185\n",
      "3 / train acc:0.24855 / test acc:0.2478\n",
      "4 / train acc:0.26886666666666664 / test acc:0.2687\n",
      "5 / train acc:0.24491666666666667 / test acc:0.2405\n",
      "6 / train acc:0.26243333333333335 / test acc:0.2652\n",
      "7 / train acc:0.26958333333333334 / test acc:0.2784\n",
      "8 / train acc:0.31411666666666666 / test acc:0.3236\n",
      "9 / train acc:0.34926666666666667 / test acc:0.3549\n",
      "10 / train acc:0.33968333333333334 / test acc:0.3443\n",
      "11 / train acc:0.3439333333333333 / test acc:0.343\n",
      "12 / train acc:0.3369666666666667 / test acc:0.342\n",
      "13 / train acc:0.31083333333333335 / test acc:0.3136\n",
      "14 / train acc:0.33225 / test acc:0.336\n",
      "15 / train acc:0.33813333333333334 / test acc:0.3471\n",
      "16 / train acc:0.35246666666666665 / test acc:0.3579\n",
      "17 / train acc:0.31138333333333335 / test acc:0.3172\n",
      "18 / train acc:0.3123666666666667 / test acc:0.3167\n",
      "19 / train acc:0.31548333333333334 / test acc:0.3159\n",
      "20 / train acc:0.34355 / test acc:0.3474\n"
     ]
    },
    {
     "ename": "AssertionError",
     "evalue": "test finished",
     "output_type": "error",
     "traceback": [
      "\u001b[0;31m---------------------------------------------------------------------------\u001b[0m",
      "\u001b[0;31mAssertionError\u001b[0m                            Traceback (most recent call last)",
      "\u001b[0;32m<ipython-input-44-60688df92cb1>\u001b[0m in \u001b[0;36m<module>\u001b[0;34m\u001b[0m\n\u001b[1;32m     20\u001b[0m     \u001b[0mprint\u001b[0m\u001b[0;34m(\u001b[0m\u001b[0;34mf\"{i} / train acc:{train_acc} / test acc:{test_acc}\"\u001b[0m\u001b[0;34m)\u001b[0m\u001b[0;34m\u001b[0m\u001b[0;34m\u001b[0m\u001b[0m\n\u001b[1;32m     21\u001b[0m \u001b[0;34m\u001b[0m\u001b[0m\n\u001b[0;32m---> 22\u001b[0;31m     \u001b[0;32massert\u001b[0m \u001b[0mi\u001b[0m \u001b[0;34m!=\u001b[0m \u001b[0;36m20\u001b[0m\u001b[0;34m,\u001b[0m \u001b[0;34m\"test finished\"\u001b[0m\u001b[0;34m\u001b[0m\u001b[0;34m\u001b[0m\u001b[0m\n\u001b[0m",
      "\u001b[0;31mAssertionError\u001b[0m: test finished"
     ]
    }
   ],
   "source": [
    "# 오차역전파법 적용\n",
    "for i in range(iter_num):\n",
    "    batch_mask = np.random.choice(train_size, batch_size)\n",
    "    x_batch = x_train[batch_mask]\n",
    "    t_batch = t_train[batch_mask]\n",
    "    \n",
    "    grad = network.gradient(x_batch, t_batch)\n",
    "    \n",
    "    for key in (\"W1\", \"b1\", \"W2\", \"b2\"):\n",
    "        network.params[key] -= learning_rate * grad[key]\n",
    "\n",
    "    loss = network.loss(x_batch, t_batch)\n",
    "    train_loss_list.append(loss)\n",
    "    \n",
    "    train_acc = network.accuracy(x_train, t_train)\n",
    "    test_acc = network.accuracy(x_test, t_test)\n",
    "    \n",
    "    train_acc_list.append(train_acc)\n",
    "    test_acc_list.append(test_acc)\n",
    "    print(f\"{i} / train acc:{train_acc} / test acc:{test_acc}\")\n",
    "    \n",
    "    assert i != 20, \"test finished\""
   ]
  },
  {
   "cell_type": "code",
   "execution_count": null,
   "id": "first-think",
   "metadata": {},
   "outputs": [],
   "source": []
  },
  {
   "cell_type": "code",
   "execution_count": null,
   "id": "manual-traveler",
   "metadata": {},
   "outputs": [],
   "source": []
  }
 ],
 "metadata": {
  "kernelspec": {
   "display_name": "Python 3",
   "language": "python",
   "name": "python3"
  },
  "language_info": {
   "codemirror_mode": {
    "name": "ipython",
    "version": 3
   },
   "file_extension": ".py",
   "mimetype": "text/x-python",
   "name": "python",
   "nbconvert_exporter": "python",
   "pygments_lexer": "ipython3",
   "version": "3.7.9"
  }
 },
 "nbformat": 4,
 "nbformat_minor": 5
}
