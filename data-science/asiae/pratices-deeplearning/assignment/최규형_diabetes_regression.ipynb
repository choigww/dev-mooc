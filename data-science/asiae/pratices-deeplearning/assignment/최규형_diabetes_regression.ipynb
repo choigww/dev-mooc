{
 "cells": [
  {
   "cell_type": "code",
   "execution_count": 26,
   "id": "aging-induction",
   "metadata": {},
   "outputs": [],
   "source": [
    "import tensorflow as tf\n",
    "import numpy as np\n",
    "import matplotlib.pyplot as plt"
   ]
  },
  {
   "cell_type": "code",
   "execution_count": 43,
   "id": "sufficient-school",
   "metadata": {},
   "outputs": [],
   "source": [
    "def logistic_regression(features):\n",
    "    hypothesis = tf.divide(1.,1.+tf.exp(tf.matmul(features, W)+b))\n",
    "    return hypothesis"
   ]
  },
  {
   "cell_type": "markdown",
   "id": "baking-exception",
   "metadata": {},
   "source": [
    "![](https://blog.kakaocdn.net/dn/cyvq10/btqxdrSGlUc/vExI9OcOpOzEptCsFkG7uK/img.png)"
   ]
  },
  {
   "cell_type": "code",
   "execution_count": 44,
   "id": "organic-stamp",
   "metadata": {},
   "outputs": [],
   "source": [
    "# cross binary entropy\n",
    "def loss_fn(hypothesis, labels):\n",
    "    cost = -tf.reduce_mean(labels * tf.math.log(hypothesis)\n",
    "                          +(1-labels)*tf.math.log(1-hypothesis))\n",
    "    return cost"
   ]
  },
  {
   "cell_type": "code",
   "execution_count": 45,
   "id": "unlike-seventh",
   "metadata": {},
   "outputs": [],
   "source": [
    "optimizer = tf.keras.optimizers.SGD(learning_rate=0.001)"
   ]
  },
  {
   "cell_type": "code",
   "execution_count": 46,
   "id": "imported-people",
   "metadata": {},
   "outputs": [],
   "source": [
    "def accuracy_fn(hypothesis, labels):\n",
    "    # cast = 형변환\n",
    "    predicted = tf.cast(hypothesis > 0.5, dtype=tf.float32)\n",
    "    accuracy = tf.reduce_mean(tf.cast(tf.equal(predicted, labels), dtype=tf.float32))\n",
    "    return accuracy"
   ]
  },
  {
   "cell_type": "code",
   "execution_count": 47,
   "id": "focused-store",
   "metadata": {},
   "outputs": [],
   "source": [
    "def grad(features, labels):\n",
    "    with tf.GradientTape() as tape:\n",
    "        loss = loss_fn(logistic_regression(features), labels)\n",
    "    return loss, tape.gradient(loss, [W, b])"
   ]
  },
  {
   "cell_type": "code",
   "execution_count": 48,
   "id": "endless-publication",
   "metadata": {},
   "outputs": [
    {
     "name": "stdout",
     "output_type": "stream",
     "text": [
      "Iter: 0. Loss:0.6931471824645996\n",
      "Iter: 100. Loss:0.6536203026771545\n",
      "Iter: 200. Loss:0.6348027586936951\n",
      "Iter: 300. Loss:0.6234161257743835\n",
      "Iter: 400. Loss:0.6149122714996338\n",
      "Iter: 500. Loss:0.6076701283454895\n",
      "Iter: 600. Loss:0.6010840535163879\n",
      "Iter: 700. Loss:0.594915509223938\n",
      "Iter: 800. Loss:0.5890636444091797\n",
      "Iter: 900. Loss:0.5834811329841614\n",
      "Iter: 1000. Loss:0.5781416296958923\n",
      "Test Accuracy : 0.500000\n"
     ]
    }
   ],
   "source": [
    "EPOCHS = 1001\n",
    "\n",
    "for step in range(1001):\n",
    "    for features, labels in iter(dataset):\n",
    "        loss, grads = grad(features, labels)\n",
    "        optimizer.apply_gradients(zip(grads, [W,b]))\n",
    "        if step % 100 == 0:\n",
    "            print(f\"Iter: {step}. Loss:{loss}\")\n",
    "\n",
    "test_acc = accuracy_fn(logistic_regression(x_test), y_test)\n",
    "print(f\"Test Accuracy : {test_acc:4f}\")"
   ]
  },
  {
   "cell_type": "code",
   "execution_count": null,
   "id": "angry-silicon",
   "metadata": {},
   "outputs": [],
   "source": []
  },
  {
   "cell_type": "markdown",
   "id": "exposed-blood",
   "metadata": {},
   "source": [
    "# 실습\n",
    "`diabetes.csv`"
   ]
  },
  {
   "cell_type": "code",
   "execution_count": 61,
   "id": "level-karen",
   "metadata": {},
   "outputs": [
    {
     "data": {
      "text/plain": [
       "numpy.ndarray"
      ]
     },
     "execution_count": 61,
     "metadata": {},
     "output_type": "execute_result"
    }
   ],
   "source": [
    "from sklearn.model_selection import train_test_split\n",
    "from sklearn.preprocessing import MinMaxScaler, StandardScaler, RobustScaler\n",
    "\n",
    "data = np.loadtxt('./data/diabetes.csv', delimiter=',', dtype=np.float32)\n",
    "type(data)"
   ]
  },
  {
   "cell_type": "code",
   "execution_count": 67,
   "id": "friendly-characterization",
   "metadata": {},
   "outputs": [],
   "source": [
    "X = data[:, :-1]\n",
    "y = data[:, -1]\n",
    "X_train, X_test, y_train, y_test = train_test_split(X, y, random_state=2021,\n",
    "                                                   test_size=0.2)"
   ]
  },
  {
   "cell_type": "code",
   "execution_count": 68,
   "id": "brave-segment",
   "metadata": {},
   "outputs": [],
   "source": [
    "scaler = StandardScaler()\n",
    "X_train = scaler.fit_transform(X_train)\n",
    "X_test = scaler.transform(X_test)"
   ]
  },
  {
   "cell_type": "code",
   "execution_count": 69,
   "id": "downtown-prince",
   "metadata": {},
   "outputs": [
    {
     "name": "stdout",
     "output_type": "stream",
     "text": [
      "(607, 8) (607,)\n"
     ]
    }
   ],
   "source": [
    "print(X_train.shape, y_train.shape)"
   ]
  },
  {
   "cell_type": "code",
   "execution_count": 73,
   "id": "genetic-prize",
   "metadata": {},
   "outputs": [
    {
     "name": "stdout",
     "output_type": "stream",
     "text": [
      "Iter: 0. Loss:0.892360270023346\n",
      "Iter: 2000. Loss:0.7687549591064453\n",
      "Iter: 4000. Loss:0.7043510675430298\n",
      "Iter: 6000. Loss:0.6730421185493469\n",
      "Iter: 8000. Loss:0.6578568816184998\n",
      "Iter: 10000. Loss:0.6502143740653992\n",
      "Iter: 12000. Loss:0.646175742149353\n",
      "Iter: 14000. Loss:0.6439406275749207\n",
      "Iter: 16000. Loss:0.6426544189453125\n",
      "Iter: 18000. Loss:0.6418907642364502\n",
      "Iter: 20000. Loss:0.6414259672164917\n",
      "Iter: 22000. Loss:0.6411378979682922\n",
      "Iter: 24000. Loss:0.6409558653831482\n",
      "Iter: 26000. Loss:0.6408399343490601\n",
      "Iter: 28000. Loss:0.6407648324966431\n",
      "Iter: 30000. Loss:0.640716016292572\n",
      "Iter: 32000. Loss:0.6406839489936829\n",
      "Iter: 34000. Loss:0.6406627297401428\n",
      "Iter: 36000. Loss:0.6406484246253967\n",
      "Iter: 38000. Loss:0.6406390070915222\n",
      "Iter: 40000. Loss:0.6406328678131104\n",
      "Iter: 42000. Loss:0.6406283974647522\n",
      "Iter: 44000. Loss:0.640625536441803\n",
      "Iter: 46000. Loss:0.6406234502792358\n",
      "Iter: 48000. Loss:0.6406221389770508\n",
      "Iter: 50000. Loss:0.6406211853027344\n",
      "Iter: 52000. Loss:0.6406205296516418\n",
      "Iter: 54000. Loss:0.640620231628418\n",
      "Iter: 56000. Loss:0.6406199932098389\n",
      "Iter: 58000. Loss:0.6406197547912598\n",
      "Iter: 60000. Loss:0.640619695186615\n",
      "Iter: 62000. Loss:0.640619695186615\n",
      "Iter: 64000. Loss:0.6406195163726807\n",
      "Iter: 66000. Loss:0.6406194567680359\n",
      "Iter: 68000. Loss:0.6406194567680359\n",
      "Iter: 70000. Loss:0.6406192183494568\n",
      "Iter: 72000. Loss:0.6406193375587463\n",
      "Iter: 74000. Loss:0.6406194567680359\n",
      "Iter: 76000. Loss:0.6406192779541016\n",
      "Iter: 78000. Loss:0.6406193375587463\n",
      "Iter: 80000. Loss:0.6406193375587463\n",
      "Iter: 82000. Loss:0.6406194567680359\n",
      "Iter: 84000. Loss:0.6406194567680359\n",
      "Iter: 86000. Loss:0.6406194567680359\n",
      "Iter: 88000. Loss:0.6406194567680359\n",
      "Iter: 90000. Loss:0.6406192779541016\n",
      "Iter: 92000. Loss:0.6406193375587463\n",
      "Iter: 94000. Loss:0.6406193375587463\n",
      "Iter: 96000. Loss:0.6406192183494568\n",
      "Iter: 98000. Loss:0.640619158744812\n",
      "Iter: 100000. Loss:0.6406192183494568\n",
      "Test Accuracy : 0.625000\n"
     ]
    }
   ],
   "source": [
    "dataset = tf.data.Dataset.from_tensor_slices((X_train, y_train)).batch(len(X_train))\n",
    "W = tf.Variable(tf.random.uniform((8, 1), -1.0, 1.0), name='weight') \n",
    "b = tf.Variable(tf.random.uniform((1,), -1.0, 1.0), name='bias')\n",
    "\n",
    "EPOCHS = 1001\n",
    "\n",
    "for step in range(100001):\n",
    "    for features, labels in iter(dataset):\n",
    "        loss, grads = grad(features, labels)\n",
    "        optimizer.apply_gradients(zip(grads, [W,b]))\n",
    "        if step % 2000 == 0:\n",
    "            print(f\"Iter: {step}. Loss:{loss}\")\n",
    "\n",
    "test_acc = accuracy_fn(logistic_regression(X_test), y_test)\n",
    "print(f\"Test Accuracy : {test_acc:4f}\")"
   ]
  },
  {
   "cell_type": "code",
   "execution_count": null,
   "id": "infinite-wheel",
   "metadata": {},
   "outputs": [],
   "source": []
  }
 ],
 "metadata": {
  "kernelspec": {
   "display_name": "Python 3",
   "language": "python",
   "name": "python3"
  },
  "language_info": {
   "codemirror_mode": {
    "name": "ipython",
    "version": 3
   },
   "file_extension": ".py",
   "mimetype": "text/x-python",
   "name": "python",
   "nbconvert_exporter": "python",
   "pygments_lexer": "ipython3",
   "version": "3.7.9"
  }
 },
 "nbformat": 4,
 "nbformat_minor": 5
}
