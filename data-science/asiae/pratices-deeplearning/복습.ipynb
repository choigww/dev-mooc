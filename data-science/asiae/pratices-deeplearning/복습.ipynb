{
 "cells": [
  {
   "cell_type": "code",
   "execution_count": 4,
   "id": "welsh-morgan",
   "metadata": {},
   "outputs": [],
   "source": [
    "import tensorflow as tf\n",
    "import numpy as np\n",
    "import matplotlib.pyplot as plt"
   ]
  },
  {
   "cell_type": "markdown",
   "id": "bizarre-concern",
   "metadata": {},
   "source": [
    "# Practice. 단일 입력 데이터 (1차원)"
   ]
  },
  {
   "cell_type": "code",
   "execution_count": 7,
   "id": "concrete-seeker",
   "metadata": {},
   "outputs": [
    {
     "name": "stdout",
     "output_type": "stream",
     "text": [
      "-3.000000 : 74.666667\n",
      "-2.428571 : 54.857143\n",
      "-1.857143 : 38.095238\n",
      "-1.285714 : 24.380952\n",
      "-0.714286 : 13.714286\n",
      "-0.142857 : 6.095238\n",
      "0.428571 : 1.523810\n",
      "1.000000 : 0.000000\n",
      "1.571429 : 1.523810\n",
      "2.142857 : 6.095238\n",
      "2.714286 : 13.714286\n",
      "3.285714 : 24.380952\n",
      "3.857143 : 38.095238\n",
      "4.428571 : 54.857143\n",
      "5.000000 : 74.666667\n"
     ]
    }
   ],
   "source": [
    "X = np.array([1, 2, 3])\n",
    "y = np.array([1, 2, 3])\n",
    "\n",
    "tf.random.set_seed(2021)\n",
    "\n",
    "def cost_func(W, X, y):\n",
    "    return tf.reduce_mean(tf.square(W*X-y))\n",
    "\n",
    "cost = []\n",
    "linspace = np.linspace(-3, 5, num=15)\n",
    "for feed_W in linspace:\n",
    "    current_cost = cost_func(feed_W, X, y)\n",
    "    print('{:3f} : {:3f}'.format(feed_W, current_cost))\n",
    "    cost.append(current_cost)"
   ]
  },
  {
   "cell_type": "code",
   "execution_count": 8,
   "id": "certain-alcohol",
   "metadata": {},
   "outputs": [
    {
     "data": {
      "text/plain": [
       "[<matplotlib.lines.Line2D at 0x63aa07310>]"
      ]
     },
     "execution_count": 8,
     "metadata": {},
     "output_type": "execute_result"
    },
    {
     "data": {
      "image/png": "[encoded data removed]",
      "text/plain": [
       "<Figure size 432x288 with 1 Axes>"
      ]
     },
     "metadata": {
      "needs_background": "light"
     },
     "output_type": "display_data"
    }
   ],
   "source": [
    "plt.plot(linspace, cost)"
   ]
  },
  {
   "cell_type": "code",
   "execution_count": null,
   "id": "driven-heath",
   "metadata": {},
   "outputs": [],
   "source": []
  },
  {
   "cell_type": "code",
   "execution_count": 12,
   "id": "peripheral-faculty",
   "metadata": {},
   "outputs": [
    {
     "name": "stdout",
     "output_type": "stream",
     "text": [
      "0|70.94114685058594|[4.508178]\n",
      "10|15.050384521484375|[2.969734]\n",
      "20|3.2966818809509277|[2.2642305]\n",
      "30|0.8249022364616394|[1.940699]\n",
      "40|0.30509233474731445|[1.7923331]\n",
      "50|0.1957772821187973|[1.7242951]\n",
      "60|0.1727885603904724|[1.693094]\n",
      "70|0.16795407235622406|[1.6787858]\n",
      "80|0.1669374257326126|[1.6722243]\n",
      "90|0.1667235940694809|[1.6692153]\n",
      "100|0.16667863726615906|[1.6678356]\n",
      "110|0.16666918992996216|[1.6672028]\n",
      "120|0.16666719317436218|[1.6669126]\n",
      "130|0.16666677594184875|[1.6667794]\n",
      "140|0.1666666865348816|[1.6667184]\n",
      "150|0.1666666716337204|[1.6666903]\n",
      "160|0.1666666716337204|[1.6666775]\n",
      "170|0.1666666716337204|[1.6666716]\n",
      "180|0.1666666716337204|[1.6666689]\n",
      "190|0.1666666567325592|[1.6666677]\n",
      "200|0.1666666567325592|[1.6666675]\n",
      "210|0.1666666567325592|[1.6666675]\n",
      "220|0.1666666567325592|[1.6666675]\n",
      "230|0.1666666567325592|[1.6666675]\n",
      "240|0.1666666567325592|[1.6666675]\n",
      "250|0.1666666567325592|[1.6666675]\n",
      "260|0.1666666567325592|[1.6666675]\n",
      "270|0.1666666567325592|[1.6666675]\n",
      "280|0.1666666567325592|[1.6666675]\n",
      "290|0.1666666567325592|[1.6666675]\n"
     ]
    }
   ],
   "source": [
    "tf.random.set_seed(2021)\n",
    "\n",
    "# 일반 list로 넣어줘도 정상 동작하기는 함.\n",
    "# x_data = [1., 2., 3., 4.]\n",
    "# y_data = [1., 3., 5., 7.]\n",
    "x_data = np.array([1., 2., 3., 4.])\n",
    "y_data = np.array([1., 3., 5., 7.])\n",
    "\n",
    "W = tf.Variable(tf.random.normal((1,), -100, 100))\n",
    "\n",
    "for step in range(300):\n",
    "    hypothesis = W * x_data\n",
    "    cost = tf.reduce_mean(tf.square(hypothesis - y_data))\n",
    "    \n",
    "    alpha = 0.01\n",
    "    \n",
    "    # Loss를 w에 대하여 미분한 값 = gradient\n",
    "    gradient = tf.reduce_mean(tf.multiply(tf.multiply(W, x_data) - y_data, x_data))\n",
    "    descent = W - tf.multiply(alpha, gradient)\n",
    "    W.assign(descent) # weight update\n",
    "    \n",
    "    if step % 10 == 0:\n",
    "        print(f\"{step}|{cost.numpy()}|{W.numpy()}\")"
   ]
  },
  {
   "cell_type": "code",
   "execution_count": null,
   "id": "atomic-jason",
   "metadata": {},
   "outputs": [],
   "source": []
  },
  {
   "cell_type": "code",
   "execution_count": null,
   "id": "satisfied-tattoo",
   "metadata": {},
   "outputs": [],
   "source": []
  },
  {
   "cell_type": "markdown",
   "id": "overhead-welsh",
   "metadata": {},
   "source": [
    "# Practice. 복수 입력 데이터 (1차원)"
   ]
  },
  {
   "cell_type": "code",
   "execution_count": 15,
   "id": "exterior-puppy",
   "metadata": {},
   "outputs": [],
   "source": [
    "X1 = [ 73.,  93.,  89.,  96.,  73.]\n",
    "X2 = [ 80.,  88.,  91.,  98.,  66.]\n",
    "X3 = [ 75.,  93.,  90., 100.,  70.]\n",
    "Y  = [152., 185., 180., 196., 142.]"
   ]
  },
  {
   "cell_type": "code",
   "execution_count": 22,
   "id": "geographic-cooking",
   "metadata": {},
   "outputs": [
    {
     "name": "stdout",
     "output_type": "stream",
     "text": [
      "0 : 5793889.5\n",
      "50 : 1.9081224203109741\n",
      "100 : 1.876638650894165\n",
      "150 : 1.8459680080413818\n",
      "200 : 1.8160779476165771\n",
      "250 : 1.7869484424591064\n",
      "300 : 1.7585582733154297\n",
      "350 : 1.730913519859314\n",
      "400 : 1.7039463520050049\n",
      "450 : 1.677677869796753\n",
      "500 : 1.6520942449569702\n",
      "550 : 1.6271454095840454\n",
      "600 : 1.6028306484222412\n",
      "650 : 1.579122543334961\n",
      "700 : 1.556044340133667\n",
      "750 : 1.5335266590118408\n",
      "800 : 1.511573076248169\n",
      "850 : 1.4901779890060425\n",
      "900 : 1.469331979751587\n",
      "950 : 1.449010968208313\n"
     ]
    }
   ],
   "source": [
    "w1 = tf.Variable(10.)\n",
    "w2 = tf.Variable(10.)\n",
    "w3 = tf.Variable(10.)\n",
    "b = tf.Variable(10.)\n",
    "\n",
    "learning_rate = 0.00001\n",
    "for i in range(1000):\n",
    "    with tf.GradientTape() as tape:\n",
    "        hypothesis = X1*w1 + X2*w2 + X3*w3 + b\n",
    "        cost = tf.reduce_mean(tf.square(hypothesis - Y))\n",
    "    \n",
    "    wb = [w1, w2, w3, b]\n",
    "    wb_grads = tape.gradient(cost, wb)\n",
    "    [wb_.assign_sub(learning_rate * grad_) for (wb_, grad_) in zip(wb, wb_grads)]\n",
    "    \n",
    "    if i % 50 == 0:\n",
    "        print(f\"{i} : {cost.numpy()}\")"
   ]
  },
  {
   "cell_type": "code",
   "execution_count": null,
   "id": "coated-maple",
   "metadata": {},
   "outputs": [],
   "source": []
  },
  {
   "cell_type": "code",
   "execution_count": null,
   "id": "productive-columbia",
   "metadata": {},
   "outputs": [],
   "source": []
  },
  {
   "cell_type": "markdown",
   "id": "pretty-interface",
   "metadata": {},
   "source": [
    "# Practice. 다차원 입력 데이터"
   ]
  },
  {
   "cell_type": "code",
   "execution_count": 35,
   "id": "warming-marble",
   "metadata": {},
   "outputs": [],
   "source": [
    "data = np.array([\n",
    "   # x1   x2   x3    y\n",
    "    [73., 80., 75., 152.],\n",
    "    [93., 88., 93., 185.],\n",
    "    [89., 91., 90., 180.], \n",
    "    [96., 98., 100., 196.], \n",
    "    [73., 66., 70., 142.]\n",
    "], dtype=np.float32)"
   ]
  },
  {
   "cell_type": "code",
   "execution_count": 36,
   "id": "confirmed-ballot",
   "metadata": {},
   "outputs": [],
   "source": [
    "X = data[:, :-1]\n",
    "y = data[:, -1]"
   ]
  },
  {
   "cell_type": "code",
   "execution_count": 65,
   "id": "tight-modem",
   "metadata": {},
   "outputs": [
    {
     "name": "stdout",
     "output_type": "stream",
     "text": [
      "0|2653.60\n",
      "1000|849.99\n",
      "2000|848.36\n",
      "3000|846.74\n",
      "4000|845.13\n",
      "5000|843.52\n",
      "6000|841.93\n",
      "7000|840.34\n",
      "8000|838.76\n",
      "9000|837.18\n",
      "10000|835.62\n"
     ]
    }
   ],
   "source": [
    "tf.random.set_seed(2021)\n",
    "W = tf.Variable(tf.random.normal((3, 1)))\n",
    "b = tf.Variable(tf.random.normal((1,)))\n",
    "learning_rate = 0.000001\n",
    "\n",
    "for i in range(10001):\n",
    "    with tf.GradientTape() as tape:\n",
    "        hypothesis = tf.matmul(X, W) + b\n",
    "        cost = tf.reduce_mean(tf.square(hypothesis - Y))\n",
    "        w_grad, b_grad = tape.gradient(cost, [W, b])\n",
    "        \n",
    "    W.assign_sub(learning_rate * w_grad)\n",
    "    b.assign_sub(learning_rate * b_grad)\n",
    "    \n",
    "    if i % 1000 == 0:\n",
    "        print(f\"{i}|{cost.numpy():.2f}\")"
   ]
  },
  {
   "cell_type": "code",
   "execution_count": 72,
   "id": "rental-antigua",
   "metadata": {},
   "outputs": [
    {
     "data": {
      "text/html": [
       "<div>\n",
       "<style scoped>\n",
       "    .dataframe tbody tr th:only-of-type {\n",
       "        vertical-align: middle;\n",
       "    }\n",
       "\n",
       "    .dataframe tbody tr th {\n",
       "        vertical-align: top;\n",
       "    }\n",
       "\n",
       "    .dataframe thead th {\n",
       "        text-align: right;\n",
       "    }\n",
       "</style>\n",
       "<table border=\"1\" class=\"dataframe\">\n",
       "  <thead>\n",
       "    <tr style=\"text-align: right;\">\n",
       "      <th></th>\n",
       "      <th>pred</th>\n",
       "      <th>target</th>\n",
       "    </tr>\n",
       "  </thead>\n",
       "  <tbody>\n",
       "    <tr>\n",
       "      <th>0</th>\n",
       "      <td>146.678604</td>\n",
       "      <td>152.0</td>\n",
       "    </tr>\n",
       "    <tr>\n",
       "      <th>1</th>\n",
       "      <td>183.761917</td>\n",
       "      <td>185.0</td>\n",
       "    </tr>\n",
       "    <tr>\n",
       "      <th>2</th>\n",
       "      <td>177.314804</td>\n",
       "      <td>180.0</td>\n",
       "    </tr>\n",
       "    <tr>\n",
       "      <th>3</th>\n",
       "      <td>192.494766</td>\n",
       "      <td>196.0</td>\n",
       "    </tr>\n",
       "    <tr>\n",
       "      <th>4</th>\n",
       "      <td>142.403183</td>\n",
       "      <td>142.0</td>\n",
       "    </tr>\n",
       "  </tbody>\n",
       "</table>\n",
       "</div>"
      ],
      "text/plain": [
       "         pred  target\n",
       "0  146.678604   152.0\n",
       "1  183.761917   185.0\n",
       "2  177.314804   180.0\n",
       "3  192.494766   196.0\n",
       "4  142.403183   142.0"
      ]
     },
     "execution_count": 72,
     "metadata": {},
     "output_type": "execute_result"
    }
   ],
   "source": [
    "import pandas as pd\n",
    "pd.DataFrame({'pred':(tf.matmul(X, W) + b).numpy().flatten(),\n",
    "             'target':y})"
   ]
  },
  {
   "cell_type": "code",
   "execution_count": null,
   "id": "emotional-affiliation",
   "metadata": {},
   "outputs": [],
   "source": []
  },
  {
   "cell_type": "markdown",
   "id": "hungarian-scroll",
   "metadata": {},
   "source": [
    "# 동물원 데이터 실습\n",
    "```\n",
    "https://archive.ics.uci.edu/ml/machine-learning-databases/zoo/zoo.data\n",
    "  1. animal name:     (deleted)\n",
    "  2. hair     Boolean \n",
    "  3. feathers     Boolean \n",
    "  4. eggs     Boolean  \n",
    "  5. milk     Boolean  \n",
    "  6. airborne     Boolean  \n",
    "  7. aquatic      Boolean  \n",
    "  8. predator     Boolean  \n",
    "  9. toothed      Boolean  \n",
    " 10. backbone     Boolean  \n",
    " 11. breathes     Boolean  \n",
    " 12. venomous     Boolean  \n",
    " 13. fins     Boolean  \n",
    " 14. legs     Numeric (set of values: {0 ,2,4,5,6,8})\n",
    " 15. tail     Boolean  \n",
    " 16. domestic     Boolean  \n",
    " 17. catsize      Boolean \n",
    " 18. type     Numeric (integer values in range [0 ,6])\n",
    "```"
   ]
  },
  {
   "cell_type": "code",
   "execution_count": 210,
   "id": "whole-argument",
   "metadata": {},
   "outputs": [],
   "source": [
    "from sklearn.model_selection import train_test_split\n",
    "from sklearn.preprocessing import MinMaxScaler, StandardScaler, RobustScaler"
   ]
  },
  {
   "cell_type": "code",
   "execution_count": 211,
   "id": "sporting-writer",
   "metadata": {},
   "outputs": [
    {
     "data": {
      "text/plain": [
       "array([[1., 0., 0., ..., 0., 1., 0.],\n",
       "       [1., 0., 0., ..., 0., 1., 0.],\n",
       "       [0., 0., 1., ..., 0., 0., 3.],\n",
       "       ...,\n",
       "       [1., 0., 0., ..., 0., 1., 0.],\n",
       "       [0., 0., 1., ..., 0., 0., 6.],\n",
       "       [0., 1., 1., ..., 0., 0., 1.]], dtype=float32)"
      ]
     },
     "execution_count": 211,
     "metadata": {},
     "output_type": "execute_result"
    }
   ],
   "source": [
    "data = np.loadtxt('./data/zoo.csv', delimiter=',', dtype=np.float32)\n",
    "data"
   ]
  },
  {
   "cell_type": "code",
   "execution_count": 243,
   "id": "athletic-brain",
   "metadata": {},
   "outputs": [],
   "source": [
    "X = data[:, :-1]\n",
    "y = data[:, -1]\n",
    "\n",
    "class_count = len(pd.Series(y).unique())\n",
    "y = tf.one_hot(y, class_count).numpy()\n",
    "#y = pd.get_dummies(data[:, -1]).values"
   ]
  },
  {
   "cell_type": "code",
   "execution_count": 241,
   "id": "sapphire-message",
   "metadata": {},
   "outputs": [],
   "source": [
    "X_train, X_test, y_train, y_test = train_test_split(X, y, random_state=2021,\n",
    "                                                   test_size=0.2)\n",
    "dataset = tf.data.Dataset.from_tensor_slices((X_train, y_train)).batch(len(X_train))"
   ]
  },
  {
   "cell_type": "code",
   "execution_count": 242,
   "id": "copyrighted-chambers",
   "metadata": {},
   "outputs": [
    {
     "data": {
      "text/plain": [
       "((101, 16), (101, 7))"
      ]
     },
     "execution_count": 242,
     "metadata": {},
     "output_type": "execute_result"
    }
   ],
   "source": [
    "X.shape, y.shape"
   ]
  },
  {
   "cell_type": "code",
   "execution_count": 216,
   "id": "legendary-place",
   "metadata": {},
   "outputs": [],
   "source": [
    "def logistic_regression(features):\n",
    "    hypothesis = tf.divide(1.,1.+tf.exp(tf.matmul(features, W)+b))\n",
    "    return hypothesis"
   ]
  },
  {
   "cell_type": "code",
   "execution_count": 217,
   "id": "level-baptist",
   "metadata": {},
   "outputs": [],
   "source": [
    "# Softmax\n",
    "def loss_fn(hypothesis, labels):\n",
    "#     cost = -tf.reduce_mean(labels * tf.math.log(hypothesis)\n",
    "#                           +(1-labels)*tf.math.log(1-hypothesis))\n",
    "    return tf.keras.losses.categorical_crossentropy(labels, hypothesis,\n",
    "                                                   from_logits=True)"
   ]
  },
  {
   "cell_type": "code",
   "execution_count": 244,
   "id": "running-sight",
   "metadata": {},
   "outputs": [],
   "source": [
    "def accuracy_fn(hypothesis, labels, class_count):\n",
    "    # cast = 형변환\n",
    "    #predicted = tf.cast(hypothesis > 0.5, dtype=tf.float32)\n",
    "    #print(np.argmax(np.array(hypothesis), axis=1))\n",
    "    \n",
    "#     predicted = np.zeros(hypothesis.shape)\n",
    "#     argmax = np.argmax(np.array(hypothesis), axis=1)\n",
    "#     for i, am in enumerate(argmax):\n",
    "#         predicted[i, am] += 1\n",
    "    \n",
    "    predicted = tf.one_hot(np.argmax(hypothesis, axis=1), class_count)    \n",
    "    accuracy = tf.reduce_mean(tf.cast(tf.equal(predicted, labels), dtype=tf.float32))\n",
    "    return accuracy"
   ]
  },
  {
   "cell_type": "code",
   "execution_count": 245,
   "id": "catholic-maria",
   "metadata": {},
   "outputs": [],
   "source": [
    "def grad(features, labels):\n",
    "    with tf.GradientTape() as tape:\n",
    "        #print(logistic_regression(features).shape)\n",
    "        loss = loss_fn(logistic_regression(features), labels)\n",
    "    return loss, tape.gradient(loss, [W, b])"
   ]
  },
  {
   "cell_type": "code",
   "execution_count": 247,
   "id": "greater-access",
   "metadata": {
    "scrolled": false
   },
   "outputs": [
    {
     "name": "stdout",
     "output_type": "stream",
     "text": [
      "Iter: 0. Mean Loss (categorical CE):2.021829128265381\n",
      "Iter: 100. Mean Loss (categorical CE):1.6642338037490845\n",
      "Iter: 200. Mean Loss (categorical CE):1.6036765575408936\n",
      "Iter: 300. Mean Loss (categorical CE):1.583228349685669\n",
      "Iter: 400. Mean Loss (categorical CE):1.5707824230194092\n",
      "Iter: 500. Mean Loss (categorical CE):1.5612709522247314\n",
      "Iter: 600. Mean Loss (categorical CE):1.5532066822052002\n",
      "Iter: 700. Mean Loss (categorical CE):1.545939564704895\n",
      "Iter: 800. Mean Loss (categorical CE):1.5391162633895874\n",
      "Iter: 900. Mean Loss (categorical CE):1.5325305461883545\n",
      "Iter: 1000. Mean Loss (categorical CE):1.5260757207870483\n",
      "Test Accuracy : 0.836735\n"
     ]
    }
   ],
   "source": [
    "# W = tf.Variable(tf.random.normal((len(X_train[0, :]),1)), name='weight')\n",
    "W = tf.Variable(tf.random.normal((X.shape[1],y.shape[1])), name='weight')\n",
    "b = tf.Variable(tf.random.normal((1,)), name='bias')\n",
    "optimizer = tf.keras.optimizers.SGD(learning_rate=0.001)\n",
    "\n",
    "for step in range(1001):\n",
    "    for features, labels in iter(dataset):\n",
    "        loss, grads = grad(features, labels)\n",
    "        optimizer.apply_gradients(zip(grads, [W,b]))\n",
    "        if step % 100 == 0:\n",
    "            print(f\"Iter: {step}. Mean Loss (categorical CE):{np.mean(loss)}\")\n",
    "\n",
    "test_acc = accuracy_fn(logistic_regression(X_test), y_test, class_count)\n",
    "print(f\"Test Accuracy : {test_acc:4f}\")"
   ]
  },
  {
   "cell_type": "code",
   "execution_count": null,
   "id": "lovely-upper",
   "metadata": {},
   "outputs": [],
   "source": []
  },
  {
   "cell_type": "code",
   "execution_count": null,
   "id": "acknowledged-portland",
   "metadata": {},
   "outputs": [],
   "source": []
  }
 ],
 "metadata": {
  "kernelspec": {
   "display_name": "Python 3",
   "language": "python",
   "name": "python3"
  },
  "language_info": {
   "codemirror_mode": {
    "name": "ipython",
    "version": 3
   },
   "file_extension": ".py",
   "mimetype": "text/x-python",
   "name": "python",
   "nbconvert_exporter": "python",
   "pygments_lexer": "ipython3",
   "version": "3.7.9"
  }
 },
 "nbformat": 4,
 "nbformat_minor": 5
}
