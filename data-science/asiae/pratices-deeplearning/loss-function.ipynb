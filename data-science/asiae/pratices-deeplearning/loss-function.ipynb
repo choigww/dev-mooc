{
 "cells": [
  {
   "cell_type": "code",
   "execution_count": 1,
   "id": "creative-australia",
   "metadata": {},
   "outputs": [],
   "source": [
    "import numpy as np"
   ]
  },
  {
   "cell_type": "markdown",
   "id": "tutorial-marketplace",
   "metadata": {},
   "source": [
    "# 오차제곱합\n",
    "$$E = \\frac{1}{2}\\sum^n_{i=1}(y_i-\\hat{y}_i)^2$$"
   ]
  },
  {
   "cell_type": "code",
   "execution_count": 130,
   "id": "twenty-wound",
   "metadata": {},
   "outputs": [
    {
     "data": {
      "text/plain": [
       "(10, 10)"
      ]
     },
     "execution_count": 130,
     "metadata": {},
     "output_type": "execute_result"
    }
   ],
   "source": [
    "y = [0.1, 0.05, 0.6, 0.0, 0.05, 0.1, 0.0, 0.1, 0.0, 0.0]\n",
    "t = [0, 0, 1, 0, 0, 0, 0, 0, 0, 0]\n",
    "len(y), len(t)"
   ]
  },
  {
   "cell_type": "code",
   "execution_count": 135,
   "id": "productive-freeze",
   "metadata": {},
   "outputs": [],
   "source": [
    "def sum_squares_error(y, t):\n",
    "    #return np.sum((np.array(y)-np.array(t))**2)\n",
    "    return np.sum((np.array(y)-np.array(t))**2)/2.0"
   ]
  },
  {
   "cell_type": "code",
   "execution_count": 136,
   "id": "lightweight-parliament",
   "metadata": {},
   "outputs": [
    {
     "data": {
      "text/plain": [
       "0.09750000000000003"
      ]
     },
     "execution_count": 136,
     "metadata": {},
     "output_type": "execute_result"
    }
   ],
   "source": [
    "sum_squares_error(y, t)"
   ]
  },
  {
   "cell_type": "code",
   "execution_count": null,
   "id": "introductory-button",
   "metadata": {},
   "outputs": [],
   "source": []
  },
  {
   "cell_type": "markdown",
   "id": "mental-dance",
   "metadata": {},
   "source": [
    "# binary cross entropy\n",
    "\n",
    "$$-\\frac{1}{m}\\sum^m_{i=1}{y_i \\text{ln}(p_i)+(1-y_i)\\text{ln} (1-p_i)}$$"
   ]
  },
  {
   "cell_type": "code",
   "execution_count": 121,
   "id": "personal-router",
   "metadata": {},
   "outputs": [],
   "source": [
    "def cross_entropy(Y, p):\n",
    "    Y = np.array(Y)\n",
    "    p = np.array(p)\n",
    "    #print(len(p.ravel()))\n",
    "    if len(p) > 1:\n",
    "        return -1*np.sum(Y*np.log(p)+(1-Y)*np.log(1-p), axis=1) / len(p[0].flatten())\n",
    "    else:\n",
    "        return -1*np.sum(Y*np.log(p)+(1-Y)*np.log(1-p))"
   ]
  },
  {
   "cell_type": "code",
   "execution_count": 122,
   "id": "correct-anthropology",
   "metadata": {
    "scrolled": false
   },
   "outputs": [
    {
     "data": {
      "text/plain": [
       "array([1.19488089, 0.29900116])"
      ]
     },
     "execution_count": 122,
     "metadata": {},
     "output_type": "execute_result"
    }
   ],
   "source": [
    "P = [[0.6, 0.2, 0.9, 0.3], [0.7, 0.9, 0.2, 0.4]]\n",
    "Y = [[1., 1., 0., 0.], [1., 1., 0., 0.]]\n",
    "cross_entropy(Y, P)"
   ]
  },
  {
   "cell_type": "code",
   "execution_count": 123,
   "id": "seven-component",
   "metadata": {},
   "outputs": [
    {
     "data": {
      "text/plain": [
       "array([0.91629073, 0.71355818])"
      ]
     },
     "execution_count": 123,
     "metadata": {},
     "output_type": "execute_result"
    }
   ],
   "source": [
    "y_true = [[0., 1.], [0., 0.]]\n",
    "y_pred = [[0.6, 0.4], [0.4, 0.6]]\n",
    "cross_entropy(y_true, y_pred)"
   ]
  },
  {
   "cell_type": "code",
   "execution_count": 113,
   "id": "composed-actor",
   "metadata": {},
   "outputs": [],
   "source": [
    "from tensorflow.keras.losses import BinaryCrossentropy\n",
    "from tensorflow.keras.losses import Reduction"
   ]
  },
  {
   "cell_type": "code",
   "execution_count": 124,
   "id": "mathematical-lotus",
   "metadata": {},
   "outputs": [
    {
     "data": {
      "text/plain": [
       "array([0.9162905 , 0.71355796], dtype=float32)"
      ]
     },
     "execution_count": 124,
     "metadata": {},
     "output_type": "execute_result"
    }
   ],
   "source": [
    "y_true = [[0., 1.], [0., 0.]]\n",
    "y_pred = [[0.6, 0.4], [0.4, 0.6]]\n",
    "# Using 'auto'/'sum_over_batch_size' reduction type.\n",
    "bce = BinaryCrossentropy(reduction = Reduction.NONE)\n",
    "bce(y_true, y_pred).numpy()"
   ]
  },
  {
   "cell_type": "code",
   "execution_count": null,
   "id": "lonely-mount",
   "metadata": {},
   "outputs": [],
   "source": []
  },
  {
   "cell_type": "code",
   "execution_count": null,
   "id": "three-collect",
   "metadata": {},
   "outputs": [],
   "source": []
  }
 ],
 "metadata": {
  "kernelspec": {
   "display_name": "Python 3",
   "language": "python",
   "name": "python3"
  },
  "language_info": {
   "codemirror_mode": {
    "name": "ipython",
    "version": 3
   },
   "file_extension": ".py",
   "mimetype": "text/x-python",
   "name": "python",
   "nbconvert_exporter": "python",
   "pygments_lexer": "ipython3",
   "version": "3.7.9"
  }
 },
 "nbformat": 4,
 "nbformat_minor": 5
}
