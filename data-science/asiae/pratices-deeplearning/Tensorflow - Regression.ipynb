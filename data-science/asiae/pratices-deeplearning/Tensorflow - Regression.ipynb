{
 "cells": [
  {
   "cell_type": "code",
   "execution_count": 1,
   "id": "measured-parent",
   "metadata": {},
   "outputs": [],
   "source": [
    "import tensorflow as tf\n",
    "import numpy as np"
   ]
  },
  {
   "cell_type": "code",
   "execution_count": 2,
   "id": "documented-shower",
   "metadata": {},
   "outputs": [
    {
     "name": "stdout",
     "output_type": "stream",
     "text": [
      "2.4.1\n"
     ]
    }
   ],
   "source": [
    "print(tf.__version__)"
   ]
  },
  {
   "cell_type": "markdown",
   "id": "affiliated-person",
   "metadata": {},
   "source": [
    "## numpy와 tensorflow "
   ]
  },
  {
   "cell_type": "code",
   "execution_count": 35,
   "id": "through-capture",
   "metadata": {},
   "outputs": [
    {
     "data": {
      "text/plain": [
       "(3,)"
      ]
     },
     "execution_count": 35,
     "metadata": {},
     "output_type": "execute_result"
    }
   ],
   "source": [
    "arr = np.array([1,2,3])\n",
    "arr.shape"
   ]
  },
  {
   "cell_type": "code",
   "execution_count": 36,
   "id": "shared-governor",
   "metadata": {
    "scrolled": true
   },
   "outputs": [
    {
     "data": {
      "text/plain": [
       "<tf.Tensor: shape=(3,), dtype=int32, numpy=array([1, 2, 4])>"
      ]
     },
     "execution_count": 36,
     "metadata": {},
     "output_type": "execute_result"
    }
   ],
   "source": [
    "tf.constant([1,2,4])"
   ]
  },
  {
   "cell_type": "code",
   "execution_count": 37,
   "id": "natural-bacteria",
   "metadata": {},
   "outputs": [
    {
     "data": {
      "text/plain": [
       "<tf.Tensor: shape=(2, 3), dtype=int32, numpy=\n",
       "array([[1, 2, 3],\n",
       "       [4, 5, 6]])>"
      ]
     },
     "execution_count": 37,
     "metadata": {},
     "output_type": "execute_result"
    }
   ],
   "source": [
    "arr2 = np.array([[1,2,3], [4,5,6]])\n",
    "arr_tf = tf.constant(arr2)\n",
    "arr_tf"
   ]
  },
  {
   "cell_type": "code",
   "execution_count": 38,
   "id": "welcome-schedule",
   "metadata": {},
   "outputs": [
    {
     "data": {
      "text/plain": [
       "(2, 3)"
      ]
     },
     "execution_count": 38,
     "metadata": {},
     "output_type": "execute_result"
    }
   ],
   "source": [
    "arr2.shape"
   ]
  },
  {
   "cell_type": "code",
   "execution_count": 39,
   "id": "facial-judges",
   "metadata": {},
   "outputs": [
    {
     "data": {
      "text/plain": [
       "TensorShape([2, 3])"
      ]
     },
     "execution_count": 39,
     "metadata": {},
     "output_type": "execute_result"
    }
   ],
   "source": [
    "arr_tf.shape"
   ]
  },
  {
   "cell_type": "code",
   "execution_count": 40,
   "id": "absolute-scheme",
   "metadata": {},
   "outputs": [
    {
     "data": {
      "text/plain": [
       "tf.int32"
      ]
     },
     "execution_count": 40,
     "metadata": {},
     "output_type": "execute_result"
    }
   ],
   "source": [
    "arr_tf.dtype"
   ]
  },
  {
   "cell_type": "code",
   "execution_count": 41,
   "id": "increased-click",
   "metadata": {},
   "outputs": [
    {
     "data": {
      "text/plain": [
       "array([1., 2., 3.], dtype=float32)"
      ]
     },
     "execution_count": 41,
     "metadata": {},
     "output_type": "execute_result"
    }
   ],
   "source": [
    "arr = np.array([1,2,3], dtype=np.float32)\n",
    "arr"
   ]
  },
  {
   "cell_type": "code",
   "execution_count": 42,
   "id": "dangerous-genesis",
   "metadata": {},
   "outputs": [
    {
     "data": {
      "text/plain": [
       "<tf.Tensor: shape=(3,), dtype=float32, numpy=array([1., 2., 3.], dtype=float32)>"
      ]
     },
     "execution_count": 42,
     "metadata": {},
     "output_type": "execute_result"
    }
   ],
   "source": [
    "tensor = tf.constant([1,2,3], dtype=tf.float32)\n",
    "tensor"
   ]
  },
  {
   "cell_type": "code",
   "execution_count": 43,
   "id": "metallic-mechanism",
   "metadata": {},
   "outputs": [
    {
     "data": {
      "text/plain": [
       "array([1, 2, 3], dtype=uint8)"
      ]
     },
     "execution_count": 43,
     "metadata": {},
     "output_type": "execute_result"
    }
   ],
   "source": [
    "# 타입변환\n",
    "arr = arr.astype(np.uint8)\n",
    "arr"
   ]
  },
  {
   "cell_type": "code",
   "execution_count": 44,
   "id": "flying-thing",
   "metadata": {},
   "outputs": [
    {
     "data": {
      "text/plain": [
       "<tf.Tensor: shape=(3,), dtype=uint8, numpy=array([1, 2, 3], dtype=uint8)>"
      ]
     },
     "execution_count": 44,
     "metadata": {},
     "output_type": "execute_result"
    }
   ],
   "source": [
    "tf.cast(tensor, dtype=tf.uint8)"
   ]
  },
  {
   "cell_type": "markdown",
   "id": "premier-macintosh",
   "metadata": {},
   "source": [
    "## 실습"
   ]
  },
  {
   "cell_type": "code",
   "execution_count": 3,
   "id": "touched-coordinator",
   "metadata": {},
   "outputs": [],
   "source": [
    "x_data = [1,2,3,4,5]\n",
    "y_data = [1,2,3,4,5]"
   ]
  },
  {
   "cell_type": "code",
   "execution_count": 4,
   "id": "fossil-mention",
   "metadata": {},
   "outputs": [
    {
     "data": {
      "text/plain": [
       "(0.0, 8.0)"
      ]
     },
     "execution_count": 4,
     "metadata": {},
     "output_type": "execute_result"
    },
    {
     "data": {
      "image/png": "[encoded data removed]",
      "text/plain": [
       "<Figure size 432x288 with 1 Axes>"
      ]
     },
     "metadata": {
      "needs_background": "light"
     },
     "output_type": "display_data"
    }
   ],
   "source": [
    "import matplotlib.pyplot as plt\n",
    "plt.plot(x_data, y_data, 'o')\n",
    "plt.ylim(0,8)"
   ]
  },
  {
   "cell_type": "code",
   "execution_count": 5,
   "id": "floppy-hostel",
   "metadata": {},
   "outputs": [
    {
     "data": {
      "text/plain": [
       "3"
      ]
     },
     "execution_count": 5,
     "metadata": {},
     "output_type": "execute_result"
    }
   ],
   "source": [
    "tf.reduce_mean(x_data).numpy()"
   ]
  },
  {
   "cell_type": "code",
   "execution_count": 6,
   "id": "tired-ending",
   "metadata": {},
   "outputs": [
    {
     "data": {
      "text/plain": [
       "9"
      ]
     },
     "execution_count": 6,
     "metadata": {},
     "output_type": "execute_result"
    }
   ],
   "source": [
    "tf.square(3).numpy()"
   ]
  },
  {
   "cell_type": "code",
   "execution_count": 7,
   "id": "iraqi-surgeon",
   "metadata": {},
   "outputs": [],
   "source": [
    "W = tf.Variable(2.0)\n",
    "b = tf.Variable(0.5)\n",
    "\n",
    "hypothesis = W*x_data + b"
   ]
  },
  {
   "cell_type": "code",
   "execution_count": 8,
   "id": "technological-steps",
   "metadata": {},
   "outputs": [
    {
     "data": {
      "text/plain": [
       "<tf.Variable 'Variable:0' shape=() dtype=float32, numpy=2.0>"
      ]
     },
     "execution_count": 8,
     "metadata": {},
     "output_type": "execute_result"
    }
   ],
   "source": [
    "W"
   ]
  },
  {
   "cell_type": "code",
   "execution_count": 9,
   "id": "endless-particular",
   "metadata": {},
   "outputs": [
    {
     "data": {
      "image/png": "[encoded data removed]",
      "text/plain": [
       "<Figure size 432x288 with 1 Axes>"
      ]
     },
     "metadata": {
      "needs_background": "light"
     },
     "output_type": "display_data"
    }
   ],
   "source": [
    "plt.plot(x_data, hypothesis.numpy(), 'r-')\n",
    "plt.plot(x_data, y_data, 'o')\n",
    "plt.ylim(0, 8)\n",
    "plt.show()"
   ]
  },
  {
   "cell_type": "code",
   "execution_count": 10,
   "id": "committed-professional",
   "metadata": {},
   "outputs": [],
   "source": [
    "cost = tf.reduce_mean(tf.square(hypothesis - y_data))"
   ]
  },
  {
   "cell_type": "code",
   "execution_count": 11,
   "id": "weighted-american",
   "metadata": {},
   "outputs": [
    {
     "data": {
      "text/plain": [
       "(25.0, 7.0)"
      ]
     },
     "execution_count": 11,
     "metadata": {},
     "output_type": "execute_result"
    }
   ],
   "source": [
    "with tf.GradientTape() as tape:\n",
    "    hypothesis = W*x_data + b\n",
    "    cost = tf.reduce_mean(tf.square(hypothesis - y_data))\n",
    "\n",
    "W_grad, b_grad = tape.gradient(cost, [W, b])\n",
    "W_grad.numpy(), b_grad.numpy()"
   ]
  },
  {
   "cell_type": "code",
   "execution_count": 12,
   "id": "hybrid-carroll",
   "metadata": {},
   "outputs": [
    {
     "data": {
      "text/plain": [
       "(1.75, 0.43)"
      ]
     },
     "execution_count": 12,
     "metadata": {},
     "output_type": "execute_result"
    }
   ],
   "source": [
    "learning_rate = 0.01\n",
    "\n",
    "W.assign_sub(learning_rate * W_grad)\n",
    "b.assign_sub(learning_rate * b_grad)\n",
    "\n",
    "W.numpy(), b.numpy()"
   ]
  },
  {
   "cell_type": "code",
   "execution_count": 13,
   "id": "otherwise-future",
   "metadata": {},
   "outputs": [],
   "source": [
    "# W = W - learning_rate * W_grad "
   ]
  },
  {
   "cell_type": "code",
   "execution_count": 14,
   "id": "geographic-marshall",
   "metadata": {},
   "outputs": [],
   "source": [
    "W1 = tf.Variable(2.0)\n",
    "b1 = tf.Variable(0.5)"
   ]
  },
  {
   "cell_type": "code",
   "execution_count": 15,
   "id": "lasting-fleet",
   "metadata": {},
   "outputs": [
    {
     "data": {
      "text/plain": [
       "(0.0, 8.0)"
      ]
     },
     "execution_count": 15,
     "metadata": {},
     "output_type": "execute_result"
    },
    {
     "data": {
      "image/png": "[encoded data removed]",
      "text/plain": [
       "<Figure size 432x288 with 1 Axes>"
      ]
     },
     "metadata": {
      "needs_background": "light"
     },
     "output_type": "display_data"
    }
   ],
   "source": [
    "plt.plot(x_data, hypothesis.numpy(), 'r-')\n",
    "plt.plot(x_data, y_data, 'o')\n",
    "plt.ylim(0,8)"
   ]
  },
  {
   "cell_type": "code",
   "execution_count": 16,
   "id": "medium-collective",
   "metadata": {},
   "outputs": [
    {
     "name": "stdout",
     "output_type": "stream",
     "text": [
      "   10|    0.9990|    0.2146|  0.071626\n",
      "   20|    0.9502|    0.1939|  0.007110\n",
      "   30|    0.9486|    0.1866|  0.006374\n",
      "   40|    0.9501|    0.1803|  0.005955\n",
      "   50|    0.9517|    0.1743|  0.005565\n",
      "   60|    0.9533|    0.1685|  0.005201\n",
      "   70|    0.9549|    0.1629|  0.004860\n",
      "   80|    0.9564|    0.1574|  0.004542\n",
      "   90|    0.9578|    0.1522|  0.004245\n",
      "  100|    0.9592|    0.1471|  0.003967\n"
     ]
    }
   ],
   "source": [
    "for i in range(1, 101):\n",
    "    with tf.GradientTape() as tape:\n",
    "        hypothesis = W*x_data + b\n",
    "        cost = tf.reduce_mean(tf.square(hypothesis - y_data))\n",
    "        \n",
    "    W_grad, b_grad = tape.gradient(cost, [W,b])\n",
    "    W.assign_sub(learning_rate * W_grad)\n",
    "    b.assign_sub(learning_rate * b_grad)\n",
    "    if i % 10 == 0:\n",
    "        print(f\"{i:5}|{W.numpy():10.4f}|{b.numpy():10.4f}|{cost:10.6f}\")\n",
    "        "
   ]
  },
  {
   "cell_type": "code",
   "execution_count": 17,
   "id": "second-municipality",
   "metadata": {},
   "outputs": [
    {
     "data": {
      "text/plain": [
       "(0.0, 8.0)"
      ]
     },
     "execution_count": 17,
     "metadata": {},
     "output_type": "execute_result"
    },
    {
     "data": {
      "image/png": "[encoded data removed]",
      "text/plain": [
       "<Figure size 432x288 with 1 Axes>"
      ]
     },
     "metadata": {
      "needs_background": "light"
     },
     "output_type": "display_data"
    }
   ],
   "source": [
    "plt.plot(x_data, hypothesis.numpy(), 'r-')\n",
    "plt.plot(x_data, y_data, 'o')\n",
    "plt.ylim(0,8)"
   ]
  },
  {
   "cell_type": "markdown",
   "id": "blind-prospect",
   "metadata": {},
   "source": [
    "## W1, W2"
   ]
  },
  {
   "cell_type": "code",
   "execution_count": 18,
   "id": "typical-overhead",
   "metadata": {},
   "outputs": [
    {
     "name": "stdout",
     "output_type": "stream",
     "text": [
      "   50|    2.1731|    6.6622|   -1.8641|110.132645\n",
      "  100|    1.8639|    5.0048|   -2.4026| 45.361641\n",
      "  150|    1.7628|    3.9357|   -2.7039| 19.694832\n",
      "  200|    1.7415|    3.2424|   -2.8679|  9.226077\n",
      "  250|    1.7460|    2.7901|   -2.9508|  4.872801\n",
      "  300|    1.7553|    2.4929|   -2.9850|  3.030190\n",
      "  350|    1.7621|    2.2957|   -2.9894|  2.230146\n",
      "  400|    1.7646|    2.1632|   -2.9757|  1.866081\n",
      "  450|    1.7632|    2.0725|   -2.9507|  1.685394\n",
      "  500|    1.7587|    2.0089|   -2.9190|  1.582439\n",
      "  550|    1.7521|    1.9630|   -2.8830|  1.512918\n",
      "  600|    1.7439|    1.9286|   -2.8447|  1.458224\n",
      "  650|    1.7348|    1.9017|   -2.8051|  1.410523\n",
      "  700|    1.7251|    1.8797|   -2.7648|  1.366503\n",
      "  750|    1.7151|    1.8610|   -2.7244|  1.324749\n",
      "  800|    1.7049|    1.8444|   -2.6841|  1.284647\n",
      "  850|    1.6946|    1.8294|   -2.6441|  1.245916\n",
      "  900|    1.6843|    1.8154|   -2.6044|  1.208420\n",
      "  950|    1.6741|    1.8021|   -2.5652|  1.172079\n",
      " 1000|    1.6640|    1.7893|   -2.5265|  1.136843\n"
     ]
    }
   ],
   "source": [
    "x1_data = [1, 0, 3, 0, 5]\n",
    "x2_data = [0, 2, 0, 4, 0]\n",
    "y_data = [1, 2, 3, 4, 5]\n",
    "\n",
    "W1 = tf.Variable(tf.random.uniform((1, ), -10.0, 10.0))\n",
    "W2 = tf.Variable(tf.random.uniform((1, ), -10.0, 10.0))\n",
    "b = tf.Variable(tf.random.uniform((1, ), -10.0, 10.0))\n",
    "\n",
    "learning_rate = tf.Variable(0.001)\n",
    "\n",
    "for i in range(1, 1001):\n",
    "    with tf.GradientTape() as tape:\n",
    "        hypothesis = W1 * x1_data + W2*x2_data + b\n",
    "        cost = tf.reduce_mean(tf.square(hypothesis - y_data))\n",
    "    \n",
    "    W1_grad, W2_grad, b_grad = tape.gradient(cost, [W1, W2, b])\n",
    "    W1.assign_sub(learning_rate * W1_grad)\n",
    "    W2.assign_sub(learning_rate * W2_grad)\n",
    "    b.assign_sub(learning_rate * b_grad)\n",
    "    \n",
    "    if i%50 == 0:\n",
    "        print(f\"{i:5}|{W1.numpy()[0]:10.4f}|{W2.numpy()[0]:10.4f}|{b.numpy()[0]:10.4f}|{cost:10.6f}\")\n",
    "    \n",
    "    # list라서 [0]으로 불러야 오류 발생 안함\n",
    "\n"
   ]
  },
  {
   "cell_type": "code",
   "execution_count": 19,
   "id": "plastic-connectivity",
   "metadata": {},
   "outputs": [
    {
     "data": {
      "text/plain": [
       "<tf.Tensor: shape=(1, 5), dtype=float32, numpy=\n",
       "array([[-0.833874 ,  0.8005066, -2.501622 ,  1.6010132, -4.1693697]],\n",
       "      dtype=float32)>"
      ]
     },
     "execution_count": 19,
     "metadata": {},
     "output_type": "execute_result"
    }
   ],
   "source": [
    "x_data = [[1,0,3,0,5],[0,2,0,4,0]]\n",
    "y_data = [1,2,3,4,5]\n",
    "# W * (2,5) = (1*5) => W는 (1,2)\n",
    "\n",
    "x_data = np.array(x_data).astype(np.float32) # 버전 문제로 형 변환\n",
    "\n",
    "W = tf.Variable(tf.random.uniform((1, 2), -1.0, 1.0)) # 입력과 출력 맞추려고\n",
    "b = tf.Variable(tf.random.uniform((1,), -1.0, 1.0))\n",
    "\n",
    "tf.matmul(W, x_data)"
   ]
  },
  {
   "cell_type": "code",
   "execution_count": 23,
   "id": "promising-number",
   "metadata": {},
   "outputs": [
    {
     "name": "stdout",
     "output_type": "stream",
     "text": [
      "   50|    0.6137|    0.3933|   -0.4542|  4.117135\n",
      "  100|    0.8573|    0.6310|   -0.3136|  1.252487\n",
      "  150|    0.9643|    0.7798|   -0.2366|  0.422963\n",
      "  200|    1.0098|    0.8737|   -0.1930|  0.156447\n",
      "  250|    1.0280|    0.9332|   -0.1673|  0.062421\n",
      "  300|    1.0344|    0.9710|   -0.1515|  0.026815\n",
      "  350|    1.0359|    0.9950|   -0.1413|  0.012672\n",
      "  400|    1.0356|    1.0103|   -0.1343|  0.006871\n",
      "  450|    1.0347|    1.0200|   -0.1293|  0.004428\n",
      "  500|    1.0337|    1.0260|   -0.1255|  0.003364\n",
      "  550|    1.0328|    1.0297|   -0.1225|  0.002874\n",
      "  600|    1.0319|    1.0319|   -0.1199|  0.002625\n",
      "  650|    1.0312|    1.0331|   -0.1176|  0.002477\n",
      "  700|    1.0306|    1.0337|   -0.1155|  0.002374\n",
      "  750|    1.0300|    1.0339|   -0.1136|  0.002291\n",
      "  800|    1.0295|    1.0339|   -0.1117|  0.002217\n",
      "  850|    1.0290|    1.0337|   -0.1100|  0.002148\n",
      "  900|    1.0285|    1.0334|   -0.1082|  0.002083\n",
      "  950|    1.0280|    1.0330|   -0.1066|  0.002020\n",
      " 1000|    1.0276|    1.0326|   -0.1049|  0.001959\n"
     ]
    }
   ],
   "source": [
    "x_data = [[1,0,3,0,5],[0,2,0,4,0]]\n",
    "y_data = [1,2,3,4,5]\n",
    "# W * (2,5) = (1*5) => W는 (1,2)\n",
    "\n",
    "x_data = np.array(x_data).astype(np.float32) # 버전 문제로 형 변환\n",
    "\n",
    "W = tf.Variable(tf.random.uniform((1, 2), -1.0, 1.0)) # 입력과 출력 맞추려고\n",
    "b = tf.Variable(tf.random.uniform((1,), -1.0, 1.0))\n",
    "\n",
    "# tf.matmul(W, x_data)  두 배열의 행렬곱\n",
    "\n",
    "learning_rate = tf.Variable(0.001)\n",
    "\n",
    "for i in range(1, 1001):\n",
    "    with tf.GradientTape() as tape:\n",
    "        hypothesis = tf.matmul(W, x_data) + b\n",
    "        cost = tf.reduce_mean(tf.square(hypothesis - y_data))\n",
    "    \n",
    "    W_grad, b_grad = tape.gradient(cost, [W,b])\n",
    "    # weight 업데이트 해주는 부분\n",
    "    W.assign_sub(learning_rate * W_grad) \n",
    "    b.assign_sub(learning_rate * b_grad)\n",
    "    \n",
    "    if i%50 == 0:\n",
    "        print(f\"{i:5}|{W.numpy()[0][0]:10.4f}|{W.numpy()[0][1]:10.4f}|{b.numpy()[0]:10.4f}|{cost:10.6f}\")\n"
   ]
  },
  {
   "cell_type": "code",
   "execution_count": 28,
   "id": "threaded-vatican",
   "metadata": {},
   "outputs": [
    {
     "data": {
      "text/plain": [
       "(2, 5)"
      ]
     },
     "execution_count": 28,
     "metadata": {},
     "output_type": "execute_result"
    }
   ],
   "source": [
    "np.array(x_data).shape"
   ]
  },
  {
   "cell_type": "code",
   "execution_count": 29,
   "id": "behind-coating",
   "metadata": {},
   "outputs": [
    {
     "data": {
      "text/plain": [
       "<tf.Variable 'Variable:0' shape=(1, 2) dtype=float32, numpy=array([[1.027599 , 1.0325553]], dtype=float32)>"
      ]
     },
     "execution_count": 29,
     "metadata": {},
     "output_type": "execute_result"
    }
   ],
   "source": [
    "W"
   ]
  },
  {
   "cell_type": "code",
   "execution_count": 30,
   "id": "judicial-whale",
   "metadata": {},
   "outputs": [
    {
     "data": {
      "text/plain": [
       "<tf.Tensor: shape=(1, 5), dtype=float32, numpy=\n",
       "array([[1.027599 , 2.0651107, 3.082797 , 4.1302214, 5.137995 ]],\n",
       "      dtype=float32)>"
      ]
     },
     "execution_count": 30,
     "metadata": {},
     "output_type": "execute_result"
    }
   ],
   "source": [
    "tf.matmul(W, x_data)"
   ]
  },
  {
   "cell_type": "code",
   "execution_count": 31,
   "id": "emerging-effects",
   "metadata": {},
   "outputs": [
    {
     "name": "stdout",
     "output_type": "stream",
     "text": [
      "   50|    0.5878|    0.3316|    0.5334|  1.649735\n",
      "  100|    0.7212|    0.4955|    0.6067|  0.597537\n",
      "  150|    0.7805|    0.6001|    0.6423|  0.269121\n",
      "  200|    0.8067|    0.6677|    0.6578|  0.154900\n",
      "  250|    0.8185|    0.7120|    0.6624|  0.110987\n",
      "  300|    0.8242|    0.7416|    0.6610|  0.092329\n",
      "  350|    0.8275|    0.7617|    0.6562|  0.083374\n",
      "  400|    0.8299|    0.7757|    0.6495|  0.078328\n",
      "  450|    0.8320|    0.7859|    0.6416|  0.074919\n",
      "  500|    0.8341|    0.7935|    0.6331|  0.072227\n",
      "  550|    0.8363|    0.7994|    0.6243|  0.069872\n",
      "  600|    0.8385|    0.8043|    0.6154|  0.067695\n",
      "  650|    0.8408|    0.8084|    0.6064|  0.065628\n",
      "  700|    0.8431|    0.8121|    0.5974|  0.063642\n",
      "  750|    0.8454|    0.8154|    0.5885|  0.061723\n",
      "  800|    0.8477|    0.8185|    0.5797|  0.059866\n",
      "  850|    0.8500|    0.8215|    0.5710|  0.058065\n",
      "  900|    0.8522|    0.8243|    0.5624|  0.056320\n",
      "  950|    0.8544|    0.8271|    0.5539|  0.054627\n",
      " 1000|    0.8566|    0.8297|    0.5455|  0.052985\n"
     ]
    }
   ],
   "source": [
    "x_data = [[1,0,3,0,5],[0,2,0,4,0]]\n",
    "y_data = [1,2,3,4,5]\n",
    "# W * (2,5) = (1*5) => W는 (1,2)\n",
    "\n",
    "x_data = np.array(x_data).astype(np.float32) # 버전 문제로 형 변환\n",
    "\n",
    "W = tf.Variable(tf.random.uniform((1, 2), -1.0, 1.0)) \n",
    "b = tf.Variable(tf.random.uniform((1,), -1.0, 1.0))\n",
    "\n",
    "optimizer = tf.keras.optimizers.SGD(learning_rate=0.001 )\n",
    "\n",
    "for i in range(1, 1001):\n",
    "    with tf.GradientTape() as tape:\n",
    "        hypothesis = tf.matmul(W, x_data) + b\n",
    "        cost = tf.reduce_mean(tf.square(hypothesis - y_data))\n",
    "    \n",
    "    grads = tape.gradient(cost, [W,b])\n",
    "    \n",
    "    optimizer.apply_gradients(zip(grads, [W,b])) \n",
    "    \n",
    "    if i%50 == 0:\n",
    "        print(f\"{i:5}|{W.numpy()[0][0]:10.4f}|{W.numpy()[0][1]:10.4f}|{b.numpy()[0]:10.4f}|{cost:10.6f}\")\n"
   ]
  },
  {
   "cell_type": "markdown",
   "id": "average-incident",
   "metadata": {},
   "source": [
    "# 2차 방정식 추정\n",
    "$ y = 2x^2 + 3x + 5 $"
   ]
  },
  {
   "cell_type": "code",
   "execution_count": 32,
   "id": "close-tribune",
   "metadata": {},
   "outputs": [],
   "source": [
    "x = np.array(np.arange(-5, 5, 0.1))\n",
    "y = 2*x*x + 3*x + 5"
   ]
  },
  {
   "cell_type": "code",
   "execution_count": 33,
   "id": "mediterranean-yesterday",
   "metadata": {},
   "outputs": [
    {
     "data": {
      "text/plain": [
       "(100,)"
      ]
     },
     "execution_count": 33,
     "metadata": {},
     "output_type": "execute_result"
    }
   ],
   "source": [
    "x.shape"
   ]
  },
  {
   "cell_type": "code",
   "execution_count": 34,
   "id": "freelance-internship",
   "metadata": {},
   "outputs": [
    {
     "data": {
      "text/plain": [
       "(100,)"
      ]
     },
     "execution_count": 34,
     "metadata": {},
     "output_type": "execute_result"
    }
   ],
   "source": [
    "y.shape"
   ]
  },
  {
   "cell_type": "code",
   "execution_count": 51,
   "id": "aggregate-minority",
   "metadata": {},
   "outputs": [],
   "source": [
    "x = np.array(np.arange(-5, 5, 0.1))\n",
    "y = 2*x*x + 3*x + 5\n",
    "\n",
    "x = np.array(x).astype(np.float32) # 버전 문제로 형 변환\n",
    "x_data = np.array([x*x, x])\n",
    "W = tf.Variable(tf.random.uniform((1, 2), -1.0, 1.0)) \n",
    "b = tf.Variable(tf.random.uniform((1,), -1.0, 1.0))"
   ]
  },
  {
   "cell_type": "code",
   "execution_count": 61,
   "id": "dutch-medicare",
   "metadata": {
    "scrolled": false
   },
   "outputs": [
    {
     "name": "stdout",
     "output_type": "stream",
     "text": [
      " 1000|       nan|       nan|       nan|       nan\n",
      " 2000|       nan|       nan|       nan|       nan\n",
      " 3000|       nan|       nan|       nan|       nan\n",
      " 4000|       nan|       nan|       nan|       nan\n",
      " 5000|       nan|       nan|       nan|       nan\n",
      " 6000|       nan|       nan|       nan|       nan\n",
      " 7000|       nan|       nan|       nan|       nan\n",
      " 8000|       nan|       nan|       nan|       nan\n",
      " 9000|       nan|       nan|       nan|       nan\n",
      "10000|       nan|       nan|       nan|       nan\n",
      "CPU times: user 14.3 s, sys: 87 ms, total: 14.4 s\n",
      "Wall time: 14.8 s\n"
     ]
    }
   ],
   "source": [
    "%%time\n",
    "optimizer = tf.keras.optimizers.SGD(learning_rate=0.01)\n",
    "historyLoss = []\n",
    "for i in range(1, 10001):\n",
    "    with tf.GradientTape() as tape:\n",
    "        hypothesis = tf.matmul(W, x_data) + b\n",
    "        cost = tf.reduce_mean(tf.square(hypothesis - y))\n",
    "    \n",
    "    historyLoss.append(cost)\n",
    "    grads = tape.gradient(cost, [W,b])\n",
    "    \n",
    "    optimizer.apply_gradients(zip(grads, [W,b])) \n",
    "    \n",
    "    if i%1000 == 0:\n",
    "        print(f\"{i:5}|{W.numpy()[0][0]:10.4f}|{W.numpy()[0][1]:10.4f}|{b.numpy()[0]:10.4f}|{cost:10.6f}\")"
   ]
  },
  {
   "cell_type": "code",
   "execution_count": 54,
   "id": "monetary-luxembourg",
   "metadata": {},
   "outputs": [
    {
     "name": "stdout",
     "output_type": "stream",
     "text": [
      " 1000|    2.0103|    2.9999|    5.0007|  0.010262\n",
      " 2000|    2.0103|    2.9999|    5.0007|  0.010262\n",
      " 3000|    2.0103|    2.9999|    5.0007|  0.010262\n",
      " 4000|    2.0103|    2.9999|    5.0007|  0.010262\n",
      " 5000|    2.0103|    2.9999|    5.0007|  0.010262\n",
      " 6000|    2.0103|    2.9999|    5.0007|  0.010262\n",
      " 7000|    2.0103|    2.9999|    5.0007|  0.010262\n",
      " 8000|    2.0103|    2.9999|    5.0007|  0.010262\n",
      " 9000|    2.0103|    2.9999|    5.0007|  0.010262\n",
      "10000|    2.0103|    2.9999|    5.0007|  0.010262\n",
      "CPU times: user 14.6 s, sys: 85 ms, total: 14.7 s\n",
      "Wall time: 14.9 s\n"
     ]
    }
   ],
   "source": [
    "%%time\n",
    "\n",
    "optimizer = tf.keras.optimizers.SGD(learning_rate=0.001)\n",
    "\n",
    "for i in range(1, 10001):\n",
    "    with tf.GradientTape() as tape:\n",
    "        hypothesis = tf.matmul(W, x_data) + b\n",
    "        cost = tf.sqrt(tf.reduce_mean(tf.square(hypothesis - y))) # RMSE\n",
    "    \n",
    "    grads = tape.gradient(cost, [W,b])\n",
    "    \n",
    "    optimizer.apply_gradients(zip(grads, [W,b])) \n",
    "    \n",
    "    if i%1000 == 0:\n",
    "        print(f\"{i:5}|{W.numpy()[0][0]:10.4f}|{W.numpy()[0][1]:10.4f}|{b.numpy()[0]:10.4f}|{cost:10.6f}\")"
   ]
  },
  {
   "cell_type": "code",
   "execution_count": null,
   "id": "disturbed-electricity",
   "metadata": {},
   "outputs": [],
   "source": []
  },
  {
   "cell_type": "code",
   "execution_count": null,
   "id": "monthly-genius",
   "metadata": {},
   "outputs": [],
   "source": []
  },
  {
   "cell_type": "code",
   "execution_count": 57,
   "id": "literary-edinburgh",
   "metadata": {},
   "outputs": [
    {
     "name": "stdout",
     "output_type": "stream",
     "text": [
      " 1000|    2.0000|    3.0000|    5.0000|  0.000766\n",
      " 2000|    2.0000|    3.0000|    5.0000|  0.000729\n",
      " 3000|    2.0000|    3.0000|    5.0000|  0.000711\n",
      " 4000|    2.0000|    3.0000|    5.0000|  0.000711\n",
      " 5000|    2.0000|    3.0000|    5.0000|  0.000710\n",
      " 6000|    2.0000|    3.0000|    5.0000|  0.000711\n",
      " 7000|    2.0000|    3.0000|    5.0000|  0.000710\n",
      " 8000|    2.0000|    3.0000|    5.0000|  0.000710\n",
      " 9000|    2.0000|    3.0000|    5.0000|  0.000711\n",
      "10000|    2.0000|    3.0000|    5.0000|  0.000710\n",
      "CPU times: user 18.6 s, sys: 94.2 ms, total: 18.7 s\n",
      "Wall time: 18.8 s\n"
     ]
    }
   ],
   "source": [
    "%%time\n",
    "\n",
    "optimizer = tf.keras.optimizers.Adam(learning_rate=0.001)\n",
    "\n",
    "for i in range(1, 10001):\n",
    "    with tf.GradientTape() as tape:\n",
    "        hypothesis = tf.matmul(W, x_data) + b\n",
    "        cost = tf.sqrt(tf.reduce_mean(tf.square(hypothesis - y))) # RMSE\n",
    "    \n",
    "    grads = tape.gradient(cost, [W,b])\n",
    "    \n",
    "    optimizer.apply_gradients(zip(grads, [W,b])) \n",
    "    \n",
    "    if i%1000 == 0:\n",
    "        print(f\"{i:5}|{W.numpy()[0][0]:10.4f}|{W.numpy()[0][1]:10.4f}|{b.numpy()[0]:10.4f}|{cost:10.6f}\")"
   ]
  },
  {
   "cell_type": "code",
   "execution_count": null,
   "id": "standard-cricket",
   "metadata": {},
   "outputs": [],
   "source": []
  }
 ],
 "metadata": {
  "kernelspec": {
   "display_name": "Python 3",
   "language": "python",
   "name": "python3"
  },
  "language_info": {
   "codemirror_mode": {
    "name": "ipython",
    "version": 3
   },
   "file_extension": ".py",
   "mimetype": "text/x-python",
   "name": "python",
   "nbconvert_exporter": "python",
   "pygments_lexer": "ipython3",
   "version": "3.7.9"
  }
 },
 "nbformat": 4,
 "nbformat_minor": 5
}
