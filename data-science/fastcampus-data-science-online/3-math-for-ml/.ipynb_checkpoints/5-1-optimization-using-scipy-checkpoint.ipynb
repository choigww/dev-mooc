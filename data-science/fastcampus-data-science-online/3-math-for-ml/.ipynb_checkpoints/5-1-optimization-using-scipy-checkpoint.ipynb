{
 "cells": [
  {
   "cell_type": "markdown",
   "id": "heard-credit",
   "metadata": {},
   "source": [
    "# SciPy를 이용한 최적화\n",
    "- SciPy의 optimize 서브 패키지는 최적화 명령 `minimize()`를 제공함\n",
    "- 세부 알고리즘은 `method` 인수로 선택 가능\n",
    "    - 디폴트 알고리즘 = BFGS 방법\n",
    "- `minimize()` : 최적화할 함수와 최적화할 초깃값을 인수로 받음\n",
    "\n",
    "```python\n",
    "result = minimize(func, x0, jac=jac)\n",
    "```\n",
    "- func : 목적함수\n",
    "- x0 : 초깃값 벡터\n",
    "- jac (optional) : 그레디언트 벡터 출력하는 함수 - jacobian"
   ]
  },
  {
   "cell_type": "code",
   "execution_count": 9,
   "id": "internal-assurance",
   "metadata": {},
   "outputs": [],
   "source": [
    "import scipy as sp\n",
    "from scipy.optimize import minimize\n",
    "import numpy as np\n",
    "import pandas as pd\n",
    "import matplotlib.pyplot as plt"
   ]
  },
  {
   "cell_type": "code",
   "execution_count": 17,
   "id": "characteristic-temple",
   "metadata": {
    "scrolled": false
   },
   "outputs": [
    {
     "name": "stdout",
     "output_type": "stream",
     "text": [
      "1st try: x_1 = 0.00, g_1 = -4.00\n",
      "2nd try: x_2 = 1.60, g_2 = -0.80\n",
      "3rd try: x_3 = 1.92, g_3 = -0.16\n"
     ]
    },
    {
     "data": {
      "image/png": "[encoded data removed]",
      "text/plain": [
       "<Figure size 432x288 with 1 Axes>"
      ]
     },
     "metadata": {
      "needs_background": "light"
     },
     "output_type": "display_data"
    }
   ],
   "source": [
    "def f1d(x):\n",
    "    \"\"\"f1(x)의 도함수\"\"\"\n",
    "    return 2 * (x - 2.0)\n",
    "\n",
    "xx = np.linspace(-1, 4, 100)\n",
    "plt.plot(xx, f1(xx), 'k-')\n",
    "\n",
    "# step size\n",
    "mu = 0.4\n",
    "\n",
    "# k = 0\n",
    "x = 0\n",
    "plt.plot(x, f1(x), 'go', markersize=10)\n",
    "plt.text(x + 0.1, f1(x) + 0.1, \"1st try\")\n",
    "plt.plot(xx, f1d(x) * (xx - x) + f1(x), 'b--')\n",
    "print(\"1st try: x_1 = {:.2f}, g_1 = {:.2f}\".format(x, f1d(x)))\n",
    "\n",
    "# k = 1\n",
    "x = x - mu * f1d(x)\n",
    "plt.plot(x, f1(x), 'go', markersize=10)\n",
    "plt.text(x - 0.2, f1(x) + 0.4, \"2nd try\")\n",
    "plt.plot(xx, f1d(x) * (xx - x) + f1(x), 'b--')\n",
    "print(\"2nd try: x_2 = {:.2f}, g_2 = {:.2f}\".format(x, f1d(x)))\n",
    "\n",
    "# k = 2\n",
    "x = x - mu * f1d(x)\n",
    "plt.plot(x, f1(x), 'go', markersize=10)\n",
    "plt.text(x - 0.2, f1(x) - 0.7, \"3rd try\")\n",
    "plt.plot(xx, f1d(x) * (xx - x) + f1(x), 'b--')\n",
    "print(\"3rd try: x_3 = {:.2f}, g_3 = {:.2f}\".format(x, f1d(x)))\n",
    "\n",
    "plt.xlabel(\"x\")\n",
    "plt.ylabel(\"$f_1(x)$\")\n",
    "plt.title(\"function optimization using SGD\")\n",
    "plt.ylim(0, 10)\n",
    "plt.show()"
   ]
  },
  {
   "cell_type": "code",
   "execution_count": null,
   "id": "applicable-friday",
   "metadata": {},
   "outputs": [],
   "source": []
  },
  {
   "cell_type": "markdown",
   "id": "color-michael",
   "metadata": {},
   "source": [
    "### scipy.optimize.minimize()\n",
    "minimize() 명령의 결과는 OptimizeResult 클래스 객체로 다음 속성을 가진다.\n",
    "\n",
    "- x: 최적화 해\n",
    "- success: 최적화에 성공하면 True 반환\n",
    "- status: 종료 상태. 최적화에 성공하면 0 반환\n",
    "- message: 메시지 문자열\n",
    "- fun: x 위치에서의 함수의 값\n",
    "- jac: x 위치에서의 자코비안(그레디언트) 벡터의 값\n",
    "- hess_inv: x 위치에서의 헤시안 행렬의 역행렬의 값\n",
    "- nfev: 목적함수 호출 횟수\n",
    "- njev: 자코비안 계산 횟수\n",
    "- nhev: 헤시안 계산 횟수\n",
    "- nit: x 이동 횟수\n",
    "\n"
   ]
  },
  {
   "cell_type": "markdown",
   "id": "valid-driver",
   "metadata": {},
   "source": [
    "## 예제\n",
    "minimize() 명령으로 위에서 예로 들었던 1차원 함수를 최적화하면 다음과 같다."
   ]
  },
  {
   "cell_type": "code",
   "execution_count": 7,
   "id": "responsible-latin",
   "metadata": {},
   "outputs": [
    {
     "name": "stdout",
     "output_type": "stream",
     "text": [
      "      fun: 2.0\n",
      " hess_inv: array([[0.5]])\n",
      "      jac: array([0.])\n",
      "  message: 'Optimization terminated successfully.'\n",
      "     nfev: 6\n",
      "      nit: 2\n",
      "     njev: 3\n",
      "   status: 0\n",
      "  success: True\n",
      "        x: array([1.99999999])\n"
     ]
    }
   ],
   "source": [
    "# 목적함수 재정의\n",
    "def f1(x):\n",
    "    return (x - 2) ** 2 + 2\n",
    "\n",
    "x0 = 0  # 초깃값\n",
    "result = minimize(f1, x0)\n",
    "print(result)"
   ]
  },
  {
   "cell_type": "markdown",
   "id": "warming-gregory",
   "metadata": {},
   "source": [
    "-     fun: 2.0\n",
    "- hess_inv: array([[0.5]])\n",
    "-      jac: array([0.])\n",
    "-  message: 'Optimization terminated successfully.'\n",
    "-     nfev: 6\n",
    "    - 각 iter 때마다 목적함수 2회씩 호출\n",
    "    - **그레디언트 계산에 필요한 1차 미분 (그레디언트 벡터) 함수나 헤시안 함수가 주어지지 않았음**\n",
    "    - **(numerical diff.) x값 위치 근처에서 여러 번 함수 계산하여 그레디언트 벡터 근사값을 찾는 방법을 사용**\n",
    "    - `jac` 인수를 넣어주면 `nfev` 호출횟수 줄어듬\n",
    "-      nit: 2\n",
    "    - 두번 점프했음\n",
    "-     njev: 3\n",
    "    - 최초 시작전 jac 계산, 이후 iter때마다 계산하여 총 3번\n",
    "-   status: 0\n",
    "-  success: True\n",
    "-        x: array([1.99999999])"
   ]
  },
  {
   "cell_type": "markdown",
   "id": "valid-scene",
   "metadata": {},
   "source": [
    "### `jac` 인수를 수작업으로 넣어주면?\n",
    "- `nfev` 호출횟수 감소\n",
    "- `njev` 자코비안 활용으로 속도 향상"
   ]
  },
  {
   "cell_type": "code",
   "execution_count": 18,
   "id": "comparable-american",
   "metadata": {},
   "outputs": [
    {
     "name": "stdout",
     "output_type": "stream",
     "text": [
      "      fun: 2.0\n",
      " hess_inv: array([[0.5]])\n",
      "      jac: array([0.])\n",
      "  message: 'Optimization terminated successfully.'\n",
      "     nfev: 3\n",
      "      nit: 2\n",
      "     njev: 3\n",
      "   status: 0\n",
      "  success: True\n",
      "        x: array([2.])\n"
     ]
    }
   ],
   "source": [
    "def f1p(x):\n",
    "    \"\"\"f1(x)의 도함수\"\"\"\n",
    "    return 2 * (x - 2)\n",
    "\n",
    "result = sp.optimize.minimize(f1, x0, jac=f1p)\n",
    "print(result)"
   ]
  },
  {
   "cell_type": "code",
   "execution_count": null,
   "id": "banner-label",
   "metadata": {},
   "outputs": [],
   "source": []
  },
  {
   "cell_type": "markdown",
   "id": "metropolitan-bachelor",
   "metadata": {},
   "source": [
    "## 예제\n",
    "\n",
    "다변수 함수를 최적화하는 경우에는 목적함수가 벡터 인수를 가져야 한다."
   ]
  },
  {
   "cell_type": "code",
   "execution_count": 21,
   "id": "broken-degree",
   "metadata": {},
   "outputs": [
    {
     "name": "stdout",
     "output_type": "stream",
     "text": [
      "      fun: 1.9756022361030668e-11\n",
      " hess_inv: array([[0.50913289, 1.01823656],\n",
      "       [1.01823656, 2.04141475]])\n",
      "      jac: array([ 1.02142751e-07, -1.74410930e-08])\n",
      "  message: 'Optimization terminated successfully.'\n",
      "     nfev: 216\n",
      "      nit: 56\n",
      "     njev: 72\n",
      "   status: 0\n",
      "  success: True\n",
      "        x: array([0.99999556, 0.9999911 ])\n"
     ]
    }
   ],
   "source": [
    "# 2차원 목적함수 재정의(벡터 입력을 받도록)\n",
    "def f2(x):\n",
    "    return (1 - x[0])**2 + 100.0 * (x[1] - x[0]**2)**2\n",
    "\n",
    "x0 = (-2, -2)\n",
    "result = sp.optimize.minimize(f2, x0)\n",
    "print(result)"
   ]
  },
  {
   "cell_type": "code",
   "execution_count": null,
   "id": "split-delaware",
   "metadata": {},
   "outputs": [],
   "source": []
  },
  {
   "cell_type": "markdown",
   "id": "corporate-transportation",
   "metadata": {},
   "source": [
    "### 연습문제 5.1.1\n",
    "2차원 로젠브록 함수에 대해\n",
    "1. 초기점 변경하여 보기\n",
    "2. 그레디언트 벡터 함수를 구현하여 `jac` 인수로 주는 방법으로 계산속도 향상시키기"
   ]
  },
  {
   "cell_type": "code",
   "execution_count": 22,
   "id": "registered-finder",
   "metadata": {},
   "outputs": [
    {
     "name": "stdout",
     "output_type": "stream",
     "text": [
      "      fun: 2.8440316101421118e-11\n",
      " hess_inv: array([[0.49482454, 0.98957634],\n",
      "       [0.98957634, 1.98394215]])\n",
      "      jac: array([ 3.98673709e-06, -2.84416559e-06])\n",
      "  message: 'Optimization terminated successfully.'\n",
      "     nfev: 72\n",
      "      nit: 19\n",
      "     njev: 24\n",
      "   status: 0\n",
      "  success: True\n",
      "        x: array([0.99999467, 0.99998932])\n"
     ]
    }
   ],
   "source": [
    "# 1 초기점 변경 --- 목적함수 호출횟수 216 -> 72회 감소\n",
    "\n",
    "def f2(x):\n",
    "    return (1 - x[0])**2 + 100.0 * (x[1] - x[0]**2)**2\n",
    "\n",
    "x0 = (0, 0)\n",
    "result = sp.optimize.minimize(f2, x0)\n",
    "print(result)"
   ]
  },
  {
   "cell_type": "code",
   "execution_count": 27,
   "id": "certified-inventory",
   "metadata": {},
   "outputs": [
    {
     "name": "stdout",
     "output_type": "stream",
     "text": [
      "      fun: 7.717288259650214e-13\n",
      " hess_inv: array([[0.49480256, 0.98953879],\n",
      "       [0.98953879, 1.98387918]])\n",
      "      jac: array([ 3.92841204e-06, -2.83120876e-06])\n",
      "  message: 'Optimization terminated successfully.'\n",
      "     nfev: 24\n",
      "      nit: 19\n",
      "     njev: 24\n",
      "   status: 0\n",
      "  success: True\n",
      "        x: array([0.99999913, 0.99999825])\n"
     ]
    }
   ],
   "source": [
    "# 2 그레디언트 벡터 함수 구현\n",
    "\n",
    "def f2p(x):\n",
    "    \"\"\"f2(x)의 도함수\"\"\"\n",
    "    x0, x1 = x[0], x[1]\n",
    "    f2p_x0 = -2.0 + 2.0*x0 + 100.0*(-4*x0*x1 + 4*x0**3)\n",
    "    f2p_x1 = 100.0*(2.0*x1 - 2*x0**2.0)\n",
    "    return [f2p_x0, f2p_x1]\n",
    "    #return np.array((2.0**x[0]-1)-400.0*x[0]*(x[1]-x[0]**2), 200.0*(x[1]-x[0]**2))\n",
    "\n",
    "x0 = (0, 0)\n",
    "result = sp.optimize.minimize(f2, x0, jac=f2p)\n",
    "print(result)"
   ]
  },
  {
   "cell_type": "code",
   "execution_count": null,
   "id": "vertical-basic",
   "metadata": {},
   "outputs": [],
   "source": []
  },
  {
   "cell_type": "code",
   "execution_count": null,
   "id": "changing-crisis",
   "metadata": {},
   "outputs": [],
   "source": []
  }
 ],
 "metadata": {
  "kernelspec": {
   "display_name": "Python 3",
   "language": "python",
   "name": "python3"
  },
  "language_info": {
   "codemirror_mode": {
    "name": "ipython",
    "version": 3
   },
   "file_extension": ".py",
   "mimetype": "text/x-python",
   "name": "python",
   "nbconvert_exporter": "python",
   "pygments_lexer": "ipython3",
   "version": "3.7.9"
  }
 },
 "nbformat": 4,
 "nbformat_minor": 5
}
