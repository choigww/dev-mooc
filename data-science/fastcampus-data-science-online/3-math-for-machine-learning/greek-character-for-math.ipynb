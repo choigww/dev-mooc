{
 "cells": [
  {
   "cell_type": "code",
   "execution_count": null,
   "metadata": {},
   "outputs": [],
   "source": []
  },
  {
   "cell_type": "markdown",
   "metadata": {},
   "source": [
    "# 1.1 그리스 문자\n",
    "수학에서는 변수의 이름으로 그리스 문자를 많이 사용하므로 그리스 문자를 읽고 쓰는 법을 알아야 한다."
   ]
  },
  {
   "cell_type": "markdown",
   "metadata": {},
   "source": [
    "알파벳 대문자|알파벳 소문자|영어 표기법|한글 표기법|주의점\n",
    "-|-|-|-|-\n",
    "$A$|$\\alpha$|alpha|알파|영어 a와 다르므로 주의\n",
    "$B$|$\\beta$|beta|베타|영어 b와 다르므로 주의\n",
    "$\\Gamma$|$\\gamma$|gamma|감마|영어 r과 다르므로 주의\n",
    "$\\Delta$|$\\delta$|delta|델타|\n",
    "$E$|$\\epsilon$|epsilon|엡실론|영어 e와 다르므로 주의\n",
    "$Z$|$\\zeta$|zeta|제타|\n",
    "$H$|$\\eta$|eta|에타|\n",
    "$\\Theta$|$\\theta$|theta|쎄타|\n",
    "$K$|$\\kappa$|kappa|카파|영어 k와 다르므로 주의\n",
    "$\\Lambda$|$\\lambda$|lambda|람다|\n",
    "$M$|$\\mu$|mu|뮤|\n",
    "$N$|$\\nu$|nu|누|영어 v와 다르므로 주의\n",
    "$\\Xi$|$\\xi$|xi|크사이|\n",
    "$\\Pi$|$\\pi$|pi|파이|\n",
    "$P$|$\\rho$|rho|로|영어 p와 다르므로 주의\n",
    "$\\Sigma$|$\\sigma$|sigma|시그마|숫자 6과 다르므로 주의\n",
    "$T$|$\\tau$|tau|타우|영어 t와 다르므로 주의\n",
    "$\\Phi$|$\\phi$|phi|파이/피|\n",
    "$X$|$\\chi$|chi|카이|영어 x와 다르므로 주의\n",
    "$\\Psi$|$\\psi$|프사이||\n",
    "$\\Omega$|$\\omega$|omega|오메가|영어 w와 다르므로 주의"
   ]
  },
  {
   "cell_type": "code",
   "execution_count": null,
   "metadata": {},
   "outputs": [],
   "source": []
  },
  {
   "cell_type": "markdown",
   "metadata": {},
   "source": [
    "### 연습문제 1.1.1\n",
    "표의 그리스 문자를 종이에 펜으로 2회 이상 반복하여 쓰며 외우자.\n",
    "- 특히 영어표기법(스펠링)은 반드시 외워야 한다(마크다운 활용 등).\n",
    "\n",
    "```markdown\n",
    "$\\alpha$  >>> 문장 내의 인라인 수식 표현\n",
    "$$\\alpha = \\beta$$ >>> 독립된 문단 디스플레이 수식\n",
    "```"
   ]
  },
  {
   "cell_type": "markdown",
   "metadata": {},
   "source": [
    "### 연습문제 1.1.2\n",
    "주피터 노트북을 하나 만들고 인라인 수식과 디스플레이 수식으로 알파부터 오메가까지 써 본다."
   ]
  },
  {
   "cell_type": "code",
   "execution_count": null,
   "metadata": {},
   "outputs": [],
   "source": []
  }
 ],
 "metadata": {
  "kernelspec": {
   "display_name": "Python 3",
   "language": "python",
   "name": "python3"
  },
  "language_info": {
   "codemirror_mode": {
    "name": "ipython",
    "version": 3
   },
   "file_extension": ".py",
   "mimetype": "text/x-python",
   "name": "python",
   "nbconvert_exporter": "python",
   "pygments_lexer": "ipython3",
   "version": "3.8.5"
  }
 },
 "nbformat": 4,
 "nbformat_minor": 4
}
