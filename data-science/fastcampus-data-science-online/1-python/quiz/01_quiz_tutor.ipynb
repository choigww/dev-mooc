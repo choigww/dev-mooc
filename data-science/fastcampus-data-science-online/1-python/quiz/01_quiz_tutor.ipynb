{
 "cells": [
  {
   "cell_type": "markdown",
   "metadata": {
    "colab_type": "text",
    "id": "I9POIj2PT_NW"
   },
   "source": [
    "### map, filter, reduce\n",
    "- 아래의 코드들이 모두 동작되도록 `# TODO`가 있는 셀에 함수를 작성하세요."
   ]
  },
  {
   "cell_type": "markdown",
   "metadata": {
    "colab_type": "text",
    "id": "ZWf1hXZaT_NX"
   },
   "source": [
    "##### Quiz 1\n",
    "- map 함수를 map_func 함수의 이름으로 구현하세요.\n",
    "- 리스트의 데이터를 아래의 예제와 같이 더하는 함수를 만드는데 따로 함수를 선언해서 사용하지 말고 map의 첫번째 파라미터에 lambda 함수로 구현하세요.\n",
    "\n",
    "```\n",
    "ls1 = [1,2,3,4]\n",
    "ls2 = [5,6,7]\n",
    "ls3 = [9,10,11,12]\n",
    "\n",
    "result = [15, 18, 21]\n",
    "```"
   ]
  },
  {
   "cell_type": "code",
   "execution_count": 3,
   "metadata": {
    "colab": {},
    "colab_type": "code",
    "id": "KX368qnHT_NZ"
   },
   "outputs": [],
   "source": [
    "ls1 = [1,2,3,4]\n",
    "ls2 = [5,6,7]\n",
    "ls3 = [9,10,11,12]"
   ]
  },
  {
   "cell_type": "code",
   "execution_count": 2,
   "metadata": {
    "colab": {},
    "colab_type": "code",
    "id": "kLfT4PN2T_Nc",
    "outputId": "9dde9ec3-45f6-40b8-dca7-62d99b296eed"
   },
   "outputs": [
    {
     "data": {
      "text/plain": [
       "[15, 18, 21]"
      ]
     },
     "execution_count": 2,
     "metadata": {},
     "output_type": "execute_result"
    }
   ],
   "source": [
    "# map 함수 사용\n",
    "list(map(lambda *args : sum(args), ls1, ls2, ls3))"
   ]
  },
  {
   "cell_type": "code",
   "execution_count": 11,
   "metadata": {},
   "outputs": [
    {
     "data": {
      "text/plain": [
       "[1, 2, 3, 4]"
      ]
     },
     "execution_count": 11,
     "metadata": {},
     "output_type": "execute_result"
    }
   ],
   "source": [
    "list(map(lambda *args : sum(args), ls1))"
   ]
  },
  {
   "cell_type": "code",
   "execution_count": 13,
   "metadata": {},
   "outputs": [
    {
     "data": {
      "text/plain": [
       "1"
      ]
     },
     "execution_count": 13,
     "metadata": {},
     "output_type": "execute_result"
    }
   ],
   "source": [
    "sum([1])"
   ]
  },
  {
   "cell_type": "code",
   "execution_count": 5,
   "metadata": {
    "colab": {},
    "colab_type": "code",
    "id": "rTA_b0HIT_Nn"
   },
   "outputs": [],
   "source": [
    "# TODO\n",
    "# map_func 이름으로 map 함수를 구현하세요.\n",
    "\n",
    "\n",
    "def map_func(func, *args):\n",
    "    return [func(*data) for data in zip(*args)]"
   ]
  },
  {
   "cell_type": "code",
   "execution_count": 6,
   "metadata": {
    "colab": {},
    "colab_type": "code",
    "id": "1hOKOy0VT_Nq",
    "outputId": "be3df387-32dd-49dd-c1e5-7cf9c9fb943a"
   },
   "outputs": [
    {
     "data": {
      "text/plain": [
       "[15, 18, 21]"
      ]
     },
     "execution_count": 6,
     "metadata": {},
     "output_type": "execute_result"
    }
   ],
   "source": [
    "# map_func 함수 사용\n",
    "map_func(lambda *args : sum(args), ls1, ls2, ls3)"
   ]
  },
  {
   "cell_type": "markdown",
   "metadata": {
    "colab_type": "text",
    "id": "tSjZBPRGT_Nt"
   },
   "source": [
    "### Quiz 2\n",
    "- filter 함수를 구현하여 1~10까지 숫자에서 홀수만 출력하는 코드를 작성하세요\n",
    "```\n",
    "ls = range(1, 11)\n",
    "result = [1, 3, 5, 7, 9]\n",
    "```"
   ]
  },
  {
   "cell_type": "code",
   "execution_count": 9,
   "metadata": {
    "colab": {},
    "colab_type": "code",
    "id": "P0QsmCZWT_Nu"
   },
   "outputs": [],
   "source": [
    "ls = range(1, 11)"
   ]
  },
  {
   "cell_type": "code",
   "execution_count": 57,
   "metadata": {
    "colab": {},
    "colab_type": "code",
    "id": "lhEYKPfxT_N0",
    "outputId": "8fafd155-5c25-4ec8-9f6f-101e56ff57a0"
   },
   "outputs": [
    {
     "data": {
      "text/plain": [
       "[1, 3, 5, 7, 9]"
      ]
     },
     "execution_count": 57,
     "metadata": {},
     "output_type": "execute_result"
    }
   ],
   "source": [
    "# filter 함수 사용\n",
    "list(filter(lambda number: number % 2, ls))"
   ]
  },
  {
   "cell_type": "code",
   "execution_count": 15,
   "metadata": {
    "colab": {},
    "colab_type": "code",
    "id": "G3W1jj5yT_N2"
   },
   "outputs": [],
   "source": [
    "# TODO\n",
    "# filter_func 이름으로 filter 함수를 구현하세요.\n",
    "\n",
    "def filter_func(func, data):\n",
    "    return [d for d in data if func(d)]"
   ]
  },
  {
   "cell_type": "code",
   "execution_count": 16,
   "metadata": {
    "colab": {},
    "colab_type": "code",
    "id": "_MN305e2T_N7",
    "outputId": "a6113c79-2c4a-4336-a9bb-9c07bca9bfcd"
   },
   "outputs": [
    {
     "data": {
      "text/plain": [
       "[1, 3, 5, 7, 9]"
      ]
     },
     "execution_count": 16,
     "metadata": {},
     "output_type": "execute_result"
    }
   ],
   "source": [
    "# filter_func 함수 사용\n",
    "filter_func(lambda number: number % 2, ls)"
   ]
  },
  {
   "cell_type": "markdown",
   "metadata": {
    "colab_type": "text",
    "id": "R-IGYC8hT_N9"
   },
   "source": [
    "### Quiz\n",
    "- reduce 함수를 구현\n",
    "\n",
    "```\n",
    "ls = [1, 2, 3, 4, 5]\n",
    "def reduce_func():\n",
    "    #TODO\n",
    "    \n",
    "reduce_func(lambda num1, num2: num1 + num2, ls)\n",
    "result => 15\n",
    "```\n",
    "\n",
    "- 힌트\n",
    "\n",
    "```\n",
    "ls = [1, 2, 3]\n",
    "del ls[0]\n",
    "ls => [2, 3]\n",
    "```"
   ]
  },
  {
   "cell_type": "code",
   "execution_count": 84,
   "metadata": {
    "colab": {},
    "colab_type": "code",
    "id": "8kQoBkmBT_N-"
   },
   "outputs": [],
   "source": [
    "from functools import reduce"
   ]
  },
  {
   "cell_type": "code",
   "execution_count": 115,
   "metadata": {
    "colab": {},
    "colab_type": "code",
    "id": "gieVEw4xT_OB"
   },
   "outputs": [],
   "source": [
    "ls = [1, 2, 3, 4, 5]"
   ]
  },
  {
   "cell_type": "code",
   "execution_count": 86,
   "metadata": {
    "colab": {},
    "colab_type": "code",
    "id": "tqC-J-g_T_OE",
    "outputId": "d6e20528-4700-47ae-f54e-928e19ed0fe3"
   },
   "outputs": [
    {
     "data": {
      "text/plain": [
       "15"
      ]
     },
     "execution_count": 86,
     "metadata": {},
     "output_type": "execute_result"
    }
   ],
   "source": [
    "# reduce 함수 사용\n",
    "reduce(lambda num1, num2: num1 + num2, ls)"
   ]
  },
  {
   "cell_type": "code",
   "execution_count": 17,
   "metadata": {
    "colab": {},
    "colab_type": "code",
    "id": "sxF0rdaAT_OH"
   },
   "outputs": [],
   "source": [
    "# TODO\n",
    "# reduce_func 이름으로 reduce 함수를 구현하세요.\n",
    "\n",
    "def reduce_func(func, ls):\n",
    "    result = ls[0]\n",
    "    del ls[0]\n",
    "    for data in ls:\n",
    "        result = func(result, data)\n",
    "    return result"
   ]
  },
  {
   "cell_type": "code",
   "execution_count": 18,
   "metadata": {
    "colab": {},
    "colab_type": "code",
    "id": "Fc7e6M6CT_OJ",
    "outputId": "b9c4b9b6-0167-43cf-8882-8a3b5dbcc9a2"
   },
   "outputs": [
    {
     "data": {
      "text/plain": [
       "15"
      ]
     },
     "execution_count": 18,
     "metadata": {},
     "output_type": "execute_result"
    }
   ],
   "source": [
    "# reduce_func 함수 사용\n",
    "ls = [1, 2, 3, 4, 5]\n",
    "reduce_func(lambda num1, num2: num1 + num2, ls)"
   ]
  },
  {
   "cell_type": "code",
   "execution_count": null,
   "metadata": {},
   "outputs": [],
   "source": []
  }
 ],
 "metadata": {
  "colab": {
   "name": "01_quiz.ipynb",
   "provenance": []
  },
  "kernelspec": {
   "display_name": "Python 3",
   "language": "python",
   "name": "python3"
  },
  "language_info": {
   "codemirror_mode": {
    "name": "ipython",
    "version": 3
   },
   "file_extension": ".py",
   "mimetype": "text/x-python",
   "name": "python",
   "nbconvert_exporter": "python",
   "pygments_lexer": "ipython3",
   "version": "3.8.5"
  },
  "license": "Copyright 2019. Doo Jin Park. All rights reserved."
 },
 "nbformat": 4,
 "nbformat_minor": 1
}
