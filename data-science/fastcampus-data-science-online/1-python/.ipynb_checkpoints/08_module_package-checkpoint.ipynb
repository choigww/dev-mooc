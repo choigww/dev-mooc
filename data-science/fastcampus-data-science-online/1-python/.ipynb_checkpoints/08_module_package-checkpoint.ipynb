{
 "cells": [
  {
   "cell_type": "markdown",
   "metadata": {},
   "source": [
    "### table\n",
    "- [1. Integer Object](#Integer-Object)\n",
    "- [2. 계좌 클래스 만들기](#계좌-클래스-만들기)\n",
    "- [3. Module](#Module)\n",
    "- [4. Package](#Package)\n",
    "- [5. 패키지 위치](#패키지-위치)"
   ]
  },
  {
   "cell_type": "code",
   "execution_count": null,
   "metadata": {},
   "outputs": [],
   "source": []
  },
  {
   "cell_type": "markdown",
   "metadata": {},
   "source": [
    "### Summary\n",
    "- 상속 : 다른 클래스를 받아서 기능을 추가해서 새로운 클래스를 만드는 방법\n",
    "- super : 부모 클래스에서 특정 함수의 코드를 가져오는 방법\n",
    "- getter, setter : 클래스로 만들어진 객체에 변수값을 수정하거나 출력할 때 특정 함수를 통해서 수정하고 출력하는 방법\n",
    "- non public (private) : mangling `__` : `_(클래스명)__` 이 붙은 변수로 객체를 생성할 때 변경되어 생성\n",
    "- is a / has a : 클래스를 설계하는 방법 (상속 or 보유)\n",
    "- magic(special) method\n",
    "    1. 비교\n",
    "        - `__eq__`(==), `__ne__`(!=), `__lt__`(<), `__gt__`(>), `__le__`(<=), `__ge__`(>=)\n",
    "    2. 연산\n",
    "        - `__add__`, `__sub__`, `__mul__`, `__truediv__`\n",
    "        - `__floordiv__`(//), `__mod__`(%), `__pow__`(**)\n",
    "    3. 그 외 : `__repr__`, `__str__`"
   ]
  },
  {
   "cell_type": "code",
   "execution_count": null,
   "metadata": {},
   "outputs": [],
   "source": []
  },
  {
   "cell_type": "markdown",
   "metadata": {},
   "source": [
    "# Integer Object"
   ]
  },
  {
   "cell_type": "code",
   "execution_count": 13,
   "metadata": {},
   "outputs": [],
   "source": [
    "class Integer:\n",
    "    def __init__(self, number):\n",
    "        self.number = number\n",
    "        \n",
    "    def __add__(self, obj):\n",
    "        return self.number + obj.number\n",
    "    \n",
    "    def __repr__(self):\n",
    "        return str(self.number)\n",
    "    \n",
    "    def __str__(self):\n",
    "        return str(self.number)"
   ]
  },
  {
   "cell_type": "code",
   "execution_count": 15,
   "metadata": {},
   "outputs": [],
   "source": [
    "num1 = Integer(1)\n",
    "num2 = Integer(2)"
   ]
  },
  {
   "cell_type": "code",
   "execution_count": 16,
   "metadata": {},
   "outputs": [
    {
     "data": {
      "text/plain": [
       "3"
      ]
     },
     "execution_count": 16,
     "metadata": {},
     "output_type": "execute_result"
    }
   ],
   "source": [
    "num1 + num2"
   ]
  },
  {
   "cell_type": "code",
   "execution_count": 17,
   "metadata": {},
   "outputs": [
    {
     "data": {
      "text/plain": [
       "1"
      ]
     },
     "execution_count": 17,
     "metadata": {},
     "output_type": "execute_result"
    }
   ],
   "source": [
    "num1"
   ]
  },
  {
   "cell_type": "code",
   "execution_count": 18,
   "metadata": {},
   "outputs": [
    {
     "name": "stdout",
     "output_type": "stream",
     "text": [
      "1\n"
     ]
    }
   ],
   "source": [
    "print(num1)"
   ]
  },
  {
   "cell_type": "code",
   "execution_count": null,
   "metadata": {},
   "outputs": [],
   "source": []
  },
  {
   "cell_type": "markdown",
   "metadata": {},
   "source": [
    "# 계좌 클래스 만들기\n",
    "- 변수 : asset, interest\n",
    "- 함수 : draw, insert, add_interest\n",
    "    - 인출 시 자산을 초과하는 돈을 인출할 수 없습니다."
   ]
  },
  {
   "cell_type": "code",
   "execution_count": 70,
   "metadata": {},
   "outputs": [],
   "source": [
    "class Account:\n",
    "    def __init__(self, asset, interest):\n",
    "        self.asset = asset\n",
    "        self.interest = interest\n",
    "        \n",
    "    def draw(self, money_to_draw):\n",
    "        if self.asset >= money_to_draw:\n",
    "            self.asset -= money_to_draw\n",
    "            print(f\"{money_to_draw} 인출 완료되었습니다.\")\n",
    "            print(f\"현재 잔고는 {self.asset}원 입니다.\")\n",
    "            return money_to_draw\n",
    "        else:\n",
    "            print(f'잔액 부족: {money_to_draw - self.asset}원')\n",
    "            \n",
    "    def insert(self, money_to_insert):\n",
    "        self.asset += money_to_insert\n",
    "        print(f\"{money_to_insert}원 입금 완료되었습니다.\")\n",
    "        print(f\"현재 잔고는 {self.asset}원 입니다.\")\n",
    "        \n",
    "    def add_interest(self, interest_to_add):\n",
    "        self.interest += interest_to_add\n",
    "        print(f\"이자율이 {interest_to_add*100}% 상향되었습니다.\")\n",
    "        print(f\"현재 이자율은 {self.interest*100}% 입니다.\")\n",
    "        \n",
    "    def get_interest(self):\n",
    "        print(f\"이자가 지급되었습니다 : {self.asset * self.interest}원\")\n",
    "        self.asset += (self.asset * self.interest)\n",
    "        print(f\"현재 잔고는 {self.asset}원 입니다.\")\n",
    "        \n",
    "    def __repr__(self):\n",
    "        return f\"Account(asset: {self.asset}, interest: {self.interest})\""
   ]
  },
  {
   "cell_type": "code",
   "execution_count": 71,
   "metadata": {},
   "outputs": [],
   "source": [
    "account1 = Account(5000000, 0.02)"
   ]
  },
  {
   "cell_type": "code",
   "execution_count": 72,
   "metadata": {},
   "outputs": [
    {
     "data": {
      "text/plain": [
       "Account(asset: 5000000, interest: 0.02)"
      ]
     },
     "execution_count": 72,
     "metadata": {},
     "output_type": "execute_result"
    }
   ],
   "source": [
    "account1"
   ]
  },
  {
   "cell_type": "code",
   "execution_count": 73,
   "metadata": {},
   "outputs": [
    {
     "name": "stdout",
     "output_type": "stream",
     "text": [
      "35000 인출 완료되었습니다.\n",
      "현재 잔고는 4965000원 입니다.\n"
     ]
    },
    {
     "data": {
      "text/plain": [
       "35000"
      ]
     },
     "execution_count": 73,
     "metadata": {},
     "output_type": "execute_result"
    }
   ],
   "source": [
    "account1.draw(35000)"
   ]
  },
  {
   "cell_type": "code",
   "execution_count": 74,
   "metadata": {},
   "outputs": [
    {
     "name": "stdout",
     "output_type": "stream",
     "text": [
      "675000원 입금 완료되었습니다.\n",
      "현재 잔고는 5640000원 입니다.\n"
     ]
    }
   ],
   "source": [
    "account1.insert(675000)"
   ]
  },
  {
   "cell_type": "code",
   "execution_count": 75,
   "metadata": {},
   "outputs": [
    {
     "name": "stdout",
     "output_type": "stream",
     "text": [
      "이자율이 1.0% 상향되었습니다.\n",
      "현재 이자율은 3.0% 입니다.\n"
     ]
    }
   ],
   "source": [
    "account1.add_interest(0.01)"
   ]
  },
  {
   "cell_type": "code",
   "execution_count": 76,
   "metadata": {},
   "outputs": [
    {
     "name": "stdout",
     "output_type": "stream",
     "text": [
      "잔액 부족: 1860000원\n"
     ]
    }
   ],
   "source": [
    "account1.draw(7500000)"
   ]
  },
  {
   "cell_type": "code",
   "execution_count": 77,
   "metadata": {},
   "outputs": [
    {
     "data": {
      "text/plain": [
       "Account(asset: 5640000, interest: 0.03)"
      ]
     },
     "execution_count": 77,
     "metadata": {},
     "output_type": "execute_result"
    }
   ],
   "source": [
    "account1"
   ]
  },
  {
   "cell_type": "code",
   "execution_count": 78,
   "metadata": {},
   "outputs": [
    {
     "name": "stdout",
     "output_type": "stream",
     "text": [
      "이자가 지급되었습니다 : 169200.0원\n",
      "현재 잔고는 5809200.0원 입니다.\n"
     ]
    }
   ],
   "source": [
    "account1.get_interest()"
   ]
  },
  {
   "cell_type": "code",
   "execution_count": null,
   "metadata": {},
   "outputs": [],
   "source": []
  },
  {
   "cell_type": "markdown",
   "metadata": {},
   "source": [
    "# Module\n",
    "- **모듈** : 변수, 함수, 클래스를 모아놓은 .py 확장자를 가진 파일\n",
    "    - **패키지** : 모듈의 상위 개념, 모듈 기능을 디렉토리별로 정리해 놓은 묶음 단위"
   ]
  },
  {
   "cell_type": "markdown",
   "metadata": {},
   "source": [
    "1. 모듈\n",
    "- 모듈 생성\n",
    "- 모듈 호출"
   ]
  },
  {
   "cell_type": "code",
   "execution_count": 80,
   "metadata": {},
   "outputs": [
    {
     "name": "stdout",
     "output_type": "stream",
     "text": [
      "01_jupyter_notebook.ipynb 04_function.ipynb         07_class_2.ipynb\r\n",
      "02_basic_syntax.ipynb     05_function_2.ipynb       08_module_package.ipynb\r\n",
      "03_conditoin_loop.ipynb   06_class_1.ipynb\r\n"
     ]
    }
   ],
   "source": [
    "!ls"
   ]
  },
  {
   "cell_type": "markdown",
   "metadata": {},
   "source": [
    "### 모듈 작성 및 저장"
   ]
  },
  {
   "cell_type": "code",
   "execution_count": 81,
   "metadata": {},
   "outputs": [
    {
     "name": "stdout",
     "output_type": "stream",
     "text": [
      "Writing dss.py\n"
     ]
    }
   ],
   "source": [
    "%%writefile dss.py\n",
    "\n",
    "num = 123\n",
    "\n",
    "def disp1(msg):\n",
    "    print(\"disp1\", msg)\n",
    "    \n",
    "def disp2(msg):\n",
    "    print(\"disp2\", msg)\n",
    "    \n",
    "class Calc:\n",
    "    def plus(self, *args):\n",
    "        return sum(args)"
   ]
  },
  {
   "cell_type": "code",
   "execution_count": 82,
   "metadata": {},
   "outputs": [
    {
     "name": "stdout",
     "output_type": "stream",
     "text": [
      "01_jupyter_notebook.ipynb 04_function.ipynb         07_class_2.ipynb\r\n",
      "02_basic_syntax.ipynb     05_function_2.ipynb       08_module_package.ipynb\r\n",
      "03_conditoin_loop.ipynb   06_class_1.ipynb          dss.py\r\n"
     ]
    }
   ],
   "source": [
    "!ls"
   ]
  },
  {
   "cell_type": "code",
   "execution_count": 83,
   "metadata": {},
   "outputs": [
    {
     "name": "stdout",
     "output_type": "stream",
     "text": [
      "Once deleted, variables cannot be recovered. Proceed (y/[n])? y\n"
     ]
    }
   ],
   "source": [
    "# 현재까지 선언된 변수, 객체 초기화\n",
    "%reset"
   ]
  },
  {
   "cell_type": "markdown",
   "metadata": {},
   "source": [
    "### 모듈 불러오기"
   ]
  },
  {
   "cell_type": "code",
   "execution_count": 84,
   "metadata": {},
   "outputs": [],
   "source": [
    "import dss"
   ]
  },
  {
   "cell_type": "code",
   "execution_count": 85,
   "metadata": {},
   "outputs": [
    {
     "name": "stdout",
     "output_type": "stream",
     "text": [
      "Variable   Type      Data/Info\n",
      "------------------------------\n",
      "dss        module    <module 'dss' from '/User<...>-online/1-python/dss.py'>\n"
     ]
    }
   ],
   "source": [
    "%whos"
   ]
  },
  {
   "cell_type": "code",
   "execution_count": 87,
   "metadata": {},
   "outputs": [
    {
     "name": "stdout",
     "output_type": "stream",
     "text": [
      "disp1 python\n"
     ]
    }
   ],
   "source": [
    "dss.disp1(\"python\")"
   ]
  },
  {
   "cell_type": "code",
   "execution_count": 88,
   "metadata": {},
   "outputs": [],
   "source": [
    "calc = dss.Calc()"
   ]
  },
  {
   "cell_type": "code",
   "execution_count": 89,
   "metadata": {},
   "outputs": [
    {
     "data": {
      "text/plain": [
       "11"
      ]
     },
     "execution_count": 89,
     "metadata": {},
     "output_type": "execute_result"
    }
   ],
   "source": [
    "calc.plus(1, 5, 2, 3)"
   ]
  },
  {
   "cell_type": "code",
   "execution_count": null,
   "metadata": {},
   "outputs": [],
   "source": []
  },
  {
   "cell_type": "code",
   "execution_count": 90,
   "metadata": {},
   "outputs": [],
   "source": [
    "import random"
   ]
  },
  {
   "cell_type": "code",
   "execution_count": 94,
   "metadata": {},
   "outputs": [
    {
     "data": {
      "text/plain": [
       "8"
      ]
     },
     "execution_count": 94,
     "metadata": {},
     "output_type": "execute_result"
    }
   ],
   "source": [
    "random.randint(1, 10)"
   ]
  },
  {
   "cell_type": "code",
   "execution_count": null,
   "metadata": {},
   "outputs": [],
   "source": []
  },
  {
   "cell_type": "markdown",
   "metadata": {},
   "source": [
    "### 모듈 안에 특정 함수, 변수, 클래스 호출"
   ]
  },
  {
   "cell_type": "code",
   "execution_count": 96,
   "metadata": {},
   "outputs": [],
   "source": [
    "from dss import num, disp2"
   ]
  },
  {
   "cell_type": "code",
   "execution_count": 97,
   "metadata": {},
   "outputs": [
    {
     "name": "stdout",
     "output_type": "stream",
     "text": [
      "Variable   Type        Data/Info\n",
      "--------------------------------\n",
      "calc       Calc        <dss.Calc object at 0x10cd76910>\n",
      "disp2      function    <function disp2 at 0x10d6631f0>\n",
      "dss        module      <module 'dss' from '/User<...>-online/1-python/dss.py'>\n",
      "num        int         123\n",
      "random     module      <module 'random' from '/o<...>lib/python3.8/random.py'>\n"
     ]
    }
   ],
   "source": [
    "%whos"
   ]
  },
  {
   "cell_type": "code",
   "execution_count": 98,
   "metadata": {},
   "outputs": [
    {
     "data": {
      "text/plain": [
       "123"
      ]
     },
     "execution_count": 98,
     "metadata": {},
     "output_type": "execute_result"
    }
   ],
   "source": [
    "num"
   ]
  },
  {
   "cell_type": "code",
   "execution_count": 100,
   "metadata": {},
   "outputs": [
    {
     "name": "stdout",
     "output_type": "stream",
     "text": [
      "disp2 pypython\n"
     ]
    }
   ],
   "source": [
    "disp2('pypython')"
   ]
  },
  {
   "cell_type": "code",
   "execution_count": null,
   "metadata": {},
   "outputs": [],
   "source": []
  },
  {
   "cell_type": "markdown",
   "metadata": {},
   "source": [
    "# Package\n",
    "- **패키지** : 모듈의 상위 개념, 모듈 기능을 디렉토리별로 정리해 놓은 묶음 단위\n",
    "    - 패키지 생성\n",
    "    - 패키지 호출\n",
    "    - setup.py 패키지 설치 파일 만들기"
   ]
  },
  {
   "cell_type": "markdown",
   "metadata": {},
   "source": [
    "### 디렉토리 생성"
   ]
  },
  {
   "cell_type": "code",
   "execution_count": 110,
   "metadata": {},
   "outputs": [],
   "source": [
    "!mkdir -p school/dss\n",
    "!mkdir -p school/web"
   ]
  },
  {
   "cell_type": "code",
   "execution_count": 114,
   "metadata": {},
   "outputs": [
    {
     "name": "stdout",
     "output_type": "stream",
     "text": [
      "Example usage:\r\n",
      "  brew search [TEXT|/REGEX/]\r\n",
      "  brew info [FORMULA...]\r\n",
      "  brew install FORMULA...\r\n",
      "  brew update\r\n",
      "  brew upgrade [FORMULA...]\r\n",
      "  brew uninstall FORMULA...\r\n",
      "  brew list [FORMULA...]\r\n",
      "\r\n",
      "Troubleshooting:\r\n",
      "  brew config\r\n",
      "  brew doctor\r\n",
      "  brew install --verbose --debug FORMULA\r\n",
      "\r\n",
      "Contributing:\r\n",
      "  brew create [URL [--no-fetch]]\r\n",
      "  brew edit [FORMULA...]\r\n",
      "\r\n",
      "Further help:\r\n",
      "  brew commands\r\n",
      "  brew help [COMMAND]\r\n",
      "  man brew\r\n",
      "  https://docs.brew.sh\r\n"
     ]
    }
   ],
   "source": [
    "!brew"
   ]
  },
  {
   "cell_type": "code",
   "execution_count": 115,
   "metadata": {},
   "outputs": [
    {
     "name": "stdout",
     "output_type": "stream",
     "text": [
      "Updating Homebrew...\n",
      "\u001b[34m==>\u001b[0m \u001b[1mAuto-updated Homebrew!\u001b[0m\n",
      "Updated 1 tap (homebrew/core).\n",
      "\u001b[34m==>\u001b[0m \u001b[1mNew Formulae\u001b[0m\n",
      "cargo-audit         h2spec              libxml++@5          pkger\n",
      "cargo-watch         hblock              logswan             rttr\n",
      "counterfeiter       jpeg-xl             massdns             ruby@2.7\n",
      "dnsx                keptn               md4c                sqlc\n",
      "dprint              libpinyin           mermaid-cli         tgenv\n",
      "driftctl            libva               mockery             xcb-util-cursor\n",
      "efm-langserver      libvdpau            ocaml-zarith        ykdl\n",
      "grokj2k             libxml++@4          openalpr            yq@3\n",
      "\u001b[34m==>\u001b[0m \u001b[1mUpdated Formulae\u001b[0m\n",
      "Updated 3968 formulae.\n",
      "\u001b[34m==>\u001b[0m \u001b[1mRenamed Formulae\u001b[0m\n",
      "gtk+4 -> gtk4\n",
      "\u001b[34m==>\u001b[0m \u001b[1mDeleted Formulae\u001b[0m\n",
      "gobby                                    godep\n",
      "\n",
      "\u001b[34m==>\u001b[0m \u001b[1mDownloading https://homebrew.bintray.com/bottles/tree-1.8.0.mojave.bottle.ta\u001b[0m\n",
      "######################################################################## 100.0%\n",
      "\u001b[34m==>\u001b[0m \u001b[1mPouring tree-1.8.0.mojave.bottle.tar.gz\u001b[0m\n",
      "🍺  /usr/local/Cellar/tree/1.8.0: 8 files, 117.1KB\n"
     ]
    }
   ],
   "source": [
    "!brew install tree"
   ]
  },
  {
   "cell_type": "code",
   "execution_count": 116,
   "metadata": {},
   "outputs": [
    {
     "name": "stdout",
     "output_type": "stream",
     "text": [
      "\u001b[01;34mschool\u001b[00m\r\n",
      "├── \u001b[01;34mdss\u001b[00m\r\n",
      "└── \u001b[01;34mweb\u001b[00m\r\n",
      "\r\n",
      "2 directories, 0 files\r\n"
     ]
    }
   ],
   "source": [
    "!tree school"
   ]
  },
  {
   "cell_type": "code",
   "execution_count": 117,
   "metadata": {},
   "outputs": [
    {
     "name": "stdout",
     "output_type": "stream",
     "text": [
      "/Users/choigww/workspace/dev-mooc/fastcampus-data-science-online/1-python\r\n"
     ]
    }
   ],
   "source": [
    "!pwd"
   ]
  },
  {
   "cell_type": "markdown",
   "metadata": {},
   "source": [
    "### 패키지 사용시 디렉토리에 __init__.py 파일 추가\n",
    "- python 3.3 버전 이상에서는 필요 없음"
   ]
  },
  {
   "cell_type": "code",
   "execution_count": 120,
   "metadata": {},
   "outputs": [],
   "source": [
    "!touch school/dss/__init__.py\n",
    "!touch school/dss/__init__.py"
   ]
  },
  {
   "cell_type": "code",
   "execution_count": null,
   "metadata": {},
   "outputs": [],
   "source": []
  },
  {
   "cell_type": "markdown",
   "metadata": {},
   "source": [
    "### 패키지 작성"
   ]
  },
  {
   "cell_type": "code",
   "execution_count": 121,
   "metadata": {},
   "outputs": [
    {
     "name": "stdout",
     "output_type": "stream",
     "text": [
      "Writing school/dss/data1.py\n"
     ]
    }
   ],
   "source": [
    "%%writefile school/dss/data1.py\n",
    "\n",
    "def plus(*args):\n",
    "    print(\"data1\")\n",
    "    return sum(args)"
   ]
  },
  {
   "cell_type": "code",
   "execution_count": 122,
   "metadata": {},
   "outputs": [
    {
     "name": "stdout",
     "output_type": "stream",
     "text": [
      "Writing school/dss/data2.py\n"
     ]
    }
   ],
   "source": [
    "%%writefile school/dss/data2.py\n",
    "\n",
    "def plus2(*args):\n",
    "    print(\"data2\")\n",
    "    return sum(args)"
   ]
  },
  {
   "cell_type": "code",
   "execution_count": 123,
   "metadata": {},
   "outputs": [
    {
     "name": "stdout",
     "output_type": "stream",
     "text": [
      "Writing school/web/url.py\n"
     ]
    }
   ],
   "source": [
    "%%writefile school/web/url.py\n",
    "\n",
    "def make(url):\n",
    "    return url if url[:7] == 'http://' else \"http://\" + url"
   ]
  },
  {
   "cell_type": "code",
   "execution_count": 124,
   "metadata": {},
   "outputs": [
    {
     "name": "stdout",
     "output_type": "stream",
     "text": [
      "\u001b[01;34mschool\u001b[00m\r\n",
      "├── \u001b[01;34mdss\u001b[00m\r\n",
      "│   ├── __init__.py\r\n",
      "│   ├── data1.py\r\n",
      "│   └── data2.py\r\n",
      "└── \u001b[01;34mweb\u001b[00m\r\n",
      "    └── url.py\r\n",
      "\r\n",
      "2 directories, 4 files\r\n"
     ]
    }
   ],
   "source": [
    "!tree school"
   ]
  },
  {
   "cell_type": "code",
   "execution_count": null,
   "metadata": {},
   "outputs": [],
   "source": []
  },
  {
   "cell_type": "code",
   "execution_count": 125,
   "metadata": {},
   "outputs": [
    {
     "name": "stdout",
     "output_type": "stream",
     "text": [
      "Once deleted, variables cannot be recovered. Proceed (y/[n])? y\n"
     ]
    }
   ],
   "source": [
    "%reset"
   ]
  },
  {
   "cell_type": "code",
   "execution_count": 126,
   "metadata": {},
   "outputs": [],
   "source": [
    "import school.dss.data1"
   ]
  },
  {
   "cell_type": "code",
   "execution_count": 127,
   "metadata": {},
   "outputs": [
    {
     "name": "stdout",
     "output_type": "stream",
     "text": [
      "Variable   Type      Data/Info\n",
      "------------------------------\n",
      "school     module    <module 'school' (namespace)>\n"
     ]
    }
   ],
   "source": [
    "whos"
   ]
  },
  {
   "cell_type": "code",
   "execution_count": 129,
   "metadata": {},
   "outputs": [
    {
     "name": "stdout",
     "output_type": "stream",
     "text": [
      "data1\n"
     ]
    },
    {
     "data": {
      "text/plain": [
       "15"
      ]
     },
     "execution_count": 129,
     "metadata": {},
     "output_type": "execute_result"
    }
   ],
   "source": [
    "school.dss.data1.plus(1, 2, 5, 7)"
   ]
  },
  {
   "cell_type": "code",
   "execution_count": 130,
   "metadata": {},
   "outputs": [],
   "source": [
    "import school.dss.data1 as dssd1"
   ]
  },
  {
   "cell_type": "code",
   "execution_count": 132,
   "metadata": {},
   "outputs": [
    {
     "name": "stdout",
     "output_type": "stream",
     "text": [
      "data1\n"
     ]
    },
    {
     "data": {
      "text/plain": [
       "16"
      ]
     },
     "execution_count": 132,
     "metadata": {},
     "output_type": "execute_result"
    }
   ],
   "source": [
    "dssd1.plus(1, 5, 10)"
   ]
  },
  {
   "cell_type": "code",
   "execution_count": null,
   "metadata": {},
   "outputs": [],
   "source": []
  },
  {
   "cell_type": "markdown",
   "metadata": {},
   "source": [
    "### school.web : 디렉토리\n",
    "### url : 모듈"
   ]
  },
  {
   "cell_type": "code",
   "execution_count": 133,
   "metadata": {},
   "outputs": [],
   "source": [
    "from school.web import url"
   ]
  },
  {
   "cell_type": "code",
   "execution_count": 134,
   "metadata": {},
   "outputs": [
    {
     "data": {
      "text/plain": [
       "'http://google.com'"
      ]
     },
     "execution_count": 134,
     "metadata": {},
     "output_type": "execute_result"
    }
   ],
   "source": [
    "url.make('google.com')"
   ]
  },
  {
   "cell_type": "code",
   "execution_count": 136,
   "metadata": {},
   "outputs": [
    {
     "data": {
      "text/plain": [
       "'http://naver.com'"
      ]
     },
     "execution_count": 136,
     "metadata": {},
     "output_type": "execute_result"
    }
   ],
   "source": [
    "url.make('http://naver.com')"
   ]
  },
  {
   "cell_type": "code",
   "execution_count": null,
   "metadata": {},
   "outputs": [],
   "source": []
  },
  {
   "cell_type": "markdown",
   "metadata": {},
   "source": [
    "# 패키지 위치\n",
    "- 특정 이치에 있는 패키지는 어느 경로에 있든 import 가능"
   ]
  },
  {
   "cell_type": "code",
   "execution_count": 137,
   "metadata": {},
   "outputs": [],
   "source": [
    "import random"
   ]
  },
  {
   "cell_type": "code",
   "execution_count": 138,
   "metadata": {},
   "outputs": [
    {
     "name": "stdout",
     "output_type": "stream",
     "text": [
      "01_jupyter_notebook.ipynb  07_class_2.ipynb\r\n",
      "02_basic_syntax.ipynb      08_module_package.ipynb\r\n",
      "03_conditoin_loop.ipynb    \u001b[34m__pycache__\u001b[m\u001b[m/\r\n",
      "04_function.ipynb          dss.py\r\n",
      "05_function_2.ipynb        \u001b[34mschool\u001b[m\u001b[m/\r\n",
      "06_class_1.ipynb\r\n"
     ]
    }
   ],
   "source": [
    "ls"
   ]
  },
  {
   "cell_type": "code",
   "execution_count": 139,
   "metadata": {},
   "outputs": [
    {
     "name": "stdout",
     "output_type": "stream",
     "text": [
      "/Users/choigww/workspace/dev-mooc/fastcampus-data-science-online/1-python\n",
      "/opt/anaconda3/lib/python38.zip\n",
      "/opt/anaconda3/lib/python3.8\n",
      "/opt/anaconda3/lib/python3.8/lib-dynload\n",
      "\n",
      "/opt/anaconda3/lib/python3.8/site-packages\n",
      "/opt/anaconda3/lib/python3.8/site-packages/aeosa\n",
      "/opt/anaconda3/lib/python3.8/site-packages/IPython/extensions\n",
      "/Users/choigww/.ipython\n"
     ]
    }
   ],
   "source": [
    "import sys\n",
    "for path in sys.path:\n",
    "    print(path)"
   ]
  },
  {
   "cell_type": "code",
   "execution_count": 144,
   "metadata": {},
   "outputs": [
    {
     "name": "stdout",
     "output_type": "stream",
     "text": [
      "212 True\n"
     ]
    }
   ],
   "source": [
    "# random 함수는 아래 경로에 있음\n",
    "packages = !ls /opt/anaconda3/lib/python3.8\n",
    "print(len(packages), 'random.py' in packages)"
   ]
  },
  {
   "cell_type": "markdown",
   "metadata": {},
   "source": [
    "### setup.py를 작성해서 패키지 설치 후 사용\n",
    "- setouptools 이용"
   ]
  },
  {
   "cell_type": "code",
   "execution_count": 145,
   "metadata": {},
   "outputs": [
    {
     "name": "stdout",
     "output_type": "stream",
     "text": [
      "\u001b[01;34mschool\u001b[00m\r\n",
      "├── \u001b[01;34mdss\u001b[00m\r\n",
      "│   ├── __init__.py\r\n",
      "│   ├── \u001b[01;34m__pycache__\u001b[00m\r\n",
      "│   │   ├── __init__.cpython-38.pyc\r\n",
      "│   │   └── data1.cpython-38.pyc\r\n",
      "│   ├── data1.py\r\n",
      "│   └── data2.py\r\n",
      "└── \u001b[01;34mweb\u001b[00m\r\n",
      "    ├── \u001b[01;34m__pycache__\u001b[00m\r\n",
      "    │   └── url.cpython-38.pyc\r\n",
      "    └── url.py\r\n",
      "\r\n",
      "4 directories, 7 files\r\n"
     ]
    }
   ],
   "source": [
    "!tree school"
   ]
  },
  {
   "cell_type": "code",
   "execution_count": 172,
   "metadata": {},
   "outputs": [
    {
     "name": "stdout",
     "output_type": "stream",
     "text": [
      "Overwriting school/dss/__init__.py\n"
     ]
    }
   ],
   "source": [
    "%%writefile school/dss/__init__.py\n",
    "\n",
    "__all__ = [\"data1\", \"data2\"]"
   ]
  },
  {
   "cell_type": "code",
   "execution_count": 167,
   "metadata": {},
   "outputs": [
    {
     "name": "stdout",
     "output_type": "stream",
     "text": [
      "Overwriting school/setup.py\n"
     ]
    }
   ],
   "source": [
    "%%writefile school/setup.py\n",
    "\n",
    "from setuptools import setup, find_packages\n",
    "\n",
    "setup(\n",
    "    name = \"dss\",\n",
    "    packages = find_packages(),\n",
    "    include_package_data = True,\n",
    "    version = \"0.0.1\",\n",
    "    author = \"ChoiKyuhyung\",\n",
    "    author_email = \"choigww@gmail.com\",\n",
    "    zip_safe = False\n",
    ")"
   ]
  },
  {
   "cell_type": "code",
   "execution_count": 147,
   "metadata": {},
   "outputs": [
    {
     "name": "stdout",
     "output_type": "stream",
     "text": [
      "\u001b[01;34mschool\u001b[00m\r\n",
      "├── \u001b[01;34mdss\u001b[00m\r\n",
      "│   ├── __init__.py\r\n",
      "│   ├── \u001b[01;34m__pycache__\u001b[00m\r\n",
      "│   │   ├── __init__.cpython-38.pyc\r\n",
      "│   │   └── data1.cpython-38.pyc\r\n",
      "│   ├── data1.py\r\n",
      "│   └── data2.py\r\n",
      "├── setup.py\r\n",
      "└── \u001b[01;34mweb\u001b[00m\r\n",
      "    ├── \u001b[01;34m__pycache__\u001b[00m\r\n",
      "    │   └── url.cpython-38.pyc\r\n",
      "    └── url.py\r\n",
      "\r\n",
      "4 directories, 8 files\r\n"
     ]
    }
   ],
   "source": [
    "!tree school"
   ]
  },
  {
   "cell_type": "code",
   "execution_count": 148,
   "metadata": {},
   "outputs": [],
   "source": [
    "!rm dss.py"
   ]
  },
  {
   "cell_type": "markdown",
   "metadata": {},
   "source": [
    "### 패키지 설치 확인"
   ]
  },
  {
   "cell_type": "code",
   "execution_count": 151,
   "metadata": {},
   "outputs": [
    {
     "name": "stdout",
     "output_type": "stream",
     "text": [
      "dss not found\n"
     ]
    }
   ],
   "source": [
    "is_dss_in_pip = !pip list | grep dss\n",
    "\n",
    "if is_dss_in_pip:\n",
    "    print('dss found')\n",
    "else:\n",
    "    print('dss not found')"
   ]
  },
  {
   "cell_type": "markdown",
   "metadata": {},
   "source": [
    "### 패키지 설치\n",
    "- `school $ python setup.py develop`\n",
    "    - 변경사항을 즉시 적용하는 방식 (develop, 개발자모드)\n",
    "- `school $ python setup.py build`\n",
    "    - 변경사항을 적용하지 않음 (build, 일반모드) >>> 코드 수정 이후 재설치해야 반영"
   ]
  },
  {
   "cell_type": "code",
   "execution_count": 1,
   "metadata": {},
   "outputs": [
    {
     "name": "stdout",
     "output_type": "stream",
     "text": [
      "dss found\n"
     ]
    }
   ],
   "source": [
    "is_dss_in_pip = !pip list | grep dss\n",
    "\n",
    "if is_dss_in_pip:\n",
    "    print('dss found')\n",
    "else:\n",
    "    print('dss not found')"
   ]
  },
  {
   "cell_type": "code",
   "execution_count": 2,
   "metadata": {},
   "outputs": [],
   "source": [
    "import dss"
   ]
  },
  {
   "cell_type": "code",
   "execution_count": 3,
   "metadata": {},
   "outputs": [],
   "source": [
    "from dss import *"
   ]
  },
  {
   "cell_type": "code",
   "execution_count": 4,
   "metadata": {},
   "outputs": [
    {
     "name": "stdout",
     "output_type": "stream",
     "text": [
      "Variable        Type      Data/Info\n",
      "-----------------------------------\n",
      "data1           module    <module 'dss.data1' from <...>hon/school/dss/data1.py'>\n",
      "data2           module    <module 'dss.data2' from <...>hon/school/dss/data2.py'>\n",
      "dss             module    <module 'dss' from '/User<...>/school/dss/__init__.py'>\n",
      "is_dss_in_pip   SList     ['dss                    <...>-online/1-python/school']\n"
     ]
    }
   ],
   "source": [
    "%whos"
   ]
  },
  {
   "cell_type": "code",
   "execution_count": 5,
   "metadata": {},
   "outputs": [
    {
     "name": "stdout",
     "output_type": "stream",
     "text": [
      "data1\n"
     ]
    },
    {
     "data": {
      "text/plain": [
       "3"
      ]
     },
     "execution_count": 5,
     "metadata": {},
     "output_type": "execute_result"
    }
   ],
   "source": [
    "data1.plus(1, 2)"
   ]
  },
  {
   "cell_type": "code",
   "execution_count": 179,
   "metadata": {},
   "outputs": [
    {
     "name": "stdout",
     "output_type": "stream",
     "text": [
      "\u001b[01;34mschool\u001b[00m\r\n",
      "├── \u001b[01;34mdss\u001b[00m\r\n",
      "│   ├── __init__.py\r\n",
      "│   ├── \u001b[01;34m__pycache__\u001b[00m\r\n",
      "│   │   ├── __init__.cpython-38.pyc\r\n",
      "│   │   └── data1.cpython-38.pyc\r\n",
      "│   ├── data1.py\r\n",
      "│   └── data2.py\r\n",
      "├── \u001b[01;34mdss.egg-info\u001b[00m\r\n",
      "│   ├── PKG-INFO\r\n",
      "│   ├── SOURCES.txt\r\n",
      "│   ├── dependency_links.txt\r\n",
      "│   ├── not-zip-safe\r\n",
      "│   └── top_level.txt\r\n",
      "├── setup.py\r\n",
      "└── \u001b[01;34mweb\u001b[00m\r\n",
      "    ├── \u001b[01;34m__pycache__\u001b[00m\r\n",
      "    │   └── url.cpython-38.pyc\r\n",
      "    └── url.py\r\n",
      "\r\n",
      "5 directories, 13 files\r\n"
     ]
    }
   ],
   "source": [
    "!tree school"
   ]
  },
  {
   "cell_type": "code",
   "execution_count": null,
   "metadata": {},
   "outputs": [],
   "source": []
  },
  {
   "cell_type": "markdown",
   "metadata": {},
   "source": [
    "### Uninstall\n",
    "`pip uninstall dss`"
   ]
  },
  {
   "cell_type": "code",
   "execution_count": null,
   "metadata": {},
   "outputs": [],
   "source": []
  },
  {
   "cell_type": "code",
   "execution_count": null,
   "metadata": {},
   "outputs": [],
   "source": []
  },
  {
   "cell_type": "code",
   "execution_count": null,
   "metadata": {},
   "outputs": [],
   "source": []
  }
 ],
 "metadata": {
  "kernelspec": {
   "display_name": "Python 3",
   "language": "python",
   "name": "python3"
  },
  "language_info": {
   "codemirror_mode": {
    "name": "ipython",
    "version": 3
   },
   "file_extension": ".py",
   "mimetype": "text/x-python",
   "name": "python",
   "nbconvert_exporter": "python",
   "pygments_lexer": "ipython3",
   "version": "3.8.5"
  }
 },
 "nbformat": 4,
 "nbformat_minor": 4
}
