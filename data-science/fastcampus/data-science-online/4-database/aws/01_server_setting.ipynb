{
 "cells": [
  {
   "cell_type": "markdown",
   "metadata": {},
   "source": [
    "### Server Setting\n",
    "1. OTP 설정\n",
    "2. EC2 생성\n",
    "3. FTP 서비스 : cyberduck 설치\n",
    "4. pyenv 설정\n",
    "5. jupyter notebook 설치\n",
    "6. mysql 설치 및 설정"
   ]
  },
  {
   "cell_type": "markdown",
   "metadata": {},
   "source": [
    "#### 1. OTP 설정\n",
    "- AWS Console에서 내 보안 자격 증명 메뉴로 이동\n",
    "- 멀티팩터인증(MFA) 선택\n",
    "- MFA 활성화 버튼 선택\n",
    "- 가상 MFA 디바이스 선택\n",
    "- Authy 다운로드 및 회원가입\n",
    "    - https://authy.com/download/ \n",
    "    - 이메일과 핸드폰 인증이 필요\n",
    "    - 모바일, 데스크탑, 크롬브라우져앱 설치 가능\n",
    "    - Authy 앱 실행\n",
    "- Authy앱에서 Tokens에서 + 버튼을 클릭\n",
    "- AWS 페이지에서 비밀키 표시 버튼을 클릭하고 나온 문자열을 Authy 앱의 Enter Code given by the website에 입력\n",
    "- Account Name을 설정 후 Save\n",
    "- 연속해서 나오는 Key값을 AWS 페이지의 MFA Key1, MFA Key2에 입력"
   ]
  },
  {
   "cell_type": "markdown",
   "metadata": {},
   "source": [
    "#### 2. EC2 생성\n",
    "- AWS Console에서 EC2 입력해서 서비스 페이지에 들어감\n",
    "- 인스턴스 메뉴의 인스턴스 시작 클릭\n",
    "- Ubuntu Server 18.04 LTS 선택\n",
    "- t2.micro 선택\n",
    "- 검토 및 시작 클릭\n",
    "- 키페어 생성 및 다운로드\n",
    "- 시작하기 버튼 클릭\n",
    "\n",
    "#### 접속\n",
    "- dss.pem 키파일 ~/.ssh 디렉토리로 이동\n",
    "- dss.pem 파일 권한 변경\n",
    "    - `$ chmod 400 ~/.ssh/dss.pem`\n",
    "- 서버 접속\n",
    "    - `ssh -i ~/.ssh/dss.pem ubuntu@<public ip 주소>`"
   ]
  },
  {
   "cell_type": "markdown",
   "metadata": {},
   "source": [
    "#### 3. FTP 서비스\n",
    "- cyberduck\n",
    "    - https://cyberduck.io/download/\n",
    "- filezilla\n",
    "    - https://filezilla-project.org/download.php\n",
    "- 서버 접속 설정\n",
    "    - SFTP 선택\n",
    "    - 서버 : public ip 설정\n",
    "    - 사용자 이름 : ubuntu\n",
    "    - SSH Private Key : dss.pem 파일 선택"
   ]
  },
  {
   "cell_type": "markdown",
   "metadata": {},
   "source": [
    "#### 4. pyenv 설정\n",
    "- pyenv.sh 파일을 구글 드라이브에서 다운\n",
    "- cyberduck을 이용하여 서버로 파일 이동\n",
    "- pyenv.sh 파일 실행\n",
    "```\n",
    "$ source pyenv.sh\n",
    "```"
   ]
  },
  {
   "cell_type": "markdown",
   "metadata": {},
   "source": [
    "#### 5. jupyter notebook 설치 및 설정\n",
    "- ipython jupyter 패키지 설치\n",
    "```\n",
    "$ pip install ipython jupyter\n",
    "```\n",
    "- 설정 파일 생성\n",
    "```\n",
    "$ jupyter notebook --generate-conﬁg\n",
    "```\n",
    "- 패스워드 생성\n",
    "```\n",
    "$ ipython\n",
    "In [1]: from notebook.auth import passwd\n",
    "In [2]: passwd()\n",
    "Enter password: dss\n",
    "Verify password: dss\n",
    "sha1:6600c5733ef3:b683d6afba16b3403fdf9a75ac38b7d8e7f733bb\n",
    "```\n",
    "- 설정파일 접속\n",
    "```\n",
    "$ sudo vi /home/ubuntu/.jupyter/jupyter_notebook_conﬁg.py \n",
    "```\n",
    "- 설정 파일 수정\n",
    "```\n",
    "c.NotebookApp.ip = '172.31.26.225' # 내부 IP 주소\n",
    "c.NotebookApp.open_browser = False\n",
    "c.NotebookApp.password = 'sha1:6600c5733ef3:b683d6afba16b3403fdf9a75ac38b7d8e7f733bb' \n",
    "```\n",
    "- 서버의 8888 포트 활성화\n",
    "- 서버에서 jupyter notebook 실행\n",
    "- 브라우져로 접속\n",
    "    - `http://<public ip>:8888`"
   ]
  },
  {
   "cell_type": "markdown",
   "metadata": {},
   "source": [
    "#### 6. Mysql 설치 및 설정\n",
    "\n",
    "- mysql-server, mysql-client 설치\n",
    "    - `$ sudo apt install mysql-server`\n",
    "- mysql 보안 설정 ( n-y-n-y-y 순으로 입력해줍니다. ) \n",
    "    - `$ sudo mysql_secure_installation`\n",
    "    \n",
    "```\n",
    "\n",
    "- Would you like to setup VALIDATE PASSWORD plugin? Press y|Y for Yes, any other key for No: n\n",
    "- 패스워드 설정 : dss\n",
    "- Remove anonymous users? (Press y|Y for Yes, any other key for No) : y\n",
    "- Disallow root login remotely? (Press y|Y for Yes, any other key for No) : n\n",
    "- Remove test database and access to it? (Press y|Y for Yes, any other key for No) : y\n",
    "- Reload privilege tables now? (Press y|Y for Yes, any other key for No) : y\n",
    "```"
   ]
  },
  {
   "cell_type": "markdown",
   "metadata": {},
   "source": [
    "- 최초 패스워드 설정\n",
    "\n",
    "```\n",
    "$ sudo mysql\n",
    "mysql> SELECT user,authentication_string,plugin,host FROM mysql.user;\n",
    "mysql> ALTER USER 'root'@'localhost' IDENTIFIED WITH mysql_native_password BY 'dss';\n",
    "mysql> FLUSH PRIVILEGES;\n",
    "mysql> SELECT user,authentication_string,plugin,host FROM mysql.user;\n",
    "mysql> exit\n",
    "```\n",
    "\n",
    "- 접속\n",
    "\n",
    "```\n",
    "$ mysql -u root -p\n",
    "Enter password: dss\n",
    "```"
   ]
  },
  {
   "cell_type": "markdown",
   "metadata": {},
   "source": [
    "- 외부 접속 허용\n",
    "    - mysql 설정파일 bind-address = 0.0.0.0 으로 수정 \n",
    "        - `$ sudo vi /etc/mysql/mysql.conf.d/mysqld.cnf`        \n",
    "        ```\n",
    "        bind-address = 0.0.0.0\n",
    "        ```\n",
    "        - 외부접속이 허용되도록 mysql 설정\n",
    "        ```\n",
    "        mysql> grant all privileges on *.* to 'root'@'%' identified by 'dss';\n",
    "        ```\n",
    "        - 재시작으로 설정 적용\n",
    "        ```\n",
    "        $ sudo systemctl restart mysql.service\n",
    "        ```\n",
    "        - 서버의 3306 포트 활성화"
   ]
  },
  {
   "cell_type": "markdown",
   "metadata": {},
   "source": [
    "#### database management application\n",
    "- windows\n",
    "    - heidiSQL\n",
    "    - https://www.sequelpro.com/\n",
    "- mac\n",
    "    - Sequel Pro\n",
    "    - https://www.heidisql.com"
   ]
  },
  {
   "cell_type": "markdown",
   "metadata": {},
   "source": [
    "#### Save Sample Data\n",
    "- https://dev.mysql.com/doc/index-other.html\n",
    "- world database zip 파일 다운로드\n",
    "- 압축 해제 후 world.sql 파일을 서버로 이동\n",
    "- database management app을 이용하여 world 데이터 베이스 생성\n",
    "- 데이터 저장 방법 1\n",
    "```\n",
    "$ mysql -u root -p world < world.sql\n",
    "```\n",
    "- 데이터 저장 방법 2\n",
    "```\n",
    "sql> create database world;\n",
    "sql> use world;\n",
    "sql> source world.sql\n",
    "```"
   ]
  },
  {
   "cell_type": "code",
   "execution_count": null,
   "metadata": {},
   "outputs": [],
   "source": []
  }
 ],
 "metadata": {
  "kernelspec": {
   "display_name": "Python 3",
   "language": "python",
   "name": "python3"
  },
  "language_info": {
   "codemirror_mode": {
    "name": "ipython",
    "version": 3
   },
   "file_extension": ".py",
   "mimetype": "text/x-python",
   "name": "python",
   "nbconvert_exporter": "python",
   "pygments_lexer": "ipython3",
   "version": "3.7.9"
  },
  "license": "Copyright 2019. Doo Jin Park. All rights reserved."
 },
 "nbformat": 4,
 "nbformat_minor": 2
}
