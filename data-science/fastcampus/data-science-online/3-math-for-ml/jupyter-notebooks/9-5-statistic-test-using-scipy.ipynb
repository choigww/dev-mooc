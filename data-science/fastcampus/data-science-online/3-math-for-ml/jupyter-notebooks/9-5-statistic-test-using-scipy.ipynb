{
 "cells": [
  {
   "cell_type": "markdown",
   "id": "brief-salon",
   "metadata": {},
   "source": [
    "# 9.5 사이파이를 사용한 검정  \n",
    "앞 절에서 검정 방법을 공부하고 통계량분포의 누적분포함수를 사용하여 유의확률을 계산하는 방법을 살펴보았다. 사이파이 패키지는 다음과 같은 다양한 검정 명령을 제공한다. 따라서 사이파이 패키지를 사용하면 여러분이 직접 통계량을 계산하거나 통계량분포의 누적분포함수로 유의확률을 계산할 필요가 없다. 또한 검정으로 내린 결론이 틀린 경우인 1종오류와 2종오류에 대해서도 살펴본다.\n",
    "\n",
    "- 이항검정(Binomial Test)\n",
    "- 카이제곱검정(Chi-squared Test)\n",
    "- 카이제곱 독립검정(Chi-squared Contingency Test)\n",
    "- 단일표본 z검정(One-sample z-Test)\n",
    "- 단일표본 t검정(One-sample t-Test)\n",
    "- 독립표본 t검정(Independent two-sample t-Test)\n",
    "- 대응표본 t검정(Paired two-sample t-Test)\n",
    "- 등분산검정(Equal-variance Test)\n",
    "- 정규성검정(Normality Test)\n"
   ]
  },
  {
   "cell_type": "code",
   "execution_count": 7,
   "id": "appreciated-ancient",
   "metadata": {},
   "outputs": [],
   "source": [
    "import scipy as sp\n",
    "import numpy as np"
   ]
  },
  {
   "cell_type": "code",
   "execution_count": null,
   "id": "single-equilibrium",
   "metadata": {},
   "outputs": [],
   "source": []
  },
  {
   "cell_type": "markdown",
   "id": "pretty-spare",
   "metadata": {},
   "source": [
    "## 이항검정\n",
    "이항검정은 이항분포를 이용하여 베르누이 확률변수의 모수 $\\mu$에 대한 가설을 조사하는 방법이다. 사이파이 stats 서브패키지의 `binom_test` 명령은 이항검정의 유의확률을 계산한다. 디폴트 귀무가설은 $\\mu = 0.5$이다.\n",
    "\n",
    "```python\n",
    "scipy.stats.binom_test(x, n=None, p=0.5, alternative='two-sided')\n",
    "```\n",
    "- x: 검정통계량. 1이 나온 횟수\n",
    "- n: 총 시도 횟수\n",
    "- p: 귀무가설의 $\\mu$값\n",
    "- alternative: 양측검정인 경우에는 'two-sided', 단측검정인 경우에는 'less' 또는 'greater'\n",
    "\n"
   ]
  },
  {
   "cell_type": "code",
   "execution_count": null,
   "id": "cubic-nature",
   "metadata": {},
   "outputs": [],
   "source": []
  },
  {
   "cell_type": "markdown",
   "id": "american-zimbabwe",
   "metadata": {},
   "source": [
    "### 이항검정 예제\n",
    "실제 모수 $\\mu_0=0.5$ 인 베르누이 확률 변수의 시뮬레이션을 통해 이항검정을 실습해보자. 데이터 개수 N=10일 때 1이 나온 횟수가 7이다."
   ]
  },
  {
   "cell_type": "code",
   "execution_count": 8,
   "id": "improving-portal",
   "metadata": {},
   "outputs": [
    {
     "data": {
      "text/plain": [
       "7"
      ]
     },
     "execution_count": 8,
     "metadata": {},
     "output_type": "execute_result"
    }
   ],
   "source": [
    "N = 10\n",
    "mu_0 = 0.5\n",
    "np.random.seed(0)\n",
    "x = sp.stats.bernoulli(mu_0).rvs(N)\n",
    "n = np.count_nonzero(x)\n",
    "n"
   ]
  },
  {
   "cell_type": "markdown",
   "id": "aggregate-waste",
   "metadata": {},
   "source": [
    "모수가 0.5인 베르누이 분포라면 가장 가능성이 높은 5가 나와야 하는데 여기에는 7이 나왔다. 그렇다면 이 확률변수의 모수는 0.5가 아니라 0.7일까? 모수가 0.5라는 귀무가설의 신빙성을 확인하기 위해 `binom_test` 이항검정 명령으로 유의확률을 구하면 약 34%이다."
   ]
  },
  {
   "cell_type": "code",
   "execution_count": 9,
   "id": "surrounded-minneapolis",
   "metadata": {},
   "outputs": [
    {
     "data": {
      "text/plain": [
       "0.3437499999999999"
      ]
     },
     "execution_count": 9,
     "metadata": {},
     "output_type": "execute_result"
    }
   ],
   "source": [
    "# p-value 구하기\n",
    "# 10번 던져서 7번 앞면이 나왔다고 해서, 동전이 fair하다(모수 = 0.5)는 귀무가설을 기각할 수 없다.\n",
    "sp.stats.binom_test(n, N)"
   ]
  },
  {
   "cell_type": "code",
   "execution_count": null,
   "id": "seasonal-representative",
   "metadata": {},
   "outputs": [],
   "source": []
  },
  {
   "cell_type": "markdown",
   "id": "superior-canal",
   "metadata": {},
   "source": [
    "### 이항검정 예제 2\n",
    "$\\mu=0.5$라고 생각되는 확률변수에서 데이터 갯수 N=100번 시뮬레이션하여, 1이 49번 나온 경우에 대해 이항검정을 실시해보자."
   ]
  },
  {
   "cell_type": "code",
   "execution_count": 11,
   "id": "plastic-embassy",
   "metadata": {},
   "outputs": [
    {
     "data": {
      "text/plain": [
       "49"
      ]
     },
     "execution_count": 11,
     "metadata": {},
     "output_type": "execute_result"
    }
   ],
   "source": [
    "N = 100\n",
    "mu_0 = 0.5\n",
    "np.random.seed(0)\n",
    "x = sp.stats.bernoulli(mu_0).rvs(N)\n",
    "n = np.count_nonzero(x)\n",
    "n"
   ]
  },
  {
   "cell_type": "code",
   "execution_count": 14,
   "id": "former-selling",
   "metadata": {},
   "outputs": [
    {
     "data": {
      "text/plain": [
       "0.9204107626128206"
      ]
     },
     "execution_count": 14,
     "metadata": {},
     "output_type": "execute_result"
    }
   ],
   "source": [
    "# 유의확률이 92%이므로, mu=0.5라는 귀무가설을 기각할 수 없다.\n",
    "sp.stats.binom_test(n, N)"
   ]
  },
  {
   "cell_type": "code",
   "execution_count": null,
   "id": "continuing-norman",
   "metadata": {},
   "outputs": [],
   "source": []
  },
  {
   "cell_type": "markdown",
   "id": "copyrighted-sugar",
   "metadata": {},
   "source": [
    "### 이항검정 예제 3\n",
    "$\\mu=0.5$라고 생각되는 확률변수에서 데이터 갯수 N=100번 시뮬레이션하여, 1이 31번 나온 경우에 대해 이항검정을 실시해보자."
   ]
  },
  {
   "cell_type": "code",
   "execution_count": 16,
   "id": "crucial-binary",
   "metadata": {},
   "outputs": [
    {
     "data": {
      "text/plain": [
       "0.00018314322488235352"
      ]
     },
     "execution_count": 16,
     "metadata": {},
     "output_type": "execute_result"
    }
   ],
   "source": [
    "N = 100\n",
    "n = 31\n",
    "sp.stats.binom_test(n, N) # mu=0.5라는 귀무가설을 유의수준 1%에서 기각할 수 있다."
   ]
  },
  {
   "cell_type": "code",
   "execution_count": null,
   "id": "diverse-welsh",
   "metadata": {},
   "outputs": [],
   "source": []
  },
  {
   "cell_type": "markdown",
   "id": "romantic-chuck",
   "metadata": {},
   "source": [
    "### 연습문제 9.5.1\n",
    "동전을 N번 던져서 앞면이 나오는 횟수를 측정했다. 다음 질문에 답하여라.\n",
    "\n",
    "1. N = 10이고 유의 수준이 10%라면, 앞면이 나온 횟수가 몇 번이어야 동전이 공정하지 않다고 이야기할 수 있을까?\n",
    "2. N = 1000이고 유의 수준이 10%라면, 앞면이 나온 횟수가 몇 번이어야 동전이 공정하지 않다고 이야기할 수 있을까?\n",
    "    - 이 때 1 ~ N의 횟수 범위 중에서 동전이 공정하다고 이야기할 수 있는 횟수의 범위(비율)는 N=10일 때와 비교하여 넓은가 혹은 좁은가?"
   ]
  },
  {
   "cell_type": "code",
   "execution_count": 40,
   "id": "automated-circuit",
   "metadata": {},
   "outputs": [
    {
     "name": "stdout",
     "output_type": "stream",
     "text": [
      "0.4\n"
     ]
    },
    {
     "data": {
      "text/plain": [
       "[0, 1, 9, 10]"
      ]
     },
     "execution_count": 40,
     "metadata": {},
     "output_type": "execute_result"
    }
   ],
   "source": [
    "# 1번 문제\n",
    "problem1 = [i for i in range(0, 11) if sp.stats.binom_test(i, 10) < 0.1]\n",
    "print(len(problem1) / 10) # 40%의 경우 불공정, 60%의 경우 공정하다고 볼 수 있다.\n",
    "problem1"
   ]
  },
  {
   "cell_type": "code",
   "execution_count": 44,
   "id": "large-airplane",
   "metadata": {},
   "outputs": [
    {
     "data": {
      "text/plain": [
       "[<matplotlib.lines.Line2D at 0x1a20535cd0>]"
      ]
     },
     "execution_count": 44,
     "metadata": {},
     "output_type": "execute_result"
    },
    {
     "data": {
      "image/png": "[encoded data removed]",
      "text/plain": [
       "<Figure size 432x288 with 1 Axes>"
      ]
     },
     "metadata": {
      "needs_background": "light"
     },
     "output_type": "display_data"
    }
   ],
   "source": [
    "from matplotlib import pyplot as plt\n",
    "plt.plot([sp.stats.binom_test(i, 10) for i in range(0, 11)])"
   ]
  },
  {
   "cell_type": "code",
   "execution_count": 39,
   "id": "entire-panic",
   "metadata": {},
   "outputs": [
    {
     "data": {
      "text/plain": [
       "0.948"
      ]
     },
     "execution_count": 39,
     "metadata": {},
     "output_type": "execute_result"
    }
   ],
   "source": [
    "# 2번 문제\n",
    "# 공정하다고 생각할 수 있는 앞면 횟수의 범위는 N=10일 때와 비교하여 매우 좁다.\n",
    "problem2 = [i for i in range(0, 1001) if sp.stats.binom_test(i, 1000) < 0.1]\n",
    "len(problem2) / 1000 # 약 95%의 경우 불공정, 약 5%의 경우에만 공정하다."
   ]
  },
  {
   "cell_type": "code",
   "execution_count": 45,
   "id": "honey-invasion",
   "metadata": {},
   "outputs": [
    {
     "data": {
      "text/plain": [
       "[<matplotlib.lines.Line2D at 0x1a204df6d0>]"
      ]
     },
     "execution_count": 45,
     "metadata": {},
     "output_type": "execute_result"
    },
    {
     "data": {
      "image/png": "[encoded data removed]",
      "text/plain": [
       "<Figure size 432x288 with 1 Axes>"
      ]
     },
     "metadata": {
      "needs_background": "light"
     },
     "output_type": "display_data"
    }
   ],
   "source": [
    "plt.plot([sp.stats.binom_test(i, 1000) for i in range(0, 1001)])"
   ]
  },
  {
   "cell_type": "code",
   "execution_count": null,
   "id": "floppy-skirt",
   "metadata": {},
   "outputs": [],
   "source": []
  },
  {
   "cell_type": "markdown",
   "id": "informative-draft",
   "metadata": {},
   "source": [
    "### 연습문제 9.5.2\n",
    "다음 코드를 실행하면 어느 식당의 매출과 팁(tip) 데이터를 구할 수 있다.\n",
    "\n",
    "```python\n",
    "import seaborn as sns\n",
    "tips = sns.load_dataset(\"tips\")\n",
    "```\n",
    "하나의 레코드(행)이 한 명의 손님을 나타낸다고 가정하자. 열마다 성별(sex), 흡연유무(smoke), 점심/저녁(time) 등을 나타내는 데이터가 있다. 유의수준 10%에서 이항검정을 사용하여 다음 문제를 풀어라.\n",
    "\n",
    "1. 여자 손님 중 비흡연자가 흡연자보다 많다고 할 수 있는가?\n",
    "2. 저녁에 오는 여자 손님 중 비흡연자가 흡연자보다 많다고 할 수 있는가?"
   ]
  },
  {
   "cell_type": "code",
   "execution_count": 46,
   "id": "norwegian-delight",
   "metadata": {},
   "outputs": [],
   "source": [
    "import seaborn as sns\n",
    "tips = sns.load_dataset('tips')"
   ]
  },
  {
   "cell_type": "code",
   "execution_count": 47,
   "id": "signed-forty",
   "metadata": {},
   "outputs": [
    {
     "data": {
      "text/html": [
       "<div>\n",
       "<style scoped>\n",
       "    .dataframe tbody tr th:only-of-type {\n",
       "        vertical-align: middle;\n",
       "    }\n",
       "\n",
       "    .dataframe tbody tr th {\n",
       "        vertical-align: top;\n",
       "    }\n",
       "\n",
       "    .dataframe thead th {\n",
       "        text-align: right;\n",
       "    }\n",
       "</style>\n",
       "<table border=\"1\" class=\"dataframe\">\n",
       "  <thead>\n",
       "    <tr style=\"text-align: right;\">\n",
       "      <th></th>\n",
       "      <th>total_bill</th>\n",
       "      <th>tip</th>\n",
       "      <th>sex</th>\n",
       "      <th>smoker</th>\n",
       "      <th>day</th>\n",
       "      <th>time</th>\n",
       "      <th>size</th>\n",
       "    </tr>\n",
       "  </thead>\n",
       "  <tbody>\n",
       "    <tr>\n",
       "      <th>0</th>\n",
       "      <td>16.99</td>\n",
       "      <td>1.01</td>\n",
       "      <td>Female</td>\n",
       "      <td>No</td>\n",
       "      <td>Sun</td>\n",
       "      <td>Dinner</td>\n",
       "      <td>2</td>\n",
       "    </tr>\n",
       "    <tr>\n",
       "      <th>1</th>\n",
       "      <td>10.34</td>\n",
       "      <td>1.66</td>\n",
       "      <td>Male</td>\n",
       "      <td>No</td>\n",
       "      <td>Sun</td>\n",
       "      <td>Dinner</td>\n",
       "      <td>3</td>\n",
       "    </tr>\n",
       "    <tr>\n",
       "      <th>2</th>\n",
       "      <td>21.01</td>\n",
       "      <td>3.50</td>\n",
       "      <td>Male</td>\n",
       "      <td>No</td>\n",
       "      <td>Sun</td>\n",
       "      <td>Dinner</td>\n",
       "      <td>3</td>\n",
       "    </tr>\n",
       "    <tr>\n",
       "      <th>3</th>\n",
       "      <td>23.68</td>\n",
       "      <td>3.31</td>\n",
       "      <td>Male</td>\n",
       "      <td>No</td>\n",
       "      <td>Sun</td>\n",
       "      <td>Dinner</td>\n",
       "      <td>2</td>\n",
       "    </tr>\n",
       "    <tr>\n",
       "      <th>4</th>\n",
       "      <td>24.59</td>\n",
       "      <td>3.61</td>\n",
       "      <td>Female</td>\n",
       "      <td>No</td>\n",
       "      <td>Sun</td>\n",
       "      <td>Dinner</td>\n",
       "      <td>4</td>\n",
       "    </tr>\n",
       "  </tbody>\n",
       "</table>\n",
       "</div>"
      ],
      "text/plain": [
       "   total_bill   tip     sex smoker  day    time  size\n",
       "0       16.99  1.01  Female     No  Sun  Dinner     2\n",
       "1       10.34  1.66    Male     No  Sun  Dinner     3\n",
       "2       21.01  3.50    Male     No  Sun  Dinner     3\n",
       "3       23.68  3.31    Male     No  Sun  Dinner     2\n",
       "4       24.59  3.61  Female     No  Sun  Dinner     4"
      ]
     },
     "execution_count": 47,
     "metadata": {},
     "output_type": "execute_result"
    }
   ],
   "source": [
    "tips.head()"
   ]
  },
  {
   "cell_type": "code",
   "execution_count": 61,
   "id": "instructional-satellite",
   "metadata": {},
   "outputs": [
    {
     "name": "stdout",
     "output_type": "stream",
     "text": [
      "sample female 87,\n",
      "        sample female smoker 54\n"
     ]
    }
   ],
   "source": [
    "print(f'''sample female {len(tips[tips.sex=='Female'])},\n",
    "        sample female smoker {len(tips[(tips.sex=='Female')&(tips.smoker=='No')])}''')"
   ]
  },
  {
   "cell_type": "code",
   "execution_count": 69,
   "id": "fifteen-republic",
   "metadata": {},
   "outputs": [
    {
     "data": {
      "text/plain": [
       "0.015709055116923068"
      ]
     },
     "execution_count": 69,
     "metadata": {},
     "output_type": "execute_result"
    }
   ],
   "source": [
    "# 1. 여자 손님 중 비흡연자가 흡연자보다 많다고 일반화할 수 있을까? (유의수준 10%)\n",
    "# 귀무가설 = 여자 손님 중 비흡연자와 흡연자의 비율은 각각 0.5\n",
    "# 유의수준 10%, 유의확률 1.5%로 여자 비흡연자와 여자 흡연자 비율이 동일하다는 귀무가설을 기각할 수 있다.\n",
    "# 유의수준 10%에서 비흡연자가 더 많다고 할 수 있다.\n",
    "\n",
    "sp.stats.binom_test(54, 87, p=0.5, alternative='greater')"
   ]
  },
  {
   "cell_type": "code",
   "execution_count": null,
   "id": "infrared-completion",
   "metadata": {},
   "outputs": [],
   "source": []
  },
  {
   "cell_type": "code",
   "execution_count": 70,
   "id": "limiting-canyon",
   "metadata": {},
   "outputs": [
    {
     "name": "stdout",
     "output_type": "stream",
     "text": [
      "29 52\n"
     ]
    },
    {
     "data": {
      "text/plain": [
       "0.2442278346899461"
      ]
     },
     "execution_count": 70,
     "metadata": {},
     "output_type": "execute_result"
    }
   ],
   "source": [
    "# 2. 저녁에 오는 여자 손님 중 비흡연자가 흡연자보다 많다고 할 수 있는가?\n",
    "# 귀무가설 = 저녁에 오는 여자 손님 중 비흡연자와 흡연자 비율은 각각 0.5\n",
    "# 유의수준 10%, 유의확률 24%로, 저녁 여자손님의 흡연자 비율과 비흡연자 비율이 같다는 귀무가설을 기각할 수 없다.\n",
    "\n",
    "female_night = (tips['sex']=='Female') & (tips['time']=='Dinner')\n",
    "female_night_non_smoking = female_night & (tips['smoker']=='No')\n",
    "print(len(tips[female_night_non_smoking]), len(tips[female_night]))\n",
    "\n",
    "sp.stats.binom_test(len(tips[female_night_non_smoking]), len(tips[female_night]),\n",
    "                   p=0.5, alternative='greater')"
   ]
  },
  {
   "cell_type": "code",
   "execution_count": null,
   "id": "fleet-sleeping",
   "metadata": {},
   "outputs": [],
   "source": []
  },
  {
   "cell_type": "markdown",
   "id": "tracked-blackjack",
   "metadata": {},
   "source": [
    "### 연습문제 9.5.3\n",
    "\n",
    "어떤 주제에 대해 찬반을 묻는 설문조사를 실시했고, 설문 결과 응답자 70%가 찬성이라는 결과가 나왔다. 전체 국민의 2/3가 넘게 찬성한다는 결론을 유의수준 1%에서 얻기 위해 필요한 응답자수는 얼마인가?\n",
    "- 단, 응답자수가 바뀌어도 찬성 70%라는 결과는 바뀌지 않는다고 가정한다."
   ]
  },
  {
   "cell_type": "code",
   "execution_count": 67,
   "id": "charged-mattress",
   "metadata": {},
   "outputs": [
    {
     "data": {
      "text/plain": [
       "9683"
      ]
     },
     "execution_count": 67,
     "metadata": {},
     "output_type": "execute_result"
    }
   ],
   "source": [
    "[n for n in range(1, 10001)\n",
    "if sp.stats.binom_test(int(0.7*n), n=10001, p = 2/3, alternative='greater') < 0.01][0]"
   ]
  },
  {
   "cell_type": "code",
   "execution_count": 68,
   "id": "silver-seating",
   "metadata": {},
   "outputs": [
    {
     "data": {
      "text/plain": [
       "1.226720132194675e-12"
      ]
     },
     "execution_count": 68,
     "metadata": {},
     "output_type": "execute_result"
    }
   ],
   "source": [
    "# 귀무가설 : 전체 국민의 2/3가 찬성한다.\n",
    "# 대립가설 : 전체 국민의 2/3가 넘게 찬성한다.\n",
    "# 유의수준 1% 수준에서 귀무가설을 기각하기 위해, 9683명이 필요하다.\n",
    "\n",
    "sp.stats.binom_test(int(9683*.7), 9683, p = 2/3, alternative='greater')"
   ]
  },
  {
   "cell_type": "code",
   "execution_count": null,
   "id": "connected-medicare",
   "metadata": {},
   "outputs": [],
   "source": []
  },
  {
   "cell_type": "code",
   "execution_count": null,
   "id": "fewer-circulation",
   "metadata": {},
   "outputs": [],
   "source": []
  }
 ],
 "metadata": {
  "kernelspec": {
   "display_name": "Python 3",
   "language": "python",
   "name": "python3"
  },
  "language_info": {
   "codemirror_mode": {
    "name": "ipython",
    "version": 3
   },
   "file_extension": ".py",
   "mimetype": "text/x-python",
   "name": "python",
   "nbconvert_exporter": "python",
   "pygments_lexer": "ipython3",
   "version": "3.7.9"
  }
 },
 "nbformat": 4,
 "nbformat_minor": 5
}
