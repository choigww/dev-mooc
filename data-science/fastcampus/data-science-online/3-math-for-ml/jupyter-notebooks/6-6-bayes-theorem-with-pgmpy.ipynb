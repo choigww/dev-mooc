{
 "cells": [
  {
   "cell_type": "markdown",
   "id": "basic-intensity",
   "metadata": {},
   "source": [
    "# Pgmpy를 사용한 베이즈 정리 적용\n",
    "- pgmpy 패키지는 베이즈 정리에 적용하는 BayesianModel 클래스 제공\n",
    "- 베이즈 정리를 적용하려면 조건부확률을 구현하는 TabularCPD 클래스를 사용하여 사전확률 및 가능도를 구현해야 함\n",
    "\n",
    "```python\n",
    "TabularCPD(variable, variable_card, value, evidence=None, evidence_card=None)\n",
    "```\n",
    "- `variable` : 확률변수의 이름 문자열\n",
    "- `variable_card` : 확률변수가 가질 수 있는 경우의 수\n",
    "- `value` : 조건부확률 배열, 하나의 열(column)이 동일 조건을 뜻하므로 하나의 열의 확률 합은 1이어야 함\n",
    "- `evidence` : 조건이 되는 확률변수의 이름 문자열 리스트\n",
    "- `evidence_card` : 조건이 되는 확률변수가 가질 수 있는 경우의 수 리스트\n",
    "\n",
    "`TabularCPD` 클래스는 원래는 조건부확률을 구현하기 위한 것이지만, `evidence=None`, `evidence_card=None`으로 인수를 주면 일반적인 확률도 구현할 수 있다."
   ]
  },
  {
   "cell_type": "code",
   "execution_count": 6,
   "id": "needed-legend",
   "metadata": {},
   "outputs": [],
   "source": [
    "from pgmpy.factors.discrete import TabularCPD\n",
    "import numpy as np"
   ]
  },
  {
   "cell_type": "code",
   "execution_count": 4,
   "id": "cheap-nepal",
   "metadata": {},
   "outputs": [
    {
     "name": "stdout",
     "output_type": "stream",
     "text": [
      "+------+-------+\n",
      "| X(0) | 0.998 |\n",
      "+------+-------+\n",
      "| X(1) | 0.002 |\n",
      "+------+-------+\n"
     ]
    }
   ],
   "source": [
    "# 병에 걸렸을 사전확률 P(D) = P(X=1)\n",
    "# 병에 걸리지 않았을 사전확률 P(D^C) = P(X=0)\n",
    "\n",
    "cpd_X = TabularCPD('X', 2, [[1-0.002], [0.002]])\n",
    "print(cpd_X)"
   ]
  },
  {
   "cell_type": "code",
   "execution_count": 8,
   "id": "pursuant-poison",
   "metadata": {},
   "outputs": [
    {
     "name": "stdout",
     "output_type": "stream",
     "text": [
      "+------+------+------+\n",
      "| X    | X(0) | X(1) |\n",
      "+------+------+------+\n",
      "| Y(0) | 0.95 | 0.01 |\n",
      "+------+------+------+\n",
      "| Y(1) | 0.05 | 0.99 |\n",
      "+------+------+------+\n"
     ]
    }
   ],
   "source": [
    "# 양성 반응 나올 확률 P(S) = P(Y=1)\n",
    "# 음성 반응 나올 확률 P(S^C) = P(Y=0)\n",
    "# 확률변수 Y의 확률을 베이즈 모형에 넣을 때는 \n",
    "# TabularCPD 클래스를 사용한 조건부확률 P(Y|X) 형태로 넣어야 하므로\n",
    "# 다음처럼 조건부확률 P(Y|X)를 구현한다.\n",
    "\n",
    "cpd_Y_on_X = TabularCPD('Y', 2, np.array([[0.95, 0.01], [0.05, 0.99]]),\n",
    "                  evidence=['X'], evidence_card=[2])\n",
    "print(cpd_Y_on_X)"
   ]
  },
  {
   "cell_type": "markdown",
   "id": "compliant-brisbane",
   "metadata": {},
   "source": [
    "### `BayesianModel` 클래스 객체\n",
    "- 확률변수들이 어떻게 결합되어 있는지 나타내는 확률모형\n",
    "- `BayesianModel(variables)`"
   ]
  },
  {
   "cell_type": "code",
   "execution_count": 11,
   "id": "industrial-destruction",
   "metadata": {},
   "outputs": [
    {
     "data": {
      "text/plain": [
       "True"
      ]
     },
     "execution_count": 11,
     "metadata": {},
     "output_type": "execute_result"
    }
   ],
   "source": [
    "from pgmpy.models import BayesianModel\n",
    "\n",
    "model = BayesianModel([('X', 'Y')])\n",
    "model.add_cpds(cpd_X, cpd_Y_on_X)\n",
    "model.check_model()"
   ]
  },
  {
   "cell_type": "markdown",
   "id": "terminal-preserve",
   "metadata": {},
   "source": [
    "- `BayesianModel` 클래스는 변수 제거법(Variable Elimination)을 사용한 추정을 제공한다.\n",
    "- `VariableEliminiation` 클래스로 추정(inference) 객체를 만들고 `query()` 메서드를 사용하면 사후확률을 계산한다.\n",
    "\n",
    "```python\n",
    "query(variables, evidences)\n",
    "```\n",
    "- `variables` : 사후확률을 계산할 확률변수의 이름 리스트\n",
    "- `evidences` : 조건이 되는 확률변수의 값을 나타내는 딕셔너리\n",
    "\n",
    "여기에서는 pgmpy 패키지를 이용하여 베이즈 정리를 적용할 수 있다는 것만 알면 된다. 자세한 내용은 추후 확률적 그래프 모형(Probabilistic Graphical Model)에서 다룬다."
   ]
  },
  {
   "cell_type": "code",
   "execution_count": 13,
   "id": "transparent-translation",
   "metadata": {},
   "outputs": [
    {
     "name": "stderr",
     "output_type": "stream",
     "text": [
      "Finding Elimination Order: : : 0it [00:00, ?it/s]\n",
      "0it [00:00, ?it/s]\u001b[A"
     ]
    },
    {
     "name": "stdout",
     "output_type": "stream",
     "text": [
      "+------+----------+\n",
      "| X    |   phi(X) |\n",
      "+======+==========+\n",
      "| X(0) |   0.9618 |\n",
      "+------+----------+\n",
      "| X(1) |   0.0382 |\n",
      "+------+----------+\n"
     ]
    },
    {
     "name": "stderr",
     "output_type": "stream",
     "text": [
      "\n"
     ]
    }
   ],
   "source": [
    "from pgmpy.inference import VariableElimination\n",
    "inference = VariableElimination(model)\n",
    "posterior = inference.query(['X'], evidence={'Y':1}, joint=False, show_progress=True)\n",
    "print(posterior['X'])"
   ]
  },
  {
   "cell_type": "code",
   "execution_count": null,
   "id": "chemical-inventory",
   "metadata": {},
   "outputs": [],
   "source": []
  },
  {
   "cell_type": "code",
   "execution_count": null,
   "id": "brown-rouge",
   "metadata": {},
   "outputs": [],
   "source": []
  },
  {
   "cell_type": "code",
   "execution_count": null,
   "id": "centered-sudan",
   "metadata": {},
   "outputs": [],
   "source": []
  },
  {
   "cell_type": "code",
   "execution_count": null,
   "id": "continent-token",
   "metadata": {},
   "outputs": [],
   "source": []
  },
  {
   "cell_type": "code",
   "execution_count": null,
   "id": "structured-discretion",
   "metadata": {},
   "outputs": [],
   "source": []
  }
 ],
 "metadata": {
  "kernelspec": {
   "display_name": "Python 3",
   "language": "python",
   "name": "python3"
  },
  "language_info": {
   "codemirror_mode": {
    "name": "ipython",
    "version": 3
   },
   "file_extension": ".py",
   "mimetype": "text/x-python",
   "name": "python",
   "nbconvert_exporter": "python",
   "pygments_lexer": "ipython3",
   "version": "3.7.9"
  }
 },
 "nbformat": 4,
 "nbformat_minor": 5
}
