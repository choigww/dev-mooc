{
 "cells": [
  {
   "cell_type": "markdown",
   "id": "swedish-eating",
   "metadata": {},
   "source": [
    "# 6.2 확률의 수학적 정의와 의미\n",
    "- 파이썬을 이용한 확률의 구현"
   ]
  },
  {
   "cell_type": "code",
   "execution_count": null,
   "id": "defensive-adobe",
   "metadata": {},
   "outputs": [],
   "source": []
  },
  {
   "cell_type": "markdown",
   "id": "flying-profit",
   "metadata": {},
   "source": [
    "## Kolmogorov's Axioms\n",
    "1. $ P(A) \\geq 0 \\ \\text{for A}\\subset \\Omega$\n",
    "2. $P(\\Omega) = 1$\n",
    "3. $A \\cap B = \\emptyset \\rightarrow P(A \\cup B) = P(A) + P(B)$"
   ]
  },
  {
   "cell_type": "code",
   "execution_count": null,
   "id": "impressive-skirt",
   "metadata": {},
   "outputs": [],
   "source": []
  },
  {
   "cell_type": "markdown",
   "id": "derived-firmware",
   "metadata": {},
   "source": [
    "### finite domain > using `dictionary`"
   ]
  },
  {
   "cell_type": "code",
   "execution_count": 1,
   "id": "official-platform",
   "metadata": {},
   "outputs": [],
   "source": [
    "A = frozenset({})\n",
    "B = frozenset({'H'})\n",
    "C = frozenset({'T'})\n",
    "D = frozenset({'H', 'T'})"
   ]
  },
  {
   "cell_type": "code",
   "execution_count": 2,
   "id": "protective-incident",
   "metadata": {},
   "outputs": [],
   "source": [
    "P = {A:0, B:.4, C:.6, D:1.}"
   ]
  },
  {
   "cell_type": "code",
   "execution_count": 3,
   "id": "designed-certification",
   "metadata": {},
   "outputs": [
    {
     "data": {
      "text/plain": [
       "{frozenset(): 0,\n",
       " frozenset({'H'}): 0.4,\n",
       " frozenset({'T'}): 0.6,\n",
       " frozenset({'H', 'T'}): 1.0}"
      ]
     },
     "execution_count": 3,
     "metadata": {},
     "output_type": "execute_result"
    }
   ],
   "source": [
    "P"
   ]
  },
  {
   "cell_type": "code",
   "execution_count": null,
   "id": "attended-string",
   "metadata": {},
   "outputs": [],
   "source": []
  },
  {
   "cell_type": "code",
   "execution_count": null,
   "id": "nutritional-budget",
   "metadata": {},
   "outputs": [],
   "source": []
  },
  {
   "cell_type": "markdown",
   "id": "scenic-insert",
   "metadata": {},
   "source": [
    "## Practice 6.2.5\n",
    "1. 플레잉카드 한 장을 뽑아서 무늬를 결정하는 문제에 파이썬으로 확률을 할당해 본다.\n",
    "2. 동전을 두 번 던지는 문제에 대해 파이썬으로 확률을 할당해 본다."
   ]
  },
  {
   "cell_type": "code",
   "execution_count": 8,
   "id": "metropolitan-emperor",
   "metadata": {},
   "outputs": [
    {
     "data": {
      "text/plain": [
       "{frozenset({'spade'}): 0.25,\n",
       " frozenset({'heart'}): 0.25,\n",
       " frozenset({'diamond'}): 0.25,\n",
       " frozenset({'clover'}): 0.25}"
      ]
     },
     "execution_count": 8,
     "metadata": {},
     "output_type": "execute_result"
    }
   ],
   "source": [
    "#1.\n",
    "A1 = frozenset({'spade'})\n",
    "A2 = frozenset({'heart'})\n",
    "A3 = frozenset({'diamond'})\n",
    "A4 = frozenset({'clover'})\n",
    "\n",
    "sample_sapce_A = [A1, A2, A3, A4]\n",
    "sample_space_dict = {samplename : .25 for samplename in sample_sapce_A}\n",
    "sample_space_dict"
   ]
  },
  {
   "cell_type": "code",
   "execution_count": 1,
   "id": "hawaiian-furniture",
   "metadata": {},
   "outputs": [
    {
     "data": {
      "text/plain": [
       "{frozenset({'HH'}): 0.25,\n",
       " frozenset({'HT'}): 0.25,\n",
       " frozenset({'TH'}): 0.25,\n",
       " frozenset({'TT'}): 0.25}"
      ]
     },
     "execution_count": 1,
     "metadata": {},
     "output_type": "execute_result"
    }
   ],
   "source": [
    "#2. \n",
    "B1 = frozenset({'HH'})\n",
    "B2 = frozenset({'HT'})\n",
    "B3 = frozenset({'TH'})\n",
    "B4 = frozenset({'TT'})\n",
    "\n",
    "sample_sapce_B = [B1, B2, B3, B4]\n",
    "sample_space_dict = {samplename : .25 for samplename in sample_sapce_B}\n",
    "sample_space_dict"
   ]
  },
  {
   "cell_type": "markdown",
   "id": "strategic-effect",
   "metadata": {},
   "source": [
    "### Kolmogorov's Axiom 만족시키는 확률을 할당하기"
   ]
  },
  {
   "cell_type": "code",
   "execution_count": 2,
   "id": "collectible-nickname",
   "metadata": {},
   "outputs": [],
   "source": [
    "from itertools import chain, combinations\n",
    "def get_set_of_subsets(omega):\n",
    "    return set([frozenset(s) for s in chain.from_iterable(combinations(omega, r) for r in range(len(omega) + 1))])"
   ]
  },
  {
   "cell_type": "code",
   "execution_count": 5,
   "id": "superior-brown",
   "metadata": {},
   "outputs": [
    {
     "data": {
      "text/plain": [
       "{frozenset(),\n",
       " frozenset({'HH', 'TT'}),\n",
       " frozenset({'HT'}),\n",
       " frozenset({'TH'}),\n",
       " frozenset({'HT', 'TH'}),\n",
       " frozenset({'HH', 'HT'}),\n",
       " frozenset({'HH', 'TH'}),\n",
       " frozenset({'TT'}),\n",
       " frozenset({'HT', 'TT'}),\n",
       " frozenset({'TH', 'TT'}),\n",
       " frozenset({'HH'}),\n",
       " frozenset({'HH', 'TH', 'TT'}),\n",
       " frozenset({'HH', 'HT', 'TT'}),\n",
       " frozenset({'HH', 'HT', 'TH'}),\n",
       " frozenset({'HT', 'TH', 'TT'}),\n",
       " frozenset({'HH', 'HT', 'TH', 'TT'})}"
      ]
     },
     "execution_count": 5,
     "metadata": {},
     "output_type": "execute_result"
    }
   ],
   "source": [
    "sample_space_C = get_set_of_subsets(['HH', 'TT', 'HT', 'TH'])\n",
    "sample_space_C"
   ]
  },
  {
   "cell_type": "code",
   "execution_count": 6,
   "id": "important-promise",
   "metadata": {},
   "outputs": [
    {
     "data": {
      "text/plain": [
       "{frozenset({'HH', 'TT'}): 0.5,\n",
       " frozenset({'HT', 'TH'}): 0.5,\n",
       " frozenset({'HH', 'HT'}): 0.5,\n",
       " frozenset({'HT'}): 0.25,\n",
       " frozenset({'TH'}): 0.25,\n",
       " frozenset({'HH', 'TH'}): 0.5,\n",
       " frozenset({'HT', 'TT'}): 0.5,\n",
       " frozenset({'TT'}): 0.25,\n",
       " frozenset({'TH', 'TT'}): 0.5,\n",
       " frozenset({'HH', 'TH', 'TT'}): 0.75,\n",
       " frozenset({'HH', 'HT', 'TT'}): 0.75,\n",
       " frozenset({'HH', 'HT', 'TH', 'TT'}): 1.0,\n",
       " frozenset({'HH', 'HT', 'TH'}): 0.75,\n",
       " frozenset({'HT', 'TH', 'TT'}): 0.75,\n",
       " frozenset(): 0.0,\n",
       " frozenset({'HH'}): 0.25}"
      ]
     },
     "execution_count": 6,
     "metadata": {},
     "output_type": "execute_result"
    }
   ],
   "source": [
    "dictC = {sample:len(sample)*.25 for sample in sample_space_C}\n",
    "dictC"
   ]
  },
  {
   "cell_type": "code",
   "execution_count": null,
   "id": "dramatic-survey",
   "metadata": {},
   "outputs": [],
   "source": []
  },
  {
   "cell_type": "code",
   "execution_count": null,
   "id": "adjusted-dialogue",
   "metadata": {},
   "outputs": [],
   "source": []
  }
 ],
 "metadata": {
  "kernelspec": {
   "display_name": "Python 3",
   "language": "python",
   "name": "python3"
  },
  "language_info": {
   "codemirror_mode": {
    "name": "ipython",
    "version": 3
   },
   "file_extension": ".py",
   "mimetype": "text/x-python",
   "name": "python",
   "nbconvert_exporter": "python",
   "pygments_lexer": "ipython3",
   "version": "3.7.9"
  }
 },
 "nbformat": 4,
 "nbformat_minor": 5
}
