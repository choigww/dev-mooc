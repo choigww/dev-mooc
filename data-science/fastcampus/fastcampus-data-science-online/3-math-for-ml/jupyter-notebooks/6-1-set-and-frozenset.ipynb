{
 "cells": [
  {
   "cell_type": "markdown",
   "id": "adverse-chaos",
   "metadata": {},
   "source": [
    "# 6.1 집합\n",
    "- 확률을 수학적으로 정의하기 위하여 집합 관련 지식이 필요함\n",
    "- 확률론 학습에 앞서 집합론 기초 복습\n",
    "- 파이썬 set, frozenset 자료형 사용법 학습"
   ]
  },
  {
   "cell_type": "code",
   "execution_count": null,
   "id": "victorian-desire",
   "metadata": {},
   "outputs": [],
   "source": []
  },
  {
   "cell_type": "markdown",
   "id": "pointed-wholesale",
   "metadata": {},
   "source": [
    "## set, frozenset\n",
    "- set = mutable\n",
    "- frozenset = immutable\n",
    "    - only immutables can be keys for dictionary"
   ]
  },
  {
   "cell_type": "code",
   "execution_count": 1,
   "id": "acute-device",
   "metadata": {},
   "outputs": [
    {
     "data": {
      "text/plain": [
       "{(4, 5), 1, 2, 3, 5}"
      ]
     },
     "execution_count": 1,
     "metadata": {},
     "output_type": "execute_result"
    }
   ],
   "source": [
    "a = set([1, 2, 3, 3, 5, (4,5)])\n",
    "a"
   ]
  },
  {
   "cell_type": "code",
   "execution_count": 4,
   "id": "modular-boutique",
   "metadata": {},
   "outputs": [
    {
     "data": {
      "text/plain": [
       "{(4, 5), 1, 2, 3, 5}"
      ]
     },
     "execution_count": 4,
     "metadata": {},
     "output_type": "execute_result"
    }
   ],
   "source": [
    "b = {1, 2, 3, 3, 5, (4, 5)}\n",
    "b"
   ]
  },
  {
   "cell_type": "code",
   "execution_count": 2,
   "id": "iraqi-google",
   "metadata": {},
   "outputs": [
    {
     "data": {
      "text/plain": [
       "frozenset({'H', 'T'})"
      ]
     },
     "execution_count": 2,
     "metadata": {},
     "output_type": "execute_result"
    }
   ],
   "source": [
    "f = frozenset(['H', 'T'])\n",
    "f"
   ]
  },
  {
   "cell_type": "code",
   "execution_count": null,
   "id": "proved-steering",
   "metadata": {},
   "outputs": [],
   "source": [
    "b"
   ]
  },
  {
   "cell_type": "code",
   "execution_count": null,
   "id": "subjective-force",
   "metadata": {},
   "outputs": [],
   "source": []
  },
  {
   "cell_type": "markdown",
   "id": "unsigned-helmet",
   "metadata": {},
   "source": [
    "## union, intersection"
   ]
  },
  {
   "cell_type": "code",
   "execution_count": 5,
   "id": "english-opinion",
   "metadata": {},
   "outputs": [],
   "source": [
    "A1 = set([1,2,3,4])\n",
    "A2 = set([2,4,6])\n",
    "A3 = set([1, 2, 3])\n",
    "A4 = set([2,3,4,5,6])"
   ]
  },
  {
   "cell_type": "code",
   "execution_count": 6,
   "id": "intellectual-doctor",
   "metadata": {},
   "outputs": [
    {
     "data": {
      "text/plain": [
       "{2, 4}"
      ]
     },
     "execution_count": 6,
     "metadata": {},
     "output_type": "execute_result"
    }
   ],
   "source": [
    "A1.intersection(A2)"
   ]
  },
  {
   "cell_type": "code",
   "execution_count": 7,
   "id": "recent-municipality",
   "metadata": {},
   "outputs": [
    {
     "data": {
      "text/plain": [
       "{2, 4}"
      ]
     },
     "execution_count": 7,
     "metadata": {},
     "output_type": "execute_result"
    }
   ],
   "source": [
    "A1 & A2"
   ]
  },
  {
   "cell_type": "code",
   "execution_count": 8,
   "id": "ceramic-agreement",
   "metadata": {},
   "outputs": [
    {
     "data": {
      "text/plain": [
       "{1, 2, 3, 4, 5, 6}"
      ]
     },
     "execution_count": 8,
     "metadata": {},
     "output_type": "execute_result"
    }
   ],
   "source": [
    "A3.union(A4)"
   ]
  },
  {
   "cell_type": "code",
   "execution_count": 9,
   "id": "smoking-herald",
   "metadata": {},
   "outputs": [
    {
     "data": {
      "text/plain": [
       "{1, 2, 3, 4, 5, 6}"
      ]
     },
     "execution_count": 9,
     "metadata": {},
     "output_type": "execute_result"
    }
   ],
   "source": [
    "A3 | A4"
   ]
  },
  {
   "cell_type": "code",
   "execution_count": null,
   "id": "hazardous-fields",
   "metadata": {},
   "outputs": [],
   "source": []
  },
  {
   "cell_type": "markdown",
   "id": "emotional-skill",
   "metadata": {},
   "source": [
    "## subset"
   ]
  },
  {
   "cell_type": "code",
   "execution_count": 10,
   "id": "labeled-album",
   "metadata": {},
   "outputs": [
    {
     "data": {
      "text/plain": [
       "True"
      ]
     },
     "execution_count": 10,
     "metadata": {},
     "output_type": "execute_result"
    }
   ],
   "source": [
    "A3.issubset(A1)"
   ]
  },
  {
   "cell_type": "code",
   "execution_count": 11,
   "id": "thermal-collins",
   "metadata": {},
   "outputs": [
    {
     "data": {
      "text/plain": [
       "True"
      ]
     },
     "execution_count": 11,
     "metadata": {},
     "output_type": "execute_result"
    }
   ],
   "source": [
    "A3 <= A1"
   ]
  },
  {
   "cell_type": "code",
   "execution_count": 12,
   "id": "norwegian-default",
   "metadata": {},
   "outputs": [
    {
     "data": {
      "text/plain": [
       "True"
      ]
     },
     "execution_count": 12,
     "metadata": {},
     "output_type": "execute_result"
    }
   ],
   "source": [
    "A3 <= A3"
   ]
  },
  {
   "cell_type": "code",
   "execution_count": 13,
   "id": "controlling-renewal",
   "metadata": {},
   "outputs": [
    {
     "data": {
      "text/plain": [
       "False"
      ]
     },
     "execution_count": 13,
     "metadata": {},
     "output_type": "execute_result"
    }
   ],
   "source": [
    "A3 < A3 #진부분집합"
   ]
  },
  {
   "cell_type": "code",
   "execution_count": null,
   "id": "focused-calculator",
   "metadata": {},
   "outputs": [],
   "source": []
  },
  {
   "cell_type": "markdown",
   "id": "strong-funds",
   "metadata": {},
   "source": [
    "### difference"
   ]
  },
  {
   "cell_type": "code",
   "execution_count": 14,
   "id": "noted-lotus",
   "metadata": {},
   "outputs": [
    {
     "data": {
      "text/plain": [
       "{4}"
      ]
     },
     "execution_count": 14,
     "metadata": {},
     "output_type": "execute_result"
    }
   ],
   "source": [
    "A1 - A3"
   ]
  },
  {
   "cell_type": "code",
   "execution_count": 15,
   "id": "behavioral-constitution",
   "metadata": {},
   "outputs": [
    {
     "data": {
      "text/plain": [
       "{4}"
      ]
     },
     "execution_count": 15,
     "metadata": {},
     "output_type": "execute_result"
    }
   ],
   "source": [
    "A1.difference(A3)"
   ]
  },
  {
   "cell_type": "code",
   "execution_count": null,
   "id": "valued-nylon",
   "metadata": {},
   "outputs": [],
   "source": []
  },
  {
   "cell_type": "markdown",
   "id": "tropical-fever",
   "metadata": {},
   "source": [
    "## empty set"
   ]
  },
  {
   "cell_type": "code",
   "execution_count": 17,
   "id": "aware-retention",
   "metadata": {},
   "outputs": [],
   "source": [
    "empty_set = set([])"
   ]
  },
  {
   "cell_type": "code",
   "execution_count": 18,
   "id": "detailed-strength",
   "metadata": {},
   "outputs": [
    {
     "data": {
      "text/plain": [
       "True"
      ]
     },
     "execution_count": 18,
     "metadata": {},
     "output_type": "execute_result"
    }
   ],
   "source": [
    "empty_set < A1"
   ]
  },
  {
   "cell_type": "code",
   "execution_count": 19,
   "id": "outstanding-dublin",
   "metadata": {},
   "outputs": [
    {
     "data": {
      "text/plain": [
       "set()"
      ]
     },
     "execution_count": 19,
     "metadata": {},
     "output_type": "execute_result"
    }
   ],
   "source": [
    "empty_set.intersection(A1)"
   ]
  },
  {
   "cell_type": "code",
   "execution_count": 20,
   "id": "talented-heaven",
   "metadata": {},
   "outputs": [
    {
     "data": {
      "text/plain": [
       "{1, 2, 3, 4}"
      ]
     },
     "execution_count": 20,
     "metadata": {},
     "output_type": "execute_result"
    }
   ],
   "source": [
    "empty_set.union(A1)"
   ]
  },
  {
   "cell_type": "code",
   "execution_count": null,
   "id": "tough-spider",
   "metadata": {},
   "outputs": [],
   "source": []
  },
  {
   "cell_type": "markdown",
   "id": "senior-filling",
   "metadata": {},
   "source": [
    "## Practice 6.1\n",
    "$$\n",
    "\\Omega = [HH, HT, TH, TT]\n",
    "$$\n",
    "- 위 집합의 부분집합들을 원소로 가지는 집합을 작성하여라."
   ]
  },
  {
   "cell_type": "code",
   "execution_count": 22,
   "id": "consolidated-observer",
   "metadata": {},
   "outputs": [],
   "source": [
    "A1 = frozenset([])\n",
    "A2 = frozenset(['HH'])\n",
    "\n",
    "# 노가다!"
   ]
  },
  {
   "cell_type": "code",
   "execution_count": 25,
   "id": "interior-letter",
   "metadata": {},
   "outputs": [],
   "source": [
    "from itertools import chain, combinations\n",
    "def get_set_of_subsets(omega):\n",
    "    return set([frozenset(s) for s in chain.from_iterable(combinations(omega, r) for r in range(len(omega) + 1))])"
   ]
  },
  {
   "cell_type": "code",
   "execution_count": 26,
   "id": "structured-johnston",
   "metadata": {},
   "outputs": [
    {
     "data": {
      "text/plain": [
       "{frozenset(),\n",
       " frozenset({'HH'}),\n",
       " frozenset({'TH', 'TT'}),\n",
       " frozenset({'HH', 'TT'}),\n",
       " frozenset({'TH'}),\n",
       " frozenset({'HT', 'TH'}),\n",
       " frozenset({'HH', 'HT'}),\n",
       " frozenset({'TT'}),\n",
       " frozenset({'HH', 'TH'}),\n",
       " frozenset({'HH', 'TH', 'TT'}),\n",
       " frozenset({'HT'}),\n",
       " frozenset({'HT', 'TT'}),\n",
       " frozenset({'HT', 'TH', 'TT'}),\n",
       " frozenset({'HH', 'HT', 'TT'}),\n",
       " frozenset({'HH', 'HT', 'TH'}),\n",
       " frozenset({'HH', 'HT', 'TH', 'TT'})}"
      ]
     },
     "execution_count": 26,
     "metadata": {},
     "output_type": "execute_result"
    }
   ],
   "source": [
    "get_set_of_subsets(['HH', 'HT', 'TH', 'TT'])"
   ]
  },
  {
   "cell_type": "code",
   "execution_count": null,
   "id": "loved-badge",
   "metadata": {},
   "outputs": [],
   "source": []
  },
  {
   "cell_type": "markdown",
   "id": "secret-diesel",
   "metadata": {},
   "source": [
    "## Practice 6.2\n",
    "다음 세 집합 A, B, C에 대하여 합집합과 교집합 간의 2가지 분배법칙이 성립하는지 파이썬 코드로 증명하라.\n",
    "\n",
    "$$\n",
    "A = [1, 3, 5] \\\\\n",
    "B = [1, 2, 3] \\\\\n",
    "C = [2, 4, 6]\n",
    "$$"
   ]
  },
  {
   "cell_type": "code",
   "execution_count": 29,
   "id": "buried-publisher",
   "metadata": {},
   "outputs": [],
   "source": [
    "A = set([1,3,5])\n",
    "B = set([1,2,3])\n",
    "C = set([2,4,6])"
   ]
  },
  {
   "cell_type": "code",
   "execution_count": 30,
   "id": "rural-consistency",
   "metadata": {},
   "outputs": [
    {
     "data": {
      "text/plain": [
       "True"
      ]
     },
     "execution_count": 30,
     "metadata": {},
     "output_type": "execute_result"
    }
   ],
   "source": [
    "A | (B & C) == (A | B) & (A | C)"
   ]
  },
  {
   "cell_type": "code",
   "execution_count": 31,
   "id": "least-chile",
   "metadata": {},
   "outputs": [
    {
     "data": {
      "text/plain": [
       "True"
      ]
     },
     "execution_count": 31,
     "metadata": {},
     "output_type": "execute_result"
    }
   ],
   "source": [
    "A & (B | C) == (A & B) | (A & C)"
   ]
  },
  {
   "cell_type": "code",
   "execution_count": null,
   "id": "fatal-sheep",
   "metadata": {},
   "outputs": [],
   "source": []
  },
  {
   "cell_type": "code",
   "execution_count": null,
   "id": "considerable-western",
   "metadata": {},
   "outputs": [],
   "source": []
  },
  {
   "cell_type": "code",
   "execution_count": null,
   "id": "detailed-lightweight",
   "metadata": {},
   "outputs": [],
   "source": []
  }
 ],
 "metadata": {
  "kernelspec": {
   "display_name": "Python 3",
   "language": "python",
   "name": "python3"
  },
  "language_info": {
   "codemirror_mode": {
    "name": "ipython",
    "version": 3
   },
   "file_extension": ".py",
   "mimetype": "text/x-python",
   "name": "python",
   "nbconvert_exporter": "python",
   "pygments_lexer": "ipython3",
   "version": "3.7.9"
  }
 },
 "nbformat": 4,
 "nbformat_minor": 5
}
