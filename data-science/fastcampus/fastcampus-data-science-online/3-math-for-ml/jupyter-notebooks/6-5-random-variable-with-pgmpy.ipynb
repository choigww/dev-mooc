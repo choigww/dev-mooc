{
 "cells": [
  {
   "cell_type": "markdown",
   "id": "northern-watershed",
   "metadata": {},
   "source": [
    "# 6.5 결합확률과 조건부확률\n",
    "## pgmpy 패키지\n",
    "- pgmpy(probablistic graphical models in python) 패키지\n",
    "- 이산확률모델을 쉽게 구현할 수 있다"
   ]
  },
  {
   "cell_type": "code",
   "execution_count": null,
   "id": "polish-soundtrack",
   "metadata": {},
   "outputs": [],
   "source": []
  },
  {
   "cell_type": "markdown",
   "id": "isolated-filling",
   "metadata": {},
   "source": [
    "### `JointProbabilityDistribution` 클래스\n",
    "- 결합확률 모형을 만드는 데 사용하는 클래스\n",
    "- `JointProbabilityDistribution(variables, cardinality, values)`\n",
    "    - `variables` : 확률변수의 이름 문자열 리스트. 정의하려는 확률변수가 하나인 경우에도 List로 넣어야 함\n",
    "    - `cardinality` : 각 확률변수의 표본 혹은 배타적 사건의 수의 리스트\n",
    "    - `values` : 확률변수의 모든 표본(조합)에 대한 (결합)확률값 리스트\n",
    "    \n",
    "- `variables`에 들어가는 인수는 사건의 이름이 아니라 확률변수의 이름!\n",
    "- pgmpy에서는 사건의 이름을 명시하여 지정할 수 없다\n",
    "    - 임력 사건의 수가 K일 때, 0, 1, ..., K-1 등 숫자로 지정됨\n"
   ]
  },
  {
   "cell_type": "code",
   "execution_count": 7,
   "id": "sealed-desert",
   "metadata": {},
   "outputs": [],
   "source": [
    "import numpy as np\n",
    "from pgmpy.factors.discrete import JointProbabilityDistribution as JPD"
   ]
  },
  {
   "cell_type": "code",
   "execution_count": 2,
   "id": "abstract-behavior",
   "metadata": {},
   "outputs": [
    {
     "name": "stdout",
     "output_type": "stream",
     "text": [
      "+------+--------+\n",
      "| X    |   P(X) |\n",
      "+======+========+\n",
      "| X(0) | 0.6000 |\n",
      "+------+--------+\n",
      "| X(1) | 0.4000 |\n",
      "+------+--------+\n"
     ]
    }
   ],
   "source": [
    "px = JPD(['X'], [2], np.array([12, 8]) / 20)\n",
    "print(px)"
   ]
  },
  {
   "cell_type": "code",
   "execution_count": 4,
   "id": "particular-intensity",
   "metadata": {},
   "outputs": [
    {
     "name": "stdout",
     "output_type": "stream",
     "text": [
      "+------+--------+\n",
      "| X    |   P(X) |\n",
      "+======+========+\n",
      "| X(0) | 0.4000 |\n",
      "+------+--------+\n",
      "| X(1) | 0.6000 |\n",
      "+------+--------+\n"
     ]
    }
   ],
   "source": [
    "px = JPD(['X'], [2], [0.4, 0.6])\n",
    "print(px)"
   ]
  },
  {
   "cell_type": "code",
   "execution_count": 22,
   "id": "legislative-concentration",
   "metadata": {},
   "outputs": [
    {
     "name": "stdout",
     "output_type": "stream",
     "text": [
      "+------+--------+\n",
      "| Y    |   P(Y) |\n",
      "+======+========+\n",
      "| Y(0) | 0.5000 |\n",
      "+------+--------+\n",
      "| Y(1) | 0.5000 |\n",
      "+------+--------+\n"
     ]
    }
   ],
   "source": [
    "py = JPD(['Y'], [2], [0.5, 0.5])\n",
    "print(py)"
   ]
  },
  {
   "cell_type": "code",
   "execution_count": 6,
   "id": "chronic-wiring",
   "metadata": {},
   "outputs": [
    {
     "name": "stdout",
     "output_type": "stream",
     "text": [
      "+------+------+----------+\n",
      "| X    | Y    |   P(X,Y) |\n",
      "+======+======+==========+\n",
      "| X(0) | Y(0) |   0.1500 |\n",
      "+------+------+----------+\n",
      "| X(0) | Y(1) |   0.4500 |\n",
      "+------+------+----------+\n",
      "| X(1) | Y(0) |   0.3500 |\n",
      "+------+------+----------+\n",
      "| X(1) | Y(1) |   0.0500 |\n",
      "+------+------+----------+\n"
     ]
    }
   ],
   "source": [
    "# joint\n",
    "pxy = JPD(['X', 'Y'], [2, 2], np.array([3, 9, 7, 1])/20)\n",
    "print(pxy)"
   ]
  },
  {
   "cell_type": "code",
   "execution_count": null,
   "id": "social-snowboard",
   "metadata": {},
   "outputs": [],
   "source": []
  },
  {
   "cell_type": "code",
   "execution_count": null,
   "id": "affected-opportunity",
   "metadata": {},
   "outputs": [],
   "source": []
  },
  {
   "cell_type": "markdown",
   "id": "canadian-tongue",
   "metadata": {},
   "source": [
    "### 연습문제 6.5.6\n",
    "6장에서 다룬 범인 찾기 문제 예에서 남자 12명 중 머리카락이 긴 사람이 6명인 경우(case 2)의 결합확률 모형을 JointProbabilityDistribution 클래스 객체 pxy2로 구현하라.\n",
    "\n",
    "- 범인찾기문제 개요\n",
    "    - 살인사건용의자 20명\n",
    "        - 남자 12, 여자 8\n",
    "        - 머리긴사람 10, 머리짧은사람 10\n",
    "    - case1 = 12명의 남자 중 머리 긴 사람 3명\n",
    "    - case2 = 12명의 남자 중 머리 긴 사람 6명"
   ]
  },
  {
   "cell_type": "code",
   "execution_count": 9,
   "id": "changed-castle",
   "metadata": {},
   "outputs": [
    {
     "name": "stdout",
     "output_type": "stream",
     "text": [
      "+------+------+----------+\n",
      "| X    | Y    |   P(X,Y) |\n",
      "+======+======+==========+\n",
      "| X(0) | Y(0) |   0.3000 |\n",
      "+------+------+----------+\n",
      "| X(0) | Y(1) |   0.3000 |\n",
      "+------+------+----------+\n",
      "| X(1) | Y(0) |   0.2000 |\n",
      "+------+------+----------+\n",
      "| X(1) | Y(1) |   0.2000 |\n",
      "+------+------+----------+\n"
     ]
    }
   ],
   "source": [
    "pxy2 = JPD(['X', 'Y'], [2, 2], np.array([6, 6, 4, 4])/20)\n",
    "print(pxy2)"
   ]
  },
  {
   "cell_type": "code",
   "execution_count": null,
   "id": "entire-hours",
   "metadata": {},
   "outputs": [],
   "source": []
  },
  {
   "cell_type": "markdown",
   "id": "domestic-johns",
   "metadata": {},
   "source": [
    "### `JointProbabilityDistribution` 객체 메서드 함수\n",
    "- `marginal_distribution()`, `marginalize()` : 결합확률로부터 주변확률 계산\n",
    "    - `marginal_distribution(values, inplace=True)`\n",
    "        - `values` : 주변확률을 구할 확률변수의 이름 문자열 리스트\n",
    "        - `inplace` : True이면 객체 자신을 주변확률 모형으로 변화, False면 주변확률 모형 객체 반환\n",
    "    - `marginalize(values, inplace=True)`\n",
    "        - `values` : 어떤 확률변수의 주변확률을 구하기 위해 **없앨 확률변수**의 이름 문자열 리스트\n",
    "        - `inplace` : True이면 객체 자신을 주변확률 모형으로 변화,False면 주변확률 모형 객체 반환\n",
    "- `conditional_distribution(values, inplace=True)` : 결합확률로부터 조건부확률 계산\n",
    "    - `values` : 주변확률을 구할 확률변수의 이름 문자열과 값을 묶은 튜플 리스트\n",
    "    - `inplace` : True이면 객체 자신을 조건부확률 모형으로 변화, False면 조건부확률 모형 객체 반환"
   ]
  },
  {
   "cell_type": "code",
   "execution_count": null,
   "id": "statistical-cannon",
   "metadata": {},
   "outputs": [],
   "source": []
  },
  {
   "cell_type": "code",
   "execution_count": 13,
   "id": "fleet-correspondence",
   "metadata": {},
   "outputs": [
    {
     "name": "stdout",
     "output_type": "stream",
     "text": [
      "+------+--------+\n",
      "| X    |   P(X) |\n",
      "+======+========+\n",
      "| X(0) | 0.6000 |\n",
      "+------+--------+\n",
      "| X(1) | 0.4000 |\n",
      "+------+--------+\n"
     ]
    }
   ],
   "source": [
    "# marginal_distribution() 메서드는 인수로 받은 확률변수에 대한 주변확률분포를 구함\n",
    "# 다음 코드는 결합확률로부터 주변확률 P(A), P(A^C)를 계산한다.\n",
    "pmx = pxy.marginal_distribution(['X'], inplace=False)\n",
    "print(pmx)\n",
    "### marginalize out = '없애라'라는 의미로 사용!"
   ]
  },
  {
   "cell_type": "code",
   "execution_count": 15,
   "id": "successful-marriage",
   "metadata": {},
   "outputs": [
    {
     "name": "stdout",
     "output_type": "stream",
     "text": [
      "+------+--------+\n",
      "| X    |   P(X) |\n",
      "+======+========+\n",
      "| X(0) | 0.6000 |\n",
      "+------+--------+\n",
      "| X(1) | 0.4000 |\n",
      "+------+--------+\n"
     ]
    }
   ],
   "source": [
    "# marginalize() 메서드는 인수로 받은 확률변수를 주변화(marginalize)하여,\n",
    "# 나머지 확률변수에 대한 주변확률분포를 구한다.\n",
    "# 다음 코드도 앞과 마찬가지로 결합확률로부터 주변확률 P(A), P(A^C)를 계산한다.\n",
    "pmx = pxy.marginalize(['Y'], inplace=False)\n",
    "print(pmx)"
   ]
  },
  {
   "cell_type": "code",
   "execution_count": null,
   "id": "assigned-combining",
   "metadata": {},
   "outputs": [],
   "source": []
  },
  {
   "cell_type": "code",
   "execution_count": 17,
   "id": "derived-crisis",
   "metadata": {},
   "outputs": [
    {
     "name": "stdout",
     "output_type": "stream",
     "text": [
      "+------+--------+\n",
      "| Y    |   P(Y) |\n",
      "+======+========+\n",
      "| Y(0) | 0.2500 |\n",
      "+------+--------+\n",
      "| Y(1) | 0.7500 |\n",
      "+------+--------+\n"
     ]
    }
   ],
   "source": [
    "# conditional_distribution() 메서드를 사용하면\n",
    "# 어떤 확률변수가 어떤 사건이 되는 조건에 대해 조건부확률값을 계산한다\n",
    "# 다음 코드는 결합확률로부터 조건부확률 P(B|A), P(B^C|A)를 계산한다\n",
    "py_on_x0 = pxy.conditional_distribution([('X', 0)], inplace=False) \n",
    "#사건 A(x0, 첫번째 사건)에 대한 조건부확률\n",
    "print(py_on_x0)"
   ]
  },
  {
   "cell_type": "code",
   "execution_count": null,
   "id": "extra-medicine",
   "metadata": {},
   "outputs": [],
   "source": []
  },
  {
   "cell_type": "markdown",
   "id": "circular-ridge",
   "metadata": {},
   "source": [
    "`check_independence()` 메서드를 이용하면 두 확률변수 간의 독립도 확인할 수 있다."
   ]
  },
  {
   "cell_type": "code",
   "execution_count": 18,
   "id": "falling-floor",
   "metadata": {},
   "outputs": [
    {
     "data": {
      "text/plain": [
       "False"
      ]
     },
     "execution_count": 18,
     "metadata": {},
     "output_type": "execute_result"
    }
   ],
   "source": [
    "pxy.check_independence(['X'], ['Y'])"
   ]
  },
  {
   "cell_type": "markdown",
   "id": "external-parks",
   "metadata": {},
   "source": [
    "두 개의 `JointProbabilityDistribution` 객체끼리 곱하면 두 분포가 독립이라는 가정하에 결합확률을 구한다. 이 값과 원래의 결합확률을 비교하면 독립이 아니라는 것을 알 수 있다."
   ]
  },
  {
   "cell_type": "code",
   "execution_count": 23,
   "id": "integral-scanner",
   "metadata": {},
   "outputs": [
    {
     "name": "stdout",
     "output_type": "stream",
     "text": [
      "+------+------+----------+\n",
      "| X    | Y    |   P(X,Y) |\n",
      "+======+======+==========+\n",
      "| X(0) | Y(0) |   0.2000 |\n",
      "+------+------+----------+\n",
      "| X(0) | Y(1) |   0.2000 |\n",
      "+------+------+----------+\n",
      "| X(1) | Y(0) |   0.3000 |\n",
      "+------+------+----------+\n",
      "| X(1) | Y(1) |   0.3000 |\n",
      "+------+------+----------+\n",
      "+------+------+----------+\n",
      "| X    | Y    |   P(X,Y) |\n",
      "+======+======+==========+\n",
      "| X(0) | Y(0) |   0.1500 |\n",
      "+------+------+----------+\n",
      "| X(0) | Y(1) |   0.4500 |\n",
      "+------+------+----------+\n",
      "| X(1) | Y(0) |   0.3500 |\n",
      "+------+------+----------+\n",
      "| X(1) | Y(1) |   0.0500 |\n",
      "+------+------+----------+\n"
     ]
    }
   ],
   "source": [
    "print(px * py)\n",
    "print(pxy)"
   ]
  },
  {
   "cell_type": "code",
   "execution_count": null,
   "id": "pressed-newton",
   "metadata": {},
   "outputs": [],
   "source": []
  },
  {
   "cell_type": "markdown",
   "id": "requested-reviewer",
   "metadata": {},
   "source": [
    "### 연습문제 6.5.8\n",
    "위에서 구현한 `JointProbabilityDistribution` 클래스 객체 `pxy2`로부터 주변확률 모형 및 조건부확률 모형을 구하라. 또 `check_indenpendence()` 메서드를 이용하여 사건 A, B의 독립을 확인하라."
   ]
  },
  {
   "cell_type": "code",
   "execution_count": 24,
   "id": "round-ceramic",
   "metadata": {},
   "outputs": [
    {
     "name": "stdout",
     "output_type": "stream",
     "text": [
      "+------+--------+\n",
      "| Y    |   P(Y) |\n",
      "+======+========+\n",
      "| Y(0) | 0.5000 |\n",
      "+------+--------+\n",
      "| Y(1) | 0.5000 |\n",
      "+------+--------+\n"
     ]
    }
   ],
   "source": [
    "py2_on_x0 = pxy2.conditional_distribution([('X', 0)], inplace=False) \n",
    "print(py2_on_x0)"
   ]
  },
  {
   "cell_type": "code",
   "execution_count": 25,
   "id": "ethical-humanity",
   "metadata": {},
   "outputs": [
    {
     "name": "stdout",
     "output_type": "stream",
     "text": [
      "+------+--------+\n",
      "| X    |   P(X) |\n",
      "+======+========+\n",
      "| X(0) | 0.6000 |\n",
      "+------+--------+\n",
      "| X(1) | 0.4000 |\n",
      "+------+--------+\n"
     ]
    }
   ],
   "source": [
    "py2_on_x1 = pxy2.conditional_distribution([('Y', 0)], inplace=False) \n",
    "print(py2_on_x1)"
   ]
  },
  {
   "cell_type": "code",
   "execution_count": 27,
   "id": "satisfied-breast",
   "metadata": {},
   "outputs": [
    {
     "data": {
      "text/plain": [
       "True"
      ]
     },
     "execution_count": 27,
     "metadata": {},
     "output_type": "execute_result"
    }
   ],
   "source": [
    "pxy2.check_independence(['X'], ['Y'])"
   ]
  },
  {
   "cell_type": "markdown",
   "id": "internal-twenty",
   "metadata": {},
   "source": [
    "### 독립이라면, marginal만 알면 joint prob을 쉽게 계산할 수 있음"
   ]
  },
  {
   "cell_type": "code",
   "execution_count": 28,
   "id": "worse-issue",
   "metadata": {},
   "outputs": [
    {
     "name": "stdout",
     "output_type": "stream",
     "text": [
      "+------+------+----------+\n",
      "| X    | Y    |   P(X,Y) |\n",
      "+======+======+==========+\n",
      "| X(0) | Y(0) |   0.3000 |\n",
      "+------+------+----------+\n",
      "| X(0) | Y(1) |   0.3000 |\n",
      "+------+------+----------+\n",
      "| X(1) | Y(0) |   0.2000 |\n",
      "+------+------+----------+\n",
      "| X(1) | Y(1) |   0.2000 |\n",
      "+------+------+----------+\n"
     ]
    }
   ],
   "source": [
    "print(pxy2)"
   ]
  },
  {
   "cell_type": "code",
   "execution_count": null,
   "id": "south-gabriel",
   "metadata": {},
   "outputs": [],
   "source": []
  }
 ],
 "metadata": {
  "kernelspec": {
   "display_name": "Python 3",
   "language": "python",
   "name": "python3"
  },
  "language_info": {
   "codemirror_mode": {
    "name": "ipython",
    "version": 3
   },
   "file_extension": ".py",
   "mimetype": "text/x-python",
   "name": "python",
   "nbconvert_exporter": "python",
   "pygments_lexer": "ipython3",
   "version": "3.7.9"
  }
 },
 "nbformat": 4,
 "nbformat_minor": 5
}
