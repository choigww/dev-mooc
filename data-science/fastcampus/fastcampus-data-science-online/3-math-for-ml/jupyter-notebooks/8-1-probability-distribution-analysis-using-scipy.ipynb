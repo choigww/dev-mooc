{
 "cells": [
  {
   "cell_type": "markdown",
   "id": "charming-learning",
   "metadata": {},
   "source": [
    "# 8.1 Scipy를 이용한 확률분포 분석\n"
   ]
  },
  {
   "cell_type": "code",
   "execution_count": 21,
   "id": "periodic-administration",
   "metadata": {},
   "outputs": [],
   "source": [
    "import numpy as np\n",
    "import scipy as sp\n",
    "import scipy.stats\n",
    "import matplotlib.pyplot as plt\n",
    "import seaborn as sns"
   ]
  },
  {
   "cell_type": "markdown",
   "id": "functional-ensemble",
   "metadata": {},
   "source": [
    "## 확률분포 클래스\n",
    "확률분포 객체 생성 명령\n",
    "\n",
    "종류|명령|확률분포\n",
    "-|-|-\n",
    "이산|`bernouli`|베르누이분포\n",
    "이산|`binom`|이항분포\n",
    "이산|`multinomial`|다항분포\n",
    "연속|`uniform`|균일분포\n",
    "연속|`norm`|정규분포\n",
    "연속|`beta`|베타분포\n",
    "연속|`gamma`|감마분포\n",
    "연속|`t`|스튜던트 t분포\n",
    "연속|`chi2`|카이 제곱분포\n",
    "연속|`f`|F분포\n",
    "연속|`dirichlet`|디리클리분포\n",
    "연속|`multivariate_normal`|다변수 정규분포"
   ]
  },
  {
   "cell_type": "code",
   "execution_count": null,
   "id": "compact-substitute",
   "metadata": {},
   "outputs": [],
   "source": []
  },
  {
   "cell_type": "code",
   "execution_count": 8,
   "id": "serial-summary",
   "metadata": {},
   "outputs": [],
   "source": [
    "# 정규분포 확률변수 객체 생성\n",
    "rv = sp.stats.norm()"
   ]
  },
  {
   "cell_type": "code",
   "execution_count": 9,
   "id": "engaged-republic",
   "metadata": {},
   "outputs": [
    {
     "data": {
      "text/plain": [
       "(0.0, 1.0)"
      ]
     },
     "execution_count": 9,
     "metadata": {},
     "output_type": "execute_result"
    }
   ],
   "source": [
    "rv.mean(), rv.std()"
   ]
  },
  {
   "cell_type": "code",
   "execution_count": null,
   "id": "engaged-senegal",
   "metadata": {},
   "outputs": [],
   "source": []
  },
  {
   "cell_type": "markdown",
   "id": "marked-repair",
   "metadata": {},
   "source": [
    "## 모수 지정\n",
    "- 확률분포 객체 생성 시, 분포 형상을 정의하는 모수(parameter)를 인수로 입력해야 함\n",
    "- 대부분 다음과 같은 모수를 공통적으로 갖는다\n",
    "    - `loc` : 일반적으로 분포의 기댓값\n",
    "    - `scale` : 일반적으로 분포의 표준편차"
   ]
  },
  {
   "cell_type": "code",
   "execution_count": 10,
   "id": "furnished-spray",
   "metadata": {},
   "outputs": [
    {
     "name": "stdout",
     "output_type": "stream",
     "text": [
      "1.0 2.0\n"
     ]
    }
   ],
   "source": [
    "# 기댓값 1, 표준편차 2인 정규분포 객체\n",
    "rv = sp.stats.norm(loc=1, scale=2)\n",
    "print(rv.mean(), rv.std())"
   ]
  },
  {
   "cell_type": "code",
   "execution_count": null,
   "id": "conventional-musical",
   "metadata": {},
   "outputs": [],
   "source": []
  },
  {
   "cell_type": "markdown",
   "id": "grave-pitch",
   "metadata": {},
   "source": [
    "## 확률분포 메서드\n",
    "확률분포 객체가 갖는 메서드는 다음과 같다.\n",
    "\n",
    "메서드|기능\n",
    "-|-\n",
    "`pmf`|확률질량함수(probability mass function)\n",
    "`pdf`|확률밀도함수(probability density function)\n",
    "`cdf`|누적분포함수(cumulative distribution function)\n",
    "`ppf`|누적분포함수의 역함수(inverse cumulative distribution function)\n",
    "`sf`|생존함수(survival function) = 1 - 누적분포함수\n",
    "`isf`|생존함수의 역함수(inverse survival function)\n",
    "`rvs`| 랜덤 표본 샘플링(random variable sampling)"
   ]
  },
  {
   "cell_type": "code",
   "execution_count": 14,
   "id": "russian-miracle",
   "metadata": {},
   "outputs": [
    {
     "data": {
      "text/plain": [
       "[<matplotlib.lines.Line2D at 0x1a1ae6dc90>]"
      ]
     },
     "execution_count": 14,
     "metadata": {},
     "output_type": "execute_result"
    },
    {
     "data": {
      "image/png": "[encoded data removed]",
      "text/plain": [
       "<Figure size 432x288 with 1 Axes>"
      ]
     },
     "metadata": {
      "needs_background": "light"
     },
     "output_type": "display_data"
    }
   ],
   "source": [
    "# pdf\n",
    "xx = np.linspace(-8, 8, 100)\n",
    "pdf = rv.pdf(xx)\n",
    "plt.plot(xx, pdf)"
   ]
  },
  {
   "cell_type": "code",
   "execution_count": 18,
   "id": "measured-plastic",
   "metadata": {},
   "outputs": [
    {
     "data": {
      "text/plain": [
       "[<matplotlib.lines.Line2D at 0x1a1b2f5b10>]"
      ]
     },
     "execution_count": 18,
     "metadata": {},
     "output_type": "execute_result"
    },
    {
     "data": {
      "image/png": "[encoded data removed]",
      "text/plain": [
       "<Figure size 432x288 with 1 Axes>"
      ]
     },
     "metadata": {
      "needs_background": "light"
     },
     "output_type": "display_data"
    }
   ],
   "source": [
    "rv = sp.stats.norm(loc=1, scale=0.1)\n",
    "xx = np.linspace(0, 2, 100)\n",
    "pdf = rv.pdf(xx)\n",
    "plt.plot(xx, pdf)"
   ]
  },
  {
   "cell_type": "code",
   "execution_count": null,
   "id": "homeless-september",
   "metadata": {},
   "outputs": [],
   "source": []
  },
  {
   "cell_type": "markdown",
   "id": "educated-identity",
   "metadata": {},
   "source": [
    "## 무작위 표본 생성\n",
    "`rvs`(random value sampling)\n",
    "- `size`  : 표본 생성 시 생성되는 표본 크기\n",
    "- `random_state` : 표본 생성 시 사용되는 시드(seed) 값"
   ]
  },
  {
   "cell_type": "code",
   "execution_count": 19,
   "id": "resistant-evening",
   "metadata": {},
   "outputs": [
    {
     "data": {
      "text/plain": [
       "array([[1.17640523, 1.04001572, 1.0978738 , 1.22408932, 1.1867558 ],\n",
       "       [0.90227221, 1.09500884, 0.98486428, 0.98967811, 1.04105985],\n",
       "       [1.01440436, 1.14542735, 1.07610377, 1.0121675 , 1.04438632]])"
      ]
     },
     "execution_count": 19,
     "metadata": {},
     "output_type": "execute_result"
    }
   ],
   "source": [
    "rv.rvs(size=(3,5), random_state=0)"
   ]
  },
  {
   "cell_type": "code",
   "execution_count": 27,
   "id": "interim-insight",
   "metadata": {},
   "outputs": [
    {
     "name": "stderr",
     "output_type": "stream",
     "text": [
      "/opt/anaconda3/envs/AI_dev/lib/python3.7/site-packages/seaborn/distributions.py:2557: FutureWarning: `distplot` is a deprecated function and will be removed in a future version. Please adapt your code to use either `displot` (a figure-level function with similar flexibility) or `histplot` (an axes-level function for histograms).\n",
      "  warnings.warn(msg, FutureWarning)\n"
     ]
    },
    {
     "data": {
      "image/png": "[encoded data removed]",
      "text/plain": [
       "<Figure size 432x288 with 1 Axes>"
      ]
     },
     "metadata": {
      "needs_background": "light"
     },
     "output_type": "display_data"
    }
   ],
   "source": [
    "sns.distplot(rv.rvs(size=10000, random_state=0))\n",
    "plt.title('result of random sampling')\n",
    "plt.xlim(0, 2)\n",
    "plt.show()"
   ]
  },
  {
   "cell_type": "code",
   "execution_count": null,
   "id": "heated-biodiversity",
   "metadata": {},
   "outputs": [],
   "source": []
  },
  {
   "cell_type": "markdown",
   "id": "legal-trial",
   "metadata": {},
   "source": [
    "## 변환 확률변수 시뮬레이션\n",
    "시뮬레이션 기능을 활용하여 확률변수 표본을 가공 > 변환시킨 확률변수의 분포를 확인 가능\n",
    "- 0-1 사이 균일분포 갖는 확률변수에서 두 표본을 생성하여 합하면 어떤 분포일까?"
   ]
  },
  {
   "cell_type": "code",
   "execution_count": 30,
   "id": "expanded-fraction",
   "metadata": {},
   "outputs": [
    {
     "data": {
      "text/plain": [
       "(-0.2, 2.2)"
      ]
     },
     "execution_count": 30,
     "metadata": {},
     "output_type": "execute_result"
    },
    {
     "data": {
      "image/png": "[encoded data removed]",
      "text/plain": [
       "<Figure size 864x360 with 3 Axes>"
      ]
     },
     "metadata": {
      "needs_background": "light"
     },
     "output_type": "display_data"
    }
   ],
   "source": [
    "rv1 = sp.stats.uniform()\n",
    "rv2 = sp.stats.uniform()\n",
    "\n",
    "np.random.seed(0)\n",
    "N = 50000\n",
    "x_1 = rv1.rvs(N)\n",
    "x_2 = rv2.rvs(N)\n",
    "x_3 = x_1 + x_2\n",
    "\n",
    "plt.figure(figsize=(12,5))\n",
    "\n",
    "plt.subplot(131)\n",
    "sns.distplot(x_1, kde=False)\n",
    "plt.title(\"uniform distribution\")\n",
    "plt.xlim(-0.2, 2.2)\n",
    "\n",
    "plt.subplot(132)\n",
    "sns.distplot(x_2, kde=False)\n",
    "plt.title(\"uniform distribution\")\n",
    "plt.xlim(-0.2, 2.2)\n",
    "\n",
    "plt.subplot(133)\n",
    "sns.distplot(x_3, kde=False)\n",
    "plt.title(\"distribution of sum of two uniform distributions\")\n",
    "plt.xlim(-0.2, 2.2)"
   ]
  },
  {
   "cell_type": "code",
   "execution_count": null,
   "id": "vertical-console",
   "metadata": {},
   "outputs": [],
   "source": []
  }
 ],
 "metadata": {
  "kernelspec": {
   "display_name": "Python 3",
   "language": "python",
   "name": "python3"
  },
  "language_info": {
   "codemirror_mode": {
    "name": "ipython",
    "version": 3
   },
   "file_extension": ".py",
   "mimetype": "text/x-python",
   "name": "python",
   "nbconvert_exporter": "python",
   "pygments_lexer": "ipython3",
   "version": "3.7.9"
  }
 },
 "nbformat": 4,
 "nbformat_minor": 5
}
