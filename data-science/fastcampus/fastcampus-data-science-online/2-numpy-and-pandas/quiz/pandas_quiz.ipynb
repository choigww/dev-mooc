{
 "cells": [
  {
   "cell_type": "markdown",
   "metadata": {
    "slideshow": {
     "slide_type": "slide"
    }
   },
   "source": [
    "## 한국 경마 2014년도 데이터\n",
    "\n",
    "- 데이터셋 다운로드\n",
    "    - https://www.kaggle.com/parksami/koreahorseracedata\n",
    "- 순위를 승점제로 했을때 2014년 시즌에서 말들의 성적은?"
   ]
  },
  {
   "cell_type": "markdown",
   "metadata": {
    "slideshow": {
     "slide_type": "slide"
    }
   },
   "source": [
    "##### Race load dataset"
   ]
  },
  {
   "cell_type": "code",
   "execution_count": 6,
   "metadata": {},
   "outputs": [
    {
     "data": {
      "text/html": [
       "<div>\n",
       "<style scoped>\n",
       "    .dataframe tbody tr th:only-of-type {\n",
       "        vertical-align: middle;\n",
       "    }\n",
       "\n",
       "    .dataframe tbody tr th {\n",
       "        vertical-align: top;\n",
       "    }\n",
       "\n",
       "    .dataframe thead th {\n",
       "        text-align: right;\n",
       "    }\n",
       "</style>\n",
       "<table border=\"1\" class=\"dataframe\">\n",
       "  <thead>\n",
       "    <tr style=\"text-align: right;\">\n",
       "      <th></th>\n",
       "      <th>ID</th>\n",
       "      <th>RCTRCK</th>\n",
       "      <th>RACE_DE</th>\n",
       "      <th>RACE_NO</th>\n",
       "      <th>PARTCPT_NO</th>\n",
       "      <th>RANK</th>\n",
       "      <th>RCHOSE_NM</th>\n",
       "      <th>HRSMN</th>\n",
       "      <th>RCORD</th>\n",
       "      <th>ARVL_DFFRNC</th>\n",
       "      <th>EACH_SCTN_PASAGE_RANK</th>\n",
       "      <th>A_WIN_SYTM_EXPECT_ALOT</th>\n",
       "      <th>WIN_STA_EXPECT_ALOT</th>\n",
       "    </tr>\n",
       "  </thead>\n",
       "  <tbody>\n",
       "    <tr>\n",
       "      <th>27216</th>\n",
       "      <td>27217</td>\n",
       "      <td>제주</td>\n",
       "      <td>2014-11-29</td>\n",
       "      <td>9</td>\n",
       "      <td>7</td>\n",
       "      <td>6.0</td>\n",
       "      <td>미주여행</td>\n",
       "      <td>김경휴</td>\n",
       "      <td>0:01:31.1</td>\n",
       "      <td>13</td>\n",
       "      <td>2 -  -  - 2 - 3 - 6</td>\n",
       "      <td>6.2</td>\n",
       "      <td>9.4</td>\n",
       "    </tr>\n",
       "    <tr>\n",
       "      <th>27217</th>\n",
       "      <td>27218</td>\n",
       "      <td>제주</td>\n",
       "      <td>2014-11-29</td>\n",
       "      <td>9</td>\n",
       "      <td>6</td>\n",
       "      <td>1.0</td>\n",
       "      <td>철옹성</td>\n",
       "      <td>장우성</td>\n",
       "      <td>0:01:26.6</td>\n",
       "      <td>NaN</td>\n",
       "      <td>1 -  -  - 1 - 1 - 1</td>\n",
       "      <td>3.9</td>\n",
       "      <td>2.9</td>\n",
       "    </tr>\n",
       "  </tbody>\n",
       "</table>\n",
       "</div>"
      ],
      "text/plain": [
       "          ID RCTRCK     RACE_DE  RACE_NO  PARTCPT_NO  RANK RCHOSE_NM HRSMN  \\\n",
       "27216  27217     제주  2014-11-29        9           7   6.0      미주여행   김경휴   \n",
       "27217  27218     제주  2014-11-29        9           6   1.0       철옹성   장우성   \n",
       "\n",
       "           RCORD ARVL_DFFRNC EACH_SCTN_PASAGE_RANK  A_WIN_SYTM_EXPECT_ALOT  \\\n",
       "27216  0:01:31.1          13   2 -  -  - 2 - 3 - 6                     6.2   \n",
       "27217  0:01:26.6         NaN   1 -  -  - 1 - 1 - 1                     3.9   \n",
       "\n",
       "       WIN_STA_EXPECT_ALOT  \n",
       "27216                  9.4  \n",
       "27217                  2.9  "
      ]
     },
     "execution_count": 6,
     "metadata": {},
     "output_type": "execute_result"
    }
   ],
   "source": [
    "df_race = pd.read_csv(\"2014_p.csv\", encoding=\"euc-kr\")\n",
    "df_race.tail(2)"
   ]
  },
  {
   "cell_type": "markdown",
   "metadata": {},
   "source": [
    "##### Horse load dataset"
   ]
  },
  {
   "cell_type": "code",
   "execution_count": 7,
   "metadata": {},
   "outputs": [
    {
     "data": {
      "text/html": [
       "<div>\n",
       "<style scoped>\n",
       "    .dataframe tbody tr th:only-of-type {\n",
       "        vertical-align: middle;\n",
       "    }\n",
       "\n",
       "    .dataframe tbody tr th {\n",
       "        vertical-align: top;\n",
       "    }\n",
       "\n",
       "    .dataframe thead th {\n",
       "        text-align: right;\n",
       "    }\n",
       "</style>\n",
       "<table border=\"1\" class=\"dataframe\">\n",
       "  <thead>\n",
       "    <tr style=\"text-align: right;\">\n",
       "      <th></th>\n",
       "      <th>ID</th>\n",
       "      <th>RCTRCK</th>\n",
       "      <th>RACE_DE</th>\n",
       "      <th>PRDCTN_NATION_NM</th>\n",
       "      <th>SEX</th>\n",
       "      <th>AGE</th>\n",
       "      <th>BND_WT</th>\n",
       "      <th>TRNER</th>\n",
       "      <th>RCHOSE_OWNR_NM</th>\n",
       "      <th>RCHOSE_BDWGH</th>\n",
       "    </tr>\n",
       "  </thead>\n",
       "  <tbody>\n",
       "    <tr>\n",
       "      <th>27216</th>\n",
       "      <td>27217</td>\n",
       "      <td>제주</td>\n",
       "      <td>2014-11-29</td>\n",
       "      <td>한</td>\n",
       "      <td>거</td>\n",
       "      <td>NaN</td>\n",
       "      <td>53.0</td>\n",
       "      <td>강대은</td>\n",
       "      <td>김기준</td>\n",
       "      <td>281</td>\n",
       "    </tr>\n",
       "    <tr>\n",
       "      <th>27217</th>\n",
       "      <td>27218</td>\n",
       "      <td>제주</td>\n",
       "      <td>2014-11-29</td>\n",
       "      <td>한</td>\n",
       "      <td>거</td>\n",
       "      <td>NaN</td>\n",
       "      <td>57.5</td>\n",
       "      <td>박병진</td>\n",
       "      <td>강상우</td>\n",
       "      <td>314</td>\n",
       "    </tr>\n",
       "  </tbody>\n",
       "</table>\n",
       "</div>"
      ],
      "text/plain": [
       "          ID RCTRCK     RACE_DE PRDCTN_NATION_NM SEX  AGE  BND_WT TRNER  \\\n",
       "27216  27217     제주  2014-11-29                한   거  NaN    53.0   강대은   \n",
       "27217  27218     제주  2014-11-29                한   거  NaN    57.5   박병진   \n",
       "\n",
       "      RCHOSE_OWNR_NM  RCHOSE_BDWGH  \n",
       "27216            김기준           281  \n",
       "27217            강상우           314  "
      ]
     },
     "execution_count": 7,
     "metadata": {},
     "output_type": "execute_result"
    }
   ],
   "source": [
    "df_horse = pd.read_csv('2014_s.csv', encoding='euc-kr')\n",
    "df_horse.tail(2)"
   ]
  },
  {
   "cell_type": "markdown",
   "metadata": {
    "slideshow": {
     "slide_type": "slide"
    }
   },
   "source": [
    "### Quiz 1. 어떤 성별을 가진 말이 성적이 좋을까?\n",
    "\n",
    "- race 데이터 프레임 : 성적데이터\n",
    "- horse 데이터 프레임 : 성별 데이터\n",
    "- race 데이터와 horse 데이터를 ID를 key값으로 merge\n",
    "\n",
    "- 분석 절차\n",
    "    - 1. 성별에 따른 순위 데이터 프레임으로 생성\n",
    "    - 2. 전체 데이터에서 성별 데이터를 나눠서 확률 데이터로 변경\n",
    "    - 3. 1 ~ 5등까지의 성별에 따른 등수 확률 데이터를 출력"
   ]
  },
  {
   "cell_type": "code",
   "execution_count": 13,
   "metadata": {},
   "outputs": [
    {
     "data": {
      "text/html": [
       "<div>\n",
       "<style scoped>\n",
       "    .dataframe tbody tr th:only-of-type {\n",
       "        vertical-align: middle;\n",
       "    }\n",
       "\n",
       "    .dataframe tbody tr th {\n",
       "        vertical-align: top;\n",
       "    }\n",
       "\n",
       "    .dataframe thead th {\n",
       "        text-align: right;\n",
       "    }\n",
       "</style>\n",
       "<table border=\"1\" class=\"dataframe\">\n",
       "  <thead>\n",
       "    <tr style=\"text-align: right;\">\n",
       "      <th></th>\n",
       "      <th>ID</th>\n",
       "      <th>RCTRCK</th>\n",
       "      <th>RACE_DE</th>\n",
       "      <th>RACE_NO</th>\n",
       "      <th>PARTCPT_NO</th>\n",
       "      <th>RANK</th>\n",
       "      <th>RCHOSE_NM</th>\n",
       "      <th>HRSMN</th>\n",
       "      <th>RCORD</th>\n",
       "      <th>ARVL_DFFRNC</th>\n",
       "      <th>EACH_SCTN_PASAGE_RANK</th>\n",
       "      <th>A_WIN_SYTM_EXPECT_ALOT</th>\n",
       "      <th>WIN_STA_EXPECT_ALOT</th>\n",
       "      <th>PRDCTN_NATION_NM</th>\n",
       "      <th>SEX</th>\n",
       "      <th>AGE</th>\n",
       "      <th>BND_WT</th>\n",
       "      <th>TRNER</th>\n",
       "      <th>RCHOSE_OWNR_NM</th>\n",
       "      <th>RCHOSE_BDWGH</th>\n",
       "    </tr>\n",
       "  </thead>\n",
       "  <tbody>\n",
       "    <tr>\n",
       "      <th>27215</th>\n",
       "      <td>27216</td>\n",
       "      <td>제주</td>\n",
       "      <td>2014-11-29</td>\n",
       "      <td>4</td>\n",
       "      <td>3</td>\n",
       "      <td>7.0</td>\n",
       "      <td>산정무한</td>\n",
       "      <td>안득수</td>\n",
       "      <td>0:01:22.8</td>\n",
       "      <td>1½</td>\n",
       "      <td>4 -  -  - 4 - 4 - 6</td>\n",
       "      <td>30.9</td>\n",
       "      <td>5.2</td>\n",
       "      <td>한</td>\n",
       "      <td>거</td>\n",
       "      <td>NaN</td>\n",
       "      <td>52.5</td>\n",
       "      <td>김영래</td>\n",
       "      <td>광명종합</td>\n",
       "      <td>333</td>\n",
       "    </tr>\n",
       "    <tr>\n",
       "      <th>27216</th>\n",
       "      <td>27217</td>\n",
       "      <td>제주</td>\n",
       "      <td>2014-11-29</td>\n",
       "      <td>9</td>\n",
       "      <td>7</td>\n",
       "      <td>6.0</td>\n",
       "      <td>미주여행</td>\n",
       "      <td>김경휴</td>\n",
       "      <td>0:01:31.1</td>\n",
       "      <td>13</td>\n",
       "      <td>2 -  -  - 2 - 3 - 6</td>\n",
       "      <td>6.2</td>\n",
       "      <td>9.4</td>\n",
       "      <td>한</td>\n",
       "      <td>거</td>\n",
       "      <td>NaN</td>\n",
       "      <td>53.0</td>\n",
       "      <td>강대은</td>\n",
       "      <td>김기준</td>\n",
       "      <td>281</td>\n",
       "    </tr>\n",
       "    <tr>\n",
       "      <th>27217</th>\n",
       "      <td>27218</td>\n",
       "      <td>제주</td>\n",
       "      <td>2014-11-29</td>\n",
       "      <td>9</td>\n",
       "      <td>6</td>\n",
       "      <td>1.0</td>\n",
       "      <td>철옹성</td>\n",
       "      <td>장우성</td>\n",
       "      <td>0:01:26.6</td>\n",
       "      <td>NaN</td>\n",
       "      <td>1 -  -  - 1 - 1 - 1</td>\n",
       "      <td>3.9</td>\n",
       "      <td>2.9</td>\n",
       "      <td>한</td>\n",
       "      <td>거</td>\n",
       "      <td>NaN</td>\n",
       "      <td>57.5</td>\n",
       "      <td>박병진</td>\n",
       "      <td>강상우</td>\n",
       "      <td>314</td>\n",
       "    </tr>\n",
       "  </tbody>\n",
       "</table>\n",
       "</div>"
      ],
      "text/plain": [
       "          ID RCTRCK     RACE_DE  RACE_NO  PARTCPT_NO  RANK RCHOSE_NM HRSMN  \\\n",
       "27215  27216     제주  2014-11-29        4           3   7.0      산정무한   안득수   \n",
       "27216  27217     제주  2014-11-29        9           7   6.0      미주여행   김경휴   \n",
       "27217  27218     제주  2014-11-29        9           6   1.0       철옹성   장우성   \n",
       "\n",
       "           RCORD ARVL_DFFRNC EACH_SCTN_PASAGE_RANK  A_WIN_SYTM_EXPECT_ALOT  \\\n",
       "27215  0:01:22.8          1½   4 -  -  - 4 - 4 - 6                    30.9   \n",
       "27216  0:01:31.1          13   2 -  -  - 2 - 3 - 6                     6.2   \n",
       "27217  0:01:26.6         NaN   1 -  -  - 1 - 1 - 1                     3.9   \n",
       "\n",
       "       WIN_STA_EXPECT_ALOT PRDCTN_NATION_NM SEX  AGE  BND_WT TRNER  \\\n",
       "27215                  5.2                한   거  NaN    52.5   김영래   \n",
       "27216                  9.4                한   거  NaN    53.0   강대은   \n",
       "27217                  2.9                한   거  NaN    57.5   박병진   \n",
       "\n",
       "      RCHOSE_OWNR_NM  RCHOSE_BDWGH  \n",
       "27215           광명종합           333  \n",
       "27216            김기준           281  \n",
       "27217            강상우           314  "
      ]
     },
     "execution_count": 13,
     "metadata": {},
     "output_type": "execute_result"
    }
   ],
   "source": [
    "df_merged = pd.merge(df_race, df_horse)\n",
    "df_merged.tail(3)"
   ]
  },
  {
   "cell_type": "code",
   "execution_count": 16,
   "metadata": {},
   "outputs": [
    {
     "data": {
      "text/html": [
       "<div>\n",
       "<style scoped>\n",
       "    .dataframe tbody tr th:only-of-type {\n",
       "        vertical-align: middle;\n",
       "    }\n",
       "\n",
       "    .dataframe tbody tr th {\n",
       "        vertical-align: top;\n",
       "    }\n",
       "\n",
       "    .dataframe thead th {\n",
       "        text-align: right;\n",
       "    }\n",
       "</style>\n",
       "<table border=\"1\" class=\"dataframe\">\n",
       "  <thead>\n",
       "    <tr style=\"text-align: right;\">\n",
       "      <th>SEX</th>\n",
       "      <th>거</th>\n",
       "      <th>수</th>\n",
       "      <th>암</th>\n",
       "    </tr>\n",
       "    <tr>\n",
       "      <th>RANK</th>\n",
       "      <th></th>\n",
       "      <th></th>\n",
       "      <th></th>\n",
       "    </tr>\n",
       "  </thead>\n",
       "  <tbody>\n",
       "    <tr>\n",
       "      <th>1.0</th>\n",
       "      <td>528.0</td>\n",
       "      <td>1067.0</td>\n",
       "      <td>964.0</td>\n",
       "    </tr>\n",
       "    <tr>\n",
       "      <th>2.0</th>\n",
       "      <td>488.0</td>\n",
       "      <td>1033.0</td>\n",
       "      <td>1021.0</td>\n",
       "    </tr>\n",
       "    <tr>\n",
       "      <th>3.0</th>\n",
       "      <td>538.0</td>\n",
       "      <td>984.0</td>\n",
       "      <td>1029.0</td>\n",
       "    </tr>\n",
       "    <tr>\n",
       "      <th>4.0</th>\n",
       "      <td>524.0</td>\n",
       "      <td>947.0</td>\n",
       "      <td>1082.0</td>\n",
       "    </tr>\n",
       "    <tr>\n",
       "      <th>5.0</th>\n",
       "      <td>502.0</td>\n",
       "      <td>897.0</td>\n",
       "      <td>1148.0</td>\n",
       "    </tr>\n",
       "  </tbody>\n",
       "</table>\n",
       "</div>"
      ],
      "text/plain": [
       "SEX       거       수       암\n",
       "RANK                       \n",
       "1.0   528.0  1067.0   964.0\n",
       "2.0   488.0  1033.0  1021.0\n",
       "3.0   538.0   984.0  1029.0\n",
       "4.0   524.0   947.0  1082.0\n",
       "5.0   502.0   897.0  1148.0"
      ]
     },
     "execution_count": 16,
     "metadata": {},
     "output_type": "execute_result"
    }
   ],
   "source": [
    "# 1. 성별에 따른 순위 데이터 프레임으로 생성"
   ]
  },
  {
   "cell_type": "code",
   "execution_count": 17,
   "metadata": {},
   "outputs": [
    {
     "data": {
      "text/plain": [
       "SEX\n",
       "거     5576\n",
       "수     9869\n",
       "암    11773\n",
       "dtype: int64"
      ]
     },
     "execution_count": 17,
     "metadata": {},
     "output_type": "execute_result"
    }
   ],
   "source": [
    "# 성별에 대한 전체 데이터"
   ]
  },
  {
   "cell_type": "code",
   "execution_count": 18,
   "metadata": {},
   "outputs": [
    {
     "data": {
      "text/html": [
       "<div>\n",
       "<style scoped>\n",
       "    .dataframe tbody tr th:only-of-type {\n",
       "        vertical-align: middle;\n",
       "    }\n",
       "\n",
       "    .dataframe tbody tr th {\n",
       "        vertical-align: top;\n",
       "    }\n",
       "\n",
       "    .dataframe thead th {\n",
       "        text-align: right;\n",
       "    }\n",
       "</style>\n",
       "<table border=\"1\" class=\"dataframe\">\n",
       "  <thead>\n",
       "    <tr style=\"text-align: right;\">\n",
       "      <th>SEX</th>\n",
       "      <th>거</th>\n",
       "      <th>수</th>\n",
       "      <th>암</th>\n",
       "    </tr>\n",
       "    <tr>\n",
       "      <th>RANK</th>\n",
       "      <th></th>\n",
       "      <th></th>\n",
       "      <th></th>\n",
       "    </tr>\n",
       "  </thead>\n",
       "  <tbody>\n",
       "    <tr>\n",
       "      <th>1.0</th>\n",
       "      <td>9.469154</td>\n",
       "      <td>10.811632</td>\n",
       "      <td>8.188227</td>\n",
       "    </tr>\n",
       "    <tr>\n",
       "      <th>2.0</th>\n",
       "      <td>8.751793</td>\n",
       "      <td>10.467119</td>\n",
       "      <td>8.672386</td>\n",
       "    </tr>\n",
       "    <tr>\n",
       "      <th>3.0</th>\n",
       "      <td>9.648494</td>\n",
       "      <td>9.970615</td>\n",
       "      <td>8.740338</td>\n",
       "    </tr>\n",
       "    <tr>\n",
       "      <th>4.0</th>\n",
       "      <td>9.397418</td>\n",
       "      <td>9.595704</td>\n",
       "      <td>9.190521</td>\n",
       "    </tr>\n",
       "    <tr>\n",
       "      <th>5.0</th>\n",
       "      <td>9.002869</td>\n",
       "      <td>9.089067</td>\n",
       "      <td>9.751125</td>\n",
       "    </tr>\n",
       "  </tbody>\n",
       "</table>\n",
       "</div>"
      ],
      "text/plain": [
       "SEX          거          수         암\n",
       "RANK                               \n",
       "1.0   9.469154  10.811632  8.188227\n",
       "2.0   8.751793  10.467119  8.672386\n",
       "3.0   9.648494   9.970615  8.740338\n",
       "4.0   9.397418   9.595704  9.190521\n",
       "5.0   9.002869   9.089067  9.751125"
      ]
     },
     "execution_count": 18,
     "metadata": {},
     "output_type": "execute_result"
    }
   ],
   "source": [
    "# 2. 전체 데이터에서 성별 데이터를 나눠서 확률 데이터로 변경"
   ]
  },
  {
   "cell_type": "code",
   "execution_count": 19,
   "metadata": {},
   "outputs": [
    {
     "data": {
      "text/html": [
       "<div>\n",
       "<style scoped>\n",
       "    .dataframe tbody tr th:only-of-type {\n",
       "        vertical-align: middle;\n",
       "    }\n",
       "\n",
       "    .dataframe tbody tr th {\n",
       "        vertical-align: top;\n",
       "    }\n",
       "\n",
       "    .dataframe thead th {\n",
       "        text-align: right;\n",
       "    }\n",
       "</style>\n",
       "<table border=\"1\" class=\"dataframe\">\n",
       "  <thead>\n",
       "    <tr style=\"text-align: right;\">\n",
       "      <th>SEX</th>\n",
       "      <th>거</th>\n",
       "      <th>수</th>\n",
       "      <th>암</th>\n",
       "    </tr>\n",
       "    <tr>\n",
       "      <th>RANK</th>\n",
       "      <th></th>\n",
       "      <th></th>\n",
       "      <th></th>\n",
       "    </tr>\n",
       "  </thead>\n",
       "  <tbody>\n",
       "    <tr>\n",
       "      <th>1.0</th>\n",
       "      <td>9.47</td>\n",
       "      <td>10.81</td>\n",
       "      <td>8.19</td>\n",
       "    </tr>\n",
       "    <tr>\n",
       "      <th>2.0</th>\n",
       "      <td>8.75</td>\n",
       "      <td>10.47</td>\n",
       "      <td>8.67</td>\n",
       "    </tr>\n",
       "    <tr>\n",
       "      <th>3.0</th>\n",
       "      <td>9.65</td>\n",
       "      <td>9.97</td>\n",
       "      <td>8.74</td>\n",
       "    </tr>\n",
       "    <tr>\n",
       "      <th>4.0</th>\n",
       "      <td>9.40</td>\n",
       "      <td>9.60</td>\n",
       "      <td>9.19</td>\n",
       "    </tr>\n",
       "    <tr>\n",
       "      <th>5.0</th>\n",
       "      <td>9.00</td>\n",
       "      <td>9.09</td>\n",
       "      <td>9.75</td>\n",
       "    </tr>\n",
       "  </tbody>\n",
       "</table>\n",
       "</div>"
      ],
      "text/plain": [
       "SEX      거      수     암\n",
       "RANK                   \n",
       "1.0   9.47  10.81  8.19\n",
       "2.0   8.75  10.47  8.67\n",
       "3.0   9.65   9.97  8.74\n",
       "4.0   9.40   9.60  9.19\n",
       "5.0   9.00   9.09  9.75"
      ]
     },
     "execution_count": 19,
     "metadata": {},
     "output_type": "execute_result"
    }
   ],
   "source": [
    "# 소수 둘째자리까지만 출력\n",
    "# 결론 : 수컷이 좋은 성적을 낼 확률이 높다.\n",
    "df = round(df, 2)\n",
    "df.head()"
   ]
  },
  {
   "cell_type": "markdown",
   "metadata": {
    "slideshow": {
     "slide_type": "slide"
    }
   },
   "source": [
    "###  Quiz 2. 순위를 승점제로 했을때 2014년 시즌에서 말들의 성적은?"
   ]
  },
  {
   "cell_type": "markdown",
   "metadata": {},
   "source": [
    "- 1등 : 3점\n",
    "- 2등 : 2점\n",
    "- 3등 : 1점"
   ]
  },
  {
   "cell_type": "code",
   "execution_count": 12,
   "metadata": {
    "slideshow": {
     "slide_type": "slide"
    }
   },
   "outputs": [
    {
     "data": {
      "text/html": [
       "<div>\n",
       "<style scoped>\n",
       "    .dataframe tbody tr th:only-of-type {\n",
       "        vertical-align: middle;\n",
       "    }\n",
       "\n",
       "    .dataframe tbody tr th {\n",
       "        vertical-align: top;\n",
       "    }\n",
       "\n",
       "    .dataframe thead th {\n",
       "        text-align: right;\n",
       "    }\n",
       "</style>\n",
       "<table border=\"1\" class=\"dataframe\">\n",
       "  <thead>\n",
       "    <tr style=\"text-align: right;\">\n",
       "      <th></th>\n",
       "      <th>RCHOSE_NM</th>\n",
       "      <th>POINT</th>\n",
       "    </tr>\n",
       "  </thead>\n",
       "  <tbody>\n",
       "    <tr>\n",
       "      <th>0</th>\n",
       "      <td>신천보스</td>\n",
       "      <td>25.0</td>\n",
       "    </tr>\n",
       "    <tr>\n",
       "      <th>1</th>\n",
       "      <td>금포스카이</td>\n",
       "      <td>24.0</td>\n",
       "    </tr>\n",
       "    <tr>\n",
       "      <th>2</th>\n",
       "      <td>한강의기적</td>\n",
       "      <td>23.0</td>\n",
       "    </tr>\n",
       "    <tr>\n",
       "      <th>3</th>\n",
       "      <td>가리사니</td>\n",
       "      <td>23.0</td>\n",
       "    </tr>\n",
       "    <tr>\n",
       "      <th>4</th>\n",
       "      <td>신천돌채</td>\n",
       "      <td>22.0</td>\n",
       "    </tr>\n",
       "  </tbody>\n",
       "</table>\n",
       "</div>"
      ],
      "text/plain": [
       "  RCHOSE_NM  POINT\n",
       "0      신천보스   25.0\n",
       "1     금포스카이   24.0\n",
       "2     한강의기적   23.0\n",
       "3      가리사니   23.0\n",
       "4      신천돌채   22.0"
      ]
     },
     "execution_count": 12,
     "metadata": {},
     "output_type": "execute_result"
    }
   ],
   "source": [
    "# TODO"
   ]
  }
 ],
 "metadata": {
  "celltoolbar": "Slideshow",
  "kernelspec": {
   "display_name": "Python 3",
   "language": "python",
   "name": "python3"
  },
  "language_info": {
   "codemirror_mode": {
    "name": "ipython",
    "version": 3
   },
   "file_extension": ".py",
   "mimetype": "text/x-python",
   "name": "python",
   "nbconvert_exporter": "python",
   "pygments_lexer": "ipython3",
   "version": "3.7.3"
  }
 },
 "nbformat": 4,
 "nbformat_minor": 2
}
