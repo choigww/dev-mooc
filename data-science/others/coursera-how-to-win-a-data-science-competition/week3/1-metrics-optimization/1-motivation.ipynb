{
 "cells": [
  {
   "cell_type": "markdown",
   "metadata": {},
   "source": [
    "# Motivation"
   ]
  },
  {
   "cell_type": "code",
   "execution_count": null,
   "metadata": {},
   "outputs": [],
   "source": []
  },
  {
   "cell_type": "markdown",
   "metadata": {},
   "source": [
    "#### Lesson overview\n",
    "\n",
    "In this video:\n",
    "* **Metrics**\n",
    "  - Why there are so many\n",
    "  - Why should we care about them in competitions\n",
    "\n",
    "\n",
    "In the following videos:\n",
    "* **Loss versus metric**\n",
    "* **Review the most important metrics**\n",
    "  - For classification and regression tasks\n",
    "  - Discuss baseline solutions for their optimization\n",
    "* **Optimization techniques for the metrics**"
   ]
  },
  {
   "cell_type": "code",
   "execution_count": null,
   "metadata": {},
   "outputs": [],
   "source": []
  },
  {
   "cell_type": "markdown",
   "metadata": {},
   "source": [
    "## Metrics\n",
    "\n",
    "Why do we have a different evaluation metric on each competition? That is because:\n",
    "* there are **plenty of ways to measure a quality of an algorithm**\n",
    "* and **each company decides for themselves what is the most appropriate way for their particular problem**\n",
    "\n",
    "### Say you want to increase the `effectiveness` of your website\n",
    "* What is `effectiveness`?\n",
    "  * `the number of time a website was visited`?\n",
    "  * `the number of product orders from the website`?\n",
    "* `defining effectiveness` == `selecting evaluation metric`\n",
    "  \n",
    "### It's very important to understand \n",
    "* how metric works\n",
    "* how to optimize it efficiently"
   ]
  },
  {
   "cell_type": "code",
   "execution_count": null,
   "metadata": {},
   "outputs": [],
   "source": []
  },
  {
   "cell_type": "markdown",
   "metadata": {},
   "source": [
    "![opt-metric](../img/optimize-metric.png)\n",
    "\n",
    "The two kinds of lines (`solid`, `dashed`) show the best line your boundaries for the best two cases\n",
    "* For `dashed` line, M1 score is the highest among all possible hyperplanes - but M2 score for the hyperplane is low\n",
    "* For `solid` line, M2 is the highest whereas M1 the lowest."
   ]
  },
  {
   "cell_type": "code",
   "execution_count": null,
   "metadata": {},
   "outputs": [],
   "source": []
  },
  {
   "cell_type": "markdown",
   "metadata": {},
   "source": [
    "## <center>Take-away point</center>\n",
    "\n",
    "<center>**If your model is scored with some metric, you get the best results by optimizing exactly that metric**</center>"
   ]
  },
  {
   "cell_type": "code",
   "execution_count": null,
   "metadata": {},
   "outputs": [],
   "source": []
  },
  {
   "cell_type": "markdown",
   "metadata": {},
   "source": [
    "## Motivation 2\n",
    "\n",
    "In particular, time series can be very challenging to forecast, even if you did a validation just right. Split by time, moving windows, fill the distribution in the future can be much different from what we had in the train set.<br>\n",
    "\n",
    "Or sometimes, there's just not enough training data, so a model cannot capture the patterns.\n",
    "\n",
    "![timeseries](../img/time-series.png)\n",
    "\n",
    "### Metric example\n",
    "**This metric cares a lot more about correct trend to be predicted than about actual value you predict!**\n",
    "\n",
    "![metric-ex](../img/metric-example.png)\n",
    "* If a trend is guessed correctly, then the absolute difference between the prediction and the target is considered as an error.\n",
    "  * If, for instance, model predict and value in the prediction horizon are shown higher than the last value from the train set, but in reality it is lower, then the trend is predicted incorrectly\n",
    "  * The error was set to absolute difference squared\n",
    "  \n",
    "#### Predict *trend* instead of the values:\n",
    "> Predict<br>$y_{last} + constant (10^{-6})$<br>or<br>$y_{last} - constant(10^{-6})$\n",
    "\n",
    "> \"What is more likely the values in the horizon to be lower than the last known value or to be higher?\"\n",
    "> Got 1st place in the competition applying the above trick!\n",
    "\n",
    "### Finding a nice way to optimize a metric can give you advantage over other participants\n",
    "* especially if the metric is peculiar\n",
    "\n",
    "### We should not forget to do kind of `explanatory metric analysis` along with `EDA`\n",
    "* at least when the metric is an unusual one!"
   ]
  },
  {
   "cell_type": "code",
   "execution_count": null,
   "metadata": {},
   "outputs": [],
   "source": []
  },
  {
   "cell_type": "markdown",
   "metadata": {},
   "source": [
    "## Conclusion\n",
    "* Why there are so many metrics?\n",
    "  - Different metrics for different problems\n",
    "* Why should we care about metric in competitions?\n",
    "  - It is how the competitors are ranked!"
   ]
  },
  {
   "cell_type": "code",
   "execution_count": null,
   "metadata": {},
   "outputs": [],
   "source": []
  }
 ],
 "metadata": {
  "kernelspec": {
   "display_name": "Python 3",
   "language": "python",
   "name": "python3"
  },
  "language_info": {
   "codemirror_mode": {
    "name": "ipython",
    "version": 3
   },
   "file_extension": ".py",
   "mimetype": "text/x-python",
   "name": "python",
   "nbconvert_exporter": "python",
   "pygments_lexer": "ipython3",
   "version": "3.6.2"
  }
 },
 "nbformat": 4,
 "nbformat_minor": 2
}
