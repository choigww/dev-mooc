{
 "cells": [
  {
   "cell_type": "markdown",
   "metadata": {},
   "source": [
    "# Exploring Anonymized data\n",
    "\n",
    "The data is not always given as kindly explained. It can be anonymized and obfuscated.\n",
    "\n",
    "#### Video Overview\n",
    "1. What is anonymized data?\n",
    "2. What can we do with it?"
   ]
  },
  {
   "cell_type": "code",
   "execution_count": null,
   "metadata": {},
   "outputs": [],
   "source": []
  },
  {
   "cell_type": "markdown",
   "metadata": {},
   "source": [
    "## Anonymized data\n",
    "Data which organizers intentionally changed\n",
    "\n",
    "![an1](img/anonymized1.png)\n",
    "\n",
    "If a company wants someone to classify its document but does not want to reveal the documents' content, it can replace all the word occurrences with hash values of those words like the above.\n",
    "\n",
    "![an2](img/anonymized2.png)\n",
    "\n",
    "Organizers can hide some information by changing the column names.\n",
    "\n",
    "#### Explore individual features\n",
    "- Guess the meaning of the columns\n",
    "- Guess the types of the column\n",
    "\n",
    "#### Explore feature relations\n",
    "- Find relations between pairs\n",
    "- Find feature groups"
   ]
  },
  {
   "cell_type": "code",
   "execution_count": null,
   "metadata": {},
   "outputs": [],
   "source": []
  },
  {
   "cell_type": "markdown",
   "metadata": {},
   "source": [
    "## Exploring individual features: guessing types\n",
    "\n",
    "Helpful functions\n",
    "```python\n",
    "df.dtypes\n",
    "df.info()\n",
    "df.isnull()\n",
    "series.dtype\n",
    "series.value_counts()\n",
    "```"
   ]
  },
  {
   "cell_type": "code",
   "execution_count": null,
   "metadata": {},
   "outputs": [],
   "source": []
  },
  {
   "cell_type": "markdown",
   "metadata": {},
   "source": [
    "## Conclusion\n",
    "\n",
    "#### Two things to do with anonymized features\n",
    "- Try to decode the features\n",
    "  * Guess the true meaning of the feature\n",
    "- Guess the feature types\n",
    "  * Each type needs its own preprocessing"
   ]
  },
  {
   "cell_type": "code",
   "execution_count": null,
   "metadata": {},
   "outputs": [],
   "source": []
  }
 ],
 "metadata": {
  "kernelspec": {
   "display_name": "Python 3",
   "language": "python",
   "name": "python3"
  },
  "language_info": {
   "codemirror_mode": {
    "name": "ipython",
    "version": 3
   },
   "file_extension": ".py",
   "mimetype": "text/x-python",
   "name": "python",
   "nbconvert_exporter": "python",
   "pygments_lexer": "ipython3",
   "version": "3.6.2"
  }
 },
 "nbformat": 4,
 "nbformat_minor": 2
}
