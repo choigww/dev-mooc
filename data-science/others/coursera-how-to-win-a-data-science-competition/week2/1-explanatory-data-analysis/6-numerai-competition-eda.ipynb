{
 "cells": [
  {
   "cell_type": "markdown",
   "metadata": {},
   "source": [
    "# Numerai Competition EDA\n",
    "\n",
    "## Problem Statement\n",
    "* Perfectly balanced binary classification\n",
    "* Anonymized 21 features\n",
    "* Data changes every week"
   ]
  },
  {
   "cell_type": "code",
   "execution_count": null,
   "metadata": {},
   "outputs": [],
   "source": []
  },
  {
   "cell_type": "markdown",
   "metadata": {},
   "source": [
    "## Data Leakage\n",
    "\n",
    "* Allegedly time series\n",
    "* Target variable depends on changes between each point (think of returns)\n",
    "* **Approximate reconstruction of true order via nearest neighborhood analysis**\n",
    "* Top 10 via logistic regression on 21 original features + 21 features from nearest neighbors"
   ]
  },
  {
   "cell_type": "code",
   "execution_count": null,
   "metadata": {},
   "outputs": [],
   "source": []
  },
  {
   "attachments": {},
   "cell_type": "markdown",
   "metadata": {},
   "source": [
    "## Hardcore EDA\n",
    "This picture can help us in two different ways:\n",
    "* we can actually fix some column order - weekly column shuffling can't affect our models\n",
    "* we can clearly notice **seven groups with three highly correlated features** in each of them\n",
    "  * so the data actually has some non-trivial structure\n",
    "\n",
    "![hard-eda](img/hardcore-eda.png)\n",
    "\n",
    "<br>\n",
    "Distribution of distances to the first 3 neighbors in previous weeks data\n",
    "![3-neighbors-dist-distribution.png](img/3-neighbors-dist-distribution.png)\n",
    "\n",
    "### What if we examine the distances between the neighboring objects at the level of individual features?\n",
    "\n",
    "* We can cleary have three different groups out of seven features\n",
    "  * Remeber the sorted correlation matrix - it turns out that each of three highly correlated features belong to a different group\n",
    "* If we \n",
    "  1. multiply seven features from the first group by three\n",
    "  2. multiply seven features from the second group by two in the original data set\n",
    "  3. recalculate nearest neighbor-based features within the data sets\n",
    "  4. re-train models\n",
    "  5. get a nice improvement!\n",
    "![3-neighbors-dist-distribution2.png](img/3-neighbors-dist-distribution2.png)"
   ]
  },
  {
   "cell_type": "code",
   "execution_count": null,
   "metadata": {},
   "outputs": [],
   "source": []
  },
  {
   "cell_type": "markdown",
   "metadata": {},
   "source": [
    "## `New data` was a lie!\n",
    "\n",
    "Actually every new data was made from one original data with different noises.\n",
    "* Thus we could find nearest neighbor in each of previous data sets and average them all\n",
    "  * successfully reducing the variance of added noise\n",
    "  * after averaging, true order approximation became even better"
   ]
  },
  {
   "cell_type": "code",
   "execution_count": null,
   "metadata": {},
   "outputs": [],
   "source": []
  }
 ],
 "metadata": {
  "kernelspec": {
   "display_name": "Python 3",
   "language": "python",
   "name": "python3"
  },
  "language_info": {
   "codemirror_mode": {
    "name": "ipython",
    "version": 3
   },
   "file_extension": ".py",
   "mimetype": "text/x-python",
   "name": "python",
   "nbconvert_exporter": "python",
   "pygments_lexer": "ipython3",
   "version": "3.6.2"
  }
 },
 "nbformat": 4,
 "nbformat_minor": 2
}
