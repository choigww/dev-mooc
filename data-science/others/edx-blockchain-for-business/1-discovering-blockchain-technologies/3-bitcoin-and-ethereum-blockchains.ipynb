{
 "cells": [
  {
   "cell_type": "markdown",
   "metadata": {},
   "source": [
    "# Bitcoin and Ethereum Blockchains"
   ]
  },
  {
   "cell_type": "code",
   "execution_count": null,
   "metadata": {
    "collapsed": true
   },
   "outputs": [],
   "source": []
  },
  {
   "cell_type": "markdown",
   "metadata": {},
   "source": [
    "## Bitcoin - A Popular Blockchain Deployment\n",
    "\n",
    "With the invention of the peer-to-peer (P2P) cash system known as Bitcoin in 2008, we have an example of a global decentralized payment network with a distributed and publicly-owned infrastructure, operating as a 'permissionless' system. There is a persuasive case that Bitcoin is the first 'killer application' of decentralized computing. One can send and receive bitcoins anywhere in the world in a completely P2P manner, `without having to intermediate through a trusted third party, such as a bank`.<br>\n",
    "\n",
    "According to the [Coin Market Capitalizations website](https://coinmarketcap.com/currencies/bitcoin/), as of October 2017, bitcoin's market capitalization (market cap) was nearly $100 billion. \n",
    "\n",
    "![https://prod-edxapp.edx-cdn.org/assets/courseware/v1/2e14cffa6a6ab0f0f7dcd6d2caf96d83/asset-v1:LinuxFoundationX+LFS171x+3T2017+type@asset+block/Market_Cap.png](https://prod-edxapp.edx-cdn.org/assets/courseware/v1/2e14cffa6a6ab0f0f7dcd6d2caf96d83/asset-v1:LinuxFoundationX+LFS171x+3T2017+type@asset+block/Market_Cap.png)\n",
    "Bitcoin Charts (Source: https://coinmarketcap.com/currencies/bitcoin/)<br>\n",
    "\n",
    "According to [AngelList](https://angel.co/blockchains), more than one thousand startups have been created to leverage Bitcoin and blockchain-related technologies since the inception of the Bitcoin payment system. Hundreds of large companies, and dozens of governments and universities have become actively involved in researching, testing, and prototyping blockchain protocols, platforms, and applications. In particular, the financial services sector has been actively investing in exploring wider applications of distributed ledger technologies (of which, blockchain is a subset) since late 2015."
   ]
  },
  {
   "cell_type": "code",
   "execution_count": null,
   "metadata": {
    "collapsed": true
   },
   "outputs": [],
   "source": []
  },
  {
   "cell_type": "markdown",
   "metadata": {},
   "source": [
    "## Bitcoin and Ethereum (Robert Schwentker)\n",
    "\n",
    "https://youtu.be/6AulVTv2hlo\n",
    "\n",
    "> \"Why were Bitcoin and Ethereum created? What problems do they solve?\"\n",
    "\n",
    "> \"Bitcoin was created in Jan 2009 as a response to the global crisis.\"\n",
    "\n",
    "> \"Part of the motivation for the system was to be able to transfer value over the internet, without an intermediary.\"\n",
    "\n",
    "> \"Bitcoin is a programmable money - Ethereum, on the other hand, was created as a response to Bitcoin. While Bitcoin is focused upon transffering monetary value between parties, **it has a very limited programming language.**\"\n",
    "\n",
    "> \"Ethereum, on the other hand, uses a more expansive set of programming languages and tools to allow for many other types of programs and applications.\"\n",
    "  * The Core invention of Ethereum is its EVM, Ethereum Virtual Machine. The EVM runs on the Ethereum network, and it runs a Turing-complete software. \n",
    "  * Ethereum development platform is designed to make corruption and tamper proof applications, the secure apps are sent descentralized and secured with cryptography. \n",
    "  * And they're protected against hacking attacks and fraudulent activities, and it's designed with zero downtime.\n"
   ]
  },
  {
   "cell_type": "code",
   "execution_count": null,
   "metadata": {
    "collapsed": true
   },
   "outputs": [],
   "source": []
  },
  {
   "cell_type": "markdown",
   "metadata": {},
   "source": [
    "## Bitcoin and Cryptoeconomics\n",
    "\n",
    "Bitcoin has also ushered in tremendous academic and research interest in the area of Cryptoeconomics and Cryptoeconomic security.<br>\n",
    "\n",
    "According to [Vitalik Buterin](https://www.youtube.com/watch?v=pKqdjaH1dRo),\n",
    "\n",
    "> \"Cryptoeconomics is about building systems that have certain desired properties using cryptography to prove properties about messages that happened in the past while using economic incentives defined inside the system to encourage desired properties to hold into the future.\"\n",
    "\n",
    "In other words, the field of Cryptoeconomics explores the **intersection of cryptography and economic incentives**. While cryptography is used for ensuring network security at various levels and functions, the built-in economic incentives provided to the participating nodes in the network ensures that, at any given point, the majority of players in the network operate in a desirable way.<br>\n",
    "\n",
    "Rather than imposing barriers to entry, permissionless blockchains are public and open for anyone to join. Since such networks can reasonably expect all kind of agents - including malicious actors - the key lies in incentivizing good behavior in a critical majority of the network, such that:\n",
    "\n",
    "* The malicious actors cannot take over the network through an **escalated attack**.\n",
    "* The malicious actors cannot **collude** to undertake an organized majority attack on the network.\n",
    "* The **payoffs** of securing the network are consistently higher than the cost of attacking the network.\n",
    "* The **cost** of attacking the network is prohibitively high.\n",
    "\n",
    "You can find more about Cryptoeceonomics [here](https://medium.com/@cryptoeconomics/the-blockchain-economy-a-beginners-guide-to-institutional-cryptoeconomics-64bf2f2beec4)."
   ]
  },
  {
   "cell_type": "code",
   "execution_count": null,
   "metadata": {
    "collapsed": true
   },
   "outputs": [],
   "source": []
  },
  {
   "cell_type": "markdown",
   "metadata": {},
   "source": [
    "## Ethereum - An Alternative to Bitcoin\n",
    "\n",
    "According to [Ethereum's official documentation](http://ethdocs.org/en/latest/introduction/what-is-ethereum.html),\n",
    "\n",
    "> \"Ethereum is an open blockchain platform that lets anyone build and use **decentralized applications** that run on blockchain technology\".\n",
    "\n",
    "The Ethereum blockchain platform facilitates **scripting functionality**, or **'smart contracts'**, which are run through the nodes in the network. As a result, unlike the Bitcoin blockchain, it does not just track transactions, it also programs them. Technically, Ethereum is a Turing-complete virtual machine with its native cryptocurrency called 'ether'. The platform was proposed in 2013 in a white paper by the then 19-year old Vitalik Buterin.<br>\n",
    "\n",
    "As of October 2017, Ethereum had a [market cap](https://coinmarketcap.com/currencies/ethereum/) of over $28 billion, making ether the second most valuable cryptocurrency after Bitcoin. \n",
    "\n",
    "![https://prod-edxapp.edx-cdn.org/assets/courseware/v1/bf4f382561a5b59f52b15f3d42d93fbd/asset-v1:LinuxFoundationX+LFS171x+3T2017+type@asset+block/Ether_Market_Cap.jpg](https://prod-edxapp.edx-cdn.org/assets/courseware/v1/bf4f382561a5b59f52b15f3d42d93fbd/asset-v1:LinuxFoundationX+LFS171x+3T2017+type@asset+block/Ether_Market_Cap.jpg)\n",
    "Ether Historical Market Capitalization Chart (Source: https://etherscan.io/chart/marketcap)\n",
    "\n",
    "<br>\n",
    "As the second best known public blockchain after the Bitcoin blockchain, Ethereum has ushered in an era of unprecedented activity around blockchain and distributed ledger technology.\n"
   ]
  },
  {
   "cell_type": "code",
   "execution_count": null,
   "metadata": {
    "collapsed": true
   },
   "outputs": [],
   "source": []
  },
  {
   "cell_type": "markdown",
   "metadata": {},
   "source": [
    "## Ethereum (Robert Schwentker)\n",
    "\n",
    "https://youtu.be/zuc3AIcDEok\n",
    "\n",
    "> \"Ethereum may be defined as an open source platform that enables developers to build and deploy both smart contracts and decentralized applications, also known as Dapps.\"\n",
    "\n",
    "> \"In addition to the Ethereum public blockchain, there are numerous versions of Ethereum which are designed to be private and are permissioned.'"
   ]
  },
  {
   "cell_type": "code",
   "execution_count": null,
   "metadata": {
    "collapsed": true
   },
   "outputs": [],
   "source": []
  },
  {
   "cell_type": "markdown",
   "metadata": {},
   "source": [
    "## Dapps\n",
    "\n",
    "As [Stephan Tual](https://www.youtube.com/watch?v=Clw-qf1sUZg) explains, Ethereum applications do not have a middleman; instead, users interact in a P2P fashion with other users through a variety of interfaces - social, financial, gaming, etc. Since the applications are developed on the decentralized consensus-based network itself, third-party censorship is virtually impossible. Malicious actors cannot secretly tamper with the application by changing the code and compromise all application users (or nodes that are actively interacting with it). These *Decentralized Applications* have come to be known as **Dapps**.\n",
    "\n",
    "Since they are cryptographically secured, Dapps are referred to as 'secure applications'. Some of the [high profile Dapps](http://www.ethdocs.org/en/latest/introduction/web3.html) built on the Ethereum platform include:\n",
    "\n",
    "* **Augur**, which is a Decentralized Prediction Market. Learn more at https://augur.net/.\n",
    "* **Digix**, which tokenizes gold on Ethereum. Learn more at: https://digix.global/.\n",
    "* **Maker**, which is a Decentralized Autonomous Organization (DAO). Learn more at: https://makerdao.com/.\n",
    "\n",
    "The Ethereum network is a distributed global public network, which means it is not run on central servers in a certain geographical location. Instead, the computing power that runs the network is contributed by nodes that are spread across the globe. In other words, Dapps have 'zero downtime' - they never go down and, in general, cannot be switched off."
   ]
  },
  {
   "cell_type": "code",
   "execution_count": null,
   "metadata": {
    "collapsed": true
   },
   "outputs": [],
   "source": []
  },
  {
   "cell_type": "markdown",
   "metadata": {},
   "source": [
    "## Ethereum Smart Contracts\n",
    "\n",
    "A hypothetical example of an Ethereum-based smart contract may involve the following transaction: in an equity raise, transfer amount X from the investor to the company upon receiving the given shares from the company. The monetary amount X, which was pre-validated by the company for the transaction (much like in a credit card purchase), is held in escrow by the smart contract, until the shares have been received by the investor. Any kind of arbitrary sophisticated business logic can be committed to the blockchain. The Ethereum blockchain only encodes these 'rules of the games'. The actual payoffs occur by interacting with the blockchain.<br>\n",
    "\n",
    "The illustration below describes this process. \n",
    "* The smart contract encodes the agreement between the company raising funds and its investors (Panel 1). \n",
    "* The smart contract sits on the Ethereum public blockchain, and is run on the Ethereum Virtual Machine (EVM). Once hitting a triggering event, like an expiration date or a strike price that has been pre-coded, the smart contract automatically executes as per the business logic (Panel 2). \n",
    "* As an added benefit, regulators are able to scrutinize the market activity on an ongoing basis, without compromising the identity of specific players in a permissionless public blockchain, as Ethereum (Panel 3).\n",
    "\n",
    "![https://prod-edxapp.edx-cdn.org/assets/courseware/v1/bf28e4b1d1e9e3f27ad0744fd52aed9c/asset-v1:LinuxFoundationX+LFS171x+3T2017+type@asset+block/Ethereum_Smart_Contracts.png](https://prod-edxapp.edx-cdn.org/assets/courseware/v1/bf28e4b1d1e9e3f27ad0744fd52aed9c/asset-v1:LinuxFoundationX+LFS171x+3T2017+type@asset+block/Ethereum_Smart_Contracts.png)\n",
    "\n",
    "Note: With the advent of the Ethereum blockchain platform and the scripting functionality or smart contracts that it enables, there are ongoing attempts to do the same for the Bitcoin blockchain, which does not allow for this, due to security reasons. [RSK](http://www.rsk.co/) is one such smart contract platform that seeks to achieve this \"with a 2-way peg to Bitcoin\". The added functionality can go a long way in making the Bitcoin blockchain useful for use cases other than cash transfers."
   ]
  },
  {
   "cell_type": "code",
   "execution_count": null,
   "metadata": {
    "collapsed": true
   },
   "outputs": [],
   "source": []
  }
 ],
 "metadata": {
  "kernelspec": {
   "display_name": "Python [default]",
   "language": "python",
   "name": "python3"
  },
  "language_info": {
   "codemirror_mode": {
    "name": "ipython",
    "version": 3
   },
   "file_extension": ".py",
   "mimetype": "text/x-python",
   "name": "python",
   "nbconvert_exporter": "python",
   "pygments_lexer": "ipython3",
   "version": "3.5.4"
  }
 },
 "nbformat": 4,
 "nbformat_minor": 2
}
