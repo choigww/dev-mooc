{
 "cells": [
  {
   "cell_type": "markdown",
   "metadata": {},
   "source": [
    "# Introduction & Learning Objectives"
   ]
  },
  {
   "cell_type": "code",
   "execution_count": null,
   "metadata": {},
   "outputs": [],
   "source": []
  },
  {
   "cell_type": "markdown",
   "metadata": {},
   "source": [
    "## Introduction (Nathalie Salami)\n",
    "\n",
    "https://youtu.be/hLSiWBcNpYk\n",
    "\n",
    "> \"This chapter is designed to help people evaluate whether blockchain tech, including the Hyperledger frameworks, are right for their business, and where best to implement this new technology.\"\n",
    "\n",
    "> \"We will cover the ways industry is using blockchain technology today, and show you some common features of blockchains that can provide efficiencies in business.\""
   ]
  },
  {
   "cell_type": "code",
   "execution_count": null,
   "metadata": {},
   "outputs": [],
   "source": []
  },
  {
   "cell_type": "markdown",
   "metadata": {},
   "source": [
    "## Learning Objectives\n",
    "\n",
    "By the end of this chapter you should be able to:\n",
    "\n",
    "* Examine several use cases where blockchain technology is actively used to solve real world business problems.\n",
    "* Discover the factors to look at when evaluating if blockchain technology is right for a particular project.\n",
    "* Decide when to use and when not to use blockchain technology."
   ]
  },
  {
   "cell_type": "code",
   "execution_count": null,
   "metadata": {},
   "outputs": [],
   "source": []
  }
 ],
 "metadata": {
  "kernelspec": {
   "display_name": "Python 3",
   "language": "python",
   "name": "python3"
  },
  "language_info": {
   "codemirror_mode": {
    "name": "ipython",
    "version": 3
   },
   "file_extension": ".py",
   "mimetype": "text/x-python",
   "name": "python",
   "nbconvert_exporter": "python",
   "pygments_lexer": "ipython3",
   "version": "3.6.2"
  }
 },
 "nbformat": 4,
 "nbformat_minor": 2
}
