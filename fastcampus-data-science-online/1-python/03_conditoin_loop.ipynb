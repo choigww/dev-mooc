{
 "cells": [
  {
   "cell_type": "markdown",
   "metadata": {},
   "source": [
    "### summary\n",
    "- jupyter notebook\n",
    " - mode : 명령모드, 편집모드\n",
    " - style: markdown, code\n",
    " - 단축키\n",
    "  - 실행 : shift + enter\n",
    "  - 자동완성 : tab\n",
    "  - docstring 보기 : shfit + tab\n",
    "  - 주석설정 : cmd(ctrl) + /\n",
    "  - 셀 생성 : a(위에), b(아래)\n",
    "  \n",
    "- python 기본 문법\n",
    " - 변수 선언 : RAM 저장공간에 값을 할당하는 행위\n",
    " - 식별자 규칙\n",
    "  - 대문자, 소문자, 숫자, _\n",
    "  - 가장 앞글자 숫자사용 불가\n",
    "  - 예약어 사용 불가 : def, class, try, ...\n",
    "  - snake_case(변수, 함수), CamelCase(클래스)\n",
    "  - pep8 문서 (python code conventions)\n",
    " - 데이터 타입\n",
    "  - 동적 타이핑 : 자동으로 저장공간의 데이터 타입을 설정한다 (파이썬)\n",
    "  - 기본 데이터 타입 : int, float, bool, str\n",
    "  - 컬렉션 데이터 타입 : list, tuple (**iterable, 순서가 있는 데이터 집합**), dictionary (순서 없음)\n",
    "  - offset index : 특정 위치의 데이터를 출력할 때 사용\n",
    "   - iterable한 데이터 타입에서만 사용이 가능 > list, tuple, string\n",
    "   - [] : mask, masking\n",
    "   - [idx] : idx 위치 데이터를 출력\n",
    "   - [start:end] : start에서 end까지 출력 (end는 포함되지 않습니다)\n",
    "   - [start:end:stride] : stride 만큼씩 점프하여 출력\n",
    "  - 형변환\n",
    "   - 이미 변수에 설정된 데이터 타입을 변경하는 행위\n",
    "   - zip\n",
    "    - 여러개의 리스트를 같은 인덱스끼리 묶어주는 함수\n",
    "    - 두 개의 리스트를 묶어서 dict 형변환하기 (key:value)\n",
    "  - 연산자\n",
    "   - 산술 : +, -, \\*, /, //, %, **\n",
    "   - 할당 : A (산술) = (data)\n",
    "   - 비교 : <, >, ==, !=, >=, <=\n",
    "   - 논리 : and, or, not\n",
    "   - 멤버 : in, not in\n"
   ]
  },
  {
   "cell_type": "code",
   "execution_count": null,
   "metadata": {},
   "outputs": [],
   "source": []
  },
  {
   "cell_type": "markdown",
   "metadata": {},
   "source": [
    "### 1. 조건문\n",
    "- 특정 조건에 따라서 코드를 실행하고자 할 때 사용\n",
    "- if, else, elif"
   ]
  },
  {
   "cell_type": "code",
   "execution_count": 1,
   "metadata": {},
   "outputs": [
    {
     "name": "stdout",
     "output_type": "stream",
     "text": [
      "done\n"
     ]
    }
   ],
   "source": [
    "# 조건부분에 bool 데이터 타입 이외의 데이터 타입이 오면 bool 타입으로 형변환되어 판단\n",
    "\n",
    "if False:\n",
    "    print(\"python\")\n",
    "\n",
    "print(\"done\")"
   ]
  },
  {
   "cell_type": "code",
   "execution_count": 2,
   "metadata": {},
   "outputs": [
    {
     "data": {
      "text/plain": [
       "(False, True, True, True)"
      ]
     },
     "execution_count": 2,
     "metadata": {},
     "output_type": "execute_result"
    }
   ],
   "source": [
    "# int : 0을 제외한 나머지 값은 True\n",
    "bool(0), bool(1), bool(-1), bool(100)"
   ]
  },
  {
   "cell_type": "code",
   "execution_count": 3,
   "metadata": {},
   "outputs": [
    {
     "name": "stdout",
     "output_type": "stream",
     "text": [
      "Python 2\n"
     ]
    }
   ],
   "source": [
    "num = 0\n",
    "\n",
    "if num:\n",
    "    print(\"Python\")\n",
    "\n",
    "num = 1\n",
    "if num:\n",
    "    print(\"Python 2\")"
   ]
  },
  {
   "cell_type": "code",
   "execution_count": 4,
   "metadata": {},
   "outputs": [
    {
     "name": "stdout",
     "output_type": "stream",
     "text": [
      "홀수\n"
     ]
    }
   ],
   "source": [
    "number = 7\n",
    "\n",
    "if number % 2:\n",
    "    print(\"홀수\")"
   ]
  },
  {
   "cell_type": "code",
   "execution_count": 5,
   "metadata": {},
   "outputs": [],
   "source": [
    "# float : 0.0을 제외한 나머지 실수는 True\n",
    "# str : \"\"를 제외한 나머지 문자열은 True\n",
    "# list, tuple, dict : 비어있는 [], (), {}을 제외한 나머지는 True"
   ]
  },
  {
   "cell_type": "code",
   "execution_count": 6,
   "metadata": {},
   "outputs": [
    {
     "name": "stdout",
     "output_type": "stream",
     "text": [
      "taxi\n"
     ]
    }
   ],
   "source": [
    "# 지갑에 돈이 10000원 이상 있으면 택시를 타고\n",
    "# 그렇지 않으면 걸어서 집에 갑니다.\n",
    "\n",
    "money = 12000\n",
    "\n",
    "if money >= 10000:\n",
    "    print(\"taxi\")\n",
    "\n",
    "if money < 10000:\n",
    "    print(\"walk\")"
   ]
  },
  {
   "cell_type": "code",
   "execution_count": 7,
   "metadata": {},
   "outputs": [
    {
     "name": "stdout",
     "output_type": "stream",
     "text": [
      "taxi\n"
     ]
    }
   ],
   "source": [
    "if money >= 10000:\n",
    "    print(\"taxi\")\n",
    "else:\n",
    "    print(\"walk\")"
   ]
  },
  {
   "cell_type": "code",
   "execution_count": 10,
   "metadata": {},
   "outputs": [
    {
     "name": "stdout",
     "output_type": "stream",
     "text": [
      "fast bus\n"
     ]
    }
   ],
   "source": [
    "money = 5000\n",
    "\n",
    "if money >= 10000:\n",
    "    print(\"taxi\")\n",
    "elif money >= 5000:\n",
    "    print('fast bus')\n",
    "elif money >=2000:\n",
    "    print('slow bus')\n",
    "else:\n",
    "    print(\"walk\")"
   ]
  },
  {
   "cell_type": "code",
   "execution_count": 11,
   "metadata": {},
   "outputs": [
    {
     "name": "stdout",
     "output_type": "stream",
     "text": [
      "slow bus\n"
     ]
    }
   ],
   "source": [
    "if money >= 10000:\n",
    "    print(\"taxi\")\n",
    "elif money >=2000:\n",
    "    print('slow bus')\n",
    "elif money >= 5000:\n",
    "    print('fast bus')\n",
    "else:\n",
    "    print(\"walk\")"
   ]
  },
  {
   "cell_type": "code",
   "execution_count": null,
   "metadata": {},
   "outputs": [],
   "source": []
  },
  {
   "cell_type": "code",
   "execution_count": 12,
   "metadata": {},
   "outputs": [],
   "source": [
    "# 계좌에 10000원이 들어 있습니다\n",
    "# 인출 금액을 입력받습니다\n",
    "# 인출 금액이 계좌에 있는 금액보다 크면 \"인출이 불가능합니다.\" - 출력\n",
    "# 인출 금액이 계좌에 있는 금액보다 적으면 \"인출 되었습니다.\" - 출력\n",
    "# 마지막에 현재 계좌의 잔액을 출력"
   ]
  },
  {
   "cell_type": "code",
   "execution_count": 16,
   "metadata": {},
   "outputs": [
    {
     "name": "stdout",
     "output_type": "stream",
     "text": [
      "draw money: 5000\n",
      "<class 'int'> 5000\n"
     ]
    }
   ],
   "source": [
    "data = int(input(\"draw money: \"))\n",
    "print(type(data), data)"
   ]
  },
  {
   "cell_type": "code",
   "execution_count": 22,
   "metadata": {},
   "outputs": [
    {
     "name": "stdout",
     "output_type": "stream",
     "text": [
      "insert draw money : 35000\n",
      "인출이 불가능합니다. 25000원의 잔액이 부족합니다.\n"
     ]
    }
   ],
   "source": [
    "account = 10000\n",
    "draw_money = int(input('insert draw money : '))\n",
    "\n",
    "if account > draw_money:\n",
    "    account -= draw_money\n",
    "    print(str(draw_money) + \"원이 인출 되었습니다.\")\n",
    "else:\n",
    "    print(\"인출이 불가능합니다. \" + str(draw_money - account) + \"원의 잔액이 부족합니다.\")"
   ]
  },
  {
   "cell_type": "code",
   "execution_count": 27,
   "metadata": {},
   "outputs": [
    {
     "name": "stdout",
     "output_type": "stream",
     "text": [
      "현재 잔액은 10000 원 입니다.\n",
      "현재 잔액은 10000 원 입니다. 인출금액은 35000원 입니다.\n",
      "현재 잔액은 10000 원 입니다. 인출금액은 35000원 입니다.\n"
     ]
    }
   ],
   "source": [
    "# string 데이터 타입의 format 함수\n",
    "print(\"현재 잔액은 \" + str(account) + \" 원 입니다.\")\n",
    "print(\"현재 잔액은 {} 원 입니다. 인출금액은 {}원 입니다.\".format(account, draw_money))\n",
    "print(f\"현재 잔액은 {account} 원 입니다. 인출금액은 {draw_money}원 입니다.\")"
   ]
  },
  {
   "cell_type": "markdown",
   "metadata": {},
   "source": [
    "### 삼항연산자\n",
    "- 간단한 if, else 구문을 한줄의 코드로 표현할 수 있는 방법\n",
    "- (True) if (condition) else (False)"
   ]
  },
  {
   "cell_type": "code",
   "execution_count": 28,
   "metadata": {},
   "outputs": [
    {
     "name": "stdout",
     "output_type": "stream",
     "text": [
      "zero\n"
     ]
    }
   ],
   "source": [
    "# data 변수에 0이면 \"zero\" 출력, 아니면 \"not zero\" 출력\n",
    "data = 0\n",
    "if data:\n",
    "    print(\"not zero\")\n",
    "else:\n",
    "    print(\"zero\")\n",
    "    "
   ]
  },
  {
   "cell_type": "code",
   "execution_count": 29,
   "metadata": {},
   "outputs": [
    {
     "data": {
      "text/plain": [
       "'not zero'"
      ]
     },
     "execution_count": 29,
     "metadata": {},
     "output_type": "execute_result"
    }
   ],
   "source": [
    "data = 1\n",
    "\"not zero\" if data else \"zero\""
   ]
  },
  {
   "cell_type": "code",
   "execution_count": 30,
   "metadata": {},
   "outputs": [
    {
     "data": {
      "text/plain": [
       "'zero'"
      ]
     },
     "execution_count": 30,
     "metadata": {},
     "output_type": "execute_result"
    }
   ],
   "source": [
    "data = 0\n",
    "\"not zero\" if data else \"zero\""
   ]
  },
  {
   "cell_type": "code",
   "execution_count": null,
   "metadata": {},
   "outputs": [],
   "source": []
  },
  {
   "cell_type": "markdown",
   "metadata": {},
   "source": [
    "### 2. 반복문\n",
    "- 반복되는 코드를 실행할때 사용\n",
    "- while, for, break, continue\n",
    "- list comprehension"
   ]
  },
  {
   "cell_type": "code",
   "execution_count": 31,
   "metadata": {},
   "outputs": [
    {
     "name": "stdout",
     "output_type": "stream",
     "text": [
      "3\n",
      "2\n",
      "1\n"
     ]
    }
   ],
   "source": [
    "# while\n",
    "data = 3\n",
    "\n",
    "while data: # 조건이 False가 될때까지 구문의 코드를 실행\n",
    "    \n",
    "    # 반복되는 코드\n",
    "    print(data)\n",
    "    data -= 1"
   ]
  },
  {
   "cell_type": "code",
   "execution_count": 32,
   "metadata": {},
   "outputs": [],
   "source": [
    "# 학생이 국어:80점, 영어:90점, 수학:100점 맞음\n",
    "# while문을 이용해서 총점과 평균을 출력해 보세요\n",
    "# 학생의 점수는 list, dict로 표현    "
   ]
  },
  {
   "cell_type": "code",
   "execution_count": 36,
   "metadata": {},
   "outputs": [],
   "source": [
    "subject_ls = ['korean', 'english', 'math']\n",
    "points_ls = [80, 90, 100]\n",
    "points_dict = {'korean':80, \"english\":90, \"math\":100}"
   ]
  },
  {
   "cell_type": "code",
   "execution_count": 34,
   "metadata": {},
   "outputs": [],
   "source": [
    "total, avg = 0, 0"
   ]
  },
  {
   "cell_type": "code",
   "execution_count": 37,
   "metadata": {},
   "outputs": [],
   "source": [
    "data = points_ls.copy() # 깊은복사 # 원본데이터 보존"
   ]
  },
  {
   "cell_type": "code",
   "execution_count": 38,
   "metadata": {},
   "outputs": [
    {
     "name": "stdout",
     "output_type": "stream",
     "text": [
      "270 90.0\n"
     ]
    }
   ],
   "source": [
    "while data:\n",
    "    total += data.pop()\n",
    "print(total, total / len(points_ls))"
   ]
  },
  {
   "cell_type": "code",
   "execution_count": 40,
   "metadata": {},
   "outputs": [
    {
     "name": "stdout",
     "output_type": "stream",
     "text": [
      "2345678910"
     ]
    }
   ],
   "source": [
    "# 무한루프 조심!\n",
    "# break : 반복문을 중단시킬때 사용되는 예약어\n",
    "\n",
    "result = 1\n",
    "\n",
    "while result:\n",
    "    result += 1\n",
    "    print(result, end=\"\")\n",
    "    \n",
    "    if result == 10:\n",
    "        break"
   ]
  },
  {
   "cell_type": "markdown",
   "metadata": {},
   "source": [
    "### For\n",
    "- iterable한 값을 하나씩 꺼내서 value에 대입시킨 후 코드를 iterable 변수의 값 갯수만큼 실행한다\n",
    "```python\n",
    "for <variable> in <iterables>:\n",
    "    <code>\n",
    "```"
   ]
  },
  {
   "cell_type": "code",
   "execution_count": 45,
   "metadata": {},
   "outputs": [
    {
     "name": "stdout",
     "output_type": "stream",
     "text": [
      "0 PYTHON\n",
      "1 2 PYTHON\n",
      "3 4 PYTHON\n"
     ]
    }
   ],
   "source": [
    "# for : continue : 조건부분으로 올라가서 코드가 실행\n",
    "\n",
    "ls = [0, 1, 2, 3, 4]\n",
    "for data in ls:\n",
    "    print(data, end=\" \")\n",
    "    if data % 2: # 데이터가 홀수이면 continue\n",
    "        continue\n",
    "    print(\"PYTHON\")"
   ]
  },
  {
   "cell_type": "code",
   "execution_count": 50,
   "metadata": {},
   "outputs": [
    {
     "data": {
      "text/plain": [
       "4950"
      ]
     },
     "execution_count": 50,
     "metadata": {},
     "output_type": "execute_result"
    }
   ],
   "source": [
    "# for 이용하여 100번 실행\n",
    "# range 함수\n",
    "range(100)\n",
    "\n",
    "result = 0\n",
    "for data in range(100):\n",
    "    result += data\n",
    "result"
   ]
  },
  {
   "cell_type": "code",
   "execution_count": 49,
   "metadata": {},
   "outputs": [
    {
     "data": {
      "text/plain": [
       "5050"
      ]
     },
     "execution_count": 49,
     "metadata": {},
     "output_type": "execute_result"
    }
   ],
   "source": [
    "result = 0\n",
    "for data in range(1, 101):\n",
    "    result += data\n",
    "result"
   ]
  },
  {
   "cell_type": "code",
   "execution_count": null,
   "metadata": {},
   "outputs": [],
   "source": []
  },
  {
   "cell_type": "code",
   "execution_count": 53,
   "metadata": {},
   "outputs": [
    {
     "data": {
      "text/plain": [
       "([0, 1, 2, 3, 4], [5, 6, 7, 8, 9], [0, 2, 4, 6, 8])"
      ]
     },
     "execution_count": 53,
     "metadata": {},
     "output_type": "execute_result"
    }
   ],
   "source": [
    "# offset index 개념과 비슷하게 사용\n",
    "\n",
    "list(range(5)), list(range(5,10)), list(range(0, 10, 2))"
   ]
  },
  {
   "cell_type": "code",
   "execution_count": 54,
   "metadata": {},
   "outputs": [
    {
     "name": "stdout",
     "output_type": "stream",
     "text": [
      "30\n"
     ]
    }
   ],
   "source": [
    "# 0~10까지 짝수를 더한 총합\n",
    "result = 0\n",
    "for num in range(0, 11, 2):\n",
    "    result += num\n",
    "    \n",
    "print(result)"
   ]
  },
  {
   "cell_type": "code",
   "execution_count": 58,
   "metadata": {},
   "outputs": [
    {
     "name": "stdout",
     "output_type": "stream",
     "text": [
      "['korean', 'english', 'math']\n",
      "korean\n",
      "english\n",
      "math\n"
     ]
    }
   ],
   "source": [
    "points_dict = {'korean':80, 'english':90, 'math':100}\n",
    "print(list(points_dict.keys()))\n",
    "\n",
    "for data in points_dict:\n",
    "    print(data)"
   ]
  },
  {
   "cell_type": "code",
   "execution_count": 59,
   "metadata": {},
   "outputs": [
    {
     "name": "stdout",
     "output_type": "stream",
     "text": [
      "korean 80\n",
      "english 90\n",
      "math 100\n"
     ]
    }
   ],
   "source": [
    "for subject, point in points_dict.items():\n",
    "    print(subject, point)"
   ]
  },
  {
   "cell_type": "code",
   "execution_count": 64,
   "metadata": {},
   "outputs": [
    {
     "name": "stdout",
     "output_type": "stream",
     "text": [
      "korean 80\n",
      "english 90\n",
      "math 100\n"
     ]
    }
   ],
   "source": [
    "for subject, point in zip(points_dict.keys(), points_dict.values()):\n",
    "    print(subject, point)"
   ]
  },
  {
   "cell_type": "code",
   "execution_count": 60,
   "metadata": {},
   "outputs": [
    {
     "data": {
      "text/plain": [
       "(1, 2)"
      ]
     },
     "execution_count": 60,
     "metadata": {},
     "output_type": "execute_result"
    }
   ],
   "source": [
    "# tuple\n",
    "a, b = (1, 2)\n",
    "a, b"
   ]
  },
  {
   "cell_type": "code",
   "execution_count": null,
   "metadata": {},
   "outputs": [],
   "source": []
  },
  {
   "cell_type": "code",
   "execution_count": null,
   "metadata": {},
   "outputs": [],
   "source": []
  },
  {
   "cell_type": "code",
   "execution_count": null,
   "metadata": {},
   "outputs": [],
   "source": []
  }
 ],
 "metadata": {
  "kernelspec": {
   "display_name": "Python 3",
   "language": "python",
   "name": "python3"
  },
  "language_info": {
   "codemirror_mode": {
    "name": "ipython",
    "version": 3
   },
   "file_extension": ".py",
   "mimetype": "text/x-python",
   "name": "python",
   "nbconvert_exporter": "python",
   "pygments_lexer": "ipython3",
   "version": "3.8.5"
  }
 },
 "nbformat": 4,
 "nbformat_minor": 4
}
