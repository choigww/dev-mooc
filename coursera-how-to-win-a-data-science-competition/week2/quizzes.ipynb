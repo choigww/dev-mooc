{
 "cells": [
  {
   "cell_type": "markdown",
   "metadata": {},
   "source": [
    "# Quizzes"
   ]
  },
  {
   "cell_type": "code",
   "execution_count": null,
   "metadata": {},
   "outputs": [],
   "source": []
  },
  {
   "cell_type": "markdown",
   "metadata": {},
   "source": [
    "### Explanatory data analysis"
   ]
  },
  {
   "cell_type": "code",
   "execution_count": null,
   "metadata": {},
   "outputs": [],
   "source": []
  },
  {
   "cell_type": "markdown",
   "metadata": {},
   "source": [
    "![](img/quiz1-1.png)\n",
    "![](img/quiz1-2.png)\n",
    "\n",
    "* Z=X−Y\n",
    "* Z=X/Y\n",
    "* Z=X+Y\n",
    "* **Z=XY**"
   ]
  },
  {
   "cell_type": "code",
   "execution_count": null,
   "metadata": {},
   "outputs": [],
   "source": []
  },
  {
   "cell_type": "markdown",
   "metadata": {},
   "source": [
    "![](img/quiz2-1.png)\n",
    "![](img/quiz2-2.png)\n",
    "\n",
    "> 2\n"
   ]
  },
  {
   "cell_type": "code",
   "execution_count": null,
   "metadata": {},
   "outputs": [],
   "source": []
  },
  {
   "cell_type": "markdown",
   "metadata": {},
   "source": [
    "![](img/quiz3-1.png)\n",
    "![](img/quiz3-2.png)\n",
    "\n",
    "The following code was used to produce these two plots:\n",
    "\n",
    "\n",
    "```python\n",
    "# top plot\n",
    "plt.plot(x, '.')\n",
    "\n",
    "# bottom plot\n",
    "logX = np.log1p(x) # no NaNs after this operation\n",
    "plt.plot(logX, '.')\n",
    "```\n",
    "(note that it is not the same variable X as in previous questions).<br>\n",
    "\n",
    "Which hypotheses about variable X do NOT contradict with the plots? In other words: what hypotheses we can't reject (not in statistical sense) based on the plots and our intuition?\n",
    "\n",
    "* **X is a counter or label encoded categorical feature**\n",
    "* X can be the temperature (in Celsius) in different cities at different times\n",
    "* **X takes only discrete values**\n",
    "* X can take a value of zero\n",
    "  * `No! for x=0:log(x+1)=0. But we see minimum value on log(x+1) plot is between 0.5 and 1.0, and most likely to be log(1+1)≈0.69, so min(x)=1.`\n",
    "* **2≤X<3 happens more frequently than 3≤X<4**"
   ]
  },
  {
   "cell_type": "code",
   "execution_count": null,
   "metadata": {},
   "outputs": [],
   "source": []
  },
  {
   "cell_type": "markdown",
   "metadata": {},
   "source": [
    "![](img/quiz4.png)\n",
    "\n",
    "Suppose we are given a dataset with features X and Y and need to learn to classify objects into 2 classes. The corresponding targets for the objects from the dataset are denoted as y.<br>\n",
    "\n",
    "Top left plot shows X vs Y scatter plot, produced with the following code:\n",
    "\n",
    "```python\n",
    "# y is a target vector\n",
    "plt.scatter(X, Y, c = y)\n",
    "```\n",
    "\n",
    "We use target variable y to colorcode the points.<br>\n",
    "\n",
    "The other three plots were produced by jittering X and Y values:\n",
    "\n",
    "\n",
    "```python\n",
    "def jitter(data, stdev):\n",
    "    import numpy as np\n",
    "    N = len(data)\n",
    "    return data + np.random.randn(N) * stdev\n",
    "\n",
    "# sigma is a given std. dev. for Gaussian distribution\n",
    "plt.scatter(jitter(X, sigma), jitter(Y, sigma), c = y)\n",
    "```\n",
    "\n",
    "That is, we add Gaussian noise to the features before drawing scatter plot. Select the correct statements.\n",
    "\n",
    "* We need to jitter variables not only for a sake of visualization, but also because it is beneficial for a model.\n",
    "  * `Jittering introduces noise to a variable, and it is surely not good idea to introduce artificial noise to the dataset. Usually, the cleaner the dataset the better the results.`\n",
    "* It is always beneficial to jitter variables before building a scatter plot\n",
    "* Target is completely determined by coordinates (x,y), i.e. the label of the point is completely determined by point's position (x,y). Saying the same in other words: if we only had two features (x,y), we could build a classifier, that is accurate 100% of time.\n",
    "* **Standard deviation for Jittering is the largest on the bottom right plot.**\n",
    "* **Top right plot is \"better\" than top left one. That is, every piece of information we can find on the top left we can also find on the top right, but not vice versa.**"
   ]
  },
  {
   "cell_type": "code",
   "execution_count": null,
   "metadata": {},
   "outputs": [],
   "source": []
  },
  {
   "cell_type": "code",
   "execution_count": null,
   "metadata": {},
   "outputs": [],
   "source": []
  },
  {
   "cell_type": "code",
   "execution_count": null,
   "metadata": {},
   "outputs": [],
   "source": []
  },
  {
   "cell_type": "code",
   "execution_count": null,
   "metadata": {},
   "outputs": [],
   "source": []
  },
  {
   "cell_type": "code",
   "execution_count": null,
   "metadata": {},
   "outputs": [],
   "source": []
  },
  {
   "cell_type": "code",
   "execution_count": null,
   "metadata": {},
   "outputs": [],
   "source": []
  },
  {
   "cell_type": "code",
   "execution_count": null,
   "metadata": {},
   "outputs": [],
   "source": []
  }
 ],
 "metadata": {
  "kernelspec": {
   "display_name": "Python 3",
   "language": "python",
   "name": "python3"
  },
  "language_info": {
   "codemirror_mode": {
    "name": "ipython",
    "version": 3
   },
   "file_extension": ".py",
   "mimetype": "text/x-python",
   "name": "python",
   "nbconvert_exporter": "python",
   "pygments_lexer": "ipython3",
   "version": "3.6.2"
  }
 },
 "nbformat": 4,
 "nbformat_minor": 2
}
