{
 "cells": [
  {
   "cell_type": "markdown",
   "metadata": {},
   "source": [
    "# Visaulizations\n",
    "\n",
    "#### Overview\n",
    "Visualization tools to ...\n",
    "- Explore individual features\n",
    "  * Histograms\n",
    "  * Plots\n",
    "  * Statistics\n",
    "- Explore feature relations\n",
    "  * Scatter plots\n",
    "  * Correlation plots\n",
    "  * Plot (index vs. feature statistics)\n",
    "  * And more"
   ]
  },
  {
   "cell_type": "code",
   "execution_count": null,
   "metadata": {},
   "outputs": [],
   "source": []
  },
  {
   "cell_type": "markdown",
   "metadata": {},
   "source": [
    "### <center>EDA is an art!</center>\n",
    "    \n",
    "<center>And visualizations are our art tools</center>\n"
   ]
  },
  {
   "cell_type": "code",
   "execution_count": null,
   "metadata": {},
   "outputs": [],
   "source": []
  },
  {
   "cell_type": "markdown",
   "metadata": {},
   "source": [
    "## Art tools\n",
    "\n",
    "### Histograms\n",
    "```python\n",
    "plt.hist(x)\n",
    "df.hist(kind='hist')\n",
    "```\n",
    "\n",
    "#### Never make a conclusion based on a single plot.\n",
    "Try several different plots to prove your hypothesis.\n",
    "\n",
    "* Original data\n",
    "![histogram-confuse](img/hist-confuse.png)\n",
    "\n",
    "* `np.log` to data\n",
    "![histogram-confuse2](img/hist-confuse2.png)\n",
    "\n",
    "\n",
    "#### Additional information\n",
    "* From the two plots above, we can find the `peak` is exactly the mean value - the organizer might fill the `NaN` value with the average.\n",
    "  * We can replace the missing values we found with something like `-999`\n",
    "  * Or we can generate a new feature which will indicate that the value was missing - particularly useful for linear models!\n",
    "  * XGBoost has a special algorithm that can fill missing values on its own.\n",
    "  "
   ]
  },
  {
   "cell_type": "code",
   "execution_count": null,
   "metadata": {},
   "outputs": [],
   "source": []
  },
  {
   "cell_type": "markdown",
   "metadata": {},
   "source": [
    "### Plot (index vs. value)\n",
    "\n",
    "![index-vs-value](img/plot-index-vs-value.png)\n",
    "\n",
    "If we observe horizontal lines on this kind of plot,\n",
    "* we can see that there are lots of **repeated values** in this feature\n",
    "\n",
    "Also, note the randomness over the indices.\n",
    "* we see horizontal patterns but no vertical ones\n",
    "* it means the data is properly shuffled\n",
    "\n",
    "![index-vs-value](img/plot-index-vs-value2.png)\n",
    "\n",
    "We can also color code the points according to their labels.\n",
    "* we can clearly see the data is not shuffled well here\n",
    "* it is sorted by class label"
   ]
  },
  {
   "cell_type": "code",
   "execution_count": null,
   "metadata": {},
   "outputs": [],
   "source": []
  },
  {
   "cell_type": "markdown",
   "metadata": {},
   "source": [
    "### Feature Statistics\n",
    "\n",
    "![feature-stats](img/feature-stats.png)\n",
    "\n",
    "```python\n",
    "df.describe()\n",
    "x.mean()\n",
    "x.std()\n",
    "```"
   ]
  },
  {
   "cell_type": "code",
   "execution_count": null,
   "metadata": {},
   "outputs": [],
   "source": []
  },
  {
   "cell_type": "markdown",
   "metadata": {},
   "source": [
    "### Tools for individual features exploration\n",
    "\n",
    "Histograms\n",
    "> `plt.hist(x)`\n",
    "\n",
    "Plot (index versus value)\n",
    "> `plt.plot(x, '.')`\n",
    "\n",
    "Statistics\n",
    "> `df.describe()`<br>`x.mean()`<br>`x.var()`\n",
    "\n",
    "Other tools:\n",
    "> `x.value_counts()`<br>`x.isnull()`"
   ]
  },
  {
   "cell_type": "code",
   "execution_count": null,
   "metadata": {},
   "outputs": [],
   "source": []
  },
  {
   "cell_type": "markdown",
   "metadata": {},
   "source": [
    "## Exploring feature relations\n",
    "\n",
    "![feature-relation-scatter](img/feature-relation-scatter.png)\n",
    "\n",
    "* If the task is a **classification**, it's convenient to **color code the points with their labels** like on the picture above\n",
    "  * The color indicates the class of the object\n",
    "* For **regression**, the heat map light coloring can be used, too\n",
    "  * alternatively, the target value can be visualized by point size\n",
    "  \n",
    "### We can effectively use scatter plots to check if the data distribution in the train and test sets are the same.\n",
    "\n",
    "![scatter-c1-c2-test](img/scatter-c1-c2-test.png)\n",
    "* Test set has no label so are colored as gray\n",
    "* We clearly see that red points are mixed with part of the gray ones --- `good`\n",
    "* But other gray points are located in the region where we don't have any training data --- `bad`\n",
    "  * **If you see some kind of discrepancy between colored and gray points distribution, you should probably stop and think if you are doing it right**.\n",
    "    * bug, completely overfit feature, something else not healthy.\n",
    "    \n",
    "    \n",
    "<br>\n",
    "### Case 1\n",
    "![scatter-feature1-feature2](img/scatter-f1-f2.png)\n",
    "\n",
    "<center>**Feature Relation**</center>\n",
    "$$X2 \\leq 1 - X1$$\n",
    "\n",
    "How do we use feature relations?\n",
    "* For tree-based model, we can create a new features like the **difference or ratio between X1 and X2**.\n",
    "\n",
    "### Case 2\n",
    "![scatter-class1-class2](img/scatter-c1-c2.png)\n",
    "\n",
    "* It's hard to say what is the true relation between the features\n",
    "* but after all our goal is not to decode the data here but **to generate new features and get a better score**.\n",
    "\n",
    "#### This plot gives us an idea about how to generate the features out of these two features\n",
    "* There are several triangles in plot\n",
    "  * so we could probably make a feature to each triangle a given point belongs and hope that this feature will help.\n"
   ]
  },
  {
   "cell_type": "code",
   "execution_count": null,
   "metadata": {},
   "outputs": [],
   "source": []
  },
  {
   "cell_type": "markdown",
   "metadata": {},
   "source": [
    "## Exploring individual features: pairs/ groups\n",
    "\n",
    "When you have small number of features, you can plot all the pairwise scatter plots at once using scatter metrics function from `pandas`. It's pretty handy.\n",
    "\n",
    "```\n",
    "pd.scatter_matrix(df)\n",
    "```\n",
    "\n",
    "![scatter-matrix](img/scatter-matrix.png)\n",
    "\n",
    "\n",
    "We can also compute some kind of distance between the columns of our feature table and store them into a matrix with size of the number of features by the number of features.\n",
    "\n",
    "\n",
    "#### For example, we can compute correlation between the counts.\n",
    "\n",
    "```\n",
    "df.corr()\n",
    "plt.matshow()\n",
    "```\n",
    "\n",
    "![corr-between-counts](img/corr-counts.png)\n",
    "\n",
    "We can run some kind of clustering like K-means clustering on the rows and columns of this matrix and reorder the features.\n",
    "\n",
    "\n",
    "![corr-between-counts-clustered](img/corr-counts-clustered.png)\n",
    "\n",
    "\n",
    "### We actually came to the last topic of our discussion, `feature groups`.\n",
    "\n",
    "There are groups of very similar features!\n",
    "* **It's a good idea to generate new features based on the groups.**\n",
    "* Some statistics could collated over the group will work fine as features.\n",
    "\n",
    "\n",
    "### Another visualization that helps to find feature groups is `statistics` of each feature\n",
    "* Calculate stats for each column and plot them against column index.\n",
    "\n",
    "```python\n",
    "df.mean().plot(style='.')\n",
    "df.std().plot(style='.')\n",
    "```\n",
    "![feature-groups-by-statistics](img/feature-grouped-bystat.png)\n",
    "\n",
    "If we sort them out, we can clearly see some categorization.\n",
    "\n",
    "![feature-groups-by-statistics-sorted](img/feature-grouped-bystat-sorted.png)\n",
    "\n",
    "```python\n",
    "df.mean().sort_values().plot(style='.')\n",
    "```\n",
    "\n",
    "\n",
    "#### And else...\n",
    "* How many rows are there such that the value of first feature is bigger than the one of second feature?\n",
    "* How many distinct combinations the features have in the dataset?\n",
    "\n",
    "> \"With such custom functions, we should build the metrics mannually - and we can use `matshow` function from `matplotlib`.\"\n",
    "\n"
   ]
  },
  {
   "cell_type": "code",
   "execution_count": null,
   "metadata": {},
   "outputs": [],
   "source": []
  },
  {
   "cell_type": "markdown",
   "metadata": {},
   "source": [
    "## Conclusion\n",
    "\n",
    "### Explore individual features\n",
    "* Histogram\n",
    "* Plot (index vs. value)\n",
    "* Statistics\n",
    "\n",
    "### Explore feature relations\n",
    "* Pairs\n",
    "  - Scatter plot, scatter matrix\n",
    "  - Corrplot\n",
    "* Groups\n",
    "  - Corrplot + clustering\n",
    "  - Plot (index vs. feature statistics)"
   ]
  },
  {
   "cell_type": "code",
   "execution_count": null,
   "metadata": {},
   "outputs": [],
   "source": []
  }
 ],
 "metadata": {
  "kernelspec": {
   "display_name": "Python 3",
   "language": "python",
   "name": "python3"
  },
  "language_info": {
   "codemirror_mode": {
    "name": "ipython",
    "version": 3
   },
   "file_extension": ".py",
   "mimetype": "text/x-python",
   "name": "python",
   "nbconvert_exporter": "python",
   "pygments_lexer": "ipython3",
   "version": "3.6.2"
  }
 },
 "nbformat": 4,
 "nbformat_minor": 2
}
