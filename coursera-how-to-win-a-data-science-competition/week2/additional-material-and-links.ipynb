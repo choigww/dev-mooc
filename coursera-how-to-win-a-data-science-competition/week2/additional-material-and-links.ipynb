{
 "cells": [
  {
   "cell_type": "markdown",
   "metadata": {},
   "source": [
    "# Additional material and links"
   ]
  },
  {
   "cell_type": "code",
   "execution_count": null,
   "metadata": {},
   "outputs": [],
   "source": []
  },
  {
   "cell_type": "markdown",
   "metadata": {},
   "source": [
    "## Visualization tools\n",
    "* [Seaborn](https://seaborn.pydata.org/)\n",
    "* [Plotly](https://plot.ly/python/)\n",
    "* [Bokeh](https://github.com/bokeh/bokeh)\n",
    "* [ggplot](http://ggplot.yhathq.com/)\n",
    "* [Graph visualization with NetworkX](https://networkx.github.io/)\n",
    "\n",
    "## Others\n",
    "* [Biclustering algorithms for sorting corrplots](http://scikit-learn.org/stable/auto_examples/bicluster/plot_spectral_biclustering.html)\n"
   ]
  },
  {
   "cell_type": "code",
   "execution_count": null,
   "metadata": {},
   "outputs": [],
   "source": []
  },
  {
   "cell_type": "markdown",
   "metadata": {},
   "source": [
    "## Validation\n",
    "* [Validation in Sklearn](http://scikit-learn.org/stable/modules/cross_validation.html)\n",
    "* [Advices on validation in a competition](http://www.chioka.in/how-to-select-your-final-models-in-a-kaggle-competitio/)"
   ]
  },
  {
   "cell_type": "code",
   "execution_count": null,
   "metadata": {},
   "outputs": [],
   "source": []
  },
  {
   "cell_type": "markdown",
   "metadata": {},
   "source": [
    "## Data leakages\n",
    "\n",
    "* [Perfect score script by Oleg Trott](https://www.kaggle.com/olegtrott/the-perfect-score-script) \n",
    "  - used to probe leaderboard\n",
    "* [Page about data leakages on Kaggle](https://www.kaggle.com/wiki/Leakage)"
   ]
  },
  {
   "cell_type": "code",
   "execution_count": null,
   "metadata": {},
   "outputs": [],
   "source": []
  },
  {
   "cell_type": "code",
   "execution_count": null,
   "metadata": {},
   "outputs": [],
   "source": []
  },
  {
   "cell_type": "code",
   "execution_count": null,
   "metadata": {},
   "outputs": [],
   "source": []
  }
 ],
 "metadata": {
  "kernelspec": {
   "display_name": "Python 3",
   "language": "python",
   "name": "python3"
  },
  "language_info": {
   "codemirror_mode": {
    "name": "ipython",
    "version": 3
   },
   "file_extension": ".py",
   "mimetype": "text/x-python",
   "name": "python",
   "nbconvert_exporter": "python",
   "pygments_lexer": "ipython3",
   "version": "3.6.2"
  }
 },
 "nbformat": 4,
 "nbformat_minor": 2
}
