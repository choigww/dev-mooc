{
 "cells": [
  {
   "cell_type": "markdown",
   "metadata": {},
   "source": [
    "# Dataset cleaning and other things to check"
   ]
  },
  {
   "cell_type": "code",
   "execution_count": null,
   "metadata": {},
   "outputs": [],
   "source": []
  },
  {
   "cell_type": "markdown",
   "metadata": {},
   "source": [
    "#### Overview\n",
    "\n",
    "Dataset cleaning\n",
    "* Constant features\n",
    "* Duplicated features\n",
    "\n",
    "Other things to check\n",
    "* Duplicated rows\n",
    "* Check if dataset is shuffled"
   ]
  },
  {
   "cell_type": "code",
   "execution_count": null,
   "metadata": {},
   "outputs": [],
   "source": []
  },
  {
   "cell_type": "markdown",
   "metadata": {},
   "source": [
    "## Duplicated and constant features\n",
    "\n",
    "> \"It is important to understand that the competition data can be only a part of the data organizer has - it could be only one fraction of the whole data.\"\n",
    "\n",
    "### That's why we can have some issues with the data\n",
    "* we can encounter a feature which takes the same value for every object in both train and test set. **This could be due to the sampling precedure.**\n",
    "  * For example, the feature `f0` is a year, and the organizer exported us only one year of data.\n",
    "  * So the future in original data is not constsant, but in the competition the feature is constant.\n",
    "  * Obviously it is not useful for modeling and just occupy memory for nothing ---> remove!\n",
    "\n",
    "![dup-con](img/duplicated-constant.png)\n",
    "\n",
    "```python\n",
    "trainset.nunique(axis=1) == 1\n",
    "```\n",
    "\n",
    "#### Duplicated columns\n",
    "\n",
    "![dup-con2](img/duplicated-constant2.png)\n",
    "\n",
    "#### Duplicated categorical columns\n",
    "* If we rename the levels of the feature `f5` like, `C` to `A`, `A` to `B`, `B` to `C`, it will be identical to feature `f4`.\n",
    "* How do we find such columns?\n",
    "  * **Label and code** all the categorical features\n",
    "  * Compare them as if they were numbers\n",
    "  * We need to label encoding properly\n",
    "    * Encode from top to bottom so that the first unique value we see gets label 1, second gets 2, ...\n",
    "  * If we substract values in `f5` by `1`, we get to know that factorized `f5` column is identical to factorized `f4`.\n",
    "\n",
    "![dup-con3](img/duplicated-constant3.png)\n",
    "\n",
    "\n"
   ]
  },
  {
   "cell_type": "code",
   "execution_count": null,
   "metadata": {},
   "outputs": [],
   "source": []
  },
  {
   "cell_type": "markdown",
   "metadata": {},
   "source": [
    "## Duplicated rows\n",
    "\n",
    "![duprows](img/dup-rows.png)\n",
    "\n",
    "* Check if same rows have same label\n",
    "* **Find duplicated rows, understand why they are duplicated.**\n",
    "  * Sometimes removing dupolicated rows is the key to create better model.\n",
    "\n",
    "\n",
    "### Check if dataset is shuffled\n",
    "![dset-shuffled](img/dataset-shuffled.png)\n",
    "What we can do is:\n",
    "* plug a feature or target vector versus row index\n",
    "\n",
    "If the data was shuffled properly we would expect some kind of **oscilation** of the target values around the mean target value. <br>\n",
    "\n",
    "But in the case above, it looks like the end of the train set is much different from the start.<br>\n",
    "\n",
    "We have some patterns in here - maybe the information from this particular pplot will not advance our model. \n",
    "\n",
    "### But once again, we need to find an explanation for all extraordinary things we observe.\n",
    "\n",
    "\n"
   ]
  },
  {
   "cell_type": "code",
   "execution_count": null,
   "metadata": {},
   "outputs": [],
   "source": []
  },
  {
   "cell_type": "markdown",
   "metadata": {},
   "source": [
    "## Cool visualizations\n",
    "\n",
    "Visualizations will lead you to magic features!\n",
    "\n",
    "![coolvis](img/cool-vis.png)"
   ]
  },
  {
   "cell_type": "code",
   "execution_count": null,
   "metadata": {},
   "outputs": [],
   "source": []
  },
  {
   "cell_type": "markdown",
   "metadata": {},
   "source": [
    "## EDA Check-list\n",
    "\n",
    "* Get domain knowledge\n",
    "* Check if the data is intuitive\n",
    "* Understand how the data was generated\n",
    "-----------\n",
    "* Explore individual features\n",
    "* Explore pairs and groups\n",
    "-----------\n",
    "* Clean features up\n",
    "-----------\n",
    "* Check for leaks! (later in the course)\n"
   ]
  },
  {
   "cell_type": "code",
   "execution_count": null,
   "metadata": {},
   "outputs": [],
   "source": []
  }
 ],
 "metadata": {
  "kernelspec": {
   "display_name": "Python 3",
   "language": "python",
   "name": "python3"
  },
  "language_info": {
   "codemirror_mode": {
    "name": "ipython",
    "version": 3
   },
   "file_extension": ".py",
   "mimetype": "text/x-python",
   "name": "python",
   "nbconvert_exporter": "python",
   "pygments_lexer": "ipython3",
   "version": "3.6.2"
  }
 },
 "nbformat": 4,
 "nbformat_minor": 2
}
