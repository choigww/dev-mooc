{
 "cells": [
  {
   "cell_type": "markdown",
   "metadata": {},
   "source": [
    "# Quizzes\n",
    "### Week 1"
   ]
  },
  {
   "cell_type": "code",
   "execution_count": null,
   "metadata": {},
   "outputs": [],
   "source": []
  },
  {
   "cell_type": "markdown",
   "metadata": {},
   "source": [
    "### What back propagation is usually used for in neural networks?\n",
    "* To propagate signal through network from input to output only\n",
    "* Select gradient update direction by flipping a coin\n",
    "* Make several random perturbations of parameters and go back to the best one\n",
    "* **To calculate gradient of the loss function with respect to the parameters of the network**"
   ]
  },
  {
   "cell_type": "code",
   "execution_count": null,
   "metadata": {},
   "outputs": [],
   "source": []
  },
  {
   "cell_type": "markdown",
   "metadata": {},
   "source": [
    "### Suppose we've trained a RandomForest model with 100 trees. Consider two cases:\n",
    "\n",
    "1. We drop the first tree in the model\n",
    "2. We drop the last tree in the model\n",
    "\n",
    "We then compare models performance on the train set. Select the right answer.\n",
    "\n",
    "* In the case 1 performance will drop more than in the case 2\n",
    "* **In the case 1 performance will be roughly the same as in the case 2**\n",
    "* In the case 1 performance will drop less than in the case 2"
   ]
  },
  {
   "cell_type": "code",
   "execution_count": null,
   "metadata": {},
   "outputs": [],
   "source": []
  },
  {
   "cell_type": "markdown",
   "metadata": {},
   "source": [
    "### Suppose we've trained a GBDT model with 100 trees with a fairly large learning rate. Consider two cases:\n",
    "\n",
    "1. We drop the first tree in the model\n",
    "2. We drop the last tree in the model\n",
    "\n",
    "We then compare models performance on the train set. Select the right answer.\n",
    "\n",
    "* **In the case 1 performance will drop more than in the case 2**\n",
    "* In the case 1 performance will be roughly the same as in the case 2\n",
    "* In the case 1 performance will drop less than in the case 2 "
   ]
  },
  {
   "cell_type": "code",
   "execution_count": null,
   "metadata": {},
   "outputs": [],
   "source": []
  },
  {
   "cell_type": "markdown",
   "metadata": {},
   "source": [
    "### Consider two cases:\n",
    "\n",
    "1. We fit two RandomForestClassifiers 500 trees each and average their predicted probabilities on the test set.\n",
    "2. We fit a RandomForestClassifier with 1000 trees and use it to get test set probabilities.\n",
    "\n",
    "All hyperparameters except number of trees are the same for all models. Select the right answer.\n",
    "\n",
    "* **The quality of predictions in the case 1 will be roughly the same as the quality of the predictions in the case 2**\n",
    "* The quality of predictions in the case 1 will be lower than the quality of the predictions in the case 2\n",
    "* The quality of predictions in the case 1 will be higher than the quality of the predictions in the case 2"
   ]
  },
  {
   "cell_type": "code",
   "execution_count": null,
   "metadata": {},
   "outputs": [],
   "source": []
  },
  {
   "cell_type": "markdown",
   "metadata": {},
   "source": [
    "### Which library provides the most convenient way to perfrom matrix multiplication?\n",
    "\n",
    "* **Numpy**\n",
    "* Pandas\n",
    "* Sklearn\n",
    "* XGBoost\n"
   ]
  },
  {
   "cell_type": "code",
   "execution_count": null,
   "metadata": {},
   "outputs": [],
   "source": []
  },
  {
   "cell_type": "markdown",
   "metadata": {},
   "source": [
    "### Which libraries contain implementation of linear models?\n",
    "\n",
    "* Pandas\n",
    "* Numpy\n",
    "* **Sklearn**\n",
    "* Matplotlib\n",
    "* tsne"
   ]
  },
  {
   "cell_type": "code",
   "execution_count": null,
   "metadata": {},
   "outputs": [],
   "source": []
  },
  {
   "cell_type": "markdown",
   "metadata": {},
   "source": [
    "### Which library (or libraries) are used to train a neural network?\n",
    "\n",
    "* Numpy\n",
    "* **Pytorch**\n",
    "* Matplotlib\n",
    "* **Keras**\n",
    "* **Tensorflow**\n",
    "* T-SNE"
   ]
  },
  {
   "cell_type": "code",
   "execution_count": null,
   "metadata": {},
   "outputs": [],
   "source": []
  },
  {
   "cell_type": "markdown",
   "metadata": {},
   "source": [
    "### Select the correct statements about the RandomForest and GBDT models.\n",
    "\n",
    "* **In GBDT each new tree is built to improve the previous trees.**\n",
    "* Trees in GBDT can be constructed in parallel (that is how XGBoost makes use of all your cores)\n",
    "* In RandomForest each new tree is built to improve the previous trees.\n",
    "* **Trees in RandomForest can be constructed in parallel (that is how RandomForest from sklearn makes use of all your cores)**"
   ]
  },
  {
   "cell_type": "code",
   "execution_count": null,
   "metadata": {},
   "outputs": [],
   "source": []
  },
  {
   "cell_type": "code",
   "execution_count": null,
   "metadata": {},
   "outputs": [],
   "source": []
  },
  {
   "cell_type": "code",
   "execution_count": null,
   "metadata": {},
   "outputs": [],
   "source": []
  },
  {
   "cell_type": "code",
   "execution_count": null,
   "metadata": {},
   "outputs": [],
   "source": []
  },
  {
   "cell_type": "code",
   "execution_count": null,
   "metadata": {},
   "outputs": [],
   "source": []
  },
  {
   "cell_type": "code",
   "execution_count": null,
   "metadata": {},
   "outputs": [],
   "source": []
  }
 ],
 "metadata": {
  "kernelspec": {
   "display_name": "Python 3",
   "language": "python",
   "name": "python3"
  },
  "language_info": {
   "codemirror_mode": {
    "name": "ipython",
    "version": 3
   },
   "file_extension": ".py",
   "mimetype": "text/x-python",
   "name": "python",
   "nbconvert_exporter": "python",
   "pygments_lexer": "ipython3",
   "version": "3.6.2"
  }
 },
 "nbformat": 4,
 "nbformat_minor": 2
}
