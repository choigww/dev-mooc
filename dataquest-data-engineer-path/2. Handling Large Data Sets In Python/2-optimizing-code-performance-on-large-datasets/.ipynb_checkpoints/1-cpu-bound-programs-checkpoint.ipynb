{
 "cells": [
  {
   "cell_type": "markdown",
   "metadata": {},
   "source": [
    "# CPU Bound Programs"
   ]
  },
  {
   "cell_type": "code",
   "execution_count": null,
   "metadata": {},
   "outputs": [],
   "source": []
  },
  {
   "cell_type": "markdown",
   "metadata": {},
   "source": [
    "## Bounds vs. Limitations\n",
    "\n",
    "In the last course, we covered the idea of memory limitations, and figured out some strategies to overcome them with Pandas. As a quick refresher, **a memory limitation is when a dataset won't fit into the memory available on your computer**. When this happens, you need to rely on workarounds, like \n",
    "* processing the data in batches that do fit into memory\n",
    "* relying on tools, like SQLite, that keep the data on disk instead of in memory while doing processing\n",
    "\n",
    "The important thing to note here is that **available memory is a hard limitation on what's possible to process**. If you have a 6 gigabyte dataset, and 4 gigabytes of memory, there's no way you can load your data into Pandas and process it without using a workaround.<br>\n",
    "\n",
    "In this course, we'll cover **the idea of program bounds**. A program bound is similar to a limitation in that it affects how you're able to process your data. **However, a program bound isn't a hard limitation -- if your program is bound, your computer will still be able to eventually process the data**. A program bound mostly limits `how quickly the program can be executed`. There are two primary ways a program can be bound that you'll need to be aware of:\n",
    "\n",
    "* **CPU-bound** -- A CPU-bound program will be dependent on your CPU to execute quickly. **The faster your processor is, the faster your program will be**.\n",
    "* **I/O-bound** -- An I/O-bound program will be dependent on external resources, like files on disk and network services to execute quickly. **The faster these external resources can be accessed, the faster your program will run**.\n",
    "\n",
    "As you work with larger datasets, understanding these bounds and how to make your program more efficient to deal with them is critical. **Relatively simple optimizations can mean the difference between processing a gigabyte of data in 30 minutes or in 30 seconds**.<br>\n",
    "\n",
    "Here's a diagram that shows how various components work together:\n",
    "\n",
    "![bounds-vs-limitations](https://s3.amazonaws.com/dq-content/168/CPU+and+I_O+bounds.png)\n",
    "\n",
    "As you can see above, **every time you load data from disk into memory, then process it, it travels through the I/O bridge twice, which takes time**. \n",
    "* The more efficient you make your code, \n",
    "* the less back and forth trips will need to be made, \n",
    "* and the faster your code will run. \n",
    "\n",
    "You can make your code more efficient by minimizing how many times you access data, or by ensuring that the processor has to run fewer instructions.<br>\n",
    "\n",
    "In this mission, we'll learn more about CPU-bound programs, and how we can understand and improve their performance."
   ]
  },
  {
   "cell_type": "code",
   "execution_count": null,
   "metadata": {},
   "outputs": [],
   "source": []
  },
  {
   "cell_type": "markdown",
   "metadata": {},
   "source": [
    "## The Dataset\n",
    "\n",
    "In this mission, we'll be working with a dataset of search terms and matching products from [CrowdFlower](https://www.crowdflower.com/data-for-everyone/). This dataset is an expanded version of the data used for a [Kaggle competition](https://www.kaggle.com/c/crowdflower-search-relevance). The full dataset contains `267373` rows, each of which represents a search for a product, with the search query used and the search result given. Each search result was scored for its relevance to the original query. There are quite a few columns in the dataset, but we're mainly interested in the `query` column. Here's a look at all of the columns:"
   ]
  },
  {
   "cell_type": "code",
   "execution_count": 1,
   "metadata": {},
   "outputs": [
    {
     "data": {
      "text/html": [
       "<div>\n",
       "<style scoped>\n",
       "    .dataframe tbody tr th:only-of-type {\n",
       "        vertical-align: middle;\n",
       "    }\n",
       "\n",
       "    .dataframe tbody tr th {\n",
       "        vertical-align: top;\n",
       "    }\n",
       "\n",
       "    .dataframe thead th {\n",
       "        text-align: right;\n",
       "    }\n",
       "</style>\n",
       "<table border=\"1\" class=\"dataframe\">\n",
       "  <thead>\n",
       "    <tr style=\"text-align: right;\">\n",
       "      <th></th>\n",
       "      <th>Unnamed: 0</th>\n",
       "      <th>_unit_id</th>\n",
       "      <th>relevance</th>\n",
       "      <th>relevance:variance</th>\n",
       "      <th>product_image</th>\n",
       "      <th>product_link</th>\n",
       "      <th>product_price</th>\n",
       "      <th>product_title</th>\n",
       "      <th>query</th>\n",
       "      <th>rank</th>\n",
       "      <th>source</th>\n",
       "      <th>url</th>\n",
       "    </tr>\n",
       "  </thead>\n",
       "  <tbody>\n",
       "    <tr>\n",
       "      <th>0</th>\n",
       "      <td>0</td>\n",
       "      <td>711158459</td>\n",
       "      <td>3.67</td>\n",
       "      <td>0.471</td>\n",
       "      <td>http://thumbs2.ebaystatic.com/d/l225/m/mzvzEUI...</td>\n",
       "      <td>http://www.ebay.com/itm/Sony-PlayStation-4-PS4...</td>\n",
       "      <td>$329.98</td>\n",
       "      <td>Sony PlayStation 4 (PS4) (Latest Model)- 500 G...</td>\n",
       "      <td>playstation 4</td>\n",
       "      <td>1</td>\n",
       "      <td>eBay</td>\n",
       "      <td>http://www.ebay.com/sch/i.html?_from=R40&amp;_trks...</td>\n",
       "    </tr>\n",
       "    <tr>\n",
       "      <th>1</th>\n",
       "      <td>1</td>\n",
       "      <td>711158460</td>\n",
       "      <td>4.00</td>\n",
       "      <td>0.000</td>\n",
       "      <td>http://thumbs3.ebaystatic.com/d/l225/m/mJNDmSy...</td>\n",
       "      <td>http://www.ebay.com/itm/Sony-PlayStation-4-Lat...</td>\n",
       "      <td>$324.84</td>\n",
       "      <td>Sony PlayStation 4 (Latest Model)- 500 GB Jet ...</td>\n",
       "      <td>playstation 4</td>\n",
       "      <td>2</td>\n",
       "      <td>eBay</td>\n",
       "      <td>http://www.ebay.com/sch/i.html?_from=R40&amp;_trks...</td>\n",
       "    </tr>\n",
       "    <tr>\n",
       "      <th>2</th>\n",
       "      <td>2</td>\n",
       "      <td>711158461</td>\n",
       "      <td>4.00</td>\n",
       "      <td>0.000</td>\n",
       "      <td>http://thumbs4.ebaystatic.com/d/l225/m/m10NZXA...</td>\n",
       "      <td>http://www.ebay.com/itm/Sony-PlayStation-4-PS4...</td>\n",
       "      <td>$324.83</td>\n",
       "      <td>Sony PlayStation 4 PS4 500 GB Jet Black Console</td>\n",
       "      <td>playstation 4</td>\n",
       "      <td>3</td>\n",
       "      <td>eBay</td>\n",
       "      <td>http://www.ebay.com/sch/i.html?_from=R40&amp;_trks...</td>\n",
       "    </tr>\n",
       "    <tr>\n",
       "      <th>3</th>\n",
       "      <td>3</td>\n",
       "      <td>711158462</td>\n",
       "      <td>3.67</td>\n",
       "      <td>0.471</td>\n",
       "      <td>http://thumbs2.ebaystatic.com/d/l225/m/mZZXTmA...</td>\n",
       "      <td>http://www.ebay.com/itm/Sony-PlayStation-4-500...</td>\n",
       "      <td>$350.00</td>\n",
       "      <td>Sony - PlayStation 4 500GB The Last of Us Rema...</td>\n",
       "      <td>playstation 4</td>\n",
       "      <td>4</td>\n",
       "      <td>eBay</td>\n",
       "      <td>http://www.ebay.com/sch/i.html?_from=R40&amp;_trks...</td>\n",
       "    </tr>\n",
       "    <tr>\n",
       "      <th>4</th>\n",
       "      <td>4</td>\n",
       "      <td>711158463</td>\n",
       "      <td>3.33</td>\n",
       "      <td>0.471</td>\n",
       "      <td>http://thumbs3.ebaystatic.com/d/l225/m/mzvzEUI...</td>\n",
       "      <td>http://www.ebay.com/itm/Sony-PlayStation-4-PS4...</td>\n",
       "      <td>$308.00\\nTrending at\\n$319.99</td>\n",
       "      <td>Sony PlayStation 4 (PS4) (Latest Model)- 500 G...</td>\n",
       "      <td>playstation 4</td>\n",
       "      <td>5</td>\n",
       "      <td>eBay</td>\n",
       "      <td>http://www.ebay.com/sch/i.html?_from=R40&amp;_trks...</td>\n",
       "    </tr>\n",
       "  </tbody>\n",
       "</table>\n",
       "</div>"
      ],
      "text/plain": [
       "   Unnamed: 0   _unit_id  relevance  relevance:variance  \\\n",
       "0           0  711158459       3.67               0.471   \n",
       "1           1  711158460       4.00               0.000   \n",
       "2           2  711158461       4.00               0.000   \n",
       "3           3  711158462       3.67               0.471   \n",
       "4           4  711158463       3.33               0.471   \n",
       "\n",
       "                                       product_image  \\\n",
       "0  http://thumbs2.ebaystatic.com/d/l225/m/mzvzEUI...   \n",
       "1  http://thumbs3.ebaystatic.com/d/l225/m/mJNDmSy...   \n",
       "2  http://thumbs4.ebaystatic.com/d/l225/m/m10NZXA...   \n",
       "3  http://thumbs2.ebaystatic.com/d/l225/m/mZZXTmA...   \n",
       "4  http://thumbs3.ebaystatic.com/d/l225/m/mzvzEUI...   \n",
       "\n",
       "                                        product_link  \\\n",
       "0  http://www.ebay.com/itm/Sony-PlayStation-4-PS4...   \n",
       "1  http://www.ebay.com/itm/Sony-PlayStation-4-Lat...   \n",
       "2  http://www.ebay.com/itm/Sony-PlayStation-4-PS4...   \n",
       "3  http://www.ebay.com/itm/Sony-PlayStation-4-500...   \n",
       "4  http://www.ebay.com/itm/Sony-PlayStation-4-PS4...   \n",
       "\n",
       "                   product_price  \\\n",
       "0                       $329.98    \n",
       "1                       $324.84    \n",
       "2                       $324.83    \n",
       "3                       $350.00    \n",
       "4  $308.00\\nTrending at\\n$319.99   \n",
       "\n",
       "                                       product_title          query  rank  \\\n",
       "0  Sony PlayStation 4 (PS4) (Latest Model)- 500 G...  playstation 4     1   \n",
       "1  Sony PlayStation 4 (Latest Model)- 500 GB Jet ...  playstation 4     2   \n",
       "2    Sony PlayStation 4 PS4 500 GB Jet Black Console  playstation 4     3   \n",
       "3  Sony - PlayStation 4 500GB The Last of Us Rema...  playstation 4     4   \n",
       "4  Sony PlayStation 4 (PS4) (Latest Model)- 500 G...  playstation 4     5   \n",
       "\n",
       "  source                                                url  \n",
       "0   eBay  http://www.ebay.com/sch/i.html?_from=R40&_trks...  \n",
       "1   eBay  http://www.ebay.com/sch/i.html?_from=R40&_trks...  \n",
       "2   eBay  http://www.ebay.com/sch/i.html?_from=R40&_trks...  \n",
       "3   eBay  http://www.ebay.com/sch/i.html?_from=R40&_trks...  \n",
       "4   eBay  http://www.ebay.com/sch/i.html?_from=R40&_trks...  "
      ]
     },
     "execution_count": 1,
     "metadata": {},
     "output_type": "execute_result"
    }
   ],
   "source": [
    "import pandas as pd\n",
    "ecommerce = pd.read_csv('../data/ecommerce5000.csv', encoding='latin-1')\n",
    "ecommerce.head()"
   ]
  },
  {
   "cell_type": "code",
   "execution_count": null,
   "metadata": {},
   "outputs": [],
   "source": []
  },
  {
   "cell_type": "markdown",
   "metadata": {},
   "source": [
    "## Finding duplicate values\n",
    "\n",
    "In order to illustrate the idea of CPU bounds, let's start with a task that we've done numerous times before -- finding which values in a column are duplicates.<br>\n",
    "\n",
    "With Pandas, you can use methods like [pandas.DataFrame.duplicated](http://pandas.pydata.org/pandas-docs/stable/generated/pandas.DataFrame.duplicated.html) to find duplicate values in columns. You can also find duplicate values using the [GROUP BY](https://www.sqlite.org/lang_select.html) statement in a SQL query. However, there are cases when you'll have to write your own function to find duplicate values:\n",
    "\n",
    "* You have complex custom logic around what constitutes a duplicate.\n",
    "* Your dataset doesn't fit into memory, and would take too long to batch process.\n",
    "* Your data is streaming, and you want to find duplicates in realtime.\n",
    "\n",
    "duplicate is to:\n",
    "* Create a list to store duplicate items.\n",
    "* Loop through each item in the `query` column.\n",
    "  * Loop through each item in the `query` column.\n",
    "    * If we're on the same item in the inner loop and outer loop, keep going.\n",
    "    * If a match is found, mark it as a duplicate row.\n",
    "  * Add the duplicate item to the duplicates list.\n",
    "\n",
    "The above algorithm will iterate through each value in the query column, and compare it to every other value in the query column. This will help us find duplicates. The algorithm will result in a nested for loop, like the below:\n",
    "\n",
    "```python\n",
    "# Initialize a list to store our duplicate \n",
    "duplicates = []\n",
    "​\n",
    "# Loop through each item in the query column.\n",
    "for i, item in enumerate(query):\n",
    "    duplicate = False\n",
    "​\n",
    "    # Loop through each item in the query column.\n",
    "    for z, item2 in enumerate(query):\n",
    "        # If the outer and inner loops are on the same value, keep going.\n",
    "        # Without this, we'll falsely detect rows as duplicates.\n",
    "        if i == z:\n",
    "            continue\n",
    "        # Mark as duplicate if we find a match.\n",
    "        if item == item2:\n",
    "            duplicate = True\n",
    "    # Add to the duplicates list.\n",
    "    if duplicate:\n",
    "        duplicates.append(item)\n",
    "```\n",
    "\n",
    "If we want to optimize our code later, we need to be able to figure out how long our code is taking to run. One easy way to do this is to count up the number of \"operations\" our code is performing. Let's say that an \"operation\" is any time we:\n",
    "* Assign a value to a variable\n",
    "* Modify a variable value\n",
    "* Check if two variables are equal\n",
    "\n",
    "Let's look through our code from above line by line, and see where the \"operations\" occur:\n",
    "\n",
    "* `duplicates = []` -- this assigns to a variable, so it is an operation.\n",
    "* `duplicate = False` -- this assigns to a variable, so it is an operation. Note that this occurs inside the for loop, so this operation could be called many times.\n",
    "* `if i == z` -- this checks if two variables are equal, so it's an operation. This occurs inside 2 for loops, so this operation will be called many times.\n",
    "* `if item == item2` -- this check if two variables are equal as well, so it's an operation.\n",
    "* `duplicate = True` -- this assigns to a variable, so it's an operation. This is inside two for loops, but also an if statement, so it may not be called that many times.\n",
    "* `if duplicate` -- this checks if duplicate == True, so it's an operation. It's only inside one for loop.\n",
    "* `duplicates.append(item)` -- this modifies a list, so it's an operation. This is only inside one for loop.\n",
    "\n",
    "We can count up how many times each of these operations occurs by incrementing a counter just before the operation occurs. Here's an example where we count up how many times the `i == z` operation is called:\n",
    "\n",
    "```python\n",
    "iz_operations = 0\n",
    "# Initialize a list to store our duplicates\n",
    "duplicates = []\n",
    "​\n",
    "# Loop through each item in the query column.\n",
    "for i, item in enumerate(query):\n",
    "    duplicate = False\n",
    "​\n",
    "    # Loop through each item in the query column.\n",
    "    for z, item2 in enumerate(query):\n",
    "        # If the outer and inner loops are on the same value, keep going.\n",
    "        # Without this, we'll falsely detect rows as duplicates.\n",
    "        iz_operations += 1\n",
    "        if i == z:\n",
    "            continue\n",
    "        # Mark as duplicate if we find a match.\n",
    "        if item == item2:\n",
    "            duplicate = True\n",
    "    # Add to the duplicates list.\n",
    "    if duplicate:\n",
    "        duplicates.append(item)\n",
    "```\n",
    "\n",
    "Let's count up and print how many times each operation is called, so we can see what parts of our code take the longest to run. We've read the `query` column into the `query` variable, which is a list, and only kept the first `5000` values."
   ]
  },
  {
   "cell_type": "code",
   "execution_count": null,
   "metadata": {},
   "outputs": [],
   "source": []
  },
  {
   "cell_type": "markdown",
   "metadata": {},
   "source": [
    "* Initialize the following operation counter variables:\n",
    "  * `iz_operations` -- Count how many times the `i == z` check is performed.\n",
    "  * `item_operations` -- Count how many times the `item == item2` check is performed.\n",
    "  * `duplicates_init` -- Count how many times the `duplicates = []` operation is performed.\n",
    "  * `duplicates_false` -- Count how many times the `duplicates = False` operation is performed.\n",
    "  * `duplicates_true` -- Count how many times the `duplicates = True` operation is performed.\n",
    "  * `if_duplicate` -- Count how many times the if `duplicate` operation is performed.\n",
    "  * `duplicates_append` -- Count how many times the `duplicates.append(duplicate)` operation is performed.\n",
    "* Perform the duplicate checking from above.\n",
    "  * Add in code to count up how many times each operation occurs.\n",
    "* View the operation counter variables in the variable inspector.\n",
    "* Do you see any interesting trends or patterns in the operation counts?"
   ]
  },
  {
   "cell_type": "code",
   "execution_count": 2,
   "metadata": {},
   "outputs": [],
   "source": [
    "query = list(ecommerce['query'][:5000])"
   ]
  },
  {
   "cell_type": "code",
   "execution_count": 3,
   "metadata": {},
   "outputs": [],
   "source": [
    "iz_operations = 0\n",
    "item_operations = 0\n",
    "duplicates_init = 0\n",
    "duplicates_false = 0\n",
    "duplicates_true = 0\n",
    "if_duplicate = 0\n",
    "duplicates_append = 0"
   ]
  },
  {
   "cell_type": "code",
   "execution_count": 4,
   "metadata": {},
   "outputs": [],
   "source": [
    "# Initialize a list to store our duplicates\n",
    "duplicates_init += 1\n",
    "duplicates = []\n",
    "\n",
    "# Loop through each item in the query column.\n",
    "for i, item in enumerate(query):\n",
    "    duplicates_false += 1\n",
    "    duplicate = False\n",
    "\n",
    "    # Loop through each item in the query column.\n",
    "    for z, item2 in enumerate(query):\n",
    "        # If the outer and inner loops are on the same value, keep going.\n",
    "        # Without this, we'll falsely detect rows as duplicates.\n",
    "        iz_operations += 1\n",
    "        if i == z:\n",
    "            continue\n",
    "        \n",
    "        # Mark as duplicate if we find a match.\n",
    "        item_operations += 1\n",
    "        if item == item2:\n",
    "            duplicates_true +=1\n",
    "            duplicate = True\n",
    "    \n",
    "    # Add to the duplicates list.\n",
    "    if_duplicate += 1\n",
    "    if duplicate:\n",
    "        duplicates_append += 1\n",
    "        duplicates.append(item)"
   ]
  },
  {
   "cell_type": "code",
   "execution_count": null,
   "metadata": {},
   "outputs": [],
   "source": []
  },
  {
   "cell_type": "markdown",
   "metadata": {},
   "source": [
    "## Big O notation\n",
    "\n",
    "As we mentioned earlier, our dataset has `5000` rows. This means that some operations happened once per row (in the \"outer\" for loop). Some operations, like checking if `i == z`, and `item == item2`, were run about `25000000` times, though. This is because the operations occurred inside the inner for loop. This means that they were run over every element in `query` `5000` times. Here's a diagram showing how the nested for loops run operations:\n",
    "\n",
    "![nested-operations](https://s3.amazonaws.com/dq-content/168/nested_operations.png)\n",
    "\n",
    "Each item in the \"outer\" for loop spawns an \"inner\" for loop, which executes as many times as `query` has elements. This means that the loop will run `len(query) * len(query)` times, or 5000 * 5000, which equals `25000000`. Let's say your code has a single operation that takes 1 second to run. If it runs `25000000` times, it would take `289` days to run, almost a whole year!<br>\n",
    "\n",
    "Compared to the \"cost\" in terms of time of nested for loops, the outer for loop and other operations take almost no time. The operations inside two for loops ran `49995000` times. All the other operations ran `179774` times, a negligible amount comparatively. Compared to the operations inside nested for loops, the other operations don't really matter from a performance perspective. If we wanted to improve our algorithm, removing the operation `duplicate = False` would save us too little time to be worth it. We'd have to optimize the operations that run `25000000` times each.<br>\n",
    "\n",
    "It also doesn't really matter that there are two operations that run `25000000` times instead of one. Each operation individually will take `289` days to run `25000000` times at `1` second per execution, so just removing one of the operations from our program won't really help us. We need to remove both to get our performance to a reasonable level.<br>\n",
    "\n",
    "Needing to measure how long algorithms such as this one take is very common in computer science, and it isn't practical to always count up the number of operation directly. This has led to the usage of [Big O notation](https://en.wikipedia.org/wiki/Big_O_notation) to measure time complexity.<br>\n",
    "\n",
    "Big O notation is based on the same intuition that we just had -- that an algorithm's performance is limited by the operation that runs the most times. Big O notation expresses time complexity in terms of the length of the input variable, represented as `n`.<br>\n",
    "\n",
    "For example, here's a single for loop that runs across each element in a list once:\n",
    "\n",
    "```python\n",
    "counter = 0\n",
    "for item in query:\n",
    "    counter += 1\n",
    "```\n",
    "\n",
    "The above algorithm would be represented in big O notation as having `O(n)` time complexity since we run the `counter += 1` operation `len(query)` times. Recall from above that `n` equals `len(query)` in our notation."
   ]
  },
  {
   "cell_type": "code",
   "execution_count": null,
   "metadata": {},
   "outputs": [],
   "source": []
  },
  {
   "cell_type": "markdown",
   "metadata": {},
   "source": [
    "* Initialize a variable `total`, and set it to `0`.\n",
    "* Initialize the following operation counter variables:\n",
    "  * `sum_increments` -- count how many times `total` is incremented.\n",
    "* Write an algorithm that adds the length of each item in `query` to `total`.\n",
    "* Look at the value of `sum_increments`. Is it what you expected?"
   ]
  },
  {
   "cell_type": "code",
   "execution_count": 5,
   "metadata": {},
   "outputs": [],
   "source": [
    "sum_increments = 0\n",
    "total = 0\n",
    "\n",
    "for item in query:\n",
    "    total += len(item)\n",
    "    sum_increments += 1\n"
   ]
  },
  {
   "cell_type": "code",
   "execution_count": null,
   "metadata": {},
   "outputs": [],
   "source": []
  },
  {
   "cell_type": "markdown",
   "metadata": {},
   "source": [
    "## O(n^2)\n",
    "\n",
    "Here's an example with nested for loops:\n",
    "\n",
    "```python\n",
    "counter = 0\n",
    "for item in query:\n",
    "    for item2 in query:\n",
    "        counter += 1\n",
    "```\n",
    "\n",
    "The above algorithm would be represented in big O notation as `O(n^2)`, since we're running the `counter += 1` operation `len(query) * len(query)` times. `len(query) * len(query)` equals `len(query) ^ 2`, and we're using `n` to represent `len(query)`, so that's where the `n^2` comes from.<br>\n",
    "\n",
    "Here's an example with three nested for loops:\n",
    "\n",
    "```python\n",
    "counter = 0\n",
    "for item in query:\n",
    "    for item2 in query:\n",
    "        for item3 in query:\n",
    "            counter += 1\n",
    "```\n",
    "\n",
    "The above code will execute the `counter += 1` operation `len(query) * len(query) * len(query)` times, or `n^3`, meaning we represent the time complexity with `O(n^3)`.<br>\n",
    "\n",
    "In very rare cases, an algorithm will run in constant time, regardless of the length of the input variable. Here's an example:\n",
    "\n",
    "```python\n",
    "print(query[0])\n",
    "```\n",
    "\n",
    "The above code will always only execute a single operation, regardless of how long `query` is. This special case is represented as `O(1)` time, indicating that it's constant.<br>\n",
    "\n",
    "Big O notation is mostly concerned with the differences in magnitude. For example, going from `O(n^2)` to `O(n)` can usually create huge performance gains. Although the below code is technically `O(2n^2)`, it's common to just drop the 2 since the real performance gains would come from removing the inner for loop, not going from `2n^2` to `n^2`:\n",
    "\n",
    "```python\n",
    "counter = 0\n",
    "for item in query:\n",
    "    for item2 in query:\n",
    "        counter += 1\n",
    "        print(counter)\n",
    "```\n",
    "\n",
    "So we'd actually represent the above algorithm as having `O(n^2)` time complexity.<br>\n",
    "\n",
    "Now that we understand big O notation better, let's try to optimize our algorithm to have `O(n)` time complexity."
   ]
  },
  {
   "cell_type": "code",
   "execution_count": null,
   "metadata": {},
   "outputs": [],
   "source": []
  },
  {
   "cell_type": "markdown",
   "metadata": {},
   "source": [
    "* Initialize the following operation counter variables:\n",
    "  * `counts_increments` -- count how many times count is incremented.\n",
    "  * `value_checks` -- count how many times you check if a dictionary value is greater than 1.\n",
    "* Create a dictionary, `counts` to store item counts.\n",
    "* Loop over each item in query:\n",
    "  * If `item` isn't in `counts`, add it with the value set to `0`.\n",
    "  * Increment the value associated with `item` in `counts`.\n",
    "* Create a list, `duplicates` to store all the duplicates.\n",
    "* Loop over `counts`:\n",
    "  * If the value associated with any item is greater than 1, it's a duplicate, so append it to `duplicates`.\n",
    "* Print the operation counter variables.\n",
    "* Do you see any interesting trends or patterns in the operation counts?"
   ]
  },
  {
   "cell_type": "code",
   "execution_count": 6,
   "metadata": {},
   "outputs": [],
   "source": [
    "counts_increments = 0\n",
    "value_checks = 0\n",
    "\n",
    "counts = {}\n",
    "\n",
    "for item in query:\n",
    "    if item not in counts:\n",
    "        counts[item] = 0\n",
    "    counts[item] += 1\n",
    "    counts_increments += 1\n",
    "    \n",
    "duplicates = []\n",
    "\n",
    "for key, value in counts.items():\n",
    "    value_checks += 1\n",
    "    if value > 1:\n",
    "        duplicates.append(key)"
   ]
  },
  {
   "cell_type": "code",
   "execution_count": 7,
   "metadata": {},
   "outputs": [
    {
     "data": {
      "text/plain": [
       "5000"
      ]
     },
     "execution_count": 7,
     "metadata": {},
     "output_type": "execute_result"
    }
   ],
   "source": [
    "counts_increments"
   ]
  },
  {
   "cell_type": "code",
   "execution_count": 8,
   "metadata": {},
   "outputs": [
    {
     "data": {
      "text/plain": [
       "170"
      ]
     },
     "execution_count": 8,
     "metadata": {},
     "output_type": "execute_result"
    }
   ],
   "source": [
    "value_checks"
   ]
  },
  {
   "cell_type": "code",
   "execution_count": null,
   "metadata": {},
   "outputs": [],
   "source": []
  },
  {
   "cell_type": "markdown",
   "metadata": {},
   "source": [
    "## Timing code runs\n",
    "\n",
    "**In the previous code screen, we managed to reduce the time complexity to `O(n)`.** It should also have been apparent from how long the code took to run that the algorithm ran much faster. \n",
    "* Note that **in order to lower time complexity, we had to increase the amount of data we stored in memory** (we had to store the `counts` dictionary). \n",
    "\n",
    "This is a common trade-off, and usually to increase performance in one aspect, you'll have to compromise in another aspect. It can be a delicate balance, and we'll cover it in more depth in future missions.<br>\n",
    "\n",
    "We also ignored quite a few operations inside the loops, such as the `if item not in counts` operation, and the `duplicates.append(key)` operation. This is due to what we said before about only changes in the exponent being major, and the number of operations inside a loop not being a huge factor.<br>\n",
    "\n",
    "Also note that although there are two for loops, we still assigned the complexity of `O(n)`. This is because in the worst case, where each value in `query` is unique, and counts has `5000` items, you're still separately looping over `query` twice. This leads to a time complexity of `O(n) + O(n)`, or `O(2n)`, which as we stated before, we simplify to `O(n)`. As you can see, the time complexity of a program depends on its slowest part, but we don't need to overanalyze and try to count every operation.<br>\n",
    "\n",
    "Big O notation is a great way for estimating the time complexity of algorithms where:\n",
    "\n",
    "* You can easily trace all of the function calls, and understand any nested time complexity.\n",
    "* The code is relatively straightforward.\n",
    "\n",
    "\n",
    "However, in many real-world cases, you'll be building complex code that doesn't make it easy to analyze on the level of individual operations. In these cases, instrumenting your code, and timing how long each piece takes, is a good way to understand performance. An easy way to instrument is to use the [time.time()](https://docs.python.org/3/library/time.html#time.time) function. The `time.time` function gives us the elapsed time in seconds since January 1st, 1970. This means subtracting one time from another gives you the number of seconds in between the times.<br>\n",
    "\n",
    "The below code will measure how many seconds `duplicates = []` takes to run:\n",
    "\n",
    "```python\n",
    "import time\n",
    "start = time.time()\n",
    "\n",
    "# We're timing how long this line takes to run.\n",
    "duplicates = []\n",
    "\n",
    "elapsed = time.time() - start\n",
    "print(\"Took {} seconds to run.\".format(elapsed))\n",
    "import time\n",
    "start = time.time()\n",
    "\n",
    "# We're timing how long this line takes to run.\n",
    "duplicates = []\n",
    "\n",
    "elapsed = time.time() - start\n",
    "print(\"Took {} seconds to run.\".format(elapsed))\n",
    "```"
   ]
  },
  {
   "cell_type": "code",
   "execution_count": null,
   "metadata": {},
   "outputs": [],
   "source": []
  },
  {
   "cell_type": "markdown",
   "metadata": {},
   "source": [
    "* Find duplicate rows using Pandas.\n",
    "  * The variable `query_series` is a Pandas Series containing the values from the query column.\n",
    "  * Use the [pandas.Series.duplicated()](http://pandas.pydata.org/pandas-docs/stable/generated/pandas.Series.duplicated.html) method to find duplicates.\n",
    "    * Assign the result to `duplicate_series`.\n",
    "  * Subset `query_series` using `duplicate_series` to get the actual values of the duplicates.\n",
    "  * Assign the values to `duplicate_values_series`.\n",
    "* Assign the total time elapsed finding duplicates in Pandas took to `pandas_elapsed`.\n",
    "* Print `pandas_elapsed`.\n",
    "* Find duplicate rows using the algorithm we used in the last screen.\n",
    "* Assign the total time elapsed finding duplicates with our algorithm to `elapsed`.\n",
    "* Print `elapsed`."
   ]
  },
  {
   "cell_type": "code",
   "execution_count": 9,
   "metadata": {
    "scrolled": true
   },
   "outputs": [
    {
     "name": "stdout",
     "output_type": "stream",
     "text": [
      "0.00307464599609375\n"
     ]
    }
   ],
   "source": [
    "import time\n",
    "start = time.time()\n",
    "query_series = ecommerce['query']\n",
    "duplicated_series = query_series.duplicated()\n",
    "duplicate_values_series = query_series[duplicated_series]\n",
    "pandas_elapsed = time.time() - start\n",
    "print(pandas_elapsed)"
   ]
  },
  {
   "cell_type": "code",
   "execution_count": 10,
   "metadata": {},
   "outputs": [
    {
     "name": "stdout",
     "output_type": "stream",
     "text": [
      "0.0017020702362060547\n"
     ]
    }
   ],
   "source": [
    "start = time.time()\n",
    "counts = {}\n",
    "\n",
    "for item in query:\n",
    "    if item not in counts:\n",
    "        counts[item] = 0\n",
    "    counts[item] += 1\n",
    "\n",
    "duplicates = []\n",
    "\n",
    "for key, value in counts.items():\n",
    "    if value > 1:\n",
    "        duplicates.append(key)\n",
    "elapsed = time.time() - start\n",
    "print(elapsed)"
   ]
  },
  {
   "cell_type": "code",
   "execution_count": null,
   "metadata": {},
   "outputs": [],
   "source": []
  },
  {
   "cell_type": "markdown",
   "metadata": {},
   "source": [
    "## Stable time estimates\n",
    "\n",
    "Both algorithms ran pretty quickly -- around 1/50th of a second. You may notice that if you execute the code in the previous screen multiple times, the numbers will change by up to a factor of 2-3x each time. This is because the total runtime of the algorithms is low enough that small variances in things like what other programs are running, and memory latency can have a big effect on total runtime. **For example, if the system runs a cleanup process that takes 100% of the CPU every 15 minutes, if you get unlucky and run your script right as CPU usage is at 100%, you will see a very slow runtime**.<br>\n",
    "\n",
    "In order to get more stable results, you have to either:\n",
    "* Average out the random variation to get a more realistic look at runtime.\n",
    "* Run for long enough (over more data), so that the total runtime of your program is less susceptible to randomness.\n",
    "\n",
    "Two ways to accomplish this are to:\n",
    "* Use more data, so the total runtime is longer. This makes things less susceptible to random variation.\n",
    "* Run the same code multiple times, take the median of all the runs, and also plot a histogram.\n",
    "\n",
    "The first method isn't always practical, as there isn't always a way to execute an algorithm over more data. We'll try the second method to get more stable results. Having a histogram will also help us eyeball standard deviation, and see if there are any major outliers."
   ]
  },
  {
   "cell_type": "code",
   "execution_count": null,
   "metadata": {},
   "outputs": [],
   "source": []
  },
  {
   "cell_type": "markdown",
   "metadata": {},
   "source": [
    "* Convert both of the algorithms from the last screen into functions.\n",
    "* Execute the pandas algorithm `1000` times. Find the median time it took to run, and assign to `median_pandas_runtime`.\n",
    "* Print `median_pandas_runtime`.\n",
    "* Create a histogram of the runtime the pandas algorithm using the [matplotlib.pyplot.hist()](http://matplotlib.org/api/pyplot_api.html#matplotlib.pyplot.hist) function.\n",
    "* Execute our algorithm `1000` times. Find the median time it took to run, and assign to `median_runtime`.\n",
    "* Print `median_runtime`.\n",
    "* Create a histogram of the runtime for our algorithm using the [matplotlib.pyplot.hist()](http://matplotlib.org/api/pyplot_api.html#matplotlib.pyplot.hist) function."
   ]
  },
  {
   "cell_type": "code",
   "execution_count": 11,
   "metadata": {},
   "outputs": [],
   "source": [
    "import statistics\n",
    "import matplotlib.pyplot as plt\n",
    "%matplotlib inline"
   ]
  },
  {
   "cell_type": "code",
   "execution_count": 12,
   "metadata": {},
   "outputs": [],
   "source": [
    "def pandas_algorithm(times):\n",
    "    pandas_elapsed_list = []\n",
    "    \n",
    "    for i in range(times):\n",
    "        \n",
    "        start = time.time()\n",
    "        duplicated_series = query_series.duplicated()\n",
    "        duplicate_values_series = query_series[duplicated_series]\n",
    "        pandas_elapsed = time.time() - start\n",
    "        \n",
    "        pandas_elapsed_list.append(pandas_elapsed)\n",
    "    \n",
    "    median_pandas_runtime = statistics.median(pandas_elapsed_list)\n",
    "    print(median_pandas_runtime)\n",
    "    plt.hist(median_pandas_runtime)\n",
    "    plt.show()"
   ]
  },
  {
   "cell_type": "code",
   "execution_count": 13,
   "metadata": {
    "scrolled": false
   },
   "outputs": [
    {
     "name": "stdout",
     "output_type": "stream",
     "text": [
      "0.0004119873046875\n"
     ]
    },
    {
     "data": {
      "image/png": "[encoded data removed]",
      "text/plain": [
       "<matplotlib.figure.Figure at 0x109235c50>"
      ]
     },
     "metadata": {},
     "output_type": "display_data"
    }
   ],
   "source": [
    "pandas_algorithm(1000)"
   ]
  },
  {
   "cell_type": "code",
   "execution_count": null,
   "metadata": {},
   "outputs": [],
   "source": []
  },
  {
   "cell_type": "code",
   "execution_count": 14,
   "metadata": {
    "scrolled": true
   },
   "outputs": [
    {
     "name": "stdout",
     "output_type": "stream",
     "text": [
      "0.0007491111755371094\n"
     ]
    },
    {
     "data": {
      "image/png": "[encoded data removed]",
      "text/plain": [
       "<matplotlib.figure.Figure at 0x1092f0b38>"
      ]
     },
     "metadata": {},
     "output_type": "display_data"
    }
   ],
   "source": [
    "def our_algorithm(times):\n",
    "    elapsed_list = []\n",
    "    \n",
    "    for i in range(times):\n",
    "        start = time.time()\n",
    "        counts = {}\n",
    "\n",
    "        for item in query:\n",
    "            if item not in counts:\n",
    "                counts[item] = 0\n",
    "            counts[item] += 1\n",
    "\n",
    "        duplicates = []\n",
    "\n",
    "        for key, value in counts.items():\n",
    "            if value > 1:\n",
    "                duplicates.append(key)\n",
    "        elapsed = time.time() - start\n",
    "        elapsed_list.append(elapsed)\n",
    "        \n",
    "    median_runtime = statistics.median(elapsed_list)\n",
    "    print(median_runtime)\n",
    "    plt.hist(elapsed_list)\n",
    "    plt.show()\n",
    "        \n",
    "our_algorithm(1000)"
   ]
  },
  {
   "cell_type": "code",
   "execution_count": null,
   "metadata": {},
   "outputs": [],
   "source": []
  },
  {
   "cell_type": "markdown",
   "metadata": {},
   "source": [
    "## Refactoring\n",
    "\n",
    "The performance differences in the previous screen may seem minor, but they really start to add up over time. Your specific time may be different, but let's say the Pandas algorithm took about `.0007` seconds, and our algorithm takes `.0008` seconds. The `.0001` difference doesn't matter with `5000` rows, but if we scale to `50000000` rows, it adds us to `5000` seconds. Not an enormous difference, but if you're running the code often, it can make a difference.<br>\n",
    "\n",
    "It's very rare to use the optimal algorithm the first time you implement something. It's worth using a combination of big O notation and timing to figure out where your bottlenecks are. Once you find a bottleneck, you can refactor it to find faster solutions.\n",
    "\n",
    "The general process behind refactoring is:\n",
    "* Measure how long the current code takes to run.\n",
    "* Rewrite the code so that the algorithm you want is nicely isolated from the rest of the code. Ideally, it will be a function, with defined inputs and outputs.\n",
    "* Try rewriting the algorithm to reduce time complexity.\n",
    "* Measure the new algorithm to see if it's faster.\n",
    "* Rinse and repeat as needed.\n",
    "\n",
    "**Refactoring is a critical skill, especially when old code that you wrote now has to deal with a much larger volume of data than you anticipated**.<br>\n",
    "\n",
    "Just as critical of a skill is to know when not to refactor. You generally want to identify the slowest part of your code and refactor it, versus making minor changes to faster-performing pieces. The key is to figure out where most of the runtime of your program is spent before you start refactoring. Going from our initial solution with two for loops to our second attempt made a huge difference, but switching from our second attempt to Pandas didn't."
   ]
  },
  {
   "cell_type": "code",
   "execution_count": null,
   "metadata": {},
   "outputs": [],
   "source": []
  },
  {
   "cell_type": "markdown",
   "metadata": {},
   "source": [
    "* Try writing your own version of the algorithm that we used to find unique values in `query`.\n",
    "* Measure the median elapsed time, and assign to `median_runtime`.\n",
    "* Print `median_runtime`.\n",
    "* Was your time better or worse than the times for the other approaches? Can you improve anything?"
   ]
  },
  {
   "cell_type": "code",
   "execution_count": 15,
   "metadata": {},
   "outputs": [
    {
     "name": "stdout",
     "output_type": "stream",
     "text": [
      "0.0004680156707763672\n"
     ]
    },
    {
     "data": {
      "image/png": "[encoded data removed]",
      "text/plain": [
       "<matplotlib.figure.Figure at 0x109316828>"
      ]
     },
     "metadata": {},
     "output_type": "display_data"
    }
   ],
   "source": [
    "def my_algorithm(times):\n",
    "    elapsed_list = []\n",
    "    \n",
    "    for i in range(times):\n",
    "        \n",
    "        start = time.time()\n",
    "        \n",
    "        counts = {unq:0 for unq in set(query)}\n",
    "        duplicates = []\n",
    "        \n",
    "        for item in query:\n",
    "            \n",
    "            # eliminate unnecessary calculation.\n",
    "            if counts[item] > 1:\n",
    "                continue\n",
    "        \n",
    "            counts[item] += 1\n",
    "        \n",
    "        duplicates = [dup for dup, count in counts.items()\n",
    "                     if count > 1]\n",
    "        \n",
    "        elapsed = time.time() -start\n",
    "        elapsed_list.append(elapsed)\n",
    "        \n",
    "    median_runtime = statistics.median(elapsed_list)\n",
    "    print(median_runtime)\n",
    "    plt.hist(elapsed_list)\n",
    "    plt.show()\n",
    "        \n",
    "my_algorithm(1000)"
   ]
  },
  {
   "cell_type": "code",
   "execution_count": null,
   "metadata": {},
   "outputs": [],
   "source": []
  },
  {
   "cell_type": "markdown",
   "metadata": {},
   "source": [
    "### Different approach:\n",
    "   * not execute a loop for all 'query' items\n",
    "   * instead execute a loop for only unique items in 'query'\n",
    "   \n",
    "### Result : Fastest among above (`0.000158`)"
   ]
  },
  {
   "cell_type": "code",
   "execution_count": 16,
   "metadata": {},
   "outputs": [
    {
     "name": "stdout",
     "output_type": "stream",
     "text": [
      "0.00015735626220703125\n"
     ]
    },
    {
     "data": {
      "image/png": "[encoded data removed]",
      "text/plain": [
       "<matplotlib.figure.Figure at 0x109446438>"
      ]
     },
     "metadata": {},
     "output_type": "display_data"
    }
   ],
   "source": [
    "def my_algorithm_2(times):\n",
    "    elapsed_list = []\n",
    "    query_copy = query[:]\n",
    "    \n",
    "    for i in range(times):\n",
    "        \n",
    "        start = time.time()\n",
    "        \n",
    "        uniques = set(query)\n",
    "        \n",
    "        for unique in uniques:\n",
    "            try:\n",
    "                query_copy.remove(unique)\n",
    "            except:\n",
    "                pass\n",
    "        \n",
    "        duplicates = query_copy\n",
    "        \n",
    "        elapsed = time.time() -start\n",
    "        elapsed_list.append(elapsed)\n",
    "        \n",
    "    median_runtime = statistics.median(elapsed_list)\n",
    "    print(median_runtime)\n",
    "    plt.hist(elapsed_list)\n",
    "    plt.show()\n",
    "        \n",
    "my_algorithm_2(1000)"
   ]
  },
  {
   "cell_type": "code",
   "execution_count": null,
   "metadata": {},
   "outputs": [],
   "source": []
  },
  {
   "cell_type": "markdown",
   "metadata": {},
   "source": [
    "## Alternate profiling strategies\n",
    "\n",
    "Constantly having to write lines to time different parts of your program is fine when you only want to profile a few lines, but it can be painful when you're trying to optimize a large program.<br>\n",
    "\n",
    "There are tools that can automatically profile your code, without you having to insert lines. Here are a few:\n",
    "* [cProfile](https://docs.python.org/3/library/profile.html) will show you how much time was spent in various levels of your application.\n",
    "* The unix [time](https://linux.die.net/man/1/time) command. Calling your program from the command line with syntax like `time python script.py` will show you how long your program took to run.\n",
    "* The [contexttimer](https://pypi.python.org/pypi/contexttimer/0.3.1) package will enable you to quickly time parts of your program without having to add lots of code.\n",
    "* The [lineprofiler](https://github.com/rkern/line_profiler) package will show you how long each line of a profiled function takes to execute.\n",
    "\n",
    "If you want to read about more profiling options, [here](https://docs.python.org/3/library/debug.html) is the Python documentation.<br>\n",
    "\n",
    "For now, let's use cProfile to profile our function from the last screen. You can use cProfile like this:\n",
    "\n",
    "```python\n",
    "import cProfile\n",
    "cProfile.run('print(10)')\n",
    "```\n",
    "\n",
    "Whatever code you pass into the [cProfile.run()](https://docs.python.org/3/library/profile.html#profile.run) will be executed. This code can execute functions or modules defined elsewhere in your code, so it's a good idea to use cProfile to run functions you've defined.<br>\n",
    "\n",
    "The output of the above cProfile run will look like this:\n",
    "\n",
    "```python\n",
    "38 function calls in 0.000 seconds\n",
    "​\n",
    "   Ordered by: standard name\n",
    "​\n",
    "   ncalls  tottime  percall  cumtime  percall filename:lineno(function)\n",
    "        1    0.000    0.000    0.000    0.000 <string>:1(<module>)\n",
    "        3    0.000    0.000    0.000    0.000 iostream.py:180(schedule)\n",
    "        2    0.000    0.000    0.000    0.000 iostream.py:285(_is_master_process)\n",
    "        2    0.000    0.000    0.000    0.000 iostream.py:298(_schedule_flush)\n",
    "        2    0.000    0.000    0.000    0.000 iostream.py:361(write)\n",
    "        3    0.000    0.000    0.000    0.000 iostream.py:89(_event_pipe)\n",
    "        3    0.000    0.000    0.000    0.000 threading.py:1067(_wait_for_tstate_lock)\n",
    "        3    0.000    0.000    0.000    0.000 threading.py:1109(is_alive)\n",
    "        3    0.000    0.000    0.000    0.000 threading.py:501(is_set)\n",
    "        1    0.000    0.000    0.000    0.000 {built-in method exec}\n",
    "        2    0.000    0.000    0.000    0.000 {built-in method getpid}\n",
    "        2    0.000    0.000    0.000    0.000 {built-in method isinstance}\n",
    "        1    0.000    0.000    0.000    0.000 {built-in method print}\n",
    "        3    0.000    0.000    0.000    0.000 {built-in method urandom}\n",
    "        3    0.000    0.000    0.000    0.000 {method 'acquire' of '_thread.lock' objects}\n",
    "        1    0.000    0.000    0.000    0.000 {method 'disable' of '_lsprof.Profiler' objects}\n",
    "        3    0.000    0.000    0.000    0.000 {method 'send' of 'zmq.backend.cython.socket.Socket' objects}\n",
    "</module></string>\n",
    "```\n",
    "\n",
    "As you can see, cProfile shows you not just how long your code took to run, but exactly what the time was spent on. Here's what each column means:\n",
    "* `ncalls` -- the number of calls made to this particular function.\n",
    "* `tottime` -- the total time spent on this call.\n",
    "* `percall` -- the total time spent per call.\n",
    "* `cumtime` -- the cumulative time spent across calls.\n",
    "* `percall` -- the cumulative time per call.\n",
    "\n",
    "As you can see, the print() function utilizes many other Python functions in the threading and iostream packages."
   ]
  },
  {
   "cell_type": "code",
   "execution_count": null,
   "metadata": {},
   "outputs": [],
   "source": []
  },
  {
   "cell_type": "markdown",
   "metadata": {},
   "source": [
    "* Use cProfile to run the `algo` function.\n",
    "* Look at the output. Can you figure out what each line refers to?"
   ]
  },
  {
   "cell_type": "code",
   "execution_count": 17,
   "metadata": {},
   "outputs": [],
   "source": [
    "def algo():\n",
    "    unique = set()\n",
    "    duplicates = set()\n",
    "    for item in query:\n",
    "        if item in unique:\n",
    "            duplicates.add(item)\n",
    "        else:\n",
    "            unique.add(item)"
   ]
  },
  {
   "cell_type": "code",
   "execution_count": 18,
   "metadata": {
    "scrolled": true
   },
   "outputs": [
    {
     "name": "stdout",
     "output_type": "stream",
     "text": [
      "         5004 function calls in 0.002 seconds\n",
      "\n",
      "   Ordered by: standard name\n",
      "\n",
      "   ncalls  tottime  percall  cumtime  percall filename:lineno(function)\n",
      "        1    0.001    0.001    0.002    0.002 <ipython-input-17-a7d97f52efa9>:1(algo)\n",
      "        1    0.000    0.000    0.002    0.002 <string>:1(<module>)\n",
      "        1    0.000    0.000    0.002    0.002 {built-in method builtins.exec}\n",
      "     5000    0.001    0.000    0.001    0.000 {method 'add' of 'set' objects}\n",
      "        1    0.000    0.000    0.000    0.000 {method 'disable' of '_lsprof.Profiler' objects}\n",
      "\n",
      "\n"
     ]
    }
   ],
   "source": [
    "import cProfile\n",
    "cProfile.run('algo()')"
   ]
  },
  {
   "cell_type": "code",
   "execution_count": null,
   "metadata": {},
   "outputs": [],
   "source": []
  },
  {
   "cell_type": "markdown",
   "metadata": {},
   "source": [
    "## Practicing writing efficient algorithms\n",
    "\n",
    "Now that you understand how to profile code and write efficient algorithms, let's see if we can code something that works across the whole dataset, which is `2673373` rows. We'll want to create an algorithm that:\n",
    "* Splits the data into groups based on `query`.\n",
    "* For each group:\n",
    "  * Finds the `product_link` with the highest `relevance`.\n",
    "\n",
    "Here's some information that may help you:\n",
    "* The data is already sorted by `query`, so looping across the data will work, as long as you handle term changes.\n",
    "* It may be faster to iterate over the data if you remove columns first.\n",
    "\n",
    "It's possible to complete this using [pandas.DataFrame.groupby()](http://pandas.pydata.org/pandas-docs/stable/generated/pandas.DataFrame.groupby.html), but is it possible to build something faster on your own? \n",
    "### Try to aim for something that runs in `O(n)` time.\n",
    "\n",
    "The data has been read into the Dataframe `data`. Additionally, the `query` column is in the list `query`, the `relevance` column is in the list `relevance`, and the `product_link` column is in the list `product_link`."
   ]
  },
  {
   "cell_type": "code",
   "execution_count": null,
   "metadata": {},
   "outputs": [],
   "source": []
  },
  {
   "cell_type": "markdown",
   "metadata": {},
   "source": [
    "* Use pandas groupby to find the `product_link` with the highest `relevance` for each unique `query`.\n",
    "* Profile the pandas algorithm and see how long it takes to run. Assign the elapsed time to `pandas_elapsed`.\n",
    "  * If you're testing using your own timing, you don't want to run it more than `10` times to get a stable time estimate, as iterating over `2673373` rows will take a while.\n",
    "* Write your own code to perform the same operation.\n",
    "* See how long it takes to run. Assign the elapsed time to `elapsed`.\n",
    "  * If you're testing using your own timing, you don't want to run it more than `10` times to get a stable time estimate, as iterating over `2673373` rows will take a while.\n",
    "* Refactor and repeat until you're happy with your algorithm."
   ]
  },
  {
   "cell_type": "code",
   "execution_count": 32,
   "metadata": {},
   "outputs": [],
   "source": [
    "def get_runtime(func, times):\n",
    "    elapsed = []\n",
    "    for i in range(times):\n",
    "        start = time.time()\n",
    "        func()\n",
    "        \n",
    "    elapsed.append(time.time() - start)\n",
    "    return statistics.median(elapsed) "
   ]
  },
  {
   "cell_type": "code",
   "execution_count": 46,
   "metadata": {},
   "outputs": [],
   "source": [
    "def pandas_algo():\n",
    "    get_max_relevance = lambda x: x.loc[x[\"relevance\"].idxmax(), \"product_link\"]\n",
    "    return ecommerce.groupby(\"query\").apply(get_max_relevance)"
   ]
  },
  {
   "cell_type": "code",
   "execution_count": 56,
   "metadata": {
    "scrolled": false
   },
   "outputs": [],
   "source": [
    "def my_algo():\n",
    "    \n",
    "    ecommerce_cut = ecommerce[['query', 'relevance', 'product_link']]\n",
    "    query_unique = list(set(query))\n",
    "    groupby_data = []\n",
    "    \n",
    "    for qu in query_unique:\n",
    "        selected = ecommerce_cut[ecommerce_cut['query'] == qu]\n",
    "        groupby_data.append(selected.loc[selected['relevance'].idxmax])\n",
    "        \n",
    "    return pd.concat(groupby_data)"
   ]
  },
  {
   "cell_type": "code",
   "execution_count": 57,
   "metadata": {
    "scrolled": true
   },
   "outputs": [
    {
     "data": {
      "text/plain": [
       "0.038282155990600586"
      ]
     },
     "execution_count": 57,
     "metadata": {},
     "output_type": "execute_result"
    }
   ],
   "source": [
    "get_runtime(pandas_algo, 10)"
   ]
  },
  {
   "cell_type": "code",
   "execution_count": 58,
   "metadata": {},
   "outputs": [
    {
     "data": {
      "text/plain": [
       "0.32485008239746094"
      ]
     },
     "execution_count": 58,
     "metadata": {},
     "output_type": "execute_result"
    }
   ],
   "source": [
    "get_runtime(my_algo, 10)"
   ]
  },
  {
   "cell_type": "code",
   "execution_count": null,
   "metadata": {},
   "outputs": [],
   "source": []
  },
  {
   "cell_type": "markdown",
   "metadata": {},
   "source": [
    "## Big O Notation practice\n",
    "\n",
    "Now that we've practiced writing more efficient code, let's practice a bit with big O notation. Being able to identify the time complexity of code quickly is a very useful skill.<br>\n",
    "\n",
    "Let's also quickly introduce the concept of space complexity. Space complexity indicates how much additional space in memory our code uses over and above the input arguments.<br>\n",
    "\n",
    "#### For instance, this code has a space complexity of `O(1)` since it only uses constant storage:\n",
    "\n",
    "```python\n",
    "first = query[0]\n",
    "for item in query:\n",
    "    print(item)\n",
    "```\n",
    "\n",
    "We only store `first`, which is always just a single element, no matter how long the query list is.<br>\n",
    "\n",
    "This code has a space complexity of `O(n)`, since we're storing a new list that's equal to the original list in length:\n",
    "\n",
    "```python\n",
    "new_list = []\n",
    "for item in query:\n",
    "    new_list.append(item)\n",
    "```\n",
    "\n",
    "Note that the same rules about ignoring coefficients for `n` also applies here. The following code also has a space complexity of `O(n)`:\n",
    "\n",
    "```python\n",
    "new_list = []\n",
    "new_list2 = []\n",
    "for item in query:\n",
    "    new_list.append(item)\n",
    "    new_list2.append(item)\n",
    "```\n",
    "\n",
    "We can also have a space complexity of `O(n^2)`:\n",
    "\n",
    "```python\n",
    "new_list = []\n",
    "for item in query:\n",
    "    inner_list = []\n",
    "    for item in query:\n",
    "        inner_list.append(item)\n",
    "    new_list.append(inner_list)\n",
    "```\n",
    "\n",
    "Now that we have an overview of space complexity, let's see if we can figure out the time and space complexity of a few functions."
   ]
  },
  {
   "cell_type": "code",
   "execution_count": null,
   "metadata": {},
   "outputs": [],
   "source": []
  },
  {
   "cell_type": "markdown",
   "metadata": {},
   "source": [
    "* Figure out the time and space complexity of each of the functions shown.\n",
    "* Assign `0` to `algo1_space_complexity` if it's `O(1)`, `1` if it's `O(n)`, and so on.\n",
    "* Assign `0` to `algo1_time_complexity` if it's `O(1)`, `1` if it's `O(n)`, and so on.\n",
    "* Repeat for all of the algorithms."
   ]
  },
  {
   "cell_type": "code",
   "execution_count": 59,
   "metadata": {},
   "outputs": [],
   "source": [
    "import re"
   ]
  },
  {
   "cell_type": "code",
   "execution_count": 60,
   "metadata": {},
   "outputs": [],
   "source": [
    "algo1_time_complexity = 1 # O(n)\n",
    "algo1_space_complexity = 0 # store a single element\n",
    "\n",
    "def algo1(data):\n",
    "    total = 0\n",
    "    for index, row in data.iterrows():\n",
    "        total += int(row[\"rank\"])\n",
    "    return total\n",
    "\n",
    "algo2_time_complexity = 1 # O(n)\n",
    "algo2_space_complexity = 1 # store multiple elements\n",
    "\n",
    "def algo2(data):\n",
    "    prices = []\n",
    "    \n",
    "    for index, row in data.iterrows():\n",
    "        price_search = re.search('.*(\\d+).*', row[\"product_price\"], re.IGNORECASE)\n",
    "\n",
    "        if price_search:\n",
    "            price = float(price_search.group(1))\n",
    "        else:\n",
    "            price = None\n",
    "        \n",
    "        prices.append(price)\n",
    "        \n",
    "    price_avg = statistics.mean([p for p in prices if p is not None])\n",
    "    weighted_relevance = []\n",
    "    \n",
    "    for index, row in data.iterrows():\n",
    "        if prices[index] is not None:\n",
    "            price = prices[index] / price_avg\n",
    "        else:\n",
    "            price = price_avg\n",
    "        \n",
    "        weighted_relevance.append(float(row[\"relevance\"]) * price)\n",
    "    \n",
    "    return weighted_relevance"
   ]
  },
  {
   "cell_type": "code",
   "execution_count": null,
   "metadata": {},
   "outputs": [],
   "source": []
  },
  {
   "cell_type": "markdown",
   "metadata": {},
   "source": [
    "## Next Steps\n",
    "\n",
    "You should now have a good idea of big O notation, profiling, and refactoring. These are critical and hard-to-develop skills, so make sure you practice them on your own, and ask for help in the Slack community if you need it. We'll be using these concepts extensively throughout the data engineering course.<br>\n",
    "\n",
    "If you want to do some further reading, here are some good resources:\n",
    "* [Time Complexity on Wikipedia](https://en.wikipedia.org/wiki/Time_complexity)\n",
    "* [Time Complexity in Python](https://wiki.python.org/moin/TimeComplexity)\n",
    "* [Complexity Analysis Introduction](http://discrete.gr/complexity/)\n",
    "* [Python 3 Profiling](https://docs.python.org/3/library/profile.html)\n",
    "\n",
    "Although we only covered profiling and refactoring as ways of improving the performance of CPU-bound programs here, there are other methods that we'll cover in subsequent missions. \n",
    "\n",
    "### Trying to improve the performance of CPU-bound and I/O-bound programs is a significant part of the work of a data engineer. \n",
    "\n",
    "In the next mission, we'll cover I/O-bound programs, and how to optimize them."
   ]
  },
  {
   "cell_type": "code",
   "execution_count": null,
   "metadata": {},
   "outputs": [],
   "source": []
  }
 ],
 "metadata": {
  "kernelspec": {
   "display_name": "Python 3",
   "language": "python",
   "name": "python3"
  },
  "language_info": {
   "codemirror_mode": {
    "name": "ipython",
    "version": 3
   },
   "file_extension": ".py",
   "mimetype": "text/x-python",
   "name": "python",
   "nbconvert_exporter": "python",
   "pygments_lexer": "ipython3",
   "version": "3.6.2"
  }
 },
 "nbformat": 4,
 "nbformat_minor": 2
}
