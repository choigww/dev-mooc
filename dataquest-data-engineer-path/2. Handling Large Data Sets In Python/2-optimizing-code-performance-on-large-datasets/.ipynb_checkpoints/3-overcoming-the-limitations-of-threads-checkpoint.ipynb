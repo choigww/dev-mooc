{
 "cells": [
  {
   "cell_type": "markdown",
   "metadata": {},
   "source": [
    "# Overcoming the Limitations of Threads"
   ]
  },
  {
   "cell_type": "code",
   "execution_count": null,
   "metadata": {},
   "outputs": [],
   "source": []
  },
  {
   "cell_type": "markdown",
   "metadata": {},
   "source": [
    "## The GIL\n",
    "\n",
    "In the last mission, we learned about I/O bounds, threads, and locks. We went through a few exercises where we turned code into its threaded equivalent to see if we gained any speed. Unfortunately, even when we ran multiple threads, we didn't see the performance gains we intuitively expected. For example, **`2` threads didn't make the program twice as fast**.<br>\n",
    "\n",
    "There are two main reasons for this:\n",
    "* The [Global Interpreter Lock](https://wiki.python.org/moin/GlobalInterpreterLock), or [GIL](https://en.wikipedia.org/wiki/CPython), in CPython.\n",
    "* The number of cores in the underlying processor.\n",
    "\n",
    "In the last mission, we learned about the idea of thread safety -- how if two threads write to the same resource at the same time, they can cause conflicts. We saw an example of this when multiple threads wrote to the system standard output at the same time. This caused issues with output appearing out of order, or newlines not showing up after a string.<br>\n",
    "\n",
    "[CPython](https://en.wikipedia.org/wiki/CPython), the most commonly used [Python interpreter](http://docs.python-guide.org/en/latest/starting/which-python/), does not do memory management in a thread safe way. This means that CPython needs to prevent multiple threads from executing Python code at the same time. Although you can initialize multiple threads and execute code using them, the GIL only allows one of those threads at a time to execute Python code, via a locking mechanism.<br>\n",
    "\n",
    "This makes threads perform poorly when parallelizing CPU-bound tasks, since only one thread can execute at a time. However, the GIL is released in certain situations, including when doing I/O operations such as waiting for network activity or reading a file. This makes threads more performant in I/O bound situations.<br>\n",
    "\n",
    "We can demonstrate this by reading a file with two different threads, and seeing how long it takes. If they take less than twice the time it took to run the code with a single thread, then you know you're seeing some benefit. The larger the file, the greater the benefit you'll see from multiple threads, since the GIL will be released for longer, as the file data is transferred.\n",
    "\n"
   ]
  },
  {
   "cell_type": "markdown",
   "metadata": {},
   "source": [
    "* Write a function that opens and reads the file `Emails.csv`.\n",
    "* Run the function `100` times and time it each time.\n",
    "  * Assign the times to the list `times`.\n",
    "* Create two threads that both call the function and run them `100` times.\n",
    "  * Assign the `times` to the list `threaded_times`.\n",
    "* Find the median of `times` and `threaded_times`.\n",
    "* What do the results tell you? Were they what you expected?"
   ]
  },
  {
   "cell_type": "code",
   "execution_count": 2,
   "metadata": {},
   "outputs": [],
   "source": [
    "import threading\n",
    "import time\n",
    "import statistics"
   ]
  },
  {
   "cell_type": "code",
   "execution_count": 17,
   "metadata": {},
   "outputs": [],
   "source": [
    "def open_emails():\n",
    "    emails = []\n",
    "    with open('../data/Emails.csv') as f:\n",
    "        data = f.read()\n",
    "    return data"
   ]
  },
  {
   "cell_type": "code",
   "execution_count": 18,
   "metadata": {},
   "outputs": [
    {
     "name": "stdout",
     "output_type": "stream",
     "text": [
      "0.043221473693847656\n"
     ]
    }
   ],
   "source": [
    "times = []\n",
    "\n",
    "for i in range(100):\n",
    "    start = time.time()\n",
    "    open_emails()\n",
    "    times.append(time.time() - start)\n",
    "    \n",
    "print(statistics.median(times))"
   ]
  },
  {
   "cell_type": "code",
   "execution_count": 19,
   "metadata": {},
   "outputs": [
    {
     "name": "stdout",
     "output_type": "stream",
     "text": [
      "0.08028936386108398\n"
     ]
    }
   ],
   "source": [
    "threaded_times = []\n",
    "\n",
    "for i in range(100):\n",
    "    \n",
    "    start = time.time()\n",
    "    \n",
    "    thread1 = threading.Thread(target=open_emails)\n",
    "    thread2 = threading.Thread(target=open_emails)\n",
    "    thread1.start()\n",
    "    thread2.start()\n",
    "    thread1.join()\n",
    "    thread2.join()\n",
    "    \n",
    "    threaded_times.append(time.time() - start)\n",
    "    \n",
    "print(statistics.median(threaded_times))"
   ]
  },
  {
   "cell_type": "code",
   "execution_count": null,
   "metadata": {},
   "outputs": [],
   "source": []
  },
  {
   "cell_type": "markdown",
   "metadata": {},
   "source": [
    "## Python Interpreters\n",
    "\n",
    "Before we dive more into the GIL and how it works, let's take a minute to discuss Python interpreters. A good way to think about interpreters is by thinking about how your brain interprets the words you're seeing right now. If you didn't know English, these letters would just be drawings on a page. If you look at letters in a language you don't know, they won't appear to have any meaning:\n",
    "\n",
    "![alphabet-interpret](https://s3.amazonaws.com/dq-content/169/esperanto.gif)\n",
    "\n",
    "The above is the alphabet of an obscure language called [Esperanto](https://en.wikipedia.org/wiki/Esperanto). If you understand English, some of the letters look familiar, but many have strange symbols above them, or don't \"click\" in your mind.<br>\n",
    "\n",
    "A Python program is fundamentally just a series of random symbols written in a specific way. Here's an example:\n",
    "\n",
    "```python\n",
    "def loop():\n",
    "    for i in range(5):\n",
    "        print(i)\n",
    "```\n",
    "\n",
    "If you understand Python code already, the above example is easy to read. If you don't, the example might look foreign or intimidating. Just like you need lessons before you can understand Esperanto, a computer needs to be told how to parse the syntax of the Python language and execute it. Without an interpreter, there's no way for a computer to execute your Python code.<br>\n",
    "\n",
    "Computers don't natively understand Python. When your program \"runs\", what actually happens is that your Python program is translated into code the machine can run. The code is then executed, and the response is translated back into a value you can understand.<br>\n",
    "\n",
    "The CPython interpreter takes care of translating your code into Python bytecode. The bytecode is then executed by the interpreter in a virtual machine that converts bytecode to machine code, which we'll cover more in a bit. Here's a diagram:\n",
    "\n",
    "![cpython-interpret-diagram](https://s3.amazonaws.com/dq-content/168/bytecode.svg)\n",
    "\n",
    "Translating to bytecode first makes it easier for the CPython interpreter to associate each command with the machine code that it needs to run. The components that translate Python code to bytecode and bytecode to machine code are written in a low-level language called **[C](https://en.wikipedia.org/wiki/C)**.\n",
    "\n",
    "There's a small set of potential bytecode operations, and each one is mapped to machine code ahead of time. This makes running programs as fast as possible. We can use the [dis](https://docs.python.org/3/library/dis.html) package to look at the bytecode generated for our programs. The [dis.dis()](https://docs.python.org/3/library/dis.html#dis.dis) function will dissassemble a Python object and turn it into bytecode.<br>\n",
    "\n",
    "Here's what our example function from above would look like in bytecode:\n",
    "\n",
    "```\n",
    "4           0 SETUP_LOOP              30 (to 33)\n",
    "              3 LOAD_GLOBAL              0 (range)\n",
    "              6 LOAD_CONST               1 (5)\n",
    "              9 CALL_FUNCTION            1 (1 positional, 0 keyword pair)\n",
    "             12 GET_ITER\n",
    "        >>   13 FOR_ITER                16 (to 32)\n",
    "             16 STORE_FAST               0 (i)\n",
    "\n",
    "  5          19 LOAD_GLOBAL              1 (print)\n",
    "             22 LOAD_FAST                0 (i)\n",
    "             25 CALL_FUNCTION            1 (1 positional, 0 keyword pair)\n",
    "             28 POP_TOP\n",
    "             29 JUMP_ABSOLUTE           13\n",
    "        >>   32 POP_BLOCK\n",
    "        >>   33 LOAD_CONST               0 (None)\n",
    "             36 RETURN_VALUE\n",
    "```\n",
    "\n",
    "We won't dive into how to read bytecode [here](http://akaptur.com/blog/2013/11/15/introduction-to-the-python-interpreter/), but you can find a good guide here. After the bytecode is generated, the Python interpreter loops through the bytecode, and runs a pre-generated snippet of code that corresponds to each bytecode instruction. You can [read more here](http://www.devshed.com/c/a/python/how-python-runs-programs/), or see the source code that matches the bytecode to [machine code here](https://github.com/python/cpython/blob/51ba5b7d0c194b0c2b1e5d647e70e3538b8dde3e/Python/ceval.c#L1357). It's not usually important to dive deeply into how CPython interprets code. The important things to understand are:<br>\n",
    "* Python enables us to write at a high abstraction layer. This means that our code can be extremely terse, but still achieve a lot. Imagine having to write the raw bytecode above every time you wanted to write a simple loop!\n",
    "* Python builds on a lot of other tools, and sometimes the performance of Python can be impacted by those tools. In this case, CPython does a lot of work for us, and is a huge help, but it also introduces some limitations, like the GIL.\n",
    "\n",
    "Although CPython is widely used becuase it gets updates the fastest, and is the \"official\" interpreter, there are other Python interpreters written in other languages, such as:<br>\n",
    "* [Jython](http://www.jython.org/) -- A Python interpreter that runs in the [JVM](https://en.wikipedia.org/wiki/Java_virtual_machine).\n",
    "* [PyPy](https://pypy.org/) -- a faster Python interpreter.\n",
    "* [IronPython](http://ironpython.net/) -- Python running on the [.NET](https://en.wikipedia.org/wiki/.NET_Framework) framework.\n",
    "\n",
    "Each interpreter has its own tradeoffs, but it's usually best to just go with CPython. Before we move on, let's take a quick look at some bytecode using dis.\n"
   ]
  },
  {
   "cell_type": "code",
   "execution_count": null,
   "metadata": {},
   "outputs": [],
   "source": []
  },
  {
   "cell_type": "markdown",
   "metadata": {},
   "source": [
    "## Clinton Emails\n",
    "\n"
   ]
  },
  {
   "cell_type": "code",
   "execution_count": null,
   "metadata": {},
   "outputs": [],
   "source": []
  },
  {
   "cell_type": "code",
   "execution_count": null,
   "metadata": {},
   "outputs": [],
   "source": []
  },
  {
   "cell_type": "code",
   "execution_count": null,
   "metadata": {},
   "outputs": [],
   "source": []
  },
  {
   "cell_type": "code",
   "execution_count": null,
   "metadata": {},
   "outputs": [],
   "source": []
  },
  {
   "cell_type": "code",
   "execution_count": null,
   "metadata": {},
   "outputs": [],
   "source": []
  },
  {
   "cell_type": "code",
   "execution_count": null,
   "metadata": {},
   "outputs": [],
   "source": []
  },
  {
   "cell_type": "code",
   "execution_count": null,
   "metadata": {},
   "outputs": [],
   "source": []
  },
  {
   "cell_type": "code",
   "execution_count": null,
   "metadata": {},
   "outputs": [],
   "source": []
  },
  {
   "cell_type": "code",
   "execution_count": null,
   "metadata": {},
   "outputs": [],
   "source": []
  }
 ],
 "metadata": {
  "kernelspec": {
   "display_name": "Python 3",
   "language": "python",
   "name": "python3"
  },
  "language_info": {
   "codemirror_mode": {
    "name": "ipython",
    "version": 3
   },
   "file_extension": ".py",
   "mimetype": "text/x-python",
   "name": "python",
   "nbconvert_exporter": "python",
   "pygments_lexer": "ipython3",
   "version": "3.6.2"
  }
 },
 "nbformat": 4,
 "nbformat_minor": 2
}
