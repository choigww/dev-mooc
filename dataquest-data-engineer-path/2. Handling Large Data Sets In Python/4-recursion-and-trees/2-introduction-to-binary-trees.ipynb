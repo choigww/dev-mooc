{
 "cells": [
  {
   "cell_type": "markdown",
   "metadata": {},
   "source": [
    "# Introduction to Binary Trees"
   ]
  },
  {
   "cell_type": "code",
   "execution_count": null,
   "metadata": {
    "collapsed": true
   },
   "outputs": [],
   "source": []
  },
  {
   "cell_type": "markdown",
   "metadata": {},
   "source": [
    "## Introduction\n",
    "\n",
    "In the previous mission we learned about **recursion** and how it **naturally describes a tree data structure**. In this mission we are going to explore a type of tree called a **binary tree**. We start our investigation on trees with binary trees first because they are the easiest to define and are commonly used in practical applications.<br>\n",
    "\n",
    "A multitude of algorithms for compression, fast search, and storage implement a binary tree. There are also special binary trees that perform other functions which we will implement later in the course. For now, its best to learn the definition of a tree.<br>\n",
    "\n",
    "A binary tree is made up of **nodes** which is an abstract data type that contain references to left and right nodes. \n",
    "### Nodes can be `None` or can store other data, like an integer. As long as it contains the left and right reference it is a node.\n",
    "\n",
    "![intro-to-trees](https://dq-content.s3.amazonaws.com/229/intro_to_trees.svg)\n",
    "\n",
    "You can look at a binary tree from the top down and we usually call the topmost node the **root**.\n",
    "\n",
    "![root-nodes](https://dq-content.s3.amazonaws.com/229/root_nodes.svg)\n",
    "\n",
    "From the root, we have the left and right nodes. Remember, nodes can also be `None` and a node that has `None` nodes for both left and right references is called a `leaf`.\n",
    "\n",
    "![leaf-nodes](https://dq-content.s3.amazonaws.com/229/leaf_nodes.svg)\n",
    "\n",
    "Let's define a `BinaryTree` class that we will use to keep track of the nodes.\n",
    "\n",
    "```python\n",
    "class BinaryTree:\n",
    "    def __init__(self, root):\n",
    "        self.root = root\n",
    "```\n",
    "\n",
    "As you can see, we instantiate our `BinaryTree` with a `root` parameter which is the root node. Before we go further, let's take a look at the code for a node.\n",
    "\n",
    "```python\n",
    "class Node:\n",
    "    def __init__(self, value=None):\n",
    "        self.value = value\n",
    "        self.left = None\n",
    "        self.right = None\n",
    "```\n",
    "\n",
    "When we initialize the node, we pass in a value but we don't pass in the left or right nodes. We don't set them initially because when we start to build the tree we will dynamically add them on to the node object.\n",
    "\n",
    "```python\n",
    "root = Node()\n",
    "root.left = Node(value=5)\n",
    "root.right = Node(value=6)\n",
    "```\n",
    "\n",
    "We will be using these two classes for the rest of the mission to build up a functioning binary tree. To begin, we are going to create an `insert` method that will add nodes to the root.\n"
   ]
  },
  {
   "cell_type": "code",
   "execution_count": null,
   "metadata": {
    "collapsed": true
   },
   "outputs": [],
   "source": []
  },
  {
   "cell_type": "markdown",
   "metadata": {},
   "source": [
    "* Add a method to `BinaryTree` named `insert` which takes in a `value` argument.\n",
    "  * Insert should check if the `root` is `None` and, if it is, add a `Node(value=value)` object to it.\n",
    "  * If `root` is not `None` then in terms of priority, add a `Node(value=value)` to `left` first and `right` next.\n",
    "  * If both `left` and `right` are non-empty, `insert` should not add a node.\n",
    "* Instantiate a `BinaryTree` object with `Node(value=1)` and assign it to the variable `tree`.\n",
    "* Call `tree.insert` 3 times with the values 2, 3, 4.\n",
    "* Assign the following values to the corresponding variable:\n",
    "  * `tree.root.value` to `root`.\n",
    "  * `tree.root.left.value` to `left`.\n",
    "  * `tree.root.right.value` to `right`."
   ]
  },
  {
   "cell_type": "code",
   "execution_count": 7,
   "metadata": {
    "collapsed": true
   },
   "outputs": [],
   "source": [
    "class Node:\n",
    "    def __init__(self, value=None):\n",
    "        self.value = value\n",
    "        self.left = None\n",
    "        self.right = None\n",
    "\n",
    "class BinaryTree:\n",
    "    def __init__(self, root=None):\n",
    "        self.root = root\n",
    "    \n",
    "    # Add `insert` method here.\n",
    "    \n",
    "    def insert(self, value):\n",
    "        if self.root is None:\n",
    "            self.root = Node(value=value)\n",
    "        \n",
    "        else:\n",
    "            if self.root.left is None:\n",
    "                self.root.left = Node(value=value)\n",
    "            elif self.root.right is None:\n",
    "                self.root.right = Node(value=value)\n",
    "    "
   ]
  },
  {
   "cell_type": "code",
   "execution_count": 8,
   "metadata": {
    "collapsed": false
   },
   "outputs": [
    {
     "name": "stdout",
     "output_type": "stream",
     "text": [
      "1 2 3\n"
     ]
    }
   ],
   "source": [
    "tree = BinaryTree(Node(value=1))\n",
    "tree.insert(2)\n",
    "tree.insert(3)\n",
    "tree.insert(4)\n",
    "\n",
    "root = tree.root.value\n",
    "left = tree.root.left.value\n",
    "right = tree.root.right.value\n",
    "print(root, left, right)"
   ]
  },
  {
   "cell_type": "code",
   "execution_count": null,
   "metadata": {
    "collapsed": true
   },
   "outputs": [],
   "source": []
  },
  {
   "cell_type": "markdown",
   "metadata": {},
   "source": [
    "## Multiple Inserts\n",
    "\n",
    "In the previous screen we only allowed two inserts into our tree. If we want to have an actual usable binary tree structure, we will have to enhance our insert method to **append multiple nodes**. But at what leaf do we start appending the nodes, and how?<br>\n",
    "\n",
    "There are many ways into insert our nodes into a tree and the one we will start with is called **level order insert**.<br>\n",
    "\n",
    "Level order insert works the following way:\n",
    "* Given a list of an integers, start at the first element and make it the root node.\n",
    "* Continue down the list adding the following 2 nodes at the second level, then the next 4 as the third level, etc. The pattern here is that at level `h`, you will have $2^{h−1}$ nodes.\n",
    "\n",
    "![level-order-list](https://dq-content.s3.amazonaws.com/229/level_order_list.svg)\n",
    "\n",
    "Looking back at the diagram, there is another pattern exposed that we can take advantage of. Let's follow the left hand branch down. It seems that every left side node is `2 * index of referrer + 1`.<br>\n",
    "\n",
    "Now that we know the ordering of the nodes on insert, and some patterns, how do we actually implement the insert? From the previous mission we learned that recursion can describe the structure of a binary tree. That might be a good way to start."
   ]
  },
  {
   "cell_type": "code",
   "execution_count": null,
   "metadata": {
    "collapsed": true
   },
   "outputs": [],
   "source": []
  },
  {
   "cell_type": "markdown",
   "metadata": {},
   "source": [
    "* Reimplement `insert` using level order insert on a list of integers.\n",
    "  * `values` should be a positional argument and `index=0` should be a keyword argument.\n",
    "  * Set the root node to `self.root` with the first element in `values`.\n",
    "  * Recursively call `insert` for both right and left references by calling `self.insert(values, index=...)`.\n",
    "* Instantiate `BinaryTree` with the `level_order` list set it to the variable `tree`.\n",
    "* Assign the following properties to their corresponding variable:\n",
    "  * `tree.root.value` to the `variable root`.\n",
    "  * `tree.root.left.right.left.value` to the variable `child``."
   ]
  },
  {
   "cell_type": "code",
   "execution_count": null,
   "metadata": {
    "collapsed": true
   },
   "outputs": [],
   "source": [
    "level_order = [1, 2, 3, 4, 5, 6, 7, 8, 9, 10]\n",
    "\n",
    "class Node:\n",
    "    def __init__(self, value=None):\n",
    "        self.value = value\n",
    "        self.left = None\n",
    "        self.right = None\n",
    "\n",
    "    def __repr__(self):\n",
    "        # Helpful method to keep track of Node values.\n",
    "        return \"<Node: {}>\".format(self.value)    \n",
    "\n",
    "class BinaryTree:\n",
    "    def __init__(self, values=None):\n",
    "        self.root = None\n",
    "        if values:\n",
    "            self.insert(values)\n",
    "    \n",
    "    # Implement your `insert` method here."
   ]
  },
  {
   "cell_type": "code",
   "execution_count": null,
   "metadata": {
    "collapsed": true
   },
   "outputs": [],
   "source": []
  },
  {
   "cell_type": "code",
   "execution_count": null,
   "metadata": {
    "collapsed": true
   },
   "outputs": [],
   "source": []
  },
  {
   "cell_type": "code",
   "execution_count": null,
   "metadata": {
    "collapsed": true
   },
   "outputs": [],
   "source": []
  },
  {
   "cell_type": "code",
   "execution_count": null,
   "metadata": {
    "collapsed": true
   },
   "outputs": [],
   "source": []
  },
  {
   "cell_type": "code",
   "execution_count": null,
   "metadata": {
    "collapsed": true
   },
   "outputs": [],
   "source": []
  },
  {
   "cell_type": "code",
   "execution_count": null,
   "metadata": {
    "collapsed": true
   },
   "outputs": [],
   "source": []
  },
  {
   "cell_type": "code",
   "execution_count": null,
   "metadata": {
    "collapsed": true
   },
   "outputs": [],
   "source": []
  },
  {
   "cell_type": "code",
   "execution_count": null,
   "metadata": {
    "collapsed": true
   },
   "outputs": [],
   "source": []
  },
  {
   "cell_type": "code",
   "execution_count": null,
   "metadata": {
    "collapsed": true
   },
   "outputs": [],
   "source": []
  },
  {
   "cell_type": "code",
   "execution_count": null,
   "metadata": {
    "collapsed": true
   },
   "outputs": [],
   "source": []
  },
  {
   "cell_type": "code",
   "execution_count": null,
   "metadata": {
    "collapsed": true
   },
   "outputs": [],
   "source": []
  }
 ],
 "metadata": {
  "kernelspec": {
   "display_name": "Python [default]",
   "language": "python",
   "name": "python3"
  },
  "language_info": {
   "codemirror_mode": {
    "name": "ipython",
    "version": 3
   },
   "file_extension": ".py",
   "mimetype": "text/x-python",
   "name": "python",
   "nbconvert_exporter": "python",
   "pygments_lexer": "ipython3",
   "version": "3.5.4"
  }
 },
 "nbformat": 4,
 "nbformat_minor": 2
}
