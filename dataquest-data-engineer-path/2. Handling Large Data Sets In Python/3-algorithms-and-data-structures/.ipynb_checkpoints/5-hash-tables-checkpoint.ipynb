{
 "cells": [
  {
   "cell_type": "markdown",
   "metadata": {},
   "source": [
    "# Hash Tables"
   ]
  },
  {
   "cell_type": "code",
   "execution_count": null,
   "metadata": {},
   "outputs": [],
   "source": []
  },
  {
   "cell_type": "markdown",
   "metadata": {},
   "source": [
    "## Hash Tables\n",
    "\n",
    "In the past few missions, we learned about arrays and how to sort and search them. We found that we could search for a value in an unsorted array in `O(n)` time using a linear search. But, there are many times when we want faster search performance than the `O(n)` time of a linear search, or even the `O(log n)` time of a binary search. For example, let's say we're working with the movie quotes dataset from the last course, which consists of quotes from the scripts of `1068` movies that constitute `894014` lines altogether, and take up `56` megabytes of disk space.<br>\n",
    "\n",
    "Let's say we want a way to quickly find all of the quotes associated with a single movie. We could do this by storing all of the quotes in an array, and then using linear or binary search to look for the title of the movie. The data structure would look like this:\n",
    "\n",
    "```python\n",
    "[\n",
    "    [\"theprincessbride\", \"Hello. My name is Inigo Montoya, you killed my father, prepare to die....\"],\n",
    "    [\"xmen\", \"Man, what's the matter with you?...\"],\n",
    "    [\"youvegotmail\", \"Good morning...\"],\n",
    "    [\"watchmen\", \"A \\\"Have A Nice Day\\\" HAPPY FACE PIN. STEAM rises past the pin. We hear a...\"],\n",
    "    ...\n",
    "]\n",
    "```\n",
    "\n",
    "We'd first sort the outer list, and then do a binary search across the first elements of each inner list to find the title of a movie (for example, `xmen`). We'd then be able to extract the quotes from the second element of the matching inner list. \n",
    "\n",
    "### But, what if we wanted to search for the names of a movies `1000` times? Or `10000` times? In these cases, even a binary search would start to take a lot of time.\n",
    "\n",
    "In cases like this we can use a hash table, which you know better in its implementation as a Python `dict`. A hash table allows us to store data with a key that is associated with a value. This allows us to look up a value using a key in `O(1)` time. Here's how our data structure would look converted to a `dict`:\n",
    "\n",
    "```python\n",
    "{\n",
    "    \"theprincessbride\": \"Hello. My name is Inigo Montoya, you killed my father, prepare to die....\",\n",
    "    \"xmen\":\"Man, what's the matter with you?...\",\n",
    "    \"youvegotmail\": \"Good morning...\",\n",
    "    \"watchmen\": \"A \\\"Have A Nice Day\\\" HAPPY FACE PIN. STEAM rises past the pin. We hear a...\",\n",
    "    ...\n",
    "}\n",
    "{\n",
    "    \"theprincessbride\": \"Hello. My name is Inigo Montoya, you killed my father, prepare to die....\",\n",
    "    \"xmen\":\"Man, what's the matter with you?...\",\n",
    "    \"youvegotmail\": \"Good morning...\",\n",
    "    \"watchmen\": \"A \\\"Have A Nice Day\\\" HAPPY FACE PIN. STEAM rises past the pin. We hear a...\",\n",
    "    ...\n",
    "}\n",
    "```\n",
    "\n",
    "We can access the quotes of a single movie using just a key, like `xmen`. Because of how a hash table stores and retrieves data, this lookup takes `O(1)` time.<br>\n",
    "\n",
    "In this mission, we'll implement our own hash table, and use it to store and look up data. There is a Python implementation of a hash table in the `dict` class, but creating your own will help you understand the performance tradeoffs. **Additionally, you'll need to implement your own hash table in cases where you want additional performance, or where you're working across multiple machines. In cases like this, several machines may be processing data, and storing it to centralized hash table. This requires custom logic not available in a default Python dictionary. Custom hash tables are also useful when you're tuning for different performance characteristics than the Python implementation**.<br>\n",
    "\n",
    "Before we dive into how to implement a hash table, let's load in and explore our dataset. As we mentioned earlier, we have lines from `1068` movies. The lines are either [IMDB](https://www.imdb.com/) memorable quotes, or lines surrounding memorable quotes. The number of lines we have for each movie doesn't necessarily correspond to the length of the movie. The dataset originally came from [Cornell](https://www.cs.cornell.edu/~cristian/Cornell_Movie-Dialogs_Corpus.html), but has been modified to be easier to work with.<br>\n",
    "\n",
    "The dataset consists of `1068` different text files, one for each movie. All of the files are stored in the folder `lines`. Each text file contains all of the lines we have for the movie, separated by a newline character (`\\n`). Here's an example for [The Princess Bride](http://www.imdb.com/title/tt0093779/), which is an excerpt from `theprincessbride.txt`:\n",
    "\n",
    "```python\n",
    "Hello. My name is Inigo Montoya, you killed my father, prepare to die.\n",
    "Hello. My name is Inigo Montoya. You killed my father. Prepare to die.\n",
    "Stop saying that!\n",
    "```\n",
    "\n"
   ]
  },
  {
   "cell_type": "code",
   "execution_count": null,
   "metadata": {},
   "outputs": [],
   "source": []
  },
  {
   "cell_type": "markdown",
   "metadata": {},
   "source": [
    "* Loop over each file in the `lines` directory, and for each file:\n",
    "  * Read the data in the file into a string variable.\n",
    "  * Assign the data in the file to a dictionary key in `quotes`.\n",
    "    * The key should be the name of the file without the `.txt` suffix.\n",
    "* When you're done, each key should be the name of a movie, and each value should be the IMDB memorable quotes from that movie."
   ]
  },
  {
   "cell_type": "code",
   "execution_count": 9,
   "metadata": {},
   "outputs": [],
   "source": [
    "import os"
   ]
  },
  {
   "cell_type": "code",
   "execution_count": 85,
   "metadata": {
    "scrolled": false
   },
   "outputs": [
    {
     "data": {
      "text/plain": [
       "['xmen.txt',\n",
       " 'spiderman.txt',\n",
       " 'theroadwarrior.txt',\n",
       " 'tremors.txt',\n",
       " '10thingsihateaboutyou.txt',\n",
       " 'theprincessbride.txt',\n",
       " 'xmenoriginswolverine.txt',\n",
       " 'vanilasky.txt']"
      ]
     },
     "execution_count": 85,
     "metadata": {},
     "output_type": "execute_result"
    }
   ],
   "source": [
    "os.listdir('../data/lines/')"
   ]
  },
  {
   "cell_type": "code",
   "execution_count": 86,
   "metadata": {},
   "outputs": [],
   "source": [
    "quotes = {}\n",
    "\n",
    "for filename in os.listdir('../data/lines'):\n",
    "    \n",
    "    with open('../data/lines/'+filename) as f:\n",
    "        \n",
    "        quotes[filename[:-4]] = f.read()"
   ]
  },
  {
   "cell_type": "code",
   "execution_count": 88,
   "metadata": {},
   "outputs": [
    {
     "data": {
      "text/plain": [
       "['xmen',\n",
       " 'spiderman',\n",
       " 'theroadwarrior',\n",
       " 'tremors',\n",
       " '10thingsihateaboutyou',\n",
       " 'theprincessbride',\n",
       " 'xmenoriginswolverine',\n",
       " 'vanilasky']"
      ]
     },
     "execution_count": 88,
     "metadata": {},
     "output_type": "execute_result"
    }
   ],
   "source": [
    "list(quotes)"
   ]
  },
  {
   "cell_type": "code",
   "execution_count": null,
   "metadata": {},
   "outputs": [],
   "source": []
  },
  {
   "cell_type": "markdown",
   "metadata": {},
   "source": [
    "## Hash Functions\n",
    "\n",
    "You may be surprised to learn that hash tables store their data in arrays. Think of an array as the base onto which more complicated data structures can be built. Here's how a hash table that was just initialized might look:\n",
    "\n",
    "![hash-table-init](https://s3.amazonaws.com/dq-content/176/hash_table_init.svg)\n",
    "\n",
    "As you can see above, this hash table has 6 positions in which to store data, and since it was just initialized, they all hold the value `None`. In order to assign values to a position in the array, we have to figure out how to map between keys like `xmen` and positions in the array, like `1`:\n",
    "\n",
    "![hash-table-array](https://s3.amazonaws.com/dq-content/176/hash_table_array.svg)\n",
    "\n",
    "In the above diagram, we want to store some data associated with the key `xmen`. We pass `xmen` into a function (represented as `????` in the diagram), which returns `1`, the position in the array where we should store the value. The function that maps from `xmen` to the position 1 is known as a hash function. A hash function will always return the same output with the same input. So every time we pass in `xmen`, we get the position `1`. This allows us to store data in a position using a key, then retrieve it using the same key.<br>\n",
    "\n",
    "Here's how storing and retrieving data would look in the console:\n",
    "\n",
    "```python\n",
    ">> hash_table = [None, None, None, None, None, None]\n",
    ">> position = hash(\"xmen\")\n",
    ">> position\n",
    "1\n",
    ">> hash_table[position] = \"Man, what's...\"\n",
    ">> hash_table\n",
    "[None, \"Man, what's...\", None, None, None, None]\n",
    ">> lookup_position = hash(\"xmen\")\n",
    ">> lookup_position\n",
    "1\n",
    ">> hash_table[lookup_position]\n",
    "\"Man, what's...\"\n",
    "```\n",
    "\n",
    "As you can see, we always get the position in the array to insert or lookup a value when we pass a key into the hash function. We can create a simple hash function by using the built-in [ord()](https://docs.python.org/3/library/functions.html#ord) function. The `ord()` function returns an integer character code corresponding to a unicode character. If you don't recall how unicode works, you can read more about it [here](https://docs.python.org/3/howto/unicode.html). Each character has a unique integer code:\n",
    "\n",
    "```python\n",
    ">> ord(\"a\")\n",
    "97\n",
    ">> ord(\"(\")\n",
    "40\n",
    "```\n",
    "\n",
    "This allows us to quickly convert single characters to integers. To simplify the hashing process, we'll only take into account the first character of a potential dictionary key. This will cause issues when storing multiple keys with the same first letter, but we'll cover how we'll solve this problem later in the mission."
   ]
  },
  {
   "cell_type": "code",
   "execution_count": null,
   "metadata": {},
   "outputs": [],
   "source": []
  },
  {
   "cell_type": "markdown",
   "metadata": {},
   "source": [
    "* Fill out the body of the `simple_hash` function:\n",
    "  * Convert the input to a string (this allows us to also use integer and float keys)\n",
    "  * Extract the first character of the string.\n",
    "  * Use the `ord()` function to get the character code of the first character.\n",
    "  * Return the character code.\n",
    "* Assign the result of calling `simple_hash` on the string `xmen` to `xmen_hash`.\n",
    "* Assign the result of calling `simple_hash` on the string `10thingsihateaboutyou` to `things_hash`."
   ]
  },
  {
   "cell_type": "code",
   "execution_count": 14,
   "metadata": {},
   "outputs": [],
   "source": [
    "def simple_hash(key):\n",
    "    return ord(str(key)[0])"
   ]
  },
  {
   "cell_type": "code",
   "execution_count": 15,
   "metadata": {},
   "outputs": [],
   "source": [
    "xmen_hash = simple_hash('xmen')\n",
    "things_hash = simple_hash('10thingsihateaboutyou')"
   ]
  },
  {
   "cell_type": "code",
   "execution_count": 16,
   "metadata": {},
   "outputs": [
    {
     "data": {
      "text/plain": [
       "120"
      ]
     },
     "execution_count": 16,
     "metadata": {},
     "output_type": "execute_result"
    }
   ],
   "source": [
    "xmen_hash"
   ]
  },
  {
   "cell_type": "code",
   "execution_count": 17,
   "metadata": {},
   "outputs": [
    {
     "data": {
      "text/plain": [
       "49"
      ]
     },
     "execution_count": 17,
     "metadata": {},
     "output_type": "execute_result"
    }
   ],
   "source": [
    "things_hash"
   ]
  },
  {
   "cell_type": "code",
   "execution_count": null,
   "metadata": {},
   "outputs": [],
   "source": []
  },
  {
   "cell_type": "markdown",
   "metadata": {},
   "source": [
    "## Fitting Values Into An Array\n",
    "\n",
    "One complication with creating a hash table is assigning a fixed size to the array that stores the data. For example, let's say we use the hash function we created in the last screen, `simple_hash`, to hash `Z`:\n",
    "\n",
    "```python\n",
    ">> def simple_hash(key):\n",
    "..    key = str(key)\n",
    "..    return ord(key[0])\n",
    "..\n",
    ">> simple_hash('Z')\n",
    "90\n",
    "```\n",
    "\n",
    "We get `90` as a result, which means we have to store the value associated with the key `Z` at index `90` in an array. But what if we only initialized the array to have `10` elements?<br>\n",
    "\n",
    "In cases like this, we need to apply a modulo operator. A modulo is a mathematical operator that finds the remainder after a number is divided by another. A modulo tries to fit one number into another as many times as possible, then takes the remainder:\n",
    "\n",
    "![modulo-remainder](https://s3.amazonaws.com/dq-content/176/modulo_remainder.svg{)\n",
    "\n",
    "In the above example, `2 * 2` is `4`, but `2 * 3` is `6`, which is greater than `5`. So we can only fit `2` into `5` twice, and we have a remainder of `1`. We can perform a modulo in Python using `%`. For example:\n",
    "\n",
    "```python\n",
    ">> 11 % 10\n",
    "1\n",
    ">> 10 % 10\n",
    "0\n",
    ">> 12 % 11\n",
    "1\n",
    ">> 23 % 2\n",
    "1\n",
    "```\n",
    "\n",
    "Let's walk through an example of what the modulo operator does. Let's say we want to find `184` modulo `3`. Here's what we'd do:\n",
    "* Set `dividend` to `184`.\n",
    "* Set `divisor` to `3`.\n",
    "* Set `total` to `0`.\n",
    "* While `total` is less than `dividend - divisor`:\n",
    "  * Add `divisor` to total.\n",
    "* The `remainder` is `dividend - total`.\n",
    "\n",
    "The above algorithm will end with `total` equal to `183`, and the `remainder` will be `1`.<br>\n",
    "\n",
    "A modulo operator has the effect of ensuring that the returned value can never be greater than the divisor. In the above example, no number modulo `3` can ever have a remainder greater than `2`. Using a modulo operator on the value returned by our hash function ensures that the index returned is never larger than the size of our array. We simply use the size of our array as the divisor when we use the modulo operator."
   ]
  },
  {
   "cell_type": "code",
   "execution_count": null,
   "metadata": {},
   "outputs": [],
   "source": []
  },
  {
   "cell_type": "markdown",
   "metadata": {},
   "source": [
    "* Add to the body of the `simple_hash` function:\n",
    "  * Prior to returning the character code, apply the modulo operator with the divisor `20`.\n",
    "* Assign the result of calling `simple_hash` on the string `xmen` to `xmen_hash`.\n",
    "* Assign the result of calling `simple_hash` on the string `10thingsihateaboutyou` to `things_hash`."
   ]
  },
  {
   "cell_type": "code",
   "execution_count": null,
   "metadata": {},
   "outputs": [],
   "source": [
    "def simple_hash(key):\n",
    "    return ord(str(key)[0])%20\n",
    "\n",
    "xmen_hash = simple_hash('xmen')\n",
    "things_hash = simple_hash('10thingsihateaboutyou')"
   ]
  },
  {
   "cell_type": "code",
   "execution_count": null,
   "metadata": {},
   "outputs": [],
   "source": []
  },
  {
   "cell_type": "markdown",
   "metadata": {},
   "source": [
    "## Creating A Hash Table\n",
    "\n",
    "Now that we've created a simple hash function, we have all the pieces we need to create a `HashTable` class. The class will allow for setting and getting values from an instance. You may recall from a previous mission that we overrode the [object.__getitem__()](https://docs.python.org/3/reference/datamodel.html#object.__getitem__) and [object.__setitem__()](https://docs.python.org/3/reference/datamodel.html#object.__setitem__) methods to get this functionality for an Array class:\n",
    "\n",
    "```python\n",
    "class Array():\n",
    "    def __init__(self, size):\n",
    "        self.array = np.zeros(size, dtype=np.float64)\n",
    "        self.size = size\n",
    "\n",
    "    def __getitem__(self, key):\n",
    "        return self.array[key]\n",
    "\n",
    "    def __setitem__(self, key, value):\n",
    "        self.array[key] = value\n",
    "```\n",
    "\n",
    "Our `HashTable` class will be slighly more complex, since we need to hash the `key` prior to storing the value in our array, or looking up the value.<br>\n",
    "\n",
    "In the `__getitem__` method, we'll need to:\n",
    "* Hash the key\n",
    "* Return the value in our array corresponding to the hashed position\n",
    "\n",
    "In the `__setitem__` method, we'll need to:\n",
    "* Hash the key\n",
    "* Set the value at the hashed position equal to the value passed in\n",
    "\n",
    "We'll also need to use the [numpy.object](https://docs.scipy.org/doc/numpy/reference/arrays.dtypes.html) datatype when initializing our array, which will allow us to store any kind of Python objects in the NumPy array that we create, including strings.\n"
   ]
  },
  {
   "cell_type": "code",
   "execution_count": null,
   "metadata": {},
   "outputs": [],
   "source": []
  },
  {
   "cell_type": "markdown",
   "metadata": {},
   "source": [
    "* Fill out the methods in the `HashTable` class.\n",
    "  * `__init__` should create an array using numpy, as with our `Array` class.\n",
    "    * Use the `dtype np.object` when initializing the array, so we can store Python objects like strings.\n",
    "  * `__getitem__` should return a value from the array when a key is passed in.\n",
    "  * `__setitem__` should store a value in the array based on the key.\n",
    "* Initialize an instance of `HashTable` called `hash_table` with an array of size `20`.\n",
    "* Set the key `xmen` in `hash_table` equal to the contents of `lines/xmen.txt`."
   ]
  },
  {
   "cell_type": "code",
   "execution_count": 22,
   "metadata": {},
   "outputs": [],
   "source": [
    "import numpy as np\n",
    "\n",
    "def simple_hash(key):\n",
    "    return ord(str(key)[0])%20\n",
    "\n",
    "class HashTable():\n",
    "    \n",
    "    def __init__(self, size):\n",
    "        self.array = np.zeros(size, \n",
    "                              dtype = np.object)\n",
    "    \n",
    "    def __getitem__(self, key):\n",
    "        idx = simple_hash(key)\n",
    "        return self.array[idx]\n",
    "    \n",
    "    def __setitem__(self, key, value):\n",
    "        idx = simple_hash(key)\n",
    "        self.array[idx] = value\n",
    "        "
   ]
  },
  {
   "cell_type": "code",
   "execution_count": 23,
   "metadata": {},
   "outputs": [],
   "source": [
    "hash_table = HashTable(20)\n",
    "hash_table['xmen'] = quotes['xmen']"
   ]
  },
  {
   "cell_type": "code",
   "execution_count": null,
   "metadata": {},
   "outputs": [],
   "source": []
  },
  {
   "cell_type": "markdown",
   "metadata": {},
   "source": [
    "## Hash Collisions\n",
    "\n",
    "You may have noticed in the past few screens that our simple hash function returns the same index for many values. For example:\n",
    "\n",
    "```python\n",
    ">> simple_hash(\"xmen\")\n",
    "0\n",
    ">> simple_hash(\"xray\")\n",
    "0\n",
    "```\n",
    "\n",
    "When the same hash results from two different values, it's known as a hash collision. Our hash collisions happen for 2 reasons:\n",
    "* We only have `20` positions in our array, so we used the modulo operator to compress the range of our array positions\n",
    "* We're only hashing based off of the first character in each string, so if the first character is the same, the strings are treated the same.\n",
    "\n",
    "The first problem is the bigger one. For example, when we try to store values associated with `5` keys into `3` array positions, here's what happens:\n",
    "\n",
    "![hash-table-compress](https://s3.amazonaws.com/dq-content/176/hash_table_compress.svg)\n",
    "\n",
    "As you can see, if we have more hash table keys than positions, some keys point to the same array position. Because a key can be any string, we can effectively have infinite keys. We can't allocate an infinitely long array, so we need to find a way to manage hash collisions. If we don't, we can get unexpected results like this:\n",
    "\n",
    "```python\n",
    ">> hash_table[\"xmen\"] = \"Wolverine\"\n",
    ">> hash_table[\"xray\"] = \"Superman\"\n",
    ">> hash_table[\"xmen\"]\n",
    "Superman\n",
    ">> hash_table[\"xray\"]\n",
    "Superman\n",
    "```\n",
    "\n",
    "As you can see above, unless we deal with hash collisions, they result in older keys being overwritten by newer ones that hash to the same array position.<br>\n",
    "\n",
    "In order to manage collisions, we need to deal with both how we store values, and how we retrieve values. We'll deal with storage first.<br>\n",
    "\n",
    "One way to avoid collisions is to store a list of values at each array position, like this:\n",
    "\n",
    "![hash-table-list](https://s3.amazonaws.com/dq-content/176/hash_table_list.svg)\n",
    "\n",
    "This allows each position in the array to store multiple values, so we aren't overwriting previous values with the new ones."
   ]
  },
  {
   "cell_type": "code",
   "execution_count": null,
   "metadata": {},
   "outputs": [],
   "source": []
  },
  {
   "cell_type": "markdown",
   "metadata": {},
   "source": [
    "* Modify the `__setitem__` method of the `HashTable` class.\n",
    "  * Hash `key` using `simple_hash` and get a `position`.\n",
    "  * If the value in the array at `position` isn't a list, initialize it to an empty list.\n",
    "  * Append `value` to the list.\n",
    "* Initialize an instance of `HashTable` called `hash_table` with an array of size `20`.\n",
    "* Set the key `xmen` in `hash_table` equal to the contents of `lines/xmen.txt`.\n",
    "* Set the key `xmenoriginswolverine` in `hash_table` equal to the contents of `lines/xmenoriginswolverine.txt`."
   ]
  },
  {
   "cell_type": "code",
   "execution_count": null,
   "metadata": {},
   "outputs": [],
   "source": []
  },
  {
   "cell_type": "code",
   "execution_count": 28,
   "metadata": {},
   "outputs": [],
   "source": [
    "import numpy as np\n",
    "\n",
    "def simple_hash(key):\n",
    "    return ord(str(key)[0])%20\n",
    "\n",
    "class HashTable():\n",
    "    \n",
    "    def __init__(self, size):\n",
    "        self.array = np.zeros(size, \n",
    "                              dtype = np.object)\n",
    "    \n",
    "    def __getitem__(self, key):\n",
    "        idx = simple_hash(key)\n",
    "        return self.array[idx]\n",
    "    \n",
    "    def __setitem__(self, key, value):\n",
    "        position = simple_hash(key)\n",
    "        if type(self.array[position]) != list:\n",
    "            self.array[position] = []\n",
    "        self.array[position].append(value)\n",
    "        "
   ]
  },
  {
   "cell_type": "code",
   "execution_count": 34,
   "metadata": {},
   "outputs": [],
   "source": [
    "hash_table = HashTable(20)\n",
    "hash_table['xmen'] = quotes['xmen']\n",
    "hash_table['xmenoriginswolverine'] = quotes['xmenoriginswolverine']"
   ]
  },
  {
   "cell_type": "code",
   "execution_count": 35,
   "metadata": {},
   "outputs": [
    {
     "data": {
      "text/plain": [
       "list"
      ]
     },
     "execution_count": 35,
     "metadata": {},
     "output_type": "execute_result"
    }
   ],
   "source": [
    "type(hash_table['xmen'])"
   ]
  },
  {
   "cell_type": "code",
   "execution_count": 36,
   "metadata": {},
   "outputs": [
    {
     "data": {
      "text/plain": [
       "list"
      ]
     },
     "execution_count": 36,
     "metadata": {},
     "output_type": "execute_result"
    }
   ],
   "source": [
    "type(hash_table['xmenoriginswolverine'])"
   ]
  },
  {
   "cell_type": "code",
   "execution_count": null,
   "metadata": {},
   "outputs": [],
   "source": []
  },
  {
   "cell_type": "markdown",
   "metadata": {},
   "source": [
    "## Retrieving Values From Hash Tables\n",
    "\n",
    "You may have noticed in the past screen that we don't have an easy way to look up the values after we insert them into the array. The order that a value will take in an inner list depends on when it was added. For example:\n",
    "\n",
    "```python\n",
    ">> hash_table = HashTable(20)\n",
    ">> hash_table[\"xmen\"] = \"Wolverine\"\n",
    ">> hash_table[\"xmenoriginswolverine\"] = \"Superman\"\n",
    ">> hash_table[\"xmen\"]\n",
    "[\"Wolverine\", \"Superman\"]\n",
    ">> hash_table = HashTable(20)\n",
    ">> hash_table[\"xmenoriginswolverine\"] = \"Superman\"\n",
    ">> hash_table[\"xmen\"] = \"Wolverine\"\n",
    ">> hash_table[\"xmen\"]\n",
    "[\"Superman\", \"Wolverine\"]\n",
    "```\n",
    "\n",
    "Right now, looking up the value associated with a key returns all the keys in the list at that array position. It's also impossible to tell which value is associated with a particular key. In the above example, you don't know if `Superman` or `Wolverine` are associated with the key `xmen`.<br>\n",
    "\n",
    "In order to fix this, we need to:\n",
    "* In `__setitem__`, store both the key and the value.\n",
    "* In `__getitem__`, iterate through each key value pair at the array position to find the correct value.\n",
    "\n",
    "Here's how this would look when storing values:\n",
    "\n",
    "![hash-table-tuples](https://s3.amazonaws.com/dq-content/176/hash_table_tuples.svg)\n",
    "\n",
    "As you can see, each element in the array becomes a list of tuples. Each tuple contains the key and the value. When we're looking up the value associated with a key, we then:\n",
    "* Hash the key to get the position.\n",
    "* Iterate through each tuple in the list at the array position:\n",
    "  * If the key matches the key passed in, return the value."
   ]
  },
  {
   "cell_type": "code",
   "execution_count": null,
   "metadata": {},
   "outputs": [],
   "source": []
  },
  {
   "cell_type": "markdown",
   "metadata": {},
   "source": [
    "* Modify `__setitem__` to:\n",
    "  * Hash `key` using `simple_hash` and get a `position`.\n",
    "  * If the value in the array at `position` isn't a list, initialize it to an empty list.\n",
    "  * Append a tuple containing the `key` and the `value` to the list.\n",
    "* Modify `__getitem__` to:\n",
    "  * Hash `key` using `simple_hash` and get a `position`.\n",
    "  * Retrieve the list at `position` in the array, and iterate through each tuple in the array:\n",
    "    * If the first element of the tuple matches `key`, return the second element of the tuple.\n",
    "* Initialize an instance of `HashTable` called `hash_table` with an array of size `20`.\n",
    "* Set the key `xmen` in `hash_table` equal to the contents of `lines/xmen.txt`.\n",
    "* Set the key `xmenoriginswolverine` in `hash_table` equal to the contents of `lines/xmenoriginswolverine.txt`."
   ]
  },
  {
   "cell_type": "code",
   "execution_count": null,
   "metadata": {},
   "outputs": [],
   "source": [
    "class HashTable():\n",
    "    \n",
    "    def __init__(self, size):\n",
    "        self.array = np.zeros(size, dtype=np.object)\n",
    "        self.size = size\n",
    "    \n",
    "    def __getitem__(self, key):\n",
    "        ind = simple_hash(key)\n",
    "        for k, v in self.array[ind]:\n",
    "            if k == key:\n",
    "                return v\n",
    "    \n",
    "    def __setitem__(self, key, value):\n",
    "        ind = simple_hash(key)\n",
    "        if not isinstance(self.array[ind], list):\n",
    "            self.array[ind] = []\n",
    "        self.array[ind].append((key, value))"
   ]
  },
  {
   "cell_type": "code",
   "execution_count": 37,
   "metadata": {},
   "outputs": [],
   "source": [
    "hash_table = HashTable(20)\n",
    "hash_table['xmen'] = quotes['xmen']\n",
    "hash_table['xmenoriginswolverine'] = quotes['xmenoriginswolverine']"
   ]
  },
  {
   "cell_type": "code",
   "execution_count": null,
   "metadata": {},
   "outputs": [],
   "source": []
  },
  {
   "cell_type": "markdown",
   "metadata": {},
   "source": [
    "## Overwriting Values\n",
    "\n",
    "You may have noticed that there's a flaw with our hash table when it comes time to assign new values to an existing key. For example:\n",
    "\n",
    "```python\n",
    ">> hash_table = HashTable(20)\n",
    ">> hash_table[\"xmen\"] = \"Wolverine\"\n",
    ">> hash_table[\"xmen\"] = \"Superman\"\n",
    ">> hash_table[\"xmen\"]\n",
    "\"Wolverine\"\n",
    "```\n",
    "\n",
    "We're appending values to the list like this in `__setitem__`:\n",
    "\n",
    "![hash-table-overwrite-1](https://s3.amazonaws.com/dq-content/176/hash_table_overwrite_1.svg)\n",
    "\n",
    "When we then retrieve these values in `__getitem__`, we get the earliest value associated with a key:\n",
    "\n",
    "```python\n",
    "def __getitem__(self, key):\n",
    "    ind = simple_hash(key)\n",
    "    for k,v in self.array[ind]:\n",
    "        if key == k:\n",
    "            return v\n",
    "```\n",
    "        \n",
    "This means that although we append the new value, `Superman`, to the list at an array position in `__setitem__`, we don't retrieve it in `__getitem__`.\n",
    "* Iterate from the back of the list at the array position to the front in `__getitem__`, so we get the latest value associated with a key instead of the earliest.\n",
    "* In `__setitem__`, iterate through the list at the array position, and replace the current value with a new one.\n",
    "\n",
    "The first way above keeps appending new entries to the list, which consumes more memory, and causes slower indexing, since there are potentially more items to iterate through. The second way above makes insertion slower, since you need to perform a linear search, but it also makes indexing faster, and uses less memory. Because of the advantages, and the fact that dictionaries are usually indexed more than they're inserted into, it usually makes more sense to use the second method above."
   ]
  },
  {
   "cell_type": "code",
   "execution_count": null,
   "metadata": {},
   "outputs": [],
   "source": []
  },
  {
   "cell_type": "markdown",
   "metadata": {},
   "source": [
    "* Modify `__setitem__` to:\n",
    "  * Hash `key` using `simple_hash` and get a `position`.\n",
    "  * If the value in the array at `position` isn't a list, initialize it to an empty list.\n",
    "  * Set `replace` to `None`.\n",
    "  * Iterate through each tuple in the list in the array at `position`:\n",
    "    * If the first item in the tuple matches `key`, store the position in `replace`.\n",
    "  * If `replace` is `None`, append a tuple containing the `key` and the `value` to the list.\n",
    "  * If `replace` isn't `None`, replace the tuple at position `replace` in the array with the new `(key,value)` tuple.\n",
    "* Initialize an instance of HashTable called hash_table with an array of size 20.\n",
    "* Set the key xmen in hash_table equal to the contents of lines/xmen.txt.\n",
    "* Set the key xmen in hash_table equal to the contents of lines/xmenoriginswolverine.txt."
   ]
  },
  {
   "cell_type": "code",
   "execution_count": 44,
   "metadata": {},
   "outputs": [],
   "source": [
    "class HashTable():\n",
    "    \n",
    "    def __init__(self, size):\n",
    "        self.array = np.zeros(size, dtype=np.object)\n",
    "        self.size = size\n",
    "    \n",
    "    def __getitem__(self, key):\n",
    "        ind = simple_hash(key)\n",
    "        for k, v in self.array[ind]:\n",
    "            if k == key:\n",
    "                return v\n",
    "    \n",
    "    def __setitem__(self, key, value):\n",
    "        \n",
    "        ind = simple_hash(key)\n",
    "        \n",
    "        if not isinstance(self.array[ind], list):\n",
    "            self.array[ind] = []\n",
    "        \n",
    "        replace = None\n",
    "        \n",
    "        for i, (k, v) in enumerate(self.array[ind]):\n",
    "            if k == key:\n",
    "                replace = i\n",
    "        \n",
    "            if replace is None:\n",
    "                self.array[ind].append((key,value))\n",
    "            else:\n",
    "                self.array[ind][i] = (key, value)\n",
    "                "
   ]
  },
  {
   "cell_type": "code",
   "execution_count": 45,
   "metadata": {},
   "outputs": [],
   "source": [
    "hash_table = HashTable(20)\n",
    "hash_table['xmen'] = quotes['xmen']\n",
    "hash_table['xmen'] = quotes['xmenoriginswolverine']"
   ]
  },
  {
   "cell_type": "code",
   "execution_count": null,
   "metadata": {},
   "outputs": [],
   "source": []
  },
  {
   "cell_type": "markdown",
   "metadata": {},
   "source": [
    "## Profiling Hash Tables\n",
    "\n",
    "As you may have realized, the fact that we're now storing a list at each array position means that we have to iterate through the list to find the element we want. This means the theoretical worst case time complexity is `O(n)`, when all the elements in the hash table are in a single list:\n",
    "\n",
    "![hash-table-scan](https://s3.amazonaws.com/dq-content/176/hash_table_scan.svg)\n",
    "\n",
    "In the above example, the lookup would have to scan through `2` elements to find a match, making the lookup `O(n)`. We can also have two elements in an array, but not have the lookup be `O(n)`:\n",
    "\n",
    "![hash-table-scan-1](https://s3.amazonaws.com/dq-content/176/hash_table_scan_1.svg)\n",
    "\n",
    "As you can see, the worst case time complexity is when all of the hash table keys and values are stored in a single array position. In cases like this, you have to perform a linear search to locate the value. Let's test this principle out by:\n",
    "* Creating a `HashTable` instance with only one available array position.\n",
    "* Using counters to count the number of operations needed to retrieve values."
   ]
  },
  {
   "cell_type": "code",
   "execution_count": null,
   "metadata": {},
   "outputs": [],
   "source": []
  },
  {
   "cell_type": "markdown",
   "metadata": {},
   "source": [
    "* Modify `__getitem__`:\n",
    "  * Create a variable called `counter` at the top.\n",
    "  * Increment `counter` by `1` for each loop iteration.\n",
    "  * Return `counter` instead of `k`.\n",
    "* Create an instance of the `HashTable` class called `hash_table` with array size `1`.\n",
    "* Loop across `data`, and for each tuple:\n",
    "  * Use the first element of the tuple as a key, and insert the second element of the tuple into `hash_table`.\n",
    "* Use the last key in `data` to look up the value in `hash_table`. Assign the result to `counter`.\n",
    "* Inspect counter in the variables inspector. Why do you think it takes on the value it does?\n",
    "* Add values to data, and see what happens to `counter`."
   ]
  },
  {
   "cell_type": "code",
   "execution_count": 59,
   "metadata": {},
   "outputs": [],
   "source": [
    "data = [\n",
    "    (\"xmen\", \"Wolverine\"), \n",
    "    (\"xmenoriginswolverine\", \"Superman\"), \n",
    "    (\"vanillasky\", \"Thor\"), \n",
    "    (\"tremors\", \"Aquaman\")\n",
    "]"
   ]
  },
  {
   "cell_type": "code",
   "execution_count": null,
   "metadata": {},
   "outputs": [],
   "source": [
    "class HashTable():\n",
    "    \n",
    "    def __init__(self, size):\n",
    "        self.array = np.zeros(size, dtype=np.object)\n",
    "        self.size = size\n",
    "    \n",
    "    def __getitem__(self, key):\n",
    "        counter = 0\n",
    "        ind = simple_hash(key)\n",
    "        for k,v in self.array[ind]:\n",
    "            counter += 1\n",
    "            if key == k:\n",
    "                return counter\n",
    "    \n",
    "    def __setitem__(self, key, value):\n",
    "        ind = simple_hash(key)\n",
    "        if not isinstance(self.array[ind], list):\n",
    "            self.array[ind] = []\n",
    "        replace = None\n",
    "        for i,data in enumerate(self.array[ind]):\n",
    "            if data[0] == key:\n",
    "                replace = i\n",
    "        if replace is None:\n",
    "            self.array[ind].append((key,value))\n",
    "        else:\n",
    "            self.array[ind][replace] = (key, value)\n",
    "\n",
    "hash_table = HashTable(1)\n",
    "for k,v in data:\n",
    "    hash_table[k] = v\n",
    "\n",
    "counter = hash_table[k]"
   ]
  },
  {
   "cell_type": "code",
   "execution_count": null,
   "metadata": {},
   "outputs": [],
   "source": []
  },
  {
   "cell_type": "markdown",
   "metadata": {},
   "source": [
    "## Profiling Array Length\n",
    "\n",
    "We can improve the time complexity by increasing the size of the array, and improving our hashing algorithm. If we improve our hashing algorithm, we decrease the chance that two strings map to the same array position. Currently, our hashing algorithm assigns keys to positions based on the first letter, which only allows us to use a few array positions. For example, if all of our potential dictionary keys were strings starting with lowercase letters from `a` to `z`, we'd only be able to utilize `26` array positions, since our keys only hash to `26` possible numbers.<br>\n",
    "\n",
    "Instead, we'll upgrade our hashing algorithm to use the built-in Python [hash()](https://docs.python.org/3/library/functions.html#hash) function, which is used by Python's built-in hash table implementation, [dict](https://docs.python.org/3/tutorial/datastructures.html#dictionaries). This algorithm will allow us to hash based on the entire string, not just the first character, and will allow us to utilize longer arrays. By using longer arrays, we can make hash collisions less likely, which will give us a speed boost when it comes to insertion and lookups, since we don't need to iterate over as many list values."
   ]
  },
  {
   "cell_type": "code",
   "execution_count": null,
   "metadata": {},
   "outputs": [],
   "source": []
  },
  {
   "cell_type": "markdown",
   "metadata": {},
   "source": [
    "* Swap out the `simple_hash` function for the `hash` function.\n",
    "  * Make sure to use a modulo operator to reduce the maximum hash to the array length minus `1`.\n",
    "* Fill in the rest of `profile_table`:\n",
    "  * Insert a line at the beginning that gets the time, and assigns to `start`.\n",
    "  * Insert a line at the end that gets the difference between the current time and start. Assign to `duration`.\n",
    "  * Return `duration`.\n",
    "* Create a list, `times`.\n",
    "* Loop across each `length` in `lengths`:\n",
    "  * Run `profile_table`, and pass in `length`. Append the result to `times`.\n",
    "* Use the [matplotlib.pyplot.plot](http://matplotlib.org/api/pyplot_api.html#matplotlib.pyplot.plot) function to plot `lengths` on the x-axis, and `times` on the y-axis.\n",
    "* What does the line plot tell you?\n",
    "* Try varying the lengths and seeing what happens."
   ]
  },
  {
   "cell_type": "code",
   "execution_count": null,
   "metadata": {},
   "outputs": [],
   "source": []
  },
  {
   "cell_type": "code",
   "execution_count": 89,
   "metadata": {
    "scrolled": true
   },
   "outputs": [
    {
     "data": {
      "image/png": "[encoded data removed]",
      "text/plain": [
       "<matplotlib.figure.Figure at 0x10a7c8dd8>"
      ]
     },
     "metadata": {},
     "output_type": "display_data"
    }
   ],
   "source": [
    "import time\n",
    "import os\n",
    "import matplotlib.pyplot as plt\n",
    "\n",
    "class HashTable():\n",
    "    \n",
    "    def __init__(self, size):\n",
    "        self.array = np.zeros(size, dtype=np.object)\n",
    "        self.size = size\n",
    "    \n",
    "    def __getitem__(self, key):\n",
    "        ind = hash(key) % self.size\n",
    "        for k,v in self.array[ind]:\n",
    "            if key == k:\n",
    "                return v\n",
    "    \n",
    "    def __setitem__(self, key, value):\n",
    "        ind = hash(key) % self.size\n",
    "        if not isinstance(self.array[ind], list):\n",
    "            self.array[ind] = []\n",
    "        replace = None\n",
    "        for i,data in enumerate(self.array[ind]):\n",
    "            if data[0] == key:\n",
    "                replace = i\n",
    "        if replace is None:\n",
    "            self.array[ind].append((key,value))\n",
    "        else:\n",
    "            self.array[ind][replace] = (key, value)\n",
    "\n",
    "def profile_table(size):\n",
    "    start = time.time()\n",
    "    \n",
    "    hash_table = HashTable(size)\n",
    "    directory = \"../data/lines/\"\n",
    "    \n",
    "    for filename in os.listdir(directory):\n",
    "        name = filename.replace(\".txt\", \"\")\n",
    "        hash_table[name] = quotes[name]\n",
    "        \n",
    "    duration = time.time() - start\n",
    "    \n",
    "    return duration\n",
    "\n",
    "lengths = [1,10,20,30,40,50]\n",
    "times = []\n",
    "\n",
    "for length in lengths:\n",
    "    times.append(profile_table(length))\n",
    "    \n",
    "plt.plot(lengths, times)\n",
    "plt.show()"
   ]
  },
  {
   "cell_type": "code",
   "execution_count": null,
   "metadata": {},
   "outputs": [],
   "source": []
  },
  {
   "cell_type": "markdown",
   "metadata": {},
   "source": [
    "## Hash Tables Versus Lists\n",
    "\n",
    "You should have seen a plot like this in the last screen:\n",
    "\n",
    "![profile-table](https://s3.amazonaws.com/dq-content/176/profile_table.png)\n",
    "\n",
    "As you can see, as we increase the array size, the insertion time decreases. This is only true to a point, though. Once every key hashes to a unique array position, then we can't reduce our insertion time anymore. The tradeoff to increasing the array size is that some of the positions will likely be unfilled, which increases our memory usage.\n",
    "\n",
    "The Python `dict` class is implemented slightly differently that our implementation, to optimize for speed, but the same general principles apply:\n",
    "* Insertion is generally `O(1)`, but worst-case can be `O(n)`.\n",
    "* Indexing is generally `O(1)`, but worst-case can be `O(n)`.\n",
    "\n",
    "You can read more about the [Python dictionary implementation here](http://www.laurentluce.com/posts/python-dictionary-implementation/). **Dictionaries are excellent in cases when we want to do quick searches based on keys**. \n",
    "\n",
    "### The tradeoff for this is slightly higher memory usage. \n",
    "\n",
    "**When working across multiple machines, a dictionary is an excellent data structure since hash tables can be combined fairly easily**. It's very commonly used when doing distributed computation, and understanding the memory and lookup time constraints can be very helpful.<br>\n",
    "\n",
    "The next mission will be a guided project where you'll pull together what you've done with data structures to work with stock prices."
   ]
  },
  {
   "cell_type": "code",
   "execution_count": null,
   "metadata": {},
   "outputs": [],
   "source": []
  }
 ],
 "metadata": {
  "kernelspec": {
   "display_name": "Python 3",
   "language": "python",
   "name": "python3"
  },
  "language_info": {
   "codemirror_mode": {
    "name": "ipython",
    "version": 3
   },
   "file_extension": ".py",
   "mimetype": "text/x-python",
   "name": "python",
   "nbconvert_exporter": "python",
   "pygments_lexer": "ipython3",
   "version": "3.6.2"
  }
 },
 "nbformat": 4,
 "nbformat_minor": 2
}
