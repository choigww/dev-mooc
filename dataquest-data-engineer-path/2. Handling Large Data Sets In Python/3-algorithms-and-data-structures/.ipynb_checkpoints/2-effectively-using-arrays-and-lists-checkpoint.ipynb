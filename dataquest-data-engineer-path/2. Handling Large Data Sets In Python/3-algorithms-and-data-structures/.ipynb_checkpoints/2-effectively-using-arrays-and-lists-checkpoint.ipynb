{
 "cells": [
  {
   "cell_type": "markdown",
   "metadata": {},
   "source": [
    "# Effectively Using Arrays and Lists"
   ]
  },
  {
   "cell_type": "code",
   "execution_count": null,
   "metadata": {},
   "outputs": [],
   "source": []
  },
  {
   "cell_type": "markdown",
   "metadata": {},
   "source": [
    "## Arrays and Binary\n",
    "\n",
    "In the last mission, we learned about stacks and queues. To initially construct both data structures, we used a Python list. If you recall, you can simulate a queue by removing elements from the beginning of a Python list, or \"top\" of a queue, and adding new elements to the end of the list, or the \"top\" of the queue:\n",
    "\n",
    "```python\n",
    "queue = [1,2]\n",
    "queue.append(3) # queue is now [1,2,3]\n",
    "queue.pop(0) # queue is now [2,3]\n",
    "```\n",
    "\n",
    "You might be surprised to learn that using a list as a queue is not especially efficient -- in fact, **the [Python docs](https://docs.python.org/3/tutorial/datastructures.html#using-lists-as-queues) recommend against using a list this way**. This is due to how lists are implemented under the hood. In an earlier mission, we discussed how Python is just a language, and you need an [interpreter](https://docs.python.org/3/tutorial/interpreter.html) to actually execute your code. The most popular interpreter is called [CPython](https://en.wikipedia.org/wiki/CPython), and is written in a programming language called C.<br>\n",
    "\n",
    "When you use `CPython`, your Python lists are actually stored as arrays in C. An array in C has a few properties:\n",
    "* It has a fixed size that you specify upfront.\n",
    "* It can only contains elements of a single type.\n",
    "\n",
    "For example, the below line of C code will create an array of `10` integers:\n",
    "\n",
    "```c\n",
    "int array[10];\n",
    "```\n",
    "\n",
    "When you initialize an array in C, **a fixed amount of memory is allocated**, which will hold all of the values you want to add to the array. Specifying that all the elements of an array are of one type enables how much memory is needed to be calculated. In order to figure out how much memory is needed, we'll need to take a quick tour through how values are stored on a computer.<br>\n",
    "\n",
    "You may have heard that computers store values in binary form -- a number system that can only have the values `0` or `1`. Binary is how values are stored and processed on disk, in memory, and in the CPU. Binary contrasts with our more common decimal system, where a number can have the values `0`, `1`, `2`, `3`, `4`, `5`, `6`, `7`, `8`, or `9`. Binary is a convenient way to store data since you only need to store 2 \"positions\". There are numerous places in the architecture of a computer where values can only be conveniently stored as two digits. For example, on a hard disk, if an area is magnetized, it is read as a `1`, and if it is demagnetized, it is read as a `0`.<br>\n",
    "\n",
    "As you can see below, when the magnetization in a small area of a hard drive goes south to north, a `1` is read, whereas if it goes the other way, a `0` is read. There are many other cases in computer architecture where it's very easy to store two states, but hard to store more (in the case of magnetization, there isn't really a way to store a 2 because there's no other direction to magnetize in).\n",
    "\n",
    "![hd-read](https://s3.amazonaws.com/dq-content/173/hd_read.svg)\n",
    "\n",
    "Let's get some intuition around binary. We won't dive into exactly how it works, but knowing some basics will help us better understand memory allocation for arrays. Take one of your pinkie fingers. Put it down -- that's `0`. Now raise it -- that's `1`:\n",
    "\n",
    "![binary-fingers](https://s3.amazonaws.com/dq-content/173/binary_fingers.svg)\n",
    "\n",
    "As you can see, you can represent two different numbers with just your pinkie finger -- `0` and `1`. Now, let's try your ring finger. If your pinkie finger is up, but your ring finger is down, let's say that represents `2`. If both fingers are up, let's call that `3`:\n",
    "\n",
    "![binary-fingers-ring](https://s3.amazonaws.com/dq-content/173/binary_fingers_ring_1.svg)\n",
    "\n",
    "With two fingers using the binary system, we can represent one of 4 different numbers:\n",
    "* `0` -- which maps to `0` in the decimal system we're used to.\n",
    "* `1` -- which maps to `1`\n",
    "* `10` -- which maps to `2`\n",
    "* `11` -- which maps to `3`\n",
    "\n",
    "We can add the middle finger into our exercise to see how that affects things:\n",
    "\n",
    "![binary-fingers-middle](https://s3.amazonaws.com/dq-content/173/binary_fingers_middle_1.svg)\n",
    "\n",
    "As you can see, with three fingers we can store the following new numbers:\n",
    "\n",
    "* `100` - `4`\n",
    "* `101` - `5`\n",
    "* `110` - `6`\n",
    "* `111` - `7`\n",
    "\n",
    "It's not important to fully understand binary, but hopefully you see a pattern emerging between how many fingers we use, and how many different numbers we can store:\n",
    "\n",
    "* `1` finger -- `2` numbers.\n",
    "* `2` fingers -- `4` numbers.\n",
    "* `3` fingers -- `8` numbers.\n",
    "\n",
    "For each finger we add, we multiply the range of numbers we can store by `2`. We can calculate the range of numbers we can store for an arbitrary number of fingers by using `2 ** number of fingers`. So `2 ** 4` equals `16`, which means we can store any number in the range from `0` to `15` with `4` fingers.<br>\n",
    "\n",
    "Now, think of \"fingers\" as \"units of memory or disk\". A single unit of memory can store `2` numbers (since the values are stored in binary), but 8 units of memory can store `2 ** 8` different numbers, or `256`. This means that you could store any number from `0` to `255` if you had `8` units of memory.<br>\n",
    "\n",
    "One unit of memory is called `bit`, and `8` units of memory together are known as a `byte`. You may be familiar with these terms if you've ever shopped for new internet service. Download speeds are often advertised in terms of [kilobits](https://en.wikipedia.org/wiki/Kilobit), [megabits](https://en.wikipedia.org/wiki/Megabit), or [gigabits](https://en.wikipedia.org/wiki/Gigabit) per second.<br>\n",
    "\n",
    "Before we continue our discussion on arrays, let's look at how to convert between binary and decimal using Python. You can convert an integer to binary with the [bin()](https://docs.python.org/3/library/functions.html#bin) function:\n",
    "\n",
    "```python\n",
    "bin(10)\n",
    "# Returns \"0b1010\"\n",
    "```\n",
    "\n",
    "As you can see above, calling `bin()` on an integer will return a string, with the prefix `0b`. If you remove the prefix, you can convert the binary string back into a decimal integer:\n",
    "\n",
    "```python\n",
    "int(\"1010\", 2)\n",
    "```\n",
    "\n",
    "The second number you pass into the [int()](https://docs.python.org/3/library/functions.html#int) function specifies that we're converting from base `2` (binary) to base `10` (decimal)."
   ]
  },
  {
   "cell_type": "code",
   "execution_count": null,
   "metadata": {},
   "outputs": [],
   "source": []
  },
  {
   "cell_type": "markdown",
   "metadata": {},
   "source": [
    "* Convert each number in `numbers` to binary using `bin()`. Assign the result to `binary`.\n",
    "  * Make sure to remove the `0b` prefix from each string.\n",
    "* Convert each item in `binary` back to decimal integers. Assign the result to `new_numbers`.\n",
    "* Verify that `new_numbers` is the same as `numbers`.\n",
    "* Do you see any patterns in `binary`? Think about how the binary system might work."
   ]
  },
  {
   "cell_type": "code",
   "execution_count": 1,
   "metadata": {},
   "outputs": [],
   "source": [
    "numbers = list(range(100))"
   ]
  },
  {
   "cell_type": "code",
   "execution_count": 4,
   "metadata": {},
   "outputs": [
    {
     "name": "stdout",
     "output_type": "stream",
     "text": [
      "['0', '1', '10', '11', '100', '101', '110', '111', '1000', '1001', '1010', '1011', '1100', '1101', '1110', '1111', '10000', '10001', '10010', '10011', '10100', '10101', '10110', '10111', '11000', '11001', '11010', '11011', '11100', '11101', '11110', '11111', '100000', '100001', '100010', '100011', '100100', '100101', '100110', '100111', '101000', '101001', '101010', '101011', '101100', '101101', '101110', '101111', '110000', '110001', '110010', '110011', '110100', '110101', '110110', '110111', '111000', '111001', '111010', '111011', '111100', '111101', '111110', '111111', '1000000', '1000001', '1000010', '1000011', '1000100', '1000101', '1000110', '1000111', '1001000', '1001001', '1001010', '1001011', '1001100', '1001101', '1001110', '1001111', '1010000', '1010001', '1010010', '1010011', '1010100', '1010101', '1010110', '1010111', '1011000', '1011001', '1011010', '1011011', '1011100', '1011101', '1011110', '1011111', '1100000', '1100001', '1100010', '1100011']\n",
      "True\n"
     ]
    }
   ],
   "source": [
    "binary = [bin(n)[2:] for n in numbers]\n",
    "new_numbers = [int(b, 2) for b in binary]\n",
    "\n",
    "print(binary)\n",
    "print(new_numbers == numbers)"
   ]
  },
  {
   "cell_type": "code",
   "execution_count": null,
   "metadata": {},
   "outputs": [],
   "source": []
  },
  {
   "cell_type": "markdown",
   "metadata": {},
   "source": [
    "## Arrays and Lists\n",
    "\n",
    "Now that you understand binary a little bit better, let's move back to discussing how arrays allocate memory. In `C`, a variable can take one of several types. Here are a few:\n",
    "* `char` -- a single character from the [ascii](https://en.wikipedia.org/wiki/ASCII) character set. Represented as a number from `0` to `255`. With `256` (`2 ** 8`) possible values, we can represent a char as a single byte in memory.\n",
    "* `int` -- at least has the range of values from -`32768` to `32767`, which corresponds to `65536` (`2 ** 16`) possible values, which we can store in 2 bytes.\n",
    "* `unsigned short` -- has the range of values from `0` to `65535`, which can be stored in `2` bytes.\n",
    "\n",
    "As you can see, variables in `C` have a fixed minimum and maximum value they can take on. This enables allocating memory beforehand, since we know the number of elements we want, and how much memory each element will need -- we can just multiply the two values to get the amount of memory we need. For example, for an `int` array with `10` elements, we'll need `20` bytes of memory.<br>\n",
    "\n",
    "You may have noticed a discrepancy here -- Python lists are implemented by the interpreter as C arrays, but lists don't have a fixed size, and they can store elements of any type, including Python objects. This is due to two reasons:\n",
    "* The CPython interpreter hides the details of how it stores the values from you. It actually stores list values in an array, but automatically increases the size of the array as you add more elements to the list.\n",
    "* The CPython interpreter creates an array of pointers, which point to objects, not an array of values.\n",
    "\n",
    "**Together, the above principles explain how Python lists -- an extremely flexible data structure -- can be built using the relatively inflexible array**. Let's first explore the idea of growing the size of the array as more elements are added to the list. In order to \"grow\" the size of an array, we need to:\n",
    "* Initialize a new array with a greater size than the old array.\n",
    "* Copy the elements from the old array to the new array.\n",
    "* Replace the old array with the new array.\n",
    "\n",
    "Here's how that might look:\n",
    "\n",
    "![list-copy1](https://s3.amazonaws.com/dq-content/173/list_copy_1.svg)\n",
    "\n",
    "In practice, this would make appending to a list extremely inefficient, since you'd need to copy every element in a list (`O(n)`) every time. Instead, CPython overallocates memory, in order to minimize copying. This means that CPython creates an array that is larger than the number of elements you have. For example, if your list only has 1 element, CPython allocates an array of size `4` so that you can add more elements without being slowed down by copying. There are certain fixed array sizes when CPython will create a new, larger, array, and copy elements over. The first few sizes are `0`, `4`, `8`, `16`, `25`, and `35`. So CPython will only create arrays of size `4`, `8`, etc. Once a Python list grows to `5` elements, they'll be copied over to a new CPython array of size `8`, like this:\n",
    "\n",
    "![list-copy2](https://s3.amazonaws.com/dq-content/173/list_copy_long.svg)\n",
    "\n",
    "Although this overallocation is slightly memory inefficient, it greatly speeds up how quickly you can append to or insert into lists. We can figure out where the allocation points occur by profiling appending to a list over several thousand iterations.\n"
   ]
  },
  {
   "cell_type": "code",
   "execution_count": null,
   "metadata": {},
   "outputs": [],
   "source": []
  },
  {
   "cell_type": "markdown",
   "metadata": {},
   "source": [
    "* Loop from `0` to `iterations`.\n",
    "  * Initialize a list, `l`.\n",
    "  * Loop across `numbers`. The loop variable should be `i`.\n",
    "    * Start a timer.\n",
    "    * Append `i` to `l`.\n",
    "    * End a timer.\n",
    "    * If the key `i` doesn't exist in `times`, assign an empty list to `times[i]`.\n",
    "    * Append the total time taken to the key in `times` with the value `i`.\n",
    "* Create a list `avg_times`.\n",
    "* Loop across `numbers`. Use the loop variable `i`.\n",
    "  * Find the `sum()` of all the values in `items[i]`.\n",
    "  * Append the sum to `avg_times`.\n",
    "* Make a bar plot of `numbers` against `avg_times`.\n",
    "* Do you see any patterns in the bar plot? What do you think they tell you?"
   ]
  },
  {
   "cell_type": "code",
   "execution_count": 5,
   "metadata": {},
   "outputs": [],
   "source": [
    "import time\n",
    "import matplotlib.pyplot as plt\n",
    "\n",
    "times = {}\n",
    "iterations = 1000\n",
    "numbers = list(range(20))"
   ]
  },
  {
   "cell_type": "code",
   "execution_count": 6,
   "metadata": {},
   "outputs": [
    {
     "data": {
      "image/png": "[encoded data removed]",
      "text/plain": [
       "<matplotlib.figure.Figure at 0x111b970f0>"
      ]
     },
     "metadata": {},
     "output_type": "display_data"
    }
   ],
   "source": [
    "for iter_ in range(iterations):\n",
    "    l = []\n",
    "    for i in numbers:\n",
    "        start = time.time()\n",
    "        l.append(i)\n",
    "        end = time.time()\n",
    "        \n",
    "        if i not in times:\n",
    "            times[i] = []\n",
    "        times[i].append(end-start)\n",
    "\n",
    "avg_times = []\n",
    "for i in numbers:\n",
    "    avg_times.append(sum(times[i]))\n",
    "    \n",
    "plt.bar(avg_times, numbers);plt.show()"
   ]
  },
  {
   "cell_type": "code",
   "execution_count": null,
   "metadata": {},
   "outputs": [],
   "source": []
  },
  {
   "cell_type": "markdown",
   "metadata": {},
   "source": [
    "## Array Pointers\n",
    "\n",
    "You should have seen a bar plot similar to this in the last screen:\n",
    "\n",
    "![append-plot](https://s3.amazonaws.com/dq-content/173/append_plot.png)\n",
    "\n",
    "You may notice distinct peaks around `4`, `8`, and `16`. This corresponds to Python growing the `underlying` C array to the next largest size when the size maximum is hit. This operation takes some time, but appending the 5th element isn't much more costly than appending the 6th element. However, recall that copying is an `O(n)` operation. With large datasets growing the list can become a huge time sink, and we'll look into alternative data structures later in this mission that don't have this limitation.<br>\n",
    "\n",
    "We discussed earlier how Python lists can store data of any type, but C arrays are restricted to a single type. Python lists manage to store any kind of data thanks to pointers. A pointer is special kind of variable in C that points to the value of another variable in memory. This allows us to refer to the same value in multiple places without having to copy the value.<br>\n",
    "\n",
    "A good analogy for pointers is the idea of a shared textbook. Let's say I own a textbook, and my friend wants to also read it. I can copy the textbook, and give my friend the copy, but that takes a lot of upfront effort. Instead, I can tell my friend where the book is, and put it in a shared location. This way, my friend can read the textbook whenever they want, but I don't have to put in a lot of effort in beforehand. The downside to this is that any changes my friend makes to the textbook, like highlighting pages, will be reflected to both of us.<br>\n",
    "\n",
    "We can create a pointer for a specific type in C using `*`:\n",
    "\n",
    "```c\n",
    ">> int *ptr;\n",
    "```\n",
    "\n",
    "We can then have the pointer refer to the value in memory of another variable using `&`:\n",
    "```c\n",
    ">>> int x;\n",
    ">>> x = 5;\n",
    ">>> ptr = &x;\n",
    "```\n",
    "\n",
    "When we assign `&x` to `ptr`, we're actually assigning a memory address, like `0x7fca72d03a38` to `ptr`. This tells the system where to find the value that `x` is storing in memory. Using this address, you can access and modify the underlying value. Finally, we can display the value of the variable using the pointer and `*`:\n",
    "\n",
    "```\n",
    ">> printf(\"%i\", *ptr);\n",
    "5\n",
    "```\n",
    "\n",
    "We can also modify the value of the variable through the pointer:\n",
    "\n",
    "```c\n",
    ">> *ptr = 10;\n",
    ">> printf(\"%i\", x);\n",
    "10\n",
    "```\n",
    "\n",
    "Python creates an array of pointers in C. This enables the array to still be of all the same type (pointers), but enables each pointer to point to a different type of variable. The pointer actually stores a memory address, which tells it where in memory the value it points to is.\n",
    "\n",
    "When you're using CPython, you can use the [id()](https://docs.python.org/3/library/functions.html#id) function to see the memory address of any variable. If you wrap this in the [hex()](https://docs.python.org/3/library/functions.html#hex) function, you can convert the address to hexadecimal, which is easier to read:\n",
    "\n",
    "```c\n",
    ">> z = 1\n",
    ">> hex(id(1))\n",
    "0x7fca72d03a38\n",
    "```\n",
    "\n",
    "A memory address refers to a byte or sequence of bytes in memory where values are stored. Think of a computer's memory being divided into addresses. If you have `4096` bytes of memory, each byte will be a separate address, so you'll have `4096` addresses. Addresses are typically shown in hexadecimal, and look like `0x7`. **Because variables in C have fixed sizes, a pointer only stores the starting memory address for a variable, then reads as many bytes as the size of the variable requires**:\n",
    "\n",
    "![memory-pointers](https://s3.amazonaws.com/dq-content/173/memory_pointers.svg)\n",
    "\n",
    "\n"
   ]
  },
  {
   "cell_type": "code",
   "execution_count": null,
   "metadata": {},
   "outputs": [],
   "source": []
  },
  {
   "cell_type": "markdown",
   "metadata": {},
   "source": [
    "* Assign the memory address in hex format of `sentence` to `sentence_hex`.\n",
    "* Assign the memory address in hex format of `sentence2` to `sentence2_hex`.\n",
    "* Find the memory address in hex format for each element in `values`. Assign the result to `values_elements_hex`.\n",
    "* Find the memory address for `values` (the whole list). Assign the result to `values_hex`.\n",
    "* Look at `sentence_hex` and `sentence2_hex`. Do you see anything interesting?\n",
    "* Look at the values in `values_elements_hex`. Is there a pattern?\n",
    "* Look at `values_hex`. Does it match anything in `values_elements_hex`? What does that tell you?"
   ]
  },
  {
   "cell_type": "code",
   "execution_count": 7,
   "metadata": {},
   "outputs": [],
   "source": [
    "sentence = \"I desperately want a 1982 Winnebago.\"\n",
    "sentence2 = sentence\n",
    "\n",
    "values = [1,2,3,4,5]"
   ]
  },
  {
   "cell_type": "code",
   "execution_count": 24,
   "metadata": {},
   "outputs": [],
   "source": [
    "sentence_hex = [hex(id(s)) for s in sentence]\n",
    "sentence2_hex = [hex(id(s2)) for s2 in sentence2]\n",
    "values_elements_hex = [hex(id(v)) for v in values]\n",
    "values_hex = hex(id(values))"
   ]
  },
  {
   "cell_type": "code",
   "execution_count": 15,
   "metadata": {
    "scrolled": false
   },
   "outputs": [
    {
     "name": "stdout",
     "output_type": "stream",
     "text": [
      "0x10e53d110 0x10e53d110 identical? - True\n",
      "0x10e525bc8 0x10e525bc8 identical? - True\n",
      "0x10e47f420 0x10e47f420 identical? - True\n",
      "0x10e46aca8 0x10e46aca8 identical? - True\n",
      "0x10e46ace0 0x10e46ace0 identical? - True\n",
      "0x10e4d6c38 0x10e4d6c38 identical? - True\n",
      "0x10e46aca8 0x10e46aca8 identical? - True\n",
      "0x10e3e5d18 0x10e3e5d18 identical? - True\n",
      "0x10e4d8768 0x10e4d8768 identical? - True\n",
      "0x10e4406f8 0x10e4406f8 identical? - True\n",
      "0x10e46aca8 0x10e46aca8 identical? - True\n",
      "0x10e46adf8 0x10e46adf8 identical? - True\n",
      "0x10e5feb20 0x10e5feb20 identical? - True\n",
      "0x10e525bc8 0x10e525bc8 identical? - True\n",
      "0x10e46ac38 0x10e46ac38 identical? - True\n",
      "0x10e4d8768 0x10e4d8768 identical? - True\n",
      "0x10e47f570 0x10e47f570 identical? - True\n",
      "0x10e4406f8 0x10e4406f8 identical? - True\n",
      "0x10e525bc8 0x10e525bc8 identical? - True\n",
      "0x10e4d8768 0x10e4d8768 identical? - True\n",
      "0x10e525bc8 0x10e525bc8 identical? - True\n",
      "0x10e5fe0a0 0x10e5fe0a0 identical? - True\n",
      "0x10e5feae8 0x10e5feae8 identical? - True\n",
      "0x10e4407a0 0x10e4407a0 identical? - True\n",
      "0x10e5fe110 0x10e5fe110 identical? - True\n",
      "0x10e525bc8 0x10e525bc8 identical? - True\n",
      "0x10e4df490 0x10e4df490 identical? - True\n",
      "0x10e44fa08 0x10e44fa08 identical? - True\n",
      "0x10e47f570 0x10e47f570 identical? - True\n",
      "0x10e47f570 0x10e47f570 identical? - True\n",
      "0x10e46aca8 0x10e46aca8 identical? - True\n",
      "0x10e44f5a8 0x10e44f5a8 identical? - True\n",
      "0x10e4d8768 0x10e4d8768 identical? - True\n",
      "0x10e4df500 0x10e4df500 identical? - True\n",
      "0x10e4df538 0x10e4df538 identical? - True\n",
      "0x10e3c0c00 0x10e3c0c00 identical? - True\n"
     ]
    }
   ],
   "source": [
    "for s, s2 in zip(sentence_hex, sentence2_hex):\n",
    "    print(s, s2, 'identical? - {}'.format(str(s==s2)))\n"
   ]
  },
  {
   "cell_type": "code",
   "execution_count": 21,
   "metadata": {},
   "outputs": [
    {
     "data": {
      "text/plain": [
       "['0x10e2d8d10', '0x10e2d8d30', '0x10e2d8d50', '0x10e2d8d70', '0x10e2d8d90']"
      ]
     },
     "execution_count": 21,
     "metadata": {},
     "output_type": "execute_result"
    }
   ],
   "source": [
    "values_elements_hex"
   ]
  },
  {
   "cell_type": "code",
   "execution_count": 22,
   "metadata": {},
   "outputs": [
    {
     "data": {
      "text/plain": [
       "['10', '30', '50', '70', '90']"
      ]
     },
     "execution_count": 22,
     "metadata": {},
     "output_type": "execute_result"
    }
   ],
   "source": [
    "# last two digit number of memory address - increments by +2\n",
    "[val_hex[-2:] for val_hex in values_elements_hex]"
   ]
  },
  {
   "cell_type": "code",
   "execution_count": 25,
   "metadata": {},
   "outputs": [
    {
     "data": {
      "text/plain": [
       "'0x111cf0788'"
      ]
     },
     "execution_count": 25,
     "metadata": {},
     "output_type": "execute_result"
    }
   ],
   "source": [
    "values_hex"
   ]
  },
  {
   "cell_type": "code",
   "execution_count": null,
   "metadata": {},
   "outputs": [],
   "source": []
  },
  {
   "cell_type": "markdown",
   "metadata": {},
   "source": [
    "## Implementing An Array\n",
    "\n",
    "Now that we understand how arrays and Python lists are related, let's implement an array of our own in Python. The main constraints on this array will be that it will be of fixed size, and that it will only store variables of a single type. We'll be storing [Google](https://www.google.com/) stock prices on successive days, which we'll get from `prices.csv`. This data was downloaded from [Yahoo Finance](https://finance.yahoo.com/) using the code in `download_data.py`. Here are the first few rows of the data:\n",
    "\n",
    "|date|price\n",
    "---|---|---\n",
    "0|2012-01-03|665.411118\n",
    "1|2012-01-04|668.281154\n",
    "2|2012-01-05|659.011109\n",
    "3|2012-01-06|650.021102\n",
    "4|2012-01-09|622.461047\n",
    "\n",
    "We'll create an array that can store stock prices, as well as perform other operations, like removing prices. In order to implement this, we'll use the NumPy array type. The NumPy array type is based on a C array, and behaves very similarly, so it's a better choice for implementing an array class than a Python list, which doesn't behave like a C array. We'll implement our own methods like `append` to better understand how arrays work.<br>\n",
    "\n",
    "To begin with, we can implement the array as a class:\n",
    "\n",
    "```python\n",
    "import numpy as np\n",
    "\n",
    "class Array():\n",
    "    def __init__(self, size):\n",
    "        self.array = np.zeros(size, dtype=np.float64)\n",
    "        self.size = size\n",
    "```\n",
    "\n",
    "We'll take in an integer specifying the size of the array, then create an array that contains all `0` values. The `dtype` indicates that the array will contain float values. We then assign to `self.size` so we can easily track the size of the array.<br>\n",
    "\n",
    "We can next implement methods that allow us to access and change values. We can accomplish this by implementing the [getitem](https://docs.python.org/3/reference/datamodel.html#object.__getitem__) and [setitem](https://docs.python.org/3/reference/datamodel.html#object.__setitem__) methods. These methods allow you to access items in a class using list-style syntax (`list[0] = 0 and print(list[0])`).<br>\n",
    "\n",
    "Here's an example:\n",
    "\n",
    "\n",
    "```python\n",
    "class Array():\n",
    "    def __init__(self, size):\n",
    "        self.array = np.zeros(size, dtype=np.float64)\n",
    "        self.size = size\n",
    "\n",
    "    def __getitem__(self, key):\n",
    "        return self.array[key]\n",
    "```\n",
    "\n",
    "You could then do this:\n",
    "\n",
    "\n",
    "```python\n",
    "arr = Array(10)\n",
    "print(arr[9]) # Displays 0.\n",
    "```"
   ]
  },
  {
   "cell_type": "code",
   "execution_count": null,
   "metadata": {},
   "outputs": [],
   "source": []
  },
  {
   "cell_type": "markdown",
   "metadata": {},
   "source": [
    "* Read in `prices.csv`.\n",
    "* Extend the `Array` class shown so that `__setitem__` is also functional.\n",
    "* Create an instance of the array class called `prices` with `10` elements.\n",
    "* Set the elements of prices to the first `10` prices in prices.csv using `__setitem__`."
   ]
  },
  {
   "cell_type": "code",
   "execution_count": 27,
   "metadata": {},
   "outputs": [],
   "source": [
    "import pandas as pd"
   ]
  },
  {
   "cell_type": "code",
   "execution_count": 30,
   "metadata": {},
   "outputs": [],
   "source": [
    "prices_csv = pd.read_csv('../data/prices.csv')"
   ]
  },
  {
   "cell_type": "code",
   "execution_count": 31,
   "metadata": {},
   "outputs": [
    {
     "data": {
      "text/html": [
       "<div>\n",
       "<style scoped>\n",
       "    .dataframe tbody tr th:only-of-type {\n",
       "        vertical-align: middle;\n",
       "    }\n",
       "\n",
       "    .dataframe tbody tr th {\n",
       "        vertical-align: top;\n",
       "    }\n",
       "\n",
       "    .dataframe thead th {\n",
       "        text-align: right;\n",
       "    }\n",
       "</style>\n",
       "<table border=\"1\" class=\"dataframe\">\n",
       "  <thead>\n",
       "    <tr style=\"text-align: right;\">\n",
       "      <th></th>\n",
       "      <th>date</th>\n",
       "      <th>price</th>\n",
       "    </tr>\n",
       "  </thead>\n",
       "  <tbody>\n",
       "    <tr>\n",
       "      <th>0</th>\n",
       "      <td>2012-01-03</td>\n",
       "      <td>665.411118</td>\n",
       "    </tr>\n",
       "    <tr>\n",
       "      <th>1</th>\n",
       "      <td>2012-01-04</td>\n",
       "      <td>668.281154</td>\n",
       "    </tr>\n",
       "    <tr>\n",
       "      <th>2</th>\n",
       "      <td>2012-01-05</td>\n",
       "      <td>659.011109</td>\n",
       "    </tr>\n",
       "    <tr>\n",
       "      <th>3</th>\n",
       "      <td>2012-01-06</td>\n",
       "      <td>650.021102</td>\n",
       "    </tr>\n",
       "    <tr>\n",
       "      <th>4</th>\n",
       "      <td>2012-01-09</td>\n",
       "      <td>622.461047</td>\n",
       "    </tr>\n",
       "  </tbody>\n",
       "</table>\n",
       "</div>"
      ],
      "text/plain": [
       "         date       price\n",
       "0  2012-01-03  665.411118\n",
       "1  2012-01-04  668.281154\n",
       "2  2012-01-05  659.011109\n",
       "3  2012-01-06  650.021102\n",
       "4  2012-01-09  622.461047"
      ]
     },
     "execution_count": 31,
     "metadata": {},
     "output_type": "execute_result"
    }
   ],
   "source": [
    "prices_csv.head()"
   ]
  },
  {
   "cell_type": "code",
   "execution_count": 29,
   "metadata": {},
   "outputs": [],
   "source": [
    "import numpy as np\n",
    "\n",
    "class Array():\n",
    "    def __init__(self, size):\n",
    "        self.array = np.zeros(size, dtype=np.float64)\n",
    "        self.size = size\n",
    "    \n",
    "    def __getitem__(self, key):\n",
    "        return self.array[key]\n",
    "    \n",
    "    def __setitem__(self, key, value):\n",
    "        self.array[key] = value"
   ]
  },
  {
   "cell_type": "code",
   "execution_count": 35,
   "metadata": {},
   "outputs": [],
   "source": [
    "prices = Array(10)\n",
    "\n",
    "for i, p in enumerate(prices_csv.price[:10]):\n",
    "    prices[i] = p"
   ]
  },
  {
   "cell_type": "code",
   "execution_count": null,
   "metadata": {},
   "outputs": [],
   "source": []
  },
  {
   "cell_type": "markdown",
   "metadata": {},
   "source": [
    "## Resizing the Array\n",
    "\n",
    "In the last screen, we implemented an array that allowed for elements to be viewed and changed. However, what happens if we want to add an element to the array? This is where the [insert()](https://docs.python.org/3/tutorial/datastructures.html) method of a list comes in handy. The `insert` method allows someone to add an element at any position, like this:\n",
    "\n",
    "```python\n",
    "list = [1,2,3]\n",
    "list.insert(1,5) # list is now [1,5,2,3]\n",
    "```\n",
    "\n",
    "After implementing a way to insert into our array, we can implement the [len](https://docs.python.org/3/reference/datamodel.html#object.__len__) method, then implement appending like this:\n",
    "\n",
    "```python\n",
    "def append(self, value):\n",
    "    self.insert(len(self), value)\n",
    "```\n",
    "\n",
    "To allow for insertion into an array, we'll need to figure out a way to:\n",
    "* Create a new array with one more element than the current array.\n",
    "* Loop across the old array and copy elements into the new array.\n",
    "    * When we hit the index that we want to insert the new element into, insert it, then keep going.\n",
    "\n",
    "Here's a diagram:\n",
    "\n",
    "![list-insertion](https://s3.amazonaws.com/dq-content/173/list_insertion.svg)\n",
    "\n"
   ]
  },
  {
   "cell_type": "code",
   "execution_count": null,
   "metadata": {},
   "outputs": [],
   "source": []
  },
  {
   "cell_type": "markdown",
   "metadata": {},
   "source": [
    "* Implement a method in the Array class called insert. It should:\n",
    "  * Take in a position to insert in, then a number to insert.\n",
    "  * Create an array one element larger than the old array.\n",
    "  * Increment self.size.\n",
    "  * Loop across each element in self.array, and copy it into the same position in the new array.\n",
    "    * If the position we're inserting into is the same we're copying into, then copy the new element, then the old element.\n",
    "    * Keep track of the position we're copying from, and the position we're copying into, because the insertion will make them different.\n",
    "  * If we're inserting at the end of the array (position to insert == self.size), then add the value to the end of the new array.\n",
    "  * Replace self.array with the new array.\n",
    "* Implement the __len__ method on the Array class that returns the size of the array.\n",
    "* Implement an append method on the Array class.\n",
    "* Instatiate an instance of Array called prices, with size 0.\n",
    "* Append the first 100 prices from prices.csv to prices.\n",
    "* Insert 646.921081 into position 50 in prices."
   ]
  },
  {
   "cell_type": "code",
   "execution_count": null,
   "metadata": {},
   "outputs": [],
   "source": [
    "class Array():\n",
    "    def __init__(self, size):\n",
    "        self.array = np.zeros(size, dtype=np.float64)\n",
    "        self.size = size\n",
    "    \n",
    "    def __getitem__(self, key):\n",
    "        return self.array[key]\n",
    "    \n",
    "    def __setitem__(self, key, value):\n",
    "        self.array[key] = value\n",
    "    \n",
    "    def insert(self, position, value):\n",
    "        new_array = np.zeros(self.size + 1, dtype=np.float64)\n",
    "        new_pos = 0\n",
    "        for i, item in enumerate(self.array):\n",
    "            if i == position:\n",
    "                new_array[new_pos] = value\n",
    "                new_pos += 1\n",
    "            new_array[new_pos] = item\n",
    "            new_pos += 1\n",
    "        if position == (self.size):\n",
    "            new_array[new_pos] = value\n",
    "        self.size += 1\n",
    "        self.array = new_array\n",
    "    \n",
    "    def __len__(self):\n",
    "        return self.size\n",
    "    \n",
    "    def append(self, value):\n",
    "        self.insert(self.size, value)\n",
    "        \n",
    "        \n",
    "prices = Array(0)\n",
    "\n",
    "for i, p in enumerate(prices_csv.price[:100]):\n",
    "    prices.append(p)\n",
    "    \n",
    "prices.insert(50, 646.921081)"
   ]
  },
  {
   "cell_type": "code",
   "execution_count": null,
   "metadata": {},
   "outputs": [],
   "source": []
  },
  {
   "cell_type": "markdown",
   "metadata": {},
   "source": [
    "## Resizing the Array\n",
    "\n",
    "Now that we've learned how to insert elements into the array, let's experiment with removing them. Removing an element is very similar to insertion:\n",
    "\n",
    "![list-removal](https://s3.amazonaws.com/dq-content/173/list_removal.svg)\n",
    "\n",
    "As you can see above, we:\n",
    "\n",
    "* Loop through each element in the old array\n",
    "  * If the element isn't the one we want to remove, copy it over to the new array\n",
    "  * If we want to remove it, just skip to the next element\n",
    "\n",
    "We'll have to keep track of the index we're copying from (in the old array), and the index we're copying to (in the new array), because the indices will diverge after we \"skip\" the item in the old array to be removed."
   ]
  },
  {
   "cell_type": "code",
   "execution_count": null,
   "metadata": {},
   "outputs": [],
   "source": []
  },
  {
   "cell_type": "markdown",
   "metadata": {},
   "source": [
    "* Implement a method in the Array class called `pop`. It should:\n",
    "  * Take in a position to `pop`.\n",
    "  * Create an array one element smaller than the old array.\n",
    "  * Decrement `self.size`.\n",
    "  * Loop across each element in `self.array`, and copy it into the same position in the new array.\n",
    "    * If we're removing the element in the position, assign the element to `removed`, then skip copying it.\n",
    "    * Keep track of the position we're copying from, and the position we're copying into, because the removal will make them different.\n",
    "  * Replace `self.array` with the new array.\n",
    "  * Return `removed`.\n",
    "* Instatiate an instance of Array called `prices`, with size 0.\n",
    "* Append the first 100 prices from `prices.csv` to `prices`.\n",
    "* Pop the element at position `40` in `prices`."
   ]
  },
  {
   "cell_type": "code",
   "execution_count": null,
   "metadata": {},
   "outputs": [],
   "source": [
    "class Array():\n",
    "    def __init__(self, size):\n",
    "        self.array = np.zeros(size, dtype=np.float64)\n",
    "        self.size = size\n",
    "    \n",
    "    def __getitem__(self, key):\n",
    "        return self.array[key]\n",
    "    \n",
    "    def __setitem__(self, key, value):\n",
    "        self.array[key] = value\n",
    "    \n",
    "    def insert(self, position, value):\n",
    "        new_array = np.zeros(self.size + 1, dtype=np.float64)\n",
    "        new_pos = 0\n",
    "        for i, item in enumerate(self.array):\n",
    "            if i == position:\n",
    "                new_array[new_pos] = value\n",
    "                new_pos += 1\n",
    "            new_array[new_pos] = item\n",
    "            new_pos += 1\n",
    "        if position == (self.size):\n",
    "            new_array[new_pos] = value\n",
    "        self.size += 1\n",
    "        self.array = new_array\n",
    "    \n",
    "    def __len__(self):\n",
    "        return self.size\n",
    "    \n",
    "    def append(self, value):\n",
    "        self.insert(self.size, value)\n",
    "        \n",
    "    def \n",
    "    "
   ]
  },
  {
   "cell_type": "code",
   "execution_count": null,
   "metadata": {},
   "outputs": [],
   "source": []
  },
  {
   "cell_type": "code",
   "execution_count": null,
   "metadata": {},
   "outputs": [],
   "source": []
  },
  {
   "cell_type": "code",
   "execution_count": null,
   "metadata": {},
   "outputs": [],
   "source": []
  },
  {
   "cell_type": "code",
   "execution_count": null,
   "metadata": {},
   "outputs": [],
   "source": []
  },
  {
   "cell_type": "code",
   "execution_count": null,
   "metadata": {},
   "outputs": [],
   "source": []
  },
  {
   "cell_type": "code",
   "execution_count": null,
   "metadata": {},
   "outputs": [],
   "source": []
  },
  {
   "cell_type": "code",
   "execution_count": null,
   "metadata": {},
   "outputs": [],
   "source": []
  },
  {
   "cell_type": "code",
   "execution_count": null,
   "metadata": {},
   "outputs": [],
   "source": []
  }
 ],
 "metadata": {
  "kernelspec": {
   "display_name": "Python 3",
   "language": "python",
   "name": "python3"
  },
  "language_info": {
   "codemirror_mode": {
    "name": "ipython",
    "version": 3
   },
   "file_extension": ".py",
   "mimetype": "text/x-python",
   "name": "python",
   "nbconvert_exporter": "python",
   "pygments_lexer": "ipython3",
   "version": "3.6.2"
  }
 },
 "nbformat": 4,
 "nbformat_minor": 2
}
