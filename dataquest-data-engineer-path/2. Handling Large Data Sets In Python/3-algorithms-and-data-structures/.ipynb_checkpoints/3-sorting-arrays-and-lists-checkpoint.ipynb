{
 "cells": [
  {
   "cell_type": "markdown",
   "metadata": {},
   "source": [
    "# Sorting Arrays and Lists"
   ]
  },
  {
   "cell_type": "code",
   "execution_count": null,
   "metadata": {},
   "outputs": [],
   "source": []
  },
  {
   "cell_type": "markdown",
   "metadata": {},
   "source": [
    "## Sorting Arrays\n",
    "\n",
    "In the last mission, we learned about arrays and linked lists. In this mission, we'll cover a more concrete usage of both data structures by talking about sorting. If you've used a Python list, you're probably familiar with using the list.sort() method to order values. For example, if we have the below list:\n",
    "\n",
    "```python\n",
    ">> values = [5,3,2,10]\n",
    "```\n",
    "\n",
    "We can sort it:\n",
    "\n",
    "```python\n",
    ">> values.sort()\n",
    ">> values\n",
    "[2,3,5,10]\n",
    "```\n",
    "However, there are many cases where the default sorting behavior isn't ideal:\n",
    "* We have a **custom data structure**, and we want to sort it. For example, we want to sort a set of `JSON` files.\n",
    "* We're working with data that's **too large to fit into memory**, but we still want to ensure that everything is sorted. This **may require splitting the data across multiple machines to sort**, and then combining the sorted results.\n",
    "* We want a **custom ordering** -- for example, we want to sort locations based on their proximity to one or more cities. We can't sort by simple distance to the closest city, since we want to take distance to multiple cities into account.\n",
    "\n",
    "In cases like the above, you'll need to either find a different sorting mechanism in Python, or code your own sort. Even in cases where you're not directly coding your own sort, understanding how the sorting works can help you pick the sorting mechanism that will complete the fastest.<br>\n",
    "\n",
    "There are a variety of different sorting techniques that have different time and space complexity tradeoffs. We'll start with some simple but inefficient sorting algorithms, then dive into more complex algorithms in a later course.<br>\n",
    "\n",
    "Before we dive into trying some sorting algorithms, let's explore the dataset we'll be using. We'll be using a set of bank transaction data that originally came from here. Each row is a single credit card transaction, and each column contains attributes of that transaction. A credit card transaction is any time you use a credit card, for example in a coffee shop to buy coffee. We've removed a number of extraneous columns, which leaves us with just two -- `Time` and `Amount`:\n",
    "* `Time` -- the number of times the credit card used for this transaction has been used.\n",
    "* `Amount` -- the dollar amount of the transaction.\n",
    "\n",
    "Here are the first few rows of the data:\n",
    "\n",
    " |Time|Amount\n",
    "---|---|---\n",
    "0|0.0|149.62\n",
    "1|0.0|2.69\n",
    "2|1.0|378.66\n",
    "3|1.0|123.50\n",
    "4|2.0|69.99\n",
    "\n",
    "Let's explore the data to get a handle on it before moving forward."
   ]
  },
  {
   "cell_type": "code",
   "execution_count": null,
   "metadata": {},
   "outputs": [],
   "source": []
  },
  {
   "cell_type": "markdown",
   "metadata": {},
   "source": [
    "* Load the data in from `amounts.csv` using `pandas.read_csv()`.\n",
    "* Create a list called `amounts` that contains all of the items in the `Amount` column.\n",
    "* Create a list called `times` that contains all of the items in the `Time` column.\n",
    "* Print the average of all the items in amounts."
   ]
  },
  {
   "cell_type": "code",
   "execution_count": 1,
   "metadata": {},
   "outputs": [
    {
     "name": "stdout",
     "output_type": "stream",
     "text": [
      "88.3496192509\n"
     ]
    }
   ],
   "source": [
    "import pandas as pd\n",
    "\n",
    "amounts_csv = pd.read_csv('../data/amounts.csv')\n",
    "amounts = amounts_csv['Amount']\n",
    "times = amounts_csv['Time']\n",
    "\n",
    "print(amounts.mean())"
   ]
  },
  {
   "cell_type": "code",
   "execution_count": null,
   "metadata": {},
   "outputs": [],
   "source": []
  },
  {
   "cell_type": "markdown",
   "metadata": {},
   "source": [
    "## Swapping Elements\n",
    "\n",
    "The basic unifying factor behind most sorting algorithms is the idea of the swap. We take one element from one part of an array, and another element from another part of an array, and switch them. If we make enough swaps, we can eventually get the array into the right order. Most sorting algorithms differ only on in which order different items are swapped. Here's how a single swap would look:\n",
    "\n",
    "![array_swaps-1](https://s3.amazonaws.com/dq-content/173/array_swaps_1.svg)\n",
    "\n",
    "Note that we can't directly swap `2` for `5` and `5` for `2`. Once we make the first swap, the value of `2` will be overwritten. We need to store that value somewhere else while we make the first swap. Here are the steps in making a swap:\n",
    "* Select the two elements you want to swap.\n",
    "* Copy the first element to an external variable.\n",
    "* Replace the first element with the value of the second.\n",
    "* Replace the second element with the value of the external variable.\n",
    "\n",
    "Let's code our own swap function -- this will be important later on, when we're creating sorting algorithms.\n",
    "\n"
   ]
  },
  {
   "cell_type": "code",
   "execution_count": null,
   "metadata": {},
   "outputs": [],
   "source": []
  },
  {
   "cell_type": "markdown",
   "metadata": {},
   "source": [
    "* Write a `swap` function that takes in 3 arguments -- `array`, `pos1`, and `pos2`. The function should swap the array elements in position `pos1` and position `pos2`.\n",
    "* Assign the first `10` elements from `amounts` to `first_amounts`.\n",
    "* Swap the items in position `1` and `2` in `first_amounts`."
   ]
  },
  {
   "cell_type": "code",
   "execution_count": 4,
   "metadata": {},
   "outputs": [],
   "source": [
    "def swap(array, pos1, pos2):\n",
    "    \n",
    "    pos1_val = array[pos1]\n",
    "    array[pos1] = array[pos2]\n",
    "    array[pos2] = pos1_val\n",
    "    "
   ]
  },
  {
   "cell_type": "code",
   "execution_count": 7,
   "metadata": {},
   "outputs": [
    {
     "data": {
      "text/plain": [
       "0    149.62\n",
       "1      2.69\n",
       "2    378.66\n",
       "3    123.50\n",
       "4     69.99\n",
       "5      3.67\n",
       "6      4.99\n",
       "7     40.80\n",
       "8     93.20\n",
       "9      3.68\n",
       "Name: Amount, dtype: float64"
      ]
     },
     "execution_count": 7,
     "metadata": {},
     "output_type": "execute_result"
    }
   ],
   "source": [
    "first_amounts = amounts[:10]\n",
    "first_amounts"
   ]
  },
  {
   "cell_type": "code",
   "execution_count": 8,
   "metadata": {},
   "outputs": [
    {
     "data": {
      "text/plain": [
       "0    149.62\n",
       "1    378.66\n",
       "2      2.69\n",
       "3    123.50\n",
       "4     69.99\n",
       "5      3.67\n",
       "6      4.99\n",
       "7     40.80\n",
       "8     93.20\n",
       "9      3.68\n",
       "Name: Amount, dtype: float64"
      ]
     },
     "execution_count": 8,
     "metadata": {},
     "output_type": "execute_result"
    }
   ],
   "source": [
    "swap(first_amounts, 1, 2)\n",
    "first_amounts"
   ]
  },
  {
   "cell_type": "code",
   "execution_count": null,
   "metadata": {},
   "outputs": [],
   "source": []
  },
  {
   "cell_type": "markdown",
   "metadata": {},
   "source": [
    "## Selection Sort\n",
    "\n",
    "Let's say you're handed a list of numbers to sort in order:\n",
    "\n",
    "```python\n",
    "numbers = [5,4,3,1]\n",
    "```\n",
    "\n",
    "A simple way to sort them might be to find the lowest number and swap it with the number in front:\n",
    "\n",
    "```python\n",
    "numbers = [1,4,3,5]\n",
    "```\n",
    "Then find the next lowest number and swap it with the next number:\n",
    "\n",
    "```python\n",
    "numbers = [1,3,4,5]\n",
    "```\n",
    "After repeating the process, the list is sorted. What we just did was a selection sort! Here's a diagram to make it more clear how the sort works:\n",
    "\n",
    "![selection-sort](https://s3.amazonaws.com/dq-content/173/selection_sort.svg)\n",
    "\n",
    "As you can see, we:\n",
    "* Loop across all of the elements in the array\n",
    "  * Loop across all the elements from the outer loop index to the end of the array\n",
    "    * This loops across all of the unsorted elements\n",
    "    * Find the lowest value\n",
    "  * Swap the lowest value with the first unsorted value\n",
    "\n",
    "Once there aren't any unsorted elements left, our sort is done. This is a fairly straightforward type of sort, but isn't necessarily the best performing.\n",
    "\n",
    "Here's an animation of a selection sort, by user Joestape89 on Wikimedia:\n",
    "\n",
    "![selection-sort-animated](https://s3.amazonaws.com/dq-content/173/Selection-Sort-Animation.gif)"
   ]
  },
  {
   "cell_type": "code",
   "execution_count": null,
   "metadata": {},
   "outputs": [],
   "source": []
  },
  {
   "cell_type": "markdown",
   "metadata": {},
   "source": [
    "* Create a function called `selection_sort` that takes in an argument `array`.\n",
    "  * Loop across `array` from the first element to the last (loop variable `i`).\n",
    "    * Loop across `array` from `i` to the end of the array with the loop variable `z` (this loops across the unsorted values)\n",
    "    * Find the lowest value and lowest index.\n",
    "  * Swap the lowest element with `i`\n",
    "* Assign the first 10 elements from amounts to `first_amounts`.\n",
    "* Sort `first_amounts` with your function."
   ]
  },
  {
   "cell_type": "code",
   "execution_count": 9,
   "metadata": {},
   "outputs": [],
   "source": [
    "def selection_sort(array):\n",
    "    pass"
   ]
  },
  {
   "cell_type": "code",
   "execution_count": null,
   "metadata": {},
   "outputs": [],
   "source": []
  },
  {
   "cell_type": "code",
   "execution_count": null,
   "metadata": {},
   "outputs": [],
   "source": []
  },
  {
   "cell_type": "code",
   "execution_count": null,
   "metadata": {},
   "outputs": [],
   "source": []
  },
  {
   "cell_type": "code",
   "execution_count": null,
   "metadata": {},
   "outputs": [],
   "source": []
  },
  {
   "cell_type": "code",
   "execution_count": null,
   "metadata": {},
   "outputs": [],
   "source": []
  }
 ],
 "metadata": {
  "kernelspec": {
   "display_name": "Python 3",
   "language": "python",
   "name": "python3"
  },
  "language_info": {
   "codemirror_mode": {
    "name": "ipython",
    "version": 3
   },
   "file_extension": ".py",
   "mimetype": "text/x-python",
   "name": "python",
   "nbconvert_exporter": "python",
   "pygments_lexer": "ipython3",
   "version": "3.6.2"
  }
 },
 "nbformat": 4,
 "nbformat_minor": 2
}
