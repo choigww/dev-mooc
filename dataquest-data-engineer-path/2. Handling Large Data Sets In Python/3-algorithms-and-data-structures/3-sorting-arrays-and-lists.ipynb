{
 "cells": [
  {
   "cell_type": "markdown",
   "metadata": {},
   "source": [
    "# Sorting Arrays and Lists"
   ]
  },
  {
   "cell_type": "code",
   "execution_count": null,
   "metadata": {
    "collapsed": true
   },
   "outputs": [],
   "source": []
  },
  {
   "cell_type": "markdown",
   "metadata": {},
   "source": [
    "## Sorting Arrays\n",
    "\n",
    "In the last mission, we learned about arrays and linked lists. In this mission, we'll cover a more concrete usage of both data structures by talking about sorting. If you've used a Python list, you're probably familiar with using the list.sort() method to order values. For example, if we have the below list:\n",
    "\n",
    "```python\n",
    ">> values = [5,3,2,10]\n",
    "```\n",
    "\n",
    "We can sort it:\n",
    "\n",
    "```python\n",
    ">> values.sort()\n",
    ">> values\n",
    "[2,3,5,10]\n",
    "```\n",
    "However, there are many cases where the default sorting behavior isn't ideal:\n",
    "* We have a **custom data structure**, and we want to sort it. For example, we want to sort a set of `JSON` files.\n",
    "* We're working with data that's **too large to fit into memory**, but we still want to ensure that everything is sorted. This **may require splitting the data across multiple machines to sort**, and then combining the sorted results.\n",
    "* We want a **custom ordering** -- for example, we want to sort locations based on their proximity to one or more cities. We can't sort by simple distance to the closest city, since we want to take distance to multiple cities into account.\n",
    "\n",
    "In cases like the above, you'll need to either find a different sorting mechanism in Python, or code your own sort. Even in cases where you're not directly coding your own sort, understanding how the sorting works can help you pick the sorting mechanism that will complete the fastest.<br>\n",
    "\n",
    "There are a variety of different sorting techniques that have different time and space complexity tradeoffs. We'll start with some simple but inefficient sorting algorithms, then dive into more complex algorithms in a later course.<br>\n",
    "\n",
    "Before we dive into trying some sorting algorithms, let's explore the dataset we'll be using. We'll be using a set of bank transaction data that originally came from here. Each row is a single credit card transaction, and each column contains attributes of that transaction. A credit card transaction is any time you use a credit card, for example in a coffee shop to buy coffee. We've removed a number of extraneous columns, which leaves us with just two -- `Time` and `Amount`:\n",
    "* `Time` -- the number of times the credit card used for this transaction has been used.\n",
    "* `Amount` -- the dollar amount of the transaction.\n",
    "\n",
    "Here are the first few rows of the data:\n",
    "\n",
    " |Time|Amount\n",
    "---|---|---\n",
    "0|0.0|149.62\n",
    "1|0.0|2.69\n",
    "2|1.0|378.66\n",
    "3|1.0|123.50\n",
    "4|2.0|69.99\n",
    "\n",
    "Let's explore the data to get a handle on it before moving forward."
   ]
  },
  {
   "cell_type": "code",
   "execution_count": null,
   "metadata": {
    "collapsed": true
   },
   "outputs": [],
   "source": []
  },
  {
   "cell_type": "markdown",
   "metadata": {},
   "source": [
    "* Load the data in from `amounts.csv` using `pandas.read_csv()`.\n",
    "* Create a list called `amounts` that contains all of the items in the `Amount` column.\n",
    "* Create a list called `times` that contains all of the items in the `Time` column.\n",
    "* Print the average of all the items in amounts."
   ]
  },
  {
   "cell_type": "code",
   "execution_count": 164,
   "metadata": {
    "collapsed": false
   },
   "outputs": [
    {
     "name": "stdout",
     "output_type": "stream",
     "text": [
      "88.34961925087359\n"
     ]
    }
   ],
   "source": [
    "import pandas as pd\n",
    "\n",
    "amounts_csv = pd.read_csv('../data/amounts.csv')\n",
    "amounts = amounts_csv['Amount']\n",
    "times = amounts_csv['Time']\n",
    "\n",
    "print(amounts.mean())"
   ]
  },
  {
   "cell_type": "code",
   "execution_count": 156,
   "metadata": {
    "collapsed": false
   },
   "outputs": [
    {
     "data": {
      "text/plain": [
       "0    149.62\n",
       "1      2.69\n",
       "2    378.66\n",
       "3    123.50\n",
       "4     69.99\n",
       "5      3.67\n",
       "6      4.99\n",
       "7     40.80\n",
       "8     93.20\n",
       "9      3.68\n",
       "Name: Amount, dtype: float64"
      ]
     },
     "execution_count": 156,
     "metadata": {},
     "output_type": "execute_result"
    }
   ],
   "source": [
    "amounts[:10]"
   ]
  },
  {
   "cell_type": "code",
   "execution_count": null,
   "metadata": {
    "collapsed": true
   },
   "outputs": [],
   "source": []
  },
  {
   "cell_type": "markdown",
   "metadata": {},
   "source": [
    "## Swapping Elements\n",
    "\n",
    "The basic unifying factor behind most sorting algorithms is the idea of the swap. We take one element from one part of an array, and another element from another part of an array, and switch them. If we make enough swaps, we can eventually get the array into the right order. Most sorting algorithms differ only on in which order different items are swapped. Here's how a single swap would look:\n",
    "\n",
    "![array_swaps-1](https://s3.amazonaws.com/dq-content/173/array_swaps_1.svg)\n",
    "\n",
    "Note that we can't directly swap `2` for `5` and `5` for `2`. Once we make the first swap, the value of `2` will be overwritten. We need to store that value somewhere else while we make the first swap. Here are the steps in making a swap:\n",
    "* Select the two elements you want to swap.\n",
    "* Copy the first element to an external variable.\n",
    "* Replace the first element with the value of the second.\n",
    "* Replace the second element with the value of the external variable.\n",
    "\n",
    "Let's code our own swap function -- this will be important later on, when we're creating sorting algorithms.\n",
    "\n"
   ]
  },
  {
   "cell_type": "code",
   "execution_count": null,
   "metadata": {
    "collapsed": true
   },
   "outputs": [],
   "source": []
  },
  {
   "cell_type": "markdown",
   "metadata": {},
   "source": [
    "* Write a `swap` function that takes in 3 arguments -- `array`, `pos1`, and `pos2`. The function should swap the array elements in position `pos1` and position `pos2`.\n",
    "* Assign the first `10` elements from `amounts` to `first_amounts`.\n",
    "* Swap the items in position `1` and `2` in `first_amounts`."
   ]
  },
  {
   "cell_type": "code",
   "execution_count": 55,
   "metadata": {
    "collapsed": true
   },
   "outputs": [],
   "source": [
    "def swap(array, pos1, pos2):\n",
    "    \n",
    "    pos1_val = array[pos1]\n",
    "    array[pos1] = array[pos2]\n",
    "    array[pos2] = pos1_val\n"
   ]
  },
  {
   "cell_type": "code",
   "execution_count": 56,
   "metadata": {
    "collapsed": false
   },
   "outputs": [
    {
     "data": {
      "text/plain": [
       "0      3.67\n",
       "1    378.66\n",
       "2    149.62\n",
       "3      3.68\n",
       "4    123.50\n",
       "5     69.99\n",
       "6     93.20\n",
       "7     40.80\n",
       "8      4.99\n",
       "9      2.69\n",
       "Name: Amount, dtype: float64"
      ]
     },
     "execution_count": 56,
     "metadata": {},
     "output_type": "execute_result"
    }
   ],
   "source": [
    "first_amounts = amounts[:10]\n",
    "first_amounts"
   ]
  },
  {
   "cell_type": "code",
   "execution_count": 57,
   "metadata": {
    "collapsed": false
   },
   "outputs": [
    {
     "data": {
      "text/plain": [
       "0      3.67\n",
       "1    149.62\n",
       "2    378.66\n",
       "3      3.68\n",
       "4    123.50\n",
       "5     69.99\n",
       "6     93.20\n",
       "7     40.80\n",
       "8      4.99\n",
       "9      2.69\n",
       "Name: Amount, dtype: float64"
      ]
     },
     "execution_count": 57,
     "metadata": {},
     "output_type": "execute_result"
    }
   ],
   "source": [
    "swap(first_amounts, 1, 2)\n",
    "first_amounts"
   ]
  },
  {
   "cell_type": "code",
   "execution_count": null,
   "metadata": {
    "collapsed": true
   },
   "outputs": [],
   "source": []
  },
  {
   "cell_type": "markdown",
   "metadata": {},
   "source": [
    "## Selection Sort\n",
    "\n",
    "Let's say you're handed a list of numbers to sort in order:\n",
    "\n",
    "```python\n",
    "numbers = [5,4,3,1]\n",
    "```\n",
    "\n",
    "A simple way to sort them might be to find the lowest number and swap it with the number in front:\n",
    "\n",
    "```python\n",
    "numbers = [1,4,3,5]\n",
    "```\n",
    "Then find the next lowest number and swap it with the next number:\n",
    "\n",
    "```python\n",
    "numbers = [1,3,4,5]\n",
    "```\n",
    "After repeating the process, the list is sorted. What we just did was a selection sort! Here's a diagram to make it more clear how the sort works:\n",
    "\n",
    "![selection-sort](https://s3.amazonaws.com/dq-content/173/selection_sort.svg)\n",
    "\n",
    "As you can see, we:\n",
    "* Loop across all of the elements in the array\n",
    "  * Loop across all the elements from the outer loop index to the end of the array\n",
    "    * This loops across all of the unsorted elements\n",
    "    * Find the lowest value\n",
    "  * Swap the lowest value with the first unsorted value\n",
    "\n",
    "Once there aren't any unsorted elements left, our sort is done. This is a fairly straightforward type of sort, but isn't necessarily the best performing.\n",
    "\n",
    "Here's an animation of a selection sort, by user Joestape89 on Wikimedia:\n",
    "\n",
    "![selection-sort-animated](https://s3.amazonaws.com/dq-content/173/Selection-Sort-Animation.gif)"
   ]
  },
  {
   "cell_type": "code",
   "execution_count": null,
   "metadata": {
    "collapsed": true
   },
   "outputs": [],
   "source": []
  },
  {
   "cell_type": "markdown",
   "metadata": {},
   "source": [
    "* Create a function called `selection_sort` that takes in an argument `array`.\n",
    "  * Loop across `array` from the first element to the last (loop variable `i`).\n",
    "    * Loop across `array` from `i` to the end of the array with the loop variable `z` (this loops across the unsorted values)\n",
    "    * Find the lowest value and lowest index.\n",
    "  * Swap the lowest element with `i`\n",
    "* Assign the first 10 elements from amounts to `first_amounts`.\n",
    "* Sort `first_amounts` with your function."
   ]
  },
  {
   "cell_type": "code",
   "execution_count": 58,
   "metadata": {
    "collapsed": true
   },
   "outputs": [],
   "source": [
    "def selection_sort(array):\n",
    "    \n",
    "    for i in range(len(array)):\n",
    "        lowest_index = i\n",
    "        \n",
    "        for z in range(i, len(array)):\n",
    "            if array[z] < array[lowest_index]:\n",
    "                lowest_index = z\n",
    "        \n",
    "        swap(array, lowest_index, i)\n",
    "\n",
    "first_amounts = amounts[:10]\n",
    "selection_sort(first_amounts)"
   ]
  },
  {
   "cell_type": "code",
   "execution_count": 59,
   "metadata": {
    "collapsed": false,
    "scrolled": true
   },
   "outputs": [
    {
     "data": {
      "text/plain": [
       "0      2.69\n",
       "1      3.67\n",
       "2      3.68\n",
       "3      4.99\n",
       "4     40.80\n",
       "5     69.99\n",
       "6     93.20\n",
       "7    123.50\n",
       "8    149.62\n",
       "9    378.66\n",
       "Name: Amount, dtype: float64"
      ]
     },
     "execution_count": 59,
     "metadata": {},
     "output_type": "execute_result"
    }
   ],
   "source": [
    "first_amounts"
   ]
  },
  {
   "cell_type": "code",
   "execution_count": null,
   "metadata": {
    "collapsed": true
   },
   "outputs": [],
   "source": []
  },
  {
   "cell_type": "markdown",
   "metadata": {},
   "source": [
    "## Profiling The Selection Sort\n",
    "\n",
    "We mentioned in the last screen that a selection sort isn't the fastest type of sort. In fact,\n",
    "\n",
    "### the selection sort has `O(n^2)` performance, which makes it impractical for large datasets.\n",
    "\n",
    "This performance is due to the nested loops, which mean that the `selection_sort` function loops across `array` many times. **This means that `selection_sort` will take exponentially longer as the length of `array` increases.**<br>\n",
    "\n",
    "On the other hand, the **selection sort doesn't take much memory** -- we didn't store any values outside of `array`, except for some counters and temporary storage for a swap. \n",
    "\n",
    "### The space complexity is `O(1)`, \n",
    "\n",
    "meaning that the space taken up by the sort isn't proportional to the length of `array`.<br>\n",
    "\n",
    "Let's profile the selection sort to get a better handle of how it performs. We can do this with operation counters. We'll add a counter inside the \"inner\" loop (with loop index `z`), then count up how many times we loop over `array`.<br>\n",
    "\n",
    "We'll then be able to make a plot that shows the performance of the sort relative to the length of `array`."
   ]
  },
  {
   "cell_type": "code",
   "execution_count": null,
   "metadata": {
    "collapsed": true
   },
   "outputs": [],
   "source": []
  },
  {
   "cell_type": "markdown",
   "metadata": {},
   "source": [
    "* Modify the `selection_sort` function to:\n",
    "  * Initialize `counter` with the value `0`.\n",
    "  * Add `1` to counter right inside the second for loop (that uses `z`).\n",
    "  * Return `counter`.\n",
    "* Create a list, `counters`.\n",
    "* Loop across each `length` in `lengths`:\n",
    "  * Assign the first `length` items in `amounts` to `first_amounts`.\n",
    "  * Sort `first_amounts` with `selection_sort`, and append the result to `counters`.\n",
    "* Use the matplotlib.pyplot.plot function to plot `lengths` on the x-axis, and `counters` on the y-axis.\n",
    "* What does the line plot tell you?\n",
    "* Try varying the lengths and seeing what happens."
   ]
  },
  {
   "cell_type": "code",
   "execution_count": 140,
   "metadata": {
    "collapsed": false
   },
   "outputs": [],
   "source": [
    "import matplotlib.pyplot as plt\n",
    "\n",
    "def selection_sort(array):\n",
    "    counter = 0\n",
    "    \n",
    "    for i in range(len(array)):\n",
    "        lowest_index = i\n",
    "        for z in range(i, len(array)):\n",
    "            counter += 1\n",
    "            \n",
    "            if array[z] < array[lowest_index]:\n",
    "                lowest_index = z\n",
    "        swap(array, lowest_index, i)\n",
    "        \n",
    "    return counter\n",
    "\n",
    "lengths = [1,10,100, 1000]\n",
    "selection_sort_counters = []"
   ]
  },
  {
   "cell_type": "code",
   "execution_count": 141,
   "metadata": {
    "collapsed": false
   },
   "outputs": [
    {
     "data": {
      "image/png": "[encoded data removed]",
      "text/plain": [
       "<matplotlib.figure.Figure at 0x23fc6fc3780>"
      ]
     },
     "metadata": {},
     "output_type": "display_data"
    }
   ],
   "source": [
    "amounts_csv = pd.read_csv('../data/amounts.csv')\n",
    "amounts = amounts_csv['Amount']\n",
    "\n",
    "for length in lengths:\n",
    "    first_amounts = amounts[:][:length]\n",
    "    selection_sort_counters.append(selection_sort(first_amounts))\n",
    "\n",
    "plt.plot(lengths, selection_sort_counters)\n",
    "plt.show()"
   ]
  },
  {
   "cell_type": "code",
   "execution_count": null,
   "metadata": {
    "collapsed": true
   },
   "outputs": [],
   "source": []
  },
  {
   "cell_type": "markdown",
   "metadata": {},
   "source": [
    "## Bubble Sort\n",
    "\n",
    "You should have seen a graph like this in the last screen:\n",
    "\n",
    "![selection-sort-perf](https://s3.amazonaws.com/dq-content/173/selection_sort_perf.png)\n",
    "\n",
    "As you can see above, the graph has an **exponential scale**, meaning that it shows the sorting taking exponentially longer as the length of `first_amounts` increases. You can tell the scale is exponential from the `1e7` above the graph -- this indicates that each number on the y-axis should be multiplied by this amount. The `O(n^2)` complexity makes selection sorts impractical for sorting large datasets.<br>\n",
    "\n",
    "In this screen, we'll take a look at another kind of sort, known as a bubble sort. A bubble sort is faster than a selection sort in some cases, and is also fairly straightforward to understand. A bubble sort works by making passes across an array and \"bubbling\" values until the sort is done. Here's an example:\n",
    "\n",
    "```python\n",
    "numbers = [5,4,3,1]\n",
    "```\n",
    "\n",
    "We first make a pass over the whole array. We swap pairs of adjacent elements if the one to the right is less than the one to the left. So we first swap `4` and `5`:\n",
    "\n",
    "```python\n",
    "numbers = [4,5,3,1]\n",
    "```\n",
    "\n",
    "We then swap `5` and `3`:\n",
    "\n",
    "```python\n",
    "numbers = [4,3,5,1]\n",
    "```\n",
    "\n",
    "We then swap `5` and `1`:\n",
    "```python\n",
    "numbers = [4,3,1,5]\n",
    "```\n",
    "\n",
    "Our first pass is done. Since we made swaps in the first pass, we know that `numbers` isn't sorted, and we need a second pass. In the second pass, we swap `4` and `3`:\n",
    "\n",
    "```python\n",
    "numbers = [3,4,1,5]\n",
    "```\n",
    "We then swap `4` and `1`:\n",
    "```python\n",
    "numbers = [3,1,4,5]\n",
    "```\n",
    "\n",
    "We then don't make any more swaps, since 4 and 5 are in order. We now make a third pass, and we first swap 1 and 3:\n",
    "```python\n",
    "numbers = [1,3,4,5]\n",
    "```\n",
    "\n",
    "We don't make any more swaps in the third pass. Because we made swaps in the last pass, the bubble sort algorithm doesn't know if the values are sorted yet. We have to make a fourth pass across `numbers` (where we make no swaps). After making no swaps in an entire pass, we know `numbers` is sorted.<br>\n",
    "\n",
    "Here's a diagram of a bubble sort:\n",
    "\n",
    "![bubble-sort](https://s3.amazonaws.com/dq-content/173/bubble_sort.svg)\n",
    "\n",
    "As you can see, the bubble sort:\n",
    "* Loops until no swaps were made in the previous pass\n",
    "  * Loops across each element in the array.\n",
    "    * If the current element is greater than the next element, swaps them.\n",
    "    * Increments a swap counter.\n",
    "\n",
    "Once we loop across the whole array without making any swaps, the sort is complete.<br>\n",
    "\n",
    "Here's an animation of a bubble sort, from [Swfung8](https://commons.wikimedia.org/w/index.php?curid=14953478):\n",
    "\n",
    "![bubble-sort-example](https://s3.amazonaws.com/dq-content/173/Bubble-sort-example-300px.gif)"
   ]
  },
  {
   "cell_type": "code",
   "execution_count": null,
   "metadata": {
    "collapsed": true
   },
   "outputs": [],
   "source": []
  },
  {
   "cell_type": "markdown",
   "metadata": {},
   "source": [
    "* Create a function called `bubble_sort` that takes in an argument `array`.\n",
    "  * Create a variable called `swaps` and assign the value `1` to it.\n",
    "  * Loop while `swaps` is greater than `0`.\n",
    "    * Loop across all the elements in `array` up to the second to last one.\n",
    "      * If the current element is greater than the next element, swap them.\n",
    "      * Increment `swaps` when a swap is made.\n",
    "* Assign the first 10 elements from `amounts` to `first_amounts`.\n",
    "* Sort first_amounts with your function."
   ]
  },
  {
   "cell_type": "code",
   "execution_count": 89,
   "metadata": {
    "collapsed": true
   },
   "outputs": [],
   "source": [
    "def bubble_sort(array):\n",
    "    swaps = 1\n",
    "    \n",
    "    while swaps > 0:\n",
    "        swapped = False\n",
    "        \n",
    "        for i, el in enumerate(array[:-1]):\n",
    "            if array[i] > array[i+1]:\n",
    "                swap(array, i+1, i)\n",
    "                swapped = True\n",
    "                \n",
    "        if not swapped:\n",
    "            break"
   ]
  },
  {
   "cell_type": "code",
   "execution_count": 91,
   "metadata": {
    "collapsed": false
   },
   "outputs": [
    {
     "data": {
      "text/plain": [
       "0      2.69\n",
       "1      3.67\n",
       "2      3.68\n",
       "3      4.99\n",
       "4     40.80\n",
       "5     69.99\n",
       "6     93.20\n",
       "7    123.50\n",
       "8    149.62\n",
       "9    378.66\n",
       "Name: Amount, dtype: float64"
      ]
     },
     "execution_count": 91,
     "metadata": {},
     "output_type": "execute_result"
    }
   ],
   "source": [
    "first_amounts = amounts[:10]\n",
    "bubble_sort(first_amounts)\n",
    "first_amounts"
   ]
  },
  {
   "cell_type": "code",
   "execution_count": null,
   "metadata": {
    "collapsed": true
   },
   "outputs": [],
   "source": []
  },
  {
   "cell_type": "markdown",
   "metadata": {},
   "source": [
    "## Profiling The Bubble Sort\n",
    "\n",
    "We mentioned in the last screen that the bubble sort isn't especially high performance. In the best case (when the array is already sorted in order), \n",
    "### the performance is `O(n)`, since the algorithm only needs to make a single pass over the array to be sorted. \n",
    "\n",
    "In every other case,\n",
    "### performance is `O(n^2)`, since multiple passes are required to sort. \n",
    "\n",
    "Thus, a bubble sort takes exponentially longer as the length of the array to be sorted increases. We typically refer to worst-case time complexity when we refer to time complexity, so we're using the worst case here.<br>\n",
    "\n",
    "### The space complexity of a bubble sort is `O(1)`, \n",
    "like a selection sort, since we aren't storing anything beyond a couple of counter and swap variables.<br>\n",
    "\n",
    "Let's profile the bubble sort to get a better handle of how it performs. We can do this with an operation counter inside the for loop that loops over each element. We'll then be able to make a plot that shows the performance of the sort relative to the length of `array`."
   ]
  },
  {
   "cell_type": "code",
   "execution_count": null,
   "metadata": {
    "collapsed": true
   },
   "outputs": [],
   "source": []
  },
  {
   "cell_type": "markdown",
   "metadata": {},
   "source": [
    "* Modify the `bubble_sort` function to:\n",
    "  * Initialize `counter` with the value `0`.\n",
    "  * Add `1` to counter right inside the for loop.\n",
    "  * Return `counter`.\n",
    "* Create a list, `counters`.\n",
    "* Loop across each `length` in `lengths`:\n",
    "  * Assign the first `length` items in `amounts` to `first_amounts`.\n",
    "  * Sort `first_amounts` with `bubble_sort`, and append the result to `counters`.\n",
    "* Use the `matplotlib.pyplot.plot` function to plot `lengths` on the x-axis, and `counters` on the y-axis.\n",
    "* What does the line plot tell you?\n",
    "* Try varying the lengths and seeing what happens."
   ]
  },
  {
   "cell_type": "code",
   "execution_count": 199,
   "metadata": {
    "collapsed": false,
    "scrolled": false
   },
   "outputs": [
    {
     "data": {
      "image/png": "[encoded data removed]",
      "text/plain": [
       "<matplotlib.figure.Figure at 0x23fc7fb6f60>"
      ]
     },
     "metadata": {},
     "output_type": "display_data"
    }
   ],
   "source": [
    "import matplotlib.pyplot as plt\n",
    "\n",
    "def bubble_sort(array):\n",
    "    counter = 0\n",
    "    swaps = 1\n",
    "    while swaps > 0:\n",
    "        swaps = 0\n",
    "        for i in range(len(array) - 1):\n",
    "            counter += 1\n",
    "            if array[i] > array[i+1]:\n",
    "                swap(array, i, i+1)\n",
    "                swaps += 1\n",
    "                \n",
    "    return counter\n",
    "\n",
    "amounts_csv = pd.read_csv('../data/amounts.csv')\n",
    "amounts = amounts_csv['Amount']\n",
    "\n",
    "lengths = [1,10,100, 1000]\n",
    "bubble_sort_counters = []\n",
    "for length in lengths:\n",
    "    first_amounts = amounts[:][:length]\n",
    "    bubble_sort_counters.append(bubble_sort(first_amounts))\n",
    "    \n",
    "plt.plot(lengths, bubble_sort_counters);plt.show()"
   ]
  },
  {
   "cell_type": "code",
   "execution_count": null,
   "metadata": {
    "collapsed": true
   },
   "outputs": [],
   "source": []
  },
  {
   "cell_type": "code",
   "execution_count": null,
   "metadata": {
    "collapsed": true
   },
   "outputs": [],
   "source": []
  },
  {
   "cell_type": "markdown",
   "metadata": {},
   "source": [
    "## Insertion Sort\n",
    "\n",
    "In the last screen, you should have seen a graph like this:\n",
    "\n",
    "![](https://s3.amazonaws.com/dq-content/173/bubble_sort_perf.png)\n",
    "\n",
    "The above graph shows the performance of the bubble sort as more elements are added to first_amounts, and it shows that the number of operations performed go up exponentially as the number of elements in first_amounts increases. If you looked at the absolute numbers in counters, you should have noticed that they were higher than for the selection sort. Here they are side by side:\n",
    "\n",
    "Even though a bubble sort and a selection sort are **both `O(n^2)`, \n",
    "### bubble sorts perform more operations in normal cases.\n",
    "\n",
    "In this screen, we'll look at an algorithm that's a bit more efficient that the selection sort and the bubble sort, the insertion sort. The insertion sort still doesn't perform extremely well on large datasets, but even small performance gains can be important. The insertion sort works by looping through each element in the array, and \"inserting\" it into a sorted list at the beginning of the array.<br>\n",
    "\n",
    "Here's an animation of an insertion sort, by [Swfung8](https://commons.wikimedia.org/w/index.php?curid=14961606):\n",
    "\n",
    "![insertion-sort-example](https://s3.amazonaws.com/dq-content/173/Insertion-sort-example-300px.gif)\n",
    "\n",
    "\n",
    "We'll also work through an example. Here's an array we want to sort:\n",
    "\n",
    "```python\n",
    "numbers = [3,4,1,5]\n",
    "```\n",
    "\n",
    "The beginning of the array is our \"sorted\" array, and the end contains the unsorted elements. We start by assuming that just the first element of the array is sorted. So we now try to sort 4. Since 4 is greater than 3, we leave it where it is:<br>\n",
    "\n",
    "We now select 1 and try to sort it. Since 1 is less than 3 and 4, we put it in front of 3 and 4:\n",
    "\n",
    "```python\n",
    "numbers = [1,3,4,5]\n",
    "```\n",
    "\n",
    "We now select 5 and try to sort it. Since it's greater than 1, 3, and 4, we put it at the end of the sorted values:<br>\n",
    "\n",
    "Here's a diagram of how the insertion sort algorithm works:\n",
    "\n",
    "![insertion-sort-1](https://s3.amazonaws.com/dq-content/173/insertion_sort_1.svg)\n",
    "\n",
    "The trickiest part of the insertion sort is how it inserts elements into a given position. It shifts all the elements of the sorted portion of the array with values greater than the element to insert one to the right:\n",
    "\n",
    "![inserting-element](https://s3.amazonaws.com/dq-content/173/inserting_element.svg)\n",
    "\n",
    "The algorithm to insert a value is:\n",
    "* Find the value you want to insert.\n",
    "  * This is the value right after the sorted portion of the array\n",
    "* Find the insertion point\n",
    "  * This is the point right before the first value in the sorted array that's greater than the value you want to insert\n",
    "* Starting with the value just to the left of the value you want to insert, swap each element greater than the value with the value\n",
    "* After the swaps, the value will be in the right position\n",
    "\n",
    "After we understand how insertion works, we can get to the full algorithm for an insertion sort. The full algorithm for an insertion sort is:\n",
    "\n",
    "* Loop across each element in the array, starting with position 1 (skip the first element)\n",
    "  * As long as the element is less than the one to the left (and there is an element to the left), swap the element with the element to the left\n",
    "* After completing the swaps, the sort will be done"
   ]
  },
  {
   "cell_type": "code",
   "execution_count": null,
   "metadata": {
    "collapsed": true
   },
   "outputs": [],
   "source": []
  },
  {
   "cell_type": "markdown",
   "metadata": {},
   "source": [
    "* Create a function called `insertion_sort` that takes in an argument `array`.\n",
    "  * Loop across each element in `array`, from position `1` to the end (loop variable `i`).\n",
    "    * Assign the value of `i` to `j`.\n",
    "    * Loop while `j > 0` and the value to the left of the element at position `j` is greater than value at position `j`.\n",
    "      * Swap the elements at position `j - 1` and position `j`.\n",
    "      * Subtract `1` from `j`.\n",
    "* Assign the first `10` elements from amounts to `first_amounts`.\n",
    "* Sort `first_amounts` with your function."
   ]
  },
  {
   "cell_type": "code",
   "execution_count": 127,
   "metadata": {
    "collapsed": false
   },
   "outputs": [],
   "source": [
    "def insertion_sort(array):\n",
    "    \n",
    "    for i, el in enumerate(array):\n",
    "        j = i\n",
    "        while (j > 0) and (array[j - 1] > array[j]):\n",
    "            swap(array, j-1, j)\n",
    "            j -= 1\n"
   ]
  },
  {
   "cell_type": "code",
   "execution_count": 129,
   "metadata": {
    "collapsed": false,
    "scrolled": false
   },
   "outputs": [
    {
     "data": {
      "text/plain": [
       "0      2.69\n",
       "1      3.67\n",
       "2      3.68\n",
       "3      4.99\n",
       "4     40.80\n",
       "5     69.99\n",
       "6     93.20\n",
       "7    123.50\n",
       "8    149.62\n",
       "9    378.66\n",
       "Name: Amount, dtype: float64"
      ]
     },
     "execution_count": 129,
     "metadata": {},
     "output_type": "execute_result"
    }
   ],
   "source": [
    "first_amounts = amounts[:10][:]\n",
    "insertion_sort(first_amounts)\n",
    "first_amounts"
   ]
  },
  {
   "cell_type": "code",
   "execution_count": null,
   "metadata": {
    "collapsed": true
   },
   "outputs": [],
   "source": []
  },
  {
   "cell_type": "markdown",
   "metadata": {},
   "source": [
    "## Profiling The Insertion Sort\n",
    "\n",
    "We mentioned in the last screen that the insertion sort isn't especially high performance on large datasets. In the best case (when the array is already sorted in order), the performance is `O(n)`, since the algorithm doesn't need to make any swaps, and only touches each element once. In every other case, performance is `O(n^2)`, since multiple passes are required to sort.<br>\n",
    "\n",
    "The insertion sort is usually used on smaller datasets, since it's more performant than more complex sorting algorithms on small arrays of up to `20` elements. More complex sorting algorithms usually divide the dataset up into pieces, and use the insertion sort to sort the smaller pieces.<br>\n",
    "\n",
    "The space complexity of an insertion sort is `O(1)`, like a selection or bubble sort, since we aren't storing anything beyond a couple of counter and swap variables.<br>\n",
    "\n",
    "Let's profile the insertion sort to get a better handle of how it performs. We can do this with an operation counter inside the inner while loop. We'll then be able to make a plot that shows the performance of the sort relative to the length of `array`.\n"
   ]
  },
  {
   "cell_type": "code",
   "execution_count": null,
   "metadata": {
    "collapsed": true
   },
   "outputs": [],
   "source": []
  },
  {
   "cell_type": "markdown",
   "metadata": {},
   "source": [
    "* Modify the `insertion_sort` function to:\n",
    "  * Initialize `counter` with the value `0`.\n",
    "  * Add `1` to counter right inside the inner while loop (that performs checks on `j`).\n",
    "  * Return `counter`.\n",
    "* Create a list, `counters`.\n",
    "* Loop across each `length` in `lengths`:\n",
    "  * Assign the first `length` items in `amounts` to `first_amounts`.\n",
    "  * Sort `first_amounts` with `insertion_sort`, and append the result to `counters`.\n",
    "* Use the `matplotlib.pyplot.plot` function to plot lengths on the x-axis, and `counters` on the y-axis.\n",
    "* What does the line plot tell you?\n",
    "* Try varying the lengths and seeing what happens."
   ]
  },
  {
   "cell_type": "code",
   "execution_count": 165,
   "metadata": {
    "collapsed": true
   },
   "outputs": [],
   "source": [
    "import matplotlib.pyplot as plt\n",
    "\n",
    "def insertion_sort(array):\n",
    "    counter = 0\n",
    "    for i in range(1, len(array)):\n",
    "        j = i\n",
    "        while j > 0 and array[j - 1] > array[j]:\n",
    "            counter += 1\n",
    "            swap(array, j, j-1)\n",
    "            j-=1\n",
    "            \n",
    "    return counter"
   ]
  },
  {
   "cell_type": "code",
   "execution_count": 189,
   "metadata": {
    "collapsed": true
   },
   "outputs": [],
   "source": [
    "amounts_csv = pd.read_csv('../data/amounts.csv')\n",
    "amounts = amounts_csv['Amount']\n",
    "lengths = [1,10, 100, 1000]\n",
    "insertion_sort_counters = []"
   ]
  },
  {
   "cell_type": "code",
   "execution_count": 191,
   "metadata": {
    "collapsed": false,
    "scrolled": true
   },
   "outputs": [
    {
     "name": "stdout",
     "output_type": "stream",
     "text": [
      "1\n",
      "0\n",
      "10\n",
      "28\n",
      "100\n",
      "2358\n",
      "1000\n",
      "253735\n"
     ]
    }
   ],
   "source": [
    "for length in lengths:\n",
    "    print(length)\n",
    "    \n",
    "    first_amounts = amounts.head(length)\n",
    "    counter = insertion_sort(first_amounts)\n",
    "    print(counter)\n",
    "    \n",
    "    insertion_sort_counters.append(counter)"
   ]
  },
  {
   "cell_type": "code",
   "execution_count": 193,
   "metadata": {
    "collapsed": false,
    "scrolled": true
   },
   "outputs": [
    {
     "data": {
      "image/png": "[encoded data removed]",
      "text/plain": [
       "<matplotlib.figure.Figure at 0x23fc721fc50>"
      ]
     },
     "metadata": {},
     "output_type": "display_data"
    }
   ],
   "source": [
    "plt.plot(lengths, insertion_sort_counters);plt.show()"
   ]
  },
  {
   "cell_type": "code",
   "execution_count": null,
   "metadata": {
    "collapsed": true
   },
   "outputs": [],
   "source": []
  },
  {
   "cell_type": "markdown",
   "metadata": {},
   "source": [
    "## Comparing Sorting Algorithms\n",
    "\n",
    "You should have seen a graph like this in the last screen:\n",
    "\n",
    "![insertion-sort-perf1](https://s3.amazonaws.com/dq-content/173/insertion_sort_perf.png)\n",
    "\n",
    "Although the insertion sort also takes exponential time relative to the length of the input array, you'll notice that the total number of operations are lower than they were with the selection or bubble sorts. This makes the insertion sort a good choice for sorting small arrays, and it is commonly used in more complex sorting algorithms to sort small sublists. Here's a graph comparing all three algorithms:"
   ]
  },
  {
   "cell_type": "code",
   "execution_count": 205,
   "metadata": {
    "collapsed": false
   },
   "outputs": [
    {
     "data": {
      "image/png": "[encoded data removed]",
      "text/plain": [
       "<matplotlib.figure.Figure at 0x23fc6f40390>"
      ]
     },
     "metadata": {},
     "output_type": "display_data"
    }
   ],
   "source": [
    "plt.plot(lengths, selection_sort_counters, c='g', label='selection')\n",
    "plt.plot(lengths, bubble_sort_counters, c='b', label = 'bubble')\n",
    "plt.plot(lengths, insertion_sort_counters, c='r', label='insertion')\n",
    "plt.legend()\n",
    "plt.show()"
   ]
  },
  {
   "cell_type": "code",
   "execution_count": null,
   "metadata": {
    "collapsed": true
   },
   "outputs": [],
   "source": []
  },
  {
   "cell_type": "markdown",
   "metadata": {},
   "source": [
    "In future missions, we'll introduce the merge sort and other recursive algorithms that divide the array into small pieces, which the insertion sort can then sort efficiently.<br>\n",
    "\n",
    "In this mission, we covered the implementations of various sorting algorithms. As we mentioned in the first screen, understanding the tradeoffs of different sorting algorithms and being able to implement them will help you in situations where custom sorting logic is needed. This is fairly common in scenarios when you're working with large or complex datasets.<br>\n",
    "\n",
    "In the next screen, we'll learn about search algorithms that search arrays for a value."
   ]
  },
  {
   "cell_type": "code",
   "execution_count": null,
   "metadata": {
    "collapsed": true
   },
   "outputs": [],
   "source": []
  }
 ],
 "metadata": {
  "kernelspec": {
   "display_name": "Python [default]",
   "language": "python",
   "name": "python3"
  },
  "language_info": {
   "codemirror_mode": {
    "name": "ipython",
    "version": 3
   },
   "file_extension": ".py",
   "mimetype": "text/x-python",
   "name": "python",
   "nbconvert_exporter": "python",
   "pygments_lexer": "ipython3",
   "version": "3.5.4"
  }
 },
 "nbformat": 4,
 "nbformat_minor": 2
}
