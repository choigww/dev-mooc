{
 "cells": [
  {
   "cell_type": "markdown",
   "metadata": {},
   "source": [
    "# Optimizing Dataframe Memory Footprint"
   ]
  },
  {
   "cell_type": "code",
   "execution_count": null,
   "metadata": {
    "collapsed": true
   },
   "outputs": [],
   "source": []
  },
  {
   "cell_type": "markdown",
   "metadata": {},
   "source": [
    "## Introduction\n",
    "\n",
    "In previous courses in the [Data Scientist track](https://www.dataquest.io/path/data-scientist), we used pandas to explore and analyze data sets without much consideration for performance. While performance is rarely a problem with small data sets (under 100 megabytes), it can start to become an issue with larger data sets (100 megabytes to multiple gigabytes). Performance issues can make run times much longer, and cause code to fail entirely due to insufficient memory.<br>\n",
    "\n",
    "While tools like Spark can handle large data sets (100 gigabytes to multiple terabytes), taking full advantage of their capabilities usually requires more expensive hardware. And unlike pandas, they lack rich feature sets for high quality data cleaning, exploration, and analysis. For medium-sized data, we're better off trying to get more out of pandas, rather than switching to a different tool.<br>\n",
    "\n",
    "In this course, we'll explore different techniques for working with medium-sized data sets in pandas that don't fit in memory. In this mission, we'll learn how pandas represents the values in a data set in memory, and how to reduce a dataframe's memory footprint by selecting the appropriate data types for columns. In later missions, we'll learn how to process chunks of data in pandas, and augment pandas with SQLite.<br>\n",
    "\n",
    "We'll be working with data on the [Museum of Modern Art's exhibitions](https://www.moma.org/). More specifically, we'll use the file `MoMAExhibitions1929to1989.csv`, which you can download from [data.world](https://data.world/moma/exhibitions). Here's a preview of the data set:"
   ]
  },
  {
   "cell_type": "code",
   "execution_count": 1,
   "metadata": {},
   "outputs": [
    {
     "data": {
      "text/html": [
       "<div>\n",
       "<style scoped>\n",
       "    .dataframe tbody tr th:only-of-type {\n",
       "        vertical-align: middle;\n",
       "    }\n",
       "\n",
       "    .dataframe tbody tr th {\n",
       "        vertical-align: top;\n",
       "    }\n",
       "\n",
       "    .dataframe thead th {\n",
       "        text-align: right;\n",
       "    }\n",
       "</style>\n",
       "<table border=\"1\" class=\"dataframe\">\n",
       "  <thead>\n",
       "    <tr style=\"text-align: right;\">\n",
       "      <th></th>\n",
       "      <th>ExhibitionID</th>\n",
       "      <th>ExhibitionNumber</th>\n",
       "      <th>ExhibitionTitle</th>\n",
       "      <th>ExhibitionCitationDate</th>\n",
       "      <th>ExhibitionBeginDate</th>\n",
       "      <th>ExhibitionEndDate</th>\n",
       "      <th>ExhibitionSortOrder</th>\n",
       "      <th>ExhibitionURL</th>\n",
       "      <th>ExhibitionRole</th>\n",
       "      <th>ConstituentID</th>\n",
       "      <th>...</th>\n",
       "      <th>Institution</th>\n",
       "      <th>Nationality</th>\n",
       "      <th>ConstituentBeginDate</th>\n",
       "      <th>ConstituentEndDate</th>\n",
       "      <th>ArtistBio</th>\n",
       "      <th>Gender</th>\n",
       "      <th>VIAFID</th>\n",
       "      <th>WikidataID</th>\n",
       "      <th>ULANID</th>\n",
       "      <th>ConstituentURL</th>\n",
       "    </tr>\n",
       "  </thead>\n",
       "  <tbody>\n",
       "    <tr>\n",
       "      <th>0</th>\n",
       "      <td>2557.0</td>\n",
       "      <td>1</td>\n",
       "      <td>Cézanne, Gauguin, Seurat, Van Gogh</td>\n",
       "      <td>[MoMA Exh. #1, November 7-December 7, 1929]</td>\n",
       "      <td>11/7/1929</td>\n",
       "      <td>12/7/1929</td>\n",
       "      <td>1.0</td>\n",
       "      <td>http://www.moma.org/calendar/exhibitions/1767</td>\n",
       "      <td>Director</td>\n",
       "      <td>9168.0</td>\n",
       "      <td>...</td>\n",
       "      <td>NaN</td>\n",
       "      <td>American</td>\n",
       "      <td>1902.0</td>\n",
       "      <td>1981.0</td>\n",
       "      <td>American, 1902–1981</td>\n",
       "      <td>Male</td>\n",
       "      <td>109252853.0</td>\n",
       "      <td>Q711362</td>\n",
       "      <td>500241556.0</td>\n",
       "      <td>moma.org/artists/9168</td>\n",
       "    </tr>\n",
       "    <tr>\n",
       "      <th>1</th>\n",
       "      <td>2557.0</td>\n",
       "      <td>1</td>\n",
       "      <td>Cézanne, Gauguin, Seurat, Van Gogh</td>\n",
       "      <td>[MoMA Exh. #1, November 7-December 7, 1929]</td>\n",
       "      <td>11/7/1929</td>\n",
       "      <td>12/7/1929</td>\n",
       "      <td>1.0</td>\n",
       "      <td>http://www.moma.org/calendar/exhibitions/1767</td>\n",
       "      <td>Artist</td>\n",
       "      <td>1053.0</td>\n",
       "      <td>...</td>\n",
       "      <td>NaN</td>\n",
       "      <td>French</td>\n",
       "      <td>1839.0</td>\n",
       "      <td>1906.0</td>\n",
       "      <td>French, 1839–1906</td>\n",
       "      <td>Male</td>\n",
       "      <td>39374836.0</td>\n",
       "      <td>Q35548</td>\n",
       "      <td>500004793.0</td>\n",
       "      <td>moma.org/artists/1053</td>\n",
       "    </tr>\n",
       "    <tr>\n",
       "      <th>2</th>\n",
       "      <td>2557.0</td>\n",
       "      <td>1</td>\n",
       "      <td>Cézanne, Gauguin, Seurat, Van Gogh</td>\n",
       "      <td>[MoMA Exh. #1, November 7-December 7, 1929]</td>\n",
       "      <td>11/7/1929</td>\n",
       "      <td>12/7/1929</td>\n",
       "      <td>1.0</td>\n",
       "      <td>http://www.moma.org/calendar/exhibitions/1767</td>\n",
       "      <td>Artist</td>\n",
       "      <td>2098.0</td>\n",
       "      <td>...</td>\n",
       "      <td>NaN</td>\n",
       "      <td>French</td>\n",
       "      <td>1848.0</td>\n",
       "      <td>1903.0</td>\n",
       "      <td>French, 1848–1903</td>\n",
       "      <td>Male</td>\n",
       "      <td>27064953.0</td>\n",
       "      <td>Q37693</td>\n",
       "      <td>500011421.0</td>\n",
       "      <td>moma.org/artists/2098</td>\n",
       "    </tr>\n",
       "    <tr>\n",
       "      <th>3</th>\n",
       "      <td>2557.0</td>\n",
       "      <td>1</td>\n",
       "      <td>Cézanne, Gauguin, Seurat, Van Gogh</td>\n",
       "      <td>[MoMA Exh. #1, November 7-December 7, 1929]</td>\n",
       "      <td>11/7/1929</td>\n",
       "      <td>12/7/1929</td>\n",
       "      <td>1.0</td>\n",
       "      <td>http://www.moma.org/calendar/exhibitions/1767</td>\n",
       "      <td>Artist</td>\n",
       "      <td>2206.0</td>\n",
       "      <td>...</td>\n",
       "      <td>NaN</td>\n",
       "      <td>Dutch</td>\n",
       "      <td>1853.0</td>\n",
       "      <td>1890.0</td>\n",
       "      <td>Dutch, 1853–1890</td>\n",
       "      <td>Male</td>\n",
       "      <td>9854560.0</td>\n",
       "      <td>Q5582</td>\n",
       "      <td>500115588.0</td>\n",
       "      <td>moma.org/artists/2206</td>\n",
       "    </tr>\n",
       "    <tr>\n",
       "      <th>4</th>\n",
       "      <td>2557.0</td>\n",
       "      <td>1</td>\n",
       "      <td>Cézanne, Gauguin, Seurat, Van Gogh</td>\n",
       "      <td>[MoMA Exh. #1, November 7-December 7, 1929]</td>\n",
       "      <td>11/7/1929</td>\n",
       "      <td>12/7/1929</td>\n",
       "      <td>1.0</td>\n",
       "      <td>http://www.moma.org/calendar/exhibitions/1767</td>\n",
       "      <td>Artist</td>\n",
       "      <td>5358.0</td>\n",
       "      <td>...</td>\n",
       "      <td>NaN</td>\n",
       "      <td>French</td>\n",
       "      <td>1859.0</td>\n",
       "      <td>1891.0</td>\n",
       "      <td>French, 1859–1891</td>\n",
       "      <td>Male</td>\n",
       "      <td>24608076.0</td>\n",
       "      <td>Q34013</td>\n",
       "      <td>500008873.0</td>\n",
       "      <td>moma.org/artists/5358</td>\n",
       "    </tr>\n",
       "  </tbody>\n",
       "</table>\n",
       "<p>5 rows × 27 columns</p>\n",
       "</div>"
      ],
      "text/plain": [
       "   ExhibitionID ExhibitionNumber                     ExhibitionTitle  \\\n",
       "0        2557.0                1  Cézanne, Gauguin, Seurat, Van Gogh   \n",
       "1        2557.0                1  Cézanne, Gauguin, Seurat, Van Gogh   \n",
       "2        2557.0                1  Cézanne, Gauguin, Seurat, Van Gogh   \n",
       "3        2557.0                1  Cézanne, Gauguin, Seurat, Van Gogh   \n",
       "4        2557.0                1  Cézanne, Gauguin, Seurat, Van Gogh   \n",
       "\n",
       "                        ExhibitionCitationDate ExhibitionBeginDate  \\\n",
       "0  [MoMA Exh. #1, November 7-December 7, 1929]           11/7/1929   \n",
       "1  [MoMA Exh. #1, November 7-December 7, 1929]           11/7/1929   \n",
       "2  [MoMA Exh. #1, November 7-December 7, 1929]           11/7/1929   \n",
       "3  [MoMA Exh. #1, November 7-December 7, 1929]           11/7/1929   \n",
       "4  [MoMA Exh. #1, November 7-December 7, 1929]           11/7/1929   \n",
       "\n",
       "  ExhibitionEndDate  ExhibitionSortOrder  \\\n",
       "0         12/7/1929                  1.0   \n",
       "1         12/7/1929                  1.0   \n",
       "2         12/7/1929                  1.0   \n",
       "3         12/7/1929                  1.0   \n",
       "4         12/7/1929                  1.0   \n",
       "\n",
       "                                   ExhibitionURL ExhibitionRole  \\\n",
       "0  http://www.moma.org/calendar/exhibitions/1767       Director   \n",
       "1  http://www.moma.org/calendar/exhibitions/1767         Artist   \n",
       "2  http://www.moma.org/calendar/exhibitions/1767         Artist   \n",
       "3  http://www.moma.org/calendar/exhibitions/1767         Artist   \n",
       "4  http://www.moma.org/calendar/exhibitions/1767         Artist   \n",
       "\n",
       "   ConstituentID          ...           Institution Nationality  \\\n",
       "0         9168.0          ...                   NaN    American   \n",
       "1         1053.0          ...                   NaN      French   \n",
       "2         2098.0          ...                   NaN      French   \n",
       "3         2206.0          ...                   NaN       Dutch   \n",
       "4         5358.0          ...                   NaN      French   \n",
       "\n",
       "  ConstituentBeginDate ConstituentEndDate            ArtistBio Gender  \\\n",
       "0               1902.0             1981.0  American, 1902–1981   Male   \n",
       "1               1839.0             1906.0    French, 1839–1906   Male   \n",
       "2               1848.0             1903.0    French, 1848–1903   Male   \n",
       "3               1853.0             1890.0     Dutch, 1853–1890   Male   \n",
       "4               1859.0             1891.0    French, 1859–1891   Male   \n",
       "\n",
       "        VIAFID WikidataID       ULANID         ConstituentURL  \n",
       "0  109252853.0    Q711362  500241556.0  moma.org/artists/9168  \n",
       "1   39374836.0     Q35548  500004793.0  moma.org/artists/1053  \n",
       "2   27064953.0     Q37693  500011421.0  moma.org/artists/2098  \n",
       "3    9854560.0      Q5582  500115588.0  moma.org/artists/2206  \n",
       "4   24608076.0     Q34013  500008873.0  moma.org/artists/5358  \n",
       "\n",
       "[5 rows x 27 columns]"
      ]
     },
     "execution_count": 1,
     "metadata": {},
     "output_type": "execute_result"
    }
   ],
   "source": [
    "import pandas as pd\n",
    "moma = pd.read_csv('../data/moma.csv');moma.head()"
   ]
  },
  {
   "cell_type": "markdown",
   "metadata": {},
   "source": [
    "We've renamed this data set to `moma.csv`. Let's start by reading in `moma.csv` as a dataframe and looking up how much memory it consumes by default. The `DataFrame.info()` method returns an estimate for the amount of memory a dataframe consumes. \n",
    "\n",
    "#### Note that this is just an estimate of the memory footprint. We'll take a look at how the method calculates it in the next step."
   ]
  },
  {
   "cell_type": "code",
   "execution_count": 2,
   "metadata": {
    "scrolled": false
   },
   "outputs": [
    {
     "name": "stdout",
     "output_type": "stream",
     "text": [
      "<class 'pandas.core.frame.DataFrame'>\n",
      "RangeIndex: 34558 entries, 0 to 34557\n",
      "Data columns (total 27 columns):\n",
      "ExhibitionID              34129 non-null float64\n",
      "ExhibitionNumber          34558 non-null object\n",
      "ExhibitionTitle           34558 non-null object\n",
      "ExhibitionCitationDate    34557 non-null object\n",
      "ExhibitionBeginDate       34558 non-null object\n",
      "ExhibitionEndDate         33354 non-null object\n",
      "ExhibitionSortOrder       34558 non-null float64\n",
      "ExhibitionURL             34125 non-null object\n",
      "ExhibitionRole            34424 non-null object\n",
      "ConstituentID             34044 non-null float64\n",
      "ConstituentType           34424 non-null object\n",
      "DisplayName               34424 non-null object\n",
      "AlphaSort                 34424 non-null object\n",
      "FirstName                 31499 non-null object\n",
      "MiddleName                3804 non-null object\n",
      "LastName                  31998 non-null object\n",
      "Suffix                    157 non-null object\n",
      "Institution               2458 non-null object\n",
      "Nationality               26072 non-null object\n",
      "ConstituentBeginDate      25290 non-null float64\n",
      "ConstituentEndDate        19819 non-null float64\n",
      "ArtistBio                 26089 non-null object\n",
      "Gender                    25796 non-null object\n",
      "VIAFID                    26996 non-null float64\n",
      "WikidataID                22241 non-null object\n",
      "ULANID                    21688 non-null float64\n",
      "ConstituentURL            34044 non-null object\n",
      "dtypes: float64(7), object(20)\n",
      "memory usage: 7.1+ MB\n"
     ]
    }
   ],
   "source": [
    "# display the memory usage of the `moma` dataframe\n",
    "moma.info()"
   ]
  },
  {
   "cell_type": "code",
   "execution_count": null,
   "metadata": {},
   "outputs": [],
   "source": []
  },
  {
   "cell_type": "markdown",
   "metadata": {},
   "source": [
    "## How Pandas Represents Values in a Dataframe\n",
    "\n",
    "The `moma` dataframe has an estimated memory footprint of 7.1+ megabytes. To grasp how pandas calculates this estimate, we first need to understand how pandas represents different types of values. Based on the dataframe summary from the last step, we can tell that the `moma` dataframe only contains `float64` and `object` columns. Let's examine how pandas represents these values.\n",
    "\n",
    "#### The Internal Representation of a Dataframe\n",
    "\n",
    "Under the hood, pandas groups the columns into blocks of values of the same type. Here's a preview of how pandas stores the first seven columns of the `moma` dataframe:\n",
    "\n",
    "![how-pandas-represents-values-in-dataframe](https://s3.amazonaws.com/dq-content/pandas_dataframe_blocks.png)\n",
    "\n",
    "You'll notice that the blocks don't maintain references to the column names. This is because blocks are optimized for storing the actual values in the dataframe. The [BlockManager class](https://github.com/pandas-dev/pandas/blob/master/pandas/core/internals.py#L2691) is responsible for maintaining the mapping between the row and column indexes and the actual blocks. It acts as an API that provides access to the underlying data. Whenever we select, edit, or delete values, the dataframe class interfaces with the BlockManager class to translate our requests to function and method calls.<br>\n",
    "\n",
    "Each type has a specialized class in the `pandas.core.internals` module. Pandas uses the ObjectBlock class to represent the block containing string columns, and the FloatBlock class to represent the block containing float columns. For blocks representing numeric values like integers and floats, pandas combines the columns and stores them as a NumPy ndarray. The NumPy ndarray is built around a C array, and the values are stored in a contiguous block of memory. Due to this storage scheme, accessing a slice of values is incredibly fast.<br>\n",
    "\n",
    "To observe how the BlockManager organizes the data, we can retrieve the internal BlockManager object from within a dataframe using the `DataFrame._data` private attribute. This will return the column and row axes, as well as the individual Block instance for each unique type in the dataframe."
   ]
  },
  {
   "cell_type": "code",
   "execution_count": null,
   "metadata": {
    "collapsed": true
   },
   "outputs": [],
   "source": []
  },
  {
   "cell_type": "code",
   "execution_count": 3,
   "metadata": {
    "scrolled": false
   },
   "outputs": [
    {
     "name": "stdout",
     "output_type": "stream",
     "text": [
      "BlockManager\n",
      "Items: Index(['ExhibitionID', 'ExhibitionNumber', 'ExhibitionTitle',\n",
      "       'ExhibitionCitationDate', 'ExhibitionBeginDate', 'ExhibitionEndDate',\n",
      "       'ExhibitionSortOrder', 'ExhibitionURL', 'ExhibitionRole',\n",
      "       'ConstituentID', 'ConstituentType', 'DisplayName', 'AlphaSort',\n",
      "       'FirstName', 'MiddleName', 'LastName', 'Suffix', 'Institution',\n",
      "       'Nationality', 'ConstituentBeginDate', 'ConstituentEndDate',\n",
      "       'ArtistBio', 'Gender', 'VIAFID', 'WikidataID', 'ULANID',\n",
      "       'ConstituentURL'],\n",
      "      dtype='object')\n",
      "Axis 1: RangeIndex(start=0, stop=34558, step=1)\n",
      "FloatBlock: [0, 6, 9, 19, 20, 23, 25], 7 x 34558, dtype: float64\n",
      "ObjectBlock: [1, 2, 3, 4, 5, 7, 8, 10, 11, 12, 13, 14, 15, 16, 17, 18, 21, 22, 24, 26], 20 x 34558, dtype: object\n"
     ]
    }
   ],
   "source": [
    "# Retrieve the underlying BlockManager instance \n",
    "# and display it using the print() function.\n",
    "\n",
    "print(moma._data)"
   ]
  },
  {
   "cell_type": "code",
   "execution_count": null,
   "metadata": {
    "collapsed": true
   },
   "outputs": [],
   "source": []
  },
  {
   "cell_type": "markdown",
   "metadata": {
    "collapsed": true
   },
   "source": [
    "## Different Types Have Different Memory Footprints\n",
    "\n",
    "#### Float Columns\n",
    "The `float64` type represents each floating point value using **64 bits, or 8 bytes**. There are 34,558 rows in the dataframe, which means that each `float64` column in our dataframe uses **276,464 bytes of memory (34558 rows times 8 bytes)**.<br>\n",
    "\n",
    "Under the hood, pandas represents numeric values as NumPy ndarrays, and stores them in a continuous block of memory. This storage model consumes less space and allows us to access the values themselves quickly. Because pandas represents each value of the same type using the same number of bytes, and a NumPy ndarray stores the number of values, pandas can return the number of bytes a numeric column consumes quickly and accurately.<br>\n",
    "\n",
    "We can retrieve the amount of memory the values in a column consume using the `Series.nbytes` attribute.\n",
    "* If you'd like, you can use the console to confirm that the values in a `float64` column from our dataframe use 276,464 bytes.\n",
    "\n",
    "#### Object Columns\n",
    "\n",
    "The `object` type represents **string values**. It represents each value using Python string objects, partly due to the lack of support for missing string values in NumPy. **Because Python is a high-level, interpreted language, it doesn't have fine grained-control over how values in memory are stored**.<br>\n",
    "\n",
    "This limitation causes Python to store a list of strings in a **fragmented way that consumes more memory and is slower to access**. Each element in a Python list is really a pointer that contains the \"address\" for the actual value's location in memory. Here's a diagram that visualizes the **difference between how NumPy and Python store an array of values**:\n",
    "\n",
    "![difference-between-numpy-and-python-store-array](https://s3.amazonaws.com/dq-content/numpy_vs_python.png)\n",
    "\n",
    "If you want to learn more about the differences, read the blog post [Why Python Is Slow](https://jakevdp.github.io/blog/2014/05/09/why-python-is-slow/), which is the where the diagram came from.<br>\n",
    "\n",
    "While **each pointer takes up 8 bytes** of memory, **each actual string value uses a different amount of memory**.\n",
    "* If you'd like, you can use the console to confirm that the pointers for the values in an `object` column from our dataframe use 276,464 bytes (34,558 values times 8 bytes). Use the `Series.nbytes` attribute the same way we did before.\n",
    "\n",
    "#### How pandas Estimates the Dataframe Memory Footprint\n",
    "\n",
    "Because the NumPy array stores its own dimensions underneath and all of the values in a NumPy array have the same type, pandas can accurately calculate the memory footprint of numeric columns without having to look up each value.<br>\n",
    "\n",
    "For `object` type columns, however, pandas only knows that each value consumes at least 8 bytes (for just the pointer) without manually inspecting the linked value. This means that pandas represents each value in a `float64` column and an `object` column using 8 bytes of memory.<br>\n",
    "\n",
    "If you'll recall, a kilobyte is equivalent to 1,024 bytes (2^10), and a megabyte is equivalent to 1,048,576 bytes (2^20). With this in mind, we can calculate the estimated **shallow** memory footprint that the `DataFrame.info()` method returned."
   ]
  },
  {
   "cell_type": "code",
   "execution_count": null,
   "metadata": {
    "collapsed": true
   },
   "outputs": [],
   "source": []
  },
  {
   "cell_type": "markdown",
   "metadata": {},
   "source": [
    "* Recreate the estimate of the memory footprint by multiplying the number of values in the `moma` dataframe by 8. Assign this number to `total_bytes`.\n",
    "  * Use the `DataFrame.size` attribute to return the number of values in a dataframe.\n",
    "* Convert `total_bytes` from bytes to megabytes, and assign the result to `total_megabytes`.\n",
    "* Display `total_bytes` and `total_megabytes` using the `print()` function.\n"
   ]
  },
  {
   "cell_type": "code",
   "execution_count": 4,
   "metadata": {},
   "outputs": [
    {
     "data": {
      "text/plain": [
       "933066"
      ]
     },
     "execution_count": 4,
     "metadata": {},
     "output_type": "execute_result"
    }
   ],
   "source": [
    "moma.size"
   ]
  },
  {
   "cell_type": "code",
   "execution_count": 5,
   "metadata": {},
   "outputs": [
    {
     "name": "stdout",
     "output_type": "stream",
     "text": [
      "7464528\n",
      "7.1187286377\n"
     ]
    }
   ],
   "source": [
    "total_bytes = 8*moma.size\n",
    "total_megabytes = total_bytes / 2**20\n",
    "\n",
    "print(total_bytes)\n",
    "print(total_megabytes)"
   ]
  },
  {
   "cell_type": "code",
   "execution_count": null,
   "metadata": {},
   "outputs": [],
   "source": []
  },
  {
   "cell_type": "markdown",
   "metadata": {},
   "source": [
    "## Calculating the True Memory Footprint\n",
    "\n",
    "If you'll recall, the original memory footprint pandas returned was 7.1+ mb, which matches our result of 7.12 megabytes from the last step. To force pandas to inspect the memory for each linked string value and return the true memory footprint, we need to set the `memory_usage` parameter to `\"deep\"` when calling `DataFrame.info()`.\n",
    "\n",
    "```python\n",
    ">> moma.info(memory_usage=\"deep\")\n",
    "class 'pandas.core.frame.DataFrame'\n",
    "RangeIndex: 34558 entries, 0 to 34557\n",
    "Data columns (total 27 columns):\n",
    "ExhibitionID              34129 non-null float64\n",
    "ExhibitionNumber          34558 non-null object\n",
    "ExhibitionTitle           34558 non-null object\n",
    "ExhibitionCitationDate    34557 non-null object\n",
    "ExhibitionBeginDate       34558 non-null object\n",
    "ExhibitionEndDate         33354 non-null object\n",
    "ExhibitionSortOrder       34558 non-null float64\n",
    "ExhibitionURL             34125 non-null object\n",
    "ExhibitionRole            34424 non-null object\n",
    "ConstituentID             34044 non-null float64\n",
    "ConstituentType           34424 non-null object\n",
    "DisplayName               34424 non-null object\n",
    "AlphaSort                 34424 non-null object\n",
    "FirstName                 31499 non-null object\n",
    "MiddleName                3804 non-null object\n",
    "LastName                  31998 non-null object\n",
    "Suffix                    157 non-null object\n",
    "Institution               2458 non-null object\n",
    "Nationality               26072 non-null object\n",
    "ConstituentBeginDate      25290 non-null float64\n",
    "ConstituentEndDate        19819 non-null float64\n",
    "ArtistBio                 26089 non-null object\n",
    "Gender                    25796 non-null object\n",
    "VIAFID                    26996 non-null float64\n",
    "WikidataID                22241 non-null object\n",
    "ULANID                    21688 non-null float64\n",
    "ConstituentURL            34044 non-null object\n",
    "dtypes: float64(7), object(20)\n",
    "memory usage: 45.6 MB\n",
    "```\n",
    "\n",
    "**The true memory footprint of our dataframe is 45.6 megabytes**. This means that we'll require about 38.5 megabytes to store the actual Python strings for the `object` columns (45.6 - 7.1).<br>\n",
    "\n",
    "Let's calculate the amount of memory just the `object` columns are consuming (both the pointers as well as the actual linked string values). We can use the `DataFrame.memory_usage()` method to return the amount of memory each column consumes. We need to set the `deep` parameter to `True` to display the deep memory footprint of each column:\n",
    "\n",
    "```python\n",
    ">> moma.memory_usage(deep=True)\n",
    "Index                          80\n",
    "ExhibitionID               276464\n",
    "ExhibitionNumber          2085850\n",
    "ExhibitionTitle           3333695\n",
    "ExhibitionCitationDate    3577728\n",
    "ExhibitionBeginDate       2281851\n",
    "ExhibitionEndDate         2234872\n",
    "ExhibitionSortOrder        276464\n",
    "ExhibitionURL             3494606\n",
    "ExhibitionRole            2179383\n",
    "ConstituentID              276464\n",
    "ConstituentType           2313112\n",
    "DisplayName               2548428\n",
    "AlphaSort                 2534329\n",
    "FirstName                 2104929\n",
    "MiddleName                1218953\n",
    "LastName                  2162941\n",
    "Suffix                    1110349\n",
    "Institution               1221368\n",
    "Nationality               1949664\n",
    "ConstituentBeginDate       276464\n",
    "ConstituentEndDate         276464\n",
    "ArtistBio                 3183300\n",
    "Gender                    1858994\n",
    "VIAFID                     276464\n",
    "WikidataID                1821293\n",
    "ULANID                     276464\n",
    "ConstituentURL            2677922\n",
    "dtype: int64\n",
    "```"
   ]
  },
  {
   "cell_type": "code",
   "execution_count": null,
   "metadata": {},
   "outputs": [],
   "source": []
  },
  {
   "cell_type": "markdown",
   "metadata": {},
   "source": [
    "* Select just the `object` columns from the `moma` dataframe and assign the resulting dataframe to `obj_cols`.\n",
    "* Use the `DataFrame.memory_usage()` method and set the `deep` parameter to `True` to return the memory footprint of each column in obj_cols. Assign the resulting series to `obj_cols_mem`, and display it using a print statement.\n",
    "* Use the `Series.sum()` method to sum the values in `obj_cols_mem`, convert the result to megabytes, and assign the result to `obj_cols_sum`. Display `obj_cols_sum` using a print statement."
   ]
  },
  {
   "cell_type": "code",
   "execution_count": 10,
   "metadata": {},
   "outputs": [
    {
     "name": "stdout",
     "output_type": "stream",
     "text": [
      "Index                          80\n",
      "ExhibitionNumber          2085850\n",
      "ExhibitionTitle           3333695\n",
      "ExhibitionCitationDate    3577728\n",
      "ExhibitionBeginDate       2281851\n",
      "ExhibitionEndDate         2234872\n",
      "ExhibitionURL             3494606\n",
      "ExhibitionRole            2179383\n",
      "ConstituentType           2313112\n",
      "DisplayName               2548428\n",
      "AlphaSort                 2534329\n",
      "FirstName                 2104929\n",
      "MiddleName                1218953\n",
      "LastName                  2162941\n",
      "Suffix                    1110349\n",
      "Institution               1221368\n",
      "Nationality               1949664\n",
      "ArtistBio                 3183300\n",
      "Gender                    1858994\n",
      "WikidataID                1821293\n",
      "ConstituentURL            2677922\n",
      "dtype: int64\n"
     ]
    }
   ],
   "source": [
    "obj_cols = moma.select_dtypes(include=['object'])\n",
    "obj_cols_mem = obj_cols.memory_usage(deep=True)\n",
    "print(obj_cols_mem)"
   ]
  },
  {
   "cell_type": "code",
   "execution_count": 11,
   "metadata": {},
   "outputs": [
    {
     "name": "stdout",
     "output_type": "stream",
     "text": [
      "43.7675924301\n"
     ]
    }
   ],
   "source": [
    "obj_cols_sum = obj_cols_mem.sum()/2**20\n",
    "print(obj_cols_sum)"
   ]
  },
  {
   "cell_type": "code",
   "execution_count": null,
   "metadata": {},
   "outputs": [],
   "source": []
  },
  {
   "cell_type": "markdown",
   "metadata": {},
   "source": [
    "## Optimizing Integer Columns with Subtypes\n",
    "\n",
    "Pandas uses 43.8 megabytes of the total 45.6 megabytes to represent the `object` columns. This means that we can achieve the greatest memory savings by converting `object` columns to numeric ones. Now that we understand how pandas represents two common data types in memory, let's learn more about the other types in pandas, their subtypes, and other ways we can reduce a dataframe's memory footprint.<br>\n",
    "\n",
    "Many types in pandas have multiple subtypes that can use fewer bytes to represent each value. For example, the `float` type has the `float16`, `float32`, `float64`, and `float128` subtypes. The number portion of a type's name indicates the number of bits that type uses to represent values. For example, the subtypes we just listed use `2`, `4`, `8` and `16` bytes, respectively. The following table shows the subtypes for the most common pandas types:\n",
    "\n",
    "object|bool|float|int|datetime\n",
    "---|---|---|---|---\n",
    "object|bool|float16|int8|datetime64\n",
    " | |float32|int16| \n",
    " | |float64|int32| \n",
    " | |float128|int64|\n",
    " \n",
    "An `int8` value uses `1` byte (or `8` bits) to store a value, and can represent `256` values (`2^8`) in binary. This means that we can use this subtype to represent values ranging from `-128` to `127` (including `0`). We can use the `numpy.iinfo` class to verify the minimum and maximum values for each integer subtype:\n",
    "\n",
    "```python\n",
    ">> import numpy as np\n",
    ">> int_types = [\"int8\", \"int16\", \"int32\", \"int64\"]\n",
    ">> for it in int_types:\n",
    "..     print(np.iinfo(it))\n",
    "Machine parameters for int8\n",
    "---------------------------------------------------------------\n",
    "min = -128\n",
    "max = 127\n",
    "---------------------------------------------------------------\n",
    "\n",
    "Machine parameters for int16\n",
    "---------------------------------------------------------------\n",
    "min = -32768\n",
    "max = 32767\n",
    "---------------------------------------------------------------\n",
    "\n",
    "Machine parameters for int32\n",
    "---------------------------------------------------------------\n",
    "min = -2147483648\n",
    "max = 2147483647\n",
    "---------------------------------------------------------------\n",
    "\n",
    "Machine parameters for int64\n",
    "---------------------------------------------------------------\n",
    "min = -9223372036854775808\n",
    "max = 9223372036854775807\n",
    "---------------------------------------------------------------\n",
    "```\n",
    "\n",
    "Using `numpy.iinfo()` returns a `numpy.core.getlimits.iinfo` object. We can access the values we're interested in using its `min` and `max` attributes:\n",
    "\n",
    "```python\n",
    ">> np.iinfo(\"int8\").min\n",
    "-128\n",
    ">> np.iinfo(\"int8\").max\n",
    "127\n",
    "```\n",
    "\n",
    "We can use these functions to calculate the subtype that requires the least memory to represent all of the values in a given numeric column. We can save memory by converting within the same type (from `float64` to `float32` for example), or by converting between types (from `float64` to `int32`). Note that converting from `float64` to `int64` won't save any memory because values of both types are represented using `8` bytes.<br>\n",
    "\n",
    "Finally, we have to represent missing values in numeric columns using a `float` subtype because the NumPy `int` type doesn't have a missing value object (like `NaN` for `float` values). \n",
    "\n",
    "### Trying to convert an `int` column that contains missing values to a `float` column will generate an error.\n",
    "\n",
    "The `ExhibitionSortOrder` column is the only numeric column that doesn't contain any missing values:\n",
    "\n",
    "```python\n",
    ">> moma.select_dtypes(include=['float']).isnull().sum()\n",
    "ExhibitionID              429\n",
    "ExhibitionSortOrder         0\n",
    "ConstituentID             514\n",
    "ConstituentBeginDate     9268\n",
    "ConstituentEndDate      14739\n",
    "VIAFID                   7562\n",
    "ULANID                  12870\n",
    "dtype: int64\n",
    "```\n",
    "\n",
    "Let's find the `int` subtype that uses the smallest number of bytes to represent each value in this column."
   ]
  },
  {
   "cell_type": "code",
   "execution_count": null,
   "metadata": {},
   "outputs": [],
   "source": []
  },
  {
   "cell_type": "markdown",
   "metadata": {},
   "source": [
    "* Find the smallest `int` subtype that can accommodate the values in the `ExhibitionSortOrder` column. Use the `Series.astype()` function to set the type, and assign it back to the `moma` dataframe.\n",
    "  * If the column's maximum value is less than the `int8` maximum value and its minimum value is more than the `int8` minimum value, set the column's type to `int8`.\n",
    "  * Else, If the column's maximum value is less than the `int16` maximum value and its minimum value is more than the `int16` minimum value, set the column's type to `int16`.\n",
    "  * Else, If the column's maximum value is less than the `int32` maximum value and its minimum value is more than the `int32` minimum value, set the column's type to `int32`.\n",
    "  * Else, If the column's maximum value is less than the `int64` maximum value and its minimum value is more than the `int64` minimum value, set the column's type to `int64`.\n",
    "* Display the column's type and its memory usage."
   ]
  },
  {
   "cell_type": "code",
   "execution_count": 12,
   "metadata": {},
   "outputs": [],
   "source": [
    "import numpy as np"
   ]
  },
  {
   "cell_type": "code",
   "execution_count": 15,
   "metadata": {
    "scrolled": true
   },
   "outputs": [
    {
     "name": "stdout",
     "output_type": "stream",
     "text": [
      "1.0\n",
      "1768.0\n"
     ]
    }
   ],
   "source": [
    "print(moma['ExhibitionSortOrder'].min())\n",
    "print(moma['ExhibitionSortOrder'].max())"
   ]
  },
  {
   "cell_type": "code",
   "execution_count": 34,
   "metadata": {},
   "outputs": [
    {
     "name": "stdout",
     "output_type": "stream",
     "text": [
      "-128\n",
      "127\n"
     ]
    }
   ],
   "source": [
    "print(np.iinfo(\"int8\").min)\n",
    "print(np.iinfo(\"int8\").max)"
   ]
  },
  {
   "cell_type": "code",
   "execution_count": 35,
   "metadata": {
    "scrolled": true
   },
   "outputs": [
    {
     "name": "stdout",
     "output_type": "stream",
     "text": [
      "-32768\n",
      "32767\n"
     ]
    }
   ],
   "source": [
    "print(np.iinfo(\"int16\").min)\n",
    "print(np.iinfo(\"int16\").max)"
   ]
  },
  {
   "cell_type": "code",
   "execution_count": 22,
   "metadata": {},
   "outputs": [],
   "source": [
    "moma['ExhibitionSortOrder'] = moma['ExhibitionSortOrder'].astype('int16')"
   ]
  },
  {
   "cell_type": "code",
   "execution_count": 33,
   "metadata": {},
   "outputs": [
    {
     "data": {
      "text/plain": [
       "dtype('int16')"
      ]
     },
     "execution_count": 33,
     "metadata": {},
     "output_type": "execute_result"
    }
   ],
   "source": [
    "moma['ExhibitionSortOrder'].dtype"
   ]
  },
  {
   "cell_type": "code",
   "execution_count": 32,
   "metadata": {},
   "outputs": [
    {
     "data": {
      "text/plain": [
       "69196"
      ]
     },
     "execution_count": 32,
     "metadata": {},
     "output_type": "execute_result"
    }
   ],
   "source": [
    "moma['ExhibitionSortOrder'].memory_usage(deep=True)"
   ]
  },
  {
   "cell_type": "code",
   "execution_count": null,
   "metadata": {},
   "outputs": [],
   "source": []
  },
  {
   "cell_type": "code",
   "execution_count": 45,
   "metadata": {},
   "outputs": [
    {
     "name": "stdout",
     "output_type": "stream",
     "text": [
      "ExhibitionSortOrder optimized to: int16\n",
      "memory usage: 69196\n",
      "datattype: int16\n"
     ]
    },
    {
     "data": {
      "text/plain": [
       "'Success'"
      ]
     },
     "execution_count": 45,
     "metadata": {},
     "output_type": "execute_result"
    }
   ],
   "source": [
    "# a function to optimize column by its size\n",
    "\n",
    "def opt_column_size(df, column):\n",
    "    \n",
    "    col_min = df[column].min()\n",
    "    col_max = df[column].max()\n",
    "    \n",
    "    int_types = ['int8', 'int16', 'int32', 'int64']\n",
    "    iinfo_int_minmax = [(np.iinfo(it).min, np.iinfo(it).max) \n",
    "                        for it in int_types]\n",
    "    \n",
    "    for i, minmax in enumerate(iinfo_int_minmax):\n",
    "        \n",
    "        if col_min >= minmax[0] and col_max <= minmax[1]:\n",
    "            df[column] = df[column].astype(int_types[i])\n",
    "            \n",
    "            print(column, 'optimized to:', int_types[i])\n",
    "            print('memory usage:', df[column].memory_usage(deep=True))\n",
    "            print('datattype:', df[column].dtype)\n",
    "            \n",
    "            return 'Success'\n",
    "        \n",
    "    return 'Fail'\n",
    "    \n",
    "    \n",
    "        \n",
    "opt_column_size(moma, 'ExhibitionSortOrder')    "
   ]
  },
  {
   "cell_type": "code",
   "execution_count": null,
   "metadata": {
    "collapsed": true
   },
   "outputs": [],
   "source": []
  },
  {
   "cell_type": "markdown",
   "metadata": {},
   "source": [
    "## Optimizing Float Columns With Subtypes\n",
    "\n",
    "The optimal subtype for the `ExhibitionSortOrder` column is `int16`, which represents each value in the column using 2 bytes. Along with the index, which consumes 80 bytes of memory, the total memory the column consumes is 69196 bytes:\n",
    "\n",
    "```python\n",
    ">> value_bytes = len(moma) * 2 + 80\n",
    ">> value_bytes == moma['ExhibitionSortOrder'].memory_usage(deep=True)\n",
    "True\n",
    "```\n",
    "\n",
    "While we can use the `numpy.finfo` class along with the multiple if statement strategy to find the most space efficient `float` subtype for a column, this is a tedious process. At the same time, if we don't specify a `float` subtype when we use `Series.astype()` to convert a column, the function will use `float64` by default. If we try to convert a column to an `int` subtype without specifying a specific subtype, the default of `int64` will be used.\n",
    "\n",
    "```python\n",
    "# Reset the dataframe to the original CSV\n",
    ">> moma = pd.read_csv(\"moma.csv\")\n",
    ">> moma['ExhibitionSortOrder'] = moma['ExhibitionSortOrder'].astype('int')\n",
    ">> moma['ExhibitionSortOrder'].dtype\n",
    "dtype('int64')\n",
    "```\n",
    "\n",
    "To help find the most space efficient type for a column, we can use the `pandas.to_numeric()` function. First, we need to convert to the general dtype, then use the `downcast` parameter when calling this function to ask pandas to find the optimal subtype:\n",
    "\n",
    "```python\n",
    "# Reset the dataframe to original CSV\n",
    ">> moma = pd.read_csv(\"moma.csv\")\n",
    ">> moma['ExhibitionSortOrder'] = moma['ExhibitionSortOrder'].astype('int')\n",
    ">> moma['ExhibitionSortOrder'] = pd.to_numeric(moma['ExhibitionSortOrder'], downcast='integer')\n",
    ">> moma['ExhibitionSortOrder'].dtype\n",
    "dtype('int16')\n",
    "```\n",
    "\n",
    "Note that we have to pass the string `\"integer\"` into the `downcast` parameter, not `\"int\"`. This technique will only work if the column is already recognized as a numeric type.\n",
    "\n",
    "```python\n",
    "# Reset the dataframe to original CSV\n",
    ">> moma = pd.read_csv(\"moma.csv\")\n",
    ">> moma['ExhibitionSortOrder'] = pd.to_numeric(moma['ExhibitionSortOrder'], downcast='integer')\n",
    ">> moma['ExhibitionSortOrder'].dtype\n",
    "dtype('int64')\n",
    "```\n"
   ]
  },
  {
   "cell_type": "code",
   "execution_count": null,
   "metadata": {},
   "outputs": [],
   "source": []
  },
  {
   "cell_type": "markdown",
   "metadata": {},
   "source": [
    "* Convert the remaining `float` columns to the most space efficient `float` subtype.\n",
    "* Select the `float` columns again, and display their dtypes using the `DataFrame.dtypes` attribute."
   ]
  },
  {
   "cell_type": "code",
   "execution_count": 48,
   "metadata": {},
   "outputs": [
    {
     "data": {
      "text/plain": [
       "ExhibitionID            float64\n",
       "ConstituentID           float64\n",
       "ConstituentBeginDate    float64\n",
       "ConstituentEndDate      float64\n",
       "VIAFID                  float64\n",
       "ULANID                  float64\n",
       "dtype: object"
      ]
     },
     "execution_count": 48,
     "metadata": {},
     "output_type": "execute_result"
    }
   ],
   "source": [
    "float_cols = moma.select_dtypes(include=['float'])\n",
    "float_cols.dtypes"
   ]
  },
  {
   "cell_type": "code",
   "execution_count": 50,
   "metadata": {},
   "outputs": [
    {
     "name": "stdout",
     "output_type": "stream",
     "text": [
      "ExhibitionID float32\n",
      "ConstituentID float32\n",
      "ConstituentBeginDate float32\n",
      "ConstituentEndDate float32\n",
      "VIAFID float32\n",
      "ULANID float32\n"
     ]
    }
   ],
   "source": [
    "for fc in  float_cols.columns:\n",
    "    moma[fc] = pd.to_numeric(moma[fc], downcast='float')\n",
    "    print(fc, moma[fc].dtype)"
   ]
  },
  {
   "cell_type": "code",
   "execution_count": null,
   "metadata": {},
   "outputs": [],
   "source": []
  },
  {
   "cell_type": "markdown",
   "metadata": {},
   "source": [
    "## Converting To DateTime\n",
    "\n",
    "It looks like pandas couldn't find a more space efficient `float` subtype for the range of values in these `float` columns. Let's move on to another numeric dtype, `datetime`. If you take a look at the object columns in the dataframe you'll notice that we can convert both the `ExhibitionBeginDate` and the `ExhibitionEndDate` columns to the `datetime64` subtype to save space."
   ]
  },
  {
   "cell_type": "code",
   "execution_count": 53,
   "metadata": {},
   "outputs": [
    {
     "data": {
      "text/html": [
       "<div>\n",
       "<style scoped>\n",
       "    .dataframe tbody tr th:only-of-type {\n",
       "        vertical-align: middle;\n",
       "    }\n",
       "\n",
       "    .dataframe tbody tr th {\n",
       "        vertical-align: top;\n",
       "    }\n",
       "\n",
       "    .dataframe thead th {\n",
       "        text-align: right;\n",
       "    }\n",
       "</style>\n",
       "<table border=\"1\" class=\"dataframe\">\n",
       "  <thead>\n",
       "    <tr style=\"text-align: right;\">\n",
       "      <th></th>\n",
       "      <th>ExhibitionID</th>\n",
       "      <th>ExhibitionNumber</th>\n",
       "      <th>ExhibitionTitle</th>\n",
       "      <th>ExhibitionCitationDate</th>\n",
       "      <th>ExhibitionBeginDate</th>\n",
       "      <th>ExhibitionEndDate</th>\n",
       "      <th>ExhibitionSortOrder</th>\n",
       "      <th>ExhibitionURL</th>\n",
       "      <th>ExhibitionRole</th>\n",
       "      <th>ConstituentID</th>\n",
       "      <th>...</th>\n",
       "      <th>Institution</th>\n",
       "      <th>Nationality</th>\n",
       "      <th>ConstituentBeginDate</th>\n",
       "      <th>ConstituentEndDate</th>\n",
       "      <th>ArtistBio</th>\n",
       "      <th>Gender</th>\n",
       "      <th>VIAFID</th>\n",
       "      <th>WikidataID</th>\n",
       "      <th>ULANID</th>\n",
       "      <th>ConstituentURL</th>\n",
       "    </tr>\n",
       "  </thead>\n",
       "  <tbody>\n",
       "    <tr>\n",
       "      <th>0</th>\n",
       "      <td>2557.0</td>\n",
       "      <td>1</td>\n",
       "      <td>Cézanne, Gauguin, Seurat, Van Gogh</td>\n",
       "      <td>[MoMA Exh. #1, November 7-December 7, 1929]</td>\n",
       "      <td>11/7/1929</td>\n",
       "      <td>12/7/1929</td>\n",
       "      <td>1</td>\n",
       "      <td>http://www.moma.org/calendar/exhibitions/1767</td>\n",
       "      <td>Director</td>\n",
       "      <td>9168.0</td>\n",
       "      <td>...</td>\n",
       "      <td>NaN</td>\n",
       "      <td>American</td>\n",
       "      <td>1902.0</td>\n",
       "      <td>1981.0</td>\n",
       "      <td>American, 1902–1981</td>\n",
       "      <td>Male</td>\n",
       "      <td>109252856.0</td>\n",
       "      <td>Q711362</td>\n",
       "      <td>500241568.0</td>\n",
       "      <td>moma.org/artists/9168</td>\n",
       "    </tr>\n",
       "    <tr>\n",
       "      <th>1</th>\n",
       "      <td>2557.0</td>\n",
       "      <td>1</td>\n",
       "      <td>Cézanne, Gauguin, Seurat, Van Gogh</td>\n",
       "      <td>[MoMA Exh. #1, November 7-December 7, 1929]</td>\n",
       "      <td>11/7/1929</td>\n",
       "      <td>12/7/1929</td>\n",
       "      <td>1</td>\n",
       "      <td>http://www.moma.org/calendar/exhibitions/1767</td>\n",
       "      <td>Artist</td>\n",
       "      <td>1053.0</td>\n",
       "      <td>...</td>\n",
       "      <td>NaN</td>\n",
       "      <td>French</td>\n",
       "      <td>1839.0</td>\n",
       "      <td>1906.0</td>\n",
       "      <td>French, 1839–1906</td>\n",
       "      <td>Male</td>\n",
       "      <td>39374836.0</td>\n",
       "      <td>Q35548</td>\n",
       "      <td>500004800.0</td>\n",
       "      <td>moma.org/artists/1053</td>\n",
       "    </tr>\n",
       "  </tbody>\n",
       "</table>\n",
       "<p>2 rows × 27 columns</p>\n",
       "</div>"
      ],
      "text/plain": [
       "   ExhibitionID ExhibitionNumber                     ExhibitionTitle  \\\n",
       "0        2557.0                1  Cézanne, Gauguin, Seurat, Van Gogh   \n",
       "1        2557.0                1  Cézanne, Gauguin, Seurat, Van Gogh   \n",
       "\n",
       "                        ExhibitionCitationDate ExhibitionBeginDate  \\\n",
       "0  [MoMA Exh. #1, November 7-December 7, 1929]           11/7/1929   \n",
       "1  [MoMA Exh. #1, November 7-December 7, 1929]           11/7/1929   \n",
       "\n",
       "  ExhibitionEndDate  ExhibitionSortOrder  \\\n",
       "0         12/7/1929                    1   \n",
       "1         12/7/1929                    1   \n",
       "\n",
       "                                   ExhibitionURL ExhibitionRole  \\\n",
       "0  http://www.moma.org/calendar/exhibitions/1767       Director   \n",
       "1  http://www.moma.org/calendar/exhibitions/1767         Artist   \n",
       "\n",
       "   ConstituentID          ...           Institution Nationality  \\\n",
       "0         9168.0          ...                   NaN    American   \n",
       "1         1053.0          ...                   NaN      French   \n",
       "\n",
       "  ConstituentBeginDate ConstituentEndDate            ArtistBio Gender  \\\n",
       "0               1902.0             1981.0  American, 1902–1981   Male   \n",
       "1               1839.0             1906.0    French, 1839–1906   Male   \n",
       "\n",
       "        VIAFID WikidataID       ULANID         ConstituentURL  \n",
       "0  109252856.0    Q711362  500241568.0  moma.org/artists/9168  \n",
       "1   39374836.0     Q35548  500004800.0  moma.org/artists/1053  \n",
       "\n",
       "[2 rows x 27 columns]"
      ]
     },
     "execution_count": 53,
     "metadata": {},
     "output_type": "execute_result"
    }
   ],
   "source": [
    "moma.head(2)"
   ]
  },
  {
   "cell_type": "code",
   "execution_count": null,
   "metadata": {},
   "outputs": [],
   "source": []
  },
  {
   "cell_type": "markdown",
   "metadata": {},
   "source": [
    "While the `ExhibitionEndDate` column contains missing values, the `datetime` type supports missing values using the `NaT` object (similar to `NaN` for float).\n",
    "\n",
    "```python\n",
    ">> moma[\"ExhibitionEndDate\"].isnull().sum()\n",
    "1204\n",
    "```\n",
    "\n",
    "We can use the `pandas.to_datetime()` function to convert a column to the datetime type. This method accepts and returns a series object that we can assign back to the dataframe.\n"
   ]
  },
  {
   "cell_type": "code",
   "execution_count": null,
   "metadata": {},
   "outputs": [],
   "source": []
  },
  {
   "cell_type": "markdown",
   "metadata": {},
   "source": [
    "* Convert the `ExhibitionBeginDate` and `ExhibitionEndDate` columns to the `datetime` type, and assign the results back to the `moma` dataframe.\n",
    "* Display the memory usage for both of these columns using the `DataFrame.memory_usage()` method."
   ]
  },
  {
   "cell_type": "code",
   "execution_count": 54,
   "metadata": {},
   "outputs": [
    {
     "data": {
      "text/plain": [
       "Index                      80\n",
       "ExhibitionBeginDate    276464\n",
       "ExhibitionEndDate      276464\n",
       "dtype: int64"
      ]
     },
     "execution_count": 54,
     "metadata": {},
     "output_type": "execute_result"
    }
   ],
   "source": [
    "moma['ExhibitionBeginDate'] = pd.to_datetime(moma['ExhibitionBeginDate'])\n",
    "moma['ExhibitionEndDate'] = pd.to_datetime(moma['ExhibitionEndDate'])\n",
    "\n",
    "moma[['ExhibitionBeginDate', 'ExhibitionEndDate']].memory_usage(deep=True)"
   ]
  },
  {
   "cell_type": "code",
   "execution_count": null,
   "metadata": {},
   "outputs": [],
   "source": []
  },
  {
   "cell_type": "markdown",
   "metadata": {},
   "source": [
    "## Converting to Categorical to Save Memory\n",
    "\n",
    "Pandas introduced [Categoricals](http://pandas.pydata.org/pandas-docs/stable/categorical.html) in version 0.15. The `category` type uses integer values under the hood to represent the values in a column, rather than the raw values. Pandas uses a separate mapping dictionary that maps the integer values to the raw ones. This arrangement is useful whenever a column contains a limited set of values. When we convert a column to the `category` dtype, pandas uses the most space efficient int subtype that can represent all of the unique values in a column.<br>\n",
    "\n",
    "The `ConstituentType` column only has two unique values, for example. Converting it to the categorical type would save a lot of space.\n",
    "\n",
    "```python\n",
    ">> moma['ConstituentType'].memory_usage(deep=True)\n",
    "2313192\n",
    ">> print(moma['ConstituentType'].value_counts())\n",
    "Individual     32008\n",
    "Institution     2416\n",
    "Name: ConstituentType, dtype: int64\n",
    ">> moma['ConstituentType'] = moma['ConstituentType'].astype('category')\n",
    ">> moma['ConstituentType'].memory_usage(deep=True)\n",
    "34773\n",
    "```\n",
    "\n",
    "For most dataframe operations, pandas hides the integer representation from us and returns the raw data values (unless we specifically ask for the integers).\n",
    "\n",
    "\n",
    "```python\n",
    ">> moma['ConstituentType']\n",
    "0        Individual\n",
    "1        Individual\n",
    "2        Individual\n",
    "3        Individual\n",
    "4        Individual\n",
    "5        Individual\n",
    "...\n",
    "```\n",
    "\n",
    "\n",
    "In the following code, we use the Series.cat.codes attribute to return the integer values the category type uses to represent each value.\n",
    "\n",
    "\n",
    "```python\n",
    ">> moma['ConstituentType'].cat.codes\n",
    "0        0\n",
    "1        0\n",
    "2        0\n",
    "3        0\n",
    "4        0\n",
    "5        0\n",
    "...\n",
    "```\n",
    "\n",
    "The `category` subtype handle missing values by setting them to `-1`. Thanks to the flexibility of the `category` dtype, **we can drastically reduce a dataframe's memory footprint by converting all of the columns to this subtype**.\n",
    "\n",
    "```python\n",
    ">> moma = pd.read_csv(\"moma.csv\")\n",
    ">> for col in moma.columns:\n",
    "..    moma[col] = moma[col].astype('category')\n",
    ">> moma.info(memory_usage='deep')\n",
    "class 'pandas.core.frame.DataFrame'\n",
    "RangeIndex: 34558 entries, 0 to 34557\n",
    "Data columns (total 27 columns):\n",
    "ExhibitionID              34129 non-null category\n",
    "ExhibitionNumber          34558 non-null category\n",
    "ExhibitionTitle           34558 non-null category\n",
    "ExhibitionCitationDate    34557 non-null category\n",
    "ExhibitionBeginDate       34558 non-null category\n",
    "ExhibitionEndDate         33354 non-null category\n",
    "ExhibitionSortOrder       34558 non-null category\n",
    "ExhibitionURL             34125 non-null category\n",
    "ExhibitionRole            34424 non-null category\n",
    "ConstituentID             34044 non-null category\n",
    "ConstituentType           34424 non-null category\n",
    "DisplayName               34424 non-null category\n",
    "AlphaSort                 34424 non-null category\n",
    "FirstName                 31499 non-null category\n",
    "MiddleName                3804 non-null category\n",
    "LastName                  31998 non-null category\n",
    "Suffix                    157 non-null category\n",
    "Institution               2458 non-null category\n",
    "Nationality               26072 non-null category\n",
    "ConstituentBeginDate      25290 non-null category\n",
    "ConstituentEndDate        19819 non-null category\n",
    "ArtistBio                 26089 non-null category\n",
    "Gender                    25796 non-null category\n",
    "VIAFID                    26996 non-null category\n",
    "WikidataID                22241 non-null category\n",
    "ULANID                    21688 non-null category\n",
    "ConstituentURL            34044 non-null category\n",
    "dtypes: category(27)\n",
    "memory usage: 6.4 MB\n",
    "```\n",
    "\n",
    "Converting each column to the `category` dtype reduced the memory footprint to just `6.4 mb`. While converting all of the columns to this type is appealing, it's important to be aware of the **trade-offs**. \n",
    "### The biggest one is the inability to perform numerical computations. \n",
    "We can't do arithmetic with category columns or use methods like `Series.min()` and `Series.max()` without converting to a true numeric dtype first.<br>\n",
    "\n",
    "### We should stick to using the `category` type primarily for `object` columns where less than 50% of the values are unique. \n",
    "* If all of the values in a column are unique, the `category` type will end up using more memory. \n",
    "\n",
    "That's because the column is storing all of the raw string values in addition to the integer category codes. You can read more about the limitations of the `catgory` type in the [pandas documentation](http://pandas.pydata.org/pandas-docs/stable/categorical.html#gotchas)."
   ]
  },
  {
   "cell_type": "code",
   "execution_count": null,
   "metadata": {},
   "outputs": [],
   "source": []
  },
  {
   "cell_type": "markdown",
   "metadata": {},
   "source": [
    "* Convert all `object` columns where less than half of the column's values are unique to the `category` dtype.\n",
    "* Return the deep memory footprint using the `DataFrame.info()` method."
   ]
  },
  {
   "cell_type": "code",
   "execution_count": null,
   "metadata": {},
   "outputs": [],
   "source": []
  },
  {
   "cell_type": "code",
   "execution_count": 63,
   "metadata": {},
   "outputs": [
    {
     "name": "stdout",
     "output_type": "stream",
     "text": [
      "<class 'pandas.core.frame.DataFrame'>\n",
      "RangeIndex: 34558 entries, 0 to 34557\n",
      "Data columns (total 27 columns):\n",
      "ExhibitionID              34129 non-null float32\n",
      "ExhibitionNumber          34558 non-null object\n",
      "ExhibitionTitle           34558 non-null object\n",
      "ExhibitionCitationDate    34557 non-null object\n",
      "ExhibitionBeginDate       34558 non-null datetime64[ns]\n",
      "ExhibitionEndDate         33354 non-null datetime64[ns]\n",
      "ExhibitionSortOrder       34558 non-null int16\n",
      "ExhibitionURL             34125 non-null object\n",
      "ExhibitionRole            34424 non-null object\n",
      "ConstituentID             34044 non-null float32\n",
      "ConstituentType           34424 non-null object\n",
      "DisplayName               34424 non-null object\n",
      "AlphaSort                 34424 non-null object\n",
      "FirstName                 31499 non-null object\n",
      "MiddleName                3804 non-null object\n",
      "LastName                  31998 non-null object\n",
      "Suffix                    157 non-null object\n",
      "Institution               2458 non-null object\n",
      "Nationality               26072 non-null object\n",
      "ConstituentBeginDate      25290 non-null float32\n",
      "ConstituentEndDate        19819 non-null float32\n",
      "ArtistBio                 26089 non-null object\n",
      "Gender                    25796 non-null object\n",
      "VIAFID                    26996 non-null float32\n",
      "WikidataID                22241 non-null object\n",
      "ULANID                    21688 non-null float32\n",
      "ConstituentURL            34044 non-null object\n",
      "dtypes: datetime64[ns](2), float32(6), int16(1), object(18)\n",
      "memory usage: 40.8 MB\n"
     ]
    }
   ],
   "source": [
    "moma.info(memory_usage='deep')"
   ]
  },
  {
   "cell_type": "code",
   "execution_count": 68,
   "metadata": {},
   "outputs": [
    {
     "name": "stdout",
     "output_type": "stream",
     "text": [
      "The following columns has been converted to category dtype.\n",
      "['ConstituentURL']\n"
     ]
    }
   ],
   "source": [
    "obj_cols = moma.select_dtypes(include=['object'])\n",
    "\n",
    "for oc in obj_cols.columns:\n",
    "    changed = []\n",
    "    if len(moma[oc])*.5 > len(moma[oc].unique()):\n",
    "        moma[oc] = moma[oc].astype('category')\n",
    "        changed.append(oc)\n",
    "\n",
    "print('The following columns has been converted to category dtype.')\n",
    "print(changed)"
   ]
  },
  {
   "cell_type": "markdown",
   "metadata": {},
   "source": [
    "### `deep memory usage` decreased \n",
    "### from `40.8mb` to `8.9mb`"
   ]
  },
  {
   "cell_type": "code",
   "execution_count": 70,
   "metadata": {},
   "outputs": [
    {
     "name": "stdout",
     "output_type": "stream",
     "text": [
      "<class 'pandas.core.frame.DataFrame'>\n",
      "RangeIndex: 34558 entries, 0 to 34557\n",
      "Data columns (total 27 columns):\n",
      "ExhibitionID              34129 non-null float32\n",
      "ExhibitionNumber          34558 non-null category\n",
      "ExhibitionTitle           34558 non-null category\n",
      "ExhibitionCitationDate    34557 non-null category\n",
      "ExhibitionBeginDate       34558 non-null datetime64[ns]\n",
      "ExhibitionEndDate         33354 non-null datetime64[ns]\n",
      "ExhibitionSortOrder       34558 non-null int16\n",
      "ExhibitionURL             34125 non-null category\n",
      "ExhibitionRole            34424 non-null category\n",
      "ConstituentID             34044 non-null float32\n",
      "ConstituentType           34424 non-null category\n",
      "DisplayName               34424 non-null category\n",
      "AlphaSort                 34424 non-null category\n",
      "FirstName                 31499 non-null category\n",
      "MiddleName                3804 non-null category\n",
      "LastName                  31998 non-null category\n",
      "Suffix                    157 non-null category\n",
      "Institution               2458 non-null category\n",
      "Nationality               26072 non-null category\n",
      "ConstituentBeginDate      25290 non-null float32\n",
      "ConstituentEndDate        19819 non-null float32\n",
      "ArtistBio                 26089 non-null category\n",
      "Gender                    25796 non-null category\n",
      "VIAFID                    26996 non-null float32\n",
      "WikidataID                22241 non-null category\n",
      "ULANID                    21688 non-null float32\n",
      "ConstituentURL            34044 non-null category\n",
      "dtypes: category(18), datetime64[ns](2), float32(6), int16(1)\n",
      "memory usage: 8.9 MB\n"
     ]
    }
   ],
   "source": [
    "moma.info(memory_usage='deep')"
   ]
  },
  {
   "cell_type": "code",
   "execution_count": null,
   "metadata": {},
   "outputs": [],
   "source": []
  },
  {
   "cell_type": "markdown",
   "metadata": {},
   "source": [
    "## Selecting Types While Reading the Data In\n",
    "\n",
    "So far, we've explored ways to reduce the memory footprint of an **existing** dataframe. By reading the dataframe in first and then iterating on ways to save memory, we were able to understand the amount of memory we can expect to save from each optimization better. As we mentioned earlier in the mission, however, \n",
    "### we often won't have enough memory to represent all the values in a data set. \n",
    "* How can we apply memory-saving techniques when we can't even create the dataframe in the first place?\n",
    "\n",
    "Fortunately, we can specify the optimal column types when we read the data set in. The [pandas.read_csv()](http://pandas.pydata.org/pandas-docs/stable/generated/pandas.read_csv.html) function has **a few different parameters** that allow us to do this. The `dtype` parameter accepts a dictionary that has (string) column names as the keys and NumPy type objects as the values.\n",
    "\n",
    "```python\n",
    "import numpy as np\n",
    "col_types = {\"id\": np.int32}\n",
    "df = pd.read_csv('data.csv', dtypes=col_types)\n",
    "```\n",
    "\n",
    "The `parse_dates` parameter accepts a list of strings containing the names of the columns we want to parse as `datetime` values.\n",
    "\n",
    "```python\n",
    "df = pd.read_csv('data.csv', parse_dates=[\"StartDate\", \"EndDate\"])\n",
    "```\n",
    "\n",
    "Finally, we can use the `usecols` parameter to specify which columns we want to include. Many data sets have redundant columns, or ones that aren't useful for analysis. Leaving them out entirely can save a lot of memory. This parameter accepts a list of string values or integer indexes.\n",
    "\n",
    "```python\n",
    "df = pd.read_csv('data.csv', usecols=[\"StartDate\", \"EndDate\"])\n",
    "```"
   ]
  },
  {
   "cell_type": "code",
   "execution_count": null,
   "metadata": {},
   "outputs": [],
   "source": []
  },
  {
   "cell_type": "markdown",
   "metadata": {},
   "source": [
    "Read `\"moma.csv\"` into a dataframe named moma:\n",
    "* Set the `ExhibitionBeginDate` and `ExhibitionEndDate` columns to the `datetime` type.\n",
    "* Include only these columns:\n",
    "  * ExhibitionID\n",
    "  * ExhibitionNumber\n",
    "  * ExhibitionBeginDate\n",
    "  * ExhibitionEndDate\n",
    "  * ExhibitionSortOrder\n",
    "  * ExhibitionRole\n",
    "  * ConstituentType\n",
    "  * DisplayName\n",
    "  * Institution\n",
    "  * Nationality\n",
    "  * Gender\n",
    "* Display the deep memory footprint in megabytes."
   ]
  },
  {
   "cell_type": "code",
   "execution_count": 72,
   "metadata": {},
   "outputs": [],
   "source": [
    "keep_cols = ['ExhibitionID', 'ExhibitionNumber', 'ExhibitionBeginDate', 'ExhibitionEndDate', 'ExhibitionSortOrder', 'ExhibitionRole', 'ConstituentType', 'DisplayName', 'Institution', 'Nationality', 'Gender']\n",
    "to_parse_dates = ['ExhibitionBeginDate', 'ExhibitionEndDate']"
   ]
  },
  {
   "cell_type": "code",
   "execution_count": 73,
   "metadata": {},
   "outputs": [],
   "source": [
    "moma_defaultset = pd.read_csv('../data/moma.csv')\n",
    "moma_selected = pd.read_csv('../data/moma.csv',\n",
    "                            parse_dates = to_parse_dates,\n",
    "                           usecols=keep_cols)"
   ]
  },
  {
   "cell_type": "code",
   "execution_count": 74,
   "metadata": {},
   "outputs": [
    {
     "name": "stdout",
     "output_type": "stream",
     "text": [
      "<class 'pandas.core.frame.DataFrame'>\n",
      "RangeIndex: 34558 entries, 0 to 34557\n",
      "Data columns (total 27 columns):\n",
      "ExhibitionID              34129 non-null float64\n",
      "ExhibitionNumber          34558 non-null object\n",
      "ExhibitionTitle           34558 non-null object\n",
      "ExhibitionCitationDate    34557 non-null object\n",
      "ExhibitionBeginDate       34558 non-null object\n",
      "ExhibitionEndDate         33354 non-null object\n",
      "ExhibitionSortOrder       34558 non-null float64\n",
      "ExhibitionURL             34125 non-null object\n",
      "ExhibitionRole            34424 non-null object\n",
      "ConstituentID             34044 non-null float64\n",
      "ConstituentType           34424 non-null object\n",
      "DisplayName               34424 non-null object\n",
      "AlphaSort                 34424 non-null object\n",
      "FirstName                 31499 non-null object\n",
      "MiddleName                3804 non-null object\n",
      "LastName                  31998 non-null object\n",
      "Suffix                    157 non-null object\n",
      "Institution               2458 non-null object\n",
      "Nationality               26072 non-null object\n",
      "ConstituentBeginDate      25290 non-null float64\n",
      "ConstituentEndDate        19819 non-null float64\n",
      "ArtistBio                 26089 non-null object\n",
      "Gender                    25796 non-null object\n",
      "VIAFID                    26996 non-null float64\n",
      "WikidataID                22241 non-null object\n",
      "ULANID                    21688 non-null float64\n",
      "ConstituentURL            34044 non-null object\n",
      "dtypes: float64(7), object(20)\n",
      "memory usage: 45.6 MB\n"
     ]
    }
   ],
   "source": [
    "moma_defaultset.info(memory_usage='deep')"
   ]
  },
  {
   "cell_type": "code",
   "execution_count": 75,
   "metadata": {
    "scrolled": true
   },
   "outputs": [
    {
     "name": "stdout",
     "output_type": "stream",
     "text": [
      "<class 'pandas.core.frame.DataFrame'>\n",
      "RangeIndex: 34558 entries, 0 to 34557\n",
      "Data columns (total 11 columns):\n",
      "ExhibitionID           34129 non-null float64\n",
      "ExhibitionNumber       34558 non-null object\n",
      "ExhibitionBeginDate    34558 non-null datetime64[ns]\n",
      "ExhibitionEndDate      33354 non-null datetime64[ns]\n",
      "ExhibitionSortOrder    34558 non-null float64\n",
      "ExhibitionRole         34424 non-null object\n",
      "ConstituentType        34424 non-null object\n",
      "DisplayName            34424 non-null object\n",
      "Institution            2458 non-null object\n",
      "Nationality            26072 non-null object\n",
      "Gender                 25796 non-null object\n",
      "dtypes: datetime64[ns](2), float64(2), object(7)\n",
      "memory usage: 14.6 MB\n"
     ]
    }
   ],
   "source": [
    "moma_selected.info(memory_usage='deep')"
   ]
  },
  {
   "cell_type": "markdown",
   "metadata": {},
   "source": [
    "### Default `moma` deep memory usage: `45.6mb`\n",
    "### Selected `moma` deep memory usage: `14.6mb`"
   ]
  },
  {
   "cell_type": "code",
   "execution_count": null,
   "metadata": {},
   "outputs": [],
   "source": []
  },
  {
   "cell_type": "markdown",
   "metadata": {
    "collapsed": true
   },
   "source": [
    "## Next Steps\n",
    "In this mission, we learned how pandas represents values in a data set under the hood, and how to reduce a dataframe's memory footprint. In the next mission, we'll explore how to process dataframes in chunks."
   ]
  },
  {
   "cell_type": "code",
   "execution_count": null,
   "metadata": {
    "collapsed": true
   },
   "outputs": [],
   "source": []
  }
 ],
 "metadata": {
  "kernelspec": {
   "display_name": "Python 3",
   "language": "python",
   "name": "python3"
  },
  "language_info": {
   "codemirror_mode": {
    "name": "ipython",
    "version": 3
   },
   "file_extension": ".py",
   "mimetype": "text/x-python",
   "name": "python",
   "nbconvert_exporter": "python",
   "pygments_lexer": "ipython3",
   "version": "3.6.2"
  }
 },
 "nbformat": 4,
 "nbformat_minor": 2
}
