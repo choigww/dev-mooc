{
  "cells": [
    {
      "metadata": {
        "_uuid": "0e3f01c1ffb707e7e65e1aff3b1b01f20adb30e0"
      },
      "cell_type": "markdown",
      "source": "# Anaylze Live Bitcoin Blockchain Data\n### Using BigQuery\n\n[DATA SOURCE]\n* https://www.kaggle.com/bigquery/bitcoin-blockchain"
    },
    {
      "metadata": {
        "_cell_guid": "b147b5b0-0add-45f2-86cb-075d06203d8c",
        "_uuid": "d4e5c43ca2307b635d931fd9a56a8a0ca3c38b28",
        "trusted": false,
        "collapsed": true
      },
      "cell_type": "code",
      "source": "# This Python 3 environment comes with many helpful analytics libraries installed\n# It is defined by the kaggle/python docker image: https://github.com/kaggle/docker-python\n# For example, here's several helpful packages to load in \n\nimport numpy as np # linear algebra\nimport pandas as pd # data processing, CSV file I/O (e.g. pd.read_csv)\n\n# Input data files are available in the \"../input/\" directory.\n# For example, running this (by clicking run or pressing Shift+Enter) will list the files in the input directory\n\nfrom subprocess import check_output\nprint(check_output([\"ls\", \"../input\"]).decode(\"utf8\"))\n\n# Any results you write to the current directory are saved as output.",
      "execution_count": null,
      "outputs": []
    },
    {
      "metadata": {
        "trusted": true,
        "collapsed": true,
        "_uuid": "d0c432892078566cae9cdb8a3f5a149318483829"
      },
      "cell_type": "code",
      "source": "# import our bq_helper package\nimport bq_helper\n# create a helper object for our bigquery dataset\nbitcoin_blockchain = bq_helper.BigQueryHelper(active_project= \"bigquery-public-data\", \n                                       dataset_name = \"bitcoin_blockchain\")",
      "execution_count": 1,
      "outputs": []
    },
    {
      "metadata": {
        "trusted": true,
        "_uuid": "2d372a83647b25ddd1b95bb611d8aea4764897dc"
      },
      "cell_type": "code",
      "source": "# print a list of all the tables in the hacker_news dataset\nbitcoin_blockchain.list_tables()",
      "execution_count": 2,
      "outputs": [
        {
          "output_type": "execute_result",
          "execution_count": 2,
          "data": {
            "text/plain": "['transactions']"
          },
          "metadata": {}
        }
      ]
    },
    {
      "metadata": {
        "trusted": true,
        "_uuid": "b2398e0b3679e3ffd451f076863cdc9a8c304a21"
      },
      "cell_type": "code",
      "source": "# print information on all the columns in the \"transactions\" table\n# in the bitcoin_blockchain dataset\nbitcoin_blockchain.table_schema(\"transactions\")",
      "execution_count": 3,
      "outputs": [
        {
          "output_type": "execute_result",
          "execution_count": 3,
          "data": {
            "text/plain": "[SchemaField('timestamp', 'integer', 'NULLABLE', None, ()),\n SchemaField('transaction_id', 'string', 'NULLABLE', None, ()),\n SchemaField('inputs', 'record', 'REPEATED', None, (SchemaField('input_script_bytes', 'bytes', 'NULLABLE', None, ()), SchemaField('input_script_string', 'string', 'NULLABLE', None, ()), SchemaField('input_script_string_error', 'string', 'NULLABLE', None, ()), SchemaField('input_sequence_number', 'integer', 'NULLABLE', None, ()), SchemaField('input_pubkey_base58', 'string', 'NULLABLE', None, ()), SchemaField('input_pubkey_base58_error', 'string', 'NULLABLE', None, ()))),\n SchemaField('outputs', 'record', 'REPEATED', None, (SchemaField('output_satoshis', 'integer', 'NULLABLE', None, ()), SchemaField('output_script_bytes', 'bytes', 'NULLABLE', None, ()), SchemaField('output_script_string', 'string', 'NULLABLE', None, ()), SchemaField('output_script_string_error', 'string', 'NULLABLE', None, ()), SchemaField('output_pubkey_base58', 'string', 'NULLABLE', None, ()), SchemaField('output_pubkey_base58_error', 'string', 'NULLABLE', None, ()))),\n SchemaField('block_id', 'string', 'NULLABLE', None, ()),\n SchemaField('previous_block', 'string', 'NULLABLE', None, ()),\n SchemaField('merkle_root', 'string', 'NULLABLE', None, ()),\n SchemaField('nonce', 'integer', 'NULLABLE', None, ()),\n SchemaField('version', 'integer', 'NULLABLE', None, ()),\n SchemaField('work_terahash', 'integer', 'NULLABLE', None, ()),\n SchemaField('work_error', 'string', 'NULLABLE', None, ())]"
          },
          "metadata": {}
        }
      ]
    },
    {
      "metadata": {
        "trusted": true,
        "collapsed": true,
        "_uuid": "22e66ae0428e4e66778f332bd781376c3c6e69e5"
      },
      "cell_type": "code",
      "source": "",
      "execution_count": null,
      "outputs": []
    },
    {
      "metadata": {
        "_uuid": "052f8a2a523f02eecfad5d562bfa6887b3526cfa"
      },
      "cell_type": "markdown",
      "source": "Each SchemaField tells us about a specific column. In order, the information is:\n\n* The name of the column\n* The datatype in the column\n* [The mode of the column](https://cloud.google.com/bigquery/docs/reference/rest/v2/tables#schema.fields.mode) (NULLABLE means that a column allows NULL values, and is the default)\n* A description of the data in that column\n\nSo, for the first column, we have the following schema field:\n\n`SchemaField('timestamp', 'integer', 'NULLABLE', None, ())`\n\nThis tells us that the column is called \"timestamp\", that is has integers in it but that NULL values are allowed.\n\nWe can use the `BigQueryHelper.head()` method to check just the first couple of lines of of the \"transactions\" table to make sure this is right. (Sometimes you'll run into databases out there where the schema isn't an accurate description of the data anymore, so it's good to check. This shouldn't be a problem with any of the BigQuery databases on Kaggle, though!)"
    },
    {
      "metadata": {
        "trusted": true,
        "_uuid": "a52be4a95d9ea4d5f3ef990ff7eece3e93b48329"
      },
      "cell_type": "code",
      "source": "# preview the first couple lines of the \"full\" table\nbitcoin_blockchain.head(\"transactions\")",
      "execution_count": 4,
      "outputs": [
        {
          "output_type": "execute_result",
          "execution_count": 4,
          "data": {
            "text/plain": "       timestamp                                     transaction_id  \\\n0  1459899321000  1b477f4cb18ff8bf8ec9db41db055d4964a7bb5a717233...   \n1  1505105531000  2b1ebc7dd319a055cb641a8be486060a35967c0f759162...   \n2  1397223235000  23af21c63a3a4fd210c13f180be2a11a41ef3921e64b17...   \n3  1450714161000  613ca2e33f091d6cc65e895f9df9fdf920f51768c31581...   \n4  1507245877000  1fc8bcb803b7de957362396473b739bb4d554de39df7d0...   \n\n                                              inputs  \\\n0  [{'input_script_bytes': b'H0E\\x02!\\x00\\xb8\\x1e...   \n1  [{'input_script_bytes': b'H0E\\x02!\\x00\\xe7\\xde...   \n2  [{'input_script_bytes': b'I0F\\x02!\\x00\\xd6J\\xd...   \n3  [{'input_script_bytes': b'G0D\\x02 o_\\xaa\\xf1BU...   \n4  [{'input_script_bytes': b\"H0E\\x02!\\x00\\xady\\xf...   \n\n                                             outputs  \\\n0  [{'output_satoshis': 92391000, 'output_script_...   \n1  [{'output_satoshis': 118073619, 'output_script...   \n2  [{'output_satoshis': 124296849, 'output_script...   \n3  [{'output_satoshis': 8802607568, 'output_scrip...   \n4  [{'output_satoshis': 644000, 'output_script_by...   \n\n                                            block_id  \\\n0  000000000000000000d6e1daae1afafb15fafc6a10e362...   \n1  000000000000000000468aaa06a632b001642dc0f1d5ce...   \n2  000000000000000052129807a19524bc641c94fcaf5576...   \n3  0000000000000000031ca198948af2739f44886e08fb0b...   \n4  000000000000000000211de5eb2802860cfe49f1d074e1...   \n\n                                      previous_block  \\\n0  000000000000000003a394df13826b7338234398c7e95d...   \n1  00000000000000000118f7e8698b2d12256477ff4d18aa...   \n2  00000000000000000f1f9fc26857c7ada11eb7aa71e7ab...   \n3  0000000000000000040ebffc0bb174145b3c70b2b8534e...   \n4  0000000000000000004add76174511d81312c7697b0546...   \n\n                                         merkle_root       nonce    version  \\\n0  1b71a1985b1c2b1411978ecede0b879820eeb850b01683...  1060179002          4   \n1  41e98d8bdb4c4c694b189f3738f175a7e44fdd1401b466...   410256991  536870912   \n2  a21854e45d97f4263c06bf5757610bc5a46ee9932e1d45...  2267577094          2   \n3  a482702f28a391d9aa3997a898bea6b676c40c9e09a8e1...     1105219          4   \n4  15c893389c12936297ff9d2aa8a2bdb10e5b80f1ad673b...  1101865512  536870912   \n\n   work_terahash work_error  \n0     7166327277       None  \n1    39631328811       None  \n2      262844244       None  \n3     4013651092       None  \n4    48270297094       None  ",
            "text/html": "<div>\n<style>\n    .dataframe thead tr:only-child th {\n        text-align: right;\n    }\n\n    .dataframe thead th {\n        text-align: left;\n    }\n\n    .dataframe tbody tr th {\n        vertical-align: top;\n    }\n</style>\n<table border=\"1\" class=\"dataframe\">\n  <thead>\n    <tr style=\"text-align: right;\">\n      <th></th>\n      <th>timestamp</th>\n      <th>transaction_id</th>\n      <th>inputs</th>\n      <th>outputs</th>\n      <th>block_id</th>\n      <th>previous_block</th>\n      <th>merkle_root</th>\n      <th>nonce</th>\n      <th>version</th>\n      <th>work_terahash</th>\n      <th>work_error</th>\n    </tr>\n  </thead>\n  <tbody>\n    <tr>\n      <th>0</th>\n      <td>1459899321000</td>\n      <td>1b477f4cb18ff8bf8ec9db41db055d4964a7bb5a717233...</td>\n      <td>[{'input_script_bytes': b'H0E\\x02!\\x00\\xb8\\x1e...</td>\n      <td>[{'output_satoshis': 92391000, 'output_script_...</td>\n      <td>000000000000000000d6e1daae1afafb15fafc6a10e362...</td>\n      <td>000000000000000003a394df13826b7338234398c7e95d...</td>\n      <td>1b71a1985b1c2b1411978ecede0b879820eeb850b01683...</td>\n      <td>1060179002</td>\n      <td>4</td>\n      <td>7166327277</td>\n      <td>None</td>\n    </tr>\n    <tr>\n      <th>1</th>\n      <td>1505105531000</td>\n      <td>2b1ebc7dd319a055cb641a8be486060a35967c0f759162...</td>\n      <td>[{'input_script_bytes': b'H0E\\x02!\\x00\\xe7\\xde...</td>\n      <td>[{'output_satoshis': 118073619, 'output_script...</td>\n      <td>000000000000000000468aaa06a632b001642dc0f1d5ce...</td>\n      <td>00000000000000000118f7e8698b2d12256477ff4d18aa...</td>\n      <td>41e98d8bdb4c4c694b189f3738f175a7e44fdd1401b466...</td>\n      <td>410256991</td>\n      <td>536870912</td>\n      <td>39631328811</td>\n      <td>None</td>\n    </tr>\n    <tr>\n      <th>2</th>\n      <td>1397223235000</td>\n      <td>23af21c63a3a4fd210c13f180be2a11a41ef3921e64b17...</td>\n      <td>[{'input_script_bytes': b'I0F\\x02!\\x00\\xd6J\\xd...</td>\n      <td>[{'output_satoshis': 124296849, 'output_script...</td>\n      <td>000000000000000052129807a19524bc641c94fcaf5576...</td>\n      <td>00000000000000000f1f9fc26857c7ada11eb7aa71e7ab...</td>\n      <td>a21854e45d97f4263c06bf5757610bc5a46ee9932e1d45...</td>\n      <td>2267577094</td>\n      <td>2</td>\n      <td>262844244</td>\n      <td>None</td>\n    </tr>\n    <tr>\n      <th>3</th>\n      <td>1450714161000</td>\n      <td>613ca2e33f091d6cc65e895f9df9fdf920f51768c31581...</td>\n      <td>[{'input_script_bytes': b'G0D\\x02 o_\\xaa\\xf1BU...</td>\n      <td>[{'output_satoshis': 8802607568, 'output_scrip...</td>\n      <td>0000000000000000031ca198948af2739f44886e08fb0b...</td>\n      <td>0000000000000000040ebffc0bb174145b3c70b2b8534e...</td>\n      <td>a482702f28a391d9aa3997a898bea6b676c40c9e09a8e1...</td>\n      <td>1105219</td>\n      <td>4</td>\n      <td>4013651092</td>\n      <td>None</td>\n    </tr>\n    <tr>\n      <th>4</th>\n      <td>1507245877000</td>\n      <td>1fc8bcb803b7de957362396473b739bb4d554de39df7d0...</td>\n      <td>[{'input_script_bytes': b\"H0E\\x02!\\x00\\xady\\xf...</td>\n      <td>[{'output_satoshis': 644000, 'output_script_by...</td>\n      <td>000000000000000000211de5eb2802860cfe49f1d074e1...</td>\n      <td>0000000000000000004add76174511d81312c7697b0546...</td>\n      <td>15c893389c12936297ff9d2aa8a2bdb10e5b80f1ad673b...</td>\n      <td>1101865512</td>\n      <td>536870912</td>\n      <td>48270297094</td>\n      <td>None</td>\n    </tr>\n  </tbody>\n</table>\n</div>"
          },
          "metadata": {}
        }
      ]
    },
    {
      "metadata": {
        "trusted": true,
        "_uuid": "125b34a14350a89ecdca647cc17b94617acaa911"
      },
      "cell_type": "code",
      "source": "# preview the first ten entries in the by column of the full table\nbitcoin_blockchain.head(\"transactions\", selected_columns=\"timestamp\", num_rows=10)",
      "execution_count": 6,
      "outputs": [
        {
          "output_type": "execute_result",
          "execution_count": 6,
          "data": {
            "text/plain": "       timestamp\n0  1459899321000\n1  1505105531000\n2  1397223235000\n3  1450714161000\n4  1507245877000\n5  1508357096000\n6  1481216035000\n7  1514845427000\n8  1492157752000\n9  1473243858000",
            "text/html": "<div>\n<style>\n    .dataframe thead tr:only-child th {\n        text-align: right;\n    }\n\n    .dataframe thead th {\n        text-align: left;\n    }\n\n    .dataframe tbody tr th {\n        vertical-align: top;\n    }\n</style>\n<table border=\"1\" class=\"dataframe\">\n  <thead>\n    <tr style=\"text-align: right;\">\n      <th></th>\n      <th>timestamp</th>\n    </tr>\n  </thead>\n  <tbody>\n    <tr>\n      <th>0</th>\n      <td>1459899321000</td>\n    </tr>\n    <tr>\n      <th>1</th>\n      <td>1505105531000</td>\n    </tr>\n    <tr>\n      <th>2</th>\n      <td>1397223235000</td>\n    </tr>\n    <tr>\n      <th>3</th>\n      <td>1450714161000</td>\n    </tr>\n    <tr>\n      <th>4</th>\n      <td>1507245877000</td>\n    </tr>\n    <tr>\n      <th>5</th>\n      <td>1508357096000</td>\n    </tr>\n    <tr>\n      <th>6</th>\n      <td>1481216035000</td>\n    </tr>\n    <tr>\n      <th>7</th>\n      <td>1514845427000</td>\n    </tr>\n    <tr>\n      <th>8</th>\n      <td>1492157752000</td>\n    </tr>\n    <tr>\n      <th>9</th>\n      <td>1473243858000</td>\n    </tr>\n  </tbody>\n</table>\n</div>"
          },
          "metadata": {}
        }
      ]
    },
    {
      "metadata": {
        "trusted": true,
        "collapsed": true,
        "_uuid": "bc28c5a15ea2e79048856ca9bb6727c90ea3dcf1"
      },
      "cell_type": "code",
      "source": "",
      "execution_count": null,
      "outputs": []
    },
    {
      "metadata": {
        "_uuid": "5a17c3588066e9bbad1cfed83fc792d8590925d3"
      },
      "cell_type": "markdown",
      "source": "## Check the size of your query before you run it\n____\n\nBigQuery datasets are, true to their name, BIG. The [biggest dataset we've got on Kaggle so far](https://www.kaggle.com/github/github-repos) is 3 terabytes. Since the monthly quota for BigQuery queries is 5 terabytes, you can easily go past your 30-day quota by running just a couple of queries!\n\n> **What's a query?** A query is small piece of SQL code that specifies what data would you like to scan from a databases, and how much of that data you would like returned. (Note that your quota is on data *scanned*, not the amount of data returned.)\n\nOne way to help avoid this is to estimate how big your query will be before you actually execute it. You can do this with the `BigQueryHelper.estimate_query_size()` method. For the rest of this notebook, I'll be using an example query that finding the scores for every Hacker News post of the type \"job\". Let's see how much data it will scan if we actually ran it."
    },
    {
      "metadata": {
        "trusted": true,
        "_uuid": "db1ee9a0bd11b53d0bdabbad82722537c279228a"
      },
      "cell_type": "code",
      "source": "# this query looks in the transactions table in the bitcoin_blockchain\n# dataset, then gets the timestamp column from every row where \n# the merkle_root column has \"1b71a1985b1c2b1411978ecede0b879820eeb850b01683\" in it.\nquery = \"\"\"SELECT timestamp\n            FROM `bigquery-public-data.bitcoin_blockchain.transactions`\n            WHERE merkle_root = \"1b71a1985b1c2b1411978ecede0b879820eeb850b01683\" \n        \"\"\"\n\n# check how big this query will be\nbitcoin_blockchain.estimate_query_size(query)",
      "execution_count": 9,
      "outputs": [
        {
          "output_type": "execute_result",
          "execution_count": 9,
          "data": {
            "text/plain": "20.584799559786916"
          },
          "metadata": {}
        }
      ]
    },
    {
      "metadata": {
        "_uuid": "026bba63dcd4f34cd2200ffd3e01907f991dfba4"
      },
      "cell_type": "markdown",
      "source": "Running this query will take around 20 GB. (The query size is returned in gigabytes.)"
    },
    {
      "metadata": {
        "trusted": true,
        "collapsed": true,
        "_uuid": "982cf307c724a1a5eeebb8d4733175eaa315c17c"
      },
      "cell_type": "code",
      "source": "",
      "execution_count": null,
      "outputs": []
    },
    {
      "metadata": {
        "trusted": true,
        "_uuid": "d1483dd85c1596574a3f0db83479071a03653cbe"
      },
      "cell_type": "code",
      "source": "query = \"\"\"SELECT timestamp\n            FROM `bigquery-public-data.bitcoin_blockchain.transactions`\n            WHERE merkle_root = \"1b71a1985b1c2b1411978ecede0b879820eeb850b01683\"\n            ORDER BY 1 DESC\n            LIMIT 100\n        \"\"\"\n\n# check how big this query will be\nbitcoin_blockchain.estimate_query_size(query)",
      "execution_count": 11,
      "outputs": [
        {
          "output_type": "execute_result",
          "execution_count": 11,
          "data": {
            "text/plain": "20.584828574210405"
          },
          "metadata": {}
        }
      ]
    },
    {
      "metadata": {
        "trusted": true,
        "collapsed": true,
        "_uuid": "2b09137691e35221de53b47f2fbd7a281e9e70bf"
      },
      "cell_type": "code",
      "source": "",
      "execution_count": null,
      "outputs": []
    },
    {
      "metadata": {
        "_uuid": "4c945baa76d34841fb8af3d01e2d76117d49bd2f"
      },
      "cell_type": "markdown",
      "source": "## Actually run a query\n___\n\nNow that we know how to check the size of the query (and make sure we're not scanning several terabytes of data!) we're ready to actually run our first query. You have two methods available to help you do this:\n\n* *`BigQueryHelper.query_to_pandas(query)`*: This method takes a query and returns a Pandas dataframe.\n* *`BigQueryHelper.query_to_pandas_safe(query, max_gb_scanned=1)`*: This method takes a query and returns a Pandas dataframe only if the size of the query is less than the upperSizeLimit (1 gigabyte by default). \n\nHere's an example of a query that is larger than the specified upper limit."
    },
    {
      "metadata": {
        "trusted": true,
        "_uuid": "e731a510bf90122863f4a9072ae42460d85b1e11"
      },
      "cell_type": "code",
      "source": "# only run this query if it's less than 1 GB\nbitcoin_blockchain.query_to_pandas_safe(query, max_gb_scanned=1)",
      "execution_count": 12,
      "outputs": [
        {
          "output_type": "stream",
          "text": "Query cancelled; estimated size of 20.584828574210405 exceeds limit of 1 GB\n",
          "name": "stdout"
        }
      ]
    },
    {
      "metadata": {
        "_uuid": "c6b6e5433d1397139793caf6f737ccea40b25289"
      },
      "cell_type": "markdown",
      "source": "And here's an example where the same query returns a dataframe. "
    },
    {
      "metadata": {
        "trusted": true,
        "collapsed": true,
        "_uuid": "bbf80b0b679adb5823cb2d68bba1013c6565e191"
      },
      "cell_type": "code",
      "source": "# check out the scores of job postings (if the \n# query is smaller than 1 gig)\njob_post_scores = hacker_news.query_to_pandas_safe(query)",
      "execution_count": null,
      "outputs": []
    },
    {
      "metadata": {
        "trusted": true,
        "collapsed": true,
        "_uuid": "7bece7a44f117373753d20ace580358c63789331"
      },
      "cell_type": "code",
      "source": "",
      "execution_count": null,
      "outputs": []
    },
    {
      "metadata": {
        "trusted": true,
        "collapsed": true,
        "_uuid": "1e6bbd966a6e13112905ddb4a1b86b1a066d7cf8"
      },
      "cell_type": "code",
      "source": "",
      "execution_count": null,
      "outputs": []
    },
    {
      "metadata": {
        "trusted": true,
        "collapsed": true,
        "_uuid": "e17a144d3bcd042c3ddec7d52d7e9a00ff2c1dd1"
      },
      "cell_type": "code",
      "source": "",
      "execution_count": null,
      "outputs": []
    }
  ],
  "metadata": {
    "kernelspec": {
      "display_name": "Python 3",
      "language": "python",
      "name": "python3"
    },
    "language_info": {
      "name": "python",
      "version": "3.6.4",
      "mimetype": "text/x-python",
      "codemirror_mode": {
        "name": "ipython",
        "version": 3
      },
      "pygments_lexer": "ipython3",
      "nbconvert_exporter": "python",
      "file_extension": ".py"
    }
  },
  "nbformat": 4,
  "nbformat_minor": 1
}