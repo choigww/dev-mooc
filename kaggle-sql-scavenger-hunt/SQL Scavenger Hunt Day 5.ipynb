{
  "cells": [
    {
      "metadata": {
        "_cell_guid": "cec81818-3600-48d7-a19d-dc8409930bfe",
        "_uuid": "554a048d4dcc0b568f36913cbd2684a91c74bdc3"
      },
      "cell_type": "markdown",
      "source": "<table>\n    <tr>\n        <td>\n        <center>\n        <font size=\"+1\">If you haven't used BigQuery datasets on Kaggle previously, check out the <a href = \"https://www.kaggle.com/rtatman/sql-scavenger-hunt-handbook/\">Scavenger Hunt Handbook</a> kernel to get started.</font>\n        </center>\n        </td>\n    </tr>\n</table>\n\n___ \n\n## Previous days:\n\n* [**Day 1:** SELECT, FROM & WHERE](https://www.kaggle.com/rtatman/sql-scavenger-hunt-day-1/)\n* [**Day 2:** GROUP BY, HAVING & COUNT()](https://www.kaggle.com/rtatman/sql-scavenger-hunt-day-2/)\n* [**Day 3:** ORDER BY & Dates](https://www.kaggle.com/rtatman/sql-scavenger-hunt-day-3/)\n* [**Day 4:** WITH & AS](https://www.kaggle.com/rtatman/sql-scavenger-hunt-day-4/)\n\n____\n"
    },
    {
      "metadata": {
        "_cell_guid": "dd8e1d44-3b6b-4734-8b7b-ccd299ae3b55",
        "_uuid": "cd878ab863234c829f6b0c5d40970d6e2e7b05dc"
      },
      "cell_type": "markdown",
      "source": "## JOIN\n___\n\nWhew, we've come a long way from Day 1! By now, you have the tools to get many different configurations of information from a single table. But what if your database has more than one table and you want to look at information from multiple tables?\n\nThat's where JOIN comes in! Today, we're going to learn about how to use JOIN to combine data from two tables. This will let us answer more types of questions. It's also one of the more complex parts of SQL. Don't worry, though, we're going to go through some examples together. \n\n### JOIN\n___\n\nLet's keep working with our imaginary Pets dataset, but this time let's add a second table. The first table, \"Pets\", has three columns, with information on the ID number of each pet, the pet's name and the type of animal it is. The new table, \"Owners\", has three columns, with the ID number of each owner, the name of the owner and the ID number of their pet. \n\n![](https://i.imgur.com/W4gYoNg.png)\n\nEach row in each table is associated with a single pet and we refer to the same pets in both tables. We can tell this because there are two columns (ID in the \"Pets\" table and Pet_ID in the \"Owners\" table) that have the same information in them: the ID number of the pet. We can match rows that have the same value in these columns to get information that applies to a certain pet.\n\nFor example, we can see by looking at the Pets table that the pet that has the ID 1 is named Dr. Harris Bonkers. We can also tell by looking at the Owners table that the name of the owner who owns the pet with the ID 1 is named Aubrey Little. We can use this information to figure out that Dr. Harris Bonkers is owned by Aubrey Little. \n\nFortunately, we don't have to do this by hand to figure out which owner's name goes with which pet name. We can use JOIN to do this for us! JOIN allows us to create a third, new, table that has information from both tables. For example, we might want to have a single table with just two columns: one with the name of the pet and one with the name of the owner. This would look something like this: \n\n![](https://i.imgur.com/zqQdJTI.png)\n\nThe syntax to create that table looks like this:\n\n    SELECT p.Name AS Pet_Name, o.Name as Owner_Name\n    FROM `bigquery-public-data.pet_records.pets` as p\n    INNER JOIN `bigquery-public-data.pet_records.owners` as o ON p.ID = o.Pet_ID\nNotice that since the ID column exists in both datasets, we have to clarify which one we want to use. When you're joining tables, it's a good habit to specificy which table all of your columns come from. That way you don't have to pull up the schema every time you go back to read the query.\n\nThe type of JOIN we're using today is called an INNER JOIN. That just means that a row will only be put in the final output table if the value in the column you're using to combine them shows up in both the tables you're joining. For example, if Tom's ID code of 4 didn't exist in the `Pets` table, we would only get 3 rows back from this query. There are other types of JOIN, but an INNER JOIN won't give you an output that's larger than your input tables, so it's a good one to start with.   \n\n> **What does \"ON\" do?** It says which column in each table to look at to combine the tables. Here were using the \"ID\" column from the Pets table and the \"Pet_ID\" table from the Owners table.\n\nNow that we've talked about the concept behind using JOIN, let's work through an example together."
    },
    {
      "metadata": {
        "_cell_guid": "ef431a97-04fc-49f3-ba4c-8f5a09e915df",
        "_uuid": "d3a4faea2d05628aad3254f0aa5e884899b6d04a"
      },
      "cell_type": "markdown",
      "source": "## Example: How many files are covered by each license?\n____\n\nToday we're going to be using the GitHub Repos dataset. GitHub is an place for people to store & collaborate on different versions of their computer code. A \"repo\" is a collection of code associated with a specific project. \n\nMost public code on Github is shared under a specific license, which determines how it can be used and by who. For our example, we're going to look at how many different files have been released under each licenses. \n\nFirst, of course, we need to get our environment ready to go:"
    },
    {
      "metadata": {
        "_cell_guid": "77af0d7f-ad5e-4296-b2a8-114cd7c228eb",
        "_uuid": "7d374b8d3f3d0014c74ee370038a5f927c2d790a",
        "collapsed": true,
        "trusted": true
      },
      "cell_type": "code",
      "source": "# import package with helper functions \nimport bq_helper\n\n# create a helper object for this dataset\ngithub = bq_helper.BigQueryHelper(active_project=\"bigquery-public-data\",\n                                              dataset_name=\"github_repos\")",
      "execution_count": 83,
      "outputs": []
    },
    {
      "metadata": {
        "_cell_guid": "a2806bda-371b-4c95-92ed-bc70919922b6",
        "_uuid": "a13315b4345edff6264d4bbe0ef16e1db8940d1d"
      },
      "cell_type": "markdown",
      "source": "Now we're ready to get started on our query. This one is going to be a bit of a beast, so stick with me! The only new syntax we'll see is around the JOIN clause, everything is something we've already learned. :)\n\nFirst, I'm going to specify which columns I'd like to be returned in the final table that's returned to me. Here, I'm selecting the COUNT of the \"path\" column from the sample_files table and then calling it \"number_of_files\". I'm *also* specifying that I was to include the \"license\" column, even though there's no \"license\" column in the \"sample_files\" table.\n\n        SELECT L.license, COUNT(sf.path) AS number_of_files\n        FROM `bigquery-public-data.github_repos.sample_files` as sf\nSpeaking of the JOIN clause, we still haven't actually told SQL we want to join anything! To do this, we need to specify what type of join we want (in this case an inner join) and how which columns we want to JOIN ON. Here, I'm using ON to specify that I want to use the \"repo_name\" column from the each table.\n\n    INNER JOIN `bigquery-public-data.github_repos.licenses` as L \n            ON sf.repo_name = L.repo_name\nAnd, finally, we have a GROUP BY and ORDER BY clause that apply to the final table that's been returned to us. We've seen these a couple of times at this point. :)\n\n        GROUP BY license\n        ORDER BY number_of_files DESC\n Alright, that was a lot, but you should have an idea what each part of this query is doing. :) Without any further ado, let' put it into action."
    },
    {
      "metadata": {
        "_cell_guid": "6827dc13-ec68-45f2-9a0d-56612e2849ca",
        "_uuid": "6bc97eef84b58534150aae434df38e1a21348fbb",
        "trusted": true,
        "collapsed": true
      },
      "cell_type": "code",
      "source": "# You can use two dashes (--) to add comments in SQL\nquery = (\"\"\"\n        -- Select all the columns we want in our joined table\n        SELECT L.license, COUNT(sf.path) AS number_of_files\n        FROM `bigquery-public-data.github_repos.sample_files` as sf\n        -- Table to merge into sample_files\n        INNER JOIN `bigquery-public-data.github_repos.licenses` as L \n            ON sf.repo_name = L.repo_name -- what columns should we join on?\n        GROUP BY L.license\n        ORDER BY number_of_files DESC\n        \"\"\")\n\nfile_count_by_license = github.query_to_pandas_safe(query, max_gb_scanned=6)",
      "execution_count": 3,
      "outputs": []
    },
    {
      "metadata": {
        "_cell_guid": "67b338a5-69d5-4dc8-90bf-04cec2459204",
        "_uuid": "6436a3edcdf91ee115c1abf12e6337566274954d"
      },
      "cell_type": "markdown",
      "source": "Whew, that was a big query! But it gave us a nice tidy little table that nicely summarizes how many files have been committed under each license:  "
    },
    {
      "metadata": {
        "_cell_guid": "6b468869-6125-475c-95ef-424a85e06b5b",
        "_uuid": "fe0c791791d501a49bcbcce86948357f552888a3",
        "trusted": true
      },
      "cell_type": "code",
      "source": "# print out all the returned results\nprint(file_count_by_license)",
      "execution_count": 4,
      "outputs": [
        {
          "name": "stdout",
          "output_type": "stream",
          "text": "         license  number_of_files\n0        gpl-2.0         22031724\n1            mit         21186498\n2     apache-2.0          7578582\n3        gpl-3.0          5550163\n4   bsd-3-clause          3319394\n5       agpl-3.0          1435105\n6       lgpl-2.1           962034\n7   bsd-2-clause           779810\n8       lgpl-3.0           684163\n9        mpl-2.0           504080\n10       cc0-1.0           437764\n11       epl-1.0           389338\n12     unlicense           209350\n13  artistic-2.0           155854\n14           isc           133570\n"
        }
      ]
    },
    {
      "metadata": {
        "_cell_guid": "80698da7-8e48-4f68-9913-1c6969b9739a",
        "_uuid": "0d4000d1bca5c05b76960a00f5c8e096a65fda76"
      },
      "cell_type": "markdown",
      "source": "And that's how to get started using JOIN in BigQuery! There are many other kinds of joins (you can [read about some here](https://cloud.google.com/bigquery/docs/reference/standard-sql/query-syntax#join-types)), so once you're very comfortable with INNER JOIN you can start exploring some of them. :)"
    },
    {
      "metadata": {
        "_cell_guid": "d4e528a6-ea14-47ac-a82e-a31c92bbc083",
        "_uuid": "02471d34ed7a800f149a4b757f119d656d7306d0"
      },
      "cell_type": "markdown",
      "source": "# Scavenger hunt\n___\n\nNow it's your turn! Here is the question I would like you to get the data to answer. Just one today, since you've been working hard this week. :)\n\n*  How many commits (recorded in the \"sample_commits\" table) have been made in repos written in the Python programming language? (I'm looking for the number of commits per repo for all the repos written in Python.\n    * You'll want to JOIN the sample_files and sample_commits questions to answer this.\n    * **Hint:** You can figure out which files are written in Python by filtering results from the \"sample_files\" table using `WHERE path LIKE '%.py'`. This will return results where the \"path\" column ends in the text \".py\", which is one way to identify which files have Python code.\n\nIn order to answer these questions, you can fork this notebook by hitting the blue \"Fork Notebook\" at the very top of this page (you may have to scroll up). \"Forking\" something is making a copy of it that you can edit on your own without changing the original."
    },
    {
      "metadata": {
        "collapsed": true,
        "trusted": true,
        "_uuid": "ef2526289df1e62afa49ef25b4189a0b15060d62"
      },
      "cell_type": "code",
      "source": "query = (\"\"\"\n        -- Select all the columns we want in our joined table\n        SELECT L.license, COUNT(sf.path) AS number_of_files\n        FROM `bigquery-public-data.github_repos.sample_files` as sf\n        -- Table to merge into sample_files\n        INNER JOIN `bigquery-public-data.github_repos.licenses` as L \n            ON sf.repo_name = L.repo_name -- what columns should we join on?\n        GROUP BY L.license\n        ORDER BY number_of_files DESC\n        \"\"\")\n\nfile_count_by_license = github.query_to_pandas_safe(query, max_gb_scanned=6)",
      "execution_count": null,
      "outputs": []
    },
    {
      "metadata": {
        "_cell_guid": "dc5ecdc2-d107-414f-b185-e68ee13f54f0",
        "_uuid": "2c7648bc2e0ecaa97f78fde441e104a570c3bc9c",
        "scrolled": false,
        "trusted": true
      },
      "cell_type": "code",
      "source": "# head of sample_files table\ngithub.head('sample_files')",
      "execution_count": 6,
      "outputs": [
        {
          "data": {
            "text/html": "<div>\n<style>\n    .dataframe thead tr:only-child th {\n        text-align: right;\n    }\n\n    .dataframe thead th {\n        text-align: left;\n    }\n\n    .dataframe tbody tr th {\n        vertical-align: top;\n    }\n</style>\n<table border=\"1\" class=\"dataframe\">\n  <thead>\n    <tr style=\"text-align: right;\">\n      <th></th>\n      <th>repo_name</th>\n      <th>ref</th>\n      <th>path</th>\n      <th>mode</th>\n      <th>id</th>\n      <th>symlink_target</th>\n    </tr>\n  </thead>\n  <tbody>\n    <tr>\n      <th>0</th>\n      <td>git/git</td>\n      <td>refs/heads/master</td>\n      <td>RelNotes</td>\n      <td>40960</td>\n      <td>62615ffa4e97803da96aefbc798ab50f949a8db7</td>\n      <td>Documentation/RelNotes/2.10.0.txt</td>\n    </tr>\n    <tr>\n      <th>1</th>\n      <td>np/ling</td>\n      <td>refs/heads/master</td>\n      <td>tests/success/plug_compose.t/plug_compose.ll</td>\n      <td>40960</td>\n      <td>0c1605e4b447158085656487dc477f7670c4bac1</td>\n      <td>../../../fixtures/all/plug_compose.ll</td>\n    </tr>\n    <tr>\n      <th>2</th>\n      <td>np/ling</td>\n      <td>refs/heads/master</td>\n      <td>fixtures/strict-par-success/parallel_assoc_lef...</td>\n      <td>40960</td>\n      <td>b59bff84ec03d12fabd3b51a27ed7e39a180097e</td>\n      <td>../all/parallel_assoc_left.ll</td>\n    </tr>\n    <tr>\n      <th>3</th>\n      <td>np/ling</td>\n      <td>refs/heads/master</td>\n      <td>fixtures/sequence/parallel_assoc_2tensor2_left.ll</td>\n      <td>40960</td>\n      <td>f29523e3fb65702d99478e429eac6f801f32152b</td>\n      <td>../all/parallel_assoc_2tensor2_left.ll</td>\n    </tr>\n    <tr>\n      <th>4</th>\n      <td>np/ling</td>\n      <td>refs/heads/master</td>\n      <td>fixtures/success/my_dual.ll</td>\n      <td>40960</td>\n      <td>38a3af095088f90dfc956cb990e893909c3ab286</td>\n      <td>../all/my_dual.ll</td>\n    </tr>\n  </tbody>\n</table>\n</div>",
            "text/plain": "  repo_name                ref  \\\n0   git/git  refs/heads/master   \n1   np/ling  refs/heads/master   \n2   np/ling  refs/heads/master   \n3   np/ling  refs/heads/master   \n4   np/ling  refs/heads/master   \n\n                                                path   mode  \\\n0                                           RelNotes  40960   \n1       tests/success/plug_compose.t/plug_compose.ll  40960   \n2  fixtures/strict-par-success/parallel_assoc_lef...  40960   \n3  fixtures/sequence/parallel_assoc_2tensor2_left.ll  40960   \n4                        fixtures/success/my_dual.ll  40960   \n\n                                         id  \\\n0  62615ffa4e97803da96aefbc798ab50f949a8db7   \n1  0c1605e4b447158085656487dc477f7670c4bac1   \n2  b59bff84ec03d12fabd3b51a27ed7e39a180097e   \n3  f29523e3fb65702d99478e429eac6f801f32152b   \n4  38a3af095088f90dfc956cb990e893909c3ab286   \n\n                           symlink_target  \n0       Documentation/RelNotes/2.10.0.txt  \n1   ../../../fixtures/all/plug_compose.ll  \n2           ../all/parallel_assoc_left.ll  \n3  ../all/parallel_assoc_2tensor2_left.ll  \n4                       ../all/my_dual.ll  "
          },
          "execution_count": 6,
          "metadata": {},
          "output_type": "execute_result"
        }
      ]
    },
    {
      "metadata": {
        "trusted": true,
        "_uuid": "bc4914839c577ee08dda67ddd72460642c6b58cf"
      },
      "cell_type": "code",
      "source": "# head of sample_commits table\ngithub.head('sample_commits')",
      "execution_count": 7,
      "outputs": [
        {
          "data": {
            "text/html": "<div>\n<style>\n    .dataframe thead tr:only-child th {\n        text-align: right;\n    }\n\n    .dataframe thead th {\n        text-align: left;\n    }\n\n    .dataframe tbody tr th {\n        vertical-align: top;\n    }\n</style>\n<table border=\"1\" class=\"dataframe\">\n  <thead>\n    <tr style=\"text-align: right;\">\n      <th></th>\n      <th>commit</th>\n      <th>tree</th>\n      <th>parent</th>\n      <th>author</th>\n      <th>committer</th>\n      <th>subject</th>\n      <th>message</th>\n      <th>trailer</th>\n      <th>difference</th>\n      <th>difference_truncated</th>\n      <th>repo_name</th>\n      <th>encoding</th>\n    </tr>\n  </thead>\n  <tbody>\n    <tr>\n      <th>0</th>\n      <td>3eca86e75ec7a7d4b9a9c8091b11676f7bd2a39f</td>\n      <td>8e1b4380409a85a922ee0d3f622b5dd4d16bcfad</td>\n      <td>[104a0c02e8b1936c049e18a6d4e4ab040fb61213]</td>\n      <td>{'name': 'Mark Rutland', 'email': '1db9dd262be...</td>\n      <td>{'name': 'Catalin Marinas', 'email': '15ce75b2...</td>\n      <td>arm64: Remove fixmap include fragility</td>\n      <td>arm64: Remove fixmap include fragility\\n\\nThe ...</td>\n      <td>[{'key': 'Signed-off-by', 'value': 'Mark Rutla...</td>\n      <td>[{'old_mode': 33188, 'new_mode': 33188, 'old_p...</td>\n      <td>None</td>\n      <td>torvalds/linux</td>\n      <td>None</td>\n    </tr>\n    <tr>\n      <th>1</th>\n      <td>7158627686f02319c50c8d9d78f75d4c8d126ff2</td>\n      <td>3b4d781bd966f07cad1b67b137f0ff8b89430e9a</td>\n      <td>[66aa8d6a145b6a66566b4fce219cc56c3d0e01c3]</td>\n      <td>{'name': 'Will Deacon', 'email': 'b913f13ef92a...</td>\n      <td>{'name': 'Catalin Marinas', 'email': '15ce75b2...</td>\n      <td>arm64: percpu: implement optimised pcpu access...</td>\n      <td>arm64: percpu: implement optimised pcpu access...</td>\n      <td>[{'key': 'Signed-off-by', 'value': 'Will Deaco...</td>\n      <td>[{'old_mode': 33188, 'new_mode': 33188, 'old_p...</td>\n      <td>None</td>\n      <td>torvalds/linux</td>\n      <td>None</td>\n    </tr>\n    <tr>\n      <th>2</th>\n      <td>9732cafd9dc0206479be919baf0067239f0a63ca</td>\n      <td>c8878035ac9cb6dce592957f12dc1723a583989d</td>\n      <td>[f3c003f72dfb2497056bcbb864885837a1968ed5]</td>\n      <td>{'name': 'Jiang Liu', 'email': 'c745fa7b96fe79...</td>\n      <td>{'name': 'Catalin Marinas', 'email': '15ce75b2...</td>\n      <td>arm64, jump label: optimize jump label impleme...</td>\n      <td>arm64, jump label: optimize jump label impleme...</td>\n      <td>[{'key': 'Reviewed-by', 'value': 'Will Deacon ...</td>\n      <td>[{'old_mode': 33188, 'new_mode': 33188, 'old_p...</td>\n      <td>None</td>\n      <td>torvalds/linux</td>\n      <td>None</td>\n    </tr>\n    <tr>\n      <th>3</th>\n      <td>4702abd3f9728893ad5b0f4389e1902588510459</td>\n      <td>32926e7c55ef585d9b9c174a0e5f9ed13ed6bf7e</td>\n      <td>[ddf28352b80c86754a6424e3a61e8bdf9213b3c7]</td>\n      <td>{'name': 'Nicolas Pitre', 'email': '408789a210...</td>\n      <td>{'name': 'Arnd Bergmann', 'email': 'f2c659f019...</td>\n      <td>ARM: mach-nuc93x: delete</td>\n      <td>ARM: mach-nuc93x: delete\\n\\nThis architecture ...</td>\n      <td>[{'key': 'Signed-off-by', 'value': 'Nicolas Pi...</td>\n      <td>[{'old_mode': 33188, 'new_mode': 33188, 'old_p...</td>\n      <td>None</td>\n      <td>torvalds/linux</td>\n      <td>None</td>\n    </tr>\n    <tr>\n      <th>4</th>\n      <td>57bd4b91a6cfc5bad4c5d829ef85293ea63643ea</td>\n      <td>2ffc2066eb7638e185663e9d849663403229d4e5</td>\n      <td>[f74c95c20bad8e183e41283475f68a3e7b247af4]</td>\n      <td>{'name': 'Ben Dooks', 'email': '1177f64998f284...</td>\n      <td>{'name': 'Ben Dooks', 'email': '1177f64998f284...</td>\n      <td>[ARM] S3C24XX: Movev udc headers to arch/arm/p...</td>\n      <td>[ARM] S3C24XX: Movev udc headers to arch/arm/p...</td>\n      <td>[{'key': 'Signed-off-by', 'value': 'Ben Dooks ...</td>\n      <td>[{'old_mode': 33188, 'new_mode': 33188, 'old_p...</td>\n      <td>None</td>\n      <td>torvalds/linux</td>\n      <td>None</td>\n    </tr>\n  </tbody>\n</table>\n</div>",
            "text/plain": "                                     commit  \\\n0  3eca86e75ec7a7d4b9a9c8091b11676f7bd2a39f   \n1  7158627686f02319c50c8d9d78f75d4c8d126ff2   \n2  9732cafd9dc0206479be919baf0067239f0a63ca   \n3  4702abd3f9728893ad5b0f4389e1902588510459   \n4  57bd4b91a6cfc5bad4c5d829ef85293ea63643ea   \n\n                                       tree  \\\n0  8e1b4380409a85a922ee0d3f622b5dd4d16bcfad   \n1  3b4d781bd966f07cad1b67b137f0ff8b89430e9a   \n2  c8878035ac9cb6dce592957f12dc1723a583989d   \n3  32926e7c55ef585d9b9c174a0e5f9ed13ed6bf7e   \n4  2ffc2066eb7638e185663e9d849663403229d4e5   \n\n                                       parent  \\\n0  [104a0c02e8b1936c049e18a6d4e4ab040fb61213]   \n1  [66aa8d6a145b6a66566b4fce219cc56c3d0e01c3]   \n2  [f3c003f72dfb2497056bcbb864885837a1968ed5]   \n3  [ddf28352b80c86754a6424e3a61e8bdf9213b3c7]   \n4  [f74c95c20bad8e183e41283475f68a3e7b247af4]   \n\n                                              author  \\\n0  {'name': 'Mark Rutland', 'email': '1db9dd262be...   \n1  {'name': 'Will Deacon', 'email': 'b913f13ef92a...   \n2  {'name': 'Jiang Liu', 'email': 'c745fa7b96fe79...   \n3  {'name': 'Nicolas Pitre', 'email': '408789a210...   \n4  {'name': 'Ben Dooks', 'email': '1177f64998f284...   \n\n                                           committer  \\\n0  {'name': 'Catalin Marinas', 'email': '15ce75b2...   \n1  {'name': 'Catalin Marinas', 'email': '15ce75b2...   \n2  {'name': 'Catalin Marinas', 'email': '15ce75b2...   \n3  {'name': 'Arnd Bergmann', 'email': 'f2c659f019...   \n4  {'name': 'Ben Dooks', 'email': '1177f64998f284...   \n\n                                             subject  \\\n0             arm64: Remove fixmap include fragility   \n1  arm64: percpu: implement optimised pcpu access...   \n2  arm64, jump label: optimize jump label impleme...   \n3                           ARM: mach-nuc93x: delete   \n4  [ARM] S3C24XX: Movev udc headers to arch/arm/p...   \n\n                                             message  \\\n0  arm64: Remove fixmap include fragility\\n\\nThe ...   \n1  arm64: percpu: implement optimised pcpu access...   \n2  arm64, jump label: optimize jump label impleme...   \n3  ARM: mach-nuc93x: delete\\n\\nThis architecture ...   \n4  [ARM] S3C24XX: Movev udc headers to arch/arm/p...   \n\n                                             trailer  \\\n0  [{'key': 'Signed-off-by', 'value': 'Mark Rutla...   \n1  [{'key': 'Signed-off-by', 'value': 'Will Deaco...   \n2  [{'key': 'Reviewed-by', 'value': 'Will Deacon ...   \n3  [{'key': 'Signed-off-by', 'value': 'Nicolas Pi...   \n4  [{'key': 'Signed-off-by', 'value': 'Ben Dooks ...   \n\n                                          difference difference_truncated  \\\n0  [{'old_mode': 33188, 'new_mode': 33188, 'old_p...                 None   \n1  [{'old_mode': 33188, 'new_mode': 33188, 'old_p...                 None   \n2  [{'old_mode': 33188, 'new_mode': 33188, 'old_p...                 None   \n3  [{'old_mode': 33188, 'new_mode': 33188, 'old_p...                 None   \n4  [{'old_mode': 33188, 'new_mode': 33188, 'old_p...                 None   \n\n        repo_name encoding  \n0  torvalds/linux     None  \n1  torvalds/linux     None  \n2  torvalds/linux     None  \n3  torvalds/linux     None  \n4  torvalds/linux     None  "
          },
          "execution_count": 7,
          "metadata": {},
          "output_type": "execute_result"
        }
      ]
    },
    {
      "metadata": {
        "trusted": true,
        "_uuid": "04dabe51b9c3ed6739b60191ab9038cb697c9a84"
      },
      "cell_type": "code",
      "source": "# the list of repos using/written in python (308 repos recorded in sample_files table)\n\nquery = \"\"\"\n        SELECT DISTINCT repo_name\n        FROM `bigquery-public-data.github_repos.sample_files`\n        WHERE path LIKE '%.py'\n\"\"\"\ngithub.query_to_pandas_safe(query, max_gb_scanned=7)",
      "execution_count": 85,
      "outputs": [
        {
          "output_type": "execute_result",
          "execution_count": 85,
          "data": {
            "text/plain": "                                      repo_name\n0                                       jni/ray\n1                                     JMRI/JMRI\n2                                     MITK/MITK\n3                                     SUSE/kiwi\n4                                     onyb/dune\n5                                     vijos/vj4\n6                                     xpansa/hr\n7                                    OCA/social\n8                                    UT-CHG/BET\n9                                    eedf/jeito\n10                                  Execut3/CTF\n11                                  SecPi/SecPi\n12                                  ask/chishop\n13                                  blaze/blaze\n14                                  crs4/pydoop\n15                                  klen/muffin\n16                                  lorien/grab\n17                                  mpld3/mpld3\n18                                  oemof/oemof\n19                                  pgiri/dispy\n20                                  zah/nim.vim\n21                                 PyCQA/flake8\n22                                 arocks/qblog\n23                                 azoner/pyx12\n24                                 flavour/eden\n25                                 google/kasan\n26                                 lepture/june\n27                                 lud4ik/txAWS\n28                                 moraes/tipfy\n29                                 nex3/mutagen\n...                                         ...\n32878     elastic/elasticsearch-river-wikipedia\n32879                             cage433/maker\n32880                            bruienne/bsdpy\n32881                          meh/NetCommander\n32882                         luizbafilho/fusis\n32883                      snapwire-media/arion\n32884                       tesseract2048/pvpgn\n32885                             brean/gown.js\n32886                         samdobson/fwdform\n32887                 ushahidi/Ushahidi_Android\n32888         StevenGBrown/javadoc-search-frame\n32889                              jwilm/racerd\n32890                         globby/Screenshot\n32891                   GhostBSD/ghostbsd-build\n32892                        gpjt/webgl-lessons\n32893                        honza/vim-snippets\n32894                        ajtulloch/dnngraph\n32895                       mozilla/MozStumbler\n32896               cockpit-project/cockpituous\n32897             GavinCT/MeituanCustomLintDemo\n32898              aimmac23/selenium-video-node\n32899             ckmarkoh/neuralart_tensorflow\n32900           elastic/elasticsearch-cloud-gce\n32901  liaohuqiu/android-ClipboardManagerCompat\n32902                             delan/lookout\n32903                   jabbalaci/screenshot.py\n32904                        stdunbar/urlcherry\n32905                   Exceen/4chan-downloader\n32906                 styxyang/dnsmasq-chinadns\n32907              anne-decusatis/genderamender\n\n[32908 rows x 1 columns]",
            "text/html": "<div>\n<style>\n    .dataframe thead tr:only-child th {\n        text-align: right;\n    }\n\n    .dataframe thead th {\n        text-align: left;\n    }\n\n    .dataframe tbody tr th {\n        vertical-align: top;\n    }\n</style>\n<table border=\"1\" class=\"dataframe\">\n  <thead>\n    <tr style=\"text-align: right;\">\n      <th></th>\n      <th>repo_name</th>\n    </tr>\n  </thead>\n  <tbody>\n    <tr>\n      <th>0</th>\n      <td>jni/ray</td>\n    </tr>\n    <tr>\n      <th>1</th>\n      <td>JMRI/JMRI</td>\n    </tr>\n    <tr>\n      <th>2</th>\n      <td>MITK/MITK</td>\n    </tr>\n    <tr>\n      <th>3</th>\n      <td>SUSE/kiwi</td>\n    </tr>\n    <tr>\n      <th>4</th>\n      <td>onyb/dune</td>\n    </tr>\n    <tr>\n      <th>5</th>\n      <td>vijos/vj4</td>\n    </tr>\n    <tr>\n      <th>6</th>\n      <td>xpansa/hr</td>\n    </tr>\n    <tr>\n      <th>7</th>\n      <td>OCA/social</td>\n    </tr>\n    <tr>\n      <th>8</th>\n      <td>UT-CHG/BET</td>\n    </tr>\n    <tr>\n      <th>9</th>\n      <td>eedf/jeito</td>\n    </tr>\n    <tr>\n      <th>10</th>\n      <td>Execut3/CTF</td>\n    </tr>\n    <tr>\n      <th>11</th>\n      <td>SecPi/SecPi</td>\n    </tr>\n    <tr>\n      <th>12</th>\n      <td>ask/chishop</td>\n    </tr>\n    <tr>\n      <th>13</th>\n      <td>blaze/blaze</td>\n    </tr>\n    <tr>\n      <th>14</th>\n      <td>crs4/pydoop</td>\n    </tr>\n    <tr>\n      <th>15</th>\n      <td>klen/muffin</td>\n    </tr>\n    <tr>\n      <th>16</th>\n      <td>lorien/grab</td>\n    </tr>\n    <tr>\n      <th>17</th>\n      <td>mpld3/mpld3</td>\n    </tr>\n    <tr>\n      <th>18</th>\n      <td>oemof/oemof</td>\n    </tr>\n    <tr>\n      <th>19</th>\n      <td>pgiri/dispy</td>\n    </tr>\n    <tr>\n      <th>20</th>\n      <td>zah/nim.vim</td>\n    </tr>\n    <tr>\n      <th>21</th>\n      <td>PyCQA/flake8</td>\n    </tr>\n    <tr>\n      <th>22</th>\n      <td>arocks/qblog</td>\n    </tr>\n    <tr>\n      <th>23</th>\n      <td>azoner/pyx12</td>\n    </tr>\n    <tr>\n      <th>24</th>\n      <td>flavour/eden</td>\n    </tr>\n    <tr>\n      <th>25</th>\n      <td>google/kasan</td>\n    </tr>\n    <tr>\n      <th>26</th>\n      <td>lepture/june</td>\n    </tr>\n    <tr>\n      <th>27</th>\n      <td>lud4ik/txAWS</td>\n    </tr>\n    <tr>\n      <th>28</th>\n      <td>moraes/tipfy</td>\n    </tr>\n    <tr>\n      <th>29</th>\n      <td>nex3/mutagen</td>\n    </tr>\n    <tr>\n      <th>...</th>\n      <td>...</td>\n    </tr>\n    <tr>\n      <th>32878</th>\n      <td>elastic/elasticsearch-river-wikipedia</td>\n    </tr>\n    <tr>\n      <th>32879</th>\n      <td>cage433/maker</td>\n    </tr>\n    <tr>\n      <th>32880</th>\n      <td>bruienne/bsdpy</td>\n    </tr>\n    <tr>\n      <th>32881</th>\n      <td>meh/NetCommander</td>\n    </tr>\n    <tr>\n      <th>32882</th>\n      <td>luizbafilho/fusis</td>\n    </tr>\n    <tr>\n      <th>32883</th>\n      <td>snapwire-media/arion</td>\n    </tr>\n    <tr>\n      <th>32884</th>\n      <td>tesseract2048/pvpgn</td>\n    </tr>\n    <tr>\n      <th>32885</th>\n      <td>brean/gown.js</td>\n    </tr>\n    <tr>\n      <th>32886</th>\n      <td>samdobson/fwdform</td>\n    </tr>\n    <tr>\n      <th>32887</th>\n      <td>ushahidi/Ushahidi_Android</td>\n    </tr>\n    <tr>\n      <th>32888</th>\n      <td>StevenGBrown/javadoc-search-frame</td>\n    </tr>\n    <tr>\n      <th>32889</th>\n      <td>jwilm/racerd</td>\n    </tr>\n    <tr>\n      <th>32890</th>\n      <td>globby/Screenshot</td>\n    </tr>\n    <tr>\n      <th>32891</th>\n      <td>GhostBSD/ghostbsd-build</td>\n    </tr>\n    <tr>\n      <th>32892</th>\n      <td>gpjt/webgl-lessons</td>\n    </tr>\n    <tr>\n      <th>32893</th>\n      <td>honza/vim-snippets</td>\n    </tr>\n    <tr>\n      <th>32894</th>\n      <td>ajtulloch/dnngraph</td>\n    </tr>\n    <tr>\n      <th>32895</th>\n      <td>mozilla/MozStumbler</td>\n    </tr>\n    <tr>\n      <th>32896</th>\n      <td>cockpit-project/cockpituous</td>\n    </tr>\n    <tr>\n      <th>32897</th>\n      <td>GavinCT/MeituanCustomLintDemo</td>\n    </tr>\n    <tr>\n      <th>32898</th>\n      <td>aimmac23/selenium-video-node</td>\n    </tr>\n    <tr>\n      <th>32899</th>\n      <td>ckmarkoh/neuralart_tensorflow</td>\n    </tr>\n    <tr>\n      <th>32900</th>\n      <td>elastic/elasticsearch-cloud-gce</td>\n    </tr>\n    <tr>\n      <th>32901</th>\n      <td>liaohuqiu/android-ClipboardManagerCompat</td>\n    </tr>\n    <tr>\n      <th>32902</th>\n      <td>delan/lookout</td>\n    </tr>\n    <tr>\n      <th>32903</th>\n      <td>jabbalaci/screenshot.py</td>\n    </tr>\n    <tr>\n      <th>32904</th>\n      <td>stdunbar/urlcherry</td>\n    </tr>\n    <tr>\n      <th>32905</th>\n      <td>Exceen/4chan-downloader</td>\n    </tr>\n    <tr>\n      <th>32906</th>\n      <td>styxyang/dnsmasq-chinadns</td>\n    </tr>\n    <tr>\n      <th>32907</th>\n      <td>anne-decusatis/genderamender</td>\n    </tr>\n  </tbody>\n</table>\n<p>32908 rows × 1 columns</p>\n</div>"
          },
          "metadata": {}
        }
      ]
    },
    {
      "metadata": {
        "trusted": true,
        "_uuid": "43a8aabb185c42faaf5c69019868b793447e7ba1"
      },
      "cell_type": "code",
      "source": "test = \"\"\"\n        SELECT sf.repo_name\n        FROM (\n            SELECT DISTINCT repo_name\n            FROM `bigquery-public-data.github_repos.sample_files` \n        ) AS sf\n        INNER JOIN (\n            SELECT DISTINCT repo_name\n            FROM `bigquery-public-data.github_repos.sample_commits`\n        ) AS sc\n            ON sf.repo_name = sc.repo_name\n\"\"\"\ngithub.query_to_pandas_safe(test, max_gb_scanned=2)",
      "execution_count": 75,
      "outputs": [
        {
          "data": {
            "text/html": "<div>\n<style>\n    .dataframe thead tr:only-child th {\n        text-align: right;\n    }\n\n    .dataframe thead th {\n        text-align: left;\n    }\n\n    .dataframe tbody tr th {\n        vertical-align: top;\n    }\n</style>\n<table border=\"1\" class=\"dataframe\">\n  <thead>\n    <tr style=\"text-align: right;\">\n      <th></th>\n      <th>repo_name</th>\n    </tr>\n  </thead>\n  <tbody>\n    <tr>\n      <th>0</th>\n      <td>twbs/bootstrap</td>\n    </tr>\n    <tr>\n      <th>1</th>\n      <td>tensorflow/tensorflow</td>\n    </tr>\n    <tr>\n      <th>2</th>\n      <td>apple/swift</td>\n    </tr>\n    <tr>\n      <th>3</th>\n      <td>torvalds/linux</td>\n    </tr>\n    <tr>\n      <th>4</th>\n      <td>facebook/react</td>\n    </tr>\n    <tr>\n      <th>5</th>\n      <td>Microsoft/vscode</td>\n    </tr>\n  </tbody>\n</table>\n</div>",
            "text/plain": "               repo_name\n0         twbs/bootstrap\n1  tensorflow/tensorflow\n2            apple/swift\n3         torvalds/linux\n4         facebook/react\n5       Microsoft/vscode"
          },
          "execution_count": 75,
          "metadata": {},
          "output_type": "execute_result"
        }
      ]
    },
    {
      "metadata": {
        "trusted": true,
        "_uuid": "ff7a1e5167c190e78510c28448ab0a11acd20e8a"
      },
      "cell_type": "code",
      "source": "test2 = \"\"\"\n        SELECT sf.repo_name\n        FROM (\n            SELECT DISTINCT repo_name\n            FROM `bigquery-public-data.github_repos.sample_files`\n            WHERE path LIKE '%.py'\n        ) AS sf\n        INNER JOIN (\n            SELECT DISTINCT repo_name\n            FROM `bigquery-public-data.github_repos.sample_commits`\n        ) AS sc\n            ON sf.repo_name = sc.repo_name\n\"\"\"\ngithub.query_to_pandas_safe(test2, max_gb_scanned=7)",
      "execution_count": 79,
      "outputs": [
        {
          "data": {
            "text/html": "<div>\n<style>\n    .dataframe thead tr:only-child th {\n        text-align: right;\n    }\n\n    .dataframe thead th {\n        text-align: left;\n    }\n\n    .dataframe tbody tr th {\n        vertical-align: top;\n    }\n</style>\n<table border=\"1\" class=\"dataframe\">\n  <thead>\n    <tr style=\"text-align: right;\">\n      <th></th>\n      <th>repo_name</th>\n    </tr>\n  </thead>\n  <tbody>\n    <tr>\n      <th>0</th>\n      <td>tensorflow/tensorflow</td>\n    </tr>\n    <tr>\n      <th>1</th>\n      <td>torvalds/linux</td>\n    </tr>\n    <tr>\n      <th>2</th>\n      <td>facebook/react</td>\n    </tr>\n    <tr>\n      <th>3</th>\n      <td>Microsoft/vscode</td>\n    </tr>\n    <tr>\n      <th>4</th>\n      <td>apple/swift</td>\n    </tr>\n  </tbody>\n</table>\n</div>",
            "text/plain": "               repo_name\n0  tensorflow/tensorflow\n1         torvalds/linux\n2         facebook/react\n3       Microsoft/vscode\n4            apple/swift"
          },
          "execution_count": 79,
          "metadata": {},
          "output_type": "execute_result"
        }
      ]
    },
    {
      "metadata": {
        "collapsed": true,
        "trusted": true,
        "_uuid": "ab9c9c5a45681c6a32e9e59f2e614fa536d8785d"
      },
      "cell_type": "code",
      "source": "",
      "execution_count": null,
      "outputs": []
    },
    {
      "metadata": {
        "trusted": true,
        "_uuid": "153a27df83d31c4895e162cae15752f4a30266d6"
      },
      "cell_type": "code",
      "source": "# the 308 repos in 'sample_files' table exist in 'sample_commits' table as well - or not?\n# There are only 6 repo names in common between two tables - 'sample_files' and 'sample_commits'.\n\nquery = \"\"\"\n    WITH \n    repo_py_sf AS\n    (\n        SELECT DISTINCT repo_name AS repo_name\n        FROM `bigquery-public-data.github_repos.sample_files`\n        WHERE path LIKE '%.py'\n    ),\n    \n    repo_all_sc AS\n    (\n        SELECT repo_name,\n                COUNT(commit) AS number_of_commits\n        FROM `bigquery-public-data.github_repos.sample_commits`\n        GROUP BY repo_name\n    )\n    \n    SELECT repo_py_sf.repo_name,\n            repo_all_sc.number_of_commits\n    FROM repo_py_sf\n    INNER JOIN repo_all_sc\n        ON repo_py_sf.repo_name = repo_all_sc.repo_name\n    \n\"\"\"\ngithub.query_to_pandas_safe(query, max_gb_scanned=7)",
      "execution_count": 82,
      "outputs": [
        {
          "data": {
            "text/html": "<div>\n<style>\n    .dataframe thead tr:only-child th {\n        text-align: right;\n    }\n\n    .dataframe thead th {\n        text-align: left;\n    }\n\n    .dataframe tbody tr th {\n        vertical-align: top;\n    }\n</style>\n<table border=\"1\" class=\"dataframe\">\n  <thead>\n    <tr style=\"text-align: right;\">\n      <th></th>\n      <th>repo_name</th>\n      <th>number_of_commits</th>\n    </tr>\n  </thead>\n  <tbody>\n    <tr>\n      <th>0</th>\n      <td>facebook/react</td>\n      <td>6875</td>\n    </tr>\n    <tr>\n      <th>1</th>\n      <td>Microsoft/vscode</td>\n      <td>6909</td>\n    </tr>\n    <tr>\n      <th>2</th>\n      <td>torvalds/linux</td>\n      <td>602604</td>\n    </tr>\n    <tr>\n      <th>3</th>\n      <td>tensorflow/tensorflow</td>\n      <td>5253</td>\n    </tr>\n    <tr>\n      <th>4</th>\n      <td>apple/swift</td>\n      <td>38891</td>\n    </tr>\n  </tbody>\n</table>\n</div>",
            "text/plain": "               repo_name  number_of_commits\n0         facebook/react               6875\n1       Microsoft/vscode               6909\n2         torvalds/linux             602604\n3  tensorflow/tensorflow               5253\n4            apple/swift              38891"
          },
          "execution_count": 82,
          "metadata": {},
          "output_type": "execute_result"
        }
      ]
    },
    {
      "metadata": {
        "collapsed": true,
        "trusted": true,
        "_uuid": "20dc2263aebe48f6424176d7b7246a829263b591"
      },
      "cell_type": "code",
      "source": "",
      "execution_count": null,
      "outputs": []
    },
    {
      "metadata": {
        "_cell_guid": "cbd1f587-cddd-4f06-b4ae-ce215b32ac20",
        "_uuid": "9f231f459e13f0dc2f9347d38cc7c684c0dada18"
      },
      "cell_type": "markdown",
      "source": "Please feel free to ask any questions you have in this notebook or in the [Q&A forums](https://www.kaggle.com/questions-and-answers)! \n\nAlso, if you want to share or get comments on your kernel, remember you need to make it public first! You can change the visibility of your kernel under the \"Settings\" tab, on the right half of your screen."
    }
  ],
  "metadata": {
    "kernelspec": {
      "display_name": "Python 3",
      "language": "python",
      "name": "python3"
    },
    "language_info": {
      "name": "python",
      "version": "3.6.4",
      "mimetype": "text/x-python",
      "codemirror_mode": {
        "name": "ipython",
        "version": 3
      },
      "pygments_lexer": "ipython3",
      "nbconvert_exporter": "python",
      "file_extension": ".py"
    }
  },
  "nbformat": 4,
  "nbformat_minor": 1
}