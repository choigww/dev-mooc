{
 "cells": [
  {
   "cell_type": "markdown",
   "metadata": {},
   "source": [
    "# Repetition Statements\n",
    "\n",
    "## Introduction\n",
    "\n",
    "C++ provides a number of standard constructs known as loops that you can use to implement iteration logic.  If you are coming from other programming languages, you might recognize \n",
    "* `for` loops, \n",
    "* `while` loops, \n",
    "* `do` loops.  \n",
    "\n",
    "C++ supports all three of these iteration statements.<br>\n",
    "\n",
    "The ability to repeat a series of statements is a core requirement of most application code.  You might need to iterate over a series of items in an array or perhaps you need to count the number of characters in a string or the number of words in a document.   Repetition, through the use of loops, is the way in which you achieve these operations."
   ]
  },
  {
   "cell_type": "code",
   "execution_count": null,
   "metadata": {},
   "outputs": [],
   "source": []
  },
  {
   "cell_type": "markdown",
   "metadata": {},
   "source": [
    "## `for` Loops\n",
    "\n",
    "The for loop executes a block of code repeatedly until the specified expression evaluates to false. You can define a for loop as follows.\n",
    "\n",
    "```c++\n",
    "for ([initializer(s)]; [condition]; [iterator])\n",
    "{\n",
    "    // code to repeat goes here\n",
    "}\n",
    "```\n",
    "\n",
    "The `[initializer(s)]` portion is used to initialize a value, or values, as a counter for the loop. On each iteration, the loop checks that the value of the counter is within the range to execute the for loop, specified in the `[condition]` portion., and if so, execute the body of the loop.   At then end of each loop iteration, the `[iterator]` section is responsible for incrementing the loop counter.<br>\n",
    "\n",
    "The following code example shows how to use a `for` loop to execute a code block 10 times.\n"
   ]
  },
  {
   "cell_type": "code",
   "execution_count": null,
   "metadata": {},
   "outputs": [],
   "source": [
    "// for Loop\n",
    "\n",
    "for (int i=0; i<10; i++)\n",
    "{\n",
    "    // code to execute\n",
    "}"
   ]
  },
  {
   "cell_type": "markdown",
   "metadata": {},
   "source": [
    "In this example, \n",
    "* `i = 0;` is the initializer\n",
    "* `i < 10;` is the condition\n",
    "* `i++` is the operator"
   ]
  },
  {
   "cell_type": "code",
   "execution_count": null,
   "metadata": {},
   "outputs": [],
   "source": []
  },
  {
   "cell_type": "markdown",
   "metadata": {},
   "source": [
    "## `while` Loops\n",
    "\n",
    "A `while` loop enables you to execute a block of code while a given condition is **true**. For example, you can use a `while` loop to process user input until the user indicates that they have no more data to enter. The loop can continue to prompt the user until they decide to end the interaction by entering a sentinel value. The sentinel value is responsible for ending the loop.<br>\n",
    "\n",
    "The following code example shows how to use a while loop."
   ]
  },
  {
   "cell_type": "code",
   "execution_count": 2,
   "metadata": {},
   "outputs": [],
   "source": [
    "using namespace std;"
   ]
  },
  {
   "cell_type": "code",
   "execution_count": null,
   "metadata": {},
   "outputs": [],
   "source": [
    "// while Loop\n",
    "string response;\n",
    "\n",
    "cout << \"Enter menu choice\" << endl << \"More\" << endl << \"Quit\" << endl;\n",
    "cin >> response;\n",
    "\n",
    "    while (response != \"Quit\")\n",
    "    {\n",
    "        // Code to execute if Quit is not entered\n",
    "        \n",
    "        // Prompt user again with menu choices until Quit is entered\n",
    "        cout << \"Enter menu choice\" << endl << \"More\" << endl << \"Quit\" << endl;\n",
    "        cin >> response;\n",
    "    }\n"
   ]
  },
  {
   "cell_type": "markdown",
   "metadata": {},
   "source": [
    "It's imperative to include the prompt again, inside the loop braces.  Failure to put this into the loop body will result in an **infinite loop** because the sentinel value can never be changed."
   ]
  },
  {
   "cell_type": "code",
   "execution_count": null,
   "metadata": {},
   "outputs": [],
   "source": []
  },
  {
   "cell_type": "markdown",
   "metadata": {},
   "source": [
    "## `do` Loops\n",
    "\n",
    "A `do` loop, sometimes also referred to as a `do...while` loop, \n",
    "* is very similar to a `while` loop, with the exception that a do loop will always execute the body of the loop **at least once**. \n",
    "* In a `while` loop, if the condition is false from the start, the body of the loop will **never** execute.\n",
    "\n",
    "You might want to use a `do` loop if you know that the code will only execute in response to a user prompt for data. In this scenario, you know that the application will need to process at least one piece of data, and can therefore use a `do` loop.<br>\n",
    "\n",
    "The following code example shows the use of a do loop."
   ]
  },
  {
   "cell_type": "code",
   "execution_count": null,
   "metadata": {},
   "outputs": [],
   "source": [
    "string response2;\n",
    "\n",
    "do{\n",
    "    cout << \"Enter menu choice\" << endl << \"More\" << endl << \"Quit\" << endl;\n",
    "    cin >> response2;\n",
    "    \n",
    "    // Process the data\n",
    "    \n",
    "} while (response != \"Quit\");"
   ]
  },
  {
   "cell_type": "markdown",
   "metadata": {},
   "source": [
    "A couple of aspects to note about this loop.  \n",
    "\n",
    "* **First of all, the  response variable is declared outside of the loop.**  \n",
    "  * This is important due to scope resolution requirements.  If you declare the variable inside the loop, then the while(response != \"Quit\") portion will not \"see\" the response variable.\n",
    "* **Second, note that in comparison with the while loop, the prompt only needs to be placed inside the loop body and is not required ahead of the loop.**\n",
    "  * This is possible because the do loop executes the contents of the loop at least once due to the condition check being at the end of the loop.\n",
    "* **Third, notice the semicolon at the end of the loop.**\n",
    "  * This is required in the do loop and not in the while or for loop."
   ]
  },
  {
   "cell_type": "code",
   "execution_count": null,
   "metadata": {},
   "outputs": [],
   "source": []
  },
  {
   "cell_type": "markdown",
   "metadata": {},
   "source": [
    "## Nesting Loops\n",
    "\n",
    "Nesting of loops is possible in C++.  The most common is to nest for loops.  An example of nesting a for loop might be used for games, such as dealing four hands to card players from a deck of 52.  Your outer loop would count from 0 to 51 for the total number of cards in the deck and the inner loop would count from 0 to 3 to represent the 4 hands being dealt.   Of course, if you aren't dealing the entire 52 cards, you can change the outer loop counter to represent that fact.<br>\n",
    "\n",
    "The following code example shows nesting for loops to output a chess or checkerboard representation using the characters X and O."
   ]
  },
  {
   "cell_type": "code",
   "execution_count": null,
   "metadata": {},
   "outputs": [],
   "source": [
    "bool alternate = true;\n",
    "\n",
    "for (int x=0; x<8; x++)\n",
    "{\n",
    "    for (int y=0; y<4; y++)\n",
    "    {\n",
    "        if (alternate)\n",
    "        {\n",
    "            cout << \"X \";\n",
    "            cout << \"O \";\n",
    "        }\n",
    "        else\n",
    "        {\n",
    "            cout << \"O \";\n",
    "            cout << \"X \";\n",
    "        }\n",
    "    }\n",
    "    alternate = !alternate;\n",
    "\n",
    "    cout << endl;\n",
    "}"
   ]
  },
  {
   "cell_type": "code",
   "execution_count": null,
   "metadata": {},
   "outputs": [],
   "source": []
  },
  {
   "cell_type": "code",
   "execution_count": null,
   "metadata": {},
   "outputs": [],
   "source": []
  },
  {
   "cell_type": "code",
   "execution_count": null,
   "metadata": {},
   "outputs": [],
   "source": []
  }
 ],
 "metadata": {
  "kernelspec": {
   "display_name": "xeus C++11",
   "language": "",
   "name": "xeus-cling-cpp11"
  },
  "language_info": {
   "codemirror_mode": "text/x-c++src",
   "file_extension": ".cpp",
   "mimetype": "text/x-c++src",
   "name": "c++",
   "version": ""
  }
 },
 "nbformat": 4,
 "nbformat_minor": 2
}
