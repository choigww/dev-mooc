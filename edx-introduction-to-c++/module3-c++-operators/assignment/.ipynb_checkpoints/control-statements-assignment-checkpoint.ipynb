{
 "cells": [
  {
   "cell_type": "markdown",
   "metadata": {},
   "source": [
    "# Control Statements Assignments\n",
    "\n",
    "### section 1\n",
    "\n",
    "The scenario is that you have been asked to create a library of utility functions that support mathematical functions. You will add this code to functions in the next module but for now, write code to complete the following:<br>\n",
    "\n",
    "Using a for loop, write code that will compute the result of an int raised to the power of another int. \n",
    "* For example, your for loop should use two variables, one for the base and one for the exponent. \n",
    "* It should then calculate the base raised to the exponent. \n",
    "  * 2 raised to the power of 2 should output 4, 2 raised to 8 should output 256, etc. \n",
    "* Ensure your code meets these requirements and then paste it in the response section below:\n",
    "  * Contains a variable for the base\n",
    "  * Contains a variable for the exponent\n",
    "  * Uses a for loop to perform the power function\n",
    "  * Outputs the result to the console window"
   ]
  },
  {
   "cell_type": "code",
   "execution_count": 1,
   "metadata": {},
   "outputs": [
    {
     "name": "stdout",
     "output_type": "stream",
     "text": [
      "8"
     ]
    }
   ],
   "source": [
    "int num {1};\n",
    "int base {2};\n",
    "int exponent {3};\n",
    "\n",
    "for (int init=1; init <= exponent; init++)\n",
    "{\n",
    "    num *= base;\n",
    "}\n",
    "\n",
    "std::cout << num;"
   ]
  },
  {
   "cell_type": "code",
   "execution_count": null,
   "metadata": {},
   "outputs": [],
   "source": []
  },
  {
   "cell_type": "markdown",
   "metadata": {},
   "source": [
    "### section 2\n",
    "\n",
    "For this second response, you will create a switch statement. The switch statement should include the following:\n",
    "\n",
    "* A variable of type char for the comparison\n",
    "* The switch statement should check for the value of 'y' (lowercase) or 'Y' (uppercase) and output the response \"You chose y or Y\" to the console window\n",
    "* The switch statement should check for the value 'n' or 'N' and output the response, \"You chose n or N\" to the console window\n",
    "* The switch statement should include the correct component that will output \"You didn't choose a valid option\" if neither of these two previous conditions are true\n"
   ]
  },
  {
   "cell_type": "code",
   "execution_count": 4,
   "metadata": {},
   "outputs": [
    {
     "name": "stdout",
     "output_type": "stream",
     "text": [
      "You chose y or Y"
     ]
    }
   ],
   "source": [
    "char comp {'y'};\n",
    "\n",
    "switch (comp)\n",
    "{\n",
    "    case 'y':\n",
    "        std::cout << \"You chose y or Y\";\n",
    "        break;\n",
    "            \n",
    "    case 'Y':\n",
    "        std::cout << \"You chose y or Y\";\n",
    "        break;\n",
    "        \n",
    "    case 'n':\n",
    "        std::cout << \"You chose n or N\";\n",
    "        break;\n",
    "        \n",
    "    case 'N':\n",
    "        std::cout << \"You chose n or N\";\n",
    "        break;\n",
    "        \n",
    "    default:\n",
    "        std::cout << \"You didn't choose a valid option\";\n",
    "        break;\n",
    "}\n",
    "\n"
   ]
  },
  {
   "cell_type": "code",
   "execution_count": null,
   "metadata": {},
   "outputs": [],
   "source": []
  }
 ],
 "metadata": {
  "kernelspec": {
   "display_name": "xeus C++11",
   "language": "",
   "name": "xeus-cling-cpp11"
  },
  "language_info": {
   "codemirror_mode": "text/x-c++src",
   "file_extension": ".cpp",
   "mimetype": "text/x-c++src",
   "name": "c++",
   "version": ""
  }
 },
 "nbformat": 4,
 "nbformat_minor": 2
}
