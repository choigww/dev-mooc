{
 "cells": [
  {
   "cell_type": "markdown",
   "metadata": {},
   "source": [
    "# C++ Operators\n",
    "\n",
    "Because you will start to learn about control statements in C++, it's important to understand the C++ operators that exist in the language first, as they play an important role in control statements.<br>\n",
    "\n",
    "You will work with comparison operators to determine if values are equal, greater, or less than each other.  C++ also allows you to use mathematical operators for incrementing values to help control the number of iterations in a loop.  You can also make use of bitwise operators to speed up some operations in your code. \n",
    "\n",
    "Operator|Description\n",
    "---|---\n",
    "+|addition\n",
    "-|subtraction\n",
    "\\*|multiplication\n",
    "\\/|division\n",
    "%|modulo\n",
    "+=|(y += x)\tsame as y = y + x\n",
    "-=|(y -= x)\tsame as y = y - x\n",
    "\\*=|(y \\*= x)\tsame as y = y \\* x\n",
    "\\+\\+|increment by 1\n",
    "\\-\\-|decrement by 1\n",
    "==|equal to\n",
    "!=|not equal to\n",
    "\\>|greater than\n",
    "<|less than\n",
    "\\>=|greater than or equal to\n",
    "<=|less than or equal to\n",
    "&&|logical AND\n",
    "$||$|logical OR\n",
    "!|logical NOT"
   ]
  },
  {
   "cell_type": "code",
   "execution_count": null,
   "metadata": {},
   "outputs": [],
   "source": []
  },
  {
   "cell_type": "markdown",
   "metadata": {},
   "source": [
    "# Decision Statements"
   ]
  },
  {
   "cell_type": "markdown",
   "metadata": {},
   "source": [
    "## Introduction\n",
    "\n",
    "C++ decision structures provide logic in your application code that allows the execution of different sections of code depending on the state of data in the application. You might ask users whether they wish to save any changes to a file that is open in the application. \n",
    "* **The decision structure** permits you to code behavior to execute based on the answer provided by the user. \n",
    "* C++ uses **conditional statements** to achieve this functionality.<br>\n",
    "\n",
    "The primary conditional statement in C++ is the `if statement`. An alternative to the if statement is a `switch` statement.  As you will see in the section on the switch statement, you might want to use it for more complex decisions.\n"
   ]
  },
  {
   "cell_type": "code",
   "execution_count": null,
   "metadata": {},
   "outputs": [],
   "source": []
  },
  {
   "cell_type": "markdown",
   "metadata": {},
   "source": [
    "## If Statements\n",
    "\n",
    "#### `if` Statements\n",
    "\n",
    "In C++, `if` statements are concerned with Boolean logic. If the statement is **true**, the block of code associated with the if statement is executed.  If the statement is **false**, control either falls through to the line after the if statement, or after the closing curly brace of an if statement block.<br>\n",
    "\n",
    "The following code sample demonstrates an if statement to determine if a response contains a value of **y or Y**."
   ]
  },
  {
   "cell_type": "code",
   "execution_count": null,
   "metadata": {},
   "outputs": [],
   "source": [
    "using namespace std;"
   ]
  },
  {
   "cell_type": "code",
   "execution_count": null,
   "metadata": {},
   "outputs": [],
   "source": [
    "char response = 'y';\n",
    "\n",
    "if (response=='y' || response == 'Y')\n",
    "{\n",
    "    cout << \"Positive response received.\" << endl;\n",
    "}"
   ]
  },
  {
   "cell_type": "markdown",
   "metadata": {},
   "source": [
    "Note the use of curly braces in the code sample.  You can eliminate the curly braces if your statement to execute is a single line statement.  C++ understands that if no curly braces are used, the line immediately after the if(condition) will be executed if the condition is true.  Otherwise that line of code is not executed and the code resumes after that line.  If you need to have multiple statements execute if the condition is true, then you must use curly braces to surround the body of the if structure as in the code sample.  \n",
    "\n",
    "* **TIP**: To avoid confusion as to which lines will execute for a true condition, a recommended practice is to **always use curly braces for your if statement**."
   ]
  },
  {
   "cell_type": "markdown",
   "metadata": {},
   "source": [
    "In C++, if statements can also have associated else clauses. The else clause executes when the if statement is **false**.<br>\n",
    "\n",
    "The following code example shows how to use an if else statement to execute code when a condition is **false**.\n",
    "\n",
    "#### *if else* Statements"
   ]
  },
  {
   "cell_type": "code",
   "execution_count": null,
   "metadata": {},
   "outputs": [],
   "source": [
    "string response2;\n",
    "\n",
    "if (response2 == \"connection_failed\"){\n",
    "    // Block of code to be executed\n",
    "    // if the value of the response variable is \"connection_failed\"\n",
    "}\n",
    "else\n",
    "{\n",
    "    // Block of code to be executed\n",
    "    // if the value of the response variable is not \"connection_failed\"\n",
    "}"
   ]
  },
  {
   "cell_type": "markdown",
   "metadata": {},
   "source": [
    "if statements can also have associated `else if` clauses. The clauses are tested in the order that they appear in the code after the `if` statement. If any of the clauses returns **true**, the block of code associated with that statement is executed and control leaves the block of code associated with the entire if construct.<br>\n",
    "\n",
    "The following code example shows how to use an `if` statement with an `else if` clause.\n"
   ]
  },
  {
   "cell_type": "code",
   "execution_count": null,
   "metadata": {},
   "outputs": [],
   "source": [
    "// else if statements\n",
    "\n",
    "string response3;\n",
    "\n",
    "if (response3 == \"connection_failed\"){\n",
    "    // if the value of the response3 is \"connection_failed\"\n",
    "}\n",
    "else if (response3 == \"connection_error\"){\n",
    "    // if the value of the response3 is not \"connection_failed\"\n",
    "    // but \"connection_error\"\n",
    "}\n",
    "else{\n",
    "    // if the value of the response3 is neither above responses\n",
    "}"
   ]
  },
  {
   "cell_type": "markdown",
   "metadata": {},
   "source": [
    "You can create as many `else if` blocks as necessary for your logic, or until you become completely lost from too many `else if` clauses.  If you require any more than five else if clauses, you might want to consider the `switch` statement, presented next."
   ]
  },
  {
   "cell_type": "code",
   "execution_count": null,
   "metadata": {},
   "outputs": [],
   "source": []
  },
  {
   "cell_type": "markdown",
   "metadata": {},
   "source": [
    "## switch Statements\n",
    "\n",
    "If there are too many `else if` statements, code can become messy and difficult to follow. In this scenario, a better solution is to use a `switch` statement. The `switch` statement simply replaces multiple `else if` statements. The following sample shows how you can use a `switch` statement to replace a collection of `else if` clauses."
   ]
  },
  {
   "cell_type": "code",
   "execution_count": null,
   "metadata": {},
   "outputs": [],
   "source": [
    "char response4 = 'y';\n",
    "\n",
    "switch (response4){\n",
    "    \n",
    "    case 'y':\n",
    "        // if value is y\n",
    "        break;\n",
    "        \n",
    "    case 'Y':\n",
    "        // if value is Y\n",
    "        break;\n",
    "    \n",
    "    case 'n':\n",
    "        // if value is n\n",
    "        break;\n",
    "    \n",
    "    default:\n",
    "        // if none of the above conditions are met\n",
    "        break;\n",
    "}"
   ]
  },
  {
   "cell_type": "markdown",
   "metadata": {},
   "source": [
    "Notice that there is a block labeled `default`:. **This block of code will execute when none of the other blocks match**.  The default block is **optional**.<br>\n",
    "\n",
    "In each case statement, notice the `break` keyword. This causes control to jump to the end of the switch after processing the block of code. \n",
    "* If you omit the break keyword, the application may not perform as you anticipate. \n",
    "* In other languages, such as C#, omitting the break; keyword will cause the code to no longer compile.<br>\n",
    "\n",
    "Without the `break` statement, the code will **\"fall through\"** to the remaining cases until it encounters a break statement. Be very careful in using fall through logic in your `switch` statements.  The most common use for a fall through scenario is when you want to handle multiple cases with a single statement or set of statements.<br>\n",
    "\n",
    "If you are coming from another programming language, such as C#, that also uses the switch statement, you might notice that in the C# language, you can use string values in your switch statements and don't have to use integers or enumerated types.  C++ switch statements support the following data types as expressions:\n",
    "\n",
    "* **intrinsic data types such as `int` or `char`**\n",
    "* **`enumerations`**\n"
   ]
  },
  {
   "cell_type": "code",
   "execution_count": null,
   "metadata": {},
   "outputs": [],
   "source": []
  },
  {
   "cell_type": "markdown",
   "metadata": {},
   "source": [
    "## The Conditional (Ternary) Operator\n",
    "\n",
    "The C++ conditional operator is also known as a `ternary operator` **because it takes three operands**. \n",
    "* How this operator functions is somewhat similar to an if statement or a switch statement, \n",
    "* but in a more compact form and for one single Boolean value with one of two possible outputs. \n",
    "\n",
    "That is to say, \n",
    "* the first operand is evaluated as a Boolean result. If the result is true,\n",
    "* then the second operand will be the one evaluated. \n",
    "* Otherwise, the third operand will be evaluated. \n",
    "\n",
    "A sample helps amplify this."
   ]
  },
  {
   "cell_type": "code",
   "execution_count": null,
   "metadata": {},
   "outputs": [],
   "source": [
    "#include <iostream>\n",
    "int main(){\n",
    "    int i=1, j=2;\n",
    "    cout << (i>j //first operand --- decide what to evaluate\n",
    "             ?\n",
    "             i // second operand --- evaluated if true\n",
    "             :\n",
    "             j // third operand --- evaluated if false\n",
    "             ) << \" is greater.\" << endl;\n",
    "}"
   ]
  },
  {
   "cell_type": "code",
   "execution_count": null,
   "metadata": {},
   "outputs": [],
   "source": [
    "int main() \n",
    "{ \n",
    "     int i = 1, j = 2; \n",
    "     cout << ( i > j ? i : j ) << \" is greater.\" << endl; \n",
    "}\n"
   ]
  },
  {
   "cell_type": "markdown",
   "metadata": {},
   "source": [
    "In this example, we have two integer variables, `i` and `j` which are initialized to 1 and 2 respectively.  The ternary operator is embedded inside the cout statement and essentially follows this pattern:\n",
    "\n",
    "1. it checks whether `i` is greater than `j`\n",
    "2. it outputs the proper numeric value along with `is greater`.\n",
    "\n",
    "In the code example here, `j` is greater than `i` so the condition evaluates to false and the value for `j` (2), is output to the console along with the text is greater.  In other words, the output is \"2 is greater.\"  If i was 5 and j was 2, the output would be, \"5 is greater.\" <br>\n",
    "\n",
    "i > j ? **`i`** : j where i is greater than j then the bold value is selected<br>\n",
    "\n",
    "i > j ? i : **`j`** where j is greater than i, then the bold value is selected"
   ]
  },
  {
   "cell_type": "code",
   "execution_count": null,
   "metadata": {},
   "outputs": [],
   "source": []
  },
  {
   "cell_type": "markdown",
   "metadata": {},
   "source": [
    "## Flow Control\n",
    "\n",
    "### Expressions and Flow of Control\n",
    "* Flow of Control: if, for\n",
    "* Scope\n",
    "* Operators\n",
    "* Functions"
   ]
  },
  {
   "cell_type": "code",
   "execution_count": null,
   "metadata": {},
   "outputs": [],
   "source": []
  },
  {
   "cell_type": "code",
   "execution_count": null,
   "metadata": {},
   "outputs": [],
   "source": []
  },
  {
   "cell_type": "code",
   "execution_count": null,
   "metadata": {},
   "outputs": [],
   "source": []
  },
  {
   "cell_type": "code",
   "execution_count": null,
   "metadata": {},
   "outputs": [],
   "source": []
  },
  {
   "cell_type": "code",
   "execution_count": null,
   "metadata": {},
   "outputs": [],
   "source": []
  }
 ],
 "metadata": {
  "kernelspec": {
   "display_name": "xeus C++11",
   "language": "",
   "name": "xeus-cling-cpp11"
  },
  "language_info": {
   "codemirror_mode": "text/x-c++src",
   "file_extension": ".cpp",
   "mimetype": "text/x-c++src",
   "name": "c++",
   "version": ""
  }
 },
 "nbformat": 4,
 "nbformat_minor": 2
}
