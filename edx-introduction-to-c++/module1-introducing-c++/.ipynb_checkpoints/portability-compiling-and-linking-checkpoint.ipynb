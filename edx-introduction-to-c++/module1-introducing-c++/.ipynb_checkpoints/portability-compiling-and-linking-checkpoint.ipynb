{
 "cells": [
  {
   "cell_type": "markdown",
   "metadata": {},
   "source": [
    "# Portability, Compiling, and Linking\n",
    "\n",
    "## C++ Apps on Different Platforms\n",
    "\n",
    "Writing code in multiple languages as a way to have your applications execute on multiple platforms or different operating systems can take a considerable amount of time resulting in duplication of effort. Application portability may not be a requirement for all software applications but what if portability is required? **So, what exactly is portability or the ability to execute on multiple platforms?**<br>\n",
    "\n",
    "Primarily, **portability refers to the process of compiling your code, without major changes, across different compilers or different platforms**. \n",
    "* **Platforms** typically mean computer hardware, operating systems, CPU architectures, or device form factors. \n",
    "* **Compilers** refer to the process of turning your code into executable form. \n",
    "  * Each platform or operating system may have different compilers available from different providers such as Microsoft, Intel, or Oracle."
   ]
  },
  {
   "cell_type": "code",
   "execution_count": null,
   "metadata": {},
   "outputs": [],
   "source": []
  },
  {
   "cell_type": "markdown",
   "metadata": {},
   "source": [
    "## Compilation Process\n",
    "\n",
    "[**Preprocessor**]\n",
    "* Takes your C++ source and evaluates preprocessor directives.\n",
    "* Produces a preprocessed source file (but usually is just part of compiler).\n",
    "\n",
    "[**Compiler**]\n",
    "* Takes preprocessed source code, compiles into object files.\n",
    "* Checks that your code conforms to all syntax and semantic rules (e.g., no type errors)\n",
    "* Accepts promises from the code about things defined in other source files.\n",
    "\n",
    "[**Linker**]\n",
    "* Takes object files, links them into an executable program.\n",
    "* Ensures that all of the promises to the compiler are kept.\n"
   ]
  },
  {
   "cell_type": "code",
   "execution_count": null,
   "metadata": {},
   "outputs": [],
   "source": []
  },
  {
   "cell_type": "markdown",
   "metadata": {},
   "source": [
    "## The Role of the Linker\n",
    "\n",
    "Once the compiler has completed its tasks, the linker is then invoked. **The linker is responsible for taking all the object files, that will be part of the application's executable code, and then links them all together in the application `.exe` file.** At the same time, the linker ensures that all promises of the compiler are kept, during the linking process.<br>\n",
    "\n",
    "A an example, if your program makes use of the cout function, that is found in the iostream set of files, the linker will ensure that the necessary code for that function, is included in your `.exe` file."
   ]
  },
  {
   "cell_type": "code",
   "execution_count": null,
   "metadata": {},
   "outputs": [],
   "source": []
  },
  {
   "cell_type": "markdown",
   "metadata": {},
   "source": [
    "## C++ Editors and Tools\n",
    "\n",
    "While the demonstrations in this course are using Microsoft's Visual Studio environment, you are free to choose the editor and compiler of your choice.  The samples used here follow the **C++ 11 standard** and therefore should work on your platform of choice and the editor and compilers you use on those platforms.<br>\n",
    "\n",
    "The course does not, and cannot, teach all the different editors, compilers, and their syntax.  Please follow this link to identify editors and compilers that you can use to write, edit, and compile C++ code.\n",
    "\n",
    "* For more information , you can see: <br>\n",
    "  Visual Studio: https://aka.ms/edx-dev210x-vs"
   ]
  },
  {
   "cell_type": "code",
   "execution_count": null,
   "metadata": {},
   "outputs": [],
   "source": []
  }
 ],
 "metadata": {
  "kernelspec": {
   "display_name": "xeus C++14",
   "language": "",
   "name": "xeus-cling-cpp14"
  },
  "language_info": {
   "codemirror_mode": "text/x-c++src",
   "file_extension": ".cpp",
   "mimetype": "text/x-c++src",
   "name": "c++",
   "version": ""
  }
 },
 "nbformat": 4,
 "nbformat_minor": 2
}
