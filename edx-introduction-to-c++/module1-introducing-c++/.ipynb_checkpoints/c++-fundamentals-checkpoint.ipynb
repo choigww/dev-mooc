{
 "cells": [
  {
   "cell_type": "markdown",
   "metadata": {},
   "source": [
    "# C++ Fundamentals\n",
    "\n",
    "## Code Formatting\n",
    "\n",
    "C++ is **a case sensitive language**. Case sensitivity means that\n",
    "* **your keywords and variable declarations must match the case**. \n",
    "  * For example, a C++ keyword for a constant type is **`const`**. If you were to type **`Const` or `CONST`, the compiler would not know** that your intention was to use the keyword `const`.\n",
    "\n",
    "Aside from the case sensitivity, C++ also has a defined outline for program code and specific \"elements\" found in a typical C++ application. These elements consist of:\n",
    "\n",
    "* **Preprocessor directives** which are used to have the compiler execute tasks prior to compiling the source code\n",
    "  * using directives which are utilized **to indicate which namespaces to include in a source code file**\n",
    "* **a function header** which consists of a *return type, function name, and parameters*\n",
    "* **a function body** containing the code that performs the actions required of that function\n",
    "* **statements** that are contained in the C++ source code file\n",
    "* **comments** for documenting the source code for programmers to understand what the code is intended to do\n",
    "* **a return statement** that sends data back to the function caller\n",
    "* **curly braces** to enclose bodies of statements. Commonly used to denote the body of a function or a flow controls statement such as a for loop\n",
    "\n",
    "C++ source code also **permits judicious use of white space (tabs, spaces, new lines) to create code that is easier to read**. The compiler completely ignores the white space, with a small exception concerning if statements that will be covered later. \n",
    "* It is highly recommended that you make use of white space to indent and separate lines of code to aid in readability of your source code files.\n",
    "\n",
    "NOTE: Unlike Python, indenting lines after the for statement does not tell the compiler to execute those indented lines as part of the for statement. In C++, multiple statements for a single for statement, must be enclosed in curly braces. This will be covered more in Module 3, Control Statements."
   ]
  },
  {
   "cell_type": "code",
   "execution_count": null,
   "metadata": {},
   "outputs": [],
   "source": []
  },
  {
   "cell_type": "markdown",
   "metadata": {},
   "source": [
    "## C++ Statements\n",
    "\n",
    "A C++ program is comprised of various **components such as functions, methods, classes, etc**. The instructions that form part of a C++ program typically reside inside of functions or methods. These functions are comprised of C++ statements. You will find yourself using various types of statements in your C++ code as listed here:\n",
    "\n",
    "* **declarations** - these are used to declare variables and constants that will be used in your application\n",
    "* **assignments** - these are used to assign values to variables in your application code\n",
    "* **preprocessor directives** - covered in the topic on Code Formatting\n",
    "* **comments** - used to document your code\n",
    "* ** function declarations** - covered in the topic on Code Formatting\n",
    "* ** executable statements** - these are used to perform operations and execute instructions. Examples would be cout << \"Hello World!\"; which outputs Hello World! to the console.\n",
    "\n",
    "You will use these statement types throughout this and successive courses on C++."
   ]
  },
  {
   "cell_type": "code",
   "execution_count": null,
   "metadata": {},
   "outputs": [],
   "source": []
  }
 ],
 "metadata": {
  "kernelspec": {
   "display_name": "xeus C++11",
   "language": "",
   "name": "xeus-cling-cpp11"
  },
  "language_info": {
   "codemirror_mode": "text/x-c++src",
   "file_extension": ".cpp",
   "mimetype": "text/x-c++src",
   "name": "c++",
   "version": ""
  }
 },
 "nbformat": 4,
 "nbformat_minor": 2
}
