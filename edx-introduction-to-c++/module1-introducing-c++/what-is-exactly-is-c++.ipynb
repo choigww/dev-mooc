{
 "cells": [
  {
   "cell_type": "markdown",
   "metadata": {},
   "source": [
    "# Module 1. Introducing C++"
   ]
  },
  {
   "cell_type": "code",
   "execution_count": null,
   "metadata": {
    "collapsed": true
   },
   "outputs": [],
   "source": []
  },
  {
   "cell_type": "markdown",
   "metadata": {
    "collapsed": true
   },
   "source": [
    "## The C++ Language\n",
    "\n",
    "Bjarne Stroustrup. Bjarne lists a definition of C++ as:\n",
    "\n",
    "> \"... a general purpose programming language with a bias towards systems programming that\n",
    "* is a better C\n",
    "* supports data abstraction\n",
    "* supports object oriented programming\n",
    "* supports generic programming\"\n",
    "\n",
    "The language started in 1979 and was originally known as **C with Classes**. Essentially it meant that class files (used in **object-oriented** programming), were added to the C language. In 1983 it was **renamed to C++**.<br>\n",
    "\n",
    "C++ exists under the stewardship of a standards committee and became an ISO standard in 1998 with a revision in 2011 and a minor revision in 2014. It continues to be updated as a part of the standards committee work."
   ]
  },
  {
   "cell_type": "code",
   "execution_count": null,
   "metadata": {
    "collapsed": true
   },
   "outputs": [],
   "source": []
  },
  {
   "cell_type": "markdown",
   "metadata": {},
   "source": [
    "## History of C++\n",
    "\n",
    "### Quick Hisotry of C++\n",
    "* Born in 1979 as C with classes\n",
    "* Named C++ in 1983\n",
    "* Ratified as ISO standard in 1998; revised in 2011\n",
    "* Continues to change under stewardship of a standards committee, WG21"
   ]
  },
  {
   "cell_type": "code",
   "execution_count": null,
   "metadata": {
    "collapsed": true
   },
   "outputs": [],
   "source": []
  },
  {
   "cell_type": "markdown",
   "metadata": {},
   "source": [
    "## C++ Program Structure\n",
    "\n",
    "A C++ program has a very specific structure in terms of how the code is written and some key elements that you use in your C++ programs. The simplest of C++ programs is shown here.\n",
    "\n",
    "```c++\n",
    "1. #include <iostream>\n",
    "2. \n",
    "3. int main()\n",
    "4. {\n",
    "5.   std::cout << \"Hello World!\";\n",
    "6.   return 0;\n",
    "7. }\n",
    "```\n",
    "\n",
    "In this simple program we notice some elements listed. The line numbers are used for reference only and are not part of the program code.\n",
    "\n",
    "Line 1: this is known as a **pre-processor directive**. it instructs the compiler to locate the file that contains code for a library known as iostream. This library contains code that allows for input and output to streams, such as the console window.\n",
    "\n",
    "Line 3: Every C++ program must have a method known as main(). It is referred to as the entry point for the application when you start execution of the program on your computer. The int portion is the return type of the method. The empty parentheses () after the method name indicate that this a method and that it takes no arguments, in other words, there are no parameters for passing in values.\n",
    "\n",
    "Line 4: Method bodies in C++ start with an open curly brace. Line 5: This code uses a method known as cout (pronounced \"see out\") to send the text Hello World! to the console for output and display. The std:: prefix to this command is a way of indicating that cout is part of a namespace known as std. The :: is is used to indicate that cout is part of the std namespace.\n",
    "\n",
    "Also notice that the line ends with a semi-colon. C++ statements are terminated with semi-colons.\n",
    "\n",
    "Line 6: The return statement is used to end a function or method when a value is expected to be sent back to a caller. In this case, the caller is the operating system and the value returned is an integer value of 0. If the program reaches this statement, returning a value of 0 is an indication to the operating system that the code executed successfully. In the past, programmers would return 0 to indicate successful execution and non-zero values to indicate that an error had occurred in the program somewhere.\n",
    "\n",
    "Line 7: This line closes out the body of the function main() and is necessary so the compiler knows where the function or method ends, but is also used for other purposes that will be covered later in the course on variable scope and visibility.\n",
    "\n"
   ]
  },
  {
   "cell_type": "code",
   "execution_count": null,
   "metadata": {
    "collapsed": true
   },
   "outputs": [],
   "source": []
  },
  {
   "cell_type": "code",
   "execution_count": null,
   "metadata": {
    "collapsed": true
   },
   "outputs": [],
   "source": []
  },
  {
   "cell_type": "code",
   "execution_count": null,
   "metadata": {
    "collapsed": true
   },
   "outputs": [],
   "source": []
  },
  {
   "cell_type": "code",
   "execution_count": null,
   "metadata": {
    "collapsed": true
   },
   "outputs": [],
   "source": []
  },
  {
   "cell_type": "code",
   "execution_count": null,
   "metadata": {
    "collapsed": true
   },
   "outputs": [],
   "source": []
  },
  {
   "cell_type": "code",
   "execution_count": null,
   "metadata": {
    "collapsed": true
   },
   "outputs": [],
   "source": []
  }
 ],
 "metadata": {
  "kernelspec": {
   "display_name": "Python [default]",
   "language": "python",
   "name": "python3"
  },
  "language_info": {
   "codemirror_mode": {
    "name": "ipython",
    "version": 3
   },
   "file_extension": ".py",
   "mimetype": "text/x-python",
   "name": "python",
   "nbconvert_exporter": "python",
   "pygments_lexer": "ipython3",
   "version": "3.5.4"
  }
 },
 "nbformat": 4,
 "nbformat_minor": 2
}
