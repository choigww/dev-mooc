{
 "cells": [
  {
   "cell_type": "markdown",
   "metadata": {},
   "source": [
    "# Variables and Constants\n",
    "\n",
    "## Introducing Variables\n",
    "\n",
    "Variables are identifiers that you create to hold values or references to objects in your code. A variable is essentially a named memory location.<br>\n",
    "\n",
    "When you create a variable in C++, \n",
    "* you must give it a data type. \n",
    "* You can assign a value to the variable at the time you create it or later in your program code. \n",
    "\n",
    "#### This is known as initializing the variable. \n",
    "* Even though you can initialize a variable separate from its creation, you must assign the data type when you define the variable. \n",
    "\n",
    "C++ will not allow you to use an uninitialized variable to help prevent unwanted data from being used in your application. The following code sample demonstrates declaring a variable and assigning a value to it.  C++ supports two methods of initializing a variable."
   ]
  },
  {
   "cell_type": "code",
   "execution_count": 1,
   "metadata": {},
   "outputs": [],
   "source": [
    "int myVar = 0;\n",
    "int yourVar(1);"
   ]
  },
  {
   "cell_type": "code",
   "execution_count": 16,
   "metadata": {},
   "outputs": [
    {
     "name": "stdout",
     "output_type": "stream",
     "text": [
      "0"
     ]
    }
   ],
   "source": [
    "std::cout << myVar;"
   ]
  },
  {
   "cell_type": "code",
   "execution_count": 17,
   "metadata": {
    "scrolled": true
   },
   "outputs": [
    {
     "name": "stdout",
     "output_type": "stream",
     "text": [
      "1"
     ]
    }
   ],
   "source": [
    "std::cout << yourVar;"
   ]
  },
  {
   "cell_type": "markdown",
   "metadata": {},
   "source": [
    "C++ has some restrictions around identifiers that you need to be aware of.<br>\n",
    "\n",
    "First off, **identifiers are case-sensitive because C++ is a case-sensitive language**. That means that identifiers such as `myVar`, `_myVar`, and `myvar`, are considered **different identifiers**.<br>\n",
    "\n",
    "Identifiers can only contain \n",
    "* letters (in any case)\n",
    "* digits\n",
    "* underscore character. \n",
    "\n",
    "You can only start an identifier with a letter or an underscore character. You cannot start the identifier with a digit. `myVar` and `_myVar` are legal but `2Vars` is not.<br>\n",
    "\n",
    "C++ has a set of reserved keywords that the language uses. You cannot use these keywords as an identifier in your code. You may choose to take advantage of the case-sensitivity of C++ and use Long as an identifier to distinguish it from the reserved keyword long, but that is not a recommended approach.<br>\n",
    "\n",
    "To keep up to date on the reserved keywords for C++ you should always refer to the C++ standard but the current standard lists reserved keywords in the C++ Standard document found [here](https://isocpp.org/files/papers/N3690.pdf)."
   ]
  },
  {
   "cell_type": "code",
   "execution_count": null,
   "metadata": {},
   "outputs": [],
   "source": []
  },
  {
   "cell_type": "markdown",
   "metadata": {},
   "source": [
    "## Introducing Constants\n",
    "\n",
    "Similar to a variable, a constant expression is a named memory location for a value used in your application.  The difference is that, as you might expect, a constant expression cannot have its value change in the program during run time.  C++ uses the keyword `const` to indicate that an expression is a constant.<br>\n",
    "\n",
    "When you declare a constant in C++, you must assign **a literal value to that constant at the same time**.  You cannot assign it later in program nor can you change the value in code later.  Also, **because the value cannot be changed, you cannot initialize a constant with a variable or any other value** that will have its value modified during runtime.\n",
    "\n",
    "* `const` tells the compiler you won't try to change something.\n",
    "  - And the compiler will enforce this.\n",
    "* Using const correctly improves correctness\n",
    "  - Saves you from errors of thought\n",
    "  - Allows opimizations at compile time\n",
    "* Get `const` right from the beginning - very hard to add later\n",
    "* Use `const` everywhere you can!"
   ]
  },
  {
   "cell_type": "code",
   "execution_count": null,
   "metadata": {},
   "outputs": [],
   "source": []
  },
  {
   "cell_type": "markdown",
   "metadata": {},
   "source": [
    "## Type Conversions\n",
    "\n",
    "**Casting** refers to **converting one data type to another**. Some data conversions are not possible while some are possible but result in data loss. C++ can perform many conversions automatically, what is known as implicit casting or implicit conversion. For example, attempting to convert a smaller data type to larger data type as shown here:"
   ]
  },
  {
   "cell_type": "code",
   "execution_count": 2,
   "metadata": {},
   "outputs": [],
   "source": [
    "int myInt = 12; \n",
    "long myLong;\n",
    "myLong = myInt;"
   ]
  },
  {
   "cell_type": "markdown",
   "metadata": {},
   "source": [
    "In the first line, we declare an integer data type and assign it a value of 12. The next line declares a long data type and in the third line, we assign the integer data type value to the long data type. C++ automatically converts the data type for you. This is known as a widening conversion. Some programmers also call this an expanding assignment. We are expanding or widening the data type to a larger one. In this case, there is no loss in data. The following table highlights some potential data conversion problems.\n",
    "\n",
    "Conversion|Potential Issues\n",
    "---|---\n",
    "Large floating point type -><br> small floating point type|Loss of precision and/or the starting value might be out of range for the new type\n",
    "Floating point type -><br> integer type|Loss of the fractional component of the floating point type and/or out of range\n",
    "Bigger integer type -><br>smaller integer type|Starting value may be out of range for the new type"
   ]
  },
  {
   "cell_type": "markdown",
   "metadata": {},
   "source": [
    "This table only deals with numeric data type conversions. There are other conversion types such as from character to numeric or numeric to character, or among character types. C++ also uses the boolean type that represents true or false. If you assign a zero value to a bool variable, it will be converted to false. Any non-zero value is converted to true.\n",
    "<br>\n",
    "\n",
    "When you want to explicitly perform a conversion or cast, you can use the type cast features of C++. For example, the previous widening conversion in the int to long cast was implicit but you can also tell the compiler that you are know what you are doing by using the type cast statement as in:"
   ]
  },
  {
   "cell_type": "code",
   "execution_count": 4,
   "metadata": {
    "scrolled": true
   },
   "outputs": [],
   "source": [
    "myLong = (long)myInt;\n",
    "// or you can use this version as well\n",
    "// long myLong = long(myInt)"
   ]
  },
  {
   "cell_type": "code",
   "execution_count": null,
   "metadata": {},
   "outputs": [],
   "source": []
  },
  {
   "cell_type": "markdown",
   "metadata": {},
   "source": [
    "C++ also provides a cast operator that is more restrictive in its usage. This in the form `static_cast` (type). This `static cast operator` can be used for converting numeric values or to numeric values. As an example:"
   ]
  },
  {
   "cell_type": "code",
   "execution_count": 5,
   "metadata": {},
   "outputs": [],
   "source": [
    "char ch;\n",
    "int i = 65;\n",
    "float f = 2.5;\n",
    "double dbl;\n",
    "ch = static_cast<char>(i); // int to char\n",
    "dbl = static_cast<double>(f); // float to double"
   ]
  },
  {
   "cell_type": "code",
   "execution_count": 9,
   "metadata": {},
   "outputs": [
    {
     "name": "stdout",
     "output_type": "stream",
     "text": [
      "65"
     ]
    }
   ],
   "source": [
    "std::cout << i;"
   ]
  },
  {
   "cell_type": "code",
   "execution_count": 10,
   "metadata": {},
   "outputs": [
    {
     "name": "stdout",
     "output_type": "stream",
     "text": [
      "A"
     ]
    }
   ],
   "source": [
    "std::cout << ch;"
   ]
  },
  {
   "cell_type": "code",
   "execution_count": 11,
   "metadata": {},
   "outputs": [
    {
     "name": "stdout",
     "output_type": "stream",
     "text": [
      "2.5"
     ]
    }
   ],
   "source": [
    "std::cout << dbl;"
   ]
  },
  {
   "cell_type": "code",
   "execution_count": null,
   "metadata": {},
   "outputs": [],
   "source": []
  },
  {
   "cell_type": "code",
   "execution_count": 20,
   "metadata": {},
   "outputs": [],
   "source": [
    "int main()\n",
    "{\n",
    "    double i(3/2);\n",
    "    i = static_cast<int>(3.2);\n",
    "    i = static_cast<int>(2.9);\n",
    "    i = -1;\n",
    "    std::cout << i << std::endl;\n",
    "    \n",
    "}"
   ]
  },
  {
   "cell_type": "code",
   "execution_count": 21,
   "metadata": {},
   "outputs": [
    {
     "name": "stdout",
     "output_type": "stream",
     "text": [
      "1"
     ]
    }
   ],
   "source": [
    "// we can use 'auto'\n",
    "\n",
    "auto ii = 3/2;\n",
    "std::cout << ii;"
   ]
  },
  {
   "cell_type": "code",
   "execution_count": 24,
   "metadata": {},
   "outputs": [
    {
     "name": "stdout",
     "output_type": "stream",
     "text": [
      "1.5"
     ]
    }
   ],
   "source": [
    "auto ii_ = 3.0/2;\n",
    "std::cout << ii_;"
   ]
  },
  {
   "cell_type": "code",
   "execution_count": null,
   "metadata": {},
   "outputs": [],
   "source": []
  },
  {
   "cell_type": "code",
   "execution_count": 35,
   "metadata": {},
   "outputs": [],
   "source": [
    "const float PI = 3.14f;\n",
    "float r = 5.0f;\n",
    "float area = PI * (r*r);"
   ]
  },
  {
   "cell_type": "code",
   "execution_count": 36,
   "metadata": {},
   "outputs": [
    {
     "name": "stdout",
     "output_type": "stream",
     "text": [
      "78.5"
     ]
    }
   ],
   "source": [
    "std::cout << area;"
   ]
  },
  {
   "cell_type": "code",
   "execution_count": null,
   "metadata": {},
   "outputs": [],
   "source": []
  }
 ],
 "metadata": {
  "kernelspec": {
   "display_name": "xeus C++11",
   "language": "",
   "name": "xeus-cling-cpp11"
  },
  "language_info": {
   "codemirror_mode": "text/x-c++src",
   "file_extension": ".cpp",
   "mimetype": "text/x-c++src",
   "name": "c++",
   "version": ""
  }
 },
 "nbformat": 4,
 "nbformat_minor": 2
}
