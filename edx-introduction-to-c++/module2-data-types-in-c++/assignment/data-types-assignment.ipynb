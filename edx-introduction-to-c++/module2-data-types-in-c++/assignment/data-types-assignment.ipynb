{
 "cells": [
  {
   "cell_type": "markdown",
   "metadata": {},
   "source": [
    "# Choosing Data Types\n",
    "\n",
    "The data type chosen for your variables in a program should represent the type of information that will be used. When choosing a data type, such as int or string, careful consideration is required to ensure your application will handle the data entered by a user with the following aspects in mind:\n",
    "\n",
    "* `Range` - specifically for numeric values\n",
    "* `Format`- numeric or character data for zip/postal codes as an example\n",
    "* `Internationalization` - consideration for character set support\n",
    "\n",
    "Using these considerations, select what you feel are the appropriate data types for the following:\n",
    "\n",
    "* First Name\n",
    "* Street Address\n",
    "* Birth Date\n",
    "* Zip/Postal Code\n",
    "* Bank Account Balance\n",
    "* Months of the Year\n",
    "\n",
    "**Enter your selected data types** for these **along with rationale for why you chose them**.\n",
    "\n",
    "* Evaluate at least 2 of your peers providing feedback on their choices.\n",
    "* This is an opportunity to explore and learn more about data types and isn't a right vs wrong peer assessment. Participation means you get points for this assessment."
   ]
  },
  {
   "cell_type": "code",
   "execution_count": 2,
   "metadata": {},
   "outputs": [],
   "source": [
    "using namespace std;\n",
    "\n",
    "struct account_info \n",
    "{ \n",
    "    // do not support with international chars.\n",
    "    // use 'string' instead of 'char[?]'\n",
    "    // to avoid any exceptions - safe approach tradeoff.\n",
    "    string name; \n",
    "    string st_address; \n",
    "    \n",
    "    int birth_date; // 4 bytes to cover 6-digit integers \n",
    "    int zip_postal_code; // 4 bytes to cover +/- 10 digit integers\n",
    "    \n",
    "    double account_balance; // 8 bytes, for accuracy-precision.\n",
    "    short month_year; // 2bytes, range 1-12\n",
    "    \n",
    "};"
   ]
  },
  {
   "cell_type": "code",
   "execution_count": 5,
   "metadata": {},
   "outputs": [
    {
     "name": "stdout",
     "output_type": "stream",
     "text": [
      "(account_info &) @0x10e6ac2d0\n"
     ]
    }
   ],
   "source": [
    "account_info customer1 = {\n",
    "    \"Billy Charlie\",\n",
    "    \"71 Pilgrim Avenue Chevy Chase, MD 20815\",\n",
    "    19760517,\n",
    "    35004,\n",
    "    500374813.958,\n",
    "    5\n",
    "}"
   ]
  },
  {
   "cell_type": "code",
   "execution_count": 27,
   "metadata": {},
   "outputs": [
    {
     "name": "stdout",
     "output_type": "stream",
     "text": [
      "Billy Charlie\n"
     ]
    }
   ],
   "source": [
    "cout << customer1.name<< endl;"
   ]
  },
  {
   "cell_type": "code",
   "execution_count": 29,
   "metadata": {},
   "outputs": [
    {
     "name": "stdout",
     "output_type": "stream",
     "text": [
      "5.00375e+08\n"
     ]
    }
   ],
   "source": [
    "cout << customer1.account_balance << endl;"
   ]
  },
  {
   "cell_type": "code",
   "execution_count": null,
   "metadata": {},
   "outputs": [],
   "source": []
  }
 ],
 "metadata": {
  "kernelspec": {
   "display_name": "xeus C++11",
   "language": "",
   "name": "xeus-cling-cpp11"
  },
  "language_info": {
   "codemirror_mode": "text/x-c++src",
   "file_extension": ".cpp",
   "mimetype": "text/x-c++src",
   "name": "c++",
   "version": ""
  }
 },
 "nbformat": 4,
 "nbformat_minor": 2
}
