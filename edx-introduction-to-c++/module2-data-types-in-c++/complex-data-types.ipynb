{
 "cells": [
  {
   "cell_type": "markdown",
   "metadata": {},
   "source": [
    "# Complex Data Types\n",
    "\n",
    "## Arrays\n",
    "\n",
    "#### Complex Data Types (Arrays)\n",
    "\n",
    "So far you have been introduced to the intrinsic data types that C++ supports. These are types that contain the data literals directly. The int type directly stores the literal integer value, for example.<br>\n",
    "\n",
    "C++ also provides support for **complex data types**. These are also referred to as **compound data types**. Mostly because they store more than one piece of data or potentially more than one data type.<br>\n",
    "\n",
    "**An array is a set of objects that are grouped together and managed as a unit**. You can think of an array as a sequence of elements, all of which are the same type. You can build simple arrays that have one dimension (a list), two dimensions (a table), three dimensions (a cube), and so on. Arrays in C++ have the following features:\n",
    "\n",
    "* Every element in the array contains a value.\n",
    "* Arrays are **zero-indexed**, that is, the first item in the array is element 0.\n",
    "* The size of an array is the total number of elements that it can contain.\n",
    "* Arrays can be single-dimensional, multidimensional, or jagged.\n",
    "* The **rank** of an array is the **number of dimensions** in the array.\n",
    "\n",
    "Arrays of a particular type can only hold elements of that type. This means that you cannot store integers, longs, and character data types in the same array.\n",
    "\n",
    "\n",
    "#### Creating and Using Arrays\n",
    "\n",
    "When you declare an array, you specify the type of data that it contains and a name for the array. To declare a single-dimensional array, you specify the type of elements in the array and use brackets, [] to indicate that a variable is an array. The following code example shows how to create a single-dimensional array of integers with elements zero through nine."
   ]
  },
  {
   "cell_type": "code",
   "execution_count": 1,
   "metadata": {},
   "outputs": [],
   "source": [
    "int arrayName[10]; // an array of size 10"
   ]
  },
  {
   "cell_type": "markdown",
   "metadata": {},
   "source": [
    "You can also choose to create an array and initialize it with values at the same time as in the following example that declares and integer array and assigns values to it. The compiler knows how large to make the array by the number of values in the curly braces:"
   ]
  },
  {
   "cell_type": "code",
   "execution_count": 3,
   "metadata": {},
   "outputs": [],
   "source": [
    "// create array and initialize it with values\n",
    "int arrayName2[] = {1, 2, 3, 4, 5, 6, 7, 8, 9, 10};"
   ]
  },
  {
   "cell_type": "markdown",
   "metadata": {},
   "source": [
    "You can also declare an array and only initialize some of the elements:"
   ]
  },
  {
   "cell_type": "code",
   "execution_count": 5,
   "metadata": {},
   "outputs": [],
   "source": [
    "int arrayName3[10] = {1, 2, 3};"
   ]
  },
  {
   "cell_type": "markdown",
   "metadata": {},
   "source": [
    "In this case, we have declared an array of size 10 but have only assigned values to the first three elements. The compiler will initialize the remaining elements to the default value for the data type the array holds. In this case, int data type, the remaining values are initialized to 0."
   ]
  },
  {
   "cell_type": "markdown",
   "metadata": {},
   "source": [
    "#### Accessing Data in an Array\n",
    "\n",
    "You can access data in an array in several ways, such as by specifying the index of a specific element that you require or by iterating through the entire array and returning each element in sequence.<br>\n",
    "\n",
    "The following code example uses an index to access the element at index two."
   ]
  },
  {
   "cell_type": "code",
   "execution_count": null,
   "metadata": {},
   "outputs": [],
   "source": [
    "//Accessing Data by Index\n",
    "int oldNumbers[] = {1,2,3,4,5};\n",
    "\n",
    "//number will contain the value 3\n",
    "int number = oldNumbers[2];"
   ]
  },
  {
   "cell_type": "code",
   "execution_count": 7,
   "metadata": {},
   "outputs": [
    {
     "name": "stdout",
     "output_type": "stream",
     "text": [
      "3"
     ]
    }
   ],
   "source": [
    "std::cout << number;"
   ]
  },
  {
   "cell_type": "markdown",
   "metadata": {},
   "source": [
    "Note: Arrays are zero-indexed, so the first element in any dimension in an array is at index zero. The last element in a dimension is at index N-1, where N is the size of the dimension. If you are using some other languages, such as C#, and you attempt to access an element outside this range, the C# runtime will throw an exception (error). C++ doesn't offer such protection. If you attempt to access an element that is outside the bounds of your array, you will still return data, but you have no idea what that data is.<br>\n",
    "\n",
    "The reason for this is because an array is simply a pointer to a memory location. The first element of the array is the starting memory address for the entire array. If you have an array of integer data types, then the number of the elements multiplied by the size of the int data type on your system, determines how much memory is used by the array, and at the same time, permits the access of the elements in the array by performing math on the memory address to get at the required element. If you attempt to access oldNumbers[5], the program will simply return the data found at the memory address that is the next memory address location beyond the last array element. This can be a dangerous situation and is in fact, the result of some security issues found in software.<br>\n",
    "\n",
    "You can also iterate through an array by using a for loop. You will cover loops in module 3 so don't worry if you don't completely understand this example at this time. Essentially, the for loop starts at 0 and repeats the portion in the curly braces {} for each of the five steps in the loop.<br>\n",
    "\n",
    "The following code example shows how to use a for loop to iterate through an array."
   ]
  },
  {
   "cell_type": "code",
   "execution_count": 8,
   "metadata": {},
   "outputs": [
    {
     "name": "stdout",
     "output_type": "stream",
     "text": [
      "12345"
     ]
    }
   ],
   "source": [
    "//iterating over an array\n",
    "for (int i = 0; i < 5; i++)\n",
    "{\n",
    "    std::cout << oldNumbers[i];\n",
    "}"
   ]
  },
  {
   "cell_type": "code",
   "execution_count": null,
   "metadata": {},
   "outputs": [],
   "source": []
  },
  {
   "cell_type": "markdown",
   "metadata": {},
   "source": [
    "## Strings\n",
    "\n",
    "Strings are a series of characters. C++ represents strings in one of two ways. The first maintains backward compatibility with the C language and represents the string as a character array. There is one aspect to a C-style string that is important to note. \n",
    "* **The last character of every string you store is the null character string, typically represented by the ASCII code for 0 which is `\\0`.** \n",
    "\n",
    "This is necessary so that the compiler knows when the string ends. An example demonstrates a C-style string stored in a **character array**:\n",
    "\n"
   ]
  },
  {
   "cell_type": "code",
   "execution_count": 1,
   "metadata": {},
   "outputs": [],
   "source": [
    "// '\\0' - null character\n",
    "char isAString[6] = {'H', 'e', 'l', 'l', 'o', '\\0'};\n",
    "char isNotAString[5] = {'H', 'e', 'l', 'l', 'o'};"
   ]
  },
  {
   "cell_type": "code",
   "execution_count": 8,
   "metadata": {},
   "outputs": [
    {
     "name": "stdout",
     "output_type": "stream",
     "text": [
      "Hello\n",
      "Hello\n"
     ]
    }
   ],
   "source": [
    "std::cout << isAString << std::endl;\n",
    "\n",
    "// The below is supposed to get error when executed...\n",
    "std::cout << isNotAString << std::endl;"
   ]
  },
  {
   "cell_type": "markdown",
   "metadata": {},
   "source": [
    "The most common mistake made by users of the C-style string is to forget to \n",
    "* make the char array **large enough to accommodate the \\0 character**, but also forgetting **include the \\0**. \n",
    "\n",
    "In the previous example, a programmer might think that an array of size 5 would be large enough to contain Hello because that's how many characters are in the word. However, the null character would not be included in the second array, which could result in errors in code that uses this array. The reason is that C++ does not consider the isNotAString array to be a string.<br>\n",
    "\n",
    "Consider the output displayed in Figure 2.1. Note that the first output correctly terminates because C++ encountered the null (\\0) character. The second did not terminate and output the contents of adjacent memory.\n",
    "\n",
    "![](https://prod-edxapp.edx-cdn.org/assets/courseware/v1/efd28b8f67c53e1ce33448475f9e3e7b/asset-v1:Microsoft+DEV210x+4T2017+type@asset+block/StringOutput.PNG)\n",
    "\n",
    "An alternative method of declaring a character array for use as a string is \n",
    "* **to simply initialize it with a string literal**.\n",
    "\n",
    "A string literal is a sequence of characters enclosed in the double quotes (\"). For example:\n"
   ]
  },
  {
   "cell_type": "code",
   "execution_count": 4,
   "metadata": {},
   "outputs": [
    {
     "name": "stdout",
     "output_type": "stream",
     "text": [
      "Array size is inferred"
     ]
    }
   ],
   "source": [
    "char isAnotherString[] = \"Array size is inferred\";\n",
    "std::cout << isAnotherString;"
   ]
  },
  {
   "cell_type": "markdown",
   "metadata": {},
   "source": [
    "In the previous example, \n",
    "* the first line creates `an array of size 6` and assigns the string literal `Hello` to the array. \n",
    "* The second example lets the compiler infer the size from the string literal itself. \n",
    "\n",
    "Note that neither of these two string literals specifies a `\\0` character. The compiler will implicitly add that for you. However, caution is advised in the first line to ensure that you allow enough room in the array size specified for the null character. \n",
    " * If you create an array that is larger than required for the string literal along with the null character, then C++ simply fills the remaining elements of the array with null characters."
   ]
  },
  {
   "cell_type": "markdown",
   "metadata": {},
   "source": [
    "**The string Class** If the use of character arrays, single quoted characters, and null termination characters are making you think that strings aren't worth the hassle, consider the string class instead. The ISO/ANSI standard helped to expand the string handling capabilities of C++ by adding the string class.<br>\n",
    "\n",
    "In order to use the string class, **you have to include the string header file**. We have not covered **namespaces** yet but to make typing much easier, you would add a using statement as in the following example."
   ]
  },
  {
   "cell_type": "code",
   "execution_count": 5,
   "metadata": {},
   "outputs": [],
   "source": [
    "std::string myNewString = \"Less Typing\";\n",
    "\n",
    "\n",
    "// with 'using namespace std;', \n",
    "// we can ommit 'std::'.\n",
    "using namespace std;\n",
    "string myString = \"Hello!\";"
   ]
  },
  {
   "cell_type": "code",
   "execution_count": 9,
   "metadata": {},
   "outputs": [
    {
     "name": "stdout",
     "output_type": "stream",
     "text": [
      "Hello\n",
      "Array size is inferred\n"
     ]
    }
   ],
   "source": [
    "cout << isAString << endl;\n",
    "cout << isAnotherString << endl;"
   ]
  },
  {
   "cell_type": "markdown",
   "metadata": {},
   "source": [
    "Without the using `directive`, you would have to type `std::string` every time you wanted to use the string class in your code, as in the second line above.<br>\n",
    "\n",
    "As you can see from the code example, you use string in the same manner in which you would use any other data type in C++. You also do not need to add a null character to terminate your string."
   ]
  },
  {
   "cell_type": "code",
   "execution_count": null,
   "metadata": {},
   "outputs": [],
   "source": []
  },
  {
   "cell_type": "markdown",
   "metadata": {},
   "source": [
    "## Structures\n",
    "\n",
    "**Arrays** can store multiple pieces of data in one compound data type but recall, **the data types must all be of the same type**. \n",
    "#### If that is the case, how might you store multiple pieces of data in one type, where the individual pieces are of different data types? \n",
    "For example, let's say that we want to store information about a coffee bean. We might want to store information about the bean type, its strength, and perhaps which country it originated from. In this case, we could use all strings to store that information but what if the strength was intended to be a number from 1 to 10. In this case, we would want to store two strings and one integer in our coffee bean data type.<br>\n",
    "\n",
    "We haven't covered classes yet, which is another data type we could use, but instead, we will use a structure (struct) to store this information. **Structures are known as user-defined types**. You define the struct by giving it a name and then adding the member data types as in the following example:"
   ]
  },
  {
   "cell_type": "code",
   "execution_count": 10,
   "metadata": {},
   "outputs": [],
   "source": [
    "struct coffeeBean \n",
    "{ \n",
    "     string name; \n",
    "     string country; \n",
    "     int strength; \n",
    "};"
   ]
  },
  {
   "cell_type": "markdown",
   "metadata": {},
   "source": [
    "Recall that **in order to use the string data type in our struct, the C++ file that contains the struct must include the string header file**. This code snippet also assumes that using namespace std; has also been included.<br>\n",
    "\n",
    "Once we have defined the structure, we can then use it in our code the same as any other data type. To use the coffeeBean struct in your code, you simply declare a new variable of that type as shown in this example."
   ]
  },
  {
   "cell_type": "code",
   "execution_count": 13,
   "metadata": {},
   "outputs": [],
   "source": [
    "coffeeBean myBean = {\"Strata\", \"Columbia\", 10};\n",
    "\n",
    "coffeeBean newBean;\n",
    "newBean.name = \"Flora\";\n",
    "newBean.country = \"Mexico\";\n",
    "newBean.strength = 9;"
   ]
  },
  {
   "cell_type": "code",
   "execution_count": 19,
   "metadata": {},
   "outputs": [
    {
     "name": "stdout",
     "output_type": "stream",
     "text": [
      "Coffee bean Strata is from Columbia\n"
     ]
    }
   ],
   "source": [
    "cout << \"Coffee bean \" + myBean.name + \" is from \"\n",
    "                        + myBean.country << endl;"
   ]
  },
  {
   "cell_type": "code",
   "execution_count": 18,
   "metadata": {},
   "outputs": [
    {
     "name": "stdout",
     "output_type": "stream",
     "text": [
      "Coffee bean Flora is from Mexico\n"
     ]
    }
   ],
   "source": [
    "cout << \"Coffee bean \" + newBean.name + \" is from \" \n",
    "                        + newBean.country << endl;"
   ]
  },
  {
   "cell_type": "markdown",
   "metadata": {},
   "source": [
    "You can assign values to a struct using one of the methods seen here. For myBean, we assign values in the curly braces while for newBean, we use the dot notation. You can also access the values of the the struct members using the dot notation as well, shown in the cout statement at the end."
   ]
  },
  {
   "cell_type": "code",
   "execution_count": null,
   "metadata": {},
   "outputs": [],
   "source": []
  },
  {
   "cell_type": "markdown",
   "metadata": {},
   "source": [
    "## Unions\n",
    "\n",
    "A `union`, in C++, is similar to a structure in that it can store multiple, disparate data types. \n",
    "* **The differentiation is that a union can only store one piece of data at a time**. \n",
    "* What does that signify? It's best represented using an example."
   ]
  },
  {
   "cell_type": "code",
   "execution_count": 20,
   "metadata": {},
   "outputs": [],
   "source": [
    "union numericUnion{\n",
    "    int intValue;\n",
    "    long longValue;\n",
    "    double doubleValue;\n",
    "};"
   ]
  },
  {
   "cell_type": "code",
   "execution_count": 21,
   "metadata": {},
   "outputs": [
    {
     "name": "stdout",
     "output_type": "stream",
     "text": [
      "3\n",
      "4.5\n"
     ]
    }
   ],
   "source": [
    "numericUnion myUnion;\n",
    "\n",
    "myUnion.intValue = 3;\n",
    "cout << myUnion.intValue << endl;\n",
    "\n",
    "myUnion.doubleValue = 4.5;\n",
    "cout << myUnion.doubleValue << endl;"
   ]
  },
  {
   "cell_type": "code",
   "execution_count": 22,
   "metadata": {},
   "outputs": [
    {
     "name": "stdout",
     "output_type": "stream",
     "text": [
      "0\n"
     ]
    }
   ],
   "source": [
    "// call std::cout to the intValue in myUnion\n",
    "// it prints nothing (0)\n",
    "cout << myUnion.intValue; cout << endl;"
   ]
  },
  {
   "cell_type": "code",
   "execution_count": null,
   "metadata": {},
   "outputs": [],
   "source": []
  },
  {
   "cell_type": "markdown",
   "metadata": {},
   "source": [
    "In this example, we define a union called numericUnion and then create a variable of that type, called myUnion. We first assign the value 3 to the intValue field and then output it. Next we assign the value 4.5 to the doubleValue field and output that. The example shows how the union works when on the second to last line, we try to output the value for intValue again. In the output, it results in 0 rather than 3. The reason is that once we assign a value to doubleValue, what was contained in intValue is lost. **The union can only store a value in one of its fields at a time.**<br>\n",
    "\n",
    "#### Why use a union over a struct if it can only hold one piece of data at a time?\n",
    "* Consider a situation where you are programming an application that will run on a device with limited memory. \n",
    "* You would like to use a data type that can support multiple types internally like a struct, but not necessarily all at the same time. \n",
    "  * For example, part numbers for components in manufacturing where the part number may be a number or perhaps a string, depending on the manufacturer of the part. \n",
    "  * In this case, you could use the union to represent a numeric and a string data type internally but only assign the proper data type based on the part number."
   ]
  },
  {
   "cell_type": "code",
   "execution_count": null,
   "metadata": {},
   "outputs": [],
   "source": []
  },
  {
   "cell_type": "markdown",
   "metadata": {},
   "source": [
    "## Enumerations\n",
    "\n",
    "In the topics on variables and constants, it was noted that anytime you want to create a value for use in a program, where the value should never change, you used a constant. \n",
    "* **An enumeration can be considered a way to create what are known as symbolic constants.** \n",
    "\n",
    "The most common example is to use an enum to define the day of the week. There are only seven possible values for days of the week, and you can be reasonably certain that these values will never change.<br>\n",
    "\n",
    "To create an enum, you declare it in your code file with the following syntax, which demonstrates creating an enum called Day, that contains the days of the week:"
   ]
  },
  {
   "cell_type": "code",
   "execution_count": 23,
   "metadata": {},
   "outputs": [],
   "source": [
    "enum Day {\n",
    "    Sunday, Monday, Tuesday, Wednesday, Thursday, Friday, Saturday\n",
    "};"
   ]
  },
  {
   "cell_type": "markdown",
   "metadata": {},
   "source": [
    "**By default enum values start at 0 and each successive member is increased by a value of 1**. As a result, the previous enum 'Day' would contain the values:\n",
    "\n",
    "* Sunday = 0\n",
    "* Monday = 1\n",
    "* Tuesday = 2\n",
    "* etc ...\n",
    "\n",
    "You can change the default by specifying a starting value for your enum as in the following example."
   ]
  },
  {
   "cell_type": "code",
   "execution_count": 25,
   "metadata": {},
   "outputs": [],
   "source": [
    "enum Day2 {\n",
    "    Sunday = 1, Monday, Tuesday, Wednesday, Thursday, Friday, Saturday\n",
    "}"
   ]
  },
  {
   "cell_type": "markdown",
   "metadata": {},
   "source": [
    "In this example, Sunday is given the value 1 instead of the default 0. Now Monday is 2, Tuesday is 3, etc.<br>\n",
    "\n",
    "### \"The keyword enum\"\n",
    "is used to specify the \"type\" that the variable Day will be. In this case, an enumeration type. Consider the following code sample:"
   ]
  },
  {
   "cell_type": "code",
   "execution_count": 31,
   "metadata": {},
   "outputs": [
    {
     "name": "stdout",
     "output_type": "stream",
     "text": [
      "5\n"
     ]
    }
   ],
   "source": [
    "Day2 payDay;\n",
    "payDay = Day2::Thursday;\n",
    "cout << payDay << endl;"
   ]
  },
  {
   "cell_type": "markdown",
   "metadata": {},
   "source": [
    "The first line defines the enumeration `Day` and assigns seven values to the enum. Sunday is listed as the first day of the week and is initialized with the value one.<br>\n",
    "\n",
    "The second line declares a new variable called `payDay` which is of the Day enum type. In the third line, `payDay` is assigned a value from the list of values, in this case `Thursday`. Finally, the last line outputs the value of payDay to the console window. If you run this code, you will notice that the last line outputs 5 and not Thursday. \n",
    "* **Internally, the constants in the enum are used as numbers and not as the textual representation you assign to them.**"
   ]
  },
  {
   "cell_type": "code",
   "execution_count": null,
   "metadata": {},
   "outputs": [],
   "source": []
  }
 ],
 "metadata": {
  "kernelspec": {
   "display_name": "xeus C++11",
   "language": "",
   "name": "xeus-cling-cpp11"
  },
  "language_info": {
   "codemirror_mode": "text/x-c++src",
   "file_extension": ".cpp",
   "mimetype": "text/x-c++src",
   "name": "c++",
   "version": ""
  }
 },
 "nbformat": 4,
 "nbformat_minor": 2
}
