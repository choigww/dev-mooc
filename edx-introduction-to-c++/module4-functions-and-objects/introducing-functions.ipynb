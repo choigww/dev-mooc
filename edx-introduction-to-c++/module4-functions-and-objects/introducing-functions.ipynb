{
 "cells": [
  {
   "cell_type": "markdown",
   "metadata": {},
   "source": [
    "# Introducing Functions\n",
    "\n",
    "**Functions** are a component of a programming language that permit you to break down the behavior of an application into discreet pieces of functionality, hence the name function.  A function is essentially a block of C++ code that you give a name and then call from other locations in your application, when you want the computer to perform the instructions contained in that function.<br>\n",
    "\n",
    "You create a function by defining it.  The function definition may contain a return type, a function name, parameters to accept incoming arguments, and finally a body which contains the code that will execute as part of that function.  Functions may or may not return a value back to the caller and they may or may not accept arguments passed in to the function.<br>\n",
    "\n",
    "When you move into more advanced C++ programming, you can also overload functions.  This refers to the practice of using the same function name to refer to multiple functions that perform different actions.  Why would you do this?  Consider a simple scenario where you want to perform addition on some values so you create a function called Sum().  You could overload Sum() by creating variants such as:"
   ]
  },
  {
   "cell_type": "code",
   "execution_count": null,
   "metadata": {},
   "outputs": [],
   "source": [
    "// overload function Sum() by creating variants\n",
    "\n",
    "int Sum(int x, int y)\n",
    "{\n",
    "    return x+y;\n",
    "}\n",
    "\n",
    "int Sum(int x, int y, int z)\n",
    "{\n",
    "    return x+y+z;\n",
    "}"
   ]
  },
  {
   "cell_type": "markdown",
   "metadata": {},
   "source": [
    "### Functions\n",
    "* \"Don't Repeat Yourself\"\n",
    "* Twenty lines of code with a name makes more sense\n",
    "* Even better if you don't have to write it\n",
    "* Functions are strongly typed too\n",
    "  - Parameters\n",
    "  - Return type\n",
    "* Can be overloaded\n",
    "  - Different parameters\n",
    "* Compiler must know about a function before you call it"
   ]
  },
  {
   "cell_type": "code",
   "execution_count": null,
   "metadata": {},
   "outputs": [],
   "source": []
  },
  {
   "cell_type": "markdown",
   "metadata": {},
   "source": [
    "## Function Prototypes\n",
    "\n",
    "When declaring a function, you specify \n",
    "* its storage class, \n",
    "* return type, \n",
    "* name, \n",
    "* parameters.\n",
    "\n",
    "Some refer to this as the function signature.  In C++ it is also called a function prototype.<br>\n",
    "\n",
    "In C++, function prototypes belong in header files.  Recall that the header file is what gets imported into other source code files so that the compiler can track proper use of functions and other aspects of the included files. The function prototype only contains the function's signature with no implementation details.  The implementation details along with the function signature, define the function.  The function definition exists in the source code file(.cpp)."
   ]
  },
  {
   "cell_type": "code",
   "execution_count": null,
   "metadata": {},
   "outputs": [],
   "source": []
  },
  {
   "cell_type": "markdown",
   "metadata": {},
   "source": [
    "## Function Parameters\n",
    "\n",
    "A function can accept values that will be used in the statements in the function body.  These values are known as arguments when passed to a function.  The arguments are passed into parameters.  Parameters are the placeholders that are found inside the parentheses of a function declaration, as shown in the following example where a and b are the parameters.  Note that the data types for these are specified and that the parameters are separated by a comma.\n"
   ]
  },
  {
   "cell_type": "code",
   "execution_count": 2,
   "metadata": {},
   "outputs": [],
   "source": [
    "int Sum(int a, int b){\n",
    "    return a + b;\n",
    "}"
   ]
  },
  {
   "cell_type": "markdown",
   "metadata": {},
   "source": [
    "Your function can specify as many parameters as necessary for the function to complete its work but for obvious reasons, you don't want to create a function signature that is so long, your code line wraps.  If your function takes that many parameters, it's worth refactoring it to reduce the number of parameters.<br>\n",
    "\n",
    "When calling the function, you use the function name, followed by an open parenthesis, the arguments that will be passed into the parameters, and then a closing parenthesis, as shown here:\n"
   ]
  },
  {
   "cell_type": "code",
   "execution_count": 3,
   "metadata": {},
   "outputs": [
    {
     "name": "stdout",
     "output_type": "stream",
     "text": [
      "5"
     ]
    }
   ],
   "source": [
    "int result = Sum(2, 3);\n",
    "std::cout << result;"
   ]
  },
  {
   "cell_type": "markdown",
   "metadata": {},
   "source": [
    "Note that you don't have to include the data type specifiers for the arguments being passed in but you must know the data type the function expects.  This is one of the reasons for declaring a function prototype prior to using it in code."
   ]
  },
  {
   "cell_type": "code",
   "execution_count": null,
   "metadata": {},
   "outputs": [],
   "source": []
  },
  {
   "cell_type": "markdown",
   "metadata": {},
   "source": [
    "## Inline Functions\n",
    "\n",
    "One of the goals for using functions in your code is to create discrete pieces of functionality in your code that is easier to test and maintain.  However, functions also have an impact on application performance.  The reason for this impact results from the operations that must be performed when a function is called.  \n",
    "* For example, \n",
    "  * **registers in the CPU need to be reset,**\n",
    "  * **stack pointers are created,**\n",
    "  * **memory is consumed for these pointers**\n",
    "  * **and the values that are passed into and out of the function.**\n",
    "\n",
    "For simple functions that may perform only a single operation or have only a single, simple statement, you might wonder why creating a function for it is worth the effort.<br>\n",
    "\n",
    "You can still make use of a function to perform the necessary computation but **it makes more sense to create the function as an inline function**.  Inline functions **avoid the overhead associated with traditional function calls**. You create an inline function by prefixing it with the inline keyword.  A common function found in applications for a sorting algorithm such as bubble sort, is a swap function. Swap takes two variables and swaps their values as shown here:"
   ]
  },
  {
   "cell_type": "code",
   "execution_count": 4,
   "metadata": {},
   "outputs": [],
   "source": [
    "inline void swap(int & a, int & b){\n",
    "    int temp = a;\n",
    "    a = b;\n",
    "    b = temp;\n",
    "}"
   ]
  },
  {
   "cell_type": "markdown",
   "metadata": {},
   "source": [
    "Using this mechanism, each time that a call to the `swap()` method is encountered in your code, the compiler will insert the body of the function in that location as opposed to making a function call.  This example demonstrates what that would look like."
   ]
  },
  {
   "cell_type": "code",
   "execution_count": null,
   "metadata": {},
   "outputs": [],
   "source": [
    "// Traditional method that results in a function call\n",
    "swap(5, 6);\n",
    "\n",
    "// Using an line function call, the compiler converts the previous line to this\n",
    "int temp = a;\n",
    "a = b;\n",
    "b = temp;"
   ]
  },
  {
   "cell_type": "markdown",
   "metadata": {},
   "source": [
    "This avoids the overhead of making a function call because the contents of the function body are now located at the point where the functionality is required. Note a couple of points about inline functions:\n",
    "\n",
    "* the inline keyword is a compiler directive that is a recommendation only.  The compiler may ignore your request and compile the function normally resulting in function calls anyway.\n",
    "* if you are using inline functions and change the function in anyway, the code needs to be recompiled because the code for that function will need to be updated in each location it was used.\n",
    "* use inline functions only for small functions that are used frequently, not for large functions."
   ]
  },
  {
   "cell_type": "code",
   "execution_count": null,
   "metadata": {},
   "outputs": [],
   "source": []
  },
  {
   "cell_type": "markdown",
   "metadata": {},
   "source": [
    "## Storage Classes and Scope\n",
    "\n",
    "### MSDN \n",
    "defines storage class as, \"A storage class in the context of C++ variable declarations is a type specifier that governs the lifetime, linkage, and memory location of objects.\"<br>\n",
    "\n",
    "### Lifetime \n",
    "refers to how long the variable **\"hangs around\" in memory from the point at which it is declared and the point at which it is destroyed (the memory it used is released)**.  For the most part, once a variable goes out of scope, its memory will be released back to the operating system for reuse.<br>\n",
    "\n",
    "### Linkage\n",
    "refers to **the visibility of a variable outside** of the file that contains it.<br>\n",
    "\n",
    "### Memory location\n",
    "refers to the place in which the variable is found in memory.  This doesn't refer to the physical memory address as you might expect but more to **the logical division of memory that applies to a running application**. There are two logical memory areas known as the **stack** and the **heap**. \n",
    "* **The stack** is a location in memory where intrinsic data is stored as well as memory addresses (pointers). It operates in the form of data structure known as a stack. Like a cafeteria stack of plates, items are pushed on top of the stack and other items are pushed further down. To remove an item from the stack, it is popped off, used, and discarded.<br>\n",
    "* **The heap**, or free store, is a pool of memory that is used to store objects that dynamically allocated at run time by your application.  An object is what you will learn about in the next topic on object-oriented programming.  You create and destroy objects on the heap by using specific instructions in your program code.<br>\n",
    "\n",
    "### Scope\n",
    "is the term used describe where an identifier is visible in a program.  An identifier is a variable, constant, class, etc.  Your identifier is visible from the point in which you have declared it until the end of its scope.  The following code sample displays different scope for the identifiers used."
   ]
  },
  {
   "cell_type": "code",
   "execution_count": 6,
   "metadata": {},
   "outputs": [
    {
     "name": "stderr",
     "output_type": "stream",
     "text": [
      "\u001b[1minput_line_13:7:46: \u001b[0m\u001b[0;1;31merror: \u001b[0m\u001b[1muse of undeclared identifier 'i'\u001b[0m\n",
      "    std::cout << \"Current value of i is \" << i << std::cout;\n",
      "\u001b[0;1;32m                                             ^\n",
      "\u001b[0m"
     ]
    }
   ],
   "source": [
    "#include <iostream>\n",
    "int main(){\n",
    "    int total = 0;\n",
    "    for(int i = 1; i<=10; i++){\n",
    "        total += i;\n",
    "    }\n",
    "    std::cout << \"The sum of the numbers 1 to 10 is \" << total << std::endl;\n",
    "    \n",
    "    // out of scope for 'i'\n",
    "    // std::cout << \"Current value of i is \" << i << std::cout; \n",
    "    \n",
    "    return 0;\n",
    "}"
   ]
  },
  {
   "cell_type": "markdown",
   "metadata": {},
   "source": [
    "In the previous code, the variable total is declared inside main() but outside of the for loop.  This means that total is visible (in scope) for the entire main() method, which also includes inside the for loop.  However, the variable i is declared inside the for loop's initialization section and is therefore constrained to the scope of the for loop.   The code at line 10 will result in an error in C++ that indicates the variable is undefined. Anyplace other than inside the for loop is out of scope for the variable i.<br>\n",
    "\n",
    "C++ makes use of the following keywords that apply to storage classes:\n",
    "\n",
    "* `static` - identifiers declared with static are allocated when the program starts and deallocated when the program execution ends.  Declaring a variable as static in a function means that the variable will retain its value between calls to the function.\n",
    "* `extern` - used to declare an object that is defined in another translation unit of within the enclosing scope but has an external linkage.\n",
    "* `thread_local` - declares that the identifier is only accessible on the thread in which it is created.  This prevents sharing of the identifier across multiple threads in the same application.   This is part of the C++11 standard.\n"
   ]
  },
  {
   "cell_type": "code",
   "execution_count": null,
   "metadata": {},
   "outputs": [],
   "source": []
  },
  {
   "cell_type": "markdown",
   "metadata": {},
   "source": [
    "## Functions Demo"
   ]
  },
  {
   "cell_type": "code",
   "execution_count": null,
   "metadata": {},
   "outputs": [],
   "source": []
  },
  {
   "cell_type": "code",
   "execution_count": null,
   "metadata": {},
   "outputs": [],
   "source": []
  },
  {
   "cell_type": "code",
   "execution_count": null,
   "metadata": {},
   "outputs": [],
   "source": []
  },
  {
   "cell_type": "code",
   "execution_count": null,
   "metadata": {},
   "outputs": [],
   "source": []
  }
 ],
 "metadata": {
  "kernelspec": {
   "display_name": "xeus C++11",
   "language": "",
   "name": "xeus-cling-cpp11"
  },
  "language_info": {
   "codemirror_mode": "text/x-c++src",
   "file_extension": ".cpp",
   "mimetype": "text/x-c++src",
   "name": "c++",
   "version": ""
  }
 },
 "nbformat": 4,
 "nbformat_minor": 2
}
