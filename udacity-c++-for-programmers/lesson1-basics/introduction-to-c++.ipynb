{
 "cells": [
  {
   "cell_type": "markdown",
   "metadata": {},
   "source": [
    "# Introduction to C++"
   ]
  },
  {
   "cell_type": "markdown",
   "metadata": {},
   "source": [
    "## [What is C++?](https://youtu.be/tvDxEgQQK28)\n",
    "A programming language primarily **for applications that are very demanding on performance, energy consumption, speed.**\n",
    "* If you don't have serious constraints on your problem, then you can probably do with some other language.\n",
    "* **BUT** if you are **really concerned about reliability, performance, response time**, c++ becomes a choice."
   ]
  },
  {
   "cell_type": "code",
   "execution_count": null,
   "metadata": {},
   "outputs": [],
   "source": []
  },
  {
   "cell_type": "markdown",
   "metadata": {},
   "source": [
    "## [Why learn C++? / Why learn C++ as opposed to other languages?](https://youtu.be/3tEf6ulIgvY)\n",
    "\n",
    "\n",
    "#### Why learn C++?\n",
    "1. Useful.\n",
    "  * So many things that are programmed in C++\n",
    "    * space program, cameras, cell phones, data science stuff, self-driving cars, ...\n",
    "    * There would be a job for writing c++ in any field.\n",
    "2. Lots of features.\n",
    "  * you can use it to learn the fundamentals of quite a few variations of programming.\n",
    "  * you can learn how to work with data structures.\n",
    "  * you can learn how to write algorithms.\n",
    "  * you can learn how to write very high level generic code in it and you can fiddle with the bits and the hardware in it.\n",
    "  \n",
    "#### Why learn C++ as opposed to other languages?\n",
    "* C++ can be very useful as a learning tool to learn how to program.\n",
    "  * A lot of languages are built to do **one thing** or **they protect you against some of the unpleasantness of the real word** to the point where you can't actually learn how to deal with it."
   ]
  },
  {
   "cell_type": "code",
   "execution_count": null,
   "metadata": {},
   "outputs": [],
   "source": []
  },
  {
   "cell_type": "markdown",
   "metadata": {},
   "source": [
    "## [Where is C++ used?](https://youtu.be/UdTzHmjMYBc)\n",
    "ALMOST everywhere you are interested with!\n",
    "\n",
    "* finance\n",
    "* networking\n",
    "* games industry (graphics)\n",
    "* movie industry (CG, animation)\n",
    "* car industry (including self-driving)\n",
    "* energy industry (oil, wind turbine, ..)\n",
    "* smart phones, smart watches, ..."
   ]
  },
  {
   "cell_type": "code",
   "execution_count": null,
   "metadata": {},
   "outputs": [],
   "source": []
  },
  {
   "cell_type": "markdown",
   "metadata": {},
   "source": [
    "## [What makes C++ different?](https://youtu.be/vhvDkJscGVQ)\n",
    "\n",
    "### C++ works directly with the hardware\n",
    "* providing **really strong abstraction mechanisms** that are very powerful/modern so that **you don't have to deal with the low level stuff** all the time\n",
    "* and you can **still be efficient**!"
   ]
  },
  {
   "cell_type": "code",
   "execution_count": null,
   "metadata": {},
   "outputs": [],
   "source": []
  }
 ],
 "metadata": {
  "kernelspec": {
   "display_name": "xeus C++11",
   "language": "",
   "name": "xeus-cling-cpp11"
  },
  "language_info": {
   "codemirror_mode": "text/x-c++src",
   "file_extension": ".cpp",
   "mimetype": "text/x-c++src",
   "name": "c++",
   "version": ""
  }
 },
 "nbformat": 4,
 "nbformat_minor": 2
}
