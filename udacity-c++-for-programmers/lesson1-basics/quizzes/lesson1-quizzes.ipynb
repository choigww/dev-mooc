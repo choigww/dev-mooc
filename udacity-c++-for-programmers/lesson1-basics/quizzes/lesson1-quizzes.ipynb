{
 "cells": [
  {
   "cell_type": "markdown",
   "metadata": {},
   "source": [
    "## HelloWorld Programming Quiz"
   ]
  },
  {
   "cell_type": "code",
   "execution_count": null,
   "metadata": {},
   "outputs": [],
   "source": [
    "/*write a C++ program that outputs the following statement:\n",
    "*** \"Hello world, I am ready for C++\"\n",
    "*/\n",
    "\n",
    "#include \"iostream\"\n",
    "\n",
    "int main(){\n",
    "    std::cout << \"Hello world, I am ready for C++\";\n",
    "    return 0;\n",
    "}"
   ]
  },
  {
   "cell_type": "code",
   "execution_count": 3,
   "metadata": {},
   "outputs": [
    {
     "name": "stdout",
     "output_type": "stream",
     "text": [
      "Hello world, I am ready for C++"
     ]
    }
   ],
   "source": [
    "std::cout << \"Hello world, I am ready for C++\";"
   ]
  },
  {
   "cell_type": "code",
   "execution_count": null,
   "metadata": {},
   "outputs": [],
   "source": []
  },
  {
   "cell_type": "markdown",
   "metadata": {},
   "source": [
    "## Namespace Programming Quiz"
   ]
  },
  {
   "cell_type": "code",
   "execution_count": null,
   "metadata": {},
   "outputs": [],
   "source": [
    "/*Use the namespace keyword to simplify typing*/\n",
    "\n",
    "#include <iostream>\n",
    "\n",
    "using namespace std;\n",
    "int main()\n",
    "{\n",
    "    cout << \"Hey, writing std:: is pain, \";\n",
    "    cout << \"change the program so I don't have to write it.\";\n",
    "    return 0;\n",
    "}\n"
   ]
  },
  {
   "cell_type": "code",
   "execution_count": 2,
   "metadata": {},
   "outputs": [
    {
     "name": "stdout",
     "output_type": "stream",
     "text": [
      "Hey, writing std:: is pain, change the program so I don't have to write it."
     ]
    }
   ],
   "source": [
    "using namespace std;\n",
    "\n",
    "cout << \"Hey, writing std:: is pain, \";\n",
    "cout << \"change the program so I don't have to write it.\";\n",
    "return 0;"
   ]
  },
  {
   "cell_type": "code",
   "execution_count": null,
   "metadata": {},
   "outputs": [],
   "source": []
  },
  {
   "cell_type": "markdown",
   "metadata": {},
   "source": [
    "## Print Variables Programming Quiz"
   ]
  },
  {
   "cell_type": "code",
   "execution_count": null,
   "metadata": {},
   "outputs": [],
   "source": [
    "#include <iostream>\n",
    "int main()\n",
    "{\n",
    " using namespace std;\n",
    " cout<<\"int size = \"<<sizeof(int)<<\"\\n\";\n",
    " cout<<\"short size = \"<<sizeof(short)<<\"\\n\";\n",
    " cout<<\"long size = \"<<sizeof(long)<<\"\\n\";\n",
    " cout<<\"char size = \"<<sizeof(char)<<\"\\n\";\n",
    " cout<<\"float size = \"<<sizeof(float)<<\"\\n\";\n",
    " cout<<\"double size = \"<<sizeof(double)<<\"\\n\";\n",
    " cout<<\"bool size = \"<<sizeof(bool)<<\"\\n\";\n",
    " return 0;\n",
    "}"
   ]
  },
  {
   "cell_type": "code",
   "execution_count": 1,
   "metadata": {
    "scrolled": true
   },
   "outputs": [
    {
     "name": "stdout",
     "output_type": "stream",
     "text": [
      "int size = 4\n",
      "short size = 2\n",
      "long size = 8\n",
      "char size = 1\n",
      "float size = 4\n",
      "double size = 8\n",
      "bool size = 1\n"
     ]
    }
   ],
   "source": [
    "using namespace std;\n",
    "cout<<\"int size = \"<<sizeof(int)<<\"\\n\";\n",
    "cout<<\"short size = \"<<sizeof(short)<<\"\\n\";\n",
    "cout<<\"long size = \"<<sizeof(long)<<\"\\n\";\n",
    "cout<<\"char size = \"<<sizeof(char)<<\"\\n\";\n",
    "cout<<\"float size = \"<<sizeof(float)<<\"\\n\";\n",
    "cout<<\"double size = \"<<sizeof(double)<<\"\\n\";\n",
    "cout<<\"bool size = \"<<sizeof(bool)<<\"\\n\";\n",
    "return 0;"
   ]
  },
  {
   "cell_type": "code",
   "execution_count": null,
   "metadata": {},
   "outputs": [],
   "source": []
  },
  {
   "cell_type": "markdown",
   "metadata": {},
   "source": [
    "## Formatting Output Programming Quiz"
   ]
  },
  {
   "cell_type": "code",
   "execution_count": null,
   "metadata": {},
   "outputs": [],
   "source": [
    "/*Formatting Output \n",
    "**Goal: practice using cout to format output to console\n",
    "**Print the variables in three columns:\n",
    "**Ints, Floats, Doubles\n",
    "*/\n",
    "\n",
    "#include <iostream>\n",
    "#include <iomanip>\n",
    "\n",
    "int main()\n",
    "{\n",
    "    int a = 45;\n",
    "    float b = 45.323;\n",
    "    double c = 45.5468;\n",
    "    int aa = a + 9;\n",
    "    float bb = b + 9;\n",
    "    double cc = c + 9;\n",
    "    int aaa = aa + 9;\n",
    "    float bbb = bb + 9;\n",
    "    double ccc = cc + 9;\n",
    "\n",
    "    std::cout<<\"Ints\"<<std::setw(15)<<\"Floats\"<<std::setw(15)<<\"Doubles\"<< \"\\n\";\n",
    "\n",
    "    std::cout<<a;\n",
    "    std::cout<<std::setw(2+15)<<b;\n",
    "    std::cout<<std::setw(15)<<c<<\"\\n\";\n",
    "\n",
    "    std::cout<<aa;\n",
    "    std::cout<<std::setw(2+15)<<bb;\n",
    "    std::cout<<std::setw(15)<<cc<<\"\\n\";\n",
    "\n",
    "    std::cout<<aaa;\n",
    "    std::cout<<std::setw(2+15)<<bbb;\n",
    "    std::cout<<std::setw(15)<<ccc<<\"\\n\";\n",
    "    \n",
    "    return 0;\n",
    "}"
   ]
  },
  {
   "cell_type": "code",
   "execution_count": 6,
   "metadata": {},
   "outputs": [],
   "source": [
    "#include <iostream>\n",
    "#include <iomanip>\n",
    "int a = 45;\n",
    "float b = 45.323;\n",
    "double c = 45.5468;\n",
    "int aa = a + 9;\n",
    "float bb = b + 9;\n",
    "double cc = c + 9;\n",
    "int aaa = aa + 9;\n",
    "float bbb = bb + 9;\n",
    "double ccc = cc + 9;"
   ]
  },
  {
   "cell_type": "code",
   "execution_count": 25,
   "metadata": {},
   "outputs": [
    {
     "name": "stdout",
     "output_type": "stream",
     "text": [
      "Ints         Floats        Doubles\n",
      "45           45.323        45.5468\n",
      "54           54.323        54.5468\n",
      "63           63.323        63.5468\n"
     ]
    }
   ],
   "source": [
    "std::cout<<\"Ints\"<<std::setw(15)<<\"Floats\"<<std::setw(15)<<\"Doubles\"<< \"\\n\";\n",
    "\n",
    "std::cout<<a;\n",
    "std::cout<<std::setw(2+15)<<b;\n",
    "std::cout<<std::setw(15)<<c<<\"\\n\";\n",
    "\n",
    "std::cout<<aa;\n",
    "std::cout<<std::setw(2+15)<<bb;\n",
    "std::cout<<std::setw(15)<<cc<<\"\\n\";\n",
    "\n",
    "std::cout<<aaa;\n",
    "std::cout<<std::setw(2+15)<<bbb;\n",
    "std::cout<<std::setw(15)<<ccc<<\"\\n\";"
   ]
  },
  {
   "cell_type": "code",
   "execution_count": null,
   "metadata": {},
   "outputs": [],
   "source": []
  },
  {
   "cell_type": "markdown",
   "metadata": {},
   "source": [
    "## File IO Programming Quiz\n",
    "\n",
    "Play around with this program. Change the text in the `input.txt` file.<br>\n",
    "\n",
    "This text is repeated from the previous concept. Please feel free to skip it if you have already read it.<br>\n",
    "\n",
    "**Before you begin this quiz, I want to remind you about the file called `input.txt`.**<br>\n",
    "\n",
    "Our program reads and writes to this file. You can look at this file, you will see it has text in it. Our program will first write to this file, then read from it. Normally, if a program writes to a file we can open that file and see the added text in the file. We can’t do that for input.txt. We won’t see the added text in the file.\n",
    "* But we know it is writing to the file because we can see it being read by the program. We can also change input.txt and we will see the program reading the new text."
   ]
  },
  {
   "cell_type": "code",
   "execution_count": 1,
   "metadata": {},
   "outputs": [
    {
     "name": "stderr",
     "output_type": "stream",
     "text": [
      "\u001b[1minput_line_9:3:13: \u001b[0m\u001b[0;1;31merror: \u001b[0m\u001b[1mfunction definition is not allowed here\u001b[0m\n",
      "int main () {\n",
      "\u001b[0;1;32m            ^\n",
      "\u001b[0m"
     ]
    }
   ],
   "source": [
    "/*The goal of this quiz is to practice writing and reading files.\n",
    "**Read the contents of input.txt and then write to it. \n",
    "**\n",
    "**We are using input.txt as our file. This is not an ideal\n",
    "**situation, because when we write to it, we cannot\n",
    "**see the changes. We can manually write in input.txt and\n",
    "**we can also use the program to write to the file. \n",
    "**Then we can read what we wrote using our program.\n",
    "**\n",
    "**Your assignment for this quiz**\n",
    "**Change the contents of the file called input.txt\n",
    "**Change the ifstream and ofstream to fstream\n",
    "\n",
    "*/\n",
    "\n",
    "#include <iostream>\n",
    "#include <fstream>\n",
    "#include <string>\n",
    "using namespace std;\n",
    "\n",
    "int main () {\n",
    "    string line;\n",
    "    //create an output stream to write to the file\n",
    "    //append the new lines to the end of the file\n",
    "    ofstream myfileI (\"input.txt\", ios::app);\n",
    "    if (myfileI.is_open())\n",
    "    {\n",
    "        myfileI << \"\\nI am adding a line.\\n\";\n",
    "        myfileI << \"I am adding another line.\\n\";\n",
    "        myfileI.close();\n",
    "    }\n",
    "    else cout << \"Unable to open file for writing\";\n",
    "\n",
    "    //create an input stream to read the file\n",
    "    ifstream myfileO (\"input.txt\");\n",
    "    //During the creation of ifstream, the file is opened. \n",
    "    //So we do not have explicitly open the file. \n",
    "    if (myfileO.is_open())\n",
    "    {\n",
    "        while ( getline (myfileO,line) )\n",
    "        {\n",
    "            cout << line << '\\n';\n",
    "        }\n",
    "        myfileO.close();\n",
    "    }\n",
    "\n",
    "    else cout << \"Unable to open file for reading\";\n",
    "    \n",
    "    fstream myfile_f1 (\"input.txt\", fstream::app);\n",
    "    if (myfile_f1.is_open())\n",
    "    {\n",
    "\n",
    "        myfile_f1 << \"fstream!!!\\n\";\n",
    "        myfile_f1.close();\n",
    "    }\n",
    "\n",
    "    else cout << \"~\";\n",
    "    \n",
    "    \n",
    "    string line2;\n",
    "    fstream myfile_f2 (\"input.txt\");\n",
    "\n",
    "    if (myfile_f2.is_open())\n",
    "    {    \n",
    "        while ( getline (myfile_f2,line2) )\n",
    "        {\n",
    "            cout << line2 << '\\n';\n",
    "        }\n",
    "        myfile_f2.close();\n",
    "\n",
    "    }\n",
    "    else cout << \"Unable to open file for writing\";\n",
    "    \n",
    "    \n",
    "    return 0;\n",
    "}"
   ]
  },
  {
   "cell_type": "code",
   "execution_count": 2,
   "metadata": {},
   "outputs": [
    {
     "name": "stdout",
     "output_type": "stream",
     "text": [
      "\n",
      "I am adding a line.\n",
      "I am adding another line.\n"
     ]
    }
   ],
   "source": [
    "#include <iostream>\n",
    "#include <fstream>\n",
    "#include <string>\n",
    "using namespace std;\n",
    "\n",
    "string line;\n",
    "//create an output stream to write to the file\n",
    "//append the new lines to the end of the file\n",
    "ofstream myfileI (\"input.txt\", ios::app);\n",
    "if (myfileI.is_open())\n",
    "{\n",
    "    myfileI << \"\\nI am adding a line.\\n\";\n",
    "    myfileI << \"I am adding another line.\\n\";\n",
    "    myfileI.close();\n",
    "}\n",
    "else cout << \"Unable to open file for writing\";\n",
    "\n",
    "//create an input stream to read the file\n",
    "ifstream myfileO (\"input.txt\");\n",
    "//During the creation of ifstream, the file is opened. \n",
    "//So we do not have explicitly open the file. \n",
    "if (myfileO.is_open())\n",
    "{\n",
    "    while ( getline (myfileO,line) )\n",
    "    {\n",
    "        cout << line << '\\n';\n",
    "    }\n",
    "    myfileO.close();\n",
    "}\n",
    "\n",
    "else cout << \"Unable to open file for reading\";"
   ]
  },
  {
   "cell_type": "code",
   "execution_count": 3,
   "metadata": {},
   "outputs": [],
   "source": [
    "fstream myfile (\"input.txt\", fstream::app);\n",
    "if (myfile.is_open())\n",
    "{\n",
    "\n",
    "    myfile << \"\\nI am adding a line.\\n\";\n",
    "    myfile << \"I am adding another line.\\n\";\n",
    "    myfile << \"fstream!!!\\n\";\n",
    "    \n",
    "    myfile.close();\n",
    "}\n",
    "\n",
    "else cout << \"~\";"
   ]
  },
  {
   "cell_type": "code",
   "execution_count": 4,
   "metadata": {},
   "outputs": [
    {
     "name": "stdout",
     "output_type": "stream",
     "text": [
      "\n",
      "I am adding a line.\n",
      "I am adding another line.\n",
      "\n",
      "I am adding a line.\n",
      "I am adding another line.\n",
      "fstream!!!\n"
     ]
    }
   ],
   "source": [
    "string line2;\n",
    "fstream myfile_updated (\"input.txt\");\n",
    "\n",
    "if (myfile_updated.is_open())\n",
    "{    \n",
    "    while ( getline (myfile_updated,line2) )\n",
    "    {\n",
    "        cout << line2 << '\\n';\n",
    "    }\n",
    "    myfile_updated.close();\n",
    "\n",
    "}\n",
    "else cout << \"Unable to open file for writing\";"
   ]
  },
  {
   "cell_type": "code",
   "execution_count": null,
   "metadata": {},
   "outputs": [],
   "source": []
  },
  {
   "cell_type": "markdown",
   "metadata": {},
   "source": [
    "## Header Files Programming Quiz\n",
    "\n",
    "* Header files contain information about how to do a task.\n",
    "* The main program contains information about what to do."
   ]
  },
  {
   "cell_type": "code",
   "execution_count": null,
   "metadata": {},
   "outputs": [],
   "source": [
    "// main.hpp\n",
    "\n",
    "#include <iostream>\n",
    "#include <string>\n",
    "using namespace std;"
   ]
  },
  {
   "cell_type": "code",
   "execution_count": null,
   "metadata": {},
   "outputs": [],
   "source": [
    "// main.cpp\n",
    "\n",
    "/*Goal: practice using header files.\n",
    "**. \n",
    "**Put in the header file every thing that is related to \n",
    "**\"how to do a task\".\n",
    "**Put the \"what to do\" in the main program.\n",
    "*/\n",
    "\n",
    "#include \"main.hpp\"\n",
    "\n",
    "int main()\n",
    "{\n",
    "    cout<<\"Hello, I use header files!\";\n",
    "    return 0;\n",
    "}"
   ]
  },
  {
   "cell_type": "code",
   "execution_count": null,
   "metadata": {},
   "outputs": [],
   "source": []
  },
  {
   "cell_type": "code",
   "execution_count": null,
   "metadata": {},
   "outputs": [],
   "source": []
  },
  {
   "cell_type": "code",
   "execution_count": null,
   "metadata": {},
   "outputs": [],
   "source": []
  },
  {
   "cell_type": "code",
   "execution_count": null,
   "metadata": {},
   "outputs": [],
   "source": []
  },
  {
   "cell_type": "code",
   "execution_count": null,
   "metadata": {},
   "outputs": [],
   "source": []
  }
 ],
 "metadata": {
  "kernelspec": {
   "display_name": "xeus C++11",
   "language": "",
   "name": "xeus-cling-cpp11"
  },
  "language_info": {
   "codemirror_mode": "text/x-c++src",
   "file_extension": ".cpp",
   "mimetype": "text/x-c++src",
   "name": "c++",
   "version": ""
  }
 },
 "nbformat": 4,
 "nbformat_minor": 2
}
