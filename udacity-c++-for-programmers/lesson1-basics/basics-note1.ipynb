{
 "cells": [
  {
   "cell_type": "markdown",
   "metadata": {},
   "source": [
    "## Program Structure"
   ]
  },
  {
   "cell_type": "code",
   "execution_count": 1,
   "metadata": {},
   "outputs": [],
   "source": [
    "// Preprocessor Directive\n",
    "#include <iostream>\n",
    "\n",
    "// Main() function\n",
    "int main(){\n",
    "    std::cout << \"Hello world\";\n",
    "    return 0;\n",
    "}"
   ]
  },
  {
   "cell_type": "markdown",
   "metadata": {},
   "source": [
    "### Preprocessor directive\n",
    "\n",
    "```c++\n",
    "#include <iostream>\n",
    "\n",
    "`#` : \"preprocessor directive\"\n",
    "`include` : \"include the following library\"\n",
    "`iostream` : name of library\n",
    "`<>` : \"Look for this file in the directory where all the standard libraries are stored\"\n",
    "\n",
    "    \n",
    "#include \"main.hpp\"\n",
    "\n",
    "`\"\"` : \"look in the current directory, if the file is not there, then look in the directory where the standard libraries are stored.\"\n",
    "    \n",
    "```"
   ]
  },
  {
   "cell_type": "code",
   "execution_count": null,
   "metadata": {},
   "outputs": [],
   "source": []
  },
  {
   "cell_type": "markdown",
   "metadata": {},
   "source": [
    "## [Comments](https://youtu.be/gc_Rpz_AUrE)\n",
    "* Comments should be used to say things that you can't do in code.\n",
    "  * Code doesn't tell you waht at a high level is being done or WHY it is done.\n",
    "\n",
    "\n",
    "## Adding Comments\n",
    "Comments can be added in two ways:\n",
    "* As a comment block\n",
    "* As a single line\n",
    "\n",
    "In the next node you will see the prompt for a \"Hello World\" program.<br>\n",
    "\n",
    "The prompt is enclosed in the symbols: '/*' and '*/'. This is how we signify comment block. For example:"
   ]
  },
  {
   "cell_type": "code",
   "execution_count": null,
   "metadata": {},
   "outputs": [],
   "source": [
    "/*The start of a comment block.\n",
    "Everything between \"/*\" and \"*/\"\n",
    "is in the comment block.\n",
    "The end of a comment block.*/\n",
    "*/"
   ]
  },
  {
   "cell_type": "markdown",
   "metadata": {},
   "source": [
    "For this course we are adding asterisks for each line of the comment block. It is not necessary, but we think it draws your attention to the comment block.<br>\n",
    "\n",
    "For example:"
   ]
  },
  {
   "cell_type": "code",
   "execution_count": null,
   "metadata": {},
   "outputs": [],
   "source": [
    "/*write a C++ program that outputs the following statement:\n",
    "*** \"Hello world, I am ready for C++\"\n",
    "*/"
   ]
  },
  {
   "cell_type": "code",
   "execution_count": null,
   "metadata": {},
   "outputs": [],
   "source": []
  },
  {
   "cell_type": "markdown",
   "metadata": {},
   "source": [
    "A comment can be added as a single line by preceding the comment with two slash marks.<br>\n",
    "\n",
    "For example the code snippet below has two comments. Each comment begins with two slash marks. :"
   ]
  },
  {
   "cell_type": "code",
   "execution_count": null,
   "metadata": {},
   "outputs": [],
   "source": [
    "#include <iostream>"
   ]
  },
  {
   "cell_type": "code",
   "execution_count": null,
   "metadata": {},
   "outputs": [],
   "source": [
    "int main()\n",
    "{\n",
    "    int year = 0;\n",
    "    int age = 0;\n",
    "    std::string name = \" \";\n",
    "    \n",
    "    //print a message to the user <- this line is a comment\n",
    "    std::cout<<\"What year is your favorite? \";\n",
    "    \n",
    "    //get the user response and assign it to the year<- this line is a comment\n",
    "    std::cin >> year;\n",
    "    //...\n",
    "    \n",
    "    return 0;  \n",
    "}"
   ]
  },
  {
   "cell_type": "code",
   "execution_count": null,
   "metadata": {},
   "outputs": [],
   "source": []
  },
  {
   "cell_type": "markdown",
   "metadata": {},
   "source": [
    "## Style Guide\n",
    "\n",
    "There are a number of style guides available, \n",
    "### the best one is the one used by the people who are paying you.\n",
    "\n",
    "* A straightforward style guide is:\n",
    "[Modern C++ Coding Guidelines](https://github.com/Microsoft/AirSim/blob/master/docs/coding_guidelines.md)\n",
    "\n",
    "* For a more detailed guideline:\n",
    "[Google C++ Style Guideline](Google C++ Style Guideline)"
   ]
  },
  {
   "cell_type": "code",
   "execution_count": null,
   "metadata": {},
   "outputs": [],
   "source": []
  },
  {
   "cell_type": "markdown",
   "metadata": {},
   "source": [
    "## Using Namespace\n",
    "\n",
    "**Caution**\n",
    "Using Namespace can lead to problems (**possibly in large proejct**)!\n",
    "* `When the commands are not explicitly defined, there is a possibility that when your code is added to a large project, your code might reference a command from a different library.`\n",
    "* It's use is optional."
   ]
  },
  {
   "cell_type": "code",
   "execution_count": null,
   "metadata": {},
   "outputs": [],
   "source": [
    "#include <iostream>\n",
    "using namespace std;\n",
    "\n",
    "int main(){\n",
    "    cout << \"Hey, writing std:: is pain,\";\n",
    "    cout << \"change the program so I don't have to write it.\";\n",
    "    return 0;\n",
    "}"
   ]
  },
  {
   "cell_type": "code",
   "execution_count": null,
   "metadata": {},
   "outputs": [],
   "source": []
  },
  {
   "cell_type": "markdown",
   "metadata": {},
   "source": [
    "## Write to the Console\n",
    "* We can have multiple insertions to cout. A program snippet:\n",
    "```c++\n",
    "int integer = 4543;\n",
    "std::cout<<\"The value of integer is \"<<integer;\n",
    "```\n",
    "\n",
    "* Also, note that cout does not automatically add newlines. You must add them using the escape sequence “\\n”"
   ]
  },
  {
   "cell_type": "code",
   "execution_count": 4,
   "metadata": {},
   "outputs": [
    {
     "name": "stdout",
     "output_type": "stream",
     "text": [
      "23"
     ]
    }
   ],
   "source": [
    "std::cout<<23;"
   ]
  },
  {
   "cell_type": "code",
   "execution_count": 6,
   "metadata": {},
   "outputs": [
    {
     "name": "stdout",
     "output_type": "stream",
     "text": [
      "Hello World"
     ]
    }
   ],
   "source": [
    "std::cout<<\"Hello World\";"
   ]
  },
  {
   "cell_type": "code",
   "execution_count": 8,
   "metadata": {},
   "outputs": [
    {
     "name": "stdout",
     "output_type": "stream",
     "text": [
      "The value of integer is 4543"
     ]
    }
   ],
   "source": [
    "int integer = 4543;\n",
    "std::cout<<\"The value of integer is \"<<integer;"
   ]
  },
  {
   "cell_type": "code",
   "execution_count": 11,
   "metadata": {},
   "outputs": [
    {
     "name": "stdout",
     "output_type": "stream",
     "text": [
      "The value of integer_ is\n",
      "454333"
     ]
    }
   ],
   "source": [
    "int integer_ = 454333;\n",
    "std::cout<<\"The value of integer_ is\\n\"<<integer_;"
   ]
  },
  {
   "cell_type": "code",
   "execution_count": null,
   "metadata": {},
   "outputs": [],
   "source": []
  },
  {
   "cell_type": "markdown",
   "metadata": {},
   "source": [
    "As with other programming languages, the size a variable is allocated in memory is dependent upon its type. To determine how many bytes each variable type uses, C++ provides the function sizeof(variableType). \n",
    "\n",
    "```c++\n",
    "// sizeof(variable type) \n",
    "//ie: \n",
    "sizeof(int)\n",
    "```\n",
    "\n",
    "* When printing out the variable types, you may want to print them out, one per line.\n",
    "* To do this, add \"\\n\" or \"endl\" to the end of the text to be printed. \n",
    "* For example - newline character:\n",
    "```c++\n",
    "cout<<\"int size = \"<<sizeof(int)<<\"\\n\";\n",
    "```\n",
    "\n",
    "* A second option is \"endl\":\n",
    "```c++\n",
    "cout<<\"int size = \"<<sizeof(int)<<endl;\n",
    "```\n"
   ]
  },
  {
   "cell_type": "code",
   "execution_count": 1,
   "metadata": {},
   "outputs": [
    {
     "name": "stdout",
     "output_type": "stream",
     "text": [
      "int size = 4\n",
      "newline!"
     ]
    }
   ],
   "source": [
    "std::cout<<\"int size = \"<<sizeof(int)<<\"\\n\"<<\"newline!\";"
   ]
  },
  {
   "cell_type": "code",
   "execution_count": null,
   "metadata": {},
   "outputs": [],
   "source": [
    "std::cout<<\"int size = \"<<sizeof(int)<<std::endl;"
   ]
  },
  {
   "cell_type": "code",
   "execution_count": null,
   "metadata": {},
   "outputs": [],
   "source": []
  },
  {
   "cell_type": "markdown",
   "metadata": {},
   "source": [
    "In many instances endl and \"\\n\" will perform the same function. There are cases where they will be different. \n",
    "You can read a quick discussion about their differences here: \n",
    "* [newline and endline differences](http://stackoverflow.com/questions/7324843/why-use-endl-when-i-can-use-a-newline-character)\n",
    "* [more information about sizeof](https://www.tutorialspoint.com/cplusplus/cpp_sizeof_operator.htm)\n",
    "\n"
   ]
  },
  {
   "cell_type": "code",
   "execution_count": 3,
   "metadata": {},
   "outputs": [
    {
     "name": "stdout",
     "output_type": "stream",
     "text": [
      "1\n"
     ]
    }
   ],
   "source": [
    "std::cout<<sizeof(char)<<\"\\n\";"
   ]
  },
  {
   "cell_type": "code",
   "execution_count": 4,
   "metadata": {},
   "outputs": [
    {
     "name": "stdout",
     "output_type": "stream",
     "text": [
      "1\n",
      "4\n"
     ]
    }
   ],
   "source": [
    "std::cout<<sizeof(char)<<\"\\n\"<<sizeof(int)<<\"\\n\";"
   ]
  },
  {
   "cell_type": "code",
   "execution_count": 5,
   "metadata": {},
   "outputs": [
    {
     "name": "stdout",
     "output_type": "stream",
     "text": [
      "4281481"
     ]
    }
   ],
   "source": [
    "std::cout<<sizeof(int)<<sizeof(short)<<sizeof(long)<<sizeof(char)<<sizeof(float)<<sizeof(double)<<sizeof(bool);"
   ]
  },
  {
   "cell_type": "code",
   "execution_count": null,
   "metadata": {},
   "outputs": [],
   "source": []
  },
  {
   "cell_type": "markdown",
   "metadata": {},
   "source": [
    "## Define Constants\n",
    "\n",
    "In C++ we can define a variable as a constant. Meaning, its value does not change for the life of the program. We use the keyword `const` to define a constant.\n",
    "\n",
    "```c++\n",
    "const int weightGoal = 100;\n",
    "```\n",
    "\n",
    "With this statement we have set the integer weightGoal to 100. It cannot be changed during the program. If you want to change the value of weightGoal, you will have to edit the source code and recompile it.<br>\n",
    "\n",
    "**Look at the error messages that are generated when we attempt to compile and execute the code below. You will see that our attempt to change a constant variable fails.**"
   ]
  },
  {
   "cell_type": "code",
   "execution_count": 8,
   "metadata": {},
   "outputs": [],
   "source": [
    "#include <iostream>\n",
    "using namespace std;"
   ]
  },
  {
   "cell_type": "code",
   "execution_count": 12,
   "metadata": {},
   "outputs": [],
   "source": [
    "const int weightGoal = 100;"
   ]
  },
  {
   "cell_type": "code",
   "execution_count": null,
   "metadata": {},
   "outputs": [],
   "source": [
    "/*Goal: use constant variables*/\n",
    "int main()\n",
    "{\n",
    "    const int weightGoal = 100;\n",
    "    cout<<\"WeightGoal = \"<<weightGoal<<\"\\n\";\n",
    "    \n",
    "    // try to change the value of constant\n",
    "    weightGoal = 200;\n",
    "    cout<<\"WeightGoal = \"<<weightGoal<<\"\\n\";\n",
    "    \n",
    "    return 0;\n",
    "}"
   ]
  },
  {
   "cell_type": "code",
   "execution_count": 9,
   "metadata": {},
   "outputs": [
    {
     "name": "stderr",
     "output_type": "stream",
     "text": [
      "\u001b[1minput_line_21:5:12: \u001b[0m\u001b[0;1;31merror: \u001b[0m\u001b[1mcannot assign to variable 'weightGoal' with const-qualified type 'const int'\u001b[0m\n",
      "weightGoal = 200;\n",
      "\u001b[0;1;32m~~~~~~~~~~ ^\n",
      "\u001b[0m\u001b[1minput_line_21:2:12: \u001b[0m\u001b[0;1;30mnote: \u001b[0mvariable 'weightGoal' declared const here\u001b[0m\n",
      " const int weightGoal = 100;\n",
      "\u001b[0;1;32m ~~~~~~~~~~^~~~~~~~~~~~~~~~\n",
      "\u001b[0m"
     ]
    }
   ],
   "source": [
    "const int weightGoal = 100;\n",
    "cout<<\"WeightGoal = \"<<weightGoal<<\"\\n\";\n",
    "\n",
    "// try to change the value of constant\n",
    "weightGoal = 200;\n",
    "cout<<\"WeightGoal = \"<<weightGoal<<\"\\n\";"
   ]
  },
  {
   "cell_type": "code",
   "execution_count": null,
   "metadata": {},
   "outputs": [],
   "source": []
  },
  {
   "cell_type": "markdown",
   "metadata": {},
   "source": [
    "## Enumerated Constants\n",
    "\n",
    "C++ also allows for enumerated constants. This means the programmer can create a new variable type and then assign a finite number of values to it. Here is the form of the enum keyword:\n",
    "\n",
    "```c++\n",
    "enum type_name {\n",
    "  value1,\n",
    "  value2,\n",
    "  value3,\n",
    "  .\n",
    "  .\n",
    "} object_names;\n",
    "\n",
    "// for example\n",
    "\n",
    "enum MONTH {Jan, Feb, Mar, Apr, May, Jun, Jul, Aug, Sep, Oct, Nov, Dec};\n",
    "```\n",
    "\n",
    "In this example the enum variable MONTH has twelve possible values. These 12 values translate into 12 integer values.\n",
    "\n",
    "```c++\n",
    "Jan = 0\n",
    "Feb = 1\n",
    "//etc.\n",
    "```\n",
    "\n",
    "The program below demonstrates the use of the enum variable. \n",
    "* You can read more about enumerated variables at [C++ Data Types](http://www.cplusplus.com/doc/tutorial/other_data_types/)\n"
   ]
  },
  {
   "cell_type": "code",
   "execution_count": null,
   "metadata": {},
   "outputs": [],
   "source": [
    "/*Enum example*/\n",
    "\n",
    "#include <iostream>\n",
    "\n",
    "using namespace std;\n",
    "\n",
    "int main(){\n",
    "    //define MONTHS as having 12 possible values\n",
    "    enum MONTHS {Jan, Feb, Mar, Apr,May,Jun,Jul,Aug,Sep,Oct,Nov,Dec};\n",
    "    \n",
    "    //define bestMonth as a variable type MONTHS\n",
    "    MONTHS bestMonth;\n",
    "    \n",
    "    //assign bestMonth one of the values of MONTHS\n",
    "    bestMonth = Jan;\n",
    "    \n",
    "    //now we can check the value of bestMonths just \n",
    "    //like any other variable\n",
    "    if(bestMonth == Jan)\n",
    "    {\n",
    "        cout<<\"I'm not so sure January is the best month\\n\";\n",
    "    }\n",
    "    return 0;\n",
    "}"
   ]
  },
  {
   "cell_type": "code",
   "execution_count": 1,
   "metadata": {},
   "outputs": [
    {
     "name": "stdout",
     "output_type": "stream",
     "text": [
      "I'm not so sure January is the best month\n"
     ]
    }
   ],
   "source": [
    "#include <iostream>\n",
    "using namespace std;\n",
    "\n",
    "//define MONTHS as having 12 possible values\n",
    "enum MONTH {Jan,Feb,Mar,Apr,May,Jun,Jul,Aug,Sep,Oct,Nov,Dec};\n",
    "\n",
    "//define bestMonth as a variable type MONTHS\n",
    "MONTH bestMonth;\n",
    "\n",
    "//assign bestMonth one of the values of MONTHS\n",
    "bestMonth = Jan;\n",
    "\n",
    "//now we can check the value of bestMonths just \n",
    "//like any other variable\n",
    "if(bestMonth == Jan)\n",
    "{\n",
    "    cout<<\"I'm not so sure January is the best month\\n\";\n",
    "}"
   ]
  },
  {
   "cell_type": "code",
   "execution_count": null,
   "metadata": {},
   "outputs": [],
   "source": []
  },
  {
   "cell_type": "markdown",
   "metadata": {},
   "source": [
    "## Format Output\n",
    "\n",
    "To format data we can use escape sequences. These do not require any additional libraries. **The C++ escape sequences are pretty similar to other languages**. The most common ones are: \n",
    "* `\\n` - newline\n",
    "* `\\t` - tab\n",
    "\n",
    "We can also format the output by using the `iomanip` library. Include it as `#include`.<br>\n",
    "\n",
    "Once it is included, you can format output using the iomanip library. For example, we can set the width of an output using the setw command."
   ]
  },
  {
   "cell_type": "code",
   "execution_count": 2,
   "metadata": {},
   "outputs": [
    {
     "name": "stdout",
     "output_type": "stream",
     "text": [
      "\n",
      "\n",
      "The text without any formating\n",
      "IntsFloatsDoubles\n",
      "\n",
      "The text with setw(15)\n",
      "Ints         Floats        Doubles\n",
      "\n",
      "\n",
      "The text with tabs\n",
      "Ints\tFloats\tDoubles\n"
     ]
    }
   ],
   "source": [
    "#include <iomanip>\n",
    "\n",
    "std::cout<<\"\\n\\nThe text without any formating\\n\";\n",
    "std::cout<<\"Ints\"<<\"Floats\"<<\"Doubles\"<< \"\\n\";\n",
    "std::cout<<\"\\nThe text with setw(15)\\n\";\n",
    "std::cout<<\"Ints\"<<std::setw(15)<<\"Floats\"<<std::setw(15)<<\"Doubles\"<< \"\\n\";\n",
    "std::cout<<\"\\n\\nThe text with tabs\\n\";\n",
    "std::cout<<\"Ints\\t\"<<\"Floats\\t\"<<\"Doubles\"<< \"\\n\";"
   ]
  },
  {
   "cell_type": "code",
   "execution_count": null,
   "metadata": {},
   "outputs": [],
   "source": []
  },
  {
   "cell_type": "code",
   "execution_count": null,
   "metadata": {},
   "outputs": [],
   "source": []
  }
 ],
 "metadata": {
  "kernelspec": {
   "display_name": "xeus C++11",
   "language": "",
   "name": "xeus-cling-cpp11"
  },
  "language_info": {
   "codemirror_mode": "text/x-c++src",
   "file_extension": ".cpp",
   "mimetype": "text/x-c++src",
   "name": "c++",
   "version": ""
  }
 },
 "nbformat": 4,
 "nbformat_minor": 2
}
