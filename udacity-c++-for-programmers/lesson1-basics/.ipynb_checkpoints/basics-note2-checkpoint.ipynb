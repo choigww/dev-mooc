{
 "cells": [
  {
   "cell_type": "markdown",
   "metadata": {},
   "source": [
    "## File I/O\n",
    "\n",
    "File IO Steps:\n",
    "\n",
    "```\n",
    " - Include the <fstream> library \n",
    " - Create a stream (input, output, both)\n",
    "      - ofstream myfile; (for writing to a file)\n",
    "      - ifstream myfile; (for reading a file)\n",
    "      - fstream myfile; (for reading and writing a file)\n",
    " - Open the file  myfile.open(“filename”);\n",
    " - Write or read the file\n",
    " - Close the file myfile.close();\n",
    "```\n",
    "\n",
    "In the next quiz you are going to see the output stream and the input stream in action. Then I want you to play with this program by adding text to the input.txt file and then changing the ifstream and ofstream commands to fstream . Make sure that the text you write is read by the program.\n"
   ]
  },
  {
   "cell_type": "markdown",
   "metadata": {},
   "source": [
    "```c++\n",
    "#include <iostream>\n",
    "#include <fstream>\n",
    "#include <string>\n",
    "using namespace std;\n",
    "\n",
    "int main () {\n",
    "    string line;\n",
    "    //create an output stream to write to the file\n",
    "    //append the new lines to the end of the file\n",
    "    ofstream myfileI (\"input.txt\", ios::app);\n",
    "    if (myfileI.is_open())\n",
    "    {\n",
    "        myfileI << \"\\nI am adding a line.\\n\";\n",
    "        myfileI << \"I am adding another line.\\n\";\n",
    "        myfileI.close();\n",
    "    }\n",
    "    else cout << \"Unable to open file for writing\";\n",
    "\n",
    "    //create an input stream to read the file\n",
    "    ifstream myfileO (\"input.txt\");\n",
    "    //During the creation of ifstream, the file is opened. \n",
    "    //So we do not have explicitly open the file. \n",
    "    if (myfileO.is_open())\n",
    "    {\n",
    "        while ( getline (myfileO,line) )\n",
    "        {\n",
    "            cout << line << '\\n';\n",
    "        }\n",
    "        myfileO.close();\n",
    "    }\n",
    "\n",
    "    else cout << \"Unable to open file for reading\";\n",
    "\n",
    "    return 0;\n",
    "}\n",
    "```"
   ]
  },
  {
   "cell_type": "markdown",
   "metadata": {},
   "source": [
    "Before you begin this quiz, I want to talk about the file called `input.txt`.<br>\n",
    "\n",
    "Our program reads and writes to this file. You can look at this file, you will see it has text in it. Our program will first write to this file, then read from it. Normally, if a program writes to a file we can open that file and see the added text in the file. We can’t do that for `input.txt`. We won’t see the added text in the file.<br>\n",
    "\n",
    "But we know it is writing to the file because we can see it being read by the program. We can also change `input.txt` and we will see the program reading the new text."
   ]
  },
  {
   "cell_type": "code",
   "execution_count": 1,
   "metadata": {},
   "outputs": [],
   "source": [
    "#include <iostream>\n",
    "#include <fstream>\n",
    "#include <string>\n",
    "using namespace std;"
   ]
  },
  {
   "cell_type": "code",
   "execution_count": 2,
   "metadata": {},
   "outputs": [],
   "source": [
    "string line;"
   ]
  },
  {
   "cell_type": "code",
   "execution_count": 3,
   "metadata": {},
   "outputs": [
    {
     "name": "stdout",
     "output_type": "stream",
     "text": [
      "\n",
      "I am adding a line.\n",
      "I am adding another line.\n"
     ]
    }
   ],
   "source": [
    "//create an output stream to write to the file\n",
    "//append the new lines to the end of the file\n",
    "ofstream myfileI (\"input.txt\", ios::app);\n",
    "if (myfileI.is_open())\n",
    "{\n",
    "    myfileI << \"\\nI am adding a line.\\n\";\n",
    "    myfileI << \"I am adding another line.\\n\";\n",
    "    myfileI.close();\n",
    "}\n",
    "else cout << \"Unable to open file for writing\";\n",
    "\n",
    "//create an input stream to read the file\n",
    "ifstream myfileO (\"input.txt\");\n",
    "\n",
    "//During the creation of ifstream, the file is opened. \n",
    "//So we do not have explicitly open the file. \n",
    "if (myfileO.is_open())\n",
    "{\n",
    "    while ( getline (myfileO,line) )\n",
    "    {\n",
    "        cout << line << '\\n';\n",
    "    }\n",
    "    myfileO.close();\n",
    "}\n",
    "\n",
    "else cout << \"Unable to open file for reading\";\n"
   ]
  },
  {
   "cell_type": "code",
   "execution_count": null,
   "metadata": {},
   "outputs": [],
   "source": []
  },
  {
   "cell_type": "code",
   "execution_count": null,
   "metadata": {},
   "outputs": [],
   "source": []
  },
  {
   "cell_type": "code",
   "execution_count": null,
   "metadata": {},
   "outputs": [],
   "source": []
  },
  {
   "cell_type": "code",
   "execution_count": null,
   "metadata": {},
   "outputs": [],
   "source": []
  },
  {
   "cell_type": "code",
   "execution_count": null,
   "metadata": {},
   "outputs": [],
   "source": []
  },
  {
   "cell_type": "code",
   "execution_count": null,
   "metadata": {},
   "outputs": [],
   "source": []
  },
  {
   "cell_type": "code",
   "execution_count": null,
   "metadata": {},
   "outputs": [],
   "source": []
  }
 ],
 "metadata": {
  "kernelspec": {
   "display_name": "xeus C++11",
   "language": "",
   "name": "xeus-cling-cpp11"
  },
  "language_info": {
   "codemirror_mode": "text/x-c++src",
   "file_extension": ".cpp",
   "mimetype": "text/x-c++src",
   "name": "c++",
   "version": ""
  }
 },
 "nbformat": 4,
 "nbformat_minor": 2
}
