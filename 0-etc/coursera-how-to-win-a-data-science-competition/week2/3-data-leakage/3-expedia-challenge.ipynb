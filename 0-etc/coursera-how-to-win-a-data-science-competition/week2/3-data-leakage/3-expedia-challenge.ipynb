{
 "cells": [
  {
   "cell_type": "markdown",
   "metadata": {},
   "source": [
    "# Expedia Kaggle Competition\n",
    "\n",
    "https://www.kaggle.com/c/expedia-hotel-recommendations"
   ]
  },
  {
   "cell_type": "code",
   "execution_count": null,
   "metadata": {},
   "outputs": [],
   "source": []
  },
  {
   "cell_type": "markdown",
   "metadata": {},
   "source": [
    "### we worked with lots of customer behavior\n",
    "- These include what customers searched for, how they interacted with search results, clicks or books, and whether or not the search result was a travel package\n",
    "\n",
    "### Expedia was interested in predicting \n",
    "- which hotel group a user is going to book\n",
    "- Important thing here is prediction target the hotel group\n",
    "- In other words, characteristics of actual hotel"
   ]
  },
  {
   "cell_type": "code",
   "execution_count": null,
   "metadata": {},
   "outputs": [],
   "source": []
  },
  {
   "cell_type": "markdown",
   "metadata": {},
   "source": [
    "## Data Leakage\n",
    "\n",
    "Distance from user_city to an actual hotel he clicked on booked. And our prediction target is a characteristic of an actual hotel. Furthermore, destination distance was very precise so unique user_city and destination distance pairs corresponded to unique hotels.\n",
    "\n",
    "### We could treat `user_city` and `destination_distance` pair as a proxy to our target\n",
    "\n",
    "* (`destination_distance`, `user_city`) pair \n",
    "  * is a leak to **true hotel location**\n",
    "  * A lot of matches between train and test set\n",
    "  * **However, there are new observation in test set which do not appear in train set**\n",
    "* How to improve on that?\n",
    "  1. Features based on counts on corteges of such nature\n",
    "    * (ex) **how many hotels of which group** are for `user_city`, `hotel_country`, `hotel_city` triplet.\n",
    "    * then we coud train some machine learning model on such features\n",
    "  2. Try to find the true coordinates\n",
    "    * Find true coordinates of `user_cities` and `hotel_cities`\n",
    "    * Guess the `destination_distance` feature from those\n",
    "    * Find good approximation for the coordinates of actual hotels"
   ]
  },
  {
   "cell_type": "code",
   "execution_count": null,
   "metadata": {},
   "outputs": [],
   "source": []
  },
  {
   "cell_type": "markdown",
   "metadata": {},
   "source": [
    "## Spherical Geometry\n",
    "\n",
    "### Haversine formula\n",
    "source : https://en.wikipedia.org/wiki/Haversine_formula<br>\n",
    "\n",
    "For any two points on a sphere, the haversine of the central angle between them is given by\n",
    "\n",
    "![](https://wikimedia.org/api/rest_v1/media/math/render/svg/47a496cca1b6d57e0ae7b462c1678660392d1057)\n",
    "\n",
    "where\n",
    "\n",
    "* hav is the haversine function: ${\\displaystyle \\operatorname {hav} (\\theta )=\\sin ^{2}\\left({\\frac {\\theta }{2}}\\right)={\\frac {1-\\cos(\\theta )}{2}}} \\operatorname {hav} (\\theta )=\\sin ^{2}\\left({\\frac {\\theta }{2}}\\right)={\\frac {1-\\cos(\\theta )}{2}}$\n",
    "* d is the distance between the two points (along a great circle of the sphere; see spherical distance),\n",
    "* r is the radius of the sphere,\n",
    "* φ1, φ2: latitude of point 1 and latitude of point 2, in radians\n",
    "* λ1, λ2: longitude of point 1 and longitude of point 2, in radians\n",
    "\n",
    "![spherical-geometry](../img/spherical-geometry.png)"
   ]
  },
  {
   "cell_type": "code",
   "execution_count": null,
   "metadata": {},
   "outputs": [],
   "source": []
  },
  {
   "attachments": {},
   "cell_type": "markdown",
   "metadata": {},
   "source": [
    "## Hotel cities. Old version\n",
    "\n",
    "Now suppose we have true coordinates of three points (`user_city`, `hotel_city`, `hotel_country`) and distances from fourth point with unknown coordinates to each of them (`destination_distance`). \n",
    "* If you write down a system of three equations, one of each distance, we can unambiguously solve it and get true coordinates for the fourth point.\n",
    "\n",
    "![hotel-cities-old-version](../img/hotel-cities-old-version.png)\n",
    "\n",
    "Now, we have four points with known coordinates. So at first, by hook or by crook, we reverse engineer true coordinate of these big cities. After that, we can iteratively find coordinates of more and more cities.\n",
    "\n",
    "### But as you see in the picture, some cities end up in oceans\n",
    "* It means our algorithm is not very precise\n",
    "* A rounding error accumulates after every iteration and everything starts to fall apart\n",
    "* We get some different method and indeed we can do better"
   ]
  },
  {
   "cell_type": "code",
   "execution_count": null,
   "metadata": {},
   "outputs": [],
   "source": []
  },
  {
   "cell_type": "markdown",
   "metadata": {},
   "source": [
    "## Hotel cities. New version\n",
    "\n",
    "Remember how in iterative method we solved a system of three equations to unambiguously find coordinates or fourth unknown point. But why limit ourselves with three equations? \n",
    "\n",
    "![hotel-cities-new-version](../img/hotel-cities-new-version.png)\n",
    "\n",
    "### Let's create a giant system of equations from all known distances with true coordinates being done on variables.\n",
    "\n",
    "We end up with literally hundreds or thousands of equations and tens of thousands of unknown variables - good thing is it's very sparse.<br>\n",
    "\n",
    "We can apply special methods from SciPy to efficiently solve such a system. In the end, after solving that system of equations, we end up with a very precise coordinates for both `hotel_city` and `user_city`.\n",
    "\n",
    "![user-cities-new-version](../img/user-cities-new-version.png)\n",
    "\n",
    "\n",
    "\n"
   ]
  },
  {
   "cell_type": "code",
   "execution_count": null,
   "metadata": {},
   "outputs": [],
   "source": []
  },
  {
   "cell_type": "markdown",
   "metadata": {},
   "source": [
    "### We're predicting a type(characteristic) of a hotel using city coordinates and destination distance\n",
    "\n",
    "It's possible to find an **approximation of true coordinates of an actual hotel**.\n",
    "* When we fix `user_city` and draw a circumference around it with the radians of `destination_distance`, it's obvous that true hotel location must be somewhere on that circumference.\n",
    "* Now, let's fix some `hotel_city` and draw such circumferences from all `user_city` to that fixed `hotel_city` and draw them for every given `destination_distance`.\n",
    "\n",
    "After doing so, we end up with the pictures below.\n",
    "\n",
    "![circumferences](../img/circumferences.png)\n",
    "\n",
    "A city contains a limited number of hotels so the intuition here is that **hotels actually are on the intersection points and the more circumferences intersect in such point.**"
   ]
  },
  {
   "cell_type": "code",
   "execution_count": null,
   "metadata": {},
   "outputs": [],
   "source": []
  },
  {
   "cell_type": "markdown",
   "metadata": {},
   "source": [
    "## Counters in grid cells\n",
    "\n",
    "![circum-messy](../img/circum-messy.png)\n",
    "\n",
    "It's pretty messy and seems impossible to operate in terms of singluar points. However, there are **explicit clusters of points** and this information can be of use.<br>\n",
    "\n",
    "We can do some kind of integration for every city. Let's create a grid around its center something like 10km times 10km with stepsize of 100 meters.\n",
    "\n",
    "![counters-in-grid-cells](../img/counters-in-grid-cells.png)\n",
    "\n",
    "We can count how many hotels of which type are present there. \n",
    "* If a circumference goes through a cell, we give plus one to the hotel type corresponding to that circumference.\n",
    "* During inference, we also draw a circumference based on destination distance feature.\n",
    "* We see from what degree its cells it went through and use information from those cells to create features like **a sum of all counters, average of all counters, maximum of all counters, and so on**.\n",
    "\n"
   ]
  },
  {
   "cell_type": "code",
   "execution_count": null,
   "metadata": {},
   "outputs": [],
   "source": []
  },
  {
   "cell_type": "markdown",
   "metadata": {},
   "source": [
    "## Final model\n",
    "\n",
    "We have covered the part of feature engineering. Note that all the features directly used target label. **We cannot use them as is in training. We should generate them in out-of-fold fashion for train data.**\n",
    "\n",
    "### So we had training data for years 2013 and 2014. \n",
    "To generate features for year 2014, we used labelled data from year 2013 and vice versa. For the test features, which was from year 2015, we naturally used all training data.<br>\n",
    "\n",
    "In the end we calculated a lot of features and serve them into XGBoost model. \n",
    "\n",
    "* Out-of-fold feature geneartion. 2013 <-> 2014\n",
    "* XGBoost\n",
    "* 16 hours of training\n",
    "* Result : `3rd place in public / 4th place in private leaderboard`"
   ]
  },
  {
   "cell_type": "code",
   "execution_count": null,
   "metadata": {},
   "outputs": [],
   "source": []
  },
  {
   "cell_type": "code",
   "execution_count": null,
   "metadata": {},
   "outputs": [],
   "source": []
  }
 ],
 "metadata": {
  "kernelspec": {
   "display_name": "Python 3",
   "language": "python",
   "name": "python3"
  },
  "language_info": {
   "codemirror_mode": {
    "name": "ipython",
    "version": 3
   },
   "file_extension": ".py",
   "mimetype": "text/x-python",
   "name": "python",
   "nbconvert_exporter": "python",
   "pygments_lexer": "ipython3",
   "version": "3.6.2"
  }
 },
 "nbformat": 4,
 "nbformat_minor": 2
}
