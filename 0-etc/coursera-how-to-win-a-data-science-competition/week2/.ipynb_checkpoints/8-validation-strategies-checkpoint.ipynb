{
 "cells": [
  {
   "cell_type": "markdown",
   "metadata": {},
   "source": [
    "# Validation strategies"
   ]
  },
  {
   "cell_type": "code",
   "execution_count": null,
   "metadata": {},
   "outputs": [],
   "source": []
  },
  {
   "cell_type": "markdown",
   "metadata": {},
   "source": [
    "## Validation types\n",
    "* Holdout\n",
    "* K-fold\n",
    "* Leave-one-out"
   ]
  },
  {
   "cell_type": "code",
   "execution_count": null,
   "metadata": {},
   "outputs": [],
   "source": []
  },
  {
   "cell_type": "markdown",
   "metadata": {},
   "source": [
    "## Validation types\n",
    "### Holdout : `ngroups = 1`\n",
    "\n",
    "```\n",
    "sklearn.model_selection.ShuffleSplit\n",
    "```\n",
    "![holdout](img/holdout.png)\n",
    "\n",
    "* Fit our model on the training data frame\n",
    "* Evaluate its quality on the validation data frame\n",
    "* Using the scores from the evaluation we select the best model\n",
    "* When we are ready to make a submission, **we can retrain our model on our data with given labels**\n",
    "\n",
    "#### Using `holdout` as validation is a good choice when ...\n",
    "* we have enough data\n",
    "* we are likely to get similar scores from the same model with different splits\n",
    "\n"
   ]
  },
  {
   "cell_type": "code",
   "execution_count": null,
   "metadata": {},
   "outputs": [],
   "source": []
  },
  {
   "cell_type": "markdown",
   "metadata": {},
   "source": [
    "### K-fold : `ngroups = k`\n",
    "\n",
    "The core idea of is:\n",
    "* **that we want to use every sample for validation only once!**\n",
    "\n",
    "```\n",
    "sklearn.model_selection.Kfold\n",
    "```\n",
    "\n",
    "![kfold](img/kfold.png)\n",
    "\n",
    "#### Using `Kfold` as validation is good choice when\n",
    "* we have a minimum amount of data\n",
    "* we can get either a sufficiently big difference in performnace or different optimal parameters between folds\n"
   ]
  },
  {
   "cell_type": "code",
   "execution_count": null,
   "metadata": {},
   "outputs": [],
   "source": []
  },
  {
   "cell_type": "markdown",
   "metadata": {},
   "source": [
    "### Leave-one-out : `ngroups = len(train)`\n",
    "* A special case of Kfold when `K = len(train)`\n",
    "* It will iterate through every sample in our data\n",
    "\n",
    "#### Using `leave-one-out` as validation is good choice when\n",
    "* we have too little data and fast-enough model to retrain\n",
    "* we can get either a sufficiently big difference in performnace or different optimal parameters between folds\n"
   ]
  },
  {
   "cell_type": "code",
   "execution_count": null,
   "metadata": {},
   "outputs": [],
   "source": []
  },
  {
   "cell_type": "markdown",
   "metadata": {},
   "source": [
    "## Stratification\n",
    "\n",
    "Usually `Kfold` is used for validation task. But sometimes, especially if you do not have enough samples for some class, a random split can fail.<br>\n",
    "\n",
    "[For example] \n",
    "We have binary classification tests and a small data set with eight samples - 4 of class `0`, 4 of class `1`.\n",
    "\n",
    "* Let's split data into four folds (blue, orange, green, red)\n",
    "* Notice that we are not always getting `0` or `1` in the same problem\n",
    "* If we use the second fold for validation, we will get an average value of the target in the train of **two third instead of one half**\n",
    "  * This can drastically change predictions of our model\n",
    "\n",
    "![stratification](img/stratification.png)\n",
    "\n",
    "### What we need here to handle the problem = `stratification`\n",
    "A way to ensure we will get similar target distribution over different pars\n",
    "* If we split data into four parts with stratification, the average of each part target values will be equal to one half.\n",
    "\n",
    "### `Stratification` is useful for:\n",
    "* Small datasets\n",
    "* Unbalanced datasets\n",
    "* Multiclass classification\n",
    "\n",
    "For good classification data sets, the stratification split will be quite similar to a simple shuffle split (random split)."
   ]
  },
  {
   "cell_type": "code",
   "execution_count": null,
   "metadata": {},
   "outputs": [],
   "source": []
  },
  {
   "cell_type": "markdown",
   "metadata": {},
   "source": [
    "## Conclusion\n",
    "\n",
    "There are three main validation strategies:\n",
    "1. Holdout\n",
    "2. KFold\n",
    "3. LOO\n",
    "\n",
    "**Stratification** preserve the same target distribution over different folds"
   ]
  },
  {
   "cell_type": "code",
   "execution_count": null,
   "metadata": {},
   "outputs": [],
   "source": []
  }
 ],
 "metadata": {
  "kernelspec": {
   "display_name": "Python 3",
   "language": "python",
   "name": "python3"
  },
  "language_info": {
   "codemirror_mode": {
    "name": "ipython",
    "version": 3
   },
   "file_extension": ".py",
   "mimetype": "text/x-python",
   "name": "python",
   "nbconvert_exporter": "python",
   "pygments_lexer": "ipython3",
   "version": "3.6.2"
  }
 },
 "nbformat": 4,
 "nbformat_minor": 2
}
