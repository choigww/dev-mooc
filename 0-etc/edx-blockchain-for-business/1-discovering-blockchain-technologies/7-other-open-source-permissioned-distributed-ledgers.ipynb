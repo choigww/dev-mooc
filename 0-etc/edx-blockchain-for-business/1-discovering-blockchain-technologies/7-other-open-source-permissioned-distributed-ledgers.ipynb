{
 "cells": [
  {
   "cell_type": "markdown",
   "metadata": {},
   "source": [
    "# Other Open Source Permissioned Distributed Ledgers"
   ]
  },
  {
   "cell_type": "code",
   "execution_count": null,
   "metadata": {
    "collapsed": true
   },
   "outputs": [],
   "source": []
  },
  {
   "cell_type": "markdown",
   "metadata": {},
   "source": [
    "## Other Distributed Ledger Technologies (Robert Schwentker)\n",
    "\n",
    "https://youtu.be/cCow5ljs-f8\n",
    "\n",
    "> \"What are some examples of other blockchain and distributed ledger technology systems, and what are their benefits?\"\n",
    "\n",
    "* > **Chain Core**, created by chain.com, has initially been designed for financial service institutions, and for things like securities, bonds, and currencies.\n",
    "**Their company has strong ties with Visa, Citigroup, and Nasdaq.**\"\n",
    "\n",
    "* > \"The **Corda distributed ledger platform** is designed to record, manage, and automate legal agreements between businesses. It was created by the R3 company, which is a consortium of over a hundred global financial institutions.\"\n",
    "\n",
    "* > \"Quorum is a permissioned implementation of **Ethereum**, which supports **data privacy**. Quorum achieves this data privacy through allowing data visibility on need-to-know basis by a **voting-based consensus** algorithm.\n",
    "Interestingly, Quorum was created and open sourced by **JPMorgan**.\""
   ]
  },
  {
   "cell_type": "code",
   "execution_count": null,
   "metadata": {
    "collapsed": true
   },
   "outputs": [],
   "source": []
  },
  {
   "cell_type": "markdown",
   "metadata": {},
   "source": [
    "## Chain Core\n",
    "\n",
    "Chain Core is an enterprise permissioned blockchain system that is mostly focused on financial services, like currencies, securities, derivatives, gift cards, and loyalty points. The company partners with clients to launch and operate a network under the client's brand. Thanks to its strategic partnerships with companies such as Capital One, Citigroup, Fiserv, Nasdaq, Orange, Visa, etc., the company raised over $40 million in funding since 2014.<br>\n",
    "\n",
    "Within the Chain Core network, the creation and transfer of assets is decentralized. However, as stated in the 2016 Kudelski Security report,\n",
    "\n",
    "> **\"the operation of the network is governed by a designated set of entities known as a federation\"**.\n",
    "\n",
    "The platform features the Chain Testnet, which allows decentralized application development on Chain Core, operated by Chain, Microsoft, and the Initiative for Cryptocurrencies and Contracts (IC3).<br>\n",
    "\n",
    "For more information, please refer to https://chain.com/technology/."
   ]
  },
  {
   "cell_type": "code",
   "execution_count": null,
   "metadata": {
    "collapsed": true
   },
   "outputs": [],
   "source": []
  },
  {
   "cell_type": "markdown",
   "metadata": {},
   "source": [
    "## Corda\n",
    "\n",
    "As of September 2017, R3 is a consortium of over one hundred large global financial institutions, that seeks to leverage **distributed ledger technologies to record, manage, and automate legal agreements between businesses** through its software solution, called `Corda`.<br>\n",
    "\n",
    "Corda is a distributed ledger platform, which features a **blockchain-style P2P network**; however, it is not a blockchain platform. Unlike blockchains, which involve global availability of data across the network and third party validators, **Corda only allows information access and validation functions to parties actually involved in the transaction**. Featuring a different software architecture, **\"Corda achieves consensus between firms at the level of individual deals, not the level of the system\"** ([Richard Gendal Brown](http://www.r3cev.com/blog/2016/4/4/introducing-r3-corda-a-distributed-ledger-designed-for-financial-services), 2016), while supporting a variety of consensus mechanisms.<br>\n",
    "\n",
    "For more information, please refer to https://www.corda.net/."
   ]
  },
  {
   "cell_type": "code",
   "execution_count": null,
   "metadata": {
    "collapsed": true
   },
   "outputs": [],
   "source": []
  },
  {
   "cell_type": "markdown",
   "metadata": {},
   "source": [
    "## Quorum\n",
    "\n",
    "Created by **JPMorgan, Quorum** is, in fact, **a fork of the Ethereum public blockchain**, which uses a **voting-based consensus** algorithm to facilitate an enterprise-focused distributed ledger and smart contract platform. Data privacy is achieved within the network by allowing data visibility on a need-to-know basis. The platform is designed to support **\"both transaction-level privacy and network-wide transparency\"** ([jpmorgan.com](https://www.jpmorgan.com/country/US/EN/Quorum)). The network validates all smart contracts and overall system state through the involvement of all running nodes. As with other permissioned ledgers, regulatory compliance is front and center in the Quorum platform."
   ]
  },
  {
   "cell_type": "code",
   "execution_count": null,
   "metadata": {
    "collapsed": true
   },
   "outputs": [],
   "source": []
  },
  {
   "cell_type": "markdown",
   "metadata": {},
   "source": [
    "## IOTA\n",
    "\n",
    "The cryptocurrency IOTA has been around since 2015. According to [Martin Rosulek](https://medium.com/@MartinRosulek/how-iota-makes-future-for-internet-of-things-af14fd77d2a3), *\"It is the first cryptocurrency that provides the whole ecosystem based on blockless blockchain\"* to enable **machine-to-machine (M2M) transactions**.<br>\n",
    "\n",
    "IOTA, however, is **more than just a cryptocurrency**. Essentially, the platform entails a generalization of the blockchain protocol (the technology called Tangle) that sits at the backend of the IOTA platform. <br>\n",
    "\n",
    "Instead of paying miners to validate the transactions, **the architecture of the network involves peer-based validation**. We can think of a simple analogy, that of a teacher grading students' homework: \n",
    "* the students are the clients/users in the Bitcoin protocol, \n",
    "* and the teacher is the miner/validator. \n",
    "* Tangle technology asks students (users) to grade each other's homework, making the need for a teacher (external validator) redundant, and avoiding expenses related to the teacher's/validator's work. \n",
    "\n",
    "This allows the platform to be **completely free of cost**, without facing the scaling challenges that are inherent in the first generation of blockchains.<br>\n",
    "\n",
    "Additionally, the use of the platform with connected devices or the Internet of Things\n",
    "\n",
    "> \"enables companies to explore new business-to-business models by making every technological resource a potential service to be traded on an open market in real time, with no fees\".\n",
    "- [Roger Aitken](https://www.forbes.com/sites/rogeraitken/2017/06/15/iotas-bitfinex-listing-surges-to-1-5b-record-breaking-crypto-capitalization-on-market-debut/#7e4170e275a5), 2017"
   ]
  },
  {
   "cell_type": "code",
   "execution_count": null,
   "metadata": {
    "collapsed": true
   },
   "outputs": [],
   "source": []
  }
 ],
 "metadata": {
  "kernelspec": {
   "display_name": "Python [default]",
   "language": "python",
   "name": "python3"
  },
  "language_info": {
   "codemirror_mode": {
    "name": "ipython",
    "version": 3
   },
   "file_extension": ".py",
   "mimetype": "text/x-python",
   "name": "python",
   "nbconvert_exporter": "python",
   "pygments_lexer": "ipython3",
   "version": "3.5.4"
  }
 },
 "nbformat": 4,
 "nbformat_minor": 2
}
