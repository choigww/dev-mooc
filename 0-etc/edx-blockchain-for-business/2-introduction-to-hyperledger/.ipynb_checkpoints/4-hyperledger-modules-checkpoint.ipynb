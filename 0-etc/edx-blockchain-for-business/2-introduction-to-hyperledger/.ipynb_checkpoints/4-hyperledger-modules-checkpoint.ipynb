{
 "cells": [
  {
   "cell_type": "markdown",
   "metadata": {},
   "source": [
    "# Hyperledger Modules\n",
    "\n",
    "The Hyperledger frameworks which we examined in the previous section are used to build blockchains and distributed ledgers. The Hyperledger modules, which we will look at next, are auxiliary softwares used for things like deploying and maintaining blockchains, examining the data on the ledgers, as well as tools to design, prototype, and extend blockchain networks."
   ]
  },
  {
   "cell_type": "code",
   "execution_count": null,
   "metadata": {},
   "outputs": [],
   "source": []
  },
  {
   "cell_type": "markdown",
   "metadata": {},
   "source": [
    "## Hyperledger Cello\n",
    "\n",
    "For businesses that want to deploy **Blockchain-as-a-Service**, [Hyperledger Cello](https://www.hyperledger.org/projects/cello) provides a toolkit that fulfills this need. **Particularly for lean businesses and small enterprises**, who want to reduce or eliminate the effort required in creating, managing, and terminating blockchains, Hyperledger Cello allows blockchains deployment to the cloud. \n",
    "* Operators can create and manage such blockchains through a dashboard, \n",
    "* and users (typically, chaincode developers) can obtain a blockchain instance immediately.\n",
    "\n",
    "As a Hyperledger module, **\"Cello aims to bring the on-demand 'as-a-service' deployment model to the blockchain ecosystem\"**, thus helping in furthering the development and deployment of Hyperledger's frameworks. Hyperledger Cello was initially contributed by IBM, with sponsors from Soramitsu, Huawei, and Intel.<br>\n",
    "\n",
    "Application developers and system administrators using Cello can provision and maintain Hyperledger networks. For instance, you can create a group of distributed ledger networks in virtual clouds known as 'container clusters', and then, manage and monitor those networks with a configurable dashboard. Additionally, you can build a Blockchain-as-a-Service (BaaS) platform.\n",
    "\n",
    "![https://prod-edxapp.edx-cdn.org/assets/courseware/v1/a962f1ae98ce3d4796f6d9f315b49572/asset-v1:LinuxFoundationX+LFS171x+3T2017+type@asset+block/cello.jpg](https://prod-edxapp.edx-cdn.org/assets/courseware/v1/a962f1ae98ce3d4796f6d9f315b49572/asset-v1:LinuxFoundationX+LFS171x+3T2017+type@asset+block/cello.jpg)\n",
    "\n",
    "Hyperledger Cello (Source: https://www.hyperledger.org/blog/2017/01/17/hyperledger-says-hello-to-cello)"
   ]
  },
  {
   "cell_type": "code",
   "execution_count": null,
   "metadata": {},
   "outputs": [],
   "source": []
  },
  {
   "cell_type": "markdown",
   "metadata": {},
   "source": [
    "## Hyperledger Explorer\n",
    "\n",
    "### [Hyperledger Explorer](https://www.hyperledger.org/projects/explorer) is a tool for visualizing blockchain operations. \n",
    "It is the first ever blockchain explorer for permissioned ledgers, allowing anyone to explore the distributed ledger projects being created by Hyperledger's members from the inside, without compromising their privacy. The project was contributed by DTCC, Intel, and IBM.<br>\n",
    "\n",
    "Designed to create a user-friendly web application, Hyperledger Explorer can view, invoke, deploy, or query:\n",
    "\n",
    "* Blocks\n",
    "* Transactions and associated data\n",
    "* Network information (name, status, list of nodes)\n",
    "* Smart contracts (chain codes and transaction families)\n",
    "* Other relevant information stored in the ledger.\n",
    "\n",
    "The ability to visualize data is of critical importance, in order to extract business value from it. Hyperledger Explorer provides this much needed functionality. Key components include a web server, a web UI, web sockets, a database, a security repository, and a blockchain implementation."
   ]
  },
  {
   "cell_type": "code",
   "execution_count": null,
   "metadata": {},
   "outputs": [],
   "source": []
  },
  {
   "cell_type": "markdown",
   "metadata": {},
   "source": [
    "## Hyperledger Composer\n",
    "\n",
    "### [Hyperledger Composer](https://www.hyperledger.org/projects/composer) provides a suite of tools for building blockchain business networks. \n",
    "\n",
    "These tools allow you to:\n",
    "* **Model your business blockchain network**\n",
    "* **Generate REST APIs** for interacting with your blockchain network\n",
    "* **Generate a skeleton Angular application**.\n",
    "\n",
    "Built in Javascript, Hyperledger Composer provides an easy-to-use set of components that developers can quickly learn and implement. The project was contributed by Oxchains and IBM."
   ]
  },
  {
   "cell_type": "code",
   "execution_count": null,
   "metadata": {},
   "outputs": [],
   "source": []
  },
  {
   "cell_type": "markdown",
   "metadata": {},
   "source": [
    "## Hyperledger Composer (Simon Stone & Kathryn Harrison)\n",
    "\n",
    "https://youtu.be/91qtaojB9oI\n",
    "\n",
    "> \"So, Hyperledger Composer includes a set of components that will be familiar to a wide range of Javascript developers,\n",
    "whether you are a frontend developer, working on UIs, or a backend developer working on service or code.\"\n",
    "\n",
    "> \"And these components should make it really familiar and easy for Javascript developers to get going building blockchain applications.\n",
    "\"\n",
    "\n",
    "> \"Hyperledger Composer is a developer tool that makes it very easy to create applications on blockchain.\"\n",
    "\n",
    "> \"Not only does it make it easy to create applications for blockchain, **but it also makes frontend and full stack developers that have Javascript skills into blockchain developers**.\""
   ]
  },
  {
   "cell_type": "code",
   "execution_count": null,
   "metadata": {},
   "outputs": [],
   "source": []
  },
  {
   "cell_type": "markdown",
   "metadata": {},
   "source": [
    "## Hyperledger Composer (Continued)\n",
    "\n",
    "Hyperledger Composer has created a modelling language that allows you to define the assets, participants, and transactions that make up your business network using business vocabulary. In addition, the transaction logic is then written by developers using Javascript. This simple interface allows business people and technologists to work together on defining their business network.<br>\n",
    "\n",
    "The [benefits](https://www.hyperledger.org/wp-content/uploads/2017/05/Hyperledger-Composer-Overview.pdf) of Hyperledger Composer are:\n",
    "* **Faster creation of blockchain applications**, eliminating the massive effort required to build blockchain applications from scratch\n",
    "* **Reduced risk** with well-tested, efficient design that aligns understanding across business and technical analysts\n",
    "* **Greater flexibility** as the higher-level abstractions make it far simpler to iterate.\n",
    "\n",
    "You can watch an introduction to Hyperledger Composer [here](https://www.youtube.com/watch?v=cNvOQp8r0xo)."
   ]
  },
  {
   "cell_type": "code",
   "execution_count": null,
   "metadata": {},
   "outputs": [],
   "source": []
  }
 ],
 "metadata": {
  "kernelspec": {
   "display_name": "Python 3",
   "language": "python",
   "name": "python3"
  },
  "language_info": {
   "codemirror_mode": {
    "name": "ipython",
    "version": 3
   },
   "file_extension": ".py",
   "mimetype": "text/x-python",
   "name": "python",
   "nbconvert_exporter": "python",
   "pygments_lexer": "ipython3",
   "version": "3.6.2"
  }
 },
 "nbformat": 4,
 "nbformat_minor": 2
}
