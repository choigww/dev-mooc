{
 "cells": [
  {
   "cell_type": "markdown",
   "metadata": {},
   "source": [
    "# Conclusions & Learning Objectives"
   ]
  },
  {
   "cell_type": "code",
   "execution_count": null,
   "metadata": {},
   "outputs": [],
   "source": []
  },
  {
   "cell_type": "markdown",
   "metadata": {},
   "source": [
    "## Learning Objectives (Review)\n",
    "\n",
    "You should now be able to:\n",
    "\n",
    "* Explain the differences between Hyperledger and permisionless blockchain technologies.\n",
    "* Discuss how Hyperledger leverages open standards and open governance to support business solutions.\n",
    "* Discuss Hyperledger frameworks (Iroha, Sawtooth, Fabric, Indy, and Burrow) and modules (Cello, Explorer, and Composer)."
   ]
  },
  {
   "cell_type": "code",
   "execution_count": null,
   "metadata": {},
   "outputs": [],
   "source": []
  },
  {
   "cell_type": "markdown",
   "metadata": {},
   "source": [
    "## Blockchain Security at Hyperledger (David Huseby)\n",
    "\n",
    "https://youtu.be/BOLNop07nTU\n",
    "\n",
    "> \"So, security with distributed ledgers really begins here at Hyperledger with our culture of secure software development.\"\n",
    "\n",
    "> \"Every aspect of the software, from development, through testing, through bug fixing, and vulnerability resolution, it's done in a completely open process.\"\n",
    "\n",
    "> \"Because we're radically transparent, and because we do the correct things from a software engineering perspective,\n",
    "we deserve the trust that consumers of our products put in our hands.\"\n",
    "\n",
    "> \"So, it's a very holistic approach to security here at Hyperledger: everything, from the way we write software to the way the software works.\""
   ]
  },
  {
   "cell_type": "code",
   "execution_count": null,
   "metadata": {},
   "outputs": [],
   "source": []
  },
  {
   "cell_type": "markdown",
   "metadata": {},
   "source": [
    "## How Will Hyperledger Change the Blockchain Ecosystem? (Brian Behlendorf)\n",
    "\n",
    "https://youtu.be/_pxGcCnYVlk\n",
    "\n",
    "### Q. How do you think Hyperledger will change the industry that adopt the technology?\n",
    "\n",
    "> \"Something like Hyperledger offers the potential for **integration of an industry at a time into a system that can not only become a system of record for recording transactions between parties** in a network, in a marketplace, but also **allow for the automation of a whole bunch of business processes through the use of smart contracts**, right?\n",
    "\"\n",
    "\n",
    "> \"With distributed ledger technologies like Hyperledger, we can actually have the information systems work and look a lot more like the way that the business processes look and work,\n",
    "especially in a more decentralized setting.\"\n",
    "\n",
    "> \"We can avoid the over-centralization of industries, and the over-centralization of society through the use of these technologies.\""
   ]
  },
  {
   "cell_type": "code",
   "execution_count": null,
   "metadata": {},
   "outputs": [],
   "source": []
  }
 ],
 "metadata": {
  "kernelspec": {
   "display_name": "Python 3",
   "language": "python",
   "name": "python3"
  },
  "language_info": {
   "codemirror_mode": {
    "name": "ipython",
    "version": 3
   },
   "file_extension": ".py",
   "mimetype": "text/x-python",
   "name": "python",
   "nbconvert_exporter": "python",
   "pygments_lexer": "ipython3",
   "version": "3.6.2"
  }
 },
 "nbformat": 4,
 "nbformat_minor": 2
}
