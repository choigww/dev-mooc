{
 "cells": [
  {
   "cell_type": "markdown",
   "metadata": {},
   "source": [
    "# Writing an Application"
   ]
  },
  {
   "cell_type": "code",
   "execution_count": null,
   "metadata": {},
   "outputs": [],
   "source": []
  },
  {
   "cell_type": "markdown",
   "metadata": {},
   "source": [
    "## What is a Blockchain Application?\n",
    "\n",
    "In a blockchain application, \n",
    "* the blockchain will store the state of the system, in addition to the immutable record of transactions that created that state. \n",
    "* A client application will be used to send transactions to the blockchain. \n",
    "* The smart contracts will encode some (if not all) of the business logic."
   ]
  },
  {
   "cell_type": "code",
   "execution_count": null,
   "metadata": {},
   "outputs": [],
   "source": []
  },
  {
   "cell_type": "markdown",
   "metadata": {},
   "source": [
    "## How Applications Interact with the Network\n",
    "\n",
    "### Applications use APIs to run smart contracts. \n",
    "\n",
    "In Hyperledger Fabric, these smart contracts are called **chaincode**.\n",
    "* These contracts are hosted on the network, and identified by name and version. \n",
    "* APIs are accessible with a software development kit, or SDK. \n",
    "* Currently, Hyperledger Fabric has three options for developers: \n",
    "  * `Node.js` SDK\n",
    "  * `Java` SDK\n",
    "  * `CLI`"
   ]
  },
  {
   "cell_type": "code",
   "execution_count": null,
   "metadata": {},
   "outputs": [],
   "source": []
  },
  {
   "cell_type": "markdown",
   "metadata": {},
   "source": [
    "## Fabric Node.js SDK\n",
    "\n",
    "In this exercise, we will be using the Node.js SDK (https://fabric-sdk-node.github.io/) to interact with the network, and, therefore, the ledger. The Hyperledger Fabric Client SDK makes it easy to use APIs to interact with a Hyperledger Fabric blockchain. This section will help you write your first application, starting with a test Hyperledger Fabric network, then learning the parameters of the sample smart contract, and lastly, developing the application to query and update ledger records.<br>\n",
    "\n",
    "For additional information, visit the Hyperledger Fabric Node SDK  documentation: https://fabric-sdk-node.github.io/tutorial-app-dev-env-setup.html."
   ]
  },
  {
   "cell_type": "code",
   "execution_count": null,
   "metadata": {},
   "outputs": [],
   "source": []
  },
  {
   "cell_type": "markdown",
   "metadata": {},
   "source": [
    "## Hyperledger Fabric Tuna Application\n",
    "### Alexandra Groetsema\n",
    "\n",
    "The tuna application is going to demonstrate the creation and transfer of tuna fish shipments between actors leveraging Hyperledger Fabric in the supply chain.<br>\n",
    "\n",
    "The application will be written in **`Node.js`**. The chaincode that we will be using is the demonstrated scenario chaincode that we walked through in the previous section.<br>\n",
    "\n",
    "Interacting with the chaincode is done by using the **gRPC protocol** to a peer on the network. The details of the gRPC protocol are taken care of by the Hyperledger Fabric Client **`Node.js SDK`**.\n",
    "\n",
    "\n",
    "### [VIDEO](https://youtu.be/rXuwfAl7EkA)\n",
    "\n",
    "> \"In this exercise, we'll see how a user can interact with a network through an application that enables users to query and update a ledger.\"<br><br>\n",
    "\"Our application handles user interface and submits transactions to the network, which then call chaincodes.\"<br><br>\n",
    "\"By the end of this exercise, we'll be familiar with **how to use the Node.js SDK to interact with the network, and, therefore, a ledger**, and **understand how an application chaincode network and ledger all interact with one another**.\""
   ]
  },
  {
   "cell_type": "code",
   "execution_count": null,
   "metadata": {},
   "outputs": [],
   "source": []
  },
  {
   "cell_type": "markdown",
   "metadata": {},
   "source": [
    "## Getting Started (Part I)\n",
    "\n",
    "In case you haven’t downloaded the education repository for this course, follow the below directions in your terminal window:\n",
    "\n",
    "```\n",
    "$ git clone https://github.com/hyperledger/education.git\n",
    "$ cd education/LFS171x/fabric-material/tuna-app\n",
    "```\n",
    "\n",
    "Make sure you have Docker running on your machine before you run the next command. If you do not have Docker installed, return to Chapter 4, *Technical Requirements*.<br>\n",
    "\n",
    "Also, make sure that you have completed the Installing Hyperledger Fabric section in this chapter before moving on to this application section, as you will likely experience errors. <br>\n",
    "\n",
    "First, remove any pre-existing containers, as it may conflict with commands in this tutorial:\n",
    "\n",
    "```\n",
    "$ docker rm -f $(docker ps -aq)\n",
    "```\n",
    "\n",
    "Then, let’s start the Hyperledger Fabric network with the following command:\n",
    "\n",
    "```\n",
    "$ ./startFabric.sh\n",
    "```\n",
    " \n",
    "**Troubleshooting**: If, after running the above you are getting an error similar to the following:\n",
    "\n",
    "```\n",
    "ERROR: failed to register layer: rename\n",
    "/var/lib/docker/image/overlay2/layerdb/tmp/write-set-091347846 /var/lib/docker/image/overlay2/layerdb/sha256/9d3227c1793b7494e598caafd0a5013900e17dcdf1d7bdd31d39c82be04fcf28: file exists\n",
    "```\n",
    "\n",
    "try running the following command:\n",
    "\n",
    "```\n",
    "$ rm -rf ~/Library/Containers/com.docker.docker/Data/*\n",
    "```"
   ]
  },
  {
   "cell_type": "code",
   "execution_count": null,
   "metadata": {},
   "outputs": [],
   "source": []
  },
  {
   "cell_type": "markdown",
   "metadata": {},
   "source": [
    "## Getting Started (Part II)\n",
    "\n",
    "Install the required libraries from the **package.json** file, register the **Admin** and **User** components of our network, and start the client application with the following commands:\n",
    "\n",
    "```\n",
    "$ npm install\n",
    "\n",
    "$ node registerAdmin.js\n",
    "\n",
    "$ node registerUser.js\n",
    "\n",
    "$ node server.js\n",
    "```\n",
    "### TROUBLESHOOT\n",
    "* If `node` command not executed after `npm install`, then `npm rebuild` and try `node registerAdmin.js`\n",
    "\n",
    "<br>\n",
    "Load the client simply by opening localhost:8000 in any browser window of your choice, and you should see the user interface for our simple application at this URL (as in the screenshot below).\n",
    "\n",
    "![getting-started-fabric-app-1](https://prod-edxapp.edx-cdn.org/assets/courseware/v1/50068889079cd063e30d8bbd6d5fe554/asset-v1:LinuxFoundationX+LFS171x+3T2017+type@asset+block/fabric-application1.png)\n",
    "\n",
    "**Troubleshooting**: If you are getting an error similar to the one below while attempting to perform any of the functions on the application:\n",
    "\n",
    "```\n",
    "Error: [client-utils.js]: sendPeersProposal - Promise is rejected: Error: Connect Failed\n",
    "\n",
    "error from query =  { Error: Connect Failed\n",
    "\n",
    "   at /Desktop/prj/education/LFS171x/fabric-material/tuna-app/node_modules/grpc/src/node/src/client.js:554:15 code: 14, metadata: Metadata { _internal_repr: {} } }\n",
    "```\n",
    "\n",
    "try running the following commands:\n",
    "\n",
    "```\n",
    "$ cd ~\n",
    "\n",
    "$ rm -rf .hfc-key-store/\n",
    "```\n",
    "\n",
    "Then, run the commands above starting with:\n",
    "\n",
    "```\n",
    "$ node registerAdmin.js\n",
    "```"
   ]
  },
  {
   "cell_type": "code",
   "execution_count": null,
   "metadata": {},
   "outputs": [],
   "source": []
  },
  {
   "cell_type": "markdown",
   "metadata": {},
   "source": [
    "## File Structure of Application\n",
    "\n",
    "Here you can see the file structure of the Fabric application:\n",
    "\n",
    "![file-structure-tunaapp](https://prod-edxapp.edx-cdn.org/assets/courseware/v1/a4867e651f3bb639e579fb3424bd9a62/asset-v1:LinuxFoundationX+LFS171x+3T2017+type@asset+block/fabric-filestructure.png)\n",
    "\n"
   ]
  },
  {
   "cell_type": "code",
   "execution_count": null,
   "metadata": {},
   "outputs": [],
   "source": []
  },
  {
   "cell_type": "markdown",
   "metadata": {},
   "source": [
    "## Query All Tuna Recorded\n",
    "\n",
    "```go\n",
    " // queryAllTuna - requires no arguments\n",
    "      const request = {\n",
    "          chaincodeId:’tuna-app’,\n",
    "          txId: tx_id,\n",
    "          fcn: 'queryAllTuna',\n",
    "          args: ['']\n",
    "          };\n",
    "      return channel.queryByChaincode(request);\n",
    "```\n",
    "(Reference: The code comes from `..src/queryAllTuna.js`)<br>\n",
    "\n",
    "Now, let’s query our database, where there should be some sample entries already, since our chaincode smart contract **initiated the ledger with 10 previous catches**. This function takes no arguments, as we see on line 6. Instead, it takes an empty array.<br>\n",
    "\n",
    "The query response you should see in the user interface is 10 pre-populated entries with the attributes for each catch.\n",
    "\n",
    "![allquery-tunaapp](https://prod-edxapp.edx-cdn.org/assets/courseware/v1/ae31eb58789457980ae55a97aaee0aa8/asset-v1:LinuxFoundationX+LFS171x+3T2017+type@asset+block/fabric-queryAll.png)"
   ]
  },
  {
   "cell_type": "code",
   "execution_count": null,
   "metadata": {},
   "outputs": [],
   "source": []
  },
  {
   "cell_type": "markdown",
   "metadata": {},
   "source": [
    "## Query a Specific Tuna Recorded\n",
    "\n",
    "      // queryTuna - requires 1 argument\n",
    "      const request = {\n",
    "          chaincodeId:’tuna-app’,\n",
    "          txId: tx_id,\n",
    "          fcn: 'queryTuna',\n",
    "          args: ['1']\n",
    "          };\n",
    "      return channel.queryByChaincode(request);\n",
    "(Reference: The code comes from `..src/queryTuna.js`)<br>\n",
    "\n",
    "Now, let’s query for a specific tuna catch. This function takes 1 argument, as you can see on line 6 above, an example would be ['1']. In this example, we are using the key to query for catches.<br>\n",
    "\n",
    "You should see the following query response detailing the attributes recorded for one particular catch.\n",
    "\n",
    "![query-tunaapp](https://prod-edxapp.edx-cdn.org/assets/courseware/v1/4dbe39c61232ff1bfa939703cf396503/asset-v1:LinuxFoundationX+LFS171x+3T2017+type@asset+block/fabric-query.png)\n"
   ]
  },
  {
   "cell_type": "code",
   "execution_count": null,
   "metadata": {},
   "outputs": [],
   "source": []
  },
  {
   "cell_type": "markdown",
   "metadata": {},
   "source": [
    "## Change Tuna Holder\n",
    "\n",
    "```go\n",
    "      // changeTunaHolder - requires 2 argument\n",
    "      var request = {\n",
    "          chaincodeId:’tuna-app’,\n",
    "          fcn: 'changeTunaHolder', \n",
    "          args: ['1', 'Alex'],\n",
    "          chainId: 'mychannel',\n",
    "          txId: tx_id\n",
    "          };\n",
    "      return channel.sendTransactionProposal(request);\n",
    "```\n",
    "(Reference: The code comes from `..src/changeHolder.js`)\n",
    "\n",
    "Now, let’s change the name of the person in possession of a given tuna. This function takes 2 arguments: the key for the particular catch, and the new holder, as we can see on `line 5` in the example above. Ex: args: **`['1', 'Alex']`**.<br>\n",
    "\n",
    "You may be able to see a similar success response in your terminal window:\n",
    "\n",
    "```\n",
    "The transaction has been committed on peer localhost:7053\n",
    " event promise all complete and testing complete\n",
    "\n",
    "Successfully sent transaction to the orderer.\n",
    "Successfully sent Proposal and received ProposalResponse: Status - 200, message - \"OK\", metadata - \"\", endorsement signature: 0D 9\n",
    "```\n",
    "\n",
    "This indicates we have sent a proposal from our application via the SDK, and the peer has been endorsed, committed, and the ledger has been updated.\n",
    "\n",
    "1[change-tuna-holder-1](https://prod-edxapp.edx-cdn.org/assets/courseware/v1/e36aee4cc0c801b18e855eb1fc234c4b/asset-v1:LinuxFoundationX+LFS171x+3T2017+type@asset+block/fabric-changeTunaHolder.png)\n",
    "\n",
    "You should see that the holder has indeed been changed by querying for key `['1']` again. Now, the holder attribute has been changed from **Miriam** to **Alex**, for example.\n",
    "\n",
    "![change-tuna-holder-2](https://prod-edxapp.edx-cdn.org/assets/courseware/v1/c43d7a8103c74fc3c8a0e123889d02ab/asset-v1:LinuxFoundationX+LFS171x+3T2017+type@asset+block/fabric-changedRecord.png)"
   ]
  },
  {
   "cell_type": "code",
   "execution_count": null,
   "metadata": {},
   "outputs": [],
   "source": []
  },
  {
   "cell_type": "markdown",
   "metadata": {},
   "source": [
    "## Record a Tuna Catch\n",
    "\n",
    "```go\n",
    "      // recordTuna - requires 5 argument\n",
    "      var request = {\n",
    "          chaincodeId:’tuna-app’,\n",
    "          fcn: 'recordTuna',   \n",
    "          args: ['11', '239482392', '28.012, 150.225', '0923T', \"Hansel\"],\n",
    "          chainId: 'mychannel',\n",
    "          txId: tx_id\n",
    "          };\n",
    "      return channel.sendTransactionProposal(request);\n",
    "```\n",
    "\n",
    "(Reference: The code comes from **`..src/recordTuna.js`**)<br>\n",
    "\n",
    "Lastly, we will practice recording a new tuna catch, and adding it to the ledger by invoking the recordTuna function. This function takes 5 arguments, itemizing each of the attributes of a new catch. You can see an example submission on line 5: args: `['11','239482392', '28.012, 150.225', '0923T', \"Hansel\"]`.\n",
    "\n",
    "![record-a-tuna-catch-1](https://prod-edxapp.edx-cdn.org/assets/courseware/v1/5d667e799ccd9caf881bae2b5019883f/asset-v1:LinuxFoundationX+LFS171x+3T2017+type@asset+block/fabric-createTunaRecord.png)\n",
    "\n",
    "Check and you should see that the holder has indeed been changed by querying all the tuna catches. Now, you should see an additional entry at the bottom of the table:\n",
    "\n",
    "![record-a-tuna-catch-2](https://prod-edxapp.edx-cdn.org/assets/courseware/v1/91f75c705cacc4940b721a47d0eb3710/asset-v1:LinuxFoundationX+LFS171x+3T2017+type@asset+block/fabric-queryAfterCreate.png)"
   ]
  },
  {
   "cell_type": "code",
   "execution_count": null,
   "metadata": {},
   "outputs": [],
   "source": []
  },
  {
   "cell_type": "markdown",
   "metadata": {},
   "source": [
    "## Finishing Up\n",
    "\n",
    "Remove all Docker containers and images that we created in this tutorial with the following command in the **tuna-app** folder:\n",
    "\n",
    "```bash\n",
    "docker rm -f $(docker ps -aq)\n",
    "docker rmi -f $(docker images -a -q)\n",
    "```"
   ]
  },
  {
   "cell_type": "code",
   "execution_count": null,
   "metadata": {},
   "outputs": [],
   "source": []
  },
  {
   "cell_type": "markdown",
   "metadata": {},
   "source": [
    "## Application Flow Basics\n",
    "\n",
    "![app-flow-basics](https://prod-edxapp.edx-cdn.org/assets/courseware/v1/a63eaf4dd007c3e65ee63955eccaf5b6/asset-v1:LinuxFoundationX+LFS171x+3T2017+type@asset+block/fabric-application-flowbasics.png)\n",
    "\n",
    "### 1. A developer creates an application and smart contract.\n",
    "### 2. The application will `invoke` calls within the smart contract via the Hyperledger Fabric Client SDK.\n",
    "### 3. These calls are processed by the business logic within the chaincode smart contract.\n",
    "### 4. A `put` or `delete` command will go through the consensus process and will be added to the blockchain within the ledger.\n",
    "### 5. A `get` command can only read from the world state, but it is not recorded on the blockchain.\n",
    "### 6. The application can access blockchain information via APIs."
   ]
  },
  {
   "cell_type": "code",
   "execution_count": null,
   "metadata": {},
   "outputs": [],
   "source": []
  },
  {
   "cell_type": "markdown",
   "metadata": {},
   "source": [
    "## Application Flow Example\n",
    "\n",
    "![application-flow-example](https://prod-edxapp.edx-cdn.org/assets/courseware/v1/f01702e7429e967987a62daf274a164b/asset-v1:LinuxFoundationX+LFS171x+3T2017+type@asset+block/fabric-application-flow.png)\n",
    "\n",
    "1. Various users (`fisherman`, `regulators`, or `restaurateurs` etc.) will interact with the **Node.js application**.\n",
    "2. The **client** JS will send messages to the **backend** when the **user interacts with the application**.\n",
    "3. Reading or writing the ledger is known as a **proposal** \n",
    "  * (for example, querying a specific Tuna catch - queryTuna-  or recording a tuna catch - recordTuna). \n",
    "  * This **proposal is built by our application via the SDK**,\n",
    "  * and then **sent to the endorsing peers**.<br><br>\n",
    "4. The **endorsing peers** will use the application-specific<br> chaincode smart contract to **simulate the transaction**. \n",
    "  * If there are no issues, the transaction will be endorsed, and sent back to our application.<br><br>\n",
    "5. Our application will then send the **endorsed proposal** to the **ordering service via the SDK**. \n",
    "  * The **orderer** will **package many proposals** from the whole network **into a block**. \n",
    "  * Then, it will **broadcast the new block to the committing peers** in the network.<br><br>\n",
    "6. Finally, **each committing peer will validate the block and write it to its ledger (shown in teal above)**. \n",
    "  * The transaction has now been committed, and any reads will reflect this change."
   ]
  },
  {
   "cell_type": "code",
   "execution_count": null,
   "metadata": {},
   "outputs": [],
   "source": []
  }
 ],
 "metadata": {
  "kernelspec": {
   "display_name": "Python 3",
   "language": "python",
   "name": "python3"
  },
  "language_info": {
   "codemirror_mode": {
    "name": "ipython",
    "version": 3
   },
   "file_extension": ".py",
   "mimetype": "text/x-python",
   "name": "python",
   "nbconvert_exporter": "python",
   "pygments_lexer": "ipython3",
   "version": "3.6.2"
  }
 },
 "nbformat": 4,
 "nbformat_minor": 2
}
