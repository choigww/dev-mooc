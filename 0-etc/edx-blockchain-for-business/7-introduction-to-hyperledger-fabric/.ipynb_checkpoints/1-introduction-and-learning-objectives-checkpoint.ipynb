{
 "cells": [
  {
   "cell_type": "markdown",
   "metadata": {},
   "source": [
    "# Introduction & Learning Objectives"
   ]
  },
  {
   "cell_type": "code",
   "execution_count": null,
   "metadata": {},
   "outputs": [],
   "source": []
  },
  {
   "cell_type": "markdown",
   "metadata": {},
   "source": [
    "## Introduction to Hyperledger Fabric\n",
    "### Alexandra & Arianna Groetsema\n",
    "\n",
    "* [VIDEO](https://youtu.be/0B2VYDZn9dA)\n",
    "\n",
    "> \"In this chapter, you will be learning about Hyperledger Fabric version 1.0, its key components, and a little bit about how it works.\"<br><br>\n",
    "\"By the end of this chapter, you will be able to set up a sample Hyperledger Fabric network, along with a simple application using the Fabric Node.JS SDK.\"<br><br>\n",
    "\"We will also be introducing chaincode, and walk you through writing a smart contract of your very own.\""
   ]
  },
  {
   "cell_type": "code",
   "execution_count": null,
   "metadata": {},
   "outputs": [],
   "source": []
  },
  {
   "cell_type": "markdown",
   "metadata": {},
   "source": [
    "## Learning Objectives\n",
    "\n",
    "By the end of this chapter you should be able to:\n",
    "* Understand the basics of Hyperledger Fabric v1.0.\n",
    "* Walk through and analyze a demonstrated scenario on Hyperledger Fabric.\n",
    "* Discuss crucial components of the Hyperledger Fabric architecture, including clients, peers, ordering service and membership service provider.\n",
    "* Set up a sample network and simple application with a Javascript SDK.\n",
    "* Discuss Chaincode (Hyperledger Fabric smart contract) and review an example.\n",
    "* Get involved in the framework discussion and development."
   ]
  },
  {
   "cell_type": "code",
   "execution_count": null,
   "metadata": {},
   "outputs": [],
   "source": []
  }
 ],
 "metadata": {
  "kernelspec": {
   "display_name": "Python 3",
   "language": "python",
   "name": "python3"
  },
  "language_info": {
   "codemirror_mode": {
    "name": "ipython",
    "version": 3
   },
   "file_extension": ".py",
   "mimetype": "text/x-python",
   "name": "python",
   "nbconvert_exporter": "python",
   "pygments_lexer": "ipython3",
   "version": "3.6.2"
  }
 },
 "nbformat": 4,
 "nbformat_minor": 2
}
