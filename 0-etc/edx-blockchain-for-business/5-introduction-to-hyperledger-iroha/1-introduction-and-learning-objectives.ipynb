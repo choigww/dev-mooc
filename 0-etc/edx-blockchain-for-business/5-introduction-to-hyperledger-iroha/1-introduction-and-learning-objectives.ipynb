{
 "cells": [
  {
   "cell_type": "markdown",
   "metadata": {},
   "source": [
    "# Introduction & Learning Objectives"
   ]
  },
  {
   "cell_type": "code",
   "execution_count": null,
   "metadata": {},
   "outputs": [],
   "source": []
  },
  {
   "cell_type": "markdown",
   "metadata": {},
   "source": [
    "## Introduction to Hyperledger Iroha\n",
    "### Alexandra & Arianna Groetsema\n",
    "\n",
    "* [VIDEO](https://youtu.be/WiDgLMhLNU4)\n",
    "\n",
    "> \"This framework is a blockchain platform implementation, designed to be easily incorporated into other distributed ledger technologies.\"<br><br>\n",
    "\"Hyperledger Iroha features an architecture written in C++, an emphasis on mobile and web development, and a new consensus algorithm called Sumeragi.\"<br><br>\n",
    "\"Hyperledger Iroha offers many reusable C++ components, that can be used by many different blockchain platforms.\"\n"
   ]
  },
  {
   "cell_type": "code",
   "execution_count": null,
   "metadata": {},
   "outputs": [],
   "source": []
  },
  {
   "cell_type": "markdown",
   "metadata": {},
   "source": [
    "## Learning Objectives\n",
    "\n",
    "By the end of this chapter you should be able to:\n",
    "* Understand the basics of Hyperledger Iroha v0.95.\n",
    "* Discuss crucial components of the Hyperledger Iroha architecture, including the consensus algorithm YAC (Yet Another Consensus), peers, clients and the ledger block storage Ametsuchi.\n",
    "* Join the Hyperledger Iroha framework discussion and development."
   ]
  },
  {
   "cell_type": "code",
   "execution_count": null,
   "metadata": {},
   "outputs": [],
   "source": []
  }
 ],
 "metadata": {
  "kernelspec": {
   "display_name": "Python 3",
   "language": "python",
   "name": "python3"
  },
  "language_info": {
   "codemirror_mode": {
    "name": "ipython",
    "version": 3
   },
   "file_extension": ".py",
   "mimetype": "text/x-python",
   "name": "python",
   "nbconvert_exporter": "python",
   "pygments_lexer": "ipython3",
   "version": "3.6.2"
  }
 },
 "nbformat": 4,
 "nbformat_minor": 2
}
