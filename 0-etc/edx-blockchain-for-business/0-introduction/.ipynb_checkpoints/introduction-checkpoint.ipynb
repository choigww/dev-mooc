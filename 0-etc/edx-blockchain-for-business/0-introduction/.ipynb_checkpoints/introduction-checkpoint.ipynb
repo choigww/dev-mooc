{
 "cells": [
  {
   "cell_type": "markdown",
   "metadata": {},
   "source": [
    "# Introduction"
   ]
  },
  {
   "cell_type": "code",
   "execution_count": null,
   "metadata": {},
   "outputs": [],
   "source": []
  },
  {
   "cell_type": "markdown",
   "metadata": {},
   "source": [
    "## Course Learning Objectives\n",
    "\n",
    "By taking this course, you will be able to:\n",
    "\n",
    "* Describe Business Blockchain and Distributed Ledger Technologies.\n",
    "* Gain familiarity with current Hyperledger projects and cross-industry use cases.\n",
    "* Perform clean installations of the Hyperledger Sawtooth and Hyperledger Fabric frameworks.\n",
    "* Explore a sample use case/application in the context of the Hyperledger Sawtooth and Hyperledger Fabric frameworks.\n",
    "* Build simple applications on top of Hyperledger Sawtooth and Hyperledger Fabric.\n",
    "* Become involved in and contribute to the open source Hyperledger projects."
   ]
  },
  {
   "cell_type": "code",
   "execution_count": null,
   "metadata": {},
   "outputs": [],
   "source": []
  },
  {
   "cell_type": "markdown",
   "metadata": {},
   "source": [
    "## Inspiration Behind the Course (Brian Behlendorf)\n",
    "\n",
    "https://youtu.be/kSNvd9B8A0g\n",
    "\n",
    "> \"This course is designed for technologists who want to better understand how the different projects at Hyperledger work, right, at a kind of an overview level, understand the differences between them, start to understand why they can do with them, ...\"\n",
    "\n",
    "> \"But it's also designed for those who might have been a technologist in the past, and now think a little bit spend a little more time focusing on the business applications of blockchain technology to help understand what are the kinds of use cases that would be appropriate to apply these technologies to.\"\n",
    "\n",
    "> \"Our goal is to talk to a pretty broad audience, and hope to bring down the path especially those developers, those technologists who then want to learn more about the different technologies and become full developers in them.\""
   ]
  },
  {
   "cell_type": "code",
   "execution_count": null,
   "metadata": {},
   "outputs": [],
   "source": []
  },
  {
   "cell_type": "markdown",
   "metadata": {},
   "source": [
    "## Hyperledger\n",
    "\n",
    "![https://prod-edxapp.edx-cdn.org/assets/courseware/v1/d511bfb94105c0bafb002a331fa6aa63/asset-v1:LinuxFoundationX+LFS171x+3T2017+type@asset+block/Hyperledger_logo.png](https://prod-edxapp.edx-cdn.org/assets/courseware/v1/d511bfb94105c0bafb002a331fa6aa63/asset-v1:LinuxFoundationX+LFS171x+3T2017+type@asset+block/Hyperledger_logo.png)\n",
    "\n",
    "Hyperledger is the umbrella open source project that The Linux Foundation has created and hosted since 2015. It aims at advancing and promoting cross-industry blockchain technologies to ensure accountability, transparency, and trust among business partners. As a result, Hyperledger makes business network and transactions more efficient.<br>\n",
    "\n",
    "These benefits are valued by leaders across many industries, including technology, finance, healthcare, supply chain, and automotive, among several others.<br>\n",
    "\n",
    "Hyperledger offers different blockchain platforms. This course will present three of them: Iroha, Sawtooth, and Fabric.<br>\n",
    "\n",
    "To learn more about the Hyperledger, click [here](https://www.hyperledger.org/).\n"
   ]
  },
  {
   "cell_type": "code",
   "execution_count": null,
   "metadata": {},
   "outputs": [],
   "source": []
  },
  {
   "cell_type": "markdown",
   "metadata": {},
   "source": [
    "## The Linux Foundation\n",
    "\n",
    "The Linux Foundation partners with the world's leading developers and companies to solve the hardest technology problems and accelerate open technology development and commercial adoption. The Linux Foundation makes it its mission to provide experience and expertise to any initiative working to solve complex problems through open source collaboration, providing the tools to scale open source projects: security best practices, governance, operations and ecosystem development, training and certification, licensing, and promotion.<br>\n",
    "\n",
    "Linux is the world's largest and most pervasive open source software project in history. The Linux Foundation is home to Linux creator Linus Torvalds and lead maintainer Greg Kroah-Hartman, and provides a neutral home where Linux kernel development can be protected and accelerated for years to come. The success of Linux has catalyzed growth in the open source community, demonstrating the commercial efficacy of open source and inspiring countless new projects across all industries and levels of the technology stack.<br>\n",
    "\n",
    "The Linux Foundation's work today extends far beyond Linux, fostering innovation at every layer of the software stack. The Linux Foundation is the umbrella organization for many critical open source projects that power corporations today, spanning all industry sectors:\n",
    "\n",
    "* Big data and analytics: ODPi, R Consortium\n",
    "* Networking: OpenDaylight, OPNFV\n",
    "* Embedded: Dronecode, Zephyr\n",
    "* Web tools: JS Foundation, Node.js\n",
    "* Cloud computing: Cloud Foundry, Cloud Native Computing Foundation, Open Container Initiative\n",
    "* Automotive: Automotive Grade Linux\n",
    "* Security: The Core Infrastructure Initiative\n",
    "* Blockchain: Hyperledger\n",
    "\n",
    "And many more.\n",
    "\n",
    "* To learn more about The Linux Foundation, click [here](https://www.linuxfoundation.org/)."
   ]
  },
  {
   "cell_type": "code",
   "execution_count": null,
   "metadata": {},
   "outputs": [],
   "source": []
  },
  {
   "cell_type": "markdown",
   "metadata": {},
   "source": [
    "## The Linux Foundation Training\n",
    "\n",
    "The Linux Foundation offers several types of training:\n",
    "\n",
    "* Classroom\n",
    "* Online\n",
    "* On-Site\n",
    "* Events Based.\n",
    "\n",
    "To get more information about specific courses offered by The Linux Foundation:\n",
    "\n",
    "* [Linux Programming & Development Training](http://training.linuxfoundation.org/linux-courses/development-training)\n",
    "* [Enterprise IT & Linux System Administration Courses](http://training.linuxfoundation.org/linux-courses/system-administration-training)\n",
    "* [Open Source Compliance Courses](http://training.linuxfoundation.org/linux-courses/open-source-compliance-courses)\n",
    "\n",
    "For additional information, including technical requirements and other logistics, see https://training.linuxfoundation.org."
   ]
  },
  {
   "cell_type": "code",
   "execution_count": null,
   "metadata": {},
   "outputs": [],
   "source": []
  }
 ],
 "metadata": {
  "kernelspec": {
   "display_name": "Python 3",
   "language": "python",
   "name": "python3"
  },
  "language_info": {
   "codemirror_mode": {
    "name": "ipython",
    "version": 3
   },
   "file_extension": ".py",
   "mimetype": "text/x-python",
   "name": "python",
   "nbconvert_exporter": "python",
   "pygments_lexer": "ipython3",
   "version": "3.6.2"
  }
 },
 "nbformat": 4,
 "nbformat_minor": 2
}
