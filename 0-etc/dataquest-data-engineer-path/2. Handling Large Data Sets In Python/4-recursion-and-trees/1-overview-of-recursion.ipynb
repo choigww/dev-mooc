{
 "cells": [
  {
   "cell_type": "markdown",
   "metadata": {},
   "source": [
    "# Overview of Recursion"
   ]
  },
  {
   "cell_type": "code",
   "execution_count": null,
   "metadata": {
    "collapsed": true
   },
   "outputs": [],
   "source": []
  },
  {
   "cell_type": "markdown",
   "metadata": {},
   "source": [
    "## Introduction\n",
    "\n",
    "In the past few courses, you have been learning about different data structures and their respective algorithms. We have been describing how to efficiently search and update these structures but there has always been a trade off between the two. In this course we will be developing a data structure that will have both fast search and *efficient* updates.<br>\n",
    "\n",
    "Unfortunately, we are at a crossroads now where **developing this new data structure will require a new way of thinking**. This type of thinking is called **recursion**. You may have encountered this topic in an earlier mission.<br>\n",
    "\n",
    "Recall that recursion is commonly defined as **a function that calls itself**. This backwards way of thinking takes some time to sink in but you'll soon notice that many algorithms and structures you come up with can naturally be defined this way. Recursion doesn't just happen in programming though, there are examples of it even in art!\n",
    "\n",
    "![recursive-art](https://s-media-cache-ak0.pinimg.com/originals/8f/3e/8c/8f3e8ce4d9183ec633d55a667e846bde.jpg)\n",
    "\n",
    "You may have also encountered recursion even in real life. Think about a time when you have ridden an elevator with mirrors on both sides. The mirrors reflect each other and it looks like they keep going on forever.<br>\n",
    "\n",
    "In practice though, we don't want our algorithms to keep going on forever. To stop recursion from continuing to infinity, we need to have some **terminating case** that will make sure it eventually stops. You can think of the terminating case as the statement `break` in a `while True` loop.<br>\n",
    "\n",
    "Once you learn this shift in thinking, it can be incredibly valuable when trying to come up with unique solutions to problems. By the end of this mission you will learn how to implement your own recursive algorithms."
   ]
  },
  {
   "cell_type": "code",
   "execution_count": null,
   "metadata": {
    "collapsed": true
   },
   "outputs": [],
   "source": []
  },
  {
   "cell_type": "markdown",
   "metadata": {},
   "source": [
    "## Recursion is thinking in Recursion\n",
    "\n",
    "The best way to understand recursion is to actually work with recursion. The shift from an iterative thinking to a recursive thought space will take some time but it's best to learn with examples. In this screen, we're going to work through summing up a list of integers using iteration and then using recursion.<br>\n",
    "\n",
    "Suppose we want to sum up the list of integers `[1, 2, 3, 4, 5, 6, 7, 8, 9, 10]`. We could use the iterative `sum` function in python but if we wanted to implement it ourselves we would something like the following:\n",
    "\n",
    "```python\n",
    "\n",
    "example_list = [1, 2, 3 ,4 , 5, 6, 7, 8, 9, 10]\n",
    "\n",
    "def iterative_summation(values):\n",
    "    total = 0\n",
    "    for value in values:\n",
    "        total += value\n",
    "    return total\n",
    "\n",
    "iterative_summation(example_list)\n",
    "```\n",
    "\n",
    "Switching to a recursive implementation, we would do the following:\n",
    "\n",
    "```python\n",
    "example_list = [1, 2, 3, 4, 5, 6, 7, 8, 9, 10]\n",
    "\n",
    "def recursive_summation(values):\n",
    "    if len(values) <= 1:\n",
    "        return values[0]\n",
    "    return values[0] + recursive_summation(values[1:])\n",
    "\n",
    "recursive_summation(example_list)\n",
    "```\n",
    "\n",
    "Let's break this recursive implementation down a bit. The `if` case on the third line is the terminating case. To see why this is a terminating case, take a look at the `return` statement.<br>\n",
    "\n",
    "Here, we return the first integer in the list and then add the function itself. This is what we meant earlier by a function that calls itself. We slice the list after the first element and then call the function again with a list reduced by one.<br>\n",
    "\n",
    "The list will keep getting reduced with every call until there is only one element left; the terminating case. Once we return the final element, the function will keep on returning itself until the total sum is returned.<br>\n",
    "\n",
    "As you can see, both implementations provide the same solution in a much different way. We mentioned that the function will both call and return itself and this managed internally by the Python interpreter's use of memory. We will examine the way the computer runs through its memory on the next screen."
   ]
  },
  {
   "cell_type": "code",
   "execution_count": null,
   "metadata": {
    "collapsed": true
   },
   "outputs": [],
   "source": []
  },
  {
   "cell_type": "markdown",
   "metadata": {},
   "source": [
    "* Reimplement the following string searching algorithm `search` in recursion.\n",
    "  * Given a list of strings and a search term, find the index of the term in the list if it exists.\n",
    "  * If there is no matching term, return `-1`.\n",
    "* Keep track of the index by using the `index` optional argument.\n",
    "* Call `search` on `search_list` with the string `\"apple\"` then set it to `apple_index`.\n",
    "* Call `search` on `search_list` with the string `\"pear\"` then set it to `pear_index`.\n",
    "* Call `search` on `search_list` with the string `\"foo\"` then set it to `foo_index`."
   ]
  },
  {
   "cell_type": "code",
   "execution_count": 1,
   "metadata": {
    "collapsed": true
   },
   "outputs": [],
   "source": [
    "search_list = ['apple', 'orange', 'pear', 'fig', 'passionfruit']\n",
    "\n",
    "def search(strings, term, index=0):\n",
    "    # Implement your recursive solution here.\n",
    "    if index == len(strings) - 1:\n",
    "        if strings[index] != term:\n",
    "            return -1\n",
    "        \n",
    "    if strings[index] == term:\n",
    "        return index\n",
    "    else:\n",
    "        return search(strings, term, index+1)"
   ]
  },
  {
   "cell_type": "code",
   "execution_count": 4,
   "metadata": {
    "collapsed": false
   },
   "outputs": [
    {
     "name": "stdout",
     "output_type": "stream",
     "text": [
      "0 2 -1\n"
     ]
    }
   ],
   "source": [
    "apple_index = search(search_list, \"apple\", 0)\n",
    "pear_index = search(search_list, \"pear\", 0)\n",
    "foo_index = search(search_list, \"foo\", 0)\n",
    "\n",
    "print(apple_index, pear_index, foo_index)"
   ]
  },
  {
   "cell_type": "code",
   "execution_count": null,
   "metadata": {
    "collapsed": true
   },
   "outputs": [],
   "source": []
  },
  {
   "cell_type": "markdown",
   "metadata": {},
   "source": [
    "## Stack Overflow\n",
    "\n",
    "We have been mentioning that we always need a terminating case to ensure our recursive algorithms do not continue on forever. So far we have called it the terminating case but it is also known as the **base case**. Even though we know we don't want to run our function forever, why do we keep bringing this case up and why is it such a big deal?<br>\n",
    "\n",
    "The reason we need to ensure that the base case exists is that if you were to let recursion run forever your program will eventually run out of memory! The concept of running out of memory with a simple recursion function seems rediculous but it occurs due to recursion's inner workings.<br>\n",
    "\n",
    "Let's run through this concept with an example. Here we have a forever recursing function:\n",
    "\n",
    "```python\n",
    "def recurse_forever():\n",
    "    # No base case!\n",
    "    return recurse_forever()\n",
    "```\n",
    "\n",
    "When the python interpreter starts up, it manages the calling and returning of functions using an in memory **call stack**. This call stack is implemented exactly the same as the stack data structure you learned before. The methods `pop` and `push` are used internally on the call stack to manage the `return` and function call `()` statements, respectively.<br>\n",
    "\n",
    "This is what would look like on the call stack if you were to call `recurse_forever()`.\n",
    "\n",
    "![stack-overflow-recurse](https://dq-content.s3.amazonaws.com/228/stack_overflow_recurse.svg)\n",
    "\n",
    "Without a base case to return (or `pop`) the function off the stack, it will continue to be pushed forever. There is only a finite amount of memory every program is given so eventually the stack will grow so large that the operating system may crash when attempting to terminate the program.<br>\n",
    "\n",
    "This infinite recursion has a name and it is called a **stack overflow**. Luckily, unlike other languages, implementing an infinite recursion in python will actually never cause the operating system to crash. Python [monitors](https://docs.python.org/3/library/sys.html#sys.getrecursionlimit) your call stack as you keep adding functions and will throw an error before it gets too big.<br>\n",
    "\n",
    "The error that will get thrown is `RecursionError: maximum recursion depth exceeded` and this will keep you from blowing up your system.\n"
   ]
  },
  {
   "cell_type": "code",
   "execution_count": null,
   "metadata": {
    "collapsed": true
   },
   "outputs": [],
   "source": []
  },
  {
   "cell_type": "markdown",
   "metadata": {},
   "source": [
    "* Implement a function called `traverse_list` that takes in a list parameter called `values` that recurses forever.\n",
    "* Call `traverse_list` and ensure RecursionError gets thrown."
   ]
  },
  {
   "cell_type": "code",
   "execution_count": 5,
   "metadata": {
    "collapsed": false
   },
   "outputs": [
    {
     "ename": "RecursionError",
     "evalue": "maximum recursion depth exceeded",
     "output_type": "error",
     "traceback": [
      "\u001b[0;31m---------------------------------------------------------------------------\u001b[0m",
      "\u001b[0;31mRecursionError\u001b[0m                            Traceback (most recent call last)",
      "\u001b[0;32m<ipython-input-5-3b4cdbec9442>\u001b[0m in \u001b[0;36m<module>\u001b[0;34m()\u001b[0m\n\u001b[1;32m      2\u001b[0m     \u001b[1;32mreturn\u001b[0m \u001b[0mtraverse_list\u001b[0m\u001b[1;33m(\u001b[0m\u001b[0mvalues\u001b[0m\u001b[1;33m)\u001b[0m\u001b[1;33m\u001b[0m\u001b[0m\n\u001b[1;32m      3\u001b[0m \u001b[1;33m\u001b[0m\u001b[0m\n\u001b[0;32m----> 4\u001b[0;31m \u001b[0mtraverse_list\u001b[0m\u001b[1;33m(\u001b[0m\u001b[1;33m[\u001b[0m\u001b[1;33m]\u001b[0m\u001b[1;33m)\u001b[0m\u001b[1;33m\u001b[0m\u001b[0m\n\u001b[0m",
      "\u001b[0;32m<ipython-input-5-3b4cdbec9442>\u001b[0m in \u001b[0;36mtraverse_list\u001b[0;34m(values)\u001b[0m\n\u001b[1;32m      1\u001b[0m \u001b[1;32mdef\u001b[0m \u001b[0mtraverse_list\u001b[0m\u001b[1;33m(\u001b[0m\u001b[0mvalues\u001b[0m\u001b[1;33m)\u001b[0m\u001b[1;33m:\u001b[0m\u001b[1;33m\u001b[0m\u001b[0m\n\u001b[0;32m----> 2\u001b[0;31m     \u001b[1;32mreturn\u001b[0m \u001b[0mtraverse_list\u001b[0m\u001b[1;33m(\u001b[0m\u001b[0mvalues\u001b[0m\u001b[1;33m)\u001b[0m\u001b[1;33m\u001b[0m\u001b[0m\n\u001b[0m\u001b[1;32m      3\u001b[0m \u001b[1;33m\u001b[0m\u001b[0m\n\u001b[1;32m      4\u001b[0m \u001b[0mtraverse_list\u001b[0m\u001b[1;33m(\u001b[0m\u001b[1;33m[\u001b[0m\u001b[1;33m]\u001b[0m\u001b[1;33m)\u001b[0m\u001b[1;33m\u001b[0m\u001b[0m\n",
      "... last 1 frames repeated, from the frame below ...\n",
      "\u001b[0;32m<ipython-input-5-3b4cdbec9442>\u001b[0m in \u001b[0;36mtraverse_list\u001b[0;34m(values)\u001b[0m\n\u001b[1;32m      1\u001b[0m \u001b[1;32mdef\u001b[0m \u001b[0mtraverse_list\u001b[0m\u001b[1;33m(\u001b[0m\u001b[0mvalues\u001b[0m\u001b[1;33m)\u001b[0m\u001b[1;33m:\u001b[0m\u001b[1;33m\u001b[0m\u001b[0m\n\u001b[0;32m----> 2\u001b[0;31m     \u001b[1;32mreturn\u001b[0m \u001b[0mtraverse_list\u001b[0m\u001b[1;33m(\u001b[0m\u001b[0mvalues\u001b[0m\u001b[1;33m)\u001b[0m\u001b[1;33m\u001b[0m\u001b[0m\n\u001b[0m\u001b[1;32m      3\u001b[0m \u001b[1;33m\u001b[0m\u001b[0m\n\u001b[1;32m      4\u001b[0m \u001b[0mtraverse_list\u001b[0m\u001b[1;33m(\u001b[0m\u001b[1;33m[\u001b[0m\u001b[1;33m]\u001b[0m\u001b[1;33m)\u001b[0m\u001b[1;33m\u001b[0m\u001b[0m\n",
      "\u001b[0;31mRecursionError\u001b[0m: maximum recursion depth exceeded"
     ]
    }
   ],
   "source": [
    "def traverse_list(values):\n",
    "    return traverse_list(values)\n",
    "\n",
    "traverse_list([])"
   ]
  },
  {
   "cell_type": "code",
   "execution_count": null,
   "metadata": {
    "collapsed": true
   },
   "outputs": [],
   "source": []
  },
  {
   "cell_type": "markdown",
   "metadata": {},
   "source": [
    "## Divide and Conquer\n",
    "\n",
    "Now that we have a good understanding of how recursion works and its common pitfalls, we can start exploring advanced versions of recursive algorithms. Let's think back to the `summation` example where we started splicing the list after the first index until the base case and then we popped back up the stack. If you think about it, recursion is all about breaking down a problem into smaller sub problems until we hit the terminal value.<br>\n",
    "\n",
    "Using this line of thinking, we can start to think up of new ways to further break down our problems. With an understanding of mathematical operations, we can break down the summation in another way. When adding numbers together, it doesn't matter what order we add them in.\n",
    "\n",
    "```python\n",
    "1 + 2 + 3 + 4 + 5 + 6 + 7 + 8 + 9 + 10 = (1 + 2 + 3 + 4 + 5) + (6 + 7 + 8 + 9 + 10)\n",
    "```\n",
    "\n",
    "Here, we are able to divide the summation into a problem where all we have to do is first find the solution to the left hand side and then add it to the solution of the right hand side. If we keep breaking down the problem this way we get the following:\n",
    "\n",
    "![sum-divide-and-conquer](https://dq-content.s3.amazonaws.com/228/sum_divide_n_conquer.svg)\n",
    "\n",
    "It now becomes splitting a list of integers in half and then continuously slicing on these two halves until there is either one element or no elements. The two base cases here are either there is an element in the array, that we return, or there is no element and we return 0.<br>\n",
    "\n",
    "This type of implementation is called **divide and conquer**. First, you split the problem into a set of smaller sub problems until they can be easily solved. After reaching the terminal case, return the values which will solve the general problem at hand.<br>\n",
    "\n",
    "Let's reimplement the summation function using this divide and conquer way."
   ]
  },
  {
   "cell_type": "markdown",
   "metadata": {},
   "source": [
    "* Using divide and conquer, implement `summation` with a single integer list parameter.\n",
    "  * Similar to binary search, find the mid way point and then slice the two lists into a left hand side list and a right hand side list.\n",
    "* Load the file `random_integers.txt` and cast it to a list of integers.\n",
    "  * Assign the list to the variable `random_integers`.\n",
    "* Pass in `random_integers` to the `summation` function and assign its return value to the variable `divide_and_conquer_sum`."
   ]
  },
  {
   "cell_type": "code",
   "execution_count": null,
   "metadata": {
    "collapsed": true
   },
   "outputs": [],
   "source": []
  },
  {
   "cell_type": "code",
   "execution_count": 20,
   "metadata": {
    "collapsed": true
   },
   "outputs": [],
   "source": [
    "# Load your file and cast it to integers here.\n",
    "\n",
    "def summation(values):\n",
    "    # Implement your recursive solution here.\n",
    "    \n",
    "    if len(values) == 0:\n",
    "        return 0\n",
    "    if len(values) == 1:\n",
    "        return values[0]\n",
    "    \n",
    "    mid = len(values)//2\n",
    "    \n",
    "    return summation(values[:mid]) + summation(values[mid:])"
   ]
  },
  {
   "cell_type": "code",
   "execution_count": 21,
   "metadata": {
    "collapsed": false
   },
   "outputs": [],
   "source": [
    "random_integers = [int(numst) for numst in open('../data/random_integers.txt').read().split('\\n')[:-1]]\n",
    "divide_and_conquer_sum = summation(random_integers)"
   ]
  },
  {
   "cell_type": "code",
   "execution_count": 22,
   "metadata": {
    "collapsed": false
   },
   "outputs": [
    {
     "data": {
      "text/plain": [
       "4983438"
      ]
     },
     "execution_count": 22,
     "metadata": {},
     "output_type": "execute_result"
    }
   ],
   "source": [
    "divide_and_conquer_sum"
   ]
  },
  {
   "cell_type": "code",
   "execution_count": null,
   "metadata": {
    "collapsed": true
   },
   "outputs": [],
   "source": []
  },
  {
   "cell_type": "markdown",
   "metadata": {},
   "source": [
    "## Merge Sort (Part 1)\n",
    "\n",
    "Recall from a previous mission we demonstrated how sorting algorithms worked using iterative programming. Let's discuss an algorithm that can sort a list using the divide and conquer method we just learned.<br>\n",
    "\n",
    "This sorting algorithm is called **merge sort**. The goal of the algorithm is to first divide up an unsorted list into a bunch of smaller sorted lists and then merge them all together to create a sorted list. At first glance this might seem difficult to implement but we will show how divide and conquer will achieve the desired result.<br>\n",
    "\n",
    "To start off our discussion, we are going to first solve the conquer part of the algorithm. Let's assume we have two lists of already sorted values like the following:\n",
    "\n",
    "```python\n",
    "sorted_list_1 = [2, 4, 7, 8]\n",
    "sorted_list_2 = [1, 3, 5, 6]\n",
    "```\n",
    "\n",
    "Our goal is to merge these two lists together to create a new sorted list of length 8. To do this, we iterate over each of the sorted lists and then compare the values with each other. If the element of one of the lists is smaller than the other, then we add it to the new sorted list. Here's what an example implementation looks like.\n",
    "\n",
    "```python\n",
    "\n",
    "def merge(left_list, right_list):\n",
    "    sorted = []\n",
    "    while left_list and right_list:\n",
    "        if left_list[0] < right_list[0]:\n",
    "            sorted.append(left_list.pop(0))\n",
    "        else:\n",
    "            sorted.append(right_list.pop(0))\n",
    "    sorted += left_list\n",
    "    sorted += right_list\n",
    "    return sorted\n",
    "    \n",
    "```\n",
    "\n",
    "Initially, we define an empty list `sorted` that we want to append our values to. Next, we continuously loop until at least one of the lists is empty. Within this loop, we know for certain that these lists have at least one value so we can safetly compare their first values.<br>\n",
    "\n",
    "Because these lists are both sorted in increasing order, their first values will always be the smallest. Therefore, we check whether the first `left_list` element is smaller than the first `right_list` value and then add that value to the sorted list. If it is not, than the `right_list` value is equal to or less than the `left_list` element so we can append that one to the sorted_list.<br>\n",
    "\n",
    "We pop off values from the left hand side of the lists by calling `pop(0)` which is `pop` at index 0 (the smallest element). For every pop, we decrease the lists until it is empty which then breaks us out of the while loop.<br>\n",
    "\n",
    "Finally, one of the lists is empty and the other contains sorted values greater than the last element of the sorted list. From here we can safetly append both the empty list and the other list to the `sorted` variable and then return it.<br>\n",
    "\n",
    "Now that we know how to merge two already sorted arrays, the conquer part, we want to work on the divide part."
   ]
  },
  {
   "cell_type": "code",
   "execution_count": null,
   "metadata": {
    "collapsed": true
   },
   "outputs": [],
   "source": []
  },
  {
   "cell_type": "markdown",
   "metadata": {},
   "source": [
    "## Merge Sort (Part 2)\n",
    "\n",
    "Take the following example unsorted list:\n",
    "\n",
    "```python\n",
    "example_list = [4, 1, 5, 7, 2, 9, 10, 3, 6, 8]\n",
    "```\n",
    "\n",
    "Let's try to find some already sorted sublists that are in here. Some that stand out are `[1, 5, 7]`, `[2, 9, 10]` and `[3, 6, 8]`. You can even break these sorted lists down into `[1, 5]`, `[9, 10]`, or even `[5, 7]` as an example. Therefore, we know that an unsorted list can contain some sorted sublists.<br>\n",
    "\n",
    "But our goal is to always find sorted sublists in an unsorted list to then apply our merge algorithm. Well, if you think about it, the most trivial sorted sublist in an unsorted list is a list of an individual element! The single element sublists `[4]`, `[5]`, `[9]`, and the empty list `[]` are all valid examples of the sorted sublists within the unsorted list.<br>\n",
    "\n",
    "With this information, we can say for certain that every unsorted list can be broken down into a set of sorted lists. Also, we can easily get to these trivial sublists by continuously dividing the unsorted list in half.\n",
    "\n",
    "![merge-sort-dnd](https://dq-content.s3.amazonaws.com/228/merge_sort_dnd.svg)\n",
    "\n",
    "This graph looks very similar to the summation algorithm that we implemented earlier. The difference is that the trivial sublists in the unsorted list are the base case. Using what we know so far, let's try to implement merge sort by performing the divide step like in `summation` and the `conquer` step using the merge algorithm."
   ]
  },
  {
   "cell_type": "markdown",
   "metadata": {},
   "source": [
    "* Implement the `merge_sort` function in recursion using the given `merge` function.\n",
    "  * Given an unsorted list of integers, we want to return a sorted array.\n",
    "* Call `merge_sort` on `random_integers` and assign it to the variable `random_sorted`."
   ]
  },
  {
   "cell_type": "code",
   "execution_count": null,
   "metadata": {
    "collapsed": true
   },
   "outputs": [],
   "source": []
  },
  {
   "cell_type": "code",
   "execution_count": null,
   "metadata": {
    "collapsed": true
   },
   "outputs": [],
   "source": [
    "# Load your file and cast it to integers here.\n",
    "\n",
    "def summation(values):\n",
    "    # Implement your recursive solution here.\n",
    "    \n",
    "    if len(values) == 0:\n",
    "        return 0\n",
    "    if len(values) == 1:\n",
    "        return values[0]\n",
    "    \n",
    "    mid = len(values)//2\n",
    "    \n",
    "    return summation(values[:mid]) + summation(values[mid:])"
   ]
  },
  {
   "cell_type": "code",
   "execution_count": null,
   "metadata": {
    "collapsed": true
   },
   "outputs": [],
   "source": []
  },
  {
   "cell_type": "code",
   "execution_count": 25,
   "metadata": {
    "collapsed": true
   },
   "outputs": [],
   "source": [
    "f = open('../data/random_integers.txt', 'r')\n",
    "random_integers = [int(line) for line in f.readlines()]\n",
    "\n",
    "def merge(left_list, right_list):\n",
    "    sorted = []\n",
    "    while left_list and right_list:\n",
    "        if left_list[0] < right_list[0]:\n",
    "            sorted.append(left_list.pop(0))\n",
    "        else:\n",
    "            sorted.append(right_list.pop(0))\n",
    "    sorted += left_list\n",
    "    sorted += right_list\n",
    "    return sorted\n",
    "\n",
    "def merge_sort(unsorted):\n",
    "    \n",
    "    if len(unsorted) == 1:\n",
    "        return unsorted\n",
    "        \n",
    "    mid = len(unsorted)//2\n",
    "    \n",
    "    sorted = merge(merge_sort(unsorted[:mid]), merge_sort(unsorted[mid:]))\n",
    "    return sorted"
   ]
  },
  {
   "cell_type": "code",
   "execution_count": 27,
   "metadata": {
    "collapsed": true
   },
   "outputs": [],
   "source": [
    "random_sorted = merge_sort(random_integers)"
   ]
  },
  {
   "cell_type": "code",
   "execution_count": 29,
   "metadata": {
    "collapsed": false
   },
   "outputs": [
    {
     "name": "stdout",
     "output_type": "stream",
     "text": [
      "[7, 9, 17, 20, 37, 50, 50, 57, 66, 79, 96, 99, 111, 146, 149, 158, 195, 209, 209, 242, 246, 248, 251, 259, 266, 272, 286, 293, 321, 343, 349, 364, 376, 387, 392, 393, 404, 415, 422, 427, 447, 469, 472, 487, 509, 511, 515, 534, 536, 546]\n"
     ]
    }
   ],
   "source": [
    "print(random_sorted[:50])"
   ]
  },
  {
   "cell_type": "code",
   "execution_count": null,
   "metadata": {
    "collapsed": true
   },
   "outputs": [],
   "source": []
  },
  {
   "cell_type": "markdown",
   "metadata": {},
   "source": [
    "## Analysis of Merge Sort\n",
    "\n",
    "How fast is merge sort? Like previous algorithms, we want to know the run time of an merge sort before we start implementing it in practice. Let's break down the algorithm and see how we can analyze it.<br>\n",
    "\n",
    "Starting with the conquer part, `merge`, we can see that we loop through each one of the lists until one of them is empty. That is, if we take `m = len(left_list)` and `p = len(right_list)` then it would be a running time of `O(m + p)`.<br>\n",
    "\n",
    "However, there is something interesting about the size of the lists. If we start dividing them all into half, we keep cutting the lists into smaller chunks spread equally apart after every recursive call in the algorithm. If you were to add the total work done for a single step in the recursion algorithm, notice that it is actually `O(n)` work. Where `n` is the size of the unsorted list.\n",
    "\n",
    "![merge-sort-divide-analysis](https://dq-content.s3.amazonaws.com/228/merge_sort_divide_analysis.svg)\n",
    "\n",
    "Now that we know how to calculate the conquer part for every divide, **we want to know how many times we need to do this division**. Each step in the recursive call means that we divide the length of the list into two parts. We can take the other way of looking at it this by stating: \"how many times do we have to multiply two to get to size `n`?<br>\n",
    "\n",
    "Well, then we would write the following equation out: $2k=n$ where `k` is the number of steps we need to get to the unsorted list of length `n`. Using the log formula, we can then rewrite this as $log_{2}n=k$. Therefore, we require $log_{2}n$ steps to get to the base case!<br>\n",
    "\n",
    "Multiplying the conquer part together with the total amount of steps in total, we get $O(nlog_{2}n)$ as the big-Oh notation runtime."
   ]
  },
  {
   "cell_type": "code",
   "execution_count": null,
   "metadata": {
    "collapsed": true
   },
   "outputs": [],
   "source": []
  },
  {
   "cell_type": "markdown",
   "metadata": {},
   "source": [
    "## Next Steps\n",
    "\n",
    "In this mission, we have learned about recursion, divide and conquer, a new implementation of a sorting algorithm (merge sort), and its analysis. Recall from the introduction, we said we were going to learn how to apply recursion to a new data structure. Perhaps you have noticed already, but take a look back at the diagrams in the mission and see if you can find a pattern.<br>\n",
    "\n",
    "Almost all of the diagrams we have shown display a descending and branching graph. This structure is known as a tree and if you haven't guessed it, recursion is a natural way to describe the structure! In the next mission we will learn about a binary tree which will be the first of many tree strucures we will work with."
   ]
  },
  {
   "cell_type": "code",
   "execution_count": null,
   "metadata": {
    "collapsed": true
   },
   "outputs": [],
   "source": []
  }
 ],
 "metadata": {
  "kernelspec": {
   "display_name": "Python [default]",
   "language": "python",
   "name": "python3"
  },
  "language_info": {
   "codemirror_mode": {
    "name": "ipython",
    "version": 3
   },
   "file_extension": ".py",
   "mimetype": "text/x-python",
   "name": "python",
   "nbconvert_exporter": "python",
   "pygments_lexer": "ipython3",
   "version": "3.5.4"
  }
 },
 "nbformat": 4,
 "nbformat_minor": 2
}
