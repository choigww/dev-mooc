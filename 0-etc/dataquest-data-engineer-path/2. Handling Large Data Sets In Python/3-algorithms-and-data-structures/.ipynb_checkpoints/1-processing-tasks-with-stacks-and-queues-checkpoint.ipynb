{
 "cells": [
  {
   "cell_type": "markdown",
   "metadata": {},
   "source": [
    "# Processing Tasks With Stacks and Queues\n"
   ]
  },
  {
   "cell_type": "code",
   "execution_count": null,
   "metadata": {},
   "outputs": [],
   "source": []
  },
  {
   "cell_type": "markdown",
   "metadata": {},
   "source": [
    "## Assigning Tasks to Pools\n",
    "\n",
    "In the last course, we talked about the idea of worker pools. We used assigning documents to translators as an example. You have a \"pool\" of several translators who are waiting for work. As the work comes in, it gets assigned to free translators, who then complete the translation work. This model works well when you have a fixed amount of work, or when you have more translators than available work. Here's an example with a fixed amount of work:\n",
    "\n",
    "![fixed-amount-of-work](https://s3.amazonaws.com/dq-content/168/translators_2.svg)\n",
    "\n",
    "But what happens when work is constantly coming in? Let's say that you're writing some code for the [Department Of Motor Vehicles](https://en.wikipedia.org/wiki/Department_of_Motor_Vehicles), or DMV, in [California](https://en.wikipedia.org/wiki/California). If you're unfamiliar, the DMV in America handles driver's license issuances and renewals. In order to apply for a driver's license, you need quite a bit of information, including:\n",
    "* Your name\n",
    "* Your address\n",
    "* Your [Social Security Number](https://en.wikipedia.org/wiki/Social_Security_number)\n",
    "\n",
    "A single DMV office is usually open between 9am and 5pm. During these hours, people come in, and give their application information to clerks. These clerks then collate the application information and file it for further processing. After the processing is done, the license is able to be printed and given to the applicant.<br>\n",
    "\n",
    "Let's say that the code you're writing needs to handle this further processing, and your system can handle processing `200` applications per hour. Throughout the day, the DMV handles a variable number of visitors:\n",
    "\n",
    "![app-count-during-the-day](https://s3.amazonaws.com/dq-content/172/visitors_during_day_1.svg)\n",
    "\n",
    "As you can see, there are times during the day when you're below processing capacity (green), times when you're at capacity (blue) and times when you're above capacity (red). This means that not everyone will get their application processed immediately. When we can't process applications immediately, we put them in a backlog to process later. We can look at backlog length by hour to get a better sense of this:\n",
    "\n",
    "![backlog-length-during-the-day](https://s3.amazonaws.com/dq-content/172/queue_length_during_day_1.svg)\n",
    "\n",
    "As you can see, backlog length generally increases throughout the day. Whenever the backlog length is greater than `0`, it means that people coming in may have to wait for a while in order to get their license. Note that because your computer system works 24/7, any applications that are unprocessed at the end of the day will finish being processed overnight.<br>\n",
    "\n",
    "**There's one simple strategy for dealing with the backlog -- we just process people's applications in the order they were added to the backlog**. This works like a traditional line -- if you're the first person in line, your application is processed first, and if you're the last person, your application gets processed last. Because the DMV has a small waiting area, they don't want tons of people waiting for their licenses. So if they can't guarantee that your applicant will be processed immediately, they ask you to come back the next day to pick up your license.<br>\n",
    "\n",
    "This means that the clerks at the DMV would tell everyone to come back the next morning if there's any kind of backlog. For example, if there are `50` applications in the backlog, and you just submitted your application, there wouldn't be a guarantee of your task being processed immediately, so you'd have to come back later. Here's how this strategy would look:\n",
    "\n",
    "![backlog-strategy-flow](https://s3.amazonaws.com/dq-content/172/processing_with_queue.svg)\n",
    "\n",
    "As you can see above, we add new applications to the end of the line, or the \"bottom\", and we pull applications to process from the start of the line, or the \"top\".<br>\n",
    "\n",
    "There's another, more complex, strategy that may lead to better customer outcomes. In the alternate strategy, you process applications as soon as they come in, ignoring what's already in the backlog. So if there are `50` applications in the backlog already, a new application will be prioritized ahead of them if it was just submitted. This means that some percentage of people during busy times will immediately get their applications processed, while everyone else will have to come back the next day. This theoretically is better for customers than the alternative, as some are able to get their application processed more quickly:\n",
    "\n",
    "![alternative-backlog-strategy](https://s3.amazonaws.com/dq-content/172/processing_with_stack.svg)\n",
    "\n",
    "As you can see above, we add new applications to the start of the line, or the \"top\", and we pull applications to process from the start of the line as well.<br>\n",
    "\n",
    "Both of the task prioritization paradigms we mentioned above are used extensively in computer science. The first is known as the queue, and the second is known as the stack. In this mission, we'll expand on queues and stacks, and go into more depth about how and when each model is useful.<br>\n",
    "\n",
    "Before we do so, here's a diagram of a stack:\n",
    "\n",
    "![diagram-stack](https://s3.amazonaws.com/dq-content/172/Lifo_stack.png)\n",
    "\n",
    "And here's a diagram of a queue:\n",
    "\n",
    "![diagram-queue](https://s3.amazonaws.com/dq-content/172/fifo_queue.png)\n",
    "\n",
    "\n",
    "\n"
   ]
  },
  {
   "cell_type": "code",
   "execution_count": null,
   "metadata": {},
   "outputs": [],
   "source": []
  },
  {
   "cell_type": "markdown",
   "metadata": {},
   "source": [
    "## Processing Applications\n",
    "\n",
    "In this mission, we'll use a dataset of applications for driver's licenses. Due to the sensitivity of the fields, we're using randomly generated data. You can look at `generate_data.py` in this same folder for a peek at how the generation was done. The applications are stored in `application.csv`, and each application contains the following fields:\n",
    "* `name` -- the first and last name of the applicant.\n",
    "* `address` -- the current address of the applicant.\n",
    "* `previous_address` -- the previous address of the applicant.\n",
    "* `gender` -- the gender of the applicant.\n",
    "* `ssn` -- the social security number of the applicant.\n",
    "* `birthdate` -- the date of birth of the applicant.\n",
    "* `job` -- a description of the applicant's job.\n",
    "* `phone` -- the applicant's phone number.\n",
    "\n",
    "There are `2400` applications to process altogether. To keep things simple, we're assuming that `300` applications come in every hour, and since there are 8 hours between `9am` and `5pm`, that gives us `2400` total applications to process.<br>\n",
    "\n",
    "Here are the first `5` rows of `applications.csv`:"
   ]
  },
  {
   "cell_type": "code",
   "execution_count": 1,
   "metadata": {},
   "outputs": [
    {
     "data": {
      "text/html": [
       "<div>\n",
       "<style scoped>\n",
       "    .dataframe tbody tr th:only-of-type {\n",
       "        vertical-align: middle;\n",
       "    }\n",
       "\n",
       "    .dataframe tbody tr th {\n",
       "        vertical-align: top;\n",
       "    }\n",
       "\n",
       "    .dataframe thead th {\n",
       "        text-align: right;\n",
       "    }\n",
       "</style>\n",
       "<table border=\"1\" class=\"dataframe\">\n",
       "  <thead>\n",
       "    <tr style=\"text-align: right;\">\n",
       "      <th></th>\n",
       "      <th>name</th>\n",
       "      <th>address</th>\n",
       "      <th>previous_address</th>\n",
       "      <th>gender</th>\n",
       "      <th>ssn</th>\n",
       "      <th>birthdate</th>\n",
       "      <th>job</th>\n",
       "      <th>phone</th>\n",
       "    </tr>\n",
       "  </thead>\n",
       "  <tbody>\n",
       "    <tr>\n",
       "      <th>0</th>\n",
       "      <td>Johnny Baker</td>\n",
       "      <td>1998 Cook Street Friedmanfurt CA 95687</td>\n",
       "      <td>158 Mccoy Key Port Maurice  WY 72503-8242</td>\n",
       "      <td>M</td>\n",
       "      <td>548-22-4499</td>\n",
       "      <td>1924-12-29 11:06:29</td>\n",
       "      <td>Magazine journalist</td>\n",
       "      <td>1-410-888-3602</td>\n",
       "    </tr>\n",
       "    <tr>\n",
       "      <th>1</th>\n",
       "      <td>Shirley Nelson</td>\n",
       "      <td>06031 Donna Fields East Vanessa CA 94770</td>\n",
       "      <td>885 Adams Rapids Victorburgh  ME 42614-9327</td>\n",
       "      <td>F</td>\n",
       "      <td>685-92-4500</td>\n",
       "      <td>1988-03-29 06:32:25</td>\n",
       "      <td>Adult nurse</td>\n",
       "      <td>1-254-662-2625</td>\n",
       "    </tr>\n",
       "    <tr>\n",
       "      <th>2</th>\n",
       "      <td>Patrick Morrison</td>\n",
       "      <td>133 Earl Plains East Stevenstad CA 90480</td>\n",
       "      <td>0251 Luna Hill Apt. 201 South Kennethport  ID ...</td>\n",
       "      <td>M</td>\n",
       "      <td>899-18-8813</td>\n",
       "      <td>1962-03-28 20:19:51</td>\n",
       "      <td>Solicitor</td>\n",
       "      <td>1-590-376-7820x3438</td>\n",
       "    </tr>\n",
       "    <tr>\n",
       "      <th>3</th>\n",
       "      <td>Benjamin Andrews</td>\n",
       "      <td>9988 Micheal Lock Suite 298 Kirbyberg CA 95232</td>\n",
       "      <td>1308 Ramirez Manors Suite 981 North James  NC ...</td>\n",
       "      <td>M</td>\n",
       "      <td>214-61-7418</td>\n",
       "      <td>1942-08-15 16:33:22</td>\n",
       "      <td>Tourist information centre manager</td>\n",
       "      <td>(905)117-2921</td>\n",
       "    </tr>\n",
       "    <tr>\n",
       "      <th>4</th>\n",
       "      <td>Alan Preston</td>\n",
       "      <td>8759 Woods Loaf New Maryview CA 92517</td>\n",
       "      <td>969 Andrew Bypass Suite 567 Mcdonaldtown  LA 7...</td>\n",
       "      <td>M</td>\n",
       "      <td>273-75-2787</td>\n",
       "      <td>1938-01-05 17:37:32</td>\n",
       "      <td>Building surveyor</td>\n",
       "      <td>317-539-2094x159</td>\n",
       "    </tr>\n",
       "  </tbody>\n",
       "</table>\n",
       "</div>"
      ],
      "text/plain": [
       "               name                                         address  \\\n",
       "0      Johnny Baker          1998 Cook Street Friedmanfurt CA 95687   \n",
       "1    Shirley Nelson        06031 Donna Fields East Vanessa CA 94770   \n",
       "2  Patrick Morrison        133 Earl Plains East Stevenstad CA 90480   \n",
       "3  Benjamin Andrews  9988 Micheal Lock Suite 298 Kirbyberg CA 95232   \n",
       "4      Alan Preston           8759 Woods Loaf New Maryview CA 92517   \n",
       "\n",
       "                                    previous_address gender          ssn  \\\n",
       "0          158 Mccoy Key Port Maurice  WY 72503-8242      M  548-22-4499   \n",
       "1        885 Adams Rapids Victorburgh  ME 42614-9327      F  685-92-4500   \n",
       "2  0251 Luna Hill Apt. 201 South Kennethport  ID ...      M  899-18-8813   \n",
       "3  1308 Ramirez Manors Suite 981 North James  NC ...      M  214-61-7418   \n",
       "4  969 Andrew Bypass Suite 567 Mcdonaldtown  LA 7...      M  273-75-2787   \n",
       "\n",
       "             birthdate                                 job  \\\n",
       "0  1924-12-29 11:06:29                 Magazine journalist   \n",
       "1  1988-03-29 06:32:25                         Adult nurse   \n",
       "2  1962-03-28 20:19:51                           Solicitor   \n",
       "3  1942-08-15 16:33:22  Tourist information centre manager   \n",
       "4  1938-01-05 17:37:32                   Building surveyor   \n",
       "\n",
       "                 phone  \n",
       "0       1-410-888-3602  \n",
       "1       1-254-662-2625  \n",
       "2  1-590-376-7820x3438  \n",
       "3        (905)117-2921  \n",
       "4     317-539-2094x159  "
      ]
     },
     "execution_count": 1,
     "metadata": {},
     "output_type": "execute_result"
    }
   ],
   "source": [
    "import pandas as pd\n",
    "applications = pd.read_csv('../data/applications.csv')\n",
    "applications.head()"
   ]
  },
  {
   "cell_type": "markdown",
   "metadata": {},
   "source": [
    "Before we look into how to use stacks and queues to prioritize tasks, let's write a function that processes a single application. The function will need to take in a single applicant, then:\n",
    "* Verify that they're at least `18` years old.\n",
    "* Verify that they live in California (abbreviated as `CA` in the `address` column).\n",
    "\n",
    "We've read `applications.csv` into a pandas DataFrame called `applications`."
   ]
  },
  {
   "cell_type": "code",
   "execution_count": null,
   "metadata": {},
   "outputs": [],
   "source": []
  },
  {
   "cell_type": "markdown",
   "metadata": {},
   "source": [
    "* Write a function called `process_application` to perform the age and address verifications mentioned earlier for a single applicant.\n",
    "  * Age check\n",
    "    * Verify that the applicant is at least `18`.\n",
    "    * To make the age check easier, let's assume every year has `365.25` days.\n",
    "  * Residence check\n",
    "    * Verify that the applicant lives in `CA`.\n",
    "  * The function should return `True` if the applicant passes both verifications, and `False` if they failed one.\n",
    "* Run the function over every applicant.\n",
    "* Assign the result to `application_status`.\n",
    "  * Ensure that `application_status` is a list of Boolean values."
   ]
  },
  {
   "cell_type": "code",
   "execution_count": 2,
   "metadata": {},
   "outputs": [
    {
     "name": "stdout",
     "output_type": "stream",
     "text": [
      "<class 'pandas.core.frame.DataFrame'>\n",
      "RangeIndex: 2400 entries, 0 to 2399\n",
      "Data columns (total 8 columns):\n",
      "name                2400 non-null object\n",
      "address             2400 non-null object\n",
      "previous_address    2400 non-null object\n",
      "gender              2400 non-null object\n",
      "ssn                 2400 non-null object\n",
      "birthdate           2400 non-null object\n",
      "job                 2400 non-null object\n",
      "phone               2400 non-null object\n",
      "dtypes: object(8)\n",
      "memory usage: 150.1+ KB\n"
     ]
    }
   ],
   "source": [
    "applications.info()"
   ]
  },
  {
   "cell_type": "code",
   "execution_count": 3,
   "metadata": {},
   "outputs": [
    {
     "data": {
      "text/plain": [
       "['name',\n",
       " 'address',\n",
       " 'previous_address',\n",
       " 'gender',\n",
       " 'ssn',\n",
       " 'birthdate',\n",
       " 'job',\n",
       " 'phone']"
      ]
     },
     "execution_count": 3,
     "metadata": {},
     "output_type": "execute_result"
    }
   ],
   "source": [
    "applications.columns.tolist()"
   ]
  },
  {
   "cell_type": "code",
   "execution_count": 4,
   "metadata": {},
   "outputs": [
    {
     "data": {
      "text/plain": [
       "0            1998 Cook Street Friedmanfurt CA 95687\n",
       "1          06031 Donna Fields East Vanessa CA 94770\n",
       "2          133 Earl Plains East Stevenstad CA 90480\n",
       "3    9988 Micheal Lock Suite 298 Kirbyberg CA 95232\n",
       "4             8759 Woods Loaf New Maryview CA 92517\n",
       "Name: address, dtype: object"
      ]
     },
     "execution_count": 4,
     "metadata": {},
     "output_type": "execute_result"
    }
   ],
   "source": [
    "# investigate data string format\n",
    "applications['address'][:5]"
   ]
  },
  {
   "cell_type": "code",
   "execution_count": 5,
   "metadata": {},
   "outputs": [
    {
     "data": {
      "text/plain": [
       "0    1924-12-29 11:06:29\n",
       "1    1988-03-29 06:32:25\n",
       "2    1962-03-28 20:19:51\n",
       "3    1942-08-15 16:33:22\n",
       "4    1938-01-05 17:37:32\n",
       "Name: birthdate, dtype: object"
      ]
     },
     "execution_count": 5,
     "metadata": {},
     "output_type": "execute_result"
    }
   ],
   "source": [
    "applications['birthdate'][:5]"
   ]
  },
  {
   "cell_type": "code",
   "execution_count": 6,
   "metadata": {},
   "outputs": [],
   "source": [
    "import time\n",
    "from datetime import datetime\n",
    "from dateutil import parser"
   ]
  },
  {
   "cell_type": "code",
   "execution_count": 7,
   "metadata": {},
   "outputs": [],
   "source": [
    "def process_application(row):\n",
    "    \n",
    "    # verify age\n",
    "    now = parser.parse(time.strftime(\"%c\"))\n",
    "    timedelta_days = (now - parser.parse(row['birthdate'])).days\n",
    "    timedelta_years = timedelta_days / 365.25\n",
    "    age_verification = (timedelta_years >= 18)\n",
    "    \n",
    "    if not age_verification:\n",
    "        return False\n",
    "    \n",
    "    # verify residence\n",
    "    residence_verification = (row['address'][-8:-6] == 'CA')\n",
    "    \n",
    "    if not residence_verification:\n",
    "        return False\n",
    "    \n",
    "    return True"
   ]
  },
  {
   "cell_type": "code",
   "execution_count": 8,
   "metadata": {
    "scrolled": false
   },
   "outputs": [],
   "source": [
    "application_status = applications.apply(process_application, axis=1)"
   ]
  },
  {
   "cell_type": "code",
   "execution_count": 9,
   "metadata": {
    "scrolled": true
   },
   "outputs": [
    {
     "name": "stdout",
     "output_type": "stream",
     "text": [
      "2400\n",
      "2400\n"
     ]
    }
   ],
   "source": [
    "# Every application meets the requirement\n",
    "\n",
    "print(len(application_status))\n",
    "print(sum(application_status))"
   ]
  },
  {
   "cell_type": "code",
   "execution_count": null,
   "metadata": {},
   "outputs": [],
   "source": []
  },
  {
   "cell_type": "markdown",
   "metadata": {},
   "source": [
    "## Stacks\n",
    "\n",
    "A stack is a data structure that takes in new elements at the \"top\". When you want to access an element, it is also removed from the top. This is known as \"last-in-first-out\" queue, since the last element put into the stack is the first element taken out.\n",
    "\n",
    "![Stack-Operations](https://s3.amazonaws.com/dq-content/172/stack_operations_1.svg)\n",
    "\n",
    "As you can see, we add element `3` to the top, then add element `4` to the top. We then remove element `4` from the top. We can simulate this with the Python [list.insert](https://docs.python.org/3/tutorial/datastructures.html) and [list.pop](https://docs.python.org/3/tutorial/datastructures.html) methods. We'll start with a list that contains elements `1` and `2`:\n",
    "\n",
    "```bash\n",
    ">> stack = [1,2]\n",
    ">> stack\n",
    "[1,2]\n",
    "```\n",
    "\n",
    "We then add element `3` to the \"top\" of the stack:\n",
    "\n",
    "```bash\n",
    ">> stack.insert(0,3)\n",
    "[3,1,2]\n",
    "```\n",
    "\n",
    "We then add `4` to the top of the stack:\n",
    "\n",
    "```bash\n",
    ">> stack.insert(0,4)\n",
    ">> stack\n",
    "[4,3,1,2]\n",
    "```\n",
    "\n",
    "We can then remove the \"top\" element of the stack:\n",
    "```bash\n",
    ">> stack.pop(0)\n",
    "4\n",
    ">> stack\n",
    "[3,1,2]\n",
    "```\n",
    "\n",
    "We're considering the beginning of the list to be the \"top\" of our stack, and the end of the list to be the \"bottom\". This, when we add elements using `insert`, we add them at index `0`, or the beginning. We also remove elements from index `0`, or the beginning, using `pop`.<br>\n",
    "\n",
    "A stack is a way to implement the theoretically more efficient method of prioritization we discussed in the first screen. In this example, applications would be added to the top of the backlog as they're submitted. We'd then remove tasks from the top of the stack to process them. Let's profile how a stack would perform if it was processing the data for the DMV. We can do this by:\n",
    "\n",
    "* Creating a stack.\n",
    "* Creating one thread to add tasks to the stack.\n",
    "* Creating a second thread to remove tasks from the stack and process them.\n",
    "* Keeping track of wait time for each task:\n",
    "  * If the task was put on the stack and immediately removed and processed, let's say the wait time is `10` minutes.\n",
    "  * If the task had to wait for another task to process first, the applicant has to come back the next morning at `9am`. To keep things simple, let's say that `300` applications are added to the backlog every hour, and that applications start coming in at `9am`. Thus, the first `300` applications (from `1` to `300`) would have to wait `23` hours (from `10am` to `9am` the bext day). Applications throughout the day would have to wait:\n",
    "    * `301-600` -- `22` hours.\n",
    "    * `601-900` -- `21` hours.\n",
    "    * `901-1200` -- `20` hours.\n",
    "    * `1201-1500` -- `19` hours.\n",
    "    * `1501-1800` -- `18` hours.\n",
    "    * `1801-2100` -- `17` hours.\n",
    "    * `2101-2400` -- `16` hours.\n",
    "    \n",
    "We can compute wait time with the following method:\n",
    "* Create a list to store the wait times.\n",
    "* When adding tasks:\n",
    "  * Store the task number in the stack, along with the application data.\n",
    "  * Keep track of the task numbers added to the stack in a separate list.\n",
    "* When processing tasks:\n",
    "  * If the last task added to the stack is being processed, add 10 minutes to the total wait time.\n",
    "    * Find this by comparing the latest task number to the task number of the application being processed.\n",
    "  * If the last task is not being processed, calculate the wait time based on the task number.\n",
    "\n",
    "By averaging the wait time across all applications, we can figure out how efficient it is to prioritize our DMV applications using a stack."
   ]
  },
  {
   "cell_type": "code",
   "execution_count": null,
   "metadata": {},
   "outputs": [],
   "source": []
  },
  {
   "cell_type": "markdown",
   "metadata": {},
   "source": [
    "* Create a list called `wait_times` to store the wait times.\n",
    "* Create a list called `stack` to store the tasks.\n",
    "* Create a list called `task_numbers` to store the task numbers of the tasks added to `stack`.\n",
    "* Create a function, `add_tasks`, to add tasks to the stack. The function should loop through `applications`, and:\n",
    "  * Individually add rows to `stack`, along with the task numbers, in a single tuple. The task number is the pandas row index with `1` added to it. (the row index starts at `0`, but task numbers start at `1`, so we need to add `1`)\n",
    "    * Here's how this should look in code: `stack.insert(0,(index + 1, row))`\n",
    "  * Append the task number to `task_numbers` whenever an item is added to stack.\n",
    "  * Sleep for `.001` seconds.\n",
    "* Create a function, `process_tasks`, to process tasks. The function should:\n",
    "  * Check if `stack` is empty. If it is, wait for a second.\n",
    "  * If `stack` is not empty, remove the first task from `task`, and process the task using `process_application`.\n",
    "  * Compute the wait time for this task, and append to `wait_times`.\n",
    "    * If the task number matches the last number in `tasks`, the wait time is `10` minutes.\n",
    "    * If not, you'll need to compute it based on the task number.\n",
    "* Start two threads, one for each function, and wait until they finish executing.\n",
    "* Find the average wait time, in seconds, and assign to `average_wait_time`.\n",
    "* Inspect wait_times to see how the wait time changed as more tasks were processed.\n",
    "* Try varying the sleep times in the `process_application` and `add_tasks` functions. Does this change the average wait time? Why do you think this is happening?"
   ]
  },
  {
   "cell_type": "code",
   "execution_count": 10,
   "metadata": {},
   "outputs": [],
   "source": [
    "import threading\n",
    "import math"
   ]
  },
  {
   "cell_type": "code",
   "execution_count": 11,
   "metadata": {},
   "outputs": [],
   "source": [
    "wait_times, stack, task_numbers = [], [], []\n",
    "\n",
    "def add_tasks(sleep_time=.001):\n",
    "    \n",
    "    for i, row in applications.iterrows():\n",
    "        \n",
    "        stack.insert(0, (i+1, row))\n",
    "        task_numbers.append(i+1)\n",
    "        time.sleep(sleep_time)\n"
   ]
  },
  {
   "cell_type": "code",
   "execution_count": 12,
   "metadata": {},
   "outputs": [],
   "source": [
    "def process_tasks(sleep_time_nostack=1,\n",
    "                 sleep_time_finaltask=600):\n",
    "    tasks_finished = 0\n",
    "    \n",
    "    while tasks_finished < 2400:\n",
    "        \n",
    "        if len(stack) == 0:\n",
    "            time.sleep(sleep_time_nostack)\n",
    "        \n",
    "        else:\n",
    "            task_number, application = stack.pop(0)\n",
    "            resp = process_application(application)\n",
    "            tasks_finished += 1\n",
    "            \n",
    "            if task_number == task_numbers[-1]:\n",
    "                wait_times.append(sleep_time_finaltask)\n",
    "            \n",
    "            else:\n",
    "                wait_times.append((24 - math.ceil(task_number / 300)) * 3600)\n",
    "    "
   ]
  },
  {
   "cell_type": "code",
   "execution_count": null,
   "metadata": {},
   "outputs": [],
   "source": []
  },
  {
   "cell_type": "code",
   "execution_count": 19,
   "metadata": {},
   "outputs": [],
   "source": [
    "def test_and_get_avg_time(add_task_wait_time,\n",
    "                         process_tasks_wait_time1,\n",
    "                         process_tasks_wait_time2):\n",
    "    \n",
    "    t1 = threading.Thread(target=add_tasks,\n",
    "                         args=(add_task_wait_time,))\n",
    "    t2 = threading.Thread(target=process_tasks,\n",
    "                         args=(process_tasks_wait_time1,\n",
    "                              process_tasks_wait_time2))\n",
    "\n",
    "    t1.start();t2.start();t1.join();t2.join()\n",
    "\n",
    "    average_wait_time = sum(wait_times)/2400\n",
    "    print('add_task wait time: {}\\nprocess_tasks wait time(1): {}\\nprocess_tasks wait time(2): {}'.\\\n",
    "              format(add_task_wait_time,\n",
    "                    process_tasks_wait_time1,\n",
    "                    process_tasks_wait_time2))\n",
    "    print('AVG time: {}'.format(average_wait_time))\n",
    "    \n",
    "    return wait_times\n",
    "    "
   ]
  },
  {
   "cell_type": "code",
   "execution_count": 21,
   "metadata": {},
   "outputs": [
    {
     "name": "stdout",
     "output_type": "stream",
     "text": [
      "add_task wait time: 0.001\n",
      "process_tasks wait time(1): 1\n",
      "process_tasks wait time(2): 600\n",
      "AVG time: 66667.25\n",
      "\n"
     ]
    }
   ],
   "source": [
    "# default wait time\n",
    "wait_times, stack, task_numbers = [], [], []\n",
    "test_and_get_avg_time(.001, 1, 600)\n",
    "print('')"
   ]
  },
  {
   "cell_type": "code",
   "execution_count": 22,
   "metadata": {},
   "outputs": [
    {
     "name": "stdout",
     "output_type": "stream",
     "text": [
      "add_task wait time: 0.001\n",
      "process_tasks wait time(1): 10\n",
      "process_tasks wait time(2): 6000\n",
      "AVG time: 70146.5\n",
      "##############################\n",
      "add_task wait time: 0.001\n",
      "process_tasks wait time(1): 1\n",
      "process_tasks wait time(2): 600\n",
      "AVG time: 66790.5\n",
      "##############################\n",
      "add_task wait time: 0.001\n",
      "process_tasks wait time(1): 0.1\n",
      "process_tasks wait time(2): 60\n",
      "AVG time: 64929.025\n",
      "##############################\n",
      "add_task wait time: 0.001\n",
      "process_tasks wait time(1): 0.01\n",
      "process_tasks wait time(2): 6\n",
      "AVG time: 60126.86\n",
      "##############################\n"
     ]
    }
   ],
   "source": [
    "from matplotlib import pyplot as plt\n",
    "\n",
    "test_timeset = [(.001, 10, 6000),\n",
    "               (.001, 1, 600),\n",
    "               (.001, .1, 60),\n",
    "               (.001, .01, 6)]\n",
    "\n",
    "avg_wait_times = []\n",
    "\n",
    "for tt in test_timeset:\n",
    "    wait_times, stack, task_numbers = [], [], []\n",
    "    avg_wait_times.append(test_and_get_avg_time(tt[0], tt[1], tt[2]))\n",
    "    print('#'*30)\n"
   ]
  },
  {
   "cell_type": "code",
   "execution_count": 31,
   "metadata": {
    "scrolled": true
   },
   "outputs": [
    {
     "data": {
      "image/png": "[encoded data removed]",
      "text/plain": [
       "<matplotlib.figure.Figure at 0x10ff302b0>"
      ]
     },
     "metadata": {},
     "output_type": "display_data"
    }
   ],
   "source": [
    "fig = plt.figure()\n",
    "\n",
    "ax1 = fig.add_subplot(221)\n",
    "ax1.hist(avg_wait_times[0])\n",
    "\n",
    "ax2 = fig.add_subplot(222)\n",
    "ax2.hist(avg_wait_times[1])\n",
    "\n",
    "ax3 = fig.add_subplot(223)\n",
    "ax3.hist(avg_wait_times[2])\n",
    "\n",
    "ax4 = fig.add_subplot(224)\n",
    "ax4.hist(avg_wait_times[3])\n",
    "\n",
    "plt.tight_layout()\n",
    "fig = plt.gcf()\n",
    "plt.show()"
   ]
  },
  {
   "cell_type": "code",
   "execution_count": null,
   "metadata": {},
   "outputs": [],
   "source": []
  },
  {
   "cell_type": "code",
   "execution_count": 35,
   "metadata": {},
   "outputs": [
    {
     "name": "stdout",
     "output_type": "stream",
     "text": [
      "add_task wait time: 0.01\n",
      "process_tasks wait time(1): 1\n",
      "process_tasks wait time(2): 600\n",
      "AVG time: 67657.0\n",
      "##############################\n",
      "add_task wait time: 0.001\n",
      "process_tasks wait time(1): 1\n",
      "process_tasks wait time(2): 600\n",
      "AVG time: 66747.5\n",
      "##############################\n",
      "add_task wait time: 0.0001\n",
      "process_tasks wait time(1): 1\n",
      "process_tasks wait time(2): 600\n",
      "AVG time: 70142.0\n",
      "##############################\n",
      "add_task wait time: 1e-05\n",
      "process_tasks wait time(1): 1\n",
      "process_tasks wait time(2): 600\n",
      "AVG time: 70142.0\n",
      "##############################\n"
     ]
    }
   ],
   "source": [
    "test_timeset = [(.01, 1, 600),\n",
    "                (.001, 1, 600),\n",
    "                (.0001, 1, 600),\n",
    "                (.00001, 1, 600)]\n",
    "\n",
    "avg_wait_times = []\n",
    "\n",
    "for tt in test_timeset:\n",
    "    wait_times, stack, task_numbers = [], [], []\n",
    "    avg_wait_times.append(test_and_get_avg_time(tt[0], tt[1], tt[2]))\n",
    "    print('#'*30)"
   ]
  },
  {
   "cell_type": "code",
   "execution_count": 36,
   "metadata": {
    "scrolled": true
   },
   "outputs": [
    {
     "data": {
      "image/png": "[encoded data removed]",
      "text/plain": [
       "<matplotlib.figure.Figure at 0x11052dcf8>"
      ]
     },
     "metadata": {},
     "output_type": "display_data"
    }
   ],
   "source": [
    "fig = plt.figure()\n",
    "\n",
    "ax1 = fig.add_subplot(221)\n",
    "ax1.hist(avg_wait_times[0])\n",
    "\n",
    "ax2 = fig.add_subplot(222)\n",
    "ax2.hist(avg_wait_times[1])\n",
    "\n",
    "ax3 = fig.add_subplot(223)\n",
    "ax3.hist(avg_wait_times[2])\n",
    "\n",
    "ax4 = fig.add_subplot(224)\n",
    "ax4.hist(avg_wait_times[3])\n",
    "\n",
    "plt.tight_layout()\n",
    "fig = plt.gcf()\n",
    "plt.show()"
   ]
  },
  {
   "cell_type": "code",
   "execution_count": null,
   "metadata": {},
   "outputs": [],
   "source": []
  },
  {
   "cell_type": "markdown",
   "metadata": {},
   "source": [
    "## Implementing A Stack\n",
    "\n",
    "Although we used the Python list implementation as a stack in the last screen, it can be helpful to implement your own stack. This allows you to store custom values, avoid mistakes when adding removing elements, and add additional methods. A good use case for a stack is as a shared way to distribute tasks or store values when you're working across multiple threads. As you work with larger datasets, custom implementations become more necessary. The easiest way to implement a stack is to create a custom class. The class needs two methods at the minimum:\n",
    "* `push` -- adds a value to the stack.\n",
    "* `pop` -- removes a value from the stack.\n",
    "\n",
    "Additionally, the stack needs an internal list to store the values in the stack:\n",
    "* `items` -- a list of all the items in the stack.\n",
    "\n",
    "Implementing `push` and `pop` is very similar to what you did when adding and removing elements from `stack` in the last screen.<br>\n",
    "\n",
    "We're implementing a custom class on top of a list for a few reasons:\n",
    "* It's easier to implement a stack this way, and learn how stacks work, than it is to implement a completely custom stack.\n",
    "* Implementing a stack class instead of using a list makes adding and removing much simpler, since you don't need to remember which index to pass into the list.\n",
    "\n",
    "We can easily add custom methods on top of the stack."
   ]
  },
  {
   "cell_type": "code",
   "execution_count": null,
   "metadata": {},
   "outputs": [],
   "source": []
  },
  {
   "cell_type": "markdown",
   "metadata": {},
   "source": [
    "* Create a class called `Stack` that:\n",
    "  * Uses an instance variable called `items` to store the stack values.\n",
    "  * Has a `push` method to add values to the stack, and a `pop` method to remove values from the stack.\n",
    "  * Has a `count` method to count the number of values in the stack.\n",
    "* Instantiate an instance of `Stack` called `stack`.\n",
    "* Add `1`, `2`, and `3` to `stack`.\n",
    "* Remove an element from `stack`."
   ]
  },
  {
   "cell_type": "code",
   "execution_count": 15,
   "metadata": {},
   "outputs": [
    {
     "data": {
      "text/plain": [
       "3"
      ]
     },
     "execution_count": 15,
     "metadata": {},
     "output_type": "execute_result"
    }
   ],
   "source": [
    "class Stack():\n",
    "    \n",
    "    def __init__(self):\n",
    "        self.items = []\n",
    "        \n",
    "    def push(self, value):\n",
    "        self.items.insert(0, value)\n",
    "        \n",
    "    def pop(self):\n",
    "        return self.items.pop(0)\n",
    "        \n",
    "    def count(self):\n",
    "        return len(self.items)\n",
    "    \n",
    "stack = Stack()\n",
    "stack.push(1)\n",
    "stack.push(2)\n",
    "stack.push(3)\n",
    "stack.pop()\n",
    "    "
   ]
  },
  {
   "cell_type": "code",
   "execution_count": 16,
   "metadata": {},
   "outputs": [
    {
     "data": {
      "text/plain": [
       "[2, 1]"
      ]
     },
     "execution_count": 16,
     "metadata": {},
     "output_type": "execute_result"
    }
   ],
   "source": [
    "stack.items"
   ]
  },
  {
   "cell_type": "code",
   "execution_count": 17,
   "metadata": {},
   "outputs": [
    {
     "data": {
      "text/plain": [
       "2"
      ]
     },
     "execution_count": 17,
     "metadata": {},
     "output_type": "execute_result"
    }
   ],
   "source": [
    "stack.count()"
   ]
  },
  {
   "cell_type": "code",
   "execution_count": null,
   "metadata": {},
   "outputs": [],
   "source": []
  },
  {
   "cell_type": "markdown",
   "metadata": {},
   "source": [
    "## Time Spent in Stacks\n",
    "\n",
    "We can vary a few different parameters, which will change the average wait time with our stack:\n",
    "* How we compute wait time (should we compute it as a binary value -- either you wait a day or you don't?)\n",
    "* How quickly tasks are added to the stack\n",
    "* How quickly tasks on the stack are processed\n",
    "\n",
    "### If the capacity to process tasks is higher than the rate of tasks coming in, the wait time will always be the lowest possible amount. \n",
    "### If tasks are added more quickly than they can be processed, there's an advantage to using stacks, since some people get their licenses much more quickly. \n",
    "\n",
    "This should have been evident from the experimentation you did with sleep times a few screens ago.<br>\n",
    "\n",
    "Let's see how a stack would perform if we adjust how we define wait time. Let's say that applicants are happy to sit in the DMV lobby indefinitely. Let's compute wait time by assuming that each application takes `20` seconds to process. Thus, how long an application takes to process depends on how many applications were processed after it was added to the queue. The formula is `20 * application_count + 600`. We add 600 to represent the time it takes to print the licenses -- it's a constant number.<br>\n",
    "\n",
    "We can keep track of the number of applications processed before an application by using a counter. We can do this by:\n",
    "* Creating a list called `queue_time`.\n",
    "* Appending a `0` to `queue_time` whenever a task is placed onto the stack. The task number of the task minus one is equal to the index of the task in `queue_time`. If we want to look up how many tasks have been processed before a given task, we look up `queue_time[task_number - 1`].\n",
    "* When a task is processed, look up its corresponding entry in `queue_time` to get the number of applications processed before it.\n",
    "* When a task is processed, add `1` to every entry in `queue_time` to indicate the tasks that were processed before it.\n",
    "\n",
    "Here's a diagram:\n",
    "\n",
    "![stack-diagram](https://s3.amazonaws.com/dq-content/172/queue_times.svg)\n",
    "\n",
    "Note that we add `1` to every element in `queue_times` for convenience. This gives us accurate queue times at the time that we lookup the queue time for an index (for example, when we process `3`, the queue time is `0`, when we process `2`, the queue time is `1`, and when we process `1`, the queue time is `2`). We look up the queue time by using the task number minus `1` to index `queue_times`.<br>\n",
    "\n",
    "Note that only Python objects can be modified across threads, so we need to use the following code to increment all of the values in `queue_times`:\n",
    "\n",
    "```python\n",
    "for i in range(len(queue_times)):\n",
    "    queue_times[i] += 1\n",
    "```"
   ]
  },
  {
   "cell_type": "code",
   "execution_count": null,
   "metadata": {},
   "outputs": [],
   "source": []
  },
  {
   "cell_type": "markdown",
   "metadata": {},
   "source": [
    "* Create a list called `queue_times` -- we'll store the number of applications processed before each application in this.\n",
    "* Create a list called `wait_times`.\n",
    "* Either use your custom `Stack` class, or create a list called `stack`.\n",
    "* Modify `add_tasks`:\n",
    "  * Append `0` to `queue_times` every time a task is added to `stack`.\n",
    "* Modify `process_tasks`:\n",
    "  * Look up the queue time from the `queue_times` list.\n",
    "  * Calculate `wait_time` based on the queue time, and append to `wait_times`.\n",
    "  * Increment all of the values in `queue_times` using the code provided earlier.\n",
    "* Run both threads like you did in an earlier screen.\n",
    "* Compute the average wait time and assign to `average_wait_time`.\n",
    "* Inspect the value of `average_wait_time`. Is it what you expected? Does the number surprise you at all?\n",
    "* Experiment with changing the sleep times in `add_tasks` and `process_tasks`. What happens?\n",
    "* Plot a histogram of `wait_times` using [matplotlib](http://matplotlib.org/)."
   ]
  },
  {
   "cell_type": "code",
   "execution_count": 41,
   "metadata": {},
   "outputs": [],
   "source": [
    "queue_times, wait_times, stack = [], [], []"
   ]
  },
  {
   "cell_type": "code",
   "execution_count": 38,
   "metadata": {},
   "outputs": [
    {
     "name": "stdout",
     "output_type": "stream",
     "text": [
      "6253.65\n"
     ]
    }
   ],
   "source": [
    "def add_tasks(sleep_time):\n",
    "    for index, row in applications.iterrows():\n",
    "        stack.insert(0,(index + 1, row))\n",
    "        \n",
    "        queue_times.append(0)\n",
    "        \n",
    "        time.sleep(sleep_time)\n",
    "\n",
    "\n",
    "def process_tasks(sleep_time):\n",
    "    tasks_finished = 0\n",
    "    while tasks_finished < 2400:\n",
    "        if len(stack) == 0:\n",
    "            time.sleep(sleep_time)\n",
    "        else:\n",
    "            task_number, application = stack.pop(0)\n",
    "            resp = process_application(application)\n",
    "            tasks_finished += 1\n",
    "            \n",
    "            wait_time = queue_times[task_number - 1] * 20 + 600\n",
    "            wait_times.append(wait_time)\n",
    "            \n",
    "            for i in range(len(queue_times)):\n",
    "                queue_times[i] += 1\n",
    "\n",
    "                \n",
    "t1 = threading.Thread(target=add_tasks, args=(.001,))\n",
    "t2 = threading.Thread(target=process_tasks, args=(1,))\n",
    "\n",
    "t1.start()\n",
    "t2.start()\n",
    "for t in [t1,t2]:\n",
    "    t.join()\n",
    "\n",
    "average_wait_time = sum(wait_times) / 2400\n",
    "print(average_wait_time)"
   ]
  },
  {
   "cell_type": "code",
   "execution_count": null,
   "metadata": {},
   "outputs": [],
   "source": []
  },
  {
   "cell_type": "code",
   "execution_count": 42,
   "metadata": {},
   "outputs": [],
   "source": [
    "# experiment with different sleep times\n",
    "# update the function for testing\n",
    "\n",
    "def test_and_get_avg_time(add_task_wait_time,\n",
    "                         process_tasks_wait_time):\n",
    "    \n",
    "    t1 = threading.Thread(target=add_tasks,\n",
    "                         args=(add_task_wait_time,))\n",
    "    t2 = threading.Thread(target=process_tasks,\n",
    "                         args=(process_tasks_wait_time,))\n",
    "\n",
    "    t1.start();t2.start();t1.join();t2.join()\n",
    "\n",
    "    average_wait_time = sum(wait_times) / len(applications)\n",
    "    print('add_task wait time: {}\\nprocess_tasks wait time: {}'.\\\n",
    "              format(add_task_wait_time,\n",
    "                    process_tasks_wait_time))\n",
    "    print('AVG time: {}'.format(average_wait_time))\n",
    "    \n",
    "    return wait_times"
   ]
  },
  {
   "cell_type": "code",
   "execution_count": 43,
   "metadata": {
    "scrolled": false
   },
   "outputs": [
    {
     "name": "stdout",
     "output_type": "stream",
     "text": [
      "add_task wait time: 0.001\n",
      "process_tasks wait time: 10\n",
      "AVG time: 24570.008333333335\n",
      "add_task wait time: 0.001\n",
      "process_tasks wait time: 1\n",
      "AVG time: 6178.95\n",
      "add_task wait time: 0.001\n",
      "process_tasks wait time: 0.1\n",
      "AVG time: 1201.0416666666667\n",
      "add_task wait time: 0.001\n",
      "process_tasks wait time: 0.01\n",
      "AVG time: 661.2083333333334\n"
     ]
    }
   ],
   "source": [
    "test_times = [(.001, 10),\n",
    "             (.001, 1),\n",
    "             (.001, .1),\n",
    "             (.001, .01)]\n",
    "\n",
    "avg_wait_times = []\n",
    "\n",
    "for tt in test_times:\n",
    "    queue_times, wait_times, stack = [], [], []\n",
    "    avg_wait_times.append(test_and_get_avg_time(tt[0], tt[1]))\n"
   ]
  },
  {
   "cell_type": "code",
   "execution_count": 44,
   "metadata": {},
   "outputs": [
    {
     "data": {
      "image/png": "[encoded data removed]",
      "text/plain": [
       "<matplotlib.figure.Figure at 0x10fd72278>"
      ]
     },
     "metadata": {},
     "output_type": "display_data"
    }
   ],
   "source": [
    "fig = plt.figure()\n",
    "\n",
    "ax1 = fig.add_subplot(221)\n",
    "ax1.hist(avg_wait_times[0])\n",
    "\n",
    "ax2 = fig.add_subplot(222)\n",
    "ax2.hist(avg_wait_times[1])\n",
    "\n",
    "ax3 = fig.add_subplot(223)\n",
    "ax3.hist(avg_wait_times[2])\n",
    "\n",
    "ax4 = fig.add_subplot(224)\n",
    "ax4.hist(avg_wait_times[3])\n",
    "\n",
    "plt.tight_layout()\n",
    "fig = plt.gcf()\n",
    "plt.show()"
   ]
  },
  {
   "cell_type": "code",
   "execution_count": null,
   "metadata": {},
   "outputs": [],
   "source": []
  },
  {
   "cell_type": "markdown",
   "metadata": {},
   "source": [
    "## Waiting Time With Queues\n",
    "\n",
    "In the last screen, **you saw how we reduced wait time by having people wait around until their licenses were processed**. The histogram of the wait times should have looked something like this:\n",
    "\n",
    "![histogram-wait-times](https://s3.amazonaws.com/dq-content/172/wait_time_hist.png)\n",
    "\n",
    "As you can see above, the majority of people waited for less than `5000` seconds, or about `1.5` hours. However, a few people kept getting their applications pushed to the back of the stack, and thus had to wait for `10` hours or more. If the priority was to get the majority of people their licenses as quickly as possible, using a stack was a success. **However, we should see if we can make the experience better for everyone, and reduce the maximum wait time to less than `10` hours**.<br>\n",
    "\n",
    "One way to do this might be to prioritize tasks using a queue instead of a stack. We discussed queues in the first screen of the mission -- a queue is a first in first out system, where the tasks who arrived first get processed first:\n",
    "\n",
    "![using-queues](https://s3.amazonaws.com/dq-content/172/queue_operations_1.svg)\n",
    "\n",
    "As you can see, a queue is similar to a traditional line, where things are processed in the order they arrived. Similarly to a stack, we can also simulate a queue using a Python list. We'll start with a list that contains elements `1` and `2`:\n",
    "\n",
    "```python\n",
    ">> queue = [1,2]\n",
    ">> queue\n",
    "[1, 2]\n",
    "```\n",
    "\n",
    "We then add element `3` to the bottom of the queue:\n",
    "\n",
    "```python\n",
    ">>> queue.append(3)\n",
    ">>> queue\n",
    "[1,2,3]\n",
    "```\n",
    "\n",
    "We then add `4` to the bottom of the queue:\n",
    "\n",
    "```python\n",
    ">>> queue.append(4)\n",
    ">>> queue\n",
    "[1,2,3,4]\n",
    "```\n",
    "\n",
    "We can then remove the top element of the queue:\n",
    "```python\n",
    ">> queue.pop(0)\n",
    "1\n",
    ">> queue\n",
    "[2,3,4]\n",
    "```\n",
    "\n",
    "The only difference between implementing a stack using a list and implementing a queue using a list is that we use `append` to add new elements to the bottom of the queue. It should be apparent that this is **a more \"fair\" system** -- all tasks get the same priority, and none of them jump the line to get processed early.<br>\n",
    "\n",
    "The queue corresponds to our first strategy for prioritizing tasks in the DMV application backlog. Let's measure wait time with the queue, assuming that we tell everyone to come back the next day. To keep things simple, let's say that `300` applications are added to the queue every hour, and that applications start coming in at `9am`. Thus, the first `300` applications (from `1` to `300`) would have to wait `23` hours (from `10am` to `9am` the bext day). Applications throughout the day would have to wait: \n",
    "* `301-600` -- `22` hours.\n",
    "* `601-900` -- `21` hours. \n",
    "* `901-1200` -- `20` hours. \n",
    "* `1201-1500` -- `19` hours. \n",
    "* `1501-1800` -- `18` hours. \n",
    "* `1801-2100` -- `17` hours. \n",
    "* `2101-2400` -- `16` hours.\n",
    "\n",
    "**The main difference here is that the stack enabled us to get some people's licenses processed immediately**. Thus, we'd expect that the average wait time with just the queue is longer, since we make everyone come back later."
   ]
  },
  {
   "cell_type": "code",
   "execution_count": null,
   "metadata": {},
   "outputs": [],
   "source": []
  },
  {
   "cell_type": "markdown",
   "metadata": {},
   "source": [
    "* Create a list called `wait_times` to store the wait times.\n",
    "* Create a list called `queue` to store the tasks.\n",
    "* Create a function, `add_tasks`, to add tasks to the queue. The function should loop through `applications`, and:\n",
    "  * Individually add rows to `queue`, along with the task numbers. The task number is the pandas row index with `1` added to it. (the row index starts at `0`, but task numbers start at 1, so we need to add `1`)\n",
    "  * Sleep for `.001` seconds.\n",
    "* Create a function, `process_tasks`, to process tasks. The function should:\n",
    "  * Check if queue is empty. If it is, wait for a second.\n",
    "  * If queue is not empty, process the task using `process_application`.\n",
    "  * Compute the wait time for this task, and append to `wait_times`.\n",
    "* Start two threads, one for each function, and wait until they finish executing.\n",
    "* Find the average wait time, in seconds, and assign to `average_wait_time`.\n",
    "* Inspect `wait_times` to see how the wait time changed as more tasks were processed.\n",
    "* Try varying the sleep times in the `process_application` and `add_tasks` functions. Does this change the average wait time? Why do you think this is happening?"
   ]
  },
  {
   "cell_type": "code",
   "execution_count": 49,
   "metadata": {},
   "outputs": [],
   "source": [
    "wait_times, queue = [], []"
   ]
  },
  {
   "cell_type": "code",
   "execution_count": 50,
   "metadata": {
    "scrolled": true
   },
   "outputs": [
    {
     "name": "stdout",
     "output_type": "stream",
     "text": [
      "70200.0\n"
     ]
    }
   ],
   "source": [
    "def add_tasks():\n",
    "    \n",
    "    for i, task in applications.iterrows():\n",
    "        queue.append((i+1, task))\n",
    "        time.sleep(.001)\n",
    "        \n",
    "def process_tasks():\n",
    "    \n",
    "    tasks_finished = 0\n",
    "    \n",
    "    while tasks_finished < 2400:\n",
    "        \n",
    "        # if queue is empty\n",
    "        if len(queue) == 0:\n",
    "            time.sleep(1)\n",
    "\n",
    "        # else\n",
    "        else:\n",
    "            task_number, application = queue.pop(0)\n",
    "            resp = process_application(application)\n",
    "            tasks_finished += 1\n",
    "\n",
    "            wait_time = (24 - math.ceil(task_number / 300))*3600\n",
    "            wait_times.append(wait_time)\n",
    "            \n",
    "t1 = threading.Thread(target=add_tasks)\n",
    "t2 = threading.Thread(target=process_tasks)\n",
    "\n",
    "t1.start();t2.start();t1.join();t2.join()\n",
    "average_wait_time = sum(wait_times) / 2400\n",
    "print(average_wait_time)"
   ]
  },
  {
   "cell_type": "code",
   "execution_count": 51,
   "metadata": {
    "scrolled": true
   },
   "outputs": [
    {
     "data": {
      "image/png": "[encoded data removed]",
      "text/plain": [
       "<matplotlib.figure.Figure at 0x10f1999b0>"
      ]
     },
     "metadata": {},
     "output_type": "display_data"
    }
   ],
   "source": [
    "plt.hist(wait_times);plt.show()"
   ]
  },
  {
   "cell_type": "code",
   "execution_count": null,
   "metadata": {},
   "outputs": [],
   "source": []
  },
  {
   "cell_type": "markdown",
   "metadata": {},
   "source": [
    "## Implementing a Queue\n",
    "\n",
    "As you saw earlier, \n",
    "\n",
    "### the average wait time is higher with a queue than with a stack. \n",
    "\n",
    "This is to be expected, given our scenario where the waiting time extends all the way to the next morning. However, many tasks just need to be processed in order, and don't have a condition that means you need to either return a result very quickly or very slowly. We'll explore the histogram of waiting times with queues more in the next screen.<br>\n",
    "\n",
    "You should have also noticed that the wait times for queues go up as more tasks are added. The values towards the end of `wait_times` are much higher than the values towards the beginning. This reflects the fact that the length of the queue is increasing, so each additional task has to wait for more tasks to be processed before it can be run. A stack doesn't have this issue, since each new task is added to the top, and doesn't have to wait for the whole stack to be processed first.<br>\n",
    "\n",
    "For now, let's work on implementing our own queue to improve our understanding. Similarly to implementing a stack, The easiest way to implement a queue is to create a custom class. The class needs two methods at the minimum:"
   ]
  },
  {
   "cell_type": "code",
   "execution_count": null,
   "metadata": {},
   "outputs": [],
   "source": [
    "class Queue():\n",
    "    def __init__(self):\n",
    "        \n",
    "        self.items = []\n",
    "        \n",
    "    def push(self, value):\n",
    "        self.items.append(value)\n",
    "        \n",
    "    def pop(self):\n",
    "        return self.items.pop(0)\n",
    "    \n",
    "    def count(self):\n",
    "        return len(self.items)\n",
    "    \n",
    "    \n",
    "queue = Queue()\n",
    "queue.push(1)\n",
    "queue.push(2)\n",
    "queue.push(3)\n",
    "\n",
    "queue.pop()"
   ]
  },
  {
   "cell_type": "code",
   "execution_count": null,
   "metadata": {},
   "outputs": [],
   "source": []
  },
  {
   "cell_type": "markdown",
   "metadata": {},
   "source": [
    "## Time Spent in Queues\n",
    "\n",
    "When we were experimenting with stacks, we adjusted how we defined waiting time. This allowed us to base waiting time on the number of tasks executed before a given task. This gives us a more real-world look at how long tasks would take to execute than our specific DMV scenario of having people come back the next day.<br>\n",
    "\n",
    "As you may recall, we used the formula `20 * applications_processed_while_waiting + 600` to compute the waiting time for a given application. We can keep track of the number of applications processed before an application by using a counter. We can do this by:\n",
    "* Creating a list called `queue_time`.\n",
    "* Appending a `0` to `queue_time` whenever a task is placed onto the queue. The task number of the task minus one is equal to the index of the task in `queue_time`. If we want to look up how many tasks have been processed before a given task, we look up `queue_time[task_number - 1]`.\n",
    "* When a task is processed, look up its corresponding entry in `queue_time` to get the number of applications processed before it.\n",
    "* When a task is processed, add `1` to every entry in `queue_time` to indicate the tasks that were processed before it."
   ]
  },
  {
   "cell_type": "code",
   "execution_count": 58,
   "metadata": {},
   "outputs": [
    {
     "name": "stdout",
     "output_type": "stream",
     "text": [
      "6195.925\n"
     ]
    }
   ],
   "source": [
    "queue, queue_times, wait_times = [], [], []\n",
    "\n",
    "def add_tasks(sleep_time):\n",
    "    for index, row in applications.iterrows():\n",
    "        queue.append((index + 1, row))\n",
    "        queue_times.append(0)\n",
    "        time.sleep(sleep_time)\n",
    "\n",
    "def process_tasks(sleep_time):\n",
    "    tasks_finished = 0\n",
    "    while tasks_finished < 2400:\n",
    "        if len(queue) == 0:\n",
    "            time.sleep(sleep_time)\n",
    "        else:\n",
    "            task_number, application = queue.pop(0)\n",
    "            resp = process_application(application)\n",
    "            tasks_finished += 1\n",
    "            \n",
    "            wait_times.append(queue_times[task_number - 1]*20+600)\n",
    "            \n",
    "            for i in range(len(queue_times)):\n",
    "                queue_times[i] += 1\n",
    "            \n",
    "t1 = threading.Thread(target=add_tasks, args=(.001,))\n",
    "t2 = threading.Thread(target=process_tasks, args=(1,))\n",
    "\n",
    "t1.start()\n",
    "t2.start()\n",
    "for t in [t1,t2]:\n",
    "    t.join()\n",
    "\n",
    "average_wait_time = sum(wait_times) / 2400\n",
    "print(average_wait_time)"
   ]
  },
  {
   "cell_type": "code",
   "execution_count": 60,
   "metadata": {},
   "outputs": [
    {
     "data": {
      "image/png": "[encoded data removed]",
      "text/plain": [
       "<matplotlib.figure.Figure at 0x110c1a320>"
      ]
     },
     "metadata": {},
     "output_type": "display_data"
    }
   ],
   "source": [
    "plt.hist(wait_times); plt.show()"
   ]
  },
  {
   "cell_type": "code",
   "execution_count": null,
   "metadata": {},
   "outputs": [],
   "source": []
  },
  {
   "cell_type": "code",
   "execution_count": 56,
   "metadata": {},
   "outputs": [
    {
     "name": "stdout",
     "output_type": "stream",
     "text": [
      "add_task wait time: 0.001\n",
      "process_tasks wait time: 10\n",
      "AVG time: 24570.008333333335\n",
      "add_task wait time: 0.001\n",
      "process_tasks wait time: 1\n",
      "AVG time: 6189.283333333334\n",
      "add_task wait time: 0.001\n",
      "process_tasks wait time: 0.1\n",
      "AVG time: 1201.525\n",
      "add_task wait time: 0.001\n",
      "process_tasks wait time: 0.01\n",
      "AVG time: 659.9416666666667\n"
     ]
    }
   ],
   "source": [
    "test_times = [(.001, 10),\n",
    "             (.001, 1),\n",
    "             (.001, .1),\n",
    "             (.001, .01)]\n",
    "\n",
    "avg_wait_times = []\n",
    "\n",
    "for tt in test_times:\n",
    "    queue, queue_times, wait_times = [], [], []\n",
    "    avg_wait_times.append(test_and_get_avg_time(tt[0], tt[1]))\n"
   ]
  },
  {
   "cell_type": "code",
   "execution_count": 57,
   "metadata": {},
   "outputs": [
    {
     "data": {
      "image/png": "[encoded data removed]",
      "text/plain": [
       "<matplotlib.figure.Figure at 0x10fcdfeb8>"
      ]
     },
     "metadata": {},
     "output_type": "display_data"
    }
   ],
   "source": [
    "fig = plt.figure()\n",
    "\n",
    "ax1 = fig.add_subplot(221)\n",
    "ax1.hist(avg_wait_times[0])\n",
    "\n",
    "ax2 = fig.add_subplot(222)\n",
    "ax2.hist(avg_wait_times[1])\n",
    "\n",
    "ax3 = fig.add_subplot(223)\n",
    "ax3.hist(avg_wait_times[2])\n",
    "\n",
    "ax4 = fig.add_subplot(224)\n",
    "ax4.hist(avg_wait_times[3])\n",
    "\n",
    "plt.tight_layout()\n",
    "fig = plt.gcf()\n",
    "plt.show()"
   ]
  },
  {
   "cell_type": "code",
   "execution_count": null,
   "metadata": {},
   "outputs": [],
   "source": []
  },
  {
   "cell_type": "markdown",
   "metadata": {},
   "source": [
    "## Profiling Stacks As Elements Are Added\n",
    "\n",
    "The average wait time using a queue wasn't extremely different from the average wait time when using a stack. However, the histogram of the queue times did look very different. Here's the histogram of wait times for the queue:\n",
    "\n",
    "![hist-waits-queue](https://s3.amazonaws.com/dq-content/172/queue_wait_time_hist.png)\n",
    "\n",
    "And here's the histogram of wait times using the stack:\n",
    "\n",
    "![hist-waits-stack](https://s3.amazonaws.com/dq-content/172/wait_time_hist.png)\n",
    "\n",
    "As you can tell from the above histograms, **queues have a much lower maximum wait time than stacks used in the same scenario**. As you may be able to tell from the histograms, queues:\n",
    "* Are generally **best when you want all tasks processed at about the same pace**\n",
    "* Have a fairly **low maximum wait time** for processing tasks\n",
    "\n",
    "And stacks:\n",
    "* Are generally **best when you want tasks processed very quickly if possible, but are okay waiting around for a while if not**.\n",
    "* Have a fairly **high maximum wait time**.\n",
    "\n",
    "What we haven't looked into as much so far is waiting time by position in the list of tasks. For example, is it better to be the `2200th` task added to a stack or to a queue? Which one will be processed first? We can answer this question by storing wait time by task number, then making a bar plot of how long it took to process each task number, in order.<br>\n",
    "\n",
    "We can do this by initializing `wait_times` to have one element for each row in `applications`. Then, we can just store the wait time for a particular task at the position in `wait_times` whose index equals the task number minus one. This will give us a list, in order of when each application arrived, of how long each application took to process.<br>\n",
    "\n",
    "We'll start by profiling a stack, then compare to a queue."
   ]
  },
  {
   "cell_type": "markdown",
   "metadata": {},
   "source": [
    "* Create a list called `wait_times`, with `2400` elements.\n",
    "* Modify `process_tasks`:\n",
    "  * Compute wait time based on the `20 * applications_processed_before + 600` formula.\n",
    "  * Assign the wait time to the index corresponding to `task_number - 1` in wait_times.\n",
    "* Run both threads like you did in an earlier screen.\n",
    "* Plot a bar chart of `wait_times` using matplotlib.\n",
    "  * The x-axis should be the task number.\n",
    "* What can you tell about the wait times as the stack grows larger from the bar chart? Why do you think the pattern looks the way it does?"
   ]
  },
  {
   "cell_type": "code",
   "execution_count": 64,
   "metadata": {},
   "outputs": [],
   "source": [
    "queue_times = []\n",
    "wait_times = [0] * 2400\n",
    "stack = []\n",
    "\n",
    "def add_tasks():\n",
    "    for index, row in applications.iterrows():\n",
    "        stack.insert(0,(index + 1, row))\n",
    "        queue_times.append(0)\n",
    "        time.sleep(.001)\n",
    "        \n",
    "def process_tasks():\n",
    "    tasks_finished = 0\n",
    "    while tasks_finished < 2400:\n",
    "        if len(stack) == 0:\n",
    "            time.sleep(1)\n",
    "        else:\n",
    "            task_number, application = stack.pop(0)\n",
    "            resp = process_application(application)\n",
    "            tasks_finished += 1\n",
    "            \n",
    "            wait_time = queue_times[task_number - 1]*20+600\n",
    "            wait_times[task_number - 1] = wait_time\n",
    "            \n",
    "            for i in range(len(queue_times)):\n",
    "                queue_times[i] += 1\n",
    "                \n",
    "t1 = threading.Thread(target=add_tasks)\n",
    "t2 = threading.Thread(target=process_tasks)\n",
    "\n",
    "t1.start()\n",
    "t2.start()\n",
    "for t in [t1,t2]:\n",
    "    t.join()\n"
   ]
  },
  {
   "cell_type": "code",
   "execution_count": 69,
   "metadata": {
    "scrolled": true
   },
   "outputs": [
    {
     "data": {
      "image/png": "[encoded data removed]",
      "text/plain": [
       "<matplotlib.figure.Figure at 0x10fcb80f0>"
      ]
     },
     "metadata": {},
     "output_type": "display_data"
    }
   ],
   "source": [
    "x = range(1, 2401)\n",
    "plt.bar(x, wait_times);plt.show()"
   ]
  },
  {
   "cell_type": "code",
   "execution_count": null,
   "metadata": {},
   "outputs": [],
   "source": []
  },
  {
   "cell_type": "markdown",
   "metadata": {},
   "source": [
    "## Profiling Queues As Elements Are Added\n",
    "\n",
    "As you should have seen in the last screen, the bar chart of time taken vs. position for a stack looks like this:\n",
    "\n",
    "![barchart-vs-position-stack](https://s3.amazonaws.com/dq-content/172/stack_over_time.png)\n",
    "\n",
    "The earlier elements kept getting pushed down the stack, and were only processed towards the end, so they had a much longer wait time. Tasks that came into the stack later were processed earlier, so had a much lower wait time. Many tasks were completed immediately, so had very little wait time. **From the bar chart, we can see that tasks are either processed immediately, or have to wait until everything ahead of them is processed**.<br>\n",
    "\n",
    "Now that we know how each task that is added to the stack is processed, let's do the same thing for queues."
   ]
  },
  {
   "cell_type": "markdown",
   "metadata": {},
   "source": [
    "* Create a list called `wait_times`, with `2400` elements.\n",
    "* Modify `process_tasks`:\n",
    "  * Compute wait time based on the `20 * applications_processed_before + 600` formula.\n",
    "  * Assign the wait time to the index corresponding to `task_number - 1` in `wait_times`.\n",
    "* Run both threads like you did in an earlier screen.\n",
    "* Plot a bar chart of `wait_times` using matplotlib.\n",
    "  * The x-axis should be the task number.\n",
    "* What can you tell about the wait times as the queue grows larger from the bar chart? Why do you think the pattern looks the way it does?"
   ]
  },
  {
   "cell_type": "code",
   "execution_count": 72,
   "metadata": {},
   "outputs": [
    {
     "data": {
      "image/png": "[encoded data removed]",
      "text/plain": [
       "<matplotlib.figure.Figure at 0x1118d4c88>"
      ]
     },
     "metadata": {},
     "output_type": "display_data"
    }
   ],
   "source": [
    "queue_times = []\n",
    "wait_times = [0] * 2400\n",
    "queue = []\n",
    "\n",
    "def add_tasks():\n",
    "    for index, row in applications.iterrows():\n",
    "        queue.append((index + 1, row))\n",
    "        queue_times.append(0)\n",
    "        time.sleep(.001)\n",
    "\n",
    "def process_tasks():\n",
    "    tasks_finished = 0\n",
    "    while tasks_finished < 2400:\n",
    "        if len(queue) == 0:\n",
    "            time.sleep(1)\n",
    "        else:\n",
    "            task_number, application = queue.pop(0)\n",
    "            resp = process_application(application)\n",
    "            tasks_finished += 1\n",
    "            \n",
    "            wait_times[task_number - 1] = 20*queue_times[task_number - 1]+600\n",
    "            \n",
    "            for i in range(len(queue_times)):\n",
    "                queue_times[i] += 1\n",
    "\n",
    "t1 = threading.Thread(target=add_tasks)\n",
    "t2 = threading.Thread(target=process_tasks)\n",
    "\n",
    "t1.start()\n",
    "t2.start()\n",
    "for t in [t1,t2]:\n",
    "    t.join()\n",
    "    \n",
    "plt.bar(range(2400), wait_times);plt.show()"
   ]
  },
  {
   "cell_type": "code",
   "execution_count": null,
   "metadata": {},
   "outputs": [],
   "source": []
  },
  {
   "cell_type": "markdown",
   "metadata": {},
   "source": [
    "## Queues vs. Stacks\n",
    "\n",
    "The bar chart for a queue in the last screen should have looked something like this:\n",
    "\n",
    "![barchart-queue](https://s3.amazonaws.com/dq-content/172/queue_over_time.png)\n",
    "\n",
    "This compares to the stack bar chart, which looked like this:\n",
    "\n",
    "![barchart-stack](https://s3.amazonaws.com/dq-content/172/stack_over_time.png)\n",
    "\n",
    "From these charts, we can make some conclusions about stacks and queues as we add more elements. For stacks:\n",
    "* Items added to a stack towards the end are processed much faster than items added towards the beginning.\n",
    "* Some stack tasks are finished almost immediately after they're added.\n",
    "* The worst-case queue time in a stack is equivalent to waiting for every single task to be processed first.\n",
    "\n",
    "On the other hand, for queues:\n",
    "* Items added to a queue towards the end are processed more slowly than items added earlier (this depends strongly on the throughput of the task processor).\n",
    "* Only the first item added to a queue is processed instantly (given that tasks are added faster than they can be processed).\n",
    "* The worst-case queue time for a queue depends on the throughput of the task processor.\n",
    "\n",
    "We can make **some generalizations** about stacks and queues for prioritizing tasks based on what we've learned:\n",
    "* **Stacks are better for tasks where immediacy matters, but if older messages are delivered slowly, it doesn't matter**. One example is a **social network like Twitter** -- new tweets matter much more than older tweets, and showing them should be prioritized. Thus you'd want to process and show newer tweets faster if your system was overloaded, but could afford to ignore older ones for a while.\n",
    "* **Queues are better for tasks where consistency matters**. An example is ordering delivery with a tool like [Seamless](https://www.seamless.com/). Seamless can't just ignore older orders, so they need to process everything with a queue to **ensure fairness**.\n",
    "\n",
    "In the DMV example, a stack seems like a better choice for processing tasks, because of the use case -- we want some people to be able to immediately get their license, but everyone else has to wait until the next day. In general, deciding to use a stack or a queue to prioritize tasks strongly depends on the task itself. It's advisable to figure out the peformance characteristics of all the components, and the desired characteristics of the prioritization, before deciding whether to use a stack or a queue.<br>\n",
    "\n",
    "In the next mission, we'll cover arrays and lists in more depth, and discuss how knowing which data structure you're using can dramatically speed up your analysis."
   ]
  },
  {
   "cell_type": "code",
   "execution_count": null,
   "metadata": {},
   "outputs": [],
   "source": []
  }
 ],
 "metadata": {
  "kernelspec": {
   "display_name": "Python 3",
   "language": "python",
   "name": "python3"
  },
  "language_info": {
   "codemirror_mode": {
    "name": "ipython",
    "version": 3
   },
   "file_extension": ".py",
   "mimetype": "text/x-python",
   "name": "python",
   "nbconvert_exporter": "python",
   "pygments_lexer": "ipython3",
   "version": "3.6.2"
  }
 },
 "nbformat": 4,
 "nbformat_minor": 2
}
