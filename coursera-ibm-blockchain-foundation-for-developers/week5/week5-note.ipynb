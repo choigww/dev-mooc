{
 "cells": [
  {
   "cell_type": "markdown",
   "metadata": {},
   "source": [
    "# [IBM Blockchain Foundation for Developers by Coursera](https://www.coursera.org/learn/ibm-blockchain-essentials-for-developers/home/welcome)\n",
    "\n",
    "### Week 5\n",
    "\n",
    "Learning Objectives\n",
    "* The actors and their roles in a blockchain solution\n",
    "* The components in a blockchain solution, such as a ledger, smart contract, peer network, and credential wallet\n",
    "* Specific considerations for three main roles: application developer, architect, and network operator\n",
    "* How to create your first blockchain application\n",
    "* The key roles and responsibilities of the blockchain administrator, or operator\n",
    "* The differences between public and private blockchains\n",
    "* The key roles and responsibilities of the blockchain architect\n",
    "* The process of network consensus\n",
    "* How to build and work with a sample network fabric"
   ]
  },
  {
   "cell_type": "code",
   "execution_count": null,
   "metadata": {},
   "outputs": [],
   "source": []
  },
  {
   "cell_type": "markdown",
   "metadata": {},
   "source": [
    "## Participants and components Overview\n",
    "\n",
    "\n",
    "* [Video](https://d3c33hcgiwev3.cloudfront.net/4PT-Bsl4EeehAQ5qKDSCag.processed/full/540p/index.mp4?Expires=1516838400&Signature=AVK8-zz-OMnl86y8uFQGiUrTIz9ARk9dQ4DCwkUY8hKlpgyZ1H~Ql7MQXku0zXZDaq0O~LljmE5Pf8unbv5xExOmN42XRmwoxGp~9oRS-tYGYhPeUumxEr~Nb0vqMVatF2wTTkX8w0kzTEsEX8qr~pmNmDlX18HPCOYhlKppeko_&Key-Pair-Id=APKAJLTNE6QMUY6HBC5A)\n",
    "\n",
    "![participants-and-components-overview](img/participants-and-components-overview.png)\n",
    "\n",
    "![components-in-blockchain](img/components-in-blockchain.png)\n",
    "\n",
    "![components-in-blockchain-2](img/components-in-blockchain-2.png)"
   ]
  },
  {
   "cell_type": "code",
   "execution_count": null,
   "metadata": {},
   "outputs": [],
   "source": []
  },
  {
   "cell_type": "markdown",
   "metadata": {},
   "source": [
    "## Considerations for a blockchain developer\n",
    "\n",
    "* [Video](https://d3c33hcgiwev3.cloudfront.net/88BE88l1EeennA48Ffy7uA.processed/full/540p/index.mp4?Expires=1516838400&Signature=Of0CCHLphDRAqYpfnW13WALyCKZQSFLay4pAz18OR4JrZtek4M2b0z0J0-gtvLs5uU4GHqbGTfeMHJB32bEh9zclxdKSBt5DogikAqKW2BNat2tNpbNouHMInVQwR~V8DzHXGjkQbRTxV-tE1gxUlki4B86-bTnDrQnjM1bIHU4_&Key-Pair-Id=APKAJLTNE6QMUY6HBC5A)\n",
    "\n",
    "![blockchain-dev](img/blockchain-developer.png)\n",
    "![how-the-blockchain-developer-interacts-with-the-ledger](img/how-the-blockchain-developer-interacts-with-the-ledger.png)\n",
    "![the-ledger-example](img/the-ledger-example.png)\n",
    "![integrating-with-existing-systems](img/integrating-with-existing-systems.png)"
   ]
  },
  {
   "cell_type": "code",
   "execution_count": null,
   "metadata": {},
   "outputs": [],
   "source": []
  },
  {
   "cell_type": "markdown",
   "metadata": {},
   "source": [
    "## Lab 3\n",
    "### Write your First blockchain application\n",
    "\n",
    "In this lab, you'll use command-line tools to build a simple application in JavaScript that queries and updates a prepopulated blockchain network ledger. Your application will use APIs to invoke smart contracts, or chaincode. You'll use the Hyperledger Fabric Node SDK to access the APIs.<br>\n",
    "\n",
    "You'll work with networks in more detail in the next lab.<br>\n",
    "\n",
    "Notice for \"Writing Your First Application\" Module: Copyright Hyperledger 2017. Revision b33fb974. Licensed under Creative Commons Attribution 4.0 International License https://creativecommons.org/licenses/by/4.0/legalcode. \n",
    "* Module available at http://hyperledger-fabric.readthedocs.io/en/latest/write_first_app.html.\n",
    "\n",
    "### [Start the lab!](http://hyperledger-fabric.readthedocs.io/en/latest/write_first_app.html)\n",
    "<br><br>"
   ]
  },
  {
   "cell_type": "code",
   "execution_count": null,
   "metadata": {},
   "outputs": [],
   "source": []
  },
  {
   "cell_type": "code",
   "execution_count": null,
   "metadata": {},
   "outputs": [],
   "source": []
  },
  {
   "cell_type": "code",
   "execution_count": null,
   "metadata": {},
   "outputs": [],
   "source": []
  },
  {
   "cell_type": "code",
   "execution_count": null,
   "metadata": {},
   "outputs": [],
   "source": []
  },
  {
   "cell_type": "code",
   "execution_count": null,
   "metadata": {},
   "outputs": [],
   "source": []
  },
  {
   "cell_type": "code",
   "execution_count": null,
   "metadata": {},
   "outputs": [],
   "source": []
  }
 ],
 "metadata": {
  "kernelspec": {
   "display_name": "Python 3",
   "language": "python",
   "name": "python3"
  },
  "language_info": {
   "codemirror_mode": {
    "name": "ipython",
    "version": 3
   },
   "file_extension": ".py",
   "mimetype": "text/x-python",
   "name": "python",
   "nbconvert_exporter": "python",
   "pygments_lexer": "ipython3",
   "version": "3.6.2"
  }
 },
 "nbformat": 4,
 "nbformat_minor": 2
}
