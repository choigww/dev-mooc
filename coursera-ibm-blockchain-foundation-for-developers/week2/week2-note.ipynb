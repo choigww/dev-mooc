{
 "cells": [
  {
   "cell_type": "markdown",
   "metadata": {},
   "source": [
    "# [IBM Blockchain Foundation for Developers by Coursera](https://www.coursera.org/learn/ibm-blockchain-essentials-for-developers/home/welcome)\n",
    "\n",
    "### Week 2\n",
    "Learning Objectives\n",
    "\n",
    "* The benefits of using blockchain for a business network\n",
    "* Use cases for blockchain in business: financial services, supply chains, auditing and record keeping, and letters of credit\n",
    "* Best practices for getting started with blockchain and applying it to your business network"
   ]
  },
  {
   "cell_type": "code",
   "execution_count": null,
   "metadata": {},
   "outputs": [],
   "source": []
  },
  {
   "cell_type": "markdown",
   "metadata": {},
   "source": [
    "## Apply blockchain to business\n",
    "\n",
    "Blockchain for business has several advantages:\n",
    "\n",
    "* Saves time\n",
    "* Reduces cost\n",
    "* Reduces risk\n",
    "* Increases trust\n",
    "\n",
    "For example, for financial services network, a business network that runs on a blockchain can speed up transaction processes and audits. That in turn reduces costs and can lead to greater customer satisfaction. A business that runs a supply chain network can benefit from blockchain by reducing errors in shipments, have better tracking or materials, and reduce the risk of illicit tampering of records."
   ]
  },
  {
   "cell_type": "code",
   "execution_count": null,
   "metadata": {},
   "outputs": [],
   "source": []
  },
  {
   "cell_type": "markdown",
   "metadata": {},
   "source": [
    "## Why blockchain is relevant for business\n",
    "\n",
    "* [video](https://d3c33hcgiwev3.cloudfront.net/THvUpsWHEee_0hLbBRivGA.processed/full/540p/index.mp4?Expires=1515888000&Signature=EI7wiXBvmhfeEFCJ2aGPS5rRcEl8iZmBLrOvGNoy1c~2732MYsywy~zJ52iBnULiHnduTeRIRahiRChtYNuzAjbdQWyN2oxZjIXewuwxJN1MpU~5~jBBwQtAe~34s-zp~SLylxnZriQ9vc4Gr1PY1T2AP9s41j9cV1vjA1EQBYU_&Key-Pair-Id=APKAJLTNE6QMUY6HBC5A)\n",
    "\n",
    "#### Checkpoint\n",
    "A traditional, or nonblockchain, network is more vulnerable to tampering. What main component of a blockchain network reduces this risk?\n",
    "* Distributed ledgers"
   ]
  },
  {
   "cell_type": "code",
   "execution_count": null,
   "metadata": {},
   "outputs": [],
   "source": []
  },
  {
   "cell_type": "markdown",
   "metadata": {},
   "source": [
    "## Consensus: Shared reference data example\n",
    "\n",
    "* [video](https://d3c33hcgiwev3.cloudfront.net/_dnWxsWKEeeExwq9-tNSbA.processed/full/540p/index.mp4?Expires=1515888000&Signature=JkQUNHJrfjKrbpcS~0QhIklgIs1gQY05yzNeYSPiV52qEB7wlGW2lwWBUv4rItJi0ztlWBj7RGYd5jVAlYVUs05TuX5ABGolgUa3Vdl5IOkSrHv7dzwgru14WnKhMIRD3Vq81sX6w9VioiPiJLmM3oCr4PkBAt-S-X2ADMXYdfc_&Key-Pair-Id=APKAJLTNE6QMUY6HBC5A)\n",
    "\n",
    "#### Checkpoint\n",
    "Which one of these items is not a benefit of using blockchain for a business like a bank that uses shared reference data?\n",
    "* Near real-time access to data\n",
    "* `Assets can be encrypted and used as cryptocurrency`\n",
    "* Consistent data set that reduces errors\n",
    "* Supports code editing and routing code transfers between members of the network"
   ]
  },
  {
   "cell_type": "code",
   "execution_count": null,
   "metadata": {},
   "outputs": [],
   "source": []
  },
  {
   "cell_type": "markdown",
   "metadata": {},
   "source": [
    "## Provenance: Supply chain example\n",
    "* [video](https://d3c33hcgiwev3.cloudfront.net/dMPC8MWIEeeExwq9-tNSbA.processed/full/540p/index.mp4?Expires=1515888000&Signature=bQsZ3Foj8vXaARdrrFgCJaAytfF8px-wiTXyd~YDC0PjCFErREo5TdoihkCyyh88O~B-fZagZ2-kQaJefel7JE0pjCAIV2ZfwgdVk2sIauWKYJq9OZFfxem~jdd1WImAD2r5xu3ycDcCdqguw69Bln1kviJkmilwIBCQGJDehX0_&Key-Pair-Id=APKAJLTNE6QMUY6HBC5A)\n",
    "\n",
    "#### Checkpoint\n",
    "How can a blockchain business network help the diamond wholesale and retail industry? Select all that apply.\n",
    "* Can use cognitive tools to analyze customer preferences\n",
    "* Cuts of diamonds can be studied more thoroughly\n",
    "* `Diamond history can be traced`\n",
    "* `Prevents the injection of illicit diamonds in the supply chain`"
   ]
  },
  {
   "cell_type": "code",
   "execution_count": null,
   "metadata": {},
   "outputs": [],
   "source": []
  },
  {
   "cell_type": "markdown",
   "metadata": {},
   "source": [
    "## Finality: Letter of credit example\n",
    "* [video](https://d3c33hcgiwev3.cloudfront.net/vp-668WJEeeExwq9-tNSbA.processed/full/540p/index.mp4?Expires=1515888000&Signature=kHvejeHfNcCqDxbKuHu1ZpYSNK97iKYQ8r9ZxU2uRUwLjD2KKcSQ9KsB1Br6qccM6SzlcwssvIatO~UdCcrbuJMqibMl~LUiPM0suRW7OpHbIayK89K2g6LM3w3Sq~A4j2~7RrbnSlJREo0ha0sXfqX9yo7WsRGpbSRcL2eEbVU_&Key-Pair-Id=APKAJLTNE6QMUY6HBC5A)\n",
    "\n",
    "#### Checkpoint\n",
    "Select the primary method that a blockchain network uses to improve the way letters of credit are processed.\n",
    "* Use cryptocurrency for all financial transactions.\n",
    "* Use RFIDs to track goods across borders.\n",
    "* Use an encrypted database to store records.\n",
    "* `All counter-parties have the same validated record of transaction.`"
   ]
  },
  {
   "cell_type": "code",
   "execution_count": null,
   "metadata": {},
   "outputs": [],
   "source": []
  },
  {
   "cell_type": "markdown",
   "metadata": {},
   "source": [
    "## Industry use cases\n",
    "* [video](https://d3c33hcgiwev3.cloudfront.net/dML_n8WIEeeExwq9-tNSbA.processed/full/540p/index.mp4?Expires=1515888000&Signature=PdaNe8z0tVpr3HYsMDj14nOo-2DjMdMjX~g0MA6K56t9anlzARz6TEEbfGUsc5EbH9oEE-6dQFPIvVbeoRTRArIqiIZsQm0FCH48l8X3FE3qH6k-mRrV6vCBO~fIGyL2mjxRaxkedGVNt06H~4zrAsoXHrEAYDLypbdDVLtpB4g_&Key-Pair-Id=APKAJLTNE6QMUY6HBC5A)\n",
    "\n",
    "#### Checkpoint\n",
    "What's the foundation of a good use case for blockchain for business?\n",
    "* The business must be involved with financial transactions.\n",
    "* `The business must have a business network of some kind.`\n",
    "* The business must be in retail, financial services, or manufacturing.\n",
    "* The business should have security challenges that blockchain can address."
   ]
  },
  {
   "cell_type": "code",
   "execution_count": null,
   "metadata": {},
   "outputs": [],
   "source": []
  },
  {
   "cell_type": "markdown",
   "metadata": {},
   "source": [
    "## Customer adoption\n",
    "* [video](https://d3c33hcgiwev3.cloudfront.net/_dlhqMWKEeepgg6AQDLInA.processed/full/540p/index.mp4?Expires=1515888000&Signature=cv24RVxp-Jc3D~q7ZutW-dqJkcP0wEt7pmn6Abo9G82hm~P0~un95~3sEzN4oCc4C86AiYjvsoUumzqN41txxNUChNxpWojy-MaUVFckmXyF9Mj8-HzVb0PGhXc5YZ2JP5rYS7MC~9t75HBIQCZOuPE5zMJOjGzshSWahGHM0wM_&Key-Pair-Id=APKAJLTNE6QMUY6HBC5A)\n",
    "\n",
    "#### Checkpoint\n",
    "What is the primary benefit of immutability?\n",
    "* Improved security\n",
    "* Scalability\n",
    "* `Tamper-proof`\n",
    "* Increased efficiency"
   ]
  },
  {
   "cell_type": "code",
   "execution_count": null,
   "metadata": {},
   "outputs": [],
   "source": []
  }
 ],
 "metadata": {
  "kernelspec": {
   "display_name": "Python 3",
   "language": "python",
   "name": "python3"
  },
  "language_info": {
   "codemirror_mode": {
    "name": "ipython",
    "version": 3
   },
   "file_extension": ".py",
   "mimetype": "text/x-python",
   "name": "python",
   "nbconvert_exporter": "python",
   "pygments_lexer": "ipython3",
   "version": "3.6.3"
  }
 },
 "nbformat": 4,
 "nbformat_minor": 2
}
