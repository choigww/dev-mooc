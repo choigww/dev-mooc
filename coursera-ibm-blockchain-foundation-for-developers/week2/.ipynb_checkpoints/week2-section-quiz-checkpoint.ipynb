{
 "cells": [
  {
   "cell_type": "markdown",
   "metadata": {},
   "source": [
    "# Section Quiz\n",
    "### week 2"
   ]
  },
  {
   "cell_type": "code",
   "execution_count": null,
   "metadata": {},
   "outputs": [],
   "source": []
  },
  {
   "cell_type": "markdown",
   "metadata": {},
   "source": [
    "### Smart contracts make blockchain networks resistant to tampering.\n",
    "* False\n",
    "\n",
    "### In an audit and compliance use case, using a blockchain network can help to lower the cost of regulatory compliance. What's one other benefit of using blockchain in this use case?\n",
    "* Assets can be encrypted and used as cryptocurrency.\n",
    "* `Changes nature of compliance from passive to active.`\n",
    "* You can use RFIDs to track goods across borders.\n",
    "* You can use cognitive services to retrieve specific data.\n",
    "\n",
    "### What are two of the benefits of using blockchain for a business like a bank that uses shared reference data ?\n",
    "* `Near real-time access to data`\n",
    "* Assets can be encrypted and used as cryptocurrency\n",
    "* Use RFIDs to track goods across borders\n",
    "* `Consistent data set that reduces errors`\n",
    "\n",
    "### If you have a traditional business network of some kind, building a blockchain network can help reduce costs, reduce risk, and increase trust.\n",
    "* True\n",
    "\n",
    "### The system of transferring letters of credit in the banking industry makes a good use case for a blockchain business network.\n",
    "* True"
   ]
  },
  {
   "cell_type": "code",
   "execution_count": null,
   "metadata": {},
   "outputs": [],
   "source": []
  }
 ],
 "metadata": {
  "kernelspec": {
   "display_name": "Python 3",
   "language": "python",
   "name": "python3"
  },
  "language_info": {
   "codemirror_mode": {
    "name": "ipython",
    "version": 3
   },
   "file_extension": ".py",
   "mimetype": "text/x-python",
   "name": "python",
   "nbconvert_exporter": "python",
   "pygments_lexer": "ipython3",
   "version": "3.6.3"
  }
 },
 "nbformat": 4,
 "nbformat_minor": 2
}
