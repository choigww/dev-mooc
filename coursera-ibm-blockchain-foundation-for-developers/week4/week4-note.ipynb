{
 "cells": [
  {
   "cell_type": "markdown",
   "metadata": {},
   "source": [
    "# [IBM Blockchain Foundation for Developers by Coursera](https://www.coursera.org/learn/ibm-blockchain-essentials-for-developers/home/welcome)\n",
    "\n",
    "### Week 4\n",
    "\n",
    "Learning Objectives\n",
    "* What Hyperledger Composer is and how it works\n",
    "* How to build a simple blockchain network by using Composer"
   ]
  },
  {
   "cell_type": "code",
   "execution_count": null,
   "metadata": {},
   "outputs": [],
   "source": []
  },
  {
   "cell_type": "markdown",
   "metadata": {},
   "source": [
    "## Hyperledger Composer overview\n",
    "\n",
    "Previously, you saw a high-level view of Hyperledger Composer, which is an application development framework that helps you create Hyperledger® Fabric™ applications. **Now, you'll look at its deeper structures and components**: \n",
    "* APIs\n",
    "* a modeling language \n",
    "* a programming model\n",
    "\n",
    "Instead of using chaincode to render smart contracts and other blockchain components, you can use Hyperledger Composer to more quickly model, build, and deploy business networks and applications that allow participants to make transactions and exchange assets in a network.<br>\n",
    "\n",
    "Composer defines JavaScript APIs to submit transactions and to create, retrieve, update, and delete assets within asset registries."
   ]
  },
  {
   "cell_type": "code",
   "execution_count": null,
   "metadata": {},
   "outputs": [],
   "source": []
  },
  {
   "cell_type": "markdown",
   "metadata": {},
   "source": [
    "## Hyperledger Compose: a deeper dive\n",
    "\n",
    "![benefits-of-hyperledger-composer](img/benefits-of-hyperledger-composer.png)\n",
    "\n",
    "* [video](https://d3c33hcgiwev3.cloudfront.net/sQIhI8l2EeeNLxJmW_jbVg.processed/full/540p/index.mp4?Expires=1515888000&Signature=caoCum-qXlPey6mgwxgaRhckq3QCOPsFNIaI2jTWVhvHa-dAJou4ETM3WSayOk~g247E7TR4Z8qZOwjv0NEuJt0JatKRIJiZuDEcbnsFEfTJZfnCme5HT6T21Buml2TnxDX9kju0xNQJ4I1xNqatpV65CTwMxQ6asFa89L4tX90_&Key-Pair-Id=APKAJLTNE6QMUY6HBC5A)\n",
    "\n",
    "#### Checkpoint\n",
    "\n",
    "Which of these are benefits of using Hyperledger Composer?\n",
    "* `Saves time`\n",
    "* `Increases understanding`\n",
    "* `Increases flexibility`\n",
    "* `Reduces risk`"
   ]
  },
  {
   "cell_type": "code",
   "execution_count": null,
   "metadata": {},
   "outputs": [],
   "source": []
  },
  {
   "cell_type": "markdown",
   "metadata": {},
   "source": [
    "## An example business network\n",
    "\n",
    "![an-example-business-network](img/an-example-business-network.png)\n",
    "\n",
    "* [video](https://d3c33hcgiwev3.cloudfront.net/_4dyk8l2EeezFhJw2Ap2sg.processed/full/540p/index.mp4?Expires=1515888000&Signature=gJq3zLGkOd-nljQzbyvtG5hjL9L-Bf-CRGPMUk1YlKlue2BMKt~mK1W-yTtw1yh-C23bSX5yaERizKhIcuhZtc4se0yL9F3qX83dCPsrHaMy~E2HDhAYuviXiXu6tLtH5F7SD07nU3COAb3v3vDTJdL1zPJVyssZHprUNthvMDM_&Key-Pair-Id=APKAJLTNE6QMUY6HBC5A)\n",
    "\n",
    "\n",
    "#### Checkpoint\n",
    "Hyperledger Composer provides a set of high-level abstractions that help you build a blockchain solution.\n",
    "* True"
   ]
  },
  {
   "cell_type": "code",
   "execution_count": null,
   "metadata": {},
   "outputs": [],
   "source": []
  },
  {
   "cell_type": "markdown",
   "metadata": {},
   "source": [
    "## Conceptual components and structure\n",
    "![conceptual-components-and-structure](img/conceptual-components-and-structure.png)\n",
    "\n",
    "* [video](https://d3c33hcgiwev3.cloudfront.net/3PIITcl3EeehAQ5qKDSCag.processed/full/540p/index.mp4?Expires=1515888000&Signature=hl0qZby-q9OrxcJp8MQ-xMyvifHvAd0otnw0GyZJBVarHcc0qAa6V4mI~aMeMvzWNhfXzrxVGsI4JDbDTwFUcNncYF8XU9lPYTwC2AusD18O85e6SOZy6SBSdQ9Z12nFX-Fn3htKJNUpvWx80FbQlcJP5Rm8mY8yazreecs4LmA_&Key-Pair-Id=APKAJLTNE6QMUY6HBC5A)\n",
    "\n",
    "#### Solution Dev\n",
    "* model the business network\n",
    "* write the script files\n",
    "* package these things up into a business network archive which is our deployable unit.\n",
    "\n",
    "#### Solution Admin\n",
    "* take charge of standing up the fabric itself\n",
    "* put in place that technical substrate\n",
    "* decide what IP addresses we're going to use, how mnay nodes, the security configuration of the certificate authority, etc.\n",
    "* may actually physically deploy the business network archive onto the fabric (might vary by server)\n",
    "\n",
    "#### Checkpoint\n",
    "* What does the solution administrator typically do?\n",
    "  * `Provisions the target environment on the fabric`"
   ]
  },
  {
   "cell_type": "code",
   "execution_count": null,
   "metadata": {},
   "outputs": [],
   "source": []
  },
  {
   "cell_type": "markdown",
   "metadata": {},
   "source": [
    "## Demo - Hyperledger Composer\n",
    "https://hyperledger.github.io/composer/\n",
    "\n",
    "* [video (36:55)](https://d3c33hcgiwev3.cloudfront.net/KAX2tMl3EeezFhJw2Ap2sg.processed/full/540p/index.mp4?Expires=1515888000&Signature=C8viXonqhHyoz-t65uoUSMv~zMFjWbP1HaBiYE4gcEvGFfYrYSb-UdAeQsAoeNFvC18naHKhXU9HRE2Ee55KIqrnGHeDTPilxP4cej5QU~gG3H2niMrO05YjrgFB6PfXl1bLgbTsdX8KYbU2i8qHU~d79cFGt6Bw5iRnLhzA0KE_&Key-Pair-Id=APKAJLTNE6QMUY6HBC5A)\n",
    "  * Building a solution live\n",
    "    * Model a business network\n",
    "    * Get it deployed through fabric\n",
    "    * Expose it via a Rest API\n",
    "    * Generate a simple web application that interacts with the network \n",
    "    \n",
    "    \n",
    "#### Checkpoint\n",
    "What does it mean that all blockchain transactions are atomic?\n",
    "* It's possible that one part of the transaction can fail but the other part succeeds\n",
    "* A transaction must be written in only one block of code\n",
    "* A transaction can never be repeated\n",
    "* `All parts of a transaction must happen or not`\n"
   ]
  },
  {
   "cell_type": "code",
   "execution_count": null,
   "metadata": {},
   "outputs": [],
   "source": []
  },
  {
   "cell_type": "markdown",
   "metadata": {},
   "source": [
    "## Lab 2: Create a Hyperledger Composer solution\n",
    "\n",
    "In this lab, you use Hyperledger Composer to model a blockchain solution from scratch and create a sample Angular 2-based application that interacts with a blockchain network. Composer helps you model and test networks based on your own use cases.<br>\n",
    "\n",
    "You must install Hyperledger Composer, Docker, and other software. See the lab for more information.\n",
    "\n",
    "[Start the lab!](https://hyperledger.github.io/composer/tutorials/developer-tutorial.html)"
   ]
  },
  {
   "cell_type": "code",
   "execution_count": null,
   "metadata": {},
   "outputs": [],
   "source": []
  },
  {
   "cell_type": "code",
   "execution_count": null,
   "metadata": {},
   "outputs": [],
   "source": []
  },
  {
   "cell_type": "code",
   "execution_count": null,
   "metadata": {},
   "outputs": [],
   "source": []
  }
 ],
 "metadata": {
  "kernelspec": {
   "display_name": "Python 3",
   "language": "python",
   "name": "python3"
  },
  "language_info": {
   "codemirror_mode": {
    "name": "ipython",
    "version": 3
   },
   "file_extension": ".py",
   "mimetype": "text/x-python",
   "name": "python",
   "nbconvert_exporter": "python",
   "pygments_lexer": "ipython3",
   "version": "3.6.2"
  }
 },
 "nbformat": 4,
 "nbformat_minor": 2
}
