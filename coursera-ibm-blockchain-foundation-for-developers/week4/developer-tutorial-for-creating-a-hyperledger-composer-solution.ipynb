{
 "cells": [
  {
   "cell_type": "markdown",
   "metadata": {},
   "source": [
    "# [Developer Tutorial for creating a Hyperledger Composer solution](https://hyperledger.github.io/composer/tutorials/developer-tutorial.html)"
   ]
  },
  {
   "cell_type": "code",
   "execution_count": null,
   "metadata": {},
   "outputs": [],
   "source": []
  },
  {
   "cell_type": "markdown",
   "metadata": {},
   "source": [
    "This tutorial will walk you through building a Hyperledger Composer blockchain solution from scratch. In the space of a few hours you will be able to go from an idea for a disruptive blockchain innovation, to executing transactions against a real Hyperledger Fabric blockchain network and generating/running a sample Angular 2 application that interacts with a blockchain network.<br>\n",
    "\n",
    "This tutorial gives an overview of the techniques and resources available to apply to your own use case.<br>\n",
    "\n",
    "Note: This tutorial was written against the latest Hyperledger Composer build on Ubuntu Linux running with Hyperledger Fabric v1.0 where referenced below and also tested for a Mac environment.\n",
    "\n",
    "### Prerequisites\n",
    "Before beginning this tutorial:\n",
    "\n",
    "1. [installing pre-requisites](https://hyperledger.github.io/composer/installing/installing-prereqs.html)\n",
    "2. [Set up your development environment](https://hyperledger.github.io/composer/installing/development-tools.html)\n",
    "  * If using python with <3.0 version:\n",
    "  * `npm install --python=python2.7 -g [tool_name]`\n",
    "3. Install an editor e.g. VSCode or Atom\n",
    "\n"
   ]
  },
  {
   "cell_type": "code",
   "execution_count": null,
   "metadata": {},
   "outputs": [],
   "source": []
  },
  {
   "cell_type": "code",
   "execution_count": null,
   "metadata": {},
   "outputs": [],
   "source": []
  },
  {
   "cell_type": "markdown",
   "metadata": {},
   "source": [
    "# Individual memo while installing."
   ]
  },
  {
   "cell_type": "markdown",
   "metadata": {},
   "source": [
    "## Install Hyperledger Fabric\n",
    "\n",
    "### Set ARCH\n",
    "* ```ARCH=\\`uname -m\\` ```\n",
    "* `uname -m`\n",
    "\n",
    "### Grab the current directory.\n",
    "```\n",
    "DIR=\"$( cd \"$( dirname \"${BASH_SOURCE[0]}\" )\" && pwd )\"\n",
    " cd \"$( dirname \"${BASH_SOURCE[0]}\" )\" && pwd \n",
    " dirname \"${BASH_SOURCE[0]}\" \n",
    "```\n",
    "\n",
    "### Pull and tag the latest Hyperledger Fabric base image.\n",
    "* `docker pull hyperledger/fabric-peer:$ARCH-1.0.4`\n",
    "* `x86_64-1.0.4`: Pulling from hyperledger/fabric-peer"
   ]
  },
  {
   "cell_type": "code",
   "execution_count": null,
   "metadata": {},
   "outputs": [],
   "source": []
  },
  {
   "cell_type": "code",
   "execution_count": null,
   "metadata": {},
   "outputs": [],
   "source": []
  },
  {
   "cell_type": "markdown",
   "metadata": {},
   "source": [
    "## Controlling your dev environment\n",
    "\n",
    "The first time you start up a new runtime, you'll need to run the start script, then generate a PeerAdmin card:\n",
    "\n",
    "```bash\n",
    "    cd ~/fabric-tools\n",
    "    ./startFabric.sh\n",
    "    ./createPeerAdminCard.sh\n",
    "```\n",
    "\n",
    "You can start and stop your runtime using `~/fabric-tools/stopFabric.sh`, and start it again with `~/fabric-tools/startFabric.sh`.<br>\n",
    "\n",
    "At the end of your development session, you run `~/fabric-tools/stopFabric.sh` and then `~/fabric-tools/teardownFabric.sh`. \n",
    "* Note that if you've run the teardown script, the next time you start the runtime, you'll need to create a new PeerAdmin card just like you did on first time startup."
   ]
  },
  {
   "cell_type": "code",
   "execution_count": null,
   "metadata": {},
   "outputs": [],
   "source": []
  },
  {
   "cell_type": "markdown",
   "metadata": {},
   "source": [
    "## Start the web app (\"Playground\")\n",
    "\n",
    "To start the web app, run:\n",
    "\n",
    "```bash\n",
    "    composer-playground\n",
    "```\n",
    "\n",
    "It will typically open your browser automatically, at the following address: http://localhost:8080/login<br>\n",
    "\n",
    "You should see the `PeerAdmin@hlfv1` Card you created with the `createPeerAdminCard` script on your \"My Business Networks\" screen in the web app: if you don't see this, you may not have correctly started up your runtime!\n",
    "\n"
   ]
  },
  {
   "cell_type": "code",
   "execution_count": null,
   "metadata": {},
   "outputs": [],
   "source": []
  }
 ],
 "metadata": {
  "kernelspec": {
   "display_name": "Python 3",
   "language": "python",
   "name": "python3"
  },
  "language_info": {
   "codemirror_mode": {
    "name": "ipython",
    "version": 3
   },
   "file_extension": ".py",
   "mimetype": "text/x-python",
   "name": "python",
   "nbconvert_exporter": "python",
   "pygments_lexer": "ipython3",
   "version": "3.6.2"
  }
 },
 "nbformat": 4,
 "nbformat_minor": 2
}
