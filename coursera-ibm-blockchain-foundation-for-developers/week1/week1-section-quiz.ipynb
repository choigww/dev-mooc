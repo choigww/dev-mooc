{
 "cells": [
  {
   "cell_type": "markdown",
   "metadata": {},
   "source": [
    "# Section Quiz\n",
    "### week 1"
   ]
  },
  {
   "cell_type": "code",
   "execution_count": null,
   "metadata": {},
   "outputs": [],
   "source": []
  },
  {
   "cell_type": "markdown",
   "metadata": {},
   "source": [
    "### Which definition best describes a ledger?\n",
    "  * The system of record for a business\n",
    "\n",
    "### In a cryptocurrency network like Bitcoin, you can decide who gets to validates a transaction.\n",
    "  * False\n",
    "  \n",
    "### Selected members of a business network validate that a specific transaction occurs, which leads to trust.\n",
    "  * True\n",
    "  \n",
    "### Which of these items is not part of the core requirement for a blockchain business network?\n",
    "  * Smart contract\n",
    "  * Shared ledger\n",
    "  * **Technical services**\n",
    "  * Privacy\n",
    "  \n",
    "### In a blockchain business network, every participant has a separate copy of the ledger and updates it for their transactions.\n",
    "  * False\n"
   ]
  },
  {
   "cell_type": "code",
   "execution_count": null,
   "metadata": {},
   "outputs": [],
   "source": []
  }
 ],
 "metadata": {
  "kernelspec": {
   "display_name": "Python 3",
   "language": "python",
   "name": "python3"
  },
  "language_info": {
   "codemirror_mode": {
    "name": "ipython",
    "version": 3
   },
   "file_extension": ".py",
   "mimetype": "text/x-python",
   "name": "python",
   "nbconvert_exporter": "python",
   "pygments_lexer": "ipython3",
   "version": "3.6.3"
  }
 },
 "nbformat": 4,
 "nbformat_minor": 2
}
