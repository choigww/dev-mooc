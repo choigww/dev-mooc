{
 "cells": [
  {
   "cell_type": "markdown",
   "metadata": {},
   "source": [
    "# [IBM Blockchain Foundation for Developers by Coursera](https://www.coursera.org/learn/ibm-blockchain-essentials-for-developers/home/welcome)\n",
    "\n",
    "### Week 1"
   ]
  },
  {
   "cell_type": "code",
   "execution_count": null,
   "metadata": {},
   "outputs": [],
   "source": []
  },
  {
   "cell_type": "markdown",
   "metadata": {},
   "source": [
    "## About this course\n",
    "\n",
    "In this course, you learn about some of the common challenges facing business networks and how a new approach to recording and processing transactions that uses blockchain technology can solve some of these challenges.<br>\n",
    "\n",
    "When you finish this course, you should understand:\n",
    "\n",
    "* Blockchain and distributed ledger systems in a business environment\n",
    "* Important concepts and key use cases of blockchain for business\n",
    "* How assets can be transferred in a blockchain network\n",
    "* The structure and benefits of using Hyperledger Composer, which is an open source project and a suite of high-level abstractions for business networks\n",
    "* How to use Hyperledger Composer to model and build a simple business network\n",
    "* The components and structure of Hyperledger Fabric, which is a blockchain framework that uses containers to host smart contracts called chaincode that comprise the application logic of the system\n",
    "* Blockchain solution components, such as wallets, ledgers, participants, consensus, security, and smart contracts\n",
    "* Key considerations and responsibilities of those who help to build, model, run, and maintain a blockchain business network: Developers and Administrators\n",
    "* Methods to arrive at consensus\n",
    "* Tools and applications that you can use to interact with the network\n",
    "\n",
    "### Labs\n",
    "When you complete the labs in this course, you'll understand how to transfer assets, model, build, and programmatically interact with a blockchain network.\n",
    "\n",
    "* Lab 1: Use the web-hosted Hyperledger Playground Composer to transfer assets in a car auction network.\n",
    "* Lab 2: Model a simple network by using Hyperledger Composer that's installed on your local machine. (This lab only works on a Mac)\n",
    "* Lab 3: Build a simple application that queries and updates the ledger by using chaincode.\n",
    "* Lab 4: Build your own network.\n",
    "\n",
    "### Instructors for this course\n",
    "Ant Cole:\n",
    "* Ant Cole has been with IBM since 2010. His most recent role is World Wide Blockchain Enablement, creating education material, courses, and finding the best way to spread that knowledge about the possible business applications and technical capabilities of a blockchain for business both internally and externally.\n",
    "\n",
    "Dave Gorman:\n",
    "* Dave Gorman works in World Wide Blockchain Enablement for IBM and engages clients about blockchain as applied to business networks.\n"
   ]
  },
  {
   "cell_type": "markdown",
   "metadata": {},
   "source": [
    "## Prerequisites\n",
    "\n",
    "* **Lab 1**: You can run this lab on any operating system. You need only a browser. It's recommended that you use Firefox or Chrome. You don't need any other software.\n",
    "\n",
    "* **Lab 2**: You can ONLY run this lab on a Mac. If you don't have a Mac, it's recommended that you read the lab document anyway to get familiar with the steps to create a blockchain solution. This lab uses the Hyperledger Composer Playground that you should install locally. You must set up your Mac before you install Hyperledger Composer Playground.\n",
    "  * [Setting up the Mac](https://hyperledger.github.io/composer/installing/prereqs-mac.html)\n",
    "  * [Installing Hyperledger Composer Playground locally](https://hyperledger.github.io/composer/installing/using-playground-locally.html)\n",
    "\n",
    "* **Labs 3 and 4**: You can run these labs on Mac or Windows. See the lab documentation for required software."
   ]
  },
  {
   "cell_type": "code",
   "execution_count": null,
   "metadata": {},
   "outputs": [],
   "source": []
  },
  {
   "cell_type": "code",
   "execution_count": null,
   "metadata": {},
   "outputs": [],
   "source": []
  },
  {
   "cell_type": "markdown",
   "metadata": {},
   "source": [
    "## What is Blockchain\n",
    "\n",
    "Business networks today are often inefficient because each participant in the network keeps records, or a ledger, of all transactions between all the parties that the business interacts with. This process is expensive because of duplication of effort and intermediaries adding costs for their services.<br>\n",
    "\n",
    "One solution to this problem is blockchain, which provides a shared ledger technology that allows any participant in the network to see the one system of record, or ledger. By using blockchain technology, businesses can benefit from a more efficient transfer of goods and services.<br>\n",
    "\n",
    "The video modules in this course describe business networks and transactions, the problems that blockchain can solve, what blockchain is and how it works, and key use cases."
   ]
  },
  {
   "cell_type": "code",
   "execution_count": null,
   "metadata": {},
   "outputs": [],
   "source": []
  },
  {
   "cell_type": "markdown",
   "metadata": {},
   "source": [
    "## The business backdrop\n",
    "\n",
    "* [video](https://d3c33hcgiwev3.cloudfront.net/7AYF4sWBEeepgg6AQDLInA.processed/full/540p/index.mp4?Expires=1515888000&Signature=I~wYjuywroZbkdU77FuWZevtx9x-PS-pU48sQpl7-O-daMKTfyruv0rvnlcbzSSOZTZSQzorIt5X6tdzBh0v6CU7Db80kAWTYFDQzKdgxuLErhGq~pOLi5vcBc-9-rjIg-QKMLjLc46~i9S1IymLKf2xFRkFAKHSkA21nSj4vig_&Key-Pair-Id=APKAJLTNE6QMUY6HBC5A)\n",
    "\n",
    "#### Checkpoint\n",
    "An asset transfer that goes on or off the ledger is called a transaction.\n",
    "* True"
   ]
  },
  {
   "cell_type": "code",
   "execution_count": null,
   "metadata": {},
   "outputs": [],
   "source": []
  },
  {
   "cell_type": "markdown",
   "metadata": {},
   "source": [
    "## The problem area\n",
    "* [video](https://d3c33hcgiwev3.cloudfront.net/TH0NJ8WHEee_0hLbBRivGA.processed/full/540p/index.mp4?Expires=1515888000&Signature=Apj9vpltj-ywXIC~N8oyq2FKNvPrwv622N3pgRVY7qTnMbEE3ACqcbXEahz46O-6vHapz1XqYrk-5MkWsnKesdrirZdyv0JUujVX-tWQHsgwFWArUZvQIEFS0Pl~zrEbgoqa~U-55x1mIkDAWNClxrgUlaoVfwZazq0oyBpnzts_&Key-Pair-Id=APKAJLTNE6QMUY6HBC5A)\n",
    "\n",
    "#### Checkpoint\n",
    "What's the one significant problem with traditional business networks?\n",
    "* No one person can oversee the entire network.\n",
    "* `Every participant has a separate copy of the ledger and updates it for their transactions.`\n",
    "* There are several contracts involved.\n",
    "* The participants in a network can never be known."
   ]
  },
  {
   "cell_type": "code",
   "execution_count": null,
   "metadata": {},
   "outputs": [],
   "source": []
  },
  {
   "cell_type": "markdown",
   "metadata": {},
   "source": [
    "## Relation to Bitcoin\n",
    "* [video](https://d3c33hcgiwev3.cloudfront.net/OdjucWHEeeExwq9-tNSbA.processed/full/540p/index.mp4?Expires=1515888000&Signature=OXwbIrgryIFYhPtGA2GKIdPXCfYjcdboP9RS7ZGG5Z~J4OrFIyk64t624GggPJpWbq6aZ5Z198o6TYBpIC2C0DvsWIMoSDh97AK6U7SPHF0ViQpZVslwMxFQMKer9APeANd~o9nD-UQpV3th~p4PksXkKgEUl2qkook1nP17-uM_&Key-Pair-Id=APKAJLTNE6QMUY6HBC5A)\n",
    "\n",
    "#### Checkpoint\n",
    "1. In the Bitcoin network, everyone knows who is participating.\n",
    "  * False\n",
    "2. What are the three essential differences between Bitcoin and blockchain for business?\n",
    "  * Cryptocurrency is the main driver in a business network\n",
    "  * `A business network gets to choose who validates a transaction.`\n",
    "  * `Assets are more diverse and important in a business network.`\n",
    "  * `Business networks prioritize identity over anonymity.`\n",
    "\n"
   ]
  },
  {
   "cell_type": "code",
   "execution_count": null,
   "metadata": {},
   "outputs": [],
   "source": []
  },
  {
   "cell_type": "markdown",
   "metadata": {},
   "source": [
    "## Requirements for a blockchain in a business environment\n",
    "\n",
    "* [viedo](https://d3c33hcgiwev3.cloudfront.net/OdjRcWHEee_0hLbBRivGA.processed/full/540p/index.mp4?Expires=1515888000&Signature=C4oiOd~v82iRQvOMbnS9FUCGaGCrVPHrHoxp3NYEaL-hukDzpT6S7Txq7QmXcqyuka0UEBii4BlC1nxvMBG8Qv0FiMUE2rdmSs~vQLhQSIcPhEHe0cME72EPuxrU52hTO6PBnDU8sLglPflsvpNAYYHcbR44DV8eDcwhNndrFik_&Key-Pair-Id=APKAJLTNE6QMUY6HBC5A)\n",
    "\n",
    "#### Checkpoint\n",
    "What is the core requirement for a business blockchain?\n",
    "* Shared ledger, smart contract, privacy and trust"
   ]
  },
  {
   "cell_type": "code",
   "execution_count": null,
   "metadata": {},
   "outputs": [],
   "source": []
  },
  {
   "cell_type": "markdown",
   "metadata": {},
   "source": [
    "## Requirements deep dive\n",
    "* [video](https://d3c33hcgiwev3.cloudfront.net/9k71tdXrEeeB6wrT5AOI1g.processed/full/540p/index.mp4?Expires=1515888000&Signature=XzcxZyn6jC6nqyZpododJxTHT5nNQBDRxUhvoJ9~F48g-xyCFkssiVZ8bZG5Vv4Nn6AhD0-ivV2wMOKeDTk0mCyM5N~corWlF2xJAf1piHNlZKONWy5bHt5EB1BzPO2kuwIKk7FMS3EoHcpqdfYIrw-uiN-KFj1U0kgbXaRxV-Q_&Key-Pair-Id=APKAJLTNE6QMUY6HBC5A)\n",
    "\n",
    "#### Checkpoint\n",
    "Which statement does not correctly characterize privacy in a blockchain business network?\n",
    "* `Participants endorse trasactions.`\n",
    "* Transactions must be authenticated.\n",
    "* The identity of a participant is not linked to a transaction.\n",
    "* Cryptography is central to privacy processes.\n",
    "\n",
    "> Selected members of the network endorse, or validate, that a specific transaction occurs, which leads to trust."
   ]
  },
  {
   "cell_type": "code",
   "execution_count": null,
   "metadata": {},
   "outputs": [],
   "source": []
  }
 ],
 "metadata": {
  "kernelspec": {
   "display_name": "Python 3",
   "language": "python",
   "name": "python3"
  },
  "language_info": {
   "codemirror_mode": {
    "name": "ipython",
    "version": 3
   },
   "file_extension": ".py",
   "mimetype": "text/x-python",
   "name": "python",
   "nbconvert_exporter": "python",
   "pygments_lexer": "ipython3",
   "version": "3.6.3"
  }
 },
 "nbformat": 4,
 "nbformat_minor": 2
}
