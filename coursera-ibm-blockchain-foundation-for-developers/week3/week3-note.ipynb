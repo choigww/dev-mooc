{
 "cells": [
  {
   "cell_type": "markdown",
   "metadata": {},
   "source": [
    "# [IBM Blockchain Foundation for Developers by Coursera](https://www.coursera.org/learn/ibm-blockchain-essentials-for-developers/home/welcome)\n",
    "\n",
    "### Week 3"
   ]
  },
  {
   "cell_type": "code",
   "execution_count": null,
   "metadata": {},
   "outputs": [],
   "source": []
  },
  {
   "cell_type": "markdown",
   "metadata": {},
   "source": [
    "## How IBM can help you apply blockchain?\n",
    "\n",
    "IBM is a premier member of the Linux Foundation Hyperledger Project, which is an open source, collaborative effort that seeks to advance blockchain technologies. IBM also offers the [IBM Blockchain Platform](https://www.ibm.com/blockchain/platform/) that can help you build and operate a complete business network. The Platform also provides tools to help you align the needs of developers and business leaders in your organization."
   ]
  },
  {
   "cell_type": "code",
   "execution_count": null,
   "metadata": {},
   "outputs": [],
   "source": []
  },
  {
   "cell_type": "markdown",
   "metadata": {},
   "source": [
    "## IBM and Hyperledger relationship: Blockchain for business \n",
    "* [video](https://d3c33hcgiwev3.cloudfront.net/vqJ6DMWJEeeExwq9-tNSbA.processed/full/540p/index.mp4?Expires=1515888000&Signature=OnKiCZwk0xfQYs4BSSTrwkDN0u~vqRFkcMec9xMJE9LD5gDu5TE5BxgFgQysynAYaflxvb1afp3SHY14BYBkd0UcXBJ~b0FbJiplHaasBJNOokzFtQiLH6OjiGaikfEWyndgWA44fI00JXHs6TUssPH~l4E93HwWxkq9koV074I_&Key-Pair-Id=APKAJLTNE6QMUY6HBC5A)\n",
    "\n",
    "#### Checkpoint\n",
    "The Linux Foundation Hyperledger Project focuses on which three types of openness?\n",
    "* Open industries\n",
    "* `Open governance`\n",
    "* `Open standards`\n",
    "* `Open source`"
   ]
  },
  {
   "cell_type": "code",
   "execution_count": null,
   "metadata": {},
   "outputs": [],
   "source": []
  },
  {
   "cell_type": "markdown",
   "metadata": {},
   "source": [
    "## Hyperledger Composer overview\n",
    "* [video](https://d3c33hcgiwev3.cloudfront.net/vqHeSMWJEee_0hLbBRivGA.processed/full/540p/index.mp4?Expires=1515888000&Signature=K95ZzbKteCFhFqdfFzH2rwQmaQRU9Rul2j4ehj80wSpjDLLkdKxfto2fTSzjXRsD6IyiTXYkz1BLUm3UeDBbkp3SGbFhecBRruwtd~2VAW3W0-ZpX4YEUsDrblrUcfHCyo4AUeIEE0OXWkzhP03fXCD3tr~~fI455zF76T~xe5Q_&Key-Pair-Id=APKAJLTNE6QMUY6HBC5A)\n",
    "\n",
    "#### Checkpoint\n",
    "Hyperledger Composer helps you accelerate time to value because you no longer need to do what?\n",
    "* Use Java to render smart contracts\n",
    "* Model your networks in the Go programming language\n",
    "* Build your own blockchain development tools\n",
    "* `Render smart contracts in chaincode`\n",
    "\n",
    "\n"
   ]
  },
  {
   "cell_type": "code",
   "execution_count": null,
   "metadata": {},
   "outputs": [],
   "source": []
  },
  {
   "cell_type": "markdown",
   "metadata": {},
   "source": [
    "## IBM engagement model\n",
    "* [video](https://d3c33hcgiwev3.cloudfront.net/vqG3L8WJEeepgg6AQDLInA.processed/full/540p/index.mp4?Expires=1515888000&Signature=VQF~5RAFrmz6LIpKE6nESgTtwzqYyJ-QBEW-ZCQ9FshhHmAygMIZBQE7jNWQji2AgUKth2QWo1L99HwYPCoKxHplyHehPQGky4OhAv5ygWmXX2DoEXhCULq1oXkoUp4C3-aTjAbFpYeRLUwdUc43qx7AT6dRdNrFMe9BJCT~H~U_&Key-Pair-Id=APKAJLTNE6QMUY6HBC5A)\n",
    "\n",
    "#### Checkpoint\n",
    "What is the name of the open source blockchain technology to which IBM is contributing code?\n",
    "* Linux Foundation Hyperledger\n",
    "* `Linux Foundation Hyperledger Fabric`\n",
    "* IBM Hyperledger\n",
    "* IBM Blockchain\n"
   ]
  },
  {
   "cell_type": "code",
   "execution_count": null,
   "metadata": {},
   "outputs": [],
   "source": []
  },
  {
   "cell_type": "markdown",
   "metadata": {},
   "source": [
    "## Transfer assets in a blockchain\n",
    "\n",
    "### Transferring assets is the heart of blockchain. \n",
    "How can people buy and sell or transfer goods in a business network without any central governing body or policy?<br>\n",
    "\n",
    "The following video demonstrates exactly that: how an asset, such as a car, can be transferred (bought or sold) to other people. That process is compared to the traditional way assets (goods or services) are transferred between different people.<br>\n",
    "\n",
    "IBM Bluemix has been renamed to **IBM Cloud**. However, you might see some references to IBM Bluemix in this course."
   ]
  },
  {
   "cell_type": "code",
   "execution_count": null,
   "metadata": {},
   "outputs": [],
   "source": []
  },
  {
   "cell_type": "markdown",
   "metadata": {},
   "source": [
    "## Blockchain asset transfer demo\n",
    "\n",
    "* [video](https://d3c33hcgiwev3.cloudfront.net/_dmIucWKEeepgg6AQDLInA.processed/full/540p/index.mp4?Expires=1515888000&Signature=REsJSsR7tZ-tLH3qjwzX3Ckw4hTvDLtfdBCQlWgTWUeufDV9V-nO9J-nHyT6y~ZKUX5IqpoAFG1~0sF8p3fP8Mbg140SMLBVB-5OSNpSPUBCVb5baEDM2tGN3GFS4SXz-kbxsN2nYnKEgQewfcvzCVTpRFq4L6d7YUn1KEEVhXI_&Key-Pair-Id=APKAJLTNE6QMUY6HBC5A)\n",
    "\n",
    "#### Checkpoint\n",
    "Which of the following statements are true about transactions in a business blockchain?\n",
    "* Transactions are endorsed by a subset of business network participants.\n",
    "* They cannot be modified.\n",
    "* They are added to the ledger with appropriate confidentiality.\n",
    "* `All of the above`"
   ]
  },
  {
   "cell_type": "code",
   "execution_count": null,
   "metadata": {},
   "outputs": [],
   "source": []
  },
  {
   "cell_type": "markdown",
   "metadata": {},
   "source": [
    "## Lab 1: Transfer assets\n",
    "\n",
    "Click below to start the lab!<br>\n",
    "[Lab_1_Blockchain_Car_Auction.pdf](https://d3c33hcgiwev3.cloudfront.net/_e4ff6715610de0bf2874f1d58384744f_Lab_1_Blockchain_Car_Auction.pdf?Expires=1515888000&Signature=Eg0EcaXsGMj4mweWcRDqNLGRFWSFL~-3wwtj997h1LCOg-~qEd5hx9C006Z9LFAnYR0cICvvQVf-lhSgnXJy62OJXEzrr2hrkfTH~3kL72v9A62gVstbGfYg-HZlGIBu7GSVq-eybfO00ckG2BciT~KAxobhzNIfoD3W8UA5TJI_&Key-Pair-Id=APKAJLTNE6QMUY6HBC5A)\n",
    "\n",
    "> The purpose of this lab is to introduce you to the concepts of a blockchain by showing you how a\n",
    "blockchain transfers assets between participants in a business network. We will use the implementation\n",
    "of a simple blind car auction as the scenario for the demo.<br><br>\n",
    "The car auction business network has a set of known participants (buyers and sellers), assets (cars and\n",
    "car listings) and transactions (placing bids and closing auctions). We will model these using Hyperledger\n",
    "Composer and test the business logic that makes the auction work.<br><br>\n",
    "Crucially, a blockchain could be used to bring together the buyers and sellers of these assets without\n",
    "needing any trusted third party. However, an auctioneer could be used to provide visibility and\n",
    "governance of the network if required.\n",
    "\n",
    "* Composer Playground link\n",
    "  * http://composer-playground.mybluemix.net/\n",
    "  \n",
    "  \n",
    "#### Checkpoint\n",
    "The Model file has what extension?\n",
    "* .json\n",
    "* .js\n",
    "* .acl\n",
    "* `.cto`"
   ]
  },
  {
   "cell_type": "code",
   "execution_count": null,
   "metadata": {},
   "outputs": [],
   "source": []
  }
 ],
 "metadata": {
  "kernelspec": {
   "display_name": "Python 3",
   "language": "python",
   "name": "python3"
  },
  "language_info": {
   "codemirror_mode": {
    "name": "ipython",
    "version": 3
   },
   "file_extension": ".py",
   "mimetype": "text/x-python",
   "name": "python",
   "nbconvert_exporter": "python",
   "pygments_lexer": "ipython3",
   "version": "3.6.3"
  }
 },
 "nbformat": 4,
 "nbformat_minor": 2
}
