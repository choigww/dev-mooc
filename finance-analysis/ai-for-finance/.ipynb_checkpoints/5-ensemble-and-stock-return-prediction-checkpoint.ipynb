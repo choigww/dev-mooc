{
 "cells": [
  {
   "cell_type": "markdown",
   "id": "subject-punch",
   "metadata": {},
   "source": [
    "# 앙상블과 주가수익률 예측\n",
    "앙상블 전략과 Sentiment Analysis 활용을 투자 전략에 활용하기\n",
    "\n",
    "- 학습내용\n",
    "    - 모멘텀 요인 / 한국은행 API 소개\n",
    "    - 주가 자료 다운로드 / 수익률, 수준, 모멘텀 데이터 준비\n",
    "    - 기초통계 (상관곤계 확인 > feature selection)\n",
    "    - 선형회귀(feature selection) / 선형회귀 모형\n",
    "    - 앙상블 모형과 성과 비교\n",
    "- 학습목표\n",
    "    - 분석에 필요한 자료를 다운로드할 수 있다\n",
    "    - 앙상블 모형과 선형회귀모형을 비교하고 분석할 수 있다\n",
    "    - 실제 주가수익률 예측에 적용할 수 있다"
   ]
  },
  {
   "cell_type": "code",
   "execution_count": null,
   "id": "stunning-spring",
   "metadata": {},
   "outputs": [],
   "source": []
  },
  {
   "cell_type": "markdown",
   "id": "outstanding-patent",
   "metadata": {},
   "source": [
    "## 모멘텀 요인 (Momentum Factor)\n",
    "- 물리학\n",
    "    - 어떤 물체가 주어진 축을 중심으로 일어나는 회전운동을 변화시키기 어려운 정도를 나타내는 물리량\n",
    "- Finance\n",
    "    - 고수익을 기록한 주식들은 지속적으로 고수익을 유지하는 경향을 보인다는 개념\n",
    "    \n",
    "### 모멘텀 요인의 발전\n",
    "- Fama-Farnach 3요인 모형 : 주식시장의 이상현상(anomalies) 설명\n",
    "- Jegadeesh and Titman : 모멘텀 관련 논문 발표\n",
    "    - 모멘텀 요인이 Stock Return을 설명하는 Pricing Factor로 자리매김\n",
    "- Carhart : 4요인 모형에 포함\n",
    "    - FF3 Factor + momentum factor\n",
    "    \n",
    "### 모멘텀 요인의 구분\n",
    "- 절대 모멘텀\n",
    "    - Absolute Momentum\n",
    "    - 시계열모멘텀 (Time-series momentum)\n",
    "    - 추세추종 (Trend Following)\n",
    "- 상대 모멘텀\n",
    "    - 기준재(numeraire) 주식을 선정하여, 상대가격의 수익률로 모멘텀을 추정\n",
    "    \n",
    "> 실제 투자전략 운용에서는 두 가지 개념의 구분은 크게 중요하지 않음\n",
    "\n",
    "### 모멘텀 요인의 투자전략 적용\n",
    "- 특정 기간을 비교해 기간 중 수익률에 따라 서열화\n",
    "- 상위(고수익) 주식 매수\n",
    "- 하위(저수익) 주식 매도(공매도)\n",
    "    - Long, short 전략을 동시에 취해 위험 최소화, 수익 극대화 전략\n",
    "    \n",
    "## 한국은행 Open API\n",
    "- 환율, 이자율 및 거시경제 관련 데이터 다운로드 ([Link](http://ecos.bok.or.kr/jsp/openapi/OpenApiController.jsp?t=main))\n",
    "    - 회원가입 절차 진행 후 OPEN API 인증키 신청, 생성\n",
    "    - [API 사용 참고 - 블로그 포스팅](https://bjecondata.blogspot.com/2019/08/blog-post_7.html)"
   ]
  },
  {
   "cell_type": "code",
   "execution_count": 9,
   "id": "suited-suffering",
   "metadata": {},
   "outputs": [
    {
     "ename": "ModuleNotFoundError",
     "evalue": "No module named 'BeautifoulSoup'",
     "output_type": "error",
     "traceback": [
      "\u001b[0;31m---------------------------------------------------------------------------\u001b[0m",
      "\u001b[0;31mModuleNotFoundError\u001b[0m                       Traceback (most recent call last)",
      "\u001b[0;32m<ipython-input-9-fde1329af1c9>\u001b[0m in \u001b[0;36m<module>\u001b[0;34m\u001b[0m\n\u001b[1;32m      4\u001b[0m \u001b[0;32mfrom\u001b[0m \u001b[0mdatetime\u001b[0m \u001b[0;32mimport\u001b[0m \u001b[0mdatetime\u001b[0m\u001b[0;34m\u001b[0m\u001b[0;34m\u001b[0m\u001b[0m\n\u001b[1;32m      5\u001b[0m \u001b[0;32mimport\u001b[0m \u001b[0mrequests\u001b[0m\u001b[0;34m\u001b[0m\u001b[0;34m\u001b[0m\u001b[0m\n\u001b[0;32m----> 6\u001b[0;31m \u001b[0;32mimport\u001b[0m \u001b[0mBeautifoulSoup\u001b[0m\u001b[0;34m\u001b[0m\u001b[0;34m\u001b[0m\u001b[0m\n\u001b[0m",
      "\u001b[0;31mModuleNotFoundError\u001b[0m: No module named 'BeautifoulSoup'"
     ]
    }
   ],
   "source": [
    "import numpy as np\n",
    "import pandas as pd\n",
    "import pandas_datareader as pdr\n",
    "from datetime import datetime\n",
    "import requests\n",
    "import BeautifoulSoup"
   ]
  },
  {
   "cell_type": "code",
   "execution_count": 5,
   "id": "instructional-compatibility",
   "metadata": {},
   "outputs": [],
   "source": [
    "api_key = 'T0OXEM1G4MBFJRZ1OM6M'\n",
    "data_type = 'xml'\n",
    "period = 'DD'\n",
    "start_date = '20100101'\n",
    "finish_date = '20201231'\n",
    "code = [('028Y001', 'BEEA21'), ('028Y001', 'BEEA220')] # 첫번째 CD유통수익률, 두번째 KORIBOR 금리(12월물)"
   ]
  },
  {
   "cell_type": "code",
   "execution_count": null,
   "id": "narrative-robert",
   "metadata": {},
   "outputs": [],
   "source": [
    "df_exchangeRate = getData()"
   ]
  },
  {
   "cell_type": "code",
   "execution_count": null,
   "id": "clinical-czech",
   "metadata": {},
   "outputs": [],
   "source": []
  },
  {
   "cell_type": "code",
   "execution_count": 8,
   "id": "adjacent-turning",
   "metadata": {},
   "outputs": [],
   "source": [
    "cd_return_rate_url = f'http://ecos.bok.or.kr/api/StatisticSearch/{api_key}/{data_type}/kr/1/100000/{code[0][0]}/{period}/{start_date}/{finish_date}/{code[0][1]}//'\n",
    "koribor_return_rate_url = f'http://ecos.bok.or.kr/api/StatisticSearch/{api_key}/{data_type}/kr/1/100000/{code[1][0]}/{period}/{start_date}/{finish_date}/{code[1][1]}//'"
   ]
  },
  {
   "cell_type": "code",
   "execution_count": null,
   "id": "substantial-crest",
   "metadata": {},
   "outputs": [],
   "source": [
    "def EcosGetData(api_key, dtype, period, start_date, finish_date, tcode, icode):\n",
    "    \n",
    "    url = f'http://ecos.bok.or.kr/api/StatisticSearch/{api_key}/{data_type}/kr/1/100000/{tcode}/{period}/{start_date}/{finish_date}/{icode}//'\n",
    "    \n",
    "    \n",
    "    "
   ]
  },
  {
   "cell_type": "code",
   "execution_count": null,
   "id": "medieval-vancouver",
   "metadata": {},
   "outputs": [],
   "source": []
  },
  {
   "cell_type": "code",
   "execution_count": null,
   "id": "exterior-hours",
   "metadata": {},
   "outputs": [],
   "source": []
  },
  {
   "cell_type": "code",
   "execution_count": null,
   "id": "powered-burning",
   "metadata": {},
   "outputs": [],
   "source": []
  },
  {
   "cell_type": "code",
   "execution_count": null,
   "id": "thorough-north",
   "metadata": {},
   "outputs": [],
   "source": []
  },
  {
   "cell_type": "code",
   "execution_count": null,
   "id": "accessory-value",
   "metadata": {},
   "outputs": [],
   "source": []
  }
 ],
 "metadata": {
  "kernelspec": {
   "display_name": "Python 3",
   "language": "python",
   "name": "python3"
  },
  "language_info": {
   "codemirror_mode": {
    "name": "ipython",
    "version": 3
   },
   "file_extension": ".py",
   "mimetype": "text/x-python",
   "name": "python",
   "nbconvert_exporter": "python",
   "pygments_lexer": "ipython3",
   "version": "3.7.9"
  }
 },
 "nbformat": 4,
 "nbformat_minor": 5
}
