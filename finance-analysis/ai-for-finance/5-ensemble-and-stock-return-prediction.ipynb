{
 "cells": [
  {
   "cell_type": "markdown",
   "id": "tested-prospect",
   "metadata": {},
   "source": [
    "# 앙상블과 주가수익률 예측\n",
    "앙상블 전략과 Sentiment Analysis 활용을 투자 전략에 활용하기\n",
    "\n",
    "- 학습내용\n",
    "    - 모멘텀 요인 / 한국은행 API 소개\n",
    "    - 주가 자료 다운로드 / 수익률, 수준, 모멘텀 데이터 준비\n",
    "    - 기초통계 (상관곤계 확인 > feature selection)\n",
    "    - 선형회귀(feature selection) / 선형회귀 모형\n",
    "    - 앙상블 모형과 성과 비교\n",
    "- 학습목표\n",
    "    - 분석에 필요한 자료를 다운로드할 수 있다\n",
    "    - 앙상블 모형과 선형회귀모형을 비교하고 분석할 수 있다\n",
    "    - 실제 주가수익률 예측에 적용할 수 있다"
   ]
  },
  {
   "cell_type": "code",
   "execution_count": null,
   "id": "sophisticated-nightmare",
   "metadata": {},
   "outputs": [],
   "source": []
  },
  {
   "cell_type": "markdown",
   "id": "healthy-tuition",
   "metadata": {},
   "source": [
    "## 모멘텀 요인 (Momentum Factor)\n",
    "- 물리학\n",
    "    - 어떤 물체가 주어진 축을 중심으로 일어나는 회전운동을 변화시키기 어려운 정도를 나타내는 물리량\n",
    "- Finance\n",
    "    - 고수익을 기록한 주식들은 지속적으로 고수익을 유지하는 경향을 보인다는 개념\n",
    "    \n",
    "### 모멘텀 요인의 발전\n",
    "- Fama-Farnach 3요인 모형 : 주식시장의 이상현상(anomalies) 설명\n",
    "- Jegadeesh and Titman : 모멘텀 관련 논문 발표\n",
    "    - 모멘텀 요인이 Stock Return을 설명하는 Pricing Factor로 자리매김\n",
    "- Carhart : 4요인 모형에 포함\n",
    "    - FF3 Factor + momentum factor\n",
    "    \n",
    "### 모멘텀 요인의 구분\n",
    "- 절대 모멘텀\n",
    "    - Absolute Momentum\n",
    "    - 시계열모멘텀 (Time-series momentum)\n",
    "    - 추세추종 (Trend Following)\n",
    "- 상대 모멘텀\n",
    "    - 기준재(numeraire) 주식을 선정하여, 상대가격의 수익률로 모멘텀을 추정\n",
    "    \n",
    "> 실제 투자전략 운용에서는 두 가지 개념의 구분은 크게 중요하지 않음\n",
    "\n",
    "### 모멘텀 요인의 투자전략 적용\n",
    "- 특정 기간을 비교해 기간 중 수익률에 따라 서열화\n",
    "- 상위(고수익) 주식 매수\n",
    "- 하위(저수익) 주식 매도(공매도)\n",
    "    - Long, short 전략을 동시에 취해 위험 최소화, 수익 극대화 전략\n",
    "    \n",
    "## 한국은행 Open API\n",
    "- 환율, 이자율 및 거시경제 관련 데이터 다운로드 ([Link](http://ecos.bok.or.kr/jsp/openapi/OpenApiController.jsp?t=main))\n",
    "    - 회원가입 절차 진행 후 OPEN API 인증키 신청, 생성\n",
    "    - [API 사용 참고 - 블로그 포스팅](https://bjecondata.blogspot.com/2019/08/blog-post_7.html)"
   ]
  },
  {
   "cell_type": "code",
   "execution_count": 10,
   "id": "noted-match",
   "metadata": {},
   "outputs": [],
   "source": [
    "import numpy as np\n",
    "import pandas as pd\n",
    "import pandas_datareader as pdr\n",
    "from datetime import datetime\n",
    "import requests\n",
    "from bs4 import BeautifulSoup"
   ]
  },
  {
   "cell_type": "code",
   "execution_count": 16,
   "id": "synthetic-correction",
   "metadata": {},
   "outputs": [],
   "source": [
    "api_key = 'T0OXEM1G4MBFJRZ1OM6M'\n",
    "data_type = 'xml'\n",
    "period = 'DD'\n",
    "start_date = '20100101'\n",
    "finish_date = '20201130'\n",
    "code = [('028Y001', 'BEEA21'), ('028Y001', 'BEEA220')] # 첫번째 CD유통수익률, 두번째 KORIBOR 금리(12월물)"
   ]
  },
  {
   "cell_type": "code",
   "execution_count": 8,
   "id": "tracked-parent",
   "metadata": {},
   "outputs": [],
   "source": [
    "cd_return_rate_url = f'http://ecos.bok.or.kr/api/StatisticSearch/{api_key}/{data_type}/kr/1/100000/{code[0][0]}/{period}/{start_date}/{finish_date}/{code[0][1]}//'\n",
    "koribor_return_rate_url = f'http://ecos.bok.or.kr/api/StatisticSearch/{api_key}/{data_type}/kr/1/100000/{code[1][0]}/{period}/{start_date}/{finish_date}/{code[1][1]}//'"
   ]
  },
  {
   "cell_type": "code",
   "execution_count": 13,
   "id": "conceptual-luxury",
   "metadata": {},
   "outputs": [],
   "source": [
    "def EcosGetData(api_key, dtype, period, start_date, finish_date, tcode, icode):\n",
    "    \n",
    "    url = f'http://ecos.bok.or.kr/api/StatisticSearch/{api_key}/{data_type}/kr/1/100000/{tcode}/{period}/{start_date}/{finish_date}/{icode}//'\n",
    "    print(url)\n",
    "    \n",
    "    raw = requests.get(url)\n",
    "    xml = BeautifulSoup(raw.text, 'xml')\n",
    "    \n",
    "    raw_data = xml.find_all(\"row\")\n",
    "    date_list = []\n",
    "    value_list = []\n",
    "    \n",
    "    for item in raw_data:\n",
    "        value = item.find(\"DATA_VALUE\").text_encode('utf-8')\n",
    "        date_str = item.find('TIME').text\n",
    "        \n",
    "        try:\n",
    "            value = float(value)\n",
    "        except:\n",
    "            value = np.nan\n",
    "            \n",
    "        date_list.append(datetime.datetime.strptime(date_str, '%Y%m'))\n",
    "        value_list.append(value)\n",
    "        \n",
    "    df = pd.DataFrame(index = date_list)\n",
    "    df['%s' % (icode)] = value_list\n",
    "    \n",
    "    return df\n",
    "    "
   ]
  },
  {
   "cell_type": "code",
   "execution_count": 14,
   "id": "handled-testing",
   "metadata": {},
   "outputs": [
    {
     "name": "stdout",
     "output_type": "stream",
     "text": [
      "http://ecos.bok.or.kr/api/StatisticSearch/T0OXEM1G4MBFJRZ1OM6M/xml/kr/1/100000/028Y001/DD/20100101/20201231/BEEA21//\n"
     ]
    },
    {
     "data": {
      "text/html": [
       "<div>\n",
       "<style scoped>\n",
       "    .dataframe tbody tr th:only-of-type {\n",
       "        vertical-align: middle;\n",
       "    }\n",
       "\n",
       "    .dataframe tbody tr th {\n",
       "        vertical-align: top;\n",
       "    }\n",
       "\n",
       "    .dataframe thead th {\n",
       "        text-align: right;\n",
       "    }\n",
       "</style>\n",
       "<table border=\"1\" class=\"dataframe\">\n",
       "  <thead>\n",
       "    <tr style=\"text-align: right;\">\n",
       "      <th></th>\n",
       "      <th>BEEA21</th>\n",
       "    </tr>\n",
       "  </thead>\n",
       "  <tbody>\n",
       "  </tbody>\n",
       "</table>\n",
       "</div>"
      ],
      "text/plain": [
       "Empty DataFrame\n",
       "Columns: [BEEA21]\n",
       "Index: []"
      ]
     },
     "execution_count": 14,
     "metadata": {},
     "output_type": "execute_result"
    }
   ],
   "source": [
    "EcosGetData(api_key, data_type, period, start_date, finish_date, code[0][0], code[0][1])"
   ]
  },
  {
   "cell_type": "code",
   "execution_count": 17,
   "id": "subtle-scheme",
   "metadata": {},
   "outputs": [
    {
     "name": "stdout",
     "output_type": "stream",
     "text": [
      "http://ecos.bok.or.kr/api/StatisticSearch/T0OXEM1G4MBFJRZ1OM6M/xml/kr/1/100000/0000001/DD/20100101/20201130/036Y001//\n"
     ]
    },
    {
     "data": {
      "text/html": [
       "<div>\n",
       "<style scoped>\n",
       "    .dataframe tbody tr th:only-of-type {\n",
       "        vertical-align: middle;\n",
       "    }\n",
       "\n",
       "    .dataframe tbody tr th {\n",
       "        vertical-align: top;\n",
       "    }\n",
       "\n",
       "    .dataframe thead th {\n",
       "        text-align: right;\n",
       "    }\n",
       "</style>\n",
       "<table border=\"1\" class=\"dataframe\">\n",
       "  <thead>\n",
       "    <tr style=\"text-align: right;\">\n",
       "      <th></th>\n",
       "      <th>036Y001</th>\n",
       "    </tr>\n",
       "  </thead>\n",
       "  <tbody>\n",
       "  </tbody>\n",
       "</table>\n",
       "</div>"
      ],
      "text/plain": [
       "Empty DataFrame\n",
       "Columns: [036Y001]\n",
       "Index: []"
      ]
     },
     "execution_count": 17,
     "metadata": {},
     "output_type": "execute_result"
    }
   ],
   "source": [
    "EcosGetData(api_key, data_type, period, start_date, finish_date, '0000001', '036Y001')"
   ]
  },
  {
   "cell_type": "code",
   "execution_count": null,
   "id": "taken-sixth",
   "metadata": {},
   "outputs": [],
   "source": []
  },
  {
   "cell_type": "code",
   "execution_count": null,
   "id": "blind-preference",
   "metadata": {},
   "outputs": [],
   "source": []
  },
  {
   "cell_type": "code",
   "execution_count": null,
   "id": "promotional-judge",
   "metadata": {},
   "outputs": [],
   "source": []
  }
 ],
 "metadata": {
  "kernelspec": {
   "display_name": "Python 3",
   "language": "python",
   "name": "python3"
  },
  "language_info": {
   "codemirror_mode": {
    "name": "ipython",
    "version": 3
   },
   "file_extension": ".py",
   "mimetype": "text/x-python",
   "name": "python",
   "nbconvert_exporter": "python",
   "pygments_lexer": "ipython3",
   "version": "3.7.9"
  }
 },
 "nbformat": 4,
 "nbformat_minor": 5
}
