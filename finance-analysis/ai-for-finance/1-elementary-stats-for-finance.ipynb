{
 "cells": [
  {
   "cell_type": "markdown",
   "id": "wrapped-smith",
   "metadata": {},
   "source": [
    "# 5-1. 기초통계\n",
    "\n",
    "금융 AI에서 등장하는 모든 변수는 확률변수에 해당한다. 확률변수에 대한 이해가 필수적으로 요구된다.\n",
    "\n",
    "## 학습내용\n",
    "- 평균, 분산, 왜도, 첨도\n",
    "- joint distribution\n",
    "- momentum의 특징\n",
    "\n"
   ]
  },
  {
   "cell_type": "code",
   "execution_count": null,
   "id": "comic-phase",
   "metadata": {},
   "outputs": [],
   "source": []
  },
  {
   "cell_type": "code",
   "execution_count": null,
   "id": "enclosed-motorcycle",
   "metadata": {},
   "outputs": [],
   "source": []
  }
 ],
 "metadata": {
  "kernelspec": {
   "display_name": "Python 3",
   "language": "python",
   "name": "python3"
  },
  "language_info": {
   "codemirror_mode": {
    "name": "ipython",
    "version": 3
   },
   "file_extension": ".py",
   "mimetype": "text/x-python",
   "name": "python",
   "nbconvert_exporter": "python",
   "pygments_lexer": "ipython3",
   "version": "3.7.9"
  }
 },
 "nbformat": 4,
 "nbformat_minor": 5
}
