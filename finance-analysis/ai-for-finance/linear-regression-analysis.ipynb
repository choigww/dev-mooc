{
 "cells": [
  {
   "cell_type": "markdown",
   "id": "cubic-canyon",
   "metadata": {},
   "source": [
    "# 회귀분석과 파이썬\n",
    "\n",
    "### 학습내용\n",
    "- 회귀분석과 관련된 파이썬 코드\n",
    "\n",
    "### 학습목표\n",
    "- 실제 주가 자료를 이용하여 파이썬 코드 설명"
   ]
  },
  {
   "cell_type": "code",
   "execution_count": null,
   "id": "signal-reputation",
   "metadata": {},
   "outputs": [],
   "source": []
  },
  {
   "cell_type": "markdown",
   "id": "headed-mistress",
   "metadata": {},
   "source": [
    "## Stock return pricing model\n",
    "capital asset pricing model > CAPM\n",
    "- 시장요인(market factor) 하나만으로 설명\n",
    "- 설명력 부족\n",
    "\n",
    "### 1993년, Fama-French, 두 가지 요인(규모요인, 가치요인) 추가 > 3요인 모형\n",
    "### 2015년, 다시 두 가지 요인 추가(수익성 요인, 투자 요인) > 5요인 모형\n",
    "- stock returnrhk rhksfusehls asset pricing의 벤치마크 모형"
   ]
  },
  {
   "cell_type": "code",
   "execution_count": null,
   "id": "auburn-bahrain",
   "metadata": {},
   "outputs": [],
   "source": []
  },
  {
   "cell_type": "code",
   "execution_count": null,
   "id": "matched-nightmare",
   "metadata": {},
   "outputs": [],
   "source": []
  },
  {
   "cell_type": "code",
   "execution_count": null,
   "id": "directed-makeup",
   "metadata": {},
   "outputs": [],
   "source": []
  },
  {
   "cell_type": "code",
   "execution_count": null,
   "id": "selective-saying",
   "metadata": {},
   "outputs": [],
   "source": []
  },
  {
   "cell_type": "code",
   "execution_count": null,
   "id": "checked-bangladesh",
   "metadata": {},
   "outputs": [],
   "source": []
  },
  {
   "cell_type": "code",
   "execution_count": null,
   "id": "consecutive-basics",
   "metadata": {},
   "outputs": [],
   "source": []
  },
  {
   "cell_type": "code",
   "execution_count": null,
   "id": "ordinary-bikini",
   "metadata": {},
   "outputs": [],
   "source": []
  },
  {
   "cell_type": "code",
   "execution_count": null,
   "id": "grand-workshop",
   "metadata": {},
   "outputs": [],
   "source": []
  },
  {
   "cell_type": "code",
   "execution_count": null,
   "id": "supreme-bachelor",
   "metadata": {},
   "outputs": [],
   "source": []
  }
 ],
 "metadata": {
  "kernelspec": {
   "display_name": "Python 3",
   "language": "python",
   "name": "python3"
  },
  "language_info": {
   "codemirror_mode": {
    "name": "ipython",
    "version": 3
   },
   "file_extension": ".py",
   "mimetype": "text/x-python",
   "name": "python",
   "nbconvert_exporter": "python",
   "pygments_lexer": "ipython3",
   "version": "3.7.9"
  }
 },
 "nbformat": 4,
 "nbformat_minor": 5
}
