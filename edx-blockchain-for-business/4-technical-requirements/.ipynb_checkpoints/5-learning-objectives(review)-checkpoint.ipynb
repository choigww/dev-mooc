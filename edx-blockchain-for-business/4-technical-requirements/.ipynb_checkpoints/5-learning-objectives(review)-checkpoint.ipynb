{
 "cells": [
  {
   "cell_type": "markdown",
   "metadata": {},
   "source": [
    "# Learning Objectives (Review)\n",
    "\n",
    "You should now be able to:\n",
    "* Install cURL.\n",
    "* Install Node.js and npm package manager.\n",
    "* Install Go Language.\n",
    "* Install Docker and Docker Compose.\n",
    "* Install Virtual Box (if you are a Windows user)."
   ]
  },
  {
   "cell_type": "code",
   "execution_count": null,
   "metadata": {},
   "outputs": [],
   "source": []
  }
 ],
 "metadata": {
  "kernelspec": {
   "display_name": "Python 3",
   "language": "python",
   "name": "python3"
  },
  "language_info": {
   "codemirror_mode": {
    "name": "ipython",
    "version": 3
   },
   "file_extension": ".py",
   "mimetype": "text/x-python",
   "name": "python",
   "nbconvert_exporter": "python",
   "pygments_lexer": "ipython3",
   "version": "3.6.2"
  }
 },
 "nbformat": 4,
 "nbformat_minor": 2
}
