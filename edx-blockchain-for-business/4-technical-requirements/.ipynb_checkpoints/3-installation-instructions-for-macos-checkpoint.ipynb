{
 "cells": [
  {
   "cell_type": "markdown",
   "metadata": {},
   "source": [
    "# Installation instructions for MacOS"
   ]
  },
  {
   "cell_type": "code",
   "execution_count": null,
   "metadata": {},
   "outputs": [],
   "source": []
  },
  {
   "cell_type": "markdown",
   "metadata": {},
   "source": [
    "## Installing cURL\n",
    "\n",
    "cURL should be installed on your machine by default. To check, run the following command in your terminal/command line:\n",
    "\n",
    "```$ curl -V```\n",
    "\n",
    "**Note**: The \"V\" is capitalized."
   ]
  },
  {
   "cell_type": "code",
   "execution_count": null,
   "metadata": {},
   "outputs": [],
   "source": []
  },
  {
   "cell_type": "markdown",
   "metadata": {},
   "source": [
    "## Installing `Node.js` and `npm`\n",
    "\n",
    "* Visit https://nodejs.org/en/download/ for details about installing or updating `Node.js` and `npm` for **MacOS**.\n",
    "* Verify the installation, as well as the versions of both `Node.js` and `npm`, and \n",
    "  * make sure the Node.js version you are installing is greater than v6.9 (do not use v7), and the npm version is greater than 3.x:\n",
    "\n",
    "```\n",
    "$ node --version && npm --version\n",
    "```"
   ]
  },
  {
   "cell_type": "code",
   "execution_count": null,
   "metadata": {},
   "outputs": [],
   "source": []
  },
  {
   "cell_type": "markdown",
   "metadata": {},
   "source": [
    "## Installing Go Language (Part I)\n",
    "\n",
    "Visit https://golang.org/dl/ and make note of the latest stable release (v1.8 or later):\n",
    "\n",
    "`$ cd ~`<br>\n",
    "`$ sudo curl -O https://storage.googleapis.com/golang/`**go1.9.2.darwin-amd64.pkg**\n",
    "\n",
    "* **Note**: Switch out the black-bold portion of the URL with the correct filename.\n",
    "\n",
    "Open the downloaded file to run the installation package:\n",
    "\n",
    "```\n",
    "$ open go1.9.2.darwin-amd64.pkg\n",
    "```\n",
    "\n",
    "After completing the installation, go will have been installed at /usr/local/bin/go. You can check by running:\n",
    "\n",
    "```\n",
    "$ which go\n",
    "```"
   ]
  },
  {
   "cell_type": "code",
   "execution_count": null,
   "metadata": {},
   "outputs": [],
   "source": []
  },
  {
   "cell_type": "markdown",
   "metadata": {},
   "source": [
    "## Installing Go Language (Part II)\n",
    "\n",
    "Now, we will need to add **environment variables** to make sure that the source code is located within the `$GOPATH`. You will need to have a single workplace for all your Go projects.<br>\n",
    "\n",
    "First, you will need to check that you have set your `$GOPATH` environment variable:\n",
    "\n",
    "```\n",
    "$ echo $GOPATH\n",
    "```\n",
    "\n",
    "And you should get the following response:\n",
    "\n",
    "```\n",
    "/Users/xxx/go\n",
    "```\n",
    "\n",
    "If there is no response, you will tell Go the location of our chosen workspace, by modifying the `.profile` file located in your home directory:\n",
    "\n",
    "```\n",
    "$ nano ~/.profile\n",
    "```\n",
    "* **Note**: If you want, you can use `vim` or `vi` to edit this file, instead of `nano`.<br>\n",
    "\n",
    "Within this file, add the following two lines, to export the required variables:\n",
    "\n",
    "```\n",
    "$ export GOPATH=$HOME/go\n",
    "$ export PATH=$PATH:$GOPATH/bin\n",
    "```\n",
    "* **Note**: To save in nano, press Control + O and then, press Enter.\n",
    "* **Note**: To exit and navigate back to clear shell, press Control + x.\n",
    "\n",
    "Rerun `.profile` to run these new paths:\n",
    "\n",
    "```\n",
    "$ source .profile\n",
    "```\n",
    "\n",
    "Check that the Go version is v1.8 or later:\n",
    "\n",
    "```\n",
    "$ go version\n",
    "```"
   ]
  },
  {
   "cell_type": "code",
   "execution_count": null,
   "metadata": {},
   "outputs": [],
   "source": []
  },
  {
   "cell_type": "markdown",
   "metadata": {},
   "source": [
    "## Downloading Docker\n",
    "\n",
    "To download Docker, you are required to have OSX Yosemite 10.10.3, or above. Otherwise, for previous OS versions, you should download [Docker Toolbox](https://www.docker.com/products/docker-toolbox).\n",
    "* **Note**: Installing Docker for Mac or Docker Toolbox will also install Docker Compose. If you already have Docker installed, you should check that you have Docker Compose version 1.9.0 or greater installed. If not, we recommend that you install a more recent version of Docker.\n",
    "\n",
    "This VM will host the Hyperledger Fabric peers and other network nodes. Visit https://www.docker.com/docker-mac and click \"Download from Docker Store\".<br>\n",
    "\n",
    "Check to make sure that you have version 17.03.1-ce or greater:\n",
    "\n",
    "```\n",
    "$ docker --version && docker-compose --version\n",
    "```"
   ]
  },
  {
   "cell_type": "code",
   "execution_count": null,
   "metadata": {},
   "outputs": [],
   "source": []
  },
  {
   "cell_type": "markdown",
   "metadata": {},
   "source": [
    "## [[Demo Video] Technical Prerequisites for Mac Users](https://youtu.be/rNC1kp--QFc)"
   ]
  },
  {
   "cell_type": "code",
   "execution_count": null,
   "metadata": {},
   "outputs": [],
   "source": []
  }
 ],
 "metadata": {
  "kernelspec": {
   "display_name": "Python 3",
   "language": "python",
   "name": "python3"
  },
  "language_info": {
   "codemirror_mode": {
    "name": "ipython",
    "version": 3
   },
   "file_extension": ".py",
   "mimetype": "text/x-python",
   "name": "python",
   "nbconvert_exporter": "python",
   "pygments_lexer": "ipython3",
   "version": "3.6.2"
  }
 },
 "nbformat": 4,
 "nbformat_minor": 2
}
