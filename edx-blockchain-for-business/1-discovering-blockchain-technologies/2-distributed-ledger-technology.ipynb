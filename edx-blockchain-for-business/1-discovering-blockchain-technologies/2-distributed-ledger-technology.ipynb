{
 "cells": [
  {
   "cell_type": "markdown",
   "metadata": {},
   "source": [
    "# Distrubited Ledger Technology (DLT)"
   ]
  },
  {
   "cell_type": "code",
   "execution_count": null,
   "metadata": {},
   "outputs": [],
   "source": []
  },
  {
   "cell_type": "markdown",
   "metadata": {},
   "source": [
    "## Background - The Rising Interest in Distributed Ledger Technologies\n",
    "\n",
    "Looking back to the last half century of computer technologies and architectures, one may observe **a trend of fluctuation between the centralization and subsequent decentralization of computing power, storage, infrastructure, protocols, and code**.<br>\n",
    "\n",
    "Mainframe computers are largely **centralized**. They typically **house all computing power, memory, data storage, and code**. Access to mainframes is mainly by 'dumb terminals', which only take inputs and outputs, and do not store or process data.<br>\n",
    "\n",
    "With the advent of personal computers and private networks, **similar computational capabilities were now housed both on the clients, as well as the servers. This, in part, gave rise to the 'client-server' architecture, which supported the development of relational database systems.** Massive data sets, which are housed on mainframes, could move onto a distributed architecture. This data could replicate from server to server, and subsets of the data could be accessed and processed on clients, and then, synced back to the server.<br>\n",
    "\n",
    "Over time, Internet and cloud computing architectures enabled global access from a variety of computing devices; whereas mainframes were largely designed to address the needs of large corporations and governments. **Even though this 'cloud architecture' is decentralized in terms of hardware, it has given rise to application-level centralization** (e.g. Facebook, Twitter, Google, etc).<br>\n",
    "\n",
    "Currently, we are witnessing the transition from centralized computing, storage, and processing to decentralized architectures and systems. According to [Muneeb Ali](https://medium.com/@muneeb/the-next-wave-of-computing-743295b4bc73), these systems aim to\n",
    "\n",
    "> \"give **explicit control of digital assets to end-users** and\n",
    "**remove the need to trust any third-party servers and infrastructure**\".\n",
    "\n",
    "Distributed ledger technology is one of the key innovations making this shift possible."
   ]
  },
  {
   "cell_type": "code",
   "execution_count": null,
   "metadata": {},
   "outputs": [],
   "source": []
  },
  {
   "cell_type": "markdown",
   "metadata": {},
   "source": [
    "A **distributed ledger** is a type of data structure which resides across multiple computer devices, generally spread across locations or regions.<br>\n",
    "\n",
    "**Distributed Ledger Technology** includes blockchain technologies and smart contracts. While distributed ledgers existed prior to Bitcoin, the Bitcoin blockchain marks the convergence of a host of technologies, including timestamping of transactions, Peer-to-Peer (P2P) networks, cryptography, and shared computational power, along with a new consensus algorithm. <br>\n",
    "\n",
    "In summary, distributed ledger technology generally consists of [three basic components](https://intelledger.github.io/introduction.html):\n",
    "\n",
    "* A **data model** that captures the current state of the ledger\n",
    "* A **language of transactions** that changes the ledger state\n",
    "* A **protocol** used to build consensus among participants around which transactions will be accepted, and in what order, by the ledger."
   ]
  },
  {
   "cell_type": "code",
   "execution_count": null,
   "metadata": {},
   "outputs": [],
   "source": []
  },
  {
   "cell_type": "markdown",
   "metadata": {},
   "source": [
    "## Blockchain Technology (Robert Schwentker)\n",
    "\n",
    "https://youtu.be/wphKFa62pho\n",
    "\n",
    "> \"A blockchain is a peer-to-peer distributed ledger, forged by consensus, combined with a system for smart contracts and other assistive technologies.\"\n",
    "\n",
    "> \"Together, these can be used to build a new generation of transactional applications that establish trust, accountability, and transparency at their core, while streamlining business processes and legal constraints.\"\n",
    "\n",
    "> \"With all distributed ledgers, there's an initial record or, in this case, a block, or a genesis block.\n",
    "\"\n",
    "\n",
    "> \"Each block will include one or more transactions.\"\n",
    "\n",
    "> \"Connecting to a blockchain involves people connecting to this distributed ledger via, typically, an application.\"\n",
    "\n",
    "> \"(So,) the process of blockchains syncing up have to do with a concept of consensus - an agreement among the network peers.\n",
    "So, eventually, each machine has an exact copy of the blockchain throughout the network.\""
   ]
  },
  {
   "cell_type": "code",
   "execution_count": null,
   "metadata": {},
   "outputs": [],
   "source": []
  },
  {
   "cell_type": "markdown",
   "metadata": {},
   "source": [
    "## Blockchains\n",
    "\n",
    "> \"A blockchain is a peer-to-peer distributed ledger forged by consensus, combined with a system for \"smart contracts\" and other assistive technologies.\"\n",
    "\n",
    "**Smart contracts** are simply computer programs that execute predefined actions when certain conditions within the system are met.<br>\n",
    "\n",
    "**Consensus** refers to a system of ensuring that parties agree to a certain state of the system as the true state."
   ]
  },
  {
   "cell_type": "code",
   "execution_count": null,
   "metadata": {},
   "outputs": [],
   "source": []
  },
  {
   "cell_type": "markdown",
   "metadata": {},
   "source": [
    "## The Difference between DLT and Blockchains (Brian Behlendorf)\n",
    "\n",
    "https://youtu.be/02IAHzvCh34\n",
    "\n",
    "### 'The difference between distributed ledger technology and blockchian technology?'\n",
    "\n",
    "<br>\n",
    "* **Distributed Ledger Technology**\n",
    "  * a specific way to talk about a new kind of decentralized database that every participator has a copy of a series of transactions that is kept absolutely in sync.\n",
    "\n",
    "\n",
    "* **Blockchain**\n",
    "  * the specific term for that data structure used to be called blockchain\n",
    "  * but nowadays people apply the term 'blockchain' to anything on the spectrum - from cryptocurrencies to enterprise deployments of DLTs;\n",
    "  * so 'blockchain' has become like the term 'internet' like a term used so broad."
   ]
  },
  {
   "cell_type": "code",
   "execution_count": null,
   "metadata": {},
   "outputs": [],
   "source": []
  },
  {
   "cell_type": "markdown",
   "metadata": {},
   "source": [
    "## Blockchains (continued)\n",
    "\n",
    "**Blockchain** is a specific form or subset of distributed ledger technologies, which constructs a chronological chain of blocks, hence the name 'block-chain'. <br>\n",
    "\n",
    "### A block refers to a set of transactions that are bundled together and added to the chain at the same time. \n",
    "\n",
    "In the Bitcoin blockchain, the miner nodes bundle unconfirmed and valid transactions into a block. Each block contains a given number of transactions. In the Bitcoin network, miners must solve a cryptographic challenge to propose the next block. This process is known as **'proof of work'**, and requires significant computing power. We shall discuss proof of work in more detail in the Consensus Algorithms section. For a brief history of blockchain technology, please click [here](https://hbr.org/2017/02/a-brief-history-of-blockchain).<br>\n",
    "\n",
    "**Timestamping** is another key feature of blockchain technology. Each block is timestamped, with each new block referring to the previous block. Combined with **cryptographic hashes**, this timestamped chain of blocks provides an immutable record of all transactions in the network, from the very first (or genesis) block.<br>\n",
    "\n",
    "A block commonly consists of four pieces of metadata:\n",
    "\n",
    "* The reference to the previous block\n",
    "* The proof of work, also known as a nonce\n",
    "* The timestamp\n",
    "* The Merkle tree root for the transactions included in this block."
   ]
  },
  {
   "cell_type": "code",
   "execution_count": null,
   "metadata": {},
   "outputs": [],
   "source": []
  },
  {
   "cell_type": "markdown",
   "metadata": {},
   "source": [
    "## Merkle Tree\n",
    "\n",
    "The **Merkle tree**, also known as a **binary hash tree**, is a **data structure that is used to store hashes of the individual data** in large datasets in a way **to make the verification of the dataset efficient**. <br>\n",
    "\n",
    "It is an anti-tamper mechanism to ensure that the large dataset has not been changed. The word `'tree'` is used to refer to a **branching data structure in computer science**, as seen in the image below. According to Andreas M. Antonopoulos, in the Bitcoin protocol,\n",
    "\n",
    "> \"Merkle trees are used to summarize all the transactions in a block, producing an overall digital fingerprint of the entire set of transactions, providing a very efficient process to verify whether a transaction is included in a block.\"\n",
    "\n",
    "![https://prod-edxapp.edx-cdn.org/assets/courseware/v1/5bef2699f0c33f98eb3ccb6c2526b447/asset-v1:LinuxFoundationX+LFS171x+3T2017+type@asset+block/Bitcoin_Block_Data.png](https://prod-edxapp.edx-cdn.org/assets/courseware/v1/5bef2699f0c33f98eb3ccb6c2526b447/asset-v1:LinuxFoundationX+LFS171x+3T2017+type@asset+block/Bitcoin_Block_Data.png)\n",
    "\n",
    "Bitcoin Block Data (licensed under [Creative Commons](https://en.wikipedia.org/wiki/Creative_Commons) Attribution-[Share-Alike 3.0 Unported](https://creativecommons.org/licenses/by-sa/3.0/deed.en), retrieved from [Wikipedia](https://commons.wikimedia.org/wiki/File:Bitcoin_Block_Data.png))\n",
    "\n",
    "For an in-depth discussion on Merkle trees, see: http://chimera.labs.oreilly.com/books/1234000001802/ch07.html#_structure_of_a_block).\n"
   ]
  },
  {
   "cell_type": "code",
   "execution_count": null,
   "metadata": {},
   "outputs": [],
   "source": []
  },
  {
   "cell_type": "markdown",
   "metadata": {},
   "source": [
    "## What is a Blockchain? (Dave Huseby)\n",
    "\n",
    "https://youtu.be/31Uyf0uKFK8\n",
    "\n",
    "To learn more about blockchain, you can watch Bettina Warburg's video,  [How the Blockchain will radically transform the economy](https://www.ted.com/talks/bettina_warburg_how_the_blockchain_will_radically_transform_the_economy)."
   ]
  },
  {
   "cell_type": "code",
   "execution_count": null,
   "metadata": {},
   "outputs": [],
   "source": []
  },
  {
   "cell_type": "markdown",
   "metadata": {},
   "source": [
    "## Transactions\n",
    "\n",
    "The record of an event, cryptographically secured with a digital signature, that is verified, ordered, and bundled together into blocks, form the **transactions** in the blockchain. In the Bitcoin blockchain, transactions involve the transfer of bitcoins, while in other blockchains, transactions may involve the transfer of any asset or a record of some service being rendered. Furthermore, a smart contract within the blockchain may allow automatic execution of transactions upon meeting predefined criteria.<br>\n",
    "\n",
    "**Cryptography** has a key role to play both in the security, as well as in the immutability of the transactions recorded on blockchains. Cryptography is the study of the techniques used to allow secure communication between different parties and to ensure the authenticity and immutability of the data being communicated. For blockchain technologies, cryptography is used to prove that a transaction was created by the right person. It is also used to link transactions into a block in a tamper-proof way, as well as create the links between blocks, to form a blockchain."
   ]
  },
  {
   "cell_type": "code",
   "execution_count": null,
   "metadata": {},
   "outputs": [],
   "source": []
  },
  {
   "cell_type": "markdown",
   "metadata": {},
   "source": [
    "## Differences between Blockchains and Databases\n",
    "\n",
    "Blockchain technology has some key differentiators from databases. <br>\n",
    "\n",
    "### A blockchain is a write-only data structure, where new entries get appended onto the end of the ledger. \n",
    "Every new block gets appended to the block chain by linking to the previous block's `'hash'` (you can check the Glossary tab for a refresher on hash functions). There are no administrator permissions within a blockchain that allow editing or deleting of data.\n",
    "\n",
    "### In a relational database, data can be easily modified or deleted. \n",
    "Typically, there are database administrators who may make changes to any part of the data and/or its structure. Additionally, blockchains were designed for decentralized applications, whereas relational databases, in general, were originally designed for centralized applications, where a single entity controls the data.\n",
    "\n",
    "![https://prod-edxapp.edx-cdn.org/assets/courseware/v1/d387060c18e43cb6f676f10c56443ce7/asset-v1:LinuxFoundationX+LFS171x+3T2017+type@asset+block/Centralized_Databases_vs_Blockchain.png](https://prod-edxapp.edx-cdn.org/assets/courseware/v1/d387060c18e43cb6f676f10c56443ce7/asset-v1:LinuxFoundationX+LFS171x+3T2017+type@asset+block/Centralized_Databases_vs_Blockchain.png)\n",
    "\n"
   ]
  },
  {
   "cell_type": "code",
   "execution_count": null,
   "metadata": {},
   "outputs": [],
   "source": []
  },
  {
   "cell_type": "markdown",
   "metadata": {},
   "source": [
    "## Types of Blockchains\n",
    "\n",
    "![https://prod-edxapp.edx-cdn.org/assets/courseware/v1/4c3c4fb5206767b4fe0a5b9aaa201ed3/asset-v1:LinuxFoundationX+LFS171x+3T2017+type@asset+block/Types_of_Blockchains.png](https://prod-edxapp.edx-cdn.org/assets/courseware/v1/4c3c4fb5206767b4fe0a5b9aaa201ed3/asset-v1:LinuxFoundationX+LFS171x+3T2017+type@asset+block/Types_of_Blockchains.png)\n",
    "\n",
    "A blockchain can be both **permissionless** (like Bitcoin or Ethereum) or **permissioned** (like the different Hyperledger blockchain frameworks). A permissionless blockchain is also known as a public blockchain, because anyone can join the network. A permissioned blockchain, or private blockchain, requires pre-verification of the participating parties within the network, and these parties are usually known to each other.<br>\n",
    "\n",
    "The choice between permissionless versus permissioned blockchains should be driven by the particular application at hand (or use case). Most enterprise use cases involve extensive vetting before parties agree to do business with each other. \n",
    "* An example where a number of businesses exchange information is the supply chain management. \n",
    "* The supply chain management is an ideal use case for permissioned blockchains. You would not want non-vetted companies participating in the network. Each participant that is involved in the supply chain would require permissions to execute transactions on the blockchain. These transactions would allow other companies to understand where in the supply chain a particular item is.\n",
    "\n",
    "On the contrary, when a network can 'commoditize' trust, facilitating parties to **transact without necessarily having to verify each other's identity, like the Bitcoin blockchain, a permissionless blockchain is more suitable**. Many of these instances involve the sale or distribution to the public. Cryptocurrencies and Initial Coin Offerings (which are not backed by national governments) usually involve implementations of permissionless blockchains.<br>\n",
    "\n",
    "You will learn about a variety of use cases in Chapter 3, *The Promise of Business Blockchain Technologies*."
   ]
  },
  {
   "cell_type": "code",
   "execution_count": null,
   "metadata": {},
   "outputs": [],
   "source": []
  },
  {
   "cell_type": "markdown",
   "metadata": {},
   "source": [
    "## Peer-to-Peer Network Architecture\n",
    "\n",
    "Historically, most applications utilize a central server (or servers). For one user/client to send a message to another user/client in the network, the request has to be sent to the hub or a central server, which then directs it to the right computer.<br>\n",
    "\n",
    "Peer-to-peer (P2P) networks were first made popular by Napster (and later BitTorrent) and consist of computer systems which are directly connected to each other via the Internet, without a central server. Peers contribute to the computing power and storage that is required for the upkeep of the network. P2P networks are generally considered to be more secure than centralized networks, as they do not have a single point of attack, as in the case of a server-based network, where the security of the entire network can be compromised if the central server is successfully attacked. As a result, large corporations invest significant amounts of financial resources to fortify their central servers, and yet, a total cost of $445 billion to the global economy in cyberspace crimes was estimated by the World Economic Forum's [2016 Global Risk Report](https://www.weforum.org/reports/the-global-risks-report-2016).<br>\n",
    "\n",
    "Permissionless P2P systems do not require a set amount of peers to be online and are generally slower. Permissioned P2P networks have to guarantee uptime and require a high level of quality of service on the communication links.\n",
    "\n",
    "![https://prod-edxapp.edx-cdn.org/assets/courseware/v1/99e70ee58cba3930923df89a997e65be/asset-v1:LinuxFoundationX+LFS171x+3T2017+type@asset+block/Network_Architectures.png](https://prod-edxapp.edx-cdn.org/assets/courseware/v1/99e70ee58cba3930923df89a997e65be/asset-v1:LinuxFoundationX+LFS171x+3T2017+type@asset+block/Network_Architectures.png)\n"
   ]
  },
  {
   "cell_type": "code",
   "execution_count": null,
   "metadata": {},
   "outputs": [],
   "source": []
  },
  {
   "cell_type": "markdown",
   "metadata": {},
   "source": [
    "## Peer-to-Peer Network (Robert Schwentker)\n",
    "\n",
    "https://youtu.be/Yv8YWmKEBlk\n",
    "\n",
    "> \"A blockchain network is a group of computers that informally are organized in a Peer-to-Peer architecture.\"\n",
    "\n",
    "> \"Consensus is a process whereby the peers synchronize the data on the blockchain.\"\n",
    "\n",
    "[**Conensus mechanisms/ algorithms**]\n",
    "* Proof of Work (Bitcoin)\n",
    "* Proof of Stake (Etherium)\n",
    "* Proof of Elapsed Time (Hyperledger Sawtooth)\n",
    "* Simplified Byzantine Fault Tolerance"
   ]
  },
  {
   "cell_type": "code",
   "execution_count": null,
   "metadata": {},
   "outputs": [],
   "source": []
  },
  {
   "cell_type": "markdown",
   "metadata": {},
   "source": [
    "## Immutality of Data\n",
    "\n",
    "The immutability of the data which sits on the blockchain is perhaps the most powerful and convincing reason to deploy blockchain-based solutions for a variety of socio-economic processes which are currently recorded on centralized servers. <br>\n",
    "\n",
    "### This **immutability**, or **'unchanging over time'** feature makes the blockchain useful for:\n",
    "* accounting, financial transactions, identity management, and asset ownership, management and transfer, just to name a few examples. \n",
    "\n",
    "Once a transaction is written onto the blockchain, no one can change it, or, at least, it would be extremely difficult to change it.<br>\n",
    "\n",
    "According to [Antony Lewis](https://www.linkedin.com/pulse/gentle-introduction-immutability-blockchains-antony-lewis/), the Director of Research at R3,\n",
    "\n",
    "> \"When people say that blockchains are immutable, they don't mean that the data can't be changed, they mean it is extremely hard to change without collusion, and if you try, it's extremely easy to detect the attempt.\"\n",
    "\n",
    "Let's dig into this statement a bit further. **It is extremely hard to change the transactions in a blockchain, because each block is linked to the previous block by including the previous block's hash**. This hash includes the Merkle root hash of all the transactions in the previous block. If a single transaction were to change, not only would the Merkle root hash change, but so too would the hash contained in the changed block. In addition, each subsequent block would need to be updated to reflect this change. In the case of proof of work, the amount of energy required to recalculate the nonce for this block and each subsequent block would be prohibitive. On the other hand, if someone did modify a transaction in a block without going through the necessary steps to update the subsequent blocks, it would be easy to recalculate the hashes used in the blocks and determine that something is amiss.<br>\n",
    "\n",
    "Let's look at an example of how this works. In the following diagram, we see the original blocks and the transactions for Block 11. Specifically, we see that the Merkle root for the transactions in Block 11 is **`Hash #ABCD`**, which is the combined hash for the four transactions in this block. Now, let's say that someone comes in and attempts to change Transaction A to Transaction A'. This, in turn, modifies the hashes that are stored in the Merkle tree, and the Merkle root changes to **`Hash #A'BCD`**. In addition, the Previous Block hash stored in Block 12 also needs to be modified to reflect the overall change in the hash for Block 11.\n",
    "\n",
    "![https://prod-edxapp.edx-cdn.org/assets/courseware/v1/7b24ffd61a0fcdc9c147463892a273da/asset-v1:LinuxFoundationX+LFS171x+3T2017+type@asset+block/BLOCKCHAIN_IMMUTABILITY.png](https://prod-edxapp.edx-cdn.org/assets/courseware/v1/7b24ffd61a0fcdc9c147463892a273da/asset-v1:LinuxFoundationX+LFS171x+3T2017+type@asset+block/BLOCKCHAIN_IMMUTABILITY.png)"
   ]
  },
  {
   "cell_type": "code",
   "execution_count": null,
   "metadata": {},
   "outputs": [],
   "source": []
  },
  {
   "cell_type": "markdown",
   "metadata": {},
   "source": [
    "## Blockchain Applications\n",
    "\n",
    "Since blockchain is a new form of digital infrastructure, applications built on top of a blockchain provide a gateway to accessing information that sits on that blockchain. In other words, clients/users interact with the blockchain through applications. Starting from the simple wallets that hold bitcoins, sophisticated applications which encompass applications addressing digital identity (e.g. UPort, KYC-Chain, Netki, etc.), and complex financial transactions are being built on the blockchain.<br>\n",
    "\n",
    "A more exhaustive list of companies using blockchain technology for identity management and authentication can be found [here](https://letstalkpayments.com/22-companies-leveraging-blockchain-for-identity-management-and-authentication/).<br>\n",
    "\n",
    "For more details about blockchain applications, you can refer to Daniel Palmer's article at [coindesk.com](https://www.coindesk.com/7-cool-decentralized-apps-built-ethereum/)."
   ]
  },
  {
   "cell_type": "code",
   "execution_count": null,
   "metadata": {},
   "outputs": [],
   "source": []
  },
  {
   "cell_type": "markdown",
   "metadata": {},
   "source": [
    "## Smart Contracts\n",
    "\n",
    "### Smart contracts are simply computer programs that execute predefined actions when certain conditions within the system are met. \n",
    "\n",
    "Smart contracts provide the **language of transactions** that allow the ledger state to be modified. They can facilitate the exchange and transfer of anything of value (e.g. shares, money, content, property).\n",
    "\n",
    "![https://prod-edxapp.edx-cdn.org/assets/courseware/v1/ec30b3736f17bdbbc1a7bc6e08380094/asset-v1:LinuxFoundationX+LFS171x+3T2017+type@asset+block/Blockchain_and_Smar_Contracts_-_Flow_Diagram.png](https://prod-edxapp.edx-cdn.org/assets/courseware/v1/ec30b3736f17bdbbc1a7bc6e08380094/asset-v1:LinuxFoundationX+LFS171x+3T2017+type@asset+block/Blockchain_and_Smar_Contracts_-_Flow_Diagram.png)"
   ]
  },
  {
   "cell_type": "code",
   "execution_count": null,
   "metadata": {},
   "outputs": [],
   "source": []
  },
  {
   "cell_type": "markdown",
   "metadata": {},
   "source": [
    "## Smart Contracts (Robert Schwentker)\n",
    "\n",
    "https://youtu.be/hz_yy9N3Eh0\n",
    "\n",
    "> \"You can think of them as computer protocols used to facilitate, verify, or enforce the negotiation of a legal contract.\"\n",
    "\n",
    "> \"A smart contract is a phrase to describe **computer code**.\""
   ]
  },
  {
   "cell_type": "code",
   "execution_count": null,
   "metadata": {},
   "outputs": [],
   "source": []
  }
 ],
 "metadata": {
  "kernelspec": {
   "display_name": "Python 3",
   "language": "python",
   "name": "python3"
  },
  "language_info": {
   "codemirror_mode": {
    "name": "ipython",
    "version": 3
   },
   "file_extension": ".py",
   "mimetype": "text/x-python",
   "name": "python",
   "nbconvert_exporter": "python",
   "pygments_lexer": "ipython3",
   "version": "3.6.2"
  }
 },
 "nbformat": 4,
 "nbformat_minor": 2
}
