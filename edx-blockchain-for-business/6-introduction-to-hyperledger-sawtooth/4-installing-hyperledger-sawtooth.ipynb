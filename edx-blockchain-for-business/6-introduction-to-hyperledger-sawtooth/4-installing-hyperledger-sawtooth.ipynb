{
 "cells": [
  {
   "cell_type": "markdown",
   "metadata": {},
   "source": [
    "# Installing Hyperledger Sawtooth"
   ]
  },
  {
   "cell_type": "code",
   "execution_count": null,
   "metadata": {},
   "outputs": [],
   "source": []
  },
  {
   "cell_type": "markdown",
   "metadata": {},
   "source": [
    "## Technical Prerequisites\n",
    "\n",
    "In order to successfully install Hyperledger Sawtooth, you should be **familiar with Go and Node.js programming languages**, and have the following features installed on your computer: \n",
    "* cURL, Node.js, npm package manager, Go language, Docker, and Docker Compose\n",
    "\n",
    "If you need further details on these prerequisites, visit Chapter 4, *Technical Requirements*."
   ]
  },
  {
   "cell_type": "code",
   "execution_count": null,
   "metadata": {},
   "outputs": [],
   "source": []
  },
  {
   "cell_type": "markdown",
   "metadata": {},
   "source": [
    "## Installing Hyperledger Sawtooth\n",
    "\n",
    "Hyperledger Sawtooth is a suite that permits the creation and utilization of a distributed ledger. Installing Hyperledger Sawtooth will involve adding signing keys for the software creator to our environment, including the repository that contains the code to our system, and performing a typical update/install.<br>\n",
    "\n",
    "Hyperledger Sawtooth validators can be run either from pre-built Docker containers, or natively, using Ubuntu 16.04. In this tutorial, we will demonstrate how to set up Hyperledger Sawtooth using Docker.<br>\n",
    "\n",
    "Our simple Sawtooth environment will include a single validator using the dev-mode consensus, a REST API connected to the validator, transaction processors, and a client container.<br>\n",
    "\n",
    "Download the following Docker Compose file as **sawtooth-default.yaml** at https://raw.githubusercontent.com/hyperledger/education/master/LFS171x/sawtooth-material/sawtooth-default.yaml."
   ]
  },
  {
   "cell_type": "code",
   "execution_count": null,
   "metadata": {},
   "outputs": [],
   "source": []
  },
  {
   "cell_type": "markdown",
   "metadata": {},
   "source": [
    "## Starting Hyperledger Sawtooth\n",
    "\n",
    "We will start by opening a terminal window.<br>\n",
    "\n",
    "You should change your working directory to the same directory where the **`sawtooth-default.yaml`** Docker Compose file is saved.\n",
    "* **Note**: Make sure you do not have anything else running on port 8080 or port 4004.\n",
    "\n",
    "Run the following command:\n",
    "\n",
    "```\n",
    "$ docker-compose -f sawtooth-default.yaml up\n",
    "```\n",
    "\n",
    "This command will download the Docker images that comprise the Hyperledger Sawtooth demo environment. The download will take several minutes. The terminal will start to display containers registering and creating initial blocks.<br>\n",
    "\n",
    "Make sure to have Docker running on your device before running the commands in this section. Otherwise, you will get a similar error to the one below:\n",
    "\n",
    "```\n",
    "ERROR: Couldn't connect to Docker daemon. You might need to start Docker for Mac.\n",
    "```"
   ]
  },
  {
   "cell_type": "code",
   "execution_count": null,
   "metadata": {},
   "outputs": [],
   "source": []
  },
  {
   "cell_type": "markdown",
   "metadata": {},
   "source": [
    "## Logging into the Client Container\n",
    "\n",
    "The client container is used to run Sawtooth CLI commands, which is the usual way to interact with validators or validator networks at this time.<br>\n",
    "\n",
    "Open a new terminal window and navigate to the same directory mentioned in this section.<br>\n",
    "\n",
    "Log into the client container by running the following command:\n",
    "\n",
    "```\n",
    "$ docker exec -it sawtooth-client-default bash\n",
    "```\n",
    "\n",
    "In your terminal, you will see something similar to the following:\n",
    "\n",
    "```\n",
    "root@75b380886502:/#\n",
    "```\n",
    "\n",
    "Your environment is now set up and you are ready to start experimenting with the network. But first, let’s confirm that our validator is up and running, and reachable from the client container. To do this, run the following command:\n",
    "\n",
    "```\n",
    "$ curl http://rest-api:8080/blocks\n",
    "```\n",
    "\n",
    "After running this command, you should see a json object response with “data”, array of batches, header, etc.<br>\n",
    "\n",
    "And, to check the connectivity from the host computer, run the following command **in a new terminal window** (it does not need to be the same directory as mentioned previously in this section):\n",
    "\n",
    "```\n",
    "$ curl http://localhost:8080/blocks\n",
    "```\n",
    "\n",
    "After running this command, you should see a **json** object response with “data”, array of batches, header, etc. "
   ]
  },
  {
   "cell_type": "code",
   "execution_count": null,
   "metadata": {},
   "outputs": [],
   "source": []
  },
  {
   "cell_type": "markdown",
   "metadata": {},
   "source": [
    "## Stopping Hyperledger Sawtooth\n",
    "\n",
    "First, press **Ctrl+C** from the window where you originally ran **docker-compose**.<br>\n",
    "\n",
    "Then, in the terminal, you will see containers stopping. After that, run the following command:\n",
    "\n",
    "```\n",
    "$ docker-compose -f sawtooth-default.yaml down\n",
    "```"
   ]
  },
  {
   "cell_type": "code",
   "execution_count": null,
   "metadata": {},
   "outputs": [],
   "source": []
  },
  {
   "cell_type": "markdown",
   "metadata": {},
   "source": [
    "## Bringing Up a Sample Hyperledger Sawtooth Network (Demo)\n",
    "\n",
    "* [VIDEO](https://youtu.be/0a_vPhCj-So)"
   ]
  },
  {
   "cell_type": "code",
   "execution_count": null,
   "metadata": {},
   "outputs": [],
   "source": []
  }
 ],
 "metadata": {
  "kernelspec": {
   "display_name": "Python 3",
   "language": "python",
   "name": "python3"
  },
  "language_info": {
   "codemirror_mode": {
    "name": "ipython",
    "version": 3
   },
   "file_extension": ".py",
   "mimetype": "text/x-python",
   "name": "python",
   "nbconvert_exporter": "python",
   "pygments_lexer": "ipython3",
   "version": "3.6.2"
  }
 },
 "nbformat": 4,
 "nbformat_minor": 2
}
