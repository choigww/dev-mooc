{
 "cells": [
  {
   "cell_type": "markdown",
   "metadata": {},
   "source": [
    "# Introduction & Learning Objectives"
   ]
  },
  {
   "cell_type": "code",
   "execution_count": null,
   "metadata": {},
   "outputs": [],
   "source": []
  },
  {
   "cell_type": "markdown",
   "metadata": {},
   "source": [
    "## Introduction to Hyperledger Sawtooth\n",
    "### Alexandra & Arianna Groetsema\n",
    "\n",
    "* [VIDEO](https://youtu.be/oFUMUJOjLj4)\n",
    "\n",
    "> \"Hyperledger Sawtooth is an enterprise distributed ledger contributed by Intel, and was one of the first projects to join Linux Foundation's Hyperledger umbrella.\"<br><br>\n",
    "\"This framework is modular, scalable, with an innovative consensus model, unique support for permissioned and permissionless infrastructure,\n",
    "and the potential for incredibly large network sizes.<br><br>\n",
    "Hyperledger Sawtooth allows for confidential transactions, without passing information through a central authority.\""
   ]
  },
  {
   "cell_type": "code",
   "execution_count": null,
   "metadata": {},
   "outputs": [],
   "source": []
  },
  {
   "cell_type": "markdown",
   "metadata": {},
   "source": [
    "## Learning Objectives\n",
    "\n",
    "By the end of this chapter you should be able to:\n",
    "* Understand the basics of Hyperledger Sawtooth v0.8.\n",
    "* Walk through a demonstrated scenario highlighting aspects of Hyperledger Sawtooth.\n",
    "* Discuss crucial components of Hyperledger Sawtooth, including the consensus algorithm ***Proof of Elapsed Time*, transaction families, batches, and validators**.\n",
    "* Set up a running Hyperledger Sawtooth network and test an application.\n",
    "* Get involved in the framework discussion and development."
   ]
  },
  {
   "cell_type": "code",
   "execution_count": null,
   "metadata": {},
   "outputs": [],
   "source": []
  }
 ],
 "metadata": {
  "kernelspec": {
   "display_name": "Python 3",
   "language": "python",
   "name": "python3"
  },
  "language_info": {
   "codemirror_mode": {
    "name": "ipython",
    "version": 3
   },
   "file_extension": ".py",
   "mimetype": "text/x-python",
   "name": "python",
   "nbconvert_exporter": "python",
   "pygments_lexer": "ipython3",
   "version": "3.6.2"
  }
 },
 "nbformat": 4,
 "nbformat_minor": 2
}
