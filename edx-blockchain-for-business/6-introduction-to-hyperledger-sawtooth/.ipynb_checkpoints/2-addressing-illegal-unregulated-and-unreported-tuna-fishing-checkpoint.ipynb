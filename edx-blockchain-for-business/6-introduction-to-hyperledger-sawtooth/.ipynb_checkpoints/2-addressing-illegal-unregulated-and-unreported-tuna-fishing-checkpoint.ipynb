{
 "cells": [
  {
   "cell_type": "markdown",
   "metadata": {},
   "source": [
    "# Addressing Illegal, Unregulated, and Unreported Tuna Fishing \n",
    "### (Demonstrated Scenario)"
   ]
  },
  {
   "cell_type": "code",
   "execution_count": null,
   "metadata": {},
   "outputs": [],
   "source": []
  },
  {
   "cell_type": "markdown",
   "metadata": {},
   "source": [
    "## About the Demonstrated Scenario\n",
    "### Alexandra & Arianna Groetsema\n",
    "\n",
    "* [VIDEO](https://youtu.be/ZzZN0bY2CSo)\n",
    "\n",
    "> \"We will use Hyperledger Sawtooth to bring transparency and clarity to a real world example: the supply chain of tuna fishing.\"<br><br>\n",
    "\"We will be describing how tuna fishing can be improved, starting from the source, fishermen Sarah, and the process by which her tuna ends up at Miriam's restaurant.\"<br><br>\n",
    "\"In between, we'll have other parties involved, such as the tuna processor and regulators, who will verify the validity of the data, and sustainability of the tuna catches.\"<br><br>\n",
    "\"We will be using Hyperledger Sawtooth framework to keep track of each part of this process. Now, as you read through this demonstrated scenario, **pay attention to the hierarchy of actors within the network, and how these actors interact with one another**.\""
   ]
  },
  {
   "cell_type": "code",
   "execution_count": null,
   "metadata": {},
   "outputs": [],
   "source": []
  },
  {
   "cell_type": "markdown",
   "metadata": {},
   "source": [
    "## Defining Our Actors\n",
    "\n",
    "### Sarah \n",
    "is the fisherman who sustainably and legally catches tuna.\n",
    "\n",
    "### Tuna processing plant \n",
    "processes and bags the tuna after they have been caught.\n",
    "\n",
    "### Regulators \n",
    "verify that the tuna has been legally and sustainably caught.\n",
    "\n",
    "### Miriam \n",
    "is a restaurant owner who will serve as the recipient in this situation.\n",
    "\n",
    "![actors](https://prod-edxapp.edx-cdn.org/assets/courseware/v1/3deee7052b123b20c15de7aaf7c3d3fc/asset-v1:LinuxFoundationX+LFS171x+3T2017+type@asset+block/2_-__Sawtooth__Demonstrated_Scenario__1_.jpg)\n",
    "\n",
    "We will be describing how tuna fishing can be improved starting from the source, fisherman Sarah, and the process by which her tuna ends up at Miriam's restaurant."
   ]
  },
  {
   "cell_type": "code",
   "execution_count": null,
   "metadata": {},
   "outputs": [],
   "source": []
  },
  {
   "cell_type": "markdown",
   "metadata": {},
   "source": [
    "## Featured Hyperledger Sawtooth Elements\n",
    "\n",
    "### Transaction validators \n",
    "validate transactions.\n",
    "\n",
    "### Transaction families\n",
    "are **smart contracts** in Hyperledger Sawtooth. \n",
    "* They define the operations that can be applied to transactions. \n",
    "* Transaction families **consist of both transaction processors (the server-side logic) and clients (for use from Web or mobile applications)**.\n",
    "\n",
    "### Transaction processor\n",
    "is the **server-side business logic of transaction families** that acts upon network assets.\n",
    "\n",
    "### Transaction batches\n",
    "are **clusters of transactions** that are either all committed to state or are all not committed to state.\n",
    "\n",
    "### The network layer\n",
    "is responsible for **communicating between validators** in a Hyperledger Sawtooth network, including \n",
    "* performing initial connectivity\n",
    "* peer discovery\n",
    "* message handling\n",
    "\n",
    "### Global state\n",
    "contains the **current state of the ledger and a chain of transaction invocations**. \n",
    "* The state for all transaction families is represented on each validator. \n",
    "* The process of block validation on each validator ensures that the same transactions result in the same state transitions, and that the resulting data is the same for all participants in the network. \n",
    "* The state is **split into namespaces**, which allow **flexibility for transaction family authors to define, share, and reuse global state data** between transaction processors."
   ]
  },
  {
   "cell_type": "code",
   "execution_count": null,
   "metadata": {},
   "outputs": [],
   "source": []
  },
  {
   "cell_type": "markdown",
   "metadata": {},
   "source": [
    "## Why Sawtooth?\n",
    "\n",
    "Miriam is a restaurant owner looking to source high quality tuna, that have been caught responsibly. Whenever Miriam buys tuna, she cannot be sure whether she can trust that the tuna she is purchasing is legally and sustainably caught, given the prominence of illegal and unreported tuna fishing. Luckily, Hyperledger Sawtooth can help!<br>\n",
    "\n",
    "Hyperledger Sawtooth is ideal for this scenario because of its ability to track an asset's (in this case tuna) provenance and journey. The ability to batch transactions together allows for all tuna within a catch to be entered as a whole. The distributed state agreement, novel consensus algorithm, and decoupled business logic from the consensus layer allow Miriam to be confident that she is buying tuna that has been legally caught."
   ]
  },
  {
   "cell_type": "code",
   "execution_count": null,
   "metadata": {},
   "outputs": [],
   "source": []
  },
  {
   "cell_type": "markdown",
   "metadata": {},
   "source": [
    "## The Supply Chain\n",
    "\n",
    "Hyperledger Sawtooth is \n",
    "* **extremely scalable** \n",
    "* **able to withstand high throughput of data**\n",
    "\n",
    "which makes it a great option for production supply chain scenarios.<br>\n",
    "\n",
    "We will start with Sarah, our licensed tuna fisher, who sells her tuna to multiple restaurants. Sarah operates as a private business, in which her company frequently makes international deals. Through an application, Sarah is able to gain entry to a Hyperledger Sawtooth blockchain network comprised of other fishermen, as well as processing plants, regulators, and restaurant owners. Sarah, as  well as the processing plants, have the ability to add and update information to this ledger as tuna passes through the supply chain, while regulators and restaurants have read access to ledger records."
   ]
  },
  {
   "cell_type": "code",
   "execution_count": null,
   "metadata": {},
   "outputs": [],
   "source": []
  },
  {
   "cell_type": "markdown",
   "metadata": {},
   "source": [
    "## The Tuna Asset\n",
    "\n",
    "With each catch, Sarah records some information about each individual tuna, including: \n",
    "* a unique ID number\n",
    "* the location\n",
    "* time of the catch\n",
    "* its weight\n",
    "* who caught the fish\n",
    "\n",
    "For the sake of simplicity, we will stick with these data attributes. However, in an actual application, many more details would be recorded, from toxicology, to other physical characteristics, such as the temperature of the tuna.<br>\n",
    "\n",
    "These details are saved in the global state as a key/value pair based on the specifications of a transaction family, while the transaction processor allows Sarah's application to effectively create a transaction on the ledger. Please see the example below:\n",
    "\n",
    "```\n",
    "$ var tuna = { id: ‘0002’, holder: ‘Sarah’, location: { latitude: '15.623036831528264', longitude: '-158.466796875'}, when: '20170635123546', weight: ‘58lbs’ }\n",
    "```"
   ]
  },
  {
   "cell_type": "code",
   "execution_count": null,
   "metadata": {},
   "outputs": [],
   "source": []
  },
  {
   "cell_type": "markdown",
   "metadata": {},
   "source": [
    "## Recording a Catch\n",
    "\n",
    "After Sarah catches her tuna and records data for each tuna, she is able to treat **a haul of tuna** as **a single batch of transactions**. \n",
    "* As a reminder, transaction batches are clusters of transactions that are committed to state together. \n",
    "\n",
    "Using batches, Sarah is able to record many tuna together, while still being able to specify data for each tuna. **If one of the tuna transactions is invalid, the entire shipment is invalidated, that is, no tuna within the batch of tuna is validated.**"
   ]
  },
  {
   "cell_type": "code",
   "execution_count": null,
   "metadata": {},
   "outputs": [],
   "source": []
  },
  {
   "cell_type": "markdown",
   "metadata": {},
   "source": [
    "## Reaching Consensus\n",
    "\n",
    "After a batch of many transactions is submitted to the network, the network’s consensus algorithm is run to choose a node to publish the transaction block. By default, the Proof of Elapsed Time consensus algorithm is used, and the transaction validator with the shortest wait time publishes the transaction block. The transaction block is then broadcast to the publishing nodes.<br>\n",
    "\n",
    "Each node within the network receives the transaction block, and validators verify whether the transaction is valid or not. If the transaction is validated, the global state is updated.<br>\n",
    "\n",
    "Hyperledger Sawtooth is unique because of its distributed state agreement, whereby every node in the system has the same understanding of information, and, as the supply chain matures, the data stored remains consistent across the network.<br>\n",
    "\n",
    "With the global state adjusted, the processing plant, the regulator, and Miriam are able to see the details of the catch and who the current holder is, thus, keeping the supply chain transparent and verifiable."
   ]
  },
  {
   "cell_type": "code",
   "execution_count": null,
   "metadata": {},
   "outputs": [],
   "source": []
  },
  {
   "cell_type": "markdown",
   "metadata": {},
   "source": [
    "## Reaching Consensus\n",
    "\n",
    "After a batch of many transactions is submitted to the network, the network’s consensus algorithm is run to choose a node to publish the transaction block. By default, \n",
    "* the **Proof of Elapsed Time** consensus algorithm is used, \n",
    "* and the **transaction validator** with the shortest wait time publishes the transaction block. \n",
    "* The transaction block is then broadcast to the publishing nodes.\n",
    "* Each node within the network receives the transaction block, \n",
    "* and validators verify whether the transaction is valid or not. \n",
    "  * If the transaction is validated, the global state is updated.\n",
    "\n",
    "Hyperledger Sawtooth is unique because of its distributed state agreement, whereby every node in the system has the same understanding of information, and, as the supply chain matures, the data stored remains consistent across the network.<br>\n",
    "\n",
    "With the global state adjusted, the processing plant, the regulator, and Miriam are able to see the details of the catch and who the current holder is, thus, keeping the supply chain transparent and verifiable."
   ]
  },
  {
   "cell_type": "code",
   "execution_count": null,
   "metadata": {},
   "outputs": [],
   "source": []
  },
  {
   "cell_type": "markdown",
   "metadata": {},
   "source": [
    "## Other Actors in the Supply Chain\n",
    "\n",
    "* Before Sarah's tuna can reach Miriam's restaurant, they need to go through a tuna processing plant. \n",
    "* Also, regulators will need to verify and view details from the ledger. \n",
    "\n",
    "Therefore, both parties will gain entry to this Sawtooth blockchain. \n",
    "\n",
    "* The regulators will need to query the ledger to confirm that Sarah is legally catching her fish. \n",
    "  * At the same time, tuna processing plants will need to record their processing and shipping of the tuna on the ledger."
   ]
  },
  {
   "cell_type": "code",
   "execution_count": null,
   "metadata": {},
   "outputs": [],
   "source": []
  },
  {
   "cell_type": "markdown",
   "metadata": {},
   "source": [
    "## Summary of Transaction Flow\n",
    "\n",
    "Now, let's review the summary of the transaction flow:\n",
    "\n",
    "![summary-of-transaction-flow-sawtooth](https://prod-edxapp.edx-cdn.org/assets/courseware/v1/e0c503b430152897e29dec1c95ba99e2/asset-v1:LinuxFoundationX+LFS171x+3T2017+type@asset+block/Sawtooth_section_3_summary_of_transaction_flow.png)\n",
    "\n",
    "### 1. Sarah catches a tuna \n",
    "and uses the application's user interface to record all the details about the catch to the ledger. An **entire haul of tuna can be treated as a transaction batch**, with **each individual tuna registered as a transaction** within the batch.<br>\n",
    "\n",
    "After the details of the catch are saved to the ledger and the tuna is passed along the supply chain, \n",
    "\n",
    "### 2. the processing plant may use \n",
    "their own application to query the ledger for details about specific catches, such as weight. The processing plant will **add details reflecting the processing date and time, as well as other relevant information**.<br>\n",
    "\n",
    "As the tuna is passed along the supply chain, \n",
    "\n",
    "### 3. the regulator may use \n",
    "their respective application to query the ledger for details about specific catches, such as the owner and location of the catch, to verify legitimacy.<br>\n",
    "\n",
    "Lastly, when the haul of tuna arrives at Miriam's restaurant, \n",
    "\n",
    "### 4. Miriam is able to use \n",
    "her application to query the ledger, to check and make sure Sarah was truthful in her account of where each fish was sourced. <br>\n",
    "\n",
    "This, in turn, guarantees Miriam's restaurant is serving their customers the sustainably caught fish they advertise."
   ]
  },
  {
   "cell_type": "code",
   "execution_count": null,
   "metadata": {},
   "outputs": [],
   "source": []
  },
  {
   "cell_type": "markdown",
   "metadata": {},
   "source": []
  }
 ],
 "metadata": {
  "kernelspec": {
   "display_name": "Python 3",
   "language": "python",
   "name": "python3"
  },
  "language_info": {
   "codemirror_mode": {
    "name": "ipython",
    "version": 3
   },
   "file_extension": ".py",
   "mimetype": "text/x-python",
   "name": "python",
   "nbconvert_exporter": "python",
   "pygments_lexer": "ipython3",
   "version": "3.6.2"
  }
 },
 "nbformat": 4,
 "nbformat_minor": 2
}
