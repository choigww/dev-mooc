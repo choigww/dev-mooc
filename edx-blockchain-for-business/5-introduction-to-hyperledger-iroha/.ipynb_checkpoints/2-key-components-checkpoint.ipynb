{
 "cells": [
  {
   "cell_type": "markdown",
   "metadata": {},
   "source": [
    "# Key Components"
   ]
  },
  {
   "cell_type": "code",
   "execution_count": null,
   "metadata": {},
   "outputs": [],
   "source": []
  },
  {
   "cell_type": "markdown",
   "metadata": {},
   "source": [
    "## Hyperledger Iroha\n",
    "\n",
    "Hyperledger Iroha is a **blockchain framework**, and one of the Hyperledger projects hosted by The Linux Foundation.<br>\n",
    "\n",
    "Hyperledger Iroha was initially contributed by Soramitsu, Hitachi, NTT Data, and Colu. Hyperledger Iroha is designed to be **simple and easy to incorporate into infrastructure projects requiring distributed ledger technology**.<br>\n",
    "* Hyperledger Iroha features a \n",
    "  * **simple** construction, \n",
    "  * modern, \n",
    "  * domain-driven \n",
    "  * **C++** design, \n",
    "  * **emphasis on mobile application development**, \n",
    "  * and the **YAC consensus algorithm**."
   ]
  },
  {
   "cell_type": "code",
   "execution_count": null,
   "metadata": {},
   "outputs": [],
   "source": []
  },
  {
   "cell_type": "markdown",
   "metadata": {},
   "source": [
    "## Hyperledger Iroha Key Components\n",
    "### Alexandra & Arianna Groetsema\n",
    "\n",
    "* [VIDEO](https://youtu.be/yfOFSgRLhz4)\n",
    "\n",
    "> Hyperledger Iroha seeks to contribute three main goals:\n",
    "1. Provide an environment for C++ developers to contribute to Hyperledger.\n",
    "2. Provide infrastructure for mobile and web application support,\n",
    "3. Provide a framework to introduce APIs and a new consensus algorithm that can potentially be incorporated into other frameworks in the future.\n",
    "\n",
    "The core architecture of Hyperledger Iroha was inspired by Hyperledger Fabric, which we will cover in Chapter 7.<br>\n",
    "\n",
    "Hyperledger Iroha's creators have emphasized the importance of this framework in fulfilling the need for user-friendly interfaces.<br>\n",
    "\n",
    "including a simple construction, a modern C++ design, with an emphasis on mobile application development,\n",
    "and a new chain-based Byzantine Fault Tolerance consensus algorithm, called Sumeragi.<br>\n",
    "\n",
    "**Perhaps the most defining characteristic of Hyperledger Iroha is its ability to be freely interoperable with other Hyperledger projects**."
   ]
  },
  {
   "cell_type": "code",
   "execution_count": null,
   "metadata": {},
   "outputs": [],
   "source": []
  },
  {
   "cell_type": "markdown",
   "metadata": {},
   "source": [
    "## Architecture Overview\n",
    "\n",
    "Before diving into the key components of Hyperledger Iroha, it is important to get an overarching look at this framework. The diagram below shows a layered architectural view of the different components that make up Hyperledger Iroha. The four layers are: API, Peer Interaction, Chain Business Logic, and Storage.\n",
    "\n",
    "![iroha-architecture](https://prod-edxapp.edx-cdn.org/assets/courseware/v1/cb033d180ecb4eb288f2f0a489195e6c/asset-v1:LinuxFoundationX+LFS171x+3T2017+type@asset+block/Iroha-architecture.png)\n",
    "\n",
    "The components are:\n",
    "* **Model** classes are system entities.\n",
    "* **Torii**(gate) provides the input and output interfaces for clients. It is a single gRPC server that is used by clients to interact with peers through the network. The client's RPC call is *non-blocking*, making Torii an *asynchronous* server. Both commands (transactions) and queries (read access) are performed through this interface.\n",
    "* **Network** encompasses interaction with the network of peers.\n",
    "* **Consensus** is in charge of peers agreeing on chain content in the network. The consensus mechanism used by Iroha is YAC (Yet Another Consensus), which is a practical byzantine fault-tolerant algorithm based on voting for block hash.\n",
    "* **Simulator** generates a temporary snapshot of storage to validate transactions by executing them against this snapshot and forming a verified proposal, which consists only of valid transactions.\n",
    "* **Validator** classes check business rules and validity (correct format) of transactions or queries. There are two distinct types of validation that occur in Hyperledger Iroha:\n",
    "  - **Stateless validation** is a quicker form of validation, that performs schema and signature checks of the transaction.\n",
    "  - **Stateful validation** is a slower form of validation, that checks the permissions and the current world state view, which is the latest and most actual state of the chain, to see if desired business rules and policies are possible. For example, does an account have enough funds to transfer?\n",
    "* **Synchronizer** helps to synchronize new peers in the system or temporarily disconnected peers.\n",
    "* **Ametsuchi** is the ledger block storage which consists of a block index (currently Redis), block store (currently flat files), and a world state view component (currently PostgreSQL)."
   ]
  },
  {
   "cell_type": "code",
   "execution_count": null,
   "metadata": {},
   "outputs": [],
   "source": []
  },
  {
   "cell_type": "markdown",
   "metadata": {},
   "source": [
    "## Participants within the Network\n",
    "\n",
    "There are three main participants within a Hyperledger Iroha network:\n",
    "\n",
    "* **Clients** are able to:\n",
    "  * **a**. **Query** data that they have access/permission to\n",
    "  * **b**. Perform a state-changing action, **'transaction'**, which consists of atomic operations, called 'commands'. \n",
    "    * For example, in a single transaction, a user can transfer funds to three people (three separate commands). But, if he/she does not have enough funds to cover for all, the whole transaction will be rejected.\n",
    "* **Peers** maintain the current state and their own copy of the shared ledger. A peer is a single entity in the network, and has an address, identity, and trust. \n",
    "  * Hyperledger Iroha is designed so that a single peer may be a single computer or scaled for a cluster, meaning different computers are used for ledger storage, indices, validation, and peer-to-peer logic.\n",
    "* **Ordering service** orders transactions into a known order. There are a few options for the algorithm used by the ordering service. Kafka is considered a good candidate. \n",
    "  * It is important to mention that **if Kafka, or any other distributed solution is used, that it be clustered;** \n",
    "  * otherwise, this will result in a single point of failure."
   ]
  },
  {
   "cell_type": "code",
   "execution_count": null,
   "metadata": {},
   "outputs": [],
   "source": []
  },
  {
   "cell_type": "markdown",
   "metadata": {},
   "source": [
    "## Transaction Flow Basics (Part I)\n",
    "\n",
    "### Step 1\n",
    "A client creates and sends a transaction to the **Torii** gate, which routes the transaction to a peer that is responsible for performing stateless validation.\n",
    "\n",
    "![iroha-transaction-flow-1](https://prod-edxapp.edx-cdn.org/assets/courseware/v1/31cba94d9a190c0a12ab6bac4c891e14/asset-v1:LinuxFoundationX+LFS171x+3T2017+type@asset+block/Step_1_of_Iroha_Transaction_Flow.png)\n",
    "\n",
    "### Step 2\n",
    "After the peer performs stateless validation, the transaction is first sent to the ordering gate, which is responsible for choosing the right strategy of connection to the **ordering service**.\n",
    "\n",
    "![iroha-transaction-flow-2](https://prod-edxapp.edx-cdn.org/assets/courseware/v1/21102f3a868cc94b8157d7871ca30192/asset-v1:LinuxFoundationX+LFS171x+3T2017+type@asset+block/Step_2_of_Iroha_Transaction_Flow.png)\n",
    "\n",
    "### Step 3\n",
    "The ordering service \n",
    "* puts transactions into order \n",
    "* and forwards them to peers in the consensus network in the form of **proposals**. \n",
    "\n",
    "A proposal is an unsigned block shared by the ordering service, that contains a batch of ordered transactions. Proposals are only forwarded when \n",
    "* the ordering service has accumulated enough transactions, or \n",
    "* a certain amount of time has elapsed since the last proposal. \n",
    "\n",
    "This prevents the ordering service from sending empty proposals.\n",
    "\n",
    "![iroha-transaction-flow-3](https://prod-edxapp.edx-cdn.org/assets/courseware/v1/dd7b06c38b34545769fb70f4e5a1a61a/asset-v1:LinuxFoundationX+LFS171x+3T2017+type@asset+block/Step_3_of_Iroha_Transaction_Flow.png)"
   ]
  },
  {
   "cell_type": "markdown",
   "metadata": {},
   "source": [
    "### Step 4\n",
    "Each peer verifies the proposal’s contents (*stateful validation*) in the Simulator and creates a block which consists only of verified transactions. This block is then sent to the consensus gate which performs YAC consensus logic.\n",
    "\n",
    "![iroha-transaction-flow-4](https://prod-edxapp.edx-cdn.org/assets/courseware/v1/91303543f6393c61426a9b216083bed8/asset-v1:LinuxFoundationX+LFS171x+3T2017+type@asset+block/Step_4_of_Iroha_transaction_flow.png)\n",
    "\n",
    "### Step 5\n",
    "An ordered list of peers is determined, and a leader is elected based on the YAC consensus logic. Each peer casts a vote by signing and sending their proposed block to the leader.\n",
    "\n",
    "![iroha-transaction-flow-5](https://prod-edxapp.edx-cdn.org/assets/courseware/v1/00da4d62048b9bdf0b331629946b3573/asset-v1:LinuxFoundationX+LFS171x+3T2017+type@asset+block/Step_5_of_Iroha_transaction_flow.png)\n",
    "\n",
    "### Step 6\n",
    "If the leader receives enough signed proposed blocks (i.e. more than two thirds of the peers), then it starts to send a **commit message**, indicating that this block should be applied to the chain of each peer participating in the consensus. Once the commit message has been sent, the proposed block becomes the next block in the chain of every peer via the *synchronizer*.\n",
    "\n",
    "![iroha-transaction-flow-6](https://prod-edxapp.edx-cdn.org/assets/courseware/v1/118a771edf63220195e924a7154eaedd/asset-v1:LinuxFoundationX+LFS171x+3T2017+type@asset+block/Step_6_of_Iroha_Transaction_flow.png)"
   ]
  },
  {
   "cell_type": "code",
   "execution_count": null,
   "metadata": {},
   "outputs": [],
   "source": []
  },
  {
   "cell_type": "markdown",
   "metadata": {},
   "source": [
    "## YAC (Yet Another Consensus)\n",
    "### Consensus Functions\n",
    "\n",
    "Hyperledger Iroha currently implements a consensus algorithm called **YAC** (Yet Another Consensus), which is based on voting for block hash. Consensus involves taking blocks after they have been validated, collaborating with other blocks to decide on commit, and propagating commits between peers. The YAC consensus performs two functions: \n",
    "* ordering\n",
    "* consensus\n",
    "\n",
    "Ordering is responsible for ordering all transactions, packaging them into proposals, and sending them to peers in the network. The ordering service is an endpoint for setting an order of transactions and their broadcast (in a form of proposal). Ordering is not responsible for performing stateful validation of transactions.<br>\n",
    "\n",
    "**Note**: *Currently, the ordering service is a single point of failure that does the ordering*, and, therefore, **Hyperledger Iroha is neither crash fault-tolerant, nor byzantine fault-tolerant**.\n",
    "* Consensus is responsible for **agreement on blocks based on the same proposal**.\n",
    "* Validation is an important part of the transaction flow, however it is **separate from the consensus process**."
   ]
  },
  {
   "cell_type": "code",
   "execution_count": null,
   "metadata": {},
   "outputs": [],
   "source": []
  },
  {
   "cell_type": "markdown",
   "metadata": {},
   "source": [
    "## YAC - Steps to Successful Consensus\n",
    "\n",
    "### Step 1\n",
    "The ordering service shares a proposal to all peers. A **proposal** is an unsigned block created and shared to peers in the network by the ordering service. It contains a batch of ordered transactions.\n",
    "\n",
    "### Step 2\n",
    "Peers calculate the hash of a verified proposal and sign it. The resulting **`<Hash, Signature>`** tuple is called a **vote**.\n",
    "\n",
    "### Step 3\n",
    "Based on the hashes created in the previous step, each peer computes an ordering list or order of peers. To do this, the ordering function will need to have knowledge of all the peers voting in the network, and is based on the hash of the proposed block. **The first peer in the list** is called the **leader**. The leader is responsible for collecting votes from other peers and sending the commit message.\n",
    "\n",
    "### Step 4\n",
    "Each peer votes. The leader collects all the votes and determines the supermajority of votes for a certain hash. The leader sends a commit message that contains the votes of the committing block. This response is called a **commit**.\n",
    "\n",
    "### Step 5\n",
    "After receiving the commit, the peers verify the commit and apply the block to the ledger. At this point, consensus is complete."
   ]
  },
  {
   "cell_type": "code",
   "execution_count": null,
   "metadata": {},
   "outputs": [],
   "source": []
  },
  {
   "cell_type": "markdown",
   "metadata": {},
   "source": [
    "## YAC - Failure to Reach Consensus\n",
    "\n",
    "We have just covered the steps needed to reach successful consensus, but there are also points in which failure may occur. Next, we will cover a couple of the failure cases: **broken leader and bad transactions from the ordering service**.<br>\n",
    "\n",
    "* **In the case of a broken leader**, \n",
    "  * the leader may act unfairly in the collection of votes, \n",
    "  * or it takes the leader too long to respond with a commit. \n",
    "  * In such situations, other peers set a time for receiving a commit message from the leader. \n",
    "  * If the timer expires, **the next peer in the order list becomes the new leader**.\n",
    "* **In the case of bad transactions** from the ordering service, the ordering service may forward transactions that do not pass stateless validation. To rectify this, peers should remove those transactions from the proposal, and further compute the hash from the rest of the transactions in the proposal."
   ]
  },
  {
   "cell_type": "code",
   "execution_count": null,
   "metadata": {},
   "outputs": [],
   "source": []
  },
  {
   "cell_type": "markdown",
   "metadata": {},
   "source": [
    "## Mobile Libraries\n",
    "One of the most defining characteristics of Hyperledger Iroha is its focus on providing mobile libraries.<br>\n",
    "\n",
    "A major goal with Hyperledger Iroha is creating a distributed ledger system that can be easily utilized by applications. In order to accomplish this, Hyperledger Iroha offers open source software libraries for **iOS, Android, and Javascript**. These libraries allow for simple compatibility with not only Hyperledger Iroha, but also, potentially, with other networks through flexible API functions.<br>\n",
    "\n",
    "If you would like to take a look, these libraries are all open source, and available on Github:\n",
    "\n",
    "Android: https://github.com/hyperledger/iroha-android\n",
    "iOS: https://github.com/hyperledger/iroha-ios.\n"
   ]
  },
  {
   "cell_type": "code",
   "execution_count": null,
   "metadata": {},
   "outputs": [],
   "source": []
  },
  {
   "cell_type": "markdown",
   "metadata": {},
   "source": [
    "## Relationship to Hyperledger Fabric and Hyperledger Sawtooth\n",
    "\n",
    "One of the main goals at Hyperledger in the future is * to have **less disjointed projects**,\n",
    "* **more libraries** that can be **used together as components**\n",
    "\n",
    "With that vision in mind, Hyperledger Iroha wants to eventually **provide the following C++ components that can be used by other Hyperledger projects**:\n",
    "* YAC consensus library\n",
    "* Ed25519 digital signature library\n",
    "* SHA-3 hashing library\n",
    "* Iroha transaction serialization library\n",
    "* P2P communication library\n",
    "* iOS library\n",
    "* Android library\n",
    "* JavaScript library\n",
    "* Blockchain explorer/data visualization suite."
   ]
  },
  {
   "cell_type": "code",
   "execution_count": null,
   "metadata": {},
   "outputs": [],
   "source": []
  },
  {
   "cell_type": "markdown",
   "metadata": {},
   "source": [
    "## Discussing Hyperledger Iroha with Makoto Takemiya\n",
    "\n",
    "* [VIDEO](https://youtu.be/8kFSadbumXQ)\n",
    "\n",
    "### What is Iroha?\n",
    "> \"Iroha is a distributed ledger platform.\n",
    "We created it to be as simple as possible for developers to use, and also, to be highly responsive for mobile and other user-facing applications.<br><br>\n",
    "So, other projects under the Hyperledger umbrella, they focus on enterprises or enterprise systems.\n",
    "We're focused more on the user-facing applications.\"\n",
    "\n",
    "\n",
    "### What distinguishes Iroha from Fabric?\n",
    "> \"So, Fabric is a really large and complex system, and it's great for enterprises that want to manage many applications on a distributed ledger, or even conglomerates of many companies.<br><br>\n",
    "Iroha, it's really focused much more on companies or consortia creating applications that users can use.\n",
    "So, really, it's **focused on the end-user**, and creating applications that are as **fast and responsive** as possible.\"\n",
    "\n",
    "\n",
    "### Can I use Iroha with Fabric?\n",
    "> \"In the future, we really want to make that happen. (...) in field of inter-ledger transactions, two way pegs, sidechains, (...) so we want to eventually incorporate that into Iroha.\"\n",
    "\n",
    "### What do you think is one of the most intersting applications built on top of Iroha?\n",
    "> \"(...) and one of the cool applications was a kind of decentralized library, like book lending type, and the cool thing about that was,<br><br>\n",
    "you don't have to return a book to the library every time, you can just do a peer-to-peer, and give the book to your friend, your friend scans the QR code,\n",
    "and then, the library can keep track of who has this book at any time.\"\n",
    "\n",
    "### From a business person's perspective, what's the most compelling about Iroha?\n",
    "\n",
    "> \"What's most compelling is probably, I think, our **permission model**. So, a lot of the systems, up to this point, haven't really given too much thought into assistive administration or to the different realities associated with that.<br><br>\n",
    "Yet, the **concept of the root user group, and then, also, domains, that manage who can create assets, who can transfer assets, different things** like that,\n",
    "so, that's something that can allow you to **fine-tune the administration and guarantee security of asset management**.\"\n"
   ]
  },
  {
   "cell_type": "code",
   "execution_count": null,
   "metadata": {},
   "outputs": [],
   "source": []
  },
  {
   "cell_type": "code",
   "execution_count": null,
   "metadata": {},
   "outputs": [],
   "source": []
  }
 ],
 "metadata": {
  "kernelspec": {
   "display_name": "Python 3",
   "language": "python",
   "name": "python3"
  },
  "language_info": {
   "codemirror_mode": {
    "name": "ipython",
    "version": 3
   },
   "file_extension": ".py",
   "mimetype": "text/x-python",
   "name": "python",
   "nbconvert_exporter": "python",
   "pygments_lexer": "ipython3",
   "version": "3.6.2"
  }
 },
 "nbformat": 4,
 "nbformat_minor": 2
}
