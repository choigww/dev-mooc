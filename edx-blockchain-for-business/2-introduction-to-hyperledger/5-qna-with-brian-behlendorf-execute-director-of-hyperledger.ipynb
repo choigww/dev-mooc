{
 "cells": [
  {
   "cell_type": "markdown",
   "metadata": {},
   "source": [
    "# Q/A with Brian Behlendorf, Executive Director of Hyperledger\n",
    "\n",
    "Before diving into Hyperledger Iroha, Hyperledger Sawtooth, and Hyperledger Fabric, we asked Brian Behlendorf, Executive Director of Hyperledger at The Linux Foundation, some questions. We hope these questions will give you a better perspective of the Hyperledger technologies for the upcoming technical chapters."
   ]
  },
  {
   "cell_type": "code",
   "execution_count": null,
   "metadata": {},
   "outputs": [],
   "source": []
  },
  {
   "cell_type": "markdown",
   "metadata": {},
   "source": [
    "## Reasons Why Developers Would Become Interested in Open Source Software\n",
    "\n",
    "https://youtu.be/oDsXhqqsYZM\n",
    "<br>\n",
    "\n",
    "### Q. Why do you think developers would be excited in becoming involved with open source projects, such as Hyperledger?\n",
    "> \"Well, open source software represents, generally, the largest software development classroom ever, right?\"\n",
    "\n",
    "> \"... the biggest education came from sitting on development mailing lists around the standards around HTTP and HTML, and, eventually, the software development mailing lists and open source communities for the early days of the web.\"\n",
    "\n",
    "> \"Sometimes, it can be, you know, not very pretty, but you realize that software engineering is as much a technical pursuit, as it is a social pursuit.\"\n",
    "\n",
    "\n",
    "> \"And, in open source projects, I think we've figured out how do we have technical differences of opinion and work through them,\"\n",
    "\n",
    "> \"So, all of this is a really great education, I think, in understanding how to write higher quality code, whether that ends up being open source code or not...\n",
    "That's one reason, I think, for developers to participate in open source projects, whether at Hyperledger or any place else.\n",
    "The other is that open source projects are a really good way for you, as a software engineer, to understand what are the kinds of companies I want to work for, right?\"\n",
    "\n",
    "> \"... So, all of that means working on open source projects can be tremendously beneficial to your own ongoing education, as well as your ability to build your career.\""
   ]
  },
  {
   "cell_type": "code",
   "execution_count": null,
   "metadata": {},
   "outputs": [],
   "source": []
  },
  {
   "cell_type": "markdown",
   "metadata": {},
   "source": [
    "## Hyperledger vs. Apache\n",
    "\n",
    "https://youtu.be/LNfHx3DP1eE\n",
    "\n",
    "### Q.\n",
    "While at Apache, you were able to successfully build an open software developer community. What are some similarities and differences between Hyperledger and Apache in its evolution as an open source project?\n"
   ]
  },
  {
   "cell_type": "code",
   "execution_count": null,
   "metadata": {},
   "outputs": [],
   "source": []
  },
  {
   "cell_type": "markdown",
   "metadata": {},
   "source": [
    "## A Key Feature of Hyperledger Fabric, Hyperledger Sawtooth, and Hyperledger Iroha\n",
    "\n",
    "https://youtu.be/hbIl1UQNws8\n",
    "\n",
    "### Fabric\n",
    "* Fabric, is one of the most mature technology projects in Hyperledger.\n",
    "* And they discovered things like, for scalability reasons, you wanted to **separate out the ordering service into a separate set of nodes**. Or, you might want to be able to **support subsets of exchanges**, so that is why there is a feature called **private channels**, right?\n",
    "* And so, those are some of the distinctive parts of Fabric.\n",
    "\n",
    "### Sawtooth\n",
    "* The two that stand out are:\n",
    "  * a consensus mechanism called **Proof of Elapsed Time**\n",
    "    * which takes advantage of some special features on Intel's chips\n",
    "  * An approach to smart contracts - **transaction families**\n",
    "    *  where you essentially **predefine a set of acceptable templates for smart contracts** that the rest of the network can use.\n",
    "    * That is a **safer approach** to doing msart contracts than a fully programmable, general purpose programming language.\n",
    "\n",
    "### Iroha\n",
    "* really distinctive thing about that:\n",
    "  * it's written in C++; very tiny and tightly coded\n",
    "  * it's got terrific set of mobile libraries\n"
   ]
  },
  {
   "cell_type": "code",
   "execution_count": null,
   "metadata": {},
   "outputs": [],
   "source": []
  },
  {
   "cell_type": "markdown",
   "metadata": {},
   "source": [
    "## Interoperability between Hyperledger Frameworks\n",
    "\n",
    "https://youtu.be/psGcqCfplMI\n",
    "\n",
    "### Q. What do you think will help foster interoperability between these three different Hyperledger frameworks?\n",
    "\n",
    "> \"One thing we're working on is kind of **an overall architectural view of all the different projects**, right?\"\n",
    "\n",
    "> \"What are the technologies that sit at kind of the DLT layer, at the smart contract layer, where does identity sit in, right?\n",
    "And then, we can start to look at these projects and go, \"Okay, could we put Fabric down here, could we put Burrow up here?\"\n",
    "\n",
    "> \"Maybe we start to **tease apart the distributed ledger part of Fabric from the smart contract part of Fabric, right,\n",
    "into separate components**, so that, when somebody new arrives at the project, or they take a training course like this,\n",
    "they can start to **pick and choose, you know, as building blocks, as appropriate for whatever use case** that they want to target, right?\n",
    "\n",
    "> \"And so, that's something over time, **this kind of modularity approach**... Along with that, **defining standardized APIs between these different levels**, right,\""
   ]
  },
  {
   "cell_type": "code",
   "execution_count": null,
   "metadata": {},
   "outputs": [],
   "source": []
  }
 ],
 "metadata": {
  "kernelspec": {
   "display_name": "Python 3",
   "language": "python",
   "name": "python3"
  },
  "language_info": {
   "codemirror_mode": {
    "name": "ipython",
    "version": 3
   },
   "file_extension": ".py",
   "mimetype": "text/x-python",
   "name": "python",
   "nbconvert_exporter": "python",
   "pygments_lexer": "ipython3",
   "version": "3.6.2"
  }
 },
 "nbformat": 4,
 "nbformat_minor": 2
}
