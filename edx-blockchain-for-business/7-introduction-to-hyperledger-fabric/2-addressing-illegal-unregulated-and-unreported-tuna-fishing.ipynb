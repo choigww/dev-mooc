{
 "cells": [
  {
   "cell_type": "markdown",
   "metadata": {},
   "source": [
    "# Addressing Illegal, Unregulated, and Unreported Tuna Fishing\n",
    "### (Demonstrated Scenario)"
   ]
  },
  {
   "cell_type": "code",
   "execution_count": null,
   "metadata": {},
   "outputs": [],
   "source": []
  },
  {
   "cell_type": "markdown",
   "metadata": {},
   "source": [
    "## About the Demonstrated Scenario\n",
    "\n",
    "According to the [World Economic Forum](https://www.weforum.org/agenda/2017/05/can-technology-help-tackle-illegal-fishing/),\n",
    "\n",
    ">*\"Illegal, unreported, and unregulated (IUU) fishing represents a theft of around 26 million tonnes, or close to $24 billion value of seafood a year.\"*\n",
    "\n",
    "* [VIDEO](https://youtu.be/nwKgqJBWtac)"
   ]
  },
  {
   "cell_type": "code",
   "execution_count": null,
   "metadata": {},
   "outputs": [],
   "source": []
  },
  {
   "cell_type": "markdown",
   "metadata": {},
   "source": [
    "## Defining Our Actors\n",
    "\n",
    "### Sarah\n",
    "is the fisherman who substainably and legally catches tuna.\n",
    "\n",
    "### Regulators\n",
    "verify that the tuna has been legally and substainably caught.\n",
    "\n",
    "### Miriam\n",
    "is a **restaurant owner** who will serve as the **end user**, in this situation.\n",
    "\n",
    "### Carl\n",
    "is **another restaurant owner** fisherman Sarah can sell tuna to.\n",
    "\n",
    "![actors-fabric](https://prod-edxapp.edx-cdn.org/assets/courseware/v1/8a7ca0b7964bdcbe856743f6f5519837/asset-v1:LinuxFoundationX+LFS171x+3T2017+type@asset+block/Fabric_demonstrated_scenario_actors.png)\n",
    "\n",
    "Using Hyperledger Fabric, we will be demonstrating how tuna fishing can be improved starting from the source, fisherman Sarah, and the process by which she sells her tuna to Miriam's restaurant."
   ]
  },
  {
   "cell_type": "code",
   "execution_count": null,
   "metadata": {},
   "outputs": [],
   "source": []
  },
  {
   "cell_type": "markdown",
   "metadata": {},
   "source": [
    "## Featured Hyperledger Fabric Elements\n",
    "\n",
    "### Channels\n",
    "are **data partitioning mechanisms** that allow transaction visibility for stakeholders only. \n",
    "* Each channel is an independent chain of transaction blocks **containing only transactions for that particular channel**.\n",
    "\n",
    "### The chaincode (Smart Contracts)\n",
    "encapsulates both the asset definitions and the business logic (or transactions) for modifying those assets. \n",
    "* Transaction invocations result in changes to the ledger.\n",
    "\n",
    "### The ledger \n",
    "contains \n",
    "* the current **world state of the network** \n",
    "* and **a chain of transaction invocations**. \n",
    "\n",
    "A shared, permissioned ledger is an append-only system of records and serves as a single source of truth.\n",
    "\n",
    "### The network\n",
    "is the **collection of data processing peers** that form a blockchain network. The network is responsible for maintaining a consistently replicated ledger.\n",
    "\n",
    "### The ordering service\n",
    "is a **collection of nodes that orders transactions into a block**.\n",
    "\n",
    "### The world state\n",
    "reflects the **current data about all the assets in the network**. This data is stored in a database for efficient access. Current supported databases are LevelDB and CouchDB.\n",
    "\n",
    "### The membership service provider (MSP)\n",
    "manages **identity and permissioned access for clients and peers**."
   ]
  },
  {
   "cell_type": "code",
   "execution_count": null,
   "metadata": {},
   "outputs": [],
   "source": []
  },
  {
   "cell_type": "markdown",
   "metadata": {},
   "source": [
    "## The Catch\n",
    "\n",
    "We will start with Sarah, our licensed tuna fisher, who makes a living selling her tuna to multiple restaurants. Sarah operates as a private business, in which her company frequently makes international deals. Through a client application, Sarah is able to gain entry to a Hyperledger Fabric blockchain network comprised of other fishermen, as well as regulators and restaurant owners. Sarah has the ability to add to and update information in the blockchain network's  ledger as tuna pass through the supply chain, while regulators and restaurants have read access to the ledger.<br>\n",
    "\n",
    "After each catch, Sarah records information about each individual tuna, including: a unique ID number, the location and time of the catch, its weight, the vessel type, and who caught the fish. For the sake of simplicity, we will stick with these six data attributes. However, in an actual application, many more details would be recorded, from toxicology, to other physical characteristics.<br>\n",
    "\n",
    "These details are saved in the world state as a key/value pair based on the specifications of a chaincode contract, allowing Sarah’s application to effectively create a transaction on the ledger. You can see the example below:\n",
    "\n",
    "```\n",
    "$ var tuna = { id: ‘0001’, holder: ‘Sarah’, location: { latitude: '41.40238', longitude: '2.170328'}, when: '20170630123546', weight: ‘58lbs’, vessel : ‘9548E’ }\n",
    "```"
   ]
  },
  {
   "cell_type": "code",
   "execution_count": null,
   "metadata": {},
   "outputs": [],
   "source": []
  },
  {
   "cell_type": "markdown",
   "metadata": {},
   "source": [
    "## The Incentives\n",
    "\n",
    "Miriam is a restaurant owner looking to source low cost, yet high quality tuna that have been responsibly caught. Whenever Miriam buys tuna, she is always uncertain whether she can trust that the tuna she is purchasing is legally and sustainably caught, given the prominence of illegal and unreported tuna fishing.<br>\n",
    "\n",
    "At the same time, as a legitimate and experienced fisherman, Sarah strives to make a living selling her tuna at a reasonable price. She would also like autonomy over who she sells to and at what price.<br>\n",
    "\n",
    "Luckily for both Sarah and Miriam, Hyperledger Fabric can help!"
   ]
  },
  {
   "cell_type": "code",
   "execution_count": null,
   "metadata": {},
   "outputs": [],
   "source": []
  },
  {
   "cell_type": "markdown",
   "metadata": {},
   "source": [
    "## The Sale\n",
    "\n",
    "Normally, Sarah sells her tuna to restaurateurs, such as Carl, for `$80` per pound. However, Sarah agrees to give Miriam a special price of `$50` per pound of tuna, rather than her usual rate. <br>\n",
    "\n",
    "In a traditional public blockchain, once Sarah and Miriam have completed their transaction, the entire network is able to view the details of this agreement, especially the fact that Sarah gave Miriam a special price. <br>\n",
    "\n",
    "**As you can imagine, having other restaurateurs, such as Carl, aware of this deal is not economically advantageous for Sarah**.\n",
    "\n",
    "![the-sale-fabric](https://prod-edxapp.edx-cdn.org/assets/courseware/v1/c30530b13fd201e9d92b50dcc04b48af/asset-v1:LinuxFoundationX+LFS171x+3T2017+type@asset+block/fabric_sale_scenario.png)\n",
    "\n",
    "To remedy this, **Sarah wants the specifics of her deal to not be available to everyone on the network**, but still have every actor in the network be able to view the details of the fish she is selling. Using Hyperledger Fabric's feature of **channels**, Sarah can privately agree on the terms with Miriam, such that only the two of them can see them, **without anyone else knowing the specifics**.<br>\n",
    "\n",
    "Additionally, other fishermen, who are not part of Sarah and Miriam’s transaction, will not see this transaction on their ledger. This ensures that another fisherman cannot undercut the bid by having information about the prices that Sarah is charging different restaurateurs."
   ]
  },
  {
   "cell_type": "code",
   "execution_count": null,
   "metadata": {},
   "outputs": [],
   "source": []
  },
  {
   "cell_type": "markdown",
   "metadata": {},
   "source": [
    "## The Regulators\n",
    "\n",
    "Regulators will also gain entry to this Hyperledger Fabric blockchain network to **confirm, verify, and view details from the ledger**. <br>\n",
    "\n",
    "Their application will allow these actors to **query** the ledger and **see the details** of each of Sarah’s catches to confirm that she is legally catching her fish.\n",
    "\n",
    "### Regulators only need to have query access, \n",
    "and do not need to add entries to the ledger. With that being said, they may be able to \n",
    "* adjust who can gain entry to the network \n",
    "* and/or be able to remove fishermen from the network, if found to be partaking in illegal activities."
   ]
  },
  {
   "cell_type": "code",
   "execution_count": null,
   "metadata": {},
   "outputs": [],
   "source": []
  },
  {
   "cell_type": "markdown",
   "metadata": {},
   "source": [
    "## Gaining Network Membership\n",
    "\n",
    "Hyperledger Fabric is a permissioned network, meaning that only participants who have been approved can gain entry to the network. To handle network membership and identity, **membership service providers (MSP)** manage user IDs, and authenticate all the participants in the network. A Hyperledger Fabric blockchain network can be governed by one or more MSPs. This provides modularity of membership operations, and interoperability across different membership standards and architectures.<br>\n",
    "\n",
    "In our scenario, the regulator, the approved fishermen, and the approved restaurateurs should be the only ones allowed to join the network. To achieve this, a membership service provider (MSP) is defined to accommodate membership for all members of this supply chain. In configuring this MSP, certificates and membership identities are created. Policies are then defined to dictate the read/write policies of a channel, or the endorsement policies of a chaincode.<br>\n",
    "\n",
    "Our scenario has two separate chaincodes, which are run on three separate channels. The two chaincodes are: one for the price agreement between the fisherman and the restaurateur, and one for the transfer of tuna. The three channels are: one for the price agreement between Sarah and Miriam; one for the price agreement between Sarah and Carl; and one for the transfer of tuna. Each member of this network knows about each other and their identity. The channels provide privacy and confidentiality of transactions.<br>\n",
    "\n",
    "In Hyperledger Fabric, MSPs also allow for dynamic membership to add or remove members to maintain integrity and operation of the supply chain. For example, if Sarah was found to be catching her fish illegally, she can have her membership revoked, without compromising the rest of the network. This feature is critical, especially for enterprise applications, where business relationships change over time."
   ]
  },
  {
   "cell_type": "code",
   "execution_count": null,
   "metadata": {},
   "outputs": [],
   "source": []
  },
  {
   "cell_type": "markdown",
   "metadata": {},
   "source": [
    "## Summary of Demonstrated Scenario\n",
    "\n",
    "Below is a summary of the tuna catch scenario presented in this section:\n",
    "1. Sarah catches a tuna and uses the supply chain application’s user interface to record all the details about the catch to the ledger. Before it reaches the ledger, the transaction is passed to the endorsing peers on the network, where it is then endorsed. The endorsed transaction is sent to the ordering service, to be ordered into a block. This block is then sent to the committing peers in the network, where it is committed after being validated.<br><br>\n",
    "2. As the tuna is passed along the supply chain, regulators may use their own application to query the ledger for details about specific catches (excluding price, since they do not have access to the price-related chaincode).<br><br>\n",
    "3. Sarah may enter into an agreement with a restaurateur Carl, and agree on a price of \\$80 per pound. They use the blue channel for the chaincode contract stipulating \\$80/lb. The blue channel's ledger is updated with a block containing this transaction.<br><br>\n",
    "4. In a separate business agreement, Sarah and Miriam agree on a special price of \\$50 per pound. They use the red channel's chaincode contract stipulating \\$50/lb. The red channel's ledger is updated with a block containing this transaction.\n",
    "\n",
    "![summary-graphic-fabric](https://prod-edxapp.edx-cdn.org/assets/courseware/v1/61bbd7eb188c20cc6428391379df45e0/asset-v1:LinuxFoundationX+LFS171x+3T2017+type@asset+block/Demonstrated_Tuna_Fishing_Scenario.png)"
   ]
  },
  {
   "cell_type": "code",
   "execution_count": null,
   "metadata": {},
   "outputs": [],
   "source": []
  }
 ],
 "metadata": {
  "kernelspec": {
   "display_name": "Python 3",
   "language": "python",
   "name": "python3"
  },
  "language_info": {
   "codemirror_mode": {
    "name": "ipython",
    "version": 3
   },
   "file_extension": ".py",
   "mimetype": "text/x-python",
   "name": "python",
   "nbconvert_exporter": "python",
   "pygments_lexer": "ipython3",
   "version": "3.6.2"
  }
 },
 "nbformat": 4,
 "nbformat_minor": 2
}
