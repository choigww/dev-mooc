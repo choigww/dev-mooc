{
 "cells": [
  {
   "cell_type": "markdown",
   "metadata": {},
   "source": [
    "# Key Components and Transaction Flow\n"
   ]
  },
  {
   "cell_type": "code",
   "execution_count": null,
   "metadata": {},
   "outputs": [],
   "source": []
  },
  {
   "cell_type": "markdown",
   "metadata": {},
   "source": [
    "## Introduction to Hyperledger Fabric Architecture\n",
    "### Arianna Groetsema\n",
    "\n",
    "\n",
    "* [VIDEO](https://youtu.be/nyNUvtsmZNE)\n",
    "\n",
    "> \"Hyperledger Fabric is so unique, because it allows for modular consensus and membership service. This means that algorithms for consensus, identity verification are plug-and-play,resulting in a universal blockchain architecture, that can be applied to most industries or business models.\"<br><br>\n",
    "\"Channels are another unique feature. They allow transactions to be private between two actors, while still being verified and committed to the blockchain.\""
   ]
  },
  {
   "cell_type": "code",
   "execution_count": null,
   "metadata": {},
   "outputs": [],
   "source": []
  },
  {
   "cell_type": "markdown",
   "metadata": {},
   "source": [
    "## Roles within a Hyperledger Fabric Network\n",
    "\n",
    "There are three different types of roles within a Hyperledger Fabric network:\n",
    "\n",
    "### Clients\n",
    "Clients are applications that act on behalf of a person to propose transactions on the network.\n",
    "\n",
    "### Peers\n",
    "Peers maintain the state of the network and a copy of the ledger. There are two different types of peers: **endorsing** and **committing** peers. However, there is an overlap between endorsing and committing peers, in that **endorsing peers are a special kind of committing peers**. All peers commit blocks to the distributed ledger.\n",
    "- Endorsers **simulate** and endorse transactions\n",
    "- Committers **verify** endorsements and **validate** transaction results, **prior to committing transactions to the blockchain**.\n",
    "\n",
    "### Ordering Service \n",
    "The ordering service accepts endorsed transactions, orders them into a block, and delivers the blocks to the committing peers."
   ]
  },
  {
   "cell_type": "code",
   "execution_count": null,
   "metadata": {},
   "outputs": [],
   "source": []
  },
  {
   "cell_type": "markdown",
   "metadata": {},
   "source": [
    "## How to Reach Consensus\n",
    "\n",
    "In a distributed ledger system, **consensus** is the process of reaching agreement on the next set of transactions to be added to the ledger. In Hyperledger Fabric, consensus is made up of three distinct steps:\n",
    "* Transaction endorsement\n",
    "* Ordering\n",
    "* Validation and commitment.\n",
    "\n",
    "These three steps ensure the policies of a network are upheld. We will explore how these steps are implemented by exploring the transaction flow."
   ]
  },
  {
   "cell_type": "code",
   "execution_count": null,
   "metadata": {},
   "outputs": [],
   "source": []
  },
  {
   "cell_type": "markdown",
   "metadata": {},
   "source": [
    "## Transaction Flow (Step 1)\n",
    "\n",
    "Within a Hyperledger Fabric network, transactions start out with client applications sending transaction proposals, or, in other words, proposing a transaction to endorsing peers.\n",
    "\n",
    "![transaction-flow-fabric-1](https://prod-edxapp.edx-cdn.org/assets/courseware/v1/21431955acd5b7888ca8d393c94deaf8/asset-v1:LinuxFoundationX+LFS171x+3T2017+type@asset+block/Key_Components_-_Transaction_Proposal.png)\n",
    "\n",
    "**Client applications** are commonly referred to as **applications** or **clients**, and allow people to communicate with the blockchain network. Application developers can leverage the Hyperledger Fabric network through the application SDK."
   ]
  },
  {
   "cell_type": "code",
   "execution_count": null,
   "metadata": {},
   "outputs": [],
   "source": []
  },
  {
   "cell_type": "markdown",
   "metadata": {},
   "source": [
    "## Transaction Flow (Step 2)\n",
    "\n",
    "Each endorsing peer simulates the proposed transaction, without updating the ledger. The endorsing peers will capture the set of **Read** and **Written** data, called **RW Sets**. These RW sets capture what was read from the current world state while simulating the transaction, as well as what would have been written to the world state had the transaction been executed. These RW sets are then signed by the endorsing peer, and returned to the client application to be used in future steps of the transaction flow.\n",
    "\n",
    "![transaction-flow-fabric-2](https://prod-edxapp.edx-cdn.org/assets/courseware/v1/13e5a6a80c0e150f46d45ec0634b86b8/asset-v1:LinuxFoundationX+LFS171x+3T2017+type@asset+block/Transaction_flow_step_2.png)\n",
    "\n",
    "### Endorsing peers must hold smart contracts in order to simulate the transaction proposals."
   ]
  },
  {
   "cell_type": "code",
   "execution_count": null,
   "metadata": {},
   "outputs": [],
   "source": []
  },
  {
   "cell_type": "code",
   "execution_count": null,
   "metadata": {},
   "outputs": [],
   "source": []
  },
  {
   "cell_type": "code",
   "execution_count": null,
   "metadata": {},
   "outputs": [],
   "source": []
  },
  {
   "cell_type": "code",
   "execution_count": null,
   "metadata": {},
   "outputs": [],
   "source": []
  },
  {
   "cell_type": "code",
   "execution_count": null,
   "metadata": {},
   "outputs": [],
   "source": []
  },
  {
   "cell_type": "code",
   "execution_count": null,
   "metadata": {},
   "outputs": [],
   "source": []
  },
  {
   "cell_type": "code",
   "execution_count": null,
   "metadata": {},
   "outputs": [],
   "source": []
  },
  {
   "cell_type": "code",
   "execution_count": null,
   "metadata": {},
   "outputs": [],
   "source": []
  }
 ],
 "metadata": {
  "kernelspec": {
   "display_name": "Python 3",
   "language": "python",
   "name": "python3"
  },
  "language_info": {
   "codemirror_mode": {
    "name": "ipython",
    "version": 3
   },
   "file_extension": ".py",
   "mimetype": "text/x-python",
   "name": "python",
   "nbconvert_exporter": "python",
   "pygments_lexer": "ipython3",
   "version": "3.6.2"
  }
 },
 "nbformat": 4,
 "nbformat_minor": 2
}
