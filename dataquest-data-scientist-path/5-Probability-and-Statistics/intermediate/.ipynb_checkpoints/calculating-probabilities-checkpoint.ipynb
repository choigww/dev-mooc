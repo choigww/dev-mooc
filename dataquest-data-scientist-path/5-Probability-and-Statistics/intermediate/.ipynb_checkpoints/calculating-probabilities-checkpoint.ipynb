{
 "cells": [
  {
   "cell_type": "markdown",
   "metadata": {},
   "source": [
    "# Calculating probabilities\n",
    "\n",
    "In the last mission, we looked at `probability`, and the ideas of `disjunctive`, `dependent`, and `conjunctive` probabilities. <br>\n",
    "\n",
    "We'll dive more into probability in this mission, and calculate more complex probabilities. But first, we'll look at the dataset we'll be using. <br>\n",
    "\n",
    "In many countries, there are bikesharing programs where anyone can rent a bike from a depot, and return it at other depots throughout a city. There is one such program in Washington, D.C., in the US. We'll be looking at the number of bikes that were rented by day. Here are the relevant columns:\n",
    "\n",
    "* `dteday` -- the date that we're looking at.\n",
    "* `casual` -- the number of casual riders (people who hadn't previously signed up with the bikesharing program) that rented bikes on the day.\n",
    "* `registered` -- the number of registered riders (people who signed up previously) that rented bikes.\n",
    "* `cnt` -- the total number of bikes rented.\n",
    "\n",
    "This data was collected by `Hadi Fanaee-T` at the `University of Porto`, and can be downloaded [here](http://archive.ics.uci.edu/ml/datasets/Bike+Sharing+Dataset)."
   ]
  },
  {
   "cell_type": "code",
   "execution_count": 1,
   "metadata": {},
   "outputs": [],
   "source": [
    "import pandas as pd\n",
    "import numpy as np\n",
    "from matplotlib import pyplot as plt\n",
    "%matplotlib inline"
   ]
  },
  {
   "cell_type": "code",
   "execution_count": 2,
   "metadata": {},
   "outputs": [
    {
     "name": "stdout",
     "output_type": "stream",
     "text": [
      "(731, 16)\n"
     ]
    },
    {
     "data": {
      "text/html": [
       "<div>\n",
       "<style scoped>\n",
       "    .dataframe tbody tr th:only-of-type {\n",
       "        vertical-align: middle;\n",
       "    }\n",
       "\n",
       "    .dataframe tbody tr th {\n",
       "        vertical-align: top;\n",
       "    }\n",
       "\n",
       "    .dataframe thead th {\n",
       "        text-align: right;\n",
       "    }\n",
       "</style>\n",
       "<table border=\"1\" class=\"dataframe\">\n",
       "  <thead>\n",
       "    <tr style=\"text-align: right;\">\n",
       "      <th></th>\n",
       "      <th>instant</th>\n",
       "      <th>dteday</th>\n",
       "      <th>season</th>\n",
       "      <th>yr</th>\n",
       "      <th>mnth</th>\n",
       "      <th>holiday</th>\n",
       "      <th>weekday</th>\n",
       "      <th>workingday</th>\n",
       "      <th>weathersit</th>\n",
       "      <th>temp</th>\n",
       "      <th>atemp</th>\n",
       "      <th>hum</th>\n",
       "      <th>windspeed</th>\n",
       "      <th>casual</th>\n",
       "      <th>registered</th>\n",
       "      <th>cnt</th>\n",
       "    </tr>\n",
       "  </thead>\n",
       "  <tbody>\n",
       "    <tr>\n",
       "      <th>0</th>\n",
       "      <td>1</td>\n",
       "      <td>2011-01-01</td>\n",
       "      <td>1</td>\n",
       "      <td>0</td>\n",
       "      <td>1</td>\n",
       "      <td>0</td>\n",
       "      <td>6</td>\n",
       "      <td>0</td>\n",
       "      <td>2</td>\n",
       "      <td>0.344167</td>\n",
       "      <td>0.363625</td>\n",
       "      <td>0.805833</td>\n",
       "      <td>0.160446</td>\n",
       "      <td>331</td>\n",
       "      <td>654</td>\n",
       "      <td>985</td>\n",
       "    </tr>\n",
       "    <tr>\n",
       "      <th>1</th>\n",
       "      <td>2</td>\n",
       "      <td>2011-01-02</td>\n",
       "      <td>1</td>\n",
       "      <td>0</td>\n",
       "      <td>1</td>\n",
       "      <td>0</td>\n",
       "      <td>0</td>\n",
       "      <td>0</td>\n",
       "      <td>2</td>\n",
       "      <td>0.363478</td>\n",
       "      <td>0.353739</td>\n",
       "      <td>0.696087</td>\n",
       "      <td>0.248539</td>\n",
       "      <td>131</td>\n",
       "      <td>670</td>\n",
       "      <td>801</td>\n",
       "    </tr>\n",
       "    <tr>\n",
       "      <th>2</th>\n",
       "      <td>3</td>\n",
       "      <td>2011-01-03</td>\n",
       "      <td>1</td>\n",
       "      <td>0</td>\n",
       "      <td>1</td>\n",
       "      <td>0</td>\n",
       "      <td>1</td>\n",
       "      <td>1</td>\n",
       "      <td>1</td>\n",
       "      <td>0.196364</td>\n",
       "      <td>0.189405</td>\n",
       "      <td>0.437273</td>\n",
       "      <td>0.248309</td>\n",
       "      <td>120</td>\n",
       "      <td>1229</td>\n",
       "      <td>1349</td>\n",
       "    </tr>\n",
       "    <tr>\n",
       "      <th>3</th>\n",
       "      <td>4</td>\n",
       "      <td>2011-01-04</td>\n",
       "      <td>1</td>\n",
       "      <td>0</td>\n",
       "      <td>1</td>\n",
       "      <td>0</td>\n",
       "      <td>2</td>\n",
       "      <td>1</td>\n",
       "      <td>1</td>\n",
       "      <td>0.200000</td>\n",
       "      <td>0.212122</td>\n",
       "      <td>0.590435</td>\n",
       "      <td>0.160296</td>\n",
       "      <td>108</td>\n",
       "      <td>1454</td>\n",
       "      <td>1562</td>\n",
       "    </tr>\n",
       "    <tr>\n",
       "      <th>4</th>\n",
       "      <td>5</td>\n",
       "      <td>2011-01-05</td>\n",
       "      <td>1</td>\n",
       "      <td>0</td>\n",
       "      <td>1</td>\n",
       "      <td>0</td>\n",
       "      <td>3</td>\n",
       "      <td>1</td>\n",
       "      <td>1</td>\n",
       "      <td>0.226957</td>\n",
       "      <td>0.229270</td>\n",
       "      <td>0.436957</td>\n",
       "      <td>0.186900</td>\n",
       "      <td>82</td>\n",
       "      <td>1518</td>\n",
       "      <td>1600</td>\n",
       "    </tr>\n",
       "  </tbody>\n",
       "</table>\n",
       "</div>"
      ],
      "text/plain": [
       "   instant      dteday  season  yr  mnth  holiday  weekday  workingday  \\\n",
       "0        1  2011-01-01       1   0     1        0        6           0   \n",
       "1        2  2011-01-02       1   0     1        0        0           0   \n",
       "2        3  2011-01-03       1   0     1        0        1           1   \n",
       "3        4  2011-01-04       1   0     1        0        2           1   \n",
       "4        5  2011-01-05       1   0     1        0        3           1   \n",
       "\n",
       "   weathersit      temp     atemp       hum  windspeed  casual  registered  \\\n",
       "0           2  0.344167  0.363625  0.805833   0.160446     331         654   \n",
       "1           2  0.363478  0.353739  0.696087   0.248539     131         670   \n",
       "2           1  0.196364  0.189405  0.437273   0.248309     120        1229   \n",
       "3           1  0.200000  0.212122  0.590435   0.160296     108        1454   \n",
       "4           1  0.226957  0.229270  0.436957   0.186900      82        1518   \n",
       "\n",
       "    cnt  \n",
       "0   985  \n",
       "1   801  \n",
       "2  1349  \n",
       "3  1562  \n",
       "4  1600  "
      ]
     },
     "execution_count": 2,
     "metadata": {},
     "output_type": "execute_result"
    }
   ],
   "source": [
    "bikes = pd.read_csv('data/bike_rental_day.csv')\n",
    "print(bikes.shape)\n",
    "bikes.head()"
   ]
  },
  {
   "cell_type": "code",
   "execution_count": null,
   "metadata": {},
   "outputs": [],
   "source": []
  },
  {
   "cell_type": "code",
   "execution_count": 3,
   "metadata": {},
   "outputs": [
    {
     "name": "stdout",
     "output_type": "stream",
     "text": [
      "0.86593707250342\n"
     ]
    }
   ],
   "source": [
    "# Find the number of days the bikes rented exceeded the threshold.\n",
    "days_over_threshold = bikes[bikes[\"cnt\"] > 2000].shape[0]\n",
    "\n",
    "# Find the total number of days we have data for.\n",
    "total_days = bikes.shape[0]\n",
    "\n",
    "# Get the probability that more than 2000 bikes were rented for any given day.\n",
    "probability_over_2000 = days_over_threshold / total_days\n",
    "print(probability_over_2000)"
   ]
  },
  {
   "cell_type": "markdown",
   "metadata": {},
   "source": [
    "Find the probability that more than 4000 bikes were rented on any given day.\n",
    "* Assign the result to `probability_over_4000`."
   ]
  },
  {
   "cell_type": "code",
   "execution_count": 4,
   "metadata": {},
   "outputs": [
    {
     "data": {
      "text/plain": [
       "0.6183310533515732"
      ]
     },
     "execution_count": 4,
     "metadata": {},
     "output_type": "execute_result"
    }
   ],
   "source": [
    "days_over_threshold4000 = bikes[bikes[\"cnt\"] > 4000].shape[0]\n",
    "\n",
    "probability_over_4000 = days_over_threshold4000 / total_days\n",
    "probability_over_4000"
   ]
  },
  {
   "cell_type": "code",
   "execution_count": null,
   "metadata": {},
   "outputs": [],
   "source": []
  },
  {
   "cell_type": "markdown",
   "metadata": {},
   "source": [
    "### `Up to` or `greater`\n",
    "\n",
    "Let's say we flip three coins, and we want to know the probability of getting `2 or more heads`. In order to do this, we'd need to add the probability of getting exactly 2 heads with the probability of getting exactly 3 heads. The probability that any single coin will be heads is .5 (the probability that the coin will be tails is the same, .5).<br>\n",
    "\n",
    "The probability of `3 heads` is easy to calculate -- this can only happen in one situation, where all three coins are heads, or `.5 * .5 * .5`, which equals `.125`.<br>\n",
    "\n",
    "The probability of `2 heads` is a little trickier -- there are three different combinations that the three coins can configure themselves in to end up with 2 heads. We show this in the table below, using H for heads, and T for tails.\n",
    "\n",
    "Coin1|Coin2|Coin3\n",
    "---|---|---\n",
    "H|H|T\n",
    "T|H|H\n",
    "H|T|H\n",
    "\n",
    "Each one of these has a probability of .5 * .5 * .5, so we just multiply 3 * .125 to get .375, the probability that we'll get 2 heads. <br>\n",
    "\n",
    "We then just have to add up the probability of getting 2 heads to the probability of getting 3 heads to get .5, the probability of getting 2 or more heads when we flip 3 coins."
   ]
  },
  {
   "cell_type": "markdown",
   "metadata": {},
   "source": [
    "Find the probability that `1` coin out of `3` is heads.\n",
    "* Assign the result to coin_1_prob."
   ]
  },
  {
   "cell_type": "code",
   "execution_count": 5,
   "metadata": {},
   "outputs": [
    {
     "data": {
      "text/plain": [
       "0.375"
      ]
     },
     "execution_count": 5,
     "metadata": {},
     "output_type": "execute_result"
    }
   ],
   "source": [
    "coin_1_prob = 3 * (.5)**3\n",
    "coin_1_prob"
   ]
  },
  {
   "cell_type": "code",
   "execution_count": null,
   "metadata": {},
   "outputs": [],
   "source": []
  },
  {
   "cell_type": "markdown",
   "metadata": {},
   "source": [
    "### Number of combinations\n",
    "\n",
    "What we found in the last screen was that there were exactly 3 combinations of coins to get 2 out of the 3 coins to be heads. There was exactly 1 combination to get all three coins to be heads. <br>\n",
    "\n",
    "Let's scale this example up a little bit. Let's say that we live in Los Angeles, CA, and the chance of any single day being sunny is .7. The chance of a day not being sunny is .3. <br>\n",
    "\n",
    "If we have a sample of 5 days, and we want to find the chance that all 5 of them will be sunny, there's only one combination that allows this to happen -- the sunny outcome has to occur on all 5 days: <br>\n",
    "\n",
    "Day1|Day2|Day3|Day4|Day5\n",
    "---|---|---|---|---\n",
    "S|S|S|S|S\n",
    "\n",
    "If we want to find the probability that only 4 days will be sunny, there are 5 possible combinations.\n",
    "\n",
    "Day1|Day2|Day3|Day4|Day5\n",
    "---|---|---|---|---\n",
    "S|S|S|S|N\n",
    "S|S|S|N|S\n",
    "S|S|N|S|S\n",
    "S|N|S|S|S\n",
    "N|S|S|S|S\n",
    "\n",
    "You may notice a pattern here. The most extreme cases -- a given outcome happening all the time or none of the time, can only occur in one combination. The next step lower, a given outcome happening every time except once, or a given outcome only happening once, can happen in as many combinations as there are total events.\n"
   ]
  },
  {
   "cell_type": "markdown",
   "metadata": {},
   "source": [
    "Find the number of combinations in which 1 day will be sunny.\n",
    "* Assign the result to `sunny_1_combinations`."
   ]
  },
  {
   "cell_type": "code",
   "execution_count": 6,
   "metadata": {},
   "outputs": [],
   "source": [
    "sunny_1_combinations = 5"
   ]
  },
  {
   "cell_type": "code",
   "execution_count": null,
   "metadata": {},
   "outputs": [],
   "source": []
  },
  {
   "cell_type": "markdown",
   "metadata": {},
   "source": [
    "In fact, there's an easily quantifiable pattern with the number of combinations. We can calculate the number of combinations in which an outcome can occur k times in a set of events with a formula:\n",
    "\n",
    "$$\\frac{N!}{k!(N-k)!}$$\n",
    "\n",
    "In this formula, $N$ is the total number of events we have, and $k$ is the target number of times we want our desired outcome to occur. So if we wanted to find the number of combinations in which 4 out of 5 days can be sunny, we'd set $N$ to 5, and $k$ to 4. The ! symbol means factorial. A factorial means \"multiply every number from 1 to this number together\". So 4! is `1*2*3*4`, which is `24`.<br>\n",
    "\n",
    "Plugging `4` and `5` into this formula gives us:\n",
    "\n",
    "$$ \\frac{5!}{4!(5-4)!}=\\frac{5!}{4!(5-4)!}=\\frac{1*2*3*4*5}{1*2*3*4(1!)}=\\frac{120}{24}=5 $$"
   ]
  },
  {
   "cell_type": "markdown",
   "metadata": {},
   "source": [
    "We can calculate probabilities greater than or equal to a threshold with our bike sharing data. We found that the probability of having more riders than 4000 is about .6. We can use this to find the probability that in 10 days, 7 or more days have more than 4000 riders. <br>\n",
    "\n",
    "But first, let's find the number of combinations in which 7 days out of 10 have more than 4000 rentals. We can repeat this process for 8 and 9 days.\n"
   ]
  },
  {
   "cell_type": "code",
   "execution_count": 7,
   "metadata": {},
   "outputs": [],
   "source": [
    "import math\n",
    "def find_outcome_combinations(N, k):\n",
    "    \n",
    "    # Calculate the numerator of our formula.\n",
    "    numerator = math.factorial(N)\n",
    "    \n",
    "    # Calculate the denominator.\n",
    "    denominator = math.factorial(k) * math.factorial(N - k)\n",
    "    \n",
    "    # Divide them to get the final value.\n",
    "    return numerator / denominator\n",
    "\n",
    "combinations_7 = find_outcome_combinations(10, 7)"
   ]
  },
  {
   "cell_type": "code",
   "execution_count": 8,
   "metadata": {},
   "outputs": [
    {
     "data": {
      "text/plain": [
       "120.0"
      ]
     },
     "execution_count": 8,
     "metadata": {},
     "output_type": "execute_result"
    }
   ],
   "source": [
    "combinations_7"
   ]
  },
  {
   "cell_type": "code",
   "execution_count": null,
   "metadata": {},
   "outputs": [],
   "source": []
  },
  {
   "cell_type": "markdown",
   "metadata": {},
   "source": [
    "* Find the number of combinations where 8 days out of 10 have more than 4000 rentals. Assign the result to combinations_8.\n",
    "* Find the number of combinations where 9 days out of 10 have more than 4000 rentals. Assign the result to combinations_9."
   ]
  },
  {
   "cell_type": "code",
   "execution_count": 9,
   "metadata": {},
   "outputs": [],
   "source": [
    "combinations_8 = find_outcome_combinations(10, 8)"
   ]
  },
  {
   "cell_type": "code",
   "execution_count": 10,
   "metadata": {},
   "outputs": [],
   "source": [
    "combinations_9 = find_outcome_combinations(10, 9)"
   ]
  },
  {
   "cell_type": "code",
   "execution_count": null,
   "metadata": {},
   "outputs": [],
   "source": []
  },
  {
   "cell_type": "markdown",
   "metadata": {},
   "source": [
    "### The probability for each combination\n",
    "\n",
    "Let's go back to our example about the number of sunny days in Los Angeles. We can call the probability that a day will be sunny \n",
    "$p$, and the probability that a day won't be sunny $q$.<br>\n",
    "\n",
    "$p$ is the probability that an outcome will occur, and $q$ is the complementary probability that the outcome won't happen -- $1 - p = q$\n",
    ".<br>\n",
    "\n",
    "When we calculate the number of combinations in which a given outcome can occur k times in N events, each of those combinations has a certain probability of occurring.<br>\n",
    "\n",
    "Let's say that for sunny days in Los Angeles, $p$ is .7, and $q$ is .3. If we look at 5 days, there is one combination in which every day is sunny -- the probability for this combination is `.7 * .7 * .7 * .7 * .7`, which equals `.168`.<br>\n",
    "\n",
    "There are 5 combinations in which only 4 days are sunny -- you can see our table earlier for a closer look. We can calculate the probability of the first combination with .7 * .7 * .7 * .7 * .3, which equals .072. The probability of the second combination is .7 * .7 * .7 * .3 * .7, which equals .072. We're multiplying all the same numbers, just in a different order, so this combination has the same probability as the first combination. The probability for each combination in which \n",
    " of the same outcome can happen in \n",
    " events is always the same."
   ]
  },
  {
   "cell_type": "markdown",
   "metadata": {},
   "source": [
    "Find the probability of a single combination for finding `3` days out of `5` are sunny.\n",
    "* The combination is `Sunny, Sunny, Sunny, Not Sunny, Not Sunny`.\n",
    "* Assign the result to `prob_combination_3`."
   ]
  },
  {
   "cell_type": "code",
   "execution_count": 11,
   "metadata": {},
   "outputs": [],
   "source": [
    "prob_combination_3 = .7*.7*.7*.3*.3"
   ]
  },
  {
   "cell_type": "code",
   "execution_count": 12,
   "metadata": {},
   "outputs": [
    {
     "data": {
      "text/plain": [
       "0.03086999999999999"
      ]
     },
     "execution_count": 12,
     "metadata": {},
     "output_type": "execute_result"
    }
   ],
   "source": [
    "prob_combination_3"
   ]
  },
  {
   "cell_type": "code",
   "execution_count": null,
   "metadata": {},
   "outputs": [],
   "source": []
  },
  {
   "cell_type": "markdown",
   "metadata": {},
   "source": [
    "As we learned earlier, the probability for each combination in which k of the same outcome can happen in N events is always the same. Given this, we can calculate the probability of a given outcome happening k times in N events by multiplying the number of combinations in which our result can occur by the probability of a single combination occurring.\n",
    "\n",
    "The probability of a single combination occurring is given by $p^{k} * q^{N-k}$. We can verify this with our sunny days example. First, let's find the probability of one combination in which there are 5 sunny days out of 5:\n",
    "\n",
    "$$.7^{5} * .3^{5-5} = .168 * .3^{0} = .168 * 1 = .168$$\n",
    "\n",
    "Now, let's find the probability of one combination in which there are 4 sunny days out of 5:\n",
    "\n",
    "$$.7^{4} * .3^{5-4} = .24 * .3^{1} = .24 * .3 = .072$$\n",
    "\n",
    "This matches up perfectly with what we did earlier. To find the overall probabilty of 4 days out of 5 being sunny, we just multiply the number of combinations by the probability of any single combination occurring. This gives us .36."
   ]
  },
  {
   "cell_type": "code",
   "execution_count": null,
   "metadata": {},
   "outputs": [],
   "source": []
  },
  {
   "cell_type": "markdown",
   "metadata": {},
   "source": [
    "Now we know enough to find the probability that within 10 days, 7 or more days have more than 4000 riders. The probability of having more than 4000 riders on any single day is about `.6`. This means that **p is .6, and q is .4**."
   ]
  },
  {
   "cell_type": "markdown",
   "metadata": {},
   "source": [
    "Write a function to find the probability of a single combination occurring.\n",
    "* Use the function to calculate the probability of 8 days out of 10 having more than 4000 riders.\n",
    "  * Assign the result to prob_8.\n",
    "* Use the function to calculate the probability of 9 days out of 10 having more than 4000 riders.\n",
    "  * Assign the result to prob_9.\n",
    "* Use the function to calculate the probability of 10 days out of 10 having more than 4000 riders.\n",
    "  * Assign the result to prob_10."
   ]
  },
  {
   "cell_type": "code",
   "execution_count": 18,
   "metadata": {},
   "outputs": [],
   "source": [
    "def calc_prob_single_comb(p, k, N):\n",
    "    \n",
    "    return find_outcome_combinations(N, k)*(p**k)*((1-p)**(N-k))\n",
    "\n",
    "prob_8 = calc_prob_single_comb(.6, 8, 10)\n",
    "prob_9 = calc_prob_single_comb(.6, 9, 10)\n",
    "prob_10 = calc_prob_single_comb(.6, 10, 10)"
   ]
  },
  {
   "cell_type": "code",
   "execution_count": 19,
   "metadata": {},
   "outputs": [
    {
     "name": "stdout",
     "output_type": "stream",
     "text": [
      "0.12093235199999998 \n",
      " 0.04031078399999999 \n",
      " 0.006046617599999997\n"
     ]
    }
   ],
   "source": [
    "print(prob_8,'\\n', prob_9, '\\n', prob_10)"
   ]
  },
  {
   "cell_type": "code",
   "execution_count": null,
   "metadata": {},
   "outputs": [],
   "source": []
  },
  {
   "cell_type": "markdown",
   "metadata": {},
   "source": [
    "### Let's say we've invented a weather control device \n",
    "that can make the weather sunny (if only!), and we decide to test it on Los Angeles. The device isn't perfect, and can't make every single day sunny -- it can only increase the chance that a day is sunny. **We turn it on for 10 days, and notice that the weather is sunny in 8 of those**.<br>\n",
    "\n",
    "We touched on the question of statistical significance before -- it's the question of whether a result happened as the result of something we changed, or whether a result is a matter of random chance.<br>\n",
    "\n",
    "**Typically, researchers will use 5% as a significance threshold** -- if an event would only happen 5% or less of the time by random chance, then it is statistically significant. If an event would happen more than 5% of the time by random chance, then it isn't statistically significant.<br>\n",
    "\n",
    "In order to determine statistical significance, we need to determine the percentage chance that the number of outcomes we saw or greater could happen by random chance.<br>\n",
    "\n",
    "In our case, \n",
    "* there is 12% chance that the weather would be sunny 8 days out of 10 by random chance. \n",
    "  * We add this to 4% for 9 days out of 10, \n",
    "  * and .6% for 10 days out of 10 \n",
    "  * to get a 16.6% total chance of the sunny outcome happening 8 or more time in our 10 days. \n",
    " \n",
    "Our result **isn't statistically significant**, so we'd have to go back to the lab and spend some time adding more flux capacitors to our weather control device.<br>\n",
    "\n",
    "Let's say we recalibrate our weather control device successfully, and observe for 10 more days, of which 9 of them are sunny. This only has a 4.6% chance of happening randomly (probability of 9 plus probability of 10). This is a statistically significant result, but it isn't a slam-dunk. It would require more investigation, including collecting results for more days, to get a more conclusive result.\n",
    "\n",
    "In practice, **setting statistical significance thresholds is tricky, and can be highly variable**. We'll be touching on how to set thresholds later on."
   ]
  },
  {
   "cell_type": "code",
   "execution_count": null,
   "metadata": {},
   "outputs": [],
   "source": []
  }
 ],
 "metadata": {
  "kernelspec": {
   "display_name": "Python 3",
   "language": "python",
   "name": "python3"
  },
  "language_info": {
   "codemirror_mode": {
    "name": "ipython",
    "version": 3
   },
   "file_extension": ".py",
   "mimetype": "text/x-python",
   "name": "python",
   "nbconvert_exporter": "python",
   "pygments_lexer": "ipython3",
   "version": "3.6.2"
  }
 },
 "nbformat": 4,
 "nbformat_minor": 2
}
