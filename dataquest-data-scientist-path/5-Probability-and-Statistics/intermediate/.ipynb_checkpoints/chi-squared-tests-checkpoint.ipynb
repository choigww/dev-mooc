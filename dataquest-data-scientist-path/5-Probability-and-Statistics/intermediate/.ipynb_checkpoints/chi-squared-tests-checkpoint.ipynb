{
 "cells": [
  {
   "cell_type": "markdown",
   "metadata": {},
   "source": [
    "# Chi-squared tests\n",
    "In this mission, we'll be learning about the chi-squared test for categorical data. This test enables us to determine the statistical significance of observing a set of categorical values.<br>\n",
    "\n",
    "We'll be working with data on US income and demographics throughout this mission. Here are the first few rows of the data, in csv format:\n",
    "\n",
    "```\n",
    "age,workclass,fnlwgt,education,education_num,marital_status,occupation,relationship,race,sex,capital_gain,capital_loss,hours_per_week,native_country,high_income\n",
    "39, State-gov, 77516, Bachelors, 13, Never-married, Adm-clerical, Not-in-family, White, Male, 2174, 0, 40, United-States, <=50K\n",
    "50, Self-emp-not-inc, 83311, Bachelors, 13, Married-civ-spouse, Exec-managerial, Husband, White, Male, 0, 0, 13, United-States, <=50K\n",
    "38, Private, 215646, HS-grad, 9, Divorced, Handlers-cleaners, Not-in-family, White, Male, 0, 0, 40, United-States, <=50K\n",
    "```\n",
    "\n",
    "Each row represents a single person who was counted in the `1990` US Census, and contains information about their income and demograpics. Here are some of the relevant columns:\n",
    "\n",
    "* `age` -- how old the person is\n",
    "* `workclass` -- the type of sector the person is employed in.\n",
    "* `race` -- the race of the person.\n",
    "* `sex` -- the gender of the person, either Male or Female.\n",
    "\n",
    "The entire dataset has `32561` rows, and is a sample of the full Census. Of the rows, `10771` are `Female`, and `21790` are `Male`. These numbers look a bit off, because the full Census shows that the US is about `50%` Male and `50%` Female. So our expected values for number of Males and Females would be `16280.5` each.\n",
    "\n",
    "Here's a diagram:\n",
    "\n",
    " |Male|Female|Total\n",
    "---|---|---|---\n",
    "Observed|21790|10771|32561\n",
    "Expected|16280.5|16280.5|32561\n",
    "\n",
    "We know that something looks off, but we don't quite know how to quantify how different the observed and expected values are. We also don't have any way to determine if there's a statistically significant difference between the two groups, and if we need to investigate further.<br>\n",
    "\n",
    "This is where a chi-squared test can help. The chi-squared test enables us to quantify the difference between sets of observed and expected categorical values."
   ]
  },
  {
   "cell_type": "code",
   "execution_count": 1,
   "metadata": {},
   "outputs": [],
   "source": [
    "import pandas as pd\n",
    "import numpy as np\n",
    "from matplotlib import pyplot as plt\n",
    "%matplotlib inline"
   ]
  },
  {
   "cell_type": "code",
   "execution_count": 2,
   "metadata": {},
   "outputs": [
    {
     "data": {
      "text/html": [
       "<div>\n",
       "<style scoped>\n",
       "    .dataframe tbody tr th:only-of-type {\n",
       "        vertical-align: middle;\n",
       "    }\n",
       "\n",
       "    .dataframe tbody tr th {\n",
       "        vertical-align: top;\n",
       "    }\n",
       "\n",
       "    .dataframe thead th {\n",
       "        text-align: right;\n",
       "    }\n",
       "</style>\n",
       "<table border=\"1\" class=\"dataframe\">\n",
       "  <thead>\n",
       "    <tr style=\"text-align: right;\">\n",
       "      <th></th>\n",
       "      <th>age</th>\n",
       "      <th>workclass</th>\n",
       "      <th>fnlwgt</th>\n",
       "      <th>education</th>\n",
       "      <th>education_num</th>\n",
       "      <th>marital_status</th>\n",
       "      <th>occupation</th>\n",
       "      <th>relationship</th>\n",
       "      <th>race</th>\n",
       "      <th>sex</th>\n",
       "      <th>capital_gain</th>\n",
       "      <th>capital_loss</th>\n",
       "      <th>hours_per_week</th>\n",
       "      <th>native_country</th>\n",
       "      <th>high_income</th>\n",
       "    </tr>\n",
       "  </thead>\n",
       "  <tbody>\n",
       "    <tr>\n",
       "      <th>0</th>\n",
       "      <td>39</td>\n",
       "      <td>State-gov</td>\n",
       "      <td>77516</td>\n",
       "      <td>Bachelors</td>\n",
       "      <td>13</td>\n",
       "      <td>Never-married</td>\n",
       "      <td>Adm-clerical</td>\n",
       "      <td>Not-in-family</td>\n",
       "      <td>White</td>\n",
       "      <td>Male</td>\n",
       "      <td>2174</td>\n",
       "      <td>0</td>\n",
       "      <td>40</td>\n",
       "      <td>United-States</td>\n",
       "      <td>&lt;=50K</td>\n",
       "    </tr>\n",
       "    <tr>\n",
       "      <th>1</th>\n",
       "      <td>50</td>\n",
       "      <td>Self-emp-not-inc</td>\n",
       "      <td>83311</td>\n",
       "      <td>Bachelors</td>\n",
       "      <td>13</td>\n",
       "      <td>Married-civ-spouse</td>\n",
       "      <td>Exec-managerial</td>\n",
       "      <td>Husband</td>\n",
       "      <td>White</td>\n",
       "      <td>Male</td>\n",
       "      <td>0</td>\n",
       "      <td>0</td>\n",
       "      <td>13</td>\n",
       "      <td>United-States</td>\n",
       "      <td>&lt;=50K</td>\n",
       "    </tr>\n",
       "    <tr>\n",
       "      <th>2</th>\n",
       "      <td>38</td>\n",
       "      <td>Private</td>\n",
       "      <td>215646</td>\n",
       "      <td>HS-grad</td>\n",
       "      <td>9</td>\n",
       "      <td>Divorced</td>\n",
       "      <td>Handlers-cleaners</td>\n",
       "      <td>Not-in-family</td>\n",
       "      <td>White</td>\n",
       "      <td>Male</td>\n",
       "      <td>0</td>\n",
       "      <td>0</td>\n",
       "      <td>40</td>\n",
       "      <td>United-States</td>\n",
       "      <td>&lt;=50K</td>\n",
       "    </tr>\n",
       "    <tr>\n",
       "      <th>3</th>\n",
       "      <td>53</td>\n",
       "      <td>Private</td>\n",
       "      <td>234721</td>\n",
       "      <td>11th</td>\n",
       "      <td>7</td>\n",
       "      <td>Married-civ-spouse</td>\n",
       "      <td>Handlers-cleaners</td>\n",
       "      <td>Husband</td>\n",
       "      <td>Black</td>\n",
       "      <td>Male</td>\n",
       "      <td>0</td>\n",
       "      <td>0</td>\n",
       "      <td>40</td>\n",
       "      <td>United-States</td>\n",
       "      <td>&lt;=50K</td>\n",
       "    </tr>\n",
       "    <tr>\n",
       "      <th>4</th>\n",
       "      <td>28</td>\n",
       "      <td>Private</td>\n",
       "      <td>338409</td>\n",
       "      <td>Bachelors</td>\n",
       "      <td>13</td>\n",
       "      <td>Married-civ-spouse</td>\n",
       "      <td>Prof-specialty</td>\n",
       "      <td>Wife</td>\n",
       "      <td>Black</td>\n",
       "      <td>Female</td>\n",
       "      <td>0</td>\n",
       "      <td>0</td>\n",
       "      <td>40</td>\n",
       "      <td>Cuba</td>\n",
       "      <td>&lt;=50K</td>\n",
       "    </tr>\n",
       "  </tbody>\n",
       "</table>\n",
       "</div>"
      ],
      "text/plain": [
       "   age          workclass  fnlwgt   education  education_num  \\\n",
       "0   39          State-gov   77516   Bachelors             13   \n",
       "1   50   Self-emp-not-inc   83311   Bachelors             13   \n",
       "2   38            Private  215646     HS-grad              9   \n",
       "3   53            Private  234721        11th              7   \n",
       "4   28            Private  338409   Bachelors             13   \n",
       "\n",
       "        marital_status          occupation    relationship    race      sex  \\\n",
       "0        Never-married        Adm-clerical   Not-in-family   White     Male   \n",
       "1   Married-civ-spouse     Exec-managerial         Husband   White     Male   \n",
       "2             Divorced   Handlers-cleaners   Not-in-family   White     Male   \n",
       "3   Married-civ-spouse   Handlers-cleaners         Husband   Black     Male   \n",
       "4   Married-civ-spouse      Prof-specialty            Wife   Black   Female   \n",
       "\n",
       "   capital_gain  capital_loss  hours_per_week  native_country high_income  \n",
       "0          2174             0              40   United-States       <=50K  \n",
       "1             0             0              13   United-States       <=50K  \n",
       "2             0             0              40   United-States       <=50K  \n",
       "3             0             0              40   United-States       <=50K  \n",
       "4             0             0              40            Cuba       <=50K  "
      ]
     },
     "execution_count": 2,
     "metadata": {},
     "output_type": "execute_result"
    }
   ],
   "source": [
    "income = pd.read_csv('data/income.csv')\n",
    "income.head()"
   ]
  },
  {
   "cell_type": "code",
   "execution_count": null,
   "metadata": {},
   "outputs": [],
   "source": []
  },
  {
   "cell_type": "markdown",
   "metadata": {},
   "source": [
    "## Calculating differences\n",
    "\n",
    "One way that we can determine the differences between observed and expected values is to compute simple proportional differences.<br>\n",
    "\n",
    "Let's say an expected value is 1000, and the observed value is 1100. We can compute the proportional difference with:\n",
    "\n",
    "$$\\frac{(observed−expected)}{expected}=\\frac{(1100−1000)}{1000}=.1$$\n",
    "\n",
    "So there's a `.1`, or `10%`, difference between our observed and expected values."
   ]
  },
  {
   "cell_type": "code",
   "execution_count": null,
   "metadata": {},
   "outputs": [],
   "source": []
  },
  {
   "cell_type": "markdown",
   "metadata": {},
   "source": [
    "In the last screen, our observed values were `10771 Females`, and `21790 Males`. Our expected values were `16280.5 Females` and `16280.5 Males`.\n",
    "* Compute the proportional difference in number of observed `Females` vs number of expected `Females`. Assign the result to `female_diff`.\n",
    "* Compute the proportional difference in number of observed `Males` vs number of expected `Males`. Assign the result to `male_diff`."
   ]
  },
  {
   "cell_type": "code",
   "execution_count": 3,
   "metadata": {},
   "outputs": [],
   "source": [
    "female_diff = (10771 - 16280.5) / 16280.5 \n",
    "male_diff = (21790 - 16280.5) / 16280.5"
   ]
  },
  {
   "cell_type": "code",
   "execution_count": null,
   "metadata": {},
   "outputs": [],
   "source": []
  },
  {
   "cell_type": "markdown",
   "metadata": {},
   "source": [
    "## Updating the formula\n",
    "\n",
    "In the last screen, we got `-0.338` for the `Female` difference, and `0.338` for the `Male` difference. These are great for finding individual differences for each category, but since both values add up to `0`, they don't give us a meaningful measure of how our overall observed counts deviate from the expected counts.<br>\n",
    "\n",
    "You may recall this diagram from earlier:\n",
    "\n",
    " |Male|Female|Total\n",
    "---|---|---|---\n",
    "Observed|21790|10771|32561\n",
    "Expected|16280.5|16280.5|32561\n",
    "\n",
    "No matter what numbers you plug in for observed Male or Female counts, the differences between observed and expected will always add to 0, because the total observed count for Male and Female items always comes out to 32561. If the observed count of Females is high, the count of Males has to be low to compensate, and vice versa.\n",
    "\n",
    "What we really want to find is one number that can tell us how much all of our observed counts deviate from all of their expected counterparts. This will let us figure out if our difference in counts is statistically significant. We can get one step closer to this by squaring the top term in our difference formula:\n",
    "\n",
    "$$\\frac{(observed−expected)^2}{expected}=\\frac{(1100−1000)^2}{1000}=10$$\n",
    "\n",
    "Squaring the difference will ensure that all the differences don't sum to zero (you can't have negative squares), giving us a non-zero number we can use to assess statistical significance.<br>\n",
    "\n",
    "We can calculate $χ^2$, the chi-squared value, by adding up all of the squared differences between observed and expected values."
   ]
  },
  {
   "cell_type": "code",
   "execution_count": null,
   "metadata": {},
   "outputs": [],
   "source": []
  },
  {
   "cell_type": "markdown",
   "metadata": {},
   "source": [
    "In the last screen, our observed values were `10771 Females`, and `21790 Males`. Our expected values were `16280.5 Females` and `16280.5` Males.\n",
    "* Compute the difference in number of observed `Females` vs number of expected `Females` using the updated technique. Assign the result to `female_diff`.\n",
    "* Compute the difference in number of observed `Males` vs number of expected `Males` using the updated technique. Assign the result to `male_diff`.\n",
    "* Add `male_diff` and `female_diff` together and assign to the variable `gender_chisq`."
   ]
  },
  {
   "cell_type": "code",
   "execution_count": 4,
   "metadata": {},
   "outputs": [
    {
     "data": {
      "text/plain": [
       "3728.950615767329"
      ]
     },
     "execution_count": 4,
     "metadata": {},
     "output_type": "execute_result"
    }
   ],
   "source": [
    "female_diff = (10771 - 16280.5)**2/16280.5\n",
    "male_diff = (21790 - 16280.5)**2/16280.5\n",
    "gender_chisq = female_diff + male_diff\n",
    "gender_chisq"
   ]
  },
  {
   "cell_type": "code",
   "execution_count": null,
   "metadata": {},
   "outputs": [],
   "source": []
  },
  {
   "cell_type": "markdown",
   "metadata": {},
   "source": [
    "## Generating a distribution\n",
    "\n",
    "Now that we have a chi-squared value for our observed and expected gender counts, we need a way to figure out **what the chi-squared value represents**. \n",
    "* We can translate a chi-squared value into **a statistical significance value** using a chi-squared sampling distribution. \n",
    "\n",
    "If you recall, we covered statistical significance and p-values in the last mission. A p-value allows us to determine whether the difference between two values is due to chance, or due to an underlying difference.<br>\n",
    "\n",
    "We can generate a chi-squared sampling distribution using our expected probabilities. **If we repeatedly generate random samples that contain 32561 samples, and graph the chi-squared value of each sample, we'll be able to generate a distribution**. Here's a rough algorithm:\n",
    "\n",
    "* Randomly generate `32561` numbers that range from `0-1`.\n",
    "*  Based on the expected probabilities, assign `Male` or `Female` to each number.\n",
    "* Compute the observed frequences of `Male` and `Female`.\n",
    "* Compute the chi-squared value and save it.\n",
    "* Repeat several times.\n",
    "* Create a histogram of all the chi-squared values.\n",
    "\n",
    "By comparing our chi-squared value to the distribution, and seeing what percentage of the distribution is greater than our value, we'll get a p-value. For instance, if `5%` of the values in the distribution are greater than our chi-squared value, the p-value is .05."
   ]
  },
  {
   "cell_type": "code",
   "execution_count": null,
   "metadata": {},
   "outputs": [],
   "source": []
  },
  {
   "cell_type": "markdown",
   "metadata": {},
   "source": [
    "Inside a for loop that repeats `1000` times:\n",
    "* Use the `numpy.random.random` function to generate 32561 numbers between `0.0` and `1.0`.\n",
    "* Pass `(32561,)` into the `numpy.random.random` function to get a vector with `32561` elements.\n",
    "  * For each of the numbers, if it is less than `.5`, replace it with `0`, otherwise replace it with `1`.\n",
    "  * Count up how many times `0` occurs (`Male` frequency), and how many times `1` occurs (`Female` frequency).\n",
    "  * Use the expected frequencies from earlier to compute the chi-squared value.\n",
    "    * Compute `male_diff` by subtracting the expected `Male` count from the observed `Male` count, squaring it, and dividing by the expected `Male` count.\n",
    "    * Compute `female_diff` by subtracting the expected `Female` count from the observed `Female` count, squaring it, and dividing by the expected `Female` count.\n",
    "    * Add up `male_diff` and `female_diff` to get the `chi-squared vlaue`.\n",
    "* Append the `chi-squared value` to `chi_squared_values`.\n",
    "* Create a histogram with `chi_squared_values` using the `plt.hist` method."
   ]
  },
  {
   "cell_type": "code",
   "execution_count": 10,
   "metadata": {},
   "outputs": [
    {
     "data": {
      "image/png": "[encoded data removed]",
      "text/plain": [
       "<matplotlib.figure.Figure at 0x106d44470>"
      ]
     },
     "metadata": {},
     "output_type": "display_data"
    }
   ],
   "source": [
    "chi_squared_values = []\n",
    "\n",
    "for i in range(1000):\n",
    "    \n",
    "    # get a vector with 32561 elements\n",
    "    vfunc = np.vectorize(lambda x: 1 if x>=.5 else 0)\n",
    "    rand_array = vfunc(np.random.random(32561,))\n",
    "    \n",
    "    female_frequency = np.count_nonzero(rand_array)\n",
    "    male_frequency = 32561 - female_frequency\n",
    "    \n",
    "    female_diff = (female_frequency - 16280.5)**2/16280.5\n",
    "    male_diff = (male_frequency - 16280.5)**2/16280.5\n",
    "    \n",
    "    chi_squared_values.append(female_diff+male_diff)\n",
    "    \n",
    "\n",
    "plt.hist(chi_squared_values); plt.show()"
   ]
  },
  {
   "cell_type": "code",
   "execution_count": null,
   "metadata": {},
   "outputs": [],
   "source": []
  },
  {
   "cell_type": "markdown",
   "metadata": {},
   "source": [
    "## Statistical significance\n",
    "\n",
    "In the last screen, our calculated chi-squared value is greater than all the values in the distribution, so our p-value is `0`, indicating that our result is **statistically significant**. You may recall from the last mission that `.05` is the typical threshold for statistical significance, and anything below it is considered significant.<br>\n",
    "\n",
    "A significant value indicates that something is different between the observed and expected values, but it doesn't indicate what is different.<br>\n",
    "\n",
    "Now that we have a chi-squared sampling distribution, we can compare the chi-squared value we calculated for our data to it to see if our result is statistically significant. The chi-squared value we calculated was `3728.95`. The highest value in the chi-squared sampling distribution was about `12`. This means that **our chi-squared value is higher than `100%` of all the values in the sampling distribution, so we get a p-value of `0`**. This means that there is a `0%` chance that we could get such a result randomly.<br>\n",
    "\n",
    "This would indicate that we need to investigate our data collection techniques more closely to figure out why such a result occurred.<br>\n",
    "\n",
    "Because a chi-squared value has no sign (all chi-squared values are positive), it doesn't tell us anything about the direction of the statistical significance. If we had `10771` `Females`, and `21790` `Males`, or `10771` `Males`, and `21790` `Females`, we'd get the same chi-squared value. It's important to look at the data and see how the data is unbalanced after calculating a chi-squared value and getting a significant result."
   ]
  },
  {
   "cell_type": "code",
   "execution_count": null,
   "metadata": {},
   "outputs": [],
   "source": []
  },
  {
   "cell_type": "markdown",
   "metadata": {},
   "source": [
    "## Smaller samples\n",
    "\n",
    "One interesting thing about chi-squared values is that they get smaller as the sample size decreases. For example, with our `Male` and `Female` example, let's say we only have `100` rows, but the same observed and expected proportions:\n",
    "\n",
    " |Male|Female|Total\n",
    "---|---|---|---\n",
    "Observed|66.92|33.08|100\n",
    "Expected|50|50|100\n",
    "\n",
    "We can compute the chi-squared value for this:\n",
    "\n",
    "$$\\frac{(observedM - expectedM)^2}{expectedM}+\\frac{(observedF - expectedF)^2}{expectedF}$$\n",
    "\n",
    "Assign the values:\n",
    "\n",
    "$$\\frac{(66.92 - 50)^{2}}{50} +  \\frac{(33 - 50)^{2}}{50} = 5.726 + 5.726 = 11.4522$$\n",
    "\n",
    "`32561` (our original number of rows) divided by `100` (our new number of rows) is `325.61`. If we multiply `11.4522` by `325.61`, we get `3728.95`, which is the exact same chi-squared value that we got two screens ago. <br>\n",
    "\n",
    "So as sample size changes, the chi-squared value changes proportionally.\n",
    "\n"
   ]
  },
  {
   "cell_type": "code",
   "execution_count": null,
   "metadata": {},
   "outputs": [],
   "source": []
  },
  {
   "cell_type": "markdown",
   "metadata": {},
   "source": [
    "* Let's say our observed values are `107.71` `Females`, and `217.90` `Males`. Our expected values are `162.805` `Females` and `162.805` `Males`.\n",
    "  * Compute the difference in number of observed `Females` vs number of expected `Females` using the new formula. Assign the result to `female_diff`.\n",
    "  * Compute the difference in number of observed `Males` vs number of expected `Males` using the new formula. Assign the result to `male_diff`.\n",
    "  * Add `male_diff` and `female_diff` together and assign to the variable `gender_chisq`."
   ]
  },
  {
   "cell_type": "code",
   "execution_count": 11,
   "metadata": {},
   "outputs": [],
   "source": [
    "female_diff = (107.71 - 162.805)**2/162.805\n",
    "male_diff = (217.90 - 162.805)**2/162.805\n",
    "gender_chisq = female_diff + male_diff"
   ]
  },
  {
   "cell_type": "code",
   "execution_count": null,
   "metadata": {},
   "outputs": [],
   "source": []
  },
  {
   "cell_type": "markdown",
   "metadata": {},
   "source": [
    "## Sampling distribution equality\n",
    "\n",
    "As sample sizes get larger, seeing large deviations from the expected probabilities gets less and less likely. For example, if you're flipping a coin `10` times, you wouldn't be surprised to see this:\n",
    "\n",
    " |Heads|Tails|Total\n",
    "---|---|---|---\n",
    "Observed|8|2|10\n",
    "Exepected|5|5|10\n",
    "\n",
    "This is a fairly skewed result, but in a small sample size, random chance can create effects like this. It would be very surprising to see this after flipping a coin `1000` times, though:\n",
    "\n",
    " |Heads|Tails|Total\n",
    "---|---|---|---\n",
    "Observed|800|200|1000\n",
    "Exepected|500|500|1000\n",
    "\n",
    "A result like this would probably make you check the coin to see if it's a trick coin or weighted improperly.<br>\n",
    "\n",
    "The chi-squared value follows the same principle. Chi-squared values for the same sized effect increase as sample size increases, but the chance of getting a high chi-squared value decreases as the sample gets larger.<br>\n",
    "\n",
    "These two effects offset each other, and a chi-squared sampling distribution constructed when sampling `200` items for each iteration will look identical to one sampling `1000` items.<br>\n",
    "\n",
    "This enables us to easily compare any chi-squared value to a master sampling distribution to determine statistical significance, no matter what sample size the chi-squared value was created with."
   ]
  },
  {
   "cell_type": "code",
   "execution_count": null,
   "metadata": {},
   "outputs": [],
   "source": []
  },
  {
   "cell_type": "markdown",
   "metadata": {},
   "source": [
    "Inside a for loop that repeats 1000 times:\n",
    "* Use the `numpy.random.random` function to generate `300` numbers between `0.0` and `1.0`.\n",
    "* Pass `(300,)` into the `numpy.random.random` function to get a vector with 300 elements.\n",
    "  * For each of the numbers, if it is less than `.5`, replace it with `0`, otherwise replace it with `1`.\n",
    "  * Count up how many times `0` occurs (`Male` frequency), and how many times `1` occurs (`Female` frequency).\n",
    "  * Use the expected frequencies from earlier to compute the chi-squared value.\n",
    "    * Compute `male_diff` by subtracting the expected `Male` count (`150`) from the observed `Male` count, squaring it, and dividing by the expected `Male` count.\n",
    "    * Compute `female_diff` by subtracting the expected `Female` count (`150`) from the observed `Female` count, squaring it, and dividing by the expected `Female` count.\n",
    "    * Add up `male_diff` and `female_diff` to get the chi-squared vlaue.\n",
    "  * Append the chi-squared value to `chi_squared_values`.\n",
    "* Create a histogram with `chi_squared_values` using the `plt.hist` method.\n",
    "* This plot should look identical to the one you generated earlier."
   ]
  },
  {
   "cell_type": "code",
   "execution_count": null,
   "metadata": {},
   "outputs": [],
   "source": []
  },
  {
   "cell_type": "code",
   "execution_count": 13,
   "metadata": {},
   "outputs": [
    {
     "data": {
      "image/png": "[encoded data removed]",
      "text/plain": [
       "<matplotlib.figure.Figure at 0x10b30f5f8>"
      ]
     },
     "metadata": {},
     "output_type": "display_data"
    }
   ],
   "source": [
    "chi_squared_values = []\n",
    "\n",
    "for i in range(1000):\n",
    "    \n",
    "    vfunc = np.vectorize(lambda x:1 if x>=.5 else 0)\n",
    "    rand_arr = vfunc(np.random.random(300,))\n",
    "    \n",
    "    female_frequency = np.count_nonzero(rand_arr)\n",
    "    male_frequency = 300 - female_frequency\n",
    "    \n",
    "    female_diff = (female_frequency-150)**2/150\n",
    "    male_diff = (male_frequency-150)**2/150\n",
    "    \n",
    "    chi_squared_values.append(female_diff + male_diff)\n",
    "    \n",
    "\n",
    "plt.hist(chi_squared_values); plt.show()"
   ]
  },
  {
   "cell_type": "code",
   "execution_count": null,
   "metadata": {},
   "outputs": [],
   "source": []
  },
  {
   "cell_type": "markdown",
   "metadata": {},
   "source": [
    "## Degrees of freedom\n",
    "\n",
    "When we were computing the chi-squared value earlier, we were working with `2` values that could be vary, the number of `Males` and the number of `Females`. But actually, only `1` of the values could vary. Since we already know the total number of values, `32561`, if we set one of the values, the other has to be the difference between `32561` and the value we set.<br>\n",
    "\n",
    "The diagram from earlier might clarify this:\n",
    "\n",
    " |Heads|Tails|Total\n",
    "---|---|---|---\n",
    "Observed|21790|10771|32561\n",
    "Exepected|16280.5|16280.5|32561\n",
    "\n",
    "If we set a count for `Male` or `Female`, we know what the other value has to be, because they both need to add up to `32561`.\n",
    "\n",
    "### A degree of freedom is the number of values that can vary without the other values being \"locked in\". \n",
    "In the case of our two categories, there is actually only one degree of freedom. Degrees of freedom are an important statistical concept that will come up repeatedly, both in this mission and after.\n"
   ]
  },
  {
   "cell_type": "code",
   "execution_count": null,
   "metadata": {},
   "outputs": [],
   "source": []
  },
  {
   "cell_type": "markdown",
   "metadata": {},
   "source": [
    "## Increasing degrees of freedom\n",
    "\n",
    "So far, we've only calculated chi-squared values for `2` categories and `1` degree of freedom. We can actually work with any number of categories, and any number of degrees of freedom. We can accomplish this using largely the same formula we've been using, but we will need to generate new sampling distributions for each number of degrees of freedom.<br>\n",
    "\n",
    "If we look at the `race` column of the income data, the possible values are `White`, `Black`, `Asian-Pac-Islander`, `Amer-Indian-Eskimo`, and `Other`.<br>\n",
    "\n",
    "We can get our expected proportions straight from the full 1990 US Census:\n",
    "\n",
    "* `White` -- `80.3%`\n",
    "* `Black` -- `12.1%`\n",
    "* `Asian-Pac-Islander` -- `2.9%`\n",
    "* `Amer-Indian-Eskimo` -- `.8%`\n",
    "* `Other` -- `3.9%`\n",
    "\n",
    "Here's a table showing expected and actual values for our income dataset:\n",
    "\n",
    " |White|Black|Asian\n",
    "---|---|---|---\n",
    "Observed|27816|3124|1039\n",
    "Exepected|26146.5|3939.9|944.3\n",
    "\n",
    "It looks like there's a discrepancy between the `White` and `Other` counts, but let's dig in a bit more and calculate the chi-squared value."
   ]
  },
  {
   "cell_type": "code",
   "execution_count": null,
   "metadata": {},
   "outputs": [],
   "source": []
  },
  {
   "cell_type": "markdown",
   "metadata": {},
   "source": [
    "* For each category (`White`, `Black`, `Asian-Pac-Islander`, `Amer-Indian-Eskimo`, and `Other`):\n",
    "  * compute the difference between the expected and observed counts,\n",
    "  * square the difference,\n",
    "  * divide by the expected value,\n",
    "  * append each result to a list,\n",
    "  * sum the values in the list and assign the result to `race_chisq`."
   ]
  },
  {
   "cell_type": "code",
   "execution_count": 15,
   "metadata": {},
   "outputs": [
    {
     "data": {
      "text/plain": [
       "array([' White', ' Black', ' Asian-Pac-Islander', ' Amer-Indian-Eskimo',\n",
       "       ' Other'], dtype=object)"
      ]
     },
     "execution_count": 15,
     "metadata": {},
     "output_type": "execute_result"
    }
   ],
   "source": [
    "income['race'].unique()"
   ]
  },
  {
   "cell_type": "code",
   "execution_count": 44,
   "metadata": {},
   "outputs": [],
   "source": [
    "white_observed = (income[income['race']==' White']).shape[0]\n",
    "black_observed = (income[income['race']==' Black']).shape[0]\n",
    "asian_observed = (income[income['race']==' Asian-Pac-Islander']).shape[0]\n",
    "ame_indi_esk_observed = (income[income['race']==' Amer-Indian-Eskimo']).shape[0]\n",
    "other_observed = (income[income['race']==' Other']).shape[0]\n",
    "\n",
    "observed = [white_observed, black_observed, asian_observed,\n",
    "           ame_indi_esk_observed, other_observed]"
   ]
  },
  {
   "cell_type": "code",
   "execution_count": 46,
   "metadata": {},
   "outputs": [],
   "source": [
    "white_prob = .803; black_prob = .121; asian_prob = .029;\n",
    "ame_indi_esk_prob = .008; other_prob = .039"
   ]
  },
  {
   "cell_type": "code",
   "execution_count": 47,
   "metadata": {},
   "outputs": [],
   "source": [
    "white_expected = income.shape[0] * white_prob\n",
    "black_expected = income.shape[0] * black_prob\n",
    "asian_expected = income.shape[0] * asian_prob\n",
    "ame_indi_esk_expected = income.shape[0] * ame_indi_esk_prob\n",
    "other_expected = income.shape[0] * other_prob\n",
    "\n",
    "expected = [white_expected, black_expected, asian_expected,\n",
    "           ame_indi_esk_expected, other_expected]"
   ]
  },
  {
   "cell_type": "code",
   "execution_count": 48,
   "metadata": {},
   "outputs": [
    {
     "data": {
      "text/plain": [
       "1080.5681594864466"
      ]
     },
     "execution_count": 48,
     "metadata": {},
     "output_type": "execute_result"
    }
   ],
   "source": [
    "diffs = []\n",
    "\n",
    "for i, obs in enumerate(observed):\n",
    "    diffs.append((obs - expected[i])**2/expected[i])\n",
    "    \n",
    "race_chisq = sum(diffs)\n",
    "race_chisq"
   ]
  },
  {
   "cell_type": "code",
   "execution_count": null,
   "metadata": {},
   "outputs": [],
   "source": []
  },
  {
   "cell_type": "markdown",
   "metadata": {},
   "source": [
    "## Using Scipy\n",
    "\n",
    "Rather than constructing another chi-squared sampling distribution for 4 degrees of freedom, we can use a function from the SciPy library to do it more quickly.<br>\n",
    "\n",
    "The [`scipy.stats.chisquare`](http://docs.scipy.org/doc/scipy/reference/generated/scipy.stats.mstats.chisquare.html) function takes in an array of observed frequences, and an array of expected frequencies, and returns a tuple containing both the chi-squared value and the matching p-value that we can use to check for statistical significance.<br>\n",
    "\n",
    "Here's a usage example:\n",
    "\n",
    "```python\n",
    "import numpy as np\n",
    "from scipy.stats import chisquare\n",
    "\n",
    "observed = np.array([5, 10, 15])\n",
    "expected = np.array([7, 11, 12])\n",
    "chisquare_value, pvalue = chisquare(observed, expected)\n",
    "```\n",
    "\n",
    "The `scipy.stats.chisquare` function returns **a list**, so we can assign each item in the list to a separate variable using 2 variable names separated with a comma, like you see above."
   ]
  },
  {
   "cell_type": "code",
   "execution_count": null,
   "metadata": {},
   "outputs": [],
   "source": []
  },
  {
   "cell_type": "markdown",
   "metadata": {},
   "source": [
    "Use the `scipy.stats.chisquare` function to calculate the p-value for the following table:\n",
    "\n",
    " |White|Black|Asian|AmerIndian|Other|Total\n",
    "---|---|---|---|---|---\n",
    "Observed|27816|3124|1039|311|271|32561\n",
    "Expected|26146.5|3939.9|944.3|260.5|1269.8|32561\n",
    "\n",
    "* Assign the result to `race_pvalue`."
   ]
  },
  {
   "cell_type": "code",
   "execution_count": 49,
   "metadata": {},
   "outputs": [],
   "source": [
    "from scipy.stats import chisquare\n",
    "\n",
    "observed = np.array(observed)\n",
    "expected = np.array(expected)\n",
    "\n",
    "race_pvalue = chisquare(observed, expected)"
   ]
  },
  {
   "cell_type": "code",
   "execution_count": 50,
   "metadata": {},
   "outputs": [
    {
     "data": {
      "text/plain": [
       "Power_divergenceResult(statistic=1080.5681594864466, pvalue=1.2331921773236245e-232)"
      ]
     },
     "execution_count": 50,
     "metadata": {},
     "output_type": "execute_result"
    }
   ],
   "source": [
    "race_pvalue"
   ]
  },
  {
   "cell_type": "code",
   "execution_count": 51,
   "metadata": {},
   "outputs": [
    {
     "name": "stdout",
     "output_type": "stream",
     "text": [
      "1080.56815949\n",
      "1.23319217732e-232\n"
     ]
    }
   ],
   "source": [
    "print(race_pvalue[0])\n",
    "print(race_pvalue[1])"
   ]
  },
  {
   "cell_type": "code",
   "execution_count": null,
   "metadata": {},
   "outputs": [],
   "source": []
  }
 ],
 "metadata": {
  "kernelspec": {
   "display_name": "Python 3",
   "language": "python",
   "name": "python3"
  },
  "language_info": {
   "codemirror_mode": {
    "name": "ipython",
    "version": 3
   },
   "file_extension": ".py",
   "mimetype": "text/x-python",
   "name": "python",
   "nbconvert_exporter": "python",
   "pygments_lexer": "ipython3",
   "version": "3.6.2"
  }
 },
 "nbformat": 4,
 "nbformat_minor": 2
}
