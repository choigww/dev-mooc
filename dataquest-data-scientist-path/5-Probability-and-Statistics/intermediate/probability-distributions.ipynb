{
 "cells": [
  {
   "cell_type": "markdown",
   "metadata": {},
   "source": [
    "# Probability distributions\n",
    "\n",
    "In the last mission, we looked at calculating probabilities. In this mission, we'll construct probability distributions. But first, let's look at the dataset we'll be using.<br>\n",
    "\n",
    "In many countries, there are bikesharing programs where anyone can rent a bike from a depot, and return it at other depots throughout a city. There is one such program in Washington, D.C., in the US. We'll be looking at the number of bikes that were rented by day. Here are the relevant columns:<br>\n",
    "\n",
    "* `dteday` -- the date that we're looking at.\n",
    "* `cnt` -- the total number of bikes rented.\n",
    "\n",
    "This data was collected by `Hadi Fanaee-T` at the `University of Porto`, and can be downloaded [here](http://archive.ics.uci.edu/ml/datasets/Bike+Sharing+Dataset)."
   ]
  },
  {
   "cell_type": "code",
   "execution_count": null,
   "metadata": {},
   "outputs": [],
   "source": []
  },
  {
   "cell_type": "markdown",
   "metadata": {},
   "source": [
    "In the last mission, we defined $p$ as the probability of an outcome occurring, and q as the probability of it not occurring, where $q=1−p$. These types of probabilites are known as binomial -- there are two values, which add to `1` collectively. There's a `100%` chance of one outcome or the other occurring.<br>\n",
    "\n",
    "Many commonly occurring events can be expressed in terms of binomial outcomes -- a coin flip, winning a football game, the stock market going up, and more.<br>\n",
    "\n",
    "When we deal with binomial probabilities, we're often interested in the chance of a certain outcome happening in a sequence. We want to know what the chances are of our favorite football team winning 5 of its next 6 games, and the stock market going up in 4 of the next 6 days.<br>\n",
    "\n",
    "The same interest applies when we're analyzing data. Companies and researchers conduct experiments every day. These can range from testing whether changing the button color on your webpage increases conversion rate to seeing if a new drug increases patient recovery rate.<br>\n",
    "\n",
    "The core of these tests is the idea of a binomial distribution -- we want to know how many visitors out of 100 would normally sign up for our website, and we want to know if changing our button color affected that probability.<br>\n",
    "\n",
    "One easy way to visualize binomials is a binomial distribution. Given `N` events, it plots the probabilities of getting different numbers of successful outcomes."
   ]
  },
  {
   "cell_type": "code",
   "execution_count": 1,
   "metadata": {},
   "outputs": [],
   "source": [
    "import pandas as pd\n",
    "import numpy as np\n",
    "from matplotlib import pyplot as plt\n",
    "%matplotlib inline"
   ]
  },
  {
   "cell_type": "code",
   "execution_count": 2,
   "metadata": {},
   "outputs": [
    {
     "name": "stdout",
     "output_type": "stream",
     "text": [
      "(731, 16)\n"
     ]
    },
    {
     "data": {
      "text/html": [
       "<div>\n",
       "<style scoped>\n",
       "    .dataframe tbody tr th:only-of-type {\n",
       "        vertical-align: middle;\n",
       "    }\n",
       "\n",
       "    .dataframe tbody tr th {\n",
       "        vertical-align: top;\n",
       "    }\n",
       "\n",
       "    .dataframe thead th {\n",
       "        text-align: right;\n",
       "    }\n",
       "</style>\n",
       "<table border=\"1\" class=\"dataframe\">\n",
       "  <thead>\n",
       "    <tr style=\"text-align: right;\">\n",
       "      <th></th>\n",
       "      <th>instant</th>\n",
       "      <th>dteday</th>\n",
       "      <th>season</th>\n",
       "      <th>yr</th>\n",
       "      <th>mnth</th>\n",
       "      <th>holiday</th>\n",
       "      <th>weekday</th>\n",
       "      <th>workingday</th>\n",
       "      <th>weathersit</th>\n",
       "      <th>temp</th>\n",
       "      <th>atemp</th>\n",
       "      <th>hum</th>\n",
       "      <th>windspeed</th>\n",
       "      <th>casual</th>\n",
       "      <th>registered</th>\n",
       "      <th>cnt</th>\n",
       "    </tr>\n",
       "  </thead>\n",
       "  <tbody>\n",
       "    <tr>\n",
       "      <th>0</th>\n",
       "      <td>1</td>\n",
       "      <td>2011-01-01</td>\n",
       "      <td>1</td>\n",
       "      <td>0</td>\n",
       "      <td>1</td>\n",
       "      <td>0</td>\n",
       "      <td>6</td>\n",
       "      <td>0</td>\n",
       "      <td>2</td>\n",
       "      <td>0.344167</td>\n",
       "      <td>0.363625</td>\n",
       "      <td>0.805833</td>\n",
       "      <td>0.160446</td>\n",
       "      <td>331</td>\n",
       "      <td>654</td>\n",
       "      <td>985</td>\n",
       "    </tr>\n",
       "    <tr>\n",
       "      <th>1</th>\n",
       "      <td>2</td>\n",
       "      <td>2011-01-02</td>\n",
       "      <td>1</td>\n",
       "      <td>0</td>\n",
       "      <td>1</td>\n",
       "      <td>0</td>\n",
       "      <td>0</td>\n",
       "      <td>0</td>\n",
       "      <td>2</td>\n",
       "      <td>0.363478</td>\n",
       "      <td>0.353739</td>\n",
       "      <td>0.696087</td>\n",
       "      <td>0.248539</td>\n",
       "      <td>131</td>\n",
       "      <td>670</td>\n",
       "      <td>801</td>\n",
       "    </tr>\n",
       "    <tr>\n",
       "      <th>2</th>\n",
       "      <td>3</td>\n",
       "      <td>2011-01-03</td>\n",
       "      <td>1</td>\n",
       "      <td>0</td>\n",
       "      <td>1</td>\n",
       "      <td>0</td>\n",
       "      <td>1</td>\n",
       "      <td>1</td>\n",
       "      <td>1</td>\n",
       "      <td>0.196364</td>\n",
       "      <td>0.189405</td>\n",
       "      <td>0.437273</td>\n",
       "      <td>0.248309</td>\n",
       "      <td>120</td>\n",
       "      <td>1229</td>\n",
       "      <td>1349</td>\n",
       "    </tr>\n",
       "    <tr>\n",
       "      <th>3</th>\n",
       "      <td>4</td>\n",
       "      <td>2011-01-04</td>\n",
       "      <td>1</td>\n",
       "      <td>0</td>\n",
       "      <td>1</td>\n",
       "      <td>0</td>\n",
       "      <td>2</td>\n",
       "      <td>1</td>\n",
       "      <td>1</td>\n",
       "      <td>0.200000</td>\n",
       "      <td>0.212122</td>\n",
       "      <td>0.590435</td>\n",
       "      <td>0.160296</td>\n",
       "      <td>108</td>\n",
       "      <td>1454</td>\n",
       "      <td>1562</td>\n",
       "    </tr>\n",
       "    <tr>\n",
       "      <th>4</th>\n",
       "      <td>5</td>\n",
       "      <td>2011-01-05</td>\n",
       "      <td>1</td>\n",
       "      <td>0</td>\n",
       "      <td>1</td>\n",
       "      <td>0</td>\n",
       "      <td>3</td>\n",
       "      <td>1</td>\n",
       "      <td>1</td>\n",
       "      <td>0.226957</td>\n",
       "      <td>0.229270</td>\n",
       "      <td>0.436957</td>\n",
       "      <td>0.186900</td>\n",
       "      <td>82</td>\n",
       "      <td>1518</td>\n",
       "      <td>1600</td>\n",
       "    </tr>\n",
       "  </tbody>\n",
       "</table>\n",
       "</div>"
      ],
      "text/plain": [
       "   instant      dteday  season  yr  mnth  holiday  weekday  workingday  \\\n",
       "0        1  2011-01-01       1   0     1        0        6           0   \n",
       "1        2  2011-01-02       1   0     1        0        0           0   \n",
       "2        3  2011-01-03       1   0     1        0        1           1   \n",
       "3        4  2011-01-04       1   0     1        0        2           1   \n",
       "4        5  2011-01-05       1   0     1        0        3           1   \n",
       "\n",
       "   weathersit      temp     atemp       hum  windspeed  casual  registered  \\\n",
       "0           2  0.344167  0.363625  0.805833   0.160446     331         654   \n",
       "1           2  0.363478  0.353739  0.696087   0.248539     131         670   \n",
       "2           1  0.196364  0.189405  0.437273   0.248309     120        1229   \n",
       "3           1  0.200000  0.212122  0.590435   0.160296     108        1454   \n",
       "4           1  0.226957  0.229270  0.436957   0.186900      82        1518   \n",
       "\n",
       "    cnt  \n",
       "0   985  \n",
       "1   801  \n",
       "2  1349  \n",
       "3  1562  \n",
       "4  1600  "
      ]
     },
     "execution_count": 2,
     "metadata": {},
     "output_type": "execute_result"
    }
   ],
   "source": [
    "bikes = pd.read_csv('data/bike_rental_day.csv')\n",
    "print(bikes.shape)\n",
    "bikes.head()"
   ]
  },
  {
   "cell_type": "code",
   "execution_count": null,
   "metadata": {},
   "outputs": [],
   "source": []
  },
  {
   "cell_type": "markdown",
   "metadata": {},
   "source": [
    "## Bikesharing distribution\n",
    "\n",
    "Let's say we're working for the mayor of Washington, DC, [Muriel Bowser](https://en.wikipedia.org/wiki/Mayor_of_the_District_of_Columbia). She wants to know on how many days out of the next `30` we can expect more than `5000` riders.<br>\n",
    "\n",
    "Rather than give her an exact number, which may not be accurate, we can hedge our bets with a probability distribution. This will show her all the possibilities, along with probabilities for each.<br>\n",
    "\n",
    "First, we have to find the probability of there being more than `5000` riders in a single day."
   ]
  },
  {
   "cell_type": "markdown",
   "metadata": {},
   "source": [
    "* Find the probability of there being more than `5000` riders in a single day (using the `cnt` column).\n",
    "  * Assign the result to `prob_over_5000`."
   ]
  },
  {
   "cell_type": "code",
   "execution_count": 5,
   "metadata": {},
   "outputs": [
    {
     "data": {
      "text/plain": [
       "0.3912448700410397"
      ]
     },
     "execution_count": 5,
     "metadata": {},
     "output_type": "execute_result"
    }
   ],
   "source": [
    "prob_over_5000 = bikes[bikes['cnt'] > 5000].shape[0] / bikes.shape[0]\n",
    "prob_over_5000"
   ]
  },
  {
   "cell_type": "code",
   "execution_count": null,
   "metadata": {},
   "outputs": [],
   "source": []
  },
  {
   "cell_type": "markdown",
   "metadata": {},
   "source": [
    "## Computing the distribution\n",
    "\n",
    "We now know that the probability is about .39 that there are more than 5000 riders in a single day. In the last mission, we figured out how to find the probability of k outcomes out of N events occurring. We'll need to use this to build up a list of probabilities.<br>\n",
    "\n",
    "The formula we used in the last mission was:\n",
    "\n",
    "$$(p^{k} * q^{N-k}) * \\frac{N!}{k!(N-k)!}$$"
   ]
  },
  {
   "cell_type": "code",
   "execution_count": null,
   "metadata": {},
   "outputs": [],
   "source": []
  },
  {
   "cell_type": "markdown",
   "metadata": {},
   "source": [
    "* Using the knowledge from the last mission, create a function that can compute the probability of `k` outcomes out of `N` events occurring.\n",
    "* Use the function to find the probability of each number of outcomes in `outcome_counts occurring`.\n",
    "  * An outcome is a day where there are more than `5000` riders, with $p=.39$.\n",
    "  * You should have **a list with 31 items**, where the first item is the probability of `0` days out of `30` with more than 5000 riders, the second is the probability of `1` day out of `30`, and so on, up to 30 days out of `30`.\n",
    "  * Assign the list to `outcome_probs`."
   ]
  },
  {
   "cell_type": "code",
   "execution_count": 9,
   "metadata": {},
   "outputs": [
    {
     "data": {
      "text/plain": [
       "[3.6299032553937196e-07,\n",
       " 6.962273457066644e-06,\n",
       " 6.45436990159211e-05,\n",
       " 0.0003851460072425456,\n",
       " 0.001662126006665576]"
      ]
     },
     "execution_count": 9,
     "metadata": {},
     "output_type": "execute_result"
    }
   ],
   "source": [
    "import math\n",
    "\n",
    "def calc_comb_prob(p, N, k):\n",
    "    comb = math.factorial(N) \\\n",
    "            / (math.factorial(k)*math.factorial(N-k))\n",
    "    \n",
    "    return comb * p**(k) * (1-p)**(N-k)\n",
    "\n",
    "outcome_counts = range(31)\n",
    "outcome_probs = []\n",
    "for i in outcome_counts:\n",
    "    \n",
    "    outcome_probs.append(calc_comb_prob(.39, 30, i))\n",
    "    \n",
    "outcome_probs[:5]"
   ]
  },
  {
   "cell_type": "code",
   "execution_count": null,
   "metadata": {},
   "outputs": [],
   "source": []
  },
  {
   "cell_type": "markdown",
   "metadata": {},
   "source": [
    "You may have noticed that `outcome_counts` in the previous screen was `31` items long when `N` was only `30`. This is because we need to account for `0`. There's a chance of having k=0, where the outcome we want doesn't happen at all. This data point needs to be on our charts. We'll always want to add `1` to `N` when figuring out how many points to plot.<br>\n",
    "\n",
    "Our data is in terms of whole days. Either `1` day has more than `5000` riders, or `2` days have more than `5000` riders. It doesn't make sense to talk about the probability of `1.5` days having more than `5000` riders. The points in our data are [discrete](https://en.wikipedia.org/wiki/Probability_distribution#Discrete_probability_distribution) and not [continuous](https://en.wikipedia.org/wiki/Continuous_and_discrete_variables), so we use a bar chart when plotting.<br>\n",
    "\n",
    "Now that we've computed the distribution, we can easily plot it out using matplotlib. This will show us a nice distribution of our probabilities, along with the most likely outcomes."
   ]
  },
  {
   "cell_type": "code",
   "execution_count": 10,
   "metadata": {},
   "outputs": [
    {
     "data": {
      "image/png": "[encoded data removed]",
      "text/plain": [
       "<matplotlib.figure.Figure at 0x10decc898>"
      ]
     },
     "metadata": {},
     "output_type": "display_data"
    }
   ],
   "source": [
    "plt.bar(outcome_counts, outcome_probs)\n",
    "plt.show()"
   ]
  },
  {
   "cell_type": "code",
   "execution_count": null,
   "metadata": {},
   "outputs": [],
   "source": []
  },
  {
   "cell_type": "markdown",
   "metadata": {},
   "source": [
    "## Simplifying the computation\n",
    "\n",
    "To construct our distribution, we had to write our own custom function, and a decent amount of code. We can instead use the [binom.pmf](http://docs.scipy.org/doc/scipy-0.16.1/reference/generated/scipy.stats.binom.html) function from [SciPy](http://docs.scipy.org/doc/scipy/reference/index.html) to do this faster.\n",
    "\n",
    "Here's a usage example:\n",
    "\n",
    "```python\n",
    "from scipy import linspace\n",
    "from scipy.stats import binom\n",
    "\n",
    "# Create a range of numbers from 0 to 30, with 31 elements (each number has one entry).\n",
    "outcome_counts = linspace(0,30,31)\n",
    "\n",
    "# Create the binomial probabilities, one for each entry in outcome_counts.\n",
    "dist = binom.pmf(outcome_counts,30,0.39)\n",
    "```\n",
    "\n",
    "The `pmf` function in SciPy is an implementation of the mathematical [probability mass function](https://en.wikipedia.org/wiki/Probability_mass_function). The `pmf` will give us the probability of each `k` in our `outcome_counts` list occurring. <br>\n",
    "\n",
    "A binomial distribution only needs two parameters. A **parameter** is the statistical term for a number that summarizes data for the entire population. For a binomial distribution, the parameters are:\n",
    "\n",
    "* `N`, the total number of events,\n",
    "* `p`, the probability of the outcome we're interested in seeing.\n",
    "\n",
    "The SciPy function `pmf` matches this and takes in the following parameters:\n",
    "\n",
    "* `x`: the list of outcomes,\n",
    "* `n`: the total number of events,\n",
    "* `p`: the probability of the outcome we're interested in seeing.\n",
    "\n",
    "Because we only need two parameters to describe a distribution, it doesn't matter whether we want to know if it will be sunny `5` days out of `5`, or if `5` out of `5` coin flips will turn up heads. As long as the outcome that we care about has the same probability (p), and $N$ is the same, the binomial distribution will look the same."
   ]
  },
  {
   "cell_type": "code",
   "execution_count": null,
   "metadata": {},
   "outputs": [],
   "source": []
  },
  {
   "cell_type": "markdown",
   "metadata": {},
   "source": [
    "* Generate a binomial distribution, and then find the probabilities for each value in `outcome_counts`.\n",
    "  * Use `N=30`, and `p=.39`, as we're doing this for the bikesharing data.\n",
    "* Plot the resulting data as a bar chart."
   ]
  },
  {
   "cell_type": "code",
   "execution_count": 12,
   "metadata": {},
   "outputs": [
    {
     "data": {
      "image/png": "[encoded data removed]",
      "text/plain": [
       "<matplotlib.figure.Figure at 0x10dff04a8>"
      ]
     },
     "metadata": {},
     "output_type": "display_data"
    }
   ],
   "source": [
    "import scipy\n",
    "from scipy import linspace\n",
    "from scipy.stats import binom\n",
    "\n",
    "outcome_counts = linspace(0,30,31)\n",
    "dist = binom.pmf(outcome_counts, 30, 0.39)\n",
    "\n",
    "plt.plot(outcome_counts, dist)\n",
    "plt.show()"
   ]
  },
  {
   "cell_type": "code",
   "execution_count": 14,
   "metadata": {},
   "outputs": [
    {
     "data": {
      "image/png": "[encoded data removed]",
      "text/plain": [
       "<matplotlib.figure.Figure at 0x10de91630>"
      ]
     },
     "metadata": {},
     "output_type": "display_data"
    }
   ],
   "source": [
    "plt.bar(outcome_counts, dist); plt.show()"
   ]
  },
  {
   "cell_type": "code",
   "execution_count": null,
   "metadata": {},
   "outputs": [],
   "source": []
  },
  {
   "cell_type": "markdown",
   "metadata": {},
   "source": [
    "## How to think about a probability distribution\n",
    "\n",
    "Looking at a probability distribution might not be extremely intuitive. One way to think about it is that **\"if we repeatedly look at samples, the expected number of outcomes will follow the probability distribution\"**.<br>\n",
    "\n",
    "If we repeatedly look at 30 days of bikesharing data, we'll find that `10` of the days had more than `5000` riders about `12.4%` of the time. We'll find that 12 of the days had more than `5000` riders about `14.6%` of the time.<br>\n",
    "\n",
    "A probability distribution is a great way to visualize data, but bear in mind that \n",
    "#### it's not dealing in absolute values. A probability distribution can only tell us which values are likely, and how likely they are."
   ]
  },
  {
   "cell_type": "code",
   "execution_count": null,
   "metadata": {},
   "outputs": [],
   "source": []
  },
  {
   "cell_type": "markdown",
   "metadata": {},
   "source": [
    "## Computing the mean of a probability distribution\n",
    "\n",
    "Sometimes we'll want to be able to tell people the expected value of a probability distribution -- the most likely result of a single sample that we look at. <br>\n",
    "\n",
    "To compute this, we just multiply $N$ by $p$.\n",
    "\n",
    "* Compute the mean for the bikesharing data, where $N=30$, and $p=.39$.\n",
    "  * Assign the result to `dist_mean`."
   ]
  },
  {
   "cell_type": "code",
   "execution_count": 17,
   "metadata": {},
   "outputs": [
    {
     "data": {
      "text/plain": [
       "11.700000000000001"
      ]
     },
     "execution_count": 17,
     "metadata": {},
     "output_type": "execute_result"
    }
   ],
   "source": [
    "dist_mean = 30 * .39\n",
    "dist_mean"
   ]
  },
  {
   "cell_type": "code",
   "execution_count": null,
   "metadata": {},
   "outputs": [],
   "source": []
  },
  {
   "cell_type": "markdown",
   "metadata": {},
   "source": [
    "## Computing the standard deviation\n",
    "\n",
    "Just as we can compute the mean, we can also compute the standard deviation of a probability distribution. This helps us find how much the actual values will vary from the mean when we take a sample.\n",
    "\n",
    "Going back to the bikesharing example, we know that the actual values will be around `11.7` (from the last screen). But, we'll need a standard deviation to explain how much the actual values can vary from this expectation.\n",
    "\n",
    "The formula for standard deviation of a probability distribution is:\n",
    "\n",
    "$$\\sqrt{N∗p∗q}$$\n"
   ]
  },
  {
   "cell_type": "markdown",
   "metadata": {},
   "source": [
    "* Compute the standard deviation for the bikesharing data, where N=30, and p=.39.\n",
    "  * Assign the result to dist_stdev."
   ]
  },
  {
   "cell_type": "code",
   "execution_count": 18,
   "metadata": {},
   "outputs": [
    {
     "data": {
      "text/plain": [
       "2.671516423307182"
      ]
     },
     "execution_count": 18,
     "metadata": {},
     "output_type": "execute_result"
    }
   ],
   "source": [
    "dist_stdev = (30 * (.39) * (1-.39)) ** (1/2)\n",
    "dist_stdev"
   ]
  },
  {
   "cell_type": "code",
   "execution_count": null,
   "metadata": {},
   "outputs": [],
   "source": []
  },
  {
   "cell_type": "markdown",
   "metadata": {},
   "source": [
    "## A different plot\n",
    "Just like we did with histograms and sampling a few missions ago, we can vary the parameters to change the distribution. Let's see what the plot would look like with only `10` events, or `100` events.\n",
    "\n",
    "* Generate a binomial distribution, with `N=10`, and `p=.39`.\n",
    "  * Find the probabilities for each value in `outcome_counts`.\n",
    "  * Plot the resulting data as a bar chart.\n",
    "* Generate a binomial distribution, with `N=100`, and `p=.39`.\n",
    "  * Find the probabilities for each value in `outcome_counts`.\n",
    "  * Plot the resulting data as a bar chart."
   ]
  },
  {
   "cell_type": "code",
   "execution_count": 31,
   "metadata": {},
   "outputs": [
    {
     "data": {
      "image/png": "[encoded data removed]",
      "text/plain": [
       "<matplotlib.figure.Figure at 0x1103944e0>"
      ]
     },
     "metadata": {},
     "output_type": "display_data"
    },
    {
     "data": {
      "image/png": "[encoded data removed]",
      "text/plain": [
       "<matplotlib.figure.Figure at 0x110266470>"
      ]
     },
     "metadata": {},
     "output_type": "display_data"
    }
   ],
   "source": [
    "outcome_counts2 = linspace(0, 10, 11)\n",
    "dist2 = binom.pmf(outcome_counts2, 10, .39)\n",
    "\n",
    "outcome_prob2 = []\n",
    "for i in outcome_counts2:\n",
    "    outcome_prob2.append(\\\n",
    "            calc_comb_prob(.39, len(outcome_counts2), i))\n",
    "    \n",
    "plt.bar(outcome_counts2, outcome_prob2); plt.show()\n",
    "plt.bar(outcome_counts2, dist2, color='red'); plt.show()"
   ]
  },
  {
   "cell_type": "code",
   "execution_count": 32,
   "metadata": {},
   "outputs": [
    {
     "data": {
      "image/png": "[encoded data removed]",
      "text/plain": [
       "<matplotlib.figure.Figure at 0x10de9c208>"
      ]
     },
     "metadata": {},
     "output_type": "display_data"
    },
    {
     "data": {
      "image/png": "[encoded data removed]",
      "text/plain": [
       "<matplotlib.figure.Figure at 0x110823f28>"
      ]
     },
     "metadata": {},
     "output_type": "display_data"
    }
   ],
   "source": [
    "outcome_counts3 = linspace(0, 100, 101)\n",
    "dist3 = binom.pmf(outcome_counts3, 100, .39)\n",
    "\n",
    "outcome_prob3 = []\n",
    "for i in outcome_counts3:\n",
    "    outcome_prob3.append(\\\n",
    "            calc_comb_prob(.39, len(outcome_counts3), i))\n",
    "    \n",
    "plt.bar(outcome_counts3, outcome_prob3); plt.show()\n",
    "plt.bar(outcome_counts3, dist3, color='red'); plt.show()"
   ]
  },
  {
   "cell_type": "code",
   "execution_count": null,
   "metadata": {},
   "outputs": [],
   "source": []
  },
  {
   "cell_type": "markdown",
   "metadata": {},
   "source": [
    "## The normal distribution\n",
    "\n",
    "From the last screen, the more events we looked at, the closer our distribution was to being normal. With $N=10$, we saw some rightward skew, but when we got up to $N=100$, the skew disappeared.<br>\n",
    "\n",
    "This is because the distribution got narrower relative to the x-axis range the more examples you add. With $N=10$, there's a reasonable chance that `8` to `10` days could have over `5000` riders. But, when we get up to N=100, it's statistically almost impossible that more than `60` days have over `5000` riders. This makes the distribution narrower.<br>\n",
    "\n",
    "As the distribution gets narrower, it gets more similar to the normal distribution. In the code cell, we plot a line chart instead of a bar chart and it looks almost exactly like a normal distribution."
   ]
  },
  {
   "cell_type": "code",
   "execution_count": 33,
   "metadata": {},
   "outputs": [
    {
     "data": {
      "image/png": "[encoded data removed]",
      "text/plain": [
       "<matplotlib.figure.Figure at 0x11079ae80>"
      ]
     },
     "metadata": {},
     "output_type": "display_data"
    }
   ],
   "source": [
    "# Create a range of numbers from 0 to 100, with 101 elements (each number has one entry).\n",
    "outcome_counts = scipy.linspace(0,100,101)\n",
    "\n",
    "# Create a probability mass function along the outcome_counts.\n",
    "outcome_probs = binom.pmf(outcome_counts,100,0.39)\n",
    "\n",
    "# Plot a line, not a bar chart.\n",
    "plt.plot(outcome_counts, outcome_probs)\n",
    "plt.show()"
   ]
  },
  {
   "cell_type": "code",
   "execution_count": null,
   "metadata": {},
   "outputs": [],
   "source": []
  },
  {
   "cell_type": "markdown",
   "metadata": {},
   "source": [
    "## Cumulative density function\n",
    "\n",
    "So far, we've looked at the probability that single values of `k` will occur. What we can look at instead is the probability that `k` or less will occur. These probabilities can be generated by the [cumulative density function](https://en.wikipedia.org/wiki/Binomial_distribution).<br>\n",
    "\n",
    "Let's say we flip a coin `3` times -- $N=3$, and $p=.5$. When this happens, here are the probabilities:\n",
    "\n",
    "k|probability\n",
    "---|---\n",
    "0|.125\n",
    "1|.375\n",
    "2|.375\n",
    "3|.125\n",
    "\n",
    "A cumulative distribution would look like this:\n",
    "\n",
    "k|probability\n",
    "---|---\n",
    "0|.125\n",
    "1|.5\n",
    "2|.875\n",
    "3|1\n",
    "\n",
    "For each `k`, we fill in the probability that we'll see `k` outcomes or less. By the end of the distribution, we should get `1`, because all the probabilities add to `1` (if we flip `3` coins, either `0`, `1`, `2`, or `3` of them must be heads).<br>\n",
    "\n",
    "We can calculate this with `binom.cdf` in scipy."
   ]
  },
  {
   "cell_type": "markdown",
   "metadata": {},
   "source": [
    "```python\n",
    "from scipy import linspace\n",
    "from scipy.stats import binom\n",
    "\n",
    "# Create a range of numbers from 0 to 30, with 31 elements (each number has one entry).\n",
    "outcome_counts = linspace(0,30,31)\n",
    "\n",
    "# Create the cumulative binomial probabilities, one for each entry in outcome_counts.\n",
    "dist = binom.cdf(outcome_counts,30,0.39)\n",
    "```"
   ]
  },
  {
   "cell_type": "markdown",
   "metadata": {},
   "source": [
    "* Create a cumulative distribution where $N=30$ and $p=.39$ and generate a line plot of the distribution."
   ]
  },
  {
   "cell_type": "code",
   "execution_count": 36,
   "metadata": {},
   "outputs": [
    {
     "data": {
      "image/png": "[encoded data removed]",
      "text/plain": [
       "<matplotlib.figure.Figure at 0x10de91400>"
      ]
     },
     "metadata": {},
     "output_type": "display_data"
    }
   ],
   "source": [
    "outcome_counts = linspace(0,30,31)\n",
    "dist_cdf = binom.cdf(outcome_counts, 30, .39)\n",
    "\n",
    "plt.plot(outcome_counts, dist_cdf); plt.show()"
   ]
  },
  {
   "cell_type": "code",
   "execution_count": null,
   "metadata": {},
   "outputs": [],
   "source": []
  },
  {
   "cell_type": "markdown",
   "metadata": {},
   "source": [
    "## Probability distributions\n",
    "\n",
    "We can calculate z-scores (the number of standard deviations away from the mean a probability is) fairly easily. These z-scores can then be used how we used z-scores earlier -- to find the percentage of values to the left and right of the value we're looking at.<br>\n",
    "\n",
    "To make this more concrete, say we had `16` days where we observed more than `5000` riders. Is this likely? Unlikely? Using a z-score, we can figure out exactly how common this event is.<br>\n",
    "\n",
    "This is because every normal distribution, as we learned in an earlier mission, has the same properties when it comes to what percentage of the data is within a certain number of standard deviations of the mean. You can look these up in a [standard normal table](https://en.wikipedia.org/wiki/Standard_normal_table). About `68%` of the data is within `1` standard deviation of the mean, `95%` is within `2`, and `99%` is within `3`. <br>\n",
    "\n",
    "We can calculate the mean (μ) and standard deviation (σ) of a binomial probability distribution using the formulas from earlier:\n",
    "\n",
    "$$μ=N∗p$$\n",
    "$$σ=\\sqrt{N∗p∗q}$$\n",
    "\n",
    "If we want to figure out the number of standard deviations from the mean a value is, we just do:\n",
    "\n",
    "$$\\frac{k−μ}{σ}$$\n",
    "\n",
    "If we wanted to find how many standard deviations from the mean 16 days is:\n",
    "\n",
    "$$\\frac{16 - \\mu}{\\sigma} = \\frac{16 - (30 * .39)}{\\sqrt{30*.39*.61}} = \\frac{4.3}{2.67} = 1.61$$\n",
    "\n",
    "This tells us that 16 days is approximately **1.61 standard deviations above the mean**. In percentage form, this captures about `44.63%` of our data. If we also include **1.61 standard deviations below the mean(both sides of distribution)**, this'll include `89.26%` of our data.<br>\n",
    "\n",
    "There's a `5.37%` chance that a value is `1.61` standard deviations or more above the mean (to the right of the mean), and there's a `5.37%` chance that a value is `1.61` standard deviations below the mean (to the left)."
   ]
  },
  {
   "cell_type": "code",
   "execution_count": null,
   "metadata": {},
   "outputs": [],
   "source": []
  },
  {
   "cell_type": "markdown",
   "metadata": {},
   "source": [
    "## Faster way to calculate likelihood"
   ]
  },
  {
   "cell_type": "markdown",
   "metadata": {},
   "source": [
    "We don't want to have to use a z-score table every time we want to see how likely or unlikely a probability is. A much faster way is to use the cumulative distribution fuction (`cdf`) like we did earlier. This won't give us the exact same values as using z-scores, because the distribution isn't exactly normal, but it will give us the actual amount of probability in a distribution to the left of a given `k`.\n",
    "\n",
    "To use it, we can run:\n",
    "\n",
    "```python\n",
    "# The sum of all the probabilities to the left of k, including k.\n",
    "left = binom.cdf(k,N,p)\n",
    "\n",
    "# The sum of all probabilities to the right of k.\n",
    "right = 1 - left\n",
    "```\n",
    "\n",
    "This will return the sum of all the probabilities to the left of and including `k`. If we subtract this value from `1`, we get the sum of all the probabilities to the right of `k`."
   ]
  },
  {
   "cell_type": "markdown",
   "metadata": {},
   "source": [
    "* Find the probability to the left of $k=16$ (including `16`) when $N=30$ and $p=.39$.\n",
    "  * Assign the result to `left_16`.\n",
    "* Find the probability to the right of $k=16$ when $N=30$ and $p=.39$.\n",
    "  * Assign the result to `right_16`."
   ]
  },
  {
   "cell_type": "code",
   "execution_count": 41,
   "metadata": {},
   "outputs": [
    {
     "name": "stdout",
     "output_type": "stream",
     "text": [
      "0.962300376605 0.0376996233945\n"
     ]
    }
   ],
   "source": [
    "left_16 = binom.cdf(16, 30, .39)\n",
    "right_16 = 1 - left_16\n",
    "\n",
    "print(left_16, right_16)"
   ]
  },
  {
   "cell_type": "code",
   "execution_count": null,
   "metadata": {},
   "outputs": [],
   "source": []
  }
 ],
 "metadata": {
  "kernelspec": {
   "display_name": "Python 3",
   "language": "python",
   "name": "python3"
  },
  "language_info": {
   "codemirror_mode": {
    "name": "ipython",
    "version": 3
   },
   "file_extension": ".py",
   "mimetype": "text/x-python",
   "name": "python",
   "nbconvert_exporter": "python",
   "pygments_lexer": "ipython3",
   "version": "3.6.2"
  }
 },
 "nbformat": 4,
 "nbformat_minor": 2
}
