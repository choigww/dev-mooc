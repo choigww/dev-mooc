{
 "cells": [
  {
   "cell_type": "markdown",
   "metadata": {},
   "source": [
    "# Multi category chi-squared tests\n",
    "\n",
    "In the last mission, we looked at the gender frequencies of people included in a data set on US income. The dataset consists of 32561 rows, and here are the first few:\n",
    "\n",
    "```\n",
    "age,workclass,fnlwgt,education,education_num,marital_status,occupation,relationship,race,sex,capital_gain,capital_loss,hours_per_week,native_country,high_income\n",
    "39, State-gov, 77516, Bachelors, 13, Never-married, Adm-clerical, Not-in-family, White, Male, 2174, 0, 40, United-States, <=50K\n",
    "50, Self-emp-not-inc, 83311, Bachelors, 13, Married-civ-spouse, Exec-managerial, Husband, White, Male, 0, 0, 13, United-States, <=50K\n",
    "38, Private, 215646, HS-grad, 9, Divorced, Handlers-cleaners, Not-in-family, White, Male, 0, 0, 40, United-States, <=50K\n",
    "```\n",
    "\n",
    "Each row represents a single person who was counted in the 1990 US Census, and contains information about their income and demograpics. Here are some of the relevant columns:\n",
    "\n",
    "* `age` -- how old the person is\n",
    "* `workclass` -- the type of sector the person is employed in.\n",
    "* `race` -- the race of the person.\n",
    "* `sex` -- the gender of the person, either Male or Female.\n",
    "* `high_income` -- if the person makes more the 50k or not.\n",
    "\n",
    "In the last mission, we calculated a chi-squared value indicating how the observed frequencies in a single categorical column, such as `sex`, varied from the US population as a whole.<br>\n",
    "\n",
    "In this mission, we'll look how to make this same technique applicable to cross tables, that show how two categorical columns interact. For instance, here's a table showing the relationship between sex and `high_income`:<br>"
   ]
  },
  {
   "cell_type": "markdown",
   "metadata": {},
   "source": [
    " |Male|Female|Totals\n",
    "---|---|---|---\n",
    ">50k income|6662|1179|7841\n",
    "<=50k income|15128|9592|24720\n",
    "Totals|21790|10771|32561"
   ]
  },
  {
   "cell_type": "markdown",
   "metadata": {},
   "source": [
    "On looking at this diagram, you might see a pattern between `sex` and `high_income`. But it's hard to immediately quantify that pattern, and tell if it's significant. We can apply the chi-squared test (also known as the [chi-squared test of association](https://en.wikipedia.org/wiki/Chi-squared_test)) to figure out if there's a statistically significant correlation between two categorical columns."
   ]
  },
  {
   "cell_type": "code",
   "execution_count": 1,
   "metadata": {
    "collapsed": true
   },
   "outputs": [],
   "source": [
    "import pandas as pd\n",
    "import numpy as np\n",
    "from matplotlib import pyplot as plt\n",
    "%matplotlib inline"
   ]
  },
  {
   "cell_type": "code",
   "execution_count": 2,
   "metadata": {
    "collapsed": false
   },
   "outputs": [
    {
     "data": {
      "text/html": [
       "<div>\n",
       "<table border=\"1\" class=\"dataframe\">\n",
       "  <thead>\n",
       "    <tr style=\"text-align: right;\">\n",
       "      <th></th>\n",
       "      <th>age</th>\n",
       "      <th>workclass</th>\n",
       "      <th>fnlwgt</th>\n",
       "      <th>education</th>\n",
       "      <th>education_num</th>\n",
       "      <th>marital_status</th>\n",
       "      <th>occupation</th>\n",
       "      <th>relationship</th>\n",
       "      <th>race</th>\n",
       "      <th>sex</th>\n",
       "      <th>capital_gain</th>\n",
       "      <th>capital_loss</th>\n",
       "      <th>hours_per_week</th>\n",
       "      <th>native_country</th>\n",
       "      <th>high_income</th>\n",
       "    </tr>\n",
       "  </thead>\n",
       "  <tbody>\n",
       "    <tr>\n",
       "      <th>0</th>\n",
       "      <td>39</td>\n",
       "      <td>State-gov</td>\n",
       "      <td>77516</td>\n",
       "      <td>Bachelors</td>\n",
       "      <td>13</td>\n",
       "      <td>Never-married</td>\n",
       "      <td>Adm-clerical</td>\n",
       "      <td>Not-in-family</td>\n",
       "      <td>White</td>\n",
       "      <td>Male</td>\n",
       "      <td>2174</td>\n",
       "      <td>0</td>\n",
       "      <td>40</td>\n",
       "      <td>United-States</td>\n",
       "      <td>&lt;=50K</td>\n",
       "    </tr>\n",
       "    <tr>\n",
       "      <th>1</th>\n",
       "      <td>50</td>\n",
       "      <td>Self-emp-not-inc</td>\n",
       "      <td>83311</td>\n",
       "      <td>Bachelors</td>\n",
       "      <td>13</td>\n",
       "      <td>Married-civ-spouse</td>\n",
       "      <td>Exec-managerial</td>\n",
       "      <td>Husband</td>\n",
       "      <td>White</td>\n",
       "      <td>Male</td>\n",
       "      <td>0</td>\n",
       "      <td>0</td>\n",
       "      <td>13</td>\n",
       "      <td>United-States</td>\n",
       "      <td>&lt;=50K</td>\n",
       "    </tr>\n",
       "    <tr>\n",
       "      <th>2</th>\n",
       "      <td>38</td>\n",
       "      <td>Private</td>\n",
       "      <td>215646</td>\n",
       "      <td>HS-grad</td>\n",
       "      <td>9</td>\n",
       "      <td>Divorced</td>\n",
       "      <td>Handlers-cleaners</td>\n",
       "      <td>Not-in-family</td>\n",
       "      <td>White</td>\n",
       "      <td>Male</td>\n",
       "      <td>0</td>\n",
       "      <td>0</td>\n",
       "      <td>40</td>\n",
       "      <td>United-States</td>\n",
       "      <td>&lt;=50K</td>\n",
       "    </tr>\n",
       "    <tr>\n",
       "      <th>3</th>\n",
       "      <td>53</td>\n",
       "      <td>Private</td>\n",
       "      <td>234721</td>\n",
       "      <td>11th</td>\n",
       "      <td>7</td>\n",
       "      <td>Married-civ-spouse</td>\n",
       "      <td>Handlers-cleaners</td>\n",
       "      <td>Husband</td>\n",
       "      <td>Black</td>\n",
       "      <td>Male</td>\n",
       "      <td>0</td>\n",
       "      <td>0</td>\n",
       "      <td>40</td>\n",
       "      <td>United-States</td>\n",
       "      <td>&lt;=50K</td>\n",
       "    </tr>\n",
       "    <tr>\n",
       "      <th>4</th>\n",
       "      <td>28</td>\n",
       "      <td>Private</td>\n",
       "      <td>338409</td>\n",
       "      <td>Bachelors</td>\n",
       "      <td>13</td>\n",
       "      <td>Married-civ-spouse</td>\n",
       "      <td>Prof-specialty</td>\n",
       "      <td>Wife</td>\n",
       "      <td>Black</td>\n",
       "      <td>Female</td>\n",
       "      <td>0</td>\n",
       "      <td>0</td>\n",
       "      <td>40</td>\n",
       "      <td>Cuba</td>\n",
       "      <td>&lt;=50K</td>\n",
       "    </tr>\n",
       "  </tbody>\n",
       "</table>\n",
       "</div>"
      ],
      "text/plain": [
       "   age          workclass  fnlwgt   education  education_num  \\\n",
       "0   39          State-gov   77516   Bachelors             13   \n",
       "1   50   Self-emp-not-inc   83311   Bachelors             13   \n",
       "2   38            Private  215646     HS-grad              9   \n",
       "3   53            Private  234721        11th              7   \n",
       "4   28            Private  338409   Bachelors             13   \n",
       "\n",
       "        marital_status          occupation    relationship    race      sex  \\\n",
       "0        Never-married        Adm-clerical   Not-in-family   White     Male   \n",
       "1   Married-civ-spouse     Exec-managerial         Husband   White     Male   \n",
       "2             Divorced   Handlers-cleaners   Not-in-family   White     Male   \n",
       "3   Married-civ-spouse   Handlers-cleaners         Husband   Black     Male   \n",
       "4   Married-civ-spouse      Prof-specialty            Wife   Black   Female   \n",
       "\n",
       "   capital_gain  capital_loss  hours_per_week  native_country high_income  \n",
       "0          2174             0              40   United-States       <=50K  \n",
       "1             0             0              13   United-States       <=50K  \n",
       "2             0             0              40   United-States       <=50K  \n",
       "3             0             0              40   United-States       <=50K  \n",
       "4             0             0              40            Cuba       <=50K  "
      ]
     },
     "execution_count": 2,
     "metadata": {},
     "output_type": "execute_result"
    }
   ],
   "source": [
    "income = pd.read_csv('data/income.csv')\n",
    "income.head()"
   ]
  },
  {
   "cell_type": "code",
   "execution_count": null,
   "metadata": {
    "collapsed": true
   },
   "outputs": [],
   "source": []
  },
  {
   "cell_type": "markdown",
   "metadata": {},
   "source": [
    "## Multi-category chi-squared tests\n",
    "\n",
    "In the single category chi-squared test, we find expected values from other data sets, and then compare with our own observed values. In a multiple category chi-squared test, we calculate expected values across our whole dataset. We'll illustrate this by converting our chart from last screen into proportions:\n",
    "\n",
    " |Male|Female|Totals\n",
    "---|---|---|---\n",
    ">50k income|.205|.036|.241\n",
    "<=50k income|.465|.294|.759\n",
    "Totals|.669|.331|1\n",
    "\n",
    "Each cell represents the proportion of people in the data set that fall into the specified categories.\n",
    "\n",
    "* `20.5%` of `Males` in the whole data set earn `>50k` in income.\n",
    "* `33.1%` of the whole dataset is `Female`\n",
    "* `75.9%` of the whole dataset earns `<=50k`.\n",
    "\n",
    "We can use our total proportions to calculate expected values. `24.1%` of all people in `income` earn `>50k`, and `33.1%` of all people in `income` are `Female`, so we'd expect the proportion of people who are `female` and earn `>50k` to be `.241` * `.331`, which is `.0799771`. We have this expectation based on the proportions of Females and `>50k` earners across the whole dataset. Instead, we see that the observed proportion is `.036`, which indicates that there may be some correlation between the sex and high_income columns.<br>\n",
    "\n",
    "We can convert our expected proportion to an expected value by multiplying by `32561`, the total number of rows in the data set, which gives us `32561` * `.0799771`, or `2597.4`.\n"
   ]
  },
  {
   "cell_type": "code",
   "execution_count": null,
   "metadata": {
    "collapsed": true
   },
   "outputs": [],
   "source": []
  },
  {
   "cell_type": "markdown",
   "metadata": {},
   "source": [
    "Using the expected proportions in the table above, calculate the expected values for each of the 4 cells in the table.\n",
    "* Calculate the expected value for Males who earn >50k, and assign to `males_over50k`.\n",
    "* Calculate the expected value for Males who earn <=50k, and assign to `males_under50k`.\n",
    "* Calculate the expected value for Females who earn >50k, and assign to `females_over50k`.\n",
    "* Calculate the expected value for Females who earn <=50k, and assign to `females_under50k`."
   ]
  },
  {
   "cell_type": "code",
   "execution_count": 6,
   "metadata": {
    "collapsed": false
   },
   "outputs": [
    {
     "name": "stdout",
     "output_type": "stream",
     "text": [
      "males_over50k: 5249.777469\n",
      "males_under50k: 16533.531531\n",
      "females_over50k: 2597.423531\n",
      "females_under50k: 8180.267469\n"
     ]
    }
   ],
   "source": [
    "total = 32561\n",
    "males = total * .669\n",
    "females = total * .331\n",
    "over50k_prob = .241\n",
    "under50k_prob = .759\n",
    "\n",
    "males_over50k = males * over50k_prob\n",
    "males_under50k = males * under50k_prob\n",
    "females_over50k = females * over50k_prob\n",
    "females_under50k = females * under50k_prob\n",
    "\n",
    "print('males_over50k: {}'.format(males_over50k))\n",
    "print('males_under50k: {}'.format(males_under50k))\n",
    "print('females_over50k: {}'.format(females_over50k))\n",
    "print('females_under50k: {}'.format(females_under50k))\n"
   ]
  },
  {
   "cell_type": "code",
   "execution_count": null,
   "metadata": {
    "collapsed": true
   },
   "outputs": [],
   "source": []
  },
  {
   "cell_type": "markdown",
   "metadata": {},
   "source": [
    "## Calculating chi-squared\n",
    "\n",
    "In the last screen, you should have ended up with a table like this:\n",
    "\n",
    " |Male|Female\n",
    "---|---|---\n",
    ">50k income|5249.8|2597.4\n",
    "<=50k income|16533.5|8180.3\n",
    "\n",
    "Now that we have our expected values, we can calculate the chi-squared value by using the same principle from the previous mission. Here are the steps:\n",
    "\n",
    "* Subtract the expected value from the observed value.\n",
    "* Square the difference.\n",
    "* Divide the squared difference by the expected value.\n",
    "* Repeat for all the observed and expected values and add up the values.\n",
    "\n",
    "Here's the formula:\n",
    "\n",
    "$$\\sum(\\frac{(observed−expected)^2}{expected})$$\n"
   ]
  },
  {
   "cell_type": "markdown",
   "metadata": {},
   "source": [
    "Here's the table of our **observed values** for reference:\n",
    "\n",
    " |Male|Female\n",
    "---|---|---\n",
    ">50k income|6662|1179\n",
    "<=50k income|15128|9592"
   ]
  },
  {
   "cell_type": "code",
   "execution_count": null,
   "metadata": {
    "collapsed": true
   },
   "outputs": [],
   "source": []
  },
  {
   "cell_type": "markdown",
   "metadata": {},
   "source": [
    "Compute the chi-squared value for the observed values above and the expected values above.\n",
    "* Assign the result to chisq_gender_income."
   ]
  },
  {
   "cell_type": "code",
   "execution_count": 8,
   "metadata": {
    "collapsed": true
   },
   "outputs": [],
   "source": [
    "observed = [6662, 1179, 15128, 9592]\n",
    "expected = [5249.8, 2597.4, 16533.5, 8180.3]\n",
    "values = []\n",
    "\n",
    "for i, obs in enumerate(observed):\n",
    "    exp = expected[i]\n",
    "    value = (obs - exp) ** 2 / exp\n",
    "    values.append(value)\n",
    "\n",
    "chisq_gender_income = sum(values)"
   ]
  },
  {
   "cell_type": "code",
   "execution_count": 9,
   "metadata": {
    "collapsed": false
   },
   "outputs": [
    {
     "data": {
      "text/plain": [
       "1517.5510981525103"
      ]
     },
     "execution_count": 9,
     "metadata": {},
     "output_type": "execute_result"
    }
   ],
   "source": [
    "chisq_gender_income"
   ]
  },
  {
   "cell_type": "code",
   "execution_count": null,
   "metadata": {
    "collapsed": true
   },
   "outputs": [],
   "source": []
  },
  {
   "cell_type": "markdown",
   "metadata": {},
   "source": [
    "## Finding statistical significance\n",
    "\n",
    "Now that we've found our chi-squared value, `1517.6`, we can use the same technique with the chi-squared sampling distribution from the last mission to find a p-value associated with the chi-squared value. **The p-value will tell us whether the difference between the observed and expected values is statistically significant or not.**<br>\n",
    "\n",
    "Rather than construct a sampling distribution again manually, we'll use the [scipy.stats.chisquare](http://docs.scipy.org/doc/scipy/reference/generated/scipy.stats.mstats.chisquare.html) function that we covered in the last mission.<br>\n",
    "\n",
    "We could find the chi-squared value and the p-value using the scipy.stats.chisquare function like this:\n",
    "\n",
    "```python\n",
    "import numpy as np\n",
    "from scipy.stats import chisquare\n",
    "\n",
    "observed = np.array([10, 10, 5, 5])\n",
    "expected = np.array([5, 5, 10, 10])\n",
    "chisquare_value, pvalue = chisquare(observed, expected)\n",
    "```"
   ]
  },
  {
   "cell_type": "code",
   "execution_count": null,
   "metadata": {
    "collapsed": true
   },
   "outputs": [],
   "source": []
  },
  {
   "cell_type": "markdown",
   "metadata": {},
   "source": [
    "Use the scipy.stats.chisquare function to find the chi-squared value and p-value for the above observed and expected counts.\n",
    "* Assign the p-value to pvalue_gender_income."
   ]
  },
  {
   "cell_type": "code",
   "execution_count": 11,
   "metadata": {
    "collapsed": false
   },
   "outputs": [
    {
     "name": "stdout",
     "output_type": "stream",
     "text": [
      "pvalue_gender_income: 0.0\n"
     ]
    }
   ],
   "source": [
    "from scipy.stats import chisquare\n",
    "\n",
    "chisq_gender_income, pvalue_gender_income = chisquare(observed, expected)\n",
    "print('pvalue_gender_income: {}'.format(pvalue_gender_income))"
   ]
  },
  {
   "cell_type": "code",
   "execution_count": null,
   "metadata": {
    "collapsed": true
   },
   "outputs": [],
   "source": []
  },
  {
   "cell_type": "markdown",
   "metadata": {},
   "source": [
    "## Cross tables\n",
    "\n",
    "We can also scale up the chi-squared test to cases **where each category contains more than two possibilities**. We'll illustrate this with an example where we look at `sex` vs `race`. <br>\n",
    "\n",
    "Before we can find the chi-squared value, we need to find the observed frequency counts. We can do this using the [pandas.crosstab](http://pandas.pydata.org/pandas-docs/version/0.17.0/generated/pandas.crosstab.html) function. **The crosstab function will print a table that shows frequency counts for two or more columns**. Here's how you could use the [pandas.crosstab](http://pandas.pydata.org/pandas-docs/version/0.17.0/generated/pandas.crosstab.html) function:\n",
    "\n",
    "```python\n",
    "import pandas\n",
    "\n",
    "table = pandas.crosstab(income[\"sex\"], [income[\"high_income\"]])\n",
    "print(table)\n",
    "```\n",
    "The above code will print a table showing how many people from `income` fall into each category of `sex` and `high_income`.<br>\n",
    "\n",
    "The second parameter passed into [pandas.crosstab](http://pandas.pydata.org/pandas-docs/version/0.17.0/generated/pandas.crosstab.html) is actually a list -- this parameter can contain more than one item."
   ]
  },
  {
   "cell_type": "code",
   "execution_count": null,
   "metadata": {
    "collapsed": true
   },
   "outputs": [],
   "source": []
  },
  {
   "cell_type": "markdown",
   "metadata": {},
   "source": [
    "Use the [pandas.crosstab](http://pandas.pydata.org/pandas-docs/version/0.17.0/generated/pandas.crosstab.html) function to print out a table comparing the `sex` column of `income` to the `race` column of `income`."
   ]
  },
  {
   "cell_type": "code",
   "execution_count": 12,
   "metadata": {
    "collapsed": false
   },
   "outputs": [
    {
     "name": "stdout",
     "output_type": "stream",
     "text": [
      "race      Amer-Indian-Eskimo   Asian-Pac-Islander   Black   Other   White\n",
      "sex                                                                      \n",
      " Female                  119                  346    1555     109    8642\n",
      " Male                    192                  693    1569     162   19174\n"
     ]
    }
   ],
   "source": [
    "print(pd.crosstab(income['sex'], [income['race']]))"
   ]
  },
  {
   "cell_type": "code",
   "execution_count": null,
   "metadata": {
    "collapsed": true
   },
   "outputs": [],
   "source": []
  },
  {
   "cell_type": "markdown",
   "metadata": {},
   "source": [
    "## Finding expected values\n",
    "\n",
    "Now that we have the observed frequency counts, **we can generate the expected values**. We can use the [scipy.stats.chi2_contingency](http://docs.scipy.org/doc/scipy-0.15.1/reference/generated/scipy.stats.chi2_contingency.html) function to do this. The function:\n",
    "\n",
    "* takes in \n",
    "  * a cross table of observed counts (pd.crosstab),\n",
    "* returns\n",
    "  * the chi-squared value, \n",
    "  * the p-value, the degrees of freedom,\n",
    "  * the expected frequencies. \n",
    "  \n",
    "Let's say we have the following observed counts:\n",
    "\n",
    "```\n",
    "[5, 5, 10, 10]\n",
    "```\n",
    "\n",
    "Here's how we could use the [scipy.stats.chi2_contingency](http://docs.scipy.org/doc/scipy-0.15.1/reference/generated/scipy.stats.chi2_contingency.html) function:\n",
    "\n",
    "```python\n",
    "import numpy as np\n",
    "from scipy.stats import chi2_contingency\n",
    "observed = np.array([[5, 5], [10, 10]])\n",
    "\n",
    "chisq_value, pvalue, df, expected = chi2_contingency(observed)\n",
    "```\n",
    "\n",
    "You can also directly pass the result of the [pandas.crosstab](http://pandas.pydata.org/pandas-docs/version/0.17.0/generated/pandas.crosstab.html) function into the [scipy.stats.chi2_contingency](http://docs.scipy.org/doc/scipy-0.15.1/reference/generated/scipy.stats.chi2_contingency.html) function, which makes it extremely easy to do perform a chi-squared test."
   ]
  },
  {
   "cell_type": "code",
   "execution_count": null,
   "metadata": {
    "collapsed": true
   },
   "outputs": [],
   "source": []
  },
  {
   "cell_type": "markdown",
   "metadata": {},
   "source": [
    "Use the scipy.stats.chi2_contingency function to calculate the pvalue for the `sex` and `race` columns of `income`.\n",
    "* Assign the result to `pvalue_gender_race`."
   ]
  },
  {
   "cell_type": "code",
   "execution_count": 16,
   "metadata": {
    "collapsed": false
   },
   "outputs": [
    {
     "data": {
      "text/plain": [
       "5.1920613027604561e-97"
      ]
     },
     "execution_count": 16,
     "metadata": {},
     "output_type": "execute_result"
    }
   ],
   "source": [
    "from scipy.stats import chi2_contingency\n",
    "\n",
    "sex_race_crosstab = pd.crosstab(income['sex'], [income['race']])\n",
    "_, pvalue_gender_race, _, _ = chi2_contingency(sex_race_crosstab)\n",
    "\n",
    "pvalue_gender_race"
   ]
  },
  {
   "cell_type": "code",
   "execution_count": null,
   "metadata": {
    "collapsed": true
   },
   "outputs": [],
   "source": []
  },
  {
   "cell_type": "markdown",
   "metadata": {},
   "source": [
    "## Caveats\n",
    "\n",
    "Now that we've learned the chi-squared test, you should be able to figure out **if the association between two columns of categorical data is statistically significant or not**. There are a few caveats to using the chi-squared test that are important to cover, though:\n",
    "\n",
    "### Finding that a result isn't significant doesn't mean that no association between the columns exists. \n",
    "For instance, if we found that the chi-squared test between the sex and race columns returned a p-value of .1, it wouldn't mean that there is no relationship between sex and race. *It just means that there isn't a statistically significant relationship*.\n",
    "\n",
    "### Finding a statistically significant result doesn't imply anything about what the correlation is.\n",
    "For instance, finding that a chi-squared test between sex and race results in a p-value of .01 doesn't mean that the dataset contains too many Females who are White (or too few). A statistically significant finding means that **some evidence of a relationship** between the variables exists, **but needs to be investigated further**.\n",
    "\n",
    "### Chi-squared tests can only be applied in the case where each possibility within a category is independent. \n",
    "For instance, the Census counts individuals as either Male or Female, not both.\n",
    "\n",
    "### Chi-squared tests are more valid when the numbers in each cell of the cross table are larger.\n",
    "So if each number is 100, great -- if each number is 1, you may need to gather more data."
   ]
  },
  {
   "cell_type": "code",
   "execution_count": null,
   "metadata": {
    "collapsed": true
   },
   "outputs": [],
   "source": []
  }
 ],
 "metadata": {
  "kernelspec": {
   "display_name": "Python [default]",
   "language": "python",
   "name": "python3"
  },
  "language_info": {
   "codemirror_mode": {
    "name": "ipython",
    "version": 3
   },
   "file_extension": ".py",
   "mimetype": "text/x-python",
   "name": "python",
   "nbconvert_exporter": "python",
   "pygments_lexer": "ipython3",
   "version": "3.5.4"
  }
 },
 "nbformat": 4,
 "nbformat_minor": 2
}
