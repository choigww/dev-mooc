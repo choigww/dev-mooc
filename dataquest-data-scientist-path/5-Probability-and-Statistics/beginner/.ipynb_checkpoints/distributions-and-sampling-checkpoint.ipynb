{
 "cells": [
  {
   "cell_type": "markdown",
   "metadata": {},
   "source": [
    "# Distribution and sampling\n",
    "\n",
    "In this mission, we'll be looking at US income data. Each row is a single county in the US. For each county, we have the following columns:\n",
    "\n",
    "* `id` -- the county id.\n",
    "* `county` -- the name and state of the county.\n",
    "* `pop_over_25` -- the number of adults over age 25.\n",
    "* `median_income` -- the median income for residents over age 25 in the county.\n",
    "* `median_income_no_hs` -- median income for residents without a high school education.\n",
    "* `median_income_hs` -- median income for high school graduates who didn't go to college.\n",
    "* `median_income_some_college` -- median income for residents who went to college but didn't graduate.\n",
    "* `median_income_college` -- median income for college graduates.\n",
    "* `median_income_graduate_degree` -- median income for those with a masters or other graduate degree.\n",
    "\n",
    "The figures are the estimated values for 2013, from the [American Community Survey(ACS)](http://www.census.gov/acs/www/). The ACS is conducted yearly by the US Census Bureau, and gives a picture of demographic changes between the larger census, which the US does every 10 years.\n"
   ]
  },
  {
   "cell_type": "code",
   "execution_count": 1,
   "metadata": {},
   "outputs": [],
   "source": [
    "from matplotlib import pyplot as plt\n",
    "import numpy as np\n",
    "import pandas as pd"
   ]
  },
  {
   "cell_type": "code",
   "execution_count": 4,
   "metadata": {
    "scrolled": true
   },
   "outputs": [
    {
     "name": "stdout",
     "output_type": "stream",
     "text": [
      "(3143, 9)\n"
     ]
    },
    {
     "data": {
      "text/html": [
       "<div>\n",
       "<style scoped>\n",
       "    .dataframe tbody tr th:only-of-type {\n",
       "        vertical-align: middle;\n",
       "    }\n",
       "\n",
       "    .dataframe tbody tr th {\n",
       "        vertical-align: top;\n",
       "    }\n",
       "\n",
       "    .dataframe thead th {\n",
       "        text-align: right;\n",
       "    }\n",
       "</style>\n",
       "<table border=\"1\" class=\"dataframe\">\n",
       "  <thead>\n",
       "    <tr style=\"text-align: right;\">\n",
       "      <th></th>\n",
       "      <th>id</th>\n",
       "      <th>county</th>\n",
       "      <th>pop_over_25</th>\n",
       "      <th>median_income</th>\n",
       "      <th>median_income_no_hs</th>\n",
       "      <th>median_income_hs</th>\n",
       "      <th>median_income_some_college</th>\n",
       "      <th>median_income_college</th>\n",
       "      <th>median_income_graduate_degree</th>\n",
       "    </tr>\n",
       "  </thead>\n",
       "  <tbody>\n",
       "    <tr>\n",
       "      <th>0</th>\n",
       "      <td>1001</td>\n",
       "      <td>Autauga County, Alabama</td>\n",
       "      <td>35696</td>\n",
       "      <td>34581</td>\n",
       "      <td>17946</td>\n",
       "      <td>30157</td>\n",
       "      <td>33225</td>\n",
       "      <td>53248</td>\n",
       "      <td>68125</td>\n",
       "    </tr>\n",
       "    <tr>\n",
       "      <th>1</th>\n",
       "      <td>1003</td>\n",
       "      <td>Baldwin County, Alabama</td>\n",
       "      <td>130063</td>\n",
       "      <td>31352</td>\n",
       "      <td>17474</td>\n",
       "      <td>25242</td>\n",
       "      <td>30922</td>\n",
       "      <td>46017</td>\n",
       "      <td>55933</td>\n",
       "    </tr>\n",
       "    <tr>\n",
       "      <th>2</th>\n",
       "      <td>1005</td>\n",
       "      <td>Barbour County, Alabama</td>\n",
       "      <td>18988</td>\n",
       "      <td>25182</td>\n",
       "      <td>20692</td>\n",
       "      <td>21325</td>\n",
       "      <td>24090</td>\n",
       "      <td>41888</td>\n",
       "      <td>50245</td>\n",
       "    </tr>\n",
       "    <tr>\n",
       "      <th>3</th>\n",
       "      <td>1007</td>\n",
       "      <td>Bibb County, Alabama</td>\n",
       "      <td>15340</td>\n",
       "      <td>27638</td>\n",
       "      <td>22274</td>\n",
       "      <td>28980</td>\n",
       "      <td>22387</td>\n",
       "      <td>30284</td>\n",
       "      <td>42236</td>\n",
       "    </tr>\n",
       "    <tr>\n",
       "      <th>4</th>\n",
       "      <td>1009</td>\n",
       "      <td>Blount County, Alabama</td>\n",
       "      <td>38846</td>\n",
       "      <td>32808</td>\n",
       "      <td>24870</td>\n",
       "      <td>27541</td>\n",
       "      <td>34660</td>\n",
       "      <td>48681</td>\n",
       "      <td>53664</td>\n",
       "    </tr>\n",
       "  </tbody>\n",
       "</table>\n",
       "</div>"
      ],
      "text/plain": [
       "     id                   county  pop_over_25  median_income  \\\n",
       "0  1001  Autauga County, Alabama        35696          34581   \n",
       "1  1003  Baldwin County, Alabama       130063          31352   \n",
       "2  1005  Barbour County, Alabama        18988          25182   \n",
       "3  1007     Bibb County, Alabama        15340          27638   \n",
       "4  1009   Blount County, Alabama        38846          32808   \n",
       "\n",
       "   median_income_no_hs  median_income_hs  median_income_some_college  \\\n",
       "0                17946             30157                       33225   \n",
       "1                17474             25242                       30922   \n",
       "2                20692             21325                       24090   \n",
       "3                22274             28980                       22387   \n",
       "4                24870             27541                       34660   \n",
       "\n",
       "   median_income_college  median_income_graduate_degree  \n",
       "0                  53248                          68125  \n",
       "1                  46017                          55933  \n",
       "2                  41888                          50245  \n",
       "3                  30284                          42236  \n",
       "4                  48681                          53664  "
      ]
     },
     "execution_count": 4,
     "metadata": {},
     "output_type": "execute_result"
    }
   ],
   "source": [
    "income = pd.read_csv('data/us_income.csv')\n",
    "print(income.shape); income.head()"
   ]
  },
  {
   "cell_type": "code",
   "execution_count": null,
   "metadata": {},
   "outputs": [],
   "source": []
  },
  {
   "cell_type": "markdown",
   "metadata": {},
   "source": [
    "#### instructions\n",
    "* Find the county with the lowest median income in the US (median_income). Assign the name of the county (county) to lowest_income_county.\n",
    "* Find the county that has more than 500000 residents with the lowest median income. Assign the name of the county to lowest_income_high_pop_county."
   ]
  },
  {
   "cell_type": "code",
   "execution_count": 11,
   "metadata": {
    "scrolled": true
   },
   "outputs": [
    {
     "data": {
      "text/plain": [
       "'Starr County, Texas'"
      ]
     },
     "execution_count": 11,
     "metadata": {},
     "output_type": "execute_result"
    }
   ],
   "source": [
    "med_income_sorted = income.sort_values(by='median_income')\n",
    "\n",
    "lowest_income_county = med_income_sorted.iloc[0]['county']\n",
    "lowest_income_county"
   ]
  },
  {
   "cell_type": "code",
   "execution_count": 9,
   "metadata": {},
   "outputs": [
    {
     "data": {
      "text/html": [
       "<div>\n",
       "<style scoped>\n",
       "    .dataframe tbody tr th:only-of-type {\n",
       "        vertical-align: middle;\n",
       "    }\n",
       "\n",
       "    .dataframe tbody tr th {\n",
       "        vertical-align: top;\n",
       "    }\n",
       "\n",
       "    .dataframe thead th {\n",
       "        text-align: right;\n",
       "    }\n",
       "</style>\n",
       "<table border=\"1\" class=\"dataframe\">\n",
       "  <thead>\n",
       "    <tr style=\"text-align: right;\">\n",
       "      <th></th>\n",
       "      <th>id</th>\n",
       "      <th>county</th>\n",
       "      <th>pop_over_25</th>\n",
       "      <th>median_income</th>\n",
       "      <th>median_income_no_hs</th>\n",
       "      <th>median_income_hs</th>\n",
       "      <th>median_income_some_college</th>\n",
       "      <th>median_income_college</th>\n",
       "      <th>median_income_graduate_degree</th>\n",
       "    </tr>\n",
       "  </thead>\n",
       "  <tbody>\n",
       "    <tr>\n",
       "      <th>362</th>\n",
       "      <td>12086</td>\n",
       "      <td>Miami-Dade County, Florida</td>\n",
       "      <td>1752160</td>\n",
       "      <td>28398</td>\n",
       "      <td>17122</td>\n",
       "      <td>21933</td>\n",
       "      <td>30735</td>\n",
       "      <td>41086</td>\n",
       "      <td>58480</td>\n",
       "    </tr>\n",
       "    <tr>\n",
       "      <th>195</th>\n",
       "      <td>6019</td>\n",
       "      <td>Fresno County, California</td>\n",
       "      <td>553637</td>\n",
       "      <td>28954</td>\n",
       "      <td>15921</td>\n",
       "      <td>25136</td>\n",
       "      <td>31811</td>\n",
       "      <td>51992</td>\n",
       "      <td>67660</td>\n",
       "    </tr>\n",
       "    <tr>\n",
       "      <th>1830</th>\n",
       "      <td>36005</td>\n",
       "      <td>Bronx County, New York</td>\n",
       "      <td>866898</td>\n",
       "      <td>30261</td>\n",
       "      <td>18505</td>\n",
       "      <td>25551</td>\n",
       "      <td>33432</td>\n",
       "      <td>43053</td>\n",
       "      <td>60814</td>\n",
       "    </tr>\n",
       "    <tr>\n",
       "      <th>367</th>\n",
       "      <td>12095</td>\n",
       "      <td>Orange County, Florida</td>\n",
       "      <td>756005</td>\n",
       "      <td>31096</td>\n",
       "      <td>17822</td>\n",
       "      <td>23819</td>\n",
       "      <td>30475</td>\n",
       "      <td>43355</td>\n",
       "      <td>60539</td>\n",
       "    </tr>\n",
       "    <tr>\n",
       "      <th>106</th>\n",
       "      <td>4019</td>\n",
       "      <td>Pima County, Arizona</td>\n",
       "      <td>650440</td>\n",
       "      <td>31630</td>\n",
       "      <td>17437</td>\n",
       "      <td>24478</td>\n",
       "      <td>31138</td>\n",
       "      <td>43332</td>\n",
       "      <td>55313</td>\n",
       "    </tr>\n",
       "  </tbody>\n",
       "</table>\n",
       "</div>"
      ],
      "text/plain": [
       "         id                      county  pop_over_25  median_income  \\\n",
       "362   12086  Miami-Dade County, Florida      1752160          28398   \n",
       "195    6019   Fresno County, California       553637          28954   \n",
       "1830  36005      Bronx County, New York       866898          30261   \n",
       "367   12095      Orange County, Florida       756005          31096   \n",
       "106    4019        Pima County, Arizona       650440          31630   \n",
       "\n",
       "      median_income_no_hs  median_income_hs  median_income_some_college  \\\n",
       "362                 17122             21933                       30735   \n",
       "195                 15921             25136                       31811   \n",
       "1830                18505             25551                       33432   \n",
       "367                 17822             23819                       30475   \n",
       "106                 17437             24478                       31138   \n",
       "\n",
       "      median_income_college  median_income_graduate_degree  \n",
       "362                   41086                          58480  \n",
       "195                   51992                          67660  \n",
       "1830                  43053                          60814  \n",
       "367                   43355                          60539  \n",
       "106                   43332                          55313  "
      ]
     },
     "execution_count": 9,
     "metadata": {},
     "output_type": "execute_result"
    }
   ],
   "source": [
    "lowest_income_high_pop_counties = med_income_sorted[med_income_sorted['pop_over_25']>500000]\n",
    "lowest_income_high_pop_county = lowest_income_high_pop_counties.iloc[0]['county']\n",
    "\n",
    "lowest_income_high_pop_counties.head()"
   ]
  },
  {
   "cell_type": "code",
   "execution_count": 12,
   "metadata": {},
   "outputs": [
    {
     "data": {
      "text/plain": [
       "'Miami-Dade County, Florida'"
      ]
     },
     "execution_count": 12,
     "metadata": {},
     "output_type": "execute_result"
    }
   ],
   "source": [
    "lowest_income_high_pop_county"
   ]
  },
  {
   "cell_type": "code",
   "execution_count": null,
   "metadata": {},
   "outputs": [],
   "source": []
  },
  {
   "cell_type": "markdown",
   "metadata": {},
   "source": [
    "### Random numbers\n",
    "\n",
    "Sometimes, instead of looking at a whole dataset, you just want to take a sample of it. This usually happens when dealing with the whole set of data is impractical. This can be due to processing power and memory constraints -- it is sometimes much faster to analyze 1/10th of a dataset than the whole thing. It can also be due to cost or other complexities."
   ]
  },
  {
   "cell_type": "code",
   "execution_count": 13,
   "metadata": {},
   "outputs": [
    {
     "name": "stdout",
     "output_type": "stream",
     "text": [
      "[9, 0, 6, 7, 9]\n",
      "[9, 0, 6, 7, 9]\n",
      "[7, 8, 7, 7, 8]\n"
     ]
    }
   ],
   "source": [
    "import random\n",
    "\n",
    "# Returns a random integer between the numbers 0 and 10, inclusive.\n",
    "num = random.randint(0, 10)\n",
    "\n",
    "# Generate a sequence of 10 random numbers between the values of 0 and 10.\n",
    "random_sequence = [random.randint(0, 10) for _ in range(10)]\n",
    "\n",
    "# Sometimes, when we generate a random sequence, we want it to be the same sequence whenever the program is run.\n",
    "# An example is when you use random numbers to select a subset of the data, and you want other people\n",
    "# looking at the same data to get the same subset.\n",
    "# We can ensure this by setting a random seed.\n",
    "# A random seed is an integer that is used to \"seed\" a random number generator.\n",
    "# After a random seed is set, the numbers generated after will follow the same sequence.\n",
    "random.seed(10)\n",
    "print([random.randint(0,10) for _ in range(5)])\n",
    "random.seed(10)\n",
    "# Same sequence as above.\n",
    "print([random.randint(0,10) for _ in range(5)])\n",
    "random.seed(11)\n",
    "# Different seed means different sequence.\n",
    "print([random.randint(0,10) for _ in range(5)])"
   ]
  },
  {
   "cell_type": "code",
   "execution_count": 14,
   "metadata": {},
   "outputs": [],
   "source": [
    "random.seed(20)\n",
    "new_sequence = [random.randint(0,10) for _ in range(10)]"
   ]
  },
  {
   "cell_type": "code",
   "execution_count": 15,
   "metadata": {},
   "outputs": [
    {
     "name": "stdout",
     "output_type": "stream",
     "text": [
      "[200, 300, 20, 600]\n"
     ]
    }
   ],
   "source": [
    "# Let's say that we have some data on how much shoppers spend in a store.\n",
    "shopping = [300, 200, 100, 600, 20]\n",
    "\n",
    "# We want to sample the data, and only select 4 elements.\n",
    "\n",
    "random.seed(1)\n",
    "shopping_sample = random.sample(shopping, 4)\n",
    "\n",
    "# 4 random items from the shopping list.\n",
    "print(shopping_sample)"
   ]
  },
  {
   "cell_type": "code",
   "execution_count": null,
   "metadata": {},
   "outputs": [],
   "source": []
  },
  {
   "cell_type": "markdown",
   "metadata": {},
   "source": [
    "### Population vs. sample\n",
    "\n",
    "Let's say that you have a normal, six-sided die. You roll it four times, and you get `1, 1, 3, 4`. Based on this, could you conclude that there is a 50% probability of rolling a 1, a 25% probability of rolling a 3, and a 25% probability of rolling a 4?\n",
    "\n",
    "* No, as it's pretty easy to see that a die has a 1/6 chance of rolling any single digit. This means that the probabilities we observe are not necessarily the true probabilities of an event occurring.\n",
    "\n",
    "* As you may be able to guess, the larger the sample size (in this case, the more rolls we perform), the closer to the \"true\" probabilities we get. Let's explore this more."
   ]
  },
  {
   "cell_type": "code",
   "execution_count": 16,
   "metadata": {},
   "outputs": [
    {
     "data": {
      "image/png": "[encoded data removed]",
      "text/plain": [
       "<matplotlib.figure.Figure at 0x1012796a0>"
      ]
     },
     "metadata": {},
     "output_type": "display_data"
    }
   ],
   "source": [
    "import matplotlib.pyplot as plt\n",
    "\n",
    "# A function that returns the result of a die roll.\n",
    "def roll():\n",
    "    return random.randint(1, 6)\n",
    "\n",
    "random.seed(1)\n",
    "small_sample = [roll() for _ in range(10)]\n",
    "\n",
    "# Plot a histogram with 6 bins (1 for each possible outcome of the die roll)\n",
    "plt.hist(small_sample, 6)\n",
    "plt.show()"
   ]
  },
  {
   "cell_type": "code",
   "execution_count": 18,
   "metadata": {},
   "outputs": [
    {
     "data": {
      "image/png": "[encoded data removed]",
      "text/plain": [
       "<matplotlib.figure.Figure at 0x101c1d748>"
      ]
     },
     "metadata": {},
     "output_type": "display_data"
    }
   ],
   "source": [
    "random.seed(1)\n",
    "one_hundred_die_rolls = [roll() for _ in range(100)]\n",
    "\n",
    "plt.hist(one_hundred_die_rolls, bins=6)\n",
    "plt.show()"
   ]
  },
  {
   "cell_type": "code",
   "execution_count": null,
   "metadata": {},
   "outputs": [],
   "source": []
  },
  {
   "cell_type": "code",
   "execution_count": 19,
   "metadata": {},
   "outputs": [
    {
     "data": {
      "image/png": "[encoded data removed]",
      "text/plain": [
       "<matplotlib.figure.Figure at 0x101c1d0f0>"
      ]
     },
     "metadata": {},
     "output_type": "display_data"
    }
   ],
   "source": [
    "random.seed(1)\n",
    "ten_thousand_die_rolls = [roll() for _ in range(10000)]\n",
    "\n",
    "plt.hist(ten_thousand_die_rolls, bins=6)\n",
    "plt.show()"
   ]
  },
  {
   "cell_type": "code",
   "execution_count": null,
   "metadata": {},
   "outputs": [],
   "source": []
  },
  {
   "cell_type": "markdown",
   "metadata": {},
   "source": [
    "### Finding the right sample size\n",
    "We can graph out this variability by repeatedly rolling the die N times. So we could do 20 trials of rolling the die 10 times, and graph out all the resulting probabilities of rolling a 1. This would tell us how much error we could expect by rolling the die 20 times."
   ]
  },
  {
   "cell_type": "code",
   "execution_count": 20,
   "metadata": {},
   "outputs": [
    {
     "data": {
      "image/png": "[encoded data removed]",
      "text/plain": [
       "<matplotlib.figure.Figure at 0x101c231d0>"
      ]
     },
     "metadata": {},
     "output_type": "display_data"
    }
   ],
   "source": [
    "def probability_of_one(num_trials, num_rolls):\n",
    "    \"\"\"\n",
    "    This function will take in the number of trials, and the number of rolls per trial.\n",
    "    Then it will conduct each trial, and record the probability of rolling a one.\n",
    "    \"\"\"\n",
    "    probabilities = []\n",
    "    for i in range(num_trials):\n",
    "        die_rolls = [roll() for _ in range(num_rolls)]\n",
    "        one_prob = len([d for d in die_rolls if d==1]) / num_rolls\n",
    "        probabilities.append(one_prob)\n",
    "    return probabilities\n",
    "\n",
    "random.seed(1)\n",
    "small_sample = probability_of_one(300, 50)\n",
    "plt.hist(small_sample, 20)\n",
    "plt.ylim(0,70)\n",
    "plt.xlim(0,0.4)\n",
    "plt.show()"
   ]
  },
  {
   "cell_type": "code",
   "execution_count": null,
   "metadata": {},
   "outputs": [],
   "source": []
  },
  {
   "cell_type": "markdown",
   "metadata": {},
   "source": [
    "* Set the random seed to `1`, then generate probabilities for `300` trials of `100` die rolls each. Make a histogram with `20` bins.\n",
    "* Set the random seed to `1`, then generate probabilities for `300` trials of `1000` die rolls each. Make a histogram with `20` bins."
   ]
  },
  {
   "cell_type": "code",
   "execution_count": 23,
   "metadata": {},
   "outputs": [
    {
     "data": {
      "image/png": "[encoded data removed]",
      "text/plain": [
       "<matplotlib.figure.Figure at 0x10715d860>"
      ]
     },
     "metadata": {},
     "output_type": "display_data"
    }
   ],
   "source": [
    "random.seed(1)\n",
    "sample_probs_300_100 = probability_of_one(300, 100)\n",
    "\n",
    "plt.hist(sample_probs_300_100, bins=20)\n",
    "plt.ylim(0,70)\n",
    "plt.xlim(0,0.4)\n",
    "plt.show()"
   ]
  },
  {
   "cell_type": "code",
   "execution_count": 24,
   "metadata": {},
   "outputs": [
    {
     "data": {
      "image/png": "[encoded data removed]",
      "text/plain": [
       "<matplotlib.figure.Figure at 0x10700b550>"
      ]
     },
     "metadata": {},
     "output_type": "display_data"
    }
   ],
   "source": [
    "random.seed(1)\n",
    "sample_probs_300_1000 = probability_of_one(300, 1000)\n",
    "\n",
    "plt.hist(sample_probs_300_1000, bins=20)\n",
    "plt.ylim(0,70)\n",
    "plt.xlim(0,0.4)\n",
    "plt.show()"
   ]
  },
  {
   "cell_type": "code",
   "execution_count": null,
   "metadata": {},
   "outputs": [],
   "source": []
  },
  {
   "cell_type": "markdown",
   "metadata": {},
   "source": [
    "### What are the odds?\n",
    "\n",
    "See how the graphs in the last screen got \"steeper\" as we added more rolls? This is because the variability around the mean decreases as we have more samples in each trial.\n",
    "\n",
    "* One interesting thing that we can do given the distributions above is find the odds of getting a certain probability for rolling a one given the number of rolls we make."
   ]
  },
  {
   "cell_type": "markdown",
   "metadata": {},
   "source": [
    "#### instructions\n",
    "* Find how many standard deviations away from the mean of large_sample .18 is. Assign the result to deviations_from_mean.\n",
    "* Find how many probabilities in large sample are greater than or equal to .18. Assign the result to over_18_count."
   ]
  },
  {
   "cell_type": "code",
   "execution_count": 27,
   "metadata": {},
   "outputs": [],
   "source": [
    "random.seed(1)\n",
    "large_sample = probability_of_one(100, 1000)"
   ]
  },
  {
   "cell_type": "code",
   "execution_count": 28,
   "metadata": {},
   "outputs": [],
   "source": [
    "large_sample_mean = np.mean(large_sample)\n",
    "large_sample_std = np.std(large_sample)\n",
    "\n",
    "deviations_from_mean = [(ls-large_sample_mean)/large_sample_std\\\n",
    "                        for ls in large_sample]\n",
    "\n",
    "over_18_count = len([over18 for over18 in large_sample\\\n",
    "                    if over18 >= .18])"
   ]
  },
  {
   "cell_type": "code",
   "execution_count": 30,
   "metadata": {},
   "outputs": [
    {
     "data": {
      "text/plain": [
       "12"
      ]
     },
     "execution_count": 30,
     "metadata": {},
     "output_type": "execute_result"
    }
   ],
   "source": [
    "# num of prob in sample greater than/equal to .18\n",
    "over_18_count "
   ]
  },
  {
   "cell_type": "code",
   "execution_count": null,
   "metadata": {},
   "outputs": [],
   "source": []
  },
  {
   "cell_type": "markdown",
   "metadata": {},
   "source": [
    "### Sampling counties"
   ]
  },
  {
   "cell_type": "code",
   "execution_count": 31,
   "metadata": {},
   "outputs": [
    {
     "name": "stdout",
     "output_type": "stream",
     "text": [
      "31063.0938594\n"
     ]
    },
    {
     "data": {
      "image/png": "[encoded data removed]",
      "text/plain": [
       "<matplotlib.figure.Figure at 0x1070f83c8>"
      ]
     },
     "metadata": {},
     "output_type": "display_data"
    }
   ],
   "source": [
    "# This is the mean median income in any US county.\n",
    "mean_median_income = income[\"median_income\"].mean()\n",
    "print(mean_median_income)\n",
    "\n",
    "def get_sample_mean(start, end):\n",
    "    return income[\"median_income\"][start:end].mean()\n",
    "\n",
    "def find_mean_incomes(row_step):\n",
    "    mean_median_sample_incomes = []\n",
    "    # Iterate over the indices of the income rows\n",
    "    # Starting at 0, and counting in blocks of row_step (0, row_step, row_step * 2, etc).\n",
    "    for i in range(0, income.shape[0], row_step):\n",
    "        # Find the mean median for the row_step counties from i to i+row_step.\n",
    "        mean_median_sample_incomes.append(get_sample_mean(i, i+row_step))\n",
    "    return mean_median_sample_incomes\n",
    "\n",
    "nonrandom_sample = find_mean_incomes(100)\n",
    "plt.hist(nonrandom_sample, 20)\n",
    "plt.show()\n",
    "\n",
    "# What you're seeing above is the result of biased sampling.\n",
    "# Instead of selecting randomly, we selected counties that were next to each other in the data.\n",
    "# This picked counties in the same state more often that not, and created means that didn't represent the whole country.\n",
    "# This is the danger of not using random sampling -- you end up with samples that don't reflect the entire population.\n",
    "# This gives you a distribution that isn't normal.\n",
    "\n",
    "import random\n",
    "def select_random_sample(count):\n",
    "    random_indices = random.sample(range(0, income.shape[0]), count)\n",
    "    return income.iloc[random_indices]\n"
   ]
  },
  {
   "cell_type": "code",
   "execution_count": 35,
   "metadata": {},
   "outputs": [
    {
     "data": {
      "text/plain": [
       "True"
      ]
     },
     "execution_count": 35,
     "metadata": {},
     "output_type": "execute_result"
    }
   ],
   "source": [
    "# check if there is any duplicated value\n",
    "len(income.county) == len(income.county.unique())"
   ]
  },
  {
   "cell_type": "code",
   "execution_count": 42,
   "metadata": {},
   "outputs": [
    {
     "data": {
      "image/png": "[encoded data removed]",
      "text/plain": [
       "<matplotlib.figure.Figure at 0x10709f8d0>"
      ]
     },
     "metadata": {},
     "output_type": "display_data"
    }
   ],
   "source": [
    "random.seed(1)\n",
    "sample_mean_median_incomes = [select_random_sample(100)['median_income'].mean()\\\n",
    "                              for _ in range(1000)]\n",
    "\n",
    "plt.hist(sample_mean_median_incomes, bins=20)\n",
    "plt.show()"
   ]
  },
  {
   "cell_type": "code",
   "execution_count": null,
   "metadata": {},
   "outputs": [],
   "source": []
  },
  {
   "cell_type": "markdown",
   "metadata": {},
   "source": [
    "### An experiment\n",
    "\n",
    "Let's say we're the US government. We want to run an experiment to see whether a certain kind of adult education can help high school graduates earn more relative to college graduates than they could otherwise.<br>\n",
    "\n",
    "We decide to trial our program in `100` counties, and measure the median incomes of both groups in `5` years.<br>\n",
    "\n",
    "At the end of `5` years, we first need to measure the whole population to determine the typical ratio between high school graduate earnings and college graduate earnings."
   ]
  },
  {
   "cell_type": "code",
   "execution_count": 44,
   "metadata": {},
   "outputs": [
    {
     "data": {
      "image/png": "[encoded data removed]",
      "text/plain": [
       "<matplotlib.figure.Figure at 0x1068c66d8>"
      ]
     },
     "metadata": {},
     "output_type": "display_data"
    }
   ],
   "source": [
    "random.seed(1)\n",
    "sample_incomes = [select_random_sample(100)\\\n",
    "                              for _ in range(1000)]\n",
    "\n",
    "mean_ratios = []\n",
    "\n",
    "for sample in sample_incomes:\n",
    "    \n",
    "    ratios = sample['median_income_hs'] / sample['median_income_college']\n",
    "    mean_ratio = ratios.mean()\n",
    "    mean_ratios.append(mean_ratio)\n",
    "\n",
    "plt.hist(mean_ratios, bins=20)\n",
    "plt.show()"
   ]
  },
  {
   "cell_type": "code",
   "execution_count": null,
   "metadata": {},
   "outputs": [],
   "source": []
  },
  {
   "cell_type": "markdown",
   "metadata": {},
   "source": [
    "### Statistical significance\n",
    "\n",
    "After 5 years, we determine that the mean ratio in our random sample of 100 counties is .675 -- that is, high school graduates on average earn 67.5% of what college graduates do.<br>\n",
    "\n",
    "Now that we have our result, how do we know if our hypothesis is correct? Remember, our hypothesis was about the whole population, not about the sample.<br>\n",
    "\n",
    "Statistical significance is used to determine if a result is valid for a population or not. You usually set a significance level beforehand that will determine if your hypothesis is true or not. After conducting the experiment, you check against the significance level to determine.<br>\n",
    "\n",
    "### A common significance level is .05. \n",
    "This means: \"only 5% or less of the time will the result have been due to chance\".<br>\n",
    "\n",
    "In our case, chance could be that the high school graduates in the county changed income some way other than through our program -- maybe some higher paying factory jobs came to town, or there were some other educational initiatives around.<br>\n",
    "\n",
    "In order to test for significance, we compare our result ratio with the mean ratios we found in the last section."
   ]
  },
  {
   "cell_type": "code",
   "execution_count": null,
   "metadata": {},
   "outputs": [],
   "source": []
  },
  {
   "cell_type": "code",
   "execution_count": 46,
   "metadata": {},
   "outputs": [
    {
     "data": {
      "text/plain": [
       "0.014"
      ]
     },
     "execution_count": 46,
     "metadata": {},
     "output_type": "execute_result"
    }
   ],
   "source": [
    "mean_ratios_gte_675 = [mr for mr in mean_ratios\\\n",
    "                      if mr >= .675]\n",
    "\n",
    "significance_value = len(mean_ratios_gte_675)/len(mean_ratios)\n",
    "significance_value"
   ]
  },
  {
   "cell_type": "code",
   "execution_count": null,
   "metadata": {},
   "outputs": [],
   "source": []
  },
  {
   "cell_type": "markdown",
   "metadata": {},
   "source": [
    "### Final result"
   ]
  },
  {
   "cell_type": "markdown",
   "metadata": {},
   "source": [
    "Our significance value was `.014`. Based on the entire population, **only 1.4% of the time will the wage results we saw have occurred on their own**. So our experiment exceeded our significance level (lower means more significant). \n",
    "> Thus, our experiment showed that the program did improve the wages of high school graduates relative to college graduates.\n",
    "\n",
    "You may have noticed earlier that the more samples in our trials, the \"steeper\" the histograms of outcomes get (look back on the probability of rolling one with the die if you need a refresher). **This \"steepness\" arose because the more trials we have, the less likely the value is to vary from the \"true\" value.** <br>\n",
    "\n",
    "This same principle applies to significance testing. \n",
    "> You need a larger deviation from the mean to have something be \"significant\" if your sample size is smaller. **The larger the trial, the smaller the deviation needs to be to get a significant result**.\n",
    "\n",
    "You may be asking at this point how we can determine statistical significance without knowing the population values upfront. In a lot of cases, like drug trials, you don't have the capability to measure everyone in the world to compare against your sample.\n",
    "\n",
    "* **Statistics gives us tools to deal with this, and we'll learn about them in the next missions.**"
   ]
  },
  {
   "cell_type": "code",
   "execution_count": 47,
   "metadata": {},
   "outputs": [
    {
     "data": {
      "image/png": "[encoded data removed]",
      "text/plain": [
       "<matplotlib.figure.Figure at 0x10709ffd0>"
      ]
     },
     "metadata": {},
     "output_type": "display_data"
    }
   ],
   "source": [
    "# This is \"steeper\" than the graph from before, \n",
    "# because it has 500 items in each sample.\n",
    "random.seed(1)\n",
    "mean_ratios = []\n",
    "for i in range(1000):\n",
    "    sample = select_random_sample(500)\n",
    "    ratios = sample[\"median_income_hs\"] / sample[\"median_income_college\"]\n",
    "    mean_ratios.append(ratios.mean())\n",
    "    \n",
    "plt.hist(mean_ratios, 20)\n",
    "plt.show()"
   ]
  },
  {
   "cell_type": "code",
   "execution_count": null,
   "metadata": {},
   "outputs": [],
   "source": []
  }
 ],
 "metadata": {
  "kernelspec": {
   "display_name": "Python 3",
   "language": "python",
   "name": "python3"
  },
  "language_info": {
   "codemirror_mode": {
    "name": "ipython",
    "version": 3
   },
   "file_extension": ".py",
   "mimetype": "text/x-python",
   "name": "python",
   "nbconvert_exporter": "python",
   "pygments_lexer": "ipython3",
   "version": "3.6.2"
  }
 },
 "nbformat": 4,
 "nbformat_minor": 2
}
