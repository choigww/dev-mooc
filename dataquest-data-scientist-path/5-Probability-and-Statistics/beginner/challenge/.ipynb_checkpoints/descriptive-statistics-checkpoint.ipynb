{
 "cells": [
  {
   "cell_type": "markdown",
   "metadata": {},
   "source": [
    "# Challenge: Descriptive Statistics\n",
    "\n",
    "In this challenge, you'll practice the statistical techniques you learned in the previous missions. These techniques are referred to collectively as **descriptive statistics** since they're used to describe and understand a dataset and not directly for prediction.<br>\n",
    "\n",
    "The FiveThirtyEight team recently released a dataset containing the critics scores for a sample of movies that have substantive (at least 30) user and critic reviews from IMDB, Rotten Tomatoes, Metacritic, IMDB, and Fandango. Whenever a movie is released, movie review sites ask their approved network of critics and their site's user base to rate the movie. These scores are aggregated and the average score from both groups are posted on their site for each movie.<br>\n",
    "\n",
    "Here are links to the page for **Star Trek Beyond** for each site:\n",
    "\n",
    "* [Rotten Tomatoes](https://www.rottentomatoes.com/m/star_trek_beyond)\n",
    "* [Fandango](http://www.fandango.com/startrekbeyond_188462/movieoverview)\n",
    "* [Metacritic](http://www.metacritic.com/movie/star-trek-beyond)\n",
    "* [IMDB](http://www.imdb.com/title/tt2660888/)"
   ]
  },
  {
   "cell_type": "markdown",
   "metadata": {},
   "source": [
    "The dataset contains information on most movies from 2014 and 2015 and was used to help the team at FiveThirtyEight explore Fandango's suspiciously high ratings. You can read their analysis [here](http://fivethirtyeight.com/features/fandango-movies-ratings/).<br>\n",
    "\n",
    "You'll be working with the file `fandango_score_comparison.csv`, which you can download from [their Github repo](https://github.com/fivethirtyeight/data/tree/master/fandango). Here are some of the columns in the dataset:\n",
    "\n",
    "* `FILM` - film name.\n",
    "* `RottenTomatoes` - Rotten Tomatoes critics average score.\n",
    "* `RottenTomatoes_User` - Rotten Tomatoes user average score.\n",
    "* `RT_norm` - Rotten Tomatoes critics average score (normalized to a 0 to 5 point scale).\n",
    "* `RT_user_norm` - Rotten Tomatoes user average score (normalized to a 0 to 5 point scale).\n",
    "* `Metacritic` - Metacritic critics average score.\n",
    "* `Metacritic_user_nom` - Metacritic user average score (normalized to a 0 to 5 point scale).\n",
    "* `Metacritic_norm` - Metacritic critics average score (normalized to a 0 to 5 point scale).\n",
    "* `Fandango_Ratingvalue` - Fandango user average score (0 to 5 stars).\n",
    "* `IMDB_norm` - IMDB user average score (normalized to a 0 to 5 point scale).\n",
    "\n",
    "The full column list and descriptions are available at FiveThirtyEight's [Github repo](https://github.com/fivethirtyeight/data/tree/master/fandango). Let's focus on the normalized user scores for now and generate histograms to better understand each site's distributions."
   ]
  },
  {
   "cell_type": "code",
   "execution_count": null,
   "metadata": {},
   "outputs": [],
   "source": []
  },
  {
   "cell_type": "code",
   "execution_count": 5,
   "metadata": {},
   "outputs": [],
   "source": [
    "import matplotlib.pyplot as plt\n",
    "import pandas as pd"
   ]
  },
  {
   "cell_type": "code",
   "execution_count": 2,
   "metadata": {},
   "outputs": [],
   "source": [
    "movie_reviews = pd.read_csv(\"data/fandango_score_comparison.csv\")"
   ]
  },
  {
   "cell_type": "code",
   "execution_count": 3,
   "metadata": {},
   "outputs": [
    {
     "data": {
      "text/html": [
       "<div>\n",
       "<style scoped>\n",
       "    .dataframe tbody tr th:only-of-type {\n",
       "        vertical-align: middle;\n",
       "    }\n",
       "\n",
       "    .dataframe tbody tr th {\n",
       "        vertical-align: top;\n",
       "    }\n",
       "\n",
       "    .dataframe thead th {\n",
       "        text-align: right;\n",
       "    }\n",
       "</style>\n",
       "<table border=\"1\" class=\"dataframe\">\n",
       "  <thead>\n",
       "    <tr style=\"text-align: right;\">\n",
       "      <th></th>\n",
       "      <th>FILM</th>\n",
       "      <th>RottenTomatoes</th>\n",
       "      <th>RottenTomatoes_User</th>\n",
       "      <th>Metacritic</th>\n",
       "      <th>Metacritic_User</th>\n",
       "      <th>IMDB</th>\n",
       "      <th>Fandango_Stars</th>\n",
       "      <th>Fandango_Ratingvalue</th>\n",
       "      <th>RT_norm</th>\n",
       "      <th>RT_user_norm</th>\n",
       "      <th>...</th>\n",
       "      <th>IMDB_norm</th>\n",
       "      <th>RT_norm_round</th>\n",
       "      <th>RT_user_norm_round</th>\n",
       "      <th>Metacritic_norm_round</th>\n",
       "      <th>Metacritic_user_norm_round</th>\n",
       "      <th>IMDB_norm_round</th>\n",
       "      <th>Metacritic_user_vote_count</th>\n",
       "      <th>IMDB_user_vote_count</th>\n",
       "      <th>Fandango_votes</th>\n",
       "      <th>Fandango_Difference</th>\n",
       "    </tr>\n",
       "  </thead>\n",
       "  <tbody>\n",
       "    <tr>\n",
       "      <th>0</th>\n",
       "      <td>Avengers: Age of Ultron (2015)</td>\n",
       "      <td>74</td>\n",
       "      <td>86</td>\n",
       "      <td>66</td>\n",
       "      <td>7.1</td>\n",
       "      <td>7.8</td>\n",
       "      <td>5.0</td>\n",
       "      <td>4.5</td>\n",
       "      <td>3.70</td>\n",
       "      <td>4.3</td>\n",
       "      <td>...</td>\n",
       "      <td>3.90</td>\n",
       "      <td>3.5</td>\n",
       "      <td>4.5</td>\n",
       "      <td>3.5</td>\n",
       "      <td>3.5</td>\n",
       "      <td>4.0</td>\n",
       "      <td>1330</td>\n",
       "      <td>271107</td>\n",
       "      <td>14846</td>\n",
       "      <td>0.5</td>\n",
       "    </tr>\n",
       "    <tr>\n",
       "      <th>1</th>\n",
       "      <td>Cinderella (2015)</td>\n",
       "      <td>85</td>\n",
       "      <td>80</td>\n",
       "      <td>67</td>\n",
       "      <td>7.5</td>\n",
       "      <td>7.1</td>\n",
       "      <td>5.0</td>\n",
       "      <td>4.5</td>\n",
       "      <td>4.25</td>\n",
       "      <td>4.0</td>\n",
       "      <td>...</td>\n",
       "      <td>3.55</td>\n",
       "      <td>4.5</td>\n",
       "      <td>4.0</td>\n",
       "      <td>3.5</td>\n",
       "      <td>4.0</td>\n",
       "      <td>3.5</td>\n",
       "      <td>249</td>\n",
       "      <td>65709</td>\n",
       "      <td>12640</td>\n",
       "      <td>0.5</td>\n",
       "    </tr>\n",
       "    <tr>\n",
       "      <th>2</th>\n",
       "      <td>Ant-Man (2015)</td>\n",
       "      <td>80</td>\n",
       "      <td>90</td>\n",
       "      <td>64</td>\n",
       "      <td>8.1</td>\n",
       "      <td>7.8</td>\n",
       "      <td>5.0</td>\n",
       "      <td>4.5</td>\n",
       "      <td>4.00</td>\n",
       "      <td>4.5</td>\n",
       "      <td>...</td>\n",
       "      <td>3.90</td>\n",
       "      <td>4.0</td>\n",
       "      <td>4.5</td>\n",
       "      <td>3.0</td>\n",
       "      <td>4.0</td>\n",
       "      <td>4.0</td>\n",
       "      <td>627</td>\n",
       "      <td>103660</td>\n",
       "      <td>12055</td>\n",
       "      <td>0.5</td>\n",
       "    </tr>\n",
       "    <tr>\n",
       "      <th>3</th>\n",
       "      <td>Do You Believe? (2015)</td>\n",
       "      <td>18</td>\n",
       "      <td>84</td>\n",
       "      <td>22</td>\n",
       "      <td>4.7</td>\n",
       "      <td>5.4</td>\n",
       "      <td>5.0</td>\n",
       "      <td>4.5</td>\n",
       "      <td>0.90</td>\n",
       "      <td>4.2</td>\n",
       "      <td>...</td>\n",
       "      <td>2.70</td>\n",
       "      <td>1.0</td>\n",
       "      <td>4.0</td>\n",
       "      <td>1.0</td>\n",
       "      <td>2.5</td>\n",
       "      <td>2.5</td>\n",
       "      <td>31</td>\n",
       "      <td>3136</td>\n",
       "      <td>1793</td>\n",
       "      <td>0.5</td>\n",
       "    </tr>\n",
       "    <tr>\n",
       "      <th>4</th>\n",
       "      <td>Hot Tub Time Machine 2 (2015)</td>\n",
       "      <td>14</td>\n",
       "      <td>28</td>\n",
       "      <td>29</td>\n",
       "      <td>3.4</td>\n",
       "      <td>5.1</td>\n",
       "      <td>3.5</td>\n",
       "      <td>3.0</td>\n",
       "      <td>0.70</td>\n",
       "      <td>1.4</td>\n",
       "      <td>...</td>\n",
       "      <td>2.55</td>\n",
       "      <td>0.5</td>\n",
       "      <td>1.5</td>\n",
       "      <td>1.5</td>\n",
       "      <td>1.5</td>\n",
       "      <td>2.5</td>\n",
       "      <td>88</td>\n",
       "      <td>19560</td>\n",
       "      <td>1021</td>\n",
       "      <td>0.5</td>\n",
       "    </tr>\n",
       "  </tbody>\n",
       "</table>\n",
       "<p>5 rows × 22 columns</p>\n",
       "</div>"
      ],
      "text/plain": [
       "                             FILM  RottenTomatoes  RottenTomatoes_User  \\\n",
       "0  Avengers: Age of Ultron (2015)              74                   86   \n",
       "1               Cinderella (2015)              85                   80   \n",
       "2                  Ant-Man (2015)              80                   90   \n",
       "3          Do You Believe? (2015)              18                   84   \n",
       "4   Hot Tub Time Machine 2 (2015)              14                   28   \n",
       "\n",
       "   Metacritic  Metacritic_User  IMDB  Fandango_Stars  Fandango_Ratingvalue  \\\n",
       "0          66              7.1   7.8             5.0                   4.5   \n",
       "1          67              7.5   7.1             5.0                   4.5   \n",
       "2          64              8.1   7.8             5.0                   4.5   \n",
       "3          22              4.7   5.4             5.0                   4.5   \n",
       "4          29              3.4   5.1             3.5                   3.0   \n",
       "\n",
       "   RT_norm  RT_user_norm         ...           IMDB_norm  RT_norm_round  \\\n",
       "0     3.70           4.3         ...                3.90            3.5   \n",
       "1     4.25           4.0         ...                3.55            4.5   \n",
       "2     4.00           4.5         ...                3.90            4.0   \n",
       "3     0.90           4.2         ...                2.70            1.0   \n",
       "4     0.70           1.4         ...                2.55            0.5   \n",
       "\n",
       "   RT_user_norm_round  Metacritic_norm_round  Metacritic_user_norm_round  \\\n",
       "0                 4.5                    3.5                         3.5   \n",
       "1                 4.0                    3.5                         4.0   \n",
       "2                 4.5                    3.0                         4.0   \n",
       "3                 4.0                    1.0                         2.5   \n",
       "4                 1.5                    1.5                         1.5   \n",
       "\n",
       "   IMDB_norm_round  Metacritic_user_vote_count  IMDB_user_vote_count  \\\n",
       "0              4.0                        1330                271107   \n",
       "1              3.5                         249                 65709   \n",
       "2              4.0                         627                103660   \n",
       "3              2.5                          31                  3136   \n",
       "4              2.5                          88                 19560   \n",
       "\n",
       "   Fandango_votes  Fandango_Difference  \n",
       "0           14846                  0.5  \n",
       "1           12640                  0.5  \n",
       "2           12055                  0.5  \n",
       "3            1793                  0.5  \n",
       "4            1021                  0.5  \n",
       "\n",
       "[5 rows x 22 columns]"
      ]
     },
     "execution_count": 3,
     "metadata": {},
     "output_type": "execute_result"
    }
   ],
   "source": [
    "movie_reviews.head()"
   ]
  },
  {
   "cell_type": "code",
   "execution_count": null,
   "metadata": {},
   "outputs": [],
   "source": []
  },
  {
   "cell_type": "markdown",
   "metadata": {},
   "source": [
    "**Drawing 4 histograms in 2x2 subplots**\n",
    "* First plot (top most): Histogram of normalized Rotten Tomatoes scores by users.\n",
    "* Second plot: Histogram of normalized Metacritic scores by users.\n",
    "* Third plot: Histogram of Fandango scores by users.\n",
    "* Fourth plot (bottom most): Histogram of IMDB scores by users."
   ]
  },
  {
   "cell_type": "code",
   "execution_count": 15,
   "metadata": {},
   "outputs": [
    {
     "data": {
      "image/png": "[encoded data removed]",
      "text/plain": [
       "<matplotlib.figure.Figure at 0x10c94fd68>"
      ]
     },
     "metadata": {},
     "output_type": "display_data"
    }
   ],
   "source": [
    "fig = plt.figure(figsize=(8, 8))\n",
    "ax1 = fig.add_subplot(2,2,1)\n",
    "ax2 = fig.add_subplot(2,2,2)\n",
    "ax3 = fig.add_subplot(2,2,3)\n",
    "ax4 = fig.add_subplot(2,2,4)\n",
    "\n",
    "ax1.set_xlim(0, 5.0)\n",
    "ax1.set_title('RT_user_norm')\n",
    "ax2.set_xlim(0, 5.0)\n",
    "ax2.set_title('Metacritic_user_nom')\n",
    "ax3.set_xlim(0, 5.0)\n",
    "ax3.set_title('Fandango_RatingValue')\n",
    "ax4.set_xlim(0, 5.0)\n",
    "ax4.set_title('IMDB_norm')\n",
    "\n",
    "movie_reviews[\"RT_user_norm\"].hist(ax=ax1)\n",
    "movie_reviews[\"Metacritic_user_nom\"].hist(ax=ax2)\n",
    "movie_reviews[\"Fandango_Ratingvalue\"].hist(ax=ax3)\n",
    "movie_reviews[\"IMDB_norm\"].hist(ax=ax4)\n",
    "\n",
    "plt.show()"
   ]
  },
  {
   "cell_type": "code",
   "execution_count": null,
   "metadata": {},
   "outputs": [],
   "source": []
  },
  {
   "cell_type": "markdown",
   "metadata": {},
   "source": [
    "### Mean"
   ]
  },
  {
   "cell_type": "code",
   "execution_count": 20,
   "metadata": {},
   "outputs": [],
   "source": [
    "def calc_mean(series):\n",
    "    return series.mean()\n",
    "\n",
    "user_review_cols = ['RT_user_norm',\n",
    "                   'Metacritic_user_nom',\n",
    "                   'Fandango_Ratingvalue',\n",
    "                   'IMDB_norm']\n",
    "user_reviews = movie_reviews[user_review_cols]"
   ]
  },
  {
   "cell_type": "code",
   "execution_count": 24,
   "metadata": {},
   "outputs": [
    {
     "name": "stdout",
     "output_type": "stream",
     "text": [
      "rt_mean: 3.1938356164383563\n",
      "mc_mean: 3.2595890410958903\n",
      "fg_mean: 3.8452054794520545\n",
      "id_mean: 3.3684931506849316\n"
     ]
    }
   ],
   "source": [
    "rt_mean = user_reviews.apply(calc_mean).RT_user_norm\n",
    "mc_mean = user_reviews.apply(calc_mean).Metacritic_user_nom\n",
    "fg_mean = user_reviews.apply(calc_mean).Fandango_Ratingvalue\n",
    "id_mean = user_reviews.apply(calc_mean).IMDB_norm\n",
    "\n",
    "print('rt_mean: {}\\nmc_mean: {}\\nfg_mean: {}\\nid_mean: {}'\\\n",
    "     .format(rt_mean, mc_mean, fg_mean, id_mean))"
   ]
  },
  {
   "cell_type": "code",
   "execution_count": null,
   "metadata": {},
   "outputs": [],
   "source": []
  },
  {
   "cell_type": "markdown",
   "metadata": {},
   "source": [
    "### Variance and standard deviation"
   ]
  },
  {
   "cell_type": "code",
   "execution_count": 29,
   "metadata": {},
   "outputs": [],
   "source": [
    "def calc_variance(series):\n",
    "    mean = calc_mean(series)\n",
    "    squared_deviations = (series - mean)**2\n",
    "    mean_squared_deviations = calc_mean(squared_deviations)\n",
    "    return mean_squared_deviations\n",
    "\n",
    "rt_var = user_reviews.apply(calc_variance).RT_user_norm\n",
    "rt_stdev = user_reviews.apply(calc_variance).RT_user_norm**(1/2)\n",
    "\n",
    "mc_var = user_reviews.apply(calc_variance).Metacritic_user_nom\n",
    "mc_stdev = user_reviews.apply(calc_variance).Metacritic_user_nom**(1/2)\n",
    "\n",
    "fg_var = user_reviews.apply(calc_variance).Fandango_Ratingvalue\n",
    "fg_stdev = user_reviews.apply(calc_variance).Fandango_Ratingvalue**(1/2)\n",
    "\n",
    "id_var = user_reviews.apply(calc_variance).IMDB_norm\n",
    "id_stdev = user_reviews.apply(calc_variance).IMDB_norm**(1/2)\n"
   ]
  },
  {
   "cell_type": "code",
   "execution_count": 30,
   "metadata": {
    "scrolled": false
   },
   "outputs": [
    {
     "name": "stdout",
     "output_type": "stream",
     "text": [
      "rt_var: 0.9955784387314692\n",
      "mc_var: 0.5666546256333271\n",
      "fg_var: 0.25110714955901664\n",
      "id_var: 0.22821964721336085\n"
     ]
    }
   ],
   "source": [
    "print('rt_var: {}\\nmc_var: {}\\nfg_var: {}\\nid_var: {}'\\\n",
    "     .format(rt_var, mc_var, fg_var, id_var))"
   ]
  },
  {
   "cell_type": "code",
   "execution_count": 31,
   "metadata": {
    "scrolled": false
   },
   "outputs": [
    {
     "name": "stdout",
     "output_type": "stream",
     "text": [
      "rt_stdev: 0.9977867701726002\n",
      "mc_stdev: 0.7527646548778224\n",
      "fg_stdev: 0.501105926485625\n",
      "id_stdev: 0.47772340032006055\n"
     ]
    }
   ],
   "source": [
    "print('rt_stdev: {}\\nmc_stdev: {}\\nfg_stdev: {}\\nid_stdev: {}'\\\n",
    "     .format(rt_stdev, mc_stdev, fg_stdev, id_stdev))"
   ]
  },
  {
   "cell_type": "code",
   "execution_count": null,
   "metadata": {},
   "outputs": [],
   "source": []
  },
  {
   "cell_type": "code",
   "execution_count": 42,
   "metadata": {},
   "outputs": [
    {
     "data": {
      "image/png": "[encoded data removed]",
      "text/plain": [
       "<matplotlib.figure.Figure at 0x1085bdba8>"
      ]
     },
     "metadata": {},
     "output_type": "display_data"
    }
   ],
   "source": [
    "fig = plt.figure(figsize=(4,8))\n",
    "ax1 = fig.add_subplot(3,1,1)\n",
    "ax2 = fig.add_subplot(3,1,2)\n",
    "ax3 = fig.add_subplot(3,1,3)\n",
    "\n",
    "ax1.set_xlim(0, 5.0)\n",
    "ax1.set_title('RT_user_norm vs. Fandango_Ratingvalue')\n",
    "ax2.set_xlim(0, 5.0)\n",
    "ax2.set_title('Metacritic_user_nom vs. Fandango_Ratingvalue')\n",
    "ax3.set_xlim(0, 5.0)\n",
    "ax3.set_title('IMDB_norm vs. Fandango_Ratingvalue')\n",
    "\n",
    "ax1.scatter(user_reviews['RT_user_norm'],\n",
    "           user_reviews['Fandango_Ratingvalue'])\n",
    "\n",
    "ax2.scatter(user_reviews['Metacritic_user_nom'],\n",
    "           user_reviews['Fandango_Ratingvalue'])\n",
    "\n",
    "ax3.scatter(user_reviews['IMDB_norm'],\n",
    "           user_reviews['Fandango_Ratingvalue'])\n",
    "\n",
    "plt.tight_layout()\n",
    "plt.show()"
   ]
  },
  {
   "cell_type": "code",
   "execution_count": null,
   "metadata": {},
   "outputs": [],
   "source": []
  },
  {
   "cell_type": "markdown",
   "metadata": {},
   "source": [
    "### Covariance\n",
    "$cov(\\mathbf{x},\\mathbf{y})=\n",
    "\\frac{\\sum_{i=1}^{n}(x_i-\\bar{x})(y_i-\\bar{y})}{n}$"
   ]
  },
  {
   "cell_type": "code",
   "execution_count": 43,
   "metadata": {},
   "outputs": [
    {
     "name": "stdout",
     "output_type": "stream",
     "text": [
      "rt_fg_cover: 0.36216222555826605\n",
      "mc_fg_covar: 0.12710076937511725\n",
      "id_fg_covar: 0.14371880277725652\n"
     ]
    }
   ],
   "source": [
    "def calc_covariance(series1, series2):\n",
    "    \n",
    "    return ((series1-series1.mean())*(series2-series2.mean()))\\\n",
    "            .mean()\n",
    "\n",
    "    \n",
    "rt_fg_covar = calc_covariance(\\\n",
    "                              user_reviews['RT_user_norm'],\\\n",
    "                              user_reviews['Fandango_Ratingvalue'])\n",
    "\n",
    "mc_fg_covar = calc_covariance(\\\n",
    "                             user_reviews['Metacritic_user_nom'],\\\n",
    "                             user_reviews['Fandango_Ratingvalue'])\n",
    "\n",
    "id_fg_covar = calc_covariance(\\\n",
    "                             user_reviews['IMDB_norm'],\\\n",
    "                             user_reviews['Fandango_Ratingvalue'])\n",
    "\n",
    "print('rt_fg_cover: {}\\nmc_fg_covar: {}\\nid_fg_covar: {}'\\\n",
    "     .format(rt_fg_covar, mc_fg_covar, id_fg_covar))"
   ]
  },
  {
   "cell_type": "code",
   "execution_count": null,
   "metadata": {},
   "outputs": [],
   "source": []
  },
  {
   "cell_type": "markdown",
   "metadata": {},
   "source": [
    "### Correlation\n",
    "\n",
    "$\\frac{cov(\\mathbf{x},\\mathbf{y})}{\\sigma_{x}\\sigma_{y}}$"
   ]
  },
  {
   "cell_type": "code",
   "execution_count": 44,
   "metadata": {},
   "outputs": [],
   "source": [
    "def calc_correlation(series1, series2):\n",
    "    \n",
    "    covar = calc_covariance(series1, series2)\n",
    "    std_mult = calc_variance(series1)**(1/2)*\\\n",
    "                calc_variance(series2)**(1/2)\n",
    "        \n",
    "    return covar / std_mult"
   ]
  },
  {
   "cell_type": "code",
   "execution_count": 45,
   "metadata": {},
   "outputs": [
    {
     "name": "stdout",
     "output_type": "stream",
     "text": [
      "rt_fg_corr: 0.7243289942493147\n",
      "mc_fg_corr: 0.33694531426494845\n",
      "id_fg_corr: 0.6003541772626365\n"
     ]
    }
   ],
   "source": [
    "rt_fg_corr = calc_correlation(\\\n",
    "                             user_reviews['RT_user_norm'],\n",
    "                             user_reviews['Fandango_Ratingvalue'])\n",
    "\n",
    "mc_fg_corr = calc_correlation(\\\n",
    "                             user_reviews['Metacritic_user_nom'],\\\n",
    "                             user_reviews['Fandango_Ratingvalue'])\n",
    "\n",
    "id_fg_corr = calc_correlation(\\\n",
    "                            user_reviews['IMDB_norm'],\n",
    "                            user_reviews['Fandango_Ratingvalue'])\n",
    "\n",
    "print('rt_fg_corr: {}\\nmc_fg_corr: {}\\nid_fg_corr: {}'\\\n",
    "     .format(rt_fg_corr, mc_fg_corr, id_fg_corr))"
   ]
  },
  {
   "cell_type": "code",
   "execution_count": null,
   "metadata": {},
   "outputs": [],
   "source": []
  },
  {
   "cell_type": "markdown",
   "metadata": {},
   "source": [
    "### Summary\n",
    "\n",
    "As the scatter plots suggested, \n",
    "* Rotten Tomatoes and IMDB correlate the strongest with Fandango, with correlation values of 0.72 and 0.60 respectively. \n",
    "* Metacritic, on the other hand, only has a correlation value of 0.34 with Fandango. \n",
    "* While covariance and correlation values may seem complicated to compute and hard to reason with, their best use case is in comparing relationships like we did in this challenge.\n",
    "\n",
    "In the next mission, we'll explore the basics of linear regression, which is a powerful machine learning technique."
   ]
  },
  {
   "cell_type": "code",
   "execution_count": null,
   "metadata": {},
   "outputs": [],
   "source": []
  }
 ],
 "metadata": {
  "kernelspec": {
   "display_name": "Python 3",
   "language": "python",
   "name": "python3"
  },
  "language_info": {
   "codemirror_mode": {
    "name": "ipython",
    "version": 3
   },
   "file_extension": ".py",
   "mimetype": "text/x-python",
   "name": "python",
   "nbconvert_exporter": "python",
   "pygments_lexer": "ipython3",
   "version": "3.6.2"
  }
 },
 "nbformat": 4,
 "nbformat_minor": 2
}
