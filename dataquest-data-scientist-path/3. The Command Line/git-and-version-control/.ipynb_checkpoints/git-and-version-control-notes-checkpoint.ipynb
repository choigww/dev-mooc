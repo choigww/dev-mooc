{
 "cells": [
  {
   "cell_type": "markdown",
   "metadata": {},
   "source": [
    "# Index\n",
    "### Git and Version Control\n",
    "1. [Introduction to Git](#introduction-to-git)\n",
    "2. [Git Remotes](#git-remotes)\n",
    "3. [Git Branches](#git-branches)\n",
    "4. [Merge Conflicts](#merge-conflicts)"
   ]
  },
  {
   "cell_type": "code",
   "execution_count": null,
   "metadata": {
    "collapsed": true
   },
   "outputs": [],
   "source": []
  },
  {
   "cell_type": "markdown",
   "metadata": {},
   "source": [
    "## 1. <a name='introduction-to-git'></a>Introduction to Git\n",
    "\n",
    "Imagine that you both have the folder on your local machine. To modify files, you make changes, then upload the entire folder to a centralized location like Dropbox or Google Drive to enable collaboration. If you didn't have a distributed version control system, whoever changed the file last would overwrite the changes of the other person.<br>\n",
    "\n",
    "This approach becomes extremely frustrating and impossible to manage as you start dealing with larger and larger chunks of code. What if the folder had 100 files, you modified 10 of them, and your coworker modified 30 at the same time? You don't want to lose your changes every time your coworker uploads his version of the folder. Now, imagine that instead of just you and a coworker, it's a project with 10 or 100 contributors.<br>\n",
    "\n",
    "Companies face this problem every day, which is why distributed version control systems exist. These systems will \"merge\" changes together intelligently, enabling multiple developers to work on a project at the same time.<br>\n",
    "\n",
    "Going back to the script.py file, if we intelligently merged the two versions, the end result would look like this:\n",
    "\n",
    "```bash\n",
    "\n",
    "import math\n",
    "print(10 + 10)\n",
    "if __name__ == \"__main__\":\n",
    "    print(\"Welcome to a script!\")\n",
    "    print(\"Here's my amazing contribution to this project!\")\n",
    "\n",
    "```\n",
    "\n",
    "There are a few distributed version control systems, including [Mercurial](https://www.mercurial-scm.org/) and [Subversion](https://subversion.apache.org/). [Git](https://git-scm.com/) is by far the most popular, however.<br>\n",
    "\n",
    "Git is a command-line tool we can access by typing git in the shell. The first step in using Git is to initialize a folder as a repository. A repository (or \"repo\") tracks multiple versions of the files in the folder, enabling collaboration.<br>\n",
    "\n",
    "We can initialize a repository by typing git init inside the folder we want to use for our project.\n",
    "\n"
   ]
  },
  {
   "cell_type": "code",
   "execution_count": null,
   "metadata": {},
   "outputs": [],
   "source": []
  },
  {
   "cell_type": "code",
   "execution_count": 249,
   "metadata": {},
   "outputs": [
    {
     "data": {
      "text/plain": [
       "'/Users/choigww/.Trash/git-test-folder/chatbot'"
      ]
     },
     "execution_count": 249,
     "metadata": {},
     "output_type": "execute_result"
    }
   ],
   "source": [
    "%pwd"
   ]
  },
  {
   "cell_type": "code",
   "execution_count": 250,
   "metadata": {},
   "outputs": [
    {
     "name": "stdout",
     "output_type": "stream",
     "text": [
      "/Users/choigww\n"
     ]
    }
   ],
   "source": [
    "%cd ~"
   ]
  },
  {
   "cell_type": "code",
   "execution_count": 251,
   "metadata": {},
   "outputs": [
    {
     "name": "stdout",
     "output_type": "stream",
     "text": [
      "/Users/choigww/git-test-folder\n",
      "/Users/choigww/git-test-folder/random_numbers\n",
      "Initialized empty Git repository in /Users/choigww/git-test-folder/random_numbers/.git/\n",
      "total 0\n",
      "drwxr-xr-x   3 choigww  staff   96  2  1 22:44 \u001b[1m\u001b[36m.\u001b[m\u001b[m\n",
      "drwxr-xr-x   3 choigww  staff   96  2  1 22:44 \u001b[1m\u001b[36m..\u001b[m\u001b[m\n",
      "drwxr-xr-x  10 choigww  staff  320  2  1 22:44 \u001b[1m\u001b[36m.git\u001b[m\u001b[m\n"
     ]
    }
   ],
   "source": [
    "!mkdir git-test-folder\n",
    "%cd git-test-folder\n",
    "!mkdir random_numbers\n",
    "%cd random_numbers\n",
    "!git init\n",
    "!ls -al"
   ]
  },
  {
   "cell_type": "code",
   "execution_count": null,
   "metadata": {},
   "outputs": [],
   "source": []
  },
  {
   "cell_type": "markdown",
   "metadata": {},
   "source": [
    "### dataquest example\n",
    "```bash\n",
    "/home/dq$ mkdir random_numbers\n",
    "/home/dq$ cd random_numbers/\n",
    "/home/dq/random_numbers$ git init\n",
    "Iniitialized empty Git repository in /home/dq/random_numbers/.git/\n",
    "/home/dq/random_numbers$ ls -al\n",
    "total 12                                                          \n",
    "drwxr-xr-x 3 dq dq 4096 Nov 16 06:43 .                            \n",
    "drwxr-xr-x 1 dq dq 4096 Nov 16 06:43 ..                           \n",
    "drwxr-xr-x 7 dq dq 4096 Nov 16 06:43 .git\n",
    "/home/dq/random_numbers$ \n",
    "```"
   ]
  },
  {
   "cell_type": "code",
   "execution_count": null,
   "metadata": {
    "collapsed": true
   },
   "outputs": [],
   "source": []
  },
  {
   "cell_type": "markdown",
   "metadata": {},
   "source": [
    "### Commit?\n",
    "* storing a checkpoint (snapshot) of changes\n",
    "* These checkpoints are called `commits`.\n",
    "\n",
    "Files can have one of three states in Git:\n",
    "\n",
    "* `committed` - The current version of the file has been added to a commit, and Git has stored it.\n",
    "* `staged` - The file has been marked for inclusion in the next commit, but hasn't been committed yet (and Git hasn't stored it yet). You might stage one file before working on a second file, for example, then commit both files at the same time when you're done.\n",
    "* `modified` - The file has been modified since the last commit, but isn't staged yet.\n",
    "\n",
    "After we make changes to a Git repository, we can run the git status command to check the state of each file within it. Any files that don't show up in git status are in the committed state (i.e., don't have unsaved changes).\n"
   ]
  },
  {
   "cell_type": "code",
   "execution_count": null,
   "metadata": {},
   "outputs": [],
   "source": []
  },
  {
   "cell_type": "code",
   "execution_count": 254,
   "metadata": {},
   "outputs": [],
   "source": [
    "!touch README.md | printf \"Random number generator\" > README.md\n",
    "!touch script.py | printf 'if __name__==\"__main__\": print(\"10\")' > script.py"
   ]
  },
  {
   "cell_type": "code",
   "execution_count": 255,
   "metadata": {},
   "outputs": [
    {
     "name": "stdout",
     "output_type": "stream",
     "text": [
      "10\r\n"
     ]
    }
   ],
   "source": [
    "!python script.py"
   ]
  },
  {
   "cell_type": "code",
   "execution_count": 256,
   "metadata": {},
   "outputs": [
    {
     "name": "stdout",
     "output_type": "stream",
     "text": [
      "On branch master\r\n",
      "\r\n",
      "No commits yet\r\n",
      "\r\n",
      "Untracked files:\r\n",
      "  (use \"git add <file>...\" to include in what will be committed)\r\n",
      "\r\n",
      "\t\u001b[31mREADME.md\u001b[m\r\n",
      "\t\u001b[31mscript.py\u001b[m\r\n",
      "\r\n",
      "nothing added to commit but untracked files present (use \"git add\" to track)\r\n"
     ]
    }
   ],
   "source": [
    "!git status"
   ]
  },
  {
   "cell_type": "code",
   "execution_count": 257,
   "metadata": {},
   "outputs": [
    {
     "name": "stdout",
     "output_type": "stream",
     "text": [
      "total 16\r\n",
      "drwxr-xr-x   5 choigww  staff  160  2  1 22:45 \u001b[1m\u001b[36m.\u001b[m\u001b[m\r\n",
      "drwxr-xr-x   3 choigww  staff   96  2  1 22:44 \u001b[1m\u001b[36m..\u001b[m\u001b[m\r\n",
      "drwxr-xr-x  10 choigww  staff  320  2  1 22:45 \u001b[1m\u001b[36m.git\u001b[m\u001b[m\r\n",
      "-rw-r--r--   1 choigww  staff   23  2  1 22:45 README.md\r\n",
      "-rw-r--r--   1 choigww  staff   36  2  1 22:45 script.py\r\n"
     ]
    }
   ],
   "source": [
    "!ls -al"
   ]
  },
  {
   "cell_type": "code",
   "execution_count": 258,
   "metadata": {},
   "outputs": [],
   "source": [
    "!git add script.py"
   ]
  },
  {
   "cell_type": "code",
   "execution_count": 259,
   "metadata": {},
   "outputs": [],
   "source": [
    "!git add README.md"
   ]
  },
  {
   "cell_type": "code",
   "execution_count": 260,
   "metadata": {},
   "outputs": [
    {
     "name": "stdout",
     "output_type": "stream",
     "text": [
      "On branch master\r\n",
      "\r\n",
      "No commits yet\r\n",
      "\r\n",
      "Changes to be committed:\r\n",
      "  (use \"git rm --cached <file>...\" to unstage)\r\n",
      "\r\n",
      "\t\u001b[32mnew file:   README.md\u001b[m\r\n",
      "\t\u001b[32mnew file:   script.py\u001b[m\r\n",
      "\r\n"
     ]
    }
   ],
   "source": [
    "!git status"
   ]
  },
  {
   "cell_type": "code",
   "execution_count": null,
   "metadata": {},
   "outputs": [],
   "source": []
  },
  {
   "cell_type": "markdown",
   "metadata": {},
   "source": [
    "### dataquest example\n",
    "```bash\n",
    "/home/dq/random_numbers$ touch README.md | echo \"Random number generator\" > README.md\n",
    "/home/dq/random_numbers$ nano script.py\n",
    "\n",
    "--- script.py\n",
    "if __name__ == \"__main__\":\n",
    "    print(\"10\")\n",
    "---\n",
    "\n",
    "/home/dq/random_numbers$ git status\n",
    "On branch master                                                  \n",
    "                                                                  \n",
    "Initial commit                                                    \n",
    "                                                                  \n",
    "Untracked files:                                                  \n",
    "  (use \"git add <file>...\" to include in what will be committed)  \n",
    "                                                                  \n",
    "        README.md                                                 \n",
    "        script.py                                                 \n",
    "                                                                  \n",
    "nothing added to commit but untracked files present (use \"git add\"\n",
    " to track)\n",
    "/home/dq/random_numbers$ git add script.py\n",
    "/home/dq/random_numbers$ git add README.md\n",
    "```"
   ]
  },
  {
   "cell_type": "code",
   "execution_count": null,
   "metadata": {
    "collapsed": true
   },
   "outputs": [],
   "source": []
  },
  {
   "cell_type": "markdown",
   "metadata": {},
   "source": [
    "### Git config\n",
    "Before we can make our first commit, we need to tell Git who we are so it can store that information along with the commit. This step ensures that all of the members on a team can tell who made a certain commit.\n",
    "\n",
    "* We can do this by running `git config`. We only need to run this command once per computer, because Git will save the information.\n",
    "\n",
    "```bash\n",
    "git config --global user.email \"your.email@domain.com\"\n",
    "```\n",
    "You can configure your name with:\n",
    "```bash\n",
    "git config --global user.name \"Your name\"\n",
    "```\n",
    "Example\n",
    "```bash\n",
    "/home/dq/random_numbers$ git config --global user.email \"choi@gmai\n",
    "l.com\"                                                            \n",
    "/home/dq/random_numbers$ git config --global user.name \"choi\" \n",
    "```"
   ]
  },
  {
   "cell_type": "code",
   "execution_count": null,
   "metadata": {},
   "outputs": [],
   "source": []
  },
  {
   "cell_type": "code",
   "execution_count": 261,
   "metadata": {},
   "outputs": [],
   "source": [
    "!git config --global user.email \"choigww@gmail.com\"\n",
    "!git config --global user.name \"choigww\""
   ]
  },
  {
   "cell_type": "code",
   "execution_count": null,
   "metadata": {
    "collapsed": true
   },
   "outputs": [],
   "source": []
  },
  {
   "cell_type": "markdown",
   "metadata": {},
   "source": [
    "### Commit\n",
    "\n",
    "```bash\n",
    "git commit -m \"Commit message here\"\n",
    "```\n",
    "* The -m flag indicates that we're adding a message\n",
    "\n",
    "```bash\n",
    "/home/dq/random_numbers$ git commit -m \"Initial commit. Added scri\n",
    "pt.py and README.md\"                                              \n",
    "[master (root-commit) 5f80e59] Initial commit. Added script.py and\n",
    " README.md                                                        \n",
    " 2 files changed, 3 insertions(+)                                 \n",
    " create mode 100644 README.md                                     \n",
    " create mode 100644 script.py\n",
    "```"
   ]
  },
  {
   "cell_type": "code",
   "execution_count": null,
   "metadata": {},
   "outputs": [],
   "source": []
  },
  {
   "cell_type": "code",
   "execution_count": 262,
   "metadata": {},
   "outputs": [
    {
     "name": "stdout",
     "output_type": "stream",
     "text": [
      "[master (root-commit) 1b6e55e] git test first commit\r\n",
      " 2 files changed, 2 insertions(+)\r\n",
      " create mode 100644 README.md\r\n",
      " create mode 100644 script.py\r\n"
     ]
    }
   ],
   "source": [
    "!git commit -m \"git test first commit\""
   ]
  },
  {
   "cell_type": "code",
   "execution_count": null,
   "metadata": {
    "collapsed": true
   },
   "outputs": [],
   "source": []
  },
  {
   "cell_type": "markdown",
   "metadata": {},
   "source": [
    "### Modify & make another commit\n",
    "\n",
    "Before we place a file in the staging area, we can use `git diff` to see all of the line differences between the current and previous version. We can scroll up and down with the arrow keys, and exit `git diff` with the `q` key. If we want to see the differences after we stage a file, we can use `git diff --staged`."
   ]
  },
  {
   "cell_type": "markdown",
   "metadata": {},
   "source": [
    "[Instructions]\n",
    "script.py isn't exactly a random number generator right now.\n",
    "* Modify it so that it prints a random integer from 0 to 10. You can import and use random.randint for this.\n",
    "* Afterwards, type git diff to see how Git is tracking modifications.\n",
    "* Finally, type git status to see the status of the file you modified."
   ]
  },
  {
   "cell_type": "code",
   "execution_count": null,
   "metadata": {},
   "outputs": [],
   "source": []
  },
  {
   "cell_type": "code",
   "execution_count": 263,
   "metadata": {
    "scrolled": true
   },
   "outputs": [
    {
     "name": "stdout",
     "output_type": "stream",
     "text": [
      "total 16\r\n",
      "drwxr-xr-x   5 choigww  staff  160  2  1 22:45 \u001b[1m\u001b[36m.\u001b[m\u001b[m\r\n",
      "drwxr-xr-x   3 choigww  staff   96  2  1 22:44 \u001b[1m\u001b[36m..\u001b[m\u001b[m\r\n",
      "drwxr-xr-x  13 choigww  staff  416  2  1 22:46 \u001b[1m\u001b[36m.git\u001b[m\u001b[m\r\n",
      "-rw-r--r--   1 choigww  staff   23  2  1 22:45 README.md\r\n",
      "-rw-r--r--   1 choigww  staff   36  2  1 22:45 script.py\r\n"
     ]
    }
   ],
   "source": [
    "!ls -al"
   ]
  },
  {
   "cell_type": "code",
   "execution_count": 266,
   "metadata": {},
   "outputs": [],
   "source": [
    "!touch script.py | printf 'import random\\nif __name__==\"__main__\":\\n    print(random.randint(1, 10))' > script.py"
   ]
  },
  {
   "cell_type": "code",
   "execution_count": 270,
   "metadata": {},
   "outputs": [
    {
     "name": "stdout",
     "output_type": "stream",
     "text": [
      "1\r\n"
     ]
    }
   ],
   "source": [
    "!python script.py"
   ]
  },
  {
   "cell_type": "code",
   "execution_count": 271,
   "metadata": {},
   "outputs": [
    {
     "name": "stdout",
     "output_type": "stream",
     "text": [
      "5\r\n"
     ]
    }
   ],
   "source": [
    "!python script.py"
   ]
  },
  {
   "cell_type": "code",
   "execution_count": 272,
   "metadata": {},
   "outputs": [
    {
     "name": "stdout",
     "output_type": "stream",
     "text": [
      "\u001b[1mdiff --git a/script.py b/script.py\u001b[m\r\n",
      "\u001b[1mindex f204280..74f2d5c 100644\u001b[m\r\n",
      "\u001b[1m--- a/script.py\u001b[m\r\n",
      "\u001b[1m+++ b/script.py\u001b[m\r\n",
      "\u001b[36m@@ -1 +1,3 @@\u001b[m\r\n",
      "\u001b[31m-if __name__==\"__main__\": print(\"10\")\u001b[m\r\n",
      "\\ No newline at end of file\u001b[m\r\n",
      "\u001b[32m+\u001b[m\u001b[32mimport random\u001b[m\r\n",
      "\u001b[32m+\u001b[m\u001b[32mif __name__==\"__main__\":\u001b[m\r\n",
      "\u001b[32m+\u001b[m\u001b[32m    print(random.randint(1, 10))\u001b[m\r\n",
      "\\ No newline at end of file\u001b[m\r\n"
     ]
    }
   ],
   "source": [
    "!git diff"
   ]
  },
  {
   "cell_type": "code",
   "execution_count": 273,
   "metadata": {
    "scrolled": true
   },
   "outputs": [
    {
     "name": "stdout",
     "output_type": "stream",
     "text": [
      "On branch master\r\n",
      "Changes not staged for commit:\r\n",
      "  (use \"git add <file>...\" to update what will be committed)\r\n",
      "  (use \"git checkout -- <file>...\" to discard changes in working directory)\r\n",
      "\r\n",
      "\t\u001b[31mmodified:   script.py\u001b[m\r\n",
      "\r\n",
      "no changes added to commit (use \"git add\" and/or \"git commit -a\")\r\n"
     ]
    }
   ],
   "source": [
    "!git status"
   ]
  },
  {
   "cell_type": "code",
   "execution_count": null,
   "metadata": {},
   "outputs": [],
   "source": []
  },
  {
   "cell_type": "markdown",
   "metadata": {},
   "source": [
    "### dataquest example\n",
    "```bash\n",
    "/home/dq/random_numbers$ nano script.py\n",
    "\n",
    "--- script.py\n",
    "\n",
    "import random\n",
    "\n",
    "if __name__ == \"__main__\": \n",
    "    print(random.randint(0,10))\n",
    "\n",
    "---\n",
    "\n",
    "/home/dq/random_numbers$ git diff\n",
    "\n",
    "diff --git a/script.py b/script.py                                \n",
    "index ca99880..889eee7 100644                                     \n",
    "--- a/script.py                                                   \n",
    "+++ b/script.py                                                   \n",
    "@@ -1,2 +1,4 @@                                                   \n",
    "+import random                                                    \n",
    "+                                                                 \n",
    " if __name__ == \"__main__\":                                       \n",
    "-       print(\"10\")                                               \n",
    "+       print(random.randint(0,10)) \n",
    "\n",
    "/home/dq/random_numbers$ git status\n",
    "\n",
    "On branch master                                                  \n",
    "Changes not staged for commit:                                    \n",
    "  (use \"git add <file>...\" to update what will be committed)      \n",
    "  (use \"git checkout -- <file>...\" to discard changes in working d\n",
    "irectory)                                                         \n",
    "                                                                  \n",
    "        modified:   script.py                                     \n",
    "                                                                  \n",
    "no changes added to commit (use \"git add\" and/or \"git commit -a\") \n",
    "\n",
    "```"
   ]
  },
  {
   "cell_type": "code",
   "execution_count": null,
   "metadata": {
    "collapsed": true
   },
   "outputs": [],
   "source": []
  },
  {
   "cell_type": "markdown",
   "metadata": {},
   "source": [
    "### Add the changes to the staging area\n",
    "\n",
    "```bash\n",
    "/home/dq/random_numbers$ git add script.py\n",
    "/home/dq/random_numbers$ git commit script.py -m \"modify script.py\"\n",
    "\n",
    "[master 9b3f977] modify script.py                                 \n",
    " 1 file changed, 3 insertions(+), 1 deletion(-)  \n",
    "```\n",
    "\n",
    "* We can pull up a repository's commit history using the git log command.\n",
    "  * We can scroll through the log with the up and down arrows, and use the q key to exit.\n",
    "  \n",
    "```bash\n",
    "/home/dq/random_numbers$ git log\n",
    "\n",
    "commit 9b3f9771c4daf16d23995733efeb1b33d982eccf                   \n",
    "Author: choi <choi@gmail.com>                                     \n",
    "Date:   Thu Nov 16 07:06:19 2017 +0000                            \n",
    "                                                                  \n",
    "    modify script.py                                              \n",
    "                                                                  \n",
    "commit 5f80e5990411499332634fb05194fb389cbd72a0                   \n",
    "Author: choi <choi@gmail.com>                                     \n",
    "Date:   Thu Nov 16 06:57:36 2017 +0000                            \n",
    "                                                                  \n",
    "    Initial commit. Added script.py and README.md\n",
    "```"
   ]
  },
  {
   "cell_type": "code",
   "execution_count": null,
   "metadata": {},
   "outputs": [],
   "source": []
  },
  {
   "cell_type": "code",
   "execution_count": 274,
   "metadata": {},
   "outputs": [],
   "source": [
    "!git add script.py"
   ]
  },
  {
   "cell_type": "code",
   "execution_count": 275,
   "metadata": {},
   "outputs": [
    {
     "name": "stdout",
     "output_type": "stream",
     "text": [
      "[master ef888b2] modify script.py\r\n",
      " 1 file changed, 3 insertions(+), 1 deletion(-)\r\n"
     ]
    }
   ],
   "source": [
    "!git commit script.py -m 'modify script.py'"
   ]
  },
  {
   "cell_type": "code",
   "execution_count": 276,
   "metadata": {},
   "outputs": [
    {
     "name": "stdout",
     "output_type": "stream",
     "text": [
      "\u001b[33mcommit ef888b227f8438c6877689c0fcac04accbd9e877\u001b[m\u001b[33m (\u001b[m\u001b[1;36mHEAD -> \u001b[m\u001b[1;32mmaster\u001b[m\u001b[33m)\u001b[m\r\n",
      "Author: choigww <choigww@gmail.com>\r\n",
      "Date:   Thu Feb 1 22:47:40 2018 +0900\r\n",
      "\r\n",
      "    modify script.py\r\n",
      "\r\n",
      "\u001b[33mcommit 1b6e55ec0654eb9982be90339565f09150b75ec0\u001b[m\r\n",
      "Author: choigww <choigww@gmail.com>\r\n",
      "Date:   Thu Feb 1 22:46:02 2018 +0900\r\n",
      "\r\n",
      "    git test first commit\r\n"
     ]
    }
   ],
   "source": [
    "!git log"
   ]
  },
  {
   "cell_type": "code",
   "execution_count": null,
   "metadata": {},
   "outputs": [],
   "source": []
  },
  {
   "cell_type": "markdown",
   "metadata": {},
   "source": [
    "### We can use `git log --stat` to see **more details** about the commits in the git log output.\n",
    "\n",
    "```bash\n",
    "/home/dq/random_numbers$ git log --stat\n",
    "\n",
    "commit 9b3f9771c4daf16d23995733efeb1b33d982eccf                   \n",
    "Author: choi <choi@gmail.com>                                     \n",
    "Date:   Thu Nov 16 07:06:19 2017 +0000                            \n",
    "                                                                  \n",
    "    modify script.py                                              \n",
    "                                                                  \n",
    " script.py | 4 +++-                                               \n",
    " 1 file changed, 3 insertions(+), 1 deletion(-)                   \n",
    "                                                                  \n",
    "commit 5f80e5990411499332634fb05194fb389cbd72a0                   \n",
    "Author: choi <choi@gmail.com>                                     \n",
    "Date:   Thu Nov 16 06:57:36 2017 +0000                            \n",
    "                                                                  \n",
    "    Initial commit. Added script.py and README.md                 \n",
    "                                                                  \n",
    " README.md | 1 +                                                  \n",
    " script.py | 2 ++                                                 \n",
    " 2 files changed, 3 insertions(+) \n",
    "```\n"
   ]
  },
  {
   "cell_type": "code",
   "execution_count": null,
   "metadata": {},
   "outputs": [],
   "source": []
  },
  {
   "cell_type": "code",
   "execution_count": 277,
   "metadata": {},
   "outputs": [
    {
     "name": "stdout",
     "output_type": "stream",
     "text": [
      "\u001b[33mcommit ef888b227f8438c6877689c0fcac04accbd9e877\u001b[m\u001b[33m (\u001b[m\u001b[1;36mHEAD -> \u001b[m\u001b[1;32mmaster\u001b[m\u001b[33m)\u001b[m\r\n",
      "Author: choigww <choigww@gmail.com>\r\n",
      "Date:   Thu Feb 1 22:47:40 2018 +0900\r\n",
      "\r\n",
      "    modify script.py\r\n",
      "\r\n",
      " script.py | 4 \u001b[32m+++\u001b[m\u001b[31m-\u001b[m\r\n",
      " 1 file changed, 3 insertions(+), 1 deletion(-)\r\n",
      "\r\n",
      "\u001b[33mcommit 1b6e55ec0654eb9982be90339565f09150b75ec0\u001b[m\r\n",
      "Author: choigww <choigww@gmail.com>\r\n",
      "Date:   Thu Feb 1 22:46:02 2018 +0900\r\n",
      "\r\n",
      "    git test first commit\r\n",
      "\r\n",
      " README.md | 1 \u001b[32m+\u001b[m\r\n",
      " script.py | 1 \u001b[32m+\u001b[m\r\n",
      " 2 files changed, 2 insertions(+)\r\n"
     ]
    }
   ],
   "source": [
    "!git log --stat"
   ]
  },
  {
   "cell_type": "code",
   "execution_count": null,
   "metadata": {},
   "outputs": [],
   "source": []
  },
  {
   "cell_type": "markdown",
   "metadata": {},
   "source": [
    "## 2. <a name='git-remotes'></a>Git Remotes"
   ]
  },
  {
   "cell_type": "markdown",
   "metadata": {},
   "source": [
    "Remote repositories also enable us to access and use code we didn't write. For instance, this repo will let us download Amazon's Deep Learning tools and start training models. Because the reposistory is public, anyone can download and use it. Repositories on GitHub can also be private, in which case they're hidden, and not accessible to others.<br>\n",
    "\n",
    "To download a remote repository to your own computer, you'll need to clone it. cloning copies a repository from one location (in this case, a remote one) to a folder on your computer. The repository retains all of its Git history, and you can work with it just like you would with a Git repository you created yourself.\n",
    "\n",
    "* Here's how we'd typically clone the Amazon Deep Learning repo from GitHub:\n",
    "\n",
    "```bash\n",
    "git clone https://github.com/amznlabs/amazon-dsstne.git\n",
    "````\n",
    "\n",
    "However, because we're working with a simplified remote repository for the purposes of this mission, we'll clone it a bit differently:\n",
    "\n",
    "```bash\n",
    "git clone /dataquest/user/git/chatbot\n",
    "```\n",
    "This will clone the repository from /dataquest/user/git/chatbot, a path on our local computer, to our current folder, and place it in a subfolder named chatbot."
   ]
  },
  {
   "cell_type": "markdown",
   "metadata": {},
   "source": [
    "If we specify a second argument to git clone, we can change the folder the repository saves to:\n",
    "\n",
    "```bash\n",
    "git clone /dataquest/user/git/chatbot silentbot\n",
    "```\n",
    "This command will place the chatbot repository in a folder called **silentbot**."
   ]
  },
  {
   "cell_type": "code",
   "execution_count": null,
   "metadata": {},
   "outputs": [],
   "source": []
  },
  {
   "cell_type": "code",
   "execution_count": null,
   "metadata": {},
   "outputs": [],
   "source": []
  },
  {
   "cell_type": "markdown",
   "metadata": {},
   "source": [
    "### choigww's note!\n",
    "* Since this repository was not downloadable in any way, I manually created the same repository folder with the same contents introduced in the course.\n",
    "  * So the notebook codes further will start with `git clone` just like the dataquest course does.\n",
    "* To set the remote address, I created a temporary repository named as `chatbot`, however after this notebook practice is done, the repository will be deleted right away."
   ]
  },
  {
   "cell_type": "code",
   "execution_count": null,
   "metadata": {},
   "outputs": [],
   "source": []
  },
  {
   "cell_type": "code",
   "execution_count": null,
   "metadata": {},
   "outputs": [],
   "source": []
  },
  {
   "cell_type": "markdown",
   "metadata": {},
   "source": [
    "Now that we've cloned a repository, we can makes changes to it, just like we did in the last mission. We'll be able to edit files, add them to the staging area, and then commit the changes. **The local version of the repo will then reflect the changes, but the remote version won't.**"
   ]
  },
  {
   "cell_type": "markdown",
   "metadata": {},
   "source": [
    "[Remote] --- git clone ---> [Local] -- git commit ---> [Local]"
   ]
  },
  {
   "cell_type": "code",
   "execution_count": null,
   "metadata": {},
   "outputs": [],
   "source": []
  },
  {
   "cell_type": "markdown",
   "metadata": {},
   "source": [
    "* cd into the /home/dq/chatbot folder to navigate to the chatbot repo.\n",
    "* Add the line This project needs no installation to the bottom of README.md.\n",
    "* Add your changes to the staging area using git add.\n",
    "* Commit your changes using git commit, with the commit message Updated README.md.\n",
    "* Run git status to see the status of the repo."
   ]
  },
  {
   "cell_type": "code",
   "execution_count": 93,
   "metadata": {},
   "outputs": [
    {
     "name": "stdout",
     "output_type": "stream",
     "text": [
      "/Users/choigww\n"
     ]
    }
   ],
   "source": [
    "%cd ~"
   ]
  },
  {
   "cell_type": "code",
   "execution_count": 94,
   "metadata": {},
   "outputs": [
    {
     "name": "stdout",
     "output_type": "stream",
     "text": [
      "/Users/choigww/git-test-folder\n"
     ]
    }
   ],
   "source": [
    "%cd git-test-folder/"
   ]
  },
  {
   "cell_type": "code",
   "execution_count": 95,
   "metadata": {},
   "outputs": [
    {
     "name": "stdout",
     "output_type": "stream",
     "text": [
      "Cloning into 'chatbot'...\n",
      "remote: Counting objects: 6, done.\u001b[K\n",
      "remote: Compressing objects: 100% (3/3), done.\u001b[K\n",
      "remote: Total 6 (delta 1), reused 6 (delta 1), pack-reused 0\u001b[K\n",
      "Unpacking objects: 100% (6/6), done.\n"
     ]
    }
   ],
   "source": [
    "!git clone https://github.com/choigww/chatbot.git"
   ]
  },
  {
   "cell_type": "code",
   "execution_count": 96,
   "metadata": {},
   "outputs": [
    {
     "name": "stdout",
     "output_type": "stream",
     "text": [
      "/Users/choigww/git-test-folder/chatbot\n"
     ]
    }
   ],
   "source": [
    "%cd chatbot"
   ]
  },
  {
   "cell_type": "code",
   "execution_count": 97,
   "metadata": {},
   "outputs": [
    {
     "name": "stdout",
     "output_type": "stream",
     "text": [
      "[master f428325] Updated README.md\r\n",
      " 1 file changed, 1 insertion(+)\r\n"
     ]
    }
   ],
   "source": [
    "!echo \"This project needs no installation\" >> README.md\n",
    "!git add README.md\n",
    "!git commit README.md -m 'Updated README.md'"
   ]
  },
  {
   "cell_type": "code",
   "execution_count": null,
   "metadata": {},
   "outputs": [],
   "source": []
  },
  {
   "cell_type": "markdown",
   "metadata": {},
   "source": [
    "```bash\n",
    "/home/dq$ cd chatbot/                                             \n",
    "/home/dq/chatbot$ ls -al                                          \n",
    "total 16                                                          \n",
    "drwxr-xr-x 3 dq dq 4096 Nov 16 07:21 .                            \n",
    "drwxr-xr-x 1 dq dq 4096 Nov 16 07:21 ..                           \n",
    "drwxr-xr-x 8 dq dq 4096 Nov 16 07:21 .git                         \n",
    "-rwxr-xr-x 1 dq dq  182 Nov 16 07:21 README.md                    \n",
    "/home/dq/chatbot$ echo \"This project needs no installation\" >> REA\n",
    "DME.md                                                            \n",
    "/home/dq/chatbot$ git commit README.md -m \"Updated README.md\"     \n",
    "[master 4cfc851] Updated README.md                                \n",
    " 1 file changed, 1 insertion(+), 1 deletion(-)                    \n",
    "/home/dq/chatbot$ git status                                      \n",
    "On branch master                                                  \n",
    "Your branch is ahead of 'origin/master' by 1 commit.              \n",
    "  (use \"git push\" to publish your local commits)                  \n",
    "                                                                  \n",
    "nothing to commit, working directory clean  \n",
    "```"
   ]
  },
  {
   "cell_type": "code",
   "execution_count": null,
   "metadata": {},
   "outputs": [],
   "source": []
  },
  {
   "cell_type": "markdown",
   "metadata": {},
   "source": [
    "#### Branches"
   ]
  },
  {
   "cell_type": "markdown",
   "metadata": {},
   "source": [
    "```bash\n",
    "/home/dq/chatbot$ git branch\n",
    "* master\n",
    "```\n",
    "\n",
    "Once we've made changes to the local version of a repo, we can push those changes to the remote repo so that everyone can see them. Edits we make locally are only reflected in our local repo. Unless we push them to the remote, the remote repo doesn't change.\n",
    "\n",
    "* To do this, we'll need to use the git push command, which **pushes commits from our local repo to the remote repo**. Here's a diagram showing what happens when we run git push:"
   ]
  },
  {
   "cell_type": "markdown",
   "metadata": {},
   "source": [
    "**[Remote]** --clone--> **[Local]** --commit--> **[Local]** --push--> **[Remote]**\n",
    "\n",
    "```bash\n",
    "/home/dq/chatbot$ git push origin master\n",
    "Counting objects: 5, done.                                          \n",
    "Delta compression using up to 16 threads.                           \n",
    "Compressing objects: 100% (2/2), done.                              \n",
    "Writing objects: 100% (3/3), 306 bytes | 0 bytes/s, done.           \n",
    "Total 3 (delta 1), reused 0 (delta 0)                               \n",
    "To /dataquest/user/git/chatbot                                      \n",
    "   f1bfcdf..4cfc851  master -> master   \n",
    "```"
   ]
  },
  {
   "cell_type": "code",
   "execution_count": null,
   "metadata": {},
   "outputs": [],
   "source": []
  },
  {
   "cell_type": "code",
   "execution_count": 98,
   "metadata": {
    "scrolled": true
   },
   "outputs": [
    {
     "name": "stdout",
     "output_type": "stream",
     "text": [
      "Counting objects: 3, done.\n",
      "Delta compression using up to 4 threads.\n",
      "Compressing objects: 100% (2/2), done.\n",
      "Writing objects: 100% (3/3), 307 bytes | 307.00 KiB/s, done.\n",
      "Total 3 (delta 1), reused 0 (delta 0)\n",
      "remote: Resolving deltas: 100% (1/1), completed with 1 local object.\u001b[K\n",
      "To https://github.com/choigww/chatbot.git\n",
      "   663f301..f428325  master -> master\n"
     ]
    }
   ],
   "source": [
    "!git push origin master"
   ]
  },
  {
   "cell_type": "code",
   "execution_count": 99,
   "metadata": {},
   "outputs": [
    {
     "name": "stdout",
     "output_type": "stream",
     "text": [
      "On branch master\r\n",
      "Your branch is up-to-date with 'origin/master'.\r\n",
      "\r\n",
      "nothing to commit, working tree clean\r\n"
     ]
    }
   ],
   "source": [
    "!git status"
   ]
  },
  {
   "cell_type": "code",
   "execution_count": 100,
   "metadata": {},
   "outputs": [
    {
     "name": "stdout",
     "output_type": "stream",
     "text": [
      "* \u001b[32mmaster\u001b[m\r\n"
     ]
    }
   ],
   "source": [
    "!git branch"
   ]
  },
  {
   "cell_type": "code",
   "execution_count": null,
   "metadata": {},
   "outputs": [],
   "source": []
  },
  {
   "cell_type": "markdown",
   "metadata": {},
   "source": [
    "#### Viewing Individual Commits\n",
    "\n",
    "You can see the full commit history of the master branch of the local chatbot repo with `git log`. Here's the output you might get from `git log`:\n",
    "\n",
    "```bash\n",
    "commit 6a95e94ea10caa28013b767510d4bc59369d83fa                                 \n",
    "Author: Dataquest <me@dataquest.io>                                             \n",
    "Date:   Wed May 18 21:56:27 2016 +0000                                          \n",
    "\n",
    "    Updated README.md                                                           \n",
    "\n",
    "commit 8a1ca35dd5c5de8f93aa6cbbd153caa40233386c                                 \n",
    "Author: Dataquest <me@dataquest.io>                                             \n",
    "Date:   Wed May 18 21:55:33 2016 +0000                                          \n",
    "\n",
    "    Add the initial version of README.md    \n",
    "</me@dataquest.io></me@dataquest.io>\n",
    "```"
   ]
  },
  {
   "cell_type": "code",
   "execution_count": null,
   "metadata": {},
   "outputs": [],
   "source": []
  },
  {
   "cell_type": "code",
   "execution_count": 101,
   "metadata": {},
   "outputs": [
    {
     "name": "stdout",
     "output_type": "stream",
     "text": [
      "\u001b[33mcommit f4283251347c0e1e0a8bf4a2a9260d0ab44af2a0\u001b[m\u001b[33m (\u001b[m\u001b[1;36mHEAD -> \u001b[m\u001b[1;32mmaster\u001b[m\u001b[33m, \u001b[m\u001b[1;31morigin/master\u001b[m\u001b[33m, \u001b[m\u001b[1;31morigin/HEAD\u001b[m\u001b[33m)\u001b[m\r\n",
      "Author: choigww <choigww@gmail.com>\r\n",
      "Date:   Thu Feb 1 20:26:49 2018 +0900\r\n",
      "\r\n",
      "    Updated README.md\r\n",
      "\r\n",
      "\u001b[33mcommit 663f301bf3f797b7fdbfd70ffc76b2e0f952f63a\u001b[m\r\n",
      "Author: choigww <choigww@gmail.com>\r\n",
      "Date:   Thu Feb 1 20:23:20 2018 +0900\r\n",
      "\r\n",
      "    back to original version\r\n",
      "\r\n",
      "\u001b[33mcommit 71c099fac4a9d747f9d69d917b09ee0d3652f254\u001b[m\r\n",
      "Author: choigww <choichoi@choi.com>\r\n",
      "Date:   Thu Feb 1 20:09:09 2018 +0900\r\n",
      "\r\n",
      "    Updated README.md\r\n"
     ]
    }
   ],
   "source": [
    "!git log"
   ]
  },
  {
   "cell_type": "code",
   "execution_count": 102,
   "metadata": {
    "scrolled": true
   },
   "outputs": [
    {
     "name": "stdout",
     "output_type": "stream",
     "text": [
      "\u001b[33mcommit f4283251347c0e1e0a8bf4a2a9260d0ab44af2a0\u001b[m\u001b[33m (\u001b[m\u001b[1;36mHEAD -> \u001b[m\u001b[1;32mmaster\u001b[m\u001b[33m, \u001b[m\u001b[1;31morigin/master\u001b[m\u001b[33m, \u001b[m\u001b[1;31morigin/HEAD\u001b[m\u001b[33m)\u001b[m\r\n",
      "Author: choigww <choigww@gmail.com>\r\n",
      "Date:   Thu Feb 1 20:26:49 2018 +0900\r\n",
      "\r\n",
      "    Updated README.md\r\n",
      "\r\n",
      "\u001b[1mdiff --git a/README.md b/README.md\u001b[m\r\n",
      "\u001b[1mindex 2c32b57..497163b 100644\u001b[m\r\n",
      "\u001b[1m--- a/README.md\u001b[m\r\n",
      "\u001b[1m+++ b/README.md\u001b[m\r\n",
      "\u001b[36m@@ -3,3 +3,4 @@\u001b[m \u001b[mREADME\u001b[m\r\n",
      " This is a README file.  It's typical for Github projects to have a \u001b[m\r\n",
      " README.  A README gives information about what the project is about\u001b[m\r\n",
      " , and usually how to install and use it.\u001b[m\r\n",
      "\u001b[32m+\u001b[m\u001b[32mThis project needs no installation\u001b[m\r\n"
     ]
    }
   ],
   "source": [
    "!git show"
   ]
  },
  {
   "cell_type": "code",
   "execution_count": null,
   "metadata": {
    "collapsed": true
   },
   "outputs": [],
   "source": []
  },
  {
   "cell_type": "markdown",
   "metadata": {},
   "source": [
    "The great thing about Git is that \n",
    "### it stores both commits, so we can quickly revert back to a previous commit if we want to.\n",
    "\n",
    "To do this, we'd need to use the commit's hash, or unique identifier. Hashes allow us to perform operations like revert to a specific commit. We can find **the hash for a commit** in the output from `git log`. In the output we generated above, the first commit has the ID `8a1ca35dd5c5de8f93aa6cbbd153caa40233386c`, and the second commit has the ID `6a95e94ea10caa28013b767510d4bc59369d83fa`."
   ]
  },
  {
   "cell_type": "code",
   "execution_count": null,
   "metadata": {
    "collapsed": true
   },
   "outputs": [],
   "source": []
  },
  {
   "cell_type": "code",
   "execution_count": 103,
   "metadata": {},
   "outputs": [
    {
     "name": "stdout",
     "output_type": "stream",
     "text": [
      "\u001b[33mcommit 663f301bf3f797b7fdbfd70ffc76b2e0f952f63a\u001b[m\r\n",
      "Author: choigww <choigww@gmail.com>\r\n",
      "Date:   Thu Feb 1 20:23:20 2018 +0900\r\n",
      "\r\n",
      "    back to original version\r\n",
      "\r\n",
      "\u001b[1mdiff --git a/README.md b/README.md\u001b[m\r\n",
      "\u001b[1mindex 497163b..2c32b57 100644\u001b[m\r\n",
      "\u001b[1m--- a/README.md\u001b[m\r\n",
      "\u001b[1m+++ b/README.md\u001b[m\r\n",
      "\u001b[36m@@ -3,4 +3,3 @@\u001b[m \u001b[mREADME\u001b[m\r\n",
      " This is a README file.  It's typical for Github projects to have a \u001b[m\r\n",
      " README.  A README gives information about what the project is about\u001b[m\r\n",
      " , and usually how to install and use it.\u001b[m\r\n",
      "\u001b[31m-This project needs no installation\u001b[m\r\n"
     ]
    }
   ],
   "source": [
    "!git show 663f301bf3f797b7fdbfd70ffc76b2e0f952f63a"
   ]
  },
  {
   "cell_type": "code",
   "execution_count": 106,
   "metadata": {},
   "outputs": [
    {
     "name": "stdout",
     "output_type": "stream",
     "text": [
      "\u001b[33mcommit f4283251347c0e1e0a8bf4a2a9260d0ab44af2a0\u001b[m\u001b[33m (\u001b[m\u001b[1;36mHEAD -> \u001b[m\u001b[1;32mmaster\u001b[m\u001b[33m, \u001b[m\u001b[1;31morigin/master\u001b[m\u001b[33m, \u001b[m\u001b[1;31morigin/HEAD\u001b[m\u001b[33m)\u001b[m\r\n",
      "Author: choigww <choigww@gmail.com>\r\n",
      "Date:   Thu Feb 1 20:26:49 2018 +0900\r\n",
      "\r\n",
      "    Updated README.md\r\n",
      "\r\n",
      "\u001b[1mdiff --git a/README.md b/README.md\u001b[m\r\n",
      "\u001b[1mindex 2c32b57..497163b 100644\u001b[m\r\n",
      "\u001b[1m--- a/README.md\u001b[m\r\n",
      "\u001b[1m+++ b/README.md\u001b[m\r\n",
      "\u001b[36m@@ -3,3 +3,4 @@\u001b[m \u001b[mREADME\u001b[m\r\n",
      " This is a README file.  It's typical for Github projects to have a \u001b[m\r\n",
      " README.  A README gives information about what the project is about\u001b[m\r\n",
      " , and usually how to install and use it.\u001b[m\r\n",
      "\u001b[32m+\u001b[m\u001b[32mThis project needs no installation\u001b[m\r\n"
     ]
    }
   ],
   "source": [
    "!git show f4283251347c0e1e0a8bf4a2a9260d0ab44af2a0"
   ]
  },
  {
   "cell_type": "code",
   "execution_count": null,
   "metadata": {},
   "outputs": [],
   "source": []
  },
  {
   "cell_type": "markdown",
   "metadata": {},
   "source": [
    "We can use the `git show` command with a hash to see what changed in a specific commit. For example, running `git show 6a95e94ea10caa28013b767510d4bc59369d83fa` would return:\n",
    "\n",
    "```bash\n",
    "commit 6a95e94ea10caa28013b767510d4bc59369d83fa                                 \n",
    "Author: Dataquest <me@dataquest.io>                                             \n",
    "Date:   Wed May 18 21:56:27 2016 +0000                                          \n",
    "\n",
    "    Updated README.md                                                           \n",
    "\n",
    "diff --git a/README.md b/README.md                                              \n",
    "index f4871de..9c05964 100644                                                   \n",
    "--- a/README.md                                                                 \n",
    "+++ b/README.md                                                                 \n",
    "@@ -1,3 +1,3 @@                                                                 \n",
    " README\n",
    "\n",
    "-This is a README file.  It's typical for GitHub projects to have a README.  A README gives information about what the project is about, and usually how to install and use it.\n",
    "\\ No newline at end of file                                                     \n",
    "+This is a README file.  It's typical for GitHub projects to have a README.  A README gives information about what the project is about, and usually how to install and use it.This project needs no installation!\n",
    "</me@dataquest.io>\n",
    "```"
   ]
  },
  {
   "cell_type": "code",
   "execution_count": null,
   "metadata": {},
   "outputs": [],
   "source": []
  },
  {
   "cell_type": "markdown",
   "metadata": {},
   "source": [
    "This output indicates that someone changed the `README.md` file in this commit, and added the line `This project needs no installation!`. `a/README.md` is the file state before the commit, and `b/README.md` is the file state after the commit.\n",
    "\n",
    "`git show` will allow us to scroll up and down and side to side. We can exit by typing `q`."
   ]
  },
  {
   "cell_type": "code",
   "execution_count": null,
   "metadata": {},
   "outputs": [],
   "source": []
  },
  {
   "cell_type": "markdown",
   "metadata": {},
   "source": [
    "### Now that we know about commit hashes, we can use them to switch to a specific commit. \n",
    "Switching between commits allows us to quickly move between different historical versions of a project. \n",
    "\n",
    "### If we introduce a change that causes issues and want to revert to an earlier version, for example, switching between commits will let us do so.\n",
    "\n",
    "**Commit hashes are permanent;** Git preserves them and includes them **in transfers between the local repo and the remote repo**. For instance, let's say we have two commits, c12 and c53. The following diagram shows what happens to them as we clone, commit, and push."
   ]
  },
  {
   "cell_type": "markdown",
   "metadata": {},
   "source": [
    "**Remote(c12)** --clone--> **Local(c12)** --commit--> **Local(c53)** --push-> **Remote(c53)**"
   ]
  },
  {
   "cell_type": "code",
   "execution_count": null,
   "metadata": {},
   "outputs": [],
   "source": []
  },
  {
   "cell_type": "markdown",
   "metadata": {},
   "source": [
    "c12 originally existed on the remote, but when we pulled it locally, the commit kept the same hash. This is because the commit is the same in the remote and our local repo -- the same changes were made to the same files."
   ]
  },
  {
   "cell_type": "markdown",
   "metadata": {},
   "source": [
    "When we changed a file and made a commit locally, Git gave it the hash c53. When we pushed this commit to the remote later on, it kept the same hash because it was still the same commit. In the diagram above, both the local repo and the remote repo have two commits, c12 and c53. \n",
    "* We can switch between commits in the local repo without changing what commits are in the remote repo. We can do this with the git reset command:"
   ]
  },
  {
   "cell_type": "markdown",
   "metadata": {},
   "source": [
    "* **Local(c12)** --`git commit`--> **Local(c53)**\n",
    "\n",
    "* **Local(c53)** --`git reset --hard c12`--> **Local(12)**"
   ]
  },
  {
   "cell_type": "markdown",
   "metadata": {},
   "source": [
    "The `--hard` flag resets both the working directory and the Git history to a specific state. \n",
    "* If we omitted the flag, or used the `--soft` flag instead, it would **skip making changes to the working directory, and only reset the Git history.**"
   ]
  },
  {
   "cell_type": "code",
   "execution_count": null,
   "metadata": {},
   "outputs": [],
   "source": []
  },
  {
   "cell_type": "code",
   "execution_count": 107,
   "metadata": {},
   "outputs": [
    {
     "name": "stdout",
     "output_type": "stream",
     "text": [
      "\u001b[33mcommit f4283251347c0e1e0a8bf4a2a9260d0ab44af2a0\u001b[m\u001b[33m (\u001b[m\u001b[1;36mHEAD -> \u001b[m\u001b[1;32mmaster\u001b[m\u001b[33m, \u001b[m\u001b[1;31morigin/master\u001b[m\u001b[33m, \u001b[m\u001b[1;31morigin/HEAD\u001b[m\u001b[33m)\u001b[m\r\n",
      "Author: choigww <choigww@gmail.com>\r\n",
      "Date:   Thu Feb 1 20:26:49 2018 +0900\r\n",
      "\r\n",
      "    Updated README.md\r\n",
      "\r\n",
      "\u001b[33mcommit 663f301bf3f797b7fdbfd70ffc76b2e0f952f63a\u001b[m\r\n",
      "Author: choigww <choigww@gmail.com>\r\n",
      "Date:   Thu Feb 1 20:23:20 2018 +0900\r\n",
      "\r\n",
      "    back to original version\r\n",
      "\r\n",
      "\u001b[33mcommit 71c099fac4a9d747f9d69d917b09ee0d3652f254\u001b[m\r\n",
      "Author: choigww <choichoi@choi.com>\r\n",
      "Date:   Thu Feb 1 20:09:09 2018 +0900\r\n",
      "\r\n",
      "    Updated README.md\r\n"
     ]
    }
   ],
   "source": [
    "!git log"
   ]
  },
  {
   "cell_type": "code",
   "execution_count": 108,
   "metadata": {},
   "outputs": [
    {
     "name": "stdout",
     "output_type": "stream",
     "text": [
      "HEAD is now at 663f301 back to original version\r\n"
     ]
    }
   ],
   "source": [
    "!git reset --hard 663f301bf3f797b7fdbfd70ffc76b2e0f952f63a"
   ]
  },
  {
   "cell_type": "code",
   "execution_count": null,
   "metadata": {},
   "outputs": [],
   "source": []
  },
  {
   "cell_type": "markdown",
   "metadata": {},
   "source": [
    "```bash\n",
    "/home/dq/chatbot$ git log                                                    \n",
    "commit 62b6226547b9f3280c572e28db55012b342f661d                              \n",
    "Author: Dataquest <me@dataquest.io>                                          \n",
    "Date:   Thu Nov 16 08:31:12 2017 +0000                                       \n",
    "                                                                             \n",
    "    Updated README.md                                                        \n",
    "                                                                             \n",
    "commit ac26d53c8ab859d8dd4f39df0eb5080245372513                              \n",
    "Author: Dataquest <me@dataquest.io>                                          \n",
    "Date:   Thu Nov 16 08:31:11 2017 +0000                                       \n",
    "                                                                             \n",
    "    Add the initial version of README.md                                     \n",
    "/home/dq/chatbot$ git reset --hard ac26d53c8ab859d8dd4f39df0eb5080245372513  \n",
    "HEAD is now at ac26d53 Add the initial version of README.md  \n",
    "```"
   ]
  },
  {
   "cell_type": "code",
   "execution_count": null,
   "metadata": {},
   "outputs": [],
   "source": []
  },
  {
   "cell_type": "markdown",
   "metadata": {},
   "source": [
    "Now that we've reverted our local chatbot repo to an older version, the remote repo actually has a newer commit that our local repo doesn't have."
   ]
  },
  {
   "cell_type": "markdown",
   "metadata": {},
   "source": [
    "which commits exist in which locations:\n",
    "* Remote(c12) **current state**\n",
    "    * Remote(c53) **latest commit**\n",
    "* Local(c12) **current state**"
   ]
  },
  {
   "cell_type": "code",
   "execution_count": null,
   "metadata": {},
   "outputs": [],
   "source": []
  },
  {
   "cell_type": "markdown",
   "metadata": {},
   "source": [
    "### When the latest commit in our local repo is older than the latest commit in the remote repo, \n",
    "we can use `git pull` to update the current branch with the latest commits. The git pull command will also update our working directory so that it has the same files as the latest commit.\n",
    "\n",
    "* In our case, we'll be updating the master branch, because the chatbot repo only has a single branch."
   ]
  },
  {
   "cell_type": "markdown",
   "metadata": {},
   "source": [
    "```bash\n",
    "/home/dq/chatbot$ git pull                                             \n",
    "Updating ac26d53c8ab859d8dd4f39df0eb5080245372513\n",
    "Fast-forward                                                           \n",
    "README.md | 2 +-                                                      \n",
    " 1 file changed, 1 insertion(+), 1 deletion(-) \n",
    "```"
   ]
  },
  {
   "cell_type": "code",
   "execution_count": null,
   "metadata": {},
   "outputs": [],
   "source": []
  },
  {
   "cell_type": "code",
   "execution_count": 109,
   "metadata": {},
   "outputs": [
    {
     "name": "stdout",
     "output_type": "stream",
     "text": [
      "Updating 663f301..f428325\r\n",
      "Fast-forward\r\n",
      " README.md | 1 \u001b[32m+\u001b[m\r\n",
      " 1 file changed, 1 insertion(+)\r\n"
     ]
    }
   ],
   "source": [
    "!git pull"
   ]
  },
  {
   "cell_type": "code",
   "execution_count": null,
   "metadata": {},
   "outputs": [],
   "source": []
  },
  {
   "cell_type": "markdown",
   "metadata": {},
   "source": [
    "When using Git, we'll often want to refer to the most recent commit. While we can use the full commit hash, that approach can be cumbersome. \n",
    "### Fortunately, Git has a special variable called `HEAD` that always refers to the most recent commit in the current branch.\n",
    "**We can use the `HEAD` variable to switch to the most recent commit more easily**. Let's say we modify a file and then want to undo our changes; using `HEAD` will revert the working directory to the state of the most recent commit.\n",
    "* We can also use shortcuts to get older commit hashes. \n",
    "  * `HEAD~1` will get the second newest commit in the local repo, \n",
    "  * `HEAD~2` will get the third newest commit, and so on. \n",
    "  \n",
    "Here's a diagram of a local repo where 646 is the newest hash on the master branch, and c12 is the oldest:\n",
    "\n",
    "Local Commit Hash | HEAD Reference\n",
    ":---:|:---:\n",
    "c12|HEAD~4\n",
    "c53|HEAD~3\n",
    "d24|HEAD~2\n",
    "t35|HEAD~1\n",
    "646|HEAD\n",
    "\n",
    "We can use [git rev-parse](https://git-scm.com/docs/git-rev-parse) along with the `HEAD` variable **to find the commit hash corresponding to a particular commit number**. In the diagram above, `git rev-parse HEAD` will return `646`, and `git rev-parse HEAD~3` will return `c53`."
   ]
  },
  {
   "cell_type": "code",
   "execution_count": null,
   "metadata": {},
   "outputs": [],
   "source": []
  },
  {
   "cell_type": "code",
   "execution_count": 111,
   "metadata": {},
   "outputs": [
    {
     "name": "stdout",
     "output_type": "stream",
     "text": [
      "663f301bf3f797b7fdbfd70ffc76b2e0f952f63a\r\n"
     ]
    }
   ],
   "source": [
    "!git rev-parse HEAD~1"
   ]
  },
  {
   "cell_type": "code",
   "execution_count": 112,
   "metadata": {},
   "outputs": [
    {
     "name": "stdout",
     "output_type": "stream",
     "text": [
      "71c099fac4a9d747f9d69d917b09ee0d3652f254\r\n"
     ]
    }
   ],
   "source": [
    "!git rev-parse HEAD~2"
   ]
  },
  {
   "cell_type": "code",
   "execution_count": null,
   "metadata": {},
   "outputs": [],
   "source": []
  },
  {
   "cell_type": "markdown",
   "metadata": {},
   "source": [
    "```bash\n",
    "/home/dq/chatbot$ git rev-parse HEAD~1                                 \n",
    "ac26d53c8ab859d8dd4f39df0eb5080245372513                               \n",
    "/home/dq/chatbot$ git rev-parse HEAD~2                                 \n",
    "HEAD~2                                                                 \n",
    "fatal: ambiguous argument 'HEAD~2': unknown revision or path not in the\n",
    " working tree.                                                         \n",
    "Use '--' to separate paths from revisions, like this:                  \n",
    "'git <command> [<revision>...] -- [<file>...]'                         \n",
    "/home/dq/chatbot$ git reset HEAD~1                                     \n",
    "Unstaged changes after reset:                                          \n",
    "M       README.md  \n",
    "```"
   ]
  },
  {
   "cell_type": "code",
   "execution_count": null,
   "metadata": {},
   "outputs": [],
   "source": []
  },
  {
   "cell_type": "markdown",
   "metadata": {},
   "source": [
    "## 3. <a name='git-branches'></a>Git Branches"
   ]
  },
  {
   "cell_type": "markdown",
   "metadata": {},
   "source": [
    "### choigww's note again!\n",
    "* For this course on git branches, I re-used the `chatbot` repository manually again.\n",
    "* Works to make the course environment includes:\n",
    "  * create/modify some files\n",
    "  * push the modified contents to the previous `chatbot` repo\n",
    "  * delete the local repo in the chatbot folder\n",
    "  * re-clone the remote `chatbot` repo just changed for this course."
   ]
  },
  {
   "cell_type": "code",
   "execution_count": null,
   "metadata": {},
   "outputs": [],
   "source": []
  },
  {
   "cell_type": "code",
   "execution_count": 113,
   "metadata": {},
   "outputs": [
    {
     "data": {
      "text/plain": [
       "'/Users/choigww/git-test-folder/chatbot'"
      ]
     },
     "execution_count": 113,
     "metadata": {},
     "output_type": "execute_result"
    }
   ],
   "source": [
    "%pwd"
   ]
  },
  {
   "cell_type": "markdown",
   "metadata": {},
   "source": [
    "--- made some modification on local `chatbot` repo ---"
   ]
  },
  {
   "cell_type": "code",
   "execution_count": 116,
   "metadata": {},
   "outputs": [
    {
     "name": "stdout",
     "output_type": "stream",
     "text": [
      "[master 53f5a99] update chatbot repo for following course\n",
      " 2 files changed, 15 insertions(+), 6 deletions(-)\n",
      " rewrite README.md (100%)\n",
      " create mode 100644 bot.py\n",
      "Counting objects: 4, done.\n",
      "Delta compression using up to 4 threads.\n",
      "Compressing objects: 100% (4/4), done.\n",
      "Writing objects: 100% (4/4), 537 bytes | 537.00 KiB/s, done.\n",
      "Total 4 (delta 0), reused 0 (delta 0)\n",
      "To https://github.com/choigww/chatbot.git\n",
      "   f428325..53f5a99  master -> master\n"
     ]
    }
   ],
   "source": [
    "!git add .\n",
    "!git commit -m 'update chatbot repo for following course'\n",
    "!git push origin master"
   ]
  },
  {
   "cell_type": "markdown",
   "metadata": {},
   "source": [
    "--- delete the local repo and clone the remote repo again ---"
   ]
  },
  {
   "cell_type": "code",
   "execution_count": 117,
   "metadata": {},
   "outputs": [
    {
     "name": "stdout",
     "output_type": "stream",
     "text": [
      "/Users/choigww/git-test-folder\n"
     ]
    }
   ],
   "source": [
    "%cd .."
   ]
  },
  {
   "cell_type": "code",
   "execution_count": 118,
   "metadata": {},
   "outputs": [
    {
     "name": "stdout",
     "output_type": "stream",
     "text": [
      "Cloning into 'chatbot'...\n",
      "remote: Counting objects: 11, done.\u001b[K\n",
      "remote: Compressing objects: 100% (8/8), done.\u001b[K\n",
      "remote: Total 11 (delta 1), reused 11 (delta 1), pack-reused 0\u001b[K\n",
      "Unpacking objects: 100% (11/11), done.\n"
     ]
    }
   ],
   "source": [
    "!rm -rf chatbot\n",
    "!git clone https://github.com/choigww/chatbot.git"
   ]
  },
  {
   "cell_type": "code",
   "execution_count": null,
   "metadata": {},
   "outputs": [],
   "source": []
  },
  {
   "cell_type": "markdown",
   "metadata": {},
   "source": [
    "### Introduction to Git Branches"
   ]
  },
  {
   "cell_type": "markdown",
   "metadata": {},
   "source": [
    "As you may recall from the last mission, it's very common for large teams to use Git. That's because Git enables smooth collaboration between many programmers who are all making changes to a repo at the same time.\n",
    "\n",
    "* Even so, this type of situation makes it difficult for everyone to work off of the master branch. To understand why, let's imagine that we start out with two files, bot.py and README.md:"
   ]
  },
  {
   "cell_type": "markdown",
   "metadata": {},
   "source": [
    "![1](img/1.png)"
   ]
  },
  {
   "cell_type": "markdown",
   "metadata": {},
   "source": [
    "Let's say we have three people working on a team -- `Seashell Sally`, `Rocky Raccoon`, and `Superman`. Each person makes the following changes:\n",
    "\n",
    "![2](img/2.png)\n",
    "![3](img/3.png)\n",
    "\n",
    "Each person commits their changes. Because they're all working on the master branch, the commit history will end up looking like this:\n",
    "\n",
    "Remote|Superman|Rocky|Sally\n",
    "---|---|---|---\n",
    "f34|f34<br>b53|f34<br>456|f34<br>765\n",
    "\n",
    "<br>\n",
    "Notice that the most recent commit is different for each person. What's even worse is that all of the commits make changes to the same files. There's no way for Git to determine which changes are the \"correct\" ones, so the team members will have issues if they all try to push to the remote. Let's see what happens when Superman pushes his changes:\n",
    "\n",
    "Remote|Superman|Rocky|Sally\n",
    "---|---|---|---\n",
    "**f34<br>b53**|**f34<br>b53**|f34<br>456|f34<br>765\n",
    "\n",
    "<br>\n",
    "Now Rocky and Sally can't push to the remote, because commits `456` and `765` **conflict with Superman's commit `b53`**. Rocky, Sally, and Superman edited the same lines in the same files. This results in something called a merge conflict, which is painful to fix, and something we'll talk about in the next mission.<br>\n",
    "\n",
    "Luckily, Git gives us **a few ways to avoid merge conflicts**. The best method involves using branches. Similar to the way tree branches diverge from the trunk, Git branches allow us to create several different work areas within the same repo. It's common to create a new branch whenever we want to make a change to a project, and then merge that branch back into the master branch when we're done.<br>\n",
    "\n",
    "Here's an example where Superman, Rocky, and Sally each make their own branches:\n",
    "\n",
    "Remote|Superman||Rocky||Sally|\n",
    "---|---|---|---|---|---|---\n",
    "master|master|enhancement|master|rocky|master|shells\n",
    "f34|f34|f34<br>b53|f34|f34<br>456|f34|f34<br>765\n",
    "\n",
    "Each of them originally pulled the master branch, which has the commit `f34`. Then they created separate branches; Superman created `enchancement`, Rocky created `rocky`, and Sally created `shells`. They each made a commit on their own branch.<br>\n",
    "\n",
    "When each person pushes their branch to the remote, Git stores it separately so that it doesn't conflict with everyone else's changes. Afterwards, the remote will have the branches `master`, `enhancement`, `rocky`, and `shells`. While the team will eventually want to merge all of the branches into master, using branches allows them to make changes to the repo separately while avoiding conflicts.<br>\n",
    "\n",
    "There are also other benefits to using branches. Imagine that Sally wants to make `10` more commits before merging, and Rocky wants to make `2`. Working on different branches will make their software development process go much faster.<br>\n",
    "\n",
    "We can create a branch with the [git branch](https://git-scm.com/docs/git-branch) command. For example, `git branch rocky` will create a branch called `rocky`.<br>\n",
    "\n",
    "Afterwards, we can switch to the new branch using the [git checkout](https://git-scm.com/docs/git-checkout) command. To do this, we'd type `git checkout rocky`. Alternatively, we can create a shortcut by combining the two commands with `git checkout -b rocky`. \n",
    "* This will **create a branch named `rocky` and then switch to it right away**, without our having to type a second, separate command.\n"
   ]
  },
  {
   "cell_type": "code",
   "execution_count": null,
   "metadata": {},
   "outputs": [],
   "source": []
  },
  {
   "cell_type": "markdown",
   "metadata": {
    "collapsed": true
   },
   "source": [
    "* Clone the repo `chatbot` from `/dataquest/user/git/chatbot to /home/dq/chatbot`.\n",
    "* Create a branch called `more-speech` in the repo `chatbot`.\n",
    "* Switch to the branch `more-speech`.\n",
    "* Run `bot.py` using `python` to see what happens."
   ]
  },
  {
   "cell_type": "code",
   "execution_count": 122,
   "metadata": {},
   "outputs": [
    {
     "name": "stdout",
     "output_type": "stream",
     "text": [
      "/Users/choigww/git-test-folder/chatbot\n"
     ]
    }
   ],
   "source": [
    "%cd chatbot"
   ]
  },
  {
   "cell_type": "code",
   "execution_count": 123,
   "metadata": {},
   "outputs": [
    {
     "name": "stdout",
     "output_type": "stream",
     "text": [
      "Switched to a new branch 'more-speech'\n",
      "Hello, let's chat!\n"
     ]
    }
   ],
   "source": [
    "!git checkout -b more-speech\n",
    "!python bot.py"
   ]
  },
  {
   "cell_type": "code",
   "execution_count": null,
   "metadata": {},
   "outputs": [],
   "source": []
  },
  {
   "cell_type": "markdown",
   "metadata": {},
   "source": [
    "### Switching Branches\n",
    "\n",
    "Once we create a new branch, we can make changes to it the same way we change the `master` branch. We just have to alter the files, add them to the staging area, and then commit them.<br>\n",
    "\n",
    "The main wrinkles come into play when we switch branches. Switching to a different branch will change the working directory to reflect the latest commit in that branch. Switching to a new branch, making a new commit, then switching back to master will switch our working directory back to the state of the latest commit in master. Here's a diagram that illustrates what happens:\n",
    "\n",
    "![4](img/4.png)\n",
    "\n",
    "In the example above, the branch `enhancement` has one commit more than master. When we switch to the `enhancement` branch, the working directory will contain a file called `bot.py` that contains the code `print('2')`. If we switch to the master branch, Git will alter the working directory to contain a file called `bot.py` that contains the code `print('1')`.<br>\n",
    "\n",
    "Switching between branches is very useful when we want to work on changes to a project that require different amounts of testing or development time. By putting them in separate branches, we can save the state of each addition, without them conflicting with each other.<br>\n",
    "\n",
    "The [git checkout](https://git-scm.com/docs/git-checkout) command allows us to switch branches. If we still have changes in the working directory we haven't committed yet, though, Git will check whether there's a potential merge conflict with the branch we're switching to. If there is, Git won't let us change branches."
   ]
  },
  {
   "cell_type": "code",
   "execution_count": null,
   "metadata": {},
   "outputs": [],
   "source": []
  },
  {
   "cell_type": "markdown",
   "metadata": {},
   "source": [
    "* Switch to the `more-speech` branch.\n",
    "* Edit `bot.py` so that it will print more output when it runs.\n",
    "* Make a commit with the message `Added more output`."
   ]
  },
  {
   "cell_type": "code",
   "execution_count": 124,
   "metadata": {},
   "outputs": [],
   "source": [
    "!echo \";print('More output!')\" >> bot.py"
   ]
  },
  {
   "cell_type": "code",
   "execution_count": 125,
   "metadata": {},
   "outputs": [],
   "source": [
    "!git add bot.py"
   ]
  },
  {
   "cell_type": "code",
   "execution_count": 126,
   "metadata": {
    "scrolled": true
   },
   "outputs": [
    {
     "name": "stdout",
     "output_type": "stream",
     "text": [
      "[more-speech 5040900] Added more output\r\n",
      " 1 file changed, 1 insertion(+), 2 deletions(-)\r\n"
     ]
    }
   ],
   "source": [
    "!git commit bot.py -m \"Added more output\""
   ]
  },
  {
   "cell_type": "code",
   "execution_count": null,
   "metadata": {},
   "outputs": [],
   "source": []
  },
  {
   "cell_type": "markdown",
   "metadata": {},
   "source": [
    "### Pushing a Branch to a Remote\n",
    "\n",
    "Once we've created a branch and added a commit, we can push the branch to the remote repo. This allows other people to see our changes and collaborate with us.<br>\n",
    "\n",
    "As you'll recall from the previous mission, we push a branch to a remote using `git push`. Afterwards, we can use git `branch -r` to show all of the branches on the remote and confirm that ours is there. In contrast, `git branch -a` will **show all of the branches available locally**.<br>\n",
    "\n",
    "`git branch -r` might result in the following output:\n",
    "\n",
    "```\n",
    "origin/HEAD -> origin/master\n",
    "origin/master\n",
    "origin/more-speech\n",
    "```\n",
    "\n",
    "The output shows that there are two branches (`master` and `more-speech`) on the remote called `origin`, and that the current branch (the `HEAD` branch) is `master`. Git uses `HEAD` to **refer to the current branch, as well as the latest commit in that branch**."
   ]
  },
  {
   "cell_type": "code",
   "execution_count": null,
   "metadata": {},
   "outputs": [],
   "source": []
  },
  {
   "cell_type": "markdown",
   "metadata": {},
   "source": [
    "* Push the `more-speech` branch to the remote `origin`.\n",
    "* List the branches available on the remote."
   ]
  },
  {
   "cell_type": "code",
   "execution_count": 130,
   "metadata": {
    "scrolled": true
   },
   "outputs": [
    {
     "name": "stdout",
     "output_type": "stream",
     "text": [
      "Counting objects: 3, done.\n",
      "Delta compression using up to 4 threads.\n",
      "Compressing objects: 100% (2/2), done.\n",
      "Writing objects: 100% (3/3), 295 bytes | 295.00 KiB/s, done.\n",
      "Total 3 (delta 0), reused 0 (delta 0)\n",
      "To https://github.com/choigww/chatbot.git\n",
      " * [new branch]      more-speech -> more-speech\n"
     ]
    }
   ],
   "source": [
    "!git push origin more-speech"
   ]
  },
  {
   "cell_type": "code",
   "execution_count": 131,
   "metadata": {},
   "outputs": [
    {
     "name": "stdout",
     "output_type": "stream",
     "text": [
      "  master\u001b[m\r\n",
      "* \u001b[32mmore-speech\u001b[m\r\n",
      "  \u001b[31mremotes/origin/HEAD\u001b[m -> origin/master\r\n",
      "  \u001b[31mremotes/origin/master\u001b[m\r\n",
      "  \u001b[31mremotes/origin/more-speech\u001b[m\r\n"
     ]
    }
   ],
   "source": [
    "!git branch -a"
   ]
  },
  {
   "cell_type": "code",
   "execution_count": 132,
   "metadata": {},
   "outputs": [
    {
     "name": "stdout",
     "output_type": "stream",
     "text": [
      "  \u001b[31morigin/HEAD\u001b[m -> origin/master\r\n",
      "  \u001b[31morigin/master\u001b[m\r\n",
      "  \u001b[31morigin/more-speech\u001b[m\r\n"
     ]
    }
   ],
   "source": [
    "!git branch -r"
   ]
  },
  {
   "cell_type": "code",
   "execution_count": null,
   "metadata": {},
   "outputs": [],
   "source": []
  },
  {
   "cell_type": "markdown",
   "metadata": {},
   "source": [
    "## Merging Branches\n",
    "\n",
    "When someone downloads a project, they typically download and use a single version, or branch. Let's take Django as an example. [Django](https://github.com/django/django) is a popular Web framework for Python that programmers develop using Git and GitHub.<br>\n",
    "\n",
    "#### When a user installs Django, he or she install a single version \n",
    "-- not dozens or hundreds of separate branches. If we look at the GitHub repo for Django, **however, there are lots of different branches people have used to develop features**. [Here](https://github.com/dataquestio/solutions/pull/4)'s an example of a separate branch a programmer used to develop a feature.<br>\n",
    "\n",
    "The release a user downloads and works with is typically from the `master` branch. This means that all of the changes programmers made in other branches need to be pulled into the master branch. We do this through a Git concept called merging. Merging allows us to copy commits from one branch into another. This enables us to efficiently develop features for projects on their own branches without conflicts, then merge them into master so that end users will have access to them.<br>\n",
    "\n",
    "We use the [git merge](https://git-scm.com/docs/git-merge) command to merge a branch into another branch. Here's a diagram illustrating what happens in a merge:\n",
    "\n",
    "![5](img/5.png)\n",
    "\n",
    "As you can see, merging the branch `enhancement` into the branch `master` will pull the commit `b53` into master, and make `b53` the latest commit in `master`. Whenever anyone switches to the `master` branch, their working directory will contain the file `bot.py`, which has the contents `print(2)`.<br>\n",
    "\n",
    "In order to merge `branch b` into `branch a`, \n",
    "* we first have to switch to `branch a`, \n",
    "* then run `git merge`.\n",
    "\n",
    "Merging allows us to efficiently combine changes from multiple branches together, so that we have a working directory that reflects all of the changes in all of the branches."
   ]
  },
  {
   "cell_type": "code",
   "execution_count": null,
   "metadata": {},
   "outputs": [],
   "source": []
  },
  {
   "cell_type": "markdown",
   "metadata": {},
   "source": [
    "* Switch to the `master` branch of the `chatbot` repo.\n",
    "* Merge `more-speech` into `master`.\n",
    "* Push `master` to the remote repo."
   ]
  },
  {
   "cell_type": "code",
   "execution_count": 133,
   "metadata": {},
   "outputs": [
    {
     "name": "stdout",
     "output_type": "stream",
     "text": [
      "Switched to branch 'master'\n",
      "Your branch is up-to-date with 'origin/master'.\n",
      "Updating 53f5a99..5040900\n",
      "Fast-forward\n",
      " bot.py | 3 \u001b[32m+\u001b[m\u001b[31m--\u001b[m\n",
      " 1 file changed, 1 insertion(+), 2 deletions(-)\n",
      "Total 0 (delta 0), reused 0 (delta 0)\n",
      "To https://github.com/choigww/chatbot.git\n",
      "   53f5a99..5040900  master -> master\n"
     ]
    }
   ],
   "source": [
    "!git checkout master\n",
    "!git merge master more-speech\n",
    "!git push origin master"
   ]
  },
  {
   "cell_type": "code",
   "execution_count": null,
   "metadata": {},
   "outputs": [],
   "source": []
  },
  {
   "cell_type": "markdown",
   "metadata": {},
   "source": [
    "### Deleting Branches\n",
    "\n",
    "It's helpful to think of a branch as a collection of commits. Here's an example:\n",
    "\n",
    "![6](img/6.png)\n",
    "\n",
    "In the example above, both `master` and `enhancement` have `b53` as the latest commit. In fact, both branches have identical commits. This isn't necessarily bad, but it does mean that the original, separate branch is redundant -- it no longer contains any unique commits. It's typical to use a branch to develop a single feature, merge that branch into master, and then delete the branch.<br>\n",
    "\n",
    "To delete a branch once we've merged all of its commits into another branch, we use the `git branch -d` command. `git branch -d` requires us to specify the name of a branch when we call it. Git will completely remove the branch from our local repo. If a branch has unmerged commits inside it, Git will prevent it from being deleted, so its generally safe to delete branches we think are old or unnecessary.<br>\n",
    "\n",
    "Having too many branches can make the repo hard to use, so most software teams tend to delete branches once they've merged them. If we have many branches, for example, listing all of them can print hundreds or thousands of lines, making it hard to find the ones we want. It also makes cloning or updating the repo more difficult, because Git needs to download information on all of the branches."
   ]
  },
  {
   "cell_type": "code",
   "execution_count": null,
   "metadata": {},
   "outputs": [],
   "source": []
  },
  {
   "cell_type": "markdown",
   "metadata": {},
   "source": [
    "* Delete the `more-speech` branch."
   ]
  },
  {
   "cell_type": "code",
   "execution_count": 134,
   "metadata": {},
   "outputs": [
    {
     "name": "stdout",
     "output_type": "stream",
     "text": [
      "Deleted branch more-speech (was 5040900).\r\n"
     ]
    }
   ],
   "source": [
    "!git branch -d more-speech"
   ]
  },
  {
   "cell_type": "code",
   "execution_count": null,
   "metadata": {},
   "outputs": [],
   "source": []
  },
  {
   "cell_type": "markdown",
   "metadata": {},
   "source": [
    "### Checking Out Branches From the Remote\n",
    "\n",
    "In order to see what other collaborators in the remote repo are working on, we can check out their branches. This will automatically create a local branch with the same name, and copy any commits from the remote branch to the local branch.<br>\n",
    "\n",
    "Let's say we want to check out a branch called `angry-bot` from the remote. We'll need to use two different commands:<br>\n",
    "\n",
    "* [git fetch](https://git-scm.com/docs/git-fetch) will fetch all of the current branches and commits from the remote. This won't make any changes to the working directory, but will update Git's list of branch names and commits.\n",
    "* `git checkout angry-bot` will look for the `angry-bot` branch in the local repo and remote repo. Because it only exists in the remote repo, Git will copy it into the local repo. Git will also make `angry-bot` the current branch."
   ]
  },
  {
   "cell_type": "code",
   "execution_count": null,
   "metadata": {},
   "outputs": [],
   "source": []
  },
  {
   "cell_type": "markdown",
   "metadata": {},
   "source": [
    "Simulate a second collaborator working on the remote:\n",
    "* Clone `/dataquest/user/git/chatbot into /home/dq/chatbot2`.\n",
    "* `cd` into `chatbot2`.\n",
    "* Create a new branch called `happy-bot`.\n",
    "* Edit `bot.py` to output happy messages.\n",
    "* Commit your changes with the message `Made the bot 20% happier!`.\n",
    "* Push the `happy-bot` branch to the remote.\n",
    "\n",
    "In your local repo `/home/dq/chatbot`, check out the branch.\n",
    "* Run `git fetch` to update the Git history.\n",
    "* Check out the `happy-bot` branch.\n",
    "* Run `bot.py` to make sure the file changed."
   ]
  },
  {
   "cell_type": "code",
   "execution_count": 190,
   "metadata": {
    "scrolled": false
   },
   "outputs": [
    {
     "name": "stdout",
     "output_type": "stream",
     "text": [
      "Cloning into '/Users/choigww/git-test-folder/chatbot2'...\n",
      "remote: Counting objects: 20, done.\u001b[K\n",
      "remote: Compressing objects: 100% (15/15), done.\u001b[K\n",
      "remote: Total 20 (delta 2), reused 19 (delta 1), pack-reused 0\u001b[K\n",
      "Unpacking objects: 100% (20/20), done.\n"
     ]
    }
   ],
   "source": [
    "!git clone https://github.com/choigww/chatbot /Users/choigww/git-test-folder/chatbot2"
   ]
  },
  {
   "cell_type": "code",
   "execution_count": 181,
   "metadata": {
    "scrolled": true
   },
   "outputs": [
    {
     "name": "stdout",
     "output_type": "stream",
     "text": [
      "/Users/choigww/git-test-folder/chatbot2\n"
     ]
    }
   ],
   "source": [
    "%cd ../chatbot2"
   ]
  },
  {
   "cell_type": "code",
   "execution_count": 194,
   "metadata": {},
   "outputs": [
    {
     "name": "stdout",
     "output_type": "stream",
     "text": [
      "Switched to a new branch 'happybot'\r\n"
     ]
    }
   ],
   "source": [
    "!git checkout -b happybot"
   ]
  },
  {
   "cell_type": "code",
   "execution_count": 192,
   "metadata": {},
   "outputs": [
    {
     "name": "stdout",
     "output_type": "stream",
     "text": [
      "Hello, let's chat!\r\n",
      "More output!\r\n"
     ]
    }
   ],
   "source": [
    "!python bot.py"
   ]
  },
  {
   "cell_type": "code",
   "execution_count": 224,
   "metadata": {},
   "outputs": [
    {
     "name": "stdout",
     "output_type": "stream",
     "text": [
      "Hello, lets chat!\r\n",
      "More output!\r\n",
      "Happiness Level: 120\r\n"
     ]
    }
   ],
   "source": [
    "!printf \"\\nprint('Happiness Level: 120')\" >> bot.py\n",
    "!python bot.py"
   ]
  },
  {
   "cell_type": "code",
   "execution_count": 225,
   "metadata": {
    "scrolled": true
   },
   "outputs": [
    {
     "name": "stdout",
     "output_type": "stream",
     "text": [
      "[happybot dba57de] Made the bot 20% happier!\n",
      " 1 file changed, 4 insertions(+), 4 deletions(-)\n",
      "Counting objects: 3, done.\n",
      "Delta compression using up to 4 threads.\n",
      "Compressing objects: 100% (3/3), done.\n",
      "Writing objects: 100% (3/3), 370 bytes | 370.00 KiB/s, done.\n",
      "Total 3 (delta 0), reused 0 (delta 0)\n",
      "To https://github.com/choigww/chatbot\n",
      "   ff3204c..dba57de  happybot -> happybot\n"
     ]
    }
   ],
   "source": [
    "!git add bot.py\n",
    "!git commit -m \"Made the bot 20% happier!\"\n",
    "!git push origin happybot"
   ]
  },
  {
   "cell_type": "code",
   "execution_count": null,
   "metadata": {},
   "outputs": [],
   "source": []
  },
  {
   "cell_type": "code",
   "execution_count": 230,
   "metadata": {},
   "outputs": [
    {
     "name": "stdout",
     "output_type": "stream",
     "text": [
      "/Users/choigww/git-test-folder/chatbot\n"
     ]
    }
   ],
   "source": [
    "%cd /Users/choigww/git-test-folder/chatbot"
   ]
  },
  {
   "cell_type": "code",
   "execution_count": 232,
   "metadata": {},
   "outputs": [
    {
     "name": "stdout",
     "output_type": "stream",
     "text": [
      "Branch happybot set up to track remote branch happybot from origin.\n",
      "Switched to a new branch 'happybot'\n",
      "Hello, lets chat!\n",
      "More output!\n",
      "Happiness Level: 120\n"
     ]
    }
   ],
   "source": [
    "!git fetch\n",
    "!git checkout happybot\n",
    "!python bot.py"
   ]
  },
  {
   "cell_type": "code",
   "execution_count": 171,
   "metadata": {},
   "outputs": [],
   "source": []
  },
  {
   "cell_type": "markdown",
   "metadata": {},
   "source": [
    "### Finding Differences Across Branches\n",
    "\n",
    "**The typical Git workflow** looks like this:\n",
    "* Create a branch off of `master` with the name of your feature. Let's say `feature/better-algo`.\n",
    "* Make your changes on the branch and create commits.\n",
    "* Push the branch to the remote repo.\n",
    "* Ask others to review and evaluate your branch.\n",
    "* Merge the branch into `master` once everyone thinks it looks okay.\n",
    "* Delete the branch.\n",
    "\n",
    "This is how most teams of developers work. In order to review a team member's changes, though, it's critical to be able to see the differences between the feature branch and `master`. We refer to these differences as \"the diff.\"<br>\n",
    "\n",
    "When we use GitHub as our remote repo, [pull requests](https://help.github.com/articles/using-pull-requests/) will show us the differences between branches in an attractive interface, and allow other developers to add comments.<br>\n",
    "\n",
    "If we're not using GitHub, we can type `git diff` on the command line to see the differences between branches. This command shows line-by-line changes to the code. If the changes are additions, Git will display them in green and prefix them with a plus sign (`+`). If they're deletions, Git will display them in red and prefix them with a minus sign (`-`). It shows new files as additions.<br>\n",
    "\n",
    "The order in which we specify the two branches as arguments to `git diff` influences whether Git sees the changes as additions or deletions. It's generally preferable to put the \"older\" branch first."
   ]
  },
  {
   "cell_type": "code",
   "execution_count": null,
   "metadata": {},
   "outputs": [],
   "source": []
  },
  {
   "cell_type": "markdown",
   "metadata": {},
   "source": [
    "* Use `git diff` to see the differences between `happy-bot` and `master`."
   ]
  },
  {
   "cell_type": "code",
   "execution_count": 235,
   "metadata": {},
   "outputs": [
    {
     "name": "stdout",
     "output_type": "stream",
     "text": [
      "\u001b[1mdiff --git a/bot.py b/bot.py\u001b[m\r\n",
      "\u001b[1mindex a5ac901..22e370a 100644\u001b[m\r\n",
      "\u001b[1m--- a/bot.py\u001b[m\r\n",
      "\u001b[1m+++ b/bot.py\u001b[m\r\n",
      "\u001b[36m@@ -1,3 +1,4 @@\u001b[m\r\n",
      "\u001b[31m-if __name__ == \"__main__\":                                \u001b[m\r\n",
      "\u001b[31m-    print(\"Hello, let's chat!\")                           \u001b[m\r\n",
      "\u001b[31m-    print(\"More output!\")\u001b[m\r\n",
      "\\ No newline at end of file\u001b[m\r\n",
      "\u001b[32m+\u001b[m\u001b[32mif __name__=='__main__':\u001b[m\r\n",
      "\u001b[32m+\u001b[m\u001b[32m    print('Hello, lets chat!')\u001b[m\r\n",
      "\u001b[32m+\u001b[m\u001b[32mprint('More output!')\u001b[m\r\n",
      "\u001b[32m+\u001b[m\u001b[32mprint('Happiness Level: 120')\u001b[m\r\n",
      "\\ No newline at end of file\u001b[m\r\n"
     ]
    }
   ],
   "source": [
    "!git diff master happybot"
   ]
  },
  {
   "cell_type": "code",
   "execution_count": null,
   "metadata": {},
   "outputs": [],
   "source": []
  },
  {
   "cell_type": "markdown",
   "metadata": {},
   "source": [
    "### Branch Naming Conventions\n",
    "\n",
    "When naming branches, it's common to use a prefix that describes the type of branch, then a slash, then the name of the feature or fix we're making. Here are some typical prefixes, along with example branch names:\n",
    "\n",
    "* Feature - `feature/happy-bot`\n",
    "* Fix - `fix/remove-error`\n",
    "* Chore - `chore/add-analytics`\n",
    "\n",
    "Features tend to be commits that add functionality to a project, while fixes resolve bugs and other issues. Chores are things that end users won't necessarily notice, but help us reorganize the project or make the code more efficient. These naming conventions make it easier to organize branches, and figure out what each one does without having to look at the full diff."
   ]
  },
  {
   "cell_type": "code",
   "execution_count": null,
   "metadata": {},
   "outputs": [],
   "source": []
  },
  {
   "cell_type": "markdown",
   "metadata": {},
   "source": [
    "* Create a new branch called `feature/random-messages`.\n",
    "* Edit `bot.py` to output one of several possible messages, based on a random number generator.\n",
    "* Commit and push your branch to the remote."
   ]
  },
  {
   "cell_type": "code",
   "execution_count": 236,
   "metadata": {},
   "outputs": [
    {
     "name": "stdout",
     "output_type": "stream",
     "text": [
      "/Users/choigww/git-test-folder/chatbot\r\n"
     ]
    }
   ],
   "source": [
    "!pwd"
   ]
  },
  {
   "cell_type": "code",
   "execution_count": 237,
   "metadata": {},
   "outputs": [
    {
     "name": "stdout",
     "output_type": "stream",
     "text": [
      "Switched to a new branch 'feature/random-messages'\n",
      "[feature/random-messages b1627d7] add random number printing\n",
      " 1 file changed, 3 insertions(+), 1 deletion(-)\n",
      "Counting objects: 3, done.\n",
      "Delta compression using up to 4 threads.\n",
      "Compressing objects: 100% (3/3), done.\n",
      "Writing objects: 100% (3/3), 401 bytes | 401.00 KiB/s, done.\n",
      "Total 3 (delta 0), reused 0 (delta 0)\n",
      "To https://github.com/choigww/chatbot.git\n",
      " * [new branch]      feature/random-messages -> feature/random-messages\n"
     ]
    }
   ],
   "source": [
    "!git checkout -b feature/random-messages\n",
    "!printf \"\\nimport random\\nprint('this is random number:', random.randint(100))\" >> bot.py\n",
    "!git add .\n",
    "!git commit -m 'add random number printing'\n",
    "!git push origin feature/random-messages"
   ]
  },
  {
   "cell_type": "code",
   "execution_count": 238,
   "metadata": {},
   "outputs": [
    {
     "name": "stdout",
     "output_type": "stream",
     "text": [
      "Hello, lets chat!\r\n",
      "More output!\r\n",
      "Happiness Level: 120\r\n",
      "Traceback (most recent call last):\r\n",
      "  File \"bot.py\", line 6, in <module>\r\n",
      "    print('this is random number:', random.randint(100))\r\n",
      "TypeError: randint() missing 1 required positional argument: 'b'\r\n"
     ]
    }
   ],
   "source": [
    "!python bot.py"
   ]
  },
  {
   "cell_type": "code",
   "execution_count": 240,
   "metadata": {
    "scrolled": true
   },
   "outputs": [
    {
     "name": "stdout",
     "output_type": "stream",
     "text": [
      "HEAD is now at dba57de Made the bot 20% happier!\r\n"
     ]
    }
   ],
   "source": [
    "# get error -> reset commit\n",
    "!git reset --hard HEAD~"
   ]
  },
  {
   "cell_type": "code",
   "execution_count": 241,
   "metadata": {},
   "outputs": [
    {
     "name": "stdout",
     "output_type": "stream",
     "text": [
      "Hello, lets chat!\r\n",
      "More output!\r\n",
      "Happiness Level: 120\r\n"
     ]
    }
   ],
   "source": [
    "!python bot.py"
   ]
  },
  {
   "cell_type": "code",
   "execution_count": 242,
   "metadata": {},
   "outputs": [
    {
     "name": "stdout",
     "output_type": "stream",
     "text": [
      "Hello, lets chat!\n",
      "More output!\n",
      "Happiness Level: 120\n",
      "this is random number: 28\n"
     ]
    }
   ],
   "source": [
    "!printf \"\\nimport random\\nprint('this is random number:', random.randint(1, 100))\" >> bot.py\n",
    "!python bot.py"
   ]
  },
  {
   "cell_type": "code",
   "execution_count": null,
   "metadata": {},
   "outputs": [],
   "source": []
  },
  {
   "cell_type": "code",
   "execution_count": 243,
   "metadata": {},
   "outputs": [
    {
     "name": "stdout",
     "output_type": "stream",
     "text": [
      "[feature/random-messages e573f75] add random number printing\n",
      " 1 file changed, 3 insertions(+), 1 deletion(-)\n",
      "To https://github.com/choigww/chatbot.git\n",
      " ! [rejected]        feature/random-messages -> feature/random-messages (non-fast-forward)\n",
      "error: failed to push some refs to 'https://github.com/choigww/chatbot.git'\n",
      "hint: Updates were rejected because the tip of your current branch is behind\n",
      "hint: its remote counterpart. Integrate the remote changes (e.g.\n",
      "hint: 'git pull ...') before pushing again.\n",
      "hint: See the 'Note about fast-forwards' in 'git push --help' for details.\n"
     ]
    }
   ],
   "source": [
    "!git add .\n",
    "!git commit -m 'add random number printing'\n",
    "!git push origin feature/random-messages"
   ]
  },
  {
   "cell_type": "code",
   "execution_count": 245,
   "metadata": {},
   "outputs": [
    {
     "name": "stdout",
     "output_type": "stream",
     "text": [
      "Switched to branch 'master'\r\n",
      "Your branch is up-to-date with 'origin/master'.\r\n"
     ]
    }
   ],
   "source": [
    "!git checkout master"
   ]
  },
  {
   "cell_type": "code",
   "execution_count": 246,
   "metadata": {},
   "outputs": [
    {
     "name": "stdout",
     "output_type": "stream",
     "text": [
      "HEAD is now at 5040900 Added more output\r\n"
     ]
    }
   ],
   "source": [
    "!git reset --hard HEAD~"
   ]
  },
  {
   "cell_type": "code",
   "execution_count": 247,
   "metadata": {
    "scrolled": true
   },
   "outputs": [
    {
     "name": "stdout",
     "output_type": "stream",
     "text": [
      "Switched to branch 'feature/random-messages'\r\n"
     ]
    }
   ],
   "source": [
    "!git checkout feature/random-messages"
   ]
  },
  {
   "cell_type": "code",
   "execution_count": 248,
   "metadata": {},
   "outputs": [
    {
     "name": "stdout",
     "output_type": "stream",
     "text": [
      "On branch feature/random-messages\n",
      "nothing to commit, working tree clean\n",
      "To https://github.com/choigww/chatbot.git\n",
      " ! [rejected]        feature/random-messages -> feature/random-messages (non-fast-forward)\n",
      "error: failed to push some refs to 'https://github.com/choigww/chatbot.git'\n",
      "hint: Updates were rejected because the tip of your current branch is behind\n",
      "hint: its remote counterpart. Integrate the remote changes (e.g.\n",
      "hint: 'git pull ...') before pushing again.\n",
      "hint: See the 'Note about fast-forwards' in 'git push --help' for details.\n"
     ]
    }
   ],
   "source": [
    "!git add .\n",
    "!git commit -m 'add random number printing'\n",
    "!git push origin feature/random-messages"
   ]
  },
  {
   "cell_type": "code",
   "execution_count": null,
   "metadata": {},
   "outputs": [],
   "source": []
  },
  {
   "cell_type": "code",
   "execution_count": null,
   "metadata": {
    "collapsed": true
   },
   "outputs": [],
   "source": []
  },
  {
   "cell_type": "code",
   "execution_count": null,
   "metadata": {
    "collapsed": true
   },
   "outputs": [],
   "source": []
  }
 ],
 "metadata": {
  "kernelspec": {
   "display_name": "Python 3",
   "language": "python",
   "name": "python3"
  },
  "language_info": {
   "codemirror_mode": {
    "name": "ipython",
    "version": 3
   },
   "file_extension": ".py",
   "mimetype": "text/x-python",
   "name": "python",
   "nbconvert_exporter": "python",
   "pygments_lexer": "ipython3",
   "version": "3.6.2"
  }
 },
 "nbformat": 4,
 "nbformat_minor": 2
}
