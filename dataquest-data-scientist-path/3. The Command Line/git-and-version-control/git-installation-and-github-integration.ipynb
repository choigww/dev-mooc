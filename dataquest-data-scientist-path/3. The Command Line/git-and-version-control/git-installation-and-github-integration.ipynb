{
 "cells": [
  {
   "cell_type": "markdown",
   "metadata": {},
   "source": [
    "# Git Installation and GIthub Integration"
   ]
  },
  {
   "cell_type": "code",
   "execution_count": null,
   "metadata": {},
   "outputs": [],
   "source": []
  },
  {
   "cell_type": "markdown",
   "metadata": {},
   "source": [
    "## Introduction\n",
    "\n",
    "In the last mission, we explored the basics of Git version control. In this project, we'll walk you through the process of setting Git up on your own machine and authenticating with GitHub. Afterwards, you'll be able to sync the changes you make to data science projects locally with GitHub. Finally, when you're ready, you can publish your code to GitHub and build a portfolio of projects for others to see.<br>\n",
    "\n",
    "Unfortunately, debugging your installation is outside the scope of this project, because there can be many potential reasons for a failure. If you encounter an error during the installation process, use Google and StackOverflow to attempt to debug and fix the issue. If you're still having difficulty, post about the issue you're experiencing in the [project forum](https://www.dataquest.io/forum/mission/204/project-git-installation-and-github-integration).\n",
    "\n"
   ]
  },
  {
   "cell_type": "code",
   "execution_count": null,
   "metadata": {},
   "outputs": [],
   "source": []
  },
  {
   "cell_type": "markdown",
   "metadata": {},
   "source": [
    "## Installing Git\n",
    "\n",
    "Fortunately, installing Git only involves a few steps.\n",
    "\n",
    "* Navigate to the [Git downloads page](https://git-scm.com/downloads) and download the appropriate installer for your operating system.\n",
    "* Run the installer and step through the installation wizard.\n",
    "* Open the command line program (**Terminal** for Linux and Mac and **Command Prompt** for Windows) and run `git version`.\n",
    "\n",
    "If the output describes the current Git version and doesn't throw an error, you've successfully installed Git!\n",
    "\n"
   ]
  },
  {
   "cell_type": "code",
   "execution_count": null,
   "metadata": {},
   "outputs": [],
   "source": []
  },
  {
   "cell_type": "markdown",
   "metadata": {},
   "source": [
    "## Configuring Git\n",
    "\n",
    "Now let's configure Git with your name and email address. Run the following shell command, but replace \"YOUR NAME\" with your actual name:\n",
    "\n",
    "```bash\n",
    "git config --global user.name \"YOUR NAME\"\n",
    "```\n",
    "\n",
    "Then, run the following shell command, but replace \"YOUR EMAIL ADDRESS\" with your actual email address:\n",
    "\n",
    "```bash\n",
    "git config --global user.email \"YOUR EMAIL ADDRESS\"\n",
    "```"
   ]
  },
  {
   "cell_type": "code",
   "execution_count": null,
   "metadata": {},
   "outputs": [],
   "source": []
  },
  {
   "cell_type": "markdown",
   "metadata": {},
   "source": [
    "## Creating a Github Account\n",
    "\n",
    "Use a Web browser to navigate to [GitHub](https://www.dataquest.io/m/128/project%3A-git-installation-and-github-integration/4/www.github.com) and create an account. There are three main steps you'll have to complete:\n",
    "\n",
    "* Create a personal account. Select a unique username and password and enter your email.\n",
    "* Choose a plan. If you select the free plan, all of your code (which is organized in repositories) will be public. Select the free plan for now. You can always upgrade to a paid plan later on, which would allow you to have private repositories.\n",
    "* Read the GitHub [Hello World guide](https://guides.github.com/activities/hello-world/).\n",
    "\n",
    "Complete the instructions in step 1 of the Hello World guide to create your first repository on GitHub."
   ]
  },
  {
   "cell_type": "code",
   "execution_count": null,
   "metadata": {},
   "outputs": [],
   "source": []
  },
  {
   "cell_type": "markdown",
   "metadata": {},
   "source": [
    "## Authenticating with Github\n",
    "\n",
    "Now you need to authenticate your computer with GitHub so you can push code to your remote repositories. The easiest way to do this is to clone the repo you created on GitHub to your local computer. Click the **Clone or Download** button on the repository page, and then click Use HTTPS in the floating window to reveal the clone URL:\n",
    "\n",
    "![authenticating-with-github](https://dq-content.s3.amazonaws.com/TemL0hd.png)\n",
    "\n",
    "Then, run `git clone {url}` from the command line (replace `{url}` with the clone URL). Git will ask you to log in with your GitHub username and password. After you log in, Git will download your repository to your local computer as a new folder (if there are any files in the repo).<br>\n",
    "\n",
    "To verify that you can now push changes to your GitHub repo:\n",
    "\n",
    "* Create a branch (`git checkout -b testbranch`).\n",
    "* Make a small change (use `nano` if you want to edit a file from the command line).\n",
    "* Commit the change (`git commit -am 'test'`).\n",
    "* Push the branch to GitHub (`git push origin testbranch`).\n",
    "\n",
    "By default, you'll be asked to log in every time you run `git push`, `git pull`, or another Git command to the remote repository. You can use a credential helper to get around this, however. To learn more about this option, see the [GitHub documentation](https://help.github.com/articles/which-remote-url-should-i-use/#cloning-with-https-urls-recommended)."
   ]
  },
  {
   "cell_type": "code",
   "execution_count": null,
   "metadata": {},
   "outputs": [],
   "source": []
  }
 ],
 "metadata": {
  "kernelspec": {
   "display_name": "Python 3",
   "language": "python",
   "name": "python3"
  },
  "language_info": {
   "codemirror_mode": {
    "name": "ipython",
    "version": 3
   },
   "file_extension": ".py",
   "mimetype": "text/x-python",
   "name": "python",
   "nbconvert_exporter": "python",
   "pygments_lexer": "ipython3",
   "version": "3.6.2"
  }
 },
 "nbformat": 4,
 "nbformat_minor": 2
}
