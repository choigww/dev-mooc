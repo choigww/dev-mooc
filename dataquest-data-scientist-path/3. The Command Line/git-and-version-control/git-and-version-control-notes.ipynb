{
 "cells": [
  {
   "cell_type": "markdown",
   "metadata": {},
   "source": [
    "# Git and Version Control"
   ]
  },
  {
   "cell_type": "markdown",
   "metadata": {},
   "source": [
    "# Index\n",
    "### Git and Version Control\n",
    "1. [Introduction to Git](#introduction-to-git)\n",
    "2. [Git Remotes](#git-remotes)\n",
    "3. [Git Branches](#git-branches)\n",
    "4. [Merge Conflicts](#merge-conflicts)"
   ]
  },
  {
   "cell_type": "code",
   "execution_count": null,
   "metadata": {
    "collapsed": true
   },
   "outputs": [],
   "source": []
  },
  {
   "cell_type": "markdown",
   "metadata": {},
   "source": [
    "## 1. <a name='introduction-to-git'></a>Introduction to Git\n",
    "\n",
    "Imagine that you both have the folder on your local machine. To modify files, you make changes, then upload the entire folder to a centralized location like Dropbox or Google Drive to enable collaboration. If you didn't have a distributed version control system, whoever changed the file last would overwrite the changes of the other person.<br>\n",
    "\n",
    "This approach becomes extremely frustrating and impossible to manage as you start dealing with larger and larger chunks of code. What if the folder had 100 files, you modified 10 of them, and your coworker modified 30 at the same time? You don't want to lose your changes every time your coworker uploads his version of the folder. Now, imagine that instead of just you and a coworker, it's a project with 10 or 100 contributors.<br>\n",
    "\n",
    "Companies face this problem every day, which is why distributed version control systems exist. These systems will \"merge\" changes together intelligently, enabling multiple developers to work on a project at the same time.<br>\n",
    "\n",
    "Going back to the script.py file, if we intelligently merged the two versions, the end result would look like this:\n",
    "\n",
    "```bash\n",
    "\n",
    "import math\n",
    "print(10 + 10)\n",
    "if __name__ == \"__main__\":\n",
    "    print(\"Welcome to a script!\")\n",
    "    print(\"Here's my amazing contribution to this project!\")\n",
    "\n",
    "```\n",
    "\n",
    "There are a few distributed version control systems, including [Mercurial](https://www.mercurial-scm.org/) and [Subversion](https://subversion.apache.org/). [Git](https://git-scm.com/) is by far the most popular, however.<br>\n",
    "\n",
    "Git is a command-line tool we can access by typing git in the shell. The first step in using Git is to initialize a folder as a repository. A repository (or \"repo\") tracks multiple versions of the files in the folder, enabling collaboration.<br>\n",
    "\n",
    "We can initialize a repository by typing git init inside the folder we want to use for our project.\n",
    "\n"
   ]
  },
  {
   "cell_type": "code",
   "execution_count": null,
   "metadata": {},
   "outputs": [],
   "source": []
  },
  {
   "cell_type": "code",
   "execution_count": 249,
   "metadata": {},
   "outputs": [
    {
     "data": {
      "text/plain": [
       "'/Users/choigww/.Trash/git-test-folder/chatbot'"
      ]
     },
     "execution_count": 249,
     "metadata": {},
     "output_type": "execute_result"
    }
   ],
   "source": [
    "%pwd"
   ]
  },
  {
   "cell_type": "code",
   "execution_count": 250,
   "metadata": {},
   "outputs": [
    {
     "name": "stdout",
     "output_type": "stream",
     "text": [
      "/Users/choigww\n"
     ]
    }
   ],
   "source": [
    "%cd ~"
   ]
  },
  {
   "cell_type": "code",
   "execution_count": 251,
   "metadata": {},
   "outputs": [
    {
     "name": "stdout",
     "output_type": "stream",
     "text": [
      "/Users/choigww/git-test-folder\n",
      "/Users/choigww/git-test-folder/random_numbers\n",
      "Initialized empty Git repository in /Users/choigww/git-test-folder/random_numbers/.git/\n",
      "total 0\n",
      "drwxr-xr-x   3 choigww  staff   96  2  1 22:44 \u001b[1m\u001b[36m.\u001b[m\u001b[m\n",
      "drwxr-xr-x   3 choigww  staff   96  2  1 22:44 \u001b[1m\u001b[36m..\u001b[m\u001b[m\n",
      "drwxr-xr-x  10 choigww  staff  320  2  1 22:44 \u001b[1m\u001b[36m.git\u001b[m\u001b[m\n"
     ]
    }
   ],
   "source": [
    "!mkdir git-test-folder\n",
    "%cd git-test-folder\n",
    "!mkdir random_numbers\n",
    "%cd random_numbers\n",
    "!git init\n",
    "!ls -al"
   ]
  },
  {
   "cell_type": "code",
   "execution_count": null,
   "metadata": {},
   "outputs": [],
   "source": []
  },
  {
   "cell_type": "markdown",
   "metadata": {},
   "source": [
    "### dataquest example\n",
    "```bash\n",
    "/home/dq$ mkdir random_numbers\n",
    "/home/dq$ cd random_numbers/\n",
    "/home/dq/random_numbers$ git init\n",
    "Iniitialized empty Git repository in /home/dq/random_numbers/.git/\n",
    "/home/dq/random_numbers$ ls -al\n",
    "total 12                                                          \n",
    "drwxr-xr-x 3 dq dq 4096 Nov 16 06:43 .                            \n",
    "drwxr-xr-x 1 dq dq 4096 Nov 16 06:43 ..                           \n",
    "drwxr-xr-x 7 dq dq 4096 Nov 16 06:43 .git\n",
    "/home/dq/random_numbers$ \n",
    "```"
   ]
  },
  {
   "cell_type": "code",
   "execution_count": null,
   "metadata": {
    "collapsed": true
   },
   "outputs": [],
   "source": []
  },
  {
   "cell_type": "markdown",
   "metadata": {},
   "source": [
    "### Commit?\n",
    "* storing a checkpoint (snapshot) of changes\n",
    "* These checkpoints are called `commits`.\n",
    "\n",
    "Files can have one of three states in Git:\n",
    "\n",
    "* `committed` - The current version of the file has been added to a commit, and Git has stored it.\n",
    "* `staged` - The file has been marked for inclusion in the next commit, but hasn't been committed yet (and Git hasn't stored it yet). You might stage one file before working on a second file, for example, then commit both files at the same time when you're done.\n",
    "* `modified` - The file has been modified since the last commit, but isn't staged yet.\n",
    "\n",
    "After we make changes to a Git repository, we can run the git status command to check the state of each file within it. Any files that don't show up in git status are in the committed state (i.e., don't have unsaved changes).\n"
   ]
  },
  {
   "cell_type": "code",
   "execution_count": null,
   "metadata": {},
   "outputs": [],
   "source": []
  },
  {
   "cell_type": "code",
   "execution_count": 254,
   "metadata": {},
   "outputs": [],
   "source": [
    "!touch README.md | printf \"Random number generator\" > README.md\n",
    "!touch script.py | printf 'if __name__==\"__main__\": print(\"10\")' > script.py"
   ]
  },
  {
   "cell_type": "code",
   "execution_count": 255,
   "metadata": {},
   "outputs": [
    {
     "name": "stdout",
     "output_type": "stream",
     "text": [
      "10\r\n"
     ]
    }
   ],
   "source": [
    "!python script.py"
   ]
  },
  {
   "cell_type": "code",
   "execution_count": 256,
   "metadata": {},
   "outputs": [
    {
     "name": "stdout",
     "output_type": "stream",
     "text": [
      "On branch master\r\n",
      "\r\n",
      "No commits yet\r\n",
      "\r\n",
      "Untracked files:\r\n",
      "  (use \"git add <file>...\" to include in what will be committed)\r\n",
      "\r\n",
      "\t\u001b[31mREADME.md\u001b[m\r\n",
      "\t\u001b[31mscript.py\u001b[m\r\n",
      "\r\n",
      "nothing added to commit but untracked files present (use \"git add\" to track)\r\n"
     ]
    }
   ],
   "source": [
    "!git status"
   ]
  },
  {
   "cell_type": "code",
   "execution_count": 257,
   "metadata": {},
   "outputs": [
    {
     "name": "stdout",
     "output_type": "stream",
     "text": [
      "total 16\r\n",
      "drwxr-xr-x   5 choigww  staff  160  2  1 22:45 \u001b[1m\u001b[36m.\u001b[m\u001b[m\r\n",
      "drwxr-xr-x   3 choigww  staff   96  2  1 22:44 \u001b[1m\u001b[36m..\u001b[m\u001b[m\r\n",
      "drwxr-xr-x  10 choigww  staff  320  2  1 22:45 \u001b[1m\u001b[36m.git\u001b[m\u001b[m\r\n",
      "-rw-r--r--   1 choigww  staff   23  2  1 22:45 README.md\r\n",
      "-rw-r--r--   1 choigww  staff   36  2  1 22:45 script.py\r\n"
     ]
    }
   ],
   "source": [
    "!ls -al"
   ]
  },
  {
   "cell_type": "code",
   "execution_count": 258,
   "metadata": {},
   "outputs": [],
   "source": [
    "!git add script.py"
   ]
  },
  {
   "cell_type": "code",
   "execution_count": 259,
   "metadata": {},
   "outputs": [],
   "source": [
    "!git add README.md"
   ]
  },
  {
   "cell_type": "code",
   "execution_count": 260,
   "metadata": {},
   "outputs": [
    {
     "name": "stdout",
     "output_type": "stream",
     "text": [
      "On branch master\r\n",
      "\r\n",
      "No commits yet\r\n",
      "\r\n",
      "Changes to be committed:\r\n",
      "  (use \"git rm --cached <file>...\" to unstage)\r\n",
      "\r\n",
      "\t\u001b[32mnew file:   README.md\u001b[m\r\n",
      "\t\u001b[32mnew file:   script.py\u001b[m\r\n",
      "\r\n"
     ]
    }
   ],
   "source": [
    "!git status"
   ]
  },
  {
   "cell_type": "code",
   "execution_count": null,
   "metadata": {},
   "outputs": [],
   "source": []
  },
  {
   "cell_type": "markdown",
   "metadata": {},
   "source": [
    "### dataquest example\n",
    "```bash\n",
    "/home/dq/random_numbers$ touch README.md | echo \"Random number generator\" > README.md\n",
    "/home/dq/random_numbers$ nano script.py\n",
    "\n",
    "--- script.py\n",
    "if __name__ == \"__main__\":\n",
    "    print(\"10\")\n",
    "---\n",
    "\n",
    "/home/dq/random_numbers$ git status\n",
    "On branch master                                                  \n",
    "                                                                  \n",
    "Initial commit                                                    \n",
    "                                                                  \n",
    "Untracked files:                                                  \n",
    "  (use \"git add <file>...\" to include in what will be committed)  \n",
    "                                                                  \n",
    "        README.md                                                 \n",
    "        script.py                                                 \n",
    "                                                                  \n",
    "nothing added to commit but untracked files present (use \"git add\"\n",
    " to track)\n",
    "/home/dq/random_numbers$ git add script.py\n",
    "/home/dq/random_numbers$ git add README.md\n",
    "```"
   ]
  },
  {
   "cell_type": "code",
   "execution_count": null,
   "metadata": {
    "collapsed": true
   },
   "outputs": [],
   "source": []
  },
  {
   "cell_type": "markdown",
   "metadata": {},
   "source": [
    "### Git config\n",
    "Before we can make our first commit, we need to tell Git who we are so it can store that information along with the commit. This step ensures that all of the members on a team can tell who made a certain commit.\n",
    "\n",
    "* We can do this by running `git config`. We only need to run this command once per computer, because Git will save the information.\n",
    "\n",
    "```bash\n",
    "git config --global user.email \"your.email@domain.com\"\n",
    "```\n",
    "You can configure your name with:\n",
    "```bash\n",
    "git config --global user.name \"Your name\"\n",
    "```\n",
    "Example\n",
    "```bash\n",
    "/home/dq/random_numbers$ git config --global user.email \"choi@gmai\n",
    "l.com\"                                                            \n",
    "/home/dq/random_numbers$ git config --global user.name \"choi\" \n",
    "```"
   ]
  },
  {
   "cell_type": "code",
   "execution_count": null,
   "metadata": {},
   "outputs": [],
   "source": []
  },
  {
   "cell_type": "code",
   "execution_count": 261,
   "metadata": {},
   "outputs": [],
   "source": [
    "!git config --global user.email \"choigww@gmail.com\"\n",
    "!git config --global user.name \"choigww\""
   ]
  },
  {
   "cell_type": "code",
   "execution_count": null,
   "metadata": {
    "collapsed": true
   },
   "outputs": [],
   "source": []
  },
  {
   "cell_type": "markdown",
   "metadata": {},
   "source": [
    "### Commit\n",
    "\n",
    "```bash\n",
    "git commit -m \"Commit message here\"\n",
    "```\n",
    "* The -m flag indicates that we're adding a message\n",
    "\n",
    "```bash\n",
    "/home/dq/random_numbers$ git commit -m \"Initial commit. Added scri\n",
    "pt.py and README.md\"                                              \n",
    "[master (root-commit) 5f80e59] Initial commit. Added script.py and\n",
    " README.md                                                        \n",
    " 2 files changed, 3 insertions(+)                                 \n",
    " create mode 100644 README.md                                     \n",
    " create mode 100644 script.py\n",
    "```"
   ]
  },
  {
   "cell_type": "code",
   "execution_count": null,
   "metadata": {},
   "outputs": [],
   "source": []
  },
  {
   "cell_type": "code",
   "execution_count": 262,
   "metadata": {},
   "outputs": [
    {
     "name": "stdout",
     "output_type": "stream",
     "text": [
      "[master (root-commit) 1b6e55e] git test first commit\r\n",
      " 2 files changed, 2 insertions(+)\r\n",
      " create mode 100644 README.md\r\n",
      " create mode 100644 script.py\r\n"
     ]
    }
   ],
   "source": [
    "!git commit -m \"git test first commit\""
   ]
  },
  {
   "cell_type": "code",
   "execution_count": null,
   "metadata": {
    "collapsed": true
   },
   "outputs": [],
   "source": []
  },
  {
   "cell_type": "markdown",
   "metadata": {},
   "source": [
    "### Modify & make another commit\n",
    "\n",
    "Before we place a file in the staging area, we can use `git diff` to see all of the line differences between the current and previous version. We can scroll up and down with the arrow keys, and exit `git diff` with the `q` key. If we want to see the differences after we stage a file, we can use `git diff --staged`."
   ]
  },
  {
   "cell_type": "markdown",
   "metadata": {},
   "source": [
    "[Instructions]\n",
    "script.py isn't exactly a random number generator right now.\n",
    "* Modify it so that it prints a random integer from 0 to 10. You can import and use random.randint for this.\n",
    "* Afterwards, type git diff to see how Git is tracking modifications.\n",
    "* Finally, type git status to see the status of the file you modified."
   ]
  },
  {
   "cell_type": "code",
   "execution_count": null,
   "metadata": {},
   "outputs": [],
   "source": []
  },
  {
   "cell_type": "code",
   "execution_count": 263,
   "metadata": {
    "scrolled": true
   },
   "outputs": [
    {
     "name": "stdout",
     "output_type": "stream",
     "text": [
      "total 16\r\n",
      "drwxr-xr-x   5 choigww  staff  160  2  1 22:45 \u001b[1m\u001b[36m.\u001b[m\u001b[m\r\n",
      "drwxr-xr-x   3 choigww  staff   96  2  1 22:44 \u001b[1m\u001b[36m..\u001b[m\u001b[m\r\n",
      "drwxr-xr-x  13 choigww  staff  416  2  1 22:46 \u001b[1m\u001b[36m.git\u001b[m\u001b[m\r\n",
      "-rw-r--r--   1 choigww  staff   23  2  1 22:45 README.md\r\n",
      "-rw-r--r--   1 choigww  staff   36  2  1 22:45 script.py\r\n"
     ]
    }
   ],
   "source": [
    "!ls -al"
   ]
  },
  {
   "cell_type": "code",
   "execution_count": 266,
   "metadata": {},
   "outputs": [],
   "source": [
    "!touch script.py | printf 'import random\\nif __name__==\"__main__\":\\n    print(random.randint(1, 10))' > script.py"
   ]
  },
  {
   "cell_type": "code",
   "execution_count": 270,
   "metadata": {},
   "outputs": [
    {
     "name": "stdout",
     "output_type": "stream",
     "text": [
      "1\r\n"
     ]
    }
   ],
   "source": [
    "!python script.py"
   ]
  },
  {
   "cell_type": "code",
   "execution_count": 271,
   "metadata": {},
   "outputs": [
    {
     "name": "stdout",
     "output_type": "stream",
     "text": [
      "5\r\n"
     ]
    }
   ],
   "source": [
    "!python script.py"
   ]
  },
  {
   "cell_type": "code",
   "execution_count": 272,
   "metadata": {},
   "outputs": [
    {
     "name": "stdout",
     "output_type": "stream",
     "text": [
      "\u001b[1mdiff --git a/script.py b/script.py\u001b[m\r\n",
      "\u001b[1mindex f204280..74f2d5c 100644\u001b[m\r\n",
      "\u001b[1m--- a/script.py\u001b[m\r\n",
      "\u001b[1m+++ b/script.py\u001b[m\r\n",
      "\u001b[36m@@ -1 +1,3 @@\u001b[m\r\n",
      "\u001b[31m-if __name__==\"__main__\": print(\"10\")\u001b[m\r\n",
      "\\ No newline at end of file\u001b[m\r\n",
      "\u001b[32m+\u001b[m\u001b[32mimport random\u001b[m\r\n",
      "\u001b[32m+\u001b[m\u001b[32mif __name__==\"__main__\":\u001b[m\r\n",
      "\u001b[32m+\u001b[m\u001b[32m    print(random.randint(1, 10))\u001b[m\r\n",
      "\\ No newline at end of file\u001b[m\r\n"
     ]
    }
   ],
   "source": [
    "!git diff"
   ]
  },
  {
   "cell_type": "code",
   "execution_count": 273,
   "metadata": {
    "scrolled": true
   },
   "outputs": [
    {
     "name": "stdout",
     "output_type": "stream",
     "text": [
      "On branch master\r\n",
      "Changes not staged for commit:\r\n",
      "  (use \"git add <file>...\" to update what will be committed)\r\n",
      "  (use \"git checkout -- <file>...\" to discard changes in working directory)\r\n",
      "\r\n",
      "\t\u001b[31mmodified:   script.py\u001b[m\r\n",
      "\r\n",
      "no changes added to commit (use \"git add\" and/or \"git commit -a\")\r\n"
     ]
    }
   ],
   "source": [
    "!git status"
   ]
  },
  {
   "cell_type": "code",
   "execution_count": null,
   "metadata": {},
   "outputs": [],
   "source": []
  },
  {
   "cell_type": "markdown",
   "metadata": {},
   "source": [
    "### dataquest example\n",
    "```bash\n",
    "/home/dq/random_numbers$ nano script.py\n",
    "\n",
    "--- script.py\n",
    "\n",
    "import random\n",
    "\n",
    "if __name__ == \"__main__\": \n",
    "    print(random.randint(0,10))\n",
    "\n",
    "---\n",
    "\n",
    "/home/dq/random_numbers$ git diff\n",
    "\n",
    "diff --git a/script.py b/script.py                                \n",
    "index ca99880..889eee7 100644                                     \n",
    "--- a/script.py                                                   \n",
    "+++ b/script.py                                                   \n",
    "@@ -1,2 +1,4 @@                                                   \n",
    "+import random                                                    \n",
    "+                                                                 \n",
    " if __name__ == \"__main__\":                                       \n",
    "-       print(\"10\")                                               \n",
    "+       print(random.randint(0,10)) \n",
    "\n",
    "/home/dq/random_numbers$ git status\n",
    "\n",
    "On branch master                                                  \n",
    "Changes not staged for commit:                                    \n",
    "  (use \"git add <file>...\" to update what will be committed)      \n",
    "  (use \"git checkout -- <file>...\" to discard changes in working d\n",
    "irectory)                                                         \n",
    "                                                                  \n",
    "        modified:   script.py                                     \n",
    "                                                                  \n",
    "no changes added to commit (use \"git add\" and/or \"git commit -a\") \n",
    "\n",
    "```"
   ]
  },
  {
   "cell_type": "code",
   "execution_count": null,
   "metadata": {
    "collapsed": true
   },
   "outputs": [],
   "source": []
  },
  {
   "cell_type": "markdown",
   "metadata": {},
   "source": [
    "### Add the changes to the staging area\n",
    "\n",
    "```bash\n",
    "/home/dq/random_numbers$ git add script.py\n",
    "/home/dq/random_numbers$ git commit script.py -m \"modify script.py\"\n",
    "\n",
    "[master 9b3f977] modify script.py                                 \n",
    " 1 file changed, 3 insertions(+), 1 deletion(-)  \n",
    "```\n",
    "\n",
    "* We can pull up a repository's commit history using the git log command.\n",
    "  * We can scroll through the log with the up and down arrows, and use the q key to exit.\n",
    "  \n",
    "```bash\n",
    "/home/dq/random_numbers$ git log\n",
    "\n",
    "commit 9b3f9771c4daf16d23995733efeb1b33d982eccf                   \n",
    "Author: choi <choi@gmail.com>                                     \n",
    "Date:   Thu Nov 16 07:06:19 2017 +0000                            \n",
    "                                                                  \n",
    "    modify script.py                                              \n",
    "                                                                  \n",
    "commit 5f80e5990411499332634fb05194fb389cbd72a0                   \n",
    "Author: choi <choi@gmail.com>                                     \n",
    "Date:   Thu Nov 16 06:57:36 2017 +0000                            \n",
    "                                                                  \n",
    "    Initial commit. Added script.py and README.md\n",
    "```"
   ]
  },
  {
   "cell_type": "code",
   "execution_count": null,
   "metadata": {},
   "outputs": [],
   "source": []
  },
  {
   "cell_type": "code",
   "execution_count": 274,
   "metadata": {},
   "outputs": [],
   "source": [
    "!git add script.py"
   ]
  },
  {
   "cell_type": "code",
   "execution_count": 275,
   "metadata": {},
   "outputs": [
    {
     "name": "stdout",
     "output_type": "stream",
     "text": [
      "[master ef888b2] modify script.py\r\n",
      " 1 file changed, 3 insertions(+), 1 deletion(-)\r\n"
     ]
    }
   ],
   "source": [
    "!git commit script.py -m 'modify script.py'"
   ]
  },
  {
   "cell_type": "code",
   "execution_count": 276,
   "metadata": {},
   "outputs": [
    {
     "name": "stdout",
     "output_type": "stream",
     "text": [
      "\u001b[33mcommit ef888b227f8438c6877689c0fcac04accbd9e877\u001b[m\u001b[33m (\u001b[m\u001b[1;36mHEAD -> \u001b[m\u001b[1;32mmaster\u001b[m\u001b[33m)\u001b[m\r\n",
      "Author: choigww <choigww@gmail.com>\r\n",
      "Date:   Thu Feb 1 22:47:40 2018 +0900\r\n",
      "\r\n",
      "    modify script.py\r\n",
      "\r\n",
      "\u001b[33mcommit 1b6e55ec0654eb9982be90339565f09150b75ec0\u001b[m\r\n",
      "Author: choigww <choigww@gmail.com>\r\n",
      "Date:   Thu Feb 1 22:46:02 2018 +0900\r\n",
      "\r\n",
      "    git test first commit\r\n"
     ]
    }
   ],
   "source": [
    "!git log"
   ]
  },
  {
   "cell_type": "code",
   "execution_count": null,
   "metadata": {},
   "outputs": [],
   "source": []
  },
  {
   "cell_type": "markdown",
   "metadata": {},
   "source": [
    "### We can use `git log --stat` to see **more details** about the commits in the git log output.\n",
    "\n",
    "```bash\n",
    "/home/dq/random_numbers$ git log --stat\n",
    "\n",
    "commit 9b3f9771c4daf16d23995733efeb1b33d982eccf                   \n",
    "Author: choi <choi@gmail.com>                                     \n",
    "Date:   Thu Nov 16 07:06:19 2017 +0000                            \n",
    "                                                                  \n",
    "    modify script.py                                              \n",
    "                                                                  \n",
    " script.py | 4 +++-                                               \n",
    " 1 file changed, 3 insertions(+), 1 deletion(-)                   \n",
    "                                                                  \n",
    "commit 5f80e5990411499332634fb05194fb389cbd72a0                   \n",
    "Author: choi <choi@gmail.com>                                     \n",
    "Date:   Thu Nov 16 06:57:36 2017 +0000                            \n",
    "                                                                  \n",
    "    Initial commit. Added script.py and README.md                 \n",
    "                                                                  \n",
    " README.md | 1 +                                                  \n",
    " script.py | 2 ++                                                 \n",
    " 2 files changed, 3 insertions(+) \n",
    "```\n"
   ]
  },
  {
   "cell_type": "code",
   "execution_count": null,
   "metadata": {},
   "outputs": [],
   "source": []
  },
  {
   "cell_type": "code",
   "execution_count": 277,
   "metadata": {},
   "outputs": [
    {
     "name": "stdout",
     "output_type": "stream",
     "text": [
      "\u001b[33mcommit ef888b227f8438c6877689c0fcac04accbd9e877\u001b[m\u001b[33m (\u001b[m\u001b[1;36mHEAD -> \u001b[m\u001b[1;32mmaster\u001b[m\u001b[33m)\u001b[m\r\n",
      "Author: choigww <choigww@gmail.com>\r\n",
      "Date:   Thu Feb 1 22:47:40 2018 +0900\r\n",
      "\r\n",
      "    modify script.py\r\n",
      "\r\n",
      " script.py | 4 \u001b[32m+++\u001b[m\u001b[31m-\u001b[m\r\n",
      " 1 file changed, 3 insertions(+), 1 deletion(-)\r\n",
      "\r\n",
      "\u001b[33mcommit 1b6e55ec0654eb9982be90339565f09150b75ec0\u001b[m\r\n",
      "Author: choigww <choigww@gmail.com>\r\n",
      "Date:   Thu Feb 1 22:46:02 2018 +0900\r\n",
      "\r\n",
      "    git test first commit\r\n",
      "\r\n",
      " README.md | 1 \u001b[32m+\u001b[m\r\n",
      " script.py | 1 \u001b[32m+\u001b[m\r\n",
      " 2 files changed, 2 insertions(+)\r\n"
     ]
    }
   ],
   "source": [
    "!git log --stat"
   ]
  },
  {
   "cell_type": "code",
   "execution_count": null,
   "metadata": {},
   "outputs": [],
   "source": []
  },
  {
   "cell_type": "markdown",
   "metadata": {},
   "source": [
    "## 2. <a name='git-remotes'></a>Git Remotes"
   ]
  },
  {
   "cell_type": "markdown",
   "metadata": {},
   "source": [
    "Remote repositories also enable us to access and use code we didn't write. For instance, this repo will let us download Amazon's Deep Learning tools and start training models. Because the reposistory is public, anyone can download and use it. Repositories on GitHub can also be private, in which case they're hidden, and not accessible to others.<br>\n",
    "\n",
    "To download a remote repository to your own computer, you'll need to clone it. cloning copies a repository from one location (in this case, a remote one) to a folder on your computer. The repository retains all of its Git history, and you can work with it just like you would with a Git repository you created yourself.\n",
    "\n",
    "* Here's how we'd typically clone the Amazon Deep Learning repo from GitHub:\n",
    "\n",
    "```bash\n",
    "git clone https://github.com/amznlabs/amazon-dsstne.git\n",
    "````\n",
    "\n",
    "However, because we're working with a simplified remote repository for the purposes of this mission, we'll clone it a bit differently:\n",
    "\n",
    "```bash\n",
    "git clone /dataquest/user/git/chatbot\n",
    "```\n",
    "This will clone the repository from /dataquest/user/git/chatbot, a path on our local computer, to our current folder, and place it in a subfolder named chatbot."
   ]
  },
  {
   "cell_type": "markdown",
   "metadata": {},
   "source": [
    "If we specify a second argument to git clone, we can change the folder the repository saves to:\n",
    "\n",
    "```bash\n",
    "git clone /dataquest/user/git/chatbot silentbot\n",
    "```\n",
    "This command will place the chatbot repository in a folder called **silentbot**."
   ]
  },
  {
   "cell_type": "code",
   "execution_count": null,
   "metadata": {},
   "outputs": [],
   "source": []
  },
  {
   "cell_type": "markdown",
   "metadata": {},
   "source": [
    "### choigww's note!\n",
    "* Since this repository was not downloadable in any way, I manually created the same repository folder with the same contents introduced in the course.\n",
    "  * So the notebook codes further will start with `git clone` just like the dataquest course does.\n",
    "* To set the remote address, I created a temporary repository named as `chatbot`, however after this notebook practice is done, the repository will be deleted right away."
   ]
  },
  {
   "cell_type": "code",
   "execution_count": null,
   "metadata": {},
   "outputs": [],
   "source": []
  },
  {
   "cell_type": "markdown",
   "metadata": {},
   "source": [
    "Now that we've cloned a repository, we can makes changes to it, just like we did in the last mission. We'll be able to edit files, add them to the staging area, and then commit the changes. **The local version of the repo will then reflect the changes, but the remote version won't.**"
   ]
  },
  {
   "cell_type": "markdown",
   "metadata": {},
   "source": [
    "[Remote] --- git clone ---> [Local] -- git commit ---> [Local]"
   ]
  },
  {
   "cell_type": "code",
   "execution_count": null,
   "metadata": {},
   "outputs": [],
   "source": []
  },
  {
   "cell_type": "markdown",
   "metadata": {},
   "source": [
    "* cd into the /home/dq/chatbot folder to navigate to the chatbot repo.\n",
    "* Add the line This project needs no installation to the bottom of README.md.\n",
    "* Add your changes to the staging area using git add.\n",
    "* Commit your changes using git commit, with the commit message Updated README.md.\n",
    "* Run git status to see the status of the repo."
   ]
  },
  {
   "cell_type": "code",
   "execution_count": 1,
   "metadata": {},
   "outputs": [
    {
     "name": "stdout",
     "output_type": "stream",
     "text": [
      "/Users/choigww\n"
     ]
    }
   ],
   "source": [
    "%cd ~"
   ]
  },
  {
   "cell_type": "code",
   "execution_count": 2,
   "metadata": {},
   "outputs": [
    {
     "name": "stdout",
     "output_type": "stream",
     "text": [
      "/Users/choigww/git-test-folder\n"
     ]
    }
   ],
   "source": [
    "%cd git-test-folder/"
   ]
  },
  {
   "cell_type": "code",
   "execution_count": 3,
   "metadata": {},
   "outputs": [
    {
     "name": "stdout",
     "output_type": "stream",
     "text": [
      "Cloning into 'chatbot'...\n",
      "remote: Counting objects: 6, done.\u001b[K\n",
      "remote: Compressing objects: 100% (3/3), done.\u001b[K\n",
      "remote: Total 6 (delta 0), reused 3 (delta 0), pack-reused 0\u001b[K\n",
      "Unpacking objects: 100% (6/6), done.\n"
     ]
    }
   ],
   "source": [
    "!git clone https://github.com/choigww/chatbot.git"
   ]
  },
  {
   "cell_type": "code",
   "execution_count": 4,
   "metadata": {},
   "outputs": [
    {
     "name": "stdout",
     "output_type": "stream",
     "text": [
      "/Users/choigww/git-test-folder/chatbot\n"
     ]
    }
   ],
   "source": [
    "%cd chatbot"
   ]
  },
  {
   "cell_type": "code",
   "execution_count": 5,
   "metadata": {},
   "outputs": [
    {
     "name": "stdout",
     "output_type": "stream",
     "text": [
      "[master c568301] Updated README.md\r\n",
      " 1 file changed, 1 insertion(+)\r\n"
     ]
    }
   ],
   "source": [
    "!printf \" This project needs no installation\" >> README.md\n",
    "!git add README.md\n",
    "!git commit README.md -m 'Updated README.md'"
   ]
  },
  {
   "cell_type": "code",
   "execution_count": null,
   "metadata": {},
   "outputs": [],
   "source": []
  },
  {
   "cell_type": "markdown",
   "metadata": {},
   "source": [
    "```bash\n",
    "/home/dq$ cd chatbot/                                             \n",
    "/home/dq/chatbot$ ls -al                                          \n",
    "total 16                                                          \n",
    "drwxr-xr-x 3 dq dq 4096 Nov 16 07:21 .                            \n",
    "drwxr-xr-x 1 dq dq 4096 Nov 16 07:21 ..                           \n",
    "drwxr-xr-x 8 dq dq 4096 Nov 16 07:21 .git                         \n",
    "-rwxr-xr-x 1 dq dq  182 Nov 16 07:21 README.md                    \n",
    "/home/dq/chatbot$ echo \"This project needs no installation\" >> REA\n",
    "DME.md                                                            \n",
    "/home/dq/chatbot$ git commit README.md -m \"Updated README.md\"     \n",
    "[master 4cfc851] Updated README.md                                \n",
    " 1 file changed, 1 insertion(+), 1 deletion(-)                    \n",
    "/home/dq/chatbot$ git status                                      \n",
    "On branch master                                                  \n",
    "Your branch is ahead of 'origin/master' by 1 commit.              \n",
    "  (use \"git push\" to publish your local commits)                  \n",
    "                                                                  \n",
    "nothing to commit, working directory clean  \n",
    "```"
   ]
  },
  {
   "cell_type": "code",
   "execution_count": null,
   "metadata": {},
   "outputs": [],
   "source": []
  },
  {
   "cell_type": "markdown",
   "metadata": {},
   "source": [
    "#### Branches"
   ]
  },
  {
   "cell_type": "markdown",
   "metadata": {},
   "source": [
    "```bash\n",
    "/home/dq/chatbot$ git branch\n",
    "* master\n",
    "```\n",
    "\n",
    "Once we've made changes to the local version of a repo, we can push those changes to the remote repo so that everyone can see them. Edits we make locally are only reflected in our local repo. Unless we push them to the remote, the remote repo doesn't change.\n",
    "\n",
    "* To do this, we'll need to use the git push command, which **pushes commits from our local repo to the remote repo**. Here's a diagram showing what happens when we run git push:"
   ]
  },
  {
   "cell_type": "markdown",
   "metadata": {},
   "source": [
    "**[Remote]** --clone--> **[Local]** --commit--> **[Local]** --push--> **[Remote]**\n",
    "\n",
    "```bash\n",
    "/home/dq/chatbot$ git push origin master\n",
    "Counting objects: 5, done.                                          \n",
    "Delta compression using up to 16 threads.                           \n",
    "Compressing objects: 100% (2/2), done.                              \n",
    "Writing objects: 100% (3/3), 306 bytes | 0 bytes/s, done.           \n",
    "Total 3 (delta 1), reused 0 (delta 0)                               \n",
    "To /dataquest/user/git/chatbot                                      \n",
    "   f1bfcdf..4cfc851  master -> master   \n",
    "```"
   ]
  },
  {
   "cell_type": "code",
   "execution_count": null,
   "metadata": {},
   "outputs": [],
   "source": []
  },
  {
   "cell_type": "code",
   "execution_count": 6,
   "metadata": {
    "scrolled": true
   },
   "outputs": [
    {
     "name": "stdout",
     "output_type": "stream",
     "text": [
      "Counting objects: 3, done.\n",
      "Delta compression using up to 4 threads.\n",
      "Compressing objects: 100% (2/2), done.\n",
      "Writing objects: 100% (3/3), 307 bytes | 307.00 KiB/s, done.\n",
      "Total 3 (delta 1), reused 0 (delta 0)\n",
      "remote: Resolving deltas: 100% (1/1), completed with 1 local object.\u001b[K\n",
      "To https://github.com/choigww/chatbot.git\n",
      "   2dd4f2f..c568301  master -> master\n"
     ]
    }
   ],
   "source": [
    "!git push origin master"
   ]
  },
  {
   "cell_type": "code",
   "execution_count": 7,
   "metadata": {},
   "outputs": [
    {
     "name": "stdout",
     "output_type": "stream",
     "text": [
      "On branch master\r\n",
      "Your branch is up-to-date with 'origin/master'.\r\n",
      "\r\n",
      "nothing to commit, working tree clean\r\n"
     ]
    }
   ],
   "source": [
    "!git status"
   ]
  },
  {
   "cell_type": "code",
   "execution_count": 8,
   "metadata": {},
   "outputs": [
    {
     "name": "stdout",
     "output_type": "stream",
     "text": [
      "* \u001b[32mmaster\u001b[m\r\n"
     ]
    }
   ],
   "source": [
    "!git branch"
   ]
  },
  {
   "cell_type": "code",
   "execution_count": null,
   "metadata": {},
   "outputs": [],
   "source": []
  },
  {
   "cell_type": "markdown",
   "metadata": {},
   "source": [
    "#### Viewing Individual Commits\n",
    "\n",
    "You can see the full commit history of the master branch of the local chatbot repo with `git log`. Here's the output you might get from `git log`:\n",
    "\n",
    "```bash\n",
    "commit 6a95e94ea10caa28013b767510d4bc59369d83fa                                 \n",
    "Author: Dataquest <me@dataquest.io>                                             \n",
    "Date:   Wed May 18 21:56:27 2016 +0000                                          \n",
    "\n",
    "    Updated README.md                                                           \n",
    "\n",
    "commit 8a1ca35dd5c5de8f93aa6cbbd153caa40233386c                                 \n",
    "Author: Dataquest <me@dataquest.io>                                             \n",
    "Date:   Wed May 18 21:55:33 2016 +0000                                          \n",
    "\n",
    "    Add the initial version of README.md    \n",
    "</me@dataquest.io></me@dataquest.io>\n",
    "```"
   ]
  },
  {
   "cell_type": "code",
   "execution_count": null,
   "metadata": {},
   "outputs": [],
   "source": []
  },
  {
   "cell_type": "code",
   "execution_count": 9,
   "metadata": {},
   "outputs": [
    {
     "name": "stdout",
     "output_type": "stream",
     "text": [
      "\u001b[33mcommit c568301e2e881461bbf90e5cbf22b381de92e09f\u001b[m\u001b[33m (\u001b[m\u001b[1;36mHEAD -> \u001b[m\u001b[1;32mmaster\u001b[m\u001b[33m, \u001b[m\u001b[1;31morigin/master\u001b[m\u001b[33m, \u001b[m\u001b[1;31morigin/HEAD\u001b[m\u001b[33m)\u001b[m\r\n",
      "Author: choigww <choigww@gmail.com>\r\n",
      "Date:   Thu Feb 1 23:19:53 2018 +0900\r\n",
      "\r\n",
      "    Updated README.md\r\n",
      "\r\n",
      "\u001b[33mcommit 2dd4f2fc65dac0c8ed6f14e13e880be82f6e46fd\u001b[m\r\n",
      "Author: choigww <choigww@gmail.com>\r\n",
      "Date:   Thu Feb 1 23:18:27 2018 +0900\r\n",
      "\r\n",
      "    add README\r\n",
      "\r\n",
      "\u001b[33mcommit caded2fb37f0ff89d53dfb038322701a389e7dff\u001b[m\r\n",
      "Author: Kyu Hyung Choi <choigww@gmail.com>\r\n",
      "Date:   Thu Feb 1 22:48:45 2018 +0900\r\n",
      "\r\n",
      "    Initial commit\r\n"
     ]
    }
   ],
   "source": [
    "!git log"
   ]
  },
  {
   "cell_type": "code",
   "execution_count": 10,
   "metadata": {
    "scrolled": true
   },
   "outputs": [
    {
     "name": "stdout",
     "output_type": "stream",
     "text": [
      "\u001b[33mcommit c568301e2e881461bbf90e5cbf22b381de92e09f\u001b[m\u001b[33m (\u001b[m\u001b[1;36mHEAD -> \u001b[m\u001b[1;32mmaster\u001b[m\u001b[33m, \u001b[m\u001b[1;31morigin/master\u001b[m\u001b[33m, \u001b[m\u001b[1;31morigin/HEAD\u001b[m\u001b[33m)\u001b[m\r\n",
      "Author: choigww <choigww@gmail.com>\r\n",
      "Date:   Thu Feb 1 23:19:53 2018 +0900\r\n",
      "\r\n",
      "    Updated README.md\r\n",
      "\r\n",
      "\u001b[1mdiff --git a/README.md b/README.md\u001b[m\r\n",
      "\u001b[1mindex 6113605..975d603 100644\u001b[m\r\n",
      "\u001b[1m--- a/README.md\u001b[m\r\n",
      "\u001b[1m+++ b/README.md\u001b[m\r\n",
      "\u001b[36m@@ -3,3 +3,4 @@\u001b[m\r\n",
      " README\u001b[m\r\n",
      " \u001b[m\r\n",
      " This is a README file. It's typical for Github projects to have a $README$.\u001b[m\r\n",
      "\u001b[32m+\u001b[m\u001b[32m This project needs no installation\u001b[m\r\n",
      "\\ No newline at end of file\u001b[m\r\n"
     ]
    }
   ],
   "source": [
    "!git show"
   ]
  },
  {
   "cell_type": "code",
   "execution_count": null,
   "metadata": {
    "collapsed": true
   },
   "outputs": [],
   "source": []
  },
  {
   "cell_type": "markdown",
   "metadata": {},
   "source": [
    "The great thing about Git is that \n",
    "### it stores both commits, so we can quickly revert back to a previous commit if we want to.\n",
    "\n",
    "To do this, we'd need to use the commit's hash, or unique identifier. Hashes allow us to perform operations like revert to a specific commit. We can find **the hash for a commit** in the output from `git log`. In the output we generated above, the first commit has the ID `8a1ca35dd5c5de8f93aa6cbbd153caa40233386c`, and the second commit has the ID `6a95e94ea10caa28013b767510d4bc59369d83fa`."
   ]
  },
  {
   "cell_type": "code",
   "execution_count": null,
   "metadata": {
    "collapsed": true
   },
   "outputs": [],
   "source": []
  },
  {
   "cell_type": "code",
   "execution_count": 11,
   "metadata": {},
   "outputs": [
    {
     "name": "stdout",
     "output_type": "stream",
     "text": [
      "\u001b[33mcommit 2dd4f2fc65dac0c8ed6f14e13e880be82f6e46fd\u001b[m\r\n",
      "Author: choigww <choigww@gmail.com>\r\n",
      "Date:   Thu Feb 1 23:18:27 2018 +0900\r\n",
      "\r\n",
      "    add README\r\n",
      "\r\n",
      "\u001b[1mdiff --git a/README.md b/README.md\u001b[m\r\n",
      "\u001b[1mindex da15e2c..6113605 100644\u001b[m\r\n",
      "\u001b[1m--- a/README.md\u001b[m\r\n",
      "\u001b[1m+++ b/README.md\u001b[m\r\n",
      "\u001b[36m@@ -1 +1,5 @@\u001b[m\r\n",
      "\u001b[31m-# chatbot\u001b[m\r\n",
      "\\ No newline at end of file\u001b[m\r\n",
      "\u001b[32m+\u001b[m\u001b[32m# chatbot\u001b[m\r\n",
      "\u001b[32m+\u001b[m\r\n",
      "\u001b[32m+\u001b[m\u001b[32mREADME\u001b[m\r\n",
      "\u001b[32m+\u001b[m\r\n",
      "\u001b[32m+\u001b[m\u001b[32mThis is a README file. It's typical for Github projects to have a $README$.\u001b[m\r\n"
     ]
    }
   ],
   "source": [
    "!git show 2dd4f2fc65dac0c8ed6f14e13e880be82f6e46fd"
   ]
  },
  {
   "cell_type": "code",
   "execution_count": 12,
   "metadata": {},
   "outputs": [
    {
     "name": "stdout",
     "output_type": "stream",
     "text": [
      "\u001b[33mcommit c568301e2e881461bbf90e5cbf22b381de92e09f\u001b[m\u001b[33m (\u001b[m\u001b[1;36mHEAD -> \u001b[m\u001b[1;32mmaster\u001b[m\u001b[33m, \u001b[m\u001b[1;31morigin/master\u001b[m\u001b[33m, \u001b[m\u001b[1;31morigin/HEAD\u001b[m\u001b[33m)\u001b[m\r\n",
      "Author: choigww <choigww@gmail.com>\r\n",
      "Date:   Thu Feb 1 23:19:53 2018 +0900\r\n",
      "\r\n",
      "    Updated README.md\r\n",
      "\r\n",
      "\u001b[1mdiff --git a/README.md b/README.md\u001b[m\r\n",
      "\u001b[1mindex 6113605..975d603 100644\u001b[m\r\n",
      "\u001b[1m--- a/README.md\u001b[m\r\n",
      "\u001b[1m+++ b/README.md\u001b[m\r\n",
      "\u001b[36m@@ -3,3 +3,4 @@\u001b[m\r\n",
      " README\u001b[m\r\n",
      " \u001b[m\r\n",
      " This is a README file. It's typical for Github projects to have a $README$.\u001b[m\r\n",
      "\u001b[32m+\u001b[m\u001b[32m This project needs no installation\u001b[m\r\n",
      "\\ No newline at end of file\u001b[m\r\n"
     ]
    }
   ],
   "source": [
    "!git show c568301e2e881461bbf90e5cbf22b381de92e09f"
   ]
  },
  {
   "cell_type": "code",
   "execution_count": null,
   "metadata": {},
   "outputs": [],
   "source": []
  },
  {
   "cell_type": "markdown",
   "metadata": {},
   "source": [
    "We can use the `git show` command with a hash to see what changed in a specific commit. For example, running `git show 6a95e94ea10caa28013b767510d4bc59369d83fa` would return:\n",
    "\n",
    "```bash\n",
    "commit 6a95e94ea10caa28013b767510d4bc59369d83fa                                 \n",
    "Author: Dataquest <me@dataquest.io>                                             \n",
    "Date:   Wed May 18 21:56:27 2016 +0000                                          \n",
    "\n",
    "    Updated README.md                                                           \n",
    "\n",
    "diff --git a/README.md b/README.md                                              \n",
    "index f4871de..9c05964 100644                                                   \n",
    "--- a/README.md                                                                 \n",
    "+++ b/README.md                                                                 \n",
    "@@ -1,3 +1,3 @@                                                                 \n",
    " README\n",
    "\n",
    "-This is a README file.  It's typical for GitHub projects to have a README.  A README gives information about what the project is about, and usually how to install and use it.\n",
    "\\ No newline at end of file                                                     \n",
    "+This is a README file.  It's typical for GitHub projects to have a README.  A README gives information about what the project is about, and usually how to install and use it.This project needs no installation!\n",
    "</me@dataquest.io>\n",
    "```"
   ]
  },
  {
   "cell_type": "code",
   "execution_count": null,
   "metadata": {},
   "outputs": [],
   "source": []
  },
  {
   "cell_type": "markdown",
   "metadata": {},
   "source": [
    "This output indicates that someone changed the `README.md` file in this commit, and added the line `This project needs no installation!`. `a/README.md` is the file state before the commit, and `b/README.md` is the file state after the commit.\n",
    "\n",
    "`git show` will allow us to scroll up and down and side to side. We can exit by typing `q`."
   ]
  },
  {
   "cell_type": "code",
   "execution_count": null,
   "metadata": {},
   "outputs": [],
   "source": []
  },
  {
   "cell_type": "markdown",
   "metadata": {},
   "source": [
    "### Now that we know about commit hashes, we can use them to switch to a specific commit. \n",
    "Switching between commits allows us to quickly move between different historical versions of a project. \n",
    "\n",
    "### If we introduce a change that causes issues and want to revert to an earlier version, for example, switching between commits will let us do so.\n",
    "\n",
    "**Commit hashes are permanent;** Git preserves them and includes them **in transfers between the local repo and the remote repo**. For instance, let's say we have two commits, c12 and c53. The following diagram shows what happens to them as we clone, commit, and push."
   ]
  },
  {
   "cell_type": "markdown",
   "metadata": {},
   "source": [
    "**Remote(c12)** --clone--> **Local(c12)** --commit--> **Local(c53)** --push-> **Remote(c53)**"
   ]
  },
  {
   "cell_type": "code",
   "execution_count": null,
   "metadata": {},
   "outputs": [],
   "source": []
  },
  {
   "cell_type": "markdown",
   "metadata": {},
   "source": [
    "c12 originally existed on the remote, but when we pulled it locally, the commit kept the same hash. This is because the commit is the same in the remote and our local repo -- the same changes were made to the same files."
   ]
  },
  {
   "cell_type": "markdown",
   "metadata": {},
   "source": [
    "When we changed a file and made a commit locally, Git gave it the hash c53. When we pushed this commit to the remote later on, it kept the same hash because it was still the same commit. In the diagram above, both the local repo and the remote repo have two commits, c12 and c53. \n",
    "* We can switch between commits in the local repo without changing what commits are in the remote repo. We can do this with the git reset command:"
   ]
  },
  {
   "cell_type": "markdown",
   "metadata": {},
   "source": [
    "* **Local(c12)** --`git commit`--> **Local(c53)**\n",
    "\n",
    "* **Local(c53)** --`git reset --hard c12`--> **Local(12)**"
   ]
  },
  {
   "cell_type": "markdown",
   "metadata": {},
   "source": [
    "The `--hard` flag resets both the working directory and the Git history to a specific state. \n",
    "* If we omitted the flag, or used the `--soft` flag instead, it would **skip making changes to the working directory, and only reset the Git history.**"
   ]
  },
  {
   "cell_type": "code",
   "execution_count": null,
   "metadata": {},
   "outputs": [],
   "source": []
  },
  {
   "cell_type": "code",
   "execution_count": 13,
   "metadata": {},
   "outputs": [
    {
     "name": "stdout",
     "output_type": "stream",
     "text": [
      "\u001b[33mcommit c568301e2e881461bbf90e5cbf22b381de92e09f\u001b[m\u001b[33m (\u001b[m\u001b[1;36mHEAD -> \u001b[m\u001b[1;32mmaster\u001b[m\u001b[33m, \u001b[m\u001b[1;31morigin/master\u001b[m\u001b[33m, \u001b[m\u001b[1;31morigin/HEAD\u001b[m\u001b[33m)\u001b[m\r\n",
      "Author: choigww <choigww@gmail.com>\r\n",
      "Date:   Thu Feb 1 23:19:53 2018 +0900\r\n",
      "\r\n",
      "    Updated README.md\r\n",
      "\r\n",
      "\u001b[33mcommit 2dd4f2fc65dac0c8ed6f14e13e880be82f6e46fd\u001b[m\r\n",
      "Author: choigww <choigww@gmail.com>\r\n",
      "Date:   Thu Feb 1 23:18:27 2018 +0900\r\n",
      "\r\n",
      "    add README\r\n",
      "\r\n",
      "\u001b[33mcommit caded2fb37f0ff89d53dfb038322701a389e7dff\u001b[m\r\n",
      "Author: Kyu Hyung Choi <choigww@gmail.com>\r\n",
      "Date:   Thu Feb 1 22:48:45 2018 +0900\r\n",
      "\r\n",
      "    Initial commit\r\n"
     ]
    }
   ],
   "source": [
    "!git log"
   ]
  },
  {
   "cell_type": "code",
   "execution_count": 14,
   "metadata": {},
   "outputs": [
    {
     "name": "stdout",
     "output_type": "stream",
     "text": [
      "HEAD is now at 2dd4f2f add README\r\n"
     ]
    }
   ],
   "source": [
    "!git reset --hard 2dd4f2fc65dac0c8ed6f14e13e880be82f6e46fd"
   ]
  },
  {
   "cell_type": "code",
   "execution_count": null,
   "metadata": {},
   "outputs": [],
   "source": []
  },
  {
   "cell_type": "markdown",
   "metadata": {},
   "source": [
    "```bash\n",
    "/home/dq/chatbot$ git log                                                    \n",
    "commit 62b6226547b9f3280c572e28db55012b342f661d                              \n",
    "Author: Dataquest <me@dataquest.io>                                          \n",
    "Date:   Thu Nov 16 08:31:12 2017 +0000                                       \n",
    "                                                                             \n",
    "    Updated README.md                                                        \n",
    "                                                                             \n",
    "commit ac26d53c8ab859d8dd4f39df0eb5080245372513                              \n",
    "Author: Dataquest <me@dataquest.io>                                          \n",
    "Date:   Thu Nov 16 08:31:11 2017 +0000                                       \n",
    "                                                                             \n",
    "    Add the initial version of README.md                                     \n",
    "/home/dq/chatbot$ git reset --hard ac26d53c8ab859d8dd4f39df0eb5080245372513  \n",
    "HEAD is now at ac26d53 Add the initial version of README.md  \n",
    "```"
   ]
  },
  {
   "cell_type": "code",
   "execution_count": null,
   "metadata": {},
   "outputs": [],
   "source": []
  },
  {
   "cell_type": "markdown",
   "metadata": {},
   "source": [
    "Now that we've reverted our local chatbot repo to an older version, the remote repo actually has a newer commit that our local repo doesn't have."
   ]
  },
  {
   "cell_type": "markdown",
   "metadata": {},
   "source": [
    "which commits exist in which locations:\n",
    "* Remote(c12) **current state**\n",
    "    * Remote(c53) **latest commit**\n",
    "* Local(c12) **current state**"
   ]
  },
  {
   "cell_type": "code",
   "execution_count": null,
   "metadata": {},
   "outputs": [],
   "source": []
  },
  {
   "cell_type": "markdown",
   "metadata": {},
   "source": [
    "### When the latest commit in our local repo is older than the latest commit in the remote repo, \n",
    "we can use `git pull` to update the current branch with the latest commits. The git pull command will also update our working directory so that it has the same files as the latest commit.\n",
    "\n",
    "* In our case, we'll be updating the master branch, because the chatbot repo only has a single branch."
   ]
  },
  {
   "cell_type": "markdown",
   "metadata": {},
   "source": [
    "```bash\n",
    "/home/dq/chatbot$ git pull                                             \n",
    "Updating ac26d53c8ab859d8dd4f39df0eb5080245372513\n",
    "Fast-forward                                                           \n",
    "README.md | 2 +-                                                      \n",
    " 1 file changed, 1 insertion(+), 1 deletion(-) \n",
    "```"
   ]
  },
  {
   "cell_type": "code",
   "execution_count": null,
   "metadata": {},
   "outputs": [],
   "source": []
  },
  {
   "cell_type": "code",
   "execution_count": 15,
   "metadata": {},
   "outputs": [
    {
     "name": "stdout",
     "output_type": "stream",
     "text": [
      "Updating 2dd4f2f..c568301\r\n",
      "Fast-forward\r\n",
      " README.md | 1 \u001b[32m+\u001b[m\r\n",
      " 1 file changed, 1 insertion(+)\r\n"
     ]
    }
   ],
   "source": [
    "!git pull"
   ]
  },
  {
   "cell_type": "code",
   "execution_count": null,
   "metadata": {},
   "outputs": [],
   "source": []
  },
  {
   "cell_type": "code",
   "execution_count": 17,
   "metadata": {},
   "outputs": [
    {
     "name": "stdout",
     "output_type": "stream",
     "text": [
      "HEAD is now at caded2f Initial commit\r\n"
     ]
    }
   ],
   "source": [
    "!git reset --hard caded2fb37f0ff89d53dfb038322701a389e7dff"
   ]
  },
  {
   "cell_type": "code",
   "execution_count": 18,
   "metadata": {},
   "outputs": [
    {
     "name": "stdout",
     "output_type": "stream",
     "text": [
      "Updating caded2f..c568301\n",
      "Fast-forward\n",
      " README.md | 7 \u001b[32m++++++\u001b[m\u001b[31m-\u001b[m\n",
      " 1 file changed, 6 insertions(+), 1 deletion(-)\n"
     ]
    }
   ],
   "source": [
    "!git pull"
   ]
  },
  {
   "cell_type": "code",
   "execution_count": null,
   "metadata": {},
   "outputs": [],
   "source": []
  },
  {
   "cell_type": "markdown",
   "metadata": {},
   "source": [
    "When using Git, we'll often want to refer to the most recent commit. While we can use the full commit hash, that approach can be cumbersome. \n",
    "### Fortunately, Git has a special variable called `HEAD` that always refers to the most recent commit in the current branch.\n",
    "**We can use the `HEAD` variable to switch to the most recent commit more easily**. Let's say we modify a file and then want to undo our changes; using `HEAD` will revert the working directory to the state of the most recent commit.\n",
    "* We can also use shortcuts to get older commit hashes. \n",
    "  * `HEAD~1` will get the second newest commit in the local repo, \n",
    "  * `HEAD~2` will get the third newest commit, and so on. \n",
    "  \n",
    "Here's a diagram of a local repo where 646 is the newest hash on the master branch, and c12 is the oldest:\n",
    "\n",
    "Local Commit Hash | HEAD Reference\n",
    ":---:|:---:\n",
    "c12|HEAD~4\n",
    "c53|HEAD~3\n",
    "d24|HEAD~2\n",
    "t35|HEAD~1\n",
    "646|HEAD\n",
    "\n",
    "We can use [git rev-parse](https://git-scm.com/docs/git-rev-parse) along with the `HEAD` variable **to find the commit hash corresponding to a particular commit number**. In the diagram above, `git rev-parse HEAD` will return `646`, and `git rev-parse HEAD~3` will return `c53`."
   ]
  },
  {
   "cell_type": "code",
   "execution_count": null,
   "metadata": {},
   "outputs": [],
   "source": []
  },
  {
   "cell_type": "code",
   "execution_count": 28,
   "metadata": {},
   "outputs": [
    {
     "name": "stdout",
     "output_type": "stream",
     "text": [
      "c568301e2e881461bbf90e5cbf22b381de92e09f\r\n"
     ]
    }
   ],
   "source": [
    "!git rev-parse HEAD"
   ]
  },
  {
   "cell_type": "code",
   "execution_count": 29,
   "metadata": {},
   "outputs": [
    {
     "name": "stdout",
     "output_type": "stream",
     "text": [
      "2dd4f2fc65dac0c8ed6f14e13e880be82f6e46fd\r\n"
     ]
    }
   ],
   "source": [
    "!git rev-parse HEAD~1"
   ]
  },
  {
   "cell_type": "code",
   "execution_count": 32,
   "metadata": {},
   "outputs": [
    {
     "name": "stdout",
     "output_type": "stream",
     "text": [
      "\u001b[1mdiff --git a/README.md b/README.md\u001b[m\r\n",
      "\u001b[1mindex 975d603..6113605 100644\u001b[m\r\n",
      "\u001b[1m--- a/README.md\u001b[m\r\n",
      "\u001b[1m+++ b/README.md\u001b[m\r\n",
      "\u001b[36m@@ -3,4 +3,3 @@\u001b[m\r\n",
      " README\u001b[m\r\n",
      " \u001b[m\r\n",
      " This is a README file. It's typical for Github projects to have a $README$.\u001b[m\r\n",
      "\u001b[31m- This project needs no installation\u001b[m\r\n",
      "\\ No newline at end of file\u001b[m\r\n"
     ]
    }
   ],
   "source": [
    "!git diff c568301e2e881461bbf90e5cbf22b381de92e09f 2dd4f2fc65dac0c8ed6f14e13e880be82f6e46fd"
   ]
  },
  {
   "cell_type": "code",
   "execution_count": null,
   "metadata": {},
   "outputs": [],
   "source": []
  },
  {
   "cell_type": "markdown",
   "metadata": {},
   "source": [
    "```bash\n",
    "/home/dq/chatbot$ git rev-parse HEAD~1                                 \n",
    "ac26d53c8ab859d8dd4f39df0eb5080245372513                               \n",
    "/home/dq/chatbot$ git rev-parse HEAD~2                                 \n",
    "HEAD~2                                                                 \n",
    "fatal: ambiguous argument 'HEAD~2': unknown revision or path not in the\n",
    " working tree.                                                         \n",
    "Use '--' to separate paths from revisions, like this:                  \n",
    "'git <command> [<revision>...] -- [<file>...]'                         \n",
    "/home/dq/chatbot$ git reset HEAD~1                                     \n",
    "Unstaged changes after reset:                                          \n",
    "M       README.md  \n",
    "```"
   ]
  },
  {
   "cell_type": "code",
   "execution_count": null,
   "metadata": {},
   "outputs": [],
   "source": []
  },
  {
   "cell_type": "markdown",
   "metadata": {},
   "source": [
    "## 3. <a name='git-branches'></a>Git Branches"
   ]
  },
  {
   "cell_type": "markdown",
   "metadata": {},
   "source": [
    "### choigww's note again!\n",
    "* For this course on git branches, I re-used the `chatbot` repository manually again.\n",
    "* Works to make the course environment includes:\n",
    "  * create/modify some files\n",
    "  * push the modified contents to the previous `chatbot` repo\n",
    "  * delete the local repo in the chatbot folder\n",
    "  * re-clone the remote `chatbot` repo just changed for this course."
   ]
  },
  {
   "cell_type": "code",
   "execution_count": null,
   "metadata": {},
   "outputs": [],
   "source": []
  },
  {
   "cell_type": "code",
   "execution_count": 49,
   "metadata": {},
   "outputs": [
    {
     "data": {
      "text/plain": [
       "'/Users/choigww/git-test-folder/chatbot'"
      ]
     },
     "execution_count": 49,
     "metadata": {},
     "output_type": "execute_result"
    }
   ],
   "source": [
    "%pwd"
   ]
  },
  {
   "cell_type": "markdown",
   "metadata": {},
   "source": [
    "--- made some modification on local `chatbot` repo ---"
   ]
  },
  {
   "cell_type": "code",
   "execution_count": 50,
   "metadata": {},
   "outputs": [
    {
     "name": "stdout",
     "output_type": "stream",
     "text": [
      "README.md\r\n"
     ]
    }
   ],
   "source": [
    "!ls"
   ]
  },
  {
   "cell_type": "code",
   "execution_count": 51,
   "metadata": {},
   "outputs": [],
   "source": [
    "!touch bot.py | printf 'if __name__ == \"__main__\":\\n    print(\"Hello, lets chat!\")' > bot.py\n",
    "\n",
    "!rm README.md\n",
    "!touch README.md\n",
    "!printf \"Chatbot\\n-----------\\n\\nThis is the chatbot project. The bot can have a dialogue with whoever runs the script.\" > README.md\n",
    "!printf \"\\n\\n## Installation\\n* Just have Python 3 on your machine.\\n\\n ## Usage\\n* Run python bot.py, then see what the bot has to say!\" >> README.md"
   ]
  },
  {
   "cell_type": "code",
   "execution_count": 52,
   "metadata": {},
   "outputs": [
    {
     "name": "stdout",
     "output_type": "stream",
     "text": [
      "if __name__ == \"__main__\":\r\n",
      "    print(\"Hello, lets chat!\")"
     ]
    }
   ],
   "source": [
    "!cat bot.py"
   ]
  },
  {
   "cell_type": "code",
   "execution_count": 53,
   "metadata": {},
   "outputs": [
    {
     "name": "stdout",
     "output_type": "stream",
     "text": [
      "Chatbot\r\n",
      "-----------\r\n",
      "\r\n",
      "This is the chatbot project. The bot can have a dialogue with whoever runs the script.\r\n",
      "\r\n",
      "## Installation\r\n",
      "* Just have Python 3 on your machine.\r\n",
      "\r\n",
      " ## Usage\r\n",
      "* Run python bot.py, then see what the bot has to say!"
     ]
    }
   ],
   "source": [
    "!cat README.md"
   ]
  },
  {
   "cell_type": "code",
   "execution_count": null,
   "metadata": {},
   "outputs": [],
   "source": []
  },
  {
   "cell_type": "code",
   "execution_count": 54,
   "metadata": {},
   "outputs": [
    {
     "name": "stdout",
     "output_type": "stream",
     "text": [
      "[master dd5691d] update chatbot repo for following course\n",
      "Counting objects: 8, done.\n",
      "Delta compression using up to 4 threads.\n",
      "Compressing objects: 100% (7/7), done.\n",
      "Writing objects: 100% (8/8), 974 bytes | 974.00 KiB/s, done.\n",
      "Total 8 (delta 1), reused 0 (delta 0)\n",
      "remote: Resolving deltas: 100% (1/1), completed with 1 local object.\u001b[K\n",
      "To https://github.com/choigww/chatbot.git\n",
      "   c568301..dd5691d  master -> master\n"
     ]
    }
   ],
   "source": [
    "!git add .\n",
    "!git commit -m 'update chatbot repo for following course'\n",
    "!git push origin master"
   ]
  },
  {
   "cell_type": "code",
   "execution_count": null,
   "metadata": {},
   "outputs": [],
   "source": []
  },
  {
   "cell_type": "markdown",
   "metadata": {},
   "source": [
    "### Introduction to Git Branches"
   ]
  },
  {
   "cell_type": "markdown",
   "metadata": {},
   "source": [
    "As you may recall from the last mission, it's very common for large teams to use Git. That's because Git enables smooth collaboration between many programmers who are all making changes to a repo at the same time.\n",
    "\n",
    "* Even so, this type of situation makes it difficult for everyone to work off of the master branch. To understand why, let's imagine that we start out with two files, bot.py and README.md:"
   ]
  },
  {
   "cell_type": "markdown",
   "metadata": {},
   "source": [
    "![1](img/1.png)"
   ]
  },
  {
   "cell_type": "markdown",
   "metadata": {},
   "source": [
    "Let's say we have three people working on a team -- `Seashell Sally`, `Rocky Raccoon`, and `Superman`. Each person makes the following changes:\n",
    "\n",
    "![2](img/2.png)\n",
    "![3](img/3.png)\n",
    "\n",
    "Each person commits their changes. Because they're all working on the master branch, the commit history will end up looking like this:\n",
    "\n",
    "Remote|Superman|Rocky|Sally\n",
    "---|---|---|---\n",
    "f34|f34<br>b53|f34<br>456|f34<br>765\n",
    "\n",
    "<br>\n",
    "Notice that the most recent commit is different for each person. What's even worse is that all of the commits make changes to the same files. There's no way for Git to determine which changes are the \"correct\" ones, so the team members will have issues if they all try to push to the remote. Let's see what happens when Superman pushes his changes:\n",
    "\n",
    "Remote|Superman|Rocky|Sally\n",
    "---|---|---|---\n",
    "**f34<br>b53**|**f34<br>b53**|f34<br>456|f34<br>765\n",
    "\n",
    "<br>\n",
    "Now Rocky and Sally can't push to the remote, because commits `456` and `765` **conflict with Superman's commit `b53`**. Rocky, Sally, and Superman edited the same lines in the same files. This results in something called a merge conflict, which is painful to fix, and something we'll talk about in the next mission.<br>\n",
    "\n",
    "Luckily, Git gives us **a few ways to avoid merge conflicts**. The best method involves using branches. Similar to the way tree branches diverge from the trunk, Git branches allow us to create several different work areas within the same repo. It's common to create a new branch whenever we want to make a change to a project, and then merge that branch back into the master branch when we're done.<br>\n",
    "\n",
    "Here's an example where Superman, Rocky, and Sally each make their own branches:\n",
    "\n",
    "Remote|Superman||Rocky||Sally|\n",
    "---|---|---|---|---|---|---\n",
    "master|master|enhancement|master|rocky|master|shells\n",
    "f34|f34|f34<br>b53|f34|f34<br>456|f34|f34<br>765\n",
    "\n",
    "Each of them originally pulled the master branch, which has the commit `f34`. Then they created separate branches; Superman created `enchancement`, Rocky created `rocky`, and Sally created `shells`. They each made a commit on their own branch.<br>\n",
    "\n",
    "When each person pushes their branch to the remote, Git stores it separately so that it doesn't conflict with everyone else's changes. Afterwards, the remote will have the branches `master`, `enhancement`, `rocky`, and `shells`. While the team will eventually want to merge all of the branches into master, using branches allows them to make changes to the repo separately while avoiding conflicts.<br>\n",
    "\n",
    "There are also other benefits to using branches. Imagine that Sally wants to make `10` more commits before merging, and Rocky wants to make `2`. Working on different branches will make their software development process go much faster.<br>\n",
    "\n",
    "We can create a branch with the [git branch](https://git-scm.com/docs/git-branch) command. For example, `git branch rocky` will create a branch called `rocky`.<br>\n",
    "\n",
    "Afterwards, we can switch to the new branch using the [git checkout](https://git-scm.com/docs/git-checkout) command. To do this, we'd type `git checkout rocky`. Alternatively, we can create a shortcut by combining the two commands with `git checkout -b rocky`. \n",
    "* This will **create a branch named `rocky` and then switch to it right away**, without our having to type a second, separate command.\n"
   ]
  },
  {
   "cell_type": "code",
   "execution_count": null,
   "metadata": {},
   "outputs": [],
   "source": []
  },
  {
   "cell_type": "markdown",
   "metadata": {
    "collapsed": true
   },
   "source": [
    "* Clone the repo `chatbot` from `/dataquest/user/git/chatbot to /home/dq/chatbot`.\n",
    "* Create a branch called `more-speech` in the repo `chatbot`.\n",
    "* Switch to the branch `more-speech`.\n",
    "* Run `bot.py` using `python` to see what happens."
   ]
  },
  {
   "cell_type": "code",
   "execution_count": 56,
   "metadata": {},
   "outputs": [
    {
     "name": "stdout",
     "output_type": "stream",
     "text": [
      "Switched to a new branch 'more-speech'\n",
      "Hello, lets chat!\n"
     ]
    }
   ],
   "source": [
    "!git checkout -b more-speech\n",
    "!python bot.py"
   ]
  },
  {
   "cell_type": "code",
   "execution_count": null,
   "metadata": {},
   "outputs": [],
   "source": []
  },
  {
   "cell_type": "markdown",
   "metadata": {},
   "source": [
    "### Switching Branches\n",
    "\n",
    "Once we create a new branch, we can make changes to it the same way we change the `master` branch. We just have to alter the files, add them to the staging area, and then commit them.<br>\n",
    "\n",
    "The main wrinkles come into play when we switch branches. Switching to a different branch will change the working directory to reflect the latest commit in that branch. Switching to a new branch, making a new commit, then switching back to master will switch our working directory back to the state of the latest commit in master. Here's a diagram that illustrates what happens:\n",
    "\n",
    "![4](img/4.png)\n",
    "\n",
    "In the example above, the branch `enhancement` has one commit more than master. When we switch to the `enhancement` branch, the working directory will contain a file called `bot.py` that contains the code `print('2')`. If we switch to the master branch, Git will alter the working directory to contain a file called `bot.py` that contains the code `print('1')`.<br>\n",
    "\n",
    "Switching between branches is very useful when we want to work on changes to a project that require different amounts of testing or development time. By putting them in separate branches, we can save the state of each addition, without them conflicting with each other.<br>\n",
    "\n",
    "The [git checkout](https://git-scm.com/docs/git-checkout) command allows us to switch branches. If we still have changes in the working directory we haven't committed yet, though, Git will check whether there's a potential merge conflict with the branch we're switching to. If there is, Git won't let us change branches."
   ]
  },
  {
   "cell_type": "code",
   "execution_count": null,
   "metadata": {},
   "outputs": [],
   "source": []
  },
  {
   "cell_type": "markdown",
   "metadata": {},
   "source": [
    "* Switch to the `more-speech` branch.\n",
    "* Edit `bot.py` so that it will print more output when it runs.\n",
    "* Make a commit with the message `Added more output`."
   ]
  },
  {
   "cell_type": "code",
   "execution_count": 57,
   "metadata": {},
   "outputs": [
    {
     "name": "stdout",
     "output_type": "stream",
     "text": [
      "  File \"bot.py\", line 2\r\n",
      "    print(\"Hello, lets chat!\")print('More output!')\r\n",
      "                                  ^\r\n",
      "SyntaxError: invalid syntax\r\n"
     ]
    }
   ],
   "source": [
    "!printf \"print('More output!')\" >> bot.py\n",
    "!python bot.py"
   ]
  },
  {
   "cell_type": "code",
   "execution_count": 75,
   "metadata": {},
   "outputs": [],
   "source": [
    "!> bot.py"
   ]
  },
  {
   "cell_type": "code",
   "execution_count": 77,
   "metadata": {},
   "outputs": [
    {
     "name": "stdout",
     "output_type": "stream",
     "text": [
      "if __name__=='__main__':\r\n",
      "    print('Hello, lets chat!')"
     ]
    }
   ],
   "source": [
    "!printf \"if __name__=='__main__':\\n    print('Hello, lets chat!')\" > bot.py\n",
    "!cat bot.py"
   ]
  },
  {
   "cell_type": "code",
   "execution_count": 78,
   "metadata": {},
   "outputs": [
    {
     "name": "stdout",
     "output_type": "stream",
     "text": [
      "Hello, lets chat!\r\n",
      "More output!\r\n"
     ]
    }
   ],
   "source": [
    "!printf \"\\nprint('More output!')\" >> bot.py\n",
    "!python bot.py"
   ]
  },
  {
   "cell_type": "code",
   "execution_count": 79,
   "metadata": {},
   "outputs": [],
   "source": [
    "!git add bot.py"
   ]
  },
  {
   "cell_type": "code",
   "execution_count": 80,
   "metadata": {
    "scrolled": true
   },
   "outputs": [
    {
     "name": "stdout",
     "output_type": "stream",
     "text": [
      "[more-speech ceb96d8] Added more output\r\n",
      " 1 file changed, 3 insertions(+), 2 deletions(-)\r\n"
     ]
    }
   ],
   "source": [
    "!git commit bot.py -m \"Added more output\""
   ]
  },
  {
   "cell_type": "code",
   "execution_count": null,
   "metadata": {},
   "outputs": [],
   "source": []
  },
  {
   "cell_type": "markdown",
   "metadata": {},
   "source": [
    "### Pushing a Branch to a Remote\n",
    "\n",
    "Once we've created a branch and added a commit, we can push the branch to the remote repo. This allows other people to see our changes and collaborate with us.<br>\n",
    "\n",
    "As you'll recall from the previous mission, we push a branch to a remote using `git push`. Afterwards, we can use git `branch -r` to show all of the branches on the remote and confirm that ours is there. In contrast, `git branch -a` will **show all of the branches available locally**.<br>\n",
    "\n",
    "`git branch -r` might result in the following output:\n",
    "\n",
    "```\n",
    "origin/HEAD -> origin/master\n",
    "origin/master\n",
    "origin/more-speech\n",
    "```\n",
    "\n",
    "The output shows that there are two branches (`master` and `more-speech`) on the remote called `origin`, and that the current branch (the `HEAD` branch) is `master`. Git uses `HEAD` to **refer to the current branch, as well as the latest commit in that branch**."
   ]
  },
  {
   "cell_type": "code",
   "execution_count": null,
   "metadata": {},
   "outputs": [],
   "source": []
  },
  {
   "cell_type": "markdown",
   "metadata": {},
   "source": [
    "* Push the `more-speech` branch to the remote `origin`.\n",
    "* List the branches available on the remote."
   ]
  },
  {
   "cell_type": "code",
   "execution_count": 81,
   "metadata": {
    "scrolled": false
   },
   "outputs": [
    {
     "name": "stdout",
     "output_type": "stream",
     "text": [
      "Counting objects: 3, done.\n",
      "Delta compression using up to 4 threads.\n",
      "Compressing objects: 100% (3/3), done.\n",
      "Writing objects: 100% (3/3), 340 bytes | 340.00 KiB/s, done.\n",
      "Total 3 (delta 0), reused 0 (delta 0)\n",
      "To https://github.com/choigww/chatbot.git\n",
      " * [new branch]      more-speech -> more-speech\n"
     ]
    }
   ],
   "source": [
    "!git push origin more-speech"
   ]
  },
  {
   "cell_type": "code",
   "execution_count": 82,
   "metadata": {},
   "outputs": [
    {
     "name": "stdout",
     "output_type": "stream",
     "text": [
      "  master\u001b[m\r\n",
      "* \u001b[32mmore-speech\u001b[m\r\n",
      "  \u001b[31mremotes/origin/HEAD\u001b[m -> origin/master\r\n",
      "  \u001b[31mremotes/origin/master\u001b[m\r\n",
      "  \u001b[31mremotes/origin/more-speech\u001b[m\r\n"
     ]
    }
   ],
   "source": [
    "!git branch -a"
   ]
  },
  {
   "cell_type": "code",
   "execution_count": 83,
   "metadata": {},
   "outputs": [
    {
     "name": "stdout",
     "output_type": "stream",
     "text": [
      "  \u001b[31morigin/HEAD\u001b[m -> origin/master\r\n",
      "  \u001b[31morigin/master\u001b[m\r\n",
      "  \u001b[31morigin/more-speech\u001b[m\r\n"
     ]
    }
   ],
   "source": [
    "!git branch -r"
   ]
  },
  {
   "cell_type": "code",
   "execution_count": null,
   "metadata": {},
   "outputs": [],
   "source": []
  },
  {
   "cell_type": "markdown",
   "metadata": {},
   "source": [
    "## Merging Branches\n",
    "\n",
    "When someone downloads a project, they typically download and use a single version, or branch. Let's take Django as an example. [Django](https://github.com/django/django) is a popular Web framework for Python that programmers develop using Git and GitHub.<br>\n",
    "\n",
    "#### When a user installs Django, he or she install a single version \n",
    "-- not dozens or hundreds of separate branches. If we look at the GitHub repo for Django, **however, there are lots of different branches people have used to develop features**. [Here](https://github.com/dataquestio/solutions/pull/4)'s an example of a separate branch a programmer used to develop a feature.<br>\n",
    "\n",
    "The release a user downloads and works with is typically from the `master` branch. This means that all of the changes programmers made in other branches need to be pulled into the master branch. We do this through a Git concept called merging. Merging allows us to copy commits from one branch into another. This enables us to efficiently develop features for projects on their own branches without conflicts, then merge them into master so that end users will have access to them.<br>\n",
    "\n",
    "We use the [git merge](https://git-scm.com/docs/git-merge) command to merge a branch into another branch. Here's a diagram illustrating what happens in a merge:\n",
    "\n",
    "![5](img/5.png)\n",
    "\n",
    "As you can see, merging the branch `enhancement` into the branch `master` will pull the commit `b53` into master, and make `b53` the latest commit in `master`. Whenever anyone switches to the `master` branch, their working directory will contain the file `bot.py`, which has the contents `print(2)`.<br>\n",
    "\n",
    "In order to merge `branch b` into `branch a`, \n",
    "* we first have to switch to `branch a`, \n",
    "* then run `git merge`.\n",
    "\n",
    "Merging allows us to efficiently combine changes from multiple branches together, so that we have a working directory that reflects all of the changes in all of the branches."
   ]
  },
  {
   "cell_type": "code",
   "execution_count": null,
   "metadata": {},
   "outputs": [],
   "source": []
  },
  {
   "cell_type": "markdown",
   "metadata": {},
   "source": [
    "* Switch to the `master` branch of the `chatbot` repo.\n",
    "* Merge `more-speech` into `master`.\n",
    "* Push `master` to the remote repo."
   ]
  },
  {
   "cell_type": "code",
   "execution_count": 84,
   "metadata": {
    "scrolled": true
   },
   "outputs": [
    {
     "name": "stdout",
     "output_type": "stream",
     "text": [
      "Switched to branch 'master'\n",
      "Your branch is up-to-date with 'origin/master'.\n",
      "Updating dd5691d..ceb96d8\n",
      "Fast-forward\n",
      " bot.py | 5 \u001b[32m+++\u001b[m\u001b[31m--\u001b[m\n",
      " 1 file changed, 3 insertions(+), 2 deletions(-)\n",
      "Total 0 (delta 0), reused 0 (delta 0)\n",
      "To https://github.com/choigww/chatbot.git\n",
      "   dd5691d..ceb96d8  master -> master\n"
     ]
    }
   ],
   "source": [
    "!git checkout master\n",
    "!git merge master more-speech\n",
    "!git push origin master"
   ]
  },
  {
   "cell_type": "code",
   "execution_count": null,
   "metadata": {},
   "outputs": [],
   "source": []
  },
  {
   "cell_type": "markdown",
   "metadata": {},
   "source": [
    "### Deleting Branches\n",
    "\n",
    "It's helpful to think of a branch as a collection of commits. Here's an example:\n",
    "\n",
    "![6](img/6.png)\n",
    "\n",
    "In the example above, both `master` and `enhancement` have `b53` as the latest commit. In fact, both branches have identical commits. This isn't necessarily bad, but it does mean that the original, separate branch is redundant -- it no longer contains any unique commits. It's typical to use a branch to develop a single feature, merge that branch into master, and then delete the branch.<br>\n",
    "\n",
    "To delete a branch once we've merged all of its commits into another branch, we use the `git branch -d` command. `git branch -d` requires us to specify the name of a branch when we call it. Git will completely remove the branch from our local repo. If a branch has unmerged commits inside it, Git will prevent it from being deleted, so its generally safe to delete branches we think are old or unnecessary.<br>\n",
    "\n",
    "Having too many branches can make the repo hard to use, so most software teams tend to delete branches once they've merged them. If we have many branches, for example, listing all of them can print hundreds or thousands of lines, making it hard to find the ones we want. It also makes cloning or updating the repo more difficult, because Git needs to download information on all of the branches."
   ]
  },
  {
   "cell_type": "code",
   "execution_count": null,
   "metadata": {},
   "outputs": [],
   "source": []
  },
  {
   "cell_type": "markdown",
   "metadata": {},
   "source": [
    "* Delete the `more-speech` branch."
   ]
  },
  {
   "cell_type": "code",
   "execution_count": 85,
   "metadata": {},
   "outputs": [
    {
     "name": "stdout",
     "output_type": "stream",
     "text": [
      "Deleted branch more-speech (was ceb96d8).\r\n"
     ]
    }
   ],
   "source": [
    "!git branch -d more-speech"
   ]
  },
  {
   "cell_type": "code",
   "execution_count": null,
   "metadata": {},
   "outputs": [],
   "source": []
  },
  {
   "cell_type": "markdown",
   "metadata": {},
   "source": [
    "### Checking Out Branches From the Remote\n",
    "\n",
    "In order to see what other collaborators in the remote repo are working on, we can check out their branches. This will automatically create a local branch with the same name, and copy any commits from the remote branch to the local branch.<br>\n",
    "\n",
    "Let's say we want to check out a branch called `angry-bot` from the remote. We'll need to use two different commands:<br>\n",
    "\n",
    "* [git fetch](https://git-scm.com/docs/git-fetch) will fetch all of the current branches and commits from the remote. This won't make any changes to the working directory, but will update Git's list of branch names and commits.\n",
    "* `git checkout angry-bot` will look for the `angry-bot` branch in the local repo and remote repo. Because it only exists in the remote repo, Git will copy it into the local repo. Git will also make `angry-bot` the current branch."
   ]
  },
  {
   "cell_type": "code",
   "execution_count": null,
   "metadata": {},
   "outputs": [],
   "source": []
  },
  {
   "cell_type": "markdown",
   "metadata": {},
   "source": [
    "Simulate a second collaborator working on the remote:\n",
    "* Clone `/dataquest/user/git/chatbot into /home/dq/chatbot2`.\n",
    "* `cd` into `chatbot2`.\n",
    "* Create a new branch called `happy-bot`.\n",
    "* Edit `bot.py` to output happy messages.\n",
    "* Commit your changes with the message `Made the bot 20% happier!`.\n",
    "* Push the `happy-bot` branch to the remote.\n",
    "\n",
    "In your local repo `/home/dq/chatbot`, check out the branch.\n",
    "* Run `git fetch` to update the Git history.\n",
    "* Check out the `happy-bot` branch.\n",
    "* Run `bot.py` to make sure the file changed."
   ]
  },
  {
   "cell_type": "code",
   "execution_count": 86,
   "metadata": {
    "scrolled": false
   },
   "outputs": [
    {
     "name": "stdout",
     "output_type": "stream",
     "text": [
      "Cloning into '/Users/choigww/git-test-folder/chatbot2'...\n",
      "remote: Counting objects: 20, done.\u001b[K\n",
      "remote: Compressing objects: 100% (13/13), done.\u001b[K\n",
      "remote: Total 20 (delta 3), reused 16 (delta 2), pack-reused 0\u001b[K\n",
      "Unpacking objects: 100% (20/20), done.\n"
     ]
    }
   ],
   "source": [
    "!git clone https://github.com/choigww/chatbot /Users/choigww/git-test-folder/chatbot2"
   ]
  },
  {
   "cell_type": "code",
   "execution_count": 87,
   "metadata": {
    "scrolled": true
   },
   "outputs": [
    {
     "name": "stdout",
     "output_type": "stream",
     "text": [
      "/Users/choigww/git-test-folder/chatbot2\n"
     ]
    }
   ],
   "source": [
    "%cd ../chatbot2"
   ]
  },
  {
   "cell_type": "code",
   "execution_count": 88,
   "metadata": {},
   "outputs": [
    {
     "name": "stdout",
     "output_type": "stream",
     "text": [
      "Switched to a new branch 'happy-bot'\r\n"
     ]
    }
   ],
   "source": [
    "!git checkout -b happy-bot"
   ]
  },
  {
   "cell_type": "code",
   "execution_count": 89,
   "metadata": {},
   "outputs": [
    {
     "name": "stdout",
     "output_type": "stream",
     "text": [
      "Hello, lets chat!\r\n",
      "More output!\r\n"
     ]
    }
   ],
   "source": [
    "!python bot.py"
   ]
  },
  {
   "cell_type": "code",
   "execution_count": 90,
   "metadata": {},
   "outputs": [
    {
     "name": "stdout",
     "output_type": "stream",
     "text": [
      "Hello, lets chat!\r\n",
      "More output!\r\n",
      "Happiness Level: 120\r\n"
     ]
    }
   ],
   "source": [
    "!printf \"\\nprint('Happiness Level: 120')\" >> bot.py\n",
    "!python bot.py"
   ]
  },
  {
   "cell_type": "code",
   "execution_count": 92,
   "metadata": {
    "scrolled": true
   },
   "outputs": [
    {
     "name": "stdout",
     "output_type": "stream",
     "text": [
      "On branch happy-bot\n",
      "nothing to commit, working tree clean\n",
      "Counting objects: 3, done.\n",
      "Delta compression using up to 4 threads.\n",
      "Compressing objects: 100% (3/3), done.\n",
      "Writing objects: 100% (3/3), 368 bytes | 368.00 KiB/s, done.\n",
      "Total 3 (delta 0), reused 0 (delta 0)\n",
      "To https://github.com/choigww/chatbot\n",
      " * [new branch]      happy-bot -> happy-bot\n"
     ]
    }
   ],
   "source": [
    "!git add bot.py\n",
    "!git commit -m \"Made the bot 20% happier!\"\n",
    "!git push origin happy-bot"
   ]
  },
  {
   "cell_type": "code",
   "execution_count": 93,
   "metadata": {},
   "outputs": [
    {
     "name": "stdout",
     "output_type": "stream",
     "text": [
      "/Users/choigww/git-test-folder/chatbot\n"
     ]
    }
   ],
   "source": [
    "%cd /Users/choigww/git-test-folder/chatbot"
   ]
  },
  {
   "cell_type": "code",
   "execution_count": 94,
   "metadata": {},
   "outputs": [
    {
     "name": "stdout",
     "output_type": "stream",
     "text": [
      "remote: Counting objects: 3, done.\u001b[K\n",
      "remote: Compressing objects: 100% (3/3), done.\u001b[K\n",
      "remote: Total 3 (delta 0), reused 3 (delta 0), pack-reused 0\u001b[K\n",
      "Unpacking objects: 100% (3/3), done.\n",
      "From https://github.com/choigww/chatbot\n",
      " * [new branch]      happy-bot  -> origin/happy-bot\n",
      "Branch happy-bot set up to track remote branch happy-bot from origin.\n",
      "Switched to a new branch 'happy-bot'\n",
      "Hello, lets chat!\n",
      "More output!\n",
      "Happiness Level: 120\n"
     ]
    }
   ],
   "source": [
    "!git fetch\n",
    "!git checkout happy-bot\n",
    "!python bot.py"
   ]
  },
  {
   "cell_type": "code",
   "execution_count": 171,
   "metadata": {},
   "outputs": [],
   "source": []
  },
  {
   "cell_type": "markdown",
   "metadata": {},
   "source": [
    "### Finding Differences Across Branches\n",
    "\n",
    "**The typical Git workflow** looks like this:\n",
    "* Create a branch off of `master` with the name of your feature. Let's say `feature/better-algo`.\n",
    "* Make your changes on the branch and create commits.\n",
    "* Push the branch to the remote repo.\n",
    "* Ask others to review and evaluate your branch.\n",
    "* Merge the branch into `master` once everyone thinks it looks okay.\n",
    "* Delete the branch.\n",
    "\n",
    "This is how most teams of developers work. In order to review a team member's changes, though, it's critical to be able to see the differences between the feature branch and `master`. We refer to these differences as \"the diff.\"<br>\n",
    "\n",
    "When we use GitHub as our remote repo, [pull requests](https://help.github.com/articles/using-pull-requests/) will show us the differences between branches in an attractive interface, and allow other developers to add comments.<br>\n",
    "\n",
    "If we're not using GitHub, we can type `git diff` on the command line to see the differences between branches. This command shows line-by-line changes to the code. If the changes are additions, Git will display them in green and prefix them with a plus sign (`+`). If they're deletions, Git will display them in red and prefix them with a minus sign (`-`). It shows new files as additions.<br>\n",
    "\n",
    "The order in which we specify the two branches as arguments to `git diff` influences whether Git sees the changes as additions or deletions. It's generally preferable to put the \"older\" branch first."
   ]
  },
  {
   "cell_type": "code",
   "execution_count": null,
   "metadata": {},
   "outputs": [],
   "source": []
  },
  {
   "cell_type": "markdown",
   "metadata": {},
   "source": [
    "* Use `git diff` to see the differences between `happy-bot` and `master`."
   ]
  },
  {
   "cell_type": "code",
   "execution_count": 95,
   "metadata": {},
   "outputs": [
    {
     "name": "stdout",
     "output_type": "stream",
     "text": [
      "\u001b[1mdiff --git a/bot.py b/bot.py\u001b[m\r\n",
      "\u001b[1mindex 0283eaa..22e370a 100644\u001b[m\r\n",
      "\u001b[1m--- a/bot.py\u001b[m\r\n",
      "\u001b[1m+++ b/bot.py\u001b[m\r\n",
      "\u001b[36m@@ -1,3 +1,4 @@\u001b[m\r\n",
      " if __name__=='__main__':\u001b[m\r\n",
      "     print('Hello, lets chat!')\u001b[m\r\n",
      "\u001b[31m-print('More output!')\u001b[m\r\n",
      "\\ No newline at end of file\u001b[m\r\n",
      "\u001b[32m+\u001b[m\u001b[32mprint('More output!')\u001b[m\r\n",
      "\u001b[32m+\u001b[m\u001b[32mprint('Happiness Level: 120')\u001b[m\r\n",
      "\\ No newline at end of file\u001b[m\r\n"
     ]
    }
   ],
   "source": [
    "!git diff master happy-bot"
   ]
  },
  {
   "cell_type": "code",
   "execution_count": null,
   "metadata": {},
   "outputs": [],
   "source": []
  },
  {
   "cell_type": "markdown",
   "metadata": {},
   "source": [
    "### Branch Naming Conventions\n",
    "\n",
    "When naming branches, it's common to use a prefix that describes the type of branch, then a slash, then the name of the feature or fix we're making. Here are some typical prefixes, along with example branch names:\n",
    "\n",
    "* Feature - `feature/happy-bot`\n",
    "* Fix - `fix/remove-error`\n",
    "* Chore - `chore/add-analytics`\n",
    "\n",
    "Features tend to be commits that add functionality to a project, while fixes resolve bugs and other issues. Chores are things that end users won't necessarily notice, but help us reorganize the project or make the code more efficient. These naming conventions make it easier to organize branches, and figure out what each one does without having to look at the full diff."
   ]
  },
  {
   "cell_type": "code",
   "execution_count": null,
   "metadata": {},
   "outputs": [],
   "source": []
  },
  {
   "cell_type": "markdown",
   "metadata": {},
   "source": [
    "* Create a new branch called `feature/random-messages`.\n",
    "* Edit `bot.py` to output one of several possible messages, based on a random number generator.\n",
    "* Commit and push your branch to the remote."
   ]
  },
  {
   "cell_type": "code",
   "execution_count": 96,
   "metadata": {},
   "outputs": [
    {
     "name": "stdout",
     "output_type": "stream",
     "text": [
      "/Users/choigww/git-test-folder/chatbot\r\n"
     ]
    }
   ],
   "source": [
    "!pwd"
   ]
  },
  {
   "cell_type": "code",
   "execution_count": 97,
   "metadata": {},
   "outputs": [
    {
     "name": "stdout",
     "output_type": "stream",
     "text": [
      "Switched to a new branch 'feature/random-messages'\n",
      "Hello, lets chat!\n",
      "More output!\n",
      "Happiness Level: 120\n",
      "this is random number: 45\n"
     ]
    }
   ],
   "source": [
    "!git checkout -b feature/random-messages\n",
    "!printf \"\\nimport random\\nprint('this is random number:', random.randint(1, 100))\" >> bot.py\n",
    "!python bot.py"
   ]
  },
  {
   "cell_type": "code",
   "execution_count": 98,
   "metadata": {},
   "outputs": [
    {
     "name": "stdout",
     "output_type": "stream",
     "text": [
      "[feature/random-messages 74a4de4] add random number printing\n",
      " 1 file changed, 3 insertions(+), 1 deletion(-)\n",
      "Counting objects: 3, done.\n",
      "Delta compression using up to 4 threads.\n",
      "Compressing objects: 100% (3/3), done.\n",
      "Writing objects: 100% (3/3), 404 bytes | 404.00 KiB/s, done.\n",
      "Total 3 (delta 0), reused 0 (delta 0)\n",
      "To https://github.com/choigww/chatbot.git\n",
      " * [new branch]      feature/random-messages -> feature/random-messages\n"
     ]
    }
   ],
   "source": [
    "!git add .\n",
    "!git commit -m 'add random number printing'\n",
    "!git push origin feature/random-messages"
   ]
  },
  {
   "cell_type": "code",
   "execution_count": null,
   "metadata": {},
   "outputs": [],
   "source": []
  },
  {
   "cell_type": "markdown",
   "metadata": {},
   "source": [
    "### Branch History\n",
    "\n",
    "When we create a branch, it takes on the commit history of the branch we started from. Here's an example:\n",
    "\n",
    "master|feature/new-interface\n",
    "---|---\n",
    "f12|f12\n",
    "e34|e34\n",
    "67f|67f\n",
    " |45g\n",
    " \n",
    "There are two branches in this example, `master` and `feature/new-interface`. `feature/new-interface` has one more commit than `master` -- `45g`.\n",
    "* If our current branch is `feature/new-interface` and we create a new branch, the most recent commit in the branch we create will be `45g`. \n",
    "* If our current branch is `master` and we create a new branch off of it, the most recent commit in the new branch will be `67f`."
   ]
  },
  {
   "cell_type": "code",
   "execution_count": null,
   "metadata": {},
   "outputs": [],
   "source": []
  },
  {
   "cell_type": "markdown",
   "metadata": {},
   "source": [
    "* Check out the `feature/random-messages` branch.\n",
    "* Create a new branch called `feature/spam-messages`.\n",
    "* Verify that the histories for `feature/random-messages` and `feature/spam-messages` are the same, and different from `master`."
   ]
  },
  {
   "cell_type": "code",
   "execution_count": 102,
   "metadata": {},
   "outputs": [
    {
     "name": "stdout",
     "output_type": "stream",
     "text": [
      "Already on 'feature/random-messages'\r\n"
     ]
    }
   ],
   "source": [
    "!git checkout feature/random-messages"
   ]
  },
  {
   "cell_type": "code",
   "execution_count": 103,
   "metadata": {},
   "outputs": [
    {
     "name": "stdout",
     "output_type": "stream",
     "text": [
      "Switched to a new branch 'feature/spam-messages'\r\n"
     ]
    }
   ],
   "source": [
    "!git checkout -b feature/spam-messages"
   ]
  },
  {
   "cell_type": "code",
   "execution_count": 104,
   "metadata": {},
   "outputs": [],
   "source": [
    "!git diff feature/random-messages feature/spam-messages"
   ]
  },
  {
   "cell_type": "code",
   "execution_count": 105,
   "metadata": {},
   "outputs": [
    {
     "name": "stdout",
     "output_type": "stream",
     "text": [
      "\u001b[1mdiff --git a/bot.py b/bot.py\u001b[m\r\n",
      "\u001b[1mindex bb58ed9..0283eaa 100644\u001b[m\r\n",
      "\u001b[1m--- a/bot.py\u001b[m\r\n",
      "\u001b[1m+++ b/bot.py\u001b[m\r\n",
      "\u001b[36m@@ -1,6 +1,3 @@\u001b[m\r\n",
      " if __name__=='__main__':\u001b[m\r\n",
      "     print('Hello, lets chat!')\u001b[m\r\n",
      "\u001b[31m-print('More output!')\u001b[m\r\n",
      "\u001b[31m-print('Happiness Level: 120')\u001b[m\r\n",
      "\u001b[31m-import random\u001b[m\r\n",
      "\u001b[31m-print('this is random number:', random.randint(1, 100))\u001b[m\r\n",
      "\\ No newline at end of file\u001b[m\r\n",
      "\u001b[32m+\u001b[m\u001b[32mprint('More output!')\u001b[m\r\n",
      "\\ No newline at end of file\u001b[m\r\n"
     ]
    }
   ],
   "source": [
    "!git diff feature/random-messages master"
   ]
  },
  {
   "cell_type": "code",
   "execution_count": 106,
   "metadata": {},
   "outputs": [
    {
     "name": "stdout",
     "output_type": "stream",
     "text": [
      "\u001b[1mdiff --git a/bot.py b/bot.py\u001b[m\r\n",
      "\u001b[1mindex bb58ed9..0283eaa 100644\u001b[m\r\n",
      "\u001b[1m--- a/bot.py\u001b[m\r\n",
      "\u001b[1m+++ b/bot.py\u001b[m\r\n",
      "\u001b[36m@@ -1,6 +1,3 @@\u001b[m\r\n",
      " if __name__=='__main__':\u001b[m\r\n",
      "     print('Hello, lets chat!')\u001b[m\r\n",
      "\u001b[31m-print('More output!')\u001b[m\r\n",
      "\u001b[31m-print('Happiness Level: 120')\u001b[m\r\n",
      "\u001b[31m-import random\u001b[m\r\n",
      "\u001b[31m-print('this is random number:', random.randint(1, 100))\u001b[m\r\n",
      "\\ No newline at end of file\u001b[m\r\n",
      "\u001b[32m+\u001b[m\u001b[32mprint('More output!')\u001b[m\r\n",
      "\\ No newline at end of file\u001b[m\r\n"
     ]
    }
   ],
   "source": [
    "!git diff feature/spam-messages master"
   ]
  },
  {
   "cell_type": "code",
   "execution_count": null,
   "metadata": {},
   "outputs": [],
   "source": []
  },
  {
   "cell_type": "markdown",
   "metadata": {},
   "source": [
    "## 4. <a name='merge-conflicts'></a>Merge Conflicts"
   ]
  },
  {
   "cell_type": "markdown",
   "metadata": {},
   "source": [
    "### Introduction\n",
    "\n",
    "When we merge a branch into another one, our changes can sometimes **conflict with other people's commits**. Let's say that you're working on a project with another developer named `Ninja Jane`. You both edit the same file on your own branches, then Jane pushes her branch to the remote and merges it into `master`:\n",
    "\n",
    "![](7.png)\n",
    "\n",
    "This chain of events results in the following situation:\n",
    "\n",
    "![](8.png)\n",
    "\n",
    "At this point, the commit history for each branch looks like this:\n",
    "\n",
    "master|shuriken|superbot\n",
    "---|---|---\n",
    "f12|f12|f12\n",
    "e34|e34|e34\n",
    "67f|67f|67f\n",
    "45g|45g|782\n",
    "\n",
    "Because you and Jane branched off of `master` at the same time and you both made one commit, the histories for the two branches are almost identical. However, the latest commit for `master` and `shuriken` is `45g`, and the latest commit for `superbot` is `782`.<br>\n",
    "\n",
    "When you try to merge `superbot` into master, Git will notice that `45g` and `782` both come immediately after `67f`, and both edit the same lines in the same files. Because both commits are based on 67f, they're equally valid, and this causes a merge conflict. Git can't overwrite the changes in `master` with the changes from `superbot` because it doesn't know which changes are the \"correct\" ones. Git is designed to preserve everyone's work, so it won't cause a loss of effort by intentionally overwriting one person's commit with another's.<br>\n",
    "\n",
    "It's not possible for Git to just layer the commits on top of each other, because `782` and `45g` both come immediately after commit `67f`. If Git layered the changes on top of each other and applied commit `782` from `superbot`, Jane's changes in commit `45g` would be overwritten and lost. If commit `782` in `superbot` came after commit `45g` in the Git history instead, there would be no conflict.<br>\n",
    "\n",
    "When Git can't merge commits automatically, it informs the user of a merge conflict and asks them to sort it out. Sorting out a merge conflict involves editing the code that conflicts to create the \"correct\" version. This way, the person who wrote the code is in charge of resolving the issue, and Git isn't intentionally overwriting anyone's changes."
   ]
  },
  {
   "cell_type": "code",
   "execution_count": null,
   "metadata": {},
   "outputs": [],
   "source": []
  },
  {
   "cell_type": "markdown",
   "metadata": {},
   "source": [
    "* Clone the repo chatbot from `/dataquest/user/git/chatbot` to `/home/dq/chatbot`.\n",
    "* Create a branch.\n",
    "  * Create a branch called `feature/king-bot` in the repo `chatbot`.\n",
    "  * Switch to the branch `feature/king-bot`.\n",
    "  * Edit `bot.py` and add an appropriately kingly print statement at the end of the file.\n",
    "  * Commit your changes.\n",
    "* Create another branch with conflicts.\n",
    "  * Switch to the master branch.\n",
    "  * Create a branch called `feature/queen-bot` in the repo `chatbot`.\n",
    "  * Switch to the branch `feature/queen-bot`.\n",
    "  * Edit `bot.py` and add an appropriately queenly print statement at the end at the end of the file.\n",
    "  * Commit your changes.\n",
    "* Create a merge conflict.\n",
    "  * Merge `feature/king-bot` into `master`.\n",
    "  * Try merging `feature/queen-bot` into master.\n",
    "  * At this point, you should trigger a conflict."
   ]
  },
  {
   "cell_type": "code",
   "execution_count": null,
   "metadata": {},
   "outputs": [],
   "source": []
  },
  {
   "cell_type": "code",
   "execution_count": 13,
   "metadata": {},
   "outputs": [
    {
     "name": "stdout",
     "output_type": "stream",
     "text": [
      "/Users/choigww/git-test-folder/chatbot\n"
     ]
    }
   ],
   "source": [
    "%cd /Users/choigww/git-test-folder/chatbot"
   ]
  },
  {
   "cell_type": "code",
   "execution_count": 17,
   "metadata": {},
   "outputs": [
    {
     "name": "stdout",
     "output_type": "stream",
     "text": [
      "Switched to branch 'master'\r\n",
      "Your branch is up-to-date with 'origin/master'.\r\n"
     ]
    }
   ],
   "source": [
    "!git checkout master"
   ]
  },
  {
   "cell_type": "code",
   "execution_count": 19,
   "metadata": {
    "scrolled": true
   },
   "outputs": [
    {
     "name": "stdout",
     "output_type": "stream",
     "text": [
      "if __name__ == '__main__':\r\n",
      "    print('Hello, lets chat!')"
     ]
    }
   ],
   "source": [
    "# reset the `bot.py` in the chatbot repo\n",
    "!printf \"if __name__ == '__main__':\\n    print('Hello, lets chat!')\" > bot.py\n",
    "!cat bot.py"
   ]
  },
  {
   "cell_type": "code",
   "execution_count": 20,
   "metadata": {
    "scrolled": false
   },
   "outputs": [
    {
     "name": "stdout",
     "output_type": "stream",
     "text": [
      "[master 2e4b0e8] reset bot.py\n",
      " 1 file changed, 2 insertions(+), 3 deletions(-)\n",
      "Counting objects: 3, done.\n",
      "Delta compression using up to 4 threads.\n",
      "Compressing objects: 100% (3/3), done.\n",
      "Writing objects: 100% (3/3), 325 bytes | 325.00 KiB/s, done.\n",
      "Total 3 (delta 0), reused 0 (delta 0)\n",
      "To https://github.com/choigww/chatbot.git\n",
      "   ceb96d8..2e4b0e8  master -> master\n"
     ]
    }
   ],
   "source": [
    "!git add .\n",
    "!git commit -m 'reset bot.py'\n",
    "!git push"
   ]
  },
  {
   "cell_type": "code",
   "execution_count": null,
   "metadata": {},
   "outputs": [],
   "source": []
  },
  {
   "cell_type": "code",
   "execution_count": 21,
   "metadata": {},
   "outputs": [
    {
     "name": "stdout",
     "output_type": "stream",
     "text": [
      "Switched to a new branch 'feature/king-bot'\r\n"
     ]
    }
   ],
   "source": [
    "!git checkout -b feature/king-bot"
   ]
  },
  {
   "cell_type": "code",
   "execution_count": 22,
   "metadata": {
    "scrolled": true
   },
   "outputs": [
    {
     "name": "stdout",
     "output_type": "stream",
     "text": [
      "Hello, lets chat!\r\n",
      "i am a king.\r\n"
     ]
    }
   ],
   "source": [
    "!printf \"\\n    print('i am a king.')\" >> bot.py\n",
    "!python bot.py"
   ]
  },
  {
   "cell_type": "code",
   "execution_count": 23,
   "metadata": {},
   "outputs": [
    {
     "name": "stdout",
     "output_type": "stream",
     "text": [
      "[feature/king-bot 7634a81] kingbot update\r\n",
      " 1 file changed, 2 insertions(+), 1 deletion(-)\r\n"
     ]
    }
   ],
   "source": [
    "!git add .\n",
    "!git commit -m 'kingbot update'"
   ]
  },
  {
   "cell_type": "code",
   "execution_count": null,
   "metadata": {},
   "outputs": [],
   "source": []
  },
  {
   "cell_type": "code",
   "execution_count": 24,
   "metadata": {
    "scrolled": true
   },
   "outputs": [
    {
     "name": "stdout",
     "output_type": "stream",
     "text": [
      "Switched to branch 'master'\n",
      "Your branch is up-to-date with 'origin/master'.\n",
      "Switched to a new branch 'feature/queen-bot'\n",
      "Hello, lets chat!\n",
      "i am a queen.\n"
     ]
    }
   ],
   "source": [
    "!git checkout master\n",
    "!git checkout -b feature/queen-bot\n",
    "!printf \"\\n    print('i am a queen.')\" >> bot.py\n",
    "!python bot.py"
   ]
  },
  {
   "cell_type": "code",
   "execution_count": 25,
   "metadata": {},
   "outputs": [
    {
     "name": "stdout",
     "output_type": "stream",
     "text": [
      "[feature/queen-bot 649a1d8] queen-bot update\r\n",
      " 1 file changed, 2 insertions(+), 1 deletion(-)\r\n"
     ]
    }
   ],
   "source": [
    "!git add .\n",
    "!git commit -m 'queen-bot update'"
   ]
  },
  {
   "cell_type": "code",
   "execution_count": null,
   "metadata": {},
   "outputs": [],
   "source": []
  },
  {
   "cell_type": "code",
   "execution_count": 26,
   "metadata": {
    "scrolled": true
   },
   "outputs": [
    {
     "name": "stdout",
     "output_type": "stream",
     "text": [
      "Switched to branch 'master'\n",
      "Your branch is up-to-date with 'origin/master'.\n",
      "Updating 2e4b0e8..7634a81\n",
      "Fast-forward\n",
      " bot.py | 3 \u001b[32m++\u001b[m\u001b[31m-\u001b[m\n",
      " 1 file changed, 2 insertions(+), 1 deletion(-)\n",
      "Auto-merging bot.py\n",
      "CONFLICT (content): Merge conflict in bot.py\n",
      "Automatic merge failed; fix conflicts and then commit the result.\n"
     ]
    }
   ],
   "source": [
    "!git checkout master\n",
    "!git merge feature/king-bot\n",
    "!git merge feature/queen-bot"
   ]
  },
  {
   "cell_type": "code",
   "execution_count": null,
   "metadata": {},
   "outputs": [],
   "source": []
  },
  {
   "cell_type": "markdown",
   "metadata": {},
   "source": [
    "### Aborting a Merge\n",
    "\n",
    "When a merge conflict occurs, Git adds markup lines to the problem files to identify where the conflicts are. These lines can prevent code from executing properly, because the Python interpreter doesn't understand them. It's important to resolve conflicts and remove the markup immediately for this reason.<br>\n",
    "\n",
    "One way to resolve a conflict is to abort the merge altogether. We can do this with [git merge --abort](https://git-scm.com/docs/git-merge).<br>\n",
    "\n",
    "We'd typically do an abort if we merged one branch into another by accident, or wanted to deal with large merge conflicts in another way.<br>\n",
    "\n",
    "**When we abort a merge, Git resets the working directory and Git history to the state they were in before we tried to merge**."
   ]
  },
  {
   "cell_type": "code",
   "execution_count": null,
   "metadata": {},
   "outputs": [],
   "source": []
  },
  {
   "cell_type": "markdown",
   "metadata": {},
   "source": [
    "* Abort the merge from the last screen, which had conflicts."
   ]
  },
  {
   "cell_type": "code",
   "execution_count": 27,
   "metadata": {},
   "outputs": [],
   "source": [
    "!git merge --abort"
   ]
  },
  {
   "cell_type": "code",
   "execution_count": null,
   "metadata": {},
   "outputs": [],
   "source": []
  },
  {
   "cell_type": "markdown",
   "metadata": {},
   "source": [
    "### Resolving Conflicts\n",
    "\n",
    "When a merge conflict occurs, Git will edit the problematic file to add markup indicating where the conflicts are. Here's the markup Git added to our `bot.py` file from the first screen, when we tried to merge `feature/queen-bot` into `master`:\n",
    "\n",
    "```\n",
    "<<<<<<< HEAD                                                                    \n",
    "print('I am the king')                                                          \n",
    "=======                                                                         \n",
    "print('I am the queen)                                                          \n",
    ">>>>>>> feature/queen-bot\n",
    "```\n",
    "\n",
    "This conflict markup indicates that the current branch (or `HEAD` branch) contains the line `print('I am the king')`, but the branch we're trying to merge, `feature/queen-bot`, contains the line `print('I am the queen')`. Because the last commit in each branch is exclusive to that branch, Git can't automatically determine which line is the most recent edit. This means we have to manually edit the file to remove the lines that Git added, and leave only the code we want.<br>\n",
    "\n",
    "Here's how we might edit the `bot.py` file to address the conflict:\n",
    "\n",
    "```python\n",
    "print('I am the queen')\n",
    "```\n",
    "\n",
    "We removed all of the Git confict markup and the alternate code so that only the version we want, `print('I am the queen)`, remains. After doing this for each section of conflict markup (if there are multiple conflicts), we would then commit the file, which would resolve the merge.\n",
    "\n"
   ]
  },
  {
   "cell_type": "code",
   "execution_count": null,
   "metadata": {},
   "outputs": [],
   "source": []
  },
  {
   "cell_type": "markdown",
   "metadata": {},
   "source": [
    "* Swich to the `master` branch of the `chatbot` repo.\n",
    "* Merge `feature/queen-bot` into `master`.\n",
    "* Fix the merge markup so the lines from `feature/queen-bot` are the ones Git retains.\n",
    "* Add the changes to the staging area and commit them with the commit message `Fixed conflicts`.\n",
    "* Push `master` to the remote."
   ]
  },
  {
   "cell_type": "code",
   "execution_count": 29,
   "metadata": {},
   "outputs": [
    {
     "name": "stdout",
     "output_type": "stream",
     "text": [
      "Already on 'master'\r\n",
      "Your branch is ahead of 'origin/master' by 1 commit.\r\n",
      "  (use \"git push\" to publish your local commits)\r\n"
     ]
    }
   ],
   "source": [
    "!git checkout master"
   ]
  },
  {
   "cell_type": "code",
   "execution_count": 30,
   "metadata": {},
   "outputs": [
    {
     "name": "stdout",
     "output_type": "stream",
     "text": [
      "Auto-merging bot.py\r\n",
      "CONFLICT (content): Merge conflict in bot.py\r\n",
      "Automatic merge failed; fix conflicts and then commit the result.\r\n"
     ]
    }
   ],
   "source": [
    "!git merge feature/queen-bot"
   ]
  },
  {
   "cell_type": "code",
   "execution_count": 31,
   "metadata": {
    "scrolled": true
   },
   "outputs": [
    {
     "name": "stdout",
     "output_type": "stream",
     "text": [
      "[master 5a85d2d] Fixed conflicts\n",
      "^C\n"
     ]
    }
   ],
   "source": [
    "!printf \"print('i am a queen.')\" > bot.py"
   ]
  },
  {
   "cell_type": "code",
   "execution_count": 33,
   "metadata": {},
   "outputs": [],
   "source": [
    "!git add ."
   ]
  },
  {
   "cell_type": "code",
   "execution_count": 34,
   "metadata": {},
   "outputs": [
    {
     "name": "stdout",
     "output_type": "stream",
     "text": [
      "On branch master\r\n",
      "Your branch is ahead of 'origin/master' by 3 commits.\r\n",
      "  (use \"git push\" to publish your local commits)\r\n",
      "\r\n",
      "nothing to commit, working tree clean\r\n"
     ]
    }
   ],
   "source": [
    "!git commit -m 'Fixed conflicts'"
   ]
  },
  {
   "cell_type": "code",
   "execution_count": 35,
   "metadata": {
    "scrolled": false
   },
   "outputs": [
    {
     "name": "stdout",
     "output_type": "stream",
     "text": [
      "Counting objects: 9, done.\n",
      "Delta compression using up to 4 threads.\n",
      "Compressing objects: 100% (8/8), done.\n",
      "Writing objects: 100% (9/9), 834 bytes | 417.00 KiB/s, done.\n",
      "Total 9 (delta 2), reused 0 (delta 0)\n",
      "remote: Resolving deltas: 100% (2/2), done.\u001b[K\n",
      "To https://github.com/choigww/chatbot.git\n",
      "   2e4b0e8..5a85d2d  master -> master\n"
     ]
    }
   ],
   "source": [
    "!git push origin master"
   ]
  },
  {
   "cell_type": "code",
   "execution_count": 36,
   "metadata": {},
   "outputs": [
    {
     "name": "stdout",
     "output_type": "stream",
     "text": [
      "i am a queen.\r\n"
     ]
    }
   ],
   "source": [
    "!python bot.py"
   ]
  },
  {
   "cell_type": "code",
   "execution_count": null,
   "metadata": {},
   "outputs": [],
   "source": []
  },
  {
   "cell_type": "markdown",
   "metadata": {},
   "source": [
    "### Resolving Multi-Line Conflicts\n",
    "\n",
    "In the previous example, only one line conflicted. When we're working with larger teams and bigger features, however, it's possible to have a conflict across multiple lines.<br>\n",
    "\n",
    "Let's say `bot.py` in the `master` branch contains the following code:\n",
    "\n",
    "```python\n",
    "for i in range(4,20):\n",
    "    print(\"This is the {0}th time I've complimented you!\".format(i))\n",
    "```\n",
    "    \n",
    "bot.py in the `feature/king-bot` branch contains this code:\n",
    "\n",
    "```python\n",
    "for i in range(0,3):\n",
    "    print(\"Off with his head!\")\n",
    "for i in range(4,20):\n",
    "    print(\"This is the {0}th time I've complimented you!\".format(i))\n",
    "```\n",
    "\n",
    "In this case, the first two lines of `bot.py` would conflict if we tried to merge both `feature/king-bot` and `feature/queen-bot` into `master`. We'd get conflict markup that looks like this:\n",
    "\n",
    "```python\n",
    "<<<<<<< HEAD                                                                    \n",
    "for i in range(0,3):\n",
    "    print(\"Off with his head!\")                                                          \n",
    "=======                                                                         \n",
    "print(\"Hello\")\n",
    "print(\"Off with your head!\")                                                         \n",
    ">>>>>>> feature/queen-bot \n",
    "for i in range(4,20):\n",
    "    print(\"This is the {0}th time I've complimented you!\".format(i))\n",
    " ```\n",
    "\n"
   ]
  },
  {
   "cell_type": "code",
   "execution_count": null,
   "metadata": {},
   "outputs": [],
   "source": []
  },
  {
   "cell_type": "markdown",
   "metadata": {},
   "source": [
    "* Switch into the `/home/dq/chatbot` repo.\n",
    "* Switch to the `master` branch.\n",
    "* Create a branch that randomly prints statements.\n",
    "  * Create a branch called `feature/random-printing` in the repo `chatbot`.\n",
    "  * Switch to the branch `feature/random-printing`.\n",
    "  * Edit `bot.py` to add a block that prints one of three random messages at the end.\n",
    "  * Commit your changes.\n",
    "* Create another branch with conflicts.\n",
    "  * Switch to the master branch.\n",
    "  * Create a branch called `feature/dice-roller` in the repo `chatbot`.\n",
    "  * Switch to the branch `feature/dice-roller`.\n",
    "  * Edit `bot.py` to add a block that generates and displays two random numbers at the end.\n",
    "  * Commit your changes.\n",
    "* Create a merge conflict.\n",
    "  * Merge `feature/random-printing` into master.\n",
    "  * Try merging `feature/dice-roller` into master.\n",
    "  * At this point, you should trigger a conflict.\n",
    "* Resolve the merge conflict.\n",
    "  * Resolve the conflict by editing `bot.py`.\n",
    "    * Remove the merge conflict markup.\n",
    "    * Keep whatever lines of code you'd like.\n",
    "  * Commit `bot.py` with the message `Resolved multi-line conflict.\n",
    "* Push the `master` branch of chatbot to the remote repo."
   ]
  },
  {
   "cell_type": "code",
   "execution_count": null,
   "metadata": {},
   "outputs": [],
   "source": []
  },
  {
   "cell_type": "code",
   "execution_count": 38,
   "metadata": {},
   "outputs": [
    {
     "name": "stdout",
     "output_type": "stream",
     "text": [
      "Already on 'master'\r\n",
      "Your branch is up-to-date with 'origin/master'.\r\n"
     ]
    }
   ],
   "source": [
    "!git checkout master"
   ]
  },
  {
   "cell_type": "code",
   "execution_count": 39,
   "metadata": {},
   "outputs": [
    {
     "name": "stdout",
     "output_type": "stream",
     "text": [
      "Switched to a new branch 'feature/random-printing'\r\n"
     ]
    }
   ],
   "source": [
    "!git checkout -b feature/random-printing"
   ]
  },
  {
   "cell_type": "code",
   "execution_count": 71,
   "metadata": {},
   "outputs": [
    {
     "name": "stdout",
     "output_type": "stream",
     "text": [
      "i am a queen.\n",
      "Hi\n"
     ]
    }
   ],
   "source": [
    "!printf \"\\nimport random\\nmessages=['Hi', 'Bye', 'Yes']\\nprint(messages[random.randint(0,2)])\" >> bot.py\n",
    "!python bot.py"
   ]
  },
  {
   "cell_type": "code",
   "execution_count": 72,
   "metadata": {},
   "outputs": [
    {
     "name": "stdout",
     "output_type": "stream",
     "text": [
      "[feature/random-printing e14da46] random-printing-update\r\n",
      " 1 file changed, 4 insertions(+), 1 deletion(-)\r\n"
     ]
    }
   ],
   "source": [
    "!git add .\n",
    "!git commit -m 'random-printing-update'"
   ]
  },
  {
   "cell_type": "code",
   "execution_count": 81,
   "metadata": {},
   "outputs": [
    {
     "name": "stdout",
     "output_type": "stream",
     "text": [
      "Switched to branch 'master'\n",
      "Your branch is up-to-date with 'origin/master'.\n",
      "Switched to a new branch 'feature/dice-roller'\n",
      "[feature/dice-roller b4f1e59] dice-roller-update\n",
      " 1 file changed, 3 insertions(+), 1 deletion(-)\n"
     ]
    }
   ],
   "source": [
    "!git checkout master\n",
    "!git checkout -b feature/dice-roller\n",
    "!printf \"\\nimport random\\nprint(random.randint(1,6), random.randint(1,6))\" >> bot.py\n",
    "!git add .\n",
    "!git commit -m 'dice-roller-update'"
   ]
  },
  {
   "cell_type": "code",
   "execution_count": 82,
   "metadata": {},
   "outputs": [
    {
     "name": "stdout",
     "output_type": "stream",
     "text": [
      "Switched to branch 'master'\n",
      "Your branch is up-to-date with 'origin/master'.\n",
      "Updating 5a85d2d..e14da46\n",
      "Fast-forward\n",
      " bot.py | 5 \u001b[32m++++\u001b[m\u001b[31m-\u001b[m\n",
      " 1 file changed, 4 insertions(+), 1 deletion(-)\n",
      "Auto-merging bot.py\n",
      "CONFLICT (content): Merge conflict in bot.py\n",
      "Automatic merge failed; fix conflicts and then commit the result.\n"
     ]
    }
   ],
   "source": [
    "!git checkout master\n",
    "!git merge feature/random-printing\n",
    "!git merge feature/dice-roller"
   ]
  },
  {
   "cell_type": "code",
   "execution_count": 83,
   "metadata": {
    "scrolled": true
   },
   "outputs": [
    {
     "name": "stdout",
     "output_type": "stream",
     "text": [
      "[master 89d4e43] Resolved multi-line conflict\n",
      " 1 file changed, 2 insertions(+), 2 deletions(-)\n",
      "Counting objects: 6, done.\n",
      "Delta compression using up to 4 threads.\n",
      "Compressing objects: 100% (6/6), done.\n",
      "Writing objects: 100% (6/6), 673 bytes | 673.00 KiB/s, done.\n",
      "Total 6 (delta 0), reused 0 (delta 0)\n",
      "To https://github.com/choigww/chatbot.git\n",
      "   5a85d2d..89d4e43  master -> master\n"
     ]
    }
   ],
   "source": [
    "!git merge --abort\n",
    "!echo \"\\nimport random\\nmessages=['Hi', 'Bye', 'Yes']\\nprint(messages[random.randint(0,2)])\" > bot.py\n",
    "!git add .\n",
    "!git commit -m 'Resolved multi-line conflict'\n",
    "!git push origin master"
   ]
  },
  {
   "cell_type": "code",
   "execution_count": null,
   "metadata": {},
   "outputs": [],
   "source": []
  },
  {
   "cell_type": "markdown",
   "metadata": {},
   "source": [
    "### Resolving Multiple Conflicts\n",
    "\n",
    "With larger teams, it's possible to have multiple merge conflicts. That can mean several conflicts within a single file, or individual conflicts spread out across different files. When working on large projects involving many files, it's common for **a single branch to alter dozens of files**. When this happens, you may face merge conflicts that are tricky to resolve.<br>\n",
    "\n",
    "Although we won't be using them here, this is where **Git's graphical merge tools can be helpful**. To use them, we'd need to run the [git mergetool](https://git-scm.com/docs/git-mergetool) command, along with the `--tool` option flag to specify which graphical tool to use. We can pull up a full list of available tools by running `git mergetool --tool-help`.<br>\n",
    "\n",
    "A graphical merge tool will show us the branches side by side and highlight the differences visually, like this:\n",
    "\n",
    "![](https://dq-content.s3.amazonaws.com/bDtKd0S.png)\n",
    "\n",
    "This particular tool displays the `HEAD` branch on the right and calls it the `REMOTE` branch. It displays the branch we're merging on the left and calls it the `LOCAL` branch. The final version is in the center. We need to edit the center version to get the result we want, then save it.<br>\n",
    "\n",
    "In the absence of a graphical tool, it's still possible to sort through multiple merge conflicts -- it's just **a bit more work**. \n",
    "\n",
    "### That's because we have to remove all of the merge conflict markup for each individual conflict manually."
   ]
  },
  {
   "cell_type": "code",
   "execution_count": null,
   "metadata": {},
   "outputs": [],
   "source": []
  },
  {
   "cell_type": "markdown",
   "metadata": {},
   "source": [
    "* Switch into the `/home/dq/chatbot` repo.\n",
    "* Switch to the `master` branch.\n",
    "* Create a branch that inserts print statements into `bot.py`.\n",
    "  * Create a branch called `feature/more-printing` in the repo `chatbot`.\n",
    "  * Switch to the branch `feature/more-printing`.\n",
    "  * Edit `bot.py` and add multiple lines that print some text (whatever you'd like).\n",
    "  * Commit your changes.\n",
    "* Create another branch that inserts print statements into `bot.py`.\n",
    "  * Switch to the `master` branch.\n",
    "  * Create a branch called `feature/more-printing-2` in the repo `chatbot`.\n",
    "  * Switch to the branch `feature/more-printing-2`.\n",
    "  * Edit `bot.py` and add different print statements to the same lines you edited in `feature/more-printing`.\n",
    "  * Commit your changes.\n",
    "* Create a merge conflict.\n",
    "  * Merge `feature/more-printing` into master.\n",
    "  * Try merging `feature/more-printing-2` into master.\n",
    "  * At this point, you should trigger multiple conflicts.\n",
    "  * Resolve the merge conflict.\n",
    "* Resolve the conflicts by editing `bot.py` and keeping the lines you want.\n",
    "  * Commit `bot.py` with the message `Resolved multiple conflicts`.\n",
    "* Push the master branch of chatbot to the remote repo."
   ]
  },
  {
   "cell_type": "code",
   "execution_count": null,
   "metadata": {},
   "outputs": [],
   "source": []
  },
  {
   "cell_type": "code",
   "execution_count": 85,
   "metadata": {
    "scrolled": false
   },
   "outputs": [
    {
     "name": "stdout",
     "output_type": "stream",
     "text": [
      "Switched to a new branch 'feature/more-printing'\n",
      "[feature/more-printing 307449b] more-printing-update\n",
      " 1 file changed, 3 insertions(+)\n",
      "Switched to branch 'master'\n",
      "Your branch is up-to-date with 'origin/master'.\n",
      "Switched to a new branch 'feature/more-printing-2'\n",
      "[feature/more-printing-2 5111bb5] more-printing-2-update\n",
      " 1 file changed, 4 insertions(+)\n",
      "Switched to branch 'master'\n",
      "Your branch is up-to-date with 'origin/master'.\n",
      "Updating 89d4e43..307449b\n",
      "Fast-forward\n",
      " bot.py | 3 \u001b[32m+++\u001b[m\n",
      " 1 file changed, 3 insertions(+)\n",
      "Auto-merging bot.py\n",
      "CONFLICT (content): Merge conflict in bot.py\n",
      "Automatic merge failed; fix conflicts and then commit the result.\n",
      "[master e18ee4b] Resolved multiple conflicts\n",
      " 1 file changed, 1 insertion(+), 5 deletions(-)\n",
      "Counting objects: 6, done.\n",
      "Delta compression using up to 4 threads.\n",
      "Compressing objects: 100% (5/5), done.\n",
      "Writing objects: 100% (6/6), 581 bytes | 581.00 KiB/s, done.\n",
      "Total 6 (delta 1), reused 0 (delta 0)\n",
      "remote: Resolving deltas: 100% (1/1), completed with 1 local object.\u001b[K\n",
      "To https://github.com/choigww/chatbot.git\n",
      "   89d4e43..e18ee4b  master -> master\n"
     ]
    }
   ],
   "source": [
    "!git checkout -b feature/more-printing\n",
    "!printf \"\\nprint('1')\\nprint('2')\" >> bot.py\n",
    "!git add .\n",
    "!git commit -m 'more-printing-update'\n",
    "!git checkout master\n",
    "!git checkout -b feature/more-printing-2\n",
    "!printf \"\\nprint('12')\\nprint('123')\\nprint('1234')\" >> bot.py\n",
    "!git add .\n",
    "!git commit -m 'more-printing-2-update'\n",
    "!git checkout master\n",
    "!git merge feature/more-printing\n",
    "!git merge feature/more-printing-2\n",
    "!git merge --abort\n",
    "!echo \"\\nprint('1')\\nprint('2')\" > bot.py\n",
    "!git add .\n",
    "!git commit -m 'Resolved multiple conflicts'\n",
    "!git push origin master"
   ]
  },
  {
   "cell_type": "code",
   "execution_count": null,
   "metadata": {},
   "outputs": [],
   "source": []
  },
  {
   "cell_type": "markdown",
   "metadata": {},
   "source": [
    "### Accepting Changes From Only One Branch\n",
    "\n",
    "With some merges, we know that one branch has the \"correct\" changes, and want to ignore the other branch. We can keep files from one of the conflicting branches only by using `git checkout` with the `--ours` and `--theirs` options when we run into a merge conflict.<br>\n",
    "\n",
    "For example, if we were trying to merge files from `feature/queen-bot` into `master`, we could use `git checkout --ours .` to only keep the files from `master`, and `git checkout --theirs .` to only keep files from `feature/queen-bot`. In general, `--ours` will keep files from the **current branch**, and `--theirs` will keep files from **the branch we're merging in**.<br>\n",
    "\n",
    "Note that in these examples we used `.` at the end of each of these commands, which acts as **a wildcard that means `all files`** (similar to the command `git add .` ). You can also perform this on a file by file basis by using `git checkout --ours [filename]`.\n",
    "\n",
    "![](img/9.png)\n",
    "\n",
    "After running `git checkout`, we'll need to commit the files to complete the merge."
   ]
  },
  {
   "cell_type": "code",
   "execution_count": null,
   "metadata": {},
   "outputs": [],
   "source": []
  },
  {
   "cell_type": "markdown",
   "metadata": {},
   "source": [
    "* Switch into the `/home/dq/chatbot` repo.\n",
    "* Switch to the `master` branch.\n",
    "* Create a branch.\n",
    "* Create a branch called `feature/remove-bot` in the repo `chatbot`.\n",
    "  * Switch to the branch `feature/remove-bot`.\n",
    "  * Delete `bot.py`.\n",
    "  * Stage the deleted file using the command `git rm bot.py`.\n",
    "  * Commit your changes with the commit message `Remove bot`.\n",
    "* Create another branch with conflicts.\n",
    "  * Switch to the `master` branch.\n",
    "  * Create a branch called `feature/keep-bot` in the repo `chatbot`.\n",
    "  * Switch to the branch `feature/keep-bot`.\n",
    "  * Edit `bot.py` and add a print statement to the end of the file.\n",
    "  * Commit your changes with the message `Keeping bot.py`.\n",
    "* Create a merge conflict.\n",
    "  * Merge `feature/remove-bot` into `master`.\n",
    "  * Try merging `feature/keep-bot` into `master`.\n",
    "  * At this point, you should trigger a conflict.\n",
    "* Keep only the files from `feature/keep-bot`.\n",
    "* Finish the merge by committing with the message `Keeping bot.py`.\n",
    "* Push the branch `master` to the remote."
   ]
  },
  {
   "cell_type": "code",
   "execution_count": null,
   "metadata": {},
   "outputs": [],
   "source": []
  },
  {
   "cell_type": "code",
   "execution_count": 87,
   "metadata": {},
   "outputs": [
    {
     "name": "stdout",
     "output_type": "stream",
     "text": [
      "Switched to a new branch 'feature/remove-bot'\n",
      "rm 'bot.py'\n",
      "[feature/remove-bot ad51481] Removing bot.py\n",
      " 1 file changed, 3 deletions(-)\n",
      " delete mode 100644 bot.py\n",
      "Switched to branch 'master'\n",
      "Your branch is up-to-date with 'origin/master'.\n",
      "Switched to a new branch 'feature/keep-bot'\n",
      "[feature/keep-bot 59d7998] Keeping bot.py\n",
      " 1 file changed, 2 insertions(+)\n",
      "Switched to branch 'master'\n",
      "Your branch is up-to-date with 'origin/master'.\n",
      "Updating e18ee4b..ad51481\n",
      "Fast-forward\n",
      " bot.py | 3 \u001b[31m---\u001b[m\n",
      " 1 file changed, 3 deletions(-)\n",
      " delete mode 100644 bot.py\n",
      "CONFLICT (modify/delete): bot.py deleted in HEAD and modified in feature/keep-bot. Version feature/keep-bot of bot.py left in tree.\n",
      "Automatic merge failed; fix conflicts and then commit the result.\n",
      "[master 504d802] Keeping bot.py\n",
      "Counting objects: 6, done.\n",
      "Delta compression using up to 4 threads.\n",
      "Compressing objects: 100% (4/4), done.\n",
      "Writing objects: 100% (6/6), 616 bytes | 616.00 KiB/s, done.\n",
      "Total 6 (delta 1), reused 0 (delta 0)\n",
      "remote: Resolving deltas: 100% (1/1), done.\u001b[K\n",
      "To https://github.com/choigww/chatbot.git\n",
      "   e18ee4b..504d802  master -> master\n"
     ]
    }
   ],
   "source": [
    "!git checkout -b feature/remove-bot\n",
    "!rm bot.py\n",
    "!git rm bot.py\n",
    "!git add .\n",
    "!git commit -m 'Removing bot.py'\n",
    "\n",
    "!git checkout master\n",
    "!git checkout -b feature/keep-bot\n",
    "!printf \"\\nprint('additional line!')\" >> bot.py\n",
    "!git add .\n",
    "!git commit -m 'Keeping bot.py'\n",
    "\n",
    "!git checkout master\n",
    "!git merge feature/remove-bot\n",
    "!git merge feature/keep-bot\n",
    "\n",
    "# merging conflict!\n",
    "\n",
    "!git checkout --theirs .\n",
    "!git add .\n",
    "!git commit -m 'Keeping bot.py'\n",
    "!git push origin master"
   ]
  },
  {
   "cell_type": "code",
   "execution_count": null,
   "metadata": {},
   "outputs": [],
   "source": []
  },
  {
   "cell_type": "markdown",
   "metadata": {},
   "source": [
    "### Ignoring Files\n",
    "\n",
    "There are some files that change very often, and aren't particularly useful to a project. One example is the `.DS_Store` file OS X puts in directories. Another is the `.pyc` files that Python produces when it compiles source files. Neither of these are necessary for the project to work properly, but because they change rapidly, they can create merge conflicts and other problems.<br>\n",
    "\n",
    "**The best way to handle these types of files is to tell Git to ignore them**. That means Git **won't add them to commits or track** them, so we won't have to deal with merge conflicts and other issues they may cause.<br>\n",
    "\n",
    "To do this, we create a file called `.gitignore`. Then, we add lines to it indicating which files Git should ignore when adding to the staging area and committing. These lines accept wildcard characters, so we can ignore all files that have a certain extension in a single line.<br>\n",
    "\n",
    "For example, the following lines in `.gitignore` instruct Git to ignore all files called `.DS_Store`, and all files ending with `.pyc`:\n",
    "\n",
    "```python\n",
    ".DS_Store\n",
    "*.pyc\n",
    "```\n",
    "\n",
    "Once we've included those lines, Git won't add new files named `.DS_Store` or that end in `.pyc` to the staging area. It also won't commit them in future commits. It will still track changes to existing files it's already added to a commit, however, and also continue adding them to new commits.<br>\n",
    "\n",
    "You can find default `.gitignore` configurations for several popular languages in this [GitHub repo](https://github.com/github/gitignore)."
   ]
  },
  {
   "cell_type": "code",
   "execution_count": null,
   "metadata": {},
   "outputs": [],
   "source": []
  },
  {
   "cell_type": "markdown",
   "metadata": {},
   "source": [
    "* Switch into the `/home/dq/chatbot` repo.\n",
    "* Switch to the `master` branch.\n",
    "* Create a file called `.gitignore`.\n",
    "* Add the following lines to .gitignore:\n",
    "  * `.DS_Store`\n",
    "  * `*.pyc`\n",
    "* Commit the changes with the message `Added gitignore`.\n",
    "* Push the `master` branch to the remote."
   ]
  },
  {
   "cell_type": "code",
   "execution_count": null,
   "metadata": {},
   "outputs": [],
   "source": []
  },
  {
   "cell_type": "code",
   "execution_count": 88,
   "metadata": {},
   "outputs": [
    {
     "name": "stdout",
     "output_type": "stream",
     "text": [
      "[master cf44674] Added gitignore\n",
      " 1 file changed, 2 insertions(+)\n",
      " create mode 100644 .gitignore\n",
      "Counting objects: 3, done.\n",
      "Delta compression using up to 4 threads.\n",
      "Compressing objects: 100% (2/2), done.\n",
      "Writing objects: 100% (3/3), 322 bytes | 322.00 KiB/s, done.\n",
      "Total 3 (delta 0), reused 0 (delta 0)\n",
      "To https://github.com/choigww/chatbot.git\n",
      "   504d802..cf44674  master -> master\n"
     ]
    }
   ],
   "source": [
    "!touch .gitignore\n",
    "!echo \".DS_Store\\n*.pyc\" > .gitignore\n",
    "!git add .\n",
    "!git commit -m 'Added gitignore'\n",
    "!git push origin master"
   ]
  },
  {
   "cell_type": "code",
   "execution_count": null,
   "metadata": {},
   "outputs": [],
   "source": []
  },
  {
   "cell_type": "markdown",
   "metadata": {},
   "source": [
    "### Removing Cached Files\n",
    "\n",
    "As we mentioned on the previous screen, **adding files to `.gitignore` doesn't remove any files that have already been added** to a Git commit. Git will still track changes to these files, and add them to future commits. This can be frustrating, especially when those files cause merge conflicts that require a lot of effort to resolve.<br>\n",
    "\n",
    "**Removing files from the Git cache can be helpful in these situations**. This will prevent Git from tracking changes to those files, and adding them to future commits.<br>\n",
    "\n",
    "We can remove files from the Git cache with the [git rm](https://git-scm.com/docs/git-rm) command and the `--cached` flag. For example, the command below will remove any file called `.DS_Store` from the Git cache, and prevent Git from tracking it:\n",
    "\n",
    "```bash\n",
    "git rm --cached .DS_Store\n",
    "```\n",
    "\n",
    "This will remove any files called `.DS_Store` from our Git repo, **but not from our working directory**. The files will still exist on the computer, but will be invisible to Git for version tracking purposes."
   ]
  },
  {
   "cell_type": "code",
   "execution_count": null,
   "metadata": {},
   "outputs": [],
   "source": []
  },
  {
   "cell_type": "markdown",
   "metadata": {},
   "source": [
    "* Switch into the `/home/dq/chatbot` repo.\n",
    "* Switch to the `master` branch.\n",
    "* Remove `bot.py` from the Git cache.\n",
    "* Commit your changes with the message `Removed bot.py`. Remember not use `git add` here, because that would add `bot.py` back in!\n",
    "* Push the `master` branch to the remote."
   ]
  },
  {
   "cell_type": "code",
   "execution_count": 89,
   "metadata": {},
   "outputs": [
    {
     "name": "stdout",
     "output_type": "stream",
     "text": [
      "rm 'bot.py'\n",
      "[master 5affcf8] Removed bot.py\n",
      " 1 file changed, 5 deletions(-)\n",
      " delete mode 100644 bot.py\n",
      "Counting objects: 2, done.\n",
      "Delta compression using up to 4 threads.\n",
      "Compressing objects: 100% (2/2), done.\n",
      "Writing objects: 100% (2/2), 217 bytes | 217.00 KiB/s, done.\n",
      "Total 2 (delta 1), reused 0 (delta 0)\n",
      "remote: Resolving deltas: 100% (1/1), completed with 1 local object.\u001b[K\n",
      "To https://github.com/choigww/chatbot.git\n",
      "   cf44674..5affcf8  master -> master\n"
     ]
    }
   ],
   "source": [
    "!git rm --cached bot.py\n",
    "!git commit -m 'Removed bot.py'\n",
    "!git push origin master"
   ]
  },
  {
   "cell_type": "code",
   "execution_count": null,
   "metadata": {},
   "outputs": [],
   "source": []
  }
 ],
 "metadata": {
  "kernelspec": {
   "display_name": "Python 3",
   "language": "python",
   "name": "python3"
  },
  "language_info": {
   "codemirror_mode": {
    "name": "ipython",
    "version": 3
   },
   "file_extension": ".py",
   "mimetype": "text/x-python",
   "name": "python",
   "nbconvert_exporter": "python",
   "pygments_lexer": "ipython3",
   "version": "3.6.2"
  }
 },
 "nbformat": 4,
 "nbformat_minor": 2
}
