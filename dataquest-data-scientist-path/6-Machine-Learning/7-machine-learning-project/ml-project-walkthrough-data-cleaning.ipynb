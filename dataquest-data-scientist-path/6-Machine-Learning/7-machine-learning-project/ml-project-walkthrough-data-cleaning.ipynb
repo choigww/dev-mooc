{
 "cells": [
  {
   "cell_type": "markdown",
   "metadata": {},
   "source": [
    "### Machine Learning Project Walkthrough:\n",
    "# Data Cleaning"
   ]
  },
  {
   "cell_type": "code",
   "execution_count": null,
   "metadata": {},
   "outputs": [],
   "source": []
  },
  {
   "cell_type": "markdown",
   "metadata": {},
   "source": [
    "## Introduction\n",
    "\n",
    "### In this course, we will walk through the full data science life cycle, from data cleaning and feature selection to machine learning. \n",
    "\n",
    "We will focus on **credit modelling**, a well known data science problem that focuses on modeling a borrower's [credit risk](https://en.wikipedia.org/wiki/Credit_risk). Credit has played a key role in the economy for centuries and some form of credit has existed since the beginning of commerce. We'll be working with financial lending data from [Lending Club](https://www.lendingclub.com/). Lending Club is a marketplace for personal loans that matches borrowers who are seeking a loan with investors looking to lend money and make a return. You can read more about their marketplace [here](https://www.lendingclub.com/public/how-peer-lending-works.action).<br>\n",
    "\n",
    "Each borrower fills out a comprehensive application, providing their past financial history, the reason for the loan, and more. Lending Club evaluates each borrower's credit score using past historical data (and their own data science process!) and assign an interest rate to the borrower. The interest rate is the percent in addition to the requested loan amount the borrower has to pay back. You can read more about the interest rate that Lending Club assigns [here](https://www.lendingclub.com/public/borrower-rates-and-fees.action). Lending Club also tries to verify each piece of information the borrower provides but it can't always verify all of the information (usually for regulation reasons).<br>\n",
    "\n",
    "A higher interest rate means that the borrower is riskier and more unlikely to pay back the loan while a lower interest rate means that the borrower has a good credit history is more likely to pay back the loan. The interest rates range from 5.32% all the way to 30.99% and each borrower is given a [grade](https://www.lendingclub.com/public/rates-and-fees.action) according to the interest rate they were assigned. If the borrower accepts the interest rate, then the loan is listed on the Lending Club marketplace.<br>\n",
    "\n",
    "Investors are primarily interested in receiveing a return on their investments. Approved loans are listed on the Lending Club website, where qualified investors can browse recently approved loans, the borrower's credit score, the purpose for the loan, and other information from the application. Once they're ready to back a loan, they select the amount of money they want to fund. Once a loan's requested amount is fully funded, the borrower receives the money they requested minus the [origination fee](https://help.lendingclub.com/hc/en-us/articles/214501207-What-is-the-origination-fee-) that Lending Club charges.<br>\n",
    "\n",
    "The borrower then makes monthly payments back to Lending Club either over 36 months or over 60 months. Lending Club redistributes these payments to the investors. This means that investors don't have to wait until the full amount is paid off to start to see money back. If a loan is fully paid off on time, the investors make a return which corresponds to the interest rate the borrower had to pay in addition the requested amount. Many loans aren't completely paid off on time, however, and some borrowers [default](https://www.lendingclub.com/public/collections-process.action) on the loan.<br>\n",
    "\n",
    "Here's a diagram from [Bible Money Matters](http://www.biblemoneymatters.com/introduction-to-peer-to-peer-lending-signing-up-to-use-lending-club/) that sums up the process:\n",
    "\n",
    "![http://cdn.biblemoneymatters.com/wp-content/uploads/2009/08/how-social-lending-works.jpg](http://cdn.biblemoneymatters.com/wp-content/uploads/2009/08/how-social-lending-works.jpg)\n",
    "\n",
    "While Lending Club has to be extremely savvy and rigorous with their credit modelling, investors on Lending Club need to be equally as savvy about determining which loans are more likely to be paid off. While at first, you may wonder why investors would put money into anything but low interest loans. The incentive investors have to back higher interest loans is, well, the higher interest! If investors believe the borrower can pay back the loan, even if he or she has a weak financial history, then investors can make more money through the larger additional amount the borrower has to pay.<br>\n",
    "\n",
    "Most investors use a portfolio strategy to invest small amounts in many loans, with healthy mixes of low, medium, and interest loans. In this course, we'll focus on the mindset of a conservative investor who only wants to invest in the loans that have a good chance of being paid off on time. To do that, we'll need to first understand the features in the dataset and then experiment with building machine learning models that reliably predict if a loan will be paid off or not."
   ]
  },
  {
   "cell_type": "code",
   "execution_count": null,
   "metadata": {},
   "outputs": [],
   "source": []
  },
  {
   "cell_type": "markdown",
   "metadata": {},
   "source": [
    "## Introduction to the data\n",
    "\n",
    "Lending Club releases data for all of the approved and declined loan applications periodically [on their website](https://www.lendingclub.com/info/download-data.action). You can select a few different year ranges to download the datasets (in CSV format) for both approved and declined loans.<br>\n",
    "\n",
    "You'll also find a **data dictionary** (in XLS format) which contains information on the different column names towards the bottom of the page. We recommend downloading the data dictionary to so you can refer to it whenever you want to learn more about what a column represents in the datasets. Here's a link to the data dictionary file hosted on [Google Drive](https://docs.google.com/spreadsheets/d/191B2yJ4H1ZPXq0_ByhUgWMFZOYem5jFz0Y3by_7YBY4/edit).<br>\n",
    "\n",
    "Before diving into the datasets themselves, let's get familiar with the data dictionary. The **LoanStats** sheet describes the approved loans datasets and the **RejectStats** describes the rejected loans datasets. Since rejected applications don't appear on the Lending Club marketplace and aren't available for investment, we'll be focusing on data on approved loans only.<br>\n",
    "\n",
    "* The approved loans datasets contain information on current loans, completed loans, and defaulted loans. Let's now define the problem statement for this machine learning project:\n",
    "\n",
    "Can we build a machine learning model that can accurately predict if a borrower will pay off their loan on time or not?\n",
    "Before we can start doing machine learning, we need to define what features we want to use and which column repesents the target column we want to predict. Let's start by reading in the dataset and exploring it."
   ]
  },
  {
   "cell_type": "code",
   "execution_count": null,
   "metadata": {},
   "outputs": [],
   "source": []
  },
  {
   "cell_type": "markdown",
   "metadata": {},
   "source": [
    "## Reading In to Pandas\n",
    "\n",
    "In this mission, we'll focus on approved loans data from 2007 to 2011, since a good number of the loans have already finished. In the datasets for later years, many of the loans are current and still being paid off.<br>\n",
    "\n",
    "To ensure that code runs fast on our platform, we reduced the size of `LoanStats3a.csv` by:\n",
    "\n",
    "* removing the first line:\n",
    "  * because it contains the extraneous text `Notes offered by Prospectus (https://www.lendingclub.com/info/prospectus.action)` instead of the column titles, which prevents the dataset from being parsed by the pandas library properly\n",
    "* removing the `desc` column:\n",
    "  * which contains a long text explanation for each loan\n",
    "* removing the `url` column:\n",
    "  * which contains a link to each loan on Lending Club which can only be accessed with an investor account\n",
    "* removing all columns containing more than 50% missing values:\n",
    "  * which allows us to move faster since we can spend less time trying to fill these values\n",
    "\n",
    "The following code replicates this process, if you want to replicate the dataset to work with it on your own:\n",
    "\n",
    "```python\n",
    "import pandas as pd\n",
    "loans_2007 = pd.read_csv('LoanStats3a.csv', skiprows=1)\n",
    "half_count = len(loans_2007) / 2\n",
    "loans_2007 = loans_2007.dropna(thresh=half_count, axis=1)\n",
    "loans_2007 = loans_2007.drop(['desc', 'url'],axis=1)\n",
    "loans_2007.to_csv('loans_2007.csv', index=False)\n",
    "```\n",
    "\n",
    "We named the filtered dataset `loans_2007.csv` instead in case we want to explore the raw dataset (`LoanStats3a.csv`) without mixing up the two. First things first, let's read in the dataset into a Dataframe so we can start to explore the data and explore the remaining features."
   ]
  },
  {
   "cell_type": "code",
   "execution_count": null,
   "metadata": {},
   "outputs": [],
   "source": []
  },
  {
   "cell_type": "markdown",
   "metadata": {},
   "source": [
    "* Read `loans_2007.csv` into a DataFrame named `loans_2007` and use the `print` function to display the first row of the Dataframe.\n",
    "* Use the `print` function to:\n",
    "  * display the first row of `loans_2007` and\n",
    "  * the number of columns in `loans_2007`.\n"
   ]
  },
  {
   "cell_type": "code",
   "execution_count": 1,
   "metadata": {},
   "outputs": [
    {
     "name": "stderr",
     "output_type": "stream",
     "text": [
      "/usr/local/lib/python3.6/site-packages/IPython/core/interactiveshell.py:2728: DtypeWarning: Columns (0) have mixed types. Specify dtype option on import or set low_memory=False.\n",
      "  interactivity=interactivity, compiler=compiler, result=result)\n"
     ]
    },
    {
     "data": {
      "text/html": [
       "<div>\n",
       "<style scoped>\n",
       "    .dataframe tbody tr th:only-of-type {\n",
       "        vertical-align: middle;\n",
       "    }\n",
       "\n",
       "    .dataframe tbody tr th {\n",
       "        vertical-align: top;\n",
       "    }\n",
       "\n",
       "    .dataframe thead th {\n",
       "        text-align: right;\n",
       "    }\n",
       "</style>\n",
       "<table border=\"1\" class=\"dataframe\">\n",
       "  <thead>\n",
       "    <tr style=\"text-align: right;\">\n",
       "      <th></th>\n",
       "      <th>id</th>\n",
       "      <th>member_id</th>\n",
       "      <th>loan_amnt</th>\n",
       "      <th>funded_amnt</th>\n",
       "      <th>funded_amnt_inv</th>\n",
       "      <th>term</th>\n",
       "      <th>int_rate</th>\n",
       "      <th>installment</th>\n",
       "      <th>grade</th>\n",
       "      <th>sub_grade</th>\n",
       "      <th>...</th>\n",
       "      <th>last_pymnt_amnt</th>\n",
       "      <th>last_credit_pull_d</th>\n",
       "      <th>collections_12_mths_ex_med</th>\n",
       "      <th>policy_code</th>\n",
       "      <th>application_type</th>\n",
       "      <th>acc_now_delinq</th>\n",
       "      <th>chargeoff_within_12_mths</th>\n",
       "      <th>delinq_amnt</th>\n",
       "      <th>pub_rec_bankruptcies</th>\n",
       "      <th>tax_liens</th>\n",
       "    </tr>\n",
       "  </thead>\n",
       "  <tbody>\n",
       "    <tr>\n",
       "      <th>0</th>\n",
       "      <td>1077501</td>\n",
       "      <td>1296599.0</td>\n",
       "      <td>5000.0</td>\n",
       "      <td>5000.0</td>\n",
       "      <td>4975.0</td>\n",
       "      <td>36 months</td>\n",
       "      <td>10.65%</td>\n",
       "      <td>162.87</td>\n",
       "      <td>B</td>\n",
       "      <td>B2</td>\n",
       "      <td>...</td>\n",
       "      <td>171.62</td>\n",
       "      <td>Jun-2016</td>\n",
       "      <td>0.0</td>\n",
       "      <td>1.0</td>\n",
       "      <td>INDIVIDUAL</td>\n",
       "      <td>0.0</td>\n",
       "      <td>0.0</td>\n",
       "      <td>0.0</td>\n",
       "      <td>0.0</td>\n",
       "      <td>0.0</td>\n",
       "    </tr>\n",
       "  </tbody>\n",
       "</table>\n",
       "<p>1 rows × 52 columns</p>\n",
       "</div>"
      ],
      "text/plain": [
       "        id  member_id  loan_amnt  funded_amnt  funded_amnt_inv        term  \\\n",
       "0  1077501  1296599.0     5000.0       5000.0           4975.0   36 months   \n",
       "\n",
       "  int_rate  installment grade sub_grade    ...    last_pymnt_amnt  \\\n",
       "0   10.65%       162.87     B        B2    ...             171.62   \n",
       "\n",
       "  last_credit_pull_d collections_12_mths_ex_med  policy_code application_type  \\\n",
       "0           Jun-2016                        0.0          1.0       INDIVIDUAL   \n",
       "\n",
       "  acc_now_delinq chargeoff_within_12_mths delinq_amnt pub_rec_bankruptcies  \\\n",
       "0            0.0                      0.0         0.0                  0.0   \n",
       "\n",
       "  tax_liens  \n",
       "0       0.0  \n",
       "\n",
       "[1 rows x 52 columns]"
      ]
     },
     "execution_count": 1,
     "metadata": {},
     "output_type": "execute_result"
    }
   ],
   "source": [
    "import pandas as pd\n",
    "loans_2007 = pd.read_csv('data/loans_2007.csv')\n",
    "\n",
    "loans_2007.head(1)"
   ]
  },
  {
   "cell_type": "code",
   "execution_count": 2,
   "metadata": {},
   "outputs": [
    {
     "name": "stdout",
     "output_type": "stream",
     "text": [
      "52\n"
     ]
    }
   ],
   "source": [
    "print(len(loans_2007.columns))"
   ]
  },
  {
   "cell_type": "code",
   "execution_count": null,
   "metadata": {},
   "outputs": [],
   "source": []
  },
  {
   "cell_type": "markdown",
   "metadata": {},
   "source": [
    "## First group of columns\n",
    "\n",
    "The Dataframe contains many columns and can be cumbersome to try to explore all at once. Let's break up the columns into 3 groups of 18 columns and use the [data dictionary](https://docs.google.com/spreadsheets/d/191B2yJ4H1ZPXq0_ByhUgWMFZOYem5jFz0Y3by_7YBY4/edit) to become familiar with what each column represents. As you understand each feature, you want to pay attention to any features that:\n",
    "\n",
    "* leak information from the future (after the loan has already been funded)\n",
    "* don't affect a borrower's ability to pay back a loan (e.g. a randomly generated ID value by Lending Club)\n",
    "* formatted poorly and need to be cleaned up\n",
    "* require more data or a lot of processing to turn into a useful feature\n",
    "* contain redundant information\n",
    "\n",
    "We need to especially pay attention to data leakage, since it can cause our model to overfit. This is because the model would be using data about the target column that wouldn't be available when we're using the model on future loans. We encourage you to spend as much time as you need to understand each column, because a poor understanding could cause you to make mistakes in the data analysis and modeling process. As you go through the dictionary, keep in mind that we need to select one of the columns as the target column we want to use when we move on to the machine learning phase.<br>\n",
    "\n",
    "In this screen and the next few screens, let's focus on just columns that we need to remove from consideration. Then, we can circle back and further dissect the columns we decided to keep.<br>\n",
    "\n",
    "To make this process easier, we created a table that contains the name, data type, first row's value, and description from the data dictionary for the first 18 rows.\n",
    "\n",
    "\n",
    "\n",
    "\n",
    "\n"
   ]
  },
  {
   "cell_type": "markdown",
   "metadata": {},
   "source": [
    "name|dtype|first value|description\n",
    "---|---|---|---\n",
    "id|object|1077501|A unique LC assigned ID for the loan listing.\n",
    "member_id|float64|1.2966e+06|A unique LC assigned Id for the borrower member.\n",
    "loan_amnt|float64|5000|The listed amount of the loan applied for by the borrower.\n",
    "funded_amnt|float64|5000|The total amount committed to that loan at that point in time.\n",
    "funded_amnt_inv|float64|49750|The total amount committed by investors for that loan at that point in time.\n",
    "term|object|36 months|The number of payments on the loan. Values are in months and can be either 36 or 60.\n",
    "int_rate|object|10.65%|Interest Rate on the loan\n",
    "installment|float64|162.87|The monthly payment owed by the borrower if the loan originates.\n",
    "grade|object|B|LC assigned loan grade\n",
    "sub_grade|object|B2|LC assigned loan subgrade\n",
    "emp_title|object|NaN|The job title supplied by the Borrower when applying for the loan.\n",
    "emp_length|object|10+ years|Employment length in years. Possible values are between 0 and 10 where 0 means less than one year and 10 means ten or more years.\n",
    "home_ownership|object|RENT|The home ownership status provided by the borrower during registration. Our values are: RENT, OWN, MORTGAGE, OTHER.\n",
    "annual_inc|float64|24000|The self-reported annual income provided by the borrower during registration.\n",
    "verification_status|object|Verified|Indicates if income was verified by LC, not verified, or if the income source was verified\n",
    "issue_d|object|Dec-2011|The month which the loan was funded\n",
    "loan_status|object|Charged Off|Current status of the loan\n",
    "pymnt_plan|object|n|Indicates if a payment plan has been put in place for the loan\n",
    "purpose|object|car|A category provided by the borrower for the loan request."
   ]
  },
  {
   "cell_type": "code",
   "execution_count": null,
   "metadata": {},
   "outputs": [],
   "source": []
  },
  {
   "cell_type": "markdown",
   "metadata": {},
   "source": [
    "After analyzing each column, we can conclude that the following features need to be removed:\n",
    "\n",
    "* `id`: randomly generated field by Lending Club for unique identification purposes only\n",
    "* `member_id`: also a randomly generated field by Lending Club for unique identification purposes only\n",
    "* `funded_amnt`: leaks data from the future (after the loan is already started to be funded)\n",
    "* `funded_amnt_inv`: also leaks data from the future (after the loan is already started to be funded)\n",
    "* `grade`: contains redundant information as the interest rate column (int_rate)\n",
    "* `sub_grade`: also contains redundant information as the interest rate column (`int_rate`)\n",
    "* `emp_title`: requires other data and a lot of processing to potentially be useful\n",
    "* `issue_d`: leaks data from the future (after the loan is already completed funded)\n",
    "\n",
    "Recall that Lending Club assigns a grade and a sub-grade based on the borrower's interest rate. While the `grade` and `sub_grade` values are categorical, the `int_rate` column contains continuous values, which are better suited for machine learning.<br>\n",
    "\n",
    "Let's now drop these columns from the Dataframe before moving onto the next group of columns."
   ]
  },
  {
   "cell_type": "code",
   "execution_count": null,
   "metadata": {},
   "outputs": [],
   "source": []
  },
  {
   "cell_type": "markdown",
   "metadata": {},
   "source": [
    "## First group of columns\n",
    "\n",
    "Use the Dataframe method [drop](http://pandas.pydata.org/pandas-docs/stable/generated/pandas.DataFrame.drop.html) to remove the following columns from the `loans_2007` Dataframe:\n",
    "\n",
    "* id\n",
    "* member_id\n",
    "* funded_amnt\n",
    "* funded_amnt_inv\n",
    "* grade\n",
    "* sub_grade\n",
    "* emp_title\n",
    "* issue_d"
   ]
  },
  {
   "cell_type": "code",
   "execution_count": null,
   "metadata": {},
   "outputs": [],
   "source": [
    "cols_to_drop = ['id', 'member_id', 'funded_amnt', 'funded_amnt_inv', 'grade', 'sub_grade', 'emp_title', 'issue_d']\n",
    "loans_2007 = loans_2007.drop(cols_to_drop, axis=1)"
   ]
  },
  {
   "cell_type": "code",
   "execution_count": null,
   "metadata": {},
   "outputs": [],
   "source": []
  },
  {
   "cell_type": "markdown",
   "metadata": {},
   "source": [
    "## Second group of features\n",
    "\n",
    "Let's now look at the next 18 columns:\n",
    "\n",
    "name|dtype|first value|description\n",
    "---|---|---|---\n",
    "title|object|Computer|The loan title provided by the borrower\n",
    "zip_code|object|860xx|The first 3 numbers of the zip code provided by the borrower in the loan application.\n",
    "addr_state|object|AZ|The state provided by the borrower in the loan application\n",
    "dti|float64|27.65|A ratio calculated using the borrower’s total monthly debt payments on the total debt obligations, excluding mortgage and the requested LC loan, divided by the borrower’s self-reported monthly income.\n",
    "delinq_2yrs|float64|0|The number of 30+ days past-due incidences of delinquency in the borrower's credit file for the past 2 years\n",
    "earliest_cr_line|object|Jan-1985|The month the borrower's earliest reported credit line was opened\n",
    "inq_last_6mths|float64|1|The number of inquiries in past 6 months (excluding auto and mortgage inquiries)\n",
    "open_acc|float64|3|The number of open credit lines in the borrower's credit file.\n",
    "pub_rec|float64|0|Number of derogatory public records\n",
    "revol_bal|float64|13648|Total credit revolving balance\n",
    "revol_util|object|83.7%|Revolving line utilization rate, or the amount of credit the borrower is using relative to all available revolving credit.\n",
    "total_acc|float64|9|The total number of credit lines currently in the borrower's credit file\n",
    "initial_list_status|object|f|The initial listing status of the loan. Possible values are – W, F\n",
    "out_prncp|float64|0|Remaining outstanding principal for total amount funded\n",
    "out_prncp_inv|float64|0|Remaining outstanding principal for portion of total amount funded by investors\n",
    "total_pymnt|float64|5863.16|Payments received to date for total amount funded\n",
    "total_pymnt_inv|float64|5833.84|Payments received to date for portion of total amount funded by investors\n",
    "total_rec_prncp|float64|5000|Principal received to date"
   ]
  },
  {
   "cell_type": "markdown",
   "metadata": {},
   "source": [
    "Within this group of columns, we need to drop the following columns:\n",
    "\n",
    "* `zip_code`: redundant with the `addr_state` column since only the first 3 digits of the 5 digit zip code are visible (which only can be used to identify the state the borrower lives in)\n",
    "* `out_prncp`: leaks data from the future, (after the loan already started to be paid off)\n",
    "* `out_prncp_inv`: also leaks data from the future, (after the loan already started to be paid off)\n",
    "* `total_pymnt`: also leaks data from the future, (after the loan already started to be paid off)\n",
    "* `total_pymnt_inv`: also leaks data from the future, (after the loan already started to be paid off)\n",
    "* `total_rec_prncp`: also leaks data from the future, (after the loan already started to be paid off)\n",
    "\n",
    "The `out_prncp` and `out_prncp_inv` both describe the outstanding principal amount for a loan, which is the remaining amount the borrower still owes. These 2 columns as well as the `total_pymnt` column describe properties of the loan after it's fully funded and started to be paid off. This information isn't available to an investor before the loan is fully funded and we don't want to include it in our model.<br>\n",
    "\n",
    "Let's go ahead and remove these columns from the Dataframe."
   ]
  },
  {
   "cell_type": "code",
   "execution_count": 5,
   "metadata": {},
   "outputs": [],
   "source": [
    "cols_to_drop = ['zip_code', 'out_prncp', 'out_prncp_inv',\n",
    "               'total_pymnt', 'total_pymnt_inv', 'total_rec_prncp']\n",
    "loans_2007 = loans_2007.drop(cols_to_drop, axis=1)"
   ]
  },
  {
   "cell_type": "code",
   "execution_count": null,
   "metadata": {},
   "outputs": [],
   "source": []
  },
  {
   "cell_type": "markdown",
   "metadata": {},
   "source": [
    "## Third group of features\n",
    "\n",
    "Let's now move on to the last group of features:\n",
    "\n",
    "name|dtype|first value|description\n",
    "---|---|---|---\n",
    "total_rec_int|float64|863.16|Interest received to date\n",
    "total_rec_late_fee|float64|0|Late fees received to date\n",
    "recoveries|float64|0|post charge off gross recovery\n",
    "collection_recovery_fee|float64|0|post charge off collection fee\n",
    "last_pymnt_d|object|Jan-2015|Last month payment was received\n",
    "last_pymnt_amnt|float64|171.62|Last total payment amount received\n",
    "last_credit_pull_d|object|Jun-2016|The most recent month LC pulled credit for this loan\n",
    "collections_12_mths_ex_med|float64|0|Number of collections in 12 months excluding medical collections\n",
    "policy_code|float64|1|publicly available policy_code=1 new products not publicly available policy_code=2\n",
    "application_type|object|INDIVIDUAL|Indicates whether the loan is an individual application or a joint application with two co-borrowers\n",
    "acc_now_delinq|float64|0|The number of accounts on which the borrower is now delinquent.\n",
    "chargeoff_within_12_mths|float64|0|Number of charge-offs within 12 months\n",
    "delinq_amnt|float64|0|The past-due amount owed for the accounts on which the borrower is now delinquent.\n",
    "pub_rec_bankruptcies|float64|0|Number of public record bankruptcies\n",
    "tax_liens|float64|0|Number of tax liens"
   ]
  },
  {
   "cell_type": "markdown",
   "metadata": {},
   "source": [
    "In the last group of columns, we need to drop the following columns:\n",
    "\n",
    "* `total_rec_int`: leaks data from the future, (after the loan already started to be paid off),\n",
    "* `total_rec_late_fee`: also leaks data from the future, (after the loan already started to be paid off),\n",
    "* `recoveries`: also leaks data from the future, (after the loan already started to be paid off),\n",
    "* `collection_recovery_fee`: also leaks data from the future, (after the loan already started to be paid off),\n",
    "* `last_pymnt_d`: also leaks data from the future, (after the loan already started to be paid off),\n",
    "* `last_pymnt_amnt`: also leaks data from the future, (after the loan already started to be paid off).\n",
    "\n",
    "All of these columns leak data from the future, meaning that they're describing aspects of the loan after it's already been fully funded and started to be paid off by the borrower."
   ]
  },
  {
   "cell_type": "code",
   "execution_count": null,
   "metadata": {},
   "outputs": [],
   "source": []
  },
  {
   "cell_type": "code",
   "execution_count": 6,
   "metadata": {},
   "outputs": [
    {
     "name": "stdout",
     "output_type": "stream",
     "text": [
      "   loan_amnt        term int_rate  installment emp_length home_ownership  \\\n",
      "0     5000.0   36 months   10.65%       162.87  10+ years           RENT   \n",
      "\n",
      "   annual_inc verification_status loan_status pymnt_plan    ...      \\\n",
      "0     24000.0            Verified  Fully Paid          n    ...       \n",
      "\n",
      "  initial_list_status last_credit_pull_d collections_12_mths_ex_med  \\\n",
      "0                   f           Jun-2016                        0.0   \n",
      "\n",
      "   policy_code  application_type acc_now_delinq  chargeoff_within_12_mths  \\\n",
      "0          1.0        INDIVIDUAL            0.0                       0.0   \n",
      "\n",
      "   delinq_amnt  pub_rec_bankruptcies  tax_liens  \n",
      "0          0.0                   0.0        0.0  \n",
      "\n",
      "[1 rows x 32 columns]\n",
      "32\n"
     ]
    }
   ],
   "source": [
    "cols_to_drop = ['total_rec_int', 'total_rec_late_fee', 'recoveries',\n",
    "               'collection_recovery_fee', 'last_pymnt_d',\n",
    "               'last_pymnt_d', 'last_pymnt_amnt']\n",
    "loans_2007 = loans_2007.drop(cols_to_drop, axis=1)\n",
    "\n",
    "print(loans_2007.head(1))\n",
    "print(len(loans_2007.columns))"
   ]
  },
  {
   "cell_type": "code",
   "execution_count": null,
   "metadata": {},
   "outputs": [],
   "source": []
  },
  {
   "cell_type": "markdown",
   "metadata": {},
   "source": [
    "## Target column\n",
    "\n",
    "Just by becoming familiar with the columns in the dataset, we were able to reduce the number of columns from 52 to 32 columns. We now need to decide on a target column that we want to use for modeling.<br>\n",
    "\n",
    "We should use the `loan_status` column, since it's the only column that directly describes if a loan was paid off on time, had delayed payments, or was defaulted on the borrower. Currently, this column contains text values and we need to convert it to a numerical one for training a model. Let's explore the different values in this column and come up with a strategy for converting the values in this column.\n",
    "\n",
    "* Use the Dataframe method [value_counts](http://pandas.pydata.org/pandas-docs/stable/generated/pandas.Series.value_counts.html) to return the frequency of the unique values in the `loan_status` column.\n",
    "* Display the frequency of each unique value using the `print` function."
   ]
  },
  {
   "cell_type": "code",
   "execution_count": 7,
   "metadata": {},
   "outputs": [
    {
     "name": "stdout",
     "output_type": "stream",
     "text": [
      "Fully Paid                                             33136\n",
      "Charged Off                                             5634\n",
      "Does not meet the credit policy. Status:Fully Paid      1988\n",
      "Current                                                  961\n",
      "Does not meet the credit policy. Status:Charged Off      761\n",
      "Late (31-120 days)                                        24\n",
      "In Grace Period                                           20\n",
      "Late (16-30 days)                                          8\n",
      "Default                                                    3\n",
      "Name: loan_status, dtype: int64\n"
     ]
    }
   ],
   "source": [
    "print(loans_2007['loan_status'].value_counts())"
   ]
  },
  {
   "cell_type": "code",
   "execution_count": null,
   "metadata": {},
   "outputs": [],
   "source": []
  },
  {
   "cell_type": "markdown",
   "metadata": {},
   "source": [
    "## Binary classification\n",
    "\n",
    "There are **8 different possible values** for the `loan_status` column. You can read about most of the different loan statuses [on the Lending Clube webste](http://kb.lendingclub.com/investor/articles/Investor/What-do-the-different-Note-statuses-mean/). The 2 values that start with \"Does not meet the credit policy\" aren't explained unfortunately. A quick Google search takes us to explanations from the lending comunity [here](http://www.lendacademy.com/forum/index.php?topic=2427.msg20813#msg20813) and [here](http://www.orchardplatform.com/blog/2014520loans-issued-under-previous-credit-policies/).<br>\n",
    "\n",
    "We've compiled the explanation for each column as well as the counts in the Dataframe in the following table:\n",
    "\n",
    "Loan Status\tCount|Meaning\n",
    "---|---\n",
    "Fully Paid|33136|Loan has been fully paid off.\n",
    "Charged Off|5634|Loan for which there is no longer a reasonable expectation of further payments.\n",
    "Does not meet the credit policy. Status:Fully Paid|1988|While the loan was paid off, the loan application today would no longer meet the credit policy and wouldn't be approved on to the marketplace.\n",
    "Does not meet the credit policy. Status:Charged Off|761|While the loan was charged off, the loan application today would no longer meet the credit policy and wouldn't be approved on to the marketplace.\n",
    "In Grace Period|20|The loan is past due but still in the grace period of 15 days.\n",
    "Late (16-30 days)|8|Loan hasn't been paid in 16 to 30 days (late on the current payment).\n",
    "Late (31-120 days)|24|Loan hasn't been paid in 31 to 120 days (late on the current payment).\n",
    "Current|961|Loan is up to date on current payments.\n",
    "Default|3|Loan is defaulted on and no payment has been made for more than 121 days.\n",
    "\n",
    "From the investor's perspective, we're interested in trying to predict which loans will be paid off on time and which ones won't be. Only the `Fully Paid` and `Charged Off` values describe the final outcome of the loan. The other values describe loans that are still on going and where the jury is still out on if the borrower will pay back the loan on time or not. While the `Default` status resembles the `Charged Off` status, in Lending Club's eyes, loans that are charged off have essentially no chance of being repaid while default ones have a small chance. You can read about the difference here.<br>\n",
    "\n",
    "Since we're interesting in being able to predict which of these 2 values a loan will fall under, we can treat the problem as a **binary classification** one. Let's remove all the loans that don't contain either `Fully Paid` and `Charged Off` as the loan's status and then transform the `Fully Paid` values to `1` for the positive case and the `Charged Off` values to `0` for the negative case. While there are a few different ways to transform all of the values in a column, we'll use the [Dataframe method replace](http://pandas.pydata.org/pandas-docs/stable/generated/pandas.DataFrame.replace.html). According to the documentation, we can pass the `replace` method a nested mapping dictionary in the following format:\n",
    "\n",
    "```python\n",
    "mapping_dict = {\n",
    "    \"date\": {\n",
    "        \"january\": 1,\n",
    "        \"february\": 2,\n",
    "        \"march\": 3\n",
    "    }\n",
    "}\n",
    "df = df.replace(mapping_dict)\n",
    "```\n",
    "\n",
    "Lastly, one thing we need to keep in mind is the **class imbalance** between the positive and negative cases. \n",
    "* While there are 33,136 loans that have been fully paid off, \n",
    "* there are only 5,634 that were charged off. \n",
    "\n",
    "This class imbalance is a common problem in binary classification and during training, the model ends up having a strong bias towards predicting the class with more observations in the training set and will rarely predict the class with less observations. The stronger the imbalance, the more biased the model becomes. There are a few different ways to tackle this class imbalance, which we'll explore later."
   ]
  },
  {
   "cell_type": "code",
   "execution_count": null,
   "metadata": {},
   "outputs": [],
   "source": []
  },
  {
   "cell_type": "markdown",
   "metadata": {},
   "source": [
    "* Remove all rows from `loans_2007` that contain values other than `Fully Paid` or `Charged Off` for the `loan_status` column.\n",
    "* Use the Dataframe method `replace` to replace:\n",
    "  * `Fully Paid` with `1`\n",
    "  * `Charged Off` with `0`"
   ]
  },
  {
   "cell_type": "code",
   "execution_count": 8,
   "metadata": {},
   "outputs": [],
   "source": [
    "loans_2007 = loans_2007[(loans_2007['loan_status']=='Fully Paid') |\\\n",
    "                       (loans_2007['loan_status']=='Charged Off')]\n",
    "\n",
    "mapping_dict = {'loan_status':{'Fully Paid':1,\n",
    "                             'Charged Off':0\n",
    "                              }\n",
    "                }\n",
    "loans_2007 = loans_2007.replace(mapping_dict)"
   ]
  },
  {
   "cell_type": "code",
   "execution_count": null,
   "metadata": {},
   "outputs": [],
   "source": []
  },
  {
   "cell_type": "markdown",
   "metadata": {},
   "source": [
    "## Removing single value columns\n",
    "\n",
    "To wrap up this mission, let's look for any columns that contain only one unique value and remove them. These columns won't be useful for the model since they don't add any information to each loan application. In addition, removing these columns will reduce the number of columns we'll need to explore further in the next mission.<br>\n",
    "\n",
    "We'll need to compute the number of unique values in each column and drop the columns that contain only one unique value. While the Series method unique returns the `unique` values in a column, it also counts the Pandas missing value object `nan` as a value:\n",
    "\n",
    "```python\n",
    "# Returns 0 and nan.\n",
    "unique_values = loans['tax_liens'].unique()\n",
    "```\n",
    "\n",
    "Since we're trying to find columns that contain one true unique value, we should first drop the null values then compute the number of unique values:\n",
    "\n",
    "```python\n",
    "non_null = loans_2007['tax_liens'].dropna()\n",
    "unique_non_null = non_null.unique()\n",
    "num_true_unique = len(unique_non_null)\n",
    "```"
   ]
  },
  {
   "cell_type": "code",
   "execution_count": null,
   "metadata": {},
   "outputs": [],
   "source": []
  },
  {
   "cell_type": "markdown",
   "metadata": {},
   "source": [
    "Remove any columns from `loans_2007` that contain only one unique value:\n",
    "* Create an empty list, `drop_columns` to keep track of which columns you want to drop\n",
    "* For each column:\n",
    "  * Use the Series method [dropna](http://pandas.pydata.org/pandas-docs/stable/generated/pandas.Series.dropna.html) to remove any null values and then use the Series method [unique](http://pandas.pydata.org/pandas-docs/stable/generated/pandas.Series.unique.html) to return the set of non-null unique values\n",
    "  * Use the `len()` function to return the number of values in that set\n",
    "  * Append the column to `drop_columns` if it contains only 1 unique value\n",
    "* Use the Dataframe method [drop](http://pandas.pydata.org/pandas-docs/stable/generated/pandas.DataFrame.drop.html) to remove the columns in `drop_columns` from `loans_2007`\n",
    "\n",
    "Use the `print` function to display `drop_columns` so we know which ones were removed."
   ]
  },
  {
   "cell_type": "code",
   "execution_count": 9,
   "metadata": {},
   "outputs": [
    {
     "name": "stdout",
     "output_type": "stream",
     "text": [
      "['pymnt_plan', 'initial_list_status', 'collections_12_mths_ex_med', 'policy_code', 'application_type', 'acc_now_delinq', 'chargeoff_within_12_mths', 'delinq_amnt', 'tax_liens']\n"
     ]
    }
   ],
   "source": [
    "drop_columns = []\n",
    "\n",
    "for col in loans_2007.columns:\n",
    "    \n",
    "    if len(loans_2007[col].dropna().unique())==1:\n",
    "        drop_columns.append(col)\n",
    "        \n",
    "        \n",
    "loans_2007 = loans_2007.drop(drop_columns, axis=1)\n",
    "    \n",
    "print(drop_columns)"
   ]
  },
  {
   "cell_type": "code",
   "execution_count": null,
   "metadata": {},
   "outputs": [],
   "source": []
  },
  {
   "cell_type": "markdown",
   "metadata": {},
   "source": [
    "## Next Steps\n",
    "\n",
    "It looks we we were able to remove 9 more columns since they only contained 1 unique value.<br>\n",
    "\n",
    "In this mission, we started to become familiar with the columns in the dataset and removed many columns that aren't useful for modeling. We also selected our target column and decided to focus our modeling efforts on binary classification. In the next mission, we'll explore the individual features in greater depth and work towards training our first machine learning model."
   ]
  },
  {
   "cell_type": "code",
   "execution_count": null,
   "metadata": {},
   "outputs": [],
   "source": []
  }
 ],
 "metadata": {
  "kernelspec": {
   "display_name": "Python 3",
   "language": "python",
   "name": "python3"
  },
  "language_info": {
   "codemirror_mode": {
    "name": "ipython",
    "version": 3
   },
   "file_extension": ".py",
   "mimetype": "text/x-python",
   "name": "python",
   "nbconvert_exporter": "python",
   "pygments_lexer": "ipython3",
   "version": "3.6.2"
  }
 },
 "nbformat": 4,
 "nbformat_minor": 2
}
