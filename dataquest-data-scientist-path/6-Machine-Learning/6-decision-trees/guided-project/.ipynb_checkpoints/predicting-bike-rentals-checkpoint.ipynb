{
 "cells": [
  {
   "cell_type": "markdown",
   "metadata": {},
   "source": [
    "### Guided Project:\n",
    "# Predicting Bike Rentals"
   ]
  },
  {
   "cell_type": "code",
   "execution_count": null,
   "metadata": {
    "collapsed": true
   },
   "outputs": [],
   "source": []
  },
  {
   "cell_type": "markdown",
   "metadata": {},
   "source": [
    "## Introduction to the Data Set\n",
    "\n",
    "Many American cities have communal bike sharing stations where you can rent bicycles by the hour or day. Washington, D.C. is one of these cities. The District collects detailed data on the number of bicycles people rent by the hour and day.<br>\n",
    "\n",
    "[Hadi Fanaee-T](http://www.liaad.up.pt/area/fanaee) at the [University of Porto](http://www.up.pt/) compiled this data into a CSV file, which you'll be working with in this project. The file contains `17380` rows, with each row representing the number of bike rentals for a single hour of a single day. You can download the data from the [University of California, Irvine's website](http://archive.ics.uci.edu/ml/datasets/Bike+Sharing+Dataset). If you need help at any point, you can consult the solution notebook in [our GitHub repository](https://github.com/dataquestio/solutions/blob/master/Mission213Solution.ipynb).\n",
    "\n",
    "Here's what the first five rows look like:\n",
    "\n",
    "![https://dq-content.s3.amazonaws.com/tOZ70lr.png](https://dq-content.s3.amazonaws.com/tOZ70lr.png)\n",
    "\n",
    "Here are the descriptions for the relevant columns:\n",
    "\n",
    "* `instant` - A unique sequential ID number for each row\n",
    "* `dteday` - The date of the rentals\n",
    "* `season` - The season in which the rentals occurred\n",
    "* `yr` - The year the rentals occurred\n",
    "* `mnth` - The month the rentals occurred\n",
    "* `hr` - The hour the rentals occurred\n",
    "* `holiday` - Whether or not the day was a holiday\n",
    "* `weekday` - The day of the week (as a number, `0` to `7`)\n",
    "* `workingday` - Whether or not the day was a working day\n",
    "* `weathersit` - The weather (as a categorical variable)\n",
    "* `temp` - The temperature, on a `0-1` scale\n",
    "* `atemp` - The adjusted temperature\n",
    "* `hum` - The humidity, on a `0-1` scale\n",
    "* `windspeed` - The wind speed, on a `0-1` scale\n",
    "* `casual` - The number of casual riders (people who hadn't previously signed up with the bike sharing program)\n",
    "* `registered` - The number of registered riders (people who had already signed up)\n",
    "* `cnt` - The total number of bike rentals (`casual` + `registered`)\n",
    "\n",
    "In this project, you'll try to predict the total number of bikes people rented in a given hour. You'll predict the `cnt` column using all of the other columns, except for `casual` and `registered`. To accomplish this, you'll create a few different machine learning models and evaluate their performance."
   ]
  },
  {
   "cell_type": "code",
   "execution_count": null,
   "metadata": {
    "collapsed": true
   },
   "outputs": [],
   "source": []
  },
  {
   "cell_type": "markdown",
   "metadata": {},
   "source": [
    "* Use the pandas library to read `bike_rental_hour.csv` into the dataframe `bike_rentals`.\n",
    "* Print out the first few rows of `bike_rentals` and take a look at the data.\n",
    "* Make a histogram of the `cnt` column of `bike_rentals`, and take a look at the distribution of total rentals.\n",
    "* Use the corr method on the `bike_rentals` dataframe to explore how each column is correlated with `cnt`."
   ]
  },
  {
   "cell_type": "code",
   "execution_count": 1,
   "metadata": {},
   "outputs": [],
   "source": [
    "import pandas as pd\n",
    "\n",
    "import sklearn\n",
    "from sklearn.linear_model import LinearRegression\n",
    "from sklearn.tree import DecisionTreeRegressor\n",
    "from sklearn.metrics import mean_squared_error\n",
    "from sklearn.metrics import r2_score\n",
    "from sklearn.metrics import accuracy_score\n",
    "\n",
    "from matplotlib import pyplot as plt\n",
    "import seaborn as sns\n",
    "%matplotlib inline"
   ]
  },
  {
   "cell_type": "code",
   "execution_count": 2,
   "metadata": {
    "scrolled": true
   },
   "outputs": [
    {
     "data": {
      "text/html": [
       "<div>\n",
       "<style scoped>\n",
       "    .dataframe tbody tr th:only-of-type {\n",
       "        vertical-align: middle;\n",
       "    }\n",
       "\n",
       "    .dataframe tbody tr th {\n",
       "        vertical-align: top;\n",
       "    }\n",
       "\n",
       "    .dataframe thead th {\n",
       "        text-align: right;\n",
       "    }\n",
       "</style>\n",
       "<table border=\"1\" class=\"dataframe\">\n",
       "  <thead>\n",
       "    <tr style=\"text-align: right;\">\n",
       "      <th></th>\n",
       "      <th>instant</th>\n",
       "      <th>dteday</th>\n",
       "      <th>season</th>\n",
       "      <th>yr</th>\n",
       "      <th>mnth</th>\n",
       "      <th>hr</th>\n",
       "      <th>holiday</th>\n",
       "      <th>weekday</th>\n",
       "      <th>workingday</th>\n",
       "      <th>weathersit</th>\n",
       "      <th>temp</th>\n",
       "      <th>atemp</th>\n",
       "      <th>hum</th>\n",
       "      <th>windspeed</th>\n",
       "      <th>casual</th>\n",
       "      <th>registered</th>\n",
       "      <th>cnt</th>\n",
       "    </tr>\n",
       "  </thead>\n",
       "  <tbody>\n",
       "    <tr>\n",
       "      <th>0</th>\n",
       "      <td>1</td>\n",
       "      <td>2011-01-01</td>\n",
       "      <td>1</td>\n",
       "      <td>0</td>\n",
       "      <td>1</td>\n",
       "      <td>0</td>\n",
       "      <td>0</td>\n",
       "      <td>6</td>\n",
       "      <td>0</td>\n",
       "      <td>1</td>\n",
       "      <td>0.24</td>\n",
       "      <td>0.2879</td>\n",
       "      <td>0.81</td>\n",
       "      <td>0.0</td>\n",
       "      <td>3</td>\n",
       "      <td>13</td>\n",
       "      <td>16</td>\n",
       "    </tr>\n",
       "    <tr>\n",
       "      <th>1</th>\n",
       "      <td>2</td>\n",
       "      <td>2011-01-01</td>\n",
       "      <td>1</td>\n",
       "      <td>0</td>\n",
       "      <td>1</td>\n",
       "      <td>1</td>\n",
       "      <td>0</td>\n",
       "      <td>6</td>\n",
       "      <td>0</td>\n",
       "      <td>1</td>\n",
       "      <td>0.22</td>\n",
       "      <td>0.2727</td>\n",
       "      <td>0.80</td>\n",
       "      <td>0.0</td>\n",
       "      <td>8</td>\n",
       "      <td>32</td>\n",
       "      <td>40</td>\n",
       "    </tr>\n",
       "    <tr>\n",
       "      <th>2</th>\n",
       "      <td>3</td>\n",
       "      <td>2011-01-01</td>\n",
       "      <td>1</td>\n",
       "      <td>0</td>\n",
       "      <td>1</td>\n",
       "      <td>2</td>\n",
       "      <td>0</td>\n",
       "      <td>6</td>\n",
       "      <td>0</td>\n",
       "      <td>1</td>\n",
       "      <td>0.22</td>\n",
       "      <td>0.2727</td>\n",
       "      <td>0.80</td>\n",
       "      <td>0.0</td>\n",
       "      <td>5</td>\n",
       "      <td>27</td>\n",
       "      <td>32</td>\n",
       "    </tr>\n",
       "    <tr>\n",
       "      <th>3</th>\n",
       "      <td>4</td>\n",
       "      <td>2011-01-01</td>\n",
       "      <td>1</td>\n",
       "      <td>0</td>\n",
       "      <td>1</td>\n",
       "      <td>3</td>\n",
       "      <td>0</td>\n",
       "      <td>6</td>\n",
       "      <td>0</td>\n",
       "      <td>1</td>\n",
       "      <td>0.24</td>\n",
       "      <td>0.2879</td>\n",
       "      <td>0.75</td>\n",
       "      <td>0.0</td>\n",
       "      <td>3</td>\n",
       "      <td>10</td>\n",
       "      <td>13</td>\n",
       "    </tr>\n",
       "    <tr>\n",
       "      <th>4</th>\n",
       "      <td>5</td>\n",
       "      <td>2011-01-01</td>\n",
       "      <td>1</td>\n",
       "      <td>0</td>\n",
       "      <td>1</td>\n",
       "      <td>4</td>\n",
       "      <td>0</td>\n",
       "      <td>6</td>\n",
       "      <td>0</td>\n",
       "      <td>1</td>\n",
       "      <td>0.24</td>\n",
       "      <td>0.2879</td>\n",
       "      <td>0.75</td>\n",
       "      <td>0.0</td>\n",
       "      <td>0</td>\n",
       "      <td>1</td>\n",
       "      <td>1</td>\n",
       "    </tr>\n",
       "  </tbody>\n",
       "</table>\n",
       "</div>"
      ],
      "text/plain": [
       "   instant      dteday  season  yr  mnth  hr  holiday  weekday  workingday  \\\n",
       "0        1  2011-01-01       1   0     1   0        0        6           0   \n",
       "1        2  2011-01-01       1   0     1   1        0        6           0   \n",
       "2        3  2011-01-01       1   0     1   2        0        6           0   \n",
       "3        4  2011-01-01       1   0     1   3        0        6           0   \n",
       "4        5  2011-01-01       1   0     1   4        0        6           0   \n",
       "\n",
       "   weathersit  temp   atemp   hum  windspeed  casual  registered  cnt  \n",
       "0           1  0.24  0.2879  0.81        0.0       3          13   16  \n",
       "1           1  0.22  0.2727  0.80        0.0       8          32   40  \n",
       "2           1  0.22  0.2727  0.80        0.0       5          27   32  \n",
       "3           1  0.24  0.2879  0.75        0.0       3          10   13  \n",
       "4           1  0.24  0.2879  0.75        0.0       0           1    1  "
      ]
     },
     "execution_count": 2,
     "metadata": {},
     "output_type": "execute_result"
    }
   ],
   "source": [
    "bike_rentals = pd.read_csv('bike_rental_hour.csv')\n",
    "bike_rentals.head()"
   ]
  },
  {
   "cell_type": "markdown",
   "metadata": {},
   "source": [
    "* Target Variable(`cnt`) Distribution visualization"
   ]
  },
  {
   "cell_type": "code",
   "execution_count": 3,
   "metadata": {},
   "outputs": [
    {
     "data": {
      "image/png": "[encoded data removed]",
      "text/plain": [
       "<matplotlib.figure.Figure at 0x1064da978>"
      ]
     },
     "metadata": {},
     "output_type": "display_data"
    }
   ],
   "source": [
    "bike_rentals[['cnt']].plot(kind='hist'); plt.show()"
   ]
  },
  {
   "cell_type": "markdown",
   "metadata": {},
   "source": [
    "* Visualize correlations using `seaborn.heatmap`"
   ]
  },
  {
   "cell_type": "code",
   "execution_count": 4,
   "metadata": {},
   "outputs": [
    {
     "data": {
      "image/png": "[encoded data removed]",
      "text/plain": [
       "<matplotlib.figure.Figure at 0x106f5f9e8>"
      ]
     },
     "metadata": {},
     "output_type": "display_data"
    }
   ],
   "source": [
    "sns.heatmap(bike_rentals.corr());plt.show()"
   ]
  },
  {
   "cell_type": "code",
   "execution_count": null,
   "metadata": {},
   "outputs": [],
   "source": []
  },
  {
   "cell_type": "markdown",
   "metadata": {},
   "source": [
    "* Most Correlated Features(Top5) with `cnt` - using `abs()`\n",
    "  1. `registered`\n",
    "  2. `casual`\n",
    "  3. `temp`\n",
    "  4. `atemp`\n",
    "  5. `hr`"
   ]
  },
  {
   "cell_type": "code",
   "execution_count": 5,
   "metadata": {
    "scrolled": false
   },
   "outputs": [
    {
     "data": {
      "text/plain": [
       "registered    0.972151\n",
       "casual        0.694564\n",
       "temp          0.404772\n",
       "atemp         0.400929\n",
       "hr            0.394071\n",
       "hum           0.322911\n",
       "instant       0.278379\n",
       "yr            0.250495\n",
       "season        0.178056\n",
       "weathersit    0.142426\n",
       "mnth          0.120638\n",
       "windspeed     0.093234\n",
       "holiday       0.030927\n",
       "workingday    0.030284\n",
       "weekday       0.026900\n",
       "Name: cnt, dtype: float64"
      ]
     },
     "execution_count": 5,
     "metadata": {},
     "output_type": "execute_result"
    }
   ],
   "source": [
    "bike_rentals.corr().iloc[-1, :-1].apply(abs).sort_values(ascending=False)"
   ]
  },
  {
   "cell_type": "code",
   "execution_count": null,
   "metadata": {},
   "outputs": [],
   "source": []
  },
  {
   "cell_type": "markdown",
   "metadata": {},
   "source": [
    "## Calculating Features\n",
    "\n",
    "It can often be helpful to calculate features before applying machine learning models. Features can enhance the accuracy of models by introducing new information, or distilling existing information.<br>\n",
    "\n",
    "For example, the `hr` column in `bike_rentals` contains the hours during which bikes are rented, from `1` to `24`. A machine will treat each hour differently, without understanding that certain hours are related. We can introduce some order into the process by creating a new column with labels for `morning`, `afternoon`, `evening`, and `night`. This will bundle similar times together, enabling the model to make better decisions."
   ]
  },
  {
   "cell_type": "markdown",
   "metadata": {},
   "source": [
    "* Write a function called `assign_label` that takes in a numeric value for an hour, and returns:\n",
    "  * 1 if the hour is from `6` to `12`\n",
    "  * 2 if the hour is from `12` to `18`\n",
    "  * 3 if the hour is from `18` to `24`\n",
    "  * 4 if the hour is from `0` to `6`\n",
    "\n",
    "* Use the apply method on series objects to apply the function to each item in the `hr` column.\n",
    "* Assign the result to the `time_label` column of `bike_rentals`."
   ]
  },
  {
   "cell_type": "code",
   "execution_count": 6,
   "metadata": {},
   "outputs": [
    {
     "data": {
      "text/plain": [
       "dtype('int64')"
      ]
     },
     "execution_count": 6,
     "metadata": {},
     "output_type": "execute_result"
    }
   ],
   "source": [
    "bike_rentals['hr'].dtype"
   ]
  },
  {
   "cell_type": "code",
   "execution_count": 7,
   "metadata": {},
   "outputs": [
    {
     "data": {
      "text/plain": [
       "array([ 0,  1,  2,  3,  4,  5,  6,  7,  8,  9, 10, 11, 12, 13, 14, 15, 16,\n",
       "       17, 18, 19, 20, 21, 22, 23])"
      ]
     },
     "execution_count": 7,
     "metadata": {},
     "output_type": "execute_result"
    }
   ],
   "source": [
    "bike_rentals['hr'].unique()"
   ]
  },
  {
   "cell_type": "code",
   "execution_count": 8,
   "metadata": {},
   "outputs": [],
   "source": [
    "def assign_label(hour):\n",
    "    \n",
    "    if 6<=hour<12:\n",
    "        return 1\n",
    "    elif 12<=hour<18:\n",
    "        return 2\n",
    "    elif 18<=hour<24:\n",
    "        return 3\n",
    "    else:\n",
    "        return 4"
   ]
  },
  {
   "cell_type": "code",
   "execution_count": 9,
   "metadata": {},
   "outputs": [
    {
     "data": {
      "text/plain": [
       "0    4\n",
       "1    4\n",
       "2    4\n",
       "3    4\n",
       "4    4\n",
       "Name: time_label, dtype: int64"
      ]
     },
     "execution_count": 9,
     "metadata": {},
     "output_type": "execute_result"
    }
   ],
   "source": [
    "bike_rentals['time_label'] = bike_rentals['hr'].apply(assign_label)\n",
    "bike_rentals['time_label'].head()"
   ]
  },
  {
   "cell_type": "code",
   "execution_count": 10,
   "metadata": {},
   "outputs": [
    {
     "data": {
      "text/plain": [
       "array([4, 1, 2, 3])"
      ]
     },
     "execution_count": 10,
     "metadata": {},
     "output_type": "execute_result"
    }
   ],
   "source": [
    "bike_rentals.time_label.unique()"
   ]
  },
  {
   "cell_type": "code",
   "execution_count": null,
   "metadata": {},
   "outputs": [],
   "source": []
  },
  {
   "cell_type": "markdown",
   "metadata": {},
   "source": [
    "## Splitting the Data into Train and Test Sets\n",
    "\n",
    "Before you can begin applying machine learning algorithms, you'll need to split the data into training and testing sets. This will enable you to train an algorithm using the training set, and evaluate its accuracy on the testing set.<br>\n",
    "\n",
    "If you train an algorithm on the training data, then evaluate its performance on the same data, you can get an **unrealistically low error value, due to overfitting**.\n",
    "\n",
    "* Based on your explorations of the `cnt` column, pick an error metric you want to use to evaluate the performance of the machine learning algorithms. Explain why you chose this metric in a markdown cell.\n",
    "* Select `80%` of the rows in `bike_rentals` to be part of the training set using the [sample method](http://pandas.pydata.org/pandas-docs/stable/generated/pandas.DataFrame.sample.html) on bike_rentals. Assign the result to `train`.\n",
    "* Select the rows that are in `bike_rentals` but not in `train` to be in the testing set. Assign the result to `test`.\n",
    "  * This line will generate a Boolean series that's `False` when a row in `bike_rentals` isn't found in `train`:<br> `bike_rentals.index.isin(train.index)`\n",
    "  * This line will select any rows in `bike_rentals` that aren't found in train to be in the testing set:<br> `bike_rentals.loc[~bike_rentals.index.isin(train.index)]`"
   ]
  },
  {
   "cell_type": "code",
   "execution_count": null,
   "metadata": {},
   "outputs": [],
   "source": []
  },
  {
   "cell_type": "markdown",
   "metadata": {},
   "source": [
    "* Error metric definition = any `cnt` having values less than 0"
   ]
  },
  {
   "cell_type": "code",
   "execution_count": 11,
   "metadata": {},
   "outputs": [
    {
     "data": {
      "text/plain": [
       "(17379, 18)"
      ]
     },
     "execution_count": 11,
     "metadata": {},
     "output_type": "execute_result"
    }
   ],
   "source": [
    "bike_rentals.shape"
   ]
  },
  {
   "cell_type": "code",
   "execution_count": 12,
   "metadata": {},
   "outputs": [
    {
     "data": {
      "text/plain": [
       "(13903, 18)"
      ]
     },
     "execution_count": 12,
     "metadata": {},
     "output_type": "execute_result"
    }
   ],
   "source": [
    "train = bike_rentals.sample(frac=.8, replace=False, random_state=0)\n",
    "train.shape"
   ]
  },
  {
   "cell_type": "code",
   "execution_count": 13,
   "metadata": {},
   "outputs": [
    {
     "data": {
      "text/plain": [
       "(3476, 18)"
      ]
     },
     "execution_count": 13,
     "metadata": {},
     "output_type": "execute_result"
    }
   ],
   "source": [
    "test = bike_rentals.loc[~bike_rentals.index.isin(train.index)]\n",
    "test.shape"
   ]
  },
  {
   "cell_type": "code",
   "execution_count": null,
   "metadata": {},
   "outputs": [],
   "source": []
  },
  {
   "cell_type": "markdown",
   "metadata": {},
   "source": [
    "## Applying Linear Regression\n",
    "\n",
    "Now that you've done some exploration and manipulation, you're ready to apply linear regression to the data. Linear regression will probably work fairly well on this data, given that many of the columns are highly correlated with `cnt`.<br>\n",
    "\n",
    "As you learned in earlier missions, linear regression works best when **predictors are linearly correlated to the target** and also **independent** -- \n",
    "\n",
    "### in other words, they don't change meaning when we combine them with each other.\n",
    "The good thing about linear regression is that it's **fairly resistant to overfitting because it's straightforward**. It also can be **prone to underfitting the data, however, and not building a powerful enough model**. \n",
    "\n",
    "* This means that linear regression usually isn't the most accurate option.\n",
    "\n",
    "You'll need to ignore the `casual` and `registered` columns because `cnt` is derived from them. If you're trying to predict the number of people who rent bikes in a given hour (`cnt`), it doesn't make sense that you'd already know `casual` or `registered`, because those numbers are added together to get `cnt`."
   ]
  },
  {
   "cell_type": "code",
   "execution_count": null,
   "metadata": {},
   "outputs": [],
   "source": []
  },
  {
   "cell_type": "markdown",
   "metadata": {},
   "source": [
    "* Create a list of predictor columns to use in training and predictions.\n",
    "  * At a minimum, this list should exclude the `cnt`, `casual`, `dteday`, and `registered` columns.\n",
    "  * Feel free to remove other columns you don't think will be useful for the predictions.\n",
    "* Use the [LinearRegression](http://scikit-learn.org/stable/modules/generated/sklearn.linear_model.LinearRegression.html) class from sklearn to train a machine learning algorithm on `train`.\n",
    "  * Use only the columns in the list of predictors for this.\n",
    "* Make predictions using the [LinearRegression](http://scikit-learn.org/stable/modules/generated/sklearn.linear_model.LinearRegression.html) class on `test`.\n",
    "  * Use the exact same predictor columns here.\n",
    "* Calculate the error between the predictions and the actual values.\n",
    "* Write your thoughts about the predictions and the error in a markdown cell."
   ]
  },
  {
   "cell_type": "code",
   "execution_count": 14,
   "metadata": {},
   "outputs": [],
   "source": [
    "columns = list(bike_rentals.columns)\n",
    "columns.remove('cnt')\n",
    "columns.remove('casual')\n",
    "columns.remove('dteday')\n",
    "columns.remove('registered')"
   ]
  },
  {
   "cell_type": "code",
   "execution_count": 15,
   "metadata": {
    "scrolled": true
   },
   "outputs": [
    {
     "data": {
      "text/plain": [
       "registered    0.972151\n",
       "casual        0.694564\n",
       "temp          0.404772\n",
       "atemp         0.400929\n",
       "hr            0.394071\n",
       "time_label    0.378318\n",
       "hum           0.322911\n",
       "instant       0.278379\n",
       "yr            0.250495\n",
       "season        0.178056\n",
       "weathersit    0.142426\n",
       "mnth          0.120638\n",
       "windspeed     0.093234\n",
       "holiday       0.030927\n",
       "workingday    0.030284\n",
       "weekday       0.026900\n",
       "Name: cnt, dtype: float64"
      ]
     },
     "execution_count": 15,
     "metadata": {},
     "output_type": "execute_result"
    }
   ],
   "source": [
    "cols_sorted_by_corr = bike_rentals.corr().iloc[-2, :].apply(abs).sort_values(ascending=False)\n",
    "cols_sorted_by_corr = cols_sorted_by_corr[1:]\n",
    "cols_sorted_by_corr"
   ]
  },
  {
   "cell_type": "code",
   "execution_count": 16,
   "metadata": {},
   "outputs": [
    {
     "data": {
      "text/plain": [
       "windspeed     0.093234\n",
       "holiday       0.030927\n",
       "workingday    0.030284\n",
       "weekday       0.026900\n",
       "Name: cnt, dtype: float64"
      ]
     },
     "execution_count": 16,
     "metadata": {},
     "output_type": "execute_result"
    }
   ],
   "source": [
    "cols_sorted_by_corr[cols_sorted_by_corr < .1]"
   ]
  },
  {
   "cell_type": "code",
   "execution_count": 17,
   "metadata": {},
   "outputs": [
    {
     "data": {
      "text/plain": [
       "['instant',\n",
       " 'season',\n",
       " 'yr',\n",
       " 'mnth',\n",
       " 'hr',\n",
       " 'weathersit',\n",
       " 'temp',\n",
       " 'atemp',\n",
       " 'hum',\n",
       " 'time_label']"
      ]
     },
     "execution_count": 17,
     "metadata": {},
     "output_type": "execute_result"
    }
   ],
   "source": [
    "for lt02 in cols_sorted_by_corr[cols_sorted_by_corr < .1].index:\n",
    "    columns.remove(lt02)\n",
    "    \n",
    "columns"
   ]
  },
  {
   "cell_type": "code",
   "execution_count": 18,
   "metadata": {},
   "outputs": [
    {
     "name": "stderr",
     "output_type": "stream",
     "text": [
      "/usr/local/lib/python3.6/site-packages/scipy/linalg/basic.py:1226: RuntimeWarning: internal gelsd driver lwork query error, required iwork dimension not returned. This is likely the result of LAPACK bug 0038, fixed in LAPACK 3.2.2 (released July 21, 2010). Falling back to 'gelss' driver.\n",
      "  warnings.warn(mesg, RuntimeWarning)\n"
     ]
    }
   ],
   "source": [
    "lr = LinearRegression()\n",
    "lr.fit(train[columns], train['cnt'])\n",
    "predictions = lr.predict(test[columns])"
   ]
  },
  {
   "cell_type": "code",
   "execution_count": 19,
   "metadata": {},
   "outputs": [
    {
     "data": {
      "text/plain": [
       "17344.152094771478"
      ]
     },
     "execution_count": 19,
     "metadata": {},
     "output_type": "execute_result"
    }
   ],
   "source": [
    "mean_squared_error(test['cnt'], predictions)"
   ]
  },
  {
   "cell_type": "code",
   "execution_count": 20,
   "metadata": {},
   "outputs": [
    {
     "data": {
      "text/plain": [
       "0.46136905650972893"
      ]
     },
     "execution_count": 20,
     "metadata": {},
     "output_type": "execute_result"
    }
   ],
   "source": [
    "r2_score(test['cnt'], predictions)"
   ]
  },
  {
   "cell_type": "code",
   "execution_count": null,
   "metadata": {},
   "outputs": [],
   "source": []
  },
  {
   "cell_type": "markdown",
   "metadata": {},
   "source": [
    "### Note.\n",
    "* mean_squared_error is over 10000\n",
    "* $R^2$ score is less than .5\n",
    "  * Current model is evidently not working properly.\n",
    "  * We can consider using decision tree model rather than linear model."
   ]
  },
  {
   "cell_type": "code",
   "execution_count": null,
   "metadata": {},
   "outputs": [],
   "source": []
  },
  {
   "cell_type": "markdown",
   "metadata": {},
   "source": [
    "## Applying Decision Trees\n",
    "\n",
    "Now you're ready to apply the decision tree algorithm. You'll be able to compare its error with the error from linear regression, which will enable you to pick the right algorithm for this data set.<br>\n",
    "\n",
    "Decision trees tend to predict outcomes much more reliably than linear regression models. Because a decision tree is a fairly complex model, it also tends to overfit, particularly when we don't tweak parameters like maximum depth and minimum number of samples per leaf. Decision trees are also prone to instability -- small changes in the input data can result in a very different output model.\n",
    "\n",
    "* Use the [DecisionTreeRegressor](http://scikit-learn.org/stable/modules/generated/sklearn.tree.DecisionTreeRegressor.html) class to fit a decision tree algorithm to the `train` data.\n",
    "* Make predictions using the [DecisionTreeRegressor](http://scikit-learn.org/stable/modules/generated/sklearn.tree.DecisionTreeRegressor.html) class on `test`.\n",
    "Calculate the error between the predictions and the actual values.\n",
    "Experiment with various parameters of the [DecisionTreeRegressor](http://scikit-learn.org/stable/modules/generated/sklearn.tree.DecisionTreeRegressor.html) class, including `min_samples_leaf`, to see if it changes the error.\n",
    "* Write your thoughts on the predictions and the error in a markdown cell."
   ]
  },
  {
   "cell_type": "code",
   "execution_count": 21,
   "metadata": {},
   "outputs": [],
   "source": [
    "dtr = DecisionTreeRegressor(random_state=0)\n",
    "dtr.fit(train[columns], train['cnt'])\n",
    "predictions = dtr.predict(test[columns])"
   ]
  },
  {
   "cell_type": "code",
   "execution_count": 22,
   "metadata": {},
   "outputs": [
    {
     "name": "stdout",
     "output_type": "stream",
     "text": [
      "10419.1869965 0.676427161634\n"
     ]
    }
   ],
   "source": [
    "mse = mean_squared_error(test['cnt'], predictions)\n",
    "r2 = r2_score(test['cnt'], predictions)\n",
    "\n",
    "print(mse, r2)"
   ]
  },
  {
   "cell_type": "code",
   "execution_count": null,
   "metadata": {
    "collapsed": true
   },
   "outputs": [],
   "source": []
  },
  {
   "cell_type": "markdown",
   "metadata": {},
   "source": [
    "### Experiment with various parameters\n",
    "* `criterion` = ['mse', 'mae']\n",
    "* `splitter` = ['best', 'random']\n",
    "* `max_depth` = [10, 25, 50]\n",
    "* `min_samples_split` = [0.1, 0.2, 0.3]\n",
    "  * The minimum number of samples required to split an internal node:\n",
    "    * If int, then consider min_samples_split as the minimum number.\n",
    "    * If float, then min_samples_split is a percentage and ceil(min_samples_split * n_samples) are the minimum number of samples for each split.\n",
    "* `min_samples_leaf` = [0.1, 0.2, 0.3]\n",
    "  * The minimum number of samples required to be at a leaf node:\n",
    "    * If int, then consider min_samples_leaf as the minimum number.\n",
    "    * If float, then min_samples_leaf is a percentage and ceil(min_samples_leaf * n_samples) are the minimum number of samples for each node.\n",
    "* `max_features` = ['auto', 'sqrt', 'log2']\n",
    "  * The number of features to consider when looking for the best split\n"
   ]
  },
  {
   "cell_type": "code",
   "execution_count": 23,
   "metadata": {},
   "outputs": [],
   "source": [
    "from sklearn.model_selection import GridSearchCV"
   ]
  },
  {
   "cell_type": "code",
   "execution_count": 106,
   "metadata": {},
   "outputs": [
    {
     "data": {
      "text/plain": [
       "GridSearchCV(cv=None, error_score='raise',\n",
       "       estimator=DecisionTreeRegressor(criterion='mse', max_depth=None, max_features=None,\n",
       "           max_leaf_nodes=None, min_impurity_split=1e-07,\n",
       "           min_samples_leaf=1, min_samples_split=2,\n",
       "           min_weight_fraction_leaf=0.0, presort=False, random_state=0,\n",
       "           splitter='best'),\n",
       "       fit_params={}, iid=True, n_jobs=1,\n",
       "       param_grid={'criterion': ('mse', 'mae'), 'min_samples_leaf': (0.1, 0.2, 0.3), 'max_features': ('auto', 'sqrt', 'log2'), 'max_depth': (10, 25, 50), 'splitter': ('best', 'random'), 'min_samples_split': (0.1, 0.2, 0.3)},\n",
       "       pre_dispatch='2*n_jobs', refit=True, return_train_score=True,\n",
       "       scoring=None, verbose=0)"
      ]
     },
     "execution_count": 106,
     "metadata": {},
     "output_type": "execute_result"
    }
   ],
   "source": [
    "params = {'criterion':('mse', 'mae'),\n",
    "         'splitter':('best', 'random'),\n",
    "         'max_depth':(10, 25, 50),\n",
    "         'min_samples_split':(.1, .2, .3),\n",
    "         'min_samples_leaf':(.1, .2, .3),\n",
    "         'max_features':('auto','sqrt','log2')}\n",
    "\n",
    "dtr = DecisionTreeRegressor(random_state=0)\n",
    "\n",
    "# by default, GridSearchCV executes KFold n_splits=3 for each loop.\n",
    "# by default, GridSearchCV follows the default scorer of model input\n",
    "# in this case, default scorer for DecisionTreeRegressor = R^2.\n",
    "clf = GridSearchCV(dtr, params)\n",
    "clf.fit(train[columns], train['cnt'])"
   ]
  },
  {
   "cell_type": "code",
   "execution_count": null,
   "metadata": {
    "collapsed": true
   },
   "outputs": [],
   "source": []
  },
  {
   "cell_type": "code",
   "execution_count": 116,
   "metadata": {},
   "outputs": [
    {
     "data": {
      "text/plain": [
       "0.50138940019033029"
      ]
     },
     "execution_count": 116,
     "metadata": {},
     "output_type": "execute_result"
    }
   ],
   "source": [
    "clf.best_score_"
   ]
  },
  {
   "cell_type": "code",
   "execution_count": 112,
   "metadata": {},
   "outputs": [
    {
     "data": {
      "text/plain": [
       "{'criterion': 'mae',\n",
       " 'max_depth': 10,\n",
       " 'max_features': 'auto',\n",
       " 'min_samples_leaf': 0.1,\n",
       " 'min_samples_split': 0.1,\n",
       " 'splitter': 'best'}"
      ]
     },
     "execution_count": 112,
     "metadata": {},
     "output_type": "execute_result"
    }
   ],
   "source": [
    "clf.best_params_"
   ]
  },
  {
   "cell_type": "code",
   "execution_count": null,
   "metadata": {
    "collapsed": true
   },
   "outputs": [],
   "source": []
  },
  {
   "cell_type": "code",
   "execution_count": 113,
   "metadata": {},
   "outputs": [
    {
     "data": {
      "text/plain": [
       "0.48141423103324144"
      ]
     },
     "execution_count": 113,
     "metadata": {},
     "output_type": "execute_result"
    }
   ],
   "source": [
    "r2_score(train['cnt'], clf.predict(train[columns]))"
   ]
  },
  {
   "cell_type": "code",
   "execution_count": 114,
   "metadata": {},
   "outputs": [
    {
     "data": {
      "text/plain": [
       "0.48173953790020918"
      ]
     },
     "execution_count": 114,
     "metadata": {},
     "output_type": "execute_result"
    }
   ],
   "source": [
    "r2_score(test['cnt'], clf.predict(test[columns]))"
   ]
  },
  {
   "cell_type": "code",
   "execution_count": null,
   "metadata": {
    "collapsed": true
   },
   "outputs": [],
   "source": []
  },
  {
   "cell_type": "markdown",
   "metadata": {},
   "source": [
    "* Based on the first result from GridSearchCV, re-arrange the parameters and execute the second GridSearchCV."
   ]
  },
  {
   "cell_type": "code",
   "execution_count": 119,
   "metadata": {},
   "outputs": [
    {
     "data": {
      "text/plain": [
       "GridSearchCV(cv=None, error_score='raise',\n",
       "       estimator=DecisionTreeRegressor(criterion='mae', max_depth=None, max_features='auto',\n",
       "           max_leaf_nodes=None, min_impurity_split=1e-07,\n",
       "           min_samples_leaf=1, min_samples_split=2,\n",
       "           min_weight_fraction_leaf=0.0, presort=False, random_state=0,\n",
       "           splitter='best'),\n",
       "       fit_params={}, iid=True, n_jobs=1,\n",
       "       param_grid={'max_depth': (5, 10, 15), 'min_samples_leaf': (0.05, 0.075, 0.1), 'min_samples_split': (0.05, 0.075, 0.1)},\n",
       "       pre_dispatch='2*n_jobs', refit=True, return_train_score=True,\n",
       "       scoring=None, verbose=0)"
      ]
     },
     "execution_count": 119,
     "metadata": {},
     "output_type": "execute_result"
    }
   ],
   "source": [
    "params = {'max_depth':(5, 10, 15),\n",
    "         'min_samples_split':(.05, .075, .1),\n",
    "         'min_samples_leaf':(.05, .075, .1)}\n",
    "\n",
    "dtr2 = DecisionTreeRegressor(random_state=0,\n",
    "                            criterion='mae',\n",
    "                            splitter='best',\n",
    "                            max_features='auto')\n",
    "\n",
    "# by default, GridSearchCV executes KFold n_splits=3 for each loop.\n",
    "clf2 = GridSearchCV(dtr2, params)\n",
    "clf2.fit(train[columns], train['cnt'])"
   ]
  },
  {
   "cell_type": "code",
   "execution_count": 120,
   "metadata": {},
   "outputs": [
    {
     "data": {
      "text/plain": [
       "0.59875353657216257"
      ]
     },
     "execution_count": 120,
     "metadata": {},
     "output_type": "execute_result"
    }
   ],
   "source": [
    "clf2.best_score_"
   ]
  },
  {
   "cell_type": "code",
   "execution_count": 122,
   "metadata": {
    "scrolled": true
   },
   "outputs": [
    {
     "data": {
      "text/plain": [
       "{'max_depth': 10, 'min_samples_leaf': 0.05, 'min_samples_split': 0.05}"
      ]
     },
     "execution_count": 122,
     "metadata": {},
     "output_type": "execute_result"
    }
   ],
   "source": [
    "clf2.best_params_"
   ]
  },
  {
   "cell_type": "code",
   "execution_count": null,
   "metadata": {
    "collapsed": true
   },
   "outputs": [],
   "source": []
  },
  {
   "cell_type": "code",
   "execution_count": 26,
   "metadata": {},
   "outputs": [
    {
     "data": {
      "text/plain": [
       "GridSearchCV(cv=None, error_score='raise',\n",
       "       estimator=DecisionTreeRegressor(criterion='mae', max_depth=10, max_features='auto',\n",
       "           max_leaf_nodes=None, min_impurity_split=1e-07,\n",
       "           min_samples_leaf=1, min_samples_split=2,\n",
       "           min_weight_fraction_leaf=0.0, presort=False, random_state=0,\n",
       "           splitter='best'),\n",
       "       fit_params={}, iid=True, n_jobs=1,\n",
       "       param_grid={'min_samples_leaf': (0.01, 0.025, 0.05), 'min_samples_split': (0.01, 0.025, 0.05)},\n",
       "       pre_dispatch='2*n_jobs', refit=True, return_train_score=True,\n",
       "       scoring=None, verbose=0)"
      ]
     },
     "execution_count": 26,
     "metadata": {},
     "output_type": "execute_result"
    }
   ],
   "source": [
    "params = {'min_samples_split':(0.01, 0.025, .05),\n",
    "         'min_samples_leaf':(0.01, 0.025, .05)}\n",
    "\n",
    "dtr3 = DecisionTreeRegressor(random_state=0,\n",
    "                            criterion='mae',\n",
    "                            splitter='best',\n",
    "                            max_features='auto',\n",
    "                            max_depth=10)\n",
    "\n",
    "# by default, GridSearchCV executes KFold n_splits=3 for each loop.\n",
    "clf3 = GridSearchCV(dtr3, params)\n",
    "clf3.fit(train[columns], train['cnt'])"
   ]
  },
  {
   "cell_type": "code",
   "execution_count": 27,
   "metadata": {},
   "outputs": [
    {
     "data": {
      "text/plain": [
       "0.69281695004013555"
      ]
     },
     "execution_count": 27,
     "metadata": {},
     "output_type": "execute_result"
    }
   ],
   "source": [
    "clf3.best_score_"
   ]
  },
  {
   "cell_type": "code",
   "execution_count": 28,
   "metadata": {},
   "outputs": [
    {
     "data": {
      "text/plain": [
       "{'min_samples_leaf': 0.01, 'min_samples_split': 0.01}"
      ]
     },
     "execution_count": 28,
     "metadata": {},
     "output_type": "execute_result"
    }
   ],
   "source": [
    "clf3.best_params_"
   ]
  },
  {
   "cell_type": "code",
   "execution_count": null,
   "metadata": {
    "collapsed": true
   },
   "outputs": [],
   "source": []
  },
  {
   "cell_type": "markdown",
   "metadata": {},
   "source": [
    "### Note.\n",
    "* `min_samples_split` and `min_samples_leaf` seem to have major effects on the performance of the single `DecisionTreeRegressor`."
   ]
  },
  {
   "cell_type": "code",
   "execution_count": null,
   "metadata": {
    "collapsed": true
   },
   "outputs": [],
   "source": []
  },
  {
   "cell_type": "markdown",
   "metadata": {},
   "source": [
    "## Applying Random Forests\n",
    "\n",
    "You can now apply the random forest algorithm, which improves on the decision tree algorithm. Random forests tend to be much more accurate than simple models like linear regression. Due to the way random forests are constructed, they tend to overfit much less than decision trees. Random forests can still be prone to overfitting, though, so it's important to tune parameters like maximum depth and minimum samples per leaf."
   ]
  },
  {
   "cell_type": "code",
   "execution_count": null,
   "metadata": {
    "collapsed": true
   },
   "outputs": [],
   "source": []
  },
  {
   "cell_type": "markdown",
   "metadata": {},
   "source": [
    "* Use the [RandomForestRegressor](http://scikit-learn.org/stable/modules/generated/sklearn.ensemble.RandomForestRegressor.html) class to fit a random forest algorithm to the `train` data.\n",
    "* Make predictions using the [RandomForestRegressor](http://scikit-learn.org/stable/modules/generated/sklearn.ensemble.RandomForestRegressor.html) class on test.\n",
    "* Calculate the error between the predictions and the actual values.\n",
    "* Experiment with various parameters of the [RandomForestRegressor](http://scikit-learn.org/stable/modules/generated/sklearn.ensemble.RandomForestRegressor.html) class, including `min_samples_leaf`, to see if it changes the error.\n",
    "* Write your thoughts on the predictions and the error in a markdown cell."
   ]
  },
  {
   "cell_type": "code",
   "execution_count": 27,
   "metadata": {},
   "outputs": [],
   "source": [
    "from sklearn.ensemble import RandomForestRegressor\n",
    "from sklearn.model_selection import cross_val_score, KFold\n",
    "import numpy as np"
   ]
  },
  {
   "cell_type": "markdown",
   "metadata": {},
   "source": [
    "Applying the best parameters found above to `RandomForestClassifier` equally.\n",
    "* Variate only `n_estimators`."
   ]
  },
  {
   "cell_type": "code",
   "execution_count": 31,
   "metadata": {},
   "outputs": [
    {
     "name": "stdout",
     "output_type": "stream",
     "text": [
      "10 0.694592304176\n",
      "50 0.693793181661\n",
      "100 0.6949267436\n"
     ]
    }
   ],
   "source": [
    "for num in [10, 50, 100]:\n",
    "\n",
    "    rfr = RandomForestRegressor(n_estimators=num,\n",
    "                               random_state = 0,\n",
    "                               criterion = 'mae',\n",
    "                               max_depth = 10,\n",
    "                               min_samples_split = 0.01,\n",
    "                               min_samples_leaf = 0.01,\n",
    "                               max_features = 'auto')\n",
    "    \n",
    "    rfr.fit(train[columns], train['cnt'])\n",
    "    \n",
    "    # execute KFold Cross-validation\n",
    "    # scorer : R^2\n",
    "    # n_splits of KFold = 3 (default)\n",
    "    kf = KFold(random_state=1)\n",
    "    scores = cross_val_score(rfr, train[columns], train['cnt'], cv=kf,\\\n",
    "                           scoring='r2')\n",
    "    print(num, np.mean(scores))"
   ]
  },
  {
   "cell_type": "code",
   "execution_count": null,
   "metadata": {},
   "outputs": [],
   "source": []
  },
  {
   "cell_type": "markdown",
   "metadata": {},
   "source": [
    "## Conclusion\n",
    "\n",
    "* Using RandooForestRegressor doesn't seem to make imporovements to the previous result with one DecisionTreeRegressor.\n",
    "* We can try a few steps for better performance:\n",
    "  * Feature engineering\n",
    "    * feature selectiion\n",
    "    * creating new features using the original features\n",
    "  * Tweaking class_weights paramter"
   ]
  },
  {
   "cell_type": "code",
   "execution_count": null,
   "metadata": {
    "collapsed": true
   },
   "outputs": [],
   "source": []
  }
 ],
 "metadata": {
  "kernelspec": {
   "display_name": "Python 3",
   "language": "python",
   "name": "python3"
  },
  "language_info": {
   "codemirror_mode": {
    "name": "ipython",
    "version": 3
   },
   "file_extension": ".py",
   "mimetype": "text/x-python",
   "name": "python",
   "nbconvert_exporter": "python",
   "pygments_lexer": "ipython3",
   "version": "3.6.2"
  }
 },
 "nbformat": 4,
 "nbformat_minor": 1
}
