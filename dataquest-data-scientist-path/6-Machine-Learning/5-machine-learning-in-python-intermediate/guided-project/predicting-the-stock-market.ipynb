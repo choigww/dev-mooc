{
 "cells": [
  {
   "cell_type": "markdown",
   "metadata": {},
   "source": [
    "# Guided Project :\n",
    "# Predicting the stock market"
   ]
  },
  {
   "cell_type": "code",
   "execution_count": null,
   "metadata": {},
   "outputs": [],
   "source": []
  },
  {
   "cell_type": "markdown",
   "metadata": {},
   "source": [
    "## The dataset\n",
    "\n",
    "Welcome to a Dataquest guided project! If you haven't gone through a guided project yet, we recommend starting with the first one in the command line course.<br>\n",
    "\n",
    "In this project, you'll be working with data from the S&P500 Index. The S&P500 is a stock market index. Before we get into what an index is, we'll need to get into the basics of the stock market.<br>\n",
    "\n",
    "Some companies are publicly traded, which means that anyone can buy and sell their shares on the open market. A share entitles the owner to some control over the direction of the company, and to some percentage (or share) of the earnings of the company. When you buy or sell shares, it's common to say that you're trading a stock.\n",
    "\n",
    "The price of a share is based mainly on supply and demand for a given stock. For example, Apple stock has a price of 120 dollars per share as of December 2015 -- http://www.nasdaq.com/symbol/aapl. A stock that is in less demand, like Ford Motor Company, has a lower price -- http://finance.yahoo.com/q?s=F. Stock price is also influenced by other factors, including the number of shares a company has issued.<br>\n",
    "\n",
    "Stocks are traded daily, and the price can rise or fall from the beginning of a trading day to the end based on demand. Stocks that are in more in demand, such as Apple, are traded more often than stocks of smaller companies.<br>\n",
    "\n",
    "Indexes aggregate the prices of multiple stocks together, and allow you to see how the market as a whole is performing. For example, the Dow Jones Industrial Average aggregates the stock prices of `30` large American companies together. The S&P500 Index aggregates the stock prices of `500` large companies. When an index fund goes up or down, you can say that the underlying market or sector it represents is also going up or down. For example, if the Dow Jones Industrial Average price goes down one day, you can say that American stocks overall went down (ie, most American stocks went down in price).<br>\n",
    "\n",
    "You'll be using historical data on the price of the S&P500 Index to make predictions about future prices. Predicting whether an index will go up or down will help us forecast how the stock market as a whole will perform. Since stocks tend to correlate with how well the economy as a whole is performing, it can also help us make economic forecasts.<br>\n",
    "\n",
    "There are also thousands of traders who make money by buying and selling [Exchange Traded Funds](https://en.wikipedia.org/wiki/Exchange-traded_fund). ETFs allow you to buy and sell indexes like stocks. This means that you could \"buy\" the S&P500 Index ETF when the price is low, and sell when it's high to make a profit. Creating a predictive model could allow traders to make money on the stock market.<br>\n",
    "\n",
    "**Note: You shouldn't make trades with any models developed in this mission. Trading stocks has risks, and nothing in this mission constitutes stock trading advice.**<br>\n",
    "\n",
    "In this mission, you'll be working with a csv file containing index prices. Each row in the file contains a daily record of the price of the S&P500 Index from `1950` to `2015`. The dataset is stored in `sphist.csv`.\n",
    "\n",
    "The columns of the dataset are:\n",
    "\n",
    "* `Date` -- The date of the record.\n",
    "* `Open` -- The opening price of the day (when trading starts).\n",
    "* `High` -- The highest trade price during the day.\n",
    "* `Low` -- The lowest trade price during the day.\n",
    "* `Close` -- The closing price for the day (when trading is finished).\n",
    "* `Volume` -- The number of shares traded.\n",
    "* `Adj Close` -- The daily closing price, adjusted retroactively to include any corporate actions. Read more [here](http://www.investopedia.com/terms/a/adjusted_closing_price.asp).\n",
    "\n",
    "You'll be using this dataset to develop a predictive model. You'll train the model with data from `1950-2012`, and try to make predictions from `2013-2015`."
   ]
  },
  {
   "cell_type": "code",
   "execution_count": null,
   "metadata": {},
   "outputs": [],
   "source": []
  },
  {
   "cell_type": "markdown",
   "metadata": {},
   "source": [
    "## Reading in the data\n",
    "\n",
    "* Read the data into a Pandas DataFrame. You can use the `read_csv` Pandas function for this.\n",
    "* Convert the `Date` column to a Pandas date type. This will allow you to do date comparisons with the column.\n",
    "  * You can perform this conversion with the [to_datetime](http://pandas.pydata.org/pandas-docs/stable/generated/pandas.to_datetime.html) function in Pandas.\n",
    "  * Once you convert the column, you can perform comparisons with `df[\"Date\"] > datetime(year=2015, month=4, day=1)`. This will generate a Boolean series that tells you if each item in the `Date` column is after `2015-04-01`. You'll have to import the datetime module from the [datetime library](https://docs.python.org/3/library/datetime.html) first with `from datetime import datetime`.\n",
    "* Sort the dataframe on the `Date` column. It's currently in descending order, but we'll want it to be in ascending order for some of the next steps. You can use the [DataFrame.sort_values()](https://pandas.pydata.org/pandas-docs/stable/generated/pandas.DataFrame.sort_values.html) method on data frames for this.\n"
   ]
  },
  {
   "cell_type": "code",
   "execution_count": 18,
   "metadata": {},
   "outputs": [],
   "source": [
    "import pandas as pd\n",
    "import numpy as np\n",
    "from datetime import datetime"
   ]
  },
  {
   "cell_type": "code",
   "execution_count": 3,
   "metadata": {},
   "outputs": [
    {
     "data": {
      "text/html": [
       "<div>\n",
       "<style scoped>\n",
       "    .dataframe tbody tr th:only-of-type {\n",
       "        vertical-align: middle;\n",
       "    }\n",
       "\n",
       "    .dataframe tbody tr th {\n",
       "        vertical-align: top;\n",
       "    }\n",
       "\n",
       "    .dataframe thead th {\n",
       "        text-align: right;\n",
       "    }\n",
       "</style>\n",
       "<table border=\"1\" class=\"dataframe\">\n",
       "  <thead>\n",
       "    <tr style=\"text-align: right;\">\n",
       "      <th></th>\n",
       "      <th>Date</th>\n",
       "      <th>Open</th>\n",
       "      <th>High</th>\n",
       "      <th>Low</th>\n",
       "      <th>Close</th>\n",
       "      <th>Volume</th>\n",
       "      <th>Adj Close</th>\n",
       "    </tr>\n",
       "  </thead>\n",
       "  <tbody>\n",
       "    <tr>\n",
       "      <th>0</th>\n",
       "      <td>2015-12-07</td>\n",
       "      <td>2090.419922</td>\n",
       "      <td>2090.419922</td>\n",
       "      <td>2066.780029</td>\n",
       "      <td>2077.070068</td>\n",
       "      <td>4.043820e+09</td>\n",
       "      <td>2077.070068</td>\n",
       "    </tr>\n",
       "    <tr>\n",
       "      <th>1</th>\n",
       "      <td>2015-12-04</td>\n",
       "      <td>2051.239990</td>\n",
       "      <td>2093.840088</td>\n",
       "      <td>2051.239990</td>\n",
       "      <td>2091.689941</td>\n",
       "      <td>4.214910e+09</td>\n",
       "      <td>2091.689941</td>\n",
       "    </tr>\n",
       "    <tr>\n",
       "      <th>2</th>\n",
       "      <td>2015-12-03</td>\n",
       "      <td>2080.709961</td>\n",
       "      <td>2085.000000</td>\n",
       "      <td>2042.349976</td>\n",
       "      <td>2049.620117</td>\n",
       "      <td>4.306490e+09</td>\n",
       "      <td>2049.620117</td>\n",
       "    </tr>\n",
       "    <tr>\n",
       "      <th>3</th>\n",
       "      <td>2015-12-02</td>\n",
       "      <td>2101.709961</td>\n",
       "      <td>2104.270020</td>\n",
       "      <td>2077.110107</td>\n",
       "      <td>2079.510010</td>\n",
       "      <td>3.950640e+09</td>\n",
       "      <td>2079.510010</td>\n",
       "    </tr>\n",
       "    <tr>\n",
       "      <th>4</th>\n",
       "      <td>2015-12-01</td>\n",
       "      <td>2082.929932</td>\n",
       "      <td>2103.370117</td>\n",
       "      <td>2082.929932</td>\n",
       "      <td>2102.629883</td>\n",
       "      <td>3.712120e+09</td>\n",
       "      <td>2102.629883</td>\n",
       "    </tr>\n",
       "  </tbody>\n",
       "</table>\n",
       "</div>"
      ],
      "text/plain": [
       "         Date         Open         High          Low        Close  \\\n",
       "0  2015-12-07  2090.419922  2090.419922  2066.780029  2077.070068   \n",
       "1  2015-12-04  2051.239990  2093.840088  2051.239990  2091.689941   \n",
       "2  2015-12-03  2080.709961  2085.000000  2042.349976  2049.620117   \n",
       "3  2015-12-02  2101.709961  2104.270020  2077.110107  2079.510010   \n",
       "4  2015-12-01  2082.929932  2103.370117  2082.929932  2102.629883   \n",
       "\n",
       "         Volume    Adj Close  \n",
       "0  4.043820e+09  2077.070068  \n",
       "1  4.214910e+09  2091.689941  \n",
       "2  4.306490e+09  2049.620117  \n",
       "3  3.950640e+09  2079.510010  \n",
       "4  3.712120e+09  2102.629883  "
      ]
     },
     "execution_count": 3,
     "metadata": {},
     "output_type": "execute_result"
    }
   ],
   "source": [
    "sphist = pd.read_csv('sphist.csv')\n",
    "sphist.head()"
   ]
  },
  {
   "cell_type": "code",
   "execution_count": 4,
   "metadata": {},
   "outputs": [],
   "source": [
    "# convert 'Date' column into datetime type\n",
    "sphist['Date'] = pd.to_datetime(sphist['Date'])"
   ]
  },
  {
   "cell_type": "code",
   "execution_count": 5,
   "metadata": {},
   "outputs": [],
   "source": [
    "# sort by 'Date' in ascending order\n",
    "sphist = sphist.sort_values(by='Date', ascending=True)"
   ]
  },
  {
   "cell_type": "code",
   "execution_count": null,
   "metadata": {},
   "outputs": [],
   "source": []
  },
  {
   "cell_type": "markdown",
   "metadata": {},
   "source": [
    "## Generating indicators\n",
    "\n",
    "### Datasets taken from the stock market need to be handled differently than datasets from other sectors when it comes time to make predictions. \n",
    "In a normal machine learning exercise, we treat each row as **independent**. Stock market data is **sequential**, and each observation comes a day after the previous observation. Thus, the observations are **not all independent**, and you can't treat them as such.<br>\n",
    "\n",
    "This means you have to be extra careful to **not inject \"future\" knowledge into past rows** when you do training and prediction. \n",
    "* Injecting future knowledge will make our model look good when you're training and testing it, but will make it fail in the real world. \n",
    "* This is how many algorithmic traders lose money.\n",
    "\n",
    "The time series nature of the data means that can generate indicators to make our model more accurate. For instance, you can create **a new column that contains the average price of the last 10 trades for each row**. \n",
    "* This will incorporate information from multiple prior rows into one, and will make predictions much more accurate.\n",
    "* When you do this, you have to be careful not to use the current row in the values you average. You want to teach the model how to predict the current price from historical prices.\n",
    "* If you include the current price in the prices you average, it will be equivalent to handing the answers to the model upfront, and will make it impossible to use in the \"real world\", where you don't know the price upfront.\n",
    "\n",
    "Here are some indicators that are interesting to generate for each row:\n",
    "\n",
    "* The average price from the past `5` days.\n",
    "* The average price for the past `30` days.\n",
    "* The average price for the past `365` days.\n",
    "* The ratio between the average price for the past `5` days, and the average price for the past `365` days.\n",
    "* The standard deviation of the price over the past `5` days.\n",
    "* The standard deviation of the price over the past `365` days.\n",
    "* The ratio between the standard deviation for the past `5` days, and the standard deviation for the past `365` days.\n",
    "\n",
    "\"Days\" means \"trading days\" -- so if you're computing the average of the past `5` days, it should be the `5` most recent dates before the current one. Assume that \"price\" means the `Close` column. \n",
    "* **Always be careful not to include the current price in these indicators!** \n",
    "* You're predicting the next day price, so our indicators are designed to predict the current price from the previous prices.\n",
    "\n",
    "Some of these indicators require a year of historical data to compute. Our first day of data falls on `1950-01-03`, so the first day you can start computing indicators on is `1951-01-03`.<br>\n",
    "\n",
    "To compute indicators, you'll need to loop through each day from `1951-01-03` to `2015-12-07` (the last day you have prices for). For instance, if we were computing the average price from the past `5` days, we'd start at `1951-01-03`, get the prices for each day from `1950-12-26` to `1951-01-02`, and find the average. \n",
    "* The reason **why we start on the 26th**, and take more than 5 calendar days into account is **because the stock market is shutdown on certain holidays**.\n",
    "* Since we're looking at the past 5 trading days, we need to look at more than 5 calendar days to find them. Here's a diagram showing how we average 5 days to get the average closing price for `1951-01-03`:\n",
    "\n",
    "![](img/1_cp.png)\n",
    "\n",
    "You'd then move to `1951-01-04`, and find the average price from `1950-12-30` to `1951-01-03`. Here's a diagram showing how we might compute the average here:\n",
    "\n",
    "![](img/2.png)\n",
    "\n",
    "\n",
    "We'd keep repeating this process to compute all of the averages. Note how when we compute the average of the past `5` days for `1951-01-04`, we don't include `1951-01-04` in that average. It's critical not to do this, or our model won't work in the \"real world\".<br>\n",
    "\n",
    "Here's a table of how the first `10` dates would look if we computed the `5` day average closing price. `Close` is the closing price for that day, and `day_5` is the average of the past `5` trading closing prices at each row:\n",
    "\n",
    "![](img/3.png)"
   ]
  },
  {
   "cell_type": "code",
   "execution_count": null,
   "metadata": {},
   "outputs": [],
   "source": []
  },
  {
   "cell_type": "markdown",
   "metadata": {},
   "source": [
    "Pick `3` indicators to compute, and generate a different column for each one. There are a few different ways to do this:\n",
    "\n",
    "1. You can use a for loop along with the [iterrows](http://pandas.pydata.org/pandas-docs/version/0.17.0/generated/pandas.DataFrame.iterrows.html) method to loop over the rows in the DataFrame and compute the indicators. This is the recommended way, as it's a bit simpler to understand what's happening. Since you'll be looping over all of the rows, for any date that comes before there is enough historical data to compute an indicator, just fill in `0`.\n",
    "2. Pandas has some [time series tools](http://pandas.pydata.org/pandas-docs/stable/computation.html) that can help, including the [rolling_mean](http://pandas.pydata.org/pandas-docs/version/0.17.0/generated/pandas.rolling_mean.html) function, which will do most of the hard computation for you. Set the `window` equal to the number of trading days in the past you want to use to compute the indicators. This will add in `NaN` values for any row where there aren't enough historical trading days to do the computation. \n",
    "  * Note: There is a giant caveat here, which is that the rolling mean will use the current day's price. You'll need to reindex the resulting series to shift all the values \"forward\" one day. \n",
    "  * For example, the rolling mean calculated for `1950-01-03` will need to be assigned to `1950-01-04`, and so on. You can use the [shift](http://pandas.pydata.org/pandas-docs/version/0.17.1/generated/pandas.DataFrame.shift.html) method on Dataframes to do this."
   ]
  },
  {
   "cell_type": "code",
   "execution_count": 37,
   "metadata": {},
   "outputs": [],
   "source": [
    "# using way 1.\n",
    "\n",
    "def create_indicator_past(df, current_rownum, how, day):\n",
    "    '''\n",
    "    how = ['avg', 'std']\n",
    "    '''\n",
    "    \n",
    "    if current_rownum < day:\n",
    "        return 0\n",
    "    \n",
    "    start = current_rownum - day\n",
    "    end = current_rownum\n",
    "    tot = df.iloc[start:end]['Close']\n",
    "    \n",
    "    if how == 'avg': return tot.mean()\n",
    "    else: return tot.std()\n"
   ]
  },
  {
   "cell_type": "code",
   "execution_count": null,
   "metadata": {},
   "outputs": [],
   "source": []
  },
  {
   "cell_type": "code",
   "execution_count": 40,
   "metadata": {},
   "outputs": [],
   "source": [
    "avg_close_past5, avg_close_past30, avg_close_past365 = [], [], []\n",
    "std_close_past5, std_close_past30, std_close_past365 = [], [], []\n",
    "ratio_avg_close_past_5_365, ratio_std_close_past_5_365 = [], []"
   ]
  },
  {
   "cell_type": "code",
   "execution_count": 41,
   "metadata": {},
   "outputs": [],
   "source": [
    "for i in range(sphist.shape[0]):\n",
    "    \n",
    "    # calculate and store some values used for multiple times\n",
    "    avg_past5 = create_indicator_past(sphist, i, 'avg', 5)\n",
    "    avg_past365 = create_indicator_past(sphist, i, 'avg', 365)\n",
    "    std_past5 = create_indicator_past(sphist, i, 'std', 5)\n",
    "    std_past365 = create_indicator_past(sphist, i, 'std', 365)\n",
    "    \n",
    "    # average closing price (~ 5 days)\n",
    "    avg_close_past5.append(avg_past5)\n",
    "    avg_close_past30.append(create_indicator_past(sphist, i, 'avg', 30))\n",
    "    avg_close_past365.append(avg_past365)\n",
    "    \n",
    "    # standard deviation of closing price ( ~ 5 days)\n",
    "    std_close_past5.append(std_past5)\n",
    "    std_close_past30.append(create_indicator_past(sphist, i, 'std', 30))\n",
    "    std_close_past365.append(std_past365)\n",
    "    \n",
    "    # ratio values\n",
    "    if (avg_past5 != 0) and (avg_past365 != 0):\n",
    "        ratio_avg_close_past_5_365.append(avg_past5/avg_past365)\n",
    "    else:\n",
    "        ratio_avg_close_past_5_365.append(0)\n",
    "    \n",
    "    if (std_past5 != 0) and (std_past365 != 0):\n",
    "        ratio_std_close_past_5_365.append(std_past5/std_past365)\n",
    "    else:\n",
    "        ratio_std_close_past_5_365.append(0)"
   ]
  },
  {
   "cell_type": "code",
   "execution_count": 42,
   "metadata": {},
   "outputs": [],
   "source": [
    "sphist['avg_close_past5'] = avg_close_past5\n",
    "sphist['avg_close_past30'] = avg_close_past30\n",
    "sphist['avg_close_past365'] = avg_close_past365\n",
    "\n",
    "sphist['std_close_past5'] = std_close_past5\n",
    "sphist['std_close_past30'] = std_close_past30\n",
    "sphist['std_close_past365'] = std_close_past365\n",
    "\n",
    "sphist['ratio_avg_close_past_5_365'] = ratio_avg_close_past_5_365\n",
    "sphist['ratio_std_close_past_5_365'] = ratio_std_close_past_5_365"
   ]
  },
  {
   "cell_type": "code",
   "execution_count": null,
   "metadata": {},
   "outputs": [],
   "source": []
  },
  {
   "cell_type": "markdown",
   "metadata": {},
   "source": [
    "## Splitting up the data\n",
    "\n",
    "* Remove any rows from the DataFrame that fall before `1951-01-03`.\n",
    "* Use the dropna method to remove any rows with `NaN` values. Pass in the `axis=0` argument to drop rows.\n",
    "* Generate two new dataframes to use in making our algorithm. `train` should contain any rows in the data with a date less than `2013-01-01`. test should contain any rows with a date greater than or equal to `2013-01-01`."
   ]
  },
  {
   "cell_type": "code",
   "execution_count": 45,
   "metadata": {},
   "outputs": [],
   "source": [
    "after_1951_01_03 = sphist['Date'] >= datetime(year=1951, month=1, day=3)\n",
    "sphist_ = sphist[after_1951_01_03].dropna(how='any', axis=0)"
   ]
  },
  {
   "cell_type": "code",
   "execution_count": 47,
   "metadata": {},
   "outputs": [],
   "source": [
    "train_index = sphist_['Date'] < datetime(year=2013, month=1, day=1)\n",
    "test_index = sphist_['Date'] >= datetime(year=2013, month=1, day=1)\n",
    "\n",
    "train = sphist_[train_index]\n",
    "test = sphist_[test_index]"
   ]
  },
  {
   "cell_type": "code",
   "execution_count": 50,
   "metadata": {
    "scrolled": true
   },
   "outputs": [
    {
     "data": {
      "text/plain": [
       "(15601, 15)"
      ]
     },
     "execution_count": 50,
     "metadata": {},
     "output_type": "execute_result"
    }
   ],
   "source": [
    "train.shape"
   ]
  },
  {
   "cell_type": "code",
   "execution_count": 51,
   "metadata": {},
   "outputs": [
    {
     "data": {
      "text/plain": [
       "(739, 15)"
      ]
     },
     "execution_count": 51,
     "metadata": {},
     "output_type": "execute_result"
    }
   ],
   "source": [
    "test.shape"
   ]
  },
  {
   "cell_type": "code",
   "execution_count": null,
   "metadata": {},
   "outputs": [],
   "source": []
  },
  {
   "cell_type": "markdown",
   "metadata": {},
   "source": [
    "## Making predictions\n",
    "\n",
    "Now, you can define an error metric, train a model using the `train` data, and make predictions on the `test` data.<br>\n",
    "\n",
    "It's recommended to use [Mean Absolute Error](https://en.wikipedia.org/wiki/Mean_absolute_error), also called MAE, as an error metric, because it will show you how \"close\" you were to the price in intuitive terms. [Mean Squared Error](https://en.wikipedia.org/wiki/Mean_squared_error), or MSE, is an alternative that is more commonly used, but makes it harder to intuitively tell how far off you are from the true price because it squares the error.\n",
    "\n",
    "* Pick an error metric.\n",
    "* Initialize an instance of the LinearRegression class.\n",
    "* Train a linear regression model, using the train Dataframe. Leave out all of the original columns (Close, High, Low, Open, Volume, Adj Close, Date) when training your model. These all contain knowledge of the future that you don't want to feed the model. Use the Close column as the target.\n",
    "* Make predictions for the Close column of the test data, using the same columns for training as you did with train.\n",
    "* Compute the error between the predictions and the Close column of test."
   ]
  },
  {
   "cell_type": "code",
   "execution_count": 52,
   "metadata": {},
   "outputs": [],
   "source": [
    "from sklearn.linear_model import LinearRegression\n",
    "from sklearn.metrics import mean_absolute_error"
   ]
  },
  {
   "cell_type": "code",
   "execution_count": 57,
   "metadata": {
    "scrolled": true
   },
   "outputs": [
    {
     "name": "stdout",
     "output_type": "stream",
     "text": [
      "16.2177313022\n"
     ]
    },
    {
     "name": "stderr",
     "output_type": "stream",
     "text": [
      "/usr/local/lib/python3.6/site-packages/scipy/linalg/basic.py:1226: RuntimeWarning: internal gelsd driver lwork query error, required iwork dimension not returned. This is likely the result of LAPACK bug 0038, fixed in LAPACK 3.2.2 (released July 21, 2010). Falling back to 'gelss' driver.\n",
      "  warnings.warn(mesg, RuntimeWarning)\n"
     ]
    }
   ],
   "source": [
    "lr = LinearRegression()\n",
    "\n",
    "original_cols = ['Close', 'High', 'Low', 'Open', 'Volume',\n",
    "                'Adj Close', 'Date']\n",
    "X_train = train.drop(original_cols, axis=1)\n",
    "y_train = train['Close']\n",
    "X_test = test.drop(original_cols, axis=1)\n",
    "y_test = test['Close']\n",
    "\n",
    "lr.fit(X_train, y_train)\n",
    "pred = lr.predict(X_test)\n",
    "mae = mean_absolute_error(pred, y_test)\n",
    "\n",
    "print(mae)"
   ]
  },
  {
   "cell_type": "code",
   "execution_count": null,
   "metadata": {},
   "outputs": [],
   "source": []
  },
  {
   "cell_type": "code",
   "execution_count": 58,
   "metadata": {},
   "outputs": [],
   "source": [
    "import matplotlib.pyplot as plt\n",
    "%matplotlib inline"
   ]
  },
  {
   "cell_type": "code",
   "execution_count": 69,
   "metadata": {},
   "outputs": [
    {
     "data": {
      "image/png": "[encoded data removed]",
      "text/plain": [
       "<matplotlib.figure.Figure at 0x110a3a208>"
      ]
     },
     "metadata": {},
     "output_type": "display_data"
    }
   ],
   "source": [
    "plt.scatter(pred, y_test, s=2); plt.xlabel('pred'); plt.ylabel('real_price'); plt.show()"
   ]
  },
  {
   "cell_type": "code",
   "execution_count": 68,
   "metadata": {
    "scrolled": true
   },
   "outputs": [
    {
     "data": {
      "image/png": "[encoded data removed]",
      "text/plain": [
       "<matplotlib.figure.Figure at 0x110a4de10>"
      ]
     },
     "metadata": {},
     "output_type": "display_data"
    }
   ],
   "source": [
    "plt.plot(range(len(pred)), pred, c='b', label='pred')\n",
    "plt.plot(range(len(y_test)), y_test, c='r', label='real_price')\n",
    "plt.legend()\n",
    "plt.show()"
   ]
  },
  {
   "cell_type": "code",
   "execution_count": null,
   "metadata": {},
   "outputs": [],
   "source": []
  },
  {
   "cell_type": "markdown",
   "metadata": {},
   "source": [
    "## Improving error\n",
    "\n",
    "Congratulations! You can now predict the S&P500 (with some error). You can improve the error of this model significantly, though. Think about some indicators that might be helpful to compute.\n",
    "\n",
    "#### Here are some ideas that might be helpful:\n",
    "\n",
    "* The average volume over the past five days.\n",
    "* The average volume over the past year.\n",
    "* The ratio between the average volume for the past five days, and the average volume for the past year.\n",
    "* The standard deviation of the average volume over the past five days.\n",
    "* The standard deviation of the average volume over the past year.\n",
    "* The ratio between the standard deviation of the average volume for the past five days, and the standard deviation of the average volume for the past year.\n",
    "* The year component of the date.\n",
    "* The ratio between the lowest price in the past year and the current price.\n",
    "* The ratio between the highest price in the past year and the current price.\n",
    "* The year component of the date.\n",
    "* The month component of the date.\n",
    "* The day of week.\n",
    "* The day component of the date.\n",
    "* The number of holidays in the prior month."
   ]
  },
  {
   "cell_type": "code",
   "execution_count": null,
   "metadata": {},
   "outputs": [],
   "source": []
  },
  {
   "cell_type": "code",
   "execution_count": 70,
   "metadata": {},
   "outputs": [
    {
     "data": {
      "text/plain": [
       "Index(['Date', 'Open', 'High', 'Low', 'Close', 'Volume', 'Adj Close',\n",
       "       'avg_close_past5', 'avg_close_past30', 'avg_close_past365',\n",
       "       'std_close_past5', 'std_close_past30', 'std_close_past365',\n",
       "       'ratio_avg_close_past_5_365', 'ratio_std_close_past_5_365'],\n",
       "      dtype='object')"
      ]
     },
     "execution_count": 70,
     "metadata": {},
     "output_type": "execute_result"
    }
   ],
   "source": [
    "sphist.columns"
   ]
  },
  {
   "cell_type": "code",
   "execution_count": 71,
   "metadata": {},
   "outputs": [],
   "source": [
    "def create_indicator2_past(df, current_rownum, how, day):\n",
    "    '''\n",
    "    how = ['avg', 'std']\n",
    "    '''\n",
    "    \n",
    "    if current_rownum < day:\n",
    "        return 0\n",
    "    \n",
    "    start = current_rownum - day\n",
    "    end = current_rownum\n",
    "    tot = df.iloc[start:end]['Volume']\n",
    "    \n",
    "    if how == 'avg': return tot.mean()\n",
    "    else: return tot.std()"
   ]
  },
  {
   "cell_type": "code",
   "execution_count": 72,
   "metadata": {},
   "outputs": [],
   "source": [
    "avg_vol_past5, avg_vol_past30, avg_vol_past365 = [], [], []\n",
    "std_vol_past5, std_vol_past30, std_vol_past365 = [], [], []\n",
    "ratio_avg_vol_past_5_365, ratio_std_vol_past_5_365 = [], []"
   ]
  },
  {
   "cell_type": "code",
   "execution_count": 73,
   "metadata": {},
   "outputs": [],
   "source": [
    "for i in range(sphist.shape[0]):\n",
    "    \n",
    "    # calculate and store some values used for multiple times\n",
    "    avg_past5 = create_indicator2_past(sphist, i, 'avg', 5)\n",
    "    avg_past365 = create_indicator2_past(sphist, i, 'avg', 365)\n",
    "    std_past5 = create_indicator2_past(sphist, i, 'std', 5)\n",
    "    std_past365 = create_indicator2_past(sphist, i, 'std', 365)\n",
    "    \n",
    "    # average closing volumne (~ 5 days)\n",
    "    avg_vol_past5.append(avg_past5)\n",
    "    avg_vol_past30.append(create_indicator2_past(sphist, i, 'avg', 30))\n",
    "    avg_vol_past365.append(avg_past365)\n",
    "    \n",
    "    # standard deviation of volume ( ~ 5 days)\n",
    "    std_vol_past5.append(std_past5)\n",
    "    std_vol_past30.append(create_indicator2_past(sphist, i, 'std', 30))\n",
    "    std_vol_past365.append(std_past365)\n",
    "    \n",
    "    # ratio values\n",
    "    if (avg_past5 != 0) and (avg_past365 != 0):\n",
    "        ratio_avg_vol_past_5_365.append(avg_past5/avg_past365)\n",
    "    else:\n",
    "        ratio_avg_vol_past_5_365.append(0)\n",
    "    \n",
    "    if (std_past5 != 0) and (std_past365 != 0):\n",
    "        ratio_std_vol_past_5_365.append(std_past5/std_past365)\n",
    "    else:\n",
    "        ratio_std_vol_past_5_365.append(0)"
   ]
  },
  {
   "cell_type": "code",
   "execution_count": 74,
   "metadata": {},
   "outputs": [],
   "source": [
    "sphist['avg_vol_past5'] = avg_vol_past5\n",
    "sphist['avg_vol_past30'] = avg_vol_past30\n",
    "sphist['avg_vol_past365'] = avg_vol_past365\n",
    "\n",
    "sphist['std_vol_past5'] = std_vol_past5\n",
    "sphist['std_vol_past30'] = std_vol_past30\n",
    "sphist['std_vol_past365'] = std_vol_past365\n",
    "\n",
    "sphist['ratio_avg_vol_past_5_365'] = ratio_avg_vol_past_5_365\n",
    "sphist['ratio_std_vol_past_5_365'] = ratio_std_vol_past_5_365"
   ]
  },
  {
   "cell_type": "code",
   "execution_count": 78,
   "metadata": {},
   "outputs": [],
   "source": [
    "sphist['year'] = sphist['Date'].apply(lambda x: x.year)\n",
    "sphist['month'] = sphist['Date'].apply(lambda x: x.month)\n",
    "sphist['day'] = sphist['Date'].apply(lambda x: x.day)"
   ]
  },
  {
   "cell_type": "code",
   "execution_count": null,
   "metadata": {},
   "outputs": [],
   "source": []
  },
  {
   "cell_type": "code",
   "execution_count": 79,
   "metadata": {},
   "outputs": [],
   "source": [
    "after_1951_01_03 = sphist['Date'] >= datetime(year=1951, month=1, day=3)\n",
    "sphist_ = sphist[after_1951_01_03].dropna(how='any', axis=0)"
   ]
  },
  {
   "cell_type": "code",
   "execution_count": 80,
   "metadata": {},
   "outputs": [],
   "source": [
    "train_index = sphist_['Date'] < datetime(year=2013, month=1, day=1)\n",
    "test_index = sphist_['Date'] >= datetime(year=2013, month=1, day=1)\n",
    "\n",
    "train = sphist_[train_index]\n",
    "test = sphist_[test_index]"
   ]
  },
  {
   "cell_type": "code",
   "execution_count": null,
   "metadata": {},
   "outputs": [],
   "source": []
  },
  {
   "cell_type": "markdown",
   "metadata": {},
   "source": [
    "## After adding 11 features:\n",
    "#### Mean Absolute Error\n",
    "* 16.218 -> 16.178"
   ]
  },
  {
   "cell_type": "code",
   "execution_count": 81,
   "metadata": {},
   "outputs": [
    {
     "name": "stdout",
     "output_type": "stream",
     "text": [
      "16.1774887177\n"
     ]
    }
   ],
   "source": [
    "lr = LinearRegression()\n",
    "\n",
    "original_cols = ['Close', 'High', 'Low', 'Open', 'Volume',\n",
    "                'Adj Close', 'Date']\n",
    "X_train = train.drop(original_cols, axis=1)\n",
    "y_train = train['Close']\n",
    "X_test = test.drop(original_cols, axis=1)\n",
    "y_test = test['Close']\n",
    "\n",
    "lr.fit(X_train, y_train)\n",
    "pred = lr.predict(X_test)\n",
    "mae = mean_absolute_error(pred, y_test)\n",
    "\n",
    "print(mae)"
   ]
  },
  {
   "cell_type": "code",
   "execution_count": null,
   "metadata": {},
   "outputs": [],
   "source": []
  },
  {
   "cell_type": "markdown",
   "metadata": {},
   "source": [
    "## Feature Selection using RFE (recursive feature elimination)"
   ]
  },
  {
   "cell_type": "code",
   "execution_count": 82,
   "metadata": {},
   "outputs": [],
   "source": [
    "import seaborn as sns"
   ]
  },
  {
   "cell_type": "code",
   "execution_count": 85,
   "metadata": {},
   "outputs": [
    {
     "data": {
      "text/plain": [
       "<matplotlib.axes._subplots.AxesSubplot at 0x1128911d0>"
      ]
     },
     "execution_count": 85,
     "metadata": {},
     "output_type": "execute_result"
    },
    {
     "data": {
      "image/png": "[encoded data removed]",
      "text/plain": [
       "<matplotlib.figure.Figure at 0x1124c97b8>"
      ]
     },
     "metadata": {},
     "output_type": "display_data"
    }
   ],
   "source": [
    "sns.heatmap(X_train.corr())"
   ]
  },
  {
   "cell_type": "code",
   "execution_count": null,
   "metadata": {},
   "outputs": [],
   "source": []
  },
  {
   "cell_type": "code",
   "execution_count": 86,
   "metadata": {},
   "outputs": [],
   "source": [
    "from sklearn.feature_selection import RFE"
   ]
  },
  {
   "cell_type": "code",
   "execution_count": 87,
   "metadata": {},
   "outputs": [
    {
     "data": {
      "text/plain": [
       "RFE(estimator=LinearRegression(copy_X=True, fit_intercept=True, n_jobs=1, normalize=False),\n",
       "  n_features_to_select=10, step=1, verbose=0)"
      ]
     },
     "execution_count": 87,
     "metadata": {},
     "output_type": "execute_result"
    }
   ],
   "source": [
    "selector = RFE(LinearRegression(), 10)\n",
    "selector.fit(X_train, y_train)"
   ]
  },
  {
   "cell_type": "code",
   "execution_count": 90,
   "metadata": {},
   "outputs": [
    {
     "data": {
      "text/plain": [
       "array([ True,  True, False,  True,  True, False,  True,  True, False,\n",
       "       False, False, False, False, False,  True,  True,  True,  True, False], dtype=bool)"
      ]
     },
     "execution_count": 90,
     "metadata": {},
     "output_type": "execute_result"
    }
   ],
   "source": [
    "selector.support_"
   ]
  },
  {
   "cell_type": "code",
   "execution_count": 92,
   "metadata": {},
   "outputs": [
    {
     "data": {
      "text/plain": [
       "Index(['avg_close_past5', 'avg_close_past30', 'std_close_past5',\n",
       "       'std_close_past30', 'ratio_avg_close_past_5_365',\n",
       "       'ratio_std_close_past_5_365', 'ratio_avg_vol_past_5_365',\n",
       "       'ratio_std_vol_past_5_365', 'year', 'month'],\n",
       "      dtype='object')"
      ]
     },
     "execution_count": 92,
     "metadata": {},
     "output_type": "execute_result"
    }
   ],
   "source": [
    "rfe_top10 = X_train.columns[selector.support_]\n",
    "rfe_top10"
   ]
  },
  {
   "cell_type": "code",
   "execution_count": null,
   "metadata": {},
   "outputs": [],
   "source": []
  },
  {
   "cell_type": "markdown",
   "metadata": {},
   "source": [
    "## Cross validation using KFold"
   ]
  },
  {
   "cell_type": "code",
   "execution_count": 94,
   "metadata": {},
   "outputs": [],
   "source": [
    "from sklearn.model_selection import cross_val_score\n",
    "from sklearn.model_selection import KFold"
   ]
  },
  {
   "cell_type": "code",
   "execution_count": 98,
   "metadata": {},
   "outputs": [],
   "source": [
    "model = LinearRegression()\n",
    "kf = KFold(n_splits=5, shuffle=True, random_state=0)\n",
    "k5_cross_scores = cross_val_score(estimator=model,\n",
    "                                   X = sphist_.drop(original_cols,axis=1),\n",
    "                                   y = sphist_['Close'],\n",
    "                                   cv = kf, scoring='r2')"
   ]
  },
  {
   "cell_type": "code",
   "execution_count": 99,
   "metadata": {},
   "outputs": [
    {
     "data": {
      "text/plain": [
       "0.99959304983255493"
      ]
     },
     "execution_count": 99,
     "metadata": {},
     "output_type": "execute_result"
    }
   ],
   "source": [
    "k5_cross_scores.mean()"
   ]
  },
  {
   "cell_type": "code",
   "execution_count": null,
   "metadata": {},
   "outputs": [],
   "source": []
  },
  {
   "cell_type": "code",
   "execution_count": 101,
   "metadata": {},
   "outputs": [
    {
     "data": {
      "text/plain": [
       "0.99959319266524693"
      ]
     },
     "execution_count": 101,
     "metadata": {},
     "output_type": "execute_result"
    }
   ],
   "source": [
    "k5_cross_scores_rfe10 = cross_val_score(estimator=model,\n",
    "                                   X = sphist_.drop(original_cols,axis=1)[rfe_top10],\n",
    "                                   y = sphist_['Close'],\n",
    "                                   cv = kf, scoring='r2')\n",
    "k5_cross_scores_rfe10.mean()"
   ]
  },
  {
   "cell_type": "code",
   "execution_count": null,
   "metadata": {},
   "outputs": [],
   "source": []
  },
  {
   "cell_type": "code",
   "execution_count": null,
   "metadata": {},
   "outputs": [],
   "source": []
  }
 ],
 "metadata": {
  "kernelspec": {
   "display_name": "Python 3",
   "language": "python",
   "name": "python3"
  },
  "language_info": {
   "codemirror_mode": {
    "name": "ipython",
    "version": 3
   },
   "file_extension": ".py",
   "mimetype": "text/x-python",
   "name": "python",
   "nbconvert_exporter": "python",
   "pygments_lexer": "ipython3",
   "version": "3.6.2"
  }
 },
 "nbformat": 4,
 "nbformat_minor": 2
}
