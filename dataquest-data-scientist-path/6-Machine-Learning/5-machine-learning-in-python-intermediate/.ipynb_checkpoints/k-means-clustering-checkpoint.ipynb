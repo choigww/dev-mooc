{
 "cells": [
  {
   "cell_type": "markdown",
   "metadata": {},
   "source": [
    "# K-means clustering\n",
    "\n",
    "## Clustering NBA Players\n",
    "In NBA media coverage, sports reporters usually focus on a handful of players and paint stories of how unique these players' stats are. With our data science hats on, we can't help but feel a slight sense of skepticism to how different the players are from one another. Let's see how we can use data science to explore that thread further.<br>\n",
    "\n",
    "Let's look at the dataset of player performance from the 2013-2014 season.<br>\n",
    "\n",
    "Here are some selected columns:\n",
    "\n",
    "* `player` -- name of the player\n",
    "* `pos` -- the position of the player\n",
    "* `g` -- number of games the player was in\n",
    "* `pts` -- total points the player scored\n",
    "* `fg.` -- field goal percentage\n",
    "* `ft.` -- free throw percentage\n",
    "\n",
    "Check out [Database Basketball](http://www.databasebasketball.com/about/aboutstats.htm) for an explanation of all the columns\n",
    "\n"
   ]
  },
  {
   "cell_type": "code",
   "execution_count": 15,
   "metadata": {},
   "outputs": [
    {
     "data": {
      "text/html": [
       "<div>\n",
       "<style scoped>\n",
       "    .dataframe tbody tr th:only-of-type {\n",
       "        vertical-align: middle;\n",
       "    }\n",
       "\n",
       "    .dataframe tbody tr th {\n",
       "        vertical-align: top;\n",
       "    }\n",
       "\n",
       "    .dataframe thead th {\n",
       "        text-align: right;\n",
       "    }\n",
       "</style>\n",
       "<table border=\"1\" class=\"dataframe\">\n",
       "  <thead>\n",
       "    <tr style=\"text-align: right;\">\n",
       "      <th></th>\n",
       "      <th>player</th>\n",
       "      <th>pos</th>\n",
       "      <th>age</th>\n",
       "      <th>bref_team_id</th>\n",
       "      <th>g</th>\n",
       "      <th>gs</th>\n",
       "      <th>mp</th>\n",
       "      <th>fg</th>\n",
       "      <th>fga</th>\n",
       "      <th>fg.</th>\n",
       "      <th>...</th>\n",
       "      <th>drb</th>\n",
       "      <th>trb</th>\n",
       "      <th>ast</th>\n",
       "      <th>stl</th>\n",
       "      <th>blk</th>\n",
       "      <th>tov</th>\n",
       "      <th>pf</th>\n",
       "      <th>pts</th>\n",
       "      <th>season</th>\n",
       "      <th>season_end</th>\n",
       "    </tr>\n",
       "  </thead>\n",
       "  <tbody>\n",
       "    <tr>\n",
       "      <th>0</th>\n",
       "      <td>Quincy Acy</td>\n",
       "      <td>SF</td>\n",
       "      <td>23</td>\n",
       "      <td>TOT</td>\n",
       "      <td>63</td>\n",
       "      <td>0</td>\n",
       "      <td>847</td>\n",
       "      <td>66</td>\n",
       "      <td>141</td>\n",
       "      <td>0.468</td>\n",
       "      <td>...</td>\n",
       "      <td>144</td>\n",
       "      <td>216</td>\n",
       "      <td>28</td>\n",
       "      <td>23</td>\n",
       "      <td>26</td>\n",
       "      <td>30</td>\n",
       "      <td>122</td>\n",
       "      <td>171</td>\n",
       "      <td>2013-2014</td>\n",
       "      <td>2013</td>\n",
       "    </tr>\n",
       "    <tr>\n",
       "      <th>1</th>\n",
       "      <td>Steven Adams</td>\n",
       "      <td>C</td>\n",
       "      <td>20</td>\n",
       "      <td>OKC</td>\n",
       "      <td>81</td>\n",
       "      <td>20</td>\n",
       "      <td>1197</td>\n",
       "      <td>93</td>\n",
       "      <td>185</td>\n",
       "      <td>0.503</td>\n",
       "      <td>...</td>\n",
       "      <td>190</td>\n",
       "      <td>332</td>\n",
       "      <td>43</td>\n",
       "      <td>40</td>\n",
       "      <td>57</td>\n",
       "      <td>71</td>\n",
       "      <td>203</td>\n",
       "      <td>265</td>\n",
       "      <td>2013-2014</td>\n",
       "      <td>2013</td>\n",
       "    </tr>\n",
       "    <tr>\n",
       "      <th>2</th>\n",
       "      <td>Jeff Adrien</td>\n",
       "      <td>PF</td>\n",
       "      <td>27</td>\n",
       "      <td>TOT</td>\n",
       "      <td>53</td>\n",
       "      <td>12</td>\n",
       "      <td>961</td>\n",
       "      <td>143</td>\n",
       "      <td>275</td>\n",
       "      <td>0.520</td>\n",
       "      <td>...</td>\n",
       "      <td>204</td>\n",
       "      <td>306</td>\n",
       "      <td>38</td>\n",
       "      <td>24</td>\n",
       "      <td>36</td>\n",
       "      <td>39</td>\n",
       "      <td>108</td>\n",
       "      <td>362</td>\n",
       "      <td>2013-2014</td>\n",
       "      <td>2013</td>\n",
       "    </tr>\n",
       "  </tbody>\n",
       "</table>\n",
       "<p>3 rows × 31 columns</p>\n",
       "</div>"
      ],
      "text/plain": [
       "         player pos  age bref_team_id   g  gs    mp   fg  fga    fg.  \\\n",
       "0    Quincy Acy  SF   23          TOT  63   0   847   66  141  0.468   \n",
       "1  Steven Adams   C   20          OKC  81  20  1197   93  185  0.503   \n",
       "2   Jeff Adrien  PF   27          TOT  53  12   961  143  275  0.520   \n",
       "\n",
       "      ...      drb  trb  ast  stl  blk  tov   pf  pts     season  season_end  \n",
       "0     ...      144  216   28   23   26   30  122  171  2013-2014        2013  \n",
       "1     ...      190  332   43   40   57   71  203  265  2013-2014        2013  \n",
       "2     ...      204  306   38   24   36   39  108  362  2013-2014        2013  \n",
       "\n",
       "[3 rows x 31 columns]"
      ]
     },
     "execution_count": 15,
     "metadata": {},
     "output_type": "execute_result"
    }
   ],
   "source": [
    "import pandas as pd\n",
    "import numpy as np\n",
    "\n",
    "nba = pd.read_csv(\"data/nba_2013.csv\")\n",
    "nba.head(3)"
   ]
  },
  {
   "cell_type": "code",
   "execution_count": null,
   "metadata": {},
   "outputs": [],
   "source": []
  },
  {
   "cell_type": "markdown",
   "metadata": {},
   "source": [
    "## Point Guards\n",
    "\n",
    "**Point guards play one of the most crucial roles on a team because their primary responsibility is to create scoring opportunities for the team**. We are going to focus our lesson on a machine learning technique called clustering, which allows us to visualize the types of point guards as well as group similar point guards together. \n",
    "* Using 2 features allows us to easily visualize the players and will also make it easier to grasp how clustering works. \n",
    "  * For point guards, it's widely accepted that the **Assist to Turnover Ratio** is a good indicator for performance in games as it quantifies the number of scoring opportunities that player created. \n",
    "  \n",
    "Let's also use Points Per Game, since effective Point Guards not only set up scoring opportunities but also take a lot of the shots themselves."
   ]
  },
  {
   "cell_type": "code",
   "execution_count": 16,
   "metadata": {},
   "outputs": [
    {
     "data": {
      "text/html": [
       "<div>\n",
       "<style scoped>\n",
       "    .dataframe tbody tr th:only-of-type {\n",
       "        vertical-align: middle;\n",
       "    }\n",
       "\n",
       "    .dataframe tbody tr th {\n",
       "        vertical-align: top;\n",
       "    }\n",
       "\n",
       "    .dataframe thead th {\n",
       "        text-align: right;\n",
       "    }\n",
       "</style>\n",
       "<table border=\"1\" class=\"dataframe\">\n",
       "  <thead>\n",
       "    <tr style=\"text-align: right;\">\n",
       "      <th></th>\n",
       "      <th>player</th>\n",
       "      <th>pos</th>\n",
       "      <th>age</th>\n",
       "      <th>bref_team_id</th>\n",
       "      <th>g</th>\n",
       "      <th>gs</th>\n",
       "      <th>mp</th>\n",
       "      <th>fg</th>\n",
       "      <th>fga</th>\n",
       "      <th>fg.</th>\n",
       "      <th>...</th>\n",
       "      <th>drb</th>\n",
       "      <th>trb</th>\n",
       "      <th>ast</th>\n",
       "      <th>stl</th>\n",
       "      <th>blk</th>\n",
       "      <th>tov</th>\n",
       "      <th>pf</th>\n",
       "      <th>pts</th>\n",
       "      <th>season</th>\n",
       "      <th>season_end</th>\n",
       "    </tr>\n",
       "  </thead>\n",
       "  <tbody>\n",
       "    <tr>\n",
       "      <th>24</th>\n",
       "      <td>D.J. Augustin</td>\n",
       "      <td>PG</td>\n",
       "      <td>26</td>\n",
       "      <td>TOT</td>\n",
       "      <td>71</td>\n",
       "      <td>9</td>\n",
       "      <td>1939</td>\n",
       "      <td>298</td>\n",
       "      <td>718</td>\n",
       "      <td>0.415</td>\n",
       "      <td>...</td>\n",
       "      <td>115</td>\n",
       "      <td>130</td>\n",
       "      <td>313</td>\n",
       "      <td>53</td>\n",
       "      <td>3</td>\n",
       "      <td>125</td>\n",
       "      <td>147</td>\n",
       "      <td>930</td>\n",
       "      <td>2013-2014</td>\n",
       "      <td>2013</td>\n",
       "    </tr>\n",
       "    <tr>\n",
       "      <th>29</th>\n",
       "      <td>Leandro Barbosa</td>\n",
       "      <td>PG</td>\n",
       "      <td>31</td>\n",
       "      <td>PHO</td>\n",
       "      <td>20</td>\n",
       "      <td>0</td>\n",
       "      <td>368</td>\n",
       "      <td>56</td>\n",
       "      <td>131</td>\n",
       "      <td>0.427</td>\n",
       "      <td>...</td>\n",
       "      <td>32</td>\n",
       "      <td>37</td>\n",
       "      <td>32</td>\n",
       "      <td>7</td>\n",
       "      <td>4</td>\n",
       "      <td>19</td>\n",
       "      <td>30</td>\n",
       "      <td>150</td>\n",
       "      <td>2013-2014</td>\n",
       "      <td>2013</td>\n",
       "    </tr>\n",
       "    <tr>\n",
       "      <th>30</th>\n",
       "      <td>Jose Barea</td>\n",
       "      <td>PG</td>\n",
       "      <td>29</td>\n",
       "      <td>MIN</td>\n",
       "      <td>79</td>\n",
       "      <td>1</td>\n",
       "      <td>1471</td>\n",
       "      <td>254</td>\n",
       "      <td>656</td>\n",
       "      <td>0.387</td>\n",
       "      <td>...</td>\n",
       "      <td>138</td>\n",
       "      <td>154</td>\n",
       "      <td>303</td>\n",
       "      <td>26</td>\n",
       "      <td>0</td>\n",
       "      <td>125</td>\n",
       "      <td>129</td>\n",
       "      <td>660</td>\n",
       "      <td>2013-2014</td>\n",
       "      <td>2013</td>\n",
       "    </tr>\n",
       "    <tr>\n",
       "      <th>38</th>\n",
       "      <td>Jerryd Bayless</td>\n",
       "      <td>PG</td>\n",
       "      <td>25</td>\n",
       "      <td>TOT</td>\n",
       "      <td>72</td>\n",
       "      <td>19</td>\n",
       "      <td>1686</td>\n",
       "      <td>248</td>\n",
       "      <td>617</td>\n",
       "      <td>0.402</td>\n",
       "      <td>...</td>\n",
       "      <td>123</td>\n",
       "      <td>145</td>\n",
       "      <td>194</td>\n",
       "      <td>60</td>\n",
       "      <td>9</td>\n",
       "      <td>82</td>\n",
       "      <td>161</td>\n",
       "      <td>666</td>\n",
       "      <td>2013-2014</td>\n",
       "      <td>2013</td>\n",
       "    </tr>\n",
       "    <tr>\n",
       "      <th>50</th>\n",
       "      <td>Steve Blake</td>\n",
       "      <td>PG</td>\n",
       "      <td>33</td>\n",
       "      <td>TOT</td>\n",
       "      <td>55</td>\n",
       "      <td>28</td>\n",
       "      <td>1498</td>\n",
       "      <td>133</td>\n",
       "      <td>353</td>\n",
       "      <td>0.377</td>\n",
       "      <td>...</td>\n",
       "      <td>146</td>\n",
       "      <td>159</td>\n",
       "      <td>307</td>\n",
       "      <td>54</td>\n",
       "      <td>8</td>\n",
       "      <td>102</td>\n",
       "      <td>85</td>\n",
       "      <td>378</td>\n",
       "      <td>2013-2014</td>\n",
       "      <td>2013</td>\n",
       "    </tr>\n",
       "  </tbody>\n",
       "</table>\n",
       "<p>5 rows × 31 columns</p>\n",
       "</div>"
      ],
      "text/plain": [
       "             player pos  age bref_team_id   g  gs    mp   fg  fga    fg.  \\\n",
       "24    D.J. Augustin  PG   26          TOT  71   9  1939  298  718  0.415   \n",
       "29  Leandro Barbosa  PG   31          PHO  20   0   368   56  131  0.427   \n",
       "30       Jose Barea  PG   29          MIN  79   1  1471  254  656  0.387   \n",
       "38   Jerryd Bayless  PG   25          TOT  72  19  1686  248  617  0.402   \n",
       "50      Steve Blake  PG   33          TOT  55  28  1498  133  353  0.377   \n",
       "\n",
       "       ...      drb  trb  ast  stl  blk  tov   pf  pts     season  season_end  \n",
       "24     ...      115  130  313   53    3  125  147  930  2013-2014        2013  \n",
       "29     ...       32   37   32    7    4   19   30  150  2013-2014        2013  \n",
       "30     ...      138  154  303   26    0  125  129  660  2013-2014        2013  \n",
       "38     ...      123  145  194   60    9   82  161  666  2013-2014        2013  \n",
       "50     ...      146  159  307   54    8  102   85  378  2013-2014        2013  \n",
       "\n",
       "[5 rows x 31 columns]"
      ]
     },
     "execution_count": 16,
     "metadata": {},
     "output_type": "execute_result"
    }
   ],
   "source": [
    "point_guards = nba[nba['pos']=='PG']\n",
    "point_guards.head()"
   ]
  },
  {
   "cell_type": "code",
   "execution_count": null,
   "metadata": {},
   "outputs": [],
   "source": []
  },
  {
   "cell_type": "markdown",
   "metadata": {},
   "source": [
    "## Points Per Game\n",
    "\n",
    "While our dataset doesn't come with **Points Per Game values**, we can easily calculate those using each player's total points (`pts`) and the number of games (`g`) they played. Let's take advantage of pandas' ability to multiply and divide columns to create the Points Per Game `ppg` column by dividing the `pts` and `g` columns."
   ]
  },
  {
   "cell_type": "code",
   "execution_count": 17,
   "metadata": {},
   "outputs": [
    {
     "name": "stderr",
     "output_type": "stream",
     "text": [
      "/usr/local/lib/python3.6/site-packages/ipykernel_launcher.py:1: SettingWithCopyWarning: \n",
      "A value is trying to be set on a copy of a slice from a DataFrame.\n",
      "Try using .loc[row_indexer,col_indexer] = value instead\n",
      "\n",
      "See the caveats in the documentation: http://pandas.pydata.org/pandas-docs/stable/indexing.html#indexing-view-versus-copy\n",
      "  \"\"\"Entry point for launching an IPython kernel.\n"
     ]
    },
    {
     "data": {
      "text/html": [
       "<div>\n",
       "<style scoped>\n",
       "    .dataframe tbody tr th:only-of-type {\n",
       "        vertical-align: middle;\n",
       "    }\n",
       "\n",
       "    .dataframe tbody tr th {\n",
       "        vertical-align: top;\n",
       "    }\n",
       "\n",
       "    .dataframe thead th {\n",
       "        text-align: right;\n",
       "    }\n",
       "</style>\n",
       "<table border=\"1\" class=\"dataframe\">\n",
       "  <thead>\n",
       "    <tr style=\"text-align: right;\">\n",
       "      <th></th>\n",
       "      <th>pts</th>\n",
       "      <th>g</th>\n",
       "      <th>ppg</th>\n",
       "    </tr>\n",
       "  </thead>\n",
       "  <tbody>\n",
       "    <tr>\n",
       "      <th>24</th>\n",
       "      <td>930</td>\n",
       "      <td>71</td>\n",
       "      <td>13.098592</td>\n",
       "    </tr>\n",
       "    <tr>\n",
       "      <th>29</th>\n",
       "      <td>150</td>\n",
       "      <td>20</td>\n",
       "      <td>7.500000</td>\n",
       "    </tr>\n",
       "    <tr>\n",
       "      <th>30</th>\n",
       "      <td>660</td>\n",
       "      <td>79</td>\n",
       "      <td>8.354430</td>\n",
       "    </tr>\n",
       "    <tr>\n",
       "      <th>38</th>\n",
       "      <td>666</td>\n",
       "      <td>72</td>\n",
       "      <td>9.250000</td>\n",
       "    </tr>\n",
       "    <tr>\n",
       "      <th>50</th>\n",
       "      <td>378</td>\n",
       "      <td>55</td>\n",
       "      <td>6.872727</td>\n",
       "    </tr>\n",
       "  </tbody>\n",
       "</table>\n",
       "</div>"
      ],
      "text/plain": [
       "    pts   g        ppg\n",
       "24  930  71  13.098592\n",
       "29  150  20   7.500000\n",
       "30  660  79   8.354430\n",
       "38  666  72   9.250000\n",
       "50  378  55   6.872727"
      ]
     },
     "execution_count": 17,
     "metadata": {},
     "output_type": "execute_result"
    }
   ],
   "source": [
    "point_guards['ppg'] = point_guards['pts'] / point_guards['g']\n",
    "\n",
    "# Sanity check, make sure ppg = pts/g\n",
    "point_guards[['pts', 'g', 'ppg']].head(5)"
   ]
  },
  {
   "cell_type": "code",
   "execution_count": null,
   "metadata": {},
   "outputs": [],
   "source": []
  },
  {
   "cell_type": "markdown",
   "metadata": {},
   "source": [
    "## Assist Turnover Ratio\n",
    "\n",
    "Now let's create a column, `atr`, for the **Assist Turnover Ratio**, which is calculated by dividing total assists (`ast`) by total turnovers (`tov`):\n",
    "\n",
    "$$\\text{ATR} = \\dfrac{\\text{Assists}}{\\text{Turnovers}}$$"
   ]
  },
  {
   "cell_type": "code",
   "execution_count": 18,
   "metadata": {},
   "outputs": [],
   "source": [
    "# drop the players who have 0 turnovers\n",
    "point_guards = point_guards[point_guards['tov'] != 0]\n",
    "\n",
    "point_guards['atr'] = point_guards['ast']/point_guards['tov']"
   ]
  },
  {
   "cell_type": "code",
   "execution_count": null,
   "metadata": {},
   "outputs": [],
   "source": []
  },
  {
   "cell_type": "markdown",
   "metadata": {},
   "source": [
    "## Visualizing the Point Guards"
   ]
  },
  {
   "cell_type": "code",
   "execution_count": 19,
   "metadata": {},
   "outputs": [],
   "source": [
    "import matplotlib.pyplot as plt\n",
    "%matplotlib inline"
   ]
  },
  {
   "cell_type": "code",
   "execution_count": 22,
   "metadata": {
    "scrolled": true
   },
   "outputs": [
    {
     "data": {
      "image/png": "[encoded data removed]",
      "text/plain": [
       "<matplotlib.figure.Figure at 0x111a71da0>"
      ]
     },
     "metadata": {},
     "output_type": "display_data"
    }
   ],
   "source": [
    "plt.scatter(point_guards['ppg'], point_guards['atr'], c='r')\n",
    "plt.title(\"Point Guards\")\n",
    "plt.xlabel('Points Per Game', fontsize=13)\n",
    "plt.ylabel('Assist Turnover Ratio', fontsize=13)\n",
    "plt.show()"
   ]
  },
  {
   "cell_type": "code",
   "execution_count": null,
   "metadata": {},
   "outputs": [],
   "source": []
  },
  {
   "cell_type": "markdown",
   "metadata": {},
   "source": [
    "## Clustering players\n",
    "\n",
    "There seem to be 5 general regions, or clusters, that the point guards fall into (with a few outliers of course!). We can use a technique called clustering to segment all of the point guards into groups of alike players. While regression and other supervised machine learning techniques work well when we have a clear metric we want to optimize for and lots of pre-labelled data, we need to instead use unsupervised machine learning techniques to explore the structure within a data set that doesn't have a clear value to optimize.<br>\n",
    "\n",
    "There are multiple ways of clustering data but here we will focus on centroid based clustering for this lesson. Centroid based clustering works well when the clusters resemble circles with centers (or centroids). The centroid represent the arithmetic mean of all of the data points in that cluster.<br>\n",
    "\n",
    "K-Means Clustering is a popular centroid-based clustering algorithm that we will use. The K in K-Means refers to the number of clusters we want to segment our data into. The key part with K-Means (and most unsupervised machine learning techniques) is that we have to specify what `k` is. There are advantages and disadvantages to this, but one advantage is that we can pick the `k` that makes the most sense for our use case. We'll set `k` to 5 since we want K-Means to segment our data into **5 clusters**."
   ]
  },
  {
   "cell_type": "code",
   "execution_count": null,
   "metadata": {},
   "outputs": [],
   "source": []
  },
  {
   "cell_type": "markdown",
   "metadata": {},
   "source": [
    "## The Algorithm\n",
    "\n",
    "Setup K-Means is an iterative algorithm that switches between recalculating the centroid of each cluster and the players that belong to that cluster. To start, select 5 players at random and assign their coordinates as the initial centroids of the just created clusters.<br>\n",
    "\n",
    "#### Step 1 (Assign Points to Clusters) \n",
    "For each player, calculate the Euclidean distance between that player's coordinates, or values for `atr` & `ppg`, and each of the centroids' coordinates. Assign the player to the cluster whose centroid is the closest to, or has the lowest Euclidean distance to, the player's values.<br>\n",
    "\n",
    "#### Step 2 (Update New Centroids of the Clusters) \n",
    "For each cluster, compute the new centroid by calculating the arithmetic mean of all of the points (players) in that cluster. We calculate the arithmetic mean by taking the average of all of the X values (`atr`) and the average of all of the Y values (`ppg`) of the points in that cluster.<br>\n",
    "\n",
    "Iterate Repeat steps 1 & 2 until the clusters are no longer moving and have converged.\n"
   ]
  },
  {
   "cell_type": "code",
   "execution_count": 23,
   "metadata": {},
   "outputs": [],
   "source": [
    "import numpy as np"
   ]
  },
  {
   "cell_type": "code",
   "execution_count": 24,
   "metadata": {},
   "outputs": [],
   "source": [
    "num_clusters = 5\n",
    "# Use numpy's random function to generate a list, length:\n",
    "# num_clusters, of indices\n",
    "random_initial_points = np.random.choice(point_guards.index,\n",
    "                                        size=num_clusters)\n",
    "\n",
    "# Use the random indices to create the senators\n",
    "centroids = point_guards.loc[random_initial_points]"
   ]
  },
  {
   "cell_type": "code",
   "execution_count": 26,
   "metadata": {},
   "outputs": [
    {
     "data": {
      "text/plain": [
       "Int64Index([97, 283, 471, 322, 459], dtype='int64')"
      ]
     },
     "execution_count": 26,
     "metadata": {},
     "output_type": "execute_result"
    }
   ],
   "source": [
    "centroids.index"
   ]
  },
  {
   "cell_type": "code",
   "execution_count": null,
   "metadata": {},
   "outputs": [],
   "source": []
  },
  {
   "cell_type": "markdown",
   "metadata": {},
   "source": [
    "## Visualize Centroids\n",
    "\n",
    "Let's plot the `centroids`, in addition to the `point_guards`, so we can see where the randomly chosen centroids started out."
   ]
  },
  {
   "cell_type": "code",
   "execution_count": 27,
   "metadata": {},
   "outputs": [
    {
     "data": {
      "image/png": "[encoded data removed]",
      "text/plain": [
       "<matplotlib.figure.Figure at 0x111975e10>"
      ]
     },
     "metadata": {},
     "output_type": "display_data"
    }
   ],
   "source": [
    "plt.scatter(point_guards['ppg'], point_guards['atr'], c='yellow')\n",
    "plt.scatter(centroids['ppg'], centroids['atr'], c='red')\n",
    "plt.title('Centroids')\n",
    "plt.xlabel('Points Per Game', fontsize=13)\n",
    "plt.ylabel('Assist Turnover Ratio', fontsize=13)\n",
    "plt.show()"
   ]
  },
  {
   "cell_type": "code",
   "execution_count": null,
   "metadata": {},
   "outputs": [],
   "source": []
  },
  {
   "cell_type": "markdown",
   "metadata": {},
   "source": [
    "## Setup (continued)\n",
    "\n",
    "While the `centroids` data frame object worked well for the initial centroids, where the centroids were just a subset of players, as we iterate the centroids' values will be coordinates that may not match another player's coordinates. Moving forward, let's use a dictionary object instead to represent the centroids.<br>\n",
    "\n",
    "We will need a unique identifier, like `cluster_id`, to refer to each cluster's centroid and a list representation of the centroid's coordinates (or values for `ppg` and `atr`). Let's create a dictionary then with the following mapping:\n",
    "\n",
    "* key: `cluster_id` of that centroid's cluster\n",
    "* value: centroid's coordinates expressed as a list ( `ppg` value first, `atr` value second )\n",
    "\n",
    "To generate the `cluster_ids`, \n",
    "* let's iterate through each centroid and assign an integer from `0` to `k-1`. \n",
    "  * For example, the first centroid will have a `cluster_id` of `0`, while the second one will have a `cluster_id` of `1`. \n",
    "* We'll write a function, `centroids_to_dict`,\n",
    "  * that takes in the `centroids` data frame object, \n",
    "  * creates a `cluster_id` and converts the `ppg` and `atr` values for that `centroid` into a list of coordinates, \n",
    "  * adds both the `cluster_id` and `coordinates_list` into the dictionary that's returned."
   ]
  },
  {
   "cell_type": "code",
   "execution_count": 28,
   "metadata": {},
   "outputs": [],
   "source": [
    "def centroids_to_dict(centroids):\n",
    "    \n",
    "    dictionary = dict()\n",
    "    \n",
    "    for i, (idx, row) in enumerate(centroids.iterrows()):\n",
    "        \n",
    "        coordinates = [row['ppg'], row['atr']]\n",
    "        dictionary[i] = coordinates\n",
    "        \n",
    "    return dictionary\n",
    "        "
   ]
  },
  {
   "cell_type": "code",
   "execution_count": 30,
   "metadata": {},
   "outputs": [
    {
     "data": {
      "text/plain": [
       "{0: [11.3875, 2.25],\n",
       " 1: [7.962962962962963, 3.18],\n",
       " 2: [7.189655172413793, 3.280701754385965],\n",
       " 3: [2.7450980392156863, 1.4411764705882353],\n",
       " 4: [21.782608695652176, 1.8022598870056497]}"
      ]
     },
     "execution_count": 30,
     "metadata": {},
     "output_type": "execute_result"
    }
   ],
   "source": [
    "centroids_dict = centroids_to_dict(centroids)\n",
    "centroids_dict"
   ]
  },
  {
   "cell_type": "code",
   "execution_count": null,
   "metadata": {},
   "outputs": [],
   "source": []
  },
  {
   "cell_type": "markdown",
   "metadata": {},
   "source": [
    "## Step 1 (Euclidean Distance)\n",
    "\n",
    "Before we can assign players to clusters, we need a way to compare the `ppg` and `atr` values of the players with each cluster's centroids. Euclidean distance is the most common technique used in data science for measuring distance between vectors and works extremely well in 2 and 3 dimensions. While in higher dimensions, Euclidean distance can be misleading, in 2 dimensions Euclidean distance is essentially the Pythagorean theorem.<br>\n",
    "\n",
    "The formula is\n",
    "\n",
    "$$\\sqrt{(q_1-p_1)^2 + (q_2-p_2)^2 + \\cdots + (q_n-p_n)^2}$$\n",
    "\n",
    "`q` and `p` are the 2 vectors we are comparing. If `q` is `[5, 2]` and `p` is `[3, 1]`, the distance comes out to:\n",
    "\n",
    "$$\\sqrt{(5-3)^2 + (2-1)^2} = \\sqrt{5} = ~2.23607$$\n",
    "\n",
    "Let's create the function `calculate_distance`, \n",
    "* which takes in 2 lists (the player's values for `ppg` and `atr` and the centroid's values for `ppg` and `atr`)."
   ]
  },
  {
   "cell_type": "code",
   "execution_count": 32,
   "metadata": {},
   "outputs": [],
   "source": [
    "def calculate_distance(centroid, player_values):\n",
    "    \n",
    "    root_distance = 0\n",
    "    \n",
    "    for x in range(len(centroid)):\n",
    "        diff = centroid[x] - player_values[x]\n",
    "        root_distance += diff**2\n",
    "    \n",
    "    return root_distance**(1/2)"
   ]
  },
  {
   "cell_type": "code",
   "execution_count": 33,
   "metadata": {},
   "outputs": [
    {
     "name": "stdout",
     "output_type": "stream",
     "text": [
      "2.23606797749979\n"
     ]
    }
   ],
   "source": [
    "q = [5,2]\n",
    "p = [3,1]\n",
    "\n",
    "print(calculate_distance(q, p))"
   ]
  },
  {
   "cell_type": "code",
   "execution_count": null,
   "metadata": {},
   "outputs": [],
   "source": []
  },
  {
   "cell_type": "markdown",
   "metadata": {},
   "source": [
    "## Step 1 (Continued)\n",
    "\n",
    "Now we need a way to assign data points to clusters based on Euclidean distance. Instead of creating a new variable or data structure to house the clusters, let's keep things simple and just add a column to the `point_guards` data frame that contains the `cluster_id` of the cluster it belongs to."
   ]
  },
  {
   "cell_type": "code",
   "execution_count": null,
   "metadata": {},
   "outputs": [],
   "source": []
  },
  {
   "cell_type": "code",
   "execution_count": 36,
   "metadata": {},
   "outputs": [],
   "source": [
    "# Create a function that can be applied to every row\n",
    "# in the data set (using apply function in pandas)\n",
    "\n",
    "def assign_to_cluster(row):\n",
    "    \n",
    "    dists = []\n",
    "    \n",
    "    for i in range(len(centroids_dict)):\n",
    "        dist = calculate_distance(centroids_dict[i],\n",
    "                                  [row['ppg'], row['atr']])\n",
    "        dists.append(dist)\n",
    "    \n",
    "    cluster_id = dists.index(np.min(dists))\n",
    "    \n",
    "    return cluster_id"
   ]
  },
  {
   "cell_type": "code",
   "execution_count": 37,
   "metadata": {},
   "outputs": [],
   "source": [
    "point_guards['cluster'] = point_guards.apply(lambda row: assign_to_cluster(row), axis=1)"
   ]
  },
  {
   "cell_type": "code",
   "execution_count": null,
   "metadata": {},
   "outputs": [],
   "source": []
  },
  {
   "cell_type": "markdown",
   "metadata": {},
   "source": [
    "## Visualizing Clusters\n",
    "\n",
    "Let's write a function, `visualize_clusters`, that we can use to visualize the clusters easily."
   ]
  },
  {
   "cell_type": "code",
   "execution_count": 38,
   "metadata": {},
   "outputs": [
    {
     "data": {
      "image/png": "[encoded data removed]",
      "text/plain": [
       "<matplotlib.figure.Figure at 0x10db26780>"
      ]
     },
     "metadata": {},
     "output_type": "display_data"
    }
   ],
   "source": [
    "# Visualizing clusters\n",
    "def visualize_clusters(df, num_clusters):\n",
    "    colors = ['b', 'g', 'r', 'c', 'm', 'y', 'k']\n",
    "\n",
    "    for n in range(num_clusters):\n",
    "        clustered_df = df[df['cluster'] == n]\n",
    "        plt.scatter(clustered_df['ppg'], clustered_df['atr'], c=colors[n-1])\n",
    "        plt.xlabel('Points Per Game', fontsize=13)\n",
    "        plt.ylabel('Assist Turnover Ratio', fontsize=13)\n",
    "    plt.show()\n",
    "\n",
    "visualize_clusters(point_guards, 5)"
   ]
  },
  {
   "cell_type": "code",
   "execution_count": null,
   "metadata": {},
   "outputs": [],
   "source": []
  },
  {
   "cell_type": "markdown",
   "metadata": {},
   "source": [
    "## Step 2\n",
    "\n",
    "How colorful! Now let's code Step 2, where we recalculate the centroids for each cluster."
   ]
  },
  {
   "cell_type": "code",
   "execution_count": 46,
   "metadata": {},
   "outputs": [],
   "source": [
    "# finish the function - recalculate_centroids\n",
    "\n",
    "def recalculate_centroids(df):\n",
    "    \n",
    "    new_centroids_dict = dict()\n",
    "    \n",
    "    for id_ in range(len(centroids)):\n",
    "        \n",
    "        cluster_= df[df['cluster']==id_]\n",
    "        ppg_ = cluster_['ppg']\n",
    "        atr_ = cluster_['atr']\n",
    "        \n",
    "        new_centroids_dict[id_] = (ppg_.mean(),\n",
    "                               atr_.mean())\n",
    "        \n",
    "    return new_centroids_dict"
   ]
  },
  {
   "cell_type": "code",
   "execution_count": 47,
   "metadata": {},
   "outputs": [],
   "source": [
    "# update centroids_dict\n",
    "centroids_dict = recalculate_centroids(point_guards)"
   ]
  },
  {
   "cell_type": "code",
   "execution_count": null,
   "metadata": {},
   "outputs": [],
   "source": []
  },
  {
   "cell_type": "markdown",
   "metadata": {},
   "source": [
    "## Repeat Step 1\n",
    "\n",
    "Now that we recalculated the centroids, let's re-run Step 1 (`assign_to_cluster`) and see how the clusters shifted."
   ]
  },
  {
   "cell_type": "code",
   "execution_count": 48,
   "metadata": {},
   "outputs": [
    {
     "data": {
      "image/png": "[encoded data removed]",
      "text/plain": [
       "<matplotlib.figure.Figure at 0x111da2978>"
      ]
     },
     "metadata": {},
     "output_type": "display_data"
    }
   ],
   "source": [
    "point_guards['cluster'] = point_guards.apply(lambda row: assign_to_cluster(row), axis=1)\n",
    "visualize_clusters(point_guards, num_clusters)"
   ]
  },
  {
   "cell_type": "code",
   "execution_count": null,
   "metadata": {},
   "outputs": [],
   "source": []
  },
  {
   "cell_type": "markdown",
   "metadata": {},
   "source": [
    "## Repeat Step 2 and Step 1\n",
    "\n",
    "Now we need to recalculate the centroids, and shift the clusters again."
   ]
  },
  {
   "cell_type": "code",
   "execution_count": 49,
   "metadata": {},
   "outputs": [
    {
     "data": {
      "image/png": "[encoded data removed]",
      "text/plain": [
       "<matplotlib.figure.Figure at 0x111dbde10>"
      ]
     },
     "metadata": {},
     "output_type": "display_data"
    }
   ],
   "source": [
    "centroids_dict = recalculate_centroids(point_guards)\n",
    "point_guards['cluster'] = point_guards.apply(lambda row: assign_to_cluster(row), axis=1)\n",
    "visualize_clusters(point_guards, num_clusters)"
   ]
  },
  {
   "cell_type": "code",
   "execution_count": null,
   "metadata": {},
   "outputs": [],
   "source": []
  },
  {
   "cell_type": "markdown",
   "metadata": {},
   "source": [
    "## Challenges of K-Means\n",
    "\n",
    "As you repeat Steps 1 and 2 and run `visualize_clusters`, you'll notice that a few of the points are changing clusters between every iteration (**especially in areas where 2 clusters almost overlap**), but otherwise, the clusters visually look like they don't move a lot after every iteration. This means **2 things**:\n",
    "\n",
    "* K-Means doesn't cause massive changes in the makeup of clusters between iterations, **meaning that it will always converge and become stable**\n",
    "* Because K-Means is conservative between iterations, **where we pick the initial centroids and how we assign the players to clusters initially matters a lot**\n",
    "\n",
    "To counteract these problems, the `sklearn` implementation of K-Means does some intelligent things like **re-running the entire clustering process lots of times with random initial centroids** so the final results are a little **less biased** on one passthrough's initial centroids.\n"
   ]
  },
  {
   "cell_type": "code",
   "execution_count": 50,
   "metadata": {},
   "outputs": [
    {
     "data": {
      "image/png": "[encoded data removed]",
      "text/plain": [
       "<matplotlib.figure.Figure at 0x112332e80>"
      ]
     },
     "metadata": {},
     "output_type": "display_data"
    }
   ],
   "source": [
    "from sklearn.cluster import KMeans\n",
    "\n",
    "kmeans = KMeans(n_clusters=num_clusters)\n",
    "kmeans.fit(point_guards[['ppg', 'atr']])\n",
    "point_guards['cluster'] = kmeans.labels_\n",
    "\n",
    "visualize_clusters(point_guards, num_clusters)"
   ]
  },
  {
   "cell_type": "code",
   "execution_count": null,
   "metadata": {},
   "outputs": [],
   "source": []
  },
  {
   "cell_type": "markdown",
   "metadata": {},
   "source": [
    "## Conclusion\n",
    "\n",
    "In this lesson, we explored how to segment NBA players into groups with similar traits. Our exploration helped us get a sense of the 5 types of point guards as based on each player's Assist Turnover Ratio and Points Per Game. In future lessons, we will explore how to cluster using many more features, as well as alternative ways of clustering data without using centroids.<br>\n",
    "\n",
    "We also got to experience the beauty of `sklearn` and the simplicity of using sophisticated models to get what we need accomplished quickly. In just a few lines, we ran and visualized the results of a robust K-means clustering implementation. When using K-means in the real world, use the `sklearn` implementation."
   ]
  },
  {
   "cell_type": "code",
   "execution_count": null,
   "metadata": {},
   "outputs": [],
   "source": []
  }
 ],
 "metadata": {
  "kernelspec": {
   "display_name": "Python 3",
   "language": "python",
   "name": "python3"
  },
  "language_info": {
   "codemirror_mode": {
    "name": "ipython",
    "version": 3
   },
   "file_extension": ".py",
   "mimetype": "text/x-python",
   "name": "python",
   "nbconvert_exporter": "python",
   "pygments_lexer": "ipython3",
   "version": "3.6.2"
  }
 },
 "nbformat": 4,
 "nbformat_minor": 2
}
