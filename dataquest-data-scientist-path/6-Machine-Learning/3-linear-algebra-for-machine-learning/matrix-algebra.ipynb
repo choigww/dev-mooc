{
 "cells": [
  {
   "cell_type": "markdown",
   "metadata": {},
   "source": [
    "# Matrix Algebra\n",
    "## Basic Matrix Operations\n",
    "\n",
    "Like vectors, matrices have their own set of algebraic operations. In this mission, we'll learn the core matrix operations and build up to using some of them to solve the matrix equation. Let's first start with matrix addition and subtraction.\n",
    "\n",
    "If you recall from the previous mission, a matrix consists of one or more column vectors.\n",
    "\n",
    "![](https://s3.amazonaws.com/dq-content/162/matrix_vector_decomposition.svg)\n",
    "\n",
    "Because of that, the operations from vectors also carry over to matrices. We could perform vector addition and subtraction between vectors with the same number of rows. We can perform matrix addition and subtraction between matrices containing the same number of rows and columns.\n",
    "\n",
    "![](https://s3.amazonaws.com/dq-content/162/valid_matrix_sums.svg)\n",
    "\n",
    "As with vectors, matrix addition and subtraction works by distributing the operations across the specific elements and combining them.\n",
    "\n",
    "![](https://s3.amazonaws.com/dq-content/162/matrix_addition.svg)\n",
    "\n",
    "Lastly, we can also multiply a matrix by a scalar value, just like we can with a vector.\n",
    "\n",
    "![](https://s3.amazonaws.com/dq-content/162/matrix_scalar_multiplication.svg)\n",
    "\n",
    "Let's practice applying these operators using NumPy."
   ]
  },
  {
   "cell_type": "code",
   "execution_count": null,
   "metadata": {},
   "outputs": [],
   "source": []
  },
  {
   "cell_type": "markdown",
   "metadata": {},
   "source": [
    "## Matrix Vector Multiplication\n",
    "\n",
    "The matrix equation we discussed briefly in the last mission is an example of matrix-vector multiplication. When we multiply a **matrix by a vector**, we are essentially combining each row in the matrix with the column vector.\n",
    "\n",
    "![](https://s3.amazonaws.com/dq-content/162/matrix_vector_multiplication.svg)\n",
    "\n",
    "To multiply a matrix by a vector, the number of columns in the matrix needs to match the number of rows in the vector.\n",
    "\n",
    "![](https://s3.amazonaws.com/dq-content/162/valid_matrix_products.svg)\n",
    "\n",
    "To multiply a matrix with a vector in NumPy, we need to use the [numpy.dot()](https://docs.scipy.org/doc/numpy/reference/generated/numpy.dot.html) function."
   ]
  },
  {
   "cell_type": "code",
   "execution_count": 1,
   "metadata": {},
   "outputs": [],
   "source": [
    "import numpy as np"
   ]
  },
  {
   "cell_type": "code",
   "execution_count": 2,
   "metadata": {},
   "outputs": [
    {
     "name": "stdout",
     "output_type": "stream",
     "text": [
      "[[ 15.7]\n",
      " [ 14.7]\n",
      " [ 20.7]]\n"
     ]
    }
   ],
   "source": [
    "matrix_a = np.asarray([\n",
    "    [0.7, 3, 9],\n",
    "    [1.7, 2, 9],\n",
    "    [0.7, 9, 2]\n",
    "])\n",
    "\n",
    "vector_b = np.asarray([\n",
    "    [1],\n",
    "    [2],\n",
    "    [1]\n",
    "])\n",
    "\n",
    "ab_product = np.dot(matrix_a, vector_b)\n",
    "print(ab_product)"
   ]
  },
  {
   "cell_type": "code",
   "execution_count": null,
   "metadata": {},
   "outputs": [],
   "source": []
  },
  {
   "cell_type": "markdown",
   "metadata": {},
   "source": [
    "## Matrix Multiplication\n",
    "\n",
    "Because a matrix consists of column vectors, we can extend what we learned about matrix vector multiplication to multiply matrices together. In matrix vector multiplication, we performed a dot product between each row in the matrix and the column vector. In matrix multiplication, we extend this to perform a dot product between each row in the first matrix and each row in the second matrix.\n",
    "\n",
    "![](https://s3.amazonaws.com/dq-content/162/matrix_multiplication.svg)\n",
    "\n",
    "As with matrix vector multiplication, the columns in the first matrix need to match the number of rows in the second matrix.\n",
    "\n",
    "![](https://s3.amazonaws.com/dq-content/162/valid_matrix_multiplication.svg)\n",
    "\n",
    "Note that the order of multiplication also matters.\n",
    "\n",
    "![](https://s3.amazonaws.com/dq-content/162/matrix_multiplication_2.svg)\n",
    "\n",
    "To multiply vectors in NumPy, we use the same `numpy.dot()` function we used in the last screen."
   ]
  },
  {
   "cell_type": "code",
   "execution_count": 6,
   "metadata": {},
   "outputs": [
    {
     "name": "stdout",
     "output_type": "stream",
     "text": [
      "Array sizes are different.\n",
      "product_ab shape: (3, 3)\n",
      "product_ba shape: (2, 2)\n",
      "[[  82.09999847    2.0999999    10.        ]\n",
      " [ 194.1000061     5.10000038   19.        ]\n",
      " [  88.09999847    2.0999999    16.        ]]\n",
      "[[  91.19999695  435.        ]\n",
      " [   1.39999998   12.        ]]\n"
     ]
    }
   ],
   "source": [
    "matrix_a = np.asarray([\n",
    "    [0.7, 3],\n",
    "    [1.7, 2],\n",
    "    [0.7, 9]\n",
    "], dtype=np.float32)\n",
    "\n",
    "matrix_b = np.asarray([\n",
    "    [113, 3, 10],\n",
    "    [1, 0, 1],\n",
    "], dtype=np.float32)\n",
    "\n",
    "product_ab = np.dot(matrix_a, matrix_b)\n",
    "product_ba = np.dot(matrix_b, matrix_a)\n",
    "\n",
    "try:\n",
    "    print(np.equal(product_ab, product_ba))\n",
    "except:\n",
    "    print('Array sizes are different.')\n",
    "    print('product_ab shape:',product_ab.shape)\n",
    "    print('product_ba shape:',product_ba.shape)\n",
    "    \n",
    "print(product_ab)\n",
    "print(product_ba)"
   ]
  },
  {
   "cell_type": "code",
   "execution_count": null,
   "metadata": {},
   "outputs": [],
   "source": []
  },
  {
   "cell_type": "markdown",
   "metadata": {},
   "source": [
    "## Matrix Transpose\n",
    "\n",
    "The transpose of a matrix switches the rows and columns of a matrix. You can think of the transpose operation as a rotation. In data science, we're often working with data tables of different dimensions. Because of the requirements for matrix multiplication, we sometimes want to take the transpose of a matrix to allow us to multiply matrices together that, by default, don't overlap in number of rows and columns.<br>\n",
    "\n",
    "Here's what the transpose of a matrix looks like visually:\n",
    "\n",
    "![](https://upload.wikimedia.org/wikipedia/commons/e/e4/Matrix_transpose.gif)\n",
    "\n",
    "Mathematically, we use the notation $A^T$ to specify the transpose operation.\n",
    "\n",
    "$$A^T+B^T=C$$\n",
    "\n",
    "The transpose has a few different interesting rules that are a bit intuitive. For example, when taking the transpose of the sum of two matrices, we can distribute the transpose operation to each matrix:\n",
    "\n",
    "$$(A+B)^T=A^T+B^T$$\n",
    "\n",
    "One counterintuitive rule is when we take the transpose of the product of 2 matrices:\n",
    "\n",
    "$$(AB)^T=B^TA^T$$\n",
    "\n",
    "Let's explore these properties using NumPy. To compute the transpose of a NumPy ndarray, we need to use the [numpy.transpose()](https://docs.scipy.org/doc/numpy-1.12.0/reference/generated/numpy.transpose.html) function."
   ]
  },
  {
   "cell_type": "code",
   "execution_count": 8,
   "metadata": {},
   "outputs": [
    {
     "name": "stdout",
     "output_type": "stream",
     "text": [
      "[[ 0.69999999  1.70000005  0.69999999]\n",
      " [ 3.          2.          9.        ]]\n",
      "[[ 0.69999999  3.        ]\n",
      " [ 1.70000005  2.        ]\n",
      " [ 0.69999999  9.        ]]\n"
     ]
    }
   ],
   "source": [
    "transpose_a = matrix_a.T\n",
    "print(transpose_a)\n",
    "print(matrix_a)"
   ]
  },
  {
   "cell_type": "code",
   "execution_count": 13,
   "metadata": {},
   "outputs": [
    {
     "name": "stdout",
     "output_type": "stream",
     "text": [
      "[[  82.09999847  194.1000061    88.09999847]\n",
      " [   2.0999999     5.10000038    2.0999999 ]\n",
      " [  10.           19.           16.        ]]\n",
      "[[ True  True  True]\n",
      " [ True  True  True]\n",
      " [ True  True  True]]\n"
     ]
    }
   ],
   "source": [
    "trans_ba = np.dot(matrix_b.T, matrix_a.T)\n",
    "trans_ab = np.dot(matrix_a.T, matrix_b.T)\n",
    "\n",
    "product_ab = np.dot(matrix_a, matrix_b)\n",
    "print(product_ab.T)\n",
    "\n",
    "# confirm that the transpose of product_ab the same as trans_ba\n",
    "print(np.equal(product_ab.T, trans_ba))"
   ]
  },
  {
   "cell_type": "code",
   "execution_count": null,
   "metadata": {},
   "outputs": [],
   "source": []
  },
  {
   "cell_type": "markdown",
   "metadata": {},
   "source": [
    "## Identity Matrix\n",
    "\n",
    "In the matrix equation that we discussed in the last mission, we're trying to solve for the vector $\\vec{x}$.\n",
    "\n",
    "$$A\\vec{x}=\\vec{b}$$\n",
    "\n",
    "Right now, the matrix $A$ multiplies the vector $\\vec{x}$ and we need a way to cancel $A$.<br>\n",
    "\n",
    "Let's look at the identity matrix, which we touched on briefly at the end of the first mission in this course. If you recall, the identity matrix contains $1$ along the diagonals and $0$ elsewhere. Here's what the $2x2$ identity matrix looks like, often represented symbolically using $I_2$:\n",
    "\n",
    "$$\n",
    "I_2 = \\begin{bmatrix} 1 & 0 \\\\ 0 & 1 \\end{bmatrix}\n",
    "$$\n",
    "\n",
    "When we multiply $I2$ with any vector containing 2 elements, the resulting vector matches the original vector exactly:\n",
    "\n",
    "$$I_2 \\vec{x} = \\vec{x}$$\n",
    "\n",
    "This is because each element in the vector is multiplied exactly once by the diagonal `1` value in the identity matrix:\n",
    "\n",
    "![](https://s3.amazonaws.com/dq-content/162/identity_matrix.svg)\n",
    "\n",
    "**If we can transform matrix A and convert it into the identity matrix, then only the solution vector will remain** $\\vec{x}$. Let's practice working with the identity matrix before exploring how to transform $A$ into $I$.<br>\n",
    "\n",
    "We can create any $I_n$ identity matrix using the [numpy.identity()](https://docs.scipy.org/doc/numpy/reference/generated/numpy.identity.html) function. This function only has 1 required parameter, `n`, which specifies the `n x n` identity matrix we want.\n"
   ]
  },
  {
   "cell_type": "code",
   "execution_count": 15,
   "metadata": {},
   "outputs": [
    {
     "name": "stdout",
     "output_type": "stream",
     "text": [
      "[[ True  True  True]\n",
      " [ True  True  True]\n",
      " [ True  True  True]]\n",
      "[[ True  True  True]\n",
      " [ True  True  True]]\n"
     ]
    }
   ],
   "source": [
    "i_2 = np.asarray([\n",
    "    [1, 0],\n",
    "    [0, 1]\n",
    "])\n",
    "\n",
    "i_3 = np.asarray([\n",
    "    [1,0,0],\n",
    "    [0,1,0],\n",
    "    [0,0,1]\n",
    "])\n",
    "\n",
    "matrix_33 = np.asarray([\n",
    "    [1,2,3],\n",
    "    [4,5,6],\n",
    "    [7,8,9]\n",
    "])\n",
    "\n",
    "matrix_23 = np.asarray([\n",
    "    [1,2,3],\n",
    "    [4,5,6]\n",
    "])\n",
    "\n",
    "identity_33 = np.dot(i_3, matrix_33)\n",
    "identity_23 = np.dot(i_2, matrix_23)\n",
    "\n",
    "print(np.equal(identity_33, matrix_33))\n",
    "print(np.equal(identity_23, matrix_23))"
   ]
  },
  {
   "cell_type": "code",
   "execution_count": null,
   "metadata": {},
   "outputs": [],
   "source": []
  },
  {
   "cell_type": "markdown",
   "metadata": {},
   "source": [
    "## Matrix Inverse\n",
    "\n",
    "Now that we're more familiar with the identity matrix, let's discuss how to cancel the coefficient matrix $A$. Said another way, we want to transform $A$ into the identity matrix $I$. Multiplying the **inverse** of a matrix by the matrix accomplishes this task.<br>\n",
    "\n",
    "The matrix inverse is similar to the idea of the multiplicative inverse. For example, let's say we want to solve for x in the equation $5x=10$. To do so, we need to multiply both sides by the multiplicative inverse of $5$, which is $5^{−1}$ (or $1/5$):\n",
    "\n",
    "$$5^{-1}*5x = 5^{-1}*10$$\n",
    "\n",
    "The inverse of $5$ transforms it to $1$ and leaves us with the solution: $x=2$. To solve for the vector $\\vec{x}$ in the matrix equation, we need to multiply both sides by the inverse of $A$:\n",
    "\n",
    "$$A^{−1}A\\vec{x}=A^{−1}\\vec{b}$$\n",
    "\n",
    "This simplifies to $I\\vec_{x}=A^{−1}\\vec{b}$ and we're then left with the formula for calculating the solution vector:\n",
    "\n",
    "$$\\vec{x} = A^{-1}\\vec{b}$$\n",
    "\n",
    "While we use the matrix inverse to cancel out specific terms in the same fashion as the multiplicative inverse, the calculation is completely different. Let's understand the calculation for the inverse of a $2x2$ matrix.<br>\n",
    "\n",
    "If $A =  \\begin{bmatrix} a & b \\\\ c & d \\end{bmatrix}$ then<br>\n",
    "$A^{-1} = \\frac{1}{ad - bc} \\begin{bmatrix} d & -b \\\\ -c & a \\end{bmatrix}$<br>\n",
    "\n",
    "The term $ad−bc$ is known as the **determinant ($det$)** and is often written as $det(A)=ad−bc$ or as $|A|=ad−bc$. Because we're dividing by the determinant when calculating the matrix inverse, **a 2 x 2 matrix is only invertible if the determinant ($ad-bc$) is not equal to 0**. In this step and the next step, we'll focus on finding the matrix inverse when A is a $2 x 2$ matrix. Later in this mission, we'll walkthrough how to compute the matrix inverse for a higher dimensional matrix ($3 x 3$ and greater).<br>\n",
    "\n",
    "Let's implement the matrix inverse in Python before moving on to solving the matrix equation."
   ]
  },
  {
   "cell_type": "code",
   "execution_count": 16,
   "metadata": {},
   "outputs": [],
   "source": [
    "matrix_a = np.asarray([\n",
    "    [1.5, 3],\n",
    "    [1, 4]\n",
    "])"
   ]
  },
  {
   "cell_type": "code",
   "execution_count": 18,
   "metadata": {},
   "outputs": [
    {
     "data": {
      "text/plain": [
       "3.0"
      ]
     },
     "execution_count": 18,
     "metadata": {},
     "output_type": "execute_result"
    }
   ],
   "source": [
    "matrix_a[0,1]"
   ]
  },
  {
   "cell_type": "code",
   "execution_count": 19,
   "metadata": {},
   "outputs": [],
   "source": [
    "def matrix_inverse_two(arr22):\n",
    "    \n",
    "    det22 = arr22[0,0]*arr22[1,1]-arr22[0,1]*arr22[1,0]\n",
    "    assert det22 != 0\n",
    "    \n",
    "    arr_rearranged = np.asarray([\n",
    "                    [arr22[1,1], -arr22[0,1]],\n",
    "                    [-arr22[1,0], arr22[0,0]]\n",
    "    ])\n",
    "    \n",
    "    return 1/det22*arr_rearranged"
   ]
  },
  {
   "cell_type": "code",
   "execution_count": 20,
   "metadata": {
    "scrolled": true
   },
   "outputs": [
    {
     "name": "stdout",
     "output_type": "stream",
     "text": [
      "[[ 1.  0.]\n",
      " [ 0.  1.]]\n"
     ]
    }
   ],
   "source": [
    "inverse_a = matrix_inverse_two(matrix_a)\n",
    "\n",
    "i_2 = np.dot(matrix_a, inverse_a)\n",
    "print(i_2)"
   ]
  },
  {
   "cell_type": "code",
   "execution_count": null,
   "metadata": {},
   "outputs": [],
   "source": []
  },
  {
   "cell_type": "markdown",
   "metadata": {},
   "source": [
    "## Solving The Matrix Equation\n",
    "\n",
    "Now that we know how to compute the matrix inverse, we can solve our system using the matrix equation $A\\vec{x}=\\vec{b}$:\n",
    "\n",
    "$$\\left[\\begin{array}{rr|r}\n",
    "30 & -1 \\\\ \n",
    "50 & -1 \n",
    "\\end{array}\\right] \\begin{bmatrix} x_1\\\\ x_2 \\end{bmatrix} =  \\begin{bmatrix} -1000\\\\ -100 \\end{bmatrix}$$\n",
    "\n",
    "We start by left multiplying $A^{−1}$ on both sides:\n",
    "\n",
    "$$\\left[\\begin{array}{rr|r}\n",
    "30 & -1 \\\\ \n",
    "50 & -1 \n",
    "\\end{array}\\right]^{-1} \\left[\\begin{array}{rr|r}\n",
    "30 & -1 \\\\ \n",
    "50 & -1 \n",
    "\\end{array}\\right] \\begin{bmatrix} x_1\\\\ x_2 \\end{bmatrix} =  \\left[\\begin{array}{rr|r}\n",
    "30 & -1 \\\\ \n",
    "50 & -1 \n",
    "\\end{array}\\right]^{-1} \\begin{bmatrix} -1000\\\\ -100 \\end{bmatrix}$$\n",
    "\n",
    "This simplifies to:\n",
    "\n",
    "$$\\begin{bmatrix} x_1\\\\ x_2 \\end{bmatrix} =  \\left[\\begin{array}{rr|r}\n",
    "30 & -1 \\\\ \n",
    "50 & -1 \n",
    "\\end{array}\\right]^{-1} \\begin{bmatrix} -1000\\\\ -100 \\end{bmatrix}$$\n",
    "\n",
    "Let's finish this last step in Python. To compute the inverse of a NumPy ndarray, we need to use the [numpy.linalg.inv()](https://docs.scipy.org/doc/numpy/reference/generated/numpy.linalg.inv.html) function."
   ]
  },
  {
   "cell_type": "code",
   "execution_count": null,
   "metadata": {},
   "outputs": [],
   "source": []
  },
  {
   "cell_type": "code",
   "execution_count": 22,
   "metadata": {
    "scrolled": true
   },
   "outputs": [
    {
     "name": "stdout",
     "output_type": "stream",
     "text": [
      "[[   45.]\n",
      " [ 2350.]]\n"
     ]
    }
   ],
   "source": [
    "coef_matrix = np.asarray([\n",
    "                [30, -1],\n",
    "                [50, -1]\n",
    "])\n",
    "\n",
    "solution_x = np.dot(np.linalg.inv(coef_matrix),\n",
    "                   np.asarray([[-1000],[-100]])\n",
    "                   )\n",
    "print(solution_x)"
   ]
  },
  {
   "cell_type": "code",
   "execution_count": null,
   "metadata": {},
   "outputs": [],
   "source": []
  },
  {
   "cell_type": "markdown",
   "metadata": {},
   "source": [
    "## Determinant For Higher Dimensions\n",
    "\n",
    "Before we discuss how to compute the matrix inverse for higher dimensional matrices, let's dive deeper into the determinant and introduce some more terminology. So far, we've mostly worked with matrices that contain the same number orws and columns. These matrices are known as **square matrices** and we can only compute the determinant and matrix inverse for square matrices. In addition, we can only compute the matrix inverse of a square matrix when the determinant is not equal to $0$.<br>\n",
    "\n",
    "To find the determinant of a higher dimensional square matrix, we need use the more general form of the determinant. Here's what that looks like:\n",
    "\n",
    "![](https://s3.amazonaws.com/dq-content/178/3d_determinant_one.svg)\n",
    "\n",
    "The determinant of a higher-dimensional system involves breaking down the full matrix into **minor matrices**. First, we select a row or column (most teaching materials select the first row). For the first value in that row, we \"hide\" the other values in that row (2nd and 3rd value in the row) and in that column (2nd and 3rd value in the column), select the rest of the elements as the minor matrix, and multiply the scalar value with the determinant of the minor matrix. We repeat this for the remaining values in the first row. This diagram helps illustrate this much clearer:\n",
    "\n",
    "![](https://s3.amazonaws.com/dq-content/178/3d_determinant_two.svg)\n",
    "\n",
    "Here's a concrete example:\n",
    "\n",
    "![](https://s3.amazonaws.com/dq-content/178/3d_determinant_three.svg)\n",
    "\n",
    "To compute the determinant in NumPy, we use the `numpy.linalg.det()` function. We'll leave it to you to read the [documentation](https://docs.scipy.org/doc/numpy-1.12.0/reference/generated/numpy.linalg.det.html) and learn how to use this function.\n"
   ]
  },
  {
   "cell_type": "code",
   "execution_count": 23,
   "metadata": {},
   "outputs": [],
   "source": [
    "matrix_22 = np.asarray([\n",
    "    [8, 4],\n",
    "    [4, 2]\n",
    "])\n",
    "\n",
    "matrix_33 = np.asarray([\n",
    "    [1, 1, 1],\n",
    "    [1, 1, 6],\n",
    "    [7, 8, 9]\n",
    "])"
   ]
  },
  {
   "cell_type": "code",
   "execution_count": 24,
   "metadata": {},
   "outputs": [
    {
     "data": {
      "text/plain": [
       "array([1, 6])"
      ]
     },
     "execution_count": 24,
     "metadata": {},
     "output_type": "execute_result"
    }
   ],
   "source": [
    "matrix_33[1,1:]"
   ]
  },
  {
   "cell_type": "code",
   "execution_count": 26,
   "metadata": {},
   "outputs": [
    {
     "data": {
      "text/plain": [
       "array([7, 8])"
      ]
     },
     "execution_count": 26,
     "metadata": {},
     "output_type": "execute_result"
    }
   ],
   "source": [
    "matrix_33[2, :2]"
   ]
  },
  {
   "cell_type": "code",
   "execution_count": 27,
   "metadata": {},
   "outputs": [],
   "source": [
    "def get_determinant22(arr22):\n",
    "    return arr22[0,0]*arr22[1,1]-arr22[1,0]*arr22[0,1]\n",
    "\n",
    "def get_determinant33(arr33):\n",
    "    \n",
    "    minor1 = np.asarray([\n",
    "                arr33[1,1:],\n",
    "                arr33[2,1:]\n",
    "    ])\n",
    "    \n",
    "    minor2 = np.asarray([\n",
    "                [arr33[1,0], arr33[1,2]],\n",
    "                [arr33[2,0], arr33[2,2]]\n",
    "    ])\n",
    "    \n",
    "    minor3 = np.asarray([\n",
    "                arr33[1, :2],\n",
    "                arr33[2, :2]\n",
    "    ])\n",
    "    \n",
    "    return (get_determinant22(minor1)-\\\n",
    "            get_determinant22(minor2)+\\\n",
    "            get_determinant22(minor3))\n",
    "    \n",
    "\n",
    "det_22 = get_determinant22(matrix_22)\n",
    "det_33 = get_determinant33(matrix_33)"
   ]
  },
  {
   "cell_type": "code",
   "execution_count": null,
   "metadata": {},
   "outputs": [],
   "source": []
  },
  {
   "cell_type": "markdown",
   "metadata": {},
   "source": [
    "## Matrix Inverse For Higher Dimensions\n",
    "\n",
    "To calculate the matrix inverse for a 3 by 3, or larger, matrix, we need to also work with the more general form of the matrix inverse equation. Similar to the determinant for higher-dimensional matrices, the matrix inverse works by generating minor matrices that are dependent on the position in the matrix. Here's a diagram describing the matrix inverse for a 3 by 3 matrix:\n",
    "\n",
    "![](https://s3.amazonaws.com/dq-content/162/3d_matrix_inverse.svg)\n",
    "\n",
    "While it's helpful to know how to compute the inverse this way for higher dimensional matrices, the amount of careful arithmetic you have to by hand is large. Thankfully, the `numpy.linalg.inv()` function can work with any `n`-dimensional square matrix.\n"
   ]
  },
  {
   "cell_type": "code",
   "execution_count": null,
   "metadata": {},
   "outputs": [],
   "source": []
  }
 ],
 "metadata": {
  "kernelspec": {
   "display_name": "Python 3",
   "language": "python",
   "name": "python3"
  },
  "language_info": {
   "codemirror_mode": {
    "name": "ipython",
    "version": 3
   },
   "file_extension": ".py",
   "mimetype": "text/x-python",
   "name": "python",
   "nbconvert_exporter": "python",
   "pygments_lexer": "ipython3",
   "version": "3.6.2"
  }
 },
 "nbformat": 4,
 "nbformat_minor": 2
}
