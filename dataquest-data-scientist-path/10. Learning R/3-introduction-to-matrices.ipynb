{
 "cells": [
  {
   "cell_type": "markdown",
   "metadata": {},
   "source": [
    "# Introduction to Matrices\n"
   ]
  },
  {
   "cell_type": "code",
   "execution_count": null,
   "metadata": {
    "collapsed": true
   },
   "outputs": [],
   "source": []
  },
  {
   "cell_type": "markdown",
   "metadata": {},
   "source": [
    "## Recommending Universities\n",
    "\n",
    "As a high school senior, you've calculated your grades and you received stellar marks. The next step on your journey, is to decide which college to attend. You've been accepted into the top universities in the world but need help choosing the university.<br>\n",
    "\n",
    "When choosing your schools, you've decided that you want to maximize the quality of your education while minimizing the price. In the previous mission, you learned how to use a vector to answer your questions. In this mission, we'll add another dimension by using a matrix to answer our question.<br>\n",
    "\n",
    "We'll be using the [Times Higher Education World University Ranking dataset](https://www.kaggle.com/mylesoneill/world-university-rankings) to find a university recommendation. We've removed many columns for the purpose of this mission. Each row corresponds to a specific university. Here's a description of each column in the dataset:\n",
    "\n",
    "* `University`: The name of the university\n",
    "* `world_rank`: The world rank for the university\n",
    "* `quality_of_education`: Rank for quality of education\n",
    "* `influence`: Rank for amount of influence university has on big issues\n",
    "* `broad_impact`: Rank for impact university has on the world\n",
    "* `patents`: Rank for number of patents created\n",
    "\n",
    "Let's take a vector of data on Harvard University's world ranking in different categories:\n",
    "\n",
    "```r\n",
    "harvard <- c(1,1,1,1,3)\n",
    "names(harvard) <- c(\"world_rank\",\"quality_of_education\",\"influence\",\"broad_impact\",\"patents\")\n",
    "```\n",
    "\n",
    " |world_rank|quality_of_education\n",
    "---|---|---\n",
    "Harvard|1|1\n",
    "\n",
    "Let's say we wanted to compare `harvard` to `stanford`:\n",
    "\n",
    "```r\n",
    "stanford <- c(2,9,3,4,10)\n",
    "names(stanford) <- c(\"world_rank\",\"quality_of_education\",\"influence\",\"broad_impact\",\"patents\")\n",
    "```\n",
    "\n",
    "While using a one-dimensional vector to store our data is useful, we're limited in a few ways:\n",
    "* We need to create a new vector every time we want to add a university to our data.\n",
    "* Comparing the values between the two vectors, isn't intuitive. You need to visually match the categories & rankings together.\n",
    "* If we were analyzing hundreds of universities, writing out hundreds of lines of vectors might not be the most efficient way of performing an analysis.\n",
    "\n",
    "Rather than create a vector for each school, we could use a **matrix** to hold all our university data in one place. A matrix is a collection of data values arranged in a two-dimensional, rectangular layout. A matrix is also a two-dimensional vector.<br>\n",
    "\n",
    "Let's compare `harvard` and `stanford`, but instead, in matrix form:\n",
    "\n",
    " |world_rank|quality_of_education\n",
    "---|---|---\n",
    "Harvard|1|1\n",
    "Stanford|2|9\n",
    "\n",
    "In matrix form, it's much easier to see which school has a higher education rank. You can also access all your data in one location, so you don't need to store 20 different vectors. In this mission, we'll be figuring out a university recommendation for you, by learning how to manipulate matrices.<br>\n",
    "\n",
    "Here's what the data looks like in this mission:\n",
    "\n",
    "world_rank|quality_of_education|influence|broad_impact|patents\n",
    "---|---|---|---|---\n",
    "Harvard|1|1|1|1|3\n",
    "Stanford|2|9|3|4\n",
    "MIT|3|3|2|2\n",
    "Cambridge|4|2|6|13\n",
    "Oxford|5|7|12|9\n",
    "Columnbia|6|13|13|12"
   ]
  },
  {
   "cell_type": "code",
   "execution_count": null,
   "metadata": {
    "collapsed": true
   },
   "outputs": [],
   "source": []
  },
  {
   "cell_type": "markdown",
   "metadata": {},
   "source": [
    "## Combine Vectors\n",
    "\n",
    "In the previous screen, you saw how a matrix might be a more effective way of holding more data points. In our previous scenario, we had two vectors: `harvard` and `stanford`. To realize the benefits of a matrix, let's combine these two vectors into a matrix.<br>\n",
    "\n",
    "To transform multiple vectors into one matrix, the first thing we'll do, is combine all our disparate vectors into one vector. When we introduce the `matrix()` function, we'll dive deeper into why you need to combine all disparate vectors into one vector.<br>\n",
    "\n",
    "As review, in the previous mission, you helped your friend Johnny calculate his scores by appending `88` to the end of the `tests` vector:\n",
    "\n",
    "```r\n",
    "tests <- c(76, 89, 78)\n",
    "tests <- c(tests, 88)\n",
    "```\n",
    "\n",
    "Combining multiple vectors into one vector, follows a similar process to appending data to a vector. Instead of appending one data point, we're appending multiple data points. Let's see this in action by combining our `harvard` vector and `stanford` vector into one vector.<br>\n",
    "\n",
    "Let's take our two vectors:\n",
    "\n",
    "```r\n",
    "harvard <- c(1,1,1,1,3)\n",
    "stanford <- c(2,9,3,4,10)\n",
    "```\n",
    "\n",
    "And then combine these into a single vector called `harv_stan`:\n",
    "\n",
    "```r\n",
    "harv_stan <- c(harvard, stanford)\n",
    "```\n",
    "\n",
    "If you'd like to combine more than two vectors, you can perform the same steps. Include all the vectors you want to combine within the `c()` function.<br>\n",
    "\n",
    "We've combined two of the university vectors. Let's combine the rest!\n"
   ]
  },
  {
   "cell_type": "code",
   "execution_count": null,
   "metadata": {
    "collapsed": true
   },
   "outputs": [],
   "source": []
  },
  {
   "cell_type": "markdown",
   "metadata": {},
   "source": [
    "* Combine the following university vectors into one vector called `uni_vector`:"
   ]
  },
  {
   "cell_type": "code",
   "execution_count": 23,
   "metadata": {
    "collapsed": true
   },
   "outputs": [],
   "source": [
    "harvard <- c(1,1,1,1,3)\n",
    "stanford <- c(2,9,3,4,10)\n",
    "MIT <- c(3,3,2,2,1)\n",
    "cambridge <- c(4,2,6,13,48)\n",
    "oxford <- c(5,7,12,9,15)\n",
    "columbia <- c(6,13,13,12,4)\n",
    "\n",
    "uni_vector <- c(harvard, stanford, MIT, cambridge, oxford, columbia)"
   ]
  },
  {
   "cell_type": "code",
   "execution_count": null,
   "metadata": {
    "collapsed": true
   },
   "outputs": [],
   "source": []
  },
  {
   "cell_type": "markdown",
   "metadata": {},
   "source": [
    "## Creating a Matrix\n",
    "\n",
    "In the previous section, you learned how to combine multiple vectors into one vector. Now, our data is in a format, where we can transform it into a **matrix**.<br>\n",
    "\n",
    "A matrix is a collection of values of the same data type arranged in a two-dimensional rectangular shape. To create a matrix, you'll use the matrix() function. Within the matrix() function, there are a few arguments you'll enter. An argument is an input a function needs to give you an output. Here is the matrix function & its arguments:\n",
    "\n",
    "```r\n",
    "matrix(data = NA ,nrow = 1,ncol = 1,byrow = FALSE)\n",
    "```\n",
    "\n",
    "* **data**: This is the data that will be transformed into a matrix. This data must be in vector form. This is why you combined vectors in the earlier screen.\n",
    "* **nrow**: This is the number of rows you want your matrix to hold.\n",
    "* **ncol**: This is the number of columns you want your matrix to hold.\n",
    "* **byrow**: This is a logical value of either `TRUE` or `FALSE`. \n",
    "  * If `TRUE`, the matrix will be filled *by rows*. \n",
    "  * If `FALSE`, *by columns*. \n",
    "  * We'll dive deeper into how this argument works, later in this mission.\n",
    "  \n",
    "Let's fill in these arguments by transforming our `harvard` and `stanford` vectors into a matrix. In the previous screen, we combined our two vectors into one vector:\n",
    "\n",
    "![creating-a-matrix1](https://s3.amazonaws.com/dq-content/182/harv_stan.svg)\n",
    "\n",
    "Since we're only dealing with two universities with five different categories each, we'll need to create a matrix with `2` rows and `5` columns. Let's use the `matrix()` function to create an empty matrix with the specified dimensions. We're creating an empty matrix, because later on, we're going to fill our matrix with the data from `harv_stan`:\n",
    "\n",
    "![creating-a-matrix2](https://s3.amazonaws.com/dq-content/182/empty.svg)\n",
    "\n",
    "Let's fill our matrix with the data from `harv_stan`. However, there are multiple ways to fill our matrix. This is why we have the `byrow` parameter. By default, if we do not specify anything, `byrow` will be set to `TRUE`. This means, by default, the interpreter will fill the matrix by row:\n",
    "\n",
    "![creating-a-matrix3](https://s3.amazonaws.com/dq-content/182/fill_row.svg)\n",
    "\n",
    "If we wanted to fill our matrix by column, we'd set `byrow=FALSE`. As a result, the matrix will use the vector to fill in a different direction:\n",
    "\n",
    "![creating-a-matrix4](https://s3.amazonaws.com/dq-content/182/fill_col.svg)\n",
    "\n",
    "Let's use the `matrix()` function to transform our combined vector into a matrix!"
   ]
  },
  {
   "cell_type": "code",
   "execution_count": null,
   "metadata": {
    "collapsed": true
   },
   "outputs": [],
   "source": []
  },
  {
   "cell_type": "markdown",
   "metadata": {},
   "source": [
    "* Transform this `uni_vector` into a six row by five column matrix. Name this `uni_matrix`.\n",
    "* Fill this matrix setting `byrow` to `TRUE`."
   ]
  },
  {
   "cell_type": "code",
   "execution_count": 24,
   "metadata": {},
   "outputs": [
    {
     "name": "stdout",
     "output_type": "stream",
     "text": [
      "     [,1] [,2] [,3] [,4] [,5]\n",
      "[1,]    1    1    1    1    3\n",
      "[2,]    2    9    3    4   10\n",
      "[3,]    3    3    2    2    1\n",
      "[4,]    4    2    6   13   48\n",
      "[5,]    5    7   12    9   15\n",
      "[6,]    6   13   13   12    4\n"
     ]
    }
   ],
   "source": [
    "uni_matrix <- matrix(uni_vector, nrow = 6, ncol = 5, byrow = TRUE)\n",
    "print(uni_matrix)"
   ]
  },
  {
   "cell_type": "code",
   "execution_count": null,
   "metadata": {
    "collapsed": true
   },
   "outputs": [],
   "source": []
  },
  {
   "cell_type": "markdown",
   "metadata": {},
   "source": [
    "## Vector & Matrix Data Types\n",
    "\n",
    "So far, we've only worked with vectors that contain values of a single type. From your previous missions, notice, that we've never created a vector or matrix, that contain multiple data types. This is because, a vector & matrix can only store one data type. When you used `names()` to name your vector, you are accessing something called an attribute, which is not considered a value in the object.<br>\n",
    "\n",
    "If you tried to create a vector or matrix containing multiple data types, the R interpreter will not return an error. Instead, the R interpreter will attempt to guess the correct data type and then convert all your data to that data type.<br>\n",
    "\n",
    "For example, let's say we tried to store the following vector of harvard & stanford values with both `numeric` and `character` data types:\n",
    "\n",
    "```r\n",
    "harv_stan_dtype <- c(\"harvard\",1,1,1,1,3,\"stanford\",2,9,3,4,10)\n",
    "```\n",
    "\n",
    "If we display `harv_stan_dtype` using the `print()` function, we see:\n",
    "\n",
    "```r\n",
    "[1] \"harvard\"  \"1\"        \"1\"        \"1\"        \"1\"        \"3\"       \n",
    " [7] \"stanford\" \"2\"        \"9\"        \"3\"        \"4\"        \"10\"\n",
    "```\n",
    "\n",
    "In the previous screen, you used a vector as an argument for a matrix. Because matrices are vectors in two-dimensions, when you create a matrix with multiple data types, the R interpreter will guess the correct data type. Then, it'll convert all the data into the guessed data type.<br>\n",
    "\n",
    "Let's try creating a vector of multiple data types to see this in action!"
   ]
  },
  {
   "cell_type": "code",
   "execution_count": null,
   "metadata": {
    "collapsed": true
   },
   "outputs": [],
   "source": []
  },
  {
   "cell_type": "markdown",
   "metadata": {},
   "source": [
    "* Create a vector with two data types, using the following values:\n",
    "```\n",
    "\"columbia\",6,13,13,12,4\n",
    "```\n",
    "* Store this vector in `columbia_types`.\n",
    "* Use the `class()` function on this vector to check it's data type. Store this in `type`.\n",
    "* Print `type`."
   ]
  },
  {
   "cell_type": "code",
   "execution_count": 25,
   "metadata": {},
   "outputs": [
    {
     "name": "stdout",
     "output_type": "stream",
     "text": [
      "[1] \"character\"\n"
     ]
    }
   ],
   "source": [
    "columbia_types <- c(\"columnbia\", 6, 13, 13, 12, 4)\n",
    "type <- class(columbia_types)\n",
    "print(type)"
   ]
  },
  {
   "cell_type": "code",
   "execution_count": null,
   "metadata": {
    "collapsed": true
   },
   "outputs": [],
   "source": []
  },
  {
   "cell_type": "markdown",
   "metadata": {},
   "source": [
    "## Naming Rows and Columns\n",
    "\n",
    "Now that you've created a matrix, let's look at what our current matrix look like:"
   ]
  },
  {
   "cell_type": "code",
   "execution_count": 26,
   "metadata": {
    "scrolled": true
   },
   "outputs": [
    {
     "name": "stdout",
     "output_type": "stream",
     "text": [
      "     [,1] [,2] [,3] [,4] [,5]\n",
      "[1,]    1    1    1    1    3\n",
      "[2,]    2    9    3    4   10\n",
      "[3,]    3    3    2    2    1\n",
      "[4,]    4    2    6   13   48\n",
      "[5,]    5    7   12    9   15\n",
      "[6,]    6   13   13   12    4\n"
     ]
    }
   ],
   "source": [
    "print(uni_matrix)"
   ]
  },
  {
   "cell_type": "markdown",
   "metadata": {},
   "source": [
    "We've stored all our values, however, we don't know which row corresponds to `stanford`. We don't know which column corresponds to `world_rank`. We don't know which row corresponds with `harvard`. In order to come up with a university recommendation, we need to add labels to our rows and columns.<br>\n",
    "\n",
    "Naming the rows and columns of our matrix is similar to naming a vector, except we need to name both our rows and columns. In a previous mission, you named the values in a vector, by using the accessor function `names()`. When naming a matrix, we'll be using an accessor function. Here are the accessor functions for rows and columns:\n",
    "\n",
    "* **rows**: `rownames(matrix)`\n",
    "* **columns**: `colnames(matrix)`\n",
    "\n",
    "When we wanted to name our `harv_stan` vector, we wrote the following:\n",
    "\n",
    "```r\n",
    "univerisites <- c(\"harvard\",\"stanford\")\n",
    "names(harv_stan) <- universities\n",
    "```\n",
    "\n",
    "To name the columns, follow the same steps, but use `colnames()` and `rownames()` instead of `names()`:\n",
    "\n",
    "```r\n",
    "rownames(harv_stan) <- c(\"harvard\",\"stanford\")\n",
    "\n",
    "colnames(harv_stan) <- c(\"world_rank\",\"quality_of_education\",\"influence\",\"broad_impact\",\"patents\")`\n",
    "```"
   ]
  },
  {
   "cell_type": "code",
   "execution_count": null,
   "metadata": {
    "collapsed": true
   },
   "outputs": [],
   "source": []
  },
  {
   "cell_type": "markdown",
   "metadata": {},
   "source": [
    "* Name the columns and rows of our `uni_matrix` with the following vectors:\n",
    "\n",
    "```r\n",
    "categories <- c(\"world_rank\",\"quality_of_education\",\"influence\",\"broad_impact\",\"patents\")\n",
    "\n",
    "universities <- c(\"Harvard\",\"Stanford\",\"MIT\",\"Cambridge\",\"Oxford\",\"Columbia\")\n",
    "```\n",
    "\n",
    "* Store the resulting `uni_matrix` in `named_uni_matrix`."
   ]
  },
  {
   "cell_type": "code",
   "execution_count": 27,
   "metadata": {},
   "outputs": [],
   "source": [
    "categories <- c(\"world_rank\",\"quality_of_education\",\"influence\",\"broad_impact\",\"patents\")\n",
    "universities <- c(\"Harvard\",\"Stanford\",\"MIT\",\"Cambridge\",\"Oxford\",\"Columbia\")\n",
    "\n",
    "colnames(uni_matrix) <- categories\n",
    "rownames(uni_matrix) <- universities\n",
    "named_uni_matrix <- uni_matrix"
   ]
  },
  {
   "cell_type": "code",
   "execution_count": 28,
   "metadata": {},
   "outputs": [
    {
     "name": "stdout",
     "output_type": "stream",
     "text": [
      "          world_rank quality_of_education influence broad_impact patents\n",
      "Harvard            1                    1         1            1       3\n",
      "Stanford           2                    9         3            4      10\n",
      "MIT                3                    3         2            2       1\n",
      "Cambridge          4                    2         6           13      48\n",
      "Oxford             5                    7        12            9      15\n",
      "Columbia           6                   13        13           12       4\n"
     ]
    }
   ],
   "source": [
    "print(named_uni_matrix)"
   ]
  },
  {
   "cell_type": "code",
   "execution_count": null,
   "metadata": {
    "collapsed": true
   },
   "outputs": [],
   "source": []
  },
  {
   "cell_type": "markdown",
   "metadata": {},
   "source": [
    "## Finding the dimensions of the matrix\n",
    "\n",
    "Here's what `uni_matrix` looks like:"
   ]
  },
  {
   "cell_type": "code",
   "execution_count": 29,
   "metadata": {},
   "outputs": [
    {
     "data": {
      "text/html": [
       "<table>\n",
       "<thead><tr><th></th><th scope=col>world_rank</th><th scope=col>quality_of_education</th><th scope=col>influence</th><th scope=col>broad_impact</th><th scope=col>patents</th></tr></thead>\n",
       "<tbody>\n",
       "\t<tr><th scope=row>Harvard</th><td>1 </td><td> 1</td><td> 1</td><td> 1</td><td> 3</td></tr>\n",
       "\t<tr><th scope=row>Stanford</th><td>2 </td><td> 9</td><td> 3</td><td> 4</td><td>10</td></tr>\n",
       "\t<tr><th scope=row>MIT</th><td>3 </td><td> 3</td><td> 2</td><td> 2</td><td> 1</td></tr>\n",
       "\t<tr><th scope=row>Cambridge</th><td>4 </td><td> 2</td><td> 6</td><td>13</td><td>48</td></tr>\n",
       "\t<tr><th scope=row>Oxford</th><td>5 </td><td> 7</td><td>12</td><td> 9</td><td>15</td></tr>\n",
       "\t<tr><th scope=row>Columbia</th><td>6 </td><td>13</td><td>13</td><td>12</td><td> 4</td></tr>\n",
       "</tbody>\n",
       "</table>\n"
      ],
      "text/latex": [
       "\\begin{tabular}{r|lllll}\n",
       "  & world\\_rank & quality\\_of\\_education & influence & broad\\_impact & patents\\\\\n",
       "\\hline\n",
       "\tHarvard & 1  &  1 &  1 &  1 &  3\\\\\n",
       "\tStanford & 2  &  9 &  3 &  4 & 10\\\\\n",
       "\tMIT & 3  &  3 &  2 &  2 &  1\\\\\n",
       "\tCambridge & 4  &  2 &  6 & 13 & 48\\\\\n",
       "\tOxford & 5  &  7 & 12 &  9 & 15\\\\\n",
       "\tColumbia & 6  & 13 & 13 & 12 &  4\\\\\n",
       "\\end{tabular}\n"
      ],
      "text/markdown": [
       "\n",
       "| <!--/--> | world_rank | quality_of_education | influence | broad_impact | patents | \n",
       "|---|---|---|---|---|---|\n",
       "| Harvard | 1  |  1 |  1 |  1 |  3 | \n",
       "| Stanford | 2  |  9 |  3 |  4 | 10 | \n",
       "| MIT | 3  |  3 |  2 |  2 |  1 | \n",
       "| Cambridge | 4  |  2 |  6 | 13 | 48 | \n",
       "| Oxford | 5  |  7 | 12 |  9 | 15 | \n",
       "| Columbia | 6  | 13 | 13 | 12 |  4 | \n",
       "\n",
       "\n"
      ],
      "text/plain": [
       "          world_rank quality_of_education influence broad_impact patents\n",
       "Harvard   1           1                    1         1            3     \n",
       "Stanford  2           9                    3         4           10     \n",
       "MIT       3           3                    2         2            1     \n",
       "Cambridge 4           2                    6        13           48     \n",
       "Oxford    5           7                   12         9           15     \n",
       "Columbia  6          13                   13        12            4     "
      ]
     },
     "metadata": {},
     "output_type": "display_data"
    }
   ],
   "source": [
    "named_uni_matrix"
   ]
  },
  {
   "cell_type": "markdown",
   "metadata": {},
   "source": [
    "To find which universities have the best education, while minimizing costs, you'll notice we're missing data on the cost of the university. As a result, you did some additional research on the costs for each university:<br>\n",
    "\n",
    "```r\n",
    "tuition <- c(43280,45000,45016,49350,28450,55161)\n",
    "```\n",
    "\n",
    "As a result, we'd like to add this vector of information to the current dataset to compare costs between schools. When we want to add a new column or row to a matrix, we want to first make sure the additional vector matches the dimensions of the matrix. To do this, we'll find the length of the vector and see if it matches either the rows or columns.<br>\n",
    "\n",
    "When adding a new column, length of vector must match number of rows:\n",
    "\n",
    "![matrix-dimension1](https://s3.amazonaws.com/dq-content/182/add_rows_v2.svg)\n",
    "\n",
    "When adding a new row, length of vector must match number of columns:\n",
    "\n",
    "![matrix-dimension2](https://s3.amazonaws.com/dq-content/182/add_cols.svg)\n",
    "\n",
    "It's good practice to check the dimensions to see if they match. If they do not match, the R interpreter will not throw an error. Instead the *recycling rule* will come into play. In many cases, the recycled values aren't useful in our analysis.<br>\n",
    "\n",
    "To find the dimensions of the matrix, you can use the `dim()` function.<br>\n",
    "\n",
    "Like this:\n",
    "\n",
    "```r\n",
    "dim(harv_stan)\n",
    "```\n",
    "\n",
    "The dimensions of `harv_stan` matrix is:\n",
    "\n",
    "```r\n",
    "[1] 2 5\n",
    "```\n",
    "\n",
    "Keep in mind, when you call `dim(harv_stan)`, this returns a vector of the rows by columns, in this order. In our example, `2 5` says we have two rows and five columns.<br>\n",
    "\n",
    "To find the length of a vector, you can use the `length()` function. Let's use this function on two tuition values: \n",
    "\n",
    "```r\n",
    "harv_stan_tuition <- c(43280,45000)\n",
    "length(harv_stan_tuition)\n",
    "```\n",
    "\n",
    "The R interpreter will return:\n",
    "\n",
    "```r\n",
    "[1] 2\n",
    "```\n",
    "\n",
    "Once you have both the dimensions of the matrix and the length of the vector you want to add, depending on whether you're adding a new row or column, make sure the length the vector matches the dimensions of the matrix. To check if they match, you can write the following:\n",
    "\n",
    "```r\n",
    "dim(harv_stan)[1] == length(tuition)\n",
    "```\n",
    "\n",
    "This should return:\n",
    "\n",
    "```r\n",
    "TRUE\n",
    "```\n",
    "\n",
    "We're indexing `[1]` into `dim(harv_stan)[1]` since using `dim()` will return a vector of two values: number of rows & number of columns. Since we're adding a new column we want the length of the column to match the number of rows. `[1]` will tell us the number of rows.<br>\n",
    "\n",
    "Let's use the `dim()` and `length()` function to make sure the tuition vector can fit with our matrix.\n",
    "\n",
    "\n",
    "\n"
   ]
  },
  {
   "cell_type": "code",
   "execution_count": null,
   "metadata": {
    "collapsed": true
   },
   "outputs": [],
   "source": []
  },
  {
   "cell_type": "markdown",
   "metadata": {},
   "source": [
    "* Find the dimensions of the matrix: `uni_matrix`. Display using `print()` statement.\n",
    "* Find the length of the `tuition` vector. Display using `print()` statement.\n",
    "* Use a comparison to see if the number of rows equals to the length of the vector. Store in `equality`. Display using `print()` statement."
   ]
  },
  {
   "cell_type": "code",
   "execution_count": 30,
   "metadata": {},
   "outputs": [
    {
     "name": "stdout",
     "output_type": "stream",
     "text": [
      "[1] 6 5\n",
      "[1] 6\n",
      "[1] TRUE\n"
     ]
    }
   ],
   "source": [
    "tuition <- c(43280,45000,45016,49350,28450,55161)\n",
    "\n",
    "print(dim(uni_matrix))\n",
    "print(length(tuition))\n",
    "\n",
    "equality <- ((dim(uni_matrix)[1]) == (length(tuition)))\n",
    "print(equality)"
   ]
  },
  {
   "cell_type": "code",
   "execution_count": null,
   "metadata": {
    "collapsed": true
   },
   "outputs": [],
   "source": []
  },
  {
   "cell_type": "markdown",
   "metadata": {},
   "source": [
    "## Creating new columns and rows\n",
    "\n",
    "In the previous section, we learned how to find the dimensions of our matrix to see if our tuition vector fits on our matrix. Once we confirm this fits, let's attach `tuition` to `uni_matrix`. To attach a vector to our matrix, we'll need to learn about how to add new columns & rows.<br>\n",
    "\n",
    "Let's first look at adding new columns:\n",
    "\n",
    "![new-cols-and-rows1](https://s3.amazonaws.com/dq-content/182/add_rows_v2.svg)\n",
    "\n",
    "To add the `tuition` column, you'll use the `cbind()` function using the following format: `matrix <- cbind(matrix, new_column)`. Using `cbind()` with our `harv_stan` vector looks like:\n",
    "\n",
    "```r\n",
    "harv_stan <- cbind(harv_stan, tuition)\n",
    "```\n",
    "Now that we've added new columns, let's look at adding new rows:\n",
    "\n",
    "![new-cols-and-rows2](https://s3.amazonaws.com/dq-content/182/add_cols.svg)\n",
    "\n",
    "To add rows, you'll use the `rbind()`. The `rbind()` function follows the same format as `cbind()`, except we're adding a new row: `matrix <- rbind(matrix, new_row)`. Let's see this in action by adding a new row called `MIT` to the `harv_stan` vector:\n",
    "\n",
    "```r\n",
    "MIT <- c(3,3,2,2,1)\n",
    "harv_stan <- rbind(harv_stan, MIT)\n",
    "```\n",
    "\n",
    "Let's try adding the full tuition vector to our original matrix!\n"
   ]
  },
  {
   "cell_type": "code",
   "execution_count": null,
   "metadata": {
    "collapsed": true
   },
   "outputs": [],
   "source": []
  },
  {
   "cell_type": "markdown",
   "metadata": {},
   "source": [
    "* Add the tuition vector to uni_matrix:\n",
    "\n",
    "```r\n",
    "tuition <- c(43280,45000,45016,49350,28450,55161)\n",
    "```"
   ]
  },
  {
   "cell_type": "code",
   "execution_count": 31,
   "metadata": {
    "collapsed": true
   },
   "outputs": [],
   "source": [
    "tuition <- c(43280,45000,45016,49350,28450,55161)"
   ]
  },
  {
   "cell_type": "code",
   "execution_count": 32,
   "metadata": {
    "scrolled": true
   },
   "outputs": [],
   "source": [
    "uni_matrix <- cbind(uni_matrix, tuition)"
   ]
  },
  {
   "cell_type": "code",
   "execution_count": 34,
   "metadata": {},
   "outputs": [
    {
     "data": {
      "text/html": [
       "<table>\n",
       "<thead><tr><th></th><th scope=col>world_rank</th><th scope=col>quality_of_education</th><th scope=col>influence</th><th scope=col>broad_impact</th><th scope=col>patents</th><th scope=col>tuition</th></tr></thead>\n",
       "<tbody>\n",
       "\t<tr><th scope=row>Harvard</th><td>1    </td><td> 1   </td><td> 1   </td><td> 1   </td><td> 3   </td><td>43280</td></tr>\n",
       "\t<tr><th scope=row>Stanford</th><td>2    </td><td> 9   </td><td> 3   </td><td> 4   </td><td>10   </td><td>45000</td></tr>\n",
       "\t<tr><th scope=row>MIT</th><td>3    </td><td> 3   </td><td> 2   </td><td> 2   </td><td> 1   </td><td>45016</td></tr>\n",
       "\t<tr><th scope=row>Cambridge</th><td>4    </td><td> 2   </td><td> 6   </td><td>13   </td><td>48   </td><td>49350</td></tr>\n",
       "\t<tr><th scope=row>Oxford</th><td>5    </td><td> 7   </td><td>12   </td><td> 9   </td><td>15   </td><td>28450</td></tr>\n",
       "\t<tr><th scope=row>Columbia</th><td>6    </td><td>13   </td><td>13   </td><td>12   </td><td> 4   </td><td>55161</td></tr>\n",
       "</tbody>\n",
       "</table>\n"
      ],
      "text/latex": [
       "\\begin{tabular}{r|llllll}\n",
       "  & world\\_rank & quality\\_of\\_education & influence & broad\\_impact & patents & tuition\\\\\n",
       "\\hline\n",
       "\tHarvard & 1     &  1    &  1    &  1    &  3    & 43280\\\\\n",
       "\tStanford & 2     &  9    &  3    &  4    & 10    & 45000\\\\\n",
       "\tMIT & 3     &  3    &  2    &  2    &  1    & 45016\\\\\n",
       "\tCambridge & 4     &  2    &  6    & 13    & 48    & 49350\\\\\n",
       "\tOxford & 5     &  7    & 12    &  9    & 15    & 28450\\\\\n",
       "\tColumbia & 6     & 13    & 13    & 12    &  4    & 55161\\\\\n",
       "\\end{tabular}\n"
      ],
      "text/markdown": [
       "\n",
       "| <!--/--> | world_rank | quality_of_education | influence | broad_impact | patents | tuition | \n",
       "|---|---|---|---|---|---|\n",
       "| Harvard | 1     |  1    |  1    |  1    |  3    | 43280 | \n",
       "| Stanford | 2     |  9    |  3    |  4    | 10    | 45000 | \n",
       "| MIT | 3     |  3    |  2    |  2    |  1    | 45016 | \n",
       "| Cambridge | 4     |  2    |  6    | 13    | 48    | 49350 | \n",
       "| Oxford | 5     |  7    | 12    |  9    | 15    | 28450 | \n",
       "| Columbia | 6     | 13    | 13    | 12    |  4    | 55161 | \n",
       "\n",
       "\n"
      ],
      "text/plain": [
       "          world_rank quality_of_education influence broad_impact patents\n",
       "Harvard   1           1                    1         1            3     \n",
       "Stanford  2           9                    3         4           10     \n",
       "MIT       3           3                    2         2            1     \n",
       "Cambridge 4           2                    6        13           48     \n",
       "Oxford    5           7                   12         9           15     \n",
       "Columbia  6          13                   13        12            4     \n",
       "          tuition\n",
       "Harvard   43280  \n",
       "Stanford  45000  \n",
       "MIT       45016  \n",
       "Cambridge 49350  \n",
       "Oxford    28450  \n",
       "Columbia  55161  "
      ]
     },
     "metadata": {},
     "output_type": "display_data"
    }
   ],
   "source": [
    "uni_matrix"
   ]
  },
  {
   "cell_type": "code",
   "execution_count": null,
   "metadata": {
    "collapsed": true
   },
   "outputs": [],
   "source": []
  },
  {
   "cell_type": "markdown",
   "metadata": {},
   "source": [
    "## Subsetting and Indexing a Matrix by Element\n",
    "\n",
    "Now that we added labels to our matrix and added a new column, we can now pull individual values from our matrix. First, we'll learn how to select values from a matrix by individual values. Then we'll pull entire rows or columns.<br>\n",
    "\n",
    "Let's look at `uni_matrix` again:\n",
    "\n"
   ]
  },
  {
   "cell_type": "code",
   "execution_count": null,
   "metadata": {
    "collapsed": true
   },
   "outputs": [],
   "source": []
  },
  {
   "cell_type": "code",
   "execution_count": null,
   "metadata": {
    "collapsed": true
   },
   "outputs": [],
   "source": []
  },
  {
   "cell_type": "code",
   "execution_count": null,
   "metadata": {
    "collapsed": true
   },
   "outputs": [],
   "source": []
  },
  {
   "cell_type": "code",
   "execution_count": null,
   "metadata": {
    "collapsed": true
   },
   "outputs": [],
   "source": []
  },
  {
   "cell_type": "code",
   "execution_count": null,
   "metadata": {
    "collapsed": true
   },
   "outputs": [],
   "source": []
  },
  {
   "cell_type": "code",
   "execution_count": null,
   "metadata": {
    "collapsed": true
   },
   "outputs": [],
   "source": []
  }
 ],
 "metadata": {
  "kernelspec": {
   "display_name": "R",
   "language": "R",
   "name": "ir"
  },
  "language_info": {
   "codemirror_mode": "r",
   "file_extension": ".r",
   "mimetype": "text/x-r-source",
   "name": "R",
   "pygments_lexer": "r",
   "version": "3.4.1"
  }
 },
 "nbformat": 4,
 "nbformat_minor": 2
}
