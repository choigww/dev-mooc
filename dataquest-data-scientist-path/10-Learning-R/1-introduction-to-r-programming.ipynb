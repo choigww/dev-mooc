{
 "cells": [
  {
   "cell_type": "markdown",
   "metadata": {},
   "source": [
    "# Introduction to R Programming"
   ]
  },
  {
   "cell_type": "code",
   "execution_count": null,
   "metadata": {
    "collapsed": true
   },
   "outputs": [],
   "source": []
  },
  {
   "cell_type": "markdown",
   "metadata": {},
   "source": [
    "### Performing Calculations\n",
    "\n",
    "To start off, R can perform the actions of a basic calculator. Let's calculate the average math score:<br>\n",
    "\n",
    "These calculations are also called expressions. In R, once we finish writing out our expressions, we can show the results of our calculation using a print() statement. The `print()` statement shows the results of the calculation in between `()`. Like this:\n",
    "\n",
    "```r\n",
    "print((92+87+85)/3)\n",
    "```\n",
    "\n",
    "Here's the same calculation:\n",
    "\n",
    "```r\n",
    "print(\n",
    "    (92+87+85)/3\n",
    ")\n",
    "```"
   ]
  },
  {
   "cell_type": "code",
   "execution_count": 1,
   "metadata": {},
   "outputs": [
    {
     "name": "stdout",
     "output_type": "stream",
     "text": [
      "[1] 87.66667\n"
     ]
    }
   ],
   "source": [
    "print((90+81+92)/3)"
   ]
  },
  {
   "cell_type": "code",
   "execution_count": 2,
   "metadata": {},
   "outputs": [
    {
     "name": "stdout",
     "output_type": "stream",
     "text": [
      "[1] 86\n",
      "[1] 91.33333\n"
     ]
    }
   ],
   "source": [
    "print((84+95+79)\n",
    "      /3)\n",
    "print((95+86+93)\n",
    "      /3)"
   ]
  },
  {
   "cell_type": "code",
   "execution_count": 3,
   "metadata": {},
   "outputs": [
    {
     "name": "stdout",
     "output_type": "stream",
     "text": [
      "[1] -0.1904757\n"
     ]
    }
   ],
   "source": [
    "print(88-(88+87.66667+86+91.33333+84+91+89.33333)/7)"
   ]
  },
  {
   "cell_type": "code",
   "execution_count": null,
   "metadata": {
    "collapsed": true
   },
   "outputs": [],
   "source": []
  },
  {
   "cell_type": "markdown",
   "metadata": {},
   "source": [
    "### inline comment\n",
    "```r\n",
    "print(\n",
    "   (92 + 87 + 85)/3 # Finding the math score\n",
    ")\n",
    "```\n",
    "\n",
    "### single-line comment\n",
    "\n",
    "```r\n",
    "# Here, we're finding the average of our scores. Then, subtracting this average from the math score. \n",
    "print(\n",
    "    88 - ((88 + 87.66667 + 86 + 91.33333 + 84 + 91 + 89.33333)/7) \n",
    ")\n",
    "```"
   ]
  },
  {
   "cell_type": "code",
   "execution_count": 4,
   "metadata": {},
   "outputs": [
    {
     "name": "stdout",
     "output_type": "stream",
     "text": [
      "[1] -0.1904757\n"
     ]
    }
   ],
   "source": [
    "print(\n",
    "    88 - ((88 + 87.66667 + 86 + 91.33333 + 84 + 91 + 89.33333)/7) \n",
    "    # hoho\n",
    ")"
   ]
  },
  {
   "cell_type": "code",
   "execution_count": null,
   "metadata": {
    "collapsed": true
   },
   "outputs": [],
   "source": []
  },
  {
   "cell_type": "markdown",
   "metadata": {},
   "source": [
    "### Assigning Values to a Variable\n",
    "\n",
    "Using R as a \"calculator\" is useful. However, a more robust approach would be to store these values for later use. This process of storing values is called **variable assignment**. A variable in R, is like a named storage unit that can hold values.<br>\n",
    "\n",
    "The process of assigning a variable requires two steps:\n",
    "\n",
    "1. Naming the variable.\n",
    "2. Assigning the value to the name using `<-`.\n",
    "\n",
    "When naming a variable, there are a few rules you must follow:\n",
    "\n",
    "* A variable name consists of letters, numbers, a dot, or an underline.\n",
    "* We can begin a variable with a letter or a dot. If it's a dot, then we cannot follow it with a number.\n",
    "* We cannot begin a variable with a number.\n",
    "* No special characters allowed.\n",
    "\n",
    "For more detail, here is a table detailing what variable names are allowed and which are not:\n",
    "\n",
    "![r-assign-value](https://s3.amazonaws.com/dq-content/180/variable_name_v2.svg)\n",
    "\n",
    "Let's return to our math score calculation: `(92 + 87 + 85)/3`, the result of this calculation is `88`. To store `88` in a variable called math:\n",
    "\n",
    "```r\n",
    "math <- 88\n",
    "print(math)\n",
    "\n",
    "[1] 88\n",
    "```\n",
    "\n",
    "Variables, not only can hold the result of our calculation, we can also assign the value of an expression:\n",
    "\n",
    "```r\n",
    "math <- (92 + 87 + 85)/3\n",
    "[1] 88\n",
    "```\n",
    "\n",
    "We've stored our math grade in a variable. Let's store our other scores in variables."
   ]
  },
  {
   "cell_type": "code",
   "execution_count": 5,
   "metadata": {
    "collapsed": true
   },
   "outputs": [],
   "source": [
    "math <- 88 \n",
    "\n",
    "# Add your code below\n",
    "chemistry <- 87.66667\n",
    "writing <- 86\n",
    "art <- 91.33333\n",
    "history <- 84\n",
    "music <- 91\n",
    "physical_education <- 89.33333"
   ]
  },
  {
   "cell_type": "code",
   "execution_count": null,
   "metadata": {
    "collapsed": true
   },
   "outputs": [],
   "source": []
  },
  {
   "cell_type": "markdown",
   "metadata": {},
   "source": [
    "### Performing Calculations Using Variables\n",
    "\n",
    "```r\n",
    "math <- 88\n",
    "chemistry <- 87.66667\n",
    "print(math - chemistry)\n",
    "\n",
    "[1] 0.33333\n",
    "```\n",
    "\n",
    "If we wanted to find the average score between math and chemistry, we can use the `+`,`/`,`()` operators on the two variables:\n",
    "\n",
    "```r\n",
    "(math + chemistry)/2\n",
    "[1] 87.83334\n",
    "```\n",
    "\n",
    "After we make these calculations, we can also store the result of these expressions in a variable. If we wanted to store the average of math and chemistry in a variable called average, it would look like this:\n",
    "\n",
    "```r\n",
    "average <- (math + chemistry)/2\n",
    "[1] 87.83334\n",
    "```\n",
    "\n",
    "Displaying the average would return the same value 87.83334.\n"
   ]
  },
  {
   "cell_type": "code",
   "execution_count": 7,
   "metadata": {},
   "outputs": [
    {
     "name": "stdout",
     "output_type": "stream",
     "text": [
      "[1] 88.19048\n",
      "[1] -4.190476\n"
     ]
    }
   ],
   "source": [
    "gpa = (math+chemistry+writing+art+history+music+physical_education)/7\n",
    "history_difference = history - gpa\n",
    "\n",
    "print(gpa)\n",
    "print(history_difference)"
   ]
  },
  {
   "cell_type": "code",
   "execution_count": null,
   "metadata": {
    "collapsed": true
   },
   "outputs": [],
   "source": []
  },
  {
   "cell_type": "markdown",
   "metadata": {},
   "source": [
    "### Creating Vectors\n",
    "\n",
    "Returning to our math, chemistry example, let's look at the current variables:\n",
    "\n",
    "![r-variable](https://s3.amazonaws.com/dq-content/180/create_vector_vars.svg)\n",
    "\n",
    "A vector is a storage container that can store a sequence of values. We can then name a vector using a variable. Like this:\n",
    "\n",
    "\n",
    "![r-vector](https://s3.amazonaws.com/dq-content/180/create_vector_vec.svg)\n",
    "\n",
    "To create a vector, you'll be using `c()`. In R, `c()` is known as a function. Similar to the `print()` statement, the `c()` function takes in multiple inputs and stores these values in one place. The `c()` function doesn't perform any arithmetic operation on the values, it just stores those values. You can read more about the `c()` function [here](https://cran.r-project.org/doc/manuals/r-release/R-intro.html#The-concatenation-function-c_0028_0029-with-arrays).<br>\n",
    "\n",
    "Here are the steps to creating a vector:\n",
    "1. Identify the values you want to store in a vector and place these values within the `c()` function. Separate these values using a comma(`,`).\n",
    "2. Assign the vector to a name of your choice using `<-`.\n",
    "\n",
    "```r\n",
    "math_chemistry <- c(88,87.66667)\n",
    "```\n",
    "\n",
    "We could also create the vector using your variable names as well:\n",
    "\n",
    "```r\n",
    "math_chemistry <- c(math,chemistry)\n",
    "```\n",
    "\n",
    "On the other hand, if we tried to store a sequence of values, like this:\n",
    "\n",
    "```r\n",
    "math_chemistry <- 88, 87.66667\n",
    "```\n",
    "\n",
    "The R interpreter will only try to assign 88 to `math_chemistry` but will not be able to interpret the comma after 88:\n",
    "\n",
    "```\n",
    "Error: unexpected ',' in \"math_chemistry <- 88,\"\n",
    "```\n",
    "\n",
    "Let's store our final scores in a vector!"
   ]
  },
  {
   "cell_type": "code",
   "execution_count": 8,
   "metadata": {},
   "outputs": [
    {
     "name": "stdout",
     "output_type": "stream",
     "text": [
      "[1] 88.00000 87.66667 86.00000 91.33333 84.00000 91.00000 89.33333\n"
     ]
    }
   ],
   "source": [
    "final_scores = c(math, \n",
    "                 chemistry, \n",
    "                 writing, \n",
    "                 art, \n",
    "                 history, \n",
    "                 music, \n",
    "                 physical_education)\n",
    "\n",
    "print(final_scores)"
   ]
  },
  {
   "cell_type": "code",
   "execution_count": null,
   "metadata": {
    "collapsed": true
   },
   "outputs": [],
   "source": []
  },
  {
   "cell_type": "markdown",
   "metadata": {},
   "source": [
    "### Calculating the Mean\n",
    "\n",
    "To calculate the grade point average using a vector, use the `mean()` function. The `mean()` function will take an input(the vector) and calculate the average of that input. The interpreter will then display the result.\n",
    "\n",
    "```r\n",
    "math_chemistry <- c(88,87.66667)\n",
    "mean(math_chemistry)\n",
    "\n",
    "[1] 87.83334\n",
    "```"
   ]
  },
  {
   "cell_type": "code",
   "execution_count": 9,
   "metadata": {},
   "outputs": [
    {
     "data": {
      "text/html": [
       "88.1904757142857"
      ],
      "text/latex": [
       "88.1904757142857"
      ],
      "text/markdown": [
       "88.1904757142857"
      ],
      "text/plain": [
       "[1] 88.19048"
      ]
     },
     "metadata": {},
     "output_type": "display_data"
    }
   ],
   "source": [
    "gpa = mean(final_scores)\n",
    "gpa"
   ]
  },
  {
   "cell_type": "code",
   "execution_count": null,
   "metadata": {
    "collapsed": true
   },
   "outputs": [],
   "source": []
  },
  {
   "cell_type": "markdown",
   "metadata": {},
   "source": [
    "### Performing Operations on Vectors\n",
    "\n",
    "Let's dig deeper into our final_grades vector and ask it a few more questions:\n",
    "\n",
    "* What was the highest score?\n",
    "* What was the lowest score?\n",
    "* How many classes did you take?\n",
    "\n",
    "To answer these questions, let's introduce a few more functions you can use that would be useful for you:\n",
    "\n",
    "* `min()`: Finding the smallest value within the vector\n",
    "* `max()`: Finding the largest value within the vector\n",
    "* `length()`: Finding the total number of values the vector holds\n",
    "* `sum()`:: Taking the sum of all the values in the vector( Note: Will not be used in exercise.)\n",
    "\n"
   ]
  },
  {
   "cell_type": "code",
   "execution_count": 12,
   "metadata": {},
   "outputs": [
    {
     "name": "stdout",
     "output_type": "stream",
     "text": [
      "[1] 91.33333\n",
      "[1] 84\n",
      "[1] 7\n"
     ]
    }
   ],
   "source": [
    "highest_score <- max(final_scores)\n",
    "lowest_score <- min(final_scores)\n",
    "num_classes <- length(final_scores)\n",
    "\n",
    "print(highest_score)\n",
    "print(lowest_score)\n",
    "print(num_classes)"
   ]
  },
  {
   "cell_type": "code",
   "execution_count": null,
   "metadata": {
    "collapsed": true
   },
   "outputs": [],
   "source": []
  }
 ],
 "metadata": {
  "kernelspec": {
   "display_name": "R",
   "language": "R",
   "name": "ir"
  },
  "language_info": {
   "codemirror_mode": "r",
   "file_extension": ".r",
   "mimetype": "text/x-r-source",
   "name": "R",
   "pygments_lexer": "r",
   "version": "3.4.1"
  }
 },
 "nbformat": 4,
 "nbformat_minor": 2
}
