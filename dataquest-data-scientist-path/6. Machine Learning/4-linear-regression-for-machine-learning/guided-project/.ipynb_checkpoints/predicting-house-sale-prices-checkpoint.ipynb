{
 "cells": [
  {
   "cell_type": "markdown",
   "metadata": {},
   "source": [
    "# Guided Project:\n",
    "# Predicting House Sale Prices"
   ]
  },
  {
   "cell_type": "markdown",
   "metadata": {},
   "source": [
    "## Introduction\n",
    "\n",
    "In this course, we started by building intuition for model based learning, explored how the linear regression model worked, understood how the two different approaches to model fitting worked, and some techniques for cleaning, transforming, and selecting features. In this guided project, you can practice what you learned in this course by exploring ways to improve the models we built.<br>\n",
    "\n",
    "You'll work with housing data for the city of Ames, Iowa, United States from 2006 to 2010. You can read more about why the data was collected [here](http://ww2.amstat.org/publications/jse/v19n3/decock.pdf). You can also read about the different columns in the data [here](https://ww2.amstat.org/publications/jse/v19n3/decock/DataDocumentation.txt).<br>\n",
    "\n",
    "Let's start by setting up a pipeline of functions that will let us quickly iterate on different models.\n",
    "\n",
    "![](https://s3.amazonaws.com/dq-content/240/pipeline.svg)\n",
    "\n"
   ]
  },
  {
   "cell_type": "code",
   "execution_count": null,
   "metadata": {
    "collapsed": true
   },
   "outputs": [],
   "source": []
  },
  {
   "cell_type": "markdown",
   "metadata": {},
   "source": [
    "### instructions\n",
    "* Import pandas, matplotlib, and numpy into the environment. Import the classes you need from scikit-learn as well.\n",
    "* Read `AmesHousing.tsv` into a pandas data frame.\n",
    "* For the following functions, we recommend creating them in the first few cells in the notebook. This way, you can add cells to the end of the notebook to do experiments and update the functions in these cells.\n",
    "  * Create a function named `transform_features()` that, for now, just returns the `train` data frame.\n",
    "  * Create a function named `select_features()` that, for now, just returns the `Gr Liv Area` and `SalePrice` columns from the train data frame.\n",
    "  * Create a function named `train_and_test()` that, for now:\n",
    "    * Selects the first `1460` rows from from data and assign to `train`.\n",
    "    * Selects the remaining rows from data and assign to `test`.\n",
    "    * Trains a model using all numerical columns except the `SalePrice` column (the target column) from the data frame returned from select_features()\n",
    "    * Tests the model on the test set using and returns the RMSE value."
   ]
  },
  {
   "cell_type": "code",
   "execution_count": 1,
   "metadata": {
    "collapsed": false
   },
   "outputs": [],
   "source": [
    "import pandas as pd\n",
    "import numpy as np\n",
    "from sklearn.linear_model import LinearRegression\n",
    "from sklearn.model_selection import cross_val_score\n",
    "from sklearn.metrics import mean_squared_error\n",
    "from sklearn.metrics import r2_score\n",
    "import datetime"
   ]
  },
  {
   "cell_type": "code",
   "execution_count": 2,
   "metadata": {
    "collapsed": true
   },
   "outputs": [],
   "source": [
    "data = pd.read_csv('AmesHousing.tsv', delimiter='\\t')\n",
    "train = data[:1460]\n",
    "test = data[1460:]"
   ]
  },
  {
   "cell_type": "code",
   "execution_count": 3,
   "metadata": {
    "collapsed": true
   },
   "outputs": [],
   "source": [
    "def get_numeric_features(df):\n",
    "    return df.select_dtypes(include=['int', 'float']).drop(['SalePrice'],axis=1)"
   ]
  },
  {
   "cell_type": "code",
   "execution_count": 4,
   "metadata": {
    "collapsed": true
   },
   "outputs": [],
   "source": [
    "def transform_features():\n",
    "    return train\n",
    "\n",
    "def select_features():\n",
    "     return train[['Gr Liv Area', 'SalePrice']]\n",
    "    \n",
    "def train_and_test():\n",
    "    \n",
    "    X = get_numeric_features(select_features)\n",
    "    y = select_features()['SalePrice']\n",
    "    lr = LinearRegression\n",
    "    lr.fit(X, y)\n",
    "\n",
    "    return np.sqrt(mean_squared_error(lr.predict(test[X.columns]), test['SalePrice']))"
   ]
  },
  {
   "cell_type": "code",
   "execution_count": null,
   "metadata": {
    "collapsed": true
   },
   "outputs": [],
   "source": []
  },
  {
   "cell_type": "markdown",
   "metadata": {},
   "source": [
    "## Feature Engineering\n",
    "\n",
    "Let's now start to removing features with many missing values, diving deeper into potential categorical features, and transforming text and numerical columns. Update `transform_features()` so that any column from the data frame with more than 25% (or another cutoff value) missing values is dropped. You also need to remove any columns that leak information about the sale (e.g. like the year the sale happened). In general, the goal of this function is to:\n",
    "\n",
    "* remove features that we don't want to use in the model, just based on the number of missing values or data leakage\n",
    "* transform features into the proper format (numerical to categorical, scaling numerical, filling in missing values, etc)\n",
    "* create new features by combining other features\n",
    "\n",
    "Next, you need to get more familiar with the remaining columns by reading the [data documentation](https://ww2.amstat.org/publications/jse/v19n3/decock/DataDocumentation.txt) for each column, determining what transformations are necessary (if any), and more. As we mentioned earlier, **succeeding in predictive modeling (and competitions like Kaggle) is highly dependent on the quality of features the model has**. \n",
    "* Libraries like scikit-learn has made it quick and easy to simply try and tweak many different models, \n",
    "\n",
    "### but cleaning, selecting, and transforming features is still more of an art that requires a bit of human ingenuity."
   ]
  },
  {
   "cell_type": "markdown",
   "metadata": {},
   "source": [
    "### Data Overview\n",
    "full document  : https://ww2.amstat.org/publications/jse/v19n3/decock/DataDocumentation.txt\n",
    "\n",
    "* NAME: AmesHousing.txt\n",
    "* TYPE: Population\n",
    "* SIZE: `2930` observations, `82` variables\n",
    "* ARTICLE TITLE: Ames Iowa|Alternative to the Boston Housing Data Set\n",
    "\n",
    "### Variable Description\n",
    "Tab characters are used to separate variables in the data file. The data has 82 columns which include \n",
    "* 23 nominal, \n",
    "* 23 ordinal, \n",
    "* 14 discrete, and \n",
    "* 20 continuous variables \n",
    "* (and 2 additional observation identifiers).\n",
    "\n",
    "#### Numerical variables\n",
    "#|feature|description\n",
    "---|---|---\n",
    "1|Lot Frontage (Continuous)|Linear feet of street connected to property\n",
    "2|Lot Area (Continuous)|Lot size in square feet\n",
    "3|Year Built (Discrete)|Original construction date\n",
    "4|Year Remod/Add (Discrete)|Remodel date (same as construction date if no remodeling or additions)\n",
    "5|Mas Vnr Area (Continuous)|Masonry veneer area in square feet\n",
    "6|BsmtFin SF 1 (Continuous)|Type 1 finished square feet\n",
    "7|BsmtFin SF 2 (Continuous)|Type 2 finished square feet\n",
    "8|Bsmt Unf SF (Continuous)|Unfinished square feet of basement area\n",
    "9|Total Bsmt SF (Continuous)|Total square feet of basement area\n",
    "10|1st Flr SF (Continuous)|First Floor square feet\n",
    "11|2nd Flr SF (Continuous)\t|Second floor square feet\n",
    "12|Low Qual Fin SF (Continuous)|Low quality finished square feet (all floors)\n",
    "13|Gr Liv Area (Continuous)|Above grade (ground) living area square feet\n",
    "14|Bsmt Full Bath (Discrete)|Basement full bathrooms\n",
    "15|Bsmt Half Bath (Discrete)|Basement half bathrooms\n",
    "16|Full Bath (Discrete)|Full bathrooms above grade\n",
    "17|Half Bath (Discrete)|Half baths above grade\n",
    "18|Bedroom (Discrete)|Bedrooms above grade (does NOT include basement bedrooms)\n",
    "19|Kitchen (Discrete)|Kitchens above grade\n",
    "20|TotRmsAbvGrd\t(Discrete)|Total rooms above grade (does not include bathrooms)\n",
    "21|Fireplaces (Discrete)|Number of fireplaces\n",
    "22|Garage Yr Blt (Discrete)|Year garage was built\n",
    "23|Garage Cars (Discrete)|Size of garage in car capacity\n",
    "24|Garage Area (Continuous)|Size of garage in square feet\n",
    "25|Wood Deck SF (Continuous)|Wood deck area in square feet\n",
    "26|Open Porch SF (Continuous)|Open porch area in square feet\n",
    "27|Enclosed Porch (Continuous)|Enclosed porch area in square feet\n",
    "28|3-Ssn Porch (Continuous)|Three season porch area in square feet\n",
    "29|Screen Porch (Continuous)|Screen porch area in square feet\n",
    "30|Pool Area (Continuous)|Pool area in square feet\n",
    "31|Misc Val (Continuous)|$Value of miscellaneous feature\n",
    "32|Mo Sold (Discrete)|Month Sold (MM)\n",
    "33|Yr Sold (Discrete)|Year Sold (YYYY)\n"
   ]
  },
  {
   "cell_type": "code",
   "execution_count": null,
   "metadata": {
    "collapsed": true
   },
   "outputs": [],
   "source": []
  },
  {
   "cell_type": "markdown",
   "metadata": {},
   "source": [
    "### instructions\n",
    "- As we mentioned earlier, we recommend adding some cells to explore and experiment with different features (before rewriting these functions).\n",
    "- The `transform_features()` function shouldn't modify the `train` data frame and instead return a new one entirely. This way, we can keep using `train` in the experimentation cells.\n",
    "- Which columns contain less than 5% missing values?\n",
    "  * For numerical columns that meet this criteria, let's fill in the missing values using the most popular value for that column.\n",
    "- What new features can we create, that better capture the information in some of the features?\n",
    "  * An example of this would be the `years_until_remod` feature we created in the last mission.\n",
    "- Which columns need to be dropped for other reasons?\n",
    "  * Which columns aren't useful for machine learning?\n",
    "  * Which columns leak data about the final sale?"
   ]
  },
  {
   "cell_type": "code",
   "execution_count": 5,
   "metadata": {
    "collapsed": true
   },
   "outputs": [],
   "source": [
    "train_ = train.copy()\n",
    "\n",
    "null_count_ratio = train_.isnull().sum()/train_.shape[0]\n",
    "lt_5per_nulls = null_count_ratio[null_count_ratio < .05].index\n",
    "gte_5per_nulls = null_count_ratio[null_count_ratio >= .05].index\n",
    "\n",
    "train_ = train_.drop(gte_5per_nulls, axis=1)\n",
    "\n",
    "for lt5 in lt_5per_nulls:\n",
    "    train_[lt5].fillna(train_[lt5].value_counts().index[0],\n",
    "                       inplace=True)"
   ]
  },
  {
   "cell_type": "code",
   "execution_count": 6,
   "metadata": {
    "collapsed": false,
    "scrolled": true
   },
   "outputs": [
    {
     "name": "stdout",
     "output_type": "stream",
     "text": [
      "there exists no null in any column\n"
     ]
    }
   ],
   "source": [
    "for col in train_.columns:\n",
    "    if (train_[col].isnull().sum()):\n",
    "        print(col)\n",
    "else:\n",
    "    print('there exists no null in any column')"
   ]
  },
  {
   "cell_type": "code",
   "execution_count": 7,
   "metadata": {
    "collapsed": false,
    "scrolled": false
   },
   "outputs": [
    {
     "data": {
      "text/plain": [
       "Index(['Order', 'PID', 'MS SubClass', 'MS Zoning', 'Lot Area', 'Street',\n",
       "       'Lot Shape', 'Land Contour', 'Utilities', 'Lot Config', 'Land Slope',\n",
       "       'Neighborhood', 'Condition 1', 'Condition 2', 'Bldg Type',\n",
       "       'House Style', 'Overall Qual', 'Overall Cond', 'Year Built',\n",
       "       'Year Remod/Add', 'Roof Style', 'Roof Matl', 'Exterior 1st',\n",
       "       'Exterior 2nd', 'Mas Vnr Type', 'Mas Vnr Area', 'Exter Qual',\n",
       "       'Exter Cond', 'Foundation', 'Bsmt Qual', 'Bsmt Cond', 'Bsmt Exposure',\n",
       "       'BsmtFin Type 1', 'BsmtFin SF 1', 'BsmtFin Type 2', 'BsmtFin SF 2',\n",
       "       'Bsmt Unf SF', 'Total Bsmt SF', 'Heating', 'Heating QC', 'Central Air',\n",
       "       'Electrical', '1st Flr SF', '2nd Flr SF', 'Low Qual Fin SF',\n",
       "       'Gr Liv Area', 'Bsmt Full Bath', 'Bsmt Half Bath', 'Full Bath',\n",
       "       'Half Bath', 'Bedroom AbvGr', 'Kitchen AbvGr', 'Kitchen Qual',\n",
       "       'TotRms AbvGrd', 'Functional', 'Fireplaces', 'Garage Cars',\n",
       "       'Garage Area', 'Paved Drive', 'Wood Deck SF', 'Open Porch SF',\n",
       "       'Enclosed Porch', '3Ssn Porch', 'Screen Porch', 'Pool Area', 'Misc Val',\n",
       "       'Mo Sold', 'Yr Sold', 'Sale Type', 'Sale Condition', 'SalePrice'],\n",
       "      dtype='object')"
      ]
     },
     "execution_count": 7,
     "metadata": {},
     "output_type": "execute_result"
    }
   ],
   "source": [
    "lt_5per_nulls"
   ]
  },
  {
   "cell_type": "code",
   "execution_count": 8,
   "metadata": {
    "collapsed": false,
    "scrolled": true
   },
   "outputs": [
    {
     "data": {
      "text/plain": [
       "Index(['Lot Frontage', 'Alley', 'Fireplace Qu', 'Garage Type', 'Garage Yr Blt',\n",
       "       'Garage Finish', 'Garage Qual', 'Garage Cond', 'Pool QC', 'Fence',\n",
       "       'Misc Feature'],\n",
       "      dtype='object')"
      ]
     },
     "execution_count": 8,
     "metadata": {},
     "output_type": "execute_result"
    }
   ],
   "source": [
    "gte_5per_nulls"
   ]
  },
  {
   "cell_type": "code",
   "execution_count": 14,
   "metadata": {
    "collapsed": false
   },
   "outputs": [
    {
     "data": {
      "text/html": [
       "<div>\n",
       "<table border=\"1\" class=\"dataframe\">\n",
       "  <thead>\n",
       "    <tr style=\"text-align: right;\">\n",
       "      <th></th>\n",
       "      <th>Order</th>\n",
       "      <th>PID</th>\n",
       "      <th>MS SubClass</th>\n",
       "      <th>MS Zoning</th>\n",
       "      <th>Lot Area</th>\n",
       "      <th>Street</th>\n",
       "      <th>Lot Shape</th>\n",
       "      <th>Land Contour</th>\n",
       "      <th>Utilities</th>\n",
       "      <th>Lot Config</th>\n",
       "      <th>...</th>\n",
       "      <th>Enclosed Porch</th>\n",
       "      <th>3Ssn Porch</th>\n",
       "      <th>Screen Porch</th>\n",
       "      <th>Pool Area</th>\n",
       "      <th>Misc Val</th>\n",
       "      <th>Mo Sold</th>\n",
       "      <th>Yr Sold</th>\n",
       "      <th>Sale Type</th>\n",
       "      <th>Sale Condition</th>\n",
       "      <th>SalePrice</th>\n",
       "    </tr>\n",
       "  </thead>\n",
       "  <tbody>\n",
       "    <tr>\n",
       "      <th>0</th>\n",
       "      <td>1</td>\n",
       "      <td>526301100</td>\n",
       "      <td>20</td>\n",
       "      <td>RL</td>\n",
       "      <td>31770</td>\n",
       "      <td>Pave</td>\n",
       "      <td>IR1</td>\n",
       "      <td>Lvl</td>\n",
       "      <td>AllPub</td>\n",
       "      <td>Corner</td>\n",
       "      <td>...</td>\n",
       "      <td>0</td>\n",
       "      <td>0</td>\n",
       "      <td>0</td>\n",
       "      <td>0</td>\n",
       "      <td>0</td>\n",
       "      <td>5</td>\n",
       "      <td>2010</td>\n",
       "      <td>WD</td>\n",
       "      <td>Normal</td>\n",
       "      <td>215000</td>\n",
       "    </tr>\n",
       "    <tr>\n",
       "      <th>1</th>\n",
       "      <td>2</td>\n",
       "      <td>526350040</td>\n",
       "      <td>20</td>\n",
       "      <td>RH</td>\n",
       "      <td>11622</td>\n",
       "      <td>Pave</td>\n",
       "      <td>Reg</td>\n",
       "      <td>Lvl</td>\n",
       "      <td>AllPub</td>\n",
       "      <td>Inside</td>\n",
       "      <td>...</td>\n",
       "      <td>0</td>\n",
       "      <td>0</td>\n",
       "      <td>120</td>\n",
       "      <td>0</td>\n",
       "      <td>0</td>\n",
       "      <td>6</td>\n",
       "      <td>2010</td>\n",
       "      <td>WD</td>\n",
       "      <td>Normal</td>\n",
       "      <td>105000</td>\n",
       "    </tr>\n",
       "    <tr>\n",
       "      <th>2</th>\n",
       "      <td>3</td>\n",
       "      <td>526351010</td>\n",
       "      <td>20</td>\n",
       "      <td>RL</td>\n",
       "      <td>14267</td>\n",
       "      <td>Pave</td>\n",
       "      <td>IR1</td>\n",
       "      <td>Lvl</td>\n",
       "      <td>AllPub</td>\n",
       "      <td>Corner</td>\n",
       "      <td>...</td>\n",
       "      <td>0</td>\n",
       "      <td>0</td>\n",
       "      <td>0</td>\n",
       "      <td>0</td>\n",
       "      <td>12500</td>\n",
       "      <td>6</td>\n",
       "      <td>2010</td>\n",
       "      <td>WD</td>\n",
       "      <td>Normal</td>\n",
       "      <td>172000</td>\n",
       "    </tr>\n",
       "    <tr>\n",
       "      <th>3</th>\n",
       "      <td>4</td>\n",
       "      <td>526353030</td>\n",
       "      <td>20</td>\n",
       "      <td>RL</td>\n",
       "      <td>11160</td>\n",
       "      <td>Pave</td>\n",
       "      <td>Reg</td>\n",
       "      <td>Lvl</td>\n",
       "      <td>AllPub</td>\n",
       "      <td>Corner</td>\n",
       "      <td>...</td>\n",
       "      <td>0</td>\n",
       "      <td>0</td>\n",
       "      <td>0</td>\n",
       "      <td>0</td>\n",
       "      <td>0</td>\n",
       "      <td>4</td>\n",
       "      <td>2010</td>\n",
       "      <td>WD</td>\n",
       "      <td>Normal</td>\n",
       "      <td>244000</td>\n",
       "    </tr>\n",
       "    <tr>\n",
       "      <th>4</th>\n",
       "      <td>5</td>\n",
       "      <td>527105010</td>\n",
       "      <td>60</td>\n",
       "      <td>RL</td>\n",
       "      <td>13830</td>\n",
       "      <td>Pave</td>\n",
       "      <td>IR1</td>\n",
       "      <td>Lvl</td>\n",
       "      <td>AllPub</td>\n",
       "      <td>Inside</td>\n",
       "      <td>...</td>\n",
       "      <td>0</td>\n",
       "      <td>0</td>\n",
       "      <td>0</td>\n",
       "      <td>0</td>\n",
       "      <td>0</td>\n",
       "      <td>3</td>\n",
       "      <td>2010</td>\n",
       "      <td>WD</td>\n",
       "      <td>Normal</td>\n",
       "      <td>189900</td>\n",
       "    </tr>\n",
       "  </tbody>\n",
       "</table>\n",
       "<p>5 rows × 71 columns</p>\n",
       "</div>"
      ],
      "text/plain": [
       "   Order        PID  MS SubClass MS Zoning  Lot Area Street Lot Shape  \\\n",
       "0      1  526301100           20        RL     31770   Pave       IR1   \n",
       "1      2  526350040           20        RH     11622   Pave       Reg   \n",
       "2      3  526351010           20        RL     14267   Pave       IR1   \n",
       "3      4  526353030           20        RL     11160   Pave       Reg   \n",
       "4      5  527105010           60        RL     13830   Pave       IR1   \n",
       "\n",
       "  Land Contour Utilities Lot Config    ...     Enclosed Porch 3Ssn Porch  \\\n",
       "0          Lvl    AllPub     Corner    ...                  0          0   \n",
       "1          Lvl    AllPub     Inside    ...                  0          0   \n",
       "2          Lvl    AllPub     Corner    ...                  0          0   \n",
       "3          Lvl    AllPub     Corner    ...                  0          0   \n",
       "4          Lvl    AllPub     Inside    ...                  0          0   \n",
       "\n",
       "  Screen Porch Pool Area Misc Val Mo Sold  Yr Sold  Sale Type  Sale Condition  \\\n",
       "0            0         0        0       5     2010        WD           Normal   \n",
       "1          120         0        0       6     2010        WD           Normal   \n",
       "2            0         0    12500       6     2010        WD           Normal   \n",
       "3            0         0        0       4     2010        WD           Normal   \n",
       "4            0         0        0       3     2010        WD           Normal   \n",
       "\n",
       "   SalePrice  \n",
       "0     215000  \n",
       "1     105000  \n",
       "2     172000  \n",
       "3     244000  \n",
       "4     189900  \n",
       "\n",
       "[5 rows x 71 columns]"
      ]
     },
     "execution_count": 14,
     "metadata": {},
     "output_type": "execute_result"
    }
   ],
   "source": [
    "train_.head()"
   ]
  },
  {
   "cell_type": "code",
   "execution_count": null,
   "metadata": {
    "collapsed": true
   },
   "outputs": [],
   "source": []
  },
  {
   "cell_type": "code",
   "execution_count": 20,
   "metadata": {
    "collapsed": false
   },
   "outputs": [
    {
     "data": {
      "text/html": [
       "<div>\n",
       "<table border=\"1\" class=\"dataframe\">\n",
       "  <thead>\n",
       "    <tr style=\"text-align: right;\">\n",
       "      <th></th>\n",
       "      <th>Order</th>\n",
       "      <th>PID</th>\n",
       "      <th>MS SubClass</th>\n",
       "      <th>Lot Area</th>\n",
       "      <th>Overall Qual</th>\n",
       "      <th>Overall Cond</th>\n",
       "      <th>Year Built</th>\n",
       "      <th>Year Remod/Add</th>\n",
       "      <th>Mas Vnr Area</th>\n",
       "      <th>BsmtFin SF 1</th>\n",
       "      <th>...</th>\n",
       "      <th>Garage Area</th>\n",
       "      <th>Wood Deck SF</th>\n",
       "      <th>Open Porch SF</th>\n",
       "      <th>Enclosed Porch</th>\n",
       "      <th>3Ssn Porch</th>\n",
       "      <th>Screen Porch</th>\n",
       "      <th>Pool Area</th>\n",
       "      <th>Misc Val</th>\n",
       "      <th>Mo Sold</th>\n",
       "      <th>Yr Sold</th>\n",
       "    </tr>\n",
       "  </thead>\n",
       "  <tbody>\n",
       "    <tr>\n",
       "      <th>0</th>\n",
       "      <td>1</td>\n",
       "      <td>526301100</td>\n",
       "      <td>20</td>\n",
       "      <td>31770</td>\n",
       "      <td>6</td>\n",
       "      <td>5</td>\n",
       "      <td>1960</td>\n",
       "      <td>1960</td>\n",
       "      <td>112.0</td>\n",
       "      <td>639.0</td>\n",
       "      <td>...</td>\n",
       "      <td>528.0</td>\n",
       "      <td>210</td>\n",
       "      <td>62</td>\n",
       "      <td>0</td>\n",
       "      <td>0</td>\n",
       "      <td>0</td>\n",
       "      <td>0</td>\n",
       "      <td>0</td>\n",
       "      <td>5</td>\n",
       "      <td>2010</td>\n",
       "    </tr>\n",
       "    <tr>\n",
       "      <th>1</th>\n",
       "      <td>2</td>\n",
       "      <td>526350040</td>\n",
       "      <td>20</td>\n",
       "      <td>11622</td>\n",
       "      <td>5</td>\n",
       "      <td>6</td>\n",
       "      <td>1961</td>\n",
       "      <td>1961</td>\n",
       "      <td>0.0</td>\n",
       "      <td>468.0</td>\n",
       "      <td>...</td>\n",
       "      <td>730.0</td>\n",
       "      <td>140</td>\n",
       "      <td>0</td>\n",
       "      <td>0</td>\n",
       "      <td>0</td>\n",
       "      <td>120</td>\n",
       "      <td>0</td>\n",
       "      <td>0</td>\n",
       "      <td>6</td>\n",
       "      <td>2010</td>\n",
       "    </tr>\n",
       "    <tr>\n",
       "      <th>2</th>\n",
       "      <td>3</td>\n",
       "      <td>526351010</td>\n",
       "      <td>20</td>\n",
       "      <td>14267</td>\n",
       "      <td>6</td>\n",
       "      <td>6</td>\n",
       "      <td>1958</td>\n",
       "      <td>1958</td>\n",
       "      <td>108.0</td>\n",
       "      <td>923.0</td>\n",
       "      <td>...</td>\n",
       "      <td>312.0</td>\n",
       "      <td>393</td>\n",
       "      <td>36</td>\n",
       "      <td>0</td>\n",
       "      <td>0</td>\n",
       "      <td>0</td>\n",
       "      <td>0</td>\n",
       "      <td>12500</td>\n",
       "      <td>6</td>\n",
       "      <td>2010</td>\n",
       "    </tr>\n",
       "    <tr>\n",
       "      <th>3</th>\n",
       "      <td>4</td>\n",
       "      <td>526353030</td>\n",
       "      <td>20</td>\n",
       "      <td>11160</td>\n",
       "      <td>7</td>\n",
       "      <td>5</td>\n",
       "      <td>1968</td>\n",
       "      <td>1968</td>\n",
       "      <td>0.0</td>\n",
       "      <td>1065.0</td>\n",
       "      <td>...</td>\n",
       "      <td>522.0</td>\n",
       "      <td>0</td>\n",
       "      <td>0</td>\n",
       "      <td>0</td>\n",
       "      <td>0</td>\n",
       "      <td>0</td>\n",
       "      <td>0</td>\n",
       "      <td>0</td>\n",
       "      <td>4</td>\n",
       "      <td>2010</td>\n",
       "    </tr>\n",
       "    <tr>\n",
       "      <th>4</th>\n",
       "      <td>5</td>\n",
       "      <td>527105010</td>\n",
       "      <td>60</td>\n",
       "      <td>13830</td>\n",
       "      <td>5</td>\n",
       "      <td>5</td>\n",
       "      <td>1997</td>\n",
       "      <td>1998</td>\n",
       "      <td>0.0</td>\n",
       "      <td>791.0</td>\n",
       "      <td>...</td>\n",
       "      <td>482.0</td>\n",
       "      <td>212</td>\n",
       "      <td>34</td>\n",
       "      <td>0</td>\n",
       "      <td>0</td>\n",
       "      <td>0</td>\n",
       "      <td>0</td>\n",
       "      <td>0</td>\n",
       "      <td>3</td>\n",
       "      <td>2010</td>\n",
       "    </tr>\n",
       "  </tbody>\n",
       "</table>\n",
       "<p>5 rows × 36 columns</p>\n",
       "</div>"
      ],
      "text/plain": [
       "   Order        PID  MS SubClass  Lot Area  Overall Qual  Overall Cond  \\\n",
       "0      1  526301100           20     31770             6             5   \n",
       "1      2  526350040           20     11622             5             6   \n",
       "2      3  526351010           20     14267             6             6   \n",
       "3      4  526353030           20     11160             7             5   \n",
       "4      5  527105010           60     13830             5             5   \n",
       "\n",
       "   Year Built  Year Remod/Add  Mas Vnr Area  BsmtFin SF 1   ...     \\\n",
       "0        1960            1960         112.0         639.0   ...      \n",
       "1        1961            1961           0.0         468.0   ...      \n",
       "2        1958            1958         108.0         923.0   ...      \n",
       "3        1968            1968           0.0        1065.0   ...      \n",
       "4        1997            1998           0.0         791.0   ...      \n",
       "\n",
       "   Garage Area  Wood Deck SF  Open Porch SF  Enclosed Porch  3Ssn Porch  \\\n",
       "0        528.0           210             62               0           0   \n",
       "1        730.0           140              0               0           0   \n",
       "2        312.0           393             36               0           0   \n",
       "3        522.0             0              0               0           0   \n",
       "4        482.0           212             34               0           0   \n",
       "\n",
       "   Screen Porch  Pool Area  Misc Val  Mo Sold  Yr Sold  \n",
       "0             0          0         0        5     2010  \n",
       "1           120          0         0        6     2010  \n",
       "2             0          0     12500        6     2010  \n",
       "3             0          0         0        4     2010  \n",
       "4             0          0         0        3     2010  \n",
       "\n",
       "[5 rows x 36 columns]"
      ]
     },
     "execution_count": 20,
     "metadata": {},
     "output_type": "execute_result"
    }
   ],
   "source": [
    "train_numeric = train_.select_dtypes(include=['int64', 'float64']).drop(['SalePrice'], axis=1)\n",
    "train_numeric.head()"
   ]
  },
  {
   "cell_type": "code",
   "execution_count": 21,
   "metadata": {
    "collapsed": false,
    "scrolled": false
   },
   "outputs": [
    {
     "data": {
      "text/html": [
       "<div>\n",
       "<table border=\"1\" class=\"dataframe\">\n",
       "  <thead>\n",
       "    <tr style=\"text-align: right;\">\n",
       "      <th></th>\n",
       "      <th>Order</th>\n",
       "      <th>PID</th>\n",
       "      <th>MS SubClass</th>\n",
       "      <th>Lot Area</th>\n",
       "      <th>Overall Qual</th>\n",
       "      <th>Overall Cond</th>\n",
       "      <th>Year Built</th>\n",
       "      <th>Year Remod/Add</th>\n",
       "      <th>Mas Vnr Area</th>\n",
       "      <th>BsmtFin SF 1</th>\n",
       "      <th>BsmtFin SF 2</th>\n",
       "      <th>Bsmt Unf SF</th>\n",
       "    </tr>\n",
       "  </thead>\n",
       "  <tbody>\n",
       "    <tr>\n",
       "      <th>0</th>\n",
       "      <td>1</td>\n",
       "      <td>526301100</td>\n",
       "      <td>20</td>\n",
       "      <td>31770</td>\n",
       "      <td>6</td>\n",
       "      <td>5</td>\n",
       "      <td>1960</td>\n",
       "      <td>1960</td>\n",
       "      <td>112.0</td>\n",
       "      <td>639.0</td>\n",
       "      <td>0.0</td>\n",
       "      <td>441.0</td>\n",
       "    </tr>\n",
       "    <tr>\n",
       "      <th>1</th>\n",
       "      <td>2</td>\n",
       "      <td>526350040</td>\n",
       "      <td>20</td>\n",
       "      <td>11622</td>\n",
       "      <td>5</td>\n",
       "      <td>6</td>\n",
       "      <td>1961</td>\n",
       "      <td>1961</td>\n",
       "      <td>0.0</td>\n",
       "      <td>468.0</td>\n",
       "      <td>144.0</td>\n",
       "      <td>270.0</td>\n",
       "    </tr>\n",
       "    <tr>\n",
       "      <th>2</th>\n",
       "      <td>3</td>\n",
       "      <td>526351010</td>\n",
       "      <td>20</td>\n",
       "      <td>14267</td>\n",
       "      <td>6</td>\n",
       "      <td>6</td>\n",
       "      <td>1958</td>\n",
       "      <td>1958</td>\n",
       "      <td>108.0</td>\n",
       "      <td>923.0</td>\n",
       "      <td>0.0</td>\n",
       "      <td>406.0</td>\n",
       "    </tr>\n",
       "    <tr>\n",
       "      <th>3</th>\n",
       "      <td>4</td>\n",
       "      <td>526353030</td>\n",
       "      <td>20</td>\n",
       "      <td>11160</td>\n",
       "      <td>7</td>\n",
       "      <td>5</td>\n",
       "      <td>1968</td>\n",
       "      <td>1968</td>\n",
       "      <td>0.0</td>\n",
       "      <td>1065.0</td>\n",
       "      <td>0.0</td>\n",
       "      <td>1045.0</td>\n",
       "    </tr>\n",
       "    <tr>\n",
       "      <th>4</th>\n",
       "      <td>5</td>\n",
       "      <td>527105010</td>\n",
       "      <td>60</td>\n",
       "      <td>13830</td>\n",
       "      <td>5</td>\n",
       "      <td>5</td>\n",
       "      <td>1997</td>\n",
       "      <td>1998</td>\n",
       "      <td>0.0</td>\n",
       "      <td>791.0</td>\n",
       "      <td>0.0</td>\n",
       "      <td>137.0</td>\n",
       "    </tr>\n",
       "  </tbody>\n",
       "</table>\n",
       "</div>"
      ],
      "text/plain": [
       "   Order        PID  MS SubClass  Lot Area  Overall Qual  Overall Cond  \\\n",
       "0      1  526301100           20     31770             6             5   \n",
       "1      2  526350040           20     11622             5             6   \n",
       "2      3  526351010           20     14267             6             6   \n",
       "3      4  526353030           20     11160             7             5   \n",
       "4      5  527105010           60     13830             5             5   \n",
       "\n",
       "   Year Built  Year Remod/Add  Mas Vnr Area  BsmtFin SF 1  BsmtFin SF 2  \\\n",
       "0        1960            1960         112.0         639.0           0.0   \n",
       "1        1961            1961           0.0         468.0         144.0   \n",
       "2        1958            1958         108.0         923.0           0.0   \n",
       "3        1968            1968           0.0        1065.0           0.0   \n",
       "4        1997            1998           0.0         791.0           0.0   \n",
       "\n",
       "   Bsmt Unf SF  \n",
       "0        441.0  \n",
       "1        270.0  \n",
       "2        406.0  \n",
       "3       1045.0  \n",
       "4        137.0  "
      ]
     },
     "execution_count": 21,
     "metadata": {},
     "output_type": "execute_result"
    }
   ],
   "source": [
    "# first 12 features\n",
    "train_numeric.iloc[:, :12].head()"
   ]
  },
  {
   "cell_type": "code",
   "execution_count": 22,
   "metadata": {
    "collapsed": false
   },
   "outputs": [
    {
     "data": {
      "text/html": [
       "<div>\n",
       "<table border=\"1\" class=\"dataframe\">\n",
       "  <thead>\n",
       "    <tr style=\"text-align: right;\">\n",
       "      <th></th>\n",
       "      <th>Total Bsmt SF</th>\n",
       "      <th>1st Flr SF</th>\n",
       "      <th>2nd Flr SF</th>\n",
       "      <th>Low Qual Fin SF</th>\n",
       "      <th>Gr Liv Area</th>\n",
       "      <th>Bsmt Full Bath</th>\n",
       "      <th>Bsmt Half Bath</th>\n",
       "      <th>Full Bath</th>\n",
       "      <th>Half Bath</th>\n",
       "      <th>Bedroom AbvGr</th>\n",
       "      <th>Kitchen AbvGr</th>\n",
       "      <th>TotRms AbvGrd</th>\n",
       "    </tr>\n",
       "  </thead>\n",
       "  <tbody>\n",
       "    <tr>\n",
       "      <th>0</th>\n",
       "      <td>1080.0</td>\n",
       "      <td>1656</td>\n",
       "      <td>0</td>\n",
       "      <td>0</td>\n",
       "      <td>1656</td>\n",
       "      <td>1.0</td>\n",
       "      <td>0.0</td>\n",
       "      <td>1</td>\n",
       "      <td>0</td>\n",
       "      <td>3</td>\n",
       "      <td>1</td>\n",
       "      <td>7</td>\n",
       "    </tr>\n",
       "    <tr>\n",
       "      <th>1</th>\n",
       "      <td>882.0</td>\n",
       "      <td>896</td>\n",
       "      <td>0</td>\n",
       "      <td>0</td>\n",
       "      <td>896</td>\n",
       "      <td>0.0</td>\n",
       "      <td>0.0</td>\n",
       "      <td>1</td>\n",
       "      <td>0</td>\n",
       "      <td>2</td>\n",
       "      <td>1</td>\n",
       "      <td>5</td>\n",
       "    </tr>\n",
       "    <tr>\n",
       "      <th>2</th>\n",
       "      <td>1329.0</td>\n",
       "      <td>1329</td>\n",
       "      <td>0</td>\n",
       "      <td>0</td>\n",
       "      <td>1329</td>\n",
       "      <td>0.0</td>\n",
       "      <td>0.0</td>\n",
       "      <td>1</td>\n",
       "      <td>1</td>\n",
       "      <td>3</td>\n",
       "      <td>1</td>\n",
       "      <td>6</td>\n",
       "    </tr>\n",
       "    <tr>\n",
       "      <th>3</th>\n",
       "      <td>2110.0</td>\n",
       "      <td>2110</td>\n",
       "      <td>0</td>\n",
       "      <td>0</td>\n",
       "      <td>2110</td>\n",
       "      <td>1.0</td>\n",
       "      <td>0.0</td>\n",
       "      <td>2</td>\n",
       "      <td>1</td>\n",
       "      <td>3</td>\n",
       "      <td>1</td>\n",
       "      <td>8</td>\n",
       "    </tr>\n",
       "    <tr>\n",
       "      <th>4</th>\n",
       "      <td>928.0</td>\n",
       "      <td>928</td>\n",
       "      <td>701</td>\n",
       "      <td>0</td>\n",
       "      <td>1629</td>\n",
       "      <td>0.0</td>\n",
       "      <td>0.0</td>\n",
       "      <td>2</td>\n",
       "      <td>1</td>\n",
       "      <td>3</td>\n",
       "      <td>1</td>\n",
       "      <td>6</td>\n",
       "    </tr>\n",
       "  </tbody>\n",
       "</table>\n",
       "</div>"
      ],
      "text/plain": [
       "   Total Bsmt SF  1st Flr SF  2nd Flr SF  Low Qual Fin SF  Gr Liv Area  \\\n",
       "0         1080.0        1656           0                0         1656   \n",
       "1          882.0         896           0                0          896   \n",
       "2         1329.0        1329           0                0         1329   \n",
       "3         2110.0        2110           0                0         2110   \n",
       "4          928.0         928         701                0         1629   \n",
       "\n",
       "   Bsmt Full Bath  Bsmt Half Bath  Full Bath  Half Bath  Bedroom AbvGr  \\\n",
       "0             1.0             0.0          1          0              3   \n",
       "1             0.0             0.0          1          0              2   \n",
       "2             0.0             0.0          1          1              3   \n",
       "3             1.0             0.0          2          1              3   \n",
       "4             0.0             0.0          2          1              3   \n",
       "\n",
       "   Kitchen AbvGr  TotRms AbvGrd  \n",
       "0              1              7  \n",
       "1              1              5  \n",
       "2              1              6  \n",
       "3              1              8  \n",
       "4              1              6  "
      ]
     },
     "execution_count": 22,
     "metadata": {},
     "output_type": "execute_result"
    }
   ],
   "source": [
    "# second 12 features\n",
    "train_numeric.iloc[:, 12:24].head()"
   ]
  },
  {
   "cell_type": "code",
   "execution_count": 23,
   "metadata": {
    "collapsed": false
   },
   "outputs": [
    {
     "data": {
      "text/html": [
       "<div>\n",
       "<table border=\"1\" class=\"dataframe\">\n",
       "  <thead>\n",
       "    <tr style=\"text-align: right;\">\n",
       "      <th></th>\n",
       "      <th>Order</th>\n",
       "      <th>PID</th>\n",
       "      <th>MS SubClass</th>\n",
       "      <th>Lot Area</th>\n",
       "      <th>Overall Qual</th>\n",
       "      <th>Overall Cond</th>\n",
       "      <th>Year Built</th>\n",
       "      <th>Year Remod/Add</th>\n",
       "      <th>Mas Vnr Area</th>\n",
       "      <th>BsmtFin SF 1</th>\n",
       "      <th>...</th>\n",
       "      <th>Garage Area</th>\n",
       "      <th>Wood Deck SF</th>\n",
       "      <th>Open Porch SF</th>\n",
       "      <th>Enclosed Porch</th>\n",
       "      <th>3Ssn Porch</th>\n",
       "      <th>Screen Porch</th>\n",
       "      <th>Pool Area</th>\n",
       "      <th>Misc Val</th>\n",
       "      <th>Mo Sold</th>\n",
       "      <th>Yr Sold</th>\n",
       "    </tr>\n",
       "  </thead>\n",
       "  <tbody>\n",
       "    <tr>\n",
       "      <th>24</th>\n",
       "      <td>25</td>\n",
       "      <td>527402250</td>\n",
       "      <td>20</td>\n",
       "      <td>12537</td>\n",
       "      <td>5</td>\n",
       "      <td>6</td>\n",
       "      <td>1971</td>\n",
       "      <td>2008</td>\n",
       "      <td>0.0</td>\n",
       "      <td>734.0</td>\n",
       "      <td>...</td>\n",
       "      <td>500.0</td>\n",
       "      <td>0</td>\n",
       "      <td>0</td>\n",
       "      <td>0</td>\n",
       "      <td>0</td>\n",
       "      <td>0</td>\n",
       "      <td>0</td>\n",
       "      <td>0</td>\n",
       "      <td>4</td>\n",
       "      <td>2010</td>\n",
       "    </tr>\n",
       "    <tr>\n",
       "      <th>25</th>\n",
       "      <td>26</td>\n",
       "      <td>527403020</td>\n",
       "      <td>20</td>\n",
       "      <td>8450</td>\n",
       "      <td>5</td>\n",
       "      <td>6</td>\n",
       "      <td>1968</td>\n",
       "      <td>1968</td>\n",
       "      <td>0.0</td>\n",
       "      <td>775.0</td>\n",
       "      <td>...</td>\n",
       "      <td>304.0</td>\n",
       "      <td>0</td>\n",
       "      <td>85</td>\n",
       "      <td>184</td>\n",
       "      <td>0</td>\n",
       "      <td>0</td>\n",
       "      <td>0</td>\n",
       "      <td>0</td>\n",
       "      <td>7</td>\n",
       "      <td>2010</td>\n",
       "    </tr>\n",
       "    <tr>\n",
       "      <th>26</th>\n",
       "      <td>27</td>\n",
       "      <td>527404120</td>\n",
       "      <td>20</td>\n",
       "      <td>8400</td>\n",
       "      <td>4</td>\n",
       "      <td>5</td>\n",
       "      <td>1970</td>\n",
       "      <td>1970</td>\n",
       "      <td>0.0</td>\n",
       "      <td>804.0</td>\n",
       "      <td>...</td>\n",
       "      <td>525.0</td>\n",
       "      <td>240</td>\n",
       "      <td>0</td>\n",
       "      <td>0</td>\n",
       "      <td>0</td>\n",
       "      <td>0</td>\n",
       "      <td>0</td>\n",
       "      <td>0</td>\n",
       "      <td>4</td>\n",
       "      <td>2010</td>\n",
       "    </tr>\n",
       "    <tr>\n",
       "      <th>27</th>\n",
       "      <td>28</td>\n",
       "      <td>527425090</td>\n",
       "      <td>20</td>\n",
       "      <td>10500</td>\n",
       "      <td>4</td>\n",
       "      <td>5</td>\n",
       "      <td>1971</td>\n",
       "      <td>1971</td>\n",
       "      <td>0.0</td>\n",
       "      <td>432.0</td>\n",
       "      <td>...</td>\n",
       "      <td>0.0</td>\n",
       "      <td>0</td>\n",
       "      <td>0</td>\n",
       "      <td>0</td>\n",
       "      <td>0</td>\n",
       "      <td>0</td>\n",
       "      <td>0</td>\n",
       "      <td>0</td>\n",
       "      <td>4</td>\n",
       "      <td>2010</td>\n",
       "    </tr>\n",
       "    <tr>\n",
       "      <th>28</th>\n",
       "      <td>29</td>\n",
       "      <td>527427230</td>\n",
       "      <td>120</td>\n",
       "      <td>5858</td>\n",
       "      <td>7</td>\n",
       "      <td>5</td>\n",
       "      <td>1999</td>\n",
       "      <td>1999</td>\n",
       "      <td>0.0</td>\n",
       "      <td>1051.0</td>\n",
       "      <td>...</td>\n",
       "      <td>511.0</td>\n",
       "      <td>203</td>\n",
       "      <td>68</td>\n",
       "      <td>0</td>\n",
       "      <td>0</td>\n",
       "      <td>0</td>\n",
       "      <td>0</td>\n",
       "      <td>0</td>\n",
       "      <td>6</td>\n",
       "      <td>2010</td>\n",
       "    </tr>\n",
       "  </tbody>\n",
       "</table>\n",
       "<p>5 rows × 36 columns</p>\n",
       "</div>"
      ],
      "text/plain": [
       "    Order        PID  MS SubClass  Lot Area  Overall Qual  Overall Cond  \\\n",
       "24     25  527402250           20     12537             5             6   \n",
       "25     26  527403020           20      8450             5             6   \n",
       "26     27  527404120           20      8400             4             5   \n",
       "27     28  527425090           20     10500             4             5   \n",
       "28     29  527427230          120      5858             7             5   \n",
       "\n",
       "    Year Built  Year Remod/Add  Mas Vnr Area  BsmtFin SF 1   ...     \\\n",
       "24        1971            2008           0.0         734.0   ...      \n",
       "25        1968            1968           0.0         775.0   ...      \n",
       "26        1970            1970           0.0         804.0   ...      \n",
       "27        1971            1971           0.0         432.0   ...      \n",
       "28        1999            1999           0.0        1051.0   ...      \n",
       "\n",
       "    Garage Area  Wood Deck SF  Open Porch SF  Enclosed Porch  3Ssn Porch  \\\n",
       "24        500.0             0              0               0           0   \n",
       "25        304.0             0             85             184           0   \n",
       "26        525.0           240              0               0           0   \n",
       "27          0.0             0              0               0           0   \n",
       "28        511.0           203             68               0           0   \n",
       "\n",
       "    Screen Porch  Pool Area  Misc Val  Mo Sold  Yr Sold  \n",
       "24             0          0         0        4     2010  \n",
       "25             0          0         0        7     2010  \n",
       "26             0          0         0        4     2010  \n",
       "27             0          0         0        4     2010  \n",
       "28             0          0         0        6     2010  \n",
       "\n",
       "[5 rows x 36 columns]"
      ]
     },
     "execution_count": 23,
     "metadata": {},
     "output_type": "execute_result"
    }
   ],
   "source": [
    "# third 12 features\n",
    "train_numeric.iloc[24:, :36].head()"
   ]
  },
  {
   "cell_type": "code",
   "execution_count": 24,
   "metadata": {
    "collapsed": false
   },
   "outputs": [
    {
     "data": {
      "text/html": [
       "<div>\n",
       "<table border=\"1\" class=\"dataframe\">\n",
       "  <thead>\n",
       "    <tr style=\"text-align: right;\">\n",
       "      <th></th>\n",
       "      <th>Lot Area</th>\n",
       "      <th>Overall Qual</th>\n",
       "      <th>Overall Cond</th>\n",
       "      <th>Year Built</th>\n",
       "      <th>Year Remod/Add</th>\n",
       "      <th>Mas Vnr Area</th>\n",
       "      <th>BsmtFin SF 1</th>\n",
       "      <th>BsmtFin SF 2</th>\n",
       "      <th>Bsmt Unf SF</th>\n",
       "      <th>Total Bsmt SF</th>\n",
       "      <th>...</th>\n",
       "      <th>Garage Area</th>\n",
       "      <th>Wood Deck SF</th>\n",
       "      <th>Open Porch SF</th>\n",
       "      <th>Enclosed Porch</th>\n",
       "      <th>3Ssn Porch</th>\n",
       "      <th>Screen Porch</th>\n",
       "      <th>Pool Area</th>\n",
       "      <th>Misc Val</th>\n",
       "      <th>Mo Sold</th>\n",
       "      <th>Yr Sold</th>\n",
       "    </tr>\n",
       "  </thead>\n",
       "  <tbody>\n",
       "    <tr>\n",
       "      <th>0</th>\n",
       "      <td>31770</td>\n",
       "      <td>6</td>\n",
       "      <td>5</td>\n",
       "      <td>1960</td>\n",
       "      <td>1960</td>\n",
       "      <td>112.0</td>\n",
       "      <td>639.0</td>\n",
       "      <td>0.0</td>\n",
       "      <td>441.0</td>\n",
       "      <td>1080.0</td>\n",
       "      <td>...</td>\n",
       "      <td>528.0</td>\n",
       "      <td>210</td>\n",
       "      <td>62</td>\n",
       "      <td>0</td>\n",
       "      <td>0</td>\n",
       "      <td>0</td>\n",
       "      <td>0</td>\n",
       "      <td>0</td>\n",
       "      <td>5</td>\n",
       "      <td>2010</td>\n",
       "    </tr>\n",
       "    <tr>\n",
       "      <th>1</th>\n",
       "      <td>11622</td>\n",
       "      <td>5</td>\n",
       "      <td>6</td>\n",
       "      <td>1961</td>\n",
       "      <td>1961</td>\n",
       "      <td>0.0</td>\n",
       "      <td>468.0</td>\n",
       "      <td>144.0</td>\n",
       "      <td>270.0</td>\n",
       "      <td>882.0</td>\n",
       "      <td>...</td>\n",
       "      <td>730.0</td>\n",
       "      <td>140</td>\n",
       "      <td>0</td>\n",
       "      <td>0</td>\n",
       "      <td>0</td>\n",
       "      <td>120</td>\n",
       "      <td>0</td>\n",
       "      <td>0</td>\n",
       "      <td>6</td>\n",
       "      <td>2010</td>\n",
       "    </tr>\n",
       "    <tr>\n",
       "      <th>2</th>\n",
       "      <td>14267</td>\n",
       "      <td>6</td>\n",
       "      <td>6</td>\n",
       "      <td>1958</td>\n",
       "      <td>1958</td>\n",
       "      <td>108.0</td>\n",
       "      <td>923.0</td>\n",
       "      <td>0.0</td>\n",
       "      <td>406.0</td>\n",
       "      <td>1329.0</td>\n",
       "      <td>...</td>\n",
       "      <td>312.0</td>\n",
       "      <td>393</td>\n",
       "      <td>36</td>\n",
       "      <td>0</td>\n",
       "      <td>0</td>\n",
       "      <td>0</td>\n",
       "      <td>0</td>\n",
       "      <td>12500</td>\n",
       "      <td>6</td>\n",
       "      <td>2010</td>\n",
       "    </tr>\n",
       "    <tr>\n",
       "      <th>3</th>\n",
       "      <td>11160</td>\n",
       "      <td>7</td>\n",
       "      <td>5</td>\n",
       "      <td>1968</td>\n",
       "      <td>1968</td>\n",
       "      <td>0.0</td>\n",
       "      <td>1065.0</td>\n",
       "      <td>0.0</td>\n",
       "      <td>1045.0</td>\n",
       "      <td>2110.0</td>\n",
       "      <td>...</td>\n",
       "      <td>522.0</td>\n",
       "      <td>0</td>\n",
       "      <td>0</td>\n",
       "      <td>0</td>\n",
       "      <td>0</td>\n",
       "      <td>0</td>\n",
       "      <td>0</td>\n",
       "      <td>0</td>\n",
       "      <td>4</td>\n",
       "      <td>2010</td>\n",
       "    </tr>\n",
       "    <tr>\n",
       "      <th>4</th>\n",
       "      <td>13830</td>\n",
       "      <td>5</td>\n",
       "      <td>5</td>\n",
       "      <td>1997</td>\n",
       "      <td>1998</td>\n",
       "      <td>0.0</td>\n",
       "      <td>791.0</td>\n",
       "      <td>0.0</td>\n",
       "      <td>137.0</td>\n",
       "      <td>928.0</td>\n",
       "      <td>...</td>\n",
       "      <td>482.0</td>\n",
       "      <td>212</td>\n",
       "      <td>34</td>\n",
       "      <td>0</td>\n",
       "      <td>0</td>\n",
       "      <td>0</td>\n",
       "      <td>0</td>\n",
       "      <td>0</td>\n",
       "      <td>3</td>\n",
       "      <td>2010</td>\n",
       "    </tr>\n",
       "  </tbody>\n",
       "</table>\n",
       "<p>5 rows × 33 columns</p>\n",
       "</div>"
      ],
      "text/plain": [
       "   Lot Area  Overall Qual  Overall Cond  Year Built  Year Remod/Add  \\\n",
       "0     31770             6             5        1960            1960   \n",
       "1     11622             5             6        1961            1961   \n",
       "2     14267             6             6        1958            1958   \n",
       "3     11160             7             5        1968            1968   \n",
       "4     13830             5             5        1997            1998   \n",
       "\n",
       "   Mas Vnr Area  BsmtFin SF 1  BsmtFin SF 2  Bsmt Unf SF  Total Bsmt SF  \\\n",
       "0         112.0         639.0           0.0        441.0         1080.0   \n",
       "1           0.0         468.0         144.0        270.0          882.0   \n",
       "2         108.0         923.0           0.0        406.0         1329.0   \n",
       "3           0.0        1065.0           0.0       1045.0         2110.0   \n",
       "4           0.0         791.0           0.0        137.0          928.0   \n",
       "\n",
       "    ...     Garage Area  Wood Deck SF  Open Porch SF  Enclosed Porch  \\\n",
       "0   ...           528.0           210             62               0   \n",
       "1   ...           730.0           140              0               0   \n",
       "2   ...           312.0           393             36               0   \n",
       "3   ...           522.0             0              0               0   \n",
       "4   ...           482.0           212             34               0   \n",
       "\n",
       "   3Ssn Porch  Screen Porch  Pool Area  Misc Val  Mo Sold  Yr Sold  \n",
       "0           0             0          0         0        5     2010  \n",
       "1           0           120          0         0        6     2010  \n",
       "2           0             0          0     12500        6     2010  \n",
       "3           0             0          0         0        4     2010  \n",
       "4           0             0          0         0        3     2010  \n",
       "\n",
       "[5 rows x 33 columns]"
      ]
     },
     "execution_count": 24,
     "metadata": {},
     "output_type": "execute_result"
    }
   ],
   "source": [
    "# categorical features to drop\n",
    "features_to_drop = ['Order', 'PID', 'MS SubClass']\n",
    "train_numeric.drop(features_to_drop, axis=1).head()"
   ]
  },
  {
   "cell_type": "code",
   "execution_count": 25,
   "metadata": {
    "collapsed": false
   },
   "outputs": [],
   "source": [
    "train_numeric = train_numeric.drop(features_to_drop, axis=1)"
   ]
  },
  {
   "cell_type": "code",
   "execution_count": 26,
   "metadata": {
    "collapsed": false
   },
   "outputs": [],
   "source": [
    "train_numeric['years_until_remod'] = train_['Year Built'] - train_['Year Remod/Add']\n",
    "train_numeric['YrMo Sold'] = (train_['Yr Sold'].apply(lambda x: str(x)) +\\\n",
    "                       train_['Mo Sold'].apply(lambda x: '0'+str(x) if len(str(x)) == 1\n",
    "                                              else str(x))).apply(int)\n",
    "\n",
    "train_numeric['house_age1'] = train_['Yr Sold'] - train_['Year Built']\n",
    "train_numeric['house_age2'] = train_['Yr Sold'] - train_['Year Remod/Add']"
   ]
  },
  {
   "cell_type": "markdown",
   "metadata": {},
   "source": [
    "* Transform **`ordinal features`** into **`discrete numerical features`**"
   ]
  },
  {
   "cell_type": "code",
   "execution_count": 27,
   "metadata": {
    "collapsed": false
   },
   "outputs": [],
   "source": [
    "ordinal_index_map = {\n",
    "    'Ex':5, 'Gd':4, 'TA':3, 'Fa':2, 'Po':1\n",
    "}\n",
    "\n",
    "train_numeric['Exter Cond Mapped'] = train_['Exter Cond'].map(ordinal_index_map)\n",
    "train_numeric['Exter Qual Mapped'] = train_['Exter Qual'].map(ordinal_index_map)\n",
    "train_numeric['Bsmt Qual Mapped'] = train_['Bsmt Qual'].map(ordinal_index_map)\n",
    "train_numeric['Bsmt Cond Mapped'] = train_['Bsmt Cond'].map(ordinal_index_map)\n",
    "train_numeric['Heating QC Mapped'] = train_['Heating QC'].map(ordinal_index_map)\n",
    "train_numeric['Kitchen Qual Mapped'] = train_['Kitchen Qual'].map(ordinal_index_map)\n",
    "\n",
    "########\n",
    "\n",
    "ordinal_index_map2 = {\n",
    "    'Gd':5, 'Av':4, 'Mn':3, 'No':2, 'NA':1\n",
    "}\n",
    "train_numeric['Bsmt Exposure Mapped'] = train_['Bsmt Exposure'].map(ordinal_index_map2)\n",
    "\n",
    "########\n",
    "\n",
    "ordinal_index_map3 = {\n",
    "    'GLQ':7, 'ALQ':6, 'BLQ':5, 'Rec':4, 'LwQ':3, 'Unf':2, 'NA':1\n",
    "}\n",
    "train_numeric['BsmtFin Type 1 Mapped'] = train_['BsmtFin Type 1'].map(ordinal_index_map3)\n",
    "train_numeric['BsmtFin Type 2 Mapped'] = train_['BsmtFin Type 2'].map(ordinal_index_map3)\n",
    "\n",
    "########\n",
    "\n",
    "ordinal_index_map4 = {\n",
    "    'Typ':8, 'Min1':7, 'Min2':6, 'Mod':5,\n",
    "    'Maj1':4, 'Maj2':3, 'Sev':2, 'Sal':1\n",
    "}\n",
    "train_numeric['Functional Mapped'] = train_['Functional'].map(ordinal_index_map4)\n",
    "\n",
    "########\n",
    "\n",
    "ordinal_index_map5 = {\n",
    "    'Y':3, 'P':2, 'N':1\n",
    "}\n",
    "train_numeric['Paved Drive Mapped'] = train_['Paved Drive'].map(ordinal_index_map5)\n",
    "\n",
    "########\n",
    "ordinal_index_map6 = {\n",
    "    'Grvl':3, 'Pave':2, 'NA':1\n",
    "}\n",
    "\n",
    "train_numeric['Street Mapped'] = train_['Street'].map(ordinal_index_map6)\n",
    "\n",
    "########\n",
    "ordinal_index_map7 = {\n",
    "    'Reg':4, 'IR1':3, 'IR2':2, 'IR3':1\n",
    "}\n",
    "train_numeric['Lot Shape Mapped'] = train_['Lot Shape'].map(ordinal_index_map7)\n",
    "\n",
    "########\n",
    "ordinal_index_map8 = {\n",
    "    'Lvl':4, 'Bnk':3, 'HLS':2, 'Low':1\n",
    "}\n",
    "\n",
    "train_numeric['Land Contour Mapped'] = train_['Land Contour'].map(ordinal_index_map8)\n",
    "\n",
    "########\n",
    "ordinal_index_map9 = {\n",
    "    'AllPub':4, 'NoSewr':3, 'NoSeWa':2, 'ELO':1\n",
    "}\n",
    "\n",
    "train_numeric['Utilities Mapped'] = train_['Utilities'].map(ordinal_index_map9)\n",
    "\n",
    "########\n",
    "ordinal_index_map10 = {\n",
    "    'Gtl':3, 'Mod':2, 'Sev':1\n",
    "}\n",
    "\n",
    "train_numeric['Land Slope Mapped'] = train_['Land Slope'].map(ordinal_index_map10)\n",
    "\n",
    "########"
   ]
  },
  {
   "cell_type": "code",
   "execution_count": null,
   "metadata": {
    "collapsed": true
   },
   "outputs": [],
   "source": []
  },
  {
   "cell_type": "code",
   "execution_count": 28,
   "metadata": {
    "collapsed": false
   },
   "outputs": [
    {
     "data": {
      "text/plain": [
       "Index(['Lot Area', 'Overall Qual', 'Overall Cond', 'Year Built',\n",
       "       'Year Remod/Add', 'Mas Vnr Area', 'BsmtFin SF 1', 'BsmtFin SF 2',\n",
       "       'Bsmt Unf SF', 'Total Bsmt SF', '1st Flr SF', '2nd Flr SF',\n",
       "       'Low Qual Fin SF', 'Gr Liv Area', 'Bsmt Full Bath', 'Bsmt Half Bath',\n",
       "       'Full Bath', 'Half Bath', 'Bedroom AbvGr', 'Kitchen AbvGr',\n",
       "       'TotRms AbvGrd', 'Fireplaces', 'Garage Cars', 'Garage Area',\n",
       "       'Wood Deck SF', 'Open Porch SF', 'Enclosed Porch', '3Ssn Porch',\n",
       "       'Screen Porch', 'Pool Area', 'Misc Val', 'Mo Sold', 'Yr Sold',\n",
       "       'years_until_remod', 'YrMo Sold', 'house_age1', 'house_age2',\n",
       "       'Exter Cond Mapped', 'Exter Qual Mapped', 'Bsmt Qual Mapped',\n",
       "       'Bsmt Cond Mapped', 'Heating QC Mapped', 'Kitchen Qual Mapped',\n",
       "       'Bsmt Exposure Mapped', 'BsmtFin Type 1 Mapped',\n",
       "       'BsmtFin Type 2 Mapped', 'Functional Mapped', 'Paved Drive Mapped',\n",
       "       'Street Mapped', 'Lot Shape Mapped', 'Land Contour Mapped',\n",
       "       'Utilities Mapped', 'Land Slope Mapped'],\n",
       "      dtype='object')"
      ]
     },
     "execution_count": 28,
     "metadata": {},
     "output_type": "execute_result"
    }
   ],
   "source": [
    "train_numeric.columns"
   ]
  },
  {
   "cell_type": "code",
   "execution_count": 29,
   "metadata": {
    "collapsed": false
   },
   "outputs": [],
   "source": [
    "train_numeric['compound_overall_score_add'] = train_['Overall Qual'] + train_['Overall Cond']\n",
    "train_numeric['compound_overall_score_mult'] = train_['Overall Qual'] * train_['Overall Cond']\n",
    "\n",
    "train_numeric['compound_exter_score_add'] = train_numeric['Exter Cond Mapped'] + train_numeric['Exter Qual Mapped']\n",
    "train_numeric['compound_exter_score_mult'] = train_numeric['Exter Cond Mapped'] * train_numeric['Exter Qual Mapped']\n",
    "\n",
    "train_numeric['compound_bsmt_score_add'] = train_numeric['Bsmt Cond Mapped'] + train_numeric['Bsmt Qual Mapped']\n",
    "train_numeric['compound_bsmt_score_mult'] = train_numeric['Bsmt Cond Mapped'] * train_numeric['Bsmt Qual Mapped']\n",
    "train_numeric['compound_bsmt_score2_add'] = train_numeric['compound_bsmt_score_add'] +\\\n",
    "                                    train_numeric['Bsmt Exposure Mapped'] +\\\n",
    "                                    train_numeric['BsmtFin Type 1 Mapped'] +\\\n",
    "                                    train_numeric['BsmtFin Type 2 Mapped']\n",
    "train_numeric['compound_bsmt_score2_mult'] = train_numeric['compound_bsmt_score_mult'] +\\\n",
    "                                    train_numeric['Bsmt Exposure Mapped'] *\\\n",
    "                                    train_numeric['BsmtFin Type 1 Mapped'] *\\\n",
    "                                    train_numeric['BsmtFin Type 2 Mapped']"
   ]
  },
  {
   "cell_type": "code",
   "execution_count": 30,
   "metadata": {
    "collapsed": true
   },
   "outputs": [],
   "source": [
    "train_numeric['Central Air Mapped'] = train_['Central Air'].map({'Y':1, 'N':0})"
   ]
  },
  {
   "cell_type": "code",
   "execution_count": 31,
   "metadata": {
    "collapsed": false
   },
   "outputs": [],
   "source": [
    "# Area related variables\n",
    "\n",
    "train_numeric['liv_area_quality_overall_add'] = train_['Gr Liv Area'] + train_numeric['compound_overall_score_add']\n",
    "train_numeric['liv_area_quality_overall_add2'] = train_['Gr Liv Area'] + train_numeric['compound_overall_score_mult']\n",
    "\n",
    "train_numeric['liv_area_quality_overall_mult'] = train_['Gr Liv Area'] * train_numeric['compound_overall_score_add']\n",
    "train_numeric['liv_area_quality_overall_mult2'] = train_['Gr Liv Area'] * train_numeric['compound_overall_score_mult']\n",
    "\n",
    "train_numeric['bsmt_quality_area1_add'] = train_numeric['compound_bsmt_score_add'] + train_['Total Bsmt SF']\n",
    "train_numeric['bsmt_quality_area1_add2'] = train_numeric['compound_bsmt_score_mult'] + train_['Total Bsmt SF']\n",
    "train_numeric['bsmt_quality_area1_add3'] = train_numeric['compound_bsmt_score2_add'] + train_['Total Bsmt SF']\n",
    "train_numeric['bsmt_quality_area1_add4'] = train_numeric['compound_bsmt_score2_mult'] + train_['Total Bsmt SF']\n",
    "\n",
    "train_numeric['bsmt_quality_area1_mult'] = train_numeric['compound_bsmt_score_add'] * train_['Total Bsmt SF']\n",
    "train_numeric['bsmt_quality_area1_mult2'] = train_numeric['compound_bsmt_score_mult'] * train_['Total Bsmt SF']\n",
    "train_numeric['bsmt_quality_area1_mult3'] = train_numeric['compound_bsmt_score2_add'] * train_['Total Bsmt SF']\n",
    "train_numeric['bsmt_quality_area1_mult4'] = train_numeric['compound_bsmt_score2_mult'] * train_['Total Bsmt SF']"
   ]
  },
  {
   "cell_type": "code",
   "execution_count": 32,
   "metadata": {
    "collapsed": false
   },
   "outputs": [
    {
     "data": {
      "text/plain": [
       "(1460, 74)"
      ]
     },
     "execution_count": 32,
     "metadata": {},
     "output_type": "execute_result"
    }
   ],
   "source": [
    "train_numeric.shape"
   ]
  },
  {
   "cell_type": "code",
   "execution_count": 33,
   "metadata": {
    "collapsed": false
   },
   "outputs": [],
   "source": [
    "for col in train_numeric.columns:\n",
    "    if train_numeric[col].isnull().sum():\n",
    "        print(col, train_numeric[col].isnull().sum())"
   ]
  },
  {
   "cell_type": "code",
   "execution_count": 34,
   "metadata": {
    "collapsed": true
   },
   "outputs": [],
   "source": [
    "# After finishing feature creation, drop columns with any NaN.\n",
    "train_numeric = train_numeric.dropna(how='any', axis=1)"
   ]
  },
  {
   "cell_type": "code",
   "execution_count": 35,
   "metadata": {
    "collapsed": false
   },
   "outputs": [
    {
     "data": {
      "text/plain": [
       "(1460, 74)"
      ]
     },
     "execution_count": 35,
     "metadata": {},
     "output_type": "execute_result"
    }
   ],
   "source": [
    "train_numeric.shape"
   ]
  },
  {
   "cell_type": "code",
   "execution_count": null,
   "metadata": {
    "collapsed": true
   },
   "outputs": [],
   "source": []
  },
  {
   "cell_type": "markdown",
   "metadata": {},
   "source": [
    "### Update `transform_features()` to transform test set later"
   ]
  },
  {
   "cell_type": "code",
   "execution_count": 40,
   "metadata": {
    "collapsed": true
   },
   "outputs": [],
   "source": [
    "def transform_features(df):\n",
    "    \n",
    "    df_ = df.copy()\n",
    "\n",
    "    #null_count_ratio = train_.isnull().sum()/train_.shape[0]\n",
    "    #lt_5per_nulls = null_count_ratio[null_count_ratio < .05].index\n",
    "    #gte_5per_nulls = null_count_ratio[null_count_ratio >= .05].index\n",
    "\n",
    "    df_ = df_.drop(gte_5per_nulls, axis=1)\n",
    "\n",
    "    for lt5 in lt_5per_nulls:\n",
    "        df_[lt5].fillna(train_[lt5].value_counts().index[0],\n",
    "                           inplace=True)\n",
    "    \n",
    "    df_numeric = df_.select_dtypes(include=['int64', 'float64']).drop(['SalePrice'], axis=1)\n",
    "    \n",
    "    features_to_drop = ['Order', 'PID', 'MS SubClass']\n",
    "    df_numeric = df_numeric.drop(features_to_drop, axis=1)\n",
    "    \n",
    "    \n",
    "    # feature creation\n",
    "    df_numeric['years_until_remod'] = df_['Year Built'] - df_['Year Remod/Add']\n",
    "    df_numeric['YrMo Sold'] = (df_['Yr Sold'].apply(lambda x: str(x)) +\\\n",
    "                           df_['Mo Sold'].apply(lambda x: '0'+str(x) if len(str(x)) == 1\n",
    "                                                  else str(x))).apply(int)\n",
    "\n",
    "    df_numeric['house_age1'] = df_['Yr Sold'] - df_['Year Built']\n",
    "    df_numeric['house_age2'] = df_['Yr Sold'] - df_['Year Remod/Add']\n",
    "\n",
    "    ordinal_index_map = {\n",
    "        'Ex':5, 'Gd':4, 'TA':3, 'Fa':2, 'Po':1\n",
    "    }\n",
    "\n",
    "    df_numeric['Exter Cond Mapped'] = df_['Exter Cond'].map(ordinal_index_map)\n",
    "    df_numeric['Exter Qual Mapped'] = df_['Exter Qual'].map(ordinal_index_map)\n",
    "    df_numeric['Bsmt Qual Mapped'] = df_['Bsmt Qual'].map(ordinal_index_map)\n",
    "    df_numeric['Bsmt Cond Mapped'] = df_['Bsmt Cond'].map(ordinal_index_map)\n",
    "    df_numeric['Heating QC Mapped'] = df_['Heating QC'].map(ordinal_index_map)\n",
    "    df_numeric['Kitchen Qual Mapped'] = df_['Kitchen Qual'].map(ordinal_index_map)\n",
    "\n",
    "    ########\n",
    "\n",
    "    ordinal_index_map2 = {\n",
    "        'Gd':5, 'Av':4, 'Mn':3, 'No':2, 'NA':1\n",
    "    }\n",
    "    df_numeric['Bsmt Exposure Mapped'] = df_['Bsmt Exposure'].map(ordinal_index_map2)\n",
    "\n",
    "    ########\n",
    "\n",
    "    ordinal_index_map3 = {\n",
    "        'GLQ':7, 'ALQ':6, 'BLQ':5, 'Rec':4, 'LwQ':3, 'Unf':2, 'NA':1\n",
    "    }\n",
    "    df_numeric['BsmtFin Type 1 Mapped'] = df_['BsmtFin Type 1'].map(ordinal_index_map3)\n",
    "    df_numeric['BsmtFin Type 2 Mapped'] = df_['BsmtFin Type 2'].map(ordinal_index_map3)\n",
    "\n",
    "    ########\n",
    "\n",
    "    ordinal_index_map4 = {\n",
    "        'Typ':8, 'Min1':7, 'Min2':6, 'Mod':5,\n",
    "        'Maj1':4, 'Maj2':3, 'Sev':2, 'Sal':1\n",
    "    }\n",
    "    df_numeric['Functional Mapped'] = df_['Functional'].map(ordinal_index_map4)\n",
    "\n",
    "    ########\n",
    "\n",
    "    ordinal_index_map5 = {\n",
    "        'Y':3, 'P':2, 'N':1\n",
    "    }\n",
    "    df_numeric['Paved Drive Mapped'] = df_['Paved Drive'].map(ordinal_index_map5)\n",
    "    \n",
    "    ordinal_index_map6 = {\n",
    "    'Grvl':3, 'Pave':2, 'NA':1\n",
    "    }\n",
    "\n",
    "    df_numeric['Street Mapped'] = df_['Street'].map(ordinal_index_map6)\n",
    "\n",
    "    ########\n",
    "    ordinal_index_map7 = {\n",
    "        'Reg':4, 'IR1':3, 'IR2':2, 'IR3':1\n",
    "    }\n",
    "    df_numeric['Lot Shape Mapped'] = df_['Lot Shape'].map(ordinal_index_map7)\n",
    "\n",
    "    ########\n",
    "    ordinal_index_map8 = {\n",
    "        'Lvl':4, 'Bnk':3, 'HLS':2, 'Low':1\n",
    "    }\n",
    "\n",
    "    df_numeric['Land Contour Mapped'] = df_['Land Contour'].map(ordinal_index_map8)\n",
    "\n",
    "    ########\n",
    "    ordinal_index_map9 = {\n",
    "        'AllPub':4, 'NoSewr':3, 'NoSeWa':2, 'ELO':1\n",
    "    }\n",
    "\n",
    "    df_numeric['Utilities Mapped'] = df_['Utilities'].map(ordinal_index_map9)\n",
    "\n",
    "    ########\n",
    "    ordinal_index_map10 = {\n",
    "        'Gtl':3, 'Mod':2, 'Sev':1\n",
    "    }\n",
    "\n",
    "    df_numeric['Land Slope Mapped'] = df_['Land Slope'].map(ordinal_index_map10)\n",
    "\n",
    "    \n",
    "    df_numeric['compound_overall_score_add'] = df_['Overall Qual'] + df_['Overall Cond']\n",
    "    df_numeric['compound_overall_score_mult'] = df_['Overall Qual'] * df_['Overall Cond']\n",
    "\n",
    "    df_numeric['compound_exter_score_add'] = df_numeric['Exter Cond Mapped'] + df_numeric['Exter Qual Mapped']\n",
    "    df_numeric['compound_exter_score_mult'] = df_numeric['Exter Cond Mapped'] * df_numeric['Exter Qual Mapped']\n",
    "\n",
    "    df_numeric['compound_bsmt_score_add'] = df_numeric['Bsmt Cond Mapped'] + df_numeric['Bsmt Qual Mapped']\n",
    "    df_numeric['compound_bsmt_score_mult'] = df_numeric['Bsmt Cond Mapped'] * df_numeric['Bsmt Qual Mapped']\n",
    "    df_numeric['compound_bsmt_score2_add'] = df_numeric['compound_bsmt_score_add'] +\\\n",
    "                                        df_numeric['Bsmt Exposure Mapped'] +\\\n",
    "                                        df_numeric['BsmtFin Type 1 Mapped'] +\\\n",
    "                                        df_numeric['BsmtFin Type 2 Mapped']\n",
    "    df_numeric['compound_bsmt_score2_mult'] = df_numeric['compound_bsmt_score_mult'] +\\\n",
    "                                        df_numeric['Bsmt Exposure Mapped'] *\\\n",
    "                                        df_numeric['BsmtFin Type 1 Mapped'] *\\\n",
    "                                        df_numeric['BsmtFin Type 2 Mapped']\n",
    "\n",
    "    df_numeric['Central Air Mapped'] = df_['Central Air'].map({'Y':1, 'N':0})\n",
    "\n",
    "    # Area related variables\n",
    "\n",
    "    df_numeric['liv_area_quality_overall_add'] = df_['Gr Liv Area'] + df_numeric['compound_overall_score_add']\n",
    "    df_numeric['liv_area_quality_overall_add2'] = df_['Gr Liv Area'] + df_numeric['compound_overall_score_mult']\n",
    "\n",
    "    df_numeric['liv_area_quality_overall_mult'] = df_['Gr Liv Area'] * df_numeric['compound_overall_score_add']\n",
    "    df_numeric['liv_area_quality_overall_mult2'] = df_['Gr Liv Area'] * df_numeric['compound_overall_score_mult']\n",
    "\n",
    "    df_numeric['bsmt_quality_area1_add'] = df_numeric['compound_bsmt_score_add'] + df_['Total Bsmt SF']\n",
    "    df_numeric['bsmt_quality_area1_add2'] = df_numeric['compound_bsmt_score_mult'] + df_['Total Bsmt SF']\n",
    "    df_numeric['bsmt_quality_area1_add3'] = df_numeric['compound_bsmt_score2_add'] + df_['Total Bsmt SF']\n",
    "    df_numeric['bsmt_quality_area1_add4'] = df_numeric['compound_bsmt_score2_mult'] + df_['Total Bsmt SF']\n",
    "\n",
    "    df_numeric['bsmt_quality_area1_mult'] = df_numeric['compound_bsmt_score_add'] * df_['Total Bsmt SF']\n",
    "    df_numeric['bsmt_quality_area1_mult2'] = df_numeric['compound_bsmt_score_mult'] * df_['Total Bsmt SF']\n",
    "    df_numeric['bsmt_quality_area1_mult3'] = df_numeric['compound_bsmt_score2_add'] * df_['Total Bsmt SF']\n",
    "    df_numeric['bsmt_quality_area1_mult4'] = df_numeric['compound_bsmt_score2_mult'] * df_['Total Bsmt SF']\n",
    "\n",
    "    return df_numeric"
   ]
  },
  {
   "cell_type": "code",
   "execution_count": 41,
   "metadata": {
    "collapsed": false
   },
   "outputs": [],
   "source": [
    "test_numeric = transform_features(test)"
   ]
  },
  {
   "cell_type": "code",
   "execution_count": 42,
   "metadata": {
    "collapsed": false
   },
   "outputs": [
    {
     "data": {
      "text/plain": [
       "(1470, 74)"
      ]
     },
     "execution_count": 42,
     "metadata": {},
     "output_type": "execute_result"
    }
   ],
   "source": [
    "test_numeric.shape"
   ]
  },
  {
   "cell_type": "code",
   "execution_count": 43,
   "metadata": {
    "collapsed": false
   },
   "outputs": [
    {
     "data": {
      "text/plain": [
       "(1460, 74)"
      ]
     },
     "execution_count": 43,
     "metadata": {},
     "output_type": "execute_result"
    }
   ],
   "source": [
    "train_numeric.shape"
   ]
  },
  {
   "cell_type": "code",
   "execution_count": null,
   "metadata": {
    "collapsed": true
   },
   "outputs": [],
   "source": []
  },
  {
   "cell_type": "markdown",
   "metadata": {},
   "source": [
    "### Nomarlize"
   ]
  },
  {
   "cell_type": "code",
   "execution_count": 44,
   "metadata": {
    "collapsed": false
   },
   "outputs": [],
   "source": [
    "from sklearn.preprocessing import StandardScaler\n",
    "\n",
    "std_scaler = StandardScaler()\n",
    "\n",
    "scaled_train_numeric_arr = std_scaler.fit_transform(train_numeric.values)\n",
    "scaled_train_numeric = pd.DataFrame(scaled_train_numeric_arr,\n",
    "                                   columns = train_numeric.columns)\n",
    "\n",
    "scaled_test_numeric_arr = std_scaler.transform(test_numeric.values)\n",
    "scaled_test_numeric = pd.DataFrame(scaled_test_numeric_arr,\n",
    "                                  columns = test_numeric.columns)"
   ]
  },
  {
   "cell_type": "code",
   "execution_count": 45,
   "metadata": {
    "collapsed": false
   },
   "outputs": [
    {
     "data": {
      "text/html": [
       "<div>\n",
       "<table border=\"1\" class=\"dataframe\">\n",
       "  <thead>\n",
       "    <tr style=\"text-align: right;\">\n",
       "      <th></th>\n",
       "      <th>Lot Area</th>\n",
       "      <th>Overall Qual</th>\n",
       "      <th>Overall Cond</th>\n",
       "      <th>Year Built</th>\n",
       "      <th>Year Remod/Add</th>\n",
       "      <th>Mas Vnr Area</th>\n",
       "      <th>BsmtFin SF 1</th>\n",
       "      <th>BsmtFin SF 2</th>\n",
       "      <th>Bsmt Unf SF</th>\n",
       "      <th>Total Bsmt SF</th>\n",
       "      <th>...</th>\n",
       "      <th>liv_area_quality_overall_mult</th>\n",
       "      <th>liv_area_quality_overall_mult2</th>\n",
       "      <th>bsmt_quality_area1_add</th>\n",
       "      <th>bsmt_quality_area1_add2</th>\n",
       "      <th>bsmt_quality_area1_add3</th>\n",
       "      <th>bsmt_quality_area1_add4</th>\n",
       "      <th>bsmt_quality_area1_mult</th>\n",
       "      <th>bsmt_quality_area1_mult2</th>\n",
       "      <th>bsmt_quality_area1_mult3</th>\n",
       "      <th>bsmt_quality_area1_mult4</th>\n",
       "    </tr>\n",
       "  </thead>\n",
       "  <tbody>\n",
       "    <tr>\n",
       "      <th>0</th>\n",
       "      <td>3.063488</td>\n",
       "      <td>-0.076854</td>\n",
       "      <td>-0.512584</td>\n",
       "      <td>-0.362131</td>\n",
       "      <td>-1.183202</td>\n",
       "      <td>0.058288</td>\n",
       "      <td>0.431947</td>\n",
       "      <td>-0.304530</td>\n",
       "      <td>-0.249430</td>\n",
       "      <td>0.075153</td>\n",
       "      <td>...</td>\n",
       "      <td>0.066789</td>\n",
       "      <td>-0.100555</td>\n",
       "      <td>0.076143</td>\n",
       "      <td>0.078063</td>\n",
       "      <td>0.081379</td>\n",
       "      <td>0.120997</td>\n",
       "      <td>0.160508</td>\n",
       "      <td>0.201776</td>\n",
       "      <td>0.323471</td>\n",
       "      <td>0.431327</td>\n",
       "    </tr>\n",
       "    <tr>\n",
       "      <th>1</th>\n",
       "      <td>0.245250</td>\n",
       "      <td>-0.787019</td>\n",
       "      <td>0.352586</td>\n",
       "      <td>-0.329192</td>\n",
       "      <td>-1.135161</td>\n",
       "      <td>-0.582901</td>\n",
       "      <td>0.046401</td>\n",
       "      <td>0.547062</td>\n",
       "      <td>-0.646826</td>\n",
       "      <td>-0.387489</td>\n",
       "      <td>...</td>\n",
       "      <td>-1.116392</td>\n",
       "      <td>-0.969992</td>\n",
       "      <td>-0.388444</td>\n",
       "      <td>-0.390403</td>\n",
       "      <td>-0.389364</td>\n",
       "      <td>-0.398088</td>\n",
       "      <td>-0.508666</td>\n",
       "      <td>-0.566889</td>\n",
       "      <td>-0.457404</td>\n",
       "      <td>-0.383205</td>\n",
       "    </tr>\n",
       "    <tr>\n",
       "      <th>2</th>\n",
       "      <td>0.615224</td>\n",
       "      <td>-0.076854</td>\n",
       "      <td>0.352586</td>\n",
       "      <td>-0.428010</td>\n",
       "      <td>-1.279285</td>\n",
       "      <td>0.035389</td>\n",
       "      <td>1.072270</td>\n",
       "      <td>-0.304530</td>\n",
       "      <td>-0.330769</td>\n",
       "      <td>0.656960</td>\n",
       "      <td>...</td>\n",
       "      <td>-0.254198</td>\n",
       "      <td>-0.170568</td>\n",
       "      <td>0.655126</td>\n",
       "      <td>0.651410</td>\n",
       "      <td>0.654661</td>\n",
       "      <td>0.624075</td>\n",
       "      <td>0.282659</td>\n",
       "      <td>0.048869</td>\n",
       "      <td>0.403165</td>\n",
       "      <td>-0.065797</td>\n",
       "    </tr>\n",
       "    <tr>\n",
       "      <th>3</th>\n",
       "      <td>0.180627</td>\n",
       "      <td>0.633312</td>\n",
       "      <td>-0.512584</td>\n",
       "      <td>-0.098615</td>\n",
       "      <td>-0.798871</td>\n",
       "      <td>-0.582901</td>\n",
       "      <td>1.392431</td>\n",
       "      <td>-0.304530</td>\n",
       "      <td>1.154238</td>\n",
       "      <td>2.481826</td>\n",
       "      <td>...</td>\n",
       "      <td>1.072209</td>\n",
       "      <td>0.821125</td>\n",
       "      <td>2.478455</td>\n",
       "      <td>2.471667</td>\n",
       "      <td>2.474712</td>\n",
       "      <td>2.410001</td>\n",
       "      <td>1.665266</td>\n",
       "      <td>1.124724</td>\n",
       "      <td>1.741684</td>\n",
       "      <td>0.488779</td>\n",
       "    </tr>\n",
       "    <tr>\n",
       "      <th>4</th>\n",
       "      <td>0.554098</td>\n",
       "      <td>-0.787019</td>\n",
       "      <td>-0.512584</td>\n",
       "      <td>0.856629</td>\n",
       "      <td>0.642374</td>\n",
       "      <td>-0.582901</td>\n",
       "      <td>0.774655</td>\n",
       "      <td>-0.304530</td>\n",
       "      <td>-0.955912</td>\n",
       "      <td>-0.280007</td>\n",
       "      <td>...</td>\n",
       "      <td>-0.205796</td>\n",
       "      <td>-0.442038</td>\n",
       "      <td>-0.278717</td>\n",
       "      <td>-0.276199</td>\n",
       "      <td>-0.275174</td>\n",
       "      <td>-0.276892</td>\n",
       "      <td>-0.153425</td>\n",
       "      <td>-0.077405</td>\n",
       "      <td>-0.085283</td>\n",
       "      <td>-0.210762</td>\n",
       "    </tr>\n",
       "  </tbody>\n",
       "</table>\n",
       "<p>5 rows × 74 columns</p>\n",
       "</div>"
      ],
      "text/plain": [
       "   Lot Area  Overall Qual  Overall Cond  Year Built  Year Remod/Add  \\\n",
       "0  3.063488     -0.076854     -0.512584   -0.362131       -1.183202   \n",
       "1  0.245250     -0.787019      0.352586   -0.329192       -1.135161   \n",
       "2  0.615224     -0.076854      0.352586   -0.428010       -1.279285   \n",
       "3  0.180627      0.633312     -0.512584   -0.098615       -0.798871   \n",
       "4  0.554098     -0.787019     -0.512584    0.856629        0.642374   \n",
       "\n",
       "   Mas Vnr Area  BsmtFin SF 1  BsmtFin SF 2  Bsmt Unf SF  Total Bsmt SF  \\\n",
       "0      0.058288      0.431947     -0.304530    -0.249430       0.075153   \n",
       "1     -0.582901      0.046401      0.547062    -0.646826      -0.387489   \n",
       "2      0.035389      1.072270     -0.304530    -0.330769       0.656960   \n",
       "3     -0.582901      1.392431     -0.304530     1.154238       2.481826   \n",
       "4     -0.582901      0.774655     -0.304530    -0.955912      -0.280007   \n",
       "\n",
       "             ...             liv_area_quality_overall_mult  \\\n",
       "0            ...                                  0.066789   \n",
       "1            ...                                 -1.116392   \n",
       "2            ...                                 -0.254198   \n",
       "3            ...                                  1.072209   \n",
       "4            ...                                 -0.205796   \n",
       "\n",
       "   liv_area_quality_overall_mult2  bsmt_quality_area1_add  \\\n",
       "0                       -0.100555                0.076143   \n",
       "1                       -0.969992               -0.388444   \n",
       "2                       -0.170568                0.655126   \n",
       "3                        0.821125                2.478455   \n",
       "4                       -0.442038               -0.278717   \n",
       "\n",
       "   bsmt_quality_area1_add2  bsmt_quality_area1_add3  bsmt_quality_area1_add4  \\\n",
       "0                 0.078063                 0.081379                 0.120997   \n",
       "1                -0.390403                -0.389364                -0.398088   \n",
       "2                 0.651410                 0.654661                 0.624075   \n",
       "3                 2.471667                 2.474712                 2.410001   \n",
       "4                -0.276199                -0.275174                -0.276892   \n",
       "\n",
       "   bsmt_quality_area1_mult  bsmt_quality_area1_mult2  \\\n",
       "0                 0.160508                  0.201776   \n",
       "1                -0.508666                 -0.566889   \n",
       "2                 0.282659                  0.048869   \n",
       "3                 1.665266                  1.124724   \n",
       "4                -0.153425                 -0.077405   \n",
       "\n",
       "   bsmt_quality_area1_mult3  bsmt_quality_area1_mult4  \n",
       "0                  0.323471                  0.431327  \n",
       "1                 -0.457404                 -0.383205  \n",
       "2                  0.403165                 -0.065797  \n",
       "3                  1.741684                  0.488779  \n",
       "4                 -0.085283                 -0.210762  \n",
       "\n",
       "[5 rows x 74 columns]"
      ]
     },
     "execution_count": 45,
     "metadata": {},
     "output_type": "execute_result"
    }
   ],
   "source": [
    "scaled_train_numeric.head()"
   ]
  },
  {
   "cell_type": "code",
   "execution_count": 46,
   "metadata": {
    "collapsed": false
   },
   "outputs": [
    {
     "data": {
      "text/html": [
       "<div>\n",
       "<table border=\"1\" class=\"dataframe\">\n",
       "  <thead>\n",
       "    <tr style=\"text-align: right;\">\n",
       "      <th></th>\n",
       "      <th>Lot Area</th>\n",
       "      <th>Overall Qual</th>\n",
       "      <th>Overall Cond</th>\n",
       "      <th>Year Built</th>\n",
       "      <th>Year Remod/Add</th>\n",
       "      <th>Mas Vnr Area</th>\n",
       "      <th>BsmtFin SF 1</th>\n",
       "      <th>BsmtFin SF 2</th>\n",
       "      <th>Bsmt Unf SF</th>\n",
       "      <th>Total Bsmt SF</th>\n",
       "      <th>...</th>\n",
       "      <th>liv_area_quality_overall_mult</th>\n",
       "      <th>liv_area_quality_overall_mult2</th>\n",
       "      <th>bsmt_quality_area1_add</th>\n",
       "      <th>bsmt_quality_area1_add2</th>\n",
       "      <th>bsmt_quality_area1_add3</th>\n",
       "      <th>bsmt_quality_area1_add4</th>\n",
       "      <th>bsmt_quality_area1_mult</th>\n",
       "      <th>bsmt_quality_area1_mult2</th>\n",
       "      <th>bsmt_quality_area1_mult3</th>\n",
       "      <th>bsmt_quality_area1_mult4</th>\n",
       "    </tr>\n",
       "  </thead>\n",
       "  <tbody>\n",
       "    <tr>\n",
       "      <th>0</th>\n",
       "      <td>-0.020796</td>\n",
       "      <td>2.053643</td>\n",
       "      <td>-0.512584</td>\n",
       "      <td>0.988387</td>\n",
       "      <td>0.834540</td>\n",
       "      <td>0.184236</td>\n",
       "      <td>1.683281</td>\n",
       "      <td>-0.30453</td>\n",
       "      <td>-0.895489</td>\n",
       "      <td>0.722384</td>\n",
       "      <td>...</td>\n",
       "      <td>1.346492</td>\n",
       "      <td>1.346028</td>\n",
       "      <td>0.722830</td>\n",
       "      <td>0.723660</td>\n",
       "      <td>0.726903</td>\n",
       "      <td>0.736124</td>\n",
       "      <td>0.732611</td>\n",
       "      <td>0.710545</td>\n",
       "      <td>0.887221</td>\n",
       "      <td>0.567276</td>\n",
       "    </tr>\n",
       "    <tr>\n",
       "      <th>1</th>\n",
       "      <td>0.698171</td>\n",
       "      <td>1.343477</td>\n",
       "      <td>-0.512584</td>\n",
       "      <td>1.021327</td>\n",
       "      <td>0.882581</td>\n",
       "      <td>0.791075</td>\n",
       "      <td>2.458883</td>\n",
       "      <td>-0.30453</td>\n",
       "      <td>-0.716545</td>\n",
       "      <td>1.706083</td>\n",
       "      <td>...</td>\n",
       "      <td>0.774716</td>\n",
       "      <td>0.729224</td>\n",
       "      <td>1.708035</td>\n",
       "      <td>1.711867</td>\n",
       "      <td>1.714998</td>\n",
       "      <td>1.769721</td>\n",
       "      <td>2.126725</td>\n",
       "      <td>2.300220</td>\n",
       "      <td>2.315397</td>\n",
       "      <td>2.242474</td>\n",
       "    </tr>\n",
       "    <tr>\n",
       "      <th>2</th>\n",
       "      <td>0.193215</td>\n",
       "      <td>1.343477</td>\n",
       "      <td>-0.512584</td>\n",
       "      <td>1.021327</td>\n",
       "      <td>0.834540</td>\n",
       "      <td>-0.582901</td>\n",
       "      <td>-1.008778</td>\n",
       "      <td>-0.30453</td>\n",
       "      <td>1.347126</td>\n",
       "      <td>0.187309</td>\n",
       "      <td>...</td>\n",
       "      <td>1.702012</td>\n",
       "      <td>1.497989</td>\n",
       "      <td>0.188205</td>\n",
       "      <td>0.189936</td>\n",
       "      <td>0.181587</td>\n",
       "      <td>0.143864</td>\n",
       "      <td>0.259645</td>\n",
       "      <td>0.289938</td>\n",
       "      <td>-0.182973</td>\n",
       "      <td>-0.426972</td>\n",
       "    </tr>\n",
       "    <tr>\n",
       "      <th>3</th>\n",
       "      <td>-0.239284</td>\n",
       "      <td>0.633312</td>\n",
       "      <td>-0.512584</td>\n",
       "      <td>1.054266</td>\n",
       "      <td>0.882581</td>\n",
       "      <td>0.859774</td>\n",
       "      <td>0.231283</td>\n",
       "      <td>-0.30453</td>\n",
       "      <td>-0.498093</td>\n",
       "      <td>-0.382816</td>\n",
       "      <td>...</td>\n",
       "      <td>0.491375</td>\n",
       "      <td>0.364670</td>\n",
       "      <td>-0.381440</td>\n",
       "      <td>-0.378749</td>\n",
       "      <td>-0.377712</td>\n",
       "      <td>-0.377507</td>\n",
       "      <td>-0.244301</td>\n",
       "      <td>-0.158220</td>\n",
       "      <td>-0.170119</td>\n",
       "      <td>-0.248634</td>\n",
       "    </tr>\n",
       "    <tr>\n",
       "      <th>4</th>\n",
       "      <td>0.144958</td>\n",
       "      <td>0.633312</td>\n",
       "      <td>-0.512584</td>\n",
       "      <td>1.054266</td>\n",
       "      <td>0.882581</td>\n",
       "      <td>-0.582901</td>\n",
       "      <td>-1.008778</td>\n",
       "      <td>-0.30453</td>\n",
       "      <td>1.349450</td>\n",
       "      <td>0.189645</td>\n",
       "      <td>...</td>\n",
       "      <td>1.440750</td>\n",
       "      <td>1.110747</td>\n",
       "      <td>0.190539</td>\n",
       "      <td>0.192266</td>\n",
       "      <td>0.181587</td>\n",
       "      <td>0.137004</td>\n",
       "      <td>0.261711</td>\n",
       "      <td>0.291775</td>\n",
       "      <td>-0.302407</td>\n",
       "      <td>-0.523630</td>\n",
       "    </tr>\n",
       "  </tbody>\n",
       "</table>\n",
       "<p>5 rows × 74 columns</p>\n",
       "</div>"
      ],
      "text/plain": [
       "   Lot Area  Overall Qual  Overall Cond  Year Built  Year Remod/Add  \\\n",
       "0 -0.020796      2.053643     -0.512584    0.988387        0.834540   \n",
       "1  0.698171      1.343477     -0.512584    1.021327        0.882581   \n",
       "2  0.193215      1.343477     -0.512584    1.021327        0.834540   \n",
       "3 -0.239284      0.633312     -0.512584    1.054266        0.882581   \n",
       "4  0.144958      0.633312     -0.512584    1.054266        0.882581   \n",
       "\n",
       "   Mas Vnr Area  BsmtFin SF 1  BsmtFin SF 2  Bsmt Unf SF  Total Bsmt SF  \\\n",
       "0      0.184236      1.683281      -0.30453    -0.895489       0.722384   \n",
       "1      0.791075      2.458883      -0.30453    -0.716545       1.706083   \n",
       "2     -0.582901     -1.008778      -0.30453     1.347126       0.187309   \n",
       "3      0.859774      0.231283      -0.30453    -0.498093      -0.382816   \n",
       "4     -0.582901     -1.008778      -0.30453     1.349450       0.189645   \n",
       "\n",
       "             ...             liv_area_quality_overall_mult  \\\n",
       "0            ...                                  1.346492   \n",
       "1            ...                                  0.774716   \n",
       "2            ...                                  1.702012   \n",
       "3            ...                                  0.491375   \n",
       "4            ...                                  1.440750   \n",
       "\n",
       "   liv_area_quality_overall_mult2  bsmt_quality_area1_add  \\\n",
       "0                        1.346028                0.722830   \n",
       "1                        0.729224                1.708035   \n",
       "2                        1.497989                0.188205   \n",
       "3                        0.364670               -0.381440   \n",
       "4                        1.110747                0.190539   \n",
       "\n",
       "   bsmt_quality_area1_add2  bsmt_quality_area1_add3  bsmt_quality_area1_add4  \\\n",
       "0                 0.723660                 0.726903                 0.736124   \n",
       "1                 1.711867                 1.714998                 1.769721   \n",
       "2                 0.189936                 0.181587                 0.143864   \n",
       "3                -0.378749                -0.377712                -0.377507   \n",
       "4                 0.192266                 0.181587                 0.137004   \n",
       "\n",
       "   bsmt_quality_area1_mult  bsmt_quality_area1_mult2  \\\n",
       "0                 0.732611                  0.710545   \n",
       "1                 2.126725                  2.300220   \n",
       "2                 0.259645                  0.289938   \n",
       "3                -0.244301                 -0.158220   \n",
       "4                 0.261711                  0.291775   \n",
       "\n",
       "   bsmt_quality_area1_mult3  bsmt_quality_area1_mult4  \n",
       "0                  0.887221                  0.567276  \n",
       "1                  2.315397                  2.242474  \n",
       "2                 -0.182973                 -0.426972  \n",
       "3                 -0.170119                 -0.248634  \n",
       "4                 -0.302407                 -0.523630  \n",
       "\n",
       "[5 rows x 74 columns]"
      ]
     },
     "execution_count": 46,
     "metadata": {},
     "output_type": "execute_result"
    }
   ],
   "source": [
    "scaled_test_numeric.head()"
   ]
  },
  {
   "cell_type": "code",
   "execution_count": null,
   "metadata": {
    "collapsed": true
   },
   "outputs": [],
   "source": []
  },
  {
   "cell_type": "markdown",
   "metadata": {
    "collapsed": true
   },
   "source": [
    "## Feature Selection\n",
    "\n",
    "Now that we have cleaned and transformed a lot of the features in the data set, it's time to move on to feature selection for numerical features."
   ]
  },
  {
   "cell_type": "code",
   "execution_count": 47,
   "metadata": {
    "collapsed": true
   },
   "outputs": [],
   "source": [
    "import seaborn as sns\n",
    "from matplotlib import pyplot as plt\n",
    "%matplotlib inline"
   ]
  },
  {
   "cell_type": "markdown",
   "metadata": {},
   "source": [
    "* Correlation matrix heatmap for all chosen features from above (68)"
   ]
  },
  {
   "cell_type": "code",
   "execution_count": 48,
   "metadata": {
    "collapsed": false
   },
   "outputs": [
    {
     "data": {
      "image/png": "[encoded data removed]",
      "text/plain": [
       "<matplotlib.figure.Figure at 0x29f674954e0>"
      ]
     },
     "metadata": {},
     "output_type": "display_data"
    }
   ],
   "source": [
    "sns.heatmap(pd.concat([train['SalePrice'],train_numeric],axis=1).corr().corr())\n",
    "plt.show()"
   ]
  },
  {
   "cell_type": "code",
   "execution_count": 49,
   "metadata": {
    "collapsed": false
   },
   "outputs": [],
   "source": [
    "abs_corr_vs_target = pd.concat([train['SalePrice'],train_numeric],axis=1).corr().iloc[1:,0].apply(abs).sort_values(ascending=False)\n",
    "abs_corr_vs_target_over50 = abs_corr_vs_target[abs_corr_vs_target > 0.5]"
   ]
  },
  {
   "cell_type": "code",
   "execution_count": 50,
   "metadata": {
    "collapsed": true
   },
   "outputs": [],
   "source": [
    "abs_corr_vs_target_over30 = abs_corr_vs_target[abs_corr_vs_target > 0.3]"
   ]
  },
  {
   "cell_type": "code",
   "execution_count": 51,
   "metadata": {
    "collapsed": false
   },
   "outputs": [
    {
     "data": {
      "image/png": "[encoded data removed]",
      "text/plain": [
       "<matplotlib.figure.Figure at 0x29f67a46f28>"
      ]
     },
     "metadata": {},
     "output_type": "display_data"
    }
   ],
   "source": [
    "sns.heatmap(train_numeric[abs_corr_vs_target_over50.index].corr())\n",
    "plt.show()"
   ]
  },
  {
   "cell_type": "code",
   "execution_count": 52,
   "metadata": {
    "collapsed": false
   },
   "outputs": [
    {
     "data": {
      "image/png": "[encoded data removed]",
      "text/plain": [
       "<matplotlib.figure.Figure at 0x29f67bfd0f0>"
      ]
     },
     "metadata": {},
     "output_type": "display_data"
    }
   ],
   "source": [
    "sns.heatmap(train_numeric[abs_corr_vs_target_over30.index].corr())\n",
    "plt.show()"
   ]
  },
  {
   "cell_type": "code",
   "execution_count": null,
   "metadata": {
    "collapsed": true
   },
   "outputs": [],
   "source": []
  },
  {
   "cell_type": "markdown",
   "metadata": {},
   "source": [
    "### Note 1.\n",
    "* We can see high corerlation among features with high correlation ((abs corr. > .5) versus target variable(SalePrice).\n",
    "* In contrast, relatively low correlation among features with low correlation (abs corr. > .3) versus target variable(SalePrice).\n",
    "* For the newly created features, we can observe high correlations among created features, especially for the features created in similar process."
   ]
  },
  {
   "cell_type": "markdown",
   "metadata": {},
   "source": [
    "### Approach 1. Leave the best features among the simliars\n",
    "* Among features created in similar process(e.g., `compound_bsmt_score_add` and `compound_bsmt_score_mult`), select one feature with the highest correlation vs. target price.\n",
    "* Exclude the other features"
   ]
  },
  {
   "cell_type": "code",
   "execution_count": 53,
   "metadata": {
    "collapsed": false
   },
   "outputs": [
    {
     "data": {
      "text/plain": [
       "bsmt_quality_area1_mult2          0.805632\n",
       "Overall Qual                      0.804562\n",
       "liv_area_quality_overall_mult     0.793994\n",
       "bsmt_quality_area1_mult           0.775734\n",
       "liv_area_quality_overall_mult2    0.768301\n",
       "bsmt_quality_area1_mult3          0.753685\n",
       "Exter Qual Mapped                 0.714152\n",
       "Bsmt Qual Mapped                  0.706397\n",
       "liv_area_quality_overall_add2     0.704730\n",
       "liv_area_quality_overall_add      0.700205\n",
       "Gr Liv Area                       0.698990\n",
       "Kitchen Qual Mapped               0.694912\n",
       "bsmt_quality_area1_add4           0.692074\n",
       "bsmt_quality_area1_add2           0.684927\n",
       "bsmt_quality_area1_add3           0.684865\n",
       "bsmt_quality_area1_add            0.683634\n",
       "Total Bsmt SF                     0.682986\n",
       "compound_bsmt_score_add           0.673029\n",
       "compound_bsmt_score_mult          0.664326\n",
       "Garage Cars                       0.663485\n",
       "Garage Area                       0.662397\n",
       "1st Flr SF                        0.657119\n",
       "bsmt_quality_area1_mult4          0.608036\n",
       "house_age1                        0.592273\n",
       "compound_exter_score_add          0.591732\n",
       "Year Built                        0.591436\n",
       "compound_overall_score_add        0.583241\n",
       "compound_exter_score_mult         0.572052\n",
       "compound_overall_score_mult       0.546843\n",
       "house_age2                        0.546212\n",
       "Year Remod/Add                    0.545219\n",
       "Full Bath                         0.518194\n",
       "Mas Vnr Area                      0.513787\n",
       "BsmtFin SF 1                      0.513579\n",
       "compound_bsmt_score2_add          0.496279\n",
       "Fireplaces                        0.485683\n",
       "TotRms AbvGrd                     0.483701\n",
       "Heating QC Mapped                 0.471474\n",
       "compound_bsmt_score2_mult         0.393198\n",
       "Bsmt Exposure Mapped              0.387022\n",
       "Open Porch SF                     0.344383\n",
       "BsmtFin Type 1 Mapped             0.325479\n",
       "Wood Deck SF                      0.319104\n",
       "Bsmt Full Bath                    0.315024\n",
       "Name: SalePrice, dtype: float64"
      ]
     },
     "execution_count": 53,
     "metadata": {},
     "output_type": "execute_result"
    }
   ],
   "source": [
    "abs_corr_vs_target_over30"
   ]
  },
  {
   "cell_type": "code",
   "execution_count": 54,
   "metadata": {
    "collapsed": true
   },
   "outputs": [],
   "source": [
    "# group the similary created features.\n",
    "group1 = ['house_age1', 'house_age2']\n",
    "group2 = ['compound_overall_score_add', 'compound_overall_score_mult']\n",
    "group3 = ['compound_exter_score_add', 'compound_exter_score_mult']\n",
    "group4 = ['compound_bsmt_score_add', 'compound_bsmt_score2_add',\n",
    "         'compound_bsmt_score_mult', 'compound_bsmt_score2_mult']\n",
    "group5 = ['liv_area_quality_overall_add', 'liv_area_quality_overall_add2',\n",
    "         'liv_area_quality_overall_mult', 'liv_area_quality_overall_mult2']\n",
    "\n",
    "group6 = ['bsmt_quality_area1_add', 'bsmt_quality_area1_add2',\n",
    "         'bsmt_quality_area1_add3', 'bsmt_quality_area1_add4',\n",
    "         'bsmt_quality_area1_mult', 'bsmt_quality_area1_mult2',\n",
    "         'bsmt_quality_area1_mult3', 'bsmt_quality_area1_mult4']"
   ]
  },
  {
   "cell_type": "code",
   "execution_count": 55,
   "metadata": {
    "collapsed": true
   },
   "outputs": [],
   "source": [
    "groups = [group1, group2, group3, group4, group5, group6]"
   ]
  },
  {
   "cell_type": "code",
   "execution_count": 56,
   "metadata": {
    "collapsed": false,
    "scrolled": true
   },
   "outputs": [
    {
     "data": {
      "text/plain": [
       "['house_age1',\n",
       " 'compound_overall_score_add',\n",
       " 'compound_exter_score_add',\n",
       " 'compound_bsmt_score_add',\n",
       " 'liv_area_quality_overall_mult',\n",
       " 'bsmt_quality_area1_mult2']"
      ]
     },
     "execution_count": 56,
     "metadata": {},
     "output_type": "execute_result"
    }
   ],
   "source": [
    "# choose one feature with the highest corr. vs target from each group\n",
    "best_created_features = []\n",
    "\n",
    "for group in groups:\n",
    "    concat = pd.concat([train['SalePrice'],train_numeric[group]], axis=1)\n",
    "    best_f = abs(concat.corr().iloc[1:, 0]).sort_values(ascending=False).index[0]\n",
    "    best_created_features.append(best_f)\n",
    "        \n",
    "best_created_features"
   ]
  },
  {
   "cell_type": "code",
   "execution_count": 57,
   "metadata": {
    "collapsed": false
   },
   "outputs": [],
   "source": [
    "for i, group in enumerate(groups):\n",
    "    # remove the highest correlated feature from each group\n",
    "    group.remove(best_created_features[i])\n",
    "    \n",
    "    # drop the features left - except the highest of each group\n",
    "    train_numeric.drop(group, axis=1, inplace=True)\n",
    "    test_numeric.drop(group, axis=1, inplace=True)"
   ]
  },
  {
   "cell_type": "code",
   "execution_count": 58,
   "metadata": {
    "collapsed": false
   },
   "outputs": [
    {
     "data": {
      "image/png": "[encoded data removed]",
      "text/plain": [
       "<matplotlib.figure.Figure at 0x29f67afca20>"
      ]
     },
     "metadata": {},
     "output_type": "display_data"
    }
   ],
   "source": [
    "abs_corr_vs_target = pd.concat([train['SalePrice'],train_numeric],axis=1).corr().iloc[1:,0].apply(abs).sort_values(ascending=False)\n",
    "abs_corr_vs_target_over30 = abs_corr_vs_target[abs_corr_vs_target > 0.3]\n",
    "sns.heatmap(train_numeric[abs_corr_vs_target_over30.index].corr())\n",
    "plt.show()"
   ]
  },
  {
   "cell_type": "code",
   "execution_count": 59,
   "metadata": {
    "collapsed": false
   },
   "outputs": [
    {
     "data": {
      "image/png": "[encoded data removed]",
      "text/plain": [
       "<matplotlib.figure.Figure at 0x29f67aa0c88>"
      ]
     },
     "metadata": {},
     "output_type": "display_data"
    }
   ],
   "source": [
    "abs_corr_vs_target_over20 = abs_corr_vs_target[abs_corr_vs_target > 0.2]\n",
    "sns.heatmap(train_numeric[abs_corr_vs_target_over20.index].corr())\n",
    "plt.show()"
   ]
  },
  {
   "cell_type": "code",
   "execution_count": 60,
   "metadata": {
    "collapsed": false,
    "scrolled": true
   },
   "outputs": [
    {
     "data": {
      "text/plain": [
       "Index(['bsmt_quality_area1_mult2', 'Overall Qual',\n",
       "       'liv_area_quality_overall_mult', 'Exter Qual Mapped',\n",
       "       'Bsmt Qual Mapped', 'Gr Liv Area', 'Kitchen Qual Mapped',\n",
       "       'Total Bsmt SF', 'compound_bsmt_score_add', 'Garage Cars',\n",
       "       'Garage Area', '1st Flr SF', 'house_age1', 'compound_exter_score_add',\n",
       "       'Year Built', 'compound_overall_score_add', 'Year Remod/Add',\n",
       "       'Full Bath', 'Mas Vnr Area', 'BsmtFin SF 1', 'Fireplaces',\n",
       "       'TotRms AbvGrd', 'Heating QC Mapped', 'Bsmt Exposure Mapped',\n",
       "       'Open Porch SF', 'BsmtFin Type 1 Mapped', 'Wood Deck SF',\n",
       "       'Bsmt Full Bath', 'Lot Area', 'Paved Drive Mapped', 'Half Bath',\n",
       "       'Central Air Mapped', 'years_until_remod', 'Lot Shape Mapped',\n",
       "       '2nd Flr SF'],\n",
       "      dtype='object')"
      ]
     },
     "execution_count": 60,
     "metadata": {},
     "output_type": "execute_result"
    }
   ],
   "source": [
    "train_numeric[abs_corr_vs_target_over20.index].corr().columns"
   ]
  },
  {
   "cell_type": "code",
   "execution_count": null,
   "metadata": {
    "collapsed": true
   },
   "outputs": [],
   "source": []
  },
  {
   "cell_type": "code",
   "execution_count": 61,
   "metadata": {
    "collapsed": true
   },
   "outputs": [],
   "source": [
    "def choose_best_numeric_feature_comb(df, threshold=.2):\n",
    "    '''docs\n",
    "    Find the best numerical feature combination.\n",
    "    input : sorted corrmat by absolute value of correlation vs. target price\n",
    "    output : a list of features chosen.\n",
    "    '''\n",
    "    \n",
    "    corrmat = df.corr()\n",
    "    drop_li = []\n",
    "    \n",
    "    for i, col in enumerate(corrmat.columns):\n",
    "        \n",
    "        #print(i, col)\n",
    "        \n",
    "        if col in drop_li:\n",
    "            pass\n",
    "\n",
    "        else:\n",
    "            row = abs(corrmat.iloc[i, i+1:])\n",
    "            #print(row)\n",
    "            to_drop = row[row > threshold].index\n",
    "            #print(to_drop)\n",
    "            drop_li += to_drop.tolist()\n",
    "    \n",
    "    return list(set(corrmat.columns) - set(drop_li))"
   ]
  },
  {
   "cell_type": "code",
   "execution_count": 62,
   "metadata": {
    "collapsed": false,
    "scrolled": true
   },
   "outputs": [],
   "source": [
    "best_numeric_features_th40 = choose_best_numeric_feature_comb(train_numeric[abs_corr_vs_target_over20.index],\n",
    "                                                             threshold=.4)\n",
    "best_numeric_features_th30 = choose_best_numeric_feature_comb(train_numeric[abs_corr_vs_target_over20.index],\n",
    "                                                             threshold=.3)\n",
    "best_numeric_features_th20 = choose_best_numeric_feature_comb(train_numeric[abs_corr_vs_target_over20.index])"
   ]
  },
  {
   "cell_type": "code",
   "execution_count": 63,
   "metadata": {
    "collapsed": false
   },
   "outputs": [
    {
     "data": {
      "text/plain": [
       "['Wood Deck SF',\n",
       " 'Lot Shape Mapped',\n",
       " 'Central Air Mapped',\n",
       " 'Heating QC Mapped',\n",
       " 'Fireplaces',\n",
       " 'Paved Drive Mapped',\n",
       " 'Open Porch SF',\n",
       " 'BsmtFin Type 1 Mapped',\n",
       " 'Half Bath',\n",
       " 'Lot Area',\n",
       " 'Full Bath',\n",
       " 'bsmt_quality_area1_mult2']"
      ]
     },
     "execution_count": 63,
     "metadata": {},
     "output_type": "execute_result"
    }
   ],
   "source": [
    "best_numeric_features_th40"
   ]
  },
  {
   "cell_type": "code",
   "execution_count": null,
   "metadata": {
    "collapsed": true
   },
   "outputs": [],
   "source": []
  },
  {
   "cell_type": "code",
   "execution_count": 64,
   "metadata": {
    "collapsed": false
   },
   "outputs": [
    {
     "name": "stdout",
     "output_type": "stream",
     "text": [
      "0.894950774532\n",
      "0.829558157254\n"
     ]
    }
   ],
   "source": [
    "lr = LinearRegression()\n",
    "lr.fit(scaled_train_numeric[abs_corr_vs_target_over30.index], np.log(train['SalePrice']))\n",
    "print(lr.score(scaled_train_numeric[abs_corr_vs_target_over30.index], \n",
    "               np.log(train['SalePrice'])))\n",
    "print(lr.score(scaled_test_numeric[abs_corr_vs_target_over30.index],\n",
    "        np.log(test['SalePrice'])))"
   ]
  },
  {
   "cell_type": "code",
   "execution_count": null,
   "metadata": {
    "collapsed": true
   },
   "outputs": [],
   "source": []
  },
  {
   "cell_type": "markdown",
   "metadata": {},
   "source": [
    "### Update `select_features()` and `train_and_test()` function"
   ]
  },
  {
   "cell_type": "code",
   "execution_count": 65,
   "metadata": {
    "collapsed": true
   },
   "outputs": [],
   "source": [
    "def select_features(df, threshold_corr, threshold_colinear=None):\n",
    "    \n",
    "    abs_corr_vs_target = pd.concat([train['SalePrice'], df], axis=1).corr().iloc[1:,0]\\\n",
    "                                .apply(abs).sort_values(ascending=False)\n",
    "    abs_corr_vs_target_th = abs_corr_vs_target[abs_corr_vs_target > threshold_corr]\n",
    "    \n",
    "    if threshold_colinear:\n",
    "        filtered = choose_best_numeric_feature_comb(df[abs_corr_vs_target_th.index],\n",
    "                                                    threshold=threshold_colinear)\n",
    "        return df[filtered]\n",
    "        \n",
    "    return df[abs_corr_vs_target_th.index]"
   ]
  },
  {
   "cell_type": "code",
   "execution_count": 66,
   "metadata": {
    "collapsed": true
   },
   "outputs": [],
   "source": [
    "def train_and_test(train_df, test_df, k=0):\n",
    "    \n",
    "    X_train = train_df\n",
    "    y_train = np.log(train['SalePrice'])\n",
    "    X_test = test_df\n",
    "    y_test = np.log(test['SalePrice'])\n",
    "    \n",
    "    lr = LinearRegression()\n",
    "    \n",
    "    if k:\n",
    "        scores = cross_val_score(lr, \n",
    "                                 pd.concat([X_train, X_test], axis=0),\n",
    "                                 pd.concat([y_train, y_test], axis=0), \n",
    "                                 cv=k,\n",
    "                                scoring='r2')\n",
    "        return np.mean(scores)\n",
    "        \n",
    "    else:\n",
    "        lr.fit(X_train, y_train)\n",
    "        pred = lr.predict(X_test)\n",
    "\n",
    "        return r2_score(pred, y_test)"
   ]
  },
  {
   "cell_type": "code",
   "execution_count": 67,
   "metadata": {
    "collapsed": false
   },
   "outputs": [
    {
     "data": {
      "text/plain": [
       "0.86225610590002921"
      ]
     },
     "execution_count": 67,
     "metadata": {},
     "output_type": "execute_result"
    }
   ],
   "source": [
    "train_and_test(scaled_train_numeric[abs_corr_vs_target_over30.index], \n",
    "               scaled_test_numeric[abs_corr_vs_target_over30.index], \n",
    "               k=5)"
   ]
  },
  {
   "cell_type": "code",
   "execution_count": null,
   "metadata": {
    "collapsed": true
   },
   "outputs": [],
   "source": []
  },
  {
   "cell_type": "markdown",
   "metadata": {},
   "source": [
    "# Further Step 1.\n",
    "### Write a function to make features nonlinear and add to dataframe"
   ]
  },
  {
   "cell_type": "code",
   "execution_count": 68,
   "metadata": {
    "collapsed": true
   },
   "outputs": [],
   "source": [
    "def add_non_linear_feature(df):\n",
    "    \n",
    "    df_ = df.copy()\n",
    "    \n",
    "    for col in df.columns:\n",
    "        \n",
    "        # add 6 to all values in column to make log possible\n",
    "        df_[col+'_log'] = np.log(df_[col]+6)\n",
    "        df_[col+'_sqrd'] = df_[col]**2\n",
    "        df_[col+'_cube'] = df_[col]**3\n",
    "    \n",
    "    return df_"
   ]
  },
  {
   "cell_type": "code",
   "execution_count": 69,
   "metadata": {
    "collapsed": true
   },
   "outputs": [],
   "source": [
    "scaled_data = pd.concat([scaled_train_numeric,\n",
    "                        scaled_test_numeric]\n",
    "                        ,axis=0)"
   ]
  },
  {
   "cell_type": "code",
   "execution_count": 70,
   "metadata": {
    "collapsed": false
   },
   "outputs": [],
   "source": [
    "scaled_data_add_nonlinear = add_non_linear_feature(scaled_data[abs_corr_vs_target_over30.index])"
   ]
  },
  {
   "cell_type": "code",
   "execution_count": null,
   "metadata": {
    "collapsed": true
   },
   "outputs": [],
   "source": []
  },
  {
   "cell_type": "code",
   "execution_count": 71,
   "metadata": {
    "collapsed": false
   },
   "outputs": [],
   "source": [
    "# to concatenate with data['SalePrice'], redefine the index range.\n",
    "scaled_data_add_nonlinear.index = data.index"
   ]
  },
  {
   "cell_type": "code",
   "execution_count": 72,
   "metadata": {
    "collapsed": false
   },
   "outputs": [
    {
     "name": "stdout",
     "output_type": "stream",
     "text": [
      "threshold for corr vs. target price = 0.3\n",
      "0.615854380549\n",
      "\n",
      "threshold for corr vs. target price = 0.4\n",
      "0.640818707481\n",
      "\n",
      "threshold for corr vs. target price = 0.5\n",
      "0.86924564991\n",
      "\n",
      "threshold for corr vs. target price = 0.6\n",
      "0.873724834386\n",
      "\n",
      "threshold for corr vs. target price = 0.7\n",
      "0.839257672709\n",
      "\n"
     ]
    }
   ],
   "source": [
    "for threshold in range(30, 80, 10):\n",
    "    \n",
    "    selected_df = select_features(scaled_data_add_nonlinear, threshold_corr = threshold/100)\n",
    "    \n",
    "    print('threshold for corr vs. target price =', threshold/100)\n",
    "    print(train_and_test(selected_df.iloc[:1460], \n",
    "                       selected_df.iloc[1460:], \n",
    "                       k=5))\n",
    "    print('')"
   ]
  },
  {
   "cell_type": "code",
   "execution_count": 73,
   "metadata": {
    "collapsed": true
   },
   "outputs": [],
   "source": [
    "dataset_r2_873 = select_features(scaled_data_add_nonlinear, threshold_corr = .6)"
   ]
  },
  {
   "cell_type": "code",
   "execution_count": 74,
   "metadata": {
    "collapsed": false
   },
   "outputs": [
    {
     "data": {
      "text/plain": [
       "Index(['bsmt_quality_area1_mult2', 'Overall Qual',\n",
       "       'liv_area_quality_overall_mult', 'liv_area_quality_overall_mult_log',\n",
       "       'bsmt_quality_area1_mult2_log', 'Overall Qual_log', 'Exter Qual Mapped',\n",
       "       'Bsmt Qual Mapped', 'Gr Liv Area', 'Exter Qual Mapped_log',\n",
       "       'Kitchen Qual Mapped', 'Gr Liv Area_log', 'Total Bsmt SF',\n",
       "       'Bsmt Qual Mapped_log', 'compound_bsmt_score_add',\n",
       "       'Kitchen Qual Mapped_log', 'Garage Cars', 'Garage Area', '1st Flr SF',\n",
       "       'Overall Qual_cube', 'Total Bsmt SF_log', 'Garage Area_log',\n",
       "       '1st Flr SF_log', 'Garage Cars_log', 'compound_bsmt_score_add_log',\n",
       "       'house_age1_log', 'Bsmt Qual Mapped_cube', 'Exter Qual Mapped_cube'],\n",
       "      dtype='object')"
      ]
     },
     "execution_count": 74,
     "metadata": {},
     "output_type": "execute_result"
    }
   ],
   "source": [
    "select_features(scaled_data_add_nonlinear, threshold_corr = .6).columns"
   ]
  },
  {
   "cell_type": "markdown",
   "metadata": {},
   "source": [
    "### R2 via KFold(5) CV : slightly improved\n",
    "`0.862` ---> `0.873` when filtering nonlinear features by threshold = `0.6`\n",
    "\n",
    "#### Current best features (numerical):\n",
    "['bsmt_quality_area1_mult2', 'Overall Qual',\n",
    "       'liv_area_quality_overall_mult', 'liv_area_quality_overall_mult_log',\n",
    "       'bsmt_quality_area1_mult2_log', 'Overall Qual_log', 'Exter Qual Mapped',\n",
    "       'Bsmt Qual Mapped', 'Gr Liv Area', 'Exter Qual Mapped_log',\n",
    "       'Kitchen Qual Mapped', 'Gr Liv Area_log', 'Total Bsmt SF',\n",
    "       'Bsmt Qual Mapped_log', 'compound_bsmt_score_add',\n",
    "       'Kitchen Qual Mapped_log', 'Garage Cars', 'Garage Area', '1st Flr SF',\n",
    "       'Overall Qual_cube', 'Total Bsmt SF_log', 'Garage Area_log',\n",
    "       '1st Flr SF_log', 'Garage Cars_log', 'compound_bsmt_score_add_log',\n",
    "       'house_age1_log', 'Bsmt Qual Mapped_cube', 'Exter Qual Mapped_cube']"
   ]
  },
  {
   "cell_type": "code",
   "execution_count": null,
   "metadata": {
    "collapsed": true
   },
   "outputs": [],
   "source": []
  },
  {
   "cell_type": "markdown",
   "metadata": {},
   "source": [
    "# Further Step 2.\n",
    "### Add categorical features as dummy columns"
   ]
  },
  {
   "cell_type": "code",
   "execution_count": 75,
   "metadata": {
    "collapsed": false
   },
   "outputs": [
    {
     "data": {
      "text/plain": [
       "Index(['Order', 'PID', 'MS SubClass', 'MS Zoning', 'Lot Area', 'Street',\n",
       "       'Lot Shape', 'Land Contour', 'Utilities', 'Lot Config', 'Land Slope',\n",
       "       'Neighborhood', 'Condition 1', 'Condition 2', 'Bldg Type',\n",
       "       'House Style', 'Overall Qual', 'Overall Cond', 'Year Built',\n",
       "       'Year Remod/Add', 'Roof Style', 'Roof Matl', 'Exterior 1st',\n",
       "       'Exterior 2nd', 'Mas Vnr Type', 'Mas Vnr Area', 'Exter Qual',\n",
       "       'Exter Cond', 'Foundation', 'Bsmt Qual', 'Bsmt Cond', 'Bsmt Exposure',\n",
       "       'BsmtFin Type 1', 'BsmtFin SF 1', 'BsmtFin Type 2', 'BsmtFin SF 2',\n",
       "       'Bsmt Unf SF', 'Total Bsmt SF', 'Heating', 'Heating QC', 'Central Air',\n",
       "       'Electrical', '1st Flr SF', '2nd Flr SF', 'Low Qual Fin SF',\n",
       "       'Gr Liv Area', 'Bsmt Full Bath', 'Bsmt Half Bath', 'Full Bath',\n",
       "       'Half Bath', 'Bedroom AbvGr', 'Kitchen AbvGr', 'Kitchen Qual',\n",
       "       'TotRms AbvGrd', 'Functional', 'Fireplaces', 'Garage Cars',\n",
       "       'Garage Area', 'Paved Drive', 'Wood Deck SF', 'Open Porch SF',\n",
       "       'Enclosed Porch', '3Ssn Porch', 'Screen Porch', 'Pool Area', 'Misc Val',\n",
       "       'Mo Sold', 'Yr Sold', 'Sale Type', 'Sale Condition', 'SalePrice'],\n",
       "      dtype='object')"
      ]
     },
     "execution_count": 75,
     "metadata": {},
     "output_type": "execute_result"
    }
   ],
   "source": [
    "train_.columns"
   ]
  },
  {
   "cell_type": "code",
   "execution_count": 76,
   "metadata": {
    "collapsed": false,
    "scrolled": true
   },
   "outputs": [
    {
     "name": "stdout",
     "output_type": "stream",
     "text": [
      "MS SubClass 15\n",
      "MS Zoning 6\n",
      "Lot Config 5\n",
      "Neighborhood 26\n",
      "Condition 1 9\n",
      "Condition 2 6\n",
      "Bldg Type 5\n",
      "House Style 8\n",
      "Roof Style 6\n",
      "Roof Matl 5\n",
      "Exterior 1st 14\n",
      "Exterior 2nd 16\n",
      "Mas Vnr Type 4\n",
      "Foundation 6\n",
      "Heating 6\n",
      "Electrical 4\n",
      "Sale Condition 5\n"
     ]
    }
   ],
   "source": [
    "# non-ordinal categorical features with less than 10 unique values(labels).\n",
    "nominal_cats = ['MS SubClass', 'MS Zoning', 'Lot Config',\n",
    "               'Neighborhood', 'Condition 1', 'Condition 2',\n",
    "                'Bldg Type', 'House Style', 'Roof Style',\n",
    "                'Roof Matl', 'Exterior 1st', 'Exterior 2nd',\n",
    "                'Mas Vnr Type', 'Foundation', 'Heating',\n",
    "                'Electrical', 'Sale Condition']\n",
    "\n",
    "\n",
    "nominal_cats_lt10_uniques = []\n",
    "for col in nominal_cats:\n",
    "    \n",
    "    print(col, len(train_[col].unique()))\n",
    "    nominal_cats_lt10_uniques.append(col)"
   ]
  },
  {
   "cell_type": "markdown",
   "metadata": {},
   "source": [
    "* normalize labels using `LabelEncoder`"
   ]
  },
  {
   "cell_type": "code",
   "execution_count": 77,
   "metadata": {
    "collapsed": false
   },
   "outputs": [],
   "source": [
    "from sklearn.preprocessing import LabelEncoder\n",
    "\n",
    "def label_encode_col(col):\n",
    "    \n",
    "    le = LabelEncoder()\n",
    "    \n",
    "    return le.fit_transform(train_[col])    "
   ]
  },
  {
   "cell_type": "code",
   "execution_count": null,
   "metadata": {
    "collapsed": true
   },
   "outputs": [],
   "source": []
  },
  {
   "cell_type": "code",
   "execution_count": 78,
   "metadata": {
    "collapsed": true
   },
   "outputs": [],
   "source": [
    "nominal_cats_df = train_[nominal_cats_lt10_uniques].copy()"
   ]
  },
  {
   "cell_type": "code",
   "execution_count": 79,
   "metadata": {
    "collapsed": true
   },
   "outputs": [],
   "source": [
    "for col in nominal_cats_df.columns:\n",
    "    le = LabelEncoder()\n",
    "    nominal_cats_df[col] = le.fit_transform(nominal_cats_df[col])"
   ]
  },
  {
   "cell_type": "code",
   "execution_count": 80,
   "metadata": {
    "collapsed": false
   },
   "outputs": [
    {
     "data": {
      "text/html": [
       "<div>\n",
       "<table border=\"1\" class=\"dataframe\">\n",
       "  <thead>\n",
       "    <tr style=\"text-align: right;\">\n",
       "      <th></th>\n",
       "      <th>MS SubClass</th>\n",
       "      <th>MS Zoning</th>\n",
       "      <th>Lot Config</th>\n",
       "      <th>Neighborhood</th>\n",
       "      <th>Condition 1</th>\n",
       "      <th>Condition 2</th>\n",
       "      <th>Bldg Type</th>\n",
       "      <th>House Style</th>\n",
       "      <th>Roof Style</th>\n",
       "      <th>Roof Matl</th>\n",
       "      <th>Exterior 1st</th>\n",
       "      <th>Exterior 2nd</th>\n",
       "      <th>Mas Vnr Type</th>\n",
       "      <th>Foundation</th>\n",
       "      <th>Heating</th>\n",
       "      <th>Electrical</th>\n",
       "      <th>Sale Condition</th>\n",
       "    </tr>\n",
       "  </thead>\n",
       "  <tbody>\n",
       "    <tr>\n",
       "      <th>0</th>\n",
       "      <td>20</td>\n",
       "      <td>RL</td>\n",
       "      <td>Corner</td>\n",
       "      <td>NAmes</td>\n",
       "      <td>Norm</td>\n",
       "      <td>Norm</td>\n",
       "      <td>1Fam</td>\n",
       "      <td>1Story</td>\n",
       "      <td>Hip</td>\n",
       "      <td>CompShg</td>\n",
       "      <td>BrkFace</td>\n",
       "      <td>Plywood</td>\n",
       "      <td>Stone</td>\n",
       "      <td>CBlock</td>\n",
       "      <td>GasA</td>\n",
       "      <td>SBrkr</td>\n",
       "      <td>Normal</td>\n",
       "    </tr>\n",
       "    <tr>\n",
       "      <th>1</th>\n",
       "      <td>20</td>\n",
       "      <td>RH</td>\n",
       "      <td>Inside</td>\n",
       "      <td>NAmes</td>\n",
       "      <td>Feedr</td>\n",
       "      <td>Norm</td>\n",
       "      <td>1Fam</td>\n",
       "      <td>1Story</td>\n",
       "      <td>Gable</td>\n",
       "      <td>CompShg</td>\n",
       "      <td>VinylSd</td>\n",
       "      <td>VinylSd</td>\n",
       "      <td>None</td>\n",
       "      <td>CBlock</td>\n",
       "      <td>GasA</td>\n",
       "      <td>SBrkr</td>\n",
       "      <td>Normal</td>\n",
       "    </tr>\n",
       "    <tr>\n",
       "      <th>2</th>\n",
       "      <td>20</td>\n",
       "      <td>RL</td>\n",
       "      <td>Corner</td>\n",
       "      <td>NAmes</td>\n",
       "      <td>Norm</td>\n",
       "      <td>Norm</td>\n",
       "      <td>1Fam</td>\n",
       "      <td>1Story</td>\n",
       "      <td>Hip</td>\n",
       "      <td>CompShg</td>\n",
       "      <td>Wd Sdng</td>\n",
       "      <td>Wd Sdng</td>\n",
       "      <td>BrkFace</td>\n",
       "      <td>CBlock</td>\n",
       "      <td>GasA</td>\n",
       "      <td>SBrkr</td>\n",
       "      <td>Normal</td>\n",
       "    </tr>\n",
       "    <tr>\n",
       "      <th>3</th>\n",
       "      <td>20</td>\n",
       "      <td>RL</td>\n",
       "      <td>Corner</td>\n",
       "      <td>NAmes</td>\n",
       "      <td>Norm</td>\n",
       "      <td>Norm</td>\n",
       "      <td>1Fam</td>\n",
       "      <td>1Story</td>\n",
       "      <td>Hip</td>\n",
       "      <td>CompShg</td>\n",
       "      <td>BrkFace</td>\n",
       "      <td>BrkFace</td>\n",
       "      <td>None</td>\n",
       "      <td>CBlock</td>\n",
       "      <td>GasA</td>\n",
       "      <td>SBrkr</td>\n",
       "      <td>Normal</td>\n",
       "    </tr>\n",
       "    <tr>\n",
       "      <th>4</th>\n",
       "      <td>60</td>\n",
       "      <td>RL</td>\n",
       "      <td>Inside</td>\n",
       "      <td>Gilbert</td>\n",
       "      <td>Norm</td>\n",
       "      <td>Norm</td>\n",
       "      <td>1Fam</td>\n",
       "      <td>2Story</td>\n",
       "      <td>Gable</td>\n",
       "      <td>CompShg</td>\n",
       "      <td>VinylSd</td>\n",
       "      <td>VinylSd</td>\n",
       "      <td>None</td>\n",
       "      <td>PConc</td>\n",
       "      <td>GasA</td>\n",
       "      <td>SBrkr</td>\n",
       "      <td>Normal</td>\n",
       "    </tr>\n",
       "  </tbody>\n",
       "</table>\n",
       "</div>"
      ],
      "text/plain": [
       "   MS SubClass MS Zoning Lot Config Neighborhood Condition 1 Condition 2  \\\n",
       "0           20        RL     Corner        NAmes        Norm        Norm   \n",
       "1           20        RH     Inside        NAmes       Feedr        Norm   \n",
       "2           20        RL     Corner        NAmes        Norm        Norm   \n",
       "3           20        RL     Corner        NAmes        Norm        Norm   \n",
       "4           60        RL     Inside      Gilbert        Norm        Norm   \n",
       "\n",
       "  Bldg Type House Style Roof Style Roof Matl Exterior 1st Exterior 2nd  \\\n",
       "0      1Fam      1Story        Hip   CompShg      BrkFace      Plywood   \n",
       "1      1Fam      1Story      Gable   CompShg      VinylSd      VinylSd   \n",
       "2      1Fam      1Story        Hip   CompShg      Wd Sdng      Wd Sdng   \n",
       "3      1Fam      1Story        Hip   CompShg      BrkFace      BrkFace   \n",
       "4      1Fam      2Story      Gable   CompShg      VinylSd      VinylSd   \n",
       "\n",
       "  Mas Vnr Type Foundation Heating Electrical Sale Condition  \n",
       "0        Stone     CBlock    GasA      SBrkr         Normal  \n",
       "1         None     CBlock    GasA      SBrkr         Normal  \n",
       "2      BrkFace     CBlock    GasA      SBrkr         Normal  \n",
       "3         None     CBlock    GasA      SBrkr         Normal  \n",
       "4         None      PConc    GasA      SBrkr         Normal  "
      ]
     },
     "execution_count": 80,
     "metadata": {},
     "output_type": "execute_result"
    }
   ],
   "source": [
    "train_[nominal_cats_lt10_uniques].head()"
   ]
  },
  {
   "cell_type": "code",
   "execution_count": 81,
   "metadata": {
    "collapsed": false
   },
   "outputs": [
    {
     "data": {
      "text/html": [
       "<div>\n",
       "<table border=\"1\" class=\"dataframe\">\n",
       "  <thead>\n",
       "    <tr style=\"text-align: right;\">\n",
       "      <th></th>\n",
       "      <th>MS SubClass</th>\n",
       "      <th>MS Zoning</th>\n",
       "      <th>Lot Config</th>\n",
       "      <th>Neighborhood</th>\n",
       "      <th>Condition 1</th>\n",
       "      <th>Condition 2</th>\n",
       "      <th>Bldg Type</th>\n",
       "      <th>House Style</th>\n",
       "      <th>Roof Style</th>\n",
       "      <th>Roof Matl</th>\n",
       "      <th>Exterior 1st</th>\n",
       "      <th>Exterior 2nd</th>\n",
       "      <th>Mas Vnr Type</th>\n",
       "      <th>Foundation</th>\n",
       "      <th>Heating</th>\n",
       "      <th>Electrical</th>\n",
       "      <th>Sale Condition</th>\n",
       "    </tr>\n",
       "  </thead>\n",
       "  <tbody>\n",
       "    <tr>\n",
       "      <th>0</th>\n",
       "      <td>0</td>\n",
       "      <td>4</td>\n",
       "      <td>0</td>\n",
       "      <td>13</td>\n",
       "      <td>2</td>\n",
       "      <td>2</td>\n",
       "      <td>0</td>\n",
       "      <td>2</td>\n",
       "      <td>3</td>\n",
       "      <td>0</td>\n",
       "      <td>3</td>\n",
       "      <td>9</td>\n",
       "      <td>3</td>\n",
       "      <td>1</td>\n",
       "      <td>1</td>\n",
       "      <td>3</td>\n",
       "      <td>3</td>\n",
       "    </tr>\n",
       "    <tr>\n",
       "      <th>1</th>\n",
       "      <td>0</td>\n",
       "      <td>3</td>\n",
       "      <td>4</td>\n",
       "      <td>13</td>\n",
       "      <td>1</td>\n",
       "      <td>2</td>\n",
       "      <td>0</td>\n",
       "      <td>2</td>\n",
       "      <td>1</td>\n",
       "      <td>0</td>\n",
       "      <td>11</td>\n",
       "      <td>13</td>\n",
       "      <td>2</td>\n",
       "      <td>1</td>\n",
       "      <td>1</td>\n",
       "      <td>3</td>\n",
       "      <td>3</td>\n",
       "    </tr>\n",
       "    <tr>\n",
       "      <th>2</th>\n",
       "      <td>0</td>\n",
       "      <td>4</td>\n",
       "      <td>0</td>\n",
       "      <td>13</td>\n",
       "      <td>2</td>\n",
       "      <td>2</td>\n",
       "      <td>0</td>\n",
       "      <td>2</td>\n",
       "      <td>3</td>\n",
       "      <td>0</td>\n",
       "      <td>12</td>\n",
       "      <td>14</td>\n",
       "      <td>1</td>\n",
       "      <td>1</td>\n",
       "      <td>1</td>\n",
       "      <td>3</td>\n",
       "      <td>3</td>\n",
       "    </tr>\n",
       "    <tr>\n",
       "      <th>3</th>\n",
       "      <td>0</td>\n",
       "      <td>4</td>\n",
       "      <td>0</td>\n",
       "      <td>13</td>\n",
       "      <td>2</td>\n",
       "      <td>2</td>\n",
       "      <td>0</td>\n",
       "      <td>2</td>\n",
       "      <td>3</td>\n",
       "      <td>0</td>\n",
       "      <td>3</td>\n",
       "      <td>3</td>\n",
       "      <td>2</td>\n",
       "      <td>1</td>\n",
       "      <td>1</td>\n",
       "      <td>3</td>\n",
       "      <td>3</td>\n",
       "    </tr>\n",
       "    <tr>\n",
       "      <th>4</th>\n",
       "      <td>5</td>\n",
       "      <td>4</td>\n",
       "      <td>4</td>\n",
       "      <td>8</td>\n",
       "      <td>2</td>\n",
       "      <td>2</td>\n",
       "      <td>0</td>\n",
       "      <td>5</td>\n",
       "      <td>1</td>\n",
       "      <td>0</td>\n",
       "      <td>11</td>\n",
       "      <td>13</td>\n",
       "      <td>2</td>\n",
       "      <td>2</td>\n",
       "      <td>1</td>\n",
       "      <td>3</td>\n",
       "      <td>3</td>\n",
       "    </tr>\n",
       "  </tbody>\n",
       "</table>\n",
       "</div>"
      ],
      "text/plain": [
       "   MS SubClass  MS Zoning  Lot Config  Neighborhood  Condition 1  Condition 2  \\\n",
       "0            0          4           0            13            2            2   \n",
       "1            0          3           4            13            1            2   \n",
       "2            0          4           0            13            2            2   \n",
       "3            0          4           0            13            2            2   \n",
       "4            5          4           4             8            2            2   \n",
       "\n",
       "   Bldg Type  House Style  Roof Style  Roof Matl  Exterior 1st  Exterior 2nd  \\\n",
       "0          0            2           3          0             3             9   \n",
       "1          0            2           1          0            11            13   \n",
       "2          0            2           3          0            12            14   \n",
       "3          0            2           3          0             3             3   \n",
       "4          0            5           1          0            11            13   \n",
       "\n",
       "   Mas Vnr Type  Foundation  Heating  Electrical  Sale Condition  \n",
       "0             3           1        1           3               3  \n",
       "1             2           1        1           3               3  \n",
       "2             1           1        1           3               3  \n",
       "3             2           1        1           3               3  \n",
       "4             2           2        1           3               3  "
      ]
     },
     "execution_count": 81,
     "metadata": {},
     "output_type": "execute_result"
    }
   ],
   "source": [
    "nominal_cats_df.head()"
   ]
  },
  {
   "cell_type": "code",
   "execution_count": 82,
   "metadata": {
    "collapsed": false
   },
   "outputs": [
    {
     "data": {
      "text/plain": [
       "17"
      ]
     },
     "execution_count": 82,
     "metadata": {},
     "output_type": "execute_result"
    }
   ],
   "source": [
    "len(nominal_cats_df.columns)"
   ]
  },
  {
   "cell_type": "code",
   "execution_count": 83,
   "metadata": {
    "collapsed": false
   },
   "outputs": [
    {
     "name": "stdout",
     "output_type": "stream",
     "text": [
      "MS SubClass : 0 / 14\n",
      "MS Zoning : 0 / 5\n",
      "Lot Config : 0 / 4\n",
      "Neighborhood : 0 / 25\n",
      "Condition 1 : 0 / 8\n",
      "Condition 2 : 0 / 5\n",
      "Bldg Type : 0 / 4\n",
      "House Style : 0 / 7\n",
      "Roof Style : 0 / 5\n",
      "Roof Matl : 0 / 4\n",
      "Exterior 1st : 0 / 13\n",
      "Exterior 2nd : 0 / 15\n",
      "Mas Vnr Type : 0 / 3\n",
      "Foundation : 0 / 5\n",
      "Heating : 0 / 5\n",
      "Electrical : 0 / 3\n",
      "Sale Condition : 0 / 4\n"
     ]
    }
   ],
   "source": [
    "for col in nominal_cats_df.columns:\n",
    "    print(col, ':',\n",
    "          nominal_cats_df[col].min(), '/',\n",
    "         nominal_cats_df[col].max())"
   ]
  },
  {
   "cell_type": "code",
   "execution_count": null,
   "metadata": {
    "collapsed": true
   },
   "outputs": [],
   "source": []
  },
  {
   "cell_type": "markdown",
   "metadata": {},
   "source": [
    "* draw box-plots"
   ]
  },
  {
   "cell_type": "code",
   "execution_count": 84,
   "metadata": {
    "collapsed": false
   },
   "outputs": [
    {
     "data": {
      "image/png": "[encoded data removed]",
      "text/plain": [
       "<matplotlib.figure.Figure at 0x29f691478d0>"
      ]
     },
     "metadata": {},
     "output_type": "display_data"
    }
   ],
   "source": [
    "nominal_cats_df.iloc[:, :6].plot(kind='box', ); plt.show()"
   ]
  },
  {
   "cell_type": "code",
   "execution_count": 85,
   "metadata": {
    "collapsed": false
   },
   "outputs": [
    {
     "data": {
      "image/png": "[encoded data removed]",
      "text/plain": [
       "<matplotlib.figure.Figure at 0x29f67cc4240>"
      ]
     },
     "metadata": {},
     "output_type": "display_data"
    }
   ],
   "source": [
    "nominal_cats_df.iloc[:, 6:12].plot(kind='box', ); plt.show()"
   ]
  },
  {
   "cell_type": "code",
   "execution_count": 86,
   "metadata": {
    "collapsed": false
   },
   "outputs": [
    {
     "data": {
      "image/png": "[encoded data removed]",
      "text/plain": [
       "<matplotlib.figure.Figure at 0x29f67cc4518>"
      ]
     },
     "metadata": {},
     "output_type": "display_data"
    }
   ],
   "source": [
    "nominal_cats_df.iloc[:, 12:].plot(kind='box', ); plt.show()"
   ]
  },
  {
   "cell_type": "code",
   "execution_count": null,
   "metadata": {
    "collapsed": true
   },
   "outputs": [],
   "source": []
  },
  {
   "cell_type": "markdown",
   "metadata": {},
   "source": [
    "* Chi-square test"
   ]
  },
  {
   "cell_type": "code",
   "execution_count": 87,
   "metadata": {
    "collapsed": false
   },
   "outputs": [],
   "source": [
    "from sklearn.feature_selection import chi2\n",
    "\n",
    "_, pvals = chi2(nominal_cats_df, train_['SalePrice'])"
   ]
  },
  {
   "cell_type": "code",
   "execution_count": 88,
   "metadata": {
    "collapsed": false,
    "scrolled": false
   },
   "outputs": [
    {
     "name": "stdout",
     "output_type": "stream",
     "text": [
      "MS SubClass : 2.21931748201e-244\n",
      "MS Zoning : 1.0\n",
      "Lot Config : 0.993665794934\n",
      "Neighborhood : 9.79219768162e-144\n",
      "Condition 1 : 1.0\n",
      "Condition 2 : 1.0\n",
      "Bldg Type : 5.50092342583e-116\n",
      "House Style : 3.83699518281e-10\n",
      "Roof Style : 1.0\n",
      "Roof Matl : 5.05319650378e-98\n",
      "Exterior 1st : 0.760562242985\n",
      "Exterior 2nd : 1.99365124487e-09\n",
      "Mas Vnr Type : 1.0\n",
      "Foundation : 1.0\n",
      "Heating : 1.0\n",
      "Electrical : 1.0\n",
      "Sale Condition : 1.0\n"
     ]
    }
   ],
   "source": [
    "for (col, pval) in zip(nominal_cats_df.columns, pvals):\n",
    "    print(col, ':', pval)"
   ]
  },
  {
   "cell_type": "code",
   "execution_count": 89,
   "metadata": {
    "collapsed": false,
    "scrolled": true
   },
   "outputs": [
    {
     "data": {
      "text/plain": [
       "Index(['MS SubClass', 'Neighborhood', 'Bldg Type', 'House Style', 'Roof Matl',\n",
       "       'Exterior 2nd'],\n",
       "      dtype='object')"
      ]
     },
     "execution_count": 89,
     "metadata": {},
     "output_type": "execute_result"
    }
   ],
   "source": [
    "nom_cat_pvals = pd.Series(pvals, index=nominal_cats_df.columns)\n",
    "nom_cat_pvals[nom_cat_pvals < .05].index"
   ]
  },
  {
   "cell_type": "code",
   "execution_count": 156,
   "metadata": {
    "collapsed": false
   },
   "outputs": [
    {
     "data": {
      "text/html": [
       "<div>\n",
       "<table border=\"1\" class=\"dataframe\">\n",
       "  <thead>\n",
       "    <tr style=\"text-align: right;\">\n",
       "      <th></th>\n",
       "      <th>MS SubClass</th>\n",
       "      <th>Neighborhood_Blmngtn</th>\n",
       "      <th>Neighborhood_Blueste</th>\n",
       "      <th>Neighborhood_BrDale</th>\n",
       "      <th>Neighborhood_BrkSide</th>\n",
       "      <th>Neighborhood_ClearCr</th>\n",
       "      <th>Neighborhood_CollgCr</th>\n",
       "      <th>Neighborhood_Crawfor</th>\n",
       "      <th>Neighborhood_Edwards</th>\n",
       "      <th>Neighborhood_Gilbert</th>\n",
       "      <th>...</th>\n",
       "      <th>Exterior 2nd_ImStucc</th>\n",
       "      <th>Exterior 2nd_MetalSd</th>\n",
       "      <th>Exterior 2nd_Other</th>\n",
       "      <th>Exterior 2nd_Plywood</th>\n",
       "      <th>Exterior 2nd_PreCast</th>\n",
       "      <th>Exterior 2nd_Stone</th>\n",
       "      <th>Exterior 2nd_Stucco</th>\n",
       "      <th>Exterior 2nd_VinylSd</th>\n",
       "      <th>Exterior 2nd_Wd Sdng</th>\n",
       "      <th>Exterior 2nd_Wd Shng</th>\n",
       "    </tr>\n",
       "  </thead>\n",
       "  <tbody>\n",
       "    <tr>\n",
       "      <th>0</th>\n",
       "      <td>20</td>\n",
       "      <td>0</td>\n",
       "      <td>0</td>\n",
       "      <td>0</td>\n",
       "      <td>0</td>\n",
       "      <td>0</td>\n",
       "      <td>0</td>\n",
       "      <td>0</td>\n",
       "      <td>0</td>\n",
       "      <td>0</td>\n",
       "      <td>...</td>\n",
       "      <td>0</td>\n",
       "      <td>0</td>\n",
       "      <td>0</td>\n",
       "      <td>1</td>\n",
       "      <td>0</td>\n",
       "      <td>0</td>\n",
       "      <td>0</td>\n",
       "      <td>0</td>\n",
       "      <td>0</td>\n",
       "      <td>0</td>\n",
       "    </tr>\n",
       "    <tr>\n",
       "      <th>1</th>\n",
       "      <td>20</td>\n",
       "      <td>0</td>\n",
       "      <td>0</td>\n",
       "      <td>0</td>\n",
       "      <td>0</td>\n",
       "      <td>0</td>\n",
       "      <td>0</td>\n",
       "      <td>0</td>\n",
       "      <td>0</td>\n",
       "      <td>0</td>\n",
       "      <td>...</td>\n",
       "      <td>0</td>\n",
       "      <td>0</td>\n",
       "      <td>0</td>\n",
       "      <td>0</td>\n",
       "      <td>0</td>\n",
       "      <td>0</td>\n",
       "      <td>0</td>\n",
       "      <td>1</td>\n",
       "      <td>0</td>\n",
       "      <td>0</td>\n",
       "    </tr>\n",
       "    <tr>\n",
       "      <th>2</th>\n",
       "      <td>20</td>\n",
       "      <td>0</td>\n",
       "      <td>0</td>\n",
       "      <td>0</td>\n",
       "      <td>0</td>\n",
       "      <td>0</td>\n",
       "      <td>0</td>\n",
       "      <td>0</td>\n",
       "      <td>0</td>\n",
       "      <td>0</td>\n",
       "      <td>...</td>\n",
       "      <td>0</td>\n",
       "      <td>0</td>\n",
       "      <td>0</td>\n",
       "      <td>0</td>\n",
       "      <td>0</td>\n",
       "      <td>0</td>\n",
       "      <td>0</td>\n",
       "      <td>0</td>\n",
       "      <td>1</td>\n",
       "      <td>0</td>\n",
       "    </tr>\n",
       "    <tr>\n",
       "      <th>3</th>\n",
       "      <td>20</td>\n",
       "      <td>0</td>\n",
       "      <td>0</td>\n",
       "      <td>0</td>\n",
       "      <td>0</td>\n",
       "      <td>0</td>\n",
       "      <td>0</td>\n",
       "      <td>0</td>\n",
       "      <td>0</td>\n",
       "      <td>0</td>\n",
       "      <td>...</td>\n",
       "      <td>0</td>\n",
       "      <td>0</td>\n",
       "      <td>0</td>\n",
       "      <td>0</td>\n",
       "      <td>0</td>\n",
       "      <td>0</td>\n",
       "      <td>0</td>\n",
       "      <td>0</td>\n",
       "      <td>0</td>\n",
       "      <td>0</td>\n",
       "    </tr>\n",
       "    <tr>\n",
       "      <th>4</th>\n",
       "      <td>60</td>\n",
       "      <td>0</td>\n",
       "      <td>0</td>\n",
       "      <td>0</td>\n",
       "      <td>0</td>\n",
       "      <td>0</td>\n",
       "      <td>0</td>\n",
       "      <td>0</td>\n",
       "      <td>0</td>\n",
       "      <td>1</td>\n",
       "      <td>...</td>\n",
       "      <td>0</td>\n",
       "      <td>0</td>\n",
       "      <td>0</td>\n",
       "      <td>0</td>\n",
       "      <td>0</td>\n",
       "      <td>0</td>\n",
       "      <td>0</td>\n",
       "      <td>1</td>\n",
       "      <td>0</td>\n",
       "      <td>0</td>\n",
       "    </tr>\n",
       "  </tbody>\n",
       "</table>\n",
       "<p>5 rows × 67 columns</p>\n",
       "</div>"
      ],
      "text/plain": [
       "   MS SubClass  Neighborhood_Blmngtn  Neighborhood_Blueste  \\\n",
       "0           20                     0                     0   \n",
       "1           20                     0                     0   \n",
       "2           20                     0                     0   \n",
       "3           20                     0                     0   \n",
       "4           60                     0                     0   \n",
       "\n",
       "   Neighborhood_BrDale  Neighborhood_BrkSide  Neighborhood_ClearCr  \\\n",
       "0                    0                     0                     0   \n",
       "1                    0                     0                     0   \n",
       "2                    0                     0                     0   \n",
       "3                    0                     0                     0   \n",
       "4                    0                     0                     0   \n",
       "\n",
       "   Neighborhood_CollgCr  Neighborhood_Crawfor  Neighborhood_Edwards  \\\n",
       "0                     0                     0                     0   \n",
       "1                     0                     0                     0   \n",
       "2                     0                     0                     0   \n",
       "3                     0                     0                     0   \n",
       "4                     0                     0                     0   \n",
       "\n",
       "   Neighborhood_Gilbert          ...           Exterior 2nd_ImStucc  \\\n",
       "0                     0          ...                              0   \n",
       "1                     0          ...                              0   \n",
       "2                     0          ...                              0   \n",
       "3                     0          ...                              0   \n",
       "4                     1          ...                              0   \n",
       "\n",
       "   Exterior 2nd_MetalSd  Exterior 2nd_Other  Exterior 2nd_Plywood  \\\n",
       "0                     0                   0                     1   \n",
       "1                     0                   0                     0   \n",
       "2                     0                   0                     0   \n",
       "3                     0                   0                     0   \n",
       "4                     0                   0                     0   \n",
       "\n",
       "   Exterior 2nd_PreCast  Exterior 2nd_Stone  Exterior 2nd_Stucco  \\\n",
       "0                     0                   0                    0   \n",
       "1                     0                   0                    0   \n",
       "2                     0                   0                    0   \n",
       "3                     0                   0                    0   \n",
       "4                     0                   0                    0   \n",
       "\n",
       "   Exterior 2nd_VinylSd  Exterior 2nd_Wd Sdng  Exterior 2nd_Wd Shng  \n",
       "0                     0                     0                     0  \n",
       "1                     1                     0                     0  \n",
       "2                     0                     1                     0  \n",
       "3                     0                     0                     0  \n",
       "4                     1                     0                     0  \n",
       "\n",
       "[5 rows x 67 columns]"
      ]
     },
     "execution_count": 156,
     "metadata": {},
     "output_type": "execute_result"
    }
   ],
   "source": [
    "pd.get_dummies(data[nom_cat_pvals[nom_cat_pvals < .05].index]).head()"
   ]
  },
  {
   "cell_type": "code",
   "execution_count": 157,
   "metadata": {
    "collapsed": false
   },
   "outputs": [
    {
     "name": "stdout",
     "output_type": "stream",
     "text": [
      "<class 'pandas.core.frame.DataFrame'>\n",
      "RangeIndex: 2930 entries, 0 to 2929\n",
      "Data columns (total 67 columns):\n",
      "MS SubClass             2930 non-null int64\n",
      "Neighborhood_Blmngtn    2930 non-null uint8\n",
      "Neighborhood_Blueste    2930 non-null uint8\n",
      "Neighborhood_BrDale     2930 non-null uint8\n",
      "Neighborhood_BrkSide    2930 non-null uint8\n",
      "Neighborhood_ClearCr    2930 non-null uint8\n",
      "Neighborhood_CollgCr    2930 non-null uint8\n",
      "Neighborhood_Crawfor    2930 non-null uint8\n",
      "Neighborhood_Edwards    2930 non-null uint8\n",
      "Neighborhood_Gilbert    2930 non-null uint8\n",
      "Neighborhood_Greens     2930 non-null uint8\n",
      "Neighborhood_GrnHill    2930 non-null uint8\n",
      "Neighborhood_IDOTRR     2930 non-null uint8\n",
      "Neighborhood_Landmrk    2930 non-null uint8\n",
      "Neighborhood_MeadowV    2930 non-null uint8\n",
      "Neighborhood_Mitchel    2930 non-null uint8\n",
      "Neighborhood_NAmes      2930 non-null uint8\n",
      "Neighborhood_NPkVill    2930 non-null uint8\n",
      "Neighborhood_NWAmes     2930 non-null uint8\n",
      "Neighborhood_NoRidge    2930 non-null uint8\n",
      "Neighborhood_NridgHt    2930 non-null uint8\n",
      "Neighborhood_OldTown    2930 non-null uint8\n",
      "Neighborhood_SWISU      2930 non-null uint8\n",
      "Neighborhood_Sawyer     2930 non-null uint8\n",
      "Neighborhood_SawyerW    2930 non-null uint8\n",
      "Neighborhood_Somerst    2930 non-null uint8\n",
      "Neighborhood_StoneBr    2930 non-null uint8\n",
      "Neighborhood_Timber     2930 non-null uint8\n",
      "Neighborhood_Veenker    2930 non-null uint8\n",
      "Bldg Type_1Fam          2930 non-null uint8\n",
      "Bldg Type_2fmCon        2930 non-null uint8\n",
      "Bldg Type_Duplex        2930 non-null uint8\n",
      "Bldg Type_Twnhs         2930 non-null uint8\n",
      "Bldg Type_TwnhsE        2930 non-null uint8\n",
      "House Style_1.5Fin      2930 non-null uint8\n",
      "House Style_1.5Unf      2930 non-null uint8\n",
      "House Style_1Story      2930 non-null uint8\n",
      "House Style_2.5Fin      2930 non-null uint8\n",
      "House Style_2.5Unf      2930 non-null uint8\n",
      "House Style_2Story      2930 non-null uint8\n",
      "House Style_SFoyer      2930 non-null uint8\n",
      "House Style_SLvl        2930 non-null uint8\n",
      "Roof Matl_ClyTile       2930 non-null uint8\n",
      "Roof Matl_CompShg       2930 non-null uint8\n",
      "Roof Matl_Membran       2930 non-null uint8\n",
      "Roof Matl_Metal         2930 non-null uint8\n",
      "Roof Matl_Roll          2930 non-null uint8\n",
      "Roof Matl_Tar&Grv       2930 non-null uint8\n",
      "Roof Matl_WdShake       2930 non-null uint8\n",
      "Roof Matl_WdShngl       2930 non-null uint8\n",
      "Exterior 2nd_AsbShng    2930 non-null uint8\n",
      "Exterior 2nd_AsphShn    2930 non-null uint8\n",
      "Exterior 2nd_Brk Cmn    2930 non-null uint8\n",
      "Exterior 2nd_BrkFace    2930 non-null uint8\n",
      "Exterior 2nd_CBlock     2930 non-null uint8\n",
      "Exterior 2nd_CmentBd    2930 non-null uint8\n",
      "Exterior 2nd_HdBoard    2930 non-null uint8\n",
      "Exterior 2nd_ImStucc    2930 non-null uint8\n",
      "Exterior 2nd_MetalSd    2930 non-null uint8\n",
      "Exterior 2nd_Other      2930 non-null uint8\n",
      "Exterior 2nd_Plywood    2930 non-null uint8\n",
      "Exterior 2nd_PreCast    2930 non-null uint8\n",
      "Exterior 2nd_Stone      2930 non-null uint8\n",
      "Exterior 2nd_Stucco     2930 non-null uint8\n",
      "Exterior 2nd_VinylSd    2930 non-null uint8\n",
      "Exterior 2nd_Wd Sdng    2930 non-null uint8\n",
      "Exterior 2nd_Wd Shng    2930 non-null uint8\n",
      "dtypes: int64(1), uint8(66)\n",
      "memory usage: 211.8 KB\n"
     ]
    }
   ],
   "source": [
    "pd.get_dummies(data[nom_cat_pvals[nom_cat_pvals < .05].index]).info()"
   ]
  },
  {
   "cell_type": "markdown",
   "metadata": {},
   "source": [
    "* `MS SubClass` feature was not transformed to dummies properly\n",
    "  * `MS SubClass` datatype -> from int to object "
   ]
  },
  {
   "cell_type": "code",
   "execution_count": 172,
   "metadata": {
    "collapsed": false
   },
   "outputs": [],
   "source": [
    "data['MS SubClass'] = data['MS SubClass'].apply(lambda x: str(x)).astype(str)"
   ]
  },
  {
   "cell_type": "code",
   "execution_count": 174,
   "metadata": {
    "collapsed": false
   },
   "outputs": [
    {
     "data": {
      "text/html": [
       "<div>\n",
       "<table border=\"1\" class=\"dataframe\">\n",
       "  <thead>\n",
       "    <tr style=\"text-align: right;\">\n",
       "      <th></th>\n",
       "      <th>MS SubClass_120</th>\n",
       "      <th>MS SubClass_150</th>\n",
       "      <th>MS SubClass_160</th>\n",
       "      <th>MS SubClass_180</th>\n",
       "      <th>MS SubClass_190</th>\n",
       "      <th>MS SubClass_20</th>\n",
       "      <th>MS SubClass_30</th>\n",
       "      <th>MS SubClass_40</th>\n",
       "      <th>MS SubClass_45</th>\n",
       "      <th>MS SubClass_50</th>\n",
       "      <th>...</th>\n",
       "      <th>Exterior 2nd_ImStucc</th>\n",
       "      <th>Exterior 2nd_MetalSd</th>\n",
       "      <th>Exterior 2nd_Other</th>\n",
       "      <th>Exterior 2nd_Plywood</th>\n",
       "      <th>Exterior 2nd_PreCast</th>\n",
       "      <th>Exterior 2nd_Stone</th>\n",
       "      <th>Exterior 2nd_Stucco</th>\n",
       "      <th>Exterior 2nd_VinylSd</th>\n",
       "      <th>Exterior 2nd_Wd Sdng</th>\n",
       "      <th>Exterior 2nd_Wd Shng</th>\n",
       "    </tr>\n",
       "  </thead>\n",
       "  <tbody>\n",
       "    <tr>\n",
       "      <th>0</th>\n",
       "      <td>0</td>\n",
       "      <td>0</td>\n",
       "      <td>0</td>\n",
       "      <td>0</td>\n",
       "      <td>0</td>\n",
       "      <td>1</td>\n",
       "      <td>0</td>\n",
       "      <td>0</td>\n",
       "      <td>0</td>\n",
       "      <td>0</td>\n",
       "      <td>...</td>\n",
       "      <td>0</td>\n",
       "      <td>0</td>\n",
       "      <td>0</td>\n",
       "      <td>1</td>\n",
       "      <td>0</td>\n",
       "      <td>0</td>\n",
       "      <td>0</td>\n",
       "      <td>0</td>\n",
       "      <td>0</td>\n",
       "      <td>0</td>\n",
       "    </tr>\n",
       "    <tr>\n",
       "      <th>1</th>\n",
       "      <td>0</td>\n",
       "      <td>0</td>\n",
       "      <td>0</td>\n",
       "      <td>0</td>\n",
       "      <td>0</td>\n",
       "      <td>1</td>\n",
       "      <td>0</td>\n",
       "      <td>0</td>\n",
       "      <td>0</td>\n",
       "      <td>0</td>\n",
       "      <td>...</td>\n",
       "      <td>0</td>\n",
       "      <td>0</td>\n",
       "      <td>0</td>\n",
       "      <td>0</td>\n",
       "      <td>0</td>\n",
       "      <td>0</td>\n",
       "      <td>0</td>\n",
       "      <td>1</td>\n",
       "      <td>0</td>\n",
       "      <td>0</td>\n",
       "    </tr>\n",
       "    <tr>\n",
       "      <th>2</th>\n",
       "      <td>0</td>\n",
       "      <td>0</td>\n",
       "      <td>0</td>\n",
       "      <td>0</td>\n",
       "      <td>0</td>\n",
       "      <td>1</td>\n",
       "      <td>0</td>\n",
       "      <td>0</td>\n",
       "      <td>0</td>\n",
       "      <td>0</td>\n",
       "      <td>...</td>\n",
       "      <td>0</td>\n",
       "      <td>0</td>\n",
       "      <td>0</td>\n",
       "      <td>0</td>\n",
       "      <td>0</td>\n",
       "      <td>0</td>\n",
       "      <td>0</td>\n",
       "      <td>0</td>\n",
       "      <td>1</td>\n",
       "      <td>0</td>\n",
       "    </tr>\n",
       "    <tr>\n",
       "      <th>3</th>\n",
       "      <td>0</td>\n",
       "      <td>0</td>\n",
       "      <td>0</td>\n",
       "      <td>0</td>\n",
       "      <td>0</td>\n",
       "      <td>1</td>\n",
       "      <td>0</td>\n",
       "      <td>0</td>\n",
       "      <td>0</td>\n",
       "      <td>0</td>\n",
       "      <td>...</td>\n",
       "      <td>0</td>\n",
       "      <td>0</td>\n",
       "      <td>0</td>\n",
       "      <td>0</td>\n",
       "      <td>0</td>\n",
       "      <td>0</td>\n",
       "      <td>0</td>\n",
       "      <td>0</td>\n",
       "      <td>0</td>\n",
       "      <td>0</td>\n",
       "    </tr>\n",
       "    <tr>\n",
       "      <th>4</th>\n",
       "      <td>0</td>\n",
       "      <td>0</td>\n",
       "      <td>0</td>\n",
       "      <td>0</td>\n",
       "      <td>0</td>\n",
       "      <td>0</td>\n",
       "      <td>0</td>\n",
       "      <td>0</td>\n",
       "      <td>0</td>\n",
       "      <td>0</td>\n",
       "      <td>...</td>\n",
       "      <td>0</td>\n",
       "      <td>0</td>\n",
       "      <td>0</td>\n",
       "      <td>0</td>\n",
       "      <td>0</td>\n",
       "      <td>0</td>\n",
       "      <td>0</td>\n",
       "      <td>1</td>\n",
       "      <td>0</td>\n",
       "      <td>0</td>\n",
       "    </tr>\n",
       "  </tbody>\n",
       "</table>\n",
       "<p>5 rows × 82 columns</p>\n",
       "</div>"
      ],
      "text/plain": [
       "   MS SubClass_120  MS SubClass_150  MS SubClass_160  MS SubClass_180  \\\n",
       "0                0                0                0                0   \n",
       "1                0                0                0                0   \n",
       "2                0                0                0                0   \n",
       "3                0                0                0                0   \n",
       "4                0                0                0                0   \n",
       "\n",
       "   MS SubClass_190  MS SubClass_20  MS SubClass_30  MS SubClass_40  \\\n",
       "0                0               1               0               0   \n",
       "1                0               1               0               0   \n",
       "2                0               1               0               0   \n",
       "3                0               1               0               0   \n",
       "4                0               0               0               0   \n",
       "\n",
       "   MS SubClass_45  MS SubClass_50          ...           Exterior 2nd_ImStucc  \\\n",
       "0               0               0          ...                              0   \n",
       "1               0               0          ...                              0   \n",
       "2               0               0          ...                              0   \n",
       "3               0               0          ...                              0   \n",
       "4               0               0          ...                              0   \n",
       "\n",
       "   Exterior 2nd_MetalSd  Exterior 2nd_Other  Exterior 2nd_Plywood  \\\n",
       "0                     0                   0                     1   \n",
       "1                     0                   0                     0   \n",
       "2                     0                   0                     0   \n",
       "3                     0                   0                     0   \n",
       "4                     0                   0                     0   \n",
       "\n",
       "   Exterior 2nd_PreCast  Exterior 2nd_Stone  Exterior 2nd_Stucco  \\\n",
       "0                     0                   0                    0   \n",
       "1                     0                   0                    0   \n",
       "2                     0                   0                    0   \n",
       "3                     0                   0                    0   \n",
       "4                     0                   0                    0   \n",
       "\n",
       "   Exterior 2nd_VinylSd  Exterior 2nd_Wd Sdng  Exterior 2nd_Wd Shng  \n",
       "0                     0                     0                     0  \n",
       "1                     1                     0                     0  \n",
       "2                     0                     1                     0  \n",
       "3                     0                     0                     0  \n",
       "4                     1                     0                     0  \n",
       "\n",
       "[5 rows x 82 columns]"
      ]
     },
     "execution_count": 174,
     "metadata": {},
     "output_type": "execute_result"
    }
   ],
   "source": [
    "pd.get_dummies(data[nom_cat_pvals[nom_cat_pvals < .05].index]).head()"
   ]
  },
  {
   "cell_type": "code",
   "execution_count": null,
   "metadata": {
    "collapsed": true
   },
   "outputs": [],
   "source": []
  },
  {
   "cell_type": "code",
   "execution_count": 175,
   "metadata": {
    "collapsed": false
   },
   "outputs": [],
   "source": [
    "dataset_r2_873_add_cat = pd.concat([dataset_r2_873,\n",
    "                       pd.get_dummies(data[nom_cat_pvals[nom_cat_pvals < .05].index])],\n",
    "                       axis=1)"
   ]
  },
  {
   "cell_type": "code",
   "execution_count": 176,
   "metadata": {
    "collapsed": false
   },
   "outputs": [
    {
     "data": {
      "text/plain": [
       "0.88535791580010714"
      ]
     },
     "execution_count": 176,
     "metadata": {},
     "output_type": "execute_result"
    }
   ],
   "source": [
    "train_and_test(dataset_r2_873_add_cat.iloc[:1460], \n",
    "               dataset_r2_873_add_cat.iloc[1460:], \n",
    "               k=5)"
   ]
  },
  {
   "cell_type": "code",
   "execution_count": null,
   "metadata": {
    "collapsed": true
   },
   "outputs": [],
   "source": []
  },
  {
   "cell_type": "code",
   "execution_count": 177,
   "metadata": {
    "collapsed": false
   },
   "outputs": [],
   "source": [
    "dup_check = {}\n",
    "score_records = []\n",
    "\n",
    "for i in range(1000):\n",
    "    \n",
    "    nom_cat_features = nom_cat_pvals[nom_cat_pvals < .05].index.tolist()\n",
    "    np.random.shuffle(nom_cat_features)\n",
    "    \n",
    "    random_count = np.random.randint(1, 6)\n",
    "    nom_cat_features_chosen = nom_cat_features[:random_count]\n",
    "    \n",
    "    # duplicated combination check\n",
    "    is_dup = 0\n",
    "    for k in dup_check.keys():\n",
    "        if set(k) == set(nom_cat_features_chosen):\n",
    "            is_dup = 1\n",
    "            break\n",
    "    \n",
    "    \n",
    "    if is_dup:\n",
    "        \n",
    "        pass\n",
    "    \n",
    "    else:\n",
    "        \n",
    "        dup_check[tuple(nom_cat_features_chosen)] = 1\n",
    "        \n",
    "        concat_df = pd.concat([dataset_r2_873,\n",
    "                   pd.get_dummies(data[nom_cat_features_chosen])],\n",
    "                   axis=1)\n",
    "\n",
    "        score = train_and_test(concat_df.iloc[:1460], \n",
    "                               concat_df.iloc[1460:], \n",
    "                               k=5)\n",
    "\n",
    "        #print(nom_cat_features_chosen, ':', score)\n",
    "        nom_cat_features_chosen.insert(0, score)\n",
    "        score_records.append(nom_cat_features_chosen)"
   ]
  },
  {
   "cell_type": "code",
   "execution_count": 178,
   "metadata": {
    "collapsed": false,
    "scrolled": true
   },
   "outputs": [
    {
     "data": {
      "text/plain": [
       "[0.89385546111043157, 'Bldg Type', 'House Style', 'Neighborhood']"
      ]
     },
     "execution_count": 178,
     "metadata": {},
     "output_type": "execute_result"
    }
   ],
   "source": [
    "score_records.sort(key=lambda x: x[0], reverse=True)\n",
    "score_records[0]"
   ]
  },
  {
   "cell_type": "code",
   "execution_count": null,
   "metadata": {
    "collapsed": true
   },
   "outputs": [],
   "source": []
  },
  {
   "cell_type": "markdown",
   "metadata": {},
   "source": [
    "### R2 via KFold(5) CV : improved\n",
    "`0.873` ---> `0.894` when using the following category features as dummies:\n",
    "* ['Neighborhood', 'Bldg Type', 'House Style']"
   ]
  },
  {
   "cell_type": "code",
   "execution_count": 179,
   "metadata": {
    "collapsed": false
   },
   "outputs": [
    {
     "data": {
      "text/html": [
       "<div>\n",
       "<table border=\"1\" class=\"dataframe\">\n",
       "  <thead>\n",
       "    <tr style=\"text-align: right;\">\n",
       "      <th></th>\n",
       "      <th>bsmt_quality_area1_mult2</th>\n",
       "      <th>Overall Qual</th>\n",
       "      <th>liv_area_quality_overall_mult</th>\n",
       "      <th>liv_area_quality_overall_mult_log</th>\n",
       "      <th>bsmt_quality_area1_mult2_log</th>\n",
       "      <th>Overall Qual_log</th>\n",
       "      <th>Exter Qual Mapped</th>\n",
       "      <th>Bsmt Qual Mapped</th>\n",
       "      <th>Gr Liv Area</th>\n",
       "      <th>Exter Qual Mapped_log</th>\n",
       "      <th>...</th>\n",
       "      <th>Bldg Type_Twnhs</th>\n",
       "      <th>Bldg Type_TwnhsE</th>\n",
       "      <th>House Style_1.5Fin</th>\n",
       "      <th>House Style_1.5Unf</th>\n",
       "      <th>House Style_1Story</th>\n",
       "      <th>House Style_2.5Fin</th>\n",
       "      <th>House Style_2.5Unf</th>\n",
       "      <th>House Style_2Story</th>\n",
       "      <th>House Style_SFoyer</th>\n",
       "      <th>House Style_SLvl</th>\n",
       "    </tr>\n",
       "  </thead>\n",
       "  <tbody>\n",
       "    <tr>\n",
       "      <th>0</th>\n",
       "      <td>0.201776</td>\n",
       "      <td>-0.076854</td>\n",
       "      <td>0.066789</td>\n",
       "      <td>1.802829</td>\n",
       "      <td>1.824836</td>\n",
       "      <td>1.778868</td>\n",
       "      <td>-0.678902</td>\n",
       "      <td>-0.798872</td>\n",
       "      <td>0.352196</td>\n",
       "      <td>1.671680</td>\n",
       "      <td>...</td>\n",
       "      <td>0</td>\n",
       "      <td>0</td>\n",
       "      <td>0</td>\n",
       "      <td>0</td>\n",
       "      <td>1</td>\n",
       "      <td>0</td>\n",
       "      <td>0</td>\n",
       "      <td>0</td>\n",
       "      <td>0</td>\n",
       "      <td>0</td>\n",
       "    </tr>\n",
       "    <tr>\n",
       "      <th>1</th>\n",
       "      <td>-0.566889</td>\n",
       "      <td>-0.787019</td>\n",
       "      <td>-1.116392</td>\n",
       "      <td>1.585884</td>\n",
       "      <td>1.692512</td>\n",
       "      <td>1.651152</td>\n",
       "      <td>-0.678902</td>\n",
       "      <td>-0.798872</td>\n",
       "      <td>-1.269476</td>\n",
       "      <td>1.671680</td>\n",
       "      <td>...</td>\n",
       "      <td>0</td>\n",
       "      <td>0</td>\n",
       "      <td>0</td>\n",
       "      <td>0</td>\n",
       "      <td>1</td>\n",
       "      <td>0</td>\n",
       "      <td>0</td>\n",
       "      <td>0</td>\n",
       "      <td>0</td>\n",
       "      <td>0</td>\n",
       "    </tr>\n",
       "    <tr>\n",
       "      <th>2</th>\n",
       "      <td>0.048869</td>\n",
       "      <td>-0.076854</td>\n",
       "      <td>-0.254198</td>\n",
       "      <td>1.748469</td>\n",
       "      <td>1.799871</td>\n",
       "      <td>1.778868</td>\n",
       "      <td>-0.678902</td>\n",
       "      <td>-0.798872</td>\n",
       "      <td>-0.345550</td>\n",
       "      <td>1.671680</td>\n",
       "      <td>...</td>\n",
       "      <td>0</td>\n",
       "      <td>0</td>\n",
       "      <td>0</td>\n",
       "      <td>0</td>\n",
       "      <td>1</td>\n",
       "      <td>0</td>\n",
       "      <td>0</td>\n",
       "      <td>0</td>\n",
       "      <td>0</td>\n",
       "      <td>0</td>\n",
       "    </tr>\n",
       "    <tr>\n",
       "      <th>3</th>\n",
       "      <td>1.124724</td>\n",
       "      <td>0.633312</td>\n",
       "      <td>1.072209</td>\n",
       "      <td>1.956173</td>\n",
       "      <td>1.963571</td>\n",
       "      <td>1.892104</td>\n",
       "      <td>0.989780</td>\n",
       "      <td>-0.798872</td>\n",
       "      <td>1.320933</td>\n",
       "      <td>1.944449</td>\n",
       "      <td>...</td>\n",
       "      <td>0</td>\n",
       "      <td>0</td>\n",
       "      <td>0</td>\n",
       "      <td>0</td>\n",
       "      <td>1</td>\n",
       "      <td>0</td>\n",
       "      <td>0</td>\n",
       "      <td>0</td>\n",
       "      <td>0</td>\n",
       "      <td>0</td>\n",
       "    </tr>\n",
       "    <tr>\n",
       "      <th>4</th>\n",
       "      <td>-0.077405</td>\n",
       "      <td>-0.787019</td>\n",
       "      <td>-0.205796</td>\n",
       "      <td>1.756858</td>\n",
       "      <td>1.778775</td>\n",
       "      <td>1.651152</td>\n",
       "      <td>-0.678902</td>\n",
       "      <td>0.646423</td>\n",
       "      <td>0.294584</td>\n",
       "      <td>1.671680</td>\n",
       "      <td>...</td>\n",
       "      <td>0</td>\n",
       "      <td>0</td>\n",
       "      <td>0</td>\n",
       "      <td>0</td>\n",
       "      <td>0</td>\n",
       "      <td>0</td>\n",
       "      <td>0</td>\n",
       "      <td>1</td>\n",
       "      <td>0</td>\n",
       "      <td>0</td>\n",
       "    </tr>\n",
       "  </tbody>\n",
       "</table>\n",
       "<p>5 rows × 57 columns</p>\n",
       "</div>"
      ],
      "text/plain": [
       "   bsmt_quality_area1_mult2  Overall Qual  liv_area_quality_overall_mult  \\\n",
       "0                  0.201776     -0.076854                       0.066789   \n",
       "1                 -0.566889     -0.787019                      -1.116392   \n",
       "2                  0.048869     -0.076854                      -0.254198   \n",
       "3                  1.124724      0.633312                       1.072209   \n",
       "4                 -0.077405     -0.787019                      -0.205796   \n",
       "\n",
       "   liv_area_quality_overall_mult_log  bsmt_quality_area1_mult2_log  \\\n",
       "0                           1.802829                      1.824836   \n",
       "1                           1.585884                      1.692512   \n",
       "2                           1.748469                      1.799871   \n",
       "3                           1.956173                      1.963571   \n",
       "4                           1.756858                      1.778775   \n",
       "\n",
       "   Overall Qual_log  Exter Qual Mapped  Bsmt Qual Mapped  Gr Liv Area  \\\n",
       "0          1.778868          -0.678902         -0.798872     0.352196   \n",
       "1          1.651152          -0.678902         -0.798872    -1.269476   \n",
       "2          1.778868          -0.678902         -0.798872    -0.345550   \n",
       "3          1.892104           0.989780         -0.798872     1.320933   \n",
       "4          1.651152          -0.678902          0.646423     0.294584   \n",
       "\n",
       "   Exter Qual Mapped_log        ...         Bldg Type_Twnhs  Bldg Type_TwnhsE  \\\n",
       "0               1.671680        ...                       0                 0   \n",
       "1               1.671680        ...                       0                 0   \n",
       "2               1.671680        ...                       0                 0   \n",
       "3               1.944449        ...                       0                 0   \n",
       "4               1.671680        ...                       0                 0   \n",
       "\n",
       "   House Style_1.5Fin  House Style_1.5Unf  House Style_1Story  \\\n",
       "0                   0                   0                   1   \n",
       "1                   0                   0                   1   \n",
       "2                   0                   0                   1   \n",
       "3                   0                   0                   1   \n",
       "4                   0                   0                   0   \n",
       "\n",
       "   House Style_2.5Fin  House Style_2.5Unf  House Style_2Story  \\\n",
       "0                   0                   0                   0   \n",
       "1                   0                   0                   0   \n",
       "2                   0                   0                   0   \n",
       "3                   0                   0                   0   \n",
       "4                   0                   0                   1   \n",
       "\n",
       "   House Style_SFoyer  House Style_SLvl  \n",
       "0                   0                 0  \n",
       "1                   0                 0  \n",
       "2                   0                 0  \n",
       "3                   0                 0  \n",
       "4                   0                 0  \n",
       "\n",
       "[5 rows x 57 columns]"
      ]
     },
     "execution_count": 179,
     "metadata": {},
     "output_type": "execute_result"
    }
   ],
   "source": [
    "final_dataset = concat_df = pd.concat([dataset_r2_873,\n",
    "                   pd.get_dummies(data[['MS SubClass', 'Bldg Type', 'House Style']])],\n",
    "                   axis=1)\n",
    "final_dataset.head()"
   ]
  },
  {
   "cell_type": "code",
   "execution_count": null,
   "metadata": {
    "collapsed": true
   },
   "outputs": [],
   "source": []
  },
  {
   "cell_type": "markdown",
   "metadata": {},
   "source": [
    "## Further Step 3.\n",
    "Pick meaningful & powerful columns from dummies!"
   ]
  },
  {
   "cell_type": "code",
   "execution_count": 180,
   "metadata": {
    "collapsed": false
   },
   "outputs": [
    {
     "name": "stdout",
     "output_type": "stream",
     "text": [
      "['NAmes' 'Gilbert' 'StoneBr' 'NWAmes' 'Somerst' 'BrDale' 'NPkVill'\n",
      " 'NridgHt' 'Blmngtn' 'NoRidge' 'SawyerW' 'Sawyer' 'Greens' 'BrkSide'\n",
      " 'OldTown' 'IDOTRR' 'ClearCr' 'SWISU' 'Edwards' 'CollgCr' 'Crawfor'\n",
      " 'Blueste' 'Mitchel' 'Timber' 'MeadowV' 'Veenker' 'GrnHill' 'Landmrk']\n",
      "['1Fam' 'TwnhsE' 'Twnhs' 'Duplex' '2fmCon']\n",
      "['1Story' '2Story' '1.5Fin' 'SFoyer' 'SLvl' '2.5Unf' '1.5Unf' '2.5Fin']\n"
     ]
    }
   ],
   "source": [
    "for c in data[['Neighborhood', 'Bldg Type', 'House Style']].columns:\n",
    "    print(data[c].unique())"
   ]
  },
  {
   "cell_type": "code",
   "execution_count": null,
   "metadata": {
    "collapsed": true
   },
   "outputs": [],
   "source": []
  },
  {
   "cell_type": "code",
   "execution_count": null,
   "metadata": {
    "collapsed": true
   },
   "outputs": [],
   "source": []
  },
  {
   "cell_type": "markdown",
   "metadata": {},
   "source": [
    "# Final score (r^2 / KFold=5) : `0.894`\n",
    "### Selected features \n",
    "**Numerical**<br>\n",
    "scaled<br>\n",
    "`28` features (`28` columns)\n",
    "* ['bsmt_quality_area1_mult2', 'Overall Qual', 'liv_area_quality_overall_mult', 'liv_area_quality_overall_mult_log', 'bsmt_quality_area1_mult2_log', 'Overall Qual_log', 'Exter Qual Mapped', 'Bsmt Qual Mapped', 'Gr Liv Area', 'Exter Qual Mapped_log', 'Kitchen Qual Mapped', 'Gr Liv Area_log', 'Total Bsmt SF', 'Bsmt Qual Mapped_log', 'compound_bsmt_score_add', 'Kitchen Qual Mapped_log', 'Garage Cars', 'Garage Area', '1st Flr SF', 'Overall Qual_cube', 'Total Bsmt SF_log', 'Garage Area_log', '1st Flr SF_log', 'Garage Cars_log', 'compound_bsmt_score_add_log', 'house_age1_log', 'Bsmt Qual Mapped_cube', 'Exter Qual Mapped_cube']<br>\n",
    "\n",
    "**Categorical**<br>\n",
    "one-hot encode (dummies)<br>\n",
    "`4` features (`54` columns)\n",
    "* ['MS SubClass', 'Neighborhood', 'Bldg Type', 'House Style']\n",
    "\n",
    "**Target**<br>\n",
    "`np.log('SalePrice')`\n",
    "\n",
    "### And more ...\n",
    "* If we exclude extreme values (outliers) from dataset, we can possibly get a better score.\n",
    "* However, finding/excluding outlier is out of the scope at the current course - we will try later."
   ]
  },
  {
   "cell_type": "code",
   "execution_count": null,
   "metadata": {
    "collapsed": true
   },
   "outputs": [],
   "source": []
  }
 ],
 "metadata": {
  "anaconda-cloud": {},
  "kernelspec": {
   "display_name": "Python [default]",
   "language": "python",
   "name": "python3"
  },
  "language_info": {
   "codemirror_mode": {
    "name": "ipython",
    "version": 3
   },
   "file_extension": ".py",
   "mimetype": "text/x-python",
   "name": "python",
   "nbconvert_exporter": "python",
   "pygments_lexer": "ipython3",
   "version": "3.5.4"
  }
 },
 "nbformat": 4,
 "nbformat_minor": 2
}
