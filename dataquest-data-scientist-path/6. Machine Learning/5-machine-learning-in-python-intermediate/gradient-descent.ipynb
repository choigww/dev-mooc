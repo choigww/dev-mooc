{
 "cells": [
  {
   "cell_type": "markdown",
   "metadata": {},
   "source": [
    "# Gradient descent\n",
    "\n",
    "## Introduction to the data\n",
    "\n",
    "We have a dataset `pga.csv` containing professional golfers' driving statistics in two columns, `accuracy` and `distance`. Accuracy is measured as the percentage of fairways hit over many drives. Distances is measured as the average drive distance, in yards. Our goal is to predict accuracy using distance. In golf, it's expected that the further someone hits the ball the less accurate they will be. Lets see if this holds up.<br>\n",
    "\n",
    "For many machine learning algorithms **it's important to scale, or normalize, the data before using it**. Here we have \n",
    "* `distance`, measured in yards, \n",
    "* `accuracy`, measured in percentages. \n",
    "\n",
    "These two fields are **on very different scales** which can **produce bias into learning algorithms**. Many algorithms compute the Eucilidean Distance between two observations and if one of the features is vastly larger than another, the distance will be biased towards that particular feature.\n",
    "* To normalize the data, for each value, subtract each the mean and then divide by the standard deviation.\n",
    "\n",
    "After normalizing the data, we plot the data to get a visual sense of the data.\n"
   ]
  },
  {
   "cell_type": "code",
   "execution_count": 2,
   "metadata": {
    "scrolled": false
   },
   "outputs": [
    {
     "name": "stdout",
     "output_type": "stream",
     "text": [
      "   distance  accuracy\n",
      "0  0.314379 -0.707727\n",
      "1  1.693777 -1.586669\n",
      "2 -0.059695 -0.176699\n",
      "3 -0.574047  0.372640\n",
      "4  1.343083 -1.934584\n"
     ]
    },
    {
     "data": {
      "image/png": "[encoded data removed]",
      "text/plain": [
       "<matplotlib.figure.Figure at 0x1103ba630>"
      ]
     },
     "metadata": {},
     "output_type": "display_data"
    }
   ],
   "source": [
    "import pandas\n",
    "import matplotlib.pyplot as plt\n",
    "\n",
    "# Read data from csv\n",
    "pga = pandas.read_csv(\"data/pga.csv\")\n",
    "\n",
    "# Normalize the data\n",
    "pga.distance = (pga.distance - pga.distance.mean()) / pga.distance.std()\n",
    "pga.accuracy = (pga.accuracy - pga.accuracy.mean()) / pga.accuracy.std()\n",
    "print(pga.head())\n",
    "\n",
    "plt.scatter(pga.distance, pga.accuracy)\n",
    "plt.xlabel('normalized distance')\n",
    "plt.ylabel('normalized accuracy')\n",
    "plt.show()"
   ]
  },
  {
   "cell_type": "code",
   "execution_count": null,
   "metadata": {},
   "outputs": [],
   "source": []
  },
  {
   "cell_type": "markdown",
   "metadata": {},
   "source": [
    "## Linear model\n",
    "\n",
    "From this plot, the data looks linear with a negative slope, lower accuracy with higher distance. We can use a linear model, as shown in previous missions, to model this data. This model is written as \n",
    "\n",
    "$$\\text{accuracy}_i=\\theta_{1}\\text{distance}_{i}+\\theta_0+\\epsilon_i$$\n",
    "\n",
    "where θ's are coefficients and ϵ are error terms. To start, lets use `sklearn`'s `LinearRegression` class to estimate a linear model."
   ]
  },
  {
   "cell_type": "code",
   "execution_count": 4,
   "metadata": {},
   "outputs": [
    {
     "name": "stdout",
     "output_type": "stream",
     "text": [
      "Shape of the series: (197,)\n",
      "Shape with newaxis: (197, 1)\n"
     ]
    }
   ],
   "source": [
    "from sklearn.linear_model import LinearRegression\n",
    "import numpy as np\n",
    "\n",
    "# We can add a dimension to an array by using np.newaxis\n",
    "print(\"Shape of the series:\", pga.distance.shape)\n",
    "print(\"Shape with newaxis:\", pga.distance[:, np.newaxis].shape)\n",
    "\n",
    "# The X variable in LinearRegression.fit() must have 2 dimensions\n",
    "X = pga.distance[:, np.newaxis]\n",
    "y = pga.accuracy\n",
    "\n",
    "lr = LinearRegression()\n",
    "lr.fit(X, y)\n",
    "theta1 = lr.coef_"
   ]
  },
  {
   "cell_type": "code",
   "execution_count": 5,
   "metadata": {},
   "outputs": [
    {
     "data": {
      "text/plain": [
       "array([-0.60759882])"
      ]
     },
     "execution_count": 5,
     "metadata": {},
     "output_type": "execute_result"
    }
   ],
   "source": [
    "theta1"
   ]
  },
  {
   "cell_type": "code",
   "execution_count": null,
   "metadata": {},
   "outputs": [],
   "source": []
  },
  {
   "cell_type": "markdown",
   "metadata": {},
   "source": [
    "## Cost function, introduction\n",
    "\n",
    "We utilized a pre-existing library `sklearn` to estimate the coefficients of our linear model, using least squares. The least squares method can effectively fit linear models since it only requires matrix algebra and provides deterministic estimates of the coefficients. Least squares is a method which directly minimized the sum of square error in a model algebraically. Often times we have too much data to fit into memory and we can't use least squares.<br>\n",
    "\n",
    "Gradient descent is a general method that can be used to estimate coefficents of nearly any model, including linear models. At it's core, gradient descent minimizes the residuals in the estimated model by updating each coefficent based on it's gradient.<br>\n",
    "\n",
    "To start we must understand cost functions. Most cost functions measure the difference between a model predictions and it's corresponding observations with the coefficients as parameters. Lets say our model is\n",
    "\n",
    "$$h_{\\theta}(x)=\\theta_{1}x+\\theta_{0}$$\n",
    "\n",
    "The cost function is then defined as,\n",
    "\n",
    "$$J(\\theta_0, \\theta_1) = \\dfrac{1}{2m} \\sum_{i=1}^m (h_{\\theta}(x_i) - y_i)^2$$\n",
    "\n",
    "The cost here is one half the average difference between our prediction and observation squared. As we change the coefficients of the model this cost changes. During modeling we will randomly choose the coefficients and update them intelligently to minimize this cost."
   ]
  },
  {
   "cell_type": "code",
   "execution_count": 6,
   "metadata": {},
   "outputs": [
    {
     "name": "stdout",
     "output_type": "stream",
     "text": [
      "1.5994384226\n"
     ]
    }
   ],
   "source": [
    "# The cost function of a single variable linear model\n",
    "def cost(theta0, theta1, x, y):\n",
    "    # Initialize cost\n",
    "    J = 0\n",
    "    # The number of observations\n",
    "    m = len(x)\n",
    "    # Loop through each observation\n",
    "    for i in range(m):\n",
    "        # Compute the hypothesis \n",
    "        h = theta1 * x[i] + theta0\n",
    "        # Add to cost\n",
    "        J += (h - y[i])**2\n",
    "    # Average and normalize cost\n",
    "    J /= (2*m)\n",
    "    return J\n",
    "\n",
    "# The cost for theta0=0 and theta1=1\n",
    "print(cost(0, 1, pga.distance, pga.accuracy))\n",
    "\n",
    "theta0 = 100\n",
    "theta1s = np.linspace(-3,2,100)"
   ]
  },
  {
   "cell_type": "code",
   "execution_count": 7,
   "metadata": {},
   "outputs": [],
   "source": [
    "costs = [cost(theta0, th1, pga.distance, pga.accuracy)\\\n",
    "        for th1 in theta1s]"
   ]
  },
  {
   "cell_type": "code",
   "execution_count": 8,
   "metadata": {},
   "outputs": [
    {
     "data": {
      "image/png": "[encoded data removed]",
      "text/plain": [
       "<matplotlib.figure.Figure at 0x11451fe48>"
      ]
     },
     "metadata": {},
     "output_type": "display_data"
    }
   ],
   "source": [
    "import matplotlib.pyplot as plt\n",
    "%matplotlib inline\n",
    "\n",
    "plt.plot(theta1s, costs)\n",
    "plt.show()"
   ]
  },
  {
   "cell_type": "code",
   "execution_count": null,
   "metadata": {},
   "outputs": [],
   "source": []
  },
  {
   "cell_type": "code",
   "execution_count": null,
   "metadata": {},
   "outputs": [],
   "source": []
  },
  {
   "cell_type": "code",
   "execution_count": null,
   "metadata": {},
   "outputs": [],
   "source": []
  },
  {
   "cell_type": "code",
   "execution_count": null,
   "metadata": {},
   "outputs": [],
   "source": []
  },
  {
   "cell_type": "code",
   "execution_count": null,
   "metadata": {},
   "outputs": [],
   "source": []
  }
 ],
 "metadata": {
  "kernelspec": {
   "display_name": "Python 3",
   "language": "python",
   "name": "python3"
  },
  "language_info": {
   "codemirror_mode": {
    "name": "ipython",
    "version": 3
   },
   "file_extension": ".py",
   "mimetype": "text/x-python",
   "name": "python",
   "nbconvert_exporter": "python",
   "pygments_lexer": "ipython3",
   "version": "3.6.2"
  }
 },
 "nbformat": 4,
 "nbformat_minor": 2
}
