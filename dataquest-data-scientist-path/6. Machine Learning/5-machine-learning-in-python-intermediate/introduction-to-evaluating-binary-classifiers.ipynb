{
 "cells": [
  {
   "cell_type": "markdown",
   "metadata": {},
   "source": [
    "# Introduction to evaluating binary classifiers\n",
    "\n",
    "## Introduction to the Data\n",
    "\n",
    "In the previous mission, we learned about classification, logistic regression, and how to use scikit-learn to fit a logistic regression model to a dataset on graduate school admissions. We'll continue to work with the dataset, which contains data on 644 applications with the following columns:\n",
    "\n",
    "* `gre` - applicant's score on the Graduate Record Exam, a generalized test for prospective graduate students.\n",
    "  * Score ranges from 200 to 800.\n",
    "* `gpa` - college grade point average.\n",
    "  * Continuous between 0.0 and 4.0.\n",
    "* `admit` - binary value\n",
    "  * Binary value, 0 or 1, where 1 means the applicant was admitted to the program and 0 means the applicant was rejected.\n",
    "\n",
    "Here's a preview of the dataset:"
   ]
  },
  {
   "cell_type": "code",
   "execution_count": 1,
   "metadata": {},
   "outputs": [],
   "source": [
    "import pandas as pd\n",
    "import matplotlib.pyplot as plt\n",
    "from sklearn.linear_model import LogisticRegression"
   ]
  },
  {
   "cell_type": "code",
   "execution_count": 2,
   "metadata": {},
   "outputs": [
    {
     "data": {
      "text/plain": [
       "LogisticRegression(C=1.0, class_weight=None, dual=False, fit_intercept=True,\n",
       "          intercept_scaling=1, max_iter=100, multi_class='ovr', n_jobs=1,\n",
       "          penalty='l2', random_state=None, solver='liblinear', tol=0.0001,\n",
       "          verbose=0, warm_start=False)"
      ]
     },
     "execution_count": 2,
     "metadata": {},
     "output_type": "execute_result"
    }
   ],
   "source": [
    "admissions = pd.read_csv('data/admissions.csv')\n",
    "model = LogisticRegression()\n",
    "model.fit(admissions[['gpa']], admissions['admit'])"
   ]
  },
  {
   "cell_type": "code",
   "execution_count": 3,
   "metadata": {},
   "outputs": [
    {
     "data": {
      "text/html": [
       "<div>\n",
       "<style scoped>\n",
       "    .dataframe tbody tr th:only-of-type {\n",
       "        vertical-align: middle;\n",
       "    }\n",
       "\n",
       "    .dataframe tbody tr th {\n",
       "        vertical-align: top;\n",
       "    }\n",
       "\n",
       "    .dataframe thead th {\n",
       "        text-align: right;\n",
       "    }\n",
       "</style>\n",
       "<table border=\"1\" class=\"dataframe\">\n",
       "  <thead>\n",
       "    <tr style=\"text-align: right;\">\n",
       "      <th></th>\n",
       "      <th>admit</th>\n",
       "      <th>gpa</th>\n",
       "      <th>gre</th>\n",
       "    </tr>\n",
       "  </thead>\n",
       "  <tbody>\n",
       "    <tr>\n",
       "      <th>0</th>\n",
       "      <td>0</td>\n",
       "      <td>3.177277</td>\n",
       "      <td>594.102992</td>\n",
       "    </tr>\n",
       "    <tr>\n",
       "      <th>1</th>\n",
       "      <td>0</td>\n",
       "      <td>3.412655</td>\n",
       "      <td>631.528607</td>\n",
       "    </tr>\n",
       "    <tr>\n",
       "      <th>2</th>\n",
       "      <td>0</td>\n",
       "      <td>2.728097</td>\n",
       "      <td>553.714399</td>\n",
       "    </tr>\n",
       "    <tr>\n",
       "      <th>3</th>\n",
       "      <td>0</td>\n",
       "      <td>3.093559</td>\n",
       "      <td>551.089985</td>\n",
       "    </tr>\n",
       "    <tr>\n",
       "      <th>4</th>\n",
       "      <td>0</td>\n",
       "      <td>3.141923</td>\n",
       "      <td>537.184894</td>\n",
       "    </tr>\n",
       "  </tbody>\n",
       "</table>\n",
       "</div>"
      ],
      "text/plain": [
       "   admit       gpa         gre\n",
       "0      0  3.177277  594.102992\n",
       "1      0  3.412655  631.528607\n",
       "2      0  2.728097  553.714399\n",
       "3      0  3.093559  551.089985\n",
       "4      0  3.141923  537.184894"
      ]
     },
     "execution_count": 3,
     "metadata": {},
     "output_type": "execute_result"
    }
   ],
   "source": [
    "admissions.head()"
   ]
  },
  {
   "cell_type": "markdown",
   "metadata": {},
   "source": [
    "To start, let's use the logistic regression model we fit in the last mission to predict the class labels for each observation in the dataset and add these labels to the Dataframe in a separate column."
   ]
  },
  {
   "cell_type": "code",
   "execution_count": null,
   "metadata": {},
   "outputs": [],
   "source": []
  },
  {
   "cell_type": "markdown",
   "metadata": {},
   "source": [
    "* Use the LogisticRegression method `predict` to return the label for each observation in the dataset, `admissions`. Assign the returned list to `labels`.\n",
    "* Add a new column to the `admissions` Dataframe named `predicted_label` that contains the values from `labels`.\n",
    "* Use the Series method `value_counts` and the `print` function to display the distribution of the values in the `predicted_label` column.\n",
    "* Use the Dataframe method `head` and the `print` function to display the first 5 rows in `admissions`."
   ]
  },
  {
   "cell_type": "code",
   "execution_count": 5,
   "metadata": {},
   "outputs": [
    {
     "name": "stdout",
     "output_type": "stream",
     "text": [
      "0    598\n",
      "1     46\n",
      "Name: predicted_label, dtype: int64\n"
     ]
    }
   ],
   "source": [
    "labels = model.predict(admissions[['gpa']])\n",
    "\n",
    "admissions['predicted_label'] = labels\n",
    "print(admissions['predicted_label'].value_counts())"
   ]
  },
  {
   "cell_type": "code",
   "execution_count": 6,
   "metadata": {},
   "outputs": [
    {
     "data": {
      "text/html": [
       "<div>\n",
       "<style scoped>\n",
       "    .dataframe tbody tr th:only-of-type {\n",
       "        vertical-align: middle;\n",
       "    }\n",
       "\n",
       "    .dataframe tbody tr th {\n",
       "        vertical-align: top;\n",
       "    }\n",
       "\n",
       "    .dataframe thead th {\n",
       "        text-align: right;\n",
       "    }\n",
       "</style>\n",
       "<table border=\"1\" class=\"dataframe\">\n",
       "  <thead>\n",
       "    <tr style=\"text-align: right;\">\n",
       "      <th></th>\n",
       "      <th>admit</th>\n",
       "      <th>gpa</th>\n",
       "      <th>gre</th>\n",
       "      <th>predicted_label</th>\n",
       "    </tr>\n",
       "  </thead>\n",
       "  <tbody>\n",
       "    <tr>\n",
       "      <th>0</th>\n",
       "      <td>0</td>\n",
       "      <td>3.177277</td>\n",
       "      <td>594.102992</td>\n",
       "      <td>0</td>\n",
       "    </tr>\n",
       "    <tr>\n",
       "      <th>1</th>\n",
       "      <td>0</td>\n",
       "      <td>3.412655</td>\n",
       "      <td>631.528607</td>\n",
       "      <td>0</td>\n",
       "    </tr>\n",
       "    <tr>\n",
       "      <th>2</th>\n",
       "      <td>0</td>\n",
       "      <td>2.728097</td>\n",
       "      <td>553.714399</td>\n",
       "      <td>0</td>\n",
       "    </tr>\n",
       "    <tr>\n",
       "      <th>3</th>\n",
       "      <td>0</td>\n",
       "      <td>3.093559</td>\n",
       "      <td>551.089985</td>\n",
       "      <td>0</td>\n",
       "    </tr>\n",
       "    <tr>\n",
       "      <th>4</th>\n",
       "      <td>0</td>\n",
       "      <td>3.141923</td>\n",
       "      <td>537.184894</td>\n",
       "      <td>0</td>\n",
       "    </tr>\n",
       "  </tbody>\n",
       "</table>\n",
       "</div>"
      ],
      "text/plain": [
       "   admit       gpa         gre  predicted_label\n",
       "0      0  3.177277  594.102992                0\n",
       "1      0  3.412655  631.528607                0\n",
       "2      0  2.728097  553.714399                0\n",
       "3      0  3.093559  551.089985                0\n",
       "4      0  3.141923  537.184894                0"
      ]
     },
     "execution_count": 6,
     "metadata": {},
     "output_type": "execute_result"
    }
   ],
   "source": [
    "admissions.head()"
   ]
  },
  {
   "cell_type": "code",
   "execution_count": null,
   "metadata": {},
   "outputs": [],
   "source": []
  },
  {
   "cell_type": "markdown",
   "metadata": {},
   "source": [
    "## Accuracy\n",
    "\n",
    "The `admissions` Dataframe now contains the predicted value for that row, in the `predicted_label` column, and the actual value for that row, in the `admit` column. This format makes it easier for us to calculate how effective the model was on the training data. The simplest way to determine the effectiveness of a classification model is prediction accuracy. Accuracy helps us answer the question:\n",
    "\n",
    "* **What fraction of the predictions were correct (actual label matched predicted label)?**\n",
    "\n",
    "Prediction accuracy boils down to the number of labels that were correctly predicted divided by the total number of observations:\n",
    "\n",
    "$$Accuracy = \\dfrac{\\text{# of Correctly Predicted}}{\\text{# of Observations}}$$\n",
    "\n",
    "In logistic regression, recall that the model's output is a probability between 0 and 1. To decide who gets admitted, we set a threshold and accept all of the students where their computed probability exceeds that threshold. This threshold is called the **discrimination threshold** and scikit-learn sets it to **0.5** by default when predicting labels. \n",
    "* If the predicted probability is greater than 0.5, the label for that observation is **1**. \n",
    "* If it is instead less than **0.5**, the label for that observation is **0**.<br>\n",
    "\n",
    "An accuracy of **1.0** means that the model predicted **100%** of admissions correctly for the given discrimination threshold. An accuracy of **0.2** means that the model predicted **20%** of the admissions correctly. Let's calculate the accuracy for the predictions the logistic regression model made."
   ]
  },
  {
   "cell_type": "code",
   "execution_count": null,
   "metadata": {},
   "outputs": [],
   "source": []
  },
  {
   "cell_type": "markdown",
   "metadata": {},
   "source": [
    "* Rename the `admit` column from the `admissions` Dataframe to `actual_label` so it's more clear which column contains the predicted labels (`predicted_label`) and which column contains the actual labels (`actual_label`).\n",
    "* Compare the `predicted_label` column with the `actual_label` column.\n",
    "  * Use a double equals sign (`==`) to compare the 2 Series objects and assign the resulting Series object to `matches`.\n",
    "* Use conditional filtering to filter `admissions` to just the rows where `matches` is `True`. Assign the resulting Dataframe to `correct_predictions`.\n",
    "  * Display the first 5 rows in `correct_predictions` to make sure the values in the `predicted_label` and `actual_label` columns are equal.\n",
    "* Calculate the accuracy and assign the resulting float value to `accuracy`.\n",
    "  * Display `accuracy` using the print function."
   ]
  },
  {
   "cell_type": "code",
   "execution_count": 10,
   "metadata": {},
   "outputs": [],
   "source": [
    "col_map = {'admit':'actual_label',\n",
    "          'gpa':'gpa',\n",
    "          'gre':'gre',\n",
    "          'predicted_label':'predicted_label'}\n",
    "\n",
    "admissions = admissions.rename(index=str, columns=col_map)"
   ]
  },
  {
   "cell_type": "code",
   "execution_count": 12,
   "metadata": {},
   "outputs": [
    {
     "data": {
      "text/html": [
       "<div>\n",
       "<style scoped>\n",
       "    .dataframe tbody tr th:only-of-type {\n",
       "        vertical-align: middle;\n",
       "    }\n",
       "\n",
       "    .dataframe tbody tr th {\n",
       "        vertical-align: top;\n",
       "    }\n",
       "\n",
       "    .dataframe thead th {\n",
       "        text-align: right;\n",
       "    }\n",
       "</style>\n",
       "<table border=\"1\" class=\"dataframe\">\n",
       "  <thead>\n",
       "    <tr style=\"text-align: right;\">\n",
       "      <th></th>\n",
       "      <th>actual_label</th>\n",
       "      <th>predicted_label</th>\n",
       "    </tr>\n",
       "  </thead>\n",
       "  <tbody>\n",
       "    <tr>\n",
       "      <th>0</th>\n",
       "      <td>0</td>\n",
       "      <td>0</td>\n",
       "    </tr>\n",
       "    <tr>\n",
       "      <th>1</th>\n",
       "      <td>0</td>\n",
       "      <td>0</td>\n",
       "    </tr>\n",
       "    <tr>\n",
       "      <th>2</th>\n",
       "      <td>0</td>\n",
       "      <td>0</td>\n",
       "    </tr>\n",
       "    <tr>\n",
       "      <th>3</th>\n",
       "      <td>0</td>\n",
       "      <td>0</td>\n",
       "    </tr>\n",
       "    <tr>\n",
       "      <th>4</th>\n",
       "      <td>0</td>\n",
       "      <td>0</td>\n",
       "    </tr>\n",
       "  </tbody>\n",
       "</table>\n",
       "</div>"
      ],
      "text/plain": [
       "   actual_label  predicted_label\n",
       "0             0                0\n",
       "1             0                0\n",
       "2             0                0\n",
       "3             0                0\n",
       "4             0                0"
      ]
     },
     "execution_count": 12,
     "metadata": {},
     "output_type": "execute_result"
    }
   ],
   "source": [
    "admissions[['actual_label', 'predicted_label']].head()"
   ]
  },
  {
   "cell_type": "code",
   "execution_count": 11,
   "metadata": {},
   "outputs": [
    {
     "data": {
      "text/plain": [
       "0    True\n",
       "1    True\n",
       "2    True\n",
       "3    True\n",
       "4    True\n",
       "dtype: bool"
      ]
     },
     "execution_count": 11,
     "metadata": {},
     "output_type": "execute_result"
    }
   ],
   "source": [
    "matches = (admissions['actual_label'] == admissions['predicted_label'])\n",
    "correct_predictions = matches[matches == 1]\n",
    "correct_predictions.head()"
   ]
  },
  {
   "cell_type": "code",
   "execution_count": 13,
   "metadata": {},
   "outputs": [
    {
     "name": "stdout",
     "output_type": "stream",
     "text": [
      "0.645962732919\n"
     ]
    }
   ],
   "source": [
    "accuracy = correct_predictions.sum() / admissions.shape[0]\n",
    "print(accuracy)"
   ]
  },
  {
   "cell_type": "code",
   "execution_count": null,
   "metadata": {},
   "outputs": [],
   "source": []
  },
  {
   "cell_type": "markdown",
   "metadata": {},
   "source": [
    "## Binary classification outcomes\n",
    "\n",
    "It looks like the raw accuracy is around **64.6%** which is better than randomly guessing the label (which would result in around a **50%** accuracy). Calculating the accuracy of a model on the dataset used for training is a useful initial step just to make sure the model at least beats randomly assigning a label for each observation. However, prediction accuracy doesn't tell us much more.<br>\n",
    "\n",
    "The accuracy doesn't tell us how the model performs on data it wasn't trained on. A model that returns a 100% accuracy when evaluated on it's training set doesn't tell us how well the model works on data it's never seen before (and wasn't trained on). Accuracy also doesn't help us discriminate between the different types of outcomes a binary classification model can make. In a later mission, we'll learn how to evaluate a model's effectiveness on new, unseen data. In this mission, we'll focus on the principles of evaluating binary classification models by testing our model's effectiveness on the training data.<br>\n",
    "\n",
    "To start, let's discuss the 4 different outcomes of a binary classification model:\n",
    "\n",
    "Prediction|Observation| \n",
    "---|---|---\n",
    " |**Admitted (1)**|**Rejected (0)**\n",
    "**Admitted (1)**|True Positive(TP)|False Positive(FP)\n",
    "**Rejected (0)**|False Negative(FN)|True Negative(TN)\n",
    "\n",
    "By segmenting a model's predictions into these different outcome categories, **we can start to think about other measures of effectiveness that give us more granularity than simple accuracy.**<br>\n",
    "\n",
    "We can define these outcomes as:\n",
    "\n",
    "* **True Positive** - The model correctly predicted that the student would be admitted.\n",
    "  * Said another way, the model predicted that the label would be Positive, and that ended up being True.\n",
    "  * In our case, Positive refers to being admitted and maps to the label 1 in the dataset.\n",
    "  * For this dataset, a true positive is whenever predicted_label is `1` and actual_label is `1`.\n",
    "\n",
    "* **True Negative** - The model correctly predicted that the student would be rejected.\n",
    "  * Said another way, the model predicted that the label would be Negative, and that ended up being True.\n",
    "  * In our case, Negative refers to being rejected and maps to the label 0 in the dataset.\n",
    "  * For this dataset, a true negative is whenever predicted_label is `0` and actual_label is `0`.\n",
    "\n",
    "* **False Positive** - The model incorrectly predicted that the student would be admitted even though the student was actually rejected.\n",
    "  * Said another way, the model predicted that the label would be Positive, but that was False (the actual label was False).\n",
    "  * For this dataset, a false positive is whenever predicted_label is `1` but the actual_label is `0`.\n",
    "\n",
    "* **False Negative** - The model incorrectly predicted that the student would be rejected even though the student was actually admitted.\n",
    "  * Said another way, the model predicted that the would be Negative, but that was False (the actual value was True).\n",
    "  * For this dataset, a false negative is whenever predicted_label is `0` but the actual_label is `1`.\n",
    "\n",
    "Let's calculate the number of observations that fall into some of these outcome categories.\n",
    "\n",
    "\n"
   ]
  },
  {
   "cell_type": "code",
   "execution_count": null,
   "metadata": {},
   "outputs": [],
   "source": []
  },
  {
   "cell_type": "markdown",
   "metadata": {},
   "source": [
    "## Binary classification outcomes\n",
    "\n",
    "* Extract all of the rows where `predicted_label` and `actual_label` both equal `1`. Then, calculate the number of true positives and assign to `true_positives`.\n",
    "\n",
    "* Extract all of the rows where `predicted_label` and `actual_label` both equal `0`. Then, calculate the number of true negatives and assign to `true_negatives`.\n",
    "\n",
    "* Display both `true_positives` and `true_negatives`."
   ]
  },
  {
   "cell_type": "code",
   "execution_count": 35,
   "metadata": {},
   "outputs": [],
   "source": [
    "true_positives = ((admissions[\"predicted_label\"] == 1) &\\\n",
    "                  (admissions[\"actual_label\"] == 1)).sum()"
   ]
  },
  {
   "cell_type": "code",
   "execution_count": 36,
   "metadata": {},
   "outputs": [],
   "source": [
    "true_negatives = ((admissions[\"predicted_label\"] == 0) &\\\n",
    "                  (admissions[\"actual_label\"] == 0)).sum()"
   ]
  },
  {
   "cell_type": "code",
   "execution_count": 37,
   "metadata": {},
   "outputs": [
    {
     "name": "stdout",
     "output_type": "stream",
     "text": [
      "31 385\n"
     ]
    }
   ],
   "source": [
    "print(true_positives, true_negatives)"
   ]
  },
  {
   "cell_type": "code",
   "execution_count": null,
   "metadata": {},
   "outputs": [],
   "source": []
  },
  {
   "cell_type": "markdown",
   "metadata": {},
   "source": [
    "## Sensitivity\n",
    "\n",
    "Let's now look at a few measures that are much more insightful than simple accuracy. Let's start with sensitivity:\n",
    "\n",
    "* Sensitivity or True Positive Rate - The proportion of applicants that were correctly admitted:\n",
    "\n",
    "$$TPR=\\dfrac{\\text{True Positives}}{\\text{True Positives} + \\text{False Negatives}}$$\n",
    "\n",
    "Of all of the students that should have been admitted (True Positives + False Negatives), what fraction did the model correctly admit (True Positives)? More generally, this measure helps us answer the question:\n",
    "\n",
    "* **How effective is this model at identifying positive outcomes?**\n",
    "\n",
    "In our case, the positive outcome (label of `1`) is admitting a student. If the True Positive Rate is low, it means that the model isn't effective at catching positive cases. For certain problems, high sensitivity is incredibly important. If we're building a model to predict which patients have cancer, every patient that is missed by the model could mean a loss of life. We want a **highly sensitive model** that is able to \"catch\" all of the positive cases (in this case, the positive case is a patient with cancer).<br>\n",
    "\n",
    "Let's calculate the sensitivity for the model we're working with."
   ]
  },
  {
   "cell_type": "code",
   "execution_count": null,
   "metadata": {},
   "outputs": [],
   "source": []
  },
  {
   "cell_type": "markdown",
   "metadata": {},
   "source": [
    "* Calculate the number of false negatives (where the model predicted **rejected** but the student was actually **admitted**) and assign to `false_negatives`.\n",
    "* Calculate the sensitivity and assign the computed value to `sensitivity`.\n",
    "* Display `sensitivity`."
   ]
  },
  {
   "cell_type": "code",
   "execution_count": 38,
   "metadata": {},
   "outputs": [
    {
     "name": "stdout",
     "output_type": "stream",
     "text": [
      "0.127049180328\n"
     ]
    }
   ],
   "source": [
    "false_negatives = ((admissions[\"predicted_label\"] == 0) &\\\n",
    "                        (admissions[\"actual_label\"] == 1)).sum()\n",
    "\n",
    "sensitivity = true_positives / (true_positives + false_negatives)\n",
    "\n",
    "print(sensitivity)"
   ]
  },
  {
   "cell_type": "code",
   "execution_count": null,
   "metadata": {},
   "outputs": [],
   "source": []
  },
  {
   "cell_type": "markdown",
   "metadata": {},
   "source": [
    "## Specificity\n",
    "\n",
    "Looks like the sensitivity of the model is around `12.7%` and **only about 1 in 8 students that should have been admitted were actually admitted**. In the context of predicting student admissions, this probably isn't too bad of a thing. Graduate schools can only admit a select number of students into their programs and by definition they end up rejecting many qualified students that would have succeeded.<br>\n",
    "\n",
    "In the healthcare context, however, **low sensitivity could mean a severe loss of life**. If a classification model is only catching `12.7%` of positive cases for an illness, then around 7 of 8 people are going undiagnosed (being classified as false negatives). Hopefully you're beginning to acquire a sense for the tradeoffs predictive models make and the importance of understanding the various measures.<br>\n",
    "\n",
    "Let's now learn about specificity:\n",
    "* Specificity or True Negative Rate - The proportion of applicants that were correctly rejected:\n",
    "\n",
    "$$\\text{TNR} = \\dfrac{\\text{True Negatives}}{\\text{False Positives + True Negatives}}$$\n",
    "\n",
    "This helps us answer the question:\n",
    "\n",
    "* **How effective is this model at identifying negative outcomes?**\n",
    "\n",
    "In our case, the specificity tells us the proportion of applicants who should be rejected (`actual_label` equal to `0`, which consists of False Positives + True Negatives) that were correctly rejected (just True Negatives). A high specificity means that the model is really good at predicting which applicants should be rejected.<br>\n",
    "\n",
    "Let's calculate the specificity of our model."
   ]
  },
  {
   "cell_type": "code",
   "execution_count": null,
   "metadata": {},
   "outputs": [],
   "source": []
  },
  {
   "cell_type": "markdown",
   "metadata": {},
   "source": [
    "* Calculate the number of false positives (where the model predicted **admitted** but the student was actually **rejected**) and assign to `false_positives`.\n",
    "* Calculate the specificity and assign the computed value to `specificity`.\n",
    "* Display `specificity`."
   ]
  },
  {
   "cell_type": "code",
   "execution_count": 39,
   "metadata": {},
   "outputs": [
    {
     "data": {
      "text/plain": [
       "0.96250000000000002"
      ]
     },
     "execution_count": 39,
     "metadata": {},
     "output_type": "execute_result"
    }
   ],
   "source": [
    "false_positives = ((admissions['actual_label']==0) &\\\n",
    "                  (admissions['predicted_label']==1)).sum()\n",
    "specificity = true_negatives / (false_positives + true_negatives)\n",
    "specificity"
   ]
  },
  {
   "cell_type": "code",
   "execution_count": null,
   "metadata": {},
   "outputs": [],
   "source": []
  },
  {
   "cell_type": "markdown",
   "metadata": {},
   "source": [
    "## Next Steps\n",
    "\n",
    "It looks like the specificity of the model is **96.25%**. This means that **the model is really good at knowing which applicants to reject**. Since around only **7%** of applicants were accepted that applied, it's important that the model reject people correctly who wouldn't have otherwise been accepted.<br>\n",
    "\n",
    "In this mission, we learned about some of the different ways of evaluating how well a binary classification model performs. The different measures we learned about have very similar names and it's easy to confuse them. Don't fret! The important takeaway is the ability to frame the question you want to answer and working backwards from that to formulate the correct calculation.<br>\n",
    "\n",
    "**If you want to know how well a binary classification model is at catching positive cases, you should have the intuition to divide the correctly predicted positive cases by all actually positive cases**. There are 2 outcomes associated with an admitted student (positive case), a false negative and a true positive. Therefore, by dividing the number of true positives by the sum of false negatives and true positives, you'll have the proportion corresponding to the model's effectiveness of identifying positive cases. While this proportion is referred to as the sensitivity, the word itself is secondary to the concept and being able to work backwards to the formula!<br>\n",
    "\n",
    "**These measures are just a starting point, however, and aren't super useful by themselves**. In the next mission, we'll dive into cross-validation, where we'll evaluate our model's accuracy on new data that it wasn't trained on. In addition, we'll explore how varying the discrimination threshold affects the measures we learned about in this mission. These important techniques help us gain a much more complete understanding of a classification model's performance."
   ]
  },
  {
   "cell_type": "code",
   "execution_count": null,
   "metadata": {},
   "outputs": [],
   "source": []
  }
 ],
 "metadata": {
  "kernelspec": {
   "display_name": "Python 3",
   "language": "python",
   "name": "python3"
  },
  "language_info": {
   "codemirror_mode": {
    "name": "ipython",
    "version": 3
   },
   "file_extension": ".py",
   "mimetype": "text/x-python",
   "name": "python",
   "nbconvert_exporter": "python",
   "pygments_lexer": "ipython3",
   "version": "3.6.2"
  }
 },
 "nbformat": 4,
 "nbformat_minor": 2
}
