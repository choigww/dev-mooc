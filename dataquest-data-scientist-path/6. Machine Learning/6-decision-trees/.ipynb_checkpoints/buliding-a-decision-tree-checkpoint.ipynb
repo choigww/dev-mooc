{
 "cells": [
  {
   "cell_type": "markdown",
   "metadata": {},
   "source": [
    "# Building a Decision Tree"
   ]
  },
  {
   "cell_type": "markdown",
   "metadata": {},
   "source": [
    "## Introduction to the Data\n",
    "\n",
    "In the last mission, we used a data set on U.S. income from the 1994 census; we'll continue using it here. It contains information on marital status, age, type of work, and more. The target column, `high_income`, indicates a salary less than or equal to 50k per year (`0`), or more than 50k per year (`1`).<br>\n",
    "\n",
    "You can download the data from the [University of California, Irvine's website](http://archive.ics.uci.edu/ml/datasets/Adult)."
   ]
  },
  {
   "cell_type": "code",
   "execution_count": null,
   "metadata": {},
   "outputs": [],
   "source": []
  },
  {
   "cell_type": "markdown",
   "metadata": {},
   "source": [
    "## Overview of the ID3 Algorithm\n",
    "\n",
    "In the last mission, we learned about the basics of decision trees, including entropy and information gain. In this mission, we'll build on those concepts to construct a full decision tree in Python and use it make predictions.<br>\n",
    "\n",
    "We'll use the [ID3 Algorithm](https://en.wikipedia.org/wiki/ID3_algorithm) for constructing decision trees to accomplish this. This algorithm involves [recursion](https://en.wikipedia.org/wiki/Recursion_(computer_science)) and an understanding of time complexity. If you're unfamiliar with these topics, we suggest trying [our Data Structures and Algorithms course](https://www.dataquest.io/course/data-structures-algorithms). We also suggest learning about lambda functions through our [command line course](https://www.dataquest.io/mission/112/lambda-functions/).<br>\n",
    "\n",
    "In general, recursion is the process of splitting a large problem into smaller chunks. Recursive functions will call themselves, then combine the results into a final output.<br>\n",
    "\n",
    "Building a tree is a perfect use case for recursive algorithms. At each node, we'll call a recursive function that will split the data into two branches. Each branch will lead to a node, and the function will call itself to build the tree out.<br>\n",
    "\n",
    "We've created a pseudocode version of the full ID3 Algorithm below. Pseudocode is a plain-text outline of a piece of code that explains how it works. Exploring the pseudocode for an algorithm is a good way to understand it better before trying to code it.\n",
    "\n",
    "```python\n",
    "def id3(data, target, columns)\n",
    "    1 Create a node for the tree\n",
    "    2 If all values of the target attribute are 1, Return the node, with label = 1\n",
    "    3 If all values of the target attribute are 0, Return the node, with label = 0\n",
    "    4 Using information gain, find A, the column that splits the data best\n",
    "    5 Find the median value in column A\n",
    "    6 Split column A into values below or equal to the median (0), and values above the median (1)\n",
    "    7 For each possible value (0 or 1), vi, of A,\n",
    "    8    Add a new tree branch below Root that corresponds to rows of data where A = vi\n",
    "    9    Let Examples(vi) be the subset of examples that have the value vi for A\n",
    "   10    Below this new branch add the subtree id3(data[A==vi], target, columns)\n",
    "   11 Return Root\n",
    "```\n",
    "\n",
    "We've made a minor modification to the algorithm so that it only creates two branches from each node. This will simplify the process of constructing the tree, and make it easier to demonstrate the principles it involves.<br>\n",
    "\n",
    "The recursive nature of the algorithm comes into play on line `10`. Every node in the tree will call the `id3()` function, and the final tree will be the result of all of these calls."
   ]
  },
  {
   "cell_type": "code",
   "execution_count": null,
   "metadata": {},
   "outputs": [],
   "source": []
  },
  {
   "cell_type": "code",
   "execution_count": null,
   "metadata": {},
   "outputs": [],
   "source": []
  },
  {
   "cell_type": "code",
   "execution_count": null,
   "metadata": {},
   "outputs": [],
   "source": []
  },
  {
   "cell_type": "code",
   "execution_count": null,
   "metadata": {},
   "outputs": [],
   "source": []
  },
  {
   "cell_type": "code",
   "execution_count": null,
   "metadata": {},
   "outputs": [],
   "source": []
  }
 ],
 "metadata": {
  "kernelspec": {
   "display_name": "Python 3",
   "language": "python",
   "name": "python3"
  },
  "language_info": {
   "codemirror_mode": {
    "name": "ipython",
    "version": 3
   },
   "file_extension": ".py",
   "mimetype": "text/x-python",
   "name": "python",
   "nbconvert_exporter": "python",
   "pygments_lexer": "ipython3",
   "version": "3.6.2"
  }
 },
 "nbformat": 4,
 "nbformat_minor": 2
}
