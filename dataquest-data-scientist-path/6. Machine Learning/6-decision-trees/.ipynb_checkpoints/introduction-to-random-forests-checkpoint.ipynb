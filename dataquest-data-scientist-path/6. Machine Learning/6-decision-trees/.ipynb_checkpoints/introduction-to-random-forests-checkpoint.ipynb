{
 "cells": [
  {
   "cell_type": "markdown",
   "metadata": {},
   "source": [
    "# Introduction to Random Forests"
   ]
  },
  {
   "cell_type": "markdown",
   "metadata": {},
   "source": [
    "## Introduction\n",
    "\n",
    "Over the past three missions, we learned about decision trees, and looked at ways to reduce overfitting. The most powerful tool for reducing decision tree overfitting is called the random forest algorithm. In this mission, we'll learn how to construct and apply random forests.<br>\n",
    "\n",
    "We'll continue using the same 1994 census data set on U.S. income. It contains information on marital status, age, type of work, and more. The target column, `high_income`, records salaries less than or equal to 50k a year (`0`), and more than 50k a year (`1`).<br>\n",
    "\n",
    "You can download the data from [the University of California, Irvine's website](http://archive.ics.uci.edu/ml/datasets/Adult)."
   ]
  },
  {
   "cell_type": "code",
   "execution_count": null,
   "metadata": {},
   "outputs": [],
   "source": []
  },
  {
   "cell_type": "markdown",
   "metadata": {},
   "source": [
    "## Combining Model Predictions With Ensembles\n",
    "\n",
    "A random forest is a kind of ensemble model. [Ensembles](https://en.wikipedia.org/wiki/Ensemble_learning) combine the predictions of multiple models to create a more accurate final prediction. We'll make a simple ensemble to see how they work.<br>\n",
    "\n",
    "Let's create two decision trees with slightly different parameters:\n",
    "\n",
    "* One with `min_samples_leaf` set to `2`\n",
    "* One with `max_depth` set to `5`\n",
    "\n",
    "Then, we'll check their accuracies separately. On the next screen, we'll combine their predictions and compare the combined accuracy with the individual accuracies of both trees."
   ]
  },
  {
   "cell_type": "markdown",
   "metadata": {},
   "source": [
    "> Loading datafile before practicing."
   ]
  },
  {
   "cell_type": "code",
   "execution_count": 3,
   "metadata": {},
   "outputs": [],
   "source": [
    "import pandas as pd\n",
    "import numpy as np\n",
    "import math\n",
    "from sklearn.tree import DecisionTreeClassifier\n",
    "from sklearn.metrics import roc_auc_score"
   ]
  },
  {
   "cell_type": "code",
   "execution_count": 2,
   "metadata": {},
   "outputs": [
    {
     "name": "stderr",
     "output_type": "stream",
     "text": [
      "/usr/local/lib/python3.6/site-packages/ipykernel_launcher.py:6: FutureWarning: Categorical.from_array is deprecated, use Categorical instead\n",
      "  \n"
     ]
    }
   ],
   "source": [
    "income = pd.read_csv('data/income.csv')\n",
    "\n",
    "# A list of columns to train with\n",
    "columns = [\"age\", \"workclass\", \"education_num\", \"marital_status\", \"occupation\", \"relationship\", \"race\", \"sex\", \"hours_per_week\", \"native_country\"]\n",
    "for col in columns+['high_income']:\n",
    "    converted = pd.Categorical.from_array(income[col])\n",
    "    income[col] = converted.codes"
   ]
  },
  {
   "cell_type": "code",
   "execution_count": null,
   "metadata": {},
   "outputs": [],
   "source": []
  },
  {
   "cell_type": "markdown",
   "metadata": {},
   "source": [
    "* Fit both `clf` and `clf2` to the data.\n",
    "  * Use `train[columns]` as the predictors, and `train[\"high_income\"]` as the target.\n",
    "* Make predictions on the test set predictors (`test[columns]`) using both `clf` and `clf2`.\n",
    "* For both sets of predictions, compute the AUC between the predictions and the actual values (`test[\"high_income\"]`) using the [roc_auc_score function](http://scikit-learn.org/stable/modules/generated/sklearn.metrics.roc_auc_score.html#sklearn.metrics.roc_auc_score).\n",
    "* Use the `print()` function to display the AUC values for both."
   ]
  },
  {
   "cell_type": "code",
   "execution_count": 5,
   "metadata": {},
   "outputs": [],
   "source": [
    "train_max_row = math.floor(income.shape[0] * .8)\n",
    "train = income.iloc[:train_max_row]\n",
    "test = income.iloc[train_max_row:]"
   ]
  },
  {
   "cell_type": "code",
   "execution_count": 6,
   "metadata": {},
   "outputs": [
    {
     "data": {
      "text/plain": [
       "DecisionTreeClassifier(class_weight=None, criterion='gini', max_depth=5,\n",
       "            max_features=None, max_leaf_nodes=None,\n",
       "            min_impurity_decrease=0.0, min_impurity_split=None,\n",
       "            min_samples_leaf=1, min_samples_split=2,\n",
       "            min_weight_fraction_leaf=0.0, presort=False, random_state=1,\n",
       "            splitter='best')"
      ]
     },
     "execution_count": 6,
     "metadata": {},
     "output_type": "execute_result"
    }
   ],
   "source": [
    "columns = [\"age\", \"workclass\", \"education_num\", \"marital_status\", \n",
    "           \"occupation\", \"relationship\", \"race\", \"sex\", \n",
    "           \"hours_per_week\", \"native_country\"]\n",
    "\n",
    "clf = DecisionTreeClassifier(random_state=1, min_samples_leaf=2)\n",
    "clf.fit(train[columns], train[\"high_income\"])\n",
    "\n",
    "clf2 = DecisionTreeClassifier(random_state=1, max_depth=5)\n",
    "clf2.fit(train[columns], train[\"high_income\"])"
   ]
  },
  {
   "cell_type": "code",
   "execution_count": 8,
   "metadata": {},
   "outputs": [
    {
     "name": "stdout",
     "output_type": "stream",
     "text": [
      "0.69492761551\n",
      "0.683700005089\n"
     ]
    }
   ],
   "source": [
    "test_auc = roc_auc_score(test['high_income'], clf.predict(test[columns]))\n",
    "test_auc2 = roc_auc_score(test['high_income'], clf2.predict(test[columns]))\n",
    "\n",
    "print(test_auc)\n",
    "print(test_auc2)"
   ]
  },
  {
   "cell_type": "code",
   "execution_count": null,
   "metadata": {},
   "outputs": [],
   "source": []
  },
  {
   "cell_type": "markdown",
   "metadata": {},
   "source": [
    "## Combining Our Predictions\n",
    "\n",
    "When we have multiple classifiers making predictions, we can treat each set of predictions as a column in a matrix. Here's an example where we have Decision Tree 1 (`DT1`), Decision Tree 2 (`DT2`), and Decision Tree 3 (`DT3`):\n",
    "\n",
    "```python\n",
    "DT1     DT2    DT3\n",
    "0       1      0\n",
    "1       1      1\n",
    "0       0      1\n",
    "1       0      0\n",
    "```\n",
    "\n",
    "Whenever we add more models to our ensemble, we just add more columns to the combined predictions. Ultimately, we don't want this matrix, though -- we want one prediction per row in the training data. To accomplish this, we'll need to create rules to convert each row of our matrix of predictions into a single number.<br>\n",
    "\n",
    "We want to create a `Final Prediction` vector that looks like this:\n",
    "\n",
    "```python\n",
    "DT1     DT2    DT3    Final Prediction\n",
    "0       1      0      0\n",
    "1       1      1      1\n",
    "0       0      1      0\n",
    "1       0      0      0\n",
    "```\n",
    "\n",
    "There are many ways to get from the output of multiple models to a final vector of predictions. One method is [majority voting](http://www.scholarpedia.org/article/Ensemble_learning#Voting_based_methods), in which each classifier gets a \"vote,\" and the most commonly voted value for each row \"wins.\" This only works if there are more than two classifiers (and ideally an odd number, so we don't have to write a rule to break ties). Majority voting is what we applied in the example above.<br>\n",
    "\n",
    "Because we only had two classifiers on the last screen, we'll have to use a different method to combine predictions. We'll take the mean of all of the items in a row. Right now, we're using the `predict()` method, which returns either `0` or `1`. `predict()` returns something like this:\n",
    "\n",
    "```python\n",
    "0\n",
    "1\n",
    "0\n",
    "1\n",
    "```\n",
    "\n",
    "We can use the `RandomForestClassifier.predict_proba()` method instead, which will predict a probability from `0` to `1` that a given class is the right one for a row. Because `0` and `1` are our two classes, we'll get a matrix containing the number of rows in the `income` dataframe, and two columns. `predict_proba()` will return a result that looks like this:\n",
    "\n",
    "```python\n",
    "0     1\n",
    ".7    .3\n",
    ".2    .8\n",
    ".1    .9\n",
    "```\n",
    "\n",
    "Each row will correspond to a prediction. The first column is the probability that the prediction is a `0`, and the second column is the probability that the prediction is a `1`. Each row adds up to `1`.<br>\n",
    "\n",
    "If we just take the second column, we get the average value that the classifier would predict for that row. If there's a `.9` probability that the correct classification is `1`, we can use the `.9` as the value the classifier is predicting. This will give us a continuous output in a single vector, instead of just 0 or 1.<br>\n",
    "\n",
    "Then we can add together all of the vectors we get through this method, and divide the sum by the total number of vectors to get the mean prediction made across the entire ensemble for a particular row. Finally, we round off to get a `0` or `1` prediction for the row.<br>\n",
    "\n",
    "If we use the `predict_proba()` method on both classifiers from the last screen to generate probabilities, take the mean for each row, and then round the results, we'll get ensemble predictions."
   ]
  },
  {
   "cell_type": "code",
   "execution_count": null,
   "metadata": {},
   "outputs": [],
   "source": []
  },
  {
   "cell_type": "markdown",
   "metadata": {},
   "source": [
    "## Combining Our Predictions\n",
    "\n",
    "* Add `predictions` and `predictions2`, then divide by `2` to get the mean.\n",
    "* Use `numpy.round()` to round all of the resulting predictions.\n",
    "* Print the resulting AUC score between the actual values and the predictions."
   ]
  },
  {
   "cell_type": "code",
   "execution_count": 9,
   "metadata": {},
   "outputs": [
    {
     "name": "stdout",
     "output_type": "stream",
     "text": [
      "0.723250114492\n"
     ]
    }
   ],
   "source": [
    "predictions = clf.predict_proba(test[columns])[:,1]\n",
    "predictions2 = clf2.predict_proba(test[columns])[:,1]\n",
    "\n",
    "print(roc_auc_score(test['high_income'], \n",
    "                    np.round((predictions + predictions2)/2.0)))"
   ]
  },
  {
   "cell_type": "code",
   "execution_count": null,
   "metadata": {},
   "outputs": [],
   "source": []
  },
  {
   "cell_type": "markdown",
   "metadata": {},
   "source": [
    "## Introduction to Random Forests\n",
    "\n",
    "As we can see from the previous screen, **the combined predictions of the two trees had a higher AUC** than that of either tree on its own:\n",
    "\n",
    "settings|test AUC\n",
    "---|---\n",
    "min_samples_leaf: 2|0.688\n",
    "max_depth: 2|0.676\n",
    "combined predictions|0.715\n",
    "\n",
    "To intuitively understand why this makes sense, think about two people with the same level of talent. One learned programming in college, while the other learned it on her own (let's say using Dataquest!).<br>\n",
    "\n",
    "If we give both of them the same project, they'll approach it in slightly different ways, due to their different experiences. They may both produce code that achieves the same result, but one may run faster in certain areas. The other may have a better interface. Even though both of them have about the same level of talent, their solutions are stronger in different areas because they approached the problem differently.<br>\n",
    "\n",
    "If we combine the best parts of both of their projects, we'll end up with a stronger combined project.<br>\n",
    "\n",
    "**Ensembling is exactly the same**. The models are approaching the same problem in slightly different ways, and building different trees because we used different parameters for each one. Each tree makes different predictions in different areas. Even though both trees have about the same accuracy, when we combine them, the result is stronger because it leverages the strengths of both approaches.<br>\n",
    "\n",
    "**The more \"diverse\" or dissimilar the models we use to construct an ensemble are, the stronger their combined predictions will be (assuming that all of the models have about the same accuracy)**. Ensembling a decision tree and a logistic regression model, for example, will result in stronger predictions than ensembling two decision trees with similar parameters. That's because those two models use very different approaches to arrive at their answers.<br>\n",
    "\n",
    "On the other hand, if the models we ensemble are very similar in how they make predictions, ensembling will result in a negligible boost.<br>\n",
    "\n",
    "Ensembling models with very different accuracies generally won't improve overall accuracy. Ensembling a model with a `.75` AUC and a model with a `.85` AUC on a test set will usually result in an AUC **somewhere in between the two original values**. There's a way around this that we'll discuss later on, which we call **weighting**."
   ]
  },
  {
   "cell_type": "code",
   "execution_count": null,
   "metadata": {},
   "outputs": [],
   "source": []
  },
  {
   "cell_type": "markdown",
   "metadata": {},
   "source": [
    "## Introducing Variation With Bagging\n",
    "\n",
    "A random forest is an ensemble of decision trees. If we don't make any modifications to the trees, each tree will be exactly the same, so we'll get no boost when we ensemble them. **In order to make ensembling effective, we have to introduce variation into each individual decision tree model**.<br>\n",
    "\n",
    "If we **introduce variation**, each tree will be be constructed slightly differently, and will therefore make different predictions. **This variation is what puts the \"random\" in \"random forest.\"**<br>\n",
    "\n",
    "There are two main ways to introduce variation in a random forest -- \n",
    "* bagging\n",
    "* random feature subsets. \n",
    "\n",
    "We'll dive into **bagging** first.<br>\n",
    "\n",
    "In a random forest, we don't train each tree on the entire data set. We train it on a random sample of the data, or a \"bag,\" instead. We perform this sampling with replacement, which means that after we select a row from the data we're sampling, we put the row back in the data so it can be picked again. Some rows from the original data may appear in the \"bag\" multiple times.<br>\n",
    "\n",
    "Let's use bagging with the first tree we trained."
   ]
  },
  {
   "cell_type": "code",
   "execution_count": null,
   "metadata": {},
   "outputs": [],
   "source": []
  },
  {
   "cell_type": "markdown",
   "metadata": {},
   "source": [
    "* `predictions` is a list of vectors corresponding to predictions on the test set.\n",
    "* Use the technique we employed earlier to add all of the vectors together, and divide by `10` to get the mean prediction for each row.\n",
    "* Use `numpy.round()` to round the resulting predictions.\n",
    "* Finally, print the AUC score between the combined predictions and `test[\"high_income\"]`."
   ]
  },
  {
   "cell_type": "code",
   "execution_count": null,
   "metadata": {},
   "outputs": [],
   "source": []
  },
  {
   "cell_type": "code",
   "execution_count": 10,
   "metadata": {},
   "outputs": [],
   "source": [
    "# We'll build 10 trees\n",
    "tree_count = 10\n",
    "\n",
    "# Each \"bag\" will have 60% of the number of original rows\n",
    "bag_proportion = .6\n",
    "\n",
    "predictions = []\n",
    "for i in range(tree_count):\n",
    "    # We select 60% of the rows from train, sampling with replacement\n",
    "    # We set a random state to ensure we'll be able to replicate our results\n",
    "    # We set it to i instead of a fixed value so we don't get the same sample in every loop\n",
    "    # That would make all of our trees the same\n",
    "    bag = train.sample(frac=bag_proportion, replace=True, random_state=i)\n",
    "    \n",
    "    # Fit a decision tree model to the \"bag\"\n",
    "    clf = DecisionTreeClassifier(random_state=1, min_samples_leaf=2)\n",
    "    clf.fit(bag[columns], bag[\"high_income\"])\n",
    "    \n",
    "    # Using the model, make predictions on the test data\n",
    "    predictions.append(clf.predict_proba(test[columns])[:,1])"
   ]
  },
  {
   "cell_type": "code",
   "execution_count": 13,
   "metadata": {},
   "outputs": [
    {
     "data": {
      "text/plain": [
       "0.73919480205577048"
      ]
     },
     "execution_count": 13,
     "metadata": {},
     "output_type": "execute_result"
    }
   ],
   "source": [
    "roc_auc_score(test['high_income'], np.round(sum(predictions) / 10.0))"
   ]
  },
  {
   "cell_type": "code",
   "execution_count": null,
   "metadata": {},
   "outputs": [],
   "source": []
  },
  {
   "cell_type": "markdown",
   "metadata": {},
   "source": [
    "## Selecting Random Features\n",
    "\n",
    "Using the bagging example from the previous screen, we gained some accuracy over a single decision tree. To be exact, we achieved an AUC score of around `.733` with bagging, which is an improvement over the AUC score of `.688` we got without bagging:\n",
    "\n",
    "settings|test AUC\n",
    "---|---\n",
    "min_smaples_leaf:2|0.695\n",
    "max_depth:2|0.684\n",
    "combined predictions|0.723\n",
    "min_samples_leaf:2 with bagging|0.739"
   ]
  },
  {
   "cell_type": "markdown",
   "metadata": {},
   "source": [
    "Let's go back to the decision tree algorithm we explored two missions ago to explain random feature subsets:\n",
    "\n",
    "* First we pick the maximum number of features we want to evaluate each time we split the tree.\n",
    "  * This has to be less than the total number of columns in the data.\n",
    "* Every time we split, we pick a random sample of features from the data.\n",
    "* Then we compute the information gain for each feature in our random sample, and pick the one with the highest information gain to split on.\n",
    "\n",
    "To understand how splits work, let's look at information gain or entropy. Entropy is the measure of \"disorder\" in the data set. If a dataset has all the same labels, they'll have low entropy. If all the labels are different, they'll have high entropy. Splits that give us more information about the data, will ideally minimize entropy. In other words, the tree will ideally split the labels into distinct groups with as little mixture possible. This'll allow the splits to give our tree more predictive power.<br>\n",
    "\n",
    "We're repeating the same process to select the optimal split that minimizes entropy for a node. However, we'll only evaluate a constrained set of features that we select randomly. This introduces variation into the trees, and makes for more powerful ensembles.<br>\n",
    "\n",
    "Below is the ID3 algorithm that we developed earlier. We'll modify it to only consider a certain subset of the features."
   ]
  },
  {
   "cell_type": "code",
   "execution_count": null,
   "metadata": {},
   "outputs": [],
   "source": []
  },
  {
   "cell_type": "markdown",
   "metadata": {},
   "source": [
    "* Modify `find_best_column` to select a random sample from `columns` before computing information gain.\n",
    "  * Look where it says `Insert code here`.\n",
    "  * Each subset will have `2` items in it.\n",
    "  * You can use `numpy.random.choice()` to select a random sample.\n",
    "  * The first input is the list you're picking from, and the second is the number of items you want to pick.\n",
    "* Be careful not to overwrite `columns` when you do the selection.\n",
    "  * The random sample should go in a different variable, and you'll have to modify some of the surrounding code to match.\n",
    "* Use the `print()` function to display `tree`."
   ]
  },
  {
   "cell_type": "code",
   "execution_count": null,
   "metadata": {},
   "outputs": [],
   "source": []
  },
  {
   "cell_type": "code",
   "execution_count": 26,
   "metadata": {},
   "outputs": [],
   "source": [
    "# define two functions pre-required.\n",
    "\n",
    "def calc_entropy(column):\n",
    "    counts = np.bincount(column)\n",
    "    probabilities = counts / len(column)\n",
    "\n",
    "    entropy = 0\n",
    "    for prob in probabilities:\n",
    "        if prob > 0:\n",
    "            entropy += prob * math.log(prob, 2)\n",
    "\n",
    "    return -entropy\n",
    "\n",
    "\n",
    "def calc_information_gain(data, split_name, target_name):\n",
    "\n",
    "    original_entropy = calc_entropy(data[target_name])\n",
    "\n",
    "    column = data[split_name]\n",
    "    median = column.median()\n",
    "\n",
    "    left_split = data[column <= median]\n",
    "    right_split = data[column > median]\n",
    "\n",
    "    to_substract = 0\n",
    "    for subset in [left_split, right_split]:\n",
    "        prob = (subset.shape[0]/data.shape[0])\n",
    "        to_substract += prob * calc_entropy(subset[target_name])\n",
    "\n",
    "    return original_entropy - to_substract"
   ]
  },
  {
   "cell_type": "code",
   "execution_count": null,
   "metadata": {},
   "outputs": [],
   "source": []
  },
  {
   "cell_type": "markdown",
   "metadata": {},
   "source": [
    "* Previous codes which doesn't apply feature sampling"
   ]
  },
  {
   "cell_type": "code",
   "execution_count": 23,
   "metadata": {},
   "outputs": [
    {
     "name": "stdout",
     "output_type": "stream",
     "text": [
      "{'number': 1, 'column': 'employment', 'median': 4.5, 'left': {'number': 2, 'column': 'age', 'median': 25.0, 'left': {'number': 3, 'column': 'age', 'median': 22.5, 'left': {'number': 4, 'label': 0}, 'right': {'number': 5, 'label': 1}}, 'right': {'number': 6, 'label': 0}}, 'right': {'number': 7, 'column': 'age', 'median': 40.0, 'left': {'number': 8, 'column': 'age', 'median': 37.5, 'left': {'number': 9, 'label': 1}, 'right': {'number': 10, 'label': 0}}, 'right': {'number': 11, 'label': 1}}}\n"
     ]
    }
   ],
   "source": [
    "# Create the data set that we used two missions ago\n",
    "data = pd.DataFrame([\n",
    "    [0,4,20,0],\n",
    "    [0,4,60,2],\n",
    "    [0,5,40,1],\n",
    "    [1,4,25,1],\n",
    "    [1,5,35,2],\n",
    "    [1,5,55,1]\n",
    "    ])\n",
    "data.columns = [\"high_income\", \"employment\", \"age\", \"marital_status\"]\n",
    "\n",
    "# Set a random seed to make the results reproducible\n",
    "np.random.seed(1)\n",
    "\n",
    "# The dictionary to store our tree\n",
    "tree = {}\n",
    "nodes = []\n",
    "\n",
    "# The function to find the column to split on\n",
    "def find_best_column(data, target_name, columns):\n",
    "    information_gains = []\n",
    "    \n",
    "    # Insert your code here\n",
    "    \n",
    "    for col in columns:\n",
    "        information_gain = calc_information_gain(data, col, \"high_income\")\n",
    "        information_gains.append(information_gain)\n",
    "\n",
    "    # Find the name of the column with the highest gain\n",
    "    highest_gain_index = information_gains.index(max(information_gains))\n",
    "    highest_gain = columns[highest_gain_index]\n",
    "    return highest_gain\n",
    "\n",
    "# The function to construct an ID3 decision tree\n",
    "def id3(data, target, columns, tree):\n",
    "    unique_targets = pd.unique(data[target])\n",
    "    nodes.append(len(nodes) + 1)\n",
    "    tree[\"number\"] = nodes[-1]\n",
    "\n",
    "    if len(unique_targets) == 1:\n",
    "        if 0 in unique_targets:\n",
    "            tree[\"label\"] = 0\n",
    "        elif 1 in unique_targets:\n",
    "            tree[\"label\"] = 1\n",
    "        return\n",
    "    \n",
    "    best_column = find_best_column(data, target, columns)\n",
    "    column_median = data[best_column].median()\n",
    "    \n",
    "    tree[\"column\"] = best_column\n",
    "    tree[\"median\"] = column_median\n",
    "    \n",
    "    left_split = data[data[best_column] <= column_median]\n",
    "    right_split = data[data[best_column] > column_median]\n",
    "    split_dict = [[\"left\", left_split], [\"right\", right_split]]\n",
    "    \n",
    "    for name, split in split_dict:\n",
    "        tree[name] = {}\n",
    "        id3(split, target, columns, tree[name])\n",
    "\n",
    "\n",
    "# Run the ID3 algorithm on our data set and print the resulting tree\n",
    "id3(data, \"high_income\", [\"employment\", \"age\", \"marital_status\"], tree)\n",
    "print(tree)"
   ]
  },
  {
   "cell_type": "code",
   "execution_count": null,
   "metadata": {},
   "outputs": [],
   "source": []
  },
  {
   "cell_type": "markdown",
   "metadata": {},
   "source": [
    "* Applying feature-sampling"
   ]
  },
  {
   "cell_type": "code",
   "execution_count": 24,
   "metadata": {},
   "outputs": [
    {
     "name": "stdout",
     "output_type": "stream",
     "text": [
      "{'number': 12, 'column': 'age', 'median': 37.5, 'left': {'number': 13, 'column': 'employment', 'median': 4.0, 'left': {'number': 14, 'column': 'age', 'median': 22.5, 'left': {'number': 15, 'label': 0}, 'right': {'number': 16, 'label': 1}}, 'right': {'number': 17, 'label': 1}}, 'right': {'number': 18, 'column': 'age', 'median': 55.0, 'left': {'number': 19, 'column': 'age', 'median': 47.5, 'left': {'number': 20, 'label': 0}, 'right': {'number': 21, 'label': 1}}, 'right': {'number': 22, 'label': 0}}}\n"
     ]
    }
   ],
   "source": [
    "# re-write 'find_best_columns' function to select 2 random columns.\n",
    "\n",
    "def find_best_column(data, target_name, columns):\n",
    "    information_gains = []\n",
    "    \n",
    "    # Select two columns randomly\n",
    "    cols = np.random.choice(columns, 2)\n",
    "    \n",
    "    for col in cols:\n",
    "        information_gain = calc_information_gain(data, col, \"high_income\")\n",
    "        information_gains.append(information_gain)\n",
    "\n",
    "    highest_gain_index = information_gains.index(max(information_gains))\n",
    "    \n",
    "    # Get the highest gain by indexing \"cols\"\n",
    "    highest_gain = cols[highest_gain_index]\n",
    "    \n",
    "    return highest_gain\n",
    "\n",
    "id3(data, \"high_income\", [\"employment\", \"age\", \"marital_status\"], tree)\n",
    "print(tree)"
   ]
  },
  {
   "cell_type": "code",
   "execution_count": null,
   "metadata": {},
   "outputs": [],
   "source": []
  },
  {
   "cell_type": "markdown",
   "metadata": {},
   "source": [
    "## Random Subsets in scikit-learn\n",
    "\n",
    "We can also **repeat our random subset selection process** in scikit-learn. We just set the `splitter` parameter on `DecisionTreeClassifier` to `\"random\"`, and the `max_features` parameter to `\"auto\"`. If we have `N` columns, \n",
    "* this will pick a subset of features of size $\\sqrt{N}$, \n",
    "* compute the Gini coefficient for each (this is similar to information gain), \n",
    "* and split the node on the best column in the subset.\n",
    "\n",
    "This is essentially the same thing we did on the previous screen, but with far less typing."
   ]
  },
  {
   "cell_type": "code",
   "execution_count": null,
   "metadata": {},
   "outputs": [],
   "source": []
  },
  {
   "cell_type": "markdown",
   "metadata": {},
   "source": [
    "* Modify the instantiation of the `DecisionTreeClassifier` object.\n",
    "  * Set `splitter` to `\"random\"`, and `max_features` to `\"auto\"`.\n",
    "* Print the resulting AUC score."
   ]
  },
  {
   "cell_type": "code",
   "execution_count": 28,
   "metadata": {},
   "outputs": [
    {
     "name": "stdout",
     "output_type": "stream",
     "text": [
      "0.740782299512\n"
     ]
    }
   ],
   "source": [
    "# We'll build 10 trees\n",
    "tree_count = 10\n",
    "\n",
    "# Each \"bag\" will have 60% of the number of original rows\n",
    "bag_proportion = .6\n",
    "\n",
    "predictions = []\n",
    "for i in range(tree_count):\n",
    "    # We select 60% of the rows from train, sampling with replacement\n",
    "    # We set a random state to ensure we'll be able to replicate our results\n",
    "    # We set it to i instead of a fixed value so we don't get the same sample every time\n",
    "    bag = train.sample(frac=bag_proportion, replace=True, random_state=i)\n",
    "    \n",
    "    # Fit a decision tree model to the \"bag\"\n",
    "    clf = DecisionTreeClassifier(random_state=1, \n",
    "                                 min_samples_leaf=2,\n",
    "                                splitter=\"random\",\n",
    "                                max_features=\"auto\")\n",
    "    clf.fit(bag[columns], bag[\"high_income\"])\n",
    "    \n",
    "    # Using the model, make predictions on the test data\n",
    "    predictions.append(clf.predict_proba(test[columns])[:,1])\n",
    "\n",
    "combined = np.sum(predictions, axis=0) / 10\n",
    "rounded = np.round(combined)\n",
    "\n",
    "print(roc_auc_score(test[\"high_income\"], rounded))"
   ]
  },
  {
   "cell_type": "code",
   "execution_count": null,
   "metadata": {},
   "outputs": [],
   "source": []
  },
  {
   "cell_type": "markdown",
   "metadata": {},
   "source": [
    "## Practicing Putting it All Together\n",
    "\n",
    "Using random subsets from the previous screen improved the accuracy over using bagging alone:\n",
    "\n",
    "\n",
    "settings|test AUC\n",
    "---|---\n",
    "min_smaples_leaf:2|0.695\n",
    "max_depth:2|0.684\n",
    "combined predictions|0.723\n",
    "min_samples_leaf:2 with bagging|0.739\n",
    "min_samples_leaf:2 with bagging and random subsets|0.741\n"
   ]
  },
  {
   "cell_type": "markdown",
   "metadata": {},
   "source": [
    "So far, we've demonstrated the two building blocks of random forests, bagging and random feature subsets. Luckily, we don't have to write code from scratch each time. Scikit-learn has a [RandomForestClassifier](http://scikit-learn.org/stable/modules/generated/sklearn.ensemble.RandomForestClassifier.html) class and a [RandomForestRegressor](http://scikit-learn.org/stable/modules/generated/sklearn.ensemble.RandomForestRegressor.html) class that enable us to train and test random forest models quickly.<br>\n",
    "\n",
    "When we instantiate a `RandomForestClassifier`, we pass in an `n_estimators` parameter that indicates how many trees to build. While adding more trees usually improves accuracy, it also increases the overall time the model takes to train.<br>\n",
    "\n",
    "`RandomForestClassifier` has a similar interface to `DecisionTreeClassifier`, and we can use the `fit()` and `predict()` methods to train and make predictions."
   ]
  },
  {
   "cell_type": "code",
   "execution_count": 29,
   "metadata": {},
   "outputs": [],
   "source": [
    "from sklearn.ensemble import RandomForestClassifier\n",
    "\n",
    "clf = RandomForestClassifier(n_estimators=5, \n",
    "                             random_state=1, \n",
    "                             min_samples_leaf=2)"
   ]
  },
  {
   "cell_type": "code",
   "execution_count": 32,
   "metadata": {},
   "outputs": [
    {
     "name": "stdout",
     "output_type": "stream",
     "text": [
      "0.748883446977\n"
     ]
    }
   ],
   "source": [
    "clf.fit(train[columns], train['high_income'])\n",
    "print(roc_auc_score(test['high_income'], clf.predict(test[columns])))"
   ]
  },
  {
   "cell_type": "code",
   "execution_count": null,
   "metadata": {},
   "outputs": [],
   "source": []
  },
  {
   "cell_type": "markdown",
   "metadata": {},
   "source": [
    "## Tweaking Parameters to Increase Accuracy\n",
    "\n",
    "Similar to decision trees, we can tweak some of the parameters for random forests, including:\n",
    "\n",
    "* `min_samples_leaf`\n",
    "* `min_samples_split`\n",
    "* `max_depth`\n",
    "* `max_leaf_nodes`\n",
    "\n",
    "These parameters apply to the individual trees in the model, and change how they are constructed. There are also parameters specific to the random forest that alter its overall construction:\n",
    "\n",
    "* `n_estimators`\n",
    "* `bootstrap` - \"Bootstrap aggregation\" is another name for bagging; this parameter indicates whether to turn it on (Defaults to `True`)\n",
    "\n",
    "Refer to the [documentation](http://scikit-learn.org/stable/modules/generated/sklearn.ensemble.RandomForestClassifier.html) for a full list of parameters.<br>\n",
    "\n",
    "Tweaking parameters can increase the accuracy of the forest. The easiest tweak is to increase the number of estimators we use. This approach yields diminishing returns -- going from `10` trees to `100` will make a bigger difference than going from `100` to `500`, which will make a bigger difference than going from `500` to `1000`. The accuracy increase function is logarithmic, so increasing the number of trees beyond a certain number (usually `200`) won't help much at all."
   ]
  },
  {
   "cell_type": "code",
   "execution_count": null,
   "metadata": {},
   "outputs": [],
   "source": []
  },
  {
   "cell_type": "markdown",
   "metadata": {},
   "source": [
    "* Increase n_estimators to `150`."
   ]
  },
  {
   "cell_type": "code",
   "execution_count": 33,
   "metadata": {},
   "outputs": [
    {
     "name": "stdout",
     "output_type": "stream",
     "text": [
      "0.749298862711\n"
     ]
    }
   ],
   "source": [
    "clf = RandomForestClassifier(n_estimators=100, \n",
    "                             random_state=1, \n",
    "                             min_samples_leaf=2)\n",
    "\n",
    "clf.fit(train[columns], train[\"high_income\"])\n",
    "\n",
    "predictions = clf.predict(test[columns])\n",
    "print(roc_auc_score(test[\"high_income\"], predictions))"
   ]
  },
  {
   "cell_type": "code",
   "execution_count": null,
   "metadata": {},
   "outputs": [],
   "source": []
  },
  {
   "cell_type": "markdown",
   "metadata": {},
   "source": [
    "## Reducing Overfitting\n",
    "\n",
    "We were able to improve the AUC from `0.7489` to `0.7493`, **but the model using `150` trees took much longer to train**. While the extra training time is trivial on the data set we're working with right now, understanding this trade-off will help you when you're working with much larger data sets where the extra time could amount to hours or days!<br>\n",
    "\n",
    "One of the major advantages of random forests over single decision trees is that they tend to overfit less. Although each individual decision tree in a random forest varies widely, the average of their predictions is less sensitive to the input data than a single tree is. This is because while one tree can construct an incorrect and overfit model, the average of `100` or more trees will be more likely to hone in on the signal and ignore the noise. The signal will be the same across all of the trees, whereas each tree will hone in on the noise differently. This means that the average will discard the noise and keep the signal.<br>\n",
    "\n",
    "In the following code cell, you'll see that we've fit a single decision tree to the training set, and made predictions for both the training and testing sets. The AUC for the training set predictions is `.818`, while the AUC for the testing set is `.722`. The fact that the test AUC is much lower than the train AUC indicates that the model is overfitting.<br>\n",
    "\n",
    "Now let's train a similar random forest model and contrast it with what we just did."
   ]
  },
  {
   "cell_type": "code",
   "execution_count": 35,
   "metadata": {},
   "outputs": [
    {
     "name": "stdout",
     "output_type": "stream",
     "text": [
      "0.817692689266\n",
      "0.721504490637\n"
     ]
    }
   ],
   "source": [
    "clf = DecisionTreeClassifier(random_state=1, min_samples_leaf=5)\n",
    "\n",
    "clf.fit(train[columns], train[\"high_income\"])\n",
    "\n",
    "predictions = clf.predict(train[columns])\n",
    "print(roc_auc_score(train[\"high_income\"], predictions))\n",
    "\n",
    "predictions = clf.predict(test[columns])\n",
    "print(roc_auc_score(test[\"high_income\"], predictions))"
   ]
  },
  {
   "cell_type": "code",
   "execution_count": null,
   "metadata": {},
   "outputs": [],
   "source": []
  },
  {
   "cell_type": "markdown",
   "metadata": {},
   "source": [
    "* Using `RandomForestClassifier` with `n_estimators` parameter 150"
   ]
  },
  {
   "cell_type": "code",
   "execution_count": 36,
   "metadata": {},
   "outputs": [
    {
     "name": "stdout",
     "output_type": "stream",
     "text": [
      "0.789239773816\n",
      "0.751400111948\n"
     ]
    }
   ],
   "source": [
    "clf = RandomForestClassifier(n_estimators=150, \n",
    "                             random_state=1, \n",
    "                             min_samples_leaf=5)\n",
    "\n",
    "clf.fit(train[columns], train[\"high_income\"])\n",
    "\n",
    "predictions = clf.predict(train[columns])\n",
    "print(roc_auc_score(train[\"high_income\"], predictions))\n",
    "\n",
    "predictions = clf.predict(test[columns])\n",
    "print(roc_auc_score(test[\"high_income\"], predictions))"
   ]
  },
  {
   "cell_type": "code",
   "execution_count": null,
   "metadata": {},
   "outputs": [],
   "source": []
  },
  {
   "cell_type": "markdown",
   "metadata": {},
   "source": [
    "## When to Use Random Forests\n",
    "\n",
    "As we can see in the code cell from the previous screen, overfitting decreased with a random forest, and accuracy went up overall.<br>\n",
    "\n",
    "While the random forest algorithm is incredibly powerful, it isn't applicable to all tasks. \n",
    "\n",
    "### The main strengths of a random forest are:\n",
    "\n",
    "* **Very accurate predictions** - Random forests achieve near state-of-the-art performance on many machine learning tasks. Along with neural networks and gradient-boosted trees, they're typically one of the top-performing algorithms.\n",
    "* **Resistance to overfitting** - Due to their construction, random forests are fairly resistant to overfitting. We still need to set and tweak parameters like `max_depth` though.\n",
    "\n",
    "### The main weaknesses of using a random forest are:\n",
    "\n",
    "* **They're difficult to interpret** - Because we've averaging the results of many trees, it can be hard to figure out why a random forest is making predictions the way it is.\n",
    "* **They take longer to create** - Making two trees takes twice as long as making one, making three takes three times as long, and so on. Fortunately, we can exploit multicore processors to parallelize tree construction. Scikit allows us to do this through the `n_jobs` parameter on RandomForestClassifier. We'll discuss parallelization in greater detail later on.\n",
    "\n",
    "Given these trade-offs, it makes sense to use random forests in situations where accuracy is of the utmost importance; being able to interpret or explain the decisions the model is making isn't key. In cases where time is of the essence or interpretability is important, a single decision tree may be a better choice.<br>\n",
    "\n",
    "Next up in this course is a guided project where you'll explore using random forests to predict bike rentals."
   ]
  },
  {
   "cell_type": "code",
   "execution_count": null,
   "metadata": {},
   "outputs": [],
   "source": []
  }
 ],
 "metadata": {
  "kernelspec": {
   "display_name": "Python 3",
   "language": "python",
   "name": "python3"
  },
  "language_info": {
   "codemirror_mode": {
    "name": "ipython",
    "version": 3
   },
   "file_extension": ".py",
   "mimetype": "text/x-python",
   "name": "python",
   "nbconvert_exporter": "python",
   "pygments_lexer": "ipython3",
   "version": "3.6.2"
  }
 },
 "nbformat": 4,
 "nbformat_minor": 2
}
