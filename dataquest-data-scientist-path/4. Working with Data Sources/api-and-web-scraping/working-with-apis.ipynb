{
 "cells": [
  {
   "cell_type": "markdown",
   "metadata": {},
   "source": [
    "# Working with APIs\n",
    "\n",
    "We've worked with data sets pretty extensively so far. While they're popular resources, there are many cases where it's impractical to use one.<br>\n",
    "\n",
    "Here are a few situations where data sets don't work well:\n",
    "\n",
    "* **The data change frequently.** It doesn't really make sense to regenerate a data set of stock prices, for example, and download it every minute. This approach would require a lot of bandwidth, and be very slow.\n",
    "* You only want a small piece of a much larger data set. [Reddit](https://www.reddit.com/) comments are one example. What if you want to pull just your own comments from reddit? It doesn't make much sense to download the entire reddit database, then filter it for a few items.\n",
    "* It involves repeated computation. For example, Spotify has an API that can tell you the genre of a piece of music. You could theoretically create your own classifier and use it to categorize music, but you'll never have as much data as Spotify does.\n",
    "\n",
    "In cases like these, **an application program interface (API)** is the right solution. An API is a set of methods and tools that allows different applications to interact with each other. Programmers use APIs to query and retrieve data dynamically (which they can then integrate with their own apps). A client can retrieve information quickly and effectively through an API.<br>\n",
    "\n",
    "Reddit, Spotify, Twitter, Facebook, and many other companies provide free APIs that enable developers to access the information they store on their servers; others charge for access to their APIs.<br>\n",
    "\n",
    "In this mission, we'll query a basic API to retrieve data about the [International Space Station (ISS)](https://en.wikipedia.org/wiki/International_Space_Station). Using an API will save us time and effort, instead of doing all the computation ourselves."
   ]
  },
  {
   "cell_type": "code",
   "execution_count": null,
   "metadata": {
    "collapsed": true
   },
   "outputs": [],
   "source": []
  },
  {
   "cell_type": "markdown",
   "metadata": {},
   "source": [
    "**Organizations host their APIs on Web servers.** When you type `www.google.com` in your browser's address bar, your computer is actually asking the `www.google.com` server for a Web page, which it then returns to your browser.<br>\n",
    "\n",
    "APIs work much the same way, except instead of your Web browser asking for a Web page, your program asks for data. The API usually returns this data in [JavaScript Object Notation](http://json.org/) (JSON) format. We'll discuss JSON more later on in this mission.<br>\n",
    "\n",
    "We make an API request to the Web server we want to get data from. The server then replies and sends it to us. In Python, we use the [requests library](http://www.python-requests.org/en/latest/) to do this."
   ]
  },
  {
   "cell_type": "code",
   "execution_count": null,
   "metadata": {
    "collapsed": true
   },
   "outputs": [],
   "source": []
  },
  {
   "cell_type": "markdown",
   "metadata": {},
   "source": [
    "### GET request\n",
    "\n",
    "We can use a simple GET request to retrieve information from the [OpenNotify API](http://open-notify.org/).\n",
    "\n",
    "OpenNotify has several **API endpoints**. \n",
    "* An endpoint is **a server route for retrieving specific data from an API**. \n",
    "* For example, the `/comments` endpoint on the reddit API might retrieve information about comments, while the `/users` endpoint might retrieve data about users.\n",
    "\n",
    "The first endpoint we'll look at on OpenNotify is the `iss-now.json` endpoint. This endpoint gets the current latitude and longitude position of the ISS. A data set wouldn't be a great fit for this task because the information changes often, and involves some calculation on the server.\n",
    "\n",
    "* [Check out the complete list of OpenNotify endpoints](http://open-notify.org/Open-Notify-API/).\n",
    "\n",
    "We've imported `requests` for you already, so please avoid doing it again in this mission. Importing `requests` will overwrite some of the custom API logic we've developed for answer checking."
   ]
  },
  {
   "cell_type": "markdown",
   "metadata": {},
   "source": []
  },
  {
   "cell_type": "code",
   "execution_count": 4,
   "metadata": {
    "collapsed": true
   },
   "outputs": [],
   "source": [
    "import requests"
   ]
  },
  {
   "cell_type": "code",
   "execution_count": 13,
   "metadata": {
    "collapsed": false
   },
   "outputs": [
    {
     "data": {
      "text/plain": [
       "200"
      ]
     },
     "execution_count": 13,
     "metadata": {},
     "output_type": "execute_result"
    }
   ],
   "source": [
    "# Make a get request to get the latest position of the ISS from the OpenNotify API.\n",
    "response_iss_now = requests.get(\"http://api.open-notify.org/iss-now.json\")\n",
    "status_code = response_iss_now.status_code\n",
    "status_code"
   ]
  },
  {
   "cell_type": "code",
   "execution_count": null,
   "metadata": {
    "collapsed": true
   },
   "outputs": [],
   "source": []
  },
  {
   "cell_type": "markdown",
   "metadata": {},
   "source": [
    "### Status Code\n",
    "The request we just made returned a status code of `200`. Web servers return status codes every time they receive an API request. **A status code provides information about what happened with a request**. Here are some codes that are relevant to GET requests:\n",
    "\n",
    "[**status codes from GET requests**]\n",
    "* `200` - Everything went okay, and the server returned a result (if any).\n",
    "* `301` - The server is redirecting you to a different endpoint. This can happen when a company switches domain names, or an endpoint's name has changed.\n",
    "* `401` - The server thinks you're not authenticated. This happens when you don't send the right credentials to access an API (we'll talk about this in a later mission).\n",
    "* `400` - The server thinks you made a bad request. This can happen when you don't send the information the API requires to process your request, among other things.\n",
    "* `403` - The resource you're trying to access is forbidden; you don't have the right permissions to see it.\n",
    "* `404` - The server didn't find the resource you tried to access.\n"
   ]
  },
  {
   "cell_type": "code",
   "execution_count": null,
   "metadata": {
    "collapsed": true
   },
   "outputs": [],
   "source": []
  },
  {
   "cell_type": "code",
   "execution_count": 10,
   "metadata": {
    "collapsed": false
   },
   "outputs": [
    {
     "data": {
      "text/plain": [
       "404"
      ]
     },
     "execution_count": 10,
     "metadata": {},
     "output_type": "execute_result"
    }
   ],
   "source": [
    "response_iss_pass = requests.get(\"http://api.open-notify.org/iss-pass\")\n",
    "status_code = response_iss_pass.status_code\n",
    "status_code"
   ]
  },
  {
   "cell_type": "code",
   "execution_count": 14,
   "metadata": {
    "collapsed": false
   },
   "outputs": [
    {
     "data": {
      "text/plain": [
       "400"
      ]
     },
     "execution_count": 14,
     "metadata": {},
     "output_type": "execute_result"
    }
   ],
   "source": [
    "response_iss_pass = requests.get(\"http://api.open-notify.org/iss-pass.json\")\n",
    "status_code = response_iss_pass.status_code\n",
    "status_code"
   ]
  },
  {
   "cell_type": "code",
   "execution_count": null,
   "metadata": {
    "collapsed": true
   },
   "outputs": [],
   "source": []
  },
  {
   "cell_type": "markdown",
   "metadata": {},
   "source": [
    "You'll see that in the last example, we got a `400` status code, which indicates a bad request. If you look at the documentation for the OpenNotify API, we see that the [ISS Pass](http://open-notify.org/Open-Notify-API/ISS-Pass-Times/) endpoint requires two parameters.\n",
    "\n",
    "* This endpoint returns the next time the ISS will pass over **a given location on the Earth**.\n",
    "* To request this information, we'll need to pass the coordinates for a specific location to the API. \n",
    "* We do this by passing in two parameters, latitude and longitude.\n",
    "* To accomplish this, we can add an optional keyword argument, `params`, to our request. In this case, we need to pass in two parameters:\n",
    "\n",
    "  * `lat` - The latitude of the location\n",
    "  * `lon` - The longitude of the location\n",
    "\n",
    "We can make a dictionary that contains these parameters, and then pass them into the function. We can also do the same thing directly by adding the query parameters to the url, like this:\n",
    "\n",
    "`http://api.open-notify.org/iss-pass.json?lat=40.71&lon=-74`\n",
    "\n",
    "* **It's almost always preferable to set up the parameters as a dictionar**y, because the requests library we mentioned earlier takes care of certain issues, like properly formatting the query parameters."
   ]
  },
  {
   "cell_type": "code",
   "execution_count": 16,
   "metadata": {
    "collapsed": false
   },
   "outputs": [
    {
     "name": "stdout",
     "output_type": "stream",
     "text": [
      "b'{\\n  \"message\": \"success\", \\n  \"request\": {\\n    \"altitude\": 100, \\n    \"datetime\": 1510825691, \\n    \"latitude\": 40.71, \\n    \"longitude\": -74.0, \\n    \"passes\": 5\\n  }, \\n  \"response\": [\\n    {\\n      \"duration\": 626, \\n      \"risetime\": 1510829161\\n    }, \\n    {\\n      \"duration\": 320, \\n      \"risetime\": 1510835057\\n    }, \\n    {\\n      \"duration\": 439, \\n      \"risetime\": 1510883467\\n    }, \\n    {\\n      \"duration\": 638, \\n      \"risetime\": 1510889120\\n    }, \\n    {\\n      \"duration\": 600, \\n      \"risetime\": 1510894942\\n    }\\n  ]\\n}\\n'\n",
      "b'{\\n  \"message\": \"success\", \\n  \"request\": {\\n    \"altitude\": 100, \\n    \"datetime\": 1510822978, \\n    \"latitude\": 40.71, \\n    \"longitude\": -74.0, \\n    \"passes\": 5\\n  }, \\n  \"response\": [\\n    {\\n      \"duration\": 612, \\n      \"risetime\": 1510823374\\n    }, \\n    {\\n      \"duration\": 626, \\n      \"risetime\": 1510829161\\n    }, \\n    {\\n      \"duration\": 320, \\n      \"risetime\": 1510835057\\n    }, \\n    {\\n      \"duration\": 439, \\n      \"risetime\": 1510883467\\n    }, \\n    {\\n      \"duration\": 638, \\n      \"risetime\": 1510889120\\n    }\\n  ]\\n}\\n'\n"
     ]
    }
   ],
   "source": [
    "# Set up the parameters we want to pass to the API.\n",
    "# This is the latitude and longitude of New York City.\n",
    "parameters = {\"lat\": 40.71, \"lon\": -74}\n",
    "\n",
    "# Make a get request with the parameters.\n",
    "response = requests.get(\"http://api.open-notify.org/iss-pass.json\", params=parameters)\n",
    "\n",
    "# Print the content of the response (the data the server returned)\n",
    "print(response.content)\n",
    "\n",
    "# This gets the same data as the command above\n",
    "response = requests.get(\"http://api.open-notify.org/iss-pass.json?lat=40.71&lon=-74\")\n",
    "print(response.content)\n",
    "\n",
    "content_isspass_4071_n74 = response.content"
   ]
  },
  {
   "cell_type": "code",
   "execution_count": null,
   "metadata": {
    "collapsed": true
   },
   "outputs": [],
   "source": []
  },
  {
   "cell_type": "markdown",
   "metadata": {},
   "source": [
    "### JSON format\n",
    "\n",
    "You may have noticed that the content of the API response we received earlier was a `string`. Strings are the way we pass information back and forth through APIs, but it's hard to get the information we want out of them. \n",
    "#### How do we know how to decode the string we receive and work with it in Python?\n",
    "\n",
    "Luckily, there's a format we call **JSON**. We mentioned it earlier in the mission. This format encodes data structures like lists and dictionaries as strings to ensure that machines can read them easily. JSON is the primary format for sending and receiving data through APIs.<br>\n",
    "\n",
    "Python offers great support for JSON through its `json` library. We can convert lists and dictionaries to JSON, and vice versa. Our ISS Pass data, for example, is a dictionary encoded as a string in JSON format.<br>\n",
    "\n",
    "The JSON library has two main methods:\n",
    "\n",
    "* `dumps` -- Takes in a Python object, and converts it to a string\n",
    "* `loads` -- Takes a JSON string, and converts it to a Python object"
   ]
  },
  {
   "cell_type": "code",
   "execution_count": 18,
   "metadata": {
    "collapsed": false
   },
   "outputs": [
    {
     "name": "stdout",
     "output_type": "stream",
     "text": [
      "<class 'list'>\n",
      "<class 'str'>\n",
      "<class 'list'>\n",
      "<class 'str'>\n",
      "{\"Starbucks\": 10821, \"Pizza Hut\": 7600, \"McDonalds\": 14098, \"Subway\": 24722}\n",
      "{'Pizza Hut': 7600, 'McDonalds': 14098, 'Starbucks': 10821, 'Subway': 24722}\n"
     ]
    }
   ],
   "source": [
    "# Make a list of fast food chains.\n",
    "best_food_chains = [\"Taco Bell\", \"Shake Shack\", \"Chipotle\"]\n",
    "print(type(best_food_chains))\n",
    "\n",
    "# Import the JSON library.\n",
    "import json\n",
    "\n",
    "# Use json.dumps to convert best_food_chains to a string.\n",
    "best_food_chains_string = json.dumps(best_food_chains)\n",
    "print(type(best_food_chains_string))\n",
    "\n",
    "# Convert best_food_chains_string back to a list.\n",
    "print(type(json.loads(best_food_chains_string)))\n",
    "\n",
    "# Make a dictionary\n",
    "fast_food_franchise = {\n",
    "    \"Subway\": 24722,\n",
    "    \"McDonalds\": 14098,\n",
    "    \"Starbucks\": 10821,\n",
    "    \"Pizza Hut\": 7600\n",
    "}\n",
    "\n",
    "# We can also dump a dictionary to a string and load it.\n",
    "fast_food_franchise_string = json.dumps(fast_food_franchise)\n",
    "print(type(fast_food_franchise_string))\n",
    "\n",
    "# Takes a JASON string and converts it to a Python object.\n",
    "fast_food_franchise_2 = json.loads(fast_food_franchise_string)\n",
    "\n",
    "print(fast_food_franchise_string)\n",
    "print(fast_food_franchise_2)"
   ]
  },
  {
   "cell_type": "code",
   "execution_count": null,
   "metadata": {
    "collapsed": true
   },
   "outputs": [],
   "source": []
  },
  {
   "cell_type": "markdown",
   "metadata": {},
   "source": [
    "We can get the content of a response as a Python object by using the `.json()` method on the response."
   ]
  },
  {
   "cell_type": "code",
   "execution_count": 19,
   "metadata": {
    "collapsed": false
   },
   "outputs": [
    {
     "name": "stdout",
     "output_type": "stream",
     "text": [
      "<class 'dict'>\n",
      "{'response': [{'duration': 471, 'risetime': 1510828703}, {'duration': 573, 'risetime': 1510834510}, {'duration': 637, 'risetime': 1510840286}, {'duration': 429, 'risetime': 1510846144}, {'duration': 467, 'risetime': 1510894516}], 'request': {'latitude': 37.78, 'altitude': 100, 'passes': 5, 'longitude': -122.41, 'datetime': 1510826230}, 'message': 'success'}\n"
     ]
    }
   ],
   "source": [
    "# San Francisco location values\n",
    "parameters = {\"lat\": 37.78, \"lon\": -122.41}\n",
    "response = requests.get(\"http://api.open-notify.org/iss-pass.json\", params=parameters)\n",
    "\n",
    "# Get the response data as a Python object.  Verify that it's a dictionary.\n",
    "json_data = response.json()\n",
    "print(type(json_data))\n",
    "print(json_data)"
   ]
  },
  {
   "cell_type": "code",
   "execution_count": 22,
   "metadata": {
    "collapsed": false
   },
   "outputs": [
    {
     "data": {
      "text/plain": [
       "[{'duration': 471, 'risetime': 1510828703},\n",
       " {'duration': 573, 'risetime': 1510834510},\n",
       " {'duration': 637, 'risetime': 1510840286},\n",
       " {'duration': 429, 'risetime': 1510846144},\n",
       " {'duration': 467, 'risetime': 1510894516}]"
      ]
     },
     "execution_count": 22,
     "metadata": {},
     "output_type": "execute_result"
    }
   ],
   "source": [
    "json_data['response']"
   ]
  },
  {
   "cell_type": "code",
   "execution_count": 24,
   "metadata": {
    "collapsed": false
   },
   "outputs": [],
   "source": [
    "# Get the duration value of the ISS' first pass over San Francisco \n",
    "# and assign the value to first_pass_duration.\n",
    "\n",
    "first_pass_duration = json_data['response'][0]['duration']"
   ]
  },
  {
   "cell_type": "code",
   "execution_count": null,
   "metadata": {
    "collapsed": true
   },
   "outputs": [],
   "source": []
  },
  {
   "cell_type": "markdown",
   "metadata": {},
   "source": [
    "### The server sends more than a status code and the data when it generates a response. \n",
    "It also sends **metadata** containing \n",
    "* information on how it generated the data\n",
    "* how to decode it\n",
    "\n",
    "This information appears in the response headers. We can access it using the .headers property that responses have.\n",
    "\n",
    "* The headers will appear as a dictionary. For now, the content-type within the headers is the most important key. It tells us the format of the response, and how to decode it. \n",
    "  * For the OpenNotify API, the format is JSON, which is why we could decode it with JSON earlier."
   ]
  },
  {
   "cell_type": "code",
   "execution_count": 26,
   "metadata": {
    "collapsed": false
   },
   "outputs": [
    {
     "name": "stdout",
     "output_type": "stream",
     "text": [
      "{'Date': 'Thu, 16 Nov 2017 09:57:10 GMT', 'Via': '1.1 vegur', 'Content-Type': 'application/json', 'Content-Length': '521', 'Server': 'nginx/1.10.3', 'Connection': 'keep-alive'}\n"
     ]
    }
   ],
   "source": [
    "print(response.headers)\n",
    "content_type = response.headers['Content-Type']"
   ]
  },
  {
   "cell_type": "code",
   "execution_count": 27,
   "metadata": {
    "collapsed": false
   },
   "outputs": [
    {
     "data": {
      "text/plain": [
       "'application/json'"
      ]
     },
     "execution_count": 27,
     "metadata": {},
     "output_type": "execute_result"
    }
   ],
   "source": [
    "content_type"
   ]
  },
  {
   "cell_type": "code",
   "execution_count": null,
   "metadata": {
    "collapsed": true
   },
   "outputs": [],
   "source": []
  },
  {
   "cell_type": "markdown",
   "metadata": {},
   "source": [
    "OpenNotify has one more API endpoint, `astros.json`. It tells us how many people are currently in space. \n",
    "* You can find the format of the responses [here](http://open-notify.org/Open-Notify-API/People-In-Space/).\n",
    "\n",
    "Because we implement our own version of this API on our servers, this number will most likely be different from the current number (and when you try to access the original API outside of Dataquest)."
   ]
  },
  {
   "cell_type": "code",
   "execution_count": 29,
   "metadata": {
    "collapsed": false
   },
   "outputs": [
    {
     "data": {
      "text/plain": [
       "{'Date': 'Thu, 16 Nov 2017 10:07:42 GMT', 'Content-Type': 'application/json', 'Content-Length': '311', 'Server': 'nginx/1.10.3', 'access-control-allow-origin': '*', 'Connection': 'keep-alive'}"
      ]
     },
     "execution_count": 29,
     "metadata": {},
     "output_type": "execute_result"
    }
   ],
   "source": [
    "response_astros = requests.get(\"http://api.open-notify.org/astros.json\")\n",
    "response_astros.headers"
   ]
  },
  {
   "cell_type": "code",
   "execution_count": 33,
   "metadata": {
    "collapsed": false
   },
   "outputs": [],
   "source": [
    "json_astros = response_astros.json()"
   ]
  },
  {
   "cell_type": "code",
   "execution_count": 34,
   "metadata": {
    "collapsed": false
   },
   "outputs": [
    {
     "data": {
      "text/plain": [
       "{'message': 'success',\n",
       " 'number': 6,\n",
       " 'people': [{'craft': 'ISS', 'name': 'Sergey Ryazanskiy'},\n",
       "  {'craft': 'ISS', 'name': 'Randy Bresnik'},\n",
       "  {'craft': 'ISS', 'name': 'Paolo Nespoli'},\n",
       "  {'craft': 'ISS', 'name': 'Alexander Misurkin'},\n",
       "  {'craft': 'ISS', 'name': 'Mark Vande Hei'},\n",
       "  {'craft': 'ISS', 'name': 'Joe Acaba'}]}"
      ]
     },
     "execution_count": 34,
     "metadata": {},
     "output_type": "execute_result"
    }
   ],
   "source": [
    "json_astros"
   ]
  },
  {
   "cell_type": "code",
   "execution_count": null,
   "metadata": {
    "collapsed": true
   },
   "outputs": [],
   "source": []
  },
  {
   "cell_type": "code",
   "execution_count": null,
   "metadata": {
    "collapsed": true
   },
   "outputs": [],
   "source": []
  },
  {
   "cell_type": "code",
   "execution_count": null,
   "metadata": {
    "collapsed": true
   },
   "outputs": [],
   "source": []
  }
 ],
 "metadata": {
  "kernelspec": {
   "display_name": "Python [default]",
   "language": "python",
   "name": "python3"
  },
  "language_info": {
   "codemirror_mode": {
    "name": "ipython",
    "version": 3
   },
   "file_extension": ".py",
   "mimetype": "text/x-python",
   "name": "python",
   "nbconvert_exporter": "python",
   "pygments_lexer": "ipython3",
   "version": "3.5.4"
  }
 },
 "nbformat": 4,
 "nbformat_minor": 2
}
