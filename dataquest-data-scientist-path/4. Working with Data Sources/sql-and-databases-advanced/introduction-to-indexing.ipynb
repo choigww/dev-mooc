{
 "cells": [
  {
   "cell_type": "markdown",
   "metadata": {},
   "source": [
    "# SQL and Databases: Advanced\n",
    "## Introduction To Indexing\n",
    "\n",
    "In this mission, we'll explore how queries are executed in SQLite. After exploring this at a high level, \n",
    "### we explore how to create and use indexes for better performance. \n",
    "As our data gets larger and our queries more complex, it's important to be able to tweak the queries we write and **optimize a database's schema to ensure that we're getting results back quickly**. <br>\n",
    "\n",
    "To explore database performance, we'll work with `factbook.db`, a SQLite database that contains information about each country in the world. We'll be working with the `facts` table in the database. Each row in facts represents a single country, and contains several columns, including:\n",
    "\n",
    "* name -- the name of the country.\n",
    "* area -- the total land and sea area of the country.\n",
    "* population -- the population of the country.\n",
    "* birth_rate -- the birth rate of the country.\n",
    "* created_at -- the date the record was created.\n",
    "* updated_at -- the date the record was updated.\n",
    "\n",
    "Here are the first few rows of `facts`:"
   ]
  },
  {
   "cell_type": "code",
   "execution_count": 2,
   "metadata": {},
   "outputs": [],
   "source": [
    "import sqlite3\n",
    "import pandas as pd"
   ]
  },
  {
   "cell_type": "code",
   "execution_count": 10,
   "metadata": {},
   "outputs": [],
   "source": [
    "conn = sqlite3.connect(\"data/factbook.db\")"
   ]
  },
  {
   "cell_type": "code",
   "execution_count": 11,
   "metadata": {},
   "outputs": [
    {
     "data": {
      "text/html": [
       "<div>\n",
       "<style scoped>\n",
       "    .dataframe tbody tr th:only-of-type {\n",
       "        vertical-align: middle;\n",
       "    }\n",
       "\n",
       "    .dataframe tbody tr th {\n",
       "        vertical-align: top;\n",
       "    }\n",
       "\n",
       "    .dataframe thead th {\n",
       "        text-align: right;\n",
       "    }\n",
       "</style>\n",
       "<table border=\"1\" class=\"dataframe\">\n",
       "  <thead>\n",
       "    <tr style=\"text-align: right;\">\n",
       "      <th></th>\n",
       "      <th>id</th>\n",
       "      <th>code</th>\n",
       "      <th>name</th>\n",
       "      <th>area</th>\n",
       "      <th>area_land</th>\n",
       "      <th>area_water</th>\n",
       "      <th>population</th>\n",
       "      <th>population_growth</th>\n",
       "      <th>birth_rate</th>\n",
       "      <th>death_rate</th>\n",
       "      <th>migration_rate</th>\n",
       "      <th>created_at</th>\n",
       "      <th>updated_at</th>\n",
       "      <th>leader</th>\n",
       "    </tr>\n",
       "  </thead>\n",
       "  <tbody>\n",
       "    <tr>\n",
       "      <th>0</th>\n",
       "      <td>1</td>\n",
       "      <td>af</td>\n",
       "      <td>Afghanistan</td>\n",
       "      <td>652230</td>\n",
       "      <td>652230</td>\n",
       "      <td>0</td>\n",
       "      <td>32564342</td>\n",
       "      <td>2.32</td>\n",
       "      <td>38.57</td>\n",
       "      <td>13.89</td>\n",
       "      <td>1.51</td>\n",
       "      <td>2015-11-01 13:19:49.461734</td>\n",
       "      <td>2015-11-01 13:19:49.461734</td>\n",
       "      <td>None</td>\n",
       "    </tr>\n",
       "    <tr>\n",
       "      <th>1</th>\n",
       "      <td>2</td>\n",
       "      <td>al</td>\n",
       "      <td>Albania</td>\n",
       "      <td>28748</td>\n",
       "      <td>27398</td>\n",
       "      <td>1350</td>\n",
       "      <td>3029278</td>\n",
       "      <td>0.30</td>\n",
       "      <td>12.92</td>\n",
       "      <td>6.58</td>\n",
       "      <td>3.30</td>\n",
       "      <td>2015-11-01 13:19:54.431082</td>\n",
       "      <td>2015-11-01 13:19:54.431082</td>\n",
       "      <td>None</td>\n",
       "    </tr>\n",
       "    <tr>\n",
       "      <th>2</th>\n",
       "      <td>3</td>\n",
       "      <td>ag</td>\n",
       "      <td>Algeria</td>\n",
       "      <td>2381741</td>\n",
       "      <td>2381741</td>\n",
       "      <td>0</td>\n",
       "      <td>39542166</td>\n",
       "      <td>1.84</td>\n",
       "      <td>23.67</td>\n",
       "      <td>4.31</td>\n",
       "      <td>0.92</td>\n",
       "      <td>2015-11-01 13:19:59.961286</td>\n",
       "      <td>2015-11-01 13:19:59.961286</td>\n",
       "      <td>None</td>\n",
       "    </tr>\n",
       "    <tr>\n",
       "      <th>3</th>\n",
       "      <td>4</td>\n",
       "      <td>an</td>\n",
       "      <td>Andorra</td>\n",
       "      <td>468</td>\n",
       "      <td>468</td>\n",
       "      <td>0</td>\n",
       "      <td>85580</td>\n",
       "      <td>0.12</td>\n",
       "      <td>8.13</td>\n",
       "      <td>6.96</td>\n",
       "      <td>0.00</td>\n",
       "      <td>2015-11-01 13:20:03.659945</td>\n",
       "      <td>2015-11-01 13:20:03.659945</td>\n",
       "      <td>None</td>\n",
       "    </tr>\n",
       "    <tr>\n",
       "      <th>4</th>\n",
       "      <td>5</td>\n",
       "      <td>ao</td>\n",
       "      <td>Angola</td>\n",
       "      <td>1246700</td>\n",
       "      <td>1246700</td>\n",
       "      <td>0</td>\n",
       "      <td>19625353</td>\n",
       "      <td>2.78</td>\n",
       "      <td>38.78</td>\n",
       "      <td>11.49</td>\n",
       "      <td>0.46</td>\n",
       "      <td>2015-11-01 13:20:08.625072</td>\n",
       "      <td>2015-11-01 13:20:08.625072</td>\n",
       "      <td>None</td>\n",
       "    </tr>\n",
       "  </tbody>\n",
       "</table>\n",
       "</div>"
      ],
      "text/plain": [
       "   id code         name     area  area_land  area_water  population  \\\n",
       "0   1   af  Afghanistan   652230     652230           0    32564342   \n",
       "1   2   al      Albania    28748      27398        1350     3029278   \n",
       "2   3   ag      Algeria  2381741    2381741           0    39542166   \n",
       "3   4   an      Andorra      468        468           0       85580   \n",
       "4   5   ao       Angola  1246700    1246700           0    19625353   \n",
       "\n",
       "   population_growth  birth_rate  death_rate  migration_rate  \\\n",
       "0               2.32       38.57       13.89            1.51   \n",
       "1               0.30       12.92        6.58            3.30   \n",
       "2               1.84       23.67        4.31            0.92   \n",
       "3               0.12        8.13        6.96            0.00   \n",
       "4               2.78       38.78       11.49            0.46   \n",
       "\n",
       "                   created_at                  updated_at leader  \n",
       "0  2015-11-01 13:19:49.461734  2015-11-01 13:19:49.461734   None  \n",
       "1  2015-11-01 13:19:54.431082  2015-11-01 13:19:54.431082   None  \n",
       "2  2015-11-01 13:19:59.961286  2015-11-01 13:19:59.961286   None  \n",
       "3  2015-11-01 13:20:03.659945  2015-11-01 13:20:03.659945   None  \n",
       "4  2015-11-01 13:20:08.625072  2015-11-01 13:20:08.625072   None  "
      ]
     },
     "execution_count": 11,
     "metadata": {},
     "output_type": "execute_result"
    }
   ],
   "source": [
    "pd.read_sql('select * from facts limit 5', conn)"
   ]
  },
  {
   "cell_type": "code",
   "execution_count": 12,
   "metadata": {},
   "outputs": [],
   "source": [
    "schema = conn.execute('pragma table_info(facts)').fetchall()"
   ]
  },
  {
   "cell_type": "code",
   "execution_count": 15,
   "metadata": {
    "scrolled": true
   },
   "outputs": [
    {
     "name": "stdout",
     "output_type": "stream",
     "text": [
      "(0, 'id', 'INTEGER', 1, None, 1)\n",
      "(1, 'code', 'varchar(255)', 1, None, 0)\n",
      "(2, 'name', 'varchar(255)', 1, None, 0)\n",
      "(3, 'area', 'integer', 0, None, 0)\n",
      "(4, 'area_land', 'integer', 0, None, 0)\n",
      "(5, 'area_water', 'integer', 0, None, 0)\n",
      "(6, 'population', 'integer', 0, None, 0)\n",
      "(7, 'population_growth', 'float', 0, None, 0)\n",
      "(8, 'birth_rate', 'float', 0, None, 0)\n",
      "(9, 'death_rate', 'float', 0, None, 0)\n",
      "(10, 'migration_rate', 'float', 0, None, 0)\n",
      "(11, 'created_at', 'datetime', 0, None, 0)\n",
      "(12, 'updated_at', 'datetime', 0, None, 0)\n",
      "(13, 'leader', 'text', 0, None, 0)\n"
     ]
    }
   ],
   "source": [
    "for sc in schema:\n",
    "    print(sc)"
   ]
  },
  {
   "cell_type": "code",
   "execution_count": null,
   "metadata": {},
   "outputs": [],
   "source": []
  },
  {
   "cell_type": "markdown",
   "metadata": {},
   "source": [
    "## Query planner"
   ]
  },
  {
   "cell_type": "markdown",
   "metadata": {},
   "source": [
    "When you execute a SQL query, SQLite performs many steps before returning the results to you. First, it tokenizes and parses your query to look for any syntax errors. If there are any syntax errors, the query execution process halts and the error message is returned to you. If the parser was able to successfully parse the query, then SQLite moves on to the query planning and optimization phase. <br>\n",
    "\n",
    "There are many different ways for SQLite to access the underlying data in a database. \n",
    "### When working with a database that's stored on disk as a file, it's crucial to minimize the amount of disk reads necessary to avoid long running times. \n",
    "The **query optimizer** generates cost estimates for the various ways to access the underlying data, factoring in the schema of the tables and the operations the query requires. \n",
    "### The heuristics and algorithms that are involved in query optimization is complex and out of this mission's scope. <br>\n",
    "\n",
    "The optimizer quickly assesses the various ways to access the data and generates a best guess for the fastest **query plan**. This high level query plan is then converted into highly efficient, lower-level C code to interact with the database file on disk. Thankfully, we can observe the query plan to understand what SQLite is doing to return our results."
   ]
  },
  {
   "cell_type": "code",
   "execution_count": null,
   "metadata": {},
   "outputs": [],
   "source": []
  },
  {
   "cell_type": "markdown",
   "metadata": {},
   "source": [
    "## Explain query plan"
   ]
  },
  {
   "cell_type": "markdown",
   "metadata": {},
   "source": [
    "We can use the `EXPLAIN QUERY PLAN` statement before any query we're running to get a high level query plan that would be performed. If you write a `SELECT` statement and place the `EXPLAIN QUERY PLAN` statement before it:\n",
    "\n",
    "`EXPLAIN QUERY PLAN SELECT * FROM facts;`\n",
    "\n",
    "the results of the `SELECT` query **won't be returned and instead the high level query plan will be**:\n",
    "\n",
    "`[(0, 0, 0, 'SCAN TABLE facts')]`\n",
    "\n",
    "We'll focus on the value at index `4` in the returned tuple in this mission. `SCAN TABLE` means that every row in entire table (`facts`) had to be accessed to evaluate the query. Since the `SELECT` query we wrote returns all of the columns and rows in the `facts` table, the entire table had to be accessed to get the results we requested. <br>\n",
    "\n",
    "When running the query using the sqlite3 library, you'll still need to use the `fetchall()` method or the query plan won't be returned:\n",
    "\n",
    "```python\n",
    "query_plan = conn.execute(\"EXPLAIN QUERY PLAN SELECT * FROM facts;\").fetchall()\n",
    "```\n",
    "The query plan is represented as a tuple, which is the sqlite3 library's preferred way of representing results.\n",
    "\n",
    "### practice\n",
    "* Return the query plan for the query that returns all columns and rows where area exceeds 40000. Assign the results to query_plan_one.\n",
    "* Return the query plan for the query that returns only the area column for all rows where area exceeds 40000. Assign the results to query_plan_two.\n",
    "* Return the query plan for the query that returns the row for the country Czech Republic. Assign the results to query_plan_three.\n",
    "* Use the print function to display each query plan."
   ]
  },
  {
   "cell_type": "code",
   "execution_count": 17,
   "metadata": {},
   "outputs": [],
   "source": [
    "plan_one = '''\n",
    "    explain query plan select * from facts where area > 40000;\n",
    "'''\n",
    "\n",
    "query_plan_one = conn.execute(plan_one).fetchall()"
   ]
  },
  {
   "cell_type": "code",
   "execution_count": 16,
   "metadata": {},
   "outputs": [],
   "source": [
    "plan_two = '''\n",
    "    explain query plan select area from facts where area > 40000;\n",
    "'''\n",
    "\n",
    "query_plan_two = conn.execute(plan_two).fetchall()"
   ]
  },
  {
   "cell_type": "code",
   "execution_count": 20,
   "metadata": {},
   "outputs": [],
   "source": [
    "plan_three = '''\n",
    "    explain query plan select * from facts where name = \"Czech Republic\";\n",
    "'''\n",
    "\n",
    "query_plan_three = conn.execute(plan_three).fetchall()"
   ]
  },
  {
   "cell_type": "code",
   "execution_count": 21,
   "metadata": {},
   "outputs": [
    {
     "name": "stdout",
     "output_type": "stream",
     "text": [
      "[(0, 0, 0, 'SCAN TABLE facts')]\n",
      "[(0, 0, 0, 'SCAN TABLE facts')]\n",
      "[(0, 0, 0, 'SCAN TABLE facts')]\n"
     ]
    }
   ],
   "source": [
    "print(query_plan_one)\n",
    "print(query_plan_two)\n",
    "print(query_plan_three)"
   ]
  },
  {
   "cell_type": "code",
   "execution_count": null,
   "metadata": {},
   "outputs": [],
   "source": []
  },
  {
   "cell_type": "markdown",
   "metadata": {},
   "source": [
    "## Data representation"
   ]
  },
  {
   "cell_type": "markdown",
   "metadata": {},
   "source": [
    "**You'll notice that all 3 query plans are exactly the same**. The entire `facts` table had to be accessed to return the data we needed for all 3 queries. \n",
    "### Even though all the queries asked for a subset of the facts table, SQLite still ends up scanning the entire table. Why is this? \n",
    "\n",
    "This is because of the way SQLite represents data. <br>\n",
    "\n",
    "For the `facts` table, we set the `id` column as the primary key and SQLite uses this column to order the records in the database file. Since the rows are ordered by `id`, SQLite can search for a specific row based on it's `id` value using binary search. Unless we provide specific `id` values in the `WHERE` statement in the query, SQLite can't take advantage of binary search and has to instead scan the entire table, row by row. To return the results for the first 2 queries, SQLite has to:\n",
    "\n",
    "* access the first row in the table (lowest id value),\n",
    "  * check if that row's value for area exceeds 40000 and store the row separately in a temporary collection if it is,\n",
    "* move onto the next row,\n",
    "  * check if that row's value for area exceeds 40000 and store the row separately in a temporary collection if it is,\n",
    "* repeat moving and checking each row for the rest of the table,\n",
    "* return the final collection of rows that meet the criteria.\n",
    "\n",
    "Here's a diagram of what that looks like:"
   ]
  },
  {
   "cell_type": "markdown",
   "metadata": {},
   "source": [
    "![](img/9.png)\n",
    "![](img/10.png)"
   ]
  },
  {
   "cell_type": "markdown",
   "metadata": {},
   "source": [
    "If we were instead interested in a row with a specific `id` value, like in the following query:\n",
    "\n",
    "`SELECT * FROM facts WHERE id=15;`\n",
    "\n",
    "### SQLite can use binary search to quickly find the corresponding row at that id value. \n",
    "Instead of performing a full table scan, SQLite would:\n",
    "\n",
    "* use **binary search** to find the first row where the `id` value matches `15` in `O(log N) time complexity` and store this row in a temporary collection,\n",
    "* advance to the next row to look for any more rows with the same `id` values and add those rows to the temporary collection,\n",
    "* return the final collection of rows that matched.\n",
    "\n",
    "If we set the `id` column to be a `UNIQUE PRIMARY KEY` when we created the schema, SQLite would stop searching when it found the instances that matched the `id` value. It would avoid advancing to the next row(s) since no 2 rows could have the same `id` value. While we didn't enforce the `UNIQUE` constraint on the id column, all of the values currently in the column are in fact unique and SQLite will only have to advance one row to realize this since they're ordered. <br>\n",
    "\n",
    "### If you need a refresher on algorithmic complexity head to our mission on [Algorithms](https://www.dataquest.io/mission/93/algorithms/). If you want to dive into binary search, check out our mission on [Binary Search](https://www.dataquest.io/mission/94/binary-search/)."
   ]
  },
  {
   "cell_type": "code",
   "execution_count": 22,
   "metadata": {},
   "outputs": [
    {
     "name": "stdout",
     "output_type": "stream",
     "text": [
      "[(0, 0, 0, 'SEARCH TABLE facts USING INTEGER PRIMARY KEY (rowid=?)')]\n"
     ]
    }
   ],
   "source": [
    "# practice\n",
    "\n",
    "plan_four = '''\n",
    "    explain query plan select * from facts where id=20;\n",
    "'''\n",
    "\n",
    "query_plan_four = conn.execute(plan_four).fetchall()\n",
    "\n",
    "print(query_plan_four)"
   ]
  },
  {
   "cell_type": "code",
   "execution_count": null,
   "metadata": {},
   "outputs": [],
   "source": []
  },
  {
   "cell_type": "markdown",
   "metadata": {},
   "source": [
    "Instead of using **a full table scan**:\n",
    "\n",
    "`[(0, 0, 0, 'SCAN TABLE facts')]`\n",
    "\n",
    "SQLite performed **binary search on the facts table using the integer primary key**:\n",
    "\n",
    "`[(0, 0, 0, 'SEARCH TABLE facts USING INTEGER PRIMARY KEY (rowid=?)')]`\n",
    "\n",
    "SQLite uses rowid to refer to the primary key of a table. The alias rowid will be displayed in the query plan, no matter what you name the primary key column for that table. Either SCAN or SEARCH will always appear at the start of the query explanation for SELECT queries."
   ]
  },
  {
   "cell_type": "code",
   "execution_count": null,
   "metadata": {},
   "outputs": [],
   "source": []
  },
  {
   "cell_type": "markdown",
   "metadata": {},
   "source": [
    "## Indexing\n",
    "\n",
    "SQLite can take advantage of speedy lookups when searching for a specific primary key. Unfortunately, we don't always have the primary keys for the rows we're interested in beforehand. When we're expressing our intent as a SQL query, we're often thinking in terms of row and column values. We need to find a way that allows us to benefit from the speed of primary key lookups without actually knowing the primary key in advance. <br>\n",
    "\n",
    "To that end, we could create a separate table that's optimized for lookups by a different column from the facts table instead of by the id. We can make the column we want to query by the primary key, so we get the speed benefits, and embed the id value from the facts table corresponding to that row. We call this table an index and each row in the index contains:\n",
    "\n",
    "* the value we want to be able to search by, as the **primary key**,\n",
    "* an `id` value for the corresponding row in `facts`.\n",
    "\n",
    "Let's walk through a concrete example. If we wrote a `SELECT` query to look up the population of India from the facts table:\n",
    "\n",
    "`SELECT population FROM facts WHERE name = 'India';`\n",
    "\n",
    "SQLite would need to **perform a full table scan on facts** to find the specific row where the value for name was India. We can instead create **an index that's ordered by name values (primary key)** and where each row contains the corresponding row's id from the facts table. Here's what that index would look like:\n",
    "\n",
    "![](img/11.png)\n",
    "\n",
    "We can write a query that uses the primary key, the country name, of the index table, which we'll call `name_idx`, to look up the row we're interested in and then extract the `id` value for that row in `facts`. Then, we can write a separate query that uses the id value returned from the previous query to look up the specific row in the `facts` table that contains information on India and then return just the population value. <br>\n",
    "\n",
    "Instead of performing a single full table scan of `facts`, SQLite would perform a binary search on the index then another binary search on facts using the `id` value. Both queries are taking advantage of the primary key for the index and the facts table to quickly return the results we want. Here's a diagram of these concepts:\n",
    "\n",
    "![](img/12.png)"
   ]
  },
  {
   "cell_type": "code",
   "execution_count": null,
   "metadata": {},
   "outputs": [],
   "source": []
  },
  {
   "cell_type": "markdown",
   "metadata": {},
   "source": [
    "## Create an Index"
   ]
  },
  {
   "cell_type": "markdown",
   "metadata": {},
   "source": [
    "Instead of creating a separate table and updating it ourselves, **we can specify a column we want an index table for and SQLite will take care of the rest**. SQLite, and most databases, make it easy for you to create indexes for tables on columns we plan to query often. To create an index we use the [`CREATE INDEX` statement](https://www.sqlite.org/lang_createindex.html). Here's the psuedo-code for that statement:\n",
    "\n",
    "`CREATE INDEX index_name ON table_name(column_name);`\n",
    "\n",
    "As you can see from the psuedo-code above, each index we create needs a name (to replace `index_name`). Similar to when you add a table to a database, using the `IF NOT EXISTS` clause helps you avoid attempting to create an index that already exists. Doing so will cause SQLite to throw an error. To create an index for the `area` column called `area_idx`, we write the following query:\n",
    "\n",
    "`CREATE INDEX IF NOT EXISTS area_idx ON facts(area);`\n",
    "\n"
   ]
  },
  {
   "cell_type": "markdown",
   "metadata": {},
   "source": [
    "An empty array will be returned when you run the query. The main benefit of having SQLite handle the maintenance of indexes we create is that the indexes are used automatically when we execute a query whenever there will be any speed advantages. As our queries become more complex, letting SQLite decide how and when to use the indexes we create helps us be much more productive. <br>\n",
    "\n",
    "If we create an index for the `area` column in the `facts` table, **SQLite will use the index whenever we search for rows in `facts` using that column**. This index would be similar to the one we worked with in the past step and each row would only contain the area value and the corresponding row's id value. The index would be ordered by the area values for quick lookups.\n",
    "\n",
    "* All three of the following queries would take advantage of the `area_idx` index:\n",
    "\n",
    "```sql\n",
    "SELECT * FROM facts WHERE area = 10000;\n",
    "SELECT * FROM facts WHERE area > 10000;\n",
    "SELECT * FROM facts WHERE area < 10000;\n",
    "```\n",
    "\n",
    "Since the `area_idx` index would be ordered by the `area` values, SQLite would:\n",
    "\n",
    "* search for the first instance in the index where area equaled 10000 and store the id value in a temporary collection.\n",
    "* it would then advance to the next row in the index to check if the WHERE condition was still met.\n",
    "  * if not, then the temporary collection would be returned and the process completes.\n",
    "  * if so, then SQLite would add that id value to the collection and check the next row.\n",
    "* when SQLite finds a value for area that doesn't match the WHERE condition,\n",
    "  * it will look up and return the rows in facts using the id values stored in the temporary collection.\n",
    "  * each of these lookups will be O(log N) time complexity and while this could add up, it will still be faster than a full table scan.\n",
    "\n",
    "This process allows us to just write one query instead of 2 and have SQLite maintain and interact with the index. A table can have many indexes, and most tables in production environments usually do have many indexes. Every time you add or delete a row to the table, all of the indexes will be updated. If you edit the values in a row, SQLite will figure out which indexes are affected by the changes and update those indexes. <br>\n",
    "\n",
    "While creating indexes gives us tremendous speed benefits, they come at the cost of space. Each index needs to be stored in the database file. In addition, adding, editing, and deleting rows takes longer since each of the affected indexes need to be updated. Since indexes can be created after a table is created, it's recommended to only create an index when you find yourself querying on a specific column frequently. Throughout the rest of the course, we'll explore how to understand the tradeoffs and you'll develop a better sense of how to create indexes in an optimal way."
   ]
  },
  {
   "cell_type": "code",
   "execution_count": null,
   "metadata": {},
   "outputs": [],
   "source": []
  },
  {
   "cell_type": "code",
   "execution_count": 23,
   "metadata": {},
   "outputs": [
    {
     "name": "stdout",
     "output_type": "stream",
     "text": [
      "[(0, 0, 0, 'SCAN TABLE facts')]\n"
     ]
    }
   ],
   "source": [
    "# practice\n",
    "\n",
    "plan_six = '''\n",
    "    explain query plan select * from facts where population > 10000;\n",
    "'''\n",
    "\n",
    "query_plan_six = conn.execute(plan_six).fetchall()\n",
    "print(query_plan_six)"
   ]
  },
  {
   "cell_type": "code",
   "execution_count": 24,
   "metadata": {},
   "outputs": [
    {
     "data": {
      "text/plain": [
       "<sqlite3.Cursor at 0x114130dc0>"
      ]
     },
     "execution_count": 24,
     "metadata": {},
     "output_type": "execute_result"
    }
   ],
   "source": [
    "create_index_pop = '''\n",
    "    create index if not exists pop_idx on facts(population)\n",
    "'''\n",
    "conn.execute(create_index_pop)"
   ]
  },
  {
   "cell_type": "code",
   "execution_count": 25,
   "metadata": {},
   "outputs": [
    {
     "name": "stdout",
     "output_type": "stream",
     "text": [
      "[(0, 0, 0, 'SEARCH TABLE facts USING INDEX pop_idx (population>?)')]\n"
     ]
    }
   ],
   "source": [
    "plan_seven = plan_six\n",
    "query_plan_seven = conn.execute(plan_seven).fetchall()\n",
    "\n",
    "print(query_plan_seven)"
   ]
  },
  {
   "cell_type": "code",
   "execution_count": null,
   "metadata": {},
   "outputs": [],
   "source": []
  },
  {
   "cell_type": "markdown",
   "metadata": {},
   "source": [
    "Instead of ending in `USING INDEX pop_idx (population)`, the query plan ended in `USING INDEX pop_idx (population>?)`. This is to indicate the granularity of the lookup that SQLite had to do for that index.\n",
    "\n",
    "* In this mission, we explored how SQLite accessed data and how to create and take advantages of indexes. In the next mission, we'll learn how to create more complex indexes and dive deeper into database performance and learn about multi-column indices."
   ]
  },
  {
   "cell_type": "code",
   "execution_count": null,
   "metadata": {},
   "outputs": [],
   "source": []
  },
  {
   "cell_type": "code",
   "execution_count": 26,
   "metadata": {},
   "outputs": [],
   "source": [
    "conn.close()"
   ]
  }
 ],
 "metadata": {
  "kernelspec": {
   "display_name": "Python 3",
   "language": "python",
   "name": "python3"
  },
  "language_info": {
   "codemirror_mode": {
    "name": "ipython",
    "version": 3
   },
   "file_extension": ".py",
   "mimetype": "text/x-python",
   "name": "python",
   "nbconvert_exporter": "python",
   "pygments_lexer": "ipython3",
   "version": "3.6.2"
  }
 },
 "nbformat": 4,
 "nbformat_minor": 2
}
