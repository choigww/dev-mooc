{
 "cells": [
  {
   "cell_type": "markdown",
   "metadata": {},
   "source": [
    "# Memory and Unicode"
   ]
  },
  {
   "cell_type": "code",
   "execution_count": null,
   "metadata": {},
   "outputs": [],
   "source": []
  },
  {
   "cell_type": "markdown",
   "metadata": {},
   "source": [
    "## Introduction\n",
    "\n",
    "### In this mission, we'll learn how computers store values in memory.\n",
    "\n",
    "Our data set contains excerpts from CIA memos that detail covert activities. It includes the year the statement was made, then an excerpt from the memo. The file, `sentences_cia.csv`, is in CSV format. Here's a preview of the first few lines:\n",
    "\n",
    "```python\n",
    "year,statement,,,\n",
    "1997,\"The FBI information included that al-Mairi's brother \"\"traveled to Afghanistan in 1997-1998 to train in Bin - Ladencamps.\"\"\",,,\n",
    "1997,\"The FBI information included that al-Mairi's brother \"\"traveled to Afghanistan in 1997-1998 to train in Bin - Ladencamps.\"\"\",,,\n",
    "```\n",
    "\n",
    "The file consists of one long string. To use it effectively, we'd need to parse it and convert it into rows and columns. We've covered strings extensively so far, but we haven't covered how a computer stores them.<br>\n",
    "\n",
    "Computers store files on hard drives. A hard drive allows us to save data, turn the computer off, and then access the data again later. The tech community commonly refers to hard drives as magnetic storage, because they store data on magnetic strips.<br>\n",
    "\n",
    "Magnetic strips can only contain a series of two values - up and down. Our entire CSV file saves to a hard drive the same way. We can't directly write strings such as the letter `a` to a hard disk; we need to convert them to a series of magnetic ups and downs first.<br>\n",
    "\n",
    "We can do this with an encoding system called binary. With binary, the only valid numbers are `0` and `1`. This constraint makes it easy to store binary values on a hard disk.<br>\n",
    "\n",
    "On the next few screens, we'll learn how to convert string values to binary values, as well as how to manipulate binary values.\n",
    "\n"
   ]
  },
  {
   "cell_type": "code",
   "execution_count": null,
   "metadata": {},
   "outputs": [],
   "source": []
  },
  {
   "cell_type": "markdown",
   "metadata": {},
   "source": [
    "## The Basics of Binary\n",
    "\n",
    "Computers can't store values like strings or integers directly. Instead, they store information in binary, where the only valid numbers are 0 and 1. This system makes storing data on devices like hard drives possible.<br>\n",
    "\n",
    "However, we normally count in \"base 10.\" We call this system base 10 because there are 10 possible digits - 0 through 9. Binary is base two, because there are only two possible digits - `0` and `1`.<br>\n",
    "\n",
    "To work with binary in Python, we need to enter it as a string. If we enter something like b = 10 directly, for example, Python will assume that it's a base 10 integer (rather than binary). Instead, we would need to put quotes around it to enter it as a string before working with it further.<br>\n",
    "\n",
    "Let's explore how binary numbers work."
   ]
  },
  {
   "cell_type": "code",
   "execution_count": 1,
   "metadata": {},
   "outputs": [
    {
     "name": "stdout",
     "output_type": "stream",
     "text": [
      "2\n"
     ]
    }
   ],
   "source": [
    "# Let's say b is a binary number.  In python, we have to store binary numbers as strings.\n",
    "# If we try to enter it directly as b = 10, Python will assume it's a base 10 integer.\n",
    "b = \"10\"\n",
    "\n",
    "# Now, we can convert b from a string to a binary number \n",
    "# with the int function. \n",
    "# We'll need to set the optional second argument, base, to 2 (binary is base two).\n",
    "\n",
    "print(int(b, 2))"
   ]
  },
  {
   "cell_type": "code",
   "execution_count": 4,
   "metadata": {},
   "outputs": [
    {
     "data": {
      "text/plain": [
       "4"
      ]
     },
     "execution_count": 4,
     "metadata": {},
     "output_type": "execute_result"
    }
   ],
   "source": [
    "base_10_100 = int(\"100\", 2)\n",
    "base_10_100"
   ]
  },
  {
   "cell_type": "code",
   "execution_count": null,
   "metadata": {},
   "outputs": [],
   "source": []
  },
  {
   "cell_type": "markdown",
   "metadata": {},
   "source": [
    "## Binary Addition\n",
    "\n",
    "We can add binary numbers together, just like we can with base 10 numbers."
   ]
  },
  {
   "cell_type": "code",
   "execution_count": 11,
   "metadata": {},
   "outputs": [],
   "source": [
    "a = 99\n",
    "a += 1\n",
    "b = \"1\"\n",
    "\n",
    "# We'll add binary values using a binary_add function that was made just for this exercise.\n",
    "# It's not extremely important to know how it works right this second.\n",
    "def binary_add(a, b):\n",
    "    return bin(int(a, 2) + int(b, 2))[2:]\n",
    "\n",
    "c = binary_add(b, \"1\")"
   ]
  },
  {
   "cell_type": "code",
   "execution_count": 12,
   "metadata": {},
   "outputs": [
    {
     "name": "stdout",
     "output_type": "stream",
     "text": [
      "10\n",
      "11\n",
      "100\n"
     ]
    }
   ],
   "source": [
    "# We now see that c equals \"10\", \n",
    "# which is exactly what happens in base 10 \n",
    "# when we reach the highest possible digit.\n",
    "print(c)\n",
    "\n",
    "# c now equals \"11\"\n",
    "c = binary_add(c, \"1\")\n",
    "print(c)\n",
    "\n",
    "# c now equals \"100\"\n",
    "c = binary_add(c, \"1\")\n",
    "print(c)"
   ]
  },
  {
   "cell_type": "code",
   "execution_count": 13,
   "metadata": {},
   "outputs": [
    {
     "name": "stdout",
     "output_type": "stream",
     "text": [
      "110\n"
     ]
    }
   ],
   "source": [
    "c = binary_add(c, \"10\")\n",
    "print(c)"
   ]
  },
  {
   "cell_type": "code",
   "execution_count": null,
   "metadata": {},
   "outputs": [],
   "source": []
  },
  {
   "cell_type": "markdown",
   "metadata": {},
   "source": [
    "## Converting Binary Values to Other Bases\n",
    "\n",
    "We just saw how we can convert between bases with the `int()` function.<br>\n",
    "\n",
    "Let's see which values in binary equal which values in base 10."
   ]
  },
  {
   "cell_type": "code",
   "execution_count": 14,
   "metadata": {},
   "outputs": [
    {
     "name": "stdout",
     "output_type": "stream",
     "text": [
      "True\n",
      "True\n",
      "True\n",
      "True\n",
      "True\n",
      "True\n",
      "True\n",
      "True\n",
      "True\n",
      "True\n"
     ]
    }
   ],
   "source": [
    "# Start both at 0\n",
    "a = 0\n",
    "b = \"0\"\n",
    "\n",
    "# Loop 10 times\n",
    "for i in range(0, 10):\n",
    "    # Add 1 to each\n",
    "    a += 1\n",
    "    b = binary_add(b, \"1\")\n",
    "\n",
    "    # Check if they are equal\n",
    "    print(int(b, 2) == a)"
   ]
  },
  {
   "cell_type": "markdown",
   "metadata": {},
   "source": [
    "* The cool thing here is that a and b are always equal if we add the same amount to both.\n",
    "* This is because base 2 and base 10 are just ways to write numbers.\n",
    "* Counting 100 apples in base 2 or base 10 will always give us an equivalent result - we just have to convert between them.\n",
    "### We can represent any number in binary; we just need to use more digits than we would in base 10."
   ]
  },
  {
   "cell_type": "code",
   "execution_count": 15,
   "metadata": {},
   "outputs": [
    {
     "data": {
      "text/plain": [
       "9"
      ]
     },
     "execution_count": 15,
     "metadata": {},
     "output_type": "execute_result"
    }
   ],
   "source": [
    "base_10_1001 = int(\"1001\", 2)\n",
    "base_10_1001"
   ]
  },
  {
   "cell_type": "code",
   "execution_count": null,
   "metadata": {},
   "outputs": [],
   "source": []
  },
  {
   "cell_type": "markdown",
   "metadata": {},
   "source": [
    "## Converting Characters to Binary\n",
    "\n",
    "Computers store strings in binary, just like they do with integers. \n",
    "* First, they split them into single characters, \n",
    "* then convert those characters to integers. \n",
    "* Finally, they convert those integers to binary and store them.\n",
    "\n",
    "We'll look at simple characters first - the so called `ASCII` characters. These include all upper and lowercase English letters, digits, and several punctuation symbols."
   ]
  },
  {
   "cell_type": "code",
   "execution_count": null,
   "metadata": {},
   "outputs": [],
   "source": []
  },
  {
   "cell_type": "markdown",
   "metadata": {},
   "source": [
    "We can use the `ord()` function to get the integer for an ASCII character."
   ]
  },
  {
   "cell_type": "code",
   "execution_count": 16,
   "metadata": {},
   "outputs": [
    {
     "data": {
      "text/plain": [
       "97"
      ]
     },
     "execution_count": 16,
     "metadata": {},
     "output_type": "execute_result"
    }
   ],
   "source": [
    "ord('a')"
   ]
  },
  {
   "cell_type": "markdown",
   "metadata": {},
   "source": [
    "Then, we use the `bin()` function to convert to binary. \n",
    "* The bin function adds \"`0b`\" to the beginning of a string to indicate that `it contains binary values`.\n",
    "  * This is the reason we slice `[2:]` when writing `binary_add` function!"
   ]
  },
  {
   "cell_type": "code",
   "execution_count": 17,
   "metadata": {},
   "outputs": [
    {
     "data": {
      "text/plain": [
       "'0b1100001'"
      ]
     },
     "execution_count": 17,
     "metadata": {},
     "output_type": "execute_result"
    }
   ],
   "source": [
    "bin(ord('a'))"
   ]
  },
  {
   "cell_type": "code",
   "execution_count": null,
   "metadata": {},
   "outputs": [],
   "source": []
  },
  {
   "cell_type": "markdown",
   "metadata": {},
   "source": [
    "`ÿ` is the \"last\" ASCII character; it has the highest integer value of any ASCII character.\n",
    "* This is because 255 is the highest value we can represent with eight binary digits."
   ]
  },
  {
   "cell_type": "code",
   "execution_count": 18,
   "metadata": {},
   "outputs": [
    {
     "data": {
      "text/plain": [
       "255"
      ]
     },
     "execution_count": 18,
     "metadata": {},
     "output_type": "execute_result"
    }
   ],
   "source": [
    "ord('ÿ')"
   ]
  },
  {
   "cell_type": "code",
   "execution_count": 20,
   "metadata": {},
   "outputs": [
    {
     "name": "stdout",
     "output_type": "stream",
     "text": [
      "0b11111111\n",
      "11111111\n"
     ]
    }
   ],
   "source": [
    "# As you can see, we get eight 1's, which shows that this is the highest possible eight-digit value.\n",
    "print(bin(ord('ÿ')))\n",
    "print(bin(ord('ÿ'))[2:])"
   ]
  },
  {
   "cell_type": "code",
   "execution_count": null,
   "metadata": {},
   "outputs": [],
   "source": []
  },
  {
   "cell_type": "markdown",
   "metadata": {},
   "source": [
    "### Why is this?  \n",
    "Because `a single binary digit` is called `a bit`, and **computers store values in sequences of eight bits** (i.e., `a byte`).\n",
    "* You might be more familiar with kilobytes or megabytes. A kilobyte is 1000 bytes, and a megabyte is 1000 kilobytes.\n",
    "* There are `256` different `ASCII` symbols, because **the largest amount of storage any single ASCII character can take up is one byte**."
   ]
  },
  {
   "cell_type": "code",
   "execution_count": 21,
   "metadata": {},
   "outputs": [
    {
     "name": "stdout",
     "output_type": "stream",
     "text": [
      "1110111 1111101\n"
     ]
    }
   ],
   "source": [
    "binary_w = bin(ord(\"w\"))\n",
    "binary_bracket = bin(ord(\"}\"))\n",
    "\n",
    "print(binary_w[2:], binary_bracket[2:])"
   ]
  },
  {
   "cell_type": "code",
   "execution_count": null,
   "metadata": {},
   "outputs": [],
   "source": []
  },
  {
   "cell_type": "markdown",
   "metadata": {},
   "source": [
    "## Introduction to Unicode"
   ]
  },
  {
   "cell_type": "markdown",
   "metadata": {},
   "source": [
    "You might be wondering what happened to all of the other characters and alphabets in the world. **`ASCII` can't handle them, because it only supports 255 characters**. \n",
    "\n",
    "### The tech community realized it needed a new standard, and created Unicode.\n",
    "\n",
    "Unicode assigns `\"code points\"` to characters. In Python, code points look like this:\n",
    "\n",
    "`\"\\u3232\"`\n",
    "\n",
    "We can use an encoding system to convert these code points to binary integers. The most common encoding system for Unicode is `UTF-8`. This encoding tells a computer which code points are associated with which integers.<br>\n",
    "\n",
    "`UTF-8` can encode values that are longer that one byte, which enables it to store all Unicode characters. It encodes characters using a variable number of bytes, which means that it also supports regular `ASCII` characters (which are **one byte** each)."
   ]
  },
  {
   "cell_type": "code",
   "execution_count": 22,
   "metadata": {},
   "outputs": [
    {
     "name": "stdout",
     "output_type": "stream",
     "text": [
      "⟶\n",
      "10230\n",
      "0b10011111110110\n"
     ]
    }
   ],
   "source": [
    "# We can initialize Unicode code points \n",
    "# (the value for this code point is \\u27F6, \n",
    "# but you see it as a character here \n",
    "# because the Dataquest system is automatically converting it).\n",
    "code_point = \"⟶\"\n",
    "\n",
    "# This particular code point maps to a right arrow character.\n",
    "print(code_point)\n",
    "\n",
    "# We can get the base 10 integer value of the code point with the ord function.\n",
    "print(ord(code_point))\n",
    "\n",
    "# As you can see, this takes up a lot more than 1 byte.\n",
    "print(bin(ord(code_point)))"
   ]
  },
  {
   "cell_type": "code",
   "execution_count": 25,
   "metadata": {},
   "outputs": [
    {
     "data": {
      "text/plain": [
       "'0b1000000011001'"
      ]
     },
     "execution_count": 25,
     "metadata": {},
     "output_type": "execute_result"
    }
   ],
   "source": [
    "binary_1019 = bin(ord(\"\\u1019\"))\n",
    "binary_1019"
   ]
  },
  {
   "cell_type": "code",
   "execution_count": null,
   "metadata": {},
   "outputs": [],
   "source": []
  },
  {
   "cell_type": "markdown",
   "metadata": {},
   "source": [
    "## Strings with Unicode\n",
    "\n",
    "**`ASCII` is a subset of Unicode**. Unicode implements all of the ASCII characters, as well as the additional characters that code points allow.<br>\n",
    "\n",
    "This lets us create **Unicode strings that combine both ASCII and Unicode characters**.<br>\n",
    "\n",
    "### By default, Python 3 uses `Unicode` for all strings, and encodes them with `UTF-8`. \n",
    "That means we can enter the Unicode code points or the actual characters.\n",
    "\n",
    "* Make a string that combines `Unicode` and `ASCII`, and assign it to `s3`."
   ]
  },
  {
   "cell_type": "code",
   "execution_count": 27,
   "metadata": {},
   "outputs": [
    {
     "name": "stdout",
     "output_type": "stream",
     "text": [
      "True\n"
     ]
    }
   ],
   "source": [
    "s1 = \"café\"\n",
    "# The \\u prefix means \"the next four digits are a Unicode code point\"\n",
    "# It doesn't change the value at all (the last character in the string below is \\u00e9)\n",
    "s2 = \"café\"\n",
    "\n",
    "# These strings are the same, because code points are equal to their corresponding Unicode characters.\n",
    "# \\u00e9 and é are equivalent.\n",
    "print(s1 == s2)"
   ]
  },
  {
   "cell_type": "code",
   "execution_count": 32,
   "metadata": {},
   "outputs": [
    {
     "name": "stdout",
     "output_type": "stream",
     "text": [
      "café\n"
     ]
    }
   ],
   "source": [
    "s3 = \"caf\"+\"\\u00e9\"\n",
    "print(s3)"
   ]
  },
  {
   "cell_type": "code",
   "execution_count": null,
   "metadata": {},
   "outputs": [],
   "source": []
  },
  {
   "cell_type": "markdown",
   "metadata": {},
   "source": [
    "## The `Bytes` Data Type\n",
    "\n",
    "Python includes **a data type called \"`bytes`\".** It's similar to a string, except that **it contains encoded bytes values**.<br>\n",
    "\n",
    "When we create an object with a bytes type from a string, we specify an encoding system (usually `UTF-8`).<br>\n",
    "\n",
    "Then, we can use the `.encode()` method to encode the string into bytes.\n",
    "\n",
    "* Encode batman in `UTF-8` and assign it to `batman_bytes`."
   ]
  },
  {
   "cell_type": "code",
   "execution_count": 35,
   "metadata": {},
   "outputs": [
    {
     "name": "stdout",
     "output_type": "stream",
     "text": [
      "Clark Kent␦\n"
     ]
    }
   ],
   "source": [
    "# We can make a string with some Unicode values\n",
    "superman = \"Clark Kent␦\"\n",
    "print(superman)"
   ]
  },
  {
   "cell_type": "code",
   "execution_count": 36,
   "metadata": {},
   "outputs": [
    {
     "data": {
      "text/plain": [
       "b'Clark Kent\\xe2\\x90\\xa6'"
      ]
     },
     "execution_count": 36,
     "metadata": {},
     "output_type": "execute_result"
    }
   ],
   "source": [
    "# This tells Python to encode the string 'superman' as Unicode\n",
    "# using the UTF-8 encoding system\n",
    "# We end up with a sequence of bytes intead of a string\n",
    "\n",
    "superman_bytes = \"Clark Kent␦\".encode('utf-8')\n",
    "superman_bytes"
   ]
  },
  {
   "cell_type": "code",
   "execution_count": null,
   "metadata": {},
   "outputs": [],
   "source": []
  },
  {
   "cell_type": "code",
   "execution_count": 37,
   "metadata": {},
   "outputs": [
    {
     "name": "stdout",
     "output_type": "stream",
     "text": [
      "b'Bruce Wayne\\xe2\\x90\\xa6'\n"
     ]
    }
   ],
   "source": [
    "batman = \"Bruce Wayne␦\"\n",
    "batman_bytes = batman.encode('utf-8')\n",
    "\n",
    "print(batman_bytes)"
   ]
  },
  {
   "cell_type": "code",
   "execution_count": null,
   "metadata": {},
   "outputs": [],
   "source": []
  },
  {
   "cell_type": "markdown",
   "metadata": {},
   "source": [
    "## Introduction to HexaDecimal\n",
    "\n",
    "`batman_bytes` from the last screen prints out as `Bruce Wayne\\xe2\\x90\\xa6`. \n",
    "* Similar to the `\\u` prefix for a **Unicode code point**, \n",
    "* `\\x` is the prefix for a **hexadecimal character**.\n",
    "\n",
    "Just like binary is base `2` and our normal counting system is base `10`, hexadecimal is base `16`. The valid digits in hexadecimal are `0-9` and `A-F`. Here are the values corresponding to each character:\n",
    "\n",
    "* `A` - 10\n",
    "* `B` - 11\n",
    "* `C` - 12\n",
    "* `D` - 13\n",
    "* `E` - 14\n",
    "* `F` - 15\n",
    "\n",
    "In hexadecimal, $9 + 1$ equals `A`. We use hexadecimal because it represents a byte efficiently. You may recall that **a byte is eight bits**, or **eight binary digits**. \n",
    "* The highest value we can express in a byte is `11111111`, or `255` in base 10. \n",
    "* We can express the same value in `two hexadecimal digits`, `FF`.\n",
    "\n",
    "Programmers often use hexadecimal to display bytes instead of binary because **it's more compact and easier to write out**."
   ]
  },
  {
   "cell_type": "code",
   "execution_count": null,
   "metadata": {},
   "outputs": [],
   "source": []
  },
  {
   "cell_type": "markdown",
   "metadata": {},
   "source": [
    "## Hexadecimal Conversions\n",
    "\n",
    "On the last screen, you might have noticed that using `.encode()` converted a sequence of code points into something that looked like `\\xe2\\x90\\xa6`.<br>\n",
    "\n",
    "The three sections of this result (which the `\\` character separates) represent three hexadecimal bytes. The `\\x` prefix means \"the next two digits are in hexadecimal.\"<br>\n",
    "\n",
    "**Two hexadecimal digits equal eight binary digits**, because digits can have higher values in hexadecimal (base 16). \n",
    "* For instance, `\"F\"` is `15` in hexadecimal, \n",
    "* but `1111` is `15` in binary.<br>\n",
    "\n",
    "Because it's shorter to display, and four binary digits always equal one hexadecimal digit, programs often use hexadecimal to print out values. This is purely for convenience.<br>\n",
    "\n",
    "Let's experiment a bit with hexadecimal conversions.\n"
   ]
  },
  {
   "cell_type": "code",
   "execution_count": 38,
   "metadata": {
    "scrolled": true
   },
   "outputs": [
    {
     "name": "stdout",
     "output_type": "stream",
     "text": [
      "15\n",
      "10\n",
      "a\n"
     ]
    }
   ],
   "source": [
    "# F is the highest single digit in hexadecimal (base 16)\n",
    "# Its value is 15 in base 10\n",
    "print(int(\"F\", 16))\n",
    "\n",
    "# A in base 16 has the value 10 in base 10\n",
    "print(int(\"A\", 16))\n",
    "\n",
    "# Just like the earlier binary_add function, this adds two hexadecimal numbers\n",
    "def hexadecimal_add(a, b):\n",
    "    return hex(int(a, 16) + int(b, 16))[2:]\n",
    "\n",
    "# When we add 1 to 9 in hexadecimal, it becomes \"a\"\n",
    "value = \"9\"\n",
    "value = hexadecimal_add(value, \"1\")\n",
    "print(value)"
   ]
  },
  {
   "cell_type": "code",
   "execution_count": 39,
   "metadata": {},
   "outputs": [
    {
     "name": "stdout",
     "output_type": "stream",
     "text": [
      "ec 1d\n"
     ]
    }
   ],
   "source": [
    "hex_ea = hexadecimal_add(\"ea\", \"2\")\n",
    "hex_ef = hexadecimal_add(\"f\", \"e\")\n",
    "\n",
    "print(hex_ea, hex_ef)"
   ]
  },
  {
   "cell_type": "code",
   "execution_count": null,
   "metadata": {},
   "outputs": [],
   "source": []
  },
  {
   "cell_type": "markdown",
   "metadata": {},
   "source": [
    "## Hex to Binary\n",
    "\n",
    "We can convert hexadecimal to binary fairly easily. We can even use the `ord()` and `bin()` functions that helped us convert code points to binary.\n"
   ]
  },
  {
   "cell_type": "code",
   "execution_count": null,
   "metadata": {},
   "outputs": [],
   "source": [
    "# One byte (eight bits) in hexadecimal (the value of the byte below is \\xe2)\n",
    "hex_byte = \"â\""
   ]
  },
  {
   "cell_type": "code",
   "execution_count": 40,
   "metadata": {},
   "outputs": [
    {
     "name": "stdout",
     "output_type": "stream",
     "text": [
      "226\n",
      "226\n",
      "0b11100010\n"
     ]
    }
   ],
   "source": [
    "# Print the base 10 integer value for the hexadecimal byte\n",
    "print(ord(hex_byte))\n",
    "\n",
    "# This gives the exact same value. Remember that \\x is just a prefix, and doesn't affect the value.\n",
    "print(int(\"e2\", 16))\n",
    "\n",
    "# Convert the base 10 integer to binary\n",
    "print(bin(ord(\"â\")))"
   ]
  },
  {
   "cell_type": "code",
   "execution_count": null,
   "metadata": {},
   "outputs": [],
   "source": []
  },
  {
   "cell_type": "markdown",
   "metadata": {},
   "source": [
    "* Convert the hexadecimal byte `\"\\xaa\"` to binary, and assign the result to `binary_aa`.\n",
    "* Convert the hexadecimal byte `\"\\xab\"` to binary, and assign the result to `binary_ab`."
   ]
  },
  {
   "cell_type": "code",
   "execution_count": 41,
   "metadata": {},
   "outputs": [
    {
     "name": "stdout",
     "output_type": "stream",
     "text": [
      "0b10101010 0b10101011\n"
     ]
    }
   ],
   "source": [
    "binary_aa = bin(ord(\"\\xaa\"))\n",
    "binary_ab = bin(ord(\"\\xab\"))\n",
    "\n",
    "print(binary_aa, binary_ab)"
   ]
  },
  {
   "cell_type": "code",
   "execution_count": null,
   "metadata": {},
   "outputs": [],
   "source": []
  },
  {
   "cell_type": "markdown",
   "metadata": {},
   "source": [
    "## Bytes and Strings\n",
    "\n",
    "There's **no encoding system associated with the `bytes` data type**. That means if we have an object with that data type, Python won't know how to display the (encoded) code points in it. For this reason, we can't mix `bytes` objects and strings together."
   ]
  },
  {
   "cell_type": "code",
   "execution_count": 42,
   "metadata": {},
   "outputs": [
    {
     "name": "stdout",
     "output_type": "stream",
     "text": [
      "TypeError with replacement\n"
     ]
    }
   ],
   "source": [
    "hulk_bytes = \"Bruce Banner␦\".encode(\"utf-8\")\n",
    "\n",
    "# We can't mix strings and bytes\n",
    "# For instance, if we try to replace the Unicode ␦ character as a string, it won't work, because that value has been encoded to bytes\n",
    "try:\n",
    "    hulk_bytes.replace(\"Banner\", \"\")\n",
    "except Exception:\n",
    "    print(\"TypeError with replacement\")"
   ]
  },
  {
   "cell_type": "code",
   "execution_count": 43,
   "metadata": {},
   "outputs": [
    {
     "data": {
      "text/plain": [
       "b'Bruce '"
      ]
     },
     "execution_count": 43,
     "metadata": {},
     "output_type": "execute_result"
    }
   ],
   "source": [
    "# We can create objects of the bytes data type \n",
    "# by putting a 'b' in front of the quotation marks in a string\n",
    "hulk_bytes = b\"Bruce Banner\"\n",
    "\n",
    "# Now, instead of mixing strings and bytes, \n",
    "# we can use the replace method with bytes objects instead\n",
    "hulk_bytes.replace(b\"Banner\", b\"\")"
   ]
  },
  {
   "cell_type": "code",
   "execution_count": null,
   "metadata": {},
   "outputs": [],
   "source": []
  },
  {
   "cell_type": "markdown",
   "metadata": {},
   "source": [
    "## Decode Bytes to Strings\n",
    "\n",
    "Once we have **a bytes object**, we can **decode it into a string** using an encoding system. We use the `.decode()` method to do this.\n"
   ]
  },
  {
   "cell_type": "code",
   "execution_count": 44,
   "metadata": {},
   "outputs": [
    {
     "name": "stdout",
     "output_type": "stream",
     "text": [
      "Who knows?\n",
      "<class 'str'>\n"
     ]
    }
   ],
   "source": [
    "# Make a bytes object with aquaman's secret identity\n",
    "aquaman_bytes = b\"Who knows?\"\n",
    "\n",
    "# Now, we can use the decode method, along with the encoding system (UTF-8) to turn it into a string\n",
    "aquaman = aquaman_bytes.decode(\"utf-8\")\n",
    "\n",
    "# We can print the value and type to verify that it's a string\n",
    "print(aquaman)\n",
    "print(type(aquaman))"
   ]
  },
  {
   "cell_type": "code",
   "execution_count": 47,
   "metadata": {},
   "outputs": [
    {
     "name": "stdout",
     "output_type": "stream",
     "text": [
      "Morgan Freeman <class 'str'>\n"
     ]
    }
   ],
   "source": [
    "morgan_freeman_bytes = b\"Morgan Freeman\"\n",
    "morgan_freeman = morgan_freeman_bytes.decode('utf-8')\n",
    "\n",
    "print(morgan_freeman, type(morgan_freeman))"
   ]
  },
  {
   "cell_type": "code",
   "execution_count": null,
   "metadata": {},
   "outputs": [],
   "source": []
  },
  {
   "cell_type": "markdown",
   "metadata": {},
   "source": [
    "## Read in File Data\n",
    "\n",
    "Now that we understand Unicode, we can go ahead and read our data in.<br>\n",
    "\n",
    "The data contains several symbols and other Unicode characters. We'll learn how to address them as we go along."
   ]
  },
  {
   "cell_type": "code",
   "execution_count": 48,
   "metadata": {},
   "outputs": [],
   "source": [
    "# We can read our data in using csvreader\n",
    "import csv"
   ]
  },
  {
   "cell_type": "code",
   "execution_count": 49,
   "metadata": {},
   "outputs": [
    {
     "name": "stdout",
     "output_type": "stream",
     "text": [
      "1997\n",
      "The FBI information included that al-Mairi's brother \"traveled to Afghanistan in 1997-1998 to train in Bin - Ladencamps.\"\n"
     ]
    }
   ],
   "source": [
    "# When we open a file, we can specify the system used to encode it (in this case, UTF-8).\n",
    "f = open(\"data/sentences_cia.csv\", 'r', encoding=\"utf-8\")\n",
    "csvreader = csv.reader(f)\n",
    "sentences_cia = list(csvreader)\n",
    "\n",
    "# The data consists of two columns\n",
    "# The first column contains the year, \n",
    "# and the second contains a sentence from a CIA report written in that year\n",
    "\n",
    "# Print the first column of the second row\n",
    "print(sentences_cia[1][0])\n",
    "\n",
    "# Print the second column of the second row\n",
    "print(sentences_cia[1][1])"
   ]
  },
  {
   "cell_type": "code",
   "execution_count": 54,
   "metadata": {},
   "outputs": [
    {
     "data": {
      "text/plain": [
       "'\\'^^^ Prior to Abu Zubaydah\\'s capture, the CIA considered Hassan Ghul a \"First Priority Raid Target,\" based on reporting that: 97470(281317ZMAR02)(\"InNovember1998, [Muhammad] Atta, [Ramzi] Binalshibh, and [Said] Bahaji moved into the 54 Marienstrasse apartment in Hamburg that became the hub of the Hamburg cell.\").'"
      ]
     },
     "execution_count": 54,
     "metadata": {},
     "output_type": "execute_result"
    }
   ],
   "source": [
    "sentences_ten = sentences_cia[9][1]\n",
    "sentences_ten"
   ]
  },
  {
   "cell_type": "code",
   "execution_count": null,
   "metadata": {},
   "outputs": [],
   "source": []
  },
  {
   "cell_type": "markdown",
   "metadata": {},
   "source": [
    "## Convert to a dataframe\n",
    "\n",
    "To make this easier for ourselves, let's convert our sentences to a pandas dataframe.<br>\n",
    "\n",
    "Having a dataframe will make processing and analysis much simpler because we can use the `.apply()` method.\n",
    "* Convert `sentences_cia` to a dataframe. Remember to handle the headers properly by mirroring the technique demonstrated in the default, display code."
   ]
  },
  {
   "cell_type": "code",
   "execution_count": 56,
   "metadata": {},
   "outputs": [],
   "source": [
    "import csv\n",
    "\n",
    "# Let's read in the legislators data from a few missions ago\n",
    "f = open(\"data/legislators.csv\", 'r', encoding=\"utf-8\")\n",
    "csvreader = csv.reader(f)\n",
    "legislators = list(csvreader)"
   ]
  },
  {
   "cell_type": "code",
   "execution_count": 57,
   "metadata": {},
   "outputs": [
    {
     "name": "stdout",
     "output_type": "stream",
     "text": [
      "0     last_name\n",
      "1    first_name\n",
      "2      birthday\n",
      "3        gender\n",
      "4          type\n",
      "5         state\n",
      "6         party\n",
      "Name: 0, dtype: object\n",
      "last_name                 Bassett\n",
      "first_name                Richard\n",
      "birthday               1745-04-02\n",
      "gender                          M\n",
      "type                          sen\n",
      "state                          DE\n",
      "party         Anti-Administration\n",
      "Name: 0, dtype: object\n"
     ]
    }
   ],
   "source": [
    "# Now, we can import pandas and use the DataFrame class to convert the list of lists to a dataframe.\n",
    "import pandas as pd\n",
    "\n",
    "legislators_df = pd.DataFrame(legislators)\n",
    "\n",
    "# As you can see, the first row contains the headers, which we don't want (because they're not actually data)\n",
    "print(legislators_df.iloc[0,:])\n",
    "\n",
    "# To remove the headers, we'll subset the df and pass them in separately\n",
    "# This code removes the headers from legislators, and instead passes them into the columns argument\n",
    "# The columns argument specifies column names\n",
    "legislators_df = pd.DataFrame(legislators[1:], columns=legislators[0])\n",
    "\n",
    "# We now have the right data in the first row, as well as the proper headers\n",
    "print(legislators_df.iloc[0,:])\n",
    "\n",
    "# The sentences_cia data from the last screen is available."
   ]
  },
  {
   "cell_type": "code",
   "execution_count": null,
   "metadata": {},
   "outputs": [],
   "source": []
  },
  {
   "cell_type": "markdown",
   "metadata": {},
   "source": [
    "Convert `sentences_cia` to a dataframe. Remember to handle the headers properly by mirroring the technique demonstrated in the default, display code."
   ]
  },
  {
   "cell_type": "code",
   "execution_count": 60,
   "metadata": {},
   "outputs": [
    {
     "data": {
      "text/html": [
       "<div>\n",
       "<style scoped>\n",
       "    .dataframe tbody tr th:only-of-type {\n",
       "        vertical-align: middle;\n",
       "    }\n",
       "\n",
       "    .dataframe tbody tr th {\n",
       "        vertical-align: top;\n",
       "    }\n",
       "\n",
       "    .dataframe thead th {\n",
       "        text-align: right;\n",
       "    }\n",
       "</style>\n",
       "<table border=\"1\" class=\"dataframe\">\n",
       "  <thead>\n",
       "    <tr style=\"text-align: right;\">\n",
       "      <th></th>\n",
       "      <th>year</th>\n",
       "      <th>statement</th>\n",
       "      <th></th>\n",
       "      <th></th>\n",
       "      <th></th>\n",
       "    </tr>\n",
       "  </thead>\n",
       "  <tbody>\n",
       "    <tr>\n",
       "      <th>0</th>\n",
       "      <td>1997</td>\n",
       "      <td>The FBI information included that al-Mairi's b...</td>\n",
       "      <td></td>\n",
       "      <td></td>\n",
       "      <td></td>\n",
       "    </tr>\n",
       "    <tr>\n",
       "      <th>1</th>\n",
       "      <td>1997</td>\n",
       "      <td>The FBI information included that al-Mairi's b...</td>\n",
       "      <td></td>\n",
       "      <td></td>\n",
       "      <td></td>\n",
       "    </tr>\n",
       "    <tr>\n",
       "      <th>2</th>\n",
       "      <td>1997</td>\n",
       "      <td>For example, on October 12, 2004, another CIA ...</td>\n",
       "      <td></td>\n",
       "      <td></td>\n",
       "      <td></td>\n",
       "    </tr>\n",
       "    <tr>\n",
       "      <th>3</th>\n",
       "      <td>1997</td>\n",
       "      <td>On October 16, 2001, an email from a CTC offic...</td>\n",
       "      <td></td>\n",
       "      <td></td>\n",
       "      <td></td>\n",
       "    </tr>\n",
       "    <tr>\n",
       "      <th>4</th>\n",
       "      <td>1997</td>\n",
       "      <td>For example, on October 12, 2004, another CIA ...</td>\n",
       "      <td></td>\n",
       "      <td></td>\n",
       "      <td></td>\n",
       "    </tr>\n",
       "  </tbody>\n",
       "</table>\n",
       "</div>"
      ],
      "text/plain": [
       "   year                                          statement      \n",
       "0  1997  The FBI information included that al-Mairi's b...      \n",
       "1  1997  The FBI information included that al-Mairi's b...      \n",
       "2  1997  For example, on October 12, 2004, another CIA ...      \n",
       "3  1997  On October 16, 2001, an email from a CTC offic...      \n",
       "4  1997  For example, on October 12, 2004, another CIA ...      "
      ]
     },
     "execution_count": 60,
     "metadata": {},
     "output_type": "execute_result"
    }
   ],
   "source": [
    "sentences_cia_df = pd.DataFrame(sentences_cia[1:], columns = sentences_cia[0])\n",
    "sentences_cia_df.head()"
   ]
  },
  {
   "cell_type": "code",
   "execution_count": null,
   "metadata": {},
   "outputs": [],
   "source": []
  },
  {
   "cell_type": "markdown",
   "metadata": {},
   "source": [
    "## Clean up Sentences\n",
    "\n",
    "Now that we've formatted our data nicely, we need to process the strings to count term occurences.<br>\n",
    "\n",
    "First, though, we need to clean them up by **removing extraneous symbols**. We only really care about letters, digits, and spaces.<br>\n",
    "\n",
    "Luckily, **we can check the integer code of each character using `ord()` to see if it's a character we want to keep**."
   ]
  },
  {
   "cell_type": "code",
   "execution_count": 62,
   "metadata": {},
   "outputs": [],
   "source": [
    "# The integer codes for all the characters we want to keep\n",
    "good_characters = [48, 49, 50, 51, 52, 53, 54, 55, 56, \n",
    "                   65, 66, 67, 68, 69, 70, 71, 72, 73, \n",
    "                   74, 75, 76, 77, 78, 79, 80, 81, 82, \n",
    "                   83, 84, 85, 86, 87, 88, 89, 90, 97, \n",
    "                   98, 99, 100, 101, 102, 103, 104, 105, \n",
    "                   106, 107, 108, 109, 110, 111, 112, 113, \n",
    "                   114, 115, 116, 117, 118, 119, 120, 121, \n",
    "                   122, 32]"
   ]
  },
  {
   "cell_type": "code",
   "execution_count": null,
   "metadata": {},
   "outputs": [],
   "source": [
    "sentence_15 = sentences_cia_df[\"statement\"][14]\n",
    "\n",
    "# Iterate over the characters in the sentence, and only take those whose integer representations are in good_characters\n",
    "# This will construct a list of single characters\n",
    "cleaned_sentence_15_list = [s for s in sentence_15 if ord(s) in good_characters]\n",
    "\n",
    "# Join the list together, separated by \"\" (no space), which creates a string again\n",
    "cleaned_sentence_15 = \"\".join(cleaned_sentence_15_list)"
   ]
  },
  {
   "cell_type": "code",
   "execution_count": null,
   "metadata": {},
   "outputs": [],
   "source": []
  },
  {
   "cell_type": "markdown",
   "metadata": {},
   "source": [
    "* Make a function that takes a dataframe row and then returns the clean version of the `\"statement\"` column.\n",
    "* Use the `.apply()` method on dataframe to apply the function to each row of `sentences_cia`.\n",
    "* Assign the resulting vector to the `cleaned_statement` column of `sentences_cia`."
   ]
  },
  {
   "cell_type": "code",
   "execution_count": 63,
   "metadata": {},
   "outputs": [],
   "source": [
    "def clean_string(row):\n",
    "    clean_list = [c for c in row['statement'] if ord(c) in good_characters]\n",
    "    return \"\".join(clean_list)"
   ]
  },
  {
   "cell_type": "code",
   "execution_count": 66,
   "metadata": {},
   "outputs": [],
   "source": [
    "sentences_cia_df['cleaned_statement'] = sentences_cia_df.apply(clean_string, axis=1)"
   ]
  },
  {
   "cell_type": "code",
   "execution_count": null,
   "metadata": {},
   "outputs": [],
   "source": []
  },
  {
   "cell_type": "markdown",
   "metadata": {},
   "source": [
    "## Tokenize Statements\n",
    "\n",
    "Now we need to combine the sentences and convert them to tokens. The eventual goal is to count up how many times each term occurs."
   ]
  },
  {
   "cell_type": "code",
   "execution_count": null,
   "metadata": {},
   "outputs": [],
   "source": []
  },
  {
   "cell_type": "markdown",
   "metadata": {},
   "source": [
    "* Tokenize `combined_statements` by splitting it into words on the spaces.\n",
    "  * You should end up with a list of all the words in `combined_statements`.\n",
    "  * Assign the result to `statement_tokens`."
   ]
  },
  {
   "cell_type": "code",
   "execution_count": 74,
   "metadata": {},
   "outputs": [],
   "source": [
    "# We can use the .join() method on strings to join lists together.\n",
    "# The string we use the method on will become the separator -- the character(s) between each string when they are joined..\n",
    "combined_statements = \" \".join(sentences_cia_df[\"cleaned_statement\"])"
   ]
  },
  {
   "cell_type": "code",
   "execution_count": 75,
   "metadata": {},
   "outputs": [],
   "source": [
    "statement_tokens = combined_statements.split(\" \")"
   ]
  },
  {
   "cell_type": "code",
   "execution_count": null,
   "metadata": {},
   "outputs": [],
   "source": []
  },
  {
   "cell_type": "markdown",
   "metadata": {},
   "source": [
    "## Filter the Tokens\n",
    "\n",
    "We want to count how many times each term occurs in our data, so we can find the most common items.<br>\n",
    "\n",
    "The problem is that the most common words in the English language are ones that are relatively uninteresting to us right now -- words like `\"the\"`, `\"a\"`, and so on. These words are called stopwords - words that don't add much information to our analysis.<br>\n",
    "\n",
    "It's common to filter out any words on a list of known stopwords. What we'll do here for the sake of simplicity is filter out any words less than five characters long. This should remove most stopwords."
   ]
  },
  {
   "cell_type": "code",
   "execution_count": null,
   "metadata": {},
   "outputs": [],
   "source": []
  },
  {
   "cell_type": "markdown",
   "metadata": {},
   "source": [
    "* Filter the `statement_tokens` list so that it only contains tokens that are at least five characters long.\n",
    "  * Assign the result to `filtered_tokens`."
   ]
  },
  {
   "cell_type": "code",
   "execution_count": 76,
   "metadata": {},
   "outputs": [],
   "source": [
    "filtered_tokens = [token for token in statement_tokens if len(token) >= 5]"
   ]
  },
  {
   "cell_type": "code",
   "execution_count": null,
   "metadata": {},
   "outputs": [],
   "source": []
  },
  {
   "cell_type": "markdown",
   "metadata": {},
   "source": [
    "## Count the Tokens\n",
    "\n",
    "Now that we've filtered the tokens, we can count how many times each one occurs. The `Counter` object from the `collections` library will help us with this.<br>\n",
    "\n",
    "`Counter` takes a list as input. It creates a dictionary where the keys are list items, and the values are the number of times those items appear in the list.\n",
    "\n",
    "* Count the items in `filtered_tokens` and assign the result to `filtered_token_counts`."
   ]
  },
  {
   "cell_type": "code",
   "execution_count": null,
   "metadata": {},
   "outputs": [],
   "source": []
  },
  {
   "cell_type": "code",
   "execution_count": 77,
   "metadata": {},
   "outputs": [
    {
     "name": "stdout",
     "output_type": "stream",
     "text": [
      "Counter({'apple': 3, 'orange': 2, 'banana': 1, 'pear': 1, 'grape': 1})\n"
     ]
    }
   ],
   "source": [
    "from collections import Counter\n",
    "fruits = [\"apple\", \"apple\", \"banana\", \"orange\", \"pear\", \"orange\", \"apple\", \"grape\"]\n",
    "fruit_count = Counter(fruits)\n",
    "\n",
    "# Our code has counted each of the items in the list, and given them dictionary keys\n",
    "print(fruit_count)"
   ]
  },
  {
   "cell_type": "code",
   "execution_count": 78,
   "metadata": {},
   "outputs": [],
   "source": [
    "filtered_token_counts = Counter(filtered_tokens)"
   ]
  },
  {
   "cell_type": "code",
   "execution_count": null,
   "metadata": {},
   "outputs": [],
   "source": []
  },
  {
   "cell_type": "markdown",
   "metadata": {},
   "source": [
    "## Most Common Tokens\n",
    "\n",
    "Now that we've created a `Counter` object using `filtered_tokens` as input, let's find the most common tokens."
   ]
  },
  {
   "cell_type": "markdown",
   "metadata": {},
   "source": [
    "Get the three most common items in `filtered_token_counts`, and assign the result to `common_tokens`."
   ]
  },
  {
   "cell_type": "code",
   "execution_count": 84,
   "metadata": {},
   "outputs": [
    {
     "data": {
      "text/plain": [
       "[('interrogation', 391), ('information', 375), ('REDACTED', 375)]"
      ]
     },
     "execution_count": 84,
     "metadata": {},
     "output_type": "execute_result"
    }
   ],
   "source": [
    "common_tokens = filtered_token_counts.most_common(3)\n",
    "common_tokens"
   ]
  },
  {
   "cell_type": "code",
   "execution_count": null,
   "metadata": {},
   "outputs": [],
   "source": []
  },
  {
   "cell_type": "markdown",
   "metadata": {},
   "source": [
    "## Finding the Most Common Tokens by Year\n",
    "\n",
    "Let's write a function that computes the most common terms by year."
   ]
  },
  {
   "cell_type": "markdown",
   "metadata": {},
   "source": [
    "* Write a function that finds the two most common terms in `sentences_cia` for a given year (the `\"year\"` column).\n",
    "  * The `\"year\"` column in `sentences_cia` stores strings, so you'll need to pass strings into the function.\n",
    "  * Select the rows in `sentences_cia` that match that year, combine the clean statements, split them into a list on the space character (`\" \"`), filter out words less than five characters long, make a counter object with the results, and find the two most common items in the counter.\n",
    "\n",
    "* Use the function to find the most common terms for `\"2000\"`. Assign the result to `common_2000`.\n",
    "* Use the function to find the most common terms for `\"2002\"`. Assign the result to `common_2002`.\n",
    "* Use the function to find the most common terms for `\"2013\"`. Assign the result to `common_2013`."
   ]
  },
  {
   "cell_type": "code",
   "execution_count": 89,
   "metadata": {},
   "outputs": [],
   "source": [
    "def find_top2_common_term(df, year):\n",
    "    \n",
    "    cleaned_ = df[df['year']==year].apply(clean_string, axis=1)\n",
    "    combined_cleaned_ = \" \".join(cleaned_)\n",
    "    tokens = combined_cleaned_.split(\" \")\n",
    "    tokens_filtered = [tk for tk in tokens if len(tk) >= 5]\n",
    "    \n",
    "    return Counter(tokens_filtered).most_common(2)"
   ]
  },
  {
   "cell_type": "code",
   "execution_count": 90,
   "metadata": {},
   "outputs": [
    {
     "data": {
      "text/plain": [
       "[('terrorist', 9), ('Ahmad', 9)]"
      ]
     },
     "execution_count": 90,
     "metadata": {},
     "output_type": "execute_result"
    }
   ],
   "source": [
    "common_2000 = find_top2_common_term(sentences_cia_df, \"2000\")\n",
    "common_2000"
   ]
  },
  {
   "cell_type": "code",
   "execution_count": 91,
   "metadata": {},
   "outputs": [
    {
     "data": {
      "text/plain": [
       "[('interrogation', 275), ('Zubaydah', 252)]"
      ]
     },
     "execution_count": 91,
     "metadata": {},
     "output_type": "execute_result"
    }
   ],
   "source": [
    "common_2002 = find_top2_common_term(sentences_cia_df, \"2002\")\n",
    "common_2002"
   ]
  },
  {
   "cell_type": "code",
   "execution_count": 92,
   "metadata": {},
   "outputs": [
    {
     "data": {
      "text/plain": [
       "[('Response', 196), ('states', 111)]"
      ]
     },
     "execution_count": 92,
     "metadata": {},
     "output_type": "execute_result"
    }
   ],
   "source": [
    "common_2013 = find_top2_common_term(sentences_cia_df, \"2013\")\n",
    "common_2013"
   ]
  },
  {
   "cell_type": "code",
   "execution_count": null,
   "metadata": {},
   "outputs": [],
   "source": []
  }
 ],
 "metadata": {
  "kernelspec": {
   "display_name": "Python 3",
   "language": "python",
   "name": "python3"
  },
  "language_info": {
   "codemirror_mode": {
    "name": "ipython",
    "version": 3
   },
   "file_extension": ".py",
   "mimetype": "text/x-python",
   "name": "python",
   "nbconvert_exporter": "python",
   "pygments_lexer": "ipython3",
   "version": "3.6.2"
  }
 },
 "nbformat": 4,
 "nbformat_minor": 2
}
