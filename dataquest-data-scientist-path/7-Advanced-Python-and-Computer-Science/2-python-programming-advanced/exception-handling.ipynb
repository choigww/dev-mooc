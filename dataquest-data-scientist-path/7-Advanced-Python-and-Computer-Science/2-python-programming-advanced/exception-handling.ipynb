{
 "cells": [
  {
   "cell_type": "markdown",
   "metadata": {},
   "source": [
    "# Exception Handling"
   ]
  },
  {
   "cell_type": "markdown",
   "metadata": {},
   "source": [
    "## Introduction: The Science of Chopsticks\n",
    "\n",
    "### In 1991, a group of Taiwanese researchers set out to determine the ideal length for chopsticks. \n",
    "More than 30 people participated in the experiment by trying out chopsticks of various lengths. The researchers' approach ensured that the participants' different skill levels and length preferences didn't skew the results.<br>\n",
    "\n",
    "After an exciting few days of picking up peanuts and placing them into cups, the researchers gathered enough data to determine which chopsticks are most efficient. Their findings form our data set.<br>\n",
    "\n",
    "* The first column contains the \"Food pinching efficiency\" measurement, which is a decimal value. The higher the value, the better the chopstick.\n",
    "* The second column, \"Individual,\" holds unique identifiers for the person who used the chopstick.\n",
    "* The third column records the \"Chopstick length\" measurement in millimeters.\n",
    "\n",
    "Each row of our data set represents a trial in which a participant used a chopstick of a certain length. It records the food pinching efficiency for a specific individual and chopstick length."
   ]
  },
  {
   "cell_type": "code",
   "execution_count": null,
   "metadata": {},
   "outputs": [],
   "source": []
  },
  {
   "cell_type": "markdown",
   "metadata": {},
   "source": [
    "## Organizing Our Code\n",
    "\n",
    "Let's think a bit about how we should structure our code. We want to answer questions like:<br>\n",
    "\n",
    "* Which chopstick is more efficient?\n",
    "* Which chopstick has the most consistent results?\n",
    "* Other similar questions\n",
    "\n",
    "All of our questions are specific to certain chopstick lengths. It would be useful to have a `Chopstick` class that has methods for computing these values, based on the lengths.<br>\n",
    "\n",
    "Before we can do that though, we need a way to store the data for each chopstick. While there are a few ways to go about this, we'll create an entire `Trial` class that stores information about each row of data. We've stored our data set in the variable `chopsticks` in the code cell."
   ]
  },
  {
   "cell_type": "code",
   "execution_count": 27,
   "metadata": {},
   "outputs": [],
   "source": [
    "import pandas as pd\n",
    "import math"
   ]
  },
  {
   "cell_type": "code",
   "execution_count": 5,
   "metadata": {},
   "outputs": [],
   "source": [
    "chopsticks = pd.read_csv('data/chopsticks.csv').values"
   ]
  },
  {
   "cell_type": "code",
   "execution_count": 6,
   "metadata": {},
   "outputs": [
    {
     "data": {
      "text/plain": [
       "array([[  19.55,    1.  ,  180.  ],\n",
       "       [  27.24,    2.  ,  180.  ],\n",
       "       [  28.76,    3.  ,  180.  ],\n",
       "       [  31.19,    4.  ,  180.  ],\n",
       "       [  21.91,    5.  ,  180.  ]])"
      ]
     },
     "execution_count": 6,
     "metadata": {},
     "output_type": "execute_result"
    }
   ],
   "source": [
    "chopsticks[:5]"
   ]
  },
  {
   "cell_type": "markdown",
   "metadata": {},
   "source": [
    "Write a `Trial` class with the following instance properties: `efficiency`, `individual`, `chopstick_length`\n",
    "\n",
    "* `efficiency` should be a floating point number, and the other two properties should be integers.\n",
    "* Set these properties within the class's constructor function (`__init__`), which should take in a row from our data set as an argument.\n",
    "\n",
    "Store the first trial of our data set in `first_trial`."
   ]
  },
  {
   "cell_type": "code",
   "execution_count": 12,
   "metadata": {},
   "outputs": [],
   "source": [
    "class Trial(object):\n",
    "    \n",
    "    def __init__(self, row):\n",
    "        self.efficiency = float(row[0])\n",
    "        self.individual = int(row[1])\n",
    "        self.chopstick_length = int(row[2])\n",
    "\n",
    "        \n",
    "first_trial = Trial(chopsticks[0])"
   ]
  },
  {
   "cell_type": "code",
   "execution_count": null,
   "metadata": {},
   "outputs": [],
   "source": []
  },
  {
   "cell_type": "markdown",
   "metadata": {},
   "source": [
    "## Creating the Chopstick Class\n",
    "\n",
    "Let's also create a class named `Chopstick` whose instance properties contain information about each chopstick. For now, the only instance property we'll store in our chopstick class is length."
   ]
  },
  {
   "cell_type": "code",
   "execution_count": null,
   "metadata": {},
   "outputs": [],
   "source": []
  },
  {
   "cell_type": "markdown",
   "metadata": {},
   "source": [
    "* Write a `Chopstick` class that initializes with a length, and stores it in the `length` instance property.\n",
    "* Store the `Chopstick` instance with a length of `100` millimeters in `mini_chopstick`."
   ]
  },
  {
   "cell_type": "code",
   "execution_count": 13,
   "metadata": {},
   "outputs": [],
   "source": [
    "class Chopstick(object):\n",
    "    \n",
    "    def __init__(self, length):\n",
    "        self.length = length\n",
    "\n",
    "mini_chopstick = Chopstick(100)"
   ]
  },
  {
   "cell_type": "code",
   "execution_count": null,
   "metadata": {},
   "outputs": [],
   "source": []
  },
  {
   "cell_type": "markdown",
   "metadata": {},
   "source": [
    "## Storing the Trials in the Chopstick Class\n",
    "\n",
    "Now we need to refine our `Chopstick` class a little to make it more useful. Let's store all of the trials for a certain length in the `Chopstick` instance corresponding to that length."
   ]
  },
  {
   "cell_type": "code",
   "execution_count": null,
   "metadata": {},
   "outputs": [],
   "source": []
  },
  {
   "cell_type": "markdown",
   "metadata": {},
   "source": [
    "Modify the `__init__` method of our `Chopstick` class to store a list of trials corresponding to the proper chopstick length.\n",
    "\n",
    "* We'll store this information in an instance property called `trials`.\n",
    "* We should cast the data set length to an integer before searching for rows of the proper length so that we're not comparing a string to an integer.\n",
    "\n",
    "Store the `Chopstick` instance with a length of `240` in `medium_chopstick`."
   ]
  },
  {
   "cell_type": "code",
   "execution_count": 24,
   "metadata": {},
   "outputs": [],
   "source": [
    "class Chopstick(object):\n",
    "    def __init__(self, length):\n",
    "        self.length = length\n",
    "        \n",
    "        # Start our trial list empty\n",
    "        self.trials = []\n",
    "        \n",
    "        # Now, fill our list with relevant trials\n",
    "        for row in chopsticks:\n",
    "            if int(row[2]) == self.length:\n",
    "                self.trials.append(row)\n",
    "        "
   ]
  },
  {
   "cell_type": "code",
   "execution_count": 25,
   "metadata": {
    "scrolled": true
   },
   "outputs": [],
   "source": [
    "medium_chopstick = Chopstick(240)"
   ]
  },
  {
   "cell_type": "code",
   "execution_count": 26,
   "metadata": {},
   "outputs": [
    {
     "data": {
      "text/plain": [
       "[array([  21.34,    1.  ,  240.  ]),\n",
       " array([  29.94,    2.  ,  240.  ]),\n",
       " array([  32.95,    3.  ,  240.  ]),\n",
       " array([  29.4,    4. ,  240. ]),\n",
       " array([  22.32,    5.  ,  240.  ]),\n",
       " array([  28.36,    6.  ,  240.  ]),\n",
       " array([  28.49,    7.  ,  240.  ]),\n",
       " array([  22.24,    8.  ,  240.  ]),\n",
       " array([  36.15,    9.  ,  240.  ]),\n",
       " array([  30.62,   10.  ,  240.  ]),\n",
       " array([  26.53,   11.  ,  240.  ]),\n",
       " array([  27.95,   12.  ,  240.  ]),\n",
       " array([  31.49,   13.  ,  240.  ]),\n",
       " array([  30.24,   14.  ,  240.  ]),\n",
       " array([  24.8,   15. ,  240. ]),\n",
       " array([  26.43,   16.  ,  240.  ]),\n",
       " array([  29.35,   17.  ,  240.  ]),\n",
       " array([  21.15,   18.  ,  240.  ]),\n",
       " array([  29.18,   19.  ,  240.  ]),\n",
       " array([  21.6,   20. ,  240. ]),\n",
       " array([  25.39,   21.  ,  240.  ]),\n",
       " array([  22.26,   22.  ,  240.  ]),\n",
       " array([  24.85,   23.  ,  240.  ]),\n",
       " array([  24.56,   24.  ,  240.  ]),\n",
       " array([  16.35,   25.  ,  240.  ]),\n",
       " array([  22.96,   26.  ,  240.  ]),\n",
       " array([  25.82,   27.  ,  240.  ]),\n",
       " array([  19.46,   28.  ,  240.  ]),\n",
       " array([  23.6,   29. ,  240. ]),\n",
       " array([  33.1,   30. ,  240. ]),\n",
       " array([  27.13,   31.  ,  240.  ])]"
      ]
     },
     "execution_count": 26,
     "metadata": {},
     "output_type": "execute_result"
    }
   ],
   "source": [
    "medium_chopstick.trials"
   ]
  },
  {
   "cell_type": "code",
   "execution_count": null,
   "metadata": {},
   "outputs": [],
   "source": []
  },
  {
   "cell_type": "markdown",
   "metadata": {},
   "source": [
    "## Calculating Average Efficiency With a Method\n",
    "\n",
    "Now let's write a method we can use to calculate the average food pinching efficiency for each chopstic length."
   ]
  },
  {
   "cell_type": "code",
   "execution_count": null,
   "metadata": {},
   "outputs": [],
   "source": []
  },
  {
   "cell_type": "markdown",
   "metadata": {},
   "source": [
    "* Write an `avg_efficiency` method for our `Chopstick` class that returns the average food pinching efficiency for chopsticks of a certain length.\n",
    "\n",
    "* We recommend writing a `num_trials` method to help you with this implementation, because the method could come in handy further down the line.\n",
    "\n",
    "* Store the average efficiency of chopsticks `210` millimeters long in `avg_eff_210`."
   ]
  },
  {
   "cell_type": "code",
   "execution_count": 29,
   "metadata": {},
   "outputs": [],
   "source": [
    "class Chopstick(object):\n",
    "    def __init__(self, length):\n",
    "        self.length = length\n",
    "        self.trials = []\n",
    "        for row in chopsticks:\n",
    "            if int(row[2]) == self.length:\n",
    "                self.trials.append(Trial(row))\n",
    "                \n",
    "    def num_trials(self):\n",
    "        return len(self.trials)\n",
    "        \n",
    "    def avg_efficiency(self):\n",
    "        return math.fsum([tr.efficiency for tr in self.trials])/self.num_trials()\n",
    "    \n",
    "avg_eff_210 = Chopstick(210).avg_efficiency()\n",
    "    "
   ]
  },
  {
   "cell_type": "code",
   "execution_count": null,
   "metadata": {},
   "outputs": [],
   "source": []
  },
  {
   "cell_type": "markdown",
   "metadata": {},
   "source": [
    "## Overview of Exceptions\n",
    "\n",
    "### When programming, we usually try to avoid writing code that will generate errors. \n",
    "Even so, errors can be quite useful to us because they tell us what went wrong with our code. We can use this information to improve our program's logic. **If part of our code fails, we can check why it failed, and execute some other code instead.**<br>\n",
    "\n",
    "We need a way to handle errors gracefully during code execution so that our program doesn't crash, however. This is where **exception handling** comes into play.<br>\n",
    "\n",
    "An **exception** is a broad characterization of what can go wrong with a program. When a statement is syntactically correct but something goes wrong during execution (a division by zero occurs or the interpreter tries to read a non-existent file, for example), the compiler raises an exception. An important distinction is that exceptions occur during the execution of the program, whereas syntax errors such as forgetting a colon or mispelling a variable don't, because your code won't run to begin with."
   ]
  },
  {
   "cell_type": "code",
   "execution_count": null,
   "metadata": {},
   "outputs": [],
   "source": []
  },
  {
   "cell_type": "markdown",
   "metadata": {},
   "source": [
    "## Handling Exceptions\n",
    "\n",
    "Typically when we write Python code, the interpreter will raise an exception (report an error) and then continue executing the rest of the code. We'll see the exception, but our program will keep running as if it never happened. This is undesireable, because our program probably relies on the previous statements to succeed.\n",
    "\n",
    "We want to handle exceptions by observing when they occur and reacting to them accordingly instead. This way, every piece of code that executes is deliberate, and we have complete control over what our program does. In Python, we use a try-except block to handle exceptions. Consider this piece of code:\n",
    "\n",
    "```pythob\n",
    "try:\n",
    "    impossible_value = int(\"Not an integer\")\n",
    "except ValueError:\n",
    "    print(\"Cannot convert string to integer\")\n",
    "```\n",
    "\n",
    "When the Python interpreter sees this code, it attempts to execute the `try` section of the statement. If the interpreter raises any exceptions within the `try` section (if we hit some sort of error), our code will attempt to **catch** it, or handle it gracefully with different code. In our example, the `except` statement is that different code. It will catch the exception and print out our message because we anticipated that a `ValueError` could occur, and built the error handling in.<br>\n",
    "\n",
    "Now consider this code block:\n",
    "\n",
    "```python\n",
    "try:\n",
    "    f = open(\"data.txt\", \"r\")\n",
    "    s = f.readline()\n",
    "    i = float(s)\n",
    "except ValueError:\n",
    "    print(\"Cannot convert data to floating point value\")\n",
    "except IOError:\n",
    "    print(\"Could not read file\")\n",
    "```\n",
    "\n",
    "Here, we caught a couple different types of exceptions that we suspected could arise during the execution of the `try` block.<br>\n",
    "\n",
    "With Python, we have the ability to catch any exception by writing an `except:` section without specifying a particular error. This is a sort of \"catch-all\" that works like an else: section. Using a catch-all for exceptions is usually bad practice, however. Trying to catch every exception without being specific is dangerous because then we can't execute exception-specific logic, and it means we may not understand our code as fully as we should.<br>\n",
    "\n",
    "If we catch every exception in a single statement, we can't react to the exception that occurred because we have no idea what type it is. Instead, we should try catching as many specific exceptions as we possibly can. To do this, we need to think about the exceptions our code might cause, then catch and react to each one individually.<br>\n",
    "\n",
    "That being said, there are still times when implementing a catch-all after we've caught all of the expected exceptions is a good idea. We may want to catch the unknown exception, store it somewhere so we can find what went wrong later on, and then change our code to handle that particular exception."
   ]
  },
  {
   "cell_type": "code",
   "execution_count": null,
   "metadata": {},
   "outputs": [],
   "source": []
  },
  {
   "cell_type": "markdown",
   "metadata": {},
   "source": [
    "## Handling Bad Data In the Trial Class\n",
    "\n",
    "We have a working program that can find the average efficiency for a length of chopstick. We need to account for what happens when we read in bad data, however. We'll handle this exception in our `Trial` class, because that's the class that reads in the values in our data set.\n",
    "\n",
    "* Our `Trial` class's `__init__` function uses floating point conversion and integer conversion.\n",
    "  * These conversions could fail with a `ValueError` exception.\n",
    "  * Catch this exception, and set each attribute to `-1` if it occurs.\n",
    "* Create a `Trial` instance from the last row of our `chopsticks` data set (`chopsticks[-1]`).\n",
    "  * Store this instance in `bad_trial`."
   ]
  },
  {
   "cell_type": "code",
   "execution_count": null,
   "metadata": {},
   "outputs": [],
   "source": []
  },
  {
   "cell_type": "code",
   "execution_count": 35,
   "metadata": {},
   "outputs": [],
   "source": [
    "class Trial(object):\n",
    "    def __init__(self, datarow):\n",
    "        try:\n",
    "            self.efficiency = float(datarow[0])\n",
    "            self.individual = int(datarow[1])\n",
    "            self.chopstick_length = int(datarow[2])\n",
    "        except:\n",
    "            self.efficiency = -1\n",
    "            self.individual = -1\n",
    "            self.chopstick_length = -1\n",
    "    \n",
    "    \n",
    "bad_trial = Trial(chopsticks[-1])"
   ]
  },
  {
   "cell_type": "code",
   "execution_count": 36,
   "metadata": {},
   "outputs": [
    {
     "name": "stdout",
     "output_type": "stream",
     "text": [
      "27.52 31 330\n"
     ]
    }
   ],
   "source": [
    "print(bad_trial.efficiency, bad_trial.individual, bad_trial.chopstick_length)"
   ]
  },
  {
   "cell_type": "code",
   "execution_count": null,
   "metadata": {},
   "outputs": [],
   "source": []
  },
  {
   "cell_type": "markdown",
   "metadata": {},
   "source": [
    "## Handling Bad Data in the Chopstick Class\n",
    "\n",
    "While we wrote exceptions for handling bad data in the `Trial` class, we haven't done the same for the `Chopstick` class. Let's do that here."
   ]
  },
  {
   "cell_type": "code",
   "execution_count": null,
   "metadata": {},
   "outputs": [],
   "source": []
  },
  {
   "cell_type": "markdown",
   "metadata": {},
   "source": [
    "We set our `Trial` instances' attributes to `-1` whenever we encountered bad data.\n",
    "* Because we want to skip trials with bad data when populating a `Chopstick` instance's `trials`, verify that none of the attributes on the `Trial` instance equal `-1`, and only add trials that are valid.\n",
    "\n",
    "Then, create a new chopstick named `bad_chopstick` with a length of `400` millimeters."
   ]
  },
  {
   "cell_type": "code",
   "execution_count": 37,
   "metadata": {},
   "outputs": [],
   "source": [
    "class Chopstick(object):\n",
    "    def __init__(self, length):\n",
    "        self.length = length\n",
    "        self.trials = []\n",
    "        for row in chopsticks:\n",
    "            if int(row[2]) == self.length:\n",
    "                trial = Trial(row)\n",
    "                # Verify that the data is good\n",
    "                if trial.efficiency != -1:\n",
    "                    # Add the trial to trials if it is good\n",
    "                    self.trials.append(trial)\n",
    "    def num_trials(self):\n",
    "        return len(self.trials)\n",
    "    def avg_efficiency(self):\n",
    "        efficiency_sum = 0\n",
    "        for trial in self.trials:\n",
    "            efficiency_sum += trial.efficiency\n",
    "        return efficiency_sum / self.num_trials()\n",
    "    \n",
    "bad_chopstick = Chopstick(400)"
   ]
  },
  {
   "cell_type": "code",
   "execution_count": null,
   "metadata": {},
   "outputs": [],
   "source": []
  },
  {
   "cell_type": "markdown",
   "metadata": {},
   "source": [
    "## Handing Lengths Outside of the Data Set\n",
    "\n",
    "When we try to find the average efficiency for a chopstick length that isn't in our data set, we end up dividing by zero in our `avg_efficiency` method. Fortunately, this throws a exception, and we can catch it."
   ]
  },
  {
   "cell_type": "code",
   "execution_count": null,
   "metadata": {},
   "outputs": [],
   "source": []
  },
  {
   "cell_type": "markdown",
   "metadata": {},
   "source": [
    "Modify the `Chopstick` class so that computing the average efficiency of a chopstick whose length is outside our data set returns `-1.0`.\n",
    "\n",
    "* The Python interpreter will throw a `ZeroDivisionError` exception when trying to divide by zero.\n",
    "* You must write a `try-except` statement to handle this.\n",
    "\n",
    "Store the result of finding the average efficiency of a chopstick that's `100` millimeters long in `bad_average`."
   ]
  },
  {
   "cell_type": "code",
   "execution_count": 42,
   "metadata": {},
   "outputs": [],
   "source": [
    "class Trial(object):\n",
    "    def __init__(self, datarow):\n",
    "        try:\n",
    "            self.efficiency = float(datarow[0])\n",
    "            self.individual = int(datarow[1])\n",
    "            self.chopstick_length = int(datarow[2])\n",
    "        except:\n",
    "            self.efficiency = -1\n",
    "            self.individual = -1\n",
    "            self.chopstick_length = -1\n",
    "\n",
    "class Chopstick(object):\n",
    "    def __init__(self, length):\n",
    "        self.length = length\n",
    "        self.trials = []\n",
    "        for row in chopsticks:\n",
    "            if int(row[2]) == self.length:\n",
    "                trial = Trial(row)\n",
    "                if trial.individual >= 0:\n",
    "                    self.trials.append(trial)\n",
    "    def num_trials(self):\n",
    "        return len(self.trials)\n",
    "    def avg_efficiency(self):\n",
    "        efficiency_sum = 0\n",
    "        try:\n",
    "            \n",
    "            for trial in self.trials:\n",
    "                efficiency_sum += trial.efficiency\n",
    "\n",
    "            return efficiency_sum / self.num_trials()\n",
    "        \n",
    "        except ZeroDivisionError:\n",
    "            print('ZeroDivisionError occurred, return -1.')\n",
    "            return -1"
   ]
  },
  {
   "cell_type": "code",
   "execution_count": 43,
   "metadata": {
    "scrolled": true
   },
   "outputs": [
    {
     "name": "stdout",
     "output_type": "stream",
     "text": [
      "ZeroDivisionError occurred, return -1.\n"
     ]
    }
   ],
   "source": [
    "bad_average = Chopstick(100).avg_efficiency()"
   ]
  },
  {
   "cell_type": "code",
   "execution_count": null,
   "metadata": {},
   "outputs": [],
   "source": []
  },
  {
   "cell_type": "markdown",
   "metadata": {},
   "source": [
    "## Converting Lengths to Chopstick Instances\n",
    "\n",
    "Now it's time to answer our question. We want to determine which chopstick length is best by looking for the highest average food pinching efficiency. Because we defined our average efficiencies to be `-1.0` for chopsticks with bad data, those averages won't interrupt our calculations. `0` is the lowest possible average efficiency, so `-1.0` shouldn't be an issue."
   ]
  },
  {
   "cell_type": "code",
   "execution_count": null,
   "metadata": {},
   "outputs": [],
   "source": []
  },
  {
   "cell_type": "markdown",
   "metadata": {},
   "source": [
    "We've given you a list of chopstick lengths called, unsurprisingly, `chopstick_lengths`. Some of these lengths aren't in our data set, but we've already made sure our code is robust enough to ignore them.<br>\n",
    "\n",
    "* Use a list comprehension to convert the list of chopstick lengths into a list of `Chopstick` instances.\n",
    "  * Store the resulting list in `chopstick_list`.\n"
   ]
  },
  {
   "cell_type": "code",
   "execution_count": 44,
   "metadata": {},
   "outputs": [],
   "source": [
    "class Chopstick(object):\n",
    "    def __init__(self, length):\n",
    "        self.length = length\n",
    "        self.trials = []\n",
    "        for row in chopsticks:\n",
    "            if int(row[2]) == self.length:\n",
    "                trial = Trial(row)\n",
    "                if trial.individual >= 0:\n",
    "                    self.trials.append(trial)\n",
    "    def num_trials(self):\n",
    "        return len(self.trials)\n",
    "    def avg_efficiency(self):\n",
    "        efficiency_sum = 0\n",
    "        for trial in self.trials:\n",
    "            efficiency_sum += trial.efficiency\n",
    "        try:\n",
    "            return efficiency_sum / self.num_trials()\n",
    "        except ZeroDivisionError:\n",
    "            return -1.0\n"
   ]
  },
  {
   "cell_type": "code",
   "execution_count": 46,
   "metadata": {},
   "outputs": [],
   "source": [
    "chopstick_lengths = [180, 195, 210, 225, 240, 255, 270, 285, 300, 315, 330]\n",
    "chopstick_list = [Chopstick(length) for length in chopstick_lengths]"
   ]
  },
  {
   "cell_type": "code",
   "execution_count": null,
   "metadata": {},
   "outputs": [],
   "source": []
  },
  {
   "cell_type": "markdown",
   "metadata": {},
   "source": [
    "## Overloading Comparison Operators\n",
    "\n",
    "Now let's overload the comparison operators for the `Chopstick` class so we can take advantage of built-in Python functions."
   ]
  },
  {
   "cell_type": "code",
   "execution_count": 63,
   "metadata": {},
   "outputs": [],
   "source": [
    "class Chopstick(object):\n",
    "    def __init__(self, length):\n",
    "        self.length = length\n",
    "        self.trials = []\n",
    "        for row in chopsticks:\n",
    "            if int(row[2]) == self.length:\n",
    "                trial = Trial(row)\n",
    "                if trial.individual >= 0:\n",
    "                    self.trials.append(trial)\n",
    "    def num_trials(self):\n",
    "        return len(self.trials)\n",
    "    def avg_efficiency(self):\n",
    "        efficiency_sum = 0\n",
    "        for trial in self.trials:\n",
    "            efficiency_sum += trial.efficiency\n",
    "        try:\n",
    "            return efficiency_sum / self.num_trials()\n",
    "        except ZeroDivisionError:\n",
    "            return -1.0\n",
    "    def __lt__(self, other):\n",
    "        return self.avg_efficiency() < other.avg_efficiency()\n",
    "    def __gt__(self, other):\n",
    "        return self.avg_efficiency() > other.avg_efficiency()\n",
    "    def __le__(self, other):\n",
    "        return self.avg_efficiency() <= other.avg_efficiency()\n",
    "    def __ge__(self, other):\n",
    "        return self.avg_efficiency() >= other.avg_efficiency()\n",
    "    def __eq__(self, other):\n",
    "        return self.avg_efficiency() == other.avg_efficiency()\n",
    "    def __ne__(self, other):\n",
    "        return self.avg_efficiency() != other.avg_efficiency()\n",
    "    \n"
   ]
  },
  {
   "cell_type": "code",
   "execution_count": 64,
   "metadata": {},
   "outputs": [],
   "source": [
    "chopstick_list = [Chopstick(length) for length in chopstick_lengths]\n",
    "most_efficient = max(chopstick_list)"
   ]
  },
  {
   "cell_type": "code",
   "execution_count": 66,
   "metadata": {},
   "outputs": [
    {
     "data": {
      "text/plain": [
       "240"
      ]
     },
     "execution_count": 66,
     "metadata": {},
     "output_type": "execute_result"
    }
   ],
   "source": [
    "most_efficient.length"
   ]
  },
  {
   "cell_type": "code",
   "execution_count": null,
   "metadata": {},
   "outputs": [],
   "source": []
  }
 ],
 "metadata": {
  "kernelspec": {
   "display_name": "Python 3",
   "language": "python",
   "name": "python3"
  },
  "language_info": {
   "codemirror_mode": {
    "name": "ipython",
    "version": 3
   },
   "file_extension": ".py",
   "mimetype": "text/x-python",
   "name": "python",
   "nbconvert_exporter": "python",
   "pygments_lexer": "ipython3",
   "version": "3.6.2"
  }
 },
 "nbformat": 4,
 "nbformat_minor": 2
}
