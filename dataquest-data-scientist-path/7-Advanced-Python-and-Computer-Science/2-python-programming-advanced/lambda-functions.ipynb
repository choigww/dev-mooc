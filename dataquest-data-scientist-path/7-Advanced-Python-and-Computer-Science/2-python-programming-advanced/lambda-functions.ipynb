{
 "cells": [
  {
   "cell_type": "markdown",
   "metadata": {},
   "source": [
    "# Lambda Functions\n"
   ]
  },
  {
   "cell_type": "code",
   "execution_count": null,
   "metadata": {},
   "outputs": [],
   "source": []
  },
  {
   "cell_type": "markdown",
   "metadata": {},
   "source": [
    "## Introduction to String Manipulation\n",
    "\n",
    "In this mission, we'll dive into string manipulation, which is essential to working with data that's represented as text. Similar to a list, string objects are indexed so we can access specific characters quickly. If we want to access the first character in `my_string`, we write `my_string[0]`, just like we would to get the first element in a list.<br>\n",
    "\n",
    "We can also use the index to **slice** string objects, or select the fragments we want and pull them out. When we slice a string, we select a chunk or **substring** from the original string. To select a specific character, we only need to specify one number -- the character's index. When **slicing** a string, we specify a range of values for the indices instead of just a single number.<br>\n",
    "\n",
    "If we want the first four characters in a string, for example, what we're really asking for are the characters from index `0` to index `3` (**inclusive**) of the string. To represent ranges in Python, we would specify the starting index as `0`, but the ending index as `4`. Python uses the ending index to stop iterating and doesn't return the character at index `4`; this is one of the language's quirks! If we want the characters from index `2` to index `5` (**inclusive**), we would need to specify `2` as the starting index and `6` as the ending index, rather than `5`.<br>\n",
    "\n",
    "To represent ranges, we still use bracket notation like before. Now we specify two numbers though -- the starting index and the ending index—and separate them with a colon. If we want the first four characters of the string object `my_string`, for example, we write:<br>\n",
    "\n",
    "```python\n",
    "my_string[0:4]\n",
    "```\n",
    "\n",
    "Now it's your turn to practice!"
   ]
  },
  {
   "cell_type": "code",
   "execution_count": 2,
   "metadata": {},
   "outputs": [],
   "source": [
    "fifth = password[4]\n",
    "last_four = password[-4:]"
   ]
  },
  {
   "cell_type": "code",
   "execution_count": 3,
   "metadata": {},
   "outputs": [
    {
     "name": "stdout",
     "output_type": "stream",
     "text": [
      "6 1387\n"
     ]
    }
   ],
   "source": [
    "print(fifth, last_four)"
   ]
  },
  {
   "cell_type": "code",
   "execution_count": null,
   "metadata": {},
   "outputs": [],
   "source": []
  },
  {
   "cell_type": "markdown",
   "metadata": {},
   "source": [
    "## Omitting Starting or Ending Indices\n",
    "\n",
    "We can also take advantage of Python's flexibility with ranges to omit the starting or ending index to create interesting effects. If we omit the first index, the Python interpreter will assume you want to start at the beginning, or index `0`, and stop at the ending index. If we omit the ending index, the interpreter will assume you want to grab all the characters from the starting index all the way until the end of the string.<br>\n",
    "\n",
    "Here's a quick example:\n",
    "\n",
    "```python\n",
    "password = \"password\"\n",
    "first_three = password[:3]\n",
    "last_five = password[3:]\n",
    "```\n",
    "\n",
    "`first_three` will contain the first three letters of `\"password\"` while `last_five` will contain the last five letters of `\"password\"` (from index `3` to the end).<br>\n",
    "\n",
    "What do you think happens when we omit both the starting index and the ending index?"
   ]
  },
  {
   "cell_type": "code",
   "execution_count": 6,
   "metadata": {},
   "outputs": [
    {
     "name": "stdout",
     "output_type": "stream",
     "text": [
      "string\n"
     ]
    }
   ],
   "source": [
    "hello = \"hello world\"[:5]\n",
    "foo = \"some string\"\n",
    "print(foo[5:])\n",
    "\n",
    "my_string = \"string slicing is fun!\"\n",
    "# Your code goes here\n",
    "\n",
    "first_nine = my_string[:9]\n",
    "remainder = my_string[9:]"
   ]
  },
  {
   "cell_type": "code",
   "execution_count": null,
   "metadata": {},
   "outputs": [],
   "source": []
  },
  {
   "cell_type": "markdown",
   "metadata": {},
   "source": [
    "## Skipping Indices In a Slice with Steps\n",
    "\n",
    "Now that you got a taste of slicing, let's explore some other ways we would want to select a substring from a string. What if we want to select every odd character in a string? Specifically, how do we select all of the characters at indices `1`, `3`, `5`, and so on? With what we know so far, we would have to iterate through every character and throw away all of the even characters. Alternatively, we could create a list with just the odd indices, and write a for loop to iterate and select only the characters at those indices. Thankfully, there's a simpler way!<br>\n",
    "\n",
    "We can enter a third number in our range that controls the distance between each character we want to select. This value is known as the **step** value, which is `1` by default. Let's see how we can use that functionality to select all of the characters in `password` that have odd indices.\n",
    "\n",
    "```python\n",
    "password = 'password'\n",
    "odds = my_string[1:8:2]\n",
    "```\n",
    "\n",
    "The slice `[1:8:2]` specifies that we want to start the substring at index `1`, and add `2` to the index each time until it observes or exceeds index `8`. Therefore, the string object odds should be set to the value \"asod\", which correspond to the four characters at indices `1`, `3`, `5`, and `7`. If we didn't provide a step value, the interpreter would have defaulted to `1` and odds would contain all of the characters beginning at index 1, instead of just the ones at odd indices.<br>\n",
    "\n",
    "By similar logic, `password[0:6:4]` would result in `\"pw\"`. We would start at index `0`, extract `\"p\"`, step to index `4`, and finally extract `\"w\"`. If we step again, the index would be at `8`, which is beyond our ending index of `6`.<br>\n",
    "\n",
    "We can do advanced slicing with relatively simple notation by combining this technique with the technique of omitting indices. Instead of writing `password[0:6:4]`, for example, we could write `password[:6:2]`."
   ]
  },
  {
   "cell_type": "code",
   "execution_count": 8,
   "metadata": {},
   "outputs": [],
   "source": [
    "hlo = \"hello world\"[:5:2]\n",
    "\n",
    "my_string = \"string slicing is fun!\"\n",
    "\n",
    "gibberish = my_string[0:-1:2]\n",
    "worse_gibberish = my_string[7:-1:3]"
   ]
  },
  {
   "cell_type": "code",
   "execution_count": null,
   "metadata": {},
   "outputs": [],
   "source": []
  },
  {
   "cell_type": "markdown",
   "metadata": {},
   "source": [
    "## Negative Indexing\n",
    "\n",
    "We can also use negative values to index and slice string objects. The index -1, for example, refers to the last character of a string. `\"word\"[-1]` would evaluate to `\"d\"`, while `\"word\"[-2]` would evaluate to `\"r\"`. Now, how exactly does negative indexing benefit us?<br>\n",
    "\n",
    "Negative indexing allows us to step backwards by specifying a negative number for the step value. For example, `\"backwards\"[3::-1]` starts at index `3`, **steps backwards in increments of `1` until it gets to the first character**, wraps around to the end of the string, and stops. The result of that slice is `\"kcab\"`."
   ]
  },
  {
   "cell_type": "code",
   "execution_count": 9,
   "metadata": {},
   "outputs": [],
   "source": [
    "olleh = \"hello world\"[4::-1]\n",
    "able_string = \"able was I ere I saw elba\""
   ]
  },
  {
   "cell_type": "code",
   "execution_count": 10,
   "metadata": {},
   "outputs": [],
   "source": [
    "def is_palindrome(my_string):\n",
    "    \n",
    "    if my_string == my_string[::-1]:\n",
    "        return True\n",
    "    else:\n",
    "        return False\n",
    "    "
   ]
  },
  {
   "cell_type": "code",
   "execution_count": 12,
   "metadata": {},
   "outputs": [
    {
     "data": {
      "text/plain": [
       "True"
      ]
     },
     "execution_count": 12,
     "metadata": {},
     "output_type": "execute_result"
    }
   ],
   "source": [
    "phrase_palindrome = is_palindrome(\"able was I ere I saw elba\")"
   ]
  },
  {
   "cell_type": "code",
   "execution_count": null,
   "metadata": {},
   "outputs": [],
   "source": []
  },
  {
   "cell_type": "markdown",
   "metadata": {},
   "source": [
    "## Overview of the Password Data\n",
    "\n",
    "Now we'll explore some of the techniques we've learned by working with a user password list. Each item in the list is a string containing an individual's expired password. We'll use our password list to find some interesting trends in how people select their passwords. We've loaded this list into the `passwords` variable."
   ]
  },
  {
   "cell_type": "code",
   "execution_count": null,
   "metadata": {},
   "outputs": [],
   "source": []
  },
  {
   "cell_type": "markdown",
   "metadata": {},
   "source": [
    "## Searching for Substrings\n",
    "\n",
    "If we want to check whether the characters in one string (`inner_substring`) exist in another string (`big_string`), we can use Python's `in` operator. For example, if `inner_substring` contained the value `\"hello\"` and `big_string` contained the value `\"hello world\"`, the following code segment would return `True`:\n",
    "\n",
    "```python\n",
    "inner_substring in big_string\n",
    "```\n",
    "\n",
    "If `big_string` contained the value `\"goodbye\"` instead, the above expression would evaluate to `False`."
   ]
  },
  {
   "cell_type": "code",
   "execution_count": null,
   "metadata": {},
   "outputs": [],
   "source": []
  },
  {
   "cell_type": "markdown",
   "metadata": {},
   "source": [
    "Write a function called `easy_patterns()` that takes a string argument corresponding to a pattern.\n",
    "* The function should count the number of `passwords` in passwords that contain that pattern as a substring, and return that count.\n",
    "\n",
    "After you've written the function, call `easy_patterns()` with the argument `\"1234\"`, and store the result as `countup_passwords`."
   ]
  },
  {
   "cell_type": "code",
   "execution_count": 40,
   "metadata": {},
   "outputs": [],
   "source": [
    "passwords = ['07606374520', 'piontekendre', 'rambo144', 'primoz123',\n",
    "             'sal1387', 'EVASLRDG', 'Detroit84', 'dlbd090505', 'snoesje12',\n",
    "             '056412197', 'pottompanni', 'xyjk2288', 'thinhtr123', 'mymail513',\n",
    "             'scratch3', 'g0ewcx', '5200zhaoling', 'pipiczek2', '81mena32',\n",
    "             'tfh12345678', 'g0ee0g', 'kyooyk']"
   ]
  },
  {
   "cell_type": "code",
   "execution_count": 41,
   "metadata": {},
   "outputs": [],
   "source": [
    "def easy_patterns(pattern):\n",
    "    \n",
    "    pattern_count = 0\n",
    "    \n",
    "    for pw in passwords:\n",
    "        if pattern in pw:\n",
    "            pattern_count += 1\n",
    "    \n",
    "    return pattern_count"
   ]
  },
  {
   "cell_type": "code",
   "execution_count": 42,
   "metadata": {},
   "outputs": [
    {
     "data": {
      "text/plain": [
       "1"
      ]
     },
     "execution_count": 42,
     "metadata": {},
     "output_type": "execute_result"
    }
   ],
   "source": [
    "easy_patterns('1234')"
   ]
  },
  {
   "cell_type": "code",
   "execution_count": null,
   "metadata": {},
   "outputs": [],
   "source": []
  },
  {
   "cell_type": "markdown",
   "metadata": {},
   "source": [
    "## First-Class Functions\n",
    "\n",
    "Like many programming languages, Python treats functions as first-class citizens. This means we can pass functions in as arguments to other functions, just like we can with objects. To understand why we use first-class functions, let's consider an example.<br>\n",
    "\n",
    "Suppose we have a long list of floating point numbers, and we need to convert them to integers. While we could use a list comprehension, Python has a built-in function called `map()` that we can use instead. For example, the code `map(func, ls)` iterates through a list `ls`, and runs `func` on every item in that list. In this case, `func` might contain logic that converts floating point numbers to integers."
   ]
  },
  {
   "cell_type": "code",
   "execution_count": null,
   "metadata": {},
   "outputs": [],
   "source": []
  },
  {
   "cell_type": "markdown",
   "metadata": {},
   "source": [
    "The variable `not_floats` contains a list of string objects that represent floating point numbers (e.g. `\"12.0\"`).\n",
    "* Use Python's `map()` function to convert every string in the list into a floating point number, and store the result in `floats`."
   ]
  },
  {
   "cell_type": "code",
   "execution_count": 35,
   "metadata": {},
   "outputs": [
    {
     "data": {
      "text/plain": [
       "[1.005, 2.5, 199.802, 56.228]"
      ]
     },
     "execution_count": 35,
     "metadata": {},
     "output_type": "execute_result"
    }
   ],
   "source": [
    "not_floats = ['1.005', '2.5', '199.802', '56.228']\n",
    "floats = list(map(float, not_floats))\n",
    "floats"
   ]
  },
  {
   "cell_type": "code",
   "execution_count": null,
   "metadata": {},
   "outputs": [],
   "source": []
  },
  {
   "cell_type": "markdown",
   "metadata": {},
   "source": [
    "## Average Password Length\n",
    "\n",
    "Recall that string objects are indexed like list objects, so we can treat them the same way when it comes to selecting values.<br>\n",
    "\n",
    "That means that we can use the `len()` function to calculate the length of a string, just like we can use it to calculate the length of a list."
   ]
  },
  {
   "cell_type": "code",
   "execution_count": null,
   "metadata": {},
   "outputs": [],
   "source": []
  },
  {
   "cell_type": "markdown",
   "metadata": {},
   "source": [
    "* Use the `map()` function to perform a length calculation for each element in our `passwords` list.\n",
    "  * Cast the result as a list object (containing the lengths of every password).\n",
    "  * Store the result in `password_lengths`.\n",
    "\n",
    "* Then, calculate the average password length with help from the `sum()` function, which takes a list as the argument.\n",
    "  * Store the result in `avg_password_length`."
   ]
  },
  {
   "cell_type": "code",
   "execution_count": 36,
   "metadata": {},
   "outputs": [
    {
     "data": {
      "text/plain": [
       "9.2"
      ]
     },
     "execution_count": 36,
     "metadata": {},
     "output_type": "execute_result"
    }
   ],
   "source": [
    "password_lengths = list(map(len, passwords))\n",
    "avg_password_length = sum(password_lengths)/len(password_lengths)\n",
    "avg_password_length"
   ]
  },
  {
   "cell_type": "code",
   "execution_count": null,
   "metadata": {},
   "outputs": [],
   "source": []
  },
  {
   "cell_type": "markdown",
   "metadata": {},
   "source": [
    "## More Uses for First-Class Functions\n",
    "\n",
    "Many functions take advantage of first-class functions to simplify their logic. A common example is the `filter()` function, which takes a `func` argument and an `ls` argument (in that order), and returns a list of all of the elements in ls for which `func` evaluates to `True`. In other words, it filters out every element that evaluates to `False` when we call `func` on that argument.<br>\n",
    "\n",
    "Just like with `map()`, we need to cast the result of a `filter()` to a list using the `list()` function."
   ]
  },
  {
   "cell_type": "code",
   "execution_count": null,
   "metadata": {},
   "outputs": [],
   "source": []
  },
  {
   "cell_type": "markdown",
   "metadata": {},
   "source": [
    "* Use our `is_palindrome()` function to find a list of all of the passwords that are palindromes, and store the result in `palindrome_passwords`."
   ]
  },
  {
   "cell_type": "code",
   "execution_count": 43,
   "metadata": {},
   "outputs": [
    {
     "data": {
      "text/plain": [
       "['g0ee0g', 'kyooyk']"
      ]
     },
     "execution_count": 43,
     "metadata": {},
     "output_type": "execute_result"
    }
   ],
   "source": [
    "palindrome_passwords = list(filter(is_palindrome, passwords))\n",
    "palindrome_passwords"
   ]
  },
  {
   "cell_type": "code",
   "execution_count": null,
   "metadata": {},
   "outputs": [],
   "source": []
  },
  {
   "cell_type": "markdown",
   "metadata": {},
   "source": [
    "## Lambda Functions\n",
    "\n",
    "Now let's talk about **lambda functions**, which we also call **anonymous** functions. We use lambda functions when we only want to run a function once, and don't need to save it for reuse. On the last screen, for example, we wrote the `is_palindrome()` function, but only used it once. Because the logic for `is_palindrome()` only consisted of one line, it would have been more convenient to write and apply the logic only when we needed it (when we executed the `filter()` function).<br>\n",
    "\n",
    "This is precisely what lambda functions allow us to do. The syntax is different than what we've been exposed to before. Syntactically, we represent a lambda function like this:\n",
    "\n",
    "```python\n",
    "lambda arg1, arg2, etc. : perform task on arg1 and arg2\n",
    "```\n",
    "\n",
    "So, `lambda x : x ** 2` is a lambda function that takes a parameter x and squares it. Lambda functions can have multiple arguments as well. For instance, `lambda x, y : x + y` is a lambda function that takes two parameters and adds them together.<br>\n",
    "\n",
    "Passing a lambda function into another function is similar to passing a value into a function, rather than a variable. Instead of referring to our function by name (for instance, `my_func()`), we're simply passing the function in as a raw value. This is analogous to passing in `\"hello world\"` instead of `my_string`. It can take a while to get used to the idea of functions as values, but the concept is very powerful. Lets look at a more detailed example.\n",
    "\n",
    "```python\n",
    "numbers = [1, 2, 3, 4, 5, 6, 7, 8, 9, 10]\n",
    "evens = list(filter(lambda x : x % 2 == 0, numbers))\n",
    "```\n",
    "\n",
    "The `%` is the modulus operator, which returns the remainder after division. If you take any integer x and write x % 2, it will result in 0 if the number is even and 1 if the number is odd. So `lambda x: x % 2 == 0` is a lambda function that will return True for all even integers.<br>\n",
    "\n",
    "Combining that with what we previously learned about filter() gives us `evens = list(filter(lambda x : x % 2 == 0, numbers))`.<br>\n",
    "\n",
    "We can see that this code will assign any even integers from the list `numbers` to `evens`. Now let's make the function we wrote in the previous step into a lambda function, and apply it using `filter()`."
   ]
  },
  {
   "cell_type": "code",
   "execution_count": 45,
   "metadata": {},
   "outputs": [],
   "source": [
    "palindrome_passwords = list(filter(lambda x: is_palindrome(x) == True, \\\n",
    "                                   passwords))"
   ]
  },
  {
   "cell_type": "code",
   "execution_count": 46,
   "metadata": {},
   "outputs": [
    {
     "data": {
      "text/plain": [
       "['g0ee0g', 'kyooyk']"
      ]
     },
     "execution_count": 46,
     "metadata": {},
     "output_type": "execute_result"
    }
   ],
   "source": [
    "palindrome_passwords"
   ]
  },
  {
   "cell_type": "code",
   "execution_count": null,
   "metadata": {},
   "outputs": [],
   "source": []
  },
  {
   "cell_type": "markdown",
   "metadata": {},
   "source": [
    "## Password Strengths\n",
    "\n",
    "In just one line of code, we parsed through a list of passwords and determined which ones were palindromes. You should be starting to get a sense for how lambda functions help keep our code maintainable by reducing the number of functions we need to define. However, remember that we should only use lambda functions when we're positive that we won't use a function somewhere else in our code.<br>\n",
    "\n",
    "Using x or another short variable for lambda functions is a convention that makes them easier to read.<br>\n",
    "\n",
    "To conclude this mission, we'll combine a few of the concepts we've learned to calculate password strength. Let's categorize passwords less than `6` characters long as `\"weak\"`, passwords between `6` and `10` characters (inclusive) as `\"medium\"`, and passwords with more than `10` characters as `\"strong\"`."
   ]
  },
  {
   "cell_type": "code",
   "execution_count": null,
   "metadata": {},
   "outputs": [],
   "source": []
  },
  {
   "cell_type": "markdown",
   "metadata": {},
   "source": [
    "* Using only one line of code each, calculate and store:\n",
    "  * The list of all weak passwords in the `weak_passwords` variable\n",
    "  * The list of all medium passwords in the `medium_passwords` variable\n",
    "  * The list of all strong passwords in the `strong_passwords` variable\n"
   ]
  },
  {
   "cell_type": "code",
   "execution_count": null,
   "metadata": {},
   "outputs": [],
   "source": []
  },
  {
   "cell_type": "code",
   "execution_count": 52,
   "metadata": {},
   "outputs": [],
   "source": [
    "weak_passwords = list(filter(lambda x: len(x) < 6, passwords))\n",
    "medium_passwords = list(filter(lambda x: 6 <= len(x) <= 10, passwords))\n",
    "strong_passwords = list(filter(lambda x: len(x) > 10, passwords))"
   ]
  },
  {
   "cell_type": "code",
   "execution_count": null,
   "metadata": {},
   "outputs": [],
   "source": []
  },
  {
   "cell_type": "code",
   "execution_count": 53,
   "metadata": {},
   "outputs": [
    {
     "name": "stdout",
     "output_type": "stream",
     "text": [
      "weak_passwords\n",
      " []\n"
     ]
    }
   ],
   "source": [
    "print('weak_passwords\\n', weak_passwords)"
   ]
  },
  {
   "cell_type": "code",
   "execution_count": 54,
   "metadata": {},
   "outputs": [
    {
     "name": "stdout",
     "output_type": "stream",
     "text": [
      "medium_passwords\n",
      " ['rambo144', 'primoz123', 'sal1387', 'EVASLRDG', 'Detroit84', 'dlbd090505', 'snoesje12', '056412197', 'xyjk2288', 'thinhtr123', 'mymail513', 'scratch3', 'g0ewcx', 'pipiczek2', '81mena32', 'g0ee0g', 'kyooyk']\n"
     ]
    }
   ],
   "source": [
    "print('medium_passwords\\n', medium_passwords)"
   ]
  },
  {
   "cell_type": "code",
   "execution_count": 55,
   "metadata": {},
   "outputs": [
    {
     "name": "stdout",
     "output_type": "stream",
     "text": [
      "strong_passwords\n",
      " ['07606374520', 'piontekendre', 'pottompanni', '5200zhaoling', 'tfh12345678']\n"
     ]
    }
   ],
   "source": [
    "print('strong_passwords\\n', strong_passwords)"
   ]
  },
  {
   "cell_type": "code",
   "execution_count": null,
   "metadata": {},
   "outputs": [],
   "source": []
  }
 ],
 "metadata": {
  "kernelspec": {
   "display_name": "Python 3",
   "language": "python",
   "name": "python3"
  },
  "language_info": {
   "codemirror_mode": {
    "name": "ipython",
    "version": 3
   },
   "file_extension": ".py",
   "mimetype": "text/x-python",
   "name": "python",
   "nbconvert_exporter": "python",
   "pygments_lexer": "ipython3",
   "version": "3.6.2"
  }
 },
 "nbformat": 4,
 "nbformat_minor": 2
}
