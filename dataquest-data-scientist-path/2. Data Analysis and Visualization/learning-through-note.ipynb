{
 "cells": [
  {
   "cell_type": "markdown",
   "metadata": {},
   "source": [
    "# Data Storytelling\n",
    "* Data visualization in detail."
   ]
  },
  {
   "cell_type": "markdown",
   "metadata": {},
   "source": [
    "## Index.\n",
    "### 1. Less is More\n",
    "* [Hide axes.tick_params()](#axes-tick-params)\n",
    "* [Hide matplotlib.spine.Spine](#matplotlib-spine-spine)\n",
    "* [Manipulate x-axis / y-axis limit](#manipulate)\n",
    "    \n",
    "### 2. Color, Layout, and Annotations\n",
    "* [Color blind pallets](#color-blind-pallets)\n",
    "* [Line width](#line-width)\n",
    "* [Improve layout and ordering](#improve-layout-and-ordering)\n",
    "* [Legend](#legend)\n",
    "\n",
    "### 3. Conditional Plots using Seaborn\n",
    "* [Creating histograms in Seaborn](#creating-histograms-in-seaborn)\n",
    "* [Generating a kernel density plot](#generating-a-kernel-density-plot)\n",
    "* [Modifying the appearance of the plots](#modifying-the-appearance)\n",
    "* [Conditional distributions using a single condition](#conditional-distributions-single)\n",
    "* [Conditional distributions using two conditions](#conditional-distributions-double)\n",
    "* [Conditional distributions using three conditions](#conditional-distributions-three)"
   ]
  },
  {
   "cell_type": "code",
   "execution_count": null,
   "metadata": {
    "collapsed": true
   },
   "outputs": [],
   "source": []
  },
  {
   "cell_type": "markdown",
   "metadata": {},
   "source": [
    "## Less is More\n",
    "* how to remove unnecessary details from graph"
   ]
  },
  {
   "cell_type": "markdown",
   "metadata": {},
   "source": [
    "### 1-1.<a name='axes-tick-params'></a> Hide axes.tick_params()\n",
    "The parameters for enabling or disabling tick marks are conveniently named after the sides. To hide all of them, we need to pass in the following values for each parameter when we call `Axes.tick_params()`:\n",
    "\n",
    "* bottom: \"off\"\n",
    "* top: \"off\"\n",
    "* left: \"off\"\n",
    "* right: \"off\"\n",
    "\n",
    "```python\n",
    "import pandas as pd\n",
    "import matplotlib.pyplot as plt\n",
    "\n",
    "women_degrees = pd.read_csv('percent-bachelors-degrees-women-usa.csv')\n",
    "\n",
    "fig, ax = plt.subplots()\n",
    "\n",
    "ax.plot(women_degrees.Year, women_degrees.Biology, c='b', label=\"Women\")\n",
    "ax.plot(women_degrees.Year, 100-women_degrees.Biology, c='g', label=\"Men\")\n",
    "\n",
    "##### hide tick marks #####\n",
    "ax.tick_params(bottom=\"off\", top=\"off\", left=\"off\", right=\"off\")\n",
    "\n",
    "plt.title(\"Percentage of Biology Degrees Awarded By Gender\")\n",
    "plt.legend(loc=\"upper right\")\n",
    "plt.show()\n",
    "```"
   ]
  },
  {
   "cell_type": "markdown",
   "metadata": {},
   "source": [
    "### 1-2. <a name='matplotlib-spine-spine'></a> Hide matplotlib.spine.Spine\n",
    "In matplotlib, the spines are represented using the [matplotlib.spines.Spine class](http://matplotlib.org/api/spines_api.html). When we create an Axes instance, four Spine objects are created for us. If you run print(ax.spines), you'll get back a dictionary of the Spine objects:\n",
    "```python\n",
    "{'right': <matplotlib.spines.spine object=\"\" at=\"\" 0x111089c18=\"\">, 'bottom': <matplotlib.spines.spine object=\"\" at=\"\" 0x111060898=\"\">, 'top': <matplotlib.spines.spine object=\"\" at=\"\" 0x1110606a0=\"\">, 'left': <matplotlib.spines.spine object=\"\" at=\"\" 0x11107cd30=\"\">}\n",
    "</matplotlib.spines.spine></matplotlib.spines.spine></matplotlib.spines.spine></matplotlib.spines.spine>\n",
    "```\n",
    "\n",
    "To hide all of the spines, we need to:\n",
    "\n",
    "* access each Spine object in the dictionary\n",
    "* call the Spine.set_visible() method\n",
    "* pass in the Boolean value False\n",
    "\n",
    "```python\n",
    "fig, ax = plt.subplots()\n",
    "ax.plot(women_degrees['Year'], women_degrees['Biology'], label='Women')\n",
    "ax.plot(women_degrees['Year'], 100-women_degrees['Biology'], label='Men')\n",
    "ax.tick_params(bottom=\"off\", top=\"off\", left=\"off\", right=\"off\")\n",
    "\n",
    "##### Hide spines #####\n",
    "for sp in [\"left\", \"right\", \"top\", \"bottom\"]:\n",
    "    ax.spines[sp].set_visible(False)\n",
    "\n",
    "ax.legend(loc='upper right')\n",
    "ax.set_title('Percentage of Biology Degrees Awarded By Gender')\n",
    "plt.show()\n",
    "```"
   ]
  },
  {
   "cell_type": "markdown",
   "metadata": {},
   "source": [
    "### 1-3. <a name='manipulate'></a>Manipulate x-axis / y-axis limit\n",
    "A good chart uses a consistent style for the elements that aren't directly conveying the data points,\n",
    "* These elements are part of the non-data ink in the chart. By keeping the non-data ink as consistent as possible across multiple plots, differences in those elements stick out easily to the viewer."
   ]
  },
  {
   "cell_type": "markdown",
   "metadata": {},
   "source": [
    "![pic1](https://s3.amazonaws.com/dq-content/four_major_categories_plots.png)\n",
    "```python\n",
    "major_cats = ['Biology', 'Computer Science', 'Engineering', 'Math and Statistics']\n",
    "fig = plt.figure(figsize=(12, 12))\n",
    "\n",
    "for sp in range(0,4):\n",
    "    ax = fig.add_subplot(2,2,sp+1)\n",
    "    ax.plot(women_degrees['Year'], women_degrees[major_cats[sp]], c='blue', label='Women')\n",
    "    ax.plot(women_degrees['Year'], 100-women_degrees[major_cats[sp]], c='green', label='Men')\n",
    "    # Add your code here.\n",
    "    for key, spine in ax.spines.items():\n",
    "        spine.set_visible(False)\n",
    "        \n",
    "    ax.set_xlim(1968, 2011)\n",
    "    ax.set_ylim(0,100)\n",
    "    ax.set_title(major_cats[sp])\n",
    "    ax.tick_params(bottom=\"off\", top=\"off\", right=\"off\", left=\"off\")\n",
    "        \n",
    "# Calling pyplot.legend() here will add the legend to the last subplot that was created.\n",
    "plt.legend(loc='upper right')\n",
    "plt.show()\n",
    "```"
   ]
  },
  {
   "cell_type": "code",
   "execution_count": null,
   "metadata": {
    "collapsed": true
   },
   "outputs": [],
   "source": []
  },
  {
   "cell_type": "markdown",
   "metadata": {},
   "source": [
    "## 2. Color Selection"
   ]
  },
  {
   "cell_type": "markdown",
   "metadata": {},
   "source": [
    "### 2-1. <a name='color-blind-pallets'></a>Color blind pallets\n",
    "\n",
    "When selecting colors, we need to be mindful of people who have some amount of color blindness. People who have [color blindness](https://en.wikipedia.org/wiki/Color_blindness) have a decreased ability to distinguish between certain kinds of colors. **The most common form of color blindness is red-green color blindness, where the person can't distinguish between red and green shades. Approximately 8% of men and 0.5% of women of Northern European descent suffer from red-green color blindness.**\n",
    "\n",
    "* If we wanted to publish the data visualizations we create, **we need to be mindful of color blindness.** Thankfully, there are color palettes we can use that are friendly for people with color blindness. One of them is called **Color Blind 10 and was released by Tableau**, the company that makes the data visualization platform of the same name. Navigate to this page and **select just the Color Blind 10 option from the list of palettes to see the ten colors included in the palette.**\n",
    "\n",
    "#### [color blind pallets (RGB values)]\n",
    "![color-blind-pallets](https://s3.amazonaws.com/dq-content/tableau_rgb_values.png)\n",
    "The first color in the palette is a color that resembles dark blue and has the following RGB values:\n",
    "\n",
    "* Red: 0\n",
    "* Green: 107\n",
    "* Blue: 164\n",
    "\n",
    "```python\n",
    "fig = plt.figure(figsize=(12, 12))\n",
    "\n",
    "for sp in range(0,4):\n",
    "    ax = fig.add_subplot(2,2,sp+1)\n",
    "    \n",
    "    # The color for each line is assigned here.\n",
    "    cb_dark_blue = (0/255, 107/255, 164/255)\n",
    "    cb_orange = (255/255, 128/255, 14/255)\n",
    "    \n",
    "    ax.plot(women_degrees['Year'], women_degrees[major_cats[sp]], c=cb_dark_blue, label='Women')\n",
    "    ax.plot(women_degrees['Year'], 100-women_degrees[major_cats[sp]], c=cb_orange, label='Men')\n",
    "    for key,spine in ax.spines.items():\n",
    "        spine.set_visible(False)\n",
    "    ax.set_xlim(1968, 2011)\n",
    "    ax.set_ylim(0,100)\n",
    "    ax.set_title(major_cats[sp])\n",
    "    ax.tick_params(bottom=\"off\", top=\"off\", left=\"off\", right=\"off\")\n",
    "\n",
    "plt.legend(loc='upper right')\n",
    "plt.show()\n",
    "```\n",
    "![result1](images/graph1.png)"
   ]
  },
  {
   "cell_type": "code",
   "execution_count": null,
   "metadata": {
    "collapsed": true
   },
   "outputs": [],
   "source": []
  },
  {
   "cell_type": "markdown",
   "metadata": {},
   "source": [
    "### 2-2. <a name='line-width'></a>Line width\n",
    "When we call the `Axes.plot()` method, we can use the linewidth parameter to specify the line width. Matplotlib expects a float value for this parameter:\n",
    "\n",
    "```python\n",
    "ax.plot(women_degrees['Year'], women_degrees['Biology'], label='Women', c=cb_dark_blue, linewidth=2)\n",
    "```"
   ]
  },
  {
   "cell_type": "code",
   "execution_count": null,
   "metadata": {
    "collapsed": true
   },
   "outputs": [],
   "source": []
  },
  {
   "cell_type": "markdown",
   "metadata": {},
   "source": [
    "### 2-3. <a name='improve-layout-and-ordering'></a>Improve layout and ordering\n",
    "\n",
    "To make the viewing experience more coherent, we can:\n",
    "\n",
    "* use layout of a single row with multiple columns\n",
    "* order the plots in decreasing order of initial gender gap\n",
    "\n",
    "Here's what that would look like:\n",
    "![single-row-multi-columns1](https://s3.amazonaws.com/dq-content/line_charts_dec_initial_gg.png)\n",
    "\n",
    "The leftmost plot has the largest gender gap in 1968 while the rightmost plot has the smallest gender gap in 1968. If we're instead interested in the recent gender gaps in STEM degrees, we can order the plots from largest to smallest ending gender gaps. Here's what that would look like:\n",
    "![single-row-multi-columns2](https://s3.amazonaws.com/dq-content/line_charts_dec_ending_gg.png)"
   ]
  },
  {
   "cell_type": "markdown",
   "metadata": {},
   "source": [
    "Modify the starter code to:\n",
    "* Change the width of the figure to a width of 18 inches and a height of 3 inches.\n",
    "* In the for loop, change the range to (0,6) instead of (0,4).\n",
    "* Change the subplot layout from 2 rows by 2 columns to 1 row by 6 columns.\n",
    "* Use stem_cats instead of major_cats when generating and setting the titles for the line charts.\n",
    "\n",
    "```python\n",
    "stem_cats = ['Engineering', 'Computer Science', 'Psychology', 'Biology', 'Physical Sciences', 'Math and Statistics']\n",
    "\n",
    "fig = plt.figure(figsize=(18, 3))\n",
    "\n",
    "for sp in range(0,6):\n",
    "    ax = fig.add_subplot(1,6,sp+1)\n",
    "    ax.plot(women_degrees['Year'], women_degrees[stem_cats[sp]], c=cb_dark_blue, label='Women', linewidth=3)\n",
    "    ax.plot(women_degrees['Year'], 100-women_degrees[stem_cats[sp]], c=cb_orange, label='Men', linewidth=3)\n",
    "    for key,spine in ax.spines.items():\n",
    "        spine.set_visible(False)\n",
    "    ax.set_xlim(1968, 2011)\n",
    "    ax.set_ylim(0,100)\n",
    "    ax.set_title(stem_cats[sp])\n",
    "    ax.tick_params(bottom=\"off\", top=\"off\", left=\"off\", right=\"off\")\n",
    "\n",
    "plt.legend(loc='upper right')\n",
    "plt.show()\n",
    "```\n",
    "![graph2](images/graph2.png)"
   ]
  },
  {
   "cell_type": "code",
   "execution_count": null,
   "metadata": {
    "collapsed": true
   },
   "outputs": [],
   "source": []
  },
  {
   "cell_type": "markdown",
   "metadata": {},
   "source": [
    "### 2-4. <a name='legend'></a>Legend"
   ]
  },
  {
   "cell_type": "markdown",
   "metadata": {},
   "source": [
    "The purpose of a legend is to ascribe meaning to symbols or colors in a chart. We're using it to inform the viewer of what gender corresponds to each color. **Tufte encourages removing legends entirely if the same information can be conveyed in a cleaner way.** Legends consist of non-data ink and take up precious space that could be used for the visualizations themselves (data-ink).<br>\n",
    "\n",
    "Instead of trying to move the legend to a better location, we can replace it entirely by annotating the lines directly with the corresponding genders:\n",
    "![legend](https://s3.amazonaws.com/dq-content/annotated_legend.png)\n",
    "\n",
    "If you notice, even the position of the text annotations have meaning. In both plots, the annotation for Men is positioned above the orange line while the annotation for Women is positioned below the dark blue line. This positioning subtly suggests that men are a majority for the degree categories the line charts are representing (Engineering and Math and Statistics) and women are a minority for those degree categories.<br>\n",
    "\n",
    "Combined, these two observations suggest that we should stick with annotating just the leftmost and the rightmost line charts, prioritizing the data-ink ratio over the consistency of elements."
   ]
  },
  {
   "cell_type": "code",
   "execution_count": null,
   "metadata": {
    "collapsed": true
   },
   "outputs": [],
   "source": []
  },
  {
   "cell_type": "markdown",
   "metadata": {},
   "source": [
    "### 2-5. Annotating in Matplotlib\n",
    "To add text annotations to a matplotlib plot, we use the `Axes.text()` method. This method has a few required parameters:\n",
    "\n",
    "* x: x-axis coordinate (as a float)\n",
    "* y: y-axis coordinate (as a float)\n",
    "* s: the text we want in the annotation (as a string value)\n",
    "\n",
    "The values in the coordinate grid match exactly with the data ranges for the x-axis and the y-axis. If we want to add text at the intersection of 1970 from the x-axis and 0 from the y-axis, we would pass in those values:\n",
    "\n",
    "```python\n",
    "ax.text(1970, 0, \"starting point\")\n",
    "```"
   ]
  },
  {
   "cell_type": "markdown",
   "metadata": {},
   "source": [
    "```python\n",
    "fig = plt.figure(figsize=(18, 3))\n",
    "\n",
    "for sp in range(0,6):\n",
    "    ax = fig.add_subplot(1,6,sp+1)\n",
    "    ax.plot(women_degrees['Year'], women_degrees[stem_cats[sp]], c=cb_dark_blue, label='Women', linewidth=3)\n",
    "    ax.plot(women_degrees['Year'], 100-women_degrees[stem_cats[sp]], c=cb_orange, label='Men', linewidth=3)\n",
    "    for key,spine in ax.spines.items():\n",
    "        spine.set_visible(False)\n",
    "    ax.set_xlim(1968, 2011)\n",
    "    ax.set_ylim(0,100)\n",
    "    ax.set_title(stem_cats[sp])\n",
    "    ax.tick_params(bottom=\"off\", top=\"off\", left=\"off\", right=\"off\")\n",
    "    \n",
    "    if sp == 0:\n",
    "        ax.text(2005, 87, \"Men\")\n",
    "        ax.text(2002, 8, \"Women\")\n",
    "    elif sp == 5:\n",
    "        ax.text(2005, 62, \"Men\")\n",
    "        ax.text(2001, 35, \"Women\")\n",
    "    \n",
    "#plt.legend(loc='upper right')\n",
    "plt.show()\n",
    "```\n",
    "![legend](https://s3.amazonaws.com/dq-content/annotated_legend.png)"
   ]
  },
  {
   "cell_type": "code",
   "execution_count": null,
   "metadata": {
    "collapsed": true
   },
   "outputs": [],
   "source": []
  },
  {
   "cell_type": "markdown",
   "metadata": {
    "collapsed": true
   },
   "source": [
    "## 3. Conditional Plots\n",
    "\n",
    "So far, we've mostly worked with plots that are quick to analyze and make sense of. Line charts, scatter plots, and bar plots allow us to convey a few nuggets of insights to the reader. We've also explored how we can combine those plots in interesting ways to convey deeper insights and continue to extend the storytelling power of data visualization. In this mission, we'll explore how to quickly create multiple plots that are subsetted using one or more conditions.<br>\n",
    "\n",
    "We'll be working with the [seaborn](http://seaborn.pydata.org/) visualization library, which is built on top of matplotlib. Seaborn has good support for more complex plots, attractive default styles, and integrates well with the pandas library. Here are some examples of some complex plots that can be created using seaborn:\n",
    "\n",
    "![example_gallery](https://s3.amazonaws.com/dq-content/seaborn_gallery.png)"
   ]
  },
  {
   "cell_type": "code",
   "execution_count": null,
   "metadata": {
    "collapsed": true
   },
   "outputs": [],
   "source": []
  },
  {
   "cell_type": "markdown",
   "metadata": {
    "collapsed": true
   },
   "source": [
    "### 3-1. <a name='creating-histograms-in-seaborn'></a>Creating histograms in Seaborn"
   ]
  },
  {
   "cell_type": "markdown",
   "metadata": {},
   "source": [
    "To get familiar with seaborn, we'll start by creating the familiar histogram. We can generate a histogram of the Fare column using the seaborn.distplot() function:\n",
    "\n",
    "```python\n",
    "# seaborn is commonly imported as `sns`.\n",
    "import seaborn as sns\n",
    "sns.distplot(titanic[\"Fare\"])\n",
    "plt.show()\n",
    "```\n",
    "![sample_seaborn](https://s3.amazonaws.com/dq-content/seaborn_histogram_with_kde.png)\n"
   ]
  },
  {
   "cell_type": "markdown",
   "metadata": {},
   "source": [
    "Under the hood, seaborn creates a histogram using matplotlib, scales the axes values, and styles it. In addition, seaborn uses a technique called **kernel density estimation, or KDE for short**, to create **a smoothed line chart** over the histogram. If you're interested in learning about how KDE works, you can read more on [Wikipedia](https://en.wikipedia.org/wiki/Kernel_density_estimation).\n",
    "\n",
    "### What you need to know for now is that the resulting line is a smoother version of the histogram, called a kernel density plot. \n",
    "Kernel density plots are especially helpful when we're comparing distributions, which we'll explore later in this mission. When viewing a histogram, our visual processing systems influence us to smooth out the bars into a continuous line."
   ]
  },
  {
   "cell_type": "code",
   "execution_count": null,
   "metadata": {
    "collapsed": true
   },
   "outputs": [],
   "source": []
  },
  {
   "cell_type": "markdown",
   "metadata": {},
   "source": [
    "### 3-2. <a name='generating-a-kernel-density-plot'></a>Generating a kernel density plot\n",
    "\n",
    "While having both the histogram and the kernel density plot is useful when we want to explore the data, it can be overwhelming for someone who's trying to understand the distribution. **To generate just the kernel density plot, we use the seaborn.kdeplot() function**:\n",
    "\n",
    "```python\n",
    "sns.kdeplot(titanic[\"Age\"])\n",
    "```\n",
    "![KDP](https://s3.amazonaws.com/dq-content/seaborn_kdeplot.png)\n",
    "\n",
    "While the distribution of data is displayed **in a smoother fashion**, it's now more **difficult to visually estimate the area under the curve** using just the line chart. When we also had the histogram, the bars provided a way to understand and compare proportions visually.\n",
    "\n",
    "* To bring back some of the ability to easily compare proportions, we can **shade the area under the line using a single color**. When calling the `seaborn.kdeplot()` function, we can shade the area under the line by setting the shade parameter to True.\n",
    "\n",
    "```python\n",
    "sns.kdeplot(titanic[\"Age\"], shade=True)\n",
    "plt.xlabel(\"Age\")\n",
    "```\n",
    "![shadetrue](images/graph3.png)"
   ]
  },
  {
   "cell_type": "code",
   "execution_count": null,
   "metadata": {
    "collapsed": true
   },
   "outputs": [],
   "source": []
  },
  {
   "cell_type": "markdown",
   "metadata": {},
   "source": [
    "### 3-3. <a name='modifying-the-appearance'></a>Modifying the appearance of the plots\n",
    "\n",
    "From the plots in the previous step, you'll notice that seaborn:\n",
    "\n",
    "* Sets the x-axis label based on the column name passed through plt.xlabel() function\n",
    "* Sets the background color to a light gray color\n",
    "* Hides the x-axis and y-axis ticks\n",
    "* Displays the coordinate grid"
   ]
  },
  {
   "cell_type": "markdown",
   "metadata": {
    "collapsed": true
   },
   "source": [
    "In the last few missions, we explored some general aesthetics guidelines for plots. The default seaborn style sheet gets some things right, like hiding axis ticks, and some things wrong, like displaying the coordinate grid and keeping all of the axis spines. We can use the seaborn.set_style() function to change the default seaborn style sheet. Seaborn comes with a few style sheets:\n",
    "\n",
    "* darkgrid: Coordinate grid displayed, dark background color\n",
    "* whitegrid: Coordinate grid displayed, white background color\n",
    "* dark: Coordinate grid hidden, dark background color\n",
    "* white: Coordinate grid hidden, white background color\n",
    "* ticks: Coordinate grid hidden, white background color, ticks visible\n",
    "\n",
    "Here's a diagram that compares the same plot across all styles:\n",
    "\n",
    "![diagram_seaborn](https://s3.amazonaws.com/dq-content/seaborn_all_styles.png)\n",
    "\n",
    "By default, the seaborn style is set to \"darkgrid\":\n",
    "\n",
    "```python\n",
    "sns.set_style(\"darkgrid\")\n",
    "```\n",
    "If we change the style sheet using this method, all future plots will match that style in your current session. This means you need to set the style before generating the plot.\n",
    "\n",
    "To remove the axis spines for the top and right axes, we use the seaborn.despine() function:\n",
    "\n",
    "```python\n",
    "sns.despine()\n",
    "```\n",
    "By default, only the `top` and `right` axes will be **despined**, or have their spines removed. To despine the other two axes, we need to set the `left` and `bottom` parameters to True.\n",
    "\n",
    "```python\n",
    "sns.set_style(\"white\")\n",
    "sns.kdeplot(titanic[\"Age\"], shade=True)\n",
    "plt.xlabel(\"Age\")\n",
    "sns.despine(left=True, bottom=True)\n",
    "```"
   ]
  },
  {
   "cell_type": "markdown",
   "metadata": {},
   "source": [
    "![despined](images/graph4.png)"
   ]
  },
  {
   "cell_type": "code",
   "execution_count": null,
   "metadata": {
    "collapsed": true
   },
   "outputs": [],
   "source": []
  },
  {
   "cell_type": "markdown",
   "metadata": {},
   "source": [
    "### 3-4. <a name='conditional-distributions-single'></a>Conditional distributions using a single condition"
   ]
  },
  {
   "cell_type": "markdown",
   "metadata": {},
   "source": [
    "In seaborn, we can create a small multiple by specifying the conditioning criteria and the type of data visualization we want. For example, we can visualize the differences in age distributions between passengers who survived and those who didn't by creating a pair of kernel density plots. One kernel density plot would visualize the distribution of values in the \"Age\" column where Survived equalled 0 and the other would visualize the distribution of values in the \"Age\" column where Survived equalled 1.\n",
    "\n",
    "* Here's what those plots look like:\n",
    "```python\n",
    "# Condition on unique values of the \"Survived\" column.\n",
    "g = sns.FacetGrid(titanic, col=\"Survived\", size=6)\n",
    "# For each subset of values, generate a kernel density plot of the \"Age\" columns.\n",
    "g.map(sns.kdeplot, \"Age\", shade=True)\n",
    "```\n",
    "![dist_example](https://s3.amazonaws.com/dq-content/seaborn_simple_conditional.png)\n"
   ]
  },
  {
   "cell_type": "markdown",
   "metadata": {},
   "source": [
    "Seaborn handled:\n",
    "\n",
    "* subsetting the data into rows where Survived is 0 and where Survived is 1\n",
    "* creating both Axes objects, ensuring the same axis scales\n",
    "* plotting both kernel density plots\n",
    "\n",
    "Instead of subsetting the data and generating each plot ourselves, seaborn allows us to express the plots we want as parameter values. \n",
    "\n",
    "#### The `seaborn.FacetGrid` object is used to represent the layout of the plots in the grid and the columns used for subsetting the data. \n",
    "* The word \"facet\" from `FacetGrid` is another word for \"subset\". \n",
    "* Setting the col parameter to `\"Survived\"` specifies a separate plot for each unique value in the `Survived` column.\n",
    "* Setting the `size` parameter to `6` specifies a height of 6 inches for each plot.\n",
    "\n",
    "Once we've created the grid, we use the `FacetGrid.map()` method to specify the plot we want for each unique value of `Survived`. Seaborn generated one kernel density plot for the ages of passengers that survived and one kernel density plot for the ages of passengers that didn't survive.\n",
    "\n",
    "* The function that's passed into `FacetGrid.map()` has to be a valid matplotlib or seaborn function. For example, we can map matplotlib histograms to the grid:\n",
    "\n",
    "```python\n",
    "g = sns.FacetGrid(titanic, col=\"Survived\", size=6)\n",
    "g.map(plt.hist, \"Age\")\n",
    "```\n",
    "\n",
    "![graph5](images/graph5.png)"
   ]
  },
  {
   "cell_type": "markdown",
   "metadata": {},
   "source": [
    "```python\n",
    "g = sns.FacetGrid(titanic, col=\"Pclass\", size=6)\n",
    "g.map(sns.kdeplot, \"Age\", shade=True)\n",
    "sns.despine(bottom=True, left=True)\n",
    "plt.show()\n",
    "```\n",
    "![graph6](images/graph6.png)"
   ]
  },
  {
   "cell_type": "code",
   "execution_count": null,
   "metadata": {
    "collapsed": true
   },
   "outputs": [],
   "source": []
  },
  {
   "cell_type": "markdown",
   "metadata": {},
   "source": [
    "### 3-5. <a name='conditional-distributions-double'></a>Conditional distributions using two conditions\n",
    "When creating a FacetGrid, we use the row parameter to specify the column in the dataframe we want used to subset across the rows in the grid. The best way to understand this is to see a working example.\n",
    "\n",
    "```python\n",
    "g = sns.FacetGrid(titanic, col=\"Survived\", row=\"Pclass\")\n",
    "g.map(sns.kdeplot, \"Age\", shade=True)\n",
    "sns.despine(left=True, bottom=True)\n",
    "plt.show()\n",
    "```\n",
    "![graph7](images/graph7.png)"
   ]
  },
  {
   "cell_type": "code",
   "execution_count": null,
   "metadata": {
    "collapsed": true
   },
   "outputs": [],
   "source": []
  },
  {
   "cell_type": "markdown",
   "metadata": {},
   "source": [
    "### 3-5. <a name='conditional-distributions-three'></a>Conditional distributions using three conditions"
   ]
  },
  {
   "cell_type": "markdown",
   "metadata": {},
   "source": [
    "When subsetting data using two conditions, the rows in the grid represented one condition while the columns represented another. \n",
    "#### We can express a third condition by generating multiple plots on the same subplot in the grid and color them differently. \n",
    "Thankfully, we can add a condition just by setting the `hue` parameter to the column name from the dataframe.\n",
    "\n",
    "```python\n",
    "g = sns.FacetGrid(titanic, col=\"Survived\", row=\"Pclass\", hue='Sex', size=3)\n",
    "g.map(sns.kdeplot, \"Age\", shade=True).add_legend()\n",
    "sns.despine(left=True, bottom=True)\n",
    "plt.show()\n",
    "```\n",
    "![graph9](images/graph9.png)"
   ]
  },
  {
   "cell_type": "code",
   "execution_count": null,
   "metadata": {
    "collapsed": true
   },
   "outputs": [],
   "source": []
  },
  {
   "cell_type": "code",
   "execution_count": null,
   "metadata": {
    "collapsed": true
   },
   "outputs": [],
   "source": []
  },
  {
   "cell_type": "code",
   "execution_count": null,
   "metadata": {
    "collapsed": true
   },
   "outputs": [],
   "source": []
  },
  {
   "cell_type": "code",
   "execution_count": null,
   "metadata": {
    "collapsed": true
   },
   "outputs": [],
   "source": []
  },
  {
   "cell_type": "code",
   "execution_count": null,
   "metadata": {
    "collapsed": true
   },
   "outputs": [],
   "source": []
  },
  {
   "cell_type": "code",
   "execution_count": null,
   "metadata": {
    "collapsed": true
   },
   "outputs": [],
   "source": []
  }
 ],
 "metadata": {
  "kernelspec": {
   "display_name": "Python 3",
   "language": "python",
   "name": "python3"
  },
  "language_info": {
   "codemirror_mode": {
    "name": "ipython",
    "version": 3
   },
   "file_extension": ".py",
   "mimetype": "text/x-python",
   "name": "python",
   "nbconvert_exporter": "python",
   "pygments_lexer": "ipython3",
   "version": "3.6.2"
  }
 },
 "nbformat": 4,
 "nbformat_minor": 2
}
