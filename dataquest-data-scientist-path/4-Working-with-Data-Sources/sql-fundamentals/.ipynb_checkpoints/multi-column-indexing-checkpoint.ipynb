{
 "cells": [
  {
   "cell_type": "markdown",
   "metadata": {},
   "source": [
    "# Multi-column indexing\n",
    "\n",
    "In the last mission, we explored how to **speed up `SELECT` queries that only filter on one column by creating an index for that column**. \n",
    "\n",
    "### In this mission, we'll explore how to create indexes for speeding up queries that filter on multiple columns.\n",
    "\n",
    "We'll continue to work with `factbook.db`, a SQLite database that contains information about each country in the world. Recall that this database contains just the `facts` table and each row represents a single country. While we created indexes for the facts table in this database in the previous mission, this version of `factbook.db` contains no indexes. <br>\n",
    "\n",
    "Here are some of the columns:\n",
    "\n",
    "* `name` -- the name of the country.\n",
    "* `area` -- the total land and sea area of the country.\n",
    "* `population` -- the population of the country.\n",
    "* `birth_rate` -- the birth rate of the country.\n",
    "* `created_at` -- the date the record was created.\n",
    "* `updated_at` -- the date the record was updated.\n",
    "\n",
    "and the first few rows of facts:\n"
   ]
  },
  {
   "cell_type": "code",
   "execution_count": 1,
   "metadata": {},
   "outputs": [],
   "source": [
    "import pandas as pd\n",
    "import sqlite3"
   ]
  },
  {
   "cell_type": "code",
   "execution_count": 2,
   "metadata": {},
   "outputs": [],
   "source": [
    "conn = sqlite3.connect('data/factbook.db')"
   ]
  },
  {
   "cell_type": "code",
   "execution_count": 3,
   "metadata": {},
   "outputs": [
    {
     "data": {
      "text/html": [
       "<div>\n",
       "<style scoped>\n",
       "    .dataframe tbody tr th:only-of-type {\n",
       "        vertical-align: middle;\n",
       "    }\n",
       "\n",
       "    .dataframe tbody tr th {\n",
       "        vertical-align: top;\n",
       "    }\n",
       "\n",
       "    .dataframe thead th {\n",
       "        text-align: right;\n",
       "    }\n",
       "</style>\n",
       "<table border=\"1\" class=\"dataframe\">\n",
       "  <thead>\n",
       "    <tr style=\"text-align: right;\">\n",
       "      <th></th>\n",
       "      <th>id</th>\n",
       "      <th>code</th>\n",
       "      <th>name</th>\n",
       "      <th>area</th>\n",
       "      <th>area_land</th>\n",
       "      <th>area_water</th>\n",
       "      <th>population</th>\n",
       "      <th>population_growth</th>\n",
       "      <th>birth_rate</th>\n",
       "      <th>death_rate</th>\n",
       "      <th>migration_rate</th>\n",
       "      <th>created_at</th>\n",
       "      <th>updated_at</th>\n",
       "      <th>leader</th>\n",
       "    </tr>\n",
       "  </thead>\n",
       "  <tbody>\n",
       "    <tr>\n",
       "      <th>0</th>\n",
       "      <td>1</td>\n",
       "      <td>af</td>\n",
       "      <td>Afghanistan</td>\n",
       "      <td>652230</td>\n",
       "      <td>652230</td>\n",
       "      <td>0</td>\n",
       "      <td>32564342</td>\n",
       "      <td>2.32</td>\n",
       "      <td>38.57</td>\n",
       "      <td>13.89</td>\n",
       "      <td>1.51</td>\n",
       "      <td>2015-11-01 13:19:49.461734</td>\n",
       "      <td>2015-11-01 13:19:49.461734</td>\n",
       "      <td>None</td>\n",
       "    </tr>\n",
       "    <tr>\n",
       "      <th>1</th>\n",
       "      <td>2</td>\n",
       "      <td>al</td>\n",
       "      <td>Albania</td>\n",
       "      <td>28748</td>\n",
       "      <td>27398</td>\n",
       "      <td>1350</td>\n",
       "      <td>3029278</td>\n",
       "      <td>0.30</td>\n",
       "      <td>12.92</td>\n",
       "      <td>6.58</td>\n",
       "      <td>3.30</td>\n",
       "      <td>2015-11-01 13:19:54.431082</td>\n",
       "      <td>2015-11-01 13:19:54.431082</td>\n",
       "      <td>None</td>\n",
       "    </tr>\n",
       "    <tr>\n",
       "      <th>2</th>\n",
       "      <td>3</td>\n",
       "      <td>ag</td>\n",
       "      <td>Algeria</td>\n",
       "      <td>2381741</td>\n",
       "      <td>2381741</td>\n",
       "      <td>0</td>\n",
       "      <td>39542166</td>\n",
       "      <td>1.84</td>\n",
       "      <td>23.67</td>\n",
       "      <td>4.31</td>\n",
       "      <td>0.92</td>\n",
       "      <td>2015-11-01 13:19:59.961286</td>\n",
       "      <td>2015-11-01 13:19:59.961286</td>\n",
       "      <td>None</td>\n",
       "    </tr>\n",
       "    <tr>\n",
       "      <th>3</th>\n",
       "      <td>4</td>\n",
       "      <td>an</td>\n",
       "      <td>Andorra</td>\n",
       "      <td>468</td>\n",
       "      <td>468</td>\n",
       "      <td>0</td>\n",
       "      <td>85580</td>\n",
       "      <td>0.12</td>\n",
       "      <td>8.13</td>\n",
       "      <td>6.96</td>\n",
       "      <td>0.00</td>\n",
       "      <td>2015-11-01 13:20:03.659945</td>\n",
       "      <td>2015-11-01 13:20:03.659945</td>\n",
       "      <td>None</td>\n",
       "    </tr>\n",
       "    <tr>\n",
       "      <th>4</th>\n",
       "      <td>5</td>\n",
       "      <td>ao</td>\n",
       "      <td>Angola</td>\n",
       "      <td>1246700</td>\n",
       "      <td>1246700</td>\n",
       "      <td>0</td>\n",
       "      <td>19625353</td>\n",
       "      <td>2.78</td>\n",
       "      <td>38.78</td>\n",
       "      <td>11.49</td>\n",
       "      <td>0.46</td>\n",
       "      <td>2015-11-01 13:20:08.625072</td>\n",
       "      <td>2015-11-01 13:20:08.625072</td>\n",
       "      <td>None</td>\n",
       "    </tr>\n",
       "  </tbody>\n",
       "</table>\n",
       "</div>"
      ],
      "text/plain": [
       "   id code         name     area  area_land  area_water  population  \\\n",
       "0   1   af  Afghanistan   652230     652230           0    32564342   \n",
       "1   2   al      Albania    28748      27398        1350     3029278   \n",
       "2   3   ag      Algeria  2381741    2381741           0    39542166   \n",
       "3   4   an      Andorra      468        468           0       85580   \n",
       "4   5   ao       Angola  1246700    1246700           0    19625353   \n",
       "\n",
       "   population_growth  birth_rate  death_rate  migration_rate  \\\n",
       "0               2.32       38.57       13.89            1.51   \n",
       "1               0.30       12.92        6.58            3.30   \n",
       "2               1.84       23.67        4.31            0.92   \n",
       "3               0.12        8.13        6.96            0.00   \n",
       "4               2.78       38.78       11.49            0.46   \n",
       "\n",
       "                   created_at                  updated_at leader  \n",
       "0  2015-11-01 13:19:49.461734  2015-11-01 13:19:49.461734   None  \n",
       "1  2015-11-01 13:19:54.431082  2015-11-01 13:19:54.431082   None  \n",
       "2  2015-11-01 13:19:59.961286  2015-11-01 13:19:59.961286   None  \n",
       "3  2015-11-01 13:20:03.659945  2015-11-01 13:20:03.659945   None  \n",
       "4  2015-11-01 13:20:08.625072  2015-11-01 13:20:08.625072   None  "
      ]
     },
     "execution_count": 3,
     "metadata": {},
     "output_type": "execute_result"
    }
   ],
   "source": [
    "pd.read_sql('select * from facts limit 5', conn)"
   ]
  },
  {
   "cell_type": "code",
   "execution_count": null,
   "metadata": {},
   "outputs": [],
   "source": []
  },
  {
   "cell_type": "markdown",
   "metadata": {},
   "source": [
    "We limited ourselves to working with queries that only filtered on one column like:\n",
    "\n",
    "`SELECT * FROM facts WHERE name = 'India';`\n",
    "\n",
    "In this mission, we'll explore how to create indexes for speeding up queries that filter on multiple columns, like:\n",
    "\n",
    "`SELECT * FROM facts WHERE population > 1000000 AND population_growth < 2.0;`\n",
    "\n",
    "We'll also explore how to modify the queries we write to better take advantage of indexes. For example, if we create an index for the name column, we'll explore why the following query:\n",
    "\n",
    "`SELECT name from facts WHERE name = 'India'`;`\n",
    "\n",
    "will be faster than:\n",
    "\n",
    "`SELECT * from facts WHERE name = 'India'`;`\n",
    "\n",
    "To start, let's write and run a query that involves filtering on more than 1 column and use the `EXPLAIN QUERY PLAN` statement to understand what SQLite is doing to return the results. Our intuition suggests that SQLite will have to perform a full table scan. It will have to check if each row in the table meets the WHERE constraints since there are no indexes in the table to take advantage of. <br>\n",
    "\n",
    "We've already imported the `sqlite3` library and initialized a connection to `factbook.db` in the coding cell."
   ]
  },
  {
   "cell_type": "code",
   "execution_count": null,
   "metadata": {},
   "outputs": [],
   "source": []
  },
  {
   "cell_type": "code",
   "execution_count": null,
   "metadata": {},
   "outputs": [],
   "source": [
    "# practice"
   ]
  },
  {
   "cell_type": "code",
   "execution_count": 4,
   "metadata": {},
   "outputs": [
    {
     "name": "stdout",
     "output_type": "stream",
     "text": [
      "[(0, 0, 0, 'SEARCH TABLE facts USING INDEX pop_idx (population>?)')]\n"
     ]
    }
   ],
   "source": [
    "plan_one = '''\n",
    "    explain query plan select * from facts\n",
    "                        where population > 1000000 \n",
    "                                and\n",
    "                                population_growth < 0.05;\n",
    "'''\n",
    "query_plan_one = conn.execute(plan_one).fetchall()\n",
    "\n",
    "print(query_plan_one)"
   ]
  },
  {
   "cell_type": "code",
   "execution_count": null,
   "metadata": {},
   "outputs": [],
   "source": []
  },
  {
   "cell_type": "markdown",
   "metadata": {},
   "source": [
    "### As expected, SQLite had to perform a full table scan to access the data we asked for. \n",
    "Let's add indexes for both the population and population_growth columns to see how SQLite uses these indexes for returning the same query."
   ]
  },
  {
   "cell_type": "code",
   "execution_count": 5,
   "metadata": {},
   "outputs": [],
   "source": [
    "# practice"
   ]
  },
  {
   "cell_type": "code",
   "execution_count": 6,
   "metadata": {},
   "outputs": [
    {
     "data": {
      "text/plain": [
       "<sqlite3.Cursor at 0x113ca6030>"
      ]
     },
     "execution_count": 6,
     "metadata": {},
     "output_type": "execute_result"
    }
   ],
   "source": [
    "create_pop_idx = 'create index if not exists pop_idx on facts(population);'\n",
    "conn.execute(create_pop_idx)"
   ]
  },
  {
   "cell_type": "code",
   "execution_count": 7,
   "metadata": {},
   "outputs": [
    {
     "data": {
      "text/plain": [
       "<sqlite3.Cursor at 0x113ca60a0>"
      ]
     },
     "execution_count": 7,
     "metadata": {},
     "output_type": "execute_result"
    }
   ],
   "source": [
    "create_pop_growth_idx = 'create index if not exists pop_growth_idx on facts(population_growth);'\n",
    "conn.execute(create_pop_growth_idx)"
   ]
  },
  {
   "cell_type": "code",
   "execution_count": 9,
   "metadata": {},
   "outputs": [
    {
     "name": "stdout",
     "output_type": "stream",
     "text": [
      "[(0, 0, 0, 'SEARCH TABLE facts USING INDEX pop_growth_idx (population_growth<?)')]\n"
     ]
    }
   ],
   "source": [
    "plan_two = '''\n",
    "    explain query plan select * from facts where population > 1000000\n",
    "                                            and population_growth < 0.05;\n",
    "'''\n",
    "\n",
    "query_plan_two = conn.execute(plan_two).fetchall()\n",
    "\n",
    "print(query_plan_two)"
   ]
  },
  {
   "cell_type": "code",
   "execution_count": null,
   "metadata": {},
   "outputs": [],
   "source": []
  },
  {
   "cell_type": "markdown",
   "metadata": {},
   "source": [
    "## Explanation"
   ]
  },
  {
   "cell_type": "markdown",
   "metadata": {},
   "source": [
    "If you recall, SQLite returns only a high-level query plan when you use the `EXPLAIN QUERY PLAN` statement in front of a query. This means that you'll often have to augment the returned query plan with your own understanding of the available indexes. In this case, the `facts` table has 2 indexes:\n",
    "\n",
    "* one ordered by `population` called `pop_idx`,\n",
    "* one ordered by `population_growth`, called `pop_growth_idx`.\n",
    "\n",
    "### SQLite struggles to take advantage of both indexes since each index is optimized for lookups on just that column. \n",
    "SQLite can use the indexes to quickly find the row id values where either population is greater than 1000000 or where population_growth is less than 0.05. \n",
    "* If SQLite uses the index of population values to return all of the row id values where population is less than 1000000, it can't use those id values to search the pop_growth_idx index quickly to find the rows where population_growth is less than 0.05.\n",
    "\n",
    "If you look at the query plan, you can infer that \n",
    "* SQLite first decided to use the pop_growth_idx index to return the id values for the rows where population_growth was less than 0.05. \n",
    "* Then, SQLite used a binary search on the facts table to access the row at each id value, add that row to a temporary collection if the value for population was greater than 1000000, and return the collection of rows.\n",
    "\n",
    "You may be wondering why SQLite chose the pop_growth_idx instead of the pop_idx. This is because when there are 2 possible indexes available, **SQLite tries to estimate which index will result in better performance**. Unfortunately, to keep SQLite lightweight, limited ability was added to estimate and plan accurately and **SQLite often ends up picking an index at random**."
   ]
  },
  {
   "cell_type": "code",
   "execution_count": null,
   "metadata": {},
   "outputs": [],
   "source": []
  },
  {
   "cell_type": "markdown",
   "metadata": {},
   "source": [
    "## Multi-column Index"
   ]
  },
  {
   "cell_type": "markdown",
   "metadata": {},
   "source": [
    "In cases like this, we need to create a **multi-column** index that contains values from both of the columns we're filtering on. This way, \n",
    "* both criteria in the `WHERE` statement can be evaluted in the index itself \n",
    "* and the `facts` table will only be queried at the end when we have the specific row id values.\n",
    "\n",
    "Here's how a multi-column index for `population` and `population_growth` would look like:"
   ]
  },
  {
   "cell_type": "markdown",
   "metadata": {},
   "source": [
    "![](img/13.png)"
   ]
  },
  {
   "cell_type": "code",
   "execution_count": null,
   "metadata": {},
   "outputs": [],
   "source": []
  },
  {
   "cell_type": "markdown",
   "metadata": {},
   "source": [
    "While the single column indexes we've created in the past contain just the primary key column (`population`) and the row id (`id`) columns, this multi-column index contains the `population_growth` column as well. SQLite can:\n",
    "\n",
    "* use binary search to find the first row in this index where `population` is greater than **1000000**,\n",
    "* add the row to a temporary collection if `population_growth` is less than **0.05**,\n",
    "* advance to the next row (*the index is ordered by population*) and check if it's greater than **1000000**,\n",
    "  * add the row to a temporary collection if `population_growth `is less than **0.05**,\n",
    "* when the end of the index is reached, look up each row in `facts` using the `id` values from the temporary collection.\n",
    "\n",
    "This way the `facts` table is only accessed at the end and the index is used to process the `WHERE` criteria. <br>\n",
    "\n",
    "When creating a **multi-column index**, we need to specify which of the columns we want as the primary key. In the example above, this means that SQLite can use binary search to quickly jump to the first row that matches a specific population value but not for jumping to the first row that matches a specific population_growth value."
   ]
  },
  {
   "cell_type": "code",
   "execution_count": null,
   "metadata": {},
   "outputs": [],
   "source": []
  },
  {
   "cell_type": "markdown",
   "metadata": {},
   "source": [
    "## Creating a multi-column index"
   ]
  },
  {
   "cell_type": "markdown",
   "metadata": {},
   "source": [
    "To create a multi-column index, we use the same `CREATE INDEX` syntax as before but instead specify 2 columns in the `ON` statement:\n",
    "\n",
    "`CREATE INDEX index_name ON table_name(column_name_1, column_name_2);`\n",
    "\n",
    "The important thing to know here is \n",
    "### that the first column in the parentheses becomes the primary key for the index. \n",
    "Let's create a multi-column index for the `population` and `population_growth` columns and return the query plan for the query we've been working with."
   ]
  },
  {
   "cell_type": "code",
   "execution_count": null,
   "metadata": {},
   "outputs": [],
   "source": []
  },
  {
   "cell_type": "code",
   "execution_count": 10,
   "metadata": {},
   "outputs": [
    {
     "data": {
      "text/plain": [
       "<sqlite3.Cursor at 0x113ca61f0>"
      ]
     },
     "execution_count": 10,
     "metadata": {},
     "output_type": "execute_result"
    }
   ],
   "source": [
    "# primary key for multi-index = population\n",
    "\n",
    "create_pop_pop_growth_idx = '''\n",
    "    create index pop_pop_growth_idx on facts(population,\n",
    "                                            population_growth);\n",
    "'''\n",
    "conn.execute(create_pop_pop_growth_idx)"
   ]
  },
  {
   "cell_type": "code",
   "execution_count": 12,
   "metadata": {},
   "outputs": [],
   "source": [
    "plan_three = '''\n",
    "        explain query plan select * from facts\n",
    "                            where population > 1000000\n",
    "                            and\n",
    "                            population_growth < 0.05;\n",
    "'''"
   ]
  },
  {
   "cell_type": "code",
   "execution_count": 13,
   "metadata": {},
   "outputs": [
    {
     "name": "stdout",
     "output_type": "stream",
     "text": [
      "[(0, 0, 0, 'SEARCH TABLE facts USING INDEX pop_pop_growth_idx (population>?)')]\n"
     ]
    }
   ],
   "source": [
    "query_plan_three = conn.execute(plan_three).fetchall()\n",
    "\n",
    "print(query_plan_three)"
   ]
  },
  {
   "cell_type": "code",
   "execution_count": null,
   "metadata": {},
   "outputs": [],
   "source": []
  },
  {
   "cell_type": "markdown",
   "metadata": {},
   "source": [
    "## Covering Index"
   ]
  },
  {
   "cell_type": "markdown",
   "metadata": {},
   "source": [
    "This time, SQLite used the multi-column index `pop_pop_growth_idx` that we created instead of either `pop_growth_idx` or `pop_idx`. SQLite only needed to access the `facts` table to return the rest of the column values for the rows that met the `WHERE` criteria. This is only because the `pop_pop_growth_idx` doesn't contain the other values (besides population and population_growth already).\n",
    "\n",
    "### What if we restricted the columns in the SELECT that we want returned to just population and population_growth? \n",
    "In this case, SQLite will not need to interact with the facts table since the `pop_pop_growth_idx` can service the query. **When an index contains all of the information necessary to answer a query, it's called a :**\n",
    "\n",
    "### covering index.\n",
    "\n",
    "Since the index covers for the actual table and can return the requested results to the query, SQLite doesn't need to query the actual table. For many queries, especially as your data gets larger, this can be much more efficient. <br>\n",
    "\n",
    "Let's write a query that uses the index we created as a covering index and return it's query plan."
   ]
  },
  {
   "cell_type": "code",
   "execution_count": null,
   "metadata": {},
   "outputs": [],
   "source": []
  },
  {
   "cell_type": "code",
   "execution_count": 14,
   "metadata": {},
   "outputs": [
    {
     "name": "stdout",
     "output_type": "stream",
     "text": [
      "[(0, 0, 0, 'SEARCH TABLE facts USING COVERING INDEX pop_pop_growth_idx (population>?)')]\n"
     ]
    }
   ],
   "source": [
    "plan_four = '''\n",
    "    explain query plan select population, population_growth\n",
    "                        from facts\n",
    "                        where population > 1000000\n",
    "                        and\n",
    "                        population_growth < 0.05;\n",
    "'''\n",
    "\n",
    "query_plan_four = conn.execute(plan_four).fetchall()\n",
    "\n",
    "print(query_plan_four)"
   ]
  },
  {
   "cell_type": "code",
   "execution_count": null,
   "metadata": {},
   "outputs": [],
   "source": []
  },
  {
   "cell_type": "markdown",
   "metadata": {},
   "source": [
    "## Covering index for single column\n",
    "\n",
    "There's two things that stand out from the query plan from the previous screen:\n",
    "\n",
    "* instead of `USING INDEX` the query plan says `USING COVERING INDEX`,\n",
    "* the query plan still contains `SEARCH TABLE facts` as before.\n",
    "\n",
    "Even though the query plan indicates that a binary search on `facts` was performed, this is misleading and it was instead able to use the covering index. You can read more about that [on the documentation](https://www.sqlite.org/queryplanner.html#covidx).<br>\n"
   ]
  },
  {
   "cell_type": "markdown",
   "metadata": {},
   "source": [
    "Covering indexes don't apply just to multi-column indexes. If a query we write only touches a column in the database that we have a single-column index for, SQLite will use only the index to service the query. Let's test this by writing a query that can take advantage of just the index, `pop_idx`, for the `population` column."
   ]
  },
  {
   "cell_type": "code",
   "execution_count": null,
   "metadata": {},
   "outputs": [],
   "source": []
  },
  {
   "cell_type": "code",
   "execution_count": null,
   "metadata": {},
   "outputs": [],
   "source": [
    "# practice"
   ]
  },
  {
   "cell_type": "code",
   "execution_count": 15,
   "metadata": {},
   "outputs": [
    {
     "name": "stdout",
     "output_type": "stream",
     "text": [
      "[(0, 0, 0, 'SEARCH TABLE facts USING COVERING INDEX pop_pop_growth_idx (population>?)')]\n"
     ]
    }
   ],
   "source": [
    "plan_five = '''\n",
    "    explain query plan select population from facts\n",
    "                        where population > 1000000\n",
    "                        and\n",
    "                        population_growth < 0.05;\n",
    "'''\n",
    "\n",
    "query_plan_five = conn.execute(plan_five).fetchall()\n",
    "\n",
    "print(query_plan_five)"
   ]
  },
  {
   "cell_type": "code",
   "execution_count": null,
   "metadata": {},
   "outputs": [],
   "source": []
  },
  {
   "cell_type": "markdown",
   "metadata": {},
   "source": [
    "Since only the `population` values were necessary to service the query, SQLite used the `pop_idx` index as a covering index and **didn't have to access the `facts` table**. <br>\n",
    "\n",
    "In this mission, we explored how to create multi-column indexes and how to restrict our query to utilize an index if we don't always need information on column values only available in the table."
   ]
  },
  {
   "cell_type": "code",
   "execution_count": null,
   "metadata": {},
   "outputs": [],
   "source": []
  },
  {
   "cell_type": "code",
   "execution_count": null,
   "metadata": {},
   "outputs": [],
   "source": []
  }
 ],
 "metadata": {
  "kernelspec": {
   "display_name": "Python 3",
   "language": "python",
   "name": "python3"
  },
  "language_info": {
   "codemirror_mode": {
    "name": "ipython",
    "version": 3
   },
   "file_extension": ".py",
   "mimetype": "text/x-python",
   "name": "python",
   "nbconvert_exporter": "python",
   "pygments_lexer": "ipython3",
   "version": "3.6.2"
  }
 },
 "nbformat": 4,
 "nbformat_minor": 2
}
