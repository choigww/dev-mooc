{
 "cells": [
  {
   "cell_type": "markdown",
   "metadata": {},
   "source": [
    "# Table Relations and Normalization"
   ]
  },
  {
   "cell_type": "code",
   "execution_count": null,
   "metadata": {},
   "outputs": [],
   "source": []
  },
  {
   "cell_type": "markdown",
   "metadata": {},
   "source": [
    "## The SQLite Shell\n",
    "\n",
    "So far, we've learned lots of skills to extract data from databases. This mission will teach the other side of the equation - how to create and modify databases. Rather than working with a SQL editor, in this mission we'll be working with the **SQLite shell**.<br>\n",
    "\n",
    "You'll need to have basic knowledge of how to work with the command line - if you haven't already, we recommend completing our [command line beginner course](https://www.dataquest.io/course/command-line-beginner).<br>\n",
    "\n",
    "We'll be continuing to work with the Chinook music store database, which is stored in the database file `chinook.db`. To launch the SQLite shell, you use the `sqlite3` command followed by the name of the database file as an argument.\n",
    "\n",
    "```sql\n",
    "/home/dq$ sqlite3 chinook.db\n",
    "```\n",
    "\n",
    "When you launch the SQLite shell, you will be shown the SQLite prompt. Let's see what that looks like when we open our chinook.db file:"
   ]
  },
  {
   "cell_type": "code",
   "execution_count": 12,
   "metadata": {},
   "outputs": [],
   "source": [
    "%%bash\n",
    "sqlite3 ./data/chinook.db"
   ]
  },
  {
   "cell_type": "markdown",
   "metadata": {},
   "source": [
    "If you write a query, you'll get the response displayed in your console. If you press enter, the SQLite prompt will change to `...>` and you can continue writing your query on multiple lines. As a result, unlike any of the places you've written SQL queries so far, including a semicolon (`;`) is necessary in the SQLite shell. If you don't use it, the shell will not know if you are finished writing your query. Let's write a query to look at one of our tables from the Chinook database."
   ]
  },
  {
   "cell_type": "code",
   "execution_count": 84,
   "metadata": {},
   "outputs": [
    {
     "name": "stdout",
     "output_type": "stream",
     "text": [
      "3|Fast As a Shark|3\n",
      "4|Restless and Wild|3\n",
      "5|Princess of the Dawn|3\n"
     ]
    }
   ],
   "source": [
    "%%bash\n",
    "sqlite3 ./data/chinook.db\n",
    "SELECT\n",
    "track_id,\n",
    "name,\n",
    "album_id\n",
    "FROM track\n",
    "WHERE album_id = 3;"
   ]
  },
  {
   "cell_type": "code",
   "execution_count": null,
   "metadata": {},
   "outputs": [],
   "source": []
  },
  {
   "cell_type": "markdown",
   "metadata": {},
   "source": [
    "The first thing you may notice is that we don't have the column names displayed. SQLite has a number of **dot commands** which you can use to help you work with databases. When you use a dot command, you don't need to use a semicolon. One that you'll want to use often is `.headers on`, which switches column headers on. Let's see what the output of our query looks like after we turn column headers on:"
   ]
  },
  {
   "cell_type": "code",
   "execution_count": 85,
   "metadata": {},
   "outputs": [
    {
     "name": "stdout",
     "output_type": "stream",
     "text": [
      "track_id|name|album_id\n",
      "3|Fast As a Shark|3\n",
      "4|Restless and Wild|3\n",
      "5|Princess of the Dawn|3\n"
     ]
    }
   ],
   "source": [
    "%%bash\n",
    "sqlite3 ./data/chinook.db\n",
    ".headers on\n",
    "SELECT track_id, name, album_id\n",
    "FROM track\n",
    "WHERE album_id = 3;"
   ]
  },
  {
   "cell_type": "code",
   "execution_count": null,
   "metadata": {},
   "outputs": [],
   "source": []
  },
  {
   "cell_type": "markdown",
   "metadata": {},
   "source": [
    "The next thing is that it's hard to read down the columns, since they don't line up. There's another dot command, `.mode`, that will help us out here. The `.mode` dot command allows us to select from a few different display modes. We'll use `.mode column` to allow for easier to read outputs. Here's the output of our query after switching to column mode:"
   ]
  },
  {
   "cell_type": "code",
   "execution_count": 86,
   "metadata": {},
   "outputs": [
    {
     "name": "stdout",
     "output_type": "stream",
     "text": [
      "3           Fast As a Shark  3         \n",
      "4           Restless and Wi  3         \n",
      "5           Princess of the  3         \n"
     ]
    }
   ],
   "source": [
    "%%bash\n",
    "sqlite3 ./data/chinook.db\n",
    ".mode column\n",
    "SELECT track_id, name, album_id\n",
    "FROM track\n",
    "WHERE album_id = 3;"
   ]
  },
  {
   "cell_type": "code",
   "execution_count": null,
   "metadata": {},
   "outputs": [],
   "source": []
  },
  {
   "cell_type": "markdown",
   "metadata": {},
   "source": [
    "There are several other dot commands you'll use often:\n",
    "\n",
    "* `.help` - Displays help text showing all dot commands and their function.\n",
    "* `.tables` - Displays a list of all tables and views in the current database.\n",
    "* `.shell` [command] - Run a command like ls or clear in the system shell.\n",
    "* `.quit` - Quits the SQLite shell."
   ]
  },
  {
   "cell_type": "code",
   "execution_count": null,
   "metadata": {},
   "outputs": [],
   "source": []
  },
  {
   "cell_type": "markdown",
   "metadata": {},
   "source": [
    "* Launch the SQLite shell, connecting to the `chinook.db` database file.\n",
    "* Use `.tables` to display the tables in the Chinook database.\n",
    "* Use dot commands to turn headers on, and set the mode to 'column'.\n",
    "* Write a query on one of the tables in the chinook.db database.\n",
    "* Display the help text.\n",
    "* Run `.shell clear` to see what it does.\n",
    "* Quit the SQLite shell."
   ]
  },
  {
   "cell_type": "code",
   "execution_count": 87,
   "metadata": {},
   "outputs": [
    {
     "name": "stdout",
     "output_type": "stream",
     "text": [
      "album                   employee                playlist              \n",
      "artist                  genre                   playlist_track        \n",
      "customer                invoice                 track                 \n",
      "customer_gt_90_dollars  invoice_line            wishlist              \n",
      "customer_usa            media_type              wishlist_track        \n",
      "track_id    name             album_id  \n",
      "----------  ---------------  ----------\n",
      "3           Fast As a Shark  3         \n"
     ]
    }
   ],
   "source": [
    "%%bash\n",
    "sqlite3 ./data/chinook.db\n",
    ".tables\n",
    ".headers on\n",
    ".mode column\n",
    "SELECT track_id, name, album_id FROM track WHERE track_id = 3;\n",
    ".quit"
   ]
  },
  {
   "cell_type": "code",
   "execution_count": null,
   "metadata": {},
   "outputs": [],
   "source": []
  },
  {
   "cell_type": "markdown",
   "metadata": {},
   "source": [
    "## Creating Tables\n",
    "\n",
    "Now that we've learned the basics of the SQLite shell, let's learn how to create a database table. Here's the syntax for `CREATE TABLE`:\n",
    "\n",
    "```\n",
    "CREATE TABLE [table_name] (\n",
    "    [column1_name] [column1_type],\n",
    "    [column2_name] [column2_type],\n",
    "    [column3_name] [column3_type],\n",
    "    [...]\n",
    ");\n",
    "```\n",
    "\n",
    "Each column in SQLite must have a type. While some database systems have as many as 50 distinct data types, SQLite uses only 5 behind the scenes:\n",
    "\n",
    "* `TEXT`\n",
    "* `INTEGER`\n",
    "* `REAL`\n",
    "* `NUMERIC`\n",
    "* `BLOB`\n",
    "\n",
    "If you have any experience with other database systems, you might be familiar with other types such as `VARCHAR`, `REAL`, and `DATETIME`. SQLite accepts most common types in a `CREATE` statement, but behind the scenes will convert them to one of its 5 base types.<br>\n",
    "\n",
    "The table below shows each of the types, along with examples of data commonly stored in the type, and some 'equivalent' types from other database systems. If you're not familiar with these other types, don't be concerned - we'll cover them in some more detail in a later course.\n",
    "\n",
    "Type|Commonly Used For|Equivalent Types\n",
    "---|---|---\n",
    "`TEXT`|Names<br>Email Addresses<br>Dates and Times<br>Phone Numbers|`CHARACTER`<br>`VARCHAR`<br>`NCHAR`<br>`NVARCHAR`<br>`DATETIME`<br>\n",
    "`INTEGER`|IDs<br>Quantities|`INT`<br>`SMALLINT`<br>`BIGINT`<br>`INT8`\n",
    "`REAL`|Weights<br>Averages|`DOUBLE`<br>`FLOAT`\n",
    "`NUMERIC`|Prices<br>Statuses|`DECIMAL`<br>`BOOLEAN`\n",
    "`BLOB`|Binary Data|`BLOB`"
   ]
  },
  {
   "cell_type": "markdown",
   "metadata": {},
   "source": [
    "Just like with views, if you try to create a table that already exists you will get an error. If you make a mistake when you create a table, you can use the `DROP` statement to remove the table so you can create it again:\n",
    "\n",
    "```\n",
    "DROP TABLE [table_name];\n",
    "```\n",
    "You can also use the SQLite dot command `.schema [table_name]` to view the schema for a table you have just created to check where you might have gone wrong.<br>\n",
    "\n",
    "To practice, we'll create a new table in a new database file. If you launch the SQLite shell with the argument of a filename that doesn't exist, SQLite will create an empty database that that filename.<br>\n",
    "\n",
    "Make sure you quit the SQLite shell at the end, as it triggers our answer checking."
   ]
  },
  {
   "cell_type": "code",
   "execution_count": null,
   "metadata": {},
   "outputs": [],
   "source": []
  },
  {
   "cell_type": "markdown",
   "metadata": {},
   "source": [
    "* Launch the SQLite shell and create a new database file, `new_database.db`.\n",
    "* Create a new table, `user`, with the following columns:\n",
    "  * `user_id`, with type `INTEGER`\n",
    "  * `first_name`, with type `TEXT`\n",
    "  * `last_name`, with type `TEXT`\n",
    "* Use the `.schema` dot command to view the schema for your newly created table.\n",
    "* Quit the SQLite shell."
   ]
  },
  {
   "cell_type": "code",
   "execution_count": 88,
   "metadata": {},
   "outputs": [
    {
     "name": "stdout",
     "output_type": "stream",
     "text": [
      "CREATE TABLE user (user_id INTEGER,\n",
      "first_name TEXT,\n",
      "last_name TEXT);\n"
     ]
    }
   ],
   "source": [
    "%%bash\n",
    "sqlite3 ./data/new_database.db\n",
    "DROP TABLE IF EXISTS user;\n",
    "\n",
    "CREATE TABLE user (user_id INTEGER,\n",
    "first_name TEXT,\n",
    "last_name TEXT);\n",
    ".schema user\n",
    ".quit"
   ]
  },
  {
   "cell_type": "code",
   "execution_count": null,
   "metadata": {},
   "outputs": [],
   "source": []
  },
  {
   "cell_type": "markdown",
   "metadata": {},
   "source": [
    "## Primary and Foreign Keys\n",
    "\n",
    "We have been using schema diagrams to identify the relationships between tables. Below is an excerpt of the schema diagram for the Chinook database which shows the relationship between the `invoice` and `invoice_line` tables:\n",
    "\n",
    "![invoice-invoice-line](https://s3.amazonaws.com/dq-content/192/chinook_pk_fk.svg)\n",
    "\n",
    "We previously learned that each table has one or more columns shaded in yellow, which indicates they are the **primary key**. A primary key is a unique identifier for each row - you cannot have two rows in a table with the same value for the primary key column(s).<br>\n",
    "\n",
    "When two tables have a relation, there will be a column in one table that is a primary key in another table. For example, in the `invoice_line` table, the `invoice_id` column is the primary key from the `invoice` table. This is known as a **foreign key**. By defining a foreign key, our database engine will prevent us from adding rows where the foreign key value doesn't exist in the other table, which helps to prevent errors in our data (note that by default SQLite doesn't force foreign key constraints, however we have [changed the default](https://stackoverflow.com/a/44857286/4691920) for this mission).<br>\n",
    "\n",
    "Usually, a primary key is specified as part of a create statement. Once the primary key is defined, the database engine will prevent any new rows from being added to the database if they have the same primary key as any existing rows. If we wanted to re-create the table from the previous exercise with a primary key, we would use this syntax:\n",
    "\n",
    "```\n",
    "CREATE TABLE user (\n",
    "    user_id INTEGER PRIMARY_KEY,\n",
    "    first_name TEXT,\n",
    "    last_name TEXT\n",
    ");\n",
    "```\n",
    "\n",
    "\n",
    "Let's say we wanted to create a new table purchase which tracks basic information about a purchase made by one of our users. Our create statement might look like this:\n",
    "\n",
    "\n",
    "```sql\n",
    "CREATE TABLE purchase (\n",
    "    purchase_id INTEGER PRIMARY KEY,\n",
    "    user_id INTEGER,\n",
    "    purchase_date TEXT,\n",
    "    total NUMERIC,\n",
    "    FOREIGN KEY (user_id) REFERENCES user(user_id)\n",
    ");\n",
    "```\n",
    "\n",
    "By adding a `FOREIGN KEY` clause, we can define one of our columns as a foreign key and specify the table and column that it references. We're going to use what we've learned about creating tables, primary keys and foreign keys to add new tables to our Chinook database that allow customers to create \"wishlists\" of tracks they would like to buy.<br>\n",
    "\n",
    "We'll start by adding a table to store the name of the wishlist and the customer that created the wishlist. The schema is shown below:\n",
    "\n",
    "![customer-wishlist](https://s3.amazonaws.com/dq-content/192/wishlist_1.svg)"
   ]
  },
  {
   "cell_type": "code",
   "execution_count": null,
   "metadata": {},
   "outputs": [],
   "source": []
  },
  {
   "cell_type": "markdown",
   "metadata": {},
   "source": [
    "* Launch the SQLite shell, connected to the `chinook.db` database.\n",
    "* Create a new table, `wishlist`, with the following columns:\n",
    "  * `wishlist_id`, with type `INTEGER`.\n",
    "    * This column should be the primary key.\n",
    "  * `customer_id`, with type `INTEGER`.\n",
    "    * This column should have a foreign key relationship with the `customer_id` column from the `customer` table.\n",
    "  * `name`, with type `TEXT`.\n",
    "* Quit the SQLite shell."
   ]
  },
  {
   "cell_type": "code",
   "execution_count": 89,
   "metadata": {},
   "outputs": [],
   "source": [
    "%%bash\n",
    "sqlite3 ./data/chinook.db\n",
    "DROP TABLE IF EXISTS wishlist;\n",
    "\n",
    "CREATE TABLE wishlist (\n",
    "wishlist_id INTEGER,\n",
    "customer_id INTEGER,\n",
    "name TEXT,\n",
    "PRIMARY KEY (wishlist_id),\n",
    "FOREIGN KEY (customer_id) REFERENCES customer (customer_id)\n",
    ");\n",
    ".quit"
   ]
  },
  {
   "cell_type": "code",
   "execution_count": null,
   "metadata": {},
   "outputs": [],
   "source": []
  },
  {
   "cell_type": "markdown",
   "metadata": {},
   "source": [
    "## Database Normalization\n",
    "\n",
    "When we created our `wishlist` table, we didn't include a `track_id` column to store which tracks are in the users wishlist. To understand why, let's take a look at what the table might look like if we stored all the data in a single table.\n",
    "\n",
    "wishlist_id|customer_id|name|track_id\n",
    "---|---|---|---\n",
    "1|34|Joao's awesome wishlist|1158\n",
    "1|34|Joao's awesome wishlist|2646\n",
    "1|34|Joao's awesome wishlist|1990\n",
    "2|18|Amy loves pop|3272\n",
    "2|18|Amy loves pop|3470\n",
    "\n",
    "There are are some drawbacks to storing the data this way:\n",
    "\n",
    "* **Data Duplication** - we are storing the name of each wishlist multiple times.\n",
    "* **Data Modification** - if we want to change the name of one of the wishlists, we have to modify multiple rows.\n",
    "* **Data Integrity** - There is nothing to stop a row being added with the wrong wishlist name, and if that happened we wouldn't know which was the correct name.\n",
    "\n",
    "The process of optimizing the design of databases to minimize these issues is called **database normalization**. In database normalization theory, there are several different phases of normalization, known as [normal forms](http://www.bkent.net/Doc/simple5.htm). Knowing each normal form is not as important as understanding the goals of normalization, and designing your databases to avoid data duplication and integrity issues. We'll learn more about database normalization in the next mission, however for now let's look at how we can design our wishlist tables with normalization in mind:\n",
    "\n",
    "![design-wishlist](https://s3.amazonaws.com/dq-content/192/wishlist_2.svg)\n",
    "\n",
    "In addition to the `wishlist` table we made in the previous screen, we have added a new `wishlist_track` table and shown its relationship to the existing `track` table. The `wishlist_track` table has two columns that are both yellow to indicate that they're primary keys, since neither column will uniquely identify each row by itself. When two or more columns combine to form a primary key it is called a compound primary key. To create a **compound primary key**, you use the `PRIMARY KEY` clause:\n",
    "\n",
    "```\n",
    "CREATE TABLE [table_name] (\n",
    "    [column_one_name] [column_one_type],\n",
    "    [column_two_name] [column_two_type],\n",
    "    [column_three_name] [column_three_type],\n",
    "    [column_four_name] [column_four_type],\n",
    "    PRIMARY KEY (column_one_name, column_two_name)\n",
    ");\n",
    "```\n",
    "\n",
    "Both columns in the `wishlist_track` table also have lines to indicate that they are foreign keys. To create a table with multiple foreign keys, you simply use multiple `FOREIGN KEY` clauses.\n"
   ]
  },
  {
   "cell_type": "code",
   "execution_count": null,
   "metadata": {},
   "outputs": [],
   "source": []
  },
  {
   "cell_type": "markdown",
   "metadata": {},
   "source": [
    "* Launch the SQLite shell, connected to the `chinook.db` database.\n",
    "* Create a new table, `wishlist_track`:\n",
    "  * The table should have the following columns:\n",
    "    * `wishlist_id`, with type `INTEGER`.\n",
    "    * `track_id`, with type `INTEGER`.\n",
    "  * A primary key should be specified, composed of both columns from the table.\n",
    "  * Each of the columns should be designated as a foreign key as indicated in the schema diagram.\n",
    "* Quit the SQLite shell."
   ]
  },
  {
   "cell_type": "code",
   "execution_count": 90,
   "metadata": {},
   "outputs": [],
   "source": [
    "%%bash\n",
    "sqlite3 ./data/chinook.db\n",
    "\n",
    "DROP TABLE IF EXISTS wishlist_track;\n",
    "\n",
    "CREATE TABLE wishlist_track (\n",
    "    wishlist_id INTEGER,\n",
    "    track_id INTEGER,\n",
    "    PRIMARY KEY (wishlist_id, track_id),\n",
    "    FOREIGN KEY (wishlist_id) REFERENCES wishlist (wishlist_id),\n",
    "    FOREIGN KEY (track_id) REFERENCES track (track_id)\n",
    ");\n",
    ".quit"
   ]
  },
  {
   "cell_type": "code",
   "execution_count": null,
   "metadata": {},
   "outputs": [],
   "source": []
  },
  {
   "cell_type": "markdown",
   "metadata": {},
   "source": [
    "## Inserting and Deleting Rows\n",
    "\n",
    "Now that we've created the tables to hold our wishlist data, let's add some rows to those tables. To add rows to a SQL table, we'll use the `INSERT` statement:\n",
    "\n",
    "```\n",
    "INSERT INTO [table_name] (\n",
    "    [column1_name],\n",
    "    [column2_name],\n",
    "    [column3_name]\n",
    ") VALUES (\n",
    "    [value1],\n",
    "    [value2],\n",
    "    [value3]\n",
    ");\n",
    "```\n",
    "\n",
    "If you are inserting values into every column in a table, you don't need to list the column names:\n",
    "\n",
    "```\n",
    "INSERT INTO [table_name] VALUES ([value1], [value2], [value3]);\n",
    "```\n",
    "\n",
    "Additionally, you can insert multiple rows in a single statement:\n",
    "\n",
    "```\n",
    "INSERT INTO [table_name]\n",
    "VALUES\n",
    "    ([value1], [value2], [value3]),\n",
    "    ([value4], [value5], [value6]),\n",
    "    [...]\n",
    "```\n",
    "\n",
    "Because of our foreign key constraints, we'll need to start by adding rows to the `wishlist` table, and then add rows to the `wishlist_track` table. If we don't, our insert statement will fail. At the end, we want our `wishlist` table to contain this data:\n",
    "\n",
    "wishlist_id|customer_id|name\n",
    "---|---|---\n",
    "1|34|Joao's awesome wishlist\n",
    "2|18|Amy loves pop\n",
    "\n",
    "And our `wishlist+track` table to contain this data:\n",
    "\n",
    "wishlist_id|track_id\n",
    "---|---\n",
    "1|1158\n",
    "1|2646\n",
    "1|1990\n",
    "2|3272\n",
    "2|3470\n",
    "\n",
    "If you make an error while inserting new rows, you'll need to use the `DELETE` statement to remove all rows:\n",
    "\n",
    "```sql\n",
    "DELETE FROM [table_names]\n",
    "```\n",
    "\n",
    "Or use it with a where statement to remove selected rows:\n",
    "\n",
    "```sql\n",
    "DELETE FROM [table_name]\n",
    "WHERE [expression];\n",
    "```"
   ]
  },
  {
   "cell_type": "code",
   "execution_count": null,
   "metadata": {},
   "outputs": [],
   "source": []
  },
  {
   "cell_type": "markdown",
   "metadata": {},
   "source": [
    "* Launch the SQLite shell, connected to the `chinook.db` database.\n",
    "* Add new rows to the `wishlist` table, in order, as shown above.\n",
    "* Add new rows to the `wishlist_track` table, in order, as shown above.\n",
    "* Quit the SQLite shell."
   ]
  },
  {
   "cell_type": "code",
   "execution_count": 91,
   "metadata": {
    "scrolled": true
   },
   "outputs": [],
   "source": [
    "%%bash\n",
    "sqlite3 ./data/chinook.db\n",
    "\n",
    "INSERT INTO wishlist\n",
    "(wishlist_id, customer_id, name)\n",
    "VALUES (1, 34, \"Joao's awesome wishlist\"),\n",
    "(2, 18, \"Amy loves pop\");\n",
    "\n",
    "INSERT INTO wishlist_track\n",
    "(wishlist_id, track_id) VALUES \n",
    "(1, 1158), (1, 2646), (1, 1990), (2, 3272),(2, 3470);\n",
    "\n",
    ".quit"
   ]
  },
  {
   "cell_type": "code",
   "execution_count": null,
   "metadata": {},
   "outputs": [],
   "source": []
  },
  {
   "cell_type": "markdown",
   "metadata": {},
   "source": [
    "## Adding Columns to a Table\n",
    "\n",
    "We now have two tables to track our wishlist data, and have seeded some data. But what should we do when a customer wants to remove a track from their wishlist? One approach might be just to `DELETE` the row from `wishlist_track`. The downside of this approach is that we don't retain any historical data on which tracks were added to wishlists which reduces our ability to analyze this in the future.<br>\n",
    "\n",
    "A better approach would be to add a column that has a boolean value to show whether the row is active or not, and just change that value if the user wants to delete a track. We can do a similar thing with the wishlists themselves, so users can delete (or technically, deactivate) wishlists they no longer want to use.<br>\n",
    "\n",
    "We'll need to add a column to each of our tables. We can use the `ALTER` statement to do this.\n",
    "\n",
    "```sql\n",
    "ALTER TABLE [table_name]\n",
    "ADD COLUMN [column_name] [column_type];\n",
    "```\n",
    "\n",
    "As we learned earlier, SQLite supports only five basic types - the closest thing to a boolean type is `NUMERIC`, where the values `1` and `0` will represent true and false respectively. Let's create active columns for both of our wishlist tables.\n",
    "\n"
   ]
  },
  {
   "cell_type": "code",
   "execution_count": null,
   "metadata": {},
   "outputs": [],
   "source": []
  },
  {
   "cell_type": "markdown",
   "metadata": {},
   "source": [
    "* Launch the SQLite shell, connected to the `chinook.db` database.\n",
    "* Create a new column, `active`, in the `wishlist` table with type `NUMERIC`.\n",
    "* Create a new column, `active`, in the `wishlist_track` table with type `NUMERIC`.\n",
    "* Quit the SQLite shell."
   ]
  },
  {
   "cell_type": "code",
   "execution_count": 92,
   "metadata": {},
   "outputs": [],
   "source": [
    "%%bash\n",
    "sqlite3 ./data/chinook.db\n",
    "\n",
    "ALTER TABLE wishlist\n",
    "ADD COLUMN active NUMERIC;\n",
    "\n",
    "ALTER TABLE wishlist_track\n",
    "ADD COLUMN active NUMERIC;\n",
    "\n",
    ".quit"
   ]
  },
  {
   "cell_type": "code",
   "execution_count": null,
   "metadata": {},
   "outputs": [],
   "source": []
  },
  {
   "cell_type": "markdown",
   "metadata": {},
   "source": [
    "## Adding Values to Existing Rows\n",
    "\n",
    "We've added our columns to both wishlist tables, but currently they don't have any data in them. To change values for existing rows, we use the `UPDATE` statement:\n",
    "\n",
    "```sql\n",
    "UPDATE [table_name]\n",
    "SET [column_name] = [expression]\n",
    "WHERE [expression]\n",
    "```\n",
    "\n",
    "The `WHERE` clause is optional, and can contain any expression that would be valid in a `SELECT` statement.<br>\n",
    "\n",
    "There are several variations we can use for our `SET` clause. First we can use a **single value**:<br>\n",
    "\n",
    "```sql\n",
    "UPDATE customer\n",
    "SET phone = \"+55 (12) 3921-4464\"\n",
    "WHERE customer_id = 1\n",
    "```\n",
    "\n",
    "We can use a **subquery that returns a single value**:\n",
    "\n",
    "```sql\n",
    "UPDATE track\n",
    "SET unit_price = (\n",
    "                    SELECT AVG(unit_price)\n",
    "                    FROM track\n",
    "                 )\n",
    "```\n",
    "\n",
    "We can use a **column, or function on an existing column**:\n",
    "\n",
    "```sql\n",
    "UPDATE track\n",
    "SET unit_price = unit_price * 1.1\n",
    "```\n",
    "\n",
    "Lastly, we can **set more than one column at once**:\n",
    "\n",
    "```sql\n",
    "UPDATE wishlist_track\n",
    "SET\n",
    "    active = 1,\n",
    "    purchased = 0;\n",
    "```\n",
    "\n",
    "Because our active columns will store a `1` for true and `0` for false, we'll set the values to `1` for every row."
   ]
  },
  {
   "cell_type": "code",
   "execution_count": null,
   "metadata": {},
   "outputs": [],
   "source": []
  },
  {
   "cell_type": "markdown",
   "metadata": {},
   "source": [
    "* Launch the SQLite shell, connected to the **chinook.db** database.\n",
    "* Set all values for the **active** column in the `wishlist` table to `1`.\n",
    "* Set all values for the **active** column in the `wishlist_track` table to `1`.\n",
    "* Quit the SQLite shell."
   ]
  },
  {
   "cell_type": "code",
   "execution_count": 93,
   "metadata": {},
   "outputs": [],
   "source": [
    "%%bash\n",
    "sqlite3 ./data/chinook.db\n",
    "\n",
    "UPDATE wishlist SET active = 1;\n",
    "UPDATE wishlist_track SET active = 1;\n",
    ".quit"
   ]
  },
  {
   "cell_type": "code",
   "execution_count": 94,
   "metadata": {
    "scrolled": true
   },
   "outputs": [
    {
     "name": "stdout",
     "output_type": "stream",
     "text": [
      "wishlist_id  customer_id  name                     active    \n",
      "-----------  -----------  -----------------------  ----------\n",
      "1            34           Joao's awesome wishlist  1         \n",
      "2            18           Amy loves pop            1         \n",
      "wishlist_id  track_id    active    \n",
      "-----------  ----------  ----------\n",
      "1            1158        1         \n",
      "1            2646        1         \n",
      "1            1990        1         \n",
      "2            3272        1         \n",
      "2            3470        1         \n"
     ]
    }
   ],
   "source": [
    "%%bash\n",
    "sqlite3 ./data/chinook.db\n",
    ".headers on\n",
    ".mode columns\n",
    "\n",
    "SELECT * FROM wishlist;\n",
    "SELECT * FROM wishlist_track;"
   ]
  },
  {
   "cell_type": "code",
   "execution_count": null,
   "metadata": {},
   "outputs": [],
   "source": []
  },
  {
   "cell_type": "markdown",
   "metadata": {},
   "source": [
    "## Challenge\n",
    "### Adding Sales Tax Capabilities\n",
    "\n",
    "Let's put everything we've learned into action with a challenge. Up until now, the Chinook store hasn't had to collect sales tax, but due to some new tax legislation, we will need to charge customers in certain countries taxes on their purchases.<br>\n",
    "\n",
    "We need to add the following columns to the `invoice` table:\n",
    "* `subtotal`\n",
    "* `tax`\n",
    "\n",
    "We also need to update all existing invoices with data for these two new columns. The value for the `tax` column will need to be `0` for every row, and the value for the `subtotal` column will need to be the same as the `total` column for each row.<br>\n",
    "\n",
    "Here's what the first five rows of those columns will need to look like when you're done:\n",
    "\n",
    "```bash\n",
    "sqlite> SELECT\n",
    "   ...>    invoice_id,\n",
    "   ...>    subtotal,\n",
    "   ...>    tax,\n",
    "   ...>    total\n",
    "   ...> FROM invoice\n",
    "   ...> LIMIT 5;\n",
    "invoice_id  subtotal    tax         total\n",
    "----------  ----------  ----------  ----------\n",
    "1           15.84       0           15.84\n",
    "2           9.9         0           9.9\n",
    "3           1.98        0           1.98\n",
    "4           7.92        0           7.92\n",
    "5           16.83       0           16.83\n",
    "```"
   ]
  },
  {
   "cell_type": "code",
   "execution_count": null,
   "metadata": {},
   "outputs": [],
   "source": []
  },
  {
   "cell_type": "markdown",
   "metadata": {},
   "source": [
    "* Launch the SQLite shell, connected to the `chinook.db` database.\n",
    "* Add two new columns, with values, to the `invoice` table:\n",
    "  * `tax`, with type `NUMERIC`.\n",
    "    * The value for all existing rows should be `0`.\n",
    "  * `subtotal`, with type `NUMERIC`.\n",
    "    * The value for each row should be the same as that row's value for `total`.\n",
    "* Quit the SQLite shell."
   ]
  },
  {
   "cell_type": "code",
   "execution_count": null,
   "metadata": {},
   "outputs": [],
   "source": [
    "%%bash\n",
    "sqlite3 ./data/chinook.db\n",
    "\n",
    "ALTER TABLE invoice ADD COLUMN tax NUMERIC;\n",
    "UPDATE invoice SET tax = 0;\n",
    "\n",
    "ALTER TABLE invoice ADD COLUMN subtotal NUMERIC;\n",
    "UPDATE invoice SET subtotal = total + tax;\n",
    ".quit"
   ]
  },
  {
   "cell_type": "code",
   "execution_count": 96,
   "metadata": {},
   "outputs": [
    {
     "name": "stdout",
     "output_type": "stream",
     "text": [
      "invoice_id  subtotal    tax         total     \n",
      "----------  ----------  ----------  ----------\n",
      "1           15.84       0           15.84     \n",
      "2           9.9         0           9.9       \n",
      "3           1.98        0           1.98      \n",
      "4           7.92        0           7.92      \n",
      "5           16.83       0           16.83     \n"
     ]
    }
   ],
   "source": [
    "%%bash\n",
    "sqlite3 ./data/chinook.db\n",
    ".headers on\n",
    ".mode columns\n",
    "\n",
    "SELECT invoice_id, subtotal, tax, total FROM invoice LIMIT 5;\n",
    ".quit"
   ]
  },
  {
   "cell_type": "code",
   "execution_count": null,
   "metadata": {},
   "outputs": [],
   "source": []
  },
  {
   "cell_type": "markdown",
   "metadata": {},
   "source": [
    "## Next Steps\n",
    "\n",
    "In this mission, we learned:\n",
    "* How to work with the SQLite shell.\n",
    "* How to create new tables and assign primary and foreign keys.\n",
    "* Basic concepts of database normalization.\n",
    "* How to insert new rows into tables.\n",
    "* How to add new columns to existing tables.\n",
    "* How to update existing data in tables.\n",
    "\n",
    "In the final guided project of this course, we'll put these new skills into practice by building a normalized database and importing data."
   ]
  },
  {
   "cell_type": "code",
   "execution_count": null,
   "metadata": {},
   "outputs": [],
   "source": []
  }
 ],
 "metadata": {
  "kernelspec": {
   "display_name": "Python 3",
   "language": "python",
   "name": "python3"
  },
  "language_info": {
   "codemirror_mode": {
    "name": "ipython",
    "version": 3
   },
   "file_extension": ".py",
   "mimetype": "text/x-python",
   "name": "python",
   "nbconvert_exporter": "python",
   "pygments_lexer": "ipython3",
   "version": "3.6.2"
  }
 },
 "nbformat": 4,
 "nbformat_minor": 2
}
