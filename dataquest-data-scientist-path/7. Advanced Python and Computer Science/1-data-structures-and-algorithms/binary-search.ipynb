{
 "cells": [
  {
   "cell_type": "markdown",
   "metadata": {},
   "source": [
    "# Binary Search"
   ]
  },
  {
   "cell_type": "markdown",
   "metadata": {},
   "source": [
    "## Let's Play a Game\n",
    "\n",
    "Imagine you and I are playing a game. You have to guess a number between 1 and 100, and after each guess I'll tell you whether the answer is higher or lower than your guess.<br>\n",
    "\n",
    "Perhaps your strategy is to start at 1. If 1 isn't the answer, you guess 2, then 3, and so on. This strategy resembles the linear search we learned in our last mission. However, since I'm giving you helpful hints, I'll tell you that a linear search is a naive approach to this game."
   ]
  },
  {
   "cell_type": "code",
   "execution_count": null,
   "metadata": {},
   "outputs": [],
   "source": []
  },
  {
   "cell_type": "markdown",
   "metadata": {},
   "source": [
    "## A Better Strategy\n",
    "\n",
    "Instead, imagine guessing 50 first. I tell you the answer is higher. Suddenly, you've removed half of the original possibilities for consideration. You then guess 75, and I tell you the answer is lower. In only two guesses, you've eliminated 3/4 of the possibilities, and you now know that the answer lies between 50 and 75. That's a significant reduction, and your strategy is very efficient.<br>\n",
    "\n",
    "This is the strategy a **binary search** uses. A binary search can help us find an item in a list efficiently if we know the list is ordered. We can check the middle element of the list, compare it to the item we're looking for, and continue narrowing our search in this manner."
   ]
  },
  {
   "cell_type": "code",
   "execution_count": null,
   "metadata": {},
   "outputs": [],
   "source": []
  },
  {
   "cell_type": "markdown",
   "metadata": {},
   "source": [
    "## When can we use binary search?\n",
    "\n",
    "So if binary search is more efficient than linear search, why ever bother with linear search at all?<br>\n",
    "\n",
    "The answer is that we can **only perform a binary search on ordered data**. Recall that in our game, the key to our strategy was that we knew exactly how our guess compared to the correct number. We only knew this because there was an order to the \"data.\"<br>\n",
    "\n",
    "To order data, we must be able to compare two elements and determine which is greater, or if they're equal. We can compare two strings the same way we compare integers. For instance, \"A\" is less than \"Z\", and `\"A\" < \"Z\"` would evaluate to `True`.<br>\n",
    "\n",
    "Next, we'll be searching a data set for the names of specific athletes who played in the NBA in 2012. \n",
    "* **The data set is in alphabetical order by last name, then first name**.\n",
    "* This a problem, **because the data is ordered alphabetically by last name, but the first name is the first thing that appears in each row**. \n",
    "\n",
    "As a result, we can't directly compare the names in their current, raw format. Instead, we'll need to format them as `last_name`, `first_name`.<br>\n",
    "\n",
    "Before moving on, be sure you understand why reformatting the names is important, and why it will allow us to compare names properly."
   ]
  },
  {
   "cell_type": "code",
   "execution_count": null,
   "metadata": {},
   "outputs": [],
   "source": []
  },
  {
   "cell_type": "markdown",
   "metadata": {},
   "source": [
    "## Implementing Binary Search: Part 1\n",
    "\n",
    "Let's start implementing a binary search on our list of NBA players.<br>\n",
    "\n",
    "We'll need to do some division by two to perform binary search. To ensure we get a sensible index, we'll cast the result of this division to an integer using the `math.floor()` function, which **rounds down to the nearest integer**.<br>\n",
    "\n",
    "We need to do this because if we're splitting an interval with an odd length, we'll get an index that has a fraction. Since a fraction is nonsense in the context of indexing a data set, we'll cast it to an integer. The choice to round down rather than up is arbitrary, but we'll use it for our implementation.<br>\n",
    "\n",
    "Because this is a fairly involved algorithm, we'll implement it piece by piece. First, we need to understand what step to take after each guess. We've created the `format_name` function to save you from tedious string manipulation. We've also loaded the `nba` data set for you."
   ]
  },
  {
   "cell_type": "code",
   "execution_count": null,
   "metadata": {},
   "outputs": [],
   "source": []
  },
  {
   "cell_type": "markdown",
   "metadata": {},
   "source": [
    "* Write the function `player_age`, which takes in `name` as a parameter.\n",
    "  * For now, start your guess at the middle of the list. Return `\"later\"` if the name we want is later in the list, `\"earlier\"` if it's earlier in the list, and `\"found\"` if you've found the right name.\n",
    "* Store the result of calling `player_age` on `\"Darius Johnson-Odom\"` in `johnson_odom_age`.\n",
    "* Store the result of calling `player_age` on `\"Nick Young\"` in `young_age`.\n",
    "* Store the result of calling `player_age` on `\"Jeff Adrien\"` in `adrien_age`."
   ]
  },
  {
   "cell_type": "code",
   "execution_count": 29,
   "metadata": {},
   "outputs": [
    {
     "data": {
      "text/html": [
       "<div>\n",
       "<style scoped>\n",
       "    .dataframe tbody tr th:only-of-type {\n",
       "        vertical-align: middle;\n",
       "    }\n",
       "\n",
       "    .dataframe tbody tr th {\n",
       "        vertical-align: top;\n",
       "    }\n",
       "\n",
       "    .dataframe thead th {\n",
       "        text-align: right;\n",
       "    }\n",
       "</style>\n",
       "<table border=\"1\" class=\"dataframe\">\n",
       "  <thead>\n",
       "    <tr style=\"text-align: right;\">\n",
       "      <th></th>\n",
       "      <th>player</th>\n",
       "      <th>pos</th>\n",
       "      <th>age</th>\n",
       "      <th>bref_team_id</th>\n",
       "      <th>g</th>\n",
       "      <th>gs</th>\n",
       "      <th>mp</th>\n",
       "      <th>fg</th>\n",
       "      <th>fga</th>\n",
       "      <th>fg.</th>\n",
       "      <th>...</th>\n",
       "      <th>drb</th>\n",
       "      <th>trb</th>\n",
       "      <th>ast</th>\n",
       "      <th>stl</th>\n",
       "      <th>blk</th>\n",
       "      <th>tov</th>\n",
       "      <th>pf</th>\n",
       "      <th>pts</th>\n",
       "      <th>season</th>\n",
       "      <th>season_end</th>\n",
       "    </tr>\n",
       "  </thead>\n",
       "  <tbody>\n",
       "    <tr>\n",
       "      <th>0</th>\n",
       "      <td>Quincy Acy</td>\n",
       "      <td>SF</td>\n",
       "      <td>23</td>\n",
       "      <td>TOT</td>\n",
       "      <td>63</td>\n",
       "      <td>0</td>\n",
       "      <td>847</td>\n",
       "      <td>66</td>\n",
       "      <td>141</td>\n",
       "      <td>0.468</td>\n",
       "      <td>...</td>\n",
       "      <td>144</td>\n",
       "      <td>216</td>\n",
       "      <td>28</td>\n",
       "      <td>23</td>\n",
       "      <td>26</td>\n",
       "      <td>30</td>\n",
       "      <td>122</td>\n",
       "      <td>171</td>\n",
       "      <td>2013-2014</td>\n",
       "      <td>2013</td>\n",
       "    </tr>\n",
       "    <tr>\n",
       "      <th>1</th>\n",
       "      <td>Steven Adams</td>\n",
       "      <td>C</td>\n",
       "      <td>20</td>\n",
       "      <td>OKC</td>\n",
       "      <td>81</td>\n",
       "      <td>20</td>\n",
       "      <td>1197</td>\n",
       "      <td>93</td>\n",
       "      <td>185</td>\n",
       "      <td>0.503</td>\n",
       "      <td>...</td>\n",
       "      <td>190</td>\n",
       "      <td>332</td>\n",
       "      <td>43</td>\n",
       "      <td>40</td>\n",
       "      <td>57</td>\n",
       "      <td>71</td>\n",
       "      <td>203</td>\n",
       "      <td>265</td>\n",
       "      <td>2013-2014</td>\n",
       "      <td>2013</td>\n",
       "    </tr>\n",
       "    <tr>\n",
       "      <th>2</th>\n",
       "      <td>Jeff Adrien</td>\n",
       "      <td>PF</td>\n",
       "      <td>27</td>\n",
       "      <td>TOT</td>\n",
       "      <td>53</td>\n",
       "      <td>12</td>\n",
       "      <td>961</td>\n",
       "      <td>143</td>\n",
       "      <td>275</td>\n",
       "      <td>0.520</td>\n",
       "      <td>...</td>\n",
       "      <td>204</td>\n",
       "      <td>306</td>\n",
       "      <td>38</td>\n",
       "      <td>24</td>\n",
       "      <td>36</td>\n",
       "      <td>39</td>\n",
       "      <td>108</td>\n",
       "      <td>362</td>\n",
       "      <td>2013-2014</td>\n",
       "      <td>2013</td>\n",
       "    </tr>\n",
       "    <tr>\n",
       "      <th>3</th>\n",
       "      <td>Arron Afflalo</td>\n",
       "      <td>SG</td>\n",
       "      <td>28</td>\n",
       "      <td>ORL</td>\n",
       "      <td>73</td>\n",
       "      <td>73</td>\n",
       "      <td>2552</td>\n",
       "      <td>464</td>\n",
       "      <td>1011</td>\n",
       "      <td>0.459</td>\n",
       "      <td>...</td>\n",
       "      <td>230</td>\n",
       "      <td>262</td>\n",
       "      <td>248</td>\n",
       "      <td>35</td>\n",
       "      <td>3</td>\n",
       "      <td>146</td>\n",
       "      <td>136</td>\n",
       "      <td>1330</td>\n",
       "      <td>2013-2014</td>\n",
       "      <td>2013</td>\n",
       "    </tr>\n",
       "    <tr>\n",
       "      <th>4</th>\n",
       "      <td>Alexis Ajinca</td>\n",
       "      <td>C</td>\n",
       "      <td>25</td>\n",
       "      <td>NOP</td>\n",
       "      <td>56</td>\n",
       "      <td>30</td>\n",
       "      <td>951</td>\n",
       "      <td>136</td>\n",
       "      <td>249</td>\n",
       "      <td>0.546</td>\n",
       "      <td>...</td>\n",
       "      <td>183</td>\n",
       "      <td>277</td>\n",
       "      <td>40</td>\n",
       "      <td>23</td>\n",
       "      <td>46</td>\n",
       "      <td>63</td>\n",
       "      <td>187</td>\n",
       "      <td>328</td>\n",
       "      <td>2013-2014</td>\n",
       "      <td>2013</td>\n",
       "    </tr>\n",
       "  </tbody>\n",
       "</table>\n",
       "<p>5 rows × 31 columns</p>\n",
       "</div>"
      ],
      "text/plain": [
       "          player pos  age bref_team_id   g  gs    mp   fg   fga    fg.  \\\n",
       "0     Quincy Acy  SF   23          TOT  63   0   847   66   141  0.468   \n",
       "1   Steven Adams   C   20          OKC  81  20  1197   93   185  0.503   \n",
       "2    Jeff Adrien  PF   27          TOT  53  12   961  143   275  0.520   \n",
       "3  Arron Afflalo  SG   28          ORL  73  73  2552  464  1011  0.459   \n",
       "4  Alexis Ajinca   C   25          NOP  56  30   951  136   249  0.546   \n",
       "\n",
       "      ...      drb  trb  ast  stl  blk  tov   pf   pts     season  season_end  \n",
       "0     ...      144  216   28   23   26   30  122   171  2013-2014        2013  \n",
       "1     ...      190  332   43   40   57   71  203   265  2013-2014        2013  \n",
       "2     ...      204  306   38   24   36   39  108   362  2013-2014        2013  \n",
       "3     ...      230  262  248   35    3  146  136  1330  2013-2014        2013  \n",
       "4     ...      183  277   40   23   46   63  187   328  2013-2014        2013  \n",
       "\n",
       "[5 rows x 31 columns]"
      ]
     },
     "execution_count": 29,
     "metadata": {},
     "output_type": "execute_result"
    }
   ],
   "source": [
    "import pandas as pd\n",
    "import math\n",
    "\n",
    "nba = pd.read_csv('data/nba_2013.csv')\n",
    "nba.head()"
   ]
  },
  {
   "cell_type": "code",
   "execution_count": 30,
   "metadata": {},
   "outputs": [],
   "source": [
    "# A function to extract a player's last name\n",
    "def format_name(name):\n",
    "    return name.split(\" \")[1] + \", \" + name.split(\" \")[0]\n",
    "\n",
    "# The length of the data set\n",
    "length = len(nba)\n",
    "\n",
    "# Implement the player_age function. For now, just return what the instructions specify\n",
    "def player_age(name):\n",
    "    \n",
    "    # We need to format our name appropriately for successful comparison\n",
    "    name = format_name(name)\n",
    "    \n",
    "    # First guess halfway through the list\n",
    "    first_guess_index = math.floor(length/2)\n",
    "    first_guess = format_name(nba.iloc[first_guess_index][0])\n",
    "    \n",
    "    # Check where we should continue searching\n",
    "    if first_guess > name:\n",
    "        return \"later\"\n",
    "    elif first_guess < name:\n",
    "        return \"earlier\"\n",
    "    else:\n",
    "        return \"found\""
   ]
  },
  {
   "cell_type": "code",
   "execution_count": 31,
   "metadata": {},
   "outputs": [],
   "source": [
    "johnson_odom_age = player_age(\"Darius Johnson-Odom\")\n",
    "young_age = player_age(\"Nick Young\")\n",
    "adrien_age = player_age(\"Jeff Adrien\")"
   ]
  },
  {
   "cell_type": "code",
   "execution_count": null,
   "metadata": {},
   "outputs": [],
   "source": []
  },
  {
   "cell_type": "markdown",
   "metadata": {},
   "source": [
    "## Implementing Binary Search: Part 2\n",
    "\n",
    "We've found our first guess and figured out where to keep looking. The next step is to continue our binary search.<br>\n",
    "\n",
    "Let's imagine a round of our game from before. You guess 50, and I tell you the answer is higher. Now what do you do? You guess 75 - but how did you calculate that value? This is the step we'll focus on in part two of our implementation.<br>\n",
    "\n",
    "We can calculate the index of the next split in several ways. Whichever method we use, we must keep track of the upper and lower bounds of our search. At the beginning of our game, the lower bound is 1, and the upper bound is 100. After I tell you the answer is greater than 50, the lower bound becomes 51 while the upper bound remains 100.<br>\n",
    "\n",
    "The bounds will look slightly different in our binary search implementation, but only because the data set's index starts at 0 instead of 1. It's important to note that our bounds are *inclusive*."
   ]
  },
  {
   "cell_type": "code",
   "execution_count": null,
   "metadata": {},
   "outputs": [],
   "source": []
  },
  {
   "cell_type": "markdown",
   "metadata": {},
   "source": [
    "* Edit the `player_age` function to change the bounds and make a second guess when needed.\n",
    "  * `player_age` should return the second guess, which will be a player's name.\n",
    "  * Format the value the function returns using our `\"last_name, first_name\"` format.\n",
    "* Store the result of calling `player_age` on `\"Pau Gasol\"` in `gasol_age`.\n",
    "* Store the result of calling `player_age` on `\"Paul Pierce\"` in `pierce_age`."
   ]
  },
  {
   "cell_type": "code",
   "execution_count": null,
   "metadata": {},
   "outputs": [],
   "source": []
  },
  {
   "cell_type": "code",
   "execution_count": 32,
   "metadata": {},
   "outputs": [],
   "source": [
    "# A function to extract a player's last name\n",
    "def format_name(name):\n",
    "    return name.split(\" \")[1] + \", \" + name.split(\" \")[0]\n",
    "\n",
    "# The length of the data set\n",
    "length = len(nba)\n",
    "\n",
    "# Implement the player_age function. For now, just return what the instructions specify\n",
    "def player_age(name):\n",
    "    # We need to format our name appropriately for successful comparison\n",
    "    name = format_name(name)\n",
    "    \n",
    "    # Initial bounds of the search\n",
    "    upper_bound = length - 1\n",
    "    lower_bound = 0\n",
    "    \n",
    "    # Index of first split\n",
    "    first_guess_index = math.floor(length/2)\n",
    "    first_guess = format_name(nba.iloc[first_guess_index][0])\n",
    "    \n",
    "    # If the name comes before our guess\n",
    "    if name < first_guess:\n",
    "        # Adjust the bounds as needed\n",
    "        #upper_bound = math.floor(upper_bound/2)\n",
    "        upper_bound = first_guess_index - 1\n",
    "    \n",
    "    # Else if the name comes after our guess\n",
    "    elif name > first_guess:\n",
    "        # Adjust the bounds as needed\n",
    "        #lower_bound = math.floor(upper_bound/2)\n",
    "        lower_bound = first_guess_index + 1\n",
    "    \n",
    "    # Else\n",
    "    else:\n",
    "        # Player found, so return first guess\n",
    "        return first_guess\n",
    "        \n",
    "    # Set the index of the second split\n",
    "    second_guess_index = math.floor((upper_bound+lower_bound)/2)\n",
    "    # Find and format the second guess\n",
    "    second_guess = format_name(nba.iloc[second_guess_index][0])\n",
    "    # Return the second guess\n",
    "    return second_guess"
   ]
  },
  {
   "cell_type": "code",
   "execution_count": 33,
   "metadata": {},
   "outputs": [],
   "source": [
    "gasol_age = player_age(\"Pau Gasol\")\n",
    "pierce_age = player_age(\"Paul Pierce\")"
   ]
  },
  {
   "cell_type": "code",
   "execution_count": 34,
   "metadata": {},
   "outputs": [
    {
     "name": "stdout",
     "output_type": "stream",
     "text": [
      "De, Nando / Prigioni, Pablo\n"
     ]
    }
   ],
   "source": [
    "print(gasol_age,'/', pierce_age)"
   ]
  },
  {
   "cell_type": "code",
   "execution_count": null,
   "metadata": {},
   "outputs": [],
   "source": []
  },
  {
   "cell_type": "markdown",
   "metadata": {},
   "source": [
    "## Pseudo-Code\n",
    "\n",
    "Writing algorithms is less an exercise in coding than an exercise in reasoning. It's important to train your ability to develop and visualize algorithms. **pseudo-code** is a powerful, easy-to-use tool that will help you do this. You've already seen plenty of pseudo-code, even in this mission.<br>\n",
    "\n",
    "Pseudo-code comments reflect the code we want to write, but describe it in a high-level human language. For example, we saw the following code snippet on the previous screen:\n",
    "\n",
    "```python\n",
    "# If the name comes before our guess\n",
    "    # Adjust the bounds as needed\n",
    "# Else if the name comes after our guess\n",
    "    # Adjust the bounds as needed\n",
    "# Else\n",
    "    # Player found, so return first guess\n",
    "```\n",
    "\n",
    "The comments in this snippet serve as placeholders for code we haven't written yet. Writing pseudo-code like this can often help us plan and visualize an algorithm before worrying about syntactic details.<br>\n",
    "\n",
    "Pseudo-code is a great tool for all aspects of programming, and we'll use it in this mission to indicate where we need to write certain code."
   ]
  },
  {
   "cell_type": "code",
   "execution_count": null,
   "metadata": {},
   "outputs": [],
   "source": []
  },
  {
   "cell_type": "markdown",
   "metadata": {},
   "source": [
    "## Implementing Binary Search: Part 3\n",
    "\n",
    "We've implemented a binary search function that runs for two iterations. It guesses twice, but if it doesn't find the answer in those two guesses, it gives up. This isn't robust, and we shouldn't stop until we've found our answer.<br>\n",
    "\n",
    "We've also seen that the guessing code is very repetitive. After each guess, we check whether it's correct, adjust our bounds as needed, and then guess again. This is precisely the logic we need, and we can run that logic over and over again. Next, we'll translate it into a loop.<br>\n",
    "\n",
    "A `while` loop is perfect for this algorithm. It executes code as long as a condition is met.\n",
    "\n",
    "```python\n",
    "count = 10\n",
    "    while count != 0:\n",
    "        print(count)\n",
    "        count = count - 1\n",
    "    print(\"blastoff!\")\n",
    "```\n",
    "\n",
    "The `while` loop above counts down from 10, and then prints `\"blastoff!\"`. We'll use a `while` loop to keep guessing until we've found the NBA player we're searching for."
   ]
  },
  {
   "cell_type": "code",
   "execution_count": null,
   "metadata": {},
   "outputs": [],
   "source": []
  },
  {
   "cell_type": "markdown",
   "metadata": {},
   "source": [
    "* Edit the `player_age` function so that it continues guessing until it finds the name we requested.\n",
    "  * To accomplish this, use a while loop with an appropriate condition.\n",
    "  * When the function finds the right name, return `\"found\"`.\n",
    "* Store the result of calling `player_age` on `\"Carmelo Anthony\"` in `carmelo_age`."
   ]
  },
  {
   "cell_type": "code",
   "execution_count": 38,
   "metadata": {},
   "outputs": [],
   "source": [
    "# A function to extract a player's last name\n",
    "def format_name(name):\n",
    "    return name.split(\" \")[1] + \", \" + name.split(\" \")[0]\n",
    "\n",
    "# The length of the data set\n",
    "length = len(nba)\n",
    "\n",
    "# Implement the player_age function. For now, just return what the instructions specify\n",
    "def player_age(name):\n",
    "    # We need to format our name appropriately for successful comparison\n",
    "    name = format_name(name)\n",
    "    \n",
    "    # Bounds of the search\n",
    "    upper_bound = length - 1\n",
    "    lower_bound = 0\n",
    "    \n",
    "    # Index of first split. It's important to understand how we compute this\n",
    "    index = math.floor((upper_bound + lower_bound) / 2)\n",
    "    \n",
    "    # First, guess halfway through the list\n",
    "    guess = format_name(nba.iloc[index][0])\n",
    "    \n",
    "    # Keep guessing until it finds the name. Use a while loop here.\n",
    "    while guess != name:\n",
    "        # Check where our guess is in relation to the name we're requesting,\n",
    "        if name < guess:\n",
    "            upper_bound = index - 1\n",
    "            \n",
    "        elif name > guess:\n",
    "            lower_bound = index + 1\n",
    "            \n",
    "        #     and adjust our bounds as necessary (multiple lines here).\n",
    "        #     If we have found the name, we wouldn't be in this loop, so\n",
    "        #     we shouldn't worry about that case\n",
    "        \n",
    "        # Find the new index of our guess\n",
    "        index = math.floor((lower_bound+upper_bound)/2)\n",
    "        \n",
    "        # Find and format the new guess value\n",
    "        guess = format_name(nba.iloc[index][0])\n",
    "    \n",
    "    # When our loop terminates, we have found the right NBA player's name\n",
    "    return \"found\"\n",
    "    "
   ]
  },
  {
   "cell_type": "code",
   "execution_count": 39,
   "metadata": {},
   "outputs": [],
   "source": [
    "carmelo_age = player_age(\"Carmelo Anthony\")"
   ]
  },
  {
   "cell_type": "code",
   "execution_count": 40,
   "metadata": {},
   "outputs": [
    {
     "data": {
      "text/plain": [
       "'found'"
      ]
     },
     "execution_count": 40,
     "metadata": {},
     "output_type": "execute_result"
    }
   ],
   "source": [
    "carmelo_age"
   ]
  },
  {
   "cell_type": "code",
   "execution_count": null,
   "metadata": {},
   "outputs": [],
   "source": []
  },
  {
   "cell_type": "markdown",
   "metadata": {},
   "source": [
    "## Implementing Binary Search: Part 4\n",
    "\n",
    "We're almost finished implementing our binary search. We still have to retrieve the player's age if we find him, and return `-1` if we don't. We can tell when the function doesn't find a player by adding a small condition to our search.<br>\n",
    "\n",
    "We should continue to search until we find the player, or until our list of possible answers is depleted. If we deplete all possible answers, the final step of our search, when `upper_bound` is equal to `lower_bound` (and also equal to `index`), will result in either `upper_bound` being decremented, or `lower_bound` being incremented. When this happens, `lower_bound` will be above `upper_bound`. We can easily check for this in our loop. \n",
    "\n",
    "### It's very important to understand this nuance of our algorithm in order to take advantage of it.\n",
    "\n",
    "Because these additions are short, we've also left it up to you to fill in the missing components of our algorithm.<br>\n",
    "\n",
    "While we've entered the pseudo-code for it in the code screen, you'll need to write the actual code yourself."
   ]
  },
  {
   "cell_type": "code",
   "execution_count": null,
   "metadata": {},
   "outputs": [],
   "source": []
  },
  {
   "cell_type": "markdown",
   "metadata": {},
   "source": [
    "* Write code that satisfies the tasks the *pseudo-code* outlines.\n",
    "* Store the result of calling `player_age` on `\"Stephen Curry\"` in `curry_age`.\n",
    "* Store the result of calling `player_age` on `\"Blake Griffin\"` in `griffin_age`.\n",
    "* Store the result of calling `player_age` on `\"Michael Jordan\"` in `jordan_age`."
   ]
  },
  {
   "cell_type": "code",
   "execution_count": 42,
   "metadata": {},
   "outputs": [],
   "source": [
    "# A function to extract a player's last name\n",
    "def format_name(name):\n",
    "    return name.split(\" \")[1] + \", \" + name.split(\" \")[0]\n",
    "\n",
    "# The length of the data set\n",
    "length = len(nba)\n",
    "\n",
    "# Implement the player_age function. For now, just return what the instructions specify\n",
    "def player_age(name):\n",
    "    name = format_name(name)\n",
    "    \n",
    "    # Set the initial upper bound of the search\n",
    "    upper_bound = length - 1\n",
    "    # Set the initial lower bound of the search\n",
    "    lower_bound = 0\n",
    "    \n",
    "    # Set the index of the first split (remember to use math.floor)\n",
    "    index = math.floor(upper_bound/2)\n",
    "    \n",
    "    # First guess at index (remember to format the guess)\n",
    "    guess = format_name(nba.iloc[index][0])\n",
    "    \n",
    "    # Run search code until the name is equal to the guess, or upper bound is less than lower bound\n",
    "    while (guess != name) and (upper_bound >= lower_bound):\n",
    "        # If name comes before the guess\n",
    "        if name < guess:\n",
    "            # Change the appropriate bound\n",
    "            upper_bound -= 1\n",
    "        \n",
    "        # Else (name comes after the guess)\n",
    "        else:\n",
    "            # Change the appropriate bound\n",
    "            lower_bound += 1\n",
    "        \n",
    "        # Set the index of our next guess (remember to use math.floor)\n",
    "        index = math.floor((upper_bound+lower_bound)/2)\n",
    "        \n",
    "        # Retrieve and format our next guess\n",
    "        guess = format_name(nba.iloc[index][0])\n",
    "        \n",
    "    ### Now that our loop has terminated, we must find out why ###\n",
    "    \n",
    "    # If the name is equal to the guess\n",
    "    if name == guess:\n",
    "        # Return the age of the player at index (column index 2 in data set)\n",
    "        return nba.iloc[index][2]\n",
    "    # Else\n",
    "    else:\n",
    "        # Return -1, because the function didn't find our player\n",
    "        return -1"
   ]
  },
  {
   "cell_type": "code",
   "execution_count": 46,
   "metadata": {},
   "outputs": [
    {
     "name": "stdout",
     "output_type": "stream",
     "text": [
      "25 24 -1\n"
     ]
    }
   ],
   "source": [
    "curry_age = player_age(\"Stephen Curry\")\n",
    "griffin_age = player_age(\"Blake Griffin\")\n",
    "jordan_age = player_age(\"Michael Jordan\")\n",
    "\n",
    "print(curry_age, griffin_age, jordan_age)"
   ]
  },
  {
   "cell_type": "code",
   "execution_count": null,
   "metadata": {},
   "outputs": [],
   "source": []
  },
  {
   "cell_type": "markdown",
   "metadata": {},
   "source": [
    "## Binary Search Time Complexity Analysis\n",
    "\n",
    "Now let's analyze the complexity of binary search.<br>\n",
    "\n",
    "We've established that every iteration of the algorithm reduces the size of our problem by a factor of two. Because the algorithm's time complexity depends on the input size, we can conclude that it's not constant time. **It's not linear time either, though, because it's more efficient than a linear search**.<br>\n",
    "\n",
    "It turns out that binary search runs in logarithmic time, which we denote as **O(log(n))**. Logarithms are the mathematical counterpart to exponents. It makes sense that an algorithm that cuts its problem size in half (or by any fraction) with each iteration will be logarithmic. Here's a graph of constant, linear, and logarithmic time:\n",
    "\n",
    "![https://imgur.com/TPJDmzg.png](https://imgur.com/TPJDmzg.png)\n",
    "\n",
    "The graph shows the runtimes of three algorithms with respect to input size. The constant time algorithm is green, linear time is red, and logarithmic time is blue. You can see that the logarithmic function grows more slowly than the linear function over the long run, but still more quickly than the constant function."
   ]
  },
  {
   "cell_type": "code",
   "execution_count": null,
   "metadata": {},
   "outputs": [],
   "source": []
  }
 ],
 "metadata": {
  "kernelspec": {
   "display_name": "Python 3",
   "language": "python",
   "name": "python3"
  },
  "language_info": {
   "codemirror_mode": {
    "name": "ipython",
    "version": 3
   },
   "file_extension": ".py",
   "mimetype": "text/x-python",
   "name": "python",
   "nbconvert_exporter": "python",
   "pygments_lexer": "ipython3",
   "version": "3.6.2"
  }
 },
 "nbformat": 4,
 "nbformat_minor": 2
}
