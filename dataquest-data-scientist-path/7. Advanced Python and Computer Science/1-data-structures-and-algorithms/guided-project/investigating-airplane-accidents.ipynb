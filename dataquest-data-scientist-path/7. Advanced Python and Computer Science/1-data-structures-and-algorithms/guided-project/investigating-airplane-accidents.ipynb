{
 "cells": [
  {
   "cell_type": "markdown",
   "metadata": {},
   "source": [
    "# Guided Project:\n",
    "### Investigating Airplane Accidents"
   ]
  },
  {
   "cell_type": "code",
   "execution_count": null,
   "metadata": {},
   "outputs": [],
   "source": []
  },
  {
   "cell_type": "markdown",
   "metadata": {},
   "source": [
    "## Introduction\n",
    "\n",
    "Accidents are an unfortunate fact of air travel. Although flying is statistically safer than driving, minor and major flying accidents occur daily. In this project, we'll work with a data set of airplane accident statistics to analyze patterns and look for any common threads.<br>\n",
    "\n",
    "We'll be working with a data set that contains 77,282 aviation accidents that occurred in the U.S., and the metadata associated with them. The data in our `AviationData.txt` file comes from the [National Transportation Safety Board (NTSB)](http://www.ntsb.gov/Pages/default.aspx). You can download the file at [data.gov](http://catalog.data.gov/dataset/aviation-data-and-documentation-from-the-ntsb-accident-database-system-05748/resource/4b1e95fe-91a7-4112-85fa-424d2672a906). Here's a preview:\n",
    "\n",
    "\n",
    "```\n",
    "Event Id | Investigation Type | Accident Number | Event Date | Location | Country | Latitude | Longitude | Airport Code | Airport Name | Injury Severity | Aircraft Damage | Aircraft Category | Registration Number | Make | Model | Amateur Built | Number of Engines | Engine Type | FAR Description | Schedule | Purpose of Flight | Air Carrier | Total Fatal Injuries | Total Serious Injuries | Total Minor Injuries | Total Uninjured | Weather Condition | Broad Phase of Flight | Report Status | Publication Date |\n",
    "20150908X74637 | Accident | CEN15LA402 | 09/08/2015 | Freeport, IL | United States | 42.246111 | -89.581945 | KFEP | albertus Airport | Non-Fatal | Substantial | Unknown | N24TL | CLARKE REGINALD W | DRAGONFLY MK |  |  |  | Part 91: General Aviation |  | Personal |  |  | 1 |  |  | VMC | TAKEOFF | Preliminary | 09/09/2015 |\n",
    "20150906X32704 | Accident | ERA15LA339 | 09/05/2015 | Laconia, NH | United States | 43.606389 | -71.452778 | LCI | Laconia Municipal Airport | Fatal(1) | Substantial | Weight-Shift | N2264X | EVOLUTION AIRCRAFT INC | REVO | No | 1 | Reciprocating | Part 91: General Aviation |  | Personal |  | 1 |  |  |  | VMC | MANEUVERING | Preliminary | 09/10/2015 |\n",
    "20150908X00229 | Accident | GAA15CA251 | 09/04/2015 | Hayes, SD | United States |  |  |  |  |  |  |  | N321DA | AIR TRACTOR INC | AT 402A |  |  |  |  |  |  |  |  |  |  |  |  |  | Preliminary |  |\n",
    "```\n",
    "\n",
    "As we can see, the file isn't in CSV format; it separates the fields with a pipe character (`|`) instead. In the following exercise, you'll need to do some custom parsing to read in `AviationData.txt`. Each row contains data about a single aviation accident. Here are descriptions for some of the columns:\n",
    "\n",
    "* Event Id - The unique id for the incident\n",
    "* Investigation Type - The type of investigation the NTSB conducted\n",
    "* Event Date - The date of the accident\n",
    "* Location - Where the accident occurred\n",
    "* Country - The country where the accident occurred\n",
    "* Latitude - The latitude where the accident occurred\n",
    "* Longitude - The longitude where the accident occurred\n",
    "* Injury Severity - The severity of any injuries\n",
    "* Aircraft Damage - The extent of the damage to the aircraft\n",
    "* Aircraft Category - The type of aircraft\n",
    "* Make - The make of the aircraft\n",
    "* Model - The model of the aircraft\n",
    "* Number of Engines - The number of engines on the plane\n",
    "* Air Carrier - The carrier operating the aircraft\n",
    "* Total Fatal Injuries - The number of fatal injuries\n",
    "* Total Serious Injuries - The number of serious injuries\n",
    "* Total Minor Injuries - The number of minor injuries\n",
    "* Total Uninjured - The number of people who did not sustain injuries\n",
    "* Broad Phase of Flight - The phase of flight during which the accident occurred"
   ]
  },
  {
   "cell_type": "code",
   "execution_count": 5,
   "metadata": {},
   "outputs": [],
   "source": [
    "import pandas as pd\n",
    "import csv"
   ]
  },
  {
   "cell_type": "code",
   "execution_count": 2,
   "metadata": {},
   "outputs": [],
   "source": [
    "# read txt file using pandas.read_csv\n",
    "aviation = pd.read_csv('AviationData.txt', sep='|')"
   ]
  },
  {
   "cell_type": "code",
   "execution_count": 4,
   "metadata": {},
   "outputs": [
    {
     "data": {
      "text/html": [
       "<div>\n",
       "<style scoped>\n",
       "    .dataframe tbody tr th:only-of-type {\n",
       "        vertical-align: middle;\n",
       "    }\n",
       "\n",
       "    .dataframe tbody tr th {\n",
       "        vertical-align: top;\n",
       "    }\n",
       "\n",
       "    .dataframe thead th {\n",
       "        text-align: right;\n",
       "    }\n",
       "</style>\n",
       "<table border=\"1\" class=\"dataframe\">\n",
       "  <thead>\n",
       "    <tr style=\"text-align: right;\">\n",
       "      <th></th>\n",
       "      <th>Event Id</th>\n",
       "      <th>Investigation Type</th>\n",
       "      <th>Accident Number</th>\n",
       "      <th>Event Date</th>\n",
       "      <th>Location</th>\n",
       "      <th>Country</th>\n",
       "      <th>Latitude</th>\n",
       "      <th>Longitude</th>\n",
       "      <th>Airport Code</th>\n",
       "      <th>Airport Name</th>\n",
       "      <th>...</th>\n",
       "      <th>Air Carrier</th>\n",
       "      <th>Total Fatal Injuries</th>\n",
       "      <th>Total Serious Injuries</th>\n",
       "      <th>Total Minor Injuries</th>\n",
       "      <th>Total Uninjured</th>\n",
       "      <th>Weather Condition</th>\n",
       "      <th>Broad Phase of Flight</th>\n",
       "      <th>Report Status</th>\n",
       "      <th>Publication Date</th>\n",
       "      <th></th>\n",
       "    </tr>\n",
       "  </thead>\n",
       "  <tbody>\n",
       "    <tr>\n",
       "      <th>0</th>\n",
       "      <td>20150908X74637</td>\n",
       "      <td>Accident</td>\n",
       "      <td>CEN15LA402</td>\n",
       "      <td>09/08/2015</td>\n",
       "      <td>Freeport, IL</td>\n",
       "      <td>United States</td>\n",
       "      <td>42.246111</td>\n",
       "      <td>-89.581945</td>\n",
       "      <td>KFEP</td>\n",
       "      <td>albertus Airport</td>\n",
       "      <td>...</td>\n",
       "      <td></td>\n",
       "      <td></td>\n",
       "      <td>1</td>\n",
       "      <td></td>\n",
       "      <td></td>\n",
       "      <td>VMC</td>\n",
       "      <td>TAKEOFF</td>\n",
       "      <td>Preliminary</td>\n",
       "      <td>09/09/2015</td>\n",
       "      <td></td>\n",
       "    </tr>\n",
       "    <tr>\n",
       "      <th>1</th>\n",
       "      <td>20150906X32704</td>\n",
       "      <td>Accident</td>\n",
       "      <td>ERA15LA339</td>\n",
       "      <td>09/05/2015</td>\n",
       "      <td>Laconia, NH</td>\n",
       "      <td>United States</td>\n",
       "      <td>43.606389</td>\n",
       "      <td>-71.452778</td>\n",
       "      <td>LCI</td>\n",
       "      <td>Laconia Municipal Airport</td>\n",
       "      <td>...</td>\n",
       "      <td></td>\n",
       "      <td>1</td>\n",
       "      <td></td>\n",
       "      <td></td>\n",
       "      <td></td>\n",
       "      <td>VMC</td>\n",
       "      <td>MANEUVERING</td>\n",
       "      <td>Preliminary</td>\n",
       "      <td>09/10/2015</td>\n",
       "      <td></td>\n",
       "    </tr>\n",
       "    <tr>\n",
       "      <th>2</th>\n",
       "      <td>20150908X00229</td>\n",
       "      <td>Accident</td>\n",
       "      <td>GAA15CA251</td>\n",
       "      <td>09/04/2015</td>\n",
       "      <td>Hayes, SD</td>\n",
       "      <td>United States</td>\n",
       "      <td></td>\n",
       "      <td></td>\n",
       "      <td></td>\n",
       "      <td></td>\n",
       "      <td>...</td>\n",
       "      <td></td>\n",
       "      <td></td>\n",
       "      <td></td>\n",
       "      <td></td>\n",
       "      <td></td>\n",
       "      <td></td>\n",
       "      <td></td>\n",
       "      <td>Preliminary</td>\n",
       "      <td></td>\n",
       "      <td></td>\n",
       "    </tr>\n",
       "    <tr>\n",
       "      <th>3</th>\n",
       "      <td>20150903X33216</td>\n",
       "      <td>Accident</td>\n",
       "      <td>WPR15FA256</td>\n",
       "      <td>09/03/2015</td>\n",
       "      <td>Santee, CA</td>\n",
       "      <td>United States</td>\n",
       "      <td>32.829445</td>\n",
       "      <td>-116.988611</td>\n",
       "      <td>SEE</td>\n",
       "      <td>GILLESPIE FIELD</td>\n",
       "      <td>...</td>\n",
       "      <td></td>\n",
       "      <td>2</td>\n",
       "      <td></td>\n",
       "      <td></td>\n",
       "      <td></td>\n",
       "      <td>VMC</td>\n",
       "      <td>TAKEOFF</td>\n",
       "      <td>Preliminary</td>\n",
       "      <td>09/09/2015</td>\n",
       "      <td></td>\n",
       "    </tr>\n",
       "    <tr>\n",
       "      <th>4</th>\n",
       "      <td>20150903X34535</td>\n",
       "      <td>Accident</td>\n",
       "      <td>ERA15LA338</td>\n",
       "      <td>09/03/2015</td>\n",
       "      <td>Cresskill, NJ</td>\n",
       "      <td>United States</td>\n",
       "      <td>40.935833</td>\n",
       "      <td>-73.958611</td>\n",
       "      <td></td>\n",
       "      <td>N/A</td>\n",
       "      <td>...</td>\n",
       "      <td></td>\n",
       "      <td></td>\n",
       "      <td>2</td>\n",
       "      <td></td>\n",
       "      <td></td>\n",
       "      <td>VMC</td>\n",
       "      <td></td>\n",
       "      <td>Preliminary</td>\n",
       "      <td>09/10/2015</td>\n",
       "      <td></td>\n",
       "    </tr>\n",
       "  </tbody>\n",
       "</table>\n",
       "<p>5 rows × 32 columns</p>\n",
       "</div>"
      ],
      "text/plain": [
       "         Event Id   Investigation Type   Accident Number    Event Date   \\\n",
       "0  20150908X74637             Accident        CEN15LA402    09/08/2015    \n",
       "1  20150906X32704             Accident        ERA15LA339    09/05/2015    \n",
       "2  20150908X00229             Accident        GAA15CA251    09/04/2015    \n",
       "3  20150903X33216             Accident        WPR15FA256    09/03/2015    \n",
       "4  20150903X34535             Accident        ERA15LA338    09/03/2015    \n",
       "\n",
       "         Location          Country     Latitude      Longitude   \\\n",
       "0    Freeport, IL    United States    42.246111     -89.581945    \n",
       "1     Laconia, NH    United States    43.606389     -71.452778    \n",
       "2       Hayes, SD    United States                                \n",
       "3      Santee, CA    United States    32.829445    -116.988611    \n",
       "4   Cresskill, NJ    United States    40.935833     -73.958611    \n",
       "\n",
       "   Airport Code                 Airport Name  ...  Air Carrier   \\\n",
       "0          KFEP             albertus Airport  ...                 \n",
       "1           LCI    Laconia Municipal Airport  ...                 \n",
       "2                                             ...                 \n",
       "3           SEE              GILLESPIE FIELD  ...                 \n",
       "4                                        N/A  ...                 \n",
       "\n",
       "   Total Fatal Injuries   Total Serious Injuries   Total Minor Injuries   \\\n",
       "0                                              1                           \n",
       "1                     1                                                    \n",
       "2                                                                          \n",
       "3                     2                                                    \n",
       "4                                              2                           \n",
       "\n",
       "   Total Uninjured   Weather Condition   Broad Phase of Flight   \\\n",
       "0                                  VMC                 TAKEOFF    \n",
       "1                                  VMC             MANEUVERING    \n",
       "2                                                                 \n",
       "3                                  VMC                 TAKEOFF    \n",
       "4                                  VMC                            \n",
       "\n",
       "   Report Status   Publication Date      \n",
       "0    Preliminary         09/09/2015      \n",
       "1    Preliminary         09/10/2015      \n",
       "2    Preliminary                         \n",
       "3    Preliminary         09/09/2015      \n",
       "4    Preliminary         09/10/2015      \n",
       "\n",
       "[5 rows x 32 columns]"
      ]
     },
     "execution_count": 4,
     "metadata": {},
     "output_type": "execute_result"
    }
   ],
   "source": [
    "aviation.head()"
   ]
  },
  {
   "cell_type": "code",
   "execution_count": null,
   "metadata": {},
   "outputs": [],
   "source": []
  },
  {
   "cell_type": "markdown",
   "metadata": {},
   "source": [
    "* Use the `head` and `tail` commands to explore AviationData.txt on the command line.\n",
    "```\n",
    "$ head 'AviationData.txt'\n",
    "...\n",
    "$ tail 'AviationData.txt'\n",
    "...\n",
    "```\n",
    "\n",
    "* Open the empty Python script read.py.\n",
    "* In read.py, open AviationData.txt and read each line into a list.\n",
    "  * When you're finished, you should have a list of strings, each of which represents one line from AviationData.txt.\n",
    "  * Assign the result to aviation_data.\n",
    "* Loop through each item in aviation_data and split it on the pipe character (`|`).\n",
    "  * After the loop completes, you should have a list of lists. Each inner list should be a single row.\n",
    "  * Assign the result to aviation_list.\n",
    "* Create a list named lax_code.\n",
    "* Search through aviation_list for LAX94LA336. This value could be in any column and in any row.\n",
    "  * When you find the value, append the entire row to lax_code.\n",
    "* Were there any downsides to the approach you just took to search through AviationData.txt? Write some text explaining your answer."
   ]
  },
  {
   "cell_type": "code",
   "execution_count": null,
   "metadata": {},
   "outputs": [],
   "source": []
  },
  {
   "cell_type": "code",
   "execution_count": 223,
   "metadata": {},
   "outputs": [],
   "source": [
    "# read txt file using csv module\n",
    "\n",
    "f = open('AviationData.txt', 'r', encoding='utf-8')\n",
    "reader = csv.reader(f)\n",
    "\n",
    "aviation_data = []\n",
    "for line in reader:\n",
    "    aviation_data.append(line)"
   ]
  },
  {
   "cell_type": "code",
   "execution_count": 224,
   "metadata": {},
   "outputs": [],
   "source": [
    "unique = {}\n",
    "for i, avd in enumerate(aviation_data):\n",
    "    if len(avd) not in unique:\n",
    "        unique[len(avd)] = 0\n",
    "    else:\n",
    "        unique[len(avd)] += 1"
   ]
  },
  {
   "cell_type": "code",
   "execution_count": 225,
   "metadata": {},
   "outputs": [
    {
     "data": {
      "text/plain": [
       "{1: 525, 2: 73949, 3: 2527, 4: 251, 5: 22, 6: 2}"
      ]
     },
     "execution_count": 225,
     "metadata": {},
     "output_type": "execute_result"
    }
   ],
   "source": [
    "unique"
   ]
  },
  {
   "cell_type": "code",
   "execution_count": null,
   "metadata": {},
   "outputs": [],
   "source": []
  },
  {
   "cell_type": "markdown",
   "metadata": {},
   "source": [
    "### txt data includes comma(` , `)\n",
    "* Replace commas with `-` and read again."
   ]
  },
  {
   "cell_type": "code",
   "execution_count": null,
   "metadata": {},
   "outputs": [],
   "source": []
  },
  {
   "cell_type": "code",
   "execution_count": 304,
   "metadata": {},
   "outputs": [],
   "source": [
    "f2 = open('AviationData.txt', 'rt', encoding='utf-8')\n",
    "reader2 = csv.reader(f2, skipinitialspace=True)\n",
    "\n",
    "aviation_data = []\n",
    "for line in reader2:\n",
    "    \n",
    "    summed = ''\n",
    "    for l in line:\n",
    "        summed += l.replace(',', '')\n",
    "        summed += '-'\n",
    "    \n",
    "    aviation_data.append([summed])"
   ]
  },
  {
   "cell_type": "code",
   "execution_count": 305,
   "metadata": {},
   "outputs": [],
   "source": [
    "unique = {}\n",
    "for i, avd in enumerate(aviation_data):\n",
    "    if len(avd) not in unique:\n",
    "        unique[len(avd)] = 0\n",
    "    else:\n",
    "        unique[len(avd)] += 1"
   ]
  },
  {
   "cell_type": "code",
   "execution_count": 306,
   "metadata": {},
   "outputs": [
    {
     "data": {
      "text/plain": [
       "{1: 77281}"
      ]
     },
     "execution_count": 306,
     "metadata": {},
     "output_type": "execute_result"
    }
   ],
   "source": [
    "unique"
   ]
  },
  {
   "cell_type": "code",
   "execution_count": null,
   "metadata": {},
   "outputs": [],
   "source": []
  },
  {
   "cell_type": "code",
   "execution_count": 307,
   "metadata": {},
   "outputs": [],
   "source": [
    "aviation_list = []\n",
    "for i, av in enumerate(aviation_data):\n",
    "    #print(i)\n",
    "    if i != 0:\n",
    "        split = av[0].split(' | ')\n",
    "        aviation_list.append(split[:-1])\n",
    "    \n",
    "    else:\n",
    "        aviation_list.append(av[0].split(' | ')[:-1])"
   ]
  },
  {
   "cell_type": "code",
   "execution_count": 309,
   "metadata": {},
   "outputs": [
    {
     "data": {
      "text/plain": [
       "[['20001218X45447',\n",
       "  'Accident',\n",
       "  'LAX94LA336',\n",
       "  '07/19/1962',\n",
       "  'BRIDGEPORT-CA',\n",
       "  'United States',\n",
       "  '',\n",
       "  '',\n",
       "  '',\n",
       "  '',\n",
       "  'Fatal(4)',\n",
       "  'Destroyed',\n",
       "  '',\n",
       "  'N5069P',\n",
       "  'PIPER',\n",
       "  'PA24-180',\n",
       "  'No',\n",
       "  '1',\n",
       "  'Reciprocating',\n",
       "  '',\n",
       "  '',\n",
       "  'Personal',\n",
       "  '',\n",
       "  '4',\n",
       "  '0',\n",
       "  '0',\n",
       "  '0',\n",
       "  'UNK',\n",
       "  'UNKNOWN',\n",
       "  'Probable Cause',\n",
       "  '09/19/1996']]"
      ]
     },
     "execution_count": 309,
     "metadata": {},
     "output_type": "execute_result"
    }
   ],
   "source": [
    "lax_code = []\n",
    "\n",
    "for avl in aviation_list:\n",
    "    for avl_component in avl:\n",
    "        if avl_component == 'LAX94LA336':\n",
    "            lax_code.append(avl)\n",
    "\n",
    "lax_code"
   ]
  },
  {
   "cell_type": "code",
   "execution_count": null,
   "metadata": {},
   "outputs": [],
   "source": []
  },
  {
   "cell_type": "markdown",
   "metadata": {},
   "source": [
    "### Note.\n",
    "Downsides to the approach to search through `AviationData.txt`\n",
    "* Algorithm time efficiency : `O(n^2)` - exponential time\n",
    "* There must be a better way to perform the same searching."
   ]
  },
  {
   "cell_type": "code",
   "execution_count": null,
   "metadata": {},
   "outputs": [],
   "source": []
  },
  {
   "cell_type": "markdown",
   "metadata": {},
   "source": [
    "## Linear and Log Time Algorithms\n",
    "\n",
    "The algorithm you wrote on the previous screen took exponential time. That's because it had to loop through each row first, and then each column inside that row.<br>\n",
    "\n",
    "There are ways to make the algorithm take linear and constant time while we still scan across the whole data set, though."
   ]
  },
  {
   "cell_type": "code",
   "execution_count": null,
   "metadata": {},
   "outputs": [],
   "source": []
  },
  {
   "cell_type": "markdown",
   "metadata": {},
   "source": [
    "* Write a linear time algorithm that searches each row in `aviation_data` for the string `LAX94LA336`.\n",
    "* Try writing a `log(n)` time algorithm that searches `AviationData.txt` for the string `LAX94LA336`.\n",
    "* What are the trade-offs between the different approaches? Write some text explaining your answer."
   ]
  },
  {
   "cell_type": "code",
   "execution_count": null,
   "metadata": {},
   "outputs": [],
   "source": []
  },
  {
   "cell_type": "code",
   "execution_count": 310,
   "metadata": {},
   "outputs": [],
   "source": [
    "# O(n) algorithm\n",
    "\n",
    "#' '.join(aviation_list[0])\n",
    "\n",
    "lax_code = []\n",
    "for i in range(len(aviation_list)):\n",
    "    row = aviation_list[i]\n",
    "    if row[2] == 'LAX94LA336':\n",
    "        lax_code.append(row)"
   ]
  },
  {
   "cell_type": "code",
   "execution_count": 311,
   "metadata": {},
   "outputs": [
    {
     "data": {
      "text/plain": [
       "[['20001218X45447',\n",
       "  'Accident',\n",
       "  'LAX94LA336',\n",
       "  '07/19/1962',\n",
       "  'BRIDGEPORT-CA',\n",
       "  'United States',\n",
       "  '',\n",
       "  '',\n",
       "  '',\n",
       "  '',\n",
       "  'Fatal(4)',\n",
       "  'Destroyed',\n",
       "  '',\n",
       "  'N5069P',\n",
       "  'PIPER',\n",
       "  'PA24-180',\n",
       "  'No',\n",
       "  '1',\n",
       "  'Reciprocating',\n",
       "  '',\n",
       "  '',\n",
       "  'Personal',\n",
       "  '',\n",
       "  '4',\n",
       "  '0',\n",
       "  '0',\n",
       "  '0',\n",
       "  'UNK',\n",
       "  'UNKNOWN',\n",
       "  'Probable Cause',\n",
       "  '09/19/1996']]"
      ]
     },
     "execution_count": 311,
     "metadata": {},
     "output_type": "execute_result"
    }
   ],
   "source": [
    "lax_code"
   ]
  },
  {
   "cell_type": "code",
   "execution_count": null,
   "metadata": {},
   "outputs": [],
   "source": []
  },
  {
   "cell_type": "code",
   "execution_count": 312,
   "metadata": {},
   "outputs": [],
   "source": [
    "# O(log(n)) algorithm"
   ]
  },
  {
   "cell_type": "code",
   "execution_count": 313,
   "metadata": {},
   "outputs": [
    {
     "name": "stdout",
     "output_type": "stream",
     "text": [
      "Accident Number\n",
      "CEN15LA402\n",
      "ERA15LA339\n",
      "GAA15CA251\n",
      "WPR15FA256\n",
      "ERA15LA338\n",
      "ERA15FA336\n",
      "ERA15FA335\n",
      "WPR15LA255\n",
      "GAA15CA244\n",
      "CEN15LA392\n"
     ]
    }
   ],
   "source": [
    "lax_code = []\n",
    "for i in range(len(aviation_list)):\n",
    "    row = aviation_list[i]\n",
    "    print(row[2])\n",
    "    \n",
    "    if i == 10:\n",
    "        break"
   ]
  },
  {
   "cell_type": "markdown",
   "metadata": {},
   "source": [
    "### `Accident Number` column format analysis\n",
    "Analysis example : `CEN15LA402`\n",
    "* `CEN` : Codename\n",
    "* `15` : Year of `CEN`, **sorting standard 1(descending)**\n",
    "* `LA` : Areaname of `CEN15`\n",
    "* `402` : Casenum of `CEN15LA`, **sorting standard 2(descending)**\n",
    "\n",
    "### Approach strategy\n",
    "1. Loop through `Accident Number` until we find `Year` string equal to `94`\n",
    "2. increment the index by +1 or -1 until we find `LAX94LA336`\n",
    "   * increment ++1 : searching terminates when `Year` part == `93`\n",
    "   * increment --1 : searching terminates when `Year` part == `95`"
   ]
  },
  {
   "cell_type": "code",
   "execution_count": 314,
   "metadata": {
    "scrolled": true
   },
   "outputs": [
    {
     "name": "stdout",
     "output_type": "stream",
     "text": [
      "found\n",
      "41128\n"
     ]
    }
   ],
   "source": [
    "import math\n",
    "\n",
    "def format_year(string):\n",
    "    return string[3:5]\n",
    "\n",
    "upper_bound = len(aviation_list) - 1\n",
    "lower_bound = 0\n",
    "\n",
    "target = 'LAX94LA336'\n",
    "guess_index = math.floor((upper_bound + lower_bound)/2)\n",
    "\n",
    "target_year = format_year(target)\n",
    "year = format_year(aviation_list[guess_index][2])\n",
    "\n",
    "# check the direction from where to approach the target\n",
    "# this value will be referenced for 2nd loop\n",
    "# small num -> big num : 1\n",
    "# big num -> small num : 0\n",
    "direction = 0\n",
    "if target_year > year:\n",
    "    direction = 1\n",
    "\n",
    "# first while loop\n",
    "while (year != target_year) and (upper_bound >= lower_bound):\n",
    "    \n",
    "    if year > target_year:\n",
    "        lower_bound += 1\n",
    "    else:\n",
    "        upper_bound -= 1\n",
    "        \n",
    "    guess_index = math.floor((upper_bound + lower_bound)/2)\n",
    "    year = format_year(aviation_list[guess_index][2])\n",
    "    \n",
    "# check the result from the first loop\n",
    "if year == target_year:\n",
    "    print('found')\n",
    "    print(guess_index)\n",
    "else:\n",
    "    print('-1')"
   ]
  },
  {
   "cell_type": "code",
   "execution_count": 315,
   "metadata": {},
   "outputs": [
    {
     "data": {
      "text/plain": [
       "0"
      ]
     },
     "execution_count": 315,
     "metadata": {},
     "output_type": "execute_result"
    }
   ],
   "source": [
    "direction"
   ]
  },
  {
   "cell_type": "code",
   "execution_count": 316,
   "metadata": {},
   "outputs": [
    {
     "data": {
      "text/plain": [
       "'FTW94LA320'"
      ]
     },
     "execution_count": 316,
     "metadata": {},
     "output_type": "execute_result"
    }
   ],
   "source": [
    "aviation_list[41128][2]"
   ]
  },
  {
   "cell_type": "code",
   "execution_count": 352,
   "metadata": {},
   "outputs": [
    {
     "name": "stdout",
     "output_type": "stream",
     "text": [
      "found\n",
      "['20001218X45447', 'Accident', 'LAX94LA336', '07/19/1962', 'BRIDGEPORT-CA', 'United States', '', '', '', '', 'Fatal(4)', 'Destroyed', '', 'N5069P', 'PIPER', 'PA24-180', 'No', '1', 'Reciprocating', '', '', 'Personal', '', '4', '0', '0', '0', 'UNK', 'UNKNOWN', 'Probable Cause', '09/19/1996']\n"
     ]
    }
   ],
   "source": [
    "# second while loop\n",
    "\n",
    "acc = aviation_list[guess_index][2]\n",
    "\n",
    "if direction:\n",
    "    step = 1\n",
    "else:\n",
    "    step = -1\n",
    "\n",
    "while (year == '94') and (acc != target):\n",
    "    guess_index += step\n",
    "    acc = aviation_list[guess_index][2]\n",
    "    \n",
    "# check the result from second loop\n",
    "if acc == target:\n",
    "    print('found')\n",
    "    print(aviation_list[guess_index])\n",
    "else:\n",
    "    print(-1)"
   ]
  },
  {
   "cell_type": "code",
   "execution_count": 318,
   "metadata": {},
   "outputs": [
    {
     "data": {
      "text/plain": [
       "['20001218X45447',\n",
       " 'Accident',\n",
       " 'LAX94LA336',\n",
       " '07/19/1962',\n",
       " 'BRIDGEPORT-CA',\n",
       " 'United States',\n",
       " '',\n",
       " '',\n",
       " '',\n",
       " '',\n",
       " 'Fatal(4)',\n",
       " 'Destroyed',\n",
       " '',\n",
       " 'N5069P',\n",
       " 'PIPER',\n",
       " 'PA24-180',\n",
       " 'No',\n",
       " '1',\n",
       " 'Reciprocating',\n",
       " '',\n",
       " '',\n",
       " 'Personal',\n",
       " '',\n",
       " '4',\n",
       " '0',\n",
       " '0',\n",
       " '0',\n",
       " 'UNK',\n",
       " 'UNKNOWN',\n",
       " 'Probable Cause',\n",
       " '09/19/1996']"
      ]
     },
     "execution_count": 318,
     "metadata": {},
     "output_type": "execute_result"
    }
   ],
   "source": [
    "aviation_list[-5]"
   ]
  },
  {
   "cell_type": "code",
   "execution_count": null,
   "metadata": {},
   "outputs": [],
   "source": []
  },
  {
   "cell_type": "markdown",
   "metadata": {},
   "source": [
    "### Note.\n",
    "**Trade-offs between the different approaches**\n",
    "* It requires more time to code the algorithm to meet better time efficiency."
   ]
  },
  {
   "cell_type": "code",
   "execution_count": null,
   "metadata": {},
   "outputs": [],
   "source": []
  },
  {
   "cell_type": "markdown",
   "metadata": {},
   "source": [
    "## Hash Tables\n",
    "\n",
    "So far, you've stored the data as a list of strings and a list of lists. You can also store the data as a list of dictionaries.\n",
    "\n",
    "* Create an empty list and name it `aviation_dict_list`.\n",
    "* Loop through each item in `aviation_data` and split it on the pipe character (`|`).\n",
    "  * Convert the split row to a dictionary. The dictionary should use the columns names as keys, and their values as its own values. Here's an example of a single item:\n",
    "```python\n",
    "{\"Event Id\": \"20150908X74637\", \"Investigation Type\": \"Accident\", ...}\n",
    "```\n",
    "  * Append the result to `aviation_dict_list`.\n",
    "  * Create an empty list and name it `lax_dict`.\n",
    "  * Search through `aviation_dict_list` for `LAX94LA336`. This value could be in any key in any dictionary.\n",
    "  * When you find the value, append the entire dictionary to `lax_dict`.\n",
    "  * Was it harder or easier to search through a list of dictionaries than a list of lists? Write your thoughts in a text file."
   ]
  },
  {
   "cell_type": "code",
   "execution_count": null,
   "metadata": {},
   "outputs": [],
   "source": []
  },
  {
   "cell_type": "code",
   "execution_count": 319,
   "metadata": {},
   "outputs": [
    {
     "data": {
      "text/plain": [
       "{'Accident Number': 'CEN15LA402',\n",
       " 'Air Carrier': '',\n",
       " 'Aircraft Category': 'Unknown',\n",
       " 'Aircraft Damage': 'Substantial',\n",
       " 'Airport Code': 'KFEP',\n",
       " 'Airport Name': 'albertus Airport',\n",
       " 'Amateur Built': '',\n",
       " 'Broad Phase of Flight': 'TAKEOFF',\n",
       " 'Country': 'United States',\n",
       " 'Engine Type': '',\n",
       " 'Event Date': '09/08/2015',\n",
       " 'Event Id': '20150908X74637',\n",
       " 'FAR Description': 'Part 91: General Aviation',\n",
       " 'Injury Severity': 'Non-Fatal',\n",
       " 'Investigation Type': 'Accident',\n",
       " 'Latitude': '42.246111',\n",
       " 'Location': 'Freeport-IL',\n",
       " 'Longitude': '-89.581945',\n",
       " 'Make': 'CLARKE REGINALD W',\n",
       " 'Model': 'DRAGONFLY MK',\n",
       " 'Number of Engines': '',\n",
       " 'Publication Date': '09/09/2015',\n",
       " 'Purpose of Flight': 'Personal',\n",
       " 'Registration Number': 'N24TL',\n",
       " 'Report Status': 'Preliminary',\n",
       " 'Schedule': '',\n",
       " 'Total Fatal Injuries': '',\n",
       " 'Total Minor Injuries': '',\n",
       " 'Total Serious Injuries': '1',\n",
       " 'Total Uninjured': '',\n",
       " 'Weather Condition': 'VMC'}"
      ]
     },
     "execution_count": 319,
     "metadata": {},
     "output_type": "execute_result"
    }
   ],
   "source": [
    "aviation_dict_list = []\n",
    "colnames = []\n",
    "\n",
    "for i, av_line in enumerate(aviation_list):\n",
    "    split = av_line\n",
    "    if i != 0:\n",
    "        row_dict = {k:v for (k,v) in zip(colnames, split)}\n",
    "        aviation_dict_list.append(row_dict)\n",
    "        \n",
    "    else:\n",
    "        colnames = av_line\n",
    "        \n",
    "aviation_dict_list[0]"
   ]
  },
  {
   "cell_type": "code",
   "execution_count": null,
   "metadata": {},
   "outputs": [],
   "source": []
  },
  {
   "cell_type": "code",
   "execution_count": 320,
   "metadata": {},
   "outputs": [],
   "source": [
    "lax_dict = []\n",
    "\n",
    "for av_dict in aviation_dict_list:\n",
    "    \n",
    "    if av_dict['Accident Number'] == 'LAX94LA336':\n",
    "        lax_dict.append(av_dict)"
   ]
  },
  {
   "cell_type": "code",
   "execution_count": 321,
   "metadata": {},
   "outputs": [
    {
     "data": {
      "text/plain": [
       "[{'Accident Number': 'LAX94LA336',\n",
       "  'Air Carrier': '',\n",
       "  'Aircraft Category': '',\n",
       "  'Aircraft Damage': 'Destroyed',\n",
       "  'Airport Code': '',\n",
       "  'Airport Name': '',\n",
       "  'Amateur Built': 'No',\n",
       "  'Broad Phase of Flight': 'UNKNOWN',\n",
       "  'Country': 'United States',\n",
       "  'Engine Type': 'Reciprocating',\n",
       "  'Event Date': '07/19/1962',\n",
       "  'Event Id': '20001218X45447',\n",
       "  'FAR Description': '',\n",
       "  'Injury Severity': 'Fatal(4)',\n",
       "  'Investigation Type': 'Accident',\n",
       "  'Latitude': '',\n",
       "  'Location': 'BRIDGEPORT-CA',\n",
       "  'Longitude': '',\n",
       "  'Make': 'PIPER',\n",
       "  'Model': 'PA24-180',\n",
       "  'Number of Engines': '1',\n",
       "  'Publication Date': '09/19/1996',\n",
       "  'Purpose of Flight': 'Personal',\n",
       "  'Registration Number': 'N5069P',\n",
       "  'Report Status': 'Probable Cause',\n",
       "  'Schedule': '',\n",
       "  'Total Fatal Injuries': '4',\n",
       "  'Total Minor Injuries': '0',\n",
       "  'Total Serious Injuries': '0',\n",
       "  'Total Uninjured': '0',\n",
       "  'Weather Condition': 'UNK'}]"
      ]
     },
     "execution_count": 321,
     "metadata": {},
     "output_type": "execute_result"
    }
   ],
   "source": [
    "lax_dict"
   ]
  },
  {
   "cell_type": "code",
   "execution_count": null,
   "metadata": {},
   "outputs": [],
   "source": []
  },
  {
   "cell_type": "markdown",
   "metadata": {},
   "source": [
    "### Note.\n",
    "Was it harder or easier to search through a list of dictionaries than a list of lists?\n",
    "\n",
    "* **Easy**. Because we can access certain value in more direct way than accessing to a list of lists.\n",
    "* **However,** there occur a trade-off. Dictionary type data structure requires more RAM capacity."
   ]
  },
  {
   "cell_type": "code",
   "execution_count": null,
   "metadata": {},
   "outputs": [],
   "source": []
  },
  {
   "cell_type": "markdown",
   "metadata": {},
   "source": [
    "## Accidents by U.S. State\n",
    "\n",
    "You now have two representations of the data - `aviation_dict_list` and `aviation_list`. In the analysis on the next few screens, feel free to choose the representation that makes the analysis the easiest.<br>\n",
    "\n",
    "On this screen, you'll count how many accidents occurred in each U.S. state, then determine which state had the most accidents overall."
   ]
  },
  {
   "cell_type": "code",
   "execution_count": 348,
   "metadata": {},
   "outputs": [
    {
     "data": {
      "text/plain": [
       "'Freeport-IL'"
      ]
     },
     "execution_count": 348,
     "metadata": {},
     "output_type": "execute_result"
    }
   ],
   "source": [
    "aviation_list[1][4]"
   ]
  },
  {
   "cell_type": "code",
   "execution_count": 335,
   "metadata": {
    "scrolled": true
   },
   "outputs": [
    {
     "data": {
      "text/plain": [
       "'IL'"
      ]
     },
     "execution_count": 335,
     "metadata": {},
     "output_type": "execute_result"
    }
   ],
   "source": [
    "def concat_state(string):\n",
    "    return string.split('-')[1].upper()\n",
    "\n",
    "concat_state(aviation_list[1][4])"
   ]
  },
  {
   "cell_type": "code",
   "execution_count": 338,
   "metadata": {},
   "outputs": [],
   "source": [
    "# count accidents using aviation_list\n",
    "\n",
    "count_accidents = {}\n",
    "\n",
    "for i, avl in enumerate(aviation_list[1:]):\n",
    "    \n",
    "    if avl[5] ==  'United States':\n",
    "        try:\n",
    "            state = concat_state(avl[4])\n",
    "        except:\n",
    "            state = 'None'\n",
    "\n",
    "        if state in count_accidents:\n",
    "            count_accidents[state] += 1\n",
    "        else:\n",
    "            count_accidents[state] = 1\n"
   ]
  },
  {
   "cell_type": "code",
   "execution_count": 345,
   "metadata": {},
   "outputs": [],
   "source": [
    "count_accidents_sorted = [(k, v) for (k,v) in count_accidents.items()]\n",
    "count_accidents_sorted.sort(key=lambda x: x[1], reverse=True)"
   ]
  },
  {
   "cell_type": "code",
   "execution_count": 347,
   "metadata": {},
   "outputs": [
    {
     "data": {
      "text/plain": [
       "[('CA', 8028), ('TX', 5109), ('FL', 5093), ('AK', 5048), ('AZ', 2501)]"
      ]
     },
     "execution_count": 347,
     "metadata": {},
     "output_type": "execute_result"
    }
   ],
   "source": [
    "count_accidents_sorted[:5]"
   ]
  },
  {
   "cell_type": "code",
   "execution_count": null,
   "metadata": {},
   "outputs": [],
   "source": []
  },
  {
   "cell_type": "markdown",
   "metadata": {},
   "source": [
    "## Fatalities and Injuries by Month\n",
    "\n",
    "You can also count how many fatalities and serious injuries occurred during each month.\n",
    "\n",
    "* Count how many fatalities and serious injuries occured during each unique month and year, and assign the result to `monthly_injuries`.\n",
    "  * You can parse the date by splitting the `Event Date` column and extracting the month number.\n",
    "  * Total the fatalities and serious injuries by adding the numbers in the `Total Fatal Injuries` and `Total Serious Injuries` columns.\n",
    "  * These columns are blank for months with no fatalities or serious injuries, so you'll have to replace those empty slots with `0`.\n",
    "* Turn `monthly_injuries` into two lists - one with the month names, and one with the counts.\n",
    "* Implement a clever way of displaying these lists so you can understand the number of fatalities and serious injuries per month."
   ]
  },
  {
   "cell_type": "code",
   "execution_count": 360,
   "metadata": {},
   "outputs": [
    {
     "name": "stdout",
     "output_type": "stream",
     "text": [
      "3 23 24\n"
     ]
    }
   ],
   "source": [
    "event_date_index = aviation_list[0].index('Event Date')\n",
    "total_fatal_injuries_index = aviation_list[0].index('Total Fatal Injuries')\n",
    "total_serious_injuries_index = aviation_list[0].index('Total Serious Injuries')\n",
    "\n",
    "print(event_date_index, total_fatal_injuries_index, total_serious_injuries_index)"
   ]
  },
  {
   "cell_type": "code",
   "execution_count": 361,
   "metadata": {},
   "outputs": [
    {
     "data": {
      "text/plain": [
       "'09/08/2015'"
      ]
     },
     "execution_count": 361,
     "metadata": {},
     "output_type": "execute_result"
    }
   ],
   "source": [
    "aviation_list[1][event_date_index]"
   ]
  },
  {
   "cell_type": "code",
   "execution_count": 355,
   "metadata": {},
   "outputs": [],
   "source": [
    "def year_and_month(string):\n",
    "    split = string.split('/')\n",
    "    year = split[2]\n",
    "    month = split[0]\n",
    "    \n",
    "    return year, month"
   ]
  },
  {
   "cell_type": "code",
   "execution_count": 362,
   "metadata": {},
   "outputs": [
    {
     "name": "stdout",
     "output_type": "stream",
     "text": [
      "2015\n",
      "09\n"
     ]
    }
   ],
   "source": [
    "y, m = year_and_month(aviation_list[1][event_date_index])\n",
    "print(y)\n",
    "print(m)"
   ]
  },
  {
   "cell_type": "code",
   "execution_count": null,
   "metadata": {},
   "outputs": [],
   "source": []
  },
  {
   "cell_type": "markdown",
   "metadata": {},
   "source": [
    "### There are some rows with no value in 'Event Date' column"
   ]
  },
  {
   "cell_type": "code",
   "execution_count": 390,
   "metadata": {},
   "outputs": [
    {
     "data": {
      "text/plain": [
       "''"
      ]
     },
     "execution_count": 390,
     "metadata": {},
     "output_type": "execute_result"
    }
   ],
   "source": [
    "aviation_list[-1][3]"
   ]
  },
  {
   "cell_type": "markdown",
   "metadata": {},
   "source": [
    "* We can infer the year/month from the first column"
   ]
  },
  {
   "cell_type": "code",
   "execution_count": 392,
   "metadata": {},
   "outputs": [
    {
     "data": {
      "text/plain": [
       "'20150729X33718'"
      ]
     },
     "execution_count": 392,
     "metadata": {},
     "output_type": "execute_result"
    }
   ],
   "source": [
    "aviation_list[-1][0]"
   ]
  },
  {
   "cell_type": "code",
   "execution_count": null,
   "metadata": {},
   "outputs": [],
   "source": []
  },
  {
   "cell_type": "code",
   "execution_count": 400,
   "metadata": {},
   "outputs": [],
   "source": [
    "count_injuries = {}\n",
    "\n",
    "for avl in aviation_list[1:]:\n",
    "    \n",
    "    try:\n",
    "        year, month = year_and_month(avl[event_date_index])\n",
    "    except:\n",
    "        year = avl[0][:4]\n",
    "        month = avl[0][4:6]\n",
    "    \n",
    "    #print(year, month)\n",
    "    \n",
    "    tot_fatal = avl[total_fatal_injuries_index]\n",
    "    tot_serious = avl[total_serious_injuries_index]\n",
    "    \n",
    "    injuries = 0\n",
    "    try:\n",
    "        injuries += int(tot_fatal)\n",
    "    except:\n",
    "        pass\n",
    "    \n",
    "    try:\n",
    "        injuries += int(tot_serious)\n",
    "    except:\n",
    "        pass\n",
    "    \n",
    "    # put the data into dictionary\n",
    "    \n",
    "    if year in count_injuries:\n",
    "        count_injuries[year][month] += injuries\n",
    "    \n",
    "    else:\n",
    "        months = ['01', '02', '03', '04', '05', '06',\n",
    "                 '07', '08', '09', '10', '11', '12']\n",
    "        count_injuries[year] = {i:0 for i in months}\n",
    "        count_injuries[year][month] += injuries"
   ]
  },
  {
   "cell_type": "code",
   "execution_count": 403,
   "metadata": {},
   "outputs": [
    {
     "data": {
      "text/plain": [
       "114"
      ]
     },
     "execution_count": 403,
     "metadata": {},
     "output_type": "execute_result"
    }
   ],
   "source": [
    "count_injuries['2015']['08']"
   ]
  },
  {
   "cell_type": "code",
   "execution_count": 413,
   "metadata": {},
   "outputs": [
    {
     "data": {
      "image/png": "[encoded data removed]",
      "text/plain": [
       "<matplotlib.figure.Figure at 0x1383622b0>"
      ]
     },
     "metadata": {},
     "output_type": "display_data"
    }
   ],
   "source": [
    "import matplotlib.pyplot as plt\n",
    "%matplotlib inline\n",
    "\n",
    "plt.title('US Aviation Accidents in 2015 by Month')\n",
    "plt.xlabel('Months')\n",
    "plt.ylabel('Accidents')\n",
    "plt.plot(range(12), count_injuries['2015'].values());plt.show()"
   ]
  },
  {
   "cell_type": "code",
   "execution_count": null,
   "metadata": {},
   "outputs": [],
   "source": []
  },
  {
   "cell_type": "code",
   "execution_count": 410,
   "metadata": {},
   "outputs": [
    {
     "data": {
      "text/plain": [
       "dict_keys(['2015', '2014', '2013', '2012', '2011', '2010', '2009', '2008', '2007', '2006', '2005', '2004', '2003', '2002', '2001', '2000', '1999', '1998', '1997', '1996', '1995', '1994', '1993', '1992', '1991', '1990', '1989', '1988', '1987', '1986', '1985', '1984', '1983', '1982', '1981', '1979', '1977', '1974', '1962', '1948'])"
      ]
     },
     "execution_count": 410,
     "metadata": {},
     "output_type": "execute_result"
    }
   ],
   "source": [
    "count_injuries.keys()"
   ]
  },
  {
   "cell_type": "code",
   "execution_count": 419,
   "metadata": {},
   "outputs": [
    {
     "data": {
      "image/png": "[encoded data removed]",
      "text/plain": [
       "<matplotlib.figure.Figure at 0x13bf95630>"
      ]
     },
     "metadata": {},
     "output_type": "display_data"
    }
   ],
   "source": [
    "plt.title('US Aviation Yearly Accidents (1981 - 2015)')\n",
    "plt.xlabel('Years')\n",
    "plt.ylabel('Accidents')\n",
    "\n",
    "year = [str(i) for i in range(1981, 2016)]\n",
    "year_acc = [sum(count_injuries[y].values())\\\n",
    "           for y in year]\n",
    "\n",
    "plt.plot(year, year_acc);plt.show()"
   ]
  },
  {
   "cell_type": "code",
   "execution_count": null,
   "metadata": {},
   "outputs": [],
   "source": []
  },
  {
   "cell_type": "code",
   "execution_count": null,
   "metadata": {},
   "outputs": [],
   "source": []
  }
 ],
 "metadata": {
  "kernelspec": {
   "display_name": "Python 3",
   "language": "python",
   "name": "python3"
  },
  "language_info": {
   "codemirror_mode": {
    "name": "ipython",
    "version": 3
   },
   "file_extension": ".py",
   "mimetype": "text/x-python",
   "name": "python",
   "nbconvert_exporter": "python",
   "pygments_lexer": "ipython3",
   "version": "3.6.2"
  }
 },
 "nbformat": 4,
 "nbformat_minor": 2
}
