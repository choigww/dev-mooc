{
 "cells": [
  {
   "cell_type": "markdown",
   "metadata": {},
   "source": [
    "# Introduction to Computer Architecture\n",
    "\n",
    "A computer must be able to do four things:\n",
    "\n",
    "* Take input\n",
    "* Produce output\n",
    "* Store data\n",
    "* Perform computation\n",
    "\n",
    "The keyboard and mouse are two examples of input devices. Output devices include screens, monitors, and speakers. On this screen, we'll write a snippet of code using our keyboard as input, and then receive visual output on the screen. While this particular interaction is basic, the ability to communicate back and forth with a computer is profound."
   ]
  },
  {
   "cell_type": "code",
   "execution_count": 2,
   "metadata": {},
   "outputs": [
    {
     "name": "stdout",
     "output_type": "stream",
     "text": [
      "Hello World!\n"
     ]
    }
   ],
   "source": [
    "print('Hello World!')"
   ]
  },
  {
   "cell_type": "code",
   "execution_count": null,
   "metadata": {},
   "outputs": [],
   "source": []
  },
  {
   "cell_type": "markdown",
   "metadata": {},
   "source": [
    "## Data Storage, Memory and RAM\n",
    "\n",
    "While input and output are necessary for human-computer interaction, we'll be focusing primarily on a computer's other roles in this mission -- storing data, and performing computations using that data.<br>\n",
    "\n",
    "Computers can store data in a few different ways. There are two main types of data storage. **Memory** refers to a small amount of data that we can access very quickly. Memory is usually called **random-access memory**, or **RAM**. When we create variables in code, the computer stores them in RAM when we run that code.<br>\n",
    "\n",
    "The other type of memory is **disk storage**. Data usually exists on disk storage as files, and is much slower to access than RAM. We'll talk more about disk storage later in this mission.<br>\n",
    "\n",
    "We can think of data as occupying \"slots\" in large, linearly-arranged pieces of hardware. We refer to each \"slot\" as one **byte**. Each slot has a unique memory address, which is just a number.<br>\n",
    "\n",
    "Different data types require different amounts of memory. Small integers and characters can be stored in one byte. Larger data types like strings require multiple bytes, and thus multiple slots. A section of memory may look something like this:\n",
    "\n",
    "![](https://s3.amazonaws.com/dq-content/85/memory_view.svg)\n",
    "\n",
    "This piece of memory holds three integers, each of which consumes one byte. It also holds a string where each character occupies one byte. This snippet of memory ranges from address 231 to address 244. We can see the address for a variable's location in storage using the `id()` function. `id(my_var)` will return an integer value for the memory address of `my_var`."
   ]
  },
  {
   "cell_type": "code",
   "execution_count": null,
   "metadata": {},
   "outputs": [],
   "source": []
  },
  {
   "cell_type": "markdown",
   "metadata": {},
   "source": [
    "* Assign an integer value to the variable `my_int`.\n",
    "\n",
    "* Assign the memory address of `my_int` to `int_addr`.\n",
    "\n",
    "* Assign a string value to the `variable my_str`.\n",
    "\n",
    "* Assign the memory address of `my_str` to `str_addr`."
   ]
  },
  {
   "cell_type": "code",
   "execution_count": 5,
   "metadata": {},
   "outputs": [
    {
     "name": "stdout",
     "output_type": "stream",
     "text": [
      "4519206224 4552473520\n"
     ]
    }
   ],
   "source": [
    "my_int = 3\n",
    "int_addr = id(my_int)\n",
    "\n",
    "my_str = 'Hello world'\n",
    "str_addr = id(my_str)\n",
    "\n",
    "print(int_addr, str_addr)"
   ]
  },
  {
   "cell_type": "code",
   "execution_count": null,
   "metadata": {},
   "outputs": [],
   "source": []
  },
  {
   "cell_type": "markdown",
   "metadata": {},
   "source": [
    "## Low-Level vs. High-Level Programming Languages\n",
    "\n",
    "We mentioned earlier that small integers can fit in one byte, and strings occupy one byte per character. This is true in **low-level** languages, which provide very little abstraction from a computer's architecture. Low-level languages like C often interact with portions of memory explicitly, and therefore have data types with very predictable memory usage. In C, a string with `10` characters will use `10` bytes of memory, and we can specify how many bytes we'd like to allocate to a given variable.<br>\n",
    "\n",
    "**High-level** languages like Python are more **expressive** than low-level languages. This means that they empower us to express logic quickly and easily. This ease comes at a cost, though; Python's internal representations of data types are less compact than those of a low-level language. Specifically, it really stores strings and integers as instances of the `str` and `int` classes, respectively. Instances of these classes are less predictable in terms of memory usage, but we can still study them to make deductions about memory.<br>\n",
    "\n",
    "Low-level languages are good for tasks where precise memory management and machine-level optimization are important. High-level languages are better for tasks the don't require intense optimization or a lot of overhead to get things done. For most tasks where memory efficiency isn't a big concern, using high-level languages will maximize the developer's productivity. To see the difference language choice can make, we'll look at some code that takes in a string, and then reverses it.<br>\n",
    "\n",
    "In Python (a high-level language):\n",
    "\n",
    "```python\n",
    "user_string = input(\"\")\n",
    "reversed_string = user_string[::-1]\n",
    "print(reversed_string)\n",
    "```\n",
    "\n",
    "In C (a low-level language):\n",
    "\n",
    "```c\n",
    "#include < stdio.h >\n",
    "#include < string.h >\n",
    "​\n",
    "int main() {\n",
    "    char user_string[100];\n",
    "    scanf(\"%s\", user_string);\n",
    "    int str_len = strlen(user_string);\n",
    "    char result[str_len];\n",
    "    for (int i = 0; i < str_len; i++) {\n",
    "        result[i] = user_string[str_len - i - 1];\n",
    "    }\n",
    "    printf(\"%s\\n\", result);\n",
    "}\n",
    "```\n",
    "\n",
    "* The Python code is much simpler and sufficient for this task, \n",
    "* whereas the C code is much longer, and requires some tedious bookkeeping to make sure we use memory properly. \n",
    "\n",
    "Python is a good fit for high-level tasks that we don't think will be prohibitively inefficient, because it lets programmers write **shorter code in a shorter amount of time**."
   ]
  },
  {
   "cell_type": "code",
   "execution_count": null,
   "metadata": {},
   "outputs": [],
   "source": []
  },
  {
   "cell_type": "markdown",
   "metadata": {},
   "source": [
    "## Understanding How Python Stores Data\n",
    "\n",
    "Because Python is a high-level language, it doesn't always use memory sparingly.<br>\n",
    "\n",
    "We can check how many bytes of memory a variable occupies in Python using the [getsizeof()](https://docs.python.org/3/library/sys.html#sys.getsizeof) function in the [sys](https://docs.python.org/3/library/sys.html) library.\n",
    "\n",
    "Suppose we create an integer called `my_int`:\n",
    "\n",
    "```python\n",
    "my_int = 200\n",
    "```\n",
    "\n",
    "We can get its size using `sys.getsizeof()`:\n",
    "\n",
    "```python\n",
    "size_of_my_int = sys.getsizeof(my_int)\n",
    "```\n",
    "\n",
    "Because **Python's memory usage is inefficient**, the size of a single variable won't give us much useful information. An integer may occupy `28` bytes, but we have no idea why. \n",
    "* Instead, we'll compare the memory usage of different variables to draw conclusions about how Python stored the data."
   ]
  },
  {
   "cell_type": "code",
   "execution_count": null,
   "metadata": {},
   "outputs": [],
   "source": []
  },
  {
   "cell_type": "markdown",
   "metadata": {},
   "source": [
    "Assign the difference in size between int1 and int2 (in bytes) to int_diff.\n",
    "\n",
    "* Print `int_diff`.\n",
    "\n",
    "Assign the difference in size between str1 and str2 (in bytes) to str_diff.\n",
    "\n",
    "* Print `str_diff`.\n",
    "\n"
   ]
  },
  {
   "cell_type": "code",
   "execution_count": 6,
   "metadata": {},
   "outputs": [
    {
     "name": "stdout",
     "output_type": "stream",
     "text": [
      "0\n",
      "3\n"
     ]
    }
   ],
   "source": [
    "import sys\n",
    "\n",
    "my_int = 200\n",
    "size_of_my_int = sys.getsizeof(my_int)\n",
    "\n",
    "int1 = 10\n",
    "int2 = 100000\n",
    "str1 = \"Hello\"\n",
    "str2 = \"Hi\"\n",
    "\n",
    "int_diff = sys.getsizeof(int1) - sys.getsizeof(int2)\n",
    "str_diff = sys.getsizeof(str1) - sys.getsizeof(str2)\n",
    "\n",
    "print(int_diff)\n",
    "print(str_diff)\n"
   ]
  },
  {
   "cell_type": "code",
   "execution_count": null,
   "metadata": {},
   "outputs": [],
   "source": []
  },
  {
   "cell_type": "markdown",
   "metadata": {},
   "source": [
    "## Integers and Strings in Memory\n",
    "\n",
    "On the last screen, we saw that the difference in memory size between our example integers was `0`, meaning that both integers required the same amount of memory. It's only when integers become very large that we need more memory to represent them.<br>\n",
    "\n",
    "We also saw that the difference in memory usage between the strings `\"Hello\"` and `\"Hi\"` was `3`. From this information, we can deduce that some set amount of memory was automatically allocated for strings, and then each character in the string required exactly one byte of memory. We can deduce this because `\"Hello\"` required three more bytes than `\"Hi\"`, which contains exactly three fewer characters."
   ]
  },
  {
   "cell_type": "code",
   "execution_count": null,
   "metadata": {},
   "outputs": [],
   "source": []
  },
  {
   "cell_type": "markdown",
   "metadata": {},
   "source": [
    "## Understanding Disk Storage\n",
    "\n",
    "**Disk storage** is a large but slow type of memory found in every computer. Disk storage typically exists as a hard drive, and the data in disk storage usually exists as files. While we need to be able to access RAM easily and quickly at any time, we use data in disk storage less frequently. Suppose we've stored some data in `list.csv`, which is a file on disk. To use that file, we'd need to read it from disk and store it in RAM:\n",
    "\n",
    "```python\n",
    "f = open(\"list.csv\", \"r\")\n",
    "list = list(csv.reader(f))\n",
    "```\n",
    "\n",
    "We use `open()` and `csv.reader()` to transfer the data from disk storage to memory. \n",
    "\n",
    "### Now we can access the `list` variable quickly because it's in RAM.\n",
    "\n",
    "The [time](https://docs.python.org/3/library/time.html) module has some utility functions for working with time in Python. It includes a [time.clock()](https://docs.python.org/3/library/time.html#time.clock) function that returns the current processor time in seconds as a floating point number. We can use `time.clock()` to measure the processor time before and after an operation to figure out how long the operation took. The following code determines how long it takes to get the maximum of the values `1000` and `5000`.\n",
    "\n",
    "```python\n",
    "before = time.clock()\n",
    "result = max(1000, 5000)\n",
    "after = time.clock()\n",
    "duration = after - before\n",
    "```\n",
    "\n",
    "This is analogous to looking at a clock before and after going for a run. By subtracting the earlier time from the later time, you can determine how long you ran. We can use this method to compare reading from disk and reading from RAM.<br>\n",
    "\n",
    "On this screen, we read the list `[1, 2, 3, 4, 5, 6, 7, 8, 9, 10]` in two different ways. First, we read it from a CSV file called `list.csv`. Then, we split a string stored in RAM. Because the list is the same in both cases, we can time these operations to get a sense for how disk storage and RAM compare in terms of speed.\n",
    "\n",
    "* Assign the time it takes to read the list from `\"list.csv\"` to `file_time`.\n",
    "  * Print `file_time`.\n",
    "* Assign the time it takes to acquire the list by splitting a string from RAM in `RAM_time`.\n",
    "  * Print `RAM_time`."
   ]
  },
  {
   "cell_type": "code",
   "execution_count": 9,
   "metadata": {},
   "outputs": [],
   "source": [
    "import time\n",
    "import csv\n",
    "f = open(\"data/list.csv\", \"r\")"
   ]
  },
  {
   "cell_type": "code",
   "execution_count": 10,
   "metadata": {},
   "outputs": [
    {
     "data": {
      "text/plain": [
       "0.00031200000000009"
      ]
     },
     "execution_count": 10,
     "metadata": {},
     "output_type": "execute_result"
    }
   ],
   "source": [
    "before_list_from_file = time.clock()\n",
    "list_from_file = list(csv.reader(f))\n",
    "after_list_from_file = time.clock()\n",
    "\n",
    "file_time = after_list_from_file - before_list_from_file\n",
    "file_time"
   ]
  },
  {
   "cell_type": "code",
   "execution_count": 12,
   "metadata": {},
   "outputs": [
    {
     "data": {
      "text/plain": [
       "6.700000000003925e-05"
      ]
     },
     "execution_count": 12,
     "metadata": {},
     "output_type": "execute_result"
    }
   ],
   "source": [
    "before_list_from_RAM = time.clock()\n",
    "list_from_RAM = \"1,2,3,4,5,6,7,8,9,10\".split(\",\")\n",
    "after_list_from_RAM = time.clock()\n",
    "\n",
    "RAM_time = after_list_from_RAM - before_list_from_RAM\n",
    "RAM_time"
   ]
  },
  {
   "cell_type": "code",
   "execution_count": 23,
   "metadata": {},
   "outputs": [
    {
     "name": "stdout",
     "output_type": "stream",
     "text": [
      "RAM load is faster than file load by over 4 times.\n"
     ]
    }
   ],
   "source": [
    "import math\n",
    "print('RAM load is faster than file load by over {} times.'.format(math.floor(file_time/RAM_time)))"
   ]
  },
  {
   "cell_type": "code",
   "execution_count": null,
   "metadata": {},
   "outputs": [],
   "source": []
  },
  {
   "cell_type": "markdown",
   "metadata": {},
   "source": [
    "## RAM vs. Disk Storage\n",
    "\n",
    "On the last screen, we saw that RAM (**memory**) was much quicker to access than **disk storage**. So why should we use disk storage at all if it's slow? \n",
    "### This question illustrates a trade-off in hardware: speed vs. cost. \n",
    "\n",
    "While it's faster to read and write to RAM, it's much more expensive per gigabyte. Disk drives are slower to read and write to, but they're much cheaper per gigabyte to manufacture.<br>\n",
    "\n",
    "The two storage methods work well together, and most operating systems are designed to take advantage of both. Data remains in the disk drive while it's at rest. When we need to access it, the operating system reads it into memory for faster processing.<br>\n",
    "\n",
    "#### Bits and Bytes\n",
    "\n",
    "A **byte** of memory consists of eight **bits**. A **bit** has a value of either `1` or `0`, which is represented in hardware by a capacitor that's either charged or uncharged (charged = `1`, uncharged = `0`). A byte could look something like these examples:\n",
    "\n",
    "```\n",
    "01100101\n",
    "11001101\n",
    "00000000\n",
    "11111111\n",
    "10101010\n",
    "```\n",
    "\n",
    "Because there are eight bits in a byte and two possible values for every bit, we have 28, or 256, possible values for every byte. It would be helpful if we could use these 256 distinct values in a meaningful way, so that we could represent integers, characters, and floating point numbers as bytes."
   ]
  },
  {
   "cell_type": "code",
   "execution_count": null,
   "metadata": {},
   "outputs": [],
   "source": []
  },
  {
   "cell_type": "markdown",
   "metadata": {},
   "source": [
    "## An Overview of Binary\n",
    "\n",
    "Binary is a number system where every digit has a value of either 0 or 1. Some programmers refer to it as a base-2 number system. We use a base-10 number system on a daily basis. That means that each digit corresponds to a power of 10. The rightmost digit is multiplied by 100, the next digit by 101, and so on to achieve each number's value. We do all of this subconciously because we've grown up with this number system.\n",
    "\n",
    "![https://s3.amazonaws.com/dq-content/85/base_ten_expansion.svg](https://s3.amazonaws.com/dq-content/85/base_ten_expansion.svg)\n",
    "\n",
    "In binary, the conversion is exactly the same, except that it's base-2 instead of base-10. The first bit is multiplied by $2^0$, the next by $2^1$, the next by $2^2$, and so on.\n",
    "\n",
    "![https://s3.amazonaws.com/dq-content/85/base_two_expansion.svg](https://s3.amazonaws.com/dq-content/85/base_two_expansion.svg)\n",
    "\n",
    "This table considers binary values with only three bits, but a binary value can have any number of bits. 1011, for instance, has a base-10 value of 11 ($8 + 0 + 2 + 1$).<br>\n",
    "\n",
    "Because bits can only be in one of two states (charged or uncharged), binary is a natural means of communicating with computers. Computers store all the data this way, including non-integers. Characters are stored as binary, and each character has its own distinct binary number. For example, the character `\"a\"` is typically stored as the binary value `01100001`, which is `97` in `base-10`."
   ]
  },
  {
   "cell_type": "code",
   "execution_count": null,
   "metadata": {},
   "outputs": [],
   "source": []
  },
  {
   "cell_type": "markdown",
   "metadata": {},
   "source": [
    "* Assign the base-10 value of `0110` to `num1`.\n",
    "\n",
    "* Assign the base-10 value of `1001` to `num2`.\n",
    "\n",
    "* Assign the base-10 value of `100100` to `num3`."
   ]
  },
  {
   "cell_type": "code",
   "execution_count": 31,
   "metadata": {},
   "outputs": [],
   "source": [
    "num1 = int('0110', 2)\n",
    "num2 = int('1001', 2)\n",
    "num3 = int('100100', 2)"
   ]
  },
  {
   "cell_type": "code",
   "execution_count": 32,
   "metadata": {},
   "outputs": [
    {
     "name": "stdout",
     "output_type": "stream",
     "text": [
      "6 9 36\n"
     ]
    }
   ],
   "source": [
    "print(num1, num2, num3)"
   ]
  },
  {
   "cell_type": "code",
   "execution_count": null,
   "metadata": {},
   "outputs": [],
   "source": []
  },
  {
   "cell_type": "markdown",
   "metadata": {},
   "source": [
    "## Computation and Control Flow\n",
    "\n",
    "We can reduce every calculation a computer performs down to very simple operations, such as addition, multiplication, and comparison. Computers have a **central processing unit (CPU)** that can perform these fundamental operations very quickly. \n",
    "* The **CPU** is a chip in the computer that can add, multiply, compare, etc. to perform any computation.\n",
    "\n",
    "We know that computers represent **values as collections of bits in memory**. CPUs take advantage of this representation to perform computations on values. \n",
    "* For example, addition uses a specific circuit configuration that takes two values -- each as a series of bits -- and produces a third \"result\" value, which is also a series of bits. \n",
    "* In other words, computer hardware is built to perform arithmetic on binary numbers.\n",
    "\n",
    "When we execute a **program**, the computer reads it from disk into memory. The program is stored in memory as a sequence of **machine instructions**, which are the primitive operations the CPU understands. The CPU reads through this program like a book, keeping a sort of \"finger\" on every \"word.\" We call the finger the **program counter**, and at any given time it points to the next **instruction** the CPU should execute. An instruction indicates the fundamental operation that the CPU should perform at a specific step in the program.<br>\n",
    "\n",
    "Strictly speaking, these instructions are derived from a Python program, and look much different than the Python code itself. While we won't dive into what machine instructions look like in this mission, we can treat each line of Python code as a machine instruction to gain a better understanding of program counters. Once the CPU executes an instruction, the program counter moves to the instruction that's adjacent in memory. This is the case for a simple program like this one:\n",
    "\n",
    "```python\n",
    "a = 5\n",
    "print(a)\n",
    "b = a + 10\n",
    "print(b)\n",
    "```\n",
    "\n",
    "However, **control flow** statements like *if, else, for, etc*. can change how the program counter traverses instructions in memory.\n",
    "\n",
    "```python\n",
    "a = 5\n",
    "if a == 10:\n",
    "    print(\"a is 10\")\n",
    "else:\n",
    "    print(\"a is not 10\")\n",
    "print(\"outside of if statement\")\n",
    "```\n",
    "In the code above, the program counter executes the first line, and then the second line. After that, it jumps to the fifth line, due to the if-else statement."
   ]
  },
  {
   "cell_type": "code",
   "execution_count": null,
   "metadata": {},
   "outputs": [],
   "source": []
  },
  {
   "cell_type": "markdown",
   "metadata": {},
   "source": [
    "* Walk through the starter code. For each line that prints a message, store the line number in `printed_lines`.\n",
    "* For example, you should assign the value `[4, 8]` to `printed_lines` if you believe that the output of the program will be:\n",
    "\n",
    "```\n",
    "On line 4\n",
    "On line 8\n",
    "```"
   ]
  },
  {
   "cell_type": "code",
   "execution_count": null,
   "metadata": {},
   "outputs": [],
   "source": [
    "# starter code\n",
    "a = 5\n",
    "b = 10\n",
    "print(\"On line 3\")\n",
    "if a == 5:\n",
    "    print(\"On line 5\")\n",
    "else:\n",
    "    print(\"On line 7\")\n",
    "\n",
    "if b < a:\n",
    "    print(\"On line 9\")\n",
    "elif b == a:\n",
    "    print(\"On line 11\")\n",
    "else:\n",
    "    for i in range(3):\n",
    "        print(\"On line 14\")\n"
   ]
  },
  {
   "cell_type": "code",
   "execution_count": null,
   "metadata": {},
   "outputs": [],
   "source": [
    "printed_lines = [3, 5, 14, 14, 14]"
   ]
  },
  {
   "cell_type": "code",
   "execution_count": null,
   "metadata": {},
   "outputs": [],
   "source": []
  },
  {
   "cell_type": "markdown",
   "metadata": {},
   "source": [
    "## Functions In Memory\n",
    "\n",
    "On the last screen, we saw that we can control the flow of code using statements like if. Another common way to control the order of statement execution is with functions. \n",
    "### When a program defines functions, those functions are stored in their own section of memory. \n",
    "* When a function is called, the program counter moves to the section of memory where the function is stored, \n",
    "* executes the logic for the function, \n",
    "* and then moves back to the location where the function was called."
   ]
  },
  {
   "cell_type": "code",
   "execution_count": null,
   "metadata": {},
   "outputs": [],
   "source": []
  },
  {
   "cell_type": "markdown",
   "metadata": {},
   "source": [
    "* Walk through the starter code. For each line that prints a message, store the line number in `printed_lines`.\n",
    "* For example, you should assign the value `[4, 8]` to `printed_lines` if you believe that the output of the program will be:"
   ]
  },
  {
   "cell_type": "code",
   "execution_count": null,
   "metadata": {},
   "outputs": [],
   "source": [
    "# starter code\n",
    "def my_func():\n",
    "    print(\"On line 2\")\n",
    "a = 5\n",
    "b = 10\n",
    "print(\"On line 5\")\n",
    "my_func()\n",
    "print(\"On line 7\")\n",
    "my_func()"
   ]
  },
  {
   "cell_type": "code",
   "execution_count": null,
   "metadata": {},
   "outputs": [],
   "source": [
    "printed_lines = [5, 2, 7, 2]"
   ]
  },
  {
   "cell_type": "code",
   "execution_count": null,
   "metadata": {},
   "outputs": [],
   "source": []
  },
  {
   "cell_type": "markdown",
   "metadata": {},
   "source": [
    "## Next Steps\n",
    "We've learned how memory works in computers, and we've seen how a CPU executes instructions stored in **memory**. So far, we've only discussed CPUs that execute one instruction at a time. A processing unit that executes one instruction at a time is called a **core**.<br>\n",
    "\n",
    "While many programs only require one core to run properly, solving certain types of problems efficiently requires multiple instructions occurring simultaneously. Fortunately, many CPUs have multiple cores.<br>\n",
    "\n",
    "A multi-core processor can execute more than one set of instructions at a time. You can think of it as having many fingers (program counters) and reading many words (instructions) in a book (memory) at the same time. In the next mission, we'll explore the advantages and challenges that come with being able to execute multiple instructions at the same time."
   ]
  },
  {
   "cell_type": "code",
   "execution_count": null,
   "metadata": {},
   "outputs": [],
   "source": []
  }
 ],
 "metadata": {
  "kernelspec": {
   "display_name": "Python 3",
   "language": "python",
   "name": "python3"
  },
  "language_info": {
   "codemirror_mode": {
    "name": "ipython",
    "version": 3
   },
   "file_extension": ".py",
   "mimetype": "text/x-python",
   "name": "python",
   "nbconvert_exporter": "python",
   "pygments_lexer": "ipython3",
   "version": "3.6.2"
  }
 },
 "nbformat": 4,
 "nbformat_minor": 2
}
