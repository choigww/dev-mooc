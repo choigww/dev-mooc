{
 "cells": [
  {
   "cell_type": "markdown",
   "metadata": {},
   "source": [
    "# Data splitting strategies"
   ]
  },
  {
   "cell_type": "code",
   "execution_count": null,
   "metadata": {},
   "outputs": [],
   "source": []
  },
  {
   "cell_type": "markdown",
   "metadata": {},
   "source": [
    "### Concrete example\n",
    "Say we're solving a competition with a time series prediction, namely, we are to predict a number of customers for a shop for which they're due in next month.<br>\n",
    "\n",
    "How should we divide the data into `train` and `validation` here?\n",
    "\n",
    "* Take random rows\n",
    "* Make a time-based split\n",
    "\n",
    "![different-approahces-to-validation](img/different-approahces-to-validation.png)\n",
    "\n",
    "### Imagine we have a pool of different models trained on different features\n",
    "\n",
    "![different-approaches-to-validation](img/different-approaches-to-validation.png)\n",
    "\n",
    "* And we selected the best model for each type of validation\n",
    "* Question - will these model differ from each other? If then, how significantly?\n",
    "  * **`YES!`** - the most useful features for one model could be useless for another!\n",
    "\n",
    "#### If you want to predict `what will happen a few points later`,\n",
    "* then the model which favor features like `previous and next target values` will perform poorly\n",
    "  * because in this case we don't have such observations for the test data\n",
    "  * but we have to give the model something in the feature value - and it probably will be not numbers or missing values\n",
    "  * the model has very few experience & expectation on the future values\n",
    "\n",
    "#### Now, let's remember the second case `time-based trend`\n",
    "* Here we need to rely more on the time trend\n",
    "* So the features which is the model really needs here are like:\n",
    "  * `what was the trend in the last couple of months or weeks?`\n",
    "\n",
    "#### The model selected as the best model for the first type of validation will perfrom poorly for the second type of validation.\n",
    "\n",
    "#### On the opposite, the best model for the second type of validation was trained to predict many points **ahead** and will not use adjacent target values."
   ]
  },
  {
   "cell_type": "code",
   "execution_count": null,
   "metadata": {},
   "outputs": [],
   "source": []
  },
  {
   "attachments": {},
   "cell_type": "markdown",
   "metadata": {},
   "source": [
    "### If we carefully generate features that are drawing attention to time-based patterns, will we get a reliable validation with a random-based split?\n",
    "* **`NO!`**\n",
    "\n",
    "\n",
    "[**FIRST**: random split / **SECOND**: time-based split]\n",
    "![different-approaches-to-validation2](img/different-approaches-to-validation2.png)\n",
    "\n",
    "#### Model predictions will be close to targets mean value calculated using train data\n",
    "* Ff the validation points will be closer to this mean value compared to test points, we will get a better score in validation than in test.\n",
    "\n",
    "#### But in the second case(`time-based split`), the validation points are roughly as far as the test points from target mean value\n",
    "* So validation score will be more similar to the test score"
   ]
  },
  {
   "cell_type": "code",
   "execution_count": null,
   "metadata": {},
   "outputs": [],
   "source": []
  },
  {
   "cell_type": "markdown",
   "metadata": {},
   "source": [
    "## Time-based splits\n",
    "\n",
    "### Important outcome\n",
    " \n",
    "**Different splitting strategies can differ significantly**\n",
    "1. in generated features\n",
    "2. in a way the model will rely on that features\n",
    "3. in some kind of target leak\n",
    "\n",
    "### To be able to find smart ideas for `feature generation` and consistently improve our model,\n",
    "### we ABSOLUTELY want to identify train/test split made by organizers and reproduce it."
   ]
  },
  {
   "cell_type": "code",
   "execution_count": null,
   "metadata": {},
   "outputs": [],
   "source": []
  },
  {
   "cell_type": "markdown",
   "metadata": {},
   "source": [
    "## Splitting data into train and validation\n",
    "\n",
    "1. Random, row-wise\n",
    "2. **Timewise**\n",
    "  * generally data before certain date = `train`\n",
    "  * data after certain date = `test`\n",
    "  * This can be **signal** to use speical approach to feature generation - **especially to make useful features based on the target**\n",
    "    * (example) If we are to predict a number of customers for the shop for each day in the next week, \n",
    "      * **`the number of customers for the same day in the previous week`**\n",
    "      * **`the average number of customers for the past month`**\n",
    "3. By (unique) ID\n",
    "  * We can probably can make a conclusion that features based on user's history\n",
    "    * **`how many songs the user listened last week`**\n",
    "    * But the feature right above will not help for completely new users!\n",
    "  * (Example) Nature Conservancy fisheries monitoring\n",
    "    * There were **photos of fish** from several different **fishing boats**\n",
    "    * One could easily overfit if you would ignore risk and make a random-based split\n",
    "    * Competitors had to derive the unique IDs for fishes by themselves"
   ]
  },
  {
   "cell_type": "code",
   "execution_count": null,
   "metadata": {},
   "outputs": [],
   "source": []
  },
  {
   "cell_type": "markdown",
   "metadata": {},
   "source": [
    "### Moving window\n",
    "A special case of validation for the time-based split\n",
    "\n",
    "![moving-window](img/moving-window.png)"
   ]
  },
  {
   "cell_type": "code",
   "execution_count": null,
   "metadata": {},
   "outputs": [],
   "source": []
  },
  {
   "cell_type": "markdown",
   "metadata": {},
   "source": [
    "### Combined split\n",
    "Examples\n",
    "\n",
    "* If you have a task of predicting a sales in a shop, we can choose a split in date for each shop independently, instead of using one date for every shop in the data.\n",
    "* If we have search queries from multiple users, is using several search engines, we can split the data by a **combination of user ID and search engine ID**."
   ]
  },
  {
   "cell_type": "code",
   "execution_count": null,
   "metadata": {},
   "outputs": [],
   "source": []
  },
  {
   "cell_type": "markdown",
   "metadata": {},
   "source": [
    "## Conclusion\n",
    "1. In most cases data is split by\n",
    "  * Row number\n",
    "  * Time\n",
    "  * ID\n",
    "2. Logic of feature generation depends on the data spliting strategy\n",
    "3. Set up your validation to mimic the train/test split of the competition"
   ]
  },
  {
   "cell_type": "code",
   "execution_count": null,
   "metadata": {},
   "outputs": [],
   "source": []
  }
 ],
 "metadata": {
  "kernelspec": {
   "display_name": "Python 3",
   "language": "python",
   "name": "python3"
  },
  "language_info": {
   "codemirror_mode": {
    "name": "ipython",
    "version": 3
   },
   "file_extension": ".py",
   "mimetype": "text/x-python",
   "name": "python",
   "nbconvert_exporter": "python",
   "pygments_lexer": "ipython3",
   "version": "3.6.2"
  }
 },
 "nbformat": 4,
 "nbformat_minor": 2
}
