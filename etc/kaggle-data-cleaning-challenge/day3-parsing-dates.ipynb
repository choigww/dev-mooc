{
  "cells": [
    {
      "metadata": {
        "_cell_guid": "b91a74ba-85f4-486e-b5f9-d0898f0626bf",
        "_uuid": "6ac53f18b4f4ec0fc44348cedb5d1c319fa127c0"
      },
      "cell_type": "markdown",
      "source": "### All days of the challange:\n\n* [Day 1: Handling missing values](https://www.kaggle.com/rtatman/data-cleaning-challenge-handling-missing-values)\n* [Day 2: Scaling and normalization](https://www.kaggle.com/rtatman/data-cleaning-challenge-scale-and-normalize-data)\n* [Day 3: Parsing dates](https://www.kaggle.com/rtatman/data-cleaning-challenge-parsing-dates/)\n* [Day 4: Character encodings](https://www.kaggle.com/rtatman/data-cleaning-challenge-character-encodings/)\n* [Day 5: Inconsistent Data Entry](https://www.kaggle.com/rtatman/data-cleaning-challenge-inconsistent-data-entry/)\n___\nWelcome to day 3 of the 5-Day Data Challenge! Today, we're going to work with dates. To get started, click the blue \"Fork Notebook\" button in the upper, right hand corner. This will create a private copy of this notebook that you can edit and play with. Once you're finished with the exercises, you can choose to make your notebook public to share with others. :)\n\n> **Your turn!** As we work through this notebook, you'll see some notebook cells (a block of either code or text) that has \"Your Turn!\" written in it. These are exercises for you to do to help cement your understanding of the concepts we're talking about. Once you've written the code to answer a specific question, you can run the code by clicking inside the cell (box with code in it) with the code you want to run and then hit CTRL + ENTER (CMD + ENTER on a Mac). You can also click in a cell and then click on the right \"play\" arrow to the left of the code. If you want to run all the code in your notebook, you can use the double, \"fast forward\" arrows at the bottom of the notebook editor.\n\nHere's what we're going to do today:\n\n* [Get our environment set up](#Get-our-environment-set-up)\n* [Check the data type of our date column](#Check-the-data-type-of-our-date-column)\n* [Convert our date columns to datetime](#Convert-our-date-columns-to-datetime)\n* [Select just the day of the month from our column](#Select-just-the-day-of-the-month-from-our-column)\n* [Plot the day of the month to check the date parsing](#Plot-the-day-of-the-month-to-the-date-parsing)\n\nLet's get started!"
    },
    {
      "metadata": {
        "_cell_guid": "5cd5061f-ae30-4837-a53b-690ffd5c5830",
        "_uuid": "9d82bf13584b8e682962fbb96131f2447d741679"
      },
      "cell_type": "markdown",
      "source": "# Get our environment set up\n________\n\nThe first thing we'll need to do is load in the libraries and datasets we'll be using. For today, we'll be working with two datasets: one containing information on earthquakes that occured between 1965 and 2016, and another that contains information on landslides that occured between 2007 and 2016.\n\n> **Important!** Make sure you run this cell yourself or the rest of your code won't work!"
    },
    {
      "metadata": {
        "_cell_guid": "135a7804-b5f5-40aa-8657-4a15774e3666",
        "collapsed": true,
        "_uuid": "835cbe0834b935fb0fd40c75b9c39454836f4d5f",
        "trusted": true
      },
      "cell_type": "code",
      "source": "# modules we'll use\nimport pandas as pd\nimport numpy as np\nimport seaborn as sns\nimport datetime\n\n# read in our data\nearthquakes = pd.read_csv(\"../input/earthquake-database/database.csv\")\nlandslides = pd.read_csv(\"../input/landslide-events/catalog.csv\")\nvolcanos = pd.read_csv(\"../input/volcanic-eruptions/database.csv\")\n\n# set seed for reproducibility\nnp.random.seed(0)",
      "execution_count": 1,
      "outputs": []
    },
    {
      "metadata": {
        "_cell_guid": "604ac3a4-b1d9-4264-b312-4bbeecdeec00",
        "_uuid": "03ce3b4afe87d98f777172c2c7be066a66a0b237"
      },
      "cell_type": "markdown",
      "source": "Now we're ready to look at some dates! (If you like, you can take this opportunity to take a look at some of the data.)"
    },
    {
      "metadata": {
        "_cell_guid": "9b87a77d-e5e5-4581-9cd3-0e7339fe1516",
        "_uuid": "742028572a307a42ce40db0102171bc219b05282"
      },
      "cell_type": "markdown",
      "source": "# Check the data type of our date column\n___\n\nFor this part of the challenge, I'll be working with the `date` column from the `landslides` dataframe. The very first thing I'm going to do is take a peek at the first few rows to make sure it actually looks like it contains dates."
    },
    {
      "metadata": {
        "_cell_guid": "e6b7eb39-c3e3-40a1-b0a5-91cfcd2d42da",
        "_uuid": "93a08de7a6a621e4b07968c07c1cc612936c6027",
        "trusted": true
      },
      "cell_type": "code",
      "source": "# print the first few rows of the date column\nprint(landslides['date'].head())",
      "execution_count": 2,
      "outputs": [
        {
          "output_type": "stream",
          "text": "0     3/2/07\n1    3/22/07\n2     4/6/07\n3    4/14/07\n4    4/15/07\nName: date, dtype: object\n",
          "name": "stdout"
        }
      ]
    },
    {
      "metadata": {
        "_cell_guid": "dbdacb7c-10d4-4b0a-8f6b-6d4a940ca446",
        "_uuid": "d88dbc08ab145fd20f86073b027c53f40fd306bc"
      },
      "cell_type": "markdown",
      "source": "Yep, those are dates! But just because I, a human, can tell that these are dates doesn't mean that Python knows that they're dates. Notice that the at the bottom of the output of `head()`, you can see that it says that the data type of this  column is \"object\". \n\n> Pandas uses the \"object\" dtype for storing various types of data types, but most often when you see a column with the dtype \"object\" it will have strings in it. \n\nIf you check the pandas dtype documentation [here](http://pandas.pydata.org/pandas-docs/stable/basics.html#dtypes), you'll notice that there's also a specific `datetime64` dtypes. Because the dtype of our column is `object` rather than `datetime64`, we can tell that Python doesn't know that this column contains dates.\n\nWe can also look at just the dtype of your column without printing the first few rows if we like:"
    },
    {
      "metadata": {
        "_cell_guid": "56a047f4-cbf7-4914-951c-a04310ee7432",
        "_uuid": "e2ab2ac80aaac7b165b3af64edb75d29f2612482",
        "trusted": true
      },
      "cell_type": "code",
      "source": "# check the data type of our date column\nlandslides['date'].dtype",
      "execution_count": 3,
      "outputs": [
        {
          "output_type": "execute_result",
          "execution_count": 3,
          "data": {
            "text/plain": "dtype('O')"
          },
          "metadata": {}
        }
      ]
    },
    {
      "metadata": {
        "_cell_guid": "99a207db-3db0-4343-9805-58753f51f6e8",
        "_uuid": "06e6483764014a04e7a1f34525e2f12aee5fdab8"
      },
      "cell_type": "markdown",
      "source": "You may have to check the [numpy documentation](https://docs.scipy.org/doc/numpy-1.12.0/reference/generated/numpy.dtype.kind.html#numpy.dtype.kind) to match the letter code to the dtype of the object. \"O\" is the code for \"object\", so we can see that these two methods give us the same information."
    },
    {
      "metadata": {
        "_cell_guid": "8987e921-0c37-4c0f-ba68-e4e26d8d1a1b",
        "_uuid": "a2a983470b318469993b75b450bab28c12b59ae6",
        "trusted": true
      },
      "cell_type": "code",
      "source": "# Your turn! Check the data type of the Date column in the earthquakes dataframe\n# (note the capital 'D' in date!)\n\nearthquakes['Date'].dtype",
      "execution_count": 4,
      "outputs": [
        {
          "output_type": "execute_result",
          "execution_count": 4,
          "data": {
            "text/plain": "dtype('O')"
          },
          "metadata": {}
        }
      ]
    },
    {
      "metadata": {
        "trusted": true,
        "_uuid": "88082fa419080f6a41d91476d79a457cc99a62cf"
      },
      "cell_type": "code",
      "source": "earthquakes['Date'].head()",
      "execution_count": 5,
      "outputs": [
        {
          "output_type": "execute_result",
          "execution_count": 5,
          "data": {
            "text/plain": "0    01/02/1965\n1    01/04/1965\n2    01/05/1965\n3    01/08/1965\n4    01/09/1965\nName: Date, dtype: object"
          },
          "metadata": {}
        }
      ]
    },
    {
      "metadata": {
        "_cell_guid": "fb3b552b-411b-4fc0-b1e6-a3a8156fd459",
        "_uuid": "0939ce269aef7001e35cc8f2a5f1eed1f6160940"
      },
      "cell_type": "markdown",
      "source": "# Convert our date columns to datetime\n___\n\nNow that we know that our date column isn't being recognized as a date, it's time to convert it so that it *is* recognized as a date. This is called \"parsing dates\" because we're taking in a string and identifying its component parts.\n\nWe can pandas what the format of our dates are with a guide called as [\"strftime directive\", which you can find more information on at this link](http://strftime.org/). The basic idea is that you need to point out which parts of the date are where and what punctuation is between them. There are [lots of possible parts of a date](http://strftime.org/), but the most common are `%d` for day, `%m` for month, `%y` for a two-digit year and `%Y` for a four digit year.\n\nSome examples:\n\n * 1/17/07 has the format \"%m/%d/%y\"\n * 17-1-2007 has the format \"%d-%m-%Y\"\n \n Looking back up at the head of the `date` column in the landslides dataset, we can see that it's in the format \"month/day/two-digit year\", so we can use the same syntax as the first example to parse in our dates: "
    },
    {
      "metadata": {
        "_cell_guid": "f955aa17-ede7-4457-a913-ba1c44f8846d",
        "scrolled": false,
        "collapsed": true,
        "_uuid": "a471aae50241b245caa0c60fbb19821372682b76",
        "trusted": true
      },
      "cell_type": "code",
      "source": "# create a new column, date_parsed, with the parsed dates\nlandslides['date_parsed'] = pd.to_datetime(landslides['date'], format = \"%m/%d/%y\")",
      "execution_count": 6,
      "outputs": []
    },
    {
      "metadata": {
        "_cell_guid": "09c1c55c-3883-4f5e-8ea9-e914b09416b6",
        "_uuid": "50feaed5f874d8c09f983ad3172febdc54f4f0bb"
      },
      "cell_type": "markdown",
      "source": "Now when I check the first few rows of the new column, I can see that the dtype is `datetime64`. I can also see that my dates have been slightly rearranged so that they fit the default order datetime objects (year-month-day)."
    },
    {
      "metadata": {
        "_cell_guid": "5a6c6244-b724-4a70-b356-6e3fb1e61270",
        "_uuid": "2bff07787e5aa5ad2b6484c5bcee18b5b2f283bc",
        "trusted": true
      },
      "cell_type": "code",
      "source": "# print the first few rows\nlandslides['date_parsed'].head()",
      "execution_count": 7,
      "outputs": [
        {
          "output_type": "execute_result",
          "execution_count": 7,
          "data": {
            "text/plain": "0   2007-03-02\n1   2007-03-22\n2   2007-04-06\n3   2007-04-14\n4   2007-04-15\nName: date_parsed, dtype: datetime64[ns]"
          },
          "metadata": {}
        }
      ]
    },
    {
      "metadata": {
        "_cell_guid": "7bd8f8b6-8a60-4a12-b94b-4100188845da",
        "_uuid": "fc95b22f0f4d7a6bc0cb1a7cc55abfb204cc81f9"
      },
      "cell_type": "markdown",
      "source": "Now that our dates are parsed correctly, we can interact with them in useful ways.\n\n___\n* **What if I run into an error with multiple date formats?** While we're specifying the date format here, sometimes you'll run into an error when there are multiple date formats in a single column. If that happens, you have have pandas try to infer what the right date format should be. You can do that like so:\n\n`landslides['date_parsed'] = pd.to_datetime(landslides['Date'], infer_datetime_format=True)`\n\n* **Why don't you always use `infer_datetime_format = True?`** There are two big reasons not to always have pandas guess the time format. The first is that pandas won't always been able to figure out the correct date format, especially if someone has gotten creative with data entry. The second is that it's much slower than specifying the exact format of the dates.\n____"
    },
    {
      "metadata": {
        "trusted": true,
        "_uuid": "ef369acdc5629b73dec73bd2f9cfcfaa3b1efa1f"
      },
      "cell_type": "code",
      "source": "earthquakes['Date'][:10]",
      "execution_count": 10,
      "outputs": [
        {
          "output_type": "execute_result",
          "execution_count": 10,
          "data": {
            "text/plain": "0    01/02/1965\n1    01/04/1965\n2    01/05/1965\n3    01/08/1965\n4    01/09/1965\n5    01/10/1965\n6    01/12/1965\n7    01/15/1965\n8    01/16/1965\n9    01/17/1965\nName: Date, dtype: object"
          },
          "metadata": {}
        }
      ]
    },
    {
      "metadata": {
        "_cell_guid": "beba42ab-fb0e-4285-83cb-984a51bdb8ed",
        "_uuid": "c029d8021e0d6cd5de3c9e62014a498c7dd5d582",
        "trusted": true
      },
      "cell_type": "code",
      "source": "# Your turn! Create a new column, date_parsed, in the earthquakes\n# dataset that has correctly parsed dates in it. (Don't forget to \n# double-check that the dtype is correct!)\n\n# format specified -> error\n#earthquakes['date_parsed'] = pd.to_datetime(earthquakes['Date'], format = '%m/%d/%y')\n\nearthquakes['date_parsed'] = pd.to_datetime(earthquakes['Date'], infer_datetime_format=True)\nearthquakes['date_parsed'].dtype, earthquakes['date_parsed'].head()",
      "execution_count": 12,
      "outputs": [
        {
          "output_type": "execute_result",
          "execution_count": 12,
          "data": {
            "text/plain": "(dtype('<M8[ns]'), 0   1965-01-02\n 1   1965-01-04\n 2   1965-01-05\n 3   1965-01-08\n 4   1965-01-09\n Name: date_parsed, dtype: datetime64[ns])"
          },
          "metadata": {}
        }
      ]
    },
    {
      "metadata": {
        "_cell_guid": "9f310829-85bd-44c8-b1c5-d582407b5931",
        "_uuid": "3d6f5bef5deb1c1d4d83bbcaeb9ba23612978f35"
      },
      "cell_type": "markdown",
      "source": "# Select just the day of the month from our column\n___\n\n\"Ok, Rachael,\" you may be saying at this point, \"This messing around with data types is fine, I guess, but what's the *point*?\" To answer your question, let's try to get information on the day of the month that a landslide occured on from the original \"date\" column, which has an \"object\" dtype: "
    },
    {
      "metadata": {
        "_cell_guid": "ff451a5e-4447-40e2-ad76-367136a1fcff",
        "_uuid": "3c3be07dbf7394103a1db120e6ecbdffaf08d37f",
        "trusted": true
      },
      "cell_type": "code",
      "source": "# try to get the day of the month from the date column\nday_of_month_landslides = landslides['date'].dt.day",
      "execution_count": 13,
      "outputs": [
        {
          "output_type": "error",
          "ename": "AttributeError",
          "evalue": "Can only use .dt accessor with datetimelike values",
          "traceback": [
            "\u001b[0;31m---------------------------------------------------------------------------\u001b[0m",
            "\u001b[0;31mTypeError\u001b[0m                                 Traceback (most recent call last)",
            "\u001b[0;32m/opt/conda/lib/python3.6/site-packages/pandas/core/indexes/accessors.py\u001b[0m in \u001b[0;36m_make_accessor\u001b[0;34m(cls, data)\u001b[0m\n\u001b[1;32m    255\u001b[0m         \u001b[0;32mtry\u001b[0m\u001b[0;34m:\u001b[0m\u001b[0;34m\u001b[0m\u001b[0m\n\u001b[0;32m--> 256\u001b[0;31m             \u001b[0;32mreturn\u001b[0m \u001b[0mmaybe_to_datetimelike\u001b[0m\u001b[0;34m(\u001b[0m\u001b[0mdata\u001b[0m\u001b[0;34m)\u001b[0m\u001b[0;34m\u001b[0m\u001b[0m\n\u001b[0m\u001b[1;32m    257\u001b[0m         \u001b[0;32mexcept\u001b[0m \u001b[0mException\u001b[0m\u001b[0;34m:\u001b[0m\u001b[0;34m\u001b[0m\u001b[0m\n",
            "\u001b[0;32m/opt/conda/lib/python3.6/site-packages/pandas/core/indexes/accessors.py\u001b[0m in \u001b[0;36mmaybe_to_datetimelike\u001b[0;34m(data, copy)\u001b[0m\n\u001b[1;32m     81\u001b[0m     raise TypeError(\"cannot convert an object of type {0} to a \"\n\u001b[0;32m---> 82\u001b[0;31m                     \"datetimelike index\".format(type(data)))\n\u001b[0m\u001b[1;32m     83\u001b[0m \u001b[0;34m\u001b[0m\u001b[0m\n",
            "\u001b[0;31mTypeError\u001b[0m: cannot convert an object of type <class 'pandas.core.series.Series'> to a datetimelike index",
            "\nDuring handling of the above exception, another exception occurred:\n",
            "\u001b[0;31mAttributeError\u001b[0m                            Traceback (most recent call last)",
            "\u001b[0;32m<ipython-input-13-3d149a5c7336>\u001b[0m in \u001b[0;36m<module>\u001b[0;34m()\u001b[0m\n\u001b[1;32m      1\u001b[0m \u001b[0;31m# try to get the day of the month from the date column\u001b[0m\u001b[0;34m\u001b[0m\u001b[0;34m\u001b[0m\u001b[0m\n\u001b[0;32m----> 2\u001b[0;31m \u001b[0mday_of_month_landslides\u001b[0m \u001b[0;34m=\u001b[0m \u001b[0mlandslides\u001b[0m\u001b[0;34m[\u001b[0m\u001b[0;34m'date'\u001b[0m\u001b[0;34m]\u001b[0m\u001b[0;34m.\u001b[0m\u001b[0mdt\u001b[0m\u001b[0;34m.\u001b[0m\u001b[0mday\u001b[0m\u001b[0;34m\u001b[0m\u001b[0m\n\u001b[0m",
            "\u001b[0;32m/opt/conda/lib/python3.6/site-packages/pandas/core/generic.py\u001b[0m in \u001b[0;36m__getattr__\u001b[0;34m(self, name)\u001b[0m\n\u001b[1;32m   3608\u001b[0m         if (name in self._internal_names_set or name in self._metadata or\n\u001b[1;32m   3609\u001b[0m                 name in self._accessors):\n\u001b[0;32m-> 3610\u001b[0;31m             \u001b[0;32mreturn\u001b[0m \u001b[0mobject\u001b[0m\u001b[0;34m.\u001b[0m\u001b[0m__getattribute__\u001b[0m\u001b[0;34m(\u001b[0m\u001b[0mself\u001b[0m\u001b[0;34m,\u001b[0m \u001b[0mname\u001b[0m\u001b[0;34m)\u001b[0m\u001b[0;34m\u001b[0m\u001b[0m\n\u001b[0m\u001b[1;32m   3611\u001b[0m         \u001b[0;32melse\u001b[0m\u001b[0;34m:\u001b[0m\u001b[0;34m\u001b[0m\u001b[0m\n\u001b[1;32m   3612\u001b[0m             \u001b[0;32mif\u001b[0m \u001b[0mname\u001b[0m \u001b[0;32min\u001b[0m \u001b[0mself\u001b[0m\u001b[0;34m.\u001b[0m\u001b[0m_info_axis\u001b[0m\u001b[0;34m:\u001b[0m\u001b[0;34m\u001b[0m\u001b[0m\n",
            "\u001b[0;32m/opt/conda/lib/python3.6/site-packages/pandas/core/accessor.py\u001b[0m in \u001b[0;36m__get__\u001b[0;34m(self, instance, owner)\u001b[0m\n\u001b[1;32m     52\u001b[0m             \u001b[0;31m# this ensures that Series.str.<method> is well defined\u001b[0m\u001b[0;34m\u001b[0m\u001b[0;34m\u001b[0m\u001b[0m\n\u001b[1;32m     53\u001b[0m             \u001b[0;32mreturn\u001b[0m \u001b[0mself\u001b[0m\u001b[0;34m.\u001b[0m\u001b[0maccessor_cls\u001b[0m\u001b[0;34m\u001b[0m\u001b[0m\n\u001b[0;32m---> 54\u001b[0;31m         \u001b[0;32mreturn\u001b[0m \u001b[0mself\u001b[0m\u001b[0;34m.\u001b[0m\u001b[0mconstruct_accessor\u001b[0m\u001b[0;34m(\u001b[0m\u001b[0minstance\u001b[0m\u001b[0;34m)\u001b[0m\u001b[0;34m\u001b[0m\u001b[0m\n\u001b[0m\u001b[1;32m     55\u001b[0m \u001b[0;34m\u001b[0m\u001b[0m\n\u001b[1;32m     56\u001b[0m     \u001b[0;32mdef\u001b[0m \u001b[0m__set__\u001b[0m\u001b[0;34m(\u001b[0m\u001b[0mself\u001b[0m\u001b[0;34m,\u001b[0m \u001b[0minstance\u001b[0m\u001b[0;34m,\u001b[0m \u001b[0mvalue\u001b[0m\u001b[0;34m)\u001b[0m\u001b[0;34m:\u001b[0m\u001b[0;34m\u001b[0m\u001b[0m\n",
            "\u001b[0;32m/opt/conda/lib/python3.6/site-packages/pandas/core/indexes/accessors.py\u001b[0m in \u001b[0;36m_make_accessor\u001b[0;34m(cls, data)\u001b[0m\n\u001b[1;32m    256\u001b[0m             \u001b[0;32mreturn\u001b[0m \u001b[0mmaybe_to_datetimelike\u001b[0m\u001b[0;34m(\u001b[0m\u001b[0mdata\u001b[0m\u001b[0;34m)\u001b[0m\u001b[0;34m\u001b[0m\u001b[0m\n\u001b[1;32m    257\u001b[0m         \u001b[0;32mexcept\u001b[0m \u001b[0mException\u001b[0m\u001b[0;34m:\u001b[0m\u001b[0;34m\u001b[0m\u001b[0m\n\u001b[0;32m--> 258\u001b[0;31m             raise AttributeError(\"Can only use .dt accessor with \"\n\u001b[0m\u001b[1;32m    259\u001b[0m                                  \"datetimelike values\")\n",
            "\u001b[0;31mAttributeError\u001b[0m: Can only use .dt accessor with datetimelike values"
          ]
        }
      ]
    },
    {
      "metadata": {
        "_cell_guid": "c78aada6-c4d9-4464-894e-bdd4fabb4b13",
        "_uuid": "5847844cdd3aede3ff62bc5115f1d69c91b4af9d"
      },
      "cell_type": "markdown",
      "source": "We got an error! The important part to look at here is the part at the very end that says `AttributeError: Can only use .dt accessor with datetimelike values`. We're getting this error because the dt.day() function doesn't know how to deal with a column with the dtype \"object\". Even though our dataframe has dates in it, because they haven't been parsed we can't interact with them in a useful way.\n\nLuckily, we have a column that we parsed earlier , and that lets us get the day of the month out no problem:"
    },
    {
      "metadata": {
        "_cell_guid": "27b6422d-3a62-47ca-bb87-6e6292bed7cf",
        "collapsed": true,
        "_uuid": "e0be15da345949c990b5789e2a94f8f4e09e4cf5",
        "trusted": true
      },
      "cell_type": "code",
      "source": "# get the day of the month from the date_parsed column\nday_of_month_landslides = landslides['date_parsed'].dt.day",
      "execution_count": 14,
      "outputs": []
    },
    {
      "metadata": {
        "trusted": true,
        "_uuid": "f7af503bba74426577b0dd90c91ec19f7d9f6346"
      },
      "cell_type": "code",
      "source": "day_of_month_landslides.head()",
      "execution_count": 17,
      "outputs": [
        {
          "output_type": "execute_result",
          "execution_count": 17,
          "data": {
            "text/plain": "0     2.0\n1    22.0\n2     6.0\n3    14.0\n4    15.0\nName: date_parsed, dtype: float64"
          },
          "metadata": {}
        }
      ]
    },
    {
      "metadata": {
        "_cell_guid": "aa3c05ea-f6d1-453f-86dc-c2fd9f8b3fd6",
        "collapsed": true,
        "_uuid": "ffe9bfc0acef502b995aa61ee1c5d2e4a59a5e4e",
        "trusted": true
      },
      "cell_type": "code",
      "source": "# Your turn! get the day of the month from the date_parsed column\nmonth_of_landslides = landslides['date_parsed'].dt.month",
      "execution_count": 18,
      "outputs": []
    },
    {
      "metadata": {
        "_cell_guid": "fe33df7d-c85d-4b61-b572-5682e6eea81b",
        "_uuid": "a2cec7b480ef13c070d40ca0e0763d2d30a86a9c"
      },
      "cell_type": "markdown",
      "source": "# Plot the day of the month to check the date parsing\n___\n\nOne of the biggest dangers in parsing dates is mixing up the months and days. The to_datetime() function does have very helpful error messages, but it doesn't hurt to double-check that the days of the month we've extracted make sense. \n\nTo do this, let's plot a histogram of the days of the month. We expect it to have values between 1 and 31 and, since there's no reason to suppose the landslides are more common on some days of the month than others, a relatively even distribution. (With a dip on 31 because not all months have 31 days.) Let's see if that's the case:"
    },
    {
      "metadata": {
        "_cell_guid": "49feb18f-c077-474e-9353-a24ae850acf6",
        "_uuid": "d3d5a143d3d49e10187e420abfe9cfe18c7bac56",
        "trusted": true
      },
      "cell_type": "code",
      "source": "# remove na's\nday_of_month_landslides = day_of_month_landslides.dropna()\n\n# plot the day of the month\nsns.distplot(day_of_month_landslides, kde=False, bins=31)",
      "execution_count": 19,
      "outputs": [
        {
          "output_type": "execute_result",
          "execution_count": 19,
          "data": {
            "text/plain": "<matplotlib.axes._subplots.AxesSubplot at 0x7fc52c040828>"
          },
          "metadata": {}
        },
        {
          "output_type": "display_data",
          "data": {
            "text/plain": "<matplotlib.figure.Figure at 0x7fc52c04f7f0>",
            "image/png": "[encoded data removed]"
          },
          "metadata": {}
        }
      ]
    },
    {
      "metadata": {
        "_cell_guid": "c8c706a4-2697-4520-b0dd-86fc6fb80326",
        "_uuid": "90016c3e93eb8499d9efe2ece32fb5b70dcbd2ae"
      },
      "cell_type": "markdown",
      "source": "Yep, it looks like we did parse our dates correctly & this graph makes good sense to me. Why don't you take a turn checking the dates you parsed earlier?"
    },
    {
      "metadata": {
        "_cell_guid": "7b5a7571-2ee3-4aad-94e9-ba47b06e6a29",
        "_uuid": "f2b79871c730f32f5ef1889912b7a8623eccf98f",
        "trusted": true
      },
      "cell_type": "code",
      "source": "# Your turn! Plot the days of the month from your\n# earthquake dataset and make sure they make sense.\nmonth_of_month_landslides_dropna = month_of_landslides.dropna()\nsns.distplot(month_of_month_landslides_dropna, kde=False, bins=12)",
      "execution_count": 20,
      "outputs": [
        {
          "output_type": "execute_result",
          "execution_count": 20,
          "data": {
            "text/plain": "<matplotlib.axes._subplots.AxesSubplot at 0x7fc52bf987f0>"
          },
          "metadata": {}
        },
        {
          "output_type": "display_data",
          "data": {
            "text/plain": "<matplotlib.figure.Figure at 0x7fc52befaa58>",
            "image/png": "[encoded data removed]"
          },
          "metadata": {}
        }
      ]
    },
    {
      "metadata": {
        "_cell_guid": "b4f37fce-4d08-409e-bbbd-6a26c3bbc6ee",
        "_uuid": "52b0af56e3c77db96056e9acd785f8f435f7caf5"
      },
      "cell_type": "markdown",
      "source": "And that's it for today! If you have any questions, be sure to post them in the comments below or [on the forums](https://www.kaggle.com/questions-and-answers). \n\nRemember that your notebook is private by default, and in order to share it with other people or ask for help with it, you'll need to make it public. First, you'll need to save a version of your notebook that shows your current work by hitting the \"Commit & Run\" button. (Your work is saved automatically, but versioning your work lets you go back and look at what it was like at the point you saved it. It also lets you share a nice compiled notebook instead of just the raw code.) Then, once your notebook is finished running, you can go to the Settings tab in the panel to the left (you may have to expand it by hitting the [<] button next to the \"Commit & Run\" button) and setting the \"Visibility\" dropdown to \"Public\".\n\n# More practice!\n___\n\nIf you're interested in graphing time series, [check out this Learn tutorial](https://www.kaggle.com/residentmario/time-series-plotting-optional).\n\nYou can also look into passing columns that you know have dates in them  the `parse_dates` argument in `read_csv`. (The documention [is here](https://pandas.pydata.org/pandas-docs/stable/generated/pandas.read_csv.html).) Do note that this method can be very slow, but depending on your needs it may sometimes be handy to use.\n\nFor an extra challenge, you can try try parsing the column `Last Known Eruption` from the `volcanos` dataframe. This column contains a mixture of text (\"Unknown\") and years both before the common era (BCE, also known as BC) and in the common era (CE, also known as AD)."
    },
    {
      "metadata": {
        "_cell_guid": "dd64bc7c-c361-44d3-9f02-f7f8a2cb8430",
        "_uuid": "0027b29db32dc34294f713c345747a37d89cfd26",
        "trusted": true
      },
      "cell_type": "code",
      "source": "volcanos['Last Known Eruption'].sample(5)",
      "execution_count": 21,
      "outputs": [
        {
          "output_type": "execute_result",
          "execution_count": 21,
          "data": {
            "text/plain": "764     Unknown\n1069    1996 CE\n34      1855 CE\n489     2016 CE\n9       1302 CE\nName: Last Known Eruption, dtype: object"
          },
          "metadata": {}
        }
      ]
    },
    {
      "metadata": {
        "trusted": true,
        "_uuid": "5c156ab5c05d5e966e7ef9ee03916825e32a654a"
      },
      "cell_type": "code",
      "source": "volcanos.columns",
      "execution_count": 24,
      "outputs": [
        {
          "output_type": "execute_result",
          "execution_count": 24,
          "data": {
            "text/plain": "Index(['Number', 'Name', 'Country', 'Region', 'Type', 'Activity Evidence',\n       'Last Known Eruption', 'Latitude', 'Longitude', 'Elevation (Meters)',\n       'Dominant Rock Type', 'Tectonic Setting'],\n      dtype='object')"
          },
          "metadata": {}
        }
      ]
    },
    {
      "metadata": {
        "trusted": true,
        "collapsed": true,
        "_uuid": "dc01a7c668e9dea17fc6fb3d131d550323fe6303"
      },
      "cell_type": "code",
      "source": "def div_last_known_erupt_year(lke_value):\n    \n    if lke_value == 'Unknown':\n        return 'Unknown'\n    \n    return lke_value.split(' ')[0]\n    \ndef div_last_known_erupt_era(lke_value):\n    \n    if lke_value == 'Unknown':\n        return 'Unknown'\n    \n    return lke_value.split(' ')[1]\n    \nvolcanos['Last Known Eruption Year'] = volcanos['Last Known Eruption'].apply(div_last_known_erupt_year)\nvolcanos['Last Known Eruption Era'] = volcanos['Last Known Eruption'].apply(div_last_known_erupt_era)",
      "execution_count": 25,
      "outputs": []
    },
    {
      "metadata": {
        "trusted": true,
        "_uuid": "84883f1ac22e024b28506ef4dbee1762c4215207"
      },
      "cell_type": "code",
      "source": "volcanos.head()",
      "execution_count": 26,
      "outputs": [
        {
          "output_type": "execute_result",
          "execution_count": 26,
          "data": {
            "text/plain": "   Number                       Name  Country                          Region  \\\n0  210010  West Eifel Volcanic Field  Germany  Mediterranean and Western Asia   \n1  210020            Chaine des Puys   France  Mediterranean and Western Asia   \n2  210030        Olot Volcanic Field    Spain  Mediterranean and Western Asia   \n3  210040   Calatrava Volcanic Field    Spain  Mediterranean and Western Asia   \n4  211001                 Larderello    Italy  Mediterranean and Western Asia   \n\n                  Type  Activity Evidence Last Known Eruption  Latitude  \\\n0              Maar(s)     Eruption Dated            8300 BCE    50.170   \n1         Lava dome(s)     Eruption Dated            4040 BCE    45.775   \n2  Pyroclastic cone(s)  Evidence Credible             Unknown    42.170   \n3  Pyroclastic cone(s)     Eruption Dated            3600 BCE    38.870   \n4  Explosion crater(s)  Eruption Observed             1282 CE    43.250   \n\n   Longitude  Elevation (Meters)                Dominant Rock Type  \\\n0       6.85                 600                           Foidite   \n1       2.97                1464             Basalt / Picro-Basalt   \n2       2.53                 893  Trachybasalt / Tephrite Basanite   \n3      -4.02                1117             Basalt / Picro-Basalt   \n4      10.87                 500                           No Data   \n\n                               Tectonic Setting Last Known Eruption Year  \\\n0        Rift Zone / Continental Crust (>25 km)                     8300   \n1        Rift Zone / Continental Crust (>25 km)                     4040   \n2       Intraplate / Continental Crust (>25 km)                  Unknown   \n3       Intraplate / Continental Crust (>25 km)                     3600   \n4  Subduction Zone / Continental Crust (>25 km)                     1282   \n\n  Last Known Eruption Era  \n0                     BCE  \n1                     BCE  \n2                 Unknown  \n3                     BCE  \n4                      CE  ",
            "text/html": "<div>\n<style scoped>\n    .dataframe tbody tr th:only-of-type {\n        vertical-align: middle;\n    }\n\n    .dataframe tbody tr th {\n        vertical-align: top;\n    }\n\n    .dataframe thead th {\n        text-align: right;\n    }\n</style>\n<table border=\"1\" class=\"dataframe\">\n  <thead>\n    <tr style=\"text-align: right;\">\n      <th></th>\n      <th>Number</th>\n      <th>Name</th>\n      <th>Country</th>\n      <th>Region</th>\n      <th>Type</th>\n      <th>Activity Evidence</th>\n      <th>Last Known Eruption</th>\n      <th>Latitude</th>\n      <th>Longitude</th>\n      <th>Elevation (Meters)</th>\n      <th>Dominant Rock Type</th>\n      <th>Tectonic Setting</th>\n      <th>Last Known Eruption Year</th>\n      <th>Last Known Eruption Era</th>\n    </tr>\n  </thead>\n  <tbody>\n    <tr>\n      <th>0</th>\n      <td>210010</td>\n      <td>West Eifel Volcanic Field</td>\n      <td>Germany</td>\n      <td>Mediterranean and Western Asia</td>\n      <td>Maar(s)</td>\n      <td>Eruption Dated</td>\n      <td>8300 BCE</td>\n      <td>50.170</td>\n      <td>6.85</td>\n      <td>600</td>\n      <td>Foidite</td>\n      <td>Rift Zone / Continental Crust (&gt;25 km)</td>\n      <td>8300</td>\n      <td>BCE</td>\n    </tr>\n    <tr>\n      <th>1</th>\n      <td>210020</td>\n      <td>Chaine des Puys</td>\n      <td>France</td>\n      <td>Mediterranean and Western Asia</td>\n      <td>Lava dome(s)</td>\n      <td>Eruption Dated</td>\n      <td>4040 BCE</td>\n      <td>45.775</td>\n      <td>2.97</td>\n      <td>1464</td>\n      <td>Basalt / Picro-Basalt</td>\n      <td>Rift Zone / Continental Crust (&gt;25 km)</td>\n      <td>4040</td>\n      <td>BCE</td>\n    </tr>\n    <tr>\n      <th>2</th>\n      <td>210030</td>\n      <td>Olot Volcanic Field</td>\n      <td>Spain</td>\n      <td>Mediterranean and Western Asia</td>\n      <td>Pyroclastic cone(s)</td>\n      <td>Evidence Credible</td>\n      <td>Unknown</td>\n      <td>42.170</td>\n      <td>2.53</td>\n      <td>893</td>\n      <td>Trachybasalt / Tephrite Basanite</td>\n      <td>Intraplate / Continental Crust (&gt;25 km)</td>\n      <td>Unknown</td>\n      <td>Unknown</td>\n    </tr>\n    <tr>\n      <th>3</th>\n      <td>210040</td>\n      <td>Calatrava Volcanic Field</td>\n      <td>Spain</td>\n      <td>Mediterranean and Western Asia</td>\n      <td>Pyroclastic cone(s)</td>\n      <td>Eruption Dated</td>\n      <td>3600 BCE</td>\n      <td>38.870</td>\n      <td>-4.02</td>\n      <td>1117</td>\n      <td>Basalt / Picro-Basalt</td>\n      <td>Intraplate / Continental Crust (&gt;25 km)</td>\n      <td>3600</td>\n      <td>BCE</td>\n    </tr>\n    <tr>\n      <th>4</th>\n      <td>211001</td>\n      <td>Larderello</td>\n      <td>Italy</td>\n      <td>Mediterranean and Western Asia</td>\n      <td>Explosion crater(s)</td>\n      <td>Eruption Observed</td>\n      <td>1282 CE</td>\n      <td>43.250</td>\n      <td>10.87</td>\n      <td>500</td>\n      <td>No Data</td>\n      <td>Subduction Zone / Continental Crust (&gt;25 km)</td>\n      <td>1282</td>\n      <td>CE</td>\n    </tr>\n  </tbody>\n</table>\n</div>"
          },
          "metadata": {}
        }
      ]
    },
    {
      "metadata": {
        "trusted": true,
        "collapsed": true,
        "_uuid": "4ba2a2fc0a277dd95c234a600189ad72f0cfc8ce"
      },
      "cell_type": "code",
      "source": "",
      "execution_count": null,
      "outputs": []
    }
  ],
  "metadata": {
    "kernelspec": {
      "display_name": "Python 3",
      "language": "python",
      "name": "python3"
    },
    "language_info": {
      "name": "python",
      "version": "3.6.4",
      "mimetype": "text/x-python",
      "codemirror_mode": {
        "name": "ipython",
        "version": 3
      },
      "pygments_lexer": "ipython3",
      "nbconvert_exporter": "python",
      "file_extension": ".py"
    }
  },
  "nbformat": 4,
  "nbformat_minor": 1
}