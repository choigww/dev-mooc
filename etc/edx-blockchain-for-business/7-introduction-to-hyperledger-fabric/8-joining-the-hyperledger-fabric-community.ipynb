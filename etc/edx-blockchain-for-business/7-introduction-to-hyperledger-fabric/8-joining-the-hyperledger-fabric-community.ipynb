{
 "cells": [
  {
   "cell_type": "markdown",
   "metadata": {},
   "source": [
    "# Joining the Hyperledger Fabric Community"
   ]
  },
  {
   "cell_type": "code",
   "execution_count": null,
   "metadata": {},
   "outputs": [],
   "source": []
  },
  {
   "cell_type": "markdown",
   "metadata": {},
   "source": [
    "## Becoming Involved with the Hyperledger Fabric Project\n",
    "\n",
    "Hyperledger Fabric is an open source project, where ideas and code can be publicly discussed, created, and reviewed. There are many ways to join the Hyperledger Fabric community. Next, we will highlight some of the ways to get involved, either from a technical standpoint, or from an ideas/issues creation perspective."
   ]
  },
  {
   "cell_type": "code",
   "execution_count": null,
   "metadata": {},
   "outputs": [],
   "source": []
  },
  {
   "cell_type": "markdown",
   "metadata": {},
   "source": [
    "## The Futre of Hyperledger Fabric\n",
    "### Chris Ferris\n",
    "\n",
    "* [VIDEO](https://youtu.be/SAhiVfOa6tA)"
   ]
  },
  {
   "cell_type": "code",
   "execution_count": null,
   "metadata": {},
   "outputs": [],
   "source": []
  },
  {
   "cell_type": "markdown",
   "metadata": {},
   "source": [
    "## Community Meetings and Mailing Lists\n",
    "\n",
    "You can join the the weekly meeting on Fabric Documentation, or other Hyperledger Fabric-related meetings. The [Hyperledger Community Meetings Calendar](https://calendar.google.com/calendar/embed?src=linuxfoundation.org_nf9u64g9k9rvd9f8vp4vur23b0%40group.calendar.google.com&ctz=America/SanFrancisco) is a great resource to learn the timing for these meetings.<br>\n",
    "\n",
    "You can join the Hyperledger Fabric mailing lists for technical discussions and announcements:\n",
    "* https://lists.hyperledger.org/mailman/listinfo/hyperledger-fabric."
   ]
  },
  {
   "cell_type": "code",
   "execution_count": null,
   "metadata": {},
   "outputs": [],
   "source": []
  },
  {
   "cell_type": "markdown",
   "metadata": {},
   "source": [
    "## JIRA and Gerrit\n",
    "\n",
    "If you have a bug to report, you can submit an issue using JIRA (you must have a Linux Foundation ID to access JIRA):\n",
    "* https://jira.hyperledger.org/secure/Dashboard.jspa?selectPageId=10104. \n",
    "\n",
    "You can also find and review a list of existing issues, and can pick one that interests you and start working on it:\n",
    "* https://jira.hyperledger.org/browse/FAB-5491?filter=10580. \n",
    "\n",
    "You can learn how to use the JIRA documentation at https://wiki.hyperledger.org/community/jira-navigation.<br>\n",
    "\n",
    "Gerrit is used for submitting PRs and managing code reviews and checkins. All code is forkable and viewable: \n",
    "* https://gerrit.hyperledger.org/r/#/admin/projects/. \n",
    "\n",
    "You can get a primer on working with Gerrit at https://hyperledger-fabric.readthedocs.io/en/latest/Gerrit/gerrit.html."
   ]
  },
  {
   "cell_type": "code",
   "execution_count": null,
   "metadata": {},
   "outputs": [],
   "source": []
  },
  {
   "cell_type": "markdown",
   "metadata": {},
   "source": [
    "## Rocket.Chat\n",
    "\n",
    "You can join the live conversations on Rocket.Chat (which is an alternative to Slack), using your Linux Foundation ID:\n",
    "* https://chat.hyperledger.org/home. \n",
    "\n",
    "There are over 24 channels specific to the Hyperledger Fabric project. The #fabric channel is used to discuss the Hyperlerdger Fabric project. You can find a guide for these channels here: \n",
    "* https://wiki.hyperledger.org/community/chat_channels.\n"
   ]
  },
  {
   "cell_type": "code",
   "execution_count": null,
   "metadata": {},
   "outputs": [],
   "source": []
  }
 ],
 "metadata": {
  "kernelspec": {
   "display_name": "Python 3",
   "language": "python",
   "name": "python3"
  },
  "language_info": {
   "codemirror_mode": {
    "name": "ipython",
    "version": 3
   },
   "file_extension": ".py",
   "mimetype": "text/x-python",
   "name": "python",
   "nbconvert_exporter": "python",
   "pygments_lexer": "ipython3",
   "version": "3.6.2"
  }
 },
 "nbformat": 4,
 "nbformat_minor": 2
}
