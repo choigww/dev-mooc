{
 "cells": [
  {
   "cell_type": "markdown",
   "metadata": {},
   "source": [
    "# Installing Hyperledger Fabric"
   ]
  },
  {
   "cell_type": "code",
   "execution_count": null,
   "metadata": {},
   "outputs": [],
   "source": []
  },
  {
   "cell_type": "markdown",
   "metadata": {},
   "source": [
    "## Technical Prerequisites\n",
    "\n",
    "In order to successfully install Hyperledger Fabric, you should be familiar with Go and Node.js programming languages, and have the following features installed on your computer: **cURL, Node.js, npm package manager, Go language, Docker, and Docker Compose**.<br>\n",
    "\n",
    "If you need further details on these prerequisites, visit Chapter 4, Technical Requirements."
   ]
  },
  {
   "cell_type": "code",
   "execution_count": null,
   "metadata": {},
   "outputs": [],
   "source": []
  },
  {
   "cell_type": "markdown",
   "metadata": {},
   "source": [
    "## Installing Hyperledger Fabric Docker Images and Binaries\n",
    "\n",
    "Next, we will download the **latest** released Docker images for Hyperledger Fabric, and tag them with the latest tag. Execute the command from within the directory into which you will extract the platform-specific binaries:<br>\n",
    "\n",
    "```\n",
    "$ curl -sSL https://goo.gl/Q3YRTi | bash\n",
    "```\n",
    "\n",
    "* **Note**: Check https://hyperledger-fabric.readthedocs.io/en/latest/samples.html#binaries for the latest URL (the blue portion in the above curl command) to pull in binaries.\n",
    "\n",
    "This command downloads binaries for **cryptogen, configtxgen, configxlator, peer** AND downloads the Hyperledger Fabric Docker images. These assets are placed in a **bin** subdirectory of the current working directory.<br>\n",
    "\n",
    "To confirm and see the list of Docker images you’ve just downloaded, run:\n",
    "\n",
    "```\n",
    "$ docker images\n",
    "```\n",
    "\n",
    "The expected response is:\n",
    "\n",
    "![docker-images](https://prod-edxapp.edx-cdn.org/assets/courseware/v1/ca726400444f52edbc3e54278077f8dd/asset-v1:LinuxFoundationX+LFS171x+3T2017+type@asset+block/Fabric_installation_1.jpg)\n",
    "* **Note** the tags for each of the repositories above boxed in red. If the Docker images are not already **tagged** with the latest tag, perform the following command for each of the Docker images:\n",
    "\n",
    "`$ docker tag hyperledger/`<font color='red'>fabric-tools</font>`:`<font color='blue'>x86_64-1.0.2</font> \n",
    "hyperledger/fabric-tools:latest\n",
    "<br>\n",
    "Swap out the <font color='blue'>blue portion</font> with the tags you see in your list of repositories. Also, swap out the <font color='red'>red portion</font> with the name of the Docker image you are switching the tag for (e.g.: **fabric-tools, fabric-ccenv, fabric-orderer**, etc.). Repeat this step for all Docker images you see in the list.<br>\n",
    "\n",
    "In the screenshot above, the Docker images are already tagged. If this is the case for you, you do not need to do this extra step."
   ]
  },
  {
   "cell_type": "code",
   "execution_count": null,
   "metadata": {},
   "outputs": [],
   "source": []
  },
  {
   "cell_type": "markdown",
   "metadata": {},
   "source": [
    "## Installing Hyperledger Fabric\n",
    "\n",
    "As an additional measure, you may want to add the **bin** subdirectory to your **PATH** environment variable, so these can be picked up without needing to qualify the **PATH** to each binary. You can do this by running the following:\n",
    "\n",
    "```\n",
    "$ export PATH=$PWD/bin:$PATH\n",
    "```\n",
    "\n",
    "To install the Hyperledger Fabric sample code which will be used in the tutorials, do:\n",
    "\n",
    "```\n",
    "$ git clone https://github.com/hyperledger/fabric-samples.git\n",
    "$ cd fabric-samples/first-network\n",
    "```"
   ]
  },
  {
   "cell_type": "code",
   "execution_count": null,
   "metadata": {},
   "outputs": [],
   "source": []
  },
  {
   "cell_type": "markdown",
   "metadata": {},
   "source": [
    "## Starting a Test Hyperledger Fabric Network\n",
    "\n",
    "Now that we have successfully installed Hyperledger Fabric, we can walk through setting up a simple network that has two members. To refer back to our demonstrated scenario, the network includes asset management of each tuna verified, transferred, and purchased between Sarah, the fisherman, and Miriam, the restaurateur. We’ll create a simple two member network consisting of two organizations (effectively, Sarah and Miriam), each maintaining two peers and an ordering service.<br>\n",
    "\n",
    "We will use Docker images to bootstrap our first Hyperledger Fabric network. It will also launch a container to run a scripted execution that will join peers to a channel, deploy, and instantiate the chaincode, and execute transactions against the chaincode."
   ]
  },
  {
   "cell_type": "code",
   "execution_count": null,
   "metadata": {},
   "outputs": [],
   "source": []
  },
  {
   "cell_type": "markdown",
   "metadata": {},
   "source": [
    "## Getting Started with Your First Nework\n",
    "\n",
    "Are you ready to get started? Run this command ( within the **first-network** folder ): \n",
    "\n",
    "```\n",
    "$ ./byfn.sh -m generate\n",
    "```\n",
    "\n",
    "A brief description will appear, along with a **Y/N** command line prompt. Respond with a **Y <Enter>** to continue.<br>\n",
    "\n",
    "This step generates all of the certificates and keys for all our various network entities, including the genesis block used to bootstrap the ordering service and a collection of configuration transactions required to create a channel.\n",
    "\n",
    "Next, you can start the network with the following command:\n",
    "\n",
    "```\n",
    "$ ./byfn.sh -m up\n",
    "```\n",
    "\n",
    "Another command line will appear, reply with **Y <Enter>** to continue.<br>\n",
    "\n",
    "Logs will appear in the command line, showing containers being launched, channels being created and joined, chaincode being installed, instantiated, and invoked on all the peers, as well as various transaction logs.\n",
    "\n",
    "#### Troubleshooting Note: \n",
    "If you have difficulties with the two previous commands and you suspect that your Docker images may be at fault, you can start back from scratch, which will **delete and untag the Docker images**.\n",
    "\n",
    "```\n",
    "$ docker rmi -f $(docker images -q)\n",
    "```\n",
    "\n",
    "Once you run this command, return to the Installing Hyperledger Fabric Docker Images and Binaries page, at the beginning of this section."
   ]
  },
  {
   "cell_type": "code",
   "execution_count": null,
   "metadata": {},
   "outputs": [],
   "source": []
  },
  {
   "cell_type": "markdown",
   "metadata": {},
   "source": [
    "## Finishing Up and Shutting Down the Network\n",
    "\n",
    "Finally, let’s test bringing down this network. Within the same terminal, do Control+C to exit the current execution.<br>\n",
    "\n",
    "Then, run the following command:\n",
    "\n",
    "```\n",
    "$ ./byfn.sh -m down\n",
    "```\n",
    "\n",
    "Another command line will appear, reply with **`Y <Enter>`** to continue.<br>\n",
    "\n",
    "This command will kill your containers, remove the crypto material and four artifacts, and delete the chaincode images from your Docker Registry.<br>\n",
    "\n",
    "And that’s it for a simple demonstration!<br>\n",
    "\n",
    "These simple steps show how we can easily spin up and bring down a Hyperledger Fabric network, given the code we have. In the next section, we will learn more about chaincode."
   ]
  },
  {
   "cell_type": "code",
   "execution_count": null,
   "metadata": {},
   "outputs": [],
   "source": []
  },
  {
   "cell_type": "markdown",
   "metadata": {},
   "source": [
    "## Installing Hyperledger Fabric (Demo)\n",
    "\n",
    "* [VIDEO](https://youtu.be/eM6HIOpexGE)"
   ]
  },
  {
   "cell_type": "code",
   "execution_count": null,
   "metadata": {},
   "outputs": [],
   "source": []
  }
 ],
 "metadata": {
  "kernelspec": {
   "display_name": "Python 3",
   "language": "python",
   "name": "python3"
  },
  "language_info": {
   "codemirror_mode": {
    "name": "ipython",
    "version": 3
   },
   "file_extension": ".py",
   "mimetype": "text/x-python",
   "name": "python",
   "nbconvert_exporter": "python",
   "pygments_lexer": "ipython3",
   "version": "3.6.2"
  }
 },
 "nbformat": 4,
 "nbformat_minor": 2
}
