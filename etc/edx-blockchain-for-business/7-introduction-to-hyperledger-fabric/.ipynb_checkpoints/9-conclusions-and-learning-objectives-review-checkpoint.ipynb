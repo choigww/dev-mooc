{
 "cells": [
  {
   "cell_type": "markdown",
   "metadata": {},
   "source": [
    "# Conclusions & Learning Objectives\n",
    "### (Review)"
   ]
  },
  {
   "cell_type": "code",
   "execution_count": null,
   "metadata": {},
   "outputs": [],
   "source": []
  },
  {
   "cell_type": "markdown",
   "metadata": {},
   "source": [
    "## Learning Objectivesn (Review)\n",
    "\n",
    "You should now be able to:\n",
    "* Understand the basics of Hyperledger Fabric v1.0.\n",
    "* Walk through and analyze a demonstrated scenario on Hyperledger Fabric.\n",
    "* Discuss crucial components of the Hyperledger Fabric architecture, including clients, peers, ordering service and membership service provider.\n",
    "* Set up a sample network and simple application with a Javascript SDK.\n",
    "* Discuss Chaincode (Hyperledger Fabric smart contract) and review an example.\n",
    "* Get involved in the framework discussion and development."
   ]
  },
  {
   "cell_type": "code",
   "execution_count": null,
   "metadata": {},
   "outputs": [],
   "source": []
  },
  {
   "cell_type": "markdown",
   "metadata": {},
   "source": [
    "## Conclusions\n",
    "### Alexandra Groetsema\n",
    "\n",
    "* [VIDEO](https://youtu.be/G_WUi0FElGw)"
   ]
  },
  {
   "cell_type": "code",
   "execution_count": null,
   "metadata": {},
   "outputs": [],
   "source": []
  }
 ],
 "metadata": {
  "kernelspec": {
   "display_name": "Python 3",
   "language": "python",
   "name": "python3"
  },
  "language_info": {
   "codemirror_mode": {
    "name": "ipython",
    "version": 3
   },
   "file_extension": ".py",
   "mimetype": "text/x-python",
   "name": "python",
   "nbconvert_exporter": "python",
   "pygments_lexer": "ipython3",
   "version": "3.6.2"
  }
 },
 "nbformat": 4,
 "nbformat_minor": 2
}
