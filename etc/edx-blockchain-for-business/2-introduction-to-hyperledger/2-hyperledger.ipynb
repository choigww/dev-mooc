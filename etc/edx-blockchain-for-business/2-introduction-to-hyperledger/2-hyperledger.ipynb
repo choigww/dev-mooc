{
 "cells": [
  {
   "cell_type": "markdown",
   "metadata": {},
   "source": [
    "# Hyperledger"
   ]
  },
  {
   "cell_type": "code",
   "execution_count": null,
   "metadata": {
    "collapsed": true
   },
   "outputs": [],
   "source": []
  },
  {
   "cell_type": "markdown",
   "metadata": {},
   "source": [
    "## Hyperledger (Navroop Sahdev)\n",
    "\n",
    "https://youtu.be/sE5eMx7TTWM"
   ]
  },
  {
   "cell_type": "code",
   "execution_count": null,
   "metadata": {
    "collapsed": true
   },
   "outputs": [],
   "source": []
  },
  {
   "cell_type": "markdown",
   "metadata": {},
   "source": [
    "## Hyperledger\n",
    "\n",
    "Hyperledger is a group of open source projects focused around cross-industry distributed ledger technologies. Hosted by The Linux Foundation, collaborators include industry leaders in technology, finance, banking, supply chain management, manufacturing, and IoT.<br>\n",
    "\n",
    "As of October 2017, Hyperledger consists of eight projects, five of which are distributed ledger frameworks. The other three projects are modules that support these frameworks.\n",
    "\n",
    "![https://prod-edxapp.edx-cdn.org/assets/courseware/v1/7adde90b7e1bca2dd7ac50e437291be0/asset-v1:LinuxFoundationX+LFS171x+3T2017+type@asset+block/modular_umbrella.jpg](https://prod-edxapp.edx-cdn.org/assets/courseware/v1/7adde90b7e1bca2dd7ac50e437291be0/asset-v1:LinuxFoundationX+LFS171x+3T2017+type@asset+block/modular_umbrella.jpg)\n",
    "\n",
    "As [Arnaud Le Hors](https://www.hyperledger.org/blog/2017/09/12/3431), member of the Hyperledger Technical Steering Committee, emphasized,\n",
    "\n",
    "> \"these projects show how broadly applicable blockchain technology really is. This goes way beyond cryptocurrencies\".\n",
    "\n",
    "[Hyperledger](https://www.hyperledger.org/about) provides an alternative to the cryptocurrency-based blockchain model, and focuses on developing blockchain frameworks and modules to support global enterprise solutions. The focus of Hyperledger is to provide a transparent and collaborative approach to blockchain development."
   ]
  },
  {
   "cell_type": "code",
   "execution_count": null,
   "metadata": {
    "collapsed": true
   },
   "outputs": [],
   "source": []
  },
  {
   "cell_type": "markdown",
   "metadata": {},
   "source": [
    "## The Birth of Hyperledger (Brian Behlendorf)\n",
    "\n",
    "https://youtu.be/iNVT2Pdy--k\n",
    "\n",
    "> \"So, some conversations got started, and there was a sense that what was interesting about this space wasn't so much the cryptocurrencies, and, you know, the make-money-fast kind of mentality, but **the underlying distributed ledger and smart contract technology platforms**, right?\""
   ]
  },
  {
   "cell_type": "code",
   "execution_count": null,
   "metadata": {
    "collapsed": true
   },
   "outputs": [],
   "source": []
  },
  {
   "cell_type": "markdown",
   "metadata": {},
   "source": [
    "## Comparing Hyperledger with Bitcoin and Ethereum\n",
    "\n",
    "The following table explores the differences between Hyperledger's permissioned distributed ledgers and the Bitcoin and Ethereum permissionless blockchains. If you are considering blockchain solutions for your business requirements, it is important to pay attention to all these elements and weigh in on those that are most important for your use case.\n",
    "\n",
    "|Bitcoin|Ethereum|Hyperledger Frameworks\n",
    "---|---|---|---\n",
    "**Cryptocurrency based**|Yes|Yes|No\n",
    "**Permissioned**|No|No|Yes(in general)\\*\n",
    "**Pseudo-anonymous**|Yes|No|No\n",
    "**Auditable**|Yes|Yes|Yes\n",
    "**Immutable ledger**|Yes|Yes|Yes\n",
    "**Modularity**|No|No|Yes\n",
    "**Smart contracts**|No|Yes|Yes\n",
    "**Consensus protocol**|PoW|PoW|Various\\*\\*\n",
    "\n",
    "\\*Sawtooth can be configured to be permissionless<br>\n",
    "\\*\\* Key Hyperledger consensus protocols are Apache Kafka in Hyperledger Fabric, PoET in Hyperledger Sawtooth, RBFT in Hyperledger Indy, Tendermint in Hyperledger Burrow, and Yet Another Consensus (YAC) in Hyperledger Iroha. For more details, see the [Hyperledger Architecture, Volume 1](https://www.hyperledger.org/wp-content/uploads/2017/08/HyperLedger_Arch_WG_Paper_1_Consensus.pdf) paper.\n"
   ]
  },
  {
   "cell_type": "code",
   "execution_count": null,
   "metadata": {
    "collapsed": true
   },
   "outputs": [],
   "source": []
  },
  {
   "cell_type": "markdown",
   "metadata": {},
   "source": [
    "## Hyperledger Goals\n",
    "\n",
    "Hyperledger has taken a leadership role to develop cross-industry standards and provide a neutral space for software collaboration. The financial services industry, in particular, is witnessing an unprecedented level of collaboration between institutions that have traditionally been competitors. The advent of a new foundational or infrastructural technology like the blockchain - much like the Internet - requires collaboration of various actors in order to realize the full benefits of the technology. Unless all actors use a certain standard, the pace of technological dissemination will continue to be slow. Technological adoption is characterized by network effects, where the costs decrease with the increase in use of a certain technology. Since shifting to distributed ledger technology involves significant costs, open source software, communities and ecosystems that develop around these have a significant part to play.\n",
    "\n",
    " ![https://prod-edxapp.edx-cdn.org/assets/courseware/v1/91890fc035a1199d4480f76b6fc743eb/asset-v1:LinuxFoundationX+LFS171x+3T2017+type@asset+block/Hyperledger_Goals.jpg](https://prod-edxapp.edx-cdn.org/assets/courseware/v1/91890fc035a1199d4480f76b6fc743eb/asset-v1:LinuxFoundationX+LFS171x+3T2017+type@asset+block/Hyperledger_Goals.jpg)"
   ]
  },
  {
   "cell_type": "code",
   "execution_count": null,
   "metadata": {
    "collapsed": true
   },
   "outputs": [],
   "source": []
  },
  {
   "cell_type": "markdown",
   "metadata": {},
   "source": [
    "## Open Standards\n",
    "\n",
    "> \"Only an Open Source, collaborative software development approach can ensure the transparency, longevity, interoperability and support required to bring blockchain technologies forward to mainstream commercial adoption. That is what Hyperledger is about - communities of software developers building blockchain frameworks and platforms.\"\n",
    "\\- [hyperledger.org](https://www.hyperledger.org/about) \n",
    "\n",
    "As we learned in Chapter 1: Discovering Blockchain Technologies, **the non-availability of standards in distributed ledger technologies is one of the major hurdles in scaling them**. One of Hyperledger's key goals is to facilitate the process of standards formation, not by promoting its own distributed ledger(s), but **by providing a space for a variety of standards to co-exist simultaneously**:\n",
    "\n",
    "> \"Rather than declaring a single blockchain standard, it encourages a collaborative approach to developing blockchain technologies via a community process, with intellectual property rights that encourage open development and the adoption of key standards over time.\"\n",
    "\\- [hyperledger-fabric.readthedocs.io](https://hyperledger-fabric.readthedocs.io/en/latest/)\n",
    "\n",
    "Hyperledger aims to adhere to '**open standards**', which means they are\n",
    "\n",
    "> \"(...) interoperable through open published interfaces and services.\"\n",
    "\\- John Palfreyman, [ibm.com](https://www.ibm.com/blogs/insights-on-business/government/open-innovation-blockchain-hyperledger/)"
   ]
  },
  {
   "cell_type": "code",
   "execution_count": null,
   "metadata": {
    "collapsed": true
   },
   "outputs": [],
   "source": []
  },
  {
   "cell_type": "markdown",
   "metadata": {},
   "source": [
    "## The Importance of Open Source (Brian Behlendorf)\n",
    "\n",
    "https://youtu.be/BX1o-N9ggHI\n",
    "\n",
    "> \"Hyperledger is different from other consortiums because of its focus on creating an open community, not just open sourcing code.\"\n",
    "\n",
    "> \"And I think, really, we found out over 25 years of open source that that's the best way to build trustworthy software.\"\n",
    "\n",
    "> \"I believe it leads to higher security software and higher quality software, but really, the question is trust. This is code that sits... At Hyperledger, this is code that will sit at the heart of these enterprises.\"\n",
    "\n",
    "> \"This will be their system of record, right? So, it's essential that we develop this code in a trustworthy way and, while we do all sorts of things to help them trust the data in the system,ultimately, they have to trust the software, as well.\""
   ]
  },
  {
   "cell_type": "code",
   "execution_count": null,
   "metadata": {
    "collapsed": true
   },
   "outputs": [],
   "source": []
  },
  {
   "cell_type": "markdown",
   "metadata": {},
   "source": [
    "## Open Source and Open Governance\n",
    "\n",
    "> \"Today, most people understand the concept of **Open Source**. What many people don't get, and something we here at Hyperledger and The Linux Foundation pride ourselves on doing well, is **Open Governance**.\"\n",
    "\\- [hyperledger.org](https://hyperledger.org/blog/2017/09/06/abcs-of-open-governance)\n",
    "\n",
    "Open source software is software that is made freely available and may be redistributed and modified. In other words, anyone has the ability to view the code, use the code, copy the code, change the code, and, depending on the open source license, contribute back changes.<br>\n",
    "\n",
    "**Open governance** means that technical decisions for an open source project are made by **a group of community-elected developers drawn from a pool of active participants**. These decisions include things such as which features to add, how, and when to add them.<br>\n",
    "\n",
    "* Learn more about the specifics of Hyperledger's open governance at https://hyperledger.org/blog/2017/09/06/abcs-of-open-governance."
   ]
  },
  {
   "cell_type": "code",
   "execution_count": null,
   "metadata": {
    "collapsed": true
   },
   "outputs": [],
   "source": []
  },
  {
   "cell_type": "markdown",
   "metadata": {},
   "source": [
    "## Software Governance of the Hyperledger Projects (Brian Behlendorf)\n",
    "\n",
    "https://youtu.be/8wEPxJS5csc\n",
    "\n",
    "> \"Now, from a Hyperledger perspective, if we leave it up to the projects to really decide the roadmap of what they're trying to solve,\"\n",
    "\n",
    "> \"there's a group called the Technical Steering Committee, though, that is elected by all the contributors across all the projects, not even just the maintainer...\"\n",
    "\n",
    "> \"anybody who has contributed a line of code, contributed to the wiki in some substantial way, they elect a group of eleven developers who form this Technical Steering Committee. And the TSC is kind of an oversight body.\"\n",
    "\n",
    "> \"They make sure that the projects are growing, and that they're healthy.\n",
    "They review activity in those projects, they also approve new projects when they come in, and they approve the graduation from the Incubator, right?\"\n",
    "\n",
    "> \"We want these projects to be a curated, you know, coherent portfolio of different projects that might even compete with each other, right? In many ways, Fabric and Sawtooth and Iroha do overlap, and you can build an implementation of something in all three of those. That's okay, right?\""
   ]
  },
  {
   "cell_type": "code",
   "execution_count": null,
   "metadata": {
    "collapsed": true
   },
   "outputs": [],
   "source": []
  },
  {
   "cell_type": "markdown",
   "metadata": {},
   "source": [
    "## Blockchain for Business\n",
    "\n",
    "The **cryptocurrency-based blockchain model**, popularized by public blockchains like **Bitcoin** and **Ethereum**, currently falls short of fulfilling a host of requirements that many types of organizations would have to fulfill in order to be compliant when using blockchain and distributed ledger technologies - for instance, **in the areas of financial services, healthcare, and government**.<br>\n",
    "\n",
    "### Hyperledger is a unique platform that is developing permissioned distributed ledger frameworks specifically designed for enterprises, \n",
    "including those in industries with **strong compliance requirements**. Enterprise use cases require capabilities such as scalability and throughput, built-in or interoperable identity modules for the parties involved in a transaction or a network, or even access to regulators who can access all data in the ledger as read-only to ensure compliance. The latter is particularly important because, regardless of the innovation, it has to operate within the current regulatory framework, as well as comply with any new rules that come into place specifically targeted at blockchain technologies.<br>\n",
    "\n",
    "The enterprise continues to be at the heart of this course."
   ]
  },
  {
   "cell_type": "code",
   "execution_count": null,
   "metadata": {
    "collapsed": true
   },
   "outputs": [],
   "source": []
  },
  {
   "cell_type": "markdown",
   "metadata": {},
   "source": [
    "## Why Businesses Chose to Use Hyperledger? (Brian Behlendorf)\n",
    "\n",
    "https://youtu.be/KX54mejdaOo"
   ]
  },
  {
   "cell_type": "code",
   "execution_count": null,
   "metadata": {
    "collapsed": true
   },
   "outputs": [],
   "source": []
  }
 ],
 "metadata": {
  "kernelspec": {
   "display_name": "Python [default]",
   "language": "python",
   "name": "python3"
  },
  "language_info": {
   "codemirror_mode": {
    "name": "ipython",
    "version": 3
   },
   "file_extension": ".py",
   "mimetype": "text/x-python",
   "name": "python",
   "nbconvert_exporter": "python",
   "pygments_lexer": "ipython3",
   "version": "3.5.4"
  }
 },
 "nbformat": 4,
 "nbformat_minor": 2
}
