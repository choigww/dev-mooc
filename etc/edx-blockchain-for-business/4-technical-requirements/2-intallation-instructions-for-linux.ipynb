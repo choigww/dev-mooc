{
 "cells": [
  {
   "cell_type": "markdown",
   "metadata": {},
   "source": [
    "# Installation instructions for Linux"
   ]
  },
  {
   "cell_type": "code",
   "execution_count": null,
   "metadata": {},
   "outputs": [],
   "source": []
  },
  {
   "cell_type": "markdown",
   "metadata": {},
   "source": [
    "## Installing cURL\n",
    "\n",
    "* Open a terminal window: **CTRL+ALT+T**.\n",
    "* Type the following command and enter your password:\n",
    "  * `$ sudo apt install curl`\n",
    "* To check, run the following command in your terminal/command line:\n",
    "  * `$ curl -V`\n",
    "\n",
    "**Note**: The \"V\" is capitalized."
   ]
  },
  {
   "cell_type": "code",
   "execution_count": null,
   "metadata": {},
   "outputs": [],
   "source": []
  },
  {
   "cell_type": "markdown",
   "metadata": {},
   "source": [
    "## Installing Docker\n",
    "\n",
    "* Docker provides great instructions on how to install it [here](https://docs.docker.com/engine/installation/linux/docker-ce/ubuntu/).\n",
    "* The following directions will assume **64-bit Ubuntu 16.04 VPS**, since it is the simplest way to get Docker.\n",
    "  * For Ubuntu, you have the choice between the Community Edition (CE) or the Enterprise Edition (EE). We recommend CE, since it is ideal for developers and small teams looking to experiment with Docker.\n"
   ]
  },
  {
   "cell_type": "code",
   "execution_count": null,
   "metadata": {},
   "outputs": [],
   "source": []
  },
  {
   "cell_type": "markdown",
   "metadata": {},
   "source": [
    "## Manage Docker as a Non-Root User\n",
    "\n",
    "If you don't want to use `sudo` when you use the `docker` command, create a Unix group called `docker` and add users to it. When the `docker` daemon starts, it makes the ownership of the Unix socket read/writable by the `docker` group.<br>\n",
    "\n",
    "<font color='red'>**Warning**</font>: The docker group grants privileges equivalent to the **root** user. For details on how this impacts security in your system, see [Docker Daemon Attack Surface](https://docs.docker.com/engine/security/security/#docker-daemon-attack-surface).\n",
    "\n",
    "To create the **docker** group and add your user:\n",
    "1. Create the docker group:\n",
    "  * `$ sudo groupadd docker`\n",
    "2. Add your user to the docker group:\n",
    "  * `$ sudo usermod -aG docker $USER`\n",
    "3. Log out and log back in, so that your group membership is re-evaluated.\n",
    "4. On a desktop Linux environment such as X Windows, log out of your session completely and then log back in.\n",
    "5. Verify that you can run Docker commands without sudo.\n",
    "  * `$ docker run hello-world`\n",
    "6. This command downloads a test image and runs it in a container. When the container runs, it prints an informational message and exits.\n",
    "\n"
   ]
  },
  {
   "cell_type": "code",
   "execution_count": null,
   "metadata": {},
   "outputs": [],
   "source": []
  },
  {
   "cell_type": "markdown",
   "metadata": {},
   "source": [
    "## Docker Compose\n",
    "\n",
    "To install Docker Compose, run the following commands in your terminal/command line:\n",
    "* `$ sudo apt update`\n",
    "* `$ sudo apt install docker-compose`\n",
    "\n",
    "Check to make sure that you have Docker version 17.03.1-ce or greater, and Docker Compose version 1.9.0 or greater:\n",
    "\n",
    "* `$ docker --version && docker-compose --version`\n"
   ]
  },
  {
   "cell_type": "code",
   "execution_count": null,
   "metadata": {},
   "outputs": [],
   "source": []
  },
  {
   "cell_type": "markdown",
   "metadata": {},
   "source": [
    "## Installing `Node.js` and `npm`\n",
    "\n",
    "To install Node.js and npm, run the following commands in your terminal/command line:\n",
    "\n",
    "```\n",
    "$ sudo bash -c \"cat >/etc/apt/sources.list.d/nodesource.list\" <<EOL\n",
    "deb https://deb.nodesource.com/node_6.x xenial main\n",
    "deb-src https://deb.nodesource.com/node_6.x xenial main\n",
    "EOL\n",
    "$ curl -s https://deb.nodesource.com/gpgkey/nodesource.gpg.key | sudo apt-key add -\n",
    "$ sudo apt update\n",
    "$ sudo apt install nodejs\n",
    "$ sudo apt install npm\n",
    "```\n",
    "\n",
    "Verify the installation, as well as the versions of both `Node.js` and `npm`, and make sure the Node.js version you are installing is greater than `v6.9` (**do not use v7**), and the `npm` version is **greater than 3.x**:\n",
    "\n",
    "```\n",
    "$ node --version && npm --version\n",
    "```\n"
   ]
  },
  {
   "cell_type": "code",
   "execution_count": null,
   "metadata": {},
   "outputs": [],
   "source": []
  },
  {
   "cell_type": "markdown",
   "metadata": {},
   "source": [
    "## Installing Go Language\n",
    "\n",
    "Visit https://golang.org/dl/ and make note of the latest stable release (**v1.8 or later**).<br>\n",
    "\n",
    "To install Go language, run the following commands in your terminal/command line:\n",
    "\n",
    "\n",
    "`$ sudo apt update`<br>\n",
    "`$ sudo curl -O https://storage.googleapis.com/golang/`**go1.9.2.linux-amd64.tar.gz** \n",
    "\n",
    "\n",
    "**Note**: Switch out the black-bold portion of the URL with the correct filename.\n",
    "\n",
    "```\n",
    "$ sudo tar -xvf go1.9.2.linux-amd64.tar.gz\n",
    "$ sudo mv go /usr/local\n",
    "$ echo 'export PATH=$PATH:/usr/local/go/bin' >> ~/.profile\n",
    "$ source ~/.profile\n",
    "```\n",
    "\n",
    "Check that the Go version is **v1.8 or later**:\n",
    "\n",
    "`$ go version`"
   ]
  },
  {
   "cell_type": "code",
   "execution_count": null,
   "metadata": {},
   "outputs": [],
   "source": []
  }
 ],
 "metadata": {
  "kernelspec": {
   "display_name": "Python 3",
   "language": "python",
   "name": "python3"
  },
  "language_info": {
   "codemirror_mode": {
    "name": "ipython",
    "version": 3
   },
   "file_extension": ".py",
   "mimetype": "text/x-python",
   "name": "python",
   "nbconvert_exporter": "python",
   "pygments_lexer": "ipython3",
   "version": "3.6.2"
  }
 },
 "nbformat": 4,
 "nbformat_minor": 2
}
