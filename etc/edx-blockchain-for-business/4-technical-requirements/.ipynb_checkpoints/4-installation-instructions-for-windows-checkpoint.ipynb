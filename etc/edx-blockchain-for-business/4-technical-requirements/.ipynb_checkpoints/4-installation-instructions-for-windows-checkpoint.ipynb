{
 "cells": [
  {
   "cell_type": "markdown",
   "metadata": {},
   "source": [
    "# Installation instructions for Windows"
   ]
  },
  {
   "cell_type": "code",
   "execution_count": null,
   "metadata": {},
   "outputs": [],
   "source": []
  },
  {
   "cell_type": "markdown",
   "metadata": {},
   "source": [
    "## System Requirements\n",
    "\n",
    "Please note you must not have Docker for Windows installed, or HyperV enabled for VirtualBox to run. See [here](http://www.poweronplatforms.com/enable-disable-hyper-v-windows-10-8/) on how to disable HyperV.<br>\n",
    "\n",
    "Below are the expected requirements for `Ubuntu 16.04`, which we will be downloading on our virtual machine:\n",
    "* 2 GHz dual core processor or better\n",
    "* 2 GB system memory\n",
    "* 25 GB of free hard drive space\n",
    "* Either a DVD drive or a USB port for the installer media.\n"
   ]
  },
  {
   "cell_type": "code",
   "execution_count": null,
   "metadata": {},
   "outputs": [],
   "source": []
  },
  {
   "cell_type": "markdown",
   "metadata": {},
   "source": [
    "## Installing VirtualBox and Creating a Virtual Machine\n",
    "\n",
    "Download and install the latest VirtualBox platform packages from [here](https://www.virtualbox.org/wiki/Downloads). Once installed, you will be greeted by a screen similar to the one presented below.\n",
    "\n",
    "![virtualbox-install1](https://prod-edxapp.edx-cdn.org/assets/courseware/v1/0660d3d8de73569ac202e1e17b8cef2f/asset-v1:LinuxFoundationX+LFS171x+3T2017+type@asset+block/Windows-img1.png)\n",
    "\n",
    "Click \"New\" to create a new virtual machine. At this point, you will need to choose a Linux distribution to install. Many Linux distributions will work for this tutorial, but we recommend using **Ubuntu 16.04**, which is a very popular one.<br>\n",
    "\n",
    "Take note of the version selected. If you are sticking with our recommendation of Ubuntu, you should select **Ubuntu (64-bit)** (if 64-bit is not available, 32-bit is fine).<br>\n",
    "\n",
    "For the rest of the setup, use the following options:\n",
    "* 2 GHz dual core processor or better\n",
    "* 2 GB system memory\n",
    "* 25 GB of free hard drive space\n",
    "* Either a DVD drive or a USB port for the media installer."
   ]
  },
  {
   "cell_type": "code",
   "execution_count": null,
   "metadata": {},
   "outputs": [],
   "source": []
  },
  {
   "cell_type": "markdown",
   "metadata": {},
   "source": [
    "## Downloading and Installing Linux (Part I)\n",
    "\n",
    "Before starting the virtual machine, you will need to install your Linux distribution. If using Ubuntu, please [download the latest 16.04 desktop version here](https://www.ubuntu.com/download/desktop). Once the image file download is complete, click \"Start\" to boot your virtual machine.\n",
    "\n",
    "![install-linux-dist](https://prod-edxapp.edx-cdn.org/assets/courseware/v1/6efbbe61a10fbd4be21013558beb66e3/asset-v1:LinuxFoundationX+LFS171x+3T2017+type@asset+block/windows-img2.png)\n",
    "\n",
    "Browse for and open the image file you just downloaded, and click \"Start\". Follow the install prompts to install Linux.\n",
    "\n",
    "![install-linux-dist2](https://prod-edxapp.edx-cdn.org/assets/courseware/v1/847b28d4458a1bfe248e35f0d4f92a1b/asset-v1:LinuxFoundationX+LFS171x+3T2017+type@asset+block/windows-img3.png)\n",
    "\n",
    "Grab a coffee! It may take a few minutes to install. Restart when prompted."
   ]
  },
  {
   "cell_type": "code",
   "execution_count": null,
   "metadata": {},
   "outputs": [],
   "source": []
  },
  {
   "cell_type": "markdown",
   "metadata": {},
   "source": [
    "## Downloading and Installing Linux (Part II)\n",
    "\n",
    "To open a terminal, you can press CTRL+ALT+T, or find it by clicking the Ubuntu Home button and searching for 'terminal'.<br>\n",
    "\n",
    "You can now browse the web, download/install any Ubuntu software and, most importantly, continue the tutorial! Good luck!<br>\n",
    "\n",
    "For more help on VirtualBox, check out their [excellent manual here](https://www.virtualbox.org/manual/).\n",
    "\n",
    "![install-linux-dist3](https://prod-edxapp.edx-cdn.org/assets/courseware/v1/7dbe25db1d6baac310dbc83cdb1ad939/asset-v1:LinuxFoundationX+LFS171x+3T2017+type@asset+block/windows-img4.png)"
   ]
  },
  {
   "cell_type": "code",
   "execution_count": null,
   "metadata": {},
   "outputs": [],
   "source": []
  },
  {
   "cell_type": "markdown",
   "metadata": {},
   "source": [
    "## Installing cURL\n",
    "\n",
    "Open a terminal window: **CTRL+ALT+T**. Type the following command and enter your password:\n",
    "\n",
    "```\n",
    "$ sudo apt install curl\n",
    "```\n",
    "\n",
    "To check, run the following command in your terminal/command line:\n",
    "\n",
    "```\n",
    "$ curl -V\n",
    "```\n",
    "* **Note**: The \"V\" is capitalized.\n"
   ]
  },
  {
   "cell_type": "code",
   "execution_count": null,
   "metadata": {},
   "outputs": [],
   "source": []
  },
  {
   "cell_type": "markdown",
   "metadata": {},
   "source": [
    "## Installing Docker\n",
    "\n",
    "Docker provides great instructions on how to install it [here](https://docs.docker.com/engine/installation/linux/docker-ce/ubuntu/).\n",
    "\n",
    "#### Manage Docker as a non-root user\n",
    "If you don't want to use **sudo** when you use the **docker** command, create a Unix group called docker and add users to it. When the Docker daemon starts, it makes the ownership of the Unix socket read/writable by the **docker** group.\n",
    "* <font color='red'>**Warning**</font>: The docker group grants privileges equivalent to the root user. For details on how this impacts security in your system, see [Docker Daemon Attack Surface](https://docs.docker.com/engine/security/security/#docker-daemon-attack-surface).\n",
    "\n",
    "To create the docker group and add your user:\n",
    "\n",
    "1. Create the docker group:\n",
    "  * `$ sudo groupadd docker`\n",
    "2. Add your user to the docker group:\n",
    "  * `$ sudo usermod -aG docker $USER`\n",
    "3. Log out and log back in, so that your group membership is re-evaluated.\n",
    "4. Since we are on a virtual machine, it may be necessary to restart the virtual machine for changes to take effect.\n",
    "5. Verify that you can run Docker commands without sudo:\n",
    "  * `$ docker run hello-world`\n",
    "6. This command downloads a test image and runs it in a container. When the container runs, it prints an informational message and exits.\n"
   ]
  },
  {
   "cell_type": "code",
   "execution_count": null,
   "metadata": {},
   "outputs": [],
   "source": []
  },
  {
   "cell_type": "markdown",
   "metadata": {},
   "source": [
    "## Docker Compose\n",
    "\n",
    "To install Docker Compose, run the following commands in your terminal/command line:\n",
    "\n",
    "```\n",
    "$ sudo apt update\n",
    "$ sudo apt install docker-compose\n",
    "```\n",
    "\n",
    "Check to make sure that you have Docker version 17.03.1-ce or greater, and Docker Compose version 1.9.0 or greater:\n",
    "\n",
    "```\n",
    "$ docker --version && docker-compose --version\n",
    "```"
   ]
  },
  {
   "cell_type": "code",
   "execution_count": null,
   "metadata": {},
   "outputs": [],
   "source": []
  },
  {
   "cell_type": "markdown",
   "metadata": {},
   "source": [
    "## Installing `Node.js` and `npm`\n",
    "\n",
    "To install **Node.js** and **npm**, run the following commands in your terminal/command line:\n",
    "\n",
    "```\n",
    "$ sudo bash -c \"cat >/etc/apt/sources.list.d/nodesource.list\" <<EOL\n",
    "deb https://deb.nodesource.com/node_6.x xenial main\n",
    "deb-src https://deb.nodesource.com/node_6.x xenial main\n",
    "EOL\n",
    "$ curl -s https://deb.nodesource.com/gpgkey/nodesource.gpg.key | sudo apt-key add -\n",
    "$ sudo apt update\n",
    "$ sudo apt install nodejs\n",
    "$ sudo apt install npm\n",
    "```\n",
    "\n",
    "Verify the installation, as well as the versions of both **Node.js** and **npm**, and make sure the **Node.js** version you are installing is greater than v6.9 (do not use v7), and the **npm** version is greater than 3.x:\n",
    "\n",
    "```\n",
    "$ node --version && npm --version\n",
    "```"
   ]
  },
  {
   "cell_type": "code",
   "execution_count": null,
   "metadata": {},
   "outputs": [],
   "source": []
  },
  {
   "cell_type": "markdown",
   "metadata": {},
   "source": [
    "## Installing Go Language\n",
    "\n",
    "Visit https://golang.org/dl/ and make note of the latest stable release (v1.8 or later). To install Go language, run the following commands in your terminal/command line:\n",
    "\n",
    "`$ sudo apt update`<br><br>\n",
    "`$ sudo curl -O https://storage.googleapis.com/golang/`**go1.9.2.linux-amd64.tar.gz**<br><br>\n",
    "`$ sudo tar -xvf `**go1.9.2.linux-amd64.tar.gz**\n",
    "* **Note**: Switch out the black-bold portion of the URL with the correct filename.\n",
    "\n",
    "```\n",
    "$ sudo mv go /usr/local\n",
    "$ echo 'export PATH=$PATH:/usr/local/go/bin' >> ~/.profile\n",
    "$ source ~/.profile\n",
    "```\n",
    "\n",
    "Check that the Go version is v1.8 or later:\n",
    "\n",
    "```\n",
    "$ go version\n",
    "```"
   ]
  },
  {
   "cell_type": "code",
   "execution_count": null,
   "metadata": {},
   "outputs": [],
   "source": []
  },
  {
   "cell_type": "code",
   "execution_count": null,
   "metadata": {},
   "outputs": [],
   "source": []
  },
  {
   "cell_type": "code",
   "execution_count": null,
   "metadata": {},
   "outputs": [],
   "source": []
  },
  {
   "cell_type": "code",
   "execution_count": null,
   "metadata": {},
   "outputs": [],
   "source": []
  },
  {
   "cell_type": "code",
   "execution_count": null,
   "metadata": {},
   "outputs": [],
   "source": []
  },
  {
   "cell_type": "code",
   "execution_count": null,
   "metadata": {},
   "outputs": [],
   "source": []
  },
  {
   "cell_type": "code",
   "execution_count": null,
   "metadata": {},
   "outputs": [],
   "source": []
  }
 ],
 "metadata": {
  "kernelspec": {
   "display_name": "Python 3",
   "language": "python",
   "name": "python3"
  },
  "language_info": {
   "codemirror_mode": {
    "name": "ipython",
    "version": 3
   },
   "file_extension": ".py",
   "mimetype": "text/x-python",
   "name": "python",
   "nbconvert_exporter": "python",
   "pygments_lexer": "ipython3",
   "version": "3.6.2"
  }
 },
 "nbformat": 4,
 "nbformat_minor": 2
}
