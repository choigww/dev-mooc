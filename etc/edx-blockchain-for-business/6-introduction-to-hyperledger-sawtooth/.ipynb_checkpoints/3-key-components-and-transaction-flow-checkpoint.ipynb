{
 "cells": [
  {
   "cell_type": "markdown",
   "metadata": {},
   "source": [
    "# Key Components and Transaction Flow"
   ]
  },
  {
   "cell_type": "code",
   "execution_count": null,
   "metadata": {},
   "outputs": [],
   "source": []
  },
  {
   "cell_type": "markdown",
   "metadata": {},
   "source": [
    "## Hyperledger Sawtooth Key Components\n",
    "### Arianna Groetsema\n",
    "\n",
    "* [VIDEO](https://youtu.be/5KO8jSSx7w8)\n",
    "\n",
    "> \"Like many Hyperledger frameworks, Hyperledger Sawtooth is exceptional due to its flexibility and modularity, and support for many different programming languages.\"<br><br>\n",
    "\"For example, applications can bring their own consensus modules and revert to Hyperledger Sawtooth's Proof of Elapsed Time consensus algorithm when scaling,\"<br><br>\n",
    "\"because, rather than relying on the capabilities of hardware, Proof of Elapsed Time is a truly random lottery system.\"<br><br>\n",
    "\"that stochastically elects individual peers to execute transactions.\"<br><br>\n",
    "\"Since this consensus method relies on trusted computing, as opposed to manual labor, Proof of Elapsed Time allows nearly limitless network scalability.\"<br><br>\n",
    "\"Another modular feature is Hyperledger Sawtooth's transaction logic.\n",
    "Transaction families encapsulate business logic for the network and help define architectural differences between data control logic and application logic.\"\n",
    "\n"
   ]
  },
  {
   "cell_type": "code",
   "execution_count": null,
   "metadata": {},
   "outputs": [],
   "source": []
  },
  {
   "cell_type": "markdown",
   "metadata": {},
   "source": [
    "## Requirements Supported by Hyperledger Sawtooth\n",
    "\n",
    "Hyperledger Sawtooth is a blockchain framework with **potential in IoT, manufacturing, finance, and enterprise**. Hyperledger Sawtooth supports diverse requirements, including \n",
    "* **both permissioned and permissionless deployments**, \n",
    "* **a pluggable consensus algorithm** \n",
    "\n",
    "This framework also provides a revolutionary consensus algorithm, Proof of Elapsed Time (PoET), that allows for versatility and **scalability suited for a variety of solutions**.<br>\n",
    "\n",
    "Hyperledger Sawtooth supports many different infrastructural requirements, such as:\n",
    "* Permissioned and permissionless infrastructure\n",
    "* Modular blockchain architecture\n",
    "* Scalability, which is good for larger blockchain networks due to higher throughput\n",
    "* Many languages for transaction logic."
   ]
  },
  {
   "cell_type": "code",
   "execution_count": null,
   "metadata": {},
   "outputs": [],
   "source": []
  },
  {
   "cell_type": "markdown",
   "metadata": {},
   "source": [
    "## Transaction Batching\n",
    "\n",
    "Hyperledger Sawtooth **transaction batches** are clusters of transactions that are either all committed to state together, or none of the transactions are committed at all. As a result, transaction batches are often described as an atomic unit of change, since a group of transactions are treated as one, and are committed to the state as one. Every single transaction in Hyperledger Sawtooth is submitted within a batch. Batches can contain as little as a single transaction.<br>\n",
    "\n",
    "When a transaction is created by a client, the batch is submitted to the validator (which we will cover more in depth in the next section). Transactions are organized into a batch in the order they are intended to be committed. The validator then, in turn, applies each transaction within the batch, leading to a change in the global state. The batch is committed to the state. If one transaction within the batch is invalid, then none of the transactions within that batch are committed.<br>\n",
    "\n",
    "In summary, transaction batching allows a group of transactions to be applied in a specific order, and if any are invalid, then none of the transactions are applied. This is a powerful tool that can be utilized by many enterprise solutions, as it provides greater efficiency and control for end users."
   ]
  },
  {
   "cell_type": "code",
   "execution_count": null,
   "metadata": {},
   "outputs": [],
   "source": []
  },
  {
   "cell_type": "markdown",
   "metadata": {},
   "source": [
    "## Validators\n",
    "\n",
    "In any blockchain network, modifying the global state requires creating and applying a transaction. In Hyperledger Sawtooth, **validators** apply blocks that cause a change in the state. More specifically, validators validate transaction blocks, and ensure that transactions result in state changes that are consistent across all participants in the network.<br>\n",
    "\n",
    "To start, a user creates a transaction batch and submits it to a validator via a client and REST API. The validator then checks the transaction batch and applies it if it is considered valid, resulting in a change to the state. \n",
    "\n",
    "1. In terms of our demonstrated scenario, **Sarah, the fisherman, creates a transaction batch** to record information about a group of tuna catches. \n",
    "2. **The validator would then apply the transactions, and the state would be updated if all appropriate attributes are present**: \n",
    "  * a unique ID number\n",
    "  * location\n",
    "  * time of the catch\n",
    "  * weight\n",
    "  * who caught the fish \n",
    "  * If any of these elements are missing, the transactions within the batch would not be applied, and the state would not be updated.\n",
    "\n",
    "![validators-sawtooth](https://prod-edxapp.edx-cdn.org/assets/courseware/v1/c7b3d5552070184b7b56fc25d316f585/asset-v1:LinuxFoundationX+LFS171x+3T2017+type@asset+block/Sawtooth_validators.png)\n"
   ]
  },
  {
   "cell_type": "code",
   "execution_count": null,
   "metadata": {},
   "outputs": [],
   "source": []
  },
  {
   "cell_type": "markdown",
   "metadata": {},
   "source": [
    "## Journal\n",
    "\n",
    "In Hyperledger Sawtooth, the **journal** maintains and extends the blockchain for the validator. It is responsible for \n",
    "* validating candidate blocks\n",
    "* evaluating valid blocks to determine if they are the correct chain head\n",
    "* generating new blocks to extend the chain\n",
    "\n",
    "Transaction batches arrive at the **journal, where they are evaluated, validated, and added to the blockchain**. <br>\n",
    "\n",
    "Additionally, the journal **resolves forks, which occur due to disagreements over who commits a block**. \n",
    "* Once blocks are completed, they are delivered to the **ChainController for validation and fork resolution**.\n",
    "* To see how the elements of the journal interact with one another, take a look at the diagram on the next page.\n",
    "\n",
    "Another key feature of the journal is its **flexibility in allowing pluggable consensus algorithms**."
   ]
  },
  {
   "cell_type": "code",
   "execution_count": null,
   "metadata": {},
   "outputs": [],
   "source": []
  },
  {
   "cell_type": "markdown",
   "metadata": {},
   "source": [
    "## Consensus Interface\n",
    "\n",
    "Consensus in Hyperledger Sawtooth is modular, meaning that the consensus algorithm can be easily modified. Hyperledger Sawtooth **provides an abstract interface that supports both PBFT and Nakamoto-style algorithms**. To implement a new consensus algorithm in Hyperledger Sawtooth, you must implement the distinct interface for: block publisher, block verifier, and fork resolution.\n",
    "* **Block publisher**: Creates new candidate blocks to extend the chain.\n",
    "* **Block verifier**: Verifies that candidate blocks are published in accordance with consensus rules.\n",
    "* **Fork resolver**: Chooses which fork to use as the chain head for consensus algorithms that result in a fork.\n",
    "\n",
    "![consensus-interface-sawtooth](https://prod-edxapp.edx-cdn.org/assets/courseware/v1/a6cfe922dbd88b452ce58d493273f9e4/asset-v1:LinuxFoundationX+LFS171x+3T2017+type@asset+block/Consensus_interface.png)\n",
    "\n",
    "These interfaces are used by the journal component. The journal verifies that all the dependencies for the transaction batches are satisfied. When verified, completed batches are checked for validity and fork resolution, and then, they are published within a block."
   ]
  },
  {
   "cell_type": "code",
   "execution_count": null,
   "metadata": {},
   "outputs": [],
   "source": []
  },
  {
   "cell_type": "markdown",
   "metadata": {},
   "source": [
    "## Transaction Families\n",
    "\n",
    "As with any blockchain framework, transaction updates need to be approved and shared between many untrusted parties. As such, many blockchain frameworks have a mechanism for supporting distributed ledgers, as well as a method for changing the state of the shared ledger.<br>\n",
    "\n",
    "In Hyperledger Sawtooth, the data model that captures the state and the transaction language that changes the state are implemented using **transaction families**.<br>\n",
    "\n",
    "A transaction family consists of a group of operations or transaction types that are allowed on the shared ledgers. This allows for flexibility in the level of versatility and risk that exists on a network. Transaction families are often called 'safer' smart contracts, because they specify a predefined set of acceptable smart contract templates, as opposed to programming smart contracts from scratch.<br>\n",
    "\n",
    "Hyperledger Sawtooth’s transaction families can be written in many languages, including Javascript, Java, C++, Python, and Go, which allows flexibility for businesses to bring their own transaction families. Hyperledger Sawtooth allows the developers to specify the address/namespace of data, which provides flexibility in defining, sharing, and reusing data between different transaction families.\n",
    "\n",
    "![transaction-families-sawtooth](https://prod-edxapp.edx-cdn.org/assets/courseware/v1/8f6a37e9af4a9e8117c7d1b779e0b405/asset-v1:LinuxFoundationX+LFS171x+3T2017+type@asset+block/Transaction_families.png)"
   ]
  },
  {
   "cell_type": "code",
   "execution_count": null,
   "metadata": {},
   "outputs": [],
   "source": []
  },
  {
   "cell_type": "markdown",
   "metadata": {},
   "source": [
    "## Sawtooth Node\n",
    "\n",
    "Hyperledger Sawtooth organizations run a node that interacts with the Hyperledger Sawtooth network. Each node runs at least three things:\n",
    "* The main **validator** process\n",
    "* The **REST service** listening for requests (could be transaction posts or state queries)\n",
    "* One or more **transaction processors**\n",
    "\n",
    "Each organization that enters the Hyperledger Sawtooth network runs at least one node, and receives transactions submitted by fellow nodes.\n",
    "\n",
    "![sawtooth-node](https://prod-edxapp.edx-cdn.org/assets/courseware/v1/274566f591da0f1ee0ea5035f5415a7e/asset-v1:LinuxFoundationX+LFS171x+3T2017+type@asset+block/Sawtooth_node.png)"
   ]
  },
  {
   "cell_type": "code",
   "execution_count": null,
   "metadata": {},
   "outputs": [],
   "source": []
  },
  {
   "cell_type": "markdown",
   "metadata": {},
   "source": [
    "## Introducing Proof of Elapsed Time (PoET)\n",
    "\n",
    "The consensus algorithm commonly used in a Hyperledger Sawtooth network is the **Proof of Elapsed Time, or PoET**. PoET impartially determines who will commit a transaction to state using **a lottery function that elects a leader from many different distributed nodes**.<br>\n",
    "\n",
    "Hyperledger Sawtooth’s PoET algorithm **differs from the Proof of Work algorithm** implemented by the Bitcoin blockchain in that \n",
    "* Proof of Work relies on vast amounts of power, while Proof of Elapsed Time is able to ensure trust and randomness in electing a leader, **without the high power consumption**.\n",
    "\n",
    "PoET allows for **increased scalability and participation**, as every node in the network has **an equal opportunity to create the next block on the chain**."
   ]
  },
  {
   "cell_type": "code",
   "execution_count": null,
   "metadata": {},
   "outputs": [],
   "source": []
  },
  {
   "cell_type": "markdown",
   "metadata": {},
   "source": [
    "## How Proof of Elapsed Time Works\n",
    "\n",
    "To start, each validator within the network requests a wait time from an enclave, or a trusted function. This is where the 'Elapsed Time' comes into play. The validator with the shortest wait time for a specific block is appointed the leader, and creates the block to be committed to the ledger. As a result, a truly random leader is elected, and the amount of power or type of hardware you have will not give you an advantage. Using simple functions, the network can verify that the winning validator did indeed 'win', by proving that it had the shortest time to wait before assuming the leadership position.<br>\n",
    "\n",
    "Proof of Elapsed Time is revolutionary in its ability to achieve distributed consensus using a lottery function. This not only allows for easy verification and fairness within the network, but also for incredible scalability. Without the heavy costs of participating in consensus, anyone can participate in the network. One of Hyperledger Sawtooth's main advantages is that it allows the size of the network to scale. That is, Hyperledger Sawtooth is nearly limitless in the network size it can support."
   ]
  },
  {
   "cell_type": "code",
   "execution_count": null,
   "metadata": {},
   "outputs": [],
   "source": []
  },
  {
   "cell_type": "markdown",
   "metadata": {},
   "source": [
    "## Forks\n",
    "\n",
    "While PoET provides many benefits and aids tremendously with scalability, there is a **downside to the PoET** consensus algorithm. And that is the **issue of forks**.<br>\n",
    "\n",
    "The PoET algorithm may lead to forking, in which **two 'winners' propose a block**. **Each fork has to be resolved by validators**, and this **results in a delay** in reaching consistency across the network.<br>\n",
    "\n",
    "As stated in the Sawtooth documentation:\n",
    "\n",
    "> \"Completed Blocks are delivered to the Chain controller for validation and fork resolution.\" <br><br>- https://intelledger.github.io/architecture/journal.html"
   ]
  },
  {
   "cell_type": "code",
   "execution_count": null,
   "metadata": {},
   "outputs": [],
   "source": []
  }
 ],
 "metadata": {
  "kernelspec": {
   "display_name": "Python 3",
   "language": "python",
   "name": "python3"
  },
  "language_info": {
   "codemirror_mode": {
    "name": "ipython",
    "version": 3
   },
   "file_extension": ".py",
   "mimetype": "text/x-python",
   "name": "python",
   "nbconvert_exporter": "python",
   "pygments_lexer": "ipython3",
   "version": "3.6.2"
  }
 },
 "nbformat": 4,
 "nbformat_minor": 2
}
