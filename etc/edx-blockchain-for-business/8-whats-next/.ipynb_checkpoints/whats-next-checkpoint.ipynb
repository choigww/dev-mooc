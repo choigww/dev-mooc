{
 "cells": [
  {
   "cell_type": "markdown",
   "metadata": {},
   "source": [
    "# What's Next?"
   ]
  },
  {
   "cell_type": "code",
   "execution_count": null,
   "metadata": {},
   "outputs": [],
   "source": []
  },
  {
   "cell_type": "markdown",
   "metadata": {},
   "source": [
    "## Hyperledger Community\n",
    "\n",
    "The development of the Hyperledger projects is led by a diverse group of technical, open source contributors. We are always looking for help to build an open source ecosystem of business blockchain technologies. If you are interested in contributing to and learning from the community, we welcome you to join the [Hyperledger effort](https://www.hyperledger.org/community)."
   ]
  },
  {
   "cell_type": "code",
   "execution_count": null,
   "metadata": {},
   "outputs": [],
   "source": []
  },
  {
   "cell_type": "markdown",
   "metadata": {},
   "source": [
    "## Joining the Hyperledger Community\n",
    "\n",
    "You too can join the Hyperledger Community:\n",
    "\n",
    "* For developers\n",
    "  * Read the Hyperledger code on [GitHub](https://github.com/hyperledger/hyperledger). Join the Hyperledger discussion at [Rocket.Chat](https://chat.hyperledger.org/home). Search for open bugs, or report a new one in the [Hyperledger’s bug database](https://jira.hyperledger.org/secure/Dashboard.jspa).\n",
    "* For business leaders\n",
    "  * For key updates from Hyperledger, join the [mailing list](https://lists.hyperledger.org/mailman/listinfo). Explore all [Hyperledger business solutions](https://www.hyperledger.org/projects).\n",
    "* For educators and community leaders\n",
    "  * You can start or join a [Hyperledger meetup](https://www.meetup.com/pro/hyperledger/). Development updates from Wiki can be found here.\n",
    "  \n",
    "![global-meetups](https://prod-edxapp.edx-cdn.org/assets/courseware/v1/9f346d9125ac62f4462d898aa9e172ac/asset-v1:LinuxFoundationX+LFS171x+3T2017+type@asset+block/Hyperledger_Global_Meetups.png)"
   ]
  },
  {
   "cell_type": "code",
   "execution_count": null,
   "metadata": {},
   "outputs": [],
   "source": []
  },
  {
   "cell_type": "markdown",
   "metadata": {},
   "source": [
    "## Hyperledger Working Groups\n",
    "\n",
    "The Hyperledger Community’s working groups are open to the public. Developers and tech leaders can engage with any of the Hyperledger’s open community channels at this [page](https://wiki.hyperledger.org/community/calendar-public-meetings).<br>\n",
    "\n",
    "Below, you can see an overview of Hyperledger’s working groups.\n",
    "\n",
    "![working-groups](https://prod-edxapp.edx-cdn.org/assets/courseware/v1/cca8220e1d574e52f989fd518d54d5fb/asset-v1:LinuxFoundationX+LFS171x+3T2017+type@asset+block/Hyperledger_Working_Groups.png)"
   ]
  },
  {
   "cell_type": "code",
   "execution_count": null,
   "metadata": {},
   "outputs": [],
   "source": []
  },
  {
   "cell_type": "markdown",
   "metadata": {},
   "source": [
    "## Hyperledger Community\n",
    "### Tracy Kuhrt\n",
    "\n",
    "* [VIDEO](https://youtu.be/kW94LHpi_7E)"
   ]
  },
  {
   "cell_type": "code",
   "execution_count": null,
   "metadata": {},
   "outputs": [],
   "source": []
  },
  {
   "cell_type": "markdown",
   "metadata": {},
   "source": [
    "## Hackfests\n",
    "### Brian Behlendorf\n",
    "* [VIDEO](https://youtu.be/p5GEF1uxOSM)"
   ]
  },
  {
   "cell_type": "code",
   "execution_count": null,
   "metadata": {},
   "outputs": [],
   "source": []
  },
  {
   "cell_type": "markdown",
   "metadata": {},
   "source": [
    "## Rewards and Challenges\n",
    "### Brian Behlendorf\n",
    "* [VIDEO](https://youtu.be/xtCdbgZ1YGg)"
   ]
  },
  {
   "cell_type": "code",
   "execution_count": null,
   "metadata": {},
   "outputs": [],
   "source": []
  },
  {
   "cell_type": "markdown",
   "metadata": {},
   "source": [
    "## Jonathan Levi Talks about His Hyperledger Journey\n",
    "### Jonathan Levi\n",
    "* [VIDEO](https://youtu.be/UOkv_ZxCQnE)"
   ]
  },
  {
   "cell_type": "code",
   "execution_count": null,
   "metadata": {},
   "outputs": [],
   "source": []
  },
  {
   "cell_type": "markdown",
   "metadata": {},
   "source": [
    "## Conclusions\n",
    "\n",
    "This concludes the *Blockchain for Business: An Introduction to Hyperledger Technologies* course! We have introduced you to the current Hyperledger frameworks and modules, we have highlighted some of the business blockchain applications, we have guided you through a more in-depth tour on three of the most mature frameworks (Hyperledger Iroha, Hyperledger Sawtooth, and Hyperledger Fabric), and we also provided deep-dive tutorials for Hyperledger Sawtooth and Hyperleger Fabric.<br>\n",
    "\n",
    "We hope this course inspires you and helps you continue your journey into the business blockchain technology world. Whether you are an engineer, entrepreneur, developer, educator, or business person, we look forward to seeing what you build, as well as hearing from you in the course forum. <br>\n",
    "\n",
    "Good luck to all of you in your future endeavors! "
   ]
  },
  {
   "cell_type": "code",
   "execution_count": null,
   "metadata": {},
   "outputs": [],
   "source": []
  }
 ],
 "metadata": {
  "kernelspec": {
   "display_name": "Python 3",
   "language": "python",
   "name": "python3"
  },
  "language_info": {
   "codemirror_mode": {
    "name": "ipython",
    "version": 3
   },
   "file_extension": ".py",
   "mimetype": "text/x-python",
   "name": "python",
   "nbconvert_exporter": "python",
   "pygments_lexer": "ipython3",
   "version": "3.6.2"
  }
 },
 "nbformat": 4,
 "nbformat_minor": 2
}
