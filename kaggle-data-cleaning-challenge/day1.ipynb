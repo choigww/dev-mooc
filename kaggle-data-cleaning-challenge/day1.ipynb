{
  "cells": [
    {
      "metadata": {
        "_uuid": "6ac53f18b4f4ec0fc44348cedb5d1c319fa127c0",
        "_cell_guid": "b91a74ba-85f4-486e-b5f9-d0898f0626bf"
      },
      "cell_type": "markdown",
      "source": "### All days of the challange:\n\n* [Day 1: Handling missing values](https://www.kaggle.com/rtatman/data-cleaning-challenge-handling-missing-values)\n* [Day 2: Scaling and normalization](https://www.kaggle.com/rtatman/data-cleaning-challenge-scale-and-normalize-data)\n* [Day 3: Parsing dates](https://www.kaggle.com/rtatman/data-cleaning-challenge-parsing-dates/)\n* [Day 4: Character encodings](https://www.kaggle.com/rtatman/data-cleaning-challenge-character-encodings/)\n* [Day 5: Inconsistent Data Entry](https://www.kaggle.com/rtatman/data-cleaning-challenge-inconsistent-data-entry/)\n___\nWelcome to day 1 of the 5-Day Data Challenge! Today, we're going to be looking at how to deal with missing values. To get started, click the blue \"Fork Notebook\" button in the upper, right hand corner. This will create a private copy of this notebook that you can edit and play with. Once you're finished with the exercises, you can choose to make your notebook public to share with others. :)\n\n> **Your turn!** As we work through this notebook, you'll see some notebook cells (a block of either code or text) that has \"Your Turn!\" written in it. These are exercises for you to do to help cement your understanding of the concepts we're talking about. Once you've written the code to answer a specific question, you can run the code by clicking inside the cell (box with code in it) with the code you want to run and then hit CTRL + ENTER (CMD + ENTER on a Mac). You can also click in a cell and then click on the right \"play\" arrow to the left of the code. If you want to run all the code in your notebook, you can use the double, \"fast forward\" arrows at the bottom of the notebook editor.\n\nHere's what we're going to do today:\n\n* [Take a first look at the data](#Take-a-first-look-at-the-data)\n* [See how many missing data points we have](#See-how-many-missing-data-points-we-have)\n* [Figure out why the data is missing](#Figure-out-why-the-data-is-missing)\n* [Drop missing values](#Drop-missing-values)\n* [Filling in missing values](#Filling-in-missing-values)\n\nLet's get started!"
    },
    {
      "metadata": {
        "_uuid": "9d82bf13584b8e682962fbb96131f2447d741679",
        "_cell_guid": "5cd5061f-ae30-4837-a53b-690ffd5c5830"
      },
      "cell_type": "markdown",
      "source": "# Take a first look at the data\n________\n\nThe first thing we'll need to do is load in the libraries and datasets we'll be using. For today, I'll be using a dataset of events that occured in American Football games for demonstration, and you'll be using a dataset of building permits issued in San Francisco.\n\n> **Important!** Make sure you run this cell yourself or the rest of your code won't work!"
    },
    {
      "metadata": {
        "_uuid": "835cbe0834b935fb0fd40c75b9c39454836f4d5f",
        "_cell_guid": "135a7804-b5f5-40aa-8657-4a15774e3666",
        "trusted": true
      },
      "cell_type": "code",
      "source": "# modules we'll use\nimport pandas as pd\nimport numpy as np\n\n# read in all our data\nnfl_data = pd.read_csv(\"../input/nflplaybyplay2009to2016/NFL Play by Play 2009-2017 (v4).csv\")\nsf_permits = pd.read_csv(\"../input/building-permit-applications-data/Building_Permits.csv\")\n\n# set seed for reproducibility\nnp.random.seed(0) ",
      "execution_count": 1,
      "outputs": [
        {
          "output_type": "stream",
          "text": "/opt/conda/lib/python3.6/site-packages/IPython/core/interactiveshell.py:2698: DtypeWarning: Columns (25,51) have mixed types. Specify dtype option on import or set low_memory=False.\n  interactivity=interactivity, compiler=compiler, result=result)\n/opt/conda/lib/python3.6/site-packages/IPython/core/interactiveshell.py:2698: DtypeWarning: Columns (22,32) have mixed types. Specify dtype option on import or set low_memory=False.\n  interactivity=interactivity, compiler=compiler, result=result)\n",
          "name": "stderr"
        }
      ]
    },
    {
      "metadata": {
        "_uuid": "53c84bf86149ac41b237633a1a79d6130d6a2cd4",
        "_cell_guid": "09b58d03-d34d-497a-b298-12a0ae962e3d"
      },
      "cell_type": "markdown",
      "source": "The first thing I do when I get a new dataset is take a look at some of it. This lets me see that it all read in correctly and get an idea of what's going on with the data. In this case, I'm looking to see if I see any missing values, which will be reprsented with `NaN` or `None`."
    },
    {
      "metadata": {
        "_uuid": "d629ff2d2480ee46fbb7e2d37f6b5fab8052498a",
        "_cell_guid": "79c7e3d0-c299-4dcb-8224-4455121ee9b0",
        "trusted": true
      },
      "cell_type": "code",
      "source": "# look at a few rows of the nfl_data file. I can see a handful of missing data already!\nnfl_data.sample(5)",
      "execution_count": 2,
      "outputs": [
        {
          "output_type": "execute_result",
          "execution_count": 2,
          "data": {
            "text/plain": "              Date      GameID  Drive  qtr  down   time  TimeUnder  TimeSecs  \\\n244485  2014-10-26  2014102607     18    3   1.0  00:39          1     939.0   \n115340  2011-11-20  2011112000     22    4   1.0  06:47          7     407.0   \n68357   2010-11-14  2010111401      8    2   NaN  00:23          1    1823.0   \n368377  2017-09-24  2017092405     24    4   1.0  08:48          9     528.0   \n384684  2017-11-05  2017110505     11    2   1.0  09:15         10    2355.0   \n\n        PlayTimeDiff SideofField   ...      yacEPA  Home_WP_pre  Away_WP_pre  \\\n244485          12.0          TB   ...    1.240299     0.225647     0.774353   \n115340          44.0         OAK   ...         NaN     0.056036     0.943964   \n68357            0.0         CLE   ...         NaN     0.365307     0.634693   \n368377           8.0         CLE   ...    1.075660     0.935995     0.064005   \n384684           0.0         DEN   ...         NaN     0.928474     0.071526   \n\n        Home_WP_post  Away_WP_post  Win_Prob       WPA    airWPA    yacWPA  \\\n244485      0.245582      0.754418  0.225647  0.019935 -0.018156  0.038091   \n115340      0.042963      0.957037  0.943964  0.013073       NaN       NaN   \n68357       0.384697      0.615303  0.634693 -0.019390       NaN       NaN   \n368377      0.921231      0.078769  0.064005  0.014764  0.003866  0.010899   \n384684      0.934641      0.065359  0.071526 -0.006166       NaN       NaN   \n\n        Season  \n244485    2014  \n115340    2011  \n68357     2010  \n368377    2017  \n384684    2017  \n\n[5 rows x 102 columns]",
            "text/html": "<div>\n<style scoped>\n    .dataframe tbody tr th:only-of-type {\n        vertical-align: middle;\n    }\n\n    .dataframe tbody tr th {\n        vertical-align: top;\n    }\n\n    .dataframe thead th {\n        text-align: right;\n    }\n</style>\n<table border=\"1\" class=\"dataframe\">\n  <thead>\n    <tr style=\"text-align: right;\">\n      <th></th>\n      <th>Date</th>\n      <th>GameID</th>\n      <th>Drive</th>\n      <th>qtr</th>\n      <th>down</th>\n      <th>time</th>\n      <th>TimeUnder</th>\n      <th>TimeSecs</th>\n      <th>PlayTimeDiff</th>\n      <th>SideofField</th>\n      <th>...</th>\n      <th>yacEPA</th>\n      <th>Home_WP_pre</th>\n      <th>Away_WP_pre</th>\n      <th>Home_WP_post</th>\n      <th>Away_WP_post</th>\n      <th>Win_Prob</th>\n      <th>WPA</th>\n      <th>airWPA</th>\n      <th>yacWPA</th>\n      <th>Season</th>\n    </tr>\n  </thead>\n  <tbody>\n    <tr>\n      <th>244485</th>\n      <td>2014-10-26</td>\n      <td>2014102607</td>\n      <td>18</td>\n      <td>3</td>\n      <td>1.0</td>\n      <td>00:39</td>\n      <td>1</td>\n      <td>939.0</td>\n      <td>12.0</td>\n      <td>TB</td>\n      <td>...</td>\n      <td>1.240299</td>\n      <td>0.225647</td>\n      <td>0.774353</td>\n      <td>0.245582</td>\n      <td>0.754418</td>\n      <td>0.225647</td>\n      <td>0.019935</td>\n      <td>-0.018156</td>\n      <td>0.038091</td>\n      <td>2014</td>\n    </tr>\n    <tr>\n      <th>115340</th>\n      <td>2011-11-20</td>\n      <td>2011112000</td>\n      <td>22</td>\n      <td>4</td>\n      <td>1.0</td>\n      <td>06:47</td>\n      <td>7</td>\n      <td>407.0</td>\n      <td>44.0</td>\n      <td>OAK</td>\n      <td>...</td>\n      <td>NaN</td>\n      <td>0.056036</td>\n      <td>0.943964</td>\n      <td>0.042963</td>\n      <td>0.957037</td>\n      <td>0.943964</td>\n      <td>0.013073</td>\n      <td>NaN</td>\n      <td>NaN</td>\n      <td>2011</td>\n    </tr>\n    <tr>\n      <th>68357</th>\n      <td>2010-11-14</td>\n      <td>2010111401</td>\n      <td>8</td>\n      <td>2</td>\n      <td>NaN</td>\n      <td>00:23</td>\n      <td>1</td>\n      <td>1823.0</td>\n      <td>0.0</td>\n      <td>CLE</td>\n      <td>...</td>\n      <td>NaN</td>\n      <td>0.365307</td>\n      <td>0.634693</td>\n      <td>0.384697</td>\n      <td>0.615303</td>\n      <td>0.634693</td>\n      <td>-0.019390</td>\n      <td>NaN</td>\n      <td>NaN</td>\n      <td>2010</td>\n    </tr>\n    <tr>\n      <th>368377</th>\n      <td>2017-09-24</td>\n      <td>2017092405</td>\n      <td>24</td>\n      <td>4</td>\n      <td>1.0</td>\n      <td>08:48</td>\n      <td>9</td>\n      <td>528.0</td>\n      <td>8.0</td>\n      <td>CLE</td>\n      <td>...</td>\n      <td>1.075660</td>\n      <td>0.935995</td>\n      <td>0.064005</td>\n      <td>0.921231</td>\n      <td>0.078769</td>\n      <td>0.064005</td>\n      <td>0.014764</td>\n      <td>0.003866</td>\n      <td>0.010899</td>\n      <td>2017</td>\n    </tr>\n    <tr>\n      <th>384684</th>\n      <td>2017-11-05</td>\n      <td>2017110505</td>\n      <td>11</td>\n      <td>2</td>\n      <td>1.0</td>\n      <td>09:15</td>\n      <td>10</td>\n      <td>2355.0</td>\n      <td>0.0</td>\n      <td>DEN</td>\n      <td>...</td>\n      <td>NaN</td>\n      <td>0.928474</td>\n      <td>0.071526</td>\n      <td>0.934641</td>\n      <td>0.065359</td>\n      <td>0.071526</td>\n      <td>-0.006166</td>\n      <td>NaN</td>\n      <td>NaN</td>\n      <td>2017</td>\n    </tr>\n  </tbody>\n</table>\n<p>5 rows × 102 columns</p>\n</div>"
          },
          "metadata": {}
        }
      ]
    },
    {
      "metadata": {
        "_uuid": "03ce3b4afe87d98f777172c2c7be066a66a0b237",
        "_cell_guid": "604ac3a4-b1d9-4264-b312-4bbeecdeec00"
      },
      "cell_type": "markdown",
      "source": "Yep, it looks like there's some missing values. What about in the sf_permits dataset?"
    },
    {
      "metadata": {
        "_uuid": "e389495bb2e5d27ab632d5f3648ca1f912c94706",
        "_cell_guid": "8dca377c-95be-40ec-87dc-61a8fca750e2",
        "trusted": true
      },
      "cell_type": "code",
      "source": "# your turn! Look at a couple of rows from the sf_permits dataset. Do you notice any missing data?\nsf_permits.isnull().sum()\n\n# your code goes here :)",
      "execution_count": 3,
      "outputs": [
        {
          "output_type": "execute_result",
          "execution_count": 3,
          "data": {
            "text/plain": "Permit Number                                  0\nPermit Type                                    0\nPermit Type Definition                         0\nPermit Creation Date                           0\nBlock                                          0\nLot                                            0\nStreet Number                                  0\nStreet Number Suffix                      196684\nStreet Name                                    0\nStreet Suffix                               2768\nUnit                                      169421\nUnit Suffix                               196939\nDescription                                  290\nCurrent Status                                 0\nCurrent Status Date                            0\nFiled Date                                     0\nIssued Date                                14940\nCompleted Date                            101709\nFirst Construction Document Date           14946\nStructural Notification                   191978\nNumber of Existing Stories                 42784\nNumber of Proposed Stories                 42868\nVoluntary Soft-Story Retrofit             198865\nFire Only Permit                          180073\nPermit Expiration Date                     51880\nEstimated Cost                             38066\nRevised Cost                                6066\nExisting Use                               41114\nExisting Units                             51538\nProposed Use                               42439\nProposed Units                             50911\nPlansets                                   37309\nTIDF Compliance                           198898\nExisting Construction Type                 43366\nExisting Construction Type Description     43366\nProposed Construction Type                 43162\nProposed Construction Type Description     43162\nSite Permit                               193541\nSupervisor District                         1717\nNeighborhoods - Analysis Boundaries         1725\nZipcode                                     1716\nLocation                                    1700\nRecord ID                                      0\ndtype: int64"
          },
          "metadata": {}
        }
      ]
    },
    {
      "metadata": {
        "_uuid": "400b025f618cc76a39fec2537193f28ba1e49168",
        "_cell_guid": "33656c2b-a74e-4b76-9af2-d7ecd518577b"
      },
      "cell_type": "markdown",
      "source": "# See how many missing data points we have\n___\n\nOk, now we know that we do have some missing values. Let's see how many we have in each column. "
    },
    {
      "metadata": {
        "_uuid": "6dc0e32180c4a3bba003e7886faf126d93affadf",
        "_cell_guid": "a69ac02d-197b-487b-a38f-2f853d208eed",
        "trusted": true
      },
      "cell_type": "code",
      "source": "# get the number of missing data points per column\nmissing_values_count = nfl_data.isnull().sum()\n\n# look at the # of missing points in the first ten columns\nmissing_values_count[0:10]",
      "execution_count": 4,
      "outputs": [
        {
          "output_type": "execute_result",
          "execution_count": 4,
          "data": {
            "text/plain": "Date                0\nGameID              0\nDrive               0\nqtr                 0\ndown            61154\ntime              224\nTimeUnder           0\nTimeSecs          224\nPlayTimeDiff      444\nSideofField       528\ndtype: int64"
          },
          "metadata": {}
        }
      ]
    },
    {
      "metadata": {
        "_uuid": "054ba8782a7b0555336eddb90c985fb638beac4d",
        "_cell_guid": "84455c7e-6c63-4e08-a7b4-7520a61072f9"
      },
      "cell_type": "markdown",
      "source": "That seems like a lot! It might be helpful to see what percentage of the values in our dataset were missing to give us a better sense of the scale of this problem:"
    },
    {
      "metadata": {
        "_uuid": "d6e65ba197893f29d9dce0b0cd1c75017b60db09",
        "_cell_guid": "fb77dd56-192e-48be-8181-2082985dd5a2",
        "trusted": true
      },
      "cell_type": "code",
      "source": "# how many total missing values do we have?\ntotal_cells = np.product(nfl_data.shape)\ntotal_missing = missing_values_count.sum()\n\n# percent of data that is missing\n(total_missing/total_cells) * 100",
      "execution_count": 5,
      "outputs": [
        {
          "output_type": "execute_result",
          "execution_count": 5,
          "data": {
            "text/plain": "24.87214126835169"
          },
          "metadata": {}
        }
      ]
    },
    {
      "metadata": {
        "_uuid": "3331fa42efa16f3db2e8e196411f351c5f8309f5",
        "_cell_guid": "31daa324-9215-4930-985c-01dee717b6b8"
      },
      "cell_type": "markdown",
      "source": "Wow, almost a quarter of the cells in this dataset are empty! In the next step, we're going to take a closer look at some of the columns with missing values and try to figure out what might be going on with them."
    },
    {
      "metadata": {
        "_uuid": "64487760aa1afaaa8b8a4d1f95206773759db101",
        "_cell_guid": "f20a9474-41ee-4ecd-a2f4-1ab147fc8655",
        "trusted": true
      },
      "cell_type": "code",
      "source": "# your turn! Find out what percent of the sf_permits dataset is missing\ntotal_cells2 = np.product(sf_permits.shape)\ntotal_missing2 = sf_permits.isnull().sum().sum()\n\n(total_missing2 / total_cells2 * 100)",
      "execution_count": 6,
      "outputs": [
        {
          "output_type": "execute_result",
          "execution_count": 6,
          "data": {
            "text/plain": "26.26002315058403"
          },
          "metadata": {}
        }
      ]
    },
    {
      "metadata": {
        "_uuid": "032a618abb98a28e60ab84376cf21402178f995d",
        "_cell_guid": "62b9f021-5b80-43e2-bf60-8e0d5e22d572"
      },
      "cell_type": "markdown",
      "source": "# Figure out why the data is missing\n____\n \nThis is the point at which we get into the part of data science that I like to call \"data intution\", by which I mean \"really looking at your data and trying to figure out why it is the way it is and how that will affect your analysis\". It can be a frustrating part of data science, especially if you're newer to the field and don't have a lot of experience. For dealing with missing values, you'll need to use your intution to figure out why the value is missing. One of the most important question you can ask yourself to help figure this out is this:\n\n> **Is this value missing becuase it wasn't recorded or becuase it dosen't exist?**\n\nIf a value is missing becuase it doens't exist (like the height of the oldest child of someone who doesn't have any children) then it doesn't make sense to try and guess what it might be. These values you probalby do want to keep as NaN. On the other hand, if a value is missing becuase it wasn't recorded, then you can try to guess what it might have been based on the other values in that column and row. (This is called \"imputation\" and we'll learn how to do it next! :)\n\nLet's work through an example. Looking at the number of missing values in the nfl_data dataframe, I notice that the column `TimesSec` has a lot of missing values in it: "
    },
    {
      "metadata": {
        "_uuid": "b65aea6046964806e44422c057bce8bd7f8e59d5",
        "_cell_guid": "77739e82-8d32-4374-84bf-a924b6065168",
        "trusted": true
      },
      "cell_type": "code",
      "source": "# look at the # of missing points in the first ten columns\nmissing_values_count[0:10]",
      "execution_count": 7,
      "outputs": [
        {
          "output_type": "execute_result",
          "execution_count": 7,
          "data": {
            "text/plain": "Date                0\nGameID              0\nDrive               0\nqtr                 0\ndown            61154\ntime              224\nTimeUnder           0\nTimeSecs          224\nPlayTimeDiff      444\nSideofField       528\ndtype: int64"
          },
          "metadata": {}
        }
      ]
    },
    {
      "metadata": {
        "_uuid": "5cff158285ab37a89b80dcc35d5c690cdb42d3a4",
        "_cell_guid": "1b17f4c9-dcab-4857-82f9-a2534e804c91"
      },
      "cell_type": "markdown",
      "source": "By looking at [the documentation](https://www.kaggle.com/maxhorowitz/nflplaybyplay2009to2016), I can see that this column has information on the number of seconds left in the game when the play was made. This means that these values are probably missing because they were not recorded, rather than because they don't exist. So, it would make sense for us to try and guess what they should be rather than just leaving them as NA's.\n\nOn the other hand, there are other fields, like `PenalizedTeam` that also have lot of missing fields. In this case, though, the field is missing because if there was no penalty then it doesn't make sense to say *which* team was penalized. For this column, it would make more sense to either leave it empty or to add a third value like \"neither\" and use that to replace the NA's.\n\n> **Tip:** This is a great place to read over the dataset documentation if you haven't already! If you're working with a dataset that you've gotten from another person, you can also try reaching out to them to get more information.\n\nIf you're doing very careful data analysis, this is the point at which you'd look at each column individually to figure out the best strategy for filling those missing values. For the rest of this notebook, we'll cover some \"quick and dirty\" techniques that can help you with missing values but will probably also end up removing some useful information or adding some noise to your data.\n\n## Your turn!\n\n* Look at the columns `Street Number Suffix` and `Zipcode` from the `sf_permits` datasets. Both of these contain missing values. Which, if either, of these are missing because they don't exist? Which, if either, are missing because they weren't recorded?"
    },
    {
      "metadata": {
        "_uuid": "4fc5bd7a04dd1e3815d8d7df02a3e88567404218",
        "_cell_guid": "c5235169-1aad-45a3-854e-32358e6a7091",
        "trusted": true
      },
      "cell_type": "code",
      "source": "sf_permits[['Street Number Suffix', 'Zipcode']].head()",
      "execution_count": 8,
      "outputs": [
        {
          "output_type": "execute_result",
          "execution_count": 8,
          "data": {
            "text/plain": "  Street Number Suffix  Zipcode\n0                  NaN  94102.0\n1                  NaN  94102.0\n2                  NaN  94109.0\n3                  NaN  94109.0\n4                  NaN  94102.0",
            "text/html": "<div>\n<style scoped>\n    .dataframe tbody tr th:only-of-type {\n        vertical-align: middle;\n    }\n\n    .dataframe tbody tr th {\n        vertical-align: top;\n    }\n\n    .dataframe thead th {\n        text-align: right;\n    }\n</style>\n<table border=\"1\" class=\"dataframe\">\n  <thead>\n    <tr style=\"text-align: right;\">\n      <th></th>\n      <th>Street Number Suffix</th>\n      <th>Zipcode</th>\n    </tr>\n  </thead>\n  <tbody>\n    <tr>\n      <th>0</th>\n      <td>NaN</td>\n      <td>94102.0</td>\n    </tr>\n    <tr>\n      <th>1</th>\n      <td>NaN</td>\n      <td>94102.0</td>\n    </tr>\n    <tr>\n      <th>2</th>\n      <td>NaN</td>\n      <td>94109.0</td>\n    </tr>\n    <tr>\n      <th>3</th>\n      <td>NaN</td>\n      <td>94109.0</td>\n    </tr>\n    <tr>\n      <th>4</th>\n      <td>NaN</td>\n      <td>94102.0</td>\n    </tr>\n  </tbody>\n</table>\n</div>"
          },
          "metadata": {}
        }
      ]
    },
    {
      "metadata": {
        "_uuid": "987a958697ee64ba4d9373d4e273f5d83255cdc5",
        "_cell_guid": "e10eb582-e627-4219-bbce-da70fa206d86",
        "trusted": true
      },
      "cell_type": "code",
      "source": "print('Proportion of nulls in `Zipcode')\nprint(sf_permits['Zipcode'].isnull().sum() / len(sf_permits) * 100)",
      "execution_count": 9,
      "outputs": [
        {
          "output_type": "stream",
          "text": "Proportion of nulls in `Zipcode\n0.8627450980392156\n",
          "name": "stdout"
        }
      ]
    },
    {
      "metadata": {
        "_uuid": "8b2cdf9a9d5efdccf0005a9a7df048d60fd5f2ad",
        "_cell_guid": "16b03346-75e3-4361-a977-6d048b202874",
        "trusted": true
      },
      "cell_type": "code",
      "source": "print('Proportion of nulls in `Street Number Suffix` column')\nprint(sf_permits['Street Number Suffix'].isnull().sum() / len(sf_permits) * 100)",
      "execution_count": 10,
      "outputs": [
        {
          "output_type": "stream",
          "text": "Proportion of nulls in `Street Number Suffix` column\n98.88587229763701\n",
          "name": "stdout"
        }
      ]
    },
    {
      "metadata": {
        "collapsed": true,
        "_uuid": "699778d0a8322180dbca53137e3759e7ab1a38af",
        "_cell_guid": "9c687d82-0510-4614-8916-d1b8745208b9",
        "trusted": true
      },
      "cell_type": "code",
      "source": "",
      "execution_count": null,
      "outputs": []
    },
    {
      "metadata": {
        "_uuid": "5a69e2c0201eef3ec1dc5a150d1f907764b0680a",
        "_cell_guid": "0c5054f3-22f0-473d-87d2-7a12b4840e2b"
      },
      "cell_type": "markdown",
      "source": "### Note.\n* `Street Number Suffix`\n  * About 99% values in this column = `null`\n  * `Street Number Suffix` : this column can be `null` since the value does not exist.\n* `Zipcode`\n  * About 86% values in this column = `null`\n  * `Zipcode` must exist : this column seems available to be imputed."
    },
    {
      "metadata": {
        "collapsed": true,
        "_uuid": "a7c61a5bd32353972fea997491893a412228077a",
        "_cell_guid": "333f10d8-bd8f-46ed-9fbb-9fdf34281c22",
        "trusted": true
      },
      "cell_type": "code",
      "source": "",
      "execution_count": null,
      "outputs": []
    },
    {
      "metadata": {
        "_uuid": "3f72f46f2464c7cd12f5eb2a752746ce1cd0b5a7",
        "_cell_guid": "ea022b62-6419-47e7-973e-c3e707e2795f"
      },
      "cell_type": "markdown",
      "source": "# Drop missing values\n___\n\nIf you're in a hurry or don't have a reason to figure out why your values are missing, one option you have is to just remove any rows or columns that contain missing values. \n\n### Note: I don't generally recommend this approch for important projects! \nIt's usually worth it to take the time to go through your data and really look at all the columns with missing values one-by-one to really get to know your dataset.\n\nIf you're sure you want to drop rows with missing values, pandas does have a handy function, `dropna()` to help you do this. Let's try it out on our NFL dataset!"
    },
    {
      "metadata": {
        "_uuid": "ad8ef7825ba9bce3472a47d7c5242a4522f14065",
        "_cell_guid": "ad0ac9a2-2854-4bb7-8886-8eee7fad8756",
        "trusted": true
      },
      "cell_type": "code",
      "source": "# remove all the rows that contain a missing value\nnfl_data.dropna()",
      "execution_count": 11,
      "outputs": [
        {
          "output_type": "execute_result",
          "execution_count": 11,
          "data": {
            "text/plain": "Empty DataFrame\nColumns: [Date, GameID, Drive, qtr, down, time, TimeUnder, TimeSecs, PlayTimeDiff, SideofField, yrdln, yrdline100, ydstogo, ydsnet, GoalToGo, FirstDown, posteam, DefensiveTeam, desc, PlayAttempted, Yards.Gained, sp, Touchdown, ExPointResult, TwoPointConv, DefTwoPoint, Safety, Onsidekick, PuntResult, PlayType, Passer, Passer_ID, PassAttempt, PassOutcome, PassLength, AirYards, YardsAfterCatch, QBHit, PassLocation, InterceptionThrown, Interceptor, Rusher, Rusher_ID, RushAttempt, RunLocation, RunGap, Receiver, Receiver_ID, Reception, ReturnResult, Returner, BlockingPlayer, Tackler1, Tackler2, FieldGoalResult, FieldGoalDistance, Fumble, RecFumbTeam, RecFumbPlayer, Sack, Challenge.Replay, ChalReplayResult, Accepted.Penalty, PenalizedTeam, PenaltyType, PenalizedPlayer, Penalty.Yards, PosTeamScore, DefTeamScore, ScoreDiff, AbsScoreDiff, HomeTeam, AwayTeam, Timeout_Indicator, Timeout_Team, posteam_timeouts_pre, HomeTimeouts_Remaining_Pre, AwayTimeouts_Remaining_Pre, HomeTimeouts_Remaining_Post, AwayTimeouts_Remaining_Post, No_Score_Prob, Opp_Field_Goal_Prob, Opp_Safety_Prob, Opp_Touchdown_Prob, Field_Goal_Prob, Safety_Prob, Touchdown_Prob, ExPoint_Prob, TwoPoint_Prob, ExpPts, EPA, airEPA, yacEPA, Home_WP_pre, Away_WP_pre, Home_WP_post, Away_WP_post, Win_Prob, WPA, airWPA, ...]\nIndex: []\n\n[0 rows x 102 columns]",
            "text/html": "<div>\n<style scoped>\n    .dataframe tbody tr th:only-of-type {\n        vertical-align: middle;\n    }\n\n    .dataframe tbody tr th {\n        vertical-align: top;\n    }\n\n    .dataframe thead th {\n        text-align: right;\n    }\n</style>\n<table border=\"1\" class=\"dataframe\">\n  <thead>\n    <tr style=\"text-align: right;\">\n      <th></th>\n      <th>Date</th>\n      <th>GameID</th>\n      <th>Drive</th>\n      <th>qtr</th>\n      <th>down</th>\n      <th>time</th>\n      <th>TimeUnder</th>\n      <th>TimeSecs</th>\n      <th>PlayTimeDiff</th>\n      <th>SideofField</th>\n      <th>...</th>\n      <th>yacEPA</th>\n      <th>Home_WP_pre</th>\n      <th>Away_WP_pre</th>\n      <th>Home_WP_post</th>\n      <th>Away_WP_post</th>\n      <th>Win_Prob</th>\n      <th>WPA</th>\n      <th>airWPA</th>\n      <th>yacWPA</th>\n      <th>Season</th>\n    </tr>\n  </thead>\n  <tbody>\n  </tbody>\n</table>\n<p>0 rows × 102 columns</p>\n</div>"
          },
          "metadata": {}
        }
      ]
    },
    {
      "metadata": {
        "_uuid": "33eb849e076d2a4d0c409f58d78b5f303879b1b3",
        "_cell_guid": "e0545655-3d37-448b-ae56-2c7707cd805d"
      },
      "cell_type": "markdown",
      "source": "Oh dear, it looks like that's removed all our data! 😱 This is because every row in our dataset had at least one missing value. We might have better luck removing all the *columns* that have at least one missing value instead."
    },
    {
      "metadata": {
        "_uuid": "87c569672854fe23e1ee9376ef3115ba4712cbf5",
        "_cell_guid": "97709ad4-f7b8-4cd0-8911-56e14db904ae",
        "trusted": true
      },
      "cell_type": "code",
      "source": "# remove all columns with at least one missing value\ncolumns_with_na_dropped = nfl_data.dropna(axis=1)\ncolumns_with_na_dropped.head()",
      "execution_count": 12,
      "outputs": [
        {
          "output_type": "execute_result",
          "execution_count": 12,
          "data": {
            "text/plain": "         Date      GameID  Drive  qtr  TimeUnder  ydstogo  ydsnet  \\\n0  2009-09-10  2009091000      1    1         15        0       0   \n1  2009-09-10  2009091000      1    1         15       10       5   \n2  2009-09-10  2009091000      1    1         15        5       2   \n3  2009-09-10  2009091000      1    1         14        8       2   \n4  2009-09-10  2009091000      1    1         14        8       2   \n\n   PlayAttempted  Yards.Gained  sp   ...    Timeout_Indicator  Timeout_Team  \\\n0              1            39   0   ...                    0          None   \n1              1             5   0   ...                    0          None   \n2              1            -3   0   ...                    0          None   \n3              1             0   0   ...                    0          None   \n4              1             0   0   ...                    0          None   \n\n   posteam_timeouts_pre HomeTimeouts_Remaining_Pre AwayTimeouts_Remaining_Pre  \\\n0                     3                          3                          3   \n1                     3                          3                          3   \n2                     3                          3                          3   \n3                     3                          3                          3   \n4                     3                          3                          3   \n\n   HomeTimeouts_Remaining_Post  AwayTimeouts_Remaining_Post  ExPoint_Prob  \\\n0                            3                            3           0.0   \n1                            3                            3           0.0   \n2                            3                            3           0.0   \n3                            3                            3           0.0   \n4                            3                            3           0.0   \n\n   TwoPoint_Prob  Season  \n0            0.0    2009  \n1            0.0    2009  \n2            0.0    2009  \n3            0.0    2009  \n4            0.0    2009  \n\n[5 rows x 41 columns]",
            "text/html": "<div>\n<style scoped>\n    .dataframe tbody tr th:only-of-type {\n        vertical-align: middle;\n    }\n\n    .dataframe tbody tr th {\n        vertical-align: top;\n    }\n\n    .dataframe thead th {\n        text-align: right;\n    }\n</style>\n<table border=\"1\" class=\"dataframe\">\n  <thead>\n    <tr style=\"text-align: right;\">\n      <th></th>\n      <th>Date</th>\n      <th>GameID</th>\n      <th>Drive</th>\n      <th>qtr</th>\n      <th>TimeUnder</th>\n      <th>ydstogo</th>\n      <th>ydsnet</th>\n      <th>PlayAttempted</th>\n      <th>Yards.Gained</th>\n      <th>sp</th>\n      <th>...</th>\n      <th>Timeout_Indicator</th>\n      <th>Timeout_Team</th>\n      <th>posteam_timeouts_pre</th>\n      <th>HomeTimeouts_Remaining_Pre</th>\n      <th>AwayTimeouts_Remaining_Pre</th>\n      <th>HomeTimeouts_Remaining_Post</th>\n      <th>AwayTimeouts_Remaining_Post</th>\n      <th>ExPoint_Prob</th>\n      <th>TwoPoint_Prob</th>\n      <th>Season</th>\n    </tr>\n  </thead>\n  <tbody>\n    <tr>\n      <th>0</th>\n      <td>2009-09-10</td>\n      <td>2009091000</td>\n      <td>1</td>\n      <td>1</td>\n      <td>15</td>\n      <td>0</td>\n      <td>0</td>\n      <td>1</td>\n      <td>39</td>\n      <td>0</td>\n      <td>...</td>\n      <td>0</td>\n      <td>None</td>\n      <td>3</td>\n      <td>3</td>\n      <td>3</td>\n      <td>3</td>\n      <td>3</td>\n      <td>0.0</td>\n      <td>0.0</td>\n      <td>2009</td>\n    </tr>\n    <tr>\n      <th>1</th>\n      <td>2009-09-10</td>\n      <td>2009091000</td>\n      <td>1</td>\n      <td>1</td>\n      <td>15</td>\n      <td>10</td>\n      <td>5</td>\n      <td>1</td>\n      <td>5</td>\n      <td>0</td>\n      <td>...</td>\n      <td>0</td>\n      <td>None</td>\n      <td>3</td>\n      <td>3</td>\n      <td>3</td>\n      <td>3</td>\n      <td>3</td>\n      <td>0.0</td>\n      <td>0.0</td>\n      <td>2009</td>\n    </tr>\n    <tr>\n      <th>2</th>\n      <td>2009-09-10</td>\n      <td>2009091000</td>\n      <td>1</td>\n      <td>1</td>\n      <td>15</td>\n      <td>5</td>\n      <td>2</td>\n      <td>1</td>\n      <td>-3</td>\n      <td>0</td>\n      <td>...</td>\n      <td>0</td>\n      <td>None</td>\n      <td>3</td>\n      <td>3</td>\n      <td>3</td>\n      <td>3</td>\n      <td>3</td>\n      <td>0.0</td>\n      <td>0.0</td>\n      <td>2009</td>\n    </tr>\n    <tr>\n      <th>3</th>\n      <td>2009-09-10</td>\n      <td>2009091000</td>\n      <td>1</td>\n      <td>1</td>\n      <td>14</td>\n      <td>8</td>\n      <td>2</td>\n      <td>1</td>\n      <td>0</td>\n      <td>0</td>\n      <td>...</td>\n      <td>0</td>\n      <td>None</td>\n      <td>3</td>\n      <td>3</td>\n      <td>3</td>\n      <td>3</td>\n      <td>3</td>\n      <td>0.0</td>\n      <td>0.0</td>\n      <td>2009</td>\n    </tr>\n    <tr>\n      <th>4</th>\n      <td>2009-09-10</td>\n      <td>2009091000</td>\n      <td>1</td>\n      <td>1</td>\n      <td>14</td>\n      <td>8</td>\n      <td>2</td>\n      <td>1</td>\n      <td>0</td>\n      <td>0</td>\n      <td>...</td>\n      <td>0</td>\n      <td>None</td>\n      <td>3</td>\n      <td>3</td>\n      <td>3</td>\n      <td>3</td>\n      <td>3</td>\n      <td>0.0</td>\n      <td>0.0</td>\n      <td>2009</td>\n    </tr>\n  </tbody>\n</table>\n<p>5 rows × 41 columns</p>\n</div>"
          },
          "metadata": {}
        }
      ]
    },
    {
      "metadata": {
        "_uuid": "e60a092d2799851aa725eadf28b197022a6b127f",
        "_cell_guid": "0e51b19b-c44d-4487-8417-725d2b911739",
        "trusted": true
      },
      "cell_type": "code",
      "source": "# just how much data did we lose?\nprint(\"Columns in original dataset: %d \\n\" % nfl_data.shape[1])\nprint(\"Columns with na's dropped: %d\" % columns_with_na_dropped.shape[1])",
      "execution_count": 13,
      "outputs": [
        {
          "output_type": "stream",
          "text": "Columns in original dataset: 102 \n\nColumns with na's dropped: 41\n",
          "name": "stdout"
        }
      ]
    },
    {
      "metadata": {
        "_uuid": "bac84fee4ca849e54839c716c43dddfbb559954b",
        "_cell_guid": "f417c614-f77f-45eb-b16b-fdc0be936502"
      },
      "cell_type": "markdown",
      "source": "We've lost quite a bit of data, but at this point we have successfully removed all the `NaN`'s from our data. "
    },
    {
      "metadata": {
        "_uuid": "8207912f74712835283f7e1b30dad0471ee2e1fc",
        "_cell_guid": "0fe94654-7dad-4e8d-bbbb-e65e2bb2f767",
        "trusted": true
      },
      "cell_type": "code",
      "source": "# Your turn! Try removing all the rows from the sf_permits dataset that contain missing values. How many are left?\nsf_permits.dropna().shape\n\n### No row left.",
      "execution_count": 14,
      "outputs": [
        {
          "output_type": "execute_result",
          "execution_count": 14,
          "data": {
            "text/plain": "(0, 43)"
          },
          "metadata": {}
        }
      ]
    },
    {
      "metadata": {
        "_uuid": "f804c0448b18b6d411ddf8452d15abba8292fffa",
        "_cell_guid": "7ec643e1-abba-4683-b794-a1924e657501",
        "trusted": true
      },
      "cell_type": "code",
      "source": "# Now try removing all the columns with empty values. Now how much of your data is left?\nsf_permits.dropna(axis=1).shape",
      "execution_count": 15,
      "outputs": [
        {
          "output_type": "execute_result",
          "execution_count": 15,
          "data": {
            "text/plain": "(198900, 12)"
          },
          "metadata": {}
        }
      ]
    },
    {
      "metadata": {
        "_uuid": "b0ddd7bedc68572673dbd9207dcb9d017428fa2b",
        "_cell_guid": "2f7f1558-622e-4fef-8e0d-d0260e6cfc03",
        "trusted": true
      },
      "cell_type": "code",
      "source": "# just how much data did we lose?\nprint(\"Columns in original dataset: %d \\n\" % sf_permits.shape[1])\nprint(\"Columns with na's dropped: %d\" % sf_permits.dropna(axis=1).shape[1])",
      "execution_count": 16,
      "outputs": [
        {
          "output_type": "stream",
          "text": "Columns in original dataset: 43 \n\nColumns with na's dropped: 12\n",
          "name": "stdout"
        }
      ]
    },
    {
      "metadata": {
        "collapsed": true,
        "_uuid": "fbe2a03757a72cd48c70a40814a7aa97dcadb98e",
        "_cell_guid": "2621ba69-dae6-4935-92aa-5f04782d1bd5",
        "trusted": true
      },
      "cell_type": "code",
      "source": "",
      "execution_count": null,
      "outputs": []
    },
    {
      "metadata": {
        "_uuid": "eb1ef8d47d9ebed77c3d21eca24708708ed4d45f",
        "_cell_guid": "1dbe153d-7b30-4ad8-80ad-a4c7fb53928e"
      },
      "cell_type": "markdown",
      "source": "# Filling in missing values automatically\n_____\n\nAnother option is to try and fill in the missing values. For this next bit, I'm getting a small sub-section of the NFL data so that it will print well."
    },
    {
      "metadata": {
        "_uuid": "e0944282c73a63513d5345689ddd6a9da0fc8547",
        "_cell_guid": "76fd83fb-a6d9-4c03-8c94-a111ee529881",
        "trusted": true
      },
      "cell_type": "code",
      "source": "# get a small subset of the NFL dataset\nsubset_nfl_data = nfl_data.loc[:, 'EPA':'Season'].head()\nsubset_nfl_data",
      "execution_count": 17,
      "outputs": [
        {
          "output_type": "execute_result",
          "execution_count": 17,
          "data": {
            "text/plain": "        EPA    airEPA    yacEPA  Home_WP_pre  Away_WP_pre  Home_WP_post  \\\n0  2.014474       NaN       NaN     0.485675     0.514325      0.546433   \n1  0.077907 -1.068169  1.146076     0.546433     0.453567      0.551088   \n2 -1.402760       NaN       NaN     0.551088     0.448912      0.510793   \n3 -1.712583  3.318841 -5.031425     0.510793     0.489207      0.461217   \n4  2.097796       NaN       NaN     0.461217     0.538783      0.558929   \n\n   Away_WP_post  Win_Prob       WPA    airWPA    yacWPA  Season  \n0      0.453567  0.485675  0.060758       NaN       NaN    2009  \n1      0.448912  0.546433  0.004655 -0.032244  0.036899    2009  \n2      0.489207  0.551088 -0.040295       NaN       NaN    2009  \n3      0.538783  0.510793 -0.049576  0.106663 -0.156239    2009  \n4      0.441071  0.461217  0.097712       NaN       NaN    2009  ",
            "text/html": "<div>\n<style scoped>\n    .dataframe tbody tr th:only-of-type {\n        vertical-align: middle;\n    }\n\n    .dataframe tbody tr th {\n        vertical-align: top;\n    }\n\n    .dataframe thead th {\n        text-align: right;\n    }\n</style>\n<table border=\"1\" class=\"dataframe\">\n  <thead>\n    <tr style=\"text-align: right;\">\n      <th></th>\n      <th>EPA</th>\n      <th>airEPA</th>\n      <th>yacEPA</th>\n      <th>Home_WP_pre</th>\n      <th>Away_WP_pre</th>\n      <th>Home_WP_post</th>\n      <th>Away_WP_post</th>\n      <th>Win_Prob</th>\n      <th>WPA</th>\n      <th>airWPA</th>\n      <th>yacWPA</th>\n      <th>Season</th>\n    </tr>\n  </thead>\n  <tbody>\n    <tr>\n      <th>0</th>\n      <td>2.014474</td>\n      <td>NaN</td>\n      <td>NaN</td>\n      <td>0.485675</td>\n      <td>0.514325</td>\n      <td>0.546433</td>\n      <td>0.453567</td>\n      <td>0.485675</td>\n      <td>0.060758</td>\n      <td>NaN</td>\n      <td>NaN</td>\n      <td>2009</td>\n    </tr>\n    <tr>\n      <th>1</th>\n      <td>0.077907</td>\n      <td>-1.068169</td>\n      <td>1.146076</td>\n      <td>0.546433</td>\n      <td>0.453567</td>\n      <td>0.551088</td>\n      <td>0.448912</td>\n      <td>0.546433</td>\n      <td>0.004655</td>\n      <td>-0.032244</td>\n      <td>0.036899</td>\n      <td>2009</td>\n    </tr>\n    <tr>\n      <th>2</th>\n      <td>-1.402760</td>\n      <td>NaN</td>\n      <td>NaN</td>\n      <td>0.551088</td>\n      <td>0.448912</td>\n      <td>0.510793</td>\n      <td>0.489207</td>\n      <td>0.551088</td>\n      <td>-0.040295</td>\n      <td>NaN</td>\n      <td>NaN</td>\n      <td>2009</td>\n    </tr>\n    <tr>\n      <th>3</th>\n      <td>-1.712583</td>\n      <td>3.318841</td>\n      <td>-5.031425</td>\n      <td>0.510793</td>\n      <td>0.489207</td>\n      <td>0.461217</td>\n      <td>0.538783</td>\n      <td>0.510793</td>\n      <td>-0.049576</td>\n      <td>0.106663</td>\n      <td>-0.156239</td>\n      <td>2009</td>\n    </tr>\n    <tr>\n      <th>4</th>\n      <td>2.097796</td>\n      <td>NaN</td>\n      <td>NaN</td>\n      <td>0.461217</td>\n      <td>0.538783</td>\n      <td>0.558929</td>\n      <td>0.441071</td>\n      <td>0.461217</td>\n      <td>0.097712</td>\n      <td>NaN</td>\n      <td>NaN</td>\n      <td>2009</td>\n    </tr>\n  </tbody>\n</table>\n</div>"
          },
          "metadata": {}
        }
      ]
    },
    {
      "metadata": {
        "_uuid": "f8cfe916904af3265d8ecc4f791f9f62e34ff458",
        "_cell_guid": "527c8703-4b29-459d-af7d-5505da36016b"
      },
      "cell_type": "markdown",
      "source": "We can use the Panda's fillna() function to fill in missing values in a dataframe for us. One option we have is to specify what we want the `NaN` values to be replaced with. Here, I'm saying that I would like to replace all the `NaN` values with 0."
    },
    {
      "metadata": {
        "_uuid": "77eac530ce398b8c13eb7886f86bce48fd997f34",
        "_cell_guid": "c01ed989-8901-43c8-afa3-6ca36605dfb5",
        "trusted": true
      },
      "cell_type": "code",
      "source": "# replace all NA's with 0\nsubset_nfl_data.fillna(0)",
      "execution_count": 18,
      "outputs": [
        {
          "output_type": "execute_result",
          "execution_count": 18,
          "data": {
            "text/plain": "        EPA    airEPA    yacEPA  Home_WP_pre  Away_WP_pre  Home_WP_post  \\\n0  2.014474  0.000000  0.000000     0.485675     0.514325      0.546433   \n1  0.077907 -1.068169  1.146076     0.546433     0.453567      0.551088   \n2 -1.402760  0.000000  0.000000     0.551088     0.448912      0.510793   \n3 -1.712583  3.318841 -5.031425     0.510793     0.489207      0.461217   \n4  2.097796  0.000000  0.000000     0.461217     0.538783      0.558929   \n\n   Away_WP_post  Win_Prob       WPA    airWPA    yacWPA  Season  \n0      0.453567  0.485675  0.060758  0.000000  0.000000    2009  \n1      0.448912  0.546433  0.004655 -0.032244  0.036899    2009  \n2      0.489207  0.551088 -0.040295  0.000000  0.000000    2009  \n3      0.538783  0.510793 -0.049576  0.106663 -0.156239    2009  \n4      0.441071  0.461217  0.097712  0.000000  0.000000    2009  ",
            "text/html": "<div>\n<style scoped>\n    .dataframe tbody tr th:only-of-type {\n        vertical-align: middle;\n    }\n\n    .dataframe tbody tr th {\n        vertical-align: top;\n    }\n\n    .dataframe thead th {\n        text-align: right;\n    }\n</style>\n<table border=\"1\" class=\"dataframe\">\n  <thead>\n    <tr style=\"text-align: right;\">\n      <th></th>\n      <th>EPA</th>\n      <th>airEPA</th>\n      <th>yacEPA</th>\n      <th>Home_WP_pre</th>\n      <th>Away_WP_pre</th>\n      <th>Home_WP_post</th>\n      <th>Away_WP_post</th>\n      <th>Win_Prob</th>\n      <th>WPA</th>\n      <th>airWPA</th>\n      <th>yacWPA</th>\n      <th>Season</th>\n    </tr>\n  </thead>\n  <tbody>\n    <tr>\n      <th>0</th>\n      <td>2.014474</td>\n      <td>0.000000</td>\n      <td>0.000000</td>\n      <td>0.485675</td>\n      <td>0.514325</td>\n      <td>0.546433</td>\n      <td>0.453567</td>\n      <td>0.485675</td>\n      <td>0.060758</td>\n      <td>0.000000</td>\n      <td>0.000000</td>\n      <td>2009</td>\n    </tr>\n    <tr>\n      <th>1</th>\n      <td>0.077907</td>\n      <td>-1.068169</td>\n      <td>1.146076</td>\n      <td>0.546433</td>\n      <td>0.453567</td>\n      <td>0.551088</td>\n      <td>0.448912</td>\n      <td>0.546433</td>\n      <td>0.004655</td>\n      <td>-0.032244</td>\n      <td>0.036899</td>\n      <td>2009</td>\n    </tr>\n    <tr>\n      <th>2</th>\n      <td>-1.402760</td>\n      <td>0.000000</td>\n      <td>0.000000</td>\n      <td>0.551088</td>\n      <td>0.448912</td>\n      <td>0.510793</td>\n      <td>0.489207</td>\n      <td>0.551088</td>\n      <td>-0.040295</td>\n      <td>0.000000</td>\n      <td>0.000000</td>\n      <td>2009</td>\n    </tr>\n    <tr>\n      <th>3</th>\n      <td>-1.712583</td>\n      <td>3.318841</td>\n      <td>-5.031425</td>\n      <td>0.510793</td>\n      <td>0.489207</td>\n      <td>0.461217</td>\n      <td>0.538783</td>\n      <td>0.510793</td>\n      <td>-0.049576</td>\n      <td>0.106663</td>\n      <td>-0.156239</td>\n      <td>2009</td>\n    </tr>\n    <tr>\n      <th>4</th>\n      <td>2.097796</td>\n      <td>0.000000</td>\n      <td>0.000000</td>\n      <td>0.461217</td>\n      <td>0.538783</td>\n      <td>0.558929</td>\n      <td>0.441071</td>\n      <td>0.461217</td>\n      <td>0.097712</td>\n      <td>0.000000</td>\n      <td>0.000000</td>\n      <td>2009</td>\n    </tr>\n  </tbody>\n</table>\n</div>"
          },
          "metadata": {}
        }
      ]
    },
    {
      "metadata": {
        "_uuid": "bec603202c6bfaae7a49b4a4042f37019ad1d801",
        "_cell_guid": "1103b725-c823-4f40-9bda-e97997856339"
      },
      "cell_type": "markdown",
      "source": "I could also be a bit more savvy and replace missing values with whatever value comes directly after it in the same column. (This makes a lot of sense for datasets where the observations have some sort of logical order to them.)"
    },
    {
      "metadata": {
        "_uuid": "afba99aa7897539e9a0af77dce03daab94d0ca68",
        "_cell_guid": "90ddac9b-ee20-492e-b437-0519c97ca317",
        "trusted": true
      },
      "cell_type": "code",
      "source": "# replace all NA's the value that comes directly after it in the same column, \n# then replace all the reamining na's with 0\nsubset_nfl_data.fillna(method = 'bfill', axis=0).fillna(0)",
      "execution_count": 19,
      "outputs": [
        {
          "output_type": "execute_result",
          "execution_count": 19,
          "data": {
            "text/plain": "        EPA    airEPA    yacEPA  Home_WP_pre  Away_WP_pre  Home_WP_post  \\\n0  2.014474 -1.068169  1.146076     0.485675     0.514325      0.546433   \n1  0.077907 -1.068169  1.146076     0.546433     0.453567      0.551088   \n2 -1.402760  3.318841 -5.031425     0.551088     0.448912      0.510793   \n3 -1.712583  3.318841 -5.031425     0.510793     0.489207      0.461217   \n4  2.097796  0.000000  0.000000     0.461217     0.538783      0.558929   \n\n   Away_WP_post  Win_Prob       WPA    airWPA    yacWPA  Season  \n0      0.453567  0.485675  0.060758 -0.032244  0.036899    2009  \n1      0.448912  0.546433  0.004655 -0.032244  0.036899    2009  \n2      0.489207  0.551088 -0.040295  0.106663 -0.156239    2009  \n3      0.538783  0.510793 -0.049576  0.106663 -0.156239    2009  \n4      0.441071  0.461217  0.097712  0.000000  0.000000    2009  ",
            "text/html": "<div>\n<style scoped>\n    .dataframe tbody tr th:only-of-type {\n        vertical-align: middle;\n    }\n\n    .dataframe tbody tr th {\n        vertical-align: top;\n    }\n\n    .dataframe thead th {\n        text-align: right;\n    }\n</style>\n<table border=\"1\" class=\"dataframe\">\n  <thead>\n    <tr style=\"text-align: right;\">\n      <th></th>\n      <th>EPA</th>\n      <th>airEPA</th>\n      <th>yacEPA</th>\n      <th>Home_WP_pre</th>\n      <th>Away_WP_pre</th>\n      <th>Home_WP_post</th>\n      <th>Away_WP_post</th>\n      <th>Win_Prob</th>\n      <th>WPA</th>\n      <th>airWPA</th>\n      <th>yacWPA</th>\n      <th>Season</th>\n    </tr>\n  </thead>\n  <tbody>\n    <tr>\n      <th>0</th>\n      <td>2.014474</td>\n      <td>-1.068169</td>\n      <td>1.146076</td>\n      <td>0.485675</td>\n      <td>0.514325</td>\n      <td>0.546433</td>\n      <td>0.453567</td>\n      <td>0.485675</td>\n      <td>0.060758</td>\n      <td>-0.032244</td>\n      <td>0.036899</td>\n      <td>2009</td>\n    </tr>\n    <tr>\n      <th>1</th>\n      <td>0.077907</td>\n      <td>-1.068169</td>\n      <td>1.146076</td>\n      <td>0.546433</td>\n      <td>0.453567</td>\n      <td>0.551088</td>\n      <td>0.448912</td>\n      <td>0.546433</td>\n      <td>0.004655</td>\n      <td>-0.032244</td>\n      <td>0.036899</td>\n      <td>2009</td>\n    </tr>\n    <tr>\n      <th>2</th>\n      <td>-1.402760</td>\n      <td>3.318841</td>\n      <td>-5.031425</td>\n      <td>0.551088</td>\n      <td>0.448912</td>\n      <td>0.510793</td>\n      <td>0.489207</td>\n      <td>0.551088</td>\n      <td>-0.040295</td>\n      <td>0.106663</td>\n      <td>-0.156239</td>\n      <td>2009</td>\n    </tr>\n    <tr>\n      <th>3</th>\n      <td>-1.712583</td>\n      <td>3.318841</td>\n      <td>-5.031425</td>\n      <td>0.510793</td>\n      <td>0.489207</td>\n      <td>0.461217</td>\n      <td>0.538783</td>\n      <td>0.510793</td>\n      <td>-0.049576</td>\n      <td>0.106663</td>\n      <td>-0.156239</td>\n      <td>2009</td>\n    </tr>\n    <tr>\n      <th>4</th>\n      <td>2.097796</td>\n      <td>0.000000</td>\n      <td>0.000000</td>\n      <td>0.461217</td>\n      <td>0.538783</td>\n      <td>0.558929</td>\n      <td>0.441071</td>\n      <td>0.461217</td>\n      <td>0.097712</td>\n      <td>0.000000</td>\n      <td>0.000000</td>\n      <td>2009</td>\n    </tr>\n  </tbody>\n</table>\n</div>"
          },
          "metadata": {}
        }
      ]
    },
    {
      "metadata": {
        "_uuid": "1f8ac8b52f2933612e315f06a53185e164e6c5bc",
        "_cell_guid": "980e5d67-7e9c-41a3-b17e-51d87e9da9cf"
      },
      "cell_type": "markdown",
      "source": "Filling in missing values is also known as \"imputation\", and you can find more exercises on it [in this lesson, also linked under the \"More practice!\" section](https://www.kaggle.com/dansbecker/handling-missing-values). First, however, why don't you try replacing some of the missing values in the sf_permit dataset?"
    },
    {
      "metadata": {
        "_uuid": "f7d403c19eaf31ee0a4e04b9e1119eda96a9f95c",
        "_cell_guid": "da426397-7e17-40ce-a0d4-ca6d39e47498",
        "trusted": true
      },
      "cell_type": "code",
      "source": "# Your turn! Try replacing all the NaN's in the sf_permits data with the one that\n# comes directly after it and then replacing any remaining NaN's with 0\n\nsf_permits_imputed = sf_permits.fillna(method='bfill', axis=0).fillna(0)\nsf_permits_imputed.head()",
      "execution_count": 20,
      "outputs": [
        {
          "output_type": "execute_result",
          "execution_count": 20,
          "data": {
            "text/plain": "  Permit Number  Permit Type            Permit Type Definition  \\\n0  201505065519            4                      sign - erect   \n1  201604195146            4                      sign - erect   \n2  201605278609            3  additions alterations or repairs   \n3  201611072166            8            otc alterations permit   \n4  201611283529            6                       demolitions   \n\n  Permit Creation Date Block  Lot  Street Number Street Number Suffix  \\\n0           05/06/2015  0326  023            140                    A   \n1           04/19/2016  0306  007            440                    A   \n2           05/27/2016  0595  203           1647                    A   \n3           11/07/2016  0156  011           1230                    A   \n4           11/28/2016  0342  001            950                    A   \n\n  Street Name Street Suffix      ...        Existing Construction Type  \\\n0       Ellis            St      ...                               3.0   \n1       Geary            St      ...                               3.0   \n2     Pacific            Av      ...                               1.0   \n3     Pacific            Av      ...                               5.0   \n4      Market            St      ...                               3.0   \n\n  Existing Construction Type Description Proposed Construction Type  \\\n0                          constr type 3                        1.0   \n1                          constr type 3                        1.0   \n2                          constr type 1                        1.0   \n3                         wood frame (5)                        5.0   \n4                          constr type 3                        1.0   \n\n  Proposed Construction Type Description Site Permit Supervisor District  \\\n0                          constr type 1           Y                 3.0   \n1                          constr type 1           Y                 3.0   \n2                          constr type 1           Y                 3.0   \n3                         wood frame (5)           Y                 3.0   \n4                          constr type 1           Y                 6.0   \n\n  Neighborhoods - Analysis Boundaries  Zipcode  \\\n0                          Tenderloin  94102.0   \n1                          Tenderloin  94102.0   \n2                        Russian Hill  94109.0   \n3                            Nob Hill  94109.0   \n4                          Tenderloin  94102.0   \n\n                                    Location      Record ID  \n0  (37.785719256680785, -122.40852313194863)  1380611233945  \n1   (37.78733980600732, -122.41063199757738)  1420164406718  \n2    (37.7946573324287, -122.42232562979227)  1424856504716  \n3   (37.79595867909168, -122.41557405519474)  1443574295566  \n4   (37.78315261897309, -122.40950883997789)   144548169992  \n\n[5 rows x 43 columns]",
            "text/html": "<div>\n<style scoped>\n    .dataframe tbody tr th:only-of-type {\n        vertical-align: middle;\n    }\n\n    .dataframe tbody tr th {\n        vertical-align: top;\n    }\n\n    .dataframe thead th {\n        text-align: right;\n    }\n</style>\n<table border=\"1\" class=\"dataframe\">\n  <thead>\n    <tr style=\"text-align: right;\">\n      <th></th>\n      <th>Permit Number</th>\n      <th>Permit Type</th>\n      <th>Permit Type Definition</th>\n      <th>Permit Creation Date</th>\n      <th>Block</th>\n      <th>Lot</th>\n      <th>Street Number</th>\n      <th>Street Number Suffix</th>\n      <th>Street Name</th>\n      <th>Street Suffix</th>\n      <th>...</th>\n      <th>Existing Construction Type</th>\n      <th>Existing Construction Type Description</th>\n      <th>Proposed Construction Type</th>\n      <th>Proposed Construction Type Description</th>\n      <th>Site Permit</th>\n      <th>Supervisor District</th>\n      <th>Neighborhoods - Analysis Boundaries</th>\n      <th>Zipcode</th>\n      <th>Location</th>\n      <th>Record ID</th>\n    </tr>\n  </thead>\n  <tbody>\n    <tr>\n      <th>0</th>\n      <td>201505065519</td>\n      <td>4</td>\n      <td>sign - erect</td>\n      <td>05/06/2015</td>\n      <td>0326</td>\n      <td>023</td>\n      <td>140</td>\n      <td>A</td>\n      <td>Ellis</td>\n      <td>St</td>\n      <td>...</td>\n      <td>3.0</td>\n      <td>constr type 3</td>\n      <td>1.0</td>\n      <td>constr type 1</td>\n      <td>Y</td>\n      <td>3.0</td>\n      <td>Tenderloin</td>\n      <td>94102.0</td>\n      <td>(37.785719256680785, -122.40852313194863)</td>\n      <td>1380611233945</td>\n    </tr>\n    <tr>\n      <th>1</th>\n      <td>201604195146</td>\n      <td>4</td>\n      <td>sign - erect</td>\n      <td>04/19/2016</td>\n      <td>0306</td>\n      <td>007</td>\n      <td>440</td>\n      <td>A</td>\n      <td>Geary</td>\n      <td>St</td>\n      <td>...</td>\n      <td>3.0</td>\n      <td>constr type 3</td>\n      <td>1.0</td>\n      <td>constr type 1</td>\n      <td>Y</td>\n      <td>3.0</td>\n      <td>Tenderloin</td>\n      <td>94102.0</td>\n      <td>(37.78733980600732, -122.41063199757738)</td>\n      <td>1420164406718</td>\n    </tr>\n    <tr>\n      <th>2</th>\n      <td>201605278609</td>\n      <td>3</td>\n      <td>additions alterations or repairs</td>\n      <td>05/27/2016</td>\n      <td>0595</td>\n      <td>203</td>\n      <td>1647</td>\n      <td>A</td>\n      <td>Pacific</td>\n      <td>Av</td>\n      <td>...</td>\n      <td>1.0</td>\n      <td>constr type 1</td>\n      <td>1.0</td>\n      <td>constr type 1</td>\n      <td>Y</td>\n      <td>3.0</td>\n      <td>Russian Hill</td>\n      <td>94109.0</td>\n      <td>(37.7946573324287, -122.42232562979227)</td>\n      <td>1424856504716</td>\n    </tr>\n    <tr>\n      <th>3</th>\n      <td>201611072166</td>\n      <td>8</td>\n      <td>otc alterations permit</td>\n      <td>11/07/2016</td>\n      <td>0156</td>\n      <td>011</td>\n      <td>1230</td>\n      <td>A</td>\n      <td>Pacific</td>\n      <td>Av</td>\n      <td>...</td>\n      <td>5.0</td>\n      <td>wood frame (5)</td>\n      <td>5.0</td>\n      <td>wood frame (5)</td>\n      <td>Y</td>\n      <td>3.0</td>\n      <td>Nob Hill</td>\n      <td>94109.0</td>\n      <td>(37.79595867909168, -122.41557405519474)</td>\n      <td>1443574295566</td>\n    </tr>\n    <tr>\n      <th>4</th>\n      <td>201611283529</td>\n      <td>6</td>\n      <td>demolitions</td>\n      <td>11/28/2016</td>\n      <td>0342</td>\n      <td>001</td>\n      <td>950</td>\n      <td>A</td>\n      <td>Market</td>\n      <td>St</td>\n      <td>...</td>\n      <td>3.0</td>\n      <td>constr type 3</td>\n      <td>1.0</td>\n      <td>constr type 1</td>\n      <td>Y</td>\n      <td>6.0</td>\n      <td>Tenderloin</td>\n      <td>94102.0</td>\n      <td>(37.78315261897309, -122.40950883997789)</td>\n      <td>144548169992</td>\n    </tr>\n  </tbody>\n</table>\n<p>5 rows × 43 columns</p>\n</div>"
          },
          "metadata": {}
        }
      ]
    },
    {
      "metadata": {
        "_uuid": "52b0af56e3c77db96056e9acd785f8f435f7caf5",
        "_cell_guid": "b4f37fce-4d08-409e-bbbd-6a26c3bbc6ee"
      },
      "cell_type": "markdown",
      "source": "And that's it for today! If you have any questions, be sure to post them in the comments below or [on the forums](https://www.kaggle.com/questions-and-answers). \n\nRemember that your notebook is private by default, and in order to share it with other people or ask for help with it, you'll need to make it public. First, you'll need to save a version of your notebook that shows your current work by hitting the \"Commit & Run\" button. (Your work is saved automatically, but versioning your work lets you go back and look at what it was like at the point you saved it. It also let's you share a nice compiled notebook instead of just the raw code.) Then, once your notebook is finished running, you can go to the Settings tab in the panel to the left (you may have to expand it by hitting the [<] button next to the \"Commit & Run\" button) and setting the \"Visibility\" dropdown to \"Public\".\n\n# More practice!\n___\n\nIf you're looking for more practice handling missing values, check out these extra-credit\\* exercises:\n\n* [Handling Missing Values](https://www.kaggle.com/dansbecker/handling-missing-values): In this notebook Dan shows you several approaches to imputing missing data using scikit-learn's imputer. \n* Look back at the `Zipcode` column in the `sf_permits` dataset, which has some missing values. How would you go about figuring out what the actual zipcode of each address should be? (You might try using another dataset. You can search for datasets about San Fransisco on the [Datasets listing](https://www.kaggle.com/datasets).) \n\n\\* no actual credit is given for completing the challenge, you just learn how to clean data real good :P"
    },
    {
      "metadata": {
        "collapsed": true,
        "_uuid": "27f2c092b30a9670755b515dd726e3f1ad59b086",
        "_cell_guid": "5071dbf1-3457-4934-b7d9-c9950d31d0f8",
        "trusted": true
      },
      "cell_type": "code",
      "source": "",
      "execution_count": null,
      "outputs": []
    },
    {
      "metadata": {
        "_uuid": "ced2647602e985ae98b9148eea4466650459ee7c",
        "_cell_guid": "565b8031-16d9-4311-8b00-0ff7c3836a99"
      },
      "cell_type": "markdown",
      "source": "### Additional Approach.\n* Impute `Zipcode` column in `sf_permits` dataset"
    },
    {
      "metadata": {
        "_uuid": "ccd98c7f93be58f8c6550afae636fde049e50214",
        "_cell_guid": "204425a7-9ac1-4bb6-bb6d-d57d656e77e4",
        "trusted": true
      },
      "cell_type": "code",
      "source": "# List up all the columns in the `sf_permits` dataset\n# Guess which column could be used to impute `Zipcode` related information.\nsf_permits.columns",
      "execution_count": 21,
      "outputs": [
        {
          "output_type": "execute_result",
          "execution_count": 21,
          "data": {
            "text/plain": "Index(['Permit Number', 'Permit Type', 'Permit Type Definition',\n       'Permit Creation Date', 'Block', 'Lot', 'Street Number',\n       'Street Number Suffix', 'Street Name', 'Street Suffix', 'Unit',\n       'Unit Suffix', 'Description', 'Current Status', 'Current Status Date',\n       'Filed Date', 'Issued Date', 'Completed Date',\n       'First Construction Document Date', 'Structural Notification',\n       'Number of Existing Stories', 'Number of Proposed Stories',\n       'Voluntary Soft-Story Retrofit', 'Fire Only Permit',\n       'Permit Expiration Date', 'Estimated Cost', 'Revised Cost',\n       'Existing Use', 'Existing Units', 'Proposed Use', 'Proposed Units',\n       'Plansets', 'TIDF Compliance', 'Existing Construction Type',\n       'Existing Construction Type Description', 'Proposed Construction Type',\n       'Proposed Construction Type Description', 'Site Permit',\n       'Supervisor District', 'Neighborhoods - Analysis Boundaries', 'Zipcode',\n       'Location', 'Record ID'],\n      dtype='object')"
          },
          "metadata": {}
        }
      ]
    },
    {
      "metadata": {
        "_uuid": "f78c0e4faf35750e5baf41b04c17e026424e6792",
        "_cell_guid": "9db5a690-acf2-48ec-a50e-ccdc5076ccd0",
        "trusted": true
      },
      "cell_type": "code",
      "source": "# store the columns that possibly have locational information.\nloc_related_cols = ['Block', 'Lot', 'Street Number',\n       'Street Number Suffix', 'Street Name', 'Street Suffix', 'Unit',\n       'Unit Suffix', 'Supervisor District', 'Neighborhoods - Analysis Boundaries',\n       'Location']\n\n# Check the actual values in dataset including `Zipcode` column\n\nsf_permits[['Zipcode'] + loc_related_cols].head()",
      "execution_count": 22,
      "outputs": [
        {
          "output_type": "execute_result",
          "execution_count": 22,
          "data": {
            "text/plain": "   Zipcode Block  Lot  Street Number Street Number Suffix Street Name  \\\n0  94102.0  0326  023            140                  NaN       Ellis   \n1  94102.0  0306  007            440                  NaN       Geary   \n2  94109.0  0595  203           1647                  NaN     Pacific   \n3  94109.0  0156  011           1230                  NaN     Pacific   \n4  94102.0  0342  001            950                  NaN      Market   \n\n  Street Suffix  Unit Unit Suffix  Supervisor District  \\\n0            St   NaN         NaN                  3.0   \n1            St   0.0         NaN                  3.0   \n2            Av   NaN         NaN                  3.0   \n3            Av   0.0         NaN                  3.0   \n4            St   NaN         NaN                  6.0   \n\n  Neighborhoods - Analysis Boundaries  \\\n0                          Tenderloin   \n1                          Tenderloin   \n2                        Russian Hill   \n3                            Nob Hill   \n4                          Tenderloin   \n\n                                    Location  \n0  (37.785719256680785, -122.40852313194863)  \n1   (37.78733980600732, -122.41063199757738)  \n2    (37.7946573324287, -122.42232562979227)  \n3   (37.79595867909168, -122.41557405519474)  \n4   (37.78315261897309, -122.40950883997789)  ",
            "text/html": "<div>\n<style scoped>\n    .dataframe tbody tr th:only-of-type {\n        vertical-align: middle;\n    }\n\n    .dataframe tbody tr th {\n        vertical-align: top;\n    }\n\n    .dataframe thead th {\n        text-align: right;\n    }\n</style>\n<table border=\"1\" class=\"dataframe\">\n  <thead>\n    <tr style=\"text-align: right;\">\n      <th></th>\n      <th>Zipcode</th>\n      <th>Block</th>\n      <th>Lot</th>\n      <th>Street Number</th>\n      <th>Street Number Suffix</th>\n      <th>Street Name</th>\n      <th>Street Suffix</th>\n      <th>Unit</th>\n      <th>Unit Suffix</th>\n      <th>Supervisor District</th>\n      <th>Neighborhoods - Analysis Boundaries</th>\n      <th>Location</th>\n    </tr>\n  </thead>\n  <tbody>\n    <tr>\n      <th>0</th>\n      <td>94102.0</td>\n      <td>0326</td>\n      <td>023</td>\n      <td>140</td>\n      <td>NaN</td>\n      <td>Ellis</td>\n      <td>St</td>\n      <td>NaN</td>\n      <td>NaN</td>\n      <td>3.0</td>\n      <td>Tenderloin</td>\n      <td>(37.785719256680785, -122.40852313194863)</td>\n    </tr>\n    <tr>\n      <th>1</th>\n      <td>94102.0</td>\n      <td>0306</td>\n      <td>007</td>\n      <td>440</td>\n      <td>NaN</td>\n      <td>Geary</td>\n      <td>St</td>\n      <td>0.0</td>\n      <td>NaN</td>\n      <td>3.0</td>\n      <td>Tenderloin</td>\n      <td>(37.78733980600732, -122.41063199757738)</td>\n    </tr>\n    <tr>\n      <th>2</th>\n      <td>94109.0</td>\n      <td>0595</td>\n      <td>203</td>\n      <td>1647</td>\n      <td>NaN</td>\n      <td>Pacific</td>\n      <td>Av</td>\n      <td>NaN</td>\n      <td>NaN</td>\n      <td>3.0</td>\n      <td>Russian Hill</td>\n      <td>(37.7946573324287, -122.42232562979227)</td>\n    </tr>\n    <tr>\n      <th>3</th>\n      <td>94109.0</td>\n      <td>0156</td>\n      <td>011</td>\n      <td>1230</td>\n      <td>NaN</td>\n      <td>Pacific</td>\n      <td>Av</td>\n      <td>0.0</td>\n      <td>NaN</td>\n      <td>3.0</td>\n      <td>Nob Hill</td>\n      <td>(37.79595867909168, -122.41557405519474)</td>\n    </tr>\n    <tr>\n      <th>4</th>\n      <td>94102.0</td>\n      <td>0342</td>\n      <td>001</td>\n      <td>950</td>\n      <td>NaN</td>\n      <td>Market</td>\n      <td>St</td>\n      <td>NaN</td>\n      <td>NaN</td>\n      <td>6.0</td>\n      <td>Tenderloin</td>\n      <td>(37.78315261897309, -122.40950883997789)</td>\n    </tr>\n  </tbody>\n</table>\n</div>"
          },
          "metadata": {}
        }
      ]
    },
    {
      "metadata": {
        "_uuid": "9673097947c063c71f612b1b3a07dbf032be7f71",
        "_cell_guid": "a400a2e1-615c-477c-a645-98bcb31bb214",
        "trusted": true,
        "collapsed": true
      },
      "cell_type": "code",
      "source": "# Let's investigate trying some random combinations of columns.\n\ncomb1 = ['Zipcode', 'Block', 'Street Number', 'Street Name', 'Supervisor District', 'Neighborhoods - Analysis Boundaries', 'Location']\nsf_permits_comb1 = sf_permits[comb1]",
      "execution_count": 23,
      "outputs": []
    },
    {
      "metadata": {
        "_uuid": "f69ba71e47234aaf778328e73751950a268d43cb",
        "_cell_guid": "1d21695a-0631-45b7-a4a3-f8f503ffce90",
        "trusted": true
      },
      "cell_type": "code",
      "source": "sf_permits_comb1.head()",
      "execution_count": 24,
      "outputs": [
        {
          "output_type": "execute_result",
          "execution_count": 24,
          "data": {
            "text/plain": "   Zipcode Block  Street Number Street Name  Supervisor District  \\\n0  94102.0  0326            140       Ellis                  3.0   \n1  94102.0  0306            440       Geary                  3.0   \n2  94109.0  0595           1647     Pacific                  3.0   \n3  94109.0  0156           1230     Pacific                  3.0   \n4  94102.0  0342            950      Market                  6.0   \n\n  Neighborhoods - Analysis Boundaries  \\\n0                          Tenderloin   \n1                          Tenderloin   \n2                        Russian Hill   \n3                            Nob Hill   \n4                          Tenderloin   \n\n                                    Location  \n0  (37.785719256680785, -122.40852313194863)  \n1   (37.78733980600732, -122.41063199757738)  \n2    (37.7946573324287, -122.42232562979227)  \n3   (37.79595867909168, -122.41557405519474)  \n4   (37.78315261897309, -122.40950883997789)  ",
            "text/html": "<div>\n<style scoped>\n    .dataframe tbody tr th:only-of-type {\n        vertical-align: middle;\n    }\n\n    .dataframe tbody tr th {\n        vertical-align: top;\n    }\n\n    .dataframe thead th {\n        text-align: right;\n    }\n</style>\n<table border=\"1\" class=\"dataframe\">\n  <thead>\n    <tr style=\"text-align: right;\">\n      <th></th>\n      <th>Zipcode</th>\n      <th>Block</th>\n      <th>Street Number</th>\n      <th>Street Name</th>\n      <th>Supervisor District</th>\n      <th>Neighborhoods - Analysis Boundaries</th>\n      <th>Location</th>\n    </tr>\n  </thead>\n  <tbody>\n    <tr>\n      <th>0</th>\n      <td>94102.0</td>\n      <td>0326</td>\n      <td>140</td>\n      <td>Ellis</td>\n      <td>3.0</td>\n      <td>Tenderloin</td>\n      <td>(37.785719256680785, -122.40852313194863)</td>\n    </tr>\n    <tr>\n      <th>1</th>\n      <td>94102.0</td>\n      <td>0306</td>\n      <td>440</td>\n      <td>Geary</td>\n      <td>3.0</td>\n      <td>Tenderloin</td>\n      <td>(37.78733980600732, -122.41063199757738)</td>\n    </tr>\n    <tr>\n      <th>2</th>\n      <td>94109.0</td>\n      <td>0595</td>\n      <td>1647</td>\n      <td>Pacific</td>\n      <td>3.0</td>\n      <td>Russian Hill</td>\n      <td>(37.7946573324287, -122.42232562979227)</td>\n    </tr>\n    <tr>\n      <th>3</th>\n      <td>94109.0</td>\n      <td>0156</td>\n      <td>1230</td>\n      <td>Pacific</td>\n      <td>3.0</td>\n      <td>Nob Hill</td>\n      <td>(37.79595867909168, -122.41557405519474)</td>\n    </tr>\n    <tr>\n      <th>4</th>\n      <td>94102.0</td>\n      <td>0342</td>\n      <td>950</td>\n      <td>Market</td>\n      <td>6.0</td>\n      <td>Tenderloin</td>\n      <td>(37.78315261897309, -122.40950883997789)</td>\n    </tr>\n  </tbody>\n</table>\n</div>"
          },
          "metadata": {}
        }
      ]
    },
    {
      "metadata": {
        "_uuid": "ef8fed148478b31cbb92aae8d12f5bb65f0f389b",
        "_cell_guid": "ce8173f9-a8a9-47a7-9df2-926129241d3d",
        "trusted": true
      },
      "cell_type": "code",
      "source": "sf_permits_comb1.isnull().sum()",
      "execution_count": 25,
      "outputs": [
        {
          "output_type": "execute_result",
          "execution_count": 25,
          "data": {
            "text/plain": "Zipcode                                1716\nBlock                                     0\nStreet Number                             0\nStreet Name                               0\nSupervisor District                    1717\nNeighborhoods - Analysis Boundaries    1725\nLocation                               1700\ndtype: int64"
          },
          "metadata": {}
        }
      ]
    },
    {
      "metadata": {
        "_uuid": "3f07a150fcd078a106e37823616fb52f2e2ee7d3",
        "_cell_guid": "7771deee-d639-4348-84ef-e3479cf4a5a5",
        "trusted": true
      },
      "cell_type": "code",
      "source": "sf_permits_comb1[sf_permits_comb1['Zipcode']==94102].head(15)",
      "execution_count": 26,
      "outputs": [
        {
          "output_type": "execute_result",
          "execution_count": 26,
          "data": {
            "text/plain": "     Zipcode Block  Street Number Street Name  Supervisor District  \\\n0    94102.0  0326            140       Ellis                  3.0   \n1    94102.0  0306            440       Geary                  3.0   \n4    94102.0  0342            950      Market                  6.0   \n11   94102.0  0829            675        Fell                  5.0   \n29   94102.0  0326            165      Powell                  3.0   \n71   94102.0  0327            165    Ofarrell                  3.0   \n106  94102.0  0856            115      Haight                  5.0   \n119  94102.0  0327              1    Stockton                  3.0   \n142  94102.0  0297            515       Mason                  3.0   \n157  94102.0  0805            700       Hayes                  5.0   \n188  94102.0  0762            601    Van Ness                  5.0   \n225  94102.0  0317            405      Taylor                  6.0   \n323  94102.0  0307            420       Mason                  3.0   \n364  94102.0  0744            885    Franklin                  5.0   \n408  94102.0  0349             44  Mcallister                  6.0   \n\n    Neighborhoods - Analysis Boundaries  \\\n0                            Tenderloin   \n1                            Tenderloin   \n4                            Tenderloin   \n11                         Hayes Valley   \n29                           Tenderloin   \n71       Financial District/South Beach   \n106                        Hayes Valley   \n119      Financial District/South Beach   \n142                            Nob Hill   \n157                        Hayes Valley   \n188                    Western Addition   \n225                          Tenderloin   \n323                          Tenderloin   \n364                    Western Addition   \n408                          Tenderloin   \n\n                                      Location  \n0    (37.785719256680785, -122.40852313194863)  \n1     (37.78733980600732, -122.41063199757738)  \n4     (37.78315261897309, -122.40950883997789)  \n11   (37.774914087334544, -122.42886839796792)  \n29    (37.78625524960107, -122.40834431815433)  \n71    (37.78622455286341, -122.40734672057884)  \n106    (37.77261380729689, -122.4242148174291)  \n119   (37.78584544618807, -122.40652160493985)  \n142   (37.78831830234988, -122.41054888775284)  \n157    (37.7764535995205, -122.42813162705657)  \n188   (37.78138577762911, -122.42140632801414)  \n225  (37.786162542148716, -122.41168006925004)  \n323    (37.7875651793348, -122.40959281339539)  \n364   (37.78240083268063, -122.42263619960343)  \n408    (37.7813289093357, -122.41278712973035)  ",
            "text/html": "<div>\n<style scoped>\n    .dataframe tbody tr th:only-of-type {\n        vertical-align: middle;\n    }\n\n    .dataframe tbody tr th {\n        vertical-align: top;\n    }\n\n    .dataframe thead th {\n        text-align: right;\n    }\n</style>\n<table border=\"1\" class=\"dataframe\">\n  <thead>\n    <tr style=\"text-align: right;\">\n      <th></th>\n      <th>Zipcode</th>\n      <th>Block</th>\n      <th>Street Number</th>\n      <th>Street Name</th>\n      <th>Supervisor District</th>\n      <th>Neighborhoods - Analysis Boundaries</th>\n      <th>Location</th>\n    </tr>\n  </thead>\n  <tbody>\n    <tr>\n      <th>0</th>\n      <td>94102.0</td>\n      <td>0326</td>\n      <td>140</td>\n      <td>Ellis</td>\n      <td>3.0</td>\n      <td>Tenderloin</td>\n      <td>(37.785719256680785, -122.40852313194863)</td>\n    </tr>\n    <tr>\n      <th>1</th>\n      <td>94102.0</td>\n      <td>0306</td>\n      <td>440</td>\n      <td>Geary</td>\n      <td>3.0</td>\n      <td>Tenderloin</td>\n      <td>(37.78733980600732, -122.41063199757738)</td>\n    </tr>\n    <tr>\n      <th>4</th>\n      <td>94102.0</td>\n      <td>0342</td>\n      <td>950</td>\n      <td>Market</td>\n      <td>6.0</td>\n      <td>Tenderloin</td>\n      <td>(37.78315261897309, -122.40950883997789)</td>\n    </tr>\n    <tr>\n      <th>11</th>\n      <td>94102.0</td>\n      <td>0829</td>\n      <td>675</td>\n      <td>Fell</td>\n      <td>5.0</td>\n      <td>Hayes Valley</td>\n      <td>(37.774914087334544, -122.42886839796792)</td>\n    </tr>\n    <tr>\n      <th>29</th>\n      <td>94102.0</td>\n      <td>0326</td>\n      <td>165</td>\n      <td>Powell</td>\n      <td>3.0</td>\n      <td>Tenderloin</td>\n      <td>(37.78625524960107, -122.40834431815433)</td>\n    </tr>\n    <tr>\n      <th>71</th>\n      <td>94102.0</td>\n      <td>0327</td>\n      <td>165</td>\n      <td>Ofarrell</td>\n      <td>3.0</td>\n      <td>Financial District/South Beach</td>\n      <td>(37.78622455286341, -122.40734672057884)</td>\n    </tr>\n    <tr>\n      <th>106</th>\n      <td>94102.0</td>\n      <td>0856</td>\n      <td>115</td>\n      <td>Haight</td>\n      <td>5.0</td>\n      <td>Hayes Valley</td>\n      <td>(37.77261380729689, -122.4242148174291)</td>\n    </tr>\n    <tr>\n      <th>119</th>\n      <td>94102.0</td>\n      <td>0327</td>\n      <td>1</td>\n      <td>Stockton</td>\n      <td>3.0</td>\n      <td>Financial District/South Beach</td>\n      <td>(37.78584544618807, -122.40652160493985)</td>\n    </tr>\n    <tr>\n      <th>142</th>\n      <td>94102.0</td>\n      <td>0297</td>\n      <td>515</td>\n      <td>Mason</td>\n      <td>3.0</td>\n      <td>Nob Hill</td>\n      <td>(37.78831830234988, -122.41054888775284)</td>\n    </tr>\n    <tr>\n      <th>157</th>\n      <td>94102.0</td>\n      <td>0805</td>\n      <td>700</td>\n      <td>Hayes</td>\n      <td>5.0</td>\n      <td>Hayes Valley</td>\n      <td>(37.7764535995205, -122.42813162705657)</td>\n    </tr>\n    <tr>\n      <th>188</th>\n      <td>94102.0</td>\n      <td>0762</td>\n      <td>601</td>\n      <td>Van Ness</td>\n      <td>5.0</td>\n      <td>Western Addition</td>\n      <td>(37.78138577762911, -122.42140632801414)</td>\n    </tr>\n    <tr>\n      <th>225</th>\n      <td>94102.0</td>\n      <td>0317</td>\n      <td>405</td>\n      <td>Taylor</td>\n      <td>6.0</td>\n      <td>Tenderloin</td>\n      <td>(37.786162542148716, -122.41168006925004)</td>\n    </tr>\n    <tr>\n      <th>323</th>\n      <td>94102.0</td>\n      <td>0307</td>\n      <td>420</td>\n      <td>Mason</td>\n      <td>3.0</td>\n      <td>Tenderloin</td>\n      <td>(37.7875651793348, -122.40959281339539)</td>\n    </tr>\n    <tr>\n      <th>364</th>\n      <td>94102.0</td>\n      <td>0744</td>\n      <td>885</td>\n      <td>Franklin</td>\n      <td>5.0</td>\n      <td>Western Addition</td>\n      <td>(37.78240083268063, -122.42263619960343)</td>\n    </tr>\n    <tr>\n      <th>408</th>\n      <td>94102.0</td>\n      <td>0349</td>\n      <td>44</td>\n      <td>Mcallister</td>\n      <td>6.0</td>\n      <td>Tenderloin</td>\n      <td>(37.7813289093357, -122.41278712973035)</td>\n    </tr>\n  </tbody>\n</table>\n</div>"
          },
          "metadata": {}
        }
      ]
    },
    {
      "metadata": {
        "_uuid": "65d324cbe75588ef79f84ae387e8bcf140495a52",
        "_cell_guid": "03c06feb-b3a2-4c07-aaa0-c8ff8cf2e7d5",
        "trusted": true
      },
      "cell_type": "code",
      "source": "sf_permits_comb1[sf_permits_comb1['Zipcode']==94102]['Block'].unique()",
      "execution_count": 27,
      "outputs": [
        {
          "output_type": "execute_result",
          "execution_count": 27,
          "data": {
            "text/plain": "array(['0326', '0306', '0342', '0829', '0327', '0856', '0297', '0805',\n       '0762', '0317', '0307', '0744', '0349', '0324', '0853', '0318',\n       '0346', '0768', '0872', '0832', '0830', '0348', '0742', '0816',\n       '0839', '0834', '0793', '0336', '0339', '0331', '0852', '0315',\n       '0743', '0819', '0807', '0855', '0814', '0858', '0835', '0305',\n       '0837', '0296', '0314', '0840', '0869', '0806', '0344', '0341',\n       '0350', '0813', '0763', '0345', '0785', '0332', '0340', '0343',\n       '0329', '0841', '0337', '0838', '0765', '0353', '0323', '0857',\n       '0808', '0316', '0782', '0817', '0831', '0330', '0781', '0338',\n       '0809', '318', '0854', '0871', '0818', '0792', '0325', '0851',\n       '0870', '0811', '0333', '0761', '0759', '0794', '0810', '0351',\n       '0741', '0347', '0355', '0786A', '0795', '0833', '0836', '0820',\n       '0787', '0788', '0766', '0770', '0354', '0815', '0767', '0783',\n       '829', '0812', '0850', '0764', '0796'], dtype=object)"
          },
          "metadata": {}
        }
      ]
    },
    {
      "metadata": {
        "_uuid": "cbc3009ffe9bc193c2d7712cc146ee32d2b8524d",
        "_cell_guid": "bcde5687-a384-4d73-a563-f3607094fe9c",
        "trusted": true
      },
      "cell_type": "code",
      "source": "sf_permits_comb1.groupby('Zipcode')['Block'].apply(lambda x: (len(x.unique()), x.unique()))",
      "execution_count": 28,
      "outputs": [
        {
          "output_type": "execute_result",
          "execution_count": 28,
          "data": {
            "text/plain": "Zipcode\n94102.0    (109, [0326, 0306, 0342, 0829, 0327, 0856, 029...\n94103.0    (117, [3545, 3728, 3509, 3780, 3555, 3521, 373...\n94104.0    (15, [0268, 0240, 0239, 0259, 0289, 0260, 0267...\n94105.0    (36, [3749, 3707, 3738, 3708, 3768, 3711, 3721...\n94107.0    (177, [4105, 8702, 3763, 4097, 3995, 3786, 378...\n94108.0    (56, [0243, 0328, 0295, 0222A, 0189, 0212, 031...\n94109.0    (185, [0595, 0156, 0024, 0299, 0640, 0249, 018...\n94110.0    (395, [6529, 3610, 6597, 3590, 4024, 5666, 570...\n94111.0    (54, [0196, 0208, 0229, 0237, 0227, 0263, 0262...\n94112.0    (497, [6780, 6969, 6404, 3206, 3147, 7104, 703...\n94114.0    (194, [3541, 6537, 3621, 2659, 3580, 6551, 261...\n94115.0    (201, [1049, 0749, 0605, 1095, 0579, 1094, 115...\n94116.0    (319, [2417, 2402, 2199, 2307, 2346, 2503A, 21...\n94117.0    (181, [1212, 1259, 1176, 1193, 0797, 1252, 122...\n94118.0    (224, [1429, 1558, 1431, 0991, 0993, 1041, 141...\n94121.0    (226, [1449, 1572, 1609, 1676, 1497, 1510, 137...\n94122.0    (317, [1739, 1824, 1851, 2038A, 1744, 1859A, 2...\n94123.0    (166, [0472, 0941, 0542, 0490, 0540, 0959, 091...\n94124.0    (312, [4789, 4700, 4991, 4653, 5428C, 5285A, 5...\n94127.0    (253, [3105A, 3044, 2929, 2944A, 3085, 2931, 3...\n94129.0                                    (2, [1300, 1302])\n94130.0                                          (1, [1939])\n94131.0    (266, [6589, 6580, 2679, 6654, 6562, 2756, 672...\n94132.0    (187, [7151, 7241, 7231, 7259, 2540, 7077, 252...\n94133.0    (118, [0074, 0182, 0177, 0105, 0085, 0181, 017...\n94134.0    (292, [5934, 6165, 4991, 5900A, 5853, 5467, 59...\n94158.0    (20, [8721, 8707, 3803, 8711, 8710, 8709, 8720...\nName: Block, dtype: object"
          },
          "metadata": {}
        }
      ]
    },
    {
      "metadata": {
        "_uuid": "0dacb79f4c325a976ed227343505df3926df143d",
        "_cell_guid": "1c701365-920a-4560-8b59-be0178205200"
      },
      "cell_type": "markdown",
      "source": "### We can assume that each unique `Zipcode` includes unique `Block` values.\n* Since `Block` has no `null` value , we can impute `Zipcode` according to the value of `Block`."
    },
    {
      "metadata": {
        "collapsed": true,
        "_uuid": "923cd21d7034564e16b5de91d7da1a50153cb72a",
        "_cell_guid": "c7732719-a2d6-44dc-ae4b-5d9735e77b33",
        "trusted": true
      },
      "cell_type": "code",
      "source": "# Store the upper information & reset index to extract the zipcode values as columns\nblocks_by_zipcode = sf_permits_comb1.groupby('Zipcode')['Block'].apply(lambda x: x.unique()).reset_index()\nblocks_by_zipcode\n\n# write a function to impute\n# test variables to check the result validity.\ndef zipcode_imputer_by_block(block_):\n    zipcodes = []\n    \n    # Find the zipcode which includes the given block number.\n    for i, bnums in enumerate(blocks_by_zipcode['Block']):\n        if block_ in bnums:\n            #return blocks_by_zipcode['Zipcode'][i]\n            zipcodes.append(blocks_by_zipcode['Zipcode'][i])\n            \n    if len(zipcodes) == 1:\n        return zipcodes[0]\n    \n    elif len(zipcodes) > 1:\n        print('duplicated block number!')\n        return zipcodes\n    \n    else:\n        # if there does not exist the given block number, return None.\n        print('blocknum not found!')\n        return []\n    \n# get the row index where the `Zipcode` value is None / null\n#sf_permits[sf_permits['Zipcode'].isnull()]['Zipcode'] = \n\nsf_permits_zipcode_imputed1 = sf_permits[sf_permits['Zipcode'].isnull()]['Block'].apply(zipcode_imputer_by_block)",
      "execution_count": 29,
      "outputs": [
        {
          "output_type": "stream",
          "text": "duplicated block number!\nduplicated block number!\nduplicated block number!\nduplicated block number!\nduplicated block number!\nduplicated block number!\nduplicated block number!\nblocknum not found!\nduplicated block number!\nduplicated block number!\nblocknum not found!\nblocknum not found!\nduplicated block number!\nduplicated block number!\nblocknum not found!\nblocknum not found!\nduplicated block number!\nduplicated block number!\nblocknum not found!\nblocknum not found!\nduplicated block number!\nduplicated block number!\nblocknum not found!\nduplicated block number!\nblocknum not found!\nblocknum not found!\nduplicated block number!\nduplicated block number!\nduplicated block number!\nduplicated block number!\nduplicated block number!\nblocknum not found!\nduplicated block number!\nduplicated block number!\nduplicated block number!\nblocknum not found!\nduplicated block number!\nblocknum not found!\nblocknum not found!\nblocknum not found!\nblocknum not found!\nduplicated block number!\nduplicated block number!\nduplicated block number!\nduplicated block number!\nduplicated block number!\nduplicated block number!\nblocknum not found!\nduplicated block number!\nblocknum not found!\nblocknum not found!\nduplicated block number!\nduplicated block number!\nblocknum not found!\nblocknum not found!\nblocknum not found!\nblocknum not found!\nduplicated block number!\nblocknum not found!\nduplicated block number!\nduplicated block number!\nduplicated block number!\nblocknum not found!\nblocknum not found!\nduplicated block number!\nblocknum not found!\nblocknum not found!\nduplicated block number!\nblocknum not found!\nduplicated block number!\nduplicated block number!\nduplicated block number!\nduplicated block number!\nduplicated block number!\nblocknum not found!\nduplicated block number!\nduplicated block number!\nblocknum not found!\nduplicated block number!\n",
          "name": "stdout"
        }
      ]
    },
    {
      "metadata": {
        "_uuid": "8cddc6d413f843ec069478e3f56d46ba98e5e92e",
        "_cell_guid": "554ad53b-544d-432e-a129-aeec61a0fe7c"
      },
      "cell_type": "markdown",
      "source": "#### Since the entire values in `Zipcode` were not imputed, we execute imputation again with `Street Number` column again.\n* Firstly, filter the undecided values (`null` or `list type value`) and get their row indices."
    },
    {
      "metadata": {
        "_uuid": "9c7f640b1a0f8806d86963a1b9a0787263206b83",
        "scrolled": false,
        "_cell_guid": "960ee3e2-69e3-45f6-9c01-e39b0e8a3885",
        "trusted": true
      },
      "cell_type": "code",
      "source": "# indices for the undecided values from the above\nundecided_indices_filter1 = sf_permits_zipcode_imputed1.apply(lambda x: x if type(x) == list else np.nan).dropna().index\nundecided_indices_filter1",
      "execution_count": 30,
      "outputs": [
        {
          "output_type": "execute_result",
          "execution_count": 30,
          "data": {
            "text/plain": "Int64Index([  1215,   4610,  14008,  15195,  18374,  19320,  20307,  21593,\n             23777,  25787,  26897,  27570,  27762,  29528,  31295,  31298,\n             31893,  33410,  37920,  39527,  39984,  39987,  42279,  45482,\n             51215,  52770,  54982,  56377,  58628,  58630,  59438,  59657,\n             63651,  63656,  64174,  65608,  66754,  69027,  71326,  74969,\n             78315,  80990,  80994,  88152,  90760,  90972,  91494,  92845,\n             93255,  93995,  95136, 102474, 110750, 114393, 114394, 114397,\n            116164, 116371, 116703, 116734, 122389, 122391, 122716, 129989,\n            132277, 135277, 135871, 137002, 148990, 149710, 149713, 157069,\n            157072, 157428, 160942, 161027, 161482, 195810, 198895],\n           dtype='int64')"
          },
          "metadata": {}
        }
      ]
    },
    {
      "metadata": {
        "_uuid": "7fdf943b09c1c4b7cfb00c2eee823a3ab61c1977",
        "_cell_guid": "c4ee4cee-b2db-4f97-a770-3a9d5bbf52c6",
        "trusted": true
      },
      "cell_type": "code",
      "source": "# 79 rows\nsf_permits.loc[undecided_indices_filter1].shape",
      "execution_count": 31,
      "outputs": [
        {
          "output_type": "execute_result",
          "execution_count": 31,
          "data": {
            "text/plain": "(79, 43)"
          },
          "metadata": {}
        }
      ]
    },
    {
      "metadata": {
        "collapsed": true,
        "_uuid": "ce7a495c8581f59f1f0e459fda045b135dd91b8a",
        "_cell_guid": "1e40d6d9-55ee-45b5-923d-d2333d47915b",
        "trusted": true
      },
      "cell_type": "code",
      "source": "# Store the upper information & reset index to extract the zipcode values as columns\nstnums_by_zipcode = sf_permits_comb1.groupby('Zipcode')['Street Number'].apply(lambda x: x.unique()).reset_index()\nstnums_by_zipcode\n\n# write a function to impute\n# test variables to check the result validity.\ndef zipcode_imputer_by_stnums(stnum_):\n    zipcodes = []\n    \n    # Find the zipcode which includes the given block number.\n    for i, stnums in enumerate(stnums_by_zipcode['Street Number']):\n        if stnum_ in stnums:\n            #return blocks_by_zipcode['Zipcode'][i]\n            zipcodes.append(stnums_by_zipcode['Zipcode'][i])\n            \n    if len(zipcodes) == 1:\n        return zipcodes[0]\n    \n    elif len(zipcodes) > 1:\n        print('duplicated streeet number!')\n        return zipcodes\n    \n    else:\n        # if there does not exist the given block number, return None.\n        print('street number not found!')\n        return []",
      "execution_count": 32,
      "outputs": []
    },
    {
      "metadata": {
        "_uuid": "f2a43f7469c791b3daff42d0783c86b22ad5a4d4",
        "_cell_guid": "726d6190-e69d-4a0a-a043-570b09236c5f",
        "trusted": true
      },
      "cell_type": "code",
      "source": "sf_permits_zipcode_imputed2 = sf_permits.loc[undecided_indices_filter1]['Street Number'].apply(zipcode_imputer_by_stnums)",
      "execution_count": 33,
      "outputs": [
        {
          "output_type": "stream",
          "text": "duplicated streeet number!\nduplicated streeet number!\nduplicated streeet number!\nduplicated streeet number!\nduplicated streeet number!\nduplicated streeet number!\nduplicated streeet number!\nduplicated streeet number!\nduplicated streeet number!\nduplicated streeet number!\nduplicated streeet number!\nduplicated streeet number!\nduplicated streeet number!\nduplicated streeet number!\nduplicated streeet number!\nduplicated streeet number!\nduplicated streeet number!\nduplicated streeet number!\nduplicated streeet number!\nduplicated streeet number!\nduplicated streeet number!\nduplicated streeet number!\nduplicated streeet number!\nduplicated streeet number!\nduplicated streeet number!\nduplicated streeet number!\nduplicated streeet number!\nduplicated streeet number!\nduplicated streeet number!\nduplicated streeet number!\nduplicated streeet number!\nduplicated streeet number!\nduplicated streeet number!\nduplicated streeet number!\nduplicated streeet number!\nduplicated streeet number!\nduplicated streeet number!\nduplicated streeet number!\nduplicated streeet number!\nduplicated streeet number!\nduplicated streeet number!\nduplicated streeet number!\nduplicated streeet number!\nduplicated streeet number!\nduplicated streeet number!\nduplicated streeet number!\nduplicated streeet number!\nduplicated streeet number!\nduplicated streeet number!\nduplicated streeet number!\nduplicated streeet number!\nduplicated streeet number!\nduplicated streeet number!\nduplicated streeet number!\nduplicated streeet number!\nduplicated streeet number!\nduplicated streeet number!\nduplicated streeet number!\nduplicated streeet number!\nduplicated streeet number!\nduplicated streeet number!\nduplicated streeet number!\nduplicated streeet number!\nduplicated streeet number!\nduplicated streeet number!\nduplicated streeet number!\nduplicated streeet number!\nduplicated streeet number!\nduplicated streeet number!\nduplicated streeet number!\nduplicated streeet number!\nduplicated streeet number!\nduplicated streeet number!\nduplicated streeet number!\nduplicated streeet number!\nduplicated streeet number!\nduplicated streeet number!\nduplicated streeet number!\nduplicated streeet number!\n",
          "name": "stdout"
        }
      ]
    },
    {
      "metadata": {
        "_uuid": "5afda665b6cdbd122e3fc6f28ae04a08db406e00",
        "_cell_guid": "7b56b90c-2733-44ec-b60c-66fa116278ad",
        "trusted": true
      },
      "cell_type": "code",
      "source": "# All 79 values cannot be seperated by Street Number.\nsf_permits_zipcode_imputed2.apply(lambda x: 1 if type(x) == list else 0).sum()",
      "execution_count": 34,
      "outputs": [
        {
          "output_type": "execute_result",
          "execution_count": 34,
          "data": {
            "text/plain": "79"
          },
          "metadata": {}
        }
      ]
    },
    {
      "metadata": {
        "collapsed": true,
        "_uuid": "1a18f288eaea46c627318f7e76252ef81920b7ab",
        "_cell_guid": "17f6a2ec-7c34-462e-ba9c-24403805aecc",
        "trusted": true
      },
      "cell_type": "code",
      "source": "",
      "execution_count": null,
      "outputs": []
    },
    {
      "metadata": {
        "_uuid": "8527c50481bc1757d5390a8d183e4a87e418d54a",
        "_cell_guid": "acc54f41-7326-4415-9120-73b8c3565123"
      },
      "cell_type": "markdown",
      "source": "* `Location` numerical value boundaries by each `Zipcode`\n  * To calculate easier, we need to divide the latitude / longitude metrics into two seperated columns."
    },
    {
      "metadata": {
        "_uuid": "f0cc45238f8ddd76b5c9c8555eeefdcf17ef5bba",
        "_cell_guid": "5d02cab7-742c-44e3-98e2-af768d303853",
        "trusted": true,
        "collapsed": true
      },
      "cell_type": "code",
      "source": "def sep_longlat(location_value):\n    \n    if type(location_value) == float:\n        return None, None\n    \n    sep_first = location_value.split(',')\n    longitude = float(sep_first[0][1:])\n    latitude = float(sep_first[1][1:-1])\n    \n    return longitude, latitude",
      "execution_count": 35,
      "outputs": []
    },
    {
      "metadata": {
        "_uuid": "f83bdc46a8cb51d39d94e0ce5974e6336d42e764",
        "_cell_guid": "ce03cded-9a62-483d-ad40-982cdec523e6",
        "trusted": true
      },
      "cell_type": "code",
      "source": "# Seperate `Location` information into two columns (type - float)\nlocation_converted = sf_permits['Location'].apply(sep_longlat)\nsf_permits_comb1['Location_lat'] = location_converted.apply(lambda x: x[0])\nsf_permits_comb1['Location_lon'] = location_converted.apply(lambda x: x[1])",
      "execution_count": 36,
      "outputs": [
        {
          "output_type": "stream",
          "text": "/opt/conda/lib/python3.6/site-packages/ipykernel_launcher.py:3: SettingWithCopyWarning: \nA value is trying to be set on a copy of a slice from a DataFrame.\nTry using .loc[row_indexer,col_indexer] = value instead\n\nSee the caveats in the documentation: http://pandas.pydata.org/pandas-docs/stable/indexing.html#indexing-view-versus-copy\n  This is separate from the ipykernel package so we can avoid doing imports until\n/opt/conda/lib/python3.6/site-packages/ipykernel_launcher.py:4: SettingWithCopyWarning: \nA value is trying to be set on a copy of a slice from a DataFrame.\nTry using .loc[row_indexer,col_indexer] = value instead\n\nSee the caveats in the documentation: http://pandas.pydata.org/pandas-docs/stable/indexing.html#indexing-view-versus-copy\n  after removing the cwd from sys.path.\n",
          "name": "stderr"
        }
      ]
    },
    {
      "metadata": {
        "_uuid": "26ca338849eca2443f1d9d89522b2533b115e609",
        "_cell_guid": "0d625bd4-7f63-44ab-985a-e32a8207e9f8",
        "trusted": true
      },
      "cell_type": "code",
      "source": "sf_permits_comb1.head()",
      "execution_count": 37,
      "outputs": [
        {
          "output_type": "execute_result",
          "execution_count": 37,
          "data": {
            "text/plain": "   Zipcode Block  Street Number Street Name  Supervisor District  \\\n0  94102.0  0326            140       Ellis                  3.0   \n1  94102.0  0306            440       Geary                  3.0   \n2  94109.0  0595           1647     Pacific                  3.0   \n3  94109.0  0156           1230     Pacific                  3.0   \n4  94102.0  0342            950      Market                  6.0   \n\n  Neighborhoods - Analysis Boundaries  \\\n0                          Tenderloin   \n1                          Tenderloin   \n2                        Russian Hill   \n3                            Nob Hill   \n4                          Tenderloin   \n\n                                    Location  Location_lat  Location_lon  \n0  (37.785719256680785, -122.40852313194863)     37.785719   -122.408523  \n1   (37.78733980600732, -122.41063199757738)     37.787340   -122.410632  \n2    (37.7946573324287, -122.42232562979227)     37.794657   -122.422326  \n3   (37.79595867909168, -122.41557405519474)     37.795959   -122.415574  \n4   (37.78315261897309, -122.40950883997789)     37.783153   -122.409509  ",
            "text/html": "<div>\n<style scoped>\n    .dataframe tbody tr th:only-of-type {\n        vertical-align: middle;\n    }\n\n    .dataframe tbody tr th {\n        vertical-align: top;\n    }\n\n    .dataframe thead th {\n        text-align: right;\n    }\n</style>\n<table border=\"1\" class=\"dataframe\">\n  <thead>\n    <tr style=\"text-align: right;\">\n      <th></th>\n      <th>Zipcode</th>\n      <th>Block</th>\n      <th>Street Number</th>\n      <th>Street Name</th>\n      <th>Supervisor District</th>\n      <th>Neighborhoods - Analysis Boundaries</th>\n      <th>Location</th>\n      <th>Location_lat</th>\n      <th>Location_lon</th>\n    </tr>\n  </thead>\n  <tbody>\n    <tr>\n      <th>0</th>\n      <td>94102.0</td>\n      <td>0326</td>\n      <td>140</td>\n      <td>Ellis</td>\n      <td>3.0</td>\n      <td>Tenderloin</td>\n      <td>(37.785719256680785, -122.40852313194863)</td>\n      <td>37.785719</td>\n      <td>-122.408523</td>\n    </tr>\n    <tr>\n      <th>1</th>\n      <td>94102.0</td>\n      <td>0306</td>\n      <td>440</td>\n      <td>Geary</td>\n      <td>3.0</td>\n      <td>Tenderloin</td>\n      <td>(37.78733980600732, -122.41063199757738)</td>\n      <td>37.787340</td>\n      <td>-122.410632</td>\n    </tr>\n    <tr>\n      <th>2</th>\n      <td>94109.0</td>\n      <td>0595</td>\n      <td>1647</td>\n      <td>Pacific</td>\n      <td>3.0</td>\n      <td>Russian Hill</td>\n      <td>(37.7946573324287, -122.42232562979227)</td>\n      <td>37.794657</td>\n      <td>-122.422326</td>\n    </tr>\n    <tr>\n      <th>3</th>\n      <td>94109.0</td>\n      <td>0156</td>\n      <td>1230</td>\n      <td>Pacific</td>\n      <td>3.0</td>\n      <td>Nob Hill</td>\n      <td>(37.79595867909168, -122.41557405519474)</td>\n      <td>37.795959</td>\n      <td>-122.415574</td>\n    </tr>\n    <tr>\n      <th>4</th>\n      <td>94102.0</td>\n      <td>0342</td>\n      <td>950</td>\n      <td>Market</td>\n      <td>6.0</td>\n      <td>Tenderloin</td>\n      <td>(37.78315261897309, -122.40950883997789)</td>\n      <td>37.783153</td>\n      <td>-122.409509</td>\n    </tr>\n  </tbody>\n</table>\n</div>"
          },
          "metadata": {}
        }
      ]
    },
    {
      "metadata": {
        "_uuid": "6e9d5e3e2434b1b4062c7f329048001f1b08b1b1",
        "_cell_guid": "8a7aa874-0d7c-40bb-bafb-c46927c2c503",
        "trusted": true
      },
      "cell_type": "code",
      "source": "sf_permits_comb1.groupby('Zipcode')['Location_lat'].apply(lambda x: (x.min(), x.max()))",
      "execution_count": 38,
      "outputs": [
        {
          "output_type": "execute_result",
          "execution_count": 38,
          "data": {
            "text/plain": "Zipcode\n94102.0    (37.769941399353016, 37.788990784523925)\n94103.0      (37.76368837139221, 37.78717550018728)\n94104.0      (37.78824234417909, 37.79386286998276)\n94105.0     (37.78412992064034, 37.794426938897814)\n94107.0       (37.7499504072153, 37.78546640744854)\n94108.0      (37.78608527086759, 37.79595658161159)\n94109.0       (37.78233414512198, 37.8079507836605)\n94110.0    (37.731915229398915, 37.765478778682095)\n94111.0     (37.79157575173518, 37.805288974429395)\n94112.0     (37.708255336721685, 37.73524427149501)\n94114.0     (37.748021195448196, 37.76996415188011)\n94115.0      (37.77712581184931, 37.79462805511952)\n94116.0    (37.734104199116366, 37.754403863800874)\n94117.0     (37.75863403890969, 37.778376052042105)\n94118.0     (37.773153319712996, 37.79175623044793)\n94121.0      (37.7716790861803, 37.789913818009396)\n94122.0     (37.751156191661785, 37.76936858304985)\n94123.0     (37.79314118457848, 37.808167135676854)\n94124.0      (37.71179555128596, 37.75233235041668)\n94127.0     (37.717975661005326, 37.74658294799548)\n94129.0       (37.78945329929856, 37.7989079898552)\n94130.0     (37.81101341055236, 37.825016569295464)\n94131.0      (37.7288621401877, 37.760810536618855)\n94132.0      (37.70829338744119, 37.73747721630373)\n94133.0      (37.79514306665941, 37.80818152191538)\n94134.0       (37.70834648460545, 37.7346068126038)\n94158.0     (37.76535854704127, 37.776327605237896)\nName: Location_lat, dtype: object"
          },
          "metadata": {}
        }
      ]
    },
    {
      "metadata": {
        "trusted": true,
        "_uuid": "8e359910e52920a605890ca995f9cc7c1f60e184"
      },
      "cell_type": "code",
      "source": "sf_permits_comb1.groupby('Zipcode')['Location_lon'].apply(lambda x: (x.min(), x.max()))",
      "execution_count": 42,
      "outputs": [
        {
          "output_type": "execute_result",
          "execution_count": 42,
          "data": {
            "text/plain": "Zipcode\n94102.0    (-122.42939486127128, -122.40652160493985)\n94103.0    (-122.42644345687344, -122.39988508191169)\n94104.0    (-122.40421642472705, -122.39996353368278)\n94105.0    (-122.40300292479948, -122.38846202714295)\n94107.0    (-122.40571639753084, -122.38291633180282)\n94108.0    (-122.41444916593775, -122.40271461928528)\n94109.0    (-122.42971724450427, -122.41200690620953)\n94110.0    (-122.42818680178291, -122.40347873593815)\n94111.0     (-122.40550410447985, -122.3957122738164)\n94112.0    (-122.46602167901833, -122.42038470971377)\n94114.0     (-122.45200765693929, -122.4251960441463)\n94115.0    (-122.44795290507743, -122.42714395493311)\n94116.0    (-122.50788613532515, -122.45911133416057)\n94117.0    (-122.45743995464547, -122.42870929358524)\n94118.0     (-122.4763794575718, -122.44526967802949)\n94121.0     (-122.51093796144954, -122.4758964376656)\n94122.0     (-122.5096028441793, -122.45341403602701)\n94123.0    (-122.44829977787292, -122.42390535767049)\n94124.0    (-122.40747867362799, -122.36587008973495)\n94127.0    (-122.47258378738731, -122.44371324172425)\n94129.0    (-122.48433473478585, -122.46622738066722)\n94130.0    (-122.36979125537985, -122.36585271558224)\n94131.0     (-122.46280628723031, -122.4243901128319)\n94132.0    (-122.50456169677858, -122.46246967218718)\n94133.0    (-122.41903292336157, -122.40205244320944)\n94134.0     (-122.4286638910495, -122.38800282973878)\n94158.0    (-122.39881053437796, -122.38697977817864)\nName: Location_lon, dtype: object"
          },
          "metadata": {}
        }
      ]
    },
    {
      "metadata": {
        "trusted": true,
        "collapsed": true,
        "_uuid": "e8ee81eea6c6a3434003f6eeacb5e8830cd05236"
      },
      "cell_type": "code",
      "source": "",
      "execution_count": null,
      "outputs": []
    },
    {
      "metadata": {
        "_uuid": "2f41a4db53269d5b8bd3fde30fb75f0628f8106f"
      },
      "cell_type": "markdown",
      "source": "#### Boundaries between min-max of location metric can't classifiy unique zipcode\n* We drop the 79 rows that can't be classified as unique zipcode.\n"
    },
    {
      "metadata": {
        "trusted": true,
        "_uuid": "31b3fb169eb5b4dbed8703f17ea9474c2dd58542"
      },
      "cell_type": "code",
      "source": "sf_permits = sf_permits.drop(undecided_indices_filter1)",
      "execution_count": 44,
      "outputs": []
    },
    {
      "metadata": {
        "collapsed": true,
        "_uuid": "a7eb31eecf2dca7220584ee82134ee86ef127f5a",
        "_cell_guid": "facd67ea-051d-49cf-8648-5190263f41b2",
        "trusted": false
      },
      "cell_type": "code",
      "source": "",
      "execution_count": null,
      "outputs": []
    }
  ],
  "metadata": {
    "kernelspec": {
      "display_name": "Python 3",
      "language": "python",
      "name": "python3"
    },
    "language_info": {
      "name": "python",
      "version": "3.6.4",
      "mimetype": "text/x-python",
      "codemirror_mode": {
        "name": "ipython",
        "version": 3
      },
      "pygments_lexer": "ipython3",
      "nbconvert_exporter": "python",
      "file_extension": ".py"
    }
  },
  "nbformat": 4,
  "nbformat_minor": 1
}